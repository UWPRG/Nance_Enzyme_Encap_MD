{
 "cells": [
  {
   "cell_type": "code",
   "execution_count": 1,
   "metadata": {},
   "outputs": [],
   "source": [
    "#import the necessary modules \n",
    "%matplotlib inline \n",
    "import numpy as np \n",
    "import matplotlib.pylab as plt \n",
    "import pandas as pd \n",
    "import scipy\n",
    "import sklearn\n",
    "import itertools \n",
    "from itertools import cycle \n",
    "import os.path as op\n",
    "import timeit \n",
    "\n",
    "\n",
    "# These imports are for creating the percent occupancy heat map \n",
    "import plotly\n",
    "import plotly.plotly as py\n",
    "import plotly.graph_objs as go"
   ]
  },
  {
   "cell_type": "code",
   "execution_count": 2,
   "metadata": {},
   "outputs": [
    {
     "data": {
      "text/plain": [
       "4"
      ]
     },
     "execution_count": 2,
     "metadata": {},
     "output_type": "execute_result"
    }
   ],
   "source": [
    "import multiprocessing as m_proc\n",
    "m_proc.cpu_count()"
   ]
  },
  {
   "cell_type": "markdown",
   "metadata": {},
   "source": [
    "### Now use MD Analysis to calculate no. of frames a center PLGA residues and terminal PLGA residue is with 4 Angstroms of BSA (1.2 nm restrained system)"
   ]
  },
  {
   "cell_type": "markdown",
   "metadata": {},
   "source": [
    "Import MDAnalysis"
   ]
  },
  {
   "cell_type": "code",
   "execution_count": 3,
   "metadata": {},
   "outputs": [],
   "source": [
    "# Import MDAnalysis\n",
    "import MDAnalysis as mda\n",
    "import MDAnalysis.analysis.distances as maa_dist"
   ]
  },
  {
   "cell_type": "markdown",
   "metadata": {},
   "source": [
    "Load the rg = 1.2 nm (3 PLGA N = 20 oligomer/BSA system) "
   ]
  },
  {
   "cell_type": "code",
   "execution_count": 4,
   "metadata": {},
   "outputs": [],
   "source": [
    "# Set up the MD Simulation\n",
    "u_pn20 = mda.Universe(\"../1.2nm_bsa_prod/k4000_plumed/sys_conf.gro\", \"../1.2nm_bsa_prod/k4000_plumed/pp_sys.xtc\")"
   ]
  },
  {
   "cell_type": "code",
   "execution_count": 5,
   "metadata": {},
   "outputs": [
    {
     "data": {
      "text/plain": [
       "<Universe with 10148 atoms>"
      ]
     },
     "execution_count": 5,
     "metadata": {},
     "output_type": "execute_result"
    }
   ],
   "source": [
    "u_pn20"
   ]
  },
  {
   "cell_type": "markdown",
   "metadata": {},
   "source": [
    "Check that we are on the first frame"
   ]
  },
  {
   "cell_type": "code",
   "execution_count": 6,
   "metadata": {},
   "outputs": [
    {
     "data": {
      "text/plain": [
       "0"
      ]
     },
     "execution_count": 6,
     "metadata": {},
     "output_type": "execute_result"
    }
   ],
   "source": [
    "u_pn20.trajectory.frame"
   ]
  },
  {
   "cell_type": "code",
   "execution_count": 7,
   "metadata": {},
   "outputs": [
    {
     "data": {
      "text/plain": [
       "<AtomGroup with 486 atoms>"
      ]
     },
     "execution_count": 7,
     "metadata": {},
     "output_type": "execute_result"
    }
   ],
   "source": [
    "# Select the center PLGA residue atoms, heavy atoms only\n",
    "pn20_cent = u_pn20.select_atoms(\"resname PLG and not type H\")\n",
    "pn20_cent"
   ]
  },
  {
   "cell_type": "code",
   "execution_count": 8,
   "metadata": {},
   "outputs": [
    {
     "data": {
      "text/plain": [
       "<AtomGroup with 57 atoms>"
      ]
     },
     "execution_count": 8,
     "metadata": {},
     "output_type": "execute_result"
    }
   ],
   "source": [
    "# Select the terminal PLGA residues, heavy atoms only \n",
    "pn20_term = u_pn20.select_atoms(\"resname sPLG tPLG and not type H\")\n",
    "pn20_term"
   ]
  },
  {
   "cell_type": "code",
   "execution_count": 9,
   "metadata": {},
   "outputs": [
    {
     "data": {
      "text/plain": [
       "<AtomGroup with 543 atoms>"
      ]
     },
     "execution_count": 9,
     "metadata": {},
     "output_type": "execute_result"
    }
   ],
   "source": [
    "#Select all the PLGA residues, heavy atoms only \n",
    "all_pn20 = u_pn20.select_atoms(\"resname sPLG PLG tPLG and not type H\")\n",
    "all_pn20"
   ]
  },
  {
   "cell_type": "code",
   "execution_count": 10,
   "metadata": {},
   "outputs": [
    {
     "data": {
      "text/plain": [
       "<AtomGroup with 4653 atoms>"
      ]
     },
     "execution_count": 10,
     "metadata": {},
     "output_type": "execute_result"
    }
   ],
   "source": [
    "# Select BSA residues, heavy atoms only \n",
    "prot = u_pn20.select_atoms(\"protein and not type H\")\n",
    "prot"
   ]
  },
  {
   "cell_type": "code",
   "execution_count": 11,
   "metadata": {},
   "outputs": [],
   "source": [
    "# This code chunk gets the BSA residues and their corresponding number in a pandas dataframe \n",
    "\n",
    "red_bsa = []\n",
    "bh = np.arange(0,584)\n",
    "for i in range(583):\n",
    "    b_str = str(list(prot.residues[i:i+1]))\n",
    "    if str(bh[i+1]) in b_str: \n",
    "        red_bsa.append(str(b_str[10:13])+\" \"+str(bh[i+1]))\n",
    "#red_bsa\n",
    "rr = [row[0:3] for row in red_bsa]\n",
    "nores = [row[4:9] for row in red_bsa] \n",
    "d = {'BSA_res_no': nores, 'BSA_res_des': rr}\n",
    "res1_2nm = pd.DataFrame(data=d)\n",
    "#res1_2nm"
   ]
  },
  {
   "cell_type": "code",
   "execution_count": 12,
   "metadata": {},
   "outputs": [],
   "source": [
    "# This code calculates how many atoms are in each residue of BSA and stores it in a dictionary \n",
    "\n",
    "# When saving new keys and their associated values in a dictionary, make sure the key is not the \n",
    "# same as a key that has already been saved. The value that has been saved with the key will be erased and the newest\n",
    "# value will be placed in the dictionary if trying to add new value with the same key into the dict\n",
    "\n",
    "rb_atom = {}\n",
    "for i in range(len(red_bsa)):     \n",
    "    st_r = \"resname \"+str(red_bsa[i][0:3])+\" and resid \"+str(red_bsa[i][4:9])\n",
    "    da = list(prot.select_atoms(st_r))\n",
    "    rb_atom[st_r] = len(da)\n",
    "\n",
    "#rb_atom"
   ]
  },
  {
   "cell_type": "markdown",
   "metadata": {},
   "source": [
    "Visualize BSA contact map with a 8 Angstroms cutoff, Heavy atoms only"
   ]
  },
  {
   "cell_type": "code",
   "execution_count": 13,
   "metadata": {},
   "outputs": [
    {
     "data": {
      "text/plain": [
       "Text(0.5, 1.05, 'BSA Atomic Contact Map: PDB code 4F5S')"
      ]
     },
     "execution_count": 13,
     "metadata": {},
     "output_type": "execute_result"
    },
    {
     "data": {
      "image/png": "[encoded data removed]",
      "text/plain": [
       "<Figure size 720x720 with 2 Axes>"
      ]
     },
     "metadata": {
      "needs_background": "light"
     },
     "output_type": "display_data"
    }
   ],
   "source": [
    "#Length units in MD Analysis is Angstroms, Using 8.5 A cutoff to better visualize atomic contacts\n",
    "bs = maa_dist.contact_matrix(prot.positions,cutoff=7.5,box=u_pn20.dimensions)\n",
    "fig, ax = plt.subplots(figsize=(10,10))\n",
    "l_s = ax.matshow(bs.astype(int), aspect=\"auto\")\n",
    "fig.colorbar(l_s, ax=ax)\n",
    "ax.set_title('BSA Atomic Contact Map: PDB code 4F5S')"
   ]
  },
  {
   "cell_type": "markdown",
   "metadata": {},
   "source": [
    "### First table will be total fractional contacts and oligomer occupancy values for each Rg value "
   ]
  },
  {
   "cell_type": "markdown",
   "metadata": {},
   "source": [
    "#### Distance-based analysis \n",
    "\n",
    "Find residues that have at least one atom within a cutoff $d = 4.0$ Angstrom near PLGA residues in 1.2 nm\n",
    "\n",
    "Calculate the number of surface bsa residues from a 1 ns BSA/water simulation"
   ]
  },
  {
   "cell_type": "code",
   "execution_count": 14,
   "metadata": {},
   "outputs": [],
   "source": [
    "#Units of Angstroms \n",
    "dmax = 4.0 "
   ]
  },
  {
   "cell_type": "code",
   "execution_count": null,
   "metadata": {},
   "outputs": [],
   "source": [
    "exp_bsa_atoms = np.any(dij_tri <= dmax, axis=1)\n",
    "\n",
    "# Boolean arrays must be of the same shape as the initial dimensions of the array being indexed.\n",
    "# In the most straightforward case, the boolean array has the same shape\n",
    "# Unlike in the case of integer index arrays, in the boolean case,\n",
    "# the result is a 1-D array containing all the elements in the indexed array corresponding\n",
    "#       to all the true elements in the boolean array.\n",
    "\n",
    "bres_wit_dmax = prot[exp_bsa_atoms].residues"
   ]
  },
  {
   "cell_type": "code",
   "execution_count": 15,
   "metadata": {},
   "outputs": [],
   "source": [
    "## Define a function that does this, Courtesy of MDAnalysis tutorial \n",
    "def get_residues_dist(prot_atoms, g2_atoms, dmax, universe):\n",
    "    \"\"\"Find all protein residues for which atoms that are within dmax\"\"\"\n",
    "    ro = len(prot_atoms)\n",
    "    cl = len(g2_atoms)\n",
    "    dij_tri = np.zeros(shape=(ro,cl))\n",
    "    dij_tri = maa_dist.distance_array(prot_atoms.positions, g2_atoms.positions, box=universe.trajectory.ts.dimensions)\n",
    "    exp_prot_atoms = np.any(dij_tri <= dmax, axis=1)\n",
    "    mk = list(prot_atoms[exp_prot_atoms].residues)\n",
    "    return mk"
   ]
  },
  {
   "cell_type": "code",
   "execution_count": 16,
   "metadata": {},
   "outputs": [],
   "source": [
    "# Define a function that outputs a dictionary of AA protein number and frame counts, where \n",
    "# the inputs will be number of frames, universe, prot and group 2 atom group, and dmax \n",
    "# Write function that takes a no of total frames, protein atom positions and group 2 atoms positions \n",
    "# and gives a dictionary of protein AA as keys and frame count as values \n",
    "\n",
    "def aa_frmcount(prot_atoms, g2_atoms, dmax, universe, frames):\n",
    "    \"\"\"This function will output a dictionary of AA protein number and its corresponding frame count\"\"\"\n",
    "    \n",
    "    aa_dict = {}\n",
    "    \n",
    "    for ts in universe.trajectory[0:frames]: \n",
    "        count = 0\n",
    "        bsres = get_residues_dist(prot_atoms, g2_atoms, dmax, universe)\n",
    "        laa = list(prot_atoms.residues)\n",
    "    \n",
    "        if bool(bsres) == False: \n",
    "            pass\n",
    "        elif bool(bsres) != False: \n",
    "            count += 1\n",
    "            for i in range(len(bsres)):\n",
    "                for j in range(len(laa)): \n",
    "                    if laa[j] == bsres[i]:\n",
    "                        if bool(aa_dict) == False:\n",
    "                            aa_dict[laa[j]] = count \n",
    "                        elif bool(aa_dict) != False: \n",
    "                            b = list(aa_dict.keys())\n",
    "                            if laa[j] in b: \n",
    "                                nw = int(aa_dict[laa[j]]) + count\n",
    "                                aa_dict[laa[j]] = nw\n",
    "                            elif laa[j] not in b:\n",
    "                                aa_dict[laa[j]] = count\n",
    "    \n",
    "    gg_new = {str(key):value for key,value in aa_dict.items()}\n",
    "    \n",
    "    return gg_new \n"
   ]
  },
  {
   "cell_type": "code",
   "execution_count": null,
   "metadata": {},
   "outputs": [],
   "source": [
    "def AA_list_org(lorg_list):\n",
    "    \n",
    "    hydrophobic_res = ['ALA', 'ILE', 'LEU', 'VAL', 'GLY', 'PRO','PHE', 'TRP','MET']\n",
    "    polar_res = ['ASN', 'CYS', 'GLN', 'SER', 'THR','TYR']\n",
    "    neg_res = ['ASP', 'GLU']\n",
    "    pos_res = ['ARG', 'HIS', 'LYS']\n",
    "\n",
    "    all_res = [pos_res, neg_res, polar_res, hydrophobic_res]\n",
    "    #Change order of residues before making the bar graph\n",
    "    # (1) Positively charged\n",
    "    # (2) Negatively charged\n",
    "    # (3) Polar residues \n",
    "    # (4) Hydrophobic residues \n",
    "    \n",
    "    # This chunk of code sorts the counts of each AA that have 1001 or 1002 frame count based \n",
    "    # on the AA order in all_res\n",
    "    arr_list = []\n",
    "\n",
    "    for row in all_res:\n",
    "        for i in range(len(lorg_list)):\n",
    "            for j in range(len(row)):\n",
    "                if row[j] == lorg_list[i][0:3]:\n",
    "                    arr_list.append(lorg_list[i])\n",
    "                    \n",
    "    #This chunk of code splits the list arr_list to makes the AA: count of 1001 or 1002 frames data plottable \n",
    "    f_list = []\n",
    "    fn_list = []\n",
    "    for i in range(len(arr_list)):\n",
    "        f_list.append(arr_list[i][0:3])\n",
    "        fn_list.append(int(arr_list[i][5:7]))\n",
    "        \n",
    "    return f_list, fn_list"
   ]
  },
  {
   "cell_type": "code",
   "execution_count": 18,
   "metadata": {},
   "outputs": [
    {
     "data": {
      "text/html": [
       "<div>\n",
       "<style scoped>\n",
       "    .dataframe tbody tr th:only-of-type {\n",
       "        vertical-align: middle;\n",
       "    }\n",
       "\n",
       "    .dataframe tbody tr th {\n",
       "        vertical-align: top;\n",
       "    }\n",
       "\n",
       "    .dataframe thead th {\n",
       "        text-align: right;\n",
       "    }\n",
       "</style>\n",
       "<table border=\"1\" class=\"dataframe\">\n",
       "  <thead>\n",
       "    <tr style=\"text-align: right;\">\n",
       "      <th></th>\n",
       "      <th>BSA_des_res</th>\n",
       "      <th>No. of frames (VMD)</th>\n",
       "    </tr>\n",
       "  </thead>\n",
       "  <tbody>\n",
       "    <tr>\n",
       "      <th>0</th>\n",
       "      <td>&lt;Residue ASP, 1&gt;</td>\n",
       "      <td>1002</td>\n",
       "    </tr>\n",
       "    <tr>\n",
       "      <th>1</th>\n",
       "      <td>&lt;Residue THR, 2&gt;</td>\n",
       "      <td>1002</td>\n",
       "    </tr>\n",
       "    <tr>\n",
       "      <th>2</th>\n",
       "      <td>&lt;Residue HIS, 3&gt;</td>\n",
       "      <td>1002</td>\n",
       "    </tr>\n",
       "    <tr>\n",
       "      <th>3</th>\n",
       "      <td>&lt;Residue LYS, 4&gt;</td>\n",
       "      <td>1002</td>\n",
       "    </tr>\n",
       "    <tr>\n",
       "      <th>4</th>\n",
       "      <td>&lt;Residue SER, 5&gt;</td>\n",
       "      <td>1002</td>\n",
       "    </tr>\n",
       "  </tbody>\n",
       "</table>\n",
       "</div>"
      ],
      "text/plain": [
       "        BSA_des_res  No. of frames (VMD)\n",
       "0  <Residue ASP, 1>                 1002\n",
       "1  <Residue THR, 2>                 1002\n",
       "2  <Residue HIS, 3>                 1002\n",
       "3  <Residue LYS, 4>                 1002\n",
       "4  <Residue SER, 5>                 1002"
      ]
     },
     "execution_count": 18,
     "metadata": {},
     "output_type": "execute_result"
    }
   ],
   "source": [
    "# Read in data from the oputput of wrapper.sh, where the frame count is given for each BSA residue that was within \n",
    "# 4 angstroms of PLGA trimer \n",
    "wat_data = pd.read_csv('occ_BSA1ns.txt', sep=\" \", header=None, usecols=None ,index_col=None)\n",
    "wat_data.columns = [\"BSA_res_no\",\"No. of frames (VMD)\"]\n",
    "wat_data = wat_data.drop(\"BSA_res_no\", axis=1)\n",
    "wat_data['BSA_des_res'] = list(prot.residues)\n",
    "wat_data = wat_data[['BSA_des_res',\"No. of frames (VMD)\"]]\n",
    "wat_data.head()"
   ]
  },
  {
   "cell_type": "markdown",
   "metadata": {},
   "source": [
    "Now load BSA/water trajectory to compare the frame counts values from VMD "
   ]
  },
  {
   "cell_type": "code",
   "execution_count": 19,
   "metadata": {},
   "outputs": [],
   "source": [
    "# Load universe of the BSA/water simulation\n",
    "bsa_wat = mda.Universe(\"../bsa_analysis/tout_local/confout.gro\", \"../bsa_analysis/tout_local/traj_comp.xtc\")"
   ]
  },
  {
   "cell_type": "code",
   "execution_count": 20,
   "metadata": {},
   "outputs": [
    {
     "data": {
      "text/plain": [
       "<Universe with 138239 atoms>"
      ]
     },
     "execution_count": 20,
     "metadata": {},
     "output_type": "execute_result"
    }
   ],
   "source": [
    "# Check Universe \n",
    "bsa_wat"
   ]
  },
  {
   "cell_type": "code",
   "execution_count": 26,
   "metadata": {
    "scrolled": true
   },
   "outputs": [],
   "source": [
    "# Check Trajectory Length \n",
    "bstrj = len(bsa_wat.trajectory)"
   ]
  },
  {
   "cell_type": "code",
   "execution_count": 22,
   "metadata": {},
   "outputs": [],
   "source": [
    "# Load protein atoms, heavy atoms only \n",
    "wb_prot = bsa_wat.select_atoms(\"protein\")"
   ]
  },
  {
   "cell_type": "code",
   "execution_count": 23,
   "metadata": {},
   "outputs": [
    {
     "data": {
      "text/plain": [
       "<AtomGroup with 9220 atoms>"
      ]
     },
     "execution_count": 23,
     "metadata": {},
     "output_type": "execute_result"
    }
   ],
   "source": [
    "wb_prot"
   ]
  },
  {
   "cell_type": "code",
   "execution_count": 24,
   "metadata": {},
   "outputs": [],
   "source": [
    "# Load water atoms\n",
    "hto_atms = bsa_wat.select_atoms(\"resname SOL\")"
   ]
  },
  {
   "cell_type": "code",
   "execution_count": 25,
   "metadata": {},
   "outputs": [
    {
     "data": {
      "text/plain": [
       "<AtomGroup with 129003 atoms>"
      ]
     },
     "execution_count": 25,
     "metadata": {},
     "output_type": "execute_result"
    }
   ],
   "source": [
    "hto_atms"
   ]
  },
  {
   "cell_type": "code",
   "execution_count": 27,
   "metadata": {},
   "outputs": [],
   "source": [
    "# Create dictionary of BSA residues and frame count, DO NOT EXECUTE, WILL TAKE TOO LONG WITH SOL GROUP > 100K ATOMS\n",
    "#h2ob_dict = aa_frmcount(wb_prot, hto_atms, dmax, bsa_wat, bstrj)"
   ]
  },
  {
   "cell_type": "code",
   "execution_count": 33,
   "metadata": {},
   "outputs": [],
   "source": [
    "# Change this cell to load in save dictionary text file into pandas dataframe \n",
    "import json\n",
    "\n",
    "with open('MDA_BSA1ns.txt', 'w') as file:\n",
    "     file.write(json.dumps(gg_new))"
   ]
  },
  {
   "cell_type": "code",
   "execution_count": 36,
   "metadata": {},
   "outputs": [
    {
     "data": {
      "text/html": [
       "<div>\n",
       "<style scoped>\n",
       "    .dataframe tbody tr th:only-of-type {\n",
       "        vertical-align: middle;\n",
       "    }\n",
       "\n",
       "    .dataframe tbody tr th {\n",
       "        vertical-align: top;\n",
       "    }\n",
       "\n",
       "    .dataframe thead th {\n",
       "        text-align: right;\n",
       "    }\n",
       "</style>\n",
       "<table border=\"1\" class=\"dataframe\">\n",
       "  <thead>\n",
       "    <tr style=\"text-align: right;\">\n",
       "      <th></th>\n",
       "      <th>BSA_des_res</th>\n",
       "      <th>No. of frames (VMD)</th>\n",
       "      <th>Mda_frames</th>\n",
       "    </tr>\n",
       "  </thead>\n",
       "  <tbody>\n",
       "    <tr>\n",
       "      <th>0</th>\n",
       "      <td>&lt;Residue ASP, 1&gt;</td>\n",
       "      <td>1002</td>\n",
       "      <td>1001</td>\n",
       "    </tr>\n",
       "    <tr>\n",
       "      <th>1</th>\n",
       "      <td>&lt;Residue THR, 2&gt;</td>\n",
       "      <td>1002</td>\n",
       "      <td>1001</td>\n",
       "    </tr>\n",
       "    <tr>\n",
       "      <th>2</th>\n",
       "      <td>&lt;Residue HIS, 3&gt;</td>\n",
       "      <td>1002</td>\n",
       "      <td>1001</td>\n",
       "    </tr>\n",
       "    <tr>\n",
       "      <th>3</th>\n",
       "      <td>&lt;Residue LYS, 4&gt;</td>\n",
       "      <td>1002</td>\n",
       "      <td>1001</td>\n",
       "    </tr>\n",
       "    <tr>\n",
       "      <th>4</th>\n",
       "      <td>&lt;Residue SER, 5&gt;</td>\n",
       "      <td>1002</td>\n",
       "      <td>1001</td>\n",
       "    </tr>\n",
       "  </tbody>\n",
       "</table>\n",
       "</div>"
      ],
      "text/plain": [
       "        BSA_des_res  No. of frames (VMD)  Mda_frames\n",
       "0  <Residue ASP, 1>                 1002        1001\n",
       "1  <Residue THR, 2>                 1002        1001\n",
       "2  <Residue HIS, 3>                 1002        1001\n",
       "3  <Residue LYS, 4>                 1002        1001\n",
       "4  <Residue SER, 5>                 1002        1001"
      ]
     },
     "execution_count": 36,
     "metadata": {},
     "output_type": "execute_result"
    }
   ],
   "source": [
    "wat_data['Mda_frames'] = wat_data['BSA_des_res'].map(h2ob_dict)\n",
    "wat_data.head()\n",
    "# Need to ask about whether 900 frames or greater still works for surface residue requirement "
   ]
  },
  {
   "cell_type": "code",
   "execution_count": null,
   "metadata": {},
   "outputs": [],
   "source": [
    "# Check if there are non matching values between the VMD and MDAnalysis values \n",
    "for index, row in wat_data.iterrows():\n",
    "    if \n",
    "    elif row[\"No. of frames (VMD)\"] == row[\"Mda_frames\"]: \n",
    "        print(wat_data.loc[index])\n",
    "        \n",
    "# Only 24 BSA AA residue frame count match those calculated from vmd "
   ]
  },
  {
   "cell_type": "code",
   "execution_count": 34,
   "metadata": {},
   "outputs": [],
   "source": [
    "a_a = [\"GLY\",\"ALA\",\"VAL\",\"LEU\",\"ILE\",\"MET\",\"PHE\",\"TRP\",\"PRO\",\"SER\",\"THR\",\"CYS\",\"TYR\",\"ASN\",\"GLN\",\"ASP\"\n",
    "               ,\"GLU\",\"LYS\",\"ARG\",\"HIS\"]"
   ]
  },
  {
   "cell_type": "code",
   "execution_count": 49,
   "metadata": {},
   "outputs": [
    {
     "data": {
      "text/plain": [
       "MDAnalysis.core.groups.Residue"
      ]
     },
     "execution_count": 49,
     "metadata": {},
     "output_type": "execute_result"
    }
   ],
   "source": [
    "type(wat_data[\"BSA_des_res\"].loc[0])"
   ]
  },
  {
   "cell_type": "code",
   "execution_count": 62,
   "metadata": {},
   "outputs": [
    {
     "data": {
      "text/html": [
       "<div>\n",
       "<style scoped>\n",
       "    .dataframe tbody tr th:only-of-type {\n",
       "        vertical-align: middle;\n",
       "    }\n",
       "\n",
       "    .dataframe tbody tr th {\n",
       "        vertical-align: top;\n",
       "    }\n",
       "\n",
       "    .dataframe thead th {\n",
       "        text-align: right;\n",
       "    }\n",
       "</style>\n",
       "<table border=\"1\" class=\"dataframe\">\n",
       "  <thead>\n",
       "    <tr style=\"text-align: right;\">\n",
       "      <th></th>\n",
       "      <th>BSA_des_res</th>\n",
       "      <th>No. of frames (VMD)</th>\n",
       "      <th>Mda_frames</th>\n",
       "    </tr>\n",
       "  </thead>\n",
       "  <tbody>\n",
       "    <tr>\n",
       "      <th>578</th>\n",
       "      <td>GLN 579</td>\n",
       "      <td>1002</td>\n",
       "      <td>1001</td>\n",
       "    </tr>\n",
       "    <tr>\n",
       "      <th>579</th>\n",
       "      <td>THR 580</td>\n",
       "      <td>1002</td>\n",
       "      <td>1001</td>\n",
       "    </tr>\n",
       "    <tr>\n",
       "      <th>580</th>\n",
       "      <td>ALA 581</td>\n",
       "      <td>1002</td>\n",
       "      <td>1001</td>\n",
       "    </tr>\n",
       "    <tr>\n",
       "      <th>581</th>\n",
       "      <td>LEU 582</td>\n",
       "      <td>1002</td>\n",
       "      <td>1001</td>\n",
       "    </tr>\n",
       "    <tr>\n",
       "      <th>582</th>\n",
       "      <td>ALA 583</td>\n",
       "      <td>0</td>\n",
       "      <td>1001</td>\n",
       "    </tr>\n",
       "  </tbody>\n",
       "</table>\n",
       "</div>"
      ],
      "text/plain": [
       "    BSA_des_res  No. of frames (VMD)  Mda_frames\n",
       "578     GLN 579                 1002        1001\n",
       "579     THR 580                 1002        1001\n",
       "580     ALA 581                 1002        1001\n",
       "581     LEU 582                 1002        1001\n",
       "582     ALA 583                    0        1001"
      ]
     },
     "execution_count": 62,
     "metadata": {},
     "output_type": "execute_result"
    }
   ],
   "source": [
    "wat_data[\"BSA_des_res\"] = red_bsa\n",
    "wat_data.tail()"
   ]
  },
  {
   "cell_type": "code",
   "execution_count": 64,
   "metadata": {},
   "outputs": [
    {
     "data": {
      "text/plain": [
       "BSA_des_res            ILE 181\n",
       "No. of frames (VMD)       1001\n",
       "Mda_frames                1000\n",
       "Name: 180, dtype: object"
      ]
     },
     "execution_count": 64,
     "metadata": {},
     "output_type": "execute_result"
    }
   ],
   "source": [
    "wat_data.loc[180]"
   ]
  },
  {
   "cell_type": "code",
   "execution_count": 70,
   "metadata": {},
   "outputs": [],
   "source": [
    "# From MD Analysis\n",
    "#Get the count of bsa residues that have 1001 or 1002 frames ( I ran a 1 ns NPT simulation of 1 BSA in water )\n",
    "\n",
    "#aa_count = pd.DataFrame(data=a_a)\n",
    "c_list = []\n",
    "\n",
    "for i in range(len(a_a)):\n",
    "    count = 0\n",
    "    for index, row in wat_data.iterrows():\n",
    "        if a_a[i] in row[\"BSA_des_res\"]:\n",
    "            if row['Mda_frames'] == 1001: \n",
    "                count += 1\n",
    "                #c_list.append(str(str(a_a[i])+\"  \"+str(row['No. of frames']))) \n",
    "            elif row['Mda_frames'] == 1000:\n",
    "                count += 1\n",
    "                #c_list.append(str(str(a_a[i])+\"  \"+str(row['No. of frames'])))\n",
    "    c_list.append(str(str(a_a[i])+\"  \"+str(count)))\n",
    "    \n",
    "#c_list"
   ]
  },
  {
   "cell_type": "code",
   "execution_count": 71,
   "metadata": {},
   "outputs": [],
   "source": [
    "# From VMD\n",
    "#Get the count of bsa residues that have 1001 or 1002 frames ( I ran a 1 ns NPT simulation of 1 BSA in water )\n",
    "\n",
    "#aa_count = pd.DataFrame(data=a_a)\n",
    "vmd_list = []\n",
    "\n",
    "for i in range(len(a_a)):\n",
    "    count = 0\n",
    "    for index, row in wat_data.iterrows():\n",
    "        if a_a[i] in row[\"BSA_des_res\"]:\n",
    "            if row[\"No. of frames (VMD)\"] == 1001: \n",
    "                count += 1\n",
    "                #c_list.append(str(str(a_a[i])+\"  \"+str(row['No. of frames']))) \n",
    "            elif row[\"No. of frames (VMD)\"] == 1002:\n",
    "                count += 1\n",
    "                #c_list.append(str(str(a_a[i])+\"  \"+str(row['No. of frames'])))\n",
    "    vmd_list.append(str(str(a_a[i])+\"  \"+str(count)))\n",
    "\n",
    "# Main difference is that Alanine 583 is counted for all 1001 frames. It seems VMD is able to calc dist for that res\n",
    "#vmd_list"
   ]
  },
  {
   "cell_type": "code",
   "execution_count": 80,
   "metadata": {},
   "outputs": [
    {
     "data": {
      "text/html": [
       "<div>\n",
       "<style scoped>\n",
       "    .dataframe tbody tr th:only-of-type {\n",
       "        vertical-align: middle;\n",
       "    }\n",
       "\n",
       "    .dataframe tbody tr th {\n",
       "        vertical-align: top;\n",
       "    }\n",
       "\n",
       "    .dataframe thead th {\n",
       "        text-align: right;\n",
       "    }\n",
       "</style>\n",
       "<table border=\"1\" class=\"dataframe\">\n",
       "  <thead>\n",
       "    <tr style=\"text-align: right;\">\n",
       "      <th></th>\n",
       "      <th>Amino_acids</th>\n",
       "      <th>No_of_surf_res (MDAnalysis)</th>\n",
       "      <th>No_of_surf_res (VMD)</th>\n",
       "    </tr>\n",
       "  </thead>\n",
       "  <tbody>\n",
       "    <tr>\n",
       "      <th>0</th>\n",
       "      <td>LYS</td>\n",
       "      <td>59</td>\n",
       "      <td>59</td>\n",
       "    </tr>\n",
       "    <tr>\n",
       "      <th>1</th>\n",
       "      <td>ARG</td>\n",
       "      <td>23</td>\n",
       "      <td>23</td>\n",
       "    </tr>\n",
       "    <tr>\n",
       "      <th>2</th>\n",
       "      <td>HIS</td>\n",
       "      <td>16</td>\n",
       "      <td>16</td>\n",
       "    </tr>\n",
       "    <tr>\n",
       "      <th>3</th>\n",
       "      <td>ASP</td>\n",
       "      <td>40</td>\n",
       "      <td>40</td>\n",
       "    </tr>\n",
       "    <tr>\n",
       "      <th>4</th>\n",
       "      <td>GLU</td>\n",
       "      <td>59</td>\n",
       "      <td>59</td>\n",
       "    </tr>\n",
       "    <tr>\n",
       "      <th>5</th>\n",
       "      <td>SER</td>\n",
       "      <td>23</td>\n",
       "      <td>23</td>\n",
       "    </tr>\n",
       "    <tr>\n",
       "      <th>6</th>\n",
       "      <td>THR</td>\n",
       "      <td>29</td>\n",
       "      <td>29</td>\n",
       "    </tr>\n",
       "    <tr>\n",
       "      <th>7</th>\n",
       "      <td>CYS</td>\n",
       "      <td>24</td>\n",
       "      <td>24</td>\n",
       "    </tr>\n",
       "    <tr>\n",
       "      <th>8</th>\n",
       "      <td>TYR</td>\n",
       "      <td>19</td>\n",
       "      <td>19</td>\n",
       "    </tr>\n",
       "    <tr>\n",
       "      <th>9</th>\n",
       "      <td>ASN</td>\n",
       "      <td>14</td>\n",
       "      <td>14</td>\n",
       "    </tr>\n",
       "    <tr>\n",
       "      <th>10</th>\n",
       "      <td>GLN</td>\n",
       "      <td>19</td>\n",
       "      <td>19</td>\n",
       "    </tr>\n",
       "    <tr>\n",
       "      <th>11</th>\n",
       "      <td>GLY</td>\n",
       "      <td>11</td>\n",
       "      <td>11</td>\n",
       "    </tr>\n",
       "    <tr>\n",
       "      <th>12</th>\n",
       "      <td>ALA</td>\n",
       "      <td>39</td>\n",
       "      <td>38</td>\n",
       "    </tr>\n",
       "    <tr>\n",
       "      <th>13</th>\n",
       "      <td>VAL</td>\n",
       "      <td>19</td>\n",
       "      <td>19</td>\n",
       "    </tr>\n",
       "    <tr>\n",
       "      <th>14</th>\n",
       "      <td>LEU</td>\n",
       "      <td>34</td>\n",
       "      <td>34</td>\n",
       "    </tr>\n",
       "    <tr>\n",
       "      <th>15</th>\n",
       "      <td>ILE</td>\n",
       "      <td>7</td>\n",
       "      <td>7</td>\n",
       "    </tr>\n",
       "    <tr>\n",
       "      <th>16</th>\n",
       "      <td>MET</td>\n",
       "      <td>3</td>\n",
       "      <td>3</td>\n",
       "    </tr>\n",
       "    <tr>\n",
       "      <th>17</th>\n",
       "      <td>PHE</td>\n",
       "      <td>20</td>\n",
       "      <td>20</td>\n",
       "    </tr>\n",
       "    <tr>\n",
       "      <th>18</th>\n",
       "      <td>TRP</td>\n",
       "      <td>2</td>\n",
       "      <td>2</td>\n",
       "    </tr>\n",
       "    <tr>\n",
       "      <th>19</th>\n",
       "      <td>PRO</td>\n",
       "      <td>27</td>\n",
       "      <td>27</td>\n",
       "    </tr>\n",
       "  </tbody>\n",
       "</table>\n",
       "</div>"
      ],
      "text/plain": [
       "   Amino_acids  No_of_surf_res (MDAnalysis)  No_of_surf_res (VMD)\n",
       "0          LYS                           59                    59\n",
       "1          ARG                           23                    23\n",
       "2          HIS                           16                    16\n",
       "3          ASP                           40                    40\n",
       "4          GLU                           59                    59\n",
       "5          SER                           23                    23\n",
       "6          THR                           29                    29\n",
       "7          CYS                           24                    24\n",
       "8          TYR                           19                    19\n",
       "9          ASN                           14                    14\n",
       "10         GLN                           19                    19\n",
       "11         GLY                           11                    11\n",
       "12         ALA                           39                    38\n",
       "13         VAL                           19                    19\n",
       "14         LEU                           34                    34\n",
       "15         ILE                            7                     7\n",
       "16         MET                            3                     3\n",
       "17         PHE                           20                    20\n",
       "18         TRP                            2                     2\n",
       "19         PRO                           27                    27"
      ]
     },
     "execution_count": 80,
     "metadata": {},
     "output_type": "execute_result"
    }
   ],
   "source": [
    "# Put the AA count in a pandas dataframe \n",
    "dg , ji = AA_list_org(c_list)\n",
    "aa_count = pd.DataFrame(data=dg, index=None, columns=['Amino_acids'])\n",
    "new_lf = pd.Series(data=ji, index=None)\n",
    "vmg, vmdj = AA_list_org(vmd_list)\n",
    "n2lf = pd.Series(data=vmdj, index=None)\n",
    "aa_count['No_of_surf_res (MDAnalysis)'] = new_lf\n",
    "aa_count['No_of_surf_res (VMD)'] = n2lf\n",
    "aa_count"
   ]
  },
  {
   "cell_type": "code",
   "execution_count": null,
   "metadata": {},
   "outputs": [],
   "source": [
    "#plotting \n",
    "#Change order of residues before making the bar graph\n",
    "# (!) Positively charged\n",
    "# (2) Negatively charged\n",
    "# (3) Polar residues \n",
    "# (4) Hydrophobic residues \n",
    "x = np.arange(20)\n",
    "leg = ['Positively Charged', 'Negatively Charged', 'Polar', 'Hydrophobic']\n",
    "plt.figure(figsize=(10,8))\n",
    "plt.bar(x[0:3], aa_count['No. of surf. res.'][0:3], color='blue')\n",
    "plt.bar(x[3:5], aa_count['No. of surf. res.'][3:5], color='red')\n",
    "plt.bar(x[5:11], aa_count['No. of surf. res.'][5:11], color='magenta')\n",
    "plt.bar(x[11:20], aa_count['No. of surf. res.'][11:20], color='cyan')\n",
    "plt.xticks(x,aa_count['Amino_acids'])\n",
    "plt.legend(leg)"
   ]
  },
  {
   "cell_type": "markdown",
   "metadata": {},
   "source": [
    "### Now to finally calculate total fraction of contacts for 1.2 nm Rg trajectory "
   ]
  },
  {
   "cell_type": "markdown",
   "metadata": {},
   "source": [
    "Load the rg = 1.2 nm (3 PLGA N = 20 oligomer/BSA system) "
   ]
  },
  {
   "cell_type": "code",
   "execution_count": null,
   "metadata": {},
   "outputs": [],
   "source": [
    "apl_list = []\n",
    "\n",
    "# Some residues don't have any contact with PLGA trimers within 25 ns, put residues that do have contact with BSA in a separate list\n",
    "for index, r_pl in pl_25ns_data.iterrows():\n",
    "    if r_pl['No_of_frames(PLGA trimer)'] != 0:\n",
    "        apl_list.append(r_pl['BSA_res_des_order'])\n",
    "\n",
    "        \n",
    "# This chunk of code gets an AA count from the above list, in order to get a total number of residues that contact BSA\n",
    "cpl_l = []\n",
    "\n",
    "for index, r_a in aa_count.iterrows():\n",
    "    count = 0\n",
    "    for i in range(len(apl_list)):\n",
    "        if apl_list[i] == r_a['Amino_acids']:\n",
    "            count += 1\n",
    "    cpl_l.append(count)      \n",
    "        \n",
    "aa_count['PLGA_trimer_25ns_SR'] = cpl_l\n",
    "aa_count"
   ]
  },
  {
   "cell_type": "code",
   "execution_count": null,
   "metadata": {},
   "outputs": [],
   "source": [
    "# This gives the total number of residues that are within 4 angstroms of PLGA trimers within a 25 ns block. \n",
    "# All other residues were not within 4 A over the course of the 25 ns trajectory block \n",
    "aa_count['PLGA_trimer_25ns_SR'].sum()"
   ]
  },
  {
   "cell_type": "code",
   "execution_count": null,
   "metadata": {},
   "outputs": [],
   "source": [
    "# This gives the total number of residues that are within 4 angstroms of a water molecule within a 1 ns trajectory block\n",
    "aa_count['No. of surf. res.'].sum()"
   ]
  },
  {
   "cell_type": "markdown",
   "metadata": {},
   "source": [
    "Write a function that calculates the average total fraction of contacts and average occupancy (No of residues contacted by PLGA oilgs/total no of surface residues) and their standard deviations for a given number of trajectory blocks "
   ]
  },
  {
   "cell_type": "code",
   "execution_count": null,
   "metadata": {},
   "outputs": [],
   "source": []
  },
  {
   "cell_type": "code",
   "execution_count": null,
   "metadata": {},
   "outputs": [],
   "source": []
  },
  {
   "cell_type": "code",
   "execution_count": null,
   "metadata": {},
   "outputs": [],
   "source": []
  },
  {
   "cell_type": "code",
   "execution_count": null,
   "metadata": {},
   "outputs": [],
   "source": []
  },
  {
   "cell_type": "markdown",
   "metadata": {},
   "source": [
    "Write function that takes frame count and AA protein residue list (or dictionary) and gives \n",
    "\n",
    "1) AA count of residues that are in contact with polymer (1 output file) \n",
    "2) frame count, type of contact, normalized contact, and fractional contacts (1 output file) "
   ]
  },
  {
   "cell_type": "code",
   "execution_count": null,
   "metadata": {},
   "outputs": [],
   "source": []
  },
  {
   "cell_type": "code",
   "execution_count": null,
   "metadata": {},
   "outputs": [],
   "source": []
  }
 ],
 "metadata": {
  "kernelspec": {
   "display_name": "Python 3",
   "language": "python",
   "name": "python3"
  },
  "language_info": {
   "codemirror_mode": {
    "name": "ipython",
    "version": 3
   },
   "file_extension": ".py",
   "mimetype": "text/x-python",
   "name": "python",
   "nbconvert_exporter": "python",
   "pygments_lexer": "ipython3",
   "version": "3.6.8"
  }
 },
 "nbformat": 4,
 "nbformat_minor": 2
}
