{
 "cells": [
  {
   "cell_type": "code",
   "execution_count": null,
   "metadata": {},
   "outputs": [],
   "source": [
    "#import the necessary modules \n",
    "%matplotlib inline \n",
    "import numpy as np \n",
    "import matplotlib.pyplot as plt \n",
    "import pandas as pd \n",
    "import scipy\n",
    "import sklearn\n",
    "import itertools \n",
    "from itertools import cycle \n",
    "import os.path as op\n",
    "import timeit \n",
    "import json\n",
    "import math\n"
   ]
  },
  {
   "cell_type": "code",
   "execution_count": null,
   "metadata": {},
   "outputs": [],
   "source": [
    "import multiprocessing as m_proc\n",
    "m_proc.cpu_count()"
   ]
  },
  {
   "cell_type": "code",
   "execution_count": null,
   "metadata": {},
   "outputs": [],
   "source": [
    "# Import MDAnalysis\n",
    "import MDAnalysis as mda\n",
    "import statsmodels as stats"
   ]
  },
  {
   "cell_type": "markdown",
   "metadata": {},
   "source": [
    "## PLGA-PEG/acetone only systems"
   ]
  },
  {
   "cell_type": "code",
   "execution_count": null,
   "metadata": {},
   "outputs": [],
   "source": [
    "n_plgapeg = np.array([6,8,10,16,20,30])"
   ]
  },
  {
   "cell_type": "code",
   "execution_count": null,
   "metadata": {},
   "outputs": [],
   "source": [
    "# Load dataframe from pickled pandas object\n",
    "rgace_nplgapeg = pd.read_pickle(\"plga_peg_ace/PLGAPEG_ace_Rg.pkl\")\n",
    "rgace_nplgapeg = rgace_nplgapeg.rename(columns={r\"$R_{g}$ [Angstrom] N = 30 PEG DMSO \": r\"$R_{g}$ [Angstrom] N = 30 PLGA-PEG acetone\"})\n",
    "rgace_nplgapeg"
   ]
  },
  {
   "cell_type": "code",
   "execution_count": null,
   "metadata": {},
   "outputs": [],
   "source": [
    "lpace_plgapeg = pd.read_pickle(\"plga_peg_ace/PLGAPEG_ace_Lp.pkl\")\n",
    "lpace_plgapeg = lpace_plgapeg.rename(columns={r\"$L_{p}$ [Angstrom] N = 30 PEG DMSO \": r\"$L_{p}$ [Angstrom] N = 30 PLGA-PEG acetone\"})\n",
    "lpace_plgapeg"
   ]
  },
  {
   "cell_type": "code",
   "execution_count": null,
   "metadata": {},
   "outputs": [],
   "source": [
    "lpace_plgapeg[r\"$L_{p}$ [Angstrom] N = 6 PLGA-PEG acetone\"]"
   ]
  },
  {
   "cell_type": "code",
   "execution_count": null,
   "metadata": {},
   "outputs": [],
   "source": [
    "lpace_avgplgapeg = np.array([np.mean(lpace_plgapeg[r\"$L_{p}$ [Angstrom] N = 6 PLGA-PEG acetone\"])\n",
    "                      ,np.mean(lpace_plgapeg[r\"$L_{p}$ [Angstrom] N = 8 PLGA-PEG acetone\"])\n",
    "                     ,np.mean(lpace_plgapeg[r\"$L_{p}$ [Angstrom] N = 10 PLGA-PEG acetone\"])\n",
    "                    ,np.mean(lpace_plgapeg[r\"$L_{p}$ [Angstrom] N = 16 PLGA-PEG acetone\"])\n",
    "                     ,np.mean(lpace_plgapeg[r\"$L_{p}$ [Angstrom] N = 20 PLGA-PEG acetone\"])\n",
    "                     ,np.mean(lpace_plgapeg[r\"$L_{p}$ [Angstrom] N = 30 PLGA-PEG acetone\"])])\n",
    "lpace_avgplgapeg"
   ]
  },
  {
   "cell_type": "code",
   "execution_count": null,
   "metadata": {},
   "outputs": [],
   "source": [
    "np.mean(lpace_avgplgapeg)"
   ]
  },
  {
   "cell_type": "code",
   "execution_count": null,
   "metadata": {},
   "outputs": [],
   "source": [
    "np.std(lpace_avgplgapeg)"
   ]
  },
  {
   "cell_type": "code",
   "execution_count": null,
   "metadata": {},
   "outputs": [],
   "source": [
    "rgace_nplgapeg[r\"$R_{g}$ [Angstrom] N = 30 PLGA-PEG acetone\"]"
   ]
  },
  {
   "cell_type": "code",
   "execution_count": null,
   "metadata": {},
   "outputs": [],
   "source": [
    "rgace_npavgplgapeg = np.array([np.mean(rgace_nplgapeg[r\"$R_{g}$ [Angstrom] N = 6 PLGA-PEG acetone\"])\n",
    "                      ,np.mean(rgace_nplgapeg[r\"$R_{g}$ [Angstrom] N = 8 PLGA-PEG acetone\"])\n",
    "                     ,np.mean(rgace_nplgapeg[r\"$R_{g}$ [Angstrom] N = 10 PLGA-PEG acetone\"])\n",
    "                    ,np.mean(rgace_nplgapeg[r\"$R_{g}$ [Angstrom] N = 16 PLGA-PEG acetone\"])\n",
    "                     ,np.mean(rgace_nplgapeg[r\"$R_{g}$ [Angstrom] N = 20 PLGA-PEG acetone\"])\n",
    "                     ,np.mean(rgace_nplgapeg[r\"$R_{g}$ [Angstrom] N = 30 PLGA-PEG acetone\"])])\n",
    "rgace_npavgplgapeg"
   ]
  },
  {
   "cell_type": "code",
   "execution_count": null,
   "metadata": {},
   "outputs": [],
   "source": [
    "rgace_stdplgapeg = np.array([np.std(np.log10(rgace_nplgapeg[r\"$R_{g}$ [Angstrom] N = 6 PLGA-PEG acetone\"]))\n",
    "                      ,np.std(np.log10(rgace_nplgapeg[r\"$R_{g}$ [Angstrom] N = 8 PLGA-PEG acetone\"]))\n",
    "                     ,np.std(np.log10(rgace_nplgapeg[r\"$R_{g}$ [Angstrom] N = 10 PLGA-PEG acetone\"]))\n",
    "                    ,np.std(np.log10(rgace_nplgapeg[r\"$R_{g}$ [Angstrom] N = 16 PLGA-PEG acetone\"]))\n",
    "                     ,np.std(np.log10(rgace_nplgapeg[r\"$R_{g}$ [Angstrom] N = 20 PLGA-PEG acetone\"]))\n",
    "                     ,np.std(np.log10(rgace_nplgapeg[r\"$R_{g}$ [Angstrom] N = 30 PLGA-PEG acetone\"]))])\n",
    "rgace_stdplgapeg"
   ]
  },
  {
   "cell_type": "code",
   "execution_count": null,
   "metadata": {},
   "outputs": [],
   "source": [
    "np.log10(n_plgapeg)"
   ]
  },
  {
   "cell_type": "code",
   "execution_count": null,
   "metadata": {},
   "outputs": [],
   "source": [
    "# From fitting all points, I get best fit \n",
    "from sklearn.linear_model import LinearRegression\n",
    "model_vppace = LinearRegression(fit_intercept=True)\n",
    "model_vppace.fit(np.log10(n_plgapeg).reshape(-1,1), np.log10(rgace_npavgplgapeg))\n",
    "# Slope here is in nanometers\n",
    "print(\"Model slope:    \", model_vppace.coef_[0])\n",
    "print(\"Model intercept:\", model_vppace.intercept_)"
   ]
  },
  {
   "cell_type": "code",
   "execution_count": null,
   "metadata": {},
   "outputs": [],
   "source": [
    "gg_pace = model_vppace.predict(np.log10(n_plgapeg.reshape(-1,1)))\n",
    "gg_pace"
   ]
  },
  {
   "cell_type": "code",
   "execution_count": null,
   "metadata": {},
   "outputs": [],
   "source": [
    "# Residuals between the true y data and model y data \n",
    "resid_vppace = np.log10(rgace_npavgplgapeg) - gg_pace\n",
    "resid_vppace"
   ]
  },
  {
   "cell_type": "code",
   "execution_count": null,
   "metadata": {},
   "outputs": [],
   "source": [
    "# How to calculate mean squared error, N - 1 is dof \n",
    "mse_vppace = np.sum(resid_vppace**2)/(len(resid_vppace) - 1)\n",
    "mse_vppace"
   ]
  },
  {
   "cell_type": "code",
   "execution_count": null,
   "metadata": {},
   "outputs": [],
   "source": [
    "print(\"R2 score:\", sklearn.metrics.r2_score(np.log10(rgace_npavgplgapeg), gg_pace))"
   ]
  },
  {
   "cell_type": "code",
   "execution_count": null,
   "metadata": {},
   "outputs": [],
   "source": [
    "# How to calculate Sum((Xi - avg(X))^2): X values are the bond length values \n",
    "nt_ttppace = np.log10(n_plgapeg)\n",
    "nt_ttppace -= np.mean(nt_ttppace)\n",
    "nhui_ppace = nt_ttppace**2\n",
    "np.sum(nhui_ppace)"
   ]
  },
  {
   "cell_type": "code",
   "execution_count": null,
   "metadata": {},
   "outputs": [],
   "source": [
    "# How to calculate Sxy\n",
    "hg_vppace = np.log10(rgace_npavgplgapeg) - np.mean(np.log10(rgace_npavgplgapeg))\n",
    "ata_vppace = np.sum(hg_vppace*(np.log10(n_plgapeg) - np.mean(np.log10(n_plgapeg))))\n",
    "ata_vppace"
   ]
  },
  {
   "cell_type": "code",
   "execution_count": null,
   "metadata": {},
   "outputs": [],
   "source": [
    "# Test statistic, t0\n",
    "(ata_vppace/np.sum(nhui_ppace))/np.sqrt(mse_vppace/(np.sum(nhui_ppace)))"
   ]
  },
  {
   "cell_type": "code",
   "execution_count": null,
   "metadata": {},
   "outputs": [],
   "source": [
    "# t-value with 95 % confidence intervals \n",
    "scipy.stats.t.ppf(0.95, len(resid_vppace)-1)"
   ]
  },
  {
   "cell_type": "code",
   "execution_count": null,
   "metadata": {},
   "outputs": [],
   "source": [
    "# How to calculate 95% confidence interval for the slope \n",
    "flc_vppace = scipy.stats.t.ppf(0.95, len(resid_vppace)-1)*np.sqrt(mse_vppace/(np.sum(nhui_ppace)))\n",
    "flc_vppace"
   ]
  },
  {
   "cell_type": "markdown",
   "metadata": {},
   "source": [
    "## PLGA-PEG/DMSO only systems"
   ]
  },
  {
   "cell_type": "code",
   "execution_count": null,
   "metadata": {},
   "outputs": [],
   "source": [
    "# Load dataframe from pickled pandas object\n",
    "rgdmso_nplgapeg = pd.read_pickle(\"plga_peg_dmso/PLGAPEG_dmso_Rg.pkl\")\n",
    "rgdmso_nplgapeg = rgdmso_nplgapeg.rename(columns={r\"$R_{g}$ [Angstrom] N = 30 PEG DMSO \": r\"$R_{g}$ [Angstrom] N = 30 PLGA-PEG DMSO\"})\n",
    "rgdmso_nplgapeg"
   ]
  },
  {
   "cell_type": "code",
   "execution_count": null,
   "metadata": {},
   "outputs": [],
   "source": [
    "lpdmso_plgapeg = pd.read_pickle(\"plga_peg_dmso/PLGAPEG_dmso_Lp.pkl\")\n",
    "lpdmso_plgapeg = lpdmso_plgapeg.rename(columns={r\"$L_{p}$ [Angstrom] N = 30 PEG DMSO \": r\"$L_{p}$ [Angstrom] N = 30 PLGA-PEG DMSO\"})\n",
    "lpdmso_plgapeg"
   ]
  },
  {
   "cell_type": "code",
   "execution_count": null,
   "metadata": {},
   "outputs": [],
   "source": [
    "lpdmso_plgapeg[r\"$L_{p}$ [Angstrom] N = 6 PLGA-PEG DMSO\"]"
   ]
  },
  {
   "cell_type": "code",
   "execution_count": null,
   "metadata": {},
   "outputs": [],
   "source": [
    "lpdmso_avgplgapeg = np.array([np.mean(lpdmso_plgapeg[r\"$L_{p}$ [Angstrom] N = 6 PLGA-PEG DMSO\"])\n",
    "                      ,np.mean(lpdmso_plgapeg[r\"$L_{p}$ [Angstrom] N = 8 PLGA-PEG DMSO\"])\n",
    "                     ,np.mean(lpdmso_plgapeg[r\"$L_{p}$ [Angstrom] N = 10 PLGA-PEG DMSO\"])\n",
    "                    ,np.mean(lpdmso_plgapeg[r\"$L_{p}$ [Angstrom] N = 16 PLGA-PEG DMSO\"])\n",
    "                     ,np.mean(lpdmso_plgapeg[r\"$L_{p}$ [Angstrom] N = 20 PLGA-PEG DMSO\"])\n",
    "                     ,np.mean(lpdmso_plgapeg[r\"$L_{p}$ [Angstrom] N = 30 PLGA-PEG DMSO\"])])\n",
    "lpdmso_avgplgapeg"
   ]
  },
  {
   "cell_type": "code",
   "execution_count": null,
   "metadata": {},
   "outputs": [],
   "source": [
    "np.mean(lpdmso_avgplgapeg)"
   ]
  },
  {
   "cell_type": "code",
   "execution_count": null,
   "metadata": {},
   "outputs": [],
   "source": [
    "np.std(lpdmso_avgplgapeg)"
   ]
  },
  {
   "cell_type": "code",
   "execution_count": null,
   "metadata": {},
   "outputs": [],
   "source": [
    "rgdmso_nplgapeg[r\"$R_{g}$ [Angstrom] N = 30 PLGA-PEG DMSO\"]"
   ]
  },
  {
   "cell_type": "code",
   "execution_count": null,
   "metadata": {},
   "outputs": [],
   "source": [
    "rgdmso_npavgplgapeg = np.array([np.mean(rgdmso_nplgapeg[r\"$R_{g}$ [Angstrom] N = 6 PLGA-PEG DMSO\"])\n",
    "                      ,np.mean(rgdmso_nplgapeg[r\"$R_{g}$ [Angstrom] N = 8 PLGA-PEG DMSO\"])\n",
    "                     ,np.mean(rgdmso_nplgapeg[r\"$R_{g}$ [Angstrom] N = 10 PLGA-PEG DMSO\"])\n",
    "                    ,np.mean(rgdmso_nplgapeg[r\"$R_{g}$ [Angstrom] N = 16 PLGA-PEG DMSO\"])\n",
    "                     ,np.mean(rgdmso_nplgapeg[r\"$R_{g}$ [Angstrom] N = 20 PLGA-PEG DMSO\"])\n",
    "                     ,np.mean(rgdmso_nplgapeg[r\"$R_{g}$ [Angstrom] N = 30 PLGA-PEG DMSO\"])])\n",
    "rgdmso_npavgplgapeg"
   ]
  },
  {
   "cell_type": "code",
   "execution_count": null,
   "metadata": {},
   "outputs": [],
   "source": [
    "rgdmso_stdplgapeg = np.array([np.std(np.log10(rgdmso_nplgapeg[r\"$R_{g}$ [Angstrom] N = 6 PLGA-PEG DMSO\"]))\n",
    "                      ,np.std(np.log10(rgdmso_nplgapeg[r\"$R_{g}$ [Angstrom] N = 8 PLGA-PEG DMSO\"]))\n",
    "                     ,np.std(np.log10(rgdmso_nplgapeg[r\"$R_{g}$ [Angstrom] N = 10 PLGA-PEG DMSO\"]))\n",
    "                    ,np.std(np.log10(rgdmso_nplgapeg[r\"$R_{g}$ [Angstrom] N = 16 PLGA-PEG DMSO\"]))\n",
    "                     ,np.std(np.log10(rgdmso_nplgapeg[r\"$R_{g}$ [Angstrom] N = 20 PLGA-PEG DMSO\"]))\n",
    "                     ,np.std(np.log10(rgdmso_nplgapeg[r\"$R_{g}$ [Angstrom] N = 30 PLGA-PEG DMSO\"]))])\n",
    "rgdmso_stdplgapeg"
   ]
  },
  {
   "cell_type": "code",
   "execution_count": null,
   "metadata": {},
   "outputs": [],
   "source": [
    "np.log10(n_plgapeg)"
   ]
  },
  {
   "cell_type": "code",
   "execution_count": null,
   "metadata": {},
   "outputs": [],
   "source": [
    "# From fitting all points, I get best fit \n",
    "from sklearn.linear_model import LinearRegression\n",
    "model_vppdmso = LinearRegression(fit_intercept=True)\n",
    "model_vppdmso.fit(np.log10(n_plgapeg).reshape(-1,1), np.log10(rgdmso_npavgplgapeg))\n",
    "# Slope here is in nanometers\n",
    "print(\"Model slope:    \", model_vppdmso.coef_[0])\n",
    "print(\"Model intercept:\", model_vppdmso.intercept_)"
   ]
  },
  {
   "cell_type": "code",
   "execution_count": null,
   "metadata": {},
   "outputs": [],
   "source": [
    "gg_pdmso = model_vppdmso.predict(np.log10(n_plgapeg.reshape(-1,1)))\n",
    "gg_pdmso"
   ]
  },
  {
   "cell_type": "code",
   "execution_count": null,
   "metadata": {},
   "outputs": [],
   "source": [
    "# Residuals between the true y data and model y data \n",
    "resid_vppdmso = np.log10(rgdmso_npavgplgapeg) - gg_pdmso\n",
    "resid_vppdmso"
   ]
  },
  {
   "cell_type": "code",
   "execution_count": null,
   "metadata": {},
   "outputs": [],
   "source": [
    "# How to calculate mean squared error, N - 1 is dof \n",
    "mse_vppdmso = np.sum(resid_vppdmso**2)/(len(resid_vppdmso) - 1)\n",
    "mse_vppdmso"
   ]
  },
  {
   "cell_type": "code",
   "execution_count": null,
   "metadata": {},
   "outputs": [],
   "source": [
    "print(\"R2 score:\", sklearn.metrics.r2_score(np.log10(rgdmso_npavgplgapeg), gg_pdmso))"
   ]
  },
  {
   "cell_type": "code",
   "execution_count": null,
   "metadata": {},
   "outputs": [],
   "source": [
    "# How to calculate Sum((Xi - avg(X))^2): X values are the bond length values \n",
    "nt_ttppdmso = np.log10(n_plgapeg)\n",
    "nt_ttppdmso -= np.mean(nt_ttppdmso)\n",
    "nhui_ppdmso = nt_ttppdmso**2\n",
    "np.sum(nhui_ppdmso)"
   ]
  },
  {
   "cell_type": "code",
   "execution_count": null,
   "metadata": {},
   "outputs": [],
   "source": [
    "# How to calculate Sxy\n",
    "hg_vppdmso = np.log10(rgdmso_npavgplgapeg) - np.mean(np.log10(rgdmso_npavgplgapeg))\n",
    "ata_vppdmso = np.sum(hg_vppdmso*(np.log10(n_plgapeg) - np.mean(np.log10(n_plgapeg))))\n",
    "ata_vppdmso"
   ]
  },
  {
   "cell_type": "code",
   "execution_count": null,
   "metadata": {},
   "outputs": [],
   "source": [
    "# Test statistic, t0\n",
    "(ata_vppdmso/np.sum(nhui_ppdmso))/np.sqrt(mse_vppdmso/(np.sum(nhui_ppdmso)))"
   ]
  },
  {
   "cell_type": "code",
   "execution_count": null,
   "metadata": {},
   "outputs": [],
   "source": [
    "# t-value with 95 % confidence intervals \n",
    "scipy.stats.t.ppf(0.95, len(resid_vppdmso)-1)"
   ]
  },
  {
   "cell_type": "code",
   "execution_count": null,
   "metadata": {},
   "outputs": [],
   "source": [
    "# How to calculate 95% confidence interval for the slope \n",
    "flc_vppdmso = scipy.stats.t.ppf(0.95, len(resid_vppdmso)-1)*np.sqrt(mse_vppdmso/(np.sum(nhui_ppdmso)))\n",
    "flc_vppdmso"
   ]
  },
  {
   "cell_type": "markdown",
   "metadata": {},
   "source": [
    "## PLGA-PEG/water only systems"
   ]
  },
  {
   "cell_type": "code",
   "execution_count": null,
   "metadata": {},
   "outputs": [],
   "source": [
    "# Load dataframe from pickled pandas object\n",
    "rgwat_nplgapeg = pd.read_pickle(\"plga_peg_wat/PLGAPEG_wat_Rg.pkl\")\n",
    "rgwat_nplgapeg = rgwat_nplgapeg.rename(columns={r\"$R_{g}$ [Angstrom] N = 30 PEG DMSO \": r\"$R_{g}$ [Angstrom] N = 30 PLGA-PEG water\"})\n",
    "rgwat_nplgapeg"
   ]
  },
  {
   "cell_type": "code",
   "execution_count": null,
   "metadata": {},
   "outputs": [],
   "source": [
    "lpwat_plgapeg = pd.read_pickle(\"plga_peg_wat/PLGAPEG_wat_Lp.pkl\")\n",
    "lpwat_plgapeg = lpwat_plgapeg.rename(columns={r\"$L_{p}$ [Angstrom] N = 30 PEG DMSO \": r\"$L_{p}$ [Angstrom] N = 30 PLGA-PEG water\"})\n",
    "lpwat_plgapeg"
   ]
  },
  {
   "cell_type": "code",
   "execution_count": null,
   "metadata": {},
   "outputs": [],
   "source": [
    "lpwat_plgapeg[r\"$L_{p}$ [Angstrom] N = 6 PLGA-PEG water\"]"
   ]
  },
  {
   "cell_type": "code",
   "execution_count": null,
   "metadata": {},
   "outputs": [],
   "source": [
    "lpwat_avgplgapeg = np.array([np.mean(lpwat_plgapeg[r\"$L_{p}$ [Angstrom] N = 6 PLGA-PEG water\"])\n",
    "                      ,np.mean(lpwat_plgapeg[r\"$L_{p}$ [Angstrom] N = 8 PLGA-PEG water\"])\n",
    "                     ,np.mean(lpwat_plgapeg[r\"$L_{p}$ [Angstrom] N = 10 PLGA-PEG water\"])\n",
    "                    ,np.mean(lpwat_plgapeg[r\"$L_{p}$ [Angstrom] N = 16 PLGA-PEG water\"])\n",
    "                     ,np.mean(lpwat_plgapeg[r\"$L_{p}$ [Angstrom] N = 20 PLGA-PEG water\"])\n",
    "                     ,np.mean(lpwat_plgapeg[r\"$L_{p}$ [Angstrom] N = 30 PLGA-PEG water\"])])\n",
    "lpwat_avgplgapeg"
   ]
  },
  {
   "cell_type": "code",
   "execution_count": null,
   "metadata": {},
   "outputs": [],
   "source": [
    "np.mean(lpwat_avgplgapeg)"
   ]
  },
  {
   "cell_type": "code",
   "execution_count": null,
   "metadata": {},
   "outputs": [],
   "source": [
    "np.std(lpwat_avgplgapeg)"
   ]
  },
  {
   "cell_type": "code",
   "execution_count": null,
   "metadata": {},
   "outputs": [],
   "source": [
    "rgwat_nplgapeg[r\"$R_{g}$ [Angstrom] N = 30 PLGA-PEG water\"]"
   ]
  },
  {
   "cell_type": "markdown",
   "metadata": {},
   "source": [
    "### Fluory Exponents"
   ]
  },
  {
   "cell_type": "code",
   "execution_count": null,
   "metadata": {},
   "outputs": [],
   "source": [
    "rgwat_npavgplgapeg = np.array([np.mean(rgwat_nplgapeg[r\"$R_{g}$ [Angstrom] N = 6 PLGA-PEG water\"])\n",
    "                      ,np.mean(rgwat_nplgapeg[r\"$R_{g}$ [Angstrom] N = 8 PLGA-PEG water\"])\n",
    "                     ,np.mean(rgwat_nplgapeg[r\"$R_{g}$ [Angstrom] N = 10 PLGA-PEG water\"])\n",
    "                    ,np.mean(rgwat_nplgapeg[r\"$R_{g}$ [Angstrom] N = 16 PLGA-PEG water\"])\n",
    "                     ,np.mean(rgwat_nplgapeg[r\"$R_{g}$ [Angstrom] N = 20 PLGA-PEG water\"])\n",
    "                     ,np.mean(rgwat_nplgapeg[r\"$R_{g}$ [Angstrom] N = 30 PLGA-PEG water\"])])\n",
    "rgwat_npavgplgapeg"
   ]
  },
  {
   "cell_type": "code",
   "execution_count": null,
   "metadata": {},
   "outputs": [],
   "source": [
    "rgwat_stdplgapeg = np.array([np.std(np.log10(rgwat_nplgapeg[r\"$R_{g}$ [Angstrom] N = 6 PLGA-PEG water\"]))\n",
    "                      ,np.std(np.log10(rgwat_nplgapeg[r\"$R_{g}$ [Angstrom] N = 8 PLGA-PEG water\"]))\n",
    "                     ,np.std(np.log10(rgwat_nplgapeg[r\"$R_{g}$ [Angstrom] N = 10 PLGA-PEG water\"]))\n",
    "                    ,np.std(np.log10(rgwat_nplgapeg[r\"$R_{g}$ [Angstrom] N = 16 PLGA-PEG water\"]))\n",
    "                     ,np.std(np.log10(rgwat_nplgapeg[r\"$R_{g}$ [Angstrom] N = 20 PLGA-PEG water\"]))\n",
    "                     ,np.std(np.log10(rgwat_nplgapeg[r\"$R_{g}$ [Angstrom] N = 30 PLGA-PEG water\"]))])\n",
    "rgwat_stdplgapeg"
   ]
  },
  {
   "cell_type": "code",
   "execution_count": null,
   "metadata": {},
   "outputs": [],
   "source": [
    "np.log10(n_plgapeg)"
   ]
  },
  {
   "cell_type": "code",
   "execution_count": null,
   "metadata": {},
   "outputs": [],
   "source": [
    "# From fitting all points, I get best fit \n",
    "from sklearn.linear_model import LinearRegression\n",
    "model_vppwat = LinearRegression(fit_intercept=True)\n",
    "model_vppwat.fit(np.log10(n_plgapeg).reshape(-1,1), np.log10(rgwat_npavgplgapeg))\n",
    "# Slope here is in nanometers\n",
    "print(\"Model slope:    \", model_vppwat.coef_[0])\n",
    "print(\"Model intercept:\", model_vppwat.intercept_)"
   ]
  },
  {
   "cell_type": "code",
   "execution_count": null,
   "metadata": {},
   "outputs": [],
   "source": [
    "gg_pwat = model_vppwat.predict(np.log10(n_plgapeg.reshape(-1,1)))\n",
    "gg_pwat"
   ]
  },
  {
   "cell_type": "code",
   "execution_count": null,
   "metadata": {},
   "outputs": [],
   "source": [
    "# Residuals between the true y data and model y data \n",
    "resid_vppwat = np.log10(rgwat_npavgplgapeg) - gg_pwat\n",
    "resid_vppwat"
   ]
  },
  {
   "cell_type": "code",
   "execution_count": null,
   "metadata": {},
   "outputs": [],
   "source": [
    "# How to calculate mean squared error, N - 1 is dof \n",
    "mse_vppwat = np.sum(resid_vppwat**2)/(len(resid_vppwat) - 1)\n",
    "mse_vppwat"
   ]
  },
  {
   "cell_type": "code",
   "execution_count": null,
   "metadata": {},
   "outputs": [],
   "source": [
    "print(\"R2 score:\", sklearn.metrics.r2_score(np.log10(rgwat_npavgplgapeg), gg_pwat))"
   ]
  },
  {
   "cell_type": "code",
   "execution_count": null,
   "metadata": {},
   "outputs": [],
   "source": [
    "# How to calculate Sum((Xi - avg(X))^2): X values are the bond length values \n",
    "nt_ttppwat = np.log10(n_plgapeg)\n",
    "nt_ttppwat -= np.mean(nt_ttppwat)\n",
    "nhui_ppwat = nt_ttppwat**2\n",
    "np.sum(nhui_ppwat)"
   ]
  },
  {
   "cell_type": "code",
   "execution_count": null,
   "metadata": {},
   "outputs": [],
   "source": [
    "# How to calculate Sxy\n",
    "hg_vppwat = np.log10(rgwat_npavgplgapeg) - np.mean(np.log10(rgwat_npavgplgapeg))\n",
    "ata_vppwat = np.sum(hg_vppwat*(np.log10(n_plgapeg) - np.mean(np.log10(n_plgapeg))))\n",
    "ata_vppwat"
   ]
  },
  {
   "cell_type": "code",
   "execution_count": null,
   "metadata": {},
   "outputs": [],
   "source": [
    "# Test statistic, t0\n",
    "(ata_vppwat/np.sum(nhui_ppwat))/np.sqrt(mse_vppwat/(np.sum(nhui_ppwat)))"
   ]
  },
  {
   "cell_type": "code",
   "execution_count": null,
   "metadata": {},
   "outputs": [],
   "source": [
    "# t-value with 95 % confidence intervals \n",
    "scipy.stats.t.ppf(0.95, len(resid_vppwat)-1)"
   ]
  },
  {
   "cell_type": "code",
   "execution_count": null,
   "metadata": {},
   "outputs": [],
   "source": [
    "# How to calculate 95% confidence interval for the slope \n",
    "flc_vppwat= scipy.stats.t.ppf(0.95, len(resid_vppwat)-1)*np.sqrt(mse_vppwat/(np.sum(nhui_ppwat)))\n",
    "flc_vppwat"
   ]
  },
  {
   "cell_type": "code",
   "execution_count": null,
   "metadata": {},
   "outputs": [],
   "source": [
    "fig, ax = plt.subplots(figsize=(7,7))\n",
    "\n",
    "#plt.figure(figsize=(7,7))\n",
    "ax.errorbar(np.log10(n_plgapeg), np.log10(rgace_npavgplgapeg), yerr=rgace_stdplgapeg, color='#0371EC', linestyle=\"None\",marker='o',\n",
    "     capsize=5, capthick=1, ecolor='black')\n",
    "ax.errorbar(np.log10(n_plgapeg), np.log10(rgdmso_npavgplgapeg), yerr=rgdmso_stdplgapeg, color='#418D2B', linestyle=\"None\",marker='o',\n",
    "     capsize=5, capthick=1, ecolor='black')\n",
    "#plt.errorbar(np.log10(n_plgapeg), np.log10(rgawmix_npavgplgapeg), yerr=rgawmix_stdplgapeg, color='#562A8B', linestyle=\"None\",marker='o',\n",
    "#     capsize=5, capthick=1, ecolor='black')\n",
    "ax.errorbar(np.log10(n_plgapeg), np.log10(rgwat_npavgplgapeg), yerr=rgwat_stdplgapeg, color='#6E563A', linestyle=\"None\",marker='o',\n",
    "     capsize=5, capthick=1, ecolor='black')\n",
    "\n",
    "ax.plot(np.log10(n_plgapeg), gg_pace, color='#0371EC')\n",
    "ax.plot(np.log10(n_plgapeg), gg_pdmso, color='#418D2B')\n",
    "#plt.plot(np.log10(n_plgapeg), gg_pawmix, color='#562A8B')\n",
    "ax.plot(np.log10(n_plgapeg), gg_pwat, color='#6E563A')\n",
    "\n",
    "arfont = {'fontname':'Arial'}\n",
    "#hfont = {'fontname':'Helvetica'}\n",
    "\n",
    "\n",
    "ax.set_title(r'Fluory Exponent', fontsize=16, **arfont)\n",
    "ax.set_xlabel(r'Log($N_{PLGA-PEG}$)', fontsize=16, **arfont)\n",
    "ax.set_ylabel(r'Log($R_{g}$)', fontsize=16, **arfont)\n",
    "ax.set_xlim(0.7,1.6)\n",
    "ax.set_ylim(0.65,1.6)\n",
    "for axis in ['top','bottom','left','right']:\n",
    "    ax.spines[axis].set_linewidth(2)\n",
    "\n",
    "ax.xaxis.set_tick_params(labelsize=14, width=2)\n",
    "ax.yaxis.set_tick_params(labelsize=14, width=2)\n",
    "ax.text(0.8, 1.35, r'$v_{acetone}$ = 0.52 ± 0.075, $R^{2}$ = 0.98', fontsize=16, color='#0371EC', **arfont)\n",
    "ax.text(0.8, 1.31, r'$v_{DMSO}$ = 0.61 ± 0.010, $R^{2}$ = 0.99', fontsize=16, color='#418D2B', **arfont)\n",
    "#plt.text(0.9, 1.23, r'$v_{acet-water}$ = 0.30 ± 0.16', fontsize=15, color='#562A8B', **arfont')\n",
    "ax.text(0.8, 1.27, r'$v_{water}$ = 0.40 ± 0.032, $R^{2}$ = 0.99', fontsize=16, color='#6E563A', **arfont)\n",
    "\n",
    "plt.show()"
   ]
  },
  {
   "cell_type": "markdown",
   "metadata": {},
   "source": [
    "### Mean sq. e2e/Mean sq. Rg vs contour length "
   ]
  },
  {
   "cell_type": "code",
   "execution_count": null,
   "metadata": {},
   "outputs": [],
   "source": [
    "re2e_rgsq_plgapegwat = np.load('plga_peg_wat/PLGA-PEGwat_msRee_msRg.npy', allow_pickle=True)\n",
    "re2e_rgsq_plgapegace = np.load('plga_peg_ace/PLGA-PEGace_msRee_msRg.npy', allow_pickle=True)\n",
    "re2e_rgsq_plgapegdmso = np.load('plga_peg_dmso/PLGA-PEGdmso_msRee_msRg.npy', allow_pickle=True)"
   ]
  },
  {
   "cell_type": "code",
   "execution_count": null,
   "metadata": {},
   "outputs": [],
   "source": [
    "fig, ax = plt.subplots(figsize=(7,7))\n",
    "ax.errorbar(re2e_rgsq_plgapegdmso[1]/10, re2e_rgsq_plgapegwat[0], yerr=re2e_rgsq_plgapegwat[2]/np.sqrt(5), color='slateblue', linestyle=\"solid\",marker='o',\n",
    "     capsize=5, capthick=1, ecolor='black')\n",
    "ax.errorbar(re2e_rgsq_plgapegdmso[1]/10, re2e_rgsq_plgapegace[0], yerr=re2e_rgsq_plgapegace[2]/np.sqrt(5), color='darkslategrey', linestyle=\"dashed\",marker='v',\n",
    "     capsize=5, capthick=1, ecolor='black')\n",
    "ax.errorbar(re2e_rgsq_plgapegdmso[1]/10, re2e_rgsq_plgapegdmso[0], yerr=re2e_rgsq_plgapegdmso[2]/np.sqrt(5), color='orangered', linestyle=\"dashdot\",marker='^',\n",
    "     capsize=5, capthick=1, ecolor='black')\n",
    "#plt.title('Mean sq. Ree/Mean sq. Rg', fontsize=15, y=1.01)\n",
    "ax.set_xlabel(r'Contour Length, $L_{c}$ [nm]', fontsize=16, **arfont)\n",
    "ax.set_ylabel(r'$\\left<R_{ee}^{2}\\right>/\\left<R_{g}^{2}\\right>$', fontsize=16,  **arfont)\n",
    "ax.legend(['PLGA-PEG water','PLGA-PEG acetone','PLGA-PEG DMSO'], frameon=False, fontsize=14)\n",
    "ax.axhline(y=6, linewidth=1, color='b',ls='--')\n",
    "ax.xaxis.set_tick_params(labelsize=14, width=2)\n",
    "ax.yaxis.set_tick_params(labelsize=14, width=2)\n",
    "for axis in ['top','bottom','left','right']:\n",
    "    ax.spines[axis].set_linewidth(2)\n",
    "ax.set_xlim(1,15)\n",
    "ax.set_ylim(2,10)"
   ]
  },
  {
   "cell_type": "markdown",
   "metadata": {},
   "source": [
    "### Rg/Rh vs contour length "
   ]
  },
  {
   "cell_type": "code",
   "execution_count": null,
   "metadata": {},
   "outputs": [],
   "source": [
    "rhy_rg_plgapegwat = np.load('plga_peg_wat/PLGAPEGwater_RgRh_Lc.npy', allow_pickle=True)\n",
    "rhy_rg_plgapegace = np.load('plga_peg_ace/PLGAPEGacetone_RgRh_Lc.npy', allow_pickle=True)\n",
    "rhy_rg_plgapegdmso = np.load('plga_peg_dmso/PLGAPEGdmso_RgRh_Lc.npy', allow_pickle=True)"
   ]
  },
  {
   "cell_type": "code",
   "execution_count": null,
   "metadata": {},
   "outputs": [],
   "source": [
    "fig, ax = plt.subplots(figsize=(7,7))\n",
    "ax.errorbar(rhy_rg_plgapegdmso[1]/10, rhy_rg_plgapegwat[0], yerr=rhy_rg_plgapegwat[2]/np.sqrt(5), color='slateblue', linestyle=\"solid\",\n",
    "             marker='o', capsize=5, capthick=1, ecolor='black')\n",
    "ax.errorbar(rhy_rg_plgapegdmso[1]/10, rhy_rg_plgapegace[0], yerr=rhy_rg_plgapegace[2]/np.sqrt(5), color='darkslategrey', linestyle=\"dashed\",\n",
    "             marker='v', capsize=5, capthick=1, ecolor='black')\n",
    "ax.errorbar(rhy_rg_plgapegdmso[1]/10, rhy_rg_plgapegdmso[0], yerr=rhy_rg_plgapegdmso[2]/np.sqrt(5), color='orangered', linestyle=\"dashdot\",\n",
    "             marker='^', capsize=5, capthick=1, ecolor='black')\n",
    "#plt.title(r'Rg/Rh PLGA-PEG water', fontsize=15, y=1.01)\n",
    "ax.set_xlabel(r'Contour Length, $L_{c}$ [nm]', fontsize=16,  **arfont)\n",
    "ax.set_ylabel(r'$\\left<R_{g}\\right>/\\left<R_{hyd}\\right>$', fontsize=16,  **arfont)\n",
    "ax.legend(['PLGA-PEG water','PLGA-PEG acetone','PLGA-PEG DMSO'], frameon=False, fontsize=14)\n",
    "ax.set_xlim(1,15)\n",
    "ax.set_ylim(0.3,0.8)\n",
    "ax.xaxis.set_tick_params(labelsize=14, width=2)\n",
    "ax.yaxis.set_tick_params(labelsize=14, width=2)\n",
    "for axis in ['top','bottom','left','right']:\n",
    "    ax.spines[axis].set_linewidth(2)"
   ]
  },
  {
   "cell_type": "markdown",
   "metadata": {},
   "source": [
    "### Lp/Lc ratio"
   ]
  },
  {
   "cell_type": "code",
   "execution_count": null,
   "metadata": {},
   "outputs": [],
   "source": [
    "kuhnlpL_plgapegwat = np.load('plga_peg_wat/PLGAPEGwater_lk_LpL.npy', allow_pickle=True)\n",
    "kuhnlpL_plgapegace = np.load('plga_peg_ace/PLGAPEGacetone_lk_LpL.npy', allow_pickle=True)\n",
    "kuhnlpL_plgapegdmso = np.load('plga_peg_dmso/PLGAPEGDMSO_lk_LpL.npy', allow_pickle=True)"
   ]
  },
  {
   "cell_type": "code",
   "execution_count": null,
   "metadata": {},
   "outputs": [],
   "source": [
    "fig, ax = plt.subplots(figsize=(7,7))\n",
    "ax.errorbar(kuhnlpL_plgapegwat[1], kuhnlpL_plgapegwat[0], yerr=kuhnlpL_plgapegwat[2], color='slateblue', linestyle=\"solid\",\n",
    "             marker='o', capsize=5, capthick=1, ecolor='black')\n",
    "ax.errorbar(kuhnlpL_plgapegace[1], kuhnlpL_plgapegace[0], yerr=kuhnlpL_plgapegace[2], color='darkslategrey', linestyle=\"dashed\",\n",
    "             marker='v', capsize=5, capthick=1, ecolor='black')\n",
    "ax.errorbar(kuhnlpL_plgapegdmso[1], kuhnlpL_plgapegdmso[0], yerr=kuhnlpL_plgapegdmso[2], color='orangered', linestyle=\"dashdot\",\n",
    "             marker='^', capsize=5, capthick=1, ecolor='black')\n",
    "ax.tick_params(axis='both',labelsize=15, width=1)\n",
    "\n",
    "ax.set_xlabel(r'$N_{PLGA-PEG}$', fontsize=16, **arfont)\n",
    "ax.set_ylabel(r'$L_{p}/L_{c}$', fontsize=16, **arfont)\n",
    "ax.legend(['PLGA-PEG in water','PLGA-PEG in acetone','PLGA-PEG in DMSO'], frameon=False, fontsize=14)\n",
    "ax.set_ylim(0,2)\n",
    "ax.set_xlim(5,32)\n",
    "ax.xaxis.set_tick_params(labelsize=14, width=2)\n",
    "ax.yaxis.set_tick_params(labelsize=14, width=2)\n",
    "for axis in ['top','bottom','left','right']:\n",
    "    ax.spines[axis].set_linewidth(2)"
   ]
  },
  {
   "cell_type": "markdown",
   "metadata": {},
   "source": [
    "### Mean sq. Ree vs contour length"
   ]
  },
  {
   "cell_type": "code",
   "execution_count": null,
   "metadata": {},
   "outputs": [],
   "source": [
    "REElclk_plgapegwat = np.load('plga_peg_wat/PLGAPEGwater_REElclk.npy', allow_pickle=True)\n",
    "REElclk_plgapegace = np.load('plga_peg_ace/PLGAPEGacetone_REElclk.npy', allow_pickle=True)\n",
    "REElclk_plgapegdmso = np.load('plga_peg_dmso/PLGAPEGDMSO_REElclk.npy', allow_pickle=True)"
   ]
  },
  {
   "cell_type": "code",
   "execution_count": null,
   "metadata": {},
   "outputs": [],
   "source": [
    "fig, ax = plt.subplots(figsize=(7,7))\n",
    "ax.errorbar(REElclk_plgapegwat[1]/10, REElclk_plgapegwat[0], yerr=REElclk_plgapegwat[2]/np.sqrt(5), color='slateblue', linestyle=\"None\",\n",
    "             marker='o', capsize=5, capthick=1, ecolor='black')\n",
    "ax.errorbar(REElclk_plgapegace[1]/10, REElclk_plgapegace[0], yerr=REElclk_plgapegace[2]/np.sqrt(5), color='darkslategrey', linestyle=\"None\",\n",
    "             marker='v', capsize=5, capthick=1, ecolor='black')\n",
    "ax.errorbar(REElclk_plgapegdmso[1]/10, REElclk_plgapegdmso[0], yerr=REElclk_plgapegdmso[2]/np.sqrt(5), color='orangered', linestyle=\"None\",\n",
    "             marker='^', capsize=5, capthick=1, ecolor='black')\n",
    "ax.plot(REElclk_plgapegwat[1]/10, REElclk_plgapegwat[3],color='slateblue')\n",
    "ax.plot(REElclk_plgapegace[1]/10, REElclk_plgapegace[3],color='darkslategrey')\n",
    "ax.plot(REElclk_plgapegdmso[1]/10, REElclk_plgapegdmso[3],color='orangered')\n",
    "#plt.title(r'Kuhn Length, PLGA-PEG water', fontsize=15)\n",
    "ax.set_ylabel(r'$\\left<R_{ee}^{2}\\right>$', fontsize=16, **arfont)\n",
    "ax.set_xlabel(r'Contour Length, $L_{c}$ [nm]', fontsize=16, **arfont)\n",
    "ax.text(2.5, 1750, r'$l^{water}_{k}$ = 0.31 ± 0.36 nm, $R^{2}$ = 0.98', fontsize=15, color='slateblue',  **arfont)\n",
    "ax.text(2.5, 1640, r'$l^{acetone}_{k}$ = 0.39 ± 0.12 nm, $R^{2}$ = 0.90', fontsize=15, color='darkslategrey',  **arfont)\n",
    "ax.text(2.5, 1520, r'$l^{DMSO}_{k}$ = 1.26 ± 0.10 nm, $R^{2}$ = 0.98', fontsize=15, color='orangered',  **arfont)\n",
    "ax.set_xlim(1,15)\n",
    "ax.set_ylim(0,2000)\n",
    "ax.xaxis.set_tick_params(labelsize=14, width=2)\n",
    "ax.yaxis.set_tick_params(labelsize=14, width=2)\n",
    "for axis in ['top','bottom','left','right']:\n",
    "    ax.spines[axis].set_linewidth(2)"
   ]
  },
  {
   "cell_type": "code",
   "execution_count": null,
   "metadata": {},
   "outputs": [],
   "source": []
  },
  {
   "cell_type": "code",
   "execution_count": null,
   "metadata": {},
   "outputs": [],
   "source": []
  },
  {
   "cell_type": "code",
   "execution_count": null,
   "metadata": {},
   "outputs": [],
   "source": []
  },
  {
   "cell_type": "markdown",
   "metadata": {},
   "source": [
    "### Rg vs time in different sol per monomer length (Make sure to do it for Ree, Rhyd)"
   ]
  },
  {
   "cell_type": "code",
   "execution_count": null,
   "metadata": {},
   "outputs": [],
   "source": []
  }
 ],
 "metadata": {
  "kernelspec": {
   "display_name": "homeV2_env",
   "language": "python",
   "name": "homev2_env"
  },
  "language_info": {
   "codemirror_mode": {
    "name": "ipython",
    "version": 3
   },
   "file_extension": ".py",
   "mimetype": "text/x-python",
   "name": "python",
   "nbconvert_exporter": "python",
   "pygments_lexer": "ipython3",
   "version": "3.9.7"
  }
 },
 "nbformat": 4,
 "nbformat_minor": 4
}
