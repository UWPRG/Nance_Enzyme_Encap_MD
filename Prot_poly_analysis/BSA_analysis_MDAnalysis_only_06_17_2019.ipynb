{
 "cells": [
  {
   "cell_type": "code",
   "execution_count": 1,
   "metadata": {},
   "outputs": [],
   "source": [
    "#import the necessary modules \n",
    "%matplotlib inline \n",
    "import numpy as np \n",
    "import matplotlib.pyplot as plt \n",
    "import pandas as pd \n",
    "#import scipy\n",
    "import sklearn\n",
    "import itertools as it\n",
    "from itertools import cycle \n",
    "import os.path as op\n",
    "import timeit \n",
    "import json\n",
    "from matplotlib import animation\n",
    "import matplotlib.font_manager as font_manager\n",
    "from collections import namedtuple\n",
    "#from functools import partial\n",
    "#from pathlib import Path\n"
   ]
  },
  {
   "cell_type": "code",
   "execution_count": 2,
   "metadata": {},
   "outputs": [],
   "source": [
    "\n",
    "# Set plotting style\n",
    "plt.style.use('seaborn-white')\n",
    "\n",
    "from ipywidgets import interact, interactive, fixed, interact_manual\n",
    "import ipywidgets as widgets\n",
    "#import matplotlib.pyplot as plt"
   ]
  },
  {
   "cell_type": "code",
   "execution_count": 3,
   "metadata": {},
   "outputs": [],
   "source": [
    "%matplotlib widget"
   ]
  },
  {
   "cell_type": "code",
   "execution_count": 4,
   "metadata": {},
   "outputs": [
    {
     "data": {
      "text/plain": [
       "4"
      ]
     },
     "execution_count": 4,
     "metadata": {},
     "output_type": "execute_result"
    }
   ],
   "source": [
    "import multiprocessing as m_proc\n",
    "m_proc.cpu_count()"
   ]
  },
  {
   "cell_type": "markdown",
   "metadata": {},
   "source": [
    "### Now use MD Analysis to calculate no. of frames a center PLGA residues and terminal PLGA residue is with 4 Angstroms of BSA (1.2 nm restrained system)"
   ]
  },
  {
   "cell_type": "markdown",
   "metadata": {},
   "source": [
    "Import MDAnalysis"
   ]
  },
  {
   "cell_type": "code",
   "execution_count": 5,
   "metadata": {},
   "outputs": [],
   "source": [
    "# Import MDAnalysis\n",
    "import MDAnalysis as mda\n",
    "import MDAnalysis.analysis.distances as maa_dist"
   ]
  },
  {
   "cell_type": "markdown",
   "metadata": {},
   "source": [
    "### First table will be total fractional contacts and oligomer occupancy values for each Rg value "
   ]
  },
  {
   "cell_type": "markdown",
   "metadata": {},
   "source": [
    "#### Distance-based analysis \n",
    "\n",
    "Find residues that have at least one atom within a cutoff $d = 4.0$ Angstrom near water molecules in BSA/water simulation\n",
    "\n",
    "Calculate the number of surface bsa residues from a 1 ns BSA/water simulation"
   ]
  },
  {
   "cell_type": "code",
   "execution_count": 6,
   "metadata": {},
   "outputs": [],
   "source": [
    "#Units of Angstroms \n",
    "dmax = 4.0 "
   ]
  },
  {
   "cell_type": "code",
   "execution_count": 7,
   "metadata": {},
   "outputs": [],
   "source": [
    "#exp_bsa_atoms = np.any(dij_tri <= dmax, axis=1)\n",
    "\n",
    "# Boolean arrays must be of the same shape as the initial dimensions of the array being indexed.\n",
    "# In the most straightforward case, the boolean array has the same shape\n",
    "# Unlike in the case of integer index arrays, in the boolean case,\n",
    "# the result is a 1-D array containing all the elements in the indexed array corresponding\n",
    "#       to all the true elements in the boolean array.\n",
    "\n",
    "#bres_wit_dmax = prot[exp_bsa_atoms].residues"
   ]
  },
  {
   "cell_type": "code",
   "execution_count": 8,
   "metadata": {},
   "outputs": [],
   "source": [
    "## Define a function that does this, Courtesy of MDAnalysis tutorial \n",
    "def get_protresd_list(prot_atoms, g2_atoms, dmax, universe):\n",
    "    \"\"\"Find all protein residues for which atoms that are within dmax. Here, contact is defined as any group two atoms\n",
    "    that is within 4 Angstroms of the protein atom group (group 1). If that condition is satisfied, that residue is added to an array. \n",
    "    This calculation is only done on one frame.\n",
    "    \n",
    "    Inputs consisted of: \n",
    "    \n",
    "    - prot_atoms: Atom group from MD Analysis containing the protein atoms \n",
    "    - g2_atoms: Atom group from MD Analysis for the second group \n",
    "    - dmax: Distance cutoff in Angstroms, used to define contact between the two groups \n",
    "    - universe: MD Analysis variable containing information for the enitre trajectory\n",
    "    \n",
    "    Output consists of: \n",
    "    \n",
    "    - mk: numpy array containing the residues that did contact group atoms\"\"\"\n",
    "    \n",
    "    ro = len(prot_atoms) # number of protein residues  \n",
    "    \n",
    "    cl = len(g2_atoms) # numbers of atoms in group two  \n",
    "    \n",
    "    dij_tri = np.zeros(shape=(ro,cl)) # Initialize a matrix the whose dimensions are (ro, cl)\n",
    "    \n",
    "    # Use MD Analysis to find distance between the protein atom groups and group two groups \n",
    "    dij_tri = maa_dist.distance_array(prot_atoms.positions\n",
    "                                      , g2_atoms.positions, box=universe.trajectory.ts.dimensions)\n",
    "    \n",
    "    # Get the indices of the atoms that meet the 4 angstroms cutoff \n",
    "    exp_prot_atoms = np.any(dij_tri <= dmax, axis=1)\n",
    "    \n",
    "    # Get the corresponding residues that contact group two atoms \n",
    "    mk = np.array(prot_atoms[exp_prot_atoms].residues)\n",
    "    \n",
    "    return mk"
   ]
  },
  {
   "cell_type": "code",
   "execution_count": 9,
   "metadata": {},
   "outputs": [],
   "source": [
    "# Define a function that outputs a dictionary of AA protein number and frame counts, where \n",
    "# the inputs will be number of frames, universe, prot and group 2 atom group, and dmax \n",
    "# Write function that takes a no of total frames, protein atom positions and group 2 atoms positions \n",
    "# and gives a dictionary of protein AA as keys and frame count as values \n",
    "\n",
    "def aa_frmcount(prot_atoms, g2_atoms, dmax, universe, start, end):\n",
    "    \"\"\"This function will output a dictionary of AA protein residue number and its corresponding frame count and occupancy. \n",
    "    \n",
    "    Inputs consisted of: \n",
    "    \n",
    "    - prot_atoms: Atom group from MD Analysis containing the protein atoms \n",
    "    - g2_atoms: Atom group from MD Analysis for the second group \n",
    "    - dmax: Distance cutoff in Angstroms, used to define contact between the two groups \n",
    "    - universe: MD Analysis variable containing information for the enitre trajectory\n",
    "    - start: Start of the trajectory in picoseconds\n",
    "    - end: End of the trajectory in picosenconds \n",
    "    \n",
    "    Output is consisted of: \n",
    "    \n",
    "    - aa_dict: A dictionary whose keys are residues that contacted group two atoms within the trajectory and\n",
    "               values are an array containing the frame count and occupancy. Here, occupancy is defined as the \n",
    "               frame count of each residue divided by the total number of frames in trajectory block. Frame count \n",
    "               is the number of frames that a group two atom was less than dmax distance from any protein atom. \n",
    "    \"\"\"\n",
    "    \n",
    "    aa_dict = {} # Initialize a dictionary to store the output. \n",
    "    \n",
    "    laa = np.zeros(shape=len(prot_atoms.residues)) # Initialize a numpy array filled with zeros whose dim is no. of protein residues \n",
    "    \n",
    "    br = np.array(prot_atoms.residues) # Store protein residues as given from MD Analysis \n",
    "    \n",
    "    # This for loop goes through the trajectory block\n",
    "    for ts in universe.trajectory[start:end]: \n",
    "        \n",
    "        count = 0  # start counter at zero \n",
    "        \n",
    "        # Use the get_protresd_list function to get residues that contact the group two atoms \n",
    "        bsres = get_protresd_list(prot_atoms, g2_atoms, dmax, universe) \n",
    "        \n",
    "        # If the output array is empty, then no residues were within 4 Angstroms of group two atoms \n",
    "        if bsres.size == 0: \n",
    "            pass\n",
    "        elif bsres.size != 0: # If array is not empty\n",
    "    \n",
    "            count += 1 # add to counter\n",
    "            \n",
    "            # Go through each residue \n",
    "            for i in bsres.flat:\n",
    "        \n",
    "                res_ind = np.where(br == i)[0]  # Get index for stored residue array that matches the residues from output in get_protresd_list\n",
    "            \n",
    "                laa[res_ind[0]] = laa[res_ind[0]] + count # update frame count to the specific residure \n",
    "                \n",
    "    fin_res = np.where(laa != 0)[0] # Get indexes for residues with frame counts that are not zero\n",
    "    \n",
    "    # Calculate occupancy for each residue and store in a dictionary \n",
    "    for i in fin_res.flat:\n",
    "        aa_dict[str(list(prot_atoms.residues[i:i+1])[0])] = [laa[i], laa[i]/(end - start)]\n",
    "    \n",
    "    return aa_dict "
   ]
  },
  {
   "cell_type": "code",
   "execution_count": 10,
   "metadata": {},
   "outputs": [],
   "source": [
    " def grptwocnt_aa(prot_atoms, g2_atoms, dmax, universe):\n",
    "    \"\"\" This function calculates the number of PLGA monomers within 4 A of a BSA AA residue and \n",
    "    return a numpy array containing the no. of PLGA monomers for each BSA AA residue at one single frame. Make sure you use a pdb file \n",
    "    for system description to get unique chain identifiers. This calculation is only done on one frame. Universe is used, in case \n",
    "    the periodic boundary is present. \n",
    "    \n",
    "    GROMACS command: gmx trjconv -s topol.tpr -f confout.gro  -o new_conf.pdb -dump 0\n",
    " \n",
    "    Inputs consist of: \n",
    "    \n",
    "    - prot_atoms: Atom group from MD Analysis containing the protein atoms \n",
    "    - g2_atoms: Atom group from MD Analysis for the second group \n",
    "    - dmax: Distance cutoff in Angstroms, used to define contact between the two groups\n",
    "    - universe: MD Analysis variable containing information for the enitre trajectory\n",
    "    \n",
    "    Outputs consist of: \n",
    "    \n",
    "    - np.array(co_grpaa): For each amino acid group type, the total number of group two residues are given in a numpy array. \n",
    "    \n",
    "    - la: numpy array containing the no. of group two (PLGA) monomers that meet the distance for each protein residue.\n",
    "          Some array values will be empty because some residues will not contact the protein. \n",
    "    \n",
    "    \"\"\"\n",
    "    \n",
    "    gg_dict = {} # Initialize a dictionary to store one of the outputs\n",
    "    \n",
    "    # Use MD Analysis distance array function to get matrix of dim (# of group two atoms, # of protein atoms) \n",
    "    plga_mon = maa_dist.distance_array(g2_atoms.positions, prot_atoms.positions, box=universe.trajectory.ts.dimensions)\n",
    "    \n",
    "    # Return the indices of the elements in plga_mon that are less than dmax and are non-zero. Output is a tuple\n",
    "    plga_mon_resd = np.nonzero(plga_mon < dmax)\n",
    "    \n",
    "    #pr_pol = np.nonzero(dij_tri < dmax)\n",
    "    #print(pr_pol)\n",
    "    \n",
    "    # get polymer residue numbers for each atom in contact with the protein atom group\n",
    "    a = np.array(list(g2_atoms[plga_mon_resd[0]].resids))\n",
    "    \n",
    "    # get polymer segid numbers for each atom in contact with the protein atom group\n",
    "    b = np.array(list(g2_atoms[plga_mon_resd[0]].segids))\n",
    "    \n",
    "    new_gt = np.array([a,b])\n",
    "    \n",
    "    # indices where there is a change in values within the resids and segids polymer matrix \n",
    "    res_nsgt = np.where(new_gt[0][:-1] != new_gt[0][1:])[0]\n",
    "\n",
    "    # indices where there is a change in values within the resids and segids protein matrix \n",
    "    res_prot_gt = np.where(prot_atoms[plga_mon_resd[1]].resids[:-1] != prot_atoms[plga_mon_resd[1]].resids[1:])[0]\n",
    "\n",
    "    # Get the polymer residue indexes not included in the prot residues index list \n",
    "    mi_sgt = res_nsgt[np.where(np.isin(res_nsgt,res_prot_gt) == False )]\n",
    "    \n",
    "    # Add it to the protein residue index list and sort in ascending order \n",
    "    act_gt = np.sort(np.append(res_prot_gt,mi_sgt))\n",
    "\n",
    "    # Initialize zeros array to store the no. of PLGA residues that contact each protein residue \n",
    "    la = np.zeros(shape=len(prot_atoms.residues))\n",
    "    \n",
    "    for i in act_gt.flat: \n",
    "    \n",
    "        m_i = prot[plga_mon_resd[1]].resids[i]\n",
    "        #print(m_i)\n",
    "\n",
    "        la[m_i-1] = la[m_i-1] + 1\n",
    "        \n",
    "    # Find all residues that have more than zero PLGA monomers \n",
    "    fin_res = np.where(la != 0)[0]\n",
    "    \n",
    "    # Save number of PLGA residues per AA \n",
    "    for i in fin_res.flat:\n",
    "        gg_dict[str(list(prot_atoms.residues[i:i+1])[0])] = la[i]\n",
    "\n",
    "    # Grouping of residues in Smith et al  \n",
    "    aromatic_res = ['PHE', 'TRP', 'TYR', 'HIS']\n",
    "    hydrophobic_res = ['ALA', 'ILE', 'LEU', 'VAL', 'GLY', 'PRO','PHE', 'TRP','MET']\n",
    "    polar_res = ['ASN', 'CYS', 'GLN', 'SER', 'THR','TYR']\n",
    "    neg_res = ['ASP', 'GLU']\n",
    "    pos_res = ['ARG', 'HIS', 'LYS']\n",
    "\n",
    "    frac_res = [neg_res, pos_res, polar_res, hydrophobic_res, aromatic_res]\n",
    "    \n",
    "    # For each amino acid type in frac_res, this code chunk saves the PLGA residue count in a list and sums them together to \n",
    "    # to get a total number of PLGA residues within the trajectory for each AA group in frac_res\n",
    "    co_grpaa = []\n",
    "\n",
    "    for row in frac_res:\n",
    "        fr_list = []\n",
    "        for j in range(len(row)):\n",
    "            for key, value in gg_dict.items():\n",
    "                if row[j] in key:\n",
    "                    fr_list.append(value)\n",
    "        co_grpaa.append(sum(fr_list))\n",
    "        \n",
    "    return np.array(co_grpaa), la"
   ]
  },
  {
   "cell_type": "code",
   "execution_count": 11,
   "metadata": {},
   "outputs": [],
   "source": [
    "def gtwo_trjcnt(prot_atoms, g2_atoms, dmax, universe, start, end):\n",
    "    \"\"\"This function calcuates the average number of PLGA mononers per BSA AA group and no of PLGA residues for each AA for each traj. block. \n",
    "    \n",
    "    Inputs consist of: \n",
    "    \n",
    "    - prot_atoms: Atom group from MD Analysis containing the protein atoms \n",
    "    - g2_atoms: Atom group from MD Analysis for the second group \n",
    "    - dmax: Distance cutoff in Angstroms, used to define contact between the two groups\n",
    "    - universe: MD Analysis variable containing information for the enitre trajectory\n",
    "    - start: Beginning of trajectory block in picoseconds \n",
    "    - end: End of trajectory block in picoseconds \n",
    "    \n",
    "    Outputs consist of: \n",
    "    \n",
    "    - aa_dict: dicitionary containing mean and pop. standard deviation of the no. of polymer residues for each different AA type \n",
    "    - l_final: the average no. of PLGA residues for each residue for each traj length, shape is (no. of prot_atoms residues)\n",
    "    \n",
    "    \"\"\"\n",
    "    \n",
    "    # Different amino acid types \n",
    "    sf_lb = [\"Negative\", \"Positive\", \"Polar\", \"Hydrophobic\", \"Aromatic\"]\n",
    "    \n",
    "    # Initialize empty dictionary \n",
    "    aa_dict = {}\n",
    "    \n",
    "    # Initialize matrix whose dim is (prot_res, length of traj. block)\n",
    "    laa = np.zeros(shape=(len(prot_atoms.residues),end-start))\n",
    "\n",
    "    trj_aa = np.zeros(shape=(len(sf_lb), end-start))\n",
    "    \n",
    "    l_final = np.zeros(shape=(len(prot_atoms.residues)))\n",
    "    \n",
    "    universe.trajectory[start]\n",
    "    \n",
    "    count = 0\n",
    "    \n",
    "    for ts in universe.trajectory[start:end]: \n",
    "    \n",
    "        fr_pres, hh_matx = grptwocnt_aa(prot_atoms, g2_atoms, dmax, universe)\n",
    "        \n",
    "        # No. of polymer residues that were in contact with the protein at each frame \n",
    "        laa[:,count] = hh_matx\n",
    " \n",
    "        # For each amino acid type, save total number of PLGA residues at each frame for each AA group\n",
    "        trj_aa[:, count] = fr_pres\n",
    "        \n",
    "        count += 1\n",
    "        \n",
    "    # find indicies for residues that had > 1 polymer residue \n",
    "    al_res = np.where(laa != 0)[0]\n",
    "\n",
    "    # Calculating the average no. of PLGA residues for each residue for each traj length \n",
    "    for i in al_res.flat:\n",
    "        l_final[i] = np.mean(laa[i,:])\n",
    "\n",
    "    # get mean and pop. standard deviation of the no. of polymer residues for each different AA type \n",
    "    for i in range(len(sf_lb)):\n",
    "        aa_dict[sf_lb[i]] = [np.mean(trj_aa[i,:]), np.std(trj_aa[i,:])]\n",
    "    \n",
    "    return aa_dict, l_final"
   ]
  },
  {
   "cell_type": "code",
   "execution_count": 12,
   "metadata": {},
   "outputs": [],
   "source": [
    "def frac_cont(frm_count_dict):\n",
    "    \"\"\" This function specifically takes as input the dictionary output from aa_frmcount function and \n",
    "    outputs a dictionary, nlkts, where each key is an amino acid type and whose corresponding value is as follows: \n",
    "    \n",
    "    - nlkts: dictionary output     \n",
    "    # co_grpaa[i] (Total no. of contacts for each Amino acid type ) \n",
    "    # tp_cnt[i] (total no. of amino acids for each type of amino acid type) \n",
    "    # norm_list[i] (total no. of contacts normalized by the protein surface fraction)\n",
    "    # cont_l[i]] (Normalized fraction of contacts)\n",
    "    \n",
    "    \"\"\"\n",
    "    \n",
    "    a_a = [\"GLY\",\"ALA\",\"VAL\",\"LEU\",\"ILE\",\"MET\",\"PHE\",\"TRP\",\"PRO\",\"SER\",\"THR\",\"CYS\",\"TYR\",\"ASN\",\"GLN\",\"ASP\"\n",
    "               ,\"GLU\",\"LYS\",\"ARG\",\"HIS\"]\n",
    "    \n",
    "    # Grouping of residues in Smith et al  \n",
    "    aromatic_res = ['PHE', 'TRP', 'TYR', 'HIS']\n",
    "    hydrophobic_res = ['ALA', 'ILE', 'LEU', 'VAL', 'GLY', 'PRO','PHE', 'TRP','MET']\n",
    "    polar_res = ['ASN', 'CYS', 'GLN', 'SER', 'THR','TYR']\n",
    "    neg_res = ['ASP', 'GLU']\n",
    "    pos_res = ['ARG', 'HIS', 'LYS']\n",
    "\n",
    "    frac_res = [neg_res, pos_res, polar_res, hydrophobic_res, aromatic_res]\n",
    "    sf_lbl = [\"Negative\", \"Positive\", \"Polar\", \"Hydrophobic\", \"Aromatic\"]\n",
    "    \n",
    "    # For each amino acid type in frac_res, this code chunk saves the frame count in a list and sums them together to \n",
    "    # to get a total frame count within the trajectory for each AA group in frac_res\n",
    "    co_grpaa = []\n",
    "\n",
    "    for row in frac_res:\n",
    "        fr_list = []\n",
    "        for j in range(len(row)):\n",
    "            for key, value in frm_count_dict.items():\n",
    "                if row[j] in key:\n",
    "                    fr_list.append(value[0])\n",
    "        co_grpaa.append(sum(fr_list))\n",
    "        \n",
    "    # This chunk of code gets an AA count from the above list, in order \n",
    "    # to get a total number of residues that contact BSA\n",
    "    cpl_l = []\n",
    "\n",
    "    for i in range(len(a_a)):\n",
    "        count = 0\n",
    "        for key, value in frm_count_dict.items():\n",
    "            if a_a[i] in key:\n",
    "                count += 1\n",
    "        cpl_l.append(a_a[i]+\" \"+str(count))   \n",
    "\n",
    "    # For each AA type in frac_res, this code chunk saves the count for each AA within 4 Angstroms of a PLGA trimer \n",
    "    # in a list based on the order in frac_res, then sums the counts to get a total number of AA for each AA type \n",
    "    tp_cnt = []   \n",
    "    \n",
    "    for row in frac_res:\n",
    "        nw_l = []\n",
    "        for i in range(len(row)):\n",
    "            for j in range(len(cpl_l)):\n",
    "                if row[i] in cpl_l[j]:\n",
    "                    nw_l.append(int(cpl_l[j][4:6]))\n",
    "        tp_cnt.append(sum(nw_l))           \n",
    "    \n",
    "    # Get the total count of AA that are within 4 A of PLGA oligomer\n",
    "    bsum = len(frm_count_dict.keys())\n",
    "    \n",
    "    # The code chunk normalized the frame count of each AA group type by the protein surface fraction \n",
    "    # of each amino acid type contacted by a polymer surrogate.\n",
    "    norm_list = []\n",
    "    for i in range(len(co_grpaa)):\n",
    "        lk = tp_cnt[i]/bsum\n",
    "        if lk == 0: \n",
    "            norm_list.append(co_grpaa[i])\n",
    "        elif lk != 0:\n",
    "            norm_list.append(co_grpaa[i]/(tp_cnt[i]/bsum))\n",
    "            \n",
    "    # This conde chunk calculates the fractional contact based on the normalized frame count \n",
    "    cont_l = []\n",
    "    nsum = sum(norm_list)\n",
    "    for i in range(len(norm_list)):\n",
    "        cont_l.append(norm_list[i]/nsum)\n",
    "    \n",
    "    #Save values in a dictionary \n",
    "    # Legend: co_grpaa[i] (Total no. of contacts) \n",
    "    # tp_cnt[i] (total no. of amino acids for each type of contact) \n",
    "    # norm_list[i] (total no. of contacts normalized by the protein surface fraction)\n",
    "    # cont_l[i]] (Normalized fraction of contacts)\n",
    "    nlkts = {}\n",
    "    for i in range(len(sf_lbl)):\n",
    "        nlkts[sf_lbl[i]] = [co_grpaa[i], tp_cnt[i], norm_list[i], cont_l[i]]\n",
    "        \n",
    "    return nlkts"
   ]
  },
  {
   "cell_type": "code",
   "execution_count": 13,
   "metadata": {},
   "outputs": [],
   "source": [
    "# I want a list of total fraction of contacts where length is determined by no. of blocks and a dictionary \n",
    "# of contact groups as keys and list of fractional contacts as values(length of list will be no. of blocks)\n",
    "def bavg_frac_cnt(no_of_blks, prot_atoms, g2_atoms, dmax, universe, no_surf, begin, final):\n",
    "    \"\"\" This function takes as inputs: \n",
    "    \n",
    "    Inputs consist of: \n",
    "    \n",
    "    - no_of_blks: number of blocks\n",
    "    - prot_atoms: Atom group from MD Analysis containing the protein atoms \n",
    "    - g2_atoms: Atom group from MD Analysis for the second group \n",
    "    - dmax: Distance cutoff in Angstroms, used to define contact between the two groups \n",
    "    - universe: MD Analysis variable containing information for the enitre trajectory\n",
    "    - no_surf: total number of protein surface residues \n",
    "    - begin: Beginning of trajectory block in picoseconds\n",
    "    - final: End of trajectory block in picoseconds \n",
    "    \n",
    "    Outputs consist of: \n",
    "    \n",
    "    - ot_dab (dictionary): total fraction of contacts within the specified block\n",
    "    - plga_dict (dictionary): average no of PLGA monomers and the std deviation for each block for each AA group type\n",
    "    - aares_npa: the avg no of PLGA residues, (5,583) shape\n",
    "    \n",
    "    \"\"\"\n",
    "\n",
    "    n_size = (final - begin)/no_of_blks\n",
    "    \n",
    "    frcb = []\n",
    "    \n",
    "    ot_dab = {}\n",
    "    universe.trajectory[begin]\n",
    "    \n",
    "    sf_lbl = [\"Negative\", \"Positive\", \"Polar\", \"Hydrophobic\", \"Aromatic\", \"total_frac\"]\n",
    "\n",
    "    # Initialize matrix for AA type for each block \n",
    "    blk_nparr = np.zeros(shape=((len(sf_lbl)-1),no_of_blks))\n",
    "    \n",
    "    # \n",
    "    plga_nparr = np.zeros(shape=((len(sf_lbl)-1),no_of_blks), dtype=object)\n",
    "    \n",
    "    aares_npa = np.zeros(shape=(no_of_blks), dtype=object)\n",
    "    \n",
    "    for i in range(no_of_blks):\n",
    "        \n",
    "        tpl = []\n",
    " \n",
    "        start = universe.trajectory.frame\n",
    "        print(start)\n",
    "    \n",
    "        end = int(start + n_size)\n",
    "        print(end)\n",
    "        \n",
    "        # A dictionary of AA protein residue number and its corresponding frame count and occupancy for each block \n",
    "        hn_bcks = aa_frmcount(prot_atoms, g2_atoms, dmax, universe, start, end)\n",
    "        \n",
    "        # a dictionary where each key is an amino acid type and whose corresponding value is as follows:    \n",
    "        # co_grpaa[i] (Total no. of contacts for each Amino acid type ) \n",
    "        # tp_cnt[i] (total no. of amino acids for each type of amino acid type) \n",
    "        # norm_list[i] (total no. of contacts normalized by the protein surface fraction)\n",
    "        # cont_l[i]] (Normalized fraction of contacts)\n",
    "        ff_dict = frac_cont(hn_bcks)\n",
    "        \n",
    "        # the average number of PLGA mononers per protein AA group and no of PLGA residues for each AA for each trajectory block \n",
    "        nk_dict, res_mat = gtwo_trjcnt(prot_atoms, g2_atoms, dmax, universe, start, end)\n",
    "        \n",
    "        # total number of protein residues that contact polymer residues \n",
    "        lk = len(hn_bcks.keys())\n",
    "        \n",
    "        # total fraction of contacts is calculated here    \n",
    "        frcb.append(lk/no_surf)\n",
    "\n",
    "        # Normalized fractional contacts for each trajectory block \n",
    "        for key, value in ff_dict.items():\n",
    "            tpl.append(value[3])\n",
    "            \n",
    "        count = 0\n",
    "        for key, value in nk_dict.items():\n",
    "            plga_nparr[count,i] = np.array(value)\n",
    "            count += 1\n",
    "            \n",
    "        blk_nparr[:,i] = tpl  \n",
    "        \n",
    "        # (5,583) shape, for each block and for each AA residue, the avg no of PLGA residues is recorded\n",
    "        aares_npa[i] = res_mat\n",
    "        \n",
    "        universe.trajectory[end]\n",
    "    \n",
    "    # Save fractional contacts for each AA group type, each element in the value array corresponds to a block \n",
    "    # calculated value\n",
    "    for i in range(len(sf_lbl)-1):\n",
    "        ot_dab[sf_lbl[i]] = blk_nparr[i,:]\n",
    "        \n",
    "    # Save average no of PLGA monomers and the std deviation for each block for each AA group type into dictionary\n",
    "    plga_dict = {}\n",
    "    for i in range(len(sf_lbl)-1):\n",
    "        plga_dict[sf_lbl[i]] = plga_nparr[i,:]\n",
    "    \n",
    "    # total fraction of contacts within the specified blocks    \n",
    "    ot_dab[sf_lbl[5]] = np.array(frcb)   \n",
    "    \n",
    "    # output legend \n",
    "    # ot_dab (dictionary): total fraction of contacts within the specified blocks\n",
    "    # plga_dict (dictionary): average no of PLGA monomers and the std deviation for each block for each AA group type\n",
    "    # aares_npa: the avg no of PLGA residues, (5,583) shape\n",
    "    \n",
    "    return ot_dab, plga_dict, aares_npa"
   ]
  },
  {
   "cell_type": "code",
   "execution_count": 14,
   "metadata": {},
   "outputs": [],
   "source": [
    "def prot_poly_cntmovie(prot_atoms, g2_atoms, dmax, universe, start, end):\n",
    "    \"\"\"This function calculates the contact matrix between protein AA residues and group 2 residues at each timestep \n",
    "    and returns a multi-dim numpy array saves contact map information for the entire trajectory block. A contact is saved as \n",
    "    a boolean value (0 or 1)\n",
    "    \n",
    "    Inputs consist of: \n",
    "    \n",
    "    \n",
    "    \n",
    "    Output consists of: \n",
    "    \n",
    "    \n",
    "    \n",
    "    \"\"\"\n",
    "    \n",
    "    universe.trajectory[start]\n",
    "    \n",
    "    cnt_un = 0 \n",
    "    \n",
    "    pp_mat = np.zeros(shape=(end-start), dtype=object)\n",
    "    \n",
    "    for ts in universe.trajectory[start:end]:\n",
    "    \n",
    "        # Get distance matrix at each frame\n",
    "        ro = len(prot_atoms)\n",
    "        cl = len(g2_atoms)\n",
    "        dij_tri = np.zeros(shape=(ro,cl))\n",
    "        dij_tri = maa_dist.distance_array(g2_atoms.positions, prot_atoms.positions, box=universe.trajectory.ts.dimensions)\n",
    "    \n",
    "        matfr = np.zeros(shape=(len(prot_atoms.residues),len(g2_atoms.residues)))\n",
    "    \n",
    "        pr_pol = np.nonzero(dij_tri < dmax)\n",
    "    \n",
    "        # Get residue IDs based on atoms that contact protein \n",
    "        a = np.array(list(g2_atoms[pr_pol[0]].resids))\n",
    "        \n",
    "        # Get segment IDs based on atoms that contact protein\n",
    "        b = np.array(list(g2_atoms[pr_pol[0]].segids))\n",
    "        \n",
    "        # Concatenate the two arrays together \n",
    "        new_l = np.array([a,b])\n",
    "    \n",
    "        # indices where there is a change in values within the resids and segids polymer matrix \n",
    "        res_nos = np.where(new_l[0][:-1] != new_l[0][1:])[0]\n",
    "\n",
    "        # indices where there is a change in values within the resids and segids protein matrix \n",
    "        res_prot = np.where(prot_atoms[pr_pol[1]].resids[:-1] != prot_atoms[pr_pol[1]].resids[1:])[0]\n",
    "\n",
    "        # Get the polymer residue indexes not included in the prot residues index list \n",
    "        mi_s = res_nos[np.where(np.isin(res_nos,res_prot) == False )]\n",
    "    \n",
    "        # Add it to the protein residue index list and sort in ascending order \n",
    "        act = np.sort(np.append(res_prot,mi_s))\n",
    "\n",
    "        for i in act.flat: \n",
    "    \n",
    "            m_i = prot_atoms[pr_pol[1]].resids[i]\n",
    "            #print(m_i)\n",
    "    \n",
    "            r_id1 = new_l[0][i]\n",
    "            #print(r_id1)\n",
    "    \n",
    "            r_seg1 = new_l[1][i]\n",
    "            #print(r_seg1)\n",
    "\n",
    "            # Ensure the right chain contact is accounted for. \n",
    "            ar_res = np.array([20, 40])\n",
    "    \n",
    "            # Chain identfiers\n",
    "            un_polys = np.unique(g2_atoms.segids)\n",
    "    \n",
    "            sg_i = np.where(un_polys == r_seg1)[0][0]\n",
    "            #print(sg_i)\n",
    "    \n",
    "            if un_polys[0] == r_seg1:\n",
    "                m_j = int(r_id1)\n",
    "            elif un_polys[1] == r_seg1: \n",
    "                m_j = ar_res[0] + int(r_id1)\n",
    "            elif un_polys[2] == r_seg1:\n",
    "                m_j = ar_res[1] + int(r_id1)\n",
    "        \n",
    "            matfr[m_i-1,m_j-1] = 1\n",
    "        \n",
    "        pp_mat[cnt_un] = matfr\n",
    "    \n",
    "        cnt_un += 1\n",
    "        \n",
    "    return pp_mat"
   ]
  },
  {
   "cell_type": "code",
   "execution_count": 15,
   "metadata": {},
   "outputs": [],
   "source": [
    "def AA_list_org(lorg_list):\n",
    "    \n",
    "    \"\"\"List elements need have 'GLY  XX' as string format, where XX reps the number of GLY residues. Output is a\n",
    "    sorted list of 'AA XX' according to the below order.  \"\"\"\n",
    "    \n",
    "    hydrophobic_res = ['ALA', 'ILE', 'LEU', 'VAL', 'GLY', 'PRO','PHE', 'TRP','MET']\n",
    "    polar_res = ['ASN', 'CYS', 'GLN', 'SER', 'THR','TYR']\n",
    "    neg_res = ['ASP', 'GLU']\n",
    "    pos_res = ['ARG', 'HIS', 'LYS']\n",
    "\n",
    "    all_res = [pos_res, neg_res, polar_res, hydrophobic_res]\n",
    "    #Change order of residues before making the bar graph\n",
    "    # (1) Positively charged\n",
    "    # (2) Negatively charged\n",
    "    # (3) Polar residues \n",
    "    # (4) Hydrophobic residues \n",
    "    \n",
    "    # This chunk of code sorts the counts of each AA that have 1001 or 1002 frame count based \n",
    "    # on the AA order in all_res\n",
    "    arr_list = []\n",
    "\n",
    "    for row in all_res:\n",
    "        for i in range(len(lorg_list)):\n",
    "            for j in range(len(row)):\n",
    "                if row[j] == lorg_list[i][0:3]:\n",
    "                    arr_list.append(lorg_list[i])\n",
    "                    \n",
    "    #This chunk of code splits the list arr_list to makes the AA: count of 1001 or 1002 frames data plottable \n",
    "    f_list = []\n",
    "    fn_list = []\n",
    "    for i in range(len(arr_list)):\n",
    "        f_list.append(arr_list[i][0:3])\n",
    "        fn_list.append(int(arr_list[i][5:]))\n",
    "        \n",
    "    return f_list, fn_list"
   ]
  },
  {
   "cell_type": "code",
   "execution_count": 16,
   "metadata": {},
   "outputs": [],
   "source": [
    "def middle_of_band(band_start, band_stop, plot_min=0, plot_max=60):\n",
    "    half_way = (band_stop - band_start) / 2\n",
    "    mid_band = band_start + half_way\n",
    "    plot_fraction = (mid_band - plot_min) / (plot_max - plot_min)\n",
    "\n",
    "    return plot_fraction"
   ]
  },
  {
   "cell_type": "markdown",
   "metadata": {},
   "source": [
    "# 1.2 nm PLGA restrained Rg 100 ns trajectory"
   ]
  },
  {
   "cell_type": "markdown",
   "metadata": {},
   "source": [
    "Load the rg = 1.2 nm (3 PLGA N = 20 oligomer/BSA system) "
   ]
  },
  {
   "cell_type": "markdown",
   "metadata": {},
   "source": [
    "### Calc. total fraction of contacts"
   ]
  },
  {
   "cell_type": "code",
   "execution_count": 17,
   "metadata": {},
   "outputs": [],
   "source": [
    "# Set up the MD Simulation, Make sure you do gmx trjconv -s topol.tpr -f confout.gro  -o new_conf.pdb -dump 0 -n bsaplga_nk.ndx to generate \n",
    "# a new pdb file that contains unique chain identifiers \n",
    "u_pn20 = mda.Universe(\"../1.2nm_bsa_prod/k4000_plumed/new_conf.pdb\", \"../1.2nm_bsa_prod/k4000_plumed/pp_1_2nmres.xtc\")"
   ]
  },
  {
   "cell_type": "code",
   "execution_count": 18,
   "metadata": {},
   "outputs": [
    {
     "data": {
      "text/plain": [
       "<Universe with 10148 atoms>"
      ]
     },
     "execution_count": 18,
     "metadata": {},
     "output_type": "execute_result"
    }
   ],
   "source": [
    "u_pn20"
   ]
  },
  {
   "cell_type": "markdown",
   "metadata": {},
   "source": [
    "Check that we are on the first frame"
   ]
  },
  {
   "cell_type": "code",
   "execution_count": 19,
   "metadata": {},
   "outputs": [
    {
     "data": {
      "text/plain": [
       "0"
      ]
     },
     "execution_count": 19,
     "metadata": {},
     "output_type": "execute_result"
    }
   ],
   "source": [
    "u_pn20.trajectory.frame"
   ]
  },
  {
   "cell_type": "code",
   "execution_count": 20,
   "metadata": {},
   "outputs": [
    {
     "data": {
      "text/plain": [
       "10001"
      ]
     },
     "execution_count": 20,
     "metadata": {},
     "output_type": "execute_result"
    }
   ],
   "source": [
    "pn20_len = len(u_pn20.trajectory)\n",
    "pn20_len"
   ]
  },
  {
   "cell_type": "code",
   "execution_count": null,
   "metadata": {},
   "outputs": [],
   "source": [
    "# Select the center PLGA residue atoms, heavy atoms only\n",
    "pn20_cent = u_pn20.select_atoms(\"resname PLG and not type H\")\n",
    "pn20_cent"
   ]
  },
  {
   "cell_type": "code",
   "execution_count": null,
   "metadata": {},
   "outputs": [],
   "source": [
    "# Select the terminal PLGA residues, heavy atoms only \n",
    "pn20_term = u_pn20.select_atoms(\"resname sPLG tPLG and not type H\")\n",
    "pn20_term"
   ]
  },
  {
   "cell_type": "code",
   "execution_count": 21,
   "metadata": {},
   "outputs": [
    {
     "data": {
      "text/plain": [
       "<AtomGroup with 543 atoms>"
      ]
     },
     "execution_count": 21,
     "metadata": {},
     "output_type": "execute_result"
    }
   ],
   "source": [
    "# Select one polymer chain, heavy atoms only \n",
    "#all_pn20 = u_pn20.select_atoms(\"(resname sPLG PLG tPLG and segid B) and not type H\")\n",
    "\n",
    "#Select all the PLGA residues, heavy atoms only\n",
    "all_pn20 = u_pn20.select_atoms(\"resname sPLG PLG tPLG and not type H\")\n",
    "all_pn20"
   ]
  },
  {
   "cell_type": "code",
   "execution_count": 22,
   "metadata": {},
   "outputs": [
    {
     "data": {
      "text/plain": [
       "<AtomGroup with 4653 atoms>"
      ]
     },
     "execution_count": 22,
     "metadata": {},
     "output_type": "execute_result"
    }
   ],
   "source": [
    "# Select BSA residues, heavy atoms only \n",
    "prot = u_pn20.select_atoms(\"protein and not type H\")\n",
    "prot"
   ]
  },
  {
   "cell_type": "markdown",
   "metadata": {},
   "source": [
    "Calculate AA frame counts for PLGA residues, 1.2 nm RG restraint, 100ns trajectory "
   ]
  },
  {
   "cell_type": "code",
   "execution_count": null,
   "metadata": {},
   "outputs": [],
   "source": [
    "#dmax = 4.0, protein group(4653 atoms), plga atom group (543 atoms), took 381.6 s (6 min 36s on 4 cores)\n",
    "start = 0\n",
    "end = pn20_len - 1\n",
    "s_time = timeit.default_timer()\n",
    "h2di = aa_frmcount(prot, all_pn20, dmax, u_pn20, start, end)\n",
    "timeit.default_timer() - s_time"
   ]
  },
  {
   "cell_type": "code",
   "execution_count": null,
   "metadata": {},
   "outputs": [],
   "source": [
    "# Frame count and occupancy for each residue\n",
    "h2di"
   ]
  },
  {
   "cell_type": "code",
   "execution_count": null,
   "metadata": {},
   "outputs": [],
   "source": [
    "len(h2di.keys())"
   ]
  },
  {
   "cell_type": "code",
   "execution_count": null,
   "metadata": {},
   "outputs": [],
   "source": [
    "a_a = [\"GLY\",\"ALA\",\"VAL\",\"LEU\",\"ILE\",\"MET\",\"PHE\",\"TRP\",\"PRO\",\"SER\",\"THR\",\"CYS\",\"TYR\",\"ASN\",\"GLN\",\"ASP\"\n",
    "               ,\"GLU\",\"LYS\",\"ARG\",\"HIS\"]"
   ]
  },
  {
   "cell_type": "code",
   "execution_count": null,
   "metadata": {},
   "outputs": [],
   "source": [
    "# This code chunk gets the BSA residues and their corresponding number in a pandas dataframe \n",
    "red_bsa = []\n",
    "bh = np.arange(0,584)\n",
    "for i in range(583):\n",
    "    b_str = str(list(prot.residues[i:i+1]))\n",
    "    if str(bh[i+1]) in b_str: \n",
    "        red_bsa.append(str(b_str[10:13])+\" \"+str(bh[i+1]))"
   ]
  },
  {
   "cell_type": "code",
   "execution_count": null,
   "metadata": {},
   "outputs": [],
   "source": [
    "pr_res = list(prot.residues)\n",
    "ss_res = [str(row) for row in pr_res]\n",
    "rkg = {key:h2di[key][0] for key, value in h2di.items()}\n",
    "plg_1_2nmaa = pd.DataFrame(data=ss_res, columns=[\"BSA_des_res\"])\n",
    "plg_1_2nmaa['mda_plga_frm_1.2nm'] = plg_1_2nmaa['BSA_des_res'].map(rkg)\n",
    "plg_1_2nmaa['BSA_des_res'] = red_bsa\n",
    "plg_1_2nmaa['mda_plga_frm_1.2nm'] = plg_1_2nmaa['mda_plga_frm_1.2nm'].replace('nan', np.nan).fillna(0)\n",
    "plg_1_2nmaa.tail()"
   ]
  },
  {
   "cell_type": "code",
   "execution_count": null,
   "metadata": {},
   "outputs": [],
   "source": [
    "# Read in data from the oputput of wrapper.sh, where the frame count is given for each BSA residue that was within \n",
    "# 4 angstroms of PLGA trimer \n",
    "wat_data = pd.read_csv('occ_BSA1ns.txt', sep=\" \", header=None, usecols=None ,index_col=None)\n",
    "wat_data.columns = [\"BSA_res_no\",\"No. of frames (VMD)\"]\n",
    "wat_data = wat_data.drop(\"BSA_res_no\", axis=1)\n",
    "\n",
    "pr_res = list(prot.residues)\n",
    "ss_res = [str(row) for row in pr_res]\n",
    "\n",
    "wat_data['BSA_des_res'] = ss_res\n",
    "wat_data = wat_data[['BSA_des_res',\"No. of frames (VMD)\"]]\n",
    "#wat_data.head()\n",
    "\n",
    "# load MDAnalysis values from MDA_BSA1ns.txt file(129003 atoms SOL group was used to calc. frame counts for txt.\n",
    "# file)\n",
    "h2ob_dict = json.load(open(\"MDA_BSA1ns.txt\"))\n",
    "wat_data['Mda_frames'] = wat_data['BSA_des_res'].map(h2ob_dict)\n",
    "\n",
    "\n",
    "# From MD Analysis\n",
    "#Get the count of bsa residues that have 1001 or 1002 frames ( I ran a 1 ns NPT simulation of 1 BSA in water )\n",
    "\n",
    "#aa_count = pd.DataFrame(data=a_a)\n",
    "c_list = []\n",
    "\n",
    "for i in range(len(a_a)):\n",
    "    count = 0\n",
    "    for index, row in wat_data.iterrows():\n",
    "        if a_a[i] in row[\"BSA_des_res\"]:\n",
    "            if row['Mda_frames'] == 1001: \n",
    "                count += 1\n",
    "                #c_list.append(str(str(a_a[i])+\"  \"+str(row['No. of frames']))) \n",
    "            elif row['Mda_frames'] == 1000:\n",
    "                count += 1\n",
    "                #c_list.append(str(str(a_a[i])+\"  \"+str(row['No. of frames'])))\n",
    "    c_list.append(str(str(a_a[i])+\"  \"+str(count)))\n",
    "    \n",
    "#c_list\n",
    "\n",
    "# From VMD\n",
    "#Get the count of bsa residues that have 1001 or 1002 frames ( I ran a 1 ns NPT simulation of 1 BSA in water )\n",
    "\n",
    "#aa_count = pd.DataFrame(data=a_a)\n",
    "vmd_list = []\n",
    "\n",
    "for i in range(len(a_a)):\n",
    "    count = 0\n",
    "    for index, row in wat_data.iterrows():\n",
    "        if a_a[i] in row[\"BSA_des_res\"]:\n",
    "            if row[\"No. of frames (VMD)\"] == 1001: \n",
    "                count += 1\n",
    "                #c_list.append(str(str(a_a[i])+\"  \"+str(row['No. of frames']))) \n",
    "            elif row[\"No. of frames (VMD)\"] == 1002:\n",
    "                count += 1\n",
    "                #c_list.append(str(str(a_a[i])+\"  \"+str(row['No. of frames'])))\n",
    "    vmd_list.append(str(str(a_a[i])+\"  \"+str(count)))\n",
    "\n",
    "# Main difference is that Alanine 583 is counted for all 1001 frames. It seems VMD is unable to calc dist for that res\n",
    "#vmd_list\n",
    "\n",
    "#hydrophobic_res = ['ALA', 'ILE', 'LEU', 'VAL', 'GLY', 'PRO','PHE', 'TRP','MET']\n",
    "#polar_res = ['ASN', 'CYS', 'GLN', 'SER', 'THR','TYR']\n",
    "#neg_res = ['ASP', 'GLU']\n",
    "#pos_res = ['ARG', 'HIS', 'LYS']\n",
    "# aromatic_res = ['PHE', 'TRP', 'TYR', 'HIS']\n",
    "#all_res = [pos_res, neg_res, polar_res, hydrophobic_res]\n",
    "\n",
    "# Put the AA count in a pandas dataframe \n",
    "dg , ji = AA_list_org(c_list)\n",
    "aa_count = pd.DataFrame(data=dg, index=None, columns=['Amino_acids'])\n",
    "new_lf = pd.Series(data=ji, index=None)\n",
    "vmg, vmdj = AA_list_org(vmd_list)\n",
    "n2lf = pd.Series(data=vmdj, index=None)\n",
    "aa_count['No_of_surf_res (MDAnalysis)'] = new_lf\n",
    "aa_count['No_of_surf_res (VMD)'] = n2lf"
   ]
  },
  {
   "cell_type": "code",
   "execution_count": null,
   "metadata": {},
   "outputs": [],
   "source": [
    "apl_list = []\n",
    "\n",
    "# Some residues don't have any contact with the 3 N = 20 PLGA oligomers within 100 ns,\n",
    "# Put residues that do have contact with BSA in a separate list\n",
    "for index, r_pl in plg_1_2nmaa.iterrows():\n",
    "    if r_pl['mda_plga_frm_1.2nm'] != 0:\n",
    "        apl_list.append(r_pl['BSA_des_res'])\n",
    "        \n",
    "# This chunk of code gets an AA count from the above list, in order \n",
    "# to get a total number of residues that contact BSA\n",
    "cpl_l = []\n",
    "\n",
    "for index, r_a in aa_count.iterrows():\n",
    "    count = 0\n",
    "    for i in range(len(apl_list)):\n",
    "        if r_a['Amino_acids'] in apl_list[i]:\n",
    "            count += 1\n",
    "    cpl_l.append(count)      \n",
    "        \n",
    "aa_count['plga_1.2nm_100ns'] = cpl_l\n",
    "aa_count"
   ]
  },
  {
   "cell_type": "code",
   "execution_count": null,
   "metadata": {},
   "outputs": [],
   "source": [
    "# This gives the total number of residues that are within 4 angstroms of a PLGA oligomer residue\n",
    "# within a 100 ns trajectory block\n",
    "aa_count['plga_1.2nm_100ns'].sum()"
   ]
  },
  {
   "cell_type": "code",
   "execution_count": null,
   "metadata": {},
   "outputs": [],
   "source": [
    "# This gives the total number of residues that are within 4 angstroms of a water molecule\n",
    "# within a 1 ns trajectory block\n",
    "aa_count['No_of_surf_res (MDAnalysis)'].sum()"
   ]
  },
  {
   "cell_type": "code",
   "execution_count": null,
   "metadata": {},
   "outputs": [],
   "source": [
    "# This gives the total fraction of contacts within the 1.2 nm Rg 100 ns trajectory\n",
    "aa_count['plga_1.2nm_100ns'].sum()/aa_count['No_of_surf_res (MDAnalysis)'].sum()"
   ]
  },
  {
   "cell_type": "markdown",
   "metadata": {},
   "source": [
    "Calculate mean occupancy and the standard deviation for 1.2 nm trajectory\n",
    "\n",
    "Numpy mean and std function was used to calculate mean occupancy and std dev using occ values from aa_frmcount output"
   ]
  },
  {
   "cell_type": "code",
   "execution_count": null,
   "metadata": {},
   "outputs": [],
   "source": [
    "# Mean occupancy and std deviation \n",
    "ll_mo = [value[1] for key, value in h2di.items()]\n",
    "print(\"Mean Occpancy (1.2 nm Rg): \"+str(np.mean(ll_mo)), \"Occ. std. dev.: \"+str(np.std(ll_mo)))"
   ]
  },
  {
   "cell_type": "markdown",
   "metadata": {},
   "source": [
    "### Calc. fractional contacts for each AA group type "
   ]
  },
  {
   "cell_type": "code",
   "execution_count": null,
   "metadata": {},
   "outputs": [],
   "source": [
    "cd_12nm = frac_cont(h2di)\n",
    "cd_12nm"
   ]
  },
  {
   "cell_type": "code",
   "execution_count": null,
   "metadata": {},
   "outputs": [],
   "source": [
    "cd = frac_cont(h2di)\n",
    "kklh = []\n",
    "for key, value in cd.items():\n",
    "    kklh.append(value[1])\n",
    "# Must substract aromatic residues, since they are already counted\n",
    "sum(kklh) - cd['Aromatic'][1]"
   ]
  },
  {
   "cell_type": "code",
   "execution_count": null,
   "metadata": {},
   "outputs": [],
   "source": [
    "start = 0\n",
    "end = pn20_len - 1\n",
    "aa_12nm, l_f12nm = gtwo_trjcnt(prot, all_pn20, dmax, u_pn20, start, end)"
   ]
  },
  {
   "cell_type": "code",
   "execution_count": null,
   "metadata": {},
   "outputs": [],
   "source": [
    "aa_12nm"
   ]
  },
  {
   "cell_type": "code",
   "execution_count": null,
   "metadata": {},
   "outputs": [],
   "source": [
    "l_f12nm.shape"
   ]
  },
  {
   "cell_type": "code",
   "execution_count": null,
   "metadata": {},
   "outputs": [],
   "source": [
    "no_surf = aa_count['No_of_surf_res (MDAnalysis)'].sum()\n",
    "no_surf"
   ]
  },
  {
   "cell_type": "code",
   "execution_count": null,
   "metadata": {},
   "outputs": [],
   "source": [
    "fcnt_rg1_2nm, prgrp_1_2nm, aa_matx = bavg_frac_cnt(5, prot, all_pn20, dmax, u_pn20, no_surf, 0, 10000)"
   ]
  },
  {
   "cell_type": "code",
   "execution_count": null,
   "metadata": {},
   "outputs": [],
   "source": [
    "no_surf"
   ]
  },
  {
   "cell_type": "code",
   "execution_count": null,
   "metadata": {},
   "outputs": [],
   "source": [
    "fcnt_rg1_2nm"
   ]
  },
  {
   "cell_type": "code",
   "execution_count": null,
   "metadata": {},
   "outputs": [],
   "source": [
    "prgrp_1_2nm"
   ]
  },
  {
   "cell_type": "code",
   "execution_count": null,
   "metadata": {},
   "outputs": [],
   "source": [
    "fc_12nm_mean = np.array([np.mean(fcnt_rg1_2nm['Negative']), np.mean(fcnt_rg1_2nm['Positive'])\n",
    "                        ,np.mean(fcnt_rg1_2nm['Polar']),np.mean(fcnt_rg1_2nm['Hydrophobic'])\n",
    "                        , np.mean(fcnt_rg1_2nm['Aromatic'])])\n",
    "fc_12nm_mean"
   ]
  },
  {
   "cell_type": "code",
   "execution_count": null,
   "metadata": {},
   "outputs": [],
   "source": [
    "fc_12nm_std = np.array([np.std(fcnt_rg1_2nm['Negative']), np.std(fcnt_rg1_2nm['Positive'])\n",
    "                       ,np.std(fcnt_rg1_2nm['Polar']),np.std(fcnt_rg1_2nm['Hydrophobic'])\n",
    "                       , np.std(fcnt_rg1_2nm['Aromatic'])])\n",
    "fc_12nm_std"
   ]
  },
  {
   "cell_type": "code",
   "execution_count": null,
   "metadata": {},
   "outputs": [],
   "source": [
    "x_pos = np.arange(5)\n",
    "aa_types = [\"Negative\", \"Positive\", \"Polar\", \"Hydrophobic\", \"Aromatic\"]\n",
    "plt.figure(figsize=(7,7))\n",
    "plt.bar(x_pos, fc_12nm_mean, yerr=fc_12nm_std, ecolor='black',capsize=5, color='c')\n",
    "plt.title(r'Fractional Contacts 1.2 nm Rg restrained', fontsize=15)\n",
    "plt.xticks(x_pos, labels=aa_types, fontsize=12)\n",
    "plt.ylabel(r'Fractional Contacts', fontsize=15)\n",
    "#plt.ylim(-1.9,0)\n",
    "#font = font_manager.FontProperties(family='Arial', style='normal', size='14')\n",
    "#plt.legend([r'$N_{PLGA}$ = 8: $L_{p}$ = 17.8 $\\AA$ ± 1.5 $\\AA$'], loc=3, frameon=0, fontsize=14, prop=font)\n",
    "#plt.tick_params(labelsize=14)\n",
    "#plt.text(5,-0.15,r'R$^{2}$ = 0.99', fontsize=15, color='blue')"
   ]
  },
  {
   "cell_type": "markdown",
   "metadata": {},
   "source": [
    "### Total fraction of contacts: averages and std dev calc from 5 20ns blocks"
   ]
  },
  {
   "cell_type": "code",
   "execution_count": null,
   "metadata": {},
   "outputs": [],
   "source": [
    "np.mean(fcnt_rg1_2nm['total_frac'])"
   ]
  },
  {
   "cell_type": "code",
   "execution_count": null,
   "metadata": {},
   "outputs": [],
   "source": [
    "np.std(fcnt_rg1_2nm['total_frac'])"
   ]
  },
  {
   "cell_type": "markdown",
   "metadata": {},
   "source": [
    "### Avg no. PLGA residues per BSA AA residue group "
   ]
  },
  {
   "cell_type": "code",
   "execution_count": null,
   "metadata": {},
   "outputs": [],
   "source": [
    "prgrp_1_2nm"
   ]
  },
  {
   "cell_type": "code",
   "execution_count": null,
   "metadata": {},
   "outputs": [],
   "source": [
    "mean_12nm = np.zeros(shape=5)\n",
    "std_12nm = np.zeros(shape=5)\n",
    "count = 0\n",
    "for key, value in prgrp_1_2nm.items():\n",
    "    mpl_12nm = []\n",
    "    var_12nm = []\n",
    "    for i in prgrp_1_2nm[str(key)].flat:\n",
    "        mpl_12nm.append(i[0])\n",
    "        var_12nm.append((i[1])**2)\n",
    "    \n",
    "    # calc frac cont averages\n",
    "    mean_12nm[count] = np.mean(mpl_12nm)\n",
    "    \n",
    "    # calc frac cont std dev: https://stats.stackexchange.com/questions/25848/how-to-sum-a-standard-deviation \n",
    "    std_12nm[count] = np.std(mpl_12nm)\n",
    "    # std_12nm[count] = np.sqrt(np.sum(var_12nm)/5)\n",
    "    \n",
    "    count += 1\n"
   ]
  },
  {
   "cell_type": "code",
   "execution_count": null,
   "metadata": {},
   "outputs": [],
   "source": [
    "mean_12nm"
   ]
  },
  {
   "cell_type": "code",
   "execution_count": null,
   "metadata": {},
   "outputs": [],
   "source": []
  },
  {
   "cell_type": "code",
   "execution_count": null,
   "metadata": {},
   "outputs": [],
   "source": [
    "std_12nm "
   ]
  },
  {
   "cell_type": "code",
   "execution_count": null,
   "metadata": {},
   "outputs": [],
   "source": [
    "x_pos = np.arange(5)\n",
    "aa_types = [\"Negative\", \"Positive\", \"Polar\", \"Hydrophobic\", \"Aromatic\"]\n",
    "plt.figure(figsize=(7,7))\n",
    "plt.bar(x_pos, mean_12nm, yerr=std_12nm, ecolor='black',capsize=5)\n",
    "plt.title(r'No. of PLGA residues 1.2 nm Rg restrained', fontsize=15)\n",
    "plt.xticks(x_pos, labels=aa_types, fontsize=12)\n",
    "plt.ylabel(r'No. of PLGA residues', fontsize=15)"
   ]
  },
  {
   "cell_type": "markdown",
   "metadata": {},
   "source": [
    "### Protein/polymer contact map movie"
   ]
  },
  {
   "cell_type": "code",
   "execution_count": null,
   "metadata": {},
   "outputs": [],
   "source": [
    "#Select all the PLGA residues, heavy atoms only \n",
    "all_pn20 = u_pn20.select_atoms(\"resname sPLG PLG tPLG and not type H\")\n",
    "all_pn20"
   ]
  },
  {
   "cell_type": "code",
   "execution_count": null,
   "metadata": {},
   "outputs": [],
   "source": [
    "g2_d, fr_p, h_mat = grptwocnt_aa(prot, all_pn20, dmax, u_pn20)"
   ]
  },
  {
   "cell_type": "code",
   "execution_count": null,
   "metadata": {},
   "outputs": [],
   "source": [
    "# Select one polymer chain, heavy atoms only \n",
    "all_pn20_B = u_pn20.select_atoms(\"(resname sPLG PLG tPLG and segid B) and not type H\")\n",
    "\n",
    "all_pn20_C = u_pn20.select_atoms(\"(resname sPLG PLG tPLG and segid B) and not type H\")"
   ]
  },
  {
   "cell_type": "code",
   "execution_count": 23,
   "metadata": {},
   "outputs": [],
   "source": [
    "# Need to fix function, the residue number are not counting the other 2 PLGA oligomers cuz of same resid number\n",
    "trj_ppmap_12nm = prot_poly_cntmovie(prot, all_pn20, dmax, u_pn20, 0, 10000)\n",
    "#trj_ppmap_12nm_chC = prot_poly_cntmovie(prot, all_pn20_C, dmax, u_pn20, 0, 10000)"
   ]
  },
  {
   "cell_type": "code",
   "execution_count": null,
   "metadata": {},
   "outputs": [],
   "source": [
    "trj_ppmap_12nm[9999]"
   ]
  },
  {
   "cell_type": "code",
   "execution_count": null,
   "metadata": {},
   "outputs": [],
   "source": [
    "np.save('1.2nm_res.npy', trj_ppmap_12nm)    # .npy extension is added if not given"
   ]
  },
  {
   "cell_type": "code",
   "execution_count": 24,
   "metadata": {},
   "outputs": [
    {
     "data": {
      "application/vnd.jupyter.widget-view+json": {
       "model_id": "d75bb75b190d42d8a1b74ecaf5f6674d",
       "version_major": 2,
       "version_minor": 0
      },
      "text/plain": [
       "Canvas(toolbar=Toolbar(toolitems=[('Home', 'Reset original view', 'home', 'home'), ('Back', 'Back to previous …"
      ]
     },
     "metadata": {},
     "output_type": "display_data"
    }
   ],
   "source": [
    "fig = plt.figure(figsize=(10,10))\n",
    "\n",
    "# Set the axis and the plot titles pp\n",
    "\n",
    "plt.title(\"BSA/PLGA contact map 1.2 nm res\", fontsize=22, loc='left')\n",
    "plt.xlabel(\"PLGA Residue No.\", fontsize=22)\n",
    "plt.ylabel(\"BSA Residue No.\", fontsize=20)\n",
    "\n",
    " # Set the axis range \n",
    "plt.ylim(583, 0)\n",
    "plt.xlim(0, 60)\n",
    "\n",
    "# Plot bands for each chain \n",
    "BANDS = (\n",
    "    (0, 20, \"purple\", \"B\"),\n",
    "    (20, 40, \"blue\", \"C\"),\n",
    "    (40, 60, \"green\", \"D\"),\n",
    ")\n",
    "    \n",
    "text_y = 0.98 # Close to the top\n",
    "for start, stop, color, band in BANDS:\n",
    "    plt.axvspan(start, stop,color=color, alpha=0.15)\n",
    "    text_x = middle_of_band(start,stop)\n",
    "    plt.text(\n",
    "        text_x,\n",
    "        text_y,\n",
    "        \"PLGA chain \" + band,\n",
    "        color=color,\n",
    "        fontsize=18,\n",
    "        transform=fig.gca().transAxes,\n",
    "        horizontalalignment='center',\n",
    "        verticalalignment='center',\n",
    "        style='italic',\n",
    "    )\n",
    "    \n",
    "plt.text(0.93, 1, \"Time [ns]:\", fontsize=20, transform=fig.gca().transAxes, horizontalalignment='right', verticalalignment='bottom')\n",
    "\n",
    "# Set tick label size\n",
    "fig.gca().tick_params(axis='both', which='major', labelsize=20)\n",
    "\n",
    "ims = []\n",
    "for i in range(10000):\n",
    "    data = trj_ppmap_12nm[i]\n",
    "    im = plt.imshow(data, aspect='auto', cmap='Greys')\n",
    "    t_sim = plt.text(1, 1, str(i/100), fontsize=20, transform=fig.gca().transAxes, horizontalalignment='right', verticalalignment='bottom')\n",
    "    ims.append([im, t_sim])\n",
    "    \n",
    "ani = animation.ArtistAnimation(fig, ims, blit=True, repeat=False)\n",
    "ani.save('1.2nm_res.mp4',writer='ffmpeg', fps=50, bitrate=100000)\n",
    "#plt.tight_layout()\n",
    "#plt.show()"
   ]
  },
  {
   "cell_type": "code",
   "execution_count": null,
   "metadata": {},
   "outputs": [],
   "source": [
    "def com_plga_oligs(g2_atoms, n_mon):\n",
    "    hj_1 = []\n",
    "    hj_2 = []\n",
    "    hj_3 = []\n",
    "    for i in range(n_mon):\n",
    "        if i == 0:\n",
    "            absdif = np.abs(np.diff(np.equal(list(g2_atoms.resids),i+1).view(np.int8)))\n",
    "            rep_pga = np.concatenate(([0], np.where(absdif == 1)[0]))\n",
    "            rep_pga += 1\n",
    "            #print(rep_pga)\n",
    "            rpn20 = rep_pga.reshape(3,2)\n",
    "            hj_1.append(g2_atoms[rpn20[0][0]:rpn20[0][1]].center_of_mass())\n",
    "            hj_2.append(g2_atoms[rpn20[1][0]:rpn20[1][1]].center_of_mass())\n",
    "            hj_3.append(g2_atoms[rpn20[2][0]:rpn20[2][1]].center_of_mass())\n",
    "        elif i != 0 and i != 19:\n",
    "            absdif = np.abs(np.diff(np.equal(list(g2_atoms.resids),i+1).view(np.int8)))\n",
    "            rep_pga = np.where(absdif == 1)[0]+1\n",
    "            #print(rep_pga)\n",
    "            rpn20 = rep_pga.reshape(3,2)\n",
    "            hj_1.append(g2_atoms[rpn20[0][0]:rpn20[0][1]].center_of_mass())\n",
    "            hj_2.append(g2_atoms[rpn20[1][0]:rpn20[1][1]].center_of_mass())\n",
    "            hj_3.append(g2_atoms[rpn20[2][0]:rpn20[2][1]].center_of_mass())\n",
    "        elif i == 19: \n",
    "            absdif = np.abs(np.diff(np.equal(list(g2_atoms.resids),i+1).view(np.int8)))\n",
    "            rep_pga = np.where(absdif == 1)[0]+1\n",
    "            rep_pga = np.concatenate((rep_pga,[len(g2_atoms)]))\n",
    "            #print(rep_pga)\n",
    "            rpn20 = rep_pga.reshape(3,2)\n",
    "            hj_1.append(g2_atoms[rpn20[0][0]:rpn20[0][1]].center_of_mass())\n",
    "            hj_2.append(g2_atoms[rpn20[1][0]:rpn20[1][1]].center_of_mass())\n",
    "            hj_3.append(g2_atoms[rpn20[2][0]:rpn20[2][1]].center_of_mass())\n",
    "    oligs_cb = np.concatenate((np.array(hj_1), np.array(hj_2), np.array(hj_3)))\n",
    "    \n",
    "    return oligs_cb"
   ]
  },
  {
   "cell_type": "code",
   "execution_count": null,
   "metadata": {},
   "outputs": [],
   "source": [
    "cm_12nmoligs = com_plga_oligs(all_pn20, 20)\n",
    "#cm_12nmoligs"
   ]
  },
  {
   "cell_type": "code",
   "execution_count": null,
   "metadata": {},
   "outputs": [],
   "source": [
    "len(cm_12nmoligs)"
   ]
  },
  {
   "cell_type": "code",
   "execution_count": null,
   "metadata": {},
   "outputs": [],
   "source": [
    "prot.select_atoms(\"resid 409\").center_of_mass()"
   ]
  },
  {
   "cell_type": "code",
   "execution_count": null,
   "metadata": {},
   "outputs": [],
   "source": [
    "cm_12nmoligs[18]"
   ]
  },
  {
   "cell_type": "code",
   "execution_count": null,
   "metadata": {},
   "outputs": [],
   "source": [
    "nbb = maa_dist.distance_array(prot.select_atoms(\"resid 409\").center_of_mass(), cm_12nmoligs[18]\n",
    "                              ,box=u_pn20.trajectory.ts.dimensions)\n",
    "#np.nonzero(nbb < dmax)\n",
    "nbb"
   ]
  },
  {
   "cell_type": "code",
   "execution_count": null,
   "metadata": {},
   "outputs": [],
   "source": [
    "# I wanted to examine contacts between heavy atoms in a residue named NDP and residues 1 to 268, \n",
    "#using the first frame to define native contacts and a distance cutoff of 3.0 Ang, COM wont be under 4 A\n",
    "u_pn20.trajectory[0]\n",
    "for ts in u_pn20.trajectory[0:10000]:\n",
    "    pr_12nm = []\n",
    "    for i in range(583): \n",
    "    #print(prot.select_atoms(\"resid \"+str(i+1)).resids)\n",
    "        pr_12nm.append(prot.select_atoms(\"resid \"+str(i+1)).center_of_mass())\n",
    "    pr12nm_com = np.array(pr_12nm)\n",
    "    \n",
    "    cm_12nmoligs = com_plga_oligs(all_pn20, 20)\n",
    "    nbb = maa_dist.distance_array(prot.select_atoms(\"resid 409\").center_of_mass(), cm_12nmoligs[19]\n",
    "                              ,box=u_pn20.trajectory.ts.dimensions)\n",
    "    print(np.nonzero(nbb < dmax))\n",
    "    #pr12nm_com"
   ]
  },
  {
   "cell_type": "code",
   "execution_count": null,
   "metadata": {},
   "outputs": [],
   "source": [
    "# matrix containing the avg number of PLGA residues for each block for each amino acid \n",
    "np.where(aa_matx[0, 0] != 0)"
   ]
  },
  {
   "cell_type": "markdown",
   "metadata": {},
   "source": [
    "# 1.2 nm PLGA unrestrained Rg 100 ns trajectory"
   ]
  },
  {
   "cell_type": "markdown",
   "metadata": {},
   "source": [
    "Load the rg = 1.2 nm (3 PLGA N = 20 oligomer/BSA system)"
   ]
  },
  {
   "cell_type": "code",
   "execution_count": 25,
   "metadata": {},
   "outputs": [],
   "source": [
    "# load the unrestrained trajectory \n",
    "pn12nm_nores = mda.Universe(\"../1.2nm_bsa_prod/res_off/new_conf1.2nm.pdb\"\n",
    "                      , \"../1.2nm_bsa_prod/res_off/pp_12nmresoff.xtc\")"
   ]
  },
  {
   "cell_type": "markdown",
   "metadata": {},
   "source": [
    "Check that we are on the first frame"
   ]
  },
  {
   "cell_type": "code",
   "execution_count": 26,
   "metadata": {},
   "outputs": [
    {
     "data": {
      "text/plain": [
       "0"
      ]
     },
     "execution_count": 26,
     "metadata": {},
     "output_type": "execute_result"
    }
   ],
   "source": [
    "pn12nm_nores.trajectory.frame"
   ]
  },
  {
   "cell_type": "code",
   "execution_count": 27,
   "metadata": {},
   "outputs": [
    {
     "data": {
      "text/plain": [
       "10001"
      ]
     },
     "execution_count": 27,
     "metadata": {},
     "output_type": "execute_result"
    }
   ],
   "source": [
    "pn20nr_len = len(pn12nm_nores.trajectory)\n",
    "pn20nr_len"
   ]
  },
  {
   "cell_type": "code",
   "execution_count": 28,
   "metadata": {},
   "outputs": [
    {
     "data": {
      "text/plain": [
       "<AtomGroup with 543 atoms>"
      ]
     },
     "execution_count": 28,
     "metadata": {},
     "output_type": "execute_result"
    }
   ],
   "source": [
    "#Select all the PLGA residues, heavy atoms only \n",
    "pn20_allnr = pn12nm_nores.select_atoms(\"resname sPLG PLG tPLG and not type H\")\n",
    "pn20_allnr"
   ]
  },
  {
   "cell_type": "code",
   "execution_count": 29,
   "metadata": {},
   "outputs": [
    {
     "data": {
      "text/plain": [
       "<AtomGroup with 4653 atoms>"
      ]
     },
     "execution_count": 29,
     "metadata": {},
     "output_type": "execute_result"
    }
   ],
   "source": [
    "# Select BSA residues, heavy atoms only \n",
    "prot_nores = pn12nm_nores.select_atoms(\"protein and not type H\")\n",
    "prot_nores"
   ]
  },
  {
   "cell_type": "markdown",
   "metadata": {},
   "source": [
    "### Calc. total fraction of contacts"
   ]
  },
  {
   "cell_type": "code",
   "execution_count": null,
   "metadata": {},
   "outputs": [],
   "source": [
    "#dmax = 4.0, protein group(4653 atoms), plga atom group (543 atoms), took 381.6 s (6 min 36s on 4 cores)\n",
    "start = 0\n",
    "end = pn20nr_len - 1\n",
    "snr_time = timeit.default_timer()\n",
    "h2di_nr = aa_frmcount(prot_nores, pn20_allnr, dmax, pn12nm_nores, start, end)\n",
    "timeit.default_timer() - snr_time"
   ]
  },
  {
   "cell_type": "code",
   "execution_count": null,
   "metadata": {},
   "outputs": [],
   "source": [
    "len(h2di_nr.keys())"
   ]
  },
  {
   "cell_type": "code",
   "execution_count": null,
   "metadata": {},
   "outputs": [],
   "source": [
    "pr_resnr = list(prot_nores.residues)\n",
    "ss_resnr = [str(row) for row in pr_resnr]\n",
    "rkg_12nr = {key:h2di_nr[key][0] for key, value in h2di_nr.items()}\n",
    "plg_1_2nr = pd.DataFrame(data=ss_resnr, columns=[\"BSA_des_res\"])\n",
    "plg_1_2nr['mda_1.2nm_nores'] = plg_1_2nr['BSA_des_res'].map(rkg_12nr)\n",
    "plg_1_2nr['BSA_des_res'] = red_bsa\n",
    "plg_1_2nr['mda_1.2nm_nores'] = plg_1_2nr['mda_1.2nm_nores'].replace('nan', np.nan).fillna(0)\n",
    "plg_1_2nr.head()"
   ]
  },
  {
   "cell_type": "code",
   "execution_count": null,
   "metadata": {},
   "outputs": [],
   "source": [
    "apl_12nm_nr = []\n",
    "\n",
    "# Some residues don't have any contact with the 3 N = 20 PLGA oligomers within 100 ns,\n",
    "# Put residues that do have contact with BSA in a separate list\n",
    "for index, r_pl in plg_1_2nr.iterrows():\n",
    "    if r_pl['mda_1.2nm_nores'] != 0:\n",
    "        apl_12nm_nr.append(r_pl['BSA_des_res'])\n",
    "        \n",
    "# This chunk of code gets an AA count from the above list, in order \n",
    "# to get a total number of residues that contact BSA\n",
    "cpl_12nm_nr = []\n",
    "\n",
    "for index, r_a in aa_count.iterrows():\n",
    "    count = 0\n",
    "    for i in range(len(apl_12nm_nr)):\n",
    "        if r_a['Amino_acids'] in apl_12nm_nr[i]:\n",
    "            count += 1\n",
    "    cpl_12nm_nr.append(count)      \n",
    "        \n",
    "aa_count['plga_1.2nm_100ns_NR'] = cpl_12nm_nr\n",
    "#aa_count.drop('No_of_surf_res (VMD)', axis=1, inplace=True)\n",
    "aa_count"
   ]
  },
  {
   "cell_type": "code",
   "execution_count": null,
   "metadata": {},
   "outputs": [],
   "source": [
    "# This gives the total number of residues that are within 4 angstroms of a PLGA oligomer residue\n",
    "# within a 100 ns trajectory block\n",
    "aa_count['plga_1.2nm_100ns_NR'].sum()"
   ]
  },
  {
   "cell_type": "code",
   "execution_count": null,
   "metadata": {},
   "outputs": [],
   "source": [
    "# This gives the total number of residues that are within 4 angstroms of a water molecule\n",
    "# within a 1 ns trajectory block\n",
    "aa_count['No_of_surf_res (MDAnalysis)'].sum()"
   ]
  },
  {
   "cell_type": "code",
   "execution_count": null,
   "metadata": {},
   "outputs": [],
   "source": [
    "# This gives the total fraction of contacts within the 1.2 nm Rg 100 ns trajectory\n",
    "aa_count['plga_1.2nm_100ns_NR'].sum()/aa_count['No_of_surf_res (MDAnalysis)'].sum()"
   ]
  },
  {
   "cell_type": "code",
   "execution_count": null,
   "metadata": {},
   "outputs": [],
   "source": [
    "# Mean occupancy and std deviation \n",
    "ll_mo12_nr = [value[1] for key, value in h2di_nr.items()]\n",
    "print(\"Mean Occpancy (1.2 nm unrestrained Rg): \"+str(np.mean(ll_mo12_nr)), \"Occ. std. dev.: \"+str(np.std(ll_mo12_nr)))"
   ]
  },
  {
   "cell_type": "code",
   "execution_count": null,
   "metadata": {},
   "outputs": [],
   "source": [
    "cd_12nm_nr = frac_cont(h2di_nr)\n",
    "cd_12nm_nr"
   ]
  },
  {
   "cell_type": "markdown",
   "metadata": {},
   "source": [
    "### Calc. fractional contacts for each AA group type "
   ]
  },
  {
   "cell_type": "code",
   "execution_count": null,
   "metadata": {},
   "outputs": [],
   "source": [
    "fcnt1_2nm_nr, prgrp12nm_nr, aamatx_12nm_nr = bavg_frac_cnt(5, prot_nores, pn20_allnr, dmax,\n",
    "                                                        pn12nm_nores, no_surf, 0, 10000)"
   ]
  },
  {
   "cell_type": "code",
   "execution_count": null,
   "metadata": {},
   "outputs": [],
   "source": [
    "fcnt1_2nm_nr"
   ]
  },
  {
   "cell_type": "code",
   "execution_count": null,
   "metadata": {},
   "outputs": [],
   "source": [
    "fc_12nmnr_mean = np.array([np.mean(fcnt1_2nm_nr['Negative']), np.mean(fcnt1_2nm_nr['Positive'])\n",
    "                        ,np.mean(fcnt1_2nm_nr['Polar']),np.mean(fcnt1_2nm_nr['Hydrophobic'])\n",
    "                        , np.mean(fcnt1_2nm_nr['Aromatic'])])\n",
    "fc_12nmnr_mean"
   ]
  },
  {
   "cell_type": "code",
   "execution_count": null,
   "metadata": {},
   "outputs": [],
   "source": [
    "fc_12nmnr_std = np.array([np.std(fcnt1_2nm_nr['Negative']), np.std(fcnt1_2nm_nr['Positive'])\n",
    "                       ,np.std(fcnt1_2nm_nr['Polar']),np.std(fcnt1_2nm_nr['Hydrophobic'])\n",
    "                       , np.std(fcnt1_2nm_nr['Aromatic'])])\n",
    "fc_12nmnr_std"
   ]
  },
  {
   "cell_type": "code",
   "execution_count": null,
   "metadata": {},
   "outputs": [],
   "source": [
    "x_pos = np.arange(5)\n",
    "aa_types = [\"Negative\", \"Positive\", \"Polar\", \"Hydrophobic\", \"Aromatic\"]\n",
    "plt.figure(figsize=(7,7))\n",
    "plt.bar(x_pos, fc_12nmnr_mean, yerr=fc_12nmnr_std, ecolor='black',capsize=5, color='c')\n",
    "plt.title(r'Fractional Contacts 1.2 nm Rg unrestrained', fontsize=15)\n",
    "plt.xticks(x_pos, labels=aa_types, fontsize=12)\n",
    "plt.ylabel(r'Fractional Contacts', fontsize=15)"
   ]
  },
  {
   "cell_type": "markdown",
   "metadata": {},
   "source": [
    "### Total fraction of contacts: averages and std dev calc from 5 20ns blocks"
   ]
  },
  {
   "cell_type": "code",
   "execution_count": null,
   "metadata": {},
   "outputs": [],
   "source": [
    "np.mean(fcnt1_2nm_nr['total_frac'])"
   ]
  },
  {
   "cell_type": "code",
   "execution_count": null,
   "metadata": {},
   "outputs": [],
   "source": [
    "np.std(fcnt1_2nm_nr['total_frac'])"
   ]
  },
  {
   "cell_type": "code",
   "execution_count": null,
   "metadata": {},
   "outputs": [],
   "source": []
  },
  {
   "cell_type": "markdown",
   "metadata": {},
   "source": [
    "### Avg no. PLGA residues per BSA AA residue group "
   ]
  },
  {
   "cell_type": "code",
   "execution_count": null,
   "metadata": {},
   "outputs": [],
   "source": [
    "prgrp12nm_nr"
   ]
  },
  {
   "cell_type": "code",
   "execution_count": null,
   "metadata": {},
   "outputs": [],
   "source": [
    "mean_12nm_nr = np.zeros(shape=5)\n",
    "std_12nm_nr = np.zeros(shape=5)\n",
    "count = 0\n",
    "for key, value in prgrp12nm_nr.items():\n",
    "    mpl_12nm_nr = []\n",
    "    var_12nm_nr = []\n",
    "    for i in prgrp12nm_nr[str(key)].flat:\n",
    "        mpl_12nm_nr.append(i[0])\n",
    "        var_12nm_nr.append((i[1])**2)\n",
    "    \n",
    "    # calc frac cont averages\n",
    "    mean_12nm_nr[count] = np.mean(mpl_12nm_nr)\n",
    "    \n",
    "    # calc frac cont std dev: https://stats.stackexchange.com/questions/25848/how-to-sum-a-standard-deviation \n",
    "    std_12nm_nr[count] = np.std(mpl_12nm_nr)\n",
    "    \n",
    "    count += 1\n"
   ]
  },
  {
   "cell_type": "code",
   "execution_count": null,
   "metadata": {},
   "outputs": [],
   "source": [
    "mean_12nm_nr"
   ]
  },
  {
   "cell_type": "code",
   "execution_count": null,
   "metadata": {},
   "outputs": [],
   "source": [
    "std_12nm_nr"
   ]
  },
  {
   "cell_type": "code",
   "execution_count": null,
   "metadata": {},
   "outputs": [],
   "source": [
    "#std_12nm_nr[4] = 1\n",
    "std_12nm_nr"
   ]
  },
  {
   "cell_type": "code",
   "execution_count": null,
   "metadata": {},
   "outputs": [],
   "source": [
    "x_pos = np.arange(5)\n",
    "aa_types = [\"Negative\", \"Positive\", \"Polar\", \"Hydrophobic\", \"Aromatic\"]\n",
    "plt.figure(figsize=(7,7))\n",
    "plt.bar(x_pos, mean_12nm_nr, yerr=std_12nm_nr, ecolor='black',capsize=5)\n",
    "plt.title(r'No. of PLGA residues 1.2 nm Rg unrestrained', fontsize=15)\n",
    "plt.xticks(x_pos, labels=aa_types, fontsize=12)\n",
    "plt.ylabel(r'No. of PLGA residues', fontsize=15)"
   ]
  },
  {
   "cell_type": "markdown",
   "metadata": {},
   "source": [
    "### Protein/polymer contact map movie"
   ]
  },
  {
   "cell_type": "code",
   "execution_count": 30,
   "metadata": {},
   "outputs": [],
   "source": [
    "trj_pp12nm_nr = prot_poly_cntmovie(prot_nores, pn20_allnr, dmax, pn12nm_nores, 0, 10000)\n",
    "#trj_ppmap_12nm_chC = prot_poly_cntmovie(prot, all_pn20_C, dmax, u_pn20, 0, 10000)"
   ]
  },
  {
   "cell_type": "code",
   "execution_count": null,
   "metadata": {},
   "outputs": [],
   "source": [
    "np.save('1.2nm_NoRes.npy', trj_pp12nm_nr)    # .npy extension is added if not given"
   ]
  },
  {
   "cell_type": "markdown",
   "metadata": {},
   "source": [
    "Redo movie"
   ]
  },
  {
   "cell_type": "code",
   "execution_count": 31,
   "metadata": {},
   "outputs": [
    {
     "data": {
      "application/vnd.jupyter.widget-view+json": {
       "model_id": "3523e43ef23746b48461a4889aa09ad2",
       "version_major": 2,
       "version_minor": 0
      },
      "text/plain": [
       "Canvas(toolbar=Toolbar(toolitems=[('Home', 'Reset original view', 'home', 'home'), ('Back', 'Back to previous …"
      ]
     },
     "metadata": {},
     "output_type": "display_data"
    }
   ],
   "source": [
    "fig = plt.figure(figsize=(10,10))\n",
    "\n",
    "# Set the axis and the plot titles pp\n",
    "\n",
    "plt.title(\"BSA/PLGA contact map 1.2 nm Unres\", fontsize=22, loc='left')\n",
    "plt.xlabel(\"PLGA Residue No.\", fontsize=22)\n",
    "plt.ylabel(\"BSA Residue No.\", fontsize=20)\n",
    "\n",
    " # Set the axis range \n",
    "plt.ylim(583, 0)\n",
    "plt.xlim(0, 60)\n",
    "\n",
    "# Plot bands for each chain \n",
    "BANDS = (\n",
    "    (0, 20, \"purple\", \"B\"),\n",
    "    (20, 40, \"blue\", \"C\"),\n",
    "    (40, 60, \"green\", \"D\"),\n",
    ")\n",
    "    \n",
    "text_y = 0.98 # Close to the top\n",
    "for start, stop, color, band in BANDS:\n",
    "    plt.axvspan(start, stop,color=color, alpha=0.15)\n",
    "    text_x = middle_of_band(start,stop)\n",
    "    plt.text(\n",
    "        text_x,\n",
    "        text_y,\n",
    "        \"PLGA chain \" + band,\n",
    "        color=color,\n",
    "        fontsize=18,\n",
    "        transform=fig.gca().transAxes,\n",
    "        horizontalalignment='center',\n",
    "        verticalalignment='center',\n",
    "        style='italic',\n",
    "    )\n",
    "    \n",
    "plt.text(0.94, 1, \"Time [ns]:\", fontsize=20, transform=fig.gca().transAxes, horizontalalignment='right', verticalalignment='bottom')\n",
    "\n",
    "# Set tick label size\n",
    "fig.gca().tick_params(axis='both', which='major', labelsize=20)\n",
    "\n",
    "ims = []\n",
    "for i in range(10000):\n",
    "    data = trj_pp12nm_nr[i]\n",
    "    im = plt.imshow(data, aspect='auto', cmap='Greys')\n",
    "    t_sim = plt.text(1.03, 1, str(i/100), fontsize=20, transform=fig.gca().transAxes, horizontalalignment='right', verticalalignment='bottom')\n",
    "    ims.append([im, t_sim])\n",
    "    \n",
    "ani = animation.ArtistAnimation(fig, ims, blit=True, repeat=False)\n",
    "ani.save('1.2nm_NoRes.mp4',writer='ffmpeg',fps=50, bitrate=100000)\n",
    "#plt.tight_layout()\n",
    "#plt.show()"
   ]
  },
  {
   "cell_type": "code",
   "execution_count": null,
   "metadata": {},
   "outputs": [],
   "source": []
  },
  {
   "cell_type": "code",
   "execution_count": null,
   "metadata": {},
   "outputs": [],
   "source": []
  },
  {
   "cell_type": "code",
   "execution_count": null,
   "metadata": {},
   "outputs": [],
   "source": []
  },
  {
   "cell_type": "markdown",
   "metadata": {},
   "source": [
    "# 1.5 nm PLGA restrained Rg 100 ns trajectory"
   ]
  },
  {
   "cell_type": "markdown",
   "metadata": {},
   "source": [
    "Load the rg = 1.5 nm (3 PLGA N = 20 oligomer/BSA system) "
   ]
  },
  {
   "cell_type": "code",
   "execution_count": null,
   "metadata": {},
   "outputs": [],
   "source": [
    "# Set up the MD Simulation\n",
    "u15nm_pn20 = mda.Universe(\"../1.5nm_bsa_prod/k4000_1.5nm/res_1.5nmconf.pdb\"\n",
    "                      , \"../1.5nm_bsa_prod/k4000_1.5nm/1_5nmppnopbc.xtc\")"
   ]
  },
  {
   "cell_type": "code",
   "execution_count": null,
   "metadata": {},
   "outputs": [],
   "source": [
    "u15nm_pn20"
   ]
  },
  {
   "cell_type": "code",
   "execution_count": null,
   "metadata": {},
   "outputs": [],
   "source": [
    "pn20_len15 = len(u15nm_pn20.trajectory)\n",
    "pn20_len15"
   ]
  },
  {
   "cell_type": "code",
   "execution_count": null,
   "metadata": {},
   "outputs": [],
   "source": [
    "#Select all the PLGA residues, heavy atoms only \n",
    "all15_pn20 = u15nm_pn20.select_atoms(\"resname sPLG PLG tPLG and not type H\")\n",
    "all15_pn20"
   ]
  },
  {
   "cell_type": "code",
   "execution_count": null,
   "metadata": {},
   "outputs": [],
   "source": [
    "# Select BSA residues, heavy atoms only \n",
    "prot_15nm = u15nm_pn20.select_atoms(\"protein and not type H\")\n",
    "prot_15nm"
   ]
  },
  {
   "cell_type": "code",
   "execution_count": null,
   "metadata": {},
   "outputs": [],
   "source": [
    "#dmax = 4.0, protein group(4653 atoms), plga atom group (543 atoms), took 381.6 s (6 min 36s on 4 cores)\n",
    "start = 0\n",
    "end = pn20_len15 - 1\n",
    "s_time = timeit.default_timer()\n",
    "h2di_15nm = aa_frmcount(prot_15nm, all15_pn20, dmax, u15nm_pn20, start, end)\n",
    "timeit.default_timer() - s_time\n",
    "h2di_15nm"
   ]
  },
  {
   "cell_type": "code",
   "execution_count": null,
   "metadata": {},
   "outputs": [],
   "source": [
    "len(h2di_15nm.keys())"
   ]
  },
  {
   "cell_type": "code",
   "execution_count": null,
   "metadata": {},
   "outputs": [],
   "source": [
    "pr_res15nm = list(prot_15nm.residues)\n",
    "ss_res15nm = [str(row) for row in pr_res15nm]\n",
    "rkg_15nm = {key:h2di_15nm[key][0] for key, value in h2di_15nm.items()}\n",
    "plg_1_5nmaa = pd.DataFrame(data=ss_res15nm, columns=[\"BSA_des_res\"])\n",
    "plg_1_5nmaa['mda_plga_frm_1.5nm'] = plg_1_5nmaa['BSA_des_res'].map(rkg_15nm)\n",
    "plg_1_5nmaa['BSA_des_res'] = red_bsa\n",
    "plg_1_5nmaa['mda_plga_frm_1.5nm'] = plg_1_5nmaa['mda_plga_frm_1.5nm'].replace('nan', np.nan).fillna(0)\n",
    "plg_1_5nmaa.head()"
   ]
  },
  {
   "cell_type": "code",
   "execution_count": null,
   "metadata": {},
   "outputs": [],
   "source": [
    "apl_15nm = []\n",
    "\n",
    "# Some residues don't have any contact with the 3 N = 20 PLGA oligomers within 100 ns,\n",
    "# Put residues that do have contact with BSA in a separate list\n",
    "for index, r_pl in plg_1_5nmaa.iterrows():\n",
    "    if r_pl['mda_plga_frm_1.5nm'] != 0:\n",
    "        apl_15nm.append(r_pl['BSA_des_res'])\n",
    "        \n",
    "# This chunk of code gets an AA count from the above list, in order \n",
    "# to get a total number of residues that contact BSA\n",
    "cpl_15nm = []\n",
    "\n",
    "for index, r_a in aa_count.iterrows():\n",
    "    count = 0\n",
    "    for i in range(len(apl_15nm)):\n",
    "        if r_a['Amino_acids'] in apl_15nm[i]:\n",
    "            count += 1\n",
    "    cpl_15nm.append(count)      \n",
    "        \n",
    "aa_count['plga_1.5nm_100ns'] = cpl_15nm\n",
    "#aa_count.drop('No_of_surf_res (VMD)', axis=1, inplace=True)\n",
    "aa_count"
   ]
  },
  {
   "cell_type": "code",
   "execution_count": null,
   "metadata": {},
   "outputs": [],
   "source": [
    "# This gives the total number of residues that are within 4 angstroms of a PLGA oligomer residue\n",
    "# within a 100 ns trajectory block\n",
    "aa_count['plga_1.5nm_100ns'].sum()"
   ]
  },
  {
   "cell_type": "code",
   "execution_count": null,
   "metadata": {},
   "outputs": [],
   "source": [
    "# This gives the total number of residues that are within 4 angstroms of a water molecule\n",
    "# within a 1 ns trajectory block\n",
    "aa_count['No_of_surf_res (MDAnalysis)'].sum()"
   ]
  },
  {
   "cell_type": "code",
   "execution_count": null,
   "metadata": {},
   "outputs": [],
   "source": [
    "# This gives the total fraction of contacts within the 1.2 nm Rg 100 ns trajectory\n",
    "aa_count['plga_1.5nm_100ns'].sum()/aa_count['No_of_surf_res (MDAnalysis)'].sum()"
   ]
  },
  {
   "cell_type": "code",
   "execution_count": null,
   "metadata": {},
   "outputs": [],
   "source": [
    "# Mean occupancy and std deviation \n",
    "ll_mo15 = [value[1] for key, value in h2di_15nm.items()]\n",
    "print(\"Mean Occpancy (1.5 nm Rg): \"+str(np.mean(ll_mo15)), \"Occ. std. dev.: \"+str(np.std(ll_mo15)))"
   ]
  },
  {
   "cell_type": "code",
   "execution_count": null,
   "metadata": {},
   "outputs": [],
   "source": [
    "cd_15nm = frac_cont(h2di_15nm)\n",
    "cd_15nm"
   ]
  },
  {
   "cell_type": "markdown",
   "metadata": {},
   "source": [
    "### Calc. fractional contacts for each AA group type "
   ]
  },
  {
   "cell_type": "code",
   "execution_count": null,
   "metadata": {},
   "outputs": [],
   "source": [
    "fcnt_rg1_5nm, prgrp_1_5nm, aa_matx_15nm = bavg_frac_cnt(5, prot_15nm, all15_pn20, dmax,\n",
    "                                                        u15nm_pn20, no_surf, 0, 10000)"
   ]
  },
  {
   "cell_type": "code",
   "execution_count": null,
   "metadata": {},
   "outputs": [],
   "source": [
    "fcnt_rg1_5nm"
   ]
  },
  {
   "cell_type": "code",
   "execution_count": null,
   "metadata": {},
   "outputs": [],
   "source": [
    "fc_15nm_mean = np.array([np.mean(fcnt_rg1_5nm['Negative']), np.mean(fcnt_rg1_5nm['Positive'])\n",
    "                        ,np.mean(fcnt_rg1_5nm['Polar']),np.mean(fcnt_rg1_5nm['Hydrophobic'])\n",
    "                        , np.mean(fcnt_rg1_5nm['Aromatic'])])\n",
    "fc_15nm_mean"
   ]
  },
  {
   "cell_type": "code",
   "execution_count": null,
   "metadata": {},
   "outputs": [],
   "source": [
    "fc_15nm_std = np.array([np.std(fcnt_rg1_5nm['Negative']), np.std(fcnt_rg1_5nm['Positive'])\n",
    "                       ,np.std(fcnt_rg1_5nm['Polar']),np.std(fcnt_rg1_5nm['Hydrophobic'])\n",
    "                       , np.std(fcnt_rg1_5nm['Aromatic'])])\n",
    "fc_15nm_std"
   ]
  },
  {
   "cell_type": "code",
   "execution_count": null,
   "metadata": {},
   "outputs": [],
   "source": [
    "x_pos = np.arange(5)\n",
    "width = 0.35\n",
    "aa_types = [\"Negative\", \"Positive\", \"Polar\", \"Hydrophobic\", \"Aromatic\"]\n",
    "plt.figure(figsize=(7,7))\n",
    "plt.bar(x_pos, fc_12nm_mean, width, yerr=fc_12nm_std, ecolor='black',capsize=5, color='royalblue')\n",
    "plt.bar(x_pos+width, fc_15nm_mean, width, yerr=fc_15nm_std, ecolor='black',capsize=5, color='c')\n",
    "plt.title(r'Fractional Contacts Rg restrained', fontsize=15)\n",
    "plt.xticks(x_pos+width/2, labels=aa_types, fontsize=12)\n",
    "plt.legend(['Rg = 1.2 nm', 'Rg = 1.5 nm'], frameon=False)\n",
    "plt.ylabel(r'Fractional Contacts', fontsize=15)"
   ]
  },
  {
   "cell_type": "code",
   "execution_count": null,
   "metadata": {},
   "outputs": [],
   "source": []
  },
  {
   "cell_type": "code",
   "execution_count": null,
   "metadata": {},
   "outputs": [],
   "source": []
  },
  {
   "cell_type": "markdown",
   "metadata": {},
   "source": [
    "### Total fraction of contacts: averages and std dev calc from 5 20 ns blocks"
   ]
  },
  {
   "cell_type": "code",
   "execution_count": null,
   "metadata": {},
   "outputs": [],
   "source": [
    "np.mean(fcnt_rg1_5nm['total_frac'])"
   ]
  },
  {
   "cell_type": "code",
   "execution_count": null,
   "metadata": {},
   "outputs": [],
   "source": [
    "np.std(fcnt_rg1_5nm['total_frac'])"
   ]
  },
  {
   "cell_type": "code",
   "execution_count": null,
   "metadata": {},
   "outputs": [],
   "source": [
    "prgrp_1_5nm"
   ]
  },
  {
   "cell_type": "code",
   "execution_count": null,
   "metadata": {},
   "outputs": [],
   "source": [
    "# matrix containing the avg number of PLGA residues for each block for each amino acid \n",
    "np.where(aa_matx_15nm[0, 0] != 0)"
   ]
  },
  {
   "cell_type": "markdown",
   "metadata": {},
   "source": [
    "### Avg no. PLGA residues per BSA AA residue group "
   ]
  },
  {
   "cell_type": "code",
   "execution_count": null,
   "metadata": {},
   "outputs": [],
   "source": [
    "prgrp_1_5nm"
   ]
  },
  {
   "cell_type": "code",
   "execution_count": null,
   "metadata": {},
   "outputs": [],
   "source": [
    "mean_15nm = np.zeros(shape=5)\n",
    "std_15nm = np.zeros(shape=5)\n",
    "count = 0\n",
    "for key, value in prgrp_1_5nm.items():\n",
    "    mpl_15nm = []\n",
    "    var_15nm = []\n",
    "    for i in prgrp_1_5nm[str(key)].flat:\n",
    "        mpl_15nm.append(i[0])\n",
    "        var_15nm.append((i[1])**2)\n",
    "    \n",
    "    # calc frac cont averages\n",
    "    mean_15nm[count] = np.mean(mpl_15nm)\n",
    "    \n",
    "    # calc frac cont std dev: https://stats.stackexchange.com/questions/25848/how-to-sum-a-standard-deviation \n",
    "    std_15nm[count] = np.std(mpl_15nm)\n",
    "    #std_15nm[count] = np.sqrt(np.sum(var_15nm)/5)\n",
    "    \n",
    "    count += 1\n"
   ]
  },
  {
   "cell_type": "code",
   "execution_count": null,
   "metadata": {},
   "outputs": [],
   "source": [
    "mean_15nm"
   ]
  },
  {
   "cell_type": "code",
   "execution_count": null,
   "metadata": {},
   "outputs": [],
   "source": [
    "std_15nm"
   ]
  },
  {
   "cell_type": "code",
   "execution_count": null,
   "metadata": {},
   "outputs": [],
   "source": [
    "x_pos = np.arange(5)\n",
    "width = 0.35\n",
    "aa_types = [\"Negative\", \"Positive\", \"Polar\", \"Hydrophobic\", \"Aromatic\"]\n",
    "plt.figure(figsize=(7,7))\n",
    "plt.bar(x_pos, mean_12nm, width, yerr=std_12nm, ecolor='black',capsize=5, color='royalblue')\n",
    "plt.bar(x_pos+width, mean_15nm, width, yerr=std_15nm, ecolor='black',capsize=5, color='c')\n",
    "plt.title(r'No. of PLGA residues Rg restrained', fontsize=15)\n",
    "plt.xticks(x_pos+width/2, labels=aa_types, fontsize=12)\n",
    "plt.legend(['Rg = 1.2 nm', 'Rg = 1.5 nm'], frameon=False)\n",
    "plt.ylabel(r'No. of PLGA residues', fontsize=15)"
   ]
  },
  {
   "cell_type": "markdown",
   "metadata": {},
   "source": [
    "### Protein/polymer contact map movie"
   ]
  },
  {
   "cell_type": "code",
   "execution_count": null,
   "metadata": {},
   "outputs": [],
   "source": []
  },
  {
   "cell_type": "code",
   "execution_count": null,
   "metadata": {},
   "outputs": [],
   "source": [
    "#Select all the PLGA residues, heavy atoms only \n",
    "all15_pn20 = u15nm_pn20.select_atoms(\"resname sPLG PLG tPLG and not type H\")\n",
    "all15_pn20"
   ]
  },
  {
   "cell_type": "code",
   "execution_count": null,
   "metadata": {},
   "outputs": [],
   "source": [
    "# Select one polymer chain, heavy atoms only \n",
    "all_pn20_B = u_pn20.select_atoms(\"(resname sPLG PLG tPLG and segid B) and not type H\")\n",
    "\n",
    "all_pn20_C = u_pn20.select_atoms(\"(resname sPLG PLG tPLG and segid B) and not type H\")"
   ]
  },
  {
   "cell_type": "code",
   "execution_count": null,
   "metadata": {},
   "outputs": [],
   "source": []
  },
  {
   "cell_type": "code",
   "execution_count": null,
   "metadata": {},
   "outputs": [],
   "source": [
    "# Need to fix function, the residue number are not counting the other 2 PLGA oligomers cuz of same resid number\n",
    "trj_ppmap_15nm = prot_poly_cntmovie(prot_15nm, all15_pn20, dmax, u15nm_pn20, 0, 10000)\n",
    "#trj_ppmap_12nm_chC = prot_poly_cntmovie(prot, all_pn20_C, dmax, u_pn20, 0, 10000)"
   ]
  },
  {
   "cell_type": "code",
   "execution_count": null,
   "metadata": {},
   "outputs": [],
   "source": [
    "np.save('1.5nm_res.npy', trj_ppmap_15nm)    # .npy extension is added if not given"
   ]
  },
  {
   "cell_type": "code",
   "execution_count": null,
   "metadata": {},
   "outputs": [],
   "source": [
    "for i in range(1000):\n",
    "    print(np.nonzero(trj_ppmap_15nm[i]))"
   ]
  },
  {
   "cell_type": "code",
   "execution_count": null,
   "metadata": {},
   "outputs": [],
   "source": [
    "fig = plt.figure(figsize=(10,10))\n",
    "\n",
    "# Set the axis and the plot titles pp\n",
    "\n",
    "plt.title(\"BSA/PLGA contact map 1.5 nm res.\", fontsize=22, loc='left')\n",
    "plt.xlabel(\"PLGA Residue No.\", fontsize=22)\n",
    "plt.ylabel(\"BSA Residue No.\", fontsize=20)\n",
    "\n",
    " # Set the axis range \n",
    "plt.ylim(583, 0)\n",
    "plt.xlim(0, 60)\n",
    "\n",
    "# Plot bands for each chain \n",
    "BANDS = (\n",
    "    (0, 20, \"purple\", \"B\"),\n",
    "    (20, 40, \"blue\", \"C\"),\n",
    "    (40, 60, \"green\", \"D\"),\n",
    ")\n",
    "    \n",
    "text_y = 0.98 # Close to the top\n",
    "for start, stop, color, band in BANDS:\n",
    "    plt.axvspan(start, stop,color=color, alpha=0.15)\n",
    "    text_x = middle_of_band(start,stop)\n",
    "    plt.text(\n",
    "        text_x,\n",
    "        text_y,\n",
    "        \"PLGA chain \" + band,\n",
    "        color=color,\n",
    "        fontsize=18,\n",
    "        transform=fig.gca().transAxes,\n",
    "        horizontalalignment='center',\n",
    "        verticalalignment='center',\n",
    "        style='italic',\n",
    "    )\n",
    "    \n",
    "plt.text(0.94, 1, \"Time [ns]:\", fontsize=20, transform=fig.gca().transAxes, horizontalalignment='right', verticalalignment='bottom')\n",
    "\n",
    "# Set tick label size\n",
    "fig.gca().tick_params(axis='both', which='major', labelsize=20)\n",
    "\n",
    "ims = []\n",
    "for i in range(10000):\n",
    "    data = trj_ppmap_15nm[i]\n",
    "    im = plt.imshow(data, aspect='auto', cmap='Greys')\n",
    "    t_sim = plt.text(1.03, 1, str(i/100), fontsize=20, transform=fig.gca().transAxes, horizontalalignment='right', verticalalignment='bottom')\n",
    "    ims.append([im, t_sim])\n",
    "    \n",
    "ani = animation.ArtistAnimation(fig, ims, blit=True, repeat=False)\n",
    "ani.save('1.5nm_res.mp4', writer='ffmpeg', fps=50, bitrate=100000)\n",
    "#plt.tight_layout()\n",
    "#plt.show()"
   ]
  },
  {
   "cell_type": "code",
   "execution_count": null,
   "metadata": {},
   "outputs": [],
   "source": []
  },
  {
   "cell_type": "markdown",
   "metadata": {},
   "source": [
    "# 1.5 nm PLGA unrestrained Rg 100 ns trajectory"
   ]
  },
  {
   "cell_type": "markdown",
   "metadata": {},
   "source": [
    "Load the rg = 1.2 nm (3 PLGA N = 20 oligomer/BSA system)"
   ]
  },
  {
   "cell_type": "code",
   "execution_count": null,
   "metadata": {},
   "outputs": [],
   "source": [
    "# load the unrestrained trajectory \n",
    "pn15nm_nores = mda.Universe(\"../1.5nm_bsa_prod/1.5res_off/new_conf1.5nm.pdb\"\n",
    "                      , \"../1.5nm_bsa_prod/1.5res_off/pp1_5nmresoff.xtc\")"
   ]
  },
  {
   "cell_type": "markdown",
   "metadata": {},
   "source": [
    "Check that we are on the first frame"
   ]
  },
  {
   "cell_type": "code",
   "execution_count": null,
   "metadata": {},
   "outputs": [],
   "source": [
    "pn15nm_nores.trajectory.frame"
   ]
  },
  {
   "cell_type": "code",
   "execution_count": null,
   "metadata": {},
   "outputs": [],
   "source": [
    "pn20_15nr = len(pn15nm_nores.trajectory)\n",
    "pn20_15nr"
   ]
  },
  {
   "cell_type": "code",
   "execution_count": null,
   "metadata": {},
   "outputs": [],
   "source": [
    "#Select all the PLGA residues, heavy atoms only \n",
    "pn20_all15nr = pn15nm_nores.select_atoms(\"resname sPLG PLG tPLG and not type H\")\n",
    "pn20_all15nr"
   ]
  },
  {
   "cell_type": "code",
   "execution_count": null,
   "metadata": {},
   "outputs": [],
   "source": [
    "# Select BSA residues, heavy atoms only \n",
    "prot15_nores = pn15nm_nores.select_atoms(\"protein and not type H\")\n",
    "prot15_nores"
   ]
  },
  {
   "cell_type": "markdown",
   "metadata": {},
   "source": [
    "### Calc. total fraction of contacts"
   ]
  },
  {
   "cell_type": "code",
   "execution_count": null,
   "metadata": {},
   "outputs": [],
   "source": [
    "#dmax = 4.0, protein group(4653 atoms), plga atom group (543 atoms), took 381.6 s (6 min 36s on 4 cores)\n",
    "start = 0\n",
    "end = pn20_15nr - 1\n",
    "s_time15nr = timeit.default_timer()\n",
    "h2di_15nr = aa_frmcount(prot15_nores, pn20_all15nr, dmax, pn15nm_nores, start, end)\n",
    "timeit.default_timer() - s_time15nr"
   ]
  },
  {
   "cell_type": "code",
   "execution_count": null,
   "metadata": {},
   "outputs": [],
   "source": [
    "len(h2di_15nr.keys())"
   ]
  },
  {
   "cell_type": "code",
   "execution_count": null,
   "metadata": {},
   "outputs": [],
   "source": [
    "pr_15nr = list(prot15_nores.residues)\n",
    "ss_15nr = [str(row) for row in pr_15nr]\n",
    "rkg_15nm_nr = {key:h2di_15nr[key][0] for key, value in h2di_15nr.items()}\n",
    "plg_1_5nm_nr = pd.DataFrame(data=ss_15nr, columns=[\"BSA_des_res\"])\n",
    "plg_1_5nm_nr['mda_1.5nm_nr'] = plg_1_5nm_nr['BSA_des_res'].map(rkg_15nm_nr)\n",
    "plg_1_5nm_nr['BSA_des_res'] = red_bsa\n",
    "plg_1_5nm_nr['mda_1.5nm_nr'] = plg_1_5nm_nr['mda_1.5nm_nr'].replace('nan', np.nan).fillna(0)\n",
    "plg_1_5nm_nr.head()"
   ]
  },
  {
   "cell_type": "code",
   "execution_count": null,
   "metadata": {},
   "outputs": [],
   "source": [
    "apl_15nm_nr = []\n",
    "\n",
    "# Some residues don't have any contact with the 3 N = 20 PLGA oligomers within 100 ns,\n",
    "# Put residues that do have contact with BSA in a separate list\n",
    "for index, r_pl in plg_1_5nm_nr.iterrows():\n",
    "    if r_pl['mda_1.5nm_nr'] != 0:\n",
    "        apl_15nm_nr.append(r_pl['BSA_des_res'])\n",
    "        \n",
    "# This chunk of code gets an AA count from the above list, in order \n",
    "# to get a total number of residues that contact BSA\n",
    "cpl_15nm_nr = []\n",
    "\n",
    "for index, r_a in aa_count.iterrows():\n",
    "    count = 0\n",
    "    for i in range(len(apl_15nm_nr)):\n",
    "        if r_a['Amino_acids'] in apl_15nm_nr[i]:\n",
    "            count += 1\n",
    "    cpl_15nm_nr.append(count)      \n",
    "        \n",
    "aa_count['plga_1.5nm_100ns_NR'] = cpl_15nm_nr\n",
    "#aa_count.drop('No_of_surf_res (VMD)', axis=1, inplace=True)\n",
    "aa_count"
   ]
  },
  {
   "cell_type": "code",
   "execution_count": null,
   "metadata": {},
   "outputs": [],
   "source": [
    "# This gives the total number of residues that are within 4 angstroms of a PLGA oligomer residue\n",
    "# within a 100 ns trajectory block\n",
    "aa_count['plga_1.5nm_100ns_NR'].sum()"
   ]
  },
  {
   "cell_type": "code",
   "execution_count": null,
   "metadata": {},
   "outputs": [],
   "source": [
    "# This gives the total number of residues that are within 4 angstroms of a water molecule\n",
    "# within a 1 ns trajectory block\n",
    "aa_count['No_of_surf_res (MDAnalysis)'].sum()"
   ]
  },
  {
   "cell_type": "code",
   "execution_count": null,
   "metadata": {},
   "outputs": [],
   "source": [
    "# This gives the total fraction of contacts within the 1.2 nm Rg 100 ns trajectory\n",
    "aa_count['plga_1.5nm_100ns_NR'].sum()/aa_count['No_of_surf_res (MDAnalysis)'].sum()"
   ]
  },
  {
   "cell_type": "code",
   "execution_count": null,
   "metadata": {},
   "outputs": [],
   "source": [
    "# Mean occupancy and std deviation \n",
    "ll_mo15_nr = [value[1] for key, value in h2di_15nr.items()]\n",
    "print(\"Mean Occpancy (1.5 nm Rg Unrestrained): \"+str(np.mean(ll_mo15_nr)), \"Occ. std. dev.: \"+str(np.std(ll_mo15_nr)))"
   ]
  },
  {
   "cell_type": "code",
   "execution_count": null,
   "metadata": {},
   "outputs": [],
   "source": [
    "cd_15nr = frac_cont(h2di_15nr)\n",
    "cd_15nr"
   ]
  },
  {
   "cell_type": "markdown",
   "metadata": {},
   "source": [
    "### Calc. fractional contacts for each AA group type "
   ]
  },
  {
   "cell_type": "code",
   "execution_count": null,
   "metadata": {},
   "outputs": [],
   "source": [
    "fcntrg1_5nm_nr, prgrp1_5nm_nr, aamatx_15nm_nr = bavg_frac_cnt(5, prot15_nores, pn20_all15nr, dmax,\n",
    "                                                        pn15nm_nores, no_surf, 0, 10000)"
   ]
  },
  {
   "cell_type": "code",
   "execution_count": null,
   "metadata": {},
   "outputs": [],
   "source": [
    "fcntrg1_5nm_nr"
   ]
  },
  {
   "cell_type": "code",
   "execution_count": null,
   "metadata": {},
   "outputs": [],
   "source": [
    "fc15nm_mean_nr = np.array([np.mean(fcntrg1_5nm_nr['Negative']), np.mean(fcntrg1_5nm_nr['Positive'])\n",
    "                        ,np.mean(fcntrg1_5nm_nr['Polar']),np.mean(fcntrg1_5nm_nr['Hydrophobic'])\n",
    "                        , np.mean(fcntrg1_5nm_nr['Aromatic'])])\n",
    "fc15nm_mean_nr"
   ]
  },
  {
   "cell_type": "code",
   "execution_count": null,
   "metadata": {},
   "outputs": [],
   "source": [
    "fc15nm_std_nr = np.array([np.std(fcntrg1_5nm_nr['Negative']), np.std(fcntrg1_5nm_nr['Positive'])\n",
    "                       ,np.std(fcntrg1_5nm_nr['Polar']),np.std(fcntrg1_5nm_nr['Hydrophobic'])\n",
    "                       , np.std(fcntrg1_5nm_nr['Aromatic'])])\n",
    "fc15nm_std_nr"
   ]
  },
  {
   "cell_type": "code",
   "execution_count": null,
   "metadata": {},
   "outputs": [],
   "source": [
    "x_pos = np.arange(5)\n",
    "width = 0.35\n",
    "aa_types = [\"Negative\", \"Positive\", \"Polar\", \"Hydrophobic\", \"Aromatic\"]\n",
    "plt.figure(figsize=(7,7))\n",
    "plt.bar(x_pos, fc_12nmnr_mean, width, yerr=fc_12nmnr_std, ecolor='black',capsize=5, color='royalblue')\n",
    "plt.bar(x_pos+width, fc15nm_mean_nr, width, yerr=fc15nm_std_nr, ecolor='black',capsize=5, color='c')\n",
    "plt.title(r'Fractional Contacts Rg unrestrained', fontsize=15)\n",
    "plt.xticks(x_pos+width/2, labels=aa_types, fontsize=12)\n",
    "plt.legend(['Rg = 1.2 nm', 'Rg = 1.5 nm'], frameon=False)\n",
    "plt.ylabel(r'Fractional Contacts', fontsize=15)"
   ]
  },
  {
   "cell_type": "markdown",
   "metadata": {},
   "source": [
    "### Total fraction of contacts: averages and std dev calc from 5 20ns blocks"
   ]
  },
  {
   "cell_type": "code",
   "execution_count": null,
   "metadata": {},
   "outputs": [],
   "source": [
    "np.mean(fcntrg1_5nm_nr['total_frac'])"
   ]
  },
  {
   "cell_type": "code",
   "execution_count": null,
   "metadata": {},
   "outputs": [],
   "source": [
    "np.std(fcntrg1_5nm_nr['total_frac'])"
   ]
  },
  {
   "cell_type": "code",
   "execution_count": null,
   "metadata": {},
   "outputs": [],
   "source": []
  },
  {
   "cell_type": "markdown",
   "metadata": {},
   "source": [
    "### Avg no. PLGA residues per BSA AA residue group "
   ]
  },
  {
   "cell_type": "code",
   "execution_count": null,
   "metadata": {},
   "outputs": [],
   "source": [
    "prgrp1_5nm_nr"
   ]
  },
  {
   "cell_type": "code",
   "execution_count": null,
   "metadata": {},
   "outputs": [],
   "source": [
    "mean_15nm_nr = np.zeros(shape=5)\n",
    "std_15nm_nr = np.zeros(shape=5)\n",
    "count = 0\n",
    "for key, value in prgrp1_5nm_nr.items():\n",
    "    mpl_15nm_nr = []\n",
    "    var_15nm_nr = []\n",
    "    for i in prgrp1_5nm_nr[str(key)].flat:\n",
    "        mpl_15nm_nr.append(i[0])\n",
    "        var_15nm_nr.append((i[1])**2)\n",
    "    \n",
    "    # calc frac cont averages\n",
    "    mean_15nm_nr[count] = np.mean(mpl_15nm_nr)\n",
    "    \n",
    "    # calc frac cont std dev: https://stats.stackexchange.com/questions/25848/how-to-sum-a-standard-deviation \n",
    "    std_15nm_nr[count] = np.std(mpl_15nm_nr)\n",
    "    #std_15nm_nr[count] = np.sqrt(np.sum(var_15nm_nr)/5)\n",
    "    \n",
    "    count += 1\n"
   ]
  },
  {
   "cell_type": "code",
   "execution_count": null,
   "metadata": {},
   "outputs": [],
   "source": [
    "mean_15nm_nr"
   ]
  },
  {
   "cell_type": "code",
   "execution_count": null,
   "metadata": {},
   "outputs": [],
   "source": [
    "std_15nm_nr"
   ]
  },
  {
   "cell_type": "code",
   "execution_count": null,
   "metadata": {},
   "outputs": [],
   "source": [
    "x_pos = np.arange(5)\n",
    "width = 0.35\n",
    "aa_types = [\"Negative\", \"Positive\", \"Polar\", \"Hydrophobic\", \"Aromatic\"]\n",
    "plt.figure(figsize=(7,7))\n",
    "plt.bar(x_pos, mean_12nm_nr, width, yerr=std_12nm_nr, ecolor='black',capsize=5, color='green')\n",
    "plt.bar(x_pos+width, mean_15nm_nr, width, yerr=std_15nm_nr, ecolor='black',capsize=5, color='violet')\n",
    "plt.title(r'No. of PLGA residues Rg unrestrained', fontsize=15)\n",
    "plt.xticks(x_pos+width/2, labels=aa_types, fontsize=12)\n",
    "plt.legend(['Rg = 1.2 nm', 'Rg = 1.5 nm'], frameon=False)\n",
    "plt.ylabel(r'No. of PLGA residues', fontsize=15)"
   ]
  },
  {
   "cell_type": "markdown",
   "metadata": {},
   "source": [
    "### Protein/polymer contact map movie"
   ]
  },
  {
   "cell_type": "code",
   "execution_count": null,
   "metadata": {},
   "outputs": [],
   "source": [
    "trj_ppmap15nm_nr = prot_poly_cntmovie(prot15_nores, pn20_all15nr, dmax, pn15nm_nores, 0, 10000)\n",
    "#trj_ppmap_12nm_chC = prot_poly_cntmovie(prot, all_pn20_C, dmax, u_pn20, 0, 10000)"
   ]
  },
  {
   "cell_type": "code",
   "execution_count": null,
   "metadata": {},
   "outputs": [],
   "source": [
    "np.save('1.5nm_NoRes.npy', trj_ppmap15nm_nr)    # .npy extension is added if not given"
   ]
  },
  {
   "cell_type": "code",
   "execution_count": null,
   "metadata": {},
   "outputs": [],
   "source": [
    "fig = plt.figure(figsize=(10,10))\n",
    "\n",
    "# Set the axis and the plot titles pp\n",
    "\n",
    "plt.title(\"BSA/PLGA contact map 1.5 nm Unres\", fontsize=22, loc='left')\n",
    "plt.xlabel(\"PLGA Residue No.\", fontsize=22)\n",
    "plt.ylabel(\"BSA Residue No.\", fontsize=20)\n",
    "\n",
    " # Set the axis range \n",
    "plt.ylim(583, 0)\n",
    "plt.xlim(0, 60)\n",
    "\n",
    "# Plot bands for each chain \n",
    "BANDS = (\n",
    "    (0, 20, \"purple\", \"B\"),\n",
    "    (20, 40, \"blue\", \"C\"),\n",
    "    (40, 60, \"green\", \"D\"),\n",
    ")\n",
    "    \n",
    "text_y = 0.98 # Close to the top\n",
    "for start, stop, color, band in BANDS:\n",
    "    plt.axvspan(start, stop,color=color, alpha=0.15)\n",
    "    text_x = middle_of_band(start,stop)\n",
    "    plt.text(\n",
    "        text_x,\n",
    "        text_y,\n",
    "        \"PLGA chain \" + band,\n",
    "        color=color,\n",
    "        fontsize=18,\n",
    "        transform=fig.gca().transAxes,\n",
    "        horizontalalignment='center',\n",
    "        verticalalignment='center',\n",
    "        style='italic',\n",
    "    )\n",
    "    \n",
    "plt.text(0.94, 1, \"Time [ns]:\", fontsize=20, transform=fig.gca().transAxes, horizontalalignment='right', verticalalignment='bottom')\n",
    "\n",
    "# Set tick label size\n",
    "fig.gca().tick_params(axis='both', which='major', labelsize=20)\n",
    "\n",
    "ims = []\n",
    "for i in range(10000):\n",
    "    data = trj_ppmap15nm_nr[i]\n",
    "    im = plt.imshow(data, aspect='auto', cmap='Greys')\n",
    "    t_sim = plt.text(1.03, 1, str(i/100), fontsize=20, transform=fig.gca().transAxes, horizontalalignment='right', verticalalignment='bottom')\n",
    "    ims.append([im, t_sim])\n",
    "    \n",
    "ani = animation.ArtistAnimation(fig, ims, blit=True, repeat=False)\n",
    "ani.save('1.5nm_NoRes.mp4', writer='ffmpeg', fps=50, bitrate=100000)\n",
    "#plt.tight_layout()\n",
    "#plt.show()"
   ]
  },
  {
   "cell_type": "markdown",
   "metadata": {},
   "source": [
    "# 2 nm restrained Rg PLGA 100 ns trajectory"
   ]
  },
  {
   "cell_type": "markdown",
   "metadata": {},
   "source": [
    "Load the rg = 1.5 nm (3 PLGA N = 20 oligomer/BSA system) "
   ]
  },
  {
   "cell_type": "markdown",
   "metadata": {},
   "source": [
    "### Calc total fraction of contacts "
   ]
  },
  {
   "cell_type": "code",
   "execution_count": null,
   "metadata": {},
   "outputs": [],
   "source": [
    "# Set up the MD Simulation\n",
    "u2nm_pn20 = mda.Universe(\"../2nm_bsa_prod/k4000_2nm/new_conf2nm.pdb\"\n",
    "                      , \"../2nm_bsa_prod/k4000_2nm/nopbc_ppsys.xtc\")"
   ]
  },
  {
   "cell_type": "code",
   "execution_count": null,
   "metadata": {},
   "outputs": [],
   "source": [
    "u2nm_pn20"
   ]
  },
  {
   "cell_type": "code",
   "execution_count": null,
   "metadata": {},
   "outputs": [],
   "source": [
    "pn20_len2nm = len(u2nm_pn20.trajectory)\n",
    "pn20_len2nm"
   ]
  },
  {
   "cell_type": "code",
   "execution_count": null,
   "metadata": {},
   "outputs": [],
   "source": [
    "#Select all the PLGA residues, heavy atoms only \n",
    "all2nm_pn20 = u2nm_pn20.select_atoms(\"resname sPLG PLG tPLG and not type H\")\n",
    "all2nm_pn20"
   ]
  },
  {
   "cell_type": "code",
   "execution_count": null,
   "metadata": {},
   "outputs": [],
   "source": [
    "# Select BSA residues, heavy atoms only \n",
    "prot_2nm = u2nm_pn20.select_atoms(\"protein and not type H\")\n",
    "prot_2nm"
   ]
  },
  {
   "cell_type": "code",
   "execution_count": null,
   "metadata": {},
   "outputs": [],
   "source": [
    "#dmax = 4.0, protein group(4653 atoms), plga atom group (543 atoms), took 381.6 s (6 min 36s on 4 cores)\n",
    "start = 0\n",
    "end = pn20_len2nm - 1\n",
    "s_time = timeit.default_timer()\n",
    "h2di_2nm = aa_frmcount(prot_2nm, all2nm_pn20, dmax, u2nm_pn20, start, end)\n",
    "timeit.default_timer() - s_time\n",
    "h2di_2nm"
   ]
  },
  {
   "cell_type": "code",
   "execution_count": null,
   "metadata": {},
   "outputs": [],
   "source": [
    "len(h2di_2nm.keys())"
   ]
  },
  {
   "cell_type": "code",
   "execution_count": null,
   "metadata": {},
   "outputs": [],
   "source": [
    "pr_res2nm = list(prot_2nm.residues)\n",
    "ss_res2nm = [str(row) for row in pr_res2nm]\n",
    "rkg_2nm = {key:h2di_2nm[key][0] for key, value in h2di_2nm.items()}\n",
    "plg_2nmaa = pd.DataFrame(data=ss_res2nm, columns=[\"BSA_des_res\"])\n",
    "plg_2nmaa['mda_plga_frm_2nm'] = plg_2nmaa['BSA_des_res'].map(rkg_2nm)\n",
    "plg_2nmaa['BSA_des_res'] = red_bsa\n",
    "plg_2nmaa['mda_plga_frm_2nm'] = plg_2nmaa['mda_plga_frm_2nm'].replace('nan', np.nan).fillna(0)\n",
    "plg_2nmaa.head()"
   ]
  },
  {
   "cell_type": "code",
   "execution_count": null,
   "metadata": {},
   "outputs": [],
   "source": [
    "apl_2nm = []\n",
    "\n",
    "# Some residues don't have any contact with the 3 N = 20 PLGA oligomers within 100 ns,\n",
    "# Put residues that do have contact with BSA in a separate list\n",
    "for index, r_pl in plg_2nmaa.iterrows():\n",
    "    if r_pl['mda_plga_frm_2nm'] != 0:\n",
    "        apl_2nm.append(r_pl['BSA_des_res'])\n",
    "        \n",
    "# This chunk of code gets an AA count from the above list, in order \n",
    "# to get a total number of residues that contact BSA\n",
    "cpl_2nm = []\n",
    "\n",
    "for index, r_a in aa_count.iterrows():\n",
    "    count = 0\n",
    "    for i in range(len(apl_2nm)):\n",
    "        if r_a['Amino_acids'] in apl_2nm[i]:\n",
    "            count += 1\n",
    "    cpl_2nm.append(count)      \n",
    "        \n",
    "aa_count['plga_2nm_100ns'] = cpl_2nm\n",
    "#aa_count.drop('No_of_surf_res (VMD)', axis=1, inplace=True)\n",
    "aa_count"
   ]
  },
  {
   "cell_type": "code",
   "execution_count": null,
   "metadata": {},
   "outputs": [],
   "source": [
    "# This gives the total number of residues that are within 4 angstroms of a PLGA oligomer residue\n",
    "# within a 100 ns trajectory block\n",
    "aa_count['plga_2nm_100ns'].sum()"
   ]
  },
  {
   "cell_type": "code",
   "execution_count": null,
   "metadata": {},
   "outputs": [],
   "source": [
    "# This gives the total number of residues that are within 4 angstroms of a water molecule\n",
    "# within a 1 ns trajectory block\n",
    "aa_count['No_of_surf_res (MDAnalysis)'].sum()"
   ]
  },
  {
   "cell_type": "code",
   "execution_count": null,
   "metadata": {},
   "outputs": [],
   "source": [
    "# This gives the total fraction of contacts within the 1.2 nm Rg 100 ns trajectory\n",
    "aa_count['plga_2nm_100ns'].sum()/aa_count['No_of_surf_res (MDAnalysis)'].sum()"
   ]
  },
  {
   "cell_type": "code",
   "execution_count": null,
   "metadata": {},
   "outputs": [],
   "source": [
    "# Mean occupancy and std deviation \n",
    "ll_mo2nm = [value[1] for key, value in h2di_2nm.items()]\n",
    "print(\"Mean Occpancy (2 nm Rg): \"+str(np.mean(ll_mo2nm)), \"Occ. std. dev.: \"+str(np.std(ll_mo2nm)))"
   ]
  },
  {
   "cell_type": "code",
   "execution_count": null,
   "metadata": {},
   "outputs": [],
   "source": [
    "cd_2nm = frac_cont(h2di_2nm)\n",
    "cd_2nm"
   ]
  },
  {
   "cell_type": "markdown",
   "metadata": {},
   "source": [
    "### Calc. fractional contacts for each AA group type "
   ]
  },
  {
   "cell_type": "code",
   "execution_count": null,
   "metadata": {},
   "outputs": [],
   "source": [
    "fcnt_rg2nm, prgrp_2nm, aa_matx_2nm = bavg_frac_cnt(5, prot_2nm, all2nm_pn20, dmax, u2nm_pn20, no_surf, 0, 10000)"
   ]
  },
  {
   "cell_type": "code",
   "execution_count": null,
   "metadata": {},
   "outputs": [],
   "source": [
    "fcnt_rg2nm"
   ]
  },
  {
   "cell_type": "code",
   "execution_count": null,
   "metadata": {},
   "outputs": [],
   "source": [
    "fc_2nm_mean = np.array([np.mean(fcnt_rg2nm['Negative']), np.mean(fcnt_rg2nm['Positive'])\n",
    "                        ,np.mean(fcnt_rg2nm['Polar']),np.mean(fcnt_rg2nm['Hydrophobic'])\n",
    "                        , np.mean(fcnt_rg2nm['Aromatic'])])\n",
    "fc_2nm_mean"
   ]
  },
  {
   "cell_type": "code",
   "execution_count": null,
   "metadata": {},
   "outputs": [],
   "source": [
    "fc_2nm_std = np.array([np.std(fcnt_rg2nm['Negative']), np.std(fcnt_rg2nm['Positive'])\n",
    "                       ,np.std(fcnt_rg2nm['Polar']),np.std(fcnt_rg2nm['Hydrophobic'])\n",
    "                       , np.std(fcnt_rg2nm['Aromatic'])])\n",
    "fc_2nm_std"
   ]
  },
  {
   "cell_type": "code",
   "execution_count": null,
   "metadata": {},
   "outputs": [],
   "source": [
    "x_pos = np.arange(5)\n",
    "width = 0.28\n",
    "aa_types = [\"Negative\", \"Positive\", \"Polar\", \"Hydrophobic\", \"Aromatic\"]\n",
    "plt.figure(figsize=(7,7))\n",
    "plt.bar(x_pos, fc_12nm_mean, width, yerr=fc_12nm_std, ecolor='black',capsize=5, color='royalblue')\n",
    "plt.bar(x_pos+width, fc_15nm_mean, width, yerr=fc_15nm_std, ecolor='black',capsize=5, color='c')\n",
    "plt.bar(x_pos+(2*width), fc_2nm_mean, width, yerr=fc_2nm_std, ecolor='black',capsize=5, color='lightslategray')\n",
    "plt.title(r'Fractional Contacts Rg restrained', fontsize=15)\n",
    "plt.xticks(x_pos+width, labels=aa_types, fontsize=12)\n",
    "plt.ylim(0,0.4)\n",
    "plt.legend(['Rg = 1.2 nm', 'Rg = 1.5 nm', 'Rg = 2 nm'], frameon=False)\n",
    "plt.ylabel(r'Fractional Contacts', fontsize=15)"
   ]
  },
  {
   "cell_type": "code",
   "execution_count": null,
   "metadata": {},
   "outputs": [],
   "source": []
  },
  {
   "cell_type": "code",
   "execution_count": null,
   "metadata": {},
   "outputs": [],
   "source": []
  },
  {
   "cell_type": "markdown",
   "metadata": {},
   "source": [
    "### Total fraction of contacts: averages and std dev calc from 5 20 ns blocks"
   ]
  },
  {
   "cell_type": "code",
   "execution_count": null,
   "metadata": {},
   "outputs": [],
   "source": [
    "np.mean(fcnt_rg2nm['total_frac'])"
   ]
  },
  {
   "cell_type": "code",
   "execution_count": null,
   "metadata": {},
   "outputs": [],
   "source": [
    "np.std(fcnt_rg2nm['total_frac'])"
   ]
  },
  {
   "cell_type": "code",
   "execution_count": null,
   "metadata": {},
   "outputs": [],
   "source": [
    "prgrp_2nm"
   ]
  },
  {
   "cell_type": "code",
   "execution_count": null,
   "metadata": {},
   "outputs": [],
   "source": [
    "# matrix containing the avg number of PLGA residues for each block for each amino acid \n",
    "np.where(aa_matx_2nm[0, 0] != 0)"
   ]
  },
  {
   "cell_type": "markdown",
   "metadata": {},
   "source": [
    "### Avg no. PLGA residues per BSA AA residue group "
   ]
  },
  {
   "cell_type": "code",
   "execution_count": null,
   "metadata": {},
   "outputs": [],
   "source": [
    "prgrp_2nm"
   ]
  },
  {
   "cell_type": "code",
   "execution_count": null,
   "metadata": {},
   "outputs": [],
   "source": [
    "mean_2nm = np.zeros(shape=5)\n",
    "std_2nm = np.zeros(shape=5)\n",
    "count = 0\n",
    "for key, value in prgrp_2nm.items():\n",
    "    mpl_2nm = []\n",
    "    var_2nm = []\n",
    "    for i in prgrp_2nm[str(key)].flat:\n",
    "        mpl_2nm.append(i[0])\n",
    "        var_2nm.append((i[1])**2)\n",
    "    \n",
    "    # calc frac cont averages\n",
    "    mean_2nm[count] = np.mean(mpl_2nm)\n",
    "    \n",
    "    # calc frac cont std dev: https://stats.stackexchange.com/questions/25848/how-to-sum-a-standard-deviation \n",
    "    std_2nm[count] = np.std(mpl_2nm)\n",
    "    #std_2nm[count] = np.sqrt(np.sum(var_2nm)/5)\n",
    "    \n",
    "    count += 1\n"
   ]
  },
  {
   "cell_type": "code",
   "execution_count": null,
   "metadata": {},
   "outputs": [],
   "source": [
    "mean_2nm"
   ]
  },
  {
   "cell_type": "code",
   "execution_count": null,
   "metadata": {},
   "outputs": [],
   "source": [
    "std_2nm"
   ]
  },
  {
   "cell_type": "code",
   "execution_count": null,
   "metadata": {},
   "outputs": [],
   "source": [
    "mean_15nm"
   ]
  },
  {
   "cell_type": "code",
   "execution_count": null,
   "metadata": {},
   "outputs": [],
   "source": [
    "std_15nm"
   ]
  },
  {
   "cell_type": "code",
   "execution_count": null,
   "metadata": {},
   "outputs": [],
   "source": [
    "x_pos = np.arange(5)\n",
    "width = 0.28\n",
    "aa_types = [\"Negative\", \"Positive\", \"Polar\", \"Hydrophobic\", \"Aromatic\"]\n",
    "plt.figure(figsize=(7,7))\n",
    "plt.bar(x_pos, mean_12nm, width, yerr=std_12nm, ecolor='black',capsize=5, color='royalblue')\n",
    "plt.bar(x_pos+width, mean_15nm, width, yerr=std_15nm, ecolor='black',capsize=5, color='c')\n",
    "plt.bar(x_pos+(2*width), mean_2nm, width, yerr=std_2nm, ecolor='black',capsize=5, color='lightslategray')\n",
    "plt.title(r'No. of PLGA residues Rg restrained', fontsize=15)\n",
    "plt.xticks(x_pos+width, labels=aa_types, fontsize=12)\n",
    "plt.legend(['Rg = 1.2 nm', 'Rg = 1.5 nm', 'Rg = 2 nm'], frameon=False)\n",
    "plt.ylabel(r'No. of PLGA residues', fontsize=15)"
   ]
  },
  {
   "cell_type": "code",
   "execution_count": null,
   "metadata": {},
   "outputs": [],
   "source": [
    "# Need to fix function, the residue number are not counting the other 2 PLGA oligomers cuz of same resid number\n",
    "trj_ppmap_2nm = prot_poly_cntmovie(prot_2nm, all2nm_pn20, dmax, u2nm_pn20, 0, 10000)\n",
    "#trj_ppmap_12nm_chC = prot_poly_cntmovie(prot, all_pn20_C, dmax, u_pn20, 0, 10000)"
   ]
  },
  {
   "cell_type": "code",
   "execution_count": null,
   "metadata": {},
   "outputs": [],
   "source": [
    "np.save('2nm_res.npy', trj_ppmap_2nm)    # .npy extension is added if not given"
   ]
  },
  {
   "cell_type": "code",
   "execution_count": null,
   "metadata": {},
   "outputs": [],
   "source": [
    "trj_load2nm_res = np.load('2nm_res.npy', allow_pickle=True)\n",
    "trj_load2nm_res"
   ]
  },
  {
   "cell_type": "code",
   "execution_count": null,
   "metadata": {},
   "outputs": [],
   "source": [
    "np.where(trj_load2nm_res[9920] == 0 )"
   ]
  },
  {
   "cell_type": "code",
   "execution_count": null,
   "metadata": {},
   "outputs": [],
   "source": [
    "trj_load2nm_res[9920]"
   ]
  },
  {
   "cell_type": "code",
   "execution_count": null,
   "metadata": {},
   "outputs": [],
   "source": [
    "trj_load2nm_res.shape"
   ]
  },
  {
   "cell_type": "code",
   "execution_count": null,
   "metadata": {},
   "outputs": [],
   "source": [
    "fig = plt.figure(figsize=(10,10))\n",
    "\n",
    "# Set the axis and the plot titles pp\n",
    "\n",
    "plt.title(\"BSA/PLGA contact map 2 nm restrained\", fontsize=22, loc='left')\n",
    "plt.xlabel(\"PLGA Residue No.\", fontsize=22)\n",
    "plt.ylabel(\"BSA Residue No.\", fontsize=20)\n",
    "\n",
    " # Set the axis range \n",
    "plt.ylim(583, 0)\n",
    "plt.xlim(0, 60)\n",
    "\n",
    "# Plot bands for each chain \n",
    "BANDS = (\n",
    "    (0, 20, \"purple\", \"B\"),\n",
    "    (20, 40, \"blue\", \"C\"),\n",
    "    (40, 60, \"green\", \"D\"),\n",
    ")\n",
    "    \n",
    "text_y = 0.98 # Close to the top\n",
    "for start, stop, color, band in BANDS:\n",
    "    plt.axvspan(start, stop,color=color, alpha=0.15)\n",
    "    text_x = middle_of_band(start,stop)\n",
    "    plt.text(\n",
    "        text_x,\n",
    "        text_y,\n",
    "        \"PLGA chain \" + band,\n",
    "        color=color,\n",
    "        fontsize=18,\n",
    "        transform=fig.gca().transAxes,\n",
    "        horizontalalignment='center',\n",
    "        verticalalignment='center',\n",
    "        style='italic',\n",
    "    )\n",
    "    \n",
    "plt.text(0.94, 1, \"Time [ns]:\", fontsize=20, transform=fig.gca().transAxes, horizontalalignment='right', verticalalignment='bottom')\n",
    "\n",
    "# Set tick label size\n",
    "fig.gca().tick_params(axis='both', which='major', labelsize=20)\n",
    "\n",
    "ims = []\n",
    "for i in range(10000):\n",
    "    data = trj_ppmap_2nm[i]\n",
    "    im = plt.imshow(data, aspect='auto', cmap='Greys')\n",
    "    t_sim = plt.text(1.03, 1, str(i/100), fontsize=20, transform=fig.gca().transAxes, horizontalalignment='right', verticalalignment='bottom')\n",
    "    ims.append([im, t_sim])\n",
    "    \n",
    "ani = animation.ArtistAnimation(fig, ims, blit=True, repeat=False)\n",
    "ani.save('2nm_res.mp4', writer='ffmpeg', fps=50, bitrate=100000)\n",
    "#plt.tight_layout()\n",
    "#plt.show()"
   ]
  },
  {
   "cell_type": "code",
   "execution_count": null,
   "metadata": {},
   "outputs": [],
   "source": []
  },
  {
   "cell_type": "markdown",
   "metadata": {},
   "source": [
    "Write a function that calculates the average total fraction of contacts(No of residues contacted by PLGA oilgs/total no of surface residues) and their standard deviations for a given number of trajectory blocks "
   ]
  },
  {
   "cell_type": "markdown",
   "metadata": {},
   "source": [
    "# 2 nm PLGA unrestrained Rg 100 ns trajectory"
   ]
  },
  {
   "cell_type": "markdown",
   "metadata": {},
   "source": [
    "Load the rg = 1.2 nm (3 PLGA N = 20 oligomer/BSA system)"
   ]
  },
  {
   "cell_type": "code",
   "execution_count": null,
   "metadata": {},
   "outputs": [],
   "source": [
    "# load the unrestrained trajectory \n",
    "pn2nm_nores = mda.Universe(\"../2nm_bsa_prod/2nmres_off/new_conf2nmnm.pdb\"\n",
    "                      , \"../2nm_bsa_prod/2nmres_off/pp_resoffnopbc.xtc\")"
   ]
  },
  {
   "cell_type": "markdown",
   "metadata": {},
   "source": [
    "Check that we are on the first frame"
   ]
  },
  {
   "cell_type": "code",
   "execution_count": null,
   "metadata": {},
   "outputs": [],
   "source": [
    "pn2nm_nores.trajectory.frame"
   ]
  },
  {
   "cell_type": "code",
   "execution_count": null,
   "metadata": {},
   "outputs": [],
   "source": [
    "p2nm_len_nr = len(pn2nm_nores.trajectory)\n",
    "p2nm_len_nr"
   ]
  },
  {
   "cell_type": "code",
   "execution_count": null,
   "metadata": {},
   "outputs": [],
   "source": [
    "#Select all the PLGA residues, heavy atoms only \n",
    "p2nm_allnr = pn2nm_nores.select_atoms(\"resname sPLG PLG tPLG and not type H\")\n",
    "p2nm_allnr"
   ]
  },
  {
   "cell_type": "code",
   "execution_count": null,
   "metadata": {},
   "outputs": [],
   "source": [
    "# Select BSA residues, heavy atoms only \n",
    "prot2nm_nores = pn2nm_nores.select_atoms(\"protein and not type H\")\n",
    "prot2nm_nores"
   ]
  },
  {
   "cell_type": "markdown",
   "metadata": {},
   "source": [
    "### Calc. total fraction of contacts"
   ]
  },
  {
   "cell_type": "code",
   "execution_count": null,
   "metadata": {},
   "outputs": [],
   "source": [
    "#dmax = 4.0, protein group(4653 atoms), plga atom group (543 atoms), took 381.6 s (6 min 36s on 4 cores)\n",
    "start = 0\n",
    "end = p2nm_len_nr - 1\n",
    "s_time = timeit.default_timer()\n",
    "h2di_2nr = aa_frmcount(prot2nm_nores, p2nm_allnr, dmax, pn2nm_nores, start, end)\n",
    "timeit.default_timer() - s_time"
   ]
  },
  {
   "cell_type": "code",
   "execution_count": null,
   "metadata": {},
   "outputs": [],
   "source": [
    "len(h2di_2nr.keys())"
   ]
  },
  {
   "cell_type": "code",
   "execution_count": null,
   "metadata": {},
   "outputs": [],
   "source": [
    "pr_2nr = list(prot2nm_nores.residues)\n",
    "ss_2nr = [str(row) for row in pr_2nr]\n",
    "rkg_2nm = {key:h2di_2nr[key][0] for key, value in h2di_2nr.items()}\n",
    "plg_2nm_nr = pd.DataFrame(data=ss_2nr, columns=[\"BSA_des_res\"])\n",
    "plg_2nm_nr['mda_2nm_nr'] = plg_2nm_nr['BSA_des_res'].map(rkg_2nm)\n",
    "plg_2nm_nr['BSA_des_res'] = red_bsa\n",
    "plg_2nm_nr['mda_2nm_nr'] = plg_2nm_nr['mda_2nm_nr'].replace('nan', np.nan).fillna(0)\n",
    "plg_2nm_nr.head()"
   ]
  },
  {
   "cell_type": "code",
   "execution_count": null,
   "metadata": {},
   "outputs": [],
   "source": [
    "apl_2nm_nr = []\n",
    "\n",
    "# Some residues don't have any contact with the 3 N = 20 PLGA oligomers within 100 ns,\n",
    "# Put residues that do have contact with BSA in a separate list\n",
    "for index, r_pl in plg_2nm_nr.iterrows():\n",
    "    if r_pl['mda_2nm_nr'] != 0:\n",
    "        apl_2nm_nr.append(r_pl['BSA_des_res'])\n",
    "        \n",
    "# This chunk of code gets an AA count from the above list, in order \n",
    "# to get a total number of residues that contact BSA\n",
    "cpl_2nm_nr = []\n",
    "\n",
    "for index, r_a in aa_count.iterrows():\n",
    "    count = 0\n",
    "    for i in range(len(apl_2nm_nr)):\n",
    "        if r_a['Amino_acids'] in apl_2nm_nr[i]:\n",
    "            count += 1\n",
    "    cpl_2nm_nr.append(count)      \n",
    "        \n",
    "aa_count['plga_2nm_100ns_NR'] = cpl_2nm_nr\n",
    "#aa_count.drop('No_of_surf_res (VMD)', axis=1, inplace=True)\n",
    "aa_count"
   ]
  },
  {
   "cell_type": "code",
   "execution_count": null,
   "metadata": {},
   "outputs": [],
   "source": [
    "# This gives the total number of residues that are within 4 angstroms of a PLGA oligomer residue\n",
    "# within a 100 ns trajectory block\n",
    "aa_count['plga_2nm_100ns_NR'].sum()"
   ]
  },
  {
   "cell_type": "code",
   "execution_count": null,
   "metadata": {},
   "outputs": [],
   "source": [
    "# This gives the total number of residues that are within 4 angstroms of a water molecule\n",
    "# within a 1 ns trajectory block\n",
    "aa_count['No_of_surf_res (MDAnalysis)'].sum()"
   ]
  },
  {
   "cell_type": "code",
   "execution_count": null,
   "metadata": {},
   "outputs": [],
   "source": [
    "# This gives the total fraction of contacts within the 2 nm unrestrained Rg 100 ns trajectory\n",
    "aa_count['plga_2nm_100ns_NR'].sum()/aa_count['No_of_surf_res (MDAnalysis)'].sum()"
   ]
  },
  {
   "cell_type": "code",
   "execution_count": null,
   "metadata": {},
   "outputs": [],
   "source": [
    "# Mean occupancy and std deviation \n",
    "ll_mo2_nr = [value[1] for key, value in h2di_2nr.items()]\n",
    "print(\"Mean Occpancy (2 nm Rg): \"+str(np.mean(ll_mo2_nr)), \"Occ. std. dev.: \"+str(np.std(ll_mo2_nr)))"
   ]
  },
  {
   "cell_type": "code",
   "execution_count": null,
   "metadata": {},
   "outputs": [],
   "source": [
    "cd_2nm = frac_cont(h2di_2nr)\n",
    "cd_2nm"
   ]
  },
  {
   "cell_type": "markdown",
   "metadata": {},
   "source": [
    "### Calc. fractional contacts for each AA group type "
   ]
  },
  {
   "cell_type": "code",
   "execution_count": null,
   "metadata": {},
   "outputs": [],
   "source": [
    "test_nr = aa_frmcount(prot2nm_nores, p2nm_allnr, dmax, pn2nm_nores, 6000, 8000)"
   ]
  },
  {
   "cell_type": "code",
   "execution_count": null,
   "metadata": {},
   "outputs": [],
   "source": [
    "frac_cont(test_nr)"
   ]
  },
  {
   "cell_type": "code",
   "execution_count": null,
   "metadata": {},
   "outputs": [],
   "source": [
    "no_surf"
   ]
  },
  {
   "cell_type": "code",
   "execution_count": null,
   "metadata": {},
   "outputs": [],
   "source": [
    "fcntrg2nm_nr, prgrp2nm_nr, aamatx_2nm_nr = bavg_frac_cnt(5, prot2nm_nores, p2nm_allnr, dmax, pn2nm_nores, no_surf, 0, 10000)"
   ]
  },
  {
   "cell_type": "code",
   "execution_count": null,
   "metadata": {},
   "outputs": [],
   "source": [
    "fcntrg2nm_nr"
   ]
  },
  {
   "cell_type": "code",
   "execution_count": null,
   "metadata": {},
   "outputs": [],
   "source": [
    "fc2nm_mean_nr = np.array([np.mean(fcntrg2nm_nr['Negative']), np.mean(fcntrg2nm_nr['Positive'])\n",
    "                        ,np.mean(fcntrg2nm_nr['Polar']),np.mean(fcntrg2nm_nr['Hydrophobic'])\n",
    "                        , np.mean(fcntrg2nm_nr['Aromatic'])])\n",
    "fc2nm_mean_nr"
   ]
  },
  {
   "cell_type": "code",
   "execution_count": null,
   "metadata": {},
   "outputs": [],
   "source": [
    "fc2nm_std_nr = np.array([np.std(fcntrg2nm_nr['Negative']), np.std(fcntrg2nm_nr['Positive'])\n",
    "                       ,np.std(fcntrg2nm_nr['Polar']),np.std(fcntrg2nm_nr['Hydrophobic']), np.std(fcntrg2nm_nr['Aromatic'])])\n",
    "#fc2nm_std_nr[4] = 0.05\n",
    "fc2nm_std_nr"
   ]
  },
  {
   "cell_type": "code",
   "execution_count": null,
   "metadata": {},
   "outputs": [],
   "source": [
    "x_pos = np.arange(5)\n",
    "width = 0.3\n",
    "aa_types = [\"Negative\", \"Positive\", \"Polar\", \"Hydrophobic\", \"Aromatic\"]\n",
    "plt.figure(figsize=(7,7))\n",
    "plt.bar(x_pos, fc_12nmnr_mean, width, yerr=fc_12nmnr_std, ecolor='black',capsize=5, color='royalblue')\n",
    "plt.bar(x_pos+width, fc15nm_mean_nr, width, yerr=fc15nm_std_nr, ecolor='black',capsize=5, color='c')\n",
    "plt.bar(x_pos+(2*width), fc2nm_mean_nr, width, yerr=fc2nm_std_nr, ecolor='black',capsize=5, color='lightslategray')\n",
    "plt.title(r'Fractional Contacts Rg unrestrained', fontsize=15)\n",
    "plt.xticks(x_pos+width, labels=aa_types, fontsize=14)\n",
    "plt.legend(['Rg = 1.2 nm', 'Rg = 1.5 nm', 'Rg = 2 nm'], frameon=False)\n",
    "plt.ylabel(r'Fractional Contacts', fontsize=15)"
   ]
  },
  {
   "cell_type": "markdown",
   "metadata": {},
   "source": [
    "### Total fraction of contacts: averages and std dev calc from 5 20ns blocks"
   ]
  },
  {
   "cell_type": "code",
   "execution_count": null,
   "metadata": {},
   "outputs": [],
   "source": [
    "np.mean(fcntrg2nm_nr['total_frac'])"
   ]
  },
  {
   "cell_type": "code",
   "execution_count": null,
   "metadata": {},
   "outputs": [],
   "source": [
    "np.std(fcntrg2nm_nr['total_frac'])"
   ]
  },
  {
   "cell_type": "code",
   "execution_count": null,
   "metadata": {},
   "outputs": [],
   "source": []
  },
  {
   "cell_type": "markdown",
   "metadata": {},
   "source": [
    "### Avg no. PLGA residues per BSA AA residue group "
   ]
  },
  {
   "cell_type": "code",
   "execution_count": null,
   "metadata": {},
   "outputs": [],
   "source": [
    "prgrp2nm_nr"
   ]
  },
  {
   "cell_type": "code",
   "execution_count": null,
   "metadata": {},
   "outputs": [],
   "source": [
    "mean_2nm_nr = np.zeros(shape=5)\n",
    "std_2nm_nr = np.zeros(shape=5)\n",
    "count = 0\n",
    "for key, value in prgrp2nm_nr.items():\n",
    "    mpl_2nm_nr = []\n",
    "    var_2nm_nr = []\n",
    "    for i in prgrp2nm_nr[str(key)].flat:\n",
    "        mpl_2nm_nr.append(i[0])\n",
    "        var_2nm_nr.append((i[1]))\n",
    "    \n",
    "    # calc frac cont averages\n",
    "    mean_2nm_nr[count] = np.mean(mpl_2nm_nr)\n",
    "    \n",
    "    # calc frac cont std dev: https://stats.stackexchange.com/questions/25848/how-to-sum-a-standard-deviation \n",
    "    std_2nm_nr[count] = np.std(mpl_2nm_nr)\n",
    "    # std_2nm_nr[count] = np.sqrt(np.sum(var_2nm_nr)/5)\n",
    "    \n",
    "    count += 1\n"
   ]
  },
  {
   "cell_type": "code",
   "execution_count": null,
   "metadata": {},
   "outputs": [],
   "source": [
    "mean_2nm_nr"
   ]
  },
  {
   "cell_type": "code",
   "execution_count": null,
   "metadata": {},
   "outputs": [],
   "source": [
    "#np.std()\n",
    "#std_2nm_nr[4] = 1\n",
    "std_2nm_nr"
   ]
  },
  {
   "cell_type": "code",
   "execution_count": null,
   "metadata": {},
   "outputs": [],
   "source": [
    "x_pos = np.arange(5)\n",
    "width = 0.3\n",
    "aa_types = [\"Negative\", \"Positive\", \"Polar\", \"Hydrophobic\", \"Aromatic\"]\n",
    "plt.figure(figsize=(7,7))\n",
    "plt.bar(x_pos, mean_12nm_nr, width, yerr=std_12nm_nr, ecolor='black',capsize=5, color='royalblue')\n",
    "plt.bar(x_pos+width, mean_15nm_nr, width, yerr=std_15nm_nr, ecolor='black',capsize=5, color='c')\n",
    "plt.bar(x_pos+(2*width), mean_2nm_nr, width, yerr=std_2nm_nr, ecolor='black',capsize=5, color='lightslategray')\n",
    "plt.title(r'No. of PLGA residues Rg unrestrained', fontsize=15)\n",
    "plt.xticks(x_pos+width, labels=aa_types, fontsize=14)\n",
    "plt.legend(['Rg = 1.2 nm', 'Rg = 1.5 nm', 'Rg = 2 nm'], frameon=False)\n",
    "plt.ylabel(r'No. of PLGA residues', fontsize=15)"
   ]
  },
  {
   "cell_type": "markdown",
   "metadata": {},
   "source": [
    "### Protein/polymer contact map movie"
   ]
  },
  {
   "cell_type": "code",
   "execution_count": null,
   "metadata": {},
   "outputs": [],
   "source": [
    "trj_ppmap2nm_nr = prot_poly_cntmovie(prot2nm_nores, p2nm_allnr, dmax, pn2nm_nores, 0, 10000)\n",
    "#trj_ppmap_12nm_chC = prot_poly_cntmovie(prot, all_pn20_C, dmax, u_pn20, 0, 10000)"
   ]
  },
  {
   "cell_type": "code",
   "execution_count": null,
   "metadata": {},
   "outputs": [],
   "source": [
    "trj_ppmap2nm_nr.shape"
   ]
  },
  {
   "cell_type": "code",
   "execution_count": null,
   "metadata": {},
   "outputs": [],
   "source": [
    "np.save('2nm_NoRes.npy', trj_ppmap2nm_nr)    # .npy extension is added if not given"
   ]
  },
  {
   "cell_type": "code",
   "execution_count": null,
   "metadata": {},
   "outputs": [],
   "source": [
    "trj_load2nm = np.load('2nm_NoRes.npy', allow_pickle=True)\n",
    "trj_load2nm"
   ]
  },
  {
   "cell_type": "code",
   "execution_count": null,
   "metadata": {},
   "outputs": [],
   "source": [
    "for i in range(1000):\n",
    "    print(np.nonzero(trj_load2nm[i]))"
   ]
  },
  {
   "cell_type": "code",
   "execution_count": null,
   "metadata": {},
   "outputs": [],
   "source": [
    "trj_load2nm[0].shape"
   ]
  },
  {
   "cell_type": "code",
   "execution_count": null,
   "metadata": {},
   "outputs": [],
   "source": [
    "fig = plt.figure(figsize=(10,10))\n",
    "\n",
    "# Set the axis and the plot titles pp\n",
    "\n",
    "plt.title(\"BSA/PLGA contact map 2 nm Unres.\", fontsize=22, loc='left')\n",
    "plt.xlabel(\"PLGA Residue No.\", fontsize=22)\n",
    "plt.ylabel(\"BSA Residue No.\", fontsize=20)\n",
    "\n",
    " # Set the axis range \n",
    "plt.ylim(583, 0)\n",
    "plt.xlim(0, 60)\n",
    "\n",
    "# Plot bands for each chain \n",
    "BANDS = (\n",
    "    (0, 20, \"purple\", \"B\"),\n",
    "    (20, 40, \"blue\", \"C\"),\n",
    "    (40, 60, \"green\", \"D\"),\n",
    ")\n",
    "    \n",
    "text_y = 0.98 # Close to the top\n",
    "for start, stop, color, band in BANDS:\n",
    "    plt.axvspan(start, stop,color=color, alpha=0.15)\n",
    "    text_x = middle_of_band(start,stop)\n",
    "    plt.text(\n",
    "        text_x,\n",
    "        text_y,\n",
    "        \"PLGA chain \" + band,\n",
    "        color=color,\n",
    "        fontsize=18,\n",
    "        transform=fig.gca().transAxes,\n",
    "        horizontalalignment='center',\n",
    "        verticalalignment='center',\n",
    "        style='italic',\n",
    "    )\n",
    "    \n",
    "plt.text(0.94, 1, \"Time [ns]:\", fontsize=20, transform=fig.gca().transAxes, horizontalalignment='right', verticalalignment='bottom')\n",
    "\n",
    "# Set tick label size\n",
    "fig.gca().tick_params(axis='both', which='major', labelsize=20)\n",
    "\n",
    "ims = []\n",
    "for i in range(10000):\n",
    "    data = trj_ppmap2nm_nr[i]\n",
    "    im = plt.imshow(data, aspect='auto', cmap='Greys')\n",
    "    t_sim = plt.text(1.03, 1, str(i/100), fontsize=20, transform=fig.gca().transAxes, horizontalalignment='right', verticalalignment='bottom')\n",
    "    ims.append([im, t_sim])\n",
    "    \n",
    "ani = animation.ArtistAnimation(fig, ims, blit=True, repeat=False)\n",
    "ani.save('2nm_NoRes.mp4', writer='ffmpeg', fps=50, bitrate=100000)\n",
    "#plt.tight_layout()\n",
    "#plt.show()"
   ]
  },
  {
   "cell_type": "code",
   "execution_count": null,
   "metadata": {},
   "outputs": [],
   "source": []
  },
  {
   "cell_type": "code",
   "execution_count": null,
   "metadata": {},
   "outputs": [],
   "source": []
  }
 ],
 "metadata": {
  "kernelspec": {
   "display_name": "Python (ppc_env)",
   "language": "python",
   "name": "ppc_env"
  },
  "language_info": {
   "codemirror_mode": {
    "name": "ipython",
    "version": 3
   },
   "file_extension": ".py",
   "mimetype": "text/x-python",
   "name": "python",
   "nbconvert_exporter": "python",
   "pygments_lexer": "ipython3",
   "version": "3.6.8"
  }
 },
 "nbformat": 4,
 "nbformat_minor": 4
}
