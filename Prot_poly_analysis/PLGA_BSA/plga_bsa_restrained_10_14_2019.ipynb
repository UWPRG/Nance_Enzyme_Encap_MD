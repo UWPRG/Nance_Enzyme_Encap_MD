{
 "cells": [
  {
   "cell_type": "code",
   "execution_count": 1,
   "metadata": {},
   "outputs": [],
   "source": [
    "#import the necessary modules \n",
    "%matplotlib inline \n",
    "import numpy as np \n",
    "import matplotlib.pyplot as plt \n",
    "import pandas as pd \n",
    "#import scipy\n",
    "import sklearn\n",
    "import itertools as it\n",
    "from itertools import cycle \n",
    "import os.path as op\n",
    "import timeit \n",
    "import json\n",
    "from matplotlib import animation\n",
    "import matplotlib.font_manager as font_manager\n",
    "from collections import namedtuple\n",
    "#from functools import partial\n",
    "#from pathlib import Path"
   ]
  },
  {
   "cell_type": "code",
   "execution_count": 2,
   "metadata": {},
   "outputs": [],
   "source": [
    "# Set plotting style\n",
    "plt.style.use('seaborn-white')\n",
    "\n",
    "from ipywidgets import interact, interactive, fixed, interact_manual\n",
    "import ipywidgets as widgets\n",
    "#import matplotlib.pyplot as plt"
   ]
  },
  {
   "cell_type": "code",
   "execution_count": 3,
   "metadata": {},
   "outputs": [],
   "source": [
    "%matplotlib widget"
   ]
  },
  {
   "cell_type": "code",
   "execution_count": 4,
   "metadata": {},
   "outputs": [
    {
     "data": {
      "text/plain": [
       "4"
      ]
     },
     "execution_count": 4,
     "metadata": {},
     "output_type": "execute_result"
    }
   ],
   "source": [
    "import multiprocessing as m_proc\n",
    "m_proc.cpu_count()"
   ]
  },
  {
   "cell_type": "markdown",
   "metadata": {},
   "source": [
    "### Now use MD Analysis to calculate no. of frames a center PLGA residues and terminal PLGA residue is with 4 Angstroms of BSA (1.2 nm restrained system)"
   ]
  },
  {
   "cell_type": "markdown",
   "metadata": {},
   "source": [
    "Import MDAnalysis"
   ]
  },
  {
   "cell_type": "code",
   "execution_count": 5,
   "metadata": {},
   "outputs": [],
   "source": [
    "from prot_polymer_analysis import get_protresd_list, aa_frmcount, grptwocnt_aa, gtwo_trjcnt \n",
    "from prot_polymer_analysis import frac_cont, bavg_frac_cnt, prot_poly_cntmovie, AA_list_org"
   ]
  },
  {
   "cell_type": "code",
   "execution_count": 6,
   "metadata": {},
   "outputs": [],
   "source": [
    "# Import MDAnalysis\n",
    "import MDAnalysis as mda\n",
    "import MDAnalysis.analysis.distances as maa_dist"
   ]
  },
  {
   "cell_type": "markdown",
   "metadata": {},
   "source": [
    "### First table will be total fractional contacts and oligomer occupancy values for each Rg value "
   ]
  },
  {
   "cell_type": "markdown",
   "metadata": {},
   "source": [
    "#### Distance-based analysis \n",
    "\n",
    "Find residues that have at least one atom within a cutoff $d = 4.0$ Angstrom near water molecules in BSA/water simulation\n",
    "\n",
    "Calculate the number of surface bsa residues from a 1 ns BSA/water simulation"
   ]
  },
  {
   "cell_type": "code",
   "execution_count": 7,
   "metadata": {},
   "outputs": [],
   "source": [
    "#Units of Angstroms \n",
    "dmax = 4.0 "
   ]
  },
  {
   "cell_type": "code",
   "execution_count": 8,
   "metadata": {},
   "outputs": [],
   "source": [
    "def middle_of_band(band_start, band_stop, plot_min=0, plot_max=60):\n",
    "    half_way = (band_stop - band_start) / 2\n",
    "    mid_band = band_start + half_way\n",
    "    plot_fraction = (mid_band - plot_min) / (plot_max - plot_min)\n",
    "\n",
    "    return plot_fraction"
   ]
  },
  {
   "cell_type": "markdown",
   "metadata": {},
   "source": [
    "# 1.2 nm PLGA restrained Rg 100 ns trajectory"
   ]
  },
  {
   "cell_type": "markdown",
   "metadata": {},
   "source": [
    "Load the rg = 1.2 nm (3 PLGA N = 20 oligomer/BSA system) "
   ]
  },
  {
   "cell_type": "code",
   "execution_count": 9,
   "metadata": {},
   "outputs": [],
   "source": [
    "# Set up the MD Simulation, Make sure you do gmx trjconv -s topol.tpr -f confout.gro  -o new_conf.pdb -dump 0 -n bsaplga_nk.ndx to generate \n",
    "# a new pdb file that contains unique chain identifiers \n",
    "u_pn20 = mda.Universe(\"../1.2nm_bsa_prod/k4000_plumed/new_conf.pdb\", \"../1.2nm_bsa_prod/k4000_plumed/pp_1_2nmres.xtc\")"
   ]
  },
  {
   "cell_type": "code",
   "execution_count": 10,
   "metadata": {},
   "outputs": [
    {
     "data": {
      "text/plain": [
       "<Universe with 10148 atoms>"
      ]
     },
     "execution_count": 10,
     "metadata": {},
     "output_type": "execute_result"
    }
   ],
   "source": [
    "u_pn20"
   ]
  },
  {
   "cell_type": "markdown",
   "metadata": {},
   "source": [
    "Check that we are on the first frame"
   ]
  },
  {
   "cell_type": "code",
   "execution_count": 11,
   "metadata": {},
   "outputs": [
    {
     "data": {
      "text/plain": [
       "0"
      ]
     },
     "execution_count": 11,
     "metadata": {},
     "output_type": "execute_result"
    }
   ],
   "source": [
    "u_pn20.trajectory.frame"
   ]
  },
  {
   "cell_type": "code",
   "execution_count": 12,
   "metadata": {},
   "outputs": [
    {
     "data": {
      "text/plain": [
       "10001"
      ]
     },
     "execution_count": 12,
     "metadata": {},
     "output_type": "execute_result"
    }
   ],
   "source": [
    "pn20_len = len(u_pn20.trajectory)\n",
    "pn20_len"
   ]
  },
  {
   "cell_type": "code",
   "execution_count": 13,
   "metadata": {},
   "outputs": [
    {
     "data": {
      "text/plain": [
       "<AtomGroup with 543 atoms>"
      ]
     },
     "execution_count": 13,
     "metadata": {},
     "output_type": "execute_result"
    }
   ],
   "source": [
    "# Select one polymer chain, heavy atoms only \n",
    "#all_pn20 = u_pn20.select_atoms(\"(resname sPLG PLG tPLG and segid B) and not type H\")\n",
    "\n",
    "#Select all the PLGA residues, heavy atoms only\n",
    "all_pn20 = u_pn20.select_atoms(\"resname sPLG PLG tPLG and not type H\")\n",
    "all_pn20"
   ]
  },
  {
   "cell_type": "code",
   "execution_count": 14,
   "metadata": {},
   "outputs": [
    {
     "data": {
      "text/plain": [
       "<AtomGroup with 4653 atoms>"
      ]
     },
     "execution_count": 14,
     "metadata": {},
     "output_type": "execute_result"
    }
   ],
   "source": [
    "# Select BSA residues, heavy atoms only \n",
    "prot = u_pn20.select_atoms(\"protein and not type H\")\n",
    "prot"
   ]
  },
  {
   "cell_type": "markdown",
   "metadata": {},
   "source": [
    "Calculate AA frame counts for PLGA residues, 1.2 nm RG restraint, 100ns trajectory "
   ]
  },
  {
   "cell_type": "code",
   "execution_count": 15,
   "metadata": {},
   "outputs": [
    {
     "data": {
      "text/plain": [
       "611.0223658857867"
      ]
     },
     "execution_count": 15,
     "metadata": {},
     "output_type": "execute_result"
    }
   ],
   "source": [
    "#dmax = 4.0, protein group(4653 atoms), plga atom group (543 atoms), took 381.6 s (6 min 36s on 4 cores)\n",
    "start = 0\n",
    "end = pn20_len - 1\n",
    "s_time = timeit.default_timer()\n",
    "h2di = aa_frmcount(prot, all_pn20, dmax, u_pn20, start, end)\n",
    "timeit.default_timer() - s_time"
   ]
  },
  {
   "cell_type": "code",
   "execution_count": null,
   "metadata": {},
   "outputs": [],
   "source": [
    "#h2di"
   ]
  },
  {
   "cell_type": "code",
   "execution_count": 16,
   "metadata": {},
   "outputs": [
    {
     "data": {
      "text/html": [
       "<div>\n",
       "<style scoped>\n",
       "    .dataframe tbody tr th:only-of-type {\n",
       "        vertical-align: middle;\n",
       "    }\n",
       "\n",
       "    .dataframe tbody tr th {\n",
       "        vertical-align: top;\n",
       "    }\n",
       "\n",
       "    .dataframe thead th {\n",
       "        text-align: right;\n",
       "    }\n",
       "</style>\n",
       "<table border=\"1\" class=\"dataframe\">\n",
       "  <thead>\n",
       "    <tr style=\"text-align: right;\">\n",
       "      <th></th>\n",
       "      <th>BSA_des_res</th>\n",
       "      <th>mda_occ_1.2nm</th>\n",
       "    </tr>\n",
       "  </thead>\n",
       "  <tbody>\n",
       "    <tr>\n",
       "      <td>0</td>\n",
       "      <td>&lt;Residue ASP, 1&gt;</td>\n",
       "      <td>0.00</td>\n",
       "    </tr>\n",
       "    <tr>\n",
       "      <td>1</td>\n",
       "      <td>&lt;Residue THR, 2&gt;</td>\n",
       "      <td>0.00</td>\n",
       "    </tr>\n",
       "    <tr>\n",
       "      <td>2</td>\n",
       "      <td>&lt;Residue HIS, 3&gt;</td>\n",
       "      <td>0.00</td>\n",
       "    </tr>\n",
       "    <tr>\n",
       "      <td>3</td>\n",
       "      <td>&lt;Residue LYS, 4&gt;</td>\n",
       "      <td>0.00</td>\n",
       "    </tr>\n",
       "    <tr>\n",
       "      <td>4</td>\n",
       "      <td>&lt;Residue SER, 5&gt;</td>\n",
       "      <td>0.00</td>\n",
       "    </tr>\n",
       "    <tr>\n",
       "      <td>...</td>\n",
       "      <td>...</td>\n",
       "      <td>...</td>\n",
       "    </tr>\n",
       "    <tr>\n",
       "      <td>578</td>\n",
       "      <td>&lt;Residue GLN, 579&gt;</td>\n",
       "      <td>0.00</td>\n",
       "    </tr>\n",
       "    <tr>\n",
       "      <td>579</td>\n",
       "      <td>&lt;Residue THR, 580&gt;</td>\n",
       "      <td>0.00</td>\n",
       "    </tr>\n",
       "    <tr>\n",
       "      <td>580</td>\n",
       "      <td>&lt;Residue ALA, 581&gt;</td>\n",
       "      <td>0.01</td>\n",
       "    </tr>\n",
       "    <tr>\n",
       "      <td>581</td>\n",
       "      <td>&lt;Residue LEU, 582&gt;</td>\n",
       "      <td>0.00</td>\n",
       "    </tr>\n",
       "    <tr>\n",
       "      <td>582</td>\n",
       "      <td>&lt;Residue ALA, 583&gt;</td>\n",
       "      <td>0.00</td>\n",
       "    </tr>\n",
       "  </tbody>\n",
       "</table>\n",
       "<p>583 rows × 2 columns</p>\n",
       "</div>"
      ],
      "text/plain": [
       "            BSA_des_res  mda_occ_1.2nm\n",
       "0      <Residue ASP, 1>           0.00\n",
       "1      <Residue THR, 2>           0.00\n",
       "2      <Residue HIS, 3>           0.00\n",
       "3      <Residue LYS, 4>           0.00\n",
       "4      <Residue SER, 5>           0.00\n",
       "..                  ...            ...\n",
       "578  <Residue GLN, 579>           0.00\n",
       "579  <Residue THR, 580>           0.00\n",
       "580  <Residue ALA, 581>           0.01\n",
       "581  <Residue LEU, 582>           0.00\n",
       "582  <Residue ALA, 583>           0.00\n",
       "\n",
       "[583 rows x 2 columns]"
      ]
     },
     "execution_count": 16,
     "metadata": {},
     "output_type": "execute_result"
    }
   ],
   "source": [
    "pr_res_n = list(prot.residues)\n",
    "ss_res_n = [str(row) for row in pr_res_n]\n",
    "rkg_n = {key:h2di[key][1] for key, value in h2di.items()}\n",
    "plg_1_2nm_occ = pd.DataFrame(data=ss_res_n, columns=[\"BSA_des_res\"])\n",
    "plg_1_2nm_occ['mda_occ_1.2nm'] = plg_1_2nm_occ['BSA_des_res'].map(rkg_n)\n",
    "plg_1_2nm_occ['mda_occ_1.2nm'] = plg_1_2nm_occ['mda_occ_1.2nm'].replace('nan', np.nan).fillna(0)\n",
    "plg_1_2nm_occ['mda_occ_1.2nm'] = plg_1_2nm_occ['mda_occ_1.2nm'].round(2)\n",
    "plg_1_2nm_occ"
   ]
  },
  {
   "cell_type": "code",
   "execution_count": null,
   "metadata": {},
   "outputs": [],
   "source": [
    "plg_1_2nm_occ['mda_occ_1.2nm'][plg_1_2nm_occ['mda_occ_1.2nm'] != 0]"
   ]
  },
  {
   "cell_type": "code",
   "execution_count": 17,
   "metadata": {},
   "outputs": [],
   "source": [
    "bsa_r = np.array(list(prot.resids)) # shape is 4652\n",
    "m_occ_12r = np.array(list(plg_1_2nm_occ['mda_occ_1.2nm'])) # shape is 583\n",
    "m_occ = np.zeros(shape=(4653))\n",
    "at_ind = np.where(bsa_r[:-1] != bsa_r[1:])[0]\n",
    "at_in_nw = np.sort(np.append([0,4653],at_ind))\n",
    "nw_v = 0\n",
    "for i in range(583):\n",
    "    b = at_in_nw[i+1] +1\n",
    "    m_occ[nw_v:b] = m_occ_12r[i]\n",
    "    nw_v = at_in_nw[i+1] + 1 "
   ]
  },
  {
   "cell_type": "code",
   "execution_count": 18,
   "metadata": {},
   "outputs": [
    {
     "data": {
      "text/plain": [
       "array([0.  , 0.08, 0.08, 0.08, 0.08, 0.08, 0.08, 0.08, 0.08, 0.08, 0.08,\n",
       "       0.08, 0.06])"
      ]
     },
     "execution_count": 18,
     "metadata": {},
     "output_type": "execute_result"
    }
   ],
   "source": [
    "m_occ[633:646]"
   ]
  },
  {
   "cell_type": "markdown",
   "metadata": {},
   "source": [
    "### Visualize Occupanct on protein "
   ]
  },
  {
   "cell_type": "code",
   "execution_count": null,
   "metadata": {},
   "outputs": [],
   "source": [
    "prot.occupancies = m_occ\n",
    "prot.occupancies"
   ]
  },
  {
   "cell_type": "code",
   "execution_count": null,
   "metadata": {},
   "outputs": [],
   "source": [
    "with mda.Writer(\"prot_12.pdb\") as pdb:\n",
    "    pdb.write(prot)"
   ]
  },
  {
   "cell_type": "code",
   "execution_count": null,
   "metadata": {},
   "outputs": [],
   "source": [
    "# Frame count and occupancy for each residue\n",
    "#h2di"
   ]
  },
  {
   "cell_type": "code",
   "execution_count": null,
   "metadata": {},
   "outputs": [],
   "source": [
    "len(h2di.keys())"
   ]
  },
  {
   "cell_type": "markdown",
   "metadata": {},
   "source": [
    "### Residue Importance: 1.2 nm restrained "
   ]
  },
  {
   "cell_type": "code",
   "execution_count": null,
   "metadata": {},
   "outputs": [],
   "source": [
    "# Need to fix function, the residue number are not counting the other 2 PLGA oligomers cuz of same resid number\n",
    "trj_ppmap_12nm = prot_poly_cntmovie(prot, all_pn20, dmax, u_pn20, 0, 10000)\n",
    "#trj_ppmap_12nm_chC = prot_poly_cntmovie(prot, all_pn20_C, dmax, u_pn20, 0, 10000)"
   ]
  },
  {
   "cell_type": "code",
   "execution_count": null,
   "metadata": {},
   "outputs": [],
   "source": [
    "np.save('1.2nm_res.npy', trj_ppmap_12nm)    # .npy extension is added if not given"
   ]
  },
  {
   "cell_type": "code",
   "execution_count": 19,
   "metadata": {},
   "outputs": [],
   "source": [
    "trj_ppmap_12nm = np.load(\"1.2nm_res.npy\", allow_pickle=True)"
   ]
  },
  {
   "cell_type": "code",
   "execution_count": 20,
   "metadata": {},
   "outputs": [
    {
     "data": {
      "text/plain": [
       "(583, 60)"
      ]
     },
     "execution_count": 20,
     "metadata": {},
     "output_type": "execute_result"
    }
   ],
   "source": [
    "trj_ppmap_12nm[0].shape"
   ]
  },
  {
   "cell_type": "code",
   "execution_count": 21,
   "metadata": {},
   "outputs": [
    {
     "data": {
      "text/plain": [
       "0.0"
      ]
     },
     "execution_count": 21,
     "metadata": {},
     "output_type": "execute_result"
    }
   ],
   "source": [
    "np.sum(trj_ppmap_12nm[1000][0])"
   ]
  },
  {
   "cell_type": "code",
   "execution_count": 22,
   "metadata": {},
   "outputs": [
    {
     "data": {
      "text/plain": [
       "(10000,)"
      ]
     },
     "execution_count": 22,
     "metadata": {},
     "output_type": "execute_result"
    }
   ],
   "source": [
    "kj = np.zeros(shape=(10000, 583))\n",
    "kj[:,582].shape"
   ]
  },
  {
   "cell_type": "code",
   "execution_count": 23,
   "metadata": {},
   "outputs": [],
   "source": [
    "pp_12nm_ct = np.zeros(shape=(10000, 583))\n",
    "for i in range(10000):\n",
    "    for j in range(583):\n",
    "        pp_12nm_ct[i][j] = np.sum(trj_ppmap_12nm[i][j])"
   ]
  },
  {
   "cell_type": "code",
   "execution_count": 24,
   "metadata": {},
   "outputs": [],
   "source": [
    "pp_12nmtot = np.zeros(shape=(583))\n",
    "for i in range(583):\n",
    "    pp_12nmtot[i] = np.sum(pp_12nm_ct[:,i])\n",
    "#pp_12nmtot"
   ]
  },
  {
   "cell_type": "code",
   "execution_count": 25,
   "metadata": {},
   "outputs": [
    {
     "data": {
      "text/plain": [
       "(array([ 40,  41,  44,  59,  71,  72,  74,  75,  76,  77,  78,  79,  80,\n",
       "         81,  84,  85,  87,  88,  90,  91,  92,  93,  94,  96, 165, 166,\n",
       "        168, 175, 179, 304, 305, 308, 309, 310, 311, 361, 362, 363, 365,\n",
       "        366, 367, 369, 370, 372, 373, 374, 376, 377, 378, 380, 381, 383,\n",
       "        384, 385, 387, 388, 389, 391, 392, 393, 394, 395, 396, 397, 398,\n",
       "        399, 400, 402, 403, 404, 408, 411, 412, 414, 426, 433, 436, 437,\n",
       "        438, 440, 443, 470, 484, 486, 487, 488, 489, 490, 491, 492, 493,\n",
       "        495, 516, 517, 519, 520, 523, 524, 535, 536, 537, 538, 539, 540,\n",
       "        541, 543, 544, 546, 547, 548, 550, 551, 554, 555, 557, 558, 579,\n",
       "        580, 582]),)"
      ]
     },
     "execution_count": 25,
     "metadata": {},
     "output_type": "execute_result"
    }
   ],
   "source": [
    "np.nonzero(pp_12nmtot)"
   ]
  },
  {
   "cell_type": "code",
   "execution_count": 121,
   "metadata": {},
   "outputs": [
    {
     "data": {
      "application/vnd.jupyter.widget-view+json": {
       "model_id": "",
       "version_major": 2,
       "version_minor": 0
      },
      "text/plain": [
       "Canvas(toolbar=Toolbar(toolitems=[('Home', 'Reset original view', 'home', 'home'), ('Back', 'Back to previous …"
      ]
     },
     "metadata": {},
     "output_type": "display_data"
    },
    {
     "data": {
      "text/plain": [
       "Text(0.5, 0, 'BSA Residue ID')"
      ]
     },
     "execution_count": 121,
     "metadata": {},
     "output_type": "execute_result"
    }
   ],
   "source": [
    "y_pos = np.arange(583) + 1\n",
    "wid = np.zeros(shape=583)\n",
    "wid += 2\n",
    "#wid\n",
    "fig = plt.figure(figsize=(12,12))\n",
    "fig.canvas.layout.width = '800px'\n",
    "fig.canvas.layout.height = '700px'\n",
    "plt.bar(y_pos, pp_12nmtot, align='center',width=wid, alpha=1, label='1.2 nm PLGA')\n",
    "plt.xticks(fontsize=14)\n",
    "plt.yticks(fontsize=14)\n",
    "plt.xlim([0,600])\n",
    "plt.ylim([0,16000])\n",
    "plt.legend(fontsize=14)\n",
    "plt.ylabel(r'Total No. of PLGA contacts', fontsize=15)\n",
    "plt.xlabel(r'BSA Residue ID', fontsize=15)"
   ]
  },
  {
   "cell_type": "markdown",
   "metadata": {},
   "source": [
    "### Total number of residues that are within 4 angstroms of a PLGA oligomer residue within a 100 ns trajectory block"
   ]
  },
  {
   "cell_type": "code",
   "execution_count": 27,
   "metadata": {},
   "outputs": [],
   "source": [
    "a_a = [\"GLY\",\"ALA\",\"VAL\",\"LEU\",\"ILE\",\"MET\",\"PHE\",\"TRP\",\"PRO\",\"SER\",\"THR\",\"CYS\",\"TYR\",\"ASN\",\"GLN\",\"ASP\"\n",
    "               ,\"GLU\",\"LYS\",\"ARG\",\"HIS\"]"
   ]
  },
  {
   "cell_type": "code",
   "execution_count": 28,
   "metadata": {},
   "outputs": [],
   "source": [
    "# This code chunk gets the BSA residues and their corresponding number in a pandas dataframe \n",
    "red_bsa = []\n",
    "bh = np.arange(0,584)\n",
    "for i in range(583):\n",
    "    b_str = str(list(prot.residues[i:i+1]))\n",
    "    if str(bh[i+1]) in b_str: \n",
    "        red_bsa.append(str(b_str[10:13])+\" \"+str(bh[i+1]))"
   ]
  },
  {
   "cell_type": "code",
   "execution_count": 29,
   "metadata": {},
   "outputs": [
    {
     "data": {
      "text/html": [
       "<div>\n",
       "<style scoped>\n",
       "    .dataframe tbody tr th:only-of-type {\n",
       "        vertical-align: middle;\n",
       "    }\n",
       "\n",
       "    .dataframe tbody tr th {\n",
       "        vertical-align: top;\n",
       "    }\n",
       "\n",
       "    .dataframe thead th {\n",
       "        text-align: right;\n",
       "    }\n",
       "</style>\n",
       "<table border=\"1\" class=\"dataframe\">\n",
       "  <thead>\n",
       "    <tr style=\"text-align: right;\">\n",
       "      <th></th>\n",
       "      <th>BSA_des_res</th>\n",
       "      <th>mda_plga_frm_1.2nm</th>\n",
       "    </tr>\n",
       "  </thead>\n",
       "  <tbody>\n",
       "    <tr>\n",
       "      <td>578</td>\n",
       "      <td>GLN 579</td>\n",
       "      <td>0.0</td>\n",
       "    </tr>\n",
       "    <tr>\n",
       "      <td>579</td>\n",
       "      <td>THR 580</td>\n",
       "      <td>2.0</td>\n",
       "    </tr>\n",
       "    <tr>\n",
       "      <td>580</td>\n",
       "      <td>ALA 581</td>\n",
       "      <td>51.0</td>\n",
       "    </tr>\n",
       "    <tr>\n",
       "      <td>581</td>\n",
       "      <td>LEU 582</td>\n",
       "      <td>0.0</td>\n",
       "    </tr>\n",
       "    <tr>\n",
       "      <td>582</td>\n",
       "      <td>ALA 583</td>\n",
       "      <td>3.0</td>\n",
       "    </tr>\n",
       "  </tbody>\n",
       "</table>\n",
       "</div>"
      ],
      "text/plain": [
       "    BSA_des_res  mda_plga_frm_1.2nm\n",
       "578     GLN 579                 0.0\n",
       "579     THR 580                 2.0\n",
       "580     ALA 581                51.0\n",
       "581     LEU 582                 0.0\n",
       "582     ALA 583                 3.0"
      ]
     },
     "execution_count": 29,
     "metadata": {},
     "output_type": "execute_result"
    }
   ],
   "source": [
    "pr_res = list(prot.residues)\n",
    "ss_res = [str(row) for row in pr_res]\n",
    "rkg = {key:h2di[key][0] for key, value in h2di.items()}\n",
    "plg_1_2nmaa = pd.DataFrame(data=ss_res, columns=[\"BSA_des_res\"])\n",
    "plg_1_2nmaa['mda_plga_frm_1.2nm'] = plg_1_2nmaa['BSA_des_res'].map(rkg)\n",
    "plg_1_2nmaa['BSA_des_res'] = red_bsa\n",
    "plg_1_2nmaa['mda_plga_frm_1.2nm'] = plg_1_2nmaa['mda_plga_frm_1.2nm'].replace('nan', np.nan).fillna(0)\n",
    "plg_1_2nmaa.tail()"
   ]
  },
  {
   "cell_type": "code",
   "execution_count": 30,
   "metadata": {},
   "outputs": [],
   "source": [
    "# Read in data from the oputput of wrapper.sh, where the frame count is given for each BSA residue that was within \n",
    "# 4 angstroms of PLGA trimer \n",
    "wat_data = pd.read_csv('occ_BSA1ns.txt', sep=\" \", header=None, usecols=None ,index_col=None)\n",
    "wat_data.columns = [\"BSA_res_no\",\"No. of frames (VMD)\"]\n",
    "wat_data = wat_data.drop(\"BSA_res_no\", axis=1)\n",
    "\n",
    "pr_res = list(prot.residues)\n",
    "ss_res = [str(row) for row in pr_res]\n",
    "\n",
    "wat_data['BSA_des_res'] = ss_res\n",
    "wat_data = wat_data[['BSA_des_res',\"No. of frames (VMD)\"]]\n",
    "#wat_data.head()\n",
    "\n",
    "# load MDAnalysis values from MDA_BSA1ns.txt file(129003 atoms SOL group was used to calc. frame counts for txt.\n",
    "# file)\n",
    "h2ob_dict = json.load(open(\"MDA_BSA1ns.txt\"))\n",
    "wat_data['Mda_frames'] = wat_data['BSA_des_res'].map(h2ob_dict)\n",
    "\n",
    "\n",
    "# From MD Analysis\n",
    "#Get the count of bsa residues that have 1001 or 1002 frames ( I ran a 1 ns NPT simulation of 1 BSA in water )\n",
    "\n",
    "#aa_count = pd.DataFrame(data=a_a)\n",
    "c_list = []\n",
    "\n",
    "for i in range(len(a_a)):\n",
    "    count = 0\n",
    "    for index, row in wat_data.iterrows():\n",
    "        if a_a[i] in row[\"BSA_des_res\"]:\n",
    "            if row['Mda_frames'] == 1001: \n",
    "                count += 1\n",
    "                #c_list.append(str(str(a_a[i])+\"  \"+str(row['No. of frames']))) \n",
    "            elif row['Mda_frames'] == 1000:\n",
    "                count += 1\n",
    "                #c_list.append(str(str(a_a[i])+\"  \"+str(row['No. of frames'])))\n",
    "    c_list.append(str(str(a_a[i])+\"  \"+str(count)))\n",
    "    \n",
    "#c_list\n",
    "\n",
    "# From VMD\n",
    "#Get the count of bsa residues that have 1001 or 1002 frames ( I ran a 1 ns NPT simulation of 1 BSA in water )\n",
    "\n",
    "#aa_count = pd.DataFrame(data=a_a)\n",
    "vmd_list = []\n",
    "\n",
    "for i in range(len(a_a)):\n",
    "    count = 0\n",
    "    for index, row in wat_data.iterrows():\n",
    "        if a_a[i] in row[\"BSA_des_res\"]:\n",
    "            if row[\"No. of frames (VMD)\"] == 1001: \n",
    "                count += 1\n",
    "                #c_list.append(str(str(a_a[i])+\"  \"+str(row['No. of frames']))) \n",
    "            elif row[\"No. of frames (VMD)\"] == 1002:\n",
    "                count += 1\n",
    "                #c_list.append(str(str(a_a[i])+\"  \"+str(row['No. of frames'])))\n",
    "    vmd_list.append(str(str(a_a[i])+\"  \"+str(count)))\n",
    "\n",
    "# Main difference is that Alanine 583 is counted for all 1001 frames. It seems VMD is unable to calc dist for that res\n",
    "#vmd_list\n",
    "\n",
    "#hydrophobic_res = ['ALA', 'ILE', 'LEU', 'VAL', 'GLY', 'PRO','PHE', 'TRP','MET']\n",
    "#polar_res = ['ASN', 'CYS', 'GLN', 'SER', 'THR','TYR']\n",
    "#neg_res = ['ASP', 'GLU']\n",
    "#pos_res = ['ARG', 'HIS', 'LYS']\n",
    "# aromatic_res = ['PHE', 'TRP', 'TYR', 'HIS']\n",
    "#all_res = [pos_res, neg_res, polar_res, hydrophobic_res]\n",
    "\n",
    "# Put the AA count in a pandas dataframe \n",
    "dg , ji = AA_list_org(c_list)\n",
    "aa_count = pd.DataFrame(data=dg, index=None, columns=['Amino_acids'])\n",
    "new_lf = pd.Series(data=ji, index=None)\n",
    "vmg, vmdj = AA_list_org(vmd_list)\n",
    "n2lf = pd.Series(data=vmdj, index=None)\n",
    "aa_count['No_of_surf_res (MDAnalysis)'] = new_lf\n",
    "aa_count['No_of_surf_res (VMD)'] = n2lf"
   ]
  },
  {
   "cell_type": "code",
   "execution_count": 31,
   "metadata": {},
   "outputs": [
    {
     "data": {
      "text/html": [
       "<div>\n",
       "<style scoped>\n",
       "    .dataframe tbody tr th:only-of-type {\n",
       "        vertical-align: middle;\n",
       "    }\n",
       "\n",
       "    .dataframe tbody tr th {\n",
       "        vertical-align: top;\n",
       "    }\n",
       "\n",
       "    .dataframe thead th {\n",
       "        text-align: right;\n",
       "    }\n",
       "</style>\n",
       "<table border=\"1\" class=\"dataframe\">\n",
       "  <thead>\n",
       "    <tr style=\"text-align: right;\">\n",
       "      <th></th>\n",
       "      <th>Amino_acids</th>\n",
       "      <th>No_of_surf_res (MDAnalysis)</th>\n",
       "      <th>No_of_surf_res (VMD)</th>\n",
       "      <th>plga_1.2nm_100ns</th>\n",
       "    </tr>\n",
       "  </thead>\n",
       "  <tbody>\n",
       "    <tr>\n",
       "      <td>0</td>\n",
       "      <td>LYS</td>\n",
       "      <td>59</td>\n",
       "      <td>59</td>\n",
       "      <td>18</td>\n",
       "    </tr>\n",
       "    <tr>\n",
       "      <td>1</td>\n",
       "      <td>ARG</td>\n",
       "      <td>23</td>\n",
       "      <td>23</td>\n",
       "      <td>5</td>\n",
       "    </tr>\n",
       "    <tr>\n",
       "      <td>2</td>\n",
       "      <td>HIS</td>\n",
       "      <td>16</td>\n",
       "      <td>16</td>\n",
       "      <td>2</td>\n",
       "    </tr>\n",
       "    <tr>\n",
       "      <td>3</td>\n",
       "      <td>ASP</td>\n",
       "      <td>40</td>\n",
       "      <td>40</td>\n",
       "      <td>12</td>\n",
       "    </tr>\n",
       "    <tr>\n",
       "      <td>4</td>\n",
       "      <td>GLU</td>\n",
       "      <td>59</td>\n",
       "      <td>59</td>\n",
       "      <td>16</td>\n",
       "    </tr>\n",
       "    <tr>\n",
       "      <td>5</td>\n",
       "      <td>SER</td>\n",
       "      <td>23</td>\n",
       "      <td>23</td>\n",
       "      <td>3</td>\n",
       "    </tr>\n",
       "    <tr>\n",
       "      <td>6</td>\n",
       "      <td>THR</td>\n",
       "      <td>29</td>\n",
       "      <td>29</td>\n",
       "      <td>9</td>\n",
       "    </tr>\n",
       "    <tr>\n",
       "      <td>7</td>\n",
       "      <td>CYS</td>\n",
       "      <td>24</td>\n",
       "      <td>24</td>\n",
       "      <td>7</td>\n",
       "    </tr>\n",
       "    <tr>\n",
       "      <td>8</td>\n",
       "      <td>TYR</td>\n",
       "      <td>19</td>\n",
       "      <td>19</td>\n",
       "      <td>2</td>\n",
       "    </tr>\n",
       "    <tr>\n",
       "      <td>9</td>\n",
       "      <td>ASN</td>\n",
       "      <td>14</td>\n",
       "      <td>14</td>\n",
       "      <td>4</td>\n",
       "    </tr>\n",
       "    <tr>\n",
       "      <td>10</td>\n",
       "      <td>GLN</td>\n",
       "      <td>19</td>\n",
       "      <td>19</td>\n",
       "      <td>9</td>\n",
       "    </tr>\n",
       "    <tr>\n",
       "      <td>11</td>\n",
       "      <td>GLY</td>\n",
       "      <td>11</td>\n",
       "      <td>11</td>\n",
       "      <td>3</td>\n",
       "    </tr>\n",
       "    <tr>\n",
       "      <td>12</td>\n",
       "      <td>ALA</td>\n",
       "      <td>39</td>\n",
       "      <td>38</td>\n",
       "      <td>13</td>\n",
       "    </tr>\n",
       "    <tr>\n",
       "      <td>13</td>\n",
       "      <td>VAL</td>\n",
       "      <td>19</td>\n",
       "      <td>19</td>\n",
       "      <td>2</td>\n",
       "    </tr>\n",
       "    <tr>\n",
       "      <td>14</td>\n",
       "      <td>LEU</td>\n",
       "      <td>34</td>\n",
       "      <td>34</td>\n",
       "      <td>6</td>\n",
       "    </tr>\n",
       "    <tr>\n",
       "      <td>15</td>\n",
       "      <td>ILE</td>\n",
       "      <td>7</td>\n",
       "      <td>7</td>\n",
       "      <td>0</td>\n",
       "    </tr>\n",
       "    <tr>\n",
       "      <td>16</td>\n",
       "      <td>MET</td>\n",
       "      <td>3</td>\n",
       "      <td>3</td>\n",
       "      <td>1</td>\n",
       "    </tr>\n",
       "    <tr>\n",
       "      <td>17</td>\n",
       "      <td>PHE</td>\n",
       "      <td>20</td>\n",
       "      <td>20</td>\n",
       "      <td>3</td>\n",
       "    </tr>\n",
       "    <tr>\n",
       "      <td>18</td>\n",
       "      <td>TRP</td>\n",
       "      <td>2</td>\n",
       "      <td>2</td>\n",
       "      <td>0</td>\n",
       "    </tr>\n",
       "    <tr>\n",
       "      <td>19</td>\n",
       "      <td>PRO</td>\n",
       "      <td>27</td>\n",
       "      <td>27</td>\n",
       "      <td>5</td>\n",
       "    </tr>\n",
       "  </tbody>\n",
       "</table>\n",
       "</div>"
      ],
      "text/plain": [
       "   Amino_acids  No_of_surf_res (MDAnalysis)  No_of_surf_res (VMD)  \\\n",
       "0          LYS                           59                    59   \n",
       "1          ARG                           23                    23   \n",
       "2          HIS                           16                    16   \n",
       "3          ASP                           40                    40   \n",
       "4          GLU                           59                    59   \n",
       "5          SER                           23                    23   \n",
       "6          THR                           29                    29   \n",
       "7          CYS                           24                    24   \n",
       "8          TYR                           19                    19   \n",
       "9          ASN                           14                    14   \n",
       "10         GLN                           19                    19   \n",
       "11         GLY                           11                    11   \n",
       "12         ALA                           39                    38   \n",
       "13         VAL                           19                    19   \n",
       "14         LEU                           34                    34   \n",
       "15         ILE                            7                     7   \n",
       "16         MET                            3                     3   \n",
       "17         PHE                           20                    20   \n",
       "18         TRP                            2                     2   \n",
       "19         PRO                           27                    27   \n",
       "\n",
       "    plga_1.2nm_100ns  \n",
       "0                 18  \n",
       "1                  5  \n",
       "2                  2  \n",
       "3                 12  \n",
       "4                 16  \n",
       "5                  3  \n",
       "6                  9  \n",
       "7                  7  \n",
       "8                  2  \n",
       "9                  4  \n",
       "10                 9  \n",
       "11                 3  \n",
       "12                13  \n",
       "13                 2  \n",
       "14                 6  \n",
       "15                 0  \n",
       "16                 1  \n",
       "17                 3  \n",
       "18                 0  \n",
       "19                 5  "
      ]
     },
     "execution_count": 31,
     "metadata": {},
     "output_type": "execute_result"
    }
   ],
   "source": [
    "apl_list = []\n",
    "\n",
    "# Some residues don't have any contact with the 3 N = 20 PLGA oligomers within 100 ns,\n",
    "# Put residues that do have contact with BSA in a separate list\n",
    "for index, r_pl in plg_1_2nmaa.iterrows():\n",
    "    if r_pl['mda_plga_frm_1.2nm'] != 0:\n",
    "        apl_list.append(r_pl['BSA_des_res'])\n",
    "        \n",
    "# This chunk of code gets an AA count from the above list, in order \n",
    "# to get a total number of residues that contact BSA\n",
    "cpl_l = []\n",
    "\n",
    "for index, r_a in aa_count.iterrows():\n",
    "    count = 0\n",
    "    for i in range(len(apl_list)):\n",
    "        if r_a['Amino_acids'] in apl_list[i]:\n",
    "            count += 1\n",
    "    cpl_l.append(count)      \n",
    "        \n",
    "aa_count['plga_1.2nm_100ns'] = cpl_l\n",
    "aa_count"
   ]
  },
  {
   "cell_type": "code",
   "execution_count": 32,
   "metadata": {},
   "outputs": [
    {
     "data": {
      "text/plain": [
       "120"
      ]
     },
     "execution_count": 32,
     "metadata": {},
     "output_type": "execute_result"
    }
   ],
   "source": [
    "# This gives the total number of residues that are within 4 angstroms of a PLGA oligomer residue\n",
    "# within a 100 ns trajectory block\n",
    "aa_count['plga_1.2nm_100ns'].sum()"
   ]
  },
  {
   "cell_type": "code",
   "execution_count": 33,
   "metadata": {},
   "outputs": [
    {
     "data": {
      "text/plain": [
       "487"
      ]
     },
     "execution_count": 33,
     "metadata": {},
     "output_type": "execute_result"
    }
   ],
   "source": [
    "# This gives the total number of residues that are within 4 angstroms of a water molecule\n",
    "# within a 1 ns trajectory block\n",
    "aa_count['No_of_surf_res (MDAnalysis)'].sum()"
   ]
  },
  {
   "cell_type": "code",
   "execution_count": 34,
   "metadata": {},
   "outputs": [
    {
     "data": {
      "text/plain": [
       "0.2464065708418891"
      ]
     },
     "execution_count": 34,
     "metadata": {},
     "output_type": "execute_result"
    }
   ],
   "source": [
    "# This gives the total fraction of contacts within the 1.2 nm Rg 100 ns trajectory\n",
    "aa_count['plga_1.2nm_100ns'].sum()/aa_count['No_of_surf_res (MDAnalysis)'].sum()"
   ]
  },
  {
   "cell_type": "markdown",
   "metadata": {},
   "source": [
    "Calculate mean occupancy and the standard deviation for 1.2 nm trajectory\n",
    "\n",
    "Numpy mean and std function was used to calculate mean occupancy and std dev using occ values from aa_frmcount output"
   ]
  },
  {
   "cell_type": "code",
   "execution_count": 35,
   "metadata": {},
   "outputs": [
    {
     "name": "stdout",
     "output_type": "stream",
     "text": [
      "Mean Occpancy (1.2 nm Rg): 0.0816425 Occ. std. dev.: 0.12386145799676077\n"
     ]
    }
   ],
   "source": [
    "# Mean occupancy and std deviation \n",
    "ll_mo = [value[1] for key, value in h2di.items()]\n",
    "print(\"Mean Occpancy (1.2 nm Rg): \"+str(np.mean(ll_mo)), \"Occ. std. dev.: \"+str(np.std(ll_mo)))"
   ]
  },
  {
   "cell_type": "markdown",
   "metadata": {},
   "source": [
    "### Calc. fractional contacts for each AA group type "
   ]
  },
  {
   "cell_type": "code",
   "execution_count": 36,
   "metadata": {},
   "outputs": [
    {
     "data": {
      "text/plain": [
       "{'Negative': [26653.0, 28, 114227.14285714286, 0.2274227983368448],\n",
       " 'Positive': [25196.0, 25, 120940.79999999999, 0.24078948734185865],\n",
       " 'Polar': [19656.0, 34, 69374.11764705883, 0.1381217771259086],\n",
       " 'Hydrophobic': [26466.0, 33, 96239.99999999999, 0.19161093908573842],\n",
       " 'Aromatic': [5920.0, 7, 101485.71428571429, 0.20205499810964941]}"
      ]
     },
     "execution_count": 36,
     "metadata": {},
     "output_type": "execute_result"
    }
   ],
   "source": [
    "cd_12nm = frac_cont(h2di)\n",
    "cd_12nm"
   ]
  },
  {
   "cell_type": "code",
   "execution_count": 37,
   "metadata": {},
   "outputs": [
    {
     "data": {
      "text/plain": [
       "120"
      ]
     },
     "execution_count": 37,
     "metadata": {},
     "output_type": "execute_result"
    }
   ],
   "source": [
    "cd = frac_cont(h2di)\n",
    "kklh = []\n",
    "for key, value in cd.items():\n",
    "    kklh.append(value[1])\n",
    "# Must substract aromatic residues, since they are already counted\n",
    "sum(kklh) - cd['Aromatic'][1]"
   ]
  },
  {
   "cell_type": "code",
   "execution_count": null,
   "metadata": {},
   "outputs": [],
   "source": [
    "start = 0\n",
    "end = pn20_len - 1\n",
    "aa_12nm, l_f12nm = gtwo_trjcnt(prot, all_pn20, dmax, u_pn20, start, end)"
   ]
  },
  {
   "cell_type": "code",
   "execution_count": null,
   "metadata": {},
   "outputs": [],
   "source": [
    "aa_12nm"
   ]
  },
  {
   "cell_type": "code",
   "execution_count": null,
   "metadata": {},
   "outputs": [],
   "source": [
    "l_f12nm.shape"
   ]
  },
  {
   "cell_type": "code",
   "execution_count": 38,
   "metadata": {},
   "outputs": [
    {
     "data": {
      "text/plain": [
       "487"
      ]
     },
     "execution_count": 38,
     "metadata": {},
     "output_type": "execute_result"
    }
   ],
   "source": [
    "no_surf = aa_count['No_of_surf_res (MDAnalysis)'].sum()\n",
    "no_surf"
   ]
  },
  {
   "cell_type": "code",
   "execution_count": 39,
   "metadata": {},
   "outputs": [
    {
     "name": "stdout",
     "output_type": "stream",
     "text": [
      "0\n",
      "2000\n",
      "2000\n",
      "4000\n",
      "4000\n",
      "6000\n",
      "6000\n",
      "8000\n",
      "8000\n",
      "10000\n"
     ]
    }
   ],
   "source": [
    "fcnt_rg1_2nm, prgrp_1_2nm, aa_matx = bavg_frac_cnt(5, prot, all_pn20, dmax, u_pn20, no_surf, 0, 10000)"
   ]
  },
  {
   "cell_type": "code",
   "execution_count": 40,
   "metadata": {},
   "outputs": [
    {
     "data": {
      "text/plain": [
       "{'Negative': array([0.29736931, 0.21006099, 0.22729602, 0.2225961 , 0.25079287]),\n",
       " 'Positive': array([0.35389445, 0.19092597, 0.22382273, 0.24456788, 0.22958072]),\n",
       " 'Polar': array([0.15894534, 0.20406011, 0.1972663 , 0.09772299, 0.1090522 ]),\n",
       " 'Hydrophobic': array([0.1816259 , 0.06632579, 0.19620205, 0.23178616, 0.22002748]),\n",
       " 'Aromatic': array([0.008165  , 0.32862714, 0.1554129 , 0.20332686, 0.19054674]),\n",
       " 'total_frac': array([0.07186858, 0.14579055, 0.07392197, 0.1026694 , 0.10061602])}"
      ]
     },
     "execution_count": 40,
     "metadata": {},
     "output_type": "execute_result"
    }
   ],
   "source": [
    "fcnt_rg1_2nm"
   ]
  },
  {
   "cell_type": "code",
   "execution_count": 41,
   "metadata": {},
   "outputs": [
    {
     "data": {
      "text/plain": [
       "{'Negative': array([array([1.456     , 2.06205335]), array([4.857     , 2.54981391]),\n",
       "        array([6.923     , 3.07133049]), array([6.236     , 3.25780662]),\n",
       "        array([9.257     , 3.20685999])], dtype=object),\n",
       " 'Positive': array([array([1.834     , 2.02840923]), array([4.9885    , 3.00189403]),\n",
       "        array([8.334     , 3.09232016]), array([8.687     , 3.16165004]),\n",
       "        array([10.92      ,  2.63374258])], dtype=object),\n",
       " 'Polar': array([array([0.8245    , 1.64550896]), array([4.503     , 3.86768548]),\n",
       "        array([6.3695    , 3.24314196]), array([4.068     , 2.78089482]),\n",
       "        array([6.563     , 3.36214678])], dtype=object),\n",
       " 'Hydrophobic': array([array([0.671     , 1.12194429]), array([1.219    , 2.3375284]),\n",
       "        array([5.189     , 2.70929493]), array([7.437     , 3.89101928]),\n",
       "        array([13.6685    ,  3.95393573])], dtype=object),\n",
       " 'Aromatic': array([array([0.0025    , 0.04993746]), array([2.034     , 1.83080419]),\n",
       "        array([2.1045    , 2.09178865]), array([0.8795    , 1.19372516]),\n",
       "        array([2.7995    , 1.26858179])], dtype=object)}"
      ]
     },
     "execution_count": 41,
     "metadata": {},
     "output_type": "execute_result"
    }
   ],
   "source": [
    "prgrp_1_2nm"
   ]
  },
  {
   "cell_type": "code",
   "execution_count": 42,
   "metadata": {},
   "outputs": [
    {
     "data": {
      "text/plain": [
       "array([0.24162306, 0.24855835, 0.15340939, 0.17919348, 0.17721573])"
      ]
     },
     "execution_count": 42,
     "metadata": {},
     "output_type": "execute_result"
    }
   ],
   "source": [
    "fc_12nm_mean = np.array([np.mean(fcnt_rg1_2nm['Negative']), np.mean(fcnt_rg1_2nm['Positive'])\n",
    "                        ,np.mean(fcnt_rg1_2nm['Polar']),np.mean(fcnt_rg1_2nm['Hydrophobic'])\n",
    "                        , np.mean(fcnt_rg1_2nm['Aromatic'])])\n",
    "fc_12nm_mean"
   ]
  },
  {
   "cell_type": "code",
   "execution_count": 43,
   "metadata": {},
   "outputs": [
    {
     "data": {
      "text/plain": [
       "array([0.03083888, 0.05550695, 0.04379065, 0.05910623, 0.10279926])"
      ]
     },
     "execution_count": 43,
     "metadata": {},
     "output_type": "execute_result"
    }
   ],
   "source": [
    "fc_12nm_std = np.array([np.std(fcnt_rg1_2nm['Negative']), np.std(fcnt_rg1_2nm['Positive'])\n",
    "                       ,np.std(fcnt_rg1_2nm['Polar']),np.std(fcnt_rg1_2nm['Hydrophobic'])\n",
    "                       , np.std(fcnt_rg1_2nm['Aromatic'])])\n",
    "fc_12nm_std"
   ]
  },
  {
   "cell_type": "code",
   "execution_count": 120,
   "metadata": {},
   "outputs": [
    {
     "data": {
      "application/vnd.jupyter.widget-view+json": {
       "model_id": "",
       "version_major": 2,
       "version_minor": 0
      },
      "text/plain": [
       "Canvas(toolbar=Toolbar(toolitems=[('Home', 'Reset original view', 'home', 'home'), ('Back', 'Back to previous …"
      ]
     },
     "metadata": {},
     "output_type": "display_data"
    },
    {
     "data": {
      "text/plain": [
       "Text(0, 0.5, 'Fractional Contacts')"
      ]
     },
     "execution_count": 120,
     "metadata": {},
     "output_type": "execute_result"
    }
   ],
   "source": [
    "x_pos = np.arange(5)\n",
    "aa_types = [\"Negative\", \"Positive\", \"Polar\", \"Hydrophobic\", \"Aromatic\"]\n",
    "fig = plt.figure(figsize=(7,7))\n",
    "fig.canvas.layout.width = '500px'\n",
    "fig.canvas.layout.height = '400px'\n",
    "plt.bar(x_pos, fc_12nm_mean, yerr=fc_12nm_std, ecolor='black',capsize=5, color='c')\n",
    "plt.title(r'Fractional Contacts 1.2 nm Rg restrained', fontsize=15)\n",
    "plt.xticks(x_pos, labels=aa_types, fontsize=12)\n",
    "plt.ylabel(r'Fractional Contacts', fontsize=15)"
   ]
  },
  {
   "cell_type": "markdown",
   "metadata": {},
   "source": [
    "### Total fraction of contacts: averages and std dev calc from 5 20ns blocks"
   ]
  },
  {
   "cell_type": "code",
   "execution_count": 45,
   "metadata": {},
   "outputs": [
    {
     "data": {
      "text/plain": [
       "0.09897330595482545"
      ]
     },
     "execution_count": 45,
     "metadata": {},
     "output_type": "execute_result"
    }
   ],
   "source": [
    "# Average of total fraction of contacts\n",
    "np.mean(fcnt_rg1_2nm['total_frac'])"
   ]
  },
  {
   "cell_type": "code",
   "execution_count": 46,
   "metadata": {},
   "outputs": [
    {
     "data": {
      "text/plain": [
       "0.026722461576997848"
      ]
     },
     "execution_count": 46,
     "metadata": {},
     "output_type": "execute_result"
    }
   ],
   "source": [
    "# Std Deviation of total fraction of contacts\n",
    "np.std(fcnt_rg1_2nm['total_frac'])"
   ]
  },
  {
   "cell_type": "markdown",
   "metadata": {},
   "source": [
    "### Avg no. PLGA residues per BSA AA residue group "
   ]
  },
  {
   "cell_type": "code",
   "execution_count": null,
   "metadata": {},
   "outputs": [],
   "source": [
    "prgrp_1_2nm"
   ]
  },
  {
   "cell_type": "code",
   "execution_count": null,
   "metadata": {},
   "outputs": [],
   "source": [
    "mean_12nm = np.zeros(shape=5)\n",
    "std_12nm = np.zeros(shape=5)\n",
    "count = 0\n",
    "for key, value in prgrp_1_2nm.items():\n",
    "    mpl_12nm = []\n",
    "    var_12nm = []\n",
    "    for i in prgrp_1_2nm[str(key)].flat:\n",
    "        mpl_12nm.append(i[0])\n",
    "        var_12nm.append((i[1])**2)\n",
    "    \n",
    "    # calc frac cont averages\n",
    "    mean_12nm[count] = np.mean(mpl_12nm)\n",
    "    \n",
    "    # calc frac cont std dev: https://stats.stackexchange.com/questions/25848/how-to-sum-a-standard-deviation \n",
    "    std_12nm[count] = np.std(mpl_12nm)\n",
    "    # std_12nm[count] = np.sqrt(np.sum(var_12nm)/5)\n",
    "    \n",
    "    count += 1\n"
   ]
  },
  {
   "cell_type": "code",
   "execution_count": null,
   "metadata": {},
   "outputs": [],
   "source": [
    "mean_12nm"
   ]
  },
  {
   "cell_type": "code",
   "execution_count": null,
   "metadata": {},
   "outputs": [],
   "source": [
    "std_12nm "
   ]
  },
  {
   "cell_type": "code",
   "execution_count": null,
   "metadata": {},
   "outputs": [],
   "source": [
    "x_pos = np.arange(5)\n",
    "aa_types = [\"Negative\", \"Positive\", \"Polar\", \"Hydrophobic\", \"Aromatic\"]\n",
    "plt.figure(figsize=(7,7))\n",
    "plt.bar(x_pos, mean_12nm, yerr=std_12nm, ecolor='black',capsize=5)\n",
    "plt.title(r'No. of PLGA residues 1.2 nm Rg restrained', fontsize=15)\n",
    "plt.xticks(x_pos, labels=aa_types, fontsize=12)\n",
    "plt.ylabel(r'No. of PLGA residues', fontsize=15)"
   ]
  },
  {
   "cell_type": "markdown",
   "metadata": {},
   "source": [
    "### Protein/polymer contact map movie"
   ]
  },
  {
   "cell_type": "code",
   "execution_count": null,
   "metadata": {},
   "outputs": [],
   "source": [
    "fig = plt.figure(figsize=(10,10))\n",
    "\n",
    "# Set the axis and the plot titles pp\n",
    "\n",
    "plt.title(\"BSA/PLGA contact map 1.2 nm res\", fontsize=22, loc='left')\n",
    "plt.xlabel(\"PLGA Residue No.\", fontsize=22)\n",
    "plt.ylabel(\"BSA Residue No.\", fontsize=20)\n",
    "\n",
    " # Set the axis range \n",
    "plt.ylim(583, 0)\n",
    "plt.xlim(0, 60)\n",
    "\n",
    "# Plot bands for each chain \n",
    "BANDS = (\n",
    "    (0, 20, \"purple\", \"B\"),\n",
    "    (20, 40, \"blue\", \"C\"),\n",
    "    (40, 60, \"green\", \"D\"),\n",
    ")\n",
    "    \n",
    "text_y = 0.98 # Close to the top\n",
    "for start, stop, color, band in BANDS:\n",
    "    plt.axvspan(start, stop,color=color, alpha=0.15)\n",
    "    text_x = middle_of_band(start,stop)\n",
    "    plt.text(\n",
    "        text_x,\n",
    "        text_y,\n",
    "        \"PLGA chain \" + band,\n",
    "        color=color,\n",
    "        fontsize=18,\n",
    "        transform=fig.gca().transAxes,\n",
    "        horizontalalignment='center',\n",
    "        verticalalignment='center',\n",
    "        style='italic',\n",
    "    )\n",
    "    \n",
    "plt.text(0.93, 1, \"Time [ns]:\", fontsize=20, transform=fig.gca().transAxes, horizontalalignment='right', verticalalignment='bottom')\n",
    "\n",
    "# Set tick label size\n",
    "fig.gca().tick_params(axis='both', which='major', labelsize=20)\n",
    "\n",
    "ims = []\n",
    "for i in range(10000):\n",
    "    data = trj_ppmap_12nm[i]\n",
    "    im = plt.imshow(data, aspect='auto', cmap='Greys')\n",
    "    t_sim = plt.text(1, 1, str(i/100), fontsize=20, transform=fig.gca().transAxes, horizontalalignment='right', verticalalignment='bottom')\n",
    "    ims.append([im, t_sim])\n",
    "    \n",
    "ani = animation.ArtistAnimation(fig, ims, blit=True, repeat=False)\n",
    "ani.save('1.2nm_res.mp4',writer='ffmpeg', fps=50, bitrate=100000)\n",
    "#plt.tight_layout()\n",
    "#plt.show()"
   ]
  },
  {
   "cell_type": "code",
   "execution_count": null,
   "metadata": {},
   "outputs": [],
   "source": [
    "def com_plga_oligs(g2_atoms, n_mon):\n",
    "    hj_1 = []\n",
    "    hj_2 = []\n",
    "    hj_3 = []\n",
    "    for i in range(n_mon):\n",
    "        if i == 0:\n",
    "            absdif = np.abs(np.diff(np.equal(list(g2_atoms.resids),i+1).view(np.int8)))\n",
    "            rep_pga = np.concatenate(([0], np.where(absdif == 1)[0]))\n",
    "            rep_pga += 1\n",
    "            #print(rep_pga)\n",
    "            rpn20 = rep_pga.reshape(3,2)\n",
    "            hj_1.append(g2_atoms[rpn20[0][0]:rpn20[0][1]].center_of_mass())\n",
    "            hj_2.append(g2_atoms[rpn20[1][0]:rpn20[1][1]].center_of_mass())\n",
    "            hj_3.append(g2_atoms[rpn20[2][0]:rpn20[2][1]].center_of_mass())\n",
    "        elif i != 0 and i != 19:\n",
    "            absdif = np.abs(np.diff(np.equal(list(g2_atoms.resids),i+1).view(np.int8)))\n",
    "            rep_pga = np.where(absdif == 1)[0]+1\n",
    "            #print(rep_pga)\n",
    "            rpn20 = rep_pga.reshape(3,2)\n",
    "            hj_1.append(g2_atoms[rpn20[0][0]:rpn20[0][1]].center_of_mass())\n",
    "            hj_2.append(g2_atoms[rpn20[1][0]:rpn20[1][1]].center_of_mass())\n",
    "            hj_3.append(g2_atoms[rpn20[2][0]:rpn20[2][1]].center_of_mass())\n",
    "        elif i == 19: \n",
    "            absdif = np.abs(np.diff(np.equal(list(g2_atoms.resids),i+1).view(np.int8)))\n",
    "            rep_pga = np.where(absdif == 1)[0]+1\n",
    "            rep_pga = np.concatenate((rep_pga,[len(g2_atoms)]))\n",
    "            #print(rep_pga)\n",
    "            rpn20 = rep_pga.reshape(3,2)\n",
    "            hj_1.append(g2_atoms[rpn20[0][0]:rpn20[0][1]].center_of_mass())\n",
    "            hj_2.append(g2_atoms[rpn20[1][0]:rpn20[1][1]].center_of_mass())\n",
    "            hj_3.append(g2_atoms[rpn20[2][0]:rpn20[2][1]].center_of_mass())\n",
    "    oligs_cb = np.concatenate((np.array(hj_1), np.array(hj_2), np.array(hj_3)))\n",
    "    \n",
    "    return oligs_cb"
   ]
  },
  {
   "cell_type": "code",
   "execution_count": null,
   "metadata": {},
   "outputs": [],
   "source": [
    "cm_12nmoligs = com_plga_oligs(all_pn20, 20)\n",
    "#cm_12nmoligs"
   ]
  },
  {
   "cell_type": "code",
   "execution_count": null,
   "metadata": {},
   "outputs": [],
   "source": [
    "len(cm_12nmoligs)"
   ]
  },
  {
   "cell_type": "markdown",
   "metadata": {},
   "source": [
    "# 1.5 nm PLGA restrained Rg 100 ns trajectory"
   ]
  },
  {
   "cell_type": "markdown",
   "metadata": {},
   "source": [
    "Load the rg = 1.5 nm (3 PLGA N = 20 oligomer/BSA system) "
   ]
  },
  {
   "cell_type": "code",
   "execution_count": 47,
   "metadata": {},
   "outputs": [],
   "source": [
    "# Set up the MD Simulation\n",
    "u15nm_pn20 = mda.Universe(\"../1.5nm_bsa_prod/k4000_1.5nm/res_1.5nmconf.pdb\"\n",
    "                      , \"../1.5nm_bsa_prod/k4000_1.5nm/1_5nmppnopbc.xtc\")"
   ]
  },
  {
   "cell_type": "code",
   "execution_count": 48,
   "metadata": {},
   "outputs": [
    {
     "data": {
      "text/plain": [
       "<Universe with 10148 atoms>"
      ]
     },
     "execution_count": 48,
     "metadata": {},
     "output_type": "execute_result"
    }
   ],
   "source": [
    "u15nm_pn20"
   ]
  },
  {
   "cell_type": "code",
   "execution_count": 49,
   "metadata": {},
   "outputs": [
    {
     "data": {
      "text/plain": [
       "10001"
      ]
     },
     "execution_count": 49,
     "metadata": {},
     "output_type": "execute_result"
    }
   ],
   "source": [
    "pn20_len15 = len(u15nm_pn20.trajectory)\n",
    "pn20_len15"
   ]
  },
  {
   "cell_type": "code",
   "execution_count": 50,
   "metadata": {},
   "outputs": [
    {
     "data": {
      "text/plain": [
       "<AtomGroup with 543 atoms>"
      ]
     },
     "execution_count": 50,
     "metadata": {},
     "output_type": "execute_result"
    }
   ],
   "source": [
    "#Select all the PLGA residues, heavy atoms only \n",
    "all15_pn20 = u15nm_pn20.select_atoms(\"resname sPLG PLG tPLG and not type H\")\n",
    "all15_pn20"
   ]
  },
  {
   "cell_type": "code",
   "execution_count": 51,
   "metadata": {},
   "outputs": [
    {
     "data": {
      "text/plain": [
       "<AtomGroup with 4653 atoms>"
      ]
     },
     "execution_count": 51,
     "metadata": {},
     "output_type": "execute_result"
    }
   ],
   "source": [
    "# Select BSA residues, heavy atoms only \n",
    "prot_15nm = u15nm_pn20.select_atoms(\"protein and not type H\")\n",
    "prot_15nm"
   ]
  },
  {
   "cell_type": "markdown",
   "metadata": {},
   "source": [
    "### Contact Analysis"
   ]
  },
  {
   "cell_type": "code",
   "execution_count": 52,
   "metadata": {},
   "outputs": [
    {
     "data": {
      "text/plain": [
       "{'<Residue ASP, 1>': [82.0, 0.0082],\n",
       " '<Residue THR, 2>': [557.0, 0.0557],\n",
       " '<Residue HIS, 3>': [517.0, 0.0517],\n",
       " '<Residue LYS, 4>': [650.0, 0.065],\n",
       " '<Residue GLU, 6>': [38.0, 0.0038],\n",
       " '<Residue ARG, 10>': [33.0, 0.0033],\n",
       " '<Residue PHE, 11>': [1.0, 0.0001],\n",
       " '<Residue LYS, 12>': [26.0, 0.0026],\n",
       " '<Residue GLU, 16>': [1.0, 0.0001],\n",
       " '<Residue ASP, 37>': [1.0, 0.0001],\n",
       " '<Residue VAL, 40>': [1.0, 0.0001],\n",
       " '<Residue LYS, 41>': [10.0, 0.001],\n",
       " '<Residue ASN, 44>': [8.0, 0.0008],\n",
       " '<Residue GLU, 45>': [93.0, 0.0093],\n",
       " '<Residue GLU, 48>': [2.0, 0.0002],\n",
       " '<Residue PHE, 49>': [101.0, 0.0101],\n",
       " '<Residue LYS, 51>': [3.0, 0.0003],\n",
       " '<Residue ALA, 55>': [4.0, 0.0004],\n",
       " '<Residue ASP, 56>': [15.0, 0.0015],\n",
       " '<Residue GLU, 57>': [410.0, 0.041],\n",
       " '<Residue SER, 58>': [405.0, 0.0405],\n",
       " '<Residue HIS, 59>': [200.0, 0.02],\n",
       " '<Residue ALA, 60>': [1052.0, 0.1052],\n",
       " '<Residue GLY, 61>': [878.0, 0.0878],\n",
       " '<Residue GLU, 63>': [896.0, 0.0896],\n",
       " '<Residue LYS, 64>': [2046.0, 0.2046],\n",
       " '<Residue SER, 65>': [151.0, 0.0151],\n",
       " '<Residue THR, 68>': [49.0, 0.0049],\n",
       " '<Residue LEU, 69>': [3.0, 0.0003],\n",
       " '<Residue GLY, 71>': [67.0, 0.0067],\n",
       " '<Residue ASP, 72>': [6970.0, 0.697],\n",
       " '<Residue GLU, 73>': [35.0, 0.0035],\n",
       " '<Residue LEU, 74>': [8.0, 0.0008],\n",
       " '<Residue CYS, 75>': [9001.0, 0.9001],\n",
       " '<Residue LYS, 76>': [8166.0, 0.8166],\n",
       " '<Residue VAL, 77>': [6050.0, 0.605],\n",
       " '<Residue ALA, 78>': [7794.0, 0.7794],\n",
       " '<Residue SER, 79>': [4691.0, 0.4691],\n",
       " '<Residue LEU, 80>': [6593.0, 0.6593],\n",
       " '<Residue ARG, 81>': [6998.0, 0.6998],\n",
       " '<Residue GLU, 82>': [2895.0, 0.2895],\n",
       " '<Residue ALA, 88>': [6653.0, 0.6653],\n",
       " '<Residue ASP, 89>': [43.0, 0.0043],\n",
       " '<Residue CYS, 91>': [8789.0, 0.8789],\n",
       " '<Residue GLU, 92>': [8020.0, 0.802],\n",
       " '<Residue LYS, 93>': [4782.0, 0.4782],\n",
       " '<Residue GLN, 94>': [6427.0, 0.6427],\n",
       " '<Residue GLU, 95>': [1980.0, 0.198],\n",
       " '<Residue PRO, 96>': [1377.0, 0.1377],\n",
       " '<Residue GLU, 97>': [1929.0, 0.1929],\n",
       " '<Residue ARG, 98>': [3325.0, 0.3325],\n",
       " '<Residue PRO, 113>': [1.0, 0.0001],\n",
       " '<Residue LYS, 114>': [3441.0, 0.3441],\n",
       " '<Residue LEU, 115>': [1647.0, 0.1647],\n",
       " '<Residue LYS, 116>': [373.0, 0.0373],\n",
       " '<Residue PRO, 117>': [125.0, 0.0125],\n",
       " '<Residue ASP, 118>': [775.0, 0.0775],\n",
       " '<Residue PRO, 119>': [382.0, 0.0382],\n",
       " '<Residue ASN, 120>': [175.0, 0.0175],\n",
       " '<Residue THR, 121>': [1.0, 0.0001],\n",
       " '<Residue ASP, 124>': [1.0, 0.0001],\n",
       " '<Residue LYS, 127>': [11.0, 0.0011],\n",
       " '<Residue ALA, 128>': [13.0, 0.0013],\n",
       " '<Residue ASP, 129>': [1.0, 0.0001],\n",
       " '<Residue LYS, 132>': [6.0, 0.0006],\n",
       " '<Residue ARG, 144>': [2.0, 0.0002],\n",
       " '<Residue GLN, 165>': [6.0, 0.0006],\n",
       " '<Residue GLU, 166>': [380.0, 0.038],\n",
       " '<Residue CYS, 167>': [11.0, 0.0011],\n",
       " '<Residue GLN, 169>': [172.0, 0.0172],\n",
       " '<Residue ALA, 170>': [624.0, 0.0624],\n",
       " '<Residue GLU, 171>': [1614.0, 0.1614],\n",
       " '<Residue ASP, 172>': [1563.0, 0.1563],\n",
       " '<Residue LYS, 173>': [51.0, 0.0051],\n",
       " '<Residue GLY, 174>': [361.0, 0.0361],\n",
       " '<Residue ALA, 175>': [2080.0, 0.208],\n",
       " '<Residue CYS, 176>': [1130.0, 0.113],\n",
       " '<Residue LEU, 178>': [4092.0, 0.4092],\n",
       " '<Residue PRO, 179>': [5104.0, 0.5104],\n",
       " '<Residue LYS, 180>': [243.0, 0.0243],\n",
       " '<Residue GLU, 182>': [5728.0, 0.5728],\n",
       " '<Residue THR, 183>': [5430.0, 0.543],\n",
       " '<Residue ARG, 185>': [3452.0, 0.3452],\n",
       " '<Residue GLU, 186>': [3816.0, 0.3816],\n",
       " '<Residue LYS, 187>': [203.0, 0.0203],\n",
       " '<Residue LEU, 189>': [1281.0, 0.1281],\n",
       " '<Residue THR, 190>': [2.0, 0.0002],\n",
       " '<Residue GLU, 207>': [1.0, 0.0001],\n",
       " '<Residue THR, 235>': [2.0, 0.0002],\n",
       " '<Residue LYS, 239>': [131.0, 0.0131],\n",
       " '<Residue LYS, 242>': [2.0, 0.0002],\n",
       " '<Residue GLU, 243>': [25.0, 0.0025],\n",
       " '<Residue GLU, 251>': [132.0, 0.0132],\n",
       " '<Residue ASP, 255>': [19.0, 0.0019],\n",
       " '<Residue ASP, 258>': [1.0, 0.0001],\n",
       " '<Residue LYS, 273>': [1.0, 0.0001],\n",
       " '<Residue LYS, 275>': [1.0, 0.0001],\n",
       " '<Residue PRO, 298>': [1.0, 0.0001],\n",
       " '<Residue GLU, 299>': [1.0, 0.0001],\n",
       " '<Residue ASN, 300>': [8.0, 0.0008],\n",
       " '<Residue LYS, 377>': [1.0, 0.0001],\n",
       " '<Residue ASP, 381>': [1.0, 0.0001],\n",
       " '<Residue ASN, 385>': [10.0, 0.001],\n",
       " '<Residue LYS, 388>': [4.0, 0.0004],\n",
       " '<Residue GLN, 389>': [23.0, 0.0023],\n",
       " '<Residue CYS, 391>': [169.0, 0.0169],\n",
       " '<Residue ASP, 392>': [292.0, 0.0292],\n",
       " '<Residue GLN, 393>': [1457.0, 0.1457],\n",
       " '<Residue PHE, 394>': [7351.0, 0.7351],\n",
       " '<Residue GLU, 395>': [8225.0, 0.8225],\n",
       " '<Residue LYS, 396>': [8569.0, 0.8569],\n",
       " '<Residue LEU, 397>': [7897.0, 0.7897],\n",
       " '<Residue GLY, 398>': [7253.0, 0.7253],\n",
       " '<Residue GLU, 399>': [2635.0, 0.2635],\n",
       " '<Residue TYR, 400>': [1398.0, 0.1398],\n",
       " '<Residue GLY, 401>': [103.0, 0.0103],\n",
       " '<Residue GLN, 403>': [142.0, 0.0142],\n",
       " '<Residue ASN, 404>': [1.0, 0.0001],\n",
       " '<Residue ALA, 405>': [122.0, 0.0122],\n",
       " '<Residue ARG, 409>': [377.0, 0.0377],\n",
       " '<Residue ARG, 412>': [2.0, 0.0002],\n",
       " '<Residue GLU, 424>': [311.0, 0.0311],\n",
       " '<Residue ARG, 427>': [3583.0, 0.3583],\n",
       " '<Residue SER, 428>': [1.0, 0.0001],\n",
       " '<Residue LYS, 431>': [831.0, 0.0831],\n",
       " '<Residue GLY, 433>': [47.0, 0.0047],\n",
       " '<Residue THR, 434>': [6662.0, 0.6662],\n",
       " '<Residue ARG, 435>': [2595.0, 0.2595],\n",
       " '<Residue CYS, 437>': [2917.0, 0.2917],\n",
       " '<Residue THR, 438>': [7221.0, 0.7221],\n",
       " '<Residue LYS, 439>': [1267.0, 0.1267],\n",
       " '<Residue PRO, 440>': [387.0, 0.0387],\n",
       " '<Residue GLU, 441>': [28.0, 0.0028],\n",
       " '<Residue SER, 442>': [6.0, 0.0006],\n",
       " '<Residue GLU, 443>': [2.0, 0.0002],\n",
       " '<Residue ARG, 444>': [2015.0, 0.2015],\n",
       " '<Residue TYR, 451>': [72.0, 0.0072],\n",
       " '<Residue HIS, 509>': [88.0, 0.0088],\n",
       " '<Residue ALA, 510>': [424.0, 0.0424],\n",
       " '<Residue ASP, 511>': [368.0, 0.0368],\n",
       " '<Residue CYS, 513>': [2286.0, 0.2286],\n",
       " '<Residue THR, 514>': [3727.0, 0.3727],\n",
       " '<Residue LEU, 515>': [3195.0, 0.3195],\n",
       " '<Residue PRO, 516>': [4760.0, 0.476],\n",
       " '<Residue ASP, 517>': [3815.0, 0.3815],\n",
       " '<Residue THR, 518>': [5927.0, 0.5927],\n",
       " '<Residue GLU, 519>': [5771.0, 0.5771],\n",
       " '<Residue LYS, 520>': [208.0, 0.0208],\n",
       " '<Residue GLN, 521>': [1985.0, 0.1985],\n",
       " '<Residue ILE, 522>': [4015.0, 0.4015],\n",
       " '<Residue LYS, 537>': [1.0, 0.0001],\n",
       " '<Residue THR, 539>': [740.0, 0.074],\n",
       " '<Residue GLU, 540>': [1699.0, 0.1699],\n",
       " '<Residue GLU, 541>': [8032.0, 0.8032],\n",
       " '<Residue GLN, 542>': [2248.0, 0.2248],\n",
       " '<Residue LYS, 544>': [8043.0, 0.8043],\n",
       " '<Residue THR, 545>': [7479.0, 0.7479],\n",
       " '<Residue VAL, 546>': [37.0, 0.0037],\n",
       " '<Residue MET, 547>': [57.0, 0.0057],\n",
       " '<Residue GLU, 548>': [7400.0, 0.74],\n",
       " '<Residue ASN, 549>': [1476.0, 0.1476],\n",
       " '<Residue VAL, 551>': [98.0, 0.0098],\n",
       " '<Residue ALA, 552>': [391.0, 0.0391],\n",
       " '<Residue ASP, 555>': [9.0, 0.0009],\n",
       " '<Residue LYS, 556>': [3.0, 0.0003],\n",
       " '<Residue CYS, 558>': [392.0, 0.0392],\n",
       " '<Residue ALA, 559>': [282.0, 0.0282],\n",
       " '<Residue ALA, 560>': [288.0, 0.0288],\n",
       " '<Residue ASP, 561>': [474.0, 0.0474],\n",
       " '<Residue ASP, 562>': [143.0, 0.0143],\n",
       " '<Residue LYS, 563>': [1165.0, 0.1165],\n",
       " '<Residue GLU, 564>': [425.0, 0.0425],\n",
       " '<Residue GLU, 570>': [12.0, 0.0012],\n",
       " '<Residue LYS, 573>': [132.0, 0.0132],\n",
       " '<Residue LEU, 574>': [60.0, 0.006],\n",
       " '<Residue VAL, 576>': [30.0, 0.003],\n",
       " '<Residue SER, 577>': [1029.0, 0.1029],\n",
       " '<Residue THR, 578>': [11.0, 0.0011],\n",
       " '<Residue GLN, 579>': [448.0, 0.0448],\n",
       " '<Residue THR, 580>': [2811.0, 0.2811],\n",
       " '<Residue ALA, 581>': [3052.0, 0.3052],\n",
       " '<Residue LEU, 582>': [964.0, 0.0964],\n",
       " '<Residue ALA, 583>': [1601.0, 0.1601]}"
      ]
     },
     "execution_count": 52,
     "metadata": {},
     "output_type": "execute_result"
    }
   ],
   "source": [
    "#dmax = 4.0, protein group(4653 atoms), plga atom group (543 atoms), took 381.6 s (6 min 36s on 4 cores)\n",
    "start = 0\n",
    "end = pn20_len15 - 1\n",
    "s_time = timeit.default_timer()\n",
    "h2di_15nm = aa_frmcount(prot_15nm, all15_pn20, dmax, u15nm_pn20, start, end)\n",
    "timeit.default_timer() - s_time\n",
    "h2di_15nm"
   ]
  },
  {
   "cell_type": "code",
   "execution_count": 53,
   "metadata": {},
   "outputs": [
    {
     "data": {
      "text/plain": [
       "183"
      ]
     },
     "execution_count": 53,
     "metadata": {},
     "output_type": "execute_result"
    }
   ],
   "source": [
    "len(h2di_15nm.keys())"
   ]
  },
  {
   "cell_type": "code",
   "execution_count": 54,
   "metadata": {},
   "outputs": [
    {
     "data": {
      "text/html": [
       "<div>\n",
       "<style scoped>\n",
       "    .dataframe tbody tr th:only-of-type {\n",
       "        vertical-align: middle;\n",
       "    }\n",
       "\n",
       "    .dataframe tbody tr th {\n",
       "        vertical-align: top;\n",
       "    }\n",
       "\n",
       "    .dataframe thead th {\n",
       "        text-align: right;\n",
       "    }\n",
       "</style>\n",
       "<table border=\"1\" class=\"dataframe\">\n",
       "  <thead>\n",
       "    <tr style=\"text-align: right;\">\n",
       "      <th></th>\n",
       "      <th>BSA_des_res</th>\n",
       "      <th>mda_plga_frm_1.5nm</th>\n",
       "    </tr>\n",
       "  </thead>\n",
       "  <tbody>\n",
       "    <tr>\n",
       "      <td>0</td>\n",
       "      <td>ASP 1</td>\n",
       "      <td>82.0</td>\n",
       "    </tr>\n",
       "    <tr>\n",
       "      <td>1</td>\n",
       "      <td>THR 2</td>\n",
       "      <td>557.0</td>\n",
       "    </tr>\n",
       "    <tr>\n",
       "      <td>2</td>\n",
       "      <td>HIS 3</td>\n",
       "      <td>517.0</td>\n",
       "    </tr>\n",
       "    <tr>\n",
       "      <td>3</td>\n",
       "      <td>LYS 4</td>\n",
       "      <td>650.0</td>\n",
       "    </tr>\n",
       "    <tr>\n",
       "      <td>4</td>\n",
       "      <td>SER 5</td>\n",
       "      <td>0.0</td>\n",
       "    </tr>\n",
       "  </tbody>\n",
       "</table>\n",
       "</div>"
      ],
      "text/plain": [
       "  BSA_des_res  mda_plga_frm_1.5nm\n",
       "0       ASP 1                82.0\n",
       "1       THR 2               557.0\n",
       "2       HIS 3               517.0\n",
       "3       LYS 4               650.0\n",
       "4       SER 5                 0.0"
      ]
     },
     "execution_count": 54,
     "metadata": {},
     "output_type": "execute_result"
    }
   ],
   "source": [
    "pr_res15nm = list(prot_15nm.residues)\n",
    "ss_res15nm = [str(row) for row in pr_res15nm]\n",
    "rkg_15nm = {key:h2di_15nm[key][0] for key, value in h2di_15nm.items()}\n",
    "plg_1_5nmaa = pd.DataFrame(data=ss_res15nm, columns=[\"BSA_des_res\"])\n",
    "plg_1_5nmaa['mda_plga_frm_1.5nm'] = plg_1_5nmaa['BSA_des_res'].map(rkg_15nm)\n",
    "plg_1_5nmaa['BSA_des_res'] = red_bsa\n",
    "plg_1_5nmaa['mda_plga_frm_1.5nm'] = plg_1_5nmaa['mda_plga_frm_1.5nm'].replace('nan', np.nan).fillna(0)\n",
    "plg_1_5nmaa.head()"
   ]
  },
  {
   "cell_type": "code",
   "execution_count": 56,
   "metadata": {},
   "outputs": [
    {
     "data": {
      "text/html": [
       "<div>\n",
       "<style scoped>\n",
       "    .dataframe tbody tr th:only-of-type {\n",
       "        vertical-align: middle;\n",
       "    }\n",
       "\n",
       "    .dataframe tbody tr th {\n",
       "        vertical-align: top;\n",
       "    }\n",
       "\n",
       "    .dataframe thead th {\n",
       "        text-align: right;\n",
       "    }\n",
       "</style>\n",
       "<table border=\"1\" class=\"dataframe\">\n",
       "  <thead>\n",
       "    <tr style=\"text-align: right;\">\n",
       "      <th></th>\n",
       "      <th>BSA_des_res</th>\n",
       "      <th>mda_occ_1.2nm</th>\n",
       "      <th>mda_occ_1.5nm</th>\n",
       "    </tr>\n",
       "  </thead>\n",
       "  <tbody>\n",
       "    <tr>\n",
       "      <td>0</td>\n",
       "      <td>&lt;Residue ASP, 1&gt;</td>\n",
       "      <td>0.00</td>\n",
       "      <td>0.01</td>\n",
       "    </tr>\n",
       "    <tr>\n",
       "      <td>1</td>\n",
       "      <td>&lt;Residue THR, 2&gt;</td>\n",
       "      <td>0.00</td>\n",
       "      <td>0.06</td>\n",
       "    </tr>\n",
       "    <tr>\n",
       "      <td>2</td>\n",
       "      <td>&lt;Residue HIS, 3&gt;</td>\n",
       "      <td>0.00</td>\n",
       "      <td>0.05</td>\n",
       "    </tr>\n",
       "    <tr>\n",
       "      <td>3</td>\n",
       "      <td>&lt;Residue LYS, 4&gt;</td>\n",
       "      <td>0.00</td>\n",
       "      <td>0.06</td>\n",
       "    </tr>\n",
       "    <tr>\n",
       "      <td>4</td>\n",
       "      <td>&lt;Residue SER, 5&gt;</td>\n",
       "      <td>0.00</td>\n",
       "      <td>0.00</td>\n",
       "    </tr>\n",
       "    <tr>\n",
       "      <td>...</td>\n",
       "      <td>...</td>\n",
       "      <td>...</td>\n",
       "      <td>...</td>\n",
       "    </tr>\n",
       "    <tr>\n",
       "      <td>578</td>\n",
       "      <td>&lt;Residue GLN, 579&gt;</td>\n",
       "      <td>0.00</td>\n",
       "      <td>0.04</td>\n",
       "    </tr>\n",
       "    <tr>\n",
       "      <td>579</td>\n",
       "      <td>&lt;Residue THR, 580&gt;</td>\n",
       "      <td>0.00</td>\n",
       "      <td>0.28</td>\n",
       "    </tr>\n",
       "    <tr>\n",
       "      <td>580</td>\n",
       "      <td>&lt;Residue ALA, 581&gt;</td>\n",
       "      <td>0.01</td>\n",
       "      <td>0.31</td>\n",
       "    </tr>\n",
       "    <tr>\n",
       "      <td>581</td>\n",
       "      <td>&lt;Residue LEU, 582&gt;</td>\n",
       "      <td>0.00</td>\n",
       "      <td>0.10</td>\n",
       "    </tr>\n",
       "    <tr>\n",
       "      <td>582</td>\n",
       "      <td>&lt;Residue ALA, 583&gt;</td>\n",
       "      <td>0.00</td>\n",
       "      <td>0.16</td>\n",
       "    </tr>\n",
       "  </tbody>\n",
       "</table>\n",
       "<p>583 rows × 3 columns</p>\n",
       "</div>"
      ],
      "text/plain": [
       "            BSA_des_res  mda_occ_1.2nm  mda_occ_1.5nm\n",
       "0      <Residue ASP, 1>           0.00           0.01\n",
       "1      <Residue THR, 2>           0.00           0.06\n",
       "2      <Residue HIS, 3>           0.00           0.05\n",
       "3      <Residue LYS, 4>           0.00           0.06\n",
       "4      <Residue SER, 5>           0.00           0.00\n",
       "..                  ...            ...            ...\n",
       "578  <Residue GLN, 579>           0.00           0.04\n",
       "579  <Residue THR, 580>           0.00           0.28\n",
       "580  <Residue ALA, 581>           0.01           0.31\n",
       "581  <Residue LEU, 582>           0.00           0.10\n",
       "582  <Residue ALA, 583>           0.00           0.16\n",
       "\n",
       "[583 rows x 3 columns]"
      ]
     },
     "execution_count": 56,
     "metadata": {},
     "output_type": "execute_result"
    }
   ],
   "source": [
    "# Extract mean occupancy values\n",
    "pr_res_15nm = list(prot_15nm.residues)\n",
    "ss_res_15nm = [str(row) for row in pr_res_15nm]\n",
    "rkg_15nm = {key:h2di_15nm[key][1] for key, value in h2di_15nm.items()}\n",
    "plg_1_2nm_occ['mda_occ_1.5nm'] = plg_1_2nm_occ['BSA_des_res'].map(rkg_15nm)\n",
    "plg_1_2nm_occ['mda_occ_1.5nm'] = plg_1_2nm_occ['mda_occ_1.5nm'].replace('nan', np.nan).fillna(0)\n",
    "plg_1_2nm_occ['mda_occ_1.5nm'] = plg_1_2nm_occ['mda_occ_1.5nm'].round(2)\n",
    "plg_1_2nm_occ"
   ]
  },
  {
   "cell_type": "code",
   "execution_count": 57,
   "metadata": {},
   "outputs": [],
   "source": [
    "bsa_r = np.array(list(prot_15nm.resids)) # shape is 4652\n",
    "m_occ_15nm = np.array(list(plg_1_2nm_occ['mda_occ_1.5nm'])) # shape is 583\n",
    "m_occ_15New = np.zeros(shape=(4653))\n",
    "at_ind = np.where(bsa_r[:-1] != bsa_r[1:])[0]\n",
    "at_in_nw = np.sort(np.append([0,4653],at_ind))\n",
    "nw_v = 0\n",
    "for i in range(583):\n",
    "    b = at_in_nw[i+1] +1\n",
    "    m_occ_15New[nw_v:b] = m_occ_15nm[i]\n",
    "    nw_v = at_in_nw[i+1] + 1 "
   ]
  },
  {
   "cell_type": "code",
   "execution_count": 58,
   "metadata": {},
   "outputs": [
    {
     "data": {
      "text/plain": [
       "array([0.01, 0.01, 0.01, 0.01, 0.01, 0.01, 0.01, 0.01, 0.06, 0.06, 0.06,\n",
       "       0.06, 0.06, 0.06, 0.06, 0.05, 0.05, 0.05, 0.05, 0.05, 0.05, 0.05,\n",
       "       0.05, 0.05, 0.05, 0.06, 0.06, 0.06, 0.06, 0.06, 0.06, 0.06, 0.06])"
      ]
     },
     "execution_count": 58,
     "metadata": {},
     "output_type": "execute_result"
    }
   ],
   "source": [
    "m_occ_15New[0:33]"
   ]
  },
  {
   "cell_type": "code",
   "execution_count": null,
   "metadata": {},
   "outputs": [],
   "source": [
    "prot_15nm.occupancies[3089:3099]"
   ]
  },
  {
   "cell_type": "code",
   "execution_count": null,
   "metadata": {},
   "outputs": [],
   "source": [
    "list(prot_15nm.atoms[3089:3099])"
   ]
  },
  {
   "cell_type": "code",
   "execution_count": null,
   "metadata": {},
   "outputs": [],
   "source": [
    "#np.nonzero(m_occ)"
   ]
  },
  {
   "cell_type": "markdown",
   "metadata": {},
   "source": [
    "### Visualize Occupanct on protein "
   ]
  },
  {
   "cell_type": "code",
   "execution_count": null,
   "metadata": {},
   "outputs": [],
   "source": [
    "prot_15nm.occupancies = m_occ_15New\n",
    "prot_15nm.occupancies[0:33]"
   ]
  },
  {
   "cell_type": "code",
   "execution_count": null,
   "metadata": {},
   "outputs": [],
   "source": [
    "with mda.Writer(\"prot_15nmresNEEW.pdb\") as pdb:\n",
    "    pdb.write(prot_15nm)"
   ]
  },
  {
   "cell_type": "markdown",
   "metadata": {},
   "source": [
    "### Residue Importance: 1.5 nm restrained "
   ]
  },
  {
   "cell_type": "code",
   "execution_count": null,
   "metadata": {},
   "outputs": [],
   "source": [
    "# Need to fix function, the residue number are not counting the other 2 PLGA oligomers cuz of same resid number\n",
    "trj_ppmap_15nm = prot_poly_cntmovie(prot_15nm, all15_pn20, dmax, u15nm_pn20, 0, 10000)\n",
    "#trj_ppmap_12nm_chC = prot_poly_cntmovie(prot, all_pn20_C, dmax, u_pn20, 0, 10000)"
   ]
  },
  {
   "cell_type": "code",
   "execution_count": 59,
   "metadata": {},
   "outputs": [],
   "source": [
    "trj_ppmap_15nm = np.load(\"1.5nm_res.npy\", allow_pickle=True)"
   ]
  },
  {
   "cell_type": "code",
   "execution_count": null,
   "metadata": {},
   "outputs": [],
   "source": [
    "np.save('1.5nm_res.npy', trj_ppmap_15nm)    # .npy extension is added if not given"
   ]
  },
  {
   "cell_type": "code",
   "execution_count": 60,
   "metadata": {},
   "outputs": [
    {
     "data": {
      "text/plain": [
       "(583, 60)"
      ]
     },
     "execution_count": 60,
     "metadata": {},
     "output_type": "execute_result"
    }
   ],
   "source": [
    "trj_ppmap_15nm[0].shape"
   ]
  },
  {
   "cell_type": "code",
   "execution_count": 61,
   "metadata": {},
   "outputs": [
    {
     "data": {
      "text/plain": [
       "0.0"
      ]
     },
     "execution_count": 61,
     "metadata": {},
     "output_type": "execute_result"
    }
   ],
   "source": [
    "np.sum(trj_ppmap_15nm[1000][0])"
   ]
  },
  {
   "cell_type": "code",
   "execution_count": 62,
   "metadata": {},
   "outputs": [
    {
     "data": {
      "text/plain": [
       "(10000,)"
      ]
     },
     "execution_count": 62,
     "metadata": {},
     "output_type": "execute_result"
    }
   ],
   "source": [
    "kj = np.zeros(shape=(10000, 583))\n",
    "kj[:,582].shape"
   ]
  },
  {
   "cell_type": "code",
   "execution_count": 63,
   "metadata": {},
   "outputs": [],
   "source": [
    "pp_15nm_ct = np.zeros(shape=(10000, 583))\n",
    "for i in range(10000):\n",
    "    for j in range(583):\n",
    "        pp_15nm_ct[i][j] = np.sum(trj_ppmap_15nm[i][j])"
   ]
  },
  {
   "cell_type": "code",
   "execution_count": 64,
   "metadata": {},
   "outputs": [],
   "source": [
    "pp_15nmtot = np.zeros(shape=(583))\n",
    "for i in range(583):\n",
    "    pp_15nmtot[i] = np.sum(pp_15nm_ct[:,i])\n",
    "#pp_12nmtot"
   ]
  },
  {
   "cell_type": "code",
   "execution_count": 65,
   "metadata": {},
   "outputs": [
    {
     "data": {
      "text/plain": [
       "(array([  0,   1,   2,   3,   5,   9,  10,  11,  39,  40,  44,  48,  50,\n",
       "         54,  55,  56,  57,  58,  59,  60,  62,  63,  64,  67,  68,  70,\n",
       "         71,  72,  73,  74,  75,  76,  77,  78,  79,  80,  81,  87,  88,\n",
       "         90,  91,  92,  93,  94,  95,  96,  97, 112, 113, 114, 115, 116,\n",
       "        117, 118, 119, 120, 126, 127, 128, 131, 143, 164, 165, 166, 168,\n",
       "        169, 170, 171, 172, 173, 174, 175, 177, 178, 179, 181, 182, 184,\n",
       "        185, 186, 188, 189, 206, 234, 238, 241, 242, 250, 254, 257, 272,\n",
       "        274, 297, 298, 299, 376, 380, 384, 387, 388, 390, 391, 392, 393,\n",
       "        394, 395, 396, 397, 398, 399, 400, 402, 403, 404, 408, 423, 426,\n",
       "        427, 430, 432, 433, 434, 436, 437, 438, 439, 440, 441, 442, 443,\n",
       "        450, 508, 509, 510, 512, 513, 514, 515, 516, 517, 518, 519, 520,\n",
       "        521, 536, 538, 539, 540, 541, 543, 544, 545, 546, 547, 548, 550,\n",
       "        551, 554, 555, 557, 558, 559, 560, 561, 562, 563, 569, 572, 573,\n",
       "        575, 576, 577, 578, 579, 580, 581, 582]),)"
      ]
     },
     "execution_count": 65,
     "metadata": {},
     "output_type": "execute_result"
    }
   ],
   "source": [
    "np.nonzero(pp_15nmtot)"
   ]
  },
  {
   "cell_type": "code",
   "execution_count": 119,
   "metadata": {},
   "outputs": [
    {
     "data": {
      "application/vnd.jupyter.widget-view+json": {
       "model_id": "",
       "version_major": 2,
       "version_minor": 0
      },
      "text/plain": [
       "Canvas(toolbar=Toolbar(toolitems=[('Home', 'Reset original view', 'home', 'home'), ('Back', 'Back to previous …"
      ]
     },
     "metadata": {},
     "output_type": "display_data"
    },
    {
     "data": {
      "text/plain": [
       "Text(0.5, 0, 'BSA Residue ID')"
      ]
     },
     "execution_count": 119,
     "metadata": {},
     "output_type": "execute_result"
    }
   ],
   "source": [
    "y_pos = np.arange(583) + 1\n",
    "wid = np.zeros(shape=583)\n",
    "wid += 1.5\n",
    "#wid\n",
    "fig = plt.figure(figsize=(12,12))\n",
    "fig.canvas.layout.width = '800px'\n",
    "fig.canvas.layout.height = '700px'\n",
    "plt.bar(y_pos+0.25, pp_15nmtot, align='center',width=wid, color='#562A8B', alpha=0.3, label='1.5 nm PLGA')\n",
    "plt.bar(y_pos, pp_12nmtot, align='center',width=wid, alpha=0.5, color='#1D77CF',label='1.2 nm PLGA')\n",
    "plt.xticks(fontsize=14)\n",
    "plt.yticks(fontsize=14)\n",
    "plt.xlim([0,600])\n",
    "plt.ylim([0,50000])\n",
    "plt.legend(fontsize=14)\n",
    "plt.ylabel(r'Total No. of PLGA contacts', fontsize=15)\n",
    "plt.xlabel(r'BSA Residue ID', fontsize=15)"
   ]
  },
  {
   "cell_type": "markdown",
   "metadata": {},
   "source": [
    "### Total number of residues that are within 4 angstroms of a PLGA oligomer residue within a 100 ns trajectory block"
   ]
  },
  {
   "cell_type": "code",
   "execution_count": 67,
   "metadata": {},
   "outputs": [
    {
     "data": {
      "text/html": [
       "<div>\n",
       "<style scoped>\n",
       "    .dataframe tbody tr th:only-of-type {\n",
       "        vertical-align: middle;\n",
       "    }\n",
       "\n",
       "    .dataframe tbody tr th {\n",
       "        vertical-align: top;\n",
       "    }\n",
       "\n",
       "    .dataframe thead th {\n",
       "        text-align: right;\n",
       "    }\n",
       "</style>\n",
       "<table border=\"1\" class=\"dataframe\">\n",
       "  <thead>\n",
       "    <tr style=\"text-align: right;\">\n",
       "      <th></th>\n",
       "      <th>Amino_acids</th>\n",
       "      <th>No_of_surf_res (MDAnalysis)</th>\n",
       "      <th>No_of_surf_res (VMD)</th>\n",
       "      <th>plga_1.2nm_100ns</th>\n",
       "      <th>plga_1.5nm_100ns</th>\n",
       "    </tr>\n",
       "  </thead>\n",
       "  <tbody>\n",
       "    <tr>\n",
       "      <td>0</td>\n",
       "      <td>LYS</td>\n",
       "      <td>59</td>\n",
       "      <td>59</td>\n",
       "      <td>18</td>\n",
       "      <td>29</td>\n",
       "    </tr>\n",
       "    <tr>\n",
       "      <td>1</td>\n",
       "      <td>ARG</td>\n",
       "      <td>23</td>\n",
       "      <td>23</td>\n",
       "      <td>5</td>\n",
       "      <td>10</td>\n",
       "    </tr>\n",
       "    <tr>\n",
       "      <td>2</td>\n",
       "      <td>HIS</td>\n",
       "      <td>16</td>\n",
       "      <td>16</td>\n",
       "      <td>2</td>\n",
       "      <td>3</td>\n",
       "    </tr>\n",
       "    <tr>\n",
       "      <td>3</td>\n",
       "      <td>ASP</td>\n",
       "      <td>40</td>\n",
       "      <td>40</td>\n",
       "      <td>12</td>\n",
       "      <td>18</td>\n",
       "    </tr>\n",
       "    <tr>\n",
       "      <td>4</td>\n",
       "      <td>GLU</td>\n",
       "      <td>59</td>\n",
       "      <td>59</td>\n",
       "      <td>16</td>\n",
       "      <td>30</td>\n",
       "    </tr>\n",
       "    <tr>\n",
       "      <td>5</td>\n",
       "      <td>SER</td>\n",
       "      <td>23</td>\n",
       "      <td>23</td>\n",
       "      <td>3</td>\n",
       "      <td>6</td>\n",
       "    </tr>\n",
       "    <tr>\n",
       "      <td>6</td>\n",
       "      <td>THR</td>\n",
       "      <td>29</td>\n",
       "      <td>29</td>\n",
       "      <td>9</td>\n",
       "      <td>14</td>\n",
       "    </tr>\n",
       "    <tr>\n",
       "      <td>7</td>\n",
       "      <td>CYS</td>\n",
       "      <td>24</td>\n",
       "      <td>24</td>\n",
       "      <td>7</td>\n",
       "      <td>8</td>\n",
       "    </tr>\n",
       "    <tr>\n",
       "      <td>8</td>\n",
       "      <td>TYR</td>\n",
       "      <td>19</td>\n",
       "      <td>19</td>\n",
       "      <td>2</td>\n",
       "      <td>2</td>\n",
       "    </tr>\n",
       "    <tr>\n",
       "      <td>9</td>\n",
       "      <td>ASN</td>\n",
       "      <td>14</td>\n",
       "      <td>14</td>\n",
       "      <td>4</td>\n",
       "      <td>6</td>\n",
       "    </tr>\n",
       "    <tr>\n",
       "      <td>10</td>\n",
       "      <td>GLN</td>\n",
       "      <td>19</td>\n",
       "      <td>19</td>\n",
       "      <td>9</td>\n",
       "      <td>9</td>\n",
       "    </tr>\n",
       "    <tr>\n",
       "      <td>11</td>\n",
       "      <td>GLY</td>\n",
       "      <td>11</td>\n",
       "      <td>11</td>\n",
       "      <td>3</td>\n",
       "      <td>6</td>\n",
       "    </tr>\n",
       "    <tr>\n",
       "      <td>12</td>\n",
       "      <td>ALA</td>\n",
       "      <td>39</td>\n",
       "      <td>38</td>\n",
       "      <td>13</td>\n",
       "      <td>14</td>\n",
       "    </tr>\n",
       "    <tr>\n",
       "      <td>13</td>\n",
       "      <td>VAL</td>\n",
       "      <td>19</td>\n",
       "      <td>19</td>\n",
       "      <td>2</td>\n",
       "      <td>5</td>\n",
       "    </tr>\n",
       "    <tr>\n",
       "      <td>14</td>\n",
       "      <td>LEU</td>\n",
       "      <td>34</td>\n",
       "      <td>34</td>\n",
       "      <td>6</td>\n",
       "      <td>10</td>\n",
       "    </tr>\n",
       "    <tr>\n",
       "      <td>15</td>\n",
       "      <td>ILE</td>\n",
       "      <td>7</td>\n",
       "      <td>7</td>\n",
       "      <td>0</td>\n",
       "      <td>1</td>\n",
       "    </tr>\n",
       "    <tr>\n",
       "      <td>16</td>\n",
       "      <td>MET</td>\n",
       "      <td>3</td>\n",
       "      <td>3</td>\n",
       "      <td>1</td>\n",
       "      <td>1</td>\n",
       "    </tr>\n",
       "    <tr>\n",
       "      <td>17</td>\n",
       "      <td>PHE</td>\n",
       "      <td>20</td>\n",
       "      <td>20</td>\n",
       "      <td>3</td>\n",
       "      <td>3</td>\n",
       "    </tr>\n",
       "    <tr>\n",
       "      <td>18</td>\n",
       "      <td>TRP</td>\n",
       "      <td>2</td>\n",
       "      <td>2</td>\n",
       "      <td>0</td>\n",
       "      <td>0</td>\n",
       "    </tr>\n",
       "    <tr>\n",
       "      <td>19</td>\n",
       "      <td>PRO</td>\n",
       "      <td>27</td>\n",
       "      <td>27</td>\n",
       "      <td>5</td>\n",
       "      <td>8</td>\n",
       "    </tr>\n",
       "  </tbody>\n",
       "</table>\n",
       "</div>"
      ],
      "text/plain": [
       "   Amino_acids  No_of_surf_res (MDAnalysis)  No_of_surf_res (VMD)  \\\n",
       "0          LYS                           59                    59   \n",
       "1          ARG                           23                    23   \n",
       "2          HIS                           16                    16   \n",
       "3          ASP                           40                    40   \n",
       "4          GLU                           59                    59   \n",
       "5          SER                           23                    23   \n",
       "6          THR                           29                    29   \n",
       "7          CYS                           24                    24   \n",
       "8          TYR                           19                    19   \n",
       "9          ASN                           14                    14   \n",
       "10         GLN                           19                    19   \n",
       "11         GLY                           11                    11   \n",
       "12         ALA                           39                    38   \n",
       "13         VAL                           19                    19   \n",
       "14         LEU                           34                    34   \n",
       "15         ILE                            7                     7   \n",
       "16         MET                            3                     3   \n",
       "17         PHE                           20                    20   \n",
       "18         TRP                            2                     2   \n",
       "19         PRO                           27                    27   \n",
       "\n",
       "    plga_1.2nm_100ns  plga_1.5nm_100ns  \n",
       "0                 18                29  \n",
       "1                  5                10  \n",
       "2                  2                 3  \n",
       "3                 12                18  \n",
       "4                 16                30  \n",
       "5                  3                 6  \n",
       "6                  9                14  \n",
       "7                  7                 8  \n",
       "8                  2                 2  \n",
       "9                  4                 6  \n",
       "10                 9                 9  \n",
       "11                 3                 6  \n",
       "12                13                14  \n",
       "13                 2                 5  \n",
       "14                 6                10  \n",
       "15                 0                 1  \n",
       "16                 1                 1  \n",
       "17                 3                 3  \n",
       "18                 0                 0  \n",
       "19                 5                 8  "
      ]
     },
     "execution_count": 67,
     "metadata": {},
     "output_type": "execute_result"
    }
   ],
   "source": [
    "apl_15nm = []\n",
    "\n",
    "# Some residues don't have any contact with the 3 N = 20 PLGA oligomers within 100 ns,\n",
    "# Put residues that do have contact with BSA in a separate list\n",
    "for index, r_pl in plg_1_5nmaa.iterrows():\n",
    "    if r_pl['mda_plga_frm_1.5nm'] != 0:\n",
    "        apl_15nm.append(r_pl['BSA_des_res'])\n",
    "        \n",
    "# This chunk of code gets an AA count from the above list, in order \n",
    "# to get a total number of residues that contact BSA\n",
    "cpl_15nm = []\n",
    "\n",
    "for index, r_a in aa_count.iterrows():\n",
    "    count = 0\n",
    "    for i in range(len(apl_15nm)):\n",
    "        if r_a['Amino_acids'] in apl_15nm[i]:\n",
    "            count += 1\n",
    "    cpl_15nm.append(count)      \n",
    "        \n",
    "aa_count['plga_1.5nm_100ns'] = cpl_15nm\n",
    "#aa_count.drop('No_of_surf_res (VMD)', axis=1, inplace=True)\n",
    "aa_count"
   ]
  },
  {
   "cell_type": "code",
   "execution_count": 68,
   "metadata": {},
   "outputs": [
    {
     "data": {
      "text/plain": [
       "183"
      ]
     },
     "execution_count": 68,
     "metadata": {},
     "output_type": "execute_result"
    }
   ],
   "source": [
    "# This gives the total number of residues that are within 4 angstroms of a PLGA oligomer residue\n",
    "# within a 100 ns trajectory block\n",
    "aa_count['plga_1.5nm_100ns'].sum()"
   ]
  },
  {
   "cell_type": "code",
   "execution_count": 69,
   "metadata": {},
   "outputs": [
    {
     "data": {
      "text/plain": [
       "487"
      ]
     },
     "execution_count": 69,
     "metadata": {},
     "output_type": "execute_result"
    }
   ],
   "source": [
    "# This gives the total number of residues that are within 4 angstroms of a water molecule\n",
    "# within a 1 ns trajectory block\n",
    "aa_count['No_of_surf_res (MDAnalysis)'].sum()"
   ]
  },
  {
   "cell_type": "code",
   "execution_count": 70,
   "metadata": {},
   "outputs": [
    {
     "data": {
      "text/plain": [
       "0.3757700205338809"
      ]
     },
     "execution_count": 70,
     "metadata": {},
     "output_type": "execute_result"
    }
   ],
   "source": [
    "# This gives the total fraction of contacts within the 1.2 nm Rg 100 ns trajectory\n",
    "aa_count['plga_1.5nm_100ns'].sum()/aa_count['No_of_surf_res (MDAnalysis)'].sum()"
   ]
  },
  {
   "cell_type": "code",
   "execution_count": 71,
   "metadata": {},
   "outputs": [
    {
     "name": "stdout",
     "output_type": "stream",
     "text": [
      "Mean Occpancy (1.5 nm Rg): 0.1732382513661202 Occ. std. dev.: 0.25491500578855153\n"
     ]
    }
   ],
   "source": [
    "# Mean occupancy and std deviation \n",
    "ll_mo15 = [value[1] for key, value in h2di_15nm.items()]\n",
    "print(\"Mean Occpancy (1.5 nm Rg): \"+str(np.mean(ll_mo15)), \"Occ. std. dev.: \"+str(np.std(ll_mo15)))"
   ]
  },
  {
   "cell_type": "code",
   "execution_count": 72,
   "metadata": {},
   "outputs": [
    {
     "data": {
      "text/plain": [
       "{'Negative': [77109.0, 48, 293978.0625, 0.19755475499091144],\n",
       " 'Positive': [63557.0, 42, 276926.9285714286, 0.18609630616336958],\n",
       " 'Polar': [87653.0, 45, 356455.5333333333, 0.23953993353780037],\n",
       " 'Hydrophobic': [88707.0, 48, 338195.4375, 0.22726905615399992],\n",
       " 'Aromatic': [9728.0, 8, 222528.0, 0.14953994915391872]}"
      ]
     },
     "execution_count": 72,
     "metadata": {},
     "output_type": "execute_result"
    }
   ],
   "source": [
    "cd_15nm = frac_cont(h2di_15nm)\n",
    "cd_15nm"
   ]
  },
  {
   "cell_type": "markdown",
   "metadata": {},
   "source": [
    "### Calc. fractional contacts for each AA group type "
   ]
  },
  {
   "cell_type": "code",
   "execution_count": 73,
   "metadata": {},
   "outputs": [
    {
     "name": "stdout",
     "output_type": "stream",
     "text": [
      "0\n",
      "2000\n",
      "2000\n",
      "4000\n",
      "4000\n",
      "6000\n",
      "6000\n",
      "8000\n",
      "8000\n",
      "10000\n"
     ]
    }
   ],
   "source": [
    "fcnt_rg1_5nm, prgrp_1_5nm, aa_matx_15nm = bavg_frac_cnt(5, prot_15nm, all15_pn20, dmax,\n",
    "                                                        u15nm_pn20, no_surf, 0, 10000)"
   ]
  },
  {
   "cell_type": "code",
   "execution_count": 74,
   "metadata": {},
   "outputs": [
    {
     "data": {
      "text/plain": [
       "{'Negative': array([0.21702984, 0.21582487, 0.21504858, 0.19375128, 0.20812885]),\n",
       " 'Positive': array([0.18445364, 0.22567269, 0.17180313, 0.18314279, 0.19330487]),\n",
       " 'Polar': array([0.35721667, 0.19655431, 0.24416846, 0.22038798, 0.22895071]),\n",
       " 'Hydrophobic': array([0.17792102, 0.22046298, 0.22752588, 0.19358892, 0.21477886]),\n",
       " 'Aromatic': array([0.06337883, 0.14148514, 0.14145395, 0.20912903, 0.15483672]),\n",
       " 'total_frac': array([0.16632444, 0.22176591, 0.22792608, 0.20533881, 0.22176591])}"
      ]
     },
     "execution_count": 74,
     "metadata": {},
     "output_type": "execute_result"
    }
   ],
   "source": [
    "fcnt_rg1_5nm"
   ]
  },
  {
   "cell_type": "code",
   "execution_count": 75,
   "metadata": {},
   "outputs": [
    {
     "data": {
      "text/plain": [
       "array([0.20995669, 0.19167542, 0.24945563, 0.20685553, 0.14205673])"
      ]
     },
     "execution_count": 75,
     "metadata": {},
     "output_type": "execute_result"
    }
   ],
   "source": [
    "fc_15nm_mean = np.array([np.mean(fcnt_rg1_5nm['Negative']), np.mean(fcnt_rg1_5nm['Positive'])\n",
    "                        ,np.mean(fcnt_rg1_5nm['Polar']),np.mean(fcnt_rg1_5nm['Hydrophobic'])\n",
    "                        , np.mean(fcnt_rg1_5nm['Aromatic'])])\n",
    "fc_15nm_mean"
   ]
  },
  {
   "cell_type": "code",
   "execution_count": 76,
   "metadata": {},
   "outputs": [
    {
     "data": {
      "text/plain": [
       "array([0.00867581, 0.01832123, 0.05604342, 0.01837615, 0.04658954])"
      ]
     },
     "execution_count": 76,
     "metadata": {},
     "output_type": "execute_result"
    }
   ],
   "source": [
    "fc_15nm_std = np.array([np.std(fcnt_rg1_5nm['Negative']), np.std(fcnt_rg1_5nm['Positive'])\n",
    "                       ,np.std(fcnt_rg1_5nm['Polar']),np.std(fcnt_rg1_5nm['Hydrophobic'])\n",
    "                       , np.std(fcnt_rg1_5nm['Aromatic'])])\n",
    "fc_15nm_std"
   ]
  },
  {
   "cell_type": "code",
   "execution_count": 118,
   "metadata": {},
   "outputs": [
    {
     "data": {
      "application/vnd.jupyter.widget-view+json": {
       "model_id": "",
       "version_major": 2,
       "version_minor": 0
      },
      "text/plain": [
       "Canvas(toolbar=Toolbar(toolitems=[('Home', 'Reset original view', 'home', 'home'), ('Back', 'Back to previous …"
      ]
     },
     "metadata": {},
     "output_type": "display_data"
    },
    {
     "data": {
      "text/plain": [
       "Text(0, 0.5, 'Fractional Contacts')"
      ]
     },
     "execution_count": 118,
     "metadata": {},
     "output_type": "execute_result"
    }
   ],
   "source": [
    "x_pos = np.arange(5)\n",
    "width = 0.35\n",
    "aa_types = [\"Negative\", \"Positive\", \"Polar\", \"Hydrophobic\", \"Aromatic\"]\n",
    "plt.figure(figsize=(7,7))\n",
    "plt.bar(x_pos, fc_12nm_mean, width, yerr=fc_12nm_std, ecolor='black',capsize=5, color='royalblue')\n",
    "plt.bar(x_pos+width, fc_15nm_mean, width, yerr=fc_15nm_std, ecolor='black',capsize=5, color='c')\n",
    "plt.title(r'Fractional Contacts Rg restrained', fontsize=15)\n",
    "plt.xticks(x_pos+width/2, labels=aa_types, fontsize=12)\n",
    "plt.legend(['Rg = 1.2 nm', 'Rg = 1.5 nm'], frameon=False)\n",
    "plt.ylabel(r'Fractional Contacts', fontsize=15)"
   ]
  },
  {
   "cell_type": "markdown",
   "metadata": {},
   "source": [
    "### Total fraction of contacts: averages and std dev calc from 5 20 ns blocks"
   ]
  },
  {
   "cell_type": "code",
   "execution_count": 78,
   "metadata": {},
   "outputs": [
    {
     "data": {
      "text/plain": [
       "0.2086242299794661"
      ]
     },
     "execution_count": 78,
     "metadata": {},
     "output_type": "execute_result"
    }
   ],
   "source": [
    "np.mean(fcnt_rg1_5nm['total_frac'])"
   ]
  },
  {
   "cell_type": "code",
   "execution_count": 79,
   "metadata": {},
   "outputs": [
    {
     "data": {
      "text/plain": [
       "0.022441192759448465"
      ]
     },
     "execution_count": 79,
     "metadata": {},
     "output_type": "execute_result"
    }
   ],
   "source": [
    "np.std(fcnt_rg1_5nm['total_frac'])"
   ]
  },
  {
   "cell_type": "code",
   "execution_count": null,
   "metadata": {},
   "outputs": [],
   "source": [
    "prgrp_1_5nm"
   ]
  },
  {
   "cell_type": "code",
   "execution_count": null,
   "metadata": {},
   "outputs": [],
   "source": [
    "# matrix containing the avg number of PLGA residues for each block for each amino acid \n",
    "np.where(aa_matx_15nm[0, 0] != 0)"
   ]
  },
  {
   "cell_type": "markdown",
   "metadata": {},
   "source": [
    "### Avg no. PLGA residues per BSA AA residue group "
   ]
  },
  {
   "cell_type": "code",
   "execution_count": null,
   "metadata": {},
   "outputs": [],
   "source": [
    "prgrp_1_5nm"
   ]
  },
  {
   "cell_type": "code",
   "execution_count": null,
   "metadata": {},
   "outputs": [],
   "source": [
    "mean_15nm = np.zeros(shape=5)\n",
    "std_15nm = np.zeros(shape=5)\n",
    "count = 0\n",
    "for key, value in prgrp_1_5nm.items():\n",
    "    mpl_15nm = []\n",
    "    var_15nm = []\n",
    "    for i in prgrp_1_5nm[str(key)].flat:\n",
    "        mpl_15nm.append(i[0])\n",
    "        var_15nm.append((i[1])**2)\n",
    "    \n",
    "    # calc frac cont averages\n",
    "    mean_15nm[count] = np.mean(mpl_15nm)\n",
    "    \n",
    "    # calc frac cont std dev: https://stats.stackexchange.com/questions/25848/how-to-sum-a-standard-deviation \n",
    "    std_15nm[count] = np.std(mpl_15nm)\n",
    "    #std_15nm[count] = np.sqrt(np.sum(var_15nm)/5)\n",
    "    \n",
    "    count += 1\n"
   ]
  },
  {
   "cell_type": "code",
   "execution_count": null,
   "metadata": {},
   "outputs": [],
   "source": [
    "mean_15nm"
   ]
  },
  {
   "cell_type": "code",
   "execution_count": null,
   "metadata": {},
   "outputs": [],
   "source": [
    "std_15nm"
   ]
  },
  {
   "cell_type": "code",
   "execution_count": null,
   "metadata": {},
   "outputs": [],
   "source": [
    "x_pos = np.arange(5)\n",
    "width = 0.35\n",
    "aa_types = [\"Negative\", \"Positive\", \"Polar\", \"Hydrophobic\", \"Aromatic\"]\n",
    "plt.figure(figsize=(7,7))\n",
    "plt.bar(x_pos, mean_12nm, width, yerr=std_12nm, ecolor='black',capsize=5, color='royalblue')\n",
    "plt.bar(x_pos+width, mean_15nm, width, yerr=std_15nm, ecolor='black',capsize=5, color='c')\n",
    "plt.title(r'No. of PLGA residues Rg restrained', fontsize=15)\n",
    "plt.xticks(x_pos+width/2, labels=aa_types, fontsize=12)\n",
    "plt.legend(['Rg = 1.2 nm', 'Rg = 1.5 nm'], frameon=False)\n",
    "plt.ylabel(r'No. of PLGA residues', fontsize=15)"
   ]
  },
  {
   "cell_type": "markdown",
   "metadata": {},
   "source": [
    "### Protein/polymer contact map movie"
   ]
  },
  {
   "cell_type": "code",
   "execution_count": null,
   "metadata": {},
   "outputs": [],
   "source": [
    "fig = plt.figure(figsize=(10,10))\n",
    "\n",
    "# Set the axis and the plot titles pp\n",
    "\n",
    "plt.title(\"BSA/PLGA contact map 1.5 nm res.\", fontsize=22, loc='left')\n",
    "plt.xlabel(\"PLGA Residue No.\", fontsize=22)\n",
    "plt.ylabel(\"BSA Residue No.\", fontsize=20)\n",
    "\n",
    " # Set the axis range \n",
    "plt.ylim(583, 0)\n",
    "plt.xlim(0, 60)\n",
    "\n",
    "# Plot bands for each chain \n",
    "BANDS = (\n",
    "    (0, 20, \"purple\", \"B\"),\n",
    "    (20, 40, \"blue\", \"C\"),\n",
    "    (40, 60, \"green\", \"D\"),\n",
    ")\n",
    "    \n",
    "text_y = 0.98 # Close to the top\n",
    "for start, stop, color, band in BANDS:\n",
    "    plt.axvspan(start, stop,color=color, alpha=0.15)\n",
    "    text_x = middle_of_band(start,stop)\n",
    "    plt.text(\n",
    "        text_x,\n",
    "        text_y,\n",
    "        \"PLGA chain \" + band,\n",
    "        color=color,\n",
    "        fontsize=18,\n",
    "        transform=fig.gca().transAxes,\n",
    "        horizontalalignment='center',\n",
    "        verticalalignment='center',\n",
    "        style='italic',\n",
    "    )\n",
    "    \n",
    "plt.text(0.94, 1, \"Time [ns]:\", fontsize=20, transform=fig.gca().transAxes, horizontalalignment='right', verticalalignment='bottom')\n",
    "\n",
    "# Set tick label size\n",
    "fig.gca().tick_params(axis='both', which='major', labelsize=20)\n",
    "\n",
    "ims = []\n",
    "for i in range(10000):\n",
    "    data = trj_ppmap_15nm[i]\n",
    "    im = plt.imshow(data, aspect='auto', cmap='Greys')\n",
    "    t_sim = plt.text(1.03, 1, str(i/100), fontsize=20, transform=fig.gca().transAxes, horizontalalignment='right', verticalalignment='bottom')\n",
    "    ims.append([im, t_sim])\n",
    "    \n",
    "ani = animation.ArtistAnimation(fig, ims, blit=True, repeat=False)\n",
    "ani.save('1.5nm_res.mp4', writer='ffmpeg', fps=50, bitrate=100000)\n",
    "#plt.tight_layout()\n",
    "#plt.show()"
   ]
  },
  {
   "cell_type": "markdown",
   "metadata": {},
   "source": [
    "# 2 nm restrained Rg PLGA 100 ns trajectory"
   ]
  },
  {
   "cell_type": "markdown",
   "metadata": {},
   "source": [
    "Load the rg = 1.5 nm (3 PLGA N = 20 oligomer/BSA system) "
   ]
  },
  {
   "cell_type": "markdown",
   "metadata": {},
   "source": [
    "### Contact Analyis"
   ]
  },
  {
   "cell_type": "code",
   "execution_count": 80,
   "metadata": {},
   "outputs": [],
   "source": [
    "# Set up the MD Simulation\n",
    "u2nm_pn20 = mda.Universe(\"../2nm_bsa_prod/k4000_2nm/new_conf2nm.pdb\"\n",
    "                      , \"../2nm_bsa_prod/k4000_2nm/nopbc_ppsys.xtc\")"
   ]
  },
  {
   "cell_type": "code",
   "execution_count": 81,
   "metadata": {},
   "outputs": [
    {
     "data": {
      "text/plain": [
       "<Universe with 10148 atoms>"
      ]
     },
     "execution_count": 81,
     "metadata": {},
     "output_type": "execute_result"
    }
   ],
   "source": [
    "u2nm_pn20"
   ]
  },
  {
   "cell_type": "code",
   "execution_count": 82,
   "metadata": {},
   "outputs": [
    {
     "data": {
      "text/plain": [
       "10001"
      ]
     },
     "execution_count": 82,
     "metadata": {},
     "output_type": "execute_result"
    }
   ],
   "source": [
    "pn20_len2nm = len(u2nm_pn20.trajectory)\n",
    "pn20_len2nm"
   ]
  },
  {
   "cell_type": "code",
   "execution_count": 83,
   "metadata": {},
   "outputs": [
    {
     "data": {
      "text/plain": [
       "<AtomGroup with 543 atoms>"
      ]
     },
     "execution_count": 83,
     "metadata": {},
     "output_type": "execute_result"
    }
   ],
   "source": [
    "#Select all the PLGA residues, heavy atoms only \n",
    "all2nm_pn20 = u2nm_pn20.select_atoms(\"resname sPLG PLG tPLG and not type H\")\n",
    "all2nm_pn20"
   ]
  },
  {
   "cell_type": "code",
   "execution_count": 84,
   "metadata": {},
   "outputs": [
    {
     "data": {
      "text/plain": [
       "<AtomGroup with 4653 atoms>"
      ]
     },
     "execution_count": 84,
     "metadata": {},
     "output_type": "execute_result"
    }
   ],
   "source": [
    "# Select BSA residues, heavy atoms only \n",
    "prot_2nm = u2nm_pn20.select_atoms(\"protein and not type H\")\n",
    "prot_2nm"
   ]
  },
  {
   "cell_type": "code",
   "execution_count": 85,
   "metadata": {},
   "outputs": [
    {
     "data": {
      "text/plain": [
       "{'<Residue ASP, 1>': [55.0, 0.0055],\n",
       " '<Residue THR, 2>': [105.0, 0.0105],\n",
       " '<Residue HIS, 3>': [180.0, 0.018],\n",
       " '<Residue LYS, 4>': [24.0, 0.0024],\n",
       " '<Residue HIS, 9>': [58.0, 0.0058],\n",
       " '<Residue PHE, 11>': [862.0, 0.0862],\n",
       " '<Residue LYS, 12>': [1051.0, 0.1051],\n",
       " '<Residue ASP, 13>': [364.0, 0.0364],\n",
       " '<Residue LEU, 14>': [138.0, 0.0138],\n",
       " '<Residue GLY, 15>': [326.0, 0.0326],\n",
       " '<Residue GLU, 16>': [1092.0, 0.1092],\n",
       " '<Residue GLU, 17>': [421.0, 0.0421],\n",
       " '<Residue HIS, 18>': [12.0, 0.0012],\n",
       " '<Residue LYS, 20>': [443.0, 0.0443],\n",
       " '<Residue PRO, 35>': [2.0, 0.0002],\n",
       " '<Residue PHE, 36>': [3.0, 0.0003],\n",
       " '<Residue ASP, 37>': [1360.0, 0.136],\n",
       " '<Residue GLU, 38>': [572.0, 0.0572],\n",
       " '<Residue VAL, 40>': [1464.0, 0.1464],\n",
       " '<Residue LYS, 41>': [1661.0, 0.1661],\n",
       " '<Residue ASN, 44>': [1523.0, 0.1523],\n",
       " '<Residue GLU, 45>': [247.0, 0.0247],\n",
       " '<Residue THR, 47>': [1.0, 0.0001],\n",
       " '<Residue GLU, 48>': [3062.0, 0.3062],\n",
       " '<Residue PHE, 49>': [12.0, 0.0012],\n",
       " '<Residue LYS, 51>': [4150.0, 0.415],\n",
       " '<Residue THR, 52>': [3840.0, 0.384],\n",
       " '<Residue CYS, 53>': [11.0, 0.0011],\n",
       " '<Residue VAL, 54>': [2098.0, 0.2098],\n",
       " '<Residue ALA, 55>': [4936.0, 0.4936],\n",
       " '<Residue ASP, 56>': [2499.0, 0.2499],\n",
       " '<Residue GLU, 57>': [202.0, 0.0202],\n",
       " '<Residue SER, 58>': [247.0, 0.0247],\n",
       " '<Residue HIS, 59>': [2210.0, 0.221],\n",
       " '<Residue ALA, 60>': [129.0, 0.0129],\n",
       " '<Residue LYS, 76>': [16.0, 0.0016],\n",
       " '<Residue VAL, 77>': [126.0, 0.0126],\n",
       " '<Residue ALA, 78>': [9.0, 0.0009],\n",
       " '<Residue SER, 79>': [420.0, 0.042],\n",
       " '<Residue ASP, 86>': [14.0, 0.0014],\n",
       " '<Residue ASP, 89>': [6.0, 0.0006],\n",
       " '<Residue ASP, 118>': [6.0, 0.0006],\n",
       " '<Residue ASN, 120>': [235.0, 0.0235],\n",
       " '<Residue THR, 121>': [60.0, 0.006],\n",
       " '<Residue CYS, 123>': [291.0, 0.0291],\n",
       " '<Residue ASP, 124>': [159.0, 0.0159],\n",
       " '<Residue PHE, 126>': [5044.0, 0.5044],\n",
       " '<Residue LYS, 127>': [6938.0, 0.6938],\n",
       " '<Residue ALA, 128>': [3120.0, 0.312],\n",
       " '<Residue ASP, 129>': [2043.0, 0.2043],\n",
       " '<Residue GLU, 130>': [3383.0, 0.3383],\n",
       " '<Residue LYS, 131>': [1039.0, 0.1039],\n",
       " '<Residue LYS, 132>': [599.0, 0.0599],\n",
       " '<Residue ASN, 158>': [88.0, 0.0088],\n",
       " '<Residue LYS, 159>': [10.0, 0.001],\n",
       " '<Residue GLY, 162>': [123.0, 0.0123],\n",
       " '<Residue PHE, 164>': [363.0, 0.0363],\n",
       " '<Residue GLN, 165>': [6692.0, 0.6692],\n",
       " '<Residue GLU, 166>': [6521.0, 0.6521],\n",
       " '<Residue CYS, 167>': [646.0, 0.0646],\n",
       " '<Residue CYS, 168>': [3457.0, 0.3457],\n",
       " '<Residue GLN, 169>': [9516.0, 0.9516],\n",
       " '<Residue ALA, 170>': [6195.0, 0.6195],\n",
       " '<Residue GLU, 171>': [5191.0, 0.5191],\n",
       " '<Residue ASP, 172>': [2381.0, 0.2381],\n",
       " '<Residue LYS, 173>': [922.0, 0.0922],\n",
       " '<Residue ALA, 175>': [720.0, 0.072],\n",
       " '<Residue CYS, 176>': [3546.0, 0.3546],\n",
       " '<Residue PRO, 179>': [35.0, 0.0035],\n",
       " '<Residue LYS, 180>': [847.0, 0.0847],\n",
       " '<Residue LYS, 224>': [1528.0, 0.1528],\n",
       " '<Residue ALA, 225>': [17.0, 0.0017],\n",
       " '<Residue GLU, 226>': [74.0, 0.0074],\n",
       " '<Residue ASP, 254>': [1.0, 0.0001],\n",
       " '<Residue LYS, 261>': [43.0, 0.0043],\n",
       " '<Residue CYS, 264>': [270.0, 0.027],\n",
       " '<Residue ASP, 265>': [482.0, 0.0482],\n",
       " '<Residue ASN, 266>': [495.0, 0.0495],\n",
       " '<Residue GLN, 267>': [693.0, 0.0693],\n",
       " '<Residue ASP, 268>': [2411.0, 0.2411],\n",
       " '<Residue THR, 269>': [1211.0, 0.1211],\n",
       " '<Residue ILE, 270>': [8.0, 0.0008],\n",
       " '<Residue SER, 271>': [105.0, 0.0105],\n",
       " '<Residue SER, 272>': [5502.0, 0.5502],\n",
       " '<Residue LYS, 273>': [7108.0, 0.7108],\n",
       " '<Residue LEU, 274>': [6.0, 0.0006],\n",
       " '<Residue LYS, 275>': [4811.0, 0.4811],\n",
       " '<Residue GLU, 276>': [3707.0, 0.3707],\n",
       " '<Residue CYS, 277>': [46.0, 0.0046],\n",
       " '<Residue CYS, 278>': [344.0, 0.0344],\n",
       " '<Residue ASP, 279>': [2391.0, 0.2391],\n",
       " '<Residue LYS, 280>': [985.0, 0.0985],\n",
       " '<Residue PRO, 281>': [314.0, 0.0314],\n",
       " '<Residue LEU, 282>': [68.0, 0.0068],\n",
       " '<Residue LEU, 283>': [21.0, 0.0021],\n",
       " '<Residue GLU, 284>': [135.0, 0.0135],\n",
       " '<Residue LYS, 285>': [48.0, 0.0048],\n",
       " '<Residue CYS, 288>': [379.0, 0.0379],\n",
       " '<Residue GLU, 291>': [127.0, 0.0127],\n",
       " '<Residue VAL, 292>': [83.0, 0.0083],\n",
       " '<Residue GLU, 293>': [4168.0, 0.4168],\n",
       " '<Residue LYS, 294>': [7270.0, 0.727],\n",
       " '<Residue ASP, 295>': [6004.0, 0.6004],\n",
       " '<Residue ALA, 296>': [6776.0, 0.6776],\n",
       " '<Residue ILE, 297>': [3896.0, 0.3896],\n",
       " '<Residue PRO, 298>': [1825.0, 0.1825],\n",
       " '<Residue GLU, 299>': [2558.0, 0.2558],\n",
       " '<Residue ASN, 300>': [19.0, 0.0019],\n",
       " '<Residue LEU, 301>': [114.0, 0.0114],\n",
       " '<Residue TYR, 333>': [3.0, 0.0003],\n",
       " '<Residue ARG, 335>': [2.0, 0.0002],\n",
       " '<Residue ARG, 336>': [767.0, 0.0767],\n",
       " '<Residue HIS, 337>': [966.0, 0.0966],\n",
       " '<Residue PRO, 338>': [778.0, 0.0778],\n",
       " '<Residue GLU, 339>': [1440.0, 0.144],\n",
       " '<Residue TYR, 340>': [662.0, 0.0662],\n",
       " '<Residue GLU, 351>': [352.0, 0.0352],\n",
       " '<Residue GLU, 358>': [5.0, 0.0005],\n",
       " '<Residue PHE, 373>': [4.0, 0.0004],\n",
       " '<Residue ASP, 374>': [1181.0, 0.1181],\n",
       " '<Residue LYS, 375>': [955.0, 0.0955],\n",
       " '<Residue LEU, 376>': [165.0, 0.0165],\n",
       " '<Residue LYS, 377>': [2083.0, 0.2083],\n",
       " '<Residue HIS, 378>': [3044.0, 0.3044],\n",
       " '<Residue LEU, 379>': [214.0, 0.0214],\n",
       " '<Residue VAL, 380>': [34.0, 0.0034],\n",
       " '<Residue ASP, 381>': [5270.0, 0.527],\n",
       " '<Residue GLU, 382>': [1768.0, 0.1768],\n",
       " '<Residue GLN, 384>': [6326.0, 0.6326],\n",
       " '<Residue ASN, 385>': [6050.0, 0.605],\n",
       " '<Residue ILE, 387>': [838.0, 0.0838],\n",
       " '<Residue LYS, 388>': [5564.0, 0.5564],\n",
       " '<Residue GLN, 389>': [912.0, 0.0912],\n",
       " '<Residue CYS, 391>': [70.0, 0.007],\n",
       " '<Residue ASP, 392>': [818.0, 0.0818],\n",
       " '<Residue PHE, 394>': [639.0, 0.0639],\n",
       " '<Residue GLU, 395>': [2754.0, 0.2754],\n",
       " '<Residue LYS, 396>': [1223.0, 0.1223],\n",
       " '<Residue LEU, 397>': [259.0, 0.0259],\n",
       " '<Residue GLY, 398>': [310.0, 0.031],\n",
       " '<Residue LYS, 413>': [20.0, 0.002],\n",
       " '<Residue GLN, 416>': [12.0, 0.0012],\n",
       " '<Residue GLY, 433>': [4.0, 0.0004],\n",
       " '<Residue CYS, 437>': [2262.0, 0.2262],\n",
       " '<Residue THR, 438>': [3683.0, 0.3683],\n",
       " '<Residue LYS, 439>': [3604.0, 0.3604],\n",
       " '<Residue PRO, 440>': [4662.0, 0.4662],\n",
       " '<Residue GLU, 441>': [8403.0, 0.8403],\n",
       " '<Residue SER, 442>': [6730.0, 0.673],\n",
       " '<Residue GLU, 443>': [897.0, 0.0897],\n",
       " '<Residue ARG, 444>': [4271.0, 0.4271],\n",
       " '<Residue MET, 445>': [64.0, 0.0064],\n",
       " '<Residue PRO, 446>': [167.0, 0.0167],\n",
       " '<Residue GLU, 470>': [1.0, 0.0001],\n",
       " '<Residue ASN, 482>': [2.0, 0.0002],\n",
       " '<Residue PRO, 485>': [48.0, 0.0048],\n",
       " '<Residue CYS, 486>': [2.0, 0.0002],\n",
       " '<Residue SER, 488>': [176.0, 0.0176],\n",
       " '<Residue ALA, 489>': [341.0, 0.0341],\n",
       " '<Residue LEU, 490>': [40.0, 0.004],\n",
       " '<Residue THR, 491>': [120.0, 0.012],\n",
       " '<Residue ASP, 493>': [12.0, 0.0012],\n",
       " '<Residue GLU, 494>': [1070.0, 0.107],\n",
       " '<Residue THR, 495>': [954.0, 0.0954],\n",
       " '<Residue TYR, 496>': [965.0, 0.0965],\n",
       " '<Residue VAL, 497>': [2959.0, 0.2959],\n",
       " '<Residue PRO, 498>': [5147.0, 0.5147],\n",
       " '<Residue LYS, 499>': [4081.0, 0.4081],\n",
       " '<Residue ALA, 500>': [4037.0, 0.4037],\n",
       " '<Residue PHE, 501>': [4207.0, 0.4207],\n",
       " '<Residue ASP, 502>': [50.0, 0.005],\n",
       " '<Residue GLU, 503>': [372.0, 0.0372],\n",
       " '<Residue LYS, 504>': [12.0, 0.0012],\n",
       " '<Residue HIS, 534>': [5185.0, 0.5185],\n",
       " '<Residue LYS, 535>': [1589.0, 0.1589],\n",
       " '<Residue PRO, 536>': [23.0, 0.0023],\n",
       " '<Residue LYS, 537>': [496.0, 0.0496],\n",
       " '<Residue GLN, 542>': [31.0, 0.0031],\n",
       " '<Residue THR, 545>': [6.0, 0.0006],\n",
       " '<Residue ASN, 549>': [22.0, 0.0022],\n",
       " '<Residue GLU, 570>': [6.0, 0.0006],\n",
       " '<Residue PRO, 572>': [63.0, 0.0063],\n",
       " '<Residue LYS, 573>': [223.0, 0.0223],\n",
       " '<Residue VAL, 575>': [1767.0, 0.1767],\n",
       " '<Residue VAL, 576>': [3314.0, 0.3314],\n",
       " '<Residue SER, 577>': [354.0, 0.0354],\n",
       " '<Residue THR, 578>': [257.0, 0.0257],\n",
       " '<Residue GLN, 579>': [5766.0, 0.5766],\n",
       " '<Residue THR, 580>': [3837.0, 0.3837],\n",
       " '<Residue ALA, 581>': [79.0, 0.0079],\n",
       " '<Residue LEU, 582>': [265.0, 0.0265],\n",
       " '<Residue ALA, 583>': [2320.0, 0.232]}"
      ]
     },
     "execution_count": 85,
     "metadata": {},
     "output_type": "execute_result"
    }
   ],
   "source": [
    "#dmax = 4.0, protein group(4653 atoms), plga atom group (543 atoms), took 381.6 s (6 min 36s on 4 cores)\n",
    "start = 0\n",
    "end = pn20_len2nm - 1\n",
    "s_time = timeit.default_timer()\n",
    "h2di_2nm = aa_frmcount(prot_2nm, all2nm_pn20, dmax, u2nm_pn20, start, end)\n",
    "timeit.default_timer() - s_time\n",
    "h2di_2nm"
   ]
  },
  {
   "cell_type": "code",
   "execution_count": 86,
   "metadata": {},
   "outputs": [
    {
     "data": {
      "text/plain": [
       "192"
      ]
     },
     "execution_count": 86,
     "metadata": {},
     "output_type": "execute_result"
    }
   ],
   "source": [
    "len(h2di_2nm.keys())"
   ]
  },
  {
   "cell_type": "code",
   "execution_count": 87,
   "metadata": {},
   "outputs": [
    {
     "data": {
      "text/html": [
       "<div>\n",
       "<style scoped>\n",
       "    .dataframe tbody tr th:only-of-type {\n",
       "        vertical-align: middle;\n",
       "    }\n",
       "\n",
       "    .dataframe tbody tr th {\n",
       "        vertical-align: top;\n",
       "    }\n",
       "\n",
       "    .dataframe thead th {\n",
       "        text-align: right;\n",
       "    }\n",
       "</style>\n",
       "<table border=\"1\" class=\"dataframe\">\n",
       "  <thead>\n",
       "    <tr style=\"text-align: right;\">\n",
       "      <th></th>\n",
       "      <th>BSA_des_res</th>\n",
       "      <th>mda_plga_frm_2nm</th>\n",
       "    </tr>\n",
       "  </thead>\n",
       "  <tbody>\n",
       "    <tr>\n",
       "      <td>0</td>\n",
       "      <td>ASP 1</td>\n",
       "      <td>55.0</td>\n",
       "    </tr>\n",
       "    <tr>\n",
       "      <td>1</td>\n",
       "      <td>THR 2</td>\n",
       "      <td>105.0</td>\n",
       "    </tr>\n",
       "    <tr>\n",
       "      <td>2</td>\n",
       "      <td>HIS 3</td>\n",
       "      <td>180.0</td>\n",
       "    </tr>\n",
       "    <tr>\n",
       "      <td>3</td>\n",
       "      <td>LYS 4</td>\n",
       "      <td>24.0</td>\n",
       "    </tr>\n",
       "    <tr>\n",
       "      <td>4</td>\n",
       "      <td>SER 5</td>\n",
       "      <td>0.0</td>\n",
       "    </tr>\n",
       "  </tbody>\n",
       "</table>\n",
       "</div>"
      ],
      "text/plain": [
       "  BSA_des_res  mda_plga_frm_2nm\n",
       "0       ASP 1              55.0\n",
       "1       THR 2             105.0\n",
       "2       HIS 3             180.0\n",
       "3       LYS 4              24.0\n",
       "4       SER 5               0.0"
      ]
     },
     "execution_count": 87,
     "metadata": {},
     "output_type": "execute_result"
    }
   ],
   "source": [
    "pr_res2nm = list(prot_2nm.residues)\n",
    "ss_res2nm = [str(row) for row in pr_res2nm]\n",
    "rkg_2nm = {key:h2di_2nm[key][0] for key, value in h2di_2nm.items()}\n",
    "plg_2nmaa = pd.DataFrame(data=ss_res2nm, columns=[\"BSA_des_res\"])\n",
    "plg_2nmaa['mda_plga_frm_2nm'] = plg_2nmaa['BSA_des_res'].map(rkg_2nm)\n",
    "plg_2nmaa['BSA_des_res'] = red_bsa\n",
    "plg_2nmaa['mda_plga_frm_2nm'] = plg_2nmaa['mda_plga_frm_2nm'].replace('nan', np.nan).fillna(0)\n",
    "plg_2nmaa.head()"
   ]
  },
  {
   "cell_type": "code",
   "execution_count": 122,
   "metadata": {},
   "outputs": [
    {
     "data": {
      "text/html": [
       "<div>\n",
       "<style scoped>\n",
       "    .dataframe tbody tr th:only-of-type {\n",
       "        vertical-align: middle;\n",
       "    }\n",
       "\n",
       "    .dataframe tbody tr th {\n",
       "        vertical-align: top;\n",
       "    }\n",
       "\n",
       "    .dataframe thead th {\n",
       "        text-align: right;\n",
       "    }\n",
       "</style>\n",
       "<table border=\"1\" class=\"dataframe\">\n",
       "  <thead>\n",
       "    <tr style=\"text-align: right;\">\n",
       "      <th></th>\n",
       "      <th>BSA_des_res</th>\n",
       "      <th>mda_occ_1.2nm</th>\n",
       "      <th>mda_occ_1.5nm</th>\n",
       "      <th>mda_occ_2nm</th>\n",
       "    </tr>\n",
       "  </thead>\n",
       "  <tbody>\n",
       "    <tr>\n",
       "      <td>0</td>\n",
       "      <td>&lt;Residue ASP, 1&gt;</td>\n",
       "      <td>0.00</td>\n",
       "      <td>0.01</td>\n",
       "      <td>0.01</td>\n",
       "    </tr>\n",
       "    <tr>\n",
       "      <td>1</td>\n",
       "      <td>&lt;Residue THR, 2&gt;</td>\n",
       "      <td>0.00</td>\n",
       "      <td>0.06</td>\n",
       "      <td>0.01</td>\n",
       "    </tr>\n",
       "    <tr>\n",
       "      <td>2</td>\n",
       "      <td>&lt;Residue HIS, 3&gt;</td>\n",
       "      <td>0.00</td>\n",
       "      <td>0.05</td>\n",
       "      <td>0.02</td>\n",
       "    </tr>\n",
       "    <tr>\n",
       "      <td>3</td>\n",
       "      <td>&lt;Residue LYS, 4&gt;</td>\n",
       "      <td>0.00</td>\n",
       "      <td>0.06</td>\n",
       "      <td>0.00</td>\n",
       "    </tr>\n",
       "    <tr>\n",
       "      <td>4</td>\n",
       "      <td>&lt;Residue SER, 5&gt;</td>\n",
       "      <td>0.00</td>\n",
       "      <td>0.00</td>\n",
       "      <td>0.00</td>\n",
       "    </tr>\n",
       "    <tr>\n",
       "      <td>...</td>\n",
       "      <td>...</td>\n",
       "      <td>...</td>\n",
       "      <td>...</td>\n",
       "      <td>...</td>\n",
       "    </tr>\n",
       "    <tr>\n",
       "      <td>578</td>\n",
       "      <td>&lt;Residue GLN, 579&gt;</td>\n",
       "      <td>0.00</td>\n",
       "      <td>0.04</td>\n",
       "      <td>0.58</td>\n",
       "    </tr>\n",
       "    <tr>\n",
       "      <td>579</td>\n",
       "      <td>&lt;Residue THR, 580&gt;</td>\n",
       "      <td>0.00</td>\n",
       "      <td>0.28</td>\n",
       "      <td>0.38</td>\n",
       "    </tr>\n",
       "    <tr>\n",
       "      <td>580</td>\n",
       "      <td>&lt;Residue ALA, 581&gt;</td>\n",
       "      <td>0.01</td>\n",
       "      <td>0.31</td>\n",
       "      <td>0.01</td>\n",
       "    </tr>\n",
       "    <tr>\n",
       "      <td>581</td>\n",
       "      <td>&lt;Residue LEU, 582&gt;</td>\n",
       "      <td>0.00</td>\n",
       "      <td>0.10</td>\n",
       "      <td>0.03</td>\n",
       "    </tr>\n",
       "    <tr>\n",
       "      <td>582</td>\n",
       "      <td>&lt;Residue ALA, 583&gt;</td>\n",
       "      <td>0.00</td>\n",
       "      <td>0.16</td>\n",
       "      <td>0.23</td>\n",
       "    </tr>\n",
       "  </tbody>\n",
       "</table>\n",
       "<p>583 rows × 4 columns</p>\n",
       "</div>"
      ],
      "text/plain": [
       "            BSA_des_res  mda_occ_1.2nm  mda_occ_1.5nm  mda_occ_2nm\n",
       "0      <Residue ASP, 1>           0.00           0.01         0.01\n",
       "1      <Residue THR, 2>           0.00           0.06         0.01\n",
       "2      <Residue HIS, 3>           0.00           0.05         0.02\n",
       "3      <Residue LYS, 4>           0.00           0.06         0.00\n",
       "4      <Residue SER, 5>           0.00           0.00         0.00\n",
       "..                  ...            ...            ...          ...\n",
       "578  <Residue GLN, 579>           0.00           0.04         0.58\n",
       "579  <Residue THR, 580>           0.00           0.28         0.38\n",
       "580  <Residue ALA, 581>           0.01           0.31         0.01\n",
       "581  <Residue LEU, 582>           0.00           0.10         0.03\n",
       "582  <Residue ALA, 583>           0.00           0.16         0.23\n",
       "\n",
       "[583 rows x 4 columns]"
      ]
     },
     "execution_count": 122,
     "metadata": {},
     "output_type": "execute_result"
    }
   ],
   "source": [
    "# Extract mean occupancy values\n",
    "pr_res_2ur = list(prot_2nm.residues)\n",
    "ss_res_2ur = [str(row) for row in pr_res_2ur]\n",
    "rkg_2ur = {key:h2di_2nm[key][1] for key, value in h2di_2nm.items()}\n",
    "plg_1_2nm_occ['mda_occ_2nm'] = plg_1_2nm_occ['BSA_des_res'].map(rkg_2ur)\n",
    "plg_1_2nm_occ['mda_occ_2nm'] = plg_1_2nm_occ['mda_occ_2nm'].replace('nan', np.nan).fillna(0)\n",
    "plg_1_2nm_occ['mda_occ_2nm'] = plg_1_2nm_occ['mda_occ_2nm'].round(2)\n",
    "plg_1_2nm_occ"
   ]
  },
  {
   "cell_type": "code",
   "execution_count": 123,
   "metadata": {},
   "outputs": [],
   "source": [
    "bsa_r = np.array(list(prot.resids)) # shape is 4652\n",
    "m_occ_2nm = np.array(list(plg_1_2nm_occ['mda_occ_2nm'])) # shape is 583\n",
    "m_occ_2New = np.zeros(shape=(4653))\n",
    "at_ind = np.where(bsa_r[:-1] != bsa_r[1:])[0]\n",
    "at_in_nw = np.sort(np.append([0,4653],at_ind))\n",
    "nw_v = 0\n",
    "for i in range(583):\n",
    "    b = at_in_nw[i+1] +1\n",
    "    m_occ_2New[nw_v:b] = m_occ_2nm[i]\n",
    "    nw_v = at_in_nw[i+1] + 1 "
   ]
  },
  {
   "cell_type": "code",
   "execution_count": 124,
   "metadata": {},
   "outputs": [
    {
     "data": {
      "text/plain": [
       "(array([   0,    1,    2, ..., 4650, 4651, 4652]),)"
      ]
     },
     "execution_count": 124,
     "metadata": {},
     "output_type": "execute_result"
    }
   ],
   "source": [
    "np.nonzero(m_occ_2New)"
   ]
  },
  {
   "cell_type": "markdown",
   "metadata": {},
   "source": [
    "### Visualize Occupanct on protein "
   ]
  },
  {
   "cell_type": "code",
   "execution_count": 125,
   "metadata": {},
   "outputs": [
    {
     "data": {
      "text/plain": [
       "array([0.01, 0.01, 0.01, ..., 0.23, 0.23, 0.23])"
      ]
     },
     "execution_count": 125,
     "metadata": {},
     "output_type": "execute_result"
    }
   ],
   "source": [
    "prot_2nm.occupancies = m_occ_2New\n",
    "prot_2nm.occupancies"
   ]
  },
  {
   "cell_type": "code",
   "execution_count": 126,
   "metadata": {},
   "outputs": [],
   "source": [
    "with mda.Writer(\"prot_2nmres.pdb\") as pdb:\n",
    "    pdb.write(prot_2nm)"
   ]
  },
  {
   "cell_type": "markdown",
   "metadata": {},
   "source": [
    "### Residue Importance: 2 nm restrained "
   ]
  },
  {
   "cell_type": "code",
   "execution_count": null,
   "metadata": {},
   "outputs": [],
   "source": [
    "# Need to fix function, the residue number are not counting the other 2 PLGA oligomers cuz of same resid number\n",
    "trj_ppmap_2nm = prot_poly_cntmovie(prot_2nm, all2nm_pn20, dmax, u2nm_pn20, 0, 10000)\n",
    "#trj_ppmap_12nm_chC = prot_poly_cntmovie(prot, all_pn20_C, dmax, u_pn20, 0, 10000)"
   ]
  },
  {
   "cell_type": "code",
   "execution_count": null,
   "metadata": {},
   "outputs": [],
   "source": [
    "np.save('2nm_res.npy', trj_ppmap_2nm)    # .npy extension is added if not given"
   ]
  },
  {
   "cell_type": "code",
   "execution_count": 92,
   "metadata": {},
   "outputs": [
    {
     "data": {
      "text/plain": [
       "array([array([[0., 0., 0., ..., 0., 0., 0.],\n",
       "       [0., 0., 0., ..., 0., 0., 0.],\n",
       "       [0., 0., 0., ..., 0., 0., 0.],\n",
       "       ...,\n",
       "       [0., 0., 0., ..., 0., 0., 0.],\n",
       "       [0., 0., 0., ..., 0., 0., 0.],\n",
       "       [0., 0., 0., ..., 0., 0., 0.]]),\n",
       "       array([[0., 0., 0., ..., 0., 0., 0.],\n",
       "       [0., 0., 0., ..., 0., 0., 0.],\n",
       "       [0., 0., 0., ..., 0., 0., 0.],\n",
       "       ...,\n",
       "       [0., 0., 0., ..., 0., 0., 0.],\n",
       "       [0., 0., 0., ..., 0., 0., 0.],\n",
       "       [0., 0., 0., ..., 0., 0., 0.]]),\n",
       "       array([[0., 0., 0., ..., 0., 0., 0.],\n",
       "       [0., 0., 0., ..., 0., 0., 0.],\n",
       "       [0., 0., 0., ..., 0., 0., 0.],\n",
       "       ...,\n",
       "       [0., 0., 0., ..., 0., 0., 0.],\n",
       "       [0., 0., 0., ..., 0., 0., 0.],\n",
       "       [0., 0., 0., ..., 0., 0., 0.]]),\n",
       "       ...,\n",
       "       array([[0., 0., 0., ..., 0., 0., 0.],\n",
       "       [0., 0., 0., ..., 0., 0., 0.],\n",
       "       [0., 0., 0., ..., 0., 0., 0.],\n",
       "       ...,\n",
       "       [0., 0., 0., ..., 0., 0., 0.],\n",
       "       [0., 0., 0., ..., 0., 0., 0.],\n",
       "       [0., 0., 0., ..., 0., 0., 0.]]),\n",
       "       array([[0., 0., 0., ..., 0., 0., 0.],\n",
       "       [0., 0., 0., ..., 0., 0., 0.],\n",
       "       [0., 0., 0., ..., 0., 0., 0.],\n",
       "       ...,\n",
       "       [0., 0., 0., ..., 0., 0., 0.],\n",
       "       [0., 0., 0., ..., 0., 0., 0.],\n",
       "       [0., 0., 0., ..., 0., 0., 0.]]),\n",
       "       array([[0., 0., 0., ..., 0., 0., 0.],\n",
       "       [0., 0., 0., ..., 0., 0., 0.],\n",
       "       [0., 0., 0., ..., 0., 0., 0.],\n",
       "       ...,\n",
       "       [0., 0., 0., ..., 0., 0., 0.],\n",
       "       [0., 0., 0., ..., 0., 0., 0.],\n",
       "       [0., 0., 0., ..., 0., 0., 0.]])], dtype=object)"
      ]
     },
     "execution_count": 92,
     "metadata": {},
     "output_type": "execute_result"
    }
   ],
   "source": [
    "trj_ppmap_2nm = np.load('2nm_res.npy', allow_pickle=True)\n",
    "trj_ppmap_2nm"
   ]
  },
  {
   "cell_type": "code",
   "execution_count": 93,
   "metadata": {},
   "outputs": [
    {
     "data": {
      "text/plain": [
       "(583, 60)"
      ]
     },
     "execution_count": 93,
     "metadata": {},
     "output_type": "execute_result"
    }
   ],
   "source": [
    "trj_ppmap_2nm[0].shape"
   ]
  },
  {
   "cell_type": "code",
   "execution_count": 94,
   "metadata": {},
   "outputs": [
    {
     "data": {
      "text/plain": [
       "0.0"
      ]
     },
     "execution_count": 94,
     "metadata": {},
     "output_type": "execute_result"
    }
   ],
   "source": [
    "np.sum(trj_ppmap_2nm[1000][0])"
   ]
  },
  {
   "cell_type": "code",
   "execution_count": 95,
   "metadata": {},
   "outputs": [
    {
     "data": {
      "text/plain": [
       "(10000,)"
      ]
     },
     "execution_count": 95,
     "metadata": {},
     "output_type": "execute_result"
    }
   ],
   "source": [
    "kj = np.zeros(shape=(10000, 583))\n",
    "kj[:,582].shape"
   ]
  },
  {
   "cell_type": "code",
   "execution_count": 96,
   "metadata": {},
   "outputs": [],
   "source": [
    "pp_2nm_ct = np.zeros(shape=(10000, 583))\n",
    "for i in range(10000):\n",
    "    for j in range(583):\n",
    "        pp_2nm_ct[i][j] = np.sum(trj_ppmap_2nm[i][j])"
   ]
  },
  {
   "cell_type": "code",
   "execution_count": 97,
   "metadata": {},
   "outputs": [],
   "source": [
    "pp_2nmtot = np.zeros(shape=(583))\n",
    "for i in range(583):\n",
    "    pp_2nmtot[i] = np.sum(pp_2nm_ct[:,i])\n",
    "#pp_12nmtot"
   ]
  },
  {
   "cell_type": "code",
   "execution_count": 98,
   "metadata": {},
   "outputs": [
    {
     "data": {
      "text/plain": [
       "(array([  0,   1,   2,   3,   8,  10,  11,  12,  13,  14,  15,  16,  17,\n",
       "         19,  34,  35,  36,  37,  39,  40,  43,  44,  46,  47,  48,  50,\n",
       "         51,  52,  53,  54,  55,  56,  57,  58,  59,  75,  76,  77,  78,\n",
       "         85,  88, 117, 119, 120, 122, 123, 125, 126, 127, 128, 129, 130,\n",
       "        131, 157, 158, 161, 163, 164, 165, 166, 167, 168, 169, 170, 171,\n",
       "        172, 174, 175, 178, 179, 223, 224, 225, 253, 260, 263, 264, 265,\n",
       "        266, 267, 268, 269, 270, 271, 272, 273, 274, 275, 276, 277, 278,\n",
       "        279, 280, 281, 282, 283, 284, 287, 290, 291, 292, 293, 294, 295,\n",
       "        296, 297, 298, 299, 300, 332, 334, 335, 336, 337, 338, 339, 350,\n",
       "        357, 372, 373, 374, 375, 376, 377, 378, 379, 380, 381, 383, 384,\n",
       "        386, 387, 388, 390, 391, 393, 394, 395, 396, 397, 412, 415, 432,\n",
       "        436, 437, 438, 439, 440, 441, 442, 443, 444, 445, 469, 481, 484,\n",
       "        485, 487, 488, 489, 490, 492, 493, 494, 495, 496, 497, 498, 499,\n",
       "        500, 501, 502, 503, 533, 534, 535, 536, 541, 544, 548, 569, 571,\n",
       "        572, 574, 575, 576, 577, 578, 579, 580, 581, 582]),)"
      ]
     },
     "execution_count": 98,
     "metadata": {},
     "output_type": "execute_result"
    }
   ],
   "source": [
    "np.nonzero(pp_2nmtot)"
   ]
  },
  {
   "cell_type": "code",
   "execution_count": 138,
   "metadata": {},
   "outputs": [],
   "source": [
    "a = np.sum(pp_2nmtot)"
   ]
  },
  {
   "cell_type": "code",
   "execution_count": 139,
   "metadata": {},
   "outputs": [],
   "source": [
    "b = np.sum(pp_15nmtot)"
   ]
  },
  {
   "cell_type": "code",
   "execution_count": 140,
   "metadata": {},
   "outputs": [],
   "source": [
    "c = np.sum(pp_12nmtot)"
   ]
  },
  {
   "cell_type": "code",
   "execution_count": 142,
   "metadata": {},
   "outputs": [],
   "source": [
    "plt.close('all')"
   ]
  },
  {
   "cell_type": "code",
   "execution_count": 147,
   "metadata": {},
   "outputs": [
    {
     "data": {
      "application/vnd.jupyter.widget-view+json": {
       "model_id": "7e5386557fcc4252940fcee6a8bafbb6",
       "version_major": 2,
       "version_minor": 0
      },
      "text/plain": [
       "Canvas(toolbar=Toolbar(toolitems=[('Home', 'Reset original view', 'home', 'home'), ('Back', 'Back to previous …"
      ]
     },
     "metadata": {},
     "output_type": "display_data"
    },
    {
     "data": {
      "text/plain": [
       "Text(0.5, 0, 'BSA Residue ID')"
      ]
     },
     "execution_count": 147,
     "metadata": {},
     "output_type": "execute_result"
    }
   ],
   "source": [
    "y_pos = np.arange(583) + 1\n",
    "wid = np.zeros(shape=583)\n",
    "wid += 1.5\n",
    "#wid\n",
    "fig = plt.figure(figsize=(12,12))\n",
    "fig.canvas.layout.width = '800px'\n",
    "fig.canvas.layout.height = '700px'\n",
    "plt.bar(y_pos, pp_12nmtot/c, align='center',width=wid, alpha=0.5, color='#1D77CF',label='1.2 nm PLGA')\n",
    "plt.bar(y_pos+0.25, pp_15nmtot/b, align='center',width=wid, color='#562A8B', alpha=0.3, label='1.5 nm PLGA')\n",
    "plt.bar(y_pos+0.3, pp_2nmtot/a, align='center',width=wid, color='#4E4C4D', alpha=0.3, label='2 nm PLGA')\n",
    "#plt.bar(y_pos+0.25, pp_15nmtot/b, align='center',width=wid, color='#562A8B', alpha=0.3, label='1.5 nm PLGA')\n",
    "#plt.bar(y_pos, pp_12nmtot, align='center',width=wid, alpha=0.5, color='#1D77CF',label='1.2 nm PLGA')\n",
    "plt.title(\"BSA in water with PLGA restrained, 100 ns\", fontsize=18)\n",
    "plt.xticks(fontsize=14)\n",
    "plt.yticks(fontsize=14)\n",
    "plt.xlim([0,600])\n",
    "plt.ylim([0,0.2])\n",
    "plt.legend(fontsize=14)\n",
    "plt.ylabel(r'Normalized Total No. of PLGA contacts', fontsize=15)\n",
    "plt.xlabel(r'BSA Residue ID', fontsize=15)"
   ]
  },
  {
   "cell_type": "code",
   "execution_count": null,
   "metadata": {},
   "outputs": [],
   "source": []
  },
  {
   "cell_type": "markdown",
   "metadata": {},
   "source": [
    "### Total number of residues that are within 4 angstroms of a PLGA oligomer residue within a 100 ns trajectory block"
   ]
  },
  {
   "cell_type": "code",
   "execution_count": 100,
   "metadata": {},
   "outputs": [
    {
     "data": {
      "text/html": [
       "<div>\n",
       "<style scoped>\n",
       "    .dataframe tbody tr th:only-of-type {\n",
       "        vertical-align: middle;\n",
       "    }\n",
       "\n",
       "    .dataframe tbody tr th {\n",
       "        vertical-align: top;\n",
       "    }\n",
       "\n",
       "    .dataframe thead th {\n",
       "        text-align: right;\n",
       "    }\n",
       "</style>\n",
       "<table border=\"1\" class=\"dataframe\">\n",
       "  <thead>\n",
       "    <tr style=\"text-align: right;\">\n",
       "      <th></th>\n",
       "      <th>Amino_acids</th>\n",
       "      <th>No_of_surf_res (MDAnalysis)</th>\n",
       "      <th>No_of_surf_res (VMD)</th>\n",
       "      <th>plga_1.2nm_100ns</th>\n",
       "      <th>plga_1.5nm_100ns</th>\n",
       "      <th>plga_2nm_100ns</th>\n",
       "    </tr>\n",
       "  </thead>\n",
       "  <tbody>\n",
       "    <tr>\n",
       "      <td>0</td>\n",
       "      <td>LYS</td>\n",
       "      <td>59</td>\n",
       "      <td>59</td>\n",
       "      <td>18</td>\n",
       "      <td>29</td>\n",
       "      <td>30</td>\n",
       "    </tr>\n",
       "    <tr>\n",
       "      <td>1</td>\n",
       "      <td>ARG</td>\n",
       "      <td>23</td>\n",
       "      <td>23</td>\n",
       "      <td>5</td>\n",
       "      <td>10</td>\n",
       "      <td>3</td>\n",
       "    </tr>\n",
       "    <tr>\n",
       "      <td>2</td>\n",
       "      <td>HIS</td>\n",
       "      <td>16</td>\n",
       "      <td>16</td>\n",
       "      <td>2</td>\n",
       "      <td>3</td>\n",
       "      <td>7</td>\n",
       "    </tr>\n",
       "    <tr>\n",
       "      <td>3</td>\n",
       "      <td>ASP</td>\n",
       "      <td>40</td>\n",
       "      <td>40</td>\n",
       "      <td>12</td>\n",
       "      <td>18</td>\n",
       "      <td>20</td>\n",
       "    </tr>\n",
       "    <tr>\n",
       "      <td>4</td>\n",
       "      <td>GLU</td>\n",
       "      <td>59</td>\n",
       "      <td>59</td>\n",
       "      <td>16</td>\n",
       "      <td>30</td>\n",
       "      <td>26</td>\n",
       "    </tr>\n",
       "    <tr>\n",
       "      <td>5</td>\n",
       "      <td>SER</td>\n",
       "      <td>23</td>\n",
       "      <td>23</td>\n",
       "      <td>3</td>\n",
       "      <td>6</td>\n",
       "      <td>7</td>\n",
       "    </tr>\n",
       "    <tr>\n",
       "      <td>6</td>\n",
       "      <td>THR</td>\n",
       "      <td>29</td>\n",
       "      <td>29</td>\n",
       "      <td>9</td>\n",
       "      <td>14</td>\n",
       "      <td>11</td>\n",
       "    </tr>\n",
       "    <tr>\n",
       "      <td>7</td>\n",
       "      <td>CYS</td>\n",
       "      <td>24</td>\n",
       "      <td>24</td>\n",
       "      <td>7</td>\n",
       "      <td>8</td>\n",
       "      <td>12</td>\n",
       "    </tr>\n",
       "    <tr>\n",
       "      <td>8</td>\n",
       "      <td>TYR</td>\n",
       "      <td>19</td>\n",
       "      <td>19</td>\n",
       "      <td>2</td>\n",
       "      <td>2</td>\n",
       "      <td>3</td>\n",
       "    </tr>\n",
       "    <tr>\n",
       "      <td>9</td>\n",
       "      <td>ASN</td>\n",
       "      <td>14</td>\n",
       "      <td>14</td>\n",
       "      <td>4</td>\n",
       "      <td>6</td>\n",
       "      <td>8</td>\n",
       "    </tr>\n",
       "    <tr>\n",
       "      <td>10</td>\n",
       "      <td>GLN</td>\n",
       "      <td>19</td>\n",
       "      <td>19</td>\n",
       "      <td>9</td>\n",
       "      <td>9</td>\n",
       "      <td>8</td>\n",
       "    </tr>\n",
       "    <tr>\n",
       "      <td>11</td>\n",
       "      <td>GLY</td>\n",
       "      <td>11</td>\n",
       "      <td>11</td>\n",
       "      <td>3</td>\n",
       "      <td>6</td>\n",
       "      <td>4</td>\n",
       "    </tr>\n",
       "    <tr>\n",
       "      <td>12</td>\n",
       "      <td>ALA</td>\n",
       "      <td>39</td>\n",
       "      <td>38</td>\n",
       "      <td>13</td>\n",
       "      <td>14</td>\n",
       "      <td>12</td>\n",
       "    </tr>\n",
       "    <tr>\n",
       "      <td>13</td>\n",
       "      <td>VAL</td>\n",
       "      <td>19</td>\n",
       "      <td>19</td>\n",
       "      <td>2</td>\n",
       "      <td>5</td>\n",
       "      <td>8</td>\n",
       "    </tr>\n",
       "    <tr>\n",
       "      <td>14</td>\n",
       "      <td>LEU</td>\n",
       "      <td>34</td>\n",
       "      <td>34</td>\n",
       "      <td>6</td>\n",
       "      <td>10</td>\n",
       "      <td>10</td>\n",
       "    </tr>\n",
       "    <tr>\n",
       "      <td>15</td>\n",
       "      <td>ILE</td>\n",
       "      <td>7</td>\n",
       "      <td>7</td>\n",
       "      <td>0</td>\n",
       "      <td>1</td>\n",
       "      <td>3</td>\n",
       "    </tr>\n",
       "    <tr>\n",
       "      <td>16</td>\n",
       "      <td>MET</td>\n",
       "      <td>3</td>\n",
       "      <td>3</td>\n",
       "      <td>1</td>\n",
       "      <td>1</td>\n",
       "      <td>1</td>\n",
       "    </tr>\n",
       "    <tr>\n",
       "      <td>17</td>\n",
       "      <td>PHE</td>\n",
       "      <td>20</td>\n",
       "      <td>20</td>\n",
       "      <td>3</td>\n",
       "      <td>3</td>\n",
       "      <td>8</td>\n",
       "    </tr>\n",
       "    <tr>\n",
       "      <td>18</td>\n",
       "      <td>TRP</td>\n",
       "      <td>2</td>\n",
       "      <td>2</td>\n",
       "      <td>0</td>\n",
       "      <td>0</td>\n",
       "      <td>0</td>\n",
       "    </tr>\n",
       "    <tr>\n",
       "      <td>19</td>\n",
       "      <td>PRO</td>\n",
       "      <td>27</td>\n",
       "      <td>27</td>\n",
       "      <td>5</td>\n",
       "      <td>8</td>\n",
       "      <td>11</td>\n",
       "    </tr>\n",
       "  </tbody>\n",
       "</table>\n",
       "</div>"
      ],
      "text/plain": [
       "   Amino_acids  No_of_surf_res (MDAnalysis)  No_of_surf_res (VMD)  \\\n",
       "0          LYS                           59                    59   \n",
       "1          ARG                           23                    23   \n",
       "2          HIS                           16                    16   \n",
       "3          ASP                           40                    40   \n",
       "4          GLU                           59                    59   \n",
       "5          SER                           23                    23   \n",
       "6          THR                           29                    29   \n",
       "7          CYS                           24                    24   \n",
       "8          TYR                           19                    19   \n",
       "9          ASN                           14                    14   \n",
       "10         GLN                           19                    19   \n",
       "11         GLY                           11                    11   \n",
       "12         ALA                           39                    38   \n",
       "13         VAL                           19                    19   \n",
       "14         LEU                           34                    34   \n",
       "15         ILE                            7                     7   \n",
       "16         MET                            3                     3   \n",
       "17         PHE                           20                    20   \n",
       "18         TRP                            2                     2   \n",
       "19         PRO                           27                    27   \n",
       "\n",
       "    plga_1.2nm_100ns  plga_1.5nm_100ns  plga_2nm_100ns  \n",
       "0                 18                29              30  \n",
       "1                  5                10               3  \n",
       "2                  2                 3               7  \n",
       "3                 12                18              20  \n",
       "4                 16                30              26  \n",
       "5                  3                 6               7  \n",
       "6                  9                14              11  \n",
       "7                  7                 8              12  \n",
       "8                  2                 2               3  \n",
       "9                  4                 6               8  \n",
       "10                 9                 9               8  \n",
       "11                 3                 6               4  \n",
       "12                13                14              12  \n",
       "13                 2                 5               8  \n",
       "14                 6                10              10  \n",
       "15                 0                 1               3  \n",
       "16                 1                 1               1  \n",
       "17                 3                 3               8  \n",
       "18                 0                 0               0  \n",
       "19                 5                 8              11  "
      ]
     },
     "execution_count": 100,
     "metadata": {},
     "output_type": "execute_result"
    }
   ],
   "source": [
    "apl_2nm = []\n",
    "\n",
    "# Some residues don't have any contact with the 3 N = 20 PLGA oligomers within 100 ns,\n",
    "# Put residues that do have contact with BSA in a separate list\n",
    "for index, r_pl in plg_2nmaa.iterrows():\n",
    "    if r_pl['mda_plga_frm_2nm'] != 0:\n",
    "        apl_2nm.append(r_pl['BSA_des_res'])\n",
    "        \n",
    "# This chunk of code gets an AA count from the above list, in order \n",
    "# to get a total number of residues that contact BSA\n",
    "cpl_2nm = []\n",
    "\n",
    "for index, r_a in aa_count.iterrows():\n",
    "    count = 0\n",
    "    for i in range(len(apl_2nm)):\n",
    "        if r_a['Amino_acids'] in apl_2nm[i]:\n",
    "            count += 1\n",
    "    cpl_2nm.append(count)      \n",
    "        \n",
    "aa_count['plga_2nm_100ns'] = cpl_2nm\n",
    "#aa_count.drop('No_of_surf_res (VMD)', axis=1, inplace=True)\n",
    "aa_count"
   ]
  },
  {
   "cell_type": "code",
   "execution_count": 101,
   "metadata": {},
   "outputs": [
    {
     "data": {
      "text/plain": [
       "192"
      ]
     },
     "execution_count": 101,
     "metadata": {},
     "output_type": "execute_result"
    }
   ],
   "source": [
    "# This gives the total number of residues that are within 4 angstroms of a PLGA oligomer residue\n",
    "# within a 100 ns trajectory block\n",
    "aa_count['plga_2nm_100ns'].sum()"
   ]
  },
  {
   "cell_type": "code",
   "execution_count": 102,
   "metadata": {},
   "outputs": [
    {
     "data": {
      "text/plain": [
       "487"
      ]
     },
     "execution_count": 102,
     "metadata": {},
     "output_type": "execute_result"
    }
   ],
   "source": [
    "# This gives the total number of residues that are within 4 angstroms of a water molecule\n",
    "# within a 1 ns trajectory block\n",
    "aa_count['No_of_surf_res (MDAnalysis)'].sum()"
   ]
  },
  {
   "cell_type": "code",
   "execution_count": 103,
   "metadata": {},
   "outputs": [
    {
     "data": {
      "text/plain": [
       "0.3942505133470226"
      ]
     },
     "execution_count": 103,
     "metadata": {},
     "output_type": "execute_result"
    }
   ],
   "source": [
    "# This gives the total fraction of contacts within the 1.2 nm Rg 100 ns trajectory\n",
    "aa_count['plga_2nm_100ns'].sum()/aa_count['No_of_surf_res (MDAnalysis)'].sum()"
   ]
  },
  {
   "cell_type": "code",
   "execution_count": 104,
   "metadata": {},
   "outputs": [
    {
     "name": "stdout",
     "output_type": "stream",
     "text": [
      "Mean Occpancy (2 nm Rg): 0.157603125 Occ. std. dev.: 0.21080215050350182\n"
     ]
    }
   ],
   "source": [
    "# Mean occupancy and std deviation \n",
    "ll_mo2nm = [value[1] for key, value in h2di_2nm.items()]\n",
    "print(\"Mean Occpancy (2 nm Rg): \"+str(np.mean(ll_mo2nm)), \"Occ. std. dev.: \"+str(np.std(ll_mo2nm)))"
   ]
  },
  {
   "cell_type": "code",
   "execution_count": 105,
   "metadata": {},
   "outputs": [
    {
     "data": {
      "text/plain": [
       "{'Negative': [76035.0, 46, 317363.47826086957, 0.2125303739220412],\n",
       " 'Positive': [76038.0, 40, 364982.39999999997, 0.24441957332974013],\n",
       " 'Polar': [78944.0, 49, 309331.59183673473, 0.20715162071964027],\n",
       " 'Hydrophobic': [71581.0, 57, 241114.94736842104, 0.16146864221182233],\n",
       " 'Aromatic': [24419.0, 18, 260469.33333333334, 0.1744297898167561]}"
      ]
     },
     "execution_count": 105,
     "metadata": {},
     "output_type": "execute_result"
    }
   ],
   "source": [
    "cd_2nm = frac_cont(h2di_2nm)\n",
    "cd_2nm"
   ]
  },
  {
   "cell_type": "markdown",
   "metadata": {},
   "source": [
    "### Calc. fractional contacts for each AA group type "
   ]
  },
  {
   "cell_type": "code",
   "execution_count": 106,
   "metadata": {},
   "outputs": [
    {
     "name": "stdout",
     "output_type": "stream",
     "text": [
      "0\n",
      "2000\n",
      "2000\n",
      "4000\n",
      "4000\n",
      "6000\n",
      "6000\n",
      "8000\n",
      "8000\n",
      "10000\n"
     ]
    }
   ],
   "source": [
    "fcnt_rg2nm, prgrp_2nm, aa_matx_2nm = bavg_frac_cnt(5, prot_2nm, all2nm_pn20, dmax, u2nm_pn20, no_surf, 0, 10000)"
   ]
  },
  {
   "cell_type": "code",
   "execution_count": 107,
   "metadata": {},
   "outputs": [
    {
     "data": {
      "text/plain": [
       "{'Negative': array([0.16720553, 0.26918719, 0.16398971, 0.18059591, 0.19974406]),\n",
       " 'Positive': array([0.26865875, 0.2000935 , 0.22166664, 0.21003575, 0.20974638]),\n",
       " 'Polar': array([0.21738731, 0.21620981, 0.20630745, 0.22387009, 0.19534954]),\n",
       " 'Hydrophobic': array([0.21733371, 0.1612945 , 0.21107994, 0.14886853, 0.16794913]),\n",
       " 'Aromatic': array([0.12941469, 0.15321501, 0.19695626, 0.23662973, 0.22721088]),\n",
       " 'total_frac': array([0.19507187, 0.2587269 , 0.22997947, 0.21560575, 0.23819302])}"
      ]
     },
     "execution_count": 107,
     "metadata": {},
     "output_type": "execute_result"
    }
   ],
   "source": [
    "fcnt_rg2nm"
   ]
  },
  {
   "cell_type": "code",
   "execution_count": 108,
   "metadata": {},
   "outputs": [
    {
     "data": {
      "text/plain": [
       "array([0.19614448, 0.22204021, 0.21182484, 0.18130516, 0.18868531])"
      ]
     },
     "execution_count": 108,
     "metadata": {},
     "output_type": "execute_result"
    }
   ],
   "source": [
    "fc_2nm_mean = np.array([np.mean(fcnt_rg2nm['Negative']), np.mean(fcnt_rg2nm['Positive'])\n",
    "                        ,np.mean(fcnt_rg2nm['Polar']),np.mean(fcnt_rg2nm['Hydrophobic'])\n",
    "                        , np.mean(fcnt_rg2nm['Aromatic'])])\n",
    "fc_2nm_mean"
   ]
  },
  {
   "cell_type": "code",
   "execution_count": 109,
   "metadata": {},
   "outputs": [
    {
     "data": {
      "text/plain": [
       "array([0.0386299 , 0.02429128, 0.0099713 , 0.02762441, 0.04152696])"
      ]
     },
     "execution_count": 109,
     "metadata": {},
     "output_type": "execute_result"
    }
   ],
   "source": [
    "fc_2nm_std = np.array([np.std(fcnt_rg2nm['Negative']), np.std(fcnt_rg2nm['Positive'])\n",
    "                       ,np.std(fcnt_rg2nm['Polar']),np.std(fcnt_rg2nm['Hydrophobic'])\n",
    "                       , np.std(fcnt_rg2nm['Aromatic'])])\n",
    "fc_2nm_std"
   ]
  },
  {
   "cell_type": "code",
   "execution_count": 116,
   "metadata": {},
   "outputs": [
    {
     "data": {
      "application/vnd.jupyter.widget-view+json": {
       "model_id": "",
       "version_major": 2,
       "version_minor": 0
      },
      "text/plain": [
       "Canvas(toolbar=Toolbar(toolitems=[('Home', 'Reset original view', 'home', 'home'), ('Back', 'Back to previous …"
      ]
     },
     "metadata": {},
     "output_type": "display_data"
    },
    {
     "data": {
      "text/plain": [
       "Text(0, 0.5, 'Fractional Contacts')"
      ]
     },
     "execution_count": 116,
     "metadata": {},
     "output_type": "execute_result"
    }
   ],
   "source": [
    "x_pos = np.arange(5)\n",
    "width = 0.28\n",
    "aa_types = [\"Negative\", \"Positive\", \"Polar\", \"Hydrophobic\", \"Aromatic\"]\n",
    "plt.figure(figsize=(7,7))\n",
    "plt.bar(x_pos, fc_12nm_mean, width, yerr=fc_12nm_std, ecolor='black',capsize=5, color='royalblue')\n",
    "plt.bar(x_pos+width, fc_15nm_mean, width, yerr=fc_15nm_std, ecolor='black',capsize=5, color='c')\n",
    "plt.bar(x_pos+(2*width), fc_2nm_mean, width, yerr=fc_2nm_std, ecolor='black',capsize=5, color='lightslategray')\n",
    "plt.title(r'Fractional Contacts Rg restrained', fontsize=15)\n",
    "plt.xticks(x_pos+width, labels=aa_types, fontsize=12)\n",
    "plt.ylim(0,0.4)\n",
    "plt.legend(['Rg = 1.2 nm', 'Rg = 1.5 nm', 'Rg = 2 nm'], frameon=False)\n",
    "plt.ylabel(r'Fractional Contacts', fontsize=15)"
   ]
  },
  {
   "cell_type": "code",
   "execution_count": null,
   "metadata": {},
   "outputs": [],
   "source": []
  },
  {
   "cell_type": "code",
   "execution_count": null,
   "metadata": {},
   "outputs": [],
   "source": []
  },
  {
   "cell_type": "markdown",
   "metadata": {},
   "source": [
    "### Total fraction of contacts: averages and std dev calc from 5 20 ns blocks"
   ]
  },
  {
   "cell_type": "code",
   "execution_count": 111,
   "metadata": {},
   "outputs": [
    {
     "data": {
      "text/plain": [
       "0.22751540041067764"
      ]
     },
     "execution_count": 111,
     "metadata": {},
     "output_type": "execute_result"
    }
   ],
   "source": [
    "np.mean(fcnt_rg2nm['total_frac'])"
   ]
  },
  {
   "cell_type": "code",
   "execution_count": 112,
   "metadata": {},
   "outputs": [
    {
     "data": {
      "text/plain": [
       "0.021394687930400173"
      ]
     },
     "execution_count": 112,
     "metadata": {},
     "output_type": "execute_result"
    }
   ],
   "source": [
    "np.std(fcnt_rg2nm['total_frac'])"
   ]
  },
  {
   "cell_type": "code",
   "execution_count": 113,
   "metadata": {},
   "outputs": [
    {
     "data": {
      "text/plain": [
       "{'Negative': array([array([11.0775    ,  6.00378995]),\n",
       "        array([19.3495    ,  5.01391561]),\n",
       "        array([12.0635    ,  3.82053239]), array([17.3825   ,  5.1422946]),\n",
       "        array([20.298     ,  4.90083626])], dtype=object),\n",
       " 'Positive': array([array([18.093     ,  7.74431088]),\n",
       "        array([20.6345    ,  4.94529167]),\n",
       "        array([20.3625    ,  5.14772705]),\n",
       "        array([19.0185    ,  4.37666057]),\n",
       "        array([22.2625    ,  5.29118075])], dtype=object),\n",
       " 'Polar': array([array([13.6235    ,  6.54505521]),\n",
       "        array([22.808     ,  5.53869443]),\n",
       "        array([21.084     ,  5.53876737]),\n",
       "        array([18.1995    ,  5.02062743]),\n",
       "        array([27.1795    ,  7.74217539])], dtype=object),\n",
       " 'Hydrophobic': array([array([12.083     ,  6.26067976]),\n",
       "        array([16.5775    ,  4.59923839]),\n",
       "        array([19.1075    ,  6.33931729]),\n",
       "        array([13.31      ,  4.01583117]),\n",
       "        array([21.4955    ,  5.42217482])], dtype=object),\n",
       " 'Aromatic': array([array([2.762     , 2.15901737]), array([5.7185    , 2.01897443]),\n",
       "        array([8.314, 3.102]), array([6.985     , 2.46490872]),\n",
       "        array([5.7265    , 2.64191176])], dtype=object)}"
      ]
     },
     "execution_count": 113,
     "metadata": {},
     "output_type": "execute_result"
    }
   ],
   "source": [
    "prgrp_2nm"
   ]
  },
  {
   "cell_type": "code",
   "execution_count": 115,
   "metadata": {},
   "outputs": [
    {
     "data": {
      "text/plain": [
       "(array([  0,   1,   2,   8,  10,  11,  12,  13,  14,  15,  16,  17,  19,\n",
       "         35,  36,  37,  39,  40,  43,  44,  47,  50,  51,  53,  54,  55,\n",
       "         57,  58,  85,  88, 117, 119, 120, 122, 123, 125, 126, 127, 128,\n",
       "        129, 130, 131, 163, 164, 165, 166, 167, 168, 169, 170, 171, 172,\n",
       "        174, 175, 179, 223, 253, 260, 263, 266, 267, 270, 271, 272, 273,\n",
       "        274, 275, 277, 278, 279, 280, 281, 284, 292, 293, 294, 295, 296,\n",
       "        298, 299, 337, 338, 390, 391, 393, 394, 395, 436, 437, 438, 439,\n",
       "        440, 441, 442, 443]),)"
      ]
     },
     "execution_count": 115,
     "metadata": {},
     "output_type": "execute_result"
    }
   ],
   "source": [
    "# matrix containing the avg number of PLGA residues for each block for each amino acid \n",
    "np.where(aa_matx_2nm[0] != 0)"
   ]
  },
  {
   "cell_type": "markdown",
   "metadata": {},
   "source": [
    "### Avg no. PLGA residues per BSA AA residue group "
   ]
  },
  {
   "cell_type": "code",
   "execution_count": null,
   "metadata": {},
   "outputs": [],
   "source": [
    "prgrp_2nm"
   ]
  },
  {
   "cell_type": "code",
   "execution_count": null,
   "metadata": {},
   "outputs": [],
   "source": [
    "mean_2nm = np.zeros(shape=5)\n",
    "std_2nm = np.zeros(shape=5)\n",
    "count = 0\n",
    "for key, value in prgrp_2nm.items():\n",
    "    mpl_2nm = []\n",
    "    var_2nm = []\n",
    "    for i in prgrp_2nm[str(key)].flat:\n",
    "        mpl_2nm.append(i[0])\n",
    "        var_2nm.append((i[1])**2)\n",
    "    \n",
    "    # calc frac cont averages\n",
    "    mean_2nm[count] = np.mean(mpl_2nm)\n",
    "    \n",
    "    # calc frac cont std dev: https://stats.stackexchange.com/questions/25848/how-to-sum-a-standard-deviation \n",
    "    std_2nm[count] = np.std(mpl_2nm)\n",
    "    #std_2nm[count] = np.sqrt(np.sum(var_2nm)/5)\n",
    "    \n",
    "    count += 1\n"
   ]
  },
  {
   "cell_type": "code",
   "execution_count": null,
   "metadata": {},
   "outputs": [],
   "source": [
    "mean_2nm"
   ]
  },
  {
   "cell_type": "code",
   "execution_count": null,
   "metadata": {},
   "outputs": [],
   "source": [
    "std_2nm"
   ]
  },
  {
   "cell_type": "code",
   "execution_count": null,
   "metadata": {},
   "outputs": [],
   "source": [
    "mean_15nm"
   ]
  },
  {
   "cell_type": "code",
   "execution_count": null,
   "metadata": {},
   "outputs": [],
   "source": [
    "std_15nm"
   ]
  },
  {
   "cell_type": "code",
   "execution_count": null,
   "metadata": {},
   "outputs": [],
   "source": [
    "x_pos = np.arange(5)\n",
    "width = 0.28\n",
    "aa_types = [\"Negative\", \"Positive\", \"Polar\", \"Hydrophobic\", \"Aromatic\"]\n",
    "plt.figure(figsize=(7,7))\n",
    "plt.bar(x_pos, mean_12nm, width, yerr=std_12nm, ecolor='black',capsize=5, color='royalblue')\n",
    "plt.bar(x_pos+width, mean_15nm, width, yerr=std_15nm, ecolor='black',capsize=5, color='c')\n",
    "plt.bar(x_pos+(2*width), mean_2nm, width, yerr=std_2nm, ecolor='black',capsize=5, color='lightslategray')\n",
    "plt.title(r'No. of PLGA residues Rg restrained', fontsize=15)\n",
    "plt.xticks(x_pos+width, labels=aa_types, fontsize=12)\n",
    "plt.legend(['Rg = 1.2 nm', 'Rg = 1.5 nm', 'Rg = 2 nm'], frameon=False)\n",
    "plt.ylabel(r'No. of PLGA residues', fontsize=15)"
   ]
  },
  {
   "cell_type": "markdown",
   "metadata": {},
   "source": [
    "### Protein/polymer contact map movie"
   ]
  },
  {
   "cell_type": "code",
   "execution_count": null,
   "metadata": {},
   "outputs": [],
   "source": [
    "np.where(trj_load2nm_res[9920] == 0 )"
   ]
  },
  {
   "cell_type": "code",
   "execution_count": null,
   "metadata": {},
   "outputs": [],
   "source": [
    "trj_load2nm_res[9920]"
   ]
  },
  {
   "cell_type": "code",
   "execution_count": null,
   "metadata": {},
   "outputs": [],
   "source": [
    "trj_load2nm_res.shape"
   ]
  },
  {
   "cell_type": "code",
   "execution_count": null,
   "metadata": {},
   "outputs": [],
   "source": [
    "fig = plt.figure(figsize=(10,10))\n",
    "\n",
    "# Set the axis and the plot titles pp\n",
    "\n",
    "plt.title(\"BSA/PLGA contact map 2 nm restrained\", fontsize=22, loc='left')\n",
    "plt.xlabel(\"PLGA Residue No.\", fontsize=22)\n",
    "plt.ylabel(\"BSA Residue No.\", fontsize=20)\n",
    "\n",
    " # Set the axis range \n",
    "plt.ylim(583, 0)\n",
    "plt.xlim(0, 60)\n",
    "\n",
    "# Plot bands for each chain \n",
    "BANDS = (\n",
    "    (0, 20, \"purple\", \"B\"),\n",
    "    (20, 40, \"blue\", \"C\"),\n",
    "    (40, 60, \"green\", \"D\"),\n",
    ")\n",
    "    \n",
    "text_y = 0.98 # Close to the top\n",
    "for start, stop, color, band in BANDS:\n",
    "    plt.axvspan(start, stop,color=color, alpha=0.15)\n",
    "    text_x = middle_of_band(start,stop)\n",
    "    plt.text(\n",
    "        text_x,\n",
    "        text_y,\n",
    "        \"PLGA chain \" + band,\n",
    "        color=color,\n",
    "        fontsize=18,\n",
    "        transform=fig.gca().transAxes,\n",
    "        horizontalalignment='center',\n",
    "        verticalalignment='center',\n",
    "        style='italic',\n",
    "    )\n",
    "    \n",
    "plt.text(0.94, 1, \"Time [ns]:\", fontsize=20, transform=fig.gca().transAxes, horizontalalignment='right', verticalalignment='bottom')\n",
    "\n",
    "# Set tick label size\n",
    "fig.gca().tick_params(axis='both', which='major', labelsize=20)\n",
    "\n",
    "ims = []\n",
    "for i in range(10000):\n",
    "    data = trj_ppmap_2nm[i]\n",
    "    im = plt.imshow(data, aspect='auto', cmap='Greys')\n",
    "    t_sim = plt.text(1.03, 1, str(i/100), fontsize=20, transform=fig.gca().transAxes, horizontalalignment='right', verticalalignment='bottom')\n",
    "    ims.append([im, t_sim])\n",
    "    \n",
    "ani = animation.ArtistAnimation(fig, ims, blit=True, repeat=False)\n",
    "ani.save('2nm_res.mp4', writer='ffmpeg', fps=50, bitrate=100000)\n",
    "#plt.tight_layout()\n",
    "#plt.show()"
   ]
  },
  {
   "cell_type": "code",
   "execution_count": null,
   "metadata": {},
   "outputs": [],
   "source": []
  }
 ],
 "metadata": {
  "kernelspec": {
   "display_name": "Python (ppc_env)",
   "language": "python",
   "name": "ppc_env"
  },
  "language_info": {
   "codemirror_mode": {
    "name": "ipython",
    "version": 3
   },
   "file_extension": ".py",
   "mimetype": "text/x-python",
   "name": "python",
   "nbconvert_exporter": "python",
   "pygments_lexer": "ipython3",
   "version": "3.6.9"
  }
 },
 "nbformat": 4,
 "nbformat_minor": 4
}
