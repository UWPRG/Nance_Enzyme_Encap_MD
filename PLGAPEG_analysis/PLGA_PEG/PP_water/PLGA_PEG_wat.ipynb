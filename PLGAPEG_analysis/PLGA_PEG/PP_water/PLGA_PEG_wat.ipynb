{
 "cells": [
  {
   "cell_type": "code",
   "execution_count": 1,
   "metadata": {},
   "outputs": [],
   "source": [
    "#import the necessary modules \n",
    "%matplotlib inline \n",
    "import numpy as np \n",
    "import matplotlib.pyplot as plt \n",
    "import pandas as pd \n",
    "import scipy\n",
    "import sklearn\n",
    "import itertools \n",
    "from itertools import cycle \n",
    "import os.path as op\n",
    "import timeit \n",
    "import json\n",
    "import math"
   ]
  },
  {
   "cell_type": "code",
   "execution_count": 2,
   "metadata": {},
   "outputs": [
    {
     "data": {
      "text/plain": [
       "4"
      ]
     },
     "execution_count": 2,
     "metadata": {},
     "output_type": "execute_result"
    }
   ],
   "source": [
    "import multiprocessing as m_proc\n",
    "m_proc.cpu_count()"
   ]
  },
  {
   "cell_type": "code",
   "execution_count": 3,
   "metadata": {},
   "outputs": [],
   "source": [
    "# Import MDAnalysis\n",
    "import MDAnalysis as mda\n",
    "import statsmodels as stats\n",
    "from MDAnalysis.analysis import distances, rdf"
   ]
  },
  {
   "cell_type": "code",
   "execution_count": null,
   "metadata": {},
   "outputs": [],
   "source": [
    "from plgapeg_MD_analysis import (pers_length, get_rg_pers_poly, bavg_pers_cnt, pos_bead_autocorr_RA,\n",
    "                                 rouse_relax, zimm_relax_fit, zimm_relax_func, rh_block_avg, mean_sq_e2e, hydro_rad_poly,\n",
    "                                obs_autocorr_RA)"
   ]
  },
  {
   "cell_type": "code",
   "execution_count": null,
   "metadata": {},
   "outputs": [],
   "source": [
    "from polymer_MD_analysis import (pers_length, get_rg_pers_poly, bavg_pers_cnt, pos_bead_autocorr_RA,\n",
    "                                 rouse_relax, zimm_relax_fit, zimm_relax_func, rh_block_avg, mean_sq_e2e, hydro_rad_poly,\n",
    "                                obs_autocorr_RA, getPairStats, pair_regression, simple_regression_conf)"
   ]
  },
  {
   "cell_type": "markdown",
   "metadata": {},
   "source": [
    "## PLGA-PEG/water system analysis"
   ]
  },
  {
   "cell_type": "markdown",
   "metadata": {},
   "source": [
    "### N = 6 PLGA-PEG/water "
   ]
  },
  {
   "cell_type": "code",
   "execution_count": 4,
   "metadata": {},
   "outputs": [],
   "source": [
    "# For the right Rg calculation using MD Analysis, use trajactory without pbc \n",
    "n6_plgapeg_wat = mda.Universe(\"n6plga_peg_wat/n6plgapeg_WAT.pdb\", \"n6plga_peg_wat/NoWat_n6plgapeg.xtc\")"
   ]
  },
  {
   "cell_type": "code",
   "execution_count": 5,
   "metadata": {},
   "outputs": [
    {
     "data": {
      "text/plain": [
       "<XTCReader n6plga_peg_wat/NoWat_n6plgapeg.xtc with 36001 frames of 69 atoms>"
      ]
     },
     "execution_count": 5,
     "metadata": {},
     "output_type": "execute_result"
    }
   ],
   "source": [
    "n6_plgapeg_wat.trajectory"
   ]
  },
  {
   "cell_type": "code",
   "execution_count": 6,
   "metadata": {},
   "outputs": [
    {
     "data": {
      "text/plain": [
       "36001"
      ]
     },
     "execution_count": 6,
     "metadata": {},
     "output_type": "execute_result"
    }
   ],
   "source": [
    "len(n6_plgapeg_wat.trajectory)"
   ]
  },
  {
   "cell_type": "code",
   "execution_count": 7,
   "metadata": {},
   "outputs": [],
   "source": [
    "#Select the polymer heavy atoms \n",
    "plgapeg_n6wat = n6_plgapeg_wat.select_atoms(\"resname sPLG PLG bPLG bPEG PEG sPEG and not type H\")"
   ]
  },
  {
   "cell_type": "code",
   "execution_count": 8,
   "metadata": {},
   "outputs": [
    {
     "data": {
      "text/plain": [
       "array([1, 2, 3, 4, 5, 6])"
      ]
     },
     "execution_count": 8,
     "metadata": {},
     "output_type": "execute_result"
    }
   ],
   "source": [
    "np.unique(plgapeg_n6wat.resids)"
   ]
  },
  {
   "cell_type": "code",
   "execution_count": null,
   "metadata": {},
   "outputs": [],
   "source": [
    "# Get cosine theta values at frame 0 \n",
    "crv_n6plgapeg_wat = pers_length(plgapeg_n6wat,6)\n",
    "crv_n6plgapeg_wat"
   ]
  },
  {
   "cell_type": "markdown",
   "metadata": {},
   "source": [
    "### Orientation Order parameter vs. time "
   ]
  },
  {
   "cell_type": "code",
   "execution_count": null,
   "metadata": {},
   "outputs": [],
   "source": [
    "n_mon = 6 \n",
    "start = 0\n",
    "end = 36001"
   ]
  },
  {
   "cell_type": "code",
   "execution_count": null,
   "metadata": {},
   "outputs": [],
   "source": [
    "OOp_n6plgapeg_wat = orientation_order_param(plgapeg_n6wat, n6_plgapeg_wat, n_mon, start, end)"
   ]
  },
  {
   "cell_type": "code",
   "execution_count": null,
   "metadata": {},
   "outputs": [],
   "source": [
    "OOp_n6plgapeg_wat.shape"
   ]
  },
  {
   "cell_type": "code",
   "execution_count": null,
   "metadata": {},
   "outputs": [],
   "source": [
    "trj_len = np.arange(36001)\n",
    "plt.figure(figsize=(7,7))\n",
    "plt.title(r'PLGA-PEG Orientation Order Parameter', fontsize=18, y=1.01)\n",
    "plt.xlabel(r'Time [ns]', fontsize=15)\n",
    "plt.ylabel(r'Z', fontsize=15)\n",
    "plt.plot(trj_len/100, OOp_n6plgapeg_wat,linewidth=2, color='teal')\n",
    "plt.tick_params(labelsize=14)\n",
    "plt.legend(['N = 6 in Water'], frameon=False, fontsize=14)\n",
    "#plt.text(127, 0.96,r'N = 6 in water', fontsize=18, color='#1F2E69', family='Arial')\n",
    "plt.xlim(0,360)\n",
    "plt.ylim(-1,1)"
   ]
  },
  {
   "cell_type": "markdown",
   "metadata": {},
   "source": [
    "#### Mean Orientation Order Parameter for N = 6 PLGA-PEG in water"
   ]
  },
  {
   "cell_type": "code",
   "execution_count": null,
   "metadata": {},
   "outputs": [],
   "source": [
    "OOp_n6plgapeg_wat[82]"
   ]
  },
  {
   "cell_type": "code",
   "execution_count": null,
   "metadata": {},
   "outputs": [],
   "source": [
    "OOp_n6plgapeg_wat[239]"
   ]
  },
  {
   "cell_type": "code",
   "execution_count": null,
   "metadata": {},
   "outputs": [],
   "source": [
    "np.mean(OOp_n6plgapeg_wat)"
   ]
  },
  {
   "cell_type": "code",
   "execution_count": null,
   "metadata": {},
   "outputs": [],
   "source": [
    "np.std(OOp_n6plgapeg_wat)"
   ]
  },
  {
   "cell_type": "markdown",
   "metadata": {},
   "source": [
    "### Mean squared end to end distance "
   ]
  },
  {
   "cell_type": "code",
   "execution_count": null,
   "metadata": {},
   "outputs": [],
   "source": [
    "n_mon = 6 \n",
    "start = 0\n",
    "end = 36001"
   ]
  },
  {
   "cell_type": "code",
   "execution_count": null,
   "metadata": {},
   "outputs": [],
   "source": [
    "eVec_n6plgapeg_wat, e2edis_n6plgapeg_wat = mean_sq_e2e(plgapeg_n6wat, n6_plgapeg_wat, n_mon, start, end)"
   ]
  },
  {
   "cell_type": "code",
   "execution_count": null,
   "metadata": {},
   "outputs": [],
   "source": [
    "trj_len = np.arange(36001)\n",
    "plt.figure(figsize=(7,7))\n",
    "plt.title(r'PLGA-PEG End to End distance', fontsize=18, y=1.01)\n",
    "plt.xlabel(r'Time [ns]', fontsize=15)\n",
    "plt.ylabel(r'$R_{ee}$ [nm]', fontsize=15)\n",
    "plt.plot(trj_len/100, e2edis_n6plgapeg_wat[1]/10,linewidth=2, color='teal')\n",
    "plt.tick_params(labelsize=14)\n",
    "plt.legend(['N = 6 in Water'], frameon=False, fontsize=14)\n",
    "#plt.text(127, 0.96,r'N = 6 in water', fontsize=18, color='#1F2E69', family='Arial')\n",
    "plt.xlim(0,360)\n",
    "plt.ylim(0,5)"
   ]
  },
  {
   "cell_type": "markdown",
   "metadata": {},
   "source": [
    "#### Ree Autocorrelation function"
   ]
  },
  {
   "cell_type": "code",
   "execution_count": null,
   "metadata": {},
   "outputs": [],
   "source": [
    "e2edis_n6plgapeg_wat[1]"
   ]
  },
  {
   "cell_type": "code",
   "execution_count": null,
   "metadata": {},
   "outputs": [],
   "source": [
    "t_corr = 2000\n",
    "window_shift = 20"
   ]
  },
  {
   "cell_type": "code",
   "execution_count": null,
   "metadata": {},
   "outputs": [],
   "source": [
    "ACn6plgapegwat_Ree, eqvar_n6plgapegwat = obs_autocorr_RA(e2edis_n6plgapeg_wat[1],t_corr, window_shift,start,end)"
   ]
  },
  {
   "cell_type": "code",
   "execution_count": null,
   "metadata": {},
   "outputs": [],
   "source": [
    "ACn6plgapegwat_Ree"
   ]
  },
  {
   "cell_type": "code",
   "execution_count": null,
   "metadata": {},
   "outputs": [],
   "source": [
    "eqvar_n6plgapegwat"
   ]
  },
  {
   "cell_type": "code",
   "execution_count": null,
   "metadata": {},
   "outputs": [],
   "source": [
    "ACn6plgapegwat_sqRee, evsqRee_n6plgapegwat = obs_autocorr_RA(e2edis_n6plgapeg_wat[0],t_corr, window_shift,start,end)"
   ]
  },
  {
   "cell_type": "code",
   "execution_count": null,
   "metadata": {},
   "outputs": [],
   "source": [
    "np.sqrt(evsqRee_n6plgapegwat)"
   ]
  },
  {
   "cell_type": "code",
   "execution_count": null,
   "metadata": {},
   "outputs": [],
   "source": [
    "plt.figure(figsize=(7,7))\n",
    "plt.title(r'PLGA-PEG Ree autocorrelation', fontsize=18, y=1.01)\n",
    "plt.xlabel(r'Time [ns]', fontsize=15)\n",
    "plt.ylabel(r'$C_{A}(t)$', fontsize=15)\n",
    "plt.plot(ACn6plgapegwat_Ree[1]/100, ACn6plgapegwat_Ree[0],linewidth=2, color='teal')\n",
    "plt.tick_params(labelsize=14)\n",
    "plt.legend(['N = 6 Ree'], frameon=False, fontsize=14)\n",
    "#plt.yscale('symlog', linthreshy=0.5)\n",
    "#plt.xscale('symlog')\n",
    "plt.xlim(0,20)\n",
    "plt.ylim(-1,1)"
   ]
  },
  {
   "cell_type": "markdown",
   "metadata": {},
   "source": [
    "### Hydrodynamic Radius vs time"
   ]
  },
  {
   "cell_type": "code",
   "execution_count": null,
   "metadata": {},
   "outputs": [],
   "source": [
    "n_mon = 6 \n",
    "start = 0\n",
    "end = 36001"
   ]
  },
  {
   "cell_type": "code",
   "execution_count": null,
   "metadata": {},
   "outputs": [],
   "source": [
    "plgapegn6wat_rh = hydro_rad_poly(plgapeg_n6wat, n6_plgapeg_wat, n_mon, start, end)"
   ]
  },
  {
   "cell_type": "code",
   "execution_count": null,
   "metadata": {},
   "outputs": [],
   "source": [
    "trj_len = np.arange(36001)\n",
    "plt.figure(figsize=(7,7))\n",
    "plt.title(r'PLGA-PEG Hydrodynamic Radius', fontsize=18, y=1.01)\n",
    "plt.xlabel(r'Time [ns]', fontsize=15)\n",
    "plt.ylabel(r'$R_{hyd}$ [nm]', fontsize=15)\n",
    "plt.plot(trj_len/100, plgapegn6wat_rh/10,linewidth=2, color='teal')\n",
    "plt.tick_params(labelsize=14)\n",
    "plt.legend(['N = 6 in Water'], frameon=False, fontsize=14)\n",
    "#plt.text(127, 0.96,r'N = 6 in water', fontsize=18, color='#1F2E69', family='Arial')\n",
    "plt.xlim(0,360)\n",
    "plt.ylim(0,2)"
   ]
  },
  {
   "cell_type": "markdown",
   "metadata": {},
   "source": [
    "#### Rh autocorrelation"
   ]
  },
  {
   "cell_type": "code",
   "execution_count": null,
   "metadata": {},
   "outputs": [],
   "source": [
    "ACn6plgapegwatRh, eqvarRh_n6plgapegwat = obs_autocorr_RA(plgapegn6wat_rh,t_corr, window_shift,start,end)"
   ]
  },
  {
   "cell_type": "code",
   "execution_count": null,
   "metadata": {},
   "outputs": [],
   "source": [
    "ACn6plgapegwatRh"
   ]
  },
  {
   "cell_type": "code",
   "execution_count": null,
   "metadata": {},
   "outputs": [],
   "source": [
    "eqvarRh_n6plgapegwat"
   ]
  },
  {
   "cell_type": "code",
   "execution_count": null,
   "metadata": {},
   "outputs": [],
   "source": [
    "plt.figure(figsize=(7,7))\n",
    "plt.title(r'PLGA-PEG Rh autocorrelation', fontsize=18, y=1.01)\n",
    "plt.xlabel(r'Time [ns]', fontsize=15)\n",
    "plt.ylabel(r'$C_{Rh}(t)$', fontsize=15)\n",
    "plt.plot(ACn6plgapegwatRh[1]/100, ACn6plgapegwatRh[0],linewidth=2, color='teal')\n",
    "#plt.plot(A2n6plgapegwat_Ree[1]/100, ACn6plgapegwat_Ree[0],linewidth=2, color='r')\n",
    "plt.tick_params(labelsize=14)\n",
    "plt.legend(['N = 6 in water'], frameon=False, fontsize=14)\n",
    "#plt.text(127, 0.96,r'N = 6 in water', fontsize=18, color='#1F2E69', family='Arial')\n",
    "plt.xlim(0,20)\n",
    "#plt.ylim(-0.2,1)"
   ]
  },
  {
   "cell_type": "markdown",
   "metadata": {},
   "source": [
    "### Relaxation times vs monomer length "
   ]
  },
  {
   "cell_type": "code",
   "execution_count": null,
   "metadata": {},
   "outputs": [],
   "source": [
    "# Key variables \n",
    "# def pos_bead_autocorr_RA(polymer_atoms, universe, n_monomers, t_corr,  start, end):\n",
    "n_mon = 6 \n",
    "start = 0\n",
    "end = 36001\n",
    "t_corr = 1000\n",
    "window_shift = 20"
   ]
  },
  {
   "cell_type": "code",
   "execution_count": null,
   "metadata": {},
   "outputs": [],
   "source": [
    "s_time = timeit.default_timer()\n",
    "tcRA_plgapegn6wat, tcSUM_plgapegn6wat = pos_bead_autocorr_RA(plgapeg_n6wat, n6_plgapeg_wat, n_mon, t_corr, window_shift, start, end)\n",
    "timeit.default_timer() - s_time"
   ]
  },
  {
   "cell_type": "code",
   "execution_count": null,
   "metadata": {},
   "outputs": [],
   "source": [
    "tcRA_plgapegn6wat"
   ]
  },
  {
   "cell_type": "code",
   "execution_count": null,
   "metadata": {},
   "outputs": [],
   "source": [
    "tcSUM_plgapegn6wat.shape"
   ]
  },
  {
   "cell_type": "markdown",
   "metadata": {},
   "source": [
    "### Fitting autocorrelation data "
   ]
  },
  {
   "cell_type": "code",
   "execution_count": null,
   "metadata": {},
   "outputs": [],
   "source": [
    "tcRA_plgapegn6wat = np.load('n6ppwat_CtRA.npy', allow_pickle=True)\n",
    "tcRA_plgapegn8wat = np.load('n8ppwat_CtRA.npy', allow_pickle=True)\n",
    "tcRA_plgapegn10wat = np.load('n10ppwat_CtRA.npy', allow_pickle=True)\n",
    "tcRA_plgapegn16wat = np.load('n16ppwat_CtRA.npy', allow_pickle=True)\n",
    "tcRA_plgapegn20wat = np.load('n20ppwat_CtRA.npy', allow_pickle=True)\n",
    "tcRA_plgapegn30wat = np.load('n30ppwat_CtRA.npy', allow_pickle=True)"
   ]
  },
  {
   "cell_type": "code",
   "execution_count": null,
   "metadata": {},
   "outputs": [],
   "source": [
    "s_n6 =[2 for i in range(tcRA_plgapegn6wat[1].shape[0])]\n",
    "s_n8 =[2 for i in range(tcRA_plgapegn8wat[1].shape[0])]\n",
    "s_n10 =[2 for i in range(tcRA_plgapegn10wat[1].shape[0])]\n",
    "s_n16 =[2 for i in range(tcRA_plgapegn16wat[1].shape[0])]\n",
    "s_n20 =[2 for i in range(tcRA_plgapegn20wat[1].shape[0])]\n",
    "s_n30 =[2 for i in range(tcRA_plgapegn30wat[1].shape[0])]"
   ]
  },
  {
   "cell_type": "code",
   "execution_count": null,
   "metadata": {},
   "outputs": [],
   "source": [
    "plt.figure(figsize=(8,8))\n",
    "plt.rcParams[\"font.family\"] = \"Arial\"\n",
    "plt.scatter(tcRA_plgapegn6wat[1]/100, tcRA_plgapegn6wat[0], color='teal', s=s_n6, label=r'$N_{PLGA-PEG}$ = 6')\n",
    "plt.scatter(tcRA_plgapegn8wat[1]/100, tcRA_plgapegn8wat[0], color='dodgerblue', s=s_n8, label=r'$N_{PLGA-PEG}$ = 8')\n",
    "plt.scatter(tcRA_plgapegn10wat[1]/100, tcRA_plgapegn10wat[0], color='darkmagenta', s=s_n10, label=r'$N_{PLGA-PEG}$ = 10')\n",
    "plt.scatter(tcRA_plgapegn16wat[1]/100, tcRA_plgapegn16wat[0], color='maroon', s=s_n16, label=r'$N_{PLGA-PEG}$ = 16')\n",
    "plt.scatter(tcRA_plgapegn20wat[1]/100, tcRA_plgapegn20wat[0], color='orangered', s=s_n20, label=r'$N_{PLGA-PEG}$ = 20')\n",
    "plt.scatter(tcRA_plgapegn30wat[1]/100, tcRA_plgapegn30wat[0], color='darkolivegreen', s=s_n30, label=r'$N_{PLGA-PEG}$ = 30')\n",
    "plt.title(r'Positional bead autocorrelation PLGA-PEG in Water', fontsize=18, y=1.03)\n",
    "plt.xlabel(r'Time lag [ns]', fontsize=18)\n",
    "plt.ylabel('C(t)', fontsize=18)\n",
    "plt.legend(fontsize=14, frameon=False)\n",
    "plt.xticks(fontsize=18)\n",
    "plt.yticks(fontsize=18)\n",
    "#plt.yscale('symlog', linthreshy=0.5)\n",
    "plt.xscale('symlog')\n",
    "plt.grid(b=True)\n",
    "plt.xlim(0,300)\n",
    "plt.ylim(-1,1)\n",
    "plt.tick_params(labelsize=18, direction='in', which='both', width=1, length=10)"
   ]
  },
  {
   "cell_type": "code",
   "execution_count": null,
   "metadata": {},
   "outputs": [],
   "source": [
    "xdata_plgapegn6wat = tcRA_plgapegn6wat[1]/100\n",
    "ydata_plgapegn6wat = tcRA_plgapegn6wat[0]"
   ]
  },
  {
   "cell_type": "code",
   "execution_count": null,
   "metadata": {},
   "outputs": [],
   "source": [
    "plt.figure(figsize=(8,8))\n",
    "plt.rcParams[\"font.family\"] = \"Arial\"\n",
    "plt.scatter(xdata_plgapegn6wat, ydata_plgapegn6wat, color='teal', s=s_n6)\n",
    "plt.title(r'Positional bead autocorrelation PLGA-PEG in Water', fontsize=18, y=1.03)\n",
    "plt.xlabel(r'Time lag [ns]', fontsize=18)\n",
    "plt.ylabel('C(t)', fontsize=18)\n",
    "#plt.legend(fontsize=14, frameon=False)\n",
    "plt.xticks(fontsize=18)\n",
    "plt.yticks(fontsize=18)\n",
    "#plt.yscale('symlog', linthreshy=0.5)\n",
    "plt.xscale('symlog')\n",
    "plt.grid(b=True)\n",
    "plt.xlim(0,30)\n",
    "plt.ylim(-1,1)\n",
    "plt.tick_params(labelsize=18, direction='in', which='both', width=1, length=10)"
   ]
  },
  {
   "cell_type": "code",
   "execution_count": null,
   "metadata": {},
   "outputs": [],
   "source": [
    "rouse_relax(1, 2, 6)"
   ]
  },
  {
   "cell_type": "code",
   "execution_count": null,
   "metadata": {},
   "outputs": [],
   "source": [
    "ts = 1\n",
    "hs = 0.1\n",
    "n_mon = 6\n",
    "n_b = n_mon - 1\n",
    "tr1 = 2\n",
    "zimm_relax_fit(ts,tr1,hs,n_b)"
   ]
  },
  {
   "cell_type": "code",
   "execution_count": null,
   "metadata": {},
   "outputs": [],
   "source": [
    "zimm_relax_func(1, 2, 0.1, 5)"
   ]
  },
  {
   "cell_type": "code",
   "execution_count": null,
   "metadata": {},
   "outputs": [],
   "source": [
    "def res_plgapegn6wat(variabls, xnp, ynp):\n",
    "    #hs_np = variabls['h_star']\n",
    "    hs_np = 0.26\n",
    "    tr1_np = variabls['t_first']\n",
    "    n_bonds = 5\n",
    "    testnp = []\n",
    "    for i in range(len(xnp)):\n",
    "        model_ynp = zimm_relax_fit(xnp[i], tr1_np, hs_np, n_bonds)\n",
    "        #model_ynp = rouse_relax(xnp[i], tr1_np, n_m)\n",
    "        testnp.append(ynp[i] - model_ynp)\n",
    "    \n",
    "    tt_n6 = np.array(testnp)\n",
    "\n",
    "    return tt_n6\n",
    "    \n",
    "#x1 = np.array([0,0])\n",
    "#pfit, pcov, infodict, errmsg, success = leastsq(res_poly, x1, args=(xdata, ydata), full_output=1)"
   ]
  },
  {
   "cell_type": "code",
   "execution_count": null,
   "metadata": {},
   "outputs": [],
   "source": [
    "from lmfit import Minimizer, Parameters, report_fit"
   ]
  },
  {
   "cell_type": "code",
   "execution_count": null,
   "metadata": {},
   "outputs": [],
   "source": [
    "ppfit_n6wat = Parameters()\n",
    "#ppfit_n6wat.add(name='h_star', value=0, min=0, max=0.26, vary=True)\n",
    "ppfit_n6wat.add(name='t_first', value=90)"
   ]
  },
  {
   "cell_type": "code",
   "execution_count": null,
   "metadata": {},
   "outputs": [],
   "source": [
    "mini_ppn6wat = Minimizer(res_plgapegn6wat, ppfit_n6wat, fcn_args=(xdata_plgapegn6wat, ydata_plgapegn6wat))\n",
    "out_ppn6wat = mini_ppn6wat.leastsq()\n",
    "#bfit_n10 = ydata_n10wat + out_n10wat.residual "
   ]
  },
  {
   "cell_type": "code",
   "execution_count": null,
   "metadata": {},
   "outputs": [],
   "source": [
    "report_fit(out_ppn6wat.params)"
   ]
  },
  {
   "cell_type": "code",
   "execution_count": null,
   "metadata": {},
   "outputs": [],
   "source": [
    "out_ppn6wat.params"
   ]
  },
  {
   "cell_type": "code",
   "execution_count": null,
   "metadata": {},
   "outputs": [],
   "source": [
    "# with h varying, tr = 0.25790932 +/- 0.00187053, h* = 0.25372179 +/- 0.01834767\n",
    "twat_n6plgapeg = []\n",
    "n_bonds = 5\n",
    "for i in range(len(xdata_plgapegn6wat)):\n",
    "    twat_n6plgapeg.append(zimm_relax_fit(xdata_plgapegn6wat[i], 0.25745834, 0.26,  n_bonds))\n"
   ]
  },
  {
   "cell_type": "code",
   "execution_count": null,
   "metadata": {},
   "outputs": [],
   "source": [
    "t_c, tz_n6plgapeg, zimm_n6plgapeg, rouse_n6plgapeg = zimm_relax_func(1, 0.25745834, 0.26,  n_bonds)"
   ]
  },
  {
   "cell_type": "code",
   "execution_count": null,
   "metadata": {},
   "outputs": [],
   "source": [
    "x_pos = np.arange(5)\n",
    "width = 0.25\n",
    "aa_types = [r\"$\\tau_{1}$\", r\"$\\tau_{2}$\", r\"$\\tau_{3}$\", r\"$\\tau_{4}$\", r\"$\\tau_{5}$\"]\n",
    "fig = plt.figure(figsize=(7,7))\n",
    "plt.bar(x_pos, tz_n6plgapeg, width,ecolor='black',capsize=5, color='c')\n",
    "plt.xticks(x_pos, labels=aa_types, fontsize=12)\n",
    "plt.ylabel(r'Relaxation times', fontsize=15)"
   ]
  },
  {
   "cell_type": "code",
   "execution_count": null,
   "metadata": {},
   "outputs": [],
   "source": [
    "x_pos = np.arange(5)\n",
    "width = 0.25\n",
    "aa_eigen_ppn6 = [r\"$a_{1}$\", r\"$a_{2}$\", r\"$a_{3}$\", r\"$a_{4}$\", r\"$a_{5}$\"]\n",
    "fig = plt.figure(figsize=(7,7))\n",
    "plt.title('PLGA PEG in water N = 6', fontsize=18)\n",
    "plt.bar(x_pos, rouse_n6plgapeg, width, ecolor='black',capsize=5, color='c', label='Rouse' )\n",
    "plt.bar(x_pos+width, zimm_n6plgapeg, width,ecolor='black',capsize=5, color='m', label='Zimm')\n",
    "plt.xticks(x_pos, labels=aa_eigen_ppn6, fontsize=12)\n",
    "plt.legend(fontsize=12 ,frameon=False)\n",
    "plt.ylabel(r'Rouse and Zimm eigenvalues', fontsize=15)"
   ]
  },
  {
   "cell_type": "code",
   "execution_count": null,
   "metadata": {},
   "outputs": [],
   "source": [
    "plt.figure(figsize=(8,8))\n",
    "plt.rcParams[\"font.family\"] = \"Arial\"\n",
    "plt.scatter(xdata_plgapegn6wat, ydata_plgapegn6wat, color='teal', s=s_n6)\n",
    "plt.plot(xdata_plgapegn6wat, twat_n6plgapeg, color='teal')\n",
    "plt.title(r'Positional bead autocorrelation PLGA PEG in water', fontsize=18, y=1.03)\n",
    "plt.xlabel(r'Time lag [ns]', fontsize=18)\n",
    "plt.ylabel('C(t)', fontsize=18)\n",
    "#plt.legend(fontsize=14, frameon=False)\n",
    "plt.xticks(fontsize=18)\n",
    "plt.yticks(fontsize=18)\n",
    "#plt.yscale('symlog', linthreshy=0.5)\n",
    "plt.xscale('symlog')\n",
    "plt.grid(b=True)\n",
    "plt.xlim(0,30)\n",
    "plt.ylim(-1,1)\n",
    "plt.tick_params(labelsize=18, direction='in', which='both', width=1, length=10)"
   ]
  },
  {
   "cell_type": "code",
   "execution_count": null,
   "metadata": {},
   "outputs": [],
   "source": [
    "rppwat_msen6 = np.array([ydata_plgapegn6wat - np.array(twat_n6plgapeg)])\n",
    "#rpwat_msen6"
   ]
  },
  {
   "cell_type": "code",
   "execution_count": null,
   "metadata": {},
   "outputs": [],
   "source": [
    "plt.figure(figsize=(7,7))\n",
    "plt.rcParams[\"font.family\"] = \"Arial\"\n",
    "plt.scatter(xdata_plgapegn6wat, rppwat_msen6, color='teal', s=s_n6)\n",
    "plt.title(r'Relaxation time Fitting Residuals PLGA-PEG in water', fontsize=18, y=1.01)\n",
    "plt.xlabel(r'Time lag [ns]', fontsize=18)\n",
    "plt.ylabel('Residuals', fontsize=18)\n",
    "plt.xticks(fontsize=14)\n",
    "plt.yticks(fontsize=14)\n",
    "plt.xlim([0,15])\n",
    "plt.ylim([-0.7,1])\n",
    "plt.tick_params(labelsize=15)"
   ]
  },
  {
   "cell_type": "markdown",
   "metadata": {},
   "source": [
    "### Radius of Gyration vs. time N = 6 PLGA-PEG in water"
   ]
  },
  {
   "cell_type": "code",
   "execution_count": null,
   "metadata": {},
   "outputs": [],
   "source": [
    "# Key variables \n",
    "n_mon = 6 \n",
    "start = 0\n",
    "end = 36001"
   ]
  },
  {
   "cell_type": "code",
   "execution_count": null,
   "metadata": {},
   "outputs": [],
   "source": [
    "n6plgapeg_rgens_wat, cor_n6plgapeg_wat, N6plgapeg_cos_wat, rgwat_n6plgapeg = get_rg_pers_poly(plgapeg_n6wat, n6_plgapeg_wat,\n",
    "                                                                                                  start,end)"
   ]
  },
  {
   "cell_type": "code",
   "execution_count": null,
   "metadata": {},
   "outputs": [],
   "source": [
    "n6plgapeg_rgens_wat[0].shape"
   ]
  },
  {
   "cell_type": "code",
   "execution_count": null,
   "metadata": {},
   "outputs": [],
   "source": [
    "cor_n6plgapeg_wat[3]"
   ]
  },
  {
   "cell_type": "code",
   "execution_count": null,
   "metadata": {},
   "outputs": [],
   "source": [
    "N6plgapeg_cos_wat"
   ]
  },
  {
   "cell_type": "code",
   "execution_count": null,
   "metadata": {},
   "outputs": [],
   "source": [
    "rgwat_n6plgapeg"
   ]
  },
  {
   "cell_type": "code",
   "execution_count": null,
   "metadata": {},
   "outputs": [],
   "source": [
    "n6plgapeg_rgens_wat.shape"
   ]
  },
  {
   "cell_type": "code",
   "execution_count": null,
   "metadata": {},
   "outputs": [],
   "source": [
    "trj_len = np.arange(36001)\n",
    "plt.figure(figsize=(7,7))\n",
    "plt.title(r'PLGA-PEG Radius of Gyration', fontsize=18, y=1.01)\n",
    "plt.xlabel(r'Time [ns]', fontsize=15)\n",
    "plt.ylabel(r'$R_{g}$ [nm]', fontsize=15)\n",
    "plt.plot(trj_len/100, n6plgapeg_rgens_wat[0]/10,linewidth=2, color='teal')\n",
    "plt.tick_params(labelsize=14)\n",
    "plt.legend(['N = 6 in water'], frameon=False, fontsize=14)\n",
    "#plt.text(127, 0.96,r'N = 6 in water', fontsize=18, color='#1F2E69', family='Arial')\n",
    "plt.xlim(0,360)\n",
    "plt.ylim(0.2,2)"
   ]
  },
  {
   "cell_type": "markdown",
   "metadata": {},
   "source": [
    "#### Rg Autocorrelation"
   ]
  },
  {
   "cell_type": "code",
   "execution_count": null,
   "metadata": {},
   "outputs": [],
   "source": [
    "ACn6plgapegwat_Rg, eqvarRg_n6plgapegwat = obs_autocorr_RA(n6plgapeg_rgens_wat[0],t_corr, window_shift,start,end)"
   ]
  },
  {
   "cell_type": "code",
   "execution_count": null,
   "metadata": {},
   "outputs": [],
   "source": [
    "ACn6plgapegwat_Rg"
   ]
  },
  {
   "cell_type": "code",
   "execution_count": null,
   "metadata": {},
   "outputs": [],
   "source": [
    "eqvarRg_n6plgapegwat"
   ]
  },
  {
   "cell_type": "code",
   "execution_count": null,
   "metadata": {},
   "outputs": [],
   "source": [
    "plt.figure(figsize=(7,7))\n",
    "plt.title(r'PEG in water autocorrelation', fontsize=18, y=1.01)\n",
    "plt.xlabel(r'Time [ns]', fontsize=15)\n",
    "plt.ylabel(r'$C_{A}(t)$', fontsize=15)\n",
    "plt.plot(ACn6plgapegwat_Rg[1]/100, ACn6plgapegwat_Rg[0],linewidth=2, color='teal')\n",
    "plt.tick_params(labelsize=14)\n",
    "plt.legend(['N = 6 Rg'], frameon=False, fontsize=14)\n",
    "#plt.yscale('symlog', linthreshy=0.5)\n",
    "#plt.xscale('symlog')\n",
    "plt.xlim(0,20)\n",
    "plt.ylim(-1,1)"
   ]
  },
  {
   "cell_type": "markdown",
   "metadata": {},
   "source": [
    "#### Get average COM distance, Arc length values"
   ]
  },
  {
   "cell_type": "code",
   "execution_count": 9,
   "metadata": {},
   "outputs": [],
   "source": [
    "cb_n6plga = np.zeros(shape=(36001))\n",
    "cb_n6pplinker = np.zeros(shape=(36001))\n",
    "cb_n6peg = np.zeros(shape=(36001))\n",
    "count = 0\n",
    "for ts in n6_plgapeg_wat.trajectory[0:36001]:\n",
    "    # 1st two PLGA residues\n",
    "    n6m1_plga = n6_plgapeg_wat.select_atoms(\"resid 1\")\n",
    "    n6m2_plga = n6_plgapeg_wat.select_atoms(\"resid 2\")\n",
    "    # PLGA-PEG linker\n",
    "    n6pl_link = n6_plgapeg_wat.select_atoms(\"resid 3\")\n",
    "    n6peg_link = n6_plgapeg_wat.select_atoms(\"resid 4\")\n",
    "    # last two PEG residues \n",
    "    n6l1_peg = n6_plgapeg_wat.select_atoms(\"resid 5\")\n",
    "    n6l2_peg = n6_plgapeg_wat.select_atoms(\"resid 6\")\n",
    "    \n",
    "    cb_n6plga[count] = mda.analysis.distances.distance_array(n6m1_plga.center_of_mass(), n6m2_plga.center_of_mass(), \n",
    "                                                   box=n6_plgapeg_wat.trajectory.ts.dimensions)\n",
    "    \n",
    "    cb_n6pplinker[count] = mda.analysis.distances.distance_array(n6pl_link.center_of_mass(), n6peg_link.center_of_mass(), \n",
    "                                                   box=n6_plgapeg_wat.trajectory.ts.dimensions)\n",
    "    \n",
    "    cb_n6peg[count] = mda.analysis.distances.distance_array(n6l1_peg.center_of_mass(), n6l2_peg.center_of_mass(), \n",
    "                                                   box=n6_plgapeg_wat.trajectory.ts.dimensions)\n",
    "    \n",
    "    count += 1\n",
    "    \n",
    "\n",
    "    "
   ]
  },
  {
   "cell_type": "code",
   "execution_count": 10,
   "metadata": {},
   "outputs": [
    {
     "data": {
      "text/plain": [
       "array([[5.39885887, 0.72308498],\n",
       "       [4.19863753, 0.37848645],\n",
       "       [3.24377771, 0.15432754]])"
      ]
     },
     "execution_count": 10,
     "metadata": {},
     "output_type": "execute_result"
    }
   ],
   "source": [
    "COM_n6pp = np.zeros(shape=(3,2))\n",
    "COM_n6pp[0,0] = np.mean(cb_n6plga)\n",
    "COM_n6pp[1,0] = np.mean(cb_n6pplinker)\n",
    "COM_n6pp[2,0] = np.mean(cb_n6peg)\n",
    "COM_n6pp[0,1] = np.std(cb_n6plga)\n",
    "COM_n6pp[1,1] = np.std(cb_n6pplinker)\n",
    "COM_n6pp[2,1] = np.std(cb_n6peg)\n",
    "COM_n6pp"
   ]
  },
  {
   "cell_type": "markdown",
   "metadata": {},
   "source": [
    "#### Correlation values at each arc length from the whole 360 ns trajectory, N = 6 PLGA-PEG/water"
   ]
  },
  {
   "cell_type": "code",
   "execution_count": null,
   "metadata": {},
   "outputs": [],
   "source": [
    "# x values\n",
    "blen_n6pp = np.zeros(shape=5)\n",
    "for i in range(n_mon-1):\n",
    "    if i < int((n_mon/2)-1):\n",
    "        # PLGA contour length values\n",
    "        if i == 0:\n",
    "            blen_n6pp[i] = 0\n",
    "        elif i != 0:\n",
    "            blen_n6pp[i] = np.sum(blen_n6pp[i-1]) + COM_n6pp[0,0]    \n",
    "    elif i == int((n_mon/2)-1):\n",
    "        #PLGA-PEG linker length\n",
    "        blen_n6pp[i] = np.sum(blen_n6pp[i-1]) + COM_n6pp[1,0]\n",
    "    elif i > int((n_mon/2)-1):\n",
    "    #    # PEG contour length values\n",
    "        blen_n6pp[i] = np.sum(blen_n6pp[i-1]) + COM_n6pp[2,0]\n",
    "        \n",
    "blen_n6pp"
   ]
  },
  {
   "cell_type": "code",
   "execution_count": null,
   "metadata": {},
   "outputs": [],
   "source": [
    "# Error prop. into natural log std deviation\n",
    "mk_n6ppwat = cor_n6plgapeg_wat[1]/cor_n6plgapeg_wat[0]\n",
    "mk_n6ppwat"
   ]
  },
  {
   "cell_type": "code",
   "execution_count": null,
   "metadata": {},
   "outputs": [],
   "source": [
    "plt.figure(figsize=(7,7))\n",
    "plt.errorbar(blen_n6pp, np.log(cor_n6plgapeg_wat[0]), yerr=mk_n6ppwat, color='teal', linestyle=\"None\",marker='o',\n",
    "     capsize=5, capthick=1, ecolor='black')"
   ]
  },
  {
   "cell_type": "code",
   "execution_count": null,
   "metadata": {},
   "outputs": [],
   "source": [
    "# All the points give the best fits for N = 6 peg in water\n",
    "n6_blksplgapeg_wat , n6plgapeg_lpwat = bavg_pers_cnt(5, plgapeg_n6wat, n6_plgapeg_wat, blen_n6pp, 3, 0 , 36001)"
   ]
  },
  {
   "cell_type": "code",
   "execution_count": null,
   "metadata": {},
   "outputs": [],
   "source": [
    "n6_blksplgapeg_wat"
   ]
  },
  {
   "cell_type": "code",
   "execution_count": null,
   "metadata": {},
   "outputs": [],
   "source": [
    "n6plgapeg_lpwat"
   ]
  },
  {
   "cell_type": "code",
   "execution_count": null,
   "metadata": {},
   "outputs": [],
   "source": [
    "n6plgapeg_lpwat[2]"
   ]
  },
  {
   "cell_type": "code",
   "execution_count": null,
   "metadata": {},
   "outputs": [],
   "source": [
    "np.mean(n6plgapeg_lpwat[3])"
   ]
  },
  {
   "cell_type": "markdown",
   "metadata": {},
   "source": [
    "#### line fitted to cosine theta values using mean slope"
   ]
  },
  {
   "cell_type": "code",
   "execution_count": null,
   "metadata": {},
   "outputs": [],
   "source": [
    "def line_fit(slope, x):\n",
    "    return slope*x "
   ]
  },
  {
   "cell_type": "code",
   "execution_count": null,
   "metadata": {},
   "outputs": [],
   "source": [
    "blen_n6pp"
   ]
  },
  {
   "cell_type": "code",
   "execution_count": null,
   "metadata": {},
   "outputs": [],
   "source": [
    "gg_n6plgapeg_wat = line_fit(np.mean(n6plgapeg_lpwat[2]),blen_n6pp)"
   ]
  },
  {
   "cell_type": "code",
   "execution_count": null,
   "metadata": {},
   "outputs": [],
   "source": [
    "gg_n6plgapeg_wat"
   ]
  },
  {
   "cell_type": "markdown",
   "metadata": {},
   "source": [
    "#### Block averaged Rg, Ree, Rh, mean sq. Ree and mean sq. Rg persistence length, N = 6 PLGA-PEG/water"
   ]
  },
  {
   "cell_type": "code",
   "execution_count": 12,
   "metadata": {},
   "outputs": [
    {
     "data": {
      "text/plain": [
       "21.483910690614188"
      ]
     },
     "execution_count": 12,
     "metadata": {},
     "output_type": "execute_result"
    }
   ],
   "source": [
    "blppn6 = []\n",
    "n_mon = 6\n",
    "for i in range(n_mon-1):\n",
    "    if i < int((n_mon/2)-1):\n",
    "        # PLGA contour length values\n",
    "        blppn6.append(COM_n6pp[0,0])    \n",
    "    elif i == int((n_mon/2)-1):\n",
    "        #PLGA-PEG linker length\n",
    "        blppn6.append(COM_n6pp[1,0]) \n",
    "    elif i > int((n_mon/2)-1):\n",
    "    #    # PEG contour length values\n",
    "        blppn6.append(COM_n6pp[2,0]) \n",
    "\n",
    "# Contour Length, N = 6 PLGA-PEG in water\n",
    "lc_ppn6 = np.sum(blppn6)\n",
    "lc_ppn6"
   ]
  },
  {
   "cell_type": "code",
   "execution_count": null,
   "metadata": {},
   "outputs": [],
   "source": [
    "# Ree^2/Rg^2 array at different contour lengths\n",
    "re2e_rgsq_plgapegwat = np.zeros(shape=(3,6))\n",
    "re2e_rgsq_plgapegwat[1,0] = lc_ppn6\n",
    "re2e_rgsq_plgapegwat"
   ]
  },
  {
   "cell_type": "code",
   "execution_count": null,
   "metadata": {},
   "outputs": [],
   "source": [
    "a_ppn6 = np.mean(n6_blksplgapeg_wat['Avg Sq. end to end distance'])"
   ]
  },
  {
   "cell_type": "code",
   "execution_count": null,
   "metadata": {},
   "outputs": [],
   "source": [
    "b_ppn6 = np.mean(n6_blksplgapeg_wat['Avg Sq. radius of gyration'])"
   ]
  },
  {
   "cell_type": "code",
   "execution_count": null,
   "metadata": {},
   "outputs": [],
   "source": [
    "re2e_rgsq_plgapegwat[0,0] = a_ppn6/b_ppn6\n",
    "re2e_rgsq_plgapegwat"
   ]
  },
  {
   "cell_type": "code",
   "execution_count": null,
   "metadata": {},
   "outputs": [],
   "source": [
    "# Rg/Rh array at different contour lengths \n",
    "rhy_rg_plgapegwat = np.zeros(shape=(3,6))\n",
    "rhy_rg_plgapegwat[1,0] = lc_ppn6\n",
    "rhy_rg_plgapegwat"
   ]
  },
  {
   "cell_type": "code",
   "execution_count": null,
   "metadata": {},
   "outputs": [],
   "source": [
    "aa_ppn6 = np.mean(n6_blksplgapeg_wat['Avg Radius of gyration'])"
   ]
  },
  {
   "cell_type": "code",
   "execution_count": null,
   "metadata": {},
   "outputs": [],
   "source": [
    "bb_ppn6 = np.mean(n6_blksplgapeg_wat['Avg Hydrodynamic radius'])"
   ]
  },
  {
   "cell_type": "code",
   "execution_count": null,
   "metadata": {},
   "outputs": [],
   "source": [
    "rhy_rg_plgapegwat[0,0] = aa_ppn6/bb_ppn6\n",
    "rhy_rg_plgapegwat"
   ]
  },
  {
   "cell_type": "code",
   "execution_count": null,
   "metadata": {},
   "outputs": [],
   "source": [
    "# Kuhn length array at different monomer lengths\n",
    "kuhnlpL_plgapegwat = np.zeros(shape=(3,6))\n",
    "kuhnlpL_plgapegwat[1] = np.array([6,8,10,16,20,30])\n",
    "kuhnlpL_plgapegwat"
   ]
  },
  {
   "cell_type": "code",
   "execution_count": null,
   "metadata": {},
   "outputs": [],
   "source": [
    "# pers length/contour length \n",
    "kuhnlpL_plgapegwat[0,0] = np.mean(n6_blksplgapeg_wat[\"Avg persistence length\"])/lc_ppn6\n",
    "kuhnlpL_plgapegwat"
   ]
  },
  {
   "cell_type": "markdown",
   "metadata": {},
   "source": [
    "#### Block averaged Radius of gyration and persistence length, N = 6 PLGA-PEG/water"
   ]
  },
  {
   "cell_type": "code",
   "execution_count": null,
   "metadata": {},
   "outputs": [],
   "source": [
    "np.mean(n6_blksplgapeg_wat[\"Avg persistence length\"])"
   ]
  },
  {
   "cell_type": "code",
   "execution_count": null,
   "metadata": {},
   "outputs": [],
   "source": [
    "np.std(n6_blksplgapeg_wat[\"Avg persistence length\"])"
   ]
  },
  {
   "cell_type": "code",
   "execution_count": null,
   "metadata": {},
   "outputs": [],
   "source": [
    "np.mean(n6_blksplgapeg_wat[\"Avg Radius of gyration\"])"
   ]
  },
  {
   "cell_type": "code",
   "execution_count": null,
   "metadata": {},
   "outputs": [],
   "source": [
    "np.std(n6_blksplgapeg_wat[\"Avg Radius of gyration\"])"
   ]
  },
  {
   "cell_type": "code",
   "execution_count": null,
   "metadata": {},
   "outputs": [],
   "source": [
    "plt.figure(figsize=(7,7))\n",
    "plt.errorbar(blen_n6pp, np.log(cor_n6plgapeg_wat[0]), yerr=mk_n6ppwat, color='teal', linestyle=\"None\",marker='o',\n",
    "     capsize=5, capthick=1, ecolor='black')\n",
    "plt.plot(blen_n6pp, gg_n6plgapeg_wat, color='teal')\n",
    "plt.title(r'Ensemble Averaged ln(Cosine $\\theta$) in water', fontsize=15, y=1.01)\n",
    "plt.xlabel(r'Bond Length', fontsize=15)\n",
    "plt.ylabel(r'ln$\\left< Cos(\\theta)\\right >$', fontsize=15)\n",
    "#plt.ylim(-1.9,0)\n",
    "font = font_manager.FontProperties(family='Arial', style='normal', size='14')\n",
    "plt.legend([r'$N_{PLGA-PEG}$ = 6: $L_{p}$ = 19.4 $\\AA$ ± 1.43 $\\AA$'], loc=3, frameon=0, fontsize=14, prop=font)\n",
    "plt.tick_params(labelsize=14)\n",
    "#plt.text(0.5, -6.94,r'$N_{PEG}$ = 6: $L_{p}$ = 18.8 $\\AA$ ± 3.61 $\\AA$', fontsize=15, color='#1F2E69')"
   ]
  },
  {
   "cell_type": "code",
   "execution_count": null,
   "metadata": {},
   "outputs": [],
   "source": [
    "rgplgapeg_olig_wat =  pd.DataFrame(data=n6_blksplgapeg_wat[\"Avg Radius of gyration\"], columns=['$R_{g}$ [Angstrom] N = 6 PLGA-PEG water'])\n",
    "rgplgapeg_olig_wat"
   ]
  },
  {
   "cell_type": "code",
   "execution_count": null,
   "metadata": {},
   "outputs": [],
   "source": [
    "pers_plgapegt_wat = pd.DataFrame(data=n6_blksplgapeg_wat[\"Avg persistence length\"], columns=[r\"$L_{p}$ [Angstrom] N = 6 PLGA-PEG water\"])\n",
    "pers_plgapegt_wat"
   ]
  },
  {
   "cell_type": "code",
   "execution_count": null,
   "metadata": {},
   "outputs": [],
   "source": []
  },
  {
   "cell_type": "code",
   "execution_count": null,
   "metadata": {},
   "outputs": [],
   "source": []
  },
  {
   "cell_type": "code",
   "execution_count": null,
   "metadata": {},
   "outputs": [],
   "source": []
  },
  {
   "cell_type": "markdown",
   "metadata": {},
   "source": [
    "### N = 8 PLGA-PEG/water "
   ]
  },
  {
   "cell_type": "code",
   "execution_count": null,
   "metadata": {},
   "outputs": [],
   "source": [
    "# For the right Rg calculation using MD Analysis, use trajactory without pbc \n",
    "n8_plgapeg_wat = mda.Universe(\"n8plga_peg_wat/n8plgapeg_WAT.pdb\", \"n8plga_peg_wat/NoWat_n8plgapeg.xtc\")"
   ]
  },
  {
   "cell_type": "code",
   "execution_count": null,
   "metadata": {},
   "outputs": [],
   "source": [
    "n8_plgapeg_wat.trajectory"
   ]
  },
  {
   "cell_type": "code",
   "execution_count": null,
   "metadata": {},
   "outputs": [],
   "source": [
    "len(n8_plgapeg_wat.trajectory)"
   ]
  },
  {
   "cell_type": "code",
   "execution_count": null,
   "metadata": {},
   "outputs": [],
   "source": [
    "#Select the polymer heavy atoms \n",
    "plgapeg_n8wat = n8_plgapeg_wat.select_atoms(\"resname sPLG PLG bPLG bPEG PEG sPEG and not type H\")"
   ]
  },
  {
   "cell_type": "code",
   "execution_count": null,
   "metadata": {},
   "outputs": [],
   "source": [
    "np.unique(plgapeg_n8wat.resids)"
   ]
  },
  {
   "cell_type": "code",
   "execution_count": null,
   "metadata": {},
   "outputs": [],
   "source": [
    "# Get cosine theta values at frame 0 \n",
    "crv_n8plgapeg_wat = pers_length(plgapeg_n8wat,8)\n",
    "crv_n8plgapeg_wat"
   ]
  },
  {
   "cell_type": "markdown",
   "metadata": {},
   "source": [
    "### Orientation Order parameter vs. time "
   ]
  },
  {
   "cell_type": "code",
   "execution_count": null,
   "metadata": {},
   "outputs": [],
   "source": [
    "n8_mon = 8 \n",
    "start = 0\n",
    "end = 36001"
   ]
  },
  {
   "cell_type": "code",
   "execution_count": null,
   "metadata": {},
   "outputs": [],
   "source": [
    "OOp_n8plgapeg_wat = orientation_order_param(plgapeg_n8wat, n8_plgapeg_wat, n8_mon, start, end)"
   ]
  },
  {
   "cell_type": "code",
   "execution_count": null,
   "metadata": {},
   "outputs": [],
   "source": [
    "OOp_n8plgapeg_wat.shape"
   ]
  },
  {
   "cell_type": "code",
   "execution_count": null,
   "metadata": {},
   "outputs": [],
   "source": [
    "trj_len = np.arange(36001)\n",
    "plt.figure(figsize=(7,7))\n",
    "plt.title(r'PLGA-PEG Orientation Order Parameter', fontsize=18, y=1.01)\n",
    "plt.xlabel(r'Time [ns]', fontsize=15)\n",
    "plt.ylabel(r'Z', fontsize=15)\n",
    "plt.plot(trj_len/100, OOp_n6plgapeg_wat,linewidth=2, color='teal')\n",
    "plt.plot(trj_len/100, OOp_n8plgapeg_wat,linewidth=2, color='dodgerblue')\n",
    "plt.tick_params(labelsize=14)\n",
    "plt.legend(['N = 6 in Water', 'N = 8 in Water'], frameon=False, fontsize=14)\n",
    "#plt.text(127, 0.96,r'N = 6 in water', fontsize=18, color='#1F2E69', family='Arial')\n",
    "plt.xlim(0,360)\n",
    "plt.ylim(-1,1)"
   ]
  },
  {
   "cell_type": "markdown",
   "metadata": {},
   "source": [
    "#### Mean Orientation Order Parameter for N = 8 PLGA-PEG in water"
   ]
  },
  {
   "cell_type": "code",
   "execution_count": null,
   "metadata": {},
   "outputs": [],
   "source": [
    "OOp_n8plgapeg_wat[82]"
   ]
  },
  {
   "cell_type": "code",
   "execution_count": null,
   "metadata": {},
   "outputs": [],
   "source": [
    "OOp_n8plgapeg_wat[239]"
   ]
  },
  {
   "cell_type": "code",
   "execution_count": null,
   "metadata": {},
   "outputs": [],
   "source": [
    "np.mean(OOp_n8plgapeg_wat)"
   ]
  },
  {
   "cell_type": "code",
   "execution_count": null,
   "metadata": {},
   "outputs": [],
   "source": [
    "np.std(OOp_n8plgapeg_wat)"
   ]
  },
  {
   "cell_type": "markdown",
   "metadata": {},
   "source": [
    "### Mean squared end to end distance "
   ]
  },
  {
   "cell_type": "code",
   "execution_count": null,
   "metadata": {},
   "outputs": [],
   "source": [
    "eVec_n8plgapeg_wat, e2edis_n8plgapeg_wat = mean_sq_e2e(plgapeg_n8wat, n8_plgapeg_wat, n8_mon, start, end)"
   ]
  },
  {
   "cell_type": "code",
   "execution_count": null,
   "metadata": {},
   "outputs": [],
   "source": [
    "trj_len = np.arange(36001)\n",
    "plt.figure(figsize=(7,7))\n",
    "plt.title(r'PLGA-PEG End to End distance', fontsize=18, y=1.01)\n",
    "plt.xlabel(r'Time [ns]', fontsize=15)\n",
    "plt.ylabel(r'$R_{ee}$ [nm]', fontsize=15)\n",
    "plt.plot(trj_len/100, e2edis_n6plgapeg_wat[1]/10,linewidth=2, color='teal')\n",
    "plt.plot(trj_len/100, e2edis_n8plgapeg_wat[1]/10,linewidth=2, color='dodgerblue')\n",
    "plt.tick_params(labelsize=14)\n",
    "plt.legend(['N = 6 in Water', 'N = 8 in Water'], frameon=False, fontsize=14)\n",
    "#plt.text(127, 0.96,r'N = 6 in water', fontsize=18, color='#1F2E69', family='Arial')\n",
    "plt.xlim(0,360)\n",
    "plt.ylim(0,7)"
   ]
  },
  {
   "cell_type": "markdown",
   "metadata": {},
   "source": [
    "#### Ree Autocorrelation function"
   ]
  },
  {
   "cell_type": "code",
   "execution_count": null,
   "metadata": {},
   "outputs": [],
   "source": [
    "e2edis_n8plgapeg_wat[1]"
   ]
  },
  {
   "cell_type": "code",
   "execution_count": null,
   "metadata": {},
   "outputs": [],
   "source": [
    "ACn8plgapegwat_Ree, eqvar_n8plgapegwat = obs_autocorr_RA(e2edis_n8plgapeg_wat[1],t_corr, window_shift,start,end)"
   ]
  },
  {
   "cell_type": "code",
   "execution_count": null,
   "metadata": {},
   "outputs": [],
   "source": [
    "ACn8plgapegwat_Ree"
   ]
  },
  {
   "cell_type": "code",
   "execution_count": null,
   "metadata": {},
   "outputs": [],
   "source": [
    "eqvar_n8plgapegwat"
   ]
  },
  {
   "cell_type": "code",
   "execution_count": null,
   "metadata": {},
   "outputs": [],
   "source": [
    "ACn8plgapegwat_sqRee, evsqRee_n8plgapegwat = obs_autocorr_RA(e2edis_n8plgapeg_wat[0],t_corr, window_shift,start,end)"
   ]
  },
  {
   "cell_type": "code",
   "execution_count": null,
   "metadata": {},
   "outputs": [],
   "source": [
    "np.sqrt(evsqRee_n8plgapegwat)"
   ]
  },
  {
   "cell_type": "code",
   "execution_count": null,
   "metadata": {},
   "outputs": [],
   "source": [
    "plt.figure(figsize=(7,7))\n",
    "plt.title(r'PLGA-PEG Ree autocorrelation', fontsize=18, y=1.01)\n",
    "plt.xlabel(r'Time [ns]', fontsize=15)\n",
    "plt.ylabel(r'$C_{A}(t)$', fontsize=15)\n",
    "plt.plot(ACn6plgapegwat_Ree[1]/100, ACn6plgapegwat_Ree[0],linewidth=2, color='teal')\n",
    "plt.plot(ACn8plgapegwat_Ree[1]/100, ACn8plgapegwat_Ree[0],linewidth=2, color='dodgerblue')\n",
    "plt.tick_params(labelsize=14)\n",
    "plt.legend(['N = 6 Ree','N = 8 Ree'], frameon=False, fontsize=14)\n",
    "#plt.yscale('symlog', linthreshy=0.5)\n",
    "#plt.xscale('symlog')\n",
    "plt.xlim(0,20)\n",
    "plt.ylim(-1,1)"
   ]
  },
  {
   "cell_type": "markdown",
   "metadata": {},
   "source": [
    "### Hydrodynamic Radius vs time"
   ]
  },
  {
   "cell_type": "code",
   "execution_count": null,
   "metadata": {},
   "outputs": [],
   "source": [
    "plgapegn8wat_rh = hydro_rad_poly(plgapeg_n8wat, n8_plgapeg_wat, n8_mon, start, end)"
   ]
  },
  {
   "cell_type": "code",
   "execution_count": null,
   "metadata": {},
   "outputs": [],
   "source": [
    "trj_len = np.arange(36001)\n",
    "plt.figure(figsize=(7,7))\n",
    "plt.title(r'PLGA-PEG Hydrodynamic Radius', fontsize=18, y=1.01)\n",
    "plt.xlabel(r'Time [ns]', fontsize=15)\n",
    "plt.ylabel(r'$R_{hyd}$ [nm]', fontsize=15)\n",
    "plt.plot(trj_len/100, plgapegn6wat_rh/10,linewidth=2, color='teal')\n",
    "plt.plot(trj_len/100, plgapegn8wat_rh/10,linewidth=2, color='dodgerblue')\n",
    "plt.tick_params(labelsize=14)\n",
    "plt.legend(['N = 6 in Water', 'N = 8 in Water'], frameon=False, fontsize=14)\n",
    "#plt.text(127, 0.96,r'N = 6 in water', fontsize=18, color='#1F2E69', family='Arial')\n",
    "plt.xlim(0,360)\n",
    "plt.ylim(0,7)"
   ]
  },
  {
   "cell_type": "markdown",
   "metadata": {},
   "source": [
    "#### Rh autocorrelation"
   ]
  },
  {
   "cell_type": "code",
   "execution_count": null,
   "metadata": {},
   "outputs": [],
   "source": [
    "t_corr = 4000\n",
    "window_shift = 15"
   ]
  },
  {
   "cell_type": "code",
   "execution_count": null,
   "metadata": {},
   "outputs": [],
   "source": [
    "ACn8plgapegwatRh, eqvarRh_n8plgapegwat = obs_autocorr_RA(plgapegn8wat_rh,t_corr, window_shift,start,end)"
   ]
  },
  {
   "cell_type": "code",
   "execution_count": null,
   "metadata": {},
   "outputs": [],
   "source": [
    "ACn8plgapegwatRh"
   ]
  },
  {
   "cell_type": "code",
   "execution_count": null,
   "metadata": {},
   "outputs": [],
   "source": [
    "eqvarRh_n8plgapegwat"
   ]
  },
  {
   "cell_type": "code",
   "execution_count": null,
   "metadata": {},
   "outputs": [],
   "source": [
    "plt.figure(figsize=(7,7))\n",
    "plt.title(r'PLGA-PEG Rh autocorrelation', fontsize=18, y=1.01)\n",
    "plt.xlabel(r'Time [ns]', fontsize=15)\n",
    "plt.ylabel(r'$C_{Rh}(t)$', fontsize=15)\n",
    "plt.plot(ACn6plgapegwatRh[1]/100, ACn6plgapegwatRh[0],linewidth=2, color='teal')\n",
    "plt.plot(ACn8plgapegwatRh[1]/100, ACn8plgapegwatRh[0],linewidth=2, color='dodgerblue')\n",
    "plt.tick_params(labelsize=14)\n",
    "plt.legend(['N = 6 in water','N = 8 in water'], frameon=False, fontsize=14)\n",
    "plt.xlim(0,20)\n",
    "#plt.ylim(-0.2,1)"
   ]
  },
  {
   "cell_type": "markdown",
   "metadata": {},
   "source": [
    "### Relaxation times vs monomer length "
   ]
  },
  {
   "cell_type": "code",
   "execution_count": null,
   "metadata": {},
   "outputs": [],
   "source": [
    "# Key variables \n",
    "# def pos_bead_autocorr_RA(polymer_atoms, universe, n_monomers, t_corr,  start, end):\n",
    "n8_mon = 8 \n",
    "start = 0\n",
    "end = 36001\n",
    "t_corr = 1000\n",
    "window_shift = 20"
   ]
  },
  {
   "cell_type": "code",
   "execution_count": null,
   "metadata": {},
   "outputs": [],
   "source": [
    "s_time = timeit.default_timer()\n",
    "tcRA_plgapegn8wat, tcSUM_plgapegn8wat = pos_bead_autocorr_RA(plgapeg_n8wat, n8_plgapeg_wat, n8_mon, t_corr, window_shift, start, end)\n",
    "timeit.default_timer() - s_time"
   ]
  },
  {
   "cell_type": "code",
   "execution_count": null,
   "metadata": {},
   "outputs": [],
   "source": [
    "tcRA_plgapegn8wat"
   ]
  },
  {
   "cell_type": "code",
   "execution_count": null,
   "metadata": {},
   "outputs": [],
   "source": [
    "tcSUM_plgapegn8wat.shape"
   ]
  },
  {
   "cell_type": "markdown",
   "metadata": {},
   "source": [
    "### Fitting autocorrelation data "
   ]
  },
  {
   "cell_type": "code",
   "execution_count": null,
   "metadata": {},
   "outputs": [],
   "source": [
    "xdata_plgapegn8wat = tcRA_plgapegn8wat[1]/100\n",
    "ydata_plgapegn8wat = tcRA_plgapegn8wat[0]"
   ]
  },
  {
   "cell_type": "code",
   "execution_count": null,
   "metadata": {},
   "outputs": [],
   "source": [
    "ydata_plgapegn8wat.shape"
   ]
  },
  {
   "cell_type": "code",
   "execution_count": null,
   "metadata": {},
   "outputs": [],
   "source": [
    "xdata_plgapegn8wat.shape"
   ]
  },
  {
   "cell_type": "code",
   "execution_count": null,
   "metadata": {},
   "outputs": [],
   "source": [
    "plt.figure(figsize=(8,8))\n",
    "plt.rcParams[\"font.family\"] = \"Arial\"\n",
    "plt.scatter(xdata_plgapegn6wat, ydata_plgapegn6wat, color='teal', s=s_n6)\n",
    "plt.scatter(xdata_plgapegn8wat, ydata_plgapegn8wat, color='dodgerblue', s=s_n8)\n",
    "plt.title(r'Positional bead autocorrelation PLGA-PEG in Water', fontsize=18, y=1.03)\n",
    "plt.xlabel(r'Time lag [ns]', fontsize=18)\n",
    "plt.ylabel('C(t)', fontsize=18)\n",
    "#plt.legend(fontsize=14, frameon=False)\n",
    "plt.xticks(fontsize=18)\n",
    "plt.yticks(fontsize=18)\n",
    "#plt.yscale('symlog', linthreshy=0.5)\n",
    "plt.xscale('symlog')\n",
    "plt.grid(b=True)\n",
    "plt.xlim(0,30)\n",
    "plt.ylim(-1,1)\n",
    "plt.tick_params(labelsize=18, direction='in', which='both', width=1, length=10)"
   ]
  },
  {
   "cell_type": "code",
   "execution_count": null,
   "metadata": {},
   "outputs": [],
   "source": [
    "rouse_relax(1, 2, 6)"
   ]
  },
  {
   "cell_type": "code",
   "execution_count": null,
   "metadata": {},
   "outputs": [],
   "source": [
    "ts = 1\n",
    "hs = 0.1\n",
    "n8_mon = 8\n",
    "n_b = n8_mon - 1\n",
    "tr1 = 2\n",
    "zimm_relax_fit(ts,tr1,hs,n_b)"
   ]
  },
  {
   "cell_type": "code",
   "execution_count": null,
   "metadata": {},
   "outputs": [],
   "source": [
    "zimm_relax_func(ts,tr1,hs,n_b)"
   ]
  },
  {
   "cell_type": "code",
   "execution_count": null,
   "metadata": {},
   "outputs": [],
   "source": [
    "def res_plgapegn8wat(variabls, xnp, ynp):\n",
    "    #hs_np = variabls['h_star']\n",
    "    hs_np = 0.26\n",
    "    tr1_np = variabls['t_first']\n",
    "    n_bonds = 7\n",
    "    testnp = []\n",
    "    for i in range(len(xnp)):\n",
    "        model_ynp = zimm_relax_fit(xnp[i], tr1_np, hs_np, n_bonds)\n",
    "        #model_ynp = rouse_relax(xnp[i], tr1_np, n_m)\n",
    "        testnp.append(ynp[i] - model_ynp)\n",
    "    \n",
    "    tt_n6 = np.array(testnp)\n",
    "\n",
    "    return tt_n6\n",
    "    \n",
    "#x1 = np.array([0,0])\n",
    "#pfit, pcov, infodict, errmsg, success = leastsq(res_poly, x1, args=(xdata, ydata), full_output=1)"
   ]
  },
  {
   "cell_type": "code",
   "execution_count": null,
   "metadata": {},
   "outputs": [],
   "source": [
    "ppfit_n8wat = Parameters()\n",
    "#ppfit_n8wat.add(name='h_star', value=0, min=0, max=0.26, vary=True)\n",
    "ppfit_n8wat.add(name='t_first', value=2)"
   ]
  },
  {
   "cell_type": "code",
   "execution_count": null,
   "metadata": {},
   "outputs": [],
   "source": [
    "mini_ppn8wat = Minimizer(res_plgapegn8wat, ppfit_n8wat, fcn_args=(xdata_plgapegn8wat, ydata_plgapegn8wat))\n",
    "out_ppn8wat = mini_ppn8wat.leastsq()\n",
    "#bfit_n10 = ydata_n10wat + out_n10wat.residual "
   ]
  },
  {
   "cell_type": "code",
   "execution_count": null,
   "metadata": {},
   "outputs": [],
   "source": [
    "report_fit(out_ppn8wat.params)"
   ]
  },
  {
   "cell_type": "code",
   "execution_count": null,
   "metadata": {},
   "outputs": [],
   "source": [
    "out_ppn8wat.params"
   ]
  },
  {
   "cell_type": "code",
   "execution_count": null,
   "metadata": {},
   "outputs": [],
   "source": [
    "# with h varying, tr = 0.39469879 +/- 0.00246941,h* = 0.25999921 +/- 0.04222828\n",
    "twat_n8plgapeg = []\n",
    "n_bonds = 7\n",
    "for i in range(len(xdata_plgapegn8wat)):\n",
    "    twat_n8plgapeg.append(zimm_relax_fit(xdata_plgapegn8wat[i], 0.39577315, 0.26,  n_bonds))\n"
   ]
  },
  {
   "cell_type": "code",
   "execution_count": null,
   "metadata": {},
   "outputs": [],
   "source": [
    "t_c, tz_n8plgapeg, zimm_n8plgapeg, rouse_n8plgapeg = zimm_relax_func(1, 0.39577315, 0.26,  n_bonds)"
   ]
  },
  {
   "cell_type": "code",
   "execution_count": null,
   "metadata": {},
   "outputs": [],
   "source": [
    "x_pos_n6 = np.arange(5)\n",
    "x_pos_n8 = np.arange(7)\n",
    "width = 0.25\n",
    "aa_types_n8 = [r\"$\\tau_{1}$\", r\"$\\tau_{2}$\", r\"$\\tau_{3}$\", r\"$\\tau_{4}$\", r\"$\\tau_{5}$\",r\"$\\tau_{6}$\",r\"$\\tau_{7}$\"]\n",
    "fig = plt.figure(figsize=(7,7))\n",
    "plt.title('PLGA-PEG in water', fontsize=18, y=1.03)\n",
    "plt.bar(x_pos_n6+width, tz_n6plgapeg, width, ecolor='black',capsize=5, color='teal', label=\"N = 6\")\n",
    "plt.bar(x_pos_n8, tz_n8plgapeg, width, ecolor='black',capsize=5, color='dodgerblue', label='N = 8')\n",
    "plt.xticks(x_pos_n6+width, labels=aa_types, fontsize=12)\n",
    "plt.xticks(x_pos_n8, labels=aa_types_n8, fontsize=12)\n",
    "plt.legend(fontsize=12 ,frameon=False)\n",
    "plt.ylabel(r'Relaxation times [ns]', fontsize=15)"
   ]
  },
  {
   "cell_type": "code",
   "execution_count": null,
   "metadata": {},
   "outputs": [],
   "source": [
    "aa_eigen_n8 = [r\"$a_{1}$\", r\"$a_{2}$\", r\"$a_{3}$\", r\"$a_{4}$\", r\"$a_{5}$\",r\"$a_{6}$\",r\"$a_{7}$\"]\n",
    "fig = plt.figure(figsize=(7,7))\n",
    "plt.title('PLGA-PEG in water N = 8', fontsize=18)\n",
    "plt.bar(x_pos_n8, rouse_n8plgapeg, width,ecolor='black',capsize=5, color='c', label='Rouse')\n",
    "plt.bar(x_pos_n8+width, zimm_n8plgapeg, width,ecolor='black',capsize=5, color='m', label='Zimm')\n",
    "plt.xticks(x_pos_n8+width,labels=aa_eigen_n8, fontsize=12)\n",
    "plt.legend(fontsize=12 ,frameon=False)\n",
    "plt.ylabel(r'Rouse and Zimm eigenvalues', fontsize=15)"
   ]
  },
  {
   "cell_type": "code",
   "execution_count": null,
   "metadata": {},
   "outputs": [],
   "source": [
    "plt.figure(figsize=(8,8))\n",
    "plt.rcParams[\"font.family\"] = \"Arial\"\n",
    "plt.scatter(xdata_plgapegn6wat, ydata_plgapegn6wat, color='teal', s=s_n6)\n",
    "plt.scatter(xdata_plgapegn8wat, ydata_plgapegn8wat, color='dodgerblue', s=s_n8)\n",
    "plt.plot(xdata_plgapegn6wat, twat_n6plgapeg, color='teal')\n",
    "plt.plot(xdata_plgapegn8wat, twat_n8plgapeg, color='dodgerblue')\n",
    "plt.title(r'Positional bead autocorrelation PLGA-PEG in water', fontsize=18, y=1.03)\n",
    "plt.xlabel(r'Time lag [ns]', fontsize=18)\n",
    "plt.ylabel('C(t)', fontsize=18)\n",
    "#plt.legend(fontsize=14, frameon=False)\n",
    "plt.xticks(fontsize=18)\n",
    "plt.yticks(fontsize=18)\n",
    "#plt.yscale('symlog', linthreshy=0.5)\n",
    "plt.xscale('symlog')\n",
    "plt.grid(b=True)\n",
    "plt.xlim(0,30)\n",
    "plt.ylim(-1,1)\n",
    "plt.tick_params(labelsize=18, direction='in', which='both', width=1, length=10)"
   ]
  },
  {
   "cell_type": "code",
   "execution_count": null,
   "metadata": {},
   "outputs": [],
   "source": [
    "rppwat_msen8 = np.array([ydata_plgapegn8wat - np.array(twat_n8plgapeg)])\n",
    "#rpwat_msen6"
   ]
  },
  {
   "cell_type": "code",
   "execution_count": null,
   "metadata": {},
   "outputs": [],
   "source": [
    "plt.figure(figsize=(7,7))\n",
    "plt.rcParams[\"font.family\"] = \"Arial\"\n",
    "plt.scatter(xdata_plgapegn6wat, rppwat_msen6, color='teal', s=s_n6)\n",
    "plt.scatter(xdata_plgapegn8wat, rppwat_msen8, color='dodgerblue', s=s_n8)\n",
    "plt.title(r'Relaxation time Fitting Residuals PlGA-PEG in water', fontsize=18, y=1.01)\n",
    "plt.xlabel(r'Time lag [ns]', fontsize=18)\n",
    "plt.ylabel('Residuals', fontsize=18)\n",
    "plt.xticks(fontsize=14)\n",
    "plt.yticks(fontsize=14)\n",
    "plt.xlim([0,10])\n",
    "plt.ylim([-0.7,1])\n",
    "plt.tick_params(labelsize=15)"
   ]
  },
  {
   "cell_type": "markdown",
   "metadata": {},
   "source": [
    "#### Radius of Gyration vs. time N = 8 PLGA-PEG in water"
   ]
  },
  {
   "cell_type": "code",
   "execution_count": null,
   "metadata": {},
   "outputs": [],
   "source": [
    "# Key variables \n",
    "n8_mon = 8 \n",
    "start = 0\n",
    "end = 36001"
   ]
  },
  {
   "cell_type": "code",
   "execution_count": null,
   "metadata": {},
   "outputs": [],
   "source": [
    "n8plgapeg_rgens_wat, cor_n8plgapeg_wat, N8plgapeg_cos_wat, rgwat_n8plgapeg = get_rg_pers_poly(plgapeg_n8wat, n8_plgapeg_wat,\n",
    "                                                                                                  start,end)"
   ]
  },
  {
   "cell_type": "code",
   "execution_count": null,
   "metadata": {},
   "outputs": [],
   "source": [
    "n8plgapeg_rgens_wat[0].shape"
   ]
  },
  {
   "cell_type": "code",
   "execution_count": null,
   "metadata": {},
   "outputs": [],
   "source": [
    "cor_n8plgapeg_wat[3]"
   ]
  },
  {
   "cell_type": "code",
   "execution_count": null,
   "metadata": {},
   "outputs": [],
   "source": [
    "N8plgapeg_cos_wat"
   ]
  },
  {
   "cell_type": "code",
   "execution_count": null,
   "metadata": {},
   "outputs": [],
   "source": [
    "rgwat_n8plgapeg"
   ]
  },
  {
   "cell_type": "code",
   "execution_count": null,
   "metadata": {},
   "outputs": [],
   "source": [
    "n8plgapeg_rgens_wat.shape"
   ]
  },
  {
   "cell_type": "code",
   "execution_count": null,
   "metadata": {},
   "outputs": [],
   "source": [
    "trj_len = np.arange(36001)\n",
    "plt.figure(figsize=(7,7))\n",
    "plt.title(r'PLGA-PEG Radius of Gyration', fontsize=18, y=1.01)\n",
    "plt.xlabel(r'Time [ns]', fontsize=15)\n",
    "plt.ylabel(r'$R_{g}$ [nm]', fontsize=15)\n",
    "plt.plot(trj_len/100, n6plgapeg_rgens_wat[0]/10,linewidth=2, color='teal')\n",
    "plt.plot(trj_len/100, n8plgapeg_rgens_wat[0]/10,linewidth=2, color='dodgerblue')\n",
    "plt.tick_params(labelsize=14)\n",
    "plt.legend(['N = 6 in Water', 'N = 8 in Water'], frameon=False, fontsize=14)\n",
    "#plt.text(127, 0.96,r'N = 6 in water', fontsize=18, color='#1F2E69', family='Arial')\n",
    "plt.xlim(0,360)\n",
    "plt.ylim(0.2,2)"
   ]
  },
  {
   "cell_type": "markdown",
   "metadata": {},
   "source": [
    "#### Rg Autocorrelation"
   ]
  },
  {
   "cell_type": "code",
   "execution_count": null,
   "metadata": {},
   "outputs": [],
   "source": [
    "t_corr = 4000\n",
    "window_shift = 15"
   ]
  },
  {
   "cell_type": "code",
   "execution_count": null,
   "metadata": {},
   "outputs": [],
   "source": [
    "ACn8plgapegwat_Rg, eqvarRg_n8plgapegwat = obs_autocorr_RA(n8plgapeg_rgens_wat[0],t_corr, window_shift,start,end)"
   ]
  },
  {
   "cell_type": "code",
   "execution_count": null,
   "metadata": {},
   "outputs": [],
   "source": [
    "ACn8plgapegwat_Rg"
   ]
  },
  {
   "cell_type": "code",
   "execution_count": null,
   "metadata": {},
   "outputs": [],
   "source": [
    "eqvarRg_n8plgapegwat"
   ]
  },
  {
   "cell_type": "code",
   "execution_count": null,
   "metadata": {},
   "outputs": [],
   "source": [
    "plt.figure(figsize=(7,7))\n",
    "plt.title(r'PLGA-PEG in water autocorrelation', fontsize=18, y=1.01)\n",
    "plt.xlabel(r'Time [ns]', fontsize=15)\n",
    "plt.ylabel(r'$C_{A}(t)$', fontsize=15)\n",
    "plt.plot(ACn6plgapegwat_Rg[1]/100, ACn6plgapegwat_Rg[0],linewidth=2, color='teal')\n",
    "plt.plot(ACn8plgapegwat_Rg[1]/100, ACn8plgapegwat_Rg[0],linewidth=2, color='dodgerblue')\n",
    "plt.tick_params(labelsize=14)\n",
    "plt.legend(['N = 6 Rg','N = 8 Rg'], frameon=False, fontsize=14)\n",
    "#plt.yscale('symlog', linthreshy=0.5)\n",
    "#plt.xscale('symlog')\n",
    "plt.xlim(0,20)\n",
    "plt.ylim(-1,1)"
   ]
  },
  {
   "cell_type": "markdown",
   "metadata": {},
   "source": [
    "#### Get average COM distance, Contour length calc"
   ]
  },
  {
   "cell_type": "code",
   "execution_count": null,
   "metadata": {},
   "outputs": [],
   "source": [
    "cb_n8plga = np.zeros(shape=(36001))\n",
    "cb_n8pplinker = np.zeros(shape=(36001))\n",
    "cb_n8peg = np.zeros(shape=(36001))\n",
    "count = 0\n",
    "for ts in n8_plgapeg_wat.trajectory[0:36001]:\n",
    "    # 1st two PLGA residues\n",
    "    n8m1_plga = n8_plgapeg_wat.select_atoms(\"resid 1\")\n",
    "    n8m2_plga = n8_plgapeg_wat.select_atoms(\"resid 2\")\n",
    "    # PLGA-PEG linker (n_mon/2 to get to bPLG res no.)\n",
    "    n8pl_link = n8_plgapeg_wat.select_atoms(\"resid 4\")\n",
    "    n8peg_link = n8_plgapeg_wat.select_atoms(\"resid 5\")\n",
    "    # last two PEG residues \n",
    "    n8l1_peg = n8_plgapeg_wat.select_atoms(\"resid 7\")\n",
    "    n8l2_peg = n8_plgapeg_wat.select_atoms(\"resid 8\")\n",
    "    \n",
    "    cb_n8plga[count] = mda.analysis.distances.distance_array(n8m1_plga.center_of_mass(), n8m2_plga.center_of_mass(), \n",
    "                                                   box=n8_plgapeg_wat.trajectory.ts.dimensions)\n",
    "    \n",
    "    cb_n8pplinker[count] = mda.analysis.distances.distance_array(n8pl_link.center_of_mass(), n8peg_link.center_of_mass(), \n",
    "                                                   box=n8_plgapeg_wat.trajectory.ts.dimensions)\n",
    "    \n",
    "    cb_n8peg[count] = mda.analysis.distances.distance_array(n8l1_peg.center_of_mass(), n8l2_peg.center_of_mass(), \n",
    "                                                   box=n8_plgapeg_wat.trajectory.ts.dimensions)\n",
    "    \n",
    "    count += 1\n",
    "    \n",
    "\n",
    "    "
   ]
  },
  {
   "cell_type": "code",
   "execution_count": null,
   "metadata": {},
   "outputs": [],
   "source": [
    "COM_n8pp = np.zeros(shape=(3,2))\n",
    "COM_n8pp[0,0] = np.mean(cb_n8plga)\n",
    "COM_n8pp[1,0] = np.mean(cb_n8pplinker)\n",
    "COM_n8pp[2,0] = np.mean(cb_n8peg)\n",
    "COM_n8pp[0,1] = np.std(cb_n8plga)\n",
    "COM_n8pp[1,1] = np.std(cb_n8pplinker)\n",
    "COM_n8pp[2,1] = np.std(cb_n8peg)\n",
    "COM_n8pp"
   ]
  },
  {
   "cell_type": "markdown",
   "metadata": {},
   "source": [
    "#### Correlation values at each arc length for the whole 360 ns trajectory, N = 8 PLGA-PEG/water"
   ]
  },
  {
   "cell_type": "code",
   "execution_count": null,
   "metadata": {},
   "outputs": [],
   "source": [
    "# x values\n",
    "blen_n8pp = np.zeros(shape=7)\n",
    "for i in range(n8_mon-1):\n",
    "    if i < int((n8_mon/2)-1):\n",
    "        # PLGA contour length values\n",
    "        if i == 0:\n",
    "            blen_n8pp[i] = 0\n",
    "        elif i != 0:\n",
    "            blen_n8pp[i] = np.sum(blen_n8pp[i-1]) + COM_n8pp[0,0]    \n",
    "    elif i == int((n8_mon/2)-1):\n",
    "        #PLGA-PEG linker length\n",
    "        blen_n8pp[i] = np.sum(blen_n8pp[i-1]) + COM_n8pp[1,0]\n",
    "    elif i > int((n8_mon/2)-1):\n",
    "    #    # PEG contour length values\n",
    "        blen_n8pp[i] = np.sum(blen_n8pp[i-1]) + COM_n8pp[2,0]\n",
    "        \n",
    "blen_n8pp"
   ]
  },
  {
   "cell_type": "code",
   "execution_count": null,
   "metadata": {},
   "outputs": [],
   "source": [
    "# Error prop. into natural log std deviation\n",
    "mk_n8ppwat = cor_n8plgapeg_wat[1]/cor_n8plgapeg_wat[0]\n",
    "mk_n8ppwat"
   ]
  },
  {
   "cell_type": "code",
   "execution_count": null,
   "metadata": {},
   "outputs": [],
   "source": [
    "plt.figure(figsize=(7,7))\n",
    "plt.errorbar(blen_n8pp, np.log(cor_n8plgapeg_wat[0]), yerr=mk_n8ppwat, color='teal', linestyle=\"None\",marker='o',\n",
    "     capsize=5, capthick=1, ecolor='black')"
   ]
  },
  {
   "cell_type": "code",
   "execution_count": null,
   "metadata": {},
   "outputs": [],
   "source": [
    "# All the points give the best fits for N = 6 peg in water\n",
    "n8_blksplgapeg_wat , n8plgapeg_lpwat = bavg_pers_cnt(5, plgapeg_n8wat, n8_plgapeg_wat, blen_n8pp, 4, 0 , 36001)"
   ]
  },
  {
   "cell_type": "code",
   "execution_count": null,
   "metadata": {},
   "outputs": [],
   "source": [
    "n8_blksplgapeg_wat"
   ]
  },
  {
   "cell_type": "code",
   "execution_count": null,
   "metadata": {},
   "outputs": [],
   "source": [
    "n8plgapeg_lpwat"
   ]
  },
  {
   "cell_type": "code",
   "execution_count": null,
   "metadata": {},
   "outputs": [],
   "source": [
    "n8plgapeg_lpwat[2]"
   ]
  },
  {
   "cell_type": "code",
   "execution_count": null,
   "metadata": {},
   "outputs": [],
   "source": [
    "np.mean(n8plgapeg_lpwat[3])"
   ]
  },
  {
   "cell_type": "markdown",
   "metadata": {},
   "source": [
    "#### line fitted to cosine theta values using mean slope"
   ]
  },
  {
   "cell_type": "code",
   "execution_count": null,
   "metadata": {},
   "outputs": [],
   "source": [
    "blen_n8pp"
   ]
  },
  {
   "cell_type": "code",
   "execution_count": null,
   "metadata": {},
   "outputs": [],
   "source": [
    "gg_n8plgapeg_wat = line_fit(np.mean(n8plgapeg_lpwat[2]),blen_n8pp)"
   ]
  },
  {
   "cell_type": "code",
   "execution_count": null,
   "metadata": {},
   "outputs": [],
   "source": [
    "gg_n6plgapeg_n8wat = line_fit(np.mean(n6plgapeg_lpwat[2]),blen_n8pp)"
   ]
  },
  {
   "cell_type": "code",
   "execution_count": null,
   "metadata": {},
   "outputs": [],
   "source": [
    "gg_n8plgapeg_wat"
   ]
  },
  {
   "cell_type": "markdown",
   "metadata": {},
   "source": [
    "#### Block averaged Rg, Ree, Rh, mean sq. Ree and mean sq. Rg persistence length, N = 8 PLGA-PEG in water"
   ]
  },
  {
   "cell_type": "code",
   "execution_count": null,
   "metadata": {},
   "outputs": [],
   "source": [
    "blppn8 = []\n",
    "for i in range(n8_mon-1):\n",
    "    if i < int((n8_mon/2)-1):\n",
    "        # PLGA contour length values\n",
    "        blppn8.append(COM_n8pp[0,0])    \n",
    "    elif i == int((n8_mon/2)-1):\n",
    "        #PLGA-PEG linker length\n",
    "        blppn8.append(COM_n8pp[1,0]) \n",
    "    elif i > int((n8_mon/2)-1):\n",
    "    #    # PEG contour length values\n",
    "        blppn8.append(COM_n8pp[2,0]) \n",
    "\n",
    "# Contour Length, N = 6 PLGA-PEG in water\n",
    "lc_ppn8 = np.sum(blppn8)\n",
    "lc_ppn8"
   ]
  },
  {
   "cell_type": "code",
   "execution_count": null,
   "metadata": {},
   "outputs": [],
   "source": [
    "# Ree^2/Rg^2 array at different contour lengths\n",
    "re2e_rgsq_plgapegwat[1,1] = lc_ppn8\n",
    "re2e_rgsq_plgapegwat"
   ]
  },
  {
   "cell_type": "code",
   "execution_count": null,
   "metadata": {},
   "outputs": [],
   "source": [
    "a_ppn8 = np.mean(n8_blksplgapeg_wat['Avg Sq. end to end distance'])"
   ]
  },
  {
   "cell_type": "code",
   "execution_count": null,
   "metadata": {},
   "outputs": [],
   "source": [
    "b_ppn8 = np.mean(n8_blksplgapeg_wat['Avg Sq. radius of gyration'])"
   ]
  },
  {
   "cell_type": "code",
   "execution_count": null,
   "metadata": {},
   "outputs": [],
   "source": [
    "re2e_rgsq_plgapegwat[0,1] = a_ppn8/b_ppn8\n",
    "re2e_rgsq_plgapegwat"
   ]
  },
  {
   "cell_type": "code",
   "execution_count": null,
   "metadata": {},
   "outputs": [],
   "source": [
    "# Rg/Rh array at different contour lengths \n",
    "rhy_rg_plgapegwat[1,1] = lc_ppn8\n",
    "rhy_rg_plgapegwat"
   ]
  },
  {
   "cell_type": "code",
   "execution_count": null,
   "metadata": {},
   "outputs": [],
   "source": [
    "aa_ppn8 = np.mean(n8_blksplgapeg_wat['Avg Radius of gyration'])"
   ]
  },
  {
   "cell_type": "code",
   "execution_count": null,
   "metadata": {},
   "outputs": [],
   "source": [
    "bb_ppn8 = np.mean(n8_blksplgapeg_wat['Avg Hydrodynamic radius'])"
   ]
  },
  {
   "cell_type": "code",
   "execution_count": null,
   "metadata": {},
   "outputs": [],
   "source": [
    "rhy_rg_plgapegwat[0,1] = aa_ppn8/bb_ppn8\n",
    "rhy_rg_plgapegwat"
   ]
  },
  {
   "cell_type": "code",
   "execution_count": null,
   "metadata": {},
   "outputs": [],
   "source": [
    "# pers length/contour length \n",
    "kuhnlpL_plgapegwat[0,1] = np.mean(n8_blksplgapeg_wat[\"Avg persistence length\"])/lc_ppn8\n",
    "kuhnlpL_plgapegwat"
   ]
  },
  {
   "cell_type": "markdown",
   "metadata": {},
   "source": [
    "#### Block averaged Radius of gyration and persistence length, N = 8 PLGA-PEG in water"
   ]
  },
  {
   "cell_type": "code",
   "execution_count": null,
   "metadata": {},
   "outputs": [],
   "source": [
    "np.mean(n8_blksplgapeg_wat[\"Avg persistence length\"])"
   ]
  },
  {
   "cell_type": "code",
   "execution_count": null,
   "metadata": {},
   "outputs": [],
   "source": [
    "np.std(n8_blksplgapeg_wat[\"Avg persistence length\"])"
   ]
  },
  {
   "cell_type": "code",
   "execution_count": null,
   "metadata": {},
   "outputs": [],
   "source": [
    "np.mean(n8_blksplgapeg_wat[\"Avg Radius of gyration\"])"
   ]
  },
  {
   "cell_type": "code",
   "execution_count": null,
   "metadata": {},
   "outputs": [],
   "source": [
    "np.std(n8_blksplgapeg_wat[\"Avg Radius of gyration\"])"
   ]
  },
  {
   "cell_type": "code",
   "execution_count": null,
   "metadata": {},
   "outputs": [],
   "source": [
    "plt.figure(figsize=(7,7))\n",
    "plt.errorbar(blen_n6pp, np.log(cor_n6plgapeg_wat[0]), yerr=mk_n6ppwat, color='teal', linestyle=\"None\",marker='o',\n",
    "             capsize=5, capthick=1, ecolor='black')\n",
    "plt.errorbar(blen_n8pp, np.log(cor_n8plgapeg_wat[0]), yerr=mk_n8ppwat, color='dodgerblue', linestyle=\"None\",marker='o',\n",
    "     capsize=5, capthick=1, ecolor='black')\n",
    "plt.plot(blen_n8pp, gg_n6plgapeg_n8wat, color='teal')\n",
    "plt.plot(blen_n8pp, gg_n8plgapeg_wat, color='dodgerblue')\n",
    "plt.title(r'Ensemble Averaged ln(Cosine $\\theta$) PLGA-PEG in water', fontsize=15, y=1.01)\n",
    "plt.xlabel(r'Bond Length', fontsize=15)\n",
    "plt.ylabel(r'ln$\\left< Cos(\\theta)\\right >$', fontsize=15)\n",
    "plt.ylim(-6,1)\n",
    "plt.xlim(0,30)\n",
    "#plt.ylim(-1.9,0)\n",
    "font = font_manager.FontProperties(family='Arial', style='normal', size='14')\n",
    "#plt.legend([r'$N_{PEG}$ = 6: $L_{p}$ = 18.8 $\\AA$ ± 3.60 $\\AA$'], loc=3, frameon=0, fontsize=14, prop=font)\n",
    "plt.tick_params(labelsize=14)\n",
    "plt.text(0.5, -5.9,r'$N_{PLGA-PEG}$ = 6: $L_{p}$ = 19.4 $\\AA$ ± 1.43 $\\AA$', fontsize=15, color='teal')\n",
    "plt.text(0.5, -5.58,r'$N_{PLGA-PEG}$ = 8: $L_{p}$ = 20.8 $\\AA$ ± 1.03 $\\AA$', fontsize=15, color='dodgerblue')"
   ]
  },
  {
   "cell_type": "code",
   "execution_count": null,
   "metadata": {},
   "outputs": [],
   "source": [
    "rgplgapeg_olig_wat[r\"$R_{g}$ [Angstrom] N = 8 PLGA-PEG water\"] = n8_blksplgapeg_wat[\"Avg Radius of gyration\"]\n",
    "rgplgapeg_olig_wat"
   ]
  },
  {
   "cell_type": "code",
   "execution_count": null,
   "metadata": {},
   "outputs": [],
   "source": [
    "pers_plgapegt_wat[r\"$L_{p}$ [Angstrom] N = 8 PLGA-PEG water\"] = n8_blksplgapeg_wat[\"Avg persistence length\"]\n",
    "pers_plgapegt_wat"
   ]
  },
  {
   "cell_type": "code",
   "execution_count": null,
   "metadata": {},
   "outputs": [],
   "source": []
  },
  {
   "cell_type": "code",
   "execution_count": null,
   "metadata": {},
   "outputs": [],
   "source": []
  },
  {
   "cell_type": "code",
   "execution_count": null,
   "metadata": {},
   "outputs": [],
   "source": []
  },
  {
   "cell_type": "markdown",
   "metadata": {},
   "source": [
    "### N = 10 PLGA-PEG/water "
   ]
  },
  {
   "cell_type": "code",
   "execution_count": null,
   "metadata": {},
   "outputs": [],
   "source": [
    "# For the right Rg calculation using MD Analysis, use trajactory without pbc \n",
    "n10_plgapeg_wat = mda.Universe(\"n10plga_peg_wat/n10plgapeg_WAT.pdb\", \"n10plga_peg_wat/NoWat_n10plgapeg.xtc\")"
   ]
  },
  {
   "cell_type": "code",
   "execution_count": null,
   "metadata": {},
   "outputs": [],
   "source": [
    "n10_plgapeg_wat.trajectory"
   ]
  },
  {
   "cell_type": "code",
   "execution_count": null,
   "metadata": {},
   "outputs": [],
   "source": [
    "len(n10_plgapeg_wat.trajectory)"
   ]
  },
  {
   "cell_type": "code",
   "execution_count": null,
   "metadata": {},
   "outputs": [],
   "source": [
    "#Select the polymer heavy atoms \n",
    "plgapeg_n10wat = n10_plgapeg_wat.select_atoms(\"resname sPLG PLG bPLG bPEG PEG sPEG and not type H\")"
   ]
  },
  {
   "cell_type": "code",
   "execution_count": null,
   "metadata": {},
   "outputs": [],
   "source": [
    "np.unique(plgapeg_n10wat.resids)"
   ]
  },
  {
   "cell_type": "code",
   "execution_count": null,
   "metadata": {},
   "outputs": [],
   "source": [
    "# Get cosine theta values at frame 0 \n",
    "crv_n10plgapeg_wat = pers_length(plgapeg_n10wat,10)\n",
    "crv_n10plgapeg_wat"
   ]
  },
  {
   "cell_type": "markdown",
   "metadata": {},
   "source": [
    "### Orientation Order parameter vs. time "
   ]
  },
  {
   "cell_type": "code",
   "execution_count": null,
   "metadata": {},
   "outputs": [],
   "source": [
    "n10_mon = 10 \n",
    "start = 0\n",
    "end = 36001"
   ]
  },
  {
   "cell_type": "code",
   "execution_count": null,
   "metadata": {},
   "outputs": [],
   "source": [
    "OOp_n10plgapeg_wat = orientation_order_param(plgapeg_n10wat, n10_plgapeg_wat, n10_mon, start, end)"
   ]
  },
  {
   "cell_type": "code",
   "execution_count": null,
   "metadata": {},
   "outputs": [],
   "source": [
    "OOp_n10plgapeg_wat.shape"
   ]
  },
  {
   "cell_type": "code",
   "execution_count": null,
   "metadata": {},
   "outputs": [],
   "source": [
    "trj_len = np.arange(36001)\n",
    "plt.figure(figsize=(7,7))\n",
    "plt.title(r'PLGA-PEG Orientation Order Parameter', fontsize=18, y=1.01)\n",
    "plt.xlabel(r'Time [ns]', fontsize=15)\n",
    "plt.ylabel(r'Z', fontsize=15)\n",
    "plt.plot(trj_len/100, OOp_n6plgapeg_wat,linewidth=2, color='teal')\n",
    "plt.plot(trj_len/100, OOp_n8plgapeg_wat,linewidth=2, color='dodgerblue')\n",
    "plt.plot(trj_len/100, OOp_n10plgapeg_wat,linewidth=2, color='darkmagenta')\n",
    "plt.tick_params(labelsize=14)\n",
    "plt.legend(['N = 6 in Water', 'N = 8 in Water','N = 10 in Water'], frameon=False, fontsize=14)\n",
    "#plt.text(127, 0.96,r'N = 6 in water', fontsize=18, color='#1F2E69', family='Arial')\n",
    "plt.xlim(0,360)\n",
    "plt.ylim(-1,1)"
   ]
  },
  {
   "cell_type": "markdown",
   "metadata": {},
   "source": [
    "#### Mean Orientation Order Parameter for N = 10 PLGA-PEG in water"
   ]
  },
  {
   "cell_type": "code",
   "execution_count": null,
   "metadata": {},
   "outputs": [],
   "source": [
    "OOp_n10plgapeg_wat[82]"
   ]
  },
  {
   "cell_type": "code",
   "execution_count": null,
   "metadata": {},
   "outputs": [],
   "source": [
    "OOp_n10plgapeg_wat[239]"
   ]
  },
  {
   "cell_type": "code",
   "execution_count": null,
   "metadata": {},
   "outputs": [],
   "source": [
    "np.mean(OOp_n10plgapeg_wat)"
   ]
  },
  {
   "cell_type": "code",
   "execution_count": null,
   "metadata": {},
   "outputs": [],
   "source": [
    "np.std(OOp_n10plgapeg_wat)"
   ]
  },
  {
   "cell_type": "markdown",
   "metadata": {},
   "source": [
    "### Mean squared end to end distance "
   ]
  },
  {
   "cell_type": "code",
   "execution_count": null,
   "metadata": {},
   "outputs": [],
   "source": [
    "eVec_n10plgapeg_wat, e2edis_n10plgapeg_wat = mean_sq_e2e(plgapeg_n10wat, n10_plgapeg_wat, n10_mon, start, end)"
   ]
  },
  {
   "cell_type": "code",
   "execution_count": null,
   "metadata": {},
   "outputs": [],
   "source": [
    "trj_len = np.arange(36001)\n",
    "plt.figure(figsize=(7,7))\n",
    "plt.title(r'PLGA-PEG End to End distance', fontsize=18, y=1.01)\n",
    "plt.xlabel(r'Time [ns]', fontsize=15)\n",
    "plt.ylabel(r'$R_{ee}$ [nm]', fontsize=15)\n",
    "plt.plot(trj_len/100, e2edis_n6plgapeg_wat[1]/10,linewidth=2, color='teal')\n",
    "plt.plot(trj_len/100, e2edis_n8plgapeg_wat[1]/10,linewidth=2, color='dodgerblue')\n",
    "plt.plot(trj_len/100, e2edis_n10plgapeg_wat[1]/10,linewidth=2, color='darkmagenta')\n",
    "plt.tick_params(labelsize=14)\n",
    "plt.legend(['N = 6 in Water', 'N = 8 in Water','N = 10 in Water'], frameon=False, fontsize=14)\n",
    "#plt.text(127, 0.96,r'N = 6 in water', fontsize=18, color='#1F2E69', family='Arial')\n",
    "plt.xlim(0,360)\n",
    "plt.ylim(0,5)"
   ]
  },
  {
   "cell_type": "markdown",
   "metadata": {},
   "source": [
    "#### Ree Autocorrelation function"
   ]
  },
  {
   "cell_type": "code",
   "execution_count": null,
   "metadata": {},
   "outputs": [],
   "source": [
    "e2edis_n10plgapeg_wat[1]"
   ]
  },
  {
   "cell_type": "code",
   "execution_count": null,
   "metadata": {},
   "outputs": [],
   "source": [
    "t_corr = 7000\n",
    "window_shift = 9"
   ]
  },
  {
   "cell_type": "code",
   "execution_count": null,
   "metadata": {},
   "outputs": [],
   "source": [
    "ACn10plgapegwat_Ree, eqvar_n10plgapegwat = obs_autocorr_RA(e2edis_n10plgapeg_wat[1],t_corr, window_shift,start,end)"
   ]
  },
  {
   "cell_type": "code",
   "execution_count": null,
   "metadata": {},
   "outputs": [],
   "source": [
    "ACn10plgapegwat_Ree"
   ]
  },
  {
   "cell_type": "code",
   "execution_count": null,
   "metadata": {},
   "outputs": [],
   "source": [
    "eqvar_n10plgapegwat"
   ]
  },
  {
   "cell_type": "code",
   "execution_count": null,
   "metadata": {},
   "outputs": [],
   "source": [
    "ACn10plgapegwat_sqRee, evsqRee_n10plgapegwat = obs_autocorr_RA(e2edis_n10plgapeg_wat[0],t_corr, window_shift,start,end)"
   ]
  },
  {
   "cell_type": "code",
   "execution_count": null,
   "metadata": {},
   "outputs": [],
   "source": [
    "np.sqrt(evsqRee_n10plgapegwat)"
   ]
  },
  {
   "cell_type": "code",
   "execution_count": null,
   "metadata": {},
   "outputs": [],
   "source": [
    "plt.figure(figsize=(7,7))\n",
    "plt.title(r'PLGA-PEG Ree autocorrelation', fontsize=18, y=1.01)\n",
    "plt.xlabel(r'Time [ns]', fontsize=15)\n",
    "plt.ylabel(r'$C_{A}(t)$', fontsize=15)\n",
    "plt.plot(ACn6plgapegwat_Ree[1]/100, ACn6plgapegwat_Ree[0],linewidth=2, color='#1F2E69')\n",
    "plt.plot(ACn8plgapegwat_Ree[1]/100, ACn8plgapegwat_Ree[0],linewidth=2, color='#4C80ED')\n",
    "plt.plot(ACn10plgapegwat_Ree[1]/100, ACn10plgapegwat_Ree[0],linewidth=2, color='#8C52FC')\n",
    "plt.tick_params(labelsize=14)\n",
    "plt.legend(['N = 6 Ree','N = 8 Ree','N = 10 Ree'], frameon=False, fontsize=14)\n",
    "#plt.yscale('symlog', linthreshy=0.5)\n",
    "#plt.xscale('symlog')\n",
    "plt.xlim(0,20)\n",
    "plt.ylim(-1,1)"
   ]
  },
  {
   "cell_type": "markdown",
   "metadata": {},
   "source": [
    "### Hydrodynamic Radius vs time"
   ]
  },
  {
   "cell_type": "code",
   "execution_count": null,
   "metadata": {},
   "outputs": [],
   "source": [
    "plgapegn10wat_rh = hydro_rad_poly(plgapeg_n10wat, n10_plgapeg_wat, n10_mon, start, end)"
   ]
  },
  {
   "cell_type": "code",
   "execution_count": null,
   "metadata": {},
   "outputs": [],
   "source": [
    "trj_len = np.arange(36001)\n",
    "plt.figure(figsize=(7,7))\n",
    "plt.title(r'PLGA-PEG Hydrodynamic Radius', fontsize=18, y=1.01)\n",
    "plt.xlabel(r'Time [ns]', fontsize=15)\n",
    "plt.ylabel(r'$R_{hyd}$ [nm]', fontsize=15)\n",
    "plt.plot(trj_len/100, plgapegn6wat_rh/10,linewidth=2, color='teal')\n",
    "plt.plot(trj_len/100, plgapegn8wat_rh/10,linewidth=2, color='dodgerblue')\n",
    "plt.plot(trj_len/100, plgapegn10wat_rh/10,linewidth=2, color='darkmagenta')\n",
    "plt.tick_params(labelsize=14)\n",
    "plt.legend(['N = 6 in Water', 'N = 8 in Water','N = 10 in Water'], frameon=False, fontsize=14)\n",
    "#plt.text(127, 0.96,r'N = 6 in water', fontsize=18, color='#1F2E69', family='Arial')\n",
    "plt.xlim(0,360)\n",
    "plt.ylim(0,2)"
   ]
  },
  {
   "cell_type": "markdown",
   "metadata": {},
   "source": [
    "#### Rh autocorrelation"
   ]
  },
  {
   "cell_type": "code",
   "execution_count": null,
   "metadata": {},
   "outputs": [],
   "source": [
    "t_corr = 10000\n",
    "window_shift = 9"
   ]
  },
  {
   "cell_type": "code",
   "execution_count": null,
   "metadata": {},
   "outputs": [],
   "source": [
    "ACn10plgapegwatRh, eqvarRh_n10plgapegwat = obs_autocorr_RA(plgapegn10wat_rh,t_corr, window_shift,start,end)"
   ]
  },
  {
   "cell_type": "code",
   "execution_count": null,
   "metadata": {},
   "outputs": [],
   "source": [
    "ACn10plgapegwatRh"
   ]
  },
  {
   "cell_type": "code",
   "execution_count": null,
   "metadata": {},
   "outputs": [],
   "source": [
    "eqvarRh_n10plgapegwat"
   ]
  },
  {
   "cell_type": "code",
   "execution_count": null,
   "metadata": {},
   "outputs": [],
   "source": [
    "plt.figure(figsize=(7,7))\n",
    "plt.title(r'PEG Rh autocorrelation', fontsize=18, y=1.01)\n",
    "plt.xlabel(r'Time [ns]', fontsize=15)\n",
    "plt.ylabel(r'$C_{Rh}(t)$', fontsize=15)\n",
    "plt.plot(ACn6plgapegwatRh[1]/100, ACn6plgapegwatRh[0],linewidth=2, color='#1F2E69')\n",
    "plt.plot(ACn8plgapegwatRh[1]/100, ACn8plgapegwatRh[0],linewidth=2, color='#4C80ED')\n",
    "plt.plot(ACn10plgapegwatRh[1]/100, ACn10plgapegwatRh[0],linewidth=2, color='#8C52FC')\n",
    "plt.tick_params(labelsize=14)\n",
    "plt.legend(['N = 6 in water','N = 8 in water','N = 10 in water'], frameon=False, fontsize=14)\n",
    "plt.xlim(0,20)\n",
    "#plt.ylim(-0.2,1)"
   ]
  },
  {
   "cell_type": "markdown",
   "metadata": {},
   "source": [
    "### Relaxation times vs monomer length "
   ]
  },
  {
   "cell_type": "code",
   "execution_count": null,
   "metadata": {},
   "outputs": [],
   "source": [
    "# Key variables \n",
    "# def pos_bead_autocorr_RA(polymer_atoms, universe, n_monomers, t_corr,  start, end):\n",
    "n10_mon = 10 \n",
    "start = 0\n",
    "end = 36001\n",
    "t_corr = 10000\n",
    "window_shift = 20"
   ]
  },
  {
   "cell_type": "code",
   "execution_count": null,
   "metadata": {},
   "outputs": [],
   "source": [
    "s_time = timeit.default_timer()\n",
    "tcRA_plgapegn10wat, tcSUM_plgapegn10wat = pos_bead_autocorr_RA(plgapeg_n10wat, n10_plgapeg_wat, n10_mon, t_corr, window_shift, start, end)\n",
    "timeit.default_timer() - s_time"
   ]
  },
  {
   "cell_type": "code",
   "execution_count": null,
   "metadata": {},
   "outputs": [],
   "source": [
    "tcRA_plgapegn10wat"
   ]
  },
  {
   "cell_type": "code",
   "execution_count": null,
   "metadata": {},
   "outputs": [],
   "source": [
    "tcSUM_plgapegn10wat.shape"
   ]
  },
  {
   "cell_type": "markdown",
   "metadata": {},
   "source": [
    "### Fitting autocorrelation data "
   ]
  },
  {
   "cell_type": "code",
   "execution_count": null,
   "metadata": {},
   "outputs": [],
   "source": [
    "xdata_plgapegn10wat = tcRA_plgapegn10wat[1]/100\n",
    "ydata_plgapegn10wat = tcRA_plgapegn10wat[0]"
   ]
  },
  {
   "cell_type": "code",
   "execution_count": null,
   "metadata": {},
   "outputs": [],
   "source": [
    "ydata_plgapegn10wat.shape"
   ]
  },
  {
   "cell_type": "code",
   "execution_count": null,
   "metadata": {},
   "outputs": [],
   "source": [
    "xdata_plgapegn10wat.shape"
   ]
  },
  {
   "cell_type": "code",
   "execution_count": null,
   "metadata": {},
   "outputs": [],
   "source": [
    "plt.figure(figsize=(8,8))\n",
    "plt.rcParams[\"font.family\"] = \"Arial\"\n",
    "plt.scatter(xdata_plgapegn6wat, ydata_plgapegn6wat, color='teal', s=s_n6)\n",
    "plt.scatter(xdata_plgapegn8wat, ydata_plgapegn8wat, color='dodgerblue', s=s_n8)\n",
    "plt.scatter(xdata_plgapegn10wat, ydata_plgapegn10wat, color='darkmagenta', s=s_n10)\n",
    "plt.title(r'Positional bead autocorrelation PLGA-PEG in Water', fontsize=18, y=1.03)\n",
    "plt.xlabel(r'Time lag [ns]', fontsize=18)\n",
    "plt.ylabel('C(t)', fontsize=18)\n",
    "#plt.legend(fontsize=14, frameon=False)\n",
    "plt.xticks(fontsize=18)\n",
    "plt.yticks(fontsize=18)\n",
    "#plt.yscale('symlog', linthreshy=0.5)\n",
    "plt.xscale('symlog')\n",
    "plt.grid(b=True)\n",
    "plt.xlim(0,100)\n",
    "plt.ylim(-1,1)\n",
    "plt.tick_params(labelsize=18, direction='in', which='both', width=1, length=10)"
   ]
  },
  {
   "cell_type": "code",
   "execution_count": null,
   "metadata": {},
   "outputs": [],
   "source": [
    "ts = 1\n",
    "hs = 0.1\n",
    "n10_mon = 10\n",
    "n_b = n10_mon - 1\n",
    "tr1 = 2\n",
    "zimm_relax_fit(ts,tr1,hs,n_b)"
   ]
  },
  {
   "cell_type": "code",
   "execution_count": null,
   "metadata": {},
   "outputs": [],
   "source": [
    "rouse_relax(1, 2, 6)"
   ]
  },
  {
   "cell_type": "code",
   "execution_count": null,
   "metadata": {},
   "outputs": [],
   "source": [
    "zimm_relax_func(1, 2, 0.1, 5)"
   ]
  },
  {
   "cell_type": "code",
   "execution_count": null,
   "metadata": {},
   "outputs": [],
   "source": [
    "def res_plgapegn10wat(variabls, xnp, ynp):\n",
    "    hs_np = variabls['h_star']\n",
    "    #hs_np = 0.26\n",
    "    tr1_np = variabls['t_first']\n",
    "    n_bonds = 9\n",
    "    testnp = []\n",
    "    for i in range(len(xnp)):\n",
    "        model_ynp = zimm_relax_fit(xnp[i], tr1_np, hs_np, n_bonds)\n",
    "        #model_ynp = rouse_relax(xnp[i], tr1_np, n_m)\n",
    "        testnp.append(ynp[i] - model_ynp)\n",
    "    \n",
    "    tt_n6 = np.array(testnp)\n",
    "\n",
    "    return tt_n6\n",
    "    \n",
    "#x1 = np.array([0,0])\n",
    "#pfit, pcov, infodict, errmsg, success = leastsq(res_poly, x1, args=(xdata, ydata), full_output=1)"
   ]
  },
  {
   "cell_type": "code",
   "execution_count": null,
   "metadata": {},
   "outputs": [],
   "source": [
    "ppfit_n10wat = Parameters()\n",
    "ppfit_n10wat.add(name='h_star', value=0, min=0, max=0.26, vary=True)\n",
    "ppfit_n10wat.add(name='t_first', value=90)"
   ]
  },
  {
   "cell_type": "code",
   "execution_count": null,
   "metadata": {},
   "outputs": [],
   "source": [
    "mini_ppn10wat = Minimizer(res_plgapegn10wat, ppfit_n10wat, fcn_args=(xdata_plgapegn10wat, ydata_plgapegn10wat))\n",
    "out_ppn10wat = mini_ppn10wat.leastsq()\n",
    "#bfit_n10 = ydata_n10wat + out_n10wat.residual "
   ]
  },
  {
   "cell_type": "code",
   "execution_count": null,
   "metadata": {},
   "outputs": [],
   "source": [
    "report_fit(out_ppn10wat.params)"
   ]
  },
  {
   "cell_type": "code",
   "execution_count": null,
   "metadata": {},
   "outputs": [],
   "source": [
    "out_ppn10wat.params"
   ]
  },
  {
   "cell_type": "code",
   "execution_count": null,
   "metadata": {},
   "outputs": [],
   "source": [
    "# with h varying, tr = 0.49248736 +/- 0.00336387,h* = 0.25999384 +/- 0.02282596\n",
    "twat_n10plgapeg = []\n",
    "n_bonds = 9\n",
    "for i in range(len(xdata_plgapegn10wat)):\n",
    "    twat_n10plgapeg.append(zimm_relax_fit(xdata_plgapegn10wat[i], 0.49248736, 0.26,  n_bonds))\n"
   ]
  },
  {
   "cell_type": "code",
   "execution_count": null,
   "metadata": {},
   "outputs": [],
   "source": [
    "t_c, tz_n10plgapeg, zimm_n10plgapeg, rouse_n10plgapeg = zimm_relax_func(1, 0.49248736, 0.26,  n_bonds)"
   ]
  },
  {
   "cell_type": "code",
   "execution_count": null,
   "metadata": {},
   "outputs": [],
   "source": [
    "len(tz_n10plgapeg)"
   ]
  },
  {
   "cell_type": "code",
   "execution_count": null,
   "metadata": {},
   "outputs": [],
   "source": [
    "x_pos_n6 = np.arange(5)\n",
    "x_pos_n8 = np.arange(7)\n",
    "x_pos_n10 = np.arange(9)\n",
    "width = 0.25\n",
    "aa_types_n10 = [r\"$\\tau_{1}$\", r\"$\\tau_{2}$\", r\"$\\tau_{3}$\", r\"$\\tau_{4}$\", r\"$\\tau_{5}$\",r\"$\\tau_{6}$\",r\"$\\tau_{7}$\",\n",
    "           r\"$\\tau_{8}$\", r\"$\\tau_{9}$\"]\n",
    "fig = plt.figure(figsize=(7,7))\n",
    "plt.title('PLGA-PEG in water', fontsize=18)\n",
    "plt.bar(x_pos_n6+(2*width), tz_n6plgapeg, width, ecolor='black',capsize=5, color='teal', label=\"N = 6\")\n",
    "plt.bar(x_pos_n8+(width), tz_n8plgapeg, width, ecolor='black',capsize=5, color='dodgerblue', label='N = 8')\n",
    "plt.bar(x_pos_n10, tz_n10plgapeg, width, ecolor='black',capsize=5, color='darkmagenta', label='N = 10')\n",
    "plt.xticks(x_pos_n10, labels=aa_types_n10, fontsize=12)\n",
    "plt.legend(fontsize=12 ,frameon=False)\n",
    "plt.ylabel(r'Relaxation times [ns]', fontsize=15)"
   ]
  },
  {
   "cell_type": "code",
   "execution_count": null,
   "metadata": {},
   "outputs": [],
   "source": [
    "aa_eigen_n10 = [r\"$a_{1}$\", r\"$a_{2}$\", r\"$a_{3}$\", r\"$a_{4}$\", r\"$a_{5}$\",r\"$a_{6}$\",r\"$a_{7}$\",r\"$a_{8}$\",\n",
    "           r\"$a_{9}$\"]\n",
    "fig = plt.figure(figsize=(7,7))\n",
    "plt.title('PLGA-PEG in water N = 10', fontsize=18)\n",
    "plt.bar(x_pos_n10, rouse_n10plgapeg, width,ecolor='black',capsize=5, color='c', label='Rouse')\n",
    "plt.bar(x_pos_n10+width, zimm_n10plgapeg, width,ecolor='black',capsize=5, color='m', label='Zimm')\n",
    "plt.xticks(x_pos_n10+width,labels=aa_eigen_n10, fontsize=12)\n",
    "plt.legend(fontsize=12 ,frameon=False)\n",
    "plt.ylabel(r'Rouse and Zimm eigenvalues', fontsize=15)"
   ]
  },
  {
   "cell_type": "code",
   "execution_count": null,
   "metadata": {},
   "outputs": [],
   "source": [
    "plt.figure(figsize=(8,8))\n",
    "plt.rcParams[\"font.family\"] = \"Arial\"\n",
    "plt.scatter(xdata_plgapegn6wat, ydata_plgapegn6wat, color='teal', s=s_n6)\n",
    "plt.scatter(xdata_plgapegn8wat, ydata_plgapegn8wat, color='dodgerblue', s=s_n8)\n",
    "plt.scatter(xdata_plgapegn10wat, ydata_plgapegn10wat, color='darkmagenta', s=s_n10)\n",
    "plt.plot(xdata_plgapegn6wat, twat_n6plgapeg, color='teal')\n",
    "plt.plot(xdata_plgapegn8wat, twat_n8plgapeg, color='dodgerblue')\n",
    "plt.plot(xdata_plgapegn10wat, twat_n10plgapeg, color='darkmagenta')\n",
    "plt.title(r'Positional bead autocorrelation PLGA-PEG in water', fontsize=18, y=1.03)\n",
    "plt.xlabel(r'Time lag [ns]', fontsize=18)\n",
    "plt.ylabel('C(t)', fontsize=18)\n",
    "#plt.legend(fontsize=14, frameon=False)\n",
    "plt.xticks(fontsize=18)\n",
    "plt.yticks(fontsize=18)\n",
    "#plt.yscale('symlog', linthreshy=0.5)\n",
    "plt.xscale('symlog')\n",
    "plt.grid(b=True)\n",
    "plt.xlim(0,100)\n",
    "plt.ylim(-1,1)\n",
    "plt.tick_params(labelsize=18, direction='in', which='both', width=1, length=10)"
   ]
  },
  {
   "cell_type": "code",
   "execution_count": null,
   "metadata": {},
   "outputs": [],
   "source": [
    "rppwat_msen10 = np.array([ydata_plgapegn10wat - np.array(twat_n10plgapeg)])\n",
    "rppwat_msen10"
   ]
  },
  {
   "cell_type": "code",
   "execution_count": null,
   "metadata": {},
   "outputs": [],
   "source": [
    "plt.figure(figsize=(8,8))\n",
    "plt.rcParams[\"font.family\"] = \"Arial\"\n",
    "plt.scatter(xdata_plgapegn6wat, rppwat_msen6, color='teal', s=s_n6)\n",
    "plt.scatter(xdata_plgapegn8wat, rppwat_msen8, color='dodgerblue', s=s_n8)\n",
    "plt.scatter(xdata_plgapegn10wat, rppwat_msen10, color='darkmagenta', s=s_n10)\n",
    "plt.title(r'Relaxation time Fitting Residuals PLGA in water', fontsize=18, y=1.01)\n",
    "plt.xlabel(r'Time lag [ns]', fontsize=18)\n",
    "plt.ylabel('Residuals', fontsize=18)\n",
    "plt.xticks(fontsize=14)\n",
    "plt.yticks(fontsize=14)\n",
    "plt.xlim([0,30])\n",
    "plt.ylim([-0.7,1])\n",
    "plt.tick_params(labelsize=15)"
   ]
  },
  {
   "cell_type": "markdown",
   "metadata": {},
   "source": [
    "#### Radius of Gyration vs. time N = 10 PLGA-PEG in water"
   ]
  },
  {
   "cell_type": "code",
   "execution_count": null,
   "metadata": {},
   "outputs": [],
   "source": [
    "n10plgapeg_rgens_wat, cor_n10plgapeg_wat, N10plgapeg_cos_wat, rgwat_n10plgapeg = get_rg_pers_poly(plgapeg_n10wat, n10_plgapeg_wat,\n",
    "                                                                                                  start,end)"
   ]
  },
  {
   "cell_type": "code",
   "execution_count": null,
   "metadata": {},
   "outputs": [],
   "source": [
    "n10plgapeg_rgens_wat[0].shape"
   ]
  },
  {
   "cell_type": "code",
   "execution_count": null,
   "metadata": {},
   "outputs": [],
   "source": [
    "cor_n10plgapeg_wat[3]"
   ]
  },
  {
   "cell_type": "code",
   "execution_count": null,
   "metadata": {},
   "outputs": [],
   "source": [
    "N10plgapeg_cos_wat"
   ]
  },
  {
   "cell_type": "code",
   "execution_count": null,
   "metadata": {},
   "outputs": [],
   "source": [
    "rgwat_n10plgapeg"
   ]
  },
  {
   "cell_type": "code",
   "execution_count": null,
   "metadata": {},
   "outputs": [],
   "source": [
    "n10plgapeg_rgens_wat.shape"
   ]
  },
  {
   "cell_type": "code",
   "execution_count": null,
   "metadata": {},
   "outputs": [],
   "source": [
    "trj_len = np.arange(36001)\n",
    "plt.figure(figsize=(7,7))\n",
    "plt.title(r'PLGA-PEG Radius of Gyration', fontsize=18, y=1.01)\n",
    "plt.xlabel(r'Time [ns]', fontsize=15)\n",
    "plt.ylabel(r'$R_{g}$ [nm]', fontsize=15)\n",
    "plt.plot(trj_len/100, n6plgapeg_rgens_wat[0]/10,linewidth=2, color='teal')\n",
    "plt.plot(trj_len/100, n8plgapeg_rgens_wat[0]/10,linewidth=2, color='dodgerblue')\n",
    "plt.plot(trj_len/100, n10plgapeg_rgens_wat[0]/10,linewidth=2, color='darkmagenta')\n",
    "plt.tick_params(labelsize=14)\n",
    "plt.legend(['N = 6 in Water', 'N = 8 in Water', 'N = 10 in Water'], frameon=False, fontsize=14)\n",
    "#plt.text(127, 0.96,r'N = 6 in water', fontsize=18, color='#1F2E69', family='Arial')\n",
    "plt.xlim(0,360)\n",
    "plt.ylim(0.2,2)"
   ]
  },
  {
   "cell_type": "markdown",
   "metadata": {},
   "source": [
    "#### Rg Autocorrelation"
   ]
  },
  {
   "cell_type": "code",
   "execution_count": null,
   "metadata": {},
   "outputs": [],
   "source": [
    "t_corr = 10000\n",
    "window_shift = 9"
   ]
  },
  {
   "cell_type": "code",
   "execution_count": null,
   "metadata": {},
   "outputs": [],
   "source": [
    "ACn10plgapegwat_Rg, eqvarRg_n10plgapegwat = obs_autocorr_RA(n10plgapeg_rgens_wat[0],t_corr, window_shift,start,end)"
   ]
  },
  {
   "cell_type": "code",
   "execution_count": null,
   "metadata": {},
   "outputs": [],
   "source": [
    "ACn10plgapegwat_Rg"
   ]
  },
  {
   "cell_type": "code",
   "execution_count": null,
   "metadata": {},
   "outputs": [],
   "source": [
    "eqvarRg_n10plgapegwat"
   ]
  },
  {
   "cell_type": "code",
   "execution_count": null,
   "metadata": {},
   "outputs": [],
   "source": [
    "plt.figure(figsize=(7,7))\n",
    "plt.title(r'PEG in water autocorrelation', fontsize=18, y=1.01)\n",
    "plt.xlabel(r'Time [ns]', fontsize=15)\n",
    "plt.ylabel(r'$C_{A}(t)$', fontsize=15)\n",
    "plt.plot(ACn6plgapegwat_Rg[1]/100, ACn6plgapegwat_Rg[0],linewidth=2, color='#1F2E69')\n",
    "plt.plot(ACn8plgapegwat_Rg[1]/100, ACn8plgapegwat_Rg[0],linewidth=2, color='#4C80ED')\n",
    "plt.plot(ACn10plgapegwat_Rg[1]/100, ACn10plgapegwat_Rg[0],linewidth=2, color='#8C52FC')\n",
    "plt.tick_params(labelsize=14)\n",
    "plt.legend(['N = 6 Rg','N = 8 Rg','N = 10 Rg'], frameon=False, fontsize=14)\n",
    "#plt.yscale('symlog', linthreshy=0.5)\n",
    "#plt.xscale('symlog')\n",
    "plt.xlim(0,20)\n",
    "plt.ylim(-1,1)"
   ]
  },
  {
   "cell_type": "markdown",
   "metadata": {},
   "source": [
    "#### Get average COM distance, arch length values"
   ]
  },
  {
   "cell_type": "code",
   "execution_count": null,
   "metadata": {},
   "outputs": [],
   "source": [
    "cb_n10plga = np.zeros(shape=(36001))\n",
    "cb_n10pplinker = np.zeros(shape=(36001))\n",
    "cb_n10peg = np.zeros(shape=(36001))\n",
    "count = 0\n",
    "for ts in n10_plgapeg_wat.trajectory[0:36001]:\n",
    "    # 1st two PLGA residues\n",
    "    n10m1_plga = n10_plgapeg_wat.select_atoms(\"resid 1\")\n",
    "    n10m2_plga = n10_plgapeg_wat.select_atoms(\"resid 2\")\n",
    "    # PLGA-PEG linker (n_mon/2 to get to bPLG res no.)\n",
    "    n10pl_link = n10_plgapeg_wat.select_atoms(\"resid 5\")\n",
    "    n10peg_link = n10_plgapeg_wat.select_atoms(\"resid 6\")\n",
    "    # last two PEG residues \n",
    "    n10l1_peg = n10_plgapeg_wat.select_atoms(\"resid 9\")\n",
    "    n10l2_peg = n10_plgapeg_wat.select_atoms(\"resid 10\")\n",
    "    \n",
    "    cb_n10plga[count] = mda.analysis.distances.distance_array(n10m1_plga.center_of_mass(), n10m2_plga.center_of_mass(), \n",
    "                                                   box=n10_plgapeg_wat.trajectory.ts.dimensions)\n",
    "    \n",
    "    cb_n10pplinker[count] = mda.analysis.distances.distance_array(n10pl_link.center_of_mass(), n10peg_link.center_of_mass(), \n",
    "                                                   box=n10_plgapeg_wat.trajectory.ts.dimensions)\n",
    "    \n",
    "    cb_n10peg[count] = mda.analysis.distances.distance_array(n10l1_peg.center_of_mass(), n10l2_peg.center_of_mass(), \n",
    "                                                   box=n10_plgapeg_wat.trajectory.ts.dimensions)\n",
    "    \n",
    "    count += 1\n",
    "    \n",
    "\n",
    "    "
   ]
  },
  {
   "cell_type": "code",
   "execution_count": null,
   "metadata": {},
   "outputs": [],
   "source": [
    "COM_n10pp = np.zeros(shape=(3,2))\n",
    "COM_n10pp[0,0] = np.mean(cb_n10plga)\n",
    "COM_n10pp[1,0] = np.mean(cb_n10pplinker)\n",
    "COM_n10pp[2,0] = np.mean(cb_n10peg)\n",
    "COM_n10pp[0,1] = np.std(cb_n10plga)\n",
    "COM_n10pp[1,1] = np.std(cb_n10pplinker)\n",
    "COM_n10pp[2,1] = np.std(cb_n10peg)\n",
    "COM_n10pp"
   ]
  },
  {
   "cell_type": "markdown",
   "metadata": {},
   "source": [
    "#### Correlation values at each arc length for the whole 360 ns trajectory, N = 10 PLGA-PEG/water"
   ]
  },
  {
   "cell_type": "code",
   "execution_count": null,
   "metadata": {},
   "outputs": [],
   "source": [
    "# x values\n",
    "blen_n10pp = np.zeros(shape=9)\n",
    "for i in range(n10_mon-1):\n",
    "    if i < int((n10_mon/2)-1):\n",
    "        # PLGA contour length values\n",
    "        if i == 0:\n",
    "            blen_n10pp[i] = 0\n",
    "        elif i != 0:\n",
    "            blen_n10pp[i] = np.sum(blen_n10pp[i-1]) + COM_n10pp[0,0]    \n",
    "    elif i == int((n10_mon/2)-1):\n",
    "        #PLGA-PEG linker length\n",
    "        blen_n10pp[i] = np.sum(blen_n10pp[i-1]) + COM_n10pp[1,0]\n",
    "    elif i > int((n10_mon/2)-1):\n",
    "    #    # PEG contour length values\n",
    "        blen_n10pp[i] = np.sum(blen_n10pp[i-1]) + COM_n10pp[2,0]\n",
    "        \n",
    "blen_n10pp"
   ]
  },
  {
   "cell_type": "code",
   "execution_count": null,
   "metadata": {},
   "outputs": [],
   "source": [
    "# Error prop. into natural log std deviation\n",
    "mk_n10ppwat = cor_n10plgapeg_wat[1]/cor_n10plgapeg_wat[0]\n",
    "mk_n10ppwat"
   ]
  },
  {
   "cell_type": "code",
   "execution_count": null,
   "metadata": {},
   "outputs": [],
   "source": [
    "plt.figure(figsize=(7,7))\n",
    "plt.errorbar(blen_n10pp, np.log(cor_n10plgapeg_wat[0]), yerr=mk_n10ppwat, color='teal', linestyle=\"None\",marker='o',\n",
    "     capsize=5, capthick=1, ecolor='black')"
   ]
  },
  {
   "cell_type": "code",
   "execution_count": null,
   "metadata": {},
   "outputs": [],
   "source": [
    "# All the points give the best fits for N = 6 peg in water\n",
    "n10_blksplgapeg_wat , n10plgapeg_lpwat = bavg_pers_cnt(5, plgapeg_n10wat, n10_plgapeg_wat, blen_n10pp, 5, 0 , 36001)"
   ]
  },
  {
   "cell_type": "code",
   "execution_count": null,
   "metadata": {},
   "outputs": [],
   "source": [
    "n10_blksplgapeg_wat"
   ]
  },
  {
   "cell_type": "code",
   "execution_count": null,
   "metadata": {},
   "outputs": [],
   "source": [
    "n10plgapeg_lpwat"
   ]
  },
  {
   "cell_type": "code",
   "execution_count": null,
   "metadata": {},
   "outputs": [],
   "source": [
    "n10plgapeg_lpwat[2]"
   ]
  },
  {
   "cell_type": "code",
   "execution_count": null,
   "metadata": {},
   "outputs": [],
   "source": [
    "np.mean(n10plgapeg_lpwat[3])"
   ]
  },
  {
   "cell_type": "markdown",
   "metadata": {},
   "source": [
    "#### line fitted to cosine theta values using mean slope"
   ]
  },
  {
   "cell_type": "code",
   "execution_count": null,
   "metadata": {},
   "outputs": [],
   "source": [
    "blen_n10pp"
   ]
  },
  {
   "cell_type": "code",
   "execution_count": null,
   "metadata": {},
   "outputs": [],
   "source": [
    "gg_n10plgapeg_wat = line_fit(np.mean(n10plgapeg_lpwat[2]),blen_n10pp)"
   ]
  },
  {
   "cell_type": "code",
   "execution_count": null,
   "metadata": {},
   "outputs": [],
   "source": [
    "gg_n8plgapeg_n10wat = line_fit(np.mean(n8plgapeg_lpwat[2]),blen_n10pp)"
   ]
  },
  {
   "cell_type": "code",
   "execution_count": null,
   "metadata": {},
   "outputs": [],
   "source": [
    "gg_n6plgapeg_n10wat = line_fit(np.mean(n6plgapeg_lpwat[2]),blen_n10pp)"
   ]
  },
  {
   "cell_type": "code",
   "execution_count": null,
   "metadata": {},
   "outputs": [],
   "source": [
    "gg_n10plgapeg_wat"
   ]
  },
  {
   "cell_type": "markdown",
   "metadata": {},
   "source": [
    "#### Block averaged Rg, Ree, Rh, mean sq. Ree and mean sq. Rg persistence length, N = 10 PLGA-PEG in water"
   ]
  },
  {
   "cell_type": "code",
   "execution_count": null,
   "metadata": {},
   "outputs": [],
   "source": [
    "blppn10 = []\n",
    "for i in range(n10_mon-1):\n",
    "    if i < int((n10_mon/2)-1):\n",
    "        # PLGA contour length values\n",
    "        blppn10.append(COM_n10pp[0,0])    \n",
    "    elif i == int((n10_mon/2)-1):\n",
    "        #PLGA-PEG linker length\n",
    "        blppn10.append(COM_n10pp[1,0]) \n",
    "    elif i > int((n10_mon/2)-1):\n",
    "    #    # PEG contour length values\n",
    "        blppn10.append(COM_n10pp[2,0]) \n",
    "\n",
    "# Contour Length, N = 6 PLGA-PEG in water\n",
    "lc_ppn10 = np.sum(blppn10)\n",
    "lc_ppn10"
   ]
  },
  {
   "cell_type": "code",
   "execution_count": null,
   "metadata": {},
   "outputs": [],
   "source": [
    "# Ree^2/Rg^2 array at different contour lengths\n",
    "re2e_rgsq_plgapegwat[1,2] = lc_ppn10\n",
    "re2e_rgsq_plgapegwat"
   ]
  },
  {
   "cell_type": "code",
   "execution_count": null,
   "metadata": {},
   "outputs": [],
   "source": [
    "a_ppn10 = np.mean(n10_blksplgapeg_wat['Avg Sq. end to end distance'])"
   ]
  },
  {
   "cell_type": "code",
   "execution_count": null,
   "metadata": {},
   "outputs": [],
   "source": [
    "b_ppn10 = np.mean(n10_blksplgapeg_wat['Avg Sq. radius of gyration'])"
   ]
  },
  {
   "cell_type": "code",
   "execution_count": null,
   "metadata": {},
   "outputs": [],
   "source": [
    "re2e_rgsq_plgapegwat[0,2] = a_ppn10/b_ppn10\n",
    "re2e_rgsq_plgapegwat"
   ]
  },
  {
   "cell_type": "code",
   "execution_count": null,
   "metadata": {},
   "outputs": [],
   "source": [
    "# Rg/Rh array at different contour lengths \n",
    "rhy_rg_plgapegwat[1,2] = lc_ppn10\n",
    "rhy_rg_plgapegwat"
   ]
  },
  {
   "cell_type": "code",
   "execution_count": null,
   "metadata": {},
   "outputs": [],
   "source": [
    "aa_ppn10 = np.mean(n10_blksplgapeg_wat['Avg Radius of gyration'])"
   ]
  },
  {
   "cell_type": "code",
   "execution_count": null,
   "metadata": {},
   "outputs": [],
   "source": [
    "bb_ppn10 = np.mean(n10_blksplgapeg_wat['Avg Hydrodynamic radius'])"
   ]
  },
  {
   "cell_type": "code",
   "execution_count": null,
   "metadata": {},
   "outputs": [],
   "source": [
    "rhy_rg_plgapegwat[0,2] = aa_ppn10/bb_ppn10\n",
    "rhy_rg_plgapegwat"
   ]
  },
  {
   "cell_type": "code",
   "execution_count": null,
   "metadata": {},
   "outputs": [],
   "source": [
    "# pers length/contour length \n",
    "kuhnlpL_plgapegwat[0,2] = np.mean(n10_blksplgapeg_wat[\"Avg persistence length\"])/lc_ppn10\n",
    "kuhnlpL_plgapegwat"
   ]
  },
  {
   "cell_type": "markdown",
   "metadata": {},
   "source": [
    "#### Block averaged Radius of gyration and persistence length, N = 10 PLGA-PEG in water"
   ]
  },
  {
   "cell_type": "code",
   "execution_count": null,
   "metadata": {},
   "outputs": [],
   "source": [
    "np.mean(n10_blksplgapeg_wat[\"Avg persistence length\"])"
   ]
  },
  {
   "cell_type": "code",
   "execution_count": null,
   "metadata": {},
   "outputs": [],
   "source": [
    "np.std(n10_blksplgapeg_wat[\"Avg persistence length\"])"
   ]
  },
  {
   "cell_type": "code",
   "execution_count": null,
   "metadata": {},
   "outputs": [],
   "source": [
    "np.mean(n10_blksplgapeg_wat[\"Avg Radius of gyration\"])"
   ]
  },
  {
   "cell_type": "code",
   "execution_count": null,
   "metadata": {},
   "outputs": [],
   "source": [
    "np.std(n10_blksplgapeg_wat[\"Avg Radius of gyration\"])"
   ]
  },
  {
   "cell_type": "code",
   "execution_count": null,
   "metadata": {},
   "outputs": [],
   "source": [
    "plt.figure(figsize=(7,7))\n",
    "plt.errorbar(blen_n6pp, np.log(cor_n6plgapeg_wat[0]), yerr=mk_n6ppwat, color='teal', linestyle=\"None\",marker='o',\n",
    "     capsize=5, capthick=1, ecolor='black')\n",
    "plt.errorbar(blen_n8pp, np.log(cor_n8plgapeg_wat[0]), yerr=mk_n8ppwat, color='dodgerblue', linestyle=\"None\",marker='o',\n",
    "     capsize=5, capthick=1, ecolor='black')\n",
    "plt.errorbar(blen_n10pp, np.log(cor_n10plgapeg_wat[0]), yerr=mk_n10ppwat, color='darkmagenta', linestyle=\"None\",marker='o',\n",
    "     capsize=5, capthick=1, ecolor='black')\n",
    "plt.plot(blen_n10pp, gg_n6plgapeg_n10wat, color='teal')\n",
    "plt.plot(blen_n10pp, gg_n8plgapeg_n10wat, color='dodgerblue')\n",
    "plt.plot(blen_n10pp, gg_n10plgapeg_wat, color='darkmagenta')\n",
    "plt.title(r'Ensemble Averaged ln(Cosine $\\theta$) PLGA-PEG in water', fontsize=15, y=1.01)\n",
    "plt.xlabel(r'Bond Length', fontsize=15)\n",
    "plt.ylabel(r'ln$\\left< Cos(\\theta)\\right >$', fontsize=15)\n",
    "plt.ylim(-6,1)\n",
    "plt.xlim(0,40)\n",
    "#plt.ylim(-1.9,0)\n",
    "font = font_manager.FontProperties(family='Arial', style='normal', size='14')\n",
    "#plt.legend([r'$N_{PEG}$ = 6: $L_{p}$ = 18.8 $\\AA$ ± 3.60 $\\AA$'], loc=3, frameon=0, fontsize=14, prop=font)\n",
    "plt.tick_params(labelsize=14)\n",
    "plt.text(0.5, -5.9,r'$N_{PLGA-PEG}$ = 6: $L_{p}$ = 19.4 $\\AA$ ± 1.43 $\\AA$', fontsize=15, color='teal')\n",
    "plt.text(0.5, -5.58,r'$N_{PLGA-PEG}$ = 8: $L_{p}$ = 20.8 $\\AA$ ± 1.03 $\\AA$', fontsize=15, color='dodgerblue')\n",
    "plt.text(0.5, -5.23,r'$N_{PLGA-PEG}$ = 10: $L_{p}$ = 21.2 $\\AA$ ± 0.58 $\\AA$', fontsize=15, color='darkmagenta')"
   ]
  },
  {
   "cell_type": "code",
   "execution_count": null,
   "metadata": {},
   "outputs": [],
   "source": [
    "rgplgapeg_olig_wat[r\"$R_{g}$ [Angstrom] N = 10 PLGA-PEG water\"] = n10_blksplgapeg_wat[\"Avg Radius of gyration\"]\n",
    "rgplgapeg_olig_wat"
   ]
  },
  {
   "cell_type": "code",
   "execution_count": null,
   "metadata": {},
   "outputs": [],
   "source": [
    "pers_plgapegt_wat[r\"$L_{p}$ [Angstrom] N = 10 PLGA-PEG water\"] = n10_blksplgapeg_wat[\"Avg persistence length\"]\n",
    "pers_plgapegt_wat"
   ]
  },
  {
   "cell_type": "code",
   "execution_count": null,
   "metadata": {},
   "outputs": [],
   "source": []
  },
  {
   "cell_type": "code",
   "execution_count": null,
   "metadata": {},
   "outputs": [],
   "source": []
  },
  {
   "cell_type": "markdown",
   "metadata": {},
   "source": [
    "### N = 16 PLGA-PEG/water "
   ]
  },
  {
   "cell_type": "code",
   "execution_count": null,
   "metadata": {},
   "outputs": [],
   "source": [
    "# For the right Rg calculation using MD Analysis, use trajactory without pbc \n",
    "n16_plgapeg_wat = mda.Universe(\"n16plga_peg_wat/n16plgapeg_WAT.pdb\", \"n16plga_peg_wat/NoWat_n16plgapeg.xtc\")"
   ]
  },
  {
   "cell_type": "code",
   "execution_count": null,
   "metadata": {},
   "outputs": [],
   "source": [
    "n16_plgapeg_wat.trajectory"
   ]
  },
  {
   "cell_type": "code",
   "execution_count": null,
   "metadata": {},
   "outputs": [],
   "source": [
    "len(n16_plgapeg_wat.trajectory)"
   ]
  },
  {
   "cell_type": "code",
   "execution_count": null,
   "metadata": {},
   "outputs": [],
   "source": [
    "#Select the polymer heavy atoms \n",
    "plgapeg_n16wat = n16_plgapeg_wat.select_atoms(\"resname sPLG PLG bPLG bPEG PEG sPEG and not type H\")"
   ]
  },
  {
   "cell_type": "code",
   "execution_count": null,
   "metadata": {},
   "outputs": [],
   "source": [
    "np.unique(plgapeg_n16wat.resids)"
   ]
  },
  {
   "cell_type": "code",
   "execution_count": null,
   "metadata": {},
   "outputs": [],
   "source": [
    "# Get cosine theta values at frame 0 \n",
    "crv_n16plgapeg_wat = pers_length(plgapeg_n16wat,16)\n",
    "crv_n16plgapeg_wat"
   ]
  },
  {
   "cell_type": "markdown",
   "metadata": {},
   "source": [
    "#### Orientation Order parameter vs. time "
   ]
  },
  {
   "cell_type": "code",
   "execution_count": null,
   "metadata": {},
   "outputs": [],
   "source": [
    "n16_mon = 16 \n",
    "start = 0\n",
    "end = 36001"
   ]
  },
  {
   "cell_type": "code",
   "execution_count": null,
   "metadata": {},
   "outputs": [],
   "source": [
    "OOp_n16plgapeg_wat = orientation_order_param(plgapeg_n16wat, n16_plgapeg_wat, n16_mon, start, end)"
   ]
  },
  {
   "cell_type": "code",
   "execution_count": null,
   "metadata": {},
   "outputs": [],
   "source": [
    "OOp_n16plgapeg_wat.shape"
   ]
  },
  {
   "cell_type": "code",
   "execution_count": null,
   "metadata": {},
   "outputs": [],
   "source": [
    "trj_len = np.arange(36001)\n",
    "plt.figure(figsize=(7,7))\n",
    "plt.title(r'PLGA-PEG Orientation Order Parameter', fontsize=18, y=1.01)\n",
    "plt.xlabel(r'Time [ns]', fontsize=15)\n",
    "plt.ylabel(r'Z', fontsize=15)\n",
    "plt.plot(trj_len/100, OOp_n6plgapeg_wat,linewidth=2, color='teal')\n",
    "plt.plot(trj_len/100, OOp_n8plgapeg_wat,linewidth=2, color='dodgerblue')\n",
    "plt.plot(trj_len/100, OOp_n10plgapeg_wat,linewidth=2, color='darkmagenta')\n",
    "plt.plot(trj_len/100, OOp_n16plgapeg_wat,linewidth=2, color='maroon')\n",
    "plt.tick_params(labelsize=14)\n",
    "plt.legend(['N = 6 in Water', 'N = 8 in Water','N = 10 in Water','N = 16 in water'], frameon=False, fontsize=14)\n",
    "#plt.text(127, 0.96,r'N = 6 in water', fontsize=18, color='#1F2E69', family='Arial')\n",
    "plt.xlim(0,360)\n",
    "plt.ylim(-1,1)"
   ]
  },
  {
   "cell_type": "markdown",
   "metadata": {},
   "source": [
    "#### Mean Orientation Order Parameter for N = 16 PLGA-PEG in water"
   ]
  },
  {
   "cell_type": "code",
   "execution_count": null,
   "metadata": {},
   "outputs": [],
   "source": [
    "OOp_n16plgapeg_wat[82]"
   ]
  },
  {
   "cell_type": "code",
   "execution_count": null,
   "metadata": {},
   "outputs": [],
   "source": [
    "OOp_n16plgapeg_wat[239]"
   ]
  },
  {
   "cell_type": "code",
   "execution_count": null,
   "metadata": {},
   "outputs": [],
   "source": [
    "np.mean(OOp_n16plgapeg_wat)"
   ]
  },
  {
   "cell_type": "code",
   "execution_count": null,
   "metadata": {},
   "outputs": [],
   "source": [
    "np.std(OOp_n16plgapeg_wat)"
   ]
  },
  {
   "cell_type": "markdown",
   "metadata": {},
   "source": [
    "#### Mean squared end to end distance "
   ]
  },
  {
   "cell_type": "code",
   "execution_count": null,
   "metadata": {},
   "outputs": [],
   "source": [
    "eVec_n16plgapeg_wat, e2edis_n16plgapeg_wat = mean_sq_e2e(plgapeg_n16wat, n16_plgapeg_wat, n16_mon, start, end)"
   ]
  },
  {
   "cell_type": "code",
   "execution_count": null,
   "metadata": {},
   "outputs": [],
   "source": [
    "trj_len = np.arange(36001)\n",
    "plt.figure(figsize=(7,7))\n",
    "plt.title(r'PLGA-PEG End to End distance', fontsize=18, y=1.01)\n",
    "plt.xlabel(r'Time [ns]', fontsize=15)\n",
    "plt.ylabel(r'$R_{ee}$ [nm]', fontsize=15)\n",
    "plt.plot(trj_len/100, e2edis_n6plgapeg_wat[1]/10,linewidth=2, color='teal')\n",
    "plt.plot(trj_len/100, e2edis_n8plgapeg_wat[1]/10,linewidth=2, color='dodgerblue')\n",
    "plt.plot(trj_len/100, e2edis_n10plgapeg_wat[1]/10,linewidth=2, color='darkmagenta')\n",
    "plt.plot(trj_len/100, e2edis_n16plgapeg_wat[1]/10,linewidth=2, color='maroon')\n",
    "plt.tick_params(labelsize=14)\n",
    "plt.legend(['N = 6 in Water', 'N = 8 in Water','N = 10 in Water','N = 16 in water'], frameon=False, fontsize=14)\n",
    "#plt.text(127, 0.96,r'N = 6 in water', fontsize=18, color='#1F2E69', family='Arial')\n",
    "plt.xlim(0,360)\n",
    "plt.ylim(0,7)"
   ]
  },
  {
   "cell_type": "markdown",
   "metadata": {},
   "source": [
    "#### Ree Autocorrelation function"
   ]
  },
  {
   "cell_type": "code",
   "execution_count": null,
   "metadata": {},
   "outputs": [],
   "source": [
    "e2edis_n16plgapeg_wat[1]"
   ]
  },
  {
   "cell_type": "code",
   "execution_count": null,
   "metadata": {},
   "outputs": [],
   "source": [
    "t_corr = 7000\n",
    "window_shift = 9"
   ]
  },
  {
   "cell_type": "code",
   "execution_count": null,
   "metadata": {},
   "outputs": [],
   "source": [
    "ACn16plgapegwat_Ree, eqvar_n16plgapegwat = obs_autocorr_RA(e2edis_n16plgapeg_wat[1],t_corr, window_shift,start,end)"
   ]
  },
  {
   "cell_type": "code",
   "execution_count": null,
   "metadata": {},
   "outputs": [],
   "source": [
    "ACn16plgapegwat_Ree"
   ]
  },
  {
   "cell_type": "code",
   "execution_count": null,
   "metadata": {},
   "outputs": [],
   "source": [
    "eqvar_n16plgapegwat"
   ]
  },
  {
   "cell_type": "code",
   "execution_count": null,
   "metadata": {},
   "outputs": [],
   "source": [
    "ACn16plgapegwat_sqRee, evsqRee_n16plgapegwat = obs_autocorr_RA(e2edis_n16plgapeg_wat[0],t_corr, window_shift,start,end)"
   ]
  },
  {
   "cell_type": "code",
   "execution_count": null,
   "metadata": {},
   "outputs": [],
   "source": [
    "np.sqrt(evsqRee_n16plgapegwat)"
   ]
  },
  {
   "cell_type": "code",
   "execution_count": null,
   "metadata": {},
   "outputs": [],
   "source": [
    "plt.figure(figsize=(7,7))\n",
    "plt.title(r'PLGA-PEG Ree autocorrelation', fontsize=18, y=1.01)\n",
    "plt.xlabel(r'Time [ns]', fontsize=15)\n",
    "plt.ylabel(r'$C_{A}(t)$', fontsize=15)\n",
    "plt.plot(ACn6plgapegwat_Ree[1]/100, ACn6plgapegwat_Ree[0],linewidth=2, color='#1F2E69')\n",
    "plt.plot(ACn8plgapegwat_Ree[1]/100, ACn8plgapegwat_Ree[0],linewidth=2, color='#4C80ED')\n",
    "plt.plot(ACn10plgapegwat_Ree[1]/100, ACn10plgapegwat_Ree[0],linewidth=2, color='#8C52FC')\n",
    "plt.plot(ACn16plgapegwat_Ree[1]/100, ACn16plgapegwat_Ree[0],linewidth=2, color='purple')\n",
    "plt.tick_params(labelsize=14)\n",
    "plt.legend(['N = 6 Ree','N = 8 Ree','N = 10 Ree','N = 16 Ree'], frameon=False, fontsize=14)\n",
    "#plt.yscale('symlog', linthreshy=0.5)\n",
    "#plt.xscale('symlog')\n",
    "#plt.grid(b=True)\n",
    "plt.xlim(0,20)\n",
    "plt.ylim(-1,1)"
   ]
  },
  {
   "cell_type": "markdown",
   "metadata": {},
   "source": [
    "### Hydrodynamic Radius vs time"
   ]
  },
  {
   "cell_type": "code",
   "execution_count": null,
   "metadata": {},
   "outputs": [],
   "source": [
    "plgapegn16wat_rh = hydro_rad_poly(plgapeg_n16wat, n16_plgapeg_wat, n16_mon, start, end)"
   ]
  },
  {
   "cell_type": "code",
   "execution_count": null,
   "metadata": {},
   "outputs": [],
   "source": [
    "trj_len = np.arange(36001)\n",
    "plt.figure(figsize=(7,7))\n",
    "plt.title(r'PLGA-PEG Hydrodynamic Radius', fontsize=18, y=1.01)\n",
    "plt.xlabel(r'Time [ns]', fontsize=15)\n",
    "plt.ylabel(r'$R_{hyd}$ [nm]', fontsize=15)\n",
    "plt.plot(trj_len/100, plgapegn6wat_rh/10,linewidth=2, color='teal')\n",
    "plt.plot(trj_len/100, plgapegn8wat_rh/10,linewidth=2, color='dodgerblue')\n",
    "plt.plot(trj_len/100, plgapegn10wat_rh/10,linewidth=2, color='darkmagenta')\n",
    "plt.plot(trj_len/100, plgapegn16wat_rh/10,linewidth=2, color='maroon')\n",
    "plt.tick_params(labelsize=14)\n",
    "plt.legend(['N = 6 in Water', 'N = 8 in Water','N = 10 in Water','N = 16 in water'], frameon=False, fontsize=14)\n",
    "#plt.text(127, 0.96,r'N = 6 in water', fontsize=18, color='#1F2E69', family='Arial')\n",
    "plt.xlim(0,360)\n",
    "plt.ylim(0,7)"
   ]
  },
  {
   "cell_type": "markdown",
   "metadata": {},
   "source": [
    "#### Rh autocorrelation"
   ]
  },
  {
   "cell_type": "code",
   "execution_count": null,
   "metadata": {},
   "outputs": [],
   "source": [
    "t_corr = 7000\n",
    "window_shift = 9"
   ]
  },
  {
   "cell_type": "code",
   "execution_count": null,
   "metadata": {},
   "outputs": [],
   "source": [
    "ACn16plgapegwatRh, eqvarRh_n16plgapegwat = obs_autocorr_RA(plgapegn16wat_rh,t_corr, window_shift,start,end)"
   ]
  },
  {
   "cell_type": "code",
   "execution_count": null,
   "metadata": {},
   "outputs": [],
   "source": [
    "ACn16plgapegwatRh"
   ]
  },
  {
   "cell_type": "code",
   "execution_count": null,
   "metadata": {},
   "outputs": [],
   "source": [
    "eqvarRh_n16plgapegwat"
   ]
  },
  {
   "cell_type": "code",
   "execution_count": null,
   "metadata": {},
   "outputs": [],
   "source": [
    "plt.figure(figsize=(7,7))\n",
    "plt.title(r'PLGA-PEG Rh autocorrelation', fontsize=18, y=1.01)\n",
    "plt.xlabel(r'Time [ns]', fontsize=15)\n",
    "plt.ylabel(r'$C_{Rh}(t)$', fontsize=15)\n",
    "plt.plot(ACn6plgapegwatRh[1]/100, ACn6plgapegwatRh[0],linewidth=2, color='#1F2E69')\n",
    "plt.plot(ACn8plgapegwatRh[1]/100, ACn8plgapegwatRh[0],linewidth=2, color='#4C80ED')\n",
    "plt.plot(ACn10plgapegwatRh[1]/100, ACn10plgapegwatRh[0],linewidth=2, color='#8C52FC')\n",
    "plt.plot(ACn16plgapegwatRh[1]/100, ACn16plgapegwatRh[0],linewidth=2, color='purple')\n",
    "plt.tick_params(labelsize=14)\n",
    "plt.legend(['N = 6 in water','N = 8 in water','N = 10 in water','N = 16 in water'], frameon=False, fontsize=14)\n",
    "plt.xlim(0,20)\n",
    "#plt.ylim(-0.2,1)"
   ]
  },
  {
   "cell_type": "markdown",
   "metadata": {},
   "source": [
    "### Relaxation times vs monomer length "
   ]
  },
  {
   "cell_type": "code",
   "execution_count": null,
   "metadata": {},
   "outputs": [],
   "source": [
    "# Key variables \n",
    "# def pos_bead_autocorr_RA(polymer_atoms, universe, n_monomers, t_corr,  start, end):\n",
    "n16_mon = 16 \n",
    "start = 0\n",
    "end = 36001\n",
    "t_corr = 2000\n",
    "window_shift = 20"
   ]
  },
  {
   "cell_type": "code",
   "execution_count": null,
   "metadata": {},
   "outputs": [],
   "source": [
    "s_time = timeit.default_timer()\n",
    "tcRA_plgapegn16wat, tcSUM_plgapegn16wat = pos_bead_autocorr_RA(plgapeg_n16wat, n16_plgapeg_wat, n16_mon, t_corr, window_shift, start, end)\n",
    "timeit.default_timer() - s_time"
   ]
  },
  {
   "cell_type": "code",
   "execution_count": null,
   "metadata": {},
   "outputs": [],
   "source": [
    "tcRA_plgapegn16wat"
   ]
  },
  {
   "cell_type": "code",
   "execution_count": null,
   "metadata": {},
   "outputs": [],
   "source": [
    "tcSUM_plgapegn16wat.shape"
   ]
  },
  {
   "cell_type": "markdown",
   "metadata": {},
   "source": [
    "### Fitting autocorrelation data "
   ]
  },
  {
   "cell_type": "code",
   "execution_count": null,
   "metadata": {},
   "outputs": [],
   "source": [
    "xdata_plgapegn16wat = tcRA_plgapegn16wat[1]/100\n",
    "ydata_plgapegn16wat = tcRA_plgapegn16wat[0]"
   ]
  },
  {
   "cell_type": "code",
   "execution_count": null,
   "metadata": {},
   "outputs": [],
   "source": [
    "ydata_plgapegn16wat.shape"
   ]
  },
  {
   "cell_type": "code",
   "execution_count": null,
   "metadata": {},
   "outputs": [],
   "source": [
    "xdata_plgapegn16wat.shape"
   ]
  },
  {
   "cell_type": "code",
   "execution_count": null,
   "metadata": {},
   "outputs": [],
   "source": [
    "plt.figure(figsize=(8,8))\n",
    "plt.rcParams[\"font.family\"] = \"Arial\"\n",
    "plt.scatter(xdata_plgapegn6wat, ydata_plgapegn6wat, color='teal', s=s_n6)\n",
    "plt.scatter(xdata_plgapegn8wat, ydata_plgapegn8wat, color='dodgerblue', s=s_n8)\n",
    "plt.scatter(xdata_plgapegn10wat, ydata_plgapegn10wat, color='darkmagenta', s=s_n10)\n",
    "plt.scatter(xdata_plgapegn16wat, ydata_plgapegn16wat, color='maroon', s=s_n16)\n",
    "plt.title(r'Positional bead autocorrelation PLGA-PEG in Water', fontsize=18, y=1.03)\n",
    "plt.xlabel(r'Time lag [ns]', fontsize=18)\n",
    "plt.ylabel('C(t)', fontsize=18)\n",
    "#plt.legend(fontsize=14, frameon=False)\n",
    "plt.xticks(fontsize=18)\n",
    "plt.yticks(fontsize=18)\n",
    "#plt.yscale('symlog', linthreshy=0.5)\n",
    "plt.xscale('symlog')\n",
    "plt.grid(b=True)\n",
    "plt.xlim(0,100)\n",
    "plt.ylim(-1,1)\n",
    "plt.tick_params(labelsize=18, direction='in', which='both', width=1, length=10)"
   ]
  },
  {
   "cell_type": "code",
   "execution_count": null,
   "metadata": {},
   "outputs": [],
   "source": [
    "ts = 1\n",
    "hs = 0.1\n",
    "n16_mon = 16\n",
    "n_b = n16_mon - 1\n",
    "tr1 = 2\n",
    "zimm_relax_fit(ts,tr1,hs,n_b)"
   ]
  },
  {
   "cell_type": "code",
   "execution_count": null,
   "metadata": {},
   "outputs": [],
   "source": [
    "rouse_relax(1, 2, 6)"
   ]
  },
  {
   "cell_type": "code",
   "execution_count": null,
   "metadata": {},
   "outputs": [],
   "source": [
    "zimm_relax_func(1, 2, 0.1, 5)"
   ]
  },
  {
   "cell_type": "code",
   "execution_count": null,
   "metadata": {},
   "outputs": [],
   "source": [
    "def res_plgapegn16wat(variabls, xnp, ynp):\n",
    "    hs_np = variabls['h_star']\n",
    "    tr1_np = variabls['t_first']\n",
    "    n_bonds = 15\n",
    "    testnp = []\n",
    "    for i in range(len(xnp)):\n",
    "        model_ynp = zimm_relax_fit(xnp[i], tr1_np, hs_np, n_bonds)\n",
    "        #model_ynp = rouse_relax(xnp[i], tr1_np, n_m)\n",
    "        testnp.append(ynp[i] - model_ynp)\n",
    "    \n",
    "    tt_n6 = np.array(testnp)\n",
    "\n",
    "    return tt_n6\n",
    "    \n",
    "#x1 = np.array([0,0])\n",
    "#pfit, pcov, infodict, errmsg, success = leastsq(res_poly, x1, args=(xdata, ydata), full_output=1)"
   ]
  },
  {
   "cell_type": "code",
   "execution_count": null,
   "metadata": {},
   "outputs": [],
   "source": [
    "ppfit_n16wat = Parameters()\n",
    "ppfit_n16wat.add(name='h_star', value=0, min=0, max=0.26, vary=True)\n",
    "ppfit_n16wat.add(name='t_first', value=2)"
   ]
  },
  {
   "cell_type": "code",
   "execution_count": null,
   "metadata": {},
   "outputs": [],
   "source": [
    "mini_ppn16wat = Minimizer(res_plgapegn16wat, ppfit_n16wat, fcn_args=(xdata_plgapegn16wat, ydata_plgapegn16wat))\n",
    "out_ppn16wat = mini_ppn16wat.leastsq()\n",
    "#bfit_n16 = ydata_n16wat + out_n16wat.residual "
   ]
  },
  {
   "cell_type": "code",
   "execution_count": null,
   "metadata": {},
   "outputs": [],
   "source": [
    "report_fit(out_ppn16wat.params)"
   ]
  },
  {
   "cell_type": "code",
   "execution_count": null,
   "metadata": {},
   "outputs": [],
   "source": [
    "out_ppn16wat.params"
   ]
  },
  {
   "cell_type": "code",
   "execution_count": null,
   "metadata": {},
   "outputs": [],
   "source": [
    "# with h varying, tr = 0.88882196 +/- 0.00497893,h* = 0.26000000 +/- 0.00391920\n",
    "twat_n16plgapeg = []\n",
    "n_bonds = 15\n",
    "for i in range(len(xdata_plgapegn16wat)):\n",
    "    twat_n16plgapeg.append(zimm_relax_fit(xdata_plgapegn16wat[i], 0.88882196, 0.26,  n_bonds))\n"
   ]
  },
  {
   "cell_type": "code",
   "execution_count": null,
   "metadata": {},
   "outputs": [],
   "source": [
    "t_c, tz_n16plgapeg, zimm_n16plgapeg, rouse_n16plgapeg = zimm_relax_func(1, 0.88882196, 0.26,  n_bonds)"
   ]
  },
  {
   "cell_type": "code",
   "execution_count": null,
   "metadata": {},
   "outputs": [],
   "source": [
    "len(tz_n16plgapeg)"
   ]
  },
  {
   "cell_type": "code",
   "execution_count": null,
   "metadata": {},
   "outputs": [],
   "source": [
    "x_pos_n8 = np.arange(7)\n",
    "x_pos_n10 = np.arange(9)\n",
    "x_pos_n16 = np.arange(15)\n",
    "width = 0.25\n",
    "aa_types_n16 = [r\"$\\tau_{1}$\", r\"$\\tau_{2}$\", r\"$\\tau_{3}$\", r\"$\\tau_{4}$\", r\"$\\tau_{5}$\",r\"$\\tau_{6}$\",r\"$\\tau_{7}$\",\n",
    "           r\"$\\tau_{8}$\", r\"$\\tau_{9}$\",r\"$\\tau_{10}$\",r\"$\\tau_{11}$\",r\"$\\tau_{12}$\",r\"$\\tau_{13}$\",r\"$\\tau_{14}$\",r\"$\\tau_{15}$\"]\n",
    "fig = plt.figure(figsize=(7,7))\n",
    "plt.title('PLGA-PEG in water', fontsize=18)\n",
    "plt.bar(x_pos_n8+(2*width), tz_n8plgapeg, width, ecolor='black',capsize=5, color='dodgerblue', label='N = 8')\n",
    "plt.bar(x_pos_n10+(width), tz_n10plgapeg, width, ecolor='black',capsize=5, color='darkmagenta', label='N = 10')\n",
    "plt.bar(x_pos_n16, tz_n16plgapeg, width, ecolor='black',capsize=5, color='maroon', label='N = 16')\n",
    "plt.xticks(x_pos_n16, labels=aa_types_n16, fontsize=12)\n",
    "plt.legend(fontsize=12 ,frameon=False)\n",
    "plt.ylabel(r'Relaxation times [ns]', fontsize=15)"
   ]
  },
  {
   "cell_type": "code",
   "execution_count": null,
   "metadata": {},
   "outputs": [],
   "source": [
    "aa_eigen_n16 = [r\"$a_{1}$\", r\"$a_{2}$\", r\"$a_{3}$\", r\"$a_{4}$\", r\"$a_{5}$\",r\"$a_{6}$\",r\"$a_{7}$\",r\"$a_{8}$\",\n",
    "           r\"$a_{9}$\",r\"$a_{10}$\",r\"$a_{11}$\",r\"$a_{12}$\",r\"$a_{13}$\",r\"$a_{14}$\",r\"$a_{15}$\"]\n",
    "fig = plt.figure(figsize=(7,7))\n",
    "plt.title('PLGA-PEG in water N = 16', fontsize=18)\n",
    "plt.bar(x_pos_n16, rouse_n16plgapeg, width,ecolor='black',capsize=5, color='c', label='Rouse')\n",
    "plt.bar(x_pos_n16+width, zimm_n16plgapeg, width,ecolor='black',capsize=5, color='m', label='Zimm')\n",
    "plt.xticks(x_pos_n16+width,labels=aa_eigen_n16, fontsize=12)\n",
    "plt.legend(fontsize=12 ,frameon=False)\n",
    "plt.ylabel(r'Rouse and Zimm eigenvalues', fontsize=15)"
   ]
  },
  {
   "cell_type": "code",
   "execution_count": null,
   "metadata": {},
   "outputs": [],
   "source": [
    "plt.figure(figsize=(8,8))\n",
    "plt.rcParams[\"font.family\"] = \"Arial\"\n",
    "plt.scatter(xdata_plgapegn6wat, ydata_plgapegn6wat, color='teal', s=s_n6)\n",
    "plt.scatter(xdata_plgapegn8wat, ydata_plgapegn8wat, color='dodgerblue', s=s_n8)\n",
    "plt.scatter(xdata_plgapegn10wat, ydata_plgapegn10wat, color='darkmagenta', s=s_n10)\n",
    "plt.scatter(xdata_plgapegn16wat, ydata_plgapegn16wat, color='maroon', s=s_n16)\n",
    "plt.plot(xdata_plgapegn6wat, twat_n6plgapeg, color='teal')\n",
    "plt.plot(xdata_plgapegn8wat, twat_n8plgapeg, color='dodgerblue')\n",
    "plt.plot(xdata_plgapegn10wat, twat_n10plgapeg, color='darkmagenta')\n",
    "plt.plot(xdata_plgapegn16wat, twat_n16plgapeg, color='maroon')\n",
    "plt.title(r'Positional bead autocorrelation PLGA-PEG in water', fontsize=18, y=1.03)\n",
    "plt.xlabel(r'Time lag [ns]', fontsize=18)\n",
    "plt.ylabel('C(t)', fontsize=18)\n",
    "#plt.legend(fontsize=14, frameon=False)\n",
    "plt.xticks(fontsize=18)\n",
    "plt.yticks(fontsize=18)\n",
    "#plt.yscale('symlog', linthreshy=0.5)\n",
    "plt.xscale('symlog')\n",
    "plt.grid(b=True)\n",
    "plt.xlim(0,100)\n",
    "plt.ylim(-1,1)\n",
    "plt.tick_params(labelsize=18, direction='in', which='both', width=1, length=10)"
   ]
  },
  {
   "cell_type": "code",
   "execution_count": null,
   "metadata": {},
   "outputs": [],
   "source": [
    "rppwat_msen16 = np.array([ydata_plgapegn16wat - np.array(twat_n16plgapeg)])\n",
    "rppwat_msen16"
   ]
  },
  {
   "cell_type": "code",
   "execution_count": null,
   "metadata": {},
   "outputs": [],
   "source": [
    "plt.figure(figsize=(8,8))\n",
    "plt.rcParams[\"font.family\"] = \"Arial\"\n",
    "plt.scatter(xdata_plgapegn6wat, rppwat_msen6, color='teal', s=s_n6)\n",
    "plt.scatter(xdata_plgapegn8wat, rppwat_msen8, color='dodgerblue', s=s_n8)\n",
    "plt.scatter(xdata_plgapegn10wat, rppwat_msen10, color='darkmagenta', s=s_n10)\n",
    "plt.scatter(xdata_plgapegn16wat, rppwat_msen16, color='maroon', s=s_n16)\n",
    "plt.title(r'Relaxation time Fitting Residuals PLGA in water', fontsize=18, y=1.01)\n",
    "plt.xlabel(r'Time lag [ns]', fontsize=18)\n",
    "plt.ylabel('Residuals', fontsize=18)\n",
    "plt.xticks(fontsize=14)\n",
    "plt.yticks(fontsize=14)\n",
    "plt.xlim([0,100])\n",
    "plt.ylim([-0.7,1])\n",
    "plt.tick_params(labelsize=15)"
   ]
  },
  {
   "cell_type": "markdown",
   "metadata": {},
   "source": [
    "#### Radius of Gyration vs. time N = 16 PLGA-PEG in water"
   ]
  },
  {
   "cell_type": "code",
   "execution_count": null,
   "metadata": {},
   "outputs": [],
   "source": [
    "# Key variables \n",
    "n16_mon = 16 \n",
    "start = 0\n",
    "end = 36001"
   ]
  },
  {
   "cell_type": "code",
   "execution_count": null,
   "metadata": {},
   "outputs": [],
   "source": [
    "n16plgapeg_rgens_wat, cor_n16plgapeg_wat, n16plgapeg_cos_wat, rgwat_n16plgapeg = get_rg_pers_poly(plgapeg_n16wat, n16_plgapeg_wat,\n",
    "                                                                                                  start,end)"
   ]
  },
  {
   "cell_type": "code",
   "execution_count": null,
   "metadata": {},
   "outputs": [],
   "source": [
    "n16plgapeg_rgens_wat[0].shape"
   ]
  },
  {
   "cell_type": "code",
   "execution_count": null,
   "metadata": {},
   "outputs": [],
   "source": [
    "cor_n16plgapeg_wat[3]"
   ]
  },
  {
   "cell_type": "code",
   "execution_count": null,
   "metadata": {},
   "outputs": [],
   "source": [
    "n16plgapeg_cos_wat"
   ]
  },
  {
   "cell_type": "code",
   "execution_count": null,
   "metadata": {},
   "outputs": [],
   "source": [
    "rgwat_n16plgapeg"
   ]
  },
  {
   "cell_type": "code",
   "execution_count": null,
   "metadata": {},
   "outputs": [],
   "source": [
    "n16plgapeg_rgens_wat.shape"
   ]
  },
  {
   "cell_type": "code",
   "execution_count": null,
   "metadata": {},
   "outputs": [],
   "source": [
    "trj_len = np.arange(36001)\n",
    "plt.figure(figsize=(7,7))\n",
    "plt.title(r'PLGA-PEG Radius of Gyration', fontsize=18, y=1.01)\n",
    "plt.xlabel(r'Time [ns]', fontsize=15)\n",
    "plt.ylabel(r'$R_{g}$ [nm]', fontsize=15)\n",
    "plt.plot(trj_len/100, n6plgapeg_rgens_wat[0]/10,linewidth=2, color='teal')\n",
    "plt.plot(trj_len/100, n8plgapeg_rgens_wat[0]/10,linewidth=2, color='dodgerblue')\n",
    "plt.plot(trj_len/100, n10plgapeg_rgens_wat[0]/10,linewidth=2, color='darkmagenta')\n",
    "plt.plot(trj_len/100, n16plgapeg_rgens_wat[0]/10,linewidth=2, color='maroon')\n",
    "plt.tick_params(labelsize=14)\n",
    "plt.legend(['N = 6 in Water', 'N = 8 in Water','N = 10 in Water','N = 16 in water'], frameon=False, fontsize=14)\n",
    "#plt.text(127, 0.96,r'N = 6 in water', fontsize=18, color='#1F2E69', family='Arial')\n",
    "plt.xlim(0,360)\n",
    "plt.ylim(0.2,7)"
   ]
  },
  {
   "cell_type": "markdown",
   "metadata": {},
   "source": [
    "#### Rg Autocorrelation"
   ]
  },
  {
   "cell_type": "code",
   "execution_count": null,
   "metadata": {},
   "outputs": [],
   "source": [
    "ACn16plgapegwat_Rg, eqvarRg_n16plgapegwat = obs_autocorr_RA(n16plgapeg_rgens_wat[0],t_corr, window_shift,start,end)"
   ]
  },
  {
   "cell_type": "code",
   "execution_count": null,
   "metadata": {},
   "outputs": [],
   "source": [
    "ACn16plgapegwat_Rg"
   ]
  },
  {
   "cell_type": "code",
   "execution_count": null,
   "metadata": {},
   "outputs": [],
   "source": [
    "eqvarRg_n16plgapegwat"
   ]
  },
  {
   "cell_type": "code",
   "execution_count": null,
   "metadata": {},
   "outputs": [],
   "source": [
    "plt.figure(figsize=(7,7))\n",
    "plt.title(r'PLGA-PEG in water autocorrelation', fontsize=18, y=1.01)\n",
    "plt.xlabel(r'Time [ns]', fontsize=15)\n",
    "plt.ylabel(r'$C_{A}(t)$', fontsize=15)\n",
    "plt.plot(ACn6plgapegwat_Rg[1]/100, ACn6plgapegwat_Rg[0],linewidth=2, color='#1F2E69')\n",
    "plt.plot(ACn8plgapegwat_Rg[1]/100, ACn8plgapegwat_Rg[0],linewidth=2, color='#4C80ED')\n",
    "plt.plot(ACn10plgapegwat_Rg[1]/100, ACn10plgapegwat_Rg[0],linewidth=2, color='#8C52FC')\n",
    "plt.plot(ACn16plgapegwat_Rg[1]/100, ACn16plgapegwat_Rg[0],linewidth=2, color='purple')\n",
    "plt.tick_params(labelsize=14)\n",
    "plt.legend(['N = 6 Rg','N = 8 Rg','N = 10 Rg','N = 16 Rg'], frameon=False, fontsize=14)\n",
    "#plt.yscale('symlog', linthreshy=0.5)\n",
    "#plt.xscale('symlog')\n",
    "plt.xlim(0,20)\n",
    "plt.ylim(-1,1)"
   ]
  },
  {
   "cell_type": "markdown",
   "metadata": {},
   "source": [
    "#### Get average COM distance, arch length values"
   ]
  },
  {
   "cell_type": "code",
   "execution_count": null,
   "metadata": {},
   "outputs": [],
   "source": [
    "cb_n16plga = np.zeros(shape=(36001))\n",
    "cb_n16pplinker = np.zeros(shape=(36001))\n",
    "cb_n16peg = np.zeros(shape=(36001))\n",
    "count = 0\n",
    "for ts in n16_plgapeg_wat.trajectory[0:36001]:\n",
    "    # 1st two PLGA residues\n",
    "    n16m1_plga = n16_plgapeg_wat.select_atoms(\"resid 1\")\n",
    "    n16m2_plga = n16_plgapeg_wat.select_atoms(\"resid 2\")\n",
    "    # PLGA-PEG linker (n_mon/2 to get to bPLG res no.)\n",
    "    n16pl_link = n16_plgapeg_wat.select_atoms(\"resid 8\")\n",
    "    n16peg_link = n16_plgapeg_wat.select_atoms(\"resid 9\")\n",
    "    # last two PEG residues \n",
    "    n16l1_peg = n16_plgapeg_wat.select_atoms(\"resid 15\")\n",
    "    n16l2_peg = n16_plgapeg_wat.select_atoms(\"resid 16\")\n",
    "    \n",
    "    cb_n16plga[count] = mda.analysis.distances.distance_array(n16m1_plga.center_of_mass(), n16m2_plga.center_of_mass(), \n",
    "                                                   box=n16_plgapeg_wat.trajectory.ts.dimensions)\n",
    "    \n",
    "    cb_n16pplinker[count] = mda.analysis.distances.distance_array(n16pl_link.center_of_mass(), n16peg_link.center_of_mass(), \n",
    "                                                   box=n16_plgapeg_wat.trajectory.ts.dimensions)\n",
    "    \n",
    "    cb_n16peg[count] = mda.analysis.distances.distance_array(n16l1_peg.center_of_mass(), n16l2_peg.center_of_mass(), \n",
    "                                                   box=n16_plgapeg_wat.trajectory.ts.dimensions)\n",
    "    \n",
    "    count += 1\n",
    "    \n",
    "\n",
    "    "
   ]
  },
  {
   "cell_type": "code",
   "execution_count": null,
   "metadata": {},
   "outputs": [],
   "source": [
    "COM_n16pp = np.zeros(shape=(3,2))\n",
    "COM_n16pp[0,0] = np.mean(cb_n16plga)\n",
    "COM_n16pp[1,0] = np.mean(cb_n16pplinker)\n",
    "COM_n16pp[2,0] = np.mean(cb_n16peg)\n",
    "COM_n16pp[0,1] = np.std(cb_n16plga)\n",
    "COM_n16pp[1,1] = np.std(cb_n16pplinker)\n",
    "COM_n16pp[2,1] = np.std(cb_n16peg)\n",
    "COM_n16pp"
   ]
  },
  {
   "cell_type": "markdown",
   "metadata": {},
   "source": [
    "#### Correlation values at each arc length for the whole 360 ns trajectory, N = 16 PLGA-PEG/water"
   ]
  },
  {
   "cell_type": "code",
   "execution_count": null,
   "metadata": {},
   "outputs": [],
   "source": [
    "# x values\n",
    "blen_n16pp = np.zeros(shape=15)\n",
    "for i in range(n16_mon-1):\n",
    "    if i < int((n16_mon/2)-1):\n",
    "        # PLGA contour length values\n",
    "        if i == 0:\n",
    "            blen_n16pp[i] = 0\n",
    "        elif i != 0:\n",
    "            blen_n16pp[i] = np.sum(blen_n16pp[i-1]) + COM_n16pp[0,0]    \n",
    "    elif i == int((n16_mon/2)-1):\n",
    "        #PLGA-PEG linker length\n",
    "        blen_n16pp[i] = np.sum(blen_n16pp[i-1]) + COM_n16pp[1,0]\n",
    "    elif i > int((n16_mon/2)-1):\n",
    "    #    # PEG contour length values\n",
    "        blen_n16pp[i] = np.sum(blen_n16pp[i-1]) + COM_n16pp[2,0]\n",
    "        \n",
    "blen_n16pp"
   ]
  },
  {
   "cell_type": "code",
   "execution_count": null,
   "metadata": {},
   "outputs": [],
   "source": [
    "# Error prop. into natural log std deviation\n",
    "mk_n16ppwat = cor_n16plgapeg_wat[1]/cor_n16plgapeg_wat[0]\n",
    "mk_n16ppwat"
   ]
  },
  {
   "cell_type": "code",
   "execution_count": null,
   "metadata": {},
   "outputs": [],
   "source": [
    "plt.figure(figsize=(7,7))\n",
    "plt.errorbar(blen_n16pp, np.log(cor_n16plgapeg_wat[0]), yerr=mk_n16ppwat, color='teal', linestyle=\"None\",marker='o',\n",
    "     capsize=5, capthick=1, ecolor='black')"
   ]
  },
  {
   "cell_type": "code",
   "execution_count": null,
   "metadata": {},
   "outputs": [],
   "source": [
    "# All the points give the best fits for N = 6 peg in water\n",
    "n16_blksplgapeg_wat , n16plgapeg_lpwat = bavg_pers_cnt(5, plgapeg_n16wat, n16_plgapeg_wat, blen_n16pp, 5, 0 , 36001)"
   ]
  },
  {
   "cell_type": "code",
   "execution_count": null,
   "metadata": {},
   "outputs": [],
   "source": [
    "n16_blksplgapeg_wat"
   ]
  },
  {
   "cell_type": "code",
   "execution_count": null,
   "metadata": {},
   "outputs": [],
   "source": [
    "n16plgapeg_lpwat"
   ]
  },
  {
   "cell_type": "code",
   "execution_count": null,
   "metadata": {},
   "outputs": [],
   "source": [
    "n16plgapeg_lpwat[2]"
   ]
  },
  {
   "cell_type": "code",
   "execution_count": null,
   "metadata": {},
   "outputs": [],
   "source": [
    "np.mean(n16plgapeg_lpwat[3])"
   ]
  },
  {
   "cell_type": "markdown",
   "metadata": {},
   "source": [
    "#### line fitted to cosine theta values using mean slope"
   ]
  },
  {
   "cell_type": "code",
   "execution_count": null,
   "metadata": {},
   "outputs": [],
   "source": [
    "blen_n16pp"
   ]
  },
  {
   "cell_type": "code",
   "execution_count": null,
   "metadata": {},
   "outputs": [],
   "source": [
    "gg_n16plgapeg_wat = line_fit(np.mean(n16plgapeg_lpwat[2]),blen_n16pp)"
   ]
  },
  {
   "cell_type": "code",
   "execution_count": null,
   "metadata": {},
   "outputs": [],
   "source": [
    "gg_n10plgapeg_n16wat = line_fit(np.mean(n10plgapeg_lpwat[2]),blen_n16pp)"
   ]
  },
  {
   "cell_type": "code",
   "execution_count": null,
   "metadata": {},
   "outputs": [],
   "source": [
    "gg_n8plgapeg_n16wat = line_fit(np.mean(n8plgapeg_lpwat[2]),blen_n16pp)"
   ]
  },
  {
   "cell_type": "code",
   "execution_count": null,
   "metadata": {},
   "outputs": [],
   "source": [
    "gg_n6plgapeg_n16wat = line_fit(np.mean(n6plgapeg_lpwat[2]),blen_n16pp)"
   ]
  },
  {
   "cell_type": "code",
   "execution_count": null,
   "metadata": {},
   "outputs": [],
   "source": [
    "gg_n16plgapeg_wat"
   ]
  },
  {
   "cell_type": "markdown",
   "metadata": {},
   "source": [
    "#### Block averaged Rg, Ree, Rh, mean sq. Ree and mean sq. Rg persistence length, N = 16 PLGA-PEG in water"
   ]
  },
  {
   "cell_type": "code",
   "execution_count": null,
   "metadata": {},
   "outputs": [],
   "source": [
    "blppn16 = []\n",
    "for i in range(n16_mon-1):\n",
    "    if i < int((n16_mon/2)-1):\n",
    "        # PLGA contour length values\n",
    "        blppn16.append(COM_n16pp[0,0])    \n",
    "    elif i == int((n16_mon/2)-1):\n",
    "        #PLGA-PEG linker length\n",
    "        blppn16.append(COM_n16pp[1,0]) \n",
    "    elif i > int((n16_mon/2)-1):\n",
    "    #    # PEG contour length values\n",
    "        blppn16.append(COM_n16pp[2,0]) \n",
    "\n",
    "# Contour Length, N = 6 PLGA-PEG in water\n",
    "lc_ppn16 = np.sum(blppn16)\n",
    "lc_ppn16"
   ]
  },
  {
   "cell_type": "code",
   "execution_count": null,
   "metadata": {},
   "outputs": [],
   "source": [
    "# Ree^2/Rg^2 array at different contour lengths\n",
    "re2e_rgsq_plgapegwat[1,3] = lc_ppn16\n",
    "re2e_rgsq_plgapegwat"
   ]
  },
  {
   "cell_type": "code",
   "execution_count": null,
   "metadata": {},
   "outputs": [],
   "source": [
    "a_ppn16 = np.mean(n16_blksplgapeg_wat['Avg Sq. end to end distance'])"
   ]
  },
  {
   "cell_type": "code",
   "execution_count": null,
   "metadata": {},
   "outputs": [],
   "source": [
    "b_ppn16 = np.mean(n16_blksplgapeg_wat['Avg Sq. radius of gyration'])"
   ]
  },
  {
   "cell_type": "code",
   "execution_count": null,
   "metadata": {},
   "outputs": [],
   "source": [
    "re2e_rgsq_plgapegwat[0,3] = a_ppn16/b_ppn16\n",
    "re2e_rgsq_plgapegwat"
   ]
  },
  {
   "cell_type": "code",
   "execution_count": null,
   "metadata": {},
   "outputs": [],
   "source": [
    "# Rg/Rh array at different contour lengths \n",
    "rhy_rg_plgapegwat[1,3] = lc_ppn16\n",
    "rhy_rg_plgapegwat"
   ]
  },
  {
   "cell_type": "code",
   "execution_count": null,
   "metadata": {},
   "outputs": [],
   "source": [
    "aa_ppn16 = np.mean(n16_blksplgapeg_wat['Avg Radius of gyration'])"
   ]
  },
  {
   "cell_type": "code",
   "execution_count": null,
   "metadata": {},
   "outputs": [],
   "source": [
    "bb_ppn16 = np.mean(n16_blksplgapeg_wat['Avg Hydrodynamic radius'])"
   ]
  },
  {
   "cell_type": "code",
   "execution_count": null,
   "metadata": {},
   "outputs": [],
   "source": [
    "rhy_rg_plgapegwat[0,3] = aa_ppn16/bb_ppn16\n",
    "rhy_rg_plgapegwat"
   ]
  },
  {
   "cell_type": "code",
   "execution_count": null,
   "metadata": {},
   "outputs": [],
   "source": [
    "# pers length/contour length \n",
    "kuhnlpL_plgapegwat[0,3] = np.mean(n16_blksplgapeg_wat[\"Avg persistence length\"])/lc_ppn16\n",
    "kuhnlpL_plgapegwat"
   ]
  },
  {
   "cell_type": "markdown",
   "metadata": {},
   "source": [
    "#### Block averaged Radius of gyration and persistence length, N = 16 PLGA-PEG in water"
   ]
  },
  {
   "cell_type": "code",
   "execution_count": null,
   "metadata": {},
   "outputs": [],
   "source": [
    "np.mean(n16_blksplgapeg_wat[\"Avg persistence length\"])"
   ]
  },
  {
   "cell_type": "code",
   "execution_count": null,
   "metadata": {},
   "outputs": [],
   "source": [
    "np.std(n16_blksplgapeg_wat[\"Avg persistence length\"])"
   ]
  },
  {
   "cell_type": "code",
   "execution_count": null,
   "metadata": {},
   "outputs": [],
   "source": [
    "np.mean(n16_blksplgapeg_wat[\"Avg Radius of gyration\"])"
   ]
  },
  {
   "cell_type": "code",
   "execution_count": null,
   "metadata": {},
   "outputs": [],
   "source": [
    "np.std(n16_blksplgapeg_wat[\"Avg Radius of gyration\"])"
   ]
  },
  {
   "cell_type": "code",
   "execution_count": null,
   "metadata": {},
   "outputs": [],
   "source": [
    "plt.figure(figsize=(7,7))\n",
    "plt.errorbar(blen_n6pp, np.log(cor_n6plgapeg_wat[0]), yerr=mk_n6ppwat, color='teal', linestyle=\"None\",marker='o',\n",
    "     capsize=5, capthick=1, ecolor='black')\n",
    "plt.errorbar(blen_n8pp, np.log(cor_n8plgapeg_wat[0]), yerr=mk_n8ppwat, color='dodgerblue', linestyle=\"None\",marker='o',\n",
    "     capsize=5, capthick=1, ecolor='black')\n",
    "plt.errorbar(blen_n10pp, np.log(cor_n10plgapeg_wat[0]), yerr=mk_n10ppwat, color='darkmagenta', linestyle=\"None\",marker='o',\n",
    "     capsize=5, capthick=1, ecolor='black')\n",
    "plt.errorbar(blen_n16pp, np.log(cor_n16plgapeg_wat[0]), yerr=mk_n16ppwat, color='maroon', linestyle=\"None\",marker='o',\n",
    "     capsize=5, capthick=1, ecolor='black')\n",
    "plt.plot(blen_n16pp, gg_n6plgapeg_n16wat, color='teal')\n",
    "plt.plot(blen_n16pp, gg_n8plgapeg_n16wat, color='dodgerblue')\n",
    "plt.plot(blen_n16pp, gg_n10plgapeg_n16wat, color='darkmagenta')\n",
    "plt.plot(blen_n16pp, gg_n16plgapeg_wat, color='maroon')\n",
    "plt.title(r'Ensemble Averaged ln(Cosine $\\theta$) PLGA-PEG in water', fontsize=15, y=1.01)\n",
    "plt.xlabel(r'Bond Length', fontsize=15)\n",
    "plt.ylabel(r'ln$\\left< Cos(\\theta)\\right >$', fontsize=15)\n",
    "plt.ylim(-6,1)\n",
    "plt.xlim(0,70)\n",
    "#plt.ylim(-1.9,0)\n",
    "font = font_manager.FontProperties(family='Arial', style='normal', size='14')\n",
    "#plt.legend([r'$N_{PEG}$ = 6: $L_{p}$ = 18.8 $\\AA$ ± 3.60 $\\AA$'], loc=3, frameon=0, fontsize=14, prop=font)\n",
    "plt.tick_params(labelsize=14)\n",
    "plt.text(0.5, -5.9,r'$N_{PLGA-PEG}$ = 6: $L_{p}$ = 19.4 $\\AA$ ± 1.43 $\\AA$', fontsize=15, color='teal')\n",
    "plt.text(0.5, -5.58,r'$N_{PLGA-PEG}$ = 8: $L_{p}$ = 20.8 $\\AA$ ± 1.03 $\\AA$', fontsize=15, color='dodgerblue')\n",
    "plt.text(0.5, -5.23,r'$N_{PLGA-PEG}$ = 10: $L_{p}$ = 21.2 $\\AA$ ± 0.58 $\\AA$', fontsize=15, color='darkmagenta')\n",
    "plt.text(0.5, -4.90,r'$N_{PLGA-PEG}$ = 16: $L_{p}$ = 23.1 $\\AA$ ± 0.86 $\\AA$', fontsize=15, color='maroon')"
   ]
  },
  {
   "cell_type": "code",
   "execution_count": null,
   "metadata": {},
   "outputs": [],
   "source": [
    "rgplgapeg_olig_wat[r\"$R_{g}$ [Angstrom] N = 16 PLGA-PEG water\"] = n16_blksplgapeg_wat[\"Avg Radius of gyration\"]\n",
    "rgplgapeg_olig_wat"
   ]
  },
  {
   "cell_type": "code",
   "execution_count": null,
   "metadata": {},
   "outputs": [],
   "source": [
    "pers_plgapegt_wat[r\"$L_{p}$ [Angstrom] N = 16 PLGA-PEG water\"] = n16_blksplgapeg_wat[\"Avg persistence length\"]\n",
    "pers_plgapegt_wat"
   ]
  },
  {
   "cell_type": "code",
   "execution_count": null,
   "metadata": {},
   "outputs": [],
   "source": []
  },
  {
   "cell_type": "code",
   "execution_count": null,
   "metadata": {},
   "outputs": [],
   "source": []
  },
  {
   "cell_type": "code",
   "execution_count": null,
   "metadata": {},
   "outputs": [],
   "source": []
  },
  {
   "cell_type": "code",
   "execution_count": null,
   "metadata": {},
   "outputs": [],
   "source": []
  },
  {
   "cell_type": "markdown",
   "metadata": {},
   "source": [
    "### N = 20 PLGA-PEG/water "
   ]
  },
  {
   "cell_type": "code",
   "execution_count": null,
   "metadata": {},
   "outputs": [],
   "source": [
    "# For the right Rg calculation using MD Analysis, use trajactory without pbc \n",
    "n20_plgapeg_wat = mda.Universe(\"n20plga_peg_wat/n20plgapeg_WAT.pdb\", \"n20plga_peg_wat/NoWat_n20plgapeg.xtc\")"
   ]
  },
  {
   "cell_type": "code",
   "execution_count": null,
   "metadata": {},
   "outputs": [],
   "source": [
    "n20_plgapeg_wat.trajectory"
   ]
  },
  {
   "cell_type": "code",
   "execution_count": null,
   "metadata": {},
   "outputs": [],
   "source": [
    "len(n20_plgapeg_wat.trajectory)"
   ]
  },
  {
   "cell_type": "code",
   "execution_count": null,
   "metadata": {},
   "outputs": [],
   "source": [
    "#Select the polymer heavy atoms \n",
    "plgapeg_n20wat = n20_plgapeg_wat.select_atoms(\"resname sPLG PLG bPLG bPEG PEG sPEG and not type H\")"
   ]
  },
  {
   "cell_type": "code",
   "execution_count": null,
   "metadata": {},
   "outputs": [],
   "source": [
    "np.unique(plgapeg_n20wat.resids)"
   ]
  },
  {
   "cell_type": "code",
   "execution_count": null,
   "metadata": {},
   "outputs": [],
   "source": [
    "# Get cosine theta values at frame 0 \n",
    "crv_n20plgapeg_wat = pers_length(plgapeg_n20wat,20)\n",
    "crv_n20plgapeg_wat"
   ]
  },
  {
   "cell_type": "markdown",
   "metadata": {},
   "source": [
    "#### Orientation Order parameter vs. time "
   ]
  },
  {
   "cell_type": "code",
   "execution_count": null,
   "metadata": {},
   "outputs": [],
   "source": [
    "n20_mon = 20\n",
    "start = 0\n",
    "end = 36001"
   ]
  },
  {
   "cell_type": "code",
   "execution_count": null,
   "metadata": {},
   "outputs": [],
   "source": [
    "OOp_n20plgapeg_wat = orientation_order_param(plgapeg_n20wat, n20_plgapeg_wat, n20_mon, start, end)"
   ]
  },
  {
   "cell_type": "code",
   "execution_count": null,
   "metadata": {},
   "outputs": [],
   "source": [
    "OOp_n20plgapeg_wat.shape"
   ]
  },
  {
   "cell_type": "code",
   "execution_count": null,
   "metadata": {},
   "outputs": [],
   "source": [
    "trj_len = np.arange(36001)\n",
    "plt.figure(figsize=(7,7))\n",
    "plt.title(r'PLGA-PEG Orientation Order Parameter', fontsize=18, y=1.01)\n",
    "plt.xlabel(r'Time [ns]', fontsize=15)\n",
    "plt.ylabel(r'Z', fontsize=15)\n",
    "plt.plot(trj_len/100, OOp_n6plgapeg_wat,linewidth=2, color='teal')\n",
    "plt.plot(trj_len/100, OOp_n8plgapeg_wat,linewidth=2, color='dodgerblue')\n",
    "plt.plot(trj_len/100, OOp_n10plgapeg_wat,linewidth=2, color='darkmagenta')\n",
    "plt.plot(trj_len/100, OOp_n16plgapeg_wat,linewidth=2, color='maroon')\n",
    "plt.plot(trj_len/100, OOp_n20plgapeg_wat,linewidth=2, color='orangered')\n",
    "plt.tick_params(labelsize=14)\n",
    "plt.legend(['N = 6 in Water', 'N = 8 in Water','N = 10 in Water','N = 16 in water','N = 20 in water'], frameon=False, fontsize=14)\n",
    "#plt.text(127, 0.96,r'N = 6 in water', fontsize=18, color='#1F2E69', family='Arial')\n",
    "plt.xlim(0,360)\n",
    "plt.ylim(-1,1)"
   ]
  },
  {
   "cell_type": "markdown",
   "metadata": {},
   "source": [
    "#### Mean Orientation Order Parameter for N = 20 PLGA-PEG in water"
   ]
  },
  {
   "cell_type": "code",
   "execution_count": null,
   "metadata": {},
   "outputs": [],
   "source": [
    "OOp_n20plgapeg_wat[82]"
   ]
  },
  {
   "cell_type": "code",
   "execution_count": null,
   "metadata": {},
   "outputs": [],
   "source": [
    "OOp_n20plgapeg_wat[239]"
   ]
  },
  {
   "cell_type": "code",
   "execution_count": null,
   "metadata": {},
   "outputs": [],
   "source": [
    "np.mean(OOp_n20plgapeg_wat)"
   ]
  },
  {
   "cell_type": "code",
   "execution_count": null,
   "metadata": {},
   "outputs": [],
   "source": [
    "np.std(OOp_n20plgapeg_wat)"
   ]
  },
  {
   "cell_type": "markdown",
   "metadata": {},
   "source": [
    "#### Mean squared end to end distance "
   ]
  },
  {
   "cell_type": "code",
   "execution_count": null,
   "metadata": {},
   "outputs": [],
   "source": [
    "eVec_n20plgapeg_wat, e2edis_n20plgapeg_wat = mean_sq_e2e(plgapeg_n20wat, n20_plgapeg_wat, n20_mon, start, end)"
   ]
  },
  {
   "cell_type": "code",
   "execution_count": null,
   "metadata": {},
   "outputs": [],
   "source": [
    "trj_len = np.arange(36001)\n",
    "plt.figure(figsize=(7,7))\n",
    "plt.title(r'PLGA-PEG End to End distance', fontsize=18, y=1.01)\n",
    "plt.xlabel(r'Time [ns]', fontsize=15)\n",
    "plt.ylabel(r'$R_{ee}$ [nm]', fontsize=15)\n",
    "plt.plot(trj_len/100, e2edis_n6plgapeg_wat[1]/10,linewidth=2, color='teal')\n",
    "plt.plot(trj_len/100, e2edis_n8plgapeg_wat[1]/10,linewidth=2, color='dodgerblue')\n",
    "plt.plot(trj_len/100, e2edis_n10plgapeg_wat[1]/10,linewidth=2, color='darkmagenta')\n",
    "plt.plot(trj_len/100, e2edis_n16plgapeg_wat[1]/10,linewidth=2, color='maroon')\n",
    "plt.plot(trj_len/100, e2edis_n20plgapeg_wat[1]/10,linewidth=2, color='orangered')\n",
    "plt.tick_params(labelsize=14)\n",
    "plt.legend(['N = 6 in Water', 'N = 8 in Water','N = 10 in Water','N = 16 in water','N = 20 in water'], frameon=False, fontsize=14)\n",
    "#plt.text(127, 0.96,r'N = 6 in water', fontsize=18, color='#1F2E69', family='Arial')\n",
    "plt.xlim(0,360)\n",
    "plt.ylim(0,7)"
   ]
  },
  {
   "cell_type": "markdown",
   "metadata": {},
   "source": [
    "#### Ree Autocorrelation function"
   ]
  },
  {
   "cell_type": "code",
   "execution_count": null,
   "metadata": {},
   "outputs": [],
   "source": [
    "e2edis_n20plgapeg_wat[1]"
   ]
  },
  {
   "cell_type": "code",
   "execution_count": null,
   "metadata": {},
   "outputs": [],
   "source": [
    "t_corr = 4000\n",
    "window_shift = 6"
   ]
  },
  {
   "cell_type": "code",
   "execution_count": null,
   "metadata": {},
   "outputs": [],
   "source": [
    "ACn20plgapegwat_Ree, eqvar_n120pegwat = obs_autocorr_RA(e2edis_n20plgapeg_wat[1],t_corr, window_shift,start,end)"
   ]
  },
  {
   "cell_type": "code",
   "execution_count": null,
   "metadata": {},
   "outputs": [],
   "source": [
    "ACn20plgapegwat_Ree"
   ]
  },
  {
   "cell_type": "code",
   "execution_count": null,
   "metadata": {},
   "outputs": [],
   "source": [
    "eqvar_n16plgapegwat"
   ]
  },
  {
   "cell_type": "code",
   "execution_count": null,
   "metadata": {},
   "outputs": [],
   "source": [
    "ACn20plgapegwat_sqRee, evsqRee_n20plgapegwat = obs_autocorr_RA(e2edis_n20plgapeg_wat[0],t_corr, window_shift,start,end)"
   ]
  },
  {
   "cell_type": "code",
   "execution_count": null,
   "metadata": {},
   "outputs": [],
   "source": [
    "np.sqrt(evsqRee_n20plgapegwat)"
   ]
  },
  {
   "cell_type": "code",
   "execution_count": null,
   "metadata": {},
   "outputs": [],
   "source": [
    "plt.figure(figsize=(7,7))\n",
    "plt.title(r'PEG Ree autocorrelation', fontsize=18, y=1.01)\n",
    "plt.xlabel(r'Time [ns]', fontsize=15)\n",
    "plt.ylabel(r'$C_{A}(t)$', fontsize=15)\n",
    "plt.plot(ACn6plgapegwat_Ree[1]/100, ACn6plgapegwat_Ree[0],linewidth=2, color='#1F2E69')\n",
    "plt.plot(ACn8plgapegwat_Ree[1]/100, ACn8plgapegwat_Ree[0],linewidth=2, color='#4C80ED')\n",
    "plt.plot(ACn10plgapegwat_Ree[1]/100, ACn10plgapegwat_Ree[0],linewidth=2, color='#8C52FC')\n",
    "plt.plot(ACn16plgapegwat_Ree[1]/100, ACn16plgapegwat_Ree[0],linewidth=2, color='purple')\n",
    "plt.plot(ACn20plgapegwat_Ree[1]/100, ACn20plgapegwat_Ree[0],linewidth=2, color='#8B7F47')\n",
    "plt.tick_params(labelsize=14)\n",
    "plt.legend(['N = 6 Ree','N = 8 Ree','N = 10 Ree','N = 15 Ree','N = 20 Ree'], frameon=False, fontsize=14)\n",
    "#plt.yscale('symlog', linthreshy=0.5)\n",
    "#plt.xscale('symlog')\n",
    "plt.xlim(0,20)\n",
    "plt.ylim(-1,1)"
   ]
  },
  {
   "cell_type": "markdown",
   "metadata": {},
   "source": [
    "### Hydrodynamic Radius vs time"
   ]
  },
  {
   "cell_type": "code",
   "execution_count": null,
   "metadata": {},
   "outputs": [],
   "source": [
    "plgapegn20wat_rh = hydro_rad_poly(plgapeg_n20wat, n20_plgapeg_wat, n20_mon, start, end)"
   ]
  },
  {
   "cell_type": "code",
   "execution_count": null,
   "metadata": {},
   "outputs": [],
   "source": [
    "trj_len = np.arange(36001)\n",
    "plt.figure(figsize=(7,7))\n",
    "plt.title(r'PLGA-PEG Hydrodynamic Radius', fontsize=18, y=1.01)\n",
    "plt.xlabel(r'Time [ns]', fontsize=15)\n",
    "plt.ylabel(r'$R_{hyd}$ [nm]', fontsize=15)\n",
    "plt.plot(trj_len/100, plgapegn6wat_rh/10,linewidth=2, color='teal')\n",
    "plt.plot(trj_len/100, plgapegn8wat_rh/10,linewidth=2, color='dodgerblue')\n",
    "plt.plot(trj_len/100, plgapegn10wat_rh/10,linewidth=2, color='darkmagenta')\n",
    "plt.plot(trj_len/100, plgapegn16wat_rh/10,linewidth=2, color='maroon')\n",
    "plt.plot(trj_len/100, plgapegn20wat_rh/10,linewidth=2, color='orangered')\n",
    "plt.tick_params(labelsize=14)\n",
    "plt.legend(['N = 6 in Water', 'N = 8 in Water','N = 10 in Water','N = 16 in water','N = 20 in water'], frameon=False, fontsize=14)\n",
    "#plt.text(127, 0.96,r'N = 6 in water', fontsize=18, color='#1F2E69', family='Arial')\n",
    "plt.xlim(0,360)\n",
    "plt.ylim(0,6)"
   ]
  },
  {
   "cell_type": "markdown",
   "metadata": {},
   "source": [
    "#### Rh autocorrelation"
   ]
  },
  {
   "cell_type": "code",
   "execution_count": null,
   "metadata": {},
   "outputs": [],
   "source": [
    "ACn20plgapegwatRh, eqvarRh_n20plgapegwat = obs_autocorr_RA(plgapegn20wat_rh,t_corr, window_shift,start,end)"
   ]
  },
  {
   "cell_type": "code",
   "execution_count": null,
   "metadata": {},
   "outputs": [],
   "source": [
    "ACn20plgapegwatRh"
   ]
  },
  {
   "cell_type": "code",
   "execution_count": null,
   "metadata": {},
   "outputs": [],
   "source": [
    "eqvarRh_n20plgapegwat"
   ]
  },
  {
   "cell_type": "code",
   "execution_count": null,
   "metadata": {},
   "outputs": [],
   "source": [
    "plt.figure(figsize=(7,7))\n",
    "plt.title(r'PLGA-PEG Rh autocorrelation', fontsize=18, y=1.01)\n",
    "plt.xlabel(r'Time [ns]', fontsize=15)\n",
    "plt.ylabel(r'$C_{Rh}(t)$', fontsize=15)\n",
    "plt.plot(ACn6plgapegwatRh[1]/100, ACn6plgapegwatRh[0],linewidth=2, color='#1F2E69')\n",
    "plt.plot(ACn8plgapegwatRh[1]/100, ACn8plgapegwatRh[0],linewidth=2, color='#4C80ED')\n",
    "plt.plot(ACn10plgapegwatRh[1]/100, ACn10plgapegwatRh[0],linewidth=2, color='#8C52FC')\n",
    "plt.plot(ACn16plgapegwatRh[1]/100, ACn16plgapegwatRh[0],linewidth=2, color='purple')\n",
    "plt.plot(ACn20plgapegwatRh[1]/100, ACn20plgapegwatRh[0],linewidth=2, color='#8B7F47')\n",
    "plt.tick_params(labelsize=14)\n",
    "plt.legend(['N = 6 in water','N = 8 in water','N = 10 in water','N = 15 in water','N = 20 in water'], frameon=False, fontsize=14)\n",
    "plt.xlim(0,20)\n",
    "#plt.ylim(-2,1.5)"
   ]
  },
  {
   "cell_type": "markdown",
   "metadata": {},
   "source": [
    "### Relaxation times vs monomer length "
   ]
  },
  {
   "cell_type": "code",
   "execution_count": null,
   "metadata": {},
   "outputs": [],
   "source": [
    "# Key variables \n",
    "# def pos_bead_autocorr_RA(polymer_atoms, universe, n_monomers, t_corr,  start, end):\n",
    "n20_mon = 20 \n",
    "start = 0\n",
    "end = 36001\n",
    "t_corr = 2000\n",
    "window_shift = 20"
   ]
  },
  {
   "cell_type": "code",
   "execution_count": null,
   "metadata": {},
   "outputs": [],
   "source": [
    "s_time = timeit.default_timer()\n",
    "tcRA_plgapegn20wat, tcSUM_plgapegn20wat = pos_bead_autocorr_RA(plgapeg_n20wat, n20_plgapeg_wat, n20_mon, t_corr, window_shift, start, end)\n",
    "timeit.default_timer() - s_time"
   ]
  },
  {
   "cell_type": "code",
   "execution_count": null,
   "metadata": {},
   "outputs": [],
   "source": [
    "tcRA_plgapegn20wat"
   ]
  },
  {
   "cell_type": "code",
   "execution_count": null,
   "metadata": {},
   "outputs": [],
   "source": [
    "tcSUM_plgapegn20wat.shape"
   ]
  },
  {
   "cell_type": "markdown",
   "metadata": {},
   "source": [
    "### Fitting autocorrelation data "
   ]
  },
  {
   "cell_type": "code",
   "execution_count": null,
   "metadata": {},
   "outputs": [],
   "source": [
    "xdata_plgapegn20wat = tcRA_plgapegn20wat[1]/100\n",
    "ydata_plgapegn20wat = tcRA_plgapegn20wat[0]"
   ]
  },
  {
   "cell_type": "code",
   "execution_count": null,
   "metadata": {},
   "outputs": [],
   "source": [
    "ydata_plgapegn20wat.shape"
   ]
  },
  {
   "cell_type": "code",
   "execution_count": null,
   "metadata": {},
   "outputs": [],
   "source": [
    "xdata_plgapegn20wat.shape"
   ]
  },
  {
   "cell_type": "code",
   "execution_count": null,
   "metadata": {},
   "outputs": [],
   "source": [
    "plt.figure(figsize=(8,8))\n",
    "plt.rcParams[\"font.family\"] = \"Arial\"\n",
    "plt.scatter(xdata_plgapegn6wat, ydata_plgapegn6wat, color='teal', s=s_n6)\n",
    "plt.scatter(xdata_plgapegn8wat, ydata_plgapegn8wat, color='dodgerblue', s=s_n8)\n",
    "plt.scatter(xdata_plgapegn10wat, ydata_plgapegn10wat, color='darkmagenta', s=s_n10)\n",
    "plt.scatter(xdata_plgapegn16wat, ydata_plgapegn16wat, color='maroon', s=s_n16)\n",
    "plt.scatter(xdata_plgapegn20wat, ydata_plgapegn20wat, color='orangered', s=s_n20)\n",
    "plt.title(r'Positional bead autocorrelation PLGA-PEG in Water', fontsize=18, y=1.03)\n",
    "plt.xlabel(r'Time lag [ns]', fontsize=18)\n",
    "plt.ylabel('C(t)', fontsize=18)\n",
    "#plt.legend(fontsize=14, frameon=False)\n",
    "plt.xticks(fontsize=18)\n",
    "plt.yticks(fontsize=18)\n",
    "#plt.yscale('symlog', linthreshy=0.5)\n",
    "plt.xscale('symlog')\n",
    "plt.grid(b=True)\n",
    "plt.xlim(0,300)\n",
    "plt.ylim(-1,1)\n",
    "plt.tick_params(labelsize=18, direction='in', which='both', width=1, length=10)"
   ]
  },
  {
   "cell_type": "code",
   "execution_count": null,
   "metadata": {},
   "outputs": [],
   "source": [
    "ts = 1\n",
    "hs = 0.1\n",
    "n20_mon = 20\n",
    "n_b = n20_mon - 1\n",
    "tr1 = 2\n",
    "zimm_relax_fit(ts,tr1,hs,n_b)"
   ]
  },
  {
   "cell_type": "code",
   "execution_count": null,
   "metadata": {},
   "outputs": [],
   "source": [
    "zimm_relax_func(ts,tr1,hs,n_b)"
   ]
  },
  {
   "cell_type": "code",
   "execution_count": null,
   "metadata": {},
   "outputs": [],
   "source": [
    "def res_plgapegn20wat(variabls, xnp, ynp):\n",
    "    #hs_np = variabls['h_star']\n",
    "    hs_np = 0.26\n",
    "    tr1_np = variabls['t_first']\n",
    "    n_bonds = 19\n",
    "    testnp = []\n",
    "    for i in range(len(xnp)):\n",
    "        model_ynp = zimm_relax_fit(xnp[i], tr1_np, hs_np, n_bonds)\n",
    "        #model_ynp = rouse_relax(xnp[i], tr1_np, n_m)\n",
    "        testnp.append(ynp[i] - model_ynp)\n",
    "    \n",
    "    tt_n6 = np.array(testnp)\n",
    "\n",
    "    return tt_n6\n",
    "    \n",
    "#x1 = np.array([0,0])\n",
    "#pfit, pcov, infodict, errmsg, success = leastsq(res_poly, x1, args=(xdata, ydata), full_output=1)"
   ]
  },
  {
   "cell_type": "code",
   "execution_count": null,
   "metadata": {},
   "outputs": [],
   "source": [
    "ppfit_n20wat = Parameters()\n",
    "#ppfit_n20wat.add(name='h_star', value=0, min=0, max=0.26, vary=True)\n",
    "ppfit_n20wat.add(name='t_first', value=2)"
   ]
  },
  {
   "cell_type": "code",
   "execution_count": null,
   "metadata": {},
   "outputs": [],
   "source": [
    "mini_ppn20wat = Minimizer(res_plgapegn20wat, ppfit_n20wat, fcn_args=(xdata_plgapegn20wat, ydata_plgapegn20wat))\n",
    "out_ppn20wat = mini_ppn20wat.leastsq()\n",
    "#bfit_n10 = ydata_n10wat + out_n10wat.residual "
   ]
  },
  {
   "cell_type": "code",
   "execution_count": null,
   "metadata": {},
   "outputs": [],
   "source": [
    "report_fit(out_ppn20wat.params)"
   ]
  },
  {
   "cell_type": "code",
   "execution_count": null,
   "metadata": {},
   "outputs": [],
   "source": [
    "out_ppn20wat.params"
   ]
  },
  {
   "cell_type": "code",
   "execution_count": null,
   "metadata": {},
   "outputs": [],
   "source": [
    "# with h varying, tr = 1.13052860 +/- 0.00845211,h* = 0.25999989 +/- 0.05636451\n",
    "twat_n20plgapeg = []\n",
    "n_bonds = 19\n",
    "for i in range(len(xdata_plgapegn20wat)):\n",
    "    twat_n20plgapeg.append(zimm_relax_fit(xdata_plgapegn20wat[i], 1.13179195, 0.26,  n_bonds))\n"
   ]
  },
  {
   "cell_type": "code",
   "execution_count": null,
   "metadata": {},
   "outputs": [],
   "source": [
    "t_c, tz_n20plgapeg, zimm_n20plgapeg, rouse_n20plgapeg = zimm_relax_func(1, 1.13179195, 0.26,  n_bonds)"
   ]
  },
  {
   "cell_type": "code",
   "execution_count": null,
   "metadata": {},
   "outputs": [],
   "source": [
    "x_pos_n10 = np.arange(9)\n",
    "x_pos_n16 = np.arange(15)\n",
    "x_pos_n20 = np.arange(19)\n",
    "width = 0.25\n",
    "aa_types_n20 = [r\"$\\tau_{1}$\", r\"$\\tau_{2}$\", r\"$\\tau_{3}$\", r\"$\\tau_{4}$\", r\"$\\tau_{5}$\",r\"$\\tau_{6}$\",r\"$\\tau_{7}$\",\n",
    "           r\"$\\tau_{8}$\", r\"$\\tau_{9}$\",r\"$\\tau_{10}$\", r\"$\\tau_{11}$\", r\"$\\tau_{12}$\", r\"$\\tau_{13}$\", r\"$\\tau_{14}$\",\n",
    "            r\"$\\tau_{15}$\",r\"$\\tau_{16}$\",r\"$\\tau_{17}$\", r\"$\\tau_{18}$\", r\"$\\tau_{19}$\"]\n",
    "fig = plt.figure(figsize=(7,7))\n",
    "plt.title('PLGA-PEG in water', fontsize=18)\n",
    "plt.bar(x_pos_n10+(2*width), tz_n10plgapeg, width, ecolor='black',capsize=5, color='darkmagenta', label='N = 10', align='center')\n",
    "plt.bar(x_pos_n16+width, tz_n16plgapeg, width, ecolor='black',capsize=5, color='maroon', label='N = 16', align='center')\n",
    "plt.bar(x_pos_n20, tz_n20plgapeg, width, ecolor='black',capsize=5, color='orangered', label='N = 20', align='center')\n",
    "plt.xticks(x_pos_n20, labels=aa_types_n20, fontsize=12)\n",
    "plt.legend(fontsize=12 ,frameon=False)\n",
    "plt.ylabel(r'Relaxation times [ns]', fontsize=15)"
   ]
  },
  {
   "cell_type": "code",
   "execution_count": null,
   "metadata": {},
   "outputs": [],
   "source": [
    "aa_eigen_n20 = [r\"$a_{1}$\", r\"$a_{2}$\", r\"$a_{3}$\", r\"$a_{4}$\", r\"$a_{5}$\",r\"$a_{6}$\",r\"$a_{7}$\",r\"$a_{8}$\",\n",
    "           r\"$a_{9}$\",r\"$a_{10}$\", r\"$a_{11}$\", r\"$a_{12}$\", r\"$a_{13}$\", r\"$a_{14}$\",r\"$a_{15}$\",r\"$a_{16}$\",r\"$a_{17}$\",\n",
    "           r\"$a_{18}$\",r\"$a_{19}$\"]\n",
    "fig = plt.figure(figsize=(7,7))\n",
    "plt.title('PLGA-PEG in water N = 20', fontsize=18)\n",
    "plt.bar(x_pos_n20, rouse_n20plgapeg, width,ecolor='black',capsize=5, color='c', label='Rouse')\n",
    "plt.bar(x_pos_n20+width, zimm_n20plgapeg, width,ecolor='black',capsize=5, color='m', label='Zimm')\n",
    "plt.xticks(x_pos_n20+width,labels=aa_eigen_n20, fontsize=12)\n",
    "plt.legend(fontsize=12 ,frameon=False)\n",
    "plt.ylabel(r'Rouse and Zimm eigenvalues', fontsize=15)"
   ]
  },
  {
   "cell_type": "code",
   "execution_count": null,
   "metadata": {},
   "outputs": [],
   "source": [
    "plt.figure(figsize=(8,8))\n",
    "plt.rcParams[\"font.family\"] = \"Arial\"\n",
    "plt.scatter(xdata_plgapegn6wat, ydata_plgapegn6wat, color='teal', s=s_n6)\n",
    "plt.scatter(xdata_plgapegn8wat, ydata_plgapegn8wat, color='dodgerblue', s=s_n8)\n",
    "plt.scatter(xdata_plgapegn10wat, ydata_plgapegn10wat, color='darkmagenta', s=s_n10)\n",
    "plt.scatter(xdata_plgapegn16wat, ydata_plgapegn16wat, color='maroon', s=s_n16)\n",
    "plt.scatter(xdata_plgapegn20wat, ydata_plgapegn20wat, color='orangered', s=s_n20)\n",
    "plt.plot(xdata_plgapegn6wat, twat_n6plgapeg, color='teal')\n",
    "plt.plot(xdata_plgapegn8wat, twat_n8plgapeg, color='dodgerblue')\n",
    "plt.plot(xdata_plgapegn10wat, twat_n10plgapeg, color='darkmagenta')\n",
    "plt.plot(xdata_plgapegn16wat, twat_n16plgapeg, color='maroon')\n",
    "plt.plot(xdata_plgapegn20wat, twat_n20plgapeg, color='orangered')\n",
    "plt.title(r'Positional bead autocorrelation PLGA-PEG in water', fontsize=18, y=1.03)\n",
    "plt.xlabel(r'Time lag [ns]', fontsize=18)\n",
    "plt.ylabel('C(t)', fontsize=18)\n",
    "#plt.legend(fontsize=14, frameon=False)\n",
    "plt.xticks(fontsize=18)\n",
    "plt.yticks(fontsize=18)\n",
    "#plt.yscale('symlog', linthreshy=0.5)\n",
    "plt.xscale('symlog')\n",
    "plt.grid(b=True)\n",
    "plt.xlim(0,100)\n",
    "plt.ylim(-1,1)\n",
    "plt.tick_params(labelsize=18, direction='in', which='both', width=1, length=10)"
   ]
  },
  {
   "cell_type": "code",
   "execution_count": null,
   "metadata": {},
   "outputs": [],
   "source": [
    "rppwat_msen20 = np.array([ydata_plgapegn20wat - np.array(twat_n20plgapeg)])\n",
    "rppwat_msen20"
   ]
  },
  {
   "cell_type": "code",
   "execution_count": null,
   "metadata": {},
   "outputs": [],
   "source": [
    "plt.figure(figsize=(8,8))\n",
    "plt.rcParams[\"font.family\"] = \"Arial\"\n",
    "plt.scatter(xdata_plgapegn6wat, rppwat_msen6, color='teal', s=s_n6)\n",
    "plt.scatter(xdata_plgapegn8wat, rppwat_msen8, color='dodgerblue', s=s_n8)\n",
    "plt.scatter(xdata_plgapegn10wat, rppwat_msen10, color='darkmagenta', s=s_n10)\n",
    "plt.scatter(xdata_plgapegn16wat, rppwat_msen16, color='maroon', s=s_n16)\n",
    "plt.scatter(xdata_plgapegn20wat, rppwat_msen20, color='orangered', s=s_n20)\n",
    "plt.title(r'Relaxation time Fitting Residuals PLGA in water', fontsize=18, y=1.01)\n",
    "plt.xlabel(r'Time lag [ns]', fontsize=18)\n",
    "plt.ylabel('Residuals', fontsize=18)\n",
    "plt.xticks(fontsize=14)\n",
    "plt.yticks(fontsize=14)\n",
    "plt.xlim([0,100])\n",
    "plt.ylim([-0.7,1])\n",
    "plt.tick_params(labelsize=15)"
   ]
  },
  {
   "cell_type": "markdown",
   "metadata": {},
   "source": [
    "#### Radius of Gyration vs. time N = 20 PLGA-PEG in water"
   ]
  },
  {
   "cell_type": "code",
   "execution_count": null,
   "metadata": {},
   "outputs": [],
   "source": [
    "# Key variables \n",
    "n20_mon = 20\n",
    "start = 0\n",
    "end = 36001"
   ]
  },
  {
   "cell_type": "code",
   "execution_count": null,
   "metadata": {},
   "outputs": [],
   "source": [
    "n20plgapeg_rgens_wat, cor_n20plgapeg_wat, n20plgapeg_cos_wat, rgwat_n20plgapeg = get_rg_pers_poly(plgapeg_n20wat, n20_plgapeg_wat,\n",
    "                                                                                                  start,end)"
   ]
  },
  {
   "cell_type": "code",
   "execution_count": null,
   "metadata": {},
   "outputs": [],
   "source": [
    "n20plgapeg_rgens_wat[0].shape"
   ]
  },
  {
   "cell_type": "code",
   "execution_count": null,
   "metadata": {},
   "outputs": [],
   "source": [
    "cor_n20plgapeg_wat[3]"
   ]
  },
  {
   "cell_type": "code",
   "execution_count": null,
   "metadata": {},
   "outputs": [],
   "source": [
    "n20plgapeg_cos_wat"
   ]
  },
  {
   "cell_type": "code",
   "execution_count": null,
   "metadata": {},
   "outputs": [],
   "source": [
    "rgwat_n20plgapeg"
   ]
  },
  {
   "cell_type": "code",
   "execution_count": null,
   "metadata": {},
   "outputs": [],
   "source": [
    "n20plgapeg_rgens_wat.shape"
   ]
  },
  {
   "cell_type": "code",
   "execution_count": null,
   "metadata": {},
   "outputs": [],
   "source": [
    "trj_len = np.arange(36001)\n",
    "plt.figure(figsize=(7,7))\n",
    "plt.title(r'PLGA-PEG Radius of Gyration', fontsize=18, y=1.01)\n",
    "plt.xlabel(r'Time [ns]', fontsize=15)\n",
    "plt.ylabel(r'$R_{g}$ [nm]', fontsize=15)\n",
    "plt.plot(trj_len/100, n6plgapeg_rgens_wat[0]/10,linewidth=2, color='teal')\n",
    "plt.plot(trj_len/100, n8plgapeg_rgens_wat[0]/10,linewidth=2, color='dodgerblue')\n",
    "plt.plot(trj_len/100, n10plgapeg_rgens_wat[0]/10,linewidth=2, color='darkmagenta')\n",
    "plt.plot(trj_len/100, n16plgapeg_rgens_wat[0]/10,linewidth=2, color='maroon')\n",
    "plt.plot(trj_len/100, n20plgapeg_rgens_wat[0]/10,linewidth=2, color='orangered')\n",
    "plt.tick_params(labelsize=14)\n",
    "plt.legend(['N = 6 in Water', 'N = 8 in Water','N = 10 in Water','N = 16 in water','N = 20 in water'], frameon=False, fontsize=14)\n",
    "#plt.text(127, 0.96,r'N = 6 in water', fontsize=18, color='#1F2E69', family='Arial')\n",
    "plt.xlim(0,360)\n",
    "plt.ylim(0.2,2)"
   ]
  },
  {
   "cell_type": "markdown",
   "metadata": {},
   "source": [
    "#### Rg Autocorrelation"
   ]
  },
  {
   "cell_type": "code",
   "execution_count": null,
   "metadata": {},
   "outputs": [],
   "source": [
    "ACn20plgapegwat_Rg, eqvarRg_n20plgapegwat = obs_autocorr_RA(n20plgapeg_rgens_wat[0],t_corr, window_shift,start,end)"
   ]
  },
  {
   "cell_type": "code",
   "execution_count": null,
   "metadata": {},
   "outputs": [],
   "source": [
    "ACn20plgapegwat_Rg"
   ]
  },
  {
   "cell_type": "code",
   "execution_count": null,
   "metadata": {},
   "outputs": [],
   "source": [
    "eqvarRg_n20plgapegwat"
   ]
  },
  {
   "cell_type": "code",
   "execution_count": null,
   "metadata": {},
   "outputs": [],
   "source": [
    "plt.figure(figsize=(7,7))\n",
    "plt.title(r'PEG in water autocorrelation', fontsize=18, y=1.01)\n",
    "plt.xlabel(r'Time [ns]', fontsize=15)\n",
    "plt.ylabel(r'$C_{A}(t)$', fontsize=15)\n",
    "plt.plot(ACn6plgapegwat_Rg[1]/100, ACn6plgapegwat_Rg[0],linewidth=2, color='#1F2E69')\n",
    "plt.plot(ACn8plgapegwat_Rg[1]/100, ACn8plgapegwat_Rg[0],linewidth=2, color='#4C80ED')\n",
    "plt.plot(ACn10plgapegwat_Rg[1]/100, ACn10plgapegwat_Rg[0],linewidth=2, color='#8C52FC')\n",
    "plt.plot(ACn16plgapegwat_Rg[1]/100, ACn16plgapegwat_Rg[0],linewidth=2, color='purple')\n",
    "plt.plot(ACn20plgapegwat_Rg[1]/100, ACn20plgapegwat_Rg[0],linewidth=2, color='#8B7F47')\n",
    "plt.tick_params(labelsize=14)\n",
    "plt.legend(['N = 6 Rg','N = 8 Rg','N = 10 Rg','N = 15 Rg','N = 20 Rg'], frameon=False, fontsize=14)\n",
    "#plt.yscale('symlog', linthreshy=0.5)\n",
    "#plt.xscale('symlog')\n",
    "plt.xlim(0,20)\n",
    "plt.ylim(-1,1)"
   ]
  },
  {
   "cell_type": "markdown",
   "metadata": {},
   "source": [
    "#### Get average COM distance, arch length values"
   ]
  },
  {
   "cell_type": "code",
   "execution_count": null,
   "metadata": {},
   "outputs": [],
   "source": [
    "cb_n20plga = np.zeros(shape=(36001))\n",
    "cb_n20pplinker = np.zeros(shape=(36001))\n",
    "cb_n20peg = np.zeros(shape=(36001))\n",
    "count = 0\n",
    "for ts in n20_plgapeg_wat.trajectory[0:36001]:\n",
    "    # 1st two PLGA residues\n",
    "    n20m1_plga = n20_plgapeg_wat.select_atoms(\"resid 1\")\n",
    "    n20m2_plga = n20_plgapeg_wat.select_atoms(\"resid 2\")\n",
    "    # PLGA-PEG linker (n_mon/2 to get to bPLG res no.)\n",
    "    n20pl_link = n20_plgapeg_wat.select_atoms(\"resid 10\")\n",
    "    n20peg_link = n20_plgapeg_wat.select_atoms(\"resid 11\")\n",
    "    # last two PEG residues \n",
    "    n20l1_peg = n20_plgapeg_wat.select_atoms(\"resid 19\")\n",
    "    n20l2_peg = n20_plgapeg_wat.select_atoms(\"resid 20\")\n",
    "    \n",
    "    cb_n20plga[count] = mda.analysis.distances.distance_array(n20m1_plga.center_of_mass(), n20m2_plga.center_of_mass(), \n",
    "                                                   box=n20_plgapeg_wat.trajectory.ts.dimensions)\n",
    "    \n",
    "    cb_n20pplinker[count] = mda.analysis.distances.distance_array(n20pl_link.center_of_mass(), n20peg_link.center_of_mass(), \n",
    "                                                   box=n20_plgapeg_wat.trajectory.ts.dimensions)\n",
    "    \n",
    "    cb_n20peg[count] = mda.analysis.distances.distance_array(n20l1_peg.center_of_mass(), n20l2_peg.center_of_mass(), \n",
    "                                                   box=n20_plgapeg_wat.trajectory.ts.dimensions)\n",
    "    \n",
    "    count += 1\n",
    "    \n",
    "\n",
    "    "
   ]
  },
  {
   "cell_type": "code",
   "execution_count": null,
   "metadata": {},
   "outputs": [],
   "source": [
    "COM_n20pp = np.zeros(shape=(3,2))\n",
    "COM_n20pp[0,0] = np.mean(cb_n20plga)\n",
    "COM_n20pp[1,0] = np.mean(cb_n20pplinker)\n",
    "COM_n20pp[2,0] = np.mean(cb_n20peg)\n",
    "COM_n20pp[0,1] = np.std(cb_n20plga)\n",
    "COM_n20pp[1,1] = np.std(cb_n20pplinker)\n",
    "COM_n20pp[2,1] = np.std(cb_n20peg)\n",
    "COM_n20pp"
   ]
  },
  {
   "cell_type": "markdown",
   "metadata": {},
   "source": [
    "#### Correlation values at each arc length for the whole 360 ns trajectory, N = 20 PLGA-PEG/water"
   ]
  },
  {
   "cell_type": "code",
   "execution_count": null,
   "metadata": {},
   "outputs": [],
   "source": [
    "# x values\n",
    "blen_n20pp = np.zeros(shape=19)\n",
    "for i in range(n20_mon-1):\n",
    "    if i < int((n20_mon/2)-1):\n",
    "        # PLGA contour length values\n",
    "        if i == 0:\n",
    "            blen_n20pp[i] = 0\n",
    "        elif i != 0:\n",
    "            blen_n20pp[i] = np.sum(blen_n20pp[i-1]) + COM_n20pp[0,0]    \n",
    "    elif i == int((n20_mon/2)-1):\n",
    "        #PLGA-PEG linker length\n",
    "        blen_n20pp[i] = np.sum(blen_n20pp[i-1]) + COM_n20pp[1,0]\n",
    "    elif i > int((n20_mon/2)-1):\n",
    "    #    # PEG contour length values\n",
    "        blen_n20pp[i] = np.sum(blen_n20pp[i-1]) + COM_n20pp[2,0]\n",
    "        \n",
    "blen_n20pp"
   ]
  },
  {
   "cell_type": "code",
   "execution_count": null,
   "metadata": {},
   "outputs": [],
   "source": [
    "# Error prop. into natural log std deviation\n",
    "mk_n20ppwat = cor_n20plgapeg_wat[1]/cor_n20plgapeg_wat[0]\n",
    "mk_n20ppwat"
   ]
  },
  {
   "cell_type": "code",
   "execution_count": null,
   "metadata": {},
   "outputs": [],
   "source": [
    "plt.figure(figsize=(7,7))\n",
    "plt.errorbar(blen_n20pp, np.log(cor_n20plgapeg_wat[0]), yerr=mk_n20ppwat, color='teal', linestyle=\"None\",marker='o',\n",
    "     capsize=5, capthick=1, ecolor='black')"
   ]
  },
  {
   "cell_type": "code",
   "execution_count": null,
   "metadata": {},
   "outputs": [],
   "source": [
    "# All the points give the best fits for N = 6 peg in water\n",
    "n20_blksplgapeg_wat , n20plgapeg_lpwat = bavg_pers_cnt(5, plgapeg_n20wat, n20_plgapeg_wat, blen_n20pp, 5, 0 , 36001)"
   ]
  },
  {
   "cell_type": "code",
   "execution_count": null,
   "metadata": {},
   "outputs": [],
   "source": [
    "n20_blksplgapeg_wat"
   ]
  },
  {
   "cell_type": "code",
   "execution_count": null,
   "metadata": {},
   "outputs": [],
   "source": [
    "n20plgapeg_lpwat"
   ]
  },
  {
   "cell_type": "code",
   "execution_count": null,
   "metadata": {},
   "outputs": [],
   "source": [
    "n20plgapeg_lpwat[2]"
   ]
  },
  {
   "cell_type": "code",
   "execution_count": null,
   "metadata": {},
   "outputs": [],
   "source": [
    "np.mean(n20plgapeg_lpwat[3])"
   ]
  },
  {
   "cell_type": "markdown",
   "metadata": {},
   "source": [
    "#### line fitted to cosine theta values using mean slope"
   ]
  },
  {
   "cell_type": "code",
   "execution_count": null,
   "metadata": {},
   "outputs": [],
   "source": [
    "blen_n20pp"
   ]
  },
  {
   "cell_type": "code",
   "execution_count": null,
   "metadata": {},
   "outputs": [],
   "source": [
    "gg_n20plgapeg_wat = line_fit(np.mean(n20plgapeg_lpwat[2]),blen_n20pp)"
   ]
  },
  {
   "cell_type": "code",
   "execution_count": null,
   "metadata": {},
   "outputs": [],
   "source": [
    "gg_n16plgapeg_n20wat = line_fit(np.mean(n16plgapeg_lpwat[2]),blen_n20pp)"
   ]
  },
  {
   "cell_type": "code",
   "execution_count": null,
   "metadata": {},
   "outputs": [],
   "source": [
    "gg_n10plgapeg_n20wat = line_fit(np.mean(n10plgapeg_lpwat[2]),blen_n20pp)"
   ]
  },
  {
   "cell_type": "code",
   "execution_count": null,
   "metadata": {},
   "outputs": [],
   "source": [
    "gg_n8plgapeg_n20wat = line_fit(np.mean(n8plgapeg_lpwat[2]),blen_n20pp)"
   ]
  },
  {
   "cell_type": "code",
   "execution_count": null,
   "metadata": {},
   "outputs": [],
   "source": [
    "gg_n6plgapeg_n20wat = line_fit(np.mean(n6plgapeg_lpwat[2]),blen_n20pp)"
   ]
  },
  {
   "cell_type": "code",
   "execution_count": null,
   "metadata": {},
   "outputs": [],
   "source": [
    "gg_n20plgapeg_wat"
   ]
  },
  {
   "cell_type": "markdown",
   "metadata": {},
   "source": [
    "#### Block averaged Rg, Ree, Rh, mean sq. Ree and mean sq. Rg persistence length, N = 20 PLGA-PEG in water"
   ]
  },
  {
   "cell_type": "code",
   "execution_count": null,
   "metadata": {},
   "outputs": [],
   "source": [
    "blppn20 = []\n",
    "for i in range(n20_mon-1):\n",
    "    if i < int((n20_mon/2)-1):\n",
    "        # PLGA contour length values\n",
    "        blppn20.append(COM_n20pp[0,0])    \n",
    "    elif i == int((n20_mon/2)-1):\n",
    "        #PLGA-PEG linker length\n",
    "        blppn20.append(COM_n20pp[1,0]) \n",
    "    elif i > int((n20_mon/2)-1):\n",
    "    #    # PEG contour length values\n",
    "        blppn20.append(COM_n20pp[2,0]) \n",
    "\n",
    "# Contour Length, N = 6 PLGA-PEG in water\n",
    "lc_ppn20 = np.sum(blppn20)\n",
    "lc_ppn20"
   ]
  },
  {
   "cell_type": "code",
   "execution_count": null,
   "metadata": {},
   "outputs": [],
   "source": [
    "# Ree^2/Rg^2 array at different contour lengths\n",
    "re2e_rgsq_plgapegwat[1,4] = lc_ppn20\n",
    "re2e_rgsq_plgapegwat"
   ]
  },
  {
   "cell_type": "code",
   "execution_count": null,
   "metadata": {},
   "outputs": [],
   "source": [
    "a_ppn20 = np.mean(n20_blksplgapeg_wat['Avg Sq. end to end distance'])"
   ]
  },
  {
   "cell_type": "code",
   "execution_count": null,
   "metadata": {},
   "outputs": [],
   "source": [
    "b_ppn20 = np.mean(n20_blksplgapeg_wat['Avg Sq. radius of gyration'])"
   ]
  },
  {
   "cell_type": "code",
   "execution_count": null,
   "metadata": {},
   "outputs": [],
   "source": [
    "re2e_rgsq_plgapegwat[0,4] = a_ppn20/b_ppn20\n",
    "re2e_rgsq_plgapegwat"
   ]
  },
  {
   "cell_type": "code",
   "execution_count": null,
   "metadata": {},
   "outputs": [],
   "source": [
    "# Rg/Rh array at different contour lengths \n",
    "rhy_rg_plgapegwat[1,4] = lc_ppn20\n",
    "rhy_rg_plgapegwat"
   ]
  },
  {
   "cell_type": "code",
   "execution_count": null,
   "metadata": {},
   "outputs": [],
   "source": [
    "aa_ppn20 = np.mean(n20_blksplgapeg_wat['Avg Radius of gyration'])"
   ]
  },
  {
   "cell_type": "code",
   "execution_count": null,
   "metadata": {},
   "outputs": [],
   "source": [
    "bb_ppn20 = np.mean(n20_blksplgapeg_wat['Avg Hydrodynamic radius'])"
   ]
  },
  {
   "cell_type": "code",
   "execution_count": null,
   "metadata": {},
   "outputs": [],
   "source": [
    "rhy_rg_plgapegwat[0,4] = aa_ppn20/bb_ppn20\n",
    "rhy_rg_plgapegwat"
   ]
  },
  {
   "cell_type": "code",
   "execution_count": null,
   "metadata": {},
   "outputs": [],
   "source": [
    "# pers length/contour length \n",
    "kuhnlpL_plgapegwat[0,4] = np.mean(n20_blksplgapeg_wat[\"Avg persistence length\"])/lc_ppn20\n",
    "kuhnlpL_plgapegwat"
   ]
  },
  {
   "cell_type": "markdown",
   "metadata": {},
   "source": [
    "#### Block averaged Radius of gyration and persistence length, N = 20 PLGA-PEG in water"
   ]
  },
  {
   "cell_type": "code",
   "execution_count": null,
   "metadata": {},
   "outputs": [],
   "source": [
    "np.mean(n20_blksplgapeg_wat[\"Avg persistence length\"])"
   ]
  },
  {
   "cell_type": "code",
   "execution_count": null,
   "metadata": {},
   "outputs": [],
   "source": [
    "np.std(n20_blksplgapeg_wat[\"Avg persistence length\"])"
   ]
  },
  {
   "cell_type": "code",
   "execution_count": null,
   "metadata": {},
   "outputs": [],
   "source": [
    "np.mean(n20_blksplgapeg_wat[\"Avg Radius of gyration\"])"
   ]
  },
  {
   "cell_type": "code",
   "execution_count": null,
   "metadata": {},
   "outputs": [],
   "source": [
    "np.std(n20_blksplgapeg_wat[\"Avg Radius of gyration\"])"
   ]
  },
  {
   "cell_type": "code",
   "execution_count": null,
   "metadata": {},
   "outputs": [],
   "source": [
    "plt.figure(figsize=(7,7))\n",
    "plt.errorbar(blen_n6pp, np.log(cor_n6plgapeg_wat[0]), yerr=mk_n6ppwat, color='teal', linestyle=\"None\",marker='o',\n",
    "     capsize=5, capthick=1, ecolor='black')\n",
    "plt.errorbar(blen_n8pp, np.log(cor_n8plgapeg_wat[0]), yerr=mk_n8ppwat, color='dodgerblue', linestyle=\"None\",marker='o',\n",
    "     capsize=5, capthick=1, ecolor='black')\n",
    "plt.errorbar(blen_n10pp, np.log(cor_n10plgapeg_wat[0]), yerr=mk_n10ppwat, color='darkmagenta', linestyle=\"None\",marker='o',\n",
    "     capsize=5, capthick=1, ecolor='black')\n",
    "plt.errorbar(blen_n16pp, np.log(cor_n16plgapeg_wat[0]), yerr=mk_n16ppwat, color='maroon', linestyle=\"None\",marker='o',\n",
    "     capsize=5, capthick=1, ecolor='black')\n",
    "plt.errorbar(blen_n20pp, np.log(cor_n20plgapeg_wat[0]), yerr=mk_n20ppwat, color='orangered', linestyle=\"None\",marker='o',\n",
    "     capsize=5, capthick=1, ecolor='black')\n",
    "plt.plot(blen_n20pp, gg_n6plgapeg_n20wat, color='teal')\n",
    "plt.plot(blen_n20pp, gg_n8plgapeg_n20wat, color='dodgerblue')\n",
    "plt.plot(blen_n20pp, gg_n10plgapeg_n20wat, color='darkmagenta')\n",
    "plt.plot(blen_n20pp, gg_n16plgapeg_n20wat, color='orangered')\n",
    "plt.plot(blen_n20pp, gg_n20plgapeg_wat, color='maroon')\n",
    "plt.title(r'Ensemble Averaged ln(Cosine $\\theta$) PLGA-PEG in water', fontsize=15, y=1.01)\n",
    "plt.xlabel(r'Bond Length', fontsize=15)\n",
    "plt.ylabel(r'ln$\\left< Cos(\\theta)\\right >$', fontsize=15)\n",
    "plt.ylim(-7,1.5)\n",
    "plt.xlim(0,90)\n",
    "#plt.ylim(-1.9,0)\n",
    "font = font_manager.FontProperties(family='Arial', style='normal', size='14')\n",
    "#plt.legend([r'$N_{PEG}$ = 6: $L_{p}$ = 18.8 $\\AA$ ± 3.60 $\\AA$'], loc=3, frameon=0, fontsize=14, prop=font)\n",
    "plt.tick_params(labelsize=14)\n",
    "plt.text(0.5, -6.9,r'$N_{PLGA-PEG}$ = 6: $L_{p}$ = 19.4 $\\AA$ ± 1.43 $\\AA$', fontsize=15, color='teal')\n",
    "plt.text(0.5, -6.58,r'$N_{PLGA-PEG}$ = 8: $L_{p}$ = 20.8 $\\AA$ ± 1.03 $\\AA$', fontsize=15, color='dodgerblue')\n",
    "plt.text(0.5, -6.23,r'$N_{PLGA-PEG}$ = 10: $L_{p}$ = 21.2 $\\AA$ ± 0.58 $\\AA$', fontsize=15, color='darkmagenta')\n",
    "plt.text(0.5, -5.90,r'$N_{PLGA-PEG}$ = 16: $L_{p}$ = 23.1 $\\AA$ ± 0.86 $\\AA$', fontsize=15, color='orangered')\n",
    "plt.text(0.5, -5.50,r'$N_{PLGA-PEG}$ = 20: $L_{p}$ = 23.2 $\\AA$ ± 0.60 $\\AA$', fontsize=15, color='maroon')"
   ]
  },
  {
   "cell_type": "code",
   "execution_count": null,
   "metadata": {},
   "outputs": [],
   "source": [
    "rgplgapeg_olig_wat[r\"$R_{g}$ [Angstrom] N = 20 PLGA-PEG water\"] = n20_blksplgapeg_wat[\"Avg Radius of gyration\"]\n",
    "rgplgapeg_olig_wat"
   ]
  },
  {
   "cell_type": "code",
   "execution_count": null,
   "metadata": {},
   "outputs": [],
   "source": [
    "pers_plgapegt_wat[r\"$L_{p}$ [Angstrom] N = 20 PLGA-PEG water\"] = n20_blksplgapeg_wat[\"Avg persistence length\"]\n",
    "pers_plgapegt_wat"
   ]
  },
  {
   "cell_type": "code",
   "execution_count": null,
   "metadata": {},
   "outputs": [],
   "source": []
  },
  {
   "cell_type": "code",
   "execution_count": null,
   "metadata": {},
   "outputs": [],
   "source": []
  },
  {
   "cell_type": "code",
   "execution_count": null,
   "metadata": {},
   "outputs": [],
   "source": []
  },
  {
   "cell_type": "markdown",
   "metadata": {},
   "source": [
    "### N = 30 PLGA-PEG/water "
   ]
  },
  {
   "cell_type": "code",
   "execution_count": null,
   "metadata": {},
   "outputs": [],
   "source": [
    "# For the right Rg calculation using MD Analysis, use trajactory without pbc \n",
    "n30_plgapeg_wat = mda.Universe(\"n30plga_peg_wat/n30plgapeg_WAT.pdb\", \"n30plga_peg_wat/NoWat_n30plgapeg.xtc\")"
   ]
  },
  {
   "cell_type": "code",
   "execution_count": null,
   "metadata": {},
   "outputs": [],
   "source": [
    "n30_plgapeg_wat.trajectory"
   ]
  },
  {
   "cell_type": "code",
   "execution_count": null,
   "metadata": {},
   "outputs": [],
   "source": [
    "len(n30_plgapeg_wat.trajectory)"
   ]
  },
  {
   "cell_type": "code",
   "execution_count": null,
   "metadata": {},
   "outputs": [],
   "source": [
    "#Select the polymer heavy atoms \n",
    "plgapeg_n30wat = n30_plgapeg_wat.select_atoms(\"resname sPLG PLG bPLG bPEG PEG sPEG and not type H\")"
   ]
  },
  {
   "cell_type": "code",
   "execution_count": null,
   "metadata": {},
   "outputs": [],
   "source": [
    "np.unique(plgapeg_n30wat.resids)"
   ]
  },
  {
   "cell_type": "code",
   "execution_count": null,
   "metadata": {},
   "outputs": [],
   "source": [
    "# Get cosine theta values at frame 0 \n",
    "crv_n30plgapeg_wat = pers_length(plgapeg_n30wat,30)\n",
    "crv_n30plgapeg_wat"
   ]
  },
  {
   "cell_type": "markdown",
   "metadata": {},
   "source": [
    "#### Orientation Order parameter vs. time "
   ]
  },
  {
   "cell_type": "code",
   "execution_count": null,
   "metadata": {},
   "outputs": [],
   "source": [
    "n30_mon = 30\n",
    "start = 0\n",
    "end = 36001"
   ]
  },
  {
   "cell_type": "code",
   "execution_count": null,
   "metadata": {},
   "outputs": [],
   "source": [
    "OOp_n30plgapeg_wat = orientation_order_param(plgapeg_n30wat, n30_plgapeg_wat, n30_mon, start, end)"
   ]
  },
  {
   "cell_type": "code",
   "execution_count": null,
   "metadata": {},
   "outputs": [],
   "source": [
    "OOp_n30plgapeg_wat.shape"
   ]
  },
  {
   "cell_type": "code",
   "execution_count": null,
   "metadata": {},
   "outputs": [],
   "source": [
    "trj_len = np.arange(36001)\n",
    "plt.figure(figsize=(7,7))\n",
    "plt.title(r'PLGA-PEG Orientation Order Parameter', fontsize=18, y=1.01)\n",
    "plt.xlabel(r'Time [ns]', fontsize=15)\n",
    "plt.ylabel(r'Z', fontsize=15)\n",
    "plt.plot(trj_len/100, OOp_n6plgapeg_wat,linewidth=2, color='teal')\n",
    "plt.plot(trj_len/100, OOp_n8plgapeg_wat,linewidth=2, color='dodgerblue')\n",
    "plt.plot(trj_len/100, OOp_n10plgapeg_wat,linewidth=2, color='darkmagenta')\n",
    "plt.plot(trj_len/100, OOp_n16plgapeg_wat,linewidth=2, color='maroon')\n",
    "plt.plot(trj_len/100, OOp_n20plgapeg_wat,linewidth=2, color='orangered')\n",
    "plt.plot(trj_len/100, OOp_n30plgapeg_wat,linewidth=2, color='darkolivegreen')\n",
    "plt.tick_params(labelsize=14)\n",
    "plt.legend(['N = 6 in Water', 'N = 8 in Water','N = 10 in Water','N = 16 in water','N = 20 in water','N = 30 in water'],\n",
    "           frameon=False, fontsize=14, loc='upper left')\n",
    "#plt.text(127, 0.96,r'N = 6 in water', fontsize=18, color='#1F2E69', family='Arial')\n",
    "plt.xlim(0,360)\n",
    "plt.ylim(-2,2)"
   ]
  },
  {
   "cell_type": "markdown",
   "metadata": {},
   "source": [
    "#### Mean Orientation Order Parameter for N = 30 PLGA-PEG in water"
   ]
  },
  {
   "cell_type": "code",
   "execution_count": null,
   "metadata": {},
   "outputs": [],
   "source": [
    "OOp_n30plgapeg_wat[82]"
   ]
  },
  {
   "cell_type": "code",
   "execution_count": null,
   "metadata": {},
   "outputs": [],
   "source": [
    "OOp_n30plgapeg_wat[239]"
   ]
  },
  {
   "cell_type": "code",
   "execution_count": null,
   "metadata": {},
   "outputs": [],
   "source": [
    "np.mean(OOp_n30plgapeg_wat)"
   ]
  },
  {
   "cell_type": "code",
   "execution_count": null,
   "metadata": {},
   "outputs": [],
   "source": [
    "np.std(OOp_n30plgapeg_wat)"
   ]
  },
  {
   "cell_type": "markdown",
   "metadata": {},
   "source": [
    "#### Mean squared end to end distance "
   ]
  },
  {
   "cell_type": "code",
   "execution_count": null,
   "metadata": {},
   "outputs": [],
   "source": [
    "eVec_n30plgapeg_wat, e2edis_n30plgapeg_wat = mean_sq_e2e(plgapeg_n30wat, n30_plgapeg_wat, n30_mon, start, end)"
   ]
  },
  {
   "cell_type": "code",
   "execution_count": null,
   "metadata": {},
   "outputs": [],
   "source": [
    "trj_len = np.arange(36001)\n",
    "plt.figure(figsize=(7,7))\n",
    "plt.title(r'PLGA-PEG End to End distance', fontsize=18, y=1.01)\n",
    "plt.xlabel(r'Time [ns]', fontsize=15)\n",
    "plt.ylabel(r'$R_{ee}$ [nm]', fontsize=15)\n",
    "#plt.plot(trj_len/100, e2edis_n6plgapeg_wat[1]/10,linewidth=2, color='teal')\n",
    "#plt.plot(trj_len/100, e2edis_n8plgapeg_wat[1]/10,linewidth=2, color='dodgerblue')\n",
    "#plt.plot(trj_len/100, e2edis_n10plgapeg_wat[1]/10,linewidth=2, color='darkmagenta')\n",
    "plt.plot(trj_len/100, e2edis_n16plgapeg_wat[1]/10,linewidth=2, color='maroon')\n",
    "plt.plot(trj_len/100, e2edis_n20plgapeg_wat[1]/10,linewidth=2, color='orangered')\n",
    "plt.plot(trj_len/100, e2edis_n30plgapeg_wat[1]/10,linewidth=2, color='darkolivegreen')\n",
    "plt.tick_params(labelsize=14)\n",
    "#plt.legend(['N = 6 in Water', 'N = 8 in Water','N = 10 in Water'],frameon=False, fontsize=14, loc='upper left')\n",
    "plt.legend(['N = 16 in Water', 'N = 20 in Water','N = 30 in Water'],frameon=False, fontsize=14, loc='upper left')\n",
    "#plt.legend(['N = 6 in Water', 'N = 8 in Water','N = 10 in Water',\n",
    "#            'N = 16 in water','N = 20 in water','N = 30 in water'],\n",
    "#           frameon=False, fontsize=14, loc='upper left')\n",
    "#plt.text(127, 0.96,r'N = 6 in water', fontsize=18, color='#1F2E69', family='Arial')\n",
    "plt.xlim(0,360)\n",
    "plt.ylim(0,10)"
   ]
  },
  {
   "cell_type": "code",
   "execution_count": null,
   "metadata": {},
   "outputs": [],
   "source": [
    "np.save('n6plgapeg_watLEE.npy', e2edis_n6plgapeg_wat)\n",
    "np.save('n8plgapeg_watLEE.npy', e2edis_n8plgapeg_wat)\n",
    "np.save('n10plgapeg_watLEE.npy', e2edis_n10plgapeg_wat)\n",
    "np.save('n16plgapeg_watLEE.npy', e2edis_n16plgapeg_wat)\n",
    "np.save('n20plgapeg_watLEE.npy', e2edis_n20plgapeg_wat)\n",
    "np.save('n30plgapeg_watLEE.npy', e2edis_n30plgapeg_wat)"
   ]
  },
  {
   "cell_type": "code",
   "execution_count": null,
   "metadata": {},
   "outputs": [],
   "source": [
    "e2edis_n6plgapeg_wat = np.load('n6plgapeg_watLEE.npy', allow_pickle=True)\n",
    "e2edis_n8plgapeg_wat = np.load('n8plgapeg_watLEE.npy', allow_pickle=True)\n",
    "e2edis_n10plgapeg_wat = np.load('n10plgapeg_watLEE.npy', allow_pickle=True)\n",
    "e2edis_n16plgapeg_wat = np.load('n16plgapeg_watLEE.npy', allow_pickle=True)\n",
    "e2edis_n20plgapeg_wat = np.load('n20plgapeg_watLEE.npy', allow_pickle=True)\n",
    "e2edis_n30plgapeg_wat = np.load('n30plgapeg_watLEE.npy', allow_pickle=True)"
   ]
  },
  {
   "cell_type": "markdown",
   "metadata": {},
   "source": [
    "#### Ree Autocorrelation function"
   ]
  },
  {
   "cell_type": "code",
   "execution_count": null,
   "metadata": {},
   "outputs": [],
   "source": [
    "e2edis_n30plgapeg_wat[1]"
   ]
  },
  {
   "cell_type": "code",
   "execution_count": null,
   "metadata": {},
   "outputs": [],
   "source": [
    "t_corr = 3000\n",
    "window_shift = 5"
   ]
  },
  {
   "cell_type": "code",
   "execution_count": null,
   "metadata": {},
   "outputs": [],
   "source": [
    "ACn30plgapegwat_Ree, eqvar_n30plgapegwat = obs_autocorr_RA(e2edis_n30plgapeg_wat[1],t_corr, window_shift,start,end)"
   ]
  },
  {
   "cell_type": "code",
   "execution_count": null,
   "metadata": {},
   "outputs": [],
   "source": [
    "ACn30plgapegwat_Ree"
   ]
  },
  {
   "cell_type": "code",
   "execution_count": null,
   "metadata": {},
   "outputs": [],
   "source": [
    "eqvar_n30plgapegwat"
   ]
  },
  {
   "cell_type": "code",
   "execution_count": null,
   "metadata": {},
   "outputs": [],
   "source": [
    "ACn30plgapegwat_sqRee, evsqRee_n30plgapegwat = obs_autocorr_RA(e2edis_n30plgapeg_wat[0],t_corr, window_shift,start,end)"
   ]
  },
  {
   "cell_type": "code",
   "execution_count": null,
   "metadata": {},
   "outputs": [],
   "source": [
    "np.sqrt(evsqRee_n30plgapegwat)"
   ]
  },
  {
   "cell_type": "code",
   "execution_count": null,
   "metadata": {},
   "outputs": [],
   "source": [
    "plt.figure(figsize=(7,7))\n",
    "plt.title(r'PLGA-PEG in Water autocorrelation', fontsize=18, y=1.01)\n",
    "plt.xlabel(r'Time [ns]', fontsize=15)\n",
    "plt.ylabel(r'$C_{A}(t)$', fontsize=15)\n",
    "plt.plot(ACn6plgapegwat_Ree[1]/100, ACn6plgapegwat_Ree[0],linewidth=2, color='teal')\n",
    "plt.plot(ACn8plgapegwat_Ree[1]/100, ACn8plgapegwat_Ree[0],linewidth=2, color='dodgerblue')\n",
    "plt.plot(ACn10plgapegwat_Ree[1]/100, ACn10plgapegwat_Ree[0],linewidth=2, color='darkmagenta')\n",
    "plt.plot(ACn16plgapegwat_Ree[1]/100, ACn16plgapegwat_Ree[0],linewidth=2, color='maroon')\n",
    "plt.plot(ACn20plgapegwat_Ree[1]/100, ACn20plgapegwat_Ree[0],linewidth=2, color='orangered')\n",
    "plt.plot(ACn30plgapegwat_Ree[1]/100, ACn30plgapegwat_Ree[0],linewidth=2, color='darkolivegreen')\n",
    "plt.tick_params(labelsize=14)\n",
    "plt.legend(['N = 6 Ree','N = 8 Ree','N = 10 Ree','N = 16 Ree','N = 20 Ree','N = 30 Ree'], frameon=False, fontsize=14)\n",
    "#plt.legend(['N = 6 Lee','N = 8 Lee','N = 10 Lee','N = 15 Lee'], frameon=False, fontsize=14)\n",
    "#plt.legend(['N = 20 Lee','N = 30 Lee'], frameon=False, fontsize=14)\n",
    "#plt.yscale('symlog', linthreshy=0.5)\n",
    "#plt.xscale('symlog')\n",
    "plt.xlim(0,20)\n",
    "plt.ylim(-1,1)"
   ]
  },
  {
   "cell_type": "markdown",
   "metadata": {},
   "source": [
    "### Hydrodynamic Radius vs time"
   ]
  },
  {
   "cell_type": "code",
   "execution_count": null,
   "metadata": {},
   "outputs": [],
   "source": [
    "plgapegn30wat_rh = hydro_rad_poly(plgapeg_n30wat, n30_plgapeg_wat, n30_mon, start, end)"
   ]
  },
  {
   "cell_type": "code",
   "execution_count": null,
   "metadata": {},
   "outputs": [],
   "source": [
    "trj_len = np.arange(36001)\n",
    "plt.figure(figsize=(7,7))\n",
    "plt.title(r'PLGA-PEG Hydrodynamic Radius', fontsize=18, y=1.01)\n",
    "plt.xlabel(r'Time [ns]', fontsize=15)\n",
    "plt.ylabel(r'$R_{hyd}$ [nm]', fontsize=15)\n",
    "#plt.plot(trj_len/100, plgapegn6wat_rh/10,linewidth=2, color='teal')\n",
    "#plt.plot(trj_len/100, plgapegn8wat_rh/10,linewidth=2, color='dodgerblue')\n",
    "#plt.plot(trj_len/100, plgapegn10wat_rh/10,linewidth=2, color='darkmagenta')\n",
    "plt.plot(trj_len/100, plgapegn16wat_rh/10,linewidth=2, color='maroon')\n",
    "plt.plot(trj_len/100, plgapegn20wat_rh/10,linewidth=2, color='orangered')\n",
    "plt.plot(trj_len/100, plgapegn30wat_rh/10,linewidth=2, color='darkolivegreen')\n",
    "plt.tick_params(labelsize=14)\n",
    "#plt.legend(['N = 6 in Water', 'N = 8 in Water','N = 10 in Water'],frameon=False, fontsize=14, loc='upper left')\n",
    "plt.legend(['N = 16 in Water', 'N = 20 in Water','N = 30 in Water'],frameon=False, fontsize=14, loc='upper left')\n",
    "#plt.legend(['N = 6 in Water', 'N = 8 in Water','N = 10 in Water','N = 16 in water','N = 20 in water','N = 30 in water'],\n",
    "#           frameon=False, fontsize=14, loc='upper left')\n",
    "#plt.text(127, 0.96,r'N = 6 in water', fontsize=18, color='#1F2E69', family='Arial')\n",
    "plt.xlim(0,360)\n",
    "plt.ylim(1,4)"
   ]
  },
  {
   "cell_type": "code",
   "execution_count": null,
   "metadata": {},
   "outputs": [],
   "source": [
    "np.save('n6plgapeg_watRHYD.npy', plgapegn6wat_rh)\n",
    "np.save('n8plgapeg_watRHYD.npy', plgapegn8wat_rh)\n",
    "np.save('n10plgapeg_watRHYD.npy', plgapegn10wat_rh)\n",
    "np.save('n16plgapeg_watRHYD.npy', plgapegn16wat_rh)\n",
    "np.save('n20plgapeg_watRHYD.npy', plgapegn20wat_rh)\n",
    "np.save('n30plgapeg_watRHYD.npy', plgapegn30wat_rh)"
   ]
  },
  {
   "cell_type": "code",
   "execution_count": null,
   "metadata": {},
   "outputs": [],
   "source": [
    "plgapegn6wat_rh = np.load('n6plgapeg_watRHYD.npy', allow_pickle=True)\n",
    "plgapegn8wat_rh = np.load('n8plgapeg_watRHYD.npy', allow_pickle=True)\n",
    "plgapegn10wat_rh = np.load('n10plgapeg_watRHYD.npy', allow_pickle=True)\n",
    "plgapegn16wat_rh = np.load('n16plgapeg_watRHYD.npy', allow_pickle=True)\n",
    "plgapegn20wat_rh = np.load('n20plgapeg_watRHYD.npy', allow_pickle=True)\n",
    "plgapegn30wat_rh = np.load('n30plgapeg_watRHYD.npy', allow_pickle=True)"
   ]
  },
  {
   "cell_type": "markdown",
   "metadata": {},
   "source": [
    "#### Rh autocorrelation"
   ]
  },
  {
   "cell_type": "code",
   "execution_count": null,
   "metadata": {},
   "outputs": [],
   "source": [
    "ACn30plgapegwatRh, eqvarRh_n30plgapegwat = obs_autocorr_RA(plgapegn30wat_rh,t_corr, window_shift,start,end)"
   ]
  },
  {
   "cell_type": "code",
   "execution_count": null,
   "metadata": {},
   "outputs": [],
   "source": [
    "ACn30plgapegwatRh"
   ]
  },
  {
   "cell_type": "code",
   "execution_count": null,
   "metadata": {},
   "outputs": [],
   "source": [
    "eqvarRh_n30plgapegwat"
   ]
  },
  {
   "cell_type": "code",
   "execution_count": null,
   "metadata": {},
   "outputs": [],
   "source": [
    "plt.figure(figsize=(7,7))\n",
    "plt.title(r'PLGA-PEG in water autocorrelation', fontsize=18, y=1.01)\n",
    "plt.xlabel(r'Time [ns]', fontsize=15)\n",
    "plt.ylabel(r'$C_{A}(t)$', fontsize=15)\n",
    "plt.plot(ACn6plgapegwatRh[1]/100, ACn6plgapegwatRh[0],linewidth=2, color='teal')\n",
    "plt.plot(ACn8plgapegwatRh[1]/100, ACn8plgapegwatRh[0],linewidth=2, color='dodgerblue')\n",
    "plt.plot(ACn10plgapegwatRh[1]/100, ACn10plgapegwatRh[0],linewidth=2, color='darkmagenta')\n",
    "plt.plot(ACn16plgapegwatRh[1]/100, ACn16plgapegwatRh[0],linewidth=2, color='maroon')\n",
    "plt.plot(ACn20plgapegwatRh[1]/100, ACn20plgapegwatRh[0],linewidth=2, color='orangered')\n",
    "plt.plot(ACn30plgapegwatRh[1]/100, ACn30plgapegwatRh[0],linewidth=2, color='darkolivegreen')\n",
    "plt.tick_params(labelsize=14)\n",
    "plt.legend([r'N = 6 $R_{hyd}$','N = 8 $R_{hyd}$','N = 10 $R_{hyd}$','N = 16 $R_{hyd}$','N = 20 $R_{hyd}$','N = 30 $R_{hyd}$']\n",
    " ,frameon=False, fontsize=14)\n",
    "#plt.legend([r'N = 6 $R_{hyd}$','N = 8 $R_{hyd}$','N = 10 $R_{hyd}$','N = 15 $R_{hyd}$'], frameon=False, fontsize=14)\n",
    "#plt.legend([r'N = 20 $R_{hyd}$',r'N = 30 $R_{hyd}$'], frameon=False, fontsize=14)\n",
    "plt.xlim(0,20)\n",
    "plt.ylim(-2,1)"
   ]
  },
  {
   "cell_type": "markdown",
   "metadata": {},
   "source": [
    "### Relaxation times vs monomer length "
   ]
  },
  {
   "cell_type": "code",
   "execution_count": null,
   "metadata": {},
   "outputs": [],
   "source": [
    "# Key variables \n",
    "# def pos_bead_autocorr_RA(polymer_atoms, universe, n_monomers, t_corr,  start, end):\n",
    "n30_mon = 30 \n",
    "start = 0\n",
    "end = 36001\n",
    "t_corr = 2000\n",
    "window_shift = 20"
   ]
  },
  {
   "cell_type": "code",
   "execution_count": null,
   "metadata": {},
   "outputs": [],
   "source": [
    "s_time = timeit.default_timer()\n",
    "tcRA_plgapegn30wat, tcSUM_plgapegn30wat = pos_bead_autocorr_RA(plgapeg_n30wat, n30_plgapeg_wat, n30_mon, t_corr, window_shift, start, end)\n",
    "timeit.default_timer() - s_time"
   ]
  },
  {
   "cell_type": "code",
   "execution_count": null,
   "metadata": {},
   "outputs": [],
   "source": [
    "tcRA_plgapegn30wat"
   ]
  },
  {
   "cell_type": "code",
   "execution_count": null,
   "metadata": {},
   "outputs": [],
   "source": [
    "tcSUM_plgapegn30wat.shape"
   ]
  },
  {
   "cell_type": "markdown",
   "metadata": {},
   "source": [
    "### Fitting autocorrelation data "
   ]
  },
  {
   "cell_type": "code",
   "execution_count": null,
   "metadata": {},
   "outputs": [],
   "source": [
    "xdata_plgapegn30wat = tcRA_plgapegn30wat[1]/100\n",
    "ydata_plgapegn30wat = tcRA_plgapegn30wat[0]"
   ]
  },
  {
   "cell_type": "code",
   "execution_count": null,
   "metadata": {},
   "outputs": [],
   "source": [
    "ydata_plgapegn30wat.shape"
   ]
  },
  {
   "cell_type": "code",
   "execution_count": null,
   "metadata": {},
   "outputs": [],
   "source": [
    "xdata_plgapegn30wat.shape"
   ]
  },
  {
   "cell_type": "code",
   "execution_count": null,
   "metadata": {},
   "outputs": [],
   "source": [
    "plt.figure(figsize=(8,8))\n",
    "plt.rcParams[\"font.family\"] = \"Arial\"\n",
    "plt.scatter(xdata_plgapegn6wat, ydata_plgapegn6wat, color='teal', s=s_n6)\n",
    "plt.scatter(xdata_plgapegn8wat, ydata_plgapegn8wat, color='dodgerblue', s=s_n8)\n",
    "plt.scatter(xdata_plgapegn10wat, ydata_plgapegn10wat, color='darkmagenta', s=s_n10)\n",
    "plt.scatter(xdata_plgapegn16wat, ydata_plgapegn16wat, color='maroon', s=s_n16)\n",
    "plt.scatter(xdata_plgapegn20wat, ydata_plgapegn20wat, color='orangered', s=s_n20)\n",
    "plt.scatter(xdata_plgapegn30wat, ydata_plgapegn30wat, color='darkolivegreen', s=s_n30)\n",
    "plt.title(r'Positional bead autocorrelation PLGA-PEG in Water', fontsize=18, y=1.03)\n",
    "plt.xlabel(r'Time lag [ns]', fontsize=18)\n",
    "plt.ylabel('C(t)', fontsize=18)\n",
    "#plt.legend(fontsize=14, frameon=False)\n",
    "plt.xticks(fontsize=18)\n",
    "plt.yticks(fontsize=18)\n",
    "#plt.yscale('symlog', linthreshy=0.5)\n",
    "plt.xscale('symlog')\n",
    "plt.grid(b=True)\n",
    "plt.xlim(0,300)\n",
    "plt.ylim(-1,1)\n",
    "plt.tick_params(labelsize=18, direction='in', which='both', width=1, length=10)"
   ]
  },
  {
   "cell_type": "code",
   "execution_count": null,
   "metadata": {},
   "outputs": [],
   "source": [
    "np.save('n6plgapeg_watCt_RA.npy', tcRA_plgapegn6wat)\n",
    "np.save('n8plgapeg_watCt_RA.npy', tcRA_plgapegn8wat)\n",
    "np.save('n10plgapeg_watCt_RA.npy', tcRA_plgapegn10wat)\n",
    "np.save('n10plgapeg_watCt_RA.npy', tcRA_plgapegn16wat)\n",
    "np.save('n20plgapeg_watCt_RA.npy', tcRA_plgapegn20wat)\n",
    "np.save('n30plgapeg_watCt_RA.npy', tcRA_plgapegn30wat)"
   ]
  },
  {
   "cell_type": "code",
   "execution_count": null,
   "metadata": {},
   "outputs": [],
   "source": [
    "ts = 1\n",
    "hs = 0.1\n",
    "n30_mon = 30\n",
    "n_b = n30_mon - 1\n",
    "tr1 = 2\n",
    "zimm_relax_fit(ts,tr1,hs,n_b)"
   ]
  },
  {
   "cell_type": "code",
   "execution_count": null,
   "metadata": {},
   "outputs": [],
   "source": [
    "#zimm_relax_func(ts,tr1,hs,n_b)"
   ]
  },
  {
   "cell_type": "code",
   "execution_count": null,
   "metadata": {},
   "outputs": [],
   "source": [
    "def res_plgapegn30wat(variabls, xnp, ynp):\n",
    "    #hs_np = variabls['h_star']\n",
    "    hs_np = 0.26\n",
    "    tr1_np = variabls['t_first']\n",
    "    n_bonds = 29\n",
    "    testnp = []\n",
    "    for i in range(len(xnp)):\n",
    "        model_ynp = zimm_relax_fit(xnp[i], tr1_np, hs_np, n_bonds)\n",
    "        #model_ynp = rouse_relax(xnp[i], tr1_np, n_m)\n",
    "        testnp.append(ynp[i] - model_ynp)\n",
    "    \n",
    "    tt_n6 = np.array(testnp)\n",
    "\n",
    "    return tt_n6\n",
    "    \n",
    "#x1 = np.array([0,0])\n",
    "#pfit, pcov, infodict, errmsg, success = leastsq(res_poly, x1, args=(xdata, ydata), full_output=1)"
   ]
  },
  {
   "cell_type": "code",
   "execution_count": null,
   "metadata": {},
   "outputs": [],
   "source": [
    "ppfit_n30wat = Parameters()\n",
    "#ppfit_n30wat.add(name='h_star', value=0, min=0, max=0.26, vary=True)\n",
    "ppfit_n30wat.add(name='t_first', value=2)"
   ]
  },
  {
   "cell_type": "code",
   "execution_count": null,
   "metadata": {},
   "outputs": [],
   "source": [
    "mini_ppn30wat = Minimizer(res_plgapegn30wat, ppfit_n30wat, fcn_args=(xdata_plgapegn30wat, ydata_plgapegn30wat))\n",
    "out_ppn30wat = mini_ppn30wat.leastsq()\n",
    "#bfit_n10 = ydata_n10wat + out_n10wat.residual "
   ]
  },
  {
   "cell_type": "code",
   "execution_count": null,
   "metadata": {},
   "outputs": [],
   "source": [
    "report_fit(out_ppn30wat.params)"
   ]
  },
  {
   "cell_type": "code",
   "execution_count": null,
   "metadata": {},
   "outputs": [],
   "source": [
    "out_ppn30wat.params"
   ]
  },
  {
   "cell_type": "code",
   "execution_count": null,
   "metadata": {},
   "outputs": [],
   "source": [
    "# with h varying, tr = 1.80310435 +/- 0.01208134 , h* = 0.25997729 +/- 0.02069989\n",
    "twat_n30plgapeg = []\n",
    "n_bonds = 29\n",
    "for i in range(len(xdata_plgapegn30wat)):\n",
    "    twat_n30plgapeg.append(zimm_relax_fit(xdata_plgapegn30wat[i], 1.80568118, 0.26,  n_bonds))\n"
   ]
  },
  {
   "cell_type": "code",
   "execution_count": null,
   "metadata": {},
   "outputs": [],
   "source": [
    "t_c, tz_n30plgapeg, zimm_n30plgapeg, rouse_n30plgapeg = zimm_relax_func(1, 1.80568118, 0.26,  n_bonds)"
   ]
  },
  {
   "cell_type": "code",
   "execution_count": null,
   "metadata": {},
   "outputs": [],
   "source": [
    "x_pos_n16 = np.arange(15)\n",
    "x_pos_n20 = np.arange(19)\n",
    "x_pos_n30 = np.arange(29)\n",
    "#x_pos_n30 = np.arange(29)\n",
    "width = 0.25\n",
    "aa_types_n30 = [r\"$\\tau_{1}$\", r\"$\\tau_{2}$\", r\"$\\tau_{3}$\", r\"$\\tau_{4}$\", r\"$\\tau_{5}$\",r\"$\\tau_{6}$\",r\"$\\tau_{7}$\",\n",
    "           r\"$\\tau_{8}$\", r\"$\\tau_{9}$\",r\"$\\tau_{10}$\", r\"$\\tau_{11}$\", r\"$\\tau_{12}$\", r\"$\\tau_{13}$\", r\"$\\tau_{14}$\",\n",
    "            r\"$\\tau_{15}$\",r\"$\\tau_{16}$\",r\"$\\tau_{17}$\", r\"$\\tau_{18}$\", r\"$\\tau_{19}$\",r\"$\\tau_{20}$\", r\"$\\tau_{21}$\", r\"$\\tau_{12}$\", r\"$\\tau_{13}$\", r\"$\\tau_{14}$\",\n",
    "            r\"$\\tau_{25}$\",r\"$\\tau_{26}$\",r\"$\\tau_{27}$\", r\"$\\tau_{28}$\", r\"$\\tau_{29}$\"]\n",
    "fig = plt.figure(figsize=(10,10))\n",
    "plt.title('PLGA-PEG in Water', fontsize=18)\n",
    "plt.bar(x_pos_n16+(2*width), tz_n16plgapeg, width, ecolor='black',capsize=5, color='maroon', label='N = 16', align='center')\n",
    "plt.bar(x_pos_n20+(width), tz_n20plgapeg, width, ecolor='black',capsize=5, color='orangered', label='N = 20', align='center')\n",
    "plt.bar(x_pos_n30, tz_n30plgapeg, width, ecolor='black',capsize=5, color='darkolivegreen', label='N = 30', align='center')\n",
    "plt.xticks(x_pos_n30, labels=aa_types_n30, fontsize=12)\n",
    "plt.legend(fontsize=12 ,frameon=False)\n",
    "plt.autoscale(enable=True, axis='both')\n",
    "plt.ylabel(r'Relaxation times [ns]', fontsize=15)"
   ]
  },
  {
   "cell_type": "code",
   "execution_count": null,
   "metadata": {},
   "outputs": [],
   "source": [
    "x_pos = np.arange(29)\n",
    "aa_eigen_n30 = [r\"$a_{1}$\", r\"$a_{2}$\", r\"$a_{3}$\", r\"$a_{4}$\", r\"$a_{5}$\",r\"$a_{6}$\",r\"$a_{7}$\",r\"$a_{8}$\",\n",
    "           r\"$a_{9}$\",r\"$a_{10}$\", r\"$a_{11}$\", r\"$a_{12}$\", r\"$a_{13}$\", r\"$a_{14}$\",r\"$a_{15}$\",r\"$a_{16}$\",r\"$a_{17}$\",\n",
    "           r\"$a_{18}$\",r\"$a_{19}$\",r\"$a_{20}$\", r\"$a_{21}$\", r\"$a_{22}$\", r\"$a_{23}$\", r\"$a_{24}$\",r\"$a_{25}$\",r\"$a_{26}$\",\n",
    "            r\"$a_{27}$\",r\"$a_{28}$\",r\"$a_{29}$\"]\n",
    "fig = plt.figure(figsize=(10,10))\n",
    "plt.title('PLGA-PEG in Water N = 30', fontsize=18)\n",
    "plt.bar(x_pos_n30, rouse_n30plgapeg, width,ecolor='black',capsize=5, color='c', label='Rouse')\n",
    "plt.bar(x_pos_n30+width, zimm_n30plgapeg, width,ecolor='black',capsize=5, color='m', label='Zimm')\n",
    "plt.xticks(x_pos_n30+width,labels=aa_eigen_n30, fontsize=12)\n",
    "plt.autoscale(enable=True, axis='both')\n",
    "plt.legend(fontsize=12 ,frameon=False)\n",
    "plt.ylabel(r'Rouse and Zimm eigenvalues', fontsize=15)"
   ]
  },
  {
   "cell_type": "code",
   "execution_count": null,
   "metadata": {},
   "outputs": [],
   "source": [
    "plt.figure(figsize=(8,8))\n",
    "plt.rcParams[\"font.family\"] = \"Arial\"\n",
    "plt.scatter(xdata_plgapegn6wat, ydata_plgapegn6wat, color='teal', s=s_n6)\n",
    "plt.scatter(xdata_plgapegn8wat, ydata_plgapegn8wat, color='dodgerblue', s=s_n8)\n",
    "plt.scatter(xdata_plgapegn10wat, ydata_plgapegn10wat, color='darkmagenta', s=s_n10)\n",
    "plt.scatter(xdata_plgapegn16wat, ydata_plgapegn16wat, color='maroon', s=s_n16)\n",
    "plt.scatter(xdata_plgapegn20wat, ydata_plgapegn20wat, color='orangered', s=s_n20)\n",
    "plt.scatter(xdata_plgapegn30wat, ydata_plgapegn30wat, color='darkolivegreen', s=s_n30)\n",
    "plt.plot(xdata_plgapegn6wat, twat_n6plgapeg, color='teal')\n",
    "plt.plot(xdata_plgapegn8wat, twat_n8plgapeg, color='dodgerblue')\n",
    "plt.plot(xdata_plgapegn10wat, twat_n10plgapeg, color='darkmagenta')\n",
    "plt.plot(xdata_plgapegn16wat, twat_n16plgapeg, color='maroon')\n",
    "plt.plot(xdata_plgapegn20wat, twat_n20plgapeg, color='orangered')\n",
    "plt.plot(xdata_plgapegn30wat, twat_n30plgapeg, color='darkolivegreen')\n",
    "plt.title(r'Positional bead autocorrelation PLGA-PEG in water', fontsize=18, y=1.03)\n",
    "plt.xlabel(r'Time lag [ns]', fontsize=18)\n",
    "plt.ylabel('C(t)', fontsize=18)\n",
    "#plt.legend(fontsize=14, frameon=False)\n",
    "plt.xticks(fontsize=18)\n",
    "plt.yticks(fontsize=18)\n",
    "#plt.yscale('symlog', linthreshy=0.5)\n",
    "plt.xscale('symlog')\n",
    "plt.grid(b=True)\n",
    "plt.xlim(0,150)\n",
    "plt.ylim(-1,1)\n",
    "plt.tick_params(labelsize=18, direction='in', which='both', width=1, length=10)"
   ]
  },
  {
   "cell_type": "code",
   "execution_count": null,
   "metadata": {},
   "outputs": [],
   "source": [
    "rppwat_msen30 = np.array([ydata_plgapegn30wat - np.array(twat_n30plgapeg)])\n",
    "#rpwat_msen6"
   ]
  },
  {
   "cell_type": "code",
   "execution_count": null,
   "metadata": {},
   "outputs": [],
   "source": [
    "plt.figure(figsize=(7,7))\n",
    "plt.rcParams[\"font.family\"] = \"Arial\"\n",
    "plt.scatter(xdata_plgapegn6wat, rppwat_msen6, color='teal', s=s_n6)\n",
    "plt.scatter(xdata_plgapegn8wat, rppwat_msen8, color='dodgerblue', s=s_n8)\n",
    "plt.scatter(xdata_plgapegn10wat, rppwat_msen10, color='darkmagenta', s=s_n10)\n",
    "plt.scatter(xdata_plgapegn16wat, rppwat_msen16, color='maroon', s=s_n16)\n",
    "plt.scatter(xdata_plgapegn20wat, rppwat_msen20, color='orangered', s=s_n20)\n",
    "plt.scatter(xdata_plgapegn30wat, rppwat_msen30, color='darkolivegreen', s=s_n30)\n",
    "plt.title(r'Relaxation time Fitting Residuals PLGA-PEG in water', fontsize=18, y=1.01)\n",
    "plt.xlabel(r'Time lag [ns]', fontsize=18)\n",
    "plt.ylabel('Residuals', fontsize=18)\n",
    "plt.xticks(fontsize=14)\n",
    "plt.yticks(fontsize=14)\n",
    "plt.xlim([0,200])\n",
    "plt.ylim([-0.7,1])\n",
    "plt.tick_params(labelsize=15)"
   ]
  },
  {
   "cell_type": "markdown",
   "metadata": {},
   "source": [
    "#### Relaxation Times Alpha Exponent"
   ]
  },
  {
   "cell_type": "code",
   "execution_count": null,
   "metadata": {},
   "outputs": [],
   "source": [
    "out_ppn6wat.params"
   ]
  },
  {
   "cell_type": "code",
   "execution_count": null,
   "metadata": {},
   "outputs": [],
   "source": [
    "out_ppn8wat.params"
   ]
  },
  {
   "cell_type": "code",
   "execution_count": null,
   "metadata": {},
   "outputs": [],
   "source": [
    "out_ppn10wat.params"
   ]
  },
  {
   "cell_type": "code",
   "execution_count": null,
   "metadata": {},
   "outputs": [],
   "source": [
    "out_ppn16wat.params"
   ]
  },
  {
   "cell_type": "code",
   "execution_count": null,
   "metadata": {},
   "outputs": [],
   "source": [
    "out_ppn20wat.params"
   ]
  },
  {
   "cell_type": "code",
   "execution_count": null,
   "metadata": {},
   "outputs": [],
   "source": [
    "out_ppn30wat.params"
   ]
  },
  {
   "cell_type": "code",
   "execution_count": null,
   "metadata": {},
   "outputs": [],
   "source": [
    "zimm_t1_plgapegwat = np.zeros(shape=(5,6))\n",
    "zimm_t1_plgapegwat[3] = np.array([6,8,10,16,20,30])\n",
    "zimm_t1_plgapegwat[0] = np.array([0.25745834, 0.39577315, 0.49318925, 0.88882196, 1.13179195, 1.80568118])\n",
    "zimm_t1_plgapegwat[1] = np.array([0.00128257, 0.00187107, 0.00336617, 0.00497893, 0.00679416, 0.00966734])\n",
    "zimm_t1_plgapegwat"
   ]
  },
  {
   "cell_type": "code",
   "execution_count": null,
   "metadata": {},
   "outputs": [],
   "source": [
    "np.log10(zimm_t1_plgapegwat[0])"
   ]
  },
  {
   "cell_type": "code",
   "execution_count": null,
   "metadata": {},
   "outputs": [],
   "source": [
    "np.log10(zimm_t1_plgapegwat[3])"
   ]
  },
  {
   "cell_type": "code",
   "execution_count": null,
   "metadata": {},
   "outputs": [],
   "source": [
    "zimm_t1_plgapegwat[1]"
   ]
  },
  {
   "cell_type": "code",
   "execution_count": null,
   "metadata": {},
   "outputs": [],
   "source": [
    "#Error Propagation: https://terpconnect.umd.edu/~toh/models/ErrorPropagation.pdf\n",
    "t1plgapegwat_logerr = np.zeros(shape=(6))\n",
    "for i in range(6):\n",
    "    t1plgapegwat_logerr[i] = 0.434*((zimm_t1_plgapegwat[1][i])/(zimm_t1_plgapegwat[0][i]))\n",
    "    \n",
    "t1plgapegwat_logerr"
   ]
  },
  {
   "cell_type": "code",
   "execution_count": null,
   "metadata": {},
   "outputs": [],
   "source": [
    "zimm_t1_plgapegwat[2] = t1plgapegwat_logerr"
   ]
  },
  {
   "cell_type": "code",
   "execution_count": null,
   "metadata": {},
   "outputs": [],
   "source": [
    "plt.figure(figsize=(7,7))\n",
    "plt.errorbar(np.log10(zimm_t1_plgapegwat[3]), np.log10(zimm_t1_plgapegwat[0]), yerr=zimm_t1_plgapegwat[2], color='#0371EC', linestyle=\"None\",marker='o',\n",
    "     capsize=5, capthick=1, ecolor='black')\n",
    "#plt.plot(np.log10(n_plgapeg), gg_wat, color='#A58262')"
   ]
  },
  {
   "cell_type": "code",
   "execution_count": null,
   "metadata": {},
   "outputs": [],
   "source": [
    "# From fitting all points, I get best fit \n",
    "from sklearn.linear_model import LinearRegression\n",
    "model_alplgapegwat = LinearRegression(fit_intercept=True)\n",
    "model_alplgapegwat.fit(np.log10(zimm_t1_plgapegwat[3]).reshape(-1,1), np.log10(zimm_t1_plgapegwat[0]))\n",
    "# Slope here is in nanometers\n",
    "print(\"Model slope:    \", model_alplgapegwat.coef_[0])\n",
    "print(\"Model intercept:\", model_alplgapegwat.intercept_)"
   ]
  },
  {
   "cell_type": "code",
   "execution_count": null,
   "metadata": {},
   "outputs": [],
   "source": [
    "# https://towardsdatascience.com/how-to-perform-linear-regression-with-confidence-5ed8fc0bb9fe\n",
    "pair_regression(np.log10(zimm_t1_plgapegwat[3]),np.log10(zimm_t1_plgapegwat[0]))"
   ]
  },
  {
   "cell_type": "code",
   "execution_count": null,
   "metadata": {},
   "outputs": [],
   "source": [
    "ggal_plgapegwat = model_alplgapegwat.predict(np.log10(zimm_t1_plgapegwat[3]).reshape(-1,1))\n",
    "ggal_plgapegwat"
   ]
  },
  {
   "cell_type": "code",
   "execution_count": null,
   "metadata": {},
   "outputs": [],
   "source": [
    "np.log10(zimm_t1_plgapegwat[0])"
   ]
  },
  {
   "cell_type": "code",
   "execution_count": null,
   "metadata": {},
   "outputs": [],
   "source": [
    "# Residuals between the true y data and model y data \n",
    "resid_alppwat = np.log10(zimm_t1_plgapegwat[0]) - ggal_plgapegwat\n",
    "resid_alppwat"
   ]
  },
  {
   "cell_type": "code",
   "execution_count": null,
   "metadata": {},
   "outputs": [],
   "source": [
    "# How to calculate mean squared error, N - 2 is dof \n",
    "mse_alppwat = np.sum(resid_alppwat**2)/(len(resid_alppwat) - 2)\n",
    "mse_alppwat"
   ]
  },
  {
   "cell_type": "code",
   "execution_count": null,
   "metadata": {},
   "outputs": [],
   "source": [
    "# Normalized root mean squared error\n",
    "np.sqrt(mse_alppwat)/(np.max(np.log10(zimm_t1_plgapegwat[0])) - np.min(np.log10(zimm_t1_plgapegwat[0])))"
   ]
  },
  {
   "cell_type": "code",
   "execution_count": null,
   "metadata": {},
   "outputs": [],
   "source": [
    "print(\"R2 score:\", sklearn.metrics.r2_score(np.log10(zimm_t1_plgapegwat[0]), ggal_plgapegwat))"
   ]
  },
  {
   "cell_type": "code",
   "execution_count": null,
   "metadata": {},
   "outputs": [],
   "source": [
    "# https://towardsdatascience.com/how-to-perform-linear-regression-with-confidence-5ed8fc0bb9fe\n",
    "getPairStats(np.log10(zimm_t1_plgapegwat[3]),np.log10(zimm_t1_plgapegwat[0]))"
   ]
  },
  {
   "cell_type": "code",
   "execution_count": null,
   "metadata": {},
   "outputs": [],
   "source": [
    "# How to calculate Sum((Xi - avg(X))^2): X values are the bond length values \n",
    "nt_ttplgapegwat = np.log10(zimm_t1_plgapegwat[3]) - np.mean(np.log10(zimm_t1_plgapegwat[3]))\n",
    "nhui_plgapegwat = nt_ttplgapegwat**2\n",
    "np.sum(nhui_plgapegwat)"
   ]
  },
  {
   "cell_type": "code",
   "execution_count": null,
   "metadata": {},
   "outputs": [],
   "source": [
    "# How to calculate Sxy\n",
    "ata_tr = np.sum((np.log10(zimm_t1_plgapegwat[0]) - np.mean(np.log10(zimm_t1_plgapegwat[0])))*(nt_ttplgapegwat))\n",
    "ata_tr"
   ]
  },
  {
   "cell_type": "code",
   "execution_count": null,
   "metadata": {},
   "outputs": [],
   "source": [
    "# Test statistic, t0\n",
    "slp_esttr = ata_tr/np.sum(nhui_plgapegwat)\n",
    "slp_esttr/np.sqrt(mse_alppwat/(np.sum(nhui_plgapegwat)))"
   ]
  },
  {
   "cell_type": "code",
   "execution_count": null,
   "metadata": {},
   "outputs": [],
   "source": [
    "# t-value with 95 % confidence intervals (alpha/2, n-2)\n",
    "# Value of test statistic is greater than threshold, reject H0\n",
    "n = len(resid_alppwat) \n",
    "alpha = 0.05\n",
    "scipy.stats.t.ppf(1-alpha/2, n - 2)"
   ]
  },
  {
   "cell_type": "code",
   "execution_count": null,
   "metadata": {},
   "outputs": [],
   "source": [
    "# How to calculate 95% confidence interval for the slope \n",
    "flc_trppwat = scipy.stats.t.ppf(1-alpha/2, n - 2)*np.sqrt(mse_alppwat/np.sum(nhui_plgapegwat))\n",
    "flc_trppwat"
   ]
  },
  {
   "cell_type": "code",
   "execution_count": null,
   "metadata": {},
   "outputs": [],
   "source": [
    "# standard error of the slope\n",
    "np.sqrt(mse_alppwat/np.sum(nhui_plgapegwat))"
   ]
  },
  {
   "cell_type": "code",
   "execution_count": null,
   "metadata": {},
   "outputs": [],
   "source": [
    "# https://towardsdatascience.com/how-to-perform-linear-regression-with-confidence-5ed8fc0bb9fe\n",
    "simple_regression_conf(np.log10(zimm_t1_plgapegwat[3]),np.log10(zimm_t1_plgapegwat[0]), alpha=0.05)"
   ]
  },
  {
   "cell_type": "code",
   "execution_count": null,
   "metadata": {},
   "outputs": [],
   "source": [
    "zimm_t1_plgapegwat[4] = ggal_plgapegwat\n",
    "zimm_t1_plgapegwat"
   ]
  },
  {
   "cell_type": "code",
   "execution_count": null,
   "metadata": {},
   "outputs": [],
   "source": [
    "np.save('PLGAPEGwater_relax_times.npy', zimm_t1_plgapegwat)"
   ]
  },
  {
   "cell_type": "code",
   "execution_count": null,
   "metadata": {},
   "outputs": [],
   "source": [
    "plt.figure(figsize=(7,7))\n",
    "plt.errorbar(np.log10(zimm_t1_plgapegwat[3]), np.log10(zimm_t1_plgapegwat[0]), yerr=zimm_t1_plgapegwat[2], color='#0371EC', linestyle=\"None\",marker='o',\n",
    "     capsize=5, capthick=1, ecolor='black')\n",
    "plt.plot(np.log10(zimm_t1_plgapegwat[3]), zimm_t1_plgapegwat[4], color='#0371EC')\n",
    "plt.title(r'Relaxation Times Scaling Exponent, PLGA-PEG in water', fontsize=15)\n",
    "plt.xlabel(r'Log($N_{PLGA-PEG}$)', fontsize=15)\n",
    "plt.ylabel(r'Log($\\tau_{1}$)', fontsize=15)\n",
    "plt.tick_params(labelsize=14)\n",
    "plt.text(0.85, 0.1, r'$\\alpha_{water}$ = 1.20 ± 0.06', fontsize=15, color='#0371EC')\n",
    "plt.text(0.85, 0.05, r'$R^{2}$ = 0.998, NRMSE = 0.017', fontsize=15, color='#0371EC')"
   ]
  },
  {
   "cell_type": "markdown",
   "metadata": {},
   "source": [
    "#### Radius of Gyration vs. time N = 30 PLGA-PEG in water"
   ]
  },
  {
   "cell_type": "code",
   "execution_count": null,
   "metadata": {},
   "outputs": [],
   "source": [
    "# Key variables \n",
    "n30_mon = 30\n",
    "start = 0\n",
    "end = 36001"
   ]
  },
  {
   "cell_type": "code",
   "execution_count": null,
   "metadata": {},
   "outputs": [],
   "source": [
    "n30plgapeg_rgens_wat, cor_n30plgapeg_wat, n30plgapeg_cos_wat, rgwat_n30plgapeg = get_rg_pers_poly(plgapeg_n30wat, n30_plgapeg_wat,\n",
    "                                                                                                  start,end)"
   ]
  },
  {
   "cell_type": "code",
   "execution_count": null,
   "metadata": {},
   "outputs": [],
   "source": [
    "n30plgapeg_rgens_wat[0].shape"
   ]
  },
  {
   "cell_type": "code",
   "execution_count": null,
   "metadata": {},
   "outputs": [],
   "source": [
    "rgwat_n30plgapeg"
   ]
  },
  {
   "cell_type": "code",
   "execution_count": null,
   "metadata": {},
   "outputs": [],
   "source": [
    "n30plgapeg_rgens_wat.shape"
   ]
  },
  {
   "cell_type": "code",
   "execution_count": null,
   "metadata": {},
   "outputs": [],
   "source": [
    "trj_len = np.arange(36001)\n",
    "plt.figure(figsize=(7,7))\n",
    "plt.title(r'PLGA-PEG Radius of Gyration', fontsize=18, y=1.01)\n",
    "plt.xlabel(r'Time [ns]', fontsize=15)\n",
    "plt.ylabel(r'$R_{g}$ [nm]', fontsize=15)\n",
    "#plt.plot(trj_len/100, n6plgapeg_rgens_wat[0]/10,linewidth=2, color='teal')\n",
    "#plt.plot(trj_len/100, n8plgapeg_rgens_wat[0]/10,linewidth=2, color='dodgerblue')\n",
    "#plt.plot(trj_len/100, n10plgapeg_rgens_wat[0]/10,linewidth=2, color='darkmagenta')\n",
    "plt.plot(trj_len/100, n16plgapeg_rgens_wat[0]/10,linewidth=2, color='maroon')\n",
    "plt.plot(trj_len/100, n20plgapeg_rgens_wat[0]/10,linewidth=2, color='orangered')\n",
    "plt.plot(trj_len/100, n30plgapeg_rgens_wat[0]/10,linewidth=2, color='darkolivegreen')\n",
    "plt.tick_params(labelsize=14)\n",
    "#plt.legend(['N = 6 in Water', 'N = 8 in Water','N = 10 in Water'],frameon=False, fontsize=14, loc='upper left')\n",
    "plt.legend(['N = 16 in Water', 'N = 20 in Water','N = 30 in Water'],frameon=False, fontsize=14, loc='upper left')\n",
    "#plt.legend(['N = 6 in Water', 'N = 8 in Water','N = 10 in Water','N = 16 in water','N = 20 in water','N = 30 in water'],\n",
    "#           frameon=False, fontsize=14, loc='upper left')\n",
    "#plt.text(127, 0.96,r'N = 6 in water', fontsize=18, color='#1F2E69', family='Arial')\n",
    "plt.xlim(0,360)\n",
    "plt.ylim(0.2,4)"
   ]
  },
  {
   "cell_type": "code",
   "execution_count": null,
   "metadata": {},
   "outputs": [],
   "source": [
    "np.save('n6plgapeg_watRg.npy', n6plgapeg_rgens_wat)\n",
    "np.save('n8plgapeg_watRg.npy', n8plgapeg_rgens_wat)\n",
    "np.save('n10plgapeg_watRg.npy', n10plgapeg_rgens_wat)\n",
    "np.save('n16plgapeg_watRg.npy', n16plgapeg_rgens_wat)\n",
    "np.save('n20plgapeg_watRg.npy', n20plgapeg_rgens_wat)\n",
    "np.save('n30plgapeg_watRg.npy', n30plgapeg_rgens_wat)"
   ]
  },
  {
   "cell_type": "code",
   "execution_count": null,
   "metadata": {},
   "outputs": [],
   "source": [
    "n6plgapeg_rgens_wat = np.load('n6plgapeg_watRg.npy',allow_pickle=True)\n",
    "n8plgapeg_rgens_wat = np.load('n8plgapeg_watRg.npy',allow_pickle=True)\n",
    "n10plgapeg_rgens_wat = np.load('n10plgapeg_watRg.npy',allow_pickle=True)\n",
    "n16plgapeg_rgens_wat = np.load('n16plgapeg_watRg.npy',allow_pickle=True)\n",
    "n20plgapeg_rgens_wat = np.load('n20plgapeg_watRg.npy',allow_pickle=True)\n",
    "n30plgapeg_rgens_wat = np.load('n30plgapeg_watRg.npy',allow_pickle=True)"
   ]
  },
  {
   "cell_type": "code",
   "execution_count": null,
   "metadata": {},
   "outputs": [],
   "source": [
    "n30plgapeg_rgens_wat = np.load('n30plgapeg_watRg.npy',allow_pickle=True)\n",
    "plgapegn30wat_rh = np.load('n30plgapeg_watRHYD.npy', allow_pickle=True)"
   ]
  },
  {
   "cell_type": "code",
   "execution_count": null,
   "metadata": {},
   "outputs": [],
   "source": [
    "rg_rh_n30plgapegwat = n30plgapeg_rgens_wat[0]/plgapegn30wat_rh"
   ]
  },
  {
   "cell_type": "code",
   "execution_count": null,
   "metadata": {},
   "outputs": [],
   "source": [
    "trj_len = np.arange(rg_rh_n30plgapegwat.shape[0])"
   ]
  },
  {
   "cell_type": "code",
   "execution_count": null,
   "metadata": {},
   "outputs": [],
   "source": [
    "plt.figure(figsize=(7,7))\n",
    "plt.plot(trj_len/100, rg_rh_n30plgapegwat)\n",
    "plt.xlim(0,360)"
   ]
  },
  {
   "cell_type": "code",
   "execution_count": null,
   "metadata": {},
   "outputs": [],
   "source": [
    "rhy_rg_plgapegwat = np.load('PLGAPEGwater_RgRh_Lc.npy', allow_pickle=True)\n",
    "rhy_rg_plgapegwat[0]"
   ]
  },
  {
   "cell_type": "code",
   "execution_count": null,
   "metadata": {},
   "outputs": [],
   "source": [
    "rhy_rg_plgapegwat[0][5]"
   ]
  },
  {
   "cell_type": "code",
   "execution_count": null,
   "metadata": {},
   "outputs": [],
   "source": [
    "rg_rh_n30plgapegwat[999]"
   ]
  },
  {
   "cell_type": "code",
   "execution_count": null,
   "metadata": {},
   "outputs": [],
   "source": [
    "np.where(rg_rh_n30plgapegwat < rhy_rg_plgapegwat[0][5])"
   ]
  },
  {
   "cell_type": "markdown",
   "metadata": {},
   "source": [
    "#### Rg Autocorrelation"
   ]
  },
  {
   "cell_type": "code",
   "execution_count": null,
   "metadata": {},
   "outputs": [],
   "source": [
    "ACn30plgapegwat_Rg, eqvarRg_n30plgapegwat = obs_autocorr_RA(n30plgapeg_rgens_wat[0],t_corr, window_shift,start,end)"
   ]
  },
  {
   "cell_type": "code",
   "execution_count": null,
   "metadata": {},
   "outputs": [],
   "source": [
    "ACn30plgapegwat_Rg"
   ]
  },
  {
   "cell_type": "code",
   "execution_count": null,
   "metadata": {},
   "outputs": [],
   "source": [
    "eqvarRg_n30plgapegwat"
   ]
  },
  {
   "cell_type": "code",
   "execution_count": null,
   "metadata": {},
   "outputs": [],
   "source": [
    "plt.figure(figsize=(7,7))\n",
    "plt.title(r'PLGA-PEG in water autocorrelation', fontsize=18, y=1.01)\n",
    "plt.xlabel(r'Time [ns]', fontsize=15)\n",
    "plt.ylabel(r'$C_{A}(t)$', fontsize=15)\n",
    "plt.plot(ACn6plgapegwat_Rg[1]/100, ACn6plgapegwat_Rg[0],linewidth=2, color='teal')\n",
    "plt.plot(ACn8plgapegwat_Rg[1]/100, ACn8plgapegwat_Rg[0],linewidth=2, color='dodgerblue')\n",
    "plt.plot(ACn10plgapegwat_Rg[1]/100, ACn10plgapegwat_Rg[0],linewidth=2, color='darkmagenta')\n",
    "plt.plot(ACn16plgapegwat_Rg[1]/100, ACn16plgapegwat_Rg[0],linewidth=2, color='maroon')\n",
    "plt.plot(ACn20plgapegwat_Rg[1]/100, ACn20plgapegwat_Rg[0],linewidth=2, color='orangered')\n",
    "plt.plot(ACn30plgapegwat_Rg[1]/100, ACn30plgapegwat_Rg[0],linewidth=2, color='darkolivegreen')\n",
    "plt.tick_params(labelsize=14)\n",
    "plt.legend(['N = 6 Rg','N = 8 Rg','N = 10 Rg','N = 16 Rg','N = 20 Rg','N = 30 Rg'], frameon=False, fontsize=14)\n",
    "#plt.legend(['N = 6 Rg','N = 8 Rg','N = 10 Rg','N = 15 Rg'], frameon=False, fontsize=14)\n",
    "#plt.legend(['N = 20 Rg','N = 30 Rg'], frameon=False, fontsize=14)\n",
    "#plt.yscale('symlog', linthreshy=0.5)\n",
    "#plt.xscale('symlog')\n",
    "plt.xlim(0,20)\n",
    "plt.ylim(-1,1)"
   ]
  },
  {
   "cell_type": "markdown",
   "metadata": {},
   "source": [
    "#### Get average COM distance, arch length values"
   ]
  },
  {
   "cell_type": "code",
   "execution_count": null,
   "metadata": {},
   "outputs": [],
   "source": [
    "cb_n30plga = np.zeros(shape=(36001))\n",
    "cb_n30pplinker = np.zeros(shape=(36001))\n",
    "cb_n30peg = np.zeros(shape=(36001))\n",
    "count = 0\n",
    "for ts in n30_plgapeg_wat.trajectory[0:36001]:\n",
    "    # 1st two PLGA residues\n",
    "    n30m1_plga = n30_plgapeg_wat.select_atoms(\"resid 1\")\n",
    "    n30m2_plga = n30_plgapeg_wat.select_atoms(\"resid 2\")\n",
    "    # PLGA-PEG linker (n_mon/2 to get to bPLG res no.)\n",
    "    n30pl_link = n30_plgapeg_wat.select_atoms(\"resid 15\")\n",
    "    n30peg_link = n30_plgapeg_wat.select_atoms(\"resid 16\")\n",
    "    # last two PEG residues \n",
    "    n30l1_peg = n30_plgapeg_wat.select_atoms(\"resid 29\")\n",
    "    n30l2_peg = n30_plgapeg_wat.select_atoms(\"resid 30\")\n",
    "    \n",
    "    cb_n30plga[count] = mda.analysis.distances.distance_array(n30m1_plga.center_of_mass(), n30m2_plga.center_of_mass(), \n",
    "                                                   box=n30_plgapeg_wat.trajectory.ts.dimensions)\n",
    "    \n",
    "    cb_n30pplinker[count] = mda.analysis.distances.distance_array(n30pl_link.center_of_mass(), n30peg_link.center_of_mass(), \n",
    "                                                   box=n30_plgapeg_wat.trajectory.ts.dimensions)\n",
    "    \n",
    "    cb_n30peg[count] = mda.analysis.distances.distance_array(n30l1_peg.center_of_mass(), n30l2_peg.center_of_mass(), \n",
    "                                                   box=n30_plgapeg_wat.trajectory.ts.dimensions)\n",
    "    \n",
    "    count += 1\n",
    "    \n",
    "\n",
    "    "
   ]
  },
  {
   "cell_type": "code",
   "execution_count": null,
   "metadata": {},
   "outputs": [],
   "source": [
    "COM_n30pp = np.zeros(shape=(3,2))\n",
    "COM_n30pp[0,0] = np.mean(cb_n30plga)\n",
    "COM_n30pp[1,0] = np.mean(cb_n30pplinker)\n",
    "COM_n30pp[2,0] = np.mean(cb_n30peg)\n",
    "COM_n30pp[0,1] = np.std(cb_n30plga)\n",
    "COM_n30pp[1,1] = np.std(cb_n30pplinker)\n",
    "COM_n30pp[2,1] = np.std(cb_n30peg)\n",
    "COM_n30pp"
   ]
  },
  {
   "cell_type": "markdown",
   "metadata": {},
   "source": [
    "#### Correlation values at each arc length for the whole 360 ns trajectory, N = 30 PLGA-PEG/water"
   ]
  },
  {
   "cell_type": "code",
   "execution_count": null,
   "metadata": {},
   "outputs": [],
   "source": [
    "# x values\n",
    "blen_n30pp = np.zeros(shape=29)\n",
    "for i in range(n30_mon-1):\n",
    "    if i < int((n30_mon/2)-1):\n",
    "        # PLGA contour length values\n",
    "        if i == 0:\n",
    "            blen_n30pp[i] = 0\n",
    "        elif i != 0:\n",
    "            blen_n30pp[i] = np.sum(blen_n30pp[i-1]) + COM_n30pp[0,0]    \n",
    "    elif i == int((n30_mon/2)-1):\n",
    "        #PLGA-PEG linker length\n",
    "        blen_n30pp[i] = np.sum(blen_n30pp[i-1]) + COM_n30pp[1,0]\n",
    "    elif i > int((n30_mon/2)-1):\n",
    "    #    # PEG contour length values\n",
    "        blen_n30pp[i] = np.sum(blen_n30pp[i-1]) + COM_n30pp[2,0]\n",
    "        \n",
    "blen_n30pp"
   ]
  },
  {
   "cell_type": "code",
   "execution_count": null,
   "metadata": {},
   "outputs": [],
   "source": [
    "# Error prop. into natural log std deviation\n",
    "mk_n30ppwat = cor_n30plgapeg_wat[1]/cor_n30plgapeg_wat[0]\n",
    "mk_n30ppwat"
   ]
  },
  {
   "cell_type": "code",
   "execution_count": null,
   "metadata": {},
   "outputs": [],
   "source": [
    "plt.figure(figsize=(7,7))\n",
    "plt.errorbar(blen_n30pp, np.log(cor_n30plgapeg_wat[0]), yerr=mk_n30ppwat, color='teal', linestyle=\"None\",marker='o',\n",
    "     capsize=5, capthick=1, ecolor='black')"
   ]
  },
  {
   "cell_type": "code",
   "execution_count": null,
   "metadata": {},
   "outputs": [],
   "source": [
    "# All the points give the best fits for N = 6 peg in water\n",
    "n30_blksplgapeg_wat , n30plgapeg_lpwat = bavg_pers_cnt(5, plgapeg_n30wat, n30_plgapeg_wat, blen_n30pp, 5, 0 , 36001)"
   ]
  },
  {
   "cell_type": "code",
   "execution_count": null,
   "metadata": {},
   "outputs": [],
   "source": [
    "n30_blksplgapeg_wat"
   ]
  },
  {
   "cell_type": "code",
   "execution_count": null,
   "metadata": {},
   "outputs": [],
   "source": [
    "n30plgapeg_lpwat"
   ]
  },
  {
   "cell_type": "code",
   "execution_count": null,
   "metadata": {},
   "outputs": [],
   "source": [
    "n30plgapeg_lpwat[2]"
   ]
  },
  {
   "cell_type": "code",
   "execution_count": null,
   "metadata": {},
   "outputs": [],
   "source": [
    "np.mean(n30plgapeg_lpwat[3])"
   ]
  },
  {
   "cell_type": "markdown",
   "metadata": {},
   "source": [
    "#### line fitted to cosine theta values using mean slope"
   ]
  },
  {
   "cell_type": "code",
   "execution_count": null,
   "metadata": {},
   "outputs": [],
   "source": [
    "blen_n30pp"
   ]
  },
  {
   "cell_type": "code",
   "execution_count": null,
   "metadata": {},
   "outputs": [],
   "source": [
    "gg_n30plgapeg_wat = line_fit(np.mean(n30plgapeg_lpwat[2]),blen_n30pp)"
   ]
  },
  {
   "cell_type": "code",
   "execution_count": null,
   "metadata": {},
   "outputs": [],
   "source": [
    "gg_n20plgapeg_n30wat = line_fit(np.mean(n20plgapeg_lpwat[2]),blen_n30pp)"
   ]
  },
  {
   "cell_type": "code",
   "execution_count": null,
   "metadata": {},
   "outputs": [],
   "source": [
    "gg_n16plgapeg_n30wat = line_fit(np.mean(n16plgapeg_lpwat[2]),blen_n30pp)"
   ]
  },
  {
   "cell_type": "code",
   "execution_count": null,
   "metadata": {},
   "outputs": [],
   "source": [
    "gg_n10plgapeg_n30wat = line_fit(np.mean(n10plgapeg_lpwat[2]),blen_n30pp)"
   ]
  },
  {
   "cell_type": "code",
   "execution_count": null,
   "metadata": {},
   "outputs": [],
   "source": [
    "gg_n8plgapeg_n30wat = line_fit(np.mean(n8plgapeg_lpwat[2]),blen_n30pp)"
   ]
  },
  {
   "cell_type": "code",
   "execution_count": null,
   "metadata": {},
   "outputs": [],
   "source": [
    "gg_n6plgapeg_n30wat = line_fit(np.mean(n6plgapeg_lpwat[2]),blen_n30pp)"
   ]
  },
  {
   "cell_type": "code",
   "execution_count": null,
   "metadata": {},
   "outputs": [],
   "source": [
    "gg_n30plgapeg_wat"
   ]
  },
  {
   "cell_type": "markdown",
   "metadata": {},
   "source": [
    "#### Block averaged Rg, Ree, Rh, mean sq. Ree and mean sq. Rg persistence length, N = 30 PLGA-PEG in water"
   ]
  },
  {
   "cell_type": "code",
   "execution_count": null,
   "metadata": {},
   "outputs": [],
   "source": [
    "blppn30 = []\n",
    "for i in range(n30_mon-1):\n",
    "    if i < int((n30_mon/2)-1):\n",
    "        # PLGA contour length values\n",
    "        blppn30.append(COM_n30pp[0,0])    \n",
    "    elif i == int((n30_mon/2)-1):\n",
    "        #PLGA-PEG linker length\n",
    "        blppn30.append(COM_n30pp[1,0]) \n",
    "    elif i > int((n30_mon/2)-1):\n",
    "    #    # PEG contour length values\n",
    "        blppn30.append(COM_n30pp[2,0]) \n",
    "\n",
    "# Contour Length, N = 6 PLGA-PEG in water\n",
    "lc_ppn30 = np.sum(blppn30)\n",
    "lc_ppn30"
   ]
  },
  {
   "cell_type": "markdown",
   "metadata": {},
   "source": [
    "#### Mean sq. e2e/Mean sq. Rg vs contour length PLGA-PEG in water"
   ]
  },
  {
   "cell_type": "code",
   "execution_count": null,
   "metadata": {},
   "outputs": [],
   "source": [
    "# Ree^2/Rg^2 array at different contour lengths\n",
    "re2e_rgsq_plgapegwat[1,5] = lc_ppn30\n",
    "re2e_rgsq_plgapegwat"
   ]
  },
  {
   "cell_type": "code",
   "execution_count": null,
   "metadata": {},
   "outputs": [],
   "source": [
    "a_ppn30 = np.mean(n30_blksplgapeg_wat['Avg Sq. end to end distance'])"
   ]
  },
  {
   "cell_type": "code",
   "execution_count": null,
   "metadata": {},
   "outputs": [],
   "source": [
    "b_ppn30 = np.mean(n30_blksplgapeg_wat['Avg Sq. radius of gyration'])"
   ]
  },
  {
   "cell_type": "code",
   "execution_count": null,
   "metadata": {},
   "outputs": [],
   "source": [
    "re2e_rgsq_plgapegwat[0,5] = a_ppn30/b_ppn30\n",
    "re2e_rgsq_plgapegwat"
   ]
  },
  {
   "cell_type": "markdown",
   "metadata": {},
   "source": [
    "#### Error propagation: Mean sq. e2e/Mean sq. Rg"
   ]
  },
  {
   "cell_type": "code",
   "execution_count": null,
   "metadata": {},
   "outputs": [],
   "source": [
    "e2esq_plgapegwat = np.array([a_ppn6,a_ppn8, a_ppn10, a_ppn16,a_ppn20, a_ppn30])\n",
    "e2esq_plgapegwat"
   ]
  },
  {
   "cell_type": "code",
   "execution_count": null,
   "metadata": {},
   "outputs": [],
   "source": [
    "rgsq_plgapegwat = np.array([b_ppn6,b_ppn8, b_ppn10, b_ppn16, b_ppn20, b_ppn30])\n",
    "rgsq_plgapegwat"
   ]
  },
  {
   "cell_type": "code",
   "execution_count": null,
   "metadata": {},
   "outputs": [],
   "source": [
    "# Error Propagation: https://terpconnect.umd.edu/~toh/models/ErrorPropagation.pdf\n",
    "stde2e_pdsys = np.array([np.std(n6_blksplgapeg_wat['Avg Sq. end to end distance']),\n",
    "                         np.std(n8_blksplgapeg_wat['Avg Sq. end to end distance']),\n",
    "                        np.std(n10_blksplgapeg_wat['Avg Sq. end to end distance']),\n",
    "                         np.std(n16_blksplgapeg_wat['Avg Sq. end to end distance']),\n",
    "                        np.std(n20_blksplgapeg_wat['Avg Sq. end to end distance']),\n",
    "                        np.std(n30_blksplgapeg_wat['Avg Sq. end to end distance'])])\n",
    "stde2e_pdsys"
   ]
  },
  {
   "cell_type": "code",
   "execution_count": null,
   "metadata": {},
   "outputs": [],
   "source": [
    "stdrgsq_pdsys = np.array([np.std(n6_blksplgapeg_wat['Avg Sq. radius of gyration']),\n",
    "                         np.std(n8_blksplgapeg_wat['Avg Sq. radius of gyration']),\n",
    "                         np.std(n10_blksplgapeg_wat['Avg Sq. radius of gyration']),\n",
    "                          np.std(n16_blksplgapeg_wat['Avg Sq. radius of gyration']),\n",
    "                         np.std(n20_blksplgapeg_wat['Avg Sq. radius of gyration']),\n",
    "                         np.std(n30_blksplgapeg_wat['Avg Sq. radius of gyration'])])\n",
    "stdrgsq_pdsys"
   ]
  },
  {
   "cell_type": "code",
   "execution_count": null,
   "metadata": {},
   "outputs": [],
   "source": [
    "re2e_rgsq_plgapegwat[0]"
   ]
  },
  {
   "cell_type": "code",
   "execution_count": null,
   "metadata": {},
   "outputs": [],
   "source": [
    "x_pdsys = np.zeros(shape=6)\n",
    "for i in range(6):\n",
    "    ad_s = np.sqrt((((stde2e_pdsys[i]/e2esq_plgapegwat[i])**2) + ((stdrgsq_pdsys[i]/rgsq_plgapegwat[i])**2)))\n",
    "    x_pdsys[i] = re2e_rgsq_plgapegwat[0][i]*ad_s\n",
    "    \n",
    "x_pdsys"
   ]
  },
  {
   "cell_type": "code",
   "execution_count": null,
   "metadata": {},
   "outputs": [],
   "source": [
    "re2e_rgsq_plgapegwat"
   ]
  },
  {
   "cell_type": "code",
   "execution_count": null,
   "metadata": {},
   "outputs": [],
   "source": [
    "re2e_rgsq_plgapegwat[2] = x_pdsys\n",
    "re2e_rgsq_plgapegwat"
   ]
  },
  {
   "cell_type": "code",
   "execution_count": null,
   "metadata": {},
   "outputs": [],
   "source": [
    "re2e_rgsq_plgapegwat.shape"
   ]
  },
  {
   "cell_type": "code",
   "execution_count": null,
   "metadata": {},
   "outputs": [],
   "source": [
    "np.save('PLGA-PEGwat_msRee_msRg.npy', re2e_rgsq_plgapegwat)"
   ]
  },
  {
   "cell_type": "code",
   "execution_count": null,
   "metadata": {},
   "outputs": [],
   "source": [
    "plt.figure(figsize=(7,7))\n",
    "plt.errorbar(re2e_rgsq_plgapegwat[1]/10, re2e_rgsq_plgapegwat[0], yerr=re2e_rgsq_plgapegwat[2], color='#0371EC', linestyle=\"-\",marker='v',\n",
    "     capsize=5, capthick=1, ecolor='#0371EC')\n",
    "plt.title('Mean sq. Ree/Mean sq. Rg, PLGA-PEG in water', fontsize=15, y=1.01)\n",
    "plt.xlabel(r'Contour Length, $L_{c}$ [nm]', fontsize=15)\n",
    "plt.ylabel(r'$\\left<R_{ee}^{2}\\right>/\\left<R_{g}^{2}\\right>$', fontsize=15)\n",
    "plt.xticks(fontsize=15)\n",
    "plt.yticks(fontsize=15)\n",
    "plt.xlim(1,15)\n",
    "plt.ylim(2,10)"
   ]
  },
  {
   "cell_type": "markdown",
   "metadata": {},
   "source": [
    "#### Rg/Rh vs contour length PLGA-PEG in water"
   ]
  },
  {
   "cell_type": "code",
   "execution_count": null,
   "metadata": {},
   "outputs": [],
   "source": [
    "# Rg/Rh array at different contour lengths \n",
    "rhy_rg_plgapegwat[1,5] = lc_ppn30\n",
    "rhy_rg_plgapegwat"
   ]
  },
  {
   "cell_type": "code",
   "execution_count": null,
   "metadata": {},
   "outputs": [],
   "source": [
    "aa_ppn30 = np.mean(n30_blksplgapeg_wat['Avg Radius of gyration'])"
   ]
  },
  {
   "cell_type": "code",
   "execution_count": null,
   "metadata": {},
   "outputs": [],
   "source": [
    "bb_ppn30 = np.mean(n30_blksplgapeg_wat['Avg Hydrodynamic radius'])"
   ]
  },
  {
   "cell_type": "code",
   "execution_count": null,
   "metadata": {},
   "outputs": [],
   "source": [
    "rhy_rg_plgapegwat[0,5] = aa_ppn30/bb_ppn30\n",
    "rhy_rg_plgapegwat"
   ]
  },
  {
   "cell_type": "code",
   "execution_count": null,
   "metadata": {},
   "outputs": [],
   "source": [
    "rhy_rg_plgapegwat"
   ]
  },
  {
   "cell_type": "markdown",
   "metadata": {},
   "source": [
    "#### Error Propagation: Rg/Rh vs contour length"
   ]
  },
  {
   "cell_type": "code",
   "execution_count": null,
   "metadata": {},
   "outputs": [],
   "source": [
    "rgsys_plgapegwat = np.array([aa_ppn6,aa_ppn8, aa_ppn10, aa_ppn16,aa_ppn20, aa_ppn30])\n",
    "rgsys_plgapegwat"
   ]
  },
  {
   "cell_type": "code",
   "execution_count": null,
   "metadata": {},
   "outputs": [],
   "source": [
    "rhydsys_plgapegwat = np.array([bb_ppn6,bb_ppn8, bb_ppn10, bb_ppn16, bb_ppn20, bb_ppn30])\n",
    "rhydsys_plgapegwat"
   ]
  },
  {
   "cell_type": "code",
   "execution_count": null,
   "metadata": {},
   "outputs": [],
   "source": [
    "# Error Propagation: https://terpconnect.umd.edu/~toh/models/ErrorPropagation.pdf\n",
    "stdrg_pdsys = np.array([np.std(n6_blksplgapeg_wat['Avg Radius of gyration']),\n",
    "                         np.std(n8_blksplgapeg_wat['Avg Radius of gyration']),\n",
    "                        np.std(n10_blksplgapeg_wat['Avg Radius of gyration']),\n",
    "                        np.std(n16_blksplgapeg_wat['Avg Radius of gyration']),\n",
    "                        np.std(n20_blksplgapeg_wat['Avg Radius of gyration']),\n",
    "                        np.std(n30_blksplgapeg_wat['Avg Radius of gyration'])])\n",
    "stdrg_pdsys"
   ]
  },
  {
   "cell_type": "code",
   "execution_count": null,
   "metadata": {},
   "outputs": [],
   "source": [
    "std_rhydsq_pdsys = np.array([np.std(n6_blksplgapeg_wat['Avg Hydrodynamic radius']),\n",
    "                         np.std(n8_blksplgapeg_wat['Avg Hydrodynamic radius']),\n",
    "                         np.std(n10_blksplgapeg_wat['Avg Hydrodynamic radius']),\n",
    "                          np.std(n16_blksplgapeg_wat['Avg Hydrodynamic radius']),    \n",
    "                         np.std(n20_blksplgapeg_wat['Avg Hydrodynamic radius']),\n",
    "                         np.std(n30_blksplgapeg_wat['Avg Hydrodynamic radius'])])\n",
    "std_rhydsq_pdsys"
   ]
  },
  {
   "cell_type": "code",
   "execution_count": null,
   "metadata": {},
   "outputs": [],
   "source": [
    "xrgrh_pdsys = np.zeros(shape=6)\n",
    "for i in range(6):\n",
    "    adn1_s = np.sqrt((((stdrg_pdsys[i]/rgsys_plgapegwat[i])**2) + ((std_rhydsq_pdsys[i]/rhydsys_plgapegwat[i])**2)))\n",
    "    xrgrh_pdsys[i] = rhy_rg_plgapegwat[0][i]*adn1_s\n",
    "    \n",
    "xrgrh_pdsys"
   ]
  },
  {
   "cell_type": "code",
   "execution_count": null,
   "metadata": {},
   "outputs": [],
   "source": [
    "rhy_rg_plgapegwat"
   ]
  },
  {
   "cell_type": "code",
   "execution_count": null,
   "metadata": {},
   "outputs": [],
   "source": [
    "rhy_rg_plgapegwat[2] = xrgrh_pdsys\n",
    "rhy_rg_plgapegwat"
   ]
  },
  {
   "cell_type": "code",
   "execution_count": null,
   "metadata": {},
   "outputs": [],
   "source": [
    "np.save('PLGAPEGwater_RgRh_Lc.npy', rhy_rg_plgapegwat)"
   ]
  },
  {
   "cell_type": "code",
   "execution_count": null,
   "metadata": {},
   "outputs": [],
   "source": [
    "plt.figure(figsize=(7,7))\n",
    "plt.errorbar(rhy_rg_plgapegwat[1]/10, rhy_rg_plgapegwat[0], yerr=rhy_rg_plgapegwat[2], color='#0371EC', linestyle=\"-\",\n",
    "             marker='^', capsize=5, capthick=1, ecolor='#0371EC')\n",
    "plt.title(r'Rg/Rh PLGA-PEG in water', fontsize=15, y=1.01)\n",
    "plt.xlabel(r'Contour Length, $L_{c}$ [nm]', fontsize=15)\n",
    "plt.ylabel(r'$\\left<R_{g}\\right>/\\left<R_{hyd}\\right>$', fontsize=15)\n",
    "plt.xlim(1,15)\n",
    "plt.xticks(fontsize=15)\n",
    "plt.yticks(fontsize=15)\n",
    "plt.ylim(0.3,0.7)"
   ]
  },
  {
   "cell_type": "markdown",
   "metadata": {},
   "source": [
    "### Kuhn lenght vs monomer length"
   ]
  },
  {
   "cell_type": "code",
   "execution_count": null,
   "metadata": {},
   "outputs": [],
   "source": [
    "REElclk_plgapegwat = np.load('PLGAPEGwater_REElclk.npy', allow_pickle=True)"
   ]
  },
  {
   "cell_type": "code",
   "execution_count": null,
   "metadata": {},
   "outputs": [],
   "source": [
    "REElclk_plgapegwat = np.zeros(shape=(4,6))\n",
    "REElclk_plgapegwat[0] = e2esq_plgapegwat\n",
    "REElclk_plgapegwat[1] = rhy_rg_plgapegwat[1]\n",
    "REElclk_plgapegwat[2] = stde2e_pwat"
   ]
  },
  {
   "cell_type": "code",
   "execution_count": null,
   "metadata": {},
   "outputs": [],
   "source": [
    "plt.figure(figsize=(7,7))\n",
    "plt.errorbar(REElclk_plgapegwat[1], REElclk_plgapegwat[0], color='#0371EC', yerr=REElclk_plgapegwat[2], linestyle=\"None\",marker='o',\n",
    "     capsize=5, capthick=1, ecolor='#0371EC')"
   ]
  },
  {
   "cell_type": "code",
   "execution_count": null,
   "metadata": {},
   "outputs": [],
   "source": [
    "# Linear fitting procedure: https://www2.isye.gatech.edu/~yxie77/isye2028/lecture12.pdf\n",
    "ne2e = REElclk_plgapegwat[1]\n",
    "from sklearn.linear_model import LinearRegression\n",
    "model_e2eppwat = LinearRegression(fit_intercept=True)\n",
    "model_e2eppwat.fit(ne2e.reshape(-1,1), REElclk_plgapegwat[0])\n",
    "# Slope here is in angstroms\n",
    "print(\"Model slope:    \", model_e2eppwat.coef_[0])\n",
    "print(\"Model intercept:\", model_e2eppwat.intercept_)"
   ]
  },
  {
   "cell_type": "code",
   "execution_count": null,
   "metadata": {},
   "outputs": [],
   "source": [
    "# https://towardsdatascience.com/how-to-perform-linear-regression-with-confidence-5ed8fc0bb9fe\n",
    "pair_regression(REElclk_plgapegwat[1],REElclk_plgapegwat[0])"
   ]
  },
  {
   "cell_type": "code",
   "execution_count": null,
   "metadata": {},
   "outputs": [],
   "source": [
    "gge2e_ppwat = model_e2eppwat.predict(ne2e.reshape(-1,1))\n",
    "gge2e_ppwat"
   ]
  },
  {
   "cell_type": "code",
   "execution_count": null,
   "metadata": {},
   "outputs": [],
   "source": [
    "REElclk_plgapegwat[0]"
   ]
  },
  {
   "cell_type": "code",
   "execution_count": null,
   "metadata": {},
   "outputs": [],
   "source": [
    "# Residuals between the true y data and model y data \n",
    "resid_e2eppwat = REElclk_plgapegwat[0] - gge2e_ppwat\n",
    "resid_e2eppwat"
   ]
  },
  {
   "cell_type": "code",
   "execution_count": null,
   "metadata": {},
   "outputs": [],
   "source": [
    "# How to calculate mean squared error, N - 2 is dof \n",
    "mse_e2eppwat = np.sum(resid_e2eppwat**2)/(len(resid_e2eppwat) - 2)\n",
    "mse_e2eppwat"
   ]
  },
  {
   "cell_type": "code",
   "execution_count": null,
   "metadata": {},
   "outputs": [],
   "source": [
    "# Normalized root mean squared error\n",
    "np.sqrt(mse_e2eppwat)/(np.max(REElclk_plgapegwat[0]) - np.min(REElclk_plgapegwat[0]))"
   ]
  },
  {
   "cell_type": "code",
   "execution_count": null,
   "metadata": {},
   "outputs": [],
   "source": [
    "print(\"R2 score:\", sklearn.metrics.r2_score(REElclk_plgapegwat[0].reshape(-1,1), gge2e_ppwat))"
   ]
  },
  {
   "cell_type": "code",
   "execution_count": null,
   "metadata": {},
   "outputs": [],
   "source": [
    "# https://towardsdatascience.com/how-to-perform-linear-regression-with-confidence-5ed8fc0bb9fe\n",
    "getPairStats(REElclk_plgapegwat[1],REElclk_plgapegwat[0])"
   ]
  },
  {
   "cell_type": "code",
   "execution_count": null,
   "metadata": {},
   "outputs": [],
   "source": [
    "# How to calculate Sxx\n",
    "nt_tte2epd = ne2e - np.mean(ne2e)\n",
    "nhui_e2epd = nt_tte2epd**2\n",
    "np.sum(nhui_e2epd)"
   ]
  },
  {
   "cell_type": "code",
   "execution_count": null,
   "metadata": {},
   "outputs": [],
   "source": [
    "# How to calculate Sxy\n",
    "ata = np.sum((REElclk_plgapegwat[0] - np.mean(REElclk_plgapegwat[0]))*(ne2e - np.mean(ne2e)))\n",
    "ata"
   ]
  },
  {
   "cell_type": "code",
   "execution_count": null,
   "metadata": {},
   "outputs": [],
   "source": [
    "# Test statistic, t0\n",
    "(ata/np.sum(nhui_e2epd))/np.sqrt(mse_e2eppwat/(np.sum(nhui_e2epd)))"
   ]
  },
  {
   "cell_type": "code",
   "execution_count": null,
   "metadata": {},
   "outputs": [],
   "source": [
    "# t-value with 95 % confidence intervals (alpha, n-2)\n",
    "# Value of test statistic is greater than threshold, reject H0\n",
    "n = len(resid_e2eppwat) \n",
    "alpha = 0.05\n",
    "scipy.stats.t.ppf(1-alpha/2, n - 2)\n",
    "#scipy.stats.t.ppf(0.95, len(resid_e2epgwat) - 1)"
   ]
  },
  {
   "cell_type": "code",
   "execution_count": null,
   "metadata": {},
   "outputs": [],
   "source": [
    "# How to calculate 95% confidence interval for the slope \n",
    "flc_e2epd = scipy.stats.t.ppf(1-alpha/2, n - 2)*np.sqrt(mse_e2eppwat/(np.sum(nhui_e2epd)))\n",
    "flc_e2epd"
   ]
  },
  {
   "cell_type": "code",
   "execution_count": null,
   "metadata": {},
   "outputs": [],
   "source": [
    "# standard error of the slope\n",
    "np.sqrt(mse_e2eppwat/np.sum(nhui_e2epd))"
   ]
  },
  {
   "cell_type": "code",
   "execution_count": null,
   "metadata": {},
   "outputs": [],
   "source": [
    "# https://towardsdatascience.com/how-to-perform-linear-regression-with-confidence-5ed8fc0bb9fe\n",
    "simple_regression_conf(REElclk_plgapegwat[1],REElclk_plgapegwat[0], alpha=0.05)"
   ]
  },
  {
   "cell_type": "code",
   "execution_count": null,
   "metadata": {},
   "outputs": [],
   "source": [
    "REElclk_plgapegwat[3] = gge2e_ppwat\n",
    "REElclk_plgapegwat"
   ]
  },
  {
   "cell_type": "code",
   "execution_count": null,
   "metadata": {},
   "outputs": [],
   "source": [
    "np.save('PLGAPEGwater_REElclk.npy', REElclk_plgapegwat)"
   ]
  },
  {
   "cell_type": "code",
   "execution_count": null,
   "metadata": {},
   "outputs": [],
   "source": [
    "plt.figure(figsize=(7,7))\n",
    "plt.errorbar(REElclk_plgapegwat[1], REElclk_plgapegwat[0], color='#0371EC', yerr=REElclk_plgapegwat[2], linestyle=\"None\",marker='v',\n",
    "     capsize=5, capthick=1, ecolor='#0371EC')\n",
    "plt.plot(REElclk_plgapegwat[1], REElclk_plgapegwat[3], color='#0371EC')\n",
    "plt.title(r'Kuhn Length, PLGA-PEG in water', fontsize=15)\n",
    "plt.ylabel(r'$\\left<R_{ee}^{2}\\right>$', fontsize=15)\n",
    "plt.xlabel(r'Contour Length, $L_{c}$ [$\\AA$]', fontsize=15)\n",
    "plt.tick_params(labelsize=14)\n",
    "plt.text(30, 600, r'$l^{water}_{k}$ = 3.13 $\\AA$ ± 0.20 $\\AA$', fontsize=15, color='#0371EC')\n",
    "plt.text(30, 560, r'$R^{2}$ = 0.983, NRMSE = 0.054', fontsize=15, color='#0371EC')\n",
    "plt.xlim(10,150)\n",
    "plt.ylim(0,700)"
   ]
  },
  {
   "cell_type": "markdown",
   "metadata": {},
   "source": [
    "#### Lp alternate method"
   ]
  },
  {
   "cell_type": "code",
   "execution_count": null,
   "metadata": {},
   "outputs": [],
   "source": [
    "REElclk_plgapegwat"
   ]
  },
  {
   "cell_type": "code",
   "execution_count": null,
   "metadata": {},
   "outputs": [],
   "source": [
    "plt.figure(figsize=(7,7))\n",
    "plt.errorbar(REElclk_plgapegwat[1], REElclk_plgapegwat[0], color='#0371EC', yerr=REElclk_plgapegwat[2], linestyle=\"None\",marker='v',\n",
    "     capsize=5, capthick=1, ecolor='#0371EC')\n",
    "#plt.plot(REElclk_plgapegwat[1]/10, REElclk_plgapegwat[3], color='#0371EC')\n",
    "plt.title(r'Kuhn Length, PLGA-PEG in water', fontsize=15)\n",
    "plt.ylabel(r'$\\left<R_{ee}^{2}\\right>$', fontsize=15)\n",
    "plt.xlabel(r'Contour Length, $L_{c}$ [A]', fontsize=15)\n",
    "plt.tick_params(labelsize=14)\n",
    "plt.xlim(10,150)\n",
    "plt.ylim(0,700)"
   ]
  },
  {
   "cell_type": "code",
   "execution_count": null,
   "metadata": {},
   "outputs": [],
   "source": [
    "REElclk_plgapegwat[2]"
   ]
  },
  {
   "cell_type": "code",
   "execution_count": null,
   "metadata": {},
   "outputs": [],
   "source": [
    "REElclk_plgapegwat[1]"
   ]
  },
  {
   "cell_type": "code",
   "execution_count": null,
   "metadata": {},
   "outputs": [],
   "source": [
    "REElclk_plgapegwat[0]"
   ]
  },
  {
   "cell_type": "code",
   "execution_count": null,
   "metadata": {},
   "outputs": [],
   "source": [
    "def sqree_lpfitting(lc, lp):\n",
    "    \n",
    "    fir_p = 2*lp*lc\n",
    "    \n",
    "    sec_p = 1 - ((lp/lc)*(1 - np.exp(-lc/lp)))\n",
    "    \n",
    "    return fir_p*sec_p\n",
    "    "
   ]
  },
  {
   "cell_type": "code",
   "execution_count": null,
   "metadata": {},
   "outputs": [],
   "source": [
    "sqree_lpfitting(16.2, 3.8)"
   ]
  },
  {
   "cell_type": "code",
   "execution_count": null,
   "metadata": {},
   "outputs": [],
   "source": [
    "def perslen_fitplgapegwat(varbs, xlc, yree):\n",
    "    fir_varb = varbs['lp']\n",
    "    test_yree = []\n",
    "    \n",
    "    for i in range(len(xlc)):\n",
    "        model_yree = sqree_lpfitting(xlc[i],fir_varb)\n",
    "        test_yree.append(yree[i]- model_yree)\n",
    "        \n",
    "    return np.array(test_yree)"
   ]
  },
  {
   "cell_type": "code",
   "execution_count": null,
   "metadata": {},
   "outputs": [],
   "source": [
    "from lmfit import Minimizer, Parameters, report_fit"
   ]
  },
  {
   "cell_type": "code",
   "execution_count": null,
   "metadata": {},
   "outputs": [],
   "source": [
    "plgapegwat_perfit = Parameters()\n",
    "plgapegwat_perfit.add(name='lp', value=0)"
   ]
  },
  {
   "cell_type": "code",
   "execution_count": null,
   "metadata": {},
   "outputs": [],
   "source": [
    "perlc_plgapegwat = Minimizer(perslen_fitplgapegwat, plgapegwat_perfit, fcn_args=(REElclk_plgapegwat[1], REElclk_plgapegwat[0]))\n",
    "olplc_plgapegwat = perlc_plgapegwat.leastsq()\n",
    "#bfit_n10 = ydata_n10wat + out_n10wat.residual "
   ]
  },
  {
   "cell_type": "code",
   "execution_count": null,
   "metadata": {},
   "outputs": [],
   "source": [
    "report_fit(olplc_plgapegwat.params)"
   ]
  },
  {
   "cell_type": "code",
   "execution_count": null,
   "metadata": {},
   "outputs": [],
   "source": [
    "olplc_plgapegwat.params"
   ]
  },
  {
   "cell_type": "code",
   "execution_count": null,
   "metadata": {},
   "outputs": [],
   "source": [
    "plgapegwatlcree = []\n",
    "xlc = REElclk_plgapegwat[1]\n",
    "for i in range(len(REElclk_plgapegwat[1])):\n",
    "    plgapegwatlcree.append(sqree_lpfitting(xlc[i], 2.04992305))\n",
    "    \n",
    "md_nlppwat = np.array(plgapegwatlcree)"
   ]
  },
  {
   "cell_type": "code",
   "execution_count": null,
   "metadata": {},
   "outputs": [],
   "source": [
    "md_nlppwat"
   ]
  },
  {
   "cell_type": "code",
   "execution_count": null,
   "metadata": {},
   "outputs": [],
   "source": [
    "plt.figure(figsize=(7,7))\n",
    "plt.errorbar(REElclk_plgapegwat[1], REElclk_plgapegwat[0], color='#0371EC', yerr=REElclk_plgapegwat[2], linestyle=\"None\",marker='v',\n",
    "    capsize=5, capthick=1, ecolor='#0371EC')\n",
    "plt.plot(REElclk_plgapegwat[1], md_nlppwat, color='r', ls='--')\n",
    "plt.title(r'$L_{p}$ alt calc, PLGA-PEG in water', fontsize=15)\n",
    "plt.ylabel(r'$\\left<R_{ee}^{2}\\right>$', fontsize=15)\n",
    "plt.xlabel(r'Contour Length, $L_{c}$ [$\\AA$]', fontsize=15)\n",
    "plt.legend([r'Model: $L_{p}$ = 2.05 $\\AA$ ± 0.15 $\\AA$','Sim'], frameon=False, fontsize=14)\n",
    "plt.tick_params(labelsize=14)\n",
    "plt.xlim(10,150)\n",
    "plt.ylim(0,700)"
   ]
  },
  {
   "cell_type": "markdown",
   "metadata": {},
   "source": [
    "#### Error Propagation: Lp/Lc ratio"
   ]
  },
  {
   "cell_type": "code",
   "execution_count": null,
   "metadata": {},
   "outputs": [],
   "source": [
    "# pers length/contour length \n",
    "kuhnlpL_plgapegwat[0,5] = np.mean(n30_blksplgapeg_wat[\"Avg persistence length\"])/lc_ppn30\n",
    "kuhnlpL_plgapegwat"
   ]
  },
  {
   "cell_type": "code",
   "execution_count": null,
   "metadata": {},
   "outputs": [],
   "source": [
    "kuhnlpL_plgapegwat"
   ]
  },
  {
   "cell_type": "code",
   "execution_count": null,
   "metadata": {},
   "outputs": [],
   "source": [
    "lpsys_plgapegwat = np.array([np.mean(n6_blksplgapeg_wat[\"Avg persistence length\"]),\n",
    "                         np.mean(n8_blksplgapeg_wat[\"Avg persistence length\"]),\n",
    "                        np.mean(n10_blksplgapeg_wat[\"Avg persistence length\"]),\n",
    "                        np.mean(n16_blksplgapeg_wat[\"Avg persistence length\"]),  \n",
    "                        np.mean(n20_blksplgapeg_wat[\"Avg persistence length\"]),\n",
    "                        np.mean(n30_blksplgapeg_wat[\"Avg persistence length\"])])\n",
    "lpsys_plgapegwat"
   ]
  },
  {
   "cell_type": "code",
   "execution_count": null,
   "metadata": {},
   "outputs": [],
   "source": [
    "# Error Propagation: https://terpconnect.umd.edu/~toh/models/ErrorPropagation.pdf\n",
    "stdlp_pdsys = np.array([np.std(n6_blksplgapeg_wat[\"Avg persistence length\"]),\n",
    "                         np.std(n8_blksplgapeg_wat[\"Avg persistence length\"]),\n",
    "                        np.std(n10_blksplgapeg_wat[\"Avg persistence length\"]),\n",
    "                        np.std(n16_blksplgapeg_wat[\"Avg persistence length\"]),\n",
    "                        np.std(n20_blksplgapeg_wat[\"Avg persistence length\"]),\n",
    "                        np.std(n30_blksplgapeg_wat[\"Avg persistence length\"])])\n",
    "stdlp_pdsys"
   ]
  },
  {
   "cell_type": "code",
   "execution_count": null,
   "metadata": {},
   "outputs": [],
   "source": [
    "xlp_pdsys = np.zeros(shape=6)\n",
    "for i in range(6):\n",
    "    adn2_s = np.sqrt((((stdlp_pdsys[i]/lpsys_plgapegwat[i])**2)))\n",
    "    xlp_pdsys[i] = kuhnlpL_plgapegwat[0][i]*adn2_s\n",
    "    \n",
    "xlp_pdsys"
   ]
  },
  {
   "cell_type": "code",
   "execution_count": null,
   "metadata": {},
   "outputs": [],
   "source": [
    "kuhnlpL_plgapegwat[2] = xlp_pdsys\n",
    "kuhnlpL_plgapegwat"
   ]
  },
  {
   "cell_type": "code",
   "execution_count": null,
   "metadata": {},
   "outputs": [],
   "source": [
    "np.save('PLGAPEGwater_lk_LpL.npy', kuhnlpL_plgapegwat)"
   ]
  },
  {
   "cell_type": "code",
   "execution_count": null,
   "metadata": {},
   "outputs": [],
   "source": [
    "plt.figure(figsize=(7,7))\n",
    "plt.xlabel(r'$N_{PEG}$', fontsize=15)\n",
    "plt.ylabel(r'$\\left<L_{p}\\right>/L_{c}$', fontsize=15)\n",
    "plt.title('Level of rigidity, PLGA-PEG in water', fontsize=15)\n",
    "plt.errorbar(kuhnlpL_plgapegwat[1], kuhnlpL_plgapegwat[0], yerr=kuhnlpL_plgapegwat[2], marker='^',capsize=5, capthick=1)\n",
    "plt.tick_params(axis='both',labelsize=15, width=1)\n",
    "plt.ylim(0,1.5)\n",
    "plt.xlim(5,35)"
   ]
  },
  {
   "cell_type": "markdown",
   "metadata": {},
   "source": [
    "### Block averaged Radius of gyration and persistence length, N = 30 PLGA-PEG in water"
   ]
  },
  {
   "cell_type": "code",
   "execution_count": null,
   "metadata": {},
   "outputs": [],
   "source": [
    "np.mean(n30_blksplgapeg_wat[\"Avg persistence length\"])"
   ]
  },
  {
   "cell_type": "code",
   "execution_count": null,
   "metadata": {},
   "outputs": [],
   "source": [
    "np.std(n30_blksplgapeg_wat[\"Avg persistence length\"])"
   ]
  },
  {
   "cell_type": "code",
   "execution_count": null,
   "metadata": {},
   "outputs": [],
   "source": [
    "np.mean(n30_blksplgapeg_wat[\"Avg Radius of gyration\"])"
   ]
  },
  {
   "cell_type": "code",
   "execution_count": null,
   "metadata": {},
   "outputs": [],
   "source": [
    "np.std(n30_blksplgapeg_wat[\"Avg Radius of gyration\"])"
   ]
  },
  {
   "cell_type": "code",
   "execution_count": null,
   "metadata": {},
   "outputs": [],
   "source": [
    "plt.figure(figsize=(7,7))\n",
    "plt.errorbar(blen_n6pp, np.log(cor_n6plgapeg_wat[0]), yerr=mk_n6ppwat, color='teal', linestyle=\"None\",marker='o',\n",
    "     capsize=5, capthick=1, ecolor='black')\n",
    "plt.errorbar(blen_n8pp, np.log(cor_n8plgapeg_wat[0]), yerr=mk_n8ppwat, color='dodgerblue', linestyle=\"None\",marker='o',\n",
    "     capsize=5, capthick=1, ecolor='black')\n",
    "plt.errorbar(blen_n10pp, np.log(cor_n10plgapeg_wat[0]), yerr=mk_n10ppwat, color='darkmagenta', linestyle=\"None\",marker='o',\n",
    "     capsize=5, capthick=1, ecolor='black')\n",
    "plt.errorbar(blen_n16pp, np.log(cor_n16plgapeg_wat[0]), yerr=mk_n16ppwat, color='maroon', linestyle=\"None\",marker='o',\n",
    "     capsize=5, capthick=1, ecolor='black')\n",
    "plt.errorbar(blen_n20pp, np.log(cor_n20plgapeg_wat[0]), yerr=mk_n20ppwat, color='orangered', linestyle=\"None\",marker='o',\n",
    "     capsize=5, capthick=1, ecolor='black')\n",
    "plt.errorbar(blen_n30pp, np.log(cor_n30plgapeg_wat[0]), yerr=mk_n30ppwat, color='darkolivegreen', linestyle=\"None\",marker='o',\n",
    "     capsize=5, capthick=1, ecolor='black')\n",
    "plt.plot(blen_n30pp, gg_n6plgapeg_n30wat, color='teal')\n",
    "plt.plot(blen_n30pp, gg_n8plgapeg_n30wat, color='dodgerblue')\n",
    "plt.plot(blen_n30pp, gg_n10plgapeg_n30wat, color='darkmagenta')\n",
    "plt.plot(blen_n30pp, gg_n16plgapeg_n30wat, color='orangered')\n",
    "plt.plot(blen_n30pp, gg_n20plgapeg_n30wat, color='maroon')\n",
    "plt.plot(blen_n30pp, gg_n30plgapeg_wat, color='darkolivegreen')\n",
    "plt.title(r'Ensemble Averaged ln(Cosine $\\theta$) PLGA-PEG in water', fontsize=15, y=1.01)\n",
    "plt.xlabel(r'Bond Length', fontsize=15)\n",
    "plt.ylabel(r'ln$\\left< Cos(\\theta)\\right >$', fontsize=15)\n",
    "plt.ylim(-7,1.5)\n",
    "plt.xlim(0,125)\n",
    "#plt.ylim(-1.9,0)\n",
    "font = font_manager.FontProperties(family='Arial', style='normal', size='14')\n",
    "#plt.legend([r'$N_{PEG}$ = 6: $L_{p}$ = 18.8 $\\AA$ ± 3.60 $\\AA$'], loc=3, frameon=0, fontsize=14, prop=font)\n",
    "plt.tick_params(labelsize=14)\n",
    "plt.text(0.5, -6.9,r'$N_{PLGA-PEG}$ = 6: $L_{p}$ = 19.4 $\\AA$ ± 1.43 $\\AA$', fontsize=15, color='teal')\n",
    "plt.text(0.5, -6.58,r'$N_{PLGA-PEG}$ = 8: $L_{p}$ = 20.8 $\\AA$ ± 1.03 $\\AA$', fontsize=15, color='dodgerblue')\n",
    "plt.text(0.5, -6.23,r'$N_{PLGA-PEG}$ = 10: $L_{p}$ = 21.2 $\\AA$ ± 0.58 $\\AA$', fontsize=15, color='darkmagenta')\n",
    "plt.text(0.5, -5.90,r'$N_{PLGA-PEG}$ = 16: $L_{p}$ = 23.1 $\\AA$ ± 0.86 $\\AA$', fontsize=15, color='orangered')\n",
    "plt.text(0.5, -5.50,r'$N_{PLGA-PEG}$ = 20: $L_{p}$ = 23.2 $\\AA$ ± 0.60 $\\AA$', fontsize=15, color='maroon')\n",
    "plt.text(0.5, -5.10,r'$N_{PLGA-PEG}$ = 30: $L_{p}$ = 25.2 $\\AA$ ±4.68 $\\AA$', fontsize=15, color='darkolivegreen')"
   ]
  },
  {
   "cell_type": "code",
   "execution_count": null,
   "metadata": {},
   "outputs": [],
   "source": [
    "rgplgapeg_olig_wat[r\"$R_{g}$ [Angstrom] N = 30 PEG wat \"] = n30_blksplgapeg_wat[\"Avg Radius of gyration\"]\n",
    "rgplgapeg_olig_wat"
   ]
  },
  {
   "cell_type": "code",
   "execution_count": null,
   "metadata": {},
   "outputs": [],
   "source": [
    "pers_plgapegt_wat[r\"$L_{p}$ [Angstrom] N = 30 PEG wat \"] = n30_blksplgapeg_wat[\"Avg persistence length\"]\n",
    "pers_plgapegt_wat"
   ]
  },
  {
   "cell_type": "code",
   "execution_count": null,
   "metadata": {},
   "outputs": [],
   "source": [
    "rgplgapeg_olig_wat.to_pickle(\"PLGAPEG_wat_Rg.pkl\")"
   ]
  },
  {
   "cell_type": "code",
   "execution_count": null,
   "metadata": {},
   "outputs": [],
   "source": [
    "pers_plgapegt_wat.to_pickle(\"PLGAPEG_wat_Lp.pkl\")"
   ]
  },
  {
   "cell_type": "markdown",
   "metadata": {},
   "source": [
    "### Fluory Exponent, PLGA-PEG in water systems "
   ]
  },
  {
   "cell_type": "code",
   "execution_count": null,
   "metadata": {},
   "outputs": [],
   "source": [
    "n_plgapeg = np.array([6,8,10,16,20,30])\n",
    "rg_nplgapeg_wat = np.array([np.mean(n6_blksplgapeg_wat[\"Avg Radius of gyration\"])\n",
    "                    ,np.mean(n8_blksplgapeg_wat[\"Avg Radius of gyration\"]),np.mean(n10_blksplgapeg_wat[\"Avg Radius of gyration\"])\n",
    "                    ,np.mean(n16_blksplgapeg_wat[\"Avg Radius of gyration\"]),\n",
    "                    np.mean(n20_blksplgapeg_wat[\"Avg Radius of gyration\"]),np.mean(n30_blksplgapeg_wat[\"Avg Radius of gyration\"])])"
   ]
  },
  {
   "cell_type": "code",
   "execution_count": null,
   "metadata": {},
   "outputs": [],
   "source": [
    "rg_nplgapeg_wat"
   ]
  },
  {
   "cell_type": "code",
   "execution_count": null,
   "metadata": {},
   "outputs": [],
   "source": [
    "rgwat_nplgapeg_std = np.array([np.std(np.log10(n6_blksplgapeg_wat[\"Avg Radius of gyration\"]))\n",
    "                    ,np.std(np.log10(n8_blksplgapeg_wat[\"Avg Radius of gyration\"]))\n",
    "                        ,np.std(np.log10(n10_blksplgapeg_wat[\"Avg Radius of gyration\"]))\n",
    "                       ,np.std(np.log10(n16_blksplgapeg_wat[\"Avg Radius of gyration\"]))     \n",
    "                    ,np.std(np.log10(n20_blksplgapeg_wat[\"Avg Radius of gyration\"]))\n",
    "                        ,np.std(np.log10(n30_blksplgapeg_wat[\"Avg Radius of gyration\"]))])\n",
    "rgwat_nplgapeg_std"
   ]
  },
  {
   "cell_type": "code",
   "execution_count": null,
   "metadata": {},
   "outputs": [],
   "source": [
    "n_plgapeg"
   ]
  },
  {
   "cell_type": "code",
   "execution_count": null,
   "metadata": {},
   "outputs": [],
   "source": [
    "np.log10(rg_nplgapeg_wat)"
   ]
  },
  {
   "cell_type": "code",
   "execution_count": null,
   "metadata": {},
   "outputs": [],
   "source": [
    "np.log10(n_plgapeg)"
   ]
  },
  {
   "cell_type": "code",
   "execution_count": null,
   "metadata": {},
   "outputs": [],
   "source": [
    "# From fitting all points, I get best fit \n",
    "from sklearn.linear_model import LinearRegression\n",
    "model_vwat = LinearRegression(fit_intercept=True)\n",
    "model_vwat.fit(np.log10(n_plgapeg).reshape(-1,1), np.log10(rg_nplgapeg_wat))\n",
    "# Slope here is in nanometers\n",
    "print(\"Model slope:    \", model_vwat.coef_[0])\n",
    "print(\"Model intercept:\", model_vwat.intercept_)"
   ]
  },
  {
   "cell_type": "code",
   "execution_count": null,
   "metadata": {},
   "outputs": [],
   "source": [
    "gg_wat = model_vwat.predict(np.log10(n_plgapeg).reshape(-1,1))\n",
    "gg_wat"
   ]
  },
  {
   "cell_type": "code",
   "execution_count": null,
   "metadata": {},
   "outputs": [],
   "source": [
    "print(\"Mean Std Error:\", sklearn.metrics.mean_squared_error(np.log10(rg_nplgapeg_wat), gg_wat))\n",
    "print(\"R2 score:\", sklearn.metrics.r2_score(np.log10(rg_nplgapeg_wat), gg_wat))"
   ]
  },
  {
   "cell_type": "code",
   "execution_count": null,
   "metadata": {},
   "outputs": [],
   "source": [
    "# Residuals between the true y data and model y data \n",
    "resid_vwat = np.log10(rg_nplgapeg_wat) - gg_wat\n",
    "resid_vwat"
   ]
  },
  {
   "cell_type": "code",
   "execution_count": null,
   "metadata": {},
   "outputs": [],
   "source": [
    "# How to calculate Sum((Xi - avg(X))^2): X values are the bond length values \n",
    "nt_ttwat = np.log10(n_plgapeg)\n",
    "nt_ttwat -= np.mean(nt_ttwat)\n",
    "nhui_wat = nt_ttwat**2\n",
    "np.sum(nhui_wat)"
   ]
  },
  {
   "cell_type": "code",
   "execution_count": null,
   "metadata": {},
   "outputs": [],
   "source": [
    "# t-value with 95 % confidence intervals \n",
    "scipy.stats.t.ppf(0.95, 4)"
   ]
  },
  {
   "cell_type": "code",
   "execution_count": null,
   "metadata": {},
   "outputs": [],
   "source": [
    "# How to calculate 95% confidence interval for the slope \n",
    "flc_vwat = scipy.stats.t.ppf(0.95, 4)*np.sqrt((np.sum(resid_vwat**2)/(len(resid_vwat)-1))/(np.sum(nhui_wat)))\n",
    "flc_vwat"
   ]
  },
  {
   "cell_type": "code",
   "execution_count": null,
   "metadata": {},
   "outputs": [],
   "source": [
    "plt.figure(figsize=(7,7))\n",
    "plt.errorbar(np.log10(n_plgapeg), np.log10(rg_nplgapeg_wat), yerr=rgwat_nplgapeg_std, color='#A58262', linestyle=\"None\",marker='o',\n",
    "     capsize=5, capthick=1, ecolor='black')\n",
    "plt.plot(np.log10(n_plgapeg), gg_wat, color='#A58262')\n",
    "plt.title(r'Fluory Exponent', fontsize=15)\n",
    "plt.xlabel(r'Log($N_{PLGA-PEG}$)', fontsize=15)\n",
    "plt.ylabel(r'Log($R_{g}$)', fontsize=15)\n",
    "plt.tick_params(labelsize=14)\n",
    "plt.text(1.1, 0.75, r'$v_{water}$ = 0.40 ± 0.03', fontsize=15, color='#A58262')"
   ]
  },
  {
   "cell_type": "code",
   "execution_count": null,
   "metadata": {},
   "outputs": [],
   "source": []
  }
 ],
 "metadata": {
  "kernelspec": {
   "display_name": "plenv",
   "language": "python",
   "name": "plenv"
  },
  "language_info": {
   "codemirror_mode": {
    "name": "ipython",
    "version": 3
   },
   "file_extension": ".py",
   "mimetype": "text/x-python",
   "name": "python",
   "nbconvert_exporter": "python",
   "pygments_lexer": "ipython3",
   "version": "3.6.12"
  }
 },
 "nbformat": 4,
 "nbformat_minor": 4
}
