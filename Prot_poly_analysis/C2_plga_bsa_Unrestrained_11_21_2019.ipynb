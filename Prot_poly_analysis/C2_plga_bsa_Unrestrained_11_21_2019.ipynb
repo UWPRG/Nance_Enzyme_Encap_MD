{
 "cells": [
  {
   "cell_type": "code",
   "execution_count": 1,
   "metadata": {},
   "outputs": [],
   "source": [
    "#import the necessary modules \n",
    "%matplotlib inline \n",
    "import numpy as np \n",
    "import matplotlib.pyplot as plt \n",
    "import pandas as pd \n",
    "#import scipy\n",
    "import sklearn\n",
    "import itertools as it\n",
    "from itertools import cycle \n",
    "import os.path as op\n",
    "import timeit \n",
    "import json\n",
    "from matplotlib import animation\n",
    "import matplotlib.font_manager as font_manager\n",
    "from collections import namedtuple\n",
    "#from functools import partial\n",
    "#from pathlib import Path"
   ]
  },
  {
   "cell_type": "code",
   "execution_count": 2,
   "metadata": {},
   "outputs": [],
   "source": [
    "# Set plotting style\n",
    "plt.style.use('seaborn-white')\n",
    "\n",
    "from ipywidgets import interact, interactive, fixed, interact_manual\n",
    "import ipywidgets as widgets\n",
    "#import matplotlib.pyplot as plt"
   ]
  },
  {
   "cell_type": "code",
   "execution_count": 3,
   "metadata": {},
   "outputs": [],
   "source": [
    "%matplotlib widget"
   ]
  },
  {
   "cell_type": "code",
   "execution_count": 4,
   "metadata": {},
   "outputs": [
    {
     "data": {
      "text/plain": [
       "4"
      ]
     },
     "execution_count": 4,
     "metadata": {},
     "output_type": "execute_result"
    }
   ],
   "source": [
    "import multiprocessing as m_proc\n",
    "m_proc.cpu_count()"
   ]
  },
  {
   "cell_type": "markdown",
   "metadata": {},
   "source": [
    "### Now use MD Analysis to calculate no. of frames a center PLGA residues and terminal PLGA residue is with 4 Angstroms of BSA (1.2 nm restrained system)"
   ]
  },
  {
   "cell_type": "markdown",
   "metadata": {},
   "source": [
    "Import MDAnalysis"
   ]
  },
  {
   "cell_type": "code",
   "execution_count": 5,
   "metadata": {},
   "outputs": [],
   "source": [
    "from prot_polymer_analysis import get_protresd_list, aa_frmcount, grptwocnt_aa, gtwo_trjcnt \n",
    "from prot_polymer_analysis import frac_cont, bavg_frac_cnt, prot_poly_cntmovie, AA_list_org"
   ]
  },
  {
   "cell_type": "code",
   "execution_count": 6,
   "metadata": {},
   "outputs": [],
   "source": [
    "# Import MDAnalysis\n",
    "import MDAnalysis as mda\n",
    "import MDAnalysis.analysis.distances as maa_dist"
   ]
  },
  {
   "cell_type": "markdown",
   "metadata": {},
   "source": [
    "### First table will be total fractional contacts and oligomer occupancy values for each Rg value "
   ]
  },
  {
   "cell_type": "markdown",
   "metadata": {},
   "source": [
    "#### Distance-based analysis \n",
    "\n",
    "Find residues that have at least one atom within a cutoff $d = 4.0$ Angstrom near water molecules in BSA/water simulation\n",
    "\n",
    "Calculate the number of surface bsa residues from a 1 ns BSA/water simulation"
   ]
  },
  {
   "cell_type": "code",
   "execution_count": 7,
   "metadata": {},
   "outputs": [],
   "source": [
    "#Units of Angstroms \n",
    "dmax = 4.0 "
   ]
  },
  {
   "cell_type": "code",
   "execution_count": 8,
   "metadata": {},
   "outputs": [],
   "source": [
    "def middle_of_band(band_start, band_stop, plot_min=0, plot_max=60):\n",
    "    half_way = (band_stop - band_start) / 2\n",
    "    mid_band = band_start + half_way\n",
    "    plot_fraction = (mid_band - plot_min) / (plot_max - plot_min)\n",
    "\n",
    "    return plot_fraction"
   ]
  },
  {
   "cell_type": "markdown",
   "metadata": {},
   "source": [
    "# 1.2 nm PLGA unrestrained Rg 100 ns trajectory C2"
   ]
  },
  {
   "cell_type": "markdown",
   "metadata": {},
   "source": [
    "Load the rg = 1.2 nm (3 PLGA N = 20 oligomer/BSA system)"
   ]
  },
  {
   "cell_type": "code",
   "execution_count": 9,
   "metadata": {},
   "outputs": [],
   "source": [
    "# load the unrestrained trajectory \n",
    "pn12nm_noresC2 = mda.Universe(\"../C2_bsa_n20plga_inwater/C2_plgaNoRes/1.2nmNoRes_C2/1.2nmC2NR_bplga.pdb\"\n",
    "                      , \"../C2_bsa_n20plga_inwater/C2_plgaNoRes/1.2nmNoRes_C2/nowat_12nmC2NR.xtc\")"
   ]
  },
  {
   "cell_type": "markdown",
   "metadata": {},
   "source": [
    "Check that we are on the first frame"
   ]
  },
  {
   "cell_type": "code",
   "execution_count": 10,
   "metadata": {},
   "outputs": [
    {
     "data": {
      "text/plain": [
       "0"
      ]
     },
     "execution_count": 10,
     "metadata": {},
     "output_type": "execute_result"
    }
   ],
   "source": [
    "pn12nm_noresC2.trajectory.frame"
   ]
  },
  {
   "cell_type": "code",
   "execution_count": 11,
   "metadata": {},
   "outputs": [
    {
     "data": {
      "text/plain": [
       "10001"
      ]
     },
     "execution_count": 11,
     "metadata": {},
     "output_type": "execute_result"
    }
   ],
   "source": [
    "pn20nr_lenC2 = len(pn12nm_noresC2.trajectory)\n",
    "pn20nr_lenC2"
   ]
  },
  {
   "cell_type": "code",
   "execution_count": 12,
   "metadata": {},
   "outputs": [
    {
     "data": {
      "text/plain": [
       "<AtomGroup with 543 atoms>"
      ]
     },
     "execution_count": 12,
     "metadata": {},
     "output_type": "execute_result"
    }
   ],
   "source": [
    "#Select all the PLGA residues, heavy atoms only \n",
    "pn20_allnrC2 = pn12nm_noresC2.select_atoms(\"resname sPLG PLG tPLG and not type H\")\n",
    "pn20_allnrC2"
   ]
  },
  {
   "cell_type": "code",
   "execution_count": 13,
   "metadata": {},
   "outputs": [
    {
     "data": {
      "text/plain": [
       "<AtomGroup with 4653 atoms>"
      ]
     },
     "execution_count": 13,
     "metadata": {},
     "output_type": "execute_result"
    }
   ],
   "source": [
    "# Select BSA residues, heavy atoms only \n",
    "prot_noresC2 = pn12nm_noresC2.select_atoms(\"protein and not type H\")\n",
    "prot_noresC2"
   ]
  },
  {
   "cell_type": "markdown",
   "metadata": {},
   "source": [
    "### Contact Analysis"
   ]
  },
  {
   "cell_type": "code",
   "execution_count": 14,
   "metadata": {},
   "outputs": [
    {
     "data": {
      "text/plain": [
       "941.2504487065598"
      ]
     },
     "execution_count": 14,
     "metadata": {},
     "output_type": "execute_result"
    }
   ],
   "source": [
    "#dmax = 4.0, protein group(4653 atoms), plga atom group (543 atoms), took 381.6 s (6 min 36s on 4 cores)\n",
    "start = 0\n",
    "end = pn20nr_lenC2 - 1\n",
    "snr_time = timeit.default_timer()\n",
    "h2di_C2nr = aa_frmcount(prot_noresC2, pn20_allnrC2, dmax, pn12nm_noresC2, start, end)\n",
    "timeit.default_timer() - snr_time"
   ]
  },
  {
   "cell_type": "code",
   "execution_count": 15,
   "metadata": {},
   "outputs": [
    {
     "data": {
      "text/plain": [
       "151"
      ]
     },
     "execution_count": 15,
     "metadata": {},
     "output_type": "execute_result"
    }
   ],
   "source": [
    "len(h2di_C2nr.keys())"
   ]
  },
  {
   "cell_type": "code",
   "execution_count": 16,
   "metadata": {},
   "outputs": [],
   "source": [
    "a_a = [\"GLY\",\"ALA\",\"VAL\",\"LEU\",\"ILE\",\"MET\",\"PHE\",\"TRP\",\"PRO\",\"SER\",\"THR\",\"CYS\",\"TYR\",\"ASN\",\"GLN\",\"ASP\"\n",
    "               ,\"GLU\",\"LYS\",\"ARG\",\"HIS\"]"
   ]
  },
  {
   "cell_type": "code",
   "execution_count": 17,
   "metadata": {},
   "outputs": [],
   "source": [
    "# This code chunk gets the BSA residues and their corresponding number in a pandas dataframe \n",
    "red_bsa = []\n",
    "bh = np.arange(0,584)\n",
    "for i in range(583):\n",
    "    b_str = str(list(prot_noresC2.residues[i:i+1]))\n",
    "    if str(bh[i+1]) in b_str: \n",
    "        red_bsa.append(str(b_str[10:13])+\" \"+str(bh[i+1]))"
   ]
  },
  {
   "cell_type": "code",
   "execution_count": 18,
   "metadata": {},
   "outputs": [
    {
     "data": {
      "text/html": [
       "<div>\n",
       "<style scoped>\n",
       "    .dataframe tbody tr th:only-of-type {\n",
       "        vertical-align: middle;\n",
       "    }\n",
       "\n",
       "    .dataframe tbody tr th {\n",
       "        vertical-align: top;\n",
       "    }\n",
       "\n",
       "    .dataframe thead th {\n",
       "        text-align: right;\n",
       "    }\n",
       "</style>\n",
       "<table border=\"1\" class=\"dataframe\">\n",
       "  <thead>\n",
       "    <tr style=\"text-align: right;\">\n",
       "      <th></th>\n",
       "      <th>BSA_des_res</th>\n",
       "      <th>mda_1.2nm_noresC2</th>\n",
       "    </tr>\n",
       "  </thead>\n",
       "  <tbody>\n",
       "    <tr>\n",
       "      <th>0</th>\n",
       "      <td>ASP 1</td>\n",
       "      <td>9987.0</td>\n",
       "    </tr>\n",
       "    <tr>\n",
       "      <th>1</th>\n",
       "      <td>THR 2</td>\n",
       "      <td>9923.0</td>\n",
       "    </tr>\n",
       "    <tr>\n",
       "      <th>2</th>\n",
       "      <td>HIS 3</td>\n",
       "      <td>9909.0</td>\n",
       "    </tr>\n",
       "    <tr>\n",
       "      <th>3</th>\n",
       "      <td>LYS 4</td>\n",
       "      <td>9940.0</td>\n",
       "    </tr>\n",
       "    <tr>\n",
       "      <th>4</th>\n",
       "      <td>SER 5</td>\n",
       "      <td>9502.0</td>\n",
       "    </tr>\n",
       "  </tbody>\n",
       "</table>\n",
       "</div>"
      ],
      "text/plain": [
       "  BSA_des_res  mda_1.2nm_noresC2\n",
       "0       ASP 1             9987.0\n",
       "1       THR 2             9923.0\n",
       "2       HIS 3             9909.0\n",
       "3       LYS 4             9940.0\n",
       "4       SER 5             9502.0"
      ]
     },
     "execution_count": 18,
     "metadata": {},
     "output_type": "execute_result"
    }
   ],
   "source": [
    "# Extract no. of contacted frames\n",
    "pr_resnr = list(prot_noresC2.residues)\n",
    "ss_resnr = [str(row) for row in pr_resnr]\n",
    "rkg_12nr = {key:h2di_C2nr[key][0] for key, value in h2di_C2nr.items()}\n",
    "plgC2_1_2nr = pd.DataFrame(data=ss_resnr, columns=[\"BSA_des_res\"])\n",
    "plgC2_1_2nr['mda_1.2nm_noresC2'] = plgC2_1_2nr['BSA_des_res'].map(rkg_12nr)\n",
    "plgC2_1_2nr['BSA_des_res'] = red_bsa\n",
    "plgC2_1_2nr['mda_1.2nm_noresC2'] = plgC2_1_2nr['mda_1.2nm_noresC2'].replace('nan', np.nan).fillna(0)\n",
    "plgC2_1_2nr.head()"
   ]
  },
  {
   "cell_type": "code",
   "execution_count": 20,
   "metadata": {},
   "outputs": [
    {
     "data": {
      "text/html": [
       "<div>\n",
       "<style scoped>\n",
       "    .dataframe tbody tr th:only-of-type {\n",
       "        vertical-align: middle;\n",
       "    }\n",
       "\n",
       "    .dataframe tbody tr th {\n",
       "        vertical-align: top;\n",
       "    }\n",
       "\n",
       "    .dataframe thead th {\n",
       "        text-align: right;\n",
       "    }\n",
       "</style>\n",
       "<table border=\"1\" class=\"dataframe\">\n",
       "  <thead>\n",
       "    <tr style=\"text-align: right;\">\n",
       "      <th></th>\n",
       "      <th>BSA_des_res</th>\n",
       "      <th>mda_occ_1.2nm_NRC2</th>\n",
       "    </tr>\n",
       "  </thead>\n",
       "  <tbody>\n",
       "    <tr>\n",
       "      <th>0</th>\n",
       "      <td>&lt;Residue ASP, 1&gt;</td>\n",
       "      <td>1.00</td>\n",
       "    </tr>\n",
       "    <tr>\n",
       "      <th>1</th>\n",
       "      <td>&lt;Residue THR, 2&gt;</td>\n",
       "      <td>0.99</td>\n",
       "    </tr>\n",
       "    <tr>\n",
       "      <th>2</th>\n",
       "      <td>&lt;Residue HIS, 3&gt;</td>\n",
       "      <td>0.99</td>\n",
       "    </tr>\n",
       "    <tr>\n",
       "      <th>3</th>\n",
       "      <td>&lt;Residue LYS, 4&gt;</td>\n",
       "      <td>0.99</td>\n",
       "    </tr>\n",
       "    <tr>\n",
       "      <th>4</th>\n",
       "      <td>&lt;Residue SER, 5&gt;</td>\n",
       "      <td>0.95</td>\n",
       "    </tr>\n",
       "    <tr>\n",
       "      <th>...</th>\n",
       "      <td>...</td>\n",
       "      <td>...</td>\n",
       "    </tr>\n",
       "    <tr>\n",
       "      <th>578</th>\n",
       "      <td>&lt;Residue GLN, 579&gt;</td>\n",
       "      <td>0.00</td>\n",
       "    </tr>\n",
       "    <tr>\n",
       "      <th>579</th>\n",
       "      <td>&lt;Residue THR, 580&gt;</td>\n",
       "      <td>0.00</td>\n",
       "    </tr>\n",
       "    <tr>\n",
       "      <th>580</th>\n",
       "      <td>&lt;Residue ALA, 581&gt;</td>\n",
       "      <td>0.00</td>\n",
       "    </tr>\n",
       "    <tr>\n",
       "      <th>581</th>\n",
       "      <td>&lt;Residue LEU, 582&gt;</td>\n",
       "      <td>0.00</td>\n",
       "    </tr>\n",
       "    <tr>\n",
       "      <th>582</th>\n",
       "      <td>&lt;Residue ALA, 583&gt;</td>\n",
       "      <td>0.00</td>\n",
       "    </tr>\n",
       "  </tbody>\n",
       "</table>\n",
       "<p>583 rows × 2 columns</p>\n",
       "</div>"
      ],
      "text/plain": [
       "            BSA_des_res  mda_occ_1.2nm_NRC2\n",
       "0      <Residue ASP, 1>                1.00\n",
       "1      <Residue THR, 2>                0.99\n",
       "2      <Residue HIS, 3>                0.99\n",
       "3      <Residue LYS, 4>                0.99\n",
       "4      <Residue SER, 5>                0.95\n",
       "..                  ...                 ...\n",
       "578  <Residue GLN, 579>                0.00\n",
       "579  <Residue THR, 580>                0.00\n",
       "580  <Residue ALA, 581>                0.00\n",
       "581  <Residue LEU, 582>                0.00\n",
       "582  <Residue ALA, 583>                0.00\n",
       "\n",
       "[583 rows x 2 columns]"
      ]
     },
     "execution_count": 20,
     "metadata": {},
     "output_type": "execute_result"
    }
   ],
   "source": [
    "# Extract mean occupancy values\n",
    "pr_res_12ur = list(prot_noresC2.residues)\n",
    "ss_res_12ur = [str(row) for row in pr_res_12ur]\n",
    "rkg_12urC2 = {key:h2di_C2nr[key][1] for key, value in h2di_C2nr.items()}\n",
    "plgC2_1_2nm_NRocc = pd.DataFrame(data=ss_res_12ur, columns=[\"BSA_des_res\"])\n",
    "plgC2_1_2nm_NRocc['mda_occ_1.2nm_NRC2'] = plgC2_1_2nm_NRocc['BSA_des_res'].map(rkg_12urC2)\n",
    "plgC2_1_2nm_NRocc['mda_occ_1.2nm_NRC2'] = plgC2_1_2nm_NRocc['mda_occ_1.2nm_NRC2'].replace('nan', np.nan).fillna(0)\n",
    "plgC2_1_2nm_NRocc['mda_occ_1.2nm_NRC2'] = plgC2_1_2nm_NRocc['mda_occ_1.2nm_NRC2'].round(2)\n",
    "plgC2_1_2nm_NRocc"
   ]
  },
  {
   "cell_type": "code",
   "execution_count": 23,
   "metadata": {},
   "outputs": [],
   "source": [
    "bsa_C2r = np.array(list(prot_noresC2.resids)) # shape is 4652\n",
    "mC2_occ_12ur = np.array(list(plgC2_1_2nm_NRocc['mda_occ_1.2nm_NRC2'])) # shape is 583\n",
    "mC2_occ = np.zeros(shape=(4653))\n",
    "atC2_indNR = np.where(bsa_C2r[:-1] != bsa_C2r[1:])[0]\n",
    "atC2_in_nwNR = np.sort(np.append([0,4653],atC2_indNR))\n",
    "nw_v = 0\n",
    "for i in range(583):\n",
    "    b = atC2_in_nwNR[i+1] +1\n",
    "    mC2_occ[nw_v:b] = mC2_occ_12ur[i]\n",
    "    nw_v = atC2_in_nwNR[i+1] + 1 "
   ]
  },
  {
   "cell_type": "code",
   "execution_count": 24,
   "metadata": {},
   "outputs": [
    {
     "data": {
      "text/plain": [
       "(array([   0,    1,    2,    3,    4,    5,    6,    7,    8,    9,   10,\n",
       "          11,   12,   13,   14,   15,   16,   17,   18,   19,   20,   21,\n",
       "          22,   23,   24,   25,   26,   27,   28,   29,   30,   31,   32,\n",
       "          33,   34,   35,   36,   37,   38,   39,   40,   41,   42,   43,\n",
       "          44,   45,   46,   47,   48,   57,   58,   59,   60,   61,   83,\n",
       "          84,   85,   86,   87,   88,   89,   90,   91,   92,   93,   94,\n",
       "          95,   96,   97,   98,   99,  100,  101,  102,  103,  104,  105,\n",
       "         106,  107,  108,  109,  110,  111,  112,  113,  114,  115,  116,\n",
       "         117,  118,  119,  120,  121,  122,  123,  124,  125,  126,  127,\n",
       "         128,  129,  130,  131,  132,  133,  134,  135,  136,  137,  138,\n",
       "         139,  140,  141,  142,  143,  144,  145,  146,  147,  148,  149,\n",
       "         150,  389,  390,  391,  392,  393,  394,  395,  396,  397,  414,\n",
       "         415,  416,  417,  418,  419,  420,  421,  422,  423,  424,  425,\n",
       "         426,  427,  428,  429,  430,  431,  432,  433,  434,  435,  436,\n",
       "         437,  438,  439,  440,  441,  442,  443,  444,  445,  446,  447,\n",
       "         448,  449,  450,  451,  452,  453,  454,  455,  456,  457,  458,\n",
       "         459,  460,  461,  462,  463,  464,  490,  491,  492,  493,  494,\n",
       "         495,  496,  497,  498,  499,  500,  501,  502,  503,  504,  505,\n",
       "         506,  507,  508,  509,  510,  511,  512,  513,  514,  515,  516,\n",
       "         517,  518,  519,  948,  949,  950,  951,  952,  953,  954,  955,\n",
       "         971,  972,  973,  974,  975,  976,  977,  978,  979,  980,  981,\n",
       "         982,  983,  984,  994,  995,  996,  997,  998,  999, 1000, 1001,\n",
       "        1002, 1003, 1004, 1005, 1006, 1007, 1008, 1009, 1010, 1011, 1012,\n",
       "        1013, 1014, 1015, 1016, 1017, 1018, 1027, 1028, 1029, 1030, 1031,\n",
       "        1032, 1033, 1034, 1035, 1036, 1037, 1038, 1039, 1040, 1041, 1042,\n",
       "        1043, 1044, 1065, 1066, 1067, 1068, 1069, 1070, 1071, 1072, 1073,\n",
       "        1074, 1075, 1076, 1077, 1078, 1286, 1287, 1288, 1289, 1290, 1291,\n",
       "        1292, 1293, 1294, 1295, 1296, 1297, 1298, 1299, 1300, 1301, 1302,\n",
       "        1315, 1316, 1317, 1318, 1319, 1320, 1321, 1322, 1323, 1324, 1325,\n",
       "        1326, 1334, 1335, 1336, 1337, 1338, 1339, 1340, 1341, 1342, 1343,\n",
       "        1344, 1345, 1346, 1347, 1348, 1349, 1350, 1351, 1352, 1353, 1354,\n",
       "        1355, 1356, 1357, 1358, 1359, 1360, 1361, 1362, 1363, 1364, 1365,\n",
       "        1366, 1367, 1368, 1369, 1370, 1371, 1372, 1373, 1374, 1375, 1376,\n",
       "        1377, 1378, 1379, 1380, 1381, 1382, 1383, 1384, 1385, 1386, 1387,\n",
       "        1388, 1389, 1390, 1391, 1392, 1393, 1394, 1395, 1396, 1397, 1398,\n",
       "        1399, 1400, 1401, 1402, 1403, 1404, 1405, 1406, 1407, 1408, 1409,\n",
       "        1410, 1411, 1412, 1413, 1414, 1419, 1420, 1421, 1422, 1423, 1424,\n",
       "        1425, 1426, 1427, 1428, 1429, 1453, 1454, 1455, 1456, 1457, 1458,\n",
       "        1459, 1460, 1461, 2207, 2208, 2209, 2210, 2211, 2212, 2213, 2214,\n",
       "        2215, 2231, 2232, 2233, 2234, 2235, 2236, 2237, 2238, 2239, 2240,\n",
       "        2241, 2242, 2243, 2244, 2245, 2246, 2247, 2248, 2249, 2250, 2251,\n",
       "        2252, 2253, 2254, 2255, 2256, 2257, 2258, 2259, 2260, 2261, 2262,\n",
       "        2263, 2264, 2265, 2266, 2267, 2268, 2269, 2270, 2271, 2272, 2273,\n",
       "        2274, 2275, 2276, 2277, 2278, 2279, 2280, 2281, 2282, 2283, 2284,\n",
       "        2285, 2286, 2287, 2288, 2289, 2290, 2291, 2292, 2293, 2294, 2808,\n",
       "        2809, 2810, 2811, 2812, 2813, 2814, 2815, 2816, 2817, 2818, 2819,\n",
       "        2820, 2821, 2822, 2823, 2824, 2825, 2847, 2848, 2849, 2850, 2851,\n",
       "        2852, 2853, 2854, 2855, 2856, 2857, 2858, 2876, 2877, 2878, 2879,\n",
       "        2880, 2881, 2882, 2883, 2884, 2949, 2950, 2951, 2952, 2953, 2954,\n",
       "        2973, 2974, 2975, 2976, 2977, 2978, 2979, 2998, 2999, 3000, 3001,\n",
       "        3002, 3003, 3004, 3005, 3006, 3007, 3008, 3009, 3010, 3011, 3012,\n",
       "        3013, 3014, 3015, 3016, 3017, 3018, 3019, 3020, 3021, 3022, 3032,\n",
       "        3033, 3034, 3035, 3036, 3037, 3038, 3039, 3040, 3041, 3042, 3043,\n",
       "        3044, 3045, 3046, 3047, 3048, 3049, 3057, 3058, 3059, 3060, 3061,\n",
       "        3062, 3063, 3064, 3065, 3066, 3067, 3068, 3069, 3070, 3071, 3072,\n",
       "        3073, 3090, 3091, 3092, 3093, 3094, 3095, 3096, 3097, 3098, 3099,\n",
       "        3100, 3101, 3102, 3103, 3104, 3105, 3114, 3115, 3116, 3117, 3118,\n",
       "        3119, 3120, 3121, 3122, 3123, 3124, 3125, 3126, 3127, 3128, 3129,\n",
       "        3130, 3131, 3146, 3147, 3148, 3149, 3150, 3151, 3152, 3153, 3154,\n",
       "        3155, 3156, 3157, 3158, 3159, 3160, 3161, 3162, 3174, 3175, 3176,\n",
       "        3177, 3178, 3179, 3180, 3181, 3182, 3183, 3184, 3185, 3186, 3187,\n",
       "        3188, 3189, 3190, 3191, 3192, 3193, 3194, 3195, 3196, 3197, 3198,\n",
       "        3199, 3213, 3214, 3215, 3216, 3217, 3218, 3219, 3220, 3221, 3222,\n",
       "        3223, 3224, 3225, 3226, 3227, 3228, 3249, 3250, 3251, 3252, 3253,\n",
       "        3254, 3255, 3256, 3257, 3258, 3259, 3260, 3261, 3278, 3279, 3280,\n",
       "        3281, 3282, 3283, 3284, 3285, 3286, 3287, 3288, 3289, 3290, 3291,\n",
       "        3292, 3293, 3294, 3295, 3296, 3297, 3298, 3299, 3300, 3301, 3302,\n",
       "        3303, 3304, 3305, 3306, 3307, 3315, 3316, 3317, 3318, 3319, 3320,\n",
       "        3321, 3322, 3323, 3324, 3325, 3326, 3327, 3328, 3329, 3330, 3331,\n",
       "        3332, 3333, 3334, 3796, 3797, 3798, 3799, 3800, 3801, 3802, 3803,\n",
       "        3804, 3854, 3855, 3856, 3857, 3858, 3859, 3860, 3861, 3884, 3885,\n",
       "        3886, 3887, 3888, 3889, 3890, 3891, 3892, 3893, 3894, 3895, 3896,\n",
       "        3908, 3909, 3910, 3911, 3912, 3913, 3914, 3915, 3916, 3917, 3918,\n",
       "        3919, 3920, 3921, 3922, 3923, 3924, 3925, 3926, 3927, 3928, 3929,\n",
       "        3930, 3931, 3932, 3933, 3934, 3935, 3936, 3937, 3938, 3939, 3940,\n",
       "        4316, 4317, 4318, 4319, 4320, 4321, 4322, 4323, 4324, 4325, 4326,\n",
       "        4327, 4328, 4329, 4330, 4331, 4332, 4333, 4334, 4335, 4336, 4337,\n",
       "        4338, 4339, 4340, 4350, 4351, 4352, 4353, 4354, 4355, 4356, 4357,\n",
       "        4358, 4359, 4360, 4361, 4362, 4363, 4364, 4365, 4366, 4381, 4382,\n",
       "        4383, 4384, 4385, 4386, 4387, 4388, 4389, 4390, 4391, 4392, 4393,\n",
       "        4394, 4395, 4396, 4397, 4417, 4418, 4419, 4420, 4421, 4422, 4423]),)"
      ]
     },
     "execution_count": 24,
     "metadata": {},
     "output_type": "execute_result"
    }
   ],
   "source": [
    "np.nonzero(mC2_occ)"
   ]
  },
  {
   "cell_type": "markdown",
   "metadata": {},
   "source": [
    "### Visualize Occupanct on protein "
   ]
  },
  {
   "cell_type": "code",
   "execution_count": 25,
   "metadata": {},
   "outputs": [
    {
     "data": {
      "text/plain": [
       "array([1., 1., 1., ..., 0., 0., 0.])"
      ]
     },
     "execution_count": 25,
     "metadata": {},
     "output_type": "execute_result"
    }
   ],
   "source": [
    "prot_noresC2.occupancies = mC2_occ\n",
    "prot_noresC2.occupancies"
   ]
  },
  {
   "cell_type": "code",
   "execution_count": 26,
   "metadata": {},
   "outputs": [],
   "source": [
    "with mda.Writer(\"prot_12nm_noresC2.pdb\") as pdb:\n",
    "    pdb.write(prot_noresC2)"
   ]
  },
  {
   "cell_type": "markdown",
   "metadata": {},
   "source": [
    "### Residue Importance: 1.2 nm Unrestrained C2"
   ]
  },
  {
   "cell_type": "code",
   "execution_count": 27,
   "metadata": {},
   "outputs": [],
   "source": [
    "trj_pp12nmC2_nr = prot_poly_cntmovie(prot_noresC2, pn20_allnrC2, dmax, pn12nm_noresC2, 0, 10000)\n",
    "#trj_ppmap_12nm_chC = prot_poly_cntmovie(prot, all_pn20_C, dmax, u_pn20, 0, 10000)"
   ]
  },
  {
   "cell_type": "code",
   "execution_count": 28,
   "metadata": {},
   "outputs": [],
   "source": [
    "np.save('1.2nmPLGA_NoResC2.npy', trj_pp12nmC2_nr)    # .npy extension is added if not given"
   ]
  },
  {
   "cell_type": "code",
   "execution_count": null,
   "metadata": {},
   "outputs": [],
   "source": [
    "trj_pp12nm_nr = np.load(\"1.2nm_NoRes.npy\", allow_pickle=True)"
   ]
  },
  {
   "cell_type": "code",
   "execution_count": 29,
   "metadata": {},
   "outputs": [
    {
     "data": {
      "text/plain": [
       "4.0"
      ]
     },
     "execution_count": 29,
     "metadata": {},
     "output_type": "execute_result"
    }
   ],
   "source": [
    "np.sum(trj_pp12nmC2_nr[1000][0])"
   ]
  },
  {
   "cell_type": "code",
   "execution_count": 30,
   "metadata": {},
   "outputs": [
    {
     "data": {
      "text/plain": [
       "(10000,)"
      ]
     },
     "execution_count": 30,
     "metadata": {},
     "output_type": "execute_result"
    }
   ],
   "source": [
    "kj = np.zeros(shape=(10000, 583))\n",
    "kj[:,582].shape"
   ]
  },
  {
   "cell_type": "code",
   "execution_count": 31,
   "metadata": {},
   "outputs": [],
   "source": [
    "ppC2_12nmur_ct = np.zeros(shape=(10000, 583))\n",
    "for i in range(10000):\n",
    "    for j in range(583):\n",
    "        ppC2_12nmur_ct[i][j] = np.sum(trj_pp12nmC2_nr[i][j])"
   ]
  },
  {
   "cell_type": "code",
   "execution_count": 32,
   "metadata": {},
   "outputs": [],
   "source": [
    "ppC2_12nmtot_nr = np.zeros(shape=(583))\n",
    "for i in range(583):\n",
    "    ppC2_12nmtot_nr[i] = np.sum(ppC2_12nmur_ct[:,i])\n",
    "#pp_12nmtot"
   ]
  },
  {
   "cell_type": "code",
   "execution_count": 33,
   "metadata": {},
   "outputs": [
    {
     "data": {
      "text/plain": [
       "(array([  0,   1,   2,   3,   4,   5,   7,   8,  10,  11,  12,  13,  14,\n",
       "         15,  16,  17,  19,  47,  50,  51,  52,  53,  54,  55,  56,  57,\n",
       "         58,  61,  62,  63,  64,  65, 118, 119, 120, 122, 123, 125, 126,\n",
       "        127, 128, 129, 130, 133, 153, 156, 157, 158, 160, 161, 162, 163,\n",
       "        164, 165, 166, 167, 168, 169, 170, 171, 172, 174, 175, 178, 179,\n",
       "        231, 250, 257, 260, 263, 266, 274, 275, 277, 278, 279, 280, 281,\n",
       "        282, 283, 284, 349, 350, 353, 354, 357, 358, 366, 367, 370, 371,\n",
       "        373, 374, 375, 376, 377, 378, 380, 381, 383, 384, 385, 387, 388,\n",
       "        391, 392, 393, 394, 395, 396, 397, 399, 400, 403, 404, 405, 407,\n",
       "        408, 409, 411, 412, 470, 473, 474, 477, 478, 481, 483, 484, 485,\n",
       "        487, 488, 489, 490, 491, 493, 527, 536, 537, 538, 539, 540, 542,\n",
       "        543, 544, 546, 547, 550, 551, 581, 582]),)"
      ]
     },
     "execution_count": 33,
     "metadata": {},
     "output_type": "execute_result"
    }
   ],
   "source": [
    "np.nonzero(ppC2_12nmtot_nr)"
   ]
  },
  {
   "cell_type": "code",
   "execution_count": 34,
   "metadata": {},
   "outputs": [],
   "source": [
    "plt.close('all')"
   ]
  },
  {
   "cell_type": "code",
   "execution_count": null,
   "metadata": {},
   "outputs": [],
   "source": [
    "plt.bar(y_pos, pp_12nmtot_nr/cNR, align='center',width=wid, alpha=0.4, color='#1D77CF',label='1.2 nm PLGA')"
   ]
  },
  {
   "cell_type": "code",
   "execution_count": 35,
   "metadata": {},
   "outputs": [
    {
     "data": {
      "application/vnd.jupyter.widget-view+json": {
       "model_id": "",
       "version_major": 2,
       "version_minor": 0
      },
      "text/plain": [
       "Canvas(toolbar=Toolbar(toolitems=[('Home', 'Reset original view', 'home', 'home'), ('Back', 'Back to previous …"
      ]
     },
     "metadata": {},
     "output_type": "display_data"
    },
    {
     "data": {
      "text/plain": [
       "Text(0.5, 0, 'BSA Residue ID')"
      ]
     },
     "execution_count": 35,
     "metadata": {},
     "output_type": "execute_result"
    }
   ],
   "source": [
    "y_pos = np.arange(583) + 1\n",
    "wid = np.zeros(shape=583)\n",
    "wid += 1.5\n",
    "#wid\n",
    "fig = plt.figure(figsize=(12,12))\n",
    "fig.canvas.layout.width = '800px'\n",
    "fig.canvas.layout.height = '700px'\n",
    "plt.bar(y_pos+0.25, ppC2_12nmtot_nr/np.sum(ppC2_12nmtot_nr), align='center',width=wid, color='#1D77CF', alpha=0.3, label='1.2 nm PLGA')\n",
    "plt.title(\"BSA in water with PLGA unrestrained, 100 ns, Config. 2\", fontsize=18)\n",
    "plt.xticks(fontsize=14)\n",
    "plt.yticks(fontsize=14)\n",
    "plt.xlim([0,600])\n",
    "plt.ylim([0,0.2])\n",
    "plt.legend(fontsize=14)\n",
    "plt.ylabel(r'Normalized Total No. of PLGA contacts', fontsize=15)\n",
    "plt.xlabel(r'BSA Residue ID', fontsize=15)"
   ]
  },
  {
   "cell_type": "markdown",
   "metadata": {},
   "source": [
    "### Total number of residues that are within 4 angstroms of a PLGA oligomer residue within a 100 ns trajectory block C2"
   ]
  },
  {
   "cell_type": "code",
   "execution_count": 36,
   "metadata": {},
   "outputs": [],
   "source": [
    "# Read in data from the oputput of wrapper.sh, where the frame count is given for each BSA residue that was within \n",
    "# 4 angstroms of PLGA trimer \n",
    "wat_data = pd.read_csv('occ_BSA1ns.txt', sep=\" \", header=None, usecols=None ,index_col=None)\n",
    "wat_data.columns = [\"BSA_res_no\",\"No. of frames (VMD)\"]\n",
    "wat_data = wat_data.drop(\"BSA_res_no\", axis=1)\n",
    "\n",
    "pr_res = list(prot_noresC2.residues)\n",
    "ss_res = [str(row) for row in pr_res]\n",
    "\n",
    "wat_data['BSA_des_res'] = ss_res\n",
    "wat_data = wat_data[['BSA_des_res',\"No. of frames (VMD)\"]]\n",
    "#wat_data.head()\n",
    "\n",
    "# load MDAnalysis values from MDA_BSA1ns.txt file(129003 atoms SOL group was used to calc. frame counts for txt.\n",
    "# file)\n",
    "h2ob_dict = json.load(open(\"MDA_BSA1ns.txt\"))\n",
    "wat_data['Mda_frames'] = wat_data['BSA_des_res'].map(h2ob_dict)\n",
    "\n",
    "\n",
    "# From MD Analysis\n",
    "#Get the count of bsa residues that have 1001 or 1002 frames ( I ran a 1 ns NPT simulation of 1 BSA in water )\n",
    "\n",
    "#aa_count = pd.DataFrame(data=a_a)\n",
    "c_list = []\n",
    "\n",
    "for i in range(len(a_a)):\n",
    "    count = 0\n",
    "    for index, row in wat_data.iterrows():\n",
    "        if a_a[i] in row[\"BSA_des_res\"]:\n",
    "            if row['Mda_frames'] == 1001: \n",
    "                count += 1\n",
    "                #c_list.append(str(str(a_a[i])+\"  \"+str(row['No. of frames']))) \n",
    "            elif row['Mda_frames'] == 1000:\n",
    "                count += 1\n",
    "                #c_list.append(str(str(a_a[i])+\"  \"+str(row['No. of frames'])))\n",
    "    c_list.append(str(str(a_a[i])+\"  \"+str(count)))\n",
    "    \n",
    "#c_list\n",
    "\n",
    "# From VMD\n",
    "#Get the count of bsa residues that have 1001 or 1002 frames ( I ran a 1 ns NPT simulation of 1 BSA in water )\n",
    "\n",
    "#aa_count = pd.DataFrame(data=a_a)\n",
    "vmd_list = []\n",
    "\n",
    "for i in range(len(a_a)):\n",
    "    count = 0\n",
    "    for index, row in wat_data.iterrows():\n",
    "        if a_a[i] in row[\"BSA_des_res\"]:\n",
    "            if row[\"No. of frames (VMD)\"] == 1001: \n",
    "                count += 1\n",
    "                #c_list.append(str(str(a_a[i])+\"  \"+str(row['No. of frames']))) \n",
    "            elif row[\"No. of frames (VMD)\"] == 1002:\n",
    "                count += 1\n",
    "                #c_list.append(str(str(a_a[i])+\"  \"+str(row['No. of frames'])))\n",
    "    vmd_list.append(str(str(a_a[i])+\"  \"+str(count)))\n",
    "\n",
    "# Main difference is that Alanine 583 is counted for all 1001 frames. It seems VMD is unable to calc dist for that res\n",
    "#vmd_list\n",
    "\n",
    "#hydrophobic_res = ['ALA', 'ILE', 'LEU', 'VAL', 'GLY', 'PRO','PHE', 'TRP','MET']\n",
    "#polar_res = ['ASN', 'CYS', 'GLN', 'SER', 'THR','TYR']\n",
    "#neg_res = ['ASP', 'GLU']\n",
    "#pos_res = ['ARG', 'HIS', 'LYS']\n",
    "# aromatic_res = ['PHE', 'TRP', 'TYR', 'HIS']\n",
    "#all_res = [pos_res, neg_res, polar_res, hydrophobic_res]\n",
    "\n",
    "# Put the AA count in a pandas dataframe \n",
    "dg , ji = AA_list_org(c_list)\n",
    "aa_count = pd.DataFrame(data=dg, index=None, columns=['Amino_acids'])\n",
    "new_lf = pd.Series(data=ji, index=None)\n",
    "vmg, vmdj = AA_list_org(vmd_list)\n",
    "n2lf = pd.Series(data=vmdj, index=None)\n",
    "aa_count['No_of_surf_res (MDAnalysis)'] = new_lf\n",
    "aa_count['No_of_surf_res (VMD)'] = n2lf"
   ]
  },
  {
   "cell_type": "code",
   "execution_count": 37,
   "metadata": {},
   "outputs": [
    {
     "data": {
      "text/html": [
       "<div>\n",
       "<style scoped>\n",
       "    .dataframe tbody tr th:only-of-type {\n",
       "        vertical-align: middle;\n",
       "    }\n",
       "\n",
       "    .dataframe tbody tr th {\n",
       "        vertical-align: top;\n",
       "    }\n",
       "\n",
       "    .dataframe thead th {\n",
       "        text-align: right;\n",
       "    }\n",
       "</style>\n",
       "<table border=\"1\" class=\"dataframe\">\n",
       "  <thead>\n",
       "    <tr style=\"text-align: right;\">\n",
       "      <th></th>\n",
       "      <th>Amino_acids</th>\n",
       "      <th>No_of_surf_res (MDAnalysis)</th>\n",
       "      <th>No_of_surf_res (VMD)</th>\n",
       "      <th>plgaC2_1.2nm_100ns_NR</th>\n",
       "    </tr>\n",
       "  </thead>\n",
       "  <tbody>\n",
       "    <tr>\n",
       "      <th>0</th>\n",
       "      <td>LYS</td>\n",
       "      <td>59</td>\n",
       "      <td>59</td>\n",
       "      <td>25</td>\n",
       "    </tr>\n",
       "    <tr>\n",
       "      <th>1</th>\n",
       "      <td>ARG</td>\n",
       "      <td>23</td>\n",
       "      <td>23</td>\n",
       "      <td>3</td>\n",
       "    </tr>\n",
       "    <tr>\n",
       "      <th>2</th>\n",
       "      <td>HIS</td>\n",
       "      <td>16</td>\n",
       "      <td>16</td>\n",
       "      <td>5</td>\n",
       "    </tr>\n",
       "    <tr>\n",
       "      <th>3</th>\n",
       "      <td>ASP</td>\n",
       "      <td>40</td>\n",
       "      <td>40</td>\n",
       "      <td>11</td>\n",
       "    </tr>\n",
       "    <tr>\n",
       "      <th>4</th>\n",
       "      <td>GLU</td>\n",
       "      <td>59</td>\n",
       "      <td>59</td>\n",
       "      <td>21</td>\n",
       "    </tr>\n",
       "    <tr>\n",
       "      <th>5</th>\n",
       "      <td>SER</td>\n",
       "      <td>23</td>\n",
       "      <td>23</td>\n",
       "      <td>5</td>\n",
       "    </tr>\n",
       "    <tr>\n",
       "      <th>6</th>\n",
       "      <td>THR</td>\n",
       "      <td>29</td>\n",
       "      <td>29</td>\n",
       "      <td>8</td>\n",
       "    </tr>\n",
       "    <tr>\n",
       "      <th>7</th>\n",
       "      <td>CYS</td>\n",
       "      <td>24</td>\n",
       "      <td>24</td>\n",
       "      <td>12</td>\n",
       "    </tr>\n",
       "    <tr>\n",
       "      <th>8</th>\n",
       "      <td>TYR</td>\n",
       "      <td>19</td>\n",
       "      <td>19</td>\n",
       "      <td>2</td>\n",
       "    </tr>\n",
       "    <tr>\n",
       "      <th>9</th>\n",
       "      <td>ASN</td>\n",
       "      <td>14</td>\n",
       "      <td>14</td>\n",
       "      <td>6</td>\n",
       "    </tr>\n",
       "    <tr>\n",
       "      <th>10</th>\n",
       "      <td>GLN</td>\n",
       "      <td>19</td>\n",
       "      <td>19</td>\n",
       "      <td>6</td>\n",
       "    </tr>\n",
       "    <tr>\n",
       "      <th>11</th>\n",
       "      <td>GLY</td>\n",
       "      <td>11</td>\n",
       "      <td>11</td>\n",
       "      <td>4</td>\n",
       "    </tr>\n",
       "    <tr>\n",
       "      <th>12</th>\n",
       "      <td>ALA</td>\n",
       "      <td>39</td>\n",
       "      <td>38</td>\n",
       "      <td>13</td>\n",
       "    </tr>\n",
       "    <tr>\n",
       "      <th>13</th>\n",
       "      <td>VAL</td>\n",
       "      <td>19</td>\n",
       "      <td>19</td>\n",
       "      <td>5</td>\n",
       "    </tr>\n",
       "    <tr>\n",
       "      <th>14</th>\n",
       "      <td>LEU</td>\n",
       "      <td>34</td>\n",
       "      <td>34</td>\n",
       "      <td>14</td>\n",
       "    </tr>\n",
       "    <tr>\n",
       "      <th>15</th>\n",
       "      <td>ILE</td>\n",
       "      <td>7</td>\n",
       "      <td>7</td>\n",
       "      <td>0</td>\n",
       "    </tr>\n",
       "    <tr>\n",
       "      <th>16</th>\n",
       "      <td>MET</td>\n",
       "      <td>3</td>\n",
       "      <td>3</td>\n",
       "      <td>1</td>\n",
       "    </tr>\n",
       "    <tr>\n",
       "      <th>17</th>\n",
       "      <td>PHE</td>\n",
       "      <td>20</td>\n",
       "      <td>20</td>\n",
       "      <td>4</td>\n",
       "    </tr>\n",
       "    <tr>\n",
       "      <th>18</th>\n",
       "      <td>TRP</td>\n",
       "      <td>2</td>\n",
       "      <td>2</td>\n",
       "      <td>1</td>\n",
       "    </tr>\n",
       "    <tr>\n",
       "      <th>19</th>\n",
       "      <td>PRO</td>\n",
       "      <td>27</td>\n",
       "      <td>27</td>\n",
       "      <td>5</td>\n",
       "    </tr>\n",
       "  </tbody>\n",
       "</table>\n",
       "</div>"
      ],
      "text/plain": [
       "   Amino_acids  No_of_surf_res (MDAnalysis)  No_of_surf_res (VMD)  \\\n",
       "0          LYS                           59                    59   \n",
       "1          ARG                           23                    23   \n",
       "2          HIS                           16                    16   \n",
       "3          ASP                           40                    40   \n",
       "4          GLU                           59                    59   \n",
       "5          SER                           23                    23   \n",
       "6          THR                           29                    29   \n",
       "7          CYS                           24                    24   \n",
       "8          TYR                           19                    19   \n",
       "9          ASN                           14                    14   \n",
       "10         GLN                           19                    19   \n",
       "11         GLY                           11                    11   \n",
       "12         ALA                           39                    38   \n",
       "13         VAL                           19                    19   \n",
       "14         LEU                           34                    34   \n",
       "15         ILE                            7                     7   \n",
       "16         MET                            3                     3   \n",
       "17         PHE                           20                    20   \n",
       "18         TRP                            2                     2   \n",
       "19         PRO                           27                    27   \n",
       "\n",
       "    plgaC2_1.2nm_100ns_NR  \n",
       "0                      25  \n",
       "1                       3  \n",
       "2                       5  \n",
       "3                      11  \n",
       "4                      21  \n",
       "5                       5  \n",
       "6                       8  \n",
       "7                      12  \n",
       "8                       2  \n",
       "9                       6  \n",
       "10                      6  \n",
       "11                      4  \n",
       "12                     13  \n",
       "13                      5  \n",
       "14                     14  \n",
       "15                      0  \n",
       "16                      1  \n",
       "17                      4  \n",
       "18                      1  \n",
       "19                      5  "
      ]
     },
     "execution_count": 37,
     "metadata": {},
     "output_type": "execute_result"
    }
   ],
   "source": [
    "apl_12nm_nrC2 = []\n",
    "\n",
    "# Some residues don't have any contact with the 3 N = 20 PLGA oligomers within 100 ns,\n",
    "# Put residues that do have contact with BSA in a separate list\n",
    "for index, r_pl in plgC2_1_2nr.iterrows():\n",
    "    if r_pl['mda_1.2nm_noresC2'] != 0:\n",
    "        apl_12nm_nrC2.append(r_pl['BSA_des_res'])\n",
    "        \n",
    "# This chunk of code gets an AA count from the above list, in order \n",
    "# to get a total number of residues that contact BSA\n",
    "cpl_12nm_nrC2 = []\n",
    "\n",
    "for index, r_a in aa_count.iterrows():\n",
    "    count = 0\n",
    "    for i in range(len(apl_12nm_nrC2)):\n",
    "        if r_a['Amino_acids'] in apl_12nm_nrC2[i]:\n",
    "            count += 1\n",
    "    cpl_12nm_nrC2.append(count)      \n",
    "        \n",
    "aa_count['plgaC2_1.2nm_100ns_NR'] = cpl_12nm_nrC2\n",
    "#aa_count.drop('No_of_surf_res (VMD)', axis=1, inplace=True)\n",
    "aa_count"
   ]
  },
  {
   "cell_type": "code",
   "execution_count": 38,
   "metadata": {},
   "outputs": [
    {
     "data": {
      "text/plain": [
       "151"
      ]
     },
     "execution_count": 38,
     "metadata": {},
     "output_type": "execute_result"
    }
   ],
   "source": [
    "# This gives the total number of residues that are within 4 angstroms of a PLGA oligomer residue\n",
    "# within a 100 ns trajectory block\n",
    "aa_count['plgaC2_1.2nm_100ns_NR'].sum()"
   ]
  },
  {
   "cell_type": "code",
   "execution_count": 39,
   "metadata": {},
   "outputs": [
    {
     "data": {
      "text/plain": [
       "487"
      ]
     },
     "execution_count": 39,
     "metadata": {},
     "output_type": "execute_result"
    }
   ],
   "source": [
    "# This gives the total number of residues that are within 4 angstroms of a water molecule\n",
    "# within a 1 ns trajectory block\n",
    "aa_count['No_of_surf_res (MDAnalysis)'].sum()"
   ]
  },
  {
   "cell_type": "code",
   "execution_count": 40,
   "metadata": {},
   "outputs": [
    {
     "data": {
      "text/plain": [
       "0.31006160164271046"
      ]
     },
     "execution_count": 40,
     "metadata": {},
     "output_type": "execute_result"
    }
   ],
   "source": [
    "# This gives the total fraction of contacts within the 1.2 nm Rg 100 ns trajectory\n",
    "aa_count['plgaC2_1.2nm_100ns_NR'].sum()/aa_count['No_of_surf_res (MDAnalysis)'].sum()"
   ]
  },
  {
   "cell_type": "code",
   "execution_count": 41,
   "metadata": {},
   "outputs": [
    {
     "name": "stdout",
     "output_type": "stream",
     "text": [
      "Mean Occpancy (1.2 nm unrestrained Rg): 0.338282119205298 Occ. std. dev.: 0.3640055969088105\n"
     ]
    }
   ],
   "source": [
    "# Mean occupancy and std deviation \n",
    "ll_mo12_nr = [value[1] for key, value in h2di_C2nr.items()]\n",
    "print(\"Mean Occpancy (1.2 nm unrestrained Rg): \"+str(np.mean(ll_mo12_nr)), \"Occ. std. dev.: \"+str(np.std(ll_mo12_nr)))"
   ]
  },
  {
   "cell_type": "code",
   "execution_count": 42,
   "metadata": {},
   "outputs": [
    {
     "data": {
      "text/plain": [
       "{'Negative': [134400.0, 32, 634200.0, 0.2451762139185758],\n",
       " 'Positive': [115600.0, 33, 528957.5757575757, 0.2044904064140502],\n",
       " 'Polar': [118578.0, 39, 459109.6923076923, 0.17748782108691624],\n",
       " 'Hydrophobic': [142228.0, 47, 456945.2765957447, 0.17665107676398786],\n",
       " 'Aromatic': [40331.0, 12, 507498.4166666666, 0.19619448181646984]}"
      ]
     },
     "execution_count": 42,
     "metadata": {},
     "output_type": "execute_result"
    }
   ],
   "source": [
    "cd_12nm_nr = frac_cont(h2di_C2nr)\n",
    "cd_12nm_nr"
   ]
  },
  {
   "cell_type": "code",
   "execution_count": 43,
   "metadata": {},
   "outputs": [
    {
     "data": {
      "text/plain": [
       "487"
      ]
     },
     "execution_count": 43,
     "metadata": {},
     "output_type": "execute_result"
    }
   ],
   "source": [
    "no_surf = aa_count['No_of_surf_res (MDAnalysis)'].sum()\n",
    "no_surf"
   ]
  },
  {
   "cell_type": "markdown",
   "metadata": {},
   "source": [
    "### Calc. fractional contacts for each AA group type "
   ]
  },
  {
   "cell_type": "code",
   "execution_count": 44,
   "metadata": {},
   "outputs": [
    {
     "name": "stdout",
     "output_type": "stream",
     "text": [
      "0\n",
      "2000\n",
      "2000\n",
      "4000\n",
      "4000\n",
      "6000\n",
      "6000\n",
      "8000\n",
      "8000\n",
      "10000\n"
     ]
    }
   ],
   "source": [
    "fcnt1_2nm_C2nr, prgrp12nm_C2nr, aamatx_12nm_C2nr = bavg_frac_cnt(5, prot_noresC2, pn20_allnrC2, dmax,\n",
    "                                                        pn12nm_noresC2, no_surf, 0, 10000)"
   ]
  },
  {
   "cell_type": "code",
   "execution_count": 45,
   "metadata": {},
   "outputs": [
    {
     "data": {
      "text/plain": [
       "{'Negative': array([0.22257848, 0.21647773, 0.21419209, 0.24343697, 0.23579261]),\n",
       " 'Positive': array([0.21751018, 0.17421094, 0.19761702, 0.21030902, 0.21419333]),\n",
       " 'Polar': array([0.17846708, 0.1960051 , 0.17706685, 0.18798461, 0.19501763]),\n",
       " 'Hydrophobic': array([0.1753968 , 0.17877725, 0.17439348, 0.1949802 , 0.19726609]),\n",
       " 'Aromatic': array([0.20604746, 0.23452898, 0.23673056, 0.1632892 , 0.15773035]),\n",
       " 'total_frac': array([0.16837782, 0.22997947, 0.22587269, 0.23613963, 0.23408624])}"
      ]
     },
     "execution_count": 45,
     "metadata": {},
     "output_type": "execute_result"
    }
   ],
   "source": [
    "fcnt1_2nm_C2nr"
   ]
  },
  {
   "cell_type": "code",
   "execution_count": 46,
   "metadata": {},
   "outputs": [
    {
     "data": {
      "text/plain": [
       "array([0.22649558, 0.2027681 , 0.18690825, 0.18416277, 0.19966531])"
      ]
     },
     "execution_count": 46,
     "metadata": {},
     "output_type": "execute_result"
    }
   ],
   "source": [
    "fc_12nmnrC2_mean = np.array([np.mean(fcnt1_2nm_C2nr['Negative']), np.mean(fcnt1_2nm_C2nr['Positive'])\n",
    "                        ,np.mean(fcnt1_2nm_C2nr['Polar']),np.mean(fcnt1_2nm_C2nr['Hydrophobic'])\n",
    "                        , np.mean(fcnt1_2nm_C2nr['Aromatic'])])\n",
    "fc_12nmnrC2_mean"
   ]
  },
  {
   "cell_type": "code",
   "execution_count": 47,
   "metadata": {},
   "outputs": [
    {
     "data": {
      "text/plain": [
       "array([0.01131832, 0.01579098, 0.0079722 , 0.00989948, 0.03379882])"
      ]
     },
     "execution_count": 47,
     "metadata": {},
     "output_type": "execute_result"
    }
   ],
   "source": [
    "fc_12nmnrC2_std = np.array([np.std(fcnt1_2nm_C2nr['Negative']), np.std(fcnt1_2nm_C2nr['Positive'])\n",
    "                       ,np.std(fcnt1_2nm_C2nr['Polar']),np.std(fcnt1_2nm_C2nr['Hydrophobic'])\n",
    "                       , np.std(fcnt1_2nm_C2nr['Aromatic'])])\n",
    "fc_12nmnrC2_std"
   ]
  },
  {
   "cell_type": "code",
   "execution_count": 48,
   "metadata": {},
   "outputs": [
    {
     "data": {
      "application/vnd.jupyter.widget-view+json": {
       "model_id": "",
       "version_major": 2,
       "version_minor": 0
      },
      "text/plain": [
       "Canvas(toolbar=Toolbar(toolitems=[('Home', 'Reset original view', 'home', 'home'), ('Back', 'Back to previous …"
      ]
     },
     "metadata": {},
     "output_type": "display_data"
    },
    {
     "data": {
      "text/plain": [
       "Text(0, 0.5, 'Fractional Contacts')"
      ]
     },
     "execution_count": 48,
     "metadata": {},
     "output_type": "execute_result"
    }
   ],
   "source": [
    "x_pos = np.arange(5)\n",
    "aa_types = [\"Negative\", \"Positive\", \"Polar\", \"Hydrophobic\", \"Aromatic\"]\n",
    "fig = plt.figure(figsize=(12,12))\n",
    "fig.canvas.layout.width = '800px'\n",
    "fig.canvas.layout.height = '700px'\n",
    "plt.bar(x_pos, fc_12nmnrC2_mean, yerr=fc_12nmnrC2_std, ecolor='black',capsize=5, color='c')\n",
    "plt.title(r'Fractional Contacts 1.2 nm Rg unrestrained, Config 2', fontsize=15)\n",
    "plt.xticks(x_pos, labels=aa_types, fontsize=12)\n",
    "plt.ylabel(r'Fractional Contacts', fontsize=15)"
   ]
  },
  {
   "cell_type": "markdown",
   "metadata": {},
   "source": [
    "### Total fraction of contacts: averages and std dev calc from 5 20ns blocks"
   ]
  },
  {
   "cell_type": "code",
   "execution_count": 49,
   "metadata": {},
   "outputs": [
    {
     "data": {
      "text/plain": [
       "0.21889117043121148"
      ]
     },
     "execution_count": 49,
     "metadata": {},
     "output_type": "execute_result"
    }
   ],
   "source": [
    "np.mean(fcnt1_2nm_C2nr['total_frac'])"
   ]
  },
  {
   "cell_type": "code",
   "execution_count": 50,
   "metadata": {},
   "outputs": [
    {
     "data": {
      "text/plain": [
       "0.025501724347039054"
      ]
     },
     "execution_count": 50,
     "metadata": {},
     "output_type": "execute_result"
    }
   ],
   "source": [
    "np.std(fcnt1_2nm_C2nr['total_frac'])"
   ]
  },
  {
   "cell_type": "markdown",
   "metadata": {},
   "source": [
    "### Avg no. PLGA residues per BSA AA residue group "
   ]
  },
  {
   "cell_type": "code",
   "execution_count": 51,
   "metadata": {},
   "outputs": [
    {
     "data": {
      "text/plain": [
       "{'Negative': array([array([31.84      ,  4.78533175]),\n",
       "        array([36.4715    ,  5.52450792]),\n",
       "        array([42.2165    ,  5.14913854]),\n",
       "        array([46.2195    ,  6.23605001]), array([44.9485  ,  5.245841])],\n",
       "       dtype=object), 'Positive': array([array([23.146     ,  4.17165243]),\n",
       "        array([32.439     ,  6.07620597]),\n",
       "        array([34.3275    ,  6.02604711]),\n",
       "        array([43.5465    ,  5.52700984]),\n",
       "        array([41.7765    ,  4.94070316])], dtype=object), 'Polar': array([array([23.819     ,  5.31923293]),\n",
       "        array([41.22      ,  9.24557191]),\n",
       "        array([39.2205    ,  6.81673527]),\n",
       "        array([46.53      ,  6.43094861]),\n",
       "        array([47.7235    ,  6.21265223])], dtype=object), 'Hydrophobic': array([array([29.1065    ,  5.49610387]),\n",
       "        array([32.9565    ,  6.45682645]),\n",
       "        array([37.04      ,  5.87855424]),\n",
       "        array([40.1055    ,  5.97163041]),\n",
       "        array([45.241     ,  7.11462712])], dtype=object), 'Aromatic': array([array([8.062     , 2.09383763]), array([11.2645   ,  2.7461864]),\n",
       "        array([14.7665    ,  3.22024498]),\n",
       "        array([15.0425    ,  3.41169954]),\n",
       "        array([10.2255    ,  2.68153869])], dtype=object)}"
      ]
     },
     "execution_count": 51,
     "metadata": {},
     "output_type": "execute_result"
    }
   ],
   "source": [
    "prgrp12nm_C2nr"
   ]
  },
  {
   "cell_type": "code",
   "execution_count": 52,
   "metadata": {},
   "outputs": [],
   "source": [
    "mean_12nm_C2nr = np.zeros(shape=5)\n",
    "std_12nm_C2nr = np.zeros(shape=5)\n",
    "count = 0\n",
    "for key, value in prgrp12nm_C2nr.items():\n",
    "    mpl_12nm_C2nr = []\n",
    "    var_12nm_C2nr = []\n",
    "    for i in prgrp12nm_C2nr[str(key)].flat:\n",
    "        mpl_12nm_C2nr.append(i[0])\n",
    "        var_12nm_C2nr.append((i[1])**2)\n",
    "    \n",
    "    # calc frac cont averages\n",
    "    mean_12nm_C2nr[count] = np.mean(mpl_12nm_C2nr)\n",
    "    \n",
    "    # calc frac cont std dev: https://stats.stackexchange.com/questions/25848/how-to-sum-a-standard-deviation \n",
    "    std_12nm_C2nr[count] = np.std(mpl_12nm_C2nr)\n",
    "    \n",
    "    count += 1\n"
   ]
  },
  {
   "cell_type": "code",
   "execution_count": 53,
   "metadata": {},
   "outputs": [
    {
     "data": {
      "text/plain": [
       "array([40.3392, 35.0471, 39.7026, 36.8899, 11.8722])"
      ]
     },
     "execution_count": 53,
     "metadata": {},
     "output_type": "execute_result"
    }
   ],
   "source": [
    "mean_12nm_C2nr"
   ]
  },
  {
   "cell_type": "code",
   "execution_count": 54,
   "metadata": {},
   "outputs": [
    {
     "data": {
      "text/plain": [
       "array([5.41374794, 7.30042212, 8.55303338, 5.58849596, 2.68426224])"
      ]
     },
     "execution_count": 54,
     "metadata": {},
     "output_type": "execute_result"
    }
   ],
   "source": [
    "std_12nm_C2nr"
   ]
  },
  {
   "cell_type": "code",
   "execution_count": 55,
   "metadata": {},
   "outputs": [
    {
     "data": {
      "application/vnd.jupyter.widget-view+json": {
       "model_id": "",
       "version_major": 2,
       "version_minor": 0
      },
      "text/plain": [
       "Canvas(toolbar=Toolbar(toolitems=[('Home', 'Reset original view', 'home', 'home'), ('Back', 'Back to previous …"
      ]
     },
     "metadata": {},
     "output_type": "display_data"
    },
    {
     "data": {
      "text/plain": [
       "Text(0, 0.5, 'No. of PLGA residues')"
      ]
     },
     "execution_count": 55,
     "metadata": {},
     "output_type": "execute_result"
    }
   ],
   "source": [
    "x_pos = np.arange(5)\n",
    "aa_types = [\"Negative\", \"Positive\", \"Polar\", \"Hydrophobic\", \"Aromatic\"]\n",
    "fig = plt.figure(figsize=(12,12))\n",
    "fig.canvas.layout.width = '800px'\n",
    "fig.canvas.layout.height = '700px'\n",
    "plt.bar(x_pos, mean_12nm_C2nr, yerr=std_12nm_C2nr, ecolor='black',capsize=5)\n",
    "plt.title(r'No. of PLGA residues 1.2 nm Rg unrestrained, Config 2', fontsize=15)\n",
    "plt.xticks(x_pos, labels=aa_types, fontsize=12)\n",
    "plt.ylabel(r'No. of PLGA residues', fontsize=15)"
   ]
  },
  {
   "cell_type": "markdown",
   "metadata": {},
   "source": [
    "### Protein/polymer contact map movie"
   ]
  },
  {
   "cell_type": "code",
   "execution_count": null,
   "metadata": {},
   "outputs": [],
   "source": [
    "fig = plt.figure(figsize=(10,10))\n",
    "\n",
    "# Set the axis and the plot titles pp\n",
    "\n",
    "plt.title(\"BSA/PLGA contact map 1.2 nm Unres\", fontsize=22, loc='left')\n",
    "plt.xlabel(\"PLGA Residue No.\", fontsize=22)\n",
    "plt.ylabel(\"BSA Residue No.\", fontsize=20)\n",
    "\n",
    " # Set the axis range \n",
    "plt.ylim(583, 0)\n",
    "plt.xlim(0, 60)\n",
    "\n",
    "# Plot bands for each chain \n",
    "BANDS = (\n",
    "    (0, 20, \"purple\", \"B\"),\n",
    "    (20, 40, \"blue\", \"C\"),\n",
    "    (40, 60, \"green\", \"D\"),\n",
    ")\n",
    "    \n",
    "text_y = 0.98 # Close to the top\n",
    "for start, stop, color, band in BANDS:\n",
    "    plt.axvspan(start, stop,color=color, alpha=0.15)\n",
    "    text_x = middle_of_band(start,stop)\n",
    "    plt.text(\n",
    "        text_x,\n",
    "        text_y,\n",
    "        \"PLGA chain \" + band,\n",
    "        color=color,\n",
    "        fontsize=18,\n",
    "        transform=fig.gca().transAxes,\n",
    "        horizontalalignment='center',\n",
    "        verticalalignment='center',\n",
    "        style='italic',\n",
    "    )\n",
    "    \n",
    "plt.text(0.94, 1, \"Time [ns]:\", fontsize=20, transform=fig.gca().transAxes, horizontalalignment='right', verticalalignment='bottom')\n",
    "\n",
    "# Set tick label size\n",
    "fig.gca().tick_params(axis='both', which='major', labelsize=20)\n",
    "\n",
    "ims = []\n",
    "for i in range(10000):\n",
    "    data = trj_pp12nm_nr[i]\n",
    "    im = plt.imshow(data, aspect='auto', cmap='Greys')\n",
    "    t_sim = plt.text(1.03, 1, str(i/100), fontsize=20, transform=fig.gca().transAxes, horizontalalignment='right', verticalalignment='bottom')\n",
    "    ims.append([im, t_sim])\n",
    "    \n",
    "ani = animation.ArtistAnimation(fig, ims, blit=True, repeat=False)\n",
    "ani.save('1.2nm_NoRes.mp4',writer='ffmpeg',fps=50, bitrate=100000)\n",
    "#plt.tight_layout()\n",
    "#plt.show()"
   ]
  },
  {
   "cell_type": "markdown",
   "metadata": {},
   "source": [
    "# 1.5 nm PLGA unrestrained Rg 100 ns trajectory"
   ]
  },
  {
   "cell_type": "markdown",
   "metadata": {},
   "source": [
    "Load the rg = 1.2 nm (3 PLGA N = 20 oligomer/BSA system)"
   ]
  },
  {
   "cell_type": "code",
   "execution_count": 56,
   "metadata": {},
   "outputs": [],
   "source": [
    "# load the unrestrained trajectory \n",
    "pn15nm_noresC2 = mda.Universe(\"../C2_bsa_n20plga_inwater/C2_plgaNoRes/1.5nmNoRes_C2/1.5nm_NoResplga.pdb\"\n",
    "                      , \"../C2_bsa_n20plga_inwater/C2_plgaNoRes/1.5nmNoRes_C2/C2plga_NoRes.xtc\")"
   ]
  },
  {
   "cell_type": "markdown",
   "metadata": {},
   "source": [
    "Check that we are on the first frame"
   ]
  },
  {
   "cell_type": "code",
   "execution_count": 57,
   "metadata": {},
   "outputs": [
    {
     "data": {
      "text/plain": [
       "0"
      ]
     },
     "execution_count": 57,
     "metadata": {},
     "output_type": "execute_result"
    }
   ],
   "source": [
    "pn15nm_noresC2.trajectory.frame"
   ]
  },
  {
   "cell_type": "code",
   "execution_count": 58,
   "metadata": {},
   "outputs": [
    {
     "data": {
      "text/plain": [
       "10001"
      ]
     },
     "execution_count": 58,
     "metadata": {},
     "output_type": "execute_result"
    }
   ],
   "source": [
    "pn20_15nrC2 = len(pn15nm_noresC2.trajectory)\n",
    "pn20_15nrC2"
   ]
  },
  {
   "cell_type": "code",
   "execution_count": 59,
   "metadata": {},
   "outputs": [
    {
     "data": {
      "text/plain": [
       "<AtomGroup with 543 atoms>"
      ]
     },
     "execution_count": 59,
     "metadata": {},
     "output_type": "execute_result"
    }
   ],
   "source": [
    "#Select all the PLGA residues, heavy atoms only \n",
    "pn20_all15nrC2 = pn15nm_noresC2.select_atoms(\"resname sPLG PLG tPLG and not type H\")\n",
    "pn20_all15nrC2"
   ]
  },
  {
   "cell_type": "code",
   "execution_count": 60,
   "metadata": {},
   "outputs": [
    {
     "data": {
      "text/plain": [
       "<AtomGroup with 4653 atoms>"
      ]
     },
     "execution_count": 60,
     "metadata": {},
     "output_type": "execute_result"
    }
   ],
   "source": [
    "# Select BSA residues, heavy atoms only \n",
    "prot15_noresC2 = pn15nm_noresC2.select_atoms(\"protein and not type H\")\n",
    "prot15_noresC2"
   ]
  },
  {
   "cell_type": "markdown",
   "metadata": {},
   "source": [
    "### Contact Analysis"
   ]
  },
  {
   "cell_type": "code",
   "execution_count": 61,
   "metadata": {},
   "outputs": [
    {
     "data": {
      "text/plain": [
       "772.9708434622735"
      ]
     },
     "execution_count": 61,
     "metadata": {},
     "output_type": "execute_result"
    }
   ],
   "source": [
    "#dmax = 4.0, protein group(4653 atoms), plga atom group (543 atoms), took 381.6 s (6 min 36s on 4 cores)\n",
    "start = 0\n",
    "end = pn20_15nrC2 - 1\n",
    "s_time15nr = timeit.default_timer()\n",
    "h2diC2_15nr = aa_frmcount(prot15_noresC2, pn20_all15nrC2, dmax, pn15nm_noresC2, start, end)\n",
    "timeit.default_timer() - s_time15nr"
   ]
  },
  {
   "cell_type": "code",
   "execution_count": 62,
   "metadata": {},
   "outputs": [
    {
     "data": {
      "text/plain": [
       "106"
      ]
     },
     "execution_count": 62,
     "metadata": {},
     "output_type": "execute_result"
    }
   ],
   "source": [
    "len(h2diC2_15nr.keys())"
   ]
  },
  {
   "cell_type": "code",
   "execution_count": 64,
   "metadata": {},
   "outputs": [
    {
     "data": {
      "text/html": [
       "<div>\n",
       "<style scoped>\n",
       "    .dataframe tbody tr th:only-of-type {\n",
       "        vertical-align: middle;\n",
       "    }\n",
       "\n",
       "    .dataframe tbody tr th {\n",
       "        vertical-align: top;\n",
       "    }\n",
       "\n",
       "    .dataframe thead th {\n",
       "        text-align: right;\n",
       "    }\n",
       "</style>\n",
       "<table border=\"1\" class=\"dataframe\">\n",
       "  <thead>\n",
       "    <tr style=\"text-align: right;\">\n",
       "      <th></th>\n",
       "      <th>BSA_des_res</th>\n",
       "      <th>mda_1.5nm_nrC2</th>\n",
       "    </tr>\n",
       "  </thead>\n",
       "  <tbody>\n",
       "    <tr>\n",
       "      <th>0</th>\n",
       "      <td>ASP 1</td>\n",
       "      <td>10000.0</td>\n",
       "    </tr>\n",
       "    <tr>\n",
       "      <th>1</th>\n",
       "      <td>THR 2</td>\n",
       "      <td>9980.0</td>\n",
       "    </tr>\n",
       "    <tr>\n",
       "      <th>2</th>\n",
       "      <td>HIS 3</td>\n",
       "      <td>9675.0</td>\n",
       "    </tr>\n",
       "    <tr>\n",
       "      <th>3</th>\n",
       "      <td>LYS 4</td>\n",
       "      <td>9890.0</td>\n",
       "    </tr>\n",
       "    <tr>\n",
       "      <th>4</th>\n",
       "      <td>SER 5</td>\n",
       "      <td>8074.0</td>\n",
       "    </tr>\n",
       "  </tbody>\n",
       "</table>\n",
       "</div>"
      ],
      "text/plain": [
       "  BSA_des_res  mda_1.5nm_nrC2\n",
       "0       ASP 1         10000.0\n",
       "1       THR 2          9980.0\n",
       "2       HIS 3          9675.0\n",
       "3       LYS 4          9890.0\n",
       "4       SER 5          8074.0"
      ]
     },
     "execution_count": 64,
     "metadata": {},
     "output_type": "execute_result"
    }
   ],
   "source": [
    "pr_15nr = list(prot15_noresC2.residues)\n",
    "ss_15nr = [str(row) for row in pr_15nr]\n",
    "rkg_15nm_nrC2 = {key:h2diC2_15nr[key][0] for key, value in h2diC2_15nr.items()}\n",
    "plgC2_1_5nm_nr = pd.DataFrame(data=ss_15nr, columns=[\"BSA_des_res\"])\n",
    "plgC2_1_5nm_nr['mda_1.5nm_nrC2'] = plgC2_1_5nm_nr['BSA_des_res'].map(rkg_15nm_nrC2)\n",
    "plgC2_1_5nm_nr['BSA_des_res'] = red_bsa\n",
    "plgC2_1_5nm_nr['mda_1.5nm_nrC2'] = plgC2_1_5nm_nr['mda_1.5nm_nrC2'].replace('nan', np.nan).fillna(0)\n",
    "plgC2_1_5nm_nr.head()"
   ]
  },
  {
   "cell_type": "code",
   "execution_count": 65,
   "metadata": {},
   "outputs": [
    {
     "data": {
      "text/html": [
       "<div>\n",
       "<style scoped>\n",
       "    .dataframe tbody tr th:only-of-type {\n",
       "        vertical-align: middle;\n",
       "    }\n",
       "\n",
       "    .dataframe tbody tr th {\n",
       "        vertical-align: top;\n",
       "    }\n",
       "\n",
       "    .dataframe thead th {\n",
       "        text-align: right;\n",
       "    }\n",
       "</style>\n",
       "<table border=\"1\" class=\"dataframe\">\n",
       "  <thead>\n",
       "    <tr style=\"text-align: right;\">\n",
       "      <th></th>\n",
       "      <th>BSA_des_res</th>\n",
       "      <th>mda_occ_1.2nm_NRC2</th>\n",
       "      <th>mda_occ_1.5nm_NRC2</th>\n",
       "    </tr>\n",
       "  </thead>\n",
       "  <tbody>\n",
       "    <tr>\n",
       "      <th>0</th>\n",
       "      <td>&lt;Residue ASP, 1&gt;</td>\n",
       "      <td>1.00</td>\n",
       "      <td>1.00</td>\n",
       "    </tr>\n",
       "    <tr>\n",
       "      <th>1</th>\n",
       "      <td>&lt;Residue THR, 2&gt;</td>\n",
       "      <td>0.99</td>\n",
       "      <td>1.00</td>\n",
       "    </tr>\n",
       "    <tr>\n",
       "      <th>2</th>\n",
       "      <td>&lt;Residue HIS, 3&gt;</td>\n",
       "      <td>0.99</td>\n",
       "      <td>0.97</td>\n",
       "    </tr>\n",
       "    <tr>\n",
       "      <th>3</th>\n",
       "      <td>&lt;Residue LYS, 4&gt;</td>\n",
       "      <td>0.99</td>\n",
       "      <td>0.99</td>\n",
       "    </tr>\n",
       "    <tr>\n",
       "      <th>4</th>\n",
       "      <td>&lt;Residue SER, 5&gt;</td>\n",
       "      <td>0.95</td>\n",
       "      <td>0.81</td>\n",
       "    </tr>\n",
       "    <tr>\n",
       "      <th>...</th>\n",
       "      <td>...</td>\n",
       "      <td>...</td>\n",
       "      <td>...</td>\n",
       "    </tr>\n",
       "    <tr>\n",
       "      <th>578</th>\n",
       "      <td>&lt;Residue GLN, 579&gt;</td>\n",
       "      <td>0.00</td>\n",
       "      <td>0.00</td>\n",
       "    </tr>\n",
       "    <tr>\n",
       "      <th>579</th>\n",
       "      <td>&lt;Residue THR, 580&gt;</td>\n",
       "      <td>0.00</td>\n",
       "      <td>0.00</td>\n",
       "    </tr>\n",
       "    <tr>\n",
       "      <th>580</th>\n",
       "      <td>&lt;Residue ALA, 581&gt;</td>\n",
       "      <td>0.00</td>\n",
       "      <td>0.00</td>\n",
       "    </tr>\n",
       "    <tr>\n",
       "      <th>581</th>\n",
       "      <td>&lt;Residue LEU, 582&gt;</td>\n",
       "      <td>0.00</td>\n",
       "      <td>0.00</td>\n",
       "    </tr>\n",
       "    <tr>\n",
       "      <th>582</th>\n",
       "      <td>&lt;Residue ALA, 583&gt;</td>\n",
       "      <td>0.00</td>\n",
       "      <td>0.00</td>\n",
       "    </tr>\n",
       "  </tbody>\n",
       "</table>\n",
       "<p>583 rows × 3 columns</p>\n",
       "</div>"
      ],
      "text/plain": [
       "            BSA_des_res  mda_occ_1.2nm_NRC2  mda_occ_1.5nm_NRC2\n",
       "0      <Residue ASP, 1>                1.00                1.00\n",
       "1      <Residue THR, 2>                0.99                1.00\n",
       "2      <Residue HIS, 3>                0.99                0.97\n",
       "3      <Residue LYS, 4>                0.99                0.99\n",
       "4      <Residue SER, 5>                0.95                0.81\n",
       "..                  ...                 ...                 ...\n",
       "578  <Residue GLN, 579>                0.00                0.00\n",
       "579  <Residue THR, 580>                0.00                0.00\n",
       "580  <Residue ALA, 581>                0.00                0.00\n",
       "581  <Residue LEU, 582>                0.00                0.00\n",
       "582  <Residue ALA, 583>                0.00                0.00\n",
       "\n",
       "[583 rows x 3 columns]"
      ]
     },
     "execution_count": 65,
     "metadata": {},
     "output_type": "execute_result"
    }
   ],
   "source": [
    "# Extract mean occupancy values\n",
    "pr_res_15ur = list(pn15nm_noresC2.residues)\n",
    "ss_res_15ur = [str(row) for row in pr_res_15ur]\n",
    "rkgC2_15ur = {key:h2diC2_15nr[key][1] for key, value in h2diC2_15nr.items()}\n",
    "plgC2_1_2nm_NRocc['mda_occ_1.5nm_NRC2'] = plgC2_1_2nm_NRocc['BSA_des_res'].map(rkgC2_15ur)\n",
    "plgC2_1_2nm_NRocc['mda_occ_1.5nm_NRC2'] = plgC2_1_2nm_NRocc['mda_occ_1.5nm_NRC2'].replace('nan', np.nan).fillna(0)\n",
    "plgC2_1_2nm_NRocc['mda_occ_1.5nm_NRC2'] = plgC2_1_2nm_NRocc['mda_occ_1.5nm_NRC2'].round(2)\n",
    "plgC2_1_2nm_NRocc"
   ]
  },
  {
   "cell_type": "code",
   "execution_count": 66,
   "metadata": {},
   "outputs": [],
   "source": [
    "bsa_15C2nr = np.array(list(prot15_noresC2.resids)) # shape is 4652\n",
    "mC2_occ_15nmNR = np.array(list(plgC2_1_2nm_NRocc['mda_occ_1.5nm_NRC2'])) # shape is 583\n",
    "mC2_occ15 = np.zeros(shape=(4653))\n",
    "at15C2_ind = np.where(bsa_15C2nr[:-1] != bsa_15C2nr[1:])[0]\n",
    "at15C2_in_nw = np.sort(np.append([0,4653],at15C2_ind))\n",
    "nw_v = 0\n",
    "for i in range(583):\n",
    "    b = at15C2_in_nw[i+1] +1\n",
    "    mC2_occ15[nw_v:b] = mC2_occ_15nmNR[i]\n",
    "    nw_v = at15C2_in_nw[i+1] + 1 "
   ]
  },
  {
   "cell_type": "code",
   "execution_count": 67,
   "metadata": {},
   "outputs": [
    {
     "data": {
      "text/plain": [
       "(array([   0,    1,    2,    3,    4,    5,    6,    7,    8,    9,   10,\n",
       "          11,   12,   13,   14,   15,   16,   17,   18,   19,   20,   21,\n",
       "          22,   23,   24,   25,   26,   27,   28,   29,   30,   31,   32,\n",
       "          33,   34,   35,   36,   37,   38,   39,   40,   41,   42,   43,\n",
       "          44,   45,   46,   47,   48,   57,   58,   59,   60,   61,   62,\n",
       "          63,   64,   65,   66,   67,   68,   69,   70,   71,   83,   84,\n",
       "          85,   86,   87,   88,   89,   90,   91,   92,   93,   94,   95,\n",
       "          96,   97,   98,   99,  100,  101,  102,  103,  104,  105,  106,\n",
       "         107,  108,  109,  110,  111,  112,  113,  114,  115,  116,  117,\n",
       "         118,  119,  120,  121,  122,  123,  124,  125,  126,  127,  128,\n",
       "         129,  130,  131,  132,  133,  134,  135,  136,  137,  138,  139,\n",
       "         140,  141,  142,  143,  144,  145,  146,  147,  148,  149,  150,\n",
       "         414,  415,  416,  417,  418,  419,  420,  421,  422,  430,  431,\n",
       "         432,  433,  434,  435,  436,  437,  438,  439,  440,  441,  442,\n",
       "         443,  444,  445,  446,  447,  456,  457,  458,  459,  460,  461,\n",
       "         462,  463,  464, 1019, 1020, 1021, 1022, 1023, 1024, 1025, 1026,\n",
       "        1027, 1028, 1029, 1030, 1031, 1032, 1033, 1034, 1035, 1036, 1037,\n",
       "        1038, 1039, 1040, 1041, 1042, 1043, 1044, 1065, 1066, 1067, 1068,\n",
       "        1069, 1070, 1071, 1072, 1073, 1074, 1075, 1076, 1077, 1078, 1286,\n",
       "        1287, 1288, 1289, 1290, 1291, 1292, 1293, 1315, 1316, 1317, 1318,\n",
       "        1319, 1320, 1321, 1322, 2090, 2091, 2092, 2093, 2094, 2095, 2096,\n",
       "        2097, 2098, 2099, 2100, 2101, 2102, 2103, 2124, 2125, 2126, 2127,\n",
       "        2128, 2129, 2130, 2131, 2132, 2133, 2134, 2135, 2136, 2137, 2146,\n",
       "        2147, 2148, 2149, 2150, 2151, 2152, 2153, 2154, 2207, 2208, 2209,\n",
       "        2210, 2211, 2212, 2213, 2214, 2215, 2231, 2232, 2233, 2234, 2235,\n",
       "        2236, 2237, 2238, 2239, 2240, 2241, 2242, 2243, 2244, 2245, 2246,\n",
       "        2247, 2248, 2249, 2250, 2251, 2252, 2253, 2254, 2255, 2256, 2257,\n",
       "        2258, 2259, 2260, 2261, 2262, 2263, 2264, 2265, 2266, 2267, 2268,\n",
       "        2269, 2270, 2271, 2272, 2273, 2274, 2275, 2276, 2286, 2287, 2288,\n",
       "        2289, 2290, 2291, 2292, 2293, 2294, 2377, 2378, 2379, 2380, 2381,\n",
       "        2382, 2383, 2384, 2385, 2386, 2387, 2388, 2389, 2390, 2391, 2392,\n",
       "        2393, 2394, 2395, 2396, 2397, 2398, 2399, 2400, 2401, 2402, 2403,\n",
       "        2404, 2405, 2406, 2407, 2408, 2409, 2410, 2411, 2412, 2413, 2414,\n",
       "        2415, 2416, 2417, 2418, 2419, 2420, 2421, 2422, 2423, 2424, 2425,\n",
       "        2426, 2427, 2428, 2429, 2430, 2431, 2432, 2433, 2434, 2435, 2436,\n",
       "        2437, 2438, 2439, 2440, 2441, 2442, 2443, 2444, 2445, 2665, 2666,\n",
       "        2667, 2668, 2669, 2670, 2671, 2672, 2673, 2674, 2675, 2676, 2683,\n",
       "        2684, 2685, 2686, 2687, 2688, 2689, 2690, 2691, 2692, 2693, 2694,\n",
       "        2695, 2696, 2697, 2698, 2699, 2700, 2701, 2702, 2703, 2704, 2705,\n",
       "        2706, 2707, 2708, 2709, 2710, 2711, 2712, 2713, 2714, 2715, 2716,\n",
       "        2717, 2718, 2719, 2720, 2721, 2722, 2723, 2724, 2725, 2726, 2727,\n",
       "        2728, 2729, 2730, 2731, 2732, 2733, 2734, 2735, 2736, 2737, 2738,\n",
       "        2739, 2740, 2741, 2742, 2987, 2988, 2989, 2990, 2991, 2992, 2993,\n",
       "        2994, 2995, 2996, 2997, 3023, 3024, 3025, 3026, 3027, 3028, 3029,\n",
       "        3030, 3031, 3032, 3033, 3034, 3035, 3036, 3037, 3038, 3039, 3040,\n",
       "        3041, 3050, 3051, 3052, 3053, 3054, 3055, 3056, 3057, 3058, 3059,\n",
       "        3060, 3061, 3062, 3063, 3064, 3065, 3066, 3067, 3068, 3069, 3070,\n",
       "        3071, 3072, 3073, 3081, 3082, 3083, 3084, 3085, 3086, 3087, 3088,\n",
       "        3089, 3090, 3091, 3092, 3093, 3094, 3095, 3096, 3097, 3098, 3099,\n",
       "        3100, 3101, 3102, 3103, 3104, 3105, 3106, 3107, 3108, 3109, 3110,\n",
       "        3111, 3112, 3113, 3114, 3115, 3116, 3117, 3118, 3119, 3120, 3121,\n",
       "        3122, 3123, 3124, 3125, 3126, 3127, 3128, 3129, 3130, 3131, 3140,\n",
       "        3141, 3142, 3143, 3144, 3145, 3146, 3147, 3148, 3149, 3150, 3151,\n",
       "        3152, 3153, 3154, 3155, 3156, 3157, 3158, 3159, 3160, 3161, 3162,\n",
       "        3174, 3175, 3176, 3177, 3178, 3179, 3180, 3181, 3182, 3183, 3184,\n",
       "        3185, 3186, 3187, 3188, 3189, 3190, 3191, 3285, 3286, 3287, 3288,\n",
       "        3289, 3290, 3291, 3292, 3293, 3294, 3295, 3326, 3327, 3328, 3329,\n",
       "        3330, 3331, 3332, 3333, 3334, 3531, 3532, 3533, 3534, 3535, 3536,\n",
       "        3537, 3538, 3539, 3540, 3541, 3542, 3543, 3544, 3545, 3546, 3547,\n",
       "        3548, 3549, 3550, 3551, 3552, 3553, 3554, 3555, 3556, 3557, 3558,\n",
       "        3559, 3560, 3561, 3562, 3563, 3564, 3565, 3566, 3567, 3568, 3569,\n",
       "        3570, 3571, 3572, 3573, 3574, 3575, 3576, 3577, 3578, 3579, 3580,\n",
       "        3873, 3874, 3875, 3876, 3877, 3878, 3879, 3880, 3881, 3882, 3883,\n",
       "        3884, 3885, 3886, 3887, 3888, 3889, 3890, 3908, 3909, 3910, 3911,\n",
       "        3912, 3913, 3914, 3915, 3916, 3917, 3918, 3919, 3920, 3921, 3922,\n",
       "        3923, 3924, 3925, 3926, 3927, 3928, 3929, 3930, 3931, 3932, 3933,\n",
       "        3934, 3935, 3936, 3937, 3938, 3939, 3940]),)"
      ]
     },
     "execution_count": 67,
     "metadata": {},
     "output_type": "execute_result"
    }
   ],
   "source": [
    "np.nonzero(mC2_occ15)"
   ]
  },
  {
   "cell_type": "markdown",
   "metadata": {},
   "source": [
    "### Visualize Occupanct on protein "
   ]
  },
  {
   "cell_type": "code",
   "execution_count": 68,
   "metadata": {},
   "outputs": [
    {
     "data": {
      "text/plain": [
       "array([1., 1., 1., ..., 0., 0., 0.])"
      ]
     },
     "execution_count": 68,
     "metadata": {},
     "output_type": "execute_result"
    }
   ],
   "source": [
    "prot15_noresC2.occupancies = mC2_occ15\n",
    "prot15_noresC2.occupancies"
   ]
  },
  {
   "cell_type": "code",
   "execution_count": 69,
   "metadata": {},
   "outputs": [],
   "source": [
    "with mda.Writer(\"prot_15nm_noresC2.pdb\") as pdb:\n",
    "    pdb.write(prot15_noresC2)"
   ]
  },
  {
   "cell_type": "markdown",
   "metadata": {},
   "source": [
    "### Residue Importance: 1.5 nm Unrestrained C2"
   ]
  },
  {
   "cell_type": "code",
   "execution_count": 70,
   "metadata": {},
   "outputs": [],
   "source": [
    "trj_ppmap15nmC2_nr = prot_poly_cntmovie(prot15_noresC2, pn20_all15nrC2, dmax, pn15nm_noresC2, 0, 10000)\n",
    "#trj_ppmap_12nm_chC = prot_poly_cntmovie(prot, all_pn20_C, dmax, u_pn20, 0, 10000)"
   ]
  },
  {
   "cell_type": "code",
   "execution_count": 71,
   "metadata": {},
   "outputs": [],
   "source": [
    "np.save('1.5nmPLGA_NoResC2.npy', trj_ppmap15nmC2_nr)    # .npy extension is added if not given"
   ]
  },
  {
   "cell_type": "code",
   "execution_count": null,
   "metadata": {},
   "outputs": [],
   "source": [
    "trj_ppmap15nm_nr = np.load('1.5nm_NoRes.npy', allow_pickle=True)"
   ]
  },
  {
   "cell_type": "code",
   "execution_count": 72,
   "metadata": {},
   "outputs": [
    {
     "data": {
      "text/plain": [
       "(583, 60)"
      ]
     },
     "execution_count": 72,
     "metadata": {},
     "output_type": "execute_result"
    }
   ],
   "source": [
    "trj_ppmap15nmC2_nr[0].shape"
   ]
  },
  {
   "cell_type": "code",
   "execution_count": 73,
   "metadata": {},
   "outputs": [
    {
     "data": {
      "text/plain": [
       "4.0"
      ]
     },
     "execution_count": 73,
     "metadata": {},
     "output_type": "execute_result"
    }
   ],
   "source": [
    "np.sum(trj_ppmap15nmC2_nr[1000][0])"
   ]
  },
  {
   "cell_type": "code",
   "execution_count": 74,
   "metadata": {},
   "outputs": [
    {
     "data": {
      "text/plain": [
       "(10000,)"
      ]
     },
     "execution_count": 74,
     "metadata": {},
     "output_type": "execute_result"
    }
   ],
   "source": [
    "kj = np.zeros(shape=(10000, 583))\n",
    "kj[:,582].shape"
   ]
  },
  {
   "cell_type": "code",
   "execution_count": 75,
   "metadata": {},
   "outputs": [],
   "source": [
    "ppC2_15nmNR_ct = np.zeros(shape=(10000, 583))\n",
    "for i in range(10000):\n",
    "    for j in range(583):\n",
    "        ppC2_15nmNR_ct[i][j] = np.sum(trj_ppmap15nmC2_nr[i][j])"
   ]
  },
  {
   "cell_type": "code",
   "execution_count": 76,
   "metadata": {},
   "outputs": [],
   "source": [
    "ppC2_15nmNRtot = np.zeros(shape=(583))\n",
    "for i in range(583):\n",
    "    ppC2_15nmNRtot[i] = np.sum(ppC2_15nmNR_ct[:,i])\n",
    "#pp_12nmtot"
   ]
  },
  {
   "cell_type": "code",
   "execution_count": 77,
   "metadata": {},
   "outputs": [
    {
     "data": {
      "text/plain": [
       "(array([  0,   1,   2,   3,   4,   5,   7,   8,  10,  11,  12,  13,  14,\n",
       "         15,  16,  17,  19,  50,  52,  53,  54,  55,  56, 128, 129, 130,\n",
       "        131, 133, 157, 160, 164, 259, 260, 263, 264, 266, 267, 274, 277,\n",
       "        278, 279, 280, 281, 282, 283, 284, 293, 296, 297, 298, 299, 300,\n",
       "        301, 302, 303, 304, 332, 334, 335, 336, 337, 338, 339, 344, 347,\n",
       "        372, 373, 375, 376, 377, 379, 380, 381, 383, 384, 385, 386, 387,\n",
       "        388, 390, 391, 392, 394, 395, 396, 408, 409, 411, 412, 436, 439,\n",
       "        440, 441, 442, 443, 444, 445, 483, 484, 486, 487, 488, 489, 490,\n",
       "        491, 539]),)"
      ]
     },
     "execution_count": 77,
     "metadata": {},
     "output_type": "execute_result"
    }
   ],
   "source": [
    "np.nonzero(ppC2_15nmNRtot)"
   ]
  },
  {
   "cell_type": "code",
   "execution_count": null,
   "metadata": {},
   "outputs": [],
   "source": [
    "plt.close('all')"
   ]
  },
  {
   "cell_type": "code",
   "execution_count": 78,
   "metadata": {},
   "outputs": [
    {
     "data": {
      "application/vnd.jupyter.widget-view+json": {
       "model_id": "",
       "version_major": 2,
       "version_minor": 0
      },
      "text/plain": [
       "Canvas(toolbar=Toolbar(toolitems=[('Home', 'Reset original view', 'home', 'home'), ('Back', 'Back to previous …"
      ]
     },
     "metadata": {},
     "output_type": "display_data"
    },
    {
     "data": {
      "text/plain": [
       "Text(0.5, 0, 'BSA Residue ID')"
      ]
     },
     "execution_count": 78,
     "metadata": {},
     "output_type": "execute_result"
    }
   ],
   "source": [
    "y_pos = np.arange(583) + 1\n",
    "wid = np.zeros(shape=583)\n",
    "wid += 1.5\n",
    "#wid\n",
    "fig = plt.figure(figsize=(12,12))\n",
    "fig.canvas.layout.width = '800px'\n",
    "fig.canvas.layout.height = '700px'\n",
    "#plt.bar(y_pos, pp_12nmtot_nr/np.sum(pp_12nmtot_nr), align='center',width=wid, alpha=0.4, color='#0371EC',label='1.2 nm PLGA')\n",
    "plt.bar(y_pos+0.25, ppC2_15nmNRtot/np.sum(ppC2_15nmNRtot), align='center',width=wid, color='#562A8B', alpha=0.4, label='1.5 nm PLGA')\n",
    "#plt.bar(y_pos, pp_12nmtot_nr/np.sum(pp_12nmtot_nr), align='center',width=wid, alpha=0.4, color='#562A8B',label='1.2 nm PLGA')\n",
    "plt.title(\"BSA in water with PLGA unrestrained, 100 ns, Config 2\", fontsize=18)\n",
    "plt.xticks(fontsize=14)\n",
    "plt.yticks(fontsize=14)\n",
    "plt.xlim([0,600])\n",
    "plt.ylim([0,0.2])\n",
    "plt.legend(fontsize=14)\n",
    "plt.ylabel(r'Normalized Total No. of PLGA contacts', fontsize=15)\n",
    "plt.xlabel(r'BSA Residue ID', fontsize=15)"
   ]
  },
  {
   "cell_type": "markdown",
   "metadata": {},
   "source": [
    "### Total number of residues that are within 4 angstroms of a PLGA oligomer residue within a 100 ns trajectory block"
   ]
  },
  {
   "cell_type": "code",
   "execution_count": 80,
   "metadata": {},
   "outputs": [
    {
     "data": {
      "text/html": [
       "<div>\n",
       "<style scoped>\n",
       "    .dataframe tbody tr th:only-of-type {\n",
       "        vertical-align: middle;\n",
       "    }\n",
       "\n",
       "    .dataframe tbody tr th {\n",
       "        vertical-align: top;\n",
       "    }\n",
       "\n",
       "    .dataframe thead th {\n",
       "        text-align: right;\n",
       "    }\n",
       "</style>\n",
       "<table border=\"1\" class=\"dataframe\">\n",
       "  <thead>\n",
       "    <tr style=\"text-align: right;\">\n",
       "      <th></th>\n",
       "      <th>Amino_acids</th>\n",
       "      <th>No_of_surf_res (MDAnalysis)</th>\n",
       "      <th>No_of_surf_res (VMD)</th>\n",
       "      <th>plgaC2_1.2nm_100ns_NR</th>\n",
       "      <th>plgaC2_1.5nm_100ns_NR</th>\n",
       "    </tr>\n",
       "  </thead>\n",
       "  <tbody>\n",
       "    <tr>\n",
       "      <th>0</th>\n",
       "      <td>LYS</td>\n",
       "      <td>59</td>\n",
       "      <td>59</td>\n",
       "      <td>25</td>\n",
       "      <td>15</td>\n",
       "    </tr>\n",
       "    <tr>\n",
       "      <th>1</th>\n",
       "      <td>ARG</td>\n",
       "      <td>23</td>\n",
       "      <td>23</td>\n",
       "      <td>3</td>\n",
       "      <td>6</td>\n",
       "    </tr>\n",
       "    <tr>\n",
       "      <th>2</th>\n",
       "      <td>HIS</td>\n",
       "      <td>16</td>\n",
       "      <td>16</td>\n",
       "      <td>5</td>\n",
       "      <td>5</td>\n",
       "    </tr>\n",
       "    <tr>\n",
       "      <th>3</th>\n",
       "      <td>ASP</td>\n",
       "      <td>40</td>\n",
       "      <td>40</td>\n",
       "      <td>11</td>\n",
       "      <td>10</td>\n",
       "    </tr>\n",
       "    <tr>\n",
       "      <th>4</th>\n",
       "      <td>GLU</td>\n",
       "      <td>59</td>\n",
       "      <td>59</td>\n",
       "      <td>21</td>\n",
       "      <td>13</td>\n",
       "    </tr>\n",
       "    <tr>\n",
       "      <th>5</th>\n",
       "      <td>SER</td>\n",
       "      <td>23</td>\n",
       "      <td>23</td>\n",
       "      <td>5</td>\n",
       "      <td>3</td>\n",
       "    </tr>\n",
       "    <tr>\n",
       "      <th>6</th>\n",
       "      <td>THR</td>\n",
       "      <td>29</td>\n",
       "      <td>29</td>\n",
       "      <td>8</td>\n",
       "      <td>3</td>\n",
       "    </tr>\n",
       "    <tr>\n",
       "      <th>7</th>\n",
       "      <td>CYS</td>\n",
       "      <td>24</td>\n",
       "      <td>24</td>\n",
       "      <td>12</td>\n",
       "      <td>5</td>\n",
       "    </tr>\n",
       "    <tr>\n",
       "      <th>8</th>\n",
       "      <td>TYR</td>\n",
       "      <td>19</td>\n",
       "      <td>19</td>\n",
       "      <td>2</td>\n",
       "      <td>3</td>\n",
       "    </tr>\n",
       "    <tr>\n",
       "      <th>9</th>\n",
       "      <td>ASN</td>\n",
       "      <td>14</td>\n",
       "      <td>14</td>\n",
       "      <td>6</td>\n",
       "      <td>4</td>\n",
       "    </tr>\n",
       "    <tr>\n",
       "      <th>10</th>\n",
       "      <td>GLN</td>\n",
       "      <td>19</td>\n",
       "      <td>19</td>\n",
       "      <td>6</td>\n",
       "      <td>5</td>\n",
       "    </tr>\n",
       "    <tr>\n",
       "      <th>11</th>\n",
       "      <td>GLY</td>\n",
       "      <td>11</td>\n",
       "      <td>11</td>\n",
       "      <td>4</td>\n",
       "      <td>1</td>\n",
       "    </tr>\n",
       "    <tr>\n",
       "      <th>12</th>\n",
       "      <td>ALA</td>\n",
       "      <td>39</td>\n",
       "      <td>38</td>\n",
       "      <td>13</td>\n",
       "      <td>4</td>\n",
       "    </tr>\n",
       "    <tr>\n",
       "      <th>13</th>\n",
       "      <td>VAL</td>\n",
       "      <td>19</td>\n",
       "      <td>19</td>\n",
       "      <td>5</td>\n",
       "      <td>2</td>\n",
       "    </tr>\n",
       "    <tr>\n",
       "      <th>14</th>\n",
       "      <td>LEU</td>\n",
       "      <td>34</td>\n",
       "      <td>34</td>\n",
       "      <td>14</td>\n",
       "      <td>11</td>\n",
       "    </tr>\n",
       "    <tr>\n",
       "      <th>15</th>\n",
       "      <td>ILE</td>\n",
       "      <td>7</td>\n",
       "      <td>7</td>\n",
       "      <td>0</td>\n",
       "      <td>2</td>\n",
       "    </tr>\n",
       "    <tr>\n",
       "      <th>16</th>\n",
       "      <td>MET</td>\n",
       "      <td>3</td>\n",
       "      <td>3</td>\n",
       "      <td>1</td>\n",
       "      <td>1</td>\n",
       "    </tr>\n",
       "    <tr>\n",
       "      <th>17</th>\n",
       "      <td>PHE</td>\n",
       "      <td>20</td>\n",
       "      <td>20</td>\n",
       "      <td>4</td>\n",
       "      <td>3</td>\n",
       "    </tr>\n",
       "    <tr>\n",
       "      <th>18</th>\n",
       "      <td>TRP</td>\n",
       "      <td>2</td>\n",
       "      <td>2</td>\n",
       "      <td>1</td>\n",
       "      <td>1</td>\n",
       "    </tr>\n",
       "    <tr>\n",
       "      <th>19</th>\n",
       "      <td>PRO</td>\n",
       "      <td>27</td>\n",
       "      <td>27</td>\n",
       "      <td>5</td>\n",
       "      <td>9</td>\n",
       "    </tr>\n",
       "  </tbody>\n",
       "</table>\n",
       "</div>"
      ],
      "text/plain": [
       "   Amino_acids  No_of_surf_res (MDAnalysis)  No_of_surf_res (VMD)  \\\n",
       "0          LYS                           59                    59   \n",
       "1          ARG                           23                    23   \n",
       "2          HIS                           16                    16   \n",
       "3          ASP                           40                    40   \n",
       "4          GLU                           59                    59   \n",
       "5          SER                           23                    23   \n",
       "6          THR                           29                    29   \n",
       "7          CYS                           24                    24   \n",
       "8          TYR                           19                    19   \n",
       "9          ASN                           14                    14   \n",
       "10         GLN                           19                    19   \n",
       "11         GLY                           11                    11   \n",
       "12         ALA                           39                    38   \n",
       "13         VAL                           19                    19   \n",
       "14         LEU                           34                    34   \n",
       "15         ILE                            7                     7   \n",
       "16         MET                            3                     3   \n",
       "17         PHE                           20                    20   \n",
       "18         TRP                            2                     2   \n",
       "19         PRO                           27                    27   \n",
       "\n",
       "    plgaC2_1.2nm_100ns_NR  plgaC2_1.5nm_100ns_NR  \n",
       "0                      25                     15  \n",
       "1                       3                      6  \n",
       "2                       5                      5  \n",
       "3                      11                     10  \n",
       "4                      21                     13  \n",
       "5                       5                      3  \n",
       "6                       8                      3  \n",
       "7                      12                      5  \n",
       "8                       2                      3  \n",
       "9                       6                      4  \n",
       "10                      6                      5  \n",
       "11                      4                      1  \n",
       "12                     13                      4  \n",
       "13                      5                      2  \n",
       "14                     14                     11  \n",
       "15                      0                      2  \n",
       "16                      1                      1  \n",
       "17                      4                      3  \n",
       "18                      1                      1  \n",
       "19                      5                      9  "
      ]
     },
     "execution_count": 80,
     "metadata": {},
     "output_type": "execute_result"
    }
   ],
   "source": [
    "aplC2_15nm_nr = []\n",
    "\n",
    "# Some residues don't have any contact with the 3 N = 20 PLGA oligomers within 100 ns,\n",
    "# Put residues that do have contact with BSA in a separate list\n",
    "for index, r_pl in plgC2_1_5nm_nr.iterrows():\n",
    "    if r_pl['mda_1.5nm_nrC2'] != 0:\n",
    "        aplC2_15nm_nr.append(r_pl['BSA_des_res'])\n",
    "        \n",
    "# This chunk of code gets an AA count from the above list, in order \n",
    "# to get a total number of residues that contact BSA\n",
    "cplC2_15nm_nr = []\n",
    "\n",
    "for index, r_a in aa_count.iterrows():\n",
    "    count = 0\n",
    "    for i in range(len(aplC2_15nm_nr)):\n",
    "        if r_a['Amino_acids'] in aplC2_15nm_nr[i]:\n",
    "            count += 1\n",
    "    cplC2_15nm_nr.append(count)      \n",
    "        \n",
    "aa_count['plgaC2_1.5nm_100ns_NR'] = cplC2_15nm_nr\n",
    "#aa_count.drop('No_of_surf_res (VMD)', axis=1, inplace=True)\n",
    "aa_count"
   ]
  },
  {
   "cell_type": "code",
   "execution_count": 81,
   "metadata": {},
   "outputs": [
    {
     "data": {
      "text/plain": [
       "106"
      ]
     },
     "execution_count": 81,
     "metadata": {},
     "output_type": "execute_result"
    }
   ],
   "source": [
    "# This gives the total number of residues that are within 4 angstroms of a PLGA oligomer residue\n",
    "# within a 100 ns trajectory block\n",
    "aa_count['plgaC2_1.5nm_100ns_NR'].sum()"
   ]
  },
  {
   "cell_type": "code",
   "execution_count": 82,
   "metadata": {},
   "outputs": [
    {
     "data": {
      "text/plain": [
       "487"
      ]
     },
     "execution_count": 82,
     "metadata": {},
     "output_type": "execute_result"
    }
   ],
   "source": [
    "# This gives the total number of residues that are within 4 angstroms of a water molecule\n",
    "# within a 1 ns trajectory block\n",
    "aa_count['No_of_surf_res (MDAnalysis)'].sum()"
   ]
  },
  {
   "cell_type": "code",
   "execution_count": 83,
   "metadata": {},
   "outputs": [
    {
     "data": {
      "text/plain": [
       "0.21765913757700206"
      ]
     },
     "execution_count": 83,
     "metadata": {},
     "output_type": "execute_result"
    }
   ],
   "source": [
    "# This gives the total fraction of contacts within the 1.2 nm Rg 100 ns trajectory\n",
    "aa_count['plgaC2_1.5nm_100ns_NR'].sum()/aa_count['No_of_surf_res (MDAnalysis)'].sum()"
   ]
  },
  {
   "cell_type": "code",
   "execution_count": 84,
   "metadata": {},
   "outputs": [
    {
     "name": "stdout",
     "output_type": "stream",
     "text": [
      "Mean Occpancy (1.5 nm Rg Unrestrained): 0.40043490566037737 Occ. std. dev.: 0.3950122185935502\n"
     ]
    }
   ],
   "source": [
    "# Mean occupancy and std deviation \n",
    "ll_mo15_nr = [value[1] for key, value in h2diC2_15nr.items()]\n",
    "print(\"Mean Occpancy (1.5 nm Rg Unrestrained): \"+str(np.mean(ll_mo15_nr)), \"Occ. std. dev.: \"+str(np.std(ll_mo15_nr)))"
   ]
  },
  {
   "cell_type": "code",
   "execution_count": 85,
   "metadata": {},
   "outputs": [
    {
     "data": {
      "text/plain": [
       "{'Negative': [88396.0, 23, 407390.2608695652, 0.17502027830217248],\n",
       " 'Positive': [118599.0, 26, 483519.0, 0.2077261978815023],\n",
       " 'Polar': [107827.0, 23, 496941.8260869565, 0.2134928226219326],\n",
       " 'Hydrophobic': [109639.0, 34, 341815.70588235295, 0.14684857670354842],\n",
       " 'Aromatic': [67699.0, 12, 598007.8333333334, 0.2569121244908441]}"
      ]
     },
     "execution_count": 85,
     "metadata": {},
     "output_type": "execute_result"
    }
   ],
   "source": [
    "cd_15nr = frac_cont(h2diC2_15nr)\n",
    "cd_15nr"
   ]
  },
  {
   "cell_type": "markdown",
   "metadata": {},
   "source": [
    "### Calc. fractional contacts for each AA group type "
   ]
  },
  {
   "cell_type": "code",
   "execution_count": 86,
   "metadata": {},
   "outputs": [
    {
     "name": "stdout",
     "output_type": "stream",
     "text": [
      "0\n",
      "2000\n",
      "2000\n",
      "4000\n",
      "4000\n",
      "6000\n",
      "6000\n",
      "8000\n",
      "8000\n",
      "10000\n"
     ]
    }
   ],
   "source": [
    "fcntrg1_5nmC2_nr, prgrp1_5nmC2_nr, aamatx_15nmC2_nr = bavg_frac_cnt(5, prot15_noresC2, pn20_all15nrC2, dmax,\n",
    "                                                        pn15nm_noresC2, no_surf, 0, 10000)"
   ]
  },
  {
   "cell_type": "code",
   "execution_count": 87,
   "metadata": {},
   "outputs": [
    {
     "data": {
      "text/plain": [
       "{'Negative': array([0.20659401, 0.16341879, 0.18081786, 0.1612494 , 0.15671605]),\n",
       " 'Positive': array([0.2304329 , 0.17606894, 0.21554762, 0.19410702, 0.18304269]),\n",
       " 'Polar': array([0.20387499, 0.216717  , 0.20983534, 0.20707696, 0.17109373]),\n",
       " 'Hydrophobic': array([0.14539661, 0.17467522, 0.14669947, 0.17962185, 0.21540316]),\n",
       " 'Aromatic': array([0.21370149, 0.26912005, 0.2470997 , 0.25794477, 0.27374437]),\n",
       " 'total_frac': array([0.18480493, 0.17453799, 0.18480493, 0.15400411, 0.14373717])}"
      ]
     },
     "execution_count": 87,
     "metadata": {},
     "output_type": "execute_result"
    }
   ],
   "source": [
    "fcntrg1_5nmC2_nr"
   ]
  },
  {
   "cell_type": "code",
   "execution_count": 88,
   "metadata": {},
   "outputs": [
    {
     "data": {
      "text/plain": [
       "array([0.17375922, 0.19983984, 0.2017196 , 0.17235926, 0.25232208])"
      ]
     },
     "execution_count": 88,
     "metadata": {},
     "output_type": "execute_result"
    }
   ],
   "source": [
    "fc15nmC2_mean_nr = np.array([np.mean(fcntrg1_5nmC2_nr['Negative']), np.mean(fcntrg1_5nmC2_nr['Positive'])\n",
    "                        ,np.mean(fcntrg1_5nmC2_nr['Polar']),np.mean(fcntrg1_5nmC2_nr['Hydrophobic'])\n",
    "                        , np.mean(fcntrg1_5nmC2_nr['Aromatic'])])\n",
    "fc15nmC2_mean_nr"
   ]
  },
  {
   "cell_type": "code",
   "execution_count": 89,
   "metadata": {},
   "outputs": [
    {
     "data": {
      "text/plain": [
       "array([0.01834032, 0.02031125, 0.0158876 , 0.02567604, 0.02140805])"
      ]
     },
     "execution_count": 89,
     "metadata": {},
     "output_type": "execute_result"
    }
   ],
   "source": [
    "fc15nmC2_std_nr = np.array([np.std(fcntrg1_5nmC2_nr['Negative']), np.std(fcntrg1_5nmC2_nr['Positive'])\n",
    "                       ,np.std(fcntrg1_5nmC2_nr['Polar']),np.std(fcntrg1_5nmC2_nr['Hydrophobic'])\n",
    "                       , np.std(fcntrg1_5nmC2_nr['Aromatic'])])\n",
    "fc15nmC2_std_nr"
   ]
  },
  {
   "cell_type": "code",
   "execution_count": 90,
   "metadata": {},
   "outputs": [
    {
     "data": {
      "application/vnd.jupyter.widget-view+json": {
       "model_id": "",
       "version_major": 2,
       "version_minor": 0
      },
      "text/plain": [
       "Canvas(toolbar=Toolbar(toolitems=[('Home', 'Reset original view', 'home', 'home'), ('Back', 'Back to previous …"
      ]
     },
     "metadata": {},
     "output_type": "display_data"
    },
    {
     "data": {
      "text/plain": [
       "Text(0, 0.5, 'Fractional Contacts')"
      ]
     },
     "execution_count": 90,
     "metadata": {},
     "output_type": "execute_result"
    }
   ],
   "source": [
    "x_pos = np.arange(5)\n",
    "width = 0.35\n",
    "aa_types = [\"Negative\", \"Positive\", \"Polar\", \"Hydrophobic\", \"Aromatic\"]\n",
    "fig = plt.figure(figsize=(12,12))\n",
    "fig.canvas.layout.width = '500px'\n",
    "fig.canvas.layout.height = '400px'\n",
    "plt.bar(x_pos, fc_12nmnrC2_mean, width, yerr=fc_12nmnrC2_std, ecolor='black',capsize=5, color='royalblue')\n",
    "plt.bar(x_pos+width, fc15nmC2_mean_nr, width, yerr=fc15nmC2_std_nr, ecolor='black',capsize=5, color='c')\n",
    "plt.title(r'Fractional Contacts Rg unrestrained', fontsize=15)\n",
    "plt.xticks(x_pos+width/2, labels=aa_types, fontsize=12)\n",
    "plt.legend(['Rg = 1.2 nm', 'Rg = 1.5 nm'], frameon=False)\n",
    "plt.ylabel(r'Fractional Contacts', fontsize=15)"
   ]
  },
  {
   "cell_type": "markdown",
   "metadata": {},
   "source": [
    "### Total fraction of contacts: averages and std dev calc from 5 20ns blocks"
   ]
  },
  {
   "cell_type": "code",
   "execution_count": 91,
   "metadata": {},
   "outputs": [
    {
     "data": {
      "text/plain": [
       "0.16837782340862423"
      ]
     },
     "execution_count": 91,
     "metadata": {},
     "output_type": "execute_result"
    }
   ],
   "source": [
    "np.mean(fcntrg1_5nmC2_nr['total_frac'])"
   ]
  },
  {
   "cell_type": "code",
   "execution_count": 92,
   "metadata": {},
   "outputs": [
    {
     "data": {
      "text/plain": [
       "0.016681803705617986"
      ]
     },
     "execution_count": 92,
     "metadata": {},
     "output_type": "execute_result"
    }
   ],
   "source": [
    "np.std(fcntrg1_5nmC2_nr['total_frac'])"
   ]
  },
  {
   "cell_type": "code",
   "execution_count": null,
   "metadata": {},
   "outputs": [],
   "source": []
  },
  {
   "cell_type": "markdown",
   "metadata": {},
   "source": [
    "### Avg no. PLGA residues per BSA AA residue group "
   ]
  },
  {
   "cell_type": "code",
   "execution_count": 93,
   "metadata": {},
   "outputs": [
    {
     "data": {
      "text/plain": [
       "{'Negative': array([array([25.175     ,  3.39976102]),\n",
       "        array([24.2115    ,  3.30102526]),\n",
       "        array([24.1165    ,  3.10965074]),\n",
       "        array([20.4885    ,  2.95936949]),\n",
       "        array([20.6875    ,  3.02784474])], dtype=object),\n",
       " 'Positive': array([array([42.2895    ,  6.33961274]), array([41.9745   ,  5.5297242]),\n",
       "        array([42.358     ,  5.79550136]),\n",
       "        array([40.09      ,  5.29319374]),\n",
       "        array([35.6485    ,  4.27749316])], dtype=object),\n",
       " 'Polar': array([array([32.5285   ,  5.1803656]), array([36.3645    ,  4.67189894]),\n",
       "        array([38.255     ,  4.69190526]),\n",
       "        array([32.8485    ,  6.16608042]), array([25.497   ,  5.775378])],\n",
       "       dtype=object),\n",
       " 'Hydrophobic': array([array([24.412     ,  4.77715983]),\n",
       "        array([23.9185    ,  3.73307618]), array([24.275    ,  4.5443784]),\n",
       "        array([19.9505    ,  3.71053227]),\n",
       "        array([23.607     ,  3.82786507])], dtype=object),\n",
       " 'Aromatic': array([array([19.5855    ,  4.09886445]),\n",
       "        array([21.8425    ,  3.52940416]),\n",
       "        array([20.7025    ,  3.82687781]),\n",
       "        array([20.1395    ,  3.46901135]),\n",
       "        array([20.432     ,  3.23857623])], dtype=object)}"
      ]
     },
     "execution_count": 93,
     "metadata": {},
     "output_type": "execute_result"
    }
   ],
   "source": [
    "prgrp1_5nmC2_nr"
   ]
  },
  {
   "cell_type": "code",
   "execution_count": 94,
   "metadata": {},
   "outputs": [],
   "source": [
    "mean_15nmC2_nr = np.zeros(shape=5)\n",
    "std_15nmC2_nr = np.zeros(shape=5)\n",
    "count = 0\n",
    "for key, value in prgrp1_5nmC2_nr.items():\n",
    "    mpl_15nmC2_nr = []\n",
    "    var_15nmC2_nr = []\n",
    "    for i in prgrp1_5nmC2_nr[str(key)].flat:\n",
    "        mpl_15nmC2_nr.append(i[0])\n",
    "        var_15nmC2_nr.append((i[1])**2)\n",
    "    \n",
    "    # calc frac cont averages\n",
    "    mean_15nmC2_nr[count] = np.mean(mpl_15nmC2_nr)\n",
    "    \n",
    "    # calc frac cont std dev: https://stats.stackexchange.com/questions/25848/how-to-sum-a-standard-deviation \n",
    "    std_15nmC2_nr[count] = np.std(mpl_15nmC2_nr)\n",
    "    #std_15nm_nr[count] = np.sqrt(np.sum(var_15nm_nr)/5)\n",
    "    \n",
    "    count += 1\n"
   ]
  },
  {
   "cell_type": "code",
   "execution_count": 95,
   "metadata": {},
   "outputs": [
    {
     "data": {
      "text/plain": [
       "array([22.9358, 40.4721, 33.0987, 23.2326, 20.5404])"
      ]
     },
     "execution_count": 95,
     "metadata": {},
     "output_type": "execute_result"
    }
   ],
   "source": [
    "mean_15nmC2_nr"
   ]
  },
  {
   "cell_type": "code",
   "execution_count": 96,
   "metadata": {},
   "outputs": [
    {
     "data": {
      "text/plain": [
       "array([1.9534385 , 2.55068166, 4.36867143, 1.66495626, 0.749139  ])"
      ]
     },
     "execution_count": 96,
     "metadata": {},
     "output_type": "execute_result"
    }
   ],
   "source": [
    "std_15nmC2_nr"
   ]
  },
  {
   "cell_type": "code",
   "execution_count": 97,
   "metadata": {},
   "outputs": [
    {
     "data": {
      "application/vnd.jupyter.widget-view+json": {
       "model_id": "",
       "version_major": 2,
       "version_minor": 0
      },
      "text/plain": [
       "Canvas(toolbar=Toolbar(toolitems=[('Home', 'Reset original view', 'home', 'home'), ('Back', 'Back to previous …"
      ]
     },
     "metadata": {},
     "output_type": "display_data"
    },
    {
     "data": {
      "text/plain": [
       "Text(0, 0.5, 'No. of PLGA residues')"
      ]
     },
     "execution_count": 97,
     "metadata": {},
     "output_type": "execute_result"
    }
   ],
   "source": [
    "x_pos = np.arange(5)\n",
    "width = 0.35\n",
    "aa_types = [\"Negative\", \"Positive\", \"Polar\", \"Hydrophobic\", \"Aromatic\"]\n",
    "fig = plt.figure(figsize=(12,12))\n",
    "fig.canvas.layout.width = '500px'\n",
    "fig.canvas.layout.height = '400px'\n",
    "plt.bar(x_pos, mean_12nm_C2nr, width, yerr=std_12nm_C2nr, ecolor='black',capsize=5, color='green')\n",
    "plt.bar(x_pos+width, mean_15nmC2_nr, width, yerr=std_15nmC2_nr, ecolor='black',capsize=5, color='violet')\n",
    "plt.title(r'No. of PLGA residues Rg unrestrained, Config 2', fontsize=15)\n",
    "plt.xticks(x_pos+width/2, labels=aa_types, fontsize=12)\n",
    "plt.legend(['Rg = 1.2 nm', 'Rg = 1.5 nm'], frameon=False)\n",
    "plt.ylabel(r'No. of PLGA residues', fontsize=15)"
   ]
  },
  {
   "cell_type": "markdown",
   "metadata": {},
   "source": [
    "### Protein/polymer contact map movie"
   ]
  },
  {
   "cell_type": "code",
   "execution_count": null,
   "metadata": {},
   "outputs": [],
   "source": [
    "fig = plt.figure(figsize=(10,10))\n",
    "\n",
    "# Set the axis and the plot titles pp\n",
    "\n",
    "plt.title(\"BSA/PLGA contact map 1.5 nm Unres\", fontsize=22, loc='left')\n",
    "plt.xlabel(\"PLGA Residue No.\", fontsize=22)\n",
    "plt.ylabel(\"BSA Residue No.\", fontsize=20)\n",
    "\n",
    " # Set the axis range \n",
    "plt.ylim(583, 0)\n",
    "plt.xlim(0, 60)\n",
    "\n",
    "# Plot bands for each chain \n",
    "BANDS = (\n",
    "    (0, 20, \"purple\", \"B\"),\n",
    "    (20, 40, \"blue\", \"C\"),\n",
    "    (40, 60, \"green\", \"D\"),\n",
    ")\n",
    "    \n",
    "text_y = 0.98 # Close to the top\n",
    "for start, stop, color, band in BANDS:\n",
    "    plt.axvspan(start, stop,color=color, alpha=0.15)\n",
    "    text_x = middle_of_band(start,stop)\n",
    "    plt.text(\n",
    "        text_x,\n",
    "        text_y,\n",
    "        \"PLGA chain \" + band,\n",
    "        color=color,\n",
    "        fontsize=18,\n",
    "        transform=fig.gca().transAxes,\n",
    "        horizontalalignment='center',\n",
    "        verticalalignment='center',\n",
    "        style='italic',\n",
    "    )\n",
    "    \n",
    "plt.text(0.94, 1, \"Time [ns]:\", fontsize=20, transform=fig.gca().transAxes, horizontalalignment='right', verticalalignment='bottom')\n",
    "\n",
    "# Set tick label size\n",
    "fig.gca().tick_params(axis='both', which='major', labelsize=20)\n",
    "\n",
    "ims = []\n",
    "for i in range(10000):\n",
    "    data = trj_ppmap15nm_nr[i]\n",
    "    im = plt.imshow(data, aspect='auto', cmap='Greys')\n",
    "    t_sim = plt.text(1.03, 1, str(i/100), fontsize=20, transform=fig.gca().transAxes, horizontalalignment='right', verticalalignment='bottom')\n",
    "    ims.append([im, t_sim])\n",
    "    \n",
    "ani = animation.ArtistAnimation(fig, ims, blit=True, repeat=False)\n",
    "ani.save('1.5nm_NoRes.mp4', writer='ffmpeg', fps=50, bitrate=100000)\n",
    "#plt.tight_layout()\n",
    "#plt.show()"
   ]
  },
  {
   "cell_type": "markdown",
   "metadata": {},
   "source": [
    "# 2 nm PLGA unrestrained Rg 100 ns trajectory"
   ]
  },
  {
   "cell_type": "markdown",
   "metadata": {},
   "source": [
    "Load the rg = 1.2 nm (3 PLGA N = 20 oligomer/BSA system)"
   ]
  },
  {
   "cell_type": "code",
   "execution_count": 98,
   "metadata": {},
   "outputs": [],
   "source": [
    "# load the unrestrained trajectory \n",
    "pn2nm_noresC2 = mda.Universe(\"../C2_bsa_n20plga_inwater/C2_plgaNoRes/2nmNoRes_C2/2nm_NoResplga.pdb\"\n",
    "                      , \"../C2_bsa_n20plga_inwater/C2_plgaNoRes/2nmNoRes_C2/C2_2nmbplga.xtc\")"
   ]
  },
  {
   "cell_type": "markdown",
   "metadata": {},
   "source": [
    "Check that we are on the first frame"
   ]
  },
  {
   "cell_type": "code",
   "execution_count": 99,
   "metadata": {},
   "outputs": [
    {
     "data": {
      "text/plain": [
       "0"
      ]
     },
     "execution_count": 99,
     "metadata": {},
     "output_type": "execute_result"
    }
   ],
   "source": [
    "pn2nm_noresC2.trajectory.frame"
   ]
  },
  {
   "cell_type": "code",
   "execution_count": 100,
   "metadata": {},
   "outputs": [
    {
     "data": {
      "text/plain": [
       "10001"
      ]
     },
     "execution_count": 100,
     "metadata": {},
     "output_type": "execute_result"
    }
   ],
   "source": [
    "p2nm_len_nrC2 = len(pn2nm_noresC2.trajectory)\n",
    "p2nm_len_nrC2"
   ]
  },
  {
   "cell_type": "code",
   "execution_count": 101,
   "metadata": {},
   "outputs": [
    {
     "data": {
      "text/plain": [
       "<AtomGroup with 543 atoms>"
      ]
     },
     "execution_count": 101,
     "metadata": {},
     "output_type": "execute_result"
    }
   ],
   "source": [
    "#Select all the PLGA residues, heavy atoms only \n",
    "p2nm_allnrC2 = pn2nm_noresC2.select_atoms(\"resname sPLG PLG tPLG and not type H\")\n",
    "p2nm_allnrC2"
   ]
  },
  {
   "cell_type": "code",
   "execution_count": 102,
   "metadata": {},
   "outputs": [
    {
     "data": {
      "text/plain": [
       "<AtomGroup with 4653 atoms>"
      ]
     },
     "execution_count": 102,
     "metadata": {},
     "output_type": "execute_result"
    }
   ],
   "source": [
    "# Select BSA residues, heavy atoms only \n",
    "prot2nm_noresC2 = pn2nm_noresC2.select_atoms(\"protein and not type H\")\n",
    "prot2nm_noresC2"
   ]
  },
  {
   "cell_type": "markdown",
   "metadata": {},
   "source": [
    "### Calc. total fraction of contacts"
   ]
  },
  {
   "cell_type": "code",
   "execution_count": 103,
   "metadata": {},
   "outputs": [
    {
     "data": {
      "text/plain": [
       "667.2053520092741"
      ]
     },
     "execution_count": 103,
     "metadata": {},
     "output_type": "execute_result"
    }
   ],
   "source": [
    "#dmax = 4.0, protein group(4653 atoms), plga atom group (543 atoms), took 381.6 s (6 min 36s on 4 cores)\n",
    "start = 0\n",
    "end = p2nm_len_nrC2 - 1\n",
    "s_time = timeit.default_timer()\n",
    "h2diC2_2nr = aa_frmcount(prot2nm_noresC2, p2nm_allnrC2, dmax, pn2nm_noresC2, start, end)\n",
    "timeit.default_timer() - s_time"
   ]
  },
  {
   "cell_type": "code",
   "execution_count": 104,
   "metadata": {},
   "outputs": [
    {
     "data": {
      "text/plain": [
       "122"
      ]
     },
     "execution_count": 104,
     "metadata": {},
     "output_type": "execute_result"
    }
   ],
   "source": [
    "len(h2diC2_2nr.keys())"
   ]
  },
  {
   "cell_type": "code",
   "execution_count": 106,
   "metadata": {},
   "outputs": [
    {
     "data": {
      "text/html": [
       "<div>\n",
       "<style scoped>\n",
       "    .dataframe tbody tr th:only-of-type {\n",
       "        vertical-align: middle;\n",
       "    }\n",
       "\n",
       "    .dataframe tbody tr th {\n",
       "        vertical-align: top;\n",
       "    }\n",
       "\n",
       "    .dataframe thead th {\n",
       "        text-align: right;\n",
       "    }\n",
       "</style>\n",
       "<table border=\"1\" class=\"dataframe\">\n",
       "  <thead>\n",
       "    <tr style=\"text-align: right;\">\n",
       "      <th></th>\n",
       "      <th>BSA_des_res</th>\n",
       "      <th>mda_2nm_nrC2</th>\n",
       "    </tr>\n",
       "  </thead>\n",
       "  <tbody>\n",
       "    <tr>\n",
       "      <th>0</th>\n",
       "      <td>ASP 1</td>\n",
       "      <td>0.0</td>\n",
       "    </tr>\n",
       "    <tr>\n",
       "      <th>1</th>\n",
       "      <td>THR 2</td>\n",
       "      <td>0.0</td>\n",
       "    </tr>\n",
       "    <tr>\n",
       "      <th>2</th>\n",
       "      <td>HIS 3</td>\n",
       "      <td>0.0</td>\n",
       "    </tr>\n",
       "    <tr>\n",
       "      <th>3</th>\n",
       "      <td>LYS 4</td>\n",
       "      <td>0.0</td>\n",
       "    </tr>\n",
       "    <tr>\n",
       "      <th>4</th>\n",
       "      <td>SER 5</td>\n",
       "      <td>0.0</td>\n",
       "    </tr>\n",
       "  </tbody>\n",
       "</table>\n",
       "</div>"
      ],
      "text/plain": [
       "  BSA_des_res  mda_2nm_nrC2\n",
       "0       ASP 1           0.0\n",
       "1       THR 2           0.0\n",
       "2       HIS 3           0.0\n",
       "3       LYS 4           0.0\n",
       "4       SER 5           0.0"
      ]
     },
     "execution_count": 106,
     "metadata": {},
     "output_type": "execute_result"
    }
   ],
   "source": [
    "prC2_2nr = list(prot2nm_noresC2.residues)\n",
    "ssC2_2nr = [str(row) for row in prC2_2nr]\n",
    "rkgC2_2nm = {key:h2diC2_2nr[key][0] for key, value in h2diC2_2nr.items()}\n",
    "plgC2_2nm_nr = pd.DataFrame(data=ssC2_2nr, columns=[\"BSA_des_res\"])\n",
    "plgC2_2nm_nr['mda_2nm_nrC2'] = plgC2_2nm_nr['BSA_des_res'].map(rkgC2_2nm)\n",
    "plgC2_2nm_nr['BSA_des_res'] = red_bsa\n",
    "plgC2_2nm_nr['mda_2nm_nrC2'] = plgC2_2nm_nr['mda_2nm_nrC2'].replace('nan', np.nan).fillna(0)\n",
    "plgC2_2nm_nr.head()"
   ]
  },
  {
   "cell_type": "code",
   "execution_count": 107,
   "metadata": {},
   "outputs": [
    {
     "data": {
      "text/html": [
       "<div>\n",
       "<style scoped>\n",
       "    .dataframe tbody tr th:only-of-type {\n",
       "        vertical-align: middle;\n",
       "    }\n",
       "\n",
       "    .dataframe tbody tr th {\n",
       "        vertical-align: top;\n",
       "    }\n",
       "\n",
       "    .dataframe thead th {\n",
       "        text-align: right;\n",
       "    }\n",
       "</style>\n",
       "<table border=\"1\" class=\"dataframe\">\n",
       "  <thead>\n",
       "    <tr style=\"text-align: right;\">\n",
       "      <th></th>\n",
       "      <th>BSA_des_res</th>\n",
       "      <th>mda_occ_1.2nm_NRC2</th>\n",
       "      <th>mda_occ_1.5nm_NRC2</th>\n",
       "      <th>mda_occ_2nm_NRC2</th>\n",
       "    </tr>\n",
       "  </thead>\n",
       "  <tbody>\n",
       "    <tr>\n",
       "      <th>0</th>\n",
       "      <td>&lt;Residue ASP, 1&gt;</td>\n",
       "      <td>1.00</td>\n",
       "      <td>1.00</td>\n",
       "      <td>0.00</td>\n",
       "    </tr>\n",
       "    <tr>\n",
       "      <th>1</th>\n",
       "      <td>&lt;Residue THR, 2&gt;</td>\n",
       "      <td>0.99</td>\n",
       "      <td>1.00</td>\n",
       "      <td>0.00</td>\n",
       "    </tr>\n",
       "    <tr>\n",
       "      <th>2</th>\n",
       "      <td>&lt;Residue HIS, 3&gt;</td>\n",
       "      <td>0.99</td>\n",
       "      <td>0.97</td>\n",
       "      <td>0.00</td>\n",
       "    </tr>\n",
       "    <tr>\n",
       "      <th>3</th>\n",
       "      <td>&lt;Residue LYS, 4&gt;</td>\n",
       "      <td>0.99</td>\n",
       "      <td>0.99</td>\n",
       "      <td>0.00</td>\n",
       "    </tr>\n",
       "    <tr>\n",
       "      <th>4</th>\n",
       "      <td>&lt;Residue SER, 5&gt;</td>\n",
       "      <td>0.95</td>\n",
       "      <td>0.81</td>\n",
       "      <td>0.00</td>\n",
       "    </tr>\n",
       "    <tr>\n",
       "      <th>...</th>\n",
       "      <td>...</td>\n",
       "      <td>...</td>\n",
       "      <td>...</td>\n",
       "      <td>...</td>\n",
       "    </tr>\n",
       "    <tr>\n",
       "      <th>578</th>\n",
       "      <td>&lt;Residue GLN, 579&gt;</td>\n",
       "      <td>0.00</td>\n",
       "      <td>0.00</td>\n",
       "      <td>0.80</td>\n",
       "    </tr>\n",
       "    <tr>\n",
       "      <th>579</th>\n",
       "      <td>&lt;Residue THR, 580&gt;</td>\n",
       "      <td>0.00</td>\n",
       "      <td>0.00</td>\n",
       "      <td>0.67</td>\n",
       "    </tr>\n",
       "    <tr>\n",
       "      <th>580</th>\n",
       "      <td>&lt;Residue ALA, 581&gt;</td>\n",
       "      <td>0.00</td>\n",
       "      <td>0.00</td>\n",
       "      <td>0.23</td>\n",
       "    </tr>\n",
       "    <tr>\n",
       "      <th>581</th>\n",
       "      <td>&lt;Residue LEU, 582&gt;</td>\n",
       "      <td>0.00</td>\n",
       "      <td>0.00</td>\n",
       "      <td>0.38</td>\n",
       "    </tr>\n",
       "    <tr>\n",
       "      <th>582</th>\n",
       "      <td>&lt;Residue ALA, 583&gt;</td>\n",
       "      <td>0.00</td>\n",
       "      <td>0.00</td>\n",
       "      <td>0.54</td>\n",
       "    </tr>\n",
       "  </tbody>\n",
       "</table>\n",
       "<p>583 rows × 4 columns</p>\n",
       "</div>"
      ],
      "text/plain": [
       "            BSA_des_res  mda_occ_1.2nm_NRC2  mda_occ_1.5nm_NRC2  \\\n",
       "0      <Residue ASP, 1>                1.00                1.00   \n",
       "1      <Residue THR, 2>                0.99                1.00   \n",
       "2      <Residue HIS, 3>                0.99                0.97   \n",
       "3      <Residue LYS, 4>                0.99                0.99   \n",
       "4      <Residue SER, 5>                0.95                0.81   \n",
       "..                  ...                 ...                 ...   \n",
       "578  <Residue GLN, 579>                0.00                0.00   \n",
       "579  <Residue THR, 580>                0.00                0.00   \n",
       "580  <Residue ALA, 581>                0.00                0.00   \n",
       "581  <Residue LEU, 582>                0.00                0.00   \n",
       "582  <Residue ALA, 583>                0.00                0.00   \n",
       "\n",
       "     mda_occ_2nm_NRC2  \n",
       "0                0.00  \n",
       "1                0.00  \n",
       "2                0.00  \n",
       "3                0.00  \n",
       "4                0.00  \n",
       "..                ...  \n",
       "578              0.80  \n",
       "579              0.67  \n",
       "580              0.23  \n",
       "581              0.38  \n",
       "582              0.54  \n",
       "\n",
       "[583 rows x 4 columns]"
      ]
     },
     "execution_count": 107,
     "metadata": {},
     "output_type": "execute_result"
    }
   ],
   "source": [
    "# Extract mean occupancy values\n",
    "prC2_res_2ur = list(prot2nm_noresC2.residues)\n",
    "ssC2_res_2ur = [str(row) for row in prC2_res_2ur]\n",
    "rkgC2_2ur = {key:h2diC2_2nr[key][1] for key, value in h2diC2_2nr.items()}\n",
    "plgC2_1_2nm_NRocc['mda_occ_2nm_NRC2'] = plgC2_1_2nm_NRocc['BSA_des_res'].map(rkgC2_2ur)\n",
    "plgC2_1_2nm_NRocc['mda_occ_2nm_NRC2'] = plgC2_1_2nm_NRocc['mda_occ_2nm_NRC2'].replace('nan', np.nan).fillna(0)\n",
    "plgC2_1_2nm_NRocc['mda_occ_2nm_NRC2'] = plgC2_1_2nm_NRocc['mda_occ_2nm_NRC2'].round(2)\n",
    "plgC2_1_2nm_NRocc"
   ]
  },
  {
   "cell_type": "code",
   "execution_count": 109,
   "metadata": {},
   "outputs": [],
   "source": [
    "bsaC2_2ur = np.array(list(prot2nm_noresC2.resids)) # shape is 4652\n",
    "mC2_occ_2nmNR = np.array(list(plgC2_1_2nm_NRocc['mda_occ_2nm_NRC2'])) # shape is 583\n",
    "mC2_occ2nm = np.zeros(shape=(4653))\n",
    "at_ind = np.where(bsaC2_2ur[:-1] != bsaC2_2ur[1:])[0]\n",
    "at_in_nw = np.sort(np.append([0,4653],at_ind))\n",
    "nw_v = 0\n",
    "for i in range(583):\n",
    "    b = at_in_nw[i+1] +1\n",
    "    mC2_occ2nm[nw_v:b] = mC2_occ_2nmNR[i]\n",
    "    nw_v = at_in_nw[i+1] + 1 "
   ]
  },
  {
   "cell_type": "code",
   "execution_count": 110,
   "metadata": {},
   "outputs": [
    {
     "data": {
      "text/plain": [
       "array([0., 0., 0., 0., 0., 0., 0., 0., 0., 0., 0., 0., 0.])"
      ]
     },
     "execution_count": 110,
     "metadata": {},
     "output_type": "execute_result"
    }
   ],
   "source": [
    "mC2_occ2nm[633:646]"
   ]
  },
  {
   "cell_type": "markdown",
   "metadata": {},
   "source": [
    "### Visualize Occupanct on protein "
   ]
  },
  {
   "cell_type": "code",
   "execution_count": 111,
   "metadata": {},
   "outputs": [
    {
     "data": {
      "text/plain": [
       "array([0.  , 0.  , 0.  , ..., 0.54, 0.54, 0.54])"
      ]
     },
     "execution_count": 111,
     "metadata": {},
     "output_type": "execute_result"
    }
   ],
   "source": [
    "prot2nm_noresC2.occupancies = mC2_occ2nm\n",
    "prot2nm_noresC2.occupancies"
   ]
  },
  {
   "cell_type": "code",
   "execution_count": 112,
   "metadata": {},
   "outputs": [],
   "source": [
    "with mda.Writer(\"prot_2nm_noresC2.pdb\") as pdb:\n",
    "    pdb.write(prot2nm_noresC2)"
   ]
  },
  {
   "cell_type": "markdown",
   "metadata": {},
   "source": [
    "### Residue Importance: 2 nm Unrestrained "
   ]
  },
  {
   "cell_type": "code",
   "execution_count": 113,
   "metadata": {},
   "outputs": [],
   "source": [
    "trj_ppmap2nmC2_nr = prot_poly_cntmovie(prot2nm_noresC2, p2nm_allnrC2, dmax, pn2nm_noresC2, 0, 10000)\n",
    "#trj_ppmap_12nm_chC = prot_poly_cntmovie(prot, all_pn20_C, dmax, u_pn20, 0, 10000)"
   ]
  },
  {
   "cell_type": "code",
   "execution_count": 114,
   "metadata": {},
   "outputs": [],
   "source": [
    "np.save('2nmPLGA_NoResC2.npy', trj_ppmap2nmC2_nr)    # .npy extension is added if not given"
   ]
  },
  {
   "cell_type": "code",
   "execution_count": null,
   "metadata": {},
   "outputs": [],
   "source": [
    "trj_ppmap2nm_nr = np.load('2nm_NoRes.npy', allow_pickle=True)"
   ]
  },
  {
   "cell_type": "code",
   "execution_count": 115,
   "metadata": {},
   "outputs": [
    {
     "data": {
      "text/plain": [
       "(583, 60)"
      ]
     },
     "execution_count": 115,
     "metadata": {},
     "output_type": "execute_result"
    }
   ],
   "source": [
    "trj_ppmap2nmC2_nr[0].shape"
   ]
  },
  {
   "cell_type": "code",
   "execution_count": 117,
   "metadata": {},
   "outputs": [
    {
     "data": {
      "text/plain": [
       "0.0"
      ]
     },
     "execution_count": 117,
     "metadata": {},
     "output_type": "execute_result"
    }
   ],
   "source": [
    "np.sum(trj_ppmap2nmC2_nr[1000][0])"
   ]
  },
  {
   "cell_type": "code",
   "execution_count": 118,
   "metadata": {},
   "outputs": [
    {
     "data": {
      "text/plain": [
       "(10000,)"
      ]
     },
     "execution_count": 118,
     "metadata": {},
     "output_type": "execute_result"
    }
   ],
   "source": [
    "kj = np.zeros(shape=(10000, 583))\n",
    "kj[:,582].shape"
   ]
  },
  {
   "cell_type": "code",
   "execution_count": 119,
   "metadata": {},
   "outputs": [],
   "source": [
    "ppC2_2nmNR_ct = np.zeros(shape=(10000, 583))\n",
    "for i in range(10000):\n",
    "    for j in range(583):\n",
    "        ppC2_2nmNR_ct[i][j] = np.sum(trj_ppmap2nmC2_nr[i][j])"
   ]
  },
  {
   "cell_type": "code",
   "execution_count": 120,
   "metadata": {},
   "outputs": [],
   "source": [
    "ppC2_2nmNRtot = np.zeros(shape=(583))\n",
    "for i in range(583):\n",
    "    ppC2_2nmNRtot[i] = np.sum(ppC2_2nmNR_ct[:,i])\n",
    "#pp_12nmtot"
   ]
  },
  {
   "cell_type": "code",
   "execution_count": 121,
   "metadata": {},
   "outputs": [
    {
     "data": {
      "text/plain": [
       "(array([ 31,  32,  83,  85,  86, 102, 103, 104, 105, 106, 107, 108, 109,\n",
       "        110, 111, 113, 146, 195, 202, 206, 207, 210, 211, 214, 224, 225,\n",
       "        226, 227, 228, 229, 230, 231, 233, 234, 300, 301, 302, 303, 306,\n",
       "        307, 310, 312, 315, 316, 317, 319, 320, 321, 322, 323, 324, 325,\n",
       "        326, 327, 328, 329, 330, 331, 334, 335, 414, 415, 416, 417, 419,\n",
       "        420, 460, 461, 462, 463, 464, 465, 466, 467, 468, 469, 476, 492,\n",
       "        493, 494, 495, 496, 497, 498, 499, 500, 501, 502, 503, 504, 506,\n",
       "        532, 533, 534, 535, 536, 537, 538, 540, 541, 543, 544, 548, 555,\n",
       "        563, 564, 566, 567, 568, 569, 570, 571, 572, 574, 575, 576, 577,\n",
       "        578, 579, 580, 581, 582]),)"
      ]
     },
     "execution_count": 121,
     "metadata": {},
     "output_type": "execute_result"
    }
   ],
   "source": [
    "np.nonzero(ppC2_2nmNRtot)"
   ]
  },
  {
   "cell_type": "code",
   "execution_count": 122,
   "metadata": {},
   "outputs": [
    {
     "data": {
      "text/plain": [
       "649949.0"
      ]
     },
     "execution_count": 122,
     "metadata": {},
     "output_type": "execute_result"
    }
   ],
   "source": [
    "aNR = np.sum(ppC2_2nmNRtot)\n",
    "aNR"
   ]
  },
  {
   "cell_type": "code",
   "execution_count": 123,
   "metadata": {},
   "outputs": [
    {
     "data": {
      "text/plain": [
       "776434.0"
      ]
     },
     "execution_count": 123,
     "metadata": {},
     "output_type": "execute_result"
    }
   ],
   "source": [
    "bNR = np.sum(ppC2_15nmNRtot)\n",
    "bNR"
   ]
  },
  {
   "cell_type": "code",
   "execution_count": 124,
   "metadata": {},
   "outputs": [
    {
     "data": {
      "text/plain": [
       "925587.0"
      ]
     },
     "execution_count": 124,
     "metadata": {},
     "output_type": "execute_result"
    }
   ],
   "source": [
    "cNR = np.sum(ppC2_12nmtot_nr)\n",
    "cNR"
   ]
  },
  {
   "cell_type": "code",
   "execution_count": 125,
   "metadata": {},
   "outputs": [],
   "source": [
    "plt.close('all')"
   ]
  },
  {
   "cell_type": "code",
   "execution_count": 131,
   "metadata": {},
   "outputs": [
    {
     "data": {
      "application/vnd.jupyter.widget-view+json": {
       "model_id": "05e5fde016a94eaeb0dd4dc2c8d9a6f7",
       "version_major": 2,
       "version_minor": 0
      },
      "text/plain": [
       "Canvas(toolbar=Toolbar(toolitems=[('Home', 'Reset original view', 'home', 'home'), ('Back', 'Back to previous …"
      ]
     },
     "metadata": {},
     "output_type": "display_data"
    },
    {
     "data": {
      "text/plain": [
       "Text(0.5, 0, 'BSA Residue ID')"
      ]
     },
     "execution_count": 131,
     "metadata": {},
     "output_type": "execute_result"
    }
   ],
   "source": [
    "y_pos = np.arange(583) + 1\n",
    "wid = np.zeros(shape=583)\n",
    "wid += 1.5\n",
    "#wid\n",
    "fig = plt.figure(figsize=(12,12))\n",
    "fig.canvas.layout.width = '800px'\n",
    "fig.canvas.layout.height = '700px'\n",
    "plt.bar(y_pos, ppC2_12nmtot_nr/cNR, align='center',width=wid, alpha=0.4, color='#1D77CF',label='1.2 nm PLGA')\n",
    "plt.bar(y_pos+0.25, ppC2_15nmNRtot/bNR, align='center',width=wid, color='#562A8B', alpha=0.3, label='1.5 nm PLGA')\n",
    "plt.bar(y_pos+0.3, ppC2_2nmNRtot/aNR, align='center',width=wid, color='#4E4C4D', alpha=0.3, label='2 nm PLGA')\n",
    "#plt.bar(y_pos+0.25, pp_15nmNRtot/bNR, align='center',width=wid, color='#562A8B', alpha=0.3, label='1.5 nm PLGA')\n",
    "#plt.bar(y_pos, pp_12nmtot_nr/cNR, align='center',width=wid, alpha=0.4, color='#1D77CF',label='1.2 nm PLGA')\n",
    "plt.title(\"BSA in water with PLGA unrestrained, 100 ns\", fontsize=16)\n",
    "plt.xticks(fontsize=16)\n",
    "plt.yticks(fontsize=16)\n",
    "plt.xlim([0,600])\n",
    "plt.ylim([0,0.2])\n",
    "plt.legend(fontsize=16)\n",
    "plt.ylabel(r'Normalized Total No. of PLGA contacts', fontsize=15)\n",
    "plt.xlabel(r'BSA Residue ID', fontsize=16)"
   ]
  },
  {
   "cell_type": "markdown",
   "metadata": {},
   "source": [
    "### Total number of residues that are within 4 angstroms of a PLGA oligomer residue within a 100 ns trajectory block"
   ]
  },
  {
   "cell_type": "code",
   "execution_count": 133,
   "metadata": {},
   "outputs": [
    {
     "data": {
      "text/html": [
       "<div>\n",
       "<style scoped>\n",
       "    .dataframe tbody tr th:only-of-type {\n",
       "        vertical-align: middle;\n",
       "    }\n",
       "\n",
       "    .dataframe tbody tr th {\n",
       "        vertical-align: top;\n",
       "    }\n",
       "\n",
       "    .dataframe thead th {\n",
       "        text-align: right;\n",
       "    }\n",
       "</style>\n",
       "<table border=\"1\" class=\"dataframe\">\n",
       "  <thead>\n",
       "    <tr style=\"text-align: right;\">\n",
       "      <th></th>\n",
       "      <th>Amino_acids</th>\n",
       "      <th>No_of_surf_res (MDAnalysis)</th>\n",
       "      <th>No_of_surf_res (VMD)</th>\n",
       "      <th>plgaC2_1.2nm_100ns_NR</th>\n",
       "      <th>plgaC2_1.5nm_100ns_NR</th>\n",
       "      <th>plgaC2_2nm_100ns_NR</th>\n",
       "    </tr>\n",
       "  </thead>\n",
       "  <tbody>\n",
       "    <tr>\n",
       "      <th>0</th>\n",
       "      <td>LYS</td>\n",
       "      <td>59</td>\n",
       "      <td>59</td>\n",
       "      <td>25</td>\n",
       "      <td>15</td>\n",
       "      <td>15</td>\n",
       "    </tr>\n",
       "    <tr>\n",
       "      <th>1</th>\n",
       "      <td>ARG</td>\n",
       "      <td>23</td>\n",
       "      <td>23</td>\n",
       "      <td>3</td>\n",
       "      <td>6</td>\n",
       "      <td>4</td>\n",
       "    </tr>\n",
       "    <tr>\n",
       "      <th>2</th>\n",
       "      <td>HIS</td>\n",
       "      <td>16</td>\n",
       "      <td>16</td>\n",
       "      <td>5</td>\n",
       "      <td>5</td>\n",
       "      <td>3</td>\n",
       "    </tr>\n",
       "    <tr>\n",
       "      <th>3</th>\n",
       "      <td>ASP</td>\n",
       "      <td>40</td>\n",
       "      <td>40</td>\n",
       "      <td>11</td>\n",
       "      <td>10</td>\n",
       "      <td>10</td>\n",
       "    </tr>\n",
       "    <tr>\n",
       "      <th>4</th>\n",
       "      <td>GLU</td>\n",
       "      <td>59</td>\n",
       "      <td>59</td>\n",
       "      <td>21</td>\n",
       "      <td>13</td>\n",
       "      <td>12</td>\n",
       "    </tr>\n",
       "    <tr>\n",
       "      <th>5</th>\n",
       "      <td>SER</td>\n",
       "      <td>23</td>\n",
       "      <td>23</td>\n",
       "      <td>5</td>\n",
       "      <td>3</td>\n",
       "      <td>6</td>\n",
       "    </tr>\n",
       "    <tr>\n",
       "      <th>6</th>\n",
       "      <td>THR</td>\n",
       "      <td>29</td>\n",
       "      <td>29</td>\n",
       "      <td>8</td>\n",
       "      <td>3</td>\n",
       "      <td>11</td>\n",
       "    </tr>\n",
       "    <tr>\n",
       "      <th>7</th>\n",
       "      <td>CYS</td>\n",
       "      <td>24</td>\n",
       "      <td>24</td>\n",
       "      <td>12</td>\n",
       "      <td>5</td>\n",
       "      <td>0</td>\n",
       "    </tr>\n",
       "    <tr>\n",
       "      <th>8</th>\n",
       "      <td>TYR</td>\n",
       "      <td>19</td>\n",
       "      <td>19</td>\n",
       "      <td>2</td>\n",
       "      <td>3</td>\n",
       "      <td>5</td>\n",
       "    </tr>\n",
       "    <tr>\n",
       "      <th>9</th>\n",
       "      <td>ASN</td>\n",
       "      <td>14</td>\n",
       "      <td>14</td>\n",
       "      <td>6</td>\n",
       "      <td>4</td>\n",
       "      <td>2</td>\n",
       "    </tr>\n",
       "    <tr>\n",
       "      <th>10</th>\n",
       "      <td>GLN</td>\n",
       "      <td>19</td>\n",
       "      <td>19</td>\n",
       "      <td>6</td>\n",
       "      <td>5</td>\n",
       "      <td>6</td>\n",
       "    </tr>\n",
       "    <tr>\n",
       "      <th>11</th>\n",
       "      <td>GLY</td>\n",
       "      <td>11</td>\n",
       "      <td>11</td>\n",
       "      <td>4</td>\n",
       "      <td>1</td>\n",
       "      <td>2</td>\n",
       "    </tr>\n",
       "    <tr>\n",
       "      <th>12</th>\n",
       "      <td>ALA</td>\n",
       "      <td>39</td>\n",
       "      <td>38</td>\n",
       "      <td>13</td>\n",
       "      <td>4</td>\n",
       "      <td>10</td>\n",
       "    </tr>\n",
       "    <tr>\n",
       "      <th>13</th>\n",
       "      <td>VAL</td>\n",
       "      <td>19</td>\n",
       "      <td>19</td>\n",
       "      <td>5</td>\n",
       "      <td>2</td>\n",
       "      <td>11</td>\n",
       "    </tr>\n",
       "    <tr>\n",
       "      <th>14</th>\n",
       "      <td>LEU</td>\n",
       "      <td>34</td>\n",
       "      <td>34</td>\n",
       "      <td>14</td>\n",
       "      <td>11</td>\n",
       "      <td>9</td>\n",
       "    </tr>\n",
       "    <tr>\n",
       "      <th>15</th>\n",
       "      <td>ILE</td>\n",
       "      <td>7</td>\n",
       "      <td>7</td>\n",
       "      <td>0</td>\n",
       "      <td>2</td>\n",
       "      <td>0</td>\n",
       "    </tr>\n",
       "    <tr>\n",
       "      <th>16</th>\n",
       "      <td>MET</td>\n",
       "      <td>3</td>\n",
       "      <td>3</td>\n",
       "      <td>1</td>\n",
       "      <td>1</td>\n",
       "      <td>1</td>\n",
       "    </tr>\n",
       "    <tr>\n",
       "      <th>17</th>\n",
       "      <td>PHE</td>\n",
       "      <td>20</td>\n",
       "      <td>20</td>\n",
       "      <td>4</td>\n",
       "      <td>3</td>\n",
       "      <td>6</td>\n",
       "    </tr>\n",
       "    <tr>\n",
       "      <th>18</th>\n",
       "      <td>TRP</td>\n",
       "      <td>2</td>\n",
       "      <td>2</td>\n",
       "      <td>1</td>\n",
       "      <td>1</td>\n",
       "      <td>0</td>\n",
       "    </tr>\n",
       "    <tr>\n",
       "      <th>19</th>\n",
       "      <td>PRO</td>\n",
       "      <td>27</td>\n",
       "      <td>27</td>\n",
       "      <td>5</td>\n",
       "      <td>9</td>\n",
       "      <td>9</td>\n",
       "    </tr>\n",
       "  </tbody>\n",
       "</table>\n",
       "</div>"
      ],
      "text/plain": [
       "   Amino_acids  No_of_surf_res (MDAnalysis)  No_of_surf_res (VMD)  \\\n",
       "0          LYS                           59                    59   \n",
       "1          ARG                           23                    23   \n",
       "2          HIS                           16                    16   \n",
       "3          ASP                           40                    40   \n",
       "4          GLU                           59                    59   \n",
       "5          SER                           23                    23   \n",
       "6          THR                           29                    29   \n",
       "7          CYS                           24                    24   \n",
       "8          TYR                           19                    19   \n",
       "9          ASN                           14                    14   \n",
       "10         GLN                           19                    19   \n",
       "11         GLY                           11                    11   \n",
       "12         ALA                           39                    38   \n",
       "13         VAL                           19                    19   \n",
       "14         LEU                           34                    34   \n",
       "15         ILE                            7                     7   \n",
       "16         MET                            3                     3   \n",
       "17         PHE                           20                    20   \n",
       "18         TRP                            2                     2   \n",
       "19         PRO                           27                    27   \n",
       "\n",
       "    plgaC2_1.2nm_100ns_NR  plgaC2_1.5nm_100ns_NR  plgaC2_2nm_100ns_NR  \n",
       "0                      25                     15                   15  \n",
       "1                       3                      6                    4  \n",
       "2                       5                      5                    3  \n",
       "3                      11                     10                   10  \n",
       "4                      21                     13                   12  \n",
       "5                       5                      3                    6  \n",
       "6                       8                      3                   11  \n",
       "7                      12                      5                    0  \n",
       "8                       2                      3                    5  \n",
       "9                       6                      4                    2  \n",
       "10                      6                      5                    6  \n",
       "11                      4                      1                    2  \n",
       "12                     13                      4                   10  \n",
       "13                      5                      2                   11  \n",
       "14                     14                     11                    9  \n",
       "15                      0                      2                    0  \n",
       "16                      1                      1                    1  \n",
       "17                      4                      3                    6  \n",
       "18                      1                      1                    0  \n",
       "19                      5                      9                    9  "
      ]
     },
     "execution_count": 133,
     "metadata": {},
     "output_type": "execute_result"
    }
   ],
   "source": [
    "aplC2_2nm_nr = []\n",
    "\n",
    "# Some residues don't have any contact with the 3 N = 20 PLGA oligomers within 100 ns,\n",
    "# Put residues that do have contact with BSA in a separate list\n",
    "for index, r_pl in plgC2_2nm_nr.iterrows():\n",
    "    if r_pl['mda_2nm_nrC2'] != 0:\n",
    "        aplC2_2nm_nr.append(r_pl['BSA_des_res'])\n",
    "        \n",
    "# This chunk of code gets an AA count from the above list, in order \n",
    "# to get a total number of residues that contact BSA\n",
    "cplC2_2nm_nr = []\n",
    "\n",
    "for index, r_a in aa_count.iterrows():\n",
    "    count = 0\n",
    "    for i in range(len(aplC2_2nm_nr)):\n",
    "        if r_a['Amino_acids'] in aplC2_2nm_nr[i]:\n",
    "            count += 1\n",
    "    cplC2_2nm_nr.append(count)      \n",
    "        \n",
    "aa_count['plgaC2_2nm_100ns_NR'] = cplC2_2nm_nr\n",
    "#aa_count.drop('No_of_surf_res (VMD)', axis=1, inplace=True)\n",
    "aa_count"
   ]
  },
  {
   "cell_type": "code",
   "execution_count": 134,
   "metadata": {},
   "outputs": [
    {
     "data": {
      "text/plain": [
       "122"
      ]
     },
     "execution_count": 134,
     "metadata": {},
     "output_type": "execute_result"
    }
   ],
   "source": [
    "# This gives the total number of residues that are within 4 angstroms of a PLGA oligomer residue\n",
    "# within a 100 ns trajectory block\n",
    "aa_count['plgaC2_2nm_100ns_NR'].sum()"
   ]
  },
  {
   "cell_type": "code",
   "execution_count": 135,
   "metadata": {},
   "outputs": [
    {
     "data": {
      "text/plain": [
       "487"
      ]
     },
     "execution_count": 135,
     "metadata": {},
     "output_type": "execute_result"
    }
   ],
   "source": [
    "# This gives the total number of residues that are within 4 angstroms of a water molecule\n",
    "# within a 1 ns trajectory block\n",
    "aa_count['No_of_surf_res (MDAnalysis)'].sum()"
   ]
  },
  {
   "cell_type": "code",
   "execution_count": 136,
   "metadata": {},
   "outputs": [
    {
     "data": {
      "text/plain": [
       "0.25051334702258726"
      ]
     },
     "execution_count": 136,
     "metadata": {},
     "output_type": "execute_result"
    }
   ],
   "source": [
    "# This gives the total fraction of contacts within the 2 nm unrestrained Rg 100 ns trajectory\n",
    "aa_count['plgaC2_2nm_100ns_NR'].sum()/aa_count['No_of_surf_res (MDAnalysis)'].sum()"
   ]
  },
  {
   "cell_type": "code",
   "execution_count": 137,
   "metadata": {},
   "outputs": [
    {
     "name": "stdout",
     "output_type": "stream",
     "text": [
      "Mean Occpancy (2 nm Rg): 0.30424918032786885 Occ. std. dev.: 0.35103234222249863\n"
     ]
    }
   ],
   "source": [
    "# Mean occupancy and std deviation \n",
    "ll_mo2_nr = [value[1] for key, value in h2diC2_2nr.items()]\n",
    "print(\"Mean Occpancy (2 nm Rg): \"+str(np.mean(ll_mo2_nr)), \"Occ. std. dev.: \"+str(np.std(ll_mo2_nr)))"
   ]
  },
  {
   "cell_type": "code",
   "execution_count": 138,
   "metadata": {},
   "outputs": [
    {
     "data": {
      "text/plain": [
       "{'Negative': [44630.0, 22, 247493.63636363635, 0.12986941363924406],\n",
       " 'Positive': [53921.0, 22, 299016.45454545453, 0.15690541458305354],\n",
       " 'Polar': [101337.0, 30, 412103.8, 0.21624668678700554],\n",
       " 'Hydrophobic': [171296.0, 48, 435377.3333333333, 0.22845920332570346],\n",
       " 'Aromatic': [58722.0, 14, 511720.2857142857, 0.26851928166499345]}"
      ]
     },
     "execution_count": 138,
     "metadata": {},
     "output_type": "execute_result"
    }
   ],
   "source": [
    "cd_2nm = frac_cont(h2diC2_2nr)\n",
    "cd_2nm"
   ]
  },
  {
   "cell_type": "markdown",
   "metadata": {},
   "source": [
    "### Calc. fractional contacts for each AA group type "
   ]
  },
  {
   "cell_type": "code",
   "execution_count": null,
   "metadata": {},
   "outputs": [],
   "source": [
    "test_nr = aa_frmcount(prot2nm_nores, p2nm_allnr, dmax, pn2nm_nores, 6000, 8000)"
   ]
  },
  {
   "cell_type": "code",
   "execution_count": null,
   "metadata": {},
   "outputs": [],
   "source": [
    "frac_cont(test_nr)"
   ]
  },
  {
   "cell_type": "code",
   "execution_count": 139,
   "metadata": {},
   "outputs": [
    {
     "data": {
      "text/plain": [
       "487"
      ]
     },
     "execution_count": 139,
     "metadata": {},
     "output_type": "execute_result"
    }
   ],
   "source": [
    "no_surf"
   ]
  },
  {
   "cell_type": "code",
   "execution_count": 140,
   "metadata": {},
   "outputs": [
    {
     "name": "stdout",
     "output_type": "stream",
     "text": [
      "0\n",
      "2000\n",
      "2000\n",
      "4000\n",
      "4000\n",
      "6000\n",
      "6000\n",
      "8000\n",
      "8000\n",
      "10000\n"
     ]
    }
   ],
   "source": [
    "fcntrg2nmC2_nr, prgrp2nmC2_nr, aamatx_2nmC2_nr = bavg_frac_cnt(5, prot2nm_noresC2, p2nm_allnrC2\n",
    "                                                               , dmax, pn2nm_noresC2, no_surf, 0, 10000)"
   ]
  },
  {
   "cell_type": "code",
   "execution_count": 141,
   "metadata": {},
   "outputs": [
    {
     "data": {
      "text/plain": [
       "{'Negative': array([0.14513798, 0.13315851, 0.13274341, 0.1541703 , 0.11694215]),\n",
       " 'Positive': array([0.16370246, 0.20579459, 0.16567423, 0.14091961, 0.09304844]),\n",
       " 'Polar': array([0.20976739, 0.18589637, 0.20758789, 0.20763904, 0.25394417]),\n",
       " 'Hydrophobic': array([0.25050754, 0.2232402 , 0.2181323 , 0.21523998, 0.20981455]),\n",
       " 'Aromatic': array([0.23088462, 0.25191034, 0.27586216, 0.28203107, 0.32625068]),\n",
       " 'total_frac': array([0.20123203, 0.18275154, 0.17453799, 0.16837782, 0.13141684])}"
      ]
     },
     "execution_count": 141,
     "metadata": {},
     "output_type": "execute_result"
    }
   ],
   "source": [
    "fcntrg2nmC2_nr"
   ]
  },
  {
   "cell_type": "code",
   "execution_count": 142,
   "metadata": {},
   "outputs": [
    {
     "data": {
      "text/plain": [
       "array([0.13643047, 0.15382787, 0.21296697, 0.22338692, 0.27338777])"
      ]
     },
     "execution_count": 142,
     "metadata": {},
     "output_type": "execute_result"
    }
   ],
   "source": [
    "fc2nmC2_mean_nr = np.array([np.mean(fcntrg2nmC2_nr['Negative']), np.mean(fcntrg2nmC2_nr['Positive'])\n",
    "                        ,np.mean(fcntrg2nmC2_nr['Polar']),np.mean(fcntrg2nmC2_nr['Hydrophobic'])\n",
    "                        , np.mean(fcntrg2nmC2_nr['Aromatic'])])\n",
    "fc2nmC2_mean_nr"
   ]
  },
  {
   "cell_type": "code",
   "execution_count": 143,
   "metadata": {},
   "outputs": [
    {
     "data": {
      "text/plain": [
       "array([0.01260648, 0.03687586, 0.02226884, 0.01423898, 0.03207215])"
      ]
     },
     "execution_count": 143,
     "metadata": {},
     "output_type": "execute_result"
    }
   ],
   "source": [
    "fc2nmC2_std_nr = np.array([np.std(fcntrg2nmC2_nr['Negative']), np.std(fcntrg2nmC2_nr['Positive'])\n",
    "                       ,np.std(fcntrg2nmC2_nr['Polar']),np.std(fcntrg2nmC2_nr['Hydrophobic']), np.std(fcntrg2nmC2_nr['Aromatic'])])\n",
    "#fc2nm_std_nr[4] = 0.05\n",
    "fc2nmC2_std_nr"
   ]
  },
  {
   "cell_type": "code",
   "execution_count": 160,
   "metadata": {},
   "outputs": [
    {
     "data": {
      "application/vnd.jupyter.widget-view+json": {
       "model_id": "923c2ab913cc4423b39aca7107e40bef",
       "version_major": 2,
       "version_minor": 0
      },
      "text/plain": [
       "Canvas(toolbar=Toolbar(toolitems=[('Home', 'Reset original view', 'home', 'home'), ('Back', 'Back to previous …"
      ]
     },
     "metadata": {},
     "output_type": "display_data"
    },
    {
     "data": {
      "text/plain": [
       "Text(0, 0.5, 'Fractional Contacts')"
      ]
     },
     "execution_count": 160,
     "metadata": {},
     "output_type": "execute_result"
    }
   ],
   "source": [
    "x_pos = np.arange(5)\n",
    "width = 0.3\n",
    "aa_types = [\"Negative\", \"Positive\", \"Polar\", \"Hydrophobic\", \"Aromatic\"]\n",
    "fig = plt.figure(figsize=(12,12))\n",
    "fig.canvas.layout.width = '800px'\n",
    "fig.canvas.layout.height = '700px'\n",
    "plt.bar(x_pos, fc_12nmnrC2_mean, width, yerr=fc_12nmnrC2_std, ecolor='black',capsize=5, color='royalblue')\n",
    "plt.bar(x_pos+width, fc15nmC2_mean_nr, width, yerr=fc15nmC2_std_nr, ecolor='black',capsize=5, color='c')\n",
    "plt.bar(x_pos+(2*width), fc2nmC2_mean_nr, width, yerr=fc2nmC2_std_nr, ecolor='black',capsize=5, color='lightslategray')\n",
    "plt.title(r'Fractional Contacts Rg unrestrained, Config 2', fontsize=16)\n",
    "plt.yticks(fontsize=16)\n",
    "plt.xticks(x_pos+width, labels=aa_types, fontsize=16)\n",
    "plt.legend(['Rg = 1.2 nm', 'Rg = 1.5 nm', 'Rg = 2 nm'], frameon=False, fontsize=16)\n",
    "plt.ylabel(r'Fractional Contacts', fontsize=16)"
   ]
  },
  {
   "cell_type": "markdown",
   "metadata": {},
   "source": [
    "### Total fraction of contacts: averages and std dev calc from 5 20ns blocks"
   ]
  },
  {
   "cell_type": "code",
   "execution_count": 145,
   "metadata": {},
   "outputs": [
    {
     "data": {
      "text/plain": [
       "0.17166324435318275"
      ]
     },
     "execution_count": 145,
     "metadata": {},
     "output_type": "execute_result"
    }
   ],
   "source": [
    "np.mean(fcntrg2nmC2_nr['total_frac'])"
   ]
  },
  {
   "cell_type": "code",
   "execution_count": 146,
   "metadata": {},
   "outputs": [
    {
     "data": {
      "text/plain": [
       "0.02296124968951846"
      ]
     },
     "execution_count": 146,
     "metadata": {},
     "output_type": "execute_result"
    }
   ],
   "source": [
    "np.std(fcntrg2nmC2_nr['total_frac'])"
   ]
  },
  {
   "cell_type": "code",
   "execution_count": null,
   "metadata": {},
   "outputs": [],
   "source": []
  },
  {
   "cell_type": "markdown",
   "metadata": {},
   "source": [
    "### Avg no. PLGA residues per BSA AA residue group "
   ]
  },
  {
   "cell_type": "code",
   "execution_count": 147,
   "metadata": {},
   "outputs": [
    {
     "data": {
      "text/plain": [
       "{'Negative': array([array([9.917     , 3.37818161]), array([11.365    ,  3.7141318]),\n",
       "        array([10.464     ,  2.97114523]), array([8.4025    , 2.42991641]),\n",
       "        array([5.123     , 1.79607099])], dtype=object),\n",
       " 'Positive': array([array([13.992     ,  3.55667485]),\n",
       "        array([17.525     ,  4.02111614]),\n",
       "        array([16.015     ,  4.43427277]), array([9.0345    , 3.57397674]),\n",
       "        array([3.8       , 1.86252517])], dtype=object),\n",
       " 'Polar': array([array([36.4215    ,  6.21512975]),\n",
       "        array([39.2085    ,  5.41230337]),\n",
       "        array([43.3455    ,  6.36027749]), array([35.6335   ,  6.4582643]),\n",
       "        array([28.971     ,  4.18463368])], dtype=object),\n",
       " 'Hydrophobic': array([array([51.5075    ,  7.69337012]),\n",
       "        array([56.3235    ,  7.90650667]),\n",
       "        array([49.9685    ,  7.43885124]),\n",
       "        array([43.4205    ,  6.82229285]),\n",
       "        array([36.0115    ,  6.05213745])], dtype=object),\n",
       " 'Aromatic': array([array([21.2185    ,  3.55158524]),\n",
       "        array([23.948     ,  3.93208545]),\n",
       "        array([23.67      ,  3.90052561]),\n",
       "        array([22.348     ,  4.05103641]),\n",
       "        array([19.184     ,  3.68743054])], dtype=object)}"
      ]
     },
     "execution_count": 147,
     "metadata": {},
     "output_type": "execute_result"
    }
   ],
   "source": [
    "prgrp2nmC2_nr"
   ]
  },
  {
   "cell_type": "code",
   "execution_count": 149,
   "metadata": {},
   "outputs": [],
   "source": [
    "mean_2nmC2_nr = np.zeros(shape=5)\n",
    "std_2nmC2_nr = np.zeros(shape=5)\n",
    "count = 0\n",
    "for key, value in prgrp2nmC2_nr.items():\n",
    "    mpl_2nmC2_nr = []\n",
    "    var_2nmC2_nr = []\n",
    "    for i in prgrp2nmC2_nr[str(key)].flat:\n",
    "        mpl_2nmC2_nr.append(i[0])\n",
    "        var_2nmC2_nr.append((i[1]))\n",
    "    \n",
    "    # calc frac cont averages\n",
    "    mean_2nmC2_nr[count] = np.mean(mpl_2nmC2_nr)\n",
    "    \n",
    "    # calc frac cont std dev: https://stats.stackexchange.com/questions/25848/how-to-sum-a-standard-deviation \n",
    "    std_2nmC2_nr[count] = np.std(mpl_2nmC2_nr)\n",
    "    # std_2nm_nr[count] = np.sqrt(np.sum(var_2nm_nr)/5)\n",
    "    \n",
    "    count += 1\n"
   ]
  },
  {
   "cell_type": "code",
   "execution_count": 150,
   "metadata": {},
   "outputs": [
    {
     "data": {
      "text/plain": [
       "array([ 9.0543, 12.0733, 36.716 , 47.4463, 22.0737])"
      ]
     },
     "execution_count": 150,
     "metadata": {},
     "output_type": "execute_result"
    }
   ],
   "source": [
    "mean_2nmC2_nr"
   ]
  },
  {
   "cell_type": "code",
   "execution_count": 151,
   "metadata": {},
   "outputs": [
    {
     "data": {
      "text/plain": [
       "array([2.18864354, 5.03232034, 4.72030482, 7.05154217, 1.74460011])"
      ]
     },
     "execution_count": 151,
     "metadata": {},
     "output_type": "execute_result"
    }
   ],
   "source": [
    "#np.std()\n",
    "#std_2nm_nr[4] = 1\n",
    "std_2nmC2_nr"
   ]
  },
  {
   "cell_type": "code",
   "execution_count": 157,
   "metadata": {},
   "outputs": [
    {
     "data": {
      "application/vnd.jupyter.widget-view+json": {
       "model_id": "b232828e44074f22bc6ebdcd1dd1f0bb",
       "version_major": 2,
       "version_minor": 0
      },
      "text/plain": [
       "Canvas(toolbar=Toolbar(toolitems=[('Home', 'Reset original view', 'home', 'home'), ('Back', 'Back to previous …"
      ]
     },
     "metadata": {},
     "output_type": "display_data"
    },
    {
     "data": {
      "text/plain": [
       "Text(0, 0.5, 'No. of PLGA residues')"
      ]
     },
     "execution_count": 157,
     "metadata": {},
     "output_type": "execute_result"
    }
   ],
   "source": [
    "x_pos = np.arange(5)\n",
    "width = 0.3\n",
    "aa_types = [\"Negative\", \"Positive\", \"Polar\", \"Hydrophobic\", \"Aromatic\"]\n",
    "fig = plt.figure(figsize=(12,12))\n",
    "fig.canvas.layout.width = '800px'\n",
    "fig.canvas.layout.height = '700px'\n",
    "plt.bar(x_pos, mean_12nm_C2nr, width, yerr=std_12nm_C2nr, ecolor='black',capsize=5, color='royalblue')\n",
    "plt.bar(x_pos+width, mean_15nmC2_nr, width, yerr=std_15nmC2_nr, ecolor='black',capsize=5, color='c')\n",
    "plt.bar(x_pos+(2*width), mean_2nmC2_nr, width, yerr=std_2nmC2_nr, ecolor='black',capsize=5, color='lightslategray')\n",
    "plt.title(r'No. of PLGA residues Rg unrestrained, Config 2', fontsize=16)\n",
    "plt.xticks(x_pos+width, labels=aa_types, fontsize=16)\n",
    "plt.yticks(fontsize=16)\n",
    "plt.legend(['Rg = 1.2 nm', 'Rg = 1.5 nm', 'Rg = 2 nm'], frameon=False, fontsize=16)\n",
    "plt.ylabel(r'No. of PLGA residues', fontsize=16)"
   ]
  },
  {
   "cell_type": "markdown",
   "metadata": {},
   "source": [
    "### Protein/polymer contact map movie"
   ]
  },
  {
   "cell_type": "code",
   "execution_count": null,
   "metadata": {},
   "outputs": [],
   "source": [
    "fig = plt.figure(figsize=(10,10))\n",
    "\n",
    "# Set the axis and the plot titles pp\n",
    "\n",
    "plt.title(\"BSA/PLGA contact map 2 nm Unres.\", fontsize=22, loc='left')\n",
    "plt.xlabel(\"PLGA Residue No.\", fontsize=22)\n",
    "plt.ylabel(\"BSA Residue No.\", fontsize=20)\n",
    "\n",
    " # Set the axis range \n",
    "plt.ylim(583, 0)\n",
    "plt.xlim(0, 60)\n",
    "\n",
    "# Plot bands for each chain \n",
    "BANDS = (\n",
    "    (0, 20, \"purple\", \"B\"),\n",
    "    (20, 40, \"blue\", \"C\"),\n",
    "    (40, 60, \"green\", \"D\"),\n",
    ")\n",
    "    \n",
    "text_y = 0.98 # Close to the top\n",
    "for start, stop, color, band in BANDS:\n",
    "    plt.axvspan(start, stop,color=color, alpha=0.15)\n",
    "    text_x = middle_of_band(start,stop)\n",
    "    plt.text(\n",
    "        text_x,\n",
    "        text_y,\n",
    "        \"PLGA chain \" + band,\n",
    "        color=color,\n",
    "        fontsize=18,\n",
    "        transform=fig.gca().transAxes,\n",
    "        horizontalalignment='center',\n",
    "        verticalalignment='center',\n",
    "        style='italic',\n",
    "    )\n",
    "    \n",
    "plt.text(0.94, 1, \"Time [ns]:\", fontsize=20, transform=fig.gca().transAxes, horizontalalignment='right', verticalalignment='bottom')\n",
    "\n",
    "# Set tick label size\n",
    "fig.gca().tick_params(axis='both', which='major', labelsize=20)\n",
    "\n",
    "ims = []\n",
    "for i in range(10000):\n",
    "    data = trj_ppmap2nm_nr[i]\n",
    "    im = plt.imshow(data, aspect='auto', cmap='Greys')\n",
    "    t_sim = plt.text(1.03, 1, str(i/100), fontsize=20, transform=fig.gca().transAxes, horizontalalignment='right', verticalalignment='bottom')\n",
    "    ims.append([im, t_sim])\n",
    "    \n",
    "ani = animation.ArtistAnimation(fig, ims, blit=True, repeat=False)\n",
    "ani.save('2nm_NoRes.mp4', writer='ffmpeg', fps=50, bitrate=100000)\n",
    "#plt.tight_layout()\n",
    "#plt.show()"
   ]
  },
  {
   "cell_type": "code",
   "execution_count": null,
   "metadata": {},
   "outputs": [],
   "source": []
  },
  {
   "cell_type": "code",
   "execution_count": null,
   "metadata": {},
   "outputs": [],
   "source": [
    "plt.close('all')"
   ]
  }
 ],
 "metadata": {
  "kernelspec": {
   "display_name": "Python (ppc_env)",
   "language": "python",
   "name": "ppc_env"
  },
  "language_info": {
   "codemirror_mode": {
    "name": "ipython",
    "version": 3
   },
   "file_extension": ".py",
   "mimetype": "text/x-python",
   "name": "python",
   "nbconvert_exporter": "python",
   "pygments_lexer": "ipython3",
   "version": "3.6.9"
  }
 },
 "nbformat": 4,
 "nbformat_minor": 4
}
