{
 "cells": [
  {
   "cell_type": "code",
   "execution_count": 1,
   "metadata": {},
   "outputs": [],
   "source": [
    "#import the necessary modules \n",
    "%matplotlib inline \n",
    "import numpy as np \n",
    "import matplotlib.pyplot as plt \n",
    "import pandas as pd \n",
    "import scipy\n",
    "import sklearn\n",
    "import itertools \n",
    "from itertools import cycle \n",
    "import os.path as op\n",
    "import timeit \n",
    "import json\n",
    "import math\n"
   ]
  },
  {
   "cell_type": "code",
   "execution_count": 2,
   "metadata": {},
   "outputs": [
    {
     "data": {
      "text/plain": [
       "4"
      ]
     },
     "execution_count": 2,
     "metadata": {},
     "output_type": "execute_result"
    }
   ],
   "source": [
    "import multiprocessing as m_proc\n",
    "m_proc.cpu_count()"
   ]
  },
  {
   "cell_type": "code",
   "execution_count": 3,
   "metadata": {},
   "outputs": [],
   "source": [
    "# Import MDAnalysis\n",
    "import MDAnalysis as mda\n",
    "import statsmodels as stats\n",
    "from MDAnalysis.analysis import polymer, distances, rdf\n",
    "import matplotlib.font_manager as font_manager"
   ]
  },
  {
   "cell_type": "code",
   "execution_count": 4,
   "metadata": {},
   "outputs": [],
   "source": [
    "from polymer_MD_analysis import pers_length, get_rg_pers_poly, bavg_pers_cnt"
   ]
  },
  {
   "cell_type": "markdown",
   "metadata": {},
   "source": [
    "## PEG/0.69 mole acetone-water mixture analysis"
   ]
  },
  {
   "cell_type": "markdown",
   "metadata": {},
   "source": [
    "### N = 6"
   ]
  },
  {
   "cell_type": "code",
   "execution_count": 5,
   "metadata": {},
   "outputs": [],
   "source": [
    "# For the right Rg calculation using MD Analysis, use trajactory without pbc \n",
    "n6_peg_awmix = mda.Universe(\"n6peg_awmix/n6peg_awmix.pdb\", \"n6peg_awmix/awmix_n6peg.xtc\")"
   ]
  },
  {
   "cell_type": "code",
   "execution_count": 6,
   "metadata": {},
   "outputs": [
    {
     "data": {
      "text/plain": [
       "<XTCReader n6peg_prod_ace/noace_n6peg.xtc with 18001 frames of 45 atoms>"
      ]
     },
     "execution_count": 6,
     "metadata": {},
     "output_type": "execute_result"
    }
   ],
   "source": [
    "n6_peg_awmix.trajectory"
   ]
  },
  {
   "cell_type": "code",
   "execution_count": 7,
   "metadata": {},
   "outputs": [
    {
     "data": {
      "text/plain": [
       "18001"
      ]
     },
     "execution_count": 7,
     "metadata": {},
     "output_type": "execute_result"
    }
   ],
   "source": [
    "len(n6_peg_awmix.trajectory)"
   ]
  },
  {
   "cell_type": "code",
   "execution_count": 7,
   "metadata": {},
   "outputs": [],
   "source": [
    "#Select the polymer heavy atoms \n",
    "peg_n6awmix = n6_peg_awmix.select_atoms(\"resname sPEG PEG tPEG and not type H\")"
   ]
  },
  {
   "cell_type": "code",
   "execution_count": 8,
   "metadata": {},
   "outputs": [
    {
     "data": {
      "text/plain": [
       "array([[1.        , 0.99183914, 0.98653879, 0.99083812, 0.99465856],\n",
       "       [0.        , 1.        , 2.        , 3.        , 4.        ],\n",
       "       [0.        , 0.        , 9.41170055, 0.        , 0.        ]])"
      ]
     },
     "execution_count": 8,
     "metadata": {},
     "output_type": "execute_result"
    }
   ],
   "source": [
    "crv_n6peg_awmix = pers_length(peg_n6awmix,6)\n",
    "crv_n6peg_awmix"
   ]
  },
  {
   "cell_type": "code",
   "execution_count": 9,
   "metadata": {},
   "outputs": [],
   "source": [
    "com_bond = np.zeros(shape=(1,18000))\n",
    "count = 0\n",
    "for ts in n6_peg_awmix.trajectory[0:18000]:\n",
    "    n6_mon1_awmix = n6_peg_awmix.select_atoms(\"resid 1\")\n",
    "    n6_mon2_awmix = n6_peg_awmix.select_atoms(\"resid 2\")\n",
    "    oo_len = mda.analysis.distances.distance_array(n6_mon1_awmix.center_of_mass(), n6_mon2_awmix.center_of_mass(), \n",
    "                                                   box=n6_peg_awmix.trajectory.ts.dimensions)\n",
    "    com_bond[0, count] = oo_len\n",
    "    count += 1\n",
    "    "
   ]
  },
  {
   "cell_type": "code",
   "execution_count": 10,
   "metadata": {},
   "outputs": [
    {
     "data": {
      "text/plain": [
       "array([[3.29015272, 3.0615564 , 3.45943953, ..., 3.18612349, 3.13161704,\n",
       "        3.10741132]])"
      ]
     },
     "execution_count": 10,
     "metadata": {},
     "output_type": "execute_result"
    }
   ],
   "source": [
    "com_bond"
   ]
  },
  {
   "cell_type": "code",
   "execution_count": 11,
   "metadata": {},
   "outputs": [
    {
     "data": {
      "text/plain": [
       "3.223841660480229"
      ]
     },
     "execution_count": 11,
     "metadata": {},
     "output_type": "execute_result"
    }
   ],
   "source": [
    "lb_awmix_pn6 = np.mean(com_bond)\n",
    "lb_awmix_pn6"
   ]
  },
  {
   "cell_type": "code",
   "execution_count": 12,
   "metadata": {},
   "outputs": [
    {
     "data": {
      "text/plain": [
       "0.1574573898792014"
      ]
     },
     "execution_count": 12,
     "metadata": {},
     "output_type": "execute_result"
    }
   ],
   "source": [
    "np.std(com_bond)"
   ]
  },
  {
   "cell_type": "markdown",
   "metadata": {},
   "source": [
    "### Radius of Gyration vs. time N = 6 PEG/0.69 mole acetone-water mixture"
   ]
  },
  {
   "cell_type": "code",
   "execution_count": 13,
   "metadata": {},
   "outputs": [],
   "source": [
    "n6peg_rgens_awmix, cor_n6peg_awmix, N6peg_cos_awmix, rgawmix_n6peg = get_rg_pers_poly(peg_n6awmix, n6_peg_awmix, 0, 18000)"
   ]
  },
  {
   "cell_type": "code",
   "execution_count": 14,
   "metadata": {},
   "outputs": [
    {
     "data": {
      "text/plain": [
       "(18000,)"
      ]
     },
     "execution_count": 14,
     "metadata": {},
     "output_type": "execute_result"
    }
   ],
   "source": [
    "n6peg_rgens_awmix[0].shape"
   ]
  },
  {
   "cell_type": "code",
   "execution_count": 15,
   "metadata": {},
   "outputs": [
    {
     "data": {
      "text/plain": [
       "array([0., 1., 2., 3., 4.])"
      ]
     },
     "execution_count": 15,
     "metadata": {},
     "output_type": "execute_result"
    }
   ],
   "source": [
    "cor_n6peg_awmix[3]"
   ]
  },
  {
   "cell_type": "code",
   "execution_count": 16,
   "metadata": {},
   "outputs": [
    {
     "data": {
      "text/plain": [
       "array([[1.        , 1.        , 1.        , ..., 1.        , 1.        ,\n",
       "        1.        ],\n",
       "       [0.99183914, 0.98185403, 0.97451777, ..., 0.88066425, 0.91474538,\n",
       "        0.91383673],\n",
       "       [0.98653879, 0.93875622, 0.9580052 , ..., 0.71865739, 0.74832468,\n",
       "        0.78276003],\n",
       "       [0.99083812, 0.87683644, 0.97197731, ..., 0.51852731, 0.50651881,\n",
       "        0.59800455],\n",
       "       [0.99465856, 0.77751863, 0.93172742, ..., 0.22723965, 0.11534109,\n",
       "        0.14396711]])"
      ]
     },
     "execution_count": 16,
     "metadata": {},
     "output_type": "execute_result"
    }
   ],
   "source": [
    "N6peg_cos_awmix"
   ]
  },
  {
   "cell_type": "code",
   "execution_count": 17,
   "metadata": {},
   "outputs": [
    {
     "data": {
      "text/plain": [
       "4.255501025463929"
      ]
     },
     "execution_count": 17,
     "metadata": {},
     "output_type": "execute_result"
    }
   ],
   "source": [
    "rgawmix_n6peg"
   ]
  },
  {
   "cell_type": "code",
   "execution_count": 18,
   "metadata": {},
   "outputs": [
    {
     "data": {
      "text/plain": [
       "0.6103649860018241"
      ]
     },
     "execution_count": 18,
     "metadata": {},
     "output_type": "execute_result"
    }
   ],
   "source": [
    "np.std(n6peg_rgens_awmix)"
   ]
  },
  {
   "cell_type": "code",
   "execution_count": 19,
   "metadata": {},
   "outputs": [
    {
     "data": {
      "text/plain": [
       "array([    0,     1,     2, ..., 17997, 17998, 17999])"
      ]
     },
     "execution_count": 19,
     "metadata": {},
     "output_type": "execute_result"
    }
   ],
   "source": [
    "trj_len = np.arange(18000)\n",
    "\n",
    "#trj_len += 1\n",
    "trj_len\n"
   ]
  },
  {
   "cell_type": "code",
   "execution_count": 59,
   "metadata": {},
   "outputs": [
    {
     "data": {
      "text/plain": [
       "(0.2, 2)"
      ]
     },
     "execution_count": 59,
     "metadata": {},
     "output_type": "execute_result"
    },
    {
     "data": {
      "image/png": "[encoded data removed]",
      "text/plain": [
       "<Figure size 504x504 with 1 Axes>"
      ]
     },
     "metadata": {
      "needs_background": "light"
     },
     "output_type": "display_data"
    }
   ],
   "source": [
    "plt.figure(figsize=(7,7))\n",
    "plt.title(r'PEG Radius of Gyration', fontsize=18, y=1.01)\n",
    "plt.xlabel(r'Time [ns]', fontsize=15)\n",
    "plt.ylabel(r'$R_{g}$ [nm]', fontsize=15)\n",
    "plt.plot(trj_len/100, n6peg_rgens_awmix[0]/10,linewidth=2, color='#1F2E69')\n",
    "plt.tick_params(labelsize=14)\n",
    "plt.legend(['N = 6 in 0.69 a/w mix'], frameon=False, fontsize=14)\n",
    "#plt.text(127, 0.96,r'N = 6 in water', fontsize=18, color='#1F2E69', family='Arial')\n",
    "plt.xlim(0,180)\n",
    "plt.ylim(0.2,2)"
   ]
  },
  {
   "cell_type": "markdown",
   "metadata": {},
   "source": [
    "#### Correlation values at each arc length for the whole 180 ns trajectory, N = 6 PEG/acetone"
   ]
  },
  {
   "cell_type": "code",
   "execution_count": 22,
   "metadata": {},
   "outputs": [
    {
     "data": {
      "text/plain": [
       "array([ 0.        ,  3.22384166,  6.44768332,  9.67152498, 12.89536664])"
      ]
     },
     "execution_count": 22,
     "metadata": {},
     "output_type": "execute_result"
    }
   ],
   "source": [
    "# x values\n",
    "blen_awmix = cor_n6peg_awmix[3]*lb_awmix_pn6\n",
    "#nt_tt[0] = 0\n",
    "blen_awmix"
   ]
  },
  {
   "cell_type": "code",
   "execution_count": 23,
   "metadata": {},
   "outputs": [
    {
     "data": {
      "text/plain": [
       "array([5.67795837e-17, 4.24071117e-02, 1.84983200e-01, 5.71811741e-01,\n",
       "       1.43423595e+00])"
      ]
     },
     "execution_count": 23,
     "metadata": {},
     "output_type": "execute_result"
    }
   ],
   "source": [
    "mk_n6p_awmix = cor_n6peg_awmix[1]/cor_n6peg_awmix[0]\n",
    "mk_n6p_awmix"
   ]
  },
  {
   "cell_type": "code",
   "execution_count": 62,
   "metadata": {},
   "outputs": [
    {
     "data": {
      "text/plain": [
       "<matplotlib.legend.Legend at 0x1a19720940>"
      ]
     },
     "execution_count": 62,
     "metadata": {},
     "output_type": "execute_result"
    },
    {
     "data": {
      "image/png": "[encoded data removed]",
      "text/plain": [
       "<Figure size 504x504 with 1 Axes>"
      ]
     },
     "metadata": {
      "needs_background": "light"
     },
     "output_type": "display_data"
    }
   ],
   "source": [
    "plt.figure(figsize=(7,7))\n",
    "plt.errorbar(blen_awmix, np.log(cor_n6peg_awmix[0]), yerr=mk_n6p_awmix, color='#1F2E69', linestyle=\"None\",marker='o',\n",
    "     capsize=5, capthick=1, ecolor='black')\n",
    "plt.legend(['N = 6 in 0.69 a/w mix'], frameon=False, fontsize=14)"
   ]
  },
  {
   "cell_type": "code",
   "execution_count": 38,
   "metadata": {},
   "outputs": [
    {
     "name": "stdout",
     "output_type": "stream",
     "text": [
      "3000\n",
      "6000\n",
      "Lp [Angstroms]: 13.681590735122702\n",
      "Error in Lp from fit [Angstroms], 95% CL : 3.7543155681582117\n",
      "R2 score: 0.94764961248669\n",
      "6000\n",
      "9000\n",
      "Lp [Angstroms]: 14.545926614777606\n",
      "Error in Lp from fit [Angstroms], 95% CL : 3.606788835829517\n",
      "R2 score: 0.9563112221915082\n",
      "9000\n",
      "12000\n",
      "Lp [Angstroms]: 17.394214471442172\n",
      "Error in Lp from fit [Angstroms], 95% CL : 3.4924006671848953\n",
      "R2 score: 0.9700553030794369\n",
      "12000\n",
      "15000\n",
      "Lp [Angstroms]: 12.305072054485999\n",
      "Error in Lp from fit [Angstroms], 95% CL : 3.9400578474101975\n",
      "R2 score: 0.9316851080899553\n",
      "15000\n",
      "18000\n",
      "Lp [Angstroms]: 13.896267547168607\n",
      "Error in Lp from fit [Angstroms], 95% CL : 3.9167516006662244\n",
      "R2 score: 0.9452165364378042\n"
     ]
    }
   ],
   "source": [
    "# 4 points give the best fits for N = 6 peg in water\n",
    "n6_blkspeg_awmix , n6peg_lpawmix = bavg_pers_cnt(5, peg_n6awmix, n6_peg_awmix, lb_awmix_pn6, 4, 3000 , 18000)"
   ]
  },
  {
   "cell_type": "code",
   "execution_count": 39,
   "metadata": {},
   "outputs": [
    {
     "data": {
      "text/plain": [
       "{'Avg Radius of gyration': array([4.16949192, 4.26212192, 4.42600886, 4.10310356, 4.2058422 ]),\n",
       " 'Avg persistence length': array([13.68159074, 14.54592661, 17.39421447, 12.30507205, 13.89626755])}"
      ]
     },
     "execution_count": 39,
     "metadata": {},
     "output_type": "execute_result"
    }
   ],
   "source": [
    "n6_blkspeg_awmix"
   ]
  },
  {
   "cell_type": "code",
   "execution_count": 40,
   "metadata": {},
   "outputs": [
    {
     "data": {
      "text/plain": [
       "array([[ 1.36815907e+01,  1.45459266e+01,  1.73942145e+01,\n",
       "         1.23050721e+01,  1.38962675e+01],\n",
       "       [ 3.75431557e+00,  3.60678884e+00,  3.49240067e+00,\n",
       "         3.94005785e+00,  3.91675160e+00],\n",
       "       [-7.30909161e-02, -6.87477688e-02, -5.74903800e-02,\n",
       "        -8.12673014e-02, -7.19617693e-02],\n",
       "       [ 4.64400766e-03,  3.35469950e-03,  1.53817802e-03,\n",
       "         7.81711158e-03,  4.74938253e-03]])"
      ]
     },
     "execution_count": 40,
     "metadata": {},
     "output_type": "execute_result"
    }
   ],
   "source": [
    "n6peg_lpawmix"
   ]
  },
  {
   "cell_type": "code",
   "execution_count": 41,
   "metadata": {},
   "outputs": [
    {
     "data": {
      "text/plain": [
       "array([-0.07309092, -0.06874777, -0.05749038, -0.0812673 , -0.07196177])"
      ]
     },
     "execution_count": 41,
     "metadata": {},
     "output_type": "execute_result"
    }
   ],
   "source": [
    "n6peg_lpawmix[2]"
   ]
  },
  {
   "cell_type": "code",
   "execution_count": 42,
   "metadata": {},
   "outputs": [
    {
     "data": {
      "text/plain": [
       "0.004420675856758399"
      ]
     },
     "execution_count": 42,
     "metadata": {},
     "output_type": "execute_result"
    }
   ],
   "source": [
    "np.mean(n6peg_lpawmix[3])"
   ]
  },
  {
   "cell_type": "code",
   "execution_count": 43,
   "metadata": {},
   "outputs": [],
   "source": [
    "def line_fit(slope, x):\n",
    "    return slope*x "
   ]
  },
  {
   "cell_type": "code",
   "execution_count": 44,
   "metadata": {},
   "outputs": [
    {
     "data": {
      "text/plain": [
       "array([ 0.        ,  3.22384166,  6.44768332,  9.67152498, 12.89536664])"
      ]
     },
     "execution_count": 44,
     "metadata": {},
     "output_type": "execute_result"
    }
   ],
   "source": [
    "blen_awmix"
   ]
  },
  {
   "cell_type": "code",
   "execution_count": 45,
   "metadata": {},
   "outputs": [],
   "source": [
    "gg_n6peg_awmix = line_fit(np.mean(n6peg_lpawmix[2]),blen_awmix)"
   ]
  },
  {
   "cell_type": "code",
   "execution_count": 46,
   "metadata": {},
   "outputs": [
    {
     "data": {
      "text/plain": [
       "array([-0.        , -0.22731832, -0.45463664, -0.68195496, -0.90927328])"
      ]
     },
     "execution_count": 46,
     "metadata": {},
     "output_type": "execute_result"
    }
   ],
   "source": [
    "gg_n6peg_awmix"
   ]
  },
  {
   "cell_type": "markdown",
   "metadata": {},
   "source": [
    "### Block averaged Radius of gyration and persistence length, N = 6 PEG/0.69 mole acetone-water mixture "
   ]
  },
  {
   "cell_type": "code",
   "execution_count": 47,
   "metadata": {},
   "outputs": [
    {
     "data": {
      "text/plain": [
       "14.364614284599417"
      ]
     },
     "execution_count": 47,
     "metadata": {},
     "output_type": "execute_result"
    }
   ],
   "source": [
    "np.mean(n6_blkspeg_awmix[\"Avg persistence length\"])"
   ]
  },
  {
   "cell_type": "code",
   "execution_count": 48,
   "metadata": {},
   "outputs": [
    {
     "data": {
      "text/plain": [
       "1.68160253843854"
      ]
     },
     "execution_count": 48,
     "metadata": {},
     "output_type": "execute_result"
    }
   ],
   "source": [
    "np.std(n6_blkspeg_awmix[\"Avg persistence length\"])"
   ]
  },
  {
   "cell_type": "code",
   "execution_count": 49,
   "metadata": {},
   "outputs": [
    {
     "data": {
      "text/plain": [
       "4.2333136936320885"
      ]
     },
     "execution_count": 49,
     "metadata": {},
     "output_type": "execute_result"
    }
   ],
   "source": [
    "np.mean(n6_blkspeg_awmix[\"Avg Radius of gyration\"])"
   ]
  },
  {
   "cell_type": "code",
   "execution_count": 50,
   "metadata": {},
   "outputs": [
    {
     "data": {
      "text/plain": [
       "0.1093104960027649"
      ]
     },
     "execution_count": 50,
     "metadata": {},
     "output_type": "execute_result"
    }
   ],
   "source": [
    "np.std(n6_blkspeg_awmix[\"Avg Radius of gyration\"])"
   ]
  },
  {
   "cell_type": "code",
   "execution_count": 63,
   "metadata": {},
   "outputs": [
    {
     "data": {
      "image/png": "[encoded data removed]",
      "text/plain": [
       "<Figure size 504x504 with 1 Axes>"
      ]
     },
     "metadata": {
      "needs_background": "light"
     },
     "output_type": "display_data"
    }
   ],
   "source": [
    "plt.figure(figsize=(7,7))\n",
    "plt.errorbar(blen_awmix, np.log(cor_n6peg_awmix[0]), yerr=mk_n6p_awmix, color='#1F2E69', linestyle=\"None\",marker='o',\n",
    "     capsize=5, capthick=1, ecolor='black')\n",
    "plt.plot(blen_awmix, gg_n6peg_awmix, color='#1F2E69')\n",
    "plt.title(r'Ensemble Averaged ln(Cosine $\\theta$) in 0.69 a/w mix', fontsize=15, y=1.01)\n",
    "plt.xlabel(r'Bond Length', fontsize=15)\n",
    "plt.ylabel(r'ln$\\left< Cos(\\theta)\\right >$', fontsize=15)\n",
    "#plt.ylim(-1.9,0)\n",
    "font = font_manager.FontProperties(family='Arial', style='normal', size='14')\n",
    "plt.legend([r'$N_{PEG}$ = 6: $L_{p}$ = 14.4 $\\AA$ ± 1.68 $\\AA$'], loc=3, frameon=0, fontsize=14, prop=font)\n",
    "plt.tick_params(labelsize=14)\n",
    "#plt.text(5,-0.15,r'R$^{2}$ = 0.98', fontsize=15, color='blue')"
   ]
  },
  {
   "cell_type": "code",
   "execution_count": 54,
   "metadata": {},
   "outputs": [
    {
     "data": {
      "text/html": [
       "<div>\n",
       "<style scoped>\n",
       "    .dataframe tbody tr th:only-of-type {\n",
       "        vertical-align: middle;\n",
       "    }\n",
       "\n",
       "    .dataframe tbody tr th {\n",
       "        vertical-align: top;\n",
       "    }\n",
       "\n",
       "    .dataframe thead th {\n",
       "        text-align: right;\n",
       "    }\n",
       "</style>\n",
       "<table border=\"1\" class=\"dataframe\">\n",
       "  <thead>\n",
       "    <tr style=\"text-align: right;\">\n",
       "      <th></th>\n",
       "      <th>$R_{g}$ [Angstrom] N = 6 PEG 0.69 a/w</th>\n",
       "    </tr>\n",
       "  </thead>\n",
       "  <tbody>\n",
       "    <tr>\n",
       "      <td>0</td>\n",
       "      <td>4.169492</td>\n",
       "    </tr>\n",
       "    <tr>\n",
       "      <td>1</td>\n",
       "      <td>4.262122</td>\n",
       "    </tr>\n",
       "    <tr>\n",
       "      <td>2</td>\n",
       "      <td>4.426009</td>\n",
       "    </tr>\n",
       "    <tr>\n",
       "      <td>3</td>\n",
       "      <td>4.103104</td>\n",
       "    </tr>\n",
       "    <tr>\n",
       "      <td>4</td>\n",
       "      <td>4.205842</td>\n",
       "    </tr>\n",
       "  </tbody>\n",
       "</table>\n",
       "</div>"
      ],
      "text/plain": [
       "   $R_{g}$ [Angstrom] N = 6 PEG 0.69 a/w\n",
       "0                               4.169492\n",
       "1                               4.262122\n",
       "2                               4.426009\n",
       "3                               4.103104\n",
       "4                               4.205842"
      ]
     },
     "execution_count": 54,
     "metadata": {},
     "output_type": "execute_result"
    }
   ],
   "source": [
    "rgpeg_olig_awmix =  pd.DataFrame(data=n6_blkspeg_awmix[\"Avg Radius of gyration\"], columns=['$R_{g}$ [Angstrom] N = 6 PEG 0.69 a/w'])\n",
    "rgpeg_olig_awmix"
   ]
  },
  {
   "cell_type": "code",
   "execution_count": 55,
   "metadata": {},
   "outputs": [
    {
     "data": {
      "text/html": [
       "<div>\n",
       "<style scoped>\n",
       "    .dataframe tbody tr th:only-of-type {\n",
       "        vertical-align: middle;\n",
       "    }\n",
       "\n",
       "    .dataframe tbody tr th {\n",
       "        vertical-align: top;\n",
       "    }\n",
       "\n",
       "    .dataframe thead th {\n",
       "        text-align: right;\n",
       "    }\n",
       "</style>\n",
       "<table border=\"1\" class=\"dataframe\">\n",
       "  <thead>\n",
       "    <tr style=\"text-align: right;\">\n",
       "      <th></th>\n",
       "      <th>$L_{p}$ [Angstrom] N = 6 PEG 0.69 a/w</th>\n",
       "    </tr>\n",
       "  </thead>\n",
       "  <tbody>\n",
       "    <tr>\n",
       "      <td>0</td>\n",
       "      <td>13.681591</td>\n",
       "    </tr>\n",
       "    <tr>\n",
       "      <td>1</td>\n",
       "      <td>14.545927</td>\n",
       "    </tr>\n",
       "    <tr>\n",
       "      <td>2</td>\n",
       "      <td>17.394214</td>\n",
       "    </tr>\n",
       "    <tr>\n",
       "      <td>3</td>\n",
       "      <td>12.305072</td>\n",
       "    </tr>\n",
       "    <tr>\n",
       "      <td>4</td>\n",
       "      <td>13.896268</td>\n",
       "    </tr>\n",
       "  </tbody>\n",
       "</table>\n",
       "</div>"
      ],
      "text/plain": [
       "   $L_{p}$ [Angstrom] N = 6 PEG 0.69 a/w \n",
       "0                               13.681591\n",
       "1                               14.545927\n",
       "2                               17.394214\n",
       "3                               12.305072\n",
       "4                               13.896268"
      ]
     },
     "execution_count": 55,
     "metadata": {},
     "output_type": "execute_result"
    }
   ],
   "source": [
    "pers_pegt_awmix = pd.DataFrame(data=n6_blkspeg_awmix[\"Avg persistence length\"], columns=[r\"$L_{p}$ [Angstrom] N = 6 PEG 0.69 a/w \"])\n",
    "pers_pegt_awmix"
   ]
  },
  {
   "cell_type": "code",
   "execution_count": null,
   "metadata": {},
   "outputs": [],
   "source": []
  },
  {
   "cell_type": "code",
   "execution_count": null,
   "metadata": {},
   "outputs": [],
   "source": []
  },
  {
   "cell_type": "markdown",
   "metadata": {},
   "source": [
    "### N = 8 PEG/0.69 a/w mix"
   ]
  },
  {
   "cell_type": "code",
   "execution_count": 64,
   "metadata": {},
   "outputs": [],
   "source": [
    "# For the right Rg calculation using MD Analysis, use trajactory without pbc \n",
    "n8_peg_awmix = mda.Universe(\"n8peg_awmix/n8peg_awmix.pdb\", \"n8peg_awmix/awmix_n8peg.xtc\")"
   ]
  },
  {
   "cell_type": "code",
   "execution_count": 65,
   "metadata": {},
   "outputs": [
    {
     "data": {
      "text/plain": [
       "<XTCReader n8peg_awmix/awmix_n8peg.xtc with 18001 frames of 59 atoms>"
      ]
     },
     "execution_count": 65,
     "metadata": {},
     "output_type": "execute_result"
    }
   ],
   "source": [
    "n8_peg_awmix.trajectory"
   ]
  },
  {
   "cell_type": "code",
   "execution_count": 66,
   "metadata": {},
   "outputs": [
    {
     "data": {
      "text/plain": [
       "18001"
      ]
     },
     "execution_count": 66,
     "metadata": {},
     "output_type": "execute_result"
    }
   ],
   "source": [
    "len(n8_peg_awmix.trajectory)"
   ]
  },
  {
   "cell_type": "code",
   "execution_count": 67,
   "metadata": {},
   "outputs": [],
   "source": [
    "#Select the polymer heavy atoms \n",
    "peg_n8awmix = n8_peg_awmix.select_atoms(\"resname sPEG PEG tPEG and not type H\")"
   ]
  },
  {
   "cell_type": "code",
   "execution_count": 68,
   "metadata": {},
   "outputs": [
    {
     "data": {
      "text/plain": [
       "array([[ 1.        ,  0.99416704,  0.99517693,  0.9906698 ,  0.98890063,\n",
       "         0.98136093,  0.98223373],\n",
       "       [ 0.        ,  1.        ,  2.        ,  3.        ,  4.        ,\n",
       "         5.        ,  6.        ],\n",
       "       [ 0.        ,  0.        ,  0.        ,  0.        ,  8.54455237,\n",
       "        11.07966605, 10.81635372]])"
      ]
     },
     "execution_count": 68,
     "metadata": {},
     "output_type": "execute_result"
    }
   ],
   "source": [
    "crv_n8peg_awmix = pers_length(peg_n8awmix,8)\n",
    "crv_n8peg_awmix"
   ]
  },
  {
   "cell_type": "code",
   "execution_count": 69,
   "metadata": {},
   "outputs": [],
   "source": [
    "com_bond_n8awmix = np.zeros(shape=(1,18000))\n",
    "count = 0\n",
    "for ts in n8_peg_awmix.trajectory[0:18000]:\n",
    "    n8_mon1_awmix = n8_peg_awmix.select_atoms(\"resid 1\")\n",
    "    n8_mon2_awmix = n8_peg_awmix.select_atoms(\"resid 2\")\n",
    "    oo_len = mda.analysis.distances.distance_array(n8_mon1_awmix.center_of_mass(), n8_mon2_awmix.center_of_mass(), \n",
    "                                                   box=n8_peg_awmix.trajectory.ts.dimensions)\n",
    "    com_bond_n8awmix[0, count] = oo_len\n",
    "    count += 1\n",
    "    "
   ]
  },
  {
   "cell_type": "code",
   "execution_count": 70,
   "metadata": {},
   "outputs": [
    {
     "data": {
      "text/plain": [
       "array([[3.29661362, 3.18489478, 3.03956132, ..., 3.06135973, 2.96323469,\n",
       "        3.3490332 ]])"
      ]
     },
     "execution_count": 70,
     "metadata": {},
     "output_type": "execute_result"
    }
   ],
   "source": [
    "com_bond_n8awmix"
   ]
  },
  {
   "cell_type": "code",
   "execution_count": 71,
   "metadata": {},
   "outputs": [
    {
     "data": {
      "text/plain": [
       "3.223841660480229"
      ]
     },
     "execution_count": 71,
     "metadata": {},
     "output_type": "execute_result"
    }
   ],
   "source": [
    "lb_awmix_pn6"
   ]
  },
  {
   "cell_type": "code",
   "execution_count": 72,
   "metadata": {},
   "outputs": [
    {
     "data": {
      "text/plain": [
       "0.1574573898792014"
      ]
     },
     "execution_count": 72,
     "metadata": {},
     "output_type": "execute_result"
    }
   ],
   "source": [
    "np.std(com_bond)"
   ]
  },
  {
   "cell_type": "code",
   "execution_count": 73,
   "metadata": {},
   "outputs": [
    {
     "data": {
      "text/plain": [
       "3.229060119244199"
      ]
     },
     "execution_count": 73,
     "metadata": {},
     "output_type": "execute_result"
    }
   ],
   "source": [
    "np.mean(com_bond_n8awmix)"
   ]
  },
  {
   "cell_type": "code",
   "execution_count": 74,
   "metadata": {},
   "outputs": [
    {
     "data": {
      "text/plain": [
       "0.1567876829876279"
      ]
     },
     "execution_count": 74,
     "metadata": {},
     "output_type": "execute_result"
    }
   ],
   "source": [
    "np.std(com_bond_n8awmix)"
   ]
  },
  {
   "cell_type": "markdown",
   "metadata": {},
   "source": [
    "### Radius of Gyration vs. time N = 8 PEG/0.69 mol a-w mix"
   ]
  },
  {
   "cell_type": "code",
   "execution_count": 75,
   "metadata": {},
   "outputs": [],
   "source": [
    "n8peg_rgens_awmix, cor_n8peg_awmix, N8peg_cos_awmix, rgawmix_n8peg = get_rg_pers_poly(peg_n8awmix, n8_peg_awmix, 0, 18000)"
   ]
  },
  {
   "cell_type": "code",
   "execution_count": 76,
   "metadata": {},
   "outputs": [
    {
     "data": {
      "text/plain": [
       "(18000,)"
      ]
     },
     "execution_count": 76,
     "metadata": {},
     "output_type": "execute_result"
    }
   ],
   "source": [
    "n8peg_rgens_awmix[0].shape"
   ]
  },
  {
   "cell_type": "code",
   "execution_count": 77,
   "metadata": {},
   "outputs": [
    {
     "data": {
      "text/plain": [
       "array([0., 1., 2., 3., 4., 5., 6.])"
      ]
     },
     "execution_count": 77,
     "metadata": {},
     "output_type": "execute_result"
    }
   ],
   "source": [
    "cor_n8peg_awmix[3]"
   ]
  },
  {
   "cell_type": "code",
   "execution_count": 78,
   "metadata": {},
   "outputs": [
    {
     "data": {
      "text/plain": [
       "array([[1.        , 1.        , 1.        , ..., 1.        , 1.        ,\n",
       "        1.        ],\n",
       "       [0.99416704, 0.93105928, 0.92485144, ..., 0.89450736, 0.84723151,\n",
       "        0.87393683],\n",
       "       [0.99517693, 0.87506964, 0.83553902, ..., 0.72247318, 0.66129761,\n",
       "        0.64857109],\n",
       "       ...,\n",
       "       [0.98890063, 0.80334297, 0.64732794, ..., 0.53925762, 0.60503087,\n",
       "        0.42174146],\n",
       "       [0.98136093, 0.72135443, 0.74911421, ..., 0.46470543, 0.69921933,\n",
       "        0.35360454],\n",
       "       [0.98223373, 0.45809443, 0.73306931, ..., 0.72359263, 0.93165957,\n",
       "        0.54909163]])"
      ]
     },
     "execution_count": 78,
     "metadata": {},
     "output_type": "execute_result"
    }
   ],
   "source": [
    "N8peg_cos_awmix"
   ]
  },
  {
   "cell_type": "code",
   "execution_count": 79,
   "metadata": {},
   "outputs": [
    {
     "data": {
      "text/plain": [
       "5.0548298738519595"
      ]
     },
     "execution_count": 79,
     "metadata": {},
     "output_type": "execute_result"
    }
   ],
   "source": [
    "rgawmix_n8peg"
   ]
  },
  {
   "cell_type": "code",
   "execution_count": 80,
   "metadata": {},
   "outputs": [
    {
     "data": {
      "text/plain": [
       "0.842606159754145"
      ]
     },
     "execution_count": 80,
     "metadata": {},
     "output_type": "execute_result"
    }
   ],
   "source": [
    "np.std(n8peg_rgens_awmix)"
   ]
  },
  {
   "cell_type": "code",
   "execution_count": 81,
   "metadata": {},
   "outputs": [
    {
     "data": {
      "text/plain": [
       "(0.2, 2)"
      ]
     },
     "execution_count": 81,
     "metadata": {},
     "output_type": "execute_result"
    },
    {
     "data": {
      "image/png": "[encoded data removed]",
      "text/plain": [
       "<Figure size 504x504 with 1 Axes>"
      ]
     },
     "metadata": {
      "needs_background": "light"
     },
     "output_type": "display_data"
    }
   ],
   "source": [
    "plt.figure(figsize=(7,7))\n",
    "plt.title(r'PEG Radius of Gyration', fontsize=18, y=1.01)\n",
    "plt.xlabel(r'Time [ns]', fontsize=15)\n",
    "plt.ylabel(r'$R_{g}$ [nm]', fontsize=15)\n",
    "plt.plot(trj_len/100, n6peg_rgens_awmix[0]/10,linewidth=2, color='#1F2E69')\n",
    "plt.plot(trj_len/100, n8peg_rgens_awmix[0]/10,linewidth=2, color='#4C80ED')\n",
    "plt.tick_params(labelsize=14)\n",
    "plt.legend(['N = 6 in 0.69 a/w mix','N = 8 in 0.69 a/w mix'], frameon=False, fontsize=14)\n",
    "#plt.text(127, 0.96,r'N = 6 in water', fontsize=18, color='#1F2E69', family='Arial')\n",
    "plt.xlim(0,180)\n",
    "plt.ylim(0.2,2)"
   ]
  },
  {
   "cell_type": "markdown",
   "metadata": {},
   "source": [
    "#### Correlation values at each arc length for the whole 180 ns trajectory, N = 8 PEG/acetone"
   ]
  },
  {
   "cell_type": "code",
   "execution_count": 82,
   "metadata": {},
   "outputs": [
    {
     "data": {
      "text/plain": [
       "array([ 0.        ,  3.22384166,  6.44768332,  9.67152498, 12.89536664,\n",
       "       16.1192083 , 19.34304996])"
      ]
     },
     "execution_count": 82,
     "metadata": {},
     "output_type": "execute_result"
    }
   ],
   "source": [
    "# x values\n",
    "blen_n8awmix = cor_n8peg_awmix[3]*lb_awmix_pn6\n",
    "#nt_tt[0] = 0\n",
    "blen_n8awmix"
   ]
  },
  {
   "cell_type": "code",
   "execution_count": 83,
   "metadata": {},
   "outputs": [
    {
     "data": {
      "text/plain": [
       "array([3.80115172e-17, 3.46940399e-02, 1.29129350e-01, 3.09022933e-01,\n",
       "       5.50904936e-01, 8.67573507e-01, 1.26128664e+00])"
      ]
     },
     "execution_count": 83,
     "metadata": {},
     "output_type": "execute_result"
    }
   ],
   "source": [
    "mk_n8p_awmix = cor_n8peg_awmix[1]/cor_n8peg_awmix[0]\n",
    "mk_n8p_awmix"
   ]
  },
  {
   "cell_type": "code",
   "execution_count": 84,
   "metadata": {},
   "outputs": [
    {
     "data": {
      "text/plain": [
       "<matplotlib.legend.Legend at 0x1a1a1dbeb8>"
      ]
     },
     "execution_count": 84,
     "metadata": {},
     "output_type": "execute_result"
    },
    {
     "data": {
      "image/png": "[encoded data removed]",
      "text/plain": [
       "<Figure size 504x504 with 1 Axes>"
      ]
     },
     "metadata": {
      "needs_background": "light"
     },
     "output_type": "display_data"
    }
   ],
   "source": [
    "plt.figure(figsize=(7,7))\n",
    "plt.errorbar(blen_awmix, np.log(cor_n6peg_awmix[0]), yerr=mk_n6p_awmix, color='#1F2E69', linestyle=\"None\",marker='o',\n",
    "     capsize=5, capthick=1, ecolor='black')\n",
    "plt.errorbar(blen_n8awmix, np.log(cor_n8peg_awmix[0]), yerr=mk_n8p_awmix, color='#4C80ED', linestyle=\"None\",marker='o',\n",
    "     capsize=5, capthick=1, ecolor='black')\n",
    "plt.legend(['N = 6 in 0.69 a/w mix','N = 8 in 0.69 a/w mix'], frameon=False, fontsize=14)"
   ]
  },
  {
   "cell_type": "code",
   "execution_count": 85,
   "metadata": {},
   "outputs": [
    {
     "name": "stdout",
     "output_type": "stream",
     "text": [
      "3000\n",
      "6000\n",
      "Lp [Angstroms]: 16.404988640342378\n",
      "Error in Lp from fit [Angstroms], 95% CL : 1.586490049884505\n",
      "R2 score: 0.9818240140310551\n",
      "6000\n",
      "9000\n",
      "Lp [Angstroms]: 16.947136362548708\n",
      "Error in Lp from fit [Angstroms], 95% CL : 1.4063709248412672\n",
      "R2 score: 0.9862786068893248\n",
      "9000\n",
      "12000\n",
      "Lp [Angstroms]: 17.42357013284116\n",
      "Error in Lp from fit [Angstroms], 95% CL : 1.4475726591525597\n",
      "R2 score: 0.9857358651704029\n",
      "12000\n",
      "15000\n",
      "Lp [Angstroms]: 18.350388090863543\n",
      "Error in Lp from fit [Angstroms], 95% CL : 1.430316635304208\n",
      "R2 score: 0.987571795590092\n",
      "15000\n",
      "18000\n",
      "Lp [Angstroms]: 14.848800710889087\n",
      "Error in Lp from fit [Angstroms], 95% CL : 1.555798168068354\n",
      "R2 score: 0.9788622562245511\n"
     ]
    }
   ],
   "source": [
    "# All the points give the best fits for N = 6 peg in water\n",
    "n8_blkspeg_awmix , n8peg_lpawmix = bavg_pers_cnt(5, peg_n8awmix, n8_peg_awmix, lb_awmix_pn6, 5, 3000 , 18000)"
   ]
  },
  {
   "cell_type": "code",
   "execution_count": 86,
   "metadata": {},
   "outputs": [
    {
     "data": {
      "text/plain": [
       "{'Avg Radius of gyration': array([5.10054498, 5.14358767, 5.03966482, 5.21116913, 4.8331832 ]),\n",
       " 'Avg persistence length': array([16.40498864, 16.94713636, 17.42357013, 18.35038809, 14.84880071])}"
      ]
     },
     "execution_count": 86,
     "metadata": {},
     "output_type": "execute_result"
    }
   ],
   "source": [
    "n8_blkspeg_awmix"
   ]
  },
  {
   "cell_type": "code",
   "execution_count": 87,
   "metadata": {},
   "outputs": [
    {
     "data": {
      "text/plain": [
       "array([[ 1.64049886e+01,  1.69471364e+01,  1.74235701e+01,\n",
       "         1.83503881e+01,  1.48488007e+01],\n",
       "       [ 1.58649005e+00,  1.40637092e+00,  1.44757266e+00,\n",
       "         1.43031664e+00,  1.55579817e+00],\n",
       "       [-6.09570675e-02, -5.90070192e-02, -5.73935188e-02,\n",
       "        -5.44947603e-02, -6.73455062e-02],\n",
       "       [ 1.63986553e-03,  1.13149263e-03,  1.07292514e-03,\n",
       "         8.51374491e-04,  2.34951524e-03]])"
      ]
     },
     "execution_count": 87,
     "metadata": {},
     "output_type": "execute_result"
    }
   ],
   "source": [
    "n8peg_lpawmix"
   ]
  },
  {
   "cell_type": "code",
   "execution_count": 88,
   "metadata": {},
   "outputs": [
    {
     "data": {
      "text/plain": [
       "array([-0.06095707, -0.05900702, -0.05739352, -0.05449476, -0.06734551])"
      ]
     },
     "execution_count": 88,
     "metadata": {},
     "output_type": "execute_result"
    }
   ],
   "source": [
    "n8peg_lpawmix[2]"
   ]
  },
  {
   "cell_type": "code",
   "execution_count": 89,
   "metadata": {},
   "outputs": [
    {
     "data": {
      "text/plain": [
       "0.001409034606594672"
      ]
     },
     "execution_count": 89,
     "metadata": {},
     "output_type": "execute_result"
    }
   ],
   "source": [
    "np.mean(n8peg_lpawmix[3])"
   ]
  },
  {
   "cell_type": "code",
   "execution_count": 90,
   "metadata": {},
   "outputs": [
    {
     "data": {
      "text/plain": [
       "array([ 0.        ,  3.22384166,  6.44768332,  9.67152498, 12.89536664,\n",
       "       16.1192083 , 19.34304996])"
      ]
     },
     "execution_count": 90,
     "metadata": {},
     "output_type": "execute_result"
    }
   ],
   "source": [
    "blen_n8awmix"
   ]
  },
  {
   "cell_type": "code",
   "execution_count": 92,
   "metadata": {},
   "outputs": [],
   "source": [
    "gg_n8peg_awmix = line_fit(np.mean(n8peg_lpawmix[2]),blen_n8awmix)"
   ]
  },
  {
   "cell_type": "code",
   "execution_count": 93,
   "metadata": {},
   "outputs": [],
   "source": [
    "gg_n6peg_n8awmix = line_fit(np.mean(n6peg_lpawmix[2]),blen_n8awmix)"
   ]
  },
  {
   "cell_type": "code",
   "execution_count": 94,
   "metadata": {},
   "outputs": [
    {
     "data": {
      "text/plain": [
       "array([-0.        , -0.19291331, -0.38582663, -0.57873994, -0.77165325,\n",
       "       -0.96456656, -1.15747988])"
      ]
     },
     "execution_count": 94,
     "metadata": {},
     "output_type": "execute_result"
    }
   ],
   "source": [
    "gg_n8peg_awmix"
   ]
  },
  {
   "cell_type": "markdown",
   "metadata": {},
   "source": [
    "### Block averaged Radius of gyration and persistence length, N = 8 PEG/0.69 mole a-w mix"
   ]
  },
  {
   "cell_type": "code",
   "execution_count": 95,
   "metadata": {},
   "outputs": [
    {
     "data": {
      "text/plain": [
       "16.794976787496978"
      ]
     },
     "execution_count": 95,
     "metadata": {},
     "output_type": "execute_result"
    }
   ],
   "source": [
    "np.mean(n8_blkspeg_awmix[\"Avg persistence length\"])"
   ]
  },
  {
   "cell_type": "code",
   "execution_count": 96,
   "metadata": {},
   "outputs": [
    {
     "data": {
      "text/plain": [
       "1.1642403986130485"
      ]
     },
     "execution_count": 96,
     "metadata": {},
     "output_type": "execute_result"
    }
   ],
   "source": [
    "np.std(n8_blkspeg_awmix[\"Avg persistence length\"])"
   ]
  },
  {
   "cell_type": "code",
   "execution_count": 97,
   "metadata": {},
   "outputs": [
    {
     "data": {
      "text/plain": [
       "5.065629961519501"
      ]
     },
     "execution_count": 97,
     "metadata": {},
     "output_type": "execute_result"
    }
   ],
   "source": [
    "np.mean(n8_blkspeg_awmix[\"Avg Radius of gyration\"])"
   ]
  },
  {
   "cell_type": "code",
   "execution_count": 98,
   "metadata": {},
   "outputs": [
    {
     "data": {
      "text/plain": [
       "0.12898356244779305"
      ]
     },
     "execution_count": 98,
     "metadata": {},
     "output_type": "execute_result"
    }
   ],
   "source": [
    "np.std(n8_blkspeg_awmix[\"Avg Radius of gyration\"])"
   ]
  },
  {
   "cell_type": "code",
   "execution_count": 99,
   "metadata": {},
   "outputs": [
    {
     "data": {
      "image/png": "[encoded data removed]",
      "text/plain": [
       "<Figure size 504x504 with 1 Axes>"
      ]
     },
     "metadata": {
      "needs_background": "light"
     },
     "output_type": "display_data"
    }
   ],
   "source": [
    "plt.figure(figsize=(7,7))\n",
    "plt.errorbar(blen_awmix, np.log(cor_n6peg_awmix[0]), yerr=mk_n6p_awmix, color='#1F2E69', linestyle=\"None\",marker='o',\n",
    "     capsize=5, capthick=1, ecolor='black')\n",
    "plt.errorbar(blen_n8awmix, np.log(cor_n8peg_awmix[0]), yerr=mk_n8p_awmix, color='#4C80ED', linestyle=\"None\",marker='o',\n",
    "     capsize=5, capthick=1, ecolor='black')\n",
    "plt.plot(blen_n8awmix, gg_n6peg_n8awmix, color='#1F2E69')\n",
    "plt.plot(blen_n8awmix, gg_n8peg_awmix, color='#4C80ED')\n",
    "plt.title(r'Ensemble Averaged ln(Cosine $\\theta$) in 0.69 a/w mix', fontsize=15, y=1.01)\n",
    "plt.xlabel(r'Bond Length', fontsize=15)\n",
    "plt.ylabel(r'ln$\\left< Cos(\\theta)\\right >$', fontsize=15)\n",
    "plt.ylim(-6,1)\n",
    "plt.xlim(0,25)\n",
    "#plt.ylim(-1.9,0)\n",
    "font = font_manager.FontProperties(family='Arial', style='normal', size='14')\n",
    "plt.text(0.5, -5.9,r'$N_{PEG}$ = 6: $L_{p}$ = 14.4 $\\AA$ ± 1.68 $\\AA$', fontsize=15, color='#1F2E69')\n",
    "plt.text(0.5,-5.58,r'$N_{PEG}$ = 8: $L_{p}$ = 16.8 $\\AA$ ± 1.16 $\\AA$', fontsize=15, color='#4C80ED')\n",
    "plt.tick_params(labelsize=14)\n",
    "#plt.text(5,-0.15,r'R$^{2}$ = 0.98', fontsize=15, color='blue')"
   ]
  },
  {
   "cell_type": "code",
   "execution_count": 100,
   "metadata": {},
   "outputs": [
    {
     "data": {
      "text/html": [
       "<div>\n",
       "<style scoped>\n",
       "    .dataframe tbody tr th:only-of-type {\n",
       "        vertical-align: middle;\n",
       "    }\n",
       "\n",
       "    .dataframe tbody tr th {\n",
       "        vertical-align: top;\n",
       "    }\n",
       "\n",
       "    .dataframe thead th {\n",
       "        text-align: right;\n",
       "    }\n",
       "</style>\n",
       "<table border=\"1\" class=\"dataframe\">\n",
       "  <thead>\n",
       "    <tr style=\"text-align: right;\">\n",
       "      <th></th>\n",
       "      <th>$R_{g}$ [Angstrom] N = 6 PEG 0.69 a/w</th>\n",
       "    </tr>\n",
       "  </thead>\n",
       "  <tbody>\n",
       "    <tr>\n",
       "      <td>0</td>\n",
       "      <td>4.169492</td>\n",
       "    </tr>\n",
       "    <tr>\n",
       "      <td>1</td>\n",
       "      <td>4.262122</td>\n",
       "    </tr>\n",
       "    <tr>\n",
       "      <td>2</td>\n",
       "      <td>4.426009</td>\n",
       "    </tr>\n",
       "    <tr>\n",
       "      <td>3</td>\n",
       "      <td>4.103104</td>\n",
       "    </tr>\n",
       "    <tr>\n",
       "      <td>4</td>\n",
       "      <td>4.205842</td>\n",
       "    </tr>\n",
       "  </tbody>\n",
       "</table>\n",
       "</div>"
      ],
      "text/plain": [
       "   $R_{g}$ [Angstrom] N = 6 PEG 0.69 a/w\n",
       "0                               4.169492\n",
       "1                               4.262122\n",
       "2                               4.426009\n",
       "3                               4.103104\n",
       "4                               4.205842"
      ]
     },
     "execution_count": 100,
     "metadata": {},
     "output_type": "execute_result"
    }
   ],
   "source": [
    "rgpeg_olig_awmix"
   ]
  },
  {
   "cell_type": "code",
   "execution_count": 101,
   "metadata": {},
   "outputs": [
    {
     "data": {
      "text/html": [
       "<div>\n",
       "<style scoped>\n",
       "    .dataframe tbody tr th:only-of-type {\n",
       "        vertical-align: middle;\n",
       "    }\n",
       "\n",
       "    .dataframe tbody tr th {\n",
       "        vertical-align: top;\n",
       "    }\n",
       "\n",
       "    .dataframe thead th {\n",
       "        text-align: right;\n",
       "    }\n",
       "</style>\n",
       "<table border=\"1\" class=\"dataframe\">\n",
       "  <thead>\n",
       "    <tr style=\"text-align: right;\">\n",
       "      <th></th>\n",
       "      <th>$R_{g}$ [Angstrom] N = 6 PEG 0.69 a/w</th>\n",
       "      <th>$R_{g}$ [Angstrom] N = 8 PEG 0.69 a/w mix</th>\n",
       "    </tr>\n",
       "  </thead>\n",
       "  <tbody>\n",
       "    <tr>\n",
       "      <td>0</td>\n",
       "      <td>4.169492</td>\n",
       "      <td>5.100545</td>\n",
       "    </tr>\n",
       "    <tr>\n",
       "      <td>1</td>\n",
       "      <td>4.262122</td>\n",
       "      <td>5.143588</td>\n",
       "    </tr>\n",
       "    <tr>\n",
       "      <td>2</td>\n",
       "      <td>4.426009</td>\n",
       "      <td>5.039665</td>\n",
       "    </tr>\n",
       "    <tr>\n",
       "      <td>3</td>\n",
       "      <td>4.103104</td>\n",
       "      <td>5.211169</td>\n",
       "    </tr>\n",
       "    <tr>\n",
       "      <td>4</td>\n",
       "      <td>4.205842</td>\n",
       "      <td>4.833183</td>\n",
       "    </tr>\n",
       "  </tbody>\n",
       "</table>\n",
       "</div>"
      ],
      "text/plain": [
       "   $R_{g}$ [Angstrom] N = 6 PEG 0.69 a/w  \\\n",
       "0                               4.169492   \n",
       "1                               4.262122   \n",
       "2                               4.426009   \n",
       "3                               4.103104   \n",
       "4                               4.205842   \n",
       "\n",
       "   $R_{g}$ [Angstrom] N = 8 PEG 0.69 a/w mix  \n",
       "0                                   5.100545  \n",
       "1                                   5.143588  \n",
       "2                                   5.039665  \n",
       "3                                   5.211169  \n",
       "4                                   4.833183  "
      ]
     },
     "execution_count": 101,
     "metadata": {},
     "output_type": "execute_result"
    }
   ],
   "source": [
    "rgpeg_olig_awmix[r\"$R_{g}$ [Angstrom] N = 8 PEG 0.69 a/w mix\"] = n8_blkspeg_awmix[\"Avg Radius of gyration\"]\n",
    "rgpeg_olig_awmix"
   ]
  },
  {
   "cell_type": "code",
   "execution_count": 102,
   "metadata": {},
   "outputs": [
    {
     "data": {
      "text/html": [
       "<div>\n",
       "<style scoped>\n",
       "    .dataframe tbody tr th:only-of-type {\n",
       "        vertical-align: middle;\n",
       "    }\n",
       "\n",
       "    .dataframe tbody tr th {\n",
       "        vertical-align: top;\n",
       "    }\n",
       "\n",
       "    .dataframe thead th {\n",
       "        text-align: right;\n",
       "    }\n",
       "</style>\n",
       "<table border=\"1\" class=\"dataframe\">\n",
       "  <thead>\n",
       "    <tr style=\"text-align: right;\">\n",
       "      <th></th>\n",
       "      <th>$L_{p}$ [Angstrom] N = 6 PEG 0.69 a/w</th>\n",
       "      <th>$L_{p}$ [Angstrom] N = 8 PEG 0.69 a/w mix</th>\n",
       "    </tr>\n",
       "  </thead>\n",
       "  <tbody>\n",
       "    <tr>\n",
       "      <td>0</td>\n",
       "      <td>13.681591</td>\n",
       "      <td>16.404989</td>\n",
       "    </tr>\n",
       "    <tr>\n",
       "      <td>1</td>\n",
       "      <td>14.545927</td>\n",
       "      <td>16.947136</td>\n",
       "    </tr>\n",
       "    <tr>\n",
       "      <td>2</td>\n",
       "      <td>17.394214</td>\n",
       "      <td>17.423570</td>\n",
       "    </tr>\n",
       "    <tr>\n",
       "      <td>3</td>\n",
       "      <td>12.305072</td>\n",
       "      <td>18.350388</td>\n",
       "    </tr>\n",
       "    <tr>\n",
       "      <td>4</td>\n",
       "      <td>13.896268</td>\n",
       "      <td>14.848801</td>\n",
       "    </tr>\n",
       "  </tbody>\n",
       "</table>\n",
       "</div>"
      ],
      "text/plain": [
       "   $L_{p}$ [Angstrom] N = 6 PEG 0.69 a/w   \\\n",
       "0                               13.681591   \n",
       "1                               14.545927   \n",
       "2                               17.394214   \n",
       "3                               12.305072   \n",
       "4                               13.896268   \n",
       "\n",
       "   $L_{p}$ [Angstrom] N = 8 PEG 0.69 a/w mix   \n",
       "0                                   16.404989  \n",
       "1                                   16.947136  \n",
       "2                                   17.423570  \n",
       "3                                   18.350388  \n",
       "4                                   14.848801  "
      ]
     },
     "execution_count": 102,
     "metadata": {},
     "output_type": "execute_result"
    }
   ],
   "source": [
    "pers_pegt_awmix[r\"$L_{p}$ [Angstrom] N = 8 PEG 0.69 a/w mix \"] = n8_blkspeg_awmix[\"Avg persistence length\"]\n",
    "pers_pegt_awmix"
   ]
  },
  {
   "cell_type": "code",
   "execution_count": null,
   "metadata": {},
   "outputs": [],
   "source": []
  },
  {
   "cell_type": "code",
   "execution_count": null,
   "metadata": {},
   "outputs": [],
   "source": []
  },
  {
   "cell_type": "code",
   "execution_count": null,
   "metadata": {},
   "outputs": [],
   "source": []
  },
  {
   "cell_type": "markdown",
   "metadata": {},
   "source": [
    "### N = 10 PEG/0.69 a/w mix"
   ]
  },
  {
   "cell_type": "code",
   "execution_count": 103,
   "metadata": {},
   "outputs": [],
   "source": [
    "# For the right Rg calculation using MD Analysis, use trajactory without pbc \n",
    "n10_peg_awmix = mda.Universe(\"n10peg_awmix/n10peg_awmix.pdb\", \"n10peg_awmix/awmix_n10peg.xtc\")"
   ]
  },
  {
   "cell_type": "code",
   "execution_count": 104,
   "metadata": {},
   "outputs": [
    {
     "data": {
      "text/plain": [
       "<XTCReader n10peg_awmix/awmix_n10peg.xtc with 18001 frames of 73 atoms>"
      ]
     },
     "execution_count": 104,
     "metadata": {},
     "output_type": "execute_result"
    }
   ],
   "source": [
    "n10_peg_awmix.trajectory"
   ]
  },
  {
   "cell_type": "code",
   "execution_count": 105,
   "metadata": {},
   "outputs": [
    {
     "data": {
      "text/plain": [
       "18001"
      ]
     },
     "execution_count": 105,
     "metadata": {},
     "output_type": "execute_result"
    }
   ],
   "source": [
    "len(n10_peg_awmix.trajectory)"
   ]
  },
  {
   "cell_type": "code",
   "execution_count": 106,
   "metadata": {},
   "outputs": [],
   "source": [
    "#Select the polymer heavy atoms \n",
    "peg_n10awmix = n10_peg_awmix.select_atoms(\"resname sPEG PEG tPEG and not type H\")"
   ]
  },
  {
   "cell_type": "code",
   "execution_count": 107,
   "metadata": {},
   "outputs": [
    {
     "data": {
      "text/plain": [
       "array([[1.        , 0.99442598, 0.9954478 , 0.99309919, 0.9949163 ,\n",
       "        0.99351363, 0.99251918, 0.99408355, 0.98978374],\n",
       "       [0.        , 1.        , 2.        , 3.        , 4.        ,\n",
       "        5.        , 6.        , 7.        , 8.        ],\n",
       "       [0.        , 0.        , 0.        , 0.        , 0.        ,\n",
       "        0.        , 0.        , 0.        , 8.19698206]])"
      ]
     },
     "execution_count": 107,
     "metadata": {},
     "output_type": "execute_result"
    }
   ],
   "source": [
    "crv_n10peg_awmix = pers_length(peg_n10awmix,10)\n",
    "crv_n10peg_awmix"
   ]
  },
  {
   "cell_type": "code",
   "execution_count": 110,
   "metadata": {},
   "outputs": [],
   "source": [
    "com_bond_n10awmix = np.zeros(shape=(1,18000))\n",
    "count = 0\n",
    "for ts in n10_peg_awmix.trajectory[0:18000]:\n",
    "    n10_mon1_awmix = n10_peg_awmix.select_atoms(\"resid 1\")\n",
    "    n10_mon2_awmix = n10_peg_awmix.select_atoms(\"resid 2\")\n",
    "    oo_len = mda.analysis.distances.distance_array(n10_mon1_awmix.center_of_mass(), n10_mon2_awmix.center_of_mass(), \n",
    "                                                   box=n10_peg_awmix.trajectory.ts.dimensions)\n",
    "    com_bond_n10awmix[0, count] = oo_len\n",
    "    count += 1\n",
    "    "
   ]
  },
  {
   "cell_type": "code",
   "execution_count": 111,
   "metadata": {},
   "outputs": [
    {
     "data": {
      "text/plain": [
       "array([[3.28484886, 3.3999494 , 3.15498368, ..., 3.38784891, 3.30145279,\n",
       "        2.9609651 ]])"
      ]
     },
     "execution_count": 111,
     "metadata": {},
     "output_type": "execute_result"
    }
   ],
   "source": [
    "com_bond_n10awmix"
   ]
  },
  {
   "cell_type": "code",
   "execution_count": 112,
   "metadata": {},
   "outputs": [
    {
     "data": {
      "text/plain": [
       "3.223841660480229"
      ]
     },
     "execution_count": 112,
     "metadata": {},
     "output_type": "execute_result"
    }
   ],
   "source": [
    "lb_awmix_pn6"
   ]
  },
  {
   "cell_type": "code",
   "execution_count": 113,
   "metadata": {},
   "outputs": [
    {
     "data": {
      "text/plain": [
       "0.1574573898792014"
      ]
     },
     "execution_count": 113,
     "metadata": {},
     "output_type": "execute_result"
    }
   ],
   "source": [
    "np.std(com_bond)"
   ]
  },
  {
   "cell_type": "code",
   "execution_count": 114,
   "metadata": {},
   "outputs": [
    {
     "data": {
      "text/plain": [
       "3.227312668795366"
      ]
     },
     "execution_count": 114,
     "metadata": {},
     "output_type": "execute_result"
    }
   ],
   "source": [
    "np.mean(com_bond_n10awmix)"
   ]
  },
  {
   "cell_type": "code",
   "execution_count": 115,
   "metadata": {},
   "outputs": [
    {
     "data": {
      "text/plain": [
       "0.16168291072572283"
      ]
     },
     "execution_count": 115,
     "metadata": {},
     "output_type": "execute_result"
    }
   ],
   "source": [
    "np.std(com_bond_n10awmix)"
   ]
  },
  {
   "cell_type": "markdown",
   "metadata": {},
   "source": [
    "### Radius of Gyration vs. time N = 10 PEG/0.69 mol a-w mix"
   ]
  },
  {
   "cell_type": "code",
   "execution_count": 116,
   "metadata": {},
   "outputs": [],
   "source": [
    "n10peg_rgens_awmix, cor_n10peg_awmix, N10peg_cos_awmix, rgawmix_n10peg = get_rg_pers_poly(peg_n10awmix, n10_peg_awmix, 0, 18000)"
   ]
  },
  {
   "cell_type": "code",
   "execution_count": 117,
   "metadata": {},
   "outputs": [
    {
     "data": {
      "text/plain": [
       "(18000,)"
      ]
     },
     "execution_count": 117,
     "metadata": {},
     "output_type": "execute_result"
    }
   ],
   "source": [
    "n10peg_rgens_awmix[0].shape"
   ]
  },
  {
   "cell_type": "code",
   "execution_count": 118,
   "metadata": {},
   "outputs": [
    {
     "data": {
      "text/plain": [
       "array([0., 1., 2., 3., 4., 5., 6., 7., 8.])"
      ]
     },
     "execution_count": 118,
     "metadata": {},
     "output_type": "execute_result"
    }
   ],
   "source": [
    "cor_n10peg_awmix[3]"
   ]
  },
  {
   "cell_type": "code",
   "execution_count": 119,
   "metadata": {},
   "outputs": [
    {
     "data": {
      "text/plain": [
       "array([[1.        , 1.        , 1.        , ..., 1.        , 1.        ,\n",
       "        1.        ],\n",
       "       [0.99442598, 0.98230503, 0.95164096, ..., 0.86876577, 0.85403843,\n",
       "        0.8785998 ],\n",
       "       [0.9954478 , 0.95922074, 0.90187973, ..., 0.70190367, 0.65284249,\n",
       "        0.68391825],\n",
       "       ...,\n",
       "       [0.99251918, 0.91646838, 0.90616103, ..., 0.81494568, 0.75242883,\n",
       "        0.59607243],\n",
       "       [0.99408355, 0.94374639, 0.89820007, ..., 0.67043195, 0.67786963,\n",
       "        0.47726812],\n",
       "       [0.98978374, 0.95701953, 0.92251706, ..., 0.65368085, 0.68631626,\n",
       "        0.58479091]])"
      ]
     },
     "execution_count": 119,
     "metadata": {},
     "output_type": "execute_result"
    }
   ],
   "source": [
    "N10peg_cos_awmix"
   ]
  },
  {
   "cell_type": "code",
   "execution_count": 120,
   "metadata": {},
   "outputs": [
    {
     "data": {
      "text/plain": [
       "5.861103215153206"
      ]
     },
     "execution_count": 120,
     "metadata": {},
     "output_type": "execute_result"
    }
   ],
   "source": [
    "rgawmix_n10peg"
   ]
  },
  {
   "cell_type": "code",
   "execution_count": 121,
   "metadata": {},
   "outputs": [
    {
     "data": {
      "text/plain": [
       "1.0436180490567892"
      ]
     },
     "execution_count": 121,
     "metadata": {},
     "output_type": "execute_result"
    }
   ],
   "source": [
    "np.std(n10peg_rgens_awmix)"
   ]
  },
  {
   "cell_type": "code",
   "execution_count": 122,
   "metadata": {},
   "outputs": [
    {
     "data": {
      "text/plain": [
       "(0.2, 2)"
      ]
     },
     "execution_count": 122,
     "metadata": {},
     "output_type": "execute_result"
    },
    {
     "data": {
      "image/png": "[encoded data removed]",
      "text/plain": [
       "<Figure size 504x504 with 1 Axes>"
      ]
     },
     "metadata": {
      "needs_background": "light"
     },
     "output_type": "display_data"
    }
   ],
   "source": [
    "plt.figure(figsize=(7,7))\n",
    "plt.title(r'PEG Radius of Gyration', fontsize=18, y=1.01)\n",
    "plt.xlabel(r'Time [ns]', fontsize=15)\n",
    "plt.ylabel(r'$R_{g}$ [nm]', fontsize=15)\n",
    "plt.plot(trj_len/100, n6peg_rgens_awmix[0]/10,linewidth=2, color='#1F2E69')\n",
    "plt.plot(trj_len/100, n8peg_rgens_awmix[0]/10,linewidth=2, color='#4C80ED')\n",
    "plt.plot(trj_len/100, n10peg_rgens_awmix[0]/10,linewidth=2, color='#8C52FC')\n",
    "plt.tick_params(labelsize=14)\n",
    "plt.legend(['N = 6 in 0.69 a/w mix','N = 8 in 0.69 a/w mix','N = 10 in 0.69 a/w mix'], frameon=False, fontsize=14)\n",
    "#plt.text(127, 0.96,r'N = 6 in water', fontsize=18, color='#1F2E69', family='Arial')\n",
    "plt.xlim(0,180)\n",
    "plt.ylim(0.2,2)"
   ]
  },
  {
   "cell_type": "markdown",
   "metadata": {},
   "source": [
    "#### Correlation values at each arc length for the whole 180 ns trajectory, N = 8 PEG/0.69 a-w mixture"
   ]
  },
  {
   "cell_type": "code",
   "execution_count": 123,
   "metadata": {},
   "outputs": [
    {
     "data": {
      "text/plain": [
       "array([ 0.        ,  3.22384166,  6.44768332,  9.67152498, 12.89536664,\n",
       "       16.1192083 , 19.34304996, 22.56689162, 25.79073328])"
      ]
     },
     "execution_count": 123,
     "metadata": {},
     "output_type": "execute_result"
    }
   ],
   "source": [
    "# x values\n",
    "blen_n10awmix = cor_n10peg_awmix[3]*lb_awmix_pn6\n",
    "#nt_tt[0] = 0\n",
    "blen_n10awmix"
   ]
  },
  {
   "cell_type": "code",
   "execution_count": 124,
   "metadata": {},
   "outputs": [
    {
     "data": {
      "text/plain": [
       "array([3.79574340e-17, 2.83744432e-02, 1.04519954e-01, 2.35868367e-01,\n",
       "       3.91266841e-01, 5.66774811e-01, 7.69775771e-01, 1.01946757e+00,\n",
       "       1.40805811e+00])"
      ]
     },
     "execution_count": 124,
     "metadata": {},
     "output_type": "execute_result"
    }
   ],
   "source": [
    "mk_n10p_awmix = cor_n10peg_awmix[1]/cor_n10peg_awmix[0]\n",
    "mk_n10p_awmix"
   ]
  },
  {
   "cell_type": "code",
   "execution_count": 145,
   "metadata": {},
   "outputs": [
    {
     "data": {
      "text/plain": [
       "<matplotlib.legend.Legend at 0x1a19ac7860>"
      ]
     },
     "execution_count": 145,
     "metadata": {},
     "output_type": "execute_result"
    },
    {
     "data": {
      "image/png": "[encoded data removed]",
      "text/plain": [
       "<Figure size 504x504 with 1 Axes>"
      ]
     },
     "metadata": {
      "needs_background": "light"
     },
     "output_type": "display_data"
    }
   ],
   "source": [
    "plt.figure(figsize=(7,7))\n",
    "plt.errorbar(blen_awmix, np.log(cor_n6peg_awmix[0]), yerr=mk_n6p_awmix, color='#1F2E69', linestyle=\"None\",marker='o',\n",
    "     capsize=5, capthick=1, ecolor='black')\n",
    "plt.errorbar(blen_n8awmix, np.log(cor_n8peg_awmix[0]), yerr=mk_n8p_awmix, color='#4C80ED', linestyle=\"None\",marker='o',\n",
    "     capsize=5, capthick=1, ecolor='black')\n",
    "plt.errorbar(blen_n10awmix, np.log(cor_n10peg_awmix[0]), yerr=mk_n10p_awmix, color='#8C52FC', linestyle=\"None\",marker='o',\n",
    "     capsize=5, capthick=1, ecolor='black')\n",
    "plt.legend(['N = 6 in 0.69 a/w mix','N = 8 in 0.69 a/w mix','N = 10 in 0.69 a/w mix'], frameon=False, fontsize=14)"
   ]
  },
  {
   "cell_type": "code",
   "execution_count": 126,
   "metadata": {},
   "outputs": [
    {
     "name": "stdout",
     "output_type": "stream",
     "text": [
      "3000\n",
      "6000\n",
      "Lp [Angstroms]: 18.65653404621097\n",
      "Error in Lp from fit [Angstroms], 95% CL : 0.8305525706165654\n",
      "R2 score: 0.9886656327437687\n",
      "6000\n",
      "9000\n",
      "Lp [Angstroms]: 18.522166353886\n",
      "Error in Lp from fit [Angstroms], 95% CL : 0.8938605119965569\n",
      "R2 score: 0.9872196496252449\n",
      "9000\n",
      "12000\n",
      "Lp [Angstroms]: 20.1516361809146\n",
      "Error in Lp from fit [Angstroms], 95% CL : 0.757815305737331\n",
      "R2 score: 0.9918465780166434\n",
      "12000\n",
      "15000\n",
      "Lp [Angstroms]: 17.702962118968706\n",
      "Error in Lp from fit [Angstroms], 95% CL : 0.9042709241874292\n",
      "R2 score: 0.9854958289747408\n",
      "15000\n",
      "18000\n",
      "Lp [Angstroms]: 17.145308361349507\n",
      "Error in Lp from fit [Angstroms], 95% CL : 0.8459841130176011\n",
      "R2 score: 0.9866419085167226\n"
     ]
    }
   ],
   "source": [
    "# All the points give the best fits for N = 6 peg in water\n",
    "n10_blkspeg_awmix , n10peg_lpawmix = bavg_pers_cnt(5, peg_n10awmix, n10_peg_awmix, lb_awmix_pn6, 5, 3000 , 18000)"
   ]
  },
  {
   "cell_type": "code",
   "execution_count": 127,
   "metadata": {},
   "outputs": [
    {
     "data": {
      "text/plain": [
       "{'Avg Radius of gyration': array([5.8961094 , 5.97189109, 6.07544857, 5.80541691, 5.69963056]),\n",
       " 'Avg persistence length': array([18.65653405, 18.52216635, 20.15163618, 17.70296212, 17.14530836])}"
      ]
     },
     "execution_count": 127,
     "metadata": {},
     "output_type": "execute_result"
    }
   ],
   "source": [
    "n10_blkspeg_awmix"
   ]
  },
  {
   "cell_type": "code",
   "execution_count": 128,
   "metadata": {},
   "outputs": [
    {
     "data": {
      "text/plain": [
       "array([[ 1.86565340e+01,  1.85221664e+01,  2.01516362e+01,\n",
       "         1.77029621e+01,  1.71453084e+01],\n",
       "       [ 8.30552571e-01,  8.93860512e-01,  7.57815306e-01,\n",
       "         9.04270924e-01,  8.45984113e-01],\n",
       "       [-5.36005240e-02, -5.39893650e-02, -4.96237621e-02,\n",
       "        -5.64877218e-02, -5.83249936e-02],\n",
       "       [ 7.36971767e-04,  8.78643780e-04,  4.50739841e-04,\n",
       "         1.07759069e-03,  1.07197256e-03]])"
      ]
     },
     "execution_count": 128,
     "metadata": {},
     "output_type": "execute_result"
    }
   ],
   "source": [
    "n10peg_lpawmix"
   ]
  },
  {
   "cell_type": "code",
   "execution_count": 129,
   "metadata": {},
   "outputs": [
    {
     "data": {
      "text/plain": [
       "array([-0.05360052, -0.05398937, -0.04962376, -0.05648772, -0.05832499])"
      ]
     },
     "execution_count": 129,
     "metadata": {},
     "output_type": "execute_result"
    }
   ],
   "source": [
    "n10peg_lpawmix[2]"
   ]
  },
  {
   "cell_type": "code",
   "execution_count": 130,
   "metadata": {},
   "outputs": [
    {
     "data": {
      "text/plain": [
       "0.0008431837284708253"
      ]
     },
     "execution_count": 130,
     "metadata": {},
     "output_type": "execute_result"
    }
   ],
   "source": [
    "np.mean(n10peg_lpawmix[3])"
   ]
  },
  {
   "cell_type": "code",
   "execution_count": 131,
   "metadata": {},
   "outputs": [
    {
     "data": {
      "text/plain": [
       "array([ 0.        ,  3.22384166,  6.44768332,  9.67152498, 12.89536664,\n",
       "       16.1192083 , 19.34304996, 22.56689162, 25.79073328])"
      ]
     },
     "execution_count": 131,
     "metadata": {},
     "output_type": "execute_result"
    }
   ],
   "source": [
    "blen_n10awmix"
   ]
  },
  {
   "cell_type": "code",
   "execution_count": 132,
   "metadata": {},
   "outputs": [],
   "source": [
    "gg_n10peg_awmix = line_fit(np.mean(n10peg_lpawmix[2]),blen_n10awmix)"
   ]
  },
  {
   "cell_type": "code",
   "execution_count": 133,
   "metadata": {},
   "outputs": [],
   "source": [
    "gg_n6peg_n10awmix = line_fit(np.mean(n6peg_lpawmix[2]),blen_n10awmix)"
   ]
  },
  {
   "cell_type": "code",
   "execution_count": 134,
   "metadata": {},
   "outputs": [],
   "source": [
    "gg_n8peg_n10awmix = line_fit(np.mean(n8peg_lpawmix[2]),blen_n10awmix)"
   ]
  },
  {
   "cell_type": "code",
   "execution_count": 135,
   "metadata": {},
   "outputs": [
    {
     "data": {
      "text/plain": [
       "array([-0.        , -0.17539399, -0.35078797, -0.52618196, -0.70157595,\n",
       "       -0.87696993, -1.05236392, -1.22775791, -1.40315189])"
      ]
     },
     "execution_count": 135,
     "metadata": {},
     "output_type": "execute_result"
    }
   ],
   "source": [
    "gg_n10peg_awmix"
   ]
  },
  {
   "cell_type": "markdown",
   "metadata": {},
   "source": [
    "### Block averaged Radius of gyration and persistence length, N = 10 PEG/0.69 mole a-w mix"
   ]
  },
  {
   "cell_type": "code",
   "execution_count": 136,
   "metadata": {},
   "outputs": [
    {
     "data": {
      "text/plain": [
       "18.435721412265956"
      ]
     },
     "execution_count": 136,
     "metadata": {},
     "output_type": "execute_result"
    }
   ],
   "source": [
    "np.mean(n10_blkspeg_awmix[\"Avg persistence length\"])"
   ]
  },
  {
   "cell_type": "code",
   "execution_count": 137,
   "metadata": {},
   "outputs": [
    {
     "data": {
      "text/plain": [
       "1.0200682785379558"
      ]
     },
     "execution_count": 137,
     "metadata": {},
     "output_type": "execute_result"
    }
   ],
   "source": [
    "np.std(n10_blkspeg_awmix[\"Avg persistence length\"])"
   ]
  },
  {
   "cell_type": "code",
   "execution_count": 138,
   "metadata": {},
   "outputs": [
    {
     "data": {
      "text/plain": [
       "5.889699305557459"
      ]
     },
     "execution_count": 138,
     "metadata": {},
     "output_type": "execute_result"
    }
   ],
   "source": [
    "np.mean(n10_blkspeg_awmix[\"Avg Radius of gyration\"])"
   ]
  },
  {
   "cell_type": "code",
   "execution_count": 139,
   "metadata": {},
   "outputs": [
    {
     "data": {
      "text/plain": [
       "0.1300223208693451"
      ]
     },
     "execution_count": 139,
     "metadata": {},
     "output_type": "execute_result"
    }
   ],
   "source": [
    "np.std(n10_blkspeg_awmix[\"Avg Radius of gyration\"])"
   ]
  },
  {
   "cell_type": "code",
   "execution_count": 141,
   "metadata": {},
   "outputs": [
    {
     "data": {
      "image/png": "[encoded data removed]",
      "text/plain": [
       "<Figure size 504x504 with 1 Axes>"
      ]
     },
     "metadata": {
      "needs_background": "light"
     },
     "output_type": "display_data"
    }
   ],
   "source": [
    "plt.figure(figsize=(7,7))\n",
    "plt.errorbar(blen_awmix, np.log(cor_n6peg_awmix[0]), yerr=mk_n6p_awmix, color='#1F2E69', linestyle=\"None\",marker='o',\n",
    "     capsize=5, capthick=1, ecolor='black')\n",
    "plt.errorbar(blen_n8awmix, np.log(cor_n8peg_awmix[0]), yerr=mk_n8p_awmix, color='#4C80ED', linestyle=\"None\",marker='o',\n",
    "     capsize=5, capthick=1, ecolor='black')\n",
    "plt.errorbar(blen_n10awmix, np.log(cor_n10peg_awmix[0]), yerr=mk_n10p_awmix, color='#8C52FC', linestyle=\"None\",marker='o',\n",
    "     capsize=5, capthick=1, ecolor='black')\n",
    "plt.plot(blen_n10awmix, gg_n6peg_n10awmix, color='#1F2E69')\n",
    "plt.plot(blen_n10awmix, gg_n8peg_n10awmix, color='#4C80ED')\n",
    "plt.plot(blen_n10awmix, gg_n10peg_awmix, color='#8C52FC')\n",
    "plt.title(r'Ensemble Averaged ln(Cosine $\\theta$) in 0.69 a/w mix', fontsize=15, y=1.01)\n",
    "plt.xlabel(r'Bond Length', fontsize=15)\n",
    "plt.ylabel(r'ln$\\left< Cos(\\theta)\\right >$', fontsize=15)\n",
    "plt.ylim(-6,1)\n",
    "plt.xlim(0,30)\n",
    "#plt.ylim(-1.9,0)\n",
    "font = font_manager.FontProperties(family='Arial', style='normal', size='14')\n",
    "plt.text(0.5, -5.9,r'$N_{PEG}$ = 6: $L_{p}$ = 14.4 $\\AA$ ± 1.68 $\\AA$', fontsize=15, color='#1F2E69')\n",
    "plt.text(0.5,-5.58,r'$N_{PEG}$ = 8: $L_{p}$ = 16.8 $\\AA$ ± 1.16 $\\AA$', fontsize=15, color='#4C80ED')\n",
    "plt.text(0.5,-5.23,r'$N_{PEG}$ = 10: $L_{p}$ = 18.4 $\\AA$ ± 1.02 $\\AA$', fontsize=15, color='#8C52FC')\n",
    "plt.tick_params(labelsize=14)\n",
    "#plt.text(5,-0.15,r'R$^{2}$ = 0.98', fontsize=15, color='blue')"
   ]
  },
  {
   "cell_type": "code",
   "execution_count": 142,
   "metadata": {},
   "outputs": [
    {
     "data": {
      "text/html": [
       "<div>\n",
       "<style scoped>\n",
       "    .dataframe tbody tr th:only-of-type {\n",
       "        vertical-align: middle;\n",
       "    }\n",
       "\n",
       "    .dataframe tbody tr th {\n",
       "        vertical-align: top;\n",
       "    }\n",
       "\n",
       "    .dataframe thead th {\n",
       "        text-align: right;\n",
       "    }\n",
       "</style>\n",
       "<table border=\"1\" class=\"dataframe\">\n",
       "  <thead>\n",
       "    <tr style=\"text-align: right;\">\n",
       "      <th></th>\n",
       "      <th>$R_{g}$ [Angstrom] N = 6 PEG 0.69 a/w</th>\n",
       "      <th>$R_{g}$ [Angstrom] N = 8 PEG 0.69 a/w mix</th>\n",
       "    </tr>\n",
       "  </thead>\n",
       "  <tbody>\n",
       "    <tr>\n",
       "      <td>0</td>\n",
       "      <td>4.169492</td>\n",
       "      <td>5.100545</td>\n",
       "    </tr>\n",
       "    <tr>\n",
       "      <td>1</td>\n",
       "      <td>4.262122</td>\n",
       "      <td>5.143588</td>\n",
       "    </tr>\n",
       "    <tr>\n",
       "      <td>2</td>\n",
       "      <td>4.426009</td>\n",
       "      <td>5.039665</td>\n",
       "    </tr>\n",
       "    <tr>\n",
       "      <td>3</td>\n",
       "      <td>4.103104</td>\n",
       "      <td>5.211169</td>\n",
       "    </tr>\n",
       "    <tr>\n",
       "      <td>4</td>\n",
       "      <td>4.205842</td>\n",
       "      <td>4.833183</td>\n",
       "    </tr>\n",
       "  </tbody>\n",
       "</table>\n",
       "</div>"
      ],
      "text/plain": [
       "   $R_{g}$ [Angstrom] N = 6 PEG 0.69 a/w  \\\n",
       "0                               4.169492   \n",
       "1                               4.262122   \n",
       "2                               4.426009   \n",
       "3                               4.103104   \n",
       "4                               4.205842   \n",
       "\n",
       "   $R_{g}$ [Angstrom] N = 8 PEG 0.69 a/w mix  \n",
       "0                                   5.100545  \n",
       "1                                   5.143588  \n",
       "2                                   5.039665  \n",
       "3                                   5.211169  \n",
       "4                                   4.833183  "
      ]
     },
     "execution_count": 142,
     "metadata": {},
     "output_type": "execute_result"
    }
   ],
   "source": [
    "rgpeg_olig_awmix"
   ]
  },
  {
   "cell_type": "code",
   "execution_count": 143,
   "metadata": {},
   "outputs": [
    {
     "data": {
      "text/html": [
       "<div>\n",
       "<style scoped>\n",
       "    .dataframe tbody tr th:only-of-type {\n",
       "        vertical-align: middle;\n",
       "    }\n",
       "\n",
       "    .dataframe tbody tr th {\n",
       "        vertical-align: top;\n",
       "    }\n",
       "\n",
       "    .dataframe thead th {\n",
       "        text-align: right;\n",
       "    }\n",
       "</style>\n",
       "<table border=\"1\" class=\"dataframe\">\n",
       "  <thead>\n",
       "    <tr style=\"text-align: right;\">\n",
       "      <th></th>\n",
       "      <th>$R_{g}$ [Angstrom] N = 6 PEG 0.69 a/w</th>\n",
       "      <th>$R_{g}$ [Angstrom] N = 8 PEG 0.69 a/w mix</th>\n",
       "      <th>$R_{g}$ [Angstrom] N = 10 PEG 0.69 a/w mix</th>\n",
       "    </tr>\n",
       "  </thead>\n",
       "  <tbody>\n",
       "    <tr>\n",
       "      <td>0</td>\n",
       "      <td>4.169492</td>\n",
       "      <td>5.100545</td>\n",
       "      <td>5.896109</td>\n",
       "    </tr>\n",
       "    <tr>\n",
       "      <td>1</td>\n",
       "      <td>4.262122</td>\n",
       "      <td>5.143588</td>\n",
       "      <td>5.971891</td>\n",
       "    </tr>\n",
       "    <tr>\n",
       "      <td>2</td>\n",
       "      <td>4.426009</td>\n",
       "      <td>5.039665</td>\n",
       "      <td>6.075449</td>\n",
       "    </tr>\n",
       "    <tr>\n",
       "      <td>3</td>\n",
       "      <td>4.103104</td>\n",
       "      <td>5.211169</td>\n",
       "      <td>5.805417</td>\n",
       "    </tr>\n",
       "    <tr>\n",
       "      <td>4</td>\n",
       "      <td>4.205842</td>\n",
       "      <td>4.833183</td>\n",
       "      <td>5.699631</td>\n",
       "    </tr>\n",
       "  </tbody>\n",
       "</table>\n",
       "</div>"
      ],
      "text/plain": [
       "   $R_{g}$ [Angstrom] N = 6 PEG 0.69 a/w  \\\n",
       "0                               4.169492   \n",
       "1                               4.262122   \n",
       "2                               4.426009   \n",
       "3                               4.103104   \n",
       "4                               4.205842   \n",
       "\n",
       "   $R_{g}$ [Angstrom] N = 8 PEG 0.69 a/w mix  \\\n",
       "0                                   5.100545   \n",
       "1                                   5.143588   \n",
       "2                                   5.039665   \n",
       "3                                   5.211169   \n",
       "4                                   4.833183   \n",
       "\n",
       "   $R_{g}$ [Angstrom] N = 10 PEG 0.69 a/w mix  \n",
       "0                                    5.896109  \n",
       "1                                    5.971891  \n",
       "2                                    6.075449  \n",
       "3                                    5.805417  \n",
       "4                                    5.699631  "
      ]
     },
     "execution_count": 143,
     "metadata": {},
     "output_type": "execute_result"
    }
   ],
   "source": [
    "rgpeg_olig_awmix[r\"$R_{g}$ [Angstrom] N = 10 PEG 0.69 a/w mix\"] = n10_blkspeg_awmix[\"Avg Radius of gyration\"]\n",
    "rgpeg_olig_awmix"
   ]
  },
  {
   "cell_type": "code",
   "execution_count": 144,
   "metadata": {},
   "outputs": [
    {
     "data": {
      "text/html": [
       "<div>\n",
       "<style scoped>\n",
       "    .dataframe tbody tr th:only-of-type {\n",
       "        vertical-align: middle;\n",
       "    }\n",
       "\n",
       "    .dataframe tbody tr th {\n",
       "        vertical-align: top;\n",
       "    }\n",
       "\n",
       "    .dataframe thead th {\n",
       "        text-align: right;\n",
       "    }\n",
       "</style>\n",
       "<table border=\"1\" class=\"dataframe\">\n",
       "  <thead>\n",
       "    <tr style=\"text-align: right;\">\n",
       "      <th></th>\n",
       "      <th>$L_{p}$ [Angstrom] N = 6 PEG 0.69 a/w</th>\n",
       "      <th>$L_{p}$ [Angstrom] N = 8 PEG 0.69 a/w mix</th>\n",
       "      <th>$L_{p}$ [Angstrom] N = 10 PEG 0.69 a/w mix</th>\n",
       "    </tr>\n",
       "  </thead>\n",
       "  <tbody>\n",
       "    <tr>\n",
       "      <td>0</td>\n",
       "      <td>13.681591</td>\n",
       "      <td>16.404989</td>\n",
       "      <td>18.656534</td>\n",
       "    </tr>\n",
       "    <tr>\n",
       "      <td>1</td>\n",
       "      <td>14.545927</td>\n",
       "      <td>16.947136</td>\n",
       "      <td>18.522166</td>\n",
       "    </tr>\n",
       "    <tr>\n",
       "      <td>2</td>\n",
       "      <td>17.394214</td>\n",
       "      <td>17.423570</td>\n",
       "      <td>20.151636</td>\n",
       "    </tr>\n",
       "    <tr>\n",
       "      <td>3</td>\n",
       "      <td>12.305072</td>\n",
       "      <td>18.350388</td>\n",
       "      <td>17.702962</td>\n",
       "    </tr>\n",
       "    <tr>\n",
       "      <td>4</td>\n",
       "      <td>13.896268</td>\n",
       "      <td>14.848801</td>\n",
       "      <td>17.145308</td>\n",
       "    </tr>\n",
       "  </tbody>\n",
       "</table>\n",
       "</div>"
      ],
      "text/plain": [
       "   $L_{p}$ [Angstrom] N = 6 PEG 0.69 a/w   \\\n",
       "0                               13.681591   \n",
       "1                               14.545927   \n",
       "2                               17.394214   \n",
       "3                               12.305072   \n",
       "4                               13.896268   \n",
       "\n",
       "   $L_{p}$ [Angstrom] N = 8 PEG 0.69 a/w mix   \\\n",
       "0                                   16.404989   \n",
       "1                                   16.947136   \n",
       "2                                   17.423570   \n",
       "3                                   18.350388   \n",
       "4                                   14.848801   \n",
       "\n",
       "   $L_{p}$ [Angstrom] N = 10 PEG 0.69 a/w mix   \n",
       "0                                    18.656534  \n",
       "1                                    18.522166  \n",
       "2                                    20.151636  \n",
       "3                                    17.702962  \n",
       "4                                    17.145308  "
      ]
     },
     "execution_count": 144,
     "metadata": {},
     "output_type": "execute_result"
    }
   ],
   "source": [
    "pers_pegt_awmix[r\"$L_{p}$ [Angstrom] N = 10 PEG 0.69 a/w mix \"] = n10_blkspeg_awmix[\"Avg persistence length\"]\n",
    "pers_pegt_awmix"
   ]
  },
  {
   "cell_type": "code",
   "execution_count": null,
   "metadata": {},
   "outputs": [],
   "source": []
  },
  {
   "cell_type": "code",
   "execution_count": null,
   "metadata": {},
   "outputs": [],
   "source": []
  },
  {
   "cell_type": "code",
   "execution_count": null,
   "metadata": {},
   "outputs": [],
   "source": []
  },
  {
   "cell_type": "markdown",
   "metadata": {},
   "source": [
    "### N = 20 PEG/0.69 a/w mix"
   ]
  },
  {
   "cell_type": "code",
   "execution_count": 146,
   "metadata": {},
   "outputs": [],
   "source": [
    "# For the right Rg calculation using MD Analysis, use trajactory without pbc \n",
    "n20_peg_awmix = mda.Universe(\"n20peg_awmix/n20peg_awmix.pdb\", \"n20peg_awmix/awmix_n20peg.xtc\")"
   ]
  },
  {
   "cell_type": "code",
   "execution_count": 147,
   "metadata": {},
   "outputs": [
    {
     "data": {
      "text/plain": [
       "<XTCReader n20peg_awmix/awmix_n20peg.xtc with 18001 frames of 143 atoms>"
      ]
     },
     "execution_count": 147,
     "metadata": {},
     "output_type": "execute_result"
    }
   ],
   "source": [
    "n20_peg_awmix.trajectory"
   ]
  },
  {
   "cell_type": "code",
   "execution_count": 148,
   "metadata": {},
   "outputs": [
    {
     "data": {
      "text/plain": [
       "18001"
      ]
     },
     "execution_count": 148,
     "metadata": {},
     "output_type": "execute_result"
    }
   ],
   "source": [
    "len(n20_peg_awmix.trajectory)"
   ]
  },
  {
   "cell_type": "code",
   "execution_count": 149,
   "metadata": {},
   "outputs": [],
   "source": [
    "#Select the polymer heavy atoms \n",
    "peg_n20awmix = n20_peg_awmix.select_atoms(\"resname sPEG PEG tPEG and not type H\")"
   ]
  },
  {
   "cell_type": "code",
   "execution_count": 150,
   "metadata": {},
   "outputs": [
    {
     "data": {
      "text/plain": [
       "array([[ 1.        ,  0.99245257,  0.98957367,  0.98760832,  0.98911672,\n",
       "         0.98752002,  0.98658881,  0.99074775,  0.99107969,  0.99026135,\n",
       "         0.98903163,  0.99052371,  0.99127219,  0.99060969,  0.98937761,\n",
       "         0.98764505,  0.98580137,  0.98454501,  0.97479729],\n",
       "       [ 0.        ,  1.        ,  2.        ,  3.        ,  4.        ,\n",
       "         5.        ,  6.        ,  7.        ,  8.        ,  9.        ,\n",
       "        10.        , 11.        , 12.        , 13.        , 14.        ,\n",
       "        15.        , 16.        , 17.        , 18.        ],\n",
       "       [ 0.        ,  0.        ,  8.28097249,  9.02926191,  8.46081638,\n",
       "         9.06144033,  9.39415841,  0.        ,  0.        ,  0.        ,\n",
       "         8.49388489,  0.        ,  0.        ,  0.        ,  8.35860906,\n",
       "         9.01584087,  9.66665287, 10.0863238 , 12.89073188]])"
      ]
     },
     "execution_count": 150,
     "metadata": {},
     "output_type": "execute_result"
    }
   ],
   "source": [
    "crv_n20peg_awmix = pers_length(peg_n20awmix,20)\n",
    "crv_n20peg_awmix"
   ]
  },
  {
   "cell_type": "code",
   "execution_count": 151,
   "metadata": {},
   "outputs": [],
   "source": [
    "com_bond_n20awmix = np.zeros(shape=(1,18000))\n",
    "count = 0\n",
    "for ts in n20_peg_awmix.trajectory[0:18000]:\n",
    "    n20_mon1_awmix = n20_peg_awmix.select_atoms(\"resid 1\")\n",
    "    n20_mon2_awmix = n20_peg_awmix.select_atoms(\"resid 2\")\n",
    "    oo_len = mda.analysis.distances.distance_array(n20_mon1_awmix.center_of_mass(), n20_mon2_awmix.center_of_mass(), \n",
    "                                                   box=n20_peg_awmix.trajectory.ts.dimensions)\n",
    "    com_bond_n20awmix[0, count] = oo_len\n",
    "    count += 1\n",
    "    "
   ]
  },
  {
   "cell_type": "code",
   "execution_count": 152,
   "metadata": {},
   "outputs": [
    {
     "data": {
      "text/plain": [
       "array([[3.4331007 , 3.26992409, 3.36865923, ..., 3.24514234, 3.39669675,\n",
       "        3.34151538]])"
      ]
     },
     "execution_count": 152,
     "metadata": {},
     "output_type": "execute_result"
    }
   ],
   "source": [
    "com_bond_n20awmix"
   ]
  },
  {
   "cell_type": "code",
   "execution_count": 153,
   "metadata": {},
   "outputs": [
    {
     "data": {
      "text/plain": [
       "3.223841660480229"
      ]
     },
     "execution_count": 153,
     "metadata": {},
     "output_type": "execute_result"
    }
   ],
   "source": [
    "lb_awmix_pn6"
   ]
  },
  {
   "cell_type": "code",
   "execution_count": 154,
   "metadata": {},
   "outputs": [
    {
     "data": {
      "text/plain": [
       "0.1574573898792014"
      ]
     },
     "execution_count": 154,
     "metadata": {},
     "output_type": "execute_result"
    }
   ],
   "source": [
    "np.std(com_bond)"
   ]
  },
  {
   "cell_type": "code",
   "execution_count": 155,
   "metadata": {},
   "outputs": [
    {
     "data": {
      "text/plain": [
       "3.221310674725363"
      ]
     },
     "execution_count": 155,
     "metadata": {},
     "output_type": "execute_result"
    }
   ],
   "source": [
    "np.mean(com_bond_n20awmix)"
   ]
  },
  {
   "cell_type": "code",
   "execution_count": 156,
   "metadata": {},
   "outputs": [
    {
     "data": {
      "text/plain": [
       "0.1647709546891111"
      ]
     },
     "execution_count": 156,
     "metadata": {},
     "output_type": "execute_result"
    }
   ],
   "source": [
    "np.std(com_bond_n20awmix)"
   ]
  },
  {
   "cell_type": "markdown",
   "metadata": {},
   "source": [
    "### Radius of Gyration vs. time N = 20 PEG/0.69 mol a-w mix"
   ]
  },
  {
   "cell_type": "code",
   "execution_count": 157,
   "metadata": {},
   "outputs": [],
   "source": [
    "n20peg_rgens_awmix, cor_n20peg_awmix, N20peg_cos_awmix, rgawmix_n20peg = get_rg_pers_poly(peg_n20awmix, n20_peg_awmix, 0, 18000)"
   ]
  },
  {
   "cell_type": "code",
   "execution_count": 158,
   "metadata": {},
   "outputs": [
    {
     "data": {
      "text/plain": [
       "(18000,)"
      ]
     },
     "execution_count": 158,
     "metadata": {},
     "output_type": "execute_result"
    }
   ],
   "source": [
    "n20peg_rgens_awmix[0].shape"
   ]
  },
  {
   "cell_type": "code",
   "execution_count": 159,
   "metadata": {},
   "outputs": [
    {
     "data": {
      "text/plain": [
       "array([ 0.,  1.,  2.,  3.,  4.,  5.,  6.,  7.,  8.,  9., 10., 11., 12.,\n",
       "       13., 14., 15., 16., 17., 18.])"
      ]
     },
     "execution_count": 159,
     "metadata": {},
     "output_type": "execute_result"
    }
   ],
   "source": [
    "cor_n20peg_awmix[3]"
   ]
  },
  {
   "cell_type": "code",
   "execution_count": 160,
   "metadata": {},
   "outputs": [
    {
     "data": {
      "text/plain": [
       "array([[1.        , 1.        , 1.        , ..., 1.        , 1.        ,\n",
       "        1.        ],\n",
       "       [0.99245257, 0.97695291, 0.96134257, ..., 0.89657145, 0.88525031,\n",
       "        0.88517527],\n",
       "       [0.98957367, 0.95996801, 0.93748418, ..., 0.74073417, 0.72473397,\n",
       "        0.72136232],\n",
       "       ...,\n",
       "       [0.98580137, 0.91663637, 0.87721374, ..., 0.90412024, 0.89466163,\n",
       "        0.97119512],\n",
       "       [0.98454501, 0.89850638, 0.90051797, ..., 0.84120693, 0.86946366,\n",
       "        0.94516283],\n",
       "       [0.97479729, 0.89472547, 0.98088698, ..., 0.65968095, 0.89761715,\n",
       "        0.87217267]])"
      ]
     },
     "execution_count": 160,
     "metadata": {},
     "output_type": "execute_result"
    }
   ],
   "source": [
    "N20peg_cos_awmix"
   ]
  },
  {
   "cell_type": "code",
   "execution_count": 161,
   "metadata": {},
   "outputs": [
    {
     "data": {
      "text/plain": [
       "8.175410631176737"
      ]
     },
     "execution_count": 161,
     "metadata": {},
     "output_type": "execute_result"
    }
   ],
   "source": [
    "rgawmix_n20peg"
   ]
  },
  {
   "cell_type": "code",
   "execution_count": 162,
   "metadata": {},
   "outputs": [
    {
     "data": {
      "text/plain": [
       "1.807117426663796"
      ]
     },
     "execution_count": 162,
     "metadata": {},
     "output_type": "execute_result"
    }
   ],
   "source": [
    "np.std(n20peg_rgens_awmix)"
   ]
  },
  {
   "cell_type": "code",
   "execution_count": 163,
   "metadata": {},
   "outputs": [
    {
     "data": {
      "text/plain": [
       "(0.2, 2)"
      ]
     },
     "execution_count": 163,
     "metadata": {},
     "output_type": "execute_result"
    },
    {
     "data": {
      "image/png": "[encoded data removed]",
      "text/plain": [
       "<Figure size 504x504 with 1 Axes>"
      ]
     },
     "metadata": {
      "needs_background": "light"
     },
     "output_type": "display_data"
    }
   ],
   "source": [
    "plt.figure(figsize=(7,7))\n",
    "plt.title(r'PEG Radius of Gyration', fontsize=18, y=1.01)\n",
    "plt.xlabel(r'Time [ns]', fontsize=15)\n",
    "plt.ylabel(r'$R_{g}$ [nm]', fontsize=15)\n",
    "plt.plot(trj_len/100, n6peg_rgens_awmix[0]/10,linewidth=2, color='#1F2E69')\n",
    "plt.plot(trj_len/100, n8peg_rgens_awmix[0]/10,linewidth=2, color='#4C80ED')\n",
    "plt.plot(trj_len/100, n10peg_rgens_awmix[0]/10,linewidth=2, color='#8C52FC')\n",
    "plt.plot(trj_len/100, n20peg_rgens_awmix[0]/10,linewidth=2, color='#8B7F47')\n",
    "plt.tick_params(labelsize=14)\n",
    "plt.legend(['N = 6 in 0.69 a/w mix','N = 8 in 0.69 a/w mix','N = 10 in 0.69 a/w mix','N = 20 in 0.69 a/w mix'], frameon=False, fontsize=14)\n",
    "#plt.text(127, 0.96,r'N = 6 in water', fontsize=18, color='#1F2E69', family='Arial')\n",
    "plt.xlim(0,180)\n",
    "plt.ylim(0.2,2)"
   ]
  },
  {
   "cell_type": "markdown",
   "metadata": {},
   "source": [
    "#### Correlation values at each arc length for the whole 180 ns trajectory, N = 20 PEG/0.69 a-w mixture"
   ]
  },
  {
   "cell_type": "code",
   "execution_count": 164,
   "metadata": {},
   "outputs": [
    {
     "data": {
      "text/plain": [
       "array([ 0.        ,  3.22384166,  6.44768332,  9.67152498, 12.89536664,\n",
       "       16.1192083 , 19.34304996, 22.56689162, 25.79073328, 29.01457494,\n",
       "       32.2384166 , 35.46225827, 38.68609993, 41.90994159, 45.13378325,\n",
       "       48.35762491, 51.58146657, 54.80530823, 58.02914989])"
      ]
     },
     "execution_count": 164,
     "metadata": {},
     "output_type": "execute_result"
    }
   ],
   "source": [
    "# x values\n",
    "blen_n20awmix = cor_n20peg_awmix[3]*lb_awmix_pn6\n",
    "#nt_tt[0] = 0\n",
    "blen_n20awmix"
   ]
  },
  {
   "cell_type": "code",
   "execution_count": 165,
   "metadata": {},
   "outputs": [
    {
     "data": {
      "text/plain": [
       "array([1.95824935e-17, 1.82444455e-02, 6.52903587e-02, 1.47730945e-01,\n",
       "       2.45820035e-01, 3.30981135e-01, 3.95964578e-01, 4.72143731e-01,\n",
       "       5.49942066e-01, 6.34841307e-01, 7.52306841e-01, 8.83855689e-01,\n",
       "       1.01625835e+00, 1.12171219e+00, 1.19239376e+00, 1.26653602e+00,\n",
       "       1.39221805e+00, 1.50567335e+00, 1.75833278e+00])"
      ]
     },
     "execution_count": 165,
     "metadata": {},
     "output_type": "execute_result"
    }
   ],
   "source": [
    "mk_n20p_awmix = cor_n20peg_awmix[1]/cor_n20peg_awmix[0]\n",
    "mk_n20p_awmix"
   ]
  },
  {
   "cell_type": "code",
   "execution_count": 166,
   "metadata": {},
   "outputs": [
    {
     "data": {
      "text/plain": [
       "<matplotlib.legend.Legend at 0x1018964978>"
      ]
     },
     "execution_count": 166,
     "metadata": {},
     "output_type": "execute_result"
    },
    {
     "data": {
      "image/png": "[encoded data removed]",
      "text/plain": [
       "<Figure size 504x504 with 1 Axes>"
      ]
     },
     "metadata": {
      "needs_background": "light"
     },
     "output_type": "display_data"
    }
   ],
   "source": [
    "plt.figure(figsize=(7,7))\n",
    "plt.errorbar(blen_awmix, np.log(cor_n6peg_awmix[0]), yerr=mk_n6p_awmix, color='#1F2E69', linestyle=\"None\",marker='o',\n",
    "     capsize=5, capthick=1, ecolor='black')\n",
    "plt.errorbar(blen_n8awmix, np.log(cor_n8peg_awmix[0]), yerr=mk_n8p_awmix, color='#4C80ED', linestyle=\"None\",marker='o',\n",
    "     capsize=5, capthick=1, ecolor='black')\n",
    "plt.errorbar(blen_n10awmix, np.log(cor_n10peg_awmix[0]), yerr=mk_n10p_awmix, color='#8C52FC', linestyle=\"None\",marker='o',\n",
    "     capsize=5, capthick=1, ecolor='black')\n",
    "plt.errorbar(blen_n20awmix, np.log(cor_n20peg_awmix[0]), yerr=mk_n20p_awmix, color='#8B7F47', linestyle=\"None\",marker='o',\n",
    "     capsize=5, capthick=1, ecolor='black')\n",
    "plt.legend(['N = 6 in 0.69 a/w mix','N = 8 in 0.69 a/w mix','N = 10 in 0.69 a/w mix'\n",
    "            ,'N = 20 in 0.69 a/w mix'], frameon=False, fontsize=14)"
   ]
  },
  {
   "cell_type": "code",
   "execution_count": 167,
   "metadata": {},
   "outputs": [
    {
     "name": "stdout",
     "output_type": "stream",
     "text": [
      "3000\n",
      "6000\n",
      "Lp [Angstroms]: 18.535404192136493\n",
      "Error in Lp from fit [Angstroms], 95% CL : 0.23314908241026708\n",
      "R2 score: 0.9864676457073789\n",
      "6000\n",
      "9000\n",
      "Lp [Angstroms]: 19.550814447495227\n",
      "Error in Lp from fit [Angstroms], 95% CL : 0.2260822791206977\n",
      "R2 score: 0.9884419115942585\n",
      "9000\n",
      "12000\n",
      "Lp [Angstroms]: 18.556178830673627\n",
      "Error in Lp from fit [Angstroms], 95% CL : 0.25016386586161077\n",
      "R2 score: 0.9846243543867519\n",
      "12000\n",
      "15000\n",
      "Lp [Angstroms]: 19.54019329419684\n",
      "Error in Lp from fit [Angstroms], 95% CL : 0.1964853621371459\n",
      "R2 score: 0.9910052344253666\n",
      "15000\n",
      "18000\n",
      "Lp [Angstroms]: 16.766024385098724\n",
      "Error in Lp from fit [Angstroms], 95% CL : 0.26373698556197894\n",
      "R2 score: 0.9795946367627334\n"
     ]
    }
   ],
   "source": [
    "# All the points give the best fits for N = 6 peg in water\n",
    "n20_blkspeg_awmix , n20peg_lpawmix = bavg_pers_cnt(5, peg_n20awmix, n20_peg_awmix, lb_awmix_pn6, 5, 3000 , 18000)"
   ]
  },
  {
   "cell_type": "code",
   "execution_count": 168,
   "metadata": {},
   "outputs": [
    {
     "data": {
      "text/plain": [
       "{'Avg Radius of gyration': array([8.24342505, 8.37699629, 8.41449589, 8.93052831, 7.90764455]),\n",
       " 'Avg persistence length': array([18.53540419, 19.55081445, 18.55617883, 19.54019329, 16.76602439])}"
      ]
     },
     "execution_count": 168,
     "metadata": {},
     "output_type": "execute_result"
    }
   ],
   "source": [
    "n20_blkspeg_awmix"
   ]
  },
  {
   "cell_type": "code",
   "execution_count": 169,
   "metadata": {},
   "outputs": [
    {
     "data": {
      "text/plain": [
       "array([[ 1.85354042e+01,  1.95508144e+01,  1.85561788e+01,\n",
       "         1.95401933e+01,  1.67660244e+01],\n",
       "       [ 2.33149082e-01,  2.26082279e-01,  2.50163866e-01,\n",
       "         1.96485362e-01,  2.63736986e-01],\n",
       "       [-5.39508062e-02, -5.11487643e-02, -5.38904054e-02,\n",
       "        -5.11765664e-02, -5.96444319e-02],\n",
       "       [ 9.31985367e-04,  7.07984168e-04,  1.06818107e-03,\n",
       "         5.35913747e-04,  1.78144172e-03]])"
      ]
     },
     "execution_count": 169,
     "metadata": {},
     "output_type": "execute_result"
    }
   ],
   "source": [
    "n20peg_lpawmix"
   ]
  },
  {
   "cell_type": "code",
   "execution_count": 170,
   "metadata": {},
   "outputs": [
    {
     "data": {
      "text/plain": [
       "array([-0.05395081, -0.05114876, -0.05389041, -0.05117657, -0.05964443])"
      ]
     },
     "execution_count": 170,
     "metadata": {},
     "output_type": "execute_result"
    }
   ],
   "source": [
    "n20peg_lpawmix[2]"
   ]
  },
  {
   "cell_type": "code",
   "execution_count": 171,
   "metadata": {},
   "outputs": [
    {
     "data": {
      "text/plain": [
       "0.0010051012144948756"
      ]
     },
     "execution_count": 171,
     "metadata": {},
     "output_type": "execute_result"
    }
   ],
   "source": [
    "np.mean(n20peg_lpawmix[3])"
   ]
  },
  {
   "cell_type": "code",
   "execution_count": 172,
   "metadata": {},
   "outputs": [
    {
     "data": {
      "text/plain": [
       "array([ 0.        ,  3.22384166,  6.44768332,  9.67152498, 12.89536664,\n",
       "       16.1192083 , 19.34304996, 22.56689162, 25.79073328, 29.01457494,\n",
       "       32.2384166 , 35.46225827, 38.68609993, 41.90994159, 45.13378325,\n",
       "       48.35762491, 51.58146657, 54.80530823, 58.02914989])"
      ]
     },
     "execution_count": 172,
     "metadata": {},
     "output_type": "execute_result"
    }
   ],
   "source": [
    "blen_n20awmix"
   ]
  },
  {
   "cell_type": "code",
   "execution_count": 229,
   "metadata": {},
   "outputs": [],
   "source": [
    "gg_n20peg_awmix = line_fit(np.mean(n20peg_lpawmix[2]),blen_n20awmix)"
   ]
  },
  {
   "cell_type": "code",
   "execution_count": 230,
   "metadata": {},
   "outputs": [],
   "source": [
    "gg_n6peg_n20awmix = line_fit(np.mean(n6peg_lpawmix[2]),blen_n20awmix)"
   ]
  },
  {
   "cell_type": "code",
   "execution_count": 231,
   "metadata": {},
   "outputs": [],
   "source": [
    "gg_n8peg_n20awmix = line_fit(np.mean(n8peg_lpawmix[2]),blen_n20awmix)"
   ]
  },
  {
   "cell_type": "code",
   "execution_count": 232,
   "metadata": {},
   "outputs": [],
   "source": [
    "gg_n10peg_n20awmix = line_fit(np.mean(n10peg_lpawmix[2]),blen_n20awmix)"
   ]
  },
  {
   "cell_type": "code",
   "execution_count": 233,
   "metadata": {},
   "outputs": [
    {
     "data": {
      "text/plain": [
       "array([-0.        , -0.17396557, -0.34793114, -0.52189672, -0.69586229,\n",
       "       -0.86982786, -1.04379343, -1.217759  , -1.39172457, -1.56569015,\n",
       "       -1.73965572, -1.91362129, -2.08758686, -2.26155243, -2.43551801,\n",
       "       -2.60948358, -2.78344915, -2.95741472, -3.13138029])"
      ]
     },
     "execution_count": 233,
     "metadata": {},
     "output_type": "execute_result"
    }
   ],
   "source": [
    "gg_n20peg_awmix"
   ]
  },
  {
   "cell_type": "markdown",
   "metadata": {},
   "source": [
    "### Block averaged Radius of gyration and persistence length, N = 20 PEG/0.69 mole a-w mix"
   ]
  },
  {
   "cell_type": "code",
   "execution_count": 178,
   "metadata": {},
   "outputs": [
    {
     "data": {
      "text/plain": [
       "18.589723029920187"
      ]
     },
     "execution_count": 178,
     "metadata": {},
     "output_type": "execute_result"
    }
   ],
   "source": [
    "np.mean(n20_blkspeg_awmix[\"Avg persistence length\"])"
   ]
  },
  {
   "cell_type": "code",
   "execution_count": 179,
   "metadata": {},
   "outputs": [
    {
     "data": {
      "text/plain": [
       "1.0155828801998814"
      ]
     },
     "execution_count": 179,
     "metadata": {},
     "output_type": "execute_result"
    }
   ],
   "source": [
    "np.std(n20_blkspeg_awmix[\"Avg persistence length\"])"
   ]
  },
  {
   "cell_type": "code",
   "execution_count": 180,
   "metadata": {},
   "outputs": [
    {
     "data": {
      "text/plain": [
       "8.374618018798438"
      ]
     },
     "execution_count": 180,
     "metadata": {},
     "output_type": "execute_result"
    }
   ],
   "source": [
    "np.mean(n20_blkspeg_awmix[\"Avg Radius of gyration\"])"
   ]
  },
  {
   "cell_type": "code",
   "execution_count": 181,
   "metadata": {},
   "outputs": [
    {
     "data": {
      "text/plain": [
       "0.3304263823873141"
      ]
     },
     "execution_count": 181,
     "metadata": {},
     "output_type": "execute_result"
    }
   ],
   "source": [
    "np.std(n20_blkspeg_awmix[\"Avg Radius of gyration\"])"
   ]
  },
  {
   "cell_type": "code",
   "execution_count": 234,
   "metadata": {},
   "outputs": [
    {
     "data": {
      "image/png": "[encoded data removed]",
      "text/plain": [
       "<Figure size 504x504 with 1 Axes>"
      ]
     },
     "metadata": {
      "needs_background": "light"
     },
     "output_type": "display_data"
    }
   ],
   "source": [
    "plt.figure(figsize=(7,7))\n",
    "plt.errorbar(blen_awmix, np.log(cor_n6peg_awmix[0]), yerr=mk_n6p_awmix, color='#1F2E69', linestyle=\"None\",marker='o',\n",
    "     capsize=5, capthick=1, ecolor='black')\n",
    "plt.errorbar(blen_n8awmix, np.log(cor_n8peg_awmix[0]), yerr=mk_n8p_awmix, color='#4C80ED', linestyle=\"None\",marker='o',\n",
    "     capsize=5, capthick=1, ecolor='black')\n",
    "plt.errorbar(blen_n10awmix, np.log(cor_n10peg_awmix[0]), yerr=mk_n10p_awmix, color='#8C52FC', linestyle=\"None\",marker='o',\n",
    "     capsize=5, capthick=1, ecolor='black')\n",
    "plt.errorbar(blen_n20awmix, np.log(cor_n20peg_awmix[0]), yerr=mk_n20p_awmix, color='#8B7F47', linestyle=\"None\",marker='o',\n",
    "     capsize=5, capthick=1, ecolor='black')\n",
    "plt.plot(blen_n20awmix, gg_n6peg_n20awmix, color='#1F2E69')\n",
    "plt.plot(blen_n20awmix, gg_n8peg_n20awmix, color='#4C80ED')\n",
    "plt.plot(blen_n20awmix, gg_n10peg_n20awmix, color='#8C52FC')\n",
    "plt.plot(blen_n20awmix, gg_n20peg_awmix, color='#8C52FC')\n",
    "plt.title(r'Ensemble Averaged ln(Cosine $\\theta$) in 0.69 a/w mix', fontsize=15, y=1.01)\n",
    "plt.xlabel(r'Bond Length', fontsize=15)\n",
    "plt.ylabel(r'ln$\\left< Cos(\\theta)\\right >$', fontsize=15)\n",
    "plt.ylim(-6,1)\n",
    "plt.xlim(0,65)\n",
    "#plt.ylim(-1.9,0)\n",
    "font = font_manager.FontProperties(family='Arial', style='normal', size='14')\n",
    "plt.text(0.5, -5.9,r'$N_{PEG}$ = 6: $L_{p}$ = 14.4 $\\AA$ ± 1.68 $\\AA$', fontsize=15, color='#1F2E69')\n",
    "plt.text(0.5,-5.58,r'$N_{PEG}$ = 8: $L_{p}$ = 16.8 $\\AA$ ± 1.16 $\\AA$', fontsize=15, color='#4C80ED')\n",
    "plt.text(0.5,-5.23,r'$N_{PEG}$ = 10: $L_{p}$ = 18.4 $\\AA$ ± 1.02 $\\AA$', fontsize=15, color='#8C52FC')\n",
    "plt.text(0.5,-4.93,r'$N_{PEG}$ = 20: $L_{p}$ = 18.6 $\\AA$ ± 1.02 $\\AA$', fontsize=15, color='#8B7F47')\n",
    "plt.tick_params(labelsize=14)\n",
    "#plt.text(5,-0.15,r'R$^{2}$ = 0.98', fontsize=15, color='blue')"
   ]
  },
  {
   "cell_type": "code",
   "execution_count": 182,
   "metadata": {},
   "outputs": [
    {
     "data": {
      "text/html": [
       "<div>\n",
       "<style scoped>\n",
       "    .dataframe tbody tr th:only-of-type {\n",
       "        vertical-align: middle;\n",
       "    }\n",
       "\n",
       "    .dataframe tbody tr th {\n",
       "        vertical-align: top;\n",
       "    }\n",
       "\n",
       "    .dataframe thead th {\n",
       "        text-align: right;\n",
       "    }\n",
       "</style>\n",
       "<table border=\"1\" class=\"dataframe\">\n",
       "  <thead>\n",
       "    <tr style=\"text-align: right;\">\n",
       "      <th></th>\n",
       "      <th>$R_{g}$ [Angstrom] N = 6 PEG 0.69 a/w</th>\n",
       "      <th>$R_{g}$ [Angstrom] N = 8 PEG 0.69 a/w mix</th>\n",
       "      <th>$R_{g}$ [Angstrom] N = 10 PEG 0.69 a/w mix</th>\n",
       "    </tr>\n",
       "  </thead>\n",
       "  <tbody>\n",
       "    <tr>\n",
       "      <td>0</td>\n",
       "      <td>4.169492</td>\n",
       "      <td>5.100545</td>\n",
       "      <td>5.896109</td>\n",
       "    </tr>\n",
       "    <tr>\n",
       "      <td>1</td>\n",
       "      <td>4.262122</td>\n",
       "      <td>5.143588</td>\n",
       "      <td>5.971891</td>\n",
       "    </tr>\n",
       "    <tr>\n",
       "      <td>2</td>\n",
       "      <td>4.426009</td>\n",
       "      <td>5.039665</td>\n",
       "      <td>6.075449</td>\n",
       "    </tr>\n",
       "    <tr>\n",
       "      <td>3</td>\n",
       "      <td>4.103104</td>\n",
       "      <td>5.211169</td>\n",
       "      <td>5.805417</td>\n",
       "    </tr>\n",
       "    <tr>\n",
       "      <td>4</td>\n",
       "      <td>4.205842</td>\n",
       "      <td>4.833183</td>\n",
       "      <td>5.699631</td>\n",
       "    </tr>\n",
       "  </tbody>\n",
       "</table>\n",
       "</div>"
      ],
      "text/plain": [
       "   $R_{g}$ [Angstrom] N = 6 PEG 0.69 a/w  \\\n",
       "0                               4.169492   \n",
       "1                               4.262122   \n",
       "2                               4.426009   \n",
       "3                               4.103104   \n",
       "4                               4.205842   \n",
       "\n",
       "   $R_{g}$ [Angstrom] N = 8 PEG 0.69 a/w mix  \\\n",
       "0                                   5.100545   \n",
       "1                                   5.143588   \n",
       "2                                   5.039665   \n",
       "3                                   5.211169   \n",
       "4                                   4.833183   \n",
       "\n",
       "   $R_{g}$ [Angstrom] N = 10 PEG 0.69 a/w mix  \n",
       "0                                    5.896109  \n",
       "1                                    5.971891  \n",
       "2                                    6.075449  \n",
       "3                                    5.805417  \n",
       "4                                    5.699631  "
      ]
     },
     "execution_count": 182,
     "metadata": {},
     "output_type": "execute_result"
    }
   ],
   "source": [
    "rgpeg_olig_awmix"
   ]
  },
  {
   "cell_type": "code",
   "execution_count": 183,
   "metadata": {},
   "outputs": [
    {
     "data": {
      "text/html": [
       "<div>\n",
       "<style scoped>\n",
       "    .dataframe tbody tr th:only-of-type {\n",
       "        vertical-align: middle;\n",
       "    }\n",
       "\n",
       "    .dataframe tbody tr th {\n",
       "        vertical-align: top;\n",
       "    }\n",
       "\n",
       "    .dataframe thead th {\n",
       "        text-align: right;\n",
       "    }\n",
       "</style>\n",
       "<table border=\"1\" class=\"dataframe\">\n",
       "  <thead>\n",
       "    <tr style=\"text-align: right;\">\n",
       "      <th></th>\n",
       "      <th>$R_{g}$ [Angstrom] N = 6 PEG 0.69 a/w</th>\n",
       "      <th>$R_{g}$ [Angstrom] N = 8 PEG 0.69 a/w mix</th>\n",
       "      <th>$R_{g}$ [Angstrom] N = 10 PEG 0.69 a/w mix</th>\n",
       "      <th>$R_{g}$ [Angstrom] N = 20 PEG 0.69 a/w mix</th>\n",
       "    </tr>\n",
       "  </thead>\n",
       "  <tbody>\n",
       "    <tr>\n",
       "      <td>0</td>\n",
       "      <td>4.169492</td>\n",
       "      <td>5.100545</td>\n",
       "      <td>5.896109</td>\n",
       "      <td>8.243425</td>\n",
       "    </tr>\n",
       "    <tr>\n",
       "      <td>1</td>\n",
       "      <td>4.262122</td>\n",
       "      <td>5.143588</td>\n",
       "      <td>5.971891</td>\n",
       "      <td>8.376996</td>\n",
       "    </tr>\n",
       "    <tr>\n",
       "      <td>2</td>\n",
       "      <td>4.426009</td>\n",
       "      <td>5.039665</td>\n",
       "      <td>6.075449</td>\n",
       "      <td>8.414496</td>\n",
       "    </tr>\n",
       "    <tr>\n",
       "      <td>3</td>\n",
       "      <td>4.103104</td>\n",
       "      <td>5.211169</td>\n",
       "      <td>5.805417</td>\n",
       "      <td>8.930528</td>\n",
       "    </tr>\n",
       "    <tr>\n",
       "      <td>4</td>\n",
       "      <td>4.205842</td>\n",
       "      <td>4.833183</td>\n",
       "      <td>5.699631</td>\n",
       "      <td>7.907645</td>\n",
       "    </tr>\n",
       "  </tbody>\n",
       "</table>\n",
       "</div>"
      ],
      "text/plain": [
       "   $R_{g}$ [Angstrom] N = 6 PEG 0.69 a/w  \\\n",
       "0                               4.169492   \n",
       "1                               4.262122   \n",
       "2                               4.426009   \n",
       "3                               4.103104   \n",
       "4                               4.205842   \n",
       "\n",
       "   $R_{g}$ [Angstrom] N = 8 PEG 0.69 a/w mix  \\\n",
       "0                                   5.100545   \n",
       "1                                   5.143588   \n",
       "2                                   5.039665   \n",
       "3                                   5.211169   \n",
       "4                                   4.833183   \n",
       "\n",
       "   $R_{g}$ [Angstrom] N = 10 PEG 0.69 a/w mix  \\\n",
       "0                                    5.896109   \n",
       "1                                    5.971891   \n",
       "2                                    6.075449   \n",
       "3                                    5.805417   \n",
       "4                                    5.699631   \n",
       "\n",
       "   $R_{g}$ [Angstrom] N = 20 PEG 0.69 a/w mix  \n",
       "0                                    8.243425  \n",
       "1                                    8.376996  \n",
       "2                                    8.414496  \n",
       "3                                    8.930528  \n",
       "4                                    7.907645  "
      ]
     },
     "execution_count": 183,
     "metadata": {},
     "output_type": "execute_result"
    }
   ],
   "source": [
    "rgpeg_olig_awmix[r\"$R_{g}$ [Angstrom] N = 20 PEG 0.69 a/w mix\"] = n20_blkspeg_awmix[\"Avg Radius of gyration\"]\n",
    "rgpeg_olig_awmix"
   ]
  },
  {
   "cell_type": "code",
   "execution_count": 184,
   "metadata": {},
   "outputs": [
    {
     "data": {
      "text/html": [
       "<div>\n",
       "<style scoped>\n",
       "    .dataframe tbody tr th:only-of-type {\n",
       "        vertical-align: middle;\n",
       "    }\n",
       "\n",
       "    .dataframe tbody tr th {\n",
       "        vertical-align: top;\n",
       "    }\n",
       "\n",
       "    .dataframe thead th {\n",
       "        text-align: right;\n",
       "    }\n",
       "</style>\n",
       "<table border=\"1\" class=\"dataframe\">\n",
       "  <thead>\n",
       "    <tr style=\"text-align: right;\">\n",
       "      <th></th>\n",
       "      <th>$L_{p}$ [Angstrom] N = 6 PEG 0.69 a/w</th>\n",
       "      <th>$L_{p}$ [Angstrom] N = 8 PEG 0.69 a/w mix</th>\n",
       "      <th>$L_{p}$ [Angstrom] N = 10 PEG 0.69 a/w mix</th>\n",
       "      <th>$L_{p}$ [Angstrom] N = 20 PEG 0.69 a/w mix</th>\n",
       "    </tr>\n",
       "  </thead>\n",
       "  <tbody>\n",
       "    <tr>\n",
       "      <td>0</td>\n",
       "      <td>13.681591</td>\n",
       "      <td>16.404989</td>\n",
       "      <td>18.656534</td>\n",
       "      <td>18.535404</td>\n",
       "    </tr>\n",
       "    <tr>\n",
       "      <td>1</td>\n",
       "      <td>14.545927</td>\n",
       "      <td>16.947136</td>\n",
       "      <td>18.522166</td>\n",
       "      <td>19.550814</td>\n",
       "    </tr>\n",
       "    <tr>\n",
       "      <td>2</td>\n",
       "      <td>17.394214</td>\n",
       "      <td>17.423570</td>\n",
       "      <td>20.151636</td>\n",
       "      <td>18.556179</td>\n",
       "    </tr>\n",
       "    <tr>\n",
       "      <td>3</td>\n",
       "      <td>12.305072</td>\n",
       "      <td>18.350388</td>\n",
       "      <td>17.702962</td>\n",
       "      <td>19.540193</td>\n",
       "    </tr>\n",
       "    <tr>\n",
       "      <td>4</td>\n",
       "      <td>13.896268</td>\n",
       "      <td>14.848801</td>\n",
       "      <td>17.145308</td>\n",
       "      <td>16.766024</td>\n",
       "    </tr>\n",
       "  </tbody>\n",
       "</table>\n",
       "</div>"
      ],
      "text/plain": [
       "   $L_{p}$ [Angstrom] N = 6 PEG 0.69 a/w   \\\n",
       "0                               13.681591   \n",
       "1                               14.545927   \n",
       "2                               17.394214   \n",
       "3                               12.305072   \n",
       "4                               13.896268   \n",
       "\n",
       "   $L_{p}$ [Angstrom] N = 8 PEG 0.69 a/w mix   \\\n",
       "0                                   16.404989   \n",
       "1                                   16.947136   \n",
       "2                                   17.423570   \n",
       "3                                   18.350388   \n",
       "4                                   14.848801   \n",
       "\n",
       "   $L_{p}$ [Angstrom] N = 10 PEG 0.69 a/w mix   \\\n",
       "0                                    18.656534   \n",
       "1                                    18.522166   \n",
       "2                                    20.151636   \n",
       "3                                    17.702962   \n",
       "4                                    17.145308   \n",
       "\n",
       "   $L_{p}$ [Angstrom] N = 20 PEG 0.69 a/w mix   \n",
       "0                                    18.535404  \n",
       "1                                    19.550814  \n",
       "2                                    18.556179  \n",
       "3                                    19.540193  \n",
       "4                                    16.766024  "
      ]
     },
     "execution_count": 184,
     "metadata": {},
     "output_type": "execute_result"
    }
   ],
   "source": [
    "pers_pegt_awmix[r\"$L_{p}$ [Angstrom] N = 20 PEG 0.69 a/w mix \"] = n20_blkspeg_awmix[\"Avg persistence length\"]\n",
    "pers_pegt_awmix"
   ]
  },
  {
   "cell_type": "code",
   "execution_count": null,
   "metadata": {},
   "outputs": [],
   "source": []
  },
  {
   "cell_type": "code",
   "execution_count": null,
   "metadata": {},
   "outputs": [],
   "source": []
  },
  {
   "cell_type": "code",
   "execution_count": null,
   "metadata": {},
   "outputs": [],
   "source": []
  },
  {
   "cell_type": "markdown",
   "metadata": {},
   "source": [
    "### N = 30 PEG/0.69 a/w mix"
   ]
  },
  {
   "cell_type": "code",
   "execution_count": 185,
   "metadata": {},
   "outputs": [],
   "source": [
    "# For the right Rg calculation using MD Analysis, use trajactory without pbc \n",
    "n30_peg_awmix = mda.Universe(\"n30peg_awmix/n30peg_awmix.pdb\", \"n30peg_awmix/awmix_n30peg.xtc\")"
   ]
  },
  {
   "cell_type": "code",
   "execution_count": 186,
   "metadata": {},
   "outputs": [
    {
     "data": {
      "text/plain": [
       "<XTCReader n30peg_awmix/awmix_n30peg.xtc with 18001 frames of 213 atoms>"
      ]
     },
     "execution_count": 186,
     "metadata": {},
     "output_type": "execute_result"
    }
   ],
   "source": [
    "n30_peg_awmix.trajectory"
   ]
  },
  {
   "cell_type": "code",
   "execution_count": 187,
   "metadata": {},
   "outputs": [
    {
     "data": {
      "text/plain": [
       "18001"
      ]
     },
     "execution_count": 187,
     "metadata": {},
     "output_type": "execute_result"
    }
   ],
   "source": [
    "len(n30_peg_awmix.trajectory)"
   ]
  },
  {
   "cell_type": "code",
   "execution_count": 188,
   "metadata": {},
   "outputs": [],
   "source": [
    "#Select the polymer heavy atoms \n",
    "peg_n30awmix = n30_peg_awmix.select_atoms(\"resname sPEG PEG tPEG and not type H\")"
   ]
  },
  {
   "cell_type": "code",
   "execution_count": 189,
   "metadata": {},
   "outputs": [
    {
     "data": {
      "text/plain": [
       "array([[  1.        ,   0.93621892,   0.84810587,   0.80960704,\n",
       "          0.79527516,   0.77650387,   0.75480013,   0.74475702,\n",
       "          0.74489434,   0.73541625,   0.74571705,   0.71938951,\n",
       "          0.70188826,   0.68199042,   0.66682602,   0.65256748,\n",
       "          0.62368373,   0.59767216,   0.58152834,   0.56005043,\n",
       "          0.5373592 ,   0.49241093,   0.45106066,   0.41667401,\n",
       "          0.37450537,   0.2548416 ,   0.13478932,  -0.11991324,\n",
       "         -0.32312976],\n",
       "       [  0.        ,   1.        ,   2.        ,   3.        ,\n",
       "          4.        ,   5.        ,   6.        ,   7.        ,\n",
       "          8.        ,   9.        ,  10.        ,  11.        ,\n",
       "         12.        ,  13.        ,  14.        ,  15.        ,\n",
       "         16.        ,  17.        ,  18.        ,  19.        ,\n",
       "         20.        ,  21.        ,  22.        ,  23.        ,\n",
       "         24.        ,  25.        ,  26.        ,  27.        ,\n",
       "         28.        ],\n",
       "       [  0.        ,  20.57402894,  31.99375289,  35.94244438,\n",
       "         37.31874713,  39.05842149,  40.9920914 ,  41.8617667 ,\n",
       "         41.84997572,  42.65759945,  41.77927464,  43.99590002,\n",
       "         45.42130359,  47.00062201,  48.17743417,  49.26454038,\n",
       "         51.41435827,  53.29664022,  54.44188993,  55.94071486,\n",
       "         57.49595152,  60.50083119,  63.18824512,  65.37521858,\n",
       "         68.00625497,  75.23580067,  82.25356239,  96.88709516,\n",
       "        108.85230556]])"
      ]
     },
     "execution_count": 189,
     "metadata": {},
     "output_type": "execute_result"
    }
   ],
   "source": [
    "crv_n30peg_awmix = pers_length(peg_n30awmix,30)\n",
    "crv_n30peg_awmix"
   ]
  },
  {
   "cell_type": "code",
   "execution_count": 190,
   "metadata": {},
   "outputs": [],
   "source": [
    "com_bond_n30awmix = np.zeros(shape=(1,18000))\n",
    "count = 0\n",
    "for ts in n30_peg_awmix.trajectory[0:18000]:\n",
    "    n30_mon1_awmix = n30_peg_awmix.select_atoms(\"resid 1\")\n",
    "    n30_mon2_awmix = n30_peg_awmix.select_atoms(\"resid 2\")\n",
    "    oo_len = mda.analysis.distances.distance_array(n30_mon1_awmix.center_of_mass(), n30_mon2_awmix.center_of_mass(), \n",
    "                                                   box=n30_peg_awmix.trajectory.ts.dimensions)\n",
    "    com_bond_n30awmix[0, count] = oo_len\n",
    "    count += 1\n",
    "    "
   ]
  },
  {
   "cell_type": "code",
   "execution_count": 191,
   "metadata": {},
   "outputs": [
    {
     "data": {
      "text/plain": [
       "array([[3.31992852, 3.20007805, 2.57053017, ..., 3.16035102, 2.94809843,\n",
       "        3.1594233 ]])"
      ]
     },
     "execution_count": 191,
     "metadata": {},
     "output_type": "execute_result"
    }
   ],
   "source": [
    "com_bond_n30awmix"
   ]
  },
  {
   "cell_type": "code",
   "execution_count": 192,
   "metadata": {},
   "outputs": [
    {
     "data": {
      "text/plain": [
       "3.223841660480229"
      ]
     },
     "execution_count": 192,
     "metadata": {},
     "output_type": "execute_result"
    }
   ],
   "source": [
    "lb_awmix_pn6"
   ]
  },
  {
   "cell_type": "code",
   "execution_count": 193,
   "metadata": {},
   "outputs": [
    {
     "data": {
      "text/plain": [
       "0.1574573898792014"
      ]
     },
     "execution_count": 193,
     "metadata": {},
     "output_type": "execute_result"
    }
   ],
   "source": [
    "np.std(com_bond)"
   ]
  },
  {
   "cell_type": "code",
   "execution_count": 194,
   "metadata": {},
   "outputs": [
    {
     "data": {
      "text/plain": [
       "3.222894869756002"
      ]
     },
     "execution_count": 194,
     "metadata": {},
     "output_type": "execute_result"
    }
   ],
   "source": [
    "np.mean(com_bond_n30awmix)"
   ]
  },
  {
   "cell_type": "code",
   "execution_count": 195,
   "metadata": {},
   "outputs": [
    {
     "data": {
      "text/plain": [
       "0.16118639013939728"
      ]
     },
     "execution_count": 195,
     "metadata": {},
     "output_type": "execute_result"
    }
   ],
   "source": [
    "np.std(com_bond_n30awmix)"
   ]
  },
  {
   "cell_type": "markdown",
   "metadata": {},
   "source": [
    "### Radius of Gyration vs. time N = 30 PEG/0.69 mol a-w mix"
   ]
  },
  {
   "cell_type": "code",
   "execution_count": 196,
   "metadata": {},
   "outputs": [],
   "source": [
    "n30peg_rgens_awmix, cor_n30peg_awmix, N30peg_cos_awmix, rgawmix_n30peg = get_rg_pers_poly(peg_n30awmix, n30_peg_awmix, 0, 18000)"
   ]
  },
  {
   "cell_type": "code",
   "execution_count": 197,
   "metadata": {},
   "outputs": [
    {
     "data": {
      "text/plain": [
       "(18000,)"
      ]
     },
     "execution_count": 197,
     "metadata": {},
     "output_type": "execute_result"
    }
   ],
   "source": [
    "n30peg_rgens_awmix[0].shape"
   ]
  },
  {
   "cell_type": "code",
   "execution_count": 198,
   "metadata": {},
   "outputs": [
    {
     "data": {
      "text/plain": [
       "array([ 0.,  1.,  2.,  3.,  4.,  5.,  6.,  7.,  8.,  9., 10., 11., 12.,\n",
       "       13., 14., 15., 16., 17., 18., 19., 20., 21., 22., 23., 24., 25.,\n",
       "       26., 27., 28.])"
      ]
     },
     "execution_count": 198,
     "metadata": {},
     "output_type": "execute_result"
    }
   ],
   "source": [
    "cor_n30peg_awmix[3]"
   ]
  },
  {
   "cell_type": "code",
   "execution_count": 199,
   "metadata": {},
   "outputs": [
    {
     "data": {
      "text/plain": [
       "array([[ 1.        ,  1.        ,  1.        , ...,  1.        ,\n",
       "         1.        ,  1.        ],\n",
       "       [ 0.93621892,  0.93193298,  0.91178371, ...,  0.90130161,\n",
       "         0.90753582,  0.90867149],\n",
       "       [ 0.84810587,  0.85317206,  0.80888255, ...,  0.7148259 ,\n",
       "         0.72753648,  0.73874103],\n",
       "       ...,\n",
       "       [ 0.13478932,  0.28743783,  0.43420773, ...,  0.76142402,\n",
       "         0.79100258,  0.71977574],\n",
       "       [-0.11991324,  0.08036086,  0.52202579, ...,  0.80678692,\n",
       "         0.87712078,  0.78401162],\n",
       "       [-0.32312976, -0.16426506,  0.63654681, ...,  0.87981148,\n",
       "         0.97918418,  0.85566228]])"
      ]
     },
     "execution_count": 199,
     "metadata": {},
     "output_type": "execute_result"
    }
   ],
   "source": [
    "N30peg_cos_awmix"
   ]
  },
  {
   "cell_type": "code",
   "execution_count": 200,
   "metadata": {},
   "outputs": [
    {
     "data": {
      "text/plain": [
       "9.66044538358211"
      ]
     },
     "execution_count": 200,
     "metadata": {},
     "output_type": "execute_result"
    }
   ],
   "source": [
    "rgawmix_n30peg"
   ]
  },
  {
   "cell_type": "code",
   "execution_count": 201,
   "metadata": {},
   "outputs": [
    {
     "data": {
      "text/plain": [
       "2.2233921417146987"
      ]
     },
     "execution_count": 201,
     "metadata": {},
     "output_type": "execute_result"
    }
   ],
   "source": [
    "np.std(n30peg_rgens_awmix)"
   ]
  },
  {
   "cell_type": "code",
   "execution_count": 225,
   "metadata": {},
   "outputs": [
    {
     "data": {
      "text/plain": [
       "(0.2, 3)"
      ]
     },
     "execution_count": 225,
     "metadata": {},
     "output_type": "execute_result"
    },
    {
     "data": {
      "image/png": "[encoded data removed]",
      "text/plain": [
       "<Figure size 504x504 with 1 Axes>"
      ]
     },
     "metadata": {
      "needs_background": "light"
     },
     "output_type": "display_data"
    }
   ],
   "source": [
    "plt.figure(figsize=(7,7))\n",
    "plt.title(r'PEG Radius of Gyration', fontsize=18, y=1.01)\n",
    "plt.xlabel(r'Time [ns]', fontsize=15)\n",
    "plt.ylabel(r'$R_{g}$ [nm]', fontsize=15)\n",
    "plt.plot(trj_len/100, n6peg_rgens_awmix[0]/10,linewidth=2, color='#1F2E69')\n",
    "plt.plot(trj_len/100, n8peg_rgens_awmix[0]/10,linewidth=2, color='#4C80ED')\n",
    "plt.plot(trj_len/100, n10peg_rgens_awmix[0]/10,linewidth=2, color='#8C52FC')\n",
    "plt.plot(trj_len/100, n20peg_rgens_awmix[0]/10,linewidth=2, color='#8B7F47')\n",
    "plt.plot(trj_len/100, n30peg_rgens_awmix[0]/10,linewidth=2, color='#63ACBE')\n",
    "plt.tick_params(labelsize=14)\n",
    "plt.legend(['N = 6 in 0.69 a/w mix','N = 8 in 0.69 a/w mix','N = 10 in 0.69 a/w mix'\n",
    "            ,'N = 20 in 0.69 a/w mix','N = 30 in 0.69 a/w mix'], frameon=False, fontsize=14)\n",
    "#plt.text(127, 0.96,r'N = 6 in water', fontsize=18, color='#1F2E69', family='Arial')\n",
    "plt.xlim(0,180)\n",
    "plt.ylim(0.2,3)"
   ]
  },
  {
   "cell_type": "markdown",
   "metadata": {},
   "source": [
    "#### Correlation values at each arc length for the whole 180 ns trajectory, N = 30 PEG/0.69 a-w mixture"
   ]
  },
  {
   "cell_type": "code",
   "execution_count": 203,
   "metadata": {},
   "outputs": [
    {
     "data": {
      "text/plain": [
       "array([ 0.        ,  3.22384166,  6.44768332,  9.67152498, 12.89536664,\n",
       "       16.1192083 , 19.34304996, 22.56689162, 25.79073328, 29.01457494,\n",
       "       32.2384166 , 35.46225827, 38.68609993, 41.90994159, 45.13378325,\n",
       "       48.35762491, 51.58146657, 54.80530823, 58.02914989, 61.25299155,\n",
       "       64.47683321, 67.70067487, 70.92451653, 74.14835819, 77.37219985,\n",
       "       80.59604151, 83.81988317, 87.04372483, 90.26756649])"
      ]
     },
     "execution_count": 203,
     "metadata": {},
     "output_type": "execute_result"
    }
   ],
   "source": [
    "# x values\n",
    "blen_n30awmix = cor_n30peg_awmix[3]*lb_awmix_pn6\n",
    "#nt_tt[0] = 0\n",
    "blen_n30awmix"
   ]
  },
  {
   "cell_type": "code",
   "execution_count": 204,
   "metadata": {},
   "outputs": [
    {
     "data": {
      "text/plain": [
       "array([2.18938933e-18, 1.31734388e-02, 4.67588689e-02, 1.03893075e-01,\n",
       "       1.68653843e-01, 2.37128169e-01, 3.08022309e-01, 3.68562198e-01,\n",
       "       4.11356281e-01, 4.47929938e-01, 4.95052111e-01, 5.52662331e-01,\n",
       "       6.18891911e-01, 6.81932358e-01, 7.40720261e-01, 7.97748651e-01,\n",
       "       8.67366044e-01, 9.41673494e-01, 1.01040929e+00, 1.07952722e+00,\n",
       "       1.12465465e+00, 1.15015578e+00, 1.18995993e+00, 1.26206767e+00,\n",
       "       1.35067979e+00, 1.43959296e+00, 1.64787860e+00, 1.93271923e+00,\n",
       "       2.31563207e+00])"
      ]
     },
     "execution_count": 204,
     "metadata": {},
     "output_type": "execute_result"
    }
   ],
   "source": [
    "mk_n30p_awmix = cor_n30peg_awmix[1]/cor_n30peg_awmix[0]\n",
    "mk_n30p_awmix"
   ]
  },
  {
   "cell_type": "code",
   "execution_count": 205,
   "metadata": {},
   "outputs": [
    {
     "data": {
      "text/plain": [
       "<matplotlib.legend.Legend at 0x1a1a062b70>"
      ]
     },
     "execution_count": 205,
     "metadata": {},
     "output_type": "execute_result"
    },
    {
     "data": {
      "image/png": "[encoded data removed]",
      "text/plain": [
       "<Figure size 504x504 with 1 Axes>"
      ]
     },
     "metadata": {
      "needs_background": "light"
     },
     "output_type": "display_data"
    }
   ],
   "source": [
    "plt.figure(figsize=(7,7))\n",
    "plt.errorbar(blen_awmix, np.log(cor_n6peg_awmix[0]), yerr=mk_n6p_awmix, color='#1F2E69', linestyle=\"None\",marker='o',\n",
    "     capsize=5, capthick=1, ecolor='black')\n",
    "plt.errorbar(blen_n8awmix, np.log(cor_n8peg_awmix[0]), yerr=mk_n8p_awmix, color='#4C80ED', linestyle=\"None\",marker='o',\n",
    "     capsize=5, capthick=1, ecolor='black')\n",
    "plt.errorbar(blen_n10awmix, np.log(cor_n10peg_awmix[0]), yerr=mk_n10p_awmix, color='#8C52FC', linestyle=\"None\",marker='o',\n",
    "     capsize=5, capthick=1, ecolor='black')\n",
    "plt.errorbar(blen_n20awmix, np.log(cor_n20peg_awmix[0]), yerr=mk_n20p_awmix, color='#8B7F47', linestyle=\"None\",marker='o',\n",
    "     capsize=5, capthick=1, ecolor='black')\n",
    "plt.errorbar(blen_n30awmix, np.log(cor_n30peg_awmix[0]), yerr=mk_n30p_awmix, color='#63ACBE', linestyle=\"None\",marker='o',\n",
    "     capsize=5, capthick=1, ecolor='black')\n",
    "plt.legend(['N = 6 in 0.69 a/w mix','N = 8 in 0.69 a/w mix','N = 10 in 0.69 a/w mix'\n",
    "            ,'N = 20 in 0.69 a/w mix','N = 30 in 0.69 a/w mix'], frameon=False, fontsize=14)"
   ]
  },
  {
   "cell_type": "code",
   "execution_count": 206,
   "metadata": {},
   "outputs": [
    {
     "name": "stdout",
     "output_type": "stream",
     "text": [
      "3000\n",
      "6000\n",
      "Lp [Angstroms]: 18.104216854990764\n",
      "Error in Lp from fit [Angstroms], 95% CL : 0.12601233222048494\n",
      "R2 score: 0.9831843011068094\n",
      "6000\n",
      "9000\n",
      "Lp [Angstroms]: 18.595729019380066\n",
      "Error in Lp from fit [Angstroms], 95% CL : 0.13153898444317633\n",
      "R2 score: 0.9826849430698631\n",
      "9000\n",
      "12000\n",
      "Lp [Angstroms]: 19.044077722286847\n",
      "Error in Lp from fit [Angstroms], 95% CL : 0.11593675602886533\n",
      "R2 score: 0.9868594886406403\n",
      "12000\n",
      "15000\n",
      "Lp [Angstroms]: 17.145787098682362\n",
      "Error in Lp from fit [Angstroms], 95% CL : 0.13987980337346081\n",
      "R2 score: 0.9775064144936043\n",
      "15000\n",
      "18000\n",
      "Lp [Angstroms]: 18.088506980904608\n",
      "Error in Lp from fit [Angstroms], 95% CL : 0.13355511639700562\n",
      "R2 score: 0.9812634725951478\n"
     ]
    }
   ],
   "source": [
    "# All the points give the best fits for N = 6 peg in water\n",
    "n30_blkspeg_awmix , n30peg_lpawmix = bavg_pers_cnt(5, peg_n30awmix, n30_peg_awmix, lb_awmix_pn6, 5, 3000 , 18000)"
   ]
  },
  {
   "cell_type": "code",
   "execution_count": 207,
   "metadata": {},
   "outputs": [
    {
     "data": {
      "text/plain": [
       "{'Avg Radius of gyration': array([ 9.62601072, 10.11821658, 10.56326015,  8.54528844,  8.6380128 ]),\n",
       " 'Avg persistence length': array([18.10421685, 18.59572902, 19.04407772, 17.1457871 , 18.08850698])}"
      ]
     },
     "execution_count": 207,
     "metadata": {},
     "output_type": "execute_result"
    }
   ],
   "source": [
    "n30_blkspeg_awmix"
   ]
  },
  {
   "cell_type": "code",
   "execution_count": 208,
   "metadata": {},
   "outputs": [
    {
     "data": {
      "text/plain": [
       "array([[ 1.81042169e+01,  1.85957290e+01,  1.90440777e+01,\n",
       "         1.71457871e+01,  1.80885070e+01],\n",
       "       [ 1.26012332e-01,  1.31538984e-01,  1.15936756e-01,\n",
       "         1.39879803e-01,  1.33555116e-01],\n",
       "       [-5.52357502e-02, -5.37757890e-02, -5.25097626e-02,\n",
       "        -5.83233650e-02, -5.52837225e-02],\n",
       "       [ 1.23676767e-03,  1.21070163e-03,  8.55034233e-04,\n",
       "         1.89435476e-03,  1.39409114e-03]])"
      ]
     },
     "execution_count": 208,
     "metadata": {},
     "output_type": "execute_result"
    }
   ],
   "source": [
    "n30peg_lpawmix"
   ]
  },
  {
   "cell_type": "code",
   "execution_count": 209,
   "metadata": {},
   "outputs": [
    {
     "data": {
      "text/plain": [
       "array([-0.05523575, -0.05377579, -0.05250976, -0.05832337, -0.05528372])"
      ]
     },
     "execution_count": 209,
     "metadata": {},
     "output_type": "execute_result"
    }
   ],
   "source": [
    "n30peg_lpawmix[2]"
   ]
  },
  {
   "cell_type": "code",
   "execution_count": 210,
   "metadata": {},
   "outputs": [
    {
     "data": {
      "text/plain": [
       "0.0013181898883029529"
      ]
     },
     "execution_count": 210,
     "metadata": {},
     "output_type": "execute_result"
    }
   ],
   "source": [
    "np.mean(n30peg_lpawmix[3])"
   ]
  },
  {
   "cell_type": "code",
   "execution_count": 211,
   "metadata": {},
   "outputs": [
    {
     "data": {
      "text/plain": [
       "array([ 0.        ,  3.22384166,  6.44768332,  9.67152498, 12.89536664,\n",
       "       16.1192083 , 19.34304996, 22.56689162, 25.79073328, 29.01457494,\n",
       "       32.2384166 , 35.46225827, 38.68609993, 41.90994159, 45.13378325,\n",
       "       48.35762491, 51.58146657, 54.80530823, 58.02914989, 61.25299155,\n",
       "       64.47683321, 67.70067487, 70.92451653, 74.14835819, 77.37219985,\n",
       "       80.59604151, 83.81988317, 87.04372483, 90.26756649])"
      ]
     },
     "execution_count": 211,
     "metadata": {},
     "output_type": "execute_result"
    }
   ],
   "source": [
    "blen_n30awmix"
   ]
  },
  {
   "cell_type": "code",
   "execution_count": 212,
   "metadata": {},
   "outputs": [],
   "source": [
    "gg_n30peg_awmix = line_fit(np.mean(n30peg_lpawmix[2]),blen_n30awmix)"
   ]
  },
  {
   "cell_type": "code",
   "execution_count": 213,
   "metadata": {},
   "outputs": [],
   "source": [
    "gg_n6peg_n30awmix = line_fit(np.mean(n6peg_lpawmix[2]),blen_n30awmix)"
   ]
  },
  {
   "cell_type": "code",
   "execution_count": 214,
   "metadata": {},
   "outputs": [],
   "source": [
    "gg_n8peg_n30awmix = line_fit(np.mean(n8peg_lpawmix[2]),blen_n30awmix)"
   ]
  },
  {
   "cell_type": "code",
   "execution_count": 215,
   "metadata": {},
   "outputs": [],
   "source": [
    "gg_n10peg_n30awmix = line_fit(np.mean(n10peg_lpawmix[2]),blen_n30awmix)"
   ]
  },
  {
   "cell_type": "code",
   "execution_count": 216,
   "metadata": {},
   "outputs": [],
   "source": [
    "gg_n20peg_n30awmix = line_fit(np.mean(n20peg_lpawmix[2]),blen_n30awmix)"
   ]
  },
  {
   "cell_type": "code",
   "execution_count": 217,
   "metadata": {},
   "outputs": [
    {
     "data": {
      "text/plain": [
       "array([-0.        , -0.17539399, -0.35078797, -0.52618196, -0.70157595,\n",
       "       -0.87696993, -1.05236392, -1.22775791, -1.40315189])"
      ]
     },
     "execution_count": 217,
     "metadata": {},
     "output_type": "execute_result"
    }
   ],
   "source": [
    "gg_n20peg_awmix"
   ]
  },
  {
   "cell_type": "markdown",
   "metadata": {},
   "source": [
    "### Block averaged Radius of gyration and persistence length, N = 30 PEG/0.69 mole a-w mix"
   ]
  },
  {
   "cell_type": "code",
   "execution_count": 218,
   "metadata": {},
   "outputs": [
    {
     "data": {
      "text/plain": [
       "18.19566353524893"
      ]
     },
     "execution_count": 218,
     "metadata": {},
     "output_type": "execute_result"
    }
   ],
   "source": [
    "np.mean(n30_blkspeg_awmix[\"Avg persistence length\"])"
   ]
  },
  {
   "cell_type": "code",
   "execution_count": 219,
   "metadata": {},
   "outputs": [
    {
     "data": {
      "text/plain": [
       "0.6327629222524327"
      ]
     },
     "execution_count": 219,
     "metadata": {},
     "output_type": "execute_result"
    }
   ],
   "source": [
    "np.std(n30_blkspeg_awmix[\"Avg persistence length\"])"
   ]
  },
  {
   "cell_type": "code",
   "execution_count": 220,
   "metadata": {},
   "outputs": [
    {
     "data": {
      "text/plain": [
       "9.498157739189756"
      ]
     },
     "execution_count": 220,
     "metadata": {},
     "output_type": "execute_result"
    }
   ],
   "source": [
    "np.mean(n30_blkspeg_awmix[\"Avg Radius of gyration\"])"
   ]
  },
  {
   "cell_type": "code",
   "execution_count": 221,
   "metadata": {},
   "outputs": [
    {
     "data": {
      "text/plain": [
       "0.7978811579130153"
      ]
     },
     "execution_count": 221,
     "metadata": {},
     "output_type": "execute_result"
    }
   ],
   "source": [
    "np.std(n30_blkspeg_awmix[\"Avg Radius of gyration\"])"
   ]
  },
  {
   "cell_type": "code",
   "execution_count": 227,
   "metadata": {},
   "outputs": [
    {
     "data": {
      "image/png": "[encoded data removed]",
      "text/plain": [
       "<Figure size 504x504 with 1 Axes>"
      ]
     },
     "metadata": {
      "needs_background": "light"
     },
     "output_type": "display_data"
    }
   ],
   "source": [
    "plt.figure(figsize=(7,7))\n",
    "plt.errorbar(blen_awmix, np.log(cor_n6peg_awmix[0]), yerr=mk_n6p_awmix, color='#1F2E69', linestyle=\"None\",marker='o',\n",
    "     capsize=5, capthick=1, ecolor='black')\n",
    "plt.errorbar(blen_n8awmix, np.log(cor_n8peg_awmix[0]), yerr=mk_n8p_awmix, color='#4C80ED', linestyle=\"None\",marker='o',\n",
    "     capsize=5, capthick=1, ecolor='black')\n",
    "plt.errorbar(blen_n10awmix, np.log(cor_n10peg_awmix[0]), yerr=mk_n10p_awmix, color='#8C52FC', linestyle=\"None\",marker='o',\n",
    "     capsize=5, capthick=1, ecolor='black')\n",
    "plt.errorbar(blen_n20awmix, np.log(cor_n20peg_awmix[0]), yerr=mk_n20p_awmix, color='#8B7F47', linestyle=\"None\",marker='o',\n",
    "     capsize=5, capthick=1, ecolor='black')\n",
    "plt.errorbar(blen_n30awmix, np.log(cor_n30peg_awmix[0]), yerr=mk_n30p_awmix, color='#63ACBE', linestyle=\"None\",marker='o',\n",
    "     capsize=5, capthick=1, ecolor='black')\n",
    "plt.plot(blen_n30awmix[:15], gg_n6peg_n30awmix[:15], color='#1F2E69')\n",
    "plt.plot(blen_n30awmix[:15], gg_n8peg_n30awmix[:15], color='#4C80ED')\n",
    "plt.plot(blen_n30awmix[:15], gg_n10peg_n30awmix[:15], color='#8C52FC')\n",
    "plt.plot(blen_n30awmix[:15], gg_n20peg_n30awmix[:15], color='#8C52FC')\n",
    "plt.plot(blen_n30awmix[:15], gg_n30peg_awmix[:15], color='#63ACBE')\n",
    "plt.title(r'Ensemble Averaged ln(Cosine $\\theta$) in 0.69 a/w mix', fontsize=15, y=1.01)\n",
    "plt.xlabel(r'Bond Length', fontsize=15)\n",
    "plt.ylabel(r'ln$\\left< Cos(\\theta)\\right >$', fontsize=15)\n",
    "plt.ylim(-6,1)\n",
    "plt.xlim(0,90)\n",
    "#plt.ylim(-1.9,0)\n",
    "font = font_manager.FontProperties(family='Arial', style='normal', size='14')\n",
    "plt.text(0.5, -5.9,r'$N_{PEG}$ = 6: $L_{p}$ = 14.4 $\\AA$ ± 1.68 $\\AA$', fontsize=15, color='#1F2E69')\n",
    "plt.text(0.5,-5.58,r'$N_{PEG}$ = 8: $L_{p}$ = 16.8 $\\AA$ ± 1.16 $\\AA$', fontsize=15, color='#4C80ED')\n",
    "plt.text(0.5,-5.23,r'$N_{PEG}$ = 10: $L_{p}$ = 18.4 $\\AA$ ± 1.02 $\\AA$', fontsize=15, color='#8C52FC')\n",
    "plt.text(0.5,-4.90,r'$N_{PEG}$ = 20: $L_{p}$ = 18.6 $\\AA$ ± 1.02 $\\AA$', fontsize=15, color='#8B7F47')\n",
    "plt.text(0.5,-4.53,r'$N_{PEG}$ = 30: $L_{p}$ = 18.2 $\\AA$ ± 0.63 $\\AA$', fontsize=15, color='#63ACBE')\n",
    "plt.tick_params(labelsize=14)\n",
    "#plt.text(5,-0.15,r'R$^{2}$ = 0.98', fontsize=15, color='blue')"
   ]
  },
  {
   "cell_type": "code",
   "execution_count": 222,
   "metadata": {},
   "outputs": [
    {
     "data": {
      "text/html": [
       "<div>\n",
       "<style scoped>\n",
       "    .dataframe tbody tr th:only-of-type {\n",
       "        vertical-align: middle;\n",
       "    }\n",
       "\n",
       "    .dataframe tbody tr th {\n",
       "        vertical-align: top;\n",
       "    }\n",
       "\n",
       "    .dataframe thead th {\n",
       "        text-align: right;\n",
       "    }\n",
       "</style>\n",
       "<table border=\"1\" class=\"dataframe\">\n",
       "  <thead>\n",
       "    <tr style=\"text-align: right;\">\n",
       "      <th></th>\n",
       "      <th>$R_{g}$ [Angstrom] N = 6 PEG 0.69 a/w</th>\n",
       "      <th>$R_{g}$ [Angstrom] N = 8 PEG 0.69 a/w mix</th>\n",
       "      <th>$R_{g}$ [Angstrom] N = 10 PEG 0.69 a/w mix</th>\n",
       "      <th>$R_{g}$ [Angstrom] N = 20 PEG 0.69 a/w mix</th>\n",
       "    </tr>\n",
       "  </thead>\n",
       "  <tbody>\n",
       "    <tr>\n",
       "      <td>0</td>\n",
       "      <td>4.169492</td>\n",
       "      <td>5.100545</td>\n",
       "      <td>5.896109</td>\n",
       "      <td>8.243425</td>\n",
       "    </tr>\n",
       "    <tr>\n",
       "      <td>1</td>\n",
       "      <td>4.262122</td>\n",
       "      <td>5.143588</td>\n",
       "      <td>5.971891</td>\n",
       "      <td>8.376996</td>\n",
       "    </tr>\n",
       "    <tr>\n",
       "      <td>2</td>\n",
       "      <td>4.426009</td>\n",
       "      <td>5.039665</td>\n",
       "      <td>6.075449</td>\n",
       "      <td>8.414496</td>\n",
       "    </tr>\n",
       "    <tr>\n",
       "      <td>3</td>\n",
       "      <td>4.103104</td>\n",
       "      <td>5.211169</td>\n",
       "      <td>5.805417</td>\n",
       "      <td>8.930528</td>\n",
       "    </tr>\n",
       "    <tr>\n",
       "      <td>4</td>\n",
       "      <td>4.205842</td>\n",
       "      <td>4.833183</td>\n",
       "      <td>5.699631</td>\n",
       "      <td>7.907645</td>\n",
       "    </tr>\n",
       "  </tbody>\n",
       "</table>\n",
       "</div>"
      ],
      "text/plain": [
       "   $R_{g}$ [Angstrom] N = 6 PEG 0.69 a/w  \\\n",
       "0                               4.169492   \n",
       "1                               4.262122   \n",
       "2                               4.426009   \n",
       "3                               4.103104   \n",
       "4                               4.205842   \n",
       "\n",
       "   $R_{g}$ [Angstrom] N = 8 PEG 0.69 a/w mix  \\\n",
       "0                                   5.100545   \n",
       "1                                   5.143588   \n",
       "2                                   5.039665   \n",
       "3                                   5.211169   \n",
       "4                                   4.833183   \n",
       "\n",
       "   $R_{g}$ [Angstrom] N = 10 PEG 0.69 a/w mix  \\\n",
       "0                                    5.896109   \n",
       "1                                    5.971891   \n",
       "2                                    6.075449   \n",
       "3                                    5.805417   \n",
       "4                                    5.699631   \n",
       "\n",
       "   $R_{g}$ [Angstrom] N = 20 PEG 0.69 a/w mix  \n",
       "0                                    8.243425  \n",
       "1                                    8.376996  \n",
       "2                                    8.414496  \n",
       "3                                    8.930528  \n",
       "4                                    7.907645  "
      ]
     },
     "execution_count": 222,
     "metadata": {},
     "output_type": "execute_result"
    }
   ],
   "source": [
    "rgpeg_olig_awmix"
   ]
  },
  {
   "cell_type": "code",
   "execution_count": 223,
   "metadata": {},
   "outputs": [
    {
     "data": {
      "text/html": [
       "<div>\n",
       "<style scoped>\n",
       "    .dataframe tbody tr th:only-of-type {\n",
       "        vertical-align: middle;\n",
       "    }\n",
       "\n",
       "    .dataframe tbody tr th {\n",
       "        vertical-align: top;\n",
       "    }\n",
       "\n",
       "    .dataframe thead th {\n",
       "        text-align: right;\n",
       "    }\n",
       "</style>\n",
       "<table border=\"1\" class=\"dataframe\">\n",
       "  <thead>\n",
       "    <tr style=\"text-align: right;\">\n",
       "      <th></th>\n",
       "      <th>$R_{g}$ [Angstrom] N = 6 PEG 0.69 a/w</th>\n",
       "      <th>$R_{g}$ [Angstrom] N = 8 PEG 0.69 a/w mix</th>\n",
       "      <th>$R_{g}$ [Angstrom] N = 10 PEG 0.69 a/w mix</th>\n",
       "      <th>$R_{g}$ [Angstrom] N = 20 PEG 0.69 a/w mix</th>\n",
       "      <th>$R_{g}$ [Angstrom] N = 30 PEG 0.69 a/w mix</th>\n",
       "    </tr>\n",
       "  </thead>\n",
       "  <tbody>\n",
       "    <tr>\n",
       "      <td>0</td>\n",
       "      <td>4.169492</td>\n",
       "      <td>5.100545</td>\n",
       "      <td>5.896109</td>\n",
       "      <td>8.243425</td>\n",
       "      <td>9.626011</td>\n",
       "    </tr>\n",
       "    <tr>\n",
       "      <td>1</td>\n",
       "      <td>4.262122</td>\n",
       "      <td>5.143588</td>\n",
       "      <td>5.971891</td>\n",
       "      <td>8.376996</td>\n",
       "      <td>10.118217</td>\n",
       "    </tr>\n",
       "    <tr>\n",
       "      <td>2</td>\n",
       "      <td>4.426009</td>\n",
       "      <td>5.039665</td>\n",
       "      <td>6.075449</td>\n",
       "      <td>8.414496</td>\n",
       "      <td>10.563260</td>\n",
       "    </tr>\n",
       "    <tr>\n",
       "      <td>3</td>\n",
       "      <td>4.103104</td>\n",
       "      <td>5.211169</td>\n",
       "      <td>5.805417</td>\n",
       "      <td>8.930528</td>\n",
       "      <td>8.545288</td>\n",
       "    </tr>\n",
       "    <tr>\n",
       "      <td>4</td>\n",
       "      <td>4.205842</td>\n",
       "      <td>4.833183</td>\n",
       "      <td>5.699631</td>\n",
       "      <td>7.907645</td>\n",
       "      <td>8.638013</td>\n",
       "    </tr>\n",
       "  </tbody>\n",
       "</table>\n",
       "</div>"
      ],
      "text/plain": [
       "   $R_{g}$ [Angstrom] N = 6 PEG 0.69 a/w  \\\n",
       "0                               4.169492   \n",
       "1                               4.262122   \n",
       "2                               4.426009   \n",
       "3                               4.103104   \n",
       "4                               4.205842   \n",
       "\n",
       "   $R_{g}$ [Angstrom] N = 8 PEG 0.69 a/w mix  \\\n",
       "0                                   5.100545   \n",
       "1                                   5.143588   \n",
       "2                                   5.039665   \n",
       "3                                   5.211169   \n",
       "4                                   4.833183   \n",
       "\n",
       "   $R_{g}$ [Angstrom] N = 10 PEG 0.69 a/w mix  \\\n",
       "0                                    5.896109   \n",
       "1                                    5.971891   \n",
       "2                                    6.075449   \n",
       "3                                    5.805417   \n",
       "4                                    5.699631   \n",
       "\n",
       "   $R_{g}$ [Angstrom] N = 20 PEG 0.69 a/w mix  \\\n",
       "0                                    8.243425   \n",
       "1                                    8.376996   \n",
       "2                                    8.414496   \n",
       "3                                    8.930528   \n",
       "4                                    7.907645   \n",
       "\n",
       "   $R_{g}$ [Angstrom] N = 30 PEG 0.69 a/w mix  \n",
       "0                                    9.626011  \n",
       "1                                   10.118217  \n",
       "2                                   10.563260  \n",
       "3                                    8.545288  \n",
       "4                                    8.638013  "
      ]
     },
     "execution_count": 223,
     "metadata": {},
     "output_type": "execute_result"
    }
   ],
   "source": [
    "rgpeg_olig_awmix[r\"$R_{g}$ [Angstrom] N = 30 PEG 0.69 a/w mix\"] = n30_blkspeg_awmix[\"Avg Radius of gyration\"]\n",
    "rgpeg_olig_awmix"
   ]
  },
  {
   "cell_type": "code",
   "execution_count": 235,
   "metadata": {},
   "outputs": [],
   "source": [
    "rgpeg_olig_awmix.to_pickle(\"PEG_awmix_Rg.pkl\")"
   ]
  },
  {
   "cell_type": "code",
   "execution_count": 224,
   "metadata": {},
   "outputs": [
    {
     "data": {
      "text/html": [
       "<div>\n",
       "<style scoped>\n",
       "    .dataframe tbody tr th:only-of-type {\n",
       "        vertical-align: middle;\n",
       "    }\n",
       "\n",
       "    .dataframe tbody tr th {\n",
       "        vertical-align: top;\n",
       "    }\n",
       "\n",
       "    .dataframe thead th {\n",
       "        text-align: right;\n",
       "    }\n",
       "</style>\n",
       "<table border=\"1\" class=\"dataframe\">\n",
       "  <thead>\n",
       "    <tr style=\"text-align: right;\">\n",
       "      <th></th>\n",
       "      <th>$L_{p}$ [Angstrom] N = 6 PEG 0.69 a/w</th>\n",
       "      <th>$L_{p}$ [Angstrom] N = 8 PEG 0.69 a/w mix</th>\n",
       "      <th>$L_{p}$ [Angstrom] N = 10 PEG 0.69 a/w mix</th>\n",
       "      <th>$L_{p}$ [Angstrom] N = 20 PEG 0.69 a/w mix</th>\n",
       "      <th>$L_{p}$ [Angstrom] N = 30 PEG 0.69 a/w mix</th>\n",
       "    </tr>\n",
       "  </thead>\n",
       "  <tbody>\n",
       "    <tr>\n",
       "      <td>0</td>\n",
       "      <td>13.681591</td>\n",
       "      <td>16.404989</td>\n",
       "      <td>18.656534</td>\n",
       "      <td>18.535404</td>\n",
       "      <td>18.104217</td>\n",
       "    </tr>\n",
       "    <tr>\n",
       "      <td>1</td>\n",
       "      <td>14.545927</td>\n",
       "      <td>16.947136</td>\n",
       "      <td>18.522166</td>\n",
       "      <td>19.550814</td>\n",
       "      <td>18.595729</td>\n",
       "    </tr>\n",
       "    <tr>\n",
       "      <td>2</td>\n",
       "      <td>17.394214</td>\n",
       "      <td>17.423570</td>\n",
       "      <td>20.151636</td>\n",
       "      <td>18.556179</td>\n",
       "      <td>19.044078</td>\n",
       "    </tr>\n",
       "    <tr>\n",
       "      <td>3</td>\n",
       "      <td>12.305072</td>\n",
       "      <td>18.350388</td>\n",
       "      <td>17.702962</td>\n",
       "      <td>19.540193</td>\n",
       "      <td>17.145787</td>\n",
       "    </tr>\n",
       "    <tr>\n",
       "      <td>4</td>\n",
       "      <td>13.896268</td>\n",
       "      <td>14.848801</td>\n",
       "      <td>17.145308</td>\n",
       "      <td>16.766024</td>\n",
       "      <td>18.088507</td>\n",
       "    </tr>\n",
       "  </tbody>\n",
       "</table>\n",
       "</div>"
      ],
      "text/plain": [
       "   $L_{p}$ [Angstrom] N = 6 PEG 0.69 a/w   \\\n",
       "0                               13.681591   \n",
       "1                               14.545927   \n",
       "2                               17.394214   \n",
       "3                               12.305072   \n",
       "4                               13.896268   \n",
       "\n",
       "   $L_{p}$ [Angstrom] N = 8 PEG 0.69 a/w mix   \\\n",
       "0                                   16.404989   \n",
       "1                                   16.947136   \n",
       "2                                   17.423570   \n",
       "3                                   18.350388   \n",
       "4                                   14.848801   \n",
       "\n",
       "   $L_{p}$ [Angstrom] N = 10 PEG 0.69 a/w mix   \\\n",
       "0                                    18.656534   \n",
       "1                                    18.522166   \n",
       "2                                    20.151636   \n",
       "3                                    17.702962   \n",
       "4                                    17.145308   \n",
       "\n",
       "   $L_{p}$ [Angstrom] N = 20 PEG 0.69 a/w mix   \\\n",
       "0                                    18.535404   \n",
       "1                                    19.550814   \n",
       "2                                    18.556179   \n",
       "3                                    19.540193   \n",
       "4                                    16.766024   \n",
       "\n",
       "   $L_{p}$ [Angstrom] N = 30 PEG 0.69 a/w mix   \n",
       "0                                    18.104217  \n",
       "1                                    18.595729  \n",
       "2                                    19.044078  \n",
       "3                                    17.145787  \n",
       "4                                    18.088507  "
      ]
     },
     "execution_count": 224,
     "metadata": {},
     "output_type": "execute_result"
    }
   ],
   "source": [
    "pers_pegt_awmix[r\"$L_{p}$ [Angstrom] N = 30 PEG 0.69 a/w mix \"] = n30_blkspeg_awmix[\"Avg persistence length\"]\n",
    "pers_pegt_awmix"
   ]
  },
  {
   "cell_type": "code",
   "execution_count": 236,
   "metadata": {},
   "outputs": [],
   "source": [
    "pers_pegt_awmix.to_pickle(\"PEG_awmix_Lp.pkl\")"
   ]
  },
  {
   "cell_type": "markdown",
   "metadata": {},
   "source": [
    "### Fluory Exponent, PEG/0.69 mol a-w mixture systems "
   ]
  },
  {
   "cell_type": "code",
   "execution_count": 237,
   "metadata": {},
   "outputs": [],
   "source": [
    "n_peg = np.array([6,8,10,20,30])\n",
    "rg_npeg_awmix = np.array([np.mean(n6_blkspeg_awmix[\"Avg Radius of gyration\"])\n",
    "                    ,np.mean(n8_blkspeg_awmix[\"Avg Radius of gyration\"]),np.mean(n10_blkspeg_awmix[\"Avg Radius of gyration\"])\n",
    "                    ,np.mean(n20_blkspeg_awmix[\"Avg Radius of gyration\"]),np.mean(n30_blkspeg_awmix[\"Avg Radius of gyration\"])])"
   ]
  },
  {
   "cell_type": "code",
   "execution_count": 238,
   "metadata": {},
   "outputs": [],
   "source": [
    "rg_npegaw_std = np.array([np.std(np.log10(n6_blkspeg_awmix[\"Avg Radius of gyration\"]))\n",
    "                    ,np.std(np.log10(n8_blkspeg_awmix[\"Avg Radius of gyration\"])),np.std(np.log10(n10_blkspeg_awmix[\"Avg Radius of gyration\"]))\n",
    "                    ,np.std(np.log10(n20_blkspeg_awmix[\"Avg Radius of gyration\"])),np.std(np.log10(n30_blkspeg_awmix[\"Avg Radius of gyration\"]))])"
   ]
  },
  {
   "cell_type": "code",
   "execution_count": 239,
   "metadata": {},
   "outputs": [
    {
     "data": {
      "text/plain": [
       "array([0.01111667, 0.01118276, 0.00959571, 0.01703361, 0.03664498])"
      ]
     },
     "execution_count": 239,
     "metadata": {},
     "output_type": "execute_result"
    }
   ],
   "source": [
    "rg_npegaw_std"
   ]
  },
  {
   "cell_type": "code",
   "execution_count": 240,
   "metadata": {},
   "outputs": [
    {
     "data": {
      "text/plain": [
       "array([4.23331369, 5.06562996, 5.88969931, 8.37461802, 9.49815774])"
      ]
     },
     "execution_count": 240,
     "metadata": {},
     "output_type": "execute_result"
    }
   ],
   "source": [
    "rg_npeg_awmix"
   ]
  },
  {
   "cell_type": "code",
   "execution_count": 219,
   "metadata": {},
   "outputs": [
    {
     "data": {
      "text/plain": [
       "array([ 6,  8, 10, 20, 30])"
      ]
     },
     "execution_count": 219,
     "metadata": {},
     "output_type": "execute_result"
    }
   ],
   "source": [
    "n_peg"
   ]
  },
  {
   "cell_type": "code",
   "execution_count": 241,
   "metadata": {},
   "outputs": [
    {
     "name": "stdout",
     "output_type": "stream",
     "text": [
      "Model slope:     0.5058196638552609\n",
      "Model intercept: 0.2481086696103808\n"
     ]
    }
   ],
   "source": [
    "# From fitting all points, I get best fit \n",
    "from sklearn.linear_model import LinearRegression\n",
    "model_vawmix = LinearRegression(fit_intercept=True)\n",
    "model_vawmix.fit(np.log10(n_peg).reshape(-1,1), np.log10(rg_npeg_awmix))\n",
    "# Slope here is in nanometers\n",
    "print(\"Model slope:    \", model_vawmix.coef_[0])\n",
    "print(\"Model intercept:\", model_vawmix.intercept_)"
   ]
  },
  {
   "cell_type": "code",
   "execution_count": 242,
   "metadata": {},
   "outputs": [
    {
     "data": {
      "text/plain": [
       "array([0.64171287, 0.70490934, 0.75392833, 0.90619522, 0.99526565])"
      ]
     },
     "execution_count": 242,
     "metadata": {},
     "output_type": "execute_result"
    }
   ],
   "source": [
    "gg_aw = model_vawmix.predict(np.log10(n_peg.reshape(-1,1)))\n",
    "gg_aw"
   ]
  },
  {
   "cell_type": "code",
   "execution_count": 243,
   "metadata": {},
   "outputs": [
    {
     "name": "stdout",
     "output_type": "stream",
     "text": [
      "Mean Std Error: 0.00021585223601430092\n",
      "R2 score: 0.98755237661597\n"
     ]
    }
   ],
   "source": [
    "print(\"Mean Std Error:\", sklearn.metrics.mean_squared_error(np.log10(rg_npeg_awmix), gg_aw))\n",
    "print(\"R2 score:\", sklearn.metrics.r2_score(np.log10(rg_npeg_awmix), gg_aw))"
   ]
  },
  {
   "cell_type": "code",
   "execution_count": 244,
   "metadata": {},
   "outputs": [
    {
     "data": {
      "text/plain": [
       "array([-0.01503242, -0.00027588,  0.01616479,  0.01676978, -0.01762627])"
      ]
     },
     "execution_count": 244,
     "metadata": {},
     "output_type": "execute_result"
    }
   ],
   "source": [
    "# Residuals between the true y data and model y data \n",
    "resid_v = np.log10(rg_npeg_awmix) - gg_aw\n",
    "resid_v"
   ]
  },
  {
   "cell_type": "code",
   "execution_count": 245,
   "metadata": {},
   "outputs": [
    {
     "data": {
      "text/plain": [
       "0.334663876760361"
      ]
     },
     "execution_count": 245,
     "metadata": {},
     "output_type": "execute_result"
    }
   ],
   "source": [
    "# How to calculate Sum((Xi - avg(X))^2): X values are the bond length values \n",
    "nt_tt = np.log10(n_peg)\n",
    "nt_tt -= np.mean(nt_tt)\n",
    "nhui = nt_tt**2\n",
    "np.sum(nhui)"
   ]
  },
  {
   "cell_type": "code",
   "execution_count": 246,
   "metadata": {},
   "outputs": [
    {
     "data": {
      "text/plain": [
       "2.7764451051977987"
      ]
     },
     "execution_count": 246,
     "metadata": {},
     "output_type": "execute_result"
    }
   ],
   "source": [
    "# t-value with 95 % confidence intervals \n",
    "scipy.stats.t.ppf(0.975, 4)"
   ]
  },
  {
   "cell_type": "code",
   "execution_count": 247,
   "metadata": {},
   "outputs": [
    {
     "data": {
      "text/plain": [
       "0.0705119862229519"
      ]
     },
     "execution_count": 247,
     "metadata": {},
     "output_type": "execute_result"
    }
   ],
   "source": [
    "# How to calculate 95% confidence interval for the slope \n",
    "flc_v = scipy.stats.t.ppf(0.975, 4)*np.sqrt((np.sum(resid_v**2)/len(resid_v))/(np.sum(nhui)))\n",
    "flc_v"
   ]
  },
  {
   "cell_type": "code",
   "execution_count": 250,
   "metadata": {},
   "outputs": [
    {
     "data": {
      "text/plain": [
       "Text(1.1, 0.78, '$v_{acet-water}$ = 0.51 ± 0.07')"
      ]
     },
     "execution_count": 250,
     "metadata": {},
     "output_type": "execute_result"
    },
    {
     "data": {
      "image/png": "[encoded data removed]",
      "text/plain": [
       "<Figure size 504x504 with 1 Axes>"
      ]
     },
     "metadata": {
      "needs_background": "light"
     },
     "output_type": "display_data"
    }
   ],
   "source": [
    "plt.figure(figsize=(7,7))\n",
    "plt.errorbar(np.log10(n_peg), np.log10(rg_npeg_awmix), yerr=rg_npegaw_std, color='#A95AA1', linestyle=\"None\",marker='o',\n",
    "     capsize=5, capthick=1, ecolor='black')\n",
    "plt.plot(np.log10(n_peg), gg_aw, color='#A95AA1')\n",
    "plt.title(r'Fluory Exponent', fontsize=15)\n",
    "plt.xlabel(r'Log($N_{PEG}$)', fontsize=15)\n",
    "plt.ylabel(r'Log($R_{g}$)', fontsize=15)\n",
    "plt.tick_params(labelsize=14)\n",
    "plt.text(1.1, 0.78, r'$v_{acet-water}$ = 0.51 ± 0.07', fontsize=15, color='#A95AA1')"
   ]
  },
  {
   "cell_type": "code",
   "execution_count": null,
   "metadata": {},
   "outputs": [],
   "source": []
  },
  {
   "cell_type": "code",
   "execution_count": null,
   "metadata": {},
   "outputs": [],
   "source": []
  },
  {
   "cell_type": "code",
   "execution_count": null,
   "metadata": {},
   "outputs": [],
   "source": []
  },
  {
   "cell_type": "code",
   "execution_count": null,
   "metadata": {},
   "outputs": [],
   "source": []
  },
  {
   "cell_type": "code",
   "execution_count": null,
   "metadata": {},
   "outputs": [],
   "source": []
  },
  {
   "cell_type": "code",
   "execution_count": null,
   "metadata": {},
   "outputs": [],
   "source": []
  },
  {
   "cell_type": "code",
   "execution_count": null,
   "metadata": {},
   "outputs": [],
   "source": []
  },
  {
   "cell_type": "code",
   "execution_count": null,
   "metadata": {},
   "outputs": [],
   "source": []
  },
  {
   "cell_type": "code",
   "execution_count": null,
   "metadata": {},
   "outputs": [],
   "source": []
  },
  {
   "cell_type": "code",
   "execution_count": null,
   "metadata": {},
   "outputs": [],
   "source": []
  },
  {
   "cell_type": "code",
   "execution_count": null,
   "metadata": {},
   "outputs": [],
   "source": []
  },
  {
   "cell_type": "code",
   "execution_count": null,
   "metadata": {},
   "outputs": [],
   "source": []
  },
  {
   "cell_type": "code",
   "execution_count": null,
   "metadata": {},
   "outputs": [],
   "source": []
  },
  {
   "cell_type": "code",
   "execution_count": null,
   "metadata": {},
   "outputs": [],
   "source": []
  },
  {
   "cell_type": "code",
   "execution_count": null,
   "metadata": {},
   "outputs": [],
   "source": []
  },
  {
   "cell_type": "code",
   "execution_count": null,
   "metadata": {},
   "outputs": [],
   "source": []
  },
  {
   "cell_type": "code",
   "execution_count": null,
   "metadata": {},
   "outputs": [],
   "source": []
  },
  {
   "cell_type": "code",
   "execution_count": null,
   "metadata": {},
   "outputs": [],
   "source": []
  },
  {
   "cell_type": "code",
   "execution_count": null,
   "metadata": {},
   "outputs": [],
   "source": []
  },
  {
   "cell_type": "code",
   "execution_count": null,
   "metadata": {},
   "outputs": [],
   "source": []
  },
  {
   "cell_type": "code",
   "execution_count": null,
   "metadata": {},
   "outputs": [],
   "source": []
  }
 ],
 "metadata": {
  "kernelspec": {
   "display_name": "Python (ppc_env)",
   "language": "python",
   "name": "ppc_env"
  },
  "language_info": {
   "codemirror_mode": {
    "name": "ipython",
    "version": 3
   },
   "file_extension": ".py",
   "mimetype": "text/x-python",
   "name": "python",
   "nbconvert_exporter": "python",
   "pygments_lexer": "ipython3",
   "version": "3.6.9"
  }
 },
 "nbformat": 4,
 "nbformat_minor": 4
}
