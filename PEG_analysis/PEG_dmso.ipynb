{
 "cells": [
  {
   "cell_type": "code",
   "execution_count": 1,
   "metadata": {},
   "outputs": [],
   "source": [
    "#import the necessary modules \n",
    "%matplotlib inline \n",
    "import numpy as np \n",
    "import matplotlib.pyplot as plt \n",
    "import pandas as pd \n",
    "import scipy\n",
    "import sklearn\n",
    "import itertools \n",
    "from itertools import cycle \n",
    "import os.path as op\n",
    "import timeit \n",
    "import json\n",
    "import math\n"
   ]
  },
  {
   "cell_type": "code",
   "execution_count": 2,
   "metadata": {},
   "outputs": [
    {
     "data": {
      "text/plain": [
       "4"
      ]
     },
     "execution_count": 2,
     "metadata": {},
     "output_type": "execute_result"
    }
   ],
   "source": [
    "import multiprocessing as m_proc\n",
    "m_proc.cpu_count()"
   ]
  },
  {
   "cell_type": "code",
   "execution_count": 3,
   "metadata": {},
   "outputs": [],
   "source": [
    "# Import MDAnalysis\n",
    "import MDAnalysis as mda\n",
    "import statsmodels as stats\n",
    "from MDAnalysis.analysis import polymer, distances, rdf\n",
    "import matplotlib.font_manager as font_manager"
   ]
  },
  {
   "cell_type": "code",
   "execution_count": 4,
   "metadata": {},
   "outputs": [],
   "source": [
    "from polymer_MD_analysis import pers_length, get_rg_pers_poly, bavg_pers_cnt"
   ]
  },
  {
   "cell_type": "markdown",
   "metadata": {},
   "source": [
    "## PEG/dmso system analysis"
   ]
  },
  {
   "cell_type": "markdown",
   "metadata": {},
   "source": [
    "### N = 6 PEG/DMSO "
   ]
  },
  {
   "cell_type": "code",
   "execution_count": 5,
   "metadata": {},
   "outputs": [],
   "source": [
    "# For the right Rg calculation using MD Analysis, use trajactory without pbc \n",
    "n6_peg_dmso = mda.Universe(\"n6peg_dmso/n6pegonly_dmso.pdb\", \"n6peg_dmso/nodmso_n6peg.xtc\")"
   ]
  },
  {
   "cell_type": "code",
   "execution_count": 6,
   "metadata": {},
   "outputs": [
    {
     "data": {
      "text/plain": [
       "<XTCReader n6peg_dmso/nodmso_n6peg.xtc with 18001 frames of 45 atoms>"
      ]
     },
     "execution_count": 6,
     "metadata": {},
     "output_type": "execute_result"
    }
   ],
   "source": [
    "n6_peg_dmso.trajectory"
   ]
  },
  {
   "cell_type": "code",
   "execution_count": 7,
   "metadata": {},
   "outputs": [
    {
     "data": {
      "text/plain": [
       "18001"
      ]
     },
     "execution_count": 7,
     "metadata": {},
     "output_type": "execute_result"
    }
   ],
   "source": [
    "len(n6_peg_dmso.trajectory)"
   ]
  },
  {
   "cell_type": "code",
   "execution_count": 8,
   "metadata": {},
   "outputs": [],
   "source": [
    "#Select the polymer heavy atoms \n",
    "peg_n6dmso = n6_peg_dmso.select_atoms(\"resname sPEG PEG tPEG and not type H\")"
   ]
  },
  {
   "cell_type": "code",
   "execution_count": 9,
   "metadata": {},
   "outputs": [
    {
     "data": {
      "text/plain": [
       "array([[ 1.        ,  0.99455581,  0.99062149,  0.98327341,  0.97002216],\n",
       "       [ 0.        ,  1.        ,  2.        ,  3.        ,  4.        ],\n",
       "       [ 0.        ,  0.        ,  0.        , 10.49418094, 14.06464437]])"
      ]
     },
     "execution_count": 9,
     "metadata": {},
     "output_type": "execute_result"
    }
   ],
   "source": [
    "crv_n6peg_dmso = pers_length(peg_n6dmso,6)\n",
    "crv_n6peg_dmso"
   ]
  },
  {
   "cell_type": "code",
   "execution_count": 10,
   "metadata": {},
   "outputs": [],
   "source": [
    "com_bond = np.zeros(shape=(1,18000))\n",
    "count = 0\n",
    "for ts in n6_peg_dmso.trajectory[0:18000]:\n",
    "    n6_mon1_dmso = n6_peg_dmso.select_atoms(\"resid 1\")\n",
    "    n6_mon2_dmso = n6_peg_dmso.select_atoms(\"resid 2\")\n",
    "    oo_len = mda.analysis.distances.distance_array(n6_mon1_dmso.center_of_mass(), n6_mon2_dmso.center_of_mass(), \n",
    "                                                   box=n6_peg_dmso.trajectory.ts.dimensions)\n",
    "    com_bond[0, count] = oo_len\n",
    "    count += 1\n",
    "    "
   ]
  },
  {
   "cell_type": "code",
   "execution_count": 11,
   "metadata": {},
   "outputs": [
    {
     "data": {
      "text/plain": [
       "array([[3.53350002, 3.23345886, 3.20921526, ..., 3.25338305, 3.09876112,\n",
       "        2.93677543]])"
      ]
     },
     "execution_count": 11,
     "metadata": {},
     "output_type": "execute_result"
    }
   ],
   "source": [
    "com_bond"
   ]
  },
  {
   "cell_type": "code",
   "execution_count": 12,
   "metadata": {},
   "outputs": [
    {
     "data": {
      "text/plain": [
       "3.2419135998493824"
      ]
     },
     "execution_count": 12,
     "metadata": {},
     "output_type": "execute_result"
    }
   ],
   "source": [
    "lb_avg_pn6 = np.mean(com_bond)\n",
    "lb_avg_pn6"
   ]
  },
  {
   "cell_type": "code",
   "execution_count": 13,
   "metadata": {},
   "outputs": [
    {
     "data": {
      "text/plain": [
       "0.18863018935460654"
      ]
     },
     "execution_count": 13,
     "metadata": {},
     "output_type": "execute_result"
    }
   ],
   "source": [
    "np.std(com_bond)"
   ]
  },
  {
   "cell_type": "markdown",
   "metadata": {},
   "source": [
    "### Radius of Gyration vs. time N = 6 PEG/dmso"
   ]
  },
  {
   "cell_type": "code",
   "execution_count": 14,
   "metadata": {},
   "outputs": [],
   "source": [
    "n6peg_rgens_dmso, cor_n6peg_dmso, N6peg_cos_dmso, rgdmso_n6peg = get_rg_pers_poly(peg_n6dmso, n6_peg_dmso, 0, 18000)"
   ]
  },
  {
   "cell_type": "code",
   "execution_count": 15,
   "metadata": {},
   "outputs": [
    {
     "data": {
      "text/plain": [
       "(18000,)"
      ]
     },
     "execution_count": 15,
     "metadata": {},
     "output_type": "execute_result"
    }
   ],
   "source": [
    "n6peg_rgens_dmso[0].shape"
   ]
  },
  {
   "cell_type": "code",
   "execution_count": 16,
   "metadata": {},
   "outputs": [
    {
     "data": {
      "text/plain": [
       "array([0., 1., 2., 3., 4.])"
      ]
     },
     "execution_count": 16,
     "metadata": {},
     "output_type": "execute_result"
    }
   ],
   "source": [
    "cor_n6peg_dmso[3]"
   ]
  },
  {
   "cell_type": "code",
   "execution_count": 17,
   "metadata": {},
   "outputs": [
    {
     "data": {
      "text/plain": [
       "array([[1.        , 1.        , 1.        , ..., 1.        , 1.        ,\n",
       "        1.        ],\n",
       "       [0.99455581, 0.97115107, 0.93912044, ..., 0.86360955, 0.86343516,\n",
       "        0.81104202],\n",
       "       [0.99062149, 0.94785464, 0.91981512, ..., 0.62919399, 0.60184819,\n",
       "        0.4504974 ],\n",
       "       [0.98327341, 0.9707317 , 0.92717501, ..., 0.54157293, 0.44880438,\n",
       "        0.48221947],\n",
       "       [0.97002216, 0.97358134, 0.85910879, ..., 0.10438749, 0.02226476,\n",
       "        0.45941551]])"
      ]
     },
     "execution_count": 17,
     "metadata": {},
     "output_type": "execute_result"
    }
   ],
   "source": [
    "N6peg_cos_dmso"
   ]
  },
  {
   "cell_type": "code",
   "execution_count": 18,
   "metadata": {},
   "outputs": [
    {
     "data": {
      "text/plain": [
       "4.454765844991922"
      ]
     },
     "execution_count": 18,
     "metadata": {},
     "output_type": "execute_result"
    }
   ],
   "source": [
    "rgdmso_n6peg"
   ]
  },
  {
   "cell_type": "code",
   "execution_count": 19,
   "metadata": {},
   "outputs": [
    {
     "data": {
      "text/plain": [
       "0.6920312874966961"
      ]
     },
     "execution_count": 19,
     "metadata": {},
     "output_type": "execute_result"
    }
   ],
   "source": [
    "np.std(n6peg_rgens_dmso)"
   ]
  },
  {
   "cell_type": "code",
   "execution_count": 20,
   "metadata": {},
   "outputs": [
    {
     "data": {
      "text/plain": [
       "array([    0,     1,     2, ..., 17997, 17998, 17999])"
      ]
     },
     "execution_count": 20,
     "metadata": {},
     "output_type": "execute_result"
    }
   ],
   "source": [
    "trj_len = np.arange(18000)\n",
    "\n",
    "#trj_len += 1\n",
    "trj_len\n"
   ]
  },
  {
   "cell_type": "code",
   "execution_count": 21,
   "metadata": {},
   "outputs": [
    {
     "data": {
      "text/plain": [
       "(0.2, 2)"
      ]
     },
     "execution_count": 21,
     "metadata": {},
     "output_type": "execute_result"
    },
    {
     "data": {
      "image/png": "[encoded data removed]",
      "text/plain": [
       "<Figure size 504x504 with 1 Axes>"
      ]
     },
     "metadata": {
      "needs_background": "light"
     },
     "output_type": "display_data"
    }
   ],
   "source": [
    "plt.figure(figsize=(7,7))\n",
    "plt.title(r'PEG Radius of Gyration', fontsize=18, y=1.01)\n",
    "plt.xlabel(r'Time [ns]', fontsize=15)\n",
    "plt.ylabel(r'$R_{g}$ [nm]', fontsize=15)\n",
    "plt.plot(trj_len/100, n6peg_rgens_dmso[0]/10,linewidth=2, color='#1F2E69')\n",
    "plt.tick_params(labelsize=14)\n",
    "plt.legend(['N = 6 in DMSO'], frameon=False, fontsize=14)\n",
    "#plt.text(127, 0.96,r'N = 6 in water', fontsize=18, color='#1F2E69', family='Arial')\n",
    "plt.xlim(0,180)\n",
    "plt.ylim(0.2,2)"
   ]
  },
  {
   "cell_type": "markdown",
   "metadata": {},
   "source": [
    "#### Correlation values at each arc length for the whole 180 ns trajectory, N = 6 PEG/dmso"
   ]
  },
  {
   "cell_type": "code",
   "execution_count": 23,
   "metadata": {},
   "outputs": [
    {
     "data": {
      "text/plain": [
       "array([ 0.       ,  3.2419136,  6.4838272,  9.7257408, 12.9676544])"
      ]
     },
     "execution_count": 23,
     "metadata": {},
     "output_type": "execute_result"
    }
   ],
   "source": [
    "# x values\n",
    "blen_dmso = cor_n6peg_dmso[3]*lb_avg_pn6\n",
    "#nt_tt[0] = 0\n",
    "blen_dmso"
   ]
  },
  {
   "cell_type": "code",
   "execution_count": 24,
   "metadata": {},
   "outputs": [
    {
     "data": {
      "text/plain": [
       "array([5.58370933e-17, 5.08373831e-02, 1.77216880e-01, 4.33193206e-01,\n",
       "       7.96488889e-01])"
      ]
     },
     "execution_count": 24,
     "metadata": {},
     "output_type": "execute_result"
    }
   ],
   "source": [
    "# Error prop. into natural log std deviation\n",
    "mk_n6p_dmso = cor_n6peg_dmso[1]/cor_n6peg_dmso[0]\n",
    "mk_n6p_dmso"
   ]
  },
  {
   "cell_type": "code",
   "execution_count": 25,
   "metadata": {},
   "outputs": [
    {
     "data": {
      "text/plain": [
       "<ErrorbarContainer object of 3 artists>"
      ]
     },
     "execution_count": 25,
     "metadata": {},
     "output_type": "execute_result"
    },
    {
     "data": {
      "image/png": "[encoded data removed]",
      "text/plain": [
       "<Figure size 504x504 with 1 Axes>"
      ]
     },
     "metadata": {
      "needs_background": "light"
     },
     "output_type": "display_data"
    }
   ],
   "source": [
    "plt.figure(figsize=(7,7))\n",
    "plt.errorbar(blen_dmso, np.log(cor_n6peg_dmso[0]), yerr=mk_n6p_dmso, color='b', linestyle=\"None\",marker='o',\n",
    "     capsize=5, capthick=1, ecolor='black')"
   ]
  },
  {
   "cell_type": "code",
   "execution_count": 26,
   "metadata": {},
   "outputs": [
    {
     "name": "stdout",
     "output_type": "stream",
     "text": [
      "3000\n",
      "6000\n",
      "Lp [Angstroms]: 16.809450819424047\n",
      "Error in Lp from fit [Angstroms], 95% CL: 3.3301372387120307\n",
      "R2 score: 0.9785260835461235\n",
      "6000\n",
      "9000\n",
      "Lp [Angstroms]: 25.078841659093637\n",
      "Error in Lp from fit [Angstroms], 95% CL: 2.1789494274728463\n",
      "R2 score: 0.9953958918000745\n",
      "9000\n",
      "12000\n",
      "Lp [Angstroms]: 18.201036466028352\n",
      "Error in Lp from fit [Angstroms], 95% CL: 3.147792972890552\n",
      "R2 score: 0.9832619440217341\n",
      "12000\n",
      "15000\n",
      "Lp [Angstroms]: 19.792809366209973\n",
      "Error in Lp from fit [Angstroms], 95% CL: 2.6950216682579993\n",
      "R2 score: 0.9892081129886878\n",
      "15000\n",
      "18000\n",
      "Lp [Angstroms]: 14.283992614209334\n",
      "Error in Lp from fit [Angstroms], 95% CL: 2.7294267323481027\n",
      "R2 score: 0.9798081995032031\n"
     ]
    }
   ],
   "source": [
    "# All the points give the best fits for N = 6 peg in water\n",
    "n6_blkspeg_dmso , n6peg_lpdmso = bavg_pers_cnt(5, peg_n6dmso, n6_peg_dmso, lb_avg_pn6, 5, 3000 , 18000)"
   ]
  },
  {
   "cell_type": "code",
   "execution_count": 27,
   "metadata": {},
   "outputs": [
    {
     "data": {
      "text/plain": [
       "{'Avg Radius of gyration': array([4.44895948, 4.74870206, 4.53469101, 4.53193381, 4.16387863]),\n",
       " 'Avg persistence length': array([16.80945082, 25.07884166, 18.20103647, 19.79280937, 14.28399261])}"
      ]
     },
     "execution_count": 27,
     "metadata": {},
     "output_type": "execute_result"
    }
   ],
   "source": [
    "n6_blkspeg_dmso"
   ]
  },
  {
   "cell_type": "code",
   "execution_count": 28,
   "metadata": {},
   "outputs": [
    {
     "data": {
      "text/plain": [
       "array([[ 1.68094508e+01,  2.50788417e+01,  1.82010365e+01,\n",
       "         1.97928094e+01,  1.42839926e+01],\n",
       "       [ 3.33013724e+00,  2.17894943e+00,  3.14779297e+00,\n",
       "         2.69502167e+00,  2.72942673e+00],\n",
       "       [-5.94903433e-02, -3.98742499e-02, -5.49419261e-02,\n",
       "        -5.05233988e-02, -7.00084372e-02],\n",
       "       [ 1.89380323e-03,  1.63639859e-04,  1.23098436e-03,\n",
       "         6.45237271e-04,  2.43988358e-03]])"
      ]
     },
     "execution_count": 28,
     "metadata": {},
     "output_type": "execute_result"
    }
   ],
   "source": [
    "n6peg_lpdmso"
   ]
  },
  {
   "cell_type": "code",
   "execution_count": 29,
   "metadata": {},
   "outputs": [
    {
     "data": {
      "text/plain": [
       "array([-0.05949034, -0.03987425, -0.05494193, -0.0505234 , -0.07000844])"
      ]
     },
     "execution_count": 29,
     "metadata": {},
     "output_type": "execute_result"
    }
   ],
   "source": [
    "n6peg_lpdmso[2]"
   ]
  },
  {
   "cell_type": "code",
   "execution_count": 30,
   "metadata": {},
   "outputs": [
    {
     "data": {
      "text/plain": [
       "0.001274709660029268"
      ]
     },
     "execution_count": 30,
     "metadata": {},
     "output_type": "execute_result"
    }
   ],
   "source": [
    "np.mean(n6peg_lpdmso[3])"
   ]
  },
  {
   "cell_type": "code",
   "execution_count": 31,
   "metadata": {},
   "outputs": [],
   "source": [
    "def line_fit(slope, x):\n",
    "    return slope*x "
   ]
  },
  {
   "cell_type": "code",
   "execution_count": 32,
   "metadata": {},
   "outputs": [
    {
     "data": {
      "text/plain": [
       "array([ 0.       ,  3.2419136,  6.4838272,  9.7257408, 12.9676544])"
      ]
     },
     "execution_count": 32,
     "metadata": {},
     "output_type": "execute_result"
    }
   ],
   "source": [
    "blen_dmso"
   ]
  },
  {
   "cell_type": "code",
   "execution_count": 33,
   "metadata": {},
   "outputs": [],
   "source": [
    "gg_n6peg_dmso = line_fit(np.mean(n6peg_lpdmso[2]),blen_dmso)"
   ]
  },
  {
   "cell_type": "code",
   "execution_count": 34,
   "metadata": {},
   "outputs": [
    {
     "data": {
      "text/plain": [
       "array([-0.        , -0.17820044, -0.35640088, -0.53460132, -0.71280176])"
      ]
     },
     "execution_count": 34,
     "metadata": {},
     "output_type": "execute_result"
    }
   ],
   "source": [
    "gg_n6peg_dmso"
   ]
  },
  {
   "cell_type": "markdown",
   "metadata": {},
   "source": [
    "### Block averaged Radius of gyration and persistence length, N = 6 PEG/DMSO"
   ]
  },
  {
   "cell_type": "code",
   "execution_count": 35,
   "metadata": {},
   "outputs": [
    {
     "data": {
      "text/plain": [
       "18.83322618499307"
      ]
     },
     "execution_count": 35,
     "metadata": {},
     "output_type": "execute_result"
    }
   ],
   "source": [
    "np.mean(n6_blkspeg_dmso[\"Avg persistence length\"])"
   ]
  },
  {
   "cell_type": "code",
   "execution_count": 36,
   "metadata": {},
   "outputs": [
    {
     "data": {
      "text/plain": [
       "3.6088604623784852"
      ]
     },
     "execution_count": 36,
     "metadata": {},
     "output_type": "execute_result"
    }
   ],
   "source": [
    "np.std(n6_blkspeg_dmso[\"Avg persistence length\"])"
   ]
  },
  {
   "cell_type": "code",
   "execution_count": 37,
   "metadata": {},
   "outputs": [
    {
     "data": {
      "text/plain": [
       "4.485632995739893"
      ]
     },
     "execution_count": 37,
     "metadata": {},
     "output_type": "execute_result"
    }
   ],
   "source": [
    "np.mean(n6_blkspeg_dmso[\"Avg Radius of gyration\"])"
   ]
  },
  {
   "cell_type": "code",
   "execution_count": 38,
   "metadata": {},
   "outputs": [
    {
     "data": {
      "text/plain": [
       "0.18901143044339638"
      ]
     },
     "execution_count": 38,
     "metadata": {},
     "output_type": "execute_result"
    }
   ],
   "source": [
    "np.std(n6_blkspeg_dmso[\"Avg Radius of gyration\"])"
   ]
  },
  {
   "cell_type": "code",
   "execution_count": 45,
   "metadata": {},
   "outputs": [
    {
     "data": {
      "image/png": "[encoded data removed]",
      "text/plain": [
       "<Figure size 504x504 with 1 Axes>"
      ]
     },
     "metadata": {
      "needs_background": "light"
     },
     "output_type": "display_data"
    }
   ],
   "source": [
    "plt.figure(figsize=(7,7))\n",
    "plt.errorbar(blen_dmso, np.log(cor_n6peg_dmso[0]), yerr=mk_n6p_dmso, color='#1F2E69', linestyle=\"None\",marker='o',\n",
    "     capsize=5, capthick=1, ecolor='black')\n",
    "plt.plot(blen_dmso, gg_n6peg_dmso, color='#1F2E69')\n",
    "plt.title(r'Ensemble Averaged ln(Cosine $\\theta$) in DMSO', fontsize=15, y=1.01)\n",
    "plt.xlabel(r'Bond Length', fontsize=15)\n",
    "plt.ylabel(r'ln$\\left< Cos(\\theta)\\right >$', fontsize=15)\n",
    "#plt.ylim(-1.9,0)\n",
    "font = font_manager.FontProperties(family='Arial', style='normal', size='14')\n",
    "plt.legend([r'$N_{PEG}$ = 6: $L_{p}$ = 18.8 $\\AA$ ± 3.60 $\\AA$'], loc=3, frameon=0, fontsize=14, prop=font)\n",
    "plt.tick_params(labelsize=14)\n",
    "#plt.text(0.5, -6.94,r'$N_{PEG}$ = 6: $L_{p}$ = 18.8 $\\AA$ ± 3.61 $\\AA$', fontsize=15, color='#1F2E69')"
   ]
  },
  {
   "cell_type": "code",
   "execution_count": 43,
   "metadata": {},
   "outputs": [
    {
     "data": {
      "text/html": [
       "<div>\n",
       "<style scoped>\n",
       "    .dataframe tbody tr th:only-of-type {\n",
       "        vertical-align: middle;\n",
       "    }\n",
       "\n",
       "    .dataframe tbody tr th {\n",
       "        vertical-align: top;\n",
       "    }\n",
       "\n",
       "    .dataframe thead th {\n",
       "        text-align: right;\n",
       "    }\n",
       "</style>\n",
       "<table border=\"1\" class=\"dataframe\">\n",
       "  <thead>\n",
       "    <tr style=\"text-align: right;\">\n",
       "      <th></th>\n",
       "      <th>$R_{g}$ [Angstrom] N = 6 PEG DMSO</th>\n",
       "    </tr>\n",
       "  </thead>\n",
       "  <tbody>\n",
       "    <tr>\n",
       "      <td>0</td>\n",
       "      <td>4.448959</td>\n",
       "    </tr>\n",
       "    <tr>\n",
       "      <td>1</td>\n",
       "      <td>4.748702</td>\n",
       "    </tr>\n",
       "    <tr>\n",
       "      <td>2</td>\n",
       "      <td>4.534691</td>\n",
       "    </tr>\n",
       "    <tr>\n",
       "      <td>3</td>\n",
       "      <td>4.531934</td>\n",
       "    </tr>\n",
       "    <tr>\n",
       "      <td>4</td>\n",
       "      <td>4.163879</td>\n",
       "    </tr>\n",
       "  </tbody>\n",
       "</table>\n",
       "</div>"
      ],
      "text/plain": [
       "   $R_{g}$ [Angstrom] N = 6 PEG DMSO\n",
       "0                           4.448959\n",
       "1                           4.748702\n",
       "2                           4.534691\n",
       "3                           4.531934\n",
       "4                           4.163879"
      ]
     },
     "execution_count": 43,
     "metadata": {},
     "output_type": "execute_result"
    }
   ],
   "source": [
    "rgpeg_olig_dmso =  pd.DataFrame(data=n6_blkspeg_dmso[\"Avg Radius of gyration\"], columns=['$R_{g}$ [Angstrom] N = 6 PEG DMSO'])\n",
    "rgpeg_olig_dmso"
   ]
  },
  {
   "cell_type": "code",
   "execution_count": 44,
   "metadata": {},
   "outputs": [
    {
     "data": {
      "text/html": [
       "<div>\n",
       "<style scoped>\n",
       "    .dataframe tbody tr th:only-of-type {\n",
       "        vertical-align: middle;\n",
       "    }\n",
       "\n",
       "    .dataframe tbody tr th {\n",
       "        vertical-align: top;\n",
       "    }\n",
       "\n",
       "    .dataframe thead th {\n",
       "        text-align: right;\n",
       "    }\n",
       "</style>\n",
       "<table border=\"1\" class=\"dataframe\">\n",
       "  <thead>\n",
       "    <tr style=\"text-align: right;\">\n",
       "      <th></th>\n",
       "      <th>$L_{p}$ [Angstrom] N = 6 PEG DMSO</th>\n",
       "    </tr>\n",
       "  </thead>\n",
       "  <tbody>\n",
       "    <tr>\n",
       "      <td>0</td>\n",
       "      <td>16.809451</td>\n",
       "    </tr>\n",
       "    <tr>\n",
       "      <td>1</td>\n",
       "      <td>25.078842</td>\n",
       "    </tr>\n",
       "    <tr>\n",
       "      <td>2</td>\n",
       "      <td>18.201036</td>\n",
       "    </tr>\n",
       "    <tr>\n",
       "      <td>3</td>\n",
       "      <td>19.792809</td>\n",
       "    </tr>\n",
       "    <tr>\n",
       "      <td>4</td>\n",
       "      <td>14.283993</td>\n",
       "    </tr>\n",
       "  </tbody>\n",
       "</table>\n",
       "</div>"
      ],
      "text/plain": [
       "   $L_{p}$ [Angstrom] N = 6 PEG DMSO \n",
       "0                           16.809451\n",
       "1                           25.078842\n",
       "2                           18.201036\n",
       "3                           19.792809\n",
       "4                           14.283993"
      ]
     },
     "execution_count": 44,
     "metadata": {},
     "output_type": "execute_result"
    }
   ],
   "source": [
    "pers_pegt_dmso = pd.DataFrame(data=n6_blkspeg_dmso[\"Avg persistence length\"], columns=[r\"$L_{p}$ [Angstrom] N = 6 PEG DMSO \"])\n",
    "pers_pegt_dmso"
   ]
  },
  {
   "cell_type": "code",
   "execution_count": null,
   "metadata": {},
   "outputs": [],
   "source": []
  },
  {
   "cell_type": "markdown",
   "metadata": {},
   "source": [
    "### N = 8 PEG/DMSO "
   ]
  },
  {
   "cell_type": "code",
   "execution_count": 46,
   "metadata": {},
   "outputs": [],
   "source": [
    "# For the right Rg calculation using MD Analysis, use trajactory without pbc \n",
    "n8_peg_dmso = mda.Universe(\"n8peg_dmso/n8pegonly_dmso.pdb\", \"n8peg_dmso/nodmso_n8peg.xtc\")"
   ]
  },
  {
   "cell_type": "code",
   "execution_count": 47,
   "metadata": {},
   "outputs": [
    {
     "data": {
      "text/plain": [
       "<XTCReader n8peg_dmso/nodmso_n8peg.xtc with 18001 frames of 59 atoms>"
      ]
     },
     "execution_count": 47,
     "metadata": {},
     "output_type": "execute_result"
    }
   ],
   "source": [
    "n8_peg_dmso.trajectory"
   ]
  },
  {
   "cell_type": "code",
   "execution_count": 48,
   "metadata": {},
   "outputs": [
    {
     "data": {
      "text/plain": [
       "18001"
      ]
     },
     "execution_count": 48,
     "metadata": {},
     "output_type": "execute_result"
    }
   ],
   "source": [
    "len(n8_peg_dmso.trajectory)"
   ]
  },
  {
   "cell_type": "code",
   "execution_count": 49,
   "metadata": {},
   "outputs": [],
   "source": [
    "#Select the polymer heavy atoms \n",
    "peg_n8dmso = n8_peg_dmso.select_atoms(\"resname sPEG PEG tPEG and not type H\")"
   ]
  },
  {
   "cell_type": "code",
   "execution_count": 50,
   "metadata": {},
   "outputs": [
    {
     "data": {
      "text/plain": [
       "array([[1.        , 0.98841966, 0.99062982, 0.99294482, 0.9915651 ,\n",
       "        0.98732389, 0.9929842 ],\n",
       "       [0.        , 1.        , 2.        , 3.        , 4.        ,\n",
       "        5.        , 6.        ],\n",
       "       [0.        , 8.72806975, 0.        , 0.        , 0.        ,\n",
       "        9.13251628, 0.        ]])"
      ]
     },
     "execution_count": 50,
     "metadata": {},
     "output_type": "execute_result"
    }
   ],
   "source": [
    "crv_n8peg_dmso = pers_length(peg_n8dmso,8)\n",
    "crv_n8peg_dmso"
   ]
  },
  {
   "cell_type": "code",
   "execution_count": 51,
   "metadata": {},
   "outputs": [],
   "source": [
    "com_bond_n8dmso = np.zeros(shape=(1,18000))\n",
    "count = 0\n",
    "for ts in n8_peg_dmso.trajectory[0:18000]:\n",
    "    n8_mon1_dmso = n8_peg_dmso.select_atoms(\"resid 1\")\n",
    "    n8_mon2_dmso = n8_peg_dmso.select_atoms(\"resid 2\")\n",
    "    oo_len = mda.analysis.distances.distance_array(n8_mon1_dmso.center_of_mass(), n8_mon2_dmso.center_of_mass(), \n",
    "                                                   box=n8_peg_dmso.trajectory.ts.dimensions)\n",
    "    com_bond_n8dmso[0, count] = oo_len\n",
    "    count += 1\n",
    "    "
   ]
  },
  {
   "cell_type": "code",
   "execution_count": 52,
   "metadata": {},
   "outputs": [
    {
     "data": {
      "text/plain": [
       "array([[3.53350002, 3.23345886, 3.20921526, ..., 3.25338305, 3.09876112,\n",
       "        2.93677543]])"
      ]
     },
     "execution_count": 52,
     "metadata": {},
     "output_type": "execute_result"
    }
   ],
   "source": [
    "com_bond"
   ]
  },
  {
   "cell_type": "code",
   "execution_count": 53,
   "metadata": {},
   "outputs": [
    {
     "data": {
      "text/plain": [
       "3.2419135998493824"
      ]
     },
     "execution_count": 53,
     "metadata": {},
     "output_type": "execute_result"
    }
   ],
   "source": [
    "lb_avg_pn6"
   ]
  },
  {
   "cell_type": "code",
   "execution_count": 54,
   "metadata": {},
   "outputs": [
    {
     "data": {
      "text/plain": [
       "0.18863018935460654"
      ]
     },
     "execution_count": 54,
     "metadata": {},
     "output_type": "execute_result"
    }
   ],
   "source": [
    "np.std(com_bond)"
   ]
  },
  {
   "cell_type": "code",
   "execution_count": 55,
   "metadata": {},
   "outputs": [
    {
     "data": {
      "text/plain": [
       "3.2224598658499217"
      ]
     },
     "execution_count": 55,
     "metadata": {},
     "output_type": "execute_result"
    }
   ],
   "source": [
    "np.mean(com_bond_n8dmso)"
   ]
  },
  {
   "cell_type": "code",
   "execution_count": 56,
   "metadata": {},
   "outputs": [
    {
     "data": {
      "text/plain": [
       "0.19897830735152627"
      ]
     },
     "execution_count": 56,
     "metadata": {},
     "output_type": "execute_result"
    }
   ],
   "source": [
    "np.std(com_bond_n8dmso)"
   ]
  },
  {
   "cell_type": "markdown",
   "metadata": {},
   "source": [
    "### Radius of Gyration vs. time N = 8 PEG/dmso"
   ]
  },
  {
   "cell_type": "code",
   "execution_count": 57,
   "metadata": {},
   "outputs": [],
   "source": [
    "n8peg_rgens_dmso, cor_n8peg_dmso, N8peg_cos_dmso, rgdmso_n8peg = get_rg_pers_poly(peg_n8dmso, n8_peg_dmso, 0, 18000)"
   ]
  },
  {
   "cell_type": "code",
   "execution_count": 58,
   "metadata": {},
   "outputs": [
    {
     "data": {
      "text/plain": [
       "(18000,)"
      ]
     },
     "execution_count": 58,
     "metadata": {},
     "output_type": "execute_result"
    }
   ],
   "source": [
    "n8peg_rgens_dmso[0].shape"
   ]
  },
  {
   "cell_type": "code",
   "execution_count": 59,
   "metadata": {},
   "outputs": [
    {
     "data": {
      "text/plain": [
       "array([0., 1., 2., 3., 4., 5., 6.])"
      ]
     },
     "execution_count": 59,
     "metadata": {},
     "output_type": "execute_result"
    }
   ],
   "source": [
    "cor_n8peg_dmso[3]"
   ]
  },
  {
   "cell_type": "code",
   "execution_count": 60,
   "metadata": {},
   "outputs": [
    {
     "data": {
      "text/plain": [
       "array([[ 1.        ,  1.        ,  1.        , ...,  1.        ,\n",
       "         1.        ,  1.        ],\n",
       "       [ 0.98841966,  0.95563446,  0.95306746, ...,  0.90839921,\n",
       "         0.9097052 ,  0.92673922],\n",
       "       [ 0.99062982,  0.9384285 ,  0.90754751, ...,  0.75657226,\n",
       "         0.7876528 ,  0.73377683],\n",
       "       ...,\n",
       "       [ 0.9915651 ,  0.89552446,  0.91963313, ...,  0.39868129,\n",
       "         0.33030656,  0.27731802],\n",
       "       [ 0.98732389,  0.86117277,  0.83170942, ...,  0.06841671,\n",
       "         0.09591484,  0.1113029 ],\n",
       "       [ 0.9929842 ,  0.85704069,  0.6531179 , ..., -0.12128953,\n",
       "         0.10163987,  0.26323291]])"
      ]
     },
     "execution_count": 60,
     "metadata": {},
     "output_type": "execute_result"
    }
   ],
   "source": [
    "N8peg_cos_dmso"
   ]
  },
  {
   "cell_type": "code",
   "execution_count": 61,
   "metadata": {},
   "outputs": [
    {
     "data": {
      "text/plain": [
       "5.595146806289504"
      ]
     },
     "execution_count": 61,
     "metadata": {},
     "output_type": "execute_result"
    }
   ],
   "source": [
    "rgdmso_n8peg"
   ]
  },
  {
   "cell_type": "code",
   "execution_count": 62,
   "metadata": {},
   "outputs": [
    {
     "data": {
      "text/plain": [
       "0.8306614408196168"
      ]
     },
     "execution_count": 62,
     "metadata": {},
     "output_type": "execute_result"
    }
   ],
   "source": [
    "np.std(n8peg_rgens_dmso)"
   ]
  },
  {
   "cell_type": "code",
   "execution_count": 63,
   "metadata": {},
   "outputs": [
    {
     "data": {
      "text/plain": [
       "array([    0,     1,     2, ..., 17997, 17998, 17999])"
      ]
     },
     "execution_count": 63,
     "metadata": {},
     "output_type": "execute_result"
    }
   ],
   "source": [
    "trj_len = np.arange(18000)\n",
    "\n",
    "#trj_len += 1\n",
    "trj_len\n"
   ]
  },
  {
   "cell_type": "code",
   "execution_count": 64,
   "metadata": {},
   "outputs": [
    {
     "data": {
      "text/plain": [
       "(0.2, 2)"
      ]
     },
     "execution_count": 64,
     "metadata": {},
     "output_type": "execute_result"
    },
    {
     "data": {
      "image/png": "[encoded data removed]",
      "text/plain": [
       "<Figure size 504x504 with 1 Axes>"
      ]
     },
     "metadata": {
      "needs_background": "light"
     },
     "output_type": "display_data"
    }
   ],
   "source": [
    "plt.figure(figsize=(7,7))\n",
    "plt.title(r'PEG Radius of Gyration', fontsize=18, y=1.01)\n",
    "plt.xlabel(r'Time [ns]', fontsize=15)\n",
    "plt.ylabel(r'$R_{g}$ [nm]', fontsize=15)\n",
    "plt.plot(trj_len/100, n6peg_rgens_dmso[0]/10,linewidth=2, color='#1F2E69')\n",
    "plt.plot(trj_len/100, n8peg_rgens_dmso[0]/10,linewidth=2, color='#4C80ED')\n",
    "plt.tick_params(labelsize=14)\n",
    "plt.legend(['N = 6 in DMSO','N = 8 in DMSO'], frameon=False, fontsize=14)\n",
    "#plt.text(127, 0.96,r'N = 6 in water', fontsize=18, color='#1F2E69', family='Arial')\n",
    "plt.xlim(0,180)\n",
    "plt.ylim(0.2,2)"
   ]
  },
  {
   "cell_type": "markdown",
   "metadata": {},
   "source": [
    "#### Correlation values at each arc length for the whole 180 ns trajectory, N = 8 PEG/dmso"
   ]
  },
  {
   "cell_type": "code",
   "execution_count": 65,
   "metadata": {},
   "outputs": [
    {
     "data": {
      "text/plain": [
       "array([ 0.       ,  3.2419136,  6.4838272,  9.7257408, 12.9676544,\n",
       "       16.209568 , 19.4514816])"
      ]
     },
     "execution_count": 65,
     "metadata": {},
     "output_type": "execute_result"
    }
   ],
   "source": [
    "# x values\n",
    "blen_n8dmso = cor_n8peg_dmso[3]*lb_avg_pn6\n",
    "#nt_tt[0] = 0\n",
    "blen_n8dmso"
   ]
  },
  {
   "cell_type": "code",
   "execution_count": 66,
   "metadata": {},
   "outputs": [
    {
     "data": {
      "text/plain": [
       "array([3.73756764e-17, 3.23613852e-02, 1.15320056e-01, 2.55389065e-01,\n",
       "       4.55853481e-01, 7.14489633e-01, 1.04887378e+00])"
      ]
     },
     "execution_count": 66,
     "metadata": {},
     "output_type": "execute_result"
    }
   ],
   "source": [
    "# Error prop. into natural log std deviation\n",
    "mk_n8p_dmso = cor_n8peg_dmso[1]/cor_n8peg_dmso[0]\n",
    "mk_n8p_dmso"
   ]
  },
  {
   "cell_type": "code",
   "execution_count": 85,
   "metadata": {},
   "outputs": [
    {
     "data": {
      "text/plain": [
       "<matplotlib.legend.Legend at 0x1a2186d7f0>"
      ]
     },
     "execution_count": 85,
     "metadata": {},
     "output_type": "execute_result"
    },
    {
     "data": {
      "image/png": "[encoded data removed]",
      "text/plain": [
       "<Figure size 504x504 with 1 Axes>"
      ]
     },
     "metadata": {
      "needs_background": "light"
     },
     "output_type": "display_data"
    }
   ],
   "source": [
    "plt.figure(figsize=(7,7))\n",
    "plt.errorbar(blen_dmso, np.log(cor_n6peg_dmso[0]), yerr=mk_n6p_dmso, color='#1F2E69', linestyle=\"None\",marker='o',\n",
    "     capsize=5, capthick=1, ecolor='black')\n",
    "plt.errorbar(blen_n8dmso, np.log(cor_n8peg_dmso[0]), yerr=mk_n8p_dmso, color='#4C80ED', linestyle=\"None\",marker='o',\n",
    "     capsize=5, capthick=1, ecolor='black')\n",
    "plt.legend(['N = 6 in DMSO','N = 8 in DMSO'], frameon=False, fontsize=14)"
   ]
  },
  {
   "cell_type": "code",
   "execution_count": 68,
   "metadata": {},
   "outputs": [
    {
     "name": "stdout",
     "output_type": "stream",
     "text": [
      "3000\n",
      "6000\n",
      "Lp [Angstroms]: 24.031715816800098\n",
      "Error in Lp from fit [Angstroms], 95% CL : 1.3514244964624402\n",
      "R2 score: 0.9934164600662859\n",
      "6000\n",
      "9000\n",
      "Lp [Angstroms]: 24.51684858662788\n",
      "Error in Lp from fit [Angstroms], 95% CL : 1.2257993486178242\n",
      "R2 score: 0.9946972792177611\n",
      "9000\n",
      "12000\n",
      "Lp [Angstroms]: 23.768712419858353\n",
      "Error in Lp from fit [Angstroms], 95% CL : 1.6733504893296405\n",
      "R2 score: 0.9891790841101049\n",
      "12000\n",
      "15000\n",
      "Lp [Angstroms]: 18.25658600869716\n",
      "Error in Lp from fit [Angstroms], 95% CL : 2.0566628314371584\n",
      "R2 score: 0.975946409087187\n",
      "15000\n",
      "18000\n",
      "Lp [Angstroms]: 20.10864274157849\n",
      "Error in Lp from fit [Angstroms], 95% CL : 1.9596841593406975\n",
      "R2 score: 0.9815079607707535\n"
     ]
    }
   ],
   "source": [
    "# All the points give the best fits for N = 6 peg in water\n",
    "n8_blkspeg_dmso , n8peg_lpdmso = bavg_pers_cnt(5, peg_n8dmso, n8_peg_dmso, lb_avg_pn6, 5, 3000 , 18000)"
   ]
  },
  {
   "cell_type": "code",
   "execution_count": 69,
   "metadata": {},
   "outputs": [
    {
     "data": {
      "text/plain": [
       "{'Avg Radius of gyration': array([5.71962342, 5.76105666, 5.67201023, 5.29693542, 5.45163437]),\n",
       " 'Avg persistence length': array([24.03171582, 24.51684859, 23.76871242, 18.25658601, 20.10864274])}"
      ]
     },
     "execution_count": 69,
     "metadata": {},
     "output_type": "execute_result"
    }
   ],
   "source": [
    "n8_blkspeg_dmso"
   ]
  },
  {
   "cell_type": "code",
   "execution_count": 70,
   "metadata": {},
   "outputs": [
    {
     "data": {
      "text/plain": [
       "array([[ 2.40317158e+01,  2.45168486e+01,  2.37687124e+01,\n",
       "         1.82565860e+01,  2.01086427e+01],\n",
       "       [ 1.35142450e+00,  1.22579935e+00,  1.67335049e+00,\n",
       "         2.05666283e+00,  1.95968416e+00],\n",
       "       [-4.16116772e-02, -4.07882765e-02, -4.20721149e-02,\n",
       "        -5.47747536e-02, -4.97298606e-02],\n",
       "       [ 2.61298664e-04,  1.98459973e-04,  4.18643103e-04,\n",
       "         1.81694032e-03,  1.12081482e-03]])"
      ]
     },
     "execution_count": 70,
     "metadata": {},
     "output_type": "execute_result"
    }
   ],
   "source": [
    "n8peg_lpdmso"
   ]
  },
  {
   "cell_type": "code",
   "execution_count": 71,
   "metadata": {},
   "outputs": [
    {
     "data": {
      "text/plain": [
       "array([-0.04161168, -0.04078828, -0.04207211, -0.05477475, -0.04972986])"
      ]
     },
     "execution_count": 71,
     "metadata": {},
     "output_type": "execute_result"
    }
   ],
   "source": [
    "n8peg_lpdmso[2]"
   ]
  },
  {
   "cell_type": "code",
   "execution_count": 72,
   "metadata": {},
   "outputs": [
    {
     "data": {
      "text/plain": [
       "0.000763231377073506"
      ]
     },
     "execution_count": 72,
     "metadata": {},
     "output_type": "execute_result"
    }
   ],
   "source": [
    "np.mean(n8peg_lpdmso[3])"
   ]
  },
  {
   "cell_type": "code",
   "execution_count": 73,
   "metadata": {},
   "outputs": [
    {
     "data": {
      "text/plain": [
       "array([ 0.       ,  3.2419136,  6.4838272,  9.7257408, 12.9676544])"
      ]
     },
     "execution_count": 73,
     "metadata": {},
     "output_type": "execute_result"
    }
   ],
   "source": [
    "blen_dmso"
   ]
  },
  {
   "cell_type": "code",
   "execution_count": 74,
   "metadata": {},
   "outputs": [
    {
     "data": {
      "text/plain": [
       "array([ 0.       ,  3.2419136,  6.4838272,  9.7257408, 12.9676544,\n",
       "       16.209568 , 19.4514816])"
      ]
     },
     "execution_count": 74,
     "metadata": {},
     "output_type": "execute_result"
    }
   ],
   "source": [
    "blen_n8dmso"
   ]
  },
  {
   "cell_type": "code",
   "execution_count": 75,
   "metadata": {},
   "outputs": [],
   "source": [
    "gg_n8peg_dmso = line_fit(np.mean(n8peg_lpdmso[2]),blen_n8dmso)"
   ]
  },
  {
   "cell_type": "code",
   "execution_count": 76,
   "metadata": {},
   "outputs": [],
   "source": [
    "gg_n6peg_n8dmso = line_fit(np.mean(n6peg_lpdmso[2]),blen_n8dmso)"
   ]
  },
  {
   "cell_type": "code",
   "execution_count": 77,
   "metadata": {},
   "outputs": [
    {
     "data": {
      "text/plain": [
       "array([-0.        , -0.14846452, -0.29692905, -0.44539357, -0.5938581 ,\n",
       "       -0.74232262, -0.89078715])"
      ]
     },
     "execution_count": 77,
     "metadata": {},
     "output_type": "execute_result"
    }
   ],
   "source": [
    "gg_n8peg_dmso"
   ]
  },
  {
   "cell_type": "markdown",
   "metadata": {},
   "source": [
    "### Block averaged Radius of gyration and persistence length, N = 8 PEG/DMSO"
   ]
  },
  {
   "cell_type": "code",
   "execution_count": 78,
   "metadata": {},
   "outputs": [
    {
     "data": {
      "text/plain": [
       "22.136501114712395"
      ]
     },
     "execution_count": 78,
     "metadata": {},
     "output_type": "execute_result"
    }
   ],
   "source": [
    "np.mean(n8_blkspeg_dmso[\"Avg persistence length\"])"
   ]
  },
  {
   "cell_type": "code",
   "execution_count": 79,
   "metadata": {},
   "outputs": [
    {
     "data": {
      "text/plain": [
       "2.493509872051226"
      ]
     },
     "execution_count": 79,
     "metadata": {},
     "output_type": "execute_result"
    }
   ],
   "source": [
    "np.std(n8_blkspeg_dmso[\"Avg persistence length\"])"
   ]
  },
  {
   "cell_type": "code",
   "execution_count": 80,
   "metadata": {},
   "outputs": [
    {
     "data": {
      "text/plain": [
       "5.580252023192735"
      ]
     },
     "execution_count": 80,
     "metadata": {},
     "output_type": "execute_result"
    }
   ],
   "source": [
    "np.mean(n8_blkspeg_dmso[\"Avg Radius of gyration\"])"
   ]
  },
  {
   "cell_type": "code",
   "execution_count": 81,
   "metadata": {},
   "outputs": [
    {
     "data": {
      "text/plain": [
       "0.17739507932156937"
      ]
     },
     "execution_count": 81,
     "metadata": {},
     "output_type": "execute_result"
    }
   ],
   "source": [
    "np.std(n8_blkspeg_dmso[\"Avg Radius of gyration\"])"
   ]
  },
  {
   "cell_type": "code",
   "execution_count": 84,
   "metadata": {},
   "outputs": [
    {
     "data": {
      "text/plain": [
       "Text(0.5, -5.58, '$N_{PEG}$ = 8: $L_{p}$ = 22.1 $\\\\AA$ ± 2.49 $\\\\AA$')"
      ]
     },
     "execution_count": 84,
     "metadata": {},
     "output_type": "execute_result"
    },
    {
     "data": {
      "image/png": "[encoded data removed]",
      "text/plain": [
       "<Figure size 504x504 with 1 Axes>"
      ]
     },
     "metadata": {
      "needs_background": "light"
     },
     "output_type": "display_data"
    }
   ],
   "source": [
    "plt.figure(figsize=(7,7))\n",
    "plt.errorbar(blen_dmso, np.log(cor_n6peg_dmso[0]), yerr=mk_n6p_dmso, color='#1F2E69', linestyle=\"None\",marker='o',\n",
    "     capsize=5, capthick=1, ecolor='black')\n",
    "plt.errorbar(blen_n8dmso, np.log(cor_n8peg_dmso[0]), yerr=mk_n8p_dmso, color='#4C80ED', linestyle=\"None\",marker='o',\n",
    "     capsize=5, capthick=1, ecolor='black')\n",
    "plt.plot(blen_n8dmso, gg_n6peg_n8dmso, color='#1F2E69')\n",
    "plt.plot(blen_n8dmso, gg_n8peg_dmso, color='#4C80ED')\n",
    "plt.title(r'Ensemble Averaged ln(Cosine $\\theta$) in DMSO', fontsize=15, y=1.01)\n",
    "plt.xlabel(r'Bond Length', fontsize=15)\n",
    "plt.ylabel(r'ln$\\left< Cos(\\theta)\\right >$', fontsize=15)\n",
    "plt.ylim(-6,1)\n",
    "plt.xlim(0,30)\n",
    "#plt.ylim(-1.9,0)\n",
    "font = font_manager.FontProperties(family='Arial', style='normal', size='14')\n",
    "#plt.legend([r'$N_{PEG}$ = 6: $L_{p}$ = 18.8 $\\AA$ ± 3.60 $\\AA$'], loc=3, frameon=0, fontsize=14, prop=font)\n",
    "plt.tick_params(labelsize=14)\n",
    "plt.text(0.5, -5.9,r'$N_{PEG}$ = 6: $L_{p}$ = 18.8 $\\AA$ ± 3.61 $\\AA$', fontsize=15, color='#1F2E69')\n",
    "plt.text(0.5, -5.58,r'$N_{PEG}$ = 8: $L_{p}$ = 22.1 $\\AA$ ± 2.49 $\\AA$', fontsize=15, color='#4C80ED')"
   ]
  },
  {
   "cell_type": "code",
   "execution_count": 86,
   "metadata": {},
   "outputs": [
    {
     "data": {
      "text/html": [
       "<div>\n",
       "<style scoped>\n",
       "    .dataframe tbody tr th:only-of-type {\n",
       "        vertical-align: middle;\n",
       "    }\n",
       "\n",
       "    .dataframe tbody tr th {\n",
       "        vertical-align: top;\n",
       "    }\n",
       "\n",
       "    .dataframe thead th {\n",
       "        text-align: right;\n",
       "    }\n",
       "</style>\n",
       "<table border=\"1\" class=\"dataframe\">\n",
       "  <thead>\n",
       "    <tr style=\"text-align: right;\">\n",
       "      <th></th>\n",
       "      <th>$R_{g}$ [Angstrom] N = 6 PEG DMSO</th>\n",
       "      <th>$R_{g}$ [Angstrom] N = 8 PEG DMSO</th>\n",
       "    </tr>\n",
       "  </thead>\n",
       "  <tbody>\n",
       "    <tr>\n",
       "      <td>0</td>\n",
       "      <td>4.448959</td>\n",
       "      <td>5.719623</td>\n",
       "    </tr>\n",
       "    <tr>\n",
       "      <td>1</td>\n",
       "      <td>4.748702</td>\n",
       "      <td>5.761057</td>\n",
       "    </tr>\n",
       "    <tr>\n",
       "      <td>2</td>\n",
       "      <td>4.534691</td>\n",
       "      <td>5.672010</td>\n",
       "    </tr>\n",
       "    <tr>\n",
       "      <td>3</td>\n",
       "      <td>4.531934</td>\n",
       "      <td>5.296935</td>\n",
       "    </tr>\n",
       "    <tr>\n",
       "      <td>4</td>\n",
       "      <td>4.163879</td>\n",
       "      <td>5.451634</td>\n",
       "    </tr>\n",
       "  </tbody>\n",
       "</table>\n",
       "</div>"
      ],
      "text/plain": [
       "   $R_{g}$ [Angstrom] N = 6 PEG DMSO  $R_{g}$ [Angstrom] N = 8 PEG DMSO \n",
       "0                           4.448959                            5.719623\n",
       "1                           4.748702                            5.761057\n",
       "2                           4.534691                            5.672010\n",
       "3                           4.531934                            5.296935\n",
       "4                           4.163879                            5.451634"
      ]
     },
     "execution_count": 86,
     "metadata": {},
     "output_type": "execute_result"
    }
   ],
   "source": [
    "rgpeg_olig_dmso[r\"$R_{g}$ [Angstrom] N = 8 PEG DMSO \"] = n8_blkspeg_dmso[\"Avg Radius of gyration\"]\n",
    "rgpeg_olig_dmso"
   ]
  },
  {
   "cell_type": "code",
   "execution_count": 87,
   "metadata": {},
   "outputs": [
    {
     "data": {
      "text/html": [
       "<div>\n",
       "<style scoped>\n",
       "    .dataframe tbody tr th:only-of-type {\n",
       "        vertical-align: middle;\n",
       "    }\n",
       "\n",
       "    .dataframe tbody tr th {\n",
       "        vertical-align: top;\n",
       "    }\n",
       "\n",
       "    .dataframe thead th {\n",
       "        text-align: right;\n",
       "    }\n",
       "</style>\n",
       "<table border=\"1\" class=\"dataframe\">\n",
       "  <thead>\n",
       "    <tr style=\"text-align: right;\">\n",
       "      <th></th>\n",
       "      <th>$L_{p}$ [Angstrom] N = 6 PEG DMSO</th>\n",
       "      <th>$L_{p}$ [Angstrom] N = 8 PEG DMSO</th>\n",
       "    </tr>\n",
       "  </thead>\n",
       "  <tbody>\n",
       "    <tr>\n",
       "      <td>0</td>\n",
       "      <td>16.809451</td>\n",
       "      <td>24.031716</td>\n",
       "    </tr>\n",
       "    <tr>\n",
       "      <td>1</td>\n",
       "      <td>25.078842</td>\n",
       "      <td>24.516849</td>\n",
       "    </tr>\n",
       "    <tr>\n",
       "      <td>2</td>\n",
       "      <td>18.201036</td>\n",
       "      <td>23.768712</td>\n",
       "    </tr>\n",
       "    <tr>\n",
       "      <td>3</td>\n",
       "      <td>19.792809</td>\n",
       "      <td>18.256586</td>\n",
       "    </tr>\n",
       "    <tr>\n",
       "      <td>4</td>\n",
       "      <td>14.283993</td>\n",
       "      <td>20.108643</td>\n",
       "    </tr>\n",
       "  </tbody>\n",
       "</table>\n",
       "</div>"
      ],
      "text/plain": [
       "   $L_{p}$ [Angstrom] N = 6 PEG DMSO   $L_{p}$ [Angstrom] N = 8 PEG DMSO \n",
       "0                           16.809451                           24.031716\n",
       "1                           25.078842                           24.516849\n",
       "2                           18.201036                           23.768712\n",
       "3                           19.792809                           18.256586\n",
       "4                           14.283993                           20.108643"
      ]
     },
     "execution_count": 87,
     "metadata": {},
     "output_type": "execute_result"
    }
   ],
   "source": [
    "pers_pegt_dmso[r\"$L_{p}$ [Angstrom] N = 8 PEG DMSO \"] = n8_blkspeg_dmso[\"Avg persistence length\"]\n",
    "pers_pegt_dmso"
   ]
  },
  {
   "cell_type": "code",
   "execution_count": null,
   "metadata": {},
   "outputs": [],
   "source": []
  },
  {
   "cell_type": "code",
   "execution_count": null,
   "metadata": {},
   "outputs": [],
   "source": []
  },
  {
   "cell_type": "code",
   "execution_count": null,
   "metadata": {},
   "outputs": [],
   "source": []
  },
  {
   "cell_type": "markdown",
   "metadata": {},
   "source": [
    "### N = 10 PEG/DMSO "
   ]
  },
  {
   "cell_type": "code",
   "execution_count": 88,
   "metadata": {},
   "outputs": [],
   "source": [
    "# For the right Rg calculation using MD Analysis, use trajactory without pbc \n",
    "n10_peg_dmso = mda.Universe(\"n10peg_dmso/n10pegonly_dmso.pdb\", \"n10peg_dmso/nodmso_n10peg.xtc\")"
   ]
  },
  {
   "cell_type": "code",
   "execution_count": 89,
   "metadata": {},
   "outputs": [
    {
     "data": {
      "text/plain": [
       "<XTCReader n10peg_dmso/nodmso_n10peg.xtc with 18001 frames of 73 atoms>"
      ]
     },
     "execution_count": 89,
     "metadata": {},
     "output_type": "execute_result"
    }
   ],
   "source": [
    "n10_peg_dmso.trajectory"
   ]
  },
  {
   "cell_type": "code",
   "execution_count": 90,
   "metadata": {},
   "outputs": [
    {
     "data": {
      "text/plain": [
       "18001"
      ]
     },
     "execution_count": 90,
     "metadata": {},
     "output_type": "execute_result"
    }
   ],
   "source": [
    "len(n10_peg_dmso.trajectory)"
   ]
  },
  {
   "cell_type": "code",
   "execution_count": 91,
   "metadata": {},
   "outputs": [],
   "source": [
    "#Select the polymer heavy atoms \n",
    "peg_n10dmso = n10_peg_dmso.select_atoms(\"resname sPEG PEG tPEG and not type H\")"
   ]
  },
  {
   "cell_type": "code",
   "execution_count": 92,
   "metadata": {},
   "outputs": [
    {
     "data": {
      "text/plain": [
       "array([[ 1.        ,  0.99450179,  0.99310337,  0.99145182,  0.99249793,\n",
       "         0.9909167 ,  0.98960715,  0.98480319,  0.97639044],\n",
       "       [ 0.        ,  1.        ,  2.        ,  3.        ,  4.        ,\n",
       "         5.        ,  6.        ,  7.        ,  8.        ],\n",
       "       [ 0.        ,  0.        ,  0.        ,  0.        ,  0.        ,\n",
       "         0.        ,  8.26764357, 10.00150397, 12.47497656]])"
      ]
     },
     "execution_count": 92,
     "metadata": {},
     "output_type": "execute_result"
    }
   ],
   "source": [
    "crv_n10peg_dmso = pers_length(peg_n10dmso,10)\n",
    "crv_n10peg_dmso"
   ]
  },
  {
   "cell_type": "code",
   "execution_count": 93,
   "metadata": {},
   "outputs": [],
   "source": [
    "com_bond_n10dmso = np.zeros(shape=(1,18000))\n",
    "count = 0\n",
    "for ts in n10_peg_dmso.trajectory[0:18000]:\n",
    "    n10_mon1_dmso = n10_peg_dmso.select_atoms(\"resid 1\")\n",
    "    n10_mon2_dmso = n10_peg_dmso.select_atoms(\"resid 2\")\n",
    "    oo_len = mda.analysis.distances.distance_array(n10_mon1_dmso.center_of_mass(), n10_mon2_dmso.center_of_mass(), \n",
    "                                                   box=n10_peg_dmso.trajectory.ts.dimensions)\n",
    "    com_bond_n10dmso[0, count] = oo_len\n",
    "    count += 1\n",
    "    "
   ]
  },
  {
   "cell_type": "code",
   "execution_count": 94,
   "metadata": {},
   "outputs": [
    {
     "data": {
      "text/plain": [
       "array([[3.53350002, 3.23345886, 3.20921526, ..., 3.25338305, 3.09876112,\n",
       "        2.93677543]])"
      ]
     },
     "execution_count": 94,
     "metadata": {},
     "output_type": "execute_result"
    }
   ],
   "source": [
    "com_bond"
   ]
  },
  {
   "cell_type": "code",
   "execution_count": 95,
   "metadata": {},
   "outputs": [
    {
     "data": {
      "text/plain": [
       "3.2419135998493824"
      ]
     },
     "execution_count": 95,
     "metadata": {},
     "output_type": "execute_result"
    }
   ],
   "source": [
    "lb_avg_pn6"
   ]
  },
  {
   "cell_type": "code",
   "execution_count": 96,
   "metadata": {},
   "outputs": [
    {
     "data": {
      "text/plain": [
       "0.18863018935460654"
      ]
     },
     "execution_count": 96,
     "metadata": {},
     "output_type": "execute_result"
    }
   ],
   "source": [
    "np.std(com_bond)"
   ]
  },
  {
   "cell_type": "code",
   "execution_count": 97,
   "metadata": {},
   "outputs": [
    {
     "data": {
      "text/plain": [
       "3.2203354186874407"
      ]
     },
     "execution_count": 97,
     "metadata": {},
     "output_type": "execute_result"
    }
   ],
   "source": [
    "np.mean(com_bond_n10dmso)"
   ]
  },
  {
   "cell_type": "code",
   "execution_count": 98,
   "metadata": {},
   "outputs": [
    {
     "data": {
      "text/plain": [
       "0.20255855226182926"
      ]
     },
     "execution_count": 98,
     "metadata": {},
     "output_type": "execute_result"
    }
   ],
   "source": [
    "np.std(com_bond_n10dmso)"
   ]
  },
  {
   "cell_type": "markdown",
   "metadata": {},
   "source": [
    "### Radius of Gyration vs. time N = 10 PEG/dmso"
   ]
  },
  {
   "cell_type": "code",
   "execution_count": 99,
   "metadata": {},
   "outputs": [],
   "source": [
    "n10peg_rgens_dmso, cor_n10peg_dmso, N10peg_cos_dmso, rgdmso_n10peg = get_rg_pers_poly(peg_n10dmso, n10_peg_dmso, 0, 18000)"
   ]
  },
  {
   "cell_type": "code",
   "execution_count": 100,
   "metadata": {},
   "outputs": [
    {
     "data": {
      "text/plain": [
       "(18000,)"
      ]
     },
     "execution_count": 100,
     "metadata": {},
     "output_type": "execute_result"
    }
   ],
   "source": [
    "n10peg_rgens_dmso[0].shape"
   ]
  },
  {
   "cell_type": "code",
   "execution_count": 101,
   "metadata": {},
   "outputs": [
    {
     "data": {
      "text/plain": [
       "array([0., 1., 2., 3., 4., 5., 6., 7., 8.])"
      ]
     },
     "execution_count": 101,
     "metadata": {},
     "output_type": "execute_result"
    }
   ],
   "source": [
    "cor_n10peg_dmso[3]"
   ]
  },
  {
   "cell_type": "code",
   "execution_count": 102,
   "metadata": {},
   "outputs": [
    {
     "data": {
      "text/plain": [
       "array([[ 1.        ,  1.        ,  1.        , ...,  1.        ,\n",
       "         1.        ,  1.        ],\n",
       "       [ 0.99450179,  0.9725006 ,  0.92948234, ...,  0.90814824,\n",
       "         0.90641534,  0.92048769],\n",
       "       [ 0.99310337,  0.94376299,  0.92369561, ...,  0.78068231,\n",
       "         0.74463387,  0.75337306],\n",
       "       ...,\n",
       "       [ 0.98960715,  0.91421632,  0.87055635, ...,  0.33577068,\n",
       "         0.32344981,  0.34654812],\n",
       "       [ 0.98480319,  0.89820696,  0.83115209, ...,  0.08258712,\n",
       "         0.0723968 ,  0.11718237],\n",
       "       [ 0.97639044,  0.81581777,  0.67856416, ..., -0.11676874,\n",
       "        -0.14874379, -0.194499  ]])"
      ]
     },
     "execution_count": 102,
     "metadata": {},
     "output_type": "execute_result"
    }
   ],
   "source": [
    "N10peg_cos_dmso"
   ]
  },
  {
   "cell_type": "code",
   "execution_count": 103,
   "metadata": {},
   "outputs": [
    {
     "data": {
      "text/plain": [
       "6.361194373132558"
      ]
     },
     "execution_count": 103,
     "metadata": {},
     "output_type": "execute_result"
    }
   ],
   "source": [
    "rgdmso_n10peg"
   ]
  },
  {
   "cell_type": "code",
   "execution_count": 104,
   "metadata": {},
   "outputs": [
    {
     "data": {
      "text/plain": [
       "1.1144481201245717"
      ]
     },
     "execution_count": 104,
     "metadata": {},
     "output_type": "execute_result"
    }
   ],
   "source": [
    "np.std(n10peg_rgens_dmso)"
   ]
  },
  {
   "cell_type": "code",
   "execution_count": 105,
   "metadata": {},
   "outputs": [
    {
     "data": {
      "text/plain": [
       "array([    0,     1,     2, ..., 17997, 17998, 17999])"
      ]
     },
     "execution_count": 105,
     "metadata": {},
     "output_type": "execute_result"
    }
   ],
   "source": [
    "trj_len = np.arange(18000)\n",
    "\n",
    "#trj_len += 1\n",
    "trj_len\n"
   ]
  },
  {
   "cell_type": "code",
   "execution_count": 106,
   "metadata": {},
   "outputs": [
    {
     "data": {
      "text/plain": [
       "(0.2, 2)"
      ]
     },
     "execution_count": 106,
     "metadata": {},
     "output_type": "execute_result"
    },
    {
     "data": {
      "image/png": "[encoded data removed]",
      "text/plain": [
       "<Figure size 504x504 with 1 Axes>"
      ]
     },
     "metadata": {
      "needs_background": "light"
     },
     "output_type": "display_data"
    }
   ],
   "source": [
    "plt.figure(figsize=(7,7))\n",
    "plt.title(r'PEG Radius of Gyration', fontsize=18, y=1.01)\n",
    "plt.xlabel(r'Time [ns]', fontsize=15)\n",
    "plt.ylabel(r'$R_{g}$ [nm]', fontsize=15)\n",
    "plt.plot(trj_len/100, n6peg_rgens_dmso[0]/10,linewidth=2, color='#1F2E69')\n",
    "plt.plot(trj_len/100, n8peg_rgens_dmso[0]/10,linewidth=2, color='#4C80ED')\n",
    "plt.plot(trj_len/100, n10peg_rgens_dmso[0]/10,linewidth=2, color='#8C52FC')\n",
    "plt.tick_params(labelsize=14)\n",
    "plt.legend(['N = 6 in DMSO','N = 8 in DMSO','N = 10 in DMSO' ], frameon=False, fontsize=14)\n",
    "#plt.text(127, 0.96,r'N = 6 in water', fontsize=18, color='#1F2E69', family='Arial')\n",
    "plt.xlim(0,180)\n",
    "plt.ylim(0.2,2)"
   ]
  },
  {
   "cell_type": "markdown",
   "metadata": {},
   "source": [
    "#### Correlation values at each arc length for the whole 180 ns trajectory, N = 8 PEG/dmso"
   ]
  },
  {
   "cell_type": "code",
   "execution_count": 107,
   "metadata": {},
   "outputs": [
    {
     "data": {
      "text/plain": [
       "array([ 0.       ,  3.2419136,  6.4838272,  9.7257408, 12.9676544,\n",
       "       16.209568 , 19.4514816, 22.6933952, 25.9353088])"
      ]
     },
     "execution_count": 107,
     "metadata": {},
     "output_type": "execute_result"
    }
   ],
   "source": [
    "# x values\n",
    "blen_n10dmso = cor_n10peg_dmso[3]*lb_avg_pn6\n",
    "#nt_tt[0] = 0\n",
    "blen_n10dmso"
   ]
  },
  {
   "cell_type": "code",
   "execution_count": 108,
   "metadata": {},
   "outputs": [
    {
     "data": {
      "text/plain": [
       "array([3.72288166e-17, 2.66995294e-02, 9.01213783e-02, 2.05888877e-01,\n",
       "       3.66287178e-01, 5.85464233e-01, 8.45676660e-01, 1.16383142e+00,\n",
       "       1.55561678e+00])"
      ]
     },
     "execution_count": 108,
     "metadata": {},
     "output_type": "execute_result"
    }
   ],
   "source": [
    "# Error prop. into natural log std deviation\n",
    "mk_n10p_dmso = cor_n10peg_dmso[1]/cor_n10peg_dmso[0]\n",
    "mk_n10p_dmso"
   ]
  },
  {
   "cell_type": "code",
   "execution_count": 109,
   "metadata": {},
   "outputs": [
    {
     "data": {
      "text/plain": [
       "<matplotlib.legend.Legend at 0x1a21f7a978>"
      ]
     },
     "execution_count": 109,
     "metadata": {},
     "output_type": "execute_result"
    },
    {
     "data": {
      "image/png": "[encoded data removed]",
      "text/plain": [
       "<Figure size 504x504 with 1 Axes>"
      ]
     },
     "metadata": {
      "needs_background": "light"
     },
     "output_type": "display_data"
    }
   ],
   "source": [
    "plt.figure(figsize=(7,7))\n",
    "plt.errorbar(blen_dmso, np.log(cor_n6peg_dmso[0]), yerr=mk_n6p_dmso, color='#1F2E69', linestyle=\"None\",marker='o',\n",
    "     capsize=5, capthick=1, ecolor='black')\n",
    "plt.errorbar(blen_n8dmso, np.log(cor_n8peg_dmso[0]), yerr=mk_n8p_dmso, color='#4C80ED', linestyle=\"None\",marker='o',\n",
    "     capsize=5, capthick=1, ecolor='black')\n",
    "plt.errorbar(blen_n10dmso, np.log(cor_n10peg_dmso[0]), yerr=mk_n10p_dmso, color='#8C52FC', linestyle=\"None\",marker='o',\n",
    "     capsize=5, capthick=1, ecolor='black')\n",
    "plt.legend(['N = 6 in DMSO','N = 8 in DMSO','N = 10 in DMSO'], frameon=False, fontsize=14)"
   ]
  },
  {
   "cell_type": "code",
   "execution_count": 110,
   "metadata": {},
   "outputs": [
    {
     "name": "stdout",
     "output_type": "stream",
     "text": [
      "3000\n",
      "6000\n",
      "Lp [Angstroms]: 22.492805070690395\n",
      "Error in Lp from fit [Angstroms], 95% CL : 0.9369237622243255\n",
      "R2 score: 0.9903058695102129\n",
      "6000\n",
      "9000\n",
      "Lp [Angstroms]: 17.20932821500442\n",
      "Error in Lp from fit [Angstroms], 95% CL : 1.3782286452084431\n",
      "R2 score: 0.9676288904559768\n",
      "9000\n",
      "12000\n",
      "Lp [Angstroms]: 21.63668598824028\n",
      "Error in Lp from fit [Angstroms], 95% CL : 1.1976854345171484\n",
      "R2 score: 0.9835325679873382\n",
      "12000\n",
      "15000\n",
      "Lp [Angstroms]: 20.51880811070344\n",
      "Error in Lp from fit [Angstroms], 95% CL : 1.0029317588699187\n",
      "R2 score: 0.9869271194673283\n",
      "15000\n",
      "18000\n",
      "Lp [Angstroms]: 24.10767645095798\n",
      "Error in Lp from fit [Angstroms], 95% CL : 0.8469632408791449\n",
      "R2 score: 0.9929865424799854\n"
     ]
    }
   ],
   "source": [
    "# All the points give the best fits for N = 6 peg in water\n",
    "n10_blkspeg_dmso , n10peg_lpdmso = bavg_pers_cnt(5, peg_n10dmso, n10_peg_dmso, lb_avg_pn6, 5, 3000 , 18000)"
   ]
  },
  {
   "cell_type": "code",
   "execution_count": 111,
   "metadata": {},
   "outputs": [
    {
     "data": {
      "text/plain": [
       "{'Avg Radius of gyration': array([6.41389651, 5.74091517, 6.42018628, 6.20663886, 6.60014126]),\n",
       " 'Avg persistence length': array([22.49280507, 17.20932822, 21.63668599, 20.51880811, 24.10767645])}"
      ]
     },
     "execution_count": 111,
     "metadata": {},
     "output_type": "execute_result"
    }
   ],
   "source": [
    "n10_blkspeg_dmso"
   ]
  },
  {
   "cell_type": "code",
   "execution_count": 112,
   "metadata": {},
   "outputs": [
    {
     "data": {
      "text/plain": [
       "array([[ 2.24928051e+01,  1.72093282e+01,  2.16366860e+01,\n",
       "         2.05188081e+01,  2.41076765e+01],\n",
       "       [ 9.36923762e-01,  1.37822865e+00,  1.19768543e+00,\n",
       "         1.00293176e+00,  8.46963241e-01],\n",
       "       [-4.44586612e-02, -5.81080207e-02, -4.62177988e-02,\n",
       "        -4.87357743e-02, -4.14805633e-02],\n",
       "       [ 4.48879686e-04,  2.83454135e-03,  8.56679728e-04,\n",
       "         7.42728640e-04,  2.77973650e-04]])"
      ]
     },
     "execution_count": 112,
     "metadata": {},
     "output_type": "execute_result"
    }
   ],
   "source": [
    "n10peg_lpdmso"
   ]
  },
  {
   "cell_type": "code",
   "execution_count": 113,
   "metadata": {},
   "outputs": [
    {
     "data": {
      "text/plain": [
       "array([-0.04445866, -0.05810802, -0.0462178 , -0.04873577, -0.04148056])"
      ]
     },
     "execution_count": 113,
     "metadata": {},
     "output_type": "execute_result"
    }
   ],
   "source": [
    "n10peg_lpdmso[2]"
   ]
  },
  {
   "cell_type": "code",
   "execution_count": 114,
   "metadata": {},
   "outputs": [
    {
     "data": {
      "text/plain": [
       "0.001032160611868984"
      ]
     },
     "execution_count": 114,
     "metadata": {},
     "output_type": "execute_result"
    }
   ],
   "source": [
    "np.mean(n10peg_lpdmso[3])"
   ]
  },
  {
   "cell_type": "code",
   "execution_count": 115,
   "metadata": {},
   "outputs": [
    {
     "data": {
      "text/plain": [
       "array([ 0.       ,  3.2419136,  6.4838272,  9.7257408, 12.9676544])"
      ]
     },
     "execution_count": 115,
     "metadata": {},
     "output_type": "execute_result"
    }
   ],
   "source": [
    "blen_dmso"
   ]
  },
  {
   "cell_type": "code",
   "execution_count": 116,
   "metadata": {},
   "outputs": [
    {
     "data": {
      "text/plain": [
       "array([ 0.       ,  3.2419136,  6.4838272,  9.7257408, 12.9676544,\n",
       "       16.209568 , 19.4514816, 22.6933952, 25.9353088])"
      ]
     },
     "execution_count": 116,
     "metadata": {},
     "output_type": "execute_result"
    }
   ],
   "source": [
    "blen_n10dmso"
   ]
  },
  {
   "cell_type": "code",
   "execution_count": 117,
   "metadata": {},
   "outputs": [],
   "source": [
    "gg_n10peg_dmso = line_fit(np.mean(n10peg_lpdmso[2]),blen_n10dmso)"
   ]
  },
  {
   "cell_type": "code",
   "execution_count": 118,
   "metadata": {},
   "outputs": [],
   "source": [
    "gg_n6peg_n10dmso = line_fit(np.mean(n6peg_lpdmso[2]),blen_n10dmso)"
   ]
  },
  {
   "cell_type": "code",
   "execution_count": 119,
   "metadata": {},
   "outputs": [],
   "source": [
    "gg_n8peg_n10dmso = line_fit(np.mean(n8peg_lpdmso[2]),blen_n10dmso)"
   ]
  },
  {
   "cell_type": "code",
   "execution_count": 120,
   "metadata": {},
   "outputs": [
    {
     "data": {
      "text/plain": [
       "array([-0.        , -0.154964  , -0.309928  , -0.464892  , -0.619856  ,\n",
       "       -0.77482   , -0.929784  , -1.084748  , -1.23971201])"
      ]
     },
     "execution_count": 120,
     "metadata": {},
     "output_type": "execute_result"
    }
   ],
   "source": [
    "gg_n10peg_dmso"
   ]
  },
  {
   "cell_type": "markdown",
   "metadata": {},
   "source": [
    "### Block averaged Radius of gyration and persistence length, N = 10 PEG/DMSO"
   ]
  },
  {
   "cell_type": "code",
   "execution_count": 121,
   "metadata": {},
   "outputs": [
    {
     "data": {
      "text/plain": [
       "21.193060767119302"
      ]
     },
     "execution_count": 121,
     "metadata": {},
     "output_type": "execute_result"
    }
   ],
   "source": [
    "np.mean(n10_blkspeg_dmso[\"Avg persistence length\"])"
   ]
  },
  {
   "cell_type": "code",
   "execution_count": 122,
   "metadata": {},
   "outputs": [
    {
     "data": {
      "text/plain": [
       "2.3110977853575196"
      ]
     },
     "execution_count": 122,
     "metadata": {},
     "output_type": "execute_result"
    }
   ],
   "source": [
    "np.std(n10_blkspeg_dmso[\"Avg persistence length\"])"
   ]
  },
  {
   "cell_type": "code",
   "execution_count": 123,
   "metadata": {},
   "outputs": [
    {
     "data": {
      "text/plain": [
       "6.2763556131079365"
      ]
     },
     "execution_count": 123,
     "metadata": {},
     "output_type": "execute_result"
    }
   ],
   "source": [
    "np.mean(n10_blkspeg_dmso[\"Avg Radius of gyration\"])"
   ]
  },
  {
   "cell_type": "code",
   "execution_count": 124,
   "metadata": {},
   "outputs": [
    {
     "data": {
      "text/plain": [
       "0.29529605301921663"
      ]
     },
     "execution_count": 124,
     "metadata": {},
     "output_type": "execute_result"
    }
   ],
   "source": [
    "np.std(n10_blkspeg_dmso[\"Avg Radius of gyration\"])"
   ]
  },
  {
   "cell_type": "code",
   "execution_count": 129,
   "metadata": {},
   "outputs": [
    {
     "data": {
      "text/plain": [
       "Text(0.5, -5.23, '$N_{PEG}$ = 10: $L_{p}$ = 21.2 $\\\\AA$ ± 2.31 $\\\\AA$')"
      ]
     },
     "execution_count": 129,
     "metadata": {},
     "output_type": "execute_result"
    },
    {
     "data": {
      "image/png": "[encoded data removed]",
      "text/plain": [
       "<Figure size 504x504 with 1 Axes>"
      ]
     },
     "metadata": {
      "needs_background": "light"
     },
     "output_type": "display_data"
    }
   ],
   "source": [
    "plt.figure(figsize=(7,7))\n",
    "plt.errorbar(blen_dmso, np.log(cor_n6peg_dmso[0]), yerr=mk_n6p_dmso, color='#1F2E69', linestyle=\"None\",marker='o',\n",
    "     capsize=5, capthick=1, ecolor='black')\n",
    "plt.errorbar(blen_n8dmso, np.log(cor_n8peg_dmso[0]), yerr=mk_n8p_dmso, color='#4C80ED', linestyle=\"None\",marker='o',\n",
    "     capsize=5, capthick=1, ecolor='black')\n",
    "plt.errorbar(blen_n10dmso, np.log(cor_n10peg_dmso[0]), yerr=mk_n10p_dmso, color='#8C52FC', linestyle=\"None\",marker='o',\n",
    "     capsize=5, capthick=1, ecolor='black')\n",
    "plt.plot(blen_n10dmso, gg_n6peg_n10dmso, color='#1F2E69')\n",
    "plt.plot(blen_n10dmso, gg_n8peg_n10dmso, color='#4C80ED')\n",
    "plt.plot(blen_n10dmso, gg_n10peg_dmso, color='#8C52FC')\n",
    "plt.title(r'Ensemble Averaged ln(Cosine $\\theta$) in DMSO', fontsize=15, y=1.01)\n",
    "plt.xlabel(r'Bond Length', fontsize=15)\n",
    "plt.ylabel(r'ln$\\left< Cos(\\theta)\\right >$', fontsize=15)\n",
    "plt.ylim(-6,1)\n",
    "plt.xlim(0,30)\n",
    "#plt.ylim(-1.9,0)\n",
    "font = font_manager.FontProperties(family='Arial', style='normal', size='14')\n",
    "#plt.legend([r'$N_{PEG}$ = 6: $L_{p}$ = 18.8 $\\AA$ ± 3.60 $\\AA$'], loc=3, frameon=0, fontsize=14, prop=font)\n",
    "plt.tick_params(labelsize=14)\n",
    "plt.text(0.5, -5.9,r'$N_{PEG}$ = 6: $L_{p}$ = 18.8 $\\AA$ ± 3.61 $\\AA$', fontsize=15, color='#1F2E69')\n",
    "plt.text(0.5, -5.58,r'$N_{PEG}$ = 8: $L_{p}$ = 22.1 $\\AA$ ± 2.49 $\\AA$', fontsize=15, color='#4C80ED')\n",
    "plt.text(0.5, -5.23,r'$N_{PEG}$ = 10: $L_{p}$ = 21.2 $\\AA$ ± 2.31 $\\AA$', fontsize=15, color='#8C52FC')"
   ]
  },
  {
   "cell_type": "code",
   "execution_count": 125,
   "metadata": {},
   "outputs": [
    {
     "data": {
      "text/html": [
       "<div>\n",
       "<style scoped>\n",
       "    .dataframe tbody tr th:only-of-type {\n",
       "        vertical-align: middle;\n",
       "    }\n",
       "\n",
       "    .dataframe tbody tr th {\n",
       "        vertical-align: top;\n",
       "    }\n",
       "\n",
       "    .dataframe thead th {\n",
       "        text-align: right;\n",
       "    }\n",
       "</style>\n",
       "<table border=\"1\" class=\"dataframe\">\n",
       "  <thead>\n",
       "    <tr style=\"text-align: right;\">\n",
       "      <th></th>\n",
       "      <th>$R_{g}$ [Angstrom] N = 6 PEG DMSO</th>\n",
       "      <th>$R_{g}$ [Angstrom] N = 8 PEG DMSO</th>\n",
       "      <th>$R_{g}$ [Angstrom] N = 10 PEG DMSO</th>\n",
       "    </tr>\n",
       "  </thead>\n",
       "  <tbody>\n",
       "    <tr>\n",
       "      <td>0</td>\n",
       "      <td>4.448959</td>\n",
       "      <td>5.719623</td>\n",
       "      <td>6.413897</td>\n",
       "    </tr>\n",
       "    <tr>\n",
       "      <td>1</td>\n",
       "      <td>4.748702</td>\n",
       "      <td>5.761057</td>\n",
       "      <td>5.740915</td>\n",
       "    </tr>\n",
       "    <tr>\n",
       "      <td>2</td>\n",
       "      <td>4.534691</td>\n",
       "      <td>5.672010</td>\n",
       "      <td>6.420186</td>\n",
       "    </tr>\n",
       "    <tr>\n",
       "      <td>3</td>\n",
       "      <td>4.531934</td>\n",
       "      <td>5.296935</td>\n",
       "      <td>6.206639</td>\n",
       "    </tr>\n",
       "    <tr>\n",
       "      <td>4</td>\n",
       "      <td>4.163879</td>\n",
       "      <td>5.451634</td>\n",
       "      <td>6.600141</td>\n",
       "    </tr>\n",
       "  </tbody>\n",
       "</table>\n",
       "</div>"
      ],
      "text/plain": [
       "   $R_{g}$ [Angstrom] N = 6 PEG DMSO  $R_{g}$ [Angstrom] N = 8 PEG DMSO   \\\n",
       "0                           4.448959                            5.719623   \n",
       "1                           4.748702                            5.761057   \n",
       "2                           4.534691                            5.672010   \n",
       "3                           4.531934                            5.296935   \n",
       "4                           4.163879                            5.451634   \n",
       "\n",
       "   $R_{g}$ [Angstrom] N = 10 PEG DMSO   \n",
       "0                             6.413897  \n",
       "1                             5.740915  \n",
       "2                             6.420186  \n",
       "3                             6.206639  \n",
       "4                             6.600141  "
      ]
     },
     "execution_count": 125,
     "metadata": {},
     "output_type": "execute_result"
    }
   ],
   "source": [
    "rgpeg_olig_dmso[r\"$R_{g}$ [Angstrom] N = 10 PEG DMSO \"] = n10_blkspeg_dmso[\"Avg Radius of gyration\"]\n",
    "rgpeg_olig_dmso"
   ]
  },
  {
   "cell_type": "code",
   "execution_count": 126,
   "metadata": {},
   "outputs": [
    {
     "data": {
      "text/html": [
       "<div>\n",
       "<style scoped>\n",
       "    .dataframe tbody tr th:only-of-type {\n",
       "        vertical-align: middle;\n",
       "    }\n",
       "\n",
       "    .dataframe tbody tr th {\n",
       "        vertical-align: top;\n",
       "    }\n",
       "\n",
       "    .dataframe thead th {\n",
       "        text-align: right;\n",
       "    }\n",
       "</style>\n",
       "<table border=\"1\" class=\"dataframe\">\n",
       "  <thead>\n",
       "    <tr style=\"text-align: right;\">\n",
       "      <th></th>\n",
       "      <th>$L_{p}$ [Angstrom] N = 6 PEG DMSO</th>\n",
       "      <th>$L_{p}$ [Angstrom] N = 8 PEG DMSO</th>\n",
       "      <th>$L_{p}$ [Angstrom] N = 10 PEG DMSO</th>\n",
       "    </tr>\n",
       "  </thead>\n",
       "  <tbody>\n",
       "    <tr>\n",
       "      <td>0</td>\n",
       "      <td>16.809451</td>\n",
       "      <td>24.031716</td>\n",
       "      <td>22.492805</td>\n",
       "    </tr>\n",
       "    <tr>\n",
       "      <td>1</td>\n",
       "      <td>25.078842</td>\n",
       "      <td>24.516849</td>\n",
       "      <td>17.209328</td>\n",
       "    </tr>\n",
       "    <tr>\n",
       "      <td>2</td>\n",
       "      <td>18.201036</td>\n",
       "      <td>23.768712</td>\n",
       "      <td>21.636686</td>\n",
       "    </tr>\n",
       "    <tr>\n",
       "      <td>3</td>\n",
       "      <td>19.792809</td>\n",
       "      <td>18.256586</td>\n",
       "      <td>20.518808</td>\n",
       "    </tr>\n",
       "    <tr>\n",
       "      <td>4</td>\n",
       "      <td>14.283993</td>\n",
       "      <td>20.108643</td>\n",
       "      <td>24.107676</td>\n",
       "    </tr>\n",
       "  </tbody>\n",
       "</table>\n",
       "</div>"
      ],
      "text/plain": [
       "   $L_{p}$ [Angstrom] N = 6 PEG DMSO   $L_{p}$ [Angstrom] N = 8 PEG DMSO   \\\n",
       "0                           16.809451                           24.031716   \n",
       "1                           25.078842                           24.516849   \n",
       "2                           18.201036                           23.768712   \n",
       "3                           19.792809                           18.256586   \n",
       "4                           14.283993                           20.108643   \n",
       "\n",
       "   $L_{p}$ [Angstrom] N = 10 PEG DMSO   \n",
       "0                            22.492805  \n",
       "1                            17.209328  \n",
       "2                            21.636686  \n",
       "3                            20.518808  \n",
       "4                            24.107676  "
      ]
     },
     "execution_count": 126,
     "metadata": {},
     "output_type": "execute_result"
    }
   ],
   "source": [
    "pers_pegt_dmso[r\"$L_{p}$ [Angstrom] N = 10 PEG DMSO \"] = n10_blkspeg_dmso[\"Avg persistence length\"]\n",
    "pers_pegt_dmso"
   ]
  },
  {
   "cell_type": "code",
   "execution_count": null,
   "metadata": {},
   "outputs": [],
   "source": []
  },
  {
   "cell_type": "code",
   "execution_count": null,
   "metadata": {},
   "outputs": [],
   "source": []
  },
  {
   "cell_type": "markdown",
   "metadata": {},
   "source": [
    "### N = 20 PEG/DMSO "
   ]
  },
  {
   "cell_type": "code",
   "execution_count": 130,
   "metadata": {},
   "outputs": [],
   "source": [
    "# For the right Rg calculation using MD Analysis, use trajactory without pbc \n",
    "n20_peg_dmso = mda.Universe(\"n20peg_dmso/n20pegonly_dmso.pdb\", \"n20peg_dmso/nodmso_n20peg.xtc\")"
   ]
  },
  {
   "cell_type": "code",
   "execution_count": 131,
   "metadata": {},
   "outputs": [
    {
     "data": {
      "text/plain": [
       "<XTCReader n20peg_dmso/nodmso_n20peg.xtc with 18001 frames of 143 atoms>"
      ]
     },
     "execution_count": 131,
     "metadata": {},
     "output_type": "execute_result"
    }
   ],
   "source": [
    "n20_peg_dmso.trajectory"
   ]
  },
  {
   "cell_type": "code",
   "execution_count": 132,
   "metadata": {},
   "outputs": [
    {
     "data": {
      "text/plain": [
       "18001"
      ]
     },
     "execution_count": 132,
     "metadata": {},
     "output_type": "execute_result"
    }
   ],
   "source": [
    "len(n20_peg_dmso.trajectory)"
   ]
  },
  {
   "cell_type": "code",
   "execution_count": 133,
   "metadata": {},
   "outputs": [],
   "source": [
    "#Select the polymer heavy atoms \n",
    "peg_n20dmso = n20_peg_dmso.select_atoms(\"resname sPEG PEG tPEG and not type H\")"
   ]
  },
  {
   "cell_type": "code",
   "execution_count": 134,
   "metadata": {},
   "outputs": [
    {
     "data": {
      "text/plain": [
       "array([[ 1.        ,  0.9909404 ,  0.99021594,  0.98570232,  0.9867282 ,\n",
       "         0.9858461 ,  0.9856358 ,  0.9843457 ,  0.98463316,  0.98270313,\n",
       "         0.98191913,  0.97839515,  0.97749135,  0.97511179,  0.98484913,\n",
       "         0.98206505,  0.98385273,  0.98253147,  0.99284521],\n",
       "       [ 0.        ,  1.        ,  2.        ,  3.        ,  4.        ,\n",
       "         5.        ,  6.        ,  7.        ,  8.        ,  9.        ,\n",
       "        10.        , 11.        , 12.        , 13.        , 14.        ,\n",
       "        15.        , 16.        , 17.        , 18.        ],\n",
       "       [ 0.        ,  0.        ,  0.        ,  9.70039171,  9.34510058,\n",
       "         9.65137518,  9.72298401, 10.15132132, 10.05744518, 10.67208833,\n",
       "        10.9119885 , 11.93158759, 12.17952572, 12.80971195,  9.98633934,\n",
       "        10.86773274, 10.31034747, 10.72506879,  0.        ]])"
      ]
     },
     "execution_count": 134,
     "metadata": {},
     "output_type": "execute_result"
    }
   ],
   "source": [
    "crv_n20peg_dmso = pers_length(peg_n20dmso,20)\n",
    "crv_n20peg_dmso"
   ]
  },
  {
   "cell_type": "code",
   "execution_count": 135,
   "metadata": {},
   "outputs": [],
   "source": [
    "com_bond_n20dmso = np.zeros(shape=(1,18000))\n",
    "count = 0\n",
    "for ts in n20_peg_dmso.trajectory[0:18000]:\n",
    "    n20_mon1_dmso = n20_peg_dmso.select_atoms(\"resid 1\")\n",
    "    n20_mon2_dmso = n20_peg_dmso.select_atoms(\"resid 2\")\n",
    "    oo_len = mda.analysis.distances.distance_array(n20_mon1_dmso.center_of_mass(), n20_mon2_dmso.center_of_mass(), \n",
    "                                                   box=n20_peg_dmso.trajectory.ts.dimensions)\n",
    "    com_bond_n20dmso[0, count] = oo_len\n",
    "    count += 1\n",
    "    "
   ]
  },
  {
   "cell_type": "code",
   "execution_count": 136,
   "metadata": {},
   "outputs": [
    {
     "data": {
      "text/plain": [
       "array([[3.53350002, 3.23345886, 3.20921526, ..., 3.25338305, 3.09876112,\n",
       "        2.93677543]])"
      ]
     },
     "execution_count": 136,
     "metadata": {},
     "output_type": "execute_result"
    }
   ],
   "source": [
    "com_bond"
   ]
  },
  {
   "cell_type": "code",
   "execution_count": 137,
   "metadata": {},
   "outputs": [
    {
     "data": {
      "text/plain": [
       "3.2419135998493824"
      ]
     },
     "execution_count": 137,
     "metadata": {},
     "output_type": "execute_result"
    }
   ],
   "source": [
    "lb_avg_pn6"
   ]
  },
  {
   "cell_type": "code",
   "execution_count": 138,
   "metadata": {},
   "outputs": [
    {
     "data": {
      "text/plain": [
       "0.18863018935460654"
      ]
     },
     "execution_count": 138,
     "metadata": {},
     "output_type": "execute_result"
    }
   ],
   "source": [
    "np.std(com_bond)"
   ]
  },
  {
   "cell_type": "code",
   "execution_count": 139,
   "metadata": {},
   "outputs": [
    {
     "data": {
      "text/plain": [
       "3.2192840999452574"
      ]
     },
     "execution_count": 139,
     "metadata": {},
     "output_type": "execute_result"
    }
   ],
   "source": [
    "np.mean(com_bond_n20dmso)"
   ]
  },
  {
   "cell_type": "code",
   "execution_count": 140,
   "metadata": {},
   "outputs": [
    {
     "data": {
      "text/plain": [
       "0.20304252684923374"
      ]
     },
     "execution_count": 140,
     "metadata": {},
     "output_type": "execute_result"
    }
   ],
   "source": [
    "np.std(com_bond_n20dmso)"
   ]
  },
  {
   "cell_type": "markdown",
   "metadata": {},
   "source": [
    "### Radius of Gyration vs. time N = 20 PEG/dmso"
   ]
  },
  {
   "cell_type": "code",
   "execution_count": 141,
   "metadata": {},
   "outputs": [],
   "source": [
    "n20peg_rgens_dmso, cor_n20peg_dmso, N20peg_cos_dmso, rgdmso_n20peg = get_rg_pers_poly(peg_n20dmso, n20_peg_dmso, 0, 18000)"
   ]
  },
  {
   "cell_type": "code",
   "execution_count": 142,
   "metadata": {},
   "outputs": [
    {
     "data": {
      "text/plain": [
       "(18000,)"
      ]
     },
     "execution_count": 142,
     "metadata": {},
     "output_type": "execute_result"
    }
   ],
   "source": [
    "n20peg_rgens_dmso[0].shape"
   ]
  },
  {
   "cell_type": "code",
   "execution_count": 143,
   "metadata": {},
   "outputs": [
    {
     "data": {
      "text/plain": [
       "array([ 0.,  1.,  2.,  3.,  4.,  5.,  6.,  7.,  8.,  9., 10., 11., 12.,\n",
       "       13., 14., 15., 16., 17., 18.])"
      ]
     },
     "execution_count": 143,
     "metadata": {},
     "output_type": "execute_result"
    }
   ],
   "source": [
    "cor_n20peg_dmso[3]"
   ]
  },
  {
   "cell_type": "code",
   "execution_count": 144,
   "metadata": {},
   "outputs": [
    {
     "data": {
      "text/plain": [
       "array([[1.        , 1.        , 1.        , ..., 1.        , 1.        ,\n",
       "        1.        ],\n",
       "       [0.9909404 , 0.9713791 , 0.96392953, ..., 0.87927543, 0.86992246,\n",
       "        0.86852692],\n",
       "       [0.99021594, 0.95486903, 0.93956347, ..., 0.6946549 , 0.66881352,\n",
       "        0.6834338 ],\n",
       "       ...,\n",
       "       [0.98385273, 0.92767318, 0.8645361 , ..., 0.80678048, 0.80486422,\n",
       "        0.75790009],\n",
       "       [0.98253147, 0.94024637, 0.90737853, ..., 0.77413288, 0.86907565,\n",
       "        0.78063029],\n",
       "       [0.99284521, 0.96289832, 0.99368383, ..., 0.98577681, 0.94284001,\n",
       "        0.8809526 ]])"
      ]
     },
     "execution_count": 144,
     "metadata": {},
     "output_type": "execute_result"
    }
   ],
   "source": [
    "N20peg_cos_dmso"
   ]
  },
  {
   "cell_type": "code",
   "execution_count": 145,
   "metadata": {},
   "outputs": [
    {
     "data": {
      "text/plain": [
       "9.708596157643521"
      ]
     },
     "execution_count": 145,
     "metadata": {},
     "output_type": "execute_result"
    }
   ],
   "source": [
    "rgdmso_n20peg"
   ]
  },
  {
   "cell_type": "code",
   "execution_count": 146,
   "metadata": {},
   "outputs": [
    {
     "data": {
      "text/plain": [
       "1.8675344286376308"
      ]
     },
     "execution_count": 146,
     "metadata": {},
     "output_type": "execute_result"
    }
   ],
   "source": [
    "np.std(n20peg_rgens_dmso)"
   ]
  },
  {
   "cell_type": "code",
   "execution_count": 147,
   "metadata": {},
   "outputs": [
    {
     "data": {
      "text/plain": [
       "(0.2, 2)"
      ]
     },
     "execution_count": 147,
     "metadata": {},
     "output_type": "execute_result"
    },
    {
     "data": {
      "image/png": "[encoded data removed]",
      "text/plain": [
       "<Figure size 504x504 with 1 Axes>"
      ]
     },
     "metadata": {
      "needs_background": "light"
     },
     "output_type": "display_data"
    }
   ],
   "source": [
    "plt.figure(figsize=(7,7))\n",
    "plt.title(r'PEG Radius of Gyration', fontsize=18, y=1.01)\n",
    "plt.xlabel(r'Time [ns]', fontsize=15)\n",
    "plt.ylabel(r'$R_{g}$ [nm]', fontsize=15)\n",
    "plt.plot(trj_len/100, n6peg_rgens_dmso[0]/10,linewidth=2, color='#1F2E69')\n",
    "plt.plot(trj_len/100, n8peg_rgens_dmso[0]/10,linewidth=2, color='#4C80ED')\n",
    "plt.plot(trj_len/100, n10peg_rgens_dmso[0]/10,linewidth=2, color='#8C52FC')\n",
    "plt.plot(trj_len/100, n20peg_rgens_dmso[0]/10,linewidth=2, color='#8B7F47')\n",
    "plt.tick_params(labelsize=14)\n",
    "plt.legend(['N = 6 in DMSO','N = 8 in DMSO','N = 10 in DMSO','N = 20 in DMSO'], frameon=False, fontsize=14)\n",
    "#plt.text(127, 0.96,r'N = 6 in water', fontsize=18, color='#1F2E69', family='Arial')\n",
    "plt.xlim(0,180)\n",
    "plt.ylim(0.2,2)"
   ]
  },
  {
   "cell_type": "markdown",
   "metadata": {},
   "source": [
    "#### Correlation values at each arc length for the whole 180 ns trajectory, N = 20 PEG/dmso"
   ]
  },
  {
   "cell_type": "code",
   "execution_count": 148,
   "metadata": {},
   "outputs": [
    {
     "data": {
      "text/plain": [
       "array([ 0.       ,  3.2419136,  6.4838272,  9.7257408, 12.9676544,\n",
       "       16.209568 , 19.4514816, 22.6933952, 25.9353088, 29.1772224,\n",
       "       32.419136 , 35.6610496, 38.9029632, 42.1448768, 45.3867904,\n",
       "       48.628704 , 51.8706176, 55.1125312, 58.3544448])"
      ]
     },
     "execution_count": 148,
     "metadata": {},
     "output_type": "execute_result"
    }
   ],
   "source": [
    "# x values\n",
    "blen_n20dmso = cor_n20peg_dmso[3]*lb_avg_pn6\n",
    "#nt_tt[0] = 0\n",
    "blen_n20dmso"
   ]
  },
  {
   "cell_type": "code",
   "execution_count": 149,
   "metadata": {},
   "outputs": [
    {
     "data": {
      "text/plain": [
       "array([1.89426014e-17, 1.69080022e-02, 5.45907842e-02, 1.19242128e-01,\n",
       "       1.90666468e-01, 2.55906521e-01, 3.09426342e-01, 3.62270388e-01,\n",
       "       4.17946392e-01, 4.78722161e-01, 5.50982013e-01, 6.25378268e-01,\n",
       "       7.08742142e-01, 8.18577522e-01, 9.68697385e-01, 1.12735189e+00,\n",
       "       1.30433303e+00, 1.47623608e+00, 1.78514071e+00])"
      ]
     },
     "execution_count": 149,
     "metadata": {},
     "output_type": "execute_result"
    }
   ],
   "source": [
    "# Error prop. into natural log std deviation\n",
    "mk_n20p_dmso = cor_n20peg_dmso[1]/cor_n20peg_dmso[0]\n",
    "mk_n20p_dmso"
   ]
  },
  {
   "cell_type": "code",
   "execution_count": 150,
   "metadata": {},
   "outputs": [
    {
     "data": {
      "text/plain": [
       "<matplotlib.legend.Legend at 0x1a235b7be0>"
      ]
     },
     "execution_count": 150,
     "metadata": {},
     "output_type": "execute_result"
    },
    {
     "data": {
      "image/png": "[encoded data removed]",
      "text/plain": [
       "<Figure size 504x504 with 1 Axes>"
      ]
     },
     "metadata": {
      "needs_background": "light"
     },
     "output_type": "display_data"
    }
   ],
   "source": [
    "plt.figure(figsize=(7,7))\n",
    "plt.errorbar(blen_dmso, np.log(cor_n6peg_dmso[0]), yerr=mk_n6p_dmso, color='#1F2E69', linestyle=\"None\",marker='o',\n",
    "     capsize=5, capthick=1, ecolor='black')\n",
    "plt.errorbar(blen_n8dmso, np.log(cor_n8peg_dmso[0]), yerr=mk_n8p_dmso, color='#4C80ED', linestyle=\"None\",marker='o',\n",
    "     capsize=5, capthick=1, ecolor='black')\n",
    "plt.errorbar(blen_n10dmso, np.log(cor_n10peg_dmso[0]), yerr=mk_n10p_dmso, color='#8C52FC', linestyle=\"None\",marker='o',\n",
    "     capsize=5, capthick=1, ecolor='black')\n",
    "plt.errorbar(blen_n20dmso, np.log(cor_n20peg_dmso[0]), yerr=mk_n20p_dmso, color='#8B7F47', linestyle=\"None\",marker='o',\n",
    "     capsize=5, capthick=1, ecolor='black')\n",
    "plt.legend(['N = 6 in DMSO','N = 8 in DMSO','N = 10 in DMSO','N = 20 in DMSO'], frameon=False, fontsize=14)"
   ]
  },
  {
   "cell_type": "code",
   "execution_count": 151,
   "metadata": {},
   "outputs": [
    {
     "name": "stdout",
     "output_type": "stream",
     "text": [
      "3000\n",
      "6000\n",
      "Lp [Angstroms]: 24.360254268278428\n",
      "Error in Lp from fit [Angstroms], 95% CL : 0.21305591430778867\n",
      "R2 score: 0.9931032834573079\n",
      "6000\n",
      "9000\n",
      "Lp [Angstroms]: 21.492769238261108\n",
      "Error in Lp from fit [Angstroms], 95% CL : 0.2598127990634099\n",
      "R2 score: 0.9874401568877104\n",
      "9000\n",
      "12000\n",
      "Lp [Angstroms]: 21.707005124486685\n",
      "Error in Lp from fit [Angstroms], 95% CL : 0.25433781334677297\n",
      "R2 score: 0.9881551815611648\n",
      "12000\n",
      "15000\n",
      "Lp [Angstroms]: 24.256415557196032\n",
      "Error in Lp from fit [Angstroms], 95% CL : 0.2429912354058217\n",
      "R2 score: 0.9911607410208927\n",
      "15000\n",
      "18000\n",
      "Lp [Angstroms]: 22.831261064594724\n",
      "Error in Lp from fit [Angstroms], 95% CL : 0.23764917940632213\n",
      "R2 score: 0.990435684398902\n"
     ]
    }
   ],
   "source": [
    "# All the points give the best fits for N = 6 peg in water\n",
    "n20_blkspeg_dmso , n20peg_lpdmso = bavg_pers_cnt(5, peg_n20dmso, n20_peg_dmso, lb_avg_pn6, 5, 3000 , 18000)"
   ]
  },
  {
   "cell_type": "code",
   "execution_count": 152,
   "metadata": {},
   "outputs": [
    {
     "data": {
      "text/plain": [
       "{'Avg Radius of gyration': array([ 9.91003773,  9.47370962,  9.35779023,  9.6068551 , 10.34102697]),\n",
       " 'Avg persistence length': array([24.36025427, 21.49276924, 21.70700512, 24.25641556, 22.83126106])}"
      ]
     },
     "execution_count": 152,
     "metadata": {},
     "output_type": "execute_result"
    }
   ],
   "source": [
    "n20_blkspeg_dmso"
   ]
  },
  {
   "cell_type": "code",
   "execution_count": 153,
   "metadata": {},
   "outputs": [
    {
     "data": {
      "text/plain": [
       "array([[ 2.43602543e+01,  2.14927692e+01,  2.17070051e+01,\n",
       "         2.42564156e+01,  2.28312611e+01],\n",
       "       [ 2.13055914e-01,  2.59812799e-01,  2.54337813e-01,\n",
       "         2.42991235e-01,  2.37649179e-01],\n",
       "       [-4.10504746e-02, -4.65272757e-02, -4.60680778e-02,\n",
       "        -4.12262066e-02, -4.37995955e-02],\n",
       "       [ 2.63794237e-04,  6.47376548e-04,  5.96248931e-04,\n",
       "         3.49043941e-04,  4.25361737e-04]])"
      ]
     },
     "execution_count": 153,
     "metadata": {},
     "output_type": "execute_result"
    }
   ],
   "source": [
    "n20peg_lpdmso"
   ]
  },
  {
   "cell_type": "code",
   "execution_count": 154,
   "metadata": {},
   "outputs": [
    {
     "data": {
      "text/plain": [
       "array([-0.04105047, -0.04652728, -0.04606808, -0.04122621, -0.0437996 ])"
      ]
     },
     "execution_count": 154,
     "metadata": {},
     "output_type": "execute_result"
    }
   ],
   "source": [
    "n20peg_lpdmso[2]"
   ]
  },
  {
   "cell_type": "code",
   "execution_count": 155,
   "metadata": {},
   "outputs": [
    {
     "data": {
      "text/plain": [
       "0.00045636507877836125"
      ]
     },
     "execution_count": 155,
     "metadata": {},
     "output_type": "execute_result"
    }
   ],
   "source": [
    "np.mean(n20peg_lpdmso[3])"
   ]
  },
  {
   "cell_type": "code",
   "execution_count": 156,
   "metadata": {},
   "outputs": [
    {
     "data": {
      "text/plain": [
       "array([ 0.       ,  3.2419136,  6.4838272,  9.7257408, 12.9676544])"
      ]
     },
     "execution_count": 156,
     "metadata": {},
     "output_type": "execute_result"
    }
   ],
   "source": [
    "blen_dmso"
   ]
  },
  {
   "cell_type": "code",
   "execution_count": 157,
   "metadata": {},
   "outputs": [
    {
     "data": {
      "text/plain": [
       "array([ 0.       ,  3.2419136,  6.4838272,  9.7257408, 12.9676544,\n",
       "       16.209568 , 19.4514816, 22.6933952, 25.9353088, 29.1772224,\n",
       "       32.419136 , 35.6610496, 38.9029632, 42.1448768, 45.3867904,\n",
       "       48.628704 , 51.8706176, 55.1125312, 58.3544448])"
      ]
     },
     "execution_count": 157,
     "metadata": {},
     "output_type": "execute_result"
    }
   ],
   "source": [
    "blen_n20dmso"
   ]
  },
  {
   "cell_type": "code",
   "execution_count": 158,
   "metadata": {},
   "outputs": [],
   "source": [
    "gg_n20peg_dmso = line_fit(np.mean(n20peg_lpdmso[2]),blen_n20dmso)"
   ]
  },
  {
   "cell_type": "code",
   "execution_count": 159,
   "metadata": {},
   "outputs": [],
   "source": [
    "gg_n6peg_n20dmso = line_fit(np.mean(n6peg_lpdmso[2]),blen_n20dmso)"
   ]
  },
  {
   "cell_type": "code",
   "execution_count": 160,
   "metadata": {},
   "outputs": [],
   "source": [
    "gg_n8peg_n20dmso = line_fit(np.mean(n8peg_lpdmso[2]),blen_n20dmso)"
   ]
  },
  {
   "cell_type": "code",
   "execution_count": 161,
   "metadata": {},
   "outputs": [],
   "source": [
    "gg_n10peg_n20dmso = line_fit(np.mean(n10peg_lpdmso[2]),blen_n20dmso)"
   ]
  },
  {
   "cell_type": "code",
   "execution_count": 162,
   "metadata": {},
   "outputs": [
    {
     "data": {
      "text/plain": [
       "array([-0.        , -0.14178291, -0.28356581, -0.42534872, -0.56713163,\n",
       "       -0.70891453, -0.85069744, -0.99248034, -1.13426325, -1.27604616,\n",
       "       -1.41782906, -1.55961197, -1.70139488, -1.84317778, -1.98496069,\n",
       "       -2.1267436 , -2.2685265 , -2.41030941, -2.55209232])"
      ]
     },
     "execution_count": 162,
     "metadata": {},
     "output_type": "execute_result"
    }
   ],
   "source": [
    "gg_n20peg_dmso"
   ]
  },
  {
   "cell_type": "markdown",
   "metadata": {},
   "source": [
    "### Block averaged Radius of gyration and persistence length, N = 20 PEG/DMSO"
   ]
  },
  {
   "cell_type": "code",
   "execution_count": 163,
   "metadata": {},
   "outputs": [
    {
     "data": {
      "text/plain": [
       "22.929541050563397"
      ]
     },
     "execution_count": 163,
     "metadata": {},
     "output_type": "execute_result"
    }
   ],
   "source": [
    "np.mean(n20_blkspeg_dmso[\"Avg persistence length\"])"
   ]
  },
  {
   "cell_type": "code",
   "execution_count": 164,
   "metadata": {},
   "outputs": [
    {
     "data": {
      "text/plain": [
       "1.2145865596582854"
      ]
     },
     "execution_count": 164,
     "metadata": {},
     "output_type": "execute_result"
    }
   ],
   "source": [
    "np.std(n20_blkspeg_dmso[\"Avg persistence length\"])"
   ]
  },
  {
   "cell_type": "code",
   "execution_count": 165,
   "metadata": {},
   "outputs": [
    {
     "data": {
      "text/plain": [
       "9.737883930275974"
      ]
     },
     "execution_count": 165,
     "metadata": {},
     "output_type": "execute_result"
    }
   ],
   "source": [
    "np.mean(n20_blkspeg_dmso[\"Avg Radius of gyration\"])"
   ]
  },
  {
   "cell_type": "code",
   "execution_count": 166,
   "metadata": {},
   "outputs": [
    {
     "data": {
      "text/plain": [
       "0.3535099165872252"
      ]
     },
     "execution_count": 166,
     "metadata": {},
     "output_type": "execute_result"
    }
   ],
   "source": [
    "np.std(n20_blkspeg_dmso[\"Avg Radius of gyration\"])"
   ]
  },
  {
   "cell_type": "code",
   "execution_count": 173,
   "metadata": {},
   "outputs": [
    {
     "data": {
      "text/plain": [
       "Text(0.5, -4.9, '$N_{PEG}$ = 20: $L_{p}$ = 22.9 $\\\\AA$ ± 1.21 $\\\\AA$')"
      ]
     },
     "execution_count": 173,
     "metadata": {},
     "output_type": "execute_result"
    },
    {
     "data": {
      "image/png": "[encoded data removed]",
      "text/plain": [
       "<Figure size 504x504 with 1 Axes>"
      ]
     },
     "metadata": {
      "needs_background": "light"
     },
     "output_type": "display_data"
    }
   ],
   "source": [
    "plt.figure(figsize=(7,7))\n",
    "plt.errorbar(blen_dmso, np.log(cor_n6peg_dmso[0]), yerr=mk_n6p_dmso, color='#1F2E69', linestyle=\"None\",marker='o',\n",
    "     capsize=5, capthick=1, ecolor='black')\n",
    "plt.errorbar(blen_n8dmso, np.log(cor_n8peg_dmso[0]), yerr=mk_n8p_dmso, color='#4C80ED', linestyle=\"None\",marker='o',\n",
    "     capsize=5, capthick=1, ecolor='black')\n",
    "plt.errorbar(blen_n10dmso, np.log(cor_n10peg_dmso[0]), yerr=mk_n10p_dmso, color='#8C52FC', linestyle=\"None\",marker='o',\n",
    "     capsize=5, capthick=1, ecolor='black')\n",
    "plt.errorbar(blen_n20dmso, np.log(cor_n20peg_dmso[0]), yerr=mk_n20p_dmso, color='#8B7F47', linestyle=\"None\",marker='o',\n",
    "     capsize=5, capthick=1, ecolor='black')\n",
    "plt.plot(blen_n20dmso[:15], gg_n6peg_n20dmso[:15], color='#1F2E69')\n",
    "plt.plot(blen_n20dmso[:15], gg_n8peg_n20dmso[:15], color='#4C80ED')\n",
    "plt.plot(blen_n20dmso[:15], gg_n10peg_n20dmso[:15], color='#8C52FC')\n",
    "plt.plot(blen_n20dmso[:15], gg_n20peg_dmso[:15], color='#8B7F47')\n",
    "plt.title(r'Ensemble Averaged ln(Cosine $\\theta$) in DMSO', fontsize=15, y=1.01)\n",
    "plt.xlabel(r'Bond Length', fontsize=15)\n",
    "plt.ylabel(r'ln$\\left< Cos(\\theta)\\right >$', fontsize=15)\n",
    "plt.ylim(-6,1)\n",
    "plt.xlim(0,70)\n",
    "#plt.ylim(-1.9,0)\n",
    "font = font_manager.FontProperties(family='Arial', style='normal', size='14')\n",
    "#plt.legend([r'$N_{PEG}$ = 6: $L_{p}$ = 18.8 $\\AA$ ± 3.60 $\\AA$'], loc=3, frameon=0, fontsize=14, prop=font)\n",
    "plt.tick_params(labelsize=14)\n",
    "plt.text(0.5, -5.9,r'$N_{PEG}$ = 6: $L_{p}$ = 18.8 $\\AA$ ± 3.61 $\\AA$', fontsize=15, color='#1F2E69')\n",
    "plt.text(0.5, -5.58,r'$N_{PEG}$ = 8: $L_{p}$ = 22.1 $\\AA$ ± 2.49 $\\AA$', fontsize=15, color='#4C80ED')\n",
    "plt.text(0.5, -5.23,r'$N_{PEG}$ = 10: $L_{p}$ = 21.2 $\\AA$ ± 2.31 $\\AA$', fontsize=15, color='#8C52FC')\n",
    "plt.text(0.5, -4.90,r'$N_{PEG}$ = 20: $L_{p}$ = 22.9 $\\AA$ ± 1.21 $\\AA$', fontsize=15, color='#8B7F47')"
   ]
  },
  {
   "cell_type": "code",
   "execution_count": 174,
   "metadata": {},
   "outputs": [
    {
     "data": {
      "text/html": [
       "<div>\n",
       "<style scoped>\n",
       "    .dataframe tbody tr th:only-of-type {\n",
       "        vertical-align: middle;\n",
       "    }\n",
       "\n",
       "    .dataframe tbody tr th {\n",
       "        vertical-align: top;\n",
       "    }\n",
       "\n",
       "    .dataframe thead th {\n",
       "        text-align: right;\n",
       "    }\n",
       "</style>\n",
       "<table border=\"1\" class=\"dataframe\">\n",
       "  <thead>\n",
       "    <tr style=\"text-align: right;\">\n",
       "      <th></th>\n",
       "      <th>$R_{g}$ [Angstrom] N = 6 PEG DMSO</th>\n",
       "      <th>$R_{g}$ [Angstrom] N = 8 PEG DMSO</th>\n",
       "      <th>$R_{g}$ [Angstrom] N = 10 PEG DMSO</th>\n",
       "      <th>$R_{g}$ [Angstrom] N = 20 PEG DMSO</th>\n",
       "    </tr>\n",
       "  </thead>\n",
       "  <tbody>\n",
       "    <tr>\n",
       "      <td>0</td>\n",
       "      <td>4.448959</td>\n",
       "      <td>5.719623</td>\n",
       "      <td>6.413897</td>\n",
       "      <td>9.910038</td>\n",
       "    </tr>\n",
       "    <tr>\n",
       "      <td>1</td>\n",
       "      <td>4.748702</td>\n",
       "      <td>5.761057</td>\n",
       "      <td>5.740915</td>\n",
       "      <td>9.473710</td>\n",
       "    </tr>\n",
       "    <tr>\n",
       "      <td>2</td>\n",
       "      <td>4.534691</td>\n",
       "      <td>5.672010</td>\n",
       "      <td>6.420186</td>\n",
       "      <td>9.357790</td>\n",
       "    </tr>\n",
       "    <tr>\n",
       "      <td>3</td>\n",
       "      <td>4.531934</td>\n",
       "      <td>5.296935</td>\n",
       "      <td>6.206639</td>\n",
       "      <td>9.606855</td>\n",
       "    </tr>\n",
       "    <tr>\n",
       "      <td>4</td>\n",
       "      <td>4.163879</td>\n",
       "      <td>5.451634</td>\n",
       "      <td>6.600141</td>\n",
       "      <td>10.341027</td>\n",
       "    </tr>\n",
       "  </tbody>\n",
       "</table>\n",
       "</div>"
      ],
      "text/plain": [
       "   $R_{g}$ [Angstrom] N = 6 PEG DMSO  $R_{g}$ [Angstrom] N = 8 PEG DMSO   \\\n",
       "0                           4.448959                            5.719623   \n",
       "1                           4.748702                            5.761057   \n",
       "2                           4.534691                            5.672010   \n",
       "3                           4.531934                            5.296935   \n",
       "4                           4.163879                            5.451634   \n",
       "\n",
       "   $R_{g}$ [Angstrom] N = 10 PEG DMSO   $R_{g}$ [Angstrom] N = 20 PEG DMSO   \n",
       "0                             6.413897                             9.910038  \n",
       "1                             5.740915                             9.473710  \n",
       "2                             6.420186                             9.357790  \n",
       "3                             6.206639                             9.606855  \n",
       "4                             6.600141                            10.341027  "
      ]
     },
     "execution_count": 174,
     "metadata": {},
     "output_type": "execute_result"
    }
   ],
   "source": [
    "rgpeg_olig_dmso[r\"$R_{g}$ [Angstrom] N = 20 PEG DMSO \"] = n20_blkspeg_dmso[\"Avg Radius of gyration\"]\n",
    "rgpeg_olig_dmso"
   ]
  },
  {
   "cell_type": "code",
   "execution_count": 175,
   "metadata": {},
   "outputs": [
    {
     "data": {
      "text/html": [
       "<div>\n",
       "<style scoped>\n",
       "    .dataframe tbody tr th:only-of-type {\n",
       "        vertical-align: middle;\n",
       "    }\n",
       "\n",
       "    .dataframe tbody tr th {\n",
       "        vertical-align: top;\n",
       "    }\n",
       "\n",
       "    .dataframe thead th {\n",
       "        text-align: right;\n",
       "    }\n",
       "</style>\n",
       "<table border=\"1\" class=\"dataframe\">\n",
       "  <thead>\n",
       "    <tr style=\"text-align: right;\">\n",
       "      <th></th>\n",
       "      <th>$L_{p}$ [Angstrom] N = 6 PEG DMSO</th>\n",
       "      <th>$L_{p}$ [Angstrom] N = 8 PEG DMSO</th>\n",
       "      <th>$L_{p}$ [Angstrom] N = 10 PEG DMSO</th>\n",
       "      <th>$L_{p}$ [Angstrom] N = 20 PEG DMSO</th>\n",
       "    </tr>\n",
       "  </thead>\n",
       "  <tbody>\n",
       "    <tr>\n",
       "      <td>0</td>\n",
       "      <td>16.809451</td>\n",
       "      <td>24.031716</td>\n",
       "      <td>22.492805</td>\n",
       "      <td>24.360254</td>\n",
       "    </tr>\n",
       "    <tr>\n",
       "      <td>1</td>\n",
       "      <td>25.078842</td>\n",
       "      <td>24.516849</td>\n",
       "      <td>17.209328</td>\n",
       "      <td>21.492769</td>\n",
       "    </tr>\n",
       "    <tr>\n",
       "      <td>2</td>\n",
       "      <td>18.201036</td>\n",
       "      <td>23.768712</td>\n",
       "      <td>21.636686</td>\n",
       "      <td>21.707005</td>\n",
       "    </tr>\n",
       "    <tr>\n",
       "      <td>3</td>\n",
       "      <td>19.792809</td>\n",
       "      <td>18.256586</td>\n",
       "      <td>20.518808</td>\n",
       "      <td>24.256416</td>\n",
       "    </tr>\n",
       "    <tr>\n",
       "      <td>4</td>\n",
       "      <td>14.283993</td>\n",
       "      <td>20.108643</td>\n",
       "      <td>24.107676</td>\n",
       "      <td>22.831261</td>\n",
       "    </tr>\n",
       "  </tbody>\n",
       "</table>\n",
       "</div>"
      ],
      "text/plain": [
       "   $L_{p}$ [Angstrom] N = 6 PEG DMSO   $L_{p}$ [Angstrom] N = 8 PEG DMSO   \\\n",
       "0                           16.809451                           24.031716   \n",
       "1                           25.078842                           24.516849   \n",
       "2                           18.201036                           23.768712   \n",
       "3                           19.792809                           18.256586   \n",
       "4                           14.283993                           20.108643   \n",
       "\n",
       "   $L_{p}$ [Angstrom] N = 10 PEG DMSO   $L_{p}$ [Angstrom] N = 20 PEG DMSO   \n",
       "0                            22.492805                            24.360254  \n",
       "1                            17.209328                            21.492769  \n",
       "2                            21.636686                            21.707005  \n",
       "3                            20.518808                            24.256416  \n",
       "4                            24.107676                            22.831261  "
      ]
     },
     "execution_count": 175,
     "metadata": {},
     "output_type": "execute_result"
    }
   ],
   "source": [
    "pers_pegt_dmso[r\"$L_{p}$ [Angstrom] N = 20 PEG DMSO \"] = n20_blkspeg_dmso[\"Avg persistence length\"]\n",
    "pers_pegt_dmso"
   ]
  },
  {
   "cell_type": "code",
   "execution_count": null,
   "metadata": {},
   "outputs": [],
   "source": []
  },
  {
   "cell_type": "code",
   "execution_count": null,
   "metadata": {},
   "outputs": [],
   "source": []
  },
  {
   "cell_type": "markdown",
   "metadata": {},
   "source": [
    "### N = 30 PEG/DMSO "
   ]
  },
  {
   "cell_type": "code",
   "execution_count": 178,
   "metadata": {},
   "outputs": [],
   "source": [
    "# For the right Rg calculation using MD Analysis, use trajactory without pbc \n",
    "n30_peg_dmso = mda.Universe(\"n30peg_dmso/n30pegonly_dmso.pdb\", \"n30peg_dmso/nodmso_n30peg.xtc\")"
   ]
  },
  {
   "cell_type": "code",
   "execution_count": 179,
   "metadata": {},
   "outputs": [
    {
     "data": {
      "text/plain": [
       "<XTCReader n30peg_dmso/nodmso_n30peg.xtc with 18001 frames of 213 atoms>"
      ]
     },
     "execution_count": 179,
     "metadata": {},
     "output_type": "execute_result"
    }
   ],
   "source": [
    "n30_peg_dmso.trajectory"
   ]
  },
  {
   "cell_type": "code",
   "execution_count": 180,
   "metadata": {},
   "outputs": [
    {
     "data": {
      "text/plain": [
       "18001"
      ]
     },
     "execution_count": 180,
     "metadata": {},
     "output_type": "execute_result"
    }
   ],
   "source": [
    "len(n30_peg_dmso.trajectory)"
   ]
  },
  {
   "cell_type": "code",
   "execution_count": 181,
   "metadata": {},
   "outputs": [],
   "source": [
    "#Select the polymer heavy atoms \n",
    "peg_n30dmso = n30_peg_dmso.select_atoms(\"resname sPEG PEG tPEG and not type H\")"
   ]
  },
  {
   "cell_type": "code",
   "execution_count": 182,
   "metadata": {},
   "outputs": [
    {
     "data": {
      "text/plain": [
       "array([[ 1.00000000e+00,  9.36606509e-01,  8.50601520e-01,\n",
       "         8.05799441e-01,  7.89863431e-01,  7.73644056e-01,\n",
       "         7.50802361e-01,  7.40923619e-01,  7.41553797e-01,\n",
       "         7.32392799e-01,  7.41844030e-01,  7.13691954e-01,\n",
       "         6.96576197e-01,  6.77030978e-01,  6.59215136e-01,\n",
       "         6.41332183e-01,  6.12871887e-01,  5.85829860e-01,\n",
       "         5.67631204e-01,  5.48032715e-01,  5.15212789e-01,\n",
       "         4.67398438e-01,  4.17144054e-01,  3.72076460e-01,\n",
       "         3.26342519e-01,  1.92443093e-01,  7.84355218e-02,\n",
       "        -1.49950123e-01, -4.16079049e-01],\n",
       "       [ 0.00000000e+00,  1.00000000e+00,  2.00000000e+00,\n",
       "         3.00000000e+00,  4.00000000e+00,  5.00000000e+00,\n",
       "         6.00000000e+00,  7.00000000e+00,  8.00000000e+00,\n",
       "         9.00000000e+00,  1.00000000e+01,  1.10000000e+01,\n",
       "         1.20000000e+01,  1.30000000e+01,  1.40000000e+01,\n",
       "         1.50000000e+01,  1.60000000e+01,  1.70000000e+01,\n",
       "         1.80000000e+01,  1.90000000e+01,  2.00000000e+01,\n",
       "         2.10000000e+01,  2.20000000e+01,  2.30000000e+01,\n",
       "         2.40000000e+01,  2.50000000e+01,  2.60000000e+01,\n",
       "         2.70000000e+01,  2.80000000e+01],\n",
       "       [ 0.00000000e+00,  2.05107429e+01,  3.17228456e+01,\n",
       "         3.63124676e+01,  3.78272493e+01,  3.93177407e+01,\n",
       "         4.13400712e+01,  4.21898467e+01,  4.21360560e+01,\n",
       "         4.29126323e+01,  4.21112635e+01,  4.44638976e+01,\n",
       "         4.58470468e+01,  4.73879334e+01,  4.87599580e+01,\n",
       "         5.01087711e+01,  5.22025500e+01,  5.41383625e+01,\n",
       "         5.54147929e+01,  5.67678466e+01,  5.89883208e+01,\n",
       "         6.21344444e+01,  6.53455895e+01,  6.81562649e+01,\n",
       "         7.09530690e+01,  7.89046052e+01,  8.55013549e+01,\n",
       "         9.86240362e+01,  1.14587288e+02]])"
      ]
     },
     "execution_count": 182,
     "metadata": {},
     "output_type": "execute_result"
    }
   ],
   "source": [
    "crv_n30peg_dmso = pers_length(peg_n30dmso,30)\n",
    "crv_n30peg_dmso"
   ]
  },
  {
   "cell_type": "code",
   "execution_count": 183,
   "metadata": {},
   "outputs": [],
   "source": [
    "com_bond_n30dmso = np.zeros(shape=(1,18000))\n",
    "count = 0\n",
    "for ts in n30_peg_dmso.trajectory[0:18000]:\n",
    "    n30_mon1_dmso = n30_peg_dmso.select_atoms(\"resid 1\")\n",
    "    n30_mon2_dmso = n30_peg_dmso.select_atoms(\"resid 2\")\n",
    "    oo_len = mda.analysis.distances.distance_array(n30_mon1_dmso.center_of_mass(), n30_mon2_dmso.center_of_mass(), \n",
    "                                                   box=n30_peg_dmso.trajectory.ts.dimensions)\n",
    "    com_bond_n30dmso[0, count] = oo_len\n",
    "    count += 1\n",
    "    "
   ]
  },
  {
   "cell_type": "code",
   "execution_count": 184,
   "metadata": {},
   "outputs": [
    {
     "data": {
      "text/plain": [
       "array([[3.53350002, 3.23345886, 3.20921526, ..., 3.25338305, 3.09876112,\n",
       "        2.93677543]])"
      ]
     },
     "execution_count": 184,
     "metadata": {},
     "output_type": "execute_result"
    }
   ],
   "source": [
    "com_bond"
   ]
  },
  {
   "cell_type": "code",
   "execution_count": 185,
   "metadata": {},
   "outputs": [
    {
     "data": {
      "text/plain": [
       "3.2419135998493824"
      ]
     },
     "execution_count": 185,
     "metadata": {},
     "output_type": "execute_result"
    }
   ],
   "source": [
    "lb_avg_pn6"
   ]
  },
  {
   "cell_type": "code",
   "execution_count": 186,
   "metadata": {},
   "outputs": [
    {
     "data": {
      "text/plain": [
       "0.18863018935460654"
      ]
     },
     "execution_count": 186,
     "metadata": {},
     "output_type": "execute_result"
    }
   ],
   "source": [
    "np.std(com_bond)"
   ]
  },
  {
   "cell_type": "code",
   "execution_count": 187,
   "metadata": {},
   "outputs": [
    {
     "data": {
      "text/plain": [
       "3.222676166802996"
      ]
     },
     "execution_count": 187,
     "metadata": {},
     "output_type": "execute_result"
    }
   ],
   "source": [
    "np.mean(com_bond_n30dmso)"
   ]
  },
  {
   "cell_type": "code",
   "execution_count": 188,
   "metadata": {},
   "outputs": [
    {
     "data": {
      "text/plain": [
       "0.20082673751593924"
      ]
     },
     "execution_count": 188,
     "metadata": {},
     "output_type": "execute_result"
    }
   ],
   "source": [
    "np.std(com_bond_n30dmso)"
   ]
  },
  {
   "cell_type": "markdown",
   "metadata": {},
   "source": [
    "### Radius of Gyration vs. time N = 30 PEG/dmso"
   ]
  },
  {
   "cell_type": "code",
   "execution_count": 189,
   "metadata": {},
   "outputs": [],
   "source": [
    "n30peg_rgens_dmso, cor_n30peg_dmso, N30peg_cos_dmso, rgdmso_n30peg = get_rg_pers_poly(peg_n30dmso, n30_peg_dmso, 0, 18000)"
   ]
  },
  {
   "cell_type": "code",
   "execution_count": 190,
   "metadata": {},
   "outputs": [
    {
     "data": {
      "text/plain": [
       "(18000,)"
      ]
     },
     "execution_count": 190,
     "metadata": {},
     "output_type": "execute_result"
    }
   ],
   "source": [
    "n30peg_rgens_dmso[0].shape"
   ]
  },
  {
   "cell_type": "code",
   "execution_count": 191,
   "metadata": {},
   "outputs": [
    {
     "data": {
      "text/plain": [
       "array([ 0.,  1.,  2.,  3.,  4.,  5.,  6.,  7.,  8.,  9., 10., 11., 12.,\n",
       "       13., 14., 15., 16., 17., 18., 19., 20., 21., 22., 23., 24., 25.,\n",
       "       26., 27., 28.])"
      ]
     },
     "execution_count": 191,
     "metadata": {},
     "output_type": "execute_result"
    }
   ],
   "source": [
    "cor_n30peg_dmso[3]"
   ]
  },
  {
   "cell_type": "code",
   "execution_count": 192,
   "metadata": {},
   "outputs": [
    {
     "data": {
      "text/plain": [
       "array([[ 1.        ,  1.        ,  1.        , ...,  1.        ,\n",
       "         1.        ,  1.        ],\n",
       "       [ 0.93660651,  0.92594169,  0.92461647, ...,  0.90421473,\n",
       "         0.90348714,  0.91788901],\n",
       "       [ 0.85060152,  0.84351967,  0.83502569, ...,  0.75481655,\n",
       "         0.7621064 ,  0.78119975],\n",
       "       ...,\n",
       "       [ 0.07843552,  0.19720771,  0.22223418, ...,  0.743836  ,\n",
       "         0.83050479,  0.8440785 ],\n",
       "       [-0.14995012, -0.07947395, -0.07491421, ...,  0.70070551,\n",
       "         0.88150512,  0.84100393],\n",
       "       [-0.41607905, -0.71607782, -0.74136293, ...,  0.6657293 ,\n",
       "         0.87120916,  0.79111139]])"
      ]
     },
     "execution_count": 192,
     "metadata": {},
     "output_type": "execute_result"
    }
   ],
   "source": [
    "N30peg_cos_dmso"
   ]
  },
  {
   "cell_type": "code",
   "execution_count": 193,
   "metadata": {},
   "outputs": [
    {
     "data": {
      "text/plain": [
       "12.440932215168166"
      ]
     },
     "execution_count": 193,
     "metadata": {},
     "output_type": "execute_result"
    }
   ],
   "source": [
    "rgdmso_n30peg"
   ]
  },
  {
   "cell_type": "code",
   "execution_count": 194,
   "metadata": {},
   "outputs": [
    {
     "data": {
      "text/plain": [
       "2.5447670166772176"
      ]
     },
     "execution_count": 194,
     "metadata": {},
     "output_type": "execute_result"
    }
   ],
   "source": [
    "np.std(n30peg_rgens_dmso)"
   ]
  },
  {
   "cell_type": "code",
   "execution_count": 218,
   "metadata": {},
   "outputs": [
    {
     "data": {
      "text/plain": [
       "(0.2, 3)"
      ]
     },
     "execution_count": 218,
     "metadata": {},
     "output_type": "execute_result"
    },
    {
     "data": {
      "image/png": "[encoded data removed]",
      "text/plain": [
       "<Figure size 504x504 with 1 Axes>"
      ]
     },
     "metadata": {
      "needs_background": "light"
     },
     "output_type": "display_data"
    }
   ],
   "source": [
    "plt.figure(figsize=(7,7))\n",
    "plt.title(r'PEG Radius of Gyration', fontsize=18, y=1.01)\n",
    "plt.xlabel(r'Time [ns]', fontsize=15)\n",
    "plt.ylabel(r'$R_{g}$ [nm]', fontsize=15)\n",
    "plt.plot(trj_len/100, n6peg_rgens_dmso[0]/10,linewidth=2, color='#1F2E69')\n",
    "plt.plot(trj_len/100, n8peg_rgens_dmso[0]/10,linewidth=2, color='#4C80ED')\n",
    "plt.plot(trj_len/100, n10peg_rgens_dmso[0]/10,linewidth=2, color='#8C52FC')\n",
    "plt.plot(trj_len/100, n20peg_rgens_dmso[0]/10,linewidth=2, color='#8B7F47')\n",
    "plt.plot(trj_len/100, n30peg_rgens_dmso[0]/10,linewidth=2, color='#63ACBE')\n",
    "plt.tick_params(labelsize=14)\n",
    "plt.legend(['N = 6 in DMSO','N = 8 in DMSO','N = 10 in DMSO','N = 20 in DMSO','N = 30 in DMSO'], frameon=False, fontsize=14)\n",
    "#plt.text(127, 0.96,r'N = 6 in water', fontsize=18, color='#1F2E69', family='Arial')\n",
    "plt.xlim(0,180)\n",
    "plt.ylim(0.2,3)"
   ]
  },
  {
   "cell_type": "markdown",
   "metadata": {},
   "source": [
    "#### Correlation values at each arc length for the whole 180 ns trajectory, N = 30 PEG/dmso"
   ]
  },
  {
   "cell_type": "code",
   "execution_count": 196,
   "metadata": {},
   "outputs": [
    {
     "data": {
      "text/plain": [
       "array([ 0.       ,  3.2419136,  6.4838272,  9.7257408, 12.9676544,\n",
       "       16.209568 , 19.4514816, 22.6933952, 25.9353088, 29.1772224,\n",
       "       32.419136 , 35.6610496, 38.9029632, 42.1448768, 45.3867904,\n",
       "       48.628704 , 51.8706176, 55.1125312, 58.3544448, 61.5963584,\n",
       "       64.838272 , 68.0801856, 71.3220992, 74.5640128, 77.8059264,\n",
       "       81.04784  , 84.2897536, 87.5316672, 90.7735808])"
      ]
     },
     "execution_count": 196,
     "metadata": {},
     "output_type": "execute_result"
    }
   ],
   "source": [
    "# x values\n",
    "blen_n30dmso = cor_n30peg_dmso[3]*lb_avg_pn6\n",
    "#nt_tt[0] = 0\n",
    "blen_n30dmso"
   ]
  },
  {
   "cell_type": "code",
   "execution_count": 197,
   "metadata": {},
   "outputs": [
    {
     "data": {
      "text/plain": [
       "array([2.48253415e-18, 1.35114145e-02, 4.33491326e-02, 9.07893766e-02,\n",
       "       1.42919320e-01, 1.89154637e-01, 2.32028277e-01, 2.73172231e-01,\n",
       "       3.07970837e-01, 3.41859728e-01, 3.74075097e-01, 4.05479501e-01,\n",
       "       4.45338385e-01, 4.95148638e-01, 5.47702578e-01, 6.08458246e-01,\n",
       "       6.83554088e-01, 7.67625571e-01, 8.43765101e-01, 9.02795874e-01,\n",
       "       9.43004188e-01, 9.85454710e-01, 1.05307057e+00, 1.15237198e+00,\n",
       "       1.26437473e+00, 1.42359880e+00, 1.63317094e+00, 1.87123726e+00,\n",
       "       2.28307196e+00])"
      ]
     },
     "execution_count": 197,
     "metadata": {},
     "output_type": "execute_result"
    }
   ],
   "source": [
    "# Error prop. into natural log std deviation\n",
    "mk_n30p_dmso = cor_n30peg_dmso[1]/cor_n30peg_dmso[0]\n",
    "mk_n30p_dmso"
   ]
  },
  {
   "cell_type": "code",
   "execution_count": 198,
   "metadata": {},
   "outputs": [
    {
     "data": {
      "text/plain": [
       "<matplotlib.legend.Legend at 0x1a2218a4a8>"
      ]
     },
     "execution_count": 198,
     "metadata": {},
     "output_type": "execute_result"
    },
    {
     "data": {
      "image/png": "[encoded data removed]",
      "text/plain": [
       "<Figure size 504x504 with 1 Axes>"
      ]
     },
     "metadata": {
      "needs_background": "light"
     },
     "output_type": "display_data"
    }
   ],
   "source": [
    "plt.figure(figsize=(7,7))\n",
    "plt.errorbar(blen_dmso, np.log(cor_n6peg_dmso[0]), yerr=mk_n6p_dmso, color='#1F2E69', linestyle=\"None\",marker='o',\n",
    "     capsize=5, capthick=1, ecolor='black')\n",
    "plt.errorbar(blen_n8dmso, np.log(cor_n8peg_dmso[0]), yerr=mk_n8p_dmso, color='#4C80ED', linestyle=\"None\",marker='o',\n",
    "     capsize=5, capthick=1, ecolor='black')\n",
    "plt.errorbar(blen_n10dmso, np.log(cor_n10peg_dmso[0]), yerr=mk_n10p_dmso, color='#8C52FC', linestyle=\"None\",marker='o',\n",
    "     capsize=5, capthick=1, ecolor='black')\n",
    "plt.errorbar(blen_n20dmso, np.log(cor_n20peg_dmso[0]), yerr=mk_n20p_dmso, color='#8B7F47', linestyle=\"None\",marker='o',\n",
    "     capsize=5, capthick=1, ecolor='black')\n",
    "plt.errorbar(blen_n30dmso, np.log(cor_n30peg_dmso[0]), yerr=mk_n30p_dmso, color='#63ACBE', linestyle=\"None\",marker='o',\n",
    "     capsize=5, capthick=1, ecolor='black')\n",
    "plt.legend(['N = 6 in DMSO','N = 8 in DMSO','N = 10 in DMSO','N = 20 in DMSO','N = 30 in DMSO'], frameon=False, fontsize=14)"
   ]
  },
  {
   "cell_type": "code",
   "execution_count": 199,
   "metadata": {},
   "outputs": [
    {
     "name": "stdout",
     "output_type": "stream",
     "text": [
      "3000\n",
      "6000\n",
      "Lp [Angstroms]: 23.86345447339396\n",
      "Error in Lp from fit [Angstroms], 95% CL : 0.1166535192311226\n",
      "R2 score: 0.9912928583708327\n",
      "6000\n",
      "9000\n",
      "Lp [Angstroms]: 23.753121899827295\n",
      "Error in Lp from fit [Angstroms], 95% CL : 0.11586847222566812\n",
      "R2 score: 0.991309747083878\n",
      "9000\n",
      "12000\n",
      "Lp [Angstroms]: 25.07552576394827\n",
      "Error in Lp from fit [Angstroms], 95% CL : 0.10471197544385624\n",
      "R2 score: 0.9934684236348461\n",
      "12000\n",
      "15000\n",
      "Lp [Angstroms]: 25.95801812439543\n",
      "Error in Lp from fit [Angstroms], 95% CL : 0.0997631986981003\n",
      "R2 score: 0.9944366777128748\n",
      "15000\n",
      "18000\n",
      "Lp [Angstroms]: 22.297741821168206\n",
      "Error in Lp from fit [Angstroms], 95% CL : 0.12358115359164186\n",
      "R2 score: 0.9889928125471411\n"
     ]
    }
   ],
   "source": [
    "# All the points give the best fits for N = 6 peg in water\n",
    "n30_blkspeg_dmso , n30peg_lpdmso = bavg_pers_cnt(5, peg_n30dmso, n30_peg_dmso, lb_avg_pn6, 5, 3000 , 18000)"
   ]
  },
  {
   "cell_type": "code",
   "execution_count": 200,
   "metadata": {},
   "outputs": [
    {
     "data": {
      "text/plain": [
       "{'Avg Radius of gyration': array([10.84031301, 13.29950051, 13.00391926, 13.76137509, 12.0814456 ]),\n",
       " 'Avg persistence length': array([23.86345447, 23.7531219 , 25.07552576, 25.95801812, 22.29774182])}"
      ]
     },
     "execution_count": 200,
     "metadata": {},
     "output_type": "execute_result"
    }
   ],
   "source": [
    "n30_blkspeg_dmso"
   ]
  },
  {
   "cell_type": "code",
   "execution_count": 201,
   "metadata": {},
   "outputs": [
    {
     "data": {
      "text/plain": [
       "array([[ 2.38634545e+01,  2.37531219e+01,  2.50755258e+01,\n",
       "         2.59580181e+01,  2.22977418e+01],\n",
       "       [ 1.16653519e-01,  1.15868472e-01,  1.04711975e-01,\n",
       "         9.97631987e-02,  1.23581154e-01],\n",
       "       [-4.19050813e-02, -4.20997292e-02, -3.98795227e-02,\n",
       "        -3.85237423e-02, -4.48475908e-02],\n",
       "       [ 3.55057673e-04,  3.56848793e-04,  2.34654548e-04,\n",
       "         1.85477429e-04,  5.22754068e-04]])"
      ]
     },
     "execution_count": 201,
     "metadata": {},
     "output_type": "execute_result"
    }
   ],
   "source": [
    "n30peg_lpdmso"
   ]
  },
  {
   "cell_type": "code",
   "execution_count": 202,
   "metadata": {},
   "outputs": [
    {
     "data": {
      "text/plain": [
       "array([-0.04190508, -0.04209973, -0.03987952, -0.03852374, -0.04484759])"
      ]
     },
     "execution_count": 202,
     "metadata": {},
     "output_type": "execute_result"
    }
   ],
   "source": [
    "n30peg_lpdmso[2]"
   ]
  },
  {
   "cell_type": "code",
   "execution_count": 203,
   "metadata": {},
   "outputs": [
    {
     "data": {
      "text/plain": [
       "0.000330958502245751"
      ]
     },
     "execution_count": 203,
     "metadata": {},
     "output_type": "execute_result"
    }
   ],
   "source": [
    "np.mean(n30peg_lpdmso[3])"
   ]
  },
  {
   "cell_type": "code",
   "execution_count": 204,
   "metadata": {},
   "outputs": [
    {
     "data": {
      "text/plain": [
       "array([ 0.       ,  3.2419136,  6.4838272,  9.7257408, 12.9676544])"
      ]
     },
     "execution_count": 204,
     "metadata": {},
     "output_type": "execute_result"
    }
   ],
   "source": [
    "blen_dmso"
   ]
  },
  {
   "cell_type": "code",
   "execution_count": 205,
   "metadata": {},
   "outputs": [
    {
     "data": {
      "text/plain": [
       "array([ 0.       ,  3.2419136,  6.4838272,  9.7257408, 12.9676544,\n",
       "       16.209568 , 19.4514816, 22.6933952, 25.9353088, 29.1772224,\n",
       "       32.419136 , 35.6610496, 38.9029632, 42.1448768, 45.3867904,\n",
       "       48.628704 , 51.8706176, 55.1125312, 58.3544448, 61.5963584,\n",
       "       64.838272 , 68.0801856, 71.3220992, 74.5640128, 77.8059264,\n",
       "       81.04784  , 84.2897536, 87.5316672, 90.7735808])"
      ]
     },
     "execution_count": 205,
     "metadata": {},
     "output_type": "execute_result"
    }
   ],
   "source": [
    "blen_n30dmso"
   ]
  },
  {
   "cell_type": "code",
   "execution_count": 206,
   "metadata": {},
   "outputs": [],
   "source": [
    "gg_n30peg_dmso = line_fit(np.mean(n30peg_lpdmso[2]),blen_n30dmso)"
   ]
  },
  {
   "cell_type": "code",
   "execution_count": 207,
   "metadata": {},
   "outputs": [],
   "source": [
    "gg_n6peg_n30dmso = line_fit(np.mean(n6peg_lpdmso[2]),blen_n30dmso)"
   ]
  },
  {
   "cell_type": "code",
   "execution_count": 208,
   "metadata": {},
   "outputs": [],
   "source": [
    "gg_n8peg_n30dmso = line_fit(np.mean(n8peg_lpdmso[2]),blen_n30dmso)"
   ]
  },
  {
   "cell_type": "code",
   "execution_count": 209,
   "metadata": {},
   "outputs": [],
   "source": [
    "gg_n10peg_n30dmso = line_fit(np.mean(n10peg_lpdmso[2]),blen_n30dmso)"
   ]
  },
  {
   "cell_type": "code",
   "execution_count": 210,
   "metadata": {},
   "outputs": [],
   "source": [
    "gg_n20peg_n30dmso = line_fit(np.mean(n20peg_lpdmso[2]),blen_n30dmso)"
   ]
  },
  {
   "cell_type": "code",
   "execution_count": 211,
   "metadata": {},
   "outputs": [
    {
     "data": {
      "text/plain": [
       "array([-0.        , -0.13438099, -0.26876199, -0.40314298, -0.53752397,\n",
       "       -0.67190496, -0.80628596, -0.94066695, -1.07504794, -1.20942893,\n",
       "       -1.34380993, -1.47819092, -1.61257191, -1.7469529 , -1.8813339 ,\n",
       "       -2.01571489, -2.15009588, -2.28447687, -2.41885787, -2.55323886,\n",
       "       -2.68761985, -2.82200085, -2.95638184, -3.09076283, -3.22514382,\n",
       "       -3.35952482, -3.49390581, -3.6282868 , -3.76266779])"
      ]
     },
     "execution_count": 211,
     "metadata": {},
     "output_type": "execute_result"
    }
   ],
   "source": [
    "gg_n30peg_dmso"
   ]
  },
  {
   "cell_type": "markdown",
   "metadata": {},
   "source": [
    "### Block averaged Radius of gyration and persistence length, N = 30 PEG/DMSO"
   ]
  },
  {
   "cell_type": "code",
   "execution_count": 212,
   "metadata": {},
   "outputs": [
    {
     "data": {
      "text/plain": [
       "24.189572416546632"
      ]
     },
     "execution_count": 212,
     "metadata": {},
     "output_type": "execute_result"
    }
   ],
   "source": [
    "np.mean(n30_blkspeg_dmso[\"Avg persistence length\"])"
   ]
  },
  {
   "cell_type": "code",
   "execution_count": 213,
   "metadata": {},
   "outputs": [
    {
     "data": {
      "text/plain": [
       "1.248052765181152"
      ]
     },
     "execution_count": 213,
     "metadata": {},
     "output_type": "execute_result"
    }
   ],
   "source": [
    "np.std(n30_blkspeg_dmso[\"Avg persistence length\"])"
   ]
  },
  {
   "cell_type": "code",
   "execution_count": 214,
   "metadata": {},
   "outputs": [
    {
     "data": {
      "text/plain": [
       "12.597310693594403"
      ]
     },
     "execution_count": 214,
     "metadata": {},
     "output_type": "execute_result"
    }
   ],
   "source": [
    "np.mean(n30_blkspeg_dmso[\"Avg Radius of gyration\"])"
   ]
  },
  {
   "cell_type": "code",
   "execution_count": 215,
   "metadata": {},
   "outputs": [
    {
     "data": {
      "text/plain": [
       "1.0360120325355755"
      ]
     },
     "execution_count": 215,
     "metadata": {},
     "output_type": "execute_result"
    }
   ],
   "source": [
    "np.std(n30_blkspeg_dmso[\"Avg Radius of gyration\"])"
   ]
  },
  {
   "cell_type": "code",
   "execution_count": 220,
   "metadata": {},
   "outputs": [
    {
     "data": {
      "text/plain": [
       "Text(0.5, -4.5, '$N_{PEG}$ = 30: $L_{p}$ = 24.2 $\\\\AA$ ± 1.25 $\\\\AA$')"
      ]
     },
     "execution_count": 220,
     "metadata": {},
     "output_type": "execute_result"
    },
    {
     "data": {
      "image/png": "[encoded data removed]",
      "text/plain": [
       "<Figure size 504x504 with 1 Axes>"
      ]
     },
     "metadata": {
      "needs_background": "light"
     },
     "output_type": "display_data"
    }
   ],
   "source": [
    "plt.figure(figsize=(7,7))\n",
    "plt.errorbar(blen_dmso, np.log(cor_n6peg_dmso[0]), yerr=mk_n6p_dmso, color='#1F2E69', linestyle=\"None\",marker='o',\n",
    "     capsize=5, capthick=1, ecolor='black')\n",
    "plt.errorbar(blen_n8dmso, np.log(cor_n8peg_dmso[0]), yerr=mk_n8p_dmso, color='#4C80ED', linestyle=\"None\",marker='o',\n",
    "     capsize=5, capthick=1, ecolor='black')\n",
    "plt.errorbar(blen_n10dmso, np.log(cor_n10peg_dmso[0]), yerr=mk_n10p_dmso, color='#8C52FC', linestyle=\"None\",marker='o',\n",
    "     capsize=5, capthick=1, ecolor='black')\n",
    "plt.errorbar(blen_n20dmso, np.log(cor_n20peg_dmso[0]), yerr=mk_n20p_dmso, color='#8B7F47', linestyle=\"None\",marker='o',\n",
    "     capsize=5, capthick=1, ecolor='black')\n",
    "plt.errorbar(blen_n30dmso, np.log(cor_n30peg_dmso[0]), yerr=mk_n30p_dmso, color='#63ACBE', linestyle=\"None\",marker='o',\n",
    "     capsize=5, capthick=1, ecolor='black')\n",
    "plt.plot(blen_n20dmso[:15], gg_n6peg_n30dmso[:15], color='#1F2E69')\n",
    "plt.plot(blen_n20dmso[:15], gg_n8peg_n30dmso[:15], color='#4C80ED')\n",
    "plt.plot(blen_n20dmso[:15], gg_n10peg_n30dmso[:15], color='#8C52FC')\n",
    "plt.plot(blen_n20dmso[:15], gg_n20peg_n30dmso[:15], color='#8B7F47')\n",
    "plt.plot(blen_n30dmso[:15], gg_n30peg_dmso[:15], color='#63ACBE')\n",
    "plt.title(r'Ensemble Averaged ln(Cosine $\\theta$) in DMSO', fontsize=15, y=1.01)\n",
    "plt.xlabel(r'Bond Length', fontsize=15)\n",
    "plt.ylabel(r'ln$\\left< Cos(\\theta)\\right >$', fontsize=15)\n",
    "plt.ylim(-6,1)\n",
    "plt.xlim(0,90)\n",
    "#plt.ylim(-1.9,0)\n",
    "font = font_manager.FontProperties(family='Arial', style='normal', size='14')\n",
    "#plt.legend([r'$N_{PEG}$ = 6: $L_{p}$ = 18.8 $\\AA$ ± 3.60 $\\AA$'], loc=3, frameon=0, fontsize=14, prop=font)\n",
    "plt.tick_params(labelsize=14)\n",
    "plt.text(0.5, -5.9,r'$N_{PEG}$ = 6: $L_{p}$ = 18.8 $\\AA$ ± 3.61 $\\AA$', fontsize=15, color='#1F2E69')\n",
    "plt.text(0.5, -5.58,r'$N_{PEG}$ = 8: $L_{p}$ = 22.1 $\\AA$ ± 2.49 $\\AA$', fontsize=15, color='#4C80ED')\n",
    "plt.text(0.5, -5.23,r'$N_{PEG}$ = 10: $L_{p}$ = 21.2 $\\AA$ ± 2.31 $\\AA$', fontsize=15, color='#8C52FC')\n",
    "plt.text(0.5, -4.90,r'$N_{PEG}$ = 20: $L_{p}$ = 22.9 $\\AA$ ± 1.21 $\\AA$', fontsize=15, color='#8B7F47')\n",
    "plt.text(0.5, -4.50,r'$N_{PEG}$ = 30: $L_{p}$ = 24.2 $\\AA$ ± 1.25 $\\AA$', fontsize=15, color='#63ACBE')"
   ]
  },
  {
   "cell_type": "code",
   "execution_count": 216,
   "metadata": {},
   "outputs": [
    {
     "data": {
      "text/html": [
       "<div>\n",
       "<style scoped>\n",
       "    .dataframe tbody tr th:only-of-type {\n",
       "        vertical-align: middle;\n",
       "    }\n",
       "\n",
       "    .dataframe tbody tr th {\n",
       "        vertical-align: top;\n",
       "    }\n",
       "\n",
       "    .dataframe thead th {\n",
       "        text-align: right;\n",
       "    }\n",
       "</style>\n",
       "<table border=\"1\" class=\"dataframe\">\n",
       "  <thead>\n",
       "    <tr style=\"text-align: right;\">\n",
       "      <th></th>\n",
       "      <th>$R_{g}$ [Angstrom] N = 6 PEG DMSO</th>\n",
       "      <th>$R_{g}$ [Angstrom] N = 8 PEG DMSO</th>\n",
       "      <th>$R_{g}$ [Angstrom] N = 10 PEG DMSO</th>\n",
       "      <th>$R_{g}$ [Angstrom] N = 20 PEG DMSO</th>\n",
       "      <th>$R_{g}$ [Angstrom] N = 30 PEG DMSO</th>\n",
       "    </tr>\n",
       "  </thead>\n",
       "  <tbody>\n",
       "    <tr>\n",
       "      <td>0</td>\n",
       "      <td>4.448959</td>\n",
       "      <td>5.719623</td>\n",
       "      <td>6.413897</td>\n",
       "      <td>9.910038</td>\n",
       "      <td>10.840313</td>\n",
       "    </tr>\n",
       "    <tr>\n",
       "      <td>1</td>\n",
       "      <td>4.748702</td>\n",
       "      <td>5.761057</td>\n",
       "      <td>5.740915</td>\n",
       "      <td>9.473710</td>\n",
       "      <td>13.299501</td>\n",
       "    </tr>\n",
       "    <tr>\n",
       "      <td>2</td>\n",
       "      <td>4.534691</td>\n",
       "      <td>5.672010</td>\n",
       "      <td>6.420186</td>\n",
       "      <td>9.357790</td>\n",
       "      <td>13.003919</td>\n",
       "    </tr>\n",
       "    <tr>\n",
       "      <td>3</td>\n",
       "      <td>4.531934</td>\n",
       "      <td>5.296935</td>\n",
       "      <td>6.206639</td>\n",
       "      <td>9.606855</td>\n",
       "      <td>13.761375</td>\n",
       "    </tr>\n",
       "    <tr>\n",
       "      <td>4</td>\n",
       "      <td>4.163879</td>\n",
       "      <td>5.451634</td>\n",
       "      <td>6.600141</td>\n",
       "      <td>10.341027</td>\n",
       "      <td>12.081446</td>\n",
       "    </tr>\n",
       "  </tbody>\n",
       "</table>\n",
       "</div>"
      ],
      "text/plain": [
       "   $R_{g}$ [Angstrom] N = 6 PEG DMSO  $R_{g}$ [Angstrom] N = 8 PEG DMSO   \\\n",
       "0                           4.448959                            5.719623   \n",
       "1                           4.748702                            5.761057   \n",
       "2                           4.534691                            5.672010   \n",
       "3                           4.531934                            5.296935   \n",
       "4                           4.163879                            5.451634   \n",
       "\n",
       "   $R_{g}$ [Angstrom] N = 10 PEG DMSO   $R_{g}$ [Angstrom] N = 20 PEG DMSO   \\\n",
       "0                             6.413897                             9.910038   \n",
       "1                             5.740915                             9.473710   \n",
       "2                             6.420186                             9.357790   \n",
       "3                             6.206639                             9.606855   \n",
       "4                             6.600141                            10.341027   \n",
       "\n",
       "   $R_{g}$ [Angstrom] N = 30 PEG DMSO   \n",
       "0                            10.840313  \n",
       "1                            13.299501  \n",
       "2                            13.003919  \n",
       "3                            13.761375  \n",
       "4                            12.081446  "
      ]
     },
     "execution_count": 216,
     "metadata": {},
     "output_type": "execute_result"
    }
   ],
   "source": [
    "rgpeg_olig_dmso[r\"$R_{g}$ [Angstrom] N = 30 PEG DMSO \"] = n30_blkspeg_dmso[\"Avg Radius of gyration\"]\n",
    "rgpeg_olig_dmso"
   ]
  },
  {
   "cell_type": "code",
   "execution_count": 217,
   "metadata": {},
   "outputs": [
    {
     "data": {
      "text/html": [
       "<div>\n",
       "<style scoped>\n",
       "    .dataframe tbody tr th:only-of-type {\n",
       "        vertical-align: middle;\n",
       "    }\n",
       "\n",
       "    .dataframe tbody tr th {\n",
       "        vertical-align: top;\n",
       "    }\n",
       "\n",
       "    .dataframe thead th {\n",
       "        text-align: right;\n",
       "    }\n",
       "</style>\n",
       "<table border=\"1\" class=\"dataframe\">\n",
       "  <thead>\n",
       "    <tr style=\"text-align: right;\">\n",
       "      <th></th>\n",
       "      <th>$L_{p}$ [Angstrom] N = 6 PEG DMSO</th>\n",
       "      <th>$L_{p}$ [Angstrom] N = 8 PEG DMSO</th>\n",
       "      <th>$L_{p}$ [Angstrom] N = 10 PEG DMSO</th>\n",
       "      <th>$L_{p}$ [Angstrom] N = 20 PEG DMSO</th>\n",
       "      <th>$L_{p}$ [Angstrom] N = 30 PEG DMSO</th>\n",
       "    </tr>\n",
       "  </thead>\n",
       "  <tbody>\n",
       "    <tr>\n",
       "      <td>0</td>\n",
       "      <td>16.809451</td>\n",
       "      <td>24.031716</td>\n",
       "      <td>22.492805</td>\n",
       "      <td>24.360254</td>\n",
       "      <td>23.863454</td>\n",
       "    </tr>\n",
       "    <tr>\n",
       "      <td>1</td>\n",
       "      <td>25.078842</td>\n",
       "      <td>24.516849</td>\n",
       "      <td>17.209328</td>\n",
       "      <td>21.492769</td>\n",
       "      <td>23.753122</td>\n",
       "    </tr>\n",
       "    <tr>\n",
       "      <td>2</td>\n",
       "      <td>18.201036</td>\n",
       "      <td>23.768712</td>\n",
       "      <td>21.636686</td>\n",
       "      <td>21.707005</td>\n",
       "      <td>25.075526</td>\n",
       "    </tr>\n",
       "    <tr>\n",
       "      <td>3</td>\n",
       "      <td>19.792809</td>\n",
       "      <td>18.256586</td>\n",
       "      <td>20.518808</td>\n",
       "      <td>24.256416</td>\n",
       "      <td>25.958018</td>\n",
       "    </tr>\n",
       "    <tr>\n",
       "      <td>4</td>\n",
       "      <td>14.283993</td>\n",
       "      <td>20.108643</td>\n",
       "      <td>24.107676</td>\n",
       "      <td>22.831261</td>\n",
       "      <td>22.297742</td>\n",
       "    </tr>\n",
       "  </tbody>\n",
       "</table>\n",
       "</div>"
      ],
      "text/plain": [
       "   $L_{p}$ [Angstrom] N = 6 PEG DMSO   $L_{p}$ [Angstrom] N = 8 PEG DMSO   \\\n",
       "0                           16.809451                           24.031716   \n",
       "1                           25.078842                           24.516849   \n",
       "2                           18.201036                           23.768712   \n",
       "3                           19.792809                           18.256586   \n",
       "4                           14.283993                           20.108643   \n",
       "\n",
       "   $L_{p}$ [Angstrom] N = 10 PEG DMSO   $L_{p}$ [Angstrom] N = 20 PEG DMSO   \\\n",
       "0                            22.492805                            24.360254   \n",
       "1                            17.209328                            21.492769   \n",
       "2                            21.636686                            21.707005   \n",
       "3                            20.518808                            24.256416   \n",
       "4                            24.107676                            22.831261   \n",
       "\n",
       "   $L_{p}$ [Angstrom] N = 30 PEG DMSO   \n",
       "0                            23.863454  \n",
       "1                            23.753122  \n",
       "2                            25.075526  \n",
       "3                            25.958018  \n",
       "4                            22.297742  "
      ]
     },
     "execution_count": 217,
     "metadata": {},
     "output_type": "execute_result"
    }
   ],
   "source": [
    "pers_pegt_dmso[r\"$L_{p}$ [Angstrom] N = 30 PEG DMSO \"] = n30_blkspeg_dmso[\"Avg persistence length\"]\n",
    "pers_pegt_dmso"
   ]
  },
  {
   "cell_type": "code",
   "execution_count": 223,
   "metadata": {},
   "outputs": [],
   "source": [
    "rgpeg_olig_dmso.to_pickle(\"PEG_dmso_Rg.pkl\")"
   ]
  },
  {
   "cell_type": "code",
   "execution_count": 224,
   "metadata": {},
   "outputs": [],
   "source": [
    "pers_pegt_dmso.to_pickle(\"PEG_dmso_Lp.pkl\")"
   ]
  },
  {
   "cell_type": "markdown",
   "metadata": {},
   "source": [
    "### Fluory Exponent, PEG/DMSO systems "
   ]
  },
  {
   "cell_type": "code",
   "execution_count": 225,
   "metadata": {},
   "outputs": [],
   "source": [
    "n_peg = np.array([6,8,10,20,30])\n",
    "rg_npeg_dmso = np.array([np.mean(n6_blkspeg_dmso[\"Avg Radius of gyration\"])\n",
    "                    ,np.mean(n8_blkspeg_dmso[\"Avg Radius of gyration\"]),np.mean(n10_blkspeg_dmso[\"Avg Radius of gyration\"])\n",
    "                    ,np.mean(n20_blkspeg_dmso[\"Avg Radius of gyration\"]),np.mean(n30_blkspeg_dmso[\"Avg Radius of gyration\"])])"
   ]
  },
  {
   "cell_type": "code",
   "execution_count": 226,
   "metadata": {},
   "outputs": [
    {
     "data": {
      "text/plain": [
       "array([ 4.485633  ,  5.58025202,  6.27635561,  9.73788393, 12.59731069])"
      ]
     },
     "execution_count": 226,
     "metadata": {},
     "output_type": "execute_result"
    }
   ],
   "source": [
    "rg_npeg_dmso"
   ]
  },
  {
   "cell_type": "code",
   "execution_count": 227,
   "metadata": {},
   "outputs": [
    {
     "data": {
      "text/plain": [
       "array([0.01850255, 0.01393642, 0.02090327, 0.01558821, 0.03685753])"
      ]
     },
     "execution_count": 227,
     "metadata": {},
     "output_type": "execute_result"
    }
   ],
   "source": [
    "rgdmso_npeg_std = np.array([np.std(np.log10(n6_blkspeg_dmso[\"Avg Radius of gyration\"]))\n",
    "                    ,np.std(np.log10(n8_blkspeg_dmso[\"Avg Radius of gyration\"]))\n",
    "                        ,np.std(np.log10(n10_blkspeg_dmso[\"Avg Radius of gyration\"]))\n",
    "                    ,np.std(np.log10(n20_blkspeg_dmso[\"Avg Radius of gyration\"]))\n",
    "                        ,np.std(np.log10(n30_blkspeg_dmso[\"Avg Radius of gyration\"]))])\n",
    "rgdmso_npeg_std"
   ]
  },
  {
   "cell_type": "code",
   "execution_count": 228,
   "metadata": {},
   "outputs": [
    {
     "data": {
      "text/plain": [
       "array([ 6,  8, 10, 20, 30])"
      ]
     },
     "execution_count": 228,
     "metadata": {},
     "output_type": "execute_result"
    }
   ],
   "source": [
    "n_peg"
   ]
  },
  {
   "cell_type": "code",
   "execution_count": null,
   "metadata": {},
   "outputs": [],
   "source": [
    "np.log10(rg_npeg_dmso)"
   ]
  },
  {
   "cell_type": "code",
   "execution_count": null,
   "metadata": {},
   "outputs": [],
   "source": [
    "np.log10(n_peg)"
   ]
  },
  {
   "cell_type": "code",
   "execution_count": 229,
   "metadata": {},
   "outputs": [
    {
     "name": "stdout",
     "output_type": "stream",
     "text": [
      "Model slope:     0.6330716745864243\n",
      "Model intercept: 0.16574815673194487\n"
     ]
    }
   ],
   "source": [
    "# From fitting all points, I get best fit \n",
    "from sklearn.linear_model import LinearRegression\n",
    "model_vdmso = LinearRegression(fit_intercept=True)\n",
    "model_vdmso.fit(np.log10(n_peg).reshape(-1,1), np.log10(rg_npeg_dmso))\n",
    "# Slope here is in nanometers\n",
    "print(\"Model slope:    \", model_vdmso.coef_[0])\n",
    "print(\"Model intercept:\", model_vdmso.intercept_)"
   ]
  },
  {
   "cell_type": "code",
   "execution_count": 230,
   "metadata": {},
   "outputs": [
    {
     "data": {
      "text/plain": [
       "array([0.65837367, 0.73746885, 0.79881983, 0.98939339, 1.10087178])"
      ]
     },
     "execution_count": 230,
     "metadata": {},
     "output_type": "execute_result"
    }
   ],
   "source": [
    "gg_dmso = model_vdmso.predict(np.log10(n_peg.reshape(-1,1)))\n",
    "gg_dmso"
   ]
  },
  {
   "cell_type": "code",
   "execution_count": 231,
   "metadata": {},
   "outputs": [
    {
     "name": "stdout",
     "output_type": "stream",
     "text": [
      "Mean Std Error: 2.5943574581609202e-05\n",
      "R2 score: 0.9990338036343539\n"
     ]
    }
   ],
   "source": [
    "print(\"Mean Std Error:\", sklearn.metrics.mean_squared_error(np.log10(rg_npeg_dmso), gg_dmso))\n",
    "print(\"R2 score:\", sklearn.metrics.r2_score(np.log10(rg_npeg_dmso), gg_dmso))"
   ]
  },
  {
   "cell_type": "code",
   "execution_count": 232,
   "metadata": {},
   "outputs": [
    {
     "data": {
      "text/plain": [
       "array([-0.00654993,  0.00918497, -0.00111229, -0.0009288 , -0.00059394])"
      ]
     },
     "execution_count": 232,
     "metadata": {},
     "output_type": "execute_result"
    }
   ],
   "source": [
    "# Residuals between the true y data and model y data \n",
    "resid_vdmso = np.log10(rg_npeg_dmso) - gg_dmso\n",
    "resid_vdmso"
   ]
  },
  {
   "cell_type": "code",
   "execution_count": 233,
   "metadata": {},
   "outputs": [
    {
     "data": {
      "text/plain": [
       "0.334663876760361"
      ]
     },
     "execution_count": 233,
     "metadata": {},
     "output_type": "execute_result"
    }
   ],
   "source": [
    "# How to calculate Sum((Xi - avg(X))^2): X values are the bond length values \n",
    "nt_ttace = np.log10(n_peg)\n",
    "nt_ttace -= np.mean(nt_ttace)\n",
    "nhui_ace = nt_ttace**2\n",
    "np.sum(nhui_ace)"
   ]
  },
  {
   "cell_type": "code",
   "execution_count": 234,
   "metadata": {},
   "outputs": [
    {
     "data": {
      "text/plain": [
       "2.7764451051977987"
      ]
     },
     "execution_count": 234,
     "metadata": {},
     "output_type": "execute_result"
    }
   ],
   "source": [
    "# t-value with 95 % confidence intervals \n",
    "scipy.stats.t.ppf(0.975, 4)"
   ]
  },
  {
   "cell_type": "code",
   "execution_count": 236,
   "metadata": {},
   "outputs": [
    {
     "data": {
      "text/plain": [
       "0.02444553686226127"
      ]
     },
     "execution_count": 236,
     "metadata": {},
     "output_type": "execute_result"
    }
   ],
   "source": [
    "# How to calculate 95% confidence interval for the slope \n",
    "flc_vdmso = scipy.stats.t.ppf(0.975, 4)*np.sqrt((np.sum(resid_vdmso**2)/len(resid_vdmso))/(np.sum(nhui_ace)))\n",
    "flc_vdmso"
   ]
  },
  {
   "cell_type": "code",
   "execution_count": 238,
   "metadata": {},
   "outputs": [
    {
     "data": {
      "text/plain": [
       "Text(1.1, 0.75, '$v_{DMSO}$ = 0.63 ± 0.02')"
      ]
     },
     "execution_count": 238,
     "metadata": {},
     "output_type": "execute_result"
    },
    {
     "data": {
      "image/png": "[encoded data removed]",
      "text/plain": [
       "<Figure size 504x504 with 1 Axes>"
      ]
     },
     "metadata": {
      "needs_background": "light"
     },
     "output_type": "display_data"
    }
   ],
   "source": [
    "plt.figure(figsize=(7,7))\n",
    "plt.errorbar(np.log10(n_peg), np.log10(rg_npeg_dmso), yerr=rgdmso_npeg_std, color='#A58262', linestyle=\"None\",marker='o',\n",
    "     capsize=5, capthick=1, ecolor='black')\n",
    "plt.plot(np.log10(n_peg), gg_dmso, color='#A58262')\n",
    "plt.title(r'Fluory Exponent', fontsize=15)\n",
    "plt.xlabel(r'Log($N_{PEG}$)', fontsize=15)\n",
    "plt.ylabel(r'Log($R_{g}$)', fontsize=15)\n",
    "plt.tick_params(labelsize=14)\n",
    "plt.text(1.1, 0.75, r'$v_{DMSO}$ = 0.63 ± 0.02', fontsize=15, color='#A58262')"
   ]
  },
  {
   "cell_type": "code",
   "execution_count": null,
   "metadata": {},
   "outputs": [],
   "source": []
  }
 ],
 "metadata": {
  "kernelspec": {
   "display_name": "Python (ppc_env)",
   "language": "python",
   "name": "ppc_env"
  },
  "language_info": {
   "codemirror_mode": {
    "name": "ipython",
    "version": 3
   },
   "file_extension": ".py",
   "mimetype": "text/x-python",
   "name": "python",
   "nbconvert_exporter": "python",
   "pygments_lexer": "ipython3",
   "version": "3.6.9"
  }
 },
 "nbformat": 4,
 "nbformat_minor": 4
}
