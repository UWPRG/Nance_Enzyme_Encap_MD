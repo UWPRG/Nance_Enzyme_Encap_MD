{
 "cells": [
  {
   "cell_type": "code",
   "execution_count": 1,
   "metadata": {},
   "outputs": [],
   "source": [
    "#import the necessary modules \n",
    "%matplotlib inline \n",
    "import numpy as np \n",
    "import matplotlib.pylab as plt \n",
    "import pandas as pd \n",
    "import scipy\n",
    "import sklearn\n",
    "import itertools as it\n",
    "from itertools import cycle \n",
    "import os.path as op\n",
    "import timeit \n",
    "import json\n",
    "from matplotlib import animation\n",
    "import matplotlib.font_manager as font_manager\n",
    "\n",
    "# These imports are for creating the percent occupancy heat map \n",
    "import plotly\n",
    "import plotly.plotly as py\n",
    "import plotly.graph_objs as go"
   ]
  },
  {
   "cell_type": "code",
   "execution_count": 2,
   "metadata": {},
   "outputs": [
    {
     "data": {
      "text/plain": [
       "4"
      ]
     },
     "execution_count": 2,
     "metadata": {},
     "output_type": "execute_result"
    }
   ],
   "source": [
    "import multiprocessing as m_proc\n",
    "m_proc.cpu_count()"
   ]
  },
  {
   "cell_type": "markdown",
   "metadata": {},
   "source": [
    "Import MDAnalysis"
   ]
  },
  {
   "cell_type": "code",
   "execution_count": 3,
   "metadata": {},
   "outputs": [],
   "source": [
    "# Import MDAnalysis\n",
    "import MDAnalysis as mda\n",
    "import MDAnalysis.analysis.distances as maa_dist"
   ]
  },
  {
   "cell_type": "code",
   "execution_count": 4,
   "metadata": {},
   "outputs": [],
   "source": [
    "#Units of Angstroms \n",
    "dmax = 4.0 "
   ]
  },
  {
   "cell_type": "code",
   "execution_count": 5,
   "metadata": {},
   "outputs": [],
   "source": [
    "## Define a function that does this, Courtesy of MDAnalysis tutorial \n",
    "def get_protresd_list(prot_atoms, g2_atoms, dmax, universe):\n",
    "    \"\"\"Find all protein residues for which atoms that are within dmax\"\"\"\n",
    "    ro = len(prot_atoms)\n",
    "    cl = len(g2_atoms)\n",
    "    dij_tri = np.zeros(shape=(ro,cl))\n",
    "    dij_tri = maa_dist.distance_array(prot_atoms.positions, g2_atoms.positions, box=universe.trajectory.ts.dimensions)\n",
    "    exp_prot_atoms = np.any(dij_tri <= dmax, axis=1)\n",
    "    mk = np.array(prot_atoms[exp_prot_atoms].residues)\n",
    "    return mk\n",
    "\n",
    "\n",
    "# Define a function that outputs a dictionary of AA protein number and frame counts, where \n",
    "# the inputs will be number of frames, universe, prot and group 2 atom group, and dmax \n",
    "# Write function that takes a no of total frames, protein atom positions and group 2 atoms positions \n",
    "# and gives a dictionary of protein AA as keys and frame count as values \n",
    "\n",
    "def aa_frmcount(prot_atoms, g2_atoms, dmax, universe, start, end):\n",
    "    \"\"\"This function will output a dictionary of AA protein number and its corresponding frame count and occupancy\"\"\"\n",
    "    \n",
    "    aa_dict = {}\n",
    "    laa = np.zeros(shape=len(prot_atoms.residues))\n",
    "    br = np.zeros(shape=(len(prot_atoms.residues),2), dtype=object)\n",
    "    pr_rest = np.array(prot_atoms.residues)\n",
    "    \n",
    "    for ts in universe.trajectory[start:end]: \n",
    "        count = 0\n",
    "        bsres = get_protresd_list(prot_atoms, g2_atoms, dmax, universe)\n",
    "        \n",
    "        if bsres.size == 0: \n",
    "            pass\n",
    "        elif bsres.size != 0: \n",
    "            count += 1\n",
    "            for i in bsres.flat:\n",
    "                res_ind = np.where(pr_rest == i)[0]\n",
    "                laa[res_ind[0]] = laa[res_ind[0]] + count \n",
    "                \n",
    "    fin_res = np.where(laa != 0)[0]\n",
    "    \n",
    "    # Calculate occupancy for each residue \n",
    "    for i in fin_res.flat:\n",
    "        br[i][1] = [laa[i], laa[i]/(end - start)]\n",
    "        \n",
    "    return br "
   ]
  },
  {
   "cell_type": "code",
   "execution_count": 6,
   "metadata": {},
   "outputs": [],
   "source": [
    "def AA_list_org(lorg_list):\n",
    "    \n",
    "    \"\"\"List elements need have 'GLY  XX' as string format, where XX reps the number of GLY residues. Output is a\n",
    "    sorted list of 'AA XX' according to the below order.  \"\"\"\n",
    "    \n",
    "    hydrophobic_res = ['ALA', 'ILE', 'LEU', 'VAL', 'GLY', 'PRO','PHE', 'TRP','MET']\n",
    "    polar_res = ['ASN', 'CYS', 'GLN', 'SER', 'THR','TYR']\n",
    "    neg_res = ['ASP', 'GLU']\n",
    "    pos_res = ['ARG', 'HIS', 'LYS']\n",
    "\n",
    "    all_res = [pos_res, neg_res, polar_res, hydrophobic_res]\n",
    "    #Change order of residues before making the bar graph\n",
    "    # (1) Positively charged\n",
    "    # (2) Negatively charged\n",
    "    # (3) Polar residues \n",
    "    # (4) Hydrophobic residues \n",
    "    \n",
    "    # This chunk of code sorts the counts of each AA that have 1001 or 1002 frame count based \n",
    "    # on the AA order in all_res\n",
    "    arr_list = []\n",
    "\n",
    "    for row in all_res:\n",
    "        for i in range(len(lorg_list)):\n",
    "            for j in range(len(row)):\n",
    "                if row[j] == lorg_list[i][0:3]:\n",
    "                    arr_list.append(lorg_list[i])\n",
    "                    \n",
    "    #This chunk of code splits the list arr_list to makes the AA: count of 1001 or 1002 frames data plottable \n",
    "    f_list = []\n",
    "    fn_list = []\n",
    "    for i in range(len(arr_list)):\n",
    "        f_list.append(arr_list[i][0:3])\n",
    "        fn_list.append(int(arr_list[i][5:]))\n",
    "        \n",
    "    return f_list, fn_list"
   ]
  },
  {
   "cell_type": "markdown",
   "metadata": {},
   "source": [
    "## Tetramer Catalase in pure water 1 ns simulation: Calc. of surface residues"
   ]
  },
  {
   "cell_type": "markdown",
   "metadata": {},
   "source": [
    "#### Distance-based analysis \n",
    "\n",
    "Find residues that have at least one atom within a cutoff $d = 4.0$ Angstrom near water molecules in Catalase/water simulation\n",
    "\n",
    "Calculate the number of surface catalase residues from a 1 ns Catalase/water simulation"
   ]
  },
  {
   "cell_type": "code",
   "execution_count": 7,
   "metadata": {},
   "outputs": [],
   "source": [
    "# Load universe of the BSA/water simulation\n",
    "cat_wat = mda.Universe(\"tout_loacl/traj.pdb\", \"traj_comp.xtc\")"
   ]
  },
  {
   "cell_type": "code",
   "execution_count": 8,
   "metadata": {},
   "outputs": [
    {
     "data": {
      "text/plain": [
       "<Universe with 243538 atoms>"
      ]
     },
     "execution_count": 8,
     "metadata": {},
     "output_type": "execute_result"
    }
   ],
   "source": [
    "# Check Universe \n",
    "cat_wat"
   ]
  },
  {
   "cell_type": "code",
   "execution_count": 9,
   "metadata": {},
   "outputs": [],
   "source": [
    "# Check Trajectory Length \n",
    "cattrj = len(cat_wat.trajectory)"
   ]
  },
  {
   "cell_type": "code",
   "execution_count": 10,
   "metadata": {},
   "outputs": [
    {
     "data": {
      "text/plain": [
       "101"
      ]
     },
     "execution_count": 10,
     "metadata": {},
     "output_type": "execute_result"
    }
   ],
   "source": [
    "cattrj"
   ]
  },
  {
   "cell_type": "code",
   "execution_count": 11,
   "metadata": {},
   "outputs": [],
   "source": [
    "# Load protein atoms, heavy atoms only \n",
    "wcat_prot = cat_wat.select_atoms(\"protein and not type H\")"
   ]
  },
  {
   "cell_type": "code",
   "execution_count": 37,
   "metadata": {},
   "outputs": [
    {
     "data": {
      "text/plain": [
       "(16072, 3)"
      ]
     },
     "execution_count": 37,
     "metadata": {},
     "output_type": "execute_result"
    }
   ],
   "source": [
    "wcat_prot.positions.shape"
   ]
  },
  {
   "cell_type": "code",
   "execution_count": 13,
   "metadata": {},
   "outputs": [
    {
     "data": {
      "text/plain": [
       "499"
      ]
     },
     "execution_count": 13,
     "metadata": {},
     "output_type": "execute_result"
    }
   ],
   "source": [
    "len(cat_wat.select_atoms(\"protein and segid D\").residues)"
   ]
  },
  {
   "cell_type": "code",
   "execution_count": null,
   "metadata": {},
   "outputs": [],
   "source": [
    "cat_wat.select_atoms(\"resname SOL\")"
   ]
  },
  {
   "cell_type": "code",
   "execution_count": null,
   "metadata": {},
   "outputs": [],
   "source": [
    "#Length units in MD Analysis is Angstroms, Using 8.5 A cutoff to better visualize atomic contacts\n",
    "bs = maa_dist.contact_matrix(wcat_prot.positions,cutoff=7.5,box=cat_wat.dimensions)\n",
    "fig, ax = plt.subplots(figsize=(10,10))\n",
    "l_s = ax.matshow(bs.astype(int), aspect=\"auto\")\n",
    "fig.colorbar(l_s, ax=ax)\n",
    "ax.set_title('Catalase Atomic Contact Map: PDB code 1TGU')"
   ]
  },
  {
   "cell_type": "code",
   "execution_count": 14,
   "metadata": {},
   "outputs": [
    {
     "data": {
      "text/html": [
       "<div>\n",
       "<style scoped>\n",
       "    .dataframe tbody tr th:only-of-type {\n",
       "        vertical-align: middle;\n",
       "    }\n",
       "\n",
       "    .dataframe tbody tr th {\n",
       "        vertical-align: top;\n",
       "    }\n",
       "\n",
       "    .dataframe thead th {\n",
       "        text-align: right;\n",
       "    }\n",
       "</style>\n",
       "<table border=\"1\" class=\"dataframe\">\n",
       "  <thead>\n",
       "    <tr style=\"text-align: right;\">\n",
       "      <th></th>\n",
       "      <th>Catalase_des_res</th>\n",
       "    </tr>\n",
       "  </thead>\n",
       "  <tbody>\n",
       "    <tr>\n",
       "      <th>0</th>\n",
       "      <td>&lt;Residue ASN, 3&gt;</td>\n",
       "    </tr>\n",
       "    <tr>\n",
       "      <th>1</th>\n",
       "      <td>&lt;Residue ARG, 4&gt;</td>\n",
       "    </tr>\n",
       "    <tr>\n",
       "      <th>2</th>\n",
       "      <td>&lt;Residue ASP, 5&gt;</td>\n",
       "    </tr>\n",
       "    <tr>\n",
       "      <th>3</th>\n",
       "      <td>&lt;Residue PRO, 6&gt;</td>\n",
       "    </tr>\n",
       "    <tr>\n",
       "      <th>4</th>\n",
       "      <td>&lt;Residue ALA, 7&gt;</td>\n",
       "    </tr>\n",
       "  </tbody>\n",
       "</table>\n",
       "</div>"
      ],
      "text/plain": [
       "   Catalase_des_res\n",
       "0  <Residue ASN, 3>\n",
       "1  <Residue ARG, 4>\n",
       "2  <Residue ASP, 5>\n",
       "3  <Residue PRO, 6>\n",
       "4  <Residue ALA, 7>"
      ]
     },
     "execution_count": 14,
     "metadata": {},
     "output_type": "execute_result"
    }
   ],
   "source": [
    "pr_res = list(wcat_prot.residues)\n",
    "ss_res = [str(row) for row in pr_res]\n",
    "cat_resdat = pd.DataFrame(data=ss_res, columns=['Catalase_des_res'])\n",
    "cat_resdat.head()"
   ]
  },
  {
   "cell_type": "code",
   "execution_count": 15,
   "metadata": {
    "scrolled": true
   },
   "outputs": [],
   "source": [
    "cat_res1ns = json.load(open(\"MDA_Catalase_1ns.txt\"))\n",
    "#cat_res1ns"
   ]
  },
  {
   "cell_type": "code",
   "execution_count": 16,
   "metadata": {},
   "outputs": [],
   "source": [
    "# One catalase residue (Residue #182) does not contact water within 4 Angstroms within 1 ns\n",
    "# This code isolates frame counts and puts them in a pandas dataframe \n",
    "results = []\n",
    "final_res = [] \n",
    "for item in cat_res1ns:\n",
    "    results.append(item[1])\n",
    "\n",
    "for i in results:\n",
    "    if i == 0:\n",
    "        final_res.append(i)\n",
    "    elif i != 0:\n",
    "        final_res.append(i[0])\n",
    "#len(final_res)"
   ]
  },
  {
   "cell_type": "code",
   "execution_count": 18,
   "metadata": {},
   "outputs": [
    {
     "data": {
      "text/html": [
       "<div>\n",
       "<style scoped>\n",
       "    .dataframe tbody tr th:only-of-type {\n",
       "        vertical-align: middle;\n",
       "    }\n",
       "\n",
       "    .dataframe tbody tr th {\n",
       "        vertical-align: top;\n",
       "    }\n",
       "\n",
       "    .dataframe thead th {\n",
       "        text-align: right;\n",
       "    }\n",
       "</style>\n",
       "<table border=\"1\" class=\"dataframe\">\n",
       "  <thead>\n",
       "    <tr style=\"text-align: right;\">\n",
       "      <th></th>\n",
       "      <th>Catalase_des_res</th>\n",
       "      <th>res_counts_1ns</th>\n",
       "    </tr>\n",
       "  </thead>\n",
       "  <tbody>\n",
       "    <tr>\n",
       "      <th>0</th>\n",
       "      <td>&lt;Residue ASN, 3&gt;</td>\n",
       "      <td>101.0</td>\n",
       "    </tr>\n",
       "    <tr>\n",
       "      <th>1</th>\n",
       "      <td>&lt;Residue ARG, 4&gt;</td>\n",
       "      <td>101.0</td>\n",
       "    </tr>\n",
       "    <tr>\n",
       "      <th>2</th>\n",
       "      <td>&lt;Residue ASP, 5&gt;</td>\n",
       "      <td>101.0</td>\n",
       "    </tr>\n",
       "    <tr>\n",
       "      <th>3</th>\n",
       "      <td>&lt;Residue PRO, 6&gt;</td>\n",
       "      <td>101.0</td>\n",
       "    </tr>\n",
       "    <tr>\n",
       "      <th>4</th>\n",
       "      <td>&lt;Residue ALA, 7&gt;</td>\n",
       "      <td>101.0</td>\n",
       "    </tr>\n",
       "  </tbody>\n",
       "</table>\n",
       "</div>"
      ],
      "text/plain": [
       "   Catalase_des_res  res_counts_1ns\n",
       "0  <Residue ASN, 3>           101.0\n",
       "1  <Residue ARG, 4>           101.0\n",
       "2  <Residue ASP, 5>           101.0\n",
       "3  <Residue PRO, 6>           101.0\n",
       "4  <Residue ALA, 7>           101.0"
      ]
     },
     "execution_count": 18,
     "metadata": {},
     "output_type": "execute_result"
    }
   ],
   "source": [
    "cat_resdat['res_counts_1ns'] = final_res\n",
    "cat_resdat.head()"
   ]
  },
  {
   "cell_type": "code",
   "execution_count": 33,
   "metadata": {},
   "outputs": [
    {
     "data": {
      "text/plain": [
       "498"
      ]
     },
     "execution_count": 33,
     "metadata": {},
     "output_type": "execute_result"
    }
   ],
   "source": [
    "len(range(3,501))"
   ]
  },
  {
   "cell_type": "code",
   "execution_count": 34,
   "metadata": {},
   "outputs": [
    {
     "data": {
      "text/plain": [
       "498"
      ]
     },
     "execution_count": 34,
     "metadata": {},
     "output_type": "execute_result"
    }
   ],
   "source": [
    "len(range(1,499))"
   ]
  },
  {
   "cell_type": "code",
   "execution_count": 19,
   "metadata": {},
   "outputs": [],
   "source": [
    "chainA_vmd = pd.read_csv(\"tout_loacl/occ_chainA.txt\", sep=\" \", header=None, usecols=None ,index_col=None)\n",
    "chainB_vmd = pd.read_csv(\"tout_loacl/occ_chainB.txt\", sep=\" \", header=None, usecols=None ,index_col=None)\n",
    "chainC_vmd = pd.read_csv(\"tout_loacl/occ_chainC.txt\", sep=\" \", header=None, usecols=None ,index_col=None)\n",
    "chainD_vmd = pd.read_csv(\"tout_loacl/occ_chainD.txt\", sep=\" \", header=None, usecols=None ,index_col=None)\n",
    "\n",
    "#chainA_vmd.drop([500], inplace=True)\n",
    "#chainA_vmd.drop([0], inplace=True)\n",
    "\n",
    "#chainB_vmd.drop([500], inplace=True)\n",
    "#chainB_vmd.drop([0], inplace=True)\n",
    "\n",
    "#chainC_vmd.drop([500], inplace=True)\n",
    "#chainC_vmd.drop([0], inplace=True)\n",
    "\n",
    "#chainD_vmd.drop([500], inplace=True)\n",
    "#chainD_vmd.drop([0], inplace=True)\n",
    "\n",
    "chA_res = list(chainA_vmd[1])\n",
    "chB_res = list(chainB_vmd[1])\n",
    "chC_res = list(chainC_vmd[1])\n",
    "chD_res = list(chainD_vmd[1])"
   ]
  },
  {
   "cell_type": "code",
   "execution_count": 20,
   "metadata": {},
   "outputs": [],
   "source": [
    "cat_vmd = chA_res + chB_res + chC_res + chD_res"
   ]
  },
  {
   "cell_type": "code",
   "execution_count": 21,
   "metadata": {},
   "outputs": [
    {
     "data": {
      "text/plain": [
       "1996"
      ]
     },
     "execution_count": 21,
     "metadata": {},
     "output_type": "execute_result"
    }
   ],
   "source": [
    "len(cat_vmd)"
   ]
  },
  {
   "cell_type": "code",
   "execution_count": 22,
   "metadata": {},
   "outputs": [
    {
     "data": {
      "text/plain": [
       "1996"
      ]
     },
     "execution_count": 22,
     "metadata": {},
     "output_type": "execute_result"
    }
   ],
   "source": [
    "len(final_res)"
   ]
  },
  {
   "cell_type": "code",
   "execution_count": 23,
   "metadata": {},
   "outputs": [],
   "source": [
    "cat_resdat['vmd_count_1ns'] = cat_vmd"
   ]
  },
  {
   "cell_type": "code",
   "execution_count": 24,
   "metadata": {},
   "outputs": [
    {
     "data": {
      "text/html": [
       "<div>\n",
       "<style scoped>\n",
       "    .dataframe tbody tr th:only-of-type {\n",
       "        vertical-align: middle;\n",
       "    }\n",
       "\n",
       "    .dataframe tbody tr th {\n",
       "        vertical-align: top;\n",
       "    }\n",
       "\n",
       "    .dataframe thead th {\n",
       "        text-align: right;\n",
       "    }\n",
       "</style>\n",
       "<table border=\"1\" class=\"dataframe\">\n",
       "  <thead>\n",
       "    <tr style=\"text-align: right;\">\n",
       "      <th></th>\n",
       "      <th>Catalase_des_res</th>\n",
       "      <th>res_counts_1ns</th>\n",
       "      <th>vmd_count_1ns</th>\n",
       "    </tr>\n",
       "  </thead>\n",
       "  <tbody>\n",
       "    <tr>\n",
       "      <th>0</th>\n",
       "      <td>&lt;Residue ASN, 3&gt;</td>\n",
       "      <td>101.0</td>\n",
       "      <td>0</td>\n",
       "    </tr>\n",
       "    <tr>\n",
       "      <th>1</th>\n",
       "      <td>&lt;Residue ARG, 4&gt;</td>\n",
       "      <td>101.0</td>\n",
       "      <td>0</td>\n",
       "    </tr>\n",
       "    <tr>\n",
       "      <th>2</th>\n",
       "      <td>&lt;Residue ASP, 5&gt;</td>\n",
       "      <td>101.0</td>\n",
       "      <td>102</td>\n",
       "    </tr>\n",
       "    <tr>\n",
       "      <th>3</th>\n",
       "      <td>&lt;Residue PRO, 6&gt;</td>\n",
       "      <td>101.0</td>\n",
       "      <td>102</td>\n",
       "    </tr>\n",
       "    <tr>\n",
       "      <th>4</th>\n",
       "      <td>&lt;Residue ALA, 7&gt;</td>\n",
       "      <td>101.0</td>\n",
       "      <td>102</td>\n",
       "    </tr>\n",
       "    <tr>\n",
       "      <th>5</th>\n",
       "      <td>&lt;Residue SER, 8&gt;</td>\n",
       "      <td>101.0</td>\n",
       "      <td>102</td>\n",
       "    </tr>\n",
       "    <tr>\n",
       "      <th>6</th>\n",
       "      <td>&lt;Residue ASP, 9&gt;</td>\n",
       "      <td>101.0</td>\n",
       "      <td>102</td>\n",
       "    </tr>\n",
       "    <tr>\n",
       "      <th>7</th>\n",
       "      <td>&lt;Residue GLN, 10&gt;</td>\n",
       "      <td>101.0</td>\n",
       "      <td>102</td>\n",
       "    </tr>\n",
       "    <tr>\n",
       "      <th>8</th>\n",
       "      <td>&lt;Residue MET, 11&gt;</td>\n",
       "      <td>101.0</td>\n",
       "      <td>102</td>\n",
       "    </tr>\n",
       "    <tr>\n",
       "      <th>9</th>\n",
       "      <td>&lt;Residue LYS, 12&gt;</td>\n",
       "      <td>101.0</td>\n",
       "      <td>102</td>\n",
       "    </tr>\n",
       "    <tr>\n",
       "      <th>10</th>\n",
       "      <td>&lt;Residue HIS, 13&gt;</td>\n",
       "      <td>101.0</td>\n",
       "      <td>102</td>\n",
       "    </tr>\n",
       "    <tr>\n",
       "      <th>11</th>\n",
       "      <td>&lt;Residue TRP, 14&gt;</td>\n",
       "      <td>101.0</td>\n",
       "      <td>102</td>\n",
       "    </tr>\n",
       "    <tr>\n",
       "      <th>12</th>\n",
       "      <td>&lt;Residue LYS, 15&gt;</td>\n",
       "      <td>101.0</td>\n",
       "      <td>102</td>\n",
       "    </tr>\n",
       "    <tr>\n",
       "      <th>13</th>\n",
       "      <td>&lt;Residue GLU, 16&gt;</td>\n",
       "      <td>101.0</td>\n",
       "      <td>102</td>\n",
       "    </tr>\n",
       "    <tr>\n",
       "      <th>14</th>\n",
       "      <td>&lt;Residue GLN, 17&gt;</td>\n",
       "      <td>101.0</td>\n",
       "      <td>102</td>\n",
       "    </tr>\n",
       "    <tr>\n",
       "      <th>15</th>\n",
       "      <td>&lt;Residue ARG, 18&gt;</td>\n",
       "      <td>101.0</td>\n",
       "      <td>102</td>\n",
       "    </tr>\n",
       "    <tr>\n",
       "      <th>16</th>\n",
       "      <td>&lt;Residue ALA, 19&gt;</td>\n",
       "      <td>101.0</td>\n",
       "      <td>102</td>\n",
       "    </tr>\n",
       "    <tr>\n",
       "      <th>17</th>\n",
       "      <td>&lt;Residue ALA, 20&gt;</td>\n",
       "      <td>101.0</td>\n",
       "      <td>102</td>\n",
       "    </tr>\n",
       "    <tr>\n",
       "      <th>18</th>\n",
       "      <td>&lt;Residue GLN, 21&gt;</td>\n",
       "      <td>101.0</td>\n",
       "      <td>102</td>\n",
       "    </tr>\n",
       "    <tr>\n",
       "      <th>19</th>\n",
       "      <td>&lt;Residue LYS, 22&gt;</td>\n",
       "      <td>101.0</td>\n",
       "      <td>102</td>\n",
       "    </tr>\n",
       "    <tr>\n",
       "      <th>20</th>\n",
       "      <td>&lt;Residue PRO, 23&gt;</td>\n",
       "      <td>101.0</td>\n",
       "      <td>102</td>\n",
       "    </tr>\n",
       "    <tr>\n",
       "      <th>21</th>\n",
       "      <td>&lt;Residue ASP, 24&gt;</td>\n",
       "      <td>101.0</td>\n",
       "      <td>102</td>\n",
       "    </tr>\n",
       "    <tr>\n",
       "      <th>22</th>\n",
       "      <td>&lt;Residue VAL, 25&gt;</td>\n",
       "      <td>101.0</td>\n",
       "      <td>102</td>\n",
       "    </tr>\n",
       "    <tr>\n",
       "      <th>23</th>\n",
       "      <td>&lt;Residue LEU, 26&gt;</td>\n",
       "      <td>90.0</td>\n",
       "      <td>102</td>\n",
       "    </tr>\n",
       "    <tr>\n",
       "      <th>24</th>\n",
       "      <td>&lt;Residue THR, 27&gt;</td>\n",
       "      <td>101.0</td>\n",
       "      <td>102</td>\n",
       "    </tr>\n",
       "    <tr>\n",
       "      <th>25</th>\n",
       "      <td>&lt;Residue THR, 28&gt;</td>\n",
       "      <td>101.0</td>\n",
       "      <td>102</td>\n",
       "    </tr>\n",
       "    <tr>\n",
       "      <th>26</th>\n",
       "      <td>&lt;Residue GLY, 29&gt;</td>\n",
       "      <td>101.0</td>\n",
       "      <td>102</td>\n",
       "    </tr>\n",
       "    <tr>\n",
       "      <th>27</th>\n",
       "      <td>&lt;Residue GLY, 30&gt;</td>\n",
       "      <td>100.0</td>\n",
       "      <td>102</td>\n",
       "    </tr>\n",
       "    <tr>\n",
       "      <th>28</th>\n",
       "      <td>&lt;Residue GLY, 31&gt;</td>\n",
       "      <td>101.0</td>\n",
       "      <td>102</td>\n",
       "    </tr>\n",
       "    <tr>\n",
       "      <th>29</th>\n",
       "      <td>&lt;Residue ASN, 32&gt;</td>\n",
       "      <td>101.0</td>\n",
       "      <td>102</td>\n",
       "    </tr>\n",
       "    <tr>\n",
       "      <th>...</th>\n",
       "      <td>...</td>\n",
       "      <td>...</td>\n",
       "      <td>...</td>\n",
       "    </tr>\n",
       "    <tr>\n",
       "      <th>1966</th>\n",
       "      <td>&lt;Residue PHE, 472&gt;</td>\n",
       "      <td>101.0</td>\n",
       "      <td>102</td>\n",
       "    </tr>\n",
       "    <tr>\n",
       "      <th>1967</th>\n",
       "      <td>&lt;Residue ILE, 473&gt;</td>\n",
       "      <td>101.0</td>\n",
       "      <td>102</td>\n",
       "    </tr>\n",
       "    <tr>\n",
       "      <th>1968</th>\n",
       "      <td>&lt;Residue GLN, 474&gt;</td>\n",
       "      <td>101.0</td>\n",
       "      <td>102</td>\n",
       "    </tr>\n",
       "    <tr>\n",
       "      <th>1969</th>\n",
       "      <td>&lt;Residue LYS, 475&gt;</td>\n",
       "      <td>101.0</td>\n",
       "      <td>45</td>\n",
       "    </tr>\n",
       "    <tr>\n",
       "      <th>1970</th>\n",
       "      <td>&lt;Residue LYS, 476&gt;</td>\n",
       "      <td>101.0</td>\n",
       "      <td>102</td>\n",
       "    </tr>\n",
       "    <tr>\n",
       "      <th>1971</th>\n",
       "      <td>&lt;Residue ALA, 477&gt;</td>\n",
       "      <td>101.0</td>\n",
       "      <td>102</td>\n",
       "    </tr>\n",
       "    <tr>\n",
       "      <th>1972</th>\n",
       "      <td>&lt;Residue VAL, 478&gt;</td>\n",
       "      <td>101.0</td>\n",
       "      <td>102</td>\n",
       "    </tr>\n",
       "    <tr>\n",
       "      <th>1973</th>\n",
       "      <td>&lt;Residue LYS, 479&gt;</td>\n",
       "      <td>101.0</td>\n",
       "      <td>77</td>\n",
       "    </tr>\n",
       "    <tr>\n",
       "      <th>1974</th>\n",
       "      <td>&lt;Residue ASN, 480&gt;</td>\n",
       "      <td>101.0</td>\n",
       "      <td>102</td>\n",
       "    </tr>\n",
       "    <tr>\n",
       "      <th>1975</th>\n",
       "      <td>&lt;Residue PHE, 481&gt;</td>\n",
       "      <td>101.0</td>\n",
       "      <td>102</td>\n",
       "    </tr>\n",
       "    <tr>\n",
       "      <th>1976</th>\n",
       "      <td>&lt;Residue SER, 482&gt;</td>\n",
       "      <td>101.0</td>\n",
       "      <td>102</td>\n",
       "    </tr>\n",
       "    <tr>\n",
       "      <th>1977</th>\n",
       "      <td>&lt;Residue ASP, 483&gt;</td>\n",
       "      <td>101.0</td>\n",
       "      <td>102</td>\n",
       "    </tr>\n",
       "    <tr>\n",
       "      <th>1978</th>\n",
       "      <td>&lt;Residue VAL, 484&gt;</td>\n",
       "      <td>101.0</td>\n",
       "      <td>102</td>\n",
       "    </tr>\n",
       "    <tr>\n",
       "      <th>1979</th>\n",
       "      <td>&lt;Residue HIS, 485&gt;</td>\n",
       "      <td>101.0</td>\n",
       "      <td>102</td>\n",
       "    </tr>\n",
       "    <tr>\n",
       "      <th>1980</th>\n",
       "      <td>&lt;Residue PRO, 486&gt;</td>\n",
       "      <td>101.0</td>\n",
       "      <td>94</td>\n",
       "    </tr>\n",
       "    <tr>\n",
       "      <th>1981</th>\n",
       "      <td>&lt;Residue GLU, 487&gt;</td>\n",
       "      <td>101.0</td>\n",
       "      <td>102</td>\n",
       "    </tr>\n",
       "    <tr>\n",
       "      <th>1982</th>\n",
       "      <td>&lt;Residue TYR, 488&gt;</td>\n",
       "      <td>101.0</td>\n",
       "      <td>102</td>\n",
       "    </tr>\n",
       "    <tr>\n",
       "      <th>1983</th>\n",
       "      <td>&lt;Residue GLY, 489&gt;</td>\n",
       "      <td>101.0</td>\n",
       "      <td>102</td>\n",
       "    </tr>\n",
       "    <tr>\n",
       "      <th>1984</th>\n",
       "      <td>&lt;Residue SER, 490&gt;</td>\n",
       "      <td>101.0</td>\n",
       "      <td>72</td>\n",
       "    </tr>\n",
       "    <tr>\n",
       "      <th>1985</th>\n",
       "      <td>&lt;Residue ARG, 491&gt;</td>\n",
       "      <td>101.0</td>\n",
       "      <td>88</td>\n",
       "    </tr>\n",
       "    <tr>\n",
       "      <th>1986</th>\n",
       "      <td>&lt;Residue ILE, 492&gt;</td>\n",
       "      <td>101.0</td>\n",
       "      <td>102</td>\n",
       "    </tr>\n",
       "    <tr>\n",
       "      <th>1987</th>\n",
       "      <td>&lt;Residue GLN, 493&gt;</td>\n",
       "      <td>101.0</td>\n",
       "      <td>102</td>\n",
       "    </tr>\n",
       "    <tr>\n",
       "      <th>1988</th>\n",
       "      <td>&lt;Residue ALA, 494&gt;</td>\n",
       "      <td>101.0</td>\n",
       "      <td>27</td>\n",
       "    </tr>\n",
       "    <tr>\n",
       "      <th>1989</th>\n",
       "      <td>&lt;Residue LEU, 495&gt;</td>\n",
       "      <td>101.0</td>\n",
       "      <td>102</td>\n",
       "    </tr>\n",
       "    <tr>\n",
       "      <th>1990</th>\n",
       "      <td>&lt;Residue LEU, 496&gt;</td>\n",
       "      <td>101.0</td>\n",
       "      <td>102</td>\n",
       "    </tr>\n",
       "    <tr>\n",
       "      <th>1991</th>\n",
       "      <td>&lt;Residue ASP, 497&gt;</td>\n",
       "      <td>101.0</td>\n",
       "      <td>102</td>\n",
       "    </tr>\n",
       "    <tr>\n",
       "      <th>1992</th>\n",
       "      <td>&lt;Residue LYS, 498&gt;</td>\n",
       "      <td>101.0</td>\n",
       "      <td>100</td>\n",
       "    </tr>\n",
       "    <tr>\n",
       "      <th>1993</th>\n",
       "      <td>&lt;Residue TYR, 499&gt;</td>\n",
       "      <td>101.0</td>\n",
       "      <td>102</td>\n",
       "    </tr>\n",
       "    <tr>\n",
       "      <th>1994</th>\n",
       "      <td>&lt;Residue ASN, 500&gt;</td>\n",
       "      <td>101.0</td>\n",
       "      <td>102</td>\n",
       "    </tr>\n",
       "    <tr>\n",
       "      <th>1995</th>\n",
       "      <td>&lt;Residue GLU, 501&gt;</td>\n",
       "      <td>101.0</td>\n",
       "      <td>102</td>\n",
       "    </tr>\n",
       "  </tbody>\n",
       "</table>\n",
       "<p>1996 rows × 3 columns</p>\n",
       "</div>"
      ],
      "text/plain": [
       "        Catalase_des_res  res_counts_1ns  vmd_count_1ns\n",
       "0       <Residue ASN, 3>           101.0              0\n",
       "1       <Residue ARG, 4>           101.0              0\n",
       "2       <Residue ASP, 5>           101.0            102\n",
       "3       <Residue PRO, 6>           101.0            102\n",
       "4       <Residue ALA, 7>           101.0            102\n",
       "5       <Residue SER, 8>           101.0            102\n",
       "6       <Residue ASP, 9>           101.0            102\n",
       "7      <Residue GLN, 10>           101.0            102\n",
       "8      <Residue MET, 11>           101.0            102\n",
       "9      <Residue LYS, 12>           101.0            102\n",
       "10     <Residue HIS, 13>           101.0            102\n",
       "11     <Residue TRP, 14>           101.0            102\n",
       "12     <Residue LYS, 15>           101.0            102\n",
       "13     <Residue GLU, 16>           101.0            102\n",
       "14     <Residue GLN, 17>           101.0            102\n",
       "15     <Residue ARG, 18>           101.0            102\n",
       "16     <Residue ALA, 19>           101.0            102\n",
       "17     <Residue ALA, 20>           101.0            102\n",
       "18     <Residue GLN, 21>           101.0            102\n",
       "19     <Residue LYS, 22>           101.0            102\n",
       "20     <Residue PRO, 23>           101.0            102\n",
       "21     <Residue ASP, 24>           101.0            102\n",
       "22     <Residue VAL, 25>           101.0            102\n",
       "23     <Residue LEU, 26>            90.0            102\n",
       "24     <Residue THR, 27>           101.0            102\n",
       "25     <Residue THR, 28>           101.0            102\n",
       "26     <Residue GLY, 29>           101.0            102\n",
       "27     <Residue GLY, 30>           100.0            102\n",
       "28     <Residue GLY, 31>           101.0            102\n",
       "29     <Residue ASN, 32>           101.0            102\n",
       "...                  ...             ...            ...\n",
       "1966  <Residue PHE, 472>           101.0            102\n",
       "1967  <Residue ILE, 473>           101.0            102\n",
       "1968  <Residue GLN, 474>           101.0            102\n",
       "1969  <Residue LYS, 475>           101.0             45\n",
       "1970  <Residue LYS, 476>           101.0            102\n",
       "1971  <Residue ALA, 477>           101.0            102\n",
       "1972  <Residue VAL, 478>           101.0            102\n",
       "1973  <Residue LYS, 479>           101.0             77\n",
       "1974  <Residue ASN, 480>           101.0            102\n",
       "1975  <Residue PHE, 481>           101.0            102\n",
       "1976  <Residue SER, 482>           101.0            102\n",
       "1977  <Residue ASP, 483>           101.0            102\n",
       "1978  <Residue VAL, 484>           101.0            102\n",
       "1979  <Residue HIS, 485>           101.0            102\n",
       "1980  <Residue PRO, 486>           101.0             94\n",
       "1981  <Residue GLU, 487>           101.0            102\n",
       "1982  <Residue TYR, 488>           101.0            102\n",
       "1983  <Residue GLY, 489>           101.0            102\n",
       "1984  <Residue SER, 490>           101.0             72\n",
       "1985  <Residue ARG, 491>           101.0             88\n",
       "1986  <Residue ILE, 492>           101.0            102\n",
       "1987  <Residue GLN, 493>           101.0            102\n",
       "1988  <Residue ALA, 494>           101.0             27\n",
       "1989  <Residue LEU, 495>           101.0            102\n",
       "1990  <Residue LEU, 496>           101.0            102\n",
       "1991  <Residue ASP, 497>           101.0            102\n",
       "1992  <Residue LYS, 498>           101.0            100\n",
       "1993  <Residue TYR, 499>           101.0            102\n",
       "1994  <Residue ASN, 500>           101.0            102\n",
       "1995  <Residue GLU, 501>           101.0            102\n",
       "\n",
       "[1996 rows x 3 columns]"
      ]
     },
     "execution_count": 24,
     "metadata": {},
     "output_type": "execute_result"
    }
   ],
   "source": [
    "cat_resdat"
   ]
  },
  {
   "cell_type": "code",
   "execution_count": 25,
   "metadata": {},
   "outputs": [
    {
     "name": "stdout",
     "output_type": "stream",
     "text": [
      "130\n"
     ]
    }
   ],
   "source": [
    "# Number of residues that do not contact water within 4 Angstroms (130 residues), Calc'd from MD Analysis\n",
    "count = 0\n",
    "for index, row in cat_resdat.iterrows():\n",
    "    if row['res_counts_1ns'] != 101.0 and row['res_counts_1ns'] != 100.0:\n",
    "        #print(row['res_counts_1ns'])\n",
    "        count += 1\n",
    "print(count)        "
   ]
  },
  {
   "cell_type": "code",
   "execution_count": 26,
   "metadata": {},
   "outputs": [
    {
     "name": "stdout",
     "output_type": "stream",
     "text": [
      "146\n"
     ]
    }
   ],
   "source": [
    "# Number of residues that do not contact water within 4 Angstroms (130 residues), Calc'd from VMD\n",
    "count = 0\n",
    "for index, row in cat_resdat.iterrows():\n",
    "    if row['vmd_count_1ns'] != 102.0 and row['vmd_count_1ns'] != 101.0:\n",
    "        #print(row['vmd_count_1ns'])\n",
    "        count += 1\n",
    "print(count) "
   ]
  },
  {
   "cell_type": "code",
   "execution_count": 27,
   "metadata": {},
   "outputs": [],
   "source": [
    "a_a = [\"GLY\",\"ALA\",\"VAL\",\"LEU\",\"ILE\",\"MET\",\"PHE\",\"TRP\",\"PRO\",\"SER\",\"THR\",\"CYS\",\"TYR\",\"ASN\",\"GLN\",\"ASP\"\n",
    "               ,\"GLU\",\"LYS\",\"ARG\",\"HIS\"]"
   ]
  },
  {
   "cell_type": "code",
   "execution_count": 28,
   "metadata": {},
   "outputs": [],
   "source": [
    "# From MD Analysis\n",
    "#Get the count of bsa residues that have 1001 or 1002 frames ( I ran a 1 ns NPT simulation of 1 BSA in water )\n",
    "\n",
    "#aa_count = pd.DataFrame(data=a_a)\n",
    "c_list = []\n",
    "\n",
    "for i in range(len(a_a)):\n",
    "    count = 0\n",
    "    for index, row in cat_resdat.iterrows():\n",
    "        if a_a[i] in row[\"Catalase_des_res\"]:\n",
    "            if row['res_counts_1ns'] == 100.0: \n",
    "                #print(row['res_counts_1ns'])\n",
    "                count += 1\n",
    "                #c_list.append(str(str(a_a[i])+\"  \"+str(row['No. of frames']))) \n",
    "            elif row['res_counts_1ns'] == 101.0:\n",
    "                #print(row['res_counts_1ns'])\n",
    "                count += 1\n",
    "                #c_list.append(str(str(a_a[i])+\"  \"+str(row['No. of frames'])))\n",
    "    c_list.append(str(str(a_a[i])+\"  \"+str(count)))\n",
    "    \n",
    "#c_list"
   ]
  },
  {
   "cell_type": "code",
   "execution_count": 29,
   "metadata": {},
   "outputs": [],
   "source": [
    "# From VMD\n",
    "#Get the count of bsa residues that have 101 or 102 frames ( I ran a 1 ns NPT simulation of 1 catalase in water )\n",
    "\n",
    "#aa_count = pd.DataFrame(data=a_a)\n",
    "vmd_list = []\n",
    "\n",
    "for i in range(len(a_a)):\n",
    "    count = 0\n",
    "    for index, row in cat_resdat.iterrows():\n",
    "        if a_a[i] in row[\"Catalase_des_res\"]:\n",
    "            if row[\"vmd_count_1ns\"] == 101.0: \n",
    "                count += 1\n",
    "                #c_list.append(str(str(a_a[i])+\"  \"+str(row['No. of frames']))) \n",
    "            elif row[\"vmd_count_1ns\"] == 102.0:\n",
    "                count += 1\n",
    "                #c_list.append(str(str(a_a[i])+\"  \"+str(row['No. of frames'])))\n",
    "    vmd_list.append(str(str(a_a[i])+\"  \"+str(count)))"
   ]
  },
  {
   "cell_type": "code",
   "execution_count": 30,
   "metadata": {},
   "outputs": [
    {
     "data": {
      "text/plain": [
       "['GLY  125',\n",
       " 'ALA  132',\n",
       " 'VAL  124',\n",
       " 'LEU  123',\n",
       " 'ILE  70',\n",
       " 'MET  40',\n",
       " 'PHE  111',\n",
       " 'TRP  20',\n",
       " 'PRO  141',\n",
       " 'SER  89',\n",
       " 'THR  79',\n",
       " 'CYS  16',\n",
       " 'TYR  80',\n",
       " 'ASN  108',\n",
       " 'GLN  80',\n",
       " 'ASP  144',\n",
       " 'GLU  95',\n",
       " 'LYS  89',\n",
       " 'ARG  107',\n",
       " 'HIS  77']"
      ]
     },
     "execution_count": 30,
     "metadata": {},
     "output_type": "execute_result"
    }
   ],
   "source": [
    "vmd_list"
   ]
  },
  {
   "cell_type": "code",
   "execution_count": 31,
   "metadata": {},
   "outputs": [
    {
     "data": {
      "text/plain": [
       "['GLY  123',\n",
       " 'ALA  122',\n",
       " 'VAL  119',\n",
       " 'LEU  120',\n",
       " 'ILE  54',\n",
       " 'MET  38',\n",
       " 'PHE  110',\n",
       " 'TRP  20',\n",
       " 'PRO  143',\n",
       " 'SER  96',\n",
       " 'THR  86',\n",
       " 'CYS  12',\n",
       " 'TYR  73',\n",
       " 'ASN  116',\n",
       " 'GLN  81',\n",
       " 'ASP  149',\n",
       " 'GLU  96',\n",
       " 'LYS  100',\n",
       " 'ARG  124',\n",
       " 'HIS  84']"
      ]
     },
     "execution_count": 31,
     "metadata": {},
     "output_type": "execute_result"
    }
   ],
   "source": [
    "c_list"
   ]
  },
  {
   "cell_type": "code",
   "execution_count": 32,
   "metadata": {},
   "outputs": [
    {
     "data": {
      "text/html": [
       "<div>\n",
       "<style scoped>\n",
       "    .dataframe tbody tr th:only-of-type {\n",
       "        vertical-align: middle;\n",
       "    }\n",
       "\n",
       "    .dataframe tbody tr th {\n",
       "        vertical-align: top;\n",
       "    }\n",
       "\n",
       "    .dataframe thead th {\n",
       "        text-align: right;\n",
       "    }\n",
       "</style>\n",
       "<table border=\"1\" class=\"dataframe\">\n",
       "  <thead>\n",
       "    <tr style=\"text-align: right;\">\n",
       "      <th></th>\n",
       "      <th>Amino_acids</th>\n",
       "      <th>No_of_surf_res (MDAnalysis)</th>\n",
       "      <th>No_of_surf_res (VMD)</th>\n",
       "    </tr>\n",
       "  </thead>\n",
       "  <tbody>\n",
       "    <tr>\n",
       "      <th>0</th>\n",
       "      <td>LYS</td>\n",
       "      <td>100</td>\n",
       "      <td>89</td>\n",
       "    </tr>\n",
       "    <tr>\n",
       "      <th>1</th>\n",
       "      <td>ARG</td>\n",
       "      <td>124</td>\n",
       "      <td>107</td>\n",
       "    </tr>\n",
       "    <tr>\n",
       "      <th>2</th>\n",
       "      <td>HIS</td>\n",
       "      <td>84</td>\n",
       "      <td>77</td>\n",
       "    </tr>\n",
       "    <tr>\n",
       "      <th>3</th>\n",
       "      <td>ASP</td>\n",
       "      <td>149</td>\n",
       "      <td>144</td>\n",
       "    </tr>\n",
       "    <tr>\n",
       "      <th>4</th>\n",
       "      <td>GLU</td>\n",
       "      <td>96</td>\n",
       "      <td>95</td>\n",
       "    </tr>\n",
       "    <tr>\n",
       "      <th>5</th>\n",
       "      <td>SER</td>\n",
       "      <td>96</td>\n",
       "      <td>89</td>\n",
       "    </tr>\n",
       "    <tr>\n",
       "      <th>6</th>\n",
       "      <td>THR</td>\n",
       "      <td>86</td>\n",
       "      <td>79</td>\n",
       "    </tr>\n",
       "    <tr>\n",
       "      <th>7</th>\n",
       "      <td>CYS</td>\n",
       "      <td>12</td>\n",
       "      <td>16</td>\n",
       "    </tr>\n",
       "    <tr>\n",
       "      <th>8</th>\n",
       "      <td>TYR</td>\n",
       "      <td>73</td>\n",
       "      <td>80</td>\n",
       "    </tr>\n",
       "    <tr>\n",
       "      <th>9</th>\n",
       "      <td>ASN</td>\n",
       "      <td>116</td>\n",
       "      <td>108</td>\n",
       "    </tr>\n",
       "    <tr>\n",
       "      <th>10</th>\n",
       "      <td>GLN</td>\n",
       "      <td>81</td>\n",
       "      <td>80</td>\n",
       "    </tr>\n",
       "    <tr>\n",
       "      <th>11</th>\n",
       "      <td>GLY</td>\n",
       "      <td>123</td>\n",
       "      <td>125</td>\n",
       "    </tr>\n",
       "    <tr>\n",
       "      <th>12</th>\n",
       "      <td>ALA</td>\n",
       "      <td>122</td>\n",
       "      <td>132</td>\n",
       "    </tr>\n",
       "    <tr>\n",
       "      <th>13</th>\n",
       "      <td>VAL</td>\n",
       "      <td>119</td>\n",
       "      <td>124</td>\n",
       "    </tr>\n",
       "    <tr>\n",
       "      <th>14</th>\n",
       "      <td>LEU</td>\n",
       "      <td>120</td>\n",
       "      <td>123</td>\n",
       "    </tr>\n",
       "    <tr>\n",
       "      <th>15</th>\n",
       "      <td>ILE</td>\n",
       "      <td>54</td>\n",
       "      <td>70</td>\n",
       "    </tr>\n",
       "    <tr>\n",
       "      <th>16</th>\n",
       "      <td>MET</td>\n",
       "      <td>38</td>\n",
       "      <td>40</td>\n",
       "    </tr>\n",
       "    <tr>\n",
       "      <th>17</th>\n",
       "      <td>PHE</td>\n",
       "      <td>110</td>\n",
       "      <td>111</td>\n",
       "    </tr>\n",
       "    <tr>\n",
       "      <th>18</th>\n",
       "      <td>TRP</td>\n",
       "      <td>20</td>\n",
       "      <td>20</td>\n",
       "    </tr>\n",
       "    <tr>\n",
       "      <th>19</th>\n",
       "      <td>PRO</td>\n",
       "      <td>143</td>\n",
       "      <td>141</td>\n",
       "    </tr>\n",
       "  </tbody>\n",
       "</table>\n",
       "</div>"
      ],
      "text/plain": [
       "   Amino_acids  No_of_surf_res (MDAnalysis)  No_of_surf_res (VMD)\n",
       "0          LYS                          100                    89\n",
       "1          ARG                          124                   107\n",
       "2          HIS                           84                    77\n",
       "3          ASP                          149                   144\n",
       "4          GLU                           96                    95\n",
       "5          SER                           96                    89\n",
       "6          THR                           86                    79\n",
       "7          CYS                           12                    16\n",
       "8          TYR                           73                    80\n",
       "9          ASN                          116                   108\n",
       "10         GLN                           81                    80\n",
       "11         GLY                          123                   125\n",
       "12         ALA                          122                   132\n",
       "13         VAL                          119                   124\n",
       "14         LEU                          120                   123\n",
       "15         ILE                           54                    70\n",
       "16         MET                           38                    40\n",
       "17         PHE                          110                   111\n",
       "18         TRP                           20                    20\n",
       "19         PRO                          143                   141"
      ]
     },
     "execution_count": 32,
     "metadata": {},
     "output_type": "execute_result"
    }
   ],
   "source": [
    "#hydrophobic_res = ['ALA', 'ILE', 'LEU', 'VAL', 'GLY', 'PRO','PHE', 'TRP','MET']\n",
    "#polar_res = ['ASN', 'CYS', 'GLN', 'SER', 'THR','TYR']\n",
    "#neg_res = ['ASP', 'GLU']\n",
    "#pos_res = ['ARG', 'HIS', 'LYS']\n",
    "# aromatic_res = ['PHE', 'TRP', 'TYR', 'HIS']\n",
    "#all_res = [pos_res, neg_res, polar_res, hydrophobic_res]\n",
    "\n",
    "# Put the AA count in a pandas dataframe \n",
    "dg , ji = AA_list_org(c_list)\n",
    "aa_count = pd.DataFrame(data=dg, index=None, columns=['Amino_acids'])\n",
    "new_lf = pd.Series(data=ji, index=None)\n",
    "vmg, vmdj = AA_list_org(vmd_list)\n",
    "n2lf = pd.Series(data=vmdj, index=None)\n",
    "aa_count['No_of_surf_res (MDAnalysis)'] = new_lf\n",
    "aa_count['No_of_surf_res (VMD)'] = n2lf\n",
    "aa_count"
   ]
  },
  {
   "cell_type": "code",
   "execution_count": null,
   "metadata": {},
   "outputs": [],
   "source": [
    "x_pos = np.arange(5)\n",
    "width = 0.35\n",
    "aa_types = [\"Negative\", \"Positive\", \"Polar\", \"Hydrophobic\", \"Aromatic\"]\n",
    "plt.figure(figsize=(7,7))\n",
    "plt.bar(x_pos, fc_12nm_mean, width, yerr=fc_12nm_std, ecolor='black',capsize=5, color='royalblue')\n",
    "plt.bar(x_pos+width, fc_15nm_mean, width, yerr=fc_15nm_std, ecolor='black',capsize=5, color='c')"
   ]
  },
  {
   "cell_type": "code",
   "execution_count": 92,
   "metadata": {},
   "outputs": [
    {
     "data": {
      "text/plain": [
       "<matplotlib.legend.Legend at 0xd24383470>"
      ]
     },
     "execution_count": 92,
     "metadata": {},
     "output_type": "execute_result"
    },
    {
     "data": {
      "image/png": "[encoded data removed]",
      "text/plain": [
       "<Figure size 720x720 with 1 Axes>"
      ]
     },
     "metadata": {
      "needs_background": "light"
     },
     "output_type": "display_data"
    }
   ],
   "source": [
    "import matplotlib.patches as mpatches\n",
    "\n",
    "circ1= mpatches.Patch(facecolor='None',edgecolor='black', hatch=r'//',label='VMD')\n",
    "circ2= mpatches.Patch(facecolor='None', edgecolor='black',label='MD Analysis')\n",
    "circ3= mpatches.Patch(facecolor='blue',label='Positively Charged')\n",
    "circ4= mpatches.Patch(facecolor='red',label='Negatively Charged')\n",
    "circ5= mpatches.Patch(facecolor='magenta',label='Polar')\n",
    "circ6= mpatches.Patch(facecolor='cyan',label='Hydrophobic')\n",
    "\n",
    "#plotting \n",
    "#Change order of residues before making the bar graph\n",
    "# (!) Positively charged\n",
    "# (2) Negatively charged\n",
    "# (3) Polar residues \n",
    "# (4) Hydrophobic residues \n",
    "x = np.arange(20)\n",
    "width = 0.35\n",
    "#leg_1 = ['MD Analysis', 'VMD Calculation']\n",
    "leg = ['Positively Charged', 'Negatively Charged', 'Polar', 'Hydrophobic']\n",
    "plt.figure(figsize=(10,10))\n",
    "plt.bar(x[0:3]-(width/2), aa_count['No_of_surf_res (MDAnalysis)'][0:3], width, color='blue', edgecolor='black')\n",
    "plt.bar(x[0:3]+(width/2), aa_count['No_of_surf_res (VMD)'][0:3], width, color='blue', hatch='//', edgecolor='black')\n",
    "plt.bar(x[3:5]-(width/2), aa_count['No_of_surf_res (MDAnalysis)'][3:5], width, color='red', edgecolor='black')\n",
    "plt.bar(x[3:5]+(width/2), aa_count['No_of_surf_res (VMD)'][3:5], width, color='red', hatch='//', edgecolor='black')\n",
    "plt.bar(x[5:11]-(width/2), aa_count['No_of_surf_res (MDAnalysis)'][5:11], width, color='magenta', edgecolor='black')\n",
    "plt.bar(x[5:11]+(width/2), aa_count['No_of_surf_res (VMD)'][5:11], width, color='magenta', hatch='//'\n",
    "        , edgecolor='black')\n",
    "plt.bar(x[11:20]-(width/2), aa_count['No_of_surf_res (MDAnalysis)'][11:20], width, color='cyan', edgecolor='black')\n",
    "plt.bar(x[11:20]+(width/2), aa_count['No_of_surf_res (VMD)'][11:20], width, color='cyan'\n",
    "        , hatch='//', edgecolor='black')\n",
    "plt.xticks(x,aa_count['Amino_acids'], fontsize=12)\n",
    "legend1 = plt.legend(handles = [circ3, circ4, circ5, circ6],loc=1,fontsize=12, frameon=False)\n",
    "plt.legend(handles = [circ1, circ2],loc=0,fontsize=12, frameon=False)\n",
    "plt.gca().add_artist(legend1)\n",
    "\n",
    "# need to check residue indexing in my code"
   ]
  },
  {
   "cell_type": "code",
   "execution_count": 93,
   "metadata": {},
   "outputs": [
    {
     "data": {
      "text/plain": [
       "308"
      ]
     },
     "execution_count": 93,
     "metadata": {},
     "output_type": "execute_result"
    }
   ],
   "source": [
    "# Number of positively charged residues (MD analysis)\n",
    "aa_count['No_of_surf_res (MDAnalysis)'][0:3].sum()"
   ]
  },
  {
   "cell_type": "code",
   "execution_count": 94,
   "metadata": {},
   "outputs": [
    {
     "data": {
      "text/plain": [
       "245"
      ]
     },
     "execution_count": 94,
     "metadata": {},
     "output_type": "execute_result"
    }
   ],
   "source": [
    "# Number of negatively charged residues (MD Analysis)\n",
    "aa_count['No_of_surf_res (MDAnalysis)'][3:5].sum()"
   ]
  },
  {
   "cell_type": "code",
   "execution_count": 95,
   "metadata": {},
   "outputs": [
    {
     "data": {
      "text/plain": [
       "464"
      ]
     },
     "execution_count": 95,
     "metadata": {},
     "output_type": "execute_result"
    }
   ],
   "source": [
    "# Number of polar residues (MD Analysis)\n",
    "aa_count['No_of_surf_res (MDAnalysis)'][5:11].sum()"
   ]
  },
  {
   "cell_type": "code",
   "execution_count": 96,
   "metadata": {},
   "outputs": [
    {
     "data": {
      "text/plain": [
       "849"
      ]
     },
     "execution_count": 96,
     "metadata": {},
     "output_type": "execute_result"
    }
   ],
   "source": [
    "# Number of hydrophobic residues (MD Analysis)\n",
    "aa_count['No_of_surf_res (MDAnalysis)'][11:20].sum()"
   ]
  },
  {
   "cell_type": "code",
   "execution_count": 97,
   "metadata": {},
   "outputs": [
    {
     "data": {
      "text/plain": [
       "273"
      ]
     },
     "execution_count": 97,
     "metadata": {},
     "output_type": "execute_result"
    }
   ],
   "source": [
    "# Number of positively charged residues (VMD)\n",
    "aa_count['No_of_surf_res (VMD)'][0:3].sum()"
   ]
  },
  {
   "cell_type": "code",
   "execution_count": 98,
   "metadata": {},
   "outputs": [
    {
     "data": {
      "text/plain": [
       "239"
      ]
     },
     "execution_count": 98,
     "metadata": {},
     "output_type": "execute_result"
    }
   ],
   "source": [
    "# Number of negatively charged residues (VMD)\n",
    "aa_count['No_of_surf_res (VMD)'][3:5].sum()"
   ]
  },
  {
   "cell_type": "code",
   "execution_count": 99,
   "metadata": {},
   "outputs": [
    {
     "data": {
      "text/plain": [
       "452"
      ]
     },
     "execution_count": 99,
     "metadata": {},
     "output_type": "execute_result"
    }
   ],
   "source": [
    "# Number of polar residues (VMD)\n",
    "aa_count['No_of_surf_res (VMD)'][5:11].sum()"
   ]
  },
  {
   "cell_type": "code",
   "execution_count": 100,
   "metadata": {},
   "outputs": [
    {
     "data": {
      "text/plain": [
       "886"
      ]
     },
     "execution_count": 100,
     "metadata": {},
     "output_type": "execute_result"
    }
   ],
   "source": [
    "# Number of hydrophobic residues (VMD)\n",
    "aa_count['No_of_surf_res (VMD)'][11:20].sum()"
   ]
  },
  {
   "cell_type": "code",
   "execution_count": null,
   "metadata": {},
   "outputs": [],
   "source": []
  },
  {
   "cell_type": "code",
   "execution_count": null,
   "metadata": {},
   "outputs": [],
   "source": []
  },
  {
   "cell_type": "code",
   "execution_count": null,
   "metadata": {},
   "outputs": [],
   "source": []
  },
  {
   "cell_type": "code",
   "execution_count": null,
   "metadata": {},
   "outputs": [],
   "source": []
  },
  {
   "cell_type": "code",
   "execution_count": null,
   "metadata": {},
   "outputs": [],
   "source": []
  },
  {
   "cell_type": "code",
   "execution_count": null,
   "metadata": {},
   "outputs": [],
   "source": []
  }
 ],
 "metadata": {
  "anaconda-cloud": {},
  "kernelspec": {
   "display_name": "Python (ppc_env)",
   "language": "python",
   "name": "ppc_env"
  },
  "language_info": {
   "codemirror_mode": {
    "name": "ipython",
    "version": 3
   },
   "file_extension": ".py",
   "mimetype": "text/x-python",
   "name": "python",
   "nbconvert_exporter": "python",
   "pygments_lexer": "ipython3",
   "version": "3.6.8"
  }
 },
 "nbformat": 4,
 "nbformat_minor": 1
}
