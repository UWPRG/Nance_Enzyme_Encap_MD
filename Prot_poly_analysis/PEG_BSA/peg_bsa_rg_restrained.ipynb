{
 "cells": [
  {
   "cell_type": "code",
   "execution_count": 1,
   "metadata": {},
   "outputs": [],
   "source": [
    "#import the necessary modules \n",
    "%matplotlib inline \n",
    "import numpy as np \n",
    "import matplotlib.pyplot as plt \n",
    "import pandas as pd \n",
    "#import scipy\n",
    "import sklearn\n",
    "import itertools as it\n",
    "from itertools import cycle \n",
    "import os.path as op\n",
    "import timeit \n",
    "import json\n",
    "from matplotlib import animation\n",
    "import matplotlib.font_manager as font_manager\n",
    "from collections import namedtuple\n",
    "#from functools import partial\n",
    "#from pathlib import Path"
   ]
  },
  {
   "cell_type": "code",
   "execution_count": 2,
   "metadata": {},
   "outputs": [],
   "source": [
    "# Set plotting style\n",
    "plt.style.use('seaborn-white')\n",
    "\n",
    "from ipywidgets import interact, interactive, fixed, interact_manual\n",
    "import ipywidgets as widgets\n",
    "#import matplotlib.pyplot as plt"
   ]
  },
  {
   "cell_type": "code",
   "execution_count": 3,
   "metadata": {},
   "outputs": [],
   "source": [
    "%matplotlib widget"
   ]
  },
  {
   "cell_type": "code",
   "execution_count": 4,
   "metadata": {},
   "outputs": [
    {
     "data": {
      "text/plain": [
       "4"
      ]
     },
     "execution_count": 4,
     "metadata": {},
     "output_type": "execute_result"
    }
   ],
   "source": [
    "import multiprocessing as m_proc\n",
    "m_proc.cpu_count()"
   ]
  },
  {
   "cell_type": "markdown",
   "metadata": {},
   "source": [
    "### Now use MD Analysis to calculate no. of frames a center PEG residues and terminal PEG residue is with 4 Angstroms of BSA (0.9 nm restrained system)"
   ]
  },
  {
   "cell_type": "markdown",
   "metadata": {},
   "source": [
    "Import MDAnalysis"
   ]
  },
  {
   "cell_type": "code",
   "execution_count": 5,
   "metadata": {},
   "outputs": [],
   "source": [
    "from prot_polymer_analysis import get_protresd_list, aa_frmcount, grptwocnt_aa, gtwo_trjcnt \n",
    "from prot_polymer_analysis import frac_cont, bavg_frac_cnt, prot_poly_cntmovie, AA_list_org"
   ]
  },
  {
   "cell_type": "code",
   "execution_count": 6,
   "metadata": {},
   "outputs": [],
   "source": [
    "# Import MDAnalysis\n",
    "import MDAnalysis as mda\n",
    "import MDAnalysis.analysis.distances as maa_dist"
   ]
  },
  {
   "cell_type": "markdown",
   "metadata": {},
   "source": [
    "### First table will be total fractional contacts and oligomer occupancy values for each Rg value "
   ]
  },
  {
   "cell_type": "markdown",
   "metadata": {},
   "source": [
    "#### Distance-based analysis \n",
    "\n",
    "Find residues that have at least one atom within a cutoff $d = 4.0$ Angstrom near water molecules in BSA/water simulation\n",
    "\n",
    "Calculate the number of surface bsa residues from a 1 ns BSA/water simulation"
   ]
  },
  {
   "cell_type": "code",
   "execution_count": 7,
   "metadata": {},
   "outputs": [],
   "source": [
    "#Units of Angstroms \n",
    "dmax = 4.0 "
   ]
  },
  {
   "cell_type": "code",
   "execution_count": 8,
   "metadata": {},
   "outputs": [],
   "source": [
    "def middle_of_band(band_start, band_stop, plot_min=0, plot_max=60):\n",
    "    half_way = (band_stop - band_start) / 2\n",
    "    mid_band = band_start + half_way\n",
    "    plot_fraction = (mid_band - plot_min) / (plot_max - plot_min)\n",
    "\n",
    "    return plot_fraction"
   ]
  },
  {
   "cell_type": "markdown",
   "metadata": {},
   "source": [
    "# 0.9 nm PEG restrained Rg 100 ns trajectory"
   ]
  },
  {
   "cell_type": "markdown",
   "metadata": {},
   "source": [
    "Load the rg = 1.2 nm (3 PLGA N = 20 oligomer/BSA system) "
   ]
  },
  {
   "cell_type": "code",
   "execution_count": 9,
   "metadata": {},
   "outputs": [],
   "source": [
    "# Set up the MD Simulation, Make sure you do gmx trjconv -s topol.tpr -f confout.gro  -o new_conf.pdb \n",
    "# -dump 0 -n bsaplga_nk.ndx to generate \n",
    "# a new pdb file that contains unique chain identifiers \n",
    "u_n20PEG = mda.Universe(\"0.9nmPEG_res/0.9nm_bsapegonly.pdb\", \"0.9nmPEG_res/nopbc_0.9pegbsa.xtc\")"
   ]
  },
  {
   "cell_type": "code",
   "execution_count": 10,
   "metadata": {},
   "outputs": [
    {
     "data": {
      "text/plain": [
       "<Universe with 9665 atoms>"
      ]
     },
     "execution_count": 10,
     "metadata": {},
     "output_type": "execute_result"
    }
   ],
   "source": [
    "u_n20PEG"
   ]
  },
  {
   "cell_type": "markdown",
   "metadata": {},
   "source": [
    "Check that we are on the first frame"
   ]
  },
  {
   "cell_type": "code",
   "execution_count": 12,
   "metadata": {},
   "outputs": [
    {
     "data": {
      "text/plain": [
       "0"
      ]
     },
     "execution_count": 12,
     "metadata": {},
     "output_type": "execute_result"
    }
   ],
   "source": [
    "u_n20PEG.trajectory.frame"
   ]
  },
  {
   "cell_type": "code",
   "execution_count": 13,
   "metadata": {},
   "outputs": [
    {
     "data": {
      "text/plain": [
       "10001"
      ]
     },
     "execution_count": 13,
     "metadata": {},
     "output_type": "execute_result"
    }
   ],
   "source": [
    "pn20_len = len(u_n20PEG.trajectory)\n",
    "pn20_len"
   ]
  },
  {
   "cell_type": "code",
   "execution_count": 16,
   "metadata": {},
   "outputs": [],
   "source": [
    "# Select one polymer chain, heavy atoms only \n",
    "#all_pn20 = u_pn20.select_atoms(\"(resname sPLG PLG tPLG and segid B) and not type H\")\n",
    "\n",
    "#Select all the PLGA residues, heavy atoms only\n",
    "all_n20PEG = u_n20PEG.select_atoms(\"resname sPEG PEG tPEG and not type H\")\n",
    "#list(all_n20PEG)"
   ]
  },
  {
   "cell_type": "code",
   "execution_count": 18,
   "metadata": {},
   "outputs": [
    {
     "data": {
      "text/plain": [
       "<AtomGroup with 4653 atoms>"
      ]
     },
     "execution_count": 18,
     "metadata": {},
     "output_type": "execute_result"
    }
   ],
   "source": [
    "# Select BSA residues, heavy atoms only \n",
    "prot_09nm = u_n20PEG.select_atoms(\"protein and not type H\")\n",
    "prot_09nm"
   ]
  },
  {
   "cell_type": "markdown",
   "metadata": {},
   "source": [
    "Calculate AA frame counts for PLGA residues, 1.2 nm RG restraint, 100ns trajectory "
   ]
  },
  {
   "cell_type": "code",
   "execution_count": 19,
   "metadata": {},
   "outputs": [
    {
     "data": {
      "text/plain": [
       "247.88068541139364"
      ]
     },
     "execution_count": 19,
     "metadata": {},
     "output_type": "execute_result"
    }
   ],
   "source": [
    "#dmax = 4.0, protein group(4653 atoms), plga atom group (543 atoms), took 381.6 s (6 min 36s on 4 cores)\n",
    "start = 0\n",
    "end = pn20_len - 1\n",
    "s_time = timeit.default_timer()\n",
    "h2di_09nm = aa_frmcount(prot_09nm, all_n20PEG, dmax, u_n20PEG, start, end)\n",
    "timeit.default_timer() - s_time"
   ]
  },
  {
   "cell_type": "code",
   "execution_count": 20,
   "metadata": {},
   "outputs": [
    {
     "data": {
      "text/plain": [
       "194"
      ]
     },
     "execution_count": 20,
     "metadata": {},
     "output_type": "execute_result"
    }
   ],
   "source": [
    "len(h2di_09nm.keys())"
   ]
  },
  {
   "cell_type": "code",
   "execution_count": 21,
   "metadata": {},
   "outputs": [
    {
     "data": {
      "text/html": [
       "<div>\n",
       "<style scoped>\n",
       "    .dataframe tbody tr th:only-of-type {\n",
       "        vertical-align: middle;\n",
       "    }\n",
       "\n",
       "    .dataframe tbody tr th {\n",
       "        vertical-align: top;\n",
       "    }\n",
       "\n",
       "    .dataframe thead th {\n",
       "        text-align: right;\n",
       "    }\n",
       "</style>\n",
       "<table border=\"1\" class=\"dataframe\">\n",
       "  <thead>\n",
       "    <tr style=\"text-align: right;\">\n",
       "      <th></th>\n",
       "      <th>BSA_des_res</th>\n",
       "      <th>mda_occ_0.9nm</th>\n",
       "    </tr>\n",
       "  </thead>\n",
       "  <tbody>\n",
       "    <tr>\n",
       "      <td>0</td>\n",
       "      <td>&lt;Residue ASP, 1&gt;</td>\n",
       "      <td>0.00</td>\n",
       "    </tr>\n",
       "    <tr>\n",
       "      <td>1</td>\n",
       "      <td>&lt;Residue THR, 2&gt;</td>\n",
       "      <td>0.00</td>\n",
       "    </tr>\n",
       "    <tr>\n",
       "      <td>2</td>\n",
       "      <td>&lt;Residue HIS, 3&gt;</td>\n",
       "      <td>0.00</td>\n",
       "    </tr>\n",
       "    <tr>\n",
       "      <td>3</td>\n",
       "      <td>&lt;Residue LYS, 4&gt;</td>\n",
       "      <td>0.00</td>\n",
       "    </tr>\n",
       "    <tr>\n",
       "      <td>4</td>\n",
       "      <td>&lt;Residue SER, 5&gt;</td>\n",
       "      <td>0.00</td>\n",
       "    </tr>\n",
       "    <tr>\n",
       "      <td>...</td>\n",
       "      <td>...</td>\n",
       "      <td>...</td>\n",
       "    </tr>\n",
       "    <tr>\n",
       "      <td>578</td>\n",
       "      <td>&lt;Residue GLN, 579&gt;</td>\n",
       "      <td>0.01</td>\n",
       "    </tr>\n",
       "    <tr>\n",
       "      <td>579</td>\n",
       "      <td>&lt;Residue THR, 580&gt;</td>\n",
       "      <td>0.07</td>\n",
       "    </tr>\n",
       "    <tr>\n",
       "      <td>580</td>\n",
       "      <td>&lt;Residue ALA, 581&gt;</td>\n",
       "      <td>0.02</td>\n",
       "    </tr>\n",
       "    <tr>\n",
       "      <td>581</td>\n",
       "      <td>&lt;Residue LEU, 582&gt;</td>\n",
       "      <td>0.00</td>\n",
       "    </tr>\n",
       "    <tr>\n",
       "      <td>582</td>\n",
       "      <td>&lt;Residue ALA, 583&gt;</td>\n",
       "      <td>0.00</td>\n",
       "    </tr>\n",
       "  </tbody>\n",
       "</table>\n",
       "<p>583 rows × 2 columns</p>\n",
       "</div>"
      ],
      "text/plain": [
       "            BSA_des_res  mda_occ_0.9nm\n",
       "0      <Residue ASP, 1>           0.00\n",
       "1      <Residue THR, 2>           0.00\n",
       "2      <Residue HIS, 3>           0.00\n",
       "3      <Residue LYS, 4>           0.00\n",
       "4      <Residue SER, 5>           0.00\n",
       "..                  ...            ...\n",
       "578  <Residue GLN, 579>           0.01\n",
       "579  <Residue THR, 580>           0.07\n",
       "580  <Residue ALA, 581>           0.02\n",
       "581  <Residue LEU, 582>           0.00\n",
       "582  <Residue ALA, 583>           0.00\n",
       "\n",
       "[583 rows x 2 columns]"
      ]
     },
     "execution_count": 21,
     "metadata": {},
     "output_type": "execute_result"
    }
   ],
   "source": [
    "pr_res_PEG = list(prot_09nm.residues)\n",
    "ss_res_PEG = [str(row) for row in pr_res_PEG]\n",
    "rkg_n = {key:h2di_09nm[key][1] for key, value in h2di_09nm.items()}\n",
    "plg_09nm_occ = pd.DataFrame(data=ss_res_PEG, columns=[\"BSA_des_res\"])\n",
    "plg_09nm_occ['mda_occ_0.9nm'] = plg_09nm_occ['BSA_des_res'].map(rkg_n)\n",
    "plg_09nm_occ['mda_occ_0.9nm'] = plg_09nm_occ['mda_occ_0.9nm'].replace('nan', np.nan).fillna(0)\n",
    "plg_09nm_occ['mda_occ_0.9nm'] = plg_09nm_occ['mda_occ_0.9nm'].round(2)\n",
    "plg_09nm_occ"
   ]
  },
  {
   "cell_type": "code",
   "execution_count": 22,
   "metadata": {},
   "outputs": [
    {
     "data": {
      "text/plain": [
       "31     0.08\n",
       "32     0.11\n",
       "33     0.02\n",
       "34     0.03\n",
       "36     0.01\n",
       "       ... \n",
       "575    0.18\n",
       "576    0.11\n",
       "578    0.01\n",
       "579    0.07\n",
       "580    0.02\n",
       "Name: mda_occ_0.9nm, Length: 124, dtype: float64"
      ]
     },
     "execution_count": 22,
     "metadata": {},
     "output_type": "execute_result"
    }
   ],
   "source": [
    "plg_09nm_occ['mda_occ_0.9nm'][plg_09nm_occ['mda_occ_0.9nm'] != 0]"
   ]
  },
  {
   "cell_type": "code",
   "execution_count": 23,
   "metadata": {},
   "outputs": [],
   "source": [
    "bsa_r = np.array(list(prot_09nm.resids)) # shape is 4652\n",
    "m_occ_09r = np.array(list(plg_09nm_occ['mda_occ_0.9nm'])) # shape is 583\n",
    "m_occ = np.zeros(shape=(4653))\n",
    "at_ind = np.where(bsa_r[:-1] != bsa_r[1:])[0]\n",
    "at_in_nw = np.sort(np.append([0,4653],at_ind))\n",
    "nw_v = 0\n",
    "for i in range(583):\n",
    "    b = at_in_nw[i+1] +1\n",
    "    m_occ[nw_v:b] = m_occ_09r[i]\n",
    "    nw_v = at_in_nw[i+1] + 1 "
   ]
  },
  {
   "cell_type": "code",
   "execution_count": 24,
   "metadata": {},
   "outputs": [
    {
     "data": {
      "text/plain": [
       "array([0.  , 0.  , 0.  , 0.  , 0.  , 0.  , 0.  , 0.  , 0.  , 0.  , 0.  ,\n",
       "       0.  , 0.01])"
      ]
     },
     "execution_count": 24,
     "metadata": {},
     "output_type": "execute_result"
    }
   ],
   "source": [
    "m_occ[633:646]"
   ]
  },
  {
   "cell_type": "markdown",
   "metadata": {},
   "source": [
    "### Visualize Occupanct on protein "
   ]
  },
  {
   "cell_type": "code",
   "execution_count": 25,
   "metadata": {},
   "outputs": [
    {
     "data": {
      "text/plain": [
       "array([0., 0., 0., ..., 0., 0., 0.])"
      ]
     },
     "execution_count": 25,
     "metadata": {},
     "output_type": "execute_result"
    }
   ],
   "source": [
    "prot_09nm.occupancies = m_occ\n",
    "prot_09nm.occupancies"
   ]
  },
  {
   "cell_type": "code",
   "execution_count": 26,
   "metadata": {},
   "outputs": [],
   "source": [
    "with mda.Writer(\"prot_09nmpegRes.pdb\") as pdb:\n",
    "    pdb.write(prot_09nm)"
   ]
  },
  {
   "cell_type": "code",
   "execution_count": null,
   "metadata": {},
   "outputs": [],
   "source": [
    "# Frame count and occupancy for each residue\n",
    "#h2di"
   ]
  },
  {
   "cell_type": "code",
   "execution_count": null,
   "metadata": {},
   "outputs": [],
   "source": [
    "len(h2di.keys())"
   ]
  },
  {
   "cell_type": "markdown",
   "metadata": {},
   "source": [
    "### Residue Importance: 0.9 nm restrained "
   ]
  },
  {
   "cell_type": "code",
   "execution_count": 27,
   "metadata": {},
   "outputs": [],
   "source": [
    "# Need to fix function, the residue number are not counting the other 2 PLGA oligomers cuz of same resid number\n",
    "trjmap_09nmPEG = prot_poly_cntmovie(prot_09nm, all_n20PEG, dmax, u_n20PEG, 0, 10000)\n",
    "#trj_ppmap_12nm_chC = prot_poly_cntmovie(prot, all_pn20_C, dmax, u_pn20, 0, 10000)"
   ]
  },
  {
   "cell_type": "code",
   "execution_count": 28,
   "metadata": {},
   "outputs": [],
   "source": [
    "np.save('0.9nmPEG_res.npy', trjmap_09nmPEG)    # .npy extension is added if not given"
   ]
  },
  {
   "cell_type": "code",
   "execution_count": null,
   "metadata": {},
   "outputs": [],
   "source": [
    "trjmap_09nmPEG = np.load(\"1.2nm_res.npy\", allow_pickle=True)"
   ]
  },
  {
   "cell_type": "code",
   "execution_count": 29,
   "metadata": {},
   "outputs": [
    {
     "data": {
      "text/plain": [
       "(583, 60)"
      ]
     },
     "execution_count": 29,
     "metadata": {},
     "output_type": "execute_result"
    }
   ],
   "source": [
    "trjmap_09nmPEG[0].shape"
   ]
  },
  {
   "cell_type": "code",
   "execution_count": 30,
   "metadata": {},
   "outputs": [
    {
     "data": {
      "text/plain": [
       "0.0"
      ]
     },
     "execution_count": 30,
     "metadata": {},
     "output_type": "execute_result"
    }
   ],
   "source": [
    "np.sum(trjmap_09nmPEG[1000][0])"
   ]
  },
  {
   "cell_type": "code",
   "execution_count": 31,
   "metadata": {},
   "outputs": [
    {
     "data": {
      "text/plain": [
       "(10000,)"
      ]
     },
     "execution_count": 31,
     "metadata": {},
     "output_type": "execute_result"
    }
   ],
   "source": [
    "kj = np.zeros(shape=(10000, 583))\n",
    "kj[:,582].shape"
   ]
  },
  {
   "cell_type": "code",
   "execution_count": 32,
   "metadata": {},
   "outputs": [],
   "source": [
    "pp_09nm_ct = np.zeros(shape=(10000, 583))\n",
    "for i in range(10000):\n",
    "    for j in range(583):\n",
    "        pp_09nm_ct[i][j] = np.sum(trjmap_09nmPEG[i][j])"
   ]
  },
  {
   "cell_type": "code",
   "execution_count": 33,
   "metadata": {},
   "outputs": [],
   "source": [
    "pp_09nmtot = np.zeros(shape=(583))\n",
    "for i in range(583):\n",
    "    pp_09nmtot[i] = np.sum(pp_09nm_ct[:,i])\n",
    "#pp_12nmtot"
   ]
  },
  {
   "cell_type": "code",
   "execution_count": 34,
   "metadata": {},
   "outputs": [
    {
     "data": {
      "text/plain": [
       "(array([ 31,  32,  33,  34,  35,  36,  37,  57,  58,  59,  81,  82,  83,\n",
       "         85,  99, 106, 108, 109, 110, 111, 112, 113, 114, 115, 116, 117,\n",
       "        118, 119, 120, 121, 123, 124, 127, 128, 131, 135, 139, 142, 143,\n",
       "        169, 170, 171, 172, 173, 174, 175, 177, 178, 179, 181, 182, 184,\n",
       "        185, 186, 201, 202, 203, 204, 205, 206, 207, 241, 277, 278, 279,\n",
       "        280, 284, 311, 318, 319, 321, 349, 350, 352, 353, 354, 356, 357,\n",
       "        358, 360, 361, 362, 363, 364, 365, 366, 367, 370, 374, 377, 378,\n",
       "        381, 393, 394, 398, 399, 415, 417, 419, 430, 433, 434, 436, 437,\n",
       "        443, 464, 465, 466, 467, 468, 469, 470, 472, 473, 474, 476, 477,\n",
       "        478, 481, 484, 485, 488, 489, 490, 492, 493, 494, 495, 496, 497,\n",
       "        498, 499, 500, 501, 502, 503, 504, 506, 507, 508, 509, 510, 511,\n",
       "        512, 513, 514, 515, 516, 517, 518, 519, 520, 522, 523, 536, 544,\n",
       "        545, 548, 550, 551, 554, 555, 556, 557, 558, 559, 560, 561, 562,\n",
       "        563, 564, 565, 566, 567, 568, 569, 570, 571, 572, 573, 574, 575,\n",
       "        576, 577, 578, 579, 580, 581, 582]),)"
      ]
     },
     "execution_count": 34,
     "metadata": {},
     "output_type": "execute_result"
    }
   ],
   "source": [
    "np.nonzero(pp_09nmtot)"
   ]
  },
  {
   "cell_type": "code",
   "execution_count": 37,
   "metadata": {},
   "outputs": [
    {
     "data": {
      "application/vnd.jupyter.widget-view+json": {
       "model_id": "",
       "version_major": 2,
       "version_minor": 0
      },
      "text/plain": [
       "Canvas(toolbar=Toolbar(toolitems=[('Home', 'Reset original view', 'home', 'home'), ('Back', 'Back to previous …"
      ]
     },
     "metadata": {},
     "output_type": "display_data"
    },
    {
     "data": {
      "text/plain": [
       "Text(0.5, 0, 'BSA Residue ID')"
      ]
     },
     "execution_count": 37,
     "metadata": {},
     "output_type": "execute_result"
    }
   ],
   "source": [
    "y_pos = np.arange(583) + 1\n",
    "wid = np.zeros(shape=583)\n",
    "wid += 2\n",
    "#wid\n",
    "fig = plt.figure(figsize=(12,12))\n",
    "fig.canvas.layout.width = '800px'\n",
    "fig.canvas.layout.height = '700px'\n",
    "plt.bar(y_pos, pp_09nmtot, align='center',width=wid, alpha=1, label='0.9 nm PEG')\n",
    "plt.xticks(fontsize=14)\n",
    "plt.yticks(fontsize=14)\n",
    "plt.xlim([0,600])\n",
    "plt.ylim([0,50000])\n",
    "plt.legend(fontsize=14)\n",
    "plt.ylabel(r'Total No. of PEG contacts', fontsize=15)\n",
    "plt.xlabel(r'BSA Residue ID', fontsize=15)"
   ]
  },
  {
   "cell_type": "markdown",
   "metadata": {},
   "source": [
    "### Total number of residues that are within 4 angstroms of a PEG oligomer residue within a 100 ns trajectory block"
   ]
  },
  {
   "cell_type": "code",
   "execution_count": 38,
   "metadata": {},
   "outputs": [],
   "source": [
    "a_a = [\"GLY\",\"ALA\",\"VAL\",\"LEU\",\"ILE\",\"MET\",\"PHE\",\"TRP\",\"PRO\",\"SER\",\"THR\",\"CYS\",\"TYR\",\"ASN\",\"GLN\",\"ASP\"\n",
    "               ,\"GLU\",\"LYS\",\"ARG\",\"HIS\"]"
   ]
  },
  {
   "cell_type": "code",
   "execution_count": 39,
   "metadata": {},
   "outputs": [],
   "source": [
    "# This code chunk gets the BSA residues and their corresponding number in a pandas dataframe \n",
    "red_bsa = []\n",
    "bh = np.arange(0,584)\n",
    "for i in range(583):\n",
    "    b_str = str(list(prot_09nm.residues[i:i+1]))\n",
    "    if str(bh[i+1]) in b_str: \n",
    "        red_bsa.append(str(b_str[10:13])+\" \"+str(bh[i+1]))"
   ]
  },
  {
   "cell_type": "code",
   "execution_count": 41,
   "metadata": {},
   "outputs": [
    {
     "data": {
      "text/html": [
       "<div>\n",
       "<style scoped>\n",
       "    .dataframe tbody tr th:only-of-type {\n",
       "        vertical-align: middle;\n",
       "    }\n",
       "\n",
       "    .dataframe tbody tr th {\n",
       "        vertical-align: top;\n",
       "    }\n",
       "\n",
       "    .dataframe thead th {\n",
       "        text-align: right;\n",
       "    }\n",
       "</style>\n",
       "<table border=\"1\" class=\"dataframe\">\n",
       "  <thead>\n",
       "    <tr style=\"text-align: right;\">\n",
       "      <th></th>\n",
       "      <th>BSA_des_res</th>\n",
       "      <th>mda_plga_frm_0.9nm</th>\n",
       "    </tr>\n",
       "  </thead>\n",
       "  <tbody>\n",
       "    <tr>\n",
       "      <td>578</td>\n",
       "      <td>GLN 579</td>\n",
       "      <td>107.0</td>\n",
       "    </tr>\n",
       "    <tr>\n",
       "      <td>579</td>\n",
       "      <td>THR 580</td>\n",
       "      <td>731.0</td>\n",
       "    </tr>\n",
       "    <tr>\n",
       "      <td>580</td>\n",
       "      <td>ALA 581</td>\n",
       "      <td>211.0</td>\n",
       "    </tr>\n",
       "    <tr>\n",
       "      <td>581</td>\n",
       "      <td>LEU 582</td>\n",
       "      <td>3.0</td>\n",
       "    </tr>\n",
       "    <tr>\n",
       "      <td>582</td>\n",
       "      <td>ALA 583</td>\n",
       "      <td>3.0</td>\n",
       "    </tr>\n",
       "  </tbody>\n",
       "</table>\n",
       "</div>"
      ],
      "text/plain": [
       "    BSA_des_res  mda_plga_frm_0.9nm\n",
       "578     GLN 579               107.0\n",
       "579     THR 580               731.0\n",
       "580     ALA 581               211.0\n",
       "581     LEU 582                 3.0\n",
       "582     ALA 583                 3.0"
      ]
     },
     "execution_count": 41,
     "metadata": {},
     "output_type": "execute_result"
    }
   ],
   "source": [
    "pr_res = list(prot_09nm.residues)\n",
    "ss_res = [str(row) for row in pr_res]\n",
    "rkg = {key:h2di_09nm[key][0] for key, value in h2di_09nm.items()}\n",
    "plg_09nmaa = pd.DataFrame(data=ss_res, columns=[\"BSA_des_res\"])\n",
    "plg_09nmaa['mda_plga_frm_0.9nm'] = plg_09nmaa['BSA_des_res'].map(rkg)\n",
    "plg_09nmaa['BSA_des_res'] = red_bsa\n",
    "plg_09nmaa['mda_plga_frm_0.9nm'] = plg_09nmaa['mda_plga_frm_0.9nm'].replace('nan', np.nan).fillna(0)\n",
    "plg_09nmaa.tail()"
   ]
  },
  {
   "cell_type": "code",
   "execution_count": 42,
   "metadata": {},
   "outputs": [],
   "source": [
    "# Read in data from the oputput of wrapper.sh, where the frame count is given for each BSA residue that was within \n",
    "# 4 angstroms of PLGA trimer \n",
    "wat_data = pd.read_csv('occ_BSA1ns.txt', sep=\" \", header=None, usecols=None ,index_col=None)\n",
    "wat_data.columns = [\"BSA_res_no\",\"No. of frames (VMD)\"]\n",
    "wat_data = wat_data.drop(\"BSA_res_no\", axis=1)\n",
    "\n",
    "pr_res = list(prot_09nm.residues)\n",
    "ss_res = [str(row) for row in pr_res]\n",
    "\n",
    "wat_data['BSA_des_res'] = ss_res\n",
    "wat_data = wat_data[['BSA_des_res',\"No. of frames (VMD)\"]]\n",
    "#wat_data.head()\n",
    "\n",
    "# load MDAnalysis values from MDA_BSA1ns.txt file(129003 atoms SOL group was used to calc. frame counts for txt.\n",
    "# file)\n",
    "h2ob_dict = json.load(open(\"MDA_BSA1ns.txt\"))\n",
    "wat_data['Mda_frames'] = wat_data['BSA_des_res'].map(h2ob_dict)\n",
    "\n",
    "\n",
    "# From MD Analysis\n",
    "#Get the count of bsa residues that have 1001 or 1002 frames ( I ran a 1 ns NPT simulation of 1 BSA in water )\n",
    "\n",
    "#aa_count = pd.DataFrame(data=a_a)\n",
    "c_list = []\n",
    "\n",
    "for i in range(len(a_a)):\n",
    "    count = 0\n",
    "    for index, row in wat_data.iterrows():\n",
    "        if a_a[i] in row[\"BSA_des_res\"]:\n",
    "            if row['Mda_frames'] == 1001: \n",
    "                count += 1\n",
    "                #c_list.append(str(str(a_a[i])+\"  \"+str(row['No. of frames']))) \n",
    "            elif row['Mda_frames'] == 1000:\n",
    "                count += 1\n",
    "                #c_list.append(str(str(a_a[i])+\"  \"+str(row['No. of frames'])))\n",
    "    c_list.append(str(str(a_a[i])+\"  \"+str(count)))\n",
    "    \n",
    "#c_list\n",
    "\n",
    "# From VMD\n",
    "#Get the count of bsa residues that have 1001 or 1002 frames ( I ran a 1 ns NPT simulation of 1 BSA in water )\n",
    "\n",
    "#aa_count = pd.DataFrame(data=a_a)\n",
    "vmd_list = []\n",
    "\n",
    "for i in range(len(a_a)):\n",
    "    count = 0\n",
    "    for index, row in wat_data.iterrows():\n",
    "        if a_a[i] in row[\"BSA_des_res\"]:\n",
    "            if row[\"No. of frames (VMD)\"] == 1001: \n",
    "                count += 1\n",
    "                #c_list.append(str(str(a_a[i])+\"  \"+str(row['No. of frames']))) \n",
    "            elif row[\"No. of frames (VMD)\"] == 1002:\n",
    "                count += 1\n",
    "                #c_list.append(str(str(a_a[i])+\"  \"+str(row['No. of frames'])))\n",
    "    vmd_list.append(str(str(a_a[i])+\"  \"+str(count)))\n",
    "\n",
    "# Main difference is that Alanine 583 is counted for all 1001 frames. It seems VMD is unable to calc dist for that res\n",
    "#vmd_list\n",
    "\n",
    "#hydrophobic_res = ['ALA', 'ILE', 'LEU', 'VAL', 'GLY', 'PRO','PHE', 'TRP','MET']\n",
    "#polar_res = ['ASN', 'CYS', 'GLN', 'SER', 'THR','TYR']\n",
    "#neg_res = ['ASP', 'GLU']\n",
    "#pos_res = ['ARG', 'HIS', 'LYS']\n",
    "# aromatic_res = ['PHE', 'TRP', 'TYR', 'HIS']\n",
    "#all_res = [pos_res, neg_res, polar_res, hydrophobic_res]\n",
    "\n",
    "# Put the AA count in a pandas dataframe \n",
    "dg , ji = AA_list_org(c_list)\n",
    "aa_count = pd.DataFrame(data=dg, index=None, columns=['Amino_acids'])\n",
    "new_lf = pd.Series(data=ji, index=None)\n",
    "vmg, vmdj = AA_list_org(vmd_list)\n",
    "n2lf = pd.Series(data=vmdj, index=None)\n",
    "aa_count['No_of_surf_res (MDAnalysis)'] = new_lf\n",
    "aa_count['No_of_surf_res (VMD)'] = n2lf"
   ]
  },
  {
   "cell_type": "code",
   "execution_count": 43,
   "metadata": {},
   "outputs": [
    {
     "data": {
      "text/html": [
       "<div>\n",
       "<style scoped>\n",
       "    .dataframe tbody tr th:only-of-type {\n",
       "        vertical-align: middle;\n",
       "    }\n",
       "\n",
       "    .dataframe tbody tr th {\n",
       "        vertical-align: top;\n",
       "    }\n",
       "\n",
       "    .dataframe thead th {\n",
       "        text-align: right;\n",
       "    }\n",
       "</style>\n",
       "<table border=\"1\" class=\"dataframe\">\n",
       "  <thead>\n",
       "    <tr style=\"text-align: right;\">\n",
       "      <th></th>\n",
       "      <th>Amino_acids</th>\n",
       "      <th>No_of_surf_res (MDAnalysis)</th>\n",
       "      <th>No_of_surf_res (VMD)</th>\n",
       "      <th>peg_0.9nm_100ns</th>\n",
       "    </tr>\n",
       "  </thead>\n",
       "  <tbody>\n",
       "    <tr>\n",
       "      <td>0</td>\n",
       "      <td>LYS</td>\n",
       "      <td>59</td>\n",
       "      <td>59</td>\n",
       "      <td>30</td>\n",
       "    </tr>\n",
       "    <tr>\n",
       "      <td>1</td>\n",
       "      <td>ARG</td>\n",
       "      <td>23</td>\n",
       "      <td>23</td>\n",
       "      <td>6</td>\n",
       "    </tr>\n",
       "    <tr>\n",
       "      <td>2</td>\n",
       "      <td>HIS</td>\n",
       "      <td>16</td>\n",
       "      <td>16</td>\n",
       "      <td>4</td>\n",
       "    </tr>\n",
       "    <tr>\n",
       "      <td>3</td>\n",
       "      <td>ASP</td>\n",
       "      <td>40</td>\n",
       "      <td>40</td>\n",
       "      <td>20</td>\n",
       "    </tr>\n",
       "    <tr>\n",
       "      <td>4</td>\n",
       "      <td>GLU</td>\n",
       "      <td>59</td>\n",
       "      <td>59</td>\n",
       "      <td>25</td>\n",
       "    </tr>\n",
       "    <tr>\n",
       "      <td>5</td>\n",
       "      <td>SER</td>\n",
       "      <td>23</td>\n",
       "      <td>23</td>\n",
       "      <td>6</td>\n",
       "    </tr>\n",
       "    <tr>\n",
       "      <td>6</td>\n",
       "      <td>THR</td>\n",
       "      <td>29</td>\n",
       "      <td>29</td>\n",
       "      <td>18</td>\n",
       "    </tr>\n",
       "    <tr>\n",
       "      <td>7</td>\n",
       "      <td>CYS</td>\n",
       "      <td>24</td>\n",
       "      <td>24</td>\n",
       "      <td>12</td>\n",
       "    </tr>\n",
       "    <tr>\n",
       "      <td>8</td>\n",
       "      <td>TYR</td>\n",
       "      <td>19</td>\n",
       "      <td>19</td>\n",
       "      <td>3</td>\n",
       "    </tr>\n",
       "    <tr>\n",
       "      <td>9</td>\n",
       "      <td>ASN</td>\n",
       "      <td>14</td>\n",
       "      <td>14</td>\n",
       "      <td>3</td>\n",
       "    </tr>\n",
       "    <tr>\n",
       "      <td>10</td>\n",
       "      <td>GLN</td>\n",
       "      <td>19</td>\n",
       "      <td>19</td>\n",
       "      <td>7</td>\n",
       "    </tr>\n",
       "    <tr>\n",
       "      <td>11</td>\n",
       "      <td>GLY</td>\n",
       "      <td>11</td>\n",
       "      <td>11</td>\n",
       "      <td>3</td>\n",
       "    </tr>\n",
       "    <tr>\n",
       "      <td>12</td>\n",
       "      <td>ALA</td>\n",
       "      <td>39</td>\n",
       "      <td>38</td>\n",
       "      <td>17</td>\n",
       "    </tr>\n",
       "    <tr>\n",
       "      <td>13</td>\n",
       "      <td>VAL</td>\n",
       "      <td>19</td>\n",
       "      <td>19</td>\n",
       "      <td>7</td>\n",
       "    </tr>\n",
       "    <tr>\n",
       "      <td>14</td>\n",
       "      <td>LEU</td>\n",
       "      <td>34</td>\n",
       "      <td>34</td>\n",
       "      <td>10</td>\n",
       "    </tr>\n",
       "    <tr>\n",
       "      <td>15</td>\n",
       "      <td>ILE</td>\n",
       "      <td>7</td>\n",
       "      <td>7</td>\n",
       "      <td>2</td>\n",
       "    </tr>\n",
       "    <tr>\n",
       "      <td>16</td>\n",
       "      <td>MET</td>\n",
       "      <td>3</td>\n",
       "      <td>3</td>\n",
       "      <td>0</td>\n",
       "    </tr>\n",
       "    <tr>\n",
       "      <td>17</td>\n",
       "      <td>PHE</td>\n",
       "      <td>20</td>\n",
       "      <td>20</td>\n",
       "      <td>6</td>\n",
       "    </tr>\n",
       "    <tr>\n",
       "      <td>18</td>\n",
       "      <td>TRP</td>\n",
       "      <td>2</td>\n",
       "      <td>2</td>\n",
       "      <td>0</td>\n",
       "    </tr>\n",
       "    <tr>\n",
       "      <td>19</td>\n",
       "      <td>PRO</td>\n",
       "      <td>27</td>\n",
       "      <td>27</td>\n",
       "      <td>15</td>\n",
       "    </tr>\n",
       "  </tbody>\n",
       "</table>\n",
       "</div>"
      ],
      "text/plain": [
       "   Amino_acids  No_of_surf_res (MDAnalysis)  No_of_surf_res (VMD)  \\\n",
       "0          LYS                           59                    59   \n",
       "1          ARG                           23                    23   \n",
       "2          HIS                           16                    16   \n",
       "3          ASP                           40                    40   \n",
       "4          GLU                           59                    59   \n",
       "5          SER                           23                    23   \n",
       "6          THR                           29                    29   \n",
       "7          CYS                           24                    24   \n",
       "8          TYR                           19                    19   \n",
       "9          ASN                           14                    14   \n",
       "10         GLN                           19                    19   \n",
       "11         GLY                           11                    11   \n",
       "12         ALA                           39                    38   \n",
       "13         VAL                           19                    19   \n",
       "14         LEU                           34                    34   \n",
       "15         ILE                            7                     7   \n",
       "16         MET                            3                     3   \n",
       "17         PHE                           20                    20   \n",
       "18         TRP                            2                     2   \n",
       "19         PRO                           27                    27   \n",
       "\n",
       "    peg_0.9nm_100ns  \n",
       "0                30  \n",
       "1                 6  \n",
       "2                 4  \n",
       "3                20  \n",
       "4                25  \n",
       "5                 6  \n",
       "6                18  \n",
       "7                12  \n",
       "8                 3  \n",
       "9                 3  \n",
       "10                7  \n",
       "11                3  \n",
       "12               17  \n",
       "13                7  \n",
       "14               10  \n",
       "15                2  \n",
       "16                0  \n",
       "17                6  \n",
       "18                0  \n",
       "19               15  "
      ]
     },
     "execution_count": 43,
     "metadata": {},
     "output_type": "execute_result"
    }
   ],
   "source": [
    "apl_list = []\n",
    "\n",
    "# Some residues don't have any contact with the 3 N = 20 PLGA oligomers within 100 ns,\n",
    "# Put residues that do have contact with BSA in a separate list\n",
    "for index, r_pl in plg_09nmaa.iterrows():\n",
    "    if r_pl['mda_plga_frm_0.9nm'] != 0:\n",
    "        apl_list.append(r_pl['BSA_des_res'])\n",
    "        \n",
    "# This chunk of code gets an AA count from the above list, in order \n",
    "# to get a total number of residues that contact BSA\n",
    "cpl_l = []\n",
    "\n",
    "for index, r_a in aa_count.iterrows():\n",
    "    count = 0\n",
    "    for i in range(len(apl_list)):\n",
    "        if r_a['Amino_acids'] in apl_list[i]:\n",
    "            count += 1\n",
    "    cpl_l.append(count)      \n",
    "        \n",
    "aa_count['peg_0.9nm_100ns'] = cpl_l\n",
    "aa_count"
   ]
  },
  {
   "cell_type": "code",
   "execution_count": 44,
   "metadata": {},
   "outputs": [
    {
     "data": {
      "text/plain": [
       "194"
      ]
     },
     "execution_count": 44,
     "metadata": {},
     "output_type": "execute_result"
    }
   ],
   "source": [
    "# This gives the total number of residues that are within 4 angstroms of a PLGA oligomer residue\n",
    "# within a 100 ns trajectory block\n",
    "aa_count['peg_0.9nm_100ns'].sum()"
   ]
  },
  {
   "cell_type": "code",
   "execution_count": 45,
   "metadata": {},
   "outputs": [
    {
     "data": {
      "text/plain": [
       "487"
      ]
     },
     "execution_count": 45,
     "metadata": {},
     "output_type": "execute_result"
    }
   ],
   "source": [
    "# This gives the total number of residues that are within 4 angstroms of a water molecule\n",
    "# within a 1 ns trajectory block\n",
    "aa_count['No_of_surf_res (MDAnalysis)'].sum()"
   ]
  },
  {
   "cell_type": "code",
   "execution_count": 46,
   "metadata": {},
   "outputs": [
    {
     "data": {
      "text/plain": [
       "0.39835728952772076"
      ]
     },
     "execution_count": 46,
     "metadata": {},
     "output_type": "execute_result"
    }
   ],
   "source": [
    "# This gives the total fraction of contacts within the 1.2 nm Rg 100 ns trajectory\n",
    "aa_count['peg_0.9nm_100ns'].sum()/aa_count['No_of_surf_res (MDAnalysis)'].sum()"
   ]
  },
  {
   "cell_type": "markdown",
   "metadata": {},
   "source": [
    "Calculate mean occupancy and the standard deviation for 1.2 nm trajectory\n",
    "\n",
    "Numpy mean and std function was used to calculate mean occupancy and std dev using occ values from aa_frmcount output"
   ]
  },
  {
   "cell_type": "code",
   "execution_count": 48,
   "metadata": {},
   "outputs": [
    {
     "name": "stdout",
     "output_type": "stream",
     "text": [
      "Mean Occpancy (1.2 nm Rg): 0.06283350515463916 Occ. std. dev.: 0.10240659289888122\n"
     ]
    }
   ],
   "source": [
    "# Mean occupancy and std deviation \n",
    "ll_mo = [value[1] for key, value in h2di_09nm.items()]\n",
    "print(\"Mean Occpancy (1.2 nm Rg): \"+str(np.mean(ll_mo)), \"Occ. std. dev.: \"+str(np.std(ll_mo)))"
   ]
  },
  {
   "cell_type": "markdown",
   "metadata": {},
   "source": [
    "### Calc. fractional contacts for each AA group type "
   ]
  },
  {
   "cell_type": "code",
   "execution_count": 50,
   "metadata": {},
   "outputs": [
    {
     "data": {
      "text/plain": [
       "{'Negative': [26902.0, 45, 115977.5111111111, 0.20873933170180392],\n",
       " 'Positive': [26702.0, 40, 129504.70000000001, 0.2330859170132059],\n",
       " 'Polar': [29110.0, 49, 115251.83673469388, 0.2074332441429725],\n",
       " 'Hydrophobic': [39183.0, 60, 126691.7, 0.22802300667436762],\n",
       " 'Aromatic': [4569.0, 13, 68183.53846153847, 0.12271850046765012]}"
      ]
     },
     "execution_count": 50,
     "metadata": {},
     "output_type": "execute_result"
    }
   ],
   "source": [
    "cd_12nm = frac_cont(h2di_09nm)\n",
    "cd_12nm"
   ]
  },
  {
   "cell_type": "code",
   "execution_count": 52,
   "metadata": {},
   "outputs": [
    {
     "data": {
      "text/plain": [
       "194"
      ]
     },
     "execution_count": 52,
     "metadata": {},
     "output_type": "execute_result"
    }
   ],
   "source": [
    "cd = frac_cont(h2di_09nm)\n",
    "kklh = []\n",
    "for key, value in cd.items():\n",
    "    kklh.append(value[1])\n",
    "# Must substract aromatic residues, since they are already counted\n",
    "sum(kklh) - cd['Aromatic'][1]"
   ]
  },
  {
   "cell_type": "code",
   "execution_count": null,
   "metadata": {},
   "outputs": [],
   "source": [
    "start = 0\n",
    "end = pn20_len - 1\n",
    "aa_12nm, l_f12nm = gtwo_trjcnt(prot, all_pn20, dmax, u_pn20, start, end)"
   ]
  },
  {
   "cell_type": "code",
   "execution_count": null,
   "metadata": {},
   "outputs": [],
   "source": [
    "aa_12nm"
   ]
  },
  {
   "cell_type": "code",
   "execution_count": null,
   "metadata": {},
   "outputs": [],
   "source": [
    "l_f12nm.shape"
   ]
  },
  {
   "cell_type": "code",
   "execution_count": 53,
   "metadata": {},
   "outputs": [
    {
     "data": {
      "text/plain": [
       "487"
      ]
     },
     "execution_count": 53,
     "metadata": {},
     "output_type": "execute_result"
    }
   ],
   "source": [
    "no_surf = aa_count['No_of_surf_res (MDAnalysis)'].sum()\n",
    "no_surf"
   ]
  },
  {
   "cell_type": "code",
   "execution_count": 54,
   "metadata": {},
   "outputs": [
    {
     "name": "stdout",
     "output_type": "stream",
     "text": [
      "0\n",
      "2000\n",
      "2000\n",
      "4000\n",
      "4000\n",
      "6000\n",
      "6000\n",
      "8000\n",
      "8000\n",
      "10000\n"
     ]
    }
   ],
   "source": [
    "fcnt_rg09nm, prgrp_09nm, aa_matx09nm = bavg_frac_cnt(5, prot_09nm, all_n20PEG, dmax, u_n20PEG, no_surf, 0, 10000)"
   ]
  },
  {
   "cell_type": "code",
   "execution_count": 55,
   "metadata": {},
   "outputs": [
    {
     "data": {
      "text/plain": [
       "{'Negative': array([0.26978892, 0.24464354, 0.15986034, 0.2694437 , 0.17687541]),\n",
       " 'Positive': array([0.04155673, 0.1394604 , 0.24358064, 0.2354513 , 0.30828733]),\n",
       " 'Polar': array([0.22955145, 0.25647741, 0.23648116, 0.2351478 , 0.22533673]),\n",
       " 'Hydrophobic': array([0.40567282, 0.34054284, 0.15364694, 0.14454155, 0.19553624]),\n",
       " 'Aromatic': array([0.05343008, 0.0188758 , 0.20643091, 0.11541565, 0.09396429]),\n",
       " 'total_frac': array([0.0698152 , 0.14373717, 0.15605749, 0.10472279, 0.25667351])}"
      ]
     },
     "execution_count": 55,
     "metadata": {},
     "output_type": "execute_result"
    }
   ],
   "source": [
    "fcnt_rg09nm"
   ]
  },
  {
   "cell_type": "code",
   "execution_count": 56,
   "metadata": {},
   "outputs": [
    {
     "data": {
      "text/plain": [
       "{'Negative': array([array([0.253     , 0.95445849]), array([3.4095    , 2.30169715]),\n",
       "        array([7.4865    , 3.90266803]), array([7.892     , 3.42130618]),\n",
       "        array([6.807     , 3.12518015])], dtype=object),\n",
       " 'Positive': array([array([0.0215    , 0.16744477]), array([3.3615    , 2.44802323]),\n",
       "        array([21.697     ,  8.73745907]),\n",
       "        array([24.724     ,  5.44654239]),\n",
       "        array([21.7855    ,  6.04404581])], dtype=object),\n",
       " 'Polar': array([array([0.185     , 0.65174765]), array([3.3375    , 2.06702534]),\n",
       "        array([10.666    ,  4.0496227]), array([8.5425    , 3.25717573]),\n",
       "        array([8.898     , 3.84221238])], dtype=object),\n",
       " 'Hydrophobic': array([array([0.516     , 1.74577891]), array([6.3125    , 3.48264896]),\n",
       "        array([13.187     ,  5.40129901]), array([8.288     , 4.16473961]),\n",
       "        array([8.3015    , 4.38378806])], dtype=object),\n",
       " 'Aromatic': array([array([0.0105   , 0.1318702]), array([0.057     , 0.42278955]),\n",
       "        array([2.057     , 2.39890621]), array([2.0295    , 2.27104156]),\n",
       "        array([0.9425    , 1.80919699])], dtype=object)}"
      ]
     },
     "execution_count": 56,
     "metadata": {},
     "output_type": "execute_result"
    }
   ],
   "source": [
    "prgrp_09nm"
   ]
  },
  {
   "cell_type": "code",
   "execution_count": 57,
   "metadata": {},
   "outputs": [
    {
     "data": {
      "text/plain": [
       "array([0.22412238, 0.19366728, 0.23659891, 0.24798808, 0.09762335])"
      ]
     },
     "execution_count": 57,
     "metadata": {},
     "output_type": "execute_result"
    }
   ],
   "source": [
    "fc_09nm_mean = np.array([np.mean(fcnt_rg09nm['Negative']), np.mean(fcnt_rg09nm['Positive'])\n",
    "                        ,np.mean(fcnt_rg09nm['Polar']),np.mean(fcnt_rg09nm['Hydrophobic'])\n",
    "                        , np.mean(fcnt_rg09nm['Aromatic'])])\n",
    "fc_09nm_mean"
   ]
  },
  {
   "cell_type": "code",
   "execution_count": 58,
   "metadata": {},
   "outputs": [
    {
     "data": {
      "text/plain": [
       "array([0.04673855, 0.09322125, 0.0107124 , 0.10562527, 0.06375463])"
      ]
     },
     "execution_count": 58,
     "metadata": {},
     "output_type": "execute_result"
    }
   ],
   "source": [
    "fc_09nm_std = np.array([np.std(fcnt_rg09nm['Negative']), np.std(fcnt_rg09nm['Positive'])\n",
    "                       ,np.std(fcnt_rg09nm['Polar']),np.std(fcnt_rg09nm['Hydrophobic'])\n",
    "                       , np.std(fcnt_rg09nm['Aromatic'])])\n",
    "fc_09nm_std"
   ]
  },
  {
   "cell_type": "code",
   "execution_count": 59,
   "metadata": {},
   "outputs": [
    {
     "data": {
      "application/vnd.jupyter.widget-view+json": {
       "model_id": "",
       "version_major": 2,
       "version_minor": 0
      },
      "text/plain": [
       "Canvas(toolbar=Toolbar(toolitems=[('Home', 'Reset original view', 'home', 'home'), ('Back', 'Back to previous …"
      ]
     },
     "metadata": {},
     "output_type": "display_data"
    },
    {
     "data": {
      "text/plain": [
       "Text(0, 0.5, 'Fractional Contacts')"
      ]
     },
     "execution_count": 59,
     "metadata": {},
     "output_type": "execute_result"
    }
   ],
   "source": [
    "x_pos = np.arange(5)\n",
    "aa_types = [\"Negative\", \"Positive\", \"Polar\", \"Hydrophobic\", \"Aromatic\"]\n",
    "fig = plt.figure(figsize=(7,7))\n",
    "fig.canvas.layout.width = '500px'\n",
    "fig.canvas.layout.height = '400px'\n",
    "plt.bar(x_pos, fc_09nm_mean, yerr=fc_09nm_std, ecolor='black',capsize=5, color='c')\n",
    "plt.title(r'Fractional Contacts 0.9 nm Rg restrained', fontsize=15)\n",
    "plt.xticks(x_pos, labels=aa_types, fontsize=12)\n",
    "plt.ylabel(r'Fractional Contacts', fontsize=15)"
   ]
  },
  {
   "cell_type": "markdown",
   "metadata": {},
   "source": [
    "### Total fraction of contacts: averages and std dev calc from 5 20ns blocks"
   ]
  },
  {
   "cell_type": "code",
   "execution_count": 60,
   "metadata": {},
   "outputs": [
    {
     "data": {
      "text/plain": [
       "0.1462012320328542"
      ]
     },
     "execution_count": 60,
     "metadata": {},
     "output_type": "execute_result"
    }
   ],
   "source": [
    "# Average of total fraction of contacts\n",
    "np.mean(fcnt_rg09nm['total_frac'])"
   ]
  },
  {
   "cell_type": "code",
   "execution_count": 61,
   "metadata": {},
   "outputs": [
    {
     "data": {
      "text/plain": [
       "0.06302797728259481"
      ]
     },
     "execution_count": 61,
     "metadata": {},
     "output_type": "execute_result"
    }
   ],
   "source": [
    "# Std Deviation of total fraction of contacts\n",
    "np.std(fcnt_rg09nm['total_frac'])"
   ]
  },
  {
   "cell_type": "markdown",
   "metadata": {},
   "source": [
    "### Avg no. PLGA residues per BSA AA residue group "
   ]
  },
  {
   "cell_type": "code",
   "execution_count": null,
   "metadata": {},
   "outputs": [],
   "source": [
    "prgrp_1_2nm"
   ]
  },
  {
   "cell_type": "code",
   "execution_count": null,
   "metadata": {},
   "outputs": [],
   "source": [
    "mean_12nm = np.zeros(shape=5)\n",
    "std_12nm = np.zeros(shape=5)\n",
    "count = 0\n",
    "for key, value in prgrp_1_2nm.items():\n",
    "    mpl_12nm = []\n",
    "    var_12nm = []\n",
    "    for i in prgrp_1_2nm[str(key)].flat:\n",
    "        mpl_12nm.append(i[0])\n",
    "        var_12nm.append((i[1])**2)\n",
    "    \n",
    "    # calc frac cont averages\n",
    "    mean_12nm[count] = np.mean(mpl_12nm)\n",
    "    \n",
    "    # calc frac cont std dev: https://stats.stackexchange.com/questions/25848/how-to-sum-a-standard-deviation \n",
    "    std_12nm[count] = np.std(mpl_12nm)\n",
    "    # std_12nm[count] = np.sqrt(np.sum(var_12nm)/5)\n",
    "    \n",
    "    count += 1\n"
   ]
  },
  {
   "cell_type": "code",
   "execution_count": null,
   "metadata": {},
   "outputs": [],
   "source": [
    "mean_12nm"
   ]
  },
  {
   "cell_type": "code",
   "execution_count": null,
   "metadata": {},
   "outputs": [],
   "source": [
    "std_12nm "
   ]
  },
  {
   "cell_type": "code",
   "execution_count": null,
   "metadata": {},
   "outputs": [],
   "source": [
    "x_pos = np.arange(5)\n",
    "aa_types = [\"Negative\", \"Positive\", \"Polar\", \"Hydrophobic\", \"Aromatic\"]\n",
    "plt.figure(figsize=(7,7))\n",
    "plt.bar(x_pos, mean_12nm, yerr=std_12nm, ecolor='black',capsize=5)\n",
    "plt.title(r'No. of PLGA residues 1.2 nm Rg restrained', fontsize=15)\n",
    "plt.xticks(x_pos, labels=aa_types, fontsize=12)\n",
    "plt.ylabel(r'No. of PLGA residues', fontsize=15)"
   ]
  },
  {
   "cell_type": "markdown",
   "metadata": {},
   "source": [
    "### Protein/polymer contact map movie"
   ]
  },
  {
   "cell_type": "code",
   "execution_count": null,
   "metadata": {},
   "outputs": [],
   "source": [
    "fig = plt.figure(figsize=(10,10))\n",
    "\n",
    "# Set the axis and the plot titles pp\n",
    "\n",
    "plt.title(\"BSA/PLGA contact map 1.2 nm res\", fontsize=22, loc='left')\n",
    "plt.xlabel(\"PLGA Residue No.\", fontsize=22)\n",
    "plt.ylabel(\"BSA Residue No.\", fontsize=20)\n",
    "\n",
    " # Set the axis range \n",
    "plt.ylim(583, 0)\n",
    "plt.xlim(0, 60)\n",
    "\n",
    "# Plot bands for each chain \n",
    "BANDS = (\n",
    "    (0, 20, \"purple\", \"B\"),\n",
    "    (20, 40, \"blue\", \"C\"),\n",
    "    (40, 60, \"green\", \"D\"),\n",
    ")\n",
    "    \n",
    "text_y = 0.98 # Close to the top\n",
    "for start, stop, color, band in BANDS:\n",
    "    plt.axvspan(start, stop,color=color, alpha=0.15)\n",
    "    text_x = middle_of_band(start,stop)\n",
    "    plt.text(\n",
    "        text_x,\n",
    "        text_y,\n",
    "        \"PLGA chain \" + band,\n",
    "        color=color,\n",
    "        fontsize=18,\n",
    "        transform=fig.gca().transAxes,\n",
    "        horizontalalignment='center',\n",
    "        verticalalignment='center',\n",
    "        style='italic',\n",
    "    )\n",
    "    \n",
    "plt.text(0.93, 1, \"Time [ns]:\", fontsize=20, transform=fig.gca().transAxes, horizontalalignment='right', verticalalignment='bottom')\n",
    "\n",
    "# Set tick label size\n",
    "fig.gca().tick_params(axis='both', which='major', labelsize=20)\n",
    "\n",
    "ims = []\n",
    "for i in range(10000):\n",
    "    data = trj_ppmap_12nm[i]\n",
    "    im = plt.imshow(data, aspect='auto', cmap='Greys')\n",
    "    t_sim = plt.text(1, 1, str(i/100), fontsize=20, transform=fig.gca().transAxes, horizontalalignment='right', verticalalignment='bottom')\n",
    "    ims.append([im, t_sim])\n",
    "    \n",
    "ani = animation.ArtistAnimation(fig, ims, blit=True, repeat=False)\n",
    "ani.save('1.2nm_res.mp4',writer='ffmpeg', fps=50, bitrate=100000)\n",
    "#plt.tight_layout()\n",
    "#plt.show()"
   ]
  },
  {
   "cell_type": "code",
   "execution_count": null,
   "metadata": {},
   "outputs": [],
   "source": [
    "def com_plga_oligs(g2_atoms, n_mon):\n",
    "    hj_1 = []\n",
    "    hj_2 = []\n",
    "    hj_3 = []\n",
    "    for i in range(n_mon):\n",
    "        if i == 0:\n",
    "            absdif = np.abs(np.diff(np.equal(list(g2_atoms.resids),i+1).view(np.int8)))\n",
    "            rep_pga = np.concatenate(([0], np.where(absdif == 1)[0]))\n",
    "            rep_pga += 1\n",
    "            #print(rep_pga)\n",
    "            rpn20 = rep_pga.reshape(3,2)\n",
    "            hj_1.append(g2_atoms[rpn20[0][0]:rpn20[0][1]].center_of_mass())\n",
    "            hj_2.append(g2_atoms[rpn20[1][0]:rpn20[1][1]].center_of_mass())\n",
    "            hj_3.append(g2_atoms[rpn20[2][0]:rpn20[2][1]].center_of_mass())\n",
    "        elif i != 0 and i != 19:\n",
    "            absdif = np.abs(np.diff(np.equal(list(g2_atoms.resids),i+1).view(np.int8)))\n",
    "            rep_pga = np.where(absdif == 1)[0]+1\n",
    "            #print(rep_pga)\n",
    "            rpn20 = rep_pga.reshape(3,2)\n",
    "            hj_1.append(g2_atoms[rpn20[0][0]:rpn20[0][1]].center_of_mass())\n",
    "            hj_2.append(g2_atoms[rpn20[1][0]:rpn20[1][1]].center_of_mass())\n",
    "            hj_3.append(g2_atoms[rpn20[2][0]:rpn20[2][1]].center_of_mass())\n",
    "        elif i == 19: \n",
    "            absdif = np.abs(np.diff(np.equal(list(g2_atoms.resids),i+1).view(np.int8)))\n",
    "            rep_pga = np.where(absdif == 1)[0]+1\n",
    "            rep_pga = np.concatenate((rep_pga,[len(g2_atoms)]))\n",
    "            #print(rep_pga)\n",
    "            rpn20 = rep_pga.reshape(3,2)\n",
    "            hj_1.append(g2_atoms[rpn20[0][0]:rpn20[0][1]].center_of_mass())\n",
    "            hj_2.append(g2_atoms[rpn20[1][0]:rpn20[1][1]].center_of_mass())\n",
    "            hj_3.append(g2_atoms[rpn20[2][0]:rpn20[2][1]].center_of_mass())\n",
    "    oligs_cb = np.concatenate((np.array(hj_1), np.array(hj_2), np.array(hj_3)))\n",
    "    \n",
    "    return oligs_cb"
   ]
  },
  {
   "cell_type": "code",
   "execution_count": null,
   "metadata": {},
   "outputs": [],
   "source": [
    "cm_12nmoligs = com_plga_oligs(all_pn20, 20)\n",
    "#cm_12nmoligs"
   ]
  },
  {
   "cell_type": "code",
   "execution_count": null,
   "metadata": {},
   "outputs": [],
   "source": [
    "len(cm_12nmoligs)"
   ]
  },
  {
   "cell_type": "markdown",
   "metadata": {},
   "source": [
    "# 1.1 nm PEG restrained Rg 100 ns trajectory"
   ]
  },
  {
   "cell_type": "markdown",
   "metadata": {},
   "source": [
    "Load the rg = 1.5 nm (3 PLGA N = 20 oligomer/BSA system) "
   ]
  },
  {
   "cell_type": "code",
   "execution_count": 62,
   "metadata": {},
   "outputs": [],
   "source": [
    "# Set up the MD Simulation\n",
    "u11nm_n20PEG = mda.Universe(\"1.1nmPEG_res/1.1nm_bsapegonly.pdb\", \"1.1nmPEG_res/nopbc_1.1pegbsa.xtc\")"
   ]
  },
  {
   "cell_type": "code",
   "execution_count": 63,
   "metadata": {},
   "outputs": [
    {
     "data": {
      "text/plain": [
       "<Universe with 9665 atoms>"
      ]
     },
     "execution_count": 63,
     "metadata": {},
     "output_type": "execute_result"
    }
   ],
   "source": [
    "u11nm_n20PEG"
   ]
  },
  {
   "cell_type": "code",
   "execution_count": 64,
   "metadata": {},
   "outputs": [
    {
     "data": {
      "text/plain": [
       "10001"
      ]
     },
     "execution_count": 64,
     "metadata": {},
     "output_type": "execute_result"
    }
   ],
   "source": [
    "pn20_11nm = len(u11nm_n20PEG.trajectory)\n",
    "pn20_11nm"
   ]
  },
  {
   "cell_type": "code",
   "execution_count": 65,
   "metadata": {},
   "outputs": [
    {
     "data": {
      "text/plain": [
       "<AtomGroup with 183 atoms>"
      ]
     },
     "execution_count": 65,
     "metadata": {},
     "output_type": "execute_result"
    }
   ],
   "source": [
    "#Select all the PLGA residues, heavy atoms only \n",
    "n20PEG_11nm = u11nm_n20PEG.select_atoms(\"resname sPEG PEG tPEG and not type H\")\n",
    "n20PEG_11nm"
   ]
  },
  {
   "cell_type": "code",
   "execution_count": 66,
   "metadata": {},
   "outputs": [
    {
     "data": {
      "text/plain": [
       "<AtomGroup with 4653 atoms>"
      ]
     },
     "execution_count": 66,
     "metadata": {},
     "output_type": "execute_result"
    }
   ],
   "source": [
    "# Select BSA residues, heavy atoms only \n",
    "prot_11nmPEG = u11nm_n20PEG.select_atoms(\"protein and not type H\")\n",
    "prot_11nmPEG"
   ]
  },
  {
   "cell_type": "markdown",
   "metadata": {},
   "source": [
    "### Contact Analysis"
   ]
  },
  {
   "cell_type": "code",
   "execution_count": 69,
   "metadata": {},
   "outputs": [],
   "source": [
    "#dmax = 4.0, protein group(4653 atoms), plga atom group (543 atoms), took 381.6 s (6 min 36s on 4 cores)\n",
    "start = 0\n",
    "end = pn20_11nm - 1\n",
    "s_time = timeit.default_timer()\n",
    "h2di_11nm = aa_frmcount(prot_11nmPEG, n20PEG_11nm, dmax, u11nm_n20PEG, start, end)\n",
    "timeit.default_timer() - s_time\n",
    "#h2di_11nm"
   ]
  },
  {
   "cell_type": "code",
   "execution_count": 68,
   "metadata": {},
   "outputs": [
    {
     "data": {
      "text/plain": [
       "254"
      ]
     },
     "execution_count": 68,
     "metadata": {},
     "output_type": "execute_result"
    }
   ],
   "source": [
    "len(h2di_11nm.keys())"
   ]
  },
  {
   "cell_type": "code",
   "execution_count": 70,
   "metadata": {},
   "outputs": [
    {
     "data": {
      "text/html": [
       "<div>\n",
       "<style scoped>\n",
       "    .dataframe tbody tr th:only-of-type {\n",
       "        vertical-align: middle;\n",
       "    }\n",
       "\n",
       "    .dataframe tbody tr th {\n",
       "        vertical-align: top;\n",
       "    }\n",
       "\n",
       "    .dataframe thead th {\n",
       "        text-align: right;\n",
       "    }\n",
       "</style>\n",
       "<table border=\"1\" class=\"dataframe\">\n",
       "  <thead>\n",
       "    <tr style=\"text-align: right;\">\n",
       "      <th></th>\n",
       "      <th>BSA_des_res</th>\n",
       "      <th>mda_occ_0.9nm</th>\n",
       "      <th>mda_occ_1.1nm</th>\n",
       "    </tr>\n",
       "  </thead>\n",
       "  <tbody>\n",
       "    <tr>\n",
       "      <td>0</td>\n",
       "      <td>&lt;Residue ASP, 1&gt;</td>\n",
       "      <td>0.00</td>\n",
       "      <td>0.00</td>\n",
       "    </tr>\n",
       "    <tr>\n",
       "      <td>1</td>\n",
       "      <td>&lt;Residue THR, 2&gt;</td>\n",
       "      <td>0.00</td>\n",
       "      <td>0.00</td>\n",
       "    </tr>\n",
       "    <tr>\n",
       "      <td>2</td>\n",
       "      <td>&lt;Residue HIS, 3&gt;</td>\n",
       "      <td>0.00</td>\n",
       "      <td>0.00</td>\n",
       "    </tr>\n",
       "    <tr>\n",
       "      <td>3</td>\n",
       "      <td>&lt;Residue LYS, 4&gt;</td>\n",
       "      <td>0.00</td>\n",
       "      <td>0.00</td>\n",
       "    </tr>\n",
       "    <tr>\n",
       "      <td>4</td>\n",
       "      <td>&lt;Residue SER, 5&gt;</td>\n",
       "      <td>0.00</td>\n",
       "      <td>0.00</td>\n",
       "    </tr>\n",
       "    <tr>\n",
       "      <td>...</td>\n",
       "      <td>...</td>\n",
       "      <td>...</td>\n",
       "      <td>...</td>\n",
       "    </tr>\n",
       "    <tr>\n",
       "      <td>578</td>\n",
       "      <td>&lt;Residue GLN, 579&gt;</td>\n",
       "      <td>0.01</td>\n",
       "      <td>0.12</td>\n",
       "    </tr>\n",
       "    <tr>\n",
       "      <td>579</td>\n",
       "      <td>&lt;Residue THR, 580&gt;</td>\n",
       "      <td>0.07</td>\n",
       "      <td>0.24</td>\n",
       "    </tr>\n",
       "    <tr>\n",
       "      <td>580</td>\n",
       "      <td>&lt;Residue ALA, 581&gt;</td>\n",
       "      <td>0.02</td>\n",
       "      <td>0.14</td>\n",
       "    </tr>\n",
       "    <tr>\n",
       "      <td>581</td>\n",
       "      <td>&lt;Residue LEU, 582&gt;</td>\n",
       "      <td>0.00</td>\n",
       "      <td>0.05</td>\n",
       "    </tr>\n",
       "    <tr>\n",
       "      <td>582</td>\n",
       "      <td>&lt;Residue ALA, 583&gt;</td>\n",
       "      <td>0.00</td>\n",
       "      <td>0.12</td>\n",
       "    </tr>\n",
       "  </tbody>\n",
       "</table>\n",
       "<p>583 rows × 3 columns</p>\n",
       "</div>"
      ],
      "text/plain": [
       "            BSA_des_res  mda_occ_0.9nm  mda_occ_1.1nm\n",
       "0      <Residue ASP, 1>           0.00           0.00\n",
       "1      <Residue THR, 2>           0.00           0.00\n",
       "2      <Residue HIS, 3>           0.00           0.00\n",
       "3      <Residue LYS, 4>           0.00           0.00\n",
       "4      <Residue SER, 5>           0.00           0.00\n",
       "..                  ...            ...            ...\n",
       "578  <Residue GLN, 579>           0.01           0.12\n",
       "579  <Residue THR, 580>           0.07           0.24\n",
       "580  <Residue ALA, 581>           0.02           0.14\n",
       "581  <Residue LEU, 582>           0.00           0.05\n",
       "582  <Residue ALA, 583>           0.00           0.12\n",
       "\n",
       "[583 rows x 3 columns]"
      ]
     },
     "execution_count": 70,
     "metadata": {},
     "output_type": "execute_result"
    }
   ],
   "source": [
    "pr_res_PEG = list(prot_11nmPEG.residues)\n",
    "ss_res_PEG = [str(row) for row in pr_res_PEG]\n",
    "rkg_n = {key:h2di_11nm[key][1] for key, value in h2di_11nm.items()}\n",
    "plg_09nm_occ['mda_occ_1.1nm'] = plg_09nm_occ['BSA_des_res'].map(rkg_n)\n",
    "plg_09nm_occ['mda_occ_1.1nm'] = plg_09nm_occ['mda_occ_1.1nm'].replace('nan', np.nan).fillna(0)\n",
    "plg_09nm_occ['mda_occ_1.1nm'] = plg_09nm_occ['mda_occ_1.1nm'].round(2)\n",
    "plg_09nm_occ"
   ]
  },
  {
   "cell_type": "code",
   "execution_count": 73,
   "metadata": {},
   "outputs": [
    {
     "data": {
      "text/html": [
       "<div>\n",
       "<style scoped>\n",
       "    .dataframe tbody tr th:only-of-type {\n",
       "        vertical-align: middle;\n",
       "    }\n",
       "\n",
       "    .dataframe tbody tr th {\n",
       "        vertical-align: top;\n",
       "    }\n",
       "\n",
       "    .dataframe thead th {\n",
       "        text-align: right;\n",
       "    }\n",
       "</style>\n",
       "<table border=\"1\" class=\"dataframe\">\n",
       "  <thead>\n",
       "    <tr style=\"text-align: right;\">\n",
       "      <th></th>\n",
       "      <th>BSA_des_res</th>\n",
       "      <th>mda_plga_frm_1.1nm</th>\n",
       "    </tr>\n",
       "  </thead>\n",
       "  <tbody>\n",
       "    <tr>\n",
       "      <td>0</td>\n",
       "      <td>ASP 1</td>\n",
       "      <td>3.0</td>\n",
       "    </tr>\n",
       "    <tr>\n",
       "      <td>1</td>\n",
       "      <td>THR 2</td>\n",
       "      <td>0.0</td>\n",
       "    </tr>\n",
       "    <tr>\n",
       "      <td>2</td>\n",
       "      <td>HIS 3</td>\n",
       "      <td>0.0</td>\n",
       "    </tr>\n",
       "    <tr>\n",
       "      <td>3</td>\n",
       "      <td>LYS 4</td>\n",
       "      <td>2.0</td>\n",
       "    </tr>\n",
       "    <tr>\n",
       "      <td>4</td>\n",
       "      <td>SER 5</td>\n",
       "      <td>0.0</td>\n",
       "    </tr>\n",
       "  </tbody>\n",
       "</table>\n",
       "</div>"
      ],
      "text/plain": [
       "  BSA_des_res  mda_plga_frm_1.1nm\n",
       "0       ASP 1                 3.0\n",
       "1       THR 2                 0.0\n",
       "2       HIS 3                 0.0\n",
       "3       LYS 4                 2.0\n",
       "4       SER 5                 0.0"
      ]
     },
     "execution_count": 73,
     "metadata": {},
     "output_type": "execute_result"
    }
   ],
   "source": [
    "pr_res11nm = list(prot_11nmPEG.residues)\n",
    "ss_res11nm = [str(row) for row in pr_res11nm]\n",
    "rkg_11nm = {key:h2di_11nm[key][0] for key, value in h2di_11nm.items()}\n",
    "plg_1_1nmaa = pd.DataFrame(data=ss_res11nm, columns=[\"BSA_des_res\"])\n",
    "plg_1_1nmaa['mda_plga_frm_1.1nm'] = plg_1_1nmaa['BSA_des_res'].map(rkg_11nm)\n",
    "plg_1_1nmaa['BSA_des_res'] = red_bsa\n",
    "plg_1_1nmaa['mda_plga_frm_1.1nm'] = plg_1_1nmaa['mda_plga_frm_1.1nm'].replace('nan', np.nan).fillna(0)\n",
    "plg_1_1nmaa.head()"
   ]
  },
  {
   "cell_type": "code",
   "execution_count": 74,
   "metadata": {},
   "outputs": [],
   "source": [
    "bsa_r = np.array(list(prot_11nmPEG.resids)) # shape is 4652\n",
    "m_occ_11nm = np.array(list(plg_09nm_occ['mda_occ_1.1nm'])) # shape is 583\n",
    "m_occ_11New = np.zeros(shape=(4653))\n",
    "at_ind = np.where(bsa_r[:-1] != bsa_r[1:])[0]\n",
    "at_in_nw = np.sort(np.append([0,4653],at_ind))\n",
    "nw_v = 0\n",
    "for i in range(583):\n",
    "    b = at_in_nw[i+1] +1\n",
    "    m_occ_11New[nw_v:b] = m_occ_11nm[i]\n",
    "    nw_v = at_in_nw[i+1] + 1 "
   ]
  },
  {
   "cell_type": "code",
   "execution_count": 75,
   "metadata": {},
   "outputs": [
    {
     "data": {
      "text/plain": [
       "array([0., 0., 0., 0., 0., 0., 0., 0., 0., 0., 0., 0., 0., 0., 0., 0., 0.,\n",
       "       0., 0., 0., 0., 0., 0., 0., 0., 0., 0., 0., 0., 0., 0., 0., 0.])"
      ]
     },
     "execution_count": 75,
     "metadata": {},
     "output_type": "execute_result"
    }
   ],
   "source": [
    "m_occ_11New[0:33]"
   ]
  },
  {
   "cell_type": "code",
   "execution_count": null,
   "metadata": {},
   "outputs": [],
   "source": [
    "prot_11nmPEG.occupancies[3089:3099]"
   ]
  },
  {
   "cell_type": "code",
   "execution_count": null,
   "metadata": {},
   "outputs": [],
   "source": [
    "list(prot_15nm.atoms[3089:3099])"
   ]
  },
  {
   "cell_type": "code",
   "execution_count": 76,
   "metadata": {},
   "outputs": [
    {
     "data": {
      "text/plain": [
       "(array([ 266,  267,  268, ..., 4650, 4651, 4652]),)"
      ]
     },
     "execution_count": 76,
     "metadata": {},
     "output_type": "execute_result"
    }
   ],
   "source": [
    "np.nonzero(m_occ_11New)"
   ]
  },
  {
   "cell_type": "markdown",
   "metadata": {},
   "source": [
    "### Visualize Occupanct on protein "
   ]
  },
  {
   "cell_type": "code",
   "execution_count": 77,
   "metadata": {},
   "outputs": [
    {
     "data": {
      "text/plain": [
       "array([0., 0., 0., 0., 0., 0., 0., 0., 0., 0., 0., 0., 0., 0., 0., 0., 0.,\n",
       "       0., 0., 0., 0., 0., 0., 0., 0., 0., 0., 0., 0., 0., 0., 0., 0.])"
      ]
     },
     "execution_count": 77,
     "metadata": {},
     "output_type": "execute_result"
    }
   ],
   "source": [
    "prot_11nmPEG.occupancies = m_occ_11New\n",
    "prot_11nmPEG.occupancies[0:33]"
   ]
  },
  {
   "cell_type": "code",
   "execution_count": 78,
   "metadata": {},
   "outputs": [],
   "source": [
    "with mda.Writer(\"prot_11nmpegRes.pdb\") as pdb:\n",
    "    pdb.write(prot_11nmPEG)"
   ]
  },
  {
   "cell_type": "markdown",
   "metadata": {},
   "source": [
    "### Residue Importance: 1.1 nm restrained "
   ]
  },
  {
   "cell_type": "code",
   "execution_count": 79,
   "metadata": {},
   "outputs": [],
   "source": [
    "# Need to fix function, the residue number are not counting the other 2 PLGA oligomers cuz of same resid number\n",
    "trjmap_11nmPEG = prot_poly_cntmovie(prot_11nmPEG, n20PEG_11nm, dmax, u11nm_n20PEG, 0, 10000)\n",
    "#trj_ppmap_12nm_chC = prot_poly_cntmovie(prot, all_pn20_C, dmax, u_pn20, 0, 10000)"
   ]
  },
  {
   "cell_type": "code",
   "execution_count": null,
   "metadata": {},
   "outputs": [],
   "source": [
    "trj_ppmap_15nm = np.load(\"1.5nm_res.npy\", allow_pickle=True)"
   ]
  },
  {
   "cell_type": "code",
   "execution_count": 80,
   "metadata": {},
   "outputs": [],
   "source": [
    "np.save('1.1nm_PEGres.npy', trjmap_11nmPEG)    # .npy extension is added if not given"
   ]
  },
  {
   "cell_type": "code",
   "execution_count": 81,
   "metadata": {},
   "outputs": [
    {
     "data": {
      "text/plain": [
       "(583, 60)"
      ]
     },
     "execution_count": 81,
     "metadata": {},
     "output_type": "execute_result"
    }
   ],
   "source": [
    "trjmap_11nmPEG[0].shape"
   ]
  },
  {
   "cell_type": "code",
   "execution_count": 82,
   "metadata": {},
   "outputs": [
    {
     "data": {
      "text/plain": [
       "0.0"
      ]
     },
     "execution_count": 82,
     "metadata": {},
     "output_type": "execute_result"
    }
   ],
   "source": [
    "np.sum(trjmap_11nmPEG[1000][0])"
   ]
  },
  {
   "cell_type": "code",
   "execution_count": 83,
   "metadata": {},
   "outputs": [
    {
     "data": {
      "text/plain": [
       "(10000,)"
      ]
     },
     "execution_count": 83,
     "metadata": {},
     "output_type": "execute_result"
    }
   ],
   "source": [
    "kj = np.zeros(shape=(10000, 583))\n",
    "kj[:,582].shape"
   ]
  },
  {
   "cell_type": "code",
   "execution_count": 84,
   "metadata": {},
   "outputs": [],
   "source": [
    "pp_11nm_ct = np.zeros(shape=(10000, 583))\n",
    "for i in range(10000):\n",
    "    for j in range(583):\n",
    "        pp_11nm_ct[i][j] = np.sum(trjmap_11nmPEG[i][j])"
   ]
  },
  {
   "cell_type": "code",
   "execution_count": 85,
   "metadata": {},
   "outputs": [],
   "source": [
    "pp_11nmtot = np.zeros(shape=(583))\n",
    "for i in range(583):\n",
    "    pp_11nmtot[i] = np.sum(pp_11nm_ct[:,i])\n",
    "#pp_12nmtot"
   ]
  },
  {
   "cell_type": "code",
   "execution_count": 86,
   "metadata": {},
   "outputs": [
    {
     "data": {
      "text/plain": [
       "(array([  0,   3,  11,  31,  32,  33,  34,  37,  47,  50,  53,  54,  55,\n",
       "         57,  77,  78,  80,  81,  82,  83,  84,  85,  88, 103, 104, 105,\n",
       "        106, 108, 109, 110, 111, 112, 113, 114, 115, 116, 138, 142, 154,\n",
       "        161, 164, 165, 166, 167, 168, 169, 171, 172, 174, 175, 177, 178,\n",
       "        179, 181, 182, 184, 185, 203, 222, 223, 224, 225, 226, 227, 268,\n",
       "        271, 272, 274, 275, 276, 280, 283, 286, 287, 290, 291, 292, 293,\n",
       "        294, 295, 296, 297, 298, 299, 300, 301, 302, 303, 304, 305, 306,\n",
       "        309, 310, 311, 312, 315, 316, 330, 334, 335, 336, 337, 338, 339,\n",
       "        360, 361, 362, 363, 365, 366, 369, 370, 372, 376, 379, 380, 382,\n",
       "        383, 386, 387, 390, 391, 392, 393, 394, 395, 396, 397, 398, 399,\n",
       "        400, 402, 403, 404, 407, 408, 415, 417, 418, 419, 420, 423, 430,\n",
       "        433, 434, 435, 436, 437, 438, 439, 440, 441, 442, 443, 444, 445,\n",
       "        457, 460, 461, 462, 463, 464, 465, 466, 467, 468, 469, 470, 472,\n",
       "        476, 493, 494, 495, 496, 497, 498, 499, 500, 501, 502, 503, 504,\n",
       "        505, 506, 507, 508, 509, 510, 511, 512, 513, 514, 515, 516, 517,\n",
       "        518, 519, 520, 521, 522, 523, 525, 526, 527, 529, 533, 534, 535,\n",
       "        536, 538, 539, 540, 541, 542, 543, 544, 545, 546, 547, 548, 550,\n",
       "        551, 552, 554, 555, 557, 558, 559, 560, 561, 562, 563, 564, 565,\n",
       "        566, 567, 568, 569, 570, 571, 572, 573, 574, 575, 576, 577, 578,\n",
       "        579, 580, 581, 582]),)"
      ]
     },
     "execution_count": 86,
     "metadata": {},
     "output_type": "execute_result"
    }
   ],
   "source": [
    "np.nonzero(pp_11nmtot)"
   ]
  },
  {
   "cell_type": "code",
   "execution_count": 94,
   "metadata": {},
   "outputs": [
    {
     "data": {
      "application/vnd.jupyter.widget-view+json": {
       "model_id": "",
       "version_major": 2,
       "version_minor": 0
      },
      "text/plain": [
       "Canvas(toolbar=Toolbar(toolitems=[('Home', 'Reset original view', 'home', 'home'), ('Back', 'Back to previous …"
      ]
     },
     "metadata": {},
     "output_type": "display_data"
    },
    {
     "data": {
      "text/plain": [
       "Text(0.5, 0, 'BSA Residue ID')"
      ]
     },
     "execution_count": 94,
     "metadata": {},
     "output_type": "execute_result"
    }
   ],
   "source": [
    "y_pos = np.arange(583) + 1\n",
    "wid = np.zeros(shape=583)\n",
    "wid += 1.5\n",
    "#wid\n",
    "fig = plt.figure(figsize=(12,12))\n",
    "fig.canvas.layout.width = '800px'\n",
    "fig.canvas.layout.height = '700px'\n",
    "plt.bar(y_pos+0.25, pp_11nmtot, align='center',width=wid, color='#562A8B', alpha=0.3, label='1.1 nm PEG')\n",
    "plt.bar(y_pos, pp_09nmtot, align='center',width=wid, alpha=0.5, color='#1D77CF',label='0.9 nm PEG')\n",
    "plt.xticks(fontsize=14)\n",
    "plt.yticks(fontsize=14)\n",
    "plt.xlim([0,600])\n",
    "plt.ylim([0,70000])\n",
    "plt.legend(fontsize=14)\n",
    "plt.ylabel(r'Total No. of PEG contacts', fontsize=15)\n",
    "plt.xlabel(r'BSA Residue ID', fontsize=15)"
   ]
  },
  {
   "cell_type": "markdown",
   "metadata": {},
   "source": [
    "### Total number of residues that are within 4 angstroms of a PLGA oligomer residue within a 100 ns trajectory block"
   ]
  },
  {
   "cell_type": "code",
   "execution_count": 88,
   "metadata": {},
   "outputs": [
    {
     "data": {
      "text/html": [
       "<div>\n",
       "<style scoped>\n",
       "    .dataframe tbody tr th:only-of-type {\n",
       "        vertical-align: middle;\n",
       "    }\n",
       "\n",
       "    .dataframe tbody tr th {\n",
       "        vertical-align: top;\n",
       "    }\n",
       "\n",
       "    .dataframe thead th {\n",
       "        text-align: right;\n",
       "    }\n",
       "</style>\n",
       "<table border=\"1\" class=\"dataframe\">\n",
       "  <thead>\n",
       "    <tr style=\"text-align: right;\">\n",
       "      <th></th>\n",
       "      <th>Amino_acids</th>\n",
       "      <th>No_of_surf_res (MDAnalysis)</th>\n",
       "      <th>No_of_surf_res (VMD)</th>\n",
       "      <th>peg_0.9nm_100ns</th>\n",
       "      <th>peg_1.1nm_100ns</th>\n",
       "    </tr>\n",
       "  </thead>\n",
       "  <tbody>\n",
       "    <tr>\n",
       "      <td>0</td>\n",
       "      <td>LYS</td>\n",
       "      <td>59</td>\n",
       "      <td>59</td>\n",
       "      <td>30</td>\n",
       "      <td>34</td>\n",
       "    </tr>\n",
       "    <tr>\n",
       "      <td>1</td>\n",
       "      <td>ARG</td>\n",
       "      <td>23</td>\n",
       "      <td>23</td>\n",
       "      <td>6</td>\n",
       "      <td>9</td>\n",
       "    </tr>\n",
       "    <tr>\n",
       "      <td>2</td>\n",
       "      <td>HIS</td>\n",
       "      <td>16</td>\n",
       "      <td>16</td>\n",
       "      <td>4</td>\n",
       "      <td>7</td>\n",
       "    </tr>\n",
       "    <tr>\n",
       "      <td>3</td>\n",
       "      <td>ASP</td>\n",
       "      <td>40</td>\n",
       "      <td>40</td>\n",
       "      <td>20</td>\n",
       "      <td>22</td>\n",
       "    </tr>\n",
       "    <tr>\n",
       "      <td>4</td>\n",
       "      <td>GLU</td>\n",
       "      <td>59</td>\n",
       "      <td>59</td>\n",
       "      <td>25</td>\n",
       "      <td>31</td>\n",
       "    </tr>\n",
       "    <tr>\n",
       "      <td>5</td>\n",
       "      <td>SER</td>\n",
       "      <td>23</td>\n",
       "      <td>23</td>\n",
       "      <td>6</td>\n",
       "      <td>10</td>\n",
       "    </tr>\n",
       "    <tr>\n",
       "      <td>6</td>\n",
       "      <td>THR</td>\n",
       "      <td>29</td>\n",
       "      <td>29</td>\n",
       "      <td>18</td>\n",
       "      <td>21</td>\n",
       "    </tr>\n",
       "    <tr>\n",
       "      <td>7</td>\n",
       "      <td>CYS</td>\n",
       "      <td>24</td>\n",
       "      <td>24</td>\n",
       "      <td>12</td>\n",
       "      <td>12</td>\n",
       "    </tr>\n",
       "    <tr>\n",
       "      <td>8</td>\n",
       "      <td>TYR</td>\n",
       "      <td>19</td>\n",
       "      <td>19</td>\n",
       "      <td>3</td>\n",
       "      <td>7</td>\n",
       "    </tr>\n",
       "    <tr>\n",
       "      <td>9</td>\n",
       "      <td>ASN</td>\n",
       "      <td>14</td>\n",
       "      <td>14</td>\n",
       "      <td>3</td>\n",
       "      <td>4</td>\n",
       "    </tr>\n",
       "    <tr>\n",
       "      <td>10</td>\n",
       "      <td>GLN</td>\n",
       "      <td>19</td>\n",
       "      <td>19</td>\n",
       "      <td>7</td>\n",
       "      <td>11</td>\n",
       "    </tr>\n",
       "    <tr>\n",
       "      <td>11</td>\n",
       "      <td>GLY</td>\n",
       "      <td>11</td>\n",
       "      <td>11</td>\n",
       "      <td>3</td>\n",
       "      <td>5</td>\n",
       "    </tr>\n",
       "    <tr>\n",
       "      <td>12</td>\n",
       "      <td>ALA</td>\n",
       "      <td>39</td>\n",
       "      <td>38</td>\n",
       "      <td>17</td>\n",
       "      <td>20</td>\n",
       "    </tr>\n",
       "    <tr>\n",
       "      <td>13</td>\n",
       "      <td>VAL</td>\n",
       "      <td>19</td>\n",
       "      <td>19</td>\n",
       "      <td>7</td>\n",
       "      <td>13</td>\n",
       "    </tr>\n",
       "    <tr>\n",
       "      <td>14</td>\n",
       "      <td>LEU</td>\n",
       "      <td>34</td>\n",
       "      <td>34</td>\n",
       "      <td>10</td>\n",
       "      <td>13</td>\n",
       "    </tr>\n",
       "    <tr>\n",
       "      <td>15</td>\n",
       "      <td>ILE</td>\n",
       "      <td>7</td>\n",
       "      <td>7</td>\n",
       "      <td>2</td>\n",
       "      <td>4</td>\n",
       "    </tr>\n",
       "    <tr>\n",
       "      <td>16</td>\n",
       "      <td>MET</td>\n",
       "      <td>3</td>\n",
       "      <td>3</td>\n",
       "      <td>0</td>\n",
       "      <td>2</td>\n",
       "    </tr>\n",
       "    <tr>\n",
       "      <td>17</td>\n",
       "      <td>PHE</td>\n",
       "      <td>20</td>\n",
       "      <td>20</td>\n",
       "      <td>6</td>\n",
       "      <td>8</td>\n",
       "    </tr>\n",
       "    <tr>\n",
       "      <td>18</td>\n",
       "      <td>TRP</td>\n",
       "      <td>2</td>\n",
       "      <td>2</td>\n",
       "      <td>0</td>\n",
       "      <td>0</td>\n",
       "    </tr>\n",
       "    <tr>\n",
       "      <td>19</td>\n",
       "      <td>PRO</td>\n",
       "      <td>27</td>\n",
       "      <td>27</td>\n",
       "      <td>15</td>\n",
       "      <td>21</td>\n",
       "    </tr>\n",
       "  </tbody>\n",
       "</table>\n",
       "</div>"
      ],
      "text/plain": [
       "   Amino_acids  No_of_surf_res (MDAnalysis)  No_of_surf_res (VMD)  \\\n",
       "0          LYS                           59                    59   \n",
       "1          ARG                           23                    23   \n",
       "2          HIS                           16                    16   \n",
       "3          ASP                           40                    40   \n",
       "4          GLU                           59                    59   \n",
       "5          SER                           23                    23   \n",
       "6          THR                           29                    29   \n",
       "7          CYS                           24                    24   \n",
       "8          TYR                           19                    19   \n",
       "9          ASN                           14                    14   \n",
       "10         GLN                           19                    19   \n",
       "11         GLY                           11                    11   \n",
       "12         ALA                           39                    38   \n",
       "13         VAL                           19                    19   \n",
       "14         LEU                           34                    34   \n",
       "15         ILE                            7                     7   \n",
       "16         MET                            3                     3   \n",
       "17         PHE                           20                    20   \n",
       "18         TRP                            2                     2   \n",
       "19         PRO                           27                    27   \n",
       "\n",
       "    peg_0.9nm_100ns  peg_1.1nm_100ns  \n",
       "0                30               34  \n",
       "1                 6                9  \n",
       "2                 4                7  \n",
       "3                20               22  \n",
       "4                25               31  \n",
       "5                 6               10  \n",
       "6                18               21  \n",
       "7                12               12  \n",
       "8                 3                7  \n",
       "9                 3                4  \n",
       "10                7               11  \n",
       "11                3                5  \n",
       "12               17               20  \n",
       "13                7               13  \n",
       "14               10               13  \n",
       "15                2                4  \n",
       "16                0                2  \n",
       "17                6                8  \n",
       "18                0                0  \n",
       "19               15               21  "
      ]
     },
     "execution_count": 88,
     "metadata": {},
     "output_type": "execute_result"
    }
   ],
   "source": [
    "apl_15nm = []\n",
    "\n",
    "# Some residues don't have any contact with the 3 N = 20 PLGA oligomers within 100 ns,\n",
    "# Put residues that do have contact with BSA in a separate list\n",
    "for index, r_pl in plg_1_1nmaa.iterrows():\n",
    "    if r_pl['mda_plga_frm_1.1nm'] != 0:\n",
    "        apl_15nm.append(r_pl['BSA_des_res'])\n",
    "        \n",
    "# This chunk of code gets an AA count from the above list, in order \n",
    "# to get a total number of residues that contact BSA\n",
    "cpl_15nm = []\n",
    "\n",
    "for index, r_a in aa_count.iterrows():\n",
    "    count = 0\n",
    "    for i in range(len(apl_15nm)):\n",
    "        if r_a['Amino_acids'] in apl_15nm[i]:\n",
    "            count += 1\n",
    "    cpl_15nm.append(count)      \n",
    "        \n",
    "aa_count['peg_1.1nm_100ns'] = cpl_15nm\n",
    "#aa_count.drop('No_of_surf_res (VMD)', axis=1, inplace=True)\n",
    "aa_count"
   ]
  },
  {
   "cell_type": "code",
   "execution_count": 89,
   "metadata": {},
   "outputs": [
    {
     "data": {
      "text/plain": [
       "254"
      ]
     },
     "execution_count": 89,
     "metadata": {},
     "output_type": "execute_result"
    }
   ],
   "source": [
    "# This gives the total number of residues that are within 4 angstroms of a PLGA oligomer residue\n",
    "# within a 100 ns trajectory block\n",
    "aa_count['peg_1.1nm_100ns'].sum()"
   ]
  },
  {
   "cell_type": "code",
   "execution_count": 90,
   "metadata": {},
   "outputs": [
    {
     "data": {
      "text/plain": [
       "487"
      ]
     },
     "execution_count": 90,
     "metadata": {},
     "output_type": "execute_result"
    }
   ],
   "source": [
    "# This gives the total number of residues that are within 4 angstroms of a water molecule\n",
    "# within a 1 ns trajectory block\n",
    "aa_count['No_of_surf_res (MDAnalysis)'].sum()"
   ]
  },
  {
   "cell_type": "code",
   "execution_count": 91,
   "metadata": {},
   "outputs": [
    {
     "data": {
      "text/plain": [
       "0.5215605749486653"
      ]
     },
     "execution_count": 91,
     "metadata": {},
     "output_type": "execute_result"
    }
   ],
   "source": [
    "# This gives the total fraction of contacts within the 1.2 nm Rg 100 ns trajectory\n",
    "aa_count['peg_1.1nm_100ns'].sum()/aa_count['No_of_surf_res (MDAnalysis)'].sum()"
   ]
  },
  {
   "cell_type": "code",
   "execution_count": 92,
   "metadata": {},
   "outputs": [
    {
     "name": "stdout",
     "output_type": "stream",
     "text": [
      "Mean Occpancy (1.1 nm Rg): 0.08503031496062993 Occ. std. dev.: 0.1353175838184084\n"
     ]
    }
   ],
   "source": [
    "# Mean occupancy and std deviation \n",
    "ll_mo15 = [value[1] for key, value in h2di_11nm.items()]\n",
    "print(\"Mean Occpancy (1.1 nm Rg): \"+str(np.mean(ll_mo15)), \"Occ. std. dev.: \"+str(np.std(ll_mo15)))"
   ]
  },
  {
   "cell_type": "code",
   "execution_count": 93,
   "metadata": {},
   "outputs": [
    {
     "data": {
      "text/plain": [
       "{'Negative': [53599.0, 53, 256870.67924528304, 0.25313071133734516],\n",
       " 'Positive': [41029.0, 50, 208427.31999999998, 0.20539267435563216],\n",
       " 'Polar': [51940.0, 65, 202965.53846153847, 0.20001041488537255],\n",
       " 'Hydrophobic': [69409.0, 86, 204998.67441860464, 0.20201394893047958],\n",
       " 'Aromatic': [12257.0, 22, 141512.63636363635, 0.13945225049117052]}"
      ]
     },
     "execution_count": 93,
     "metadata": {},
     "output_type": "execute_result"
    }
   ],
   "source": [
    "cd_11nm = frac_cont(h2di_11nm)\n",
    "cd_11nm"
   ]
  },
  {
   "cell_type": "markdown",
   "metadata": {},
   "source": [
    "### Calc. fractional contacts for each AA group type "
   ]
  },
  {
   "cell_type": "code",
   "execution_count": 95,
   "metadata": {},
   "outputs": [
    {
     "name": "stdout",
     "output_type": "stream",
     "text": [
      "0\n",
      "2000\n",
      "2000\n",
      "4000\n",
      "4000\n",
      "6000\n",
      "6000\n",
      "8000\n",
      "8000\n",
      "10000\n"
     ]
    }
   ],
   "source": [
    "fcnt_rg11nm, prgrp_11nm, aa_matx_11nm = bavg_frac_cnt(5, prot_11nmPEG, n20PEG_11nm, dmax ,u11nm_n20PEG, no_surf, 0, 10000)"
   ]
  },
  {
   "cell_type": "code",
   "execution_count": 96,
   "metadata": {},
   "outputs": [
    {
     "data": {
      "text/plain": [
       "{'Negative': array([0.15511669, 0.1913301 , 0.25426301, 0.26247466, 0.24675896]),\n",
       " 'Positive': array([0.124646  , 0.22803747, 0.29903196, 0.20447496, 0.16070977]),\n",
       " 'Polar': array([0.31406271, 0.22449271, 0.18089477, 0.17145991, 0.18093769]),\n",
       " 'Hydrophobic': array([0.21739405, 0.21806355, 0.18066591, 0.22677905, 0.20938313]),\n",
       " 'Aromatic': array([0.18878055, 0.13807618, 0.08514436, 0.13481142, 0.20221044]),\n",
       " 'total_frac': array([0.22587269, 0.21765914, 0.21560575, 0.30184805, 0.2587269 ])}"
      ]
     },
     "execution_count": 96,
     "metadata": {},
     "output_type": "execute_result"
    }
   ],
   "source": [
    "fcnt_rg11nm"
   ]
  },
  {
   "cell_type": "code",
   "execution_count": 97,
   "metadata": {},
   "outputs": [
    {
     "data": {
      "text/plain": [
       "array([0.22198868, 0.20338003, 0.21436956, 0.21045714, 0.14980459])"
      ]
     },
     "execution_count": 97,
     "metadata": {},
     "output_type": "execute_result"
    }
   ],
   "source": [
    "fc_11nm_mean = np.array([np.mean(fcnt_rg11nm['Negative']), np.mean(fcnt_rg11nm['Positive'])\n",
    "                        ,np.mean(fcnt_rg11nm['Polar']),np.mean(fcnt_rg11nm['Hydrophobic'])\n",
    "                        , np.mean(fcnt_rg11nm['Aromatic'])])\n",
    "fc_11nm_mean"
   ]
  },
  {
   "cell_type": "code",
   "execution_count": 98,
   "metadata": {},
   "outputs": [
    {
     "data": {
      "text/plain": [
       "array([0.04172799, 0.05962932, 0.05314262, 0.01588115, 0.04197331])"
      ]
     },
     "execution_count": 98,
     "metadata": {},
     "output_type": "execute_result"
    }
   ],
   "source": [
    "fc_11nm_std = np.array([np.std(fcnt_rg11nm['Negative']), np.std(fcnt_rg11nm['Positive'])\n",
    "                       ,np.std(fcnt_rg11nm['Polar']),np.std(fcnt_rg11nm['Hydrophobic'])\n",
    "                       , np.std(fcnt_rg11nm['Aromatic'])])\n",
    "fc_11nm_std"
   ]
  },
  {
   "cell_type": "code",
   "execution_count": 99,
   "metadata": {},
   "outputs": [
    {
     "data": {
      "application/vnd.jupyter.widget-view+json": {
       "model_id": "",
       "version_major": 2,
       "version_minor": 0
      },
      "text/plain": [
       "Canvas(toolbar=Toolbar(toolitems=[('Home', 'Reset original view', 'home', 'home'), ('Back', 'Back to previous …"
      ]
     },
     "metadata": {},
     "output_type": "display_data"
    },
    {
     "data": {
      "text/plain": [
       "Text(0, 0.5, 'Fractional Contacts')"
      ]
     },
     "execution_count": 99,
     "metadata": {},
     "output_type": "execute_result"
    }
   ],
   "source": [
    "x_pos = np.arange(5)\n",
    "width = 0.35\n",
    "aa_types = [\"Negative\", \"Positive\", \"Polar\", \"Hydrophobic\", \"Aromatic\"]\n",
    "fig = plt.figure(figsize=(7,7))\n",
    "fig.canvas.layout.width = '800px'\n",
    "fig.canvas.layout.height = '700px'\n",
    "plt.bar(x_pos, fc_09nm_mean, width, yerr=fc_09nm_std, ecolor='black',capsize=5, color='royalblue')\n",
    "plt.bar(x_pos+width, fc_11nm_mean, width, yerr=fc_11nm_std, ecolor='black',capsize=5, color='c')\n",
    "plt.title(r'Fractional Contacts Rg restrained', fontsize=15)\n",
    "plt.xticks(x_pos+width/2, labels=aa_types, fontsize=12)\n",
    "plt.legend(['Rg = 0.9 nm', 'Rg = 1.1 nm'], frameon=False)\n",
    "plt.ylabel(r'Fractional Contacts', fontsize=15)"
   ]
  },
  {
   "cell_type": "markdown",
   "metadata": {},
   "source": [
    "### Total fraction of contacts: averages and std dev calc from 5 20 ns blocks"
   ]
  },
  {
   "cell_type": "code",
   "execution_count": 100,
   "metadata": {},
   "outputs": [
    {
     "data": {
      "text/plain": [
       "0.2439425051334702"
      ]
     },
     "execution_count": 100,
     "metadata": {},
     "output_type": "execute_result"
    }
   ],
   "source": [
    "np.mean(fcnt_rg11nm['total_frac'])"
   ]
  },
  {
   "cell_type": "code",
   "execution_count": 101,
   "metadata": {},
   "outputs": [
    {
     "data": {
      "text/plain": [
       "0.03283880542374341"
      ]
     },
     "execution_count": 101,
     "metadata": {},
     "output_type": "execute_result"
    }
   ],
   "source": [
    "np.std(fcnt_rg11nm['total_frac'])"
   ]
  },
  {
   "cell_type": "code",
   "execution_count": 102,
   "metadata": {},
   "outputs": [
    {
     "data": {
      "text/plain": [
       "{'Negative': array([array([2.042    , 2.7384733]), array([6.482     , 2.85055714]),\n",
       "        array([8.149    , 3.3521335]), array([13.7675    ,  4.18693728]),\n",
       "        array([20.3745    ,  5.00632098])], dtype=object),\n",
       " 'Positive': array([array([2.434     , 3.64357572]), array([13.796     ,  4.46412186]),\n",
       "        array([22.2895    ,  4.76294969]), array([29.9095   ,  7.0254046]),\n",
       "        array([49.5605    ,  5.32356457])], dtype=object),\n",
       " 'Polar': array([array([4.312     , 4.05544769]), array([8.042     , 4.19299845]),\n",
       "        array([9.875     , 4.99453451]), array([11.6395    ,  4.93918412]),\n",
       "        array([25.1535    ,  6.22124889])], dtype=object),\n",
       " 'Hydrophobic': array([array([3.8665    , 4.28365238]), array([9.954     , 5.18988285]),\n",
       "        array([9.8625    , 4.44854962]), array([17.444     ,  6.35073728]),\n",
       "        array([30.4305    ,  6.65816564])], dtype=object),\n",
       " 'Aromatic': array([array([1.107     , 2.06168645]), array([1.4465    , 2.01820161]),\n",
       "        array([0.849     , 1.35727632]), array([2.101     , 2.04836496]),\n",
       "        array([6.8145    , 2.85903651])], dtype=object)}"
      ]
     },
     "execution_count": 102,
     "metadata": {},
     "output_type": "execute_result"
    }
   ],
   "source": [
    "prgrp_11nm"
   ]
  },
  {
   "cell_type": "code",
   "execution_count": null,
   "metadata": {},
   "outputs": [],
   "source": [
    "# matrix containing the avg number of PLGA residues for each block for each amino acid \n",
    "np.where(aa_matx_15nm[0, 0] != 0)"
   ]
  },
  {
   "cell_type": "markdown",
   "metadata": {},
   "source": [
    "### Avg no. PLGA residues per BSA AA residue group "
   ]
  },
  {
   "cell_type": "code",
   "execution_count": null,
   "metadata": {},
   "outputs": [],
   "source": [
    "prgrp_1_5nm"
   ]
  },
  {
   "cell_type": "code",
   "execution_count": null,
   "metadata": {},
   "outputs": [],
   "source": [
    "mean_15nm = np.zeros(shape=5)\n",
    "std_15nm = np.zeros(shape=5)\n",
    "count = 0\n",
    "for key, value in prgrp_1_5nm.items():\n",
    "    mpl_15nm = []\n",
    "    var_15nm = []\n",
    "    for i in prgrp_1_5nm[str(key)].flat:\n",
    "        mpl_15nm.append(i[0])\n",
    "        var_15nm.append((i[1])**2)\n",
    "    \n",
    "    # calc frac cont averages\n",
    "    mean_15nm[count] = np.mean(mpl_15nm)\n",
    "    \n",
    "    # calc frac cont std dev: https://stats.stackexchange.com/questions/25848/how-to-sum-a-standard-deviation \n",
    "    std_15nm[count] = np.std(mpl_15nm)\n",
    "    #std_15nm[count] = np.sqrt(np.sum(var_15nm)/5)\n",
    "    \n",
    "    count += 1\n"
   ]
  },
  {
   "cell_type": "code",
   "execution_count": null,
   "metadata": {},
   "outputs": [],
   "source": [
    "mean_15nm"
   ]
  },
  {
   "cell_type": "code",
   "execution_count": null,
   "metadata": {},
   "outputs": [],
   "source": [
    "std_15nm"
   ]
  },
  {
   "cell_type": "code",
   "execution_count": null,
   "metadata": {},
   "outputs": [],
   "source": [
    "x_pos = np.arange(5)\n",
    "width = 0.35\n",
    "aa_types = [\"Negative\", \"Positive\", \"Polar\", \"Hydrophobic\", \"Aromatic\"]\n",
    "plt.figure(figsize=(7,7))\n",
    "plt.bar(x_pos, mean_12nm, width, yerr=std_12nm, ecolor='black',capsize=5, color='royalblue')\n",
    "plt.bar(x_pos+width, mean_15nm, width, yerr=std_15nm, ecolor='black',capsize=5, color='c')\n",
    "plt.title(r'No. of PLGA residues Rg restrained', fontsize=15)\n",
    "plt.xticks(x_pos+width/2, labels=aa_types, fontsize=12)\n",
    "plt.legend(['Rg = 1.2 nm', 'Rg = 1.5 nm'], frameon=False)\n",
    "plt.ylabel(r'No. of PLGA residues', fontsize=15)"
   ]
  },
  {
   "cell_type": "markdown",
   "metadata": {},
   "source": [
    "### Protein/polymer contact map movie"
   ]
  },
  {
   "cell_type": "code",
   "execution_count": null,
   "metadata": {},
   "outputs": [],
   "source": [
    "fig = plt.figure(figsize=(10,10))\n",
    "\n",
    "# Set the axis and the plot titles pp\n",
    "\n",
    "plt.title(\"BSA/PLGA contact map 1.5 nm res.\", fontsize=22, loc='left')\n",
    "plt.xlabel(\"PLGA Residue No.\", fontsize=22)\n",
    "plt.ylabel(\"BSA Residue No.\", fontsize=20)\n",
    "\n",
    " # Set the axis range \n",
    "plt.ylim(583, 0)\n",
    "plt.xlim(0, 60)\n",
    "\n",
    "# Plot bands for each chain \n",
    "BANDS = (\n",
    "    (0, 20, \"purple\", \"B\"),\n",
    "    (20, 40, \"blue\", \"C\"),\n",
    "    (40, 60, \"green\", \"D\"),\n",
    ")\n",
    "    \n",
    "text_y = 0.98 # Close to the top\n",
    "for start, stop, color, band in BANDS:\n",
    "    plt.axvspan(start, stop,color=color, alpha=0.15)\n",
    "    text_x = middle_of_band(start,stop)\n",
    "    plt.text(\n",
    "        text_x,\n",
    "        text_y,\n",
    "        \"PLGA chain \" + band,\n",
    "        color=color,\n",
    "        fontsize=18,\n",
    "        transform=fig.gca().transAxes,\n",
    "        horizontalalignment='center',\n",
    "        verticalalignment='center',\n",
    "        style='italic',\n",
    "    )\n",
    "    \n",
    "plt.text(0.94, 1, \"Time [ns]:\", fontsize=20, transform=fig.gca().transAxes, horizontalalignment='right', verticalalignment='bottom')\n",
    "\n",
    "# Set tick label size\n",
    "fig.gca().tick_params(axis='both', which='major', labelsize=20)\n",
    "\n",
    "ims = []\n",
    "for i in range(10000):\n",
    "    data = trj_ppmap_15nm[i]\n",
    "    im = plt.imshow(data, aspect='auto', cmap='Greys')\n",
    "    t_sim = plt.text(1.03, 1, str(i/100), fontsize=20, transform=fig.gca().transAxes, horizontalalignment='right', verticalalignment='bottom')\n",
    "    ims.append([im, t_sim])\n",
    "    \n",
    "ani = animation.ArtistAnimation(fig, ims, blit=True, repeat=False)\n",
    "ani.save('1.5nm_res.mp4', writer='ffmpeg', fps=50, bitrate=100000)\n",
    "#plt.tight_layout()\n",
    "#plt.show()"
   ]
  },
  {
   "cell_type": "markdown",
   "metadata": {},
   "source": [
    "# 1.4 nm restrained Rg PEG 100 ns trajectory"
   ]
  },
  {
   "cell_type": "markdown",
   "metadata": {},
   "source": [
    "### Contact Analyis"
   ]
  },
  {
   "cell_type": "code",
   "execution_count": 139,
   "metadata": {},
   "outputs": [],
   "source": [
    "# Set up the MD Simulation\n",
    "u14nm_n20PEG = mda.Universe(\"1.4nmPEG_res/1.4nm_bsapegonly.pdb\", \"1.4nmPEG_res/nopbc_1.4pegbsa.xtc\")"
   ]
  },
  {
   "cell_type": "code",
   "execution_count": 140,
   "metadata": {},
   "outputs": [
    {
     "data": {
      "text/plain": [
       "<Universe with 9665 atoms>"
      ]
     },
     "execution_count": 140,
     "metadata": {},
     "output_type": "execute_result"
    }
   ],
   "source": [
    "u14nm_n20PEG"
   ]
  },
  {
   "cell_type": "code",
   "execution_count": 141,
   "metadata": {},
   "outputs": [
    {
     "data": {
      "text/plain": [
       "10001"
      ]
     },
     "execution_count": 141,
     "metadata": {},
     "output_type": "execute_result"
    }
   ],
   "source": [
    "pn20_len14nm = len(u14nm_n20PEG.trajectory)\n",
    "pn20_len14nm"
   ]
  },
  {
   "cell_type": "code",
   "execution_count": 142,
   "metadata": {},
   "outputs": [
    {
     "data": {
      "text/plain": [
       "<AtomGroup with 183 atoms>"
      ]
     },
     "execution_count": 142,
     "metadata": {},
     "output_type": "execute_result"
    }
   ],
   "source": [
    "#Select all the PLGA residues, heavy atoms only \n",
    "pn20_14nm = u14nm_n20PEG.select_atoms(\"resname sPEG PEG tPEG and not type H\")\n",
    "pn20_14nm"
   ]
  },
  {
   "cell_type": "code",
   "execution_count": 143,
   "metadata": {},
   "outputs": [
    {
     "data": {
      "text/plain": [
       "<AtomGroup with 4653 atoms>"
      ]
     },
     "execution_count": 143,
     "metadata": {},
     "output_type": "execute_result"
    }
   ],
   "source": [
    "# Select BSA residues, heavy atoms only \n",
    "prot_14nm = u14nm_n20PEG.select_atoms(\"protein and not type H\")\n",
    "prot_14nm"
   ]
  },
  {
   "cell_type": "code",
   "execution_count": 144,
   "metadata": {},
   "outputs": [
    {
     "data": {
      "text/plain": [
       "227.5563335912302"
      ]
     },
     "execution_count": 144,
     "metadata": {},
     "output_type": "execute_result"
    }
   ],
   "source": [
    "#dmax = 4.0, protein group(4653 atoms), plga atom group (543 atoms), took 381.6 s (6 min 36s on 4 cores)\n",
    "start = 0\n",
    "end = pn20_len14nm - 1\n",
    "s_time = timeit.default_timer()\n",
    "h2di_14nm = aa_frmcount(prot_14nm, pn20_14nm, dmax, u14nm_n20PEG, start, end)\n",
    "timeit.default_timer() - s_time\n",
    "#h2di_14nm"
   ]
  },
  {
   "cell_type": "code",
   "execution_count": 145,
   "metadata": {},
   "outputs": [
    {
     "data": {
      "text/plain": [
       "{'<Residue THR, 2>': [78.0, 0.0078],\n",
       " '<Residue HIS, 3>': [71.0, 0.0071],\n",
       " '<Residue LYS, 4>': [99.0, 0.0099],\n",
       " '<Residue SER, 5>': [68.0, 0.0068],\n",
       " '<Residue GLU, 6>': [86.0, 0.0086],\n",
       " '<Residue ALA, 8>': [3.0, 0.0003],\n",
       " '<Residue HIS, 9>': [235.0, 0.0235],\n",
       " '<Residue LYS, 12>': [688.0, 0.0688],\n",
       " '<Residue ASP, 13>': [1133.0, 0.1133],\n",
       " '<Residue LEU, 14>': [1544.0, 0.1544],\n",
       " '<Residue GLY, 15>': [583.0, 0.0583],\n",
       " '<Residue GLU, 16>': [180.0, 0.018],\n",
       " '<Residue GLU, 17>': [6751.0, 0.6751],\n",
       " '<Residue HIS, 18>': [6100.0, 0.61],\n",
       " '<Residue LYS, 20>': [53.0, 0.0053],\n",
       " '<Residue GLN, 33>': [357.0, 0.0357],\n",
       " '<Residue CYS, 34>': [143.0, 0.0143],\n",
       " '<Residue PRO, 35>': [330.0, 0.033],\n",
       " '<Residue ASP, 37>': [135.0, 0.0135],\n",
       " '<Residue GLU, 38>': [261.0, 0.0261],\n",
       " '<Residue VAL, 40>': [18.0, 0.0018],\n",
       " '<Residue LYS, 41>': [92.0, 0.0092],\n",
       " '<Residue ASN, 44>': [55.0, 0.0055],\n",
       " '<Residue GLU, 45>': [2.0, 0.0002],\n",
       " '<Residue GLU, 48>': [334.0, 0.0334],\n",
       " '<Residue LYS, 51>': [532.0, 0.0532],\n",
       " '<Residue THR, 52>': [562.0, 0.0562],\n",
       " '<Residue VAL, 54>': [98.0, 0.0098],\n",
       " '<Residue ALA, 55>': [600.0, 0.06],\n",
       " '<Residue ASP, 56>': [290.0, 0.029],\n",
       " '<Residue GLU, 57>': [10.0, 0.001],\n",
       " '<Residue SER, 58>': [74.0, 0.0074],\n",
       " '<Residue HIS, 59>': [37.0, 0.0037],\n",
       " '<Residue CYS, 75>': [40.0, 0.004],\n",
       " '<Residue LYS, 76>': [43.0, 0.0043],\n",
       " '<Residue VAL, 77>': [32.0, 0.0032],\n",
       " '<Residue ALA, 78>': [243.0, 0.0243],\n",
       " '<Residue SER, 79>': [331.0, 0.0331],\n",
       " '<Residue LEU, 80>': [3.0, 0.0003],\n",
       " '<Residue ARG, 81>': [153.0, 0.0153],\n",
       " '<Residue GLU, 82>': [310.0, 0.031],\n",
       " '<Residue THR, 83>': [274.0, 0.0274],\n",
       " '<Residue TYR, 84>': [20.0, 0.002],\n",
       " '<Residue GLY, 85>': [5.0, 0.0005],\n",
       " '<Residue ASP, 86>': [30.0, 0.003],\n",
       " '<Residue ALA, 88>': [3.0, 0.0003],\n",
       " '<Residue ASP, 89>': [160.0, 0.016],\n",
       " '<Residue CYS, 91>': [9.0, 0.0009],\n",
       " '<Residue GLU, 92>': [251.0, 0.0251],\n",
       " '<Residue LYS, 93>': [32.0, 0.0032],\n",
       " '<Residue GLN, 94>': [35.0, 0.0035],\n",
       " '<Residue GLU, 97>': [4.0, 0.0004],\n",
       " '<Residue ASP, 111>': [21.0, 0.0021],\n",
       " '<Residue LEU, 112>': [5.0, 0.0005],\n",
       " '<Residue PRO, 113>': [29.0, 0.0029],\n",
       " '<Residue LEU, 115>': [3.0, 0.0003],\n",
       " '<Residue PHE, 126>': [463.0, 0.0463],\n",
       " '<Residue LYS, 127>': [2.0, 0.0002],\n",
       " '<Residue ALA, 128>': [79.0, 0.0079],\n",
       " '<Residue ASP, 129>': [928.0, 0.0928],\n",
       " '<Residue GLU, 130>': [6435.0, 0.6435],\n",
       " '<Residue LYS, 131>': [6899.0, 0.6899],\n",
       " '<Residue LYS, 132>': [1.0, 0.0001],\n",
       " '<Residue TRP, 134>': [7546.0, 0.7546],\n",
       " '<Residue TYR, 155>': [1.0, 0.0001],\n",
       " '<Residue ALA, 157>': [1.0, 0.0001],\n",
       " '<Residue ASN, 158>': [4295.0, 0.4295],\n",
       " '<Residue LYS, 159>': [167.0, 0.0167],\n",
       " '<Residue ASN, 161>': [5492.0, 0.5492],\n",
       " '<Residue GLY, 162>': [1799.0, 0.1799],\n",
       " '<Residue GLN, 165>': [3793.0, 0.3793],\n",
       " '<Residue CYS, 167>': [9.0, 0.0009],\n",
       " '<Residue ALA, 175>': [9.0, 0.0009],\n",
       " '<Residue CYS, 176>': [26.0, 0.0026],\n",
       " '<Residue PRO, 179>': [5.0, 0.0005],\n",
       " '<Residue LYS, 180>': [29.0, 0.0029],\n",
       " '<Residue LYS, 224>': [73.0, 0.0073],\n",
       " '<Residue ALA, 257>': [1.0, 0.0001],\n",
       " '<Residue LYS, 261>': [11.0, 0.0011],\n",
       " '<Residue CYS, 264>': [264.0, 0.0264],\n",
       " '<Residue ASP, 265>': [59.0, 0.0059],\n",
       " '<Residue ASN, 266>': [1.0, 0.0001],\n",
       " '<Residue GLN, 267>': [1014.0, 0.1014],\n",
       " '<Residue ASP, 268>': [698.0, 0.0698],\n",
       " '<Residue THR, 269>': [11.0, 0.0011],\n",
       " '<Residue SER, 271>': [173.0, 0.0173],\n",
       " '<Residue SER, 272>': [774.0, 0.0774],\n",
       " '<Residue LYS, 273>': [68.0, 0.0068],\n",
       " '<Residue LYS, 275>': [1230.0, 0.123],\n",
       " '<Residue GLU, 276>': [24.0, 0.0024],\n",
       " '<Residue CYS, 278>': [1491.0, 0.1491],\n",
       " '<Residue ASP, 279>': [1927.0, 0.1927],\n",
       " '<Residue LYS, 280>': [1662.0, 0.1662],\n",
       " '<Residue PRO, 281>': [1294.0, 0.1294],\n",
       " '<Residue LEU, 282>': [1757.0, 0.1757],\n",
       " '<Residue LEU, 283>': [761.0, 0.0761],\n",
       " '<Residue GLU, 284>': [259.0, 0.0259],\n",
       " '<Residue LYS, 285>': [434.0, 0.0434],\n",
       " '<Residue LYS, 294>': [2.0, 0.0002],\n",
       " '<Residue ASP, 295>': [25.0, 0.0025],\n",
       " '<Residue ALA, 296>': [145.0, 0.0145],\n",
       " '<Residue ILE, 297>': [248.0, 0.0248],\n",
       " '<Residue PRO, 298>': [306.0, 0.0306],\n",
       " '<Residue GLU, 299>': [168.0, 0.0168],\n",
       " '<Residue ASN, 300>': [327.0, 0.0327],\n",
       " '<Residue LEU, 301>': [116.0, 0.0116],\n",
       " '<Residue PRO, 302>': [192.0, 0.0192],\n",
       " '<Residue PRO, 303>': [155.0, 0.0155],\n",
       " '<Residue THR, 305>': [16.0, 0.0016],\n",
       " '<Residue ALA, 306>': [266.0, 0.0266],\n",
       " '<Residue ASP, 307>': [52.0, 0.0052],\n",
       " '<Residue GLU, 310>': [357.0, 0.0357],\n",
       " '<Residue ASP, 311>': [113.0, 0.0113],\n",
       " '<Residue LYS, 312>': [297.0, 0.0297],\n",
       " '<Residue ASP, 313>': [17.0, 0.0017],\n",
       " '<Residue LYS, 316>': [1.0, 0.0001],\n",
       " '<Residue GLU, 339>': [4.0, 0.0004],\n",
       " '<Residue ARG, 347>': [2.0, 0.0002],\n",
       " '<Residue LYS, 350>': [34.0, 0.0034],\n",
       " '<Residue GLU, 351>': [6804.0, 0.6804],\n",
       " '<Residue ALA, 354>': [6472.0, 0.6472],\n",
       " '<Residue THR, 355>': [6807.0, 0.6807],\n",
       " '<Residue GLU, 358>': [5338.0, 0.5338],\n",
       " '<Residue CYS, 359>': [3626.0, 0.3626],\n",
       " '<Residue LYS, 362>': [57.0, 0.0057],\n",
       " '<Residue ASP, 363>': [110.0, 0.011],\n",
       " '<Residue ASP, 364>': [143.0, 0.0143],\n",
       " '<Residue PRO, 365>': [57.0, 0.0057],\n",
       " '<Residue HIS, 366>': [246.0, 0.0246],\n",
       " '<Residue ALA, 367>': [442.0, 0.0442],\n",
       " '<Residue CYS, 368>': [6323.0, 0.6323],\n",
       " '<Residue TYR, 369>': [16.0, 0.0016],\n",
       " '<Residue SER, 370>': [81.0, 0.0081],\n",
       " '<Residue THR, 371>': [5943.0, 0.5943],\n",
       " '<Residue VAL, 372>': [2004.0, 0.2004],\n",
       " '<Residue ASP, 374>': [3949.0, 0.3949],\n",
       " '<Residue LYS, 375>': [6714.0, 0.6714],\n",
       " '<Residue LYS, 377>': [216.0, 0.0216],\n",
       " '<Residue HIS, 378>': [2640.0, 0.264],\n",
       " '<Residue LEU, 379>': [10.0, 0.001],\n",
       " '<Residue ASP, 381>': [122.0, 0.0122],\n",
       " '<Residue GLU, 382>': [93.0, 0.0093],\n",
       " '<Residue ASN, 385>': [125.0, 0.0125],\n",
       " '<Residue LYS, 388>': [2.0, 0.0002],\n",
       " '<Residue GLN, 389>': [45.0, 0.0045],\n",
       " '<Residue ASP, 392>': [118.0, 0.0118],\n",
       " '<Residue GLN, 393>': [220.0, 0.022],\n",
       " '<Residue PHE, 394>': [5.0, 0.0005],\n",
       " '<Residue GLU, 395>': [188.0, 0.0188],\n",
       " '<Residue LYS, 396>': [432.0, 0.0432],\n",
       " '<Residue LEU, 397>': [163.0, 0.0163],\n",
       " '<Residue GLY, 398>': [44.0, 0.0044],\n",
       " '<Residue ARG, 409>': [24.0, 0.0024],\n",
       " '<Residue LYS, 413>': [2.0, 0.0002],\n",
       " '<Residue THR, 438>': [1.0, 0.0001],\n",
       " '<Residue PRO, 440>': [12.0, 0.0012],\n",
       " '<Residue SER, 442>': [1.0, 0.0001],\n",
       " '<Residue GLU, 443>': [4.0, 0.0004],\n",
       " '<Residue LYS, 474>': [5.0, 0.0005],\n",
       " '<Residue GLU, 478>': [18.0, 0.0018],\n",
       " '<Residue ASN, 482>': [99.0, 0.0099],\n",
       " '<Residue PRO, 485>': [1.0, 0.0001],\n",
       " '<Residue SER, 488>': [2.0, 0.0002],\n",
       " '<Residue ALA, 489>': [19.0, 0.0019],\n",
       " '<Residue THR, 491>': [31.0, 0.0031],\n",
       " '<Residue GLU, 494>': [1.0, 0.0001],\n",
       " '<Residue ALA, 500>': [12.0, 0.0012],\n",
       " '<Residue PHE, 501>': [176.0, 0.0176],\n",
       " '<Residue ASP, 502>': [101.0, 0.0101],\n",
       " '<Residue GLU, 503>': [640.0, 0.064],\n",
       " '<Residue LYS, 504>': [207.0, 0.0207],\n",
       " '<Residue PHE, 506>': [1.0, 0.0001],\n",
       " '<Residue THR, 507>': [480.0, 0.048],\n",
       " '<Residue PHE, 508>': [380.0, 0.038],\n",
       " '<Residue HIS, 509>': [564.0, 0.0564],\n",
       " '<Residue ASP, 511>': [51.0, 0.0051],\n",
       " '<Residue ASP, 517>': [2.0, 0.0002],\n",
       " '<Residue THR, 539>': [19.0, 0.0019],\n",
       " '<Residue GLU, 540>': [20.0, 0.002],\n",
       " '<Residue GLU, 541>': [93.0, 0.0093],\n",
       " '<Residue GLN, 542>': [9.0, 0.0009],\n",
       " '<Residue LYS, 544>': [108.0, 0.0108],\n",
       " '<Residue THR, 545>': [46.0, 0.0046],\n",
       " '<Residue GLU, 548>': [26.0, 0.0026],\n",
       " '<Residue ASN, 549>': [38.0, 0.0038],\n",
       " '<Residue VAL, 551>': [1.0, 0.0001],\n",
       " '<Residue ALA, 552>': [9.0, 0.0009],\n",
       " '<Residue LYS, 556>': [20.0, 0.002],\n",
       " '<Residue ALA, 559>': [32.0, 0.0032],\n",
       " '<Residue ALA, 560>': [21.0, 0.0021],\n",
       " '<Residue ASP, 561>': [140.0, 0.014],\n",
       " '<Residue ASP, 562>': [265.0, 0.0265],\n",
       " '<Residue GLU, 564>': [328.0, 0.0328],\n",
       " '<Residue ALA, 565>': [337.0, 0.0337],\n",
       " '<Residue CYS, 566>': [35.0, 0.0035],\n",
       " '<Residue PHE, 567>': [280.0, 0.028],\n",
       " '<Residue ALA, 568>': [655.0, 0.0655],\n",
       " '<Residue VAL, 569>': [261.0, 0.0261],\n",
       " '<Residue GLU, 570>': [4.0, 0.0004],\n",
       " '<Residue PRO, 572>': [402.0, 0.0402],\n",
       " '<Residue LYS, 573>': [51.0, 0.0051],\n",
       " '<Residue VAL, 575>': [55.0, 0.0055],\n",
       " '<Residue VAL, 576>': [56.0, 0.0056],\n",
       " '<Residue THR, 578>': [2.0, 0.0002],\n",
       " '<Residue GLN, 579>': [32.0, 0.0032]}"
      ]
     },
     "execution_count": 145,
     "metadata": {},
     "output_type": "execute_result"
    }
   ],
   "source": [
    "h2di_14nm"
   ]
  },
  {
   "cell_type": "code",
   "execution_count": 146,
   "metadata": {},
   "outputs": [
    {
     "data": {
      "text/plain": [
       "205"
      ]
     },
     "execution_count": 146,
     "metadata": {},
     "output_type": "execute_result"
    }
   ],
   "source": [
    "len(h2di_14nm.keys())"
   ]
  },
  {
   "cell_type": "code",
   "execution_count": 147,
   "metadata": {},
   "outputs": [
    {
     "data": {
      "text/html": [
       "<div>\n",
       "<style scoped>\n",
       "    .dataframe tbody tr th:only-of-type {\n",
       "        vertical-align: middle;\n",
       "    }\n",
       "\n",
       "    .dataframe tbody tr th {\n",
       "        vertical-align: top;\n",
       "    }\n",
       "\n",
       "    .dataframe thead th {\n",
       "        text-align: right;\n",
       "    }\n",
       "</style>\n",
       "<table border=\"1\" class=\"dataframe\">\n",
       "  <thead>\n",
       "    <tr style=\"text-align: right;\">\n",
       "      <th></th>\n",
       "      <th>BSA_des_res</th>\n",
       "      <th>mda_plga_frm_1.4nm</th>\n",
       "    </tr>\n",
       "  </thead>\n",
       "  <tbody>\n",
       "    <tr>\n",
       "      <td>0</td>\n",
       "      <td>ASP 1</td>\n",
       "      <td>0.0</td>\n",
       "    </tr>\n",
       "    <tr>\n",
       "      <td>1</td>\n",
       "      <td>THR 2</td>\n",
       "      <td>78.0</td>\n",
       "    </tr>\n",
       "    <tr>\n",
       "      <td>2</td>\n",
       "      <td>HIS 3</td>\n",
       "      <td>71.0</td>\n",
       "    </tr>\n",
       "    <tr>\n",
       "      <td>3</td>\n",
       "      <td>LYS 4</td>\n",
       "      <td>99.0</td>\n",
       "    </tr>\n",
       "    <tr>\n",
       "      <td>4</td>\n",
       "      <td>SER 5</td>\n",
       "      <td>68.0</td>\n",
       "    </tr>\n",
       "  </tbody>\n",
       "</table>\n",
       "</div>"
      ],
      "text/plain": [
       "  BSA_des_res  mda_plga_frm_1.4nm\n",
       "0       ASP 1                 0.0\n",
       "1       THR 2                78.0\n",
       "2       HIS 3                71.0\n",
       "3       LYS 4                99.0\n",
       "4       SER 5                68.0"
      ]
     },
     "execution_count": 147,
     "metadata": {},
     "output_type": "execute_result"
    }
   ],
   "source": [
    "pr_res14nm = list(prot_14nm.residues)\n",
    "ss_res14nm = [str(row) for row in pr_res14nm]\n",
    "rkg_14nm = {key:h2di_14nm[key][0] for key, value in h2di_14nm.items()}\n",
    "plg_14nmaa = pd.DataFrame(data=ss_res14nm, columns=[\"BSA_des_res\"])\n",
    "plg_14nmaa['mda_plga_frm_1.4nm'] = plg_14nmaa['BSA_des_res'].map(rkg_14nm)\n",
    "plg_14nmaa['BSA_des_res'] = red_bsa\n",
    "plg_14nmaa['mda_plga_frm_1.4nm'] = plg_14nmaa['mda_plga_frm_1.4nm'].replace('nan', np.nan).fillna(0)\n",
    "plg_14nmaa.head()"
   ]
  },
  {
   "cell_type": "code",
   "execution_count": 148,
   "metadata": {},
   "outputs": [
    {
     "data": {
      "text/html": [
       "<div>\n",
       "<style scoped>\n",
       "    .dataframe tbody tr th:only-of-type {\n",
       "        vertical-align: middle;\n",
       "    }\n",
       "\n",
       "    .dataframe tbody tr th {\n",
       "        vertical-align: top;\n",
       "    }\n",
       "\n",
       "    .dataframe thead th {\n",
       "        text-align: right;\n",
       "    }\n",
       "</style>\n",
       "<table border=\"1\" class=\"dataframe\">\n",
       "  <thead>\n",
       "    <tr style=\"text-align: right;\">\n",
       "      <th></th>\n",
       "      <th>BSA_des_res</th>\n",
       "      <th>mda_occ_0.9nm</th>\n",
       "      <th>mda_occ_1.1nm</th>\n",
       "      <th>mda_occ_1.4nm</th>\n",
       "    </tr>\n",
       "  </thead>\n",
       "  <tbody>\n",
       "    <tr>\n",
       "      <td>0</td>\n",
       "      <td>&lt;Residue ASP, 1&gt;</td>\n",
       "      <td>0.00</td>\n",
       "      <td>0.00</td>\n",
       "      <td>0.00</td>\n",
       "    </tr>\n",
       "    <tr>\n",
       "      <td>1</td>\n",
       "      <td>&lt;Residue THR, 2&gt;</td>\n",
       "      <td>0.00</td>\n",
       "      <td>0.00</td>\n",
       "      <td>0.01</td>\n",
       "    </tr>\n",
       "    <tr>\n",
       "      <td>2</td>\n",
       "      <td>&lt;Residue HIS, 3&gt;</td>\n",
       "      <td>0.00</td>\n",
       "      <td>0.00</td>\n",
       "      <td>0.01</td>\n",
       "    </tr>\n",
       "    <tr>\n",
       "      <td>3</td>\n",
       "      <td>&lt;Residue LYS, 4&gt;</td>\n",
       "      <td>0.00</td>\n",
       "      <td>0.00</td>\n",
       "      <td>0.01</td>\n",
       "    </tr>\n",
       "    <tr>\n",
       "      <td>4</td>\n",
       "      <td>&lt;Residue SER, 5&gt;</td>\n",
       "      <td>0.00</td>\n",
       "      <td>0.00</td>\n",
       "      <td>0.01</td>\n",
       "    </tr>\n",
       "    <tr>\n",
       "      <td>...</td>\n",
       "      <td>...</td>\n",
       "      <td>...</td>\n",
       "      <td>...</td>\n",
       "      <td>...</td>\n",
       "    </tr>\n",
       "    <tr>\n",
       "      <td>578</td>\n",
       "      <td>&lt;Residue GLN, 579&gt;</td>\n",
       "      <td>0.01</td>\n",
       "      <td>0.12</td>\n",
       "      <td>0.00</td>\n",
       "    </tr>\n",
       "    <tr>\n",
       "      <td>579</td>\n",
       "      <td>&lt;Residue THR, 580&gt;</td>\n",
       "      <td>0.07</td>\n",
       "      <td>0.24</td>\n",
       "      <td>0.00</td>\n",
       "    </tr>\n",
       "    <tr>\n",
       "      <td>580</td>\n",
       "      <td>&lt;Residue ALA, 581&gt;</td>\n",
       "      <td>0.02</td>\n",
       "      <td>0.14</td>\n",
       "      <td>0.00</td>\n",
       "    </tr>\n",
       "    <tr>\n",
       "      <td>581</td>\n",
       "      <td>&lt;Residue LEU, 582&gt;</td>\n",
       "      <td>0.00</td>\n",
       "      <td>0.05</td>\n",
       "      <td>0.00</td>\n",
       "    </tr>\n",
       "    <tr>\n",
       "      <td>582</td>\n",
       "      <td>&lt;Residue ALA, 583&gt;</td>\n",
       "      <td>0.00</td>\n",
       "      <td>0.12</td>\n",
       "      <td>0.00</td>\n",
       "    </tr>\n",
       "  </tbody>\n",
       "</table>\n",
       "<p>583 rows × 4 columns</p>\n",
       "</div>"
      ],
      "text/plain": [
       "            BSA_des_res  mda_occ_0.9nm  mda_occ_1.1nm  mda_occ_1.4nm\n",
       "0      <Residue ASP, 1>           0.00           0.00           0.00\n",
       "1      <Residue THR, 2>           0.00           0.00           0.01\n",
       "2      <Residue HIS, 3>           0.00           0.00           0.01\n",
       "3      <Residue LYS, 4>           0.00           0.00           0.01\n",
       "4      <Residue SER, 5>           0.00           0.00           0.01\n",
       "..                  ...            ...            ...            ...\n",
       "578  <Residue GLN, 579>           0.01           0.12           0.00\n",
       "579  <Residue THR, 580>           0.07           0.24           0.00\n",
       "580  <Residue ALA, 581>           0.02           0.14           0.00\n",
       "581  <Residue LEU, 582>           0.00           0.05           0.00\n",
       "582  <Residue ALA, 583>           0.00           0.12           0.00\n",
       "\n",
       "[583 rows x 4 columns]"
      ]
     },
     "execution_count": 148,
     "metadata": {},
     "output_type": "execute_result"
    }
   ],
   "source": [
    "# Extract mean occupancy values\n",
    "pr_res_14ur = list(prot_14nm.residues)\n",
    "ss_res_14ur = [str(row) for row in pr_res_14ur]\n",
    "rkg_14ur = {key:h2di_14nm[key][1] for key, value in h2di_14nm.items()}\n",
    "plg_09nm_occ['mda_occ_1.4nm'] = plg_09nm_occ['BSA_des_res'].map(rkg_14ur)\n",
    "plg_09nm_occ['mda_occ_1.4nm'] = plg_09nm_occ['mda_occ_1.4nm'].replace('nan', np.nan).fillna(0)\n",
    "plg_09nm_occ['mda_occ_1.4nm'] = plg_09nm_occ['mda_occ_1.4nm'].round(2)\n",
    "plg_09nm_occ"
   ]
  },
  {
   "cell_type": "code",
   "execution_count": 149,
   "metadata": {},
   "outputs": [],
   "source": [
    "bsa_r = np.array(list(prot_14nm.resids)) # shape is 4652\n",
    "m_occ_14nm = np.array(list(plg_09nm_occ['mda_occ_1.4nm'])) # shape is 583\n",
    "m_occ_14New = np.zeros(shape=(4653))\n",
    "at_ind = np.where(bsa_r[:-1] != bsa_r[1:])[0]\n",
    "at_in_nw = np.sort(np.append([0,4653],at_ind))\n",
    "nw_v = 0\n",
    "for i in range(583):\n",
    "    b = at_in_nw[i+1] +1\n",
    "    m_occ_14New[nw_v:b] = m_occ_14nm[i]\n",
    "    nw_v = at_in_nw[i+1] + 1 "
   ]
  },
  {
   "cell_type": "code",
   "execution_count": 150,
   "metadata": {},
   "outputs": [
    {
     "data": {
      "text/plain": [
       "(array([   8,    9,   10,   11,   12,   13,   14,   15,   16,   17,   18,\n",
       "          19,   20,   21,   22,   23,   24,   25,   26,   27,   28,   29,\n",
       "          30,   31,   32,   33,   34,   35,   36,   37,   38,   39,   40,\n",
       "          41,   42,   43,   44,   45,   46,   47,   48,   62,   63,   64,\n",
       "          65,   66,   67,   68,   69,   70,   71,   94,   95,   96,   97,\n",
       "          98,   99,  100,  101,  102,  103,  104,  105,  106,  107,  108,\n",
       "         109,  110,  111,  112,  113,  114,  115,  116,  117,  118,  119,\n",
       "         120,  121,  122,  123,  124,  125,  126,  127,  128,  129,  130,\n",
       "         131,  132,  133,  134,  135,  136,  137,  138,  139,  140,  141,\n",
       "         142,  143,  144,  145,  146,  147,  148,  149,  150,  162,  163,\n",
       "         164,  165,  166,  167,  168,  169,  170,  266,  267,  268,  269,\n",
       "         270,  271,  272,  273,  274,  275,  276,  277,  278,  279,  280,\n",
       "         281,  282,  283,  284,  285,  286,  287,  299,  300,  301,  302,\n",
       "         303,  304,  305,  306,  307,  308,  309,  310,  311,  312,  313,\n",
       "         314,  315,  333,  334,  335,  336,  337,  338,  339,  340,  341,\n",
       "         357,  358,  359,  360,  361,  362,  363,  364,  389,  390,  391,\n",
       "         392,  393,  394,  395,  396,  397,  414,  415,  416,  417,  418,\n",
       "         419,  420,  421,  422,  423,  424,  425,  426,  427,  428,  429,\n",
       "         436,  437,  438,  439,  440,  441,  442,  443,  444,  445,  446,\n",
       "         447,  448,  449,  450,  451,  452,  453,  454,  455,  465,  466,\n",
       "         467,  468,  469,  470,  615,  616,  617,  618,  619,  620,  621,\n",
       "         622,  623,  624,  625,  634,  635,  636,  637,  638,  639,  640,\n",
       "         641,  642,  643,  644,  645,  646,  647,  648,  649,  650,  651,\n",
       "         652,  653,  654,  655,  656,  657,  658,  659,  660,  698,  699,\n",
       "         700,  701,  702,  703,  704,  705,  718,  719,  720,  721,  722,\n",
       "         723,  724,  725,  726,  994,  995,  996,  997,  998,  999, 1000,\n",
       "        1001, 1002, 1003, 1004, 1014, 1015, 1016, 1017, 1018, 1019, 1020,\n",
       "        1021, 1022, 1023, 1024, 1025, 1026, 1027, 1028, 1029, 1030, 1031,\n",
       "        1032, 1033, 1034, 1035, 1036, 1037, 1038, 1039, 1040, 1041, 1042,\n",
       "        1043, 1044, 1065, 1066, 1067, 1068, 1069, 1070, 1071, 1072, 1073,\n",
       "        1074, 1075, 1076, 1077, 1078, 1286, 1287, 1288, 1289, 1290, 1291,\n",
       "        1292, 1293, 1294, 1295, 1296, 1297, 1298, 1299, 1300, 1301, 1302,\n",
       "        1315, 1316, 1317, 1318, 1319, 1320, 1321, 1322, 1323, 1324, 1325,\n",
       "        1326, 1345, 1346, 1347, 1348, 1349, 1350, 1351, 1352, 1353, 1810,\n",
       "        1811, 1812, 1813, 1814, 1815, 1816, 1817, 1818, 2124, 2125, 2126,\n",
       "        2127, 2128, 2129, 2130, 2131, 2132, 2133, 2134, 2135, 2136, 2137,\n",
       "        2146, 2147, 2148, 2149, 2150, 2151, 2152, 2153, 2154, 2155, 2156,\n",
       "        2157, 2158, 2159, 2160, 2161, 2162, 2178, 2179, 2180, 2181, 2182,\n",
       "        2183, 2184, 2185, 2186, 2187, 2188, 2189, 2190, 2191, 2192, 2193,\n",
       "        2194, 2195, 2196, 2197, 2198, 2207, 2208, 2209, 2210, 2211, 2212,\n",
       "        2213, 2214, 2215, 2231, 2232, 2233, 2234, 2235, 2236, 2237, 2238,\n",
       "        2239, 2240, 2241, 2242, 2243, 2244, 2245, 2246, 2247, 2248, 2249,\n",
       "        2250, 2251, 2252, 2253, 2254, 2255, 2256, 2257, 2258, 2259, 2260,\n",
       "        2261, 2262, 2263, 2264, 2265, 2266, 2267, 2268, 2269, 2270, 2271,\n",
       "        2272, 2273, 2274, 2275, 2276, 2277, 2278, 2279, 2280, 2281, 2282,\n",
       "        2283, 2284, 2285, 2286, 2287, 2288, 2289, 2290, 2291, 2292, 2293,\n",
       "        2294, 2372, 2373, 2374, 2375, 2376, 2377, 2378, 2379, 2380, 2381,\n",
       "        2382, 2383, 2384, 2385, 2386, 2387, 2388, 2389, 2390, 2391, 2392,\n",
       "        2393, 2394, 2395, 2396, 2397, 2398, 2399, 2400, 2401, 2402, 2403,\n",
       "        2404, 2405, 2406, 2407, 2408, 2409, 2410, 2411, 2412, 2413, 2414,\n",
       "        2415, 2416, 2417, 2418, 2419, 2420, 2421, 2422, 2423, 2424, 2425,\n",
       "        2426, 2427, 2428, 2429, 2430, 2446, 2447, 2448, 2449, 2450, 2451,\n",
       "        2452, 2453, 2454, 2455, 2456, 2457, 2458, 2475, 2476, 2477, 2478,\n",
       "        2479, 2480, 2481, 2482, 2483, 2484, 2485, 2486, 2487, 2488, 2489,\n",
       "        2490, 2491, 2492, 2493, 2494, 2495, 2496, 2497, 2498, 2499, 2500,\n",
       "        2817, 2818, 2819, 2820, 2821, 2822, 2823, 2824, 2825, 2847, 2848,\n",
       "        2849, 2850, 2851, 2852, 2853, 2854, 2855, 2856, 2857, 2858, 2876,\n",
       "        2877, 2878, 2879, 2880, 2881, 2882, 2883, 2884, 2885, 2886, 2887,\n",
       "        2888, 2889, 2890, 2902, 2903, 2904, 2905, 2906, 2907, 2908, 2909,\n",
       "        2910, 2911, 2912, 2913, 2914, 2915, 2916, 2917, 2918, 2919, 2920,\n",
       "        2921, 2922, 2923, 2924, 2925, 2926, 2927, 2928, 2929, 2930, 2931,\n",
       "        2932, 2933, 2934, 2935, 2936, 2937, 2938, 2939, 2940, 2941, 2942,\n",
       "        2943, 2944, 2945, 2946, 2947, 2948, 2949, 2950, 2951, 2952, 2953,\n",
       "        2954, 2967, 2968, 2969, 2970, 2971, 2972, 2973, 2974, 2975, 2976,\n",
       "        2977, 2978, 2979, 2980, 2981, 2982, 2983, 2984, 2985, 2986, 2998,\n",
       "        2999, 3000, 3001, 3002, 3003, 3004, 3005, 3006, 3007, 3008, 3009,\n",
       "        3010, 3011, 3012, 3013, 3014, 3023, 3024, 3025, 3026, 3027, 3028,\n",
       "        3029, 3030, 3031, 3032, 3033, 3034, 3035, 3036, 3037, 3038, 3039,\n",
       "        3040, 3041, 3057, 3058, 3059, 3060, 3061, 3062, 3063, 3064, 3065,\n",
       "        3066, 3067, 3068, 3069, 3070, 3071, 3072, 3073, 3090, 3091, 3092,\n",
       "        3093, 3094, 3095, 3096, 3097, 3146, 3147, 3148, 3149, 3150, 3151,\n",
       "        3152, 3153, 3154, 3155, 3156, 3157, 3158, 3159, 3160, 3161, 3162,\n",
       "        3174, 3175, 3176, 3177, 3178, 3179, 3180, 3181, 3182, 3183, 3184,\n",
       "        3185, 3186, 3187, 3188, 3189, 3190, 3191, 3192, 3193, 3194, 3195,\n",
       "        3196, 3197, 3198, 3199, 3854, 3855, 3856, 3857, 3858, 3859, 3860,\n",
       "        3861, 4005, 4006, 4007, 4008, 4009, 4010, 4011, 4012, 4013, 4014,\n",
       "        4015, 4016, 4017, 4018, 4019, 4020, 4021, 4022, 4023, 4024, 4025,\n",
       "        4026, 4027, 4028, 4029, 4030, 4031, 4032, 4033, 4034, 4035, 4036,\n",
       "        4037, 4038, 4039, 4040, 4041, 4061, 4062, 4063, 4064, 4065, 4066,\n",
       "        4067, 4068, 4069, 4070, 4071, 4072, 4073, 4074, 4075, 4076, 4077,\n",
       "        4078, 4079, 4080, 4081, 4082, 4083, 4084, 4085, 4086, 4087, 4088,\n",
       "        4094, 4095, 4096, 4097, 4098, 4099, 4100, 4101, 4332, 4333, 4334,\n",
       "        4335, 4336, 4337, 4338, 4339, 4340, 4358, 4359, 4360, 4361, 4362,\n",
       "        4363, 4364, 4365, 4366, 4486, 4487, 4488, 4489, 4490, 4491, 4492,\n",
       "        4493, 4494, 4495, 4496, 4497, 4498, 4499, 4500, 4501, 4511, 4512,\n",
       "        4513, 4514, 4515, 4516, 4517, 4518, 4519, 4520, 4521, 4522, 4523,\n",
       "        4524, 4531, 4532, 4533, 4534, 4535, 4536, 4537, 4538, 4539, 4540,\n",
       "        4541, 4542, 4543, 4544, 4545, 4546, 4547, 4548, 4549, 4550, 4551,\n",
       "        4552, 4553, 4567, 4568, 4569, 4570, 4571, 4572, 4573, 4574, 4575,\n",
       "        4576, 4577, 4578, 4579, 4580, 4581, 4582, 4591, 4592, 4593, 4594,\n",
       "        4595, 4596, 4597, 4598, 4599, 4600, 4601, 4602, 4603, 4604]),)"
      ]
     },
     "execution_count": 150,
     "metadata": {},
     "output_type": "execute_result"
    }
   ],
   "source": [
    "np.nonzero(m_occ_14New)"
   ]
  },
  {
   "cell_type": "markdown",
   "metadata": {},
   "source": [
    "### Visualize Occupanct on protein "
   ]
  },
  {
   "cell_type": "code",
   "execution_count": 151,
   "metadata": {},
   "outputs": [
    {
     "data": {
      "text/plain": [
       "array([0., 0., 0., ..., 0., 0., 0.])"
      ]
     },
     "execution_count": 151,
     "metadata": {},
     "output_type": "execute_result"
    }
   ],
   "source": [
    "prot_14nm.occupancies = m_occ_14New\n",
    "prot_14nm.occupancies"
   ]
  },
  {
   "cell_type": "code",
   "execution_count": 152,
   "metadata": {},
   "outputs": [],
   "source": [
    "with mda.Writer(\"prot_14nmRes.pdb\") as pdb:\n",
    "    pdb.write(prot_14nm)"
   ]
  },
  {
   "cell_type": "markdown",
   "metadata": {},
   "source": [
    "### Residue Importance: 1.4 nm restrained "
   ]
  },
  {
   "cell_type": "code",
   "execution_count": 153,
   "metadata": {},
   "outputs": [],
   "source": [
    "# Need to fix function, the residue number are not counting the other 2 PLGA oligomers cuz of same resid number\n",
    "trjmap_14nmPEG = prot_poly_cntmovie(prot_14nm, pn20_14nm, dmax, u14nm_n20PEG, 0, 10000)\n",
    "#trj_ppmap_12nm_chC = prot_poly_cntmovie(prot, all_pn20_C, dmax, u_pn20, 0, 10000)"
   ]
  },
  {
   "cell_type": "code",
   "execution_count": 154,
   "metadata": {},
   "outputs": [],
   "source": [
    "np.save('1.4nm_res.npy', trjmap_14nmPEG)    # .npy extension is added if not given"
   ]
  },
  {
   "cell_type": "code",
   "execution_count": null,
   "metadata": {},
   "outputs": [],
   "source": [
    "trj_ppmap_2nm = np.load('2nm_res.npy', allow_pickle=True)\n",
    "trj_ppmap_2nm"
   ]
  },
  {
   "cell_type": "code",
   "execution_count": 155,
   "metadata": {},
   "outputs": [
    {
     "data": {
      "text/plain": [
       "(583, 60)"
      ]
     },
     "execution_count": 155,
     "metadata": {},
     "output_type": "execute_result"
    }
   ],
   "source": [
    "trjmap_14nmPEG[0].shape"
   ]
  },
  {
   "cell_type": "code",
   "execution_count": 156,
   "metadata": {},
   "outputs": [
    {
     "data": {
      "text/plain": [
       "0.0"
      ]
     },
     "execution_count": 156,
     "metadata": {},
     "output_type": "execute_result"
    }
   ],
   "source": [
    "np.sum(trjmap_14nmPEG[1000][0])"
   ]
  },
  {
   "cell_type": "code",
   "execution_count": 157,
   "metadata": {},
   "outputs": [
    {
     "data": {
      "text/plain": [
       "(10000,)"
      ]
     },
     "execution_count": 157,
     "metadata": {},
     "output_type": "execute_result"
    }
   ],
   "source": [
    "kj = np.zeros(shape=(10000, 583))\n",
    "kj[:,582].shape"
   ]
  },
  {
   "cell_type": "code",
   "execution_count": 158,
   "metadata": {},
   "outputs": [],
   "source": [
    "pp_14nm_ct = np.zeros(shape=(10000, 583))\n",
    "for i in range(10000):\n",
    "    for j in range(583):\n",
    "        pp_14nm_ct[i][j] = np.sum(trjmap_14nmPEG[i][j])"
   ]
  },
  {
   "cell_type": "code",
   "execution_count": 159,
   "metadata": {},
   "outputs": [],
   "source": [
    "pp_14nmtot = np.zeros(shape=(583))\n",
    "for i in range(583):\n",
    "    pp_14nmtot[i] = np.sum(pp_14nm_ct[:,i])\n",
    "#pp_12nmtot"
   ]
  },
  {
   "cell_type": "code",
   "execution_count": 160,
   "metadata": {},
   "outputs": [
    {
     "data": {
      "text/plain": [
       "(array([  1,   2,   3,   4,   5,   7,   8,  11,  12,  13,  14,  15,  16,\n",
       "         17,  19,  32,  33,  34,  36,  37,  39,  40,  43,  44,  47,  50,\n",
       "         51,  53,  54,  55,  56,  57,  58,  74,  75,  76,  77,  78,  79,\n",
       "         80,  81,  82,  83,  84,  85,  87,  88,  90,  91,  92,  93,  96,\n",
       "        110, 111, 112, 114, 125, 126, 127, 128, 129, 130, 133, 154, 156,\n",
       "        157, 158, 160, 161, 164, 166, 174, 175, 178, 179, 223, 256, 260,\n",
       "        263, 264, 265, 266, 267, 268, 270, 271, 272, 274, 275, 277, 278,\n",
       "        279, 280, 281, 282, 283, 284, 293, 294, 295, 296, 297, 298, 299,\n",
       "        300, 301, 302, 304, 305, 306, 309, 310, 311, 312, 315, 338, 346,\n",
       "        349, 350, 353, 354, 357, 358, 361, 362, 363, 364, 365, 366, 367,\n",
       "        368, 369, 370, 371, 373, 374, 376, 377, 378, 380, 381, 384, 387,\n",
       "        388, 391, 392, 393, 394, 395, 396, 397, 408, 439, 442, 473, 477,\n",
       "        481, 484, 487, 488, 490, 493, 499, 500, 501, 502, 503, 505, 506,\n",
       "        507, 508, 510, 516, 538, 539, 540, 541, 543, 544, 547, 548, 551,\n",
       "        555, 558, 559, 560, 561, 563, 564, 565, 566, 567, 568, 569, 571,\n",
       "        572, 574, 575, 577, 578]),)"
      ]
     },
     "execution_count": 160,
     "metadata": {},
     "output_type": "execute_result"
    }
   ],
   "source": [
    "np.nonzero(pp_14nmtot)"
   ]
  },
  {
   "cell_type": "code",
   "execution_count": 185,
   "metadata": {},
   "outputs": [],
   "source": [
    "a_peg = np.sum(pp_14nmtot)"
   ]
  },
  {
   "cell_type": "code",
   "execution_count": 186,
   "metadata": {},
   "outputs": [],
   "source": [
    "b_peg = np.sum(pp_11nmtot)"
   ]
  },
  {
   "cell_type": "code",
   "execution_count": 187,
   "metadata": {},
   "outputs": [],
   "source": [
    "c_peg = np.sum(pp_09nmtot)"
   ]
  },
  {
   "cell_type": "code",
   "execution_count": 184,
   "metadata": {},
   "outputs": [],
   "source": [
    "plt.close('all')"
   ]
  },
  {
   "cell_type": "code",
   "execution_count": 191,
   "metadata": {},
   "outputs": [
    {
     "data": {
      "application/vnd.jupyter.widget-view+json": {
       "model_id": "d2ee1ec69fdc455ba0483a473d216a38",
       "version_major": 2,
       "version_minor": 0
      },
      "text/plain": [
       "Canvas(toolbar=Toolbar(toolitems=[('Home', 'Reset original view', 'home', 'home'), ('Back', 'Back to previous …"
      ]
     },
     "metadata": {},
     "output_type": "display_data"
    },
    {
     "data": {
      "text/plain": [
       "Text(0.5, 0, 'BSA Residue ID')"
      ]
     },
     "execution_count": 191,
     "metadata": {},
     "output_type": "execute_result"
    }
   ],
   "source": [
    "y_pos = np.arange(583) + 1\n",
    "wid = np.zeros(shape=583)\n",
    "wid += 1.5\n",
    "#wid\n",
    "fig = plt.figure(figsize=(12,12))\n",
    "fig.canvas.layout.width = '800px'\n",
    "fig.canvas.layout.height = '700px'\n",
    "plt.bar(y_pos, pp_09nmtot/c_peg, align='center',width=wid, alpha=0.5, color='#1D77CF',label='0.9 nm PEG')\n",
    "plt.bar(y_pos+0.25, pp_11nmtot/b_peg, align='center',width=wid, color='#562A8B', alpha=0.3, label='1.1 nm PEG')\n",
    "plt.bar(y_pos+0.3, pp_14nmtot/a_peg, align='center',width=wid, color='#4E4C4D', alpha=0.3, label='1.4 nm PEG')\n",
    "#plt.bar(y_pos+0.25, pp_11nmtot/b_peg, align='center',width=wid, color='#562A8B', alpha=0.3, label='1.1 nm PEG')\n",
    "#plt.bar(y_pos, pp_09nmtot/c_peg, align='center',width=wid, alpha=0.5, color='#1D77CF',label='0.9 nm PEG')\n",
    "plt.title(\"BSA in water with PEG restrained, 100 ns\", fontsize=18)\n",
    "plt.xticks(fontsize=14)\n",
    "plt.yticks(fontsize=14)\n",
    "plt.xlim([0,600])\n",
    "plt.ylim([0,0.2])\n",
    "plt.legend(fontsize=14)\n",
    "plt.ylabel(r'Normalized Total No. of PEG contacts', fontsize=15)\n",
    "plt.xlabel(r'BSA Residue ID', fontsize=15)"
   ]
  },
  {
   "cell_type": "markdown",
   "metadata": {},
   "source": [
    "### Total number of residues that are within 4 angstroms of a PLGA oligomer residue within a 100 ns trajectory block"
   ]
  },
  {
   "cell_type": "code",
   "execution_count": 162,
   "metadata": {},
   "outputs": [
    {
     "data": {
      "text/html": [
       "<div>\n",
       "<style scoped>\n",
       "    .dataframe tbody tr th:only-of-type {\n",
       "        vertical-align: middle;\n",
       "    }\n",
       "\n",
       "    .dataframe tbody tr th {\n",
       "        vertical-align: top;\n",
       "    }\n",
       "\n",
       "    .dataframe thead th {\n",
       "        text-align: right;\n",
       "    }\n",
       "</style>\n",
       "<table border=\"1\" class=\"dataframe\">\n",
       "  <thead>\n",
       "    <tr style=\"text-align: right;\">\n",
       "      <th></th>\n",
       "      <th>Amino_acids</th>\n",
       "      <th>No_of_surf_res (MDAnalysis)</th>\n",
       "      <th>No_of_surf_res (VMD)</th>\n",
       "      <th>peg_0.9nm_100ns</th>\n",
       "      <th>peg_1.1nm_100ns</th>\n",
       "      <th>peg_1.4nm_100ns</th>\n",
       "    </tr>\n",
       "  </thead>\n",
       "  <tbody>\n",
       "    <tr>\n",
       "      <td>0</td>\n",
       "      <td>LYS</td>\n",
       "      <td>59</td>\n",
       "      <td>59</td>\n",
       "      <td>30</td>\n",
       "      <td>34</td>\n",
       "      <td>33</td>\n",
       "    </tr>\n",
       "    <tr>\n",
       "      <td>1</td>\n",
       "      <td>ARG</td>\n",
       "      <td>23</td>\n",
       "      <td>23</td>\n",
       "      <td>6</td>\n",
       "      <td>9</td>\n",
       "      <td>3</td>\n",
       "    </tr>\n",
       "    <tr>\n",
       "      <td>2</td>\n",
       "      <td>HIS</td>\n",
       "      <td>16</td>\n",
       "      <td>16</td>\n",
       "      <td>4</td>\n",
       "      <td>7</td>\n",
       "      <td>7</td>\n",
       "    </tr>\n",
       "    <tr>\n",
       "      <td>3</td>\n",
       "      <td>ASP</td>\n",
       "      <td>40</td>\n",
       "      <td>40</td>\n",
       "      <td>20</td>\n",
       "      <td>22</td>\n",
       "      <td>24</td>\n",
       "    </tr>\n",
       "    <tr>\n",
       "      <td>4</td>\n",
       "      <td>GLU</td>\n",
       "      <td>59</td>\n",
       "      <td>59</td>\n",
       "      <td>25</td>\n",
       "      <td>31</td>\n",
       "      <td>29</td>\n",
       "    </tr>\n",
       "    <tr>\n",
       "      <td>5</td>\n",
       "      <td>SER</td>\n",
       "      <td>23</td>\n",
       "      <td>23</td>\n",
       "      <td>6</td>\n",
       "      <td>10</td>\n",
       "      <td>8</td>\n",
       "    </tr>\n",
       "    <tr>\n",
       "      <td>6</td>\n",
       "      <td>THR</td>\n",
       "      <td>29</td>\n",
       "      <td>29</td>\n",
       "      <td>18</td>\n",
       "      <td>21</td>\n",
       "      <td>13</td>\n",
       "    </tr>\n",
       "    <tr>\n",
       "      <td>7</td>\n",
       "      <td>CYS</td>\n",
       "      <td>24</td>\n",
       "      <td>24</td>\n",
       "      <td>12</td>\n",
       "      <td>12</td>\n",
       "      <td>10</td>\n",
       "    </tr>\n",
       "    <tr>\n",
       "      <td>8</td>\n",
       "      <td>TYR</td>\n",
       "      <td>19</td>\n",
       "      <td>19</td>\n",
       "      <td>3</td>\n",
       "      <td>7</td>\n",
       "      <td>3</td>\n",
       "    </tr>\n",
       "    <tr>\n",
       "      <td>9</td>\n",
       "      <td>ASN</td>\n",
       "      <td>14</td>\n",
       "      <td>14</td>\n",
       "      <td>3</td>\n",
       "      <td>4</td>\n",
       "      <td>8</td>\n",
       "    </tr>\n",
       "    <tr>\n",
       "      <td>10</td>\n",
       "      <td>GLN</td>\n",
       "      <td>19</td>\n",
       "      <td>19</td>\n",
       "      <td>7</td>\n",
       "      <td>11</td>\n",
       "      <td>8</td>\n",
       "    </tr>\n",
       "    <tr>\n",
       "      <td>11</td>\n",
       "      <td>GLY</td>\n",
       "      <td>11</td>\n",
       "      <td>11</td>\n",
       "      <td>3</td>\n",
       "      <td>5</td>\n",
       "      <td>4</td>\n",
       "    </tr>\n",
       "    <tr>\n",
       "      <td>12</td>\n",
       "      <td>ALA</td>\n",
       "      <td>39</td>\n",
       "      <td>38</td>\n",
       "      <td>17</td>\n",
       "      <td>20</td>\n",
       "      <td>19</td>\n",
       "    </tr>\n",
       "    <tr>\n",
       "      <td>13</td>\n",
       "      <td>VAL</td>\n",
       "      <td>19</td>\n",
       "      <td>19</td>\n",
       "      <td>7</td>\n",
       "      <td>13</td>\n",
       "      <td>8</td>\n",
       "    </tr>\n",
       "    <tr>\n",
       "      <td>14</td>\n",
       "      <td>LEU</td>\n",
       "      <td>34</td>\n",
       "      <td>34</td>\n",
       "      <td>10</td>\n",
       "      <td>13</td>\n",
       "      <td>9</td>\n",
       "    </tr>\n",
       "    <tr>\n",
       "      <td>15</td>\n",
       "      <td>ILE</td>\n",
       "      <td>7</td>\n",
       "      <td>7</td>\n",
       "      <td>2</td>\n",
       "      <td>4</td>\n",
       "      <td>1</td>\n",
       "    </tr>\n",
       "    <tr>\n",
       "      <td>16</td>\n",
       "      <td>MET</td>\n",
       "      <td>3</td>\n",
       "      <td>3</td>\n",
       "      <td>0</td>\n",
       "      <td>2</td>\n",
       "      <td>0</td>\n",
       "    </tr>\n",
       "    <tr>\n",
       "      <td>17</td>\n",
       "      <td>PHE</td>\n",
       "      <td>20</td>\n",
       "      <td>20</td>\n",
       "      <td>6</td>\n",
       "      <td>8</td>\n",
       "      <td>6</td>\n",
       "    </tr>\n",
       "    <tr>\n",
       "      <td>18</td>\n",
       "      <td>TRP</td>\n",
       "      <td>2</td>\n",
       "      <td>2</td>\n",
       "      <td>0</td>\n",
       "      <td>0</td>\n",
       "      <td>1</td>\n",
       "    </tr>\n",
       "    <tr>\n",
       "      <td>19</td>\n",
       "      <td>PRO</td>\n",
       "      <td>27</td>\n",
       "      <td>27</td>\n",
       "      <td>15</td>\n",
       "      <td>21</td>\n",
       "      <td>11</td>\n",
       "    </tr>\n",
       "  </tbody>\n",
       "</table>\n",
       "</div>"
      ],
      "text/plain": [
       "   Amino_acids  No_of_surf_res (MDAnalysis)  No_of_surf_res (VMD)  \\\n",
       "0          LYS                           59                    59   \n",
       "1          ARG                           23                    23   \n",
       "2          HIS                           16                    16   \n",
       "3          ASP                           40                    40   \n",
       "4          GLU                           59                    59   \n",
       "5          SER                           23                    23   \n",
       "6          THR                           29                    29   \n",
       "7          CYS                           24                    24   \n",
       "8          TYR                           19                    19   \n",
       "9          ASN                           14                    14   \n",
       "10         GLN                           19                    19   \n",
       "11         GLY                           11                    11   \n",
       "12         ALA                           39                    38   \n",
       "13         VAL                           19                    19   \n",
       "14         LEU                           34                    34   \n",
       "15         ILE                            7                     7   \n",
       "16         MET                            3                     3   \n",
       "17         PHE                           20                    20   \n",
       "18         TRP                            2                     2   \n",
       "19         PRO                           27                    27   \n",
       "\n",
       "    peg_0.9nm_100ns  peg_1.1nm_100ns  peg_1.4nm_100ns  \n",
       "0                30               34               33  \n",
       "1                 6                9                3  \n",
       "2                 4                7                7  \n",
       "3                20               22               24  \n",
       "4                25               31               29  \n",
       "5                 6               10                8  \n",
       "6                18               21               13  \n",
       "7                12               12               10  \n",
       "8                 3                7                3  \n",
       "9                 3                4                8  \n",
       "10                7               11                8  \n",
       "11                3                5                4  \n",
       "12               17               20               19  \n",
       "13                7               13                8  \n",
       "14               10               13                9  \n",
       "15                2                4                1  \n",
       "16                0                2                0  \n",
       "17                6                8                6  \n",
       "18                0                0                1  \n",
       "19               15               21               11  "
      ]
     },
     "execution_count": 162,
     "metadata": {},
     "output_type": "execute_result"
    }
   ],
   "source": [
    "apl_14nm = []\n",
    "\n",
    "# Some residues don't have any contact with the 3 N = 20 PLGA oligomers within 100 ns,\n",
    "# Put residues that do have contact with BSA in a separate list\n",
    "for index, r_pl in plg_14nmaa.iterrows():\n",
    "    if r_pl['mda_plga_frm_1.4nm'] != 0:\n",
    "        apl_14nm.append(r_pl['BSA_des_res'])\n",
    "        \n",
    "# This chunk of code gets an AA count from the above list, in order \n",
    "# to get a total number of residues that contact BSA\n",
    "cpl_14nm = []\n",
    "\n",
    "for index, r_a in aa_count.iterrows():\n",
    "    count = 0\n",
    "    for i in range(len(apl_14nm)):\n",
    "        if r_a['Amino_acids'] in apl_14nm[i]:\n",
    "            count += 1\n",
    "    cpl_14nm.append(count)      \n",
    "        \n",
    "aa_count['peg_1.4nm_100ns'] = cpl_14nm\n",
    "#aa_count.drop('No_of_surf_res (VMD)', axis=1, inplace=True)\n",
    "aa_count"
   ]
  },
  {
   "cell_type": "code",
   "execution_count": 163,
   "metadata": {},
   "outputs": [
    {
     "data": {
      "text/plain": [
       "205"
      ]
     },
     "execution_count": 163,
     "metadata": {},
     "output_type": "execute_result"
    }
   ],
   "source": [
    "# This gives the total number of residues that are within 4 angstroms of a PLGA oligomer residue\n",
    "# within a 100 ns trajectory block\n",
    "aa_count['peg_1.4nm_100ns'].sum()"
   ]
  },
  {
   "cell_type": "code",
   "execution_count": 164,
   "metadata": {},
   "outputs": [
    {
     "data": {
      "text/plain": [
       "487"
      ]
     },
     "execution_count": 164,
     "metadata": {},
     "output_type": "execute_result"
    }
   ],
   "source": [
    "# This gives the total number of residues that are within 4 angstroms of a water molecule\n",
    "# within a 1 ns trajectory block\n",
    "aa_count['No_of_surf_res (MDAnalysis)'].sum()"
   ]
  },
  {
   "cell_type": "code",
   "execution_count": 165,
   "metadata": {},
   "outputs": [
    {
     "data": {
      "text/plain": [
       "0.4209445585215606"
      ]
     },
     "execution_count": 165,
     "metadata": {},
     "output_type": "execute_result"
    }
   ],
   "source": [
    "# This gives the total fraction of contacts within the 1.2 nm Rg 100 ns trajectory\n",
    "aa_count['peg_1.4nm_100ns'].sum()/aa_count['No_of_surf_res (MDAnalysis)'].sum()"
   ]
  },
  {
   "cell_type": "code",
   "execution_count": 167,
   "metadata": {},
   "outputs": [
    {
     "name": "stdout",
     "output_type": "stream",
     "text": [
      "Mean Occpancy (1.4 nm Rg): 0.07033170731707317 Occ. std. dev.: 0.1632142219996123\n"
     ]
    }
   ],
   "source": [
    "# Mean occupancy and std deviation \n",
    "ll_mo2nm = [value[1] for key, value in h2di_14nm.items()]\n",
    "print(\"Mean Occpancy (1.4 nm Rg): \"+str(np.mean(ll_mo2nm)), \"Occ. std. dev.: \"+str(np.std(ll_mo2nm)))"
   ]
  },
  {
   "cell_type": "code",
   "execution_count": null,
   "metadata": {},
   "outputs": [],
   "source": [
    "cd_2nm = frac_cont(h2di_2nm)\n",
    "cd_2nm"
   ]
  },
  {
   "cell_type": "markdown",
   "metadata": {},
   "source": [
    "### Calc. fractional contacts for each AA group type "
   ]
  },
  {
   "cell_type": "code",
   "execution_count": 171,
   "metadata": {},
   "outputs": [
    {
     "name": "stdout",
     "output_type": "stream",
     "text": [
      "0\n",
      "2000\n",
      "2000\n",
      "4000\n",
      "4000\n",
      "6000\n",
      "6000\n",
      "8000\n",
      "8000\n",
      "10000\n"
     ]
    }
   ],
   "source": [
    "fcnt_rg14nm, prgrp_14nm, aa_matx_14nm = bavg_frac_cnt(5, prot_14nm, pn20_14nm, dmax, u14nm_n20PEG, no_surf, 0, 10000)"
   ]
  },
  {
   "cell_type": "code",
   "execution_count": 172,
   "metadata": {},
   "outputs": [
    {
     "data": {
      "text/plain": [
       "{'Negative': array([0.23001977, 0.17563879, 0.18279515, 0.21668994, 0.2017111 ]),\n",
       " 'Positive': array([0.34159842, 0.16158551, 0.21958239, 0.19811406, 0.17486378]),\n",
       " 'Polar': array([0.1897769 , 0.25689744, 0.21626921, 0.22442349, 0.17954485]),\n",
       " 'Hydrophobic': array([0.18819543, 0.13387627, 0.14250035, 0.14964026, 0.16276217]),\n",
       " 'Aromatic': array([0.05040949, 0.272002  , 0.2388529 , 0.21113225, 0.28111811]),\n",
       " 'total_frac': array([0.10677618, 0.19712526, 0.09445585, 0.09856263, 0.26078029])}"
      ]
     },
     "execution_count": 172,
     "metadata": {},
     "output_type": "execute_result"
    }
   ],
   "source": [
    "fcnt_rg14nm"
   ]
  },
  {
   "cell_type": "code",
   "execution_count": 173,
   "metadata": {},
   "outputs": [
    {
     "data": {
      "text/plain": [
       "array([0.20137095, 0.21914883, 0.21338238, 0.15539489, 0.21070295])"
      ]
     },
     "execution_count": 173,
     "metadata": {},
     "output_type": "execute_result"
    }
   ],
   "source": [
    "fc_14nm_mean = np.array([np.mean(fcnt_rg14nm['Negative']), np.mean(fcnt_rg14nm['Positive'])\n",
    "                        ,np.mean(fcnt_rg14nm['Polar']),np.mean(fcnt_rg14nm['Hydrophobic'])\n",
    "                        , np.mean(fcnt_rg14nm['Aromatic'])])\n",
    "fc_14nm_mean"
   ]
  },
  {
   "cell_type": "code",
   "execution_count": 174,
   "metadata": {},
   "outputs": [
    {
     "data": {
      "text/plain": [
       "array([0.02031131, 0.06436032, 0.02729834, 0.01893456, 0.08390765])"
      ]
     },
     "execution_count": 174,
     "metadata": {},
     "output_type": "execute_result"
    }
   ],
   "source": [
    "fc_14nm_std = np.array([np.std(fcnt_rg14nm['Negative']), np.std(fcnt_rg14nm['Positive'])\n",
    "                       ,np.std(fcnt_rg14nm['Polar']),np.std(fcnt_rg14nm['Hydrophobic'])\n",
    "                       , np.std(fcnt_rg14nm['Aromatic'])])\n",
    "fc_14nm_std"
   ]
  },
  {
   "cell_type": "code",
   "execution_count": 175,
   "metadata": {},
   "outputs": [
    {
     "data": {
      "application/vnd.jupyter.widget-view+json": {
       "model_id": "",
       "version_major": 2,
       "version_minor": 0
      },
      "text/plain": [
       "Canvas(toolbar=Toolbar(toolitems=[('Home', 'Reset original view', 'home', 'home'), ('Back', 'Back to previous …"
      ]
     },
     "metadata": {},
     "output_type": "display_data"
    },
    {
     "data": {
      "text/plain": [
       "Text(0, 0.5, 'Fractional Contacts')"
      ]
     },
     "execution_count": 175,
     "metadata": {},
     "output_type": "execute_result"
    }
   ],
   "source": [
    "x_pos = np.arange(5)\n",
    "width = 0.28\n",
    "aa_types = [\"Negative\", \"Positive\", \"Polar\", \"Hydrophobic\", \"Aromatic\"]\n",
    "fig = plt.figure(figsize=(7,7))\n",
    "fig.canvas.layout.width = '800px'\n",
    "fig.canvas.layout.height = '700px'\n",
    "plt.bar(x_pos, fc_09nm_mean, width, yerr=fc_09nm_std, ecolor='black',capsize=5, color='royalblue')\n",
    "plt.bar(x_pos+width, fc_11nm_mean, width, yerr=fc_11nm_std, ecolor='black',capsize=5, color='c')\n",
    "plt.bar(x_pos+(2*width), fc_14nm_mean, width, yerr=fc_14nm_std, ecolor='black',capsize=5, color='lightslategray')\n",
    "plt.title(r'Fractional Contacts Rg restrained', fontsize=15)\n",
    "plt.xticks(x_pos+width, labels=aa_types, fontsize=12)\n",
    "plt.ylim(0,0.4)\n",
    "plt.legend(['Rg = 0.9 nm', 'Rg = 1.1 nm', 'Rg = 1.4 nm'], frameon=False)\n",
    "plt.ylabel(r'Fractional Contacts', fontsize=15)"
   ]
  },
  {
   "cell_type": "code",
   "execution_count": null,
   "metadata": {},
   "outputs": [],
   "source": []
  },
  {
   "cell_type": "code",
   "execution_count": null,
   "metadata": {},
   "outputs": [],
   "source": []
  },
  {
   "cell_type": "markdown",
   "metadata": {},
   "source": [
    "### Total fraction of contacts: averages and std dev calc from 5 20 ns blocks"
   ]
  },
  {
   "cell_type": "code",
   "execution_count": 176,
   "metadata": {},
   "outputs": [
    {
     "data": {
      "text/plain": [
       "0.1515400410677618"
      ]
     },
     "execution_count": 176,
     "metadata": {},
     "output_type": "execute_result"
    }
   ],
   "source": [
    "np.mean(fcnt_rg14nm['total_frac'])"
   ]
  },
  {
   "cell_type": "code",
   "execution_count": 177,
   "metadata": {},
   "outputs": [
    {
     "data": {
      "text/plain": [
       "0.06645367919891182"
      ]
     },
     "execution_count": 177,
     "metadata": {},
     "output_type": "execute_result"
    }
   ],
   "source": [
    "np.std(fcnt_rg14nm['total_frac'])"
   ]
  },
  {
   "cell_type": "code",
   "execution_count": null,
   "metadata": {},
   "outputs": [],
   "source": [
    "prgrp_2nm"
   ]
  },
  {
   "cell_type": "code",
   "execution_count": null,
   "metadata": {},
   "outputs": [],
   "source": [
    "# matrix containing the avg number of PLGA residues for each block for each amino acid \n",
    "np.where(aa_matx_2nm[0] != 0)"
   ]
  },
  {
   "cell_type": "markdown",
   "metadata": {},
   "source": [
    "### Avg no. PLGA residues per BSA AA residue group "
   ]
  },
  {
   "cell_type": "code",
   "execution_count": null,
   "metadata": {},
   "outputs": [],
   "source": [
    "prgrp_2nm"
   ]
  },
  {
   "cell_type": "code",
   "execution_count": null,
   "metadata": {},
   "outputs": [],
   "source": [
    "mean_2nm = np.zeros(shape=5)\n",
    "std_2nm = np.zeros(shape=5)\n",
    "count = 0\n",
    "for key, value in prgrp_2nm.items():\n",
    "    mpl_2nm = []\n",
    "    var_2nm = []\n",
    "    for i in prgrp_2nm[str(key)].flat:\n",
    "        mpl_2nm.append(i[0])\n",
    "        var_2nm.append((i[1])**2)\n",
    "    \n",
    "    # calc frac cont averages\n",
    "    mean_2nm[count] = np.mean(mpl_2nm)\n",
    "    \n",
    "    # calc frac cont std dev: https://stats.stackexchange.com/questions/25848/how-to-sum-a-standard-deviation \n",
    "    std_2nm[count] = np.std(mpl_2nm)\n",
    "    #std_2nm[count] = np.sqrt(np.sum(var_2nm)/5)\n",
    "    \n",
    "    count += 1\n"
   ]
  },
  {
   "cell_type": "code",
   "execution_count": null,
   "metadata": {},
   "outputs": [],
   "source": [
    "mean_2nm"
   ]
  },
  {
   "cell_type": "code",
   "execution_count": null,
   "metadata": {},
   "outputs": [],
   "source": [
    "std_2nm"
   ]
  },
  {
   "cell_type": "code",
   "execution_count": null,
   "metadata": {},
   "outputs": [],
   "source": [
    "mean_15nm"
   ]
  },
  {
   "cell_type": "code",
   "execution_count": null,
   "metadata": {},
   "outputs": [],
   "source": [
    "std_15nm"
   ]
  },
  {
   "cell_type": "code",
   "execution_count": null,
   "metadata": {},
   "outputs": [],
   "source": [
    "x_pos = np.arange(5)\n",
    "width = 0.28\n",
    "aa_types = [\"Negative\", \"Positive\", \"Polar\", \"Hydrophobic\", \"Aromatic\"]\n",
    "plt.figure(figsize=(7,7))\n",
    "plt.bar(x_pos, mean_12nm, width, yerr=std_12nm, ecolor='black',capsize=5, color='royalblue')\n",
    "plt.bar(x_pos+width, mean_15nm, width, yerr=std_15nm, ecolor='black',capsize=5, color='c')\n",
    "plt.bar(x_pos+(2*width), mean_2nm, width, yerr=std_2nm, ecolor='black',capsize=5, color='lightslategray')\n",
    "plt.title(r'No. of PLGA residues Rg restrained', fontsize=15)\n",
    "plt.xticks(x_pos+width, labels=aa_types, fontsize=12)\n",
    "plt.legend(['Rg = 1.2 nm', 'Rg = 1.5 nm', 'Rg = 2 nm'], frameon=False)\n",
    "plt.ylabel(r'No. of PLGA residues', fontsize=15)"
   ]
  },
  {
   "cell_type": "markdown",
   "metadata": {},
   "source": [
    "### Protein/polymer contact map movie"
   ]
  },
  {
   "cell_type": "code",
   "execution_count": null,
   "metadata": {},
   "outputs": [],
   "source": [
    "np.where(trj_load2nm_res[9920] == 0 )"
   ]
  },
  {
   "cell_type": "code",
   "execution_count": null,
   "metadata": {},
   "outputs": [],
   "source": [
    "trj_load2nm_res[9920]"
   ]
  },
  {
   "cell_type": "code",
   "execution_count": null,
   "metadata": {},
   "outputs": [],
   "source": [
    "trj_load2nm_res.shape"
   ]
  },
  {
   "cell_type": "code",
   "execution_count": null,
   "metadata": {},
   "outputs": [],
   "source": [
    "fig = plt.figure(figsize=(10,10))\n",
    "\n",
    "# Set the axis and the plot titles pp\n",
    "\n",
    "plt.title(\"BSA/PLGA contact map 2 nm restrained\", fontsize=22, loc='left')\n",
    "plt.xlabel(\"PLGA Residue No.\", fontsize=22)\n",
    "plt.ylabel(\"BSA Residue No.\", fontsize=20)\n",
    "\n",
    " # Set the axis range \n",
    "plt.ylim(583, 0)\n",
    "plt.xlim(0, 60)\n",
    "\n",
    "# Plot bands for each chain \n",
    "BANDS = (\n",
    "    (0, 20, \"purple\", \"B\"),\n",
    "    (20, 40, \"blue\", \"C\"),\n",
    "    (40, 60, \"green\", \"D\"),\n",
    ")\n",
    "    \n",
    "text_y = 0.98 # Close to the top\n",
    "for start, stop, color, band in BANDS:\n",
    "    plt.axvspan(start, stop,color=color, alpha=0.15)\n",
    "    text_x = middle_of_band(start,stop)\n",
    "    plt.text(\n",
    "        text_x,\n",
    "        text_y,\n",
    "        \"PLGA chain \" + band,\n",
    "        color=color,\n",
    "        fontsize=18,\n",
    "        transform=fig.gca().transAxes,\n",
    "        horizontalalignment='center',\n",
    "        verticalalignment='center',\n",
    "        style='italic',\n",
    "    )\n",
    "    \n",
    "plt.text(0.94, 1, \"Time [ns]:\", fontsize=20, transform=fig.gca().transAxes, horizontalalignment='right', verticalalignment='bottom')\n",
    "\n",
    "# Set tick label size\n",
    "fig.gca().tick_params(axis='both', which='major', labelsize=20)\n",
    "\n",
    "ims = []\n",
    "for i in range(10000):\n",
    "    data = trj_ppmap_2nm[i]\n",
    "    im = plt.imshow(data, aspect='auto', cmap='Greys')\n",
    "    t_sim = plt.text(1.03, 1, str(i/100), fontsize=20, transform=fig.gca().transAxes, horizontalalignment='right', verticalalignment='bottom')\n",
    "    ims.append([im, t_sim])\n",
    "    \n",
    "ani = animation.ArtistAnimation(fig, ims, blit=True, repeat=False)\n",
    "ani.save('2nm_res.mp4', writer='ffmpeg', fps=50, bitrate=100000)\n",
    "#plt.tight_layout()\n",
    "#plt.show()"
   ]
  }
 ],
 "metadata": {
  "kernelspec": {
   "display_name": "Python (ppc_env)",
   "language": "python",
   "name": "ppc_env"
  },
  "language_info": {
   "codemirror_mode": {
    "name": "ipython",
    "version": 3
   },
   "file_extension": ".py",
   "mimetype": "text/x-python",
   "name": "python",
   "nbconvert_exporter": "python",
   "pygments_lexer": "ipython3",
   "version": "3.6.9"
  }
 },
 "nbformat": 4,
 "nbformat_minor": 4
}
