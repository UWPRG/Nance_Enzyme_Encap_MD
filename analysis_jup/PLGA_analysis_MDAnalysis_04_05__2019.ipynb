{
 "cells": [
  {
   "cell_type": "code",
   "execution_count": null,
   "metadata": {},
   "outputs": [],
   "source": [
    "#import the necessary modules \n",
    "%matplotlib inline \n",
    "import numpy as np \n",
    "import matplotlib.pylab as plt \n",
    "import pandas as pd \n",
    "import scipy\n",
    "import sklearn\n",
    "import itertools \n",
    "from itertools import cycle \n",
    "import os.path as op\n",
    "import timeit \n",
    "import json\n",
    "import math\n",
    "\n",
    "# These imports are for creating the percent occupancy heat map \n",
    "import plotly\n",
    "import plotly.plotly as py\n",
    "import plotly.graph_objs as go"
   ]
  },
  {
   "cell_type": "code",
   "execution_count": null,
   "metadata": {},
   "outputs": [],
   "source": [
    "import multiprocessing as m_proc\n",
    "m_proc.cpu_count()"
   ]
  },
  {
   "cell_type": "code",
   "execution_count": null,
   "metadata": {},
   "outputs": [],
   "source": [
    "# Import MDAnalysis\n",
    "import MDAnalysis as mda\n",
    "import statsmodels as stats\n",
    "from MDAnalysis.analysis import polymer, distances, rdf"
   ]
  },
  {
   "cell_type": "markdown",
   "metadata": {},
   "source": [
    "### Calculate radius of gyration and persistence length of PLGA/water simulations"
   ]
  },
  {
   "cell_type": "code",
   "execution_count": null,
   "metadata": {},
   "outputs": [],
   "source": [
    "def seg_org(poly_atoms, n_monomers):\n",
    "    \n",
    "    pmecl = []\n",
    "    count = 0\n",
    "    for i in range(n_monomers):\n",
    "        fgrp = []\n",
    "        count += 1\n",
    "        n_atm = len(poly_atoms.select_atoms(\"resid \"+str(count)))\n",
    "        \n",
    "        if count == 1:\n",
    "            #print(poly_atoms.select_atoms(\"resid \"+str(count)+\" and name O13\"))\n",
    "            pmecl.append(poly_atoms.select_atoms(\"resid \"+str(count)+\" and (name O13 O9)\"))\n",
    "            #print(pmecl)\n",
    "        elif count == 2:\n",
    "            #print(poly_atoms.select_atoms(\"name O5 and resid \"+str(count)))\n",
    "            pmecl.append(poly_atoms.select_atoms(\"(resid \"+str(count)+\" and name O5) or (resid \"+str(count-1)+\" and name O9)\"))\n",
    "        \n",
    "        if count != 2 and count != 1:\n",
    "            if count == n_monomers:\n",
    "                pmecl.append(poly_atoms.select_atoms(\"(resid \"+str(count)+\" and name O1) or (resid \"+str(count-1)+\" and name O5)\"))\n",
    "            elif count != n_monomers:\n",
    "            #print(count)\n",
    "                pmecl.append(poly_atoms.select_atoms(\"(resid \"+str(count)+\" and name O5) or (resid \"+str(count-1)+\" and name O5)\"))\n",
    "\n",
    "    return pmecl"
   ]
  },
  {
   "cell_type": "code",
   "execution_count": null,
   "metadata": {},
   "outputs": [],
   "source": [
    "# write function to average across frames to give ensembled averaged correlation values at each nl value\n",
    "# write function to average across frames to give ensembled averaged correlation values at each nl value\n",
    "\n",
    "def pers_length(polymer_atoms, n_monomers):\n",
    "    \n",
    "    vec_poly = np.zeros(shape=(3,n_monomers-1), dtype=float)\n",
    "    \n",
    "    len_vec = np.arange(n_monomers-1)\n",
    "    \n",
    "    len_vec += 1\n",
    "\n",
    "    vec_poly[1,:] = len_vec\n",
    "\n",
    "    count = 0 \n",
    "    \n",
    "    sv_ply = np.zeros(shape=(n_monomers-1), dtype=object)\n",
    "    \n",
    "    for i in range(n_monomers):\n",
    "        \n",
    "        count += 1\n",
    "        \n",
    "        ds_cor = np.zeros(shape=(n_monomers-count))\n",
    "        \n",
    "        for j in range(n_monomers - count):\n",
    "        \n",
    "            jh = np.arange(n_monomers - count)\n",
    "            \n",
    "            jh += count+1\n",
    "\n",
    "            n6_mon1 = polymer_atoms.select_atoms(\"resid \"+str(count))\n",
    "\n",
    "            n6_mon2 = polymer_atoms.select_atoms(\"resid \"+str(jh[j]))\n",
    "\n",
    "            if j == 0: \n",
    "                    \n",
    "                v1 = n6_mon1.center_of_mass() - n6_mon2.center_of_mass()\n",
    "                    \n",
    "                v1_norm = v1/(np.linalg.norm(v1))\n",
    "            \n",
    "                ds_cor[j] = v1_norm.dot(v1_norm)\n",
    "\n",
    "            elif j != 0:\n",
    "                    \n",
    "                v2 = n6_mon1.center_of_mass() - n6_mon2.center_of_mass()\n",
    "                    \n",
    "                v2_norm = v2/(np.linalg.norm(v2))\n",
    "                \n",
    "                ds_cor[j] = np.dot(v1_norm, v2_norm)\n",
    "\n",
    "            sv_ply[i] = ds_cor\n",
    "    \n",
    "    cor_avg = []\n",
    "    \n",
    "    for j in range(n_monomers-1):\n",
    "        lss = []\n",
    "        for i in sv_ply.flat:\n",
    "            try:\n",
    "                lss.append(i[j])\n",
    "            except IndexError:\n",
    "                pass\n",
    "        cor_avg.append(np.mean(lss))\n",
    "    \n",
    "    nm = np.array(cor_avg)\n",
    "    \n",
    "    ang_vg = []\n",
    "    for i in nm.flat:\n",
    "        if i >= float(0.99):\n",
    "            ang_vg.append(0)\n",
    "        elif i <= float(0.99):\n",
    "            ang_vg.append(math.degrees(math.acos(i)))\n",
    "\n",
    "    vec_poly[0,:] = nm \n",
    "    vec_poly[2,:] = np.array(ang_vg)\n",
    "    \n",
    "    return vec_poly"
   ]
  },
  {
   "cell_type": "code",
   "execution_count": null,
   "metadata": {},
   "outputs": [],
   "source": [
    "def get_rg_pers_poly(polymer_atoms, universe, start, end, ln_bnd):\n",
    "    \"\"\"This function will calculate the average radius of gyration and persistence length of a polymer within a \n",
    "    trajectory block.\"\"\"\n",
    "    \n",
    "    n_monomers = len(np.unique(polymer_atoms.resids))\n",
    "    \n",
    "    rg_ens = np.zeros(shape=(1,end-start))\n",
    "    \n",
    "    corr_v = np.zeros(shape=(n_monomers-1,end-start))\n",
    "    \n",
    "    angle_v = np.zeros(shape=(n_monomers-1,end-start))\n",
    "    \n",
    "    v_poly = np.zeros(shape=(3,n_monomers-1))\n",
    "    \n",
    "    count_rg = 0\n",
    "    \n",
    "    universe.trajectory[start]\n",
    "    \n",
    "    for ts in universe.trajectory[start:end]:\n",
    "        \n",
    "        p_mat = pers_length(polymer_atoms, n_monomers)\n",
    "     \n",
    "        corr_v[:,count_rg] = p_mat[0,:]\n",
    "        \n",
    "        angle_v[:,count_rg] = p_mat[2,:]\n",
    "        \n",
    "        rg_ens[0,count_rg] = polymer_atoms.radius_of_gyration()\n",
    "        \n",
    "        count_rg += 1 \n",
    "        \n",
    "        universe.trajectory[end]\n",
    "    \n",
    "    v_poly[2,:] = p_mat[1,:]\n",
    "    \n",
    "    for i in range(n_monomers-1):\n",
    "        \n",
    "        v_poly[0,i] = np.mean(corr_v[i,:])\n",
    "        \n",
    "        v_poly[1,i] = np.mean(angle_v[i,:])\n",
    "     \n",
    "    avg_rg = np.mean(rg_ens)\n",
    "    \n",
    "    def expfunc(x, a):\n",
    "        return np.exp(-x*ln_bnd/a)\n",
    "    \n",
    "    tr_n6 = np.arange(n_monomers-1)\n",
    "    \n",
    "    #tr_n6 += 1\n",
    "\n",
    "    pers_lp = scipy.optimize.curve_fit(expfunc, tr_n6, v_poly[0,:])[0][0]\n",
    "    \n",
    "    return  rg_ens, v_poly, pers_lp, avg_rg"
   ]
  },
  {
   "cell_type": "code",
   "execution_count": null,
   "metadata": {},
   "outputs": [],
   "source": [
    "# I want a list of total fraction of contacts where length is determined by no. of blocks and a dictionary \n",
    "# of contact groups as keys and list of fractional contacts as values(length of list will be no. of blocks)\n",
    "def bavg_pers_cnt(no_of_blks, polymer_atoms, universe, len_bnd, begin, final):\n",
    " \n",
    "    n_size = (final - begin)/no_of_blks\n",
    "    \n",
    "    ot_dab = {}\n",
    "    universe.trajectory[begin]\n",
    "    \n",
    "    sf_lbl = [\"Avg Radius of gyration\", \"Avg persistence length\"]\n",
    "\n",
    "    blk_nparr = np.zeros(shape=(len(sf_lbl),no_of_blks))\n",
    "    \n",
    "    count = 0 \n",
    "    \n",
    "    for i in range(no_of_blks):\n",
    "        \n",
    "        start = universe.trajectory.frame\n",
    "        print(start)\n",
    "    \n",
    "        end = int(start + n_size)\n",
    "        print(end)\n",
    "       \n",
    "        pp_rgens, cor_pp, per_pp, rg_avgpp = get_rg_pers_poly(polymer_atoms, universe, start, end, len_bnd)\n",
    "        \n",
    "        blk_nparr[0,count] = rg_avgpp\n",
    "        \n",
    "        blk_nparr[1,count] = per_pp        \n",
    "        \n",
    "        universe.trajectory[end]\n",
    "        \n",
    "        count += 1\n",
    "    # Save fractional contacts for each AA group type, each element in the value array corresponds to a block \n",
    "    # calculated value\n",
    "    for i in range(len(sf_lbl)):\n",
    "        ot_dab[sf_lbl[i]] = blk_nparr[i,:]\n",
    "    \n",
    "    return ot_dab\n",
    "        "
   ]
  },
  {
   "cell_type": "markdown",
   "metadata": {},
   "source": [
    "### Water only systems"
   ]
  },
  {
   "cell_type": "code",
   "execution_count": null,
   "metadata": {},
   "outputs": [],
   "source": [
    "# For the right Rg calculation using MD Analysis, use trajactory without pbc \n",
    "n6_plga_wat = mda.Universe(\"n6_plga_50ns/0_xa_soln/confout.gro\", \"n6_plga_50ns/0_xa_soln/nopbc_n6wat.xtc\")"
   ]
  },
  {
   "cell_type": "code",
   "execution_count": null,
   "metadata": {},
   "outputs": [],
   "source": [
    "len(n6_plga_wat.trajectory)"
   ]
  },
  {
   "cell_type": "code",
   "execution_count": null,
   "metadata": {},
   "outputs": [],
   "source": [
    "#Select the polymer heavy atoms \n",
    "poly_n6 = n6_plga_wat.select_atoms(\"resname sPLG PLG tPLG and not type H\")"
   ]
  },
  {
   "cell_type": "code",
   "execution_count": null,
   "metadata": {},
   "outputs": [],
   "source": [
    "o9_atom = poly_n6.select_atoms(\"resid 1 and name O9\")\n",
    "o5_plg1 = poly_n6.select_atoms(\"resid 2 and name O5\")\n",
    "lbond = np.zeros(shape=(1,5000))\n",
    "count = 0\n",
    "for ts in n6_plga_wat.trajectory[0:5000]:\n",
    "    oo_len = mda.analysis.distances.distance_array(o9_atom.positions, o5_plg1.positions, \n",
    "                                                   box=n6_plga_wat.trajectory.ts.dimensions)\n",
    "    lbond[0, count] = oo_len\n",
    "    count += 1\n",
    "\n",
    "#lbond\n",
    "#lb_avg = np.mean(lbond)\n",
    "plt.scatter(np.arange(5000),lbond)"
   ]
  },
  {
   "cell_type": "code",
   "execution_count": null,
   "metadata": {},
   "outputs": [],
   "source": [
    "list(poly_n6)"
   ]
  },
  {
   "cell_type": "code",
   "execution_count": null,
   "metadata": {},
   "outputs": [],
   "source": [
    "poly_n6.center_of_mass()"
   ]
  },
  {
   "cell_type": "code",
   "execution_count": null,
   "metadata": {},
   "outputs": [],
   "source": [
    "n6_plga_wat.select_atoms(\"resid 1\").center_of_mass()"
   ]
  },
  {
   "cell_type": "code",
   "execution_count": null,
   "metadata": {},
   "outputs": [],
   "source": [
    "list(n6_plga_wat.select_atoms(\"resid 1\"))"
   ]
  },
  {
   "cell_type": "code",
   "execution_count": null,
   "metadata": {},
   "outputs": [],
   "source": [
    "n_monomers = len(np.unique(poly_n6.resids))\n",
    "com_pos_n6 = np.zeros(shape=(n_monomers), dtype=object)\n",
    "for i in range(n_monomers):\n",
    "    #print(i)\n",
    "    #print(n6_plga_wat.select_atoms(\"resid \"+str(i+1)).center_of_mass())\n",
    "    com_pos_n6[i] = n6_plga_wat.select_atoms(\"resid \"+str(i+1)).center_of_mass()\n",
    "com_pos_n6"
   ]
  },
  {
   "cell_type": "code",
   "execution_count": null,
   "metadata": {},
   "outputs": [],
   "source": [
    "com_bond = np.zeros(shape=(1,5000))\n",
    "count = 0\n",
    "for ts in n6_plga_wat.trajectory[0:5000]:\n",
    "    n6_mon1 = n6_plga_wat.select_atoms(\"resid 1\")\n",
    "    n6_mon2 = n6_plga_wat.select_atoms(\"resid 2\")\n",
    "    oo_len = mda.analysis.distances.distance_array(n6_mon1.center_of_mass(), n6_mon2.center_of_mass(), \n",
    "                                                   box=n6_plga_wat.trajectory.ts.dimensions)\n",
    "    com_bond[0, count] = oo_len\n",
    "    count += 1\n",
    "    "
   ]
  },
  {
   "cell_type": "code",
   "execution_count": null,
   "metadata": {},
   "outputs": [],
   "source": [
    "com_bond"
   ]
  },
  {
   "cell_type": "code",
   "execution_count": null,
   "metadata": {},
   "outputs": [],
   "source": [
    "lb_avg = np.mean(com_bond)\n",
    "lb_avg"
   ]
  },
  {
   "cell_type": "code",
   "execution_count": null,
   "metadata": {},
   "outputs": [],
   "source": [
    "np.std(com_bond)"
   ]
  },
  {
   "cell_type": "code",
   "execution_count": null,
   "metadata": {},
   "outputs": [],
   "source": [
    "np.mean(lbond)"
   ]
  },
  {
   "cell_type": "code",
   "execution_count": null,
   "metadata": {},
   "outputs": [],
   "source": [
    "np.std(lbond)"
   ]
  },
  {
   "cell_type": "code",
   "execution_count": null,
   "metadata": {},
   "outputs": [],
   "source": [
    "plt.scatter(np.arange(5000),com_bond)\n",
    "plt.scatter(np.arange(5000),lbond,c=\"y\")"
   ]
  },
  {
   "cell_type": "code",
   "execution_count": null,
   "metadata": {},
   "outputs": [],
   "source": [
    "n6_rgens, cor_n6_mat, n6_pers, avg_rg = get_rg_pers_poly(poly_n6, n6_plga_wat, 0, 1000, lb_avg)"
   ]
  },
  {
   "cell_type": "code",
   "execution_count": null,
   "metadata": {},
   "outputs": [],
   "source": [
    "n6_rgens"
   ]
  },
  {
   "cell_type": "code",
   "execution_count": null,
   "metadata": {},
   "outputs": [],
   "source": [
    "cor_n6_mat"
   ]
  },
  {
   "cell_type": "code",
   "execution_count": null,
   "metadata": {},
   "outputs": [],
   "source": [
    "cor_n6_mat[1]"
   ]
  },
  {
   "cell_type": "code",
   "execution_count": null,
   "metadata": {},
   "outputs": [],
   "source": [
    "n6_pers"
   ]
  },
  {
   "cell_type": "code",
   "execution_count": null,
   "metadata": {},
   "outputs": [],
   "source": [
    "avg_rg"
   ]
  },
  {
   "cell_type": "code",
   "execution_count": null,
   "metadata": {},
   "outputs": [],
   "source": [
    "lb_avg"
   ]
  },
  {
   "cell_type": "code",
   "execution_count": null,
   "metadata": {},
   "outputs": [],
   "source": [
    "def exfun(x, a):\n",
    "    return np.exp(-x*lb_avg/a)\n",
    "nt = np.arange(5)\n",
    "#nt += 1\n",
    "plt.scatter(nt, cor_n6_mat[0,:])\n",
    "# a-axis is the number of bond lengths away \n",
    "plt.plot(nt,exfun(nt, n6_pers))"
   ]
  },
  {
   "cell_type": "code",
   "execution_count": null,
   "metadata": {},
   "outputs": [],
   "source": [
    "n6_blks = bavg_pers_cnt(5, poly_n6, n6_plga_wat, lb_avg, 0 , 5000)"
   ]
  },
  {
   "cell_type": "code",
   "execution_count": null,
   "metadata": {},
   "outputs": [],
   "source": [
    "# Fully extended length of 6 monomer PLGA is 3.838 nm \n",
    "n6_blks[\"Avg persistence length\"]"
   ]
  },
  {
   "cell_type": "code",
   "execution_count": null,
   "metadata": {},
   "outputs": [],
   "source": [
    "n6_blks[\"Avg Radius of gyration\"]"
   ]
  },
  {
   "cell_type": "code",
   "execution_count": null,
   "metadata": {},
   "outputs": [],
   "source": [
    "np.mean(n6_blks[\"Avg persistence length\"])"
   ]
  },
  {
   "cell_type": "code",
   "execution_count": null,
   "metadata": {},
   "outputs": [],
   "source": [
    "np.std(n6_blks[\"Avg persistence length\"])"
   ]
  },
  {
   "cell_type": "code",
   "execution_count": null,
   "metadata": {},
   "outputs": [],
   "source": [
    "n6_rgens, cor_n6, pers_n6, rg_avgn6 = get_rg_pers_poly(poly_n6, n6_plga_wat, 2000, 3000, lb_avg)"
   ]
  },
  {
   "cell_type": "code",
   "execution_count": null,
   "metadata": {},
   "outputs": [],
   "source": [
    "cor_n6"
   ]
  },
  {
   "cell_type": "code",
   "execution_count": null,
   "metadata": {},
   "outputs": [],
   "source": [
    "pers_n6"
   ]
  },
  {
   "cell_type": "code",
   "execution_count": null,
   "metadata": {},
   "outputs": [],
   "source": [
    "rg_n6 = np.zeros(shape=(5000))\n",
    "\n",
    "count = 0\n",
    "for ts in n6_plga_wat.trajectory[0:5000]:\n",
    "\n",
    "    rg_n6[count] = poly_n6.radius_of_gyration()\n",
    "    \n",
    "    count += 1\n",
    "    \n",
    "tr_n6 = np.arange(5000)   \n",
    "plt.figure(figsize=(8,8))\n",
    "plt.scatter(tr_n6,rg_n6/10)"
   ]
  },
  {
   "cell_type": "code",
   "execution_count": null,
   "metadata": {},
   "outputs": [],
   "source": [
    "n8_plga_wat = mda.Universe(\"n8_plga_50ns/0_xa_soln/confout.gro\", \"n8_plga_50ns/0_xa_soln/nopbc_traj.xtc\")"
   ]
  },
  {
   "cell_type": "code",
   "execution_count": null,
   "metadata": {},
   "outputs": [],
   "source": [
    "n8_plga_wat"
   ]
  },
  {
   "cell_type": "code",
   "execution_count": null,
   "metadata": {},
   "outputs": [],
   "source": [
    "#Select the polymer heavy atoms \n",
    "poly_n8 = n8_plga_wat.select_atoms(\"resname sPLG PLG tPLG and not type H\")"
   ]
  },
  {
   "cell_type": "code",
   "execution_count": null,
   "metadata": {},
   "outputs": [],
   "source": [
    "len(n8_plga_wat.trajectory)"
   ]
  },
  {
   "cell_type": "code",
   "execution_count": null,
   "metadata": {},
   "outputs": [],
   "source": [
    "list(o5_plg1)"
   ]
  },
  {
   "cell_type": "code",
   "execution_count": null,
   "metadata": {},
   "outputs": [],
   "source": [
    "o9_atom_n8 = poly_n8.select_atoms(\"resid 1 and name O9\")\n",
    "o5_plg1_n8 = poly_n8.select_atoms(\"resid 2 and name O5\")\n",
    "lbond = np.zeros(shape=(1,5000))\n",
    "count = 0\n",
    "for ts in n8_plga_wat.trajectory[0:5000]:\n",
    "    oo_len = mda.analysis.distances.distance_array(o9_atom_n8.positions, o5_plg1_n8.positions, \n",
    "                                                   box=n8_plga_wat.trajectory.ts.dimensions)\n",
    "    lbond[0, count] = oo_len\n",
    "    count += 1\n",
    "\n",
    "#lbond\n",
    "lb_avg_n8 = np.mean(lbond)\n",
    "lb_avg_n8"
   ]
  },
  {
   "cell_type": "code",
   "execution_count": null,
   "metadata": {},
   "outputs": [],
   "source": [
    "n8_blks = bavg_pers_cnt(5, poly_n8, n8_plga_wat, lb_avg, 0 , 5000)"
   ]
  },
  {
   "cell_type": "code",
   "execution_count": null,
   "metadata": {},
   "outputs": [],
   "source": [
    "n8_blks[\"Avg persistence length\"]"
   ]
  },
  {
   "cell_type": "code",
   "execution_count": null,
   "metadata": {},
   "outputs": [],
   "source": [
    "n8_blks[\"Avg Radius of gyration\"]"
   ]
  },
  {
   "cell_type": "code",
   "execution_count": null,
   "metadata": {},
   "outputs": [],
   "source": [
    "n8_rgens, cor_n8, pers_n8, rg_avgn8 = get_rg_pers_poly(poly_n8, n8_plga_wat, 3000, 4000, lb_avg)"
   ]
  },
  {
   "cell_type": "code",
   "execution_count": null,
   "metadata": {},
   "outputs": [],
   "source": [
    "cor_n8"
   ]
  },
  {
   "cell_type": "code",
   "execution_count": null,
   "metadata": {},
   "outputs": [],
   "source": [
    "pers_n8"
   ]
  },
  {
   "cell_type": "code",
   "execution_count": null,
   "metadata": {},
   "outputs": [],
   "source": [
    "def exfun(x, a):\n",
    "    return np.exp(-x*lb_avg_n8/a)\n",
    "\n",
    "nt = np.arange(8)\n",
    "plt.scatter(nt, cor_n8[0,:])\n",
    "plt.plot(nt,exfun(nt, pers_n8))"
   ]
  },
  {
   "cell_type": "code",
   "execution_count": null,
   "metadata": {},
   "outputs": [],
   "source": [
    "np.mean(n8_blks[\"Avg persistence length\"])"
   ]
  },
  {
   "cell_type": "code",
   "execution_count": null,
   "metadata": {},
   "outputs": [],
   "source": [
    "np.std(n8_blks[\"Avg persistence length\"])"
   ]
  },
  {
   "cell_type": "code",
   "execution_count": null,
   "metadata": {},
   "outputs": [],
   "source": [
    "n10_plga_wat = mda.Universe(\"n10_plga_50ns/0_xa_soln/N10_sys.gro\", \"n10_plga_50ns/0_xa_soln/nopbc_10wat.xtc\")"
   ]
  },
  {
   "cell_type": "code",
   "execution_count": null,
   "metadata": {},
   "outputs": [],
   "source": [
    "n10_plga_wat"
   ]
  },
  {
   "cell_type": "code",
   "execution_count": null,
   "metadata": {},
   "outputs": [],
   "source": [
    "len(n10_plga_wat.trajectory)"
   ]
  },
  {
   "cell_type": "code",
   "execution_count": null,
   "metadata": {},
   "outputs": [],
   "source": [
    "poly_n10 = n10_plga_wat.select_atoms(\"resname sPLG PLG tPLG and not type H\")"
   ]
  },
  {
   "cell_type": "code",
   "execution_count": null,
   "metadata": {},
   "outputs": [],
   "source": [
    "o9_atom_10 = poly_n10.select_atoms(\"resid 1 and name O9\")\n",
    "o5_plg_10 = poly_n10.select_atoms(\"resid 2 and name O5\")\n",
    "lbond = np.zeros(shape=(1,5000))\n",
    "count = 0\n",
    "for ts in n10_plga_wat.trajectory[0:5000]:\n",
    "    oo_len = mda.analysis.distances.distance_array(o9_atom_10.positions, o5_plg_10.positions,\n",
    "                                                   box=n10_plga_wat.trajectory.ts.dimensions)\n",
    "    lbond[0, count] = oo_len\n",
    "    count += 1\n",
    "\n",
    "#lbond\n",
    "lb_avg_n10 = np.mean(lbond)\n",
    "lb_avg_n10"
   ]
  },
  {
   "cell_type": "code",
   "execution_count": null,
   "metadata": {},
   "outputs": [],
   "source": [
    "n10_blks = bavg_pers_cnt(5, poly_n10, n10_plga_wat, lb_avg_n10, 0 , 5000)"
   ]
  },
  {
   "cell_type": "code",
   "execution_count": null,
   "metadata": {},
   "outputs": [],
   "source": [
    "# Extended Length of 10 monomer length plga: 6.436 nm \n",
    "n10_blks[\"Avg persistence length\"]"
   ]
  },
  {
   "cell_type": "code",
   "execution_count": null,
   "metadata": {},
   "outputs": [],
   "source": [
    "n10_blks[\"Avg Radius of gyration\"]"
   ]
  },
  {
   "cell_type": "code",
   "execution_count": null,
   "metadata": {},
   "outputs": [],
   "source": [
    "rg_n10 = np.zeros(shape=(5000))\n",
    "\n",
    "count = 0\n",
    "for ts in n10_plga_wat.trajectory[0:5000]:\n",
    "\n",
    "    rg_n10[count] = poly_n10.radius_of_gyration()\n",
    "    \n",
    "    count += 1\n",
    "    \n",
    "tr_n6 = np.arange(5000)   \n",
    "plt.figure(figsize=(8,8))\n",
    "plt.scatter(tr_n6,rg_n10/10)"
   ]
  },
  {
   "cell_type": "code",
   "execution_count": null,
   "metadata": {},
   "outputs": [],
   "source": [
    "np.mean(rg_n10)"
   ]
  },
  {
   "cell_type": "code",
   "execution_count": null,
   "metadata": {},
   "outputs": [],
   "source": [
    "np.mean(n10_blks[\"Avg persistence length\"])"
   ]
  },
  {
   "cell_type": "code",
   "execution_count": null,
   "metadata": {},
   "outputs": [],
   "source": [
    "np.std(n10_blks[\"Avg persistence length\"])"
   ]
  },
  {
   "cell_type": "code",
   "execution_count": null,
   "metadata": {},
   "outputs": [],
   "source": [
    "n20_plga_wat = mda.Universe(\"n20_plga_150ns/0_xa_soln/nowat_n20.gro\", \"n20_plga_150ns/0_xa_soln/N20_nopbcpp.xtc\")"
   ]
  },
  {
   "cell_type": "code",
   "execution_count": null,
   "metadata": {},
   "outputs": [],
   "source": [
    "n20_plga_wat"
   ]
  },
  {
   "cell_type": "code",
   "execution_count": null,
   "metadata": {},
   "outputs": [],
   "source": [
    "len(n20_plga_wat.trajectory)"
   ]
  },
  {
   "cell_type": "code",
   "execution_count": null,
   "metadata": {},
   "outputs": [],
   "source": [
    "poly_n20 = n20_plga_wat.select_atoms(\"resname sPLG PLG tPLG and not type H\")"
   ]
  },
  {
   "cell_type": "code",
   "execution_count": null,
   "metadata": {},
   "outputs": [],
   "source": [
    "o9_atom_20 = poly_n20.select_atoms(\"resid 1 and name O9\")\n",
    "o5_plg_20 = poly_n20.select_atoms(\"resid 2 and name O5\")\n",
    "lbond = np.zeros(shape=(1,15000))\n",
    "count = 0\n",
    "for ts in n20_plga_wat.trajectory[0:15000]:\n",
    "    oo_len = mda.analysis.distances.distance_array(o9_atom_20.positions, o5_plg_20.positions,\n",
    "                                                   box=n20_plga_wat.trajectory.ts.dimensions)\n",
    "    lbond[0, count] = oo_len\n",
    "    count += 1\n",
    "\n",
    "#lbond\n",
    "lb_avg_n20 = np.mean(lbond)\n",
    "lb_avg_n20"
   ]
  },
  {
   "cell_type": "code",
   "execution_count": null,
   "metadata": {},
   "outputs": [],
   "source": [
    "n20_blks = bavg_pers_cnt(5, poly_n20, n20_plga_wat, lb_avg_n20, 0 , 15000)"
   ]
  },
  {
   "cell_type": "code",
   "execution_count": null,
   "metadata": {},
   "outputs": [],
   "source": [
    "n20_blks[\"Avg persistence length\"]"
   ]
  },
  {
   "cell_type": "code",
   "execution_count": null,
   "metadata": {},
   "outputs": [],
   "source": [
    "n20_blks[\"Avg Radius of gyration\"]"
   ]
  },
  {
   "cell_type": "code",
   "execution_count": null,
   "metadata": {},
   "outputs": [],
   "source": [
    "np.mean(n20_blks[\"Avg persistence length\"])"
   ]
  },
  {
   "cell_type": "code",
   "execution_count": null,
   "metadata": {},
   "outputs": [],
   "source": [
    "np.std(n20_blks[\"Avg persistence length\"])"
   ]
  },
  {
   "cell_type": "code",
   "execution_count": null,
   "metadata": {},
   "outputs": [],
   "source": []
  },
  {
   "cell_type": "code",
   "execution_count": null,
   "metadata": {},
   "outputs": [],
   "source": []
  },
  {
   "cell_type": "code",
   "execution_count": null,
   "metadata": {},
   "outputs": [],
   "source": []
  },
  {
   "cell_type": "code",
   "execution_count": null,
   "metadata": {},
   "outputs": [],
   "source": []
  },
  {
   "cell_type": "code",
   "execution_count": null,
   "metadata": {},
   "outputs": [],
   "source": [
    "n30_plga_wat = mda.Universe(\"n30_plga_150ns/0_xa_soln/0xa_n30sys.gro\", \"n30_plga_150ns/0_xa_soln/N30_nopbcpp_0xa.xtc\")"
   ]
  },
  {
   "cell_type": "code",
   "execution_count": null,
   "metadata": {},
   "outputs": [],
   "source": [
    "n30_plga_wat"
   ]
  },
  {
   "cell_type": "code",
   "execution_count": null,
   "metadata": {},
   "outputs": [],
   "source": [
    "len(n30_plga_wat.trajectory)"
   ]
  },
  {
   "cell_type": "code",
   "execution_count": null,
   "metadata": {},
   "outputs": [],
   "source": [
    "poly_n30 = n30_plga_wat.select_atoms(\"resname sPLG PLG tPLG and not type H\")"
   ]
  },
  {
   "cell_type": "code",
   "execution_count": null,
   "metadata": {},
   "outputs": [],
   "source": [
    "o9_atom_30 = poly_n30.select_atoms(\"resid 1 and name O9\")\n",
    "o5_plg_30 = poly_n30.select_atoms(\"resid 2 and name O5\")\n",
    "lbond = np.zeros(shape=(1,15000))\n",
    "count = 0\n",
    "for ts in n30_plga_wat.trajectory[0:15000]:\n",
    "    oo_len = mda.analysis.distances.distance_array(o9_atom_30.positions, o5_plg_30.positions,\n",
    "                                                   box=n30_plga_wat.trajectory.ts.dimensions)\n",
    "    lbond[0, count] = oo_len\n",
    "    count += 1\n",
    "\n",
    "#lbond\n",
    "lb_avg_n30 = np.mean(lbond)\n",
    "lb_avg_n30"
   ]
  },
  {
   "cell_type": "code",
   "execution_count": null,
   "metadata": {},
   "outputs": [],
   "source": [
    "n30_blks = bavg_pers_cnt(5, poly_n30, n30_plga_wat, lb_avg_n30, 0 , 15000)"
   ]
  },
  {
   "cell_type": "code",
   "execution_count": null,
   "metadata": {},
   "outputs": [],
   "source": [
    "n30_blks[\"Avg persistence length\"]"
   ]
  },
  {
   "cell_type": "code",
   "execution_count": null,
   "metadata": {},
   "outputs": [],
   "source": [
    "n30_blks[\"Avg Radius of gyration\"]"
   ]
  },
  {
   "cell_type": "code",
   "execution_count": null,
   "metadata": {},
   "outputs": [],
   "source": [
    "np.mean(n30_blks[\"Avg persistence length\"])"
   ]
  },
  {
   "cell_type": "code",
   "execution_count": null,
   "metadata": {},
   "outputs": [],
   "source": [
    "np.std(n30_blks[\"Avg persistence length\"])"
   ]
  },
  {
   "cell_type": "markdown",
   "metadata": {},
   "source": [
    "### Acetone systems only"
   ]
  },
  {
   "cell_type": "code",
   "execution_count": null,
   "metadata": {},
   "outputs": [],
   "source": [
    "n6_plga_ace = mda.Universe(\"n6_plga_50ns/1_xa_soln/confout.gro\", \"n6_plga_50ns/1_xa_soln/nopbc_n6ace.xtc\")"
   ]
  },
  {
   "cell_type": "code",
   "execution_count": null,
   "metadata": {},
   "outputs": [],
   "source": [
    "n6_plga_ace"
   ]
  },
  {
   "cell_type": "code",
   "execution_count": null,
   "metadata": {},
   "outputs": [],
   "source": [
    "len(n6_plga_ace.trajectory)"
   ]
  },
  {
   "cell_type": "code",
   "execution_count": null,
   "metadata": {},
   "outputs": [],
   "source": [
    "poly_n6_ace = n6_plga_ace.select_atoms(\"resname sPLG PLG tPLG and not type H\")"
   ]
  },
  {
   "cell_type": "code",
   "execution_count": null,
   "metadata": {},
   "outputs": [],
   "source": [
    "o9_atom_n6ac = poly_n6_ace.select_atoms(\"resid 1 and name O9\")\n",
    "o5_plg_n6ac = poly_n6_ace.select_atoms(\"resid 2 and name O5\")\n",
    "lbond = np.zeros(shape=(1,5000))\n",
    "count = 0\n",
    "for ts in n6_plga_ace.trajectory[0:5000]:\n",
    "    oo_len = mda.analysis.distances.distance_array(o9_atom_n6ac.positions, o5_plg_n6ac.positions,\n",
    "                                                   box=n6_plga_ace.trajectory.ts.dimensions)\n",
    "    lbond[0, count] = oo_len\n",
    "    count += 1\n",
    "\n",
    "#lbond\n",
    "lb_avg_n6ace = np.mean(lbond)\n",
    "lb_avg_n6ace"
   ]
  },
  {
   "cell_type": "code",
   "execution_count": null,
   "metadata": {},
   "outputs": [],
   "source": [
    "lb_avg"
   ]
  },
  {
   "cell_type": "code",
   "execution_count": null,
   "metadata": {},
   "outputs": [],
   "source": [
    "n6_blks_ace = bavg_pers_cnt(5, poly_n6_ace, n6_plga_ace, lb_avg, 0 , 5000)"
   ]
  },
  {
   "cell_type": "code",
   "execution_count": null,
   "metadata": {},
   "outputs": [],
   "source": [
    "n6_blks_ace[\"Avg persistence length\"]"
   ]
  },
  {
   "cell_type": "code",
   "execution_count": null,
   "metadata": {},
   "outputs": [],
   "source": [
    "n6_blks_ace[\"Avg Radius of gyration\"]"
   ]
  },
  {
   "cell_type": "code",
   "execution_count": null,
   "metadata": {},
   "outputs": [],
   "source": [
    "np.mean(n6_blks_ace[\"Avg persistence length\"])"
   ]
  },
  {
   "cell_type": "code",
   "execution_count": null,
   "metadata": {},
   "outputs": [],
   "source": [
    "np.std(n6_blks_ace[\"Avg persistence length\"])"
   ]
  },
  {
   "cell_type": "code",
   "execution_count": null,
   "metadata": {},
   "outputs": [],
   "source": [
    "n8_plga_ace = mda.Universe(\"n8_plga_50ns/1_xa_soln/confout.gro\", \"n8_plga_50ns/1_xa_soln/nopbc_n8ace.xtc\")"
   ]
  },
  {
   "cell_type": "code",
   "execution_count": null,
   "metadata": {},
   "outputs": [],
   "source": [
    "n8_plga_ace"
   ]
  },
  {
   "cell_type": "code",
   "execution_count": null,
   "metadata": {},
   "outputs": [],
   "source": [
    "len(n8_plga_ace.trajectory)"
   ]
  },
  {
   "cell_type": "code",
   "execution_count": null,
   "metadata": {},
   "outputs": [],
   "source": [
    "poly_n8_ace = n8_plga_ace.select_atoms(\"resname sPLG PLG tPLG and not type H\")"
   ]
  },
  {
   "cell_type": "code",
   "execution_count": null,
   "metadata": {},
   "outputs": [],
   "source": [
    "n8_blks_ace = bavg_pers_cnt(5, poly_n8_ace, n8_plga_ace, lb_avg, 0 , 5000)"
   ]
  },
  {
   "cell_type": "code",
   "execution_count": null,
   "metadata": {},
   "outputs": [],
   "source": [
    "n8_blks_ace[\"Avg persistence length\"]"
   ]
  },
  {
   "cell_type": "code",
   "execution_count": null,
   "metadata": {},
   "outputs": [],
   "source": [
    "n8_blks_ace[\"Avg Radius of gyration\"]"
   ]
  },
  {
   "cell_type": "code",
   "execution_count": null,
   "metadata": {},
   "outputs": [],
   "source": [
    "np.mean(n8_blks_ace[\"Avg persistence length\"])"
   ]
  },
  {
   "cell_type": "code",
   "execution_count": null,
   "metadata": {},
   "outputs": [],
   "source": [
    "np.std(n8_blks_ace[\"Avg persistence length\"])"
   ]
  },
  {
   "cell_type": "code",
   "execution_count": null,
   "metadata": {},
   "outputs": [],
   "source": [
    "n10_plga_ace = mda.Universe(\"n10_plga_50ns/1_xa_soln/confout.gro\", \"n10_plga_50ns/1_xa_soln/nopbc_n10ace.xtc\")"
   ]
  },
  {
   "cell_type": "code",
   "execution_count": null,
   "metadata": {},
   "outputs": [],
   "source": [
    "n10_plga_ace"
   ]
  },
  {
   "cell_type": "code",
   "execution_count": null,
   "metadata": {},
   "outputs": [],
   "source": [
    "len(n10_plga_ace.trajectory)"
   ]
  },
  {
   "cell_type": "code",
   "execution_count": null,
   "metadata": {},
   "outputs": [],
   "source": [
    "poly_n10_ace = n10_plga_ace.select_atoms(\"resname sPLG PLG tPLG and not type H\")"
   ]
  },
  {
   "cell_type": "code",
   "execution_count": null,
   "metadata": {},
   "outputs": [],
   "source": [
    "n10_blks_ace = bavg_pers_cnt(5, poly_n10_ace, n10_plga_ace, lb_avg, 0 , 5000)"
   ]
  },
  {
   "cell_type": "code",
   "execution_count": null,
   "metadata": {},
   "outputs": [],
   "source": [
    "n10_blks_ace[\"Avg persistence length\"]"
   ]
  },
  {
   "cell_type": "code",
   "execution_count": null,
   "metadata": {},
   "outputs": [],
   "source": [
    "n10_blks_ace[\"Avg Radius of gyration\"]"
   ]
  },
  {
   "cell_type": "code",
   "execution_count": null,
   "metadata": {},
   "outputs": [],
   "source": [
    "np.mean(n10_blks_ace[\"Avg persistence length\"])"
   ]
  },
  {
   "cell_type": "code",
   "execution_count": null,
   "metadata": {},
   "outputs": [],
   "source": [
    "np.std(n10_blks_ace[\"Avg persistence length\"])"
   ]
  },
  {
   "cell_type": "code",
   "execution_count": null,
   "metadata": {},
   "outputs": [],
   "source": [
    "n20_plga_ace = mda.Universe(\"n20_plga_150ns/1_xa_soln/1xa_n20sys.gro\", \"n20_plga_150ns/1_xa_soln/N20_nopbcpp_0xa.xtc\")"
   ]
  },
  {
   "cell_type": "code",
   "execution_count": null,
   "metadata": {},
   "outputs": [],
   "source": [
    "n20_plga_ace"
   ]
  },
  {
   "cell_type": "code",
   "execution_count": null,
   "metadata": {},
   "outputs": [],
   "source": [
    "len(n20_plga_ace.trajectory)"
   ]
  },
  {
   "cell_type": "code",
   "execution_count": null,
   "metadata": {},
   "outputs": [],
   "source": [
    "poly_n20_ace = n20_plga_ace.select_atoms(\"resname sPLG PLG tPLG and not type H\")"
   ]
  },
  {
   "cell_type": "code",
   "execution_count": null,
   "metadata": {},
   "outputs": [],
   "source": [
    "n20_blks_ace = bavg_pers_cnt(5, poly_n20_ace, n20_plga_ace, lb_avg, 0 , 15000)"
   ]
  },
  {
   "cell_type": "code",
   "execution_count": null,
   "metadata": {},
   "outputs": [],
   "source": [
    "n20_blks_ace[\"Avg persistence length\"]"
   ]
  },
  {
   "cell_type": "code",
   "execution_count": null,
   "metadata": {},
   "outputs": [],
   "source": [
    "n20_blks_ace[\"Avg Radius of gyration\"]"
   ]
  },
  {
   "cell_type": "code",
   "execution_count": null,
   "metadata": {},
   "outputs": [],
   "source": [
    "np.mean(n20_blks_ace[\"Avg persistence length\"])"
   ]
  },
  {
   "cell_type": "code",
   "execution_count": null,
   "metadata": {},
   "outputs": [],
   "source": [
    "np.std(n20_blks_ace[\"Avg persistence length\"])"
   ]
  },
  {
   "cell_type": "code",
   "execution_count": null,
   "metadata": {},
   "outputs": [],
   "source": [
    "n30_plga_ace = mda.Universe(\"n30_plga_150ns/1_xa_soln/1xa_n30sys.gro\", \"n30_plga_150ns/1_xa_soln/N30_nopbcpp_1xa.xtc\")"
   ]
  },
  {
   "cell_type": "code",
   "execution_count": null,
   "metadata": {},
   "outputs": [],
   "source": [
    "n30_plga_ace"
   ]
  },
  {
   "cell_type": "code",
   "execution_count": null,
   "metadata": {},
   "outputs": [],
   "source": [
    "len(n30_plga_ace.trajectory)"
   ]
  },
  {
   "cell_type": "code",
   "execution_count": null,
   "metadata": {},
   "outputs": [],
   "source": [
    "poly_n30_ace = n30_plga_ace.select_atoms(\"resname sPLG PLG tPLG and not type H\")"
   ]
  },
  {
   "cell_type": "code",
   "execution_count": null,
   "metadata": {},
   "outputs": [],
   "source": [
    "n30_blks_ace = bavg_pers_cnt(5, poly_n30_ace, n30_plga_ace, lb_avg, 0 , 15000)"
   ]
  },
  {
   "cell_type": "code",
   "execution_count": null,
   "metadata": {},
   "outputs": [],
   "source": [
    "n30_blks_ace[\"Avg persistence length\"]"
   ]
  },
  {
   "cell_type": "code",
   "execution_count": null,
   "metadata": {},
   "outputs": [],
   "source": [
    "n30_blks_ace[\"Avg Radius of gyration\"]"
   ]
  },
  {
   "cell_type": "code",
   "execution_count": null,
   "metadata": {},
   "outputs": [],
   "source": [
    "np.mean(n30_blks_ace[\"Avg persistence length\"])"
   ]
  },
  {
   "cell_type": "code",
   "execution_count": null,
   "metadata": {},
   "outputs": [],
   "source": [
    "np.std(n30_blks_ace[\"Avg persistence length\"])"
   ]
  },
  {
   "cell_type": "code",
   "execution_count": null,
   "metadata": {},
   "outputs": [],
   "source": []
  }
 ],
 "metadata": {
  "kernelspec": {
   "display_name": "Python (ppc_env)",
   "language": "python",
   "name": "ppc_env"
  },
  "language_info": {
   "codemirror_mode": {
    "name": "ipython",
    "version": 3
   },
   "file_extension": ".py",
   "mimetype": "text/x-python",
   "name": "python",
   "nbconvert_exporter": "python",
   "pygments_lexer": "ipython3",
   "version": "3.6.8"
  }
 },
 "nbformat": 4,
 "nbformat_minor": 2
}
