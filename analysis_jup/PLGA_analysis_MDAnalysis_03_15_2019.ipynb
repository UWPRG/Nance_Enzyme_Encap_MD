{
 "cells": [
  {
   "cell_type": "code",
   "execution_count": 1,
   "metadata": {},
   "outputs": [],
   "source": [
    "#import the necessary modules \n",
    "%matplotlib inline \n",
    "import numpy as np \n",
    "import matplotlib.pylab as plt \n",
    "import pandas as pd \n",
    "import scipy\n",
    "import sklearn\n",
    "import itertools \n",
    "from itertools import cycle \n",
    "import os.path as op\n",
    "import timeit \n",
    "import json\n",
    "import math\n",
    "\n",
    "# These imports are for creating the percent occupancy heat map \n",
    "import plotly\n",
    "import plotly.plotly as py\n",
    "import plotly.graph_objs as go"
   ]
  },
  {
   "cell_type": "code",
   "execution_count": 2,
   "metadata": {},
   "outputs": [
    {
     "data": {
      "text/plain": [
       "4"
      ]
     },
     "execution_count": 2,
     "metadata": {},
     "output_type": "execute_result"
    }
   ],
   "source": [
    "import multiprocessing as m_proc\n",
    "m_proc.cpu_count()"
   ]
  },
  {
   "cell_type": "code",
   "execution_count": 3,
   "metadata": {},
   "outputs": [
    {
     "ename": "AttributeError",
     "evalue": "module 'MDAnalysis.analysis' has no attribute 'rdf_s'",
     "output_type": "error",
     "traceback": [
      "\u001b[0;31m---------------------------------------------------------------------------\u001b[0m",
      "\u001b[0;31mAttributeError\u001b[0m                            Traceback (most recent call last)",
      "\u001b[0;32m<ipython-input-3-143ad4d1d819>\u001b[0m in \u001b[0;36m<module>\u001b[0;34m\u001b[0m\n\u001b[1;32m      1\u001b[0m \u001b[0;31m# Import MDAnalysis\u001b[0m\u001b[0;34m\u001b[0m\u001b[0;34m\u001b[0m\u001b[0;34m\u001b[0m\u001b[0m\n\u001b[1;32m      2\u001b[0m \u001b[0;32mimport\u001b[0m \u001b[0mMDAnalysis\u001b[0m \u001b[0;32mas\u001b[0m \u001b[0mmda\u001b[0m\u001b[0;34m\u001b[0m\u001b[0;34m\u001b[0m\u001b[0m\n\u001b[0;32m----> 3\u001b[0;31m \u001b[0;32mfrom\u001b[0m \u001b[0mMDAnalysis\u001b[0m\u001b[0;34m.\u001b[0m\u001b[0manalysis\u001b[0m \u001b[0;32mimport\u001b[0m \u001b[0;34m*\u001b[0m\u001b[0;34m\u001b[0m\u001b[0;34m\u001b[0m\u001b[0m\n\u001b[0m\u001b[1;32m      4\u001b[0m \u001b[0;32mimport\u001b[0m \u001b[0mstatsmodels\u001b[0m \u001b[0;32mas\u001b[0m \u001b[0mstats\u001b[0m\u001b[0;34m\u001b[0m\u001b[0;34m\u001b[0m\u001b[0m\n",
      "\u001b[0;31mAttributeError\u001b[0m: module 'MDAnalysis.analysis' has no attribute 'rdf_s'"
     ]
    }
   ],
   "source": [
    "# Import MDAnalysis\n",
    "import MDAnalysis as mda\n",
    "from MDAnalysis.analysis import *\n",
    "import statsmodels as stats"
   ]
  },
  {
   "cell_type": "markdown",
   "metadata": {},
   "source": [
    "### Calculate radius of gyration and persistence length of PLGA/water simulations"
   ]
  },
  {
   "cell_type": "code",
   "execution_count": null,
   "metadata": {},
   "outputs": [],
   "source": [
    "def get_rg_pers_poly(polymer_atoms, universe, start, end):\n",
    "    \"\"\"This function will calculate the average radius of gyration and persistence length of a polymer within a \n",
    "    trajectory block.\"\"\"\n",
    "    \n",
    "    \n",
    "    \n",
    "    \n",
    "    \n",
    "    \n",
    "    \n",
    "    \n",
    "    \n",
    "    \n",
    "    return pers_rg_pol"
   ]
  },
  {
   "cell_type": "code",
   "execution_count": null,
   "metadata": {},
   "outputs": [],
   "source": [
    "# I want a list of total fraction of contacts where length is determined by no. of blocks and a dictionary \n",
    "# of contact groups as keys and list of fractional contacts as values(length of list will be no. of blocks)\n",
    "def bavg_frac_cnt(no_of_blks, prot_atoms, g2_atoms, dmax, universe, no_surf, begin, final):\n",
    " \n",
    "    n_size = (final - begin)/no_of_blks\n",
    "    \n",
    "    frcb = []\n",
    "    \n",
    "    ot_dab = {}\n",
    "    universe.trajectory[begin]\n",
    "    \n",
    "    sf_lbl = [\"Avg Radius of gyration\", \"Avg persistence length\"]\n",
    "\n",
    "    blk_nparr = np.zeros(shape=((len(sf_lbl)-1),1,no_of_blks))\n",
    "    \n",
    "    for i in range(no_of_blks):\n",
    "        \n",
    "        start = universe.trajectory.frame\n",
    "        print(start)\n",
    "    \n",
    "        end = int(start + n_size)\n",
    "        print(end)\n",
    "       \n",
    "        \n",
    "        \n",
    "        \n",
    "        \n",
    "        \n",
    "        \n",
    "        \n",
    "        \n",
    "        \n",
    "        universe.trajectory[end]\n",
    "    # Save fractional contacts for each AA group type, each element in the value array corresponds to a block \n",
    "    # calculated value\n",
    "    for i in range(len(sf_lbl)-1):\n",
    "        ot_dab[sf_lbl[i]] = blk_nparr[i,0,:]\n",
    "    \n",
    "    # total fraction of contacts within the specified blocks    \n",
    "    ot_dab[sf_lbl[5]] = np.array(frcb)   \n",
    "    \n",
    "    return ot_dab\n",
    "        "
   ]
  },
  {
   "cell_type": "code",
   "execution_count": null,
   "metadata": {},
   "outputs": [],
   "source": []
  },
  {
   "cell_type": "markdown",
   "metadata": {},
   "source": [
    "### Water only systems"
   ]
  },
  {
   "cell_type": "code",
   "execution_count": 4,
   "metadata": {},
   "outputs": [],
   "source": [
    "n6_plga_wat = mda.Universe(\"n6_plga_50ns/0_xa_soln/confout.gro\", \"n6_plga_50ns/0_xa_soln/traj_comp.xtc\")"
   ]
  },
  {
   "cell_type": "code",
   "execution_count": 5,
   "metadata": {},
   "outputs": [
    {
     "data": {
      "text/plain": [
       "<Universe with 19722 atoms>"
      ]
     },
     "execution_count": 5,
     "metadata": {},
     "output_type": "execute_result"
    }
   ],
   "source": [
    "n6_plga_wat"
   ]
  },
  {
   "cell_type": "code",
   "execution_count": 6,
   "metadata": {},
   "outputs": [
    {
     "data": {
      "text/plain": [
       "<XTCReader n6_plga_50ns/0_xa_soln/traj_comp.xtc with 5001 frames of 19722 atoms>"
      ]
     },
     "execution_count": 6,
     "metadata": {},
     "output_type": "execute_result"
    }
   ],
   "source": [
    "n6_plga_wat.trajectory"
   ]
  },
  {
   "cell_type": "code",
   "execution_count": 7,
   "metadata": {},
   "outputs": [],
   "source": [
    "#Select the polymer heavy atoms \n",
    "poly_n6 = n6_plga_wat.select_atoms(\"resname sPLG PLG tPLG and not type H\")"
   ]
  },
  {
   "cell_type": "code",
   "execution_count": 96,
   "metadata": {},
   "outputs": [],
   "source": [
    "def seg_org(poly_atoms, n_monomers):\n",
    "    \n",
    "    pmecl = []\n",
    "    count = 0\n",
    "    for i in range(n_monomers):\n",
    "        fgrp = []\n",
    "        count += 1\n",
    "        n_atm = len(poly_atoms.select_atoms(\"resid \"+str(count)))\n",
    "        \n",
    "        if count == 1:\n",
    "            #print(poly_atoms.select_atoms(\"resid \"+str(count)+\" and name O13\"))\n",
    "            pmecl.append(poly_atoms.select_atoms(\"resid \"+str(count)+\" and (name O13 O9)\"))\n",
    "            #print(pmecl)\n",
    "        elif count == 2:\n",
    "            #print(poly_atoms.select_atoms(\"name O5 and resid \"+str(count)))\n",
    "            pmecl.append(poly_atoms.select_atoms(\"(resid \"+str(count)+\" and name O5) or (resid \"+str(count-1)+\" and name O9)\"))\n",
    "        \n",
    "        if count != 2 and count != 1:\n",
    "            if count == n_monomers:\n",
    "                pmecl.append(poly_atoms.select_atoms(\"(resid \"+str(count)+\" and name O1) or (resid \"+str(count-1)+\" and name O5)\"))\n",
    "            elif count != n_monomers:\n",
    "            #print(count)\n",
    "                pmecl.append(poly_atoms.select_atoms(\"(resid \"+str(count)+\" and name O5) or (resid \"+str(count-1)+\" and name O5)\"))\n",
    "\n",
    "    return pmecl\n"
   ]
  },
  {
   "cell_type": "code",
   "execution_count": 189,
   "metadata": {},
   "outputs": [],
   "source": [
    "# write function to average across frames to give ensembled averaged correlation values at each nl value\n",
    "\n",
    "def pers_length(poly_atoms, n_monomers, len_bond, universe):\n",
    "    \n",
    "    ref_atoms = seg_org(poly_atoms,n_monomers)\n",
    "    \n",
    "    vec_poly = np.zeros(shape=(3,n_monomers), dtype=float)\n",
    "    \n",
    "    len_vec = np.arange(6,dtype=float)\n",
    "    \n",
    "    len_vec += 1\n",
    "    \n",
    "    len_vec *= float(len_bond)\n",
    "\n",
    "    vec_poly[2,:] = len_vec\n",
    "\n",
    "    \n",
    "    for i in range(n_monomers):\n",
    "        \n",
    "        if i == 0: \n",
    "\n",
    "            v1 = ref_atoms[i].positions[1] - ref_atoms[i].positions[0]\n",
    "\n",
    "            v1_norm = v1/(np.linalg.norm(v1))\n",
    "    \n",
    "            vec_poly[0,i] = v1_norm.dot(v1_norm)\n",
    "        \n",
    "            vec_poly[1,i] = math.degrees(math.acos(v1_norm.dot(v1_norm)))\n",
    "\n",
    "        elif i != 0:\n",
    "        \n",
    "            v2 = ref_atoms[i].positions[0] - ref_atoms[i].positions[1]\n",
    "       \n",
    "            v2_norm = v2/(np.linalg.norm(v2)) \n",
    "            \n",
    "            vec_poly[0,i] = np.dot(v1_norm,v2_norm)\n",
    "        \n",
    "            vec_poly[1,i] = math.degrees(math.acos(np.dot(v1_norm,v2_norm)))\n",
    "    \n",
    "    return vec_poly"
   ]
  },
  {
   "cell_type": "code",
   "execution_count": 190,
   "metadata": {},
   "outputs": [
    {
     "data": {
      "text/plain": [
       "array([[ 9.99999940e-01,  7.94124305e-02, -9.29754257e-01,\n",
       "         5.61196983e-01,  8.91411066e-01,  2.83423096e-01],\n",
       "       [ 1.97823410e-02,  8.54452070e+01,  1.58396541e+02,\n",
       "         5.58613824e+01,  2.69489001e+01,  7.35353875e+01],\n",
       "       [ 5.85000000e+00,  1.17000000e+01,  1.75500000e+01,\n",
       "         2.34000000e+01,  2.92500000e+01,  3.51000000e+01]])"
      ]
     },
     "execution_count": 190,
     "metadata": {},
     "output_type": "execute_result"
    }
   ],
   "source": [
    "p_mat = pers_length(poly_n6,6,5.85,n6_plga_wat)\n",
    "p_mat"
   ]
  },
  {
   "cell_type": "code",
   "execution_count": 188,
   "metadata": {},
   "outputs": [
    {
     "data": {
      "text/plain": [
       "(6,)"
      ]
     },
     "execution_count": 188,
     "metadata": {},
     "output_type": "execute_result"
    }
   ],
   "source": [
    "p_mat[2,:].shape"
   ]
  },
  {
   "cell_type": "code",
   "execution_count": 191,
   "metadata": {},
   "outputs": [
    {
     "data": {
      "text/plain": [
       "9.610981446225"
      ]
     },
     "execution_count": 191,
     "metadata": {},
     "output_type": "execute_result"
    }
   ],
   "source": [
    "mda.analysis.polymer.fit_exponential_decay(p_mat[2,:], p_mat[0,:])"
   ]
  },
  {
   "cell_type": "code",
   "execution_count": 193,
   "metadata": {},
   "outputs": [
    {
     "data": {
      "text/plain": [
       "<matplotlib.collections.PathCollection at 0x131fb00a58>"
      ]
     },
     "execution_count": 193,
     "metadata": {},
     "output_type": "execute_result"
    },
    {
     "data": {
      "image/png": "[encoded data removed]",
      "text/plain": [
       "<Figure size 576x576 with 1 Axes>"
      ]
     },
     "metadata": {
      "needs_background": "light"
     },
     "output_type": "display_data"
    }
   ],
   "source": [
    "plt.figure(figsize=(8,8))\n",
    "plt.scatter(p_mat[2,:],p_mat[0,:])"
   ]
  },
  {
   "cell_type": "code",
   "execution_count": null,
   "metadata": {},
   "outputs": [],
   "source": [
    "poly_n6.radius_of_gyration()"
   ]
  },
  {
   "cell_type": "code",
   "execution_count": null,
   "metadata": {},
   "outputs": [],
   "source": [
    "lbond = np.zeros(shape=(1,5000))\n",
    "count = 0\n",
    "for ts in n6_plga_wat.trajectory[0:5000]:\n",
    "    oo_len = mda.analysis.distances.distance_array(o9_atom.positions, o5_plg1.positions, box=n6_plga_wat.trajectory.ts.dimensions)\n",
    "    lbond[0, count] = oo_len\n",
    "    count += 1\n",
    "\n",
    "lbond"
   ]
  },
  {
   "cell_type": "code",
   "execution_count": null,
   "metadata": {},
   "outputs": [],
   "source": [
    "lb_avg = np.mean(lbond)"
   ]
  },
  {
   "cell_type": "code",
   "execution_count": null,
   "metadata": {},
   "outputs": [],
   "source": []
  },
  {
   "cell_type": "code",
   "execution_count": null,
   "metadata": {},
   "outputs": [],
   "source": [
    "x = np.arange(5000)\n",
    "plt.figure(figsize=(8,8))\n",
    "plt.scatter(x,lbond)"
   ]
  },
  {
   "cell_type": "code",
   "execution_count": null,
   "metadata": {},
   "outputs": [],
   "source": [
    "n8_plga_wat = mda.Universe(\"n8_plga_50ns/0_xa_soln/confout.gro\", \"n8_plga_50ns/0_xa_soln/traj_comp.xtc\")"
   ]
  },
  {
   "cell_type": "code",
   "execution_count": null,
   "metadata": {},
   "outputs": [],
   "source": [
    "n8_plga_wat"
   ]
  },
  {
   "cell_type": "code",
   "execution_count": null,
   "metadata": {},
   "outputs": [],
   "source": [
    "#Select the polymer heavy atoms \n",
    "poly_n8 = n8_plga_wat.select_atoms(\"resname sPLG PLG tPLG and not type H\")"
   ]
  },
  {
   "cell_type": "code",
   "execution_count": null,
   "metadata": {},
   "outputs": [],
   "source": [
    "pl_n8 = seg_org(poly_n8, 8)"
   ]
  },
  {
   "cell_type": "code",
   "execution_count": null,
   "metadata": {},
   "outputs": [],
   "source": [
    "n10_plga_wat = mda.Universe(\"n10_plga_50ns/0_xa_soln/confout.gro\", \"n10_plga_50ns/0_xa_soln/traj_comp.xtc\")"
   ]
  },
  {
   "cell_type": "code",
   "execution_count": null,
   "metadata": {},
   "outputs": [],
   "source": [
    "n10_plga_wat"
   ]
  },
  {
   "cell_type": "code",
   "execution_count": null,
   "metadata": {},
   "outputs": [],
   "source": [
    "poly_n10 = n10_plga_wat.select_atoms(\"resname sPLG PLG tPLG and not type H\")"
   ]
  },
  {
   "cell_type": "code",
   "execution_count": null,
   "metadata": {},
   "outputs": [],
   "source": [
    "pl_n10 = seg_org(poly_n10, 10)\n",
    "pl_n10"
   ]
  },
  {
   "cell_type": "code",
   "execution_count": null,
   "metadata": {},
   "outputs": [],
   "source": [
    "n20_plga_wat = mda.Universe(\"n20_plga_150ns/0_xa_soln/nowat_n20.gro\", \"n20_plga_150ns/0_xa_soln/n20_nowater0xa.xtc\")"
   ]
  },
  {
   "cell_type": "code",
   "execution_count": null,
   "metadata": {},
   "outputs": [],
   "source": [
    "n20_plga_wat"
   ]
  },
  {
   "cell_type": "code",
   "execution_count": null,
   "metadata": {},
   "outputs": [],
   "source": [
    "poly_n20 = n20_plga_wat.select_atoms(\"resname sPLG PLG tPLG and not type H\")"
   ]
  },
  {
   "cell_type": "code",
   "execution_count": null,
   "metadata": {},
   "outputs": [],
   "source": [
    "n30_plga_wat = mda.Universe(\"n30_plga_150ns/0_xa_soln/0xa_n30sys.gro\", \"n30_plga_150ns/0_xa_soln/0xa_n30.xtc\")"
   ]
  },
  {
   "cell_type": "code",
   "execution_count": null,
   "metadata": {},
   "outputs": [],
   "source": [
    "n30_plga_wat"
   ]
  },
  {
   "cell_type": "code",
   "execution_count": null,
   "metadata": {},
   "outputs": [],
   "source": [
    "poly_n30 = n30_plga_wat.select_atoms(\"resname sPLG PLG tPLG and not type H\")"
   ]
  },
  {
   "cell_type": "code",
   "execution_count": null,
   "metadata": {},
   "outputs": [],
   "source": [
    "n20_plga_ace = mda.Universe(\"n20_plga_150ns/1_xa_soln/1xa_n20sys.gro\", \"n20_plga_150ns/1_xa_soln/1xa_n20.xtc\")"
   ]
  },
  {
   "cell_type": "code",
   "execution_count": null,
   "metadata": {},
   "outputs": [],
   "source": [
    "n20_plga_ace"
   ]
  },
  {
   "cell_type": "code",
   "execution_count": null,
   "metadata": {},
   "outputs": [],
   "source": [
    "poly_n20_ace = n20_plga_ace.select_atoms(\"resname sPLG PLG tPLG and not type H\")"
   ]
  },
  {
   "cell_type": "code",
   "execution_count": null,
   "metadata": {},
   "outputs": [],
   "source": [
    "pl_n20_ace = seg_org(poly_n20_ace, 20)\n",
    "pl_n20_ace"
   ]
  },
  {
   "cell_type": "code",
   "execution_count": null,
   "metadata": {},
   "outputs": [],
   "source": []
  }
 ],
 "metadata": {
  "kernelspec": {
   "display_name": "Python (ppc_env)",
   "language": "python",
   "name": "ppc_env"
  },
  "language_info": {
   "codemirror_mode": {
    "name": "ipython",
    "version": 3
   },
   "file_extension": ".py",
   "mimetype": "text/x-python",
   "name": "python",
   "nbconvert_exporter": "python",
   "pygments_lexer": "ipython3",
   "version": "3.6.8"
  }
 },
 "nbformat": 4,
 "nbformat_minor": 2
}
