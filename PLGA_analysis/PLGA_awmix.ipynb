{
 "cells": [
  {
   "cell_type": "code",
   "execution_count": 1,
   "metadata": {},
   "outputs": [],
   "source": [
    "#import the necessary modules \n",
    "%matplotlib inline \n",
    "import numpy as np \n",
    "import matplotlib.pyplot as plt \n",
    "import pandas as pd \n",
    "import scipy\n",
    "import sklearn\n",
    "import itertools \n",
    "from itertools import cycle \n",
    "import os.path as op\n",
    "import timeit \n",
    "import json\n",
    "import math\n"
   ]
  },
  {
   "cell_type": "code",
   "execution_count": 2,
   "metadata": {},
   "outputs": [
    {
     "data": {
      "text/plain": [
       "4"
      ]
     },
     "execution_count": 2,
     "metadata": {},
     "output_type": "execute_result"
    }
   ],
   "source": [
    "import multiprocessing as m_proc\n",
    "m_proc.cpu_count()"
   ]
  },
  {
   "cell_type": "code",
   "execution_count": 3,
   "metadata": {},
   "outputs": [],
   "source": [
    "# Import MDAnalysis\n",
    "import MDAnalysis as mda\n",
    "import statsmodels as stats\n",
    "from MDAnalysis.analysis import polymer, distances, rdf\n",
    "import matplotlib.font_manager as font_manager"
   ]
  },
  {
   "cell_type": "code",
   "execution_count": 4,
   "metadata": {},
   "outputs": [],
   "source": [
    "from polymer_MD_analysis import pers_length, get_rg_pers_poly, bavg_pers_cnt"
   ]
  },
  {
   "cell_type": "markdown",
   "metadata": {},
   "source": [
    "## PLGA/0.69 mol acetone/water system analysis"
   ]
  },
  {
   "cell_type": "markdown",
   "metadata": {},
   "source": [
    "### N = 6"
   ]
  },
  {
   "cell_type": "code",
   "execution_count": 5,
   "metadata": {},
   "outputs": [],
   "source": [
    "# For the right Rg calculation using MD Analysis, use trajactory without pbc \n",
    "n6_plga_awmix = mda.Universe(\"n6plga_awmix/n6plgaonly_awmix.pdb\", \"n6plga_awmix/noawmix_n6plga.xtc\")"
   ]
  },
  {
   "cell_type": "code",
   "execution_count": 6,
   "metadata": {},
   "outputs": [
    {
     "data": {
      "text/plain": [
       "<XTCReader n6plga_awmix/noawmix_n6plga.xtc with 18001 frames of 93 atoms>"
      ]
     },
     "execution_count": 6,
     "metadata": {},
     "output_type": "execute_result"
    }
   ],
   "source": [
    "n6_plga_awmix.trajectory"
   ]
  },
  {
   "cell_type": "code",
   "execution_count": 7,
   "metadata": {},
   "outputs": [
    {
     "data": {
      "text/plain": [
       "18001"
      ]
     },
     "execution_count": 7,
     "metadata": {},
     "output_type": "execute_result"
    }
   ],
   "source": [
    "len(n6_plga_awmix.trajectory)"
   ]
  },
  {
   "cell_type": "code",
   "execution_count": 8,
   "metadata": {},
   "outputs": [],
   "source": [
    "#Select the polymer heavy atoms \n",
    "plga_n6awmix = n6_plga_awmix.select_atoms(\"resname sPLG PLG tPLG and not type H\")"
   ]
  },
  {
   "cell_type": "code",
   "execution_count": 9,
   "metadata": {},
   "outputs": [
    {
     "data": {
      "text/plain": [
       "array([[ 1.        ,  0.79372441,  0.77581391,  0.87721887,  0.83127955],\n",
       "       [ 0.        ,  1.        ,  2.        ,  3.        ,  4.        ],\n",
       "       [ 0.        , 37.4650612 , 39.12111674, 28.69132448, 33.7695957 ]])"
      ]
     },
     "execution_count": 9,
     "metadata": {},
     "output_type": "execute_result"
    }
   ],
   "source": [
    "crv_n6plga_awmix = pers_length(plga_n6awmix,6)\n",
    "crv_n6plga_awmix"
   ]
  },
  {
   "cell_type": "code",
   "execution_count": 10,
   "metadata": {},
   "outputs": [],
   "source": [
    "com_bond = np.zeros(shape=(1,18000))\n",
    "count = 0\n",
    "for ts in n6_plga_awmix.trajectory[0:18000]:\n",
    "    n6_mon1_awmix = n6_plga_awmix.select_atoms(\"resid 1\")\n",
    "    n6_mon2_awmix = n6_plga_awmix.select_atoms(\"resid 2\")\n",
    "    oo_len = mda.analysis.distances.distance_array(n6_mon1_awmix.center_of_mass(), n6_mon2_awmix.center_of_mass(), \n",
    "                                                   box=n6_plga_awmix.trajectory.ts.dimensions)\n",
    "    com_bond[0, count] = oo_len\n",
    "    count += 1\n",
    "    "
   ]
  },
  {
   "cell_type": "code",
   "execution_count": 11,
   "metadata": {},
   "outputs": [
    {
     "data": {
      "text/plain": [
       "array([[6.11350841, 5.92253141, 5.88769369, ..., 6.64941671, 6.24665586,\n",
       "        6.17255656]])"
      ]
     },
     "execution_count": 11,
     "metadata": {},
     "output_type": "execute_result"
    }
   ],
   "source": [
    "com_bond"
   ]
  },
  {
   "cell_type": "code",
   "execution_count": 12,
   "metadata": {},
   "outputs": [
    {
     "data": {
      "text/plain": [
       "5.81312097809652"
      ]
     },
     "execution_count": 12,
     "metadata": {},
     "output_type": "execute_result"
    }
   ],
   "source": [
    "lb_avg_pn6 = np.mean(com_bond)\n",
    "lb_avg_pn6"
   ]
  },
  {
   "cell_type": "code",
   "execution_count": 13,
   "metadata": {},
   "outputs": [
    {
     "data": {
      "text/plain": [
       "0.7160857118225773"
      ]
     },
     "execution_count": 13,
     "metadata": {},
     "output_type": "execute_result"
    }
   ],
   "source": [
    "np.std(com_bond)"
   ]
  },
  {
   "cell_type": "markdown",
   "metadata": {},
   "source": [
    "### Radius of Gyration vs. time N = 6 PLGA/0.69 mol acetone/water system"
   ]
  },
  {
   "cell_type": "code",
   "execution_count": 14,
   "metadata": {},
   "outputs": [],
   "source": [
    "n6plga_rgens_awmix, cor_n6plga_awmix, N6plga_cos_awmix, rgawmix_n6plga = get_rg_pers_poly(plga_n6awmix, n6_plga_awmix, 0, 18000)"
   ]
  },
  {
   "cell_type": "code",
   "execution_count": 15,
   "metadata": {},
   "outputs": [
    {
     "data": {
      "text/plain": [
       "(18000,)"
      ]
     },
     "execution_count": 15,
     "metadata": {},
     "output_type": "execute_result"
    }
   ],
   "source": [
    "n6plga_rgens_awmix[0].shape"
   ]
  },
  {
   "cell_type": "code",
   "execution_count": 16,
   "metadata": {},
   "outputs": [
    {
     "data": {
      "text/plain": [
       "array([0., 1., 2., 3., 4.])"
      ]
     },
     "execution_count": 16,
     "metadata": {},
     "output_type": "execute_result"
    }
   ],
   "source": [
    "cor_n6plga_awmix[3]"
   ]
  },
  {
   "cell_type": "code",
   "execution_count": 17,
   "metadata": {},
   "outputs": [
    {
     "data": {
      "text/plain": [
       "array([[1.        , 1.        , 1.        , ..., 1.        , 1.        ,\n",
       "        1.        ],\n",
       "       [0.79372441, 0.80113864, 0.78812902, ..., 0.88068499, 0.89074549,\n",
       "        0.84047689],\n",
       "       [0.77581391, 0.72465604, 0.78429345, ..., 0.51557396, 0.55596251,\n",
       "        0.49342697],\n",
       "       [0.87721887, 0.8364751 , 0.891779  , ..., 0.06447935, 0.16202206,\n",
       "        0.15423755],\n",
       "       [0.83127955, 0.80186797, 0.91477604, ..., 0.29453353, 0.41660591,\n",
       "        0.22250337]])"
      ]
     },
     "execution_count": 17,
     "metadata": {},
     "output_type": "execute_result"
    }
   ],
   "source": [
    "N6plga_cos_awmix"
   ]
  },
  {
   "cell_type": "code",
   "execution_count": 18,
   "metadata": {},
   "outputs": [
    {
     "data": {
      "text/plain": [
       "7.418624126975499"
      ]
     },
     "execution_count": 18,
     "metadata": {},
     "output_type": "execute_result"
    }
   ],
   "source": [
    "rgawmix_n6plga"
   ]
  },
  {
   "cell_type": "code",
   "execution_count": 19,
   "metadata": {},
   "outputs": [
    {
     "data": {
      "text/plain": [
       "1.330377977578941"
      ]
     },
     "execution_count": 19,
     "metadata": {},
     "output_type": "execute_result"
    }
   ],
   "source": [
    "np.std(n6plga_rgens_awmix)"
   ]
  },
  {
   "cell_type": "code",
   "execution_count": 20,
   "metadata": {},
   "outputs": [
    {
     "data": {
      "text/plain": [
       "array([    0,     1,     2, ..., 17997, 17998, 17999])"
      ]
     },
     "execution_count": 20,
     "metadata": {},
     "output_type": "execute_result"
    }
   ],
   "source": [
    "trj_len = np.arange(18000)\n",
    "\n",
    "#trj_len += 1\n",
    "trj_len\n"
   ]
  },
  {
   "cell_type": "code",
   "execution_count": 21,
   "metadata": {},
   "outputs": [
    {
     "data": {
      "text/plain": [
       "(0.2, 2)"
      ]
     },
     "execution_count": 21,
     "metadata": {},
     "output_type": "execute_result"
    },
    {
     "data": {
      "image/png": "[encoded data removed]",
      "text/plain": [
       "<Figure size 504x504 with 1 Axes>"
      ]
     },
     "metadata": {
      "needs_background": "light"
     },
     "output_type": "display_data"
    }
   ],
   "source": [
    "plt.figure(figsize=(7,7))\n",
    "plt.title(r'PLGA Radius of Gyration', fontsize=18, y=1.01)\n",
    "plt.xlabel(r'Time [ns]', fontsize=15)\n",
    "plt.ylabel(r'$R_{g}$ [nm]', fontsize=15)\n",
    "plt.plot(trj_len/100, n6plga_rgens_awmix[0]/10,linewidth=2, color='#CCBE9F')\n",
    "plt.tick_params(labelsize=14)\n",
    "plt.legend(['N = 6 in 0.69 a/w mix'], frameon=False, fontsize=14)\n",
    "#plt.text(127, 0.96,r'N = 6 in water', fontsize=18, color='#1F2E69', family='Arial')\n",
    "plt.xlim(0,180)\n",
    "plt.ylim(0.2,2)"
   ]
  },
  {
   "cell_type": "markdown",
   "metadata": {},
   "source": [
    "#### Correlation values at each arc length for the whole 180 ns trajectory, N = 6 PLGA/0.69 mol acetone/water system"
   ]
  },
  {
   "cell_type": "code",
   "execution_count": 22,
   "metadata": {},
   "outputs": [
    {
     "data": {
      "text/plain": [
       "array([ 0.        ,  5.81312098, 11.62624196, 17.43936293, 23.25248391])"
      ]
     },
     "execution_count": 22,
     "metadata": {},
     "output_type": "execute_result"
    }
   ],
   "source": [
    "# x values\n",
    "blen_awmix = cor_n6plga_awmix[3]*lb_avg_pn6\n",
    "#nt_tt[0] = 0\n",
    "blen_awmix"
   ]
  },
  {
   "cell_type": "code",
   "execution_count": 23,
   "metadata": {},
   "outputs": [
    {
     "data": {
      "text/plain": [
       "array([6.15370316e-17, 7.57718480e-02, 2.78680174e-01, 6.63978989e-01,\n",
       "       1.02273510e+00])"
      ]
     },
     "execution_count": 23,
     "metadata": {},
     "output_type": "execute_result"
    }
   ],
   "source": [
    "mk_n6p_awmix = cor_n6plga_awmix[1]/cor_n6plga_awmix[0]\n",
    "mk_n6p_awmix"
   ]
  },
  {
   "cell_type": "code",
   "execution_count": 24,
   "metadata": {},
   "outputs": [
    {
     "data": {
      "text/plain": [
       "<ErrorbarContainer object of 3 artists>"
      ]
     },
     "execution_count": 24,
     "metadata": {},
     "output_type": "execute_result"
    },
    {
     "data": {
      "image/png": "[encoded data removed]",
      "text/plain": [
       "<Figure size 504x504 with 1 Axes>"
      ]
     },
     "metadata": {
      "needs_background": "light"
     },
     "output_type": "display_data"
    }
   ],
   "source": [
    "plt.figure(figsize=(7,7))\n",
    "plt.errorbar(blen_awmix, np.log(cor_n6plga_awmix[0]), yerr=mk_n6p_awmix, color='b', linestyle=\"None\",marker='o',\n",
    "     capsize=5, capthick=1, ecolor='black')"
   ]
  },
  {
   "cell_type": "code",
   "execution_count": 25,
   "metadata": {},
   "outputs": [
    {
     "name": "stdout",
     "output_type": "stream",
     "text": [
      "3000\n",
      "6000\n",
      "Lp [Angstroms]: 31.8432797092372\n",
      "Error in Lp from fit [Angstroms], 95% CL : 3.2199590350513367\n",
      "R2 score: 0.9885156535606743\n",
      "6000\n",
      "9000\n",
      "Lp [Angstroms]: 32.79383322300144\n",
      "Error in Lp from fit [Angstroms], 95% CL : 4.320702644290852\n",
      "R2 score: 0.9810196964759127\n",
      "9000\n",
      "12000\n",
      "Lp [Angstroms]: 28.551544466826122\n",
      "Error in Lp from fit [Angstroms], 95% CL : 2.372315921870793\n",
      "R2 score: 0.9921271042070545\n",
      "12000\n",
      "15000\n",
      "Lp [Angstroms]: 25.68995875720534\n",
      "Error in Lp from fit [Angstroms], 95% CL : 3.999270155543878\n",
      "R2 score: 0.9740729297173453\n",
      "15000\n",
      "18000\n",
      "Lp [Angstroms]: 46.55797586589343\n",
      "Error in Lp from fit [Angstroms], 95% CL : 0.7652150350657253\n",
      "R2 score: 0.9996755045682524\n"
     ]
    }
   ],
   "source": [
    "# All the points give the best fits for N = 6 peg in water\n",
    "n6_blksplga_awmix , n6plga_lpawmix = bavg_pers_cnt(5, plga_n6awmix, n6_plga_awmix, lb_avg_pn6, 3, 3000 , 18000)"
   ]
  },
  {
   "cell_type": "code",
   "execution_count": 26,
   "metadata": {},
   "outputs": [
    {
     "data": {
      "text/plain": [
       "{'Avg Radius of gyration': array([7.41416617, 7.66096702, 7.27762832, 7.01705776, 8.12328694]),\n",
       " 'Avg persistence length': array([31.84327971, 32.79383322, 28.55154447, 25.68995876, 46.55797587])}"
      ]
     },
     "execution_count": 26,
     "metadata": {},
     "output_type": "execute_result"
    }
   ],
   "source": [
    "n6_blksplga_awmix"
   ]
  },
  {
   "cell_type": "code",
   "execution_count": 27,
   "metadata": {},
   "outputs": [
    {
     "data": {
      "text/plain": [
       "array([[ 3.18432797e+01,  3.27938332e+01,  2.85515445e+01,\n",
       "         2.56899588e+01,  4.65579759e+01],\n",
       "       [ 3.21995904e+00,  4.32070264e+00,  2.37231592e+00,\n",
       "         3.99927016e+00,  7.65215035e-01],\n",
       "       [-3.14038004e-02, -3.04935380e-02, -3.50243750e-02,\n",
       "        -3.89257145e-02, -2.14785970e-02],\n",
       "       [ 2.76100325e-04,  4.41954351e-04,  2.31880386e-04,\n",
       "         1.00541474e-03,  3.41214923e-06]])"
      ]
     },
     "execution_count": 27,
     "metadata": {},
     "output_type": "execute_result"
    }
   ],
   "source": [
    "n6plga_lpawmix"
   ]
  },
  {
   "cell_type": "code",
   "execution_count": 28,
   "metadata": {},
   "outputs": [
    {
     "data": {
      "text/plain": [
       "array([-0.0314038 , -0.03049354, -0.03502437, -0.03892571, -0.0214786 ])"
      ]
     },
     "execution_count": 28,
     "metadata": {},
     "output_type": "execute_result"
    }
   ],
   "source": [
    "n6plga_lpawmix[2]"
   ]
  },
  {
   "cell_type": "code",
   "execution_count": 218,
   "metadata": {},
   "outputs": [
    {
     "data": {
      "text/plain": [
       "-0.03146520497660921"
      ]
     },
     "execution_count": 218,
     "metadata": {},
     "output_type": "execute_result"
    }
   ],
   "source": [
    "np.mean(n6plga_lpawmix[2])"
   ]
  },
  {
   "cell_type": "code",
   "execution_count": 29,
   "metadata": {},
   "outputs": [
    {
     "data": {
      "text/plain": [
       "0.000391752389803843"
      ]
     },
     "execution_count": 29,
     "metadata": {},
     "output_type": "execute_result"
    }
   ],
   "source": [
    "np.mean(n6plga_lpawmix[3])"
   ]
  },
  {
   "cell_type": "code",
   "execution_count": 30,
   "metadata": {},
   "outputs": [],
   "source": [
    "def line_fit(slope, x):\n",
    "    return slope*x "
   ]
  },
  {
   "cell_type": "code",
   "execution_count": 31,
   "metadata": {},
   "outputs": [
    {
     "data": {
      "text/plain": [
       "array([ 0.        ,  5.81312098, 11.62624196, 17.43936293, 23.25248391])"
      ]
     },
     "execution_count": 31,
     "metadata": {},
     "output_type": "execute_result"
    }
   ],
   "source": [
    "blen_awmix"
   ]
  },
  {
   "cell_type": "code",
   "execution_count": 32,
   "metadata": {},
   "outputs": [],
   "source": [
    "gg_n6plga_awmix = line_fit(np.mean(n6plga_lpawmix[2]),blen_awmix)"
   ]
  },
  {
   "cell_type": "code",
   "execution_count": 33,
   "metadata": {},
   "outputs": [
    {
     "data": {
      "text/plain": [
       "array([-0.        , -0.18291104, -0.36582209, -0.54873313, -0.73164417])"
      ]
     },
     "execution_count": 33,
     "metadata": {},
     "output_type": "execute_result"
    }
   ],
   "source": [
    "gg_n6plga_awmix"
   ]
  },
  {
   "cell_type": "markdown",
   "metadata": {},
   "source": [
    "### Block averaged Radius of gyration and persistence length, N = 6 PLGA/0.69 mol acetone/water system"
   ]
  },
  {
   "cell_type": "code",
   "execution_count": 34,
   "metadata": {},
   "outputs": [
    {
     "data": {
      "text/plain": [
       "33.08731840443271"
      ]
     },
     "execution_count": 34,
     "metadata": {},
     "output_type": "execute_result"
    }
   ],
   "source": [
    "np.mean(n6_blksplga_awmix[\"Avg persistence length\"])"
   ]
  },
  {
   "cell_type": "code",
   "execution_count": 35,
   "metadata": {},
   "outputs": [
    {
     "data": {
      "text/plain": [
       "7.188693250297581"
      ]
     },
     "execution_count": 35,
     "metadata": {},
     "output_type": "execute_result"
    }
   ],
   "source": [
    "np.std(n6_blksplga_awmix[\"Avg persistence length\"])"
   ]
  },
  {
   "cell_type": "code",
   "execution_count": 36,
   "metadata": {},
   "outputs": [
    {
     "data": {
      "text/plain": [
       "7.4986212421659335"
      ]
     },
     "execution_count": 36,
     "metadata": {},
     "output_type": "execute_result"
    }
   ],
   "source": [
    "np.mean(n6_blksplga_awmix[\"Avg Radius of gyration\"])"
   ]
  },
  {
   "cell_type": "code",
   "execution_count": 37,
   "metadata": {},
   "outputs": [
    {
     "data": {
      "text/plain": [
       "0.3753497824108946"
      ]
     },
     "execution_count": 37,
     "metadata": {},
     "output_type": "execute_result"
    }
   ],
   "source": [
    "np.std(n6_blksplga_awmix[\"Avg Radius of gyration\"])"
   ]
  },
  {
   "cell_type": "code",
   "execution_count": 252,
   "metadata": {},
   "outputs": [
    {
     "data": {
      "text/plain": [
       "Text(0.5, -1.82, '$N_{PLGA}$ = 6: $L_{p}$ = 33.1 $\\\\AA$ ± 7.19 $\\\\AA$')"
      ]
     },
     "execution_count": 252,
     "metadata": {},
     "output_type": "execute_result"
    },
    {
     "data": {
      "image/png": "[encoded data removed]",
      "text/plain": [
       "<Figure size 504x504 with 1 Axes>"
      ]
     },
     "metadata": {
      "needs_background": "light"
     },
     "output_type": "display_data"
    }
   ],
   "source": [
    "plt.figure(figsize=(7,7))\n",
    "plt.errorbar(blen_awmix, np.log(cor_n6plga_awmix[0]), yerr=mk_n6p_awmix, color='b', linestyle=\"None\",marker='o',\n",
    "     capsize=5, capthick=1, ecolor='black')\n",
    "plt.plot(blen_awmix, gg_n6plga_awmix, color='b')\n",
    "plt.title(r'Ensemble Averaged ln(Cosine $\\theta$) in 0.69 a/w mix', fontsize=15, y=1.01)\n",
    "plt.xlabel(r'Bond Length', fontsize=15)\n",
    "plt.ylabel(r'ln$\\left< Cos(\\theta)\\right >$', fontsize=15)\n",
    "#plt.ylim(-1.9,0)\n",
    "font = font_manager.FontProperties(family='Arial', style='normal', size='14')\n",
    "plt.tick_params(labelsize=14)\n",
    "plt.text(0.5, -1.82,r'$N_{PLGA}$ = 6: $L_{p}$ = 33.1 $\\AA$ ± 7.19 $\\AA$', fontsize=15, color='b')\n",
    "#plt.text(5,-0.15,r'R$^{2}$ = 0.98', fontsize=15, color='blue')"
   ]
  },
  {
   "cell_type": "code",
   "execution_count": 39,
   "metadata": {},
   "outputs": [
    {
     "data": {
      "text/html": [
       "<div>\n",
       "<style scoped>\n",
       "    .dataframe tbody tr th:only-of-type {\n",
       "        vertical-align: middle;\n",
       "    }\n",
       "\n",
       "    .dataframe tbody tr th {\n",
       "        vertical-align: top;\n",
       "    }\n",
       "\n",
       "    .dataframe thead th {\n",
       "        text-align: right;\n",
       "    }\n",
       "</style>\n",
       "<table border=\"1\" class=\"dataframe\">\n",
       "  <thead>\n",
       "    <tr style=\"text-align: right;\">\n",
       "      <th></th>\n",
       "      <th>$R_{g}$ [Angstrom] N = 6 PLGA in 0.69 a/w mix</th>\n",
       "    </tr>\n",
       "  </thead>\n",
       "  <tbody>\n",
       "    <tr>\n",
       "      <td>0</td>\n",
       "      <td>7.414166</td>\n",
       "    </tr>\n",
       "    <tr>\n",
       "      <td>1</td>\n",
       "      <td>7.660967</td>\n",
       "    </tr>\n",
       "    <tr>\n",
       "      <td>2</td>\n",
       "      <td>7.277628</td>\n",
       "    </tr>\n",
       "    <tr>\n",
       "      <td>3</td>\n",
       "      <td>7.017058</td>\n",
       "    </tr>\n",
       "    <tr>\n",
       "      <td>4</td>\n",
       "      <td>8.123287</td>\n",
       "    </tr>\n",
       "  </tbody>\n",
       "</table>\n",
       "</div>"
      ],
      "text/plain": [
       "   $R_{g}$ [Angstrom] N = 6 PLGA in 0.69 a/w mix\n",
       "0                                       7.414166\n",
       "1                                       7.660967\n",
       "2                                       7.277628\n",
       "3                                       7.017058\n",
       "4                                       8.123287"
      ]
     },
     "execution_count": 39,
     "metadata": {},
     "output_type": "execute_result"
    }
   ],
   "source": [
    "rgplga_olig_awmix =  pd.DataFrame(data=n6_blksplga_awmix[\"Avg Radius of gyration\"]\n",
    "                                  , columns=['$R_{g}$ [Angstrom] N = 6 PLGA in 0.69 a/w mix'])\n",
    "rgplga_olig_awmix"
   ]
  },
  {
   "cell_type": "code",
   "execution_count": 40,
   "metadata": {},
   "outputs": [
    {
     "data": {
      "text/html": [
       "<div>\n",
       "<style scoped>\n",
       "    .dataframe tbody tr th:only-of-type {\n",
       "        vertical-align: middle;\n",
       "    }\n",
       "\n",
       "    .dataframe tbody tr th {\n",
       "        vertical-align: top;\n",
       "    }\n",
       "\n",
       "    .dataframe thead th {\n",
       "        text-align: right;\n",
       "    }\n",
       "</style>\n",
       "<table border=\"1\" class=\"dataframe\">\n",
       "  <thead>\n",
       "    <tr style=\"text-align: right;\">\n",
       "      <th></th>\n",
       "      <th>$L_{p}$ [Angstrom] N = 6 PLGA in 0.69 a/w mix</th>\n",
       "    </tr>\n",
       "  </thead>\n",
       "  <tbody>\n",
       "    <tr>\n",
       "      <td>0</td>\n",
       "      <td>31.843280</td>\n",
       "    </tr>\n",
       "    <tr>\n",
       "      <td>1</td>\n",
       "      <td>32.793833</td>\n",
       "    </tr>\n",
       "    <tr>\n",
       "      <td>2</td>\n",
       "      <td>28.551544</td>\n",
       "    </tr>\n",
       "    <tr>\n",
       "      <td>3</td>\n",
       "      <td>25.689959</td>\n",
       "    </tr>\n",
       "    <tr>\n",
       "      <td>4</td>\n",
       "      <td>46.557976</td>\n",
       "    </tr>\n",
       "  </tbody>\n",
       "</table>\n",
       "</div>"
      ],
      "text/plain": [
       "   $L_{p}$ [Angstrom] N = 6 PLGA in 0.69 a/w mix \n",
       "0                                       31.843280\n",
       "1                                       32.793833\n",
       "2                                       28.551544\n",
       "3                                       25.689959\n",
       "4                                       46.557976"
      ]
     },
     "execution_count": 40,
     "metadata": {},
     "output_type": "execute_result"
    }
   ],
   "source": [
    "pers_plgat_awmix = pd.DataFrame(data=n6_blksplga_awmix[\"Avg persistence length\"]\n",
    "                                , columns=[r\"$L_{p}$ [Angstrom] N = 6 PLGA in 0.69 a/w mix \"])\n",
    "pers_plgat_awmix"
   ]
  },
  {
   "cell_type": "code",
   "execution_count": null,
   "metadata": {},
   "outputs": [],
   "source": []
  },
  {
   "cell_type": "code",
   "execution_count": null,
   "metadata": {},
   "outputs": [],
   "source": []
  },
  {
   "cell_type": "markdown",
   "metadata": {},
   "source": [
    "### N = 8 PLGA/0.69 mol acetone/water system"
   ]
  },
  {
   "cell_type": "code",
   "execution_count": 41,
   "metadata": {},
   "outputs": [],
   "source": [
    "# For the right Rg calculation using MD Analysis, use trajactory without pbc \n",
    "n8_plga_awmix = mda.Universe(\"n8plga_awmix/n8plgaonly_awmix.pdb\", \"n8plga_awmix/noawmix_n8plga.xtc\")"
   ]
  },
  {
   "cell_type": "code",
   "execution_count": 42,
   "metadata": {},
   "outputs": [
    {
     "data": {
      "text/plain": [
       "<XTCReader n8plga_awmix/noawmix_n8plga.xtc with 18001 frames of 123 atoms>"
      ]
     },
     "execution_count": 42,
     "metadata": {},
     "output_type": "execute_result"
    }
   ],
   "source": [
    "n8_plga_awmix.trajectory"
   ]
  },
  {
   "cell_type": "code",
   "execution_count": 43,
   "metadata": {},
   "outputs": [
    {
     "data": {
      "text/plain": [
       "18001"
      ]
     },
     "execution_count": 43,
     "metadata": {},
     "output_type": "execute_result"
    }
   ],
   "source": [
    "len(n8_plga_awmix.trajectory)"
   ]
  },
  {
   "cell_type": "code",
   "execution_count": 44,
   "metadata": {},
   "outputs": [],
   "source": [
    "#Select the polymer heavy atoms \n",
    "plga_n8awmix = n8_plga_awmix.select_atoms(\"resname sPLG PLG tPLG and not type H\")"
   ]
  },
  {
   "cell_type": "code",
   "execution_count": 45,
   "metadata": {},
   "outputs": [
    {
     "data": {
      "text/plain": [
       "array([[ 1.        ,  0.91620752,  0.87277746,  0.83617727,  0.80723313,\n",
       "         0.78244539,  0.86059412],\n",
       "       [ 0.        ,  1.        ,  2.        ,  3.        ,  4.        ,\n",
       "         5.        ,  6.        ],\n",
       "       [ 0.        , 23.62220247, 29.21697982, 33.26137652, 36.17352474,\n",
       "        38.51497872, 30.61664392]])"
      ]
     },
     "execution_count": 45,
     "metadata": {},
     "output_type": "execute_result"
    }
   ],
   "source": [
    "crv_n8plga_awmix = pers_length(plga_n8awmix,8)\n",
    "crv_n8plga_awmix"
   ]
  },
  {
   "cell_type": "code",
   "execution_count": 46,
   "metadata": {},
   "outputs": [],
   "source": [
    "com_bond_n8awmix = np.zeros(shape=(1,18000))\n",
    "count = 0\n",
    "for ts in n8_plga_awmix.trajectory[0:18000]:\n",
    "    n8_mon1_awmix = n8_plga_awmix.select_atoms(\"resid 1\")\n",
    "    n8_mon2_awmix = n8_plga_awmix.select_atoms(\"resid 2\")\n",
    "    oo_len = mda.analysis.distances.distance_array(n8_mon1_awmix.center_of_mass(), n8_mon2_awmix.center_of_mass(), \n",
    "                                                   box=n8_plga_awmix.trajectory.ts.dimensions)\n",
    "    com_bond_n8awmix[0, count] = oo_len\n",
    "    count += 1\n",
    "    "
   ]
  },
  {
   "cell_type": "code",
   "execution_count": 47,
   "metadata": {},
   "outputs": [
    {
     "data": {
      "text/plain": [
       "array([[6.11350841, 5.92253141, 5.88769369, ..., 6.64941671, 6.24665586,\n",
       "        6.17255656]])"
      ]
     },
     "execution_count": 47,
     "metadata": {},
     "output_type": "execute_result"
    }
   ],
   "source": [
    "com_bond"
   ]
  },
  {
   "cell_type": "code",
   "execution_count": 48,
   "metadata": {},
   "outputs": [
    {
     "data": {
      "text/plain": [
       "0.7160857118225773"
      ]
     },
     "execution_count": 48,
     "metadata": {},
     "output_type": "execute_result"
    }
   ],
   "source": [
    "np.std(com_bond)"
   ]
  },
  {
   "cell_type": "code",
   "execution_count": 49,
   "metadata": {},
   "outputs": [
    {
     "data": {
      "text/plain": [
       "5.81312097809652"
      ]
     },
     "execution_count": 49,
     "metadata": {},
     "output_type": "execute_result"
    }
   ],
   "source": [
    "lb_avg_pn6 = np.mean(com_bond)\n",
    "lb_avg_pn6"
   ]
  },
  {
   "cell_type": "code",
   "execution_count": 50,
   "metadata": {},
   "outputs": [
    {
     "data": {
      "text/plain": [
       "5.86235260226015"
      ]
     },
     "execution_count": 50,
     "metadata": {},
     "output_type": "execute_result"
    }
   ],
   "source": [
    "np.mean(com_bond_n8awmix)"
   ]
  },
  {
   "cell_type": "code",
   "execution_count": 51,
   "metadata": {},
   "outputs": [
    {
     "data": {
      "text/plain": [
       "0.7015393475726607"
      ]
     },
     "execution_count": 51,
     "metadata": {},
     "output_type": "execute_result"
    }
   ],
   "source": [
    "np.std(com_bond_n8awmix)"
   ]
  },
  {
   "cell_type": "markdown",
   "metadata": {},
   "source": [
    "### Radius of Gyration vs. time N = 8 PLGA/0.69 mol acetone/water system"
   ]
  },
  {
   "cell_type": "code",
   "execution_count": 52,
   "metadata": {},
   "outputs": [],
   "source": [
    "n8plga_rgens_awmix, cor_n8plga_awmix, N8plga_cos_awmix, rgawmix_n8plga = get_rg_pers_poly(plga_n8awmix, n8_plga_awmix, 0, 18000)"
   ]
  },
  {
   "cell_type": "code",
   "execution_count": 53,
   "metadata": {},
   "outputs": [
    {
     "data": {
      "text/plain": [
       "(18000,)"
      ]
     },
     "execution_count": 53,
     "metadata": {},
     "output_type": "execute_result"
    }
   ],
   "source": [
    "n8plga_rgens_awmix[0].shape"
   ]
  },
  {
   "cell_type": "code",
   "execution_count": 54,
   "metadata": {},
   "outputs": [
    {
     "data": {
      "text/plain": [
       "array([0., 1., 2., 3., 4., 5., 6.])"
      ]
     },
     "execution_count": 54,
     "metadata": {},
     "output_type": "execute_result"
    }
   ],
   "source": [
    "cor_n8plga_awmix[3]"
   ]
  },
  {
   "cell_type": "code",
   "execution_count": 55,
   "metadata": {},
   "outputs": [
    {
     "data": {
      "text/plain": [
       "array([[1.        , 1.        , 1.        , ..., 1.        , 1.        ,\n",
       "        1.        ],\n",
       "       [0.91620752, 0.90811913, 0.94059688, ..., 0.93247873, 0.94174337,\n",
       "        0.93826385],\n",
       "       [0.87277746, 0.89574851, 0.92347195, ..., 0.89279404, 0.88550031,\n",
       "        0.84211876],\n",
       "       ...,\n",
       "       [0.80723313, 0.78485372, 0.81547264, ..., 0.82241204, 0.86770149,\n",
       "        0.77264412],\n",
       "       [0.78244539, 0.6514082 , 0.70318369, ..., 0.79396484, 0.82460685,\n",
       "        0.87026422],\n",
       "       [0.86059412, 0.56191988, 0.51402012, ..., 0.93401012, 0.86926478,\n",
       "        0.96823756]])"
      ]
     },
     "execution_count": 55,
     "metadata": {},
     "output_type": "execute_result"
    }
   ],
   "source": [
    "N8plga_cos_awmix"
   ]
  },
  {
   "cell_type": "code",
   "execution_count": 56,
   "metadata": {},
   "outputs": [
    {
     "data": {
      "text/plain": [
       "8.750508082206261"
      ]
     },
     "execution_count": 56,
     "metadata": {},
     "output_type": "execute_result"
    }
   ],
   "source": [
    "rgawmix_n8plga"
   ]
  },
  {
   "cell_type": "code",
   "execution_count": 57,
   "metadata": {},
   "outputs": [
    {
     "data": {
      "text/plain": [
       "1.776776511503046"
      ]
     },
     "execution_count": 57,
     "metadata": {},
     "output_type": "execute_result"
    }
   ],
   "source": [
    "np.std(n8plga_rgens_awmix)"
   ]
  },
  {
   "cell_type": "code",
   "execution_count": 253,
   "metadata": {},
   "outputs": [
    {
     "data": {
      "text/plain": [
       "(0.2, 2)"
      ]
     },
     "execution_count": 253,
     "metadata": {},
     "output_type": "execute_result"
    },
    {
     "data": {
      "image/png": "[encoded data removed]",
      "text/plain": [
       "<Figure size 504x504 with 1 Axes>"
      ]
     },
     "metadata": {
      "needs_background": "light"
     },
     "output_type": "display_data"
    }
   ],
   "source": [
    "plt.figure(figsize=(7,7))\n",
    "plt.title(r'PLGA Radius of Gyration', fontsize=18, y=1.01)\n",
    "plt.xlabel(r'Time [ns]', fontsize=15)\n",
    "plt.ylabel(r'$R_{g}$ [nm]', fontsize=15)\n",
    "plt.plot(trj_len/100, n6plga_rgens_awmix[0]/10,linewidth=2, color='#CCBE9F')\n",
    "plt.plot(trj_len/100, n8plga_rgens_awmix[0]/10,linewidth=2, color='#601A4A')\n",
    "plt.tick_params(labelsize=14)\n",
    "plt.legend(['N = 6 in 0.69 a/w mix','N = 8 in 0.69 a/w mix'], frameon=False, fontsize=14)\n",
    "#plt.text(127, 0.96,r'N = 6 in water', fontsize=18, color='#1F2E69', family='Arial')\n",
    "plt.xlim(0,180)\n",
    "plt.ylim(0.2,2)"
   ]
  },
  {
   "cell_type": "markdown",
   "metadata": {},
   "source": [
    "#### Correlation values at each arc length for the whole 180 ns trajectory, N = 8 PLGA/0.69 mol acetone/water system"
   ]
  },
  {
   "cell_type": "code",
   "execution_count": 59,
   "metadata": {},
   "outputs": [
    {
     "data": {
      "text/plain": [
       "array([ 0.        ,  5.81312098, 11.62624196, 17.43936293, 23.25248391,\n",
       "       29.06560489, 34.87872587])"
      ]
     },
     "execution_count": 59,
     "metadata": {},
     "output_type": "execute_result"
    }
   ],
   "source": [
    "# x values\n",
    "blen_n8awmix = cor_n8plga_awmix[3]*lb_avg_pn6\n",
    "#nt_tt[0] = 0\n",
    "blen_n8awmix"
   ]
  },
  {
   "cell_type": "code",
   "execution_count": 60,
   "metadata": {},
   "outputs": [
    {
     "data": {
      "text/plain": [
       "array([4.19508282e-17, 6.02324173e-02, 2.15240405e-01, 4.50010376e-01,\n",
       "       8.04534020e-01, 1.47698082e+00, 1.93262669e+00])"
      ]
     },
     "execution_count": 60,
     "metadata": {},
     "output_type": "execute_result"
    }
   ],
   "source": [
    "mk_n8p_awmix = cor_n8plga_awmix[1]/cor_n8plga_awmix[0]\n",
    "mk_n8p_awmix"
   ]
  },
  {
   "cell_type": "code",
   "execution_count": 61,
   "metadata": {},
   "outputs": [
    {
     "data": {
      "text/plain": [
       "<ErrorbarContainer object of 3 artists>"
      ]
     },
     "execution_count": 61,
     "metadata": {},
     "output_type": "execute_result"
    },
    {
     "data": {
      "image/png": "[encoded data removed]",
      "text/plain": [
       "<Figure size 504x504 with 1 Axes>"
      ]
     },
     "metadata": {
      "needs_background": "light"
     },
     "output_type": "display_data"
    }
   ],
   "source": [
    "plt.figure(figsize=(7,7))\n",
    "plt.errorbar(blen_awmix, np.log(cor_n6plga_awmix[0]), yerr=mk_n6p_awmix, color='#CCBE9F', linestyle=\"None\",marker='o',\n",
    "     capsize=5, capthick=1, ecolor='black')\n",
    "plt.errorbar(blen_n8awmix, np.log(cor_n8plga_awmix[0]), yerr=mk_n8p_awmix, color='#601A4A', linestyle=\"None\",marker='o',\n",
    "     capsize=5, capthick=1, ecolor='black')"
   ]
  },
  {
   "cell_type": "code",
   "execution_count": 62,
   "metadata": {},
   "outputs": [
    {
     "name": "stdout",
     "output_type": "stream",
     "text": [
      "3000\n",
      "6000\n",
      "Lp [Angstroms]: 18.143704573731174\n",
      "Error in Lp from fit [Angstroms], 95% CL : 2.9846166343580363\n",
      "R2 score: 0.9299931285383647\n",
      "6000\n",
      "9000\n",
      "Lp [Angstroms]: 26.608496995388638\n",
      "Error in Lp from fit [Angstroms], 95% CL : 2.4102456756897648\n",
      "R2 score: 0.975758415728774\n",
      "9000\n",
      "12000\n",
      "Lp [Angstroms]: 33.52385397340196\n",
      "Error in Lp from fit [Angstroms], 95% CL : 1.4812299878020732\n",
      "R2 score: 0.9937208083198039\n",
      "12000\n",
      "15000\n",
      "Lp [Angstroms]: 36.49261517385925\n",
      "Error in Lp from fit [Angstroms], 95% CL : 2.1542562373126346\n",
      "R2 score: 0.9890486985949114\n",
      "15000\n",
      "18000\n",
      "Lp [Angstroms]: 29.377309849330263\n",
      "Error in Lp from fit [Angstroms], 95% CL : 1.4127268375882827\n",
      "R2 score: 0.9925195234255703\n"
     ]
    }
   ],
   "source": [
    "# All the points give the best fits for N = 6 peg in water\n",
    "n8_blksplga_awmix , n8plga_lpawmix = bavg_pers_cnt(5, plga_n8awmix, n8_plga_awmix, lb_avg_pn6, 4, 3000 , 18000)"
   ]
  },
  {
   "cell_type": "code",
   "execution_count": 63,
   "metadata": {},
   "outputs": [
    {
     "data": {
      "text/plain": [
       "{'Avg Radius of gyration': array([7.81594126, 8.57635653, 9.19711751, 9.76933894, 8.66267636]),\n",
       " 'Avg persistence length': array([18.14370457, 26.608497  , 33.52385397, 36.49261517, 29.37730985])}"
      ]
     },
     "execution_count": 63,
     "metadata": {},
     "output_type": "execute_result"
    }
   ],
   "source": [
    "n8_blksplga_awmix"
   ]
  },
  {
   "cell_type": "code",
   "execution_count": 64,
   "metadata": {},
   "outputs": [
    {
     "data": {
      "text/plain": [
       "array([[ 1.81437046e+01,  2.66084970e+01,  3.35238540e+01,\n",
       "         3.64926152e+01,  2.93773098e+01],\n",
       "       [ 2.98461663e+00,  2.41024568e+00,  1.48122999e+00,\n",
       "         2.15425624e+00,  1.41272684e+00],\n",
       "       [-5.51155359e-02, -3.75819799e-02, -2.98295059e-02,\n",
       "        -2.74028045e-02, -3.40398765e-02],\n",
       "       [ 1.19990775e-02,  1.69167083e-03,  2.53573486e-04,\n",
       "         3.81987700e-04,  3.91149614e-04]])"
      ]
     },
     "execution_count": 64,
     "metadata": {},
     "output_type": "execute_result"
    }
   ],
   "source": [
    "n8plga_lpawmix"
   ]
  },
  {
   "cell_type": "code",
   "execution_count": 65,
   "metadata": {},
   "outputs": [
    {
     "data": {
      "text/plain": [
       "array([-0.05511554, -0.03758198, -0.02982951, -0.0274028 , -0.03403988])"
      ]
     },
     "execution_count": 65,
     "metadata": {},
     "output_type": "execute_result"
    }
   ],
   "source": [
    "n8plga_lpawmix[2]"
   ]
  },
  {
   "cell_type": "code",
   "execution_count": 66,
   "metadata": {},
   "outputs": [
    {
     "data": {
      "text/plain": [
       "0.0029434918173598464"
      ]
     },
     "execution_count": 66,
     "metadata": {},
     "output_type": "execute_result"
    }
   ],
   "source": [
    "np.mean(n8plga_lpawmix[3])"
   ]
  },
  {
   "cell_type": "code",
   "execution_count": 67,
   "metadata": {},
   "outputs": [
    {
     "data": {
      "text/plain": [
       "array([ 0.        ,  5.81312098, 11.62624196, 17.43936293, 23.25248391,\n",
       "       29.06560489, 34.87872587])"
      ]
     },
     "execution_count": 67,
     "metadata": {},
     "output_type": "execute_result"
    }
   ],
   "source": [
    "blen_n8awmix"
   ]
  },
  {
   "cell_type": "code",
   "execution_count": 68,
   "metadata": {},
   "outputs": [],
   "source": [
    "gg_n8plga_awmix = line_fit(np.mean(n8plga_lpawmix[2]),blen_n8awmix)"
   ]
  },
  {
   "cell_type": "code",
   "execution_count": 69,
   "metadata": {},
   "outputs": [],
   "source": [
    "gg_n6plga_n8awmix = line_fit(np.mean(n6plga_lpawmix[2]),blen_n8awmix)"
   ]
  },
  {
   "cell_type": "code",
   "execution_count": 70,
   "metadata": {},
   "outputs": [
    {
     "data": {
      "text/plain": [
       "array([-0.        , -0.21388763, -0.42777526, -0.64166288, -0.85555051,\n",
       "       -1.06943814, -1.28332577])"
      ]
     },
     "execution_count": 70,
     "metadata": {},
     "output_type": "execute_result"
    }
   ],
   "source": [
    "gg_n8plga_awmix"
   ]
  },
  {
   "cell_type": "markdown",
   "metadata": {},
   "source": [
    "### Block averaged Radius of gyration and persistence length, N = 8 PLGA/0.69 mol acetone/water system"
   ]
  },
  {
   "cell_type": "code",
   "execution_count": 71,
   "metadata": {},
   "outputs": [
    {
     "data": {
      "text/plain": [
       "28.829196113142256"
      ]
     },
     "execution_count": 71,
     "metadata": {},
     "output_type": "execute_result"
    }
   ],
   "source": [
    "np.mean(n8_blksplga_awmix[\"Avg persistence length\"])"
   ]
  },
  {
   "cell_type": "code",
   "execution_count": 72,
   "metadata": {},
   "outputs": [
    {
     "data": {
      "text/plain": [
       "6.327392303362804"
      ]
     },
     "execution_count": 72,
     "metadata": {},
     "output_type": "execute_result"
    }
   ],
   "source": [
    "np.std(n8_blksplga_awmix[\"Avg persistence length\"])"
   ]
  },
  {
   "cell_type": "code",
   "execution_count": 73,
   "metadata": {},
   "outputs": [
    {
     "data": {
      "text/plain": [
       "8.804286119013275"
      ]
     },
     "execution_count": 73,
     "metadata": {},
     "output_type": "execute_result"
    }
   ],
   "source": [
    "np.mean(n8_blksplga_awmix[\"Avg Radius of gyration\"])"
   ]
  },
  {
   "cell_type": "code",
   "execution_count": 74,
   "metadata": {},
   "outputs": [
    {
     "data": {
      "text/plain": [
       "0.6533719045739719"
      ]
     },
     "execution_count": 74,
     "metadata": {},
     "output_type": "execute_result"
    }
   ],
   "source": [
    "np.std(n8_blksplga_awmix[\"Avg Radius of gyration\"])"
   ]
  },
  {
   "cell_type": "code",
   "execution_count": 75,
   "metadata": {},
   "outputs": [
    {
     "data": {
      "text/plain": [
       "Text(0.5, -6.54, '$N_{PLGA}$ = 8: $L_{p}$ = 28.8 $\\\\AA$ ± 6.33 $\\\\AA$')"
      ]
     },
     "execution_count": 75,
     "metadata": {},
     "output_type": "execute_result"
    },
    {
     "data": {
      "image/png": "[encoded data removed]",
      "text/plain": [
       "<Figure size 504x504 with 1 Axes>"
      ]
     },
     "metadata": {
      "needs_background": "light"
     },
     "output_type": "display_data"
    }
   ],
   "source": [
    "plt.figure(figsize=(7,7))\n",
    "plt.errorbar(blen_awmix, np.log(cor_n6plga_awmix[0]), yerr=mk_n6p_awmix, color='#CCBE9F', linestyle=\"None\",marker='o',\n",
    "     capsize=5, capthick=1, ecolor='black')\n",
    "plt.errorbar(blen_n8awmix, np.log(cor_n8plga_awmix[0]), yerr=mk_n8p_awmix, color='#601A4A', linestyle=\"None\",marker='o',\n",
    "     capsize=5, capthick=1, ecolor='black')\n",
    "plt.plot(blen_n8awmix, gg_n6plga_n8awmix, color='#CCBE9F')\n",
    "plt.plot(blen_n8awmix, gg_n8plga_awmix, color='#601A4A')\n",
    "plt.title(r'Ensemble Averaged ln(Cosine $\\theta$) in 0.69 a/w mix', fontsize=15, y=1.01)\n",
    "plt.xlabel(r'Bond Length', fontsize=15)\n",
    "plt.ylabel(r'ln$\\left< Cos(\\theta)\\right >$', fontsize=15)\n",
    "plt.ylim(-7,1)\n",
    "plt.xlim(0,165)\n",
    "font = font_manager.FontProperties(family='Arial', style='normal', size='14')\n",
    "#plt.legend([r'$N_{PEG}$ = 6: $L_{p}$ = 10.7 $\\AA$ ± 1.62 $\\AA$'], loc=3, frameon=0, fontsize=14, prop=font)\n",
    "plt.tick_params(labelsize=14)\n",
    "plt.text(0.5, -6.92,r'$N_{PLGA}$ = 6: $L_{p}$ = 33.1 $\\AA$ ± 7.19 $\\AA$', fontsize=15, color='#CCBE9F')\n",
    "plt.text(0.5, -6.54,r'$N_{PLGA}$ = 8: $L_{p}$ = 28.8 $\\AA$ ± 6.33 $\\AA$', fontsize=15, color='#601A4A')"
   ]
  },
  {
   "cell_type": "code",
   "execution_count": 76,
   "metadata": {},
   "outputs": [
    {
     "data": {
      "text/html": [
       "<div>\n",
       "<style scoped>\n",
       "    .dataframe tbody tr th:only-of-type {\n",
       "        vertical-align: middle;\n",
       "    }\n",
       "\n",
       "    .dataframe tbody tr th {\n",
       "        vertical-align: top;\n",
       "    }\n",
       "\n",
       "    .dataframe thead th {\n",
       "        text-align: right;\n",
       "    }\n",
       "</style>\n",
       "<table border=\"1\" class=\"dataframe\">\n",
       "  <thead>\n",
       "    <tr style=\"text-align: right;\">\n",
       "      <th></th>\n",
       "      <th>$R_{g}$ [Angstrom] N = 6 PLGA in 0.69 a/w mix</th>\n",
       "      <th>$R_{g}$ [Angstrom] N = 8 PLGA in 0.69 a/w mix</th>\n",
       "    </tr>\n",
       "  </thead>\n",
       "  <tbody>\n",
       "    <tr>\n",
       "      <td>0</td>\n",
       "      <td>7.414166</td>\n",
       "      <td>7.815941</td>\n",
       "    </tr>\n",
       "    <tr>\n",
       "      <td>1</td>\n",
       "      <td>7.660967</td>\n",
       "      <td>8.576357</td>\n",
       "    </tr>\n",
       "    <tr>\n",
       "      <td>2</td>\n",
       "      <td>7.277628</td>\n",
       "      <td>9.197118</td>\n",
       "    </tr>\n",
       "    <tr>\n",
       "      <td>3</td>\n",
       "      <td>7.017058</td>\n",
       "      <td>9.769339</td>\n",
       "    </tr>\n",
       "    <tr>\n",
       "      <td>4</td>\n",
       "      <td>8.123287</td>\n",
       "      <td>8.662676</td>\n",
       "    </tr>\n",
       "  </tbody>\n",
       "</table>\n",
       "</div>"
      ],
      "text/plain": [
       "   $R_{g}$ [Angstrom] N = 6 PLGA in 0.69 a/w mix  \\\n",
       "0                                       7.414166   \n",
       "1                                       7.660967   \n",
       "2                                       7.277628   \n",
       "3                                       7.017058   \n",
       "4                                       8.123287   \n",
       "\n",
       "   $R_{g}$ [Angstrom] N = 8 PLGA in 0.69 a/w mix  \n",
       "0                                       7.815941  \n",
       "1                                       8.576357  \n",
       "2                                       9.197118  \n",
       "3                                       9.769339  \n",
       "4                                       8.662676  "
      ]
     },
     "execution_count": 76,
     "metadata": {},
     "output_type": "execute_result"
    }
   ],
   "source": [
    "rgplga_olig_awmix[r\"$R_{g}$ [Angstrom] N = 8 PLGA in 0.69 a/w mix\"] = n8_blksplga_awmix[\"Avg Radius of gyration\"]\n",
    "rgplga_olig_awmix"
   ]
  },
  {
   "cell_type": "code",
   "execution_count": 77,
   "metadata": {},
   "outputs": [
    {
     "data": {
      "text/html": [
       "<div>\n",
       "<style scoped>\n",
       "    .dataframe tbody tr th:only-of-type {\n",
       "        vertical-align: middle;\n",
       "    }\n",
       "\n",
       "    .dataframe tbody tr th {\n",
       "        vertical-align: top;\n",
       "    }\n",
       "\n",
       "    .dataframe thead th {\n",
       "        text-align: right;\n",
       "    }\n",
       "</style>\n",
       "<table border=\"1\" class=\"dataframe\">\n",
       "  <thead>\n",
       "    <tr style=\"text-align: right;\">\n",
       "      <th></th>\n",
       "      <th>$L_{p}$ [Angstrom] N = 6 PLGA in 0.69 a/w mix</th>\n",
       "      <th>$L_{p}$ [Angstrom] N = 8 PLGA in 0.69 a/w mix</th>\n",
       "    </tr>\n",
       "  </thead>\n",
       "  <tbody>\n",
       "    <tr>\n",
       "      <td>0</td>\n",
       "      <td>31.843280</td>\n",
       "      <td>18.143705</td>\n",
       "    </tr>\n",
       "    <tr>\n",
       "      <td>1</td>\n",
       "      <td>32.793833</td>\n",
       "      <td>26.608497</td>\n",
       "    </tr>\n",
       "    <tr>\n",
       "      <td>2</td>\n",
       "      <td>28.551544</td>\n",
       "      <td>33.523854</td>\n",
       "    </tr>\n",
       "    <tr>\n",
       "      <td>3</td>\n",
       "      <td>25.689959</td>\n",
       "      <td>36.492615</td>\n",
       "    </tr>\n",
       "    <tr>\n",
       "      <td>4</td>\n",
       "      <td>46.557976</td>\n",
       "      <td>29.377310</td>\n",
       "    </tr>\n",
       "  </tbody>\n",
       "</table>\n",
       "</div>"
      ],
      "text/plain": [
       "   $L_{p}$ [Angstrom] N = 6 PLGA in 0.69 a/w mix   \\\n",
       "0                                       31.843280   \n",
       "1                                       32.793833   \n",
       "2                                       28.551544   \n",
       "3                                       25.689959   \n",
       "4                                       46.557976   \n",
       "\n",
       "   $L_{p}$ [Angstrom] N = 8 PLGA in 0.69 a/w mix  \n",
       "0                                      18.143705  \n",
       "1                                      26.608497  \n",
       "2                                      33.523854  \n",
       "3                                      36.492615  \n",
       "4                                      29.377310  "
      ]
     },
     "execution_count": 77,
     "metadata": {},
     "output_type": "execute_result"
    }
   ],
   "source": [
    "pers_plgat_awmix[r\"$L_{p}$ [Angstrom] N = 8 PLGA in 0.69 a/w mix\"] = n8_blksplga_awmix[\"Avg persistence length\"]\n",
    "pers_plgat_awmix"
   ]
  },
  {
   "cell_type": "code",
   "execution_count": null,
   "metadata": {},
   "outputs": [],
   "source": []
  },
  {
   "cell_type": "markdown",
   "metadata": {},
   "source": [
    "### N = 10 PLGA/0.69 mol acetone/water system"
   ]
  },
  {
   "cell_type": "code",
   "execution_count": 78,
   "metadata": {},
   "outputs": [],
   "source": [
    "# For the right Rg calculation using MD Analysis, use trajactory without pbc \n",
    "n10_plga_awmix = mda.Universe(\"n10plga_awmix/n10plgaonly_awmix.pdb\", \"n10plga_awmix/noawmix_n10plga.xtc\")"
   ]
  },
  {
   "cell_type": "code",
   "execution_count": 79,
   "metadata": {},
   "outputs": [
    {
     "data": {
      "text/plain": [
       "<XTCReader n10plga_awmix/noawmix_n10plga.xtc with 18001 frames of 153 atoms>"
      ]
     },
     "execution_count": 79,
     "metadata": {},
     "output_type": "execute_result"
    }
   ],
   "source": [
    "n10_plga_awmix.trajectory"
   ]
  },
  {
   "cell_type": "code",
   "execution_count": 80,
   "metadata": {},
   "outputs": [
    {
     "data": {
      "text/plain": [
       "18001"
      ]
     },
     "execution_count": 80,
     "metadata": {},
     "output_type": "execute_result"
    }
   ],
   "source": [
    "len(n10_plga_awmix.trajectory)"
   ]
  },
  {
   "cell_type": "code",
   "execution_count": 81,
   "metadata": {},
   "outputs": [],
   "source": [
    "#Select the polymer heavy atoms \n",
    "plga_n10awmix = n10_plga_awmix.select_atoms(\"resname sPLG PLG tPLG and not type H\")"
   ]
  },
  {
   "cell_type": "code",
   "execution_count": 82,
   "metadata": {},
   "outputs": [
    {
     "data": {
      "text/plain": [
       "array([[ 1.        ,  0.91444136,  0.8992429 ,  0.80897815,  0.79537051,\n",
       "         0.68667933,  0.718151  ,  0.6078133 ,  0.79288135],\n",
       "       [ 0.        ,  1.        ,  2.        ,  3.        ,  4.        ,\n",
       "         5.        ,  6.        ,  7.        ,  8.        ],\n",
       "       [ 0.        , 23.87348321, 25.94127228, 36.00378668, 37.30973511,\n",
       "        46.63217978, 44.09796656, 52.56844219, 37.54440073]])"
      ]
     },
     "execution_count": 82,
     "metadata": {},
     "output_type": "execute_result"
    }
   ],
   "source": [
    "crv_n10plga_awmix = pers_length(plga_n10awmix,10)\n",
    "crv_n10plga_awmix"
   ]
  },
  {
   "cell_type": "code",
   "execution_count": 83,
   "metadata": {},
   "outputs": [],
   "source": [
    "com_bond_n10awmix = np.zeros(shape=(1,18000))\n",
    "count = 0\n",
    "for ts in n10_plga_awmix.trajectory[0:18000]:\n",
    "    n10_mon1_awmix = n10_plga_awmix.select_atoms(\"resid 1\")\n",
    "    n10_mon2_awmix = n10_plga_awmix.select_atoms(\"resid 2\")\n",
    "    oo_len = mda.analysis.distances.distance_array(n10_mon1_awmix.center_of_mass(), n10_mon2_awmix.center_of_mass(), \n",
    "                                                   box=n10_plga_awmix.trajectory.ts.dimensions)\n",
    "    com_bond_n10awmix[0, count] = oo_len\n",
    "    count += 1\n",
    "    "
   ]
  },
  {
   "cell_type": "code",
   "execution_count": 84,
   "metadata": {},
   "outputs": [
    {
     "data": {
      "text/plain": [
       "array([[6.11350841, 5.92253141, 5.88769369, ..., 6.64941671, 6.24665586,\n",
       "        6.17255656]])"
      ]
     },
     "execution_count": 84,
     "metadata": {},
     "output_type": "execute_result"
    }
   ],
   "source": [
    "com_bond"
   ]
  },
  {
   "cell_type": "code",
   "execution_count": 85,
   "metadata": {},
   "outputs": [
    {
     "data": {
      "text/plain": [
       "0.7160857118225773"
      ]
     },
     "execution_count": 85,
     "metadata": {},
     "output_type": "execute_result"
    }
   ],
   "source": [
    "np.std(com_bond)"
   ]
  },
  {
   "cell_type": "code",
   "execution_count": 86,
   "metadata": {},
   "outputs": [
    {
     "data": {
      "text/plain": [
       "5.81312097809652"
      ]
     },
     "execution_count": 86,
     "metadata": {},
     "output_type": "execute_result"
    }
   ],
   "source": [
    "lb_avg_pn6 = np.mean(com_bond)\n",
    "lb_avg_pn6"
   ]
  },
  {
   "cell_type": "code",
   "execution_count": 87,
   "metadata": {},
   "outputs": [
    {
     "data": {
      "text/plain": [
       "5.735376465072906"
      ]
     },
     "execution_count": 87,
     "metadata": {},
     "output_type": "execute_result"
    }
   ],
   "source": [
    "np.mean(com_bond_n10awmix)"
   ]
  },
  {
   "cell_type": "code",
   "execution_count": 88,
   "metadata": {},
   "outputs": [
    {
     "data": {
      "text/plain": [
       "0.7095014921901286"
      ]
     },
     "execution_count": 88,
     "metadata": {},
     "output_type": "execute_result"
    }
   ],
   "source": [
    "np.std(com_bond_n10awmix)"
   ]
  },
  {
   "cell_type": "markdown",
   "metadata": {},
   "source": [
    "### Radius of Gyration vs. time N = 10 PLGA/0.69 mol acetone/water system"
   ]
  },
  {
   "cell_type": "code",
   "execution_count": 89,
   "metadata": {},
   "outputs": [],
   "source": [
    "n10plga_rgens_awmix, cor_n10plga_awmix, N10plga_cos_awmix, rgawmix_n10plga = get_rg_pers_poly(plga_n10awmix,\n",
    "                                                                                              n10_plga_awmix, 0, 18000)"
   ]
  },
  {
   "cell_type": "code",
   "execution_count": 90,
   "metadata": {},
   "outputs": [
    {
     "data": {
      "text/plain": [
       "(18000,)"
      ]
     },
     "execution_count": 90,
     "metadata": {},
     "output_type": "execute_result"
    }
   ],
   "source": [
    "n10plga_rgens_awmix[0].shape"
   ]
  },
  {
   "cell_type": "code",
   "execution_count": 91,
   "metadata": {},
   "outputs": [
    {
     "data": {
      "text/plain": [
       "array([0., 1., 2., 3., 4., 5., 6., 7., 8.])"
      ]
     },
     "execution_count": 91,
     "metadata": {},
     "output_type": "execute_result"
    }
   ],
   "source": [
    "cor_n10plga_awmix[3]"
   ]
  },
  {
   "cell_type": "code",
   "execution_count": 92,
   "metadata": {},
   "outputs": [
    {
     "data": {
      "text/plain": [
       "array([[ 1.        ,  1.        ,  1.        , ...,  1.        ,\n",
       "         1.        ,  1.        ],\n",
       "       [ 0.91444136,  0.91643177,  0.90181651, ...,  0.88579193,\n",
       "         0.87473152,  0.86801401],\n",
       "       [ 0.8992429 ,  0.88328607,  0.83933544, ...,  0.6955911 ,\n",
       "         0.6684385 ,  0.67472731],\n",
       "       ...,\n",
       "       [ 0.718151  ,  0.68734401,  0.60497106, ...,  0.38428703,\n",
       "         0.35420479,  0.33635766],\n",
       "       [ 0.6078133 ,  0.67236443,  0.68663749, ...,  0.0764801 ,\n",
       "         0.05052257, -0.00707002],\n",
       "       [ 0.79288135,  0.75748722,  0.87577516, ..., -0.66977966,\n",
       "        -0.6586139 , -0.65861945]])"
      ]
     },
     "execution_count": 92,
     "metadata": {},
     "output_type": "execute_result"
    }
   ],
   "source": [
    "N10plga_cos_awmix"
   ]
  },
  {
   "cell_type": "code",
   "execution_count": 93,
   "metadata": {},
   "outputs": [
    {
     "data": {
      "text/plain": [
       "9.516664037274733"
      ]
     },
     "execution_count": 93,
     "metadata": {},
     "output_type": "execute_result"
    }
   ],
   "source": [
    "rgawmix_n10plga"
   ]
  },
  {
   "cell_type": "code",
   "execution_count": 94,
   "metadata": {},
   "outputs": [
    {
     "data": {
      "text/plain": [
       "2.43645537844452"
      ]
     },
     "execution_count": 94,
     "metadata": {},
     "output_type": "execute_result"
    }
   ],
   "source": [
    "np.std(n10plga_rgens_awmix)"
   ]
  },
  {
   "cell_type": "code",
   "execution_count": 95,
   "metadata": {},
   "outputs": [
    {
     "data": {
      "text/plain": [
       "(0.2, 2)"
      ]
     },
     "execution_count": 95,
     "metadata": {},
     "output_type": "execute_result"
    },
    {
     "data": {
      "image/png": "[encoded data removed]",
      "text/plain": [
       "<Figure size 504x504 with 1 Axes>"
      ]
     },
     "metadata": {
      "needs_background": "light"
     },
     "output_type": "display_data"
    }
   ],
   "source": [
    "plt.figure(figsize=(7,7))\n",
    "plt.title(r'PLGA Radius of Gyration', fontsize=18, y=1.01)\n",
    "plt.xlabel(r'Time [ns]', fontsize=15)\n",
    "plt.ylabel(r'$R_{g}$ [nm]', fontsize=15)\n",
    "plt.plot(trj_len/100, n6plga_rgens_awmix[0]/10,linewidth=2, color='#CCBE9F')\n",
    "plt.plot(trj_len/100, n8plga_rgens_awmix[0]/10,linewidth=2, color='#601A4A')\n",
    "plt.plot(trj_len/100, n10plga_rgens_awmix[0]/10,linewidth=2, color='#2B6322')\n",
    "plt.tick_params(labelsize=14)\n",
    "plt.legend(['N = 6 in 0.69 a/w mix','N = 8 in 0.69 a/w mix','N = 10 in 0.69 a/w mix'], frameon=False, fontsize=14)\n",
    "#plt.text(127, 0.96,r'N = 6 in water', fontsize=18, color='#1F2E69', family='Arial')\n",
    "plt.xlim(0,180)\n",
    "plt.ylim(0.2,2)"
   ]
  },
  {
   "cell_type": "markdown",
   "metadata": {},
   "source": [
    "#### Correlation values at each arc length for the whole 180 ns trajectory, N = 10 PLGA/0.69 mol acetone/water system"
   ]
  },
  {
   "cell_type": "code",
   "execution_count": 96,
   "metadata": {},
   "outputs": [
    {
     "data": {
      "text/plain": [
       "array([ 0.        ,  5.81312098, 11.62624196, 17.43936293, 23.25248391,\n",
       "       29.06560489, 34.87872587, 40.69184685, 46.50496782])"
      ]
     },
     "execution_count": 96,
     "metadata": {},
     "output_type": "execute_result"
    }
   ],
   "source": [
    "# x values\n",
    "blen_n10awmix = cor_n10plga_awmix[3]*lb_avg_pn6\n",
    "#nt_tt[0] = 0\n",
    "blen_n10awmix"
   ]
  },
  {
   "cell_type": "code",
   "execution_count": 97,
   "metadata": {},
   "outputs": [
    {
     "data": {
      "text/plain": [
       "array([4.34108403e-17, 5.98295679e-02, 2.01585348e-01, 4.20248937e-01,\n",
       "       7.13892852e-01, 1.00625701e+00, 1.28056391e+00, 1.71932036e+00,\n",
       "       2.20984083e+00])"
      ]
     },
     "execution_count": 97,
     "metadata": {},
     "output_type": "execute_result"
    }
   ],
   "source": [
    "mk_n10p_awmix = cor_n10plga_awmix[1]/cor_n10plga_awmix[0]\n",
    "mk_n10p_awmix"
   ]
  },
  {
   "cell_type": "code",
   "execution_count": 98,
   "metadata": {},
   "outputs": [
    {
     "data": {
      "text/plain": [
       "<ErrorbarContainer object of 3 artists>"
      ]
     },
     "execution_count": 98,
     "metadata": {},
     "output_type": "execute_result"
    },
    {
     "data": {
      "image/png": "[encoded data removed]",
      "text/plain": [
       "<Figure size 504x504 with 1 Axes>"
      ]
     },
     "metadata": {
      "needs_background": "light"
     },
     "output_type": "display_data"
    }
   ],
   "source": [
    "plt.figure(figsize=(7,7))\n",
    "plt.errorbar(blen_awmix, np.log(cor_n6plga_awmix[0]), yerr=mk_n6p_awmix, color='#CCBE9F', linestyle=\"None\",marker='o',\n",
    "     capsize=5, capthick=1, ecolor='black')\n",
    "plt.errorbar(blen_n8awmix, np.log(cor_n8plga_awmix[0]), yerr=mk_n8p_awmix, color='#601A4A', linestyle=\"None\",marker='o',\n",
    "     capsize=5, capthick=1, ecolor='black')\n",
    "plt.errorbar(blen_n10awmix, np.log(cor_n10plga_awmix[0]), yerr=mk_n10p_awmix, color='#2B6322', linestyle=\"None\",marker='o',\n",
    "     capsize=5, capthick=1, ecolor='black')"
   ]
  },
  {
   "cell_type": "code",
   "execution_count": 99,
   "metadata": {},
   "outputs": [
    {
     "name": "stdout",
     "output_type": "stream",
     "text": [
      "3000\n",
      "6000\n",
      "Lp [Angstroms]: 18.415307212971733\n",
      "Error in Lp from fit [Angstroms], 95% CL : 1.2835262626510573\n",
      "R2 score: 0.9748625374078841\n",
      "6000\n",
      "9000\n",
      "Lp [Angstroms]: 16.321849217987168\n",
      "Error in Lp from fit [Angstroms], 95% CL : 1.7031792227275502\n",
      "R2 score: 0.9482587073965846\n",
      "9000\n",
      "12000\n",
      "Lp [Angstroms]: 29.365547786417782\n",
      "Error in Lp from fit [Angstroms], 95% CL : 2.1327237471196385\n",
      "R2 score: 0.972534423182722\n",
      "12000\n",
      "15000\n",
      "Lp [Angstroms]: 23.457534962906287\n",
      "Error in Lp from fit [Angstroms], 95% CL : 1.71599843524739\n",
      "R2 score: 0.972368483478434\n",
      "15000\n",
      "18000\n",
      "Lp [Angstroms]: 32.1760438555503\n",
      "Error in Lp from fit [Angstroms], 95% CL : 2.9283526554305803\n",
      "R2 score: 0.9464648954871866\n"
     ]
    }
   ],
   "source": [
    "# All the points give the best fits for N = 6 peg in water\n",
    "n10_blksplga_awmix, n10plga_lpawmix = bavg_pers_cnt(5, plga_n10awmix, n10_plga_awmix, lb_avg_pn6, 5, 3000 , 18000)"
   ]
  },
  {
   "cell_type": "code",
   "execution_count": 100,
   "metadata": {},
   "outputs": [
    {
     "data": {
      "text/plain": [
       "{'Avg Radius of gyration': array([ 8.51791912,  8.26051643, 10.28855216,  9.5988038 ,  9.88656032]),\n",
       " 'Avg persistence length': array([18.41530721, 16.32184922, 29.36554779, 23.45753496, 32.17604386])}"
      ]
     },
     "execution_count": 100,
     "metadata": {},
     "output_type": "execute_result"
    }
   ],
   "source": [
    "n10_blksplga_awmix"
   ]
  },
  {
   "cell_type": "code",
   "execution_count": 101,
   "metadata": {},
   "outputs": [
    {
     "data": {
      "text/plain": [
       "array([[ 1.84153072e+01,  1.63218492e+01,  2.93655478e+01,\n",
       "         2.34575350e+01,  3.21760439e+01],\n",
       "       [ 1.28352626e+00,  1.70317922e+00,  2.13272375e+00,\n",
       "         1.71599844e+00,  2.92835266e+00],\n",
       "       [-5.43026510e-02, -6.12675676e-02, -3.40535108e-02,\n",
       "        -4.26302253e-02, -3.10790228e-02],\n",
       "       [ 6.02844660e-03,  1.72010528e-02,  2.57411862e-03,\n",
       "         4.09275793e-03,  3.36688239e-03]])"
      ]
     },
     "execution_count": 101,
     "metadata": {},
     "output_type": "execute_result"
    }
   ],
   "source": [
    "n10plga_lpawmix"
   ]
  },
  {
   "cell_type": "code",
   "execution_count": 102,
   "metadata": {},
   "outputs": [
    {
     "data": {
      "text/plain": [
       "array([-0.05430265, -0.06126757, -0.03405351, -0.04263023, -0.03107902])"
      ]
     },
     "execution_count": 102,
     "metadata": {},
     "output_type": "execute_result"
    }
   ],
   "source": [
    "n10plga_lpawmix[2]"
   ]
  },
  {
   "cell_type": "code",
   "execution_count": 217,
   "metadata": {},
   "outputs": [
    {
     "data": {
      "text/plain": [
       "-0.04466659549040999"
      ]
     },
     "execution_count": 217,
     "metadata": {},
     "output_type": "execute_result"
    }
   ],
   "source": [
    "np.mean(n10plga_lpawmix[2])"
   ]
  },
  {
   "cell_type": "code",
   "execution_count": 103,
   "metadata": {},
   "outputs": [
    {
     "data": {
      "text/plain": [
       "0.006652651661083383"
      ]
     },
     "execution_count": 103,
     "metadata": {},
     "output_type": "execute_result"
    }
   ],
   "source": [
    "np.mean(n10plga_lpawmix[3])"
   ]
  },
  {
   "cell_type": "code",
   "execution_count": 104,
   "metadata": {},
   "outputs": [
    {
     "data": {
      "text/plain": [
       "array([ 0.        ,  5.81312098, 11.62624196, 17.43936293, 23.25248391,\n",
       "       29.06560489, 34.87872587, 40.69184685, 46.50496782])"
      ]
     },
     "execution_count": 104,
     "metadata": {},
     "output_type": "execute_result"
    }
   ],
   "source": [
    "blen_n10awmix"
   ]
  },
  {
   "cell_type": "code",
   "execution_count": 105,
   "metadata": {},
   "outputs": [],
   "source": [
    "gg_n10plga_awmix = line_fit(np.mean(n10plga_lpawmix[2]),blen_n10awmix)"
   ]
  },
  {
   "cell_type": "code",
   "execution_count": 106,
   "metadata": {},
   "outputs": [],
   "source": [
    "gg_n6plga_n10awmix = line_fit(np.mean(n6plga_lpawmix[2]),blen_n10awmix)"
   ]
  },
  {
   "cell_type": "code",
   "execution_count": 107,
   "metadata": {},
   "outputs": [],
   "source": [
    "gg_n8plga_n10awmix = line_fit(np.mean(n8plga_lpawmix[2]),blen_n10awmix)"
   ]
  },
  {
   "cell_type": "code",
   "execution_count": 108,
   "metadata": {},
   "outputs": [
    {
     "data": {
      "text/plain": [
       "array([-0.        , -0.25965232, -0.51930465, -0.77895697, -1.03860929,\n",
       "       -1.29826162, -1.55791394, -1.81756626, -2.07721859])"
      ]
     },
     "execution_count": 108,
     "metadata": {},
     "output_type": "execute_result"
    }
   ],
   "source": [
    "gg_n10plga_awmix"
   ]
  },
  {
   "cell_type": "markdown",
   "metadata": {},
   "source": [
    "### Block averaged Radius of gyration and persistence length, N = 10 PLGA/0.69 mol acetone/water system"
   ]
  },
  {
   "cell_type": "code",
   "execution_count": 109,
   "metadata": {},
   "outputs": [
    {
     "data": {
      "text/plain": [
       "23.94725660716665"
      ]
     },
     "execution_count": 109,
     "metadata": {},
     "output_type": "execute_result"
    }
   ],
   "source": [
    "np.mean(n10_blksplga_awmix[\"Avg persistence length\"])"
   ]
  },
  {
   "cell_type": "code",
   "execution_count": 110,
   "metadata": {},
   "outputs": [
    {
     "data": {
      "text/plain": [
       "6.100163081788151"
      ]
     },
     "execution_count": 110,
     "metadata": {},
     "output_type": "execute_result"
    }
   ],
   "source": [
    "np.std(n10_blksplga_awmix[\"Avg persistence length\"])"
   ]
  },
  {
   "cell_type": "code",
   "execution_count": 111,
   "metadata": {},
   "outputs": [
    {
     "data": {
      "text/plain": [
       "9.310470363658393"
      ]
     },
     "execution_count": 111,
     "metadata": {},
     "output_type": "execute_result"
    }
   ],
   "source": [
    "np.mean(n10_blksplga_awmix[\"Avg Radius of gyration\"])"
   ]
  },
  {
   "cell_type": "code",
   "execution_count": 112,
   "metadata": {},
   "outputs": [
    {
     "data": {
      "text/plain": [
       "0.7876802070768795"
      ]
     },
     "execution_count": 112,
     "metadata": {},
     "output_type": "execute_result"
    }
   ],
   "source": [
    "np.std(n10_blksplga_awmix[\"Avg Radius of gyration\"])"
   ]
  },
  {
   "cell_type": "code",
   "execution_count": 113,
   "metadata": {},
   "outputs": [
    {
     "data": {
      "text/plain": [
       "Text(0.5, -6.14, '$N_{PLGA}$ = 10: $L_{p}$ = 23.9 $\\\\AA$ ± 6.10 $\\\\AA$')"
      ]
     },
     "execution_count": 113,
     "metadata": {},
     "output_type": "execute_result"
    },
    {
     "data": {
      "image/png": "[encoded data removed]",
      "text/plain": [
       "<Figure size 504x504 with 1 Axes>"
      ]
     },
     "metadata": {
      "needs_background": "light"
     },
     "output_type": "display_data"
    }
   ],
   "source": [
    "plt.figure(figsize=(7,7))\n",
    "plt.errorbar(blen_awmix, np.log(cor_n6plga_awmix[0]), yerr=mk_n6p_awmix, color='#CCBE9F', linestyle=\"None\",marker='o',\n",
    "     capsize=5, capthick=1, ecolor='black')\n",
    "plt.errorbar(blen_n8awmix, np.log(cor_n8plga_awmix[0]), yerr=mk_n8p_awmix, color='#601A4A', linestyle=\"None\",marker='o',\n",
    "     capsize=5, capthick=1, ecolor='black')\n",
    "plt.errorbar(blen_n10awmix, np.log(cor_n10plga_awmix[0]), yerr=mk_n10p_awmix, color='#2B6322', linestyle=\"None\",marker='o',\n",
    "     capsize=5, capthick=1, ecolor='black')\n",
    "plt.plot(blen_n10awmix, gg_n6plga_n10awmix, color='#CCBE9F')\n",
    "plt.plot(blen_n10awmix, gg_n8plga_n10awmix, color='#601A4A')\n",
    "plt.plot(blen_n10awmix, gg_n10plga_awmix, color='#2B6322')\n",
    "plt.title(r'Ensemble Averaged ln(Cosine $\\theta$) in 0.69 a/w mix', fontsize=15, y=1.01)\n",
    "plt.xlabel(r'Bond Length', fontsize=15)\n",
    "plt.ylabel(r'ln$\\left< Cos(\\theta)\\right >$', fontsize=15)\n",
    "plt.ylim(-7,1)\n",
    "plt.xlim(0,165)\n",
    "font = font_manager.FontProperties(family='Arial', style='normal', size='14')\n",
    "#plt.legend([r'$N_{PEG}$ = 6: $L_{p}$ = 10.7 $\\AA$ ± 1.62 $\\AA$'], loc=3, frameon=0, fontsize=14, prop=font)\n",
    "plt.tick_params(labelsize=14)\n",
    "plt.text(0.5, -6.92,r'$N_{PLGA}$ = 6: $L_{p}$ = 33.1 $\\AA$ ± 7.19 $\\AA$', fontsize=15, color='#CCBE9F')\n",
    "plt.text(0.5, -6.54,r'$N_{PLGA}$ = 8: $L_{p}$ = 28.8 $\\AA$ ± 6.33 $\\AA$', fontsize=15, color='#601A4A')\n",
    "plt.text(0.5, -6.14,r'$N_{PLGA}$ = 10: $L_{p}$ = 23.9 $\\AA$ ± 6.10 $\\AA$', fontsize=15, color='#2B6322')"
   ]
  },
  {
   "cell_type": "code",
   "execution_count": 114,
   "metadata": {},
   "outputs": [
    {
     "data": {
      "text/html": [
       "<div>\n",
       "<style scoped>\n",
       "    .dataframe tbody tr th:only-of-type {\n",
       "        vertical-align: middle;\n",
       "    }\n",
       "\n",
       "    .dataframe tbody tr th {\n",
       "        vertical-align: top;\n",
       "    }\n",
       "\n",
       "    .dataframe thead th {\n",
       "        text-align: right;\n",
       "    }\n",
       "</style>\n",
       "<table border=\"1\" class=\"dataframe\">\n",
       "  <thead>\n",
       "    <tr style=\"text-align: right;\">\n",
       "      <th></th>\n",
       "      <th>$R_{g}$ [Angstrom] N = 6 PLGA in 0.69 a/w mix</th>\n",
       "      <th>$R_{g}$ [Angstrom] N = 8 PLGA in 0.69 a/w mix</th>\n",
       "      <th>$R_{g}$ [Angstrom] N = 10 PLGA in 0.69 a/w mix</th>\n",
       "    </tr>\n",
       "  </thead>\n",
       "  <tbody>\n",
       "    <tr>\n",
       "      <td>0</td>\n",
       "      <td>7.414166</td>\n",
       "      <td>7.815941</td>\n",
       "      <td>8.517919</td>\n",
       "    </tr>\n",
       "    <tr>\n",
       "      <td>1</td>\n",
       "      <td>7.660967</td>\n",
       "      <td>8.576357</td>\n",
       "      <td>8.260516</td>\n",
       "    </tr>\n",
       "    <tr>\n",
       "      <td>2</td>\n",
       "      <td>7.277628</td>\n",
       "      <td>9.197118</td>\n",
       "      <td>10.288552</td>\n",
       "    </tr>\n",
       "    <tr>\n",
       "      <td>3</td>\n",
       "      <td>7.017058</td>\n",
       "      <td>9.769339</td>\n",
       "      <td>9.598804</td>\n",
       "    </tr>\n",
       "    <tr>\n",
       "      <td>4</td>\n",
       "      <td>8.123287</td>\n",
       "      <td>8.662676</td>\n",
       "      <td>9.886560</td>\n",
       "    </tr>\n",
       "  </tbody>\n",
       "</table>\n",
       "</div>"
      ],
      "text/plain": [
       "   $R_{g}$ [Angstrom] N = 6 PLGA in 0.69 a/w mix  \\\n",
       "0                                       7.414166   \n",
       "1                                       7.660967   \n",
       "2                                       7.277628   \n",
       "3                                       7.017058   \n",
       "4                                       8.123287   \n",
       "\n",
       "   $R_{g}$ [Angstrom] N = 8 PLGA in 0.69 a/w mix  \\\n",
       "0                                       7.815941   \n",
       "1                                       8.576357   \n",
       "2                                       9.197118   \n",
       "3                                       9.769339   \n",
       "4                                       8.662676   \n",
       "\n",
       "   $R_{g}$ [Angstrom] N = 10 PLGA in 0.69 a/w mix  \n",
       "0                                        8.517919  \n",
       "1                                        8.260516  \n",
       "2                                       10.288552  \n",
       "3                                        9.598804  \n",
       "4                                        9.886560  "
      ]
     },
     "execution_count": 114,
     "metadata": {},
     "output_type": "execute_result"
    }
   ],
   "source": [
    "rgplga_olig_awmix[r\"$R_{g}$ [Angstrom] N = 10 PLGA in 0.69 a/w mix\"] = n10_blksplga_awmix[\"Avg Radius of gyration\"]\n",
    "rgplga_olig_awmix"
   ]
  },
  {
   "cell_type": "code",
   "execution_count": 115,
   "metadata": {},
   "outputs": [
    {
     "data": {
      "text/html": [
       "<div>\n",
       "<style scoped>\n",
       "    .dataframe tbody tr th:only-of-type {\n",
       "        vertical-align: middle;\n",
       "    }\n",
       "\n",
       "    .dataframe tbody tr th {\n",
       "        vertical-align: top;\n",
       "    }\n",
       "\n",
       "    .dataframe thead th {\n",
       "        text-align: right;\n",
       "    }\n",
       "</style>\n",
       "<table border=\"1\" class=\"dataframe\">\n",
       "  <thead>\n",
       "    <tr style=\"text-align: right;\">\n",
       "      <th></th>\n",
       "      <th>$L_{p}$ [Angstrom] N = 6 PLGA in 0.69 a/w mix</th>\n",
       "      <th>$L_{p}$ [Angstrom] N = 8 PLGA in 0.69 a/w mix</th>\n",
       "      <th>$L_{p}$ [Angstrom] N = 10 PLGA in 0.69 a/w mix</th>\n",
       "    </tr>\n",
       "  </thead>\n",
       "  <tbody>\n",
       "    <tr>\n",
       "      <td>0</td>\n",
       "      <td>31.843280</td>\n",
       "      <td>18.143705</td>\n",
       "      <td>18.415307</td>\n",
       "    </tr>\n",
       "    <tr>\n",
       "      <td>1</td>\n",
       "      <td>32.793833</td>\n",
       "      <td>26.608497</td>\n",
       "      <td>16.321849</td>\n",
       "    </tr>\n",
       "    <tr>\n",
       "      <td>2</td>\n",
       "      <td>28.551544</td>\n",
       "      <td>33.523854</td>\n",
       "      <td>29.365548</td>\n",
       "    </tr>\n",
       "    <tr>\n",
       "      <td>3</td>\n",
       "      <td>25.689959</td>\n",
       "      <td>36.492615</td>\n",
       "      <td>23.457535</td>\n",
       "    </tr>\n",
       "    <tr>\n",
       "      <td>4</td>\n",
       "      <td>46.557976</td>\n",
       "      <td>29.377310</td>\n",
       "      <td>32.176044</td>\n",
       "    </tr>\n",
       "  </tbody>\n",
       "</table>\n",
       "</div>"
      ],
      "text/plain": [
       "   $L_{p}$ [Angstrom] N = 6 PLGA in 0.69 a/w mix   \\\n",
       "0                                       31.843280   \n",
       "1                                       32.793833   \n",
       "2                                       28.551544   \n",
       "3                                       25.689959   \n",
       "4                                       46.557976   \n",
       "\n",
       "   $L_{p}$ [Angstrom] N = 8 PLGA in 0.69 a/w mix  \\\n",
       "0                                      18.143705   \n",
       "1                                      26.608497   \n",
       "2                                      33.523854   \n",
       "3                                      36.492615   \n",
       "4                                      29.377310   \n",
       "\n",
       "   $L_{p}$ [Angstrom] N = 10 PLGA in 0.69 a/w mix  \n",
       "0                                       18.415307  \n",
       "1                                       16.321849  \n",
       "2                                       29.365548  \n",
       "3                                       23.457535  \n",
       "4                                       32.176044  "
      ]
     },
     "execution_count": 115,
     "metadata": {},
     "output_type": "execute_result"
    }
   ],
   "source": [
    "pers_plgat_awmix[r\"$L_{p}$ [Angstrom] N = 10 PLGA in 0.69 a/w mix\"] = n10_blksplga_awmix[\"Avg persistence length\"]\n",
    "pers_plgat_awmix"
   ]
  },
  {
   "cell_type": "code",
   "execution_count": null,
   "metadata": {},
   "outputs": [],
   "source": []
  },
  {
   "cell_type": "markdown",
   "metadata": {},
   "source": [
    "### N = 20 PLGA/0.69 mol acetone/water system"
   ]
  },
  {
   "cell_type": "code",
   "execution_count": 116,
   "metadata": {},
   "outputs": [],
   "source": [
    "# For the right Rg calculation using MD Analysis, use trajactory without pbc \n",
    "n20_plga_awmix = mda.Universe(\"n20plga_awmix/n20plgaonly_awmix.pdb\", \"n20plga_awmix/noawmix_n20plga.xtc\")"
   ]
  },
  {
   "cell_type": "code",
   "execution_count": 117,
   "metadata": {},
   "outputs": [
    {
     "data": {
      "text/plain": [
       "<XTCReader n20plga_awmix/noawmix_n20plga.xtc with 18001 frames of 303 atoms>"
      ]
     },
     "execution_count": 117,
     "metadata": {},
     "output_type": "execute_result"
    }
   ],
   "source": [
    "n20_plga_awmix.trajectory"
   ]
  },
  {
   "cell_type": "code",
   "execution_count": 118,
   "metadata": {},
   "outputs": [
    {
     "data": {
      "text/plain": [
       "18001"
      ]
     },
     "execution_count": 118,
     "metadata": {},
     "output_type": "execute_result"
    }
   ],
   "source": [
    "len(n20_plga_awmix.trajectory)"
   ]
  },
  {
   "cell_type": "code",
   "execution_count": 119,
   "metadata": {},
   "outputs": [],
   "source": [
    "#Select the polymer heavy atoms \n",
    "plga_n20awmix = n20_plga_awmix.select_atoms(\"resname sPLG PLG tPLG and not type H\")"
   ]
  },
  {
   "cell_type": "code",
   "execution_count": 120,
   "metadata": {},
   "outputs": [
    {
     "data": {
      "text/plain": [
       "array([[ 1.        ,  0.87010134,  0.71895222,  0.61264014,  0.64205624,\n",
       "         0.63860173,  0.62662734,  0.62311359,  0.67738618,  0.68702678,\n",
       "         0.67332796,  0.63767509,  0.58369175,  0.59979695,  0.77939777,\n",
       "         0.74776654,  0.80170164,  0.79500914,  0.93515744],\n",
       "       [ 0.        ,  1.        ,  2.        ,  3.        ,  4.        ,\n",
       "         5.        ,  6.        ,  7.        ,  8.        ,  9.        ,\n",
       "        10.        , 11.        , 12.        , 13.        , 14.        ,\n",
       "        15.        , 16.        , 17.        , 18.        ],\n",
       "       [ 0.        , 29.52958207, 44.03195848, 52.21935228, 50.05468036,\n",
       "        50.31236685, 51.19827001, 51.45613619, 47.36027388, 46.60478871,\n",
       "        47.675559  , 50.38132584, 54.289378  , 53.14464318, 38.79453091,\n",
       "        41.60272302, 36.70709477, 37.34388065, 20.74640459]])"
      ]
     },
     "execution_count": 120,
     "metadata": {},
     "output_type": "execute_result"
    }
   ],
   "source": [
    "crv_n20plga_awmix = pers_length(plga_n20awmix,20)\n",
    "crv_n20plga_awmix"
   ]
  },
  {
   "cell_type": "code",
   "execution_count": 121,
   "metadata": {},
   "outputs": [],
   "source": [
    "com_bond_n20awmix = np.zeros(shape=(1,18000))\n",
    "count = 0\n",
    "for ts in n20_plga_awmix.trajectory[0:18000]:\n",
    "    n20_mon1_awmix = n20_plga_awmix.select_atoms(\"resid 1\")\n",
    "    n20_mon2_awmix = n20_plga_awmix.select_atoms(\"resid 2\")\n",
    "    oo_len = mda.analysis.distances.distance_array(n20_mon1_awmix.center_of_mass(), n20_mon2_awmix.center_of_mass(), \n",
    "                                                   box=n20_plga_awmix.trajectory.ts.dimensions)\n",
    "    com_bond_n20awmix[0, count] = oo_len\n",
    "    count += 1\n",
    "    "
   ]
  },
  {
   "cell_type": "code",
   "execution_count": 122,
   "metadata": {},
   "outputs": [
    {
     "data": {
      "text/plain": [
       "array([[6.11350841, 5.92253141, 5.88769369, ..., 6.64941671, 6.24665586,\n",
       "        6.17255656]])"
      ]
     },
     "execution_count": 122,
     "metadata": {},
     "output_type": "execute_result"
    }
   ],
   "source": [
    "com_bond"
   ]
  },
  {
   "cell_type": "code",
   "execution_count": 123,
   "metadata": {},
   "outputs": [
    {
     "data": {
      "text/plain": [
       "0.7160857118225773"
      ]
     },
     "execution_count": 123,
     "metadata": {},
     "output_type": "execute_result"
    }
   ],
   "source": [
    "np.std(com_bond)"
   ]
  },
  {
   "cell_type": "code",
   "execution_count": 124,
   "metadata": {},
   "outputs": [
    {
     "data": {
      "text/plain": [
       "5.81312097809652"
      ]
     },
     "execution_count": 124,
     "metadata": {},
     "output_type": "execute_result"
    }
   ],
   "source": [
    "lb_avg_pn6 = np.mean(com_bond)\n",
    "lb_avg_pn6"
   ]
  },
  {
   "cell_type": "code",
   "execution_count": 125,
   "metadata": {},
   "outputs": [
    {
     "data": {
      "text/plain": [
       "5.772925385037166"
      ]
     },
     "execution_count": 125,
     "metadata": {},
     "output_type": "execute_result"
    }
   ],
   "source": [
    "np.mean(com_bond_n20awmix)"
   ]
  },
  {
   "cell_type": "code",
   "execution_count": 126,
   "metadata": {},
   "outputs": [
    {
     "data": {
      "text/plain": [
       "0.7076540197731143"
      ]
     },
     "execution_count": 126,
     "metadata": {},
     "output_type": "execute_result"
    }
   ],
   "source": [
    "np.std(com_bond_n20awmix)"
   ]
  },
  {
   "cell_type": "markdown",
   "metadata": {},
   "source": [
    "### Radius of Gyration vs. time N = 20 PLGA/0.69 mol acetone/water system"
   ]
  },
  {
   "cell_type": "code",
   "execution_count": 127,
   "metadata": {},
   "outputs": [],
   "source": [
    "n20plga_rgens_awmix, cor_n20plga_awmix, N20plga_cos_awmix, rgawmix_n20plga = get_rg_pers_poly(plga_n20awmix\n",
    "                                                                                              , n20_plga_awmix, 0, 18000)"
   ]
  },
  {
   "cell_type": "code",
   "execution_count": 128,
   "metadata": {},
   "outputs": [
    {
     "data": {
      "text/plain": [
       "(18000,)"
      ]
     },
     "execution_count": 128,
     "metadata": {},
     "output_type": "execute_result"
    }
   ],
   "source": [
    "n20plga_rgens_awmix[0].shape"
   ]
  },
  {
   "cell_type": "code",
   "execution_count": 129,
   "metadata": {},
   "outputs": [
    {
     "data": {
      "text/plain": [
       "array([ 0.,  1.,  2.,  3.,  4.,  5.,  6.,  7.,  8.,  9., 10., 11., 12.,\n",
       "       13., 14., 15., 16., 17., 18.])"
      ]
     },
     "execution_count": 129,
     "metadata": {},
     "output_type": "execute_result"
    }
   ],
   "source": [
    "cor_n20plga_awmix[3]"
   ]
  },
  {
   "cell_type": "code",
   "execution_count": 130,
   "metadata": {},
   "outputs": [
    {
     "data": {
      "text/plain": [
       "array([[ 1.        ,  1.        ,  1.        , ...,  1.        ,\n",
       "         1.        ,  1.        ],\n",
       "       [ 0.87010134,  0.87311681,  0.86368993, ...,  0.90155644,\n",
       "         0.89083013,  0.88702993],\n",
       "       [ 0.71895222,  0.71583336,  0.69388661, ...,  0.77292948,\n",
       "         0.75514431,  0.7654575 ],\n",
       "       ...,\n",
       "       [ 0.80170164,  0.76937407,  0.73717722, ..., -0.25139413,\n",
       "        -0.12357828, -0.06212151],\n",
       "       [ 0.79500914,  0.71330341,  0.66405095, ..., -0.45488261,\n",
       "        -0.24869038, -0.16482097],\n",
       "       [ 0.93515744,  0.57200895,  0.36282336, ..., -0.4271038 ,\n",
       "         0.16194728,  0.15311492]])"
      ]
     },
     "execution_count": 130,
     "metadata": {},
     "output_type": "execute_result"
    }
   ],
   "source": [
    "N20plga_cos_awmix"
   ]
  },
  {
   "cell_type": "code",
   "execution_count": 131,
   "metadata": {},
   "outputs": [
    {
     "data": {
      "text/plain": [
       "13.216714653022674"
      ]
     },
     "execution_count": 131,
     "metadata": {},
     "output_type": "execute_result"
    }
   ],
   "source": [
    "rgawmix_n20plga"
   ]
  },
  {
   "cell_type": "code",
   "execution_count": 132,
   "metadata": {},
   "outputs": [
    {
     "data": {
      "text/plain": [
       "3.1634625199013535"
      ]
     },
     "execution_count": 132,
     "metadata": {},
     "output_type": "execute_result"
    }
   ],
   "source": [
    "np.std(n20plga_rgens_awmix)"
   ]
  },
  {
   "cell_type": "code",
   "execution_count": 133,
   "metadata": {},
   "outputs": [
    {
     "data": {
      "text/plain": [
       "(0.2, 2)"
      ]
     },
     "execution_count": 133,
     "metadata": {},
     "output_type": "execute_result"
    },
    {
     "data": {
      "image/png": "[encoded data removed]",
      "text/plain": [
       "<Figure size 504x504 with 1 Axes>"
      ]
     },
     "metadata": {
      "needs_background": "light"
     },
     "output_type": "display_data"
    }
   ],
   "source": [
    "plt.figure(figsize=(7,7))\n",
    "plt.title(r'PLGA Radius of Gyration', fontsize=18, y=1.01)\n",
    "plt.xlabel(r'Time [ns]', fontsize=15)\n",
    "plt.ylabel(r'$R_{g}$ [nm]', fontsize=15)\n",
    "plt.plot(trj_len/100, n6plga_rgens_awmix[0]/10,linewidth=2, color='#CCBE9F')\n",
    "plt.plot(trj_len/100, n8plga_rgens_awmix[0]/10,linewidth=2, color='#601A4A')\n",
    "plt.plot(trj_len/100, n10plga_rgens_awmix[0]/10,linewidth=2, color='#2B6322')\n",
    "plt.plot(trj_len/100, n20plga_rgens_awmix[0]/10,linewidth=2, color='#562A8B')\n",
    "plt.tick_params(labelsize=14)\n",
    "plt.legend(['N = 6 in 0.69 a/w mix','N = 8 in 0.69 a/w mix','N = 10 in 0.69 a/w mix', 'N = 20 in 0.69 a/w mix']\n",
    "           , frameon=False, fontsize=14)\n",
    "#plt.text(127, 0.96,r'N = 6 in water', fontsize=18, color='#1F2E69', family='Arial')\n",
    "plt.xlim(0,180)\n",
    "plt.ylim(0.2,2)"
   ]
  },
  {
   "cell_type": "markdown",
   "metadata": {},
   "source": [
    "#### Correlation values at each arc length for the whole 180 ns trajectory, N = 20 PLGA/0.69 mol acetone/water system"
   ]
  },
  {
   "cell_type": "code",
   "execution_count": 134,
   "metadata": {},
   "outputs": [
    {
     "data": {
      "text/plain": [
       "array([  0.        ,   5.81312098,  11.62624196,  17.43936293,\n",
       "        23.25248391,  29.06560489,  34.87872587,  40.69184685,\n",
       "        46.50496782,  52.3180888 ,  58.13120978,  63.94433076,\n",
       "        69.75745174,  75.57057272,  81.38369369,  87.19681467,\n",
       "        93.00993565,  98.82305663, 104.63617761])"
      ]
     },
     "execution_count": 134,
     "metadata": {},
     "output_type": "execute_result"
    }
   ],
   "source": [
    "# x values\n",
    "blen_n20awmix = cor_n20plga_awmix[3]*lb_avg_pn6\n",
    "#nt_tt[0] = 0\n",
    "blen_n20awmix"
   ]
  },
  {
   "cell_type": "code",
   "execution_count": 135,
   "metadata": {},
   "outputs": [
    {
     "data": {
      "text/plain": [
       "array([2.39263866e-17, 3.41779126e-02, 1.01912277e-01, 1.84325960e-01,\n",
       "       2.78023792e-01, 3.89018742e-01, 5.05492707e-01, 5.97642555e-01,\n",
       "       6.78684416e-01, 7.05586823e-01, 6.86333175e-01, 7.36591452e-01,\n",
       "       7.51669167e-01, 8.61779558e-01, 9.33623075e-01, 1.17100982e+00,\n",
       "       1.37503216e+00, 1.72385376e+00, 2.48932575e+00])"
      ]
     },
     "execution_count": 135,
     "metadata": {},
     "output_type": "execute_result"
    }
   ],
   "source": [
    "mk_n20p_awmix = cor_n20plga_awmix[1]/cor_n20plga_awmix[0]\n",
    "mk_n20p_awmix"
   ]
  },
  {
   "cell_type": "code",
   "execution_count": 136,
   "metadata": {},
   "outputs": [
    {
     "data": {
      "text/plain": [
       "<ErrorbarContainer object of 3 artists>"
      ]
     },
     "execution_count": 136,
     "metadata": {},
     "output_type": "execute_result"
    },
    {
     "data": {
      "image/png": "[encoded data removed]",
      "text/plain": [
       "<Figure size 504x504 with 1 Axes>"
      ]
     },
     "metadata": {
      "needs_background": "light"
     },
     "output_type": "display_data"
    }
   ],
   "source": [
    "plt.figure(figsize=(7,7))\n",
    "plt.errorbar(blen_awmix, np.log(cor_n6plga_awmix[0]), yerr=mk_n6p_awmix, color='#CCBE9F', linestyle=\"None\",marker='o',\n",
    "     capsize=5, capthick=1, ecolor='black')\n",
    "plt.errorbar(blen_n8awmix, np.log(cor_n8plga_awmix[0]), yerr=mk_n8p_awmix, color='#601A4A', linestyle=\"None\",marker='o',\n",
    "     capsize=5, capthick=1, ecolor='black')\n",
    "plt.errorbar(blen_n10awmix, np.log(cor_n10plga_awmix[0]), yerr=mk_n10p_awmix, color='#2B6322', linestyle=\"None\",marker='o',\n",
    "     capsize=5, capthick=1, ecolor='black')\n",
    "plt.errorbar(blen_n20awmix, np.log(cor_n20plga_awmix[0]), yerr=mk_n20p_awmix, color='#562A8B', linestyle=\"None\",marker='o',\n",
    "     capsize=5, capthick=1, ecolor='black')"
   ]
  },
  {
   "cell_type": "code",
   "execution_count": 137,
   "metadata": {},
   "outputs": [
    {
     "name": "stdout",
     "output_type": "stream",
     "text": [
      "3000\n",
      "6000\n",
      "Negative cosine theta values present, doing exponential fit...\n",
      "Lp [Angstroms], Exp. fit: 28.177639214069544\n",
      "Error in Lp from fit [Angstroms]: 0.0030122647917649216\n",
      "6000\n",
      "9000\n",
      "Lp [Angstroms]: 31.988146985425644\n",
      "Error in Lp from fit [Angstroms], 95% CL : 0.20814073661360505\n",
      "R2 score: 0.996095335431744\n",
      "9000\n",
      "12000\n",
      "Negative cosine theta values present, doing exponential fit...\n",
      "Lp [Angstroms], Exp. fit: 35.00453343744715\n",
      "Error in Lp from fit [Angstroms]: 0.0019543479181981216\n",
      "12000\n",
      "15000\n",
      "Lp [Angstroms]: 26.99977912383943\n",
      "Error in Lp from fit [Angstroms], 95% CL : 0.2407503268952468\n",
      "R2 score: 0.9925710906725437\n",
      "15000\n",
      "18000\n",
      "Lp [Angstroms]: 26.221392648151852\n",
      "Error in Lp from fit [Angstroms], 95% CL : 0.3128532309606888\n",
      "R2 score: 0.9877670878042318\n"
     ]
    }
   ],
   "source": [
    "# All the points give the best fits for N = 6 peg in water\n",
    "n20_blksplga_awmix , n20plga_lpawmix = bavg_pers_cnt(5, plga_n20awmix, n20_plga_awmix, lb_avg_pn6, 5, 3000 , 18000)"
   ]
  },
  {
   "cell_type": "code",
   "execution_count": 138,
   "metadata": {},
   "outputs": [
    {
     "data": {
      "text/plain": [
       "{'Avg Radius of gyration': array([10.74844324, 13.25298254, 14.03763861, 12.72260855, 13.6826286 ]),\n",
       " 'Avg persistence length': array([28.17763921, 31.98814699, 35.00453344, 26.99977912, 26.22139265])}"
      ]
     },
     "execution_count": 138,
     "metadata": {},
     "output_type": "execute_result"
    }
   ],
   "source": [
    "n20_blksplga_awmix"
   ]
  },
  {
   "cell_type": "code",
   "execution_count": 139,
   "metadata": {},
   "outputs": [
    {
     "data": {
      "text/plain": [
       "array([[ 2.81776392e+01,  3.19881470e+01,  3.50045334e+01,\n",
       "         2.69997791e+01,  2.62213926e+01],\n",
       "       [ 3.01226479e-03,  2.08140737e-01,  1.95434792e-03,\n",
       "         2.40750327e-01,  3.12853231e-01],\n",
       "       [ 0.00000000e+00, -3.12615795e-02,  0.00000000e+00,\n",
       "        -3.70373400e-02, -3.81367997e-02],\n",
       "       [ 0.00000000e+00,  2.72257013e-04,  0.00000000e+00,\n",
       "         7.17652427e-04,  1.36232117e-03]])"
      ]
     },
     "execution_count": 139,
     "metadata": {},
     "output_type": "execute_result"
    }
   ],
   "source": [
    "n20plga_lpawmix"
   ]
  },
  {
   "cell_type": "code",
   "execution_count": 223,
   "metadata": {},
   "outputs": [
    {
     "data": {
      "text/plain": [
       "-0.03813679972754927"
      ]
     },
     "execution_count": 223,
     "metadata": {},
     "output_type": "execute_result"
    }
   ],
   "source": [
    "n20plga_lpawmix[2][4]"
   ]
  },
  {
   "cell_type": "code",
   "execution_count": 225,
   "metadata": {},
   "outputs": [
    {
     "data": {
      "text/plain": [
       "array([-0.03703734, -0.03126158, -0.03703734])"
      ]
     },
     "execution_count": 225,
     "metadata": {},
     "output_type": "execute_result"
    }
   ],
   "source": [
    "np.array([n20plga_lpawmix[2][3],n20plga_lpawmix[2][1],n20plga_lpawmix[2][3]])"
   ]
  },
  {
   "cell_type": "code",
   "execution_count": 227,
   "metadata": {},
   "outputs": [],
   "source": [
    "n20_avg_mslope = np.mean(np.array([n20plga_lpawmix[2][3],n20plga_lpawmix[2][1],n20plga_lpawmix[2][3]]))"
   ]
  },
  {
   "cell_type": "code",
   "execution_count": 228,
   "metadata": {},
   "outputs": [
    {
     "data": {
      "text/plain": [
       "-0.021287143850173048"
      ]
     },
     "execution_count": 228,
     "metadata": {},
     "output_type": "execute_result"
    }
   ],
   "source": [
    "np.mean(n20plga_lpawmix[2])"
   ]
  },
  {
   "cell_type": "code",
   "execution_count": 229,
   "metadata": {},
   "outputs": [
    {
     "data": {
      "text/plain": [
       "0.00047044612223520147"
      ]
     },
     "execution_count": 229,
     "metadata": {},
     "output_type": "execute_result"
    }
   ],
   "source": [
    "np.mean(n20plga_lpawmix[3])"
   ]
  },
  {
   "cell_type": "code",
   "execution_count": 230,
   "metadata": {},
   "outputs": [
    {
     "data": {
      "text/plain": [
       "array([  0.        ,   5.81312098,  11.62624196,  17.43936293,\n",
       "        23.25248391,  29.06560489,  34.87872587,  40.69184685,\n",
       "        46.50496782,  52.3180888 ,  58.13120978,  63.94433076,\n",
       "        69.75745174,  75.57057272,  81.38369369,  87.19681467,\n",
       "        93.00993565,  98.82305663, 104.63617761])"
      ]
     },
     "execution_count": 230,
     "metadata": {},
     "output_type": "execute_result"
    }
   ],
   "source": [
    "blen_n20awmix"
   ]
  },
  {
   "cell_type": "code",
   "execution_count": 231,
   "metadata": {},
   "outputs": [],
   "source": [
    "gg_n20plga_awmix = line_fit(n20_avg_mslope,blen_n20awmix)"
   ]
  },
  {
   "cell_type": "code",
   "execution_count": 144,
   "metadata": {},
   "outputs": [],
   "source": [
    "gg_n6plga_n20awmix = line_fit(np.mean(n6plga_lpawmix[2]),blen_n20awmix)"
   ]
  },
  {
   "cell_type": "code",
   "execution_count": 145,
   "metadata": {},
   "outputs": [],
   "source": [
    "gg_n8plga_n20awmix = line_fit(np.mean(n8plga_lpawmix[2]),blen_n20awmix)"
   ]
  },
  {
   "cell_type": "code",
   "execution_count": 146,
   "metadata": {},
   "outputs": [],
   "source": [
    "gg_n10plga_n20awmix = line_fit(np.mean(n10plga_lpawmix[2]),blen_n20awmix)"
   ]
  },
  {
   "cell_type": "code",
   "execution_count": 147,
   "metadata": {},
   "outputs": [
    {
     "data": {
      "text/plain": [
       "array([-0.        , -0.12374474, -0.24748948, -0.37123423, -0.49497897,\n",
       "       -0.61872371, -0.74246845, -0.8662132 , -0.98995794, -1.11370268,\n",
       "       -1.23744742, -1.36119217, -1.48493691, -1.60868165, -1.73242639,\n",
       "       -1.85617114, -1.97991588, -2.10366062, -2.22740536])"
      ]
     },
     "execution_count": 147,
     "metadata": {},
     "output_type": "execute_result"
    }
   ],
   "source": [
    "gg_n20plga_awmix"
   ]
  },
  {
   "cell_type": "markdown",
   "metadata": {},
   "source": [
    "### Block averaged Radius of gyration and persistence length, N = 20 PLGA/0.69 mol acetone/water system"
   ]
  },
  {
   "cell_type": "code",
   "execution_count": 148,
   "metadata": {},
   "outputs": [
    {
     "data": {
      "text/plain": [
       "29.678298281786727"
      ]
     },
     "execution_count": 148,
     "metadata": {},
     "output_type": "execute_result"
    }
   ],
   "source": [
    "np.mean(n20_blksplga_awmix[\"Avg persistence length\"])"
   ]
  },
  {
   "cell_type": "code",
   "execution_count": 149,
   "metadata": {},
   "outputs": [
    {
     "data": {
      "text/plain": [
       "3.319060741955906"
      ]
     },
     "execution_count": 149,
     "metadata": {},
     "output_type": "execute_result"
    }
   ],
   "source": [
    "np.std(n20_blksplga_awmix[\"Avg persistence length\"])"
   ]
  },
  {
   "cell_type": "code",
   "execution_count": 150,
   "metadata": {},
   "outputs": [
    {
     "data": {
      "text/plain": [
       "12.888860308290035"
      ]
     },
     "execution_count": 150,
     "metadata": {},
     "output_type": "execute_result"
    }
   ],
   "source": [
    "np.mean(n20_blksplga_awmix[\"Avg Radius of gyration\"])"
   ]
  },
  {
   "cell_type": "code",
   "execution_count": 151,
   "metadata": {},
   "outputs": [
    {
     "data": {
      "text/plain": [
       "1.1568378932984031"
      ]
     },
     "execution_count": 151,
     "metadata": {},
     "output_type": "execute_result"
    }
   ],
   "source": [
    "np.std(n20_blksplga_awmix[\"Avg Radius of gyration\"])"
   ]
  },
  {
   "cell_type": "code",
   "execution_count": 232,
   "metadata": {},
   "outputs": [
    {
     "data": {
      "text/plain": [
       "Text(0.5, -5.7, '$N_{PLGA}$ = 20: $L_{p}$ = 29.7 $\\\\AA$ ± 3.32 $\\\\AA$')"
      ]
     },
     "execution_count": 232,
     "metadata": {},
     "output_type": "execute_result"
    },
    {
     "data": {
      "image/png": "[encoded data removed]",
      "text/plain": [
       "<Figure size 504x504 with 1 Axes>"
      ]
     },
     "metadata": {
      "needs_background": "light"
     },
     "output_type": "display_data"
    }
   ],
   "source": [
    "plt.figure(figsize=(7,7))\n",
    "plt.errorbar(blen_awmix, np.log(cor_n6plga_awmix[0]), yerr=mk_n6p_awmix, color='#CCBE9F', linestyle=\"None\",marker='o',\n",
    "     capsize=5, capthick=1, ecolor='black')\n",
    "plt.errorbar(blen_n8awmix, np.log(cor_n8plga_awmix[0]), yerr=mk_n8p_awmix, color='#601A4A', linestyle=\"None\",marker='o',\n",
    "     capsize=5, capthick=1, ecolor='black')\n",
    "plt.errorbar(blen_n10awmix, np.log(cor_n10plga_awmix[0]), yerr=mk_n10p_awmix, color='#2B6322', linestyle=\"None\",marker='o',\n",
    "     capsize=5, capthick=1, ecolor='black')\n",
    "plt.errorbar(blen_n20awmix, np.log(cor_n20plga_awmix[0]), yerr=mk_n20p_awmix, color='#562A8B', linestyle=\"None\",marker='o',\n",
    "     capsize=5, capthick=1, ecolor='black')\n",
    "plt.plot(blen_n20awmix, gg_n6plga_n20awmix, color='#CCBE9F')\n",
    "plt.plot(blen_n20awmix, gg_n8plga_n20awmix, color='#601A4A')\n",
    "plt.plot(blen_n20awmix, gg_n10plga_n20awmix, color='#2B6322')\n",
    "plt.plot(blen_n20awmix, gg_n20plga_awmix, color='#562A8B')\n",
    "plt.title(r'Ensemble Averaged ln(Cosine $\\theta$) in 0.69 a/w mix', fontsize=15, y=1.01)\n",
    "plt.xlabel(r'Bond Length', fontsize=15)\n",
    "plt.ylabel(r'ln$\\left< Cos(\\theta)\\right >$', fontsize=15)\n",
    "plt.ylim(-7,2)\n",
    "plt.xlim(0,165)\n",
    "font = font_manager.FontProperties(family='Arial', style='normal', size='14')\n",
    "#plt.legend([r'$N_{PEG}$ = 6: $L_{p}$ = 10.7 $\\AA$ ± 1.62 $\\AA$'], loc=3, frameon=0, fontsize=14, prop=font)\n",
    "plt.tick_params(labelsize=14)\n",
    "plt.text(0.5, -6.92,r'$N_{PLGA}$ = 6: $L_{p}$ = 33.1 $\\AA$ ± 7.19 $\\AA$', fontsize=15, color='#CCBE9F')\n",
    "plt.text(0.5, -6.54,r'$N_{PLGA}$ = 8: $L_{p}$ = 28.8 $\\AA$ ± 6.33 $\\AA$', fontsize=15, color='#601A4A')\n",
    "plt.text(0.5, -6.14,r'$N_{PLGA}$ = 10: $L_{p}$ = 23.9 $\\AA$ ± 6.10 $\\AA$', fontsize=15, color='#2B6322')\n",
    "plt.text(0.5, -5.70,r'$N_{PLGA}$ = 20: $L_{p}$ = 29.7 $\\AA$ ± 3.32 $\\AA$', fontsize=15, color='#562A8B')"
   ]
  },
  {
   "cell_type": "code",
   "execution_count": 153,
   "metadata": {},
   "outputs": [
    {
     "data": {
      "text/html": [
       "<div>\n",
       "<style scoped>\n",
       "    .dataframe tbody tr th:only-of-type {\n",
       "        vertical-align: middle;\n",
       "    }\n",
       "\n",
       "    .dataframe tbody tr th {\n",
       "        vertical-align: top;\n",
       "    }\n",
       "\n",
       "    .dataframe thead th {\n",
       "        text-align: right;\n",
       "    }\n",
       "</style>\n",
       "<table border=\"1\" class=\"dataframe\">\n",
       "  <thead>\n",
       "    <tr style=\"text-align: right;\">\n",
       "      <th></th>\n",
       "      <th>$R_{g}$ [Angstrom] N = 6 PLGA in 0.69 a/w mix</th>\n",
       "      <th>$R_{g}$ [Angstrom] N = 8 PLGA in 0.69 a/w mix</th>\n",
       "      <th>$R_{g}$ [Angstrom] N = 10 PLGA in 0.69 a/w mix</th>\n",
       "      <th>$R_{g}$ [Angstrom] N = 20 PLGA in 0.69 a/w mix</th>\n",
       "    </tr>\n",
       "  </thead>\n",
       "  <tbody>\n",
       "    <tr>\n",
       "      <td>0</td>\n",
       "      <td>7.414166</td>\n",
       "      <td>7.815941</td>\n",
       "      <td>8.517919</td>\n",
       "      <td>10.748443</td>\n",
       "    </tr>\n",
       "    <tr>\n",
       "      <td>1</td>\n",
       "      <td>7.660967</td>\n",
       "      <td>8.576357</td>\n",
       "      <td>8.260516</td>\n",
       "      <td>13.252983</td>\n",
       "    </tr>\n",
       "    <tr>\n",
       "      <td>2</td>\n",
       "      <td>7.277628</td>\n",
       "      <td>9.197118</td>\n",
       "      <td>10.288552</td>\n",
       "      <td>14.037639</td>\n",
       "    </tr>\n",
       "    <tr>\n",
       "      <td>3</td>\n",
       "      <td>7.017058</td>\n",
       "      <td>9.769339</td>\n",
       "      <td>9.598804</td>\n",
       "      <td>12.722609</td>\n",
       "    </tr>\n",
       "    <tr>\n",
       "      <td>4</td>\n",
       "      <td>8.123287</td>\n",
       "      <td>8.662676</td>\n",
       "      <td>9.886560</td>\n",
       "      <td>13.682629</td>\n",
       "    </tr>\n",
       "  </tbody>\n",
       "</table>\n",
       "</div>"
      ],
      "text/plain": [
       "   $R_{g}$ [Angstrom] N = 6 PLGA in 0.69 a/w mix  \\\n",
       "0                                       7.414166   \n",
       "1                                       7.660967   \n",
       "2                                       7.277628   \n",
       "3                                       7.017058   \n",
       "4                                       8.123287   \n",
       "\n",
       "   $R_{g}$ [Angstrom] N = 8 PLGA in 0.69 a/w mix  \\\n",
       "0                                       7.815941   \n",
       "1                                       8.576357   \n",
       "2                                       9.197118   \n",
       "3                                       9.769339   \n",
       "4                                       8.662676   \n",
       "\n",
       "   $R_{g}$ [Angstrom] N = 10 PLGA in 0.69 a/w mix  \\\n",
       "0                                        8.517919   \n",
       "1                                        8.260516   \n",
       "2                                       10.288552   \n",
       "3                                        9.598804   \n",
       "4                                        9.886560   \n",
       "\n",
       "   $R_{g}$ [Angstrom] N = 20 PLGA in 0.69 a/w mix  \n",
       "0                                       10.748443  \n",
       "1                                       13.252983  \n",
       "2                                       14.037639  \n",
       "3                                       12.722609  \n",
       "4                                       13.682629  "
      ]
     },
     "execution_count": 153,
     "metadata": {},
     "output_type": "execute_result"
    }
   ],
   "source": [
    "rgplga_olig_awmix[r\"$R_{g}$ [Angstrom] N = 20 PLGA in 0.69 a/w mix\"] = n20_blksplga_awmix[\"Avg Radius of gyration\"]\n",
    "rgplga_olig_awmix"
   ]
  },
  {
   "cell_type": "code",
   "execution_count": 154,
   "metadata": {},
   "outputs": [
    {
     "data": {
      "text/html": [
       "<div>\n",
       "<style scoped>\n",
       "    .dataframe tbody tr th:only-of-type {\n",
       "        vertical-align: middle;\n",
       "    }\n",
       "\n",
       "    .dataframe tbody tr th {\n",
       "        vertical-align: top;\n",
       "    }\n",
       "\n",
       "    .dataframe thead th {\n",
       "        text-align: right;\n",
       "    }\n",
       "</style>\n",
       "<table border=\"1\" class=\"dataframe\">\n",
       "  <thead>\n",
       "    <tr style=\"text-align: right;\">\n",
       "      <th></th>\n",
       "      <th>$L_{p}$ [Angstrom] N = 6 PLGA in 0.69 a/w mix</th>\n",
       "      <th>$L_{p}$ [Angstrom] N = 8 PLGA in 0.69 a/w mix</th>\n",
       "      <th>$L_{p}$ [Angstrom] N = 10 PLGA in 0.69 a/w mix</th>\n",
       "      <th>$L_{p}$ [Angstrom] N = 20 PLGA in 0.69 a/w mix</th>\n",
       "    </tr>\n",
       "  </thead>\n",
       "  <tbody>\n",
       "    <tr>\n",
       "      <td>0</td>\n",
       "      <td>31.843280</td>\n",
       "      <td>18.143705</td>\n",
       "      <td>18.415307</td>\n",
       "      <td>28.177639</td>\n",
       "    </tr>\n",
       "    <tr>\n",
       "      <td>1</td>\n",
       "      <td>32.793833</td>\n",
       "      <td>26.608497</td>\n",
       "      <td>16.321849</td>\n",
       "      <td>31.988147</td>\n",
       "    </tr>\n",
       "    <tr>\n",
       "      <td>2</td>\n",
       "      <td>28.551544</td>\n",
       "      <td>33.523854</td>\n",
       "      <td>29.365548</td>\n",
       "      <td>35.004533</td>\n",
       "    </tr>\n",
       "    <tr>\n",
       "      <td>3</td>\n",
       "      <td>25.689959</td>\n",
       "      <td>36.492615</td>\n",
       "      <td>23.457535</td>\n",
       "      <td>26.999779</td>\n",
       "    </tr>\n",
       "    <tr>\n",
       "      <td>4</td>\n",
       "      <td>46.557976</td>\n",
       "      <td>29.377310</td>\n",
       "      <td>32.176044</td>\n",
       "      <td>26.221393</td>\n",
       "    </tr>\n",
       "  </tbody>\n",
       "</table>\n",
       "</div>"
      ],
      "text/plain": [
       "   $L_{p}$ [Angstrom] N = 6 PLGA in 0.69 a/w mix   \\\n",
       "0                                       31.843280   \n",
       "1                                       32.793833   \n",
       "2                                       28.551544   \n",
       "3                                       25.689959   \n",
       "4                                       46.557976   \n",
       "\n",
       "   $L_{p}$ [Angstrom] N = 8 PLGA in 0.69 a/w mix  \\\n",
       "0                                      18.143705   \n",
       "1                                      26.608497   \n",
       "2                                      33.523854   \n",
       "3                                      36.492615   \n",
       "4                                      29.377310   \n",
       "\n",
       "   $L_{p}$ [Angstrom] N = 10 PLGA in 0.69 a/w mix  \\\n",
       "0                                       18.415307   \n",
       "1                                       16.321849   \n",
       "2                                       29.365548   \n",
       "3                                       23.457535   \n",
       "4                                       32.176044   \n",
       "\n",
       "   $L_{p}$ [Angstrom] N = 20 PLGA in 0.69 a/w mix  \n",
       "0                                       28.177639  \n",
       "1                                       31.988147  \n",
       "2                                       35.004533  \n",
       "3                                       26.999779  \n",
       "4                                       26.221393  "
      ]
     },
     "execution_count": 154,
     "metadata": {},
     "output_type": "execute_result"
    }
   ],
   "source": [
    "pers_plgat_awmix[r\"$L_{p}$ [Angstrom] N = 20 PLGA in 0.69 a/w mix\"] = n20_blksplga_awmix[\"Avg persistence length\"]\n",
    "pers_plgat_awmix"
   ]
  },
  {
   "cell_type": "code",
   "execution_count": null,
   "metadata": {},
   "outputs": [],
   "source": []
  },
  {
   "cell_type": "markdown",
   "metadata": {},
   "source": [
    "### N = 30 PLGA/0.69 mol acetone/water system"
   ]
  },
  {
   "cell_type": "code",
   "execution_count": 155,
   "metadata": {},
   "outputs": [],
   "source": [
    "# For the right Rg calculation using MD Analysis, use trajactory without pbc \n",
    "n30_plga_awmix = mda.Universe(\"n30plga_awmix/n30plgaonly_awmix.pdb\", \"n30plga_awmix/noawmix_n30plga.xtc\")"
   ]
  },
  {
   "cell_type": "code",
   "execution_count": 156,
   "metadata": {},
   "outputs": [
    {
     "data": {
      "text/plain": [
       "<XTCReader n30plga_awmix/noawmix_n30plga.xtc with 18001 frames of 453 atoms>"
      ]
     },
     "execution_count": 156,
     "metadata": {},
     "output_type": "execute_result"
    }
   ],
   "source": [
    "n30_plga_awmix.trajectory"
   ]
  },
  {
   "cell_type": "code",
   "execution_count": 157,
   "metadata": {},
   "outputs": [
    {
     "data": {
      "text/plain": [
       "18001"
      ]
     },
     "execution_count": 157,
     "metadata": {},
     "output_type": "execute_result"
    }
   ],
   "source": [
    "len(n30_plga_awmix.trajectory)"
   ]
  },
  {
   "cell_type": "code",
   "execution_count": 158,
   "metadata": {},
   "outputs": [],
   "source": [
    "#Select the polymer heavy atoms \n",
    "plga_n30awmix = n30_plga_awmix.select_atoms(\"resname sPLG PLG tPLG and not type H\")"
   ]
  },
  {
   "cell_type": "code",
   "execution_count": 159,
   "metadata": {},
   "outputs": [
    {
     "data": {
      "text/plain": [
       "array([[ 1.        ,  0.85323332,  0.66982722,  0.58186492,  0.54476169,\n",
       "         0.50084043,  0.47153236,  0.47338197,  0.48328097,  0.5170664 ,\n",
       "         0.57380494,  0.62393528,  0.5948042 ,  0.56040602,  0.52518071,\n",
       "         0.5015313 ,  0.51336243,  0.58844824,  0.58335525,  0.60401705,\n",
       "         0.67994938,  0.70950662,  0.69470191,  0.74678033,  0.79500988,\n",
       "         0.7548187 ,  0.75979233,  0.90942348,  0.86583512],\n",
       "       [ 0.        ,  1.        ,  2.        ,  3.        ,  4.        ,\n",
       "         5.        ,  6.        ,  7.        ,  8.        ,  9.        ,\n",
       "        10.        , 11.        , 12.        , 13.        , 14.        ,\n",
       "        15.        , 16.        , 17.        , 18.        , 19.        ,\n",
       "        20.        , 21.        , 22.        , 23.        , 24.        ,\n",
       "        25.        , 26.        , 27.        , 28.        ],\n",
       "       [ 0.        , 31.43489632, 47.94626866, 54.41818162, 56.99162016,\n",
       "        59.94438172, 61.86618874, 61.74594781, 61.10009271, 58.86432379,\n",
       "        54.98401557, 51.39591736, 53.5013251 , 55.91611857, 58.31959037,\n",
       "        59.89863787, 59.11194006, 53.95303219, 54.31311918, 52.84185723,\n",
       "        47.16031259, 44.80521356, 45.99653227, 41.68775504, 37.34381098,\n",
       "        40.99046906, 40.55410657, 24.57419851, 30.02179811]])"
      ]
     },
     "execution_count": 159,
     "metadata": {},
     "output_type": "execute_result"
    }
   ],
   "source": [
    "crv_n30plga_awmix = pers_length(plga_n30awmix,30)\n",
    "crv_n30plga_awmix"
   ]
  },
  {
   "cell_type": "code",
   "execution_count": 160,
   "metadata": {},
   "outputs": [],
   "source": [
    "com_bond_n30awmix = np.zeros(shape=(1,18000))\n",
    "count = 0\n",
    "for ts in n30_plga_awmix.trajectory[0:18000]:\n",
    "    n30_mon1_awmix = n30_plga_awmix.select_atoms(\"resid 1\")\n",
    "    n30_mon2_awmix = n30_plga_awmix.select_atoms(\"resid 2\")\n",
    "    oo_len = mda.analysis.distances.distance_array(n30_mon1_awmix.center_of_mass(), n30_mon2_awmix.center_of_mass(), \n",
    "                                                   box=n30_plga_awmix.trajectory.ts.dimensions)\n",
    "    com_bond_n30awmix[0, count] = oo_len\n",
    "    count += 1\n",
    "    "
   ]
  },
  {
   "cell_type": "code",
   "execution_count": 161,
   "metadata": {},
   "outputs": [
    {
     "data": {
      "text/plain": [
       "array([[6.11350841, 5.92253141, 5.88769369, ..., 6.64941671, 6.24665586,\n",
       "        6.17255656]])"
      ]
     },
     "execution_count": 161,
     "metadata": {},
     "output_type": "execute_result"
    }
   ],
   "source": [
    "com_bond"
   ]
  },
  {
   "cell_type": "code",
   "execution_count": 162,
   "metadata": {},
   "outputs": [
    {
     "data": {
      "text/plain": [
       "0.7160857118225773"
      ]
     },
     "execution_count": 162,
     "metadata": {},
     "output_type": "execute_result"
    }
   ],
   "source": [
    "np.std(com_bond)"
   ]
  },
  {
   "cell_type": "code",
   "execution_count": 163,
   "metadata": {},
   "outputs": [
    {
     "data": {
      "text/plain": [
       "5.81312097809652"
      ]
     },
     "execution_count": 163,
     "metadata": {},
     "output_type": "execute_result"
    }
   ],
   "source": [
    "lb_avg_pn6 = np.mean(com_bond)\n",
    "lb_avg_pn6"
   ]
  },
  {
   "cell_type": "code",
   "execution_count": 164,
   "metadata": {},
   "outputs": [
    {
     "data": {
      "text/plain": [
       "5.564316338859199"
      ]
     },
     "execution_count": 164,
     "metadata": {},
     "output_type": "execute_result"
    }
   ],
   "source": [
    "np.mean(com_bond_n30awmix)"
   ]
  },
  {
   "cell_type": "code",
   "execution_count": 165,
   "metadata": {},
   "outputs": [
    {
     "data": {
      "text/plain": [
       "0.7669815804505278"
      ]
     },
     "execution_count": 165,
     "metadata": {},
     "output_type": "execute_result"
    }
   ],
   "source": [
    "np.std(com_bond_n30awmix)"
   ]
  },
  {
   "cell_type": "markdown",
   "metadata": {},
   "source": [
    "### Radius of Gyration vs. time N = 30 PLGA/0.69 mol acetone/water system"
   ]
  },
  {
   "cell_type": "code",
   "execution_count": 166,
   "metadata": {},
   "outputs": [],
   "source": [
    "n30plga_rgens_awmix, cor_n30plga_awmix, N30plga_cos_awmix, rgawmix_n30plga = get_rg_pers_poly(plga_n30awmix, n30_plga_awmix, 0, 18000)"
   ]
  },
  {
   "cell_type": "code",
   "execution_count": 167,
   "metadata": {},
   "outputs": [],
   "source": [
    "n30p_rgens_awmix, cor_n30p_awmix, N30p_cos_awmix, rgawmix_n30p = get_rg_pers_poly(plga_n30awmix, n30_plga_awmix, 6000, 9000)"
   ]
  },
  {
   "cell_type": "code",
   "execution_count": 168,
   "metadata": {},
   "outputs": [
    {
     "data": {
      "text/plain": [
       "(18000,)"
      ]
     },
     "execution_count": 168,
     "metadata": {},
     "output_type": "execute_result"
    }
   ],
   "source": [
    "n30plga_rgens_awmix[0].shape"
   ]
  },
  {
   "cell_type": "code",
   "execution_count": 169,
   "metadata": {},
   "outputs": [
    {
     "data": {
      "text/plain": [
       "array([ 0.,  1.,  2.,  3.,  4.,  5.,  6.,  7.,  8.,  9., 10., 11., 12.,\n",
       "       13., 14., 15., 16., 17., 18., 19., 20., 21., 22., 23., 24., 25.,\n",
       "       26., 27., 28.])"
      ]
     },
     "execution_count": 169,
     "metadata": {},
     "output_type": "execute_result"
    }
   ],
   "source": [
    "cor_n30plga_awmix[3]"
   ]
  },
  {
   "cell_type": "code",
   "execution_count": 170,
   "metadata": {},
   "outputs": [
    {
     "data": {
      "text/plain": [
       "array([[ 1.        ,  1.        ,  1.        , ...,  1.        ,\n",
       "         1.        ,  1.        ],\n",
       "       [ 0.85323332,  0.86054168,  0.85264919, ...,  0.85670204,\n",
       "         0.85279567,  0.84979837],\n",
       "       [ 0.66982722,  0.68687167,  0.66571425, ...,  0.64697615,\n",
       "         0.63799994,  0.63475767],\n",
       "       ...,\n",
       "       [ 0.75979233,  0.78725585,  0.70491269, ..., -0.5858038 ,\n",
       "        -0.54155115, -0.52596446],\n",
       "       [ 0.90942348,  0.8540556 ,  0.76591296, ..., -0.4945515 ,\n",
       "        -0.47468029, -0.4226679 ],\n",
       "       [ 0.86583512,  0.72214101,  0.6835791 , ...,  0.0586253 ,\n",
       "         0.12561911,  0.18319285]])"
      ]
     },
     "execution_count": 170,
     "metadata": {},
     "output_type": "execute_result"
    }
   ],
   "source": [
    "N30plga_cos_awmix"
   ]
  },
  {
   "cell_type": "code",
   "execution_count": 171,
   "metadata": {},
   "outputs": [
    {
     "data": {
      "text/plain": [
       "12.572350165585211"
      ]
     },
     "execution_count": 171,
     "metadata": {},
     "output_type": "execute_result"
    }
   ],
   "source": [
    "rgawmix_n30plga"
   ]
  },
  {
   "cell_type": "code",
   "execution_count": 172,
   "metadata": {},
   "outputs": [
    {
     "data": {
      "text/plain": [
       "3.4571553154146843"
      ]
     },
     "execution_count": 172,
     "metadata": {},
     "output_type": "execute_result"
    }
   ],
   "source": [
    "np.std(n30plga_rgens_awmix)"
   ]
  },
  {
   "cell_type": "code",
   "execution_count": 211,
   "metadata": {},
   "outputs": [
    {
     "data": {
      "text/plain": [
       "(0.2, 3.5)"
      ]
     },
     "execution_count": 211,
     "metadata": {},
     "output_type": "execute_result"
    },
    {
     "data": {
      "image/png": "[encoded data removed]",
      "text/plain": [
       "<Figure size 504x504 with 1 Axes>"
      ]
     },
     "metadata": {
      "needs_background": "light"
     },
     "output_type": "display_data"
    }
   ],
   "source": [
    "plt.figure(figsize=(7,7))\n",
    "plt.title(r'PLGA Radius of Gyration', fontsize=18, y=1.01)\n",
    "plt.xlabel(r'Time [ns]', fontsize=15)\n",
    "plt.ylabel(r'$R_{g}$ [nm]', fontsize=15)\n",
    "plt.plot(trj_len/100, n6plga_rgens_awmix[0]/10,linewidth=2, color='#CCBE9F')\n",
    "plt.plot(trj_len/100, n8plga_rgens_awmix[0]/10,linewidth=2, color='#601A4A')\n",
    "plt.plot(trj_len/100, n10plga_rgens_awmix[0]/10,linewidth=2, color='#2B6322')\n",
    "plt.plot(trj_len/100, n20plga_rgens_awmix[0]/10,linewidth=2, color='#562A8B')\n",
    "plt.plot(trj_len/100, n30plga_rgens_awmix[0]/10,linewidth=2, color='#1D77CF')\n",
    "plt.tick_params(labelsize=14)\n",
    "plt.legend(['N = 6 in 0.69 a/w mix','N = 8 in 0.69 a/w mix','N = 10 in 0.69 a/w mix', 'N = 20 in 0.69 a/w mix',\n",
    "           'N = 30 in 0.69 a/w mix'], frameon=False, fontsize=14)\n",
    "#plt.text(127, 0.96,r'N = 6 in water', fontsize=18, color='#1F2E69', family='Arial')\n",
    "plt.xlim(0,180)\n",
    "plt.ylim(0.2,3.5)"
   ]
  },
  {
   "cell_type": "code",
   "execution_count": 210,
   "metadata": {},
   "outputs": [],
   "source": [
    "np.save('n6plga_awmixRg.npy', n6plga_rgens_awmix[0])\n",
    "np.save('n8plga_awmixRg.npy', n8plga_rgens_awmix[0])\n",
    "np.save('n10plga_awmixRg.npy', n10plga_rgens_awmix[0])\n",
    "np.save('n20plga_awmixRg.npy', n20plga_rgens_awmix[0])\n",
    "np.save('n30plga_awmixRg.npy', n30plga_rgens_awmix[0])"
   ]
  },
  {
   "cell_type": "markdown",
   "metadata": {},
   "source": [
    "#### Correlation values at each arc length for the whole 180 ns trajectory, N = 30 PLGA/0.69 mol acetone/water system"
   ]
  },
  {
   "cell_type": "code",
   "execution_count": 174,
   "metadata": {},
   "outputs": [
    {
     "data": {
      "text/plain": [
       "array([  0.        ,   5.81312098,  11.62624196,  17.43936293,\n",
       "        23.25248391,  29.06560489,  34.87872587,  40.69184685,\n",
       "        46.50496782,  52.3180888 ,  58.13120978,  63.94433076,\n",
       "        69.75745174,  75.57057272,  81.38369369,  87.19681467,\n",
       "        93.00993565,  98.82305663, 104.63617761, 110.44929858,\n",
       "       116.26241956, 122.07554054, 127.88866152, 133.7017825 ,\n",
       "       139.51490347, 145.32802445, 151.14114543, 156.95426641,\n",
       "       162.76738739])"
      ]
     },
     "execution_count": 174,
     "metadata": {},
     "output_type": "execute_result"
    }
   ],
   "source": [
    "# x values\n",
    "blen_n30awmix = cor_n30plga_awmix[3]*lb_avg_pn6\n",
    "#nt_tt[0] = 0\n",
    "blen_n30awmix"
   ]
  },
  {
   "cell_type": "code",
   "execution_count": 175,
   "metadata": {},
   "outputs": [
    {
     "data": {
      "text/plain": [
       "array([4.68111129e-18, 2.63308683e-02, 8.58010596e-02, 1.58485687e-01,\n",
       "       2.57430710e-01, 3.54892395e-01, 4.42135290e-01, 6.83511969e-01,\n",
       "       1.03721064e+00, 1.28024829e+00, 1.05345087e+00, 7.74426972e-01,\n",
       "       6.48251628e-01, 6.07665494e-01, 6.96765625e-01, 8.24871609e-01,\n",
       "       1.05322951e+00, 1.30377863e+00, 1.32641116e+00, 1.10230218e+00,\n",
       "       1.12401565e+00, 1.32760833e+00, 1.87205286e+00, 2.02262924e+00,\n",
       "       2.39907265e+00, 4.13042700e+00, 3.09553827e+00, 2.22045364e+00,\n",
       "       2.66830122e+00])"
      ]
     },
     "execution_count": 175,
     "metadata": {},
     "output_type": "execute_result"
    }
   ],
   "source": [
    "mk_n30p_awmix = cor_n30plga_awmix[1]/cor_n30plga_awmix[0]\n",
    "mk_n30p_awmix"
   ]
  },
  {
   "cell_type": "code",
   "execution_count": 176,
   "metadata": {},
   "outputs": [
    {
     "data": {
      "text/plain": [
       "<ErrorbarContainer object of 3 artists>"
      ]
     },
     "execution_count": 176,
     "metadata": {},
     "output_type": "execute_result"
    },
    {
     "data": {
      "image/png": "[encoded data removed]",
      "text/plain": [
       "<Figure size 504x504 with 1 Axes>"
      ]
     },
     "metadata": {
      "needs_background": "light"
     },
     "output_type": "display_data"
    }
   ],
   "source": [
    "plt.figure(figsize=(7,7))\n",
    "plt.errorbar(blen_awmix, np.log(cor_n6plga_awmix[0]), yerr=mk_n6p_awmix, color='#CCBE9F', linestyle=\"None\",marker='o',\n",
    "     capsize=5, capthick=1, ecolor='black')\n",
    "plt.errorbar(blen_n8awmix, np.log(cor_n8plga_awmix[0]), yerr=mk_n8p_awmix, color='#601A4A', linestyle=\"None\",marker='o',\n",
    "     capsize=5, capthick=1, ecolor='black')\n",
    "plt.errorbar(blen_n10awmix, np.log(cor_n10plga_awmix[0]), yerr=mk_n10p_awmix, color='#2B6322', linestyle=\"None\",marker='o',\n",
    "     capsize=5, capthick=1, ecolor='black')\n",
    "plt.errorbar(blen_n20awmix, np.log(cor_n20plga_awmix[0]), yerr=mk_n20p_awmix, color='#562A8B', linestyle=\"None\",marker='o',\n",
    "     capsize=5, capthick=1, ecolor='black')\n",
    "plt.errorbar(blen_n30awmix, np.log(cor_n30plga_awmix[0]), yerr=mk_n30p_awmix, color='#1D77CF', linestyle=\"None\",marker='o',\n",
    "     capsize=5, capthick=1, ecolor='black')"
   ]
  },
  {
   "cell_type": "code",
   "execution_count": 177,
   "metadata": {},
   "outputs": [
    {
     "name": "stdout",
     "output_type": "stream",
     "text": [
      "3000\n",
      "6000\n",
      "Negative cosine theta values present, doing exponential fit...\n",
      "Lp [Angstroms], Exp. fit: 30.50173181555503\n",
      "Error in Lp from fit [Angstroms]: 0.0031953169223501764\n",
      "6000\n",
      "9000\n",
      "Lp [Angstroms]: 21.83707619597313\n",
      "Error in Lp from fit [Angstroms], 95% CL : 0.1070238352262092\n",
      "R2 score: 0.9912162937193185\n",
      "9000\n",
      "12000\n",
      "Negative cosine theta values present, doing exponential fit...\n",
      "Lp [Angstroms], Exp. fit: 24.57119652496883\n",
      "Error in Lp from fit [Angstroms]: 0.004085180572055218\n",
      "12000\n",
      "15000\n",
      "Lp [Angstroms]: 22.01328646966707\n",
      "Error in Lp from fit [Angstroms], 95% CL : 0.15682871335372997\n",
      "R2 score: 0.982409864539327\n",
      "15000\n",
      "18000\n",
      "Negative cosine theta values present, doing exponential fit...\n",
      "Lp [Angstroms], Exp. fit: 24.364050169006553\n",
      "Error in Lp from fit [Angstroms]: 0.003117973018703047\n"
     ]
    }
   ],
   "source": [
    "# All the points give the best fits for N = 6 peg in water\n",
    "n30_blksplga_awmix , n30plga_lpawmix = bavg_pers_cnt(5, plga_n30awmix, n30_plga_awmix, lb_avg_pn6, 5, 3000 , 18000)"
   ]
  },
  {
   "cell_type": "code",
   "execution_count": 178,
   "metadata": {},
   "outputs": [
    {
     "data": {
      "text/plain": [
       "{'Avg Radius of gyration': array([12.00400366, 10.24797701, 12.82742184, 11.31499957, 11.53467111]),\n",
       " 'Avg persistence length': array([30.50173182, 21.8370762 , 24.57119652, 22.01328647, 24.36405017])}"
      ]
     },
     "execution_count": 178,
     "metadata": {},
     "output_type": "execute_result"
    }
   ],
   "source": [
    "n30_blksplga_awmix"
   ]
  },
  {
   "cell_type": "code",
   "execution_count": 179,
   "metadata": {},
   "outputs": [
    {
     "data": {
      "text/plain": [
       "array([[ 3.05017318e+01,  2.18370762e+01,  2.45711965e+01,\n",
       "         2.20132865e+01,  2.43640502e+01],\n",
       "       [ 3.19531692e-03,  1.07023835e-01,  4.08518057e-03,\n",
       "         1.56828713e-01,  3.11797302e-03],\n",
       "       [ 0.00000000e+00, -4.57936764e-02,  0.00000000e+00,\n",
       "        -4.54271106e-02,  0.00000000e+00],\n",
       "       [ 0.00000000e+00,  1.37036221e-03,  0.00000000e+00,\n",
       "         2.84946895e-03,  0.00000000e+00]])"
      ]
     },
     "execution_count": 179,
     "metadata": {},
     "output_type": "execute_result"
    }
   ],
   "source": [
    "n30plga_lpawmix"
   ]
  },
  {
   "cell_type": "code",
   "execution_count": 243,
   "metadata": {},
   "outputs": [
    {
     "data": {
      "text/plain": [
       "array([ 0.        , -0.04579368,  0.        , -0.04542711,  0.        ])"
      ]
     },
     "execution_count": 243,
     "metadata": {},
     "output_type": "execute_result"
    }
   ],
   "source": [
    "n30plga_lpawmix[2]"
   ]
  },
  {
   "cell_type": "code",
   "execution_count": 241,
   "metadata": {},
   "outputs": [
    {
     "data": {
      "text/plain": [
       "-0.018244157400232875"
      ]
     },
     "execution_count": 241,
     "metadata": {},
     "output_type": "execute_result"
    }
   ],
   "source": [
    "np.mean(n30plga_lpawmix[2])"
   ]
  },
  {
   "cell_type": "code",
   "execution_count": 238,
   "metadata": {},
   "outputs": [
    {
     "data": {
      "text/plain": [
       "array([-0.04579368, -0.04542711])"
      ]
     },
     "execution_count": 238,
     "metadata": {},
     "output_type": "execute_result"
    }
   ],
   "source": [
    "np.array([n30plga_lpawmix[2][1],n30plga_lpawmix[2][3]])"
   ]
  },
  {
   "cell_type": "code",
   "execution_count": 240,
   "metadata": {},
   "outputs": [
    {
     "data": {
      "text/plain": [
       "-0.045610393500582186"
      ]
     },
     "execution_count": 240,
     "metadata": {},
     "output_type": "execute_result"
    }
   ],
   "source": [
    "n30_avg_mslope = np.mean(np.array([n30plga_lpawmix[2][1],n30plga_lpawmix[2][3]]))\n",
    "n30_avg_mslope"
   ]
  },
  {
   "cell_type": "code",
   "execution_count": 181,
   "metadata": {},
   "outputs": [
    {
     "data": {
      "text/plain": [
       "0.0008439662318890388"
      ]
     },
     "execution_count": 181,
     "metadata": {},
     "output_type": "execute_result"
    }
   ],
   "source": [
    "np.mean(n30plga_lpawmix[3])"
   ]
  },
  {
   "cell_type": "code",
   "execution_count": 182,
   "metadata": {},
   "outputs": [
    {
     "data": {
      "text/plain": [
       "array([  0.        ,   5.81312098,  11.62624196,  17.43936293,\n",
       "        23.25248391,  29.06560489,  34.87872587,  40.69184685,\n",
       "        46.50496782,  52.3180888 ,  58.13120978,  63.94433076,\n",
       "        69.75745174,  75.57057272,  81.38369369,  87.19681467,\n",
       "        93.00993565,  98.82305663, 104.63617761, 110.44929858,\n",
       "       116.26241956, 122.07554054, 127.88866152, 133.7017825 ,\n",
       "       139.51490347, 145.32802445, 151.14114543, 156.95426641,\n",
       "       162.76738739])"
      ]
     },
     "execution_count": 182,
     "metadata": {},
     "output_type": "execute_result"
    }
   ],
   "source": [
    "blen_n30awmix"
   ]
  },
  {
   "cell_type": "code",
   "execution_count": 244,
   "metadata": {},
   "outputs": [],
   "source": [
    "gg_n30plga_awmix = line_fit(n30_avg_mslope,blen_n30awmix)"
   ]
  },
  {
   "cell_type": "code",
   "execution_count": 184,
   "metadata": {},
   "outputs": [],
   "source": [
    "gg_n6plga_n30awmix = line_fit(np.mean(n6plga_lpawmix[2]),blen_n30awmix)"
   ]
  },
  {
   "cell_type": "code",
   "execution_count": 185,
   "metadata": {},
   "outputs": [],
   "source": [
    "gg_n8plga_n30awmix = line_fit(np.mean(n8plga_lpawmix[2]),blen_n30awmix)"
   ]
  },
  {
   "cell_type": "code",
   "execution_count": 186,
   "metadata": {},
   "outputs": [],
   "source": [
    "gg_n10plga_n30awmix = line_fit(np.mean(n10plga_lpawmix[2]),blen_n30awmix)"
   ]
  },
  {
   "cell_type": "code",
   "execution_count": 247,
   "metadata": {},
   "outputs": [],
   "source": [
    "gg_n20plga_n30awmix = line_fit(n20_avg_mslope,blen_n30awmix)"
   ]
  },
  {
   "cell_type": "code",
   "execution_count": 248,
   "metadata": {},
   "outputs": [
    {
     "data": {
      "text/plain": [
       "array([-0.        , -0.26513874, -0.53027747, -0.79541621, -1.06055494,\n",
       "       -1.32569368, -1.59083241, -1.85597115, -2.12110988, -2.38624862,\n",
       "       -2.65138735, -2.91652609, -3.18166482, -3.44680356, -3.71194229,\n",
       "       -3.97708103, -4.24221976, -4.5073585 , -4.77249723, -5.03763597,\n",
       "       -5.30277471, -5.56791344, -5.83305218, -6.09819091, -6.36332965,\n",
       "       -6.62846838, -6.89360712, -7.15874585, -7.42388459])"
      ]
     },
     "execution_count": 248,
     "metadata": {},
     "output_type": "execute_result"
    }
   ],
   "source": [
    "gg_n30plga_awmix"
   ]
  },
  {
   "cell_type": "code",
   "execution_count": 215,
   "metadata": {},
   "outputs": [
    {
     "data": {
      "text/plain": [
       "array([-0.        , -0.12374474, -0.24748948, -0.37123423, -0.49497897,\n",
       "       -0.61872371, -0.74246845, -0.8662132 , -0.98995794, -1.11370268,\n",
       "       -1.23744742, -1.36119217, -1.48493691, -1.60868165, -1.73242639,\n",
       "       -1.85617114, -1.97991588, -2.10366062, -2.22740536, -2.35115011,\n",
       "       -2.47489485, -2.59863959, -2.72238433, -2.84612908, -2.96987382,\n",
       "       -3.09361856, -3.2173633 , -3.34110805, -3.46485279])"
      ]
     },
     "execution_count": 215,
     "metadata": {},
     "output_type": "execute_result"
    }
   ],
   "source": [
    "gg_n20plga_n30awmix"
   ]
  },
  {
   "cell_type": "markdown",
   "metadata": {},
   "source": [
    "### Block averaged Radius of gyration and persistence length, N = 30 PLGA/0.69 mol acetone/water system"
   ]
  },
  {
   "cell_type": "code",
   "execution_count": 189,
   "metadata": {},
   "outputs": [
    {
     "data": {
      "text/plain": [
       "24.657468235034123"
      ]
     },
     "execution_count": 189,
     "metadata": {},
     "output_type": "execute_result"
    }
   ],
   "source": [
    "np.mean(n30_blksplga_awmix[\"Avg persistence length\"])"
   ]
  },
  {
   "cell_type": "code",
   "execution_count": 190,
   "metadata": {},
   "outputs": [
    {
     "data": {
      "text/plain": [
       "3.1367263900547733"
      ]
     },
     "execution_count": 190,
     "metadata": {},
     "output_type": "execute_result"
    }
   ],
   "source": [
    "np.std(n30_blksplga_awmix[\"Avg persistence length\"])"
   ]
  },
  {
   "cell_type": "code",
   "execution_count": 191,
   "metadata": {},
   "outputs": [
    {
     "data": {
      "text/plain": [
       "11.585814635685233"
      ]
     },
     "execution_count": 191,
     "metadata": {},
     "output_type": "execute_result"
    }
   ],
   "source": [
    "np.mean(n30_blksplga_awmix[\"Avg Radius of gyration\"])"
   ]
  },
  {
   "cell_type": "code",
   "execution_count": 192,
   "metadata": {},
   "outputs": [
    {
     "data": {
      "text/plain": [
       "0.8464320980442758"
      ]
     },
     "execution_count": 192,
     "metadata": {},
     "output_type": "execute_result"
    }
   ],
   "source": [
    "np.std(n30_blksplga_awmix[\"Avg Radius of gyration\"])"
   ]
  },
  {
   "cell_type": "code",
   "execution_count": 193,
   "metadata": {},
   "outputs": [
    {
     "data": {
      "text/html": [
       "<div>\n",
       "<style scoped>\n",
       "    .dataframe tbody tr th:only-of-type {\n",
       "        vertical-align: middle;\n",
       "    }\n",
       "\n",
       "    .dataframe tbody tr th {\n",
       "        vertical-align: top;\n",
       "    }\n",
       "\n",
       "    .dataframe thead th {\n",
       "        text-align: right;\n",
       "    }\n",
       "</style>\n",
       "<table border=\"1\" class=\"dataframe\">\n",
       "  <thead>\n",
       "    <tr style=\"text-align: right;\">\n",
       "      <th></th>\n",
       "      <th>$R_{g}$ [Angstrom] N = 6 PLGA in 0.69 a/w mix</th>\n",
       "      <th>$R_{g}$ [Angstrom] N = 8 PLGA in 0.69 a/w mix</th>\n",
       "      <th>$R_{g}$ [Angstrom] N = 10 PLGA in 0.69 a/w mix</th>\n",
       "      <th>$R_{g}$ [Angstrom] N = 20 PLGA in 0.69 a/w mix</th>\n",
       "      <th>$R_{g}$ [Angstrom] N = 30 PLGA in 0.69 a/w mix</th>\n",
       "    </tr>\n",
       "  </thead>\n",
       "  <tbody>\n",
       "    <tr>\n",
       "      <td>0</td>\n",
       "      <td>7.414166</td>\n",
       "      <td>7.815941</td>\n",
       "      <td>8.517919</td>\n",
       "      <td>10.748443</td>\n",
       "      <td>12.004004</td>\n",
       "    </tr>\n",
       "    <tr>\n",
       "      <td>1</td>\n",
       "      <td>7.660967</td>\n",
       "      <td>8.576357</td>\n",
       "      <td>8.260516</td>\n",
       "      <td>13.252983</td>\n",
       "      <td>10.247977</td>\n",
       "    </tr>\n",
       "    <tr>\n",
       "      <td>2</td>\n",
       "      <td>7.277628</td>\n",
       "      <td>9.197118</td>\n",
       "      <td>10.288552</td>\n",
       "      <td>14.037639</td>\n",
       "      <td>12.827422</td>\n",
       "    </tr>\n",
       "    <tr>\n",
       "      <td>3</td>\n",
       "      <td>7.017058</td>\n",
       "      <td>9.769339</td>\n",
       "      <td>9.598804</td>\n",
       "      <td>12.722609</td>\n",
       "      <td>11.315000</td>\n",
       "    </tr>\n",
       "    <tr>\n",
       "      <td>4</td>\n",
       "      <td>8.123287</td>\n",
       "      <td>8.662676</td>\n",
       "      <td>9.886560</td>\n",
       "      <td>13.682629</td>\n",
       "      <td>11.534671</td>\n",
       "    </tr>\n",
       "  </tbody>\n",
       "</table>\n",
       "</div>"
      ],
      "text/plain": [
       "   $R_{g}$ [Angstrom] N = 6 PLGA in 0.69 a/w mix  \\\n",
       "0                                       7.414166   \n",
       "1                                       7.660967   \n",
       "2                                       7.277628   \n",
       "3                                       7.017058   \n",
       "4                                       8.123287   \n",
       "\n",
       "   $R_{g}$ [Angstrom] N = 8 PLGA in 0.69 a/w mix  \\\n",
       "0                                       7.815941   \n",
       "1                                       8.576357   \n",
       "2                                       9.197118   \n",
       "3                                       9.769339   \n",
       "4                                       8.662676   \n",
       "\n",
       "   $R_{g}$ [Angstrom] N = 10 PLGA in 0.69 a/w mix  \\\n",
       "0                                        8.517919   \n",
       "1                                        8.260516   \n",
       "2                                       10.288552   \n",
       "3                                        9.598804   \n",
       "4                                        9.886560   \n",
       "\n",
       "   $R_{g}$ [Angstrom] N = 20 PLGA in 0.69 a/w mix  \\\n",
       "0                                       10.748443   \n",
       "1                                       13.252983   \n",
       "2                                       14.037639   \n",
       "3                                       12.722609   \n",
       "4                                       13.682629   \n",
       "\n",
       "   $R_{g}$ [Angstrom] N = 30 PLGA in 0.69 a/w mix  \n",
       "0                                       12.004004  \n",
       "1                                       10.247977  \n",
       "2                                       12.827422  \n",
       "3                                       11.315000  \n",
       "4                                       11.534671  "
      ]
     },
     "execution_count": 193,
     "metadata": {},
     "output_type": "execute_result"
    }
   ],
   "source": [
    "rgplga_olig_awmix[r\"$R_{g}$ [Angstrom] N = 30 PLGA in 0.69 a/w mix\"] = n30_blksplga_awmix[\"Avg Radius of gyration\"]\n",
    "rgplga_olig_awmix"
   ]
  },
  {
   "cell_type": "code",
   "execution_count": 194,
   "metadata": {},
   "outputs": [
    {
     "data": {
      "text/html": [
       "<div>\n",
       "<style scoped>\n",
       "    .dataframe tbody tr th:only-of-type {\n",
       "        vertical-align: middle;\n",
       "    }\n",
       "\n",
       "    .dataframe tbody tr th {\n",
       "        vertical-align: top;\n",
       "    }\n",
       "\n",
       "    .dataframe thead th {\n",
       "        text-align: right;\n",
       "    }\n",
       "</style>\n",
       "<table border=\"1\" class=\"dataframe\">\n",
       "  <thead>\n",
       "    <tr style=\"text-align: right;\">\n",
       "      <th></th>\n",
       "      <th>$L_{p}$ [Angstrom] N = 6 PLGA in 0.69 a/w mix</th>\n",
       "      <th>$L_{p}$ [Angstrom] N = 8 PLGA in 0.69 a/w mix</th>\n",
       "      <th>$L_{p}$ [Angstrom] N = 10 PLGA in 0.69 a/w mix</th>\n",
       "      <th>$L_{p}$ [Angstrom] N = 20 PLGA in 0.69 a/w mix</th>\n",
       "      <th>$L_{p}$ [Angstrom] N = 30 PLGA in 0.69 a/w mix</th>\n",
       "    </tr>\n",
       "  </thead>\n",
       "  <tbody>\n",
       "    <tr>\n",
       "      <td>0</td>\n",
       "      <td>31.843280</td>\n",
       "      <td>18.143705</td>\n",
       "      <td>18.415307</td>\n",
       "      <td>28.177639</td>\n",
       "      <td>30.501732</td>\n",
       "    </tr>\n",
       "    <tr>\n",
       "      <td>1</td>\n",
       "      <td>32.793833</td>\n",
       "      <td>26.608497</td>\n",
       "      <td>16.321849</td>\n",
       "      <td>31.988147</td>\n",
       "      <td>21.837076</td>\n",
       "    </tr>\n",
       "    <tr>\n",
       "      <td>2</td>\n",
       "      <td>28.551544</td>\n",
       "      <td>33.523854</td>\n",
       "      <td>29.365548</td>\n",
       "      <td>35.004533</td>\n",
       "      <td>24.571197</td>\n",
       "    </tr>\n",
       "    <tr>\n",
       "      <td>3</td>\n",
       "      <td>25.689959</td>\n",
       "      <td>36.492615</td>\n",
       "      <td>23.457535</td>\n",
       "      <td>26.999779</td>\n",
       "      <td>22.013286</td>\n",
       "    </tr>\n",
       "    <tr>\n",
       "      <td>4</td>\n",
       "      <td>46.557976</td>\n",
       "      <td>29.377310</td>\n",
       "      <td>32.176044</td>\n",
       "      <td>26.221393</td>\n",
       "      <td>24.364050</td>\n",
       "    </tr>\n",
       "  </tbody>\n",
       "</table>\n",
       "</div>"
      ],
      "text/plain": [
       "   $L_{p}$ [Angstrom] N = 6 PLGA in 0.69 a/w mix   \\\n",
       "0                                       31.843280   \n",
       "1                                       32.793833   \n",
       "2                                       28.551544   \n",
       "3                                       25.689959   \n",
       "4                                       46.557976   \n",
       "\n",
       "   $L_{p}$ [Angstrom] N = 8 PLGA in 0.69 a/w mix  \\\n",
       "0                                      18.143705   \n",
       "1                                      26.608497   \n",
       "2                                      33.523854   \n",
       "3                                      36.492615   \n",
       "4                                      29.377310   \n",
       "\n",
       "   $L_{p}$ [Angstrom] N = 10 PLGA in 0.69 a/w mix  \\\n",
       "0                                       18.415307   \n",
       "1                                       16.321849   \n",
       "2                                       29.365548   \n",
       "3                                       23.457535   \n",
       "4                                       32.176044   \n",
       "\n",
       "   $L_{p}$ [Angstrom] N = 20 PLGA in 0.69 a/w mix  \\\n",
       "0                                       28.177639   \n",
       "1                                       31.988147   \n",
       "2                                       35.004533   \n",
       "3                                       26.999779   \n",
       "4                                       26.221393   \n",
       "\n",
       "   $L_{p}$ [Angstrom] N = 30 PLGA in 0.69 a/w mix  \n",
       "0                                       30.501732  \n",
       "1                                       21.837076  \n",
       "2                                       24.571197  \n",
       "3                                       22.013286  \n",
       "4                                       24.364050  "
      ]
     },
     "execution_count": 194,
     "metadata": {},
     "output_type": "execute_result"
    }
   ],
   "source": [
    "pers_plgat_awmix[r\"$L_{p}$ [Angstrom] N = 30 PLGA in 0.69 a/w mix\"] = n30_blksplga_awmix[\"Avg persistence length\"]\n",
    "pers_plgat_awmix"
   ]
  },
  {
   "cell_type": "code",
   "execution_count": 251,
   "metadata": {},
   "outputs": [],
   "source": [
    "rgplga_olig_awmix.to_pickle(\"PLGA_awmix_Rg.pkl\")\n",
    "pers_plgat_awmix.to_pickle(\"PLGA_awmix_Lp.pkl\")"
   ]
  },
  {
   "cell_type": "code",
   "execution_count": 250,
   "metadata": {},
   "outputs": [
    {
     "data": {
      "text/plain": [
       "Text(0.5, -5.3, '$N_{PLGA}$ = 30: $L_{p}$ = 24.7 $\\\\AA$ ± 3.14 $\\\\AA$')"
      ]
     },
     "execution_count": 250,
     "metadata": {},
     "output_type": "execute_result"
    },
    {
     "data": {
      "image/png": "[encoded data removed]",
      "text/plain": [
       "<Figure size 504x504 with 1 Axes>"
      ]
     },
     "metadata": {
      "needs_background": "light"
     },
     "output_type": "display_data"
    }
   ],
   "source": [
    "plt.figure(figsize=(7,7))\n",
    "plt.errorbar(blen_awmix, np.log(cor_n6plga_awmix[0]), yerr=mk_n6p_awmix, color='#CCBE9F', linestyle=\"None\",marker='o',\n",
    "     capsize=5, capthick=1, ecolor='black')\n",
    "plt.errorbar(blen_n8awmix, np.log(cor_n8plga_awmix[0]), yerr=mk_n8p_awmix, color='#601A4A', linestyle=\"None\",marker='o',\n",
    "     capsize=5, capthick=1, ecolor='black')\n",
    "plt.errorbar(blen_n10awmix, np.log(cor_n10plga_awmix[0]), yerr=mk_n10p_awmix, color='#2B6322', linestyle=\"None\",marker='o',\n",
    "     capsize=5, capthick=1, ecolor='black')\n",
    "plt.errorbar(blen_n20awmix, np.log(cor_n20plga_awmix[0]), yerr=mk_n20p_awmix, color='#562A8B', linestyle=\"None\",marker='o',\n",
    "     capsize=5, capthick=1, ecolor='black')\n",
    "plt.errorbar(blen_n30awmix, np.log(cor_n30plga_awmix[0]), yerr=mk_n30p_awmix, color='#1D77CF', linestyle=\"None\",marker='o',\n",
    "     capsize=5, capthick=1, ecolor='black')\n",
    "plt.plot(blen_n30awmix[:15], gg_n6plga_n30awmix[:15], color='#CCBE9F')\n",
    "plt.plot(blen_n30awmix[:15], gg_n8plga_n30awmix[:15], color='#601A4A')\n",
    "plt.plot(blen_n30awmix[:15], gg_n10plga_n30awmix[:15], color='#2B6322')\n",
    "plt.plot(blen_n30awmix[:15], gg_n20plga_n30awmix[:15], color='#562A8B')\n",
    "plt.plot(blen_n30awmix[:15], gg_n30plga_awmix[:15], color='#1D77CF')\n",
    "plt.title(r'Ensemble Averaged ln(Cosine $\\theta$) PLGA in 0.69 a/w mix', fontsize=15, y=1.01)\n",
    "plt.xlabel(r'Bond Length', fontsize=15)\n",
    "plt.ylabel(r'ln$\\left< Cos(\\theta)\\right >$', fontsize=15)\n",
    "plt.ylim(-7,2)\n",
    "plt.xlim(0,165)\n",
    "font = font_manager.FontProperties(family='Arial', style='normal', size='14')\n",
    "plt.tick_params(labelsize=14)\n",
    "plt.text(0.5, -6.92,r'$N_{PLGA}$ = 6: $L_{p}$ = 37.4 $\\AA$ ± 6.91 $\\AA$', fontsize=15, color='#CCBE9F')\n",
    "plt.text(0.5, -6.54,r'$N_{PLGA}$ = 8: $L_{p}$ = 30.8 $\\AA$ ± 5.57 $\\AA$', fontsize=15, color='#601A4A')\n",
    "plt.text(0.5, -6.14,r'$N_{PLGA}$ = 10: $L_{p}$ = 23.9 $\\AA$ ± 6.10 $\\AA$', fontsize=15, color='#2B6322')\n",
    "plt.text(0.5, -5.70,r'$N_{PLGA}$ = 20: $L_{p}$ = 29.7 $\\AA$ ± 3.32 $\\AA$', fontsize=15, color='#562A8B')\n",
    "plt.text(0.5, -5.30,r'$N_{PLGA}$ = 30: $L_{p}$ = 24.7 $\\AA$ ± 3.14 $\\AA$', fontsize=15, color='#1D77CF')"
   ]
  },
  {
   "cell_type": "code",
   "execution_count": null,
   "metadata": {},
   "outputs": [],
   "source": [
    "rgplga_olig_awmix.to_pickle(\"PLGA_awmix_Rg.pkl\")"
   ]
  },
  {
   "cell_type": "code",
   "execution_count": null,
   "metadata": {},
   "outputs": [],
   "source": [
    "pers_plgat_awmix.to_pickle(\"PLGA_awmix_Lp.pkl\")"
   ]
  },
  {
   "cell_type": "markdown",
   "metadata": {},
   "source": [
    "### Fluory Exponent, PLGA/0.69 mol acetone/water system"
   ]
  },
  {
   "cell_type": "code",
   "execution_count": 196,
   "metadata": {},
   "outputs": [],
   "source": [
    "n_plga = np.array([6,8,10,20,30])\n",
    "rg_nplga_awmix = np.array([np.mean(n6_blksplga_awmix[\"Avg Radius of gyration\"])\n",
    "                    ,np.mean(n8_blksplga_awmix[\"Avg Radius of gyration\"]),np.mean(n10_blksplga_awmix[\"Avg Radius of gyration\"])\n",
    "                    ,np.mean(n20_blksplga_awmix[\"Avg Radius of gyration\"]),np.mean(n30_blksplga_awmix[\"Avg Radius of gyration\"])])"
   ]
  },
  {
   "cell_type": "code",
   "execution_count": 197,
   "metadata": {},
   "outputs": [
    {
     "data": {
      "text/plain": [
       "array([ 7.49862124,  8.80428612,  9.31047036, 12.88886031, 11.58581464])"
      ]
     },
     "execution_count": 197,
     "metadata": {},
     "output_type": "execute_result"
    }
   ],
   "source": [
    "rg_nplga_awmix"
   ]
  },
  {
   "cell_type": "code",
   "execution_count": 198,
   "metadata": {},
   "outputs": [
    {
     "data": {
      "text/plain": [
       "array([0.02152494, 0.0323918 , 0.03719691, 0.04105965, 0.03204338])"
      ]
     },
     "execution_count": 198,
     "metadata": {},
     "output_type": "execute_result"
    }
   ],
   "source": [
    "rgawmix_nplga_std = np.array([np.std(np.log10(n6_blksplga_awmix[\"Avg Radius of gyration\"]))\n",
    "                    ,np.std(np.log10(n8_blksplga_awmix[\"Avg Radius of gyration\"]))\n",
    "                        ,np.std(np.log10(n10_blksplga_awmix[\"Avg Radius of gyration\"]))\n",
    "                    ,np.std(np.log10(n20_blksplga_awmix[\"Avg Radius of gyration\"]))\n",
    "                        ,np.std(np.log10(n30_blksplga_awmix[\"Avg Radius of gyration\"]))])\n",
    "rgawmix_nplga_std"
   ]
  },
  {
   "cell_type": "code",
   "execution_count": 199,
   "metadata": {},
   "outputs": [
    {
     "data": {
      "text/plain": [
       "array([ 6,  8, 10, 20, 30])"
      ]
     },
     "execution_count": 199,
     "metadata": {},
     "output_type": "execute_result"
    }
   ],
   "source": [
    "n_plga"
   ]
  },
  {
   "cell_type": "code",
   "execution_count": 200,
   "metadata": {},
   "outputs": [
    {
     "data": {
      "text/plain": [
       "array([0.87498142, 0.94469415, 0.96897162, 1.11021452, 1.06392658])"
      ]
     },
     "execution_count": 200,
     "metadata": {},
     "output_type": "execute_result"
    }
   ],
   "source": [
    "np.log10(rg_nplga_awmix)"
   ]
  },
  {
   "cell_type": "code",
   "execution_count": 201,
   "metadata": {},
   "outputs": [
    {
     "data": {
      "text/plain": [
       "array([0.77815125, 0.90308999, 1.        , 1.30103   , 1.47712125])"
      ]
     },
     "execution_count": 201,
     "metadata": {},
     "output_type": "execute_result"
    }
   ],
   "source": [
    "np.log10(n_plga)"
   ]
  },
  {
   "cell_type": "code",
   "execution_count": 202,
   "metadata": {},
   "outputs": [
    {
     "name": "stdout",
     "output_type": "stream",
     "text": [
      "Model slope:     0.299382378722663\n",
      "Model intercept: 0.6656684741465118\n"
     ]
    }
   ],
   "source": [
    "# From fitting all points, I get best fit \n",
    "from sklearn.linear_model import LinearRegression\n",
    "model_vpawmix = LinearRegression(fit_intercept=True)\n",
    "model_vpawmix.fit(np.log10(n_plga).reshape(-1,1), np.log10(rg_nplga_awmix))\n",
    "# Slope here is in nanometers\n",
    "print(\"Model slope:    \", model_vpawmix.coef_[0])\n",
    "print(\"Model intercept:\", model_vpawmix.intercept_)"
   ]
  },
  {
   "cell_type": "code",
   "execution_count": 203,
   "metadata": {},
   "outputs": [
    {
     "data": {
      "text/plain": [
       "array([0.89863325, 0.9360377 , 0.96505085, 1.05517393, 1.10789255])"
      ]
     },
     "execution_count": 203,
     "metadata": {},
     "output_type": "execute_result"
    }
   ],
   "source": [
    "gg_awmix = model_vpawmix.predict(np.log10(n_plga.reshape(-1,1)))\n",
    "gg_awmix"
   ]
  },
  {
   "cell_type": "code",
   "execution_count": 204,
   "metadata": {},
   "outputs": [
    {
     "name": "stdout",
     "output_type": "stream",
     "text": [
      "Mean Std Error: 0.0011224377137726586\n",
      "R2 score: 0.8423898833906188\n"
     ]
    }
   ],
   "source": [
    "print(\"Mean Std Error:\", sklearn.metrics.mean_squared_error(np.log10(rg_nplga_awmix), gg_awmix))\n",
    "print(\"R2 score:\", sklearn.metrics.r2_score(np.log10(rg_nplga_awmix), gg_awmix))"
   ]
  },
  {
   "cell_type": "code",
   "execution_count": 205,
   "metadata": {},
   "outputs": [
    {
     "data": {
      "text/plain": [
       "array([-0.02365183,  0.00865645,  0.00392077,  0.05504059, -0.04396597])"
      ]
     },
     "execution_count": 205,
     "metadata": {},
     "output_type": "execute_result"
    }
   ],
   "source": [
    "# Residuals between the true y data and model y data \n",
    "resid_vawmix = np.log10(rg_nplga_awmix) - gg_awmix\n",
    "resid_vawmix"
   ]
  },
  {
   "cell_type": "code",
   "execution_count": 206,
   "metadata": {},
   "outputs": [
    {
     "data": {
      "text/plain": [
       "0.334663876760361"
      ]
     },
     "execution_count": 206,
     "metadata": {},
     "output_type": "execute_result"
    }
   ],
   "source": [
    "# How to calculate Sum((Xi - avg(X))^2): X values are the bond length values \n",
    "nt_ttawmix = np.log10(n_plga)\n",
    "nt_ttawmix -= np.mean(nt_ttawmix)\n",
    "nhui_awmix = nt_ttawmix**2\n",
    "np.sum(nhui_awmix)"
   ]
  },
  {
   "cell_type": "code",
   "execution_count": 207,
   "metadata": {},
   "outputs": [
    {
     "data": {
      "text/plain": [
       "2.7764451051977987"
      ]
     },
     "execution_count": 207,
     "metadata": {},
     "output_type": "execute_result"
    }
   ],
   "source": [
    "# t-value with 95 % confidence intervals \n",
    "scipy.stats.t.ppf(0.975, 4)"
   ]
  },
  {
   "cell_type": "code",
   "execution_count": 208,
   "metadata": {},
   "outputs": [
    {
     "data": {
      "text/plain": [
       "0.16079250368765927"
      ]
     },
     "execution_count": 208,
     "metadata": {},
     "output_type": "execute_result"
    }
   ],
   "source": [
    "# How to calculate 95% confidence interval for the slope \n",
    "flc_vawmix = scipy.stats.t.ppf(0.975, 4)*np.sqrt((np.sum(resid_vawmix**2)/len(resid_vawmix))/(np.sum(nhui_awmix)))\n",
    "flc_vawmix"
   ]
  },
  {
   "cell_type": "code",
   "execution_count": 212,
   "metadata": {},
   "outputs": [
    {
     "data": {
      "text/plain": [
       "Text(1.1, 0.95, '$v_{acetone-water}$ = 0.30 ± 0.16')"
      ]
     },
     "execution_count": 212,
     "metadata": {},
     "output_type": "execute_result"
    },
    {
     "data": {
      "image/png": "[encoded data removed]",
      "text/plain": [
       "<Figure size 504x504 with 1 Axes>"
      ]
     },
     "metadata": {
      "needs_background": "light"
     },
     "output_type": "display_data"
    }
   ],
   "source": [
    "plt.figure(figsize=(7,7))\n",
    "plt.errorbar(np.log10(n_plga), np.log10(rg_nplga_awmix), yerr=rgawmix_nplga_std, color='#A58262', linestyle=\"None\",marker='o',\n",
    "     capsize=5, capthick=1, ecolor='black')\n",
    "plt.plot(np.log10(n_plga), gg_awmix, color='#A58262')\n",
    "plt.title(r'Fluory Exponent', fontsize=15)\n",
    "plt.xlabel(r'Log($N_{PLGA}$)', fontsize=15)\n",
    "plt.ylabel(r'Log($R_{g}$)', fontsize=15)\n",
    "plt.tick_params(labelsize=14)\n",
    "plt.text(1.1, 0.95, r'$v_{acetone-water}$ = 0.30 ± 0.16', fontsize=15, color='#A58262')"
   ]
  },
  {
   "cell_type": "code",
   "execution_count": null,
   "metadata": {},
   "outputs": [],
   "source": []
  }
 ],
 "metadata": {
  "kernelspec": {
   "display_name": "Python (ppc_env)",
   "language": "python",
   "name": "ppc_env"
  },
  "language_info": {
   "codemirror_mode": {
    "name": "ipython",
    "version": 3
   },
   "file_extension": ".py",
   "mimetype": "text/x-python",
   "name": "python",
   "nbconvert_exporter": "python",
   "pygments_lexer": "ipython3",
   "version": "3.6.9"
  }
 },
 "nbformat": 4,
 "nbformat_minor": 4
}
