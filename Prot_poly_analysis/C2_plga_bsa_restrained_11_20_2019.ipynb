{
 "cells": [
  {
   "cell_type": "code",
   "execution_count": 1,
   "metadata": {},
   "outputs": [],
   "source": [
    "#import the necessary modules \n",
    "%matplotlib inline \n",
    "import numpy as np \n",
    "import matplotlib.pyplot as plt \n",
    "import pandas as pd \n",
    "#import scipy\n",
    "import sklearn\n",
    "import itertools as it\n",
    "from itertools import cycle \n",
    "import os.path as op\n",
    "import timeit \n",
    "import json\n",
    "from matplotlib import animation\n",
    "import matplotlib.font_manager as font_manager\n",
    "from collections import namedtuple\n",
    "#from functools import partial\n",
    "#from pathlib import Path"
   ]
  },
  {
   "cell_type": "code",
   "execution_count": 2,
   "metadata": {},
   "outputs": [],
   "source": [
    "# Set plotting style\n",
    "plt.style.use('seaborn-white')\n",
    "\n",
    "from ipywidgets import interact, interactive, fixed, interact_manual\n",
    "import ipywidgets as widgets\n",
    "#import matplotlib.pyplot as plt"
   ]
  },
  {
   "cell_type": "code",
   "execution_count": 3,
   "metadata": {},
   "outputs": [],
   "source": [
    "%matplotlib widget"
   ]
  },
  {
   "cell_type": "code",
   "execution_count": 4,
   "metadata": {},
   "outputs": [
    {
     "data": {
      "text/plain": [
       "4"
      ]
     },
     "execution_count": 4,
     "metadata": {},
     "output_type": "execute_result"
    }
   ],
   "source": [
    "import multiprocessing as m_proc\n",
    "m_proc.cpu_count()"
   ]
  },
  {
   "cell_type": "markdown",
   "metadata": {},
   "source": [
    "### Now use MD Analysis to calculate no. of frames a center PLGA residues and terminal PLGA residue is with 4 Angstroms of BSA, CONFIGURATION 2"
   ]
  },
  {
   "cell_type": "markdown",
   "metadata": {},
   "source": [
    "Import MDAnalysis"
   ]
  },
  {
   "cell_type": "code",
   "execution_count": 5,
   "metadata": {},
   "outputs": [],
   "source": [
    "from prot_polymer_analysis import get_protresd_list, aa_frmcount, grptwocnt_aa, gtwo_trjcnt \n",
    "from prot_polymer_analysis import frac_cont, bavg_frac_cnt, prot_poly_cntmovie, AA_list_org"
   ]
  },
  {
   "cell_type": "code",
   "execution_count": 6,
   "metadata": {},
   "outputs": [],
   "source": [
    "# Import MDAnalysis\n",
    "import MDAnalysis as mda\n",
    "import MDAnalysis.analysis.distances as maa_dist"
   ]
  },
  {
   "cell_type": "markdown",
   "metadata": {},
   "source": [
    "### First table will be total fractional contacts and oligomer occupancy values for each Rg value "
   ]
  },
  {
   "cell_type": "markdown",
   "metadata": {},
   "source": [
    "#### Distance-based analysis \n",
    "\n",
    "Find residues that have at least one atom within a cutoff $d = 4.0$ Angstrom near water molecules in BSA/water simulation\n",
    "\n",
    "Calculate the number of surface bsa residues from a 1 ns BSA/water simulation"
   ]
  },
  {
   "cell_type": "code",
   "execution_count": 7,
   "metadata": {},
   "outputs": [],
   "source": [
    "#Units of Angstroms \n",
    "dmax = 4.0 "
   ]
  },
  {
   "cell_type": "code",
   "execution_count": 8,
   "metadata": {},
   "outputs": [],
   "source": [
    "def middle_of_band(band_start, band_stop, plot_min=0, plot_max=60):\n",
    "    half_way = (band_stop - band_start) / 2\n",
    "    mid_band = band_start + half_way\n",
    "    plot_fraction = (mid_band - plot_min) / (plot_max - plot_min)\n",
    "\n",
    "    return plot_fraction"
   ]
  },
  {
   "cell_type": "markdown",
   "metadata": {},
   "source": [
    "# 1.2 nm PLGA restrained Rg 100 ns trajectory C2"
   ]
  },
  {
   "cell_type": "markdown",
   "metadata": {},
   "source": [
    "Load the rg = 1.2 nm (3 PLGA N = 20 oligomer/BSA system) "
   ]
  },
  {
   "cell_type": "code",
   "execution_count": 9,
   "metadata": {},
   "outputs": [],
   "source": [
    "# Set up the MD Simulation, Make sure you do gmx trjconv -s topol.tpr -f confout.gro  -o new_conf.pdb -dump 0 -n bsaplga_nk.ndx \n",
    "# to generate a new pdb file that contains unique chain identifiers \n",
    "u_pn20_C2 = mda.Universe(\"../C2_bsa_n20plga_inwater/C2_plgaRes/1.2nm_prodC2/1.2nmC2_bplga.pdb\",\n",
    "                      \"../C2_bsa_n20plga_inwater/C2_plgaRes/1.2nm_prodC2/nowat_12nmC2plga.xtc\")"
   ]
  },
  {
   "cell_type": "code",
   "execution_count": 10,
   "metadata": {},
   "outputs": [
    {
     "data": {
      "text/plain": [
       "<Universe with 10145 atoms>"
      ]
     },
     "execution_count": 10,
     "metadata": {},
     "output_type": "execute_result"
    }
   ],
   "source": [
    "u_pn20_C2"
   ]
  },
  {
   "cell_type": "markdown",
   "metadata": {},
   "source": [
    "Check that we are on the first frame"
   ]
  },
  {
   "cell_type": "code",
   "execution_count": 11,
   "metadata": {},
   "outputs": [
    {
     "data": {
      "text/plain": [
       "0"
      ]
     },
     "execution_count": 11,
     "metadata": {},
     "output_type": "execute_result"
    }
   ],
   "source": [
    "u_pn20_C2.trajectory.frame"
   ]
  },
  {
   "cell_type": "code",
   "execution_count": 12,
   "metadata": {},
   "outputs": [
    {
     "data": {
      "text/plain": [
       "10001"
      ]
     },
     "execution_count": 12,
     "metadata": {},
     "output_type": "execute_result"
    }
   ],
   "source": [
    "pn20_lenC2 = len(u_pn20_C2.trajectory)\n",
    "pn20_lenC2"
   ]
  },
  {
   "cell_type": "code",
   "execution_count": 13,
   "metadata": {},
   "outputs": [
    {
     "data": {
      "text/plain": [
       "<AtomGroup with 543 atoms>"
      ]
     },
     "execution_count": 13,
     "metadata": {},
     "output_type": "execute_result"
    }
   ],
   "source": [
    "# Select one polymer chain, heavy atoms only \n",
    "#all_pn20 = u_pn20.select_atoms(\"(resname sPLG PLG tPLG and segid B) and not type H\")\n",
    "\n",
    "#Select all the PLGA residues, heavy atoms only\n",
    "all_pn20C2 = u_pn20_C2.select_atoms(\"resname sPLG PLG tPLG and not type H\")\n",
    "all_pn20C2"
   ]
  },
  {
   "cell_type": "code",
   "execution_count": 15,
   "metadata": {},
   "outputs": [
    {
     "data": {
      "text/plain": [
       "<AtomGroup with 4653 atoms>"
      ]
     },
     "execution_count": 15,
     "metadata": {},
     "output_type": "execute_result"
    }
   ],
   "source": [
    "# Select BSA residues, heavy atoms only \n",
    "protC2 = u_pn20_C2.select_atoms(\"protein and not type H\")\n",
    "protC2"
   ]
  },
  {
   "cell_type": "markdown",
   "metadata": {},
   "source": [
    "Calculate AA frame counts for PLGA residues, 1.2 nm RG restraint, 100ns trajectory "
   ]
  },
  {
   "cell_type": "code",
   "execution_count": 16,
   "metadata": {},
   "outputs": [
    {
     "data": {
      "text/plain": [
       "530.191673851572"
      ]
     },
     "execution_count": 16,
     "metadata": {},
     "output_type": "execute_result"
    }
   ],
   "source": [
    "#dmax = 4.0, protein group(4653 atoms), plga atom group (543 atoms), took 381.6 s (6 min 36s on 4 cores)\n",
    "start = 0\n",
    "end = pn20_lenC2 - 1\n",
    "s_time = timeit.default_timer()\n",
    "h2di_12nmC2 = aa_frmcount(protC2, all_pn20C2, dmax, u_pn20_C2, start, end)\n",
    "timeit.default_timer() - s_time"
   ]
  },
  {
   "cell_type": "code",
   "execution_count": 17,
   "metadata": {},
   "outputs": [
    {
     "data": {
      "text/plain": [
       "182"
      ]
     },
     "execution_count": 17,
     "metadata": {},
     "output_type": "execute_result"
    }
   ],
   "source": [
    "len(h2di_12nmC2)"
   ]
  },
  {
   "cell_type": "code",
   "execution_count": 19,
   "metadata": {},
   "outputs": [
    {
     "data": {
      "text/html": [
       "<div>\n",
       "<style scoped>\n",
       "    .dataframe tbody tr th:only-of-type {\n",
       "        vertical-align: middle;\n",
       "    }\n",
       "\n",
       "    .dataframe tbody tr th {\n",
       "        vertical-align: top;\n",
       "    }\n",
       "\n",
       "    .dataframe thead th {\n",
       "        text-align: right;\n",
       "    }\n",
       "</style>\n",
       "<table border=\"1\" class=\"dataframe\">\n",
       "  <thead>\n",
       "    <tr style=\"text-align: right;\">\n",
       "      <th></th>\n",
       "      <th>BSA_des_res</th>\n",
       "      <th>mda_occ_1.2nmC2</th>\n",
       "    </tr>\n",
       "  </thead>\n",
       "  <tbody>\n",
       "    <tr>\n",
       "      <th>0</th>\n",
       "      <td>&lt;Residue ASP, 1&gt;</td>\n",
       "      <td>0.42</td>\n",
       "    </tr>\n",
       "    <tr>\n",
       "      <th>1</th>\n",
       "      <td>&lt;Residue THR, 2&gt;</td>\n",
       "      <td>0.40</td>\n",
       "    </tr>\n",
       "    <tr>\n",
       "      <th>2</th>\n",
       "      <td>&lt;Residue HIS, 3&gt;</td>\n",
       "      <td>0.28</td>\n",
       "    </tr>\n",
       "    <tr>\n",
       "      <th>3</th>\n",
       "      <td>&lt;Residue LYS, 4&gt;</td>\n",
       "      <td>0.31</td>\n",
       "    </tr>\n",
       "    <tr>\n",
       "      <th>4</th>\n",
       "      <td>&lt;Residue SER, 5&gt;</td>\n",
       "      <td>0.05</td>\n",
       "    </tr>\n",
       "    <tr>\n",
       "      <th>...</th>\n",
       "      <td>...</td>\n",
       "      <td>...</td>\n",
       "    </tr>\n",
       "    <tr>\n",
       "      <th>578</th>\n",
       "      <td>&lt;Residue GLN, 579&gt;</td>\n",
       "      <td>0.00</td>\n",
       "    </tr>\n",
       "    <tr>\n",
       "      <th>579</th>\n",
       "      <td>&lt;Residue THR, 580&gt;</td>\n",
       "      <td>0.00</td>\n",
       "    </tr>\n",
       "    <tr>\n",
       "      <th>580</th>\n",
       "      <td>&lt;Residue ALA, 581&gt;</td>\n",
       "      <td>0.00</td>\n",
       "    </tr>\n",
       "    <tr>\n",
       "      <th>581</th>\n",
       "      <td>&lt;Residue LEU, 582&gt;</td>\n",
       "      <td>0.00</td>\n",
       "    </tr>\n",
       "    <tr>\n",
       "      <th>582</th>\n",
       "      <td>&lt;Residue ALA, 583&gt;</td>\n",
       "      <td>0.00</td>\n",
       "    </tr>\n",
       "  </tbody>\n",
       "</table>\n",
       "<p>583 rows × 2 columns</p>\n",
       "</div>"
      ],
      "text/plain": [
       "            BSA_des_res  mda_occ_1.2nmC2\n",
       "0      <Residue ASP, 1>             0.42\n",
       "1      <Residue THR, 2>             0.40\n",
       "2      <Residue HIS, 3>             0.28\n",
       "3      <Residue LYS, 4>             0.31\n",
       "4      <Residue SER, 5>             0.05\n",
       "..                  ...              ...\n",
       "578  <Residue GLN, 579>             0.00\n",
       "579  <Residue THR, 580>             0.00\n",
       "580  <Residue ALA, 581>             0.00\n",
       "581  <Residue LEU, 582>             0.00\n",
       "582  <Residue ALA, 583>             0.00\n",
       "\n",
       "[583 rows x 2 columns]"
      ]
     },
     "execution_count": 19,
     "metadata": {},
     "output_type": "execute_result"
    }
   ],
   "source": [
    "pr_res_C2 = list(protC2.residues)\n",
    "ss_res_C2 = [str(row) for row in pr_res_C2]\n",
    "rkg_C2 = {key:h2di_12nmC2[key][1] for key, value in h2di_12nmC2.items()}\n",
    "plgC2_1_2nm_occ = pd.DataFrame(data=ss_res_C2, columns=[\"BSA_des_res\"])\n",
    "plgC2_1_2nm_occ['mda_occ_1.2nmC2'] = plgC2_1_2nm_occ['BSA_des_res'].map(rkg_C2)\n",
    "plgC2_1_2nm_occ['mda_occ_1.2nmC2'] = plgC2_1_2nm_occ['mda_occ_1.2nmC2'].replace('nan', np.nan).fillna(0)\n",
    "plgC2_1_2nm_occ['mda_occ_1.2nmC2'] = plgC2_1_2nm_occ['mda_occ_1.2nmC2'].round(2)\n",
    "plgC2_1_2nm_occ"
   ]
  },
  {
   "cell_type": "code",
   "execution_count": 20,
   "metadata": {},
   "outputs": [
    {
     "data": {
      "text/plain": [
       "0      0.42\n",
       "1      0.40\n",
       "2      0.28\n",
       "3      0.31\n",
       "4      0.05\n",
       "       ... \n",
       "541    0.01\n",
       "543    0.36\n",
       "544    0.07\n",
       "546    0.03\n",
       "547    0.02\n",
       "Name: mda_occ_1.2nmC2, Length: 113, dtype: float64"
      ]
     },
     "execution_count": 20,
     "metadata": {},
     "output_type": "execute_result"
    }
   ],
   "source": [
    "plgC2_1_2nm_occ['mda_occ_1.2nmC2'][plgC2_1_2nm_occ['mda_occ_1.2nmC2'] != 0]"
   ]
  },
  {
   "cell_type": "code",
   "execution_count": 21,
   "metadata": {},
   "outputs": [],
   "source": [
    "bsa_C2 = np.array(list(protC2.resids)) # shape is 4652\n",
    "mC2_occ_12r = np.array(list(plgC2_1_2nm_occ['mda_occ_1.2nmC2'])) # shape is 583\n",
    "mC2_occ = np.zeros(shape=(4653))\n",
    "at_indC2 = np.where(bsa_C2[:-1] != bsa_C2[1:])[0]\n",
    "at_in_nwC2 = np.sort(np.append([0,4653],at_indC2))\n",
    "nw_v = 0\n",
    "for i in range(583):\n",
    "    b = at_in_nwC2[i+1] +1\n",
    "    mC2_occ[nw_v:b] = mC2_occ_12r[i]\n",
    "    nw_v = at_in_nwC2[i+1] + 1 "
   ]
  },
  {
   "cell_type": "code",
   "execution_count": 22,
   "metadata": {},
   "outputs": [
    {
     "data": {
      "text/plain": [
       "(array([   0,    1,    2,    3,    4,    5,    6,    7,    8,    9,   10,\n",
       "          11,   12,   13,   14,   15,   16,   17,   18,   19,   20,   21,\n",
       "          22,   23,   24,   25,   26,   27,   28,   29,   30,   31,   32,\n",
       "          33,   34,   35,   36,   37,   38,   39,   40,   41,   42,   43,\n",
       "          44,   45,   46,   47,   48,   57,   58,   59,   60,   61,   62,\n",
       "          63,   64,   65,   66,   67,   68,   69,   70,   71,   83,   84,\n",
       "          85,   86,   87,   88,   89,   90,   91,   92,   93,   94,   95,\n",
       "          96,   97,   98,   99,  100,  101,  102,  103,  104,  105,  106,\n",
       "         107,  108,  109,  110,  111,  112,  113,  114,  115,  116,  117,\n",
       "         118,  119,  120,  121,  122,  123,  124,  125,  126,  127,  128,\n",
       "         129,  130,  131,  132,  133,  134,  135,  136,  137,  138,  139,\n",
       "         140,  141,  142,  143,  144,  145,  146,  147,  148,  149,  150,\n",
       "         389,  390,  391,  392,  393,  394,  395,  396,  397,  414,  415,\n",
       "         416,  417,  418,  419,  420,  421,  422,  423,  424,  425,  426,\n",
       "         427,  428,  429,  430,  431,  432,  433,  434,  435,  436,  437,\n",
       "         438,  439,  440,  441,  442,  443,  444,  445,  446,  447,  448,\n",
       "         449,  450,  451,  452,  453,  454,  455,  456,  457,  458,  459,\n",
       "         460,  461,  462,  463,  464,  465,  466,  467,  468,  469,  470,\n",
       "         471,  472,  473,  474,  475,  476,  477,  478,  479,  480,  481,\n",
       "         482,  483,  484,  485,  486,  487,  488,  489,  496,  497,  498,\n",
       "         499,  500,  501,  502,  503,  504,  505,  506,  507,  508,  509,\n",
       "         510,  511,  512,  513,  514,  515,  516,  517,  518,  519,  528,\n",
       "         529,  530,  531,  532,  533,  534,  535,  536,  537,  538,  539,\n",
       "         540,  541,  542,  543,  544,  568,  569,  570,  571,  572,  573,\n",
       "         574,  575,  593,  594,  595,  596,  597,  598,  599,  600,  601,\n",
       "         602,  603,  604,  605,  606,  607,  608,  609,  610,  611,  612,\n",
       "         613,  614,  615,  616,  617,  618,  619,  693,  694,  695,  696,\n",
       "         697,  698,  699,  700,  701,  702,  703,  704,  705,  712,  713,\n",
       "         714,  715,  716,  717,  718,  719,  720,  721,  722,  723,  724,\n",
       "         725,  726,  727,  728,  729,  730,  731,  732,  733,  734,  735,\n",
       "         736,  737,  738,  739,  740,  741,  742,  743,  744,  745,  746,\n",
       "         747,  748,  749,  750,  751,  752,  753,  754,  755,  756,  757,\n",
       "         758,  759,  760,  761,  762,  763,  764,  765,  766,  767,  768,\n",
       "         769,  770,  771,  772,  773,  774,  775,  776,  777,  778,  779,\n",
       "         780,  781,  782,  783,  784,  785,  786,  787,  788,  948,  949,\n",
       "         950,  951,  952,  953,  954,  955,  994,  995,  996,  997,  998,\n",
       "         999, 1000, 1001, 1002, 1003, 1004, 1005, 1006, 1007, 1008, 1009,\n",
       "        1010, 1011, 1012, 1013, 1027, 1028, 1029, 1030, 1031, 1032, 1033,\n",
       "        1034, 1035, 1036, 1037, 1038, 1039, 1040, 1041, 1042, 1043, 1044,\n",
       "        1065, 1066, 1067, 1068, 1069, 1070, 1071, 1072, 1073, 1074, 1075,\n",
       "        1076, 1077, 1078, 1249, 1250, 1251, 1252, 1253, 1254, 1255, 1256,\n",
       "        1281, 1282, 1283, 1284, 1285, 1286, 1287, 1288, 1289, 1290, 1291,\n",
       "        1292, 1293, 1294, 1295, 1296, 1297, 1298, 1299, 1300, 1301, 1302,\n",
       "        1315, 1316, 1317, 1318, 1319, 1320, 1321, 1322, 1323, 1324, 1325,\n",
       "        1326, 1345, 1346, 1347, 1348, 1349, 1350, 1351, 1352, 1353, 1354,\n",
       "        1355, 1356, 1357, 1358, 1359, 1360, 1361, 1362, 1363, 1364, 1365,\n",
       "        1366, 1367, 1368, 1369, 1370, 1371, 1372, 1373, 1374, 1375, 1376,\n",
       "        1377, 1378, 1379, 1380, 1381, 1382, 1383, 1384, 1385, 1386, 1387,\n",
       "        1388, 1389, 1390, 1391, 1392, 1393, 1394, 1395, 1396, 1397, 1398,\n",
       "        1399, 1400, 1401, 1402, 1403, 1404, 1405, 1406, 1407, 1408, 1409,\n",
       "        1410, 1411, 1412, 1413, 1414, 1419, 1420, 1421, 1422, 1423, 1424,\n",
       "        1425, 1426, 1427, 1428, 1429, 1446, 1447, 1448, 1449, 1450, 1451,\n",
       "        1452, 1453, 1454, 1455, 1456, 1457, 1458, 1459, 1460, 1461, 1629,\n",
       "        1630, 1631, 1632, 1633, 1634, 1635, 1636, 1637, 1638, 1639, 1640,\n",
       "        1641, 1642, 1643, 1644, 1645, 1646, 1647, 1648, 1649, 1650, 1651,\n",
       "        1652, 1653, 1654, 1655, 1656, 1657, 1658, 1659, 1660, 1661, 1662,\n",
       "        1663, 1664, 1665, 1666, 1667, 1668, 1669, 1670, 1671, 1672, 1673,\n",
       "        1674, 1675, 1676, 1677, 1678, 1954, 1955, 1956, 1957, 1958, 1959,\n",
       "        1960, 1961, 1962, 1984, 1985, 1986, 1987, 1988, 1989, 1990, 1991,\n",
       "        1992, 1993, 2146, 2147, 2148, 2149, 2150, 2151, 2152, 2153, 2154,\n",
       "        2207, 2208, 2209, 2210, 2211, 2212, 2213, 2214, 2215, 2216, 2217,\n",
       "        2218, 2219, 2220, 2221, 2222, 2223, 2224, 2231, 2232, 2233, 2234,\n",
       "        2235, 2236, 2237, 2238, 2239, 2240, 2241, 2242, 2243, 2244, 2245,\n",
       "        2246, 2247, 2248, 2249, 2250, 2251, 2252, 2253, 2254, 2255, 2256,\n",
       "        2257, 2258, 2259, 2260, 2261, 2262, 2263, 2264, 2265, 2266, 2267,\n",
       "        2268, 2269, 2270, 2271, 2272, 2273, 2274, 2275, 2276, 2277, 2278,\n",
       "        2279, 2280, 2281, 2282, 2283, 2284, 2285, 2286, 2287, 2288, 2289,\n",
       "        2290, 2291, 2292, 2293, 2294, 3146, 3147, 3148, 3149, 3150, 3151,\n",
       "        3152, 3153, 3154, 3155, 3156, 3157, 3158, 3159, 3160, 3161, 3162,\n",
       "        3174, 3175, 3176, 3177, 3178, 3179, 3180, 3181, 3182, 3183, 3184,\n",
       "        3185, 3186, 3187, 3188, 3189, 3190, 3191, 3192, 3193, 3194, 3195,\n",
       "        3196, 3197, 3198, 3199, 3200, 3201, 3202, 3203, 3213, 3214, 3215,\n",
       "        3216, 3217, 3218, 3219, 3220, 3221, 3222, 3223, 3224, 3225, 3226,\n",
       "        3227, 3228, 3249, 3250, 3251, 3252, 3253, 3254, 3255, 3256, 3257,\n",
       "        3258, 3259, 3260, 3261, 3278, 3279, 3280, 3281, 3282, 3283, 3284,\n",
       "        3285, 3286, 3287, 3288, 3289, 3290, 3291, 3292, 3293, 3294, 3295,\n",
       "        4316, 4317, 4318, 4319, 4320, 4321, 4322, 4323, 4324, 4325, 4326,\n",
       "        4327, 4328, 4329, 4330, 4331, 4332, 4333, 4334, 4335, 4336, 4337,\n",
       "        4338, 4339, 4340, 4341, 4342, 4343, 4344, 4345, 4346, 4347, 4348,\n",
       "        4349, 4358, 4359, 4360, 4361, 4362, 4363, 4364, 4365, 4366, 4367,\n",
       "        4368, 4369, 4370, 4371, 4372, 4373, 4381, 4382, 4383, 4384, 4385,\n",
       "        4386, 4387, 4388, 4389, 4390, 4391, 4392, 4393, 4394, 4395, 4396,\n",
       "        4397]),)"
      ]
     },
     "execution_count": 22,
     "metadata": {},
     "output_type": "execute_result"
    }
   ],
   "source": [
    "np.nonzero(mC2_occ)"
   ]
  },
  {
   "cell_type": "markdown",
   "metadata": {},
   "source": [
    "### Visualize Occupanct on protein "
   ]
  },
  {
   "cell_type": "code",
   "execution_count": 23,
   "metadata": {},
   "outputs": [
    {
     "data": {
      "text/plain": [
       "array([0.42, 0.42, 0.42, ..., 0.  , 0.  , 0.  ])"
      ]
     },
     "execution_count": 23,
     "metadata": {},
     "output_type": "execute_result"
    }
   ],
   "source": [
    "protC2.occupancies = mC2_occ\n",
    "protC2.occupancies"
   ]
  },
  {
   "cell_type": "code",
   "execution_count": 24,
   "metadata": {},
   "outputs": [],
   "source": [
    "with mda.Writer(\"prot_12nmC2.pdb\") as pdb:\n",
    "    pdb.write(protC2)"
   ]
  },
  {
   "cell_type": "markdown",
   "metadata": {},
   "source": [
    "### Residue Importance: 1.2 nm restrained C2"
   ]
  },
  {
   "cell_type": "code",
   "execution_count": 25,
   "metadata": {},
   "outputs": [],
   "source": [
    "# Need to fix function, the residue number are not counting the other 2 PLGA oligomers cuz of same resid number\n",
    "trj_ppmap_12nmC2 = prot_poly_cntmovie(protC2, all_pn20C2, dmax, u_pn20_C2, 0, 10000)\n",
    "#trj_ppmap_12nm_chC = prot_poly_cntmovie(prot, all_pn20_C, dmax, u_pn20, 0, 10000)"
   ]
  },
  {
   "cell_type": "code",
   "execution_count": 27,
   "metadata": {},
   "outputs": [],
   "source": [
    "np.save('1.2nmC2_bplgaRes.npy', trj_ppmap_12nmC2)    # .npy extension is added if not given"
   ]
  },
  {
   "cell_type": "code",
   "execution_count": null,
   "metadata": {},
   "outputs": [],
   "source": [
    "trj_ppmap_12nmC2 = np.load(\"1.2nmC2_bplgares.npy\", allow_pickle=True)"
   ]
  },
  {
   "cell_type": "code",
   "execution_count": 28,
   "metadata": {},
   "outputs": [
    {
     "data": {
      "text/plain": [
       "(583, 60)"
      ]
     },
     "execution_count": 28,
     "metadata": {},
     "output_type": "execute_result"
    }
   ],
   "source": [
    "trj_ppmap_12nmC2[0].shape"
   ]
  },
  {
   "cell_type": "code",
   "execution_count": 29,
   "metadata": {},
   "outputs": [
    {
     "data": {
      "text/plain": [
       "0.0"
      ]
     },
     "execution_count": 29,
     "metadata": {},
     "output_type": "execute_result"
    }
   ],
   "source": [
    "np.sum(trj_ppmap_12nmC2[1000][0])"
   ]
  },
  {
   "cell_type": "code",
   "execution_count": 30,
   "metadata": {},
   "outputs": [
    {
     "data": {
      "text/plain": [
       "(10000,)"
      ]
     },
     "execution_count": 30,
     "metadata": {},
     "output_type": "execute_result"
    }
   ],
   "source": [
    "kj = np.zeros(shape=(10000, 583))\n",
    "kj[:,582].shape"
   ]
  },
  {
   "cell_type": "code",
   "execution_count": 31,
   "metadata": {},
   "outputs": [],
   "source": [
    "pp_12nmC2_ct = np.zeros(shape=(10000, 583))\n",
    "for i in range(10000):\n",
    "    for j in range(583):\n",
    "        pp_12nmC2_ct[i][j] = np.sum(trj_ppmap_12nmC2[i][j])"
   ]
  },
  {
   "cell_type": "code",
   "execution_count": 33,
   "metadata": {},
   "outputs": [],
   "source": [
    "ppC2_12nmtot = np.zeros(shape=(583))\n",
    "for i in range(583):\n",
    "    ppC2_12nmtot[i] = np.sum(pp_12nmC2_ct[:,i])\n",
    "#pp_12nmtot"
   ]
  },
  {
   "cell_type": "code",
   "execution_count": 34,
   "metadata": {},
   "outputs": [
    {
     "data": {
      "text/plain": [
       "(array([  0,   1,   2,   3,   4,   5,   7,   8,   9,  10,  11,  12,  13,\n",
       "         14,  15,  16,  17,  19,  20,  40,  44,  47,  48,  50,  51,  52,\n",
       "         53,  54,  55,  56,  57,  58,  59,  60,  61,  62,  63,  64,  65,\n",
       "         66,  67,  70,  71,  72,  73,  74,  75,  76,  77,  79,  80,  81,\n",
       "         87,  88,  90,  91,  92,  93,  94,  95,  96,  97,  98,  99, 100,\n",
       "        119, 120, 123, 125, 126, 127, 129, 130, 133, 153, 154, 156, 157,\n",
       "        158, 160, 161, 162, 164, 165, 166, 167, 168, 169, 170, 171, 172,\n",
       "        174, 175, 178, 179, 201, 202, 203, 204, 205, 206, 227, 231, 235,\n",
       "        238, 241, 245, 247, 250, 257, 260, 261, 263, 264, 266, 267, 271,\n",
       "        272, 273, 274, 275, 277, 278, 279, 280, 281, 282, 283, 284, 301,\n",
       "        319, 384, 388, 391, 392, 393, 394, 395, 396, 397, 399, 400, 401,\n",
       "        403, 404, 407, 408, 433, 437, 502, 516, 519, 538, 539, 540, 541,\n",
       "        542, 543, 544, 546, 547, 548, 550, 554, 555, 557, 558, 559, 560,\n",
       "        561, 564, 567, 568, 571, 572, 579, 582]),)"
      ]
     },
     "execution_count": 34,
     "metadata": {},
     "output_type": "execute_result"
    }
   ],
   "source": [
    "np.nonzero(ppC2_12nmtot)"
   ]
  },
  {
   "cell_type": "code",
   "execution_count": 35,
   "metadata": {},
   "outputs": [
    {
     "data": {
      "application/vnd.jupyter.widget-view+json": {
       "model_id": "4dfae37764534517b970a8e3b06c8641",
       "version_major": 2,
       "version_minor": 0
      },
      "text/plain": [
       "Canvas(toolbar=Toolbar(toolitems=[('Home', 'Reset original view', 'home', 'home'), ('Back', 'Back to previous …"
      ]
     },
     "metadata": {},
     "output_type": "display_data"
    },
    {
     "data": {
      "text/plain": [
       "Text(0.5, 0, 'BSA Residue ID')"
      ]
     },
     "execution_count": 35,
     "metadata": {},
     "output_type": "execute_result"
    }
   ],
   "source": [
    "y_pos = np.arange(583) + 1\n",
    "wid = np.zeros(shape=583)\n",
    "wid += 1.5\n",
    "#wid\n",
    "fig = plt.figure(figsize=(12,12))\n",
    "fig.canvas.layout.width = '800px'\n",
    "fig.canvas.layout.height = '700px'\n",
    "plt.bar(y_pos, ppC2_12nmtot/np.sum(ppC2_12nmtot), align='center',width=wid, alpha=0.3, color='#1D77CF', label='1.2 nm PLGA')\n",
    "plt.title(\"BSA in water with PLGA Restrained Config. 2, 100 ns\", fontsize=18)\n",
    "plt.xticks(fontsize=14)\n",
    "plt.yticks(fontsize=14)\n",
    "plt.xlim([0,600])\n",
    "plt.ylim([0,0.16])\n",
    "plt.legend(fontsize=14)\n",
    "plt.ylabel(r'Normalized Total No. of PLGA contacts', fontsize=15)\n",
    "plt.xlabel(r'BSA Residue ID', fontsize=15)"
   ]
  },
  {
   "cell_type": "markdown",
   "metadata": {},
   "source": [
    "### Total number of residues that are within 4 angstroms of a PLGA oligomer residue within a 100 ns trajectory block, C2"
   ]
  },
  {
   "cell_type": "code",
   "execution_count": 36,
   "metadata": {},
   "outputs": [],
   "source": [
    "a_a = [\"GLY\",\"ALA\",\"VAL\",\"LEU\",\"ILE\",\"MET\",\"PHE\",\"TRP\",\"PRO\",\"SER\",\"THR\",\"CYS\",\"TYR\",\"ASN\",\"GLN\",\"ASP\"\n",
    "               ,\"GLU\",\"LYS\",\"ARG\",\"HIS\"]"
   ]
  },
  {
   "cell_type": "code",
   "execution_count": 37,
   "metadata": {},
   "outputs": [],
   "source": [
    "# This code chunk gets the BSA residues and their corresponding number in a pandas dataframe \n",
    "red_bsa = []\n",
    "bh = np.arange(0,584)\n",
    "for i in range(583):\n",
    "    b_str = str(list(protC2.residues[i:i+1]))\n",
    "    if str(bh[i+1]) in b_str: \n",
    "        red_bsa.append(str(b_str[10:13])+\" \"+str(bh[i+1]))"
   ]
  },
  {
   "cell_type": "code",
   "execution_count": 39,
   "metadata": {},
   "outputs": [
    {
     "data": {
      "text/html": [
       "<div>\n",
       "<style scoped>\n",
       "    .dataframe tbody tr th:only-of-type {\n",
       "        vertical-align: middle;\n",
       "    }\n",
       "\n",
       "    .dataframe tbody tr th {\n",
       "        vertical-align: top;\n",
       "    }\n",
       "\n",
       "    .dataframe thead th {\n",
       "        text-align: right;\n",
       "    }\n",
       "</style>\n",
       "<table border=\"1\" class=\"dataframe\">\n",
       "  <thead>\n",
       "    <tr style=\"text-align: right;\">\n",
       "      <th></th>\n",
       "      <th>BSA_des_res</th>\n",
       "      <th>mda_plga_frm_1.2nmC2</th>\n",
       "    </tr>\n",
       "  </thead>\n",
       "  <tbody>\n",
       "    <tr>\n",
       "      <th>578</th>\n",
       "      <td>GLN 579</td>\n",
       "      <td>0.0</td>\n",
       "    </tr>\n",
       "    <tr>\n",
       "      <th>579</th>\n",
       "      <td>THR 580</td>\n",
       "      <td>8.0</td>\n",
       "    </tr>\n",
       "    <tr>\n",
       "      <th>580</th>\n",
       "      <td>ALA 581</td>\n",
       "      <td>0.0</td>\n",
       "    </tr>\n",
       "    <tr>\n",
       "      <th>581</th>\n",
       "      <td>LEU 582</td>\n",
       "      <td>0.0</td>\n",
       "    </tr>\n",
       "    <tr>\n",
       "      <th>582</th>\n",
       "      <td>ALA 583</td>\n",
       "      <td>8.0</td>\n",
       "    </tr>\n",
       "  </tbody>\n",
       "</table>\n",
       "</div>"
      ],
      "text/plain": [
       "    BSA_des_res  mda_plga_frm_1.2nmC2\n",
       "578     GLN 579                   0.0\n",
       "579     THR 580                   8.0\n",
       "580     ALA 581                   0.0\n",
       "581     LEU 582                   0.0\n",
       "582     ALA 583                   8.0"
      ]
     },
     "execution_count": 39,
     "metadata": {},
     "output_type": "execute_result"
    }
   ],
   "source": [
    "pr_res = list(protC2.residues)\n",
    "ss_res = [str(row) for row in pr_res]\n",
    "rkg = {key:h2di_12nmC2[key][0] for key, value in h2di_12nmC2.items()}\n",
    "plgC2_1_2nmaa = pd.DataFrame(data=ss_res, columns=[\"BSA_des_res\"])\n",
    "plgC2_1_2nmaa['mda_plga_frm_1.2nmC2'] = plgC2_1_2nmaa['BSA_des_res'].map(rkg)\n",
    "plgC2_1_2nmaa['BSA_des_res'] = red_bsa\n",
    "plgC2_1_2nmaa['mda_plga_frm_1.2nmC2'] = plgC2_1_2nmaa['mda_plga_frm_1.2nmC2'].replace('nan', np.nan).fillna(0)\n",
    "plgC2_1_2nmaa.tail()"
   ]
  },
  {
   "cell_type": "code",
   "execution_count": 40,
   "metadata": {},
   "outputs": [],
   "source": [
    "# Read in data from the oputput of wrapper.sh, where the frame count is given for each BSA residue that was within \n",
    "# 4 angstroms of PLGA trimer \n",
    "wat_data = pd.read_csv('occ_BSA1ns.txt', sep=\" \", header=None, usecols=None ,index_col=None)\n",
    "wat_data.columns = [\"BSA_res_no\",\"No. of frames (VMD)\"]\n",
    "wat_data = wat_data.drop(\"BSA_res_no\", axis=1)\n",
    "\n",
    "pr_res = list(protC2.residues)\n",
    "ss_res = [str(row) for row in pr_res]\n",
    "\n",
    "wat_data['BSA_des_res'] = ss_res\n",
    "wat_data = wat_data[['BSA_des_res',\"No. of frames (VMD)\"]]\n",
    "#wat_data.head()\n",
    "\n",
    "# load MDAnalysis values from MDA_BSA1ns.txt file(129003 atoms SOL group was used to calc. frame counts for txt.\n",
    "# file)\n",
    "h2ob_dict = json.load(open(\"MDA_BSA1ns.txt\"))\n",
    "wat_data['Mda_frames'] = wat_data['BSA_des_res'].map(h2ob_dict)\n",
    "\n",
    "\n",
    "# From MD Analysis\n",
    "#Get the count of bsa residues that have 1001 or 1002 frames ( I ran a 1 ns NPT simulation of 1 BSA in water )\n",
    "\n",
    "#aa_count = pd.DataFrame(data=a_a)\n",
    "c_list = []\n",
    "\n",
    "for i in range(len(a_a)):\n",
    "    count = 0\n",
    "    for index, row in wat_data.iterrows():\n",
    "        if a_a[i] in row[\"BSA_des_res\"]:\n",
    "            if row['Mda_frames'] == 1001: \n",
    "                count += 1\n",
    "                #c_list.append(str(str(a_a[i])+\"  \"+str(row['No. of frames']))) \n",
    "            elif row['Mda_frames'] == 1000:\n",
    "                count += 1\n",
    "                #c_list.append(str(str(a_a[i])+\"  \"+str(row['No. of frames'])))\n",
    "    c_list.append(str(str(a_a[i])+\"  \"+str(count)))\n",
    "    \n",
    "#c_list\n",
    "\n",
    "# From VMD\n",
    "#Get the count of bsa residues that have 1001 or 1002 frames ( I ran a 1 ns NPT simulation of 1 BSA in water )\n",
    "\n",
    "#aa_count = pd.DataFrame(data=a_a)\n",
    "vmd_list = []\n",
    "\n",
    "for i in range(len(a_a)):\n",
    "    count = 0\n",
    "    for index, row in wat_data.iterrows():\n",
    "        if a_a[i] in row[\"BSA_des_res\"]:\n",
    "            if row[\"No. of frames (VMD)\"] == 1001: \n",
    "                count += 1\n",
    "                #c_list.append(str(str(a_a[i])+\"  \"+str(row['No. of frames']))) \n",
    "            elif row[\"No. of frames (VMD)\"] == 1002:\n",
    "                count += 1\n",
    "                #c_list.append(str(str(a_a[i])+\"  \"+str(row['No. of frames'])))\n",
    "    vmd_list.append(str(str(a_a[i])+\"  \"+str(count)))\n",
    "\n",
    "# Main difference is that Alanine 583 is counted for all 1001 frames. It seems VMD is unable to calc dist for that res\n",
    "#vmd_list\n",
    "\n",
    "#hydrophobic_res = ['ALA', 'ILE', 'LEU', 'VAL', 'GLY', 'PRO','PHE', 'TRP','MET']\n",
    "#polar_res = ['ASN', 'CYS', 'GLN', 'SER', 'THR','TYR']\n",
    "#neg_res = ['ASP', 'GLU']\n",
    "#pos_res = ['ARG', 'HIS', 'LYS']\n",
    "# aromatic_res = ['PHE', 'TRP', 'TYR', 'HIS']\n",
    "#all_res = [pos_res, neg_res, polar_res, hydrophobic_res]\n",
    "\n",
    "# Put the AA count in a pandas dataframe \n",
    "dg , ji = AA_list_org(c_list)\n",
    "aa_count = pd.DataFrame(data=dg, index=None, columns=['Amino_acids'])\n",
    "new_lf = pd.Series(data=ji, index=None)\n",
    "vmg, vmdj = AA_list_org(vmd_list)\n",
    "n2lf = pd.Series(data=vmdj, index=None)\n",
    "aa_count['No_of_surf_res (MDAnalysis)'] = new_lf\n",
    "aa_count['No_of_surf_res (VMD)'] = n2lf"
   ]
  },
  {
   "cell_type": "code",
   "execution_count": 41,
   "metadata": {},
   "outputs": [
    {
     "data": {
      "text/html": [
       "<div>\n",
       "<style scoped>\n",
       "    .dataframe tbody tr th:only-of-type {\n",
       "        vertical-align: middle;\n",
       "    }\n",
       "\n",
       "    .dataframe tbody tr th {\n",
       "        vertical-align: top;\n",
       "    }\n",
       "\n",
       "    .dataframe thead th {\n",
       "        text-align: right;\n",
       "    }\n",
       "</style>\n",
       "<table border=\"1\" class=\"dataframe\">\n",
       "  <thead>\n",
       "    <tr style=\"text-align: right;\">\n",
       "      <th></th>\n",
       "      <th>Amino_acids</th>\n",
       "      <th>No_of_surf_res (MDAnalysis)</th>\n",
       "      <th>No_of_surf_res (VMD)</th>\n",
       "      <th>plgaC2_1.2nm_100ns</th>\n",
       "    </tr>\n",
       "  </thead>\n",
       "  <tbody>\n",
       "    <tr>\n",
       "      <th>0</th>\n",
       "      <td>LYS</td>\n",
       "      <td>59</td>\n",
       "      <td>59</td>\n",
       "      <td>28</td>\n",
       "    </tr>\n",
       "    <tr>\n",
       "      <th>1</th>\n",
       "      <td>ARG</td>\n",
       "      <td>23</td>\n",
       "      <td>23</td>\n",
       "      <td>5</td>\n",
       "    </tr>\n",
       "    <tr>\n",
       "      <th>2</th>\n",
       "      <td>HIS</td>\n",
       "      <td>16</td>\n",
       "      <td>16</td>\n",
       "      <td>6</td>\n",
       "    </tr>\n",
       "    <tr>\n",
       "      <th>3</th>\n",
       "      <td>ASP</td>\n",
       "      <td>40</td>\n",
       "      <td>40</td>\n",
       "      <td>18</td>\n",
       "    </tr>\n",
       "    <tr>\n",
       "      <th>4</th>\n",
       "      <td>GLU</td>\n",
       "      <td>59</td>\n",
       "      <td>59</td>\n",
       "      <td>29</td>\n",
       "    </tr>\n",
       "    <tr>\n",
       "      <th>5</th>\n",
       "      <td>SER</td>\n",
       "      <td>23</td>\n",
       "      <td>23</td>\n",
       "      <td>4</td>\n",
       "    </tr>\n",
       "    <tr>\n",
       "      <th>6</th>\n",
       "      <td>THR</td>\n",
       "      <td>29</td>\n",
       "      <td>29</td>\n",
       "      <td>9</td>\n",
       "    </tr>\n",
       "    <tr>\n",
       "      <th>7</th>\n",
       "      <td>CYS</td>\n",
       "      <td>24</td>\n",
       "      <td>24</td>\n",
       "      <td>11</td>\n",
       "    </tr>\n",
       "    <tr>\n",
       "      <th>8</th>\n",
       "      <td>TYR</td>\n",
       "      <td>19</td>\n",
       "      <td>19</td>\n",
       "      <td>3</td>\n",
       "    </tr>\n",
       "    <tr>\n",
       "      <th>9</th>\n",
       "      <td>ASN</td>\n",
       "      <td>14</td>\n",
       "      <td>14</td>\n",
       "      <td>7</td>\n",
       "    </tr>\n",
       "    <tr>\n",
       "      <th>10</th>\n",
       "      <td>GLN</td>\n",
       "      <td>19</td>\n",
       "      <td>19</td>\n",
       "      <td>8</td>\n",
       "    </tr>\n",
       "    <tr>\n",
       "      <th>11</th>\n",
       "      <td>GLY</td>\n",
       "      <td>11</td>\n",
       "      <td>11</td>\n",
       "      <td>8</td>\n",
       "    </tr>\n",
       "    <tr>\n",
       "      <th>12</th>\n",
       "      <td>ALA</td>\n",
       "      <td>39</td>\n",
       "      <td>38</td>\n",
       "      <td>15</td>\n",
       "    </tr>\n",
       "    <tr>\n",
       "      <th>13</th>\n",
       "      <td>VAL</td>\n",
       "      <td>19</td>\n",
       "      <td>19</td>\n",
       "      <td>7</td>\n",
       "    </tr>\n",
       "    <tr>\n",
       "      <th>14</th>\n",
       "      <td>LEU</td>\n",
       "      <td>34</td>\n",
       "      <td>34</td>\n",
       "      <td>10</td>\n",
       "    </tr>\n",
       "    <tr>\n",
       "      <th>15</th>\n",
       "      <td>ILE</td>\n",
       "      <td>7</td>\n",
       "      <td>7</td>\n",
       "      <td>1</td>\n",
       "    </tr>\n",
       "    <tr>\n",
       "      <th>16</th>\n",
       "      <td>MET</td>\n",
       "      <td>3</td>\n",
       "      <td>3</td>\n",
       "      <td>1</td>\n",
       "    </tr>\n",
       "    <tr>\n",
       "      <th>17</th>\n",
       "      <td>PHE</td>\n",
       "      <td>20</td>\n",
       "      <td>20</td>\n",
       "      <td>6</td>\n",
       "    </tr>\n",
       "    <tr>\n",
       "      <th>18</th>\n",
       "      <td>TRP</td>\n",
       "      <td>2</td>\n",
       "      <td>2</td>\n",
       "      <td>1</td>\n",
       "    </tr>\n",
       "    <tr>\n",
       "      <th>19</th>\n",
       "      <td>PRO</td>\n",
       "      <td>27</td>\n",
       "      <td>27</td>\n",
       "      <td>5</td>\n",
       "    </tr>\n",
       "  </tbody>\n",
       "</table>\n",
       "</div>"
      ],
      "text/plain": [
       "   Amino_acids  No_of_surf_res (MDAnalysis)  No_of_surf_res (VMD)  \\\n",
       "0          LYS                           59                    59   \n",
       "1          ARG                           23                    23   \n",
       "2          HIS                           16                    16   \n",
       "3          ASP                           40                    40   \n",
       "4          GLU                           59                    59   \n",
       "5          SER                           23                    23   \n",
       "6          THR                           29                    29   \n",
       "7          CYS                           24                    24   \n",
       "8          TYR                           19                    19   \n",
       "9          ASN                           14                    14   \n",
       "10         GLN                           19                    19   \n",
       "11         GLY                           11                    11   \n",
       "12         ALA                           39                    38   \n",
       "13         VAL                           19                    19   \n",
       "14         LEU                           34                    34   \n",
       "15         ILE                            7                     7   \n",
       "16         MET                            3                     3   \n",
       "17         PHE                           20                    20   \n",
       "18         TRP                            2                     2   \n",
       "19         PRO                           27                    27   \n",
       "\n",
       "    plgaC2_1.2nm_100ns  \n",
       "0                   28  \n",
       "1                    5  \n",
       "2                    6  \n",
       "3                   18  \n",
       "4                   29  \n",
       "5                    4  \n",
       "6                    9  \n",
       "7                   11  \n",
       "8                    3  \n",
       "9                    7  \n",
       "10                   8  \n",
       "11                   8  \n",
       "12                  15  \n",
       "13                   7  \n",
       "14                  10  \n",
       "15                   1  \n",
       "16                   1  \n",
       "17                   6  \n",
       "18                   1  \n",
       "19                   5  "
      ]
     },
     "execution_count": 41,
     "metadata": {},
     "output_type": "execute_result"
    }
   ],
   "source": [
    "apl_list = []\n",
    "\n",
    "# Some residues don't have any contact with the 3 N = 20 PLGA oligomers within 100 ns,\n",
    "# Put residues that do have contact with BSA in a separate list\n",
    "for index, r_pl in plgC2_1_2nmaa.iterrows():\n",
    "    if r_pl['mda_plga_frm_1.2nmC2'] != 0:\n",
    "        apl_list.append(r_pl['BSA_des_res'])\n",
    "        \n",
    "# This chunk of code gets an AA count from the above list, in order \n",
    "# to get a total number of residues that contact BSA\n",
    "cpl_l = []\n",
    "\n",
    "for index, r_a in aa_count.iterrows():\n",
    "    count = 0\n",
    "    for i in range(len(apl_list)):\n",
    "        if r_a['Amino_acids'] in apl_list[i]:\n",
    "            count += 1\n",
    "    cpl_l.append(count)      \n",
    "        \n",
    "aa_count['plgaC2_1.2nm_100ns'] = cpl_l\n",
    "aa_count"
   ]
  },
  {
   "cell_type": "code",
   "execution_count": 42,
   "metadata": {},
   "outputs": [
    {
     "data": {
      "text/plain": [
       "182"
      ]
     },
     "execution_count": 42,
     "metadata": {},
     "output_type": "execute_result"
    }
   ],
   "source": [
    "# This gives the total number of residues that are within 4 angstroms of a PLGA oligomer residue\n",
    "# within a 100 ns trajectory block\n",
    "aa_count['plgaC2_1.2nm_100ns'].sum()"
   ]
  },
  {
   "cell_type": "code",
   "execution_count": 43,
   "metadata": {},
   "outputs": [
    {
     "data": {
      "text/plain": [
       "487"
      ]
     },
     "execution_count": 43,
     "metadata": {},
     "output_type": "execute_result"
    }
   ],
   "source": [
    "# This gives the total number of residues that are within 4 angstroms of a water molecule\n",
    "# within a 1 ns trajectory block\n",
    "aa_count['No_of_surf_res (MDAnalysis)'].sum()"
   ]
  },
  {
   "cell_type": "code",
   "execution_count": 44,
   "metadata": {},
   "outputs": [
    {
     "data": {
      "text/plain": [
       "0.3737166324435318"
      ]
     },
     "execution_count": 44,
     "metadata": {},
     "output_type": "execute_result"
    }
   ],
   "source": [
    "# This gives the total fraction of contacts within the 1.2 nm Rg 100 ns trajectory\n",
    "aa_count['plgaC2_1.2nm_100ns'].sum()/aa_count['No_of_surf_res (MDAnalysis)'].sum()"
   ]
  },
  {
   "cell_type": "markdown",
   "metadata": {},
   "source": [
    "Calculate mean occupancy and the standard deviation for 1.2 nm trajectory\n",
    "\n",
    "Numpy mean and std function was used to calculate mean occupancy and std dev using occ values from aa_frmcount output"
   ]
  },
  {
   "cell_type": "code",
   "execution_count": null,
   "metadata": {},
   "outputs": [],
   "source": [
    "# Mean occupancy and std deviation \n",
    "ll_mo = [value[1] for key, value in h2di.items()]\n",
    "print(\"Mean Occpancy (1.2 nm Rg): \"+str(np.mean(ll_mo)), \"Occ. std. dev.: \"+str(np.std(ll_mo)))"
   ]
  },
  {
   "cell_type": "markdown",
   "metadata": {},
   "source": [
    "### Calc. fractional contacts for each AA group type C2"
   ]
  },
  {
   "cell_type": "code",
   "execution_count": 45,
   "metadata": {},
   "outputs": [
    {
     "data": {
      "text/plain": [
       "{'Negative': [59978.0, 47, 232255.23404255317, 0.20944569985961872],\n",
       " 'Positive': [44958.0, 39, 209804.0, 0.1891993771184352],\n",
       " 'Polar': [55839.0, 42, 241969.0, 0.21820548741668722],\n",
       " 'Hydrophobic': [53773.0, 54, 181234.92592592593, 0.16343604076800694],\n",
       " 'Aromatic': [21419.0, 16, 243641.12499999997, 0.21971339483725194]}"
      ]
     },
     "execution_count": 45,
     "metadata": {},
     "output_type": "execute_result"
    }
   ],
   "source": [
    "cd_12nmC2 = frac_cont(h2di_12nmC2)\n",
    "cd_12nmC2"
   ]
  },
  {
   "cell_type": "code",
   "execution_count": 46,
   "metadata": {},
   "outputs": [
    {
     "data": {
      "text/plain": [
       "182"
      ]
     },
     "execution_count": 46,
     "metadata": {},
     "output_type": "execute_result"
    }
   ],
   "source": [
    "cd = frac_cont(h2di_12nmC2)\n",
    "kklh = []\n",
    "for key, value in cd.items():\n",
    "    kklh.append(value[1])\n",
    "# Must substract aromatic residues, since they are already counted\n",
    "sum(kklh) - cd['Aromatic'][1]"
   ]
  },
  {
   "cell_type": "code",
   "execution_count": null,
   "metadata": {},
   "outputs": [],
   "source": [
    "start = 0\n",
    "end = pn20_len - 1\n",
    "aa_12nmC2, l_f12nmC2 = gtwo_trjcnt(protC2, all_pn20C2, dmax, u_pn20_C2, start, end)"
   ]
  },
  {
   "cell_type": "code",
   "execution_count": null,
   "metadata": {},
   "outputs": [],
   "source": [
    "aa_12nmC2"
   ]
  },
  {
   "cell_type": "code",
   "execution_count": null,
   "metadata": {},
   "outputs": [],
   "source": [
    "l_f12nmC2.shape"
   ]
  },
  {
   "cell_type": "code",
   "execution_count": 47,
   "metadata": {},
   "outputs": [
    {
     "data": {
      "text/plain": [
       "487"
      ]
     },
     "execution_count": 47,
     "metadata": {},
     "output_type": "execute_result"
    }
   ],
   "source": [
    "no_surf = aa_count['No_of_surf_res (MDAnalysis)'].sum()\n",
    "no_surf"
   ]
  },
  {
   "cell_type": "code",
   "execution_count": 48,
   "metadata": {},
   "outputs": [
    {
     "name": "stdout",
     "output_type": "stream",
     "text": [
      "0\n",
      "2000\n",
      "2000\n",
      "4000\n",
      "4000\n",
      "6000\n",
      "6000\n",
      "8000\n",
      "8000\n",
      "10000\n"
     ]
    }
   ],
   "source": [
    "fcntC2_rg1_2nm, prgrp_1_2nmC2, aaC2_matx = bavg_frac_cnt(5, protC2, all_pn20C2, dmax, u_pn20_C2, no_surf, 0, 10000)"
   ]
  },
  {
   "cell_type": "code",
   "execution_count": 49,
   "metadata": {},
   "outputs": [
    {
     "data": {
      "text/plain": [
       "{'Negative': array([0.18653641, 0.1724291 , 0.16008093, 0.24211444, 0.25282569]),\n",
       " 'Positive': array([0.17421185, 0.1917324 , 0.17834281, 0.21708371, 0.15567796]),\n",
       " 'Polar': array([0.35813972, 0.24716185, 0.22217401, 0.19336368, 0.21946825]),\n",
       " 'Hydrophobic': array([0.15369643, 0.16007837, 0.13285143, 0.15917427, 0.17480614]),\n",
       " 'Aromatic': array([0.12741558, 0.22859829, 0.30655082, 0.18826391, 0.19722197]),\n",
       " 'total_frac': array([0.19096509, 0.22176591, 0.20123203, 0.1724846 , 0.14168378])}"
      ]
     },
     "execution_count": 49,
     "metadata": {},
     "output_type": "execute_result"
    }
   ],
   "source": [
    "fcntC2_rg1_2nm"
   ]
  },
  {
   "cell_type": "code",
   "execution_count": 50,
   "metadata": {},
   "outputs": [
    {
     "data": {
      "text/plain": [
       "{'Negative': array([array([5.1115    , 3.71497884]), array([9.727     , 4.71003938]),\n",
       "        array([16.116     ,  3.35880098]), array([21.7665   ,  5.0040961]),\n",
       "        array([26.7205    ,  6.01850312])], dtype=object),\n",
       " 'Positive': array([array([3.991     , 4.24498751]), array([10.5175    ,  4.65002083]),\n",
       "        array([13.475     ,  3.87109481]),\n",
       "        array([11.9835    ,  2.93755472]), array([9.6905    , 2.66171181])],\n",
       "       dtype=object),\n",
       " 'Polar': array([array([8.6415   , 5.5003616]), array([15.0575    ,  4.78332455]),\n",
       "        array([25.584     ,  4.20249259]),\n",
       "        array([17.7655    ,  5.79806086]),\n",
       "        array([18.894     ,  5.34778122])], dtype=object),\n",
       " 'Hydrophobic': array([array([3.243     , 2.90102585]), array([8.971     , 4.29769229]),\n",
       "        array([12.536     ,  3.60079214]), array([22.0235   ,  4.6255754]),\n",
       "        array([25.4915    ,  4.88558367])], dtype=object),\n",
       " 'Aromatic': array([array([0.819     , 1.51731309]), array([5.6985   , 3.4497243]),\n",
       "        array([11.034     ,  3.42167269]), array([7.769     , 2.22837138]),\n",
       "        array([6.5215    , 1.99588019])], dtype=object)}"
      ]
     },
     "execution_count": 50,
     "metadata": {},
     "output_type": "execute_result"
    }
   ],
   "source": [
    "prgrp_1_2nmC2"
   ]
  },
  {
   "cell_type": "code",
   "execution_count": 51,
   "metadata": {},
   "outputs": [
    {
     "data": {
      "text/plain": [
       "array([0.20279731, 0.18340974, 0.2480615 , 0.15612133, 0.20961011])"
      ]
     },
     "execution_count": 51,
     "metadata": {},
     "output_type": "execute_result"
    }
   ],
   "source": [
    "fc_12nmC2_mean = np.array([np.mean(fcntC2_rg1_2nm['Negative']), np.mean(fcntC2_rg1_2nm['Positive'])\n",
    "                        ,np.mean(fcntC2_rg1_2nm['Polar']),np.mean(fcntC2_rg1_2nm['Hydrophobic'])\n",
    "                        , np.mean(fcntC2_rg1_2nm['Aromatic'])])\n",
    "fc_12nmC2_mean"
   ]
  },
  {
   "cell_type": "code",
   "execution_count": 52,
   "metadata": {},
   "outputs": [
    {
     "data": {
      "text/plain": [
       "array([0.03757661, 0.02040848, 0.0576153 , 0.01357548, 0.05852029])"
      ]
     },
     "execution_count": 52,
     "metadata": {},
     "output_type": "execute_result"
    }
   ],
   "source": [
    "fc_12nmC2_std = np.array([np.std(fcntC2_rg1_2nm['Negative']), np.std(fcntC2_rg1_2nm['Positive'])\n",
    "                       ,np.std(fcntC2_rg1_2nm['Polar']),np.std(fcntC2_rg1_2nm['Hydrophobic'])\n",
    "                       , np.std(fcntC2_rg1_2nm['Aromatic'])])\n",
    "fc_12nmC2_std"
   ]
  },
  {
   "cell_type": "code",
   "execution_count": 53,
   "metadata": {},
   "outputs": [
    {
     "data": {
      "application/vnd.jupyter.widget-view+json": {
       "model_id": "a2981c969dc44ab0bd590d17e34f1a11",
       "version_major": 2,
       "version_minor": 0
      },
      "text/plain": [
       "Canvas(toolbar=Toolbar(toolitems=[('Home', 'Reset original view', 'home', 'home'), ('Back', 'Back to previous …"
      ]
     },
     "metadata": {},
     "output_type": "display_data"
    },
    {
     "data": {
      "text/plain": [
       "Text(0, 0.5, 'Fractional Contacts')"
      ]
     },
     "execution_count": 53,
     "metadata": {},
     "output_type": "execute_result"
    }
   ],
   "source": [
    "x_pos = np.arange(5)\n",
    "aa_types = [\"Negative\", \"Positive\", \"Polar\", \"Hydrophobic\", \"Aromatic\"]\n",
    "fig = plt.figure(figsize=(7,7))\n",
    "fig.canvas.layout.width = '500px'\n",
    "fig.canvas.layout.height = '400px'\n",
    "plt.bar(x_pos, fc_12nmC2_mean, yerr=fc_12nmC2_std, ecolor='black',capsize=5, color='c')\n",
    "plt.title(r'Fractional Contacts 1.2 nm Rg restrained, Config. 2', fontsize=15)\n",
    "plt.xticks(x_pos, labels=aa_types, fontsize=12)\n",
    "plt.ylabel(r'Fractional Contacts', fontsize=15)"
   ]
  },
  {
   "cell_type": "markdown",
   "metadata": {},
   "source": [
    "### Total fraction of contacts: averages and std dev calc from 5 20ns blocks C2"
   ]
  },
  {
   "cell_type": "code",
   "execution_count": 54,
   "metadata": {},
   "outputs": [
    {
     "data": {
      "text/plain": [
       "0.18562628336755646"
      ]
     },
     "execution_count": 54,
     "metadata": {},
     "output_type": "execute_result"
    }
   ],
   "source": [
    "# Average of total fraction of contacts\n",
    "np.mean(fcntC2_rg1_2nm['total_frac'])"
   ]
  },
  {
   "cell_type": "code",
   "execution_count": 55,
   "metadata": {},
   "outputs": [
    {
     "data": {
      "text/plain": [
       "0.027135816898039913"
      ]
     },
     "execution_count": 55,
     "metadata": {},
     "output_type": "execute_result"
    }
   ],
   "source": [
    "# Std Deviation of total fraction of contacts\n",
    "np.std(fcntC2_rg1_2nm['total_frac'])"
   ]
  },
  {
   "cell_type": "markdown",
   "metadata": {},
   "source": [
    "### Avg no. PLGA residues per BSA AA residue group C2"
   ]
  },
  {
   "cell_type": "code",
   "execution_count": 56,
   "metadata": {},
   "outputs": [
    {
     "data": {
      "text/plain": [
       "{'Negative': array([array([5.1115    , 3.71497884]), array([9.727     , 4.71003938]),\n",
       "        array([16.116     ,  3.35880098]), array([21.7665   ,  5.0040961]),\n",
       "        array([26.7205    ,  6.01850312])], dtype=object),\n",
       " 'Positive': array([array([3.991     , 4.24498751]), array([10.5175    ,  4.65002083]),\n",
       "        array([13.475     ,  3.87109481]),\n",
       "        array([11.9835    ,  2.93755472]), array([9.6905    , 2.66171181])],\n",
       "       dtype=object),\n",
       " 'Polar': array([array([8.6415   , 5.5003616]), array([15.0575    ,  4.78332455]),\n",
       "        array([25.584     ,  4.20249259]),\n",
       "        array([17.7655    ,  5.79806086]),\n",
       "        array([18.894     ,  5.34778122])], dtype=object),\n",
       " 'Hydrophobic': array([array([3.243     , 2.90102585]), array([8.971     , 4.29769229]),\n",
       "        array([12.536     ,  3.60079214]), array([22.0235   ,  4.6255754]),\n",
       "        array([25.4915    ,  4.88558367])], dtype=object),\n",
       " 'Aromatic': array([array([0.819     , 1.51731309]), array([5.6985   , 3.4497243]),\n",
       "        array([11.034     ,  3.42167269]), array([7.769     , 2.22837138]),\n",
       "        array([6.5215    , 1.99588019])], dtype=object)}"
      ]
     },
     "execution_count": 56,
     "metadata": {},
     "output_type": "execute_result"
    }
   ],
   "source": [
    "prgrp_1_2nmC2"
   ]
  },
  {
   "cell_type": "code",
   "execution_count": 57,
   "metadata": {},
   "outputs": [],
   "source": [
    "mean_12nmC2 = np.zeros(shape=5)\n",
    "std_12nmC2 = np.zeros(shape=5)\n",
    "count = 0\n",
    "for key, value in prgrp_1_2nmC2.items():\n",
    "    mpl_12nmC2 = []\n",
    "    var_12nmC2 = []\n",
    "    for i in prgrp_1_2nmC2[str(key)].flat:\n",
    "        mpl_12nmC2.append(i[0])\n",
    "        var_12nmC2.append((i[1])**2)\n",
    "    \n",
    "    # calc frac cont averages\n",
    "    mean_12nmC2[count] = np.mean(mpl_12nmC2)\n",
    "    \n",
    "    # calc frac cont std dev: https://stats.stackexchange.com/questions/25848/how-to-sum-a-standard-deviation \n",
    "    std_12nmC2[count] = np.std(mpl_12nmC2)\n",
    "    # std_12nm[count] = np.sqrt(np.sum(var_12nm)/5)\n",
    "    \n",
    "    count += 1\n"
   ]
  },
  {
   "cell_type": "code",
   "execution_count": 58,
   "metadata": {},
   "outputs": [
    {
     "data": {
      "text/plain": [
       "array([15.8883,  9.9315, 17.1885, 14.453 ,  6.3684])"
      ]
     },
     "execution_count": 58,
     "metadata": {},
     "output_type": "execute_result"
    }
   ],
   "source": [
    "mean_12nmC2"
   ]
  },
  {
   "cell_type": "code",
   "execution_count": 59,
   "metadata": {},
   "outputs": [
    {
     "data": {
      "text/plain": [
       "array([7.82358837, 3.23907745, 5.5012444 , 8.22863616, 3.31655091])"
      ]
     },
     "execution_count": 59,
     "metadata": {},
     "output_type": "execute_result"
    }
   ],
   "source": [
    "std_12nmC2"
   ]
  },
  {
   "cell_type": "code",
   "execution_count": 60,
   "metadata": {},
   "outputs": [
    {
     "data": {
      "application/vnd.jupyter.widget-view+json": {
       "model_id": "d0cf51fc39e64e02a3423e0c20e93395",
       "version_major": 2,
       "version_minor": 0
      },
      "text/plain": [
       "Canvas(toolbar=Toolbar(toolitems=[('Home', 'Reset original view', 'home', 'home'), ('Back', 'Back to previous …"
      ]
     },
     "metadata": {},
     "output_type": "display_data"
    },
    {
     "data": {
      "text/plain": [
       "Text(0, 0.5, 'No. of PLGA residues')"
      ]
     },
     "execution_count": 60,
     "metadata": {},
     "output_type": "execute_result"
    }
   ],
   "source": [
    "x_pos = np.arange(5)\n",
    "aa_types = [\"Negative\", \"Positive\", \"Polar\", \"Hydrophobic\", \"Aromatic\"]\n",
    "fig = plt.figure(figsize=(7,7))\n",
    "fig.canvas.layout.width = '500px'\n",
    "fig.canvas.layout.height = '400px'\n",
    "plt.bar(x_pos, mean_12nmC2, yerr=std_12nmC2, ecolor='black',capsize=5)\n",
    "plt.title(r'No. of PLGA residues 1.2 nm Rg restrained Config. 2', fontsize=15)\n",
    "plt.xticks(x_pos, labels=aa_types, fontsize=12)\n",
    "plt.ylabel(r'No. of PLGA residues', fontsize=15)"
   ]
  },
  {
   "cell_type": "markdown",
   "metadata": {},
   "source": [
    "### Protein/polymer contact map movie C2"
   ]
  },
  {
   "cell_type": "code",
   "execution_count": null,
   "metadata": {},
   "outputs": [],
   "source": [
    "fig = plt.figure(figsize=(10,10))\n",
    "\n",
    "# Set the axis and the plot titles pp\n",
    "\n",
    "plt.title(\"BSA/PLGA contact map 1.2 nm res, Config 2\", fontsize=22, loc='left')\n",
    "plt.xlabel(\"PLGA Residue No.\", fontsize=22)\n",
    "plt.ylabel(\"BSA Residue No.\", fontsize=20)\n",
    "\n",
    " # Set the axis range \n",
    "plt.ylim(583, 0)\n",
    "plt.xlim(0, 60)\n",
    "\n",
    "# Plot bands for each chain \n",
    "BANDS = (\n",
    "    (0, 20, \"purple\", \"B\"),\n",
    "    (20, 40, \"blue\", \"C\"),\n",
    "    (40, 60, \"green\", \"D\"),\n",
    ")\n",
    "    \n",
    "text_y = 0.98 # Close to the top\n",
    "for start, stop, color, band in BANDS:\n",
    "    plt.axvspan(start, stop,color=color, alpha=0.15)\n",
    "    text_x = middle_of_band(start,stop)\n",
    "    plt.text(\n",
    "        text_x,\n",
    "        text_y,\n",
    "        \"PLGA chain \" + band,\n",
    "        color=color,\n",
    "        fontsize=18,\n",
    "        transform=fig.gca().transAxes,\n",
    "        horizontalalignment='center',\n",
    "        verticalalignment='center',\n",
    "        style='italic',\n",
    "    )\n",
    "    \n",
    "plt.text(0.93, 1, \"Time [ns]:\", fontsize=20, transform=fig.gca().transAxes, horizontalalignment='right', verticalalignment='bottom')\n",
    "\n",
    "# Set tick label size\n",
    "fig.gca().tick_params(axis='both', which='major', labelsize=20)\n",
    "\n",
    "ims = []\n",
    "for i in range(10000):\n",
    "    data = trj_ppmap_12nm[i]\n",
    "    im = plt.imshow(data, aspect='auto', cmap='Greys')\n",
    "    t_sim = plt.text(1, 1, str(i/100), fontsize=20, transform=fig.gca().transAxes, horizontalalignment='right', verticalalignment='bottom')\n",
    "    ims.append([im, t_sim])\n",
    "    \n",
    "ani = animation.ArtistAnimation(fig, ims, blit=True, repeat=False)\n",
    "ani.save('1.2nm_res.mp4',writer='ffmpeg', fps=50, bitrate=100000)\n",
    "#plt.tight_layout()\n",
    "#plt.show()"
   ]
  },
  {
   "cell_type": "markdown",
   "metadata": {},
   "source": [
    "# 1.5 nm PLGA restrained Rg 100 ns trajectory C2"
   ]
  },
  {
   "cell_type": "markdown",
   "metadata": {},
   "source": [
    "Load the rg = 1.5 nm (3 PLGA N = 20 oligomer/BSA system) "
   ]
  },
  {
   "cell_type": "code",
   "execution_count": 61,
   "metadata": {},
   "outputs": [],
   "source": [
    "# Set up the MD Simulation\n",
    "u15nm_pn20C2 = mda.Universe(\"../C2_bsa_n20plga_inwater/C2_plgaRes/1.5nm_prodC2/C2_15nmRes.pdb\"\n",
    "                      , \"../C2_bsa_n20plga_inwater/C2_plgaRes/1.5nm_prodC2/15nmC2plga_only.xtc\")"
   ]
  },
  {
   "cell_type": "code",
   "execution_count": 62,
   "metadata": {},
   "outputs": [
    {
     "data": {
      "text/plain": [
       "<Universe with 10145 atoms>"
      ]
     },
     "execution_count": 62,
     "metadata": {},
     "output_type": "execute_result"
    }
   ],
   "source": [
    "u15nm_pn20C2"
   ]
  },
  {
   "cell_type": "code",
   "execution_count": 63,
   "metadata": {},
   "outputs": [
    {
     "data": {
      "text/plain": [
       "10001"
      ]
     },
     "execution_count": 63,
     "metadata": {},
     "output_type": "execute_result"
    }
   ],
   "source": [
    "pn20_len15C2 = len(u15nm_pn20C2.trajectory)\n",
    "pn20_len15C2"
   ]
  },
  {
   "cell_type": "code",
   "execution_count": 64,
   "metadata": {},
   "outputs": [
    {
     "data": {
      "text/plain": [
       "<AtomGroup with 543 atoms>"
      ]
     },
     "execution_count": 64,
     "metadata": {},
     "output_type": "execute_result"
    }
   ],
   "source": [
    "#Select all the PLGA residues, heavy atoms only \n",
    "all15_pn20C2 = u15nm_pn20C2.select_atoms(\"resname sPLG PLG tPLG and not type H\")\n",
    "all15_pn20C2"
   ]
  },
  {
   "cell_type": "code",
   "execution_count": 65,
   "metadata": {},
   "outputs": [
    {
     "data": {
      "text/plain": [
       "<AtomGroup with 4653 atoms>"
      ]
     },
     "execution_count": 65,
     "metadata": {},
     "output_type": "execute_result"
    }
   ],
   "source": [
    "# Select BSA residues, heavy atoms only \n",
    "prot_15nmC2 = u15nm_pn20C2.select_atoms(\"protein and not type H\")\n",
    "prot_15nmC2"
   ]
  },
  {
   "cell_type": "markdown",
   "metadata": {},
   "source": [
    "### Contact Analysis C2"
   ]
  },
  {
   "cell_type": "code",
   "execution_count": 66,
   "metadata": {},
   "outputs": [
    {
     "data": {
      "text/plain": [
       "526.3987793847919"
      ]
     },
     "execution_count": 66,
     "metadata": {},
     "output_type": "execute_result"
    }
   ],
   "source": [
    "#dmax = 4.0, protein group(4653 atoms), plga atom group (543 atoms), took 381.6 s (6 min 36s on 4 cores)\n",
    "start = 0\n",
    "end = pn20_len15C2 - 1\n",
    "s_time = timeit.default_timer()\n",
    "h2di_15nmC2 = aa_frmcount(prot_15nmC2, all15_pn20C2, dmax, u15nm_pn20C2, start, end)\n",
    "timeit.default_timer() - s_time\n",
    "#h2di_15nm"
   ]
  },
  {
   "cell_type": "code",
   "execution_count": 67,
   "metadata": {},
   "outputs": [
    {
     "data": {
      "text/plain": [
       "172"
      ]
     },
     "execution_count": 67,
     "metadata": {},
     "output_type": "execute_result"
    }
   ],
   "source": [
    "len(h2di_15nmC2.keys())"
   ]
  },
  {
   "cell_type": "code",
   "execution_count": 68,
   "metadata": {},
   "outputs": [
    {
     "data": {
      "text/html": [
       "<div>\n",
       "<style scoped>\n",
       "    .dataframe tbody tr th:only-of-type {\n",
       "        vertical-align: middle;\n",
       "    }\n",
       "\n",
       "    .dataframe tbody tr th {\n",
       "        vertical-align: top;\n",
       "    }\n",
       "\n",
       "    .dataframe thead th {\n",
       "        text-align: right;\n",
       "    }\n",
       "</style>\n",
       "<table border=\"1\" class=\"dataframe\">\n",
       "  <thead>\n",
       "    <tr style=\"text-align: right;\">\n",
       "      <th></th>\n",
       "      <th>BSA_des_res</th>\n",
       "      <th>mda_plga_frm_1.5nmC2</th>\n",
       "    </tr>\n",
       "  </thead>\n",
       "  <tbody>\n",
       "    <tr>\n",
       "      <th>0</th>\n",
       "      <td>ASP 1</td>\n",
       "      <td>5767.0</td>\n",
       "    </tr>\n",
       "    <tr>\n",
       "      <th>1</th>\n",
       "      <td>THR 2</td>\n",
       "      <td>5668.0</td>\n",
       "    </tr>\n",
       "    <tr>\n",
       "      <th>2</th>\n",
       "      <td>HIS 3</td>\n",
       "      <td>3793.0</td>\n",
       "    </tr>\n",
       "    <tr>\n",
       "      <th>3</th>\n",
       "      <td>LYS 4</td>\n",
       "      <td>3736.0</td>\n",
       "    </tr>\n",
       "    <tr>\n",
       "      <th>4</th>\n",
       "      <td>SER 5</td>\n",
       "      <td>7.0</td>\n",
       "    </tr>\n",
       "  </tbody>\n",
       "</table>\n",
       "</div>"
      ],
      "text/plain": [
       "  BSA_des_res  mda_plga_frm_1.5nmC2\n",
       "0       ASP 1                5767.0\n",
       "1       THR 2                5668.0\n",
       "2       HIS 3                3793.0\n",
       "3       LYS 4                3736.0\n",
       "4       SER 5                   7.0"
      ]
     },
     "execution_count": 68,
     "metadata": {},
     "output_type": "execute_result"
    }
   ],
   "source": [
    "pr_res15nmC2 = list(prot_15nmC2.residues)\n",
    "ss_res15nmC2 = [str(row) for row in pr_res15nmC2]\n",
    "rkg_15nmC2 = {key:h2di_15nmC2[key][0] for key, value in h2di_15nmC2.items()}\n",
    "plgC2_1_5nmaa = pd.DataFrame(data=ss_res15nmC2, columns=[\"BSA_des_res\"])\n",
    "plgC2_1_5nmaa['mda_plga_frm_1.5nmC2'] = plgC2_1_5nmaa['BSA_des_res'].map(rkg_15nmC2)\n",
    "plgC2_1_5nmaa['BSA_des_res'] = red_bsa\n",
    "plgC2_1_5nmaa['mda_plga_frm_1.5nmC2'] = plgC2_1_5nmaa['mda_plga_frm_1.5nmC2'].replace('nan', np.nan).fillna(0)\n",
    "plgC2_1_5nmaa.head()"
   ]
  },
  {
   "cell_type": "code",
   "execution_count": 69,
   "metadata": {},
   "outputs": [
    {
     "data": {
      "text/html": [
       "<div>\n",
       "<style scoped>\n",
       "    .dataframe tbody tr th:only-of-type {\n",
       "        vertical-align: middle;\n",
       "    }\n",
       "\n",
       "    .dataframe tbody tr th {\n",
       "        vertical-align: top;\n",
       "    }\n",
       "\n",
       "    .dataframe thead th {\n",
       "        text-align: right;\n",
       "    }\n",
       "</style>\n",
       "<table border=\"1\" class=\"dataframe\">\n",
       "  <thead>\n",
       "    <tr style=\"text-align: right;\">\n",
       "      <th></th>\n",
       "      <th>BSA_des_res</th>\n",
       "      <th>mda_occ_1.2nmC2</th>\n",
       "      <th>mda_occ_1.5nmC2</th>\n",
       "    </tr>\n",
       "  </thead>\n",
       "  <tbody>\n",
       "    <tr>\n",
       "      <th>0</th>\n",
       "      <td>&lt;Residue ASP, 1&gt;</td>\n",
       "      <td>0.42</td>\n",
       "      <td>0.58</td>\n",
       "    </tr>\n",
       "    <tr>\n",
       "      <th>1</th>\n",
       "      <td>&lt;Residue THR, 2&gt;</td>\n",
       "      <td>0.40</td>\n",
       "      <td>0.57</td>\n",
       "    </tr>\n",
       "    <tr>\n",
       "      <th>2</th>\n",
       "      <td>&lt;Residue HIS, 3&gt;</td>\n",
       "      <td>0.28</td>\n",
       "      <td>0.38</td>\n",
       "    </tr>\n",
       "    <tr>\n",
       "      <th>3</th>\n",
       "      <td>&lt;Residue LYS, 4&gt;</td>\n",
       "      <td>0.31</td>\n",
       "      <td>0.37</td>\n",
       "    </tr>\n",
       "    <tr>\n",
       "      <th>4</th>\n",
       "      <td>&lt;Residue SER, 5&gt;</td>\n",
       "      <td>0.05</td>\n",
       "      <td>0.00</td>\n",
       "    </tr>\n",
       "    <tr>\n",
       "      <th>...</th>\n",
       "      <td>...</td>\n",
       "      <td>...</td>\n",
       "      <td>...</td>\n",
       "    </tr>\n",
       "    <tr>\n",
       "      <th>578</th>\n",
       "      <td>&lt;Residue GLN, 579&gt;</td>\n",
       "      <td>0.00</td>\n",
       "      <td>0.00</td>\n",
       "    </tr>\n",
       "    <tr>\n",
       "      <th>579</th>\n",
       "      <td>&lt;Residue THR, 580&gt;</td>\n",
       "      <td>0.00</td>\n",
       "      <td>0.00</td>\n",
       "    </tr>\n",
       "    <tr>\n",
       "      <th>580</th>\n",
       "      <td>&lt;Residue ALA, 581&gt;</td>\n",
       "      <td>0.00</td>\n",
       "      <td>0.00</td>\n",
       "    </tr>\n",
       "    <tr>\n",
       "      <th>581</th>\n",
       "      <td>&lt;Residue LEU, 582&gt;</td>\n",
       "      <td>0.00</td>\n",
       "      <td>0.00</td>\n",
       "    </tr>\n",
       "    <tr>\n",
       "      <th>582</th>\n",
       "      <td>&lt;Residue ALA, 583&gt;</td>\n",
       "      <td>0.00</td>\n",
       "      <td>0.00</td>\n",
       "    </tr>\n",
       "  </tbody>\n",
       "</table>\n",
       "<p>583 rows × 3 columns</p>\n",
       "</div>"
      ],
      "text/plain": [
       "            BSA_des_res  mda_occ_1.2nmC2  mda_occ_1.5nmC2\n",
       "0      <Residue ASP, 1>             0.42             0.58\n",
       "1      <Residue THR, 2>             0.40             0.57\n",
       "2      <Residue HIS, 3>             0.28             0.38\n",
       "3      <Residue LYS, 4>             0.31             0.37\n",
       "4      <Residue SER, 5>             0.05             0.00\n",
       "..                  ...              ...              ...\n",
       "578  <Residue GLN, 579>             0.00             0.00\n",
       "579  <Residue THR, 580>             0.00             0.00\n",
       "580  <Residue ALA, 581>             0.00             0.00\n",
       "581  <Residue LEU, 582>             0.00             0.00\n",
       "582  <Residue ALA, 583>             0.00             0.00\n",
       "\n",
       "[583 rows x 3 columns]"
      ]
     },
     "execution_count": 69,
     "metadata": {},
     "output_type": "execute_result"
    }
   ],
   "source": [
    "# Extract mean occupancy values\n",
    "pr_res_15nmC2 = list(prot_15nmC2.residues)\n",
    "ss_res_15nmC2 = [str(row) for row in pr_res_15nmC2]\n",
    "rkgN_15nmC2 = {key:h2di_15nmC2[key][1] for key, value in h2di_15nmC2.items()}\n",
    "plgC2_1_2nm_occ['mda_occ_1.5nmC2'] = plgC2_1_2nm_occ['BSA_des_res'].map(rkgN_15nmC2)\n",
    "plgC2_1_2nm_occ['mda_occ_1.5nmC2'] = plgC2_1_2nm_occ['mda_occ_1.5nmC2'].replace('nan', np.nan).fillna(0)\n",
    "plgC2_1_2nm_occ['mda_occ_1.5nmC2'] = plgC2_1_2nm_occ['mda_occ_1.5nmC2'].round(2)\n",
    "plgC2_1_2nm_occ"
   ]
  },
  {
   "cell_type": "code",
   "execution_count": 71,
   "metadata": {},
   "outputs": [],
   "source": [
    "bsa_15C2 = np.array(list(prot_15nmC2.resids)) # shape is 4652\n",
    "mC2_occ_15nm = np.array(list(plgC2_1_2nm_occ['mda_occ_1.5nmC2'])) # shape is 583\n",
    "mC2_occ_15New = np.zeros(shape=(4653))\n",
    "atC2_ind = np.where(bsa_15C2[:-1] != bsa_15C2[1:])[0]\n",
    "atC2_in_nw = np.sort(np.append([0,4653],atC2_ind))\n",
    "nw_v = 0\n",
    "for i in range(583):\n",
    "    b = atC2_in_nw[i+1] +1\n",
    "    mC2_occ_15New[nw_v:b] = mC2_occ_15nm[i]\n",
    "    nw_v = atC2_in_nw[i+1] + 1 "
   ]
  },
  {
   "cell_type": "code",
   "execution_count": null,
   "metadata": {},
   "outputs": [],
   "source": [
    "mC2_occ_15New[0:33]"
   ]
  },
  {
   "cell_type": "code",
   "execution_count": null,
   "metadata": {},
   "outputs": [],
   "source": [
    "prot_15nmC2.occupancies[3089:3099]"
   ]
  },
  {
   "cell_type": "code",
   "execution_count": null,
   "metadata": {},
   "outputs": [],
   "source": [
    "list(prot_15nmC2.atoms[3089:3099])"
   ]
  },
  {
   "cell_type": "code",
   "execution_count": 72,
   "metadata": {},
   "outputs": [
    {
     "data": {
      "text/plain": [
       "(array([   0,    1,    2,    3,    4,    5,    6,    7,    8,    9,   10,\n",
       "          11,   12,   13,   14,   15,   16,   17,   18,   19,   20,   21,\n",
       "          22,   23,   24,   25,   26,   27,   28,   29,   30,   31,   32,\n",
       "          33,   57,   58,   59,   60,   61,   62,   63,   64,   65,   66,\n",
       "          67,   68,   69,   70,   71,   83,   84,   85,   86,   87,   88,\n",
       "          89,   90,   91,   92,   93,   94,   95,   96,   97,   98,   99,\n",
       "         100,  101,  102,  103,  104,  105,  106,  107,  108,  109,  110,\n",
       "         111,  112,  113,  114,  115,  116,  117,  118,  119,  120,  121,\n",
       "         122,  123,  124,  125,  126,  127,  128,  129,  130,  131,  132,\n",
       "         133,  134,  135,  136,  137,  138,  139,  140,  141,  142,  143,\n",
       "         144,  145,  146,  147,  148,  149,  150,  414,  415,  416,  417,\n",
       "         418,  419,  420,  421,  422,  430,  431,  432,  433,  434,  435,\n",
       "         436,  437,  438,  439,  440,  441,  442,  443,  444,  445,  446,\n",
       "         447,  448,  449,  450,  451,  452,  453,  454,  455,  456,  457,\n",
       "         458,  459,  460,  461,  462,  463,  464,  465,  466,  467,  468,\n",
       "         469,  470, 1027, 1028, 1029, 1030, 1031, 1032, 1033, 1034, 1035,\n",
       "        1036, 1037, 1038, 1039, 1040, 1041, 1042, 1043, 1044, 1065, 1066,\n",
       "        1067, 1068, 1069, 1070, 1071, 1072, 1073, 1074, 1075, 1076, 1077,\n",
       "        1078, 1286, 1287, 1288, 1289, 1290, 1291, 1292, 1293, 1315, 1316,\n",
       "        1317, 1318, 1319, 1320, 1321, 1322, 1345, 1346, 1347, 1348, 1349,\n",
       "        1350, 1351, 1352, 1353, 1354, 1355, 1356, 1357, 1358, 1359, 1360,\n",
       "        1361, 1362, 1375, 1376, 1377, 1378, 1379, 1380, 1381, 1382, 1383,\n",
       "        1384, 1385, 1386, 1387, 1388, 1389, 1390, 1391, 1392, 1393, 1394,\n",
       "        1395, 1396, 1397, 2090, 2091, 2092, 2093, 2094, 2095, 2096, 2097,\n",
       "        2098, 2099, 2100, 2101, 2102, 2103, 2124, 2125, 2126, 2127, 2128,\n",
       "        2129, 2130, 2131, 2132, 2133, 2134, 2135, 2136, 2137, 2146, 2147,\n",
       "        2148, 2149, 2150, 2151, 2152, 2153, 2154, 2155, 2156, 2157, 2158,\n",
       "        2159, 2160, 2161, 2162, 2207, 2208, 2209, 2210, 2211, 2212, 2213,\n",
       "        2214, 2215, 2231, 2232, 2233, 2234, 2235, 2236, 2237, 2238, 2239,\n",
       "        2240, 2241, 2242, 2243, 2244, 2245, 2246, 2247, 2248, 2249, 2250,\n",
       "        2251, 2252, 2253, 2254, 2255, 2256, 2257, 2258, 2259, 2260, 2261,\n",
       "        2262, 2263, 2264, 2265, 2266, 2267, 2268, 2269, 2270, 2271, 2272,\n",
       "        2273, 2274, 2275, 2276, 2277, 2278, 2279, 2280, 2281, 2282, 2283,\n",
       "        2284, 2285, 2286, 2287, 2288, 2289, 2290, 2291, 2292, 2293, 2294,\n",
       "        2377, 2378, 2379, 2380, 2381, 2382, 2383, 2384, 2385, 2386, 2387,\n",
       "        2388, 2389, 2390, 2391, 2392, 2393, 2394, 2395, 2396, 2397, 2398,\n",
       "        2399, 2400, 2401, 2402, 2403, 2404, 2405, 2406, 2407, 2408, 2409,\n",
       "        2410, 2411, 2412, 2413, 2414, 2415, 2416, 2417, 2418, 2419, 2420,\n",
       "        2421, 2422, 2423, 2424, 2425, 2426, 2427, 2428, 2429, 2430, 2431,\n",
       "        2432, 2433, 2434, 2435, 2436, 2437, 2438, 2439, 2440, 2441, 2442,\n",
       "        2443, 2444, 2445, 2475, 2476, 2477, 2478, 2479, 2480, 2481, 2482,\n",
       "        2483, 2551, 2552, 2553, 2554, 2555, 2556, 2557, 2558, 2559, 2560,\n",
       "        2561, 2562, 2563, 2564, 2565, 2566, 2567, 2568, 2574, 2575, 2576,\n",
       "        2577, 2578, 2579, 2580, 2581, 2582, 2665, 2666, 2667, 2668, 2669,\n",
       "        2670, 2671, 2672, 2673, 2674, 2675, 2676, 2694, 2695, 2696, 2697,\n",
       "        2698, 2699, 2700, 2701, 2702, 2703, 2704, 2705, 2706, 2707, 2708,\n",
       "        2709, 2710, 2711, 2712, 2713, 2714, 2715, 2716, 2717, 2718, 2719,\n",
       "        2720, 2721, 2722, 2723, 2724, 2725, 2726, 2727, 2728, 2729, 2730,\n",
       "        2731, 2732, 2733, 2734, 2735, 2736, 2737, 2738, 2739, 2740, 2741,\n",
       "        2742, 2867, 2868, 2869, 2870, 2871, 2872, 2873, 2874, 2875, 2876,\n",
       "        2877, 2878, 2879, 2880, 2881, 2882, 2883, 2884, 2891, 2892, 2893,\n",
       "        2894, 2895, 2896, 2897, 2898, 2899, 2900, 2901, 2902, 2903, 2904,\n",
       "        2905, 2906, 2907, 2908, 2909, 2910, 2911, 2912, 2913, 2914, 2915,\n",
       "        2916, 2917, 2918, 2967, 2968, 2969, 2970, 2971, 2972, 2973, 2974,\n",
       "        2975, 2976, 2977, 2978, 2979, 2987, 2988, 2989, 2990, 2991, 2992,\n",
       "        2993, 2994, 2995, 2996, 2997, 2998, 2999, 3000, 3001, 3002, 3003,\n",
       "        3004, 3005, 3006, 3007, 3008, 3009, 3010, 3011, 3012, 3013, 3014,\n",
       "        3023, 3024, 3025, 3026, 3027, 3028, 3029, 3030, 3031, 3032, 3033,\n",
       "        3034, 3035, 3036, 3037, 3038, 3039, 3040, 3041, 3050, 3051, 3052,\n",
       "        3053, 3054, 3055, 3056, 3057, 3058, 3059, 3060, 3061, 3062, 3063,\n",
       "        3064, 3065, 3066, 3067, 3068, 3069, 3070, 3071, 3072, 3073, 3081,\n",
       "        3082, 3083, 3084, 3085, 3086, 3087, 3088, 3089, 3090, 3091, 3092,\n",
       "        3093, 3094, 3095, 3096, 3097, 3098, 3099, 3100, 3101, 3102, 3103,\n",
       "        3104, 3105, 3106, 3107, 3108, 3109, 3110, 3111, 3112, 3113, 3114,\n",
       "        3115, 3116, 3117, 3118, 3119, 3120, 3121, 3122, 3123, 3124, 3125,\n",
       "        3126, 3127, 3128, 3129, 3130, 3131, 3140, 3141, 3142, 3143, 3144,\n",
       "        3145, 3146, 3147, 3148, 3149, 3150, 3151, 3152, 3153, 3154, 3155,\n",
       "        3156, 3157, 3158, 3159, 3160, 3161, 3162, 3163, 3164, 3165, 3166,\n",
       "        3167, 3168, 3169, 3170, 3171, 3172, 3173, 3174, 3175, 3176, 3177,\n",
       "        3178, 3179, 3180, 3181, 3182, 3183, 3184, 3185, 3186, 3187, 3188,\n",
       "        3189, 3190, 3191, 3285, 3286, 3287, 3288, 3289, 3290, 3291, 3292,\n",
       "        3293, 3294, 3295, 3315, 3316, 3317, 3318, 3319, 3320, 3321, 3322,\n",
       "        3323, 3324, 3325, 3326, 3327, 3328, 3329, 3330, 3331, 3332, 3333,\n",
       "        3334, 3508, 3509, 3510, 3511, 3512, 3513, 3514, 3515, 3516, 3517,\n",
       "        3518, 3519, 3520, 3521, 3522, 3523, 3524, 3525, 3526, 3527, 3528,\n",
       "        3529, 3530, 3531, 3532, 3533, 3534, 3535, 3536, 3537, 3538, 3539,\n",
       "        3540, 3541, 3542, 3543, 3544, 3545, 3555, 3556, 3557, 3558, 3559,\n",
       "        3560, 3561, 3562, 3563, 3564, 3565, 3566, 3567, 3568, 3569, 3570,\n",
       "        3571, 3572, 3573, 3574, 3575, 3576, 3577, 3578, 3579, 3580, 3796,\n",
       "        3797, 3798, 3799, 3800, 3801, 3802, 3803, 3804, 3908, 3909, 3910,\n",
       "        3911, 3912, 3913, 3914, 3915, 3916, 3917, 3918, 3919, 3920, 3921,\n",
       "        3922, 3923, 3924, 3925, 3926, 3927, 3928, 3929, 3930, 3931, 3932,\n",
       "        3933, 3934, 3935, 3936, 3937, 3938, 3939, 3940, 3941, 3942, 3943,\n",
       "        3944, 3945, 3946, 3947, 3948, 3949, 3950, 3951, 3952, 3953, 3954,\n",
       "        3955, 3956, 3957, 3958, 3959, 3960, 3961, 3962, 3963, 3964, 4295,\n",
       "        4296, 4297, 4298, 4299, 4300, 4301, 4302, 4303, 4304, 4305, 4306,\n",
       "        4307, 4308, 4309, 4310, 4311, 4312, 4313, 4314, 4315, 4316, 4317,\n",
       "        4318, 4319, 4320, 4321, 4322, 4323, 4324, 4325, 4326, 4327, 4328,\n",
       "        4329, 4330, 4331]),)"
      ]
     },
     "execution_count": 72,
     "metadata": {},
     "output_type": "execute_result"
    }
   ],
   "source": [
    "np.nonzero(mC2_occ_15New)"
   ]
  },
  {
   "cell_type": "markdown",
   "metadata": {},
   "source": [
    "### Visualize Occupanct on protein C2"
   ]
  },
  {
   "cell_type": "code",
   "execution_count": 74,
   "metadata": {},
   "outputs": [
    {
     "data": {
      "text/plain": [
       "array([0.58, 0.58, 0.58, ..., 0.  , 0.  , 0.  ])"
      ]
     },
     "execution_count": 74,
     "metadata": {},
     "output_type": "execute_result"
    }
   ],
   "source": [
    "prot_15nmC2.occupancies = mC2_occ_15New\n",
    "prot_15nmC2.occupancies"
   ]
  },
  {
   "cell_type": "code",
   "execution_count": 75,
   "metadata": {},
   "outputs": [],
   "source": [
    "with mda.Writer(\"prot_15nmC2.pdb\") as pdb:\n",
    "    pdb.write(prot_15nmC2)"
   ]
  },
  {
   "cell_type": "markdown",
   "metadata": {},
   "source": [
    "### Residue Importance: 1.5 nm restrained C2"
   ]
  },
  {
   "cell_type": "code",
   "execution_count": 76,
   "metadata": {},
   "outputs": [],
   "source": [
    "# Need to fix function, the residue number are not counting the other 2 PLGA oligomers cuz of same resid number\n",
    "trj_ppmap_15nmC2 = prot_poly_cntmovie(prot_15nmC2, all15_pn20C2, dmax, u15nm_pn20C2, 0, 10000)\n",
    "#trj_ppmap_12nm_chC = prot_poly_cntmovie(prot, all_pn20_C, dmax, u_pn20, 0, 10000)"
   ]
  },
  {
   "cell_type": "code",
   "execution_count": null,
   "metadata": {},
   "outputs": [],
   "source": [
    "trj_ppmap_15nmC2 = np.load(\"1.5nmC2_res.npy\", allow_pickle=True)"
   ]
  },
  {
   "cell_type": "code",
   "execution_count": 77,
   "metadata": {},
   "outputs": [],
   "source": [
    "np.save('1.5nmC2_res.npy', trj_ppmap_15nmC2)    # .npy extension is added if not given"
   ]
  },
  {
   "cell_type": "code",
   "execution_count": 78,
   "metadata": {},
   "outputs": [
    {
     "data": {
      "text/plain": [
       "(583, 60)"
      ]
     },
     "execution_count": 78,
     "metadata": {},
     "output_type": "execute_result"
    }
   ],
   "source": [
    "trj_ppmap_15nmC2[0].shape"
   ]
  },
  {
   "cell_type": "code",
   "execution_count": 79,
   "metadata": {},
   "outputs": [
    {
     "data": {
      "text/plain": [
       "0.0"
      ]
     },
     "execution_count": 79,
     "metadata": {},
     "output_type": "execute_result"
    }
   ],
   "source": [
    "np.sum(trj_ppmap_15nmC2[1000][0])"
   ]
  },
  {
   "cell_type": "code",
   "execution_count": 80,
   "metadata": {},
   "outputs": [
    {
     "data": {
      "text/plain": [
       "(10000,)"
      ]
     },
     "execution_count": 80,
     "metadata": {},
     "output_type": "execute_result"
    }
   ],
   "source": [
    "kj = np.zeros(shape=(10000, 583))\n",
    "kj[:,582].shape"
   ]
  },
  {
   "cell_type": "code",
   "execution_count": 81,
   "metadata": {},
   "outputs": [],
   "source": [
    "ppC2_15nm_ct = np.zeros(shape=(10000, 583))\n",
    "for i in range(10000):\n",
    "    for j in range(583):\n",
    "        ppC2_15nm_ct[i][j] = np.sum(trj_ppmap_15nmC2[i][j])"
   ]
  },
  {
   "cell_type": "code",
   "execution_count": 82,
   "metadata": {},
   "outputs": [],
   "source": [
    "ppC2_15nmtot = np.zeros(shape=(583))\n",
    "for i in range(583):\n",
    "    ppC2_15nmtot[i] = np.sum(ppC2_15nm_ct[:,i])\n",
    "#pp_12nmtot"
   ]
  },
  {
   "cell_type": "code",
   "execution_count": 83,
   "metadata": {},
   "outputs": [
    {
     "data": {
      "text/plain": [
       "(array([  0,   1,   2,   3,   4,   5,   7,   8,  10,  11,  12,  13,  14,\n",
       "         15,  16,  17,  19,  50,  52,  53,  54,  55,  56,  57, 126, 128,\n",
       "        129, 130, 133, 153, 157, 160, 161, 164, 165, 167, 168, 169, 170,\n",
       "        171, 175, 178, 179, 182, 186, 231, 238, 256, 257, 259, 260, 261,\n",
       "        263, 264, 266, 267, 273, 274, 275, 276, 277, 278, 279, 280, 281,\n",
       "        282, 283, 284, 296, 297, 298, 299, 300, 301, 302, 303, 304, 308,\n",
       "        309, 314, 315, 318, 319, 321, 332, 335, 336, 337, 338, 339, 350,\n",
       "        352, 353, 355, 356, 357, 358, 359, 360, 361, 362, 364, 367, 369,\n",
       "        370, 371, 372, 373, 374, 376, 377, 378, 379, 380, 381, 382, 383,\n",
       "        384, 385, 386, 387, 388, 390, 391, 392, 393, 394, 395, 396, 404,\n",
       "        408, 410, 411, 412, 414, 433, 434, 436, 437, 438, 439, 440, 441,\n",
       "        442, 443, 444, 445, 469, 470, 473, 477, 481, 487, 488, 489, 490,\n",
       "        491, 492, 493, 494, 535, 536, 537, 538, 539, 540]),)"
      ]
     },
     "execution_count": 83,
     "metadata": {},
     "output_type": "execute_result"
    }
   ],
   "source": [
    "np.nonzero(ppC2_15nmtot)"
   ]
  },
  {
   "cell_type": "code",
   "execution_count": 104,
   "metadata": {},
   "outputs": [
    {
     "data": {
      "application/vnd.jupyter.widget-view+json": {
       "model_id": "cd8a1ebe4f0749239ca8765cd16af6b5",
       "version_major": 2,
       "version_minor": 0
      },
      "text/plain": [
       "Canvas(toolbar=Toolbar(toolitems=[('Home', 'Reset original view', 'home', 'home'), ('Back', 'Back to previous …"
      ]
     },
     "metadata": {},
     "output_type": "display_data"
    },
    {
     "data": {
      "text/plain": [
       "Text(0.5, 0, 'BSA Residue ID')"
      ]
     },
     "execution_count": 104,
     "metadata": {},
     "output_type": "execute_result"
    }
   ],
   "source": [
    "y_pos = np.arange(583) + 1\n",
    "wid = np.zeros(shape=583)\n",
    "wid += 1.5\n",
    "#wid\n",
    "fig = plt.figure(figsize=(12,12))\n",
    "fig.canvas.layout.width = '800px'\n",
    "fig.canvas.layout.height = '700px'\n",
    "plt.bar(y_pos, ppC2_15nmtot/np.sum(ppC2_15nmtot), align='center',width=wid, color='#562A8B', alpha=0.3, label='1.5 nm PLGA')\n",
    "#plt.bar(y_pos, pp_12nmtot, align='center',width=wid, alpha=0.5, color='#1D77CF',label='1.2 nm PLGA')\n",
    "plt.title(\"BSA in water with PLGA Restrained Config. 2, 100 ns\", fontsize=18)\n",
    "plt.xticks(fontsize=14)\n",
    "plt.yticks(fontsize=14)\n",
    "plt.xlim([0,600])\n",
    "plt.ylim([0,0.16])\n",
    "plt.legend(fontsize=14)\n",
    "plt.ylabel(r'Normalized Total No. of PLGA contacts', fontsize=15)\n",
    "plt.xlabel(r'BSA Residue ID', fontsize=15)"
   ]
  },
  {
   "cell_type": "markdown",
   "metadata": {},
   "source": [
    "### Total number of residues that are within 4 angstroms of a PLGA oligomer residue within a 100 ns trajectory block, C2"
   ]
  },
  {
   "cell_type": "code",
   "execution_count": 85,
   "metadata": {},
   "outputs": [
    {
     "data": {
      "text/html": [
       "<div>\n",
       "<style scoped>\n",
       "    .dataframe tbody tr th:only-of-type {\n",
       "        vertical-align: middle;\n",
       "    }\n",
       "\n",
       "    .dataframe tbody tr th {\n",
       "        vertical-align: top;\n",
       "    }\n",
       "\n",
       "    .dataframe thead th {\n",
       "        text-align: right;\n",
       "    }\n",
       "</style>\n",
       "<table border=\"1\" class=\"dataframe\">\n",
       "  <thead>\n",
       "    <tr style=\"text-align: right;\">\n",
       "      <th></th>\n",
       "      <th>Amino_acids</th>\n",
       "      <th>No_of_surf_res (MDAnalysis)</th>\n",
       "      <th>No_of_surf_res (VMD)</th>\n",
       "      <th>plgaC2_1.2nm_100ns</th>\n",
       "      <th>plgaC2_1.5nm_100ns</th>\n",
       "    </tr>\n",
       "  </thead>\n",
       "  <tbody>\n",
       "    <tr>\n",
       "      <th>0</th>\n",
       "      <td>LYS</td>\n",
       "      <td>59</td>\n",
       "      <td>59</td>\n",
       "      <td>28</td>\n",
       "      <td>28</td>\n",
       "    </tr>\n",
       "    <tr>\n",
       "      <th>1</th>\n",
       "      <td>ARG</td>\n",
       "      <td>23</td>\n",
       "      <td>23</td>\n",
       "      <td>5</td>\n",
       "      <td>6</td>\n",
       "    </tr>\n",
       "    <tr>\n",
       "      <th>2</th>\n",
       "      <td>HIS</td>\n",
       "      <td>16</td>\n",
       "      <td>16</td>\n",
       "      <td>6</td>\n",
       "      <td>5</td>\n",
       "    </tr>\n",
       "    <tr>\n",
       "      <th>3</th>\n",
       "      <td>ASP</td>\n",
       "      <td>40</td>\n",
       "      <td>40</td>\n",
       "      <td>18</td>\n",
       "      <td>15</td>\n",
       "    </tr>\n",
       "    <tr>\n",
       "      <th>4</th>\n",
       "      <td>GLU</td>\n",
       "      <td>59</td>\n",
       "      <td>59</td>\n",
       "      <td>29</td>\n",
       "      <td>26</td>\n",
       "    </tr>\n",
       "    <tr>\n",
       "      <th>5</th>\n",
       "      <td>SER</td>\n",
       "      <td>23</td>\n",
       "      <td>23</td>\n",
       "      <td>4</td>\n",
       "      <td>5</td>\n",
       "    </tr>\n",
       "    <tr>\n",
       "      <th>6</th>\n",
       "      <td>THR</td>\n",
       "      <td>29</td>\n",
       "      <td>29</td>\n",
       "      <td>9</td>\n",
       "      <td>10</td>\n",
       "    </tr>\n",
       "    <tr>\n",
       "      <th>7</th>\n",
       "      <td>CYS</td>\n",
       "      <td>24</td>\n",
       "      <td>24</td>\n",
       "      <td>11</td>\n",
       "      <td>12</td>\n",
       "    </tr>\n",
       "    <tr>\n",
       "      <th>8</th>\n",
       "      <td>TYR</td>\n",
       "      <td>19</td>\n",
       "      <td>19</td>\n",
       "      <td>3</td>\n",
       "      <td>3</td>\n",
       "    </tr>\n",
       "    <tr>\n",
       "      <th>9</th>\n",
       "      <td>ASN</td>\n",
       "      <td>14</td>\n",
       "      <td>14</td>\n",
       "      <td>7</td>\n",
       "      <td>5</td>\n",
       "    </tr>\n",
       "    <tr>\n",
       "      <th>10</th>\n",
       "      <td>GLN</td>\n",
       "      <td>19</td>\n",
       "      <td>19</td>\n",
       "      <td>8</td>\n",
       "      <td>7</td>\n",
       "    </tr>\n",
       "    <tr>\n",
       "      <th>11</th>\n",
       "      <td>GLY</td>\n",
       "      <td>11</td>\n",
       "      <td>11</td>\n",
       "      <td>8</td>\n",
       "      <td>2</td>\n",
       "    </tr>\n",
       "    <tr>\n",
       "      <th>12</th>\n",
       "      <td>ALA</td>\n",
       "      <td>39</td>\n",
       "      <td>38</td>\n",
       "      <td>15</td>\n",
       "      <td>12</td>\n",
       "    </tr>\n",
       "    <tr>\n",
       "      <th>13</th>\n",
       "      <td>VAL</td>\n",
       "      <td>19</td>\n",
       "      <td>19</td>\n",
       "      <td>7</td>\n",
       "      <td>4</td>\n",
       "    </tr>\n",
       "    <tr>\n",
       "      <th>14</th>\n",
       "      <td>LEU</td>\n",
       "      <td>34</td>\n",
       "      <td>34</td>\n",
       "      <td>10</td>\n",
       "      <td>12</td>\n",
       "    </tr>\n",
       "    <tr>\n",
       "      <th>15</th>\n",
       "      <td>ILE</td>\n",
       "      <td>7</td>\n",
       "      <td>7</td>\n",
       "      <td>1</td>\n",
       "      <td>2</td>\n",
       "    </tr>\n",
       "    <tr>\n",
       "      <th>16</th>\n",
       "      <td>MET</td>\n",
       "      <td>3</td>\n",
       "      <td>3</td>\n",
       "      <td>1</td>\n",
       "      <td>1</td>\n",
       "    </tr>\n",
       "    <tr>\n",
       "      <th>17</th>\n",
       "      <td>PHE</td>\n",
       "      <td>20</td>\n",
       "      <td>20</td>\n",
       "      <td>6</td>\n",
       "      <td>3</td>\n",
       "    </tr>\n",
       "    <tr>\n",
       "      <th>18</th>\n",
       "      <td>TRP</td>\n",
       "      <td>2</td>\n",
       "      <td>2</td>\n",
       "      <td>1</td>\n",
       "      <td>1</td>\n",
       "    </tr>\n",
       "    <tr>\n",
       "      <th>19</th>\n",
       "      <td>PRO</td>\n",
       "      <td>27</td>\n",
       "      <td>27</td>\n",
       "      <td>5</td>\n",
       "      <td>13</td>\n",
       "    </tr>\n",
       "  </tbody>\n",
       "</table>\n",
       "</div>"
      ],
      "text/plain": [
       "   Amino_acids  No_of_surf_res (MDAnalysis)  No_of_surf_res (VMD)  \\\n",
       "0          LYS                           59                    59   \n",
       "1          ARG                           23                    23   \n",
       "2          HIS                           16                    16   \n",
       "3          ASP                           40                    40   \n",
       "4          GLU                           59                    59   \n",
       "5          SER                           23                    23   \n",
       "6          THR                           29                    29   \n",
       "7          CYS                           24                    24   \n",
       "8          TYR                           19                    19   \n",
       "9          ASN                           14                    14   \n",
       "10         GLN                           19                    19   \n",
       "11         GLY                           11                    11   \n",
       "12         ALA                           39                    38   \n",
       "13         VAL                           19                    19   \n",
       "14         LEU                           34                    34   \n",
       "15         ILE                            7                     7   \n",
       "16         MET                            3                     3   \n",
       "17         PHE                           20                    20   \n",
       "18         TRP                            2                     2   \n",
       "19         PRO                           27                    27   \n",
       "\n",
       "    plgaC2_1.2nm_100ns  plgaC2_1.5nm_100ns  \n",
       "0                   28                  28  \n",
       "1                    5                   6  \n",
       "2                    6                   5  \n",
       "3                   18                  15  \n",
       "4                   29                  26  \n",
       "5                    4                   5  \n",
       "6                    9                  10  \n",
       "7                   11                  12  \n",
       "8                    3                   3  \n",
       "9                    7                   5  \n",
       "10                   8                   7  \n",
       "11                   8                   2  \n",
       "12                  15                  12  \n",
       "13                   7                   4  \n",
       "14                  10                  12  \n",
       "15                   1                   2  \n",
       "16                   1                   1  \n",
       "17                   6                   3  \n",
       "18                   1                   1  \n",
       "19                   5                  13  "
      ]
     },
     "execution_count": 85,
     "metadata": {},
     "output_type": "execute_result"
    }
   ],
   "source": [
    "apl_15nmC2 = []\n",
    "\n",
    "# Some residues don't have any contact with the 3 N = 20 PLGA oligomers within 100 ns,\n",
    "# Put residues that do have contact with BSA in a separate list\n",
    "for index, r_pl in plgC2_1_5nmaa.iterrows():\n",
    "    if r_pl['mda_plga_frm_1.5nmC2'] != 0:\n",
    "        apl_15nmC2.append(r_pl['BSA_des_res'])\n",
    "        \n",
    "# This chunk of code gets an AA count from the above list, in order \n",
    "# to get a total number of residues that contact BSA\n",
    "cpl_15nmC2 = []\n",
    "\n",
    "for index, r_a in aa_count.iterrows():\n",
    "    count = 0\n",
    "    for i in range(len(apl_15nmC2)):\n",
    "        if r_a['Amino_acids'] in apl_15nmC2[i]:\n",
    "            count += 1\n",
    "    cpl_15nmC2.append(count)      \n",
    "        \n",
    "aa_count['plgaC2_1.5nm_100ns'] = cpl_15nmC2\n",
    "#aa_count.drop('No_of_surf_res (VMD)', axis=1, inplace=True)\n",
    "aa_count"
   ]
  },
  {
   "cell_type": "code",
   "execution_count": 86,
   "metadata": {},
   "outputs": [
    {
     "data": {
      "text/plain": [
       "172"
      ]
     },
     "execution_count": 86,
     "metadata": {},
     "output_type": "execute_result"
    }
   ],
   "source": [
    "# This gives the total number of residues that are within 4 angstroms of a PLGA oligomer residue\n",
    "# within a 100 ns trajectory block\n",
    "aa_count['plgaC2_1.5nm_100ns'].sum()"
   ]
  },
  {
   "cell_type": "code",
   "execution_count": 87,
   "metadata": {},
   "outputs": [
    {
     "data": {
      "text/plain": [
       "487"
      ]
     },
     "execution_count": 87,
     "metadata": {},
     "output_type": "execute_result"
    }
   ],
   "source": [
    "# This gives the total number of residues that are within 4 angstroms of a water molecule\n",
    "# within a 1 ns trajectory block\n",
    "aa_count['No_of_surf_res (MDAnalysis)'].sum()"
   ]
  },
  {
   "cell_type": "code",
   "execution_count": 88,
   "metadata": {},
   "outputs": [
    {
     "data": {
      "text/plain": [
       "0.3531827515400411"
      ]
     },
     "execution_count": 88,
     "metadata": {},
     "output_type": "execute_result"
    }
   ],
   "source": [
    "# This gives the total fraction of contacts within the 1.2 nm Rg 100 ns trajectory\n",
    "aa_count['plgaC2_1.5nm_100ns'].sum()/aa_count['No_of_surf_res (MDAnalysis)'].sum()"
   ]
  },
  {
   "cell_type": "code",
   "execution_count": 89,
   "metadata": {},
   "outputs": [
    {
     "name": "stdout",
     "output_type": "stream",
     "text": [
      "Mean Occpancy (1.5 nm Rg): 0.13188023255813952 Occ. std. dev.: 0.22880708657089754\n"
     ]
    }
   ],
   "source": [
    "# Mean occupancy and std deviation \n",
    "ll_mo15 = [value[1] for key, value in h2di_15nmC2.items()]\n",
    "print(\"Mean Occpancy (1.5 nm Rg): \"+str(np.mean(ll_mo15)), \"Occ. std. dev.: \"+str(np.std(ll_mo15)))"
   ]
  },
  {
   "cell_type": "code",
   "execution_count": 90,
   "metadata": {},
   "outputs": [
    {
     "data": {
      "text/plain": [
       "{'Negative': [62141.0, 41, 260689.0731707317, 0.18803067103970442],\n",
       " 'Positive': [63358.0, 39, 279425.0256410257, 0.20154460038360955],\n",
       " 'Polar': [46026.0, 42, 188487.42857142858, 0.13595283164639052],\n",
       " 'Hydrophobic': [55309.0, 50, 190262.96, 0.13723349278767175],\n",
       " 'Aromatic': [32620.0, 12, 467553.3333333333, 0.33723840414262385]}"
      ]
     },
     "execution_count": 90,
     "metadata": {},
     "output_type": "execute_result"
    }
   ],
   "source": [
    "cd_15nmC2 = frac_cont(h2di_15nmC2)\n",
    "cd_15nmC2"
   ]
  },
  {
   "cell_type": "markdown",
   "metadata": {},
   "source": [
    "### Calc. fractional contacts for each AA group type, C2"
   ]
  },
  {
   "cell_type": "code",
   "execution_count": 91,
   "metadata": {},
   "outputs": [
    {
     "name": "stdout",
     "output_type": "stream",
     "text": [
      "0\n",
      "2000\n",
      "2000\n",
      "4000\n",
      "4000\n",
      "6000\n",
      "6000\n",
      "8000\n",
      "8000\n",
      "10000\n"
     ]
    }
   ],
   "source": [
    "fcntC2_rg1_5nm, prgrp_1_5nmC2, aa_matx_15nmC2 = bavg_frac_cnt(5, prot_15nmC2, all15_pn20C2, dmax,\n",
    "                                                        u15nm_pn20C2, no_surf, 0, 10000)"
   ]
  },
  {
   "cell_type": "code",
   "execution_count": 92,
   "metadata": {},
   "outputs": [
    {
     "data": {
      "text/plain": [
       "{'Negative': array([0.18819847, 0.18296725, 0.18726038, 0.22900121, 0.17062291]),\n",
       " 'Positive': array([0.18378093, 0.18007416, 0.21738424, 0.24873969, 0.21072972]),\n",
       " 'Polar': array([0.09189699, 0.10329381, 0.16180039, 0.1772572 , 0.19911085]),\n",
       " 'Hydrophobic': array([0.19646371, 0.23636099, 0.14089467, 0.15278241, 0.14244359]),\n",
       " 'Aromatic': array([0.3396599 , 0.29730379, 0.29266032, 0.19221949, 0.27709293]),\n",
       " 'total_frac': array([0.18275154, 0.12320329, 0.12936345, 0.16221766, 0.19917864])}"
      ]
     },
     "execution_count": 92,
     "metadata": {},
     "output_type": "execute_result"
    }
   ],
   "source": [
    "fcntC2_rg1_5nm"
   ]
  },
  {
   "cell_type": "code",
   "execution_count": 93,
   "metadata": {},
   "outputs": [
    {
     "data": {
      "text/plain": [
       "array([0.19161004, 0.20814175, 0.14667185, 0.17378908, 0.27978729])"
      ]
     },
     "execution_count": 93,
     "metadata": {},
     "output_type": "execute_result"
    }
   ],
   "source": [
    "fc_15nmC2_mean = np.array([np.mean(fcntC2_rg1_5nm['Negative']), np.mean(fcntC2_rg1_5nm['Positive'])\n",
    "                        ,np.mean(fcntC2_rg1_5nm['Polar']),np.mean(fcntC2_rg1_5nm['Hydrophobic'])\n",
    "                        , np.mean(fcntC2_rg1_5nm['Aromatic'])])\n",
    "fc_15nmC2_mean"
   ]
  },
  {
   "cell_type": "code",
   "execution_count": 94,
   "metadata": {},
   "outputs": [
    {
     "data": {
      "text/plain": [
       "array([0.01971708, 0.02498621, 0.04194312, 0.03724311, 0.048441  ])"
      ]
     },
     "execution_count": 94,
     "metadata": {},
     "output_type": "execute_result"
    }
   ],
   "source": [
    "fc_15nmC2_std = np.array([np.std(fcntC2_rg1_5nm['Negative']), np.std(fcntC2_rg1_5nm['Positive'])\n",
    "                       ,np.std(fcntC2_rg1_5nm['Polar']),np.std(fcntC2_rg1_5nm['Hydrophobic'])\n",
    "                       , np.std(fcntC2_rg1_5nm['Aromatic'])])\n",
    "fc_15nmC2_std"
   ]
  },
  {
   "cell_type": "code",
   "execution_count": 95,
   "metadata": {},
   "outputs": [
    {
     "data": {
      "application/vnd.jupyter.widget-view+json": {
       "model_id": "403d9744cfe14dae9e4ee09e4ded43d0",
       "version_major": 2,
       "version_minor": 0
      },
      "text/plain": [
       "Canvas(toolbar=Toolbar(toolitems=[('Home', 'Reset original view', 'home', 'home'), ('Back', 'Back to previous …"
      ]
     },
     "metadata": {},
     "output_type": "display_data"
    },
    {
     "data": {
      "text/plain": [
       "Text(0, 0.5, 'Fractional Contacts')"
      ]
     },
     "execution_count": 95,
     "metadata": {},
     "output_type": "execute_result"
    }
   ],
   "source": [
    "x_pos = np.arange(5)\n",
    "width = 0.35\n",
    "aa_types = [\"Negative\", \"Positive\", \"Polar\", \"Hydrophobic\", \"Aromatic\"]\n",
    "fig = plt.figure(figsize=(7,7))\n",
    "fig.canvas.layout.width = '500px'\n",
    "fig.canvas.layout.height = '400px'\n",
    "plt.bar(x_pos, fc_12nmC2_mean, width, yerr=fc_12nmC2_std, ecolor='black',capsize=5, color='royalblue')\n",
    "plt.bar(x_pos+width, fc_15nmC2_mean, width, yerr=fc_15nmC2_std, ecolor='black',capsize=5, color='c')\n",
    "plt.title(r'Fractional Contacts Rg restrained', fontsize=15)\n",
    "plt.xticks(x_pos+width/2, labels=aa_types, fontsize=12)\n",
    "plt.legend(['Rg = 1.2 nm', 'Rg = 1.5 nm'], frameon=False)\n",
    "plt.ylabel(r'Fractional Contacts', fontsize=15)"
   ]
  },
  {
   "cell_type": "markdown",
   "metadata": {},
   "source": [
    "### Total fraction of contacts: averages and std dev calc from 5 20 ns blocks, C2"
   ]
  },
  {
   "cell_type": "code",
   "execution_count": 96,
   "metadata": {},
   "outputs": [
    {
     "data": {
      "text/plain": [
       "0.1593429158110883"
      ]
     },
     "execution_count": 96,
     "metadata": {},
     "output_type": "execute_result"
    }
   ],
   "source": [
    "np.mean(fcntC2_rg1_5nm['total_frac'])"
   ]
  },
  {
   "cell_type": "code",
   "execution_count": 97,
   "metadata": {},
   "outputs": [
    {
     "data": {
      "text/plain": [
       "0.029488826400026685"
      ]
     },
     "execution_count": 97,
     "metadata": {},
     "output_type": "execute_result"
    }
   ],
   "source": [
    "np.std(fcntC2_rg1_5nm['total_frac'])"
   ]
  },
  {
   "cell_type": "code",
   "execution_count": null,
   "metadata": {},
   "outputs": [],
   "source": [
    "# matrix containing the avg number of PLGA residues for each block for each amino acid \n",
    "np.where(aa_matx_15nm[0, 0] != 0)"
   ]
  },
  {
   "cell_type": "markdown",
   "metadata": {},
   "source": [
    "### Avg no. PLGA residues per BSA AA residue group, C2"
   ]
  },
  {
   "cell_type": "code",
   "execution_count": 98,
   "metadata": {},
   "outputs": [
    {
     "data": {
      "text/plain": [
       "{'Negative': array([array([8.127     , 5.41062575]), array([11.7595    ,  3.49995139]),\n",
       "        array([15.6785    ,  3.50829556]),\n",
       "        array([16.9215    ,  3.42700128]), array([21.718    ,  4.1395019])],\n",
       "       dtype=object),\n",
       " 'Positive': array([array([5.2815   , 4.1057591]), array([11.551     ,  3.47280852]),\n",
       "        array([24.7385    ,  4.97665729]),\n",
       "        array([22.024     ,  5.14241422]),\n",
       "        array([28.3595    ,  4.74881667])], dtype=object),\n",
       " 'Polar': array([array([1.645     , 2.14615354]), array([7.0735    , 2.84975398]),\n",
       "        array([18.9585    ,  5.78314601]),\n",
       "        array([16.925     ,  5.23339039]),\n",
       "        array([26.3565    ,  4.79618679])], dtype=object),\n",
       " 'Hydrophobic': array([array([5.3845    , 4.06394633]), array([12.1175    ,  4.00346022]),\n",
       "        array([9.2825    , 2.27369605]), array([11.001     ,  3.65061625]),\n",
       "        array([19.993     ,  4.26215333])], dtype=object),\n",
       " 'Aromatic': array([array([1.997     , 1.81548644]), array([7.7845    , 2.28736961]),\n",
       "        array([12.573     ,  3.05002803]),\n",
       "        array([10.4765    ,  4.33813874]),\n",
       "        array([16.033     ,  3.02884648])], dtype=object)}"
      ]
     },
     "execution_count": 98,
     "metadata": {},
     "output_type": "execute_result"
    }
   ],
   "source": [
    "prgrp_1_5nmC2"
   ]
  },
  {
   "cell_type": "code",
   "execution_count": 100,
   "metadata": {},
   "outputs": [],
   "source": [
    "mean_15nmC2 = np.zeros(shape=5)\n",
    "std_15nmC2 = np.zeros(shape=5)\n",
    "count = 0\n",
    "for key, value in prgrp_1_5nmC2.items():\n",
    "    mpl_15nmC2 = []\n",
    "    var_15nmC2 = []\n",
    "    for i in prgrp_1_5nmC2[str(key)].flat:\n",
    "        mpl_15nmC2.append(i[0])\n",
    "        var_15nmC2.append((i[1])**2)\n",
    "    \n",
    "    # calc frac cont averages\n",
    "    mean_15nmC2[count] = np.mean(mpl_15nmC2)\n",
    "    \n",
    "    # calc frac cont std dev: https://stats.stackexchange.com/questions/25848/how-to-sum-a-standard-deviation \n",
    "    std_15nmC2[count] = np.std(mpl_15nmC2)\n",
    "    #std_15nm[count] = np.sqrt(np.sum(var_15nm)/5)\n",
    "    \n",
    "    count += 1\n"
   ]
  },
  {
   "cell_type": "code",
   "execution_count": 101,
   "metadata": {},
   "outputs": [
    {
     "data": {
      "text/plain": [
       "array([14.8409, 18.3909, 14.1917, 11.5557,  9.7728])"
      ]
     },
     "execution_count": 101,
     "metadata": {},
     "output_type": "execute_result"
    }
   ],
   "source": [
    "mean_15nmC2"
   ]
  },
  {
   "cell_type": "code",
   "execution_count": 102,
   "metadata": {},
   "outputs": [
    {
     "data": {
      "text/plain": [
       "array([4.62377451, 8.6198031 , 8.78935859, 4.79713436, 4.73165553])"
      ]
     },
     "execution_count": 102,
     "metadata": {},
     "output_type": "execute_result"
    }
   ],
   "source": [
    "std_15nmC2"
   ]
  },
  {
   "cell_type": "code",
   "execution_count": 103,
   "metadata": {},
   "outputs": [
    {
     "data": {
      "application/vnd.jupyter.widget-view+json": {
       "model_id": "622f646d6ab64712a536dbebb371247e",
       "version_major": 2,
       "version_minor": 0
      },
      "text/plain": [
       "Canvas(toolbar=Toolbar(toolitems=[('Home', 'Reset original view', 'home', 'home'), ('Back', 'Back to previous …"
      ]
     },
     "metadata": {},
     "output_type": "display_data"
    },
    {
     "data": {
      "text/plain": [
       "Text(0, 0.5, 'No. of PLGA residues')"
      ]
     },
     "execution_count": 103,
     "metadata": {},
     "output_type": "execute_result"
    }
   ],
   "source": [
    "x_pos = np.arange(5)\n",
    "width = 0.35\n",
    "aa_types = [\"Negative\", \"Positive\", \"Polar\", \"Hydrophobic\", \"Aromatic\"]\n",
    "fig = plt.figure(figsize=(7,7))\n",
    "fig.canvas.layout.width = '500px'\n",
    "fig.canvas.layout.height = '400px'\n",
    "plt.bar(x_pos, mean_12nmC2, width, yerr=std_12nmC2, ecolor='black',capsize=5, color='royalblue')\n",
    "plt.bar(x_pos+width, mean_15nmC2, width, yerr=std_15nmC2, ecolor='black',capsize=5, color='c')\n",
    "plt.title(r'No. of PLGA residues Rg restrained Config. 2', fontsize=15)\n",
    "plt.xticks(x_pos+width/2, labels=aa_types, fontsize=12)\n",
    "plt.legend(['Rg = 1.2 nm', 'Rg = 1.5 nm'], frameon=False)\n",
    "plt.ylabel(r'No. of PLGA residues', fontsize=15)"
   ]
  },
  {
   "cell_type": "markdown",
   "metadata": {},
   "source": [
    "### Protein/polymer contact map movie, C2"
   ]
  },
  {
   "cell_type": "code",
   "execution_count": null,
   "metadata": {},
   "outputs": [],
   "source": [
    "fig = plt.figure(figsize=(10,10))\n",
    "\n",
    "# Set the axis and the plot titles pp\n",
    "\n",
    "plt.title(\"BSA/PLGA contact map 1.5 nm res. Config 2\", fontsize=22, loc='left')\n",
    "plt.xlabel(\"PLGA Residue No.\", fontsize=22)\n",
    "plt.ylabel(\"BSA Residue No.\", fontsize=20)\n",
    "\n",
    " # Set the axis range \n",
    "plt.ylim(583, 0)\n",
    "plt.xlim(0, 60)\n",
    "\n",
    "# Plot bands for each chain \n",
    "BANDS = (\n",
    "    (0, 20, \"purple\", \"B\"),\n",
    "    (20, 40, \"blue\", \"C\"),\n",
    "    (40, 60, \"green\", \"D\"),\n",
    ")\n",
    "    \n",
    "text_y = 0.98 # Close to the top\n",
    "for start, stop, color, band in BANDS:\n",
    "    plt.axvspan(start, stop,color=color, alpha=0.15)\n",
    "    text_x = middle_of_band(start,stop)\n",
    "    plt.text(\n",
    "        text_x,\n",
    "        text_y,\n",
    "        \"PLGA chain \" + band,\n",
    "        color=color,\n",
    "        fontsize=18,\n",
    "        transform=fig.gca().transAxes,\n",
    "        horizontalalignment='center',\n",
    "        verticalalignment='center',\n",
    "        style='italic',\n",
    "    )\n",
    "    \n",
    "plt.text(0.94, 1, \"Time [ns]:\", fontsize=20, transform=fig.gca().transAxes, horizontalalignment='right', verticalalignment='bottom')\n",
    "\n",
    "# Set tick label size\n",
    "fig.gca().tick_params(axis='both', which='major', labelsize=20)\n",
    "\n",
    "ims = []\n",
    "for i in range(10000):\n",
    "    data = trj_ppmap_15nm[i]\n",
    "    im = plt.imshow(data, aspect='auto', cmap='Greys')\n",
    "    t_sim = plt.text(1.03, 1, str(i/100), fontsize=20, transform=fig.gca().transAxes, horizontalalignment='right', verticalalignment='bottom')\n",
    "    ims.append([im, t_sim])\n",
    "    \n",
    "ani = animation.ArtistAnimation(fig, ims, blit=True, repeat=False)\n",
    "ani.save('1.5nm_res.mp4', writer='ffmpeg', fps=50, bitrate=100000)\n",
    "#plt.tight_layout()\n",
    "#plt.show()"
   ]
  },
  {
   "cell_type": "markdown",
   "metadata": {},
   "source": [
    "# 2 nm restrained Rg PLGA 100 ns trajectory C2"
   ]
  },
  {
   "cell_type": "markdown",
   "metadata": {},
   "source": [
    "Load the rg = 1.5 nm (3 PLGA N = 20 oligomer/BSA system) "
   ]
  },
  {
   "cell_type": "markdown",
   "metadata": {},
   "source": [
    "### Contact Analyis C2"
   ]
  },
  {
   "cell_type": "code",
   "execution_count": 105,
   "metadata": {},
   "outputs": [],
   "source": [
    "# Set up the MD Simulation\n",
    "u2nm_pn20C2 = mda.Universe(\"../C2_bsa_n20plga_inwater/C2_plgaRes/2nm_prodC2/2nmResplga.pdb\"\n",
    "                      , \"../C2_bsa_n20plga_inwater/C2_plgaRes/2nm_prodC2/C2_2nmResplga.xtc\")"
   ]
  },
  {
   "cell_type": "code",
   "execution_count": 106,
   "metadata": {},
   "outputs": [
    {
     "data": {
      "text/plain": [
       "<Universe with 10145 atoms>"
      ]
     },
     "execution_count": 106,
     "metadata": {},
     "output_type": "execute_result"
    }
   ],
   "source": [
    "u2nm_pn20C2"
   ]
  },
  {
   "cell_type": "code",
   "execution_count": 107,
   "metadata": {},
   "outputs": [
    {
     "data": {
      "text/plain": [
       "10001"
      ]
     },
     "execution_count": 107,
     "metadata": {},
     "output_type": "execute_result"
    }
   ],
   "source": [
    "pn20_len2nmC2 = len(u2nm_pn20C2.trajectory)\n",
    "pn20_len2nmC2"
   ]
  },
  {
   "cell_type": "code",
   "execution_count": 108,
   "metadata": {},
   "outputs": [
    {
     "data": {
      "text/plain": [
       "<AtomGroup with 543 atoms>"
      ]
     },
     "execution_count": 108,
     "metadata": {},
     "output_type": "execute_result"
    }
   ],
   "source": [
    "#Select all the PLGA residues, heavy atoms only \n",
    "all2nm_pn20C2 = u2nm_pn20C2.select_atoms(\"resname sPLG PLG tPLG and not type H\")\n",
    "all2nm_pn20C2"
   ]
  },
  {
   "cell_type": "code",
   "execution_count": 109,
   "metadata": {},
   "outputs": [
    {
     "data": {
      "text/plain": [
       "<AtomGroup with 4653 atoms>"
      ]
     },
     "execution_count": 109,
     "metadata": {},
     "output_type": "execute_result"
    }
   ],
   "source": [
    "# Select BSA residues, heavy atoms only \n",
    "prot_2nmC2 = u2nm_pn20C2.select_atoms(\"protein and not type H\")\n",
    "prot_2nmC2"
   ]
  },
  {
   "cell_type": "code",
   "execution_count": 112,
   "metadata": {},
   "outputs": [
    {
     "data": {
      "text/plain": [
       "{'<Residue TYR, 30>': [764.0, 0.0764],\n",
       " '<Residue LEU, 31>': [659.0, 0.0659],\n",
       " '<Residue GLN, 32>': [1175.0, 0.1175],\n",
       " '<Residue GLN, 33>': [1082.0, 0.1082],\n",
       " '<Residue ARG, 81>': [264.0, 0.0264],\n",
       " '<Residue TYR, 84>': [8.0, 0.0008],\n",
       " '<Residue GLY, 85>': [23.0, 0.0023],\n",
       " '<Residue ASP, 86>': [4228.0, 0.4228],\n",
       " '<Residue MET, 87>': [69.0, 0.0069],\n",
       " '<Residue ASP, 89>': [1798.0, 0.1798],\n",
       " '<Residue CYS, 90>': [857.0, 0.0857],\n",
       " '<Residue GLU, 92>': [408.0, 0.0408],\n",
       " '<Residue LYS, 93>': [843.0, 0.0843],\n",
       " '<Residue PRO, 96>': [13.0, 0.0013],\n",
       " '<Residue GLU, 97>': [647.0, 0.0647],\n",
       " '<Residue GLU, 100>': [1325.0, 0.1325],\n",
       " '<Residue CYS, 101>': [3121.0, 0.3121],\n",
       " '<Residue LEU, 103>': [103.0, 0.0103],\n",
       " '<Residue SER, 104>': [6981.0, 0.6981],\n",
       " '<Residue HIS, 105>': [6103.0, 0.6103],\n",
       " '<Residue LYS, 106>': [1876.0, 0.1876],\n",
       " '<Residue ASP, 107>': [2283.0, 0.2283],\n",
       " '<Residue SER, 109>': [160.0, 0.016],\n",
       " '<Residue PRO, 110>': [276.0, 0.0276],\n",
       " '<Residue ASP, 111>': [3.0, 0.0003],\n",
       " '<Residue TYR, 147>': [91.0, 0.0091],\n",
       " '<Residue GLU, 166>': [5.0, 0.0005],\n",
       " '<Residue LYS, 180>': [6.0, 0.0006],\n",
       " '<Residue GLN, 203>': [15.0, 0.0015],\n",
       " '<Residue LYS, 204>': [45.0, 0.0045],\n",
       " '<Residue GLU, 207>': [27.0, 0.0027],\n",
       " '<Residue ARG, 208>': [1937.0, 0.1937],\n",
       " '<Residue LYS, 211>': [3654.0, 0.3654],\n",
       " '<Residue ALA, 212>': [1541.0, 0.1541],\n",
       " '<Residue VAL, 215>': [1224.0, 0.1224],\n",
       " '<Residue LYS, 224>': [174.0, 0.0174],\n",
       " '<Residue ALA, 225>': [8.0, 0.0008],\n",
       " '<Residue GLU, 226>': [2499.0, 0.2499],\n",
       " '<Residue PHE, 227>': [7555.0, 0.7555],\n",
       " '<Residue VAL, 228>': [7376.0, 0.7376],\n",
       " '<Residue GLU, 229>': [549.0, 0.0549],\n",
       " '<Residue VAL, 230>': [190.0, 0.019],\n",
       " '<Residue THR, 231>': [7686.0, 0.7686],\n",
       " '<Residue LYS, 232>': [5784.0, 0.5784],\n",
       " '<Residue VAL, 234>': [858.0, 0.0858],\n",
       " '<Residue THR, 235>': [6663.0, 0.6663],\n",
       " '<Residue ASP, 236>': [1.0, 0.0001],\n",
       " '<Residue LYS, 239>': [23.0, 0.0023],\n",
       " '<Residue LYS, 261>': [1.0, 0.0001],\n",
       " '<Residue TYR, 262>': [224.0, 0.0224],\n",
       " '<Residue CYS, 264>': [2.0, 0.0002],\n",
       " '<Residue ASP, 265>': [25.0, 0.0025],\n",
       " '<Residue ASN, 266>': [69.0, 0.0069],\n",
       " '<Residue GLN, 267>': [4.0, 0.0004],\n",
       " '<Residue ASP, 268>': [661.0, 0.0661],\n",
       " '<Residue THR, 269>': [927.0, 0.0927],\n",
       " '<Residue ILE, 270>': [1.0, 0.0001],\n",
       " '<Residue SER, 272>': [9.0, 0.0009],\n",
       " '<Residue LYS, 273>': [1.0, 0.0001],\n",
       " '<Residue LYS, 275>': [247.0, 0.0247],\n",
       " '<Residue GLU, 276>': [3.0, 0.0003],\n",
       " '<Residue CYS, 278>': [6.0, 0.0006],\n",
       " '<Residue ASP, 279>': [11.0, 0.0011],\n",
       " '<Residue LYS, 280>': [5.0, 0.0005],\n",
       " '<Residue LYS, 285>': [9.0, 0.0009],\n",
       " '<Residue ASP, 295>': [1.0, 0.0001],\n",
       " '<Residue ALA, 296>': [6.0, 0.0006],\n",
       " '<Residue ILE, 297>': [1.0, 0.0001],\n",
       " '<Residue PRO, 298>': [2.0, 0.0002],\n",
       " '<Residue GLU, 299>': [68.0, 0.0068],\n",
       " '<Residue ASN, 300>': [47.0, 0.0047],\n",
       " '<Residue PRO, 302>': [3.0, 0.0003],\n",
       " '<Residue ASP, 307>': [5287.0, 0.5287],\n",
       " '<Residue PHE, 308>': [8326.0, 0.8326],\n",
       " '<Residue ASP, 311>': [107.0, 0.0107],\n",
       " '<Residue LYS, 312>': [17.0, 0.0017],\n",
       " '<Residue ASP, 313>': [898.0, 0.0898],\n",
       " '<Residue VAL, 314>': [71.0, 0.0071],\n",
       " '<Residue LYS, 316>': [2537.0, 0.2537],\n",
       " '<Residue ASN, 317>': [8401.0, 0.8401],\n",
       " '<Residue TYR, 318>': [2.0, 0.0002],\n",
       " '<Residue GLU, 320>': [6772.0, 0.6772],\n",
       " '<Residue ALA, 321>': [7030.0, 0.703],\n",
       " '<Residue LYS, 322>': [7.0, 0.0007],\n",
       " '<Residue ASP, 323>': [3261.0, 0.3261],\n",
       " '<Residue ALA, 324>': [8093.0, 0.8093],\n",
       " '<Residue PHE, 325>': [8765.0, 0.8765],\n",
       " '<Residue LEU, 326>': [13.0, 0.0013],\n",
       " '<Residue GLY, 327>': [2500.0, 0.25],\n",
       " '<Residue SER, 328>': [8711.0, 0.8711],\n",
       " '<Residue PHE, 329>': [31.0, 0.0031],\n",
       " '<Residue TYR, 331>': [97.0, 0.0097],\n",
       " '<Residue GLU, 332>': [5125.0, 0.5125],\n",
       " '<Residue ARG, 335>': [15.0, 0.0015],\n",
       " '<Residue ARG, 336>': [644.0, 0.0644],\n",
       " '<Residue GLN, 416>': [4806.0, 0.4806],\n",
       " '<Residue HIS, 463>': [1791.0, 0.1791],\n",
       " '<Residue GLU, 464>': [3698.0, 0.3698],\n",
       " '<Residue LYS, 465>': [4960.0, 0.496],\n",
       " '<Residue THR, 466>': [1013.0, 0.1013],\n",
       " '<Residue PRO, 467>': [4939.0, 0.4939],\n",
       " '<Residue VAL, 468>': [4105.0, 0.4105],\n",
       " '<Residue SER, 469>': [3734.0, 0.3734],\n",
       " '<Residue GLU, 470>': [3588.0, 0.3588],\n",
       " '<Residue THR, 473>': [2329.0, 0.2329],\n",
       " '<Residue THR, 477>': [654.0, 0.0654],\n",
       " '<Residue GLU, 478>': [11.0, 0.0011],\n",
       " '<Residue ASP, 493>': [244.0, 0.0244],\n",
       " '<Residue GLU, 494>': [472.0, 0.0472],\n",
       " '<Residue THR, 495>': [4914.0, 0.4914],\n",
       " '<Residue TYR, 496>': [4841.0, 0.4841],\n",
       " '<Residue VAL, 497>': [5105.0, 0.5105],\n",
       " '<Residue PRO, 498>': [4817.0, 0.4817],\n",
       " '<Residue LYS, 499>': [3695.0, 0.3695],\n",
       " '<Residue ALA, 500>': [5110.0, 0.511],\n",
       " '<Residue PHE, 501>': [4889.0, 0.4889],\n",
       " '<Residue ASP, 502>': [238.0, 0.0238],\n",
       " '<Residue GLU, 503>': [4208.0, 0.4208],\n",
       " '<Residue LYS, 504>': [21.0, 0.0021],\n",
       " '<Residue PHE, 506>': [20.0, 0.002],\n",
       " '<Residue THR, 507>': [408.0, 0.0408],\n",
       " '<Residue HIS, 534>': [3212.0, 0.3212],\n",
       " '<Residue LYS, 535>': [1514.0, 0.1514],\n",
       " '<Residue PRO, 536>': [165.0, 0.0165],\n",
       " '<Residue LYS, 537>': [1041.0, 0.1041],\n",
       " '<Residue GLN, 542>': [1.0, 0.0001],\n",
       " '<Residue ALA, 568>': [446.0, 0.0446],\n",
       " '<Residue VAL, 569>': [235.0, 0.0235],\n",
       " '<Residue GLY, 571>': [6.0, 0.0006],\n",
       " '<Residue PRO, 572>': [3471.0, 0.3471],\n",
       " '<Residue LYS, 573>': [156.0, 0.0156],\n",
       " '<Residue VAL, 575>': [3976.0, 0.3976],\n",
       " '<Residue VAL, 576>': [3457.0, 0.3457],\n",
       " '<Residue THR, 578>': [194.0, 0.0194],\n",
       " '<Residue GLN, 579>': [4623.0, 0.4623],\n",
       " '<Residue THR, 580>': [707.0, 0.0707],\n",
       " '<Residue LEU, 582>': [542.0, 0.0542],\n",
       " '<Residue ALA, 583>': [1210.0, 0.121]}"
      ]
     },
     "execution_count": 112,
     "metadata": {},
     "output_type": "execute_result"
    }
   ],
   "source": [
    "#dmax = 4.0, protein group(4653 atoms), plga atom group (543 atoms), took 381.6 s (6 min 36s on 4 cores)\n",
    "start = 0\n",
    "end = pn20_len2nmC2 - 1\n",
    "s_time = timeit.default_timer()\n",
    "h2di_2nmC2 = aa_frmcount(prot_2nmC2, all2nm_pn20C2, dmax, u2nm_pn20C2, start, end)\n",
    "timeit.default_timer() - s_time\n",
    "h2di_2nmC2"
   ]
  },
  {
   "cell_type": "code",
   "execution_count": 113,
   "metadata": {},
   "outputs": [
    {
     "data": {
      "text/plain": [
       "138"
      ]
     },
     "execution_count": 113,
     "metadata": {},
     "output_type": "execute_result"
    }
   ],
   "source": [
    "len(h2di_2nmC2.keys())"
   ]
  },
  {
   "cell_type": "code",
   "execution_count": 116,
   "metadata": {},
   "outputs": [
    {
     "data": {
      "text/html": [
       "<div>\n",
       "<style scoped>\n",
       "    .dataframe tbody tr th:only-of-type {\n",
       "        vertical-align: middle;\n",
       "    }\n",
       "\n",
       "    .dataframe tbody tr th {\n",
       "        vertical-align: top;\n",
       "    }\n",
       "\n",
       "    .dataframe thead th {\n",
       "        text-align: right;\n",
       "    }\n",
       "</style>\n",
       "<table border=\"1\" class=\"dataframe\">\n",
       "  <thead>\n",
       "    <tr style=\"text-align: right;\">\n",
       "      <th></th>\n",
       "      <th>BSA_des_res</th>\n",
       "      <th>mda_plga_frm_2nmC2</th>\n",
       "    </tr>\n",
       "  </thead>\n",
       "  <tbody>\n",
       "    <tr>\n",
       "      <th>0</th>\n",
       "      <td>ASP 1</td>\n",
       "      <td>0.0</td>\n",
       "    </tr>\n",
       "    <tr>\n",
       "      <th>1</th>\n",
       "      <td>THR 2</td>\n",
       "      <td>0.0</td>\n",
       "    </tr>\n",
       "    <tr>\n",
       "      <th>2</th>\n",
       "      <td>HIS 3</td>\n",
       "      <td>0.0</td>\n",
       "    </tr>\n",
       "    <tr>\n",
       "      <th>3</th>\n",
       "      <td>LYS 4</td>\n",
       "      <td>0.0</td>\n",
       "    </tr>\n",
       "    <tr>\n",
       "      <th>4</th>\n",
       "      <td>SER 5</td>\n",
       "      <td>0.0</td>\n",
       "    </tr>\n",
       "  </tbody>\n",
       "</table>\n",
       "</div>"
      ],
      "text/plain": [
       "  BSA_des_res  mda_plga_frm_2nmC2\n",
       "0       ASP 1                 0.0\n",
       "1       THR 2                 0.0\n",
       "2       HIS 3                 0.0\n",
       "3       LYS 4                 0.0\n",
       "4       SER 5                 0.0"
      ]
     },
     "execution_count": 116,
     "metadata": {},
     "output_type": "execute_result"
    }
   ],
   "source": [
    "pr_res2nmC2 = list(prot_2nmC2.residues)\n",
    "ss_res2nmC2 = [str(row) for row in pr_res2nmC2]\n",
    "rkgN_2nmC2 = {key:h2di_2nmC2[key][0] for key, value in h2di_2nmC2.items()}\n",
    "plgC2_2nmaa = pd.DataFrame(data=ss_res2nmC2, columns=[\"BSA_des_res\"])\n",
    "plgC2_2nmaa['mda_plga_frm_2nmC2'] = plgC2_2nmaa['BSA_des_res'].map(rkgN_2nmC2)\n",
    "plgC2_2nmaa['BSA_des_res'] = red_bsa\n",
    "plgC2_2nmaa['mda_plga_frm_2nmC2'] = plgC2_2nmaa['mda_plga_frm_2nmC2'].replace('nan', np.nan).fillna(0)\n",
    "plgC2_2nmaa.head()"
   ]
  },
  {
   "cell_type": "code",
   "execution_count": 117,
   "metadata": {},
   "outputs": [
    {
     "data": {
      "text/html": [
       "<div>\n",
       "<style scoped>\n",
       "    .dataframe tbody tr th:only-of-type {\n",
       "        vertical-align: middle;\n",
       "    }\n",
       "\n",
       "    .dataframe tbody tr th {\n",
       "        vertical-align: top;\n",
       "    }\n",
       "\n",
       "    .dataframe thead th {\n",
       "        text-align: right;\n",
       "    }\n",
       "</style>\n",
       "<table border=\"1\" class=\"dataframe\">\n",
       "  <thead>\n",
       "    <tr style=\"text-align: right;\">\n",
       "      <th></th>\n",
       "      <th>BSA_des_res</th>\n",
       "      <th>mda_occ_1.2nmC2</th>\n",
       "      <th>mda_occ_1.5nmC2</th>\n",
       "      <th>mda_occ_2nmC2</th>\n",
       "    </tr>\n",
       "  </thead>\n",
       "  <tbody>\n",
       "    <tr>\n",
       "      <th>0</th>\n",
       "      <td>&lt;Residue ASP, 1&gt;</td>\n",
       "      <td>0.42</td>\n",
       "      <td>0.58</td>\n",
       "      <td>0.00</td>\n",
       "    </tr>\n",
       "    <tr>\n",
       "      <th>1</th>\n",
       "      <td>&lt;Residue THR, 2&gt;</td>\n",
       "      <td>0.40</td>\n",
       "      <td>0.57</td>\n",
       "      <td>0.00</td>\n",
       "    </tr>\n",
       "    <tr>\n",
       "      <th>2</th>\n",
       "      <td>&lt;Residue HIS, 3&gt;</td>\n",
       "      <td>0.28</td>\n",
       "      <td>0.38</td>\n",
       "      <td>0.00</td>\n",
       "    </tr>\n",
       "    <tr>\n",
       "      <th>3</th>\n",
       "      <td>&lt;Residue LYS, 4&gt;</td>\n",
       "      <td>0.31</td>\n",
       "      <td>0.37</td>\n",
       "      <td>0.00</td>\n",
       "    </tr>\n",
       "    <tr>\n",
       "      <th>4</th>\n",
       "      <td>&lt;Residue SER, 5&gt;</td>\n",
       "      <td>0.05</td>\n",
       "      <td>0.00</td>\n",
       "      <td>0.00</td>\n",
       "    </tr>\n",
       "    <tr>\n",
       "      <th>...</th>\n",
       "      <td>...</td>\n",
       "      <td>...</td>\n",
       "      <td>...</td>\n",
       "      <td>...</td>\n",
       "    </tr>\n",
       "    <tr>\n",
       "      <th>578</th>\n",
       "      <td>&lt;Residue GLN, 579&gt;</td>\n",
       "      <td>0.00</td>\n",
       "      <td>0.00</td>\n",
       "      <td>0.46</td>\n",
       "    </tr>\n",
       "    <tr>\n",
       "      <th>579</th>\n",
       "      <td>&lt;Residue THR, 580&gt;</td>\n",
       "      <td>0.00</td>\n",
       "      <td>0.00</td>\n",
       "      <td>0.07</td>\n",
       "    </tr>\n",
       "    <tr>\n",
       "      <th>580</th>\n",
       "      <td>&lt;Residue ALA, 581&gt;</td>\n",
       "      <td>0.00</td>\n",
       "      <td>0.00</td>\n",
       "      <td>0.00</td>\n",
       "    </tr>\n",
       "    <tr>\n",
       "      <th>581</th>\n",
       "      <td>&lt;Residue LEU, 582&gt;</td>\n",
       "      <td>0.00</td>\n",
       "      <td>0.00</td>\n",
       "      <td>0.05</td>\n",
       "    </tr>\n",
       "    <tr>\n",
       "      <th>582</th>\n",
       "      <td>&lt;Residue ALA, 583&gt;</td>\n",
       "      <td>0.00</td>\n",
       "      <td>0.00</td>\n",
       "      <td>0.12</td>\n",
       "    </tr>\n",
       "  </tbody>\n",
       "</table>\n",
       "<p>583 rows × 4 columns</p>\n",
       "</div>"
      ],
      "text/plain": [
       "            BSA_des_res  mda_occ_1.2nmC2  mda_occ_1.5nmC2  mda_occ_2nmC2\n",
       "0      <Residue ASP, 1>             0.42             0.58           0.00\n",
       "1      <Residue THR, 2>             0.40             0.57           0.00\n",
       "2      <Residue HIS, 3>             0.28             0.38           0.00\n",
       "3      <Residue LYS, 4>             0.31             0.37           0.00\n",
       "4      <Residue SER, 5>             0.05             0.00           0.00\n",
       "..                  ...              ...              ...            ...\n",
       "578  <Residue GLN, 579>             0.00             0.00           0.46\n",
       "579  <Residue THR, 580>             0.00             0.00           0.07\n",
       "580  <Residue ALA, 581>             0.00             0.00           0.00\n",
       "581  <Residue LEU, 582>             0.00             0.00           0.05\n",
       "582  <Residue ALA, 583>             0.00             0.00           0.12\n",
       "\n",
       "[583 rows x 4 columns]"
      ]
     },
     "execution_count": 117,
     "metadata": {},
     "output_type": "execute_result"
    }
   ],
   "source": [
    "# Extract mean occupancy values\n",
    "pr_res_2urC2 = list(prot_2nmC2.residues)\n",
    "ss_res_2urC2 = [str(row) for row in pr_res_2urC2]\n",
    "rkg_2urC2 = {key:h2di_2nmC2[key][1] for key, value in h2di_2nmC2.items()}\n",
    "plgC2_1_2nm_occ['mda_occ_2nmC2'] = plgC2_1_2nm_occ['BSA_des_res'].map(rkg_2urC2)\n",
    "plgC2_1_2nm_occ['mda_occ_2nmC2'] = plgC2_1_2nm_occ['mda_occ_2nmC2'].replace('nan', np.nan).fillna(0)\n",
    "plgC2_1_2nm_occ['mda_occ_2nmC2'] = plgC2_1_2nm_occ['mda_occ_2nmC2'].round(2)\n",
    "plgC2_1_2nm_occ"
   ]
  },
  {
   "cell_type": "code",
   "execution_count": 118,
   "metadata": {},
   "outputs": [],
   "source": [
    "bsa_2C2 = np.array(list(prot_2nmC2.resids)) # shape is 4652\n",
    "mC2_occ_2nm = np.array(list(plgC2_1_2nm_occ['mda_occ_2nmC2'])) # shape is 583\n",
    "mC2_occ_2New = np.zeros(shape=(4653))\n",
    "atC2_ind2 = np.where(bsa_2C2[:-1] != bsa_2C2[1:])[0]\n",
    "atC2_in_nw2 = np.sort(np.append([0,4653],atC2_ind2))\n",
    "nw_v = 0\n",
    "for i in range(583):\n",
    "    b = atC2_in_nw2[i+1] +1\n",
    "    mC2_occ_2New[nw_v:b] = mC2_occ_2nm[i]\n",
    "    nw_v = atC2_in_nw2[i+1] + 1 "
   ]
  },
  {
   "cell_type": "code",
   "execution_count": 119,
   "metadata": {},
   "outputs": [
    {
     "data": {
      "text/plain": [
       "(array([ 237,  238,  239,  240,  241,  242,  243,  244,  245,  246,  247,\n",
       "         248,  249,  250,  251,  252,  253,  254,  255,  256,  257,  258,\n",
       "         259,  260,  261,  262,  263,  264,  265,  266,  267,  268,  269,\n",
       "         270,  271,  272,  273,  274,  634,  635,  636,  637,  638,  639,\n",
       "         640,  641,  642,  643,  644,  677,  678,  679,  680,  681,  682,\n",
       "         683,  684,  685,  686,  687,  688,  689,  690,  691,  692,  698,\n",
       "         699,  700,  701,  702,  703,  704,  705,  706,  707,  708,  709,\n",
       "         710,  711,  718,  719,  720,  721,  722,  723,  724,  725,  726,\n",
       "         727,  728,  729,  730,  731,  732,  733,  734,  735,  761,  762,\n",
       "         763,  764,  765,  766,  767,  768,  769,  789,  790,  791,  792,\n",
       "         793,  794,  795,  796,  797,  798,  799,  800,  801,  802,  803,\n",
       "         815,  816,  817,  818,  819,  820,  821,  822,  823,  824,  825,\n",
       "         826,  827,  828,  829,  830,  831,  832,  833,  834,  835,  836,\n",
       "         837,  838,  839,  840,  841,  842,  843,  844,  845,  846,  847,\n",
       "         848,  849,  850,  851,  852,  853,  854,  855,  864,  865,  866,\n",
       "         867,  868,  869,  870,  871,  872,  873,  874,  875,  876, 1185,\n",
       "        1186, 1187, 1188, 1189, 1190, 1191, 1192, 1193, 1194, 1195, 1196,\n",
       "        1679, 1680, 1681, 1682, 1683, 1684, 1685, 1686, 1687, 1688, 1689,\n",
       "        1703, 1704, 1705, 1706, 1707, 1708, 1709, 1710, 1711, 1712, 1713,\n",
       "        1714, 1715, 1716, 1737, 1738, 1739, 1740, 1741, 1742, 1743, 1810,\n",
       "        1811, 1812, 1813, 1814, 1815, 1816, 1817, 1818, 1824, 1825, 1826,\n",
       "        1827, 1828, 1829, 1830, 1831, 1832, 1833, 1834, 1835, 1836, 1837,\n",
       "        1838, 1839, 1840, 1841, 1842, 1843, 1844, 1845, 1846, 1847, 1848,\n",
       "        1849, 1850, 1851, 1852, 1853, 1854, 1855, 1856, 1857, 1858, 1859,\n",
       "        1860, 1861, 1862, 1863, 1864, 1865, 1866, 1867, 1868, 1869, 1870,\n",
       "        1871, 1872, 1873, 1874, 1875, 1876, 1877, 1878, 1879, 1880, 1881,\n",
       "        1882, 1891, 1892, 1893, 1894, 1895, 1896, 1897, 1898, 1899, 1900,\n",
       "        1901, 1902, 1903, 1904, 2104, 2105, 2106, 2107, 2108, 2109, 2110,\n",
       "        2111, 2112, 2113, 2114, 2115, 2138, 2139, 2140, 2141, 2142, 2143,\n",
       "        2144, 2145, 2155, 2156, 2157, 2158, 2159, 2160, 2161, 2162, 2163,\n",
       "        2164, 2165, 2166, 2167, 2168, 2169, 2207, 2208, 2209, 2210, 2211,\n",
       "        2212, 2213, 2214, 2215, 2392, 2393, 2394, 2395, 2396, 2397, 2398,\n",
       "        2399, 2400, 2451, 2452, 2453, 2454, 2455, 2456, 2457, 2458, 2459,\n",
       "        2460, 2461, 2462, 2463, 2464, 2465, 2466, 2467, 2468, 2469, 2484,\n",
       "        2485, 2486, 2487, 2488, 2489, 2490, 2491, 2501, 2502, 2503, 2504,\n",
       "        2505, 2506, 2507, 2508, 2509, 2510, 2511, 2512, 2513, 2514, 2515,\n",
       "        2522, 2523, 2524, 2525, 2526, 2527, 2528, 2529, 2530, 2531, 2532,\n",
       "        2533, 2534, 2535, 2536, 2537, 2538, 2560, 2561, 2562, 2563, 2564,\n",
       "        2565, 2566, 2567, 2568, 2569, 2570, 2571, 2572, 2573, 2583, 2584,\n",
       "        2585, 2586, 2587, 2588, 2589, 2590, 2591, 2592, 2593, 2594, 2595,\n",
       "        2596, 2597, 2598, 2599, 2600, 2601, 2602, 2603, 2604, 2605, 2606,\n",
       "        2615, 2616, 2617, 2618, 2619, 2620, 2621, 2622, 2623, 2624, 2644,\n",
       "        2645, 2646, 2647, 2648, 2649, 2650, 2651, 2652, 2653, 2654, 2655,\n",
       "        2656, 2657, 2658, 2659, 2660, 2661, 2662, 2663, 2664, 2694, 2695,\n",
       "        2696, 2697, 2698, 2699, 2700, 2701, 2702, 2703, 2704, 3349, 3350,\n",
       "        3351, 3352, 3353, 3354, 3355, 3356, 3357, 3709, 3710, 3711, 3712,\n",
       "        3713, 3714, 3715, 3716, 3717, 3718, 3719, 3720, 3721, 3722, 3723,\n",
       "        3724, 3725, 3726, 3727, 3728, 3729, 3730, 3731, 3732, 3733, 3734,\n",
       "        3735, 3736, 3737, 3738, 3739, 3740, 3741, 3742, 3743, 3744, 3745,\n",
       "        3746, 3747, 3748, 3749, 3750, 3751, 3752, 3753, 3754, 3755, 3756,\n",
       "        3757, 3758, 3759, 3760, 3761, 3762, 3763, 3764, 3765, 3766, 3767,\n",
       "        3768, 3769, 3770, 3771, 3772, 3789, 3790, 3791, 3792, 3793, 3794,\n",
       "        3795, 3817, 3818, 3819, 3820, 3821, 3822, 3823, 3941, 3942, 3943,\n",
       "        3944, 3945, 3946, 3947, 3948, 3949, 3950, 3951, 3952, 3953, 3954,\n",
       "        3955, 3956, 3957, 3958, 3959, 3960, 3961, 3962, 3963, 3964, 3965,\n",
       "        3966, 3967, 3968, 3969, 3970, 3971, 3972, 3973, 3974, 3975, 3976,\n",
       "        3977, 3978, 3979, 3980, 3981, 3982, 3983, 3984, 3985, 3986, 3987,\n",
       "        3988, 3989, 3990, 3991, 3992, 3993, 3994, 3995, 3996, 3997, 3998,\n",
       "        3999, 4000, 4001, 4002, 4003, 4004, 4005, 4006, 4007, 4008, 4009,\n",
       "        4010, 4011, 4012, 4013, 4014, 4015, 4016, 4017, 4018, 4019, 4020,\n",
       "        4021, 4022, 4023, 4024, 4025, 4026, 4027, 4028, 4029, 4030, 4031,\n",
       "        4032, 4061, 4062, 4063, 4064, 4065, 4066, 4067, 4276, 4277, 4278,\n",
       "        4279, 4280, 4281, 4282, 4283, 4284, 4285, 4286, 4287, 4288, 4289,\n",
       "        4290, 4291, 4292, 4293, 4294, 4295, 4296, 4297, 4298, 4299, 4300,\n",
       "        4301, 4302, 4303, 4304, 4305, 4306, 4307, 4308, 4309, 4310, 4542,\n",
       "        4543, 4544, 4545, 4546, 4547, 4548, 4549, 4550, 4551, 4552, 4553,\n",
       "        4567, 4568, 4569, 4570, 4571, 4572, 4573, 4574, 4575, 4576, 4577,\n",
       "        4578, 4579, 4580, 4581, 4582, 4591, 4592, 4593, 4594, 4595, 4596,\n",
       "        4597, 4598, 4599, 4600, 4601, 4602, 4603, 4604, 4611, 4612, 4613,\n",
       "        4614, 4615, 4616, 4617, 4618, 4619, 4620, 4621, 4622, 4623, 4624,\n",
       "        4625, 4626, 4627, 4628, 4629, 4630, 4631, 4632, 4633, 4639, 4640,\n",
       "        4641, 4642, 4643, 4644, 4645, 4646, 4647, 4648, 4649, 4650, 4651,\n",
       "        4652]),)"
      ]
     },
     "execution_count": 119,
     "metadata": {},
     "output_type": "execute_result"
    }
   ],
   "source": [
    "np.nonzero(mC2_occ_2New)"
   ]
  },
  {
   "cell_type": "markdown",
   "metadata": {},
   "source": [
    "### Visualize Occupanct on protein C2"
   ]
  },
  {
   "cell_type": "code",
   "execution_count": 120,
   "metadata": {},
   "outputs": [
    {
     "data": {
      "text/plain": [
       "array([0.  , 0.  , 0.  , ..., 0.12, 0.12, 0.12])"
      ]
     },
     "execution_count": 120,
     "metadata": {},
     "output_type": "execute_result"
    }
   ],
   "source": [
    "prot_2nmC2.occupancies = mC2_occ_2New\n",
    "prot_2nmC2.occupancies"
   ]
  },
  {
   "cell_type": "code",
   "execution_count": 121,
   "metadata": {},
   "outputs": [],
   "source": [
    "with mda.Writer(\"prot_2nmC2.pdb\") as pdb:\n",
    "    pdb.write(prot_2nmC2)"
   ]
  },
  {
   "cell_type": "markdown",
   "metadata": {},
   "source": [
    "### Residue Importance: 2 nm restrained C2"
   ]
  },
  {
   "cell_type": "code",
   "execution_count": 122,
   "metadata": {},
   "outputs": [],
   "source": [
    "# Need to fix function, the residue number are not counting the other 2 PLGA oligomers cuz of same resid number\n",
    "trj_ppmap_2nmC2 = prot_poly_cntmovie(prot_2nmC2, all2nm_pn20C2, dmax, u2nm_pn20C2, 0, 10000)\n",
    "#trj_ppmap_12nm_chC = prot_poly_cntmovie(prot, all_pn20_C, dmax, u_pn20, 0, 10000)"
   ]
  },
  {
   "cell_type": "code",
   "execution_count": 123,
   "metadata": {},
   "outputs": [],
   "source": [
    "np.save('2nmC2_res.npy', trj_ppmap_2nmC2)    # .npy extension is added if not given"
   ]
  },
  {
   "cell_type": "code",
   "execution_count": null,
   "metadata": {},
   "outputs": [],
   "source": [
    "trj_ppmap_2nmC2 = np.load('2nmC2_res.npy', allow_pickle=True)\n",
    "trj_ppmap_2nmC2"
   ]
  },
  {
   "cell_type": "code",
   "execution_count": 124,
   "metadata": {},
   "outputs": [
    {
     "data": {
      "text/plain": [
       "(583, 60)"
      ]
     },
     "execution_count": 124,
     "metadata": {},
     "output_type": "execute_result"
    }
   ],
   "source": [
    "trj_ppmap_2nmC2[0].shape"
   ]
  },
  {
   "cell_type": "code",
   "execution_count": 125,
   "metadata": {},
   "outputs": [
    {
     "data": {
      "text/plain": [
       "0.0"
      ]
     },
     "execution_count": 125,
     "metadata": {},
     "output_type": "execute_result"
    }
   ],
   "source": [
    "np.sum(trj_ppmap_2nmC2[1000][0])"
   ]
  },
  {
   "cell_type": "code",
   "execution_count": 126,
   "metadata": {},
   "outputs": [
    {
     "data": {
      "text/plain": [
       "(10000,)"
      ]
     },
     "execution_count": 126,
     "metadata": {},
     "output_type": "execute_result"
    }
   ],
   "source": [
    "kj = np.zeros(shape=(10000, 583))\n",
    "kj[:,582].shape"
   ]
  },
  {
   "cell_type": "code",
   "execution_count": 127,
   "metadata": {},
   "outputs": [],
   "source": [
    "ppC2_2nm_ct = np.zeros(shape=(10000, 583))\n",
    "for i in range(10000):\n",
    "    for j in range(583):\n",
    "        ppC2_2nm_ct[i][j] = np.sum(trj_ppmap_2nmC2[i][j])"
   ]
  },
  {
   "cell_type": "code",
   "execution_count": 128,
   "metadata": {},
   "outputs": [],
   "source": [
    "ppC2_2nmtot = np.zeros(shape=(583))\n",
    "for i in range(583):\n",
    "    ppC2_2nmtot[i] = np.sum(ppC2_2nm_ct[:,i])\n",
    "#pp_12nmtot"
   ]
  },
  {
   "cell_type": "code",
   "execution_count": 129,
   "metadata": {},
   "outputs": [
    {
     "data": {
      "text/plain": [
       "(array([ 29,  30,  31,  32,  80,  83,  84,  85,  86,  88,  89,  91,  92,\n",
       "         95,  96,  99, 100, 102, 103, 104, 105, 106, 108, 109, 110, 146,\n",
       "        165, 179, 202, 203, 206, 207, 210, 211, 214, 223, 224, 225, 226,\n",
       "        227, 228, 229, 230, 231, 233, 234, 235, 238, 260, 261, 263, 264,\n",
       "        265, 266, 267, 268, 269, 271, 274, 275, 277, 278, 284, 294, 295,\n",
       "        296, 297, 298, 299, 306, 307, 310, 311, 312, 313, 315, 316, 317,\n",
       "        319, 320, 321, 322, 323, 324, 325, 326, 327, 328, 330, 331, 334,\n",
       "        335, 415, 462, 463, 464, 465, 466, 467, 468, 469, 472, 476, 477,\n",
       "        492, 493, 494, 495, 496, 497, 498, 499, 500, 501, 502, 503, 505,\n",
       "        506, 533, 534, 535, 536, 541, 567, 568, 570, 571, 572, 574, 575,\n",
       "        577, 578, 579, 581, 582]),)"
      ]
     },
     "execution_count": 129,
     "metadata": {},
     "output_type": "execute_result"
    }
   ],
   "source": [
    "np.nonzero(ppC2_2nmtot)"
   ]
  },
  {
   "cell_type": "code",
   "execution_count": 130,
   "metadata": {},
   "outputs": [],
   "source": [
    "a = np.sum(ppC2_2nmtot)"
   ]
  },
  {
   "cell_type": "code",
   "execution_count": 131,
   "metadata": {},
   "outputs": [],
   "source": [
    "b = np.sum(ppC2_15nmtot)"
   ]
  },
  {
   "cell_type": "code",
   "execution_count": 132,
   "metadata": {},
   "outputs": [],
   "source": [
    "c = np.sum(ppC2_12nmtot)"
   ]
  },
  {
   "cell_type": "code",
   "execution_count": null,
   "metadata": {},
   "outputs": [],
   "source": [
    "plt.close('all')"
   ]
  },
  {
   "cell_type": "code",
   "execution_count": 163,
   "metadata": {},
   "outputs": [
    {
     "data": {
      "application/vnd.jupyter.widget-view+json": {
       "model_id": "8b9e6f18c08a4d3785f098987c32986f",
       "version_major": 2,
       "version_minor": 0
      },
      "text/plain": [
       "Canvas(toolbar=Toolbar(toolitems=[('Home', 'Reset original view', 'home', 'home'), ('Back', 'Back to previous …"
      ]
     },
     "metadata": {},
     "output_type": "display_data"
    },
    {
     "data": {
      "text/plain": [
       "Text(0.5, 0, 'BSA Residue ID')"
      ]
     },
     "execution_count": 163,
     "metadata": {},
     "output_type": "execute_result"
    }
   ],
   "source": [
    "y_pos = np.arange(583) + 1\n",
    "wid = np.zeros(shape=583)\n",
    "wid += 1.5\n",
    "#wid\n",
    "fig = plt.figure(figsize=(12,12))\n",
    "fig.canvas.layout.width = '800px'\n",
    "fig.canvas.layout.height = '700px'\n",
    "#plt.bar(y_pos, ppC2_12nmtot/c, align='center',width=wid, alpha=0.5, color='#1D77CF',label='1.2 nm PLGA')\n",
    "#plt.bar(y_pos+0.25, ppC2_15nmtot/b, align='center',width=wid, color='#562A8B', alpha=0.3, label='1.5 nm PLGA')\n",
    "plt.bar(y_pos+0.3, ppC2_2nmtot/a, align='center',width=wid, color='#4E4C4D', alpha=0.3, label='2 nm PLGA')\n",
    "#plt.bar(y_pos+0.25, pp_15nmtot/b, align='center',width=wid, color='#562A8B', alpha=0.3, label='1.5 nm PLGA')\n",
    "#plt.bar(y_pos, pp_12nmtot, align='center',width=wid, alpha=0.5, color='#1D77CF',label='1.2 nm PLGA')\n",
    "plt.title(\"BSA in water with PLGA Restrained Config 2, 100 ns\", fontsize=18)\n",
    "plt.xticks(fontsize=14)\n",
    "plt.yticks(fontsize=14)\n",
    "plt.xlim([0,600])\n",
    "plt.ylim([0,0.16])\n",
    "plt.legend(fontsize=14)\n",
    "plt.ylabel(r'Normalized Total No. of PLGA contacts', fontsize=15)\n",
    "plt.xlabel(r'BSA Residue ID', fontsize=15)"
   ]
  },
  {
   "cell_type": "code",
   "execution_count": null,
   "metadata": {},
   "outputs": [],
   "source": []
  },
  {
   "cell_type": "markdown",
   "metadata": {},
   "source": [
    "### Total number of residues that are within 4 angstroms of a PLGA oligomer residue within a 100 ns trajectory block C2"
   ]
  },
  {
   "cell_type": "code",
   "execution_count": 136,
   "metadata": {},
   "outputs": [
    {
     "data": {
      "text/html": [
       "<div>\n",
       "<style scoped>\n",
       "    .dataframe tbody tr th:only-of-type {\n",
       "        vertical-align: middle;\n",
       "    }\n",
       "\n",
       "    .dataframe tbody tr th {\n",
       "        vertical-align: top;\n",
       "    }\n",
       "\n",
       "    .dataframe thead th {\n",
       "        text-align: right;\n",
       "    }\n",
       "</style>\n",
       "<table border=\"1\" class=\"dataframe\">\n",
       "  <thead>\n",
       "    <tr style=\"text-align: right;\">\n",
       "      <th></th>\n",
       "      <th>Amino_acids</th>\n",
       "      <th>No_of_surf_res (MDAnalysis)</th>\n",
       "      <th>No_of_surf_res (VMD)</th>\n",
       "      <th>plgaC2_1.2nm_100ns</th>\n",
       "      <th>plgaC2_1.5nm_100ns</th>\n",
       "      <th>plgaC2_2nm_100ns</th>\n",
       "    </tr>\n",
       "  </thead>\n",
       "  <tbody>\n",
       "    <tr>\n",
       "      <th>0</th>\n",
       "      <td>LYS</td>\n",
       "      <td>59</td>\n",
       "      <td>59</td>\n",
       "      <td>28</td>\n",
       "      <td>28</td>\n",
       "      <td>22</td>\n",
       "    </tr>\n",
       "    <tr>\n",
       "      <th>1</th>\n",
       "      <td>ARG</td>\n",
       "      <td>23</td>\n",
       "      <td>23</td>\n",
       "      <td>5</td>\n",
       "      <td>6</td>\n",
       "      <td>4</td>\n",
       "    </tr>\n",
       "    <tr>\n",
       "      <th>2</th>\n",
       "      <td>HIS</td>\n",
       "      <td>16</td>\n",
       "      <td>16</td>\n",
       "      <td>6</td>\n",
       "      <td>5</td>\n",
       "      <td>3</td>\n",
       "    </tr>\n",
       "    <tr>\n",
       "      <th>3</th>\n",
       "      <td>ASP</td>\n",
       "      <td>40</td>\n",
       "      <td>40</td>\n",
       "      <td>18</td>\n",
       "      <td>15</td>\n",
       "      <td>15</td>\n",
       "    </tr>\n",
       "    <tr>\n",
       "      <th>4</th>\n",
       "      <td>GLU</td>\n",
       "      <td>59</td>\n",
       "      <td>59</td>\n",
       "      <td>29</td>\n",
       "      <td>26</td>\n",
       "      <td>16</td>\n",
       "    </tr>\n",
       "    <tr>\n",
       "      <th>5</th>\n",
       "      <td>SER</td>\n",
       "      <td>23</td>\n",
       "      <td>23</td>\n",
       "      <td>4</td>\n",
       "      <td>5</td>\n",
       "      <td>5</td>\n",
       "    </tr>\n",
       "    <tr>\n",
       "      <th>6</th>\n",
       "      <td>THR</td>\n",
       "      <td>29</td>\n",
       "      <td>29</td>\n",
       "      <td>9</td>\n",
       "      <td>10</td>\n",
       "      <td>10</td>\n",
       "    </tr>\n",
       "    <tr>\n",
       "      <th>7</th>\n",
       "      <td>CYS</td>\n",
       "      <td>24</td>\n",
       "      <td>24</td>\n",
       "      <td>11</td>\n",
       "      <td>12</td>\n",
       "      <td>4</td>\n",
       "    </tr>\n",
       "    <tr>\n",
       "      <th>8</th>\n",
       "      <td>TYR</td>\n",
       "      <td>19</td>\n",
       "      <td>19</td>\n",
       "      <td>3</td>\n",
       "      <td>3</td>\n",
       "      <td>7</td>\n",
       "    </tr>\n",
       "    <tr>\n",
       "      <th>9</th>\n",
       "      <td>ASN</td>\n",
       "      <td>14</td>\n",
       "      <td>14</td>\n",
       "      <td>7</td>\n",
       "      <td>5</td>\n",
       "      <td>3</td>\n",
       "    </tr>\n",
       "    <tr>\n",
       "      <th>10</th>\n",
       "      <td>GLN</td>\n",
       "      <td>19</td>\n",
       "      <td>19</td>\n",
       "      <td>8</td>\n",
       "      <td>7</td>\n",
       "      <td>7</td>\n",
       "    </tr>\n",
       "    <tr>\n",
       "      <th>11</th>\n",
       "      <td>GLY</td>\n",
       "      <td>11</td>\n",
       "      <td>11</td>\n",
       "      <td>8</td>\n",
       "      <td>2</td>\n",
       "      <td>3</td>\n",
       "    </tr>\n",
       "    <tr>\n",
       "      <th>12</th>\n",
       "      <td>ALA</td>\n",
       "      <td>39</td>\n",
       "      <td>38</td>\n",
       "      <td>15</td>\n",
       "      <td>12</td>\n",
       "      <td>8</td>\n",
       "    </tr>\n",
       "    <tr>\n",
       "      <th>13</th>\n",
       "      <td>VAL</td>\n",
       "      <td>19</td>\n",
       "      <td>19</td>\n",
       "      <td>7</td>\n",
       "      <td>4</td>\n",
       "      <td>10</td>\n",
       "    </tr>\n",
       "    <tr>\n",
       "      <th>14</th>\n",
       "      <td>LEU</td>\n",
       "      <td>34</td>\n",
       "      <td>34</td>\n",
       "      <td>10</td>\n",
       "      <td>12</td>\n",
       "      <td>4</td>\n",
       "    </tr>\n",
       "    <tr>\n",
       "      <th>15</th>\n",
       "      <td>ILE</td>\n",
       "      <td>7</td>\n",
       "      <td>7</td>\n",
       "      <td>1</td>\n",
       "      <td>2</td>\n",
       "      <td>2</td>\n",
       "    </tr>\n",
       "    <tr>\n",
       "      <th>16</th>\n",
       "      <td>MET</td>\n",
       "      <td>3</td>\n",
       "      <td>3</td>\n",
       "      <td>1</td>\n",
       "      <td>1</td>\n",
       "      <td>1</td>\n",
       "    </tr>\n",
       "    <tr>\n",
       "      <th>17</th>\n",
       "      <td>PHE</td>\n",
       "      <td>20</td>\n",
       "      <td>20</td>\n",
       "      <td>6</td>\n",
       "      <td>3</td>\n",
       "      <td>6</td>\n",
       "    </tr>\n",
       "    <tr>\n",
       "      <th>18</th>\n",
       "      <td>TRP</td>\n",
       "      <td>2</td>\n",
       "      <td>2</td>\n",
       "      <td>1</td>\n",
       "      <td>1</td>\n",
       "      <td>0</td>\n",
       "    </tr>\n",
       "    <tr>\n",
       "      <th>19</th>\n",
       "      <td>PRO</td>\n",
       "      <td>27</td>\n",
       "      <td>27</td>\n",
       "      <td>5</td>\n",
       "      <td>13</td>\n",
       "      <td>8</td>\n",
       "    </tr>\n",
       "  </tbody>\n",
       "</table>\n",
       "</div>"
      ],
      "text/plain": [
       "   Amino_acids  No_of_surf_res (MDAnalysis)  No_of_surf_res (VMD)  \\\n",
       "0          LYS                           59                    59   \n",
       "1          ARG                           23                    23   \n",
       "2          HIS                           16                    16   \n",
       "3          ASP                           40                    40   \n",
       "4          GLU                           59                    59   \n",
       "5          SER                           23                    23   \n",
       "6          THR                           29                    29   \n",
       "7          CYS                           24                    24   \n",
       "8          TYR                           19                    19   \n",
       "9          ASN                           14                    14   \n",
       "10         GLN                           19                    19   \n",
       "11         GLY                           11                    11   \n",
       "12         ALA                           39                    38   \n",
       "13         VAL                           19                    19   \n",
       "14         LEU                           34                    34   \n",
       "15         ILE                            7                     7   \n",
       "16         MET                            3                     3   \n",
       "17         PHE                           20                    20   \n",
       "18         TRP                            2                     2   \n",
       "19         PRO                           27                    27   \n",
       "\n",
       "    plgaC2_1.2nm_100ns  plgaC2_1.5nm_100ns  plgaC2_2nm_100ns  \n",
       "0                   28                  28                22  \n",
       "1                    5                   6                 4  \n",
       "2                    6                   5                 3  \n",
       "3                   18                  15                15  \n",
       "4                   29                  26                16  \n",
       "5                    4                   5                 5  \n",
       "6                    9                  10                10  \n",
       "7                   11                  12                 4  \n",
       "8                    3                   3                 7  \n",
       "9                    7                   5                 3  \n",
       "10                   8                   7                 7  \n",
       "11                   8                   2                 3  \n",
       "12                  15                  12                 8  \n",
       "13                   7                   4                10  \n",
       "14                  10                  12                 4  \n",
       "15                   1                   2                 2  \n",
       "16                   1                   1                 1  \n",
       "17                   6                   3                 6  \n",
       "18                   1                   1                 0  \n",
       "19                   5                  13                 8  "
      ]
     },
     "execution_count": 136,
     "metadata": {},
     "output_type": "execute_result"
    }
   ],
   "source": [
    "apl_2nmC2 = []\n",
    "\n",
    "# Some residues don't have any contact with the 3 N = 20 PLGA oligomers within 100 ns,\n",
    "# Put residues that do have contact with BSA in a separate list\n",
    "for index, r_pl in plgC2_2nmaa.iterrows():\n",
    "    if r_pl['mda_plga_frm_2nmC2'] != 0:\n",
    "        apl_2nmC2.append(r_pl['BSA_des_res'])\n",
    "        \n",
    "# This chunk of code gets an AA count from the above list, in order \n",
    "# to get a total number of residues that contact BSA\n",
    "cpl_2nmC2 = []\n",
    "\n",
    "for index, r_a in aa_count.iterrows():\n",
    "    count = 0\n",
    "    for i in range(len(apl_2nmC2)):\n",
    "        if r_a['Amino_acids'] in apl_2nmC2[i]:\n",
    "            count += 1\n",
    "    cpl_2nmC2.append(count)      \n",
    "        \n",
    "aa_count['plgaC2_2nm_100ns'] = cpl_2nmC2\n",
    "#aa_count.drop('No_of_surf_res (VMD)', axis=1, inplace=True)\n",
    "aa_count"
   ]
  },
  {
   "cell_type": "code",
   "execution_count": 137,
   "metadata": {},
   "outputs": [
    {
     "data": {
      "text/plain": [
       "138"
      ]
     },
     "execution_count": 137,
     "metadata": {},
     "output_type": "execute_result"
    }
   ],
   "source": [
    "# This gives the total number of residues that are within 4 angstroms of a PLGA oligomer residue\n",
    "# within a 100 ns trajectory block\n",
    "aa_count['plgaC2_2nm_100ns'].sum()"
   ]
  },
  {
   "cell_type": "code",
   "execution_count": 138,
   "metadata": {},
   "outputs": [
    {
     "data": {
      "text/plain": [
       "487"
      ]
     },
     "execution_count": 138,
     "metadata": {},
     "output_type": "execute_result"
    }
   ],
   "source": [
    "# This gives the total number of residues that are within 4 angstroms of a water molecule\n",
    "# within a 1 ns trajectory block\n",
    "aa_count['No_of_surf_res (MDAnalysis)'].sum()"
   ]
  },
  {
   "cell_type": "code",
   "execution_count": 139,
   "metadata": {},
   "outputs": [
    {
     "data": {
      "text/plain": [
       "0.28336755646817247"
      ]
     },
     "execution_count": 139,
     "metadata": {},
     "output_type": "execute_result"
    }
   ],
   "source": [
    "# This gives the total fraction of contacts within the 1.2 nm Rg 100 ns trajectory\n",
    "aa_count['plgaC2_2nm_100ns'].sum()/aa_count['No_of_surf_res (MDAnalysis)'].sum()"
   ]
  },
  {
   "cell_type": "code",
   "execution_count": 141,
   "metadata": {},
   "outputs": [
    {
     "name": "stdout",
     "output_type": "stream",
     "text": [
      "Mean Occpancy (2 nm Rg): 0.18955724637681157 Occ. std. dev.: 0.24720217914700152\n"
     ]
    }
   ],
   "source": [
    "# Mean occupancy and std deviation \n",
    "ll_mo2nm = [value[1] for key, value in h2di_2nmC2.items()]\n",
    "print(\"Mean Occpancy (2 nm Rg): \"+str(np.mean(ll_mo2nm)), \"Occ. std. dev.: \"+str(np.std(ll_mo2nm)))"
   ]
  },
  {
   "cell_type": "code",
   "execution_count": 143,
   "metadata": {},
   "outputs": [
    {
     "data": {
      "text/plain": [
       "{'Negative': [48451.0, 31, 215685.09677419355, 0.1518940705568301],\n",
       " 'Positive': [40582.0, 29, 193114.3448275862, 0.13599884441476645],\n",
       " 'Polar': [75326.0, 36, 288749.6666666667, 0.20334906258194266],\n",
       " 'Hydrophobic': [97230.0, 42, 319470.0, 0.22498354984439767],\n",
       " 'Aromatic': [46719.0, 16, 402951.375, 0.28377447260206307]}"
      ]
     },
     "execution_count": 143,
     "metadata": {},
     "output_type": "execute_result"
    }
   ],
   "source": [
    "cd_2nmC2 = frac_cont(h2di_2nmC2)\n",
    "cd_2nmC2"
   ]
  },
  {
   "cell_type": "markdown",
   "metadata": {},
   "source": [
    "### Calc. fractional contacts for each AA group type C2"
   ]
  },
  {
   "cell_type": "code",
   "execution_count": 144,
   "metadata": {},
   "outputs": [
    {
     "name": "stdout",
     "output_type": "stream",
     "text": [
      "0\n",
      "2000\n",
      "2000\n",
      "4000\n",
      "4000\n",
      "6000\n",
      "6000\n",
      "8000\n",
      "8000\n",
      "10000\n"
     ]
    }
   ],
   "source": [
    "fcntC2_rg2nm, prgrp_2nmC2, aa_matx_2nmC2 = bavg_frac_cnt(5, prot_2nmC2, all2nm_pn20C2, dmax, u2nm_pn20C2, no_surf, 0, 10000)"
   ]
  },
  {
   "cell_type": "code",
   "execution_count": 145,
   "metadata": {},
   "outputs": [
    {
     "data": {
      "text/plain": [
       "{'Negative': array([0.10673302, 0.14820676, 0.16266585, 0.18306078, 0.17608687]),\n",
       " 'Positive': array([0.01633748, 0.07863128, 0.14113373, 0.16263226, 0.19665312]),\n",
       " 'Polar': array([0.19344709, 0.21990673, 0.19367753, 0.20862704, 0.1951992 ]),\n",
       " 'Hydrophobic': array([0.31858088, 0.31069417, 0.25118076, 0.2265906 , 0.22519734]),\n",
       " 'Aromatic': array([0.36490153, 0.24256106, 0.25134213, 0.21908932, 0.20686346]),\n",
       " 'total_frac': array([0.1026694 , 0.11704312, 0.19096509, 0.19917864, 0.18069815])}"
      ]
     },
     "execution_count": 145,
     "metadata": {},
     "output_type": "execute_result"
    }
   ],
   "source": [
    "fcntC2_rg2nm"
   ]
  },
  {
   "cell_type": "code",
   "execution_count": 146,
   "metadata": {},
   "outputs": [
    {
     "data": {
      "text/plain": [
       "array([0.15535066, 0.11907758, 0.20217152, 0.26644875, 0.2569515 ])"
      ]
     },
     "execution_count": 146,
     "metadata": {},
     "output_type": "execute_result"
    }
   ],
   "source": [
    "fc_2nmC2_mean = np.array([np.mean(fcntC2_rg2nm['Negative']), np.mean(fcntC2_rg2nm['Positive'])\n",
    "                        ,np.mean(fcntC2_rg2nm['Polar']),np.mean(fcntC2_rg2nm['Hydrophobic'])\n",
    "                        , np.mean(fcntC2_rg2nm['Aromatic'])])\n",
    "fc_2nmC2_mean"
   ]
  },
  {
   "cell_type": "code",
   "execution_count": 147,
   "metadata": {},
   "outputs": [
    {
     "data": {
      "text/plain": [
       "array([0.0270779 , 0.06417613, 0.01051749, 0.04049414, 0.05627453])"
      ]
     },
     "execution_count": 147,
     "metadata": {},
     "output_type": "execute_result"
    }
   ],
   "source": [
    "fc_2nmC2_std = np.array([np.std(fcntC2_rg2nm['Negative']), np.std(fcntC2_rg2nm['Positive'])\n",
    "                       ,np.std(fcntC2_rg2nm['Polar']),np.std(fcntC2_rg2nm['Hydrophobic'])\n",
    "                       , np.std(fcntC2_rg2nm['Aromatic'])])\n",
    "fc_2nmC2_std"
   ]
  },
  {
   "cell_type": "code",
   "execution_count": 165,
   "metadata": {},
   "outputs": [
    {
     "data": {
      "application/vnd.jupyter.widget-view+json": {
       "model_id": "77211a262ef7410b9200dd61d9714cc5",
       "version_major": 2,
       "version_minor": 0
      },
      "text/plain": [
       "Canvas(toolbar=Toolbar(toolitems=[('Home', 'Reset original view', 'home', 'home'), ('Back', 'Back to previous …"
      ]
     },
     "metadata": {},
     "output_type": "display_data"
    },
    {
     "data": {
      "text/plain": [
       "Text(0, 0.5, 'Fractional Contacts')"
      ]
     },
     "execution_count": 165,
     "metadata": {},
     "output_type": "execute_result"
    }
   ],
   "source": [
    "x_pos = np.arange(5)\n",
    "width = 0.28\n",
    "aa_types = [\"Negative\", \"Positive\", \"Polar\", \"Hydrophobic\", \"Aromatic\"]\n",
    "fig = plt.figure(figsize=(12,12))\n",
    "fig.canvas.layout.width = '700px'\n",
    "fig.canvas.layout.height = '700px'\n",
    "plt.bar(x_pos, fc_12nmC2_mean, width, yerr=fc_12nmC2_std, ecolor='black',capsize=5, color='royalblue')\n",
    "plt.bar(x_pos+width, fc_15nmC2_mean, width, yerr=fc_15nmC2_std, ecolor='black',capsize=5, color='c')\n",
    "plt.bar(x_pos+(2*width), fc_2nmC2_mean, width, yerr=fc_2nmC2_std, ecolor='black',capsize=5, color='lightslategray')\n",
    "plt.title(r'Fractional Contacts PLGA Rg restrained Config 2', fontsize=15)\n",
    "plt.xticks(x_pos+width, labels=aa_types, fontsize=12)\n",
    "plt.ylim(0,0.4)\n",
    "plt.legend(['Rg = 1.2 nm', 'Rg = 1.5 nm', 'Rg = 2 nm'], frameon=False)\n",
    "plt.ylabel(r'Fractional Contacts', fontsize=15)"
   ]
  },
  {
   "cell_type": "code",
   "execution_count": null,
   "metadata": {},
   "outputs": [],
   "source": []
  },
  {
   "cell_type": "code",
   "execution_count": null,
   "metadata": {},
   "outputs": [],
   "source": []
  },
  {
   "cell_type": "markdown",
   "metadata": {},
   "source": [
    "### Total fraction of contacts: averages and std dev calc from 5 20 ns blocks C2"
   ]
  },
  {
   "cell_type": "code",
   "execution_count": 149,
   "metadata": {},
   "outputs": [
    {
     "data": {
      "text/plain": [
       "0.15811088295687886"
      ]
     },
     "execution_count": 149,
     "metadata": {},
     "output_type": "execute_result"
    }
   ],
   "source": [
    "np.mean(fcntC2_rg2nm['total_frac'])"
   ]
  },
  {
   "cell_type": "code",
   "execution_count": 150,
   "metadata": {},
   "outputs": [
    {
     "data": {
      "text/plain": [
       "0.04009105498764939"
      ]
     },
     "execution_count": 150,
     "metadata": {},
     "output_type": "execute_result"
    }
   ],
   "source": [
    "np.std(fcntC2_rg2nm['total_frac'])"
   ]
  },
  {
   "cell_type": "markdown",
   "metadata": {},
   "source": [
    "### Avg no. PLGA residues per BSA AA residue group C2"
   ]
  },
  {
   "cell_type": "code",
   "execution_count": 151,
   "metadata": {},
   "outputs": [
    {
     "data": {
      "text/plain": [
       "{'Negative': array([array([1.11      , 1.78742832]), array([8.6505    , 5.33060501]),\n",
       "        array([9.2035    , 3.26528525]), array([11.5785    ,  2.98794875]),\n",
       "        array([15.8425    ,  3.73345601])], dtype=object),\n",
       " 'Positive': array([array([0.143     , 0.57406533]), array([4.457     , 2.93055473]),\n",
       "        array([7.864     , 4.30679742]), array([14.3065    ,  4.32892108]),\n",
       "        array([18.779    ,  5.0766287])], dtype=object),\n",
       " 'Polar': array([array([2.056     , 2.77882421]), array([16.2275    ,  5.46587081]),\n",
       "        array([24.267     ,  7.98390324]),\n",
       "        array([36.261     ,  6.23553358]),\n",
       "        array([35.7015    ,  5.52724142])], dtype=object),\n",
       " 'Hydrophobic': array([array([3.429     , 4.61367088]), array([16.528     ,  4.08230523]),\n",
       "        array([24.2835   ,  9.9100014]), array([42.065     ,  5.91487743]),\n",
       "        array([47.992     ,  6.77944954])], dtype=object),\n",
       " 'Aromatic': array([array([2.209    , 3.1031144]), array([10.68      ,  3.34269352]),\n",
       "        array([14.0645    ,  4.84265834]),\n",
       "        array([21.2815    ,  3.30231097]),\n",
       "        array([23.269     ,  3.48333734])], dtype=object)}"
      ]
     },
     "execution_count": 151,
     "metadata": {},
     "output_type": "execute_result"
    }
   ],
   "source": [
    "prgrp_2nmC2"
   ]
  },
  {
   "cell_type": "code",
   "execution_count": 152,
   "metadata": {},
   "outputs": [],
   "source": [
    "mean_2nmC2 = np.zeros(shape=5)\n",
    "std_2nmC2 = np.zeros(shape=5)\n",
    "count = 0\n",
    "for key, value in prgrp_2nmC2.items():\n",
    "    mpl_2nmC2 = []\n",
    "    var_2nmC2 = []\n",
    "    for i in prgrp_2nmC2[str(key)].flat:\n",
    "        mpl_2nmC2.append(i[0])\n",
    "        var_2nmC2.append((i[1])**2)\n",
    "    \n",
    "    # calc frac cont averages\n",
    "    mean_2nmC2[count] = np.mean(mpl_2nmC2)\n",
    "    \n",
    "    # calc frac cont std dev: https://stats.stackexchange.com/questions/25848/how-to-sum-a-standard-deviation \n",
    "    std_2nmC2[count] = np.std(mpl_2nmC2)\n",
    "    #std_2nm[count] = np.sqrt(np.sum(var_2nm)/5)\n",
    "    \n",
    "    count += 1\n"
   ]
  },
  {
   "cell_type": "code",
   "execution_count": 153,
   "metadata": {},
   "outputs": [
    {
     "data": {
      "text/plain": [
       "array([ 9.277 ,  9.1099, 22.9026, 26.8595, 14.3008])"
      ]
     },
     "execution_count": 153,
     "metadata": {},
     "output_type": "execute_result"
    }
   ],
   "source": [
    "mean_2nmC2"
   ]
  },
  {
   "cell_type": "code",
   "execution_count": 154,
   "metadata": {},
   "outputs": [
    {
     "data": {
      "text/plain": [
       "array([ 4.80625605,  6.69482169, 12.83166373, 16.37164491,  7.59653133])"
      ]
     },
     "execution_count": 154,
     "metadata": {},
     "output_type": "execute_result"
    }
   ],
   "source": [
    "std_2nmC2"
   ]
  },
  {
   "cell_type": "code",
   "execution_count": 155,
   "metadata": {},
   "outputs": [
    {
     "data": {
      "text/plain": [
       "array([14.8409, 18.3909, 14.1917, 11.5557,  9.7728])"
      ]
     },
     "execution_count": 155,
     "metadata": {},
     "output_type": "execute_result"
    }
   ],
   "source": [
    "mean_15nmC2"
   ]
  },
  {
   "cell_type": "code",
   "execution_count": 156,
   "metadata": {},
   "outputs": [
    {
     "data": {
      "text/plain": [
       "array([4.62377451, 8.6198031 , 8.78935859, 4.79713436, 4.73165553])"
      ]
     },
     "execution_count": 156,
     "metadata": {},
     "output_type": "execute_result"
    }
   ],
   "source": [
    "std_15nmC2"
   ]
  },
  {
   "cell_type": "code",
   "execution_count": 161,
   "metadata": {},
   "outputs": [
    {
     "data": {
      "application/vnd.jupyter.widget-view+json": {
       "model_id": "54ddef98047c4245ac4e1b192b25d4e2",
       "version_major": 2,
       "version_minor": 0
      },
      "text/plain": [
       "Canvas(toolbar=Toolbar(toolitems=[('Home', 'Reset original view', 'home', 'home'), ('Back', 'Back to previous …"
      ]
     },
     "metadata": {},
     "output_type": "display_data"
    },
    {
     "data": {
      "text/plain": [
       "Text(0, 0.5, 'No. of PLGA residues')"
      ]
     },
     "execution_count": 161,
     "metadata": {},
     "output_type": "execute_result"
    }
   ],
   "source": [
    "x_pos = np.arange(5)\n",
    "width = 0.28\n",
    "aa_types = [\"Negative\", \"Positive\", \"Polar\", \"Hydrophobic\", \"Aromatic\"]\n",
    "fig = plt.figure(figsize=(12,12))\n",
    "fig.canvas.layout.width = '800px'\n",
    "fig.canvas.layout.height = '700px'\n",
    "plt.bar(x_pos, mean_12nmC2, width, yerr=std_12nmC2, ecolor='black',capsize=5, color='royalblue')\n",
    "plt.bar(x_pos+width, mean_15nmC2, width, yerr=std_15nmC2, ecolor='black',capsize=5, color='c')\n",
    "plt.bar(x_pos+(2*width), mean_2nmC2, width, yerr=std_2nmC2, ecolor='black',capsize=5, color='lightslategray')\n",
    "plt.title(r'No. of PLGA residues Rg restrained Config 2', fontsize=15)\n",
    "plt.xticks(x_pos+width, labels=aa_types, fontsize=12)\n",
    "plt.legend(['Rg = 1.2 nm', 'Rg = 1.5 nm', 'Rg = 2 nm'], frameon=False)\n",
    "plt.ylabel(r'No. of PLGA residues', fontsize=15)"
   ]
  },
  {
   "cell_type": "markdown",
   "metadata": {},
   "source": [
    "### Protein/polymer contact map movie C2"
   ]
  },
  {
   "cell_type": "code",
   "execution_count": null,
   "metadata": {},
   "outputs": [],
   "source": [
    "fig = plt.figure(figsize=(10,10))\n",
    "\n",
    "# Set the axis and the plot titles pp\n",
    "\n",
    "plt.title(\"BSA/PLGA contact map 2 nm restrained Config 2\", fontsize=22, loc='left')\n",
    "plt.xlabel(\"PLGA Residue No.\", fontsize=22)\n",
    "plt.ylabel(\"BSA Residue No.\", fontsize=20)\n",
    "\n",
    " # Set the axis range \n",
    "plt.ylim(583, 0)\n",
    "plt.xlim(0, 60)\n",
    "\n",
    "# Plot bands for each chain \n",
    "BANDS = (\n",
    "    (0, 20, \"purple\", \"B\"),\n",
    "    (20, 40, \"blue\", \"C\"),\n",
    "    (40, 60, \"green\", \"D\"),\n",
    ")\n",
    "    \n",
    "text_y = 0.98 # Close to the top\n",
    "for start, stop, color, band in BANDS:\n",
    "    plt.axvspan(start, stop,color=color, alpha=0.15)\n",
    "    text_x = middle_of_band(start,stop)\n",
    "    plt.text(\n",
    "        text_x,\n",
    "        text_y,\n",
    "        \"PLGA chain \" + band,\n",
    "        color=color,\n",
    "        fontsize=18,\n",
    "        transform=fig.gca().transAxes,\n",
    "        horizontalalignment='center',\n",
    "        verticalalignment='center',\n",
    "        style='italic',\n",
    "    )\n",
    "    \n",
    "plt.text(0.94, 1, \"Time [ns]:\", fontsize=20, transform=fig.gca().transAxes, horizontalalignment='right', verticalalignment='bottom')\n",
    "\n",
    "# Set tick label size\n",
    "fig.gca().tick_params(axis='both', which='major', labelsize=20)\n",
    "\n",
    "ims = []\n",
    "for i in range(10000):\n",
    "    data = trj_ppmap_2nm[i]\n",
    "    im = plt.imshow(data, aspect='auto', cmap='Greys')\n",
    "    t_sim = plt.text(1.03, 1, str(i/100), fontsize=20, transform=fig.gca().transAxes, horizontalalignment='right', verticalalignment='bottom')\n",
    "    ims.append([im, t_sim])\n",
    "    \n",
    "ani = animation.ArtistAnimation(fig, ims, blit=True, repeat=False)\n",
    "ani.save('2nm_res.mp4', writer='ffmpeg', fps=50, bitrate=100000)\n",
    "#plt.tight_layout()\n",
    "#plt.show()"
   ]
  }
 ],
 "metadata": {
  "kernelspec": {
   "display_name": "Python (ppc_env)",
   "language": "python",
   "name": "ppc_env"
  },
  "language_info": {
   "codemirror_mode": {
    "name": "ipython",
    "version": 3
   },
   "file_extension": ".py",
   "mimetype": "text/x-python",
   "name": "python",
   "nbconvert_exporter": "python",
   "pygments_lexer": "ipython3",
   "version": "3.6.9"
  }
 },
 "nbformat": 4,
 "nbformat_minor": 4
}
