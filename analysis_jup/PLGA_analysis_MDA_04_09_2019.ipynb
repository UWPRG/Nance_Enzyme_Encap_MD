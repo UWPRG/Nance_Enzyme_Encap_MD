{
 "cells": [
  {
   "cell_type": "code",
   "execution_count": 1,
   "metadata": {},
   "outputs": [],
   "source": [
    "#import the necessary modules \n",
    "%matplotlib inline \n",
    "import numpy as np \n",
    "import matplotlib.pylab as plt \n",
    "import pandas as pd \n",
    "import scipy\n",
    "import sklearn\n",
    "import itertools \n",
    "from itertools import cycle \n",
    "import os.path as op\n",
    "import timeit \n",
    "import json\n",
    "import math\n",
    "\n",
    "# These imports are for creating the percent occupancy heat map \n",
    "import plotly\n",
    "import plotly.plotly as py\n",
    "import plotly.graph_objs as go"
   ]
  },
  {
   "cell_type": "code",
   "execution_count": 2,
   "metadata": {},
   "outputs": [
    {
     "data": {
      "text/plain": [
       "4"
      ]
     },
     "execution_count": 2,
     "metadata": {},
     "output_type": "execute_result"
    }
   ],
   "source": [
    "import multiprocessing as m_proc\n",
    "m_proc.cpu_count()"
   ]
  },
  {
   "cell_type": "code",
   "execution_count": 3,
   "metadata": {},
   "outputs": [],
   "source": [
    "# Import MDAnalysis\n",
    "import MDAnalysis as mda\n",
    "import statsmodels as stats\n",
    "from MDAnalysis.analysis import polymer, distances, rdf"
   ]
  },
  {
   "cell_type": "markdown",
   "metadata": {},
   "source": [
    "### Calculate radius of gyration and persistence length of PLGA/water simulations"
   ]
  },
  {
   "cell_type": "code",
   "execution_count": 4,
   "metadata": {},
   "outputs": [],
   "source": [
    "def seg_org(poly_atoms, n_monomers):\n",
    "    \n",
    "    pmecl = []\n",
    "    count = 0\n",
    "    for i in range(n_monomers):\n",
    "        fgrp = []\n",
    "        count += 1\n",
    "        n_atm = len(poly_atoms.select_atoms(\"resid \"+str(count)))\n",
    "        \n",
    "        if count == 1:\n",
    "            #print(poly_atoms.select_atoms(\"resid \"+str(count)+\" and name O13\"))\n",
    "            pmecl.append(poly_atoms.select_atoms(\"resid \"+str(count)+\" and (name O13 O9)\"))\n",
    "            #print(pmecl)\n",
    "        elif count == 2:\n",
    "            #print(poly_atoms.select_atoms(\"name O5 and resid \"+str(count)))\n",
    "            pmecl.append(poly_atoms.select_atoms(\"(resid \"+str(count)+\" and name O5) or (resid \"+str(count-1)+\" and name O9)\"))\n",
    "        \n",
    "        if count != 2 and count != 1:\n",
    "            if count == n_monomers:\n",
    "                pmecl.append(poly_atoms.select_atoms(\"(resid \"+str(count)+\" and name O1) or (resid \"+str(count-1)+\" and name O5)\"))\n",
    "            elif count != n_monomers:\n",
    "            #print(count)\n",
    "                pmecl.append(poly_atoms.select_atoms(\"(resid \"+str(count)+\" and name O5) or (resid \"+str(count-1)+\" and name O5)\"))\n",
    "\n",
    "    return pmecl"
   ]
  },
  {
   "cell_type": "code",
   "execution_count": 5,
   "metadata": {},
   "outputs": [],
   "source": [
    "# write function to average across frames to give ensembled averaged correlation values at each nl value\n",
    "# write function to average across frames to give ensembled averaged correlation values at each nl value\n",
    "\n",
    "def pers_length(polymer_atoms, n_monomers):\n",
    "    \n",
    "    vec_poly = np.zeros(shape=(3,n_monomers-1), dtype=float)\n",
    "    \n",
    "    len_vec = np.arange(n_monomers-1)\n",
    "    \n",
    "    len_vec += 1\n",
    "\n",
    "    vec_poly[1,:] = len_vec\n",
    "\n",
    "    count = 0 \n",
    "    \n",
    "    sv_ply = np.zeros(shape=(n_monomers-1), dtype=object)\n",
    "    \n",
    "    for i in range(n_monomers):\n",
    "        \n",
    "        count += 1\n",
    "        \n",
    "        ds_cor = np.zeros(shape=(n_monomers-count))\n",
    "        \n",
    "        for j in range(n_monomers - count):\n",
    "        \n",
    "            jh = np.arange(n_monomers - count)\n",
    "            \n",
    "            jh += count+1\n",
    "\n",
    "            n6_mon1 = polymer_atoms.select_atoms(\"resid \"+str(count))\n",
    "\n",
    "            n6_mon2 = polymer_atoms.select_atoms(\"resid \"+str(jh[j]))\n",
    "\n",
    "            if j == 0: \n",
    "                    \n",
    "                v1 = n6_mon1.center_of_mass() - n6_mon2.center_of_mass()\n",
    "                    \n",
    "                v1_norm = v1/(np.linalg.norm(v1))\n",
    "            \n",
    "                ds_cor[j] = v1_norm.dot(v1_norm)\n",
    "\n",
    "            elif j != 0:\n",
    "                    \n",
    "                v2 = n6_mon1.center_of_mass() - n6_mon2.center_of_mass()\n",
    "                    \n",
    "                v2_norm = v2/(np.linalg.norm(v2))\n",
    "                \n",
    "                ds_cor[j] = np.dot(v1_norm, v2_norm)\n",
    "\n",
    "            sv_ply[i] = ds_cor\n",
    "    \n",
    "    cor_avg = []\n",
    "    \n",
    "    for j in range(n_monomers-1):\n",
    "        lss = []\n",
    "        for i in sv_ply.flat:\n",
    "            try:\n",
    "                lss.append(i[j])\n",
    "            except IndexError:\n",
    "                pass\n",
    "        cor_avg.append(np.mean(lss))\n",
    "    \n",
    "    nm = np.array(cor_avg)\n",
    "    \n",
    "    ang_vg = []\n",
    "    for i in nm.flat:\n",
    "        if i >= float(0.99):\n",
    "            ang_vg.append(0)\n",
    "        elif i <= float(0.99):\n",
    "            ang_vg.append(math.degrees(math.acos(i)))\n",
    "\n",
    "    vec_poly[0,:] = nm \n",
    "    vec_poly[2,:] = np.array(ang_vg)\n",
    "    \n",
    "    return vec_poly"
   ]
  },
  {
   "cell_type": "code",
   "execution_count": 6,
   "metadata": {},
   "outputs": [],
   "source": [
    "def get_rg_pers_poly(polymer_atoms, universe, start, end, ln_bnd):\n",
    "    \"\"\"This function will calculate the average radius of gyration and persistence length of a polymer within a \n",
    "    trajectory block.\"\"\"\n",
    "    \n",
    "    n_monomers = len(np.unique(polymer_atoms.resids))\n",
    "    \n",
    "    rg_ens = np.zeros(shape=(1,end-start))\n",
    "    \n",
    "    corr_v = np.zeros(shape=(n_monomers-1,end-start))\n",
    "    \n",
    "    angle_v = np.zeros(shape=(n_monomers-1,end-start))\n",
    "    \n",
    "    v_poly = np.zeros(shape=(3,n_monomers-1))\n",
    "    \n",
    "    count_rg = 0\n",
    "    \n",
    "    universe.trajectory[start]\n",
    "    \n",
    "    for ts in universe.trajectory[start:end]:\n",
    "        \n",
    "        p_mat = pers_length(polymer_atoms, n_monomers)\n",
    "     \n",
    "        corr_v[:,count_rg] = p_mat[0,:]\n",
    "        \n",
    "        angle_v[:,count_rg] = p_mat[2,:]\n",
    "        \n",
    "        rg_ens[0,count_rg] = polymer_atoms.radius_of_gyration()\n",
    "        \n",
    "        count_rg += 1 \n",
    "        \n",
    "        universe.trajectory[end]\n",
    "    \n",
    "    v_poly[2,:] = p_mat[1,:]\n",
    "    \n",
    "    for i in range(n_monomers-1):\n",
    "        \n",
    "        v_poly[0,i] = np.mean(corr_v[i,:])\n",
    "        \n",
    "        v_poly[1,i] = np.mean(angle_v[i,:])\n",
    "     \n",
    "    avg_rg = np.mean(rg_ens)\n",
    "    \n",
    "    def expfunc(x, a):\n",
    "        return np.exp(-x*ln_bnd/a)\n",
    "    # Starting with x = 0 for fits\n",
    "    tr_n6 = np.arange(n_monomers-1)\n",
    "    \n",
    "    #tr_n6 += 1\n",
    "\n",
    "    pers_lp = scipy.optimize.curve_fit(expfunc, tr_n6, v_poly[0,:])[0][0]\n",
    "    \n",
    "    return  rg_ens, v_poly, pers_lp, avg_rg"
   ]
  },
  {
   "cell_type": "code",
   "execution_count": 7,
   "metadata": {},
   "outputs": [],
   "source": [
    "# I want a list of total fraction of contacts where length is determined by no. of blocks and a dictionary \n",
    "# of contact groups as keys and list of fractional contacts as values(length of list will be no. of blocks)\n",
    "def bavg_pers_cnt(no_of_blks, polymer_atoms, universe, len_bnd, begin, final):\n",
    " \n",
    "    n_size = (final - begin)/no_of_blks\n",
    "    \n",
    "    ot_dab = {}\n",
    "    universe.trajectory[begin]\n",
    "    \n",
    "    sf_lbl = [\"Avg Radius of gyration\", \"Avg persistence length\"]\n",
    "\n",
    "    blk_nparr = np.zeros(shape=(len(sf_lbl),no_of_blks))\n",
    "    \n",
    "    count = 0 \n",
    "    \n",
    "    for i in range(no_of_blks):\n",
    "        \n",
    "        start = universe.trajectory.frame\n",
    "        print(start)\n",
    "    \n",
    "        end = int(start + n_size)\n",
    "        print(end)\n",
    "       \n",
    "        pp_rgens, cor_pp, per_pp, rg_avgpp = get_rg_pers_poly(polymer_atoms, universe, start, end, len_bnd)\n",
    "        \n",
    "        blk_nparr[0,count] = rg_avgpp\n",
    "        \n",
    "        blk_nparr[1,count] = per_pp        \n",
    "        \n",
    "        universe.trajectory[end]\n",
    "        \n",
    "        count += 1\n",
    "    # Save fractional contacts for each AA group type, each element in the value array corresponds to a block \n",
    "    # calculated value\n",
    "    for i in range(len(sf_lbl)):\n",
    "        ot_dab[sf_lbl[i]] = blk_nparr[i,:]\n",
    "    \n",
    "    return ot_dab\n",
    "        "
   ]
  },
  {
   "cell_type": "markdown",
   "metadata": {},
   "source": [
    "### Water only systems"
   ]
  },
  {
   "cell_type": "markdown",
   "metadata": {},
   "source": [
    "## N = 6 water"
   ]
  },
  {
   "cell_type": "code",
   "execution_count": 8,
   "metadata": {},
   "outputs": [],
   "source": [
    "# For the right Rg calculation using MD Analysis, use trajactory without pbc \n",
    "n6_plga_wat = mda.Universe(\"n6_plga_50ns/0_xa_soln/confout.gro\", \"n6_plga_50ns/0_xa_soln/nopbc_n6wat.xtc\")"
   ]
  },
  {
   "cell_type": "code",
   "execution_count": 9,
   "metadata": {},
   "outputs": [
    {
     "data": {
      "text/plain": [
       "5001"
      ]
     },
     "execution_count": 9,
     "metadata": {},
     "output_type": "execute_result"
    }
   ],
   "source": [
    "len(n6_plga_wat.trajectory)"
   ]
  },
  {
   "cell_type": "code",
   "execution_count": 10,
   "metadata": {},
   "outputs": [],
   "source": [
    "#Select the polymer heavy atoms \n",
    "poly_n6 = n6_plga_wat.select_atoms(\"resname sPLG PLG tPLG and not type H\")"
   ]
  },
  {
   "cell_type": "code",
   "execution_count": null,
   "metadata": {},
   "outputs": [],
   "source": [
    "o9_atom = poly_n6.select_atoms(\"resid 1 and name O9\")\n",
    "o5_plg1 = poly_n6.select_atoms(\"resid 2 and name O5\")\n",
    "lbond = np.zeros(shape=(1,5000))\n",
    "count = 0\n",
    "for ts in n6_plga_wat.trajectory[0:5000]:\n",
    "    oo_len = mda.analysis.distances.distance_array(o9_atom.positions, o5_plg1.positions, \n",
    "                                                   box=n6_plga_wat.trajectory.ts.dimensions)\n",
    "    lbond[0, count] = oo_len\n",
    "    count += 1\n",
    "\n",
    "#lbond\n",
    "#lb_avg = np.mean(lbond)\n",
    "plt.scatter(np.arange(5000),lbond)"
   ]
  },
  {
   "cell_type": "code",
   "execution_count": null,
   "metadata": {},
   "outputs": [],
   "source": [
    "list(poly_n6)"
   ]
  },
  {
   "cell_type": "code",
   "execution_count": null,
   "metadata": {},
   "outputs": [],
   "source": [
    "poly_n6.center_of_mass()"
   ]
  },
  {
   "cell_type": "code",
   "execution_count": null,
   "metadata": {},
   "outputs": [],
   "source": [
    "n6_plga_wat.select_atoms(\"resid 1\").center_of_mass()"
   ]
  },
  {
   "cell_type": "code",
   "execution_count": null,
   "metadata": {},
   "outputs": [],
   "source": [
    "list(n6_plga_wat.select_atoms(\"resid 1\"))"
   ]
  },
  {
   "cell_type": "code",
   "execution_count": null,
   "metadata": {},
   "outputs": [],
   "source": [
    "n_monomers = len(np.unique(poly_n6.resids))\n",
    "com_pos_n6 = np.zeros(shape=(n_monomers), dtype=object)\n",
    "for i in range(n_monomers):\n",
    "    #print(i)\n",
    "    #print(n6_plga_wat.select_atoms(\"resid \"+str(i+1)).center_of_mass())\n",
    "    com_pos_n6[i] = n6_plga_wat.select_atoms(\"resid \"+str(i+1)).center_of_mass()\n",
    "com_pos_n6"
   ]
  },
  {
   "cell_type": "code",
   "execution_count": 11,
   "metadata": {},
   "outputs": [],
   "source": [
    "com_bond = np.zeros(shape=(1,5000))\n",
    "count = 0\n",
    "for ts in n6_plga_wat.trajectory[0:5000]:\n",
    "    n6_mon1 = n6_plga_wat.select_atoms(\"resid 1\")\n",
    "    n6_mon2 = n6_plga_wat.select_atoms(\"resid 2\")\n",
    "    oo_len = mda.analysis.distances.distance_array(n6_mon1.center_of_mass(), n6_mon2.center_of_mass(), \n",
    "                                                   box=n6_plga_wat.trajectory.ts.dimensions)\n",
    "    com_bond[0, count] = oo_len\n",
    "    count += 1\n",
    "    "
   ]
  },
  {
   "cell_type": "code",
   "execution_count": 12,
   "metadata": {},
   "outputs": [
    {
     "data": {
      "text/plain": [
       "array([[5.41774043, 4.78879205, 5.54438067, ..., 6.56805096, 6.42530086,\n",
       "        6.30959793]])"
      ]
     },
     "execution_count": 12,
     "metadata": {},
     "output_type": "execute_result"
    }
   ],
   "source": [
    "com_bond"
   ]
  },
  {
   "cell_type": "code",
   "execution_count": 13,
   "metadata": {},
   "outputs": [
    {
     "data": {
      "text/plain": [
       "5.691897446005937"
      ]
     },
     "execution_count": 13,
     "metadata": {},
     "output_type": "execute_result"
    }
   ],
   "source": [
    "lb_avg = np.mean(com_bond)\n",
    "lb_avg"
   ]
  },
  {
   "cell_type": "code",
   "execution_count": 14,
   "metadata": {},
   "outputs": [
    {
     "data": {
      "text/plain": [
       "0.7661117243666821"
      ]
     },
     "execution_count": 14,
     "metadata": {},
     "output_type": "execute_result"
    }
   ],
   "source": [
    "np.std(com_bond)"
   ]
  },
  {
   "cell_type": "code",
   "execution_count": null,
   "metadata": {},
   "outputs": [],
   "source": [
    "np.mean(lbond)"
   ]
  },
  {
   "cell_type": "code",
   "execution_count": null,
   "metadata": {},
   "outputs": [],
   "source": [
    "np.std(lbond)"
   ]
  },
  {
   "cell_type": "code",
   "execution_count": null,
   "metadata": {},
   "outputs": [],
   "source": [
    "plt.scatter(np.arange(5000),com_bond)\n",
    "plt.scatter(np.arange(5000),lbond,c=\"y\")"
   ]
  },
  {
   "cell_type": "code",
   "execution_count": 16,
   "metadata": {},
   "outputs": [
    {
     "data": {
      "text/plain": [
       "5.691897446005937"
      ]
     },
     "execution_count": 16,
     "metadata": {},
     "output_type": "execute_result"
    }
   ],
   "source": [
    "lb_avg"
   ]
  },
  {
   "cell_type": "code",
   "execution_count": 17,
   "metadata": {},
   "outputs": [
    {
     "name": "stdout",
     "output_type": "stream",
     "text": [
      "0\n",
      "1000\n",
      "1000\n",
      "2000\n",
      "2000\n",
      "3000\n",
      "3000\n",
      "4000\n",
      "4000\n",
      "5000\n"
     ]
    }
   ],
   "source": [
    "n6_blks = bavg_pers_cnt(5, poly_n6, n6_plga_wat, lb_avg, 0 , 5000)"
   ]
  },
  {
   "cell_type": "code",
   "execution_count": 18,
   "metadata": {},
   "outputs": [
    {
     "data": {
      "text/plain": [
       "array([13.35953028, 25.66983957, 16.62803879, 19.41697775, 18.9121992 ])"
      ]
     },
     "execution_count": 18,
     "metadata": {},
     "output_type": "execute_result"
    }
   ],
   "source": [
    "# Fully extended length of 6 monomer PLGA is 3.838 nm \n",
    "n6_blks[\"Avg persistence length\"]"
   ]
  },
  {
   "cell_type": "code",
   "execution_count": 19,
   "metadata": {},
   "outputs": [
    {
     "data": {
      "text/plain": [
       "array([5.68487411, 6.1564806 , 5.81737282, 5.54520295, 5.75495092])"
      ]
     },
     "execution_count": 19,
     "metadata": {},
     "output_type": "execute_result"
    }
   ],
   "source": [
    "n6_blks[\"Avg Radius of gyration\"]"
   ]
  },
  {
   "cell_type": "code",
   "execution_count": 20,
   "metadata": {},
   "outputs": [
    {
     "data": {
      "text/plain": [
       "18.797317117752463"
      ]
     },
     "execution_count": 20,
     "metadata": {},
     "output_type": "execute_result"
    }
   ],
   "source": [
    "np.mean(n6_blks[\"Avg persistence length\"])"
   ]
  },
  {
   "cell_type": "code",
   "execution_count": 21,
   "metadata": {},
   "outputs": [
    {
     "data": {
      "text/plain": [
       "4.047320994507758"
      ]
     },
     "execution_count": 21,
     "metadata": {},
     "output_type": "execute_result"
    }
   ],
   "source": [
    "np.std(n6_blks[\"Avg persistence length\"])"
   ]
  },
  {
   "cell_type": "code",
   "execution_count": 22,
   "metadata": {},
   "outputs": [],
   "source": [
    "n6_rgens, cor_n6, pers_n6, rg_avgn6 = get_rg_pers_poly(poly_n6, n6_plga_wat, 0, 5000, lb_avg)"
   ]
  },
  {
   "cell_type": "code",
   "execution_count": 23,
   "metadata": {},
   "outputs": [
    {
     "data": {
      "text/plain": [
       "array([[ 1.        ,  0.75288193,  0.49128594,  0.37804014,  0.3226647 ],\n",
       "       [ 0.        , 40.80351103, 59.95608195, 66.45823909, 68.49624104],\n",
       "       [ 1.        ,  2.        ,  3.        ,  4.        ,  5.        ]])"
      ]
     },
     "execution_count": 23,
     "metadata": {},
     "output_type": "execute_result"
    }
   ],
   "source": [
    "cor_n6"
   ]
  },
  {
   "cell_type": "code",
   "execution_count": 24,
   "metadata": {},
   "outputs": [
    {
     "data": {
      "text/plain": [
       "array([1.        , 0.75288193, 0.49128594, 0.37804014, 0.3226647 ])"
      ]
     },
     "execution_count": 24,
     "metadata": {},
     "output_type": "execute_result"
    }
   ],
   "source": [
    "cor_n6[0]"
   ]
  },
  {
   "cell_type": "code",
   "execution_count": 25,
   "metadata": {},
   "outputs": [
    {
     "data": {
      "text/plain": [
       "18.133095102842137"
      ]
     },
     "execution_count": 25,
     "metadata": {},
     "output_type": "execute_result"
    }
   ],
   "source": [
    "pers_n6"
   ]
  },
  {
   "cell_type": "code",
   "execution_count": null,
   "metadata": {},
   "outputs": [],
   "source": [
    "lb_avg"
   ]
  },
  {
   "cell_type": "code",
   "execution_count": 26,
   "metadata": {},
   "outputs": [
    {
     "data": {
      "text/plain": [
       "[<matplotlib.lines.Line2D at 0x1324955860>]"
      ]
     },
     "execution_count": 26,
     "metadata": {},
     "output_type": "execute_result"
    },
    {
     "data": {
      "image/png": "[encoded data removed]",
      "text/plain": [
       "<Figure size 432x288 with 1 Axes>"
      ]
     },
     "metadata": {
      "needs_background": "light"
     },
     "output_type": "display_data"
    }
   ],
   "source": [
    "def exfun(x, a):\n",
    "    return np.exp(-x*lb_avg/a)\n",
    "nt = np.arange(5)\n",
    "#nt += 1\n",
    "plt.scatter(nt, cor_n6[0,:])\n",
    "# a-axis is the number of bond lengths away \n",
    "plt.plot(nt,exfun(nt, pers_n6))"
   ]
  },
  {
   "cell_type": "code",
   "execution_count": null,
   "metadata": {},
   "outputs": [],
   "source": [
    "rg_n6 = np.zeros(shape=(5000))\n",
    "\n",
    "count = 0\n",
    "for ts in n6_plga_wat.trajectory[0:5000]:\n",
    "\n",
    "    rg_n6[count] = poly_n6.radius_of_gyration()\n",
    "    \n",
    "    count += 1\n",
    "    \n",
    "tr_n6 = np.arange(5000)   \n",
    "plt.figure(figsize=(8,8))\n",
    "plt.scatter(tr_n6,rg_n6/10)"
   ]
  },
  {
   "cell_type": "markdown",
   "metadata": {},
   "source": [
    "## N = 8 water"
   ]
  },
  {
   "cell_type": "code",
   "execution_count": 27,
   "metadata": {},
   "outputs": [],
   "source": [
    "n8_plga_wat = mda.Universe(\"n8_plga_50ns/0_xa_soln/confout.gro\", \"n8_plga_50ns/0_xa_soln/nopbc_traj.xtc\")"
   ]
  },
  {
   "cell_type": "code",
   "execution_count": 28,
   "metadata": {},
   "outputs": [
    {
     "data": {
      "text/plain": [
       "<Universe with 12609 atoms>"
      ]
     },
     "execution_count": 28,
     "metadata": {},
     "output_type": "execute_result"
    }
   ],
   "source": [
    "n8_plga_wat"
   ]
  },
  {
   "cell_type": "code",
   "execution_count": 29,
   "metadata": {},
   "outputs": [],
   "source": [
    "#Select the polymer heavy atoms \n",
    "poly_n8 = n8_plga_wat.select_atoms(\"resname sPLG PLG tPLG and not type H\")"
   ]
  },
  {
   "cell_type": "code",
   "execution_count": 30,
   "metadata": {},
   "outputs": [
    {
     "data": {
      "text/plain": [
       "5001"
      ]
     },
     "execution_count": 30,
     "metadata": {},
     "output_type": "execute_result"
    }
   ],
   "source": [
    "len(n8_plga_wat.trajectory)"
   ]
  },
  {
   "cell_type": "code",
   "execution_count": null,
   "metadata": {},
   "outputs": [],
   "source": [
    "list(o5_plg1)"
   ]
  },
  {
   "cell_type": "code",
   "execution_count": 31,
   "metadata": {},
   "outputs": [],
   "source": [
    "com_bond_n8 = np.zeros(shape=(1,5000))\n",
    "count = 0\n",
    "for ts in n8_plga_wat.trajectory[0:5000]:\n",
    "    n8_mon1 = n8_plga_wat.select_atoms(\"resid 1\")\n",
    "    n8_mon2 = n8_plga_wat.select_atoms(\"resid 2\")\n",
    "    oo_len = mda.analysis.distances.distance_array(n8_mon1.center_of_mass(), n8_mon2.center_of_mass(), \n",
    "                                                   box=n8_plga_wat.trajectory.ts.dimensions)\n",
    "    com_bond_n8[0, count] = oo_len\n",
    "    count += 1\n",
    "lb_avg_n8 = np.mean(com_bond_n8)"
   ]
  },
  {
   "cell_type": "code",
   "execution_count": 32,
   "metadata": {},
   "outputs": [
    {
     "data": {
      "text/plain": [
       "<matplotlib.collections.PathCollection at 0x1325136e80>"
      ]
     },
     "execution_count": 32,
     "metadata": {},
     "output_type": "execute_result"
    },
    {
     "data": {
      "image/png": "[encoded data removed]",
      "text/plain": [
       "<Figure size 432x288 with 1 Axes>"
      ]
     },
     "metadata": {
      "needs_background": "light"
     },
     "output_type": "display_data"
    }
   ],
   "source": [
    "plt.scatter(np.arange(5000),com_bond_n8)\n",
    "plt.scatter(np.arange(5000),com_bond)"
   ]
  },
  {
   "cell_type": "code",
   "execution_count": 33,
   "metadata": {},
   "outputs": [
    {
     "data": {
      "text/plain": [
       "5.419908626450464"
      ]
     },
     "execution_count": 33,
     "metadata": {},
     "output_type": "execute_result"
    }
   ],
   "source": [
    "lb_avg_n8"
   ]
  },
  {
   "cell_type": "code",
   "execution_count": 34,
   "metadata": {},
   "outputs": [
    {
     "data": {
      "text/plain": [
       "5.691897446005937"
      ]
     },
     "execution_count": 34,
     "metadata": {},
     "output_type": "execute_result"
    }
   ],
   "source": [
    "lb_avg"
   ]
  },
  {
   "cell_type": "code",
   "execution_count": 35,
   "metadata": {},
   "outputs": [
    {
     "name": "stdout",
     "output_type": "stream",
     "text": [
      "0\n",
      "1000\n",
      "1000\n",
      "2000\n",
      "2000\n",
      "3000\n",
      "3000\n",
      "4000\n",
      "4000\n",
      "5000\n"
     ]
    }
   ],
   "source": [
    "n8_blks = bavg_pers_cnt(5, poly_n8, n8_plga_wat, lb_avg, 0 , 5000)"
   ]
  },
  {
   "cell_type": "code",
   "execution_count": 36,
   "metadata": {},
   "outputs": [
    {
     "data": {
      "text/plain": [
       "array([20.81153715, 18.81189265, 16.59988721, 19.16383021, 22.5722986 ])"
      ]
     },
     "execution_count": 36,
     "metadata": {},
     "output_type": "execute_result"
    }
   ],
   "source": [
    "n8_blks[\"Avg persistence length\"]"
   ]
  },
  {
   "cell_type": "code",
   "execution_count": 37,
   "metadata": {},
   "outputs": [
    {
     "data": {
      "text/plain": [
       "array([7.02121637, 6.82745788, 6.71821951, 6.66298761, 6.58102339])"
      ]
     },
     "execution_count": 37,
     "metadata": {},
     "output_type": "execute_result"
    }
   ],
   "source": [
    "n8_blks[\"Avg Radius of gyration\"]"
   ]
  },
  {
   "cell_type": "code",
   "execution_count": 38,
   "metadata": {},
   "outputs": [],
   "source": [
    "n8_rgens, cor_n8_mat, pers_n8, rg_avgn8 = get_rg_pers_poly(poly_n8, n8_plga_wat, 0, 5000, lb_avg)"
   ]
  },
  {
   "cell_type": "code",
   "execution_count": 40,
   "metadata": {},
   "outputs": [
    {
     "data": {
      "text/plain": [
       "array([[ 1.        ,  0.78399787,  0.52602686,  0.3728495 ,  0.27791177,\n",
       "         0.2309618 ,  0.27003583],\n",
       "       [ 0.        , 38.14413057, 57.90990267, 67.50218156, 72.85869348,\n",
       "        75.24013707, 71.93114384],\n",
       "       [ 1.        ,  2.        ,  3.        ,  4.        ,  5.        ,\n",
       "         6.        ,  7.        ]])"
      ]
     },
     "execution_count": 40,
     "metadata": {},
     "output_type": "execute_result"
    }
   ],
   "source": [
    "cor_n8_mat"
   ]
  },
  {
   "cell_type": "code",
   "execution_count": 41,
   "metadata": {},
   "outputs": [
    {
     "data": {
      "text/plain": [
       "array([1.        , 0.78399787, 0.52602686, 0.3728495 , 0.27791177,\n",
       "       0.2309618 , 0.27003583])"
      ]
     },
     "execution_count": 41,
     "metadata": {},
     "output_type": "execute_result"
    }
   ],
   "source": [
    "cor_n8_mat[0]"
   ]
  },
  {
   "cell_type": "code",
   "execution_count": 42,
   "metadata": {},
   "outputs": [
    {
     "data": {
      "text/plain": [
       "19.454786238445518"
      ]
     },
     "execution_count": 42,
     "metadata": {},
     "output_type": "execute_result"
    }
   ],
   "source": [
    "pers_n8"
   ]
  },
  {
   "cell_type": "code",
   "execution_count": 44,
   "metadata": {},
   "outputs": [
    {
     "data": {
      "text/plain": [
       "[<matplotlib.lines.Line2D at 0x1325108550>]"
      ]
     },
     "execution_count": 44,
     "metadata": {},
     "output_type": "execute_result"
    },
    {
     "data": {
      "image/png": "[encoded data removed]",
      "text/plain": [
       "<Figure size 432x288 with 1 Axes>"
      ]
     },
     "metadata": {
      "needs_background": "light"
     },
     "output_type": "display_data"
    }
   ],
   "source": [
    "def exfun(x, a):\n",
    "    return np.exp(-x*lb_avg_n8/a)\n",
    "\n",
    "nt = np.arange(7)\n",
    "plt.scatter(nt, cor_n8_mat[0,:])\n",
    "plt.plot(nt,exfun(nt, pers_n8))"
   ]
  },
  {
   "cell_type": "code",
   "execution_count": 45,
   "metadata": {},
   "outputs": [
    {
     "data": {
      "text/plain": [
       "19.591889167033475"
      ]
     },
     "execution_count": 45,
     "metadata": {},
     "output_type": "execute_result"
    }
   ],
   "source": [
    "np.mean(n8_blks[\"Avg persistence length\"])"
   ]
  },
  {
   "cell_type": "code",
   "execution_count": 46,
   "metadata": {},
   "outputs": [
    {
     "data": {
      "text/plain": [
       "2.0056962053539937"
      ]
     },
     "execution_count": 46,
     "metadata": {},
     "output_type": "execute_result"
    }
   ],
   "source": [
    "np.std(n8_blks[\"Avg persistence length\"])"
   ]
  },
  {
   "cell_type": "markdown",
   "metadata": {},
   "source": [
    "## N = 10 water"
   ]
  },
  {
   "cell_type": "code",
   "execution_count": 47,
   "metadata": {},
   "outputs": [],
   "source": [
    "n10_plga_wat = mda.Universe(\"n10_plga_50ns/0_xa_soln/N10_sys.gro\", \"n10_plga_50ns/0_xa_soln/nopbc_10wat.xtc\")"
   ]
  },
  {
   "cell_type": "code",
   "execution_count": 48,
   "metadata": {},
   "outputs": [
    {
     "data": {
      "text/plain": [
       "<Universe with 153 atoms>"
      ]
     },
     "execution_count": 48,
     "metadata": {},
     "output_type": "execute_result"
    }
   ],
   "source": [
    "n10_plga_wat"
   ]
  },
  {
   "cell_type": "code",
   "execution_count": 49,
   "metadata": {},
   "outputs": [
    {
     "data": {
      "text/plain": [
       "5001"
      ]
     },
     "execution_count": 49,
     "metadata": {},
     "output_type": "execute_result"
    }
   ],
   "source": [
    "len(n10_plga_wat.trajectory)"
   ]
  },
  {
   "cell_type": "code",
   "execution_count": 50,
   "metadata": {},
   "outputs": [],
   "source": [
    "poly_n10 = n10_plga_wat.select_atoms(\"resname sPLG PLG tPLG and not type H\")"
   ]
  },
  {
   "cell_type": "code",
   "execution_count": 51,
   "metadata": {},
   "outputs": [],
   "source": [
    "com_bond_n10 = np.zeros(shape=(1,5000))\n",
    "count = 0\n",
    "for ts in n10_plga_wat.trajectory[0:5000]:\n",
    "    n10_mon1 = n10_plga_wat.select_atoms(\"resid 1\")\n",
    "    n10_mon2 = n10_plga_wat.select_atoms(\"resid 2\")\n",
    "    oo_len = mda.analysis.distances.distance_array(n10_mon1.center_of_mass(), n10_mon2.center_of_mass(), \n",
    "                                                   box=n10_plga_wat.trajectory.ts.dimensions)\n",
    "    com_bond_n10[0, count] = oo_len\n",
    "    count += 1\n",
    "lb_avg_n10 = np.mean(com_bond_n10)"
   ]
  },
  {
   "cell_type": "code",
   "execution_count": 52,
   "metadata": {},
   "outputs": [
    {
     "data": {
      "text/plain": [
       "5.591477567959724"
      ]
     },
     "execution_count": 52,
     "metadata": {},
     "output_type": "execute_result"
    }
   ],
   "source": [
    "lb_avg_n10"
   ]
  },
  {
   "cell_type": "code",
   "execution_count": 53,
   "metadata": {},
   "outputs": [
    {
     "data": {
      "text/plain": [
       "<matplotlib.collections.PathCollection at 0x13250c02b0>"
      ]
     },
     "execution_count": 53,
     "metadata": {},
     "output_type": "execute_result"
    },
    {
     "data": {
      "image/png": "[encoded data removed]",
      "text/plain": [
       "<Figure size 432x288 with 1 Axes>"
      ]
     },
     "metadata": {
      "needs_background": "light"
     },
     "output_type": "display_data"
    }
   ],
   "source": [
    "plt.scatter(np.arange(5000),com_bond)\n",
    "plt.scatter(np.arange(5000),com_bond_n8)\n",
    "plt.scatter(np.arange(5000),com_bond_n10)"
   ]
  },
  {
   "cell_type": "code",
   "execution_count": 54,
   "metadata": {},
   "outputs": [
    {
     "data": {
      "text/plain": [
       "5.691897446005937"
      ]
     },
     "execution_count": 54,
     "metadata": {},
     "output_type": "execute_result"
    }
   ],
   "source": [
    "lb_avg"
   ]
  },
  {
   "cell_type": "code",
   "execution_count": 55,
   "metadata": {},
   "outputs": [
    {
     "name": "stdout",
     "output_type": "stream",
     "text": [
      "0\n",
      "1000\n",
      "1000\n",
      "2000\n",
      "2000\n",
      "3000\n",
      "3000\n",
      "4000\n",
      "4000\n",
      "5000\n"
     ]
    }
   ],
   "source": [
    "n10_blks = bavg_pers_cnt(5, poly_n10, n10_plga_wat, lb_avg_n10, 0 , 5000)"
   ]
  },
  {
   "cell_type": "code",
   "execution_count": 56,
   "metadata": {},
   "outputs": [
    {
     "data": {
      "text/plain": [
       "array([34.19594369, 17.2256789 , 22.02422702, 13.59196077, 14.25164986])"
      ]
     },
     "execution_count": 56,
     "metadata": {},
     "output_type": "execute_result"
    }
   ],
   "source": [
    "# Extended Length of 10 monomer length plga: 6.436 nm \n",
    "n10_blks[\"Avg persistence length\"]"
   ]
  },
  {
   "cell_type": "code",
   "execution_count": 57,
   "metadata": {},
   "outputs": [
    {
     "data": {
      "text/plain": [
       "array([6.9883839 , 7.00428414, 7.00107681, 6.92554125, 7.34435911])"
      ]
     },
     "execution_count": 57,
     "metadata": {},
     "output_type": "execute_result"
    }
   ],
   "source": [
    "n10_blks[\"Avg Radius of gyration\"]"
   ]
  },
  {
   "cell_type": "code",
   "execution_count": 80,
   "metadata": {},
   "outputs": [
    {
     "data": {
      "text/plain": [
       "7.05272904253288"
      ]
     },
     "execution_count": 80,
     "metadata": {},
     "output_type": "execute_result"
    }
   ],
   "source": [
    "np.mean(n10_blks[\"Avg Radius of gyration\"])"
   ]
  },
  {
   "cell_type": "code",
   "execution_count": 81,
   "metadata": {},
   "outputs": [
    {
     "data": {
      "text/plain": [
       "0.14857993640562434"
      ]
     },
     "execution_count": 81,
     "metadata": {},
     "output_type": "execute_result"
    }
   ],
   "source": [
    "np.std(n10_blks[\"Avg Radius of gyration\"])"
   ]
  },
  {
   "cell_type": "code",
   "execution_count": 58,
   "metadata": {},
   "outputs": [
    {
     "data": {
      "text/plain": [
       "20.25789204787856"
      ]
     },
     "execution_count": 58,
     "metadata": {},
     "output_type": "execute_result"
    }
   ],
   "source": [
    "np.mean(n10_blks[\"Avg persistence length\"])"
   ]
  },
  {
   "cell_type": "code",
   "execution_count": 59,
   "metadata": {},
   "outputs": [
    {
     "data": {
      "text/plain": [
       "7.577507825399283"
      ]
     },
     "execution_count": 59,
     "metadata": {},
     "output_type": "execute_result"
    }
   ],
   "source": [
    "np.std(n10_blks[\"Avg persistence length\"])"
   ]
  },
  {
   "cell_type": "code",
   "execution_count": 75,
   "metadata": {},
   "outputs": [],
   "source": [
    "n10_rgens, cor_n10_mat, pers_n10, rg_avgn10 = get_rg_pers_poly(poly_n10, n10_plga_wat, 0, 1000, lb_avg)"
   ]
  },
  {
   "cell_type": "code",
   "execution_count": 76,
   "metadata": {},
   "outputs": [
    {
     "data": {
      "text/plain": [
       "array([[ 1.        ,  0.76945457,  0.5326745 ,  0.37166219,  0.27003924,\n",
       "         0.43685752,  0.53919603,  0.58387418,  0.43219679],\n",
       "       [ 0.        , 39.56966549, 57.57482434, 67.7733684 , 73.91994728,\n",
       "        63.70777755, 56.48306924, 52.56336291, 61.39770917],\n",
       "       [ 1.        ,  2.        ,  3.        ,  4.        ,  5.        ,\n",
       "         6.        ,  7.        ,  8.        ,  9.        ]])"
      ]
     },
     "execution_count": 76,
     "metadata": {},
     "output_type": "execute_result"
    }
   ],
   "source": [
    "cor_n10_mat"
   ]
  },
  {
   "cell_type": "code",
   "execution_count": 77,
   "metadata": {},
   "outputs": [
    {
     "data": {
      "text/plain": [
       "array([1.        , 0.76945457, 0.5326745 , 0.37166219, 0.27003924,\n",
       "       0.43685752, 0.53919603, 0.58387418, 0.43219679])"
      ]
     },
     "execution_count": 77,
     "metadata": {},
     "output_type": "execute_result"
    }
   ],
   "source": [
    "cor_n10_mat[0]"
   ]
  },
  {
   "cell_type": "code",
   "execution_count": 78,
   "metadata": {},
   "outputs": [
    {
     "data": {
      "text/plain": [
       "34.810101873821594"
      ]
     },
     "execution_count": 78,
     "metadata": {},
     "output_type": "execute_result"
    }
   ],
   "source": [
    "pers_n10"
   ]
  },
  {
   "cell_type": "code",
   "execution_count": 79,
   "metadata": {},
   "outputs": [
    {
     "data": {
      "text/plain": [
       "[<matplotlib.lines.Line2D at 0x13247d1ef0>]"
      ]
     },
     "execution_count": 79,
     "metadata": {},
     "output_type": "execute_result"
    },
    {
     "data": {
      "image/png": "[encoded data removed]",
      "text/plain": [
       "<Figure size 432x288 with 1 Axes>"
      ]
     },
     "metadata": {
      "needs_background": "light"
     },
     "output_type": "display_data"
    }
   ],
   "source": [
    "def exfun(x, a):\n",
    "    return np.exp(-x*lb_avg/a)\n",
    "\n",
    "nt = np.arange(9)\n",
    "plt.scatter(nt, cor_n10_mat[0,:])\n",
    "plt.plot(nt,exfun(nt, pers_n10))"
   ]
  },
  {
   "cell_type": "markdown",
   "metadata": {},
   "source": [
    "## N = 20 water "
   ]
  },
  {
   "cell_type": "code",
   "execution_count": 82,
   "metadata": {},
   "outputs": [],
   "source": [
    "n20_plga_wat = mda.Universe(\"n20_plga_150ns/0_xa_soln/nowat_n20.gro\", \"n20_plga_150ns/0_xa_soln/N20_nopbcpp.xtc\")"
   ]
  },
  {
   "cell_type": "code",
   "execution_count": 83,
   "metadata": {},
   "outputs": [
    {
     "data": {
      "text/plain": [
       "<Universe with 303 atoms>"
      ]
     },
     "execution_count": 83,
     "metadata": {},
     "output_type": "execute_result"
    }
   ],
   "source": [
    "n20_plga_wat"
   ]
  },
  {
   "cell_type": "code",
   "execution_count": 84,
   "metadata": {},
   "outputs": [
    {
     "data": {
      "text/plain": [
       "15001"
      ]
     },
     "execution_count": 84,
     "metadata": {},
     "output_type": "execute_result"
    }
   ],
   "source": [
    "len(n20_plga_wat.trajectory)"
   ]
  },
  {
   "cell_type": "code",
   "execution_count": 85,
   "metadata": {},
   "outputs": [],
   "source": [
    "poly_n20 = n20_plga_wat.select_atoms(\"resname sPLG PLG tPLG and not type H\")"
   ]
  },
  {
   "cell_type": "code",
   "execution_count": 90,
   "metadata": {},
   "outputs": [],
   "source": [
    "com_bond_n20 = np.zeros(shape=(1,15000))\n",
    "count = 0\n",
    "for ts in n20_plga_wat.trajectory[0:15000]:\n",
    "    n20_mon1 = n20_plga_wat.select_atoms(\"resid 1\")\n",
    "    n20_mon2 = n20_plga_wat.select_atoms(\"resid 2\")\n",
    "    oo_len = mda.analysis.distances.distance_array(n20_mon1.center_of_mass(), n20_mon2.center_of_mass(), \n",
    "                                                   box=n20_plga_wat.trajectory.ts.dimensions)\n",
    "    com_bond_n20[0, count] = oo_len\n",
    "    count += 1\n",
    "lb_avg_n20 = np.mean(com_bond_n20)"
   ]
  },
  {
   "cell_type": "code",
   "execution_count": 91,
   "metadata": {},
   "outputs": [
    {
     "data": {
      "text/plain": [
       "5.5775064834288015"
      ]
     },
     "execution_count": 91,
     "metadata": {},
     "output_type": "execute_result"
    }
   ],
   "source": [
    "lb_avg_n20"
   ]
  },
  {
   "cell_type": "code",
   "execution_count": 92,
   "metadata": {},
   "outputs": [
    {
     "data": {
      "text/plain": [
       "<matplotlib.collections.PathCollection at 0x132586b3c8>"
      ]
     },
     "execution_count": 92,
     "metadata": {},
     "output_type": "execute_result"
    },
    {
     "data": {
      "image/png": "[encoded data removed]",
      "text/plain": [
       "<Figure size 432x288 with 1 Axes>"
      ]
     },
     "metadata": {
      "needs_background": "light"
     },
     "output_type": "display_data"
    }
   ],
   "source": [
    "plt.scatter(np.arange(5000),com_bond)\n",
    "plt.scatter(np.arange(5000),com_bond_n8)\n",
    "plt.scatter(np.arange(5000),com_bond_n10)\n",
    "plt.scatter(np.arange(15000),com_bond_n20)"
   ]
  },
  {
   "cell_type": "code",
   "execution_count": 93,
   "metadata": {},
   "outputs": [
    {
     "name": "stdout",
     "output_type": "stream",
     "text": [
      "0\n",
      "3000\n",
      "3000\n",
      "6000\n",
      "6000\n",
      "9000\n",
      "9000\n",
      "12000\n",
      "12000\n",
      "15000\n"
     ]
    }
   ],
   "source": [
    "n20_blks = bavg_pers_cnt(5, poly_n20, n20_plga_wat, lb_avg, 0 , 15000)"
   ]
  },
  {
   "cell_type": "code",
   "execution_count": 94,
   "metadata": {},
   "outputs": [
    {
     "data": {
      "text/plain": [
       "array([34.69431752, 23.29780656, 26.96079047, 21.80901165, 24.78756503])"
      ]
     },
     "execution_count": 94,
     "metadata": {},
     "output_type": "execute_result"
    }
   ],
   "source": [
    "n20_blks[\"Avg persistence length\"]"
   ]
  },
  {
   "cell_type": "code",
   "execution_count": 95,
   "metadata": {},
   "outputs": [
    {
     "data": {
      "text/plain": [
       "array([9.95303181, 8.69824583, 9.06790532, 8.61729467, 8.63440246])"
      ]
     },
     "execution_count": 95,
     "metadata": {},
     "output_type": "execute_result"
    }
   ],
   "source": [
    "n20_blks[\"Avg Radius of gyration\"]"
   ]
  },
  {
   "cell_type": "code",
   "execution_count": 96,
   "metadata": {},
   "outputs": [
    {
     "data": {
      "text/plain": [
       "8.994176018924986"
      ]
     },
     "execution_count": 96,
     "metadata": {},
     "output_type": "execute_result"
    }
   ],
   "source": [
    "np.mean(n20_blks[\"Avg Radius of gyration\"])"
   ]
  },
  {
   "cell_type": "code",
   "execution_count": 97,
   "metadata": {},
   "outputs": [
    {
     "data": {
      "text/plain": [
       "0.5067330015067025"
      ]
     },
     "execution_count": 97,
     "metadata": {},
     "output_type": "execute_result"
    }
   ],
   "source": [
    "np.std(n20_blks[\"Avg Radius of gyration\"])"
   ]
  },
  {
   "cell_type": "code",
   "execution_count": 98,
   "metadata": {},
   "outputs": [
    {
     "data": {
      "text/plain": [
       "26.309898247251038"
      ]
     },
     "execution_count": 98,
     "metadata": {},
     "output_type": "execute_result"
    }
   ],
   "source": [
    "np.mean(n20_blks[\"Avg persistence length\"])"
   ]
  },
  {
   "cell_type": "code",
   "execution_count": 99,
   "metadata": {},
   "outputs": [
    {
     "data": {
      "text/plain": [
       "4.524827556553603"
      ]
     },
     "execution_count": 99,
     "metadata": {},
     "output_type": "execute_result"
    }
   ],
   "source": [
    "np.std(n20_blks[\"Avg persistence length\"])"
   ]
  },
  {
   "cell_type": "code",
   "execution_count": 100,
   "metadata": {},
   "outputs": [],
   "source": [
    "n20_rgens, cor_n20_mat, pers_n20, rg_avgn20 = get_rg_pers_poly(poly_n20, n20_plga_wat, 0, 15000, lb_avg)"
   ]
  },
  {
   "cell_type": "code",
   "execution_count": 101,
   "metadata": {},
   "outputs": [
    {
     "data": {
      "text/plain": [
       "array([[ 1.        ,  0.80423447,  0.55539194,  0.41054987,  0.31534959,\n",
       "         0.23435083,  0.16010671,  0.12157466,  0.12921006,  0.1538862 ,\n",
       "         0.18659722,  0.21416563,  0.23204986,  0.21960973,  0.18604922,\n",
       "         0.20922653,  0.28672631,  0.29669197,  0.27354845],\n",
       "       [ 0.        , 36.39754524, 56.18194291, 65.68154188, 71.51601712,\n",
       "        76.3261191 , 80.65647296, 82.90401617, 82.47815405, 81.04417791,\n",
       "        79.08707168, 77.34077051, 76.12939624, 76.82420456, 78.85747498,\n",
       "        77.5528042 , 72.27061942, 71.14782083, 71.56464998],\n",
       "       [ 1.        ,  2.        ,  3.        ,  4.        ,  5.        ,\n",
       "         6.        ,  7.        ,  8.        ,  9.        , 10.        ,\n",
       "        11.        , 12.        , 13.        , 14.        , 15.        ,\n",
       "        16.        , 17.        , 18.        , 19.        ]])"
      ]
     },
     "execution_count": 101,
     "metadata": {},
     "output_type": "execute_result"
    }
   ],
   "source": [
    "cor_n20_mat"
   ]
  },
  {
   "cell_type": "code",
   "execution_count": 102,
   "metadata": {},
   "outputs": [
    {
     "data": {
      "text/plain": [
       "array([1.        , 0.80423447, 0.55539194, 0.41054987, 0.31534959,\n",
       "       0.23435083, 0.16010671, 0.12157466, 0.12921006, 0.1538862 ,\n",
       "       0.18659722, 0.21416563, 0.23204986, 0.21960973, 0.18604922,\n",
       "       0.20922653, 0.28672631, 0.29669197, 0.27354845])"
      ]
     },
     "execution_count": 102,
     "metadata": {},
     "output_type": "execute_result"
    }
   ],
   "source": [
    "cor_n20_mat[0]"
   ]
  },
  {
   "cell_type": "code",
   "execution_count": 103,
   "metadata": {},
   "outputs": [
    {
     "data": {
      "text/plain": [
       "25.98052363916332"
      ]
     },
     "execution_count": 103,
     "metadata": {},
     "output_type": "execute_result"
    }
   ],
   "source": [
    "pers_n20"
   ]
  },
  {
   "cell_type": "code",
   "execution_count": 104,
   "metadata": {},
   "outputs": [
    {
     "data": {
      "text/plain": [
       "[<matplotlib.lines.Line2D at 0x1325af1b00>]"
      ]
     },
     "execution_count": 104,
     "metadata": {},
     "output_type": "execute_result"
    },
    {
     "data": {
      "image/png": "[encoded data removed]",
      "text/plain": [
       "<Figure size 432x288 with 1 Axes>"
      ]
     },
     "metadata": {
      "needs_background": "light"
     },
     "output_type": "display_data"
    }
   ],
   "source": [
    "def exfun(x, a):\n",
    "    return np.exp(-x*lb_avg/a)\n",
    "\n",
    "nt = np.arange(19)\n",
    "plt.scatter(nt, cor_n20_mat[0,:])\n",
    "plt.plot(nt,exfun(nt, pers_n10))"
   ]
  },
  {
   "cell_type": "code",
   "execution_count": null,
   "metadata": {},
   "outputs": [],
   "source": []
  },
  {
   "cell_type": "markdown",
   "metadata": {},
   "source": [
    "## N= 30 water"
   ]
  },
  {
   "cell_type": "code",
   "execution_count": 105,
   "metadata": {},
   "outputs": [],
   "source": [
    "n30_plga_wat = mda.Universe(\"n30_plga_150ns/0_xa_soln/0xa_n30sys.gro\", \"n30_plga_150ns/0_xa_soln/N30_nopbcpp_0xa.xtc\")"
   ]
  },
  {
   "cell_type": "code",
   "execution_count": 106,
   "metadata": {},
   "outputs": [
    {
     "data": {
      "text/plain": [
       "<Universe with 453 atoms>"
      ]
     },
     "execution_count": 106,
     "metadata": {},
     "output_type": "execute_result"
    }
   ],
   "source": [
    "n30_plga_wat"
   ]
  },
  {
   "cell_type": "code",
   "execution_count": 107,
   "metadata": {},
   "outputs": [
    {
     "data": {
      "text/plain": [
       "15001"
      ]
     },
     "execution_count": 107,
     "metadata": {},
     "output_type": "execute_result"
    }
   ],
   "source": [
    "len(n30_plga_wat.trajectory)"
   ]
  },
  {
   "cell_type": "code",
   "execution_count": 108,
   "metadata": {},
   "outputs": [],
   "source": [
    "poly_n30 = n30_plga_wat.select_atoms(\"resname sPLG PLG tPLG and not type H\")"
   ]
  },
  {
   "cell_type": "code",
   "execution_count": 109,
   "metadata": {},
   "outputs": [],
   "source": [
    "com_bond_n30 = np.zeros(shape=(1,15000))\n",
    "count = 0\n",
    "for ts in n30_plga_wat.trajectory[0:15000]:\n",
    "    n30_mon1 = n30_plga_wat.select_atoms(\"resid 1\")\n",
    "    n30_mon2 = n30_plga_wat.select_atoms(\"resid 2\")\n",
    "    oo_len = mda.analysis.distances.distance_array(n30_mon1.center_of_mass(), n30_mon2.center_of_mass(), \n",
    "                                                   box=n30_plga_wat.trajectory.ts.dimensions)\n",
    "    com_bond_n30[0, count] = oo_len\n",
    "    count += 1\n",
    "lb_avg_n30 = np.mean(com_bond_n30)"
   ]
  },
  {
   "cell_type": "code",
   "execution_count": 110,
   "metadata": {},
   "outputs": [
    {
     "data": {
      "text/plain": [
       "5.60743077731889"
      ]
     },
     "execution_count": 110,
     "metadata": {},
     "output_type": "execute_result"
    }
   ],
   "source": [
    "lb_avg_n30"
   ]
  },
  {
   "cell_type": "code",
   "execution_count": 111,
   "metadata": {},
   "outputs": [
    {
     "name": "stdout",
     "output_type": "stream",
     "text": [
      "0\n",
      "3000\n",
      "3000\n",
      "6000\n",
      "6000\n",
      "9000\n",
      "9000\n",
      "12000\n",
      "12000\n",
      "15000\n"
     ]
    }
   ],
   "source": [
    "n30_blks = bavg_pers_cnt(5, poly_n30, n30_plga_wat, lb_avg, 0 , 15000)"
   ]
  },
  {
   "cell_type": "code",
   "execution_count": 112,
   "metadata": {},
   "outputs": [
    {
     "data": {
      "text/plain": [
       "array([32.63522312, 29.97753057, 31.32750661, 30.11556939, 31.07622999])"
      ]
     },
     "execution_count": 112,
     "metadata": {},
     "output_type": "execute_result"
    }
   ],
   "source": [
    "n30_blks[\"Avg persistence length\"]"
   ]
  },
  {
   "cell_type": "code",
   "execution_count": 113,
   "metadata": {},
   "outputs": [
    {
     "data": {
      "text/plain": [
       "array([10.42438921,  9.67932369,  9.43841575,  9.34253934,  9.50886734])"
      ]
     },
     "execution_count": 113,
     "metadata": {},
     "output_type": "execute_result"
    }
   ],
   "source": [
    "n30_blks[\"Avg Radius of gyration\"]"
   ]
  },
  {
   "cell_type": "code",
   "execution_count": 114,
   "metadata": {},
   "outputs": [
    {
     "data": {
      "text/plain": [
       "31.026411936613023"
      ]
     },
     "execution_count": 114,
     "metadata": {},
     "output_type": "execute_result"
    }
   ],
   "source": [
    "np.mean(n30_blks[\"Avg persistence length\"])"
   ]
  },
  {
   "cell_type": "code",
   "execution_count": 115,
   "metadata": {},
   "outputs": [
    {
     "data": {
      "text/plain": [
       "0.9603332265572023"
      ]
     },
     "execution_count": 115,
     "metadata": {},
     "output_type": "execute_result"
    }
   ],
   "source": [
    "np.std(n30_blks[\"Avg persistence length\"])"
   ]
  },
  {
   "cell_type": "code",
   "execution_count": 116,
   "metadata": {},
   "outputs": [],
   "source": [
    "n30_rgens, cor_n30_mat, pers_n30, rg_avgn30 = get_rg_pers_poly(poly_n30, n30_plga_wat, 0, 15000, lb_avg)"
   ]
  },
  {
   "cell_type": "code",
   "execution_count": 117,
   "metadata": {},
   "outputs": [
    {
     "data": {
      "text/plain": [
       "array([[1.00000000e+00, 8.01626939e-01, 5.59763947e-01, 4.07940544e-01,\n",
       "        2.88477954e-01, 2.06676644e-01, 1.97395011e-01, 2.09132854e-01,\n",
       "        2.29247162e-01, 2.47037369e-01, 2.49057984e-01, 2.39151258e-01,\n",
       "        2.24639612e-01, 1.91803437e-01, 1.55606314e-01, 1.17348345e-01,\n",
       "        1.12893213e-01, 9.84067596e-02, 8.31411003e-02, 1.08596298e-01,\n",
       "        1.75853043e-01, 2.51029805e-01, 2.75093507e-01, 2.78997503e-01,\n",
       "        2.66341322e-01, 2.34591619e-01, 3.10879373e-01, 3.35070997e-01,\n",
       "        3.44840391e-01],\n",
       "       [0.00000000e+00, 3.66508961e+01, 5.58993001e+01, 6.58826080e+01,\n",
       "        7.31876637e+01, 7.80189239e+01, 7.85463415e+01, 7.78288806e+01,\n",
       "        7.66366999e+01, 7.56325246e+01, 7.55190462e+01, 7.60500673e+01,\n",
       "        7.68518749e+01, 7.88477095e+01, 8.10073063e+01, 8.32248438e+01,\n",
       "        8.34690882e+01, 8.42930854e+01, 8.51716445e+01, 8.36981857e+01,\n",
       "        7.96983276e+01, 7.51861776e+01, 7.35955717e+01, 7.33650854e+01,\n",
       "        7.41638569e+01, 7.60453092e+01, 7.11396614e+01, 6.91621098e+01,\n",
       "        6.68321365e+01],\n",
       "       [1.00000000e+00, 2.00000000e+00, 3.00000000e+00, 4.00000000e+00,\n",
       "        5.00000000e+00, 6.00000000e+00, 7.00000000e+00, 8.00000000e+00,\n",
       "        9.00000000e+00, 1.00000000e+01, 1.10000000e+01, 1.20000000e+01,\n",
       "        1.30000000e+01, 1.40000000e+01, 1.50000000e+01, 1.60000000e+01,\n",
       "        1.70000000e+01, 1.80000000e+01, 1.90000000e+01, 2.00000000e+01,\n",
       "        2.10000000e+01, 2.20000000e+01, 2.30000000e+01, 2.40000000e+01,\n",
       "        2.50000000e+01, 2.60000000e+01, 2.70000000e+01, 2.80000000e+01,\n",
       "        2.90000000e+01]])"
      ]
     },
     "execution_count": 117,
     "metadata": {},
     "output_type": "execute_result"
    }
   ],
   "source": [
    "cor_n30_mat"
   ]
  },
  {
   "cell_type": "code",
   "execution_count": 118,
   "metadata": {},
   "outputs": [
    {
     "data": {
      "text/plain": [
       "array([1.        , 0.80162694, 0.55976395, 0.40794054, 0.28847795,\n",
       "       0.20667664, 0.19739501, 0.20913285, 0.22924716, 0.24703737,\n",
       "       0.24905798, 0.23915126, 0.22463961, 0.19180344, 0.15560631,\n",
       "       0.11734835, 0.11289321, 0.09840676, 0.0831411 , 0.1085963 ,\n",
       "       0.17585304, 0.2510298 , 0.27509351, 0.2789975 , 0.26634132,\n",
       "       0.23459162, 0.31087937, 0.335071  , 0.34484039])"
      ]
     },
     "execution_count": 118,
     "metadata": {},
     "output_type": "execute_result"
    }
   ],
   "source": [
    "cor_n30_mat[0]"
   ]
  },
  {
   "cell_type": "code",
   "execution_count": 119,
   "metadata": {},
   "outputs": [
    {
     "data": {
      "text/plain": [
       "30.976101435323606"
      ]
     },
     "execution_count": 119,
     "metadata": {},
     "output_type": "execute_result"
    }
   ],
   "source": [
    "pers_n30"
   ]
  },
  {
   "cell_type": "code",
   "execution_count": 120,
   "metadata": {},
   "outputs": [
    {
     "data": {
      "text/plain": [
       "[<matplotlib.lines.Line2D at 0x13259a41d0>]"
      ]
     },
     "execution_count": 120,
     "metadata": {},
     "output_type": "execute_result"
    },
    {
     "data": {
      "image/png": "[encoded data removed]",
      "text/plain": [
       "<Figure size 432x288 with 1 Axes>"
      ]
     },
     "metadata": {
      "needs_background": "light"
     },
     "output_type": "display_data"
    }
   ],
   "source": [
    "def exfun(x, a):\n",
    "    return np.exp(-x*lb_avg/a)\n",
    "\n",
    "nt = np.arange(29)\n",
    "plt.scatter(nt, cor_n30_mat[0,:])\n",
    "plt.plot(nt,exfun(nt, pers_n30))"
   ]
  },
  {
   "cell_type": "markdown",
   "metadata": {},
   "source": [
    "### Acetone systems only"
   ]
  },
  {
   "cell_type": "markdown",
   "metadata": {},
   "source": [
    "## N = 6 acetone"
   ]
  },
  {
   "cell_type": "code",
   "execution_count": 8,
   "metadata": {},
   "outputs": [],
   "source": [
    "n6_plga_ace = mda.Universe(\"n6_plga_50ns/1_xa_soln/confout.gro\", \"n6_plga_50ns/1_xa_soln/nopbc_n6ace.xtc\")"
   ]
  },
  {
   "cell_type": "code",
   "execution_count": 9,
   "metadata": {},
   "outputs": [
    {
     "data": {
      "text/plain": [
       "<Universe with 15093 atoms>"
      ]
     },
     "execution_count": 9,
     "metadata": {},
     "output_type": "execute_result"
    }
   ],
   "source": [
    "n6_plga_ace"
   ]
  },
  {
   "cell_type": "code",
   "execution_count": 10,
   "metadata": {},
   "outputs": [
    {
     "data": {
      "text/plain": [
       "5001"
      ]
     },
     "execution_count": 10,
     "metadata": {},
     "output_type": "execute_result"
    }
   ],
   "source": [
    "len(n6_plga_ace.trajectory)"
   ]
  },
  {
   "cell_type": "code",
   "execution_count": 11,
   "metadata": {},
   "outputs": [],
   "source": [
    "poly_n6_ace = n6_plga_ace.select_atoms(\"resname sPLG PLG tPLG and not type H\")"
   ]
  },
  {
   "cell_type": "code",
   "execution_count": 14,
   "metadata": {},
   "outputs": [],
   "source": [
    "com_bond_n6ace = np.zeros(shape=(1,5000))\n",
    "count = 0\n",
    "for ts in n6_plga_ace.trajectory[0:5000]:\n",
    "    n6_mon1 = n6_plga_ace.select_atoms(\"resid 1\")\n",
    "    n6_mon2 = n6_plga_ace.select_atoms(\"resid 2\")\n",
    "    oo_len = mda.analysis.distances.distance_array(n6_mon1.center_of_mass(), n6_mon2.center_of_mass(), \n",
    "                                                   box=n6_plga_ace.trajectory.ts.dimensions)\n",
    "    com_bond_n6ace[0, count] = oo_len\n",
    "    count += 1\n",
    "lb_avg_n6ace = np.mean(com_bond_n6ace)"
   ]
  },
  {
   "cell_type": "code",
   "execution_count": 15,
   "metadata": {},
   "outputs": [
    {
     "data": {
      "text/plain": [
       "5.986551142328634"
      ]
     },
     "execution_count": 15,
     "metadata": {},
     "output_type": "execute_result"
    }
   ],
   "source": [
    "lb_avg_n6ace"
   ]
  },
  {
   "cell_type": "code",
   "execution_count": 16,
   "metadata": {},
   "outputs": [
    {
     "data": {
      "text/plain": [
       "<matplotlib.collections.PathCollection at 0x13265c9ba8>"
      ]
     },
     "execution_count": 16,
     "metadata": {},
     "output_type": "execute_result"
    },
    {
     "data": {
      "image/png": "[encoded data removed]",
      "text/plain": [
       "<Figure size 432x288 with 1 Axes>"
      ]
     },
     "metadata": {
      "needs_background": "light"
     },
     "output_type": "display_data"
    }
   ],
   "source": [
    "plt.scatter(np.arange(5000),com_bond_n6ace)\n"
   ]
  },
  {
   "cell_type": "code",
   "execution_count": 17,
   "metadata": {},
   "outputs": [
    {
     "name": "stdout",
     "output_type": "stream",
     "text": [
      "0\n",
      "1000\n",
      "1000\n",
      "2000\n",
      "2000\n",
      "3000\n",
      "3000\n",
      "4000\n",
      "4000\n",
      "5000\n"
     ]
    }
   ],
   "source": [
    "n6_blks_ace = bavg_pers_cnt(5, poly_n6_ace, n6_plga_ace, lb_avg_n6ace, 0 , 5000)"
   ]
  },
  {
   "cell_type": "code",
   "execution_count": 18,
   "metadata": {},
   "outputs": [
    {
     "data": {
      "text/plain": [
       "array([38.21099601, 36.5772936 , 55.28779412, 38.84234093, 47.19506294])"
      ]
     },
     "execution_count": 18,
     "metadata": {},
     "output_type": "execute_result"
    }
   ],
   "source": [
    "n6_blks_ace[\"Avg persistence length\"]"
   ]
  },
  {
   "cell_type": "code",
   "execution_count": 19,
   "metadata": {},
   "outputs": [
    {
     "data": {
      "text/plain": [
       "array([8.21601192, 8.25445851, 8.26136051, 8.28788101, 7.71302458])"
      ]
     },
     "execution_count": 19,
     "metadata": {},
     "output_type": "execute_result"
    }
   ],
   "source": [
    "n6_blks_ace[\"Avg Radius of gyration\"]"
   ]
  },
  {
   "cell_type": "code",
   "execution_count": 20,
   "metadata": {},
   "outputs": [
    {
     "data": {
      "text/plain": [
       "43.22269751744368"
      ]
     },
     "execution_count": 20,
     "metadata": {},
     "output_type": "execute_result"
    }
   ],
   "source": [
    "np.mean(n6_blks_ace[\"Avg persistence length\"])"
   ]
  },
  {
   "cell_type": "code",
   "execution_count": 21,
   "metadata": {},
   "outputs": [
    {
     "data": {
      "text/plain": [
       "7.068413005806767"
      ]
     },
     "execution_count": 21,
     "metadata": {},
     "output_type": "execute_result"
    }
   ],
   "source": [
    "np.std(n6_blks_ace[\"Avg persistence length\"])"
   ]
  },
  {
   "cell_type": "code",
   "execution_count": 22,
   "metadata": {},
   "outputs": [
    {
     "data": {
      "text/plain": [
       "8.14654730380919"
      ]
     },
     "execution_count": 22,
     "metadata": {},
     "output_type": "execute_result"
    }
   ],
   "source": [
    "np.mean(n6_blks_ace[\"Avg Radius of gyration\"])"
   ]
  },
  {
   "cell_type": "code",
   "execution_count": 24,
   "metadata": {},
   "outputs": [
    {
     "data": {
      "text/plain": [
       "0.21797678811081966"
      ]
     },
     "execution_count": 24,
     "metadata": {},
     "output_type": "execute_result"
    }
   ],
   "source": [
    "np.std(n6_blks_ace[\"Avg Radius of gyration\"])"
   ]
  },
  {
   "cell_type": "code",
   "execution_count": 25,
   "metadata": {},
   "outputs": [],
   "source": [
    "n6_rgens_ace, cor_n6ace_mat, pers_n6ace, rg_avgnace = get_rg_pers_poly(poly_n6_ace, n6_plga_ace, 0, 5000, lb_avg_n6ace)"
   ]
  },
  {
   "cell_type": "code",
   "execution_count": 26,
   "metadata": {},
   "outputs": [
    {
     "data": {
      "text/plain": [
       "array([[ 1.        ,  0.88803885,  0.76668037,  0.66379561,  0.54295641],\n",
       "       [ 0.        , 26.58478387, 38.23137142, 45.65927884, 52.35081927],\n",
       "       [ 1.        ,  2.        ,  3.        ,  4.        ,  5.        ]])"
      ]
     },
     "execution_count": 26,
     "metadata": {},
     "output_type": "execute_result"
    }
   ],
   "source": [
    "cor_n6ace_mat"
   ]
  },
  {
   "cell_type": "code",
   "execution_count": 27,
   "metadata": {},
   "outputs": [
    {
     "data": {
      "text/plain": [
       "array([1.        , 0.88803885, 0.76668037, 0.66379561, 0.54295641])"
      ]
     },
     "execution_count": 27,
     "metadata": {},
     "output_type": "execute_result"
    }
   ],
   "source": [
    "cor_n6ace_mat[0]"
   ]
  },
  {
   "cell_type": "code",
   "execution_count": 28,
   "metadata": {},
   "outputs": [
    {
     "data": {
      "text/plain": [
       "42.30301715581782"
      ]
     },
     "execution_count": 28,
     "metadata": {},
     "output_type": "execute_result"
    }
   ],
   "source": [
    "pers_n6ace"
   ]
  },
  {
   "cell_type": "code",
   "execution_count": 30,
   "metadata": {},
   "outputs": [
    {
     "data": {
      "text/plain": [
       "[<matplotlib.lines.Line2D at 0x13265b7898>]"
      ]
     },
     "execution_count": 30,
     "metadata": {},
     "output_type": "execute_result"
    },
    {
     "data": {
      "image/png": "[encoded data removed]",
      "text/plain": [
       "<Figure size 432x288 with 1 Axes>"
      ]
     },
     "metadata": {
      "needs_background": "light"
     },
     "output_type": "display_data"
    }
   ],
   "source": [
    "def exfun(x, a):\n",
    "    return np.exp(-x*lb_avg_n6ace/a)\n",
    "\n",
    "nt = np.arange(5)\n",
    "plt.scatter(nt, cor_n6ace_mat[0,:])\n",
    "plt.plot(nt,exfun(nt, pers_n6ace))"
   ]
  },
  {
   "cell_type": "markdown",
   "metadata": {},
   "source": [
    "## N = 8 acetone"
   ]
  },
  {
   "cell_type": "code",
   "execution_count": 31,
   "metadata": {},
   "outputs": [],
   "source": [
    "n8_plga_ace = mda.Universe(\"n8_plga_50ns/1_xa_soln/confout.gro\", \"n8_plga_50ns/1_xa_soln/nopbc_n8ace.xtc\")"
   ]
  },
  {
   "cell_type": "code",
   "execution_count": 32,
   "metadata": {},
   "outputs": [
    {
     "data": {
      "text/plain": [
       "<Universe with 15123 atoms>"
      ]
     },
     "execution_count": 32,
     "metadata": {},
     "output_type": "execute_result"
    }
   ],
   "source": [
    "n8_plga_ace"
   ]
  },
  {
   "cell_type": "code",
   "execution_count": 33,
   "metadata": {},
   "outputs": [
    {
     "data": {
      "text/plain": [
       "5001"
      ]
     },
     "execution_count": 33,
     "metadata": {},
     "output_type": "execute_result"
    }
   ],
   "source": [
    "len(n8_plga_ace.trajectory)"
   ]
  },
  {
   "cell_type": "code",
   "execution_count": 34,
   "metadata": {},
   "outputs": [],
   "source": [
    "poly_n8_ace = n8_plga_ace.select_atoms(\"resname sPLG PLG tPLG and not type H\")"
   ]
  },
  {
   "cell_type": "code",
   "execution_count": 38,
   "metadata": {},
   "outputs": [],
   "source": [
    "com_bond_n8ace = np.zeros(shape=(1,5000))\n",
    "count = 0\n",
    "for ts in n8_plga_ace.trajectory[0:5000]:\n",
    "    n8_mon1 = n8_plga_ace.select_atoms(\"resid 1\")\n",
    "    n8_mon2 = n8_plga_ace.select_atoms(\"resid 2\")\n",
    "    oo_len = mda.analysis.distances.distance_array(n8_mon1.center_of_mass(), n8_mon2.center_of_mass(), \n",
    "                                                   box=n8_plga_ace.trajectory.ts.dimensions)\n",
    "    com_bond_n8ace[0, count] = oo_len\n",
    "    count += 1\n",
    "lb_avg_n8ace = np.mean(com_bond_n8ace)"
   ]
  },
  {
   "cell_type": "code",
   "execution_count": 39,
   "metadata": {},
   "outputs": [
    {
     "data": {
      "text/plain": [
       "6.136198777572896"
      ]
     },
     "execution_count": 39,
     "metadata": {},
     "output_type": "execute_result"
    }
   ],
   "source": [
    "lb_avg_n8ace"
   ]
  },
  {
   "cell_type": "code",
   "execution_count": 41,
   "metadata": {},
   "outputs": [
    {
     "data": {
      "text/plain": [
       "<matplotlib.collections.PathCollection at 0x1326c6d1d0>"
      ]
     },
     "execution_count": 41,
     "metadata": {},
     "output_type": "execute_result"
    },
    {
     "data": {
      "image/png": "[encoded data removed]",
      "text/plain": [
       "<Figure size 432x288 with 1 Axes>"
      ]
     },
     "metadata": {
      "needs_background": "light"
     },
     "output_type": "display_data"
    }
   ],
   "source": [
    "plt.scatter(np.arange(5000),com_bond_n6ace)\n",
    "plt.scatter(np.arange(5000),com_bond_n8ace)"
   ]
  },
  {
   "cell_type": "code",
   "execution_count": 44,
   "metadata": {},
   "outputs": [
    {
     "name": "stdout",
     "output_type": "stream",
     "text": [
      "0\n",
      "1000\n",
      "1000\n",
      "2000\n",
      "2000\n",
      "3000\n",
      "3000\n",
      "4000\n",
      "4000\n",
      "5000\n"
     ]
    }
   ],
   "source": [
    "n8_blks_ace = bavg_pers_cnt(5, poly_n8_ace, n8_plga_ace, lb_avg_n6ace, 0 , 5000)"
   ]
  },
  {
   "cell_type": "code",
   "execution_count": 45,
   "metadata": {},
   "outputs": [
    {
     "data": {
      "text/plain": [
       "array([80.71369506, 70.25792298, 56.11206472, 34.56074024, 16.8169377 ])"
      ]
     },
     "execution_count": 45,
     "metadata": {},
     "output_type": "execute_result"
    }
   ],
   "source": [
    "n8_blks_ace[\"Avg persistence length\"]"
   ]
  },
  {
   "cell_type": "code",
   "execution_count": 46,
   "metadata": {},
   "outputs": [
    {
     "data": {
      "text/plain": [
       "array([11.01469349, 10.91429286, 10.79145418,  9.85855622,  9.15906966])"
      ]
     },
     "execution_count": 46,
     "metadata": {},
     "output_type": "execute_result"
    }
   ],
   "source": [
    "n8_blks_ace[\"Avg Radius of gyration\"]"
   ]
  },
  {
   "cell_type": "code",
   "execution_count": 47,
   "metadata": {},
   "outputs": [
    {
     "data": {
      "text/plain": [
       "51.692272140727745"
      ]
     },
     "execution_count": 47,
     "metadata": {},
     "output_type": "execute_result"
    }
   ],
   "source": [
    "np.mean(n8_blks_ace[\"Avg persistence length\"])"
   ]
  },
  {
   "cell_type": "code",
   "execution_count": 48,
   "metadata": {},
   "outputs": [
    {
     "data": {
      "text/plain": [
       "23.307678062508703"
      ]
     },
     "execution_count": 48,
     "metadata": {},
     "output_type": "execute_result"
    }
   ],
   "source": [
    "np.std(n8_blks_ace[\"Avg persistence length\"])"
   ]
  },
  {
   "cell_type": "code",
   "execution_count": 49,
   "metadata": {},
   "outputs": [
    {
     "data": {
      "text/plain": [
       "10.347613282292246"
      ]
     },
     "execution_count": 49,
     "metadata": {},
     "output_type": "execute_result"
    }
   ],
   "source": [
    "np.mean(n8_blks_ace[\"Avg Radius of gyration\"])"
   ]
  },
  {
   "cell_type": "code",
   "execution_count": 50,
   "metadata": {},
   "outputs": [
    {
     "data": {
      "text/plain": [
       "0.7231776046502973"
      ]
     },
     "execution_count": 50,
     "metadata": {},
     "output_type": "execute_result"
    }
   ],
   "source": [
    "np.std(n8_blks_ace[\"Avg Radius of gyration\"])"
   ]
  },
  {
   "cell_type": "code",
   "execution_count": 65,
   "metadata": {},
   "outputs": [],
   "source": [
    "n8_rgens_ace, cor_n8ace_mat, pers_n8ace, rg_avgn8ace = get_rg_pers_poly(poly_n8_ace, n8_plga_ace, 0, 5000, \n",
    "                                                                        lb_avg_n6ace)"
   ]
  },
  {
   "cell_type": "code",
   "execution_count": 66,
   "metadata": {},
   "outputs": [
    {
     "data": {
      "text/plain": [
       "array([[ 1.        ,  0.8987736 ,  0.78790596,  0.67812728,  0.55476819,\n",
       "         0.45106622,  0.38164505],\n",
       "       [ 0.        , 25.44259921, 36.7670941 , 45.07274365, 53.30469904,\n",
       "        59.49383867, 63.4987022 ],\n",
       "       [ 1.        ,  2.        ,  3.        ,  4.        ,  5.        ,\n",
       "         6.        ,  7.        ]])"
      ]
     },
     "execution_count": 66,
     "metadata": {},
     "output_type": "execute_result"
    }
   ],
   "source": [
    "cor_n8ace_mat"
   ]
  },
  {
   "cell_type": "code",
   "execution_count": 67,
   "metadata": {},
   "outputs": [
    {
     "data": {
      "text/plain": [
       "array([1.        , 0.8987736 , 0.78790596, 0.67812728, 0.55476819,\n",
       "       0.45106622, 0.38164505])"
      ]
     },
     "execution_count": 67,
     "metadata": {},
     "output_type": "execute_result"
    }
   ],
   "source": [
    "cor_n8ace_mat[0]"
   ]
  },
  {
   "cell_type": "code",
   "execution_count": 68,
   "metadata": {},
   "outputs": [
    {
     "data": {
      "text/plain": [
       "40.85519553727987"
      ]
     },
     "execution_count": 68,
     "metadata": {},
     "output_type": "execute_result"
    }
   ],
   "source": [
    "pers_n8ace"
   ]
  },
  {
   "cell_type": "code",
   "execution_count": 69,
   "metadata": {},
   "outputs": [
    {
     "data": {
      "text/plain": [
       "[<matplotlib.lines.Line2D at 0x1326bfde10>]"
      ]
     },
     "execution_count": 69,
     "metadata": {},
     "output_type": "execute_result"
    },
    {
     "data": {
      "image/png": "[encoded data removed]",
      "text/plain": [
       "<Figure size 432x288 with 1 Axes>"
      ]
     },
     "metadata": {
      "needs_background": "light"
     },
     "output_type": "display_data"
    }
   ],
   "source": [
    "def exfun(x, a):\n",
    "    return np.exp(-x*lb_avg_n6ace/a)\n",
    "\n",
    "nt = np.arange(7)\n",
    "plt.scatter(nt, cor_n8ace_mat[0,:])\n",
    "plt.plot(nt,exfun(nt, pers_n8ace))"
   ]
  },
  {
   "cell_type": "markdown",
   "metadata": {},
   "source": [
    "## N = 10 acetone"
   ]
  },
  {
   "cell_type": "code",
   "execution_count": 70,
   "metadata": {},
   "outputs": [],
   "source": [
    "n10_plga_ace = mda.Universe(\"n10_plga_50ns/1_xa_soln/confout.gro\", \"n10_plga_50ns/1_xa_soln/nopbc_n10ace.xtc\")"
   ]
  },
  {
   "cell_type": "code",
   "execution_count": 71,
   "metadata": {},
   "outputs": [
    {
     "data": {
      "text/plain": [
       "<Universe with 25153 atoms>"
      ]
     },
     "execution_count": 71,
     "metadata": {},
     "output_type": "execute_result"
    }
   ],
   "source": [
    "n10_plga_ace"
   ]
  },
  {
   "cell_type": "code",
   "execution_count": 72,
   "metadata": {},
   "outputs": [
    {
     "data": {
      "text/plain": [
       "5001"
      ]
     },
     "execution_count": 72,
     "metadata": {},
     "output_type": "execute_result"
    }
   ],
   "source": [
    "len(n10_plga_ace.trajectory)"
   ]
  },
  {
   "cell_type": "code",
   "execution_count": 73,
   "metadata": {},
   "outputs": [],
   "source": [
    "poly_n10_ace = n10_plga_ace.select_atoms(\"resname sPLG PLG tPLG and not type H\")"
   ]
  },
  {
   "cell_type": "code",
   "execution_count": 74,
   "metadata": {},
   "outputs": [],
   "source": [
    "com_bond_n10ace = np.zeros(shape=(1,5000))\n",
    "count = 0\n",
    "for ts in n10_plga_ace.trajectory[0:5000]:\n",
    "    n10_mon1 = n10_plga_ace.select_atoms(\"resid 1\")\n",
    "    n10_mon2 = n10_plga_ace.select_atoms(\"resid 2\")\n",
    "    oo_len = mda.analysis.distances.distance_array(n10_mon1.center_of_mass(), n10_mon2.center_of_mass(), \n",
    "                                                   box=n10_plga_ace.trajectory.ts.dimensions)\n",
    "    com_bond_n10ace[0, count] = oo_len\n",
    "    count += 1\n",
    "lb_avg_n10ace = np.mean(com_bond_n10ace)"
   ]
  },
  {
   "cell_type": "code",
   "execution_count": 75,
   "metadata": {},
   "outputs": [
    {
     "data": {
      "text/plain": [
       "5.9959741164262175"
      ]
     },
     "execution_count": 75,
     "metadata": {},
     "output_type": "execute_result"
    }
   ],
   "source": [
    "lb_avg_n10ace"
   ]
  },
  {
   "cell_type": "code",
   "execution_count": 76,
   "metadata": {},
   "outputs": [
    {
     "data": {
      "text/plain": [
       "<matplotlib.collections.PathCollection at 0x13275cfa90>"
      ]
     },
     "execution_count": 76,
     "metadata": {},
     "output_type": "execute_result"
    },
    {
     "data": {
      "image/png": "[encoded data removed]",
      "text/plain": [
       "<Figure size 432x288 with 1 Axes>"
      ]
     },
     "metadata": {
      "needs_background": "light"
     },
     "output_type": "display_data"
    }
   ],
   "source": [
    "plt.scatter(np.arange(5000),com_bond_n6ace)\n",
    "plt.scatter(np.arange(5000),com_bond_n8ace)\n",
    "plt.scatter(np.arange(5000),com_bond_n10ace)"
   ]
  },
  {
   "cell_type": "code",
   "execution_count": 77,
   "metadata": {},
   "outputs": [
    {
     "name": "stdout",
     "output_type": "stream",
     "text": [
      "0\n",
      "1000\n",
      "1000\n",
      "2000\n",
      "2000\n",
      "3000\n",
      "3000\n",
      "4000\n",
      "4000\n",
      "5000\n"
     ]
    }
   ],
   "source": [
    "n10_blks_ace = bavg_pers_cnt(5, poly_n10_ace, n10_plga_ace, lb_avg_n10ace, 0 , 5000)"
   ]
  },
  {
   "cell_type": "code",
   "execution_count": 78,
   "metadata": {},
   "outputs": [
    {
     "data": {
      "text/plain": [
       "array([46.53979514, 35.71162196, 44.59369505, 59.39120651, 27.38493004])"
      ]
     },
     "execution_count": 78,
     "metadata": {},
     "output_type": "execute_result"
    }
   ],
   "source": [
    "n10_blks_ace[\"Avg persistence length\"]"
   ]
  },
  {
   "cell_type": "code",
   "execution_count": 79,
   "metadata": {},
   "outputs": [
    {
     "data": {
      "text/plain": [
       "array([12.13223409,  9.76487645, 11.63368646, 12.41502452, 10.89992716])"
      ]
     },
     "execution_count": 79,
     "metadata": {},
     "output_type": "execute_result"
    }
   ],
   "source": [
    "n10_blks_ace[\"Avg Radius of gyration\"]"
   ]
  },
  {
   "cell_type": "code",
   "execution_count": 80,
   "metadata": {},
   "outputs": [
    {
     "data": {
      "text/plain": [
       "42.72424973972319"
      ]
     },
     "execution_count": 80,
     "metadata": {},
     "output_type": "execute_result"
    }
   ],
   "source": [
    "np.mean(n10_blks_ace[\"Avg persistence length\"])"
   ]
  },
  {
   "cell_type": "code",
   "execution_count": 81,
   "metadata": {},
   "outputs": [
    {
     "data": {
      "text/plain": [
       "10.773229205734367"
      ]
     },
     "execution_count": 81,
     "metadata": {},
     "output_type": "execute_result"
    }
   ],
   "source": [
    "np.std(n10_blks_ace[\"Avg persistence length\"])"
   ]
  },
  {
   "cell_type": "code",
   "execution_count": 83,
   "metadata": {},
   "outputs": [
    {
     "data": {
      "text/plain": [
       "11.369149737453803"
      ]
     },
     "execution_count": 83,
     "metadata": {},
     "output_type": "execute_result"
    }
   ],
   "source": [
    "np.mean(n10_blks_ace[\"Avg Radius of gyration\"])"
   ]
  },
  {
   "cell_type": "code",
   "execution_count": 84,
   "metadata": {},
   "outputs": [
    {
     "data": {
      "text/plain": [
       "0.9528897180078538"
      ]
     },
     "execution_count": 84,
     "metadata": {},
     "output_type": "execute_result"
    }
   ],
   "source": [
    "np.std(n10_blks_ace[\"Avg Radius of gyration\"])"
   ]
  },
  {
   "cell_type": "code",
   "execution_count": 85,
   "metadata": {},
   "outputs": [],
   "source": [
    "n10_rgens_ace, cor_n10ace_mat, pers_n10ace, rg_avgn10ace = get_rg_pers_poly(poly_n10_ace, n10_plga_ace, 0, 5000, \n",
    "                                                                        lb_avg_n6ace)"
   ]
  },
  {
   "cell_type": "code",
   "execution_count": 86,
   "metadata": {},
   "outputs": [
    {
     "data": {
      "text/plain": [
       "array([[ 1.        ,  0.8874232 ,  0.75854253,  0.65113326,  0.54437389,\n",
       "         0.45284403,  0.4204897 ,  0.36856106,  0.30500271],\n",
       "       [ 0.        , 27.07794813, 39.9899855 , 48.47883154, 55.86022893,\n",
       "        61.74158408, 63.42878919, 66.19119905, 69.60447513],\n",
       "       [ 1.        ,  2.        ,  3.        ,  4.        ,  5.        ,\n",
       "         6.        ,  7.        ,  8.        ,  9.        ]])"
      ]
     },
     "execution_count": 86,
     "metadata": {},
     "output_type": "execute_result"
    }
   ],
   "source": [
    "cor_n10ace_mat"
   ]
  },
  {
   "cell_type": "code",
   "execution_count": 87,
   "metadata": {},
   "outputs": [
    {
     "data": {
      "text/plain": [
       "array([1.        , 0.8874232 , 0.75854253, 0.65113326, 0.54437389,\n",
       "       0.45284403, 0.4204897 , 0.36856106, 0.30500271])"
      ]
     },
     "execution_count": 87,
     "metadata": {},
     "output_type": "execute_result"
    }
   ],
   "source": [
    "cor_n10ace_mat[0]"
   ]
  },
  {
   "cell_type": "code",
   "execution_count": 88,
   "metadata": {},
   "outputs": [
    {
     "data": {
      "text/plain": [
       "40.74507637631994"
      ]
     },
     "execution_count": 88,
     "metadata": {},
     "output_type": "execute_result"
    }
   ],
   "source": [
    "pers_n10ace"
   ]
  },
  {
   "cell_type": "code",
   "execution_count": 89,
   "metadata": {},
   "outputs": [
    {
     "data": {
      "text/plain": [
       "[<matplotlib.lines.Line2D at 0x13275b9550>]"
      ]
     },
     "execution_count": 89,
     "metadata": {},
     "output_type": "execute_result"
    },
    {
     "data": {
      "image/png": "[encoded data removed]",
      "text/plain": [
       "<Figure size 432x288 with 1 Axes>"
      ]
     },
     "metadata": {
      "needs_background": "light"
     },
     "output_type": "display_data"
    }
   ],
   "source": [
    "def exfun(x, a):\n",
    "    return np.exp(-x*lb_avg_n6ace/a)\n",
    "\n",
    "nt = np.arange(9)\n",
    "plt.scatter(nt, cor_n10ace_mat[0,:])\n",
    "plt.plot(nt,exfun(nt, pers_n10ace))"
   ]
  },
  {
   "cell_type": "markdown",
   "metadata": {},
   "source": [
    "## N = 20 acetone"
   ]
  },
  {
   "cell_type": "code",
   "execution_count": 90,
   "metadata": {},
   "outputs": [],
   "source": [
    "n20_plga_ace = mda.Universe(\"n20_plga_150ns/1_xa_soln/1xa_n20sys.gro\", \"n20_plga_150ns/1_xa_soln/N20_nopbcpp_0xa.xtc\")"
   ]
  },
  {
   "cell_type": "code",
   "execution_count": 91,
   "metadata": {},
   "outputs": [
    {
     "data": {
      "text/plain": [
       "<Universe with 303 atoms>"
      ]
     },
     "execution_count": 91,
     "metadata": {},
     "output_type": "execute_result"
    }
   ],
   "source": [
    "n20_plga_ace"
   ]
  },
  {
   "cell_type": "code",
   "execution_count": 92,
   "metadata": {},
   "outputs": [
    {
     "data": {
      "text/plain": [
       "15001"
      ]
     },
     "execution_count": 92,
     "metadata": {},
     "output_type": "execute_result"
    }
   ],
   "source": [
    "len(n20_plga_ace.trajectory)"
   ]
  },
  {
   "cell_type": "code",
   "execution_count": 93,
   "metadata": {},
   "outputs": [],
   "source": [
    "poly_n20_ace = n20_plga_ace.select_atoms(\"resname sPLG PLG tPLG and not type H\")"
   ]
  },
  {
   "cell_type": "code",
   "execution_count": 94,
   "metadata": {},
   "outputs": [],
   "source": [
    "com_bond_n20ace = np.zeros(shape=(1,5000))\n",
    "count = 0\n",
    "for ts in n20_plga_ace.trajectory[0:5000]:\n",
    "    n20_mon1 = n20_plga_ace.select_atoms(\"resid 1\")\n",
    "    n20_mon2 = n20_plga_ace.select_atoms(\"resid 2\")\n",
    "    oo_len = mda.analysis.distances.distance_array(n20_mon1.center_of_mass(), n20_mon2.center_of_mass(), \n",
    "                                                   box=n20_plga_ace.trajectory.ts.dimensions)\n",
    "    com_bond_n20ace[0, count] = oo_len\n",
    "    count += 1\n",
    "lb_avg_n20ace = np.mean(com_bond_n20ace)"
   ]
  },
  {
   "cell_type": "code",
   "execution_count": 95,
   "metadata": {},
   "outputs": [
    {
     "data": {
      "text/plain": [
       "5.932062741435674"
      ]
     },
     "execution_count": 95,
     "metadata": {},
     "output_type": "execute_result"
    }
   ],
   "source": [
    "lb_avg_n20ace"
   ]
  },
  {
   "cell_type": "code",
   "execution_count": 97,
   "metadata": {},
   "outputs": [
    {
     "data": {
      "text/plain": [
       "<matplotlib.collections.PathCollection at 0x1327561e80>"
      ]
     },
     "execution_count": 97,
     "metadata": {},
     "output_type": "execute_result"
    },
    {
     "data": {
      "image/png": "[encoded data removed]",
      "text/plain": [
       "<Figure size 432x288 with 1 Axes>"
      ]
     },
     "metadata": {
      "needs_background": "light"
     },
     "output_type": "display_data"
    }
   ],
   "source": [
    "plt.scatter(np.arange(5000),com_bond_n6ace)\n",
    "plt.scatter(np.arange(5000),com_bond_n8ace)\n",
    "plt.scatter(np.arange(5000),com_bond_n10ace)\n",
    "plt.scatter(np.arange(5000),com_bond_n20ace)"
   ]
  },
  {
   "cell_type": "code",
   "execution_count": 98,
   "metadata": {},
   "outputs": [
    {
     "name": "stdout",
     "output_type": "stream",
     "text": [
      "0\n",
      "3000\n",
      "3000\n",
      "6000\n",
      "6000\n",
      "9000\n",
      "9000\n",
      "12000\n",
      "12000\n",
      "15000\n"
     ]
    }
   ],
   "source": [
    "n20_blks_ace = bavg_pers_cnt(5, poly_n20_ace, n20_plga_ace, lb_avg_n6ace, 0 , 15000)"
   ]
  },
  {
   "cell_type": "code",
   "execution_count": 99,
   "metadata": {},
   "outputs": [
    {
     "data": {
      "text/plain": [
       "array([40.76112529, 85.47596804, 46.598797  , 84.17099312, 69.80473716])"
      ]
     },
     "execution_count": 99,
     "metadata": {},
     "output_type": "execute_result"
    }
   ],
   "source": [
    "n20_blks_ace[\"Avg persistence length\"]"
   ]
  },
  {
   "cell_type": "code",
   "execution_count": 100,
   "metadata": {},
   "outputs": [
    {
     "data": {
      "text/plain": [
       "array([14.89197761, 20.14964338, 18.04132244, 18.868054  , 17.47107987])"
      ]
     },
     "execution_count": 100,
     "metadata": {},
     "output_type": "execute_result"
    }
   ],
   "source": [
    "n20_blks_ace[\"Avg Radius of gyration\"]"
   ]
  },
  {
   "cell_type": "code",
   "execution_count": 101,
   "metadata": {},
   "outputs": [
    {
     "data": {
      "text/plain": [
       "65.36232412060328"
      ]
     },
     "execution_count": 101,
     "metadata": {},
     "output_type": "execute_result"
    }
   ],
   "source": [
    "np.mean(n20_blks_ace[\"Avg persistence length\"])"
   ]
  },
  {
   "cell_type": "code",
   "execution_count": 102,
   "metadata": {},
   "outputs": [
    {
     "data": {
      "text/plain": [
       "18.629807666741904"
      ]
     },
     "execution_count": 102,
     "metadata": {},
     "output_type": "execute_result"
    }
   ],
   "source": [
    "np.std(n20_blks_ace[\"Avg persistence length\"])"
   ]
  },
  {
   "cell_type": "code",
   "execution_count": 103,
   "metadata": {},
   "outputs": [
    {
     "data": {
      "text/plain": [
       "17.884415460021938"
      ]
     },
     "execution_count": 103,
     "metadata": {},
     "output_type": "execute_result"
    }
   ],
   "source": [
    "np.mean(n20_blks_ace[\"Avg Radius of gyration\"])"
   ]
  },
  {
   "cell_type": "code",
   "execution_count": 104,
   "metadata": {},
   "outputs": [
    {
     "data": {
      "text/plain": [
       "1.746364950277481"
      ]
     },
     "execution_count": 104,
     "metadata": {},
     "output_type": "execute_result"
    }
   ],
   "source": [
    "np.std(n20_blks_ace[\"Avg Radius of gyration\"])"
   ]
  },
  {
   "cell_type": "code",
   "execution_count": 105,
   "metadata": {},
   "outputs": [],
   "source": [
    "n20_rgens_ace, cor_n20ace_mat, pers_n20ace, rg_avgn20ace = get_rg_pers_poly(poly_n20_ace, n20_plga_ace, 0, 15000, \n",
    "                                                                        lb_avg_n6ace)"
   ]
  },
  {
   "cell_type": "code",
   "execution_count": 106,
   "metadata": {},
   "outputs": [
    {
     "data": {
      "text/plain": [
       "array([[ 1.        ,  0.89354871,  0.7664304 ,  0.657713  ,  0.5783637 ,\n",
       "         0.51483595,  0.47047215,  0.43711494,  0.4134033 ,  0.38871389,\n",
       "         0.37100197,  0.35375017,  0.34081105,  0.33434081,  0.3340146 ,\n",
       "         0.32968601,  0.31597971,  0.28413062,  0.279729  ],\n",
       "       [ 0.        , 26.48033803, 39.5871554 , 48.44687148, 54.2249732 ,\n",
       "        58.52793586, 61.3718169 , 63.41725215, 64.82747309, 66.34118288,\n",
       "        67.36156672, 68.26852668, 68.95688947, 69.26636078, 69.11796105,\n",
       "        69.20257849, 69.67104242, 71.25395065, 70.67178099],\n",
       "       [ 1.        ,  2.        ,  3.        ,  4.        ,  5.        ,\n",
       "         6.        ,  7.        ,  8.        ,  9.        , 10.        ,\n",
       "        11.        , 12.        , 13.        , 14.        , 15.        ,\n",
       "        16.        , 17.        , 18.        , 19.        ]])"
      ]
     },
     "execution_count": 106,
     "metadata": {},
     "output_type": "execute_result"
    }
   ],
   "source": [
    "cor_n20ace_mat"
   ]
  },
  {
   "cell_type": "code",
   "execution_count": 107,
   "metadata": {},
   "outputs": [
    {
     "data": {
      "text/plain": [
       "array([1.        , 0.89354871, 0.7664304 , 0.657713  , 0.5783637 ,\n",
       "       0.51483595, 0.47047215, 0.43711494, 0.4134033 , 0.38871389,\n",
       "       0.37100197, 0.35375017, 0.34081105, 0.33434081, 0.3340146 ,\n",
       "       0.32968601, 0.31597971, 0.28413062, 0.279729  ])"
      ]
     },
     "execution_count": 107,
     "metadata": {},
     "output_type": "execute_result"
    }
   ],
   "source": [
    "cor_n20ace_mat[0]"
   ]
  },
  {
   "cell_type": "code",
   "execution_count": 108,
   "metadata": {},
   "outputs": [
    {
     "data": {
      "text/plain": [
       "62.39290442313218"
      ]
     },
     "execution_count": 108,
     "metadata": {},
     "output_type": "execute_result"
    }
   ],
   "source": [
    "pers_n20ace"
   ]
  },
  {
   "cell_type": "code",
   "execution_count": 109,
   "metadata": {},
   "outputs": [
    {
     "data": {
      "text/plain": [
       "[<matplotlib.lines.Line2D at 0x13265eed68>]"
      ]
     },
     "execution_count": 109,
     "metadata": {},
     "output_type": "execute_result"
    },
    {
     "data": {
      "image/png": "[encoded data removed]",
      "text/plain": [
       "<Figure size 432x288 with 1 Axes>"
      ]
     },
     "metadata": {
      "needs_background": "light"
     },
     "output_type": "display_data"
    }
   ],
   "source": [
    "def exfun(x, a):\n",
    "    return np.exp(-x*lb_avg_n6ace/a)\n",
    "\n",
    "nt = np.arange(19)\n",
    "plt.scatter(nt, cor_n20ace_mat[0,:])\n",
    "plt.plot(nt,exfun(nt, pers_n20ace))"
   ]
  },
  {
   "cell_type": "markdown",
   "metadata": {},
   "source": [
    "## N = 30 acetone"
   ]
  },
  {
   "cell_type": "code",
   "execution_count": 110,
   "metadata": {},
   "outputs": [],
   "source": [
    "n30_plga_ace = mda.Universe(\"n30_plga_150ns/1_xa_soln/1xa_n30sys.gro\", \"n30_plga_150ns/1_xa_soln/N30_nopbcpp_1xa.xtc\")"
   ]
  },
  {
   "cell_type": "code",
   "execution_count": 111,
   "metadata": {},
   "outputs": [
    {
     "data": {
      "text/plain": [
       "<Universe with 453 atoms>"
      ]
     },
     "execution_count": 111,
     "metadata": {},
     "output_type": "execute_result"
    }
   ],
   "source": [
    "n30_plga_ace"
   ]
  },
  {
   "cell_type": "code",
   "execution_count": 112,
   "metadata": {},
   "outputs": [
    {
     "data": {
      "text/plain": [
       "15001"
      ]
     },
     "execution_count": 112,
     "metadata": {},
     "output_type": "execute_result"
    }
   ],
   "source": [
    "len(n30_plga_ace.trajectory)"
   ]
  },
  {
   "cell_type": "code",
   "execution_count": 113,
   "metadata": {},
   "outputs": [],
   "source": [
    "poly_n30_ace = n30_plga_ace.select_atoms(\"resname sPLG PLG tPLG and not type H\")"
   ]
  },
  {
   "cell_type": "code",
   "execution_count": 114,
   "metadata": {},
   "outputs": [],
   "source": [
    "com_bond_n30ace = np.zeros(shape=(1,5000))\n",
    "count = 0\n",
    "for ts in n30_plga_ace.trajectory[0:5000]:\n",
    "    n30_mon1 = n30_plga_ace.select_atoms(\"resid 1\")\n",
    "    n30_mon2 = n30_plga_ace.select_atoms(\"resid 2\")\n",
    "    oo_len = mda.analysis.distances.distance_array(n30_mon1.center_of_mass(), n30_mon2.center_of_mass(), \n",
    "                                                   box=n30_plga_ace.trajectory.ts.dimensions)\n",
    "    com_bond_n30ace[0, count] = oo_len\n",
    "    count += 1\n",
    "lb_avg_n30ace = np.mean(com_bond_n30ace)"
   ]
  },
  {
   "cell_type": "code",
   "execution_count": 115,
   "metadata": {},
   "outputs": [
    {
     "data": {
      "text/plain": [
       "6.011313163610001"
      ]
     },
     "execution_count": 115,
     "metadata": {},
     "output_type": "execute_result"
    }
   ],
   "source": [
    "lb_avg_n30ace"
   ]
  },
  {
   "cell_type": "code",
   "execution_count": 116,
   "metadata": {},
   "outputs": [
    {
     "data": {
      "text/plain": [
       "<matplotlib.collections.PathCollection at 0x13274dfbe0>"
      ]
     },
     "execution_count": 116,
     "metadata": {},
     "output_type": "execute_result"
    },
    {
     "data": {
      "image/png": "[encoded data removed]",
      "text/plain": [
       "<Figure size 432x288 with 1 Axes>"
      ]
     },
     "metadata": {
      "needs_background": "light"
     },
     "output_type": "display_data"
    }
   ],
   "source": [
    "plt.scatter(np.arange(5000),com_bond_n6ace)\n",
    "plt.scatter(np.arange(5000),com_bond_n8ace)\n",
    "plt.scatter(np.arange(5000),com_bond_n10ace)\n",
    "plt.scatter(np.arange(5000),com_bond_n20ace)\n",
    "plt.scatter(np.arange(5000),com_bond_n30ace)"
   ]
  },
  {
   "cell_type": "code",
   "execution_count": 117,
   "metadata": {},
   "outputs": [
    {
     "name": "stdout",
     "output_type": "stream",
     "text": [
      "0\n",
      "3000\n",
      "3000\n",
      "6000\n",
      "6000\n",
      "9000\n",
      "9000\n",
      "12000\n",
      "12000\n",
      "15000\n"
     ]
    }
   ],
   "source": [
    "n30_blks_ace = bavg_pers_cnt(5, poly_n30_ace, n30_plga_ace, lb_avg_n6ace, 0 , 15000)"
   ]
  },
  {
   "cell_type": "code",
   "execution_count": 118,
   "metadata": {},
   "outputs": [
    {
     "data": {
      "text/plain": [
       "array([ 41.86358329,  46.10146621,  38.69075482, 105.83686147,\n",
       "        82.63083182])"
      ]
     },
     "execution_count": 118,
     "metadata": {},
     "output_type": "execute_result"
    }
   ],
   "source": [
    "n30_blks_ace[\"Avg persistence length\"]"
   ]
  },
  {
   "cell_type": "code",
   "execution_count": 119,
   "metadata": {},
   "outputs": [
    {
     "data": {
      "text/plain": [
       "array([21.37781682, 15.99548405, 14.58083745, 22.33585525, 18.66784321])"
      ]
     },
     "execution_count": 119,
     "metadata": {},
     "output_type": "execute_result"
    }
   ],
   "source": [
    "n30_blks_ace[\"Avg Radius of gyration\"]"
   ]
  },
  {
   "cell_type": "code",
   "execution_count": 120,
   "metadata": {},
   "outputs": [
    {
     "data": {
      "text/plain": [
       "63.02469952436293"
      ]
     },
     "execution_count": 120,
     "metadata": {},
     "output_type": "execute_result"
    }
   ],
   "source": [
    "np.mean(n30_blks_ace[\"Avg persistence length\"])"
   ]
  },
  {
   "cell_type": "code",
   "execution_count": 121,
   "metadata": {},
   "outputs": [
    {
     "data": {
      "text/plain": [
       "26.62183752030562"
      ]
     },
     "execution_count": 121,
     "metadata": {},
     "output_type": "execute_result"
    }
   ],
   "source": [
    "np.std(n30_blks_ace[\"Avg persistence length\"])"
   ]
  },
  {
   "cell_type": "code",
   "execution_count": 122,
   "metadata": {},
   "outputs": [
    {
     "data": {
      "text/plain": [
       "18.591567354387102"
      ]
     },
     "execution_count": 122,
     "metadata": {},
     "output_type": "execute_result"
    }
   ],
   "source": [
    "np.mean(n30_blks_ace[\"Avg Radius of gyration\"])"
   ]
  },
  {
   "cell_type": "code",
   "execution_count": 123,
   "metadata": {},
   "outputs": [
    {
     "data": {
      "text/plain": [
       "2.9871156246197934"
      ]
     },
     "execution_count": 123,
     "metadata": {},
     "output_type": "execute_result"
    }
   ],
   "source": [
    "np.std(n30_blks_ace[\"Avg Radius of gyration\"])"
   ]
  },
  {
   "cell_type": "code",
   "execution_count": 124,
   "metadata": {},
   "outputs": [],
   "source": [
    "n30_rgens_ace, cor_n30ace_mat, pers_n30ace, rg_avgn30ace = get_rg_pers_poly(poly_n30_ace, n30_plga_ace, 0, 15000, \n",
    "                                                                        lb_avg_n6ace)"
   ]
  },
  {
   "cell_type": "code",
   "execution_count": 125,
   "metadata": {},
   "outputs": [
    {
     "data": {
      "text/plain": [
       "array([[ 1.        ,  0.87129401,  0.70613498,  0.59938159,  0.53558677,\n",
       "         0.47354981,  0.41799197,  0.38087398,  0.3442499 ,  0.30996957,\n",
       "         0.28505719,  0.27321975,  0.26637246,  0.24944217,  0.23485888,\n",
       "         0.22061014,  0.214439  ,  0.20568275,  0.19880694,  0.200682  ,\n",
       "         0.22671252,  0.24252012,  0.23938647,  0.23573596,  0.24334063,\n",
       "         0.24887517,  0.25021708,  0.25486757,  0.25109415],\n",
       "       [ 0.        , 29.23717463, 44.81667128, 52.96412667, 57.42273995,\n",
       "        61.54736467, 65.10819607, 67.39755031, 69.66338936, 71.76408903,\n",
       "        73.25741299, 73.92670425, 74.28917916, 75.24861078, 76.04564677,\n",
       "        76.8267799 , 77.12665094, 77.5929367 , 77.94242184, 77.81027518,\n",
       "        76.25011706, 75.20456241, 75.36678008, 75.58089752, 74.9703761 ,\n",
       "        74.38107625, 74.13115978, 73.45904092, 72.84638795],\n",
       "       [ 1.        ,  2.        ,  3.        ,  4.        ,  5.        ,\n",
       "         6.        ,  7.        ,  8.        ,  9.        , 10.        ,\n",
       "        11.        , 12.        , 13.        , 14.        , 15.        ,\n",
       "        16.        , 17.        , 18.        , 19.        , 20.        ,\n",
       "        21.        , 22.        , 23.        , 24.        , 25.        ,\n",
       "        26.        , 27.        , 28.        , 29.        ]])"
      ]
     },
     "execution_count": 125,
     "metadata": {},
     "output_type": "execute_result"
    }
   ],
   "source": [
    "cor_n30ace_mat"
   ]
  },
  {
   "cell_type": "code",
   "execution_count": 126,
   "metadata": {},
   "outputs": [
    {
     "data": {
      "text/plain": [
       "array([1.        , 0.87129401, 0.70613498, 0.59938159, 0.53558677,\n",
       "       0.47354981, 0.41799197, 0.38087398, 0.3442499 , 0.30996957,\n",
       "       0.28505719, 0.27321975, 0.26637246, 0.24944217, 0.23485888,\n",
       "       0.22061014, 0.214439  , 0.20568275, 0.19880694, 0.200682  ,\n",
       "       0.22671252, 0.24252012, 0.23938647, 0.23573596, 0.24334063,\n",
       "       0.24887517, 0.25021708, 0.25486757, 0.25109415])"
      ]
     },
     "execution_count": 126,
     "metadata": {},
     "output_type": "execute_result"
    }
   ],
   "source": [
    "cor_n30ace_mat[0]"
   ]
  },
  {
   "cell_type": "code",
   "execution_count": 127,
   "metadata": {},
   "outputs": [
    {
     "data": {
      "text/plain": [
       "58.434266746484155"
      ]
     },
     "execution_count": 127,
     "metadata": {},
     "output_type": "execute_result"
    }
   ],
   "source": [
    "pers_n30ace"
   ]
  },
  {
   "cell_type": "code",
   "execution_count": null,
   "metadata": {},
   "outputs": [],
   "source": []
  },
  {
   "cell_type": "code",
   "execution_count": 129,
   "metadata": {},
   "outputs": [
    {
     "data": {
      "text/plain": [
       "[<matplotlib.lines.Line2D at 0x13275555c0>]"
      ]
     },
     "execution_count": 129,
     "metadata": {},
     "output_type": "execute_result"
    },
    {
     "data": {
      "image/png": "[encoded data removed]",
      "text/plain": [
       "<Figure size 432x288 with 1 Axes>"
      ]
     },
     "metadata": {
      "needs_background": "light"
     },
     "output_type": "display_data"
    }
   ],
   "source": [
    "def exfun(x, a):\n",
    "    return np.exp(-x*lb_avg_n6ace/a)\n",
    "\n",
    "nt = np.arange(29)\n",
    "plt.scatter(nt, cor_n30ace_mat[0,:])\n",
    "plt.plot(nt,exfun(nt, pers_n30ace))"
   ]
  },
  {
   "cell_type": "code",
   "execution_count": null,
   "metadata": {},
   "outputs": [],
   "source": []
  }
 ],
 "metadata": {
  "kernelspec": {
   "display_name": "Python (ppc_env)",
   "language": "python",
   "name": "ppc_env"
  },
  "language_info": {
   "codemirror_mode": {
    "name": "ipython",
    "version": 3
   },
   "file_extension": ".py",
   "mimetype": "text/x-python",
   "name": "python",
   "nbconvert_exporter": "python",
   "pygments_lexer": "ipython3",
   "version": "3.6.8"
  }
 },
 "nbformat": 4,
 "nbformat_minor": 2
}
