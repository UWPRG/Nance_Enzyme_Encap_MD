{
 "cells": [
  {
   "cell_type": "code",
   "execution_count": 1,
   "metadata": {},
   "outputs": [],
   "source": [
    "#import the necessary modules \n",
    "%matplotlib inline \n",
    "import numpy as np \n",
    "import matplotlib.pyplot as plt \n",
    "import pandas as pd \n",
    "#import scipy\n",
    "import sklearn\n",
    "import itertools as it\n",
    "from itertools import cycle \n",
    "import os.path as op\n",
    "import timeit \n",
    "import json\n",
    "from matplotlib import animation\n",
    "import matplotlib.font_manager as font_manager\n",
    "from collections import namedtuple\n",
    "#from functools import partial\n",
    "#from pathlib import Path"
   ]
  },
  {
   "cell_type": "code",
   "execution_count": 2,
   "metadata": {},
   "outputs": [],
   "source": [
    "# Set plotting style\n",
    "plt.style.use('seaborn-white')\n",
    "\n",
    "from ipywidgets import interact, interactive, fixed, interact_manual\n",
    "import ipywidgets as widgets\n",
    "#import matplotlib.pyplot as plt"
   ]
  },
  {
   "cell_type": "code",
   "execution_count": 3,
   "metadata": {},
   "outputs": [],
   "source": [
    "%matplotlib widget"
   ]
  },
  {
   "cell_type": "code",
   "execution_count": 4,
   "metadata": {},
   "outputs": [
    {
     "data": {
      "text/plain": [
       "4"
      ]
     },
     "execution_count": 4,
     "metadata": {},
     "output_type": "execute_result"
    }
   ],
   "source": [
    "import multiprocessing as m_proc\n",
    "m_proc.cpu_count()"
   ]
  },
  {
   "cell_type": "markdown",
   "metadata": {},
   "source": [
    "### Now use MD Analysis to calculate no. of frames a center PLGA residues and terminal PLGA residue is with 4 Angstroms of BSA (1.2 nm restrained system)"
   ]
  },
  {
   "cell_type": "markdown",
   "metadata": {},
   "source": [
    "Import MDAnalysis"
   ]
  },
  {
   "cell_type": "code",
   "execution_count": 5,
   "metadata": {},
   "outputs": [],
   "source": [
    "from prot_polymer_analysis import get_protresd_list, aa_frmcount, grptwocnt_aa, gtwo_trjcnt \n",
    "from prot_polymer_analysis import frac_cont, bavg_frac_cnt, prot_poly_cntmovie, AA_list_org"
   ]
  },
  {
   "cell_type": "code",
   "execution_count": 6,
   "metadata": {},
   "outputs": [],
   "source": [
    "# Import MDAnalysis\n",
    "import MDAnalysis as mda\n",
    "import MDAnalysis.analysis.distances as maa_dist"
   ]
  },
  {
   "cell_type": "markdown",
   "metadata": {},
   "source": [
    "### First table will be total fractional contacts and oligomer occupancy values for each Rg value "
   ]
  },
  {
   "cell_type": "markdown",
   "metadata": {},
   "source": [
    "#### Distance-based analysis \n",
    "\n",
    "Find residues that have at least one atom within a cutoff $d = 4.0$ Angstrom near water molecules in BSA/water simulation\n",
    "\n",
    "Calculate the number of surface bsa residues from a 1 ns BSA/water simulation"
   ]
  },
  {
   "cell_type": "code",
   "execution_count": 7,
   "metadata": {},
   "outputs": [],
   "source": [
    "#Units of Angstroms \n",
    "dmax = 4.0 "
   ]
  },
  {
   "cell_type": "code",
   "execution_count": 8,
   "metadata": {},
   "outputs": [],
   "source": [
    "def middle_of_band(band_start, band_stop, plot_min=0, plot_max=60):\n",
    "    half_way = (band_stop - band_start) / 2\n",
    "    mid_band = band_start + half_way\n",
    "    plot_fraction = (mid_band - plot_min) / (plot_max - plot_min)\n",
    "\n",
    "    return plot_fraction"
   ]
  },
  {
   "cell_type": "markdown",
   "metadata": {},
   "source": [
    "# 1.2 nm PLGA unrestrained Rg 100 ns trajectory"
   ]
  },
  {
   "cell_type": "markdown",
   "metadata": {},
   "source": [
    "Load the rg = 1.2 nm (3 PLGA N = 20 oligomer/BSA system)"
   ]
  },
  {
   "cell_type": "code",
   "execution_count": 9,
   "metadata": {},
   "outputs": [],
   "source": [
    "# load the unrestrained trajectory \n",
    "pn12nm_nores = mda.Universe(\"../1.2nm_bsa_prod/res_off/new_conf1.2nm.pdb\"\n",
    "                      , \"../1.2nm_bsa_prod/res_off/pp_12nmresoff.xtc\")"
   ]
  },
  {
   "cell_type": "markdown",
   "metadata": {},
   "source": [
    "Check that we are on the first frame"
   ]
  },
  {
   "cell_type": "code",
   "execution_count": 10,
   "metadata": {},
   "outputs": [
    {
     "data": {
      "text/plain": [
       "0"
      ]
     },
     "execution_count": 10,
     "metadata": {},
     "output_type": "execute_result"
    }
   ],
   "source": [
    "pn12nm_nores.trajectory.frame"
   ]
  },
  {
   "cell_type": "code",
   "execution_count": 11,
   "metadata": {},
   "outputs": [
    {
     "data": {
      "text/plain": [
       "10001"
      ]
     },
     "execution_count": 11,
     "metadata": {},
     "output_type": "execute_result"
    }
   ],
   "source": [
    "pn20nr_len = len(pn12nm_nores.trajectory)\n",
    "pn20nr_len"
   ]
  },
  {
   "cell_type": "code",
   "execution_count": 12,
   "metadata": {},
   "outputs": [
    {
     "data": {
      "text/plain": [
       "<AtomGroup with 543 atoms>"
      ]
     },
     "execution_count": 12,
     "metadata": {},
     "output_type": "execute_result"
    }
   ],
   "source": [
    "#Select all the PLGA residues, heavy atoms only \n",
    "pn20_allnr = pn12nm_nores.select_atoms(\"resname sPLG PLG tPLG and not type H\")\n",
    "pn20_allnr"
   ]
  },
  {
   "cell_type": "code",
   "execution_count": 13,
   "metadata": {},
   "outputs": [
    {
     "data": {
      "text/plain": [
       "<AtomGroup with 4653 atoms>"
      ]
     },
     "execution_count": 13,
     "metadata": {},
     "output_type": "execute_result"
    }
   ],
   "source": [
    "# Select BSA residues, heavy atoms only \n",
    "prot_nores = pn12nm_nores.select_atoms(\"protein and not type H\")\n",
    "prot_nores"
   ]
  },
  {
   "cell_type": "markdown",
   "metadata": {},
   "source": [
    "### Contact Analysis"
   ]
  },
  {
   "cell_type": "code",
   "execution_count": 14,
   "metadata": {},
   "outputs": [
    {
     "data": {
      "text/plain": [
       "479.56650141626596"
      ]
     },
     "execution_count": 14,
     "metadata": {},
     "output_type": "execute_result"
    }
   ],
   "source": [
    "#dmax = 4.0, protein group(4653 atoms), plga atom group (543 atoms), took 381.6 s (6 min 36s on 4 cores)\n",
    "start = 0\n",
    "end = pn20nr_len - 1\n",
    "snr_time = timeit.default_timer()\n",
    "h2di_nr = aa_frmcount(prot_nores, pn20_allnr, dmax, pn12nm_nores, start, end)\n",
    "timeit.default_timer() - snr_time"
   ]
  },
  {
   "cell_type": "code",
   "execution_count": 15,
   "metadata": {},
   "outputs": [
    {
     "data": {
      "text/plain": [
       "59"
      ]
     },
     "execution_count": 15,
     "metadata": {},
     "output_type": "execute_result"
    }
   ],
   "source": [
    "len(h2di_nr.keys())"
   ]
  },
  {
   "cell_type": "code",
   "execution_count": 18,
   "metadata": {},
   "outputs": [],
   "source": [
    "a_a = [\"GLY\",\"ALA\",\"VAL\",\"LEU\",\"ILE\",\"MET\",\"PHE\",\"TRP\",\"PRO\",\"SER\",\"THR\",\"CYS\",\"TYR\",\"ASN\",\"GLN\",\"ASP\"\n",
    "               ,\"GLU\",\"LYS\",\"ARG\",\"HIS\"]"
   ]
  },
  {
   "cell_type": "code",
   "execution_count": 20,
   "metadata": {},
   "outputs": [],
   "source": [
    "# This code chunk gets the BSA residues and their corresponding number in a pandas dataframe \n",
    "red_bsa = []\n",
    "bh = np.arange(0,584)\n",
    "for i in range(583):\n",
    "    b_str = str(list(prot_nores.residues[i:i+1]))\n",
    "    if str(bh[i+1]) in b_str: \n",
    "        red_bsa.append(str(b_str[10:13])+\" \"+str(bh[i+1]))"
   ]
  },
  {
   "cell_type": "code",
   "execution_count": 21,
   "metadata": {},
   "outputs": [
    {
     "data": {
      "text/html": [
       "<div>\n",
       "<style scoped>\n",
       "    .dataframe tbody tr th:only-of-type {\n",
       "        vertical-align: middle;\n",
       "    }\n",
       "\n",
       "    .dataframe tbody tr th {\n",
       "        vertical-align: top;\n",
       "    }\n",
       "\n",
       "    .dataframe thead th {\n",
       "        text-align: right;\n",
       "    }\n",
       "</style>\n",
       "<table border=\"1\" class=\"dataframe\">\n",
       "  <thead>\n",
       "    <tr style=\"text-align: right;\">\n",
       "      <th></th>\n",
       "      <th>BSA_des_res</th>\n",
       "      <th>mda_1.2nm_nores</th>\n",
       "    </tr>\n",
       "  </thead>\n",
       "  <tbody>\n",
       "    <tr>\n",
       "      <td>0</td>\n",
       "      <td>ASP 1</td>\n",
       "      <td>0.0</td>\n",
       "    </tr>\n",
       "    <tr>\n",
       "      <td>1</td>\n",
       "      <td>THR 2</td>\n",
       "      <td>0.0</td>\n",
       "    </tr>\n",
       "    <tr>\n",
       "      <td>2</td>\n",
       "      <td>HIS 3</td>\n",
       "      <td>0.0</td>\n",
       "    </tr>\n",
       "    <tr>\n",
       "      <td>3</td>\n",
       "      <td>LYS 4</td>\n",
       "      <td>0.0</td>\n",
       "    </tr>\n",
       "    <tr>\n",
       "      <td>4</td>\n",
       "      <td>SER 5</td>\n",
       "      <td>0.0</td>\n",
       "    </tr>\n",
       "  </tbody>\n",
       "</table>\n",
       "</div>"
      ],
      "text/plain": [
       "  BSA_des_res  mda_1.2nm_nores\n",
       "0       ASP 1              0.0\n",
       "1       THR 2              0.0\n",
       "2       HIS 3              0.0\n",
       "3       LYS 4              0.0\n",
       "4       SER 5              0.0"
      ]
     },
     "execution_count": 21,
     "metadata": {},
     "output_type": "execute_result"
    }
   ],
   "source": [
    "# Extract no. of contacted frames\n",
    "pr_resnr = list(prot_nores.residues)\n",
    "ss_resnr = [str(row) for row in pr_resnr]\n",
    "rkg_12nr = {key:h2di_nr[key][0] for key, value in h2di_nr.items()}\n",
    "plg_1_2nr = pd.DataFrame(data=ss_resnr, columns=[\"BSA_des_res\"])\n",
    "plg_1_2nr['mda_1.2nm_nores'] = plg_1_2nr['BSA_des_res'].map(rkg_12nr)\n",
    "plg_1_2nr['BSA_des_res'] = red_bsa\n",
    "plg_1_2nr['mda_1.2nm_nores'] = plg_1_2nr['mda_1.2nm_nores'].replace('nan', np.nan).fillna(0)\n",
    "plg_1_2nr.head()"
   ]
  },
  {
   "cell_type": "code",
   "execution_count": 24,
   "metadata": {},
   "outputs": [
    {
     "data": {
      "text/html": [
       "<div>\n",
       "<style scoped>\n",
       "    .dataframe tbody tr th:only-of-type {\n",
       "        vertical-align: middle;\n",
       "    }\n",
       "\n",
       "    .dataframe tbody tr th {\n",
       "        vertical-align: top;\n",
       "    }\n",
       "\n",
       "    .dataframe thead th {\n",
       "        text-align: right;\n",
       "    }\n",
       "</style>\n",
       "<table border=\"1\" class=\"dataframe\">\n",
       "  <thead>\n",
       "    <tr style=\"text-align: right;\">\n",
       "      <th></th>\n",
       "      <th>BSA_des_res</th>\n",
       "      <th>mda_occ_1.2nm_NR</th>\n",
       "    </tr>\n",
       "  </thead>\n",
       "  <tbody>\n",
       "    <tr>\n",
       "      <td>0</td>\n",
       "      <td>&lt;Residue ASP, 1&gt;</td>\n",
       "      <td>0.00</td>\n",
       "    </tr>\n",
       "    <tr>\n",
       "      <td>1</td>\n",
       "      <td>&lt;Residue THR, 2&gt;</td>\n",
       "      <td>0.00</td>\n",
       "    </tr>\n",
       "    <tr>\n",
       "      <td>2</td>\n",
       "      <td>&lt;Residue HIS, 3&gt;</td>\n",
       "      <td>0.00</td>\n",
       "    </tr>\n",
       "    <tr>\n",
       "      <td>3</td>\n",
       "      <td>&lt;Residue LYS, 4&gt;</td>\n",
       "      <td>0.00</td>\n",
       "    </tr>\n",
       "    <tr>\n",
       "      <td>4</td>\n",
       "      <td>&lt;Residue SER, 5&gt;</td>\n",
       "      <td>0.00</td>\n",
       "    </tr>\n",
       "    <tr>\n",
       "      <td>...</td>\n",
       "      <td>...</td>\n",
       "      <td>...</td>\n",
       "    </tr>\n",
       "    <tr>\n",
       "      <td>578</td>\n",
       "      <td>&lt;Residue GLN, 579&gt;</td>\n",
       "      <td>0.00</td>\n",
       "    </tr>\n",
       "    <tr>\n",
       "      <td>579</td>\n",
       "      <td>&lt;Residue THR, 580&gt;</td>\n",
       "      <td>0.00</td>\n",
       "    </tr>\n",
       "    <tr>\n",
       "      <td>580</td>\n",
       "      <td>&lt;Residue ALA, 581&gt;</td>\n",
       "      <td>0.01</td>\n",
       "    </tr>\n",
       "    <tr>\n",
       "      <td>581</td>\n",
       "      <td>&lt;Residue LEU, 582&gt;</td>\n",
       "      <td>0.00</td>\n",
       "    </tr>\n",
       "    <tr>\n",
       "      <td>582</td>\n",
       "      <td>&lt;Residue ALA, 583&gt;</td>\n",
       "      <td>0.00</td>\n",
       "    </tr>\n",
       "  </tbody>\n",
       "</table>\n",
       "<p>583 rows × 2 columns</p>\n",
       "</div>"
      ],
      "text/plain": [
       "            BSA_des_res  mda_occ_1.2nm_NR\n",
       "0      <Residue ASP, 1>              0.00\n",
       "1      <Residue THR, 2>              0.00\n",
       "2      <Residue HIS, 3>              0.00\n",
       "3      <Residue LYS, 4>              0.00\n",
       "4      <Residue SER, 5>              0.00\n",
       "..                  ...               ...\n",
       "578  <Residue GLN, 579>              0.00\n",
       "579  <Residue THR, 580>              0.00\n",
       "580  <Residue ALA, 581>              0.01\n",
       "581  <Residue LEU, 582>              0.00\n",
       "582  <Residue ALA, 583>              0.00\n",
       "\n",
       "[583 rows x 2 columns]"
      ]
     },
     "execution_count": 24,
     "metadata": {},
     "output_type": "execute_result"
    }
   ],
   "source": [
    "# Extract mean occupancy values\n",
    "pr_res_12ur = list(prot_nores.residues)\n",
    "ss_res_12ur = [str(row) for row in pr_res_12ur]\n",
    "rkg_12ur = {key:h2di_nr[key][1] for key, value in h2di_nr.items()}\n",
    "plg_1_2nm_NRocc = pd.DataFrame(data=ss_res_12ur, columns=[\"BSA_des_res\"])\n",
    "plg_1_2nm_NRocc['mda_occ_1.2nm_NR'] = plg_1_2nm_NRocc['BSA_des_res'].map(rkg_12ur)\n",
    "plg_1_2nm_NRocc['mda_occ_1.2nm_NR'] = plg_1_2nm_NRocc['mda_occ_1.2nm_NR'].replace('nan', np.nan).fillna(0)\n",
    "plg_1_2nm_NRocc['mda_occ_1.2nm_NR'] = plg_1_2nm_NRocc['mda_occ_1.2nm_NR'].round(2)\n",
    "plg_1_2nm_NRocc"
   ]
  },
  {
   "cell_type": "code",
   "execution_count": 25,
   "metadata": {},
   "outputs": [],
   "source": [
    "bsa_r = np.array(list(prot_nores.resids)) # shape is 4652\n",
    "m_occ_12ur = np.array(list(plg_1_2nm_NRocc['mda_occ_1.2nm_NR'])) # shape is 583\n",
    "m_occ = np.zeros(shape=(4653))\n",
    "at_ind = np.where(bsa_r[:-1] != bsa_r[1:])[0]\n",
    "at_in_nw = np.sort(np.append([0,4653],at_ind))\n",
    "nw_v = 0\n",
    "for i in range(583):\n",
    "    b = at_in_nw[i+1] +1\n",
    "    m_occ[nw_v:b] = m_occ_12ur[i]\n",
    "    nw_v = at_in_nw[i+1] + 1 "
   ]
  },
  {
   "cell_type": "code",
   "execution_count": 26,
   "metadata": {},
   "outputs": [
    {
     "data": {
      "text/plain": [
       "array([0.  , 0.01, 0.01, 0.01, 0.01, 0.01, 0.01, 0.01, 0.01, 0.  ])"
      ]
     },
     "execution_count": 26,
     "metadata": {},
     "output_type": "execute_result"
    }
   ],
   "source": [
    "m_occ[3089:3099]"
   ]
  },
  {
   "cell_type": "code",
   "execution_count": null,
   "metadata": {},
   "outputs": [],
   "source": [
    "list(prot_nores.atoms[3089:3099])"
   ]
  },
  {
   "cell_type": "code",
   "execution_count": null,
   "metadata": {},
   "outputs": [],
   "source": [
    "np.nonzero(m_occ)"
   ]
  },
  {
   "cell_type": "markdown",
   "metadata": {},
   "source": [
    "### Visualize Occupanct on protein "
   ]
  },
  {
   "cell_type": "code",
   "execution_count": null,
   "metadata": {},
   "outputs": [],
   "source": [
    "prot_nores.occupancies = m_occ\n",
    "prot_nores.occupancies"
   ]
  },
  {
   "cell_type": "code",
   "execution_count": null,
   "metadata": {},
   "outputs": [],
   "source": [
    "with mda.Writer(\"prot_12nm_nores.pdb\") as pdb:\n",
    "    pdb.write(prot_nores)"
   ]
  },
  {
   "cell_type": "markdown",
   "metadata": {},
   "source": [
    "### Residue Importance: 1.2 nm Unrestrained "
   ]
  },
  {
   "cell_type": "code",
   "execution_count": null,
   "metadata": {},
   "outputs": [],
   "source": [
    "trj_pp12nm_nr = prot_poly_cntmovie(prot_nores, pn20_allnr, dmax, pn12nm_nores, 0, 10000)\n",
    "#trj_ppmap_12nm_chC = prot_poly_cntmovie(prot, all_pn20_C, dmax, u_pn20, 0, 10000)"
   ]
  },
  {
   "cell_type": "code",
   "execution_count": 29,
   "metadata": {},
   "outputs": [],
   "source": [
    "np.save('1.2nm_NoRes.npy', trj_pp12nm_nr)    # .npy extension is added if not given"
   ]
  },
  {
   "cell_type": "code",
   "execution_count": 30,
   "metadata": {},
   "outputs": [],
   "source": [
    "trj_pp12nm_nr = np.load(\"1.2nm_NoRes.npy\", allow_pickle=True)"
   ]
  },
  {
   "cell_type": "code",
   "execution_count": 31,
   "metadata": {},
   "outputs": [
    {
     "data": {
      "text/plain": [
       "0.0"
      ]
     },
     "execution_count": 31,
     "metadata": {},
     "output_type": "execute_result"
    }
   ],
   "source": [
    "np.sum(trj_pp12nm_nr[1000][0])"
   ]
  },
  {
   "cell_type": "code",
   "execution_count": 32,
   "metadata": {},
   "outputs": [
    {
     "data": {
      "text/plain": [
       "(10000,)"
      ]
     },
     "execution_count": 32,
     "metadata": {},
     "output_type": "execute_result"
    }
   ],
   "source": [
    "kj = np.zeros(shape=(10000, 583))\n",
    "kj[:,582].shape"
   ]
  },
  {
   "cell_type": "code",
   "execution_count": 33,
   "metadata": {},
   "outputs": [],
   "source": [
    "pp_12nmur_ct = np.zeros(shape=(10000, 583))\n",
    "for i in range(10000):\n",
    "    for j in range(583):\n",
    "        pp_12nmur_ct[i][j] = np.sum(trj_pp12nm_nr[i][j])"
   ]
  },
  {
   "cell_type": "code",
   "execution_count": 34,
   "metadata": {},
   "outputs": [],
   "source": [
    "pp_12nmtot_nr = np.zeros(shape=(583))\n",
    "for i in range(583):\n",
    "    pp_12nmtot_nr[i] = np.sum(pp_12nmur_ct[:,i])\n",
    "#pp_12nmtot"
   ]
  },
  {
   "cell_type": "code",
   "execution_count": 35,
   "metadata": {},
   "outputs": [
    {
     "data": {
      "text/plain": [
       "(array([384, 385, 387, 388, 389, 390, 391, 392, 393, 394, 395, 396, 397,\n",
       "        398, 399, 400, 403, 404, 407, 408, 411, 412, 432, 433, 436, 437,\n",
       "        438, 439, 440, 443, 470, 490, 491, 492, 493, 516, 520, 523, 535,\n",
       "        536, 537, 538, 539, 540, 541, 543, 544, 547, 548, 550, 551, 554,\n",
       "        555, 558, 576, 579, 580, 581, 582]),)"
      ]
     },
     "execution_count": 35,
     "metadata": {},
     "output_type": "execute_result"
    }
   ],
   "source": [
    "np.nonzero(pp_12nmtot_nr)"
   ]
  },
  {
   "cell_type": "code",
   "execution_count": null,
   "metadata": {},
   "outputs": [],
   "source": [
    "plt.close('all')"
   ]
  },
  {
   "cell_type": "code",
   "execution_count": 36,
   "metadata": {},
   "outputs": [
    {
     "data": {
      "application/vnd.jupyter.widget-view+json": {
       "model_id": "",
       "version_major": 2,
       "version_minor": 0
      },
      "text/plain": [
       "Canvas(toolbar=Toolbar(toolitems=[('Home', 'Reset original view', 'home', 'home'), ('Back', 'Back to previous …"
      ]
     },
     "metadata": {},
     "output_type": "display_data"
    },
    {
     "data": {
      "text/plain": [
       "Text(0.5, 0, 'BSA Residue ID')"
      ]
     },
     "execution_count": 36,
     "metadata": {},
     "output_type": "execute_result"
    }
   ],
   "source": [
    "y_pos = np.arange(583) + 1\n",
    "wid = np.zeros(shape=583)\n",
    "wid += 3\n",
    "#wid\n",
    "fig = plt.figure(figsize=(12,12))\n",
    "fig.canvas.layout.width = '800px'\n",
    "fig.canvas.layout.height = '700px'\n",
    "plt.bar(y_pos+0.25, pp_12nmtot_nr, align='center',width=wid, color='blue', alpha=0.3, label='1.2 nm PLGA No restraint')\n",
    "plt.xticks(fontsize=14)\n",
    "plt.yticks(fontsize=14)\n",
    "plt.xlim([0,600])\n",
    "plt.ylim([0,50000])\n",
    "plt.legend(fontsize=14)\n",
    "plt.ylabel(r'Total No. of PLGA contacts', fontsize=15)\n",
    "plt.xlabel(r'BSA Residue ID', fontsize=15)"
   ]
  },
  {
   "cell_type": "markdown",
   "metadata": {},
   "source": [
    "### Total number of residues that are within 4 angstroms of a PLGA oligomer residue within a 100 ns trajectory block"
   ]
  },
  {
   "cell_type": "code",
   "execution_count": 38,
   "metadata": {},
   "outputs": [],
   "source": [
    "# Read in data from the oputput of wrapper.sh, where the frame count is given for each BSA residue that was within \n",
    "# 4 angstroms of PLGA trimer \n",
    "wat_data = pd.read_csv('occ_BSA1ns.txt', sep=\" \", header=None, usecols=None ,index_col=None)\n",
    "wat_data.columns = [\"BSA_res_no\",\"No. of frames (VMD)\"]\n",
    "wat_data = wat_data.drop(\"BSA_res_no\", axis=1)\n",
    "\n",
    "pr_res = list(prot_nores.residues)\n",
    "ss_res = [str(row) for row in pr_res]\n",
    "\n",
    "wat_data['BSA_des_res'] = ss_res\n",
    "wat_data = wat_data[['BSA_des_res',\"No. of frames (VMD)\"]]\n",
    "#wat_data.head()\n",
    "\n",
    "# load MDAnalysis values from MDA_BSA1ns.txt file(129003 atoms SOL group was used to calc. frame counts for txt.\n",
    "# file)\n",
    "h2ob_dict = json.load(open(\"MDA_BSA1ns.txt\"))\n",
    "wat_data['Mda_frames'] = wat_data['BSA_des_res'].map(h2ob_dict)\n",
    "\n",
    "\n",
    "# From MD Analysis\n",
    "#Get the count of bsa residues that have 1001 or 1002 frames ( I ran a 1 ns NPT simulation of 1 BSA in water )\n",
    "\n",
    "#aa_count = pd.DataFrame(data=a_a)\n",
    "c_list = []\n",
    "\n",
    "for i in range(len(a_a)):\n",
    "    count = 0\n",
    "    for index, row in wat_data.iterrows():\n",
    "        if a_a[i] in row[\"BSA_des_res\"]:\n",
    "            if row['Mda_frames'] == 1001: \n",
    "                count += 1\n",
    "                #c_list.append(str(str(a_a[i])+\"  \"+str(row['No. of frames']))) \n",
    "            elif row['Mda_frames'] == 1000:\n",
    "                count += 1\n",
    "                #c_list.append(str(str(a_a[i])+\"  \"+str(row['No. of frames'])))\n",
    "    c_list.append(str(str(a_a[i])+\"  \"+str(count)))\n",
    "    \n",
    "#c_list\n",
    "\n",
    "# From VMD\n",
    "#Get the count of bsa residues that have 1001 or 1002 frames ( I ran a 1 ns NPT simulation of 1 BSA in water )\n",
    "\n",
    "#aa_count = pd.DataFrame(data=a_a)\n",
    "vmd_list = []\n",
    "\n",
    "for i in range(len(a_a)):\n",
    "    count = 0\n",
    "    for index, row in wat_data.iterrows():\n",
    "        if a_a[i] in row[\"BSA_des_res\"]:\n",
    "            if row[\"No. of frames (VMD)\"] == 1001: \n",
    "                count += 1\n",
    "                #c_list.append(str(str(a_a[i])+\"  \"+str(row['No. of frames']))) \n",
    "            elif row[\"No. of frames (VMD)\"] == 1002:\n",
    "                count += 1\n",
    "                #c_list.append(str(str(a_a[i])+\"  \"+str(row['No. of frames'])))\n",
    "    vmd_list.append(str(str(a_a[i])+\"  \"+str(count)))\n",
    "\n",
    "# Main difference is that Alanine 583 is counted for all 1001 frames. It seems VMD is unable to calc dist for that res\n",
    "#vmd_list\n",
    "\n",
    "#hydrophobic_res = ['ALA', 'ILE', 'LEU', 'VAL', 'GLY', 'PRO','PHE', 'TRP','MET']\n",
    "#polar_res = ['ASN', 'CYS', 'GLN', 'SER', 'THR','TYR']\n",
    "#neg_res = ['ASP', 'GLU']\n",
    "#pos_res = ['ARG', 'HIS', 'LYS']\n",
    "# aromatic_res = ['PHE', 'TRP', 'TYR', 'HIS']\n",
    "#all_res = [pos_res, neg_res, polar_res, hydrophobic_res]\n",
    "\n",
    "# Put the AA count in a pandas dataframe \n",
    "dg , ji = AA_list_org(c_list)\n",
    "aa_count = pd.DataFrame(data=dg, index=None, columns=['Amino_acids'])\n",
    "new_lf = pd.Series(data=ji, index=None)\n",
    "vmg, vmdj = AA_list_org(vmd_list)\n",
    "n2lf = pd.Series(data=vmdj, index=None)\n",
    "aa_count['No_of_surf_res (MDAnalysis)'] = new_lf\n",
    "aa_count['No_of_surf_res (VMD)'] = n2lf"
   ]
  },
  {
   "cell_type": "code",
   "execution_count": 39,
   "metadata": {},
   "outputs": [
    {
     "data": {
      "text/html": [
       "<div>\n",
       "<style scoped>\n",
       "    .dataframe tbody tr th:only-of-type {\n",
       "        vertical-align: middle;\n",
       "    }\n",
       "\n",
       "    .dataframe tbody tr th {\n",
       "        vertical-align: top;\n",
       "    }\n",
       "\n",
       "    .dataframe thead th {\n",
       "        text-align: right;\n",
       "    }\n",
       "</style>\n",
       "<table border=\"1\" class=\"dataframe\">\n",
       "  <thead>\n",
       "    <tr style=\"text-align: right;\">\n",
       "      <th></th>\n",
       "      <th>Amino_acids</th>\n",
       "      <th>No_of_surf_res (MDAnalysis)</th>\n",
       "      <th>No_of_surf_res (VMD)</th>\n",
       "      <th>plga_1.2nm_100ns_NR</th>\n",
       "    </tr>\n",
       "  </thead>\n",
       "  <tbody>\n",
       "    <tr>\n",
       "      <td>0</td>\n",
       "      <td>LYS</td>\n",
       "      <td>59</td>\n",
       "      <td>59</td>\n",
       "      <td>9</td>\n",
       "    </tr>\n",
       "    <tr>\n",
       "      <td>1</td>\n",
       "      <td>ARG</td>\n",
       "      <td>23</td>\n",
       "      <td>23</td>\n",
       "      <td>3</td>\n",
       "    </tr>\n",
       "    <tr>\n",
       "      <td>2</td>\n",
       "      <td>HIS</td>\n",
       "      <td>16</td>\n",
       "      <td>16</td>\n",
       "      <td>0</td>\n",
       "    </tr>\n",
       "    <tr>\n",
       "      <td>3</td>\n",
       "      <td>ASP</td>\n",
       "      <td>40</td>\n",
       "      <td>40</td>\n",
       "      <td>4</td>\n",
       "    </tr>\n",
       "    <tr>\n",
       "      <td>4</td>\n",
       "      <td>GLU</td>\n",
       "      <td>59</td>\n",
       "      <td>59</td>\n",
       "      <td>7</td>\n",
       "    </tr>\n",
       "    <tr>\n",
       "      <td>5</td>\n",
       "      <td>SER</td>\n",
       "      <td>23</td>\n",
       "      <td>23</td>\n",
       "      <td>1</td>\n",
       "    </tr>\n",
       "    <tr>\n",
       "      <td>6</td>\n",
       "      <td>THR</td>\n",
       "      <td>29</td>\n",
       "      <td>29</td>\n",
       "      <td>6</td>\n",
       "    </tr>\n",
       "    <tr>\n",
       "      <td>7</td>\n",
       "      <td>CYS</td>\n",
       "      <td>24</td>\n",
       "      <td>24</td>\n",
       "      <td>2</td>\n",
       "    </tr>\n",
       "    <tr>\n",
       "      <td>8</td>\n",
       "      <td>TYR</td>\n",
       "      <td>19</td>\n",
       "      <td>19</td>\n",
       "      <td>1</td>\n",
       "    </tr>\n",
       "    <tr>\n",
       "      <td>9</td>\n",
       "      <td>ASN</td>\n",
       "      <td>14</td>\n",
       "      <td>14</td>\n",
       "      <td>4</td>\n",
       "    </tr>\n",
       "    <tr>\n",
       "      <td>10</td>\n",
       "      <td>GLN</td>\n",
       "      <td>19</td>\n",
       "      <td>19</td>\n",
       "      <td>4</td>\n",
       "    </tr>\n",
       "    <tr>\n",
       "      <td>11</td>\n",
       "      <td>GLY</td>\n",
       "      <td>11</td>\n",
       "      <td>11</td>\n",
       "      <td>3</td>\n",
       "    </tr>\n",
       "    <tr>\n",
       "      <td>12</td>\n",
       "      <td>ALA</td>\n",
       "      <td>39</td>\n",
       "      <td>38</td>\n",
       "      <td>6</td>\n",
       "    </tr>\n",
       "    <tr>\n",
       "      <td>13</td>\n",
       "      <td>VAL</td>\n",
       "      <td>19</td>\n",
       "      <td>19</td>\n",
       "      <td>2</td>\n",
       "    </tr>\n",
       "    <tr>\n",
       "      <td>14</td>\n",
       "      <td>LEU</td>\n",
       "      <td>34</td>\n",
       "      <td>34</td>\n",
       "      <td>3</td>\n",
       "    </tr>\n",
       "    <tr>\n",
       "      <td>15</td>\n",
       "      <td>ILE</td>\n",
       "      <td>7</td>\n",
       "      <td>7</td>\n",
       "      <td>0</td>\n",
       "    </tr>\n",
       "    <tr>\n",
       "      <td>16</td>\n",
       "      <td>MET</td>\n",
       "      <td>3</td>\n",
       "      <td>3</td>\n",
       "      <td>0</td>\n",
       "    </tr>\n",
       "    <tr>\n",
       "      <td>17</td>\n",
       "      <td>PHE</td>\n",
       "      <td>20</td>\n",
       "      <td>20</td>\n",
       "      <td>1</td>\n",
       "    </tr>\n",
       "    <tr>\n",
       "      <td>18</td>\n",
       "      <td>TRP</td>\n",
       "      <td>2</td>\n",
       "      <td>2</td>\n",
       "      <td>0</td>\n",
       "    </tr>\n",
       "    <tr>\n",
       "      <td>19</td>\n",
       "      <td>PRO</td>\n",
       "      <td>27</td>\n",
       "      <td>27</td>\n",
       "      <td>3</td>\n",
       "    </tr>\n",
       "  </tbody>\n",
       "</table>\n",
       "</div>"
      ],
      "text/plain": [
       "   Amino_acids  No_of_surf_res (MDAnalysis)  No_of_surf_res (VMD)  \\\n",
       "0          LYS                           59                    59   \n",
       "1          ARG                           23                    23   \n",
       "2          HIS                           16                    16   \n",
       "3          ASP                           40                    40   \n",
       "4          GLU                           59                    59   \n",
       "5          SER                           23                    23   \n",
       "6          THR                           29                    29   \n",
       "7          CYS                           24                    24   \n",
       "8          TYR                           19                    19   \n",
       "9          ASN                           14                    14   \n",
       "10         GLN                           19                    19   \n",
       "11         GLY                           11                    11   \n",
       "12         ALA                           39                    38   \n",
       "13         VAL                           19                    19   \n",
       "14         LEU                           34                    34   \n",
       "15         ILE                            7                     7   \n",
       "16         MET                            3                     3   \n",
       "17         PHE                           20                    20   \n",
       "18         TRP                            2                     2   \n",
       "19         PRO                           27                    27   \n",
       "\n",
       "    plga_1.2nm_100ns_NR  \n",
       "0                     9  \n",
       "1                     3  \n",
       "2                     0  \n",
       "3                     4  \n",
       "4                     7  \n",
       "5                     1  \n",
       "6                     6  \n",
       "7                     2  \n",
       "8                     1  \n",
       "9                     4  \n",
       "10                    4  \n",
       "11                    3  \n",
       "12                    6  \n",
       "13                    2  \n",
       "14                    3  \n",
       "15                    0  \n",
       "16                    0  \n",
       "17                    1  \n",
       "18                    0  \n",
       "19                    3  "
      ]
     },
     "execution_count": 39,
     "metadata": {},
     "output_type": "execute_result"
    }
   ],
   "source": [
    "apl_12nm_nr = []\n",
    "\n",
    "# Some residues don't have any contact with the 3 N = 20 PLGA oligomers within 100 ns,\n",
    "# Put residues that do have contact with BSA in a separate list\n",
    "for index, r_pl in plg_1_2nr.iterrows():\n",
    "    if r_pl['mda_1.2nm_nores'] != 0:\n",
    "        apl_12nm_nr.append(r_pl['BSA_des_res'])\n",
    "        \n",
    "# This chunk of code gets an AA count from the above list, in order \n",
    "# to get a total number of residues that contact BSA\n",
    "cpl_12nm_nr = []\n",
    "\n",
    "for index, r_a in aa_count.iterrows():\n",
    "    count = 0\n",
    "    for i in range(len(apl_12nm_nr)):\n",
    "        if r_a['Amino_acids'] in apl_12nm_nr[i]:\n",
    "            count += 1\n",
    "    cpl_12nm_nr.append(count)      \n",
    "        \n",
    "aa_count['plga_1.2nm_100ns_NR'] = cpl_12nm_nr\n",
    "#aa_count.drop('No_of_surf_res (VMD)', axis=1, inplace=True)\n",
    "aa_count"
   ]
  },
  {
   "cell_type": "code",
   "execution_count": 40,
   "metadata": {},
   "outputs": [
    {
     "data": {
      "text/plain": [
       "59"
      ]
     },
     "execution_count": 40,
     "metadata": {},
     "output_type": "execute_result"
    }
   ],
   "source": [
    "# This gives the total number of residues that are within 4 angstroms of a PLGA oligomer residue\n",
    "# within a 100 ns trajectory block\n",
    "aa_count['plga_1.2nm_100ns_NR'].sum()"
   ]
  },
  {
   "cell_type": "code",
   "execution_count": 41,
   "metadata": {},
   "outputs": [
    {
     "data": {
      "text/plain": [
       "487"
      ]
     },
     "execution_count": 41,
     "metadata": {},
     "output_type": "execute_result"
    }
   ],
   "source": [
    "# This gives the total number of residues that are within 4 angstroms of a water molecule\n",
    "# within a 1 ns trajectory block\n",
    "aa_count['No_of_surf_res (MDAnalysis)'].sum()"
   ]
  },
  {
   "cell_type": "code",
   "execution_count": 42,
   "metadata": {},
   "outputs": [
    {
     "data": {
      "text/plain": [
       "0.12114989733059549"
      ]
     },
     "execution_count": 42,
     "metadata": {},
     "output_type": "execute_result"
    }
   ],
   "source": [
    "# This gives the total fraction of contacts within the 1.2 nm Rg 100 ns trajectory\n",
    "aa_count['plga_1.2nm_100ns_NR'].sum()/aa_count['No_of_surf_res (MDAnalysis)'].sum()"
   ]
  },
  {
   "cell_type": "code",
   "execution_count": 43,
   "metadata": {},
   "outputs": [
    {
     "name": "stdout",
     "output_type": "stream",
     "text": [
      "Mean Occpancy (1.2 nm unrestrained Rg): 0.2085474576271186 Occ. std. dev.: 0.3199042755956597\n"
     ]
    }
   ],
   "source": [
    "# Mean occupancy and std deviation \n",
    "ll_mo12_nr = [value[1] for key, value in h2di_nr.items()]\n",
    "print(\"Mean Occpancy (1.2 nm unrestrained Rg): \"+str(np.mean(ll_mo12_nr)), \"Occ. std. dev.: \"+str(np.std(ll_mo12_nr)))"
   ]
  },
  {
   "cell_type": "code",
   "execution_count": 44,
   "metadata": {},
   "outputs": [
    {
     "data": {
      "text/plain": [
       "{'Negative': [44819.0, 11, 240392.81818181818, 0.339871169960441],\n",
       " 'Positive': [27846.0, 12, 136909.5, 0.19356481735034775],\n",
       " 'Polar': [25454.0, 18, 83432.55555555555, 0.11795826715592309],\n",
       " 'Hydrophobic': [24924.0, 18, 81695.33333333333, 0.11550215489094945],\n",
       " 'Aromatic': [5589.0, 2, 164875.5, 0.23310359064233865]}"
      ]
     },
     "execution_count": 44,
     "metadata": {},
     "output_type": "execute_result"
    }
   ],
   "source": [
    "cd_12nm_nr = frac_cont(h2di_nr)\n",
    "cd_12nm_nr"
   ]
  },
  {
   "cell_type": "code",
   "execution_count": 45,
   "metadata": {},
   "outputs": [
    {
     "data": {
      "text/plain": [
       "487"
      ]
     },
     "execution_count": 45,
     "metadata": {},
     "output_type": "execute_result"
    }
   ],
   "source": [
    "no_surf = aa_count['No_of_surf_res (MDAnalysis)'].sum()\n",
    "no_surf"
   ]
  },
  {
   "cell_type": "markdown",
   "metadata": {},
   "source": [
    "### Calc. fractional contacts for each AA group type "
   ]
  },
  {
   "cell_type": "code",
   "execution_count": 46,
   "metadata": {},
   "outputs": [
    {
     "name": "stdout",
     "output_type": "stream",
     "text": [
      "0\n",
      "2000\n",
      "2000\n",
      "4000\n",
      "4000\n",
      "6000\n",
      "6000\n",
      "8000\n",
      "8000\n",
      "10000\n"
     ]
    }
   ],
   "source": [
    "fcnt1_2nm_nr, prgrp12nm_nr, aamatx_12nm_nr = bavg_frac_cnt(5, prot_nores, pn20_allnr, dmax,\n",
    "                                                        pn12nm_nores, no_surf, 0, 10000)"
   ]
  },
  {
   "cell_type": "code",
   "execution_count": 47,
   "metadata": {},
   "outputs": [
    {
     "data": {
      "text/plain": [
       "{'Negative': array([0.36003918, 0.43935885, 0.45733722, 0.2513063 , 0.21542932]),\n",
       " 'Positive': array([0.17740878, 0.24274806, 0.24178814, 0.22820893, 0.19316669]),\n",
       " 'Polar': array([0.18053639, 0.12515765, 0.14951409, 0.12973747, 0.09892214]),\n",
       " 'Hydrophobic': array([0.12768307, 0.19273544, 0.14067055, 0.19902762, 0.23588641]),\n",
       " 'Aromatic': array([0.15433258, 0.        , 0.01068999, 0.19171969, 0.25659544]),\n",
       " 'total_frac': array([0.09240246, 0.0349076 , 0.03696099, 0.06570842, 0.0698152 ])}"
      ]
     },
     "execution_count": 47,
     "metadata": {},
     "output_type": "execute_result"
    }
   ],
   "source": [
    "fcnt1_2nm_nr"
   ]
  },
  {
   "cell_type": "code",
   "execution_count": 48,
   "metadata": {},
   "outputs": [
    {
     "data": {
      "text/plain": [
       "array([0.34469417, 0.21666412, 0.13677355, 0.17920062, 0.12266754])"
      ]
     },
     "execution_count": 48,
     "metadata": {},
     "output_type": "execute_result"
    }
   ],
   "source": [
    "fc_12nmnr_mean = np.array([np.mean(fcnt1_2nm_nr['Negative']), np.mean(fcnt1_2nm_nr['Positive'])\n",
    "                        ,np.mean(fcnt1_2nm_nr['Polar']),np.mean(fcnt1_2nm_nr['Hydrophobic'])\n",
    "                        , np.mean(fcnt1_2nm_nr['Aromatic'])])\n",
    "fc_12nmnr_mean"
   ]
  },
  {
   "cell_type": "code",
   "execution_count": 49,
   "metadata": {},
   "outputs": [
    {
     "data": {
      "text/plain": [
       "array([0.09727901, 0.02660068, 0.02718335, 0.03982011, 0.10128559])"
      ]
     },
     "execution_count": 49,
     "metadata": {},
     "output_type": "execute_result"
    }
   ],
   "source": [
    "fc_12nmnr_std = np.array([np.std(fcnt1_2nm_nr['Negative']), np.std(fcnt1_2nm_nr['Positive'])\n",
    "                       ,np.std(fcnt1_2nm_nr['Polar']),np.std(fcnt1_2nm_nr['Hydrophobic'])\n",
    "                       , np.std(fcnt1_2nm_nr['Aromatic'])])\n",
    "fc_12nmnr_std"
   ]
  },
  {
   "cell_type": "code",
   "execution_count": null,
   "metadata": {},
   "outputs": [],
   "source": [
    "x_pos = np.arange(5)\n",
    "aa_types = [\"Negative\", \"Positive\", \"Polar\", \"Hydrophobic\", \"Aromatic\"]\n",
    "plt.figure(figsize=(7,7))\n",
    "plt.bar(x_pos, fc_12nmnr_mean, yerr=fc_12nmnr_std, ecolor='black',capsize=5, color='c')\n",
    "plt.title(r'Fractional Contacts 1.2 nm Rg unrestrained', fontsize=15)\n",
    "plt.xticks(x_pos, labels=aa_types, fontsize=12)\n",
    "plt.ylabel(r'Fractional Contacts', fontsize=15)"
   ]
  },
  {
   "cell_type": "markdown",
   "metadata": {},
   "source": [
    "### Total fraction of contacts: averages and std dev calc from 5 20ns blocks"
   ]
  },
  {
   "cell_type": "code",
   "execution_count": 50,
   "metadata": {},
   "outputs": [
    {
     "data": {
      "text/plain": [
       "0.05995893223819302"
      ]
     },
     "execution_count": 50,
     "metadata": {},
     "output_type": "execute_result"
    }
   ],
   "source": [
    "np.mean(fcnt1_2nm_nr['total_frac'])"
   ]
  },
  {
   "cell_type": "code",
   "execution_count": 51,
   "metadata": {},
   "outputs": [
    {
     "data": {
      "text/plain": [
       "0.021629887609468077"
      ]
     },
     "execution_count": 51,
     "metadata": {},
     "output_type": "execute_result"
    }
   ],
   "source": [
    "np.std(fcnt1_2nm_nr['total_frac'])"
   ]
  },
  {
   "cell_type": "markdown",
   "metadata": {},
   "source": [
    "### Avg no. PLGA residues per BSA AA residue group "
   ]
  },
  {
   "cell_type": "code",
   "execution_count": null,
   "metadata": {},
   "outputs": [],
   "source": [
    "prgrp12nm_nr"
   ]
  },
  {
   "cell_type": "code",
   "execution_count": null,
   "metadata": {},
   "outputs": [],
   "source": [
    "mean_12nm_nr = np.zeros(shape=5)\n",
    "std_12nm_nr = np.zeros(shape=5)\n",
    "count = 0\n",
    "for key, value in prgrp12nm_nr.items():\n",
    "    mpl_12nm_nr = []\n",
    "    var_12nm_nr = []\n",
    "    for i in prgrp12nm_nr[str(key)].flat:\n",
    "        mpl_12nm_nr.append(i[0])\n",
    "        var_12nm_nr.append((i[1])**2)\n",
    "    \n",
    "    # calc frac cont averages\n",
    "    mean_12nm_nr[count] = np.mean(mpl_12nm_nr)\n",
    "    \n",
    "    # calc frac cont std dev: https://stats.stackexchange.com/questions/25848/how-to-sum-a-standard-deviation \n",
    "    std_12nm_nr[count] = np.std(mpl_12nm_nr)\n",
    "    \n",
    "    count += 1\n"
   ]
  },
  {
   "cell_type": "code",
   "execution_count": null,
   "metadata": {},
   "outputs": [],
   "source": [
    "mean_12nm_nr"
   ]
  },
  {
   "cell_type": "code",
   "execution_count": null,
   "metadata": {},
   "outputs": [],
   "source": [
    "std_12nm_nr"
   ]
  },
  {
   "cell_type": "code",
   "execution_count": null,
   "metadata": {},
   "outputs": [],
   "source": [
    "#std_12nm_nr[4] = 1\n",
    "std_12nm_nr"
   ]
  },
  {
   "cell_type": "code",
   "execution_count": null,
   "metadata": {},
   "outputs": [],
   "source": [
    "x_pos = np.arange(5)\n",
    "aa_types = [\"Negative\", \"Positive\", \"Polar\", \"Hydrophobic\", \"Aromatic\"]\n",
    "plt.figure(figsize=(7,7))\n",
    "plt.bar(x_pos, mean_12nm_nr, yerr=std_12nm_nr, ecolor='black',capsize=5)\n",
    "plt.title(r'No. of PLGA residues 1.2 nm Rg unrestrained', fontsize=15)\n",
    "plt.xticks(x_pos, labels=aa_types, fontsize=12)\n",
    "plt.ylabel(r'No. of PLGA residues', fontsize=15)"
   ]
  },
  {
   "cell_type": "markdown",
   "metadata": {},
   "source": [
    "### Protein/polymer contact map movie"
   ]
  },
  {
   "cell_type": "code",
   "execution_count": null,
   "metadata": {},
   "outputs": [],
   "source": [
    "fig = plt.figure(figsize=(10,10))\n",
    "\n",
    "# Set the axis and the plot titles pp\n",
    "\n",
    "plt.title(\"BSA/PLGA contact map 1.2 nm Unres\", fontsize=22, loc='left')\n",
    "plt.xlabel(\"PLGA Residue No.\", fontsize=22)\n",
    "plt.ylabel(\"BSA Residue No.\", fontsize=20)\n",
    "\n",
    " # Set the axis range \n",
    "plt.ylim(583, 0)\n",
    "plt.xlim(0, 60)\n",
    "\n",
    "# Plot bands for each chain \n",
    "BANDS = (\n",
    "    (0, 20, \"purple\", \"B\"),\n",
    "    (20, 40, \"blue\", \"C\"),\n",
    "    (40, 60, \"green\", \"D\"),\n",
    ")\n",
    "    \n",
    "text_y = 0.98 # Close to the top\n",
    "for start, stop, color, band in BANDS:\n",
    "    plt.axvspan(start, stop,color=color, alpha=0.15)\n",
    "    text_x = middle_of_band(start,stop)\n",
    "    plt.text(\n",
    "        text_x,\n",
    "        text_y,\n",
    "        \"PLGA chain \" + band,\n",
    "        color=color,\n",
    "        fontsize=18,\n",
    "        transform=fig.gca().transAxes,\n",
    "        horizontalalignment='center',\n",
    "        verticalalignment='center',\n",
    "        style='italic',\n",
    "    )\n",
    "    \n",
    "plt.text(0.94, 1, \"Time [ns]:\", fontsize=20, transform=fig.gca().transAxes, horizontalalignment='right', verticalalignment='bottom')\n",
    "\n",
    "# Set tick label size\n",
    "fig.gca().tick_params(axis='both', which='major', labelsize=20)\n",
    "\n",
    "ims = []\n",
    "for i in range(10000):\n",
    "    data = trj_pp12nm_nr[i]\n",
    "    im = plt.imshow(data, aspect='auto', cmap='Greys')\n",
    "    t_sim = plt.text(1.03, 1, str(i/100), fontsize=20, transform=fig.gca().transAxes, horizontalalignment='right', verticalalignment='bottom')\n",
    "    ims.append([im, t_sim])\n",
    "    \n",
    "ani = animation.ArtistAnimation(fig, ims, blit=True, repeat=False)\n",
    "ani.save('1.2nm_NoRes.mp4',writer='ffmpeg',fps=50, bitrate=100000)\n",
    "#plt.tight_layout()\n",
    "#plt.show()"
   ]
  },
  {
   "cell_type": "markdown",
   "metadata": {},
   "source": [
    "# 1.5 nm PLGA unrestrained Rg 100 ns trajectory"
   ]
  },
  {
   "cell_type": "markdown",
   "metadata": {},
   "source": [
    "Load the rg = 1.2 nm (3 PLGA N = 20 oligomer/BSA system)"
   ]
  },
  {
   "cell_type": "code",
   "execution_count": 52,
   "metadata": {},
   "outputs": [],
   "source": [
    "# load the unrestrained trajectory \n",
    "pn15nm_nores = mda.Universe(\"../1.5nm_bsa_prod/1.5res_off/new_conf1.5nm.pdb\"\n",
    "                      , \"../1.5nm_bsa_prod/1.5res_off/pp1_5nmresoff.xtc\")"
   ]
  },
  {
   "cell_type": "markdown",
   "metadata": {},
   "source": [
    "Check that we are on the first frame"
   ]
  },
  {
   "cell_type": "code",
   "execution_count": 53,
   "metadata": {},
   "outputs": [
    {
     "data": {
      "text/plain": [
       "0"
      ]
     },
     "execution_count": 53,
     "metadata": {},
     "output_type": "execute_result"
    }
   ],
   "source": [
    "pn15nm_nores.trajectory.frame"
   ]
  },
  {
   "cell_type": "code",
   "execution_count": 54,
   "metadata": {},
   "outputs": [
    {
     "data": {
      "text/plain": [
       "10001"
      ]
     },
     "execution_count": 54,
     "metadata": {},
     "output_type": "execute_result"
    }
   ],
   "source": [
    "pn20_15nr = len(pn15nm_nores.trajectory)\n",
    "pn20_15nr"
   ]
  },
  {
   "cell_type": "code",
   "execution_count": 55,
   "metadata": {},
   "outputs": [
    {
     "data": {
      "text/plain": [
       "<AtomGroup with 543 atoms>"
      ]
     },
     "execution_count": 55,
     "metadata": {},
     "output_type": "execute_result"
    }
   ],
   "source": [
    "#Select all the PLGA residues, heavy atoms only \n",
    "pn20_all15nr = pn15nm_nores.select_atoms(\"resname sPLG PLG tPLG and not type H\")\n",
    "pn20_all15nr"
   ]
  },
  {
   "cell_type": "code",
   "execution_count": 56,
   "metadata": {},
   "outputs": [
    {
     "data": {
      "text/plain": [
       "<AtomGroup with 4653 atoms>"
      ]
     },
     "execution_count": 56,
     "metadata": {},
     "output_type": "execute_result"
    }
   ],
   "source": [
    "# Select BSA residues, heavy atoms only \n",
    "prot15_nores = pn15nm_nores.select_atoms(\"protein and not type H\")\n",
    "prot15_nores"
   ]
  },
  {
   "cell_type": "markdown",
   "metadata": {},
   "source": [
    "### Contact Analysis"
   ]
  },
  {
   "cell_type": "code",
   "execution_count": 57,
   "metadata": {},
   "outputs": [
    {
     "data": {
      "text/plain": [
       "943.5420586084947"
      ]
     },
     "execution_count": 57,
     "metadata": {},
     "output_type": "execute_result"
    }
   ],
   "source": [
    "#dmax = 4.0, protein group(4653 atoms), plga atom group (543 atoms), took 381.6 s (6 min 36s on 4 cores)\n",
    "start = 0\n",
    "end = pn20_15nr - 1\n",
    "s_time15nr = timeit.default_timer()\n",
    "h2di_15nr = aa_frmcount(prot15_nores, pn20_all15nr, dmax, pn15nm_nores, start, end)\n",
    "timeit.default_timer() - s_time15nr"
   ]
  },
  {
   "cell_type": "code",
   "execution_count": 58,
   "metadata": {},
   "outputs": [
    {
     "data": {
      "text/plain": [
       "153"
      ]
     },
     "execution_count": 58,
     "metadata": {},
     "output_type": "execute_result"
    }
   ],
   "source": [
    "len(h2di_15nr.keys())"
   ]
  },
  {
   "cell_type": "code",
   "execution_count": 60,
   "metadata": {},
   "outputs": [
    {
     "data": {
      "text/html": [
       "<div>\n",
       "<style scoped>\n",
       "    .dataframe tbody tr th:only-of-type {\n",
       "        vertical-align: middle;\n",
       "    }\n",
       "\n",
       "    .dataframe tbody tr th {\n",
       "        vertical-align: top;\n",
       "    }\n",
       "\n",
       "    .dataframe thead th {\n",
       "        text-align: right;\n",
       "    }\n",
       "</style>\n",
       "<table border=\"1\" class=\"dataframe\">\n",
       "  <thead>\n",
       "    <tr style=\"text-align: right;\">\n",
       "      <th></th>\n",
       "      <th>BSA_des_res</th>\n",
       "      <th>mda_1.5nm_nr</th>\n",
       "    </tr>\n",
       "  </thead>\n",
       "  <tbody>\n",
       "    <tr>\n",
       "      <td>0</td>\n",
       "      <td>ASP 1</td>\n",
       "      <td>88.0</td>\n",
       "    </tr>\n",
       "    <tr>\n",
       "      <td>1</td>\n",
       "      <td>THR 2</td>\n",
       "      <td>3838.0</td>\n",
       "    </tr>\n",
       "    <tr>\n",
       "      <td>2</td>\n",
       "      <td>HIS 3</td>\n",
       "      <td>6636.0</td>\n",
       "    </tr>\n",
       "    <tr>\n",
       "      <td>3</td>\n",
       "      <td>LYS 4</td>\n",
       "      <td>7044.0</td>\n",
       "    </tr>\n",
       "    <tr>\n",
       "      <td>4</td>\n",
       "      <td>SER 5</td>\n",
       "      <td>2651.0</td>\n",
       "    </tr>\n",
       "  </tbody>\n",
       "</table>\n",
       "</div>"
      ],
      "text/plain": [
       "  BSA_des_res  mda_1.5nm_nr\n",
       "0       ASP 1          88.0\n",
       "1       THR 2        3838.0\n",
       "2       HIS 3        6636.0\n",
       "3       LYS 4        7044.0\n",
       "4       SER 5        2651.0"
      ]
     },
     "execution_count": 60,
     "metadata": {},
     "output_type": "execute_result"
    }
   ],
   "source": [
    "pr_15nr = list(prot15_nores.residues)\n",
    "ss_15nr = [str(row) for row in pr_15nr]\n",
    "rkg_15nm_nr = {key:h2di_15nr[key][0] for key, value in h2di_15nr.items()}\n",
    "plg_1_5nm_nr = pd.DataFrame(data=ss_15nr, columns=[\"BSA_des_res\"])\n",
    "plg_1_5nm_nr['mda_1.5nm_nr'] = plg_1_5nm_nr['BSA_des_res'].map(rkg_15nm_nr)\n",
    "plg_1_5nm_nr['BSA_des_res'] = red_bsa\n",
    "plg_1_5nm_nr['mda_1.5nm_nr'] = plg_1_5nm_nr['mda_1.5nm_nr'].replace('nan', np.nan).fillna(0)\n",
    "plg_1_5nm_nr.head()"
   ]
  },
  {
   "cell_type": "code",
   "execution_count": 61,
   "metadata": {},
   "outputs": [
    {
     "data": {
      "text/html": [
       "<div>\n",
       "<style scoped>\n",
       "    .dataframe tbody tr th:only-of-type {\n",
       "        vertical-align: middle;\n",
       "    }\n",
       "\n",
       "    .dataframe tbody tr th {\n",
       "        vertical-align: top;\n",
       "    }\n",
       "\n",
       "    .dataframe thead th {\n",
       "        text-align: right;\n",
       "    }\n",
       "</style>\n",
       "<table border=\"1\" class=\"dataframe\">\n",
       "  <thead>\n",
       "    <tr style=\"text-align: right;\">\n",
       "      <th></th>\n",
       "      <th>BSA_des_res</th>\n",
       "      <th>mda_occ_1.2nm_NR</th>\n",
       "      <th>mda_occ_1.5nm_NR</th>\n",
       "    </tr>\n",
       "  </thead>\n",
       "  <tbody>\n",
       "    <tr>\n",
       "      <td>0</td>\n",
       "      <td>&lt;Residue ASP, 1&gt;</td>\n",
       "      <td>0.00</td>\n",
       "      <td>0.01</td>\n",
       "    </tr>\n",
       "    <tr>\n",
       "      <td>1</td>\n",
       "      <td>&lt;Residue THR, 2&gt;</td>\n",
       "      <td>0.00</td>\n",
       "      <td>0.38</td>\n",
       "    </tr>\n",
       "    <tr>\n",
       "      <td>2</td>\n",
       "      <td>&lt;Residue HIS, 3&gt;</td>\n",
       "      <td>0.00</td>\n",
       "      <td>0.66</td>\n",
       "    </tr>\n",
       "    <tr>\n",
       "      <td>3</td>\n",
       "      <td>&lt;Residue LYS, 4&gt;</td>\n",
       "      <td>0.00</td>\n",
       "      <td>0.70</td>\n",
       "    </tr>\n",
       "    <tr>\n",
       "      <td>4</td>\n",
       "      <td>&lt;Residue SER, 5&gt;</td>\n",
       "      <td>0.00</td>\n",
       "      <td>0.27</td>\n",
       "    </tr>\n",
       "    <tr>\n",
       "      <td>...</td>\n",
       "      <td>...</td>\n",
       "      <td>...</td>\n",
       "      <td>...</td>\n",
       "    </tr>\n",
       "    <tr>\n",
       "      <td>578</td>\n",
       "      <td>&lt;Residue GLN, 579&gt;</td>\n",
       "      <td>0.00</td>\n",
       "      <td>0.00</td>\n",
       "    </tr>\n",
       "    <tr>\n",
       "      <td>579</td>\n",
       "      <td>&lt;Residue THR, 580&gt;</td>\n",
       "      <td>0.00</td>\n",
       "      <td>0.00</td>\n",
       "    </tr>\n",
       "    <tr>\n",
       "      <td>580</td>\n",
       "      <td>&lt;Residue ALA, 581&gt;</td>\n",
       "      <td>0.01</td>\n",
       "      <td>0.00</td>\n",
       "    </tr>\n",
       "    <tr>\n",
       "      <td>581</td>\n",
       "      <td>&lt;Residue LEU, 582&gt;</td>\n",
       "      <td>0.00</td>\n",
       "      <td>0.00</td>\n",
       "    </tr>\n",
       "    <tr>\n",
       "      <td>582</td>\n",
       "      <td>&lt;Residue ALA, 583&gt;</td>\n",
       "      <td>0.00</td>\n",
       "      <td>0.00</td>\n",
       "    </tr>\n",
       "  </tbody>\n",
       "</table>\n",
       "<p>583 rows × 3 columns</p>\n",
       "</div>"
      ],
      "text/plain": [
       "            BSA_des_res  mda_occ_1.2nm_NR  mda_occ_1.5nm_NR\n",
       "0      <Residue ASP, 1>              0.00              0.01\n",
       "1      <Residue THR, 2>              0.00              0.38\n",
       "2      <Residue HIS, 3>              0.00              0.66\n",
       "3      <Residue LYS, 4>              0.00              0.70\n",
       "4      <Residue SER, 5>              0.00              0.27\n",
       "..                  ...               ...               ...\n",
       "578  <Residue GLN, 579>              0.00              0.00\n",
       "579  <Residue THR, 580>              0.00              0.00\n",
       "580  <Residue ALA, 581>              0.01              0.00\n",
       "581  <Residue LEU, 582>              0.00              0.00\n",
       "582  <Residue ALA, 583>              0.00              0.00\n",
       "\n",
       "[583 rows x 3 columns]"
      ]
     },
     "execution_count": 61,
     "metadata": {},
     "output_type": "execute_result"
    }
   ],
   "source": [
    "# Extract mean occupancy values\n",
    "pr_res_15ur = list(pn15nm_nores.residues)\n",
    "ss_res_15ur = [str(row) for row in pr_res_15ur]\n",
    "rkg_15ur = {key:h2di_15nr[key][1] for key, value in h2di_15nr.items()}\n",
    "plg_1_2nm_NRocc['mda_occ_1.5nm_NR'] = plg_1_2nm_NRocc['BSA_des_res'].map(rkg_15ur)\n",
    "plg_1_2nm_NRocc['mda_occ_1.5nm_NR'] = plg_1_2nm_NRocc['mda_occ_1.5nm_NR'].replace('nan', np.nan).fillna(0)\n",
    "plg_1_2nm_NRocc['mda_occ_1.5nm_NR'] = plg_1_2nm_NRocc['mda_occ_1.5nm_NR'].round(2)\n",
    "plg_1_2nm_NRocc"
   ]
  },
  {
   "cell_type": "code",
   "execution_count": 63,
   "metadata": {},
   "outputs": [],
   "source": [
    "bsa_r = np.array(list(prot15_nores.resids)) # shape is 4652\n",
    "m_occ_15nmNR = np.array(list(plg_1_2nm_NRocc['mda_occ_1.5nm_NR'])) # shape is 583\n",
    "m_occ15 = np.zeros(shape=(4653))\n",
    "at_ind = np.where(bsa_r[:-1] != bsa_r[1:])[0]\n",
    "at_in_nw = np.sort(np.append([0,4653],at_ind))\n",
    "nw_v = 0\n",
    "for i in range(583):\n",
    "    b = at_in_nw[i+1] +1\n",
    "    m_occ15[nw_v:b] = m_occ_15nmNR[i]\n",
    "    nw_v = at_in_nw[i+1] + 1 "
   ]
  },
  {
   "cell_type": "code",
   "execution_count": 64,
   "metadata": {},
   "outputs": [
    {
     "data": {
      "text/plain": [
       "array([0.01, 0.01, 0.01, 0.01, 0.01, 0.01, 0.01, 0.01])"
      ]
     },
     "execution_count": 64,
     "metadata": {},
     "output_type": "execute_result"
    }
   ],
   "source": [
    "m_occ15[0:8]"
   ]
  },
  {
   "cell_type": "code",
   "execution_count": null,
   "metadata": {},
   "outputs": [],
   "source": [
    "np.nonzero(m_occ)[0]"
   ]
  },
  {
   "cell_type": "markdown",
   "metadata": {},
   "source": [
    "### Visualize Occupanct on protein "
   ]
  },
  {
   "cell_type": "code",
   "execution_count": null,
   "metadata": {},
   "outputs": [],
   "source": [
    "prot15_nores.occupancies = m_occ\n",
    "prot15_nores.occupancies"
   ]
  },
  {
   "cell_type": "code",
   "execution_count": null,
   "metadata": {},
   "outputs": [],
   "source": [
    "with mda.Writer(\"prot_15nmNoRes.pdb\") as pdb:\n",
    "    pdb.write(prot15_nores)"
   ]
  },
  {
   "cell_type": "markdown",
   "metadata": {},
   "source": [
    "### Residue Importance: 1.5 nm Unrestrained "
   ]
  },
  {
   "cell_type": "code",
   "execution_count": null,
   "metadata": {},
   "outputs": [],
   "source": [
    "trj_ppmap15nm_nr = prot_poly_cntmovie(prot15_nores, pn20_all15nr, dmax, pn15nm_nores, 0, 10000)\n",
    "#trj_ppmap_12nm_chC = prot_poly_cntmovie(prot, all_pn20_C, dmax, u_pn20, 0, 10000)"
   ]
  },
  {
   "cell_type": "code",
   "execution_count": null,
   "metadata": {},
   "outputs": [],
   "source": [
    "np.save('1.5nm_NoRes.npy', trj_ppmap15nm_nr)    # .npy extension is added if not given"
   ]
  },
  {
   "cell_type": "code",
   "execution_count": 65,
   "metadata": {},
   "outputs": [],
   "source": [
    "trj_ppmap15nm_nr = np.load('1.5nm_NoRes.npy', allow_pickle=True)"
   ]
  },
  {
   "cell_type": "code",
   "execution_count": 66,
   "metadata": {},
   "outputs": [
    {
     "data": {
      "text/plain": [
       "(583, 60)"
      ]
     },
     "execution_count": 66,
     "metadata": {},
     "output_type": "execute_result"
    }
   ],
   "source": [
    "trj_ppmap15nm_nr[0].shape"
   ]
  },
  {
   "cell_type": "code",
   "execution_count": 67,
   "metadata": {},
   "outputs": [
    {
     "data": {
      "text/plain": [
       "0.0"
      ]
     },
     "execution_count": 67,
     "metadata": {},
     "output_type": "execute_result"
    }
   ],
   "source": [
    "np.sum(trj_ppmap15nm_nr[1000][0])"
   ]
  },
  {
   "cell_type": "code",
   "execution_count": 68,
   "metadata": {},
   "outputs": [
    {
     "data": {
      "text/plain": [
       "(10000,)"
      ]
     },
     "execution_count": 68,
     "metadata": {},
     "output_type": "execute_result"
    }
   ],
   "source": [
    "kj = np.zeros(shape=(10000, 583))\n",
    "kj[:,582].shape"
   ]
  },
  {
   "cell_type": "code",
   "execution_count": 69,
   "metadata": {},
   "outputs": [],
   "source": [
    "pp_15nmNR_ct = np.zeros(shape=(10000, 583))\n",
    "for i in range(10000):\n",
    "    for j in range(583):\n",
    "        pp_15nmNR_ct[i][j] = np.sum(trj_ppmap15nm_nr[i][j])"
   ]
  },
  {
   "cell_type": "code",
   "execution_count": 70,
   "metadata": {},
   "outputs": [],
   "source": [
    "pp_15nmNRtot = np.zeros(shape=(583))\n",
    "for i in range(583):\n",
    "    pp_15nmNRtot[i] = np.sum(pp_15nmNR_ct[:,i])\n",
    "#pp_12nmtot"
   ]
  },
  {
   "cell_type": "code",
   "execution_count": null,
   "metadata": {},
   "outputs": [],
   "source": [
    "np.nonzero(pp_15nmNRtot)"
   ]
  },
  {
   "cell_type": "code",
   "execution_count": null,
   "metadata": {},
   "outputs": [],
   "source": [
    "plt.close('all')"
   ]
  },
  {
   "cell_type": "code",
   "execution_count": 71,
   "metadata": {},
   "outputs": [
    {
     "data": {
      "application/vnd.jupyter.widget-view+json": {
       "model_id": "",
       "version_major": 2,
       "version_minor": 0
      },
      "text/plain": [
       "Canvas(toolbar=Toolbar(toolitems=[('Home', 'Reset original view', 'home', 'home'), ('Back', 'Back to previous …"
      ]
     },
     "metadata": {},
     "output_type": "display_data"
    },
    {
     "data": {
      "text/plain": [
       "Text(0.5, 0, 'BSA Residue ID')"
      ]
     },
     "execution_count": 71,
     "metadata": {},
     "output_type": "execute_result"
    }
   ],
   "source": [
    "y_pos = np.arange(583) + 1\n",
    "wid = np.zeros(shape=583)\n",
    "wid += 1.5\n",
    "#wid\n",
    "fig = plt.figure(figsize=(12,12))\n",
    "fig.canvas.layout.width = '800px'\n",
    "fig.canvas.layout.height = '700px'\n",
    "plt.bar(y_pos+0.25, pp_15nmNRtot, align='center',width=wid, color='#0371EC', alpha=0.4, label='1.5 nm PLGA')\n",
    "plt.bar(y_pos, pp_12nmtot_nr, align='center',width=wid, alpha=0.4, color='#87772C',label='1.2 nm PLGA')\n",
    "plt.title(\"PLGA/BSA 100 ns Unrestrained\", fontsize=14)\n",
    "plt.xticks(fontsize=14)\n",
    "plt.yticks(fontsize=14)\n",
    "plt.xlim([0,600])\n",
    "plt.ylim([0,50000])\n",
    "plt.legend(fontsize=14)\n",
    "plt.ylabel(r'Total No. of PLGA contacts', fontsize=15)\n",
    "plt.xlabel(r'BSA Residue ID', fontsize=15)"
   ]
  },
  {
   "cell_type": "markdown",
   "metadata": {},
   "source": [
    "### Total number of residues that are within 4 angstroms of a PLGA oligomer residue within a 100 ns trajectory block"
   ]
  },
  {
   "cell_type": "code",
   "execution_count": 72,
   "metadata": {},
   "outputs": [
    {
     "data": {
      "text/html": [
       "<div>\n",
       "<style scoped>\n",
       "    .dataframe tbody tr th:only-of-type {\n",
       "        vertical-align: middle;\n",
       "    }\n",
       "\n",
       "    .dataframe tbody tr th {\n",
       "        vertical-align: top;\n",
       "    }\n",
       "\n",
       "    .dataframe thead th {\n",
       "        text-align: right;\n",
       "    }\n",
       "</style>\n",
       "<table border=\"1\" class=\"dataframe\">\n",
       "  <thead>\n",
       "    <tr style=\"text-align: right;\">\n",
       "      <th></th>\n",
       "      <th>Amino_acids</th>\n",
       "      <th>No_of_surf_res (MDAnalysis)</th>\n",
       "      <th>No_of_surf_res (VMD)</th>\n",
       "      <th>plga_1.2nm_100ns_NR</th>\n",
       "      <th>plga_1.5nm_100ns_NR</th>\n",
       "    </tr>\n",
       "  </thead>\n",
       "  <tbody>\n",
       "    <tr>\n",
       "      <td>0</td>\n",
       "      <td>LYS</td>\n",
       "      <td>59</td>\n",
       "      <td>59</td>\n",
       "      <td>9</td>\n",
       "      <td>19</td>\n",
       "    </tr>\n",
       "    <tr>\n",
       "      <td>1</td>\n",
       "      <td>ARG</td>\n",
       "      <td>23</td>\n",
       "      <td>23</td>\n",
       "      <td>3</td>\n",
       "      <td>10</td>\n",
       "    </tr>\n",
       "    <tr>\n",
       "      <td>2</td>\n",
       "      <td>HIS</td>\n",
       "      <td>16</td>\n",
       "      <td>16</td>\n",
       "      <td>0</td>\n",
       "      <td>6</td>\n",
       "    </tr>\n",
       "    <tr>\n",
       "      <td>3</td>\n",
       "      <td>ASP</td>\n",
       "      <td>40</td>\n",
       "      <td>40</td>\n",
       "      <td>4</td>\n",
       "      <td>15</td>\n",
       "    </tr>\n",
       "    <tr>\n",
       "      <td>4</td>\n",
       "      <td>GLU</td>\n",
       "      <td>59</td>\n",
       "      <td>59</td>\n",
       "      <td>7</td>\n",
       "      <td>22</td>\n",
       "    </tr>\n",
       "    <tr>\n",
       "      <td>5</td>\n",
       "      <td>SER</td>\n",
       "      <td>23</td>\n",
       "      <td>23</td>\n",
       "      <td>1</td>\n",
       "      <td>6</td>\n",
       "    </tr>\n",
       "    <tr>\n",
       "      <td>6</td>\n",
       "      <td>THR</td>\n",
       "      <td>29</td>\n",
       "      <td>29</td>\n",
       "      <td>6</td>\n",
       "      <td>11</td>\n",
       "    </tr>\n",
       "    <tr>\n",
       "      <td>7</td>\n",
       "      <td>CYS</td>\n",
       "      <td>24</td>\n",
       "      <td>24</td>\n",
       "      <td>2</td>\n",
       "      <td>6</td>\n",
       "    </tr>\n",
       "    <tr>\n",
       "      <td>8</td>\n",
       "      <td>TYR</td>\n",
       "      <td>19</td>\n",
       "      <td>19</td>\n",
       "      <td>1</td>\n",
       "      <td>2</td>\n",
       "    </tr>\n",
       "    <tr>\n",
       "      <td>9</td>\n",
       "      <td>ASN</td>\n",
       "      <td>14</td>\n",
       "      <td>14</td>\n",
       "      <td>4</td>\n",
       "      <td>4</td>\n",
       "    </tr>\n",
       "    <tr>\n",
       "      <td>10</td>\n",
       "      <td>GLN</td>\n",
       "      <td>19</td>\n",
       "      <td>19</td>\n",
       "      <td>4</td>\n",
       "      <td>6</td>\n",
       "    </tr>\n",
       "    <tr>\n",
       "      <td>11</td>\n",
       "      <td>GLY</td>\n",
       "      <td>11</td>\n",
       "      <td>11</td>\n",
       "      <td>3</td>\n",
       "      <td>5</td>\n",
       "    </tr>\n",
       "    <tr>\n",
       "      <td>12</td>\n",
       "      <td>ALA</td>\n",
       "      <td>39</td>\n",
       "      <td>38</td>\n",
       "      <td>6</td>\n",
       "      <td>10</td>\n",
       "    </tr>\n",
       "    <tr>\n",
       "      <td>13</td>\n",
       "      <td>VAL</td>\n",
       "      <td>19</td>\n",
       "      <td>19</td>\n",
       "      <td>2</td>\n",
       "      <td>5</td>\n",
       "    </tr>\n",
       "    <tr>\n",
       "      <td>14</td>\n",
       "      <td>LEU</td>\n",
       "      <td>34</td>\n",
       "      <td>34</td>\n",
       "      <td>3</td>\n",
       "      <td>12</td>\n",
       "    </tr>\n",
       "    <tr>\n",
       "      <td>15</td>\n",
       "      <td>ILE</td>\n",
       "      <td>7</td>\n",
       "      <td>7</td>\n",
       "      <td>0</td>\n",
       "      <td>2</td>\n",
       "    </tr>\n",
       "    <tr>\n",
       "      <td>16</td>\n",
       "      <td>MET</td>\n",
       "      <td>3</td>\n",
       "      <td>3</td>\n",
       "      <td>0</td>\n",
       "      <td>0</td>\n",
       "    </tr>\n",
       "    <tr>\n",
       "      <td>17</td>\n",
       "      <td>PHE</td>\n",
       "      <td>20</td>\n",
       "      <td>20</td>\n",
       "      <td>1</td>\n",
       "      <td>4</td>\n",
       "    </tr>\n",
       "    <tr>\n",
       "      <td>18</td>\n",
       "      <td>TRP</td>\n",
       "      <td>2</td>\n",
       "      <td>2</td>\n",
       "      <td>0</td>\n",
       "      <td>0</td>\n",
       "    </tr>\n",
       "    <tr>\n",
       "      <td>19</td>\n",
       "      <td>PRO</td>\n",
       "      <td>27</td>\n",
       "      <td>27</td>\n",
       "      <td>3</td>\n",
       "      <td>8</td>\n",
       "    </tr>\n",
       "  </tbody>\n",
       "</table>\n",
       "</div>"
      ],
      "text/plain": [
       "   Amino_acids  No_of_surf_res (MDAnalysis)  No_of_surf_res (VMD)  \\\n",
       "0          LYS                           59                    59   \n",
       "1          ARG                           23                    23   \n",
       "2          HIS                           16                    16   \n",
       "3          ASP                           40                    40   \n",
       "4          GLU                           59                    59   \n",
       "5          SER                           23                    23   \n",
       "6          THR                           29                    29   \n",
       "7          CYS                           24                    24   \n",
       "8          TYR                           19                    19   \n",
       "9          ASN                           14                    14   \n",
       "10         GLN                           19                    19   \n",
       "11         GLY                           11                    11   \n",
       "12         ALA                           39                    38   \n",
       "13         VAL                           19                    19   \n",
       "14         LEU                           34                    34   \n",
       "15         ILE                            7                     7   \n",
       "16         MET                            3                     3   \n",
       "17         PHE                           20                    20   \n",
       "18         TRP                            2                     2   \n",
       "19         PRO                           27                    27   \n",
       "\n",
       "    plga_1.2nm_100ns_NR  plga_1.5nm_100ns_NR  \n",
       "0                     9                   19  \n",
       "1                     3                   10  \n",
       "2                     0                    6  \n",
       "3                     4                   15  \n",
       "4                     7                   22  \n",
       "5                     1                    6  \n",
       "6                     6                   11  \n",
       "7                     2                    6  \n",
       "8                     1                    2  \n",
       "9                     4                    4  \n",
       "10                    4                    6  \n",
       "11                    3                    5  \n",
       "12                    6                   10  \n",
       "13                    2                    5  \n",
       "14                    3                   12  \n",
       "15                    0                    2  \n",
       "16                    0                    0  \n",
       "17                    1                    4  \n",
       "18                    0                    0  \n",
       "19                    3                    8  "
      ]
     },
     "execution_count": 72,
     "metadata": {},
     "output_type": "execute_result"
    }
   ],
   "source": [
    "apl_15nm_nr = []\n",
    "\n",
    "# Some residues don't have any contact with the 3 N = 20 PLGA oligomers within 100 ns,\n",
    "# Put residues that do have contact with BSA in a separate list\n",
    "for index, r_pl in plg_1_5nm_nr.iterrows():\n",
    "    if r_pl['mda_1.5nm_nr'] != 0:\n",
    "        apl_15nm_nr.append(r_pl['BSA_des_res'])\n",
    "        \n",
    "# This chunk of code gets an AA count from the above list, in order \n",
    "# to get a total number of residues that contact BSA\n",
    "cpl_15nm_nr = []\n",
    "\n",
    "for index, r_a in aa_count.iterrows():\n",
    "    count = 0\n",
    "    for i in range(len(apl_15nm_nr)):\n",
    "        if r_a['Amino_acids'] in apl_15nm_nr[i]:\n",
    "            count += 1\n",
    "    cpl_15nm_nr.append(count)      \n",
    "        \n",
    "aa_count['plga_1.5nm_100ns_NR'] = cpl_15nm_nr\n",
    "#aa_count.drop('No_of_surf_res (VMD)', axis=1, inplace=True)\n",
    "aa_count"
   ]
  },
  {
   "cell_type": "code",
   "execution_count": 73,
   "metadata": {},
   "outputs": [
    {
     "data": {
      "text/plain": [
       "153"
      ]
     },
     "execution_count": 73,
     "metadata": {},
     "output_type": "execute_result"
    }
   ],
   "source": [
    "# This gives the total number of residues that are within 4 angstroms of a PLGA oligomer residue\n",
    "# within a 100 ns trajectory block\n",
    "aa_count['plga_1.5nm_100ns_NR'].sum()"
   ]
  },
  {
   "cell_type": "code",
   "execution_count": 74,
   "metadata": {},
   "outputs": [
    {
     "data": {
      "text/plain": [
       "487"
      ]
     },
     "execution_count": 74,
     "metadata": {},
     "output_type": "execute_result"
    }
   ],
   "source": [
    "# This gives the total number of residues that are within 4 angstroms of a water molecule\n",
    "# within a 1 ns trajectory block\n",
    "aa_count['No_of_surf_res (MDAnalysis)'].sum()"
   ]
  },
  {
   "cell_type": "code",
   "execution_count": 75,
   "metadata": {},
   "outputs": [
    {
     "data": {
      "text/plain": [
       "0.3141683778234086"
      ]
     },
     "execution_count": 75,
     "metadata": {},
     "output_type": "execute_result"
    }
   ],
   "source": [
    "# This gives the total fraction of contacts within the 1.2 nm Rg 100 ns trajectory\n",
    "aa_count['plga_1.5nm_100ns_NR'].sum()/aa_count['No_of_surf_res (MDAnalysis)'].sum()"
   ]
  },
  {
   "cell_type": "code",
   "execution_count": 76,
   "metadata": {},
   "outputs": [
    {
     "name": "stdout",
     "output_type": "stream",
     "text": [
      "Mean Occpancy (1.5 nm Rg Unrestrained): 0.41129738562091506 Occ. std. dev.: 0.38573051345826\n"
     ]
    }
   ],
   "source": [
    "# Mean occupancy and std deviation \n",
    "ll_mo15_nr = [value[1] for key, value in h2di_15nr.items()]\n",
    "print(\"Mean Occpancy (1.5 nm Rg Unrestrained): \"+str(np.mean(ll_mo15_nr)), \"Occ. std. dev.: \"+str(np.std(ll_mo15_nr)))"
   ]
  },
  {
   "cell_type": "code",
   "execution_count": 77,
   "metadata": {},
   "outputs": [
    {
     "data": {
      "text/plain": [
       "{'Negative': [163105.0, 37, 674461.2162162162, 0.21755178884426737],\n",
       " 'Positive': [159513.0, 35, 697299.6857142857, 0.22491848358417288],\n",
       " 'Polar': [150588.0, 35, 658284.6857142857, 0.21233394523313726],\n",
       " 'Hydrophobic': [156079.0, 46, 519132.32608695654, 0.16744945961562546],\n",
       " 'Aromatic': [43220.0, 12, 551055.0, 0.17774632272279706]}"
      ]
     },
     "execution_count": 77,
     "metadata": {},
     "output_type": "execute_result"
    }
   ],
   "source": [
    "cd_15nr = frac_cont(h2di_15nr)\n",
    "cd_15nr"
   ]
  },
  {
   "cell_type": "markdown",
   "metadata": {},
   "source": [
    "### Calc. fractional contacts for each AA group type "
   ]
  },
  {
   "cell_type": "code",
   "execution_count": 78,
   "metadata": {},
   "outputs": [
    {
     "name": "stdout",
     "output_type": "stream",
     "text": [
      "0\n",
      "2000\n",
      "2000\n",
      "4000\n",
      "4000\n",
      "6000\n",
      "6000\n",
      "8000\n",
      "8000\n",
      "10000\n"
     ]
    }
   ],
   "source": [
    "fcntrg1_5nm_nr, prgrp1_5nm_nr, aamatx_15nm_nr = bavg_frac_cnt(5, prot15_nores, pn20_all15nr, dmax,\n",
    "                                                        pn15nm_nores, no_surf, 0, 10000)"
   ]
  },
  {
   "cell_type": "code",
   "execution_count": 79,
   "metadata": {},
   "outputs": [
    {
     "data": {
      "text/plain": [
       "{'Negative': array([0.21290275, 0.21089677, 0.17656193, 0.20270584, 0.20340443]),\n",
       " 'Positive': array([0.20929357, 0.19868204, 0.21289176, 0.20685673, 0.19498902]),\n",
       " 'Polar': array([0.24804031, 0.22174973, 0.19192209, 0.20815634, 0.20606201]),\n",
       " 'Hydrophobic': array([0.18593079, 0.16820837, 0.16279642, 0.16832093, 0.16940889]),\n",
       " 'Aromatic': array([0.14383258, 0.20046309, 0.25582781, 0.21396016, 0.22613565]),\n",
       " 'total_frac': array([0.23613963, 0.23819302, 0.23613963, 0.25051335, 0.22792608])}"
      ]
     },
     "execution_count": 79,
     "metadata": {},
     "output_type": "execute_result"
    }
   ],
   "source": [
    "fcntrg1_5nm_nr"
   ]
  },
  {
   "cell_type": "code",
   "execution_count": 80,
   "metadata": {},
   "outputs": [
    {
     "data": {
      "text/plain": [
       "array([0.20129435, 0.20454263, 0.2151861 , 0.17093308, 0.20804386])"
      ]
     },
     "execution_count": 80,
     "metadata": {},
     "output_type": "execute_result"
    }
   ],
   "source": [
    "fc15nm_mean_nr = np.array([np.mean(fcntrg1_5nm_nr['Negative']), np.mean(fcntrg1_5nm_nr['Positive'])\n",
    "                        ,np.mean(fcntrg1_5nm_nr['Polar']),np.mean(fcntrg1_5nm_nr['Hydrophobic'])\n",
    "                        , np.mean(fcntrg1_5nm_nr['Aromatic'])])\n",
    "fc15nm_mean_nr"
   ]
  },
  {
   "cell_type": "code",
   "execution_count": 81,
   "metadata": {},
   "outputs": [
    {
     "data": {
      "text/plain": [
       "array([0.01300076, 0.0066821 , 0.01895448, 0.00784484, 0.03694909])"
      ]
     },
     "execution_count": 81,
     "metadata": {},
     "output_type": "execute_result"
    }
   ],
   "source": [
    "fc15nm_std_nr = np.array([np.std(fcntrg1_5nm_nr['Negative']), np.std(fcntrg1_5nm_nr['Positive'])\n",
    "                       ,np.std(fcntrg1_5nm_nr['Polar']),np.std(fcntrg1_5nm_nr['Hydrophobic'])\n",
    "                       , np.std(fcntrg1_5nm_nr['Aromatic'])])\n",
    "fc15nm_std_nr"
   ]
  },
  {
   "cell_type": "code",
   "execution_count": 115,
   "metadata": {},
   "outputs": [
    {
     "data": {
      "application/vnd.jupyter.widget-view+json": {
       "model_id": "",
       "version_major": 2,
       "version_minor": 0
      },
      "text/plain": [
       "Canvas(toolbar=Toolbar(toolitems=[('Home', 'Reset original view', 'home', 'home'), ('Back', 'Back to previous …"
      ]
     },
     "metadata": {},
     "output_type": "display_data"
    },
    {
     "data": {
      "text/plain": [
       "Text(0, 0.5, 'Fractional Contacts')"
      ]
     },
     "execution_count": 115,
     "metadata": {},
     "output_type": "execute_result"
    }
   ],
   "source": [
    "x_pos = np.arange(5)\n",
    "width = 0.35\n",
    "aa_types = [\"Negative\", \"Positive\", \"Polar\", \"Hydrophobic\", \"Aromatic\"]\n",
    "plt.figure(figsize=(7,7))\n",
    "plt.bar(x_pos, fc_12nmnr_mean, width, yerr=fc_12nmnr_std, ecolor='black',capsize=5, color='royalblue')\n",
    "plt.bar(x_pos+width, fc15nm_mean_nr, width, yerr=fc15nm_std_nr, ecolor='black',capsize=5, color='c')\n",
    "plt.title(r'Fractional Contacts Rg unrestrained', fontsize=15)\n",
    "plt.xticks(x_pos+width/2, labels=aa_types, fontsize=12)\n",
    "plt.legend(['Rg = 1.2 nm', 'Rg = 1.5 nm'], frameon=False)\n",
    "plt.ylabel(r'Fractional Contacts', fontsize=15)"
   ]
  },
  {
   "cell_type": "markdown",
   "metadata": {},
   "source": [
    "### Total fraction of contacts: averages and std dev calc from 5 20ns blocks"
   ]
  },
  {
   "cell_type": "code",
   "execution_count": 83,
   "metadata": {},
   "outputs": [
    {
     "data": {
      "text/plain": [
       "0.23778234086242298"
      ]
     },
     "execution_count": 83,
     "metadata": {},
     "output_type": "execute_result"
    }
   ],
   "source": [
    "np.mean(fcntrg1_5nm_nr['total_frac'])"
   ]
  },
  {
   "cell_type": "code",
   "execution_count": 84,
   "metadata": {},
   "outputs": [
    {
     "data": {
      "text/plain": [
       "0.007277225932923757"
      ]
     },
     "execution_count": 84,
     "metadata": {},
     "output_type": "execute_result"
    }
   ],
   "source": [
    "np.std(fcntrg1_5nm_nr['total_frac'])"
   ]
  },
  {
   "cell_type": "code",
   "execution_count": null,
   "metadata": {},
   "outputs": [],
   "source": []
  },
  {
   "cell_type": "markdown",
   "metadata": {},
   "source": [
    "### Avg no. PLGA residues per BSA AA residue group "
   ]
  },
  {
   "cell_type": "code",
   "execution_count": null,
   "metadata": {},
   "outputs": [],
   "source": [
    "prgrp1_5nm_nr"
   ]
  },
  {
   "cell_type": "code",
   "execution_count": null,
   "metadata": {},
   "outputs": [],
   "source": [
    "mean_15nm_nr = np.zeros(shape=5)\n",
    "std_15nm_nr = np.zeros(shape=5)\n",
    "count = 0\n",
    "for key, value in prgrp1_5nm_nr.items():\n",
    "    mpl_15nm_nr = []\n",
    "    var_15nm_nr = []\n",
    "    for i in prgrp1_5nm_nr[str(key)].flat:\n",
    "        mpl_15nm_nr.append(i[0])\n",
    "        var_15nm_nr.append((i[1])**2)\n",
    "    \n",
    "    # calc frac cont averages\n",
    "    mean_15nm_nr[count] = np.mean(mpl_15nm_nr)\n",
    "    \n",
    "    # calc frac cont std dev: https://stats.stackexchange.com/questions/25848/how-to-sum-a-standard-deviation \n",
    "    std_15nm_nr[count] = np.std(mpl_15nm_nr)\n",
    "    #std_15nm_nr[count] = np.sqrt(np.sum(var_15nm_nr)/5)\n",
    "    \n",
    "    count += 1\n"
   ]
  },
  {
   "cell_type": "code",
   "execution_count": null,
   "metadata": {},
   "outputs": [],
   "source": [
    "mean_15nm_nr"
   ]
  },
  {
   "cell_type": "code",
   "execution_count": null,
   "metadata": {},
   "outputs": [],
   "source": [
    "std_15nm_nr"
   ]
  },
  {
   "cell_type": "code",
   "execution_count": null,
   "metadata": {},
   "outputs": [],
   "source": [
    "x_pos = np.arange(5)\n",
    "width = 0.35\n",
    "aa_types = [\"Negative\", \"Positive\", \"Polar\", \"Hydrophobic\", \"Aromatic\"]\n",
    "plt.figure(figsize=(7,7))\n",
    "plt.bar(x_pos, mean_12nm_nr, width, yerr=std_12nm_nr, ecolor='black',capsize=5, color='green')\n",
    "plt.bar(x_pos+width, mean_15nm_nr, width, yerr=std_15nm_nr, ecolor='black',capsize=5, color='violet')\n",
    "plt.title(r'No. of PLGA residues Rg unrestrained', fontsize=15)\n",
    "plt.xticks(x_pos+width/2, labels=aa_types, fontsize=12)\n",
    "plt.legend(['Rg = 1.2 nm', 'Rg = 1.5 nm'], frameon=False)\n",
    "plt.ylabel(r'No. of PLGA residues', fontsize=15)"
   ]
  },
  {
   "cell_type": "markdown",
   "metadata": {},
   "source": [
    "### Protein/polymer contact map movie"
   ]
  },
  {
   "cell_type": "code",
   "execution_count": null,
   "metadata": {},
   "outputs": [],
   "source": [
    "trj_ppmap15nm_nr = prot_poly_cntmovie(prot15_nores, pn20_all15nr, dmax, pn15nm_nores, 0, 10000)\n",
    "#trj_ppmap_12nm_chC = prot_poly_cntmovie(prot, all_pn20_C, dmax, u_pn20, 0, 10000)"
   ]
  },
  {
   "cell_type": "code",
   "execution_count": null,
   "metadata": {},
   "outputs": [],
   "source": [
    "np.save('1.5nm_NoRes.npy', trj_ppmap15nm_nr)    # .npy extension is added if not given"
   ]
  },
  {
   "cell_type": "code",
   "execution_count": null,
   "metadata": {},
   "outputs": [],
   "source": [
    "fig = plt.figure(figsize=(10,10))\n",
    "\n",
    "# Set the axis and the plot titles pp\n",
    "\n",
    "plt.title(\"BSA/PLGA contact map 1.5 nm Unres\", fontsize=22, loc='left')\n",
    "plt.xlabel(\"PLGA Residue No.\", fontsize=22)\n",
    "plt.ylabel(\"BSA Residue No.\", fontsize=20)\n",
    "\n",
    " # Set the axis range \n",
    "plt.ylim(583, 0)\n",
    "plt.xlim(0, 60)\n",
    "\n",
    "# Plot bands for each chain \n",
    "BANDS = (\n",
    "    (0, 20, \"purple\", \"B\"),\n",
    "    (20, 40, \"blue\", \"C\"),\n",
    "    (40, 60, \"green\", \"D\"),\n",
    ")\n",
    "    \n",
    "text_y = 0.98 # Close to the top\n",
    "for start, stop, color, band in BANDS:\n",
    "    plt.axvspan(start, stop,color=color, alpha=0.15)\n",
    "    text_x = middle_of_band(start,stop)\n",
    "    plt.text(\n",
    "        text_x,\n",
    "        text_y,\n",
    "        \"PLGA chain \" + band,\n",
    "        color=color,\n",
    "        fontsize=18,\n",
    "        transform=fig.gca().transAxes,\n",
    "        horizontalalignment='center',\n",
    "        verticalalignment='center',\n",
    "        style='italic',\n",
    "    )\n",
    "    \n",
    "plt.text(0.94, 1, \"Time [ns]:\", fontsize=20, transform=fig.gca().transAxes, horizontalalignment='right', verticalalignment='bottom')\n",
    "\n",
    "# Set tick label size\n",
    "fig.gca().tick_params(axis='both', which='major', labelsize=20)\n",
    "\n",
    "ims = []\n",
    "for i in range(10000):\n",
    "    data = trj_ppmap15nm_nr[i]\n",
    "    im = plt.imshow(data, aspect='auto', cmap='Greys')\n",
    "    t_sim = plt.text(1.03, 1, str(i/100), fontsize=20, transform=fig.gca().transAxes, horizontalalignment='right', verticalalignment='bottom')\n",
    "    ims.append([im, t_sim])\n",
    "    \n",
    "ani = animation.ArtistAnimation(fig, ims, blit=True, repeat=False)\n",
    "ani.save('1.5nm_NoRes.mp4', writer='ffmpeg', fps=50, bitrate=100000)\n",
    "#plt.tight_layout()\n",
    "#plt.show()"
   ]
  },
  {
   "cell_type": "markdown",
   "metadata": {},
   "source": [
    "# 2 nm PLGA unrestrained Rg 100 ns trajectory"
   ]
  },
  {
   "cell_type": "markdown",
   "metadata": {},
   "source": [
    "Load the rg = 1.2 nm (3 PLGA N = 20 oligomer/BSA system)"
   ]
  },
  {
   "cell_type": "code",
   "execution_count": 85,
   "metadata": {},
   "outputs": [],
   "source": [
    "# load the unrestrained trajectory \n",
    "pn2nm_nores = mda.Universe(\"../2nm_bsa_prod/2nmres_off/new_conf2nmnm.pdb\"\n",
    "                      , \"../2nm_bsa_prod/2nmres_off/pp_resoffnopbc.xtc\")"
   ]
  },
  {
   "cell_type": "markdown",
   "metadata": {},
   "source": [
    "Check that we are on the first frame"
   ]
  },
  {
   "cell_type": "code",
   "execution_count": 86,
   "metadata": {},
   "outputs": [
    {
     "data": {
      "text/plain": [
       "0"
      ]
     },
     "execution_count": 86,
     "metadata": {},
     "output_type": "execute_result"
    }
   ],
   "source": [
    "pn2nm_nores.trajectory.frame"
   ]
  },
  {
   "cell_type": "code",
   "execution_count": 87,
   "metadata": {},
   "outputs": [
    {
     "data": {
      "text/plain": [
       "10001"
      ]
     },
     "execution_count": 87,
     "metadata": {},
     "output_type": "execute_result"
    }
   ],
   "source": [
    "p2nm_len_nr = len(pn2nm_nores.trajectory)\n",
    "p2nm_len_nr"
   ]
  },
  {
   "cell_type": "code",
   "execution_count": 88,
   "metadata": {},
   "outputs": [
    {
     "data": {
      "text/plain": [
       "<AtomGroup with 543 atoms>"
      ]
     },
     "execution_count": 88,
     "metadata": {},
     "output_type": "execute_result"
    }
   ],
   "source": [
    "#Select all the PLGA residues, heavy atoms only \n",
    "p2nm_allnr = pn2nm_nores.select_atoms(\"resname sPLG PLG tPLG and not type H\")\n",
    "p2nm_allnr"
   ]
  },
  {
   "cell_type": "code",
   "execution_count": 89,
   "metadata": {},
   "outputs": [
    {
     "data": {
      "text/plain": [
       "<AtomGroup with 4653 atoms>"
      ]
     },
     "execution_count": 89,
     "metadata": {},
     "output_type": "execute_result"
    }
   ],
   "source": [
    "# Select BSA residues, heavy atoms only \n",
    "prot2nm_nores = pn2nm_nores.select_atoms(\"protein and not type H\")\n",
    "prot2nm_nores"
   ]
  },
  {
   "cell_type": "markdown",
   "metadata": {},
   "source": [
    "### Calc. total fraction of contacts"
   ]
  },
  {
   "cell_type": "code",
   "execution_count": 90,
   "metadata": {},
   "outputs": [
    {
     "data": {
      "text/plain": [
       "676.4039867212996"
      ]
     },
     "execution_count": 90,
     "metadata": {},
     "output_type": "execute_result"
    }
   ],
   "source": [
    "#dmax = 4.0, protein group(4653 atoms), plga atom group (543 atoms), took 381.6 s (6 min 36s on 4 cores)\n",
    "start = 0\n",
    "end = p2nm_len_nr - 1\n",
    "s_time = timeit.default_timer()\n",
    "h2di_2nr = aa_frmcount(prot2nm_nores, p2nm_allnr, dmax, pn2nm_nores, start, end)\n",
    "timeit.default_timer() - s_time"
   ]
  },
  {
   "cell_type": "code",
   "execution_count": 91,
   "metadata": {},
   "outputs": [
    {
     "data": {
      "text/plain": [
       "162"
      ]
     },
     "execution_count": 91,
     "metadata": {},
     "output_type": "execute_result"
    }
   ],
   "source": [
    "len(h2di_2nr.keys())"
   ]
  },
  {
   "cell_type": "code",
   "execution_count": 107,
   "metadata": {},
   "outputs": [
    {
     "data": {
      "text/html": [
       "<div>\n",
       "<style scoped>\n",
       "    .dataframe tbody tr th:only-of-type {\n",
       "        vertical-align: middle;\n",
       "    }\n",
       "\n",
       "    .dataframe tbody tr th {\n",
       "        vertical-align: top;\n",
       "    }\n",
       "\n",
       "    .dataframe thead th {\n",
       "        text-align: right;\n",
       "    }\n",
       "</style>\n",
       "<table border=\"1\" class=\"dataframe\">\n",
       "  <thead>\n",
       "    <tr style=\"text-align: right;\">\n",
       "      <th></th>\n",
       "      <th>BSA_des_res</th>\n",
       "      <th>mda_2nm_nr</th>\n",
       "    </tr>\n",
       "  </thead>\n",
       "  <tbody>\n",
       "    <tr>\n",
       "      <td>0</td>\n",
       "      <td>ASP 1</td>\n",
       "      <td>0.0</td>\n",
       "    </tr>\n",
       "    <tr>\n",
       "      <td>1</td>\n",
       "      <td>THR 2</td>\n",
       "      <td>0.0</td>\n",
       "    </tr>\n",
       "    <tr>\n",
       "      <td>2</td>\n",
       "      <td>HIS 3</td>\n",
       "      <td>0.0</td>\n",
       "    </tr>\n",
       "    <tr>\n",
       "      <td>3</td>\n",
       "      <td>LYS 4</td>\n",
       "      <td>0.0</td>\n",
       "    </tr>\n",
       "    <tr>\n",
       "      <td>4</td>\n",
       "      <td>SER 5</td>\n",
       "      <td>0.0</td>\n",
       "    </tr>\n",
       "  </tbody>\n",
       "</table>\n",
       "</div>"
      ],
      "text/plain": [
       "  BSA_des_res  mda_2nm_nr\n",
       "0       ASP 1         0.0\n",
       "1       THR 2         0.0\n",
       "2       HIS 3         0.0\n",
       "3       LYS 4         0.0\n",
       "4       SER 5         0.0"
      ]
     },
     "execution_count": 107,
     "metadata": {},
     "output_type": "execute_result"
    }
   ],
   "source": [
    "pr_2nr = list(prot2nm_nores.residues)\n",
    "ss_2nr = [str(row) for row in pr_2nr]\n",
    "rkg_2nm = {key:h2di_2nr[key][0] for key, value in h2di_2nr.items()}\n",
    "plg_2nm_nr = pd.DataFrame(data=ss_2nr, columns=[\"BSA_des_res\"])\n",
    "plg_2nm_nr['mda_2nm_nr'] = plg_2nm_nr['BSA_des_res'].map(rkg_2nm)\n",
    "plg_2nm_nr['BSA_des_res'] = red_bsa\n",
    "plg_2nm_nr['mda_2nm_nr'] = plg_2nm_nr['mda_2nm_nr'].replace('nan', np.nan).fillna(0)\n",
    "plg_2nm_nr.head()"
   ]
  },
  {
   "cell_type": "code",
   "execution_count": 24,
   "metadata": {},
   "outputs": [
    {
     "data": {
      "text/html": [
       "<div>\n",
       "<style scoped>\n",
       "    .dataframe tbody tr th:only-of-type {\n",
       "        vertical-align: middle;\n",
       "    }\n",
       "\n",
       "    .dataframe tbody tr th {\n",
       "        vertical-align: top;\n",
       "    }\n",
       "\n",
       "    .dataframe thead th {\n",
       "        text-align: right;\n",
       "    }\n",
       "</style>\n",
       "<table border=\"1\" class=\"dataframe\">\n",
       "  <thead>\n",
       "    <tr style=\"text-align: right;\">\n",
       "      <th></th>\n",
       "      <th>BSA_des_res</th>\n",
       "      <th>mda_occ_1.2nm_NR</th>\n",
       "    </tr>\n",
       "  </thead>\n",
       "  <tbody>\n",
       "    <tr>\n",
       "      <td>0</td>\n",
       "      <td>&lt;Residue ASP, 1&gt;</td>\n",
       "      <td>0.00</td>\n",
       "    </tr>\n",
       "    <tr>\n",
       "      <td>1</td>\n",
       "      <td>&lt;Residue THR, 2&gt;</td>\n",
       "      <td>0.00</td>\n",
       "    </tr>\n",
       "    <tr>\n",
       "      <td>2</td>\n",
       "      <td>&lt;Residue HIS, 3&gt;</td>\n",
       "      <td>0.00</td>\n",
       "    </tr>\n",
       "    <tr>\n",
       "      <td>3</td>\n",
       "      <td>&lt;Residue LYS, 4&gt;</td>\n",
       "      <td>0.00</td>\n",
       "    </tr>\n",
       "    <tr>\n",
       "      <td>4</td>\n",
       "      <td>&lt;Residue SER, 5&gt;</td>\n",
       "      <td>0.00</td>\n",
       "    </tr>\n",
       "    <tr>\n",
       "      <td>...</td>\n",
       "      <td>...</td>\n",
       "      <td>...</td>\n",
       "    </tr>\n",
       "    <tr>\n",
       "      <td>578</td>\n",
       "      <td>&lt;Residue GLN, 579&gt;</td>\n",
       "      <td>0.00</td>\n",
       "    </tr>\n",
       "    <tr>\n",
       "      <td>579</td>\n",
       "      <td>&lt;Residue THR, 580&gt;</td>\n",
       "      <td>0.00</td>\n",
       "    </tr>\n",
       "    <tr>\n",
       "      <td>580</td>\n",
       "      <td>&lt;Residue ALA, 581&gt;</td>\n",
       "      <td>0.01</td>\n",
       "    </tr>\n",
       "    <tr>\n",
       "      <td>581</td>\n",
       "      <td>&lt;Residue LEU, 582&gt;</td>\n",
       "      <td>0.00</td>\n",
       "    </tr>\n",
       "    <tr>\n",
       "      <td>582</td>\n",
       "      <td>&lt;Residue ALA, 583&gt;</td>\n",
       "      <td>0.00</td>\n",
       "    </tr>\n",
       "  </tbody>\n",
       "</table>\n",
       "<p>583 rows × 2 columns</p>\n",
       "</div>"
      ],
      "text/plain": [
       "            BSA_des_res  mda_occ_1.2nm_NR\n",
       "0      <Residue ASP, 1>              0.00\n",
       "1      <Residue THR, 2>              0.00\n",
       "2      <Residue HIS, 3>              0.00\n",
       "3      <Residue LYS, 4>              0.00\n",
       "4      <Residue SER, 5>              0.00\n",
       "..                  ...               ...\n",
       "578  <Residue GLN, 579>              0.00\n",
       "579  <Residue THR, 580>              0.00\n",
       "580  <Residue ALA, 581>              0.01\n",
       "581  <Residue LEU, 582>              0.00\n",
       "582  <Residue ALA, 583>              0.00\n",
       "\n",
       "[583 rows x 2 columns]"
      ]
     },
     "execution_count": 24,
     "metadata": {},
     "output_type": "execute_result"
    }
   ],
   "source": [
    "# Extract mean occupancy values\n",
    "pr_res_2ur = list(prot2nm_nores.residues)\n",
    "ss_res_2ur = [str(row) for row in pr_res_2ur]\n",
    "rkg_15ur = {key:h2di_2nr[key][1] for key, value in h2di_2nr.items()}\n",
    "plg_1_2nm_NRocc['mda_occ_2nm_NR'] = plg_1_2nm_NRocc['BSA_des_res'].map(rkg_2ur)\n",
    "plg_1_2nm_NRocc['mda_occ_2nm_NR'] = plg_1_2nm_NRocc['mda_occ_2nm_NR'].replace('nan', np.nan).fillna(0)\n",
    "plg_1_2nm_NRocc['mda_occ_2nm_NR'] = plg_1_2nm_NRocc['mda_occ_2nm_NR'].round(2)\n",
    "plg_1_2nm_NRocc"
   ]
  },
  {
   "cell_type": "code",
   "execution_count": 128,
   "metadata": {},
   "outputs": [
    {
     "data": {
      "text/html": [
       "<div>\n",
       "<style scoped>\n",
       "    .dataframe tbody tr th:only-of-type {\n",
       "        vertical-align: middle;\n",
       "    }\n",
       "\n",
       "    .dataframe tbody tr th {\n",
       "        vertical-align: top;\n",
       "    }\n",
       "\n",
       "    .dataframe thead th {\n",
       "        text-align: right;\n",
       "    }\n",
       "</style>\n",
       "<table border=\"1\" class=\"dataframe\">\n",
       "  <thead>\n",
       "    <tr style=\"text-align: right;\">\n",
       "      <th></th>\n",
       "      <th>BSA_des_res</th>\n",
       "      <th>mda_occ_1.2nm_NR</th>\n",
       "      <th>mda_occ_1.5nm_NR</th>\n",
       "      <th>mda_occ_2nm_NR</th>\n",
       "    </tr>\n",
       "  </thead>\n",
       "  <tbody>\n",
       "    <tr>\n",
       "      <td>0</td>\n",
       "      <td>&lt;Residue ASP, 1&gt;</td>\n",
       "      <td>0.00</td>\n",
       "      <td>0.01</td>\n",
       "      <td>0.00</td>\n",
       "    </tr>\n",
       "    <tr>\n",
       "      <td>1</td>\n",
       "      <td>&lt;Residue THR, 2&gt;</td>\n",
       "      <td>0.00</td>\n",
       "      <td>0.38</td>\n",
       "      <td>0.00</td>\n",
       "    </tr>\n",
       "    <tr>\n",
       "      <td>2</td>\n",
       "      <td>&lt;Residue HIS, 3&gt;</td>\n",
       "      <td>0.00</td>\n",
       "      <td>0.66</td>\n",
       "      <td>0.00</td>\n",
       "    </tr>\n",
       "    <tr>\n",
       "      <td>3</td>\n",
       "      <td>&lt;Residue LYS, 4&gt;</td>\n",
       "      <td>0.00</td>\n",
       "      <td>0.70</td>\n",
       "      <td>0.00</td>\n",
       "    </tr>\n",
       "    <tr>\n",
       "      <td>4</td>\n",
       "      <td>&lt;Residue SER, 5&gt;</td>\n",
       "      <td>0.00</td>\n",
       "      <td>0.27</td>\n",
       "      <td>0.00</td>\n",
       "    </tr>\n",
       "    <tr>\n",
       "      <td>...</td>\n",
       "      <td>...</td>\n",
       "      <td>...</td>\n",
       "      <td>...</td>\n",
       "      <td>...</td>\n",
       "    </tr>\n",
       "    <tr>\n",
       "      <td>578</td>\n",
       "      <td>&lt;Residue GLN, 579&gt;</td>\n",
       "      <td>0.00</td>\n",
       "      <td>0.00</td>\n",
       "      <td>0.97</td>\n",
       "    </tr>\n",
       "    <tr>\n",
       "      <td>579</td>\n",
       "      <td>&lt;Residue THR, 580&gt;</td>\n",
       "      <td>0.00</td>\n",
       "      <td>0.00</td>\n",
       "      <td>0.95</td>\n",
       "    </tr>\n",
       "    <tr>\n",
       "      <td>580</td>\n",
       "      <td>&lt;Residue ALA, 581&gt;</td>\n",
       "      <td>0.01</td>\n",
       "      <td>0.00</td>\n",
       "      <td>0.50</td>\n",
       "    </tr>\n",
       "    <tr>\n",
       "      <td>581</td>\n",
       "      <td>&lt;Residue LEU, 582&gt;</td>\n",
       "      <td>0.00</td>\n",
       "      <td>0.00</td>\n",
       "      <td>0.12</td>\n",
       "    </tr>\n",
       "    <tr>\n",
       "      <td>582</td>\n",
       "      <td>&lt;Residue ALA, 583&gt;</td>\n",
       "      <td>0.00</td>\n",
       "      <td>0.00</td>\n",
       "      <td>0.31</td>\n",
       "    </tr>\n",
       "  </tbody>\n",
       "</table>\n",
       "<p>583 rows × 4 columns</p>\n",
       "</div>"
      ],
      "text/plain": [
       "            BSA_des_res  mda_occ_1.2nm_NR  mda_occ_1.5nm_NR  mda_occ_2nm_NR\n",
       "0      <Residue ASP, 1>              0.00              0.01            0.00\n",
       "1      <Residue THR, 2>              0.00              0.38            0.00\n",
       "2      <Residue HIS, 3>              0.00              0.66            0.00\n",
       "3      <Residue LYS, 4>              0.00              0.70            0.00\n",
       "4      <Residue SER, 5>              0.00              0.27            0.00\n",
       "..                  ...               ...               ...             ...\n",
       "578  <Residue GLN, 579>              0.00              0.00            0.97\n",
       "579  <Residue THR, 580>              0.00              0.00            0.95\n",
       "580  <Residue ALA, 581>              0.01              0.00            0.50\n",
       "581  <Residue LEU, 582>              0.00              0.00            0.12\n",
       "582  <Residue ALA, 583>              0.00              0.00            0.31\n",
       "\n",
       "[583 rows x 4 columns]"
      ]
     },
     "execution_count": 128,
     "metadata": {},
     "output_type": "execute_result"
    }
   ],
   "source": [
    "# Extract mean occupancy values\n",
    "pr_res_2ur = list(prot2nm_nores.residues)\n",
    "ss_res_2ur = [str(row) for row in pr_res_2ur]\n",
    "rkg_2ur = {key:h2di_2nr[key][1] for key, value in h2di_2nr.items()}\n",
    "plg_1_2nm_NRocc['mda_occ_2nm_NR'] = plg_1_2nm_NRocc['BSA_des_res'].map(rkg_2ur)\n",
    "plg_1_2nm_NRocc['mda_occ_2nm_NR'] = plg_1_2nm_NRocc['mda_occ_2nm_NR'].replace('nan', np.nan).fillna(0)\n",
    "plg_1_2nm_NRocc['mda_occ_2nm_NR'] = plg_1_2nm_NRocc['mda_occ_2nm_NR'].round(2)\n",
    "plg_1_2nm_NRocc"
   ]
  },
  {
   "cell_type": "code",
   "execution_count": 129,
   "metadata": {},
   "outputs": [
    {
     "data": {
      "text/plain": [
       "(4653,)"
      ]
     },
     "execution_count": 129,
     "metadata": {},
     "output_type": "execute_result"
    }
   ],
   "source": [
    "m_occ = np.zeros(shape=(4653))\n",
    "m_occ.shape"
   ]
  },
  {
   "cell_type": "code",
   "execution_count": 130,
   "metadata": {},
   "outputs": [],
   "source": [
    "bsa_r = np.array(list(prot2nm_nores.resids)) # shape is 4652\n",
    "m_occ_2nmNR = np.array(list(plg_1_2nm_NRocc['mda_occ_2nm_NR'])) # shape is 583\n",
    "m_occ = np.zeros(shape=(4653))\n",
    "at_ind = np.where(bsa_r[:-1] != bsa_r[1:])[0]\n",
    "at_in_nw = np.sort(np.append([0,4653],at_ind))\n",
    "nw_v = 0\n",
    "for i in range(583):\n",
    "    b = at_in_nw[i+1] +1\n",
    "    m_occ[nw_v:b] = m_occ_2nmNR[i]\n",
    "    nw_v = at_in_nw[i+1] + 1 "
   ]
  },
  {
   "cell_type": "code",
   "execution_count": 131,
   "metadata": {},
   "outputs": [
    {
     "data": {
      "text/plain": [
       "array([0., 0., 0., 0., 0., 0., 0., 0., 0., 0., 0., 0., 0.])"
      ]
     },
     "execution_count": 131,
     "metadata": {},
     "output_type": "execute_result"
    }
   ],
   "source": [
    "m_occ[633:646]"
   ]
  },
  {
   "cell_type": "markdown",
   "metadata": {},
   "source": [
    "### Visualize Occupanct on protein "
   ]
  },
  {
   "cell_type": "code",
   "execution_count": 132,
   "metadata": {},
   "outputs": [
    {
     "data": {
      "text/plain": [
       "array([0.  , 0.  , 0.  , ..., 0.31, 0.31, 0.31])"
      ]
     },
     "execution_count": 132,
     "metadata": {},
     "output_type": "execute_result"
    }
   ],
   "source": [
    "prot2nm_nores.occupancies = m_occ\n",
    "prot2nm_nores.occupancies"
   ]
  },
  {
   "cell_type": "code",
   "execution_count": 133,
   "metadata": {},
   "outputs": [],
   "source": [
    "with mda.Writer(\"prot_2nmNoRes.pdb\") as pdb:\n",
    "    pdb.write(prot2nm_nores)"
   ]
  },
  {
   "cell_type": "markdown",
   "metadata": {},
   "source": [
    "### Residue Importance: 2 nm Unrestrained "
   ]
  },
  {
   "cell_type": "code",
   "execution_count": null,
   "metadata": {},
   "outputs": [],
   "source": [
    "trj_ppmap2nm_nr = prot_poly_cntmovie(prot2nm_nores, p2nm_allnr, dmax, pn2nm_nores, 0, 10000)\n",
    "#trj_ppmap_12nm_chC = prot_poly_cntmovie(prot, all_pn20_C, dmax, u_pn20, 0, 10000)"
   ]
  },
  {
   "cell_type": "code",
   "execution_count": null,
   "metadata": {},
   "outputs": [],
   "source": [
    "trj_ppmap2nm_nr.shape"
   ]
  },
  {
   "cell_type": "code",
   "execution_count": null,
   "metadata": {},
   "outputs": [],
   "source": [
    "np.save('2nm_NoRes.npy', trj_ppmap2nm_nr)    # .npy extension is added if not given"
   ]
  },
  {
   "cell_type": "code",
   "execution_count": 98,
   "metadata": {},
   "outputs": [],
   "source": [
    "trj_ppmap2nm_nr = np.load('2nm_NoRes.npy', allow_pickle=True)"
   ]
  },
  {
   "cell_type": "code",
   "execution_count": 99,
   "metadata": {},
   "outputs": [
    {
     "data": {
      "text/plain": [
       "(583, 60)"
      ]
     },
     "execution_count": 99,
     "metadata": {},
     "output_type": "execute_result"
    }
   ],
   "source": [
    "trj_ppmap2nm_nr[0].shape"
   ]
  },
  {
   "cell_type": "code",
   "execution_count": 100,
   "metadata": {},
   "outputs": [
    {
     "data": {
      "text/plain": [
       "0.0"
      ]
     },
     "execution_count": 100,
     "metadata": {},
     "output_type": "execute_result"
    }
   ],
   "source": [
    "np.sum(trj_ppmap2nm_nr[1000][0])"
   ]
  },
  {
   "cell_type": "code",
   "execution_count": 101,
   "metadata": {},
   "outputs": [
    {
     "data": {
      "text/plain": [
       "(10000,)"
      ]
     },
     "execution_count": 101,
     "metadata": {},
     "output_type": "execute_result"
    }
   ],
   "source": [
    "kj = np.zeros(shape=(10000, 583))\n",
    "kj[:,582].shape"
   ]
  },
  {
   "cell_type": "code",
   "execution_count": 102,
   "metadata": {},
   "outputs": [],
   "source": [
    "pp_2nmNR_ct = np.zeros(shape=(10000, 583))\n",
    "for i in range(10000):\n",
    "    for j in range(583):\n",
    "        pp_2nmNR_ct[i][j] = np.sum(trj_ppmap2nm_nr[i][j])"
   ]
  },
  {
   "cell_type": "code",
   "execution_count": 103,
   "metadata": {},
   "outputs": [],
   "source": [
    "pp_2nmNRtot = np.zeros(shape=(583))\n",
    "for i in range(583):\n",
    "    pp_2nmNRtot[i] = np.sum(pp_2nmNR_ct[:,i])\n",
    "#pp_12nmtot"
   ]
  },
  {
   "cell_type": "code",
   "execution_count": 104,
   "metadata": {},
   "outputs": [
    {
     "data": {
      "text/plain": [
       "(array([ 16, 118, 119, 123, 125, 126, 127, 128, 129, 130, 131, 161, 164,\n",
       "        165, 166, 167, 168, 169, 170, 171, 172, 222, 223, 224, 225, 263,\n",
       "        264, 265, 266, 267, 268, 269, 270, 271, 272, 274, 275, 280, 292,\n",
       "        293, 294, 295, 296, 297, 298, 299, 300, 301, 302, 306, 330, 331,\n",
       "        334, 335, 336, 337, 338, 339, 346, 350, 353, 354, 357, 358, 361,\n",
       "        366, 367, 369, 370, 373, 374, 375, 376, 377, 378, 379, 380, 381,\n",
       "        382, 383, 384, 386, 387, 388, 391, 392, 395, 408, 412, 439, 440,\n",
       "        441, 442, 443, 444, 445, 473, 478, 481, 484, 485, 487, 488, 489,\n",
       "        490, 492, 493, 494, 495, 496, 497, 498, 499, 500, 501, 502, 503,\n",
       "        505, 506, 507, 508, 509, 510, 533, 534, 535, 536, 537, 539, 540,\n",
       "        541, 543, 544, 545, 547, 548, 551, 555, 560, 561, 562, 563, 564,\n",
       "        565, 566, 567, 568, 569, 571, 572, 573, 574, 575, 576, 577, 578,\n",
       "        579, 580, 581, 582]),)"
      ]
     },
     "execution_count": 104,
     "metadata": {},
     "output_type": "execute_result"
    }
   ],
   "source": [
    "np.nonzero(pp_2nmNRtot)"
   ]
  },
  {
   "cell_type": "code",
   "execution_count": 134,
   "metadata": {},
   "outputs": [
    {
     "data": {
      "text/plain": [
       "604172.0"
      ]
     },
     "execution_count": 134,
     "metadata": {},
     "output_type": "execute_result"
    }
   ],
   "source": [
    "aNR = np.sum(pp_2nmNRtot)\n",
    "aNR"
   ]
  },
  {
   "cell_type": "code",
   "execution_count": 135,
   "metadata": {},
   "outputs": [
    {
     "data": {
      "text/plain": [
       "1106640.0"
      ]
     },
     "execution_count": 135,
     "metadata": {},
     "output_type": "execute_result"
    }
   ],
   "source": [
    "bNR = np.sum(pp_15nmNRtot)\n",
    "bNR"
   ]
  },
  {
   "cell_type": "code",
   "execution_count": 137,
   "metadata": {},
   "outputs": [
    {
     "data": {
      "text/plain": [
       "246122.0"
      ]
     },
     "execution_count": 137,
     "metadata": {},
     "output_type": "execute_result"
    }
   ],
   "source": [
    "cNR = np.sum(pp_12nmtot_nr)\n",
    "cNR"
   ]
  },
  {
   "cell_type": "code",
   "execution_count": 139,
   "metadata": {},
   "outputs": [],
   "source": [
    "plt.close('all')"
   ]
  },
  {
   "cell_type": "code",
   "execution_count": 141,
   "metadata": {},
   "outputs": [
    {
     "data": {
      "application/vnd.jupyter.widget-view+json": {
       "model_id": "ea977fbadc8a4a87969308dfb7dac0f2",
       "version_major": 2,
       "version_minor": 0
      },
      "text/plain": [
       "Canvas(toolbar=Toolbar(toolitems=[('Home', 'Reset original view', 'home', 'home'), ('Back', 'Back to previous …"
      ]
     },
     "metadata": {},
     "output_type": "display_data"
    },
    {
     "data": {
      "text/plain": [
       "Text(0.5, 0, 'BSA Residue ID')"
      ]
     },
     "execution_count": 141,
     "metadata": {},
     "output_type": "execute_result"
    }
   ],
   "source": [
    "y_pos = np.arange(583) + 1\n",
    "wid = np.zeros(shape=583)\n",
    "wid += 1.5\n",
    "#wid\n",
    "fig = plt.figure(figsize=(12,12))\n",
    "fig.canvas.layout.width = '800px'\n",
    "fig.canvas.layout.height = '700px'\n",
    "plt.bar(y_pos, pp_12nmtot_nr/cNR, align='center',width=wid, alpha=0.4, color='#1D77CF',label='1.2 nm PLGA')\n",
    "plt.bar(y_pos+0.25, pp_15nmNRtot/bNR, align='center',width=wid, color='#562A8B', alpha=0.3, label='1.5 nm PLGA')\n",
    "plt.bar(y_pos+0.3, pp_2nmNRtot/aNR, align='center',width=wid, color='#4E4C4D', alpha=0.3, label='2 nm PLGA')\n",
    "#plt.bar(y_pos+0.25, pp_15nmNRtot/bNR, align='center',width=wid, color='#562A8B', alpha=0.3, label='1.5 nm PLGA')\n",
    "#plt.bar(y_pos, pp_12nmtot_nr/cNR, align='center',width=wid, alpha=0.4, color='#1D77CF',label='1.2 nm PLGA')\n",
    "plt.title(\"BSA in water with PLGA unrestrained, 100 ns\", fontsize=18)\n",
    "plt.xticks(fontsize=14)\n",
    "plt.yticks(fontsize=14)\n",
    "plt.xlim([0,600])\n",
    "plt.ylim([0,0.2])\n",
    "plt.legend(fontsize=14)\n",
    "plt.ylabel(r'Normalized Total No. of PLGA contacts', fontsize=15)\n",
    "plt.xlabel(r'BSA Residue ID', fontsize=15)"
   ]
  },
  {
   "cell_type": "markdown",
   "metadata": {},
   "source": [
    "### Total number of residues that are within 4 angstroms of a PLGA oligomer residue within a 100 ns trajectory block"
   ]
  },
  {
   "cell_type": "code",
   "execution_count": 108,
   "metadata": {},
   "outputs": [
    {
     "data": {
      "text/html": [
       "<div>\n",
       "<style scoped>\n",
       "    .dataframe tbody tr th:only-of-type {\n",
       "        vertical-align: middle;\n",
       "    }\n",
       "\n",
       "    .dataframe tbody tr th {\n",
       "        vertical-align: top;\n",
       "    }\n",
       "\n",
       "    .dataframe thead th {\n",
       "        text-align: right;\n",
       "    }\n",
       "</style>\n",
       "<table border=\"1\" class=\"dataframe\">\n",
       "  <thead>\n",
       "    <tr style=\"text-align: right;\">\n",
       "      <th></th>\n",
       "      <th>Amino_acids</th>\n",
       "      <th>No_of_surf_res (MDAnalysis)</th>\n",
       "      <th>No_of_surf_res (VMD)</th>\n",
       "      <th>plga_1.2nm_100ns_NR</th>\n",
       "      <th>plga_1.5nm_100ns_NR</th>\n",
       "      <th>plga_2nm_100ns_NR</th>\n",
       "    </tr>\n",
       "  </thead>\n",
       "  <tbody>\n",
       "    <tr>\n",
       "      <td>0</td>\n",
       "      <td>LYS</td>\n",
       "      <td>59</td>\n",
       "      <td>59</td>\n",
       "      <td>9</td>\n",
       "      <td>19</td>\n",
       "      <td>23</td>\n",
       "    </tr>\n",
       "    <tr>\n",
       "      <td>1</td>\n",
       "      <td>ARG</td>\n",
       "      <td>23</td>\n",
       "      <td>23</td>\n",
       "      <td>3</td>\n",
       "      <td>10</td>\n",
       "      <td>5</td>\n",
       "    </tr>\n",
       "    <tr>\n",
       "      <td>2</td>\n",
       "      <td>HIS</td>\n",
       "      <td>16</td>\n",
       "      <td>16</td>\n",
       "      <td>0</td>\n",
       "      <td>6</td>\n",
       "      <td>4</td>\n",
       "    </tr>\n",
       "    <tr>\n",
       "      <td>3</td>\n",
       "      <td>ASP</td>\n",
       "      <td>40</td>\n",
       "      <td>40</td>\n",
       "      <td>4</td>\n",
       "      <td>15</td>\n",
       "      <td>15</td>\n",
       "    </tr>\n",
       "    <tr>\n",
       "      <td>4</td>\n",
       "      <td>GLU</td>\n",
       "      <td>59</td>\n",
       "      <td>59</td>\n",
       "      <td>7</td>\n",
       "      <td>22</td>\n",
       "      <td>23</td>\n",
       "    </tr>\n",
       "    <tr>\n",
       "      <td>5</td>\n",
       "      <td>SER</td>\n",
       "      <td>23</td>\n",
       "      <td>23</td>\n",
       "      <td>1</td>\n",
       "      <td>6</td>\n",
       "      <td>7</td>\n",
       "    </tr>\n",
       "    <tr>\n",
       "      <td>6</td>\n",
       "      <td>THR</td>\n",
       "      <td>29</td>\n",
       "      <td>29</td>\n",
       "      <td>6</td>\n",
       "      <td>11</td>\n",
       "      <td>9</td>\n",
       "    </tr>\n",
       "    <tr>\n",
       "      <td>7</td>\n",
       "      <td>CYS</td>\n",
       "      <td>24</td>\n",
       "      <td>24</td>\n",
       "      <td>2</td>\n",
       "      <td>6</td>\n",
       "      <td>8</td>\n",
       "    </tr>\n",
       "    <tr>\n",
       "      <td>8</td>\n",
       "      <td>TYR</td>\n",
       "      <td>19</td>\n",
       "      <td>19</td>\n",
       "      <td>1</td>\n",
       "      <td>2</td>\n",
       "      <td>3</td>\n",
       "    </tr>\n",
       "    <tr>\n",
       "      <td>9</td>\n",
       "      <td>ASN</td>\n",
       "      <td>14</td>\n",
       "      <td>14</td>\n",
       "      <td>4</td>\n",
       "      <td>4</td>\n",
       "      <td>6</td>\n",
       "    </tr>\n",
       "    <tr>\n",
       "      <td>10</td>\n",
       "      <td>GLN</td>\n",
       "      <td>19</td>\n",
       "      <td>19</td>\n",
       "      <td>4</td>\n",
       "      <td>6</td>\n",
       "      <td>8</td>\n",
       "    </tr>\n",
       "    <tr>\n",
       "      <td>11</td>\n",
       "      <td>GLY</td>\n",
       "      <td>11</td>\n",
       "      <td>11</td>\n",
       "      <td>3</td>\n",
       "      <td>5</td>\n",
       "      <td>1</td>\n",
       "    </tr>\n",
       "    <tr>\n",
       "      <td>12</td>\n",
       "      <td>ALA</td>\n",
       "      <td>39</td>\n",
       "      <td>38</td>\n",
       "      <td>6</td>\n",
       "      <td>10</td>\n",
       "      <td>15</td>\n",
       "    </tr>\n",
       "    <tr>\n",
       "      <td>13</td>\n",
       "      <td>VAL</td>\n",
       "      <td>19</td>\n",
       "      <td>19</td>\n",
       "      <td>2</td>\n",
       "      <td>5</td>\n",
       "      <td>6</td>\n",
       "    </tr>\n",
       "    <tr>\n",
       "      <td>14</td>\n",
       "      <td>LEU</td>\n",
       "      <td>34</td>\n",
       "      <td>34</td>\n",
       "      <td>3</td>\n",
       "      <td>12</td>\n",
       "      <td>6</td>\n",
       "    </tr>\n",
       "    <tr>\n",
       "      <td>15</td>\n",
       "      <td>ILE</td>\n",
       "      <td>7</td>\n",
       "      <td>7</td>\n",
       "      <td>0</td>\n",
       "      <td>2</td>\n",
       "      <td>3</td>\n",
       "    </tr>\n",
       "    <tr>\n",
       "      <td>16</td>\n",
       "      <td>MET</td>\n",
       "      <td>3</td>\n",
       "      <td>3</td>\n",
       "      <td>0</td>\n",
       "      <td>0</td>\n",
       "      <td>1</td>\n",
       "    </tr>\n",
       "    <tr>\n",
       "      <td>17</td>\n",
       "      <td>PHE</td>\n",
       "      <td>20</td>\n",
       "      <td>20</td>\n",
       "      <td>1</td>\n",
       "      <td>4</td>\n",
       "      <td>5</td>\n",
       "    </tr>\n",
       "    <tr>\n",
       "      <td>18</td>\n",
       "      <td>TRP</td>\n",
       "      <td>2</td>\n",
       "      <td>2</td>\n",
       "      <td>0</td>\n",
       "      <td>0</td>\n",
       "      <td>0</td>\n",
       "    </tr>\n",
       "    <tr>\n",
       "      <td>19</td>\n",
       "      <td>PRO</td>\n",
       "      <td>27</td>\n",
       "      <td>27</td>\n",
       "      <td>3</td>\n",
       "      <td>8</td>\n",
       "      <td>14</td>\n",
       "    </tr>\n",
       "  </tbody>\n",
       "</table>\n",
       "</div>"
      ],
      "text/plain": [
       "   Amino_acids  No_of_surf_res (MDAnalysis)  No_of_surf_res (VMD)  \\\n",
       "0          LYS                           59                    59   \n",
       "1          ARG                           23                    23   \n",
       "2          HIS                           16                    16   \n",
       "3          ASP                           40                    40   \n",
       "4          GLU                           59                    59   \n",
       "5          SER                           23                    23   \n",
       "6          THR                           29                    29   \n",
       "7          CYS                           24                    24   \n",
       "8          TYR                           19                    19   \n",
       "9          ASN                           14                    14   \n",
       "10         GLN                           19                    19   \n",
       "11         GLY                           11                    11   \n",
       "12         ALA                           39                    38   \n",
       "13         VAL                           19                    19   \n",
       "14         LEU                           34                    34   \n",
       "15         ILE                            7                     7   \n",
       "16         MET                            3                     3   \n",
       "17         PHE                           20                    20   \n",
       "18         TRP                            2                     2   \n",
       "19         PRO                           27                    27   \n",
       "\n",
       "    plga_1.2nm_100ns_NR  plga_1.5nm_100ns_NR  plga_2nm_100ns_NR  \n",
       "0                     9                   19                 23  \n",
       "1                     3                   10                  5  \n",
       "2                     0                    6                  4  \n",
       "3                     4                   15                 15  \n",
       "4                     7                   22                 23  \n",
       "5                     1                    6                  7  \n",
       "6                     6                   11                  9  \n",
       "7                     2                    6                  8  \n",
       "8                     1                    2                  3  \n",
       "9                     4                    4                  6  \n",
       "10                    4                    6                  8  \n",
       "11                    3                    5                  1  \n",
       "12                    6                   10                 15  \n",
       "13                    2                    5                  6  \n",
       "14                    3                   12                  6  \n",
       "15                    0                    2                  3  \n",
       "16                    0                    0                  1  \n",
       "17                    1                    4                  5  \n",
       "18                    0                    0                  0  \n",
       "19                    3                    8                 14  "
      ]
     },
     "execution_count": 108,
     "metadata": {},
     "output_type": "execute_result"
    }
   ],
   "source": [
    "apl_2nm_nr = []\n",
    "\n",
    "# Some residues don't have any contact with the 3 N = 20 PLGA oligomers within 100 ns,\n",
    "# Put residues that do have contact with BSA in a separate list\n",
    "for index, r_pl in plg_2nm_nr.iterrows():\n",
    "    if r_pl['mda_2nm_nr'] != 0:\n",
    "        apl_2nm_nr.append(r_pl['BSA_des_res'])\n",
    "        \n",
    "# This chunk of code gets an AA count from the above list, in order \n",
    "# to get a total number of residues that contact BSA\n",
    "cpl_2nm_nr = []\n",
    "\n",
    "for index, r_a in aa_count.iterrows():\n",
    "    count = 0\n",
    "    for i in range(len(apl_2nm_nr)):\n",
    "        if r_a['Amino_acids'] in apl_2nm_nr[i]:\n",
    "            count += 1\n",
    "    cpl_2nm_nr.append(count)      \n",
    "        \n",
    "aa_count['plga_2nm_100ns_NR'] = cpl_2nm_nr\n",
    "#aa_count.drop('No_of_surf_res (VMD)', axis=1, inplace=True)\n",
    "aa_count"
   ]
  },
  {
   "cell_type": "code",
   "execution_count": 109,
   "metadata": {},
   "outputs": [
    {
     "data": {
      "text/plain": [
       "162"
      ]
     },
     "execution_count": 109,
     "metadata": {},
     "output_type": "execute_result"
    }
   ],
   "source": [
    "# This gives the total number of residues that are within 4 angstroms of a PLGA oligomer residue\n",
    "# within a 100 ns trajectory block\n",
    "aa_count['plga_2nm_100ns_NR'].sum()"
   ]
  },
  {
   "cell_type": "code",
   "execution_count": 110,
   "metadata": {},
   "outputs": [
    {
     "data": {
      "text/plain": [
       "487"
      ]
     },
     "execution_count": 110,
     "metadata": {},
     "output_type": "execute_result"
    }
   ],
   "source": [
    "# This gives the total number of residues that are within 4 angstroms of a water molecule\n",
    "# within a 1 ns trajectory block\n",
    "aa_count['No_of_surf_res (MDAnalysis)'].sum()"
   ]
  },
  {
   "cell_type": "code",
   "execution_count": 111,
   "metadata": {},
   "outputs": [
    {
     "data": {
      "text/plain": [
       "0.3326488706365503"
      ]
     },
     "execution_count": 111,
     "metadata": {},
     "output_type": "execute_result"
    }
   ],
   "source": [
    "# This gives the total fraction of contacts within the 2 nm unrestrained Rg 100 ns trajectory\n",
    "aa_count['plga_2nm_100ns_NR'].sum()/aa_count['No_of_surf_res (MDAnalysis)'].sum()"
   ]
  },
  {
   "cell_type": "code",
   "execution_count": 112,
   "metadata": {},
   "outputs": [
    {
     "name": "stdout",
     "output_type": "stream",
     "text": [
      "Mean Occpancy (2 nm Rg): 0.205141975308642 Occ. std. dev.: 0.2913285756303597\n"
     ]
    }
   ],
   "source": [
    "# Mean occupancy and std deviation \n",
    "ll_mo2_nr = [value[1] for key, value in h2di_2nr.items()]\n",
    "print(\"Mean Occpancy (2 nm Rg): \"+str(np.mean(ll_mo2_nr)), \"Occ. std. dev.: \"+str(np.std(ll_mo2_nr)))"
   ]
  },
  {
   "cell_type": "code",
   "execution_count": 113,
   "metadata": {},
   "outputs": [
    {
     "data": {
      "text/plain": [
       "{'Negative': [70240.0, 38, 299444.2105263158, 0.1875415722770907],\n",
       " 'Positive': [73632.0, 32, 372762.0, 0.2334604213662337],\n",
       " 'Polar': [83459.0, 41, 329764.82926829264, 0.20653134169453893],\n",
       " 'Hydrophobic': [104999.0, 51, 333526.23529411765, 0.2088871060581774],\n",
       " 'Aromatic': [19347.0, 12, 261184.5, 0.16357955860395929]}"
      ]
     },
     "execution_count": 113,
     "metadata": {},
     "output_type": "execute_result"
    }
   ],
   "source": [
    "cd_2nm = frac_cont(h2di_2nr)\n",
    "cd_2nm"
   ]
  },
  {
   "cell_type": "markdown",
   "metadata": {},
   "source": [
    "### Calc. fractional contacts for each AA group type "
   ]
  },
  {
   "cell_type": "code",
   "execution_count": null,
   "metadata": {},
   "outputs": [],
   "source": [
    "test_nr = aa_frmcount(prot2nm_nores, p2nm_allnr, dmax, pn2nm_nores, 6000, 8000)"
   ]
  },
  {
   "cell_type": "code",
   "execution_count": null,
   "metadata": {},
   "outputs": [],
   "source": [
    "frac_cont(test_nr)"
   ]
  },
  {
   "cell_type": "code",
   "execution_count": null,
   "metadata": {},
   "outputs": [],
   "source": [
    "no_surf"
   ]
  },
  {
   "cell_type": "code",
   "execution_count": 116,
   "metadata": {},
   "outputs": [
    {
     "name": "stdout",
     "output_type": "stream",
     "text": [
      "0\n",
      "2000\n",
      "2000\n",
      "4000\n",
      "4000\n",
      "6000\n",
      "6000\n",
      "8000\n",
      "8000\n",
      "10000\n"
     ]
    }
   ],
   "source": [
    "fcntrg2nm_nr, prgrp2nm_nr, aamatx_2nm_nr = bavg_frac_cnt(5, prot2nm_nores, p2nm_allnr, dmax, pn2nm_nores, no_surf, 0, 10000)"
   ]
  },
  {
   "cell_type": "code",
   "execution_count": 117,
   "metadata": {},
   "outputs": [
    {
     "data": {
      "text/plain": [
       "{'Negative': array([0.19869776, 0.18394886, 0.21732898, 0.21216704, 0.16586192]),\n",
       " 'Positive': array([0.24566516, 0.21907163, 0.17058257, 0.24513383, 0.23071696]),\n",
       " 'Polar': array([0.19818883, 0.23535233, 0.25968944, 0.25791225, 0.20380805]),\n",
       " 'Hydrophobic': array([0.16966378, 0.18041806, 0.20033888, 0.20394694, 0.24491677]),\n",
       " 'Aromatic': array([0.18778448, 0.18120912, 0.15206013, 0.08083994, 0.1546963 ]),\n",
       " 'total_frac': array([0.24024641, 0.19301848, 0.1724846 , 0.1724846 , 0.1724846 ])}"
      ]
     },
     "execution_count": 117,
     "metadata": {},
     "output_type": "execute_result"
    }
   ],
   "source": [
    "fcntrg2nm_nr"
   ]
  },
  {
   "cell_type": "code",
   "execution_count": 118,
   "metadata": {},
   "outputs": [
    {
     "data": {
      "text/plain": [
       "array([0.19560091, 0.22223403, 0.23099018, 0.19985689, 0.15131799])"
      ]
     },
     "execution_count": 118,
     "metadata": {},
     "output_type": "execute_result"
    }
   ],
   "source": [
    "fc2nm_mean_nr = np.array([np.mean(fcntrg2nm_nr['Negative']), np.mean(fcntrg2nm_nr['Positive'])\n",
    "                        ,np.mean(fcntrg2nm_nr['Polar']),np.mean(fcntrg2nm_nr['Hydrophobic'])\n",
    "                        , np.mean(fcntrg2nm_nr['Aromatic'])])\n",
    "fc2nm_mean_nr"
   ]
  },
  {
   "cell_type": "code",
   "execution_count": 119,
   "metadata": {},
   "outputs": [
    {
     "data": {
      "text/plain": [
       "array([0.01884841, 0.02765231, 0.02600873, 0.02583349, 0.03795366])"
      ]
     },
     "execution_count": 119,
     "metadata": {},
     "output_type": "execute_result"
    }
   ],
   "source": [
    "fc2nm_std_nr = np.array([np.std(fcntrg2nm_nr['Negative']), np.std(fcntrg2nm_nr['Positive'])\n",
    "                       ,np.std(fcntrg2nm_nr['Polar']),np.std(fcntrg2nm_nr['Hydrophobic']), np.std(fcntrg2nm_nr['Aromatic'])])\n",
    "#fc2nm_std_nr[4] = 0.05\n",
    "fc2nm_std_nr"
   ]
  },
  {
   "cell_type": "code",
   "execution_count": 120,
   "metadata": {},
   "outputs": [
    {
     "data": {
      "application/vnd.jupyter.widget-view+json": {
       "model_id": "",
       "version_major": 2,
       "version_minor": 0
      },
      "text/plain": [
       "Canvas(toolbar=Toolbar(toolitems=[('Home', 'Reset original view', 'home', 'home'), ('Back', 'Back to previous …"
      ]
     },
     "metadata": {},
     "output_type": "display_data"
    },
    {
     "data": {
      "text/plain": [
       "Text(0, 0.5, 'Fractional Contacts')"
      ]
     },
     "execution_count": 120,
     "metadata": {},
     "output_type": "execute_result"
    }
   ],
   "source": [
    "x_pos = np.arange(5)\n",
    "width = 0.3\n",
    "aa_types = [\"Negative\", \"Positive\", \"Polar\", \"Hydrophobic\", \"Aromatic\"]\n",
    "plt.figure(figsize=(7,7))\n",
    "plt.bar(x_pos, fc_12nmnr_mean, width, yerr=fc_12nmnr_std, ecolor='black',capsize=5, color='royalblue')\n",
    "plt.bar(x_pos+width, fc15nm_mean_nr, width, yerr=fc15nm_std_nr, ecolor='black',capsize=5, color='c')\n",
    "plt.bar(x_pos+(2*width), fc2nm_mean_nr, width, yerr=fc2nm_std_nr, ecolor='black',capsize=5, color='lightslategray')\n",
    "plt.title(r'Fractional Contacts Rg unrestrained', fontsize=15)\n",
    "plt.xticks(x_pos+width, labels=aa_types, fontsize=14)\n",
    "plt.legend(['Rg = 1.2 nm', 'Rg = 1.5 nm', 'Rg = 2 nm'], frameon=False)\n",
    "plt.ylabel(r'Fractional Contacts', fontsize=15)"
   ]
  },
  {
   "cell_type": "markdown",
   "metadata": {},
   "source": [
    "### Total fraction of contacts: averages and std dev calc from 5 20ns blocks"
   ]
  },
  {
   "cell_type": "code",
   "execution_count": 121,
   "metadata": {},
   "outputs": [
    {
     "data": {
      "text/plain": [
       "0.19014373716632443"
      ]
     },
     "execution_count": 121,
     "metadata": {},
     "output_type": "execute_result"
    }
   ],
   "source": [
    "np.mean(fcntrg2nm_nr['total_frac'])"
   ]
  },
  {
   "cell_type": "code",
   "execution_count": 122,
   "metadata": {},
   "outputs": [
    {
     "data": {
      "text/plain": [
       "0.026283367556468176"
      ]
     },
     "execution_count": 122,
     "metadata": {},
     "output_type": "execute_result"
    }
   ],
   "source": [
    "np.std(fcntrg2nm_nr['total_frac'])"
   ]
  },
  {
   "cell_type": "code",
   "execution_count": null,
   "metadata": {},
   "outputs": [],
   "source": []
  },
  {
   "cell_type": "markdown",
   "metadata": {},
   "source": [
    "### Avg no. PLGA residues per BSA AA residue group "
   ]
  },
  {
   "cell_type": "code",
   "execution_count": null,
   "metadata": {},
   "outputs": [],
   "source": [
    "prgrp2nm_nr"
   ]
  },
  {
   "cell_type": "code",
   "execution_count": null,
   "metadata": {},
   "outputs": [],
   "source": [
    "mean_2nm_nr = np.zeros(shape=5)\n",
    "std_2nm_nr = np.zeros(shape=5)\n",
    "count = 0\n",
    "for key, value in prgrp2nm_nr.items():\n",
    "    mpl_2nm_nr = []\n",
    "    var_2nm_nr = []\n",
    "    for i in prgrp2nm_nr[str(key)].flat:\n",
    "        mpl_2nm_nr.append(i[0])\n",
    "        var_2nm_nr.append((i[1]))\n",
    "    \n",
    "    # calc frac cont averages\n",
    "    mean_2nm_nr[count] = np.mean(mpl_2nm_nr)\n",
    "    \n",
    "    # calc frac cont std dev: https://stats.stackexchange.com/questions/25848/how-to-sum-a-standard-deviation \n",
    "    std_2nm_nr[count] = np.std(mpl_2nm_nr)\n",
    "    # std_2nm_nr[count] = np.sqrt(np.sum(var_2nm_nr)/5)\n",
    "    \n",
    "    count += 1\n"
   ]
  },
  {
   "cell_type": "code",
   "execution_count": null,
   "metadata": {},
   "outputs": [],
   "source": [
    "mean_2nm_nr"
   ]
  },
  {
   "cell_type": "code",
   "execution_count": null,
   "metadata": {},
   "outputs": [],
   "source": [
    "#np.std()\n",
    "#std_2nm_nr[4] = 1\n",
    "std_2nm_nr"
   ]
  },
  {
   "cell_type": "code",
   "execution_count": null,
   "metadata": {},
   "outputs": [],
   "source": [
    "x_pos = np.arange(5)\n",
    "width = 0.3\n",
    "aa_types = [\"Negative\", \"Positive\", \"Polar\", \"Hydrophobic\", \"Aromatic\"]\n",
    "plt.figure(figsize=(7,7))\n",
    "plt.bar(x_pos, mean_12nm_nr, width, yerr=std_12nm_nr, ecolor='black',capsize=5, color='royalblue')\n",
    "plt.bar(x_pos+width, mean_15nm_nr, width, yerr=std_15nm_nr, ecolor='black',capsize=5, color='c')\n",
    "plt.bar(x_pos+(2*width), mean_2nm_nr, width, yerr=std_2nm_nr, ecolor='black',capsize=5, color='lightslategray')\n",
    "plt.title(r'No. of PLGA residues Rg unrestrained', fontsize=15)\n",
    "plt.xticks(x_pos+width, labels=aa_types, fontsize=14)\n",
    "plt.legend(['Rg = 1.2 nm', 'Rg = 1.5 nm', 'Rg = 2 nm'], frameon=False)\n",
    "plt.ylabel(r'No. of PLGA residues', fontsize=15)"
   ]
  },
  {
   "cell_type": "markdown",
   "metadata": {},
   "source": [
    "### Protein/polymer contact map movie"
   ]
  },
  {
   "cell_type": "code",
   "execution_count": null,
   "metadata": {},
   "outputs": [],
   "source": [
    "for i in range(1000):\n",
    "    print(np.nonzero(trj_load2nm[i]))"
   ]
  },
  {
   "cell_type": "code",
   "execution_count": null,
   "metadata": {},
   "outputs": [],
   "source": [
    "trj_load2nm[0].shape"
   ]
  },
  {
   "cell_type": "code",
   "execution_count": null,
   "metadata": {},
   "outputs": [],
   "source": [
    "fig = plt.figure(figsize=(10,10))\n",
    "\n",
    "# Set the axis and the plot titles pp\n",
    "\n",
    "plt.title(\"BSA/PLGA contact map 2 nm Unres.\", fontsize=22, loc='left')\n",
    "plt.xlabel(\"PLGA Residue No.\", fontsize=22)\n",
    "plt.ylabel(\"BSA Residue No.\", fontsize=20)\n",
    "\n",
    " # Set the axis range \n",
    "plt.ylim(583, 0)\n",
    "plt.xlim(0, 60)\n",
    "\n",
    "# Plot bands for each chain \n",
    "BANDS = (\n",
    "    (0, 20, \"purple\", \"B\"),\n",
    "    (20, 40, \"blue\", \"C\"),\n",
    "    (40, 60, \"green\", \"D\"),\n",
    ")\n",
    "    \n",
    "text_y = 0.98 # Close to the top\n",
    "for start, stop, color, band in BANDS:\n",
    "    plt.axvspan(start, stop,color=color, alpha=0.15)\n",
    "    text_x = middle_of_band(start,stop)\n",
    "    plt.text(\n",
    "        text_x,\n",
    "        text_y,\n",
    "        \"PLGA chain \" + band,\n",
    "        color=color,\n",
    "        fontsize=18,\n",
    "        transform=fig.gca().transAxes,\n",
    "        horizontalalignment='center',\n",
    "        verticalalignment='center',\n",
    "        style='italic',\n",
    "    )\n",
    "    \n",
    "plt.text(0.94, 1, \"Time [ns]:\", fontsize=20, transform=fig.gca().transAxes, horizontalalignment='right', verticalalignment='bottom')\n",
    "\n",
    "# Set tick label size\n",
    "fig.gca().tick_params(axis='both', which='major', labelsize=20)\n",
    "\n",
    "ims = []\n",
    "for i in range(10000):\n",
    "    data = trj_ppmap2nm_nr[i]\n",
    "    im = plt.imshow(data, aspect='auto', cmap='Greys')\n",
    "    t_sim = plt.text(1.03, 1, str(i/100), fontsize=20, transform=fig.gca().transAxes, horizontalalignment='right', verticalalignment='bottom')\n",
    "    ims.append([im, t_sim])\n",
    "    \n",
    "ani = animation.ArtistAnimation(fig, ims, blit=True, repeat=False)\n",
    "ani.save('2nm_NoRes.mp4', writer='ffmpeg', fps=50, bitrate=100000)\n",
    "#plt.tight_layout()\n",
    "#plt.show()"
   ]
  },
  {
   "cell_type": "code",
   "execution_count": null,
   "metadata": {},
   "outputs": [],
   "source": []
  },
  {
   "cell_type": "code",
   "execution_count": null,
   "metadata": {},
   "outputs": [],
   "source": [
    "plt.close('all')"
   ]
  }
 ],
 "metadata": {
  "kernelspec": {
   "display_name": "Python (ppc_env)",
   "language": "python",
   "name": "ppc_env"
  },
  "language_info": {
   "codemirror_mode": {
    "name": "ipython",
    "version": 3
   },
   "file_extension": ".py",
   "mimetype": "text/x-python",
   "name": "python",
   "nbconvert_exporter": "python",
   "pygments_lexer": "ipython3",
   "version": "3.6.9"
  }
 },
 "nbformat": 4,
 "nbformat_minor": 4
}
