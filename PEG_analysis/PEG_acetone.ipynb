{
 "cells": [
  {
   "cell_type": "code",
   "execution_count": 1,
   "metadata": {},
   "outputs": [],
   "source": [
    "#import the necessary modules \n",
    "%matplotlib inline \n",
    "import numpy as np \n",
    "import matplotlib.pyplot as plt \n",
    "import pandas as pd \n",
    "import scipy\n",
    "import sklearn\n",
    "import itertools \n",
    "from itertools import cycle \n",
    "import os.path as op\n",
    "import timeit \n",
    "import json\n",
    "import math\n"
   ]
  },
  {
   "cell_type": "code",
   "execution_count": 2,
   "metadata": {},
   "outputs": [
    {
     "data": {
      "text/plain": [
       "4"
      ]
     },
     "execution_count": 2,
     "metadata": {},
     "output_type": "execute_result"
    }
   ],
   "source": [
    "import multiprocessing as m_proc\n",
    "m_proc.cpu_count()"
   ]
  },
  {
   "cell_type": "code",
   "execution_count": 3,
   "metadata": {},
   "outputs": [],
   "source": [
    "# Import MDAnalysis\n",
    "import MDAnalysis as mda\n",
    "import statsmodels as stats\n",
    "from MDAnalysis.analysis import polymer, distances, rdf\n",
    "import matplotlib.font_manager as font_manager"
   ]
  },
  {
   "cell_type": "code",
   "execution_count": 4,
   "metadata": {},
   "outputs": [],
   "source": [
    "from polymer_MD_analysis import pers_length, get_rg_pers_poly, bavg_pers_cnt"
   ]
  },
  {
   "cell_type": "markdown",
   "metadata": {},
   "source": [
    "## PEG/acetone system analysis"
   ]
  },
  {
   "cell_type": "markdown",
   "metadata": {},
   "source": [
    "### N = 6"
   ]
  },
  {
   "cell_type": "code",
   "execution_count": 5,
   "metadata": {},
   "outputs": [],
   "source": [
    "# For the right Rg calculation using MD Analysis, use trajactory without pbc \n",
    "n6_peg_ace = mda.Universe(\"n6peg_prod_ace/n6pegonly_ace.pdb\", \"n6peg_prod_ace/noace_n6peg.xtc\")"
   ]
  },
  {
   "cell_type": "code",
   "execution_count": 6,
   "metadata": {},
   "outputs": [
    {
     "data": {
      "text/plain": [
       "<XTCReader n6peg_prod_ace/noace_n6peg.xtc with 18001 frames of 45 atoms>"
      ]
     },
     "execution_count": 6,
     "metadata": {},
     "output_type": "execute_result"
    }
   ],
   "source": [
    "n6_peg_ace.trajectory"
   ]
  },
  {
   "cell_type": "code",
   "execution_count": 7,
   "metadata": {},
   "outputs": [
    {
     "data": {
      "text/plain": [
       "18001"
      ]
     },
     "execution_count": 7,
     "metadata": {},
     "output_type": "execute_result"
    }
   ],
   "source": [
    "len(n6_peg_ace.trajectory)"
   ]
  },
  {
   "cell_type": "code",
   "execution_count": 8,
   "metadata": {},
   "outputs": [],
   "source": [
    "#Select the polymer heavy atoms \n",
    "peg_n6ace = n6_peg_ace.select_atoms(\"resname sPEG PEG tPEG and not type H\")"
   ]
  },
  {
   "cell_type": "code",
   "execution_count": 9,
   "metadata": {},
   "outputs": [
    {
     "data": {
      "text/plain": [
       "array([[ 1.        ,  0.99579846,  0.99404811,  0.98916235,  0.98047179],\n",
       "       [ 0.        ,  1.        ,  2.        ,  3.        ,  4.        ],\n",
       "       [ 0.        ,  0.        ,  0.        ,  8.44302886, 11.34170102]])"
      ]
     },
     "execution_count": 9,
     "metadata": {},
     "output_type": "execute_result"
    }
   ],
   "source": [
    "crv_n6peg_ace = pers_length(peg_n6ace,6)\n",
    "crv_n6peg_ace"
   ]
  },
  {
   "cell_type": "code",
   "execution_count": 10,
   "metadata": {},
   "outputs": [],
   "source": [
    "com_bond = np.zeros(shape=(1,18000))\n",
    "count = 0\n",
    "for ts in n6_peg_ace.trajectory[0:18000]:\n",
    "    n6_mon1_ace = n6_peg_ace.select_atoms(\"resid 1\")\n",
    "    n6_mon2_ace = n6_peg_ace.select_atoms(\"resid 2\")\n",
    "    oo_len = mda.analysis.distances.distance_array(n6_mon1_ace.center_of_mass(), n6_mon2_ace.center_of_mass(), \n",
    "                                                   box=n6_peg_ace.trajectory.ts.dimensions)\n",
    "    com_bond[0, count] = oo_len\n",
    "    count += 1\n",
    "    "
   ]
  },
  {
   "cell_type": "code",
   "execution_count": 11,
   "metadata": {},
   "outputs": [
    {
     "data": {
      "text/plain": [
       "array([[3.37363529, 3.03174885, 2.63422082, ..., 3.14400526, 2.96696237,\n",
       "        3.36570245]])"
      ]
     },
     "execution_count": 11,
     "metadata": {},
     "output_type": "execute_result"
    }
   ],
   "source": [
    "com_bond"
   ]
  },
  {
   "cell_type": "code",
   "execution_count": 12,
   "metadata": {},
   "outputs": [
    {
     "data": {
      "text/plain": [
       "3.2442991909861867"
      ]
     },
     "execution_count": 12,
     "metadata": {},
     "output_type": "execute_result"
    }
   ],
   "source": [
    "lb_avg_pn6 = np.mean(com_bond)\n",
    "lb_avg_pn6"
   ]
  },
  {
   "cell_type": "code",
   "execution_count": 13,
   "metadata": {},
   "outputs": [
    {
     "data": {
      "text/plain": [
       "0.17413480862198993"
      ]
     },
     "execution_count": 13,
     "metadata": {},
     "output_type": "execute_result"
    }
   ],
   "source": [
    "np.std(com_bond)"
   ]
  },
  {
   "cell_type": "markdown",
   "metadata": {},
   "source": [
    "### Radius of Gyration vs. time N = 6 PEG/acetone"
   ]
  },
  {
   "cell_type": "code",
   "execution_count": 15,
   "metadata": {},
   "outputs": [],
   "source": [
    "n6peg_rgens_ace, cor_n6peg_ace, N6peg_cos_ace, rgace_n6peg = get_rg_pers_poly(peg_n6ace, n6_peg_ace, 0, 18000)"
   ]
  },
  {
   "cell_type": "code",
   "execution_count": 16,
   "metadata": {},
   "outputs": [
    {
     "data": {
      "text/plain": [
       "(18000,)"
      ]
     },
     "execution_count": 16,
     "metadata": {},
     "output_type": "execute_result"
    }
   ],
   "source": [
    "n6peg_rgens_ace[0].shape"
   ]
  },
  {
   "cell_type": "code",
   "execution_count": 17,
   "metadata": {},
   "outputs": [
    {
     "data": {
      "text/plain": [
       "array([0., 1., 2., 3., 4.])"
      ]
     },
     "execution_count": 17,
     "metadata": {},
     "output_type": "execute_result"
    }
   ],
   "source": [
    "cor_n6peg_ace[3]"
   ]
  },
  {
   "cell_type": "code",
   "execution_count": 18,
   "metadata": {},
   "outputs": [
    {
     "data": {
      "text/plain": [
       "array([[1.        , 1.        , 1.        , ..., 1.        , 1.        ,\n",
       "        1.        ],\n",
       "       [0.99579846, 0.89681474, 0.8193342 , ..., 0.92146634, 0.90184452,\n",
       "        0.902351  ],\n",
       "       [0.99404811, 0.86346259, 0.75306257, ..., 0.82489014, 0.70570277,\n",
       "        0.76083942],\n",
       "       [0.98916235, 0.81682532, 0.76855268, ..., 0.78035462, 0.50733514,\n",
       "        0.6381224 ],\n",
       "       [0.98047179, 0.98233821, 0.74762672, ..., 0.5512116 , 0.26220114,\n",
       "        0.13905816]])"
      ]
     },
     "execution_count": 18,
     "metadata": {},
     "output_type": "execute_result"
    }
   ],
   "source": [
    "N6peg_cos_ace"
   ]
  },
  {
   "cell_type": "code",
   "execution_count": 19,
   "metadata": {},
   "outputs": [
    {
     "data": {
      "text/plain": [
       "3.8228189530528858"
      ]
     },
     "execution_count": 19,
     "metadata": {},
     "output_type": "execute_result"
    }
   ],
   "source": [
    "rgace_n6peg"
   ]
  },
  {
   "cell_type": "code",
   "execution_count": 20,
   "metadata": {},
   "outputs": [
    {
     "data": {
      "text/plain": [
       "0.6724811785700978"
      ]
     },
     "execution_count": 20,
     "metadata": {},
     "output_type": "execute_result"
    }
   ],
   "source": [
    "np.std(n6peg_rgens_ace)"
   ]
  },
  {
   "cell_type": "code",
   "execution_count": 21,
   "metadata": {},
   "outputs": [
    {
     "data": {
      "text/plain": [
       "array([    0,     1,     2, ..., 17997, 17998, 17999])"
      ]
     },
     "execution_count": 21,
     "metadata": {},
     "output_type": "execute_result"
    }
   ],
   "source": [
    "trj_len = np.arange(18000)\n",
    "\n",
    "#trj_len += 1\n",
    "trj_len\n"
   ]
  },
  {
   "cell_type": "code",
   "execution_count": 22,
   "metadata": {},
   "outputs": [
    {
     "data": {
      "text/plain": [
       "(0.2, 2)"
      ]
     },
     "execution_count": 22,
     "metadata": {},
     "output_type": "execute_result"
    },
    {
     "data": {
      "image/png": "[encoded data removed]",
      "text/plain": [
       "<Figure size 504x504 with 1 Axes>"
      ]
     },
     "metadata": {
      "needs_background": "light"
     },
     "output_type": "display_data"
    }
   ],
   "source": [
    "plt.figure(figsize=(7,7))\n",
    "plt.title(r'PEG Radius of Gyration', fontsize=18, y=1.01)\n",
    "plt.xlabel(r'Time [ns]', fontsize=15)\n",
    "plt.ylabel(r'$R_{g}$ [nm]', fontsize=15)\n",
    "plt.plot(trj_len/100, n6peg_rgens_ace[0]/10,linewidth=2, color='#CCBE9F')\n",
    "plt.tick_params(labelsize=14)\n",
    "plt.legend(['N = 6 in acetone'], frameon=False, fontsize=14)\n",
    "#plt.text(127, 0.96,r'N = 6 in water', fontsize=18, color='#1F2E69', family='Arial')\n",
    "plt.xlim(0,180)\n",
    "plt.ylim(0.2,2)"
   ]
  },
  {
   "cell_type": "markdown",
   "metadata": {},
   "source": [
    "#### Correlation values at each arc length for the whole 180 ns trajectory, N = 6 PEG/acetone"
   ]
  },
  {
   "cell_type": "code",
   "execution_count": 25,
   "metadata": {},
   "outputs": [
    {
     "data": {
      "text/plain": [
       "array([ 0.        ,  3.24429919,  6.48859838,  9.73289757, 12.97719676])"
      ]
     },
     "execution_count": 25,
     "metadata": {},
     "output_type": "execute_result"
    }
   ],
   "source": [
    "# x values\n",
    "blen_ace = cor_n6peg_ace[3]*lb_avg_pn6\n",
    "#nt_tt[0] = 0\n",
    "blen_ace"
   ]
  },
  {
   "cell_type": "code",
   "execution_count": 26,
   "metadata": {},
   "outputs": [
    {
     "data": {
      "text/plain": [
       "array([5.65318083e-17, 5.20663261e-02, 2.20975193e-01, 6.62772183e-01,\n",
       "       1.52665649e+00])"
      ]
     },
     "execution_count": 26,
     "metadata": {},
     "output_type": "execute_result"
    }
   ],
   "source": [
    "mk_n6p_ace = cor_n6peg_ace[1]/cor_n6peg_ace[0]\n",
    "mk_n6p_ace"
   ]
  },
  {
   "cell_type": "code",
   "execution_count": 27,
   "metadata": {},
   "outputs": [
    {
     "data": {
      "text/plain": [
       "<ErrorbarContainer object of 3 artists>"
      ]
     },
     "execution_count": 27,
     "metadata": {},
     "output_type": "execute_result"
    },
    {
     "data": {
      "image/png": "[encoded data removed]",
      "text/plain": [
       "<Figure size 504x504 with 1 Axes>"
      ]
     },
     "metadata": {
      "needs_background": "light"
     },
     "output_type": "display_data"
    }
   ],
   "source": [
    "plt.figure(figsize=(7,7))\n",
    "plt.errorbar(blen_ace, np.log(cor_n6peg_ace[0]), yerr=mk_n6p_ace, color='b', linestyle=\"None\",marker='o',\n",
    "     capsize=5, capthick=1, ecolor='black')"
   ]
  },
  {
   "cell_type": "code",
   "execution_count": 33,
   "metadata": {},
   "outputs": [
    {
     "name": "stdout",
     "output_type": "stream",
     "text": [
      "3000\n",
      "6000\n",
      "Lp [Angstroms]: 10.427322654367762\n",
      "Error in Lp from fit [Angstroms], 95% CL: 2.4701748248591695\n",
      "R2 score: 0.9702843758514513\n",
      "6000\n",
      "9000\n",
      "Lp [Angstroms]: 13.775705286198143\n",
      "Error in Lp from fit [Angstroms], 95% CL: 3.4511310328831564\n",
      "R2 score: 0.9670774205773076\n",
      "9000\n",
      "12000\n",
      "Lp [Angstroms]: 10.189399241418792\n",
      "Error in Lp from fit [Angstroms], 95% CL: 2.3069662533528428\n",
      "R2 score: 0.9726228017477432\n",
      "12000\n",
      "15000\n",
      "Lp [Angstroms]: 9.105450410420946\n",
      "Error in Lp from fit [Angstroms], 95% CL: 2.6635545999343377\n",
      "R2 score: 0.9567756190412195\n",
      "15000\n",
      "18000\n",
      "Lp [Angstroms]: 9.852550509964939\n",
      "Error in Lp from fit [Angstroms], 95% CL: 2.886326453070359\n",
      "R2 score: 0.9567666826845954\n"
     ]
    }
   ],
   "source": [
    "# All the points give the best fits for N = 6 peg in water\n",
    "n6_blkspeg_ace , n6peg_fitslpace = bavg_pers_cnt(5, peg_n6ace, n6_peg_ace, lb_avg_pn6, 5, 3000 , 18000)"
   ]
  },
  {
   "cell_type": "code",
   "execution_count": 34,
   "metadata": {},
   "outputs": [
    {
     "data": {
      "text/plain": [
       "{'Avg Radius of gyration': array([3.75291919, 4.20714331, 3.66405896, 3.6556084 , 3.80455566]),\n",
       " 'Avg persistence length': array([10.42732265, 13.77570529, 10.18939924,  9.10545041,  9.85255051])}"
      ]
     },
     "execution_count": 34,
     "metadata": {},
     "output_type": "execute_result"
    }
   ],
   "source": [
    "n6_blkspeg_ace"
   ]
  },
  {
   "cell_type": "code",
   "execution_count": 35,
   "metadata": {},
   "outputs": [
    {
     "data": {
      "text/plain": [
       "array([[ 1.04273227e+01,  1.37757053e+01,  1.01893992e+01,\n",
       "         9.10545041e+00,  9.85255051e+00],\n",
       "       [ 2.47017482e+00,  3.45113103e+00,  2.30696625e+00,\n",
       "         2.66355460e+00,  2.88632645e+00],\n",
       "       [-9.59018948e-02, -7.25915646e-02, -9.81412129e-02,\n",
       "        -1.09824331e-01, -1.01496562e-01],\n",
       "       [ 7.04738094e-03,  4.51576299e-03,  6.74142614e-03,\n",
       "         1.40922743e-02,  1.20714609e-02]])"
      ]
     },
     "execution_count": 35,
     "metadata": {},
     "output_type": "execute_result"
    }
   ],
   "source": [
    "n6peg_fitslpace"
   ]
  },
  {
   "cell_type": "code",
   "execution_count": 36,
   "metadata": {},
   "outputs": [
    {
     "data": {
      "text/plain": [
       "array([-0.09590189, -0.07259156, -0.09814121, -0.10982433, -0.10149656])"
      ]
     },
     "execution_count": 36,
     "metadata": {},
     "output_type": "execute_result"
    }
   ],
   "source": [
    "n6peg_fitslpace[2]"
   ]
  },
  {
   "cell_type": "code",
   "execution_count": 37,
   "metadata": {},
   "outputs": [
    {
     "data": {
      "text/plain": [
       "0.008893661062570352"
      ]
     },
     "execution_count": 37,
     "metadata": {},
     "output_type": "execute_result"
    }
   ],
   "source": [
    "np.mean(n6peg_fitslpace[3])"
   ]
  },
  {
   "cell_type": "code",
   "execution_count": 38,
   "metadata": {},
   "outputs": [],
   "source": [
    "def line_fit(slope, x):\n",
    "    return slope*x "
   ]
  },
  {
   "cell_type": "code",
   "execution_count": 39,
   "metadata": {},
   "outputs": [
    {
     "data": {
      "text/plain": [
       "array([ 0.        ,  3.24429919,  6.48859838,  9.73289757, 12.97719676])"
      ]
     },
     "execution_count": 39,
     "metadata": {},
     "output_type": "execute_result"
    }
   ],
   "source": [
    "blen_ace"
   ]
  },
  {
   "cell_type": "code",
   "execution_count": 40,
   "metadata": {},
   "outputs": [],
   "source": [
    "gg_n6peg_ace = line_fit(np.mean(n6peg_fitslpace[2]),blen_ace)"
   ]
  },
  {
   "cell_type": "code",
   "execution_count": 41,
   "metadata": {},
   "outputs": [
    {
     "data": {
      "text/plain": [
       "array([-0.        , -0.31012617, -0.62025234, -0.93037851, -1.24050468])"
      ]
     },
     "execution_count": 41,
     "metadata": {},
     "output_type": "execute_result"
    }
   ],
   "source": [
    "gg_n6peg_ace"
   ]
  },
  {
   "cell_type": "markdown",
   "metadata": {},
   "source": [
    "### Block averaged Radius of gyration and persistence length, N = 6 PEG/acetone"
   ]
  },
  {
   "cell_type": "code",
   "execution_count": 42,
   "metadata": {},
   "outputs": [
    {
     "data": {
      "text/plain": [
       "10.670085620474117"
      ]
     },
     "execution_count": 42,
     "metadata": {},
     "output_type": "execute_result"
    }
   ],
   "source": [
    "np.mean(n6_blkspeg_ace[\"Avg persistence length\"])"
   ]
  },
  {
   "cell_type": "code",
   "execution_count": 43,
   "metadata": {},
   "outputs": [
    {
     "data": {
      "text/plain": [
       "1.6156307596915374"
      ]
     },
     "execution_count": 43,
     "metadata": {},
     "output_type": "execute_result"
    }
   ],
   "source": [
    "np.std(n6_blkspeg_ace[\"Avg persistence length\"])"
   ]
  },
  {
   "cell_type": "code",
   "execution_count": 44,
   "metadata": {},
   "outputs": [
    {
     "data": {
      "text/plain": [
       "3.816857104232489"
      ]
     },
     "execution_count": 44,
     "metadata": {},
     "output_type": "execute_result"
    }
   ],
   "source": [
    "np.mean(n6_blkspeg_ace[\"Avg Radius of gyration\"])"
   ]
  },
  {
   "cell_type": "code",
   "execution_count": 45,
   "metadata": {},
   "outputs": [
    {
     "data": {
      "text/plain": [
       "0.2029340409722713"
      ]
     },
     "execution_count": 45,
     "metadata": {},
     "output_type": "execute_result"
    }
   ],
   "source": [
    "np.std(n6_blkspeg_ace[\"Avg Radius of gyration\"])"
   ]
  },
  {
   "cell_type": "code",
   "execution_count": 46,
   "metadata": {},
   "outputs": [
    {
     "data": {
      "image/png": "[encoded data removed]",
      "text/plain": [
       "<Figure size 504x504 with 1 Axes>"
      ]
     },
     "metadata": {
      "needs_background": "light"
     },
     "output_type": "display_data"
    }
   ],
   "source": [
    "plt.figure(figsize=(7,7))\n",
    "plt.errorbar(blen_ace, np.log(cor_n6peg_ace[0]), yerr=mk_n6p_ace, color='b', linestyle=\"None\",marker='o',\n",
    "     capsize=5, capthick=1, ecolor='black')\n",
    "plt.plot(blen_ace, gg_n6peg_ace, color='b')\n",
    "plt.title(r'Ensemble Averaged ln(Cosine $\\theta$) in Acetone', fontsize=15, y=1.01)\n",
    "plt.xlabel(r'Bond Length', fontsize=15)\n",
    "plt.ylabel(r'ln$\\left< Cos(\\theta)\\right >$', fontsize=15)\n",
    "#plt.ylim(-1.9,0)\n",
    "font = font_manager.FontProperties(family='Arial', style='normal', size='14')\n",
    "plt.legend([r'$N_{PEG}$ = 6: $L_{p}$ = 10.7 $\\AA$ ± 1.62 $\\AA$'], loc=3, frameon=0, fontsize=14, prop=font)\n",
    "plt.tick_params(labelsize=14)\n",
    "#plt.text(5,-0.15,r'R$^{2}$ = 0.98', fontsize=15, color='blue')"
   ]
  },
  {
   "cell_type": "code",
   "execution_count": 126,
   "metadata": {},
   "outputs": [
    {
     "data": {
      "text/html": [
       "<div>\n",
       "<style scoped>\n",
       "    .dataframe tbody tr th:only-of-type {\n",
       "        vertical-align: middle;\n",
       "    }\n",
       "\n",
       "    .dataframe tbody tr th {\n",
       "        vertical-align: top;\n",
       "    }\n",
       "\n",
       "    .dataframe thead th {\n",
       "        text-align: right;\n",
       "    }\n",
       "</style>\n",
       "<table border=\"1\" class=\"dataframe\">\n",
       "  <thead>\n",
       "    <tr style=\"text-align: right;\">\n",
       "      <th></th>\n",
       "      <th>$R_{g}$ [Angstrom] N = 6 PEG acetone</th>\n",
       "    </tr>\n",
       "  </thead>\n",
       "  <tbody>\n",
       "    <tr>\n",
       "      <th>0</th>\n",
       "      <td>3.752919</td>\n",
       "    </tr>\n",
       "    <tr>\n",
       "      <th>1</th>\n",
       "      <td>4.207143</td>\n",
       "    </tr>\n",
       "    <tr>\n",
       "      <th>2</th>\n",
       "      <td>3.664059</td>\n",
       "    </tr>\n",
       "    <tr>\n",
       "      <th>3</th>\n",
       "      <td>3.655608</td>\n",
       "    </tr>\n",
       "    <tr>\n",
       "      <th>4</th>\n",
       "      <td>3.804556</td>\n",
       "    </tr>\n",
       "  </tbody>\n",
       "</table>\n",
       "</div>"
      ],
      "text/plain": [
       "   $R_{g}$ [Angstrom] N = 6 PEG acetone\n",
       "0                              3.752919\n",
       "1                              4.207143\n",
       "2                              3.664059\n",
       "3                              3.655608\n",
       "4                              3.804556"
      ]
     },
     "execution_count": 126,
     "metadata": {},
     "output_type": "execute_result"
    }
   ],
   "source": [
    "rgpeg_olig_ace =  pd.DataFrame(data=n6_blkspeg_ace[\"Avg Radius of gyration\"], columns=['$R_{g}$ [Angstrom] N = 6 PEG acetone'])\n",
    "rgpeg_olig_ace"
   ]
  },
  {
   "cell_type": "code",
   "execution_count": 129,
   "metadata": {},
   "outputs": [
    {
     "data": {
      "text/html": [
       "<div>\n",
       "<style scoped>\n",
       "    .dataframe tbody tr th:only-of-type {\n",
       "        vertical-align: middle;\n",
       "    }\n",
       "\n",
       "    .dataframe tbody tr th {\n",
       "        vertical-align: top;\n",
       "    }\n",
       "\n",
       "    .dataframe thead th {\n",
       "        text-align: right;\n",
       "    }\n",
       "</style>\n",
       "<table border=\"1\" class=\"dataframe\">\n",
       "  <thead>\n",
       "    <tr style=\"text-align: right;\">\n",
       "      <th></th>\n",
       "      <th>$L_{p}$ [Angstrom] N = 6 PEG acetone</th>\n",
       "    </tr>\n",
       "  </thead>\n",
       "  <tbody>\n",
       "    <tr>\n",
       "      <th>0</th>\n",
       "      <td>10.427323</td>\n",
       "    </tr>\n",
       "    <tr>\n",
       "      <th>1</th>\n",
       "      <td>13.775705</td>\n",
       "    </tr>\n",
       "    <tr>\n",
       "      <th>2</th>\n",
       "      <td>10.189399</td>\n",
       "    </tr>\n",
       "    <tr>\n",
       "      <th>3</th>\n",
       "      <td>9.105450</td>\n",
       "    </tr>\n",
       "    <tr>\n",
       "      <th>4</th>\n",
       "      <td>9.852551</td>\n",
       "    </tr>\n",
       "  </tbody>\n",
       "</table>\n",
       "</div>"
      ],
      "text/plain": [
       "   $L_{p}$ [Angstrom] N = 6 PEG acetone \n",
       "0                              10.427323\n",
       "1                              13.775705\n",
       "2                              10.189399\n",
       "3                               9.105450\n",
       "4                               9.852551"
      ]
     },
     "execution_count": 129,
     "metadata": {},
     "output_type": "execute_result"
    }
   ],
   "source": [
    "pers_pegt_ace = pd.DataFrame(data=n6_blkspeg_ace[\"Avg persistence length\"], columns=[r\"$L_{p}$ [Angstrom] N = 6 PEG acetone \"])\n",
    "pers_pegt_ace"
   ]
  },
  {
   "cell_type": "code",
   "execution_count": null,
   "metadata": {},
   "outputs": [],
   "source": []
  },
  {
   "cell_type": "code",
   "execution_count": null,
   "metadata": {},
   "outputs": [],
   "source": []
  },
  {
   "cell_type": "markdown",
   "metadata": {},
   "source": [
    "### N = 8 PEG/acetone only"
   ]
  },
  {
   "cell_type": "code",
   "execution_count": 74,
   "metadata": {},
   "outputs": [],
   "source": [
    "# For the right Rg calculation using MD Analysis, use trajactory without pbc \n",
    "n8_peg_ace = mda.Universe(\"n8peg_prod_ace/n8pegonly_ace.pdb\", \"n8peg_prod_ace/noace_n8peg.xtc\")"
   ]
  },
  {
   "cell_type": "code",
   "execution_count": 75,
   "metadata": {},
   "outputs": [
    {
     "data": {
      "text/plain": [
       "<XTCReader n8peg_prod_ace/noace_n8peg.xtc with 18001 frames of 59 atoms>"
      ]
     },
     "execution_count": 75,
     "metadata": {},
     "output_type": "execute_result"
    }
   ],
   "source": [
    "n8_peg_ace.trajectory"
   ]
  },
  {
   "cell_type": "code",
   "execution_count": 76,
   "metadata": {},
   "outputs": [
    {
     "data": {
      "text/plain": [
       "18001"
      ]
     },
     "execution_count": 76,
     "metadata": {},
     "output_type": "execute_result"
    }
   ],
   "source": [
    "len(n8_peg_ace.trajectory)"
   ]
  },
  {
   "cell_type": "code",
   "execution_count": 77,
   "metadata": {},
   "outputs": [],
   "source": [
    "#Select the polymer heavy atoms \n",
    "peg_n8ace = n8_peg_ace.select_atoms(\"resname sPEG PEG tPEG and not type H\")"
   ]
  },
  {
   "cell_type": "code",
   "execution_count": 78,
   "metadata": {},
   "outputs": [
    {
     "data": {
      "text/plain": [
       "array([[1.        , 0.99604569, 0.99323469, 0.99517532, 0.99571862,\n",
       "        0.99736859, 0.999336  ],\n",
       "       [0.        , 1.        , 2.        , 3.        , 4.        ,\n",
       "        5.        , 6.        ],\n",
       "       [0.        , 0.        , 0.        , 0.        , 0.        ,\n",
       "        0.        , 0.        ]])"
      ]
     },
     "execution_count": 78,
     "metadata": {},
     "output_type": "execute_result"
    }
   ],
   "source": [
    "crv_n8peg_ace = pers_length(peg_n8ace,8)\n",
    "crv_n8peg_ace"
   ]
  },
  {
   "cell_type": "code",
   "execution_count": 79,
   "metadata": {},
   "outputs": [],
   "source": [
    "com_bond_n8ace = np.zeros(shape=(1,18000))\n",
    "count = 0\n",
    "for ts in n8_peg_ace.trajectory[0:18000]:\n",
    "    n8_mon1_ace = n8_peg_ace.select_atoms(\"resid 1\")\n",
    "    n8_mon2_ace = n8_peg_ace.select_atoms(\"resid 2\")\n",
    "    oo_len = mda.analysis.distances.distance_array(n8_mon1_ace.center_of_mass(), n8_mon2_ace.center_of_mass(), \n",
    "                                                   box=n8_peg_ace.trajectory.ts.dimensions)\n",
    "    com_bond_n8ace[0, count] = oo_len\n",
    "    count += 1\n",
    "    "
   ]
  },
  {
   "cell_type": "code",
   "execution_count": 80,
   "metadata": {},
   "outputs": [
    {
     "data": {
      "text/plain": [
       "array([[3.31321728, 3.12619817, 3.167266  , ..., 3.16736569, 3.28082731,\n",
       "        2.96240972]])"
      ]
     },
     "execution_count": 80,
     "metadata": {},
     "output_type": "execute_result"
    }
   ],
   "source": [
    "com_bond_n8ace"
   ]
  },
  {
   "cell_type": "code",
   "execution_count": 81,
   "metadata": {},
   "outputs": [
    {
     "data": {
      "text/plain": [
       "3.2442991909861867"
      ]
     },
     "execution_count": 81,
     "metadata": {},
     "output_type": "execute_result"
    }
   ],
   "source": [
    "lb_avg_pn6 = np.mean(com_bond)\n",
    "lb_avg_pn6"
   ]
  },
  {
   "cell_type": "code",
   "execution_count": 84,
   "metadata": {},
   "outputs": [
    {
     "data": {
      "text/plain": [
       "0.17413480862198993"
      ]
     },
     "execution_count": 84,
     "metadata": {},
     "output_type": "execute_result"
    }
   ],
   "source": [
    "np.std(com_bond)"
   ]
  },
  {
   "cell_type": "code",
   "execution_count": 83,
   "metadata": {},
   "outputs": [
    {
     "data": {
      "text/plain": [
       "3.219152850426667"
      ]
     },
     "execution_count": 83,
     "metadata": {},
     "output_type": "execute_result"
    }
   ],
   "source": [
    "np.mean(com_bond_n8ace)"
   ]
  },
  {
   "cell_type": "code",
   "execution_count": 82,
   "metadata": {},
   "outputs": [
    {
     "data": {
      "text/plain": [
       "0.17575240783303925"
      ]
     },
     "execution_count": 82,
     "metadata": {},
     "output_type": "execute_result"
    }
   ],
   "source": [
    "np.std(com_bond_n8ace)"
   ]
  },
  {
   "cell_type": "markdown",
   "metadata": {},
   "source": [
    "### Radius of Gyration vs. time N = 8 PEG/acetone"
   ]
  },
  {
   "cell_type": "code",
   "execution_count": 85,
   "metadata": {},
   "outputs": [],
   "source": [
    "n8peg_rgens_ace, cor_n8peg_ace, N8peg_cos_ace, rgace_n8peg = get_rg_pers_poly(peg_n8ace, n8_peg_ace, 0, 18000)"
   ]
  },
  {
   "cell_type": "code",
   "execution_count": 86,
   "metadata": {},
   "outputs": [
    {
     "data": {
      "text/plain": [
       "(18000,)"
      ]
     },
     "execution_count": 86,
     "metadata": {},
     "output_type": "execute_result"
    }
   ],
   "source": [
    "n8peg_rgens_ace[0].shape"
   ]
  },
  {
   "cell_type": "code",
   "execution_count": 87,
   "metadata": {},
   "outputs": [
    {
     "data": {
      "text/plain": [
       "array([0., 1., 2., 3., 4., 5., 6.])"
      ]
     },
     "execution_count": 87,
     "metadata": {},
     "output_type": "execute_result"
    }
   ],
   "source": [
    "cor_n8peg_ace[3]"
   ]
  },
  {
   "cell_type": "code",
   "execution_count": 88,
   "metadata": {},
   "outputs": [
    {
     "data": {
      "text/plain": [
       "array([[1.        , 1.        , 1.        , ..., 1.        , 1.        ,\n",
       "        1.        ],\n",
       "       [0.99604569, 0.93257432, 0.9251242 , ..., 0.9027912 , 0.90457052,\n",
       "        0.83886665],\n",
       "       [0.99323469, 0.88950252, 0.88431364, ..., 0.78912983, 0.79341753,\n",
       "        0.70691118],\n",
       "       ...,\n",
       "       [0.99571862, 0.83964193, 0.84597333, ..., 0.79958697, 0.61161589,\n",
       "        0.72731349],\n",
       "       [0.99736859, 0.73845263, 0.69775457, ..., 0.78960466, 0.42826952,\n",
       "        0.69255541],\n",
       "       [0.999336  , 0.56787048, 0.51902123, ..., 0.71893884, 0.76742263,\n",
       "        0.74771258]])"
      ]
     },
     "execution_count": 88,
     "metadata": {},
     "output_type": "execute_result"
    }
   ],
   "source": [
    "N8peg_cos_ace"
   ]
  },
  {
   "cell_type": "code",
   "execution_count": 89,
   "metadata": {},
   "outputs": [
    {
     "data": {
      "text/plain": [
       "4.566421173872531"
      ]
     },
     "execution_count": 89,
     "metadata": {},
     "output_type": "execute_result"
    }
   ],
   "source": [
    "rgace_n8peg"
   ]
  },
  {
   "cell_type": "code",
   "execution_count": 90,
   "metadata": {},
   "outputs": [
    {
     "data": {
      "text/plain": [
       "0.8650318163322169"
      ]
     },
     "execution_count": 90,
     "metadata": {},
     "output_type": "execute_result"
    }
   ],
   "source": [
    "np.std(n8peg_rgens_ace)"
   ]
  },
  {
   "cell_type": "code",
   "execution_count": 99,
   "metadata": {},
   "outputs": [
    {
     "data": {
      "text/plain": [
       "(0.2, 2)"
      ]
     },
     "execution_count": 99,
     "metadata": {},
     "output_type": "execute_result"
    },
    {
     "data": {
      "image/png": "[encoded data removed]",
      "text/plain": [
       "<Figure size 504x504 with 1 Axes>"
      ]
     },
     "metadata": {
      "needs_background": "light"
     },
     "output_type": "display_data"
    }
   ],
   "source": [
    "plt.figure(figsize=(7,7))\n",
    "plt.title(r'PEG Radius of Gyration', fontsize=18, y=1.01)\n",
    "plt.xlabel(r'Time [ns]', fontsize=15)\n",
    "plt.ylabel(r'$R_{g}$ [nm]', fontsize=15)\n",
    "plt.plot(trj_len/100, n6peg_rgens_ace[0]/10,linewidth=2, color='#CCBE9F')\n",
    "plt.plot(trj_len/100, n8peg_rgens_ace[0]/10,linewidth=2, color='#601A4A')\n",
    "plt.tick_params(labelsize=14)\n",
    "plt.legend(['N = 6 in acetone','N = 8 in acetone'], frameon=False, fontsize=14)\n",
    "#plt.text(127, 0.96,r'N = 6 in water', fontsize=18, color='#1F2E69', family='Arial')\n",
    "plt.xlim(0,180)\n",
    "plt.ylim(0.2,2)"
   ]
  },
  {
   "cell_type": "markdown",
   "metadata": {},
   "source": [
    "#### Correlation values at each arc length for the whole 180 ns trajectory, N = 8 PEG/acetone"
   ]
  },
  {
   "cell_type": "code",
   "execution_count": 93,
   "metadata": {},
   "outputs": [
    {
     "data": {
      "text/plain": [
       "array([ 0.        ,  3.24429919,  6.48859838,  9.73289757, 12.97719676,\n",
       "       16.22149595, 19.46579515])"
      ]
     },
     "execution_count": 93,
     "metadata": {},
     "output_type": "execute_result"
    }
   ],
   "source": [
    "# x values\n",
    "blen_n8ace = cor_n8peg_ace[3]*lb_avg_pn6\n",
    "#nt_tt[0] = 0\n",
    "blen_n8ace"
   ]
  },
  {
   "cell_type": "code",
   "execution_count": 94,
   "metadata": {},
   "outputs": [
    {
     "data": {
      "text/plain": [
       "array([3.56598842e-17, 3.90145230e-02, 1.43199024e-01, 3.48854779e-01,\n",
       "       7.26315151e-01, 1.36036897e+00, 2.47225277e+00])"
      ]
     },
     "execution_count": 94,
     "metadata": {},
     "output_type": "execute_result"
    }
   ],
   "source": [
    "mk_n8p_ace = cor_n8peg_ace[1]/cor_n8peg_ace[0]\n",
    "mk_n8p_ace"
   ]
  },
  {
   "cell_type": "code",
   "execution_count": 150,
   "metadata": {},
   "outputs": [
    {
     "data": {
      "text/plain": [
       "<matplotlib.legend.Legend at 0x1a22bc6b00>"
      ]
     },
     "execution_count": 150,
     "metadata": {},
     "output_type": "execute_result"
    },
    {
     "data": {
      "image/png": "[encoded data removed]",
      "text/plain": [
       "<Figure size 504x504 with 1 Axes>"
      ]
     },
     "metadata": {
      "needs_background": "light"
     },
     "output_type": "display_data"
    }
   ],
   "source": [
    "plt.figure(figsize=(7,7))\n",
    "plt.errorbar(blen_ace, np.log(cor_n6peg_ace[0]), yerr=mk_n6p_ace, color='#CCBE9F', linestyle=\"None\",marker='o',\n",
    "     capsize=5, capthick=1, ecolor='black')\n",
    "plt.errorbar(blen_n8ace, np.log(cor_n8peg_ace[0]), yerr=mk_n8p_ace, color='#601A4A', linestyle=\"None\",marker='o',\n",
    "     capsize=5, capthick=1, ecolor='black')\n",
    "plt.legend(['N = 6 in acetone','N = 8 in acetone'], frameon=False, fontsize=14)"
   ]
  },
  {
   "cell_type": "code",
   "execution_count": 101,
   "metadata": {},
   "outputs": [
    {
     "name": "stdout",
     "output_type": "stream",
     "text": [
      "3000\n",
      "6000\n",
      "Lp [Angstroms]: 10.539570676993067\n",
      "Error in Lp from fit [Angstroms], 95% CL : 1.878154613211675\n",
      "R2 score: 0.9456175904846491\n",
      "6000\n",
      "9000\n",
      "Lp [Angstroms]: 12.344046218584763\n",
      "Error in Lp from fit [Angstroms], 95% CL : 1.7173331482100234\n",
      "R2 score: 0.9648609563560503\n",
      "9000\n",
      "12000\n",
      "Lp [Angstroms]: 15.047093819340482\n",
      "Error in Lp from fit [Angstroms], 95% CL : 1.5362919195326807\n",
      "R2 score: 0.9798613660373777\n",
      "12000\n",
      "15000\n",
      "Lp [Angstroms]: 13.73245875606743\n",
      "Error in Lp from fit [Angstroms], 95% CL : 1.758853209938992\n",
      "R2 score: 0.9696790199678025\n",
      "15000\n",
      "18000\n",
      "Lp [Angstroms]: 12.611575527388778\n",
      "Error in Lp from fit [Angstroms], 95% CL : 1.8342698692638508\n",
      "R2 score: 0.9619544542725256\n"
     ]
    }
   ],
   "source": [
    "# All the points give the best fits for N = 6 peg in water\n",
    "n8_blkspeg_ace , n8peg_fitslpace = bavg_pers_cnt(5, peg_n8ace, n8_peg_ace, lb_avg_pn6, 5, 3000 , 18000)"
   ]
  },
  {
   "cell_type": "code",
   "execution_count": 102,
   "metadata": {},
   "outputs": [
    {
     "data": {
      "text/plain": [
       "{'Avg Radius of gyration': array([4.16331947, 4.4434738 , 4.84151584, 4.69910378, 4.54488306]),\n",
       " 'Avg persistence length': array([10.53957068, 12.34404622, 15.04709382, 13.73245876, 12.61157553])}"
      ]
     },
     "execution_count": 102,
     "metadata": {},
     "output_type": "execute_result"
    }
   ],
   "source": [
    "n8_blkspeg_ace"
   ]
  },
  {
   "cell_type": "code",
   "execution_count": 103,
   "metadata": {},
   "outputs": [
    {
     "data": {
      "text/plain": [
       "array([[ 1.05395707e+01,  1.23440462e+01,  1.50470938e+01,\n",
       "         1.37324588e+01,  1.26115755e+01],\n",
       "       [ 1.87815461e+00,  1.71733315e+00,  1.53629192e+00,\n",
       "         1.75885321e+00,  1.83426987e+00],\n",
       "       [-9.48805251e-02, -8.10107142e-02, -6.64580159e-02,\n",
       "        -7.28201714e-02, -7.92922342e-02],\n",
       "       [ 1.36616344e-02,  6.07030633e-03,  2.20023281e-03,\n",
       "         4.15716858e-03,  6.35595396e-03]])"
      ]
     },
     "execution_count": 103,
     "metadata": {},
     "output_type": "execute_result"
    }
   ],
   "source": [
    "n8peg_fitslpace"
   ]
  },
  {
   "cell_type": "code",
   "execution_count": 104,
   "metadata": {},
   "outputs": [
    {
     "data": {
      "text/plain": [
       "array([-0.09488053, -0.08101071, -0.06645802, -0.07282017, -0.07929223])"
      ]
     },
     "execution_count": 104,
     "metadata": {},
     "output_type": "execute_result"
    }
   ],
   "source": [
    "n8peg_fitslpace[2]"
   ]
  },
  {
   "cell_type": "code",
   "execution_count": 105,
   "metadata": {},
   "outputs": [
    {
     "data": {
      "text/plain": [
       "0.006489059214964654"
      ]
     },
     "execution_count": 105,
     "metadata": {},
     "output_type": "execute_result"
    }
   ],
   "source": [
    "np.mean(n8peg_fitslpace[3])"
   ]
  },
  {
   "cell_type": "code",
   "execution_count": 106,
   "metadata": {},
   "outputs": [
    {
     "data": {
      "text/plain": [
       "array([ 0.        ,  3.24429919,  6.48859838,  9.73289757, 12.97719676,\n",
       "       16.22149595, 19.46579515])"
      ]
     },
     "execution_count": 106,
     "metadata": {},
     "output_type": "execute_result"
    }
   ],
   "source": [
    "blen_n8ace"
   ]
  },
  {
   "cell_type": "code",
   "execution_count": 107,
   "metadata": {},
   "outputs": [],
   "source": [
    "gg_n8peg_ace = line_fit(np.mean(n8peg_fitslpace[2]),blen_n8ace)"
   ]
  },
  {
   "cell_type": "code",
   "execution_count": 108,
   "metadata": {},
   "outputs": [],
   "source": [
    "gg_n6peg_n8ace = line_fit(np.mean(n6peg_fitslpace[2]),blen_n8ace)"
   ]
  },
  {
   "cell_type": "code",
   "execution_count": 109,
   "metadata": {},
   "outputs": [
    {
     "data": {
      "text/plain": [
       "array([-0.        , -0.25595033, -0.51190066, -0.76785099, -1.02380132,\n",
       "       -1.27975165, -1.53570198])"
      ]
     },
     "execution_count": 109,
     "metadata": {},
     "output_type": "execute_result"
    }
   ],
   "source": [
    "gg_n8peg_ace"
   ]
  },
  {
   "cell_type": "markdown",
   "metadata": {},
   "source": [
    "### Block averaged Radius of gyration and persistence length, N = 8 PEG/acetone"
   ]
  },
  {
   "cell_type": "code",
   "execution_count": 110,
   "metadata": {},
   "outputs": [
    {
     "data": {
      "text/plain": [
       "12.854948999674903"
      ]
     },
     "execution_count": 110,
     "metadata": {},
     "output_type": "execute_result"
    }
   ],
   "source": [
    "np.mean(n8_blkspeg_ace[\"Avg persistence length\"])"
   ]
  },
  {
   "cell_type": "code",
   "execution_count": 111,
   "metadata": {},
   "outputs": [
    {
     "data": {
      "text/plain": [
       "1.500450023082002"
      ]
     },
     "execution_count": 111,
     "metadata": {},
     "output_type": "execute_result"
    }
   ],
   "source": [
    "np.std(n8_blkspeg_ace[\"Avg persistence length\"])"
   ]
  },
  {
   "cell_type": "code",
   "execution_count": 112,
   "metadata": {},
   "outputs": [
    {
     "data": {
      "text/plain": [
       "4.538459189886757"
      ]
     },
     "execution_count": 112,
     "metadata": {},
     "output_type": "execute_result"
    }
   ],
   "source": [
    "np.mean(n8_blkspeg_ace[\"Avg Radius of gyration\"])"
   ]
  },
  {
   "cell_type": "code",
   "execution_count": 113,
   "metadata": {},
   "outputs": [
    {
     "data": {
      "text/plain": [
       "0.23127616288836633"
      ]
     },
     "execution_count": 113,
     "metadata": {},
     "output_type": "execute_result"
    }
   ],
   "source": [
    "np.std(n8_blkspeg_ace[\"Avg Radius of gyration\"])"
   ]
  },
  {
   "cell_type": "code",
   "execution_count": 121,
   "metadata": {},
   "outputs": [
    {
     "data": {
      "image/png": "[encoded data removed]",
      "text/plain": [
       "<Figure size 504x504 with 1 Axes>"
      ]
     },
     "metadata": {
      "needs_background": "light"
     },
     "output_type": "display_data"
    }
   ],
   "source": [
    "plt.figure(figsize=(7,7))\n",
    "plt.errorbar(blen_ace, np.log(cor_n6peg_ace[0]), yerr=mk_n6p_ace, color='#CCBE9F', linestyle=\"None\",marker='o',\n",
    "     capsize=5, capthick=1, ecolor='black')\n",
    "plt.errorbar(blen_n8ace, np.log(cor_n8peg_ace[0]), yerr=mk_n8p_ace, color='#601A4A', linestyle=\"None\",marker='o',\n",
    "     capsize=5, capthick=1, ecolor='black')\n",
    "plt.plot(blen_n8ace, gg_n6peg_n8ace, color='#CCBE9F')\n",
    "plt.plot(blen_n8ace, gg_n8peg_ace, color='#601A4A')\n",
    "plt.title(r'Ensemble Averaged ln(Cosine $\\theta$) in Acetone', fontsize=15, y=1.01)\n",
    "plt.xlabel(r'Bond Length', fontsize=15)\n",
    "plt.ylabel(r'ln$\\left< Cos(\\theta)\\right >$', fontsize=15)\n",
    "plt.ylim(-6,1)\n",
    "plt.xlim(0,25)\n",
    "#plt.ylim(-1.9,0)\n",
    "font = font_manager.FontProperties(family='Arial', style='normal', size='14')\n",
    "plt.text(0.5, -5.9,r'$N_{PEG}$ = 6: $L_{p}$ = 10.7 $\\AA$ ± 1.62 $\\AA$', fontsize=15, color='#CCBE9F')\n",
    "plt.text(0.5,-5.58,r'$N_{PEG}$ = 8: $L_{p}$ = 12.9 $\\AA$ ± 1.50 $\\AA$', fontsize=15, color='#601A4A')\n",
    "plt.tick_params(labelsize=14)\n",
    "#plt.text(5,-0.15,r'R$^{2}$ = 0.98', fontsize=15, color='blue')"
   ]
  },
  {
   "cell_type": "code",
   "execution_count": 122,
   "metadata": {},
   "outputs": [
    {
     "data": {
      "text/html": [
       "<div>\n",
       "<style scoped>\n",
       "    .dataframe tbody tr th:only-of-type {\n",
       "        vertical-align: middle;\n",
       "    }\n",
       "\n",
       "    .dataframe tbody tr th {\n",
       "        vertical-align: top;\n",
       "    }\n",
       "\n",
       "    .dataframe thead th {\n",
       "        text-align: right;\n",
       "    }\n",
       "</style>\n",
       "<table border=\"1\" class=\"dataframe\">\n",
       "  <thead>\n",
       "    <tr style=\"text-align: right;\">\n",
       "      <th></th>\n",
       "      <th>$R_{g}$ [Angstrom] N = 6 PEG acetone</th>\n",
       "    </tr>\n",
       "  </thead>\n",
       "  <tbody>\n",
       "    <tr>\n",
       "      <th>0</th>\n",
       "      <td>3.752919</td>\n",
       "    </tr>\n",
       "    <tr>\n",
       "      <th>1</th>\n",
       "      <td>4.207143</td>\n",
       "    </tr>\n",
       "    <tr>\n",
       "      <th>2</th>\n",
       "      <td>3.664059</td>\n",
       "    </tr>\n",
       "    <tr>\n",
       "      <th>3</th>\n",
       "      <td>3.655608</td>\n",
       "    </tr>\n",
       "    <tr>\n",
       "      <th>4</th>\n",
       "      <td>3.804556</td>\n",
       "    </tr>\n",
       "  </tbody>\n",
       "</table>\n",
       "</div>"
      ],
      "text/plain": [
       "   $R_{g}$ [Angstrom] N = 6 PEG acetone\n",
       "0                              3.752919\n",
       "1                              4.207143\n",
       "2                              3.664059\n",
       "3                              3.655608\n",
       "4                              3.804556"
      ]
     },
     "execution_count": 122,
     "metadata": {},
     "output_type": "execute_result"
    }
   ],
   "source": [
    "rgpeg_olig_ace"
   ]
  },
  {
   "cell_type": "code",
   "execution_count": 127,
   "metadata": {},
   "outputs": [
    {
     "data": {
      "text/html": [
       "<div>\n",
       "<style scoped>\n",
       "    .dataframe tbody tr th:only-of-type {\n",
       "        vertical-align: middle;\n",
       "    }\n",
       "\n",
       "    .dataframe tbody tr th {\n",
       "        vertical-align: top;\n",
       "    }\n",
       "\n",
       "    .dataframe thead th {\n",
       "        text-align: right;\n",
       "    }\n",
       "</style>\n",
       "<table border=\"1\" class=\"dataframe\">\n",
       "  <thead>\n",
       "    <tr style=\"text-align: right;\">\n",
       "      <th></th>\n",
       "      <th>$R_{g}$ [Angstrom] N = 6 PEG acetone</th>\n",
       "      <th>$R_{g}$ [Angstrom] N = 8 PEG acetone</th>\n",
       "    </tr>\n",
       "  </thead>\n",
       "  <tbody>\n",
       "    <tr>\n",
       "      <th>0</th>\n",
       "      <td>3.752919</td>\n",
       "      <td>4.163319</td>\n",
       "    </tr>\n",
       "    <tr>\n",
       "      <th>1</th>\n",
       "      <td>4.207143</td>\n",
       "      <td>4.443474</td>\n",
       "    </tr>\n",
       "    <tr>\n",
       "      <th>2</th>\n",
       "      <td>3.664059</td>\n",
       "      <td>4.841516</td>\n",
       "    </tr>\n",
       "    <tr>\n",
       "      <th>3</th>\n",
       "      <td>3.655608</td>\n",
       "      <td>4.699104</td>\n",
       "    </tr>\n",
       "    <tr>\n",
       "      <th>4</th>\n",
       "      <td>3.804556</td>\n",
       "      <td>4.544883</td>\n",
       "    </tr>\n",
       "  </tbody>\n",
       "</table>\n",
       "</div>"
      ],
      "text/plain": [
       "   $R_{g}$ [Angstrom] N = 6 PEG acetone  $R_{g}$ [Angstrom] N = 8 PEG acetone\n",
       "0                              3.752919                              4.163319\n",
       "1                              4.207143                              4.443474\n",
       "2                              3.664059                              4.841516\n",
       "3                              3.655608                              4.699104\n",
       "4                              3.804556                              4.544883"
      ]
     },
     "execution_count": 127,
     "metadata": {},
     "output_type": "execute_result"
    }
   ],
   "source": [
    "rgpeg_olig_ace[r\"$R_{g}$ [Angstrom] N = 8 PEG acetone\"] = n8_blkspeg_ace[\"Avg Radius of gyration\"]\n",
    "rgpeg_olig_ace"
   ]
  },
  {
   "cell_type": "code",
   "execution_count": 130,
   "metadata": {},
   "outputs": [
    {
     "data": {
      "text/html": [
       "<div>\n",
       "<style scoped>\n",
       "    .dataframe tbody tr th:only-of-type {\n",
       "        vertical-align: middle;\n",
       "    }\n",
       "\n",
       "    .dataframe tbody tr th {\n",
       "        vertical-align: top;\n",
       "    }\n",
       "\n",
       "    .dataframe thead th {\n",
       "        text-align: right;\n",
       "    }\n",
       "</style>\n",
       "<table border=\"1\" class=\"dataframe\">\n",
       "  <thead>\n",
       "    <tr style=\"text-align: right;\">\n",
       "      <th></th>\n",
       "      <th>$L_{p}$ [Angstrom] N = 6 PEG acetone</th>\n",
       "      <th>$L_{p}$ [Angstrom] N = 8 PEG acetone</th>\n",
       "    </tr>\n",
       "  </thead>\n",
       "  <tbody>\n",
       "    <tr>\n",
       "      <th>0</th>\n",
       "      <td>10.427323</td>\n",
       "      <td>10.539571</td>\n",
       "    </tr>\n",
       "    <tr>\n",
       "      <th>1</th>\n",
       "      <td>13.775705</td>\n",
       "      <td>12.344046</td>\n",
       "    </tr>\n",
       "    <tr>\n",
       "      <th>2</th>\n",
       "      <td>10.189399</td>\n",
       "      <td>15.047094</td>\n",
       "    </tr>\n",
       "    <tr>\n",
       "      <th>3</th>\n",
       "      <td>9.105450</td>\n",
       "      <td>13.732459</td>\n",
       "    </tr>\n",
       "    <tr>\n",
       "      <th>4</th>\n",
       "      <td>9.852551</td>\n",
       "      <td>12.611576</td>\n",
       "    </tr>\n",
       "  </tbody>\n",
       "</table>\n",
       "</div>"
      ],
      "text/plain": [
       "   $L_{p}$ [Angstrom] N = 6 PEG acetone   \\\n",
       "0                              10.427323   \n",
       "1                              13.775705   \n",
       "2                              10.189399   \n",
       "3                               9.105450   \n",
       "4                               9.852551   \n",
       "\n",
       "   $L_{p}$ [Angstrom] N = 8 PEG acetone   \n",
       "0                              10.539571  \n",
       "1                              12.344046  \n",
       "2                              15.047094  \n",
       "3                              13.732459  \n",
       "4                              12.611576  "
      ]
     },
     "execution_count": 130,
     "metadata": {},
     "output_type": "execute_result"
    }
   ],
   "source": [
    "pers_pegt_ace[r\"$L_{p}$ [Angstrom] N = 8 PEG acetone \"] = n8_blkspeg_ace[\"Avg persistence length\"]\n",
    "pers_pegt_ace"
   ]
  },
  {
   "cell_type": "code",
   "execution_count": null,
   "metadata": {},
   "outputs": [],
   "source": []
  },
  {
   "cell_type": "code",
   "execution_count": null,
   "metadata": {},
   "outputs": [],
   "source": []
  },
  {
   "cell_type": "markdown",
   "metadata": {},
   "source": [
    "### N = 10 PEG/acetone only"
   ]
  },
  {
   "cell_type": "code",
   "execution_count": 131,
   "metadata": {},
   "outputs": [],
   "source": [
    "# For the right Rg calculation using MD Analysis, use trajactory without pbc \n",
    "n10_peg_ace = mda.Universe(\"n10peg_prod_ace/n10pegonly_ace.pdb\", \"n10peg_prod_ace/noace_n10peg.xtc\")"
   ]
  },
  {
   "cell_type": "code",
   "execution_count": 133,
   "metadata": {},
   "outputs": [
    {
     "data": {
      "text/plain": [
       "<XTCReader n10peg_prod_ace/noace_n10peg.xtc with 18001 frames of 73 atoms>"
      ]
     },
     "execution_count": 133,
     "metadata": {},
     "output_type": "execute_result"
    }
   ],
   "source": [
    "n10_peg_ace.trajectory"
   ]
  },
  {
   "cell_type": "code",
   "execution_count": 134,
   "metadata": {},
   "outputs": [
    {
     "data": {
      "text/plain": [
       "18001"
      ]
     },
     "execution_count": 134,
     "metadata": {},
     "output_type": "execute_result"
    }
   ],
   "source": [
    "len(n10_peg_ace.trajectory)"
   ]
  },
  {
   "cell_type": "code",
   "execution_count": 135,
   "metadata": {},
   "outputs": [],
   "source": [
    "#Select the polymer heavy atoms \n",
    "peg_n10ace = n10_peg_ace.select_atoms(\"resname sPEG PEG tPEG and not type H\")"
   ]
  },
  {
   "cell_type": "code",
   "execution_count": 136,
   "metadata": {},
   "outputs": [
    {
     "data": {
      "text/plain": [
       "array([[1.        , 0.99292359, 0.99276844, 0.99033489, 0.99034908,\n",
       "        0.99310283, 0.9894771 , 0.99003329, 0.99380485],\n",
       "       [0.        , 1.        , 2.        , 3.        , 4.        ,\n",
       "        5.        , 6.        , 7.        , 8.        ],\n",
       "       [0.        , 0.        , 0.        , 0.        , 0.        ,\n",
       "        0.        , 8.31930152, 0.        , 0.        ]])"
      ]
     },
     "execution_count": 136,
     "metadata": {},
     "output_type": "execute_result"
    }
   ],
   "source": [
    "crv_n10peg_ace = pers_length(peg_n10ace,10)\n",
    "crv_n10peg_ace"
   ]
  },
  {
   "cell_type": "code",
   "execution_count": 137,
   "metadata": {},
   "outputs": [],
   "source": [
    "com_bond_n10ace = np.zeros(shape=(1,18000))\n",
    "count = 0\n",
    "for ts in n10_peg_ace.trajectory[0:18000]:\n",
    "    n10_mon1_ace = n10_peg_ace.select_atoms(\"resid 1\")\n",
    "    n10_mon2_ace = n10_peg_ace.select_atoms(\"resid 2\")\n",
    "    oo_len = mda.analysis.distances.distance_array(n10_mon1_ace.center_of_mass(), n10_mon2_ace.center_of_mass(), \n",
    "                                                   box=n10_peg_ace.trajectory.ts.dimensions)\n",
    "    com_bond_n10ace[0, count] = oo_len\n",
    "    count += 1\n",
    "    "
   ]
  },
  {
   "cell_type": "code",
   "execution_count": 138,
   "metadata": {},
   "outputs": [
    {
     "data": {
      "text/plain": [
       "array([[3.56888845, 2.96767892, 3.47360287, ..., 3.25989458, 3.33859083,\n",
       "        3.22939374]])"
      ]
     },
     "execution_count": 138,
     "metadata": {},
     "output_type": "execute_result"
    }
   ],
   "source": [
    "com_bond_n10ace"
   ]
  },
  {
   "cell_type": "code",
   "execution_count": 81,
   "metadata": {},
   "outputs": [
    {
     "data": {
      "text/plain": [
       "3.2442991909861867"
      ]
     },
     "execution_count": 81,
     "metadata": {},
     "output_type": "execute_result"
    }
   ],
   "source": [
    "lb_avg_pn6 = np.mean(com_bond)\n",
    "lb_avg_pn6"
   ]
  },
  {
   "cell_type": "code",
   "execution_count": 84,
   "metadata": {},
   "outputs": [
    {
     "data": {
      "text/plain": [
       "0.17413480862198993"
      ]
     },
     "execution_count": 84,
     "metadata": {},
     "output_type": "execute_result"
    }
   ],
   "source": [
    "np.std(com_bond)"
   ]
  },
  {
   "cell_type": "code",
   "execution_count": 139,
   "metadata": {},
   "outputs": [
    {
     "data": {
      "text/plain": [
       "3.2197932461544663"
      ]
     },
     "execution_count": 139,
     "metadata": {},
     "output_type": "execute_result"
    }
   ],
   "source": [
    "np.mean(com_bond_n10ace)"
   ]
  },
  {
   "cell_type": "code",
   "execution_count": 140,
   "metadata": {},
   "outputs": [
    {
     "data": {
      "text/plain": [
       "0.17973101109778936"
      ]
     },
     "execution_count": 140,
     "metadata": {},
     "output_type": "execute_result"
    }
   ],
   "source": [
    "np.std(com_bond_n10ace)"
   ]
  },
  {
   "cell_type": "markdown",
   "metadata": {},
   "source": [
    "### Radius of Gyration vs. time N = 10 PEG/acetone"
   ]
  },
  {
   "cell_type": "code",
   "execution_count": 141,
   "metadata": {},
   "outputs": [],
   "source": [
    "n10peg_rgens_ace, cor_n10peg_ace, N10peg_cos_ace, rgace_n10peg = get_rg_pers_poly(peg_n10ace, n10_peg_ace, 0, 18000)"
   ]
  },
  {
   "cell_type": "code",
   "execution_count": 142,
   "metadata": {},
   "outputs": [
    {
     "data": {
      "text/plain": [
       "(18000,)"
      ]
     },
     "execution_count": 142,
     "metadata": {},
     "output_type": "execute_result"
    }
   ],
   "source": [
    "n10peg_rgens_ace[0].shape"
   ]
  },
  {
   "cell_type": "code",
   "execution_count": 143,
   "metadata": {},
   "outputs": [
    {
     "data": {
      "text/plain": [
       "array([0., 1., 2., 3., 4., 5., 6., 7., 8.])"
      ]
     },
     "execution_count": 143,
     "metadata": {},
     "output_type": "execute_result"
    }
   ],
   "source": [
    "cor_n10peg_ace[3]"
   ]
  },
  {
   "cell_type": "code",
   "execution_count": 144,
   "metadata": {},
   "outputs": [
    {
     "data": {
      "text/plain": [
       "array([[ 1.        ,  1.        ,  1.        , ...,  1.        ,\n",
       "         1.        ,  1.        ],\n",
       "       [ 0.99292359,  0.96859852,  0.94755644, ...,  0.85709543,\n",
       "         0.8636019 ,  0.88675783],\n",
       "       [ 0.99276844,  0.95123824,  0.89612631, ...,  0.58205585,\n",
       "         0.61305566,  0.66921343],\n",
       "       ...,\n",
       "       [ 0.9894771 ,  0.94124163,  0.8176985 , ..., -0.20256842,\n",
       "        -0.26159818, -0.31992578],\n",
       "       [ 0.99003329,  0.97429879,  0.87628529, ..., -0.50909126,\n",
       "        -0.68488643, -0.58293589],\n",
       "       [ 0.99380485,  0.93433973,  0.89830565, ..., -0.77156813,\n",
       "        -0.90684808, -0.67126232]])"
      ]
     },
     "execution_count": 144,
     "metadata": {},
     "output_type": "execute_result"
    }
   ],
   "source": [
    "N10peg_cos_ace"
   ]
  },
  {
   "cell_type": "code",
   "execution_count": 145,
   "metadata": {},
   "outputs": [
    {
     "data": {
      "text/plain": [
       "5.30255754277353"
      ]
     },
     "execution_count": 145,
     "metadata": {},
     "output_type": "execute_result"
    }
   ],
   "source": [
    "rgace_n10peg"
   ]
  },
  {
   "cell_type": "code",
   "execution_count": 146,
   "metadata": {},
   "outputs": [
    {
     "data": {
      "text/plain": [
       "1.0981999589311058"
      ]
     },
     "execution_count": 146,
     "metadata": {},
     "output_type": "execute_result"
    }
   ],
   "source": [
    "np.std(n10peg_rgens_ace)"
   ]
  },
  {
   "cell_type": "code",
   "execution_count": 147,
   "metadata": {},
   "outputs": [
    {
     "data": {
      "text/plain": [
       "(0.2, 2)"
      ]
     },
     "execution_count": 147,
     "metadata": {},
     "output_type": "execute_result"
    },
    {
     "data": {
      "image/png": "[encoded data removed]",
      "text/plain": [
       "<Figure size 504x504 with 1 Axes>"
      ]
     },
     "metadata": {
      "needs_background": "light"
     },
     "output_type": "display_data"
    }
   ],
   "source": [
    "plt.figure(figsize=(7,7))\n",
    "plt.title(r'PEG Radius of Gyration', fontsize=18, y=1.01)\n",
    "plt.xlabel(r'Time [ns]', fontsize=15)\n",
    "plt.ylabel(r'$R_{g}$ [nm]', fontsize=15)\n",
    "plt.plot(trj_len/100, n6peg_rgens_ace[0]/10,linewidth=2, color='#CCBE9F')\n",
    "plt.plot(trj_len/100, n8peg_rgens_ace[0]/10,linewidth=2, color='#601A4A')\n",
    "plt.plot(trj_len/100, n10peg_rgens_ace[0]/10,linewidth=2, color='#2B6322')\n",
    "plt.tick_params(labelsize=14)\n",
    "plt.legend(['N = 6 in acetone','N = 8 in acetone','N = 10 in acetone'], frameon=False, fontsize=14)\n",
    "#plt.text(127, 0.96,r'N = 6 in water', fontsize=18, color='#1F2E69', family='Arial')\n",
    "plt.xlim(0,180)\n",
    "plt.ylim(0.2,2)"
   ]
  },
  {
   "cell_type": "markdown",
   "metadata": {},
   "source": [
    "#### Correlation values at each arc length for the whole 180 ns trajectory, N = 10 PEG/acetone"
   ]
  },
  {
   "cell_type": "code",
   "execution_count": 148,
   "metadata": {},
   "outputs": [
    {
     "data": {
      "text/plain": [
       "array([ 0.        ,  3.24429919,  6.48859838,  9.73289757, 12.97719676,\n",
       "       16.22149595, 19.46579515, 22.71009434, 25.95439353])"
      ]
     },
     "execution_count": 148,
     "metadata": {},
     "output_type": "execute_result"
    }
   ],
   "source": [
    "# x values\n",
    "blen_n10ace = cor_n10peg_ace[3]*lb_avg_pn6\n",
    "#nt_tt[0] = 0\n",
    "blen_n10ace"
   ]
  },
  {
   "cell_type": "code",
   "execution_count": 149,
   "metadata": {},
   "outputs": [
    {
     "data": {
      "text/plain": [
       "array([3.83522737e-17, 3.19742015e-02, 1.15105123e-01, 2.69390194e-01,\n",
       "       4.95187171e-01, 7.80825676e-01, 1.06373120e+00, 1.42817487e+00,\n",
       "       2.14701585e+00])"
      ]
     },
     "execution_count": 149,
     "metadata": {},
     "output_type": "execute_result"
    }
   ],
   "source": [
    "mk_n10p_ace = cor_n10peg_ace[1]/cor_n10peg_ace[0]\n",
    "mk_n10p_ace"
   ]
  },
  {
   "cell_type": "code",
   "execution_count": 151,
   "metadata": {},
   "outputs": [
    {
     "data": {
      "text/plain": [
       "<matplotlib.legend.Legend at 0x1a232a8da0>"
      ]
     },
     "execution_count": 151,
     "metadata": {},
     "output_type": "execute_result"
    },
    {
     "data": {
      "image/png": "[encoded data removed]",
      "text/plain": [
       "<Figure size 504x504 with 1 Axes>"
      ]
     },
     "metadata": {
      "needs_background": "light"
     },
     "output_type": "display_data"
    }
   ],
   "source": [
    "plt.figure(figsize=(7,7))\n",
    "plt.errorbar(blen_ace, np.log(cor_n6peg_ace[0]), yerr=mk_n6p_ace, color='#CCBE9F', linestyle=\"None\",marker='o',\n",
    "     capsize=5, capthick=1, ecolor='black')\n",
    "plt.errorbar(blen_n8ace, np.log(cor_n8peg_ace[0]), yerr=mk_n8p_ace, color='#601A4A', linestyle=\"None\",marker='o',\n",
    "     capsize=5, capthick=1, ecolor='black')\n",
    "plt.errorbar(blen_n10ace, np.log(cor_n10peg_ace[0]), yerr=mk_n10p_ace, color='#2B6322', linestyle=\"None\",marker='o',\n",
    "     capsize=5, capthick=1, ecolor='black')\n",
    "plt.legend(['N = 6 in acetone','N = 8 in acetone', 'N = 10 in acetone'], frameon=False, fontsize=14)"
   ]
  },
  {
   "cell_type": "code",
   "execution_count": 152,
   "metadata": {},
   "outputs": [
    {
     "name": "stdout",
     "output_type": "stream",
     "text": [
      "3000\n",
      "6000\n",
      "Lp [Angstroms]: 16.112347677852938\n",
      "Error in Lp from fit [Angstroms], 95% CL : 0.8672847564891014\n",
      "R2 score: 0.9842539687054377\n",
      "6000\n",
      "9000\n",
      "Lp [Angstroms]: 18.476522947147622\n",
      "Error in Lp from fit [Angstroms], 95% CL : 0.9306211292633078\n",
      "R2 score: 0.9861852781072971\n",
      "9000\n",
      "12000\n",
      "Lp [Angstroms]: 12.43512720363722\n",
      "Error in Lp from fit [Angstroms], 95% CL : 1.2867705033153725\n",
      "R2 score: 0.9490928693868165\n",
      "12000\n",
      "15000\n",
      "Lp [Angstroms]: 17.557304118635656\n",
      "Error in Lp from fit [Angstroms], 95% CL : 0.9030340849776565\n",
      "R2 score: 0.9855082108835163\n",
      "15000\n",
      "18000\n",
      "Lp [Angstroms]: 13.325468763049471\n",
      "Error in Lp from fit [Angstroms], 95% CL : 1.2257038120226744\n",
      "R2 score: 0.9585199830535864\n"
     ]
    }
   ],
   "source": [
    "# All the points give the best fits for N = 6 peg in water\n",
    "n10_blkspeg_ace , n10peg_fitslpace = bavg_pers_cnt(5, peg_n10ace, n10_peg_ace, lb_avg_pn6, 5, 3000 , 18000)"
   ]
  },
  {
   "cell_type": "code",
   "execution_count": 153,
   "metadata": {},
   "outputs": [
    {
     "data": {
      "text/plain": [
       "{'Avg Radius of gyration': array([5.43622089, 5.85974086, 4.83248331, 5.65615685, 4.95316563]),\n",
       " 'Avg persistence length': array([16.11234768, 18.47652295, 12.4351272 , 17.55730412, 13.32546876])}"
      ]
     },
     "execution_count": 153,
     "metadata": {},
     "output_type": "execute_result"
    }
   ],
   "source": [
    "n10_blkspeg_ace"
   ]
  },
  {
   "cell_type": "code",
   "execution_count": 154,
   "metadata": {},
   "outputs": [
    {
     "data": {
      "text/plain": [
       "array([[ 1.61123477e+01,  1.84765229e+01,  1.24351272e+01,\n",
       "         1.75573041e+01,  1.33254688e+01],\n",
       "       [ 8.67284756e-01,  9.30621129e-01,  1.28677050e+00,\n",
       "         9.03034085e-01,  1.22570381e+00],\n",
       "       [-6.20642019e-02, -5.41227374e-02, -8.04173519e-02,\n",
       "        -5.69563524e-02, -7.50442643e-02],\n",
       "       [ 1.46292808e-03,  9.74091339e-04,  9.07686994e-03,\n",
       "         1.12489453e-03,  6.24562548e-03]])"
      ]
     },
     "execution_count": 154,
     "metadata": {},
     "output_type": "execute_result"
    }
   ],
   "source": [
    "n10peg_fitslpace"
   ]
  },
  {
   "cell_type": "code",
   "execution_count": 155,
   "metadata": {},
   "outputs": [
    {
     "data": {
      "text/plain": [
       "array([-0.0620642 , -0.05412274, -0.08041735, -0.05695635, -0.07504426])"
      ]
     },
     "execution_count": 155,
     "metadata": {},
     "output_type": "execute_result"
    }
   ],
   "source": [
    "n10peg_fitslpace[2]"
   ]
  },
  {
   "cell_type": "code",
   "execution_count": 156,
   "metadata": {},
   "outputs": [
    {
     "data": {
      "text/plain": [
       "0.003776881873595879"
      ]
     },
     "execution_count": 156,
     "metadata": {},
     "output_type": "execute_result"
    }
   ],
   "source": [
    "np.mean(n10peg_fitslpace[3])"
   ]
  },
  {
   "cell_type": "code",
   "execution_count": 157,
   "metadata": {},
   "outputs": [
    {
     "data": {
      "text/plain": [
       "array([ 0.        ,  3.24429919,  6.48859838,  9.73289757, 12.97719676,\n",
       "       16.22149595, 19.46579515, 22.71009434, 25.95439353])"
      ]
     },
     "execution_count": 157,
     "metadata": {},
     "output_type": "execute_result"
    }
   ],
   "source": [
    "blen_n10ace"
   ]
  },
  {
   "cell_type": "code",
   "execution_count": 158,
   "metadata": {},
   "outputs": [],
   "source": [
    "gg_n10peg_ace = line_fit(np.mean(n10peg_fitslpace[2]),blen_n10ace)"
   ]
  },
  {
   "cell_type": "code",
   "execution_count": 159,
   "metadata": {},
   "outputs": [],
   "source": [
    "gg_n8peg_n10ace = line_fit(np.mean(n8peg_fitslpace[2]),blen_n10ace)"
   ]
  },
  {
   "cell_type": "code",
   "execution_count": 160,
   "metadata": {},
   "outputs": [],
   "source": [
    "gg_n6peg_n10ace = line_fit(np.mean(n6peg_fitslpace[2]),blen_n10ace)"
   ]
  },
  {
   "cell_type": "code",
   "execution_count": 161,
   "metadata": {},
   "outputs": [
    {
     "data": {
      "text/plain": [
       "array([-0.        , -0.21321853, -0.42643705, -0.63965558, -0.85287411,\n",
       "       -1.06609264, -1.27931116, -1.49252969, -1.70574822])"
      ]
     },
     "execution_count": 161,
     "metadata": {},
     "output_type": "execute_result"
    }
   ],
   "source": [
    "gg_n10peg_ace"
   ]
  },
  {
   "cell_type": "markdown",
   "metadata": {},
   "source": [
    "### Block averaged Radius of gyration and persistence length, N = 10 PEG/acetone"
   ]
  },
  {
   "cell_type": "code",
   "execution_count": 162,
   "metadata": {},
   "outputs": [
    {
     "data": {
      "text/plain": [
       "15.58135414206458"
      ]
     },
     "execution_count": 162,
     "metadata": {},
     "output_type": "execute_result"
    }
   ],
   "source": [
    "np.mean(n10_blkspeg_ace[\"Avg persistence length\"])"
   ]
  },
  {
   "cell_type": "code",
   "execution_count": 163,
   "metadata": {},
   "outputs": [
    {
     "data": {
      "text/plain": [
       "2.3475986729518468"
      ]
     },
     "execution_count": 163,
     "metadata": {},
     "output_type": "execute_result"
    }
   ],
   "source": [
    "np.std(n10_blkspeg_ace[\"Avg persistence length\"])"
   ]
  },
  {
   "cell_type": "code",
   "execution_count": 164,
   "metadata": {},
   "outputs": [
    {
     "data": {
      "text/plain": [
       "5.347553509613177"
      ]
     },
     "execution_count": 164,
     "metadata": {},
     "output_type": "execute_result"
    }
   ],
   "source": [
    "np.mean(n10_blkspeg_ace[\"Avg Radius of gyration\"])"
   ]
  },
  {
   "cell_type": "code",
   "execution_count": 165,
   "metadata": {},
   "outputs": [
    {
     "data": {
      "text/plain": [
       "0.39655338067997925"
      ]
     },
     "execution_count": 165,
     "metadata": {},
     "output_type": "execute_result"
    }
   ],
   "source": [
    "np.std(n10_blkspeg_ace[\"Avg Radius of gyration\"])"
   ]
  },
  {
   "cell_type": "code",
   "execution_count": 166,
   "metadata": {},
   "outputs": [
    {
     "data": {
      "image/png": "[encoded data removed]",
      "text/plain": [
       "<Figure size 504x504 with 1 Axes>"
      ]
     },
     "metadata": {
      "needs_background": "light"
     },
     "output_type": "display_data"
    }
   ],
   "source": [
    "plt.figure(figsize=(7,7))\n",
    "plt.errorbar(blen_ace, np.log(cor_n6peg_ace[0]), yerr=mk_n6p_ace, color='#CCBE9F', linestyle=\"None\",marker='o',\n",
    "     capsize=5, capthick=1, ecolor='black')\n",
    "plt.errorbar(blen_n8ace, np.log(cor_n8peg_ace[0]), yerr=mk_n8p_ace, color='#601A4A', linestyle=\"None\",marker='o',\n",
    "     capsize=5, capthick=1, ecolor='black')\n",
    "plt.errorbar(blen_n10ace, np.log(cor_n10peg_ace[0]), yerr=mk_n10p_ace, color='#2B6322', linestyle=\"None\",marker='o',\n",
    "     capsize=5, capthick=1, ecolor='black')\n",
    "plt.plot(blen_n10ace, gg_n6peg_n10ace, color='#CCBE9F')\n",
    "plt.plot(blen_n10ace, gg_n8peg_n10ace, color='#601A4A')\n",
    "plt.plot(blen_n10ace, gg_n10peg_ace, color='#2B6322')\n",
    "plt.title(r'Ensemble Averaged ln(Cosine $\\theta$) in Acetone', fontsize=15, y=1.01)\n",
    "plt.xlabel(r'Bond Length', fontsize=15)\n",
    "plt.ylabel(r'ln$\\left< Cos(\\theta)\\right >$', fontsize=15)\n",
    "plt.ylim(-6,1)\n",
    "plt.xlim(0,30)\n",
    "#plt.ylim(-1.9,0)\n",
    "font = font_manager.FontProperties(family='Arial', style='normal', size='14')\n",
    "plt.text(0.5, -5.9,r'$N_{PEG}$ = 6: $L_{p}$ = 10.7 $\\AA$ ± 1.62 $\\AA$', fontsize=15, color='#CCBE9F')\n",
    "plt.text(0.5,-5.58,r'$N_{PEG}$ = 8: $L_{p}$ = 12.9 $\\AA$ ± 1.50 $\\AA$', fontsize=15, color='#601A4A')\n",
    "plt.text(0.5,-5.23,r'$N_{PEG}$ = 10: $L_{p}$ = 15.6 $\\AA$ ± 2.35 $\\AA$', fontsize=15, color='#2B6322')\n",
    "plt.tick_params(labelsize=14)\n",
    "#plt.text(5,-0.15,r'R$^{2}$ = 0.98', fontsize=15, color='blue')"
   ]
  },
  {
   "cell_type": "code",
   "execution_count": 167,
   "metadata": {},
   "outputs": [
    {
     "data": {
      "text/html": [
       "<div>\n",
       "<style scoped>\n",
       "    .dataframe tbody tr th:only-of-type {\n",
       "        vertical-align: middle;\n",
       "    }\n",
       "\n",
       "    .dataframe tbody tr th {\n",
       "        vertical-align: top;\n",
       "    }\n",
       "\n",
       "    .dataframe thead th {\n",
       "        text-align: right;\n",
       "    }\n",
       "</style>\n",
       "<table border=\"1\" class=\"dataframe\">\n",
       "  <thead>\n",
       "    <tr style=\"text-align: right;\">\n",
       "      <th></th>\n",
       "      <th>$R_{g}$ [Angstrom] N = 6 PEG acetone</th>\n",
       "      <th>$R_{g}$ [Angstrom] N = 8 PEG acetone</th>\n",
       "    </tr>\n",
       "  </thead>\n",
       "  <tbody>\n",
       "    <tr>\n",
       "      <th>0</th>\n",
       "      <td>3.752919</td>\n",
       "      <td>4.163319</td>\n",
       "    </tr>\n",
       "    <tr>\n",
       "      <th>1</th>\n",
       "      <td>4.207143</td>\n",
       "      <td>4.443474</td>\n",
       "    </tr>\n",
       "    <tr>\n",
       "      <th>2</th>\n",
       "      <td>3.664059</td>\n",
       "      <td>4.841516</td>\n",
       "    </tr>\n",
       "    <tr>\n",
       "      <th>3</th>\n",
       "      <td>3.655608</td>\n",
       "      <td>4.699104</td>\n",
       "    </tr>\n",
       "    <tr>\n",
       "      <th>4</th>\n",
       "      <td>3.804556</td>\n",
       "      <td>4.544883</td>\n",
       "    </tr>\n",
       "  </tbody>\n",
       "</table>\n",
       "</div>"
      ],
      "text/plain": [
       "   $R_{g}$ [Angstrom] N = 6 PEG acetone  $R_{g}$ [Angstrom] N = 8 PEG acetone\n",
       "0                              3.752919                              4.163319\n",
       "1                              4.207143                              4.443474\n",
       "2                              3.664059                              4.841516\n",
       "3                              3.655608                              4.699104\n",
       "4                              3.804556                              4.544883"
      ]
     },
     "execution_count": 167,
     "metadata": {},
     "output_type": "execute_result"
    }
   ],
   "source": [
    "rgpeg_olig_ace"
   ]
  },
  {
   "cell_type": "code",
   "execution_count": 168,
   "metadata": {},
   "outputs": [
    {
     "data": {
      "text/html": [
       "<div>\n",
       "<style scoped>\n",
       "    .dataframe tbody tr th:only-of-type {\n",
       "        vertical-align: middle;\n",
       "    }\n",
       "\n",
       "    .dataframe tbody tr th {\n",
       "        vertical-align: top;\n",
       "    }\n",
       "\n",
       "    .dataframe thead th {\n",
       "        text-align: right;\n",
       "    }\n",
       "</style>\n",
       "<table border=\"1\" class=\"dataframe\">\n",
       "  <thead>\n",
       "    <tr style=\"text-align: right;\">\n",
       "      <th></th>\n",
       "      <th>$R_{g}$ [Angstrom] N = 6 PEG acetone</th>\n",
       "      <th>$R_{g}$ [Angstrom] N = 8 PEG acetone</th>\n",
       "      <th>$R_{g}$ [Angstrom] N = 10 PEG acetone</th>\n",
       "    </tr>\n",
       "  </thead>\n",
       "  <tbody>\n",
       "    <tr>\n",
       "      <th>0</th>\n",
       "      <td>3.752919</td>\n",
       "      <td>4.163319</td>\n",
       "      <td>5.436221</td>\n",
       "    </tr>\n",
       "    <tr>\n",
       "      <th>1</th>\n",
       "      <td>4.207143</td>\n",
       "      <td>4.443474</td>\n",
       "      <td>5.859741</td>\n",
       "    </tr>\n",
       "    <tr>\n",
       "      <th>2</th>\n",
       "      <td>3.664059</td>\n",
       "      <td>4.841516</td>\n",
       "      <td>4.832483</td>\n",
       "    </tr>\n",
       "    <tr>\n",
       "      <th>3</th>\n",
       "      <td>3.655608</td>\n",
       "      <td>4.699104</td>\n",
       "      <td>5.656157</td>\n",
       "    </tr>\n",
       "    <tr>\n",
       "      <th>4</th>\n",
       "      <td>3.804556</td>\n",
       "      <td>4.544883</td>\n",
       "      <td>4.953166</td>\n",
       "    </tr>\n",
       "  </tbody>\n",
       "</table>\n",
       "</div>"
      ],
      "text/plain": [
       "   $R_{g}$ [Angstrom] N = 6 PEG acetone  $R_{g}$ [Angstrom] N = 8 PEG acetone  \\\n",
       "0                              3.752919                              4.163319   \n",
       "1                              4.207143                              4.443474   \n",
       "2                              3.664059                              4.841516   \n",
       "3                              3.655608                              4.699104   \n",
       "4                              3.804556                              4.544883   \n",
       "\n",
       "   $R_{g}$ [Angstrom] N = 10 PEG acetone  \n",
       "0                               5.436221  \n",
       "1                               5.859741  \n",
       "2                               4.832483  \n",
       "3                               5.656157  \n",
       "4                               4.953166  "
      ]
     },
     "execution_count": 168,
     "metadata": {},
     "output_type": "execute_result"
    }
   ],
   "source": [
    "rgpeg_olig_ace[r\"$R_{g}$ [Angstrom] N = 10 PEG acetone\"] = n10_blkspeg_ace[\"Avg Radius of gyration\"]\n",
    "rgpeg_olig_ace"
   ]
  },
  {
   "cell_type": "code",
   "execution_count": 169,
   "metadata": {},
   "outputs": [
    {
     "data": {
      "text/html": [
       "<div>\n",
       "<style scoped>\n",
       "    .dataframe tbody tr th:only-of-type {\n",
       "        vertical-align: middle;\n",
       "    }\n",
       "\n",
       "    .dataframe tbody tr th {\n",
       "        vertical-align: top;\n",
       "    }\n",
       "\n",
       "    .dataframe thead th {\n",
       "        text-align: right;\n",
       "    }\n",
       "</style>\n",
       "<table border=\"1\" class=\"dataframe\">\n",
       "  <thead>\n",
       "    <tr style=\"text-align: right;\">\n",
       "      <th></th>\n",
       "      <th>$L_{p}$ [Angstrom] N = 6 PEG acetone</th>\n",
       "      <th>$L_{p}$ [Angstrom] N = 8 PEG acetone</th>\n",
       "      <th>$L_{p}$ [Angstrom] N = 10 PEG acetone</th>\n",
       "    </tr>\n",
       "  </thead>\n",
       "  <tbody>\n",
       "    <tr>\n",
       "      <th>0</th>\n",
       "      <td>10.427323</td>\n",
       "      <td>10.539571</td>\n",
       "      <td>16.112348</td>\n",
       "    </tr>\n",
       "    <tr>\n",
       "      <th>1</th>\n",
       "      <td>13.775705</td>\n",
       "      <td>12.344046</td>\n",
       "      <td>18.476523</td>\n",
       "    </tr>\n",
       "    <tr>\n",
       "      <th>2</th>\n",
       "      <td>10.189399</td>\n",
       "      <td>15.047094</td>\n",
       "      <td>12.435127</td>\n",
       "    </tr>\n",
       "    <tr>\n",
       "      <th>3</th>\n",
       "      <td>9.105450</td>\n",
       "      <td>13.732459</td>\n",
       "      <td>17.557304</td>\n",
       "    </tr>\n",
       "    <tr>\n",
       "      <th>4</th>\n",
       "      <td>9.852551</td>\n",
       "      <td>12.611576</td>\n",
       "      <td>13.325469</td>\n",
       "    </tr>\n",
       "  </tbody>\n",
       "</table>\n",
       "</div>"
      ],
      "text/plain": [
       "   $L_{p}$ [Angstrom] N = 6 PEG acetone   \\\n",
       "0                              10.427323   \n",
       "1                              13.775705   \n",
       "2                              10.189399   \n",
       "3                               9.105450   \n",
       "4                               9.852551   \n",
       "\n",
       "   $L_{p}$ [Angstrom] N = 8 PEG acetone   \\\n",
       "0                              10.539571   \n",
       "1                              12.344046   \n",
       "2                              15.047094   \n",
       "3                              13.732459   \n",
       "4                              12.611576   \n",
       "\n",
       "   $L_{p}$ [Angstrom] N = 10 PEG acetone   \n",
       "0                               16.112348  \n",
       "1                               18.476523  \n",
       "2                               12.435127  \n",
       "3                               17.557304  \n",
       "4                               13.325469  "
      ]
     },
     "execution_count": 169,
     "metadata": {},
     "output_type": "execute_result"
    }
   ],
   "source": [
    "pers_pegt_ace[r\"$L_{p}$ [Angstrom] N = 10 PEG acetone \"] = n10_blkspeg_ace[\"Avg persistence length\"]\n",
    "pers_pegt_ace"
   ]
  },
  {
   "cell_type": "code",
   "execution_count": null,
   "metadata": {},
   "outputs": [],
   "source": []
  },
  {
   "cell_type": "markdown",
   "metadata": {},
   "source": [
    "### N = 20 PEG/acetone only"
   ]
  },
  {
   "cell_type": "code",
   "execution_count": 171,
   "metadata": {},
   "outputs": [],
   "source": [
    "# For the right Rg calculation using MD Analysis, use trajactory without pbc \n",
    "n20_peg_ace = mda.Universe(\"n20peg_prod_ace/n20pegonly_ace.pdb\", \"n20peg_prod_ace/noace_n20peg.xtc\")"
   ]
  },
  {
   "cell_type": "code",
   "execution_count": 172,
   "metadata": {},
   "outputs": [
    {
     "data": {
      "text/plain": [
       "<XTCReader n20peg_prod_ace/noace_n20peg.xtc with 18001 frames of 143 atoms>"
      ]
     },
     "execution_count": 172,
     "metadata": {},
     "output_type": "execute_result"
    }
   ],
   "source": [
    "n20_peg_ace.trajectory"
   ]
  },
  {
   "cell_type": "code",
   "execution_count": 173,
   "metadata": {},
   "outputs": [
    {
     "data": {
      "text/plain": [
       "18001"
      ]
     },
     "execution_count": 173,
     "metadata": {},
     "output_type": "execute_result"
    }
   ],
   "source": [
    "len(n20_peg_ace.trajectory)"
   ]
  },
  {
   "cell_type": "code",
   "execution_count": 174,
   "metadata": {},
   "outputs": [],
   "source": [
    "#Select the polymer heavy atoms \n",
    "peg_n20ace = n20_peg_ace.select_atoms(\"resname sPEG PEG tPEG and not type H\")"
   ]
  },
  {
   "cell_type": "code",
   "execution_count": 175,
   "metadata": {},
   "outputs": [
    {
     "data": {
      "text/plain": [
       "array([[ 1.        ,  0.99390874,  0.99370588,  0.99296465,  0.99290761,\n",
       "         0.9929852 ,  0.99332762,  0.99334007,  0.9941362 ,  0.99275523,\n",
       "         0.99246288,  0.99285913,  0.99211113,  0.99211047,  0.99175173,\n",
       "         0.9943986 ,  0.99522968,  0.99552176,  0.99239112],\n",
       "       [ 0.        ,  1.        ,  2.        ,  3.        ,  4.        ,\n",
       "         5.        ,  6.        ,  7.        ,  8.        ,  9.        ,\n",
       "        10.        , 11.        , 12.        , 13.        , 14.        ,\n",
       "        15.        , 16.        , 17.        , 18.        ],\n",
       "       [ 0.        ,  0.        ,  0.        ,  0.        ,  0.        ,\n",
       "         0.        ,  0.        ,  0.        ,  0.        ,  0.        ,\n",
       "         0.        ,  0.        ,  0.        ,  0.        ,  0.        ,\n",
       "         0.        ,  0.        ,  0.        ,  0.        ]])"
      ]
     },
     "execution_count": 175,
     "metadata": {},
     "output_type": "execute_result"
    }
   ],
   "source": [
    "crv_n20peg_ace = pers_length(peg_n20ace,20)\n",
    "crv_n20peg_ace"
   ]
  },
  {
   "cell_type": "code",
   "execution_count": 176,
   "metadata": {},
   "outputs": [],
   "source": [
    "com_bond_n20ace = np.zeros(shape=(1,18000))\n",
    "count = 0\n",
    "for ts in n20_peg_ace.trajectory[0:18000]:\n",
    "    n20_mon1_ace = n20_peg_ace.select_atoms(\"resid 1\")\n",
    "    n20_mon2_ace = n20_peg_ace.select_atoms(\"resid 2\")\n",
    "    oo_len = mda.analysis.distances.distance_array(n20_mon1_ace.center_of_mass(), n20_mon2_ace.center_of_mass(), \n",
    "                                                   box=n20_peg_ace.trajectory.ts.dimensions)\n",
    "    com_bond_n20ace[0, count] = oo_len\n",
    "    count += 1\n",
    "    "
   ]
  },
  {
   "cell_type": "code",
   "execution_count": 177,
   "metadata": {},
   "outputs": [
    {
     "data": {
      "text/plain": [
       "array([[3.36424411, 3.17486322, 3.30326713, ..., 3.18964249, 3.36797195,\n",
       "        3.24979802]])"
      ]
     },
     "execution_count": 177,
     "metadata": {},
     "output_type": "execute_result"
    }
   ],
   "source": [
    "com_bond_n20ace"
   ]
  },
  {
   "cell_type": "code",
   "execution_count": 178,
   "metadata": {},
   "outputs": [
    {
     "data": {
      "text/plain": [
       "3.2442991909861867"
      ]
     },
     "execution_count": 178,
     "metadata": {},
     "output_type": "execute_result"
    }
   ],
   "source": [
    "lb_avg_pn6 = np.mean(com_bond)\n",
    "lb_avg_pn6"
   ]
  },
  {
   "cell_type": "code",
   "execution_count": 179,
   "metadata": {},
   "outputs": [
    {
     "data": {
      "text/plain": [
       "0.17413480862198993"
      ]
     },
     "execution_count": 179,
     "metadata": {},
     "output_type": "execute_result"
    }
   ],
   "source": [
    "np.std(com_bond)"
   ]
  },
  {
   "cell_type": "code",
   "execution_count": 180,
   "metadata": {},
   "outputs": [
    {
     "data": {
      "text/plain": [
       "3.2006153896338714"
      ]
     },
     "execution_count": 180,
     "metadata": {},
     "output_type": "execute_result"
    }
   ],
   "source": [
    "np.mean(com_bond_n20ace)"
   ]
  },
  {
   "cell_type": "code",
   "execution_count": 181,
   "metadata": {},
   "outputs": [
    {
     "data": {
      "text/plain": [
       "0.17833133599017545"
      ]
     },
     "execution_count": 181,
     "metadata": {},
     "output_type": "execute_result"
    }
   ],
   "source": [
    "np.std(com_bond_n20ace)"
   ]
  },
  {
   "cell_type": "markdown",
   "metadata": {},
   "source": [
    "### Radius of Gyration vs. time N = 20 PEG/acetone"
   ]
  },
  {
   "cell_type": "code",
   "execution_count": 182,
   "metadata": {},
   "outputs": [],
   "source": [
    "n20peg_rgens_ace, cor_n20peg_ace, N20peg_cos_ace, rgace_n20peg = get_rg_pers_poly(peg_n20ace, n20_peg_ace, 0, 18000)"
   ]
  },
  {
   "cell_type": "code",
   "execution_count": 183,
   "metadata": {},
   "outputs": [
    {
     "data": {
      "text/plain": [
       "(18000,)"
      ]
     },
     "execution_count": 183,
     "metadata": {},
     "output_type": "execute_result"
    }
   ],
   "source": [
    "n20peg_rgens_ace[0].shape"
   ]
  },
  {
   "cell_type": "code",
   "execution_count": 184,
   "metadata": {},
   "outputs": [
    {
     "data": {
      "text/plain": [
       "array([ 0.,  1.,  2.,  3.,  4.,  5.,  6.,  7.,  8.,  9., 10., 11., 12.,\n",
       "       13., 14., 15., 16., 17., 18.])"
      ]
     },
     "execution_count": 184,
     "metadata": {},
     "output_type": "execute_result"
    }
   ],
   "source": [
    "cor_n20peg_ace[3]"
   ]
  },
  {
   "cell_type": "code",
   "execution_count": 185,
   "metadata": {},
   "outputs": [
    {
     "data": {
      "text/plain": [
       "array([[1.        , 1.        , 1.        , ..., 1.        , 1.        ,\n",
       "        1.        ],\n",
       "       [0.99390874, 0.9560512 , 0.93401738, ..., 0.90092678, 0.90774286,\n",
       "        0.91376617],\n",
       "       [0.99370588, 0.91784148, 0.86223583, ..., 0.76082502, 0.78346558,\n",
       "        0.77591092],\n",
       "       ...,\n",
       "       [0.99522968, 0.70032372, 0.62736355, ..., 0.46735552, 0.51224606,\n",
       "        0.41030809],\n",
       "       [0.99552176, 0.56994278, 0.45038713, ..., 0.59653689, 0.6702245 ,\n",
       "        0.66671537],\n",
       "       [0.99239112, 0.39277721, 0.10228492, ..., 0.90883306, 0.93943044,\n",
       "        0.87438835]])"
      ]
     },
     "execution_count": 185,
     "metadata": {},
     "output_type": "execute_result"
    }
   ],
   "source": [
    "N20peg_cos_ace"
   ]
  },
  {
   "cell_type": "code",
   "execution_count": 186,
   "metadata": {},
   "outputs": [
    {
     "data": {
      "text/plain": [
       "7.438147650883116"
      ]
     },
     "execution_count": 186,
     "metadata": {},
     "output_type": "execute_result"
    }
   ],
   "source": [
    "rgace_n20peg"
   ]
  },
  {
   "cell_type": "code",
   "execution_count": 187,
   "metadata": {},
   "outputs": [
    {
     "data": {
      "text/plain": [
       "1.7126938982079978"
      ]
     },
     "execution_count": 187,
     "metadata": {},
     "output_type": "execute_result"
    }
   ],
   "source": [
    "np.std(n20peg_rgens_ace)"
   ]
  },
  {
   "cell_type": "code",
   "execution_count": 188,
   "metadata": {},
   "outputs": [
    {
     "data": {
      "text/plain": [
       "(0.2, 2)"
      ]
     },
     "execution_count": 188,
     "metadata": {},
     "output_type": "execute_result"
    },
    {
     "data": {
      "image/png": "[encoded data removed]",
      "text/plain": [
       "<Figure size 504x504 with 1 Axes>"
      ]
     },
     "metadata": {
      "needs_background": "light"
     },
     "output_type": "display_data"
    }
   ],
   "source": [
    "plt.figure(figsize=(7,7))\n",
    "plt.title(r'PEG Radius of Gyration', fontsize=18, y=1.01)\n",
    "plt.xlabel(r'Time [ns]', fontsize=15)\n",
    "plt.ylabel(r'$R_{g}$ [nm]', fontsize=15)\n",
    "plt.plot(trj_len/100, n6peg_rgens_ace[0]/10,linewidth=2, color='#CCBE9F')\n",
    "plt.plot(trj_len/100, n8peg_rgens_ace[0]/10,linewidth=2, color='#601A4A')\n",
    "plt.plot(trj_len/100, n10peg_rgens_ace[0]/10,linewidth=2, color='#2B6322')\n",
    "plt.plot(trj_len/100, n20peg_rgens_ace[0]/10,linewidth=2, color='#562A8B')\n",
    "plt.tick_params(labelsize=14)\n",
    "plt.legend(['N = 6 in acetone','N = 8 in acetone','N = 10 in acetone','N = 20 in acetone' ], frameon=False, fontsize=14)\n",
    "#plt.text(127, 0.96,r'N = 6 in water', fontsize=18, color='#1F2E69', family='Arial')\n",
    "plt.xlim(0,180)\n",
    "plt.ylim(0.2,2)"
   ]
  },
  {
   "cell_type": "markdown",
   "metadata": {},
   "source": [
    "#### Correlation values at each arc length for the whole 180 ns trajectory, N = 20 PEG/acetone"
   ]
  },
  {
   "cell_type": "code",
   "execution_count": 189,
   "metadata": {},
   "outputs": [
    {
     "data": {
      "text/plain": [
       "array([ 0.        ,  3.24429919,  6.48859838,  9.73289757, 12.97719676,\n",
       "       16.22149595, 19.46579515, 22.71009434, 25.95439353, 29.19869272,\n",
       "       32.44299191, 35.6872911 , 38.93159029, 42.17588948, 45.42018867,\n",
       "       48.66448786, 51.90878706, 55.15308625, 58.39738544])"
      ]
     },
     "execution_count": 189,
     "metadata": {},
     "output_type": "execute_result"
    }
   ],
   "source": [
    "# x values\n",
    "blen_n20ace = cor_n20peg_ace[3]*lb_avg_pn6\n",
    "#nt_tt[0] = 0\n",
    "blen_n20ace"
   ]
  },
  {
   "cell_type": "code",
   "execution_count": 190,
   "metadata": {},
   "outputs": [
    {
     "data": {
      "text/plain": [
       "array([2.11946328e-17, 1.89334584e-02, 6.58615043e-02, 1.49021100e-01,\n",
       "       2.64495330e-01, 4.01102799e-01, 5.44060761e-01, 6.59112048e-01,\n",
       "       7.35264618e-01, 7.88920674e-01, 8.51449513e-01, 9.09508656e-01,\n",
       "       9.80456984e-01, 1.05589693e+00, 1.13545837e+00, 1.21404682e+00,\n",
       "       1.33397004e+00, 1.60740614e+00, 2.25165551e+00])"
      ]
     },
     "execution_count": 190,
     "metadata": {},
     "output_type": "execute_result"
    }
   ],
   "source": [
    "mk_n20p_ace = cor_n20peg_ace[1]/cor_n20peg_ace[0]\n",
    "mk_n20p_ace"
   ]
  },
  {
   "cell_type": "code",
   "execution_count": 191,
   "metadata": {},
   "outputs": [
    {
     "data": {
      "text/plain": [
       "<matplotlib.legend.Legend at 0x1a22176940>"
      ]
     },
     "execution_count": 191,
     "metadata": {},
     "output_type": "execute_result"
    },
    {
     "data": {
      "image/png": "[encoded data removed]",
      "text/plain": [
       "<Figure size 504x504 with 1 Axes>"
      ]
     },
     "metadata": {
      "needs_background": "light"
     },
     "output_type": "display_data"
    }
   ],
   "source": [
    "plt.figure(figsize=(7,7))\n",
    "plt.errorbar(blen_ace, np.log(cor_n6peg_ace[0]), yerr=mk_n6p_ace, color='#CCBE9F', linestyle=\"None\",marker='o',\n",
    "     capsize=5, capthick=1, ecolor='black')\n",
    "plt.errorbar(blen_n8ace, np.log(cor_n8peg_ace[0]), yerr=mk_n8p_ace, color='#601A4A', linestyle=\"None\",marker='o',\n",
    "     capsize=5, capthick=1, ecolor='black')\n",
    "plt.errorbar(blen_n10ace, np.log(cor_n10peg_ace[0]), yerr=mk_n10p_ace, color='#2B6322', linestyle=\"None\",marker='o',\n",
    "     capsize=5, capthick=1, ecolor='black')\n",
    "plt.errorbar(blen_n20ace, np.log(cor_n20peg_ace[0]), yerr=mk_n20p_ace, color='#562A8B', linestyle=\"None\",marker='o',\n",
    "     capsize=5, capthick=1, ecolor='black')\n",
    "plt.legend(['N = 6 in acetone','N = 8 in acetone', 'N = 10 in acetone','N = 20 in acetone'], frameon=False, fontsize=14)"
   ]
  },
  {
   "cell_type": "code",
   "execution_count": 230,
   "metadata": {},
   "outputs": [
    {
     "name": "stdout",
     "output_type": "stream",
     "text": [
      "3000\n",
      "6000\n",
      "Lp [Angstroms]: 20.053624717222004\n",
      "Error in Lp from fit [Angstroms], 95% CL : 0.22542199125094436\n",
      "R2 score: 0.9890445095770333\n",
      "6000\n",
      "9000\n",
      "Lp [Angstroms]: 15.716023375451039\n",
      "Error in Lp from fit [Angstroms], 95% CL : 0.33343070622730875\n",
      "R2 score: 0.964838697032644\n",
      "9000\n",
      "12000\n",
      "Lp [Angstroms]: 16.30515954176731\n",
      "Error in Lp from fit [Angstroms], 95% CL : 0.30001330741806265\n",
      "R2 score: 0.9728219809931491\n",
      "12000\n",
      "15000\n",
      "Lp [Angstroms]: 16.818962778940243\n",
      "Error in Lp from fit [Angstroms], 95% CL : 0.31773549139868457\n",
      "R2 score: 0.9714755228943384\n",
      "15000\n",
      "18000\n",
      "Lp [Angstroms]: 17.283738325289786\n",
      "Error in Lp from fit [Angstroms], 95% CL : 0.2732928495604698\n",
      "R2 score: 0.9793915217332162\n"
     ]
    }
   ],
   "source": [
    "# All the points give the best fits for N = 6 peg in water\n",
    "n20_blkspeg_ace , n20peg_fitslpace = bavg_pers_cnt(5, peg_n20ace, n20_peg_ace, lb_avg_pn6, 5, 3000 , 18000)"
   ]
  },
  {
   "cell_type": "code",
   "execution_count": 231,
   "metadata": {},
   "outputs": [
    {
     "data": {
      "text/plain": [
       "{'Avg Radius of gyration': array([9.0551408 , 6.7853868 , 6.93617556, 7.02415666, 7.80767924]),\n",
       " 'Avg persistence length': array([20.05362472, 15.71602338, 16.30515954, 16.81896278, 17.28373833])}"
      ]
     },
     "execution_count": 231,
     "metadata": {},
     "output_type": "execute_result"
    }
   ],
   "source": [
    "n20_blkspeg_ace"
   ]
  },
  {
   "cell_type": "code",
   "execution_count": 232,
   "metadata": {},
   "outputs": [
    {
     "data": {
      "text/plain": [
       "array([[ 2.00536247e+01,  1.57160234e+01,  1.63051595e+01,\n",
       "         1.68189628e+01,  1.72837383e+01],\n",
       "       [ 2.25421991e-01,  3.33430706e-01,  3.00013307e-01,\n",
       "         3.17735491e-01,  2.73292850e-01],\n",
       "       [-4.98662967e-02, -6.36293276e-02, -6.13302800e-02,\n",
       "        -5.94566986e-02, -5.78578535e-02],\n",
       "       [ 6.43969556e-04,  3.73495029e-03,  2.60990761e-03,\n",
       "         2.58570471e-03,  1.71533960e-03]])"
      ]
     },
     "execution_count": 232,
     "metadata": {},
     "output_type": "execute_result"
    }
   ],
   "source": [
    "n20peg_fitslpace"
   ]
  },
  {
   "cell_type": "code",
   "execution_count": 233,
   "metadata": {},
   "outputs": [
    {
     "data": {
      "text/plain": [
       "array([-0.0498663 , -0.06362933, -0.06133028, -0.0594567 , -0.05785785])"
      ]
     },
     "execution_count": 233,
     "metadata": {},
     "output_type": "execute_result"
    }
   ],
   "source": [
    "n20peg_fitslpace[2]"
   ]
  },
  {
   "cell_type": "code",
   "execution_count": 234,
   "metadata": {},
   "outputs": [
    {
     "data": {
      "text/plain": [
       "0.00225797435360316"
      ]
     },
     "execution_count": 234,
     "metadata": {},
     "output_type": "execute_result"
    }
   ],
   "source": [
    "np.mean(n20peg_fitslpace[3])"
   ]
  },
  {
   "cell_type": "code",
   "execution_count": 235,
   "metadata": {},
   "outputs": [
    {
     "data": {
      "text/plain": [
       "array([ 0.        ,  3.24429919,  6.48859838,  9.73289757, 12.97719676,\n",
       "       16.22149595, 19.46579515, 22.71009434, 25.95439353, 29.19869272,\n",
       "       32.44299191, 35.6872911 , 38.93159029, 42.17588948, 45.42018867,\n",
       "       48.66448786, 51.90878706, 55.15308625, 58.39738544])"
      ]
     },
     "execution_count": 235,
     "metadata": {},
     "output_type": "execute_result"
    }
   ],
   "source": [
    "blen_n20ace"
   ]
  },
  {
   "cell_type": "code",
   "execution_count": 236,
   "metadata": {},
   "outputs": [],
   "source": [
    "gg_n20peg_ace = line_fit(np.mean(n20peg_fitslpace[2]),blen_n20ace)"
   ]
  },
  {
   "cell_type": "code",
   "execution_count": 237,
   "metadata": {},
   "outputs": [],
   "source": [
    "gg_n10peg_n20ace = line_fit(np.mean(n10peg_fitslpace[2]),blen_n20ace)"
   ]
  },
  {
   "cell_type": "code",
   "execution_count": 238,
   "metadata": {},
   "outputs": [],
   "source": [
    "gg_n8peg_n20ace = line_fit(np.mean(n8peg_fitslpace[2]),blen_n20ace)"
   ]
  },
  {
   "cell_type": "code",
   "execution_count": 239,
   "metadata": {},
   "outputs": [],
   "source": [
    "gg_n6peg_n20ace = line_fit(np.mean(n6peg_fitslpace[2]),blen_n20ace)"
   ]
  },
  {
   "cell_type": "code",
   "execution_count": 240,
   "metadata": {},
   "outputs": [
    {
     "data": {
      "text/plain": [
       "array([-0.        , -0.18955821, -0.37911642, -0.56867463, -0.75823284,\n",
       "       -0.94779105, -1.13734926, -1.32690746, -1.51646567, -1.70602388,\n",
       "       -1.89558209, -2.0851403 , -2.27469851, -2.46425672, -2.65381493,\n",
       "       -2.84337314, -3.03293135, -3.22248956, -3.41204777])"
      ]
     },
     "execution_count": 240,
     "metadata": {},
     "output_type": "execute_result"
    }
   ],
   "source": [
    "gg_n20peg_ace"
   ]
  },
  {
   "cell_type": "markdown",
   "metadata": {},
   "source": [
    "### Block averaged Radius of gyration and persistence length, N = 20 PEG/acetone"
   ]
  },
  {
   "cell_type": "code",
   "execution_count": 241,
   "metadata": {},
   "outputs": [
    {
     "data": {
      "text/plain": [
       "17.235501747734077"
      ]
     },
     "execution_count": 241,
     "metadata": {},
     "output_type": "execute_result"
    }
   ],
   "source": [
    "np.mean(n20_blkspeg_ace[\"Avg persistence length\"])"
   ]
  },
  {
   "cell_type": "code",
   "execution_count": 242,
   "metadata": {},
   "outputs": [
    {
     "data": {
      "text/plain": [
       "1.502797371246875"
      ]
     },
     "execution_count": 242,
     "metadata": {},
     "output_type": "execute_result"
    }
   ],
   "source": [
    "np.std(n20_blkspeg_ace[\"Avg persistence length\"])"
   ]
  },
  {
   "cell_type": "code",
   "execution_count": 243,
   "metadata": {},
   "outputs": [
    {
     "data": {
      "text/plain": [
       "7.521707811878551"
      ]
     },
     "execution_count": 243,
     "metadata": {},
     "output_type": "execute_result"
    }
   ],
   "source": [
    "np.mean(n20_blkspeg_ace[\"Avg Radius of gyration\"])"
   ]
  },
  {
   "cell_type": "code",
   "execution_count": 244,
   "metadata": {},
   "outputs": [
    {
     "data": {
      "text/plain": [
       "0.8444844799775151"
      ]
     },
     "execution_count": 244,
     "metadata": {},
     "output_type": "execute_result"
    }
   ],
   "source": [
    "np.std(n20_blkspeg_ace[\"Avg Radius of gyration\"])"
   ]
  },
  {
   "cell_type": "code",
   "execution_count": 249,
   "metadata": {},
   "outputs": [
    {
     "data": {
      "image/png": "[encoded data removed]",
      "text/plain": [
       "<Figure size 504x504 with 1 Axes>"
      ]
     },
     "metadata": {
      "needs_background": "light"
     },
     "output_type": "display_data"
    }
   ],
   "source": [
    "plt.figure(figsize=(7,7))\n",
    "plt.errorbar(blen_ace, np.log(cor_n6peg_ace[0]), yerr=mk_n6p_ace, color='#CCBE9F', linestyle=\"None\",marker='o',\n",
    "     capsize=5, capthick=1, ecolor='black')\n",
    "plt.errorbar(blen_n8ace, np.log(cor_n8peg_ace[0]), yerr=mk_n8p_ace, color='#601A4A', linestyle=\"None\",marker='o',\n",
    "     capsize=5, capthick=1, ecolor='black')\n",
    "plt.errorbar(blen_n10ace, np.log(cor_n10peg_ace[0]), yerr=mk_n10p_ace, color='#2B6322', linestyle=\"None\",marker='o',\n",
    "     capsize=5, capthick=1, ecolor='black')\n",
    "plt.errorbar(blen_n20ace, np.log(cor_n20peg_ace[0]), yerr=mk_n20p_ace, color='#562A8B', linestyle=\"None\",marker='o',\n",
    "     capsize=5, capthick=1, ecolor='black')\n",
    "plt.plot(blen_n20ace[:15], gg_n6peg_n20ace[:15], color='#CCBE9F')\n",
    "plt.plot(blen_n20ace[:15], gg_n8peg_n20ace[:15], color='#601A4A')\n",
    "plt.plot(blen_n20ace[:15], gg_n10peg_n20ace[:15], color='#2B6322')\n",
    "plt.plot(blen_n20ace[:15], gg_n20peg_ace[:15], color='#562A8B')\n",
    "plt.title(r'Ensemble Averaged ln(Cosine $\\theta$) in Acetone', fontsize=15, y=1.01)\n",
    "plt.xlabel(r'Bond Length', fontsize=15)\n",
    "plt.ylabel(r'ln$\\left< Cos(\\theta)\\right >$', fontsize=15)\n",
    "plt.ylim(-6,1)\n",
    "plt.xlim(0,60)\n",
    "#plt.ylim(-1.9,0)\n",
    "font = font_manager.FontProperties(family='Arial', style='normal', size='14')\n",
    "plt.text(0.5, -5.9,r'$N_{PEG}$ = 6: $L_{p}$ = 10.7 $\\AA$ ± 1.62 $\\AA$', fontsize=15, color='#CCBE9F')\n",
    "plt.text(0.5,-5.58,r'$N_{PEG}$ = 8: $L_{p}$ = 12.9 $\\AA$ ± 1.50 $\\AA$', fontsize=15, color='#601A4A')\n",
    "plt.text(0.5,-5.23,r'$N_{PEG}$ = 10: $L_{p}$ = 15.6 $\\AA$ ± 2.35 $\\AA$', fontsize=15, color='#2B6322')\n",
    "plt.text(0.5,-4.90,r'$N_{PEG}$ = 20: $L_{p}$ = 17.2 $\\AA$ ± 1.50 $\\AA$', fontsize=15, color='#562A8B')\n",
    "plt.tick_params(labelsize=14)\n",
    "#plt.text(5,-0.15,r'R$^{2}$ = 0.98', fontsize=15, color='blue')"
   ]
  },
  {
   "cell_type": "code",
   "execution_count": 246,
   "metadata": {},
   "outputs": [
    {
     "data": {
      "text/html": [
       "<div>\n",
       "<style scoped>\n",
       "    .dataframe tbody tr th:only-of-type {\n",
       "        vertical-align: middle;\n",
       "    }\n",
       "\n",
       "    .dataframe tbody tr th {\n",
       "        vertical-align: top;\n",
       "    }\n",
       "\n",
       "    .dataframe thead th {\n",
       "        text-align: right;\n",
       "    }\n",
       "</style>\n",
       "<table border=\"1\" class=\"dataframe\">\n",
       "  <thead>\n",
       "    <tr style=\"text-align: right;\">\n",
       "      <th></th>\n",
       "      <th>$R_{g}$ [Angstrom] N = 6 PEG acetone</th>\n",
       "      <th>$R_{g}$ [Angstrom] N = 8 PEG acetone</th>\n",
       "      <th>$R_{g}$ [Angstrom] N = 10 PEG acetone</th>\n",
       "      <th>$R_{g}$ [Angstrom] N = 20 PEG acetone</th>\n",
       "    </tr>\n",
       "  </thead>\n",
       "  <tbody>\n",
       "    <tr>\n",
       "      <th>0</th>\n",
       "      <td>3.752919</td>\n",
       "      <td>4.163319</td>\n",
       "      <td>5.436221</td>\n",
       "      <td>9.055141</td>\n",
       "    </tr>\n",
       "    <tr>\n",
       "      <th>1</th>\n",
       "      <td>4.207143</td>\n",
       "      <td>4.443474</td>\n",
       "      <td>5.859741</td>\n",
       "      <td>6.785387</td>\n",
       "    </tr>\n",
       "    <tr>\n",
       "      <th>2</th>\n",
       "      <td>3.664059</td>\n",
       "      <td>4.841516</td>\n",
       "      <td>4.832483</td>\n",
       "      <td>6.936176</td>\n",
       "    </tr>\n",
       "    <tr>\n",
       "      <th>3</th>\n",
       "      <td>3.655608</td>\n",
       "      <td>4.699104</td>\n",
       "      <td>5.656157</td>\n",
       "      <td>7.024157</td>\n",
       "    </tr>\n",
       "    <tr>\n",
       "      <th>4</th>\n",
       "      <td>3.804556</td>\n",
       "      <td>4.544883</td>\n",
       "      <td>4.953166</td>\n",
       "      <td>7.807679</td>\n",
       "    </tr>\n",
       "  </tbody>\n",
       "</table>\n",
       "</div>"
      ],
      "text/plain": [
       "   $R_{g}$ [Angstrom] N = 6 PEG acetone  $R_{g}$ [Angstrom] N = 8 PEG acetone  \\\n",
       "0                              3.752919                              4.163319   \n",
       "1                              4.207143                              4.443474   \n",
       "2                              3.664059                              4.841516   \n",
       "3                              3.655608                              4.699104   \n",
       "4                              3.804556                              4.544883   \n",
       "\n",
       "   $R_{g}$ [Angstrom] N = 10 PEG acetone  \\\n",
       "0                               5.436221   \n",
       "1                               5.859741   \n",
       "2                               4.832483   \n",
       "3                               5.656157   \n",
       "4                               4.953166   \n",
       "\n",
       "   $R_{g}$ [Angstrom] N = 20 PEG acetone  \n",
       "0                               9.055141  \n",
       "1                               6.785387  \n",
       "2                               6.936176  \n",
       "3                               7.024157  \n",
       "4                               7.807679  "
      ]
     },
     "execution_count": 246,
     "metadata": {},
     "output_type": "execute_result"
    }
   ],
   "source": [
    "rgpeg_olig_ace"
   ]
  },
  {
   "cell_type": "code",
   "execution_count": 247,
   "metadata": {},
   "outputs": [
    {
     "data": {
      "text/html": [
       "<div>\n",
       "<style scoped>\n",
       "    .dataframe tbody tr th:only-of-type {\n",
       "        vertical-align: middle;\n",
       "    }\n",
       "\n",
       "    .dataframe tbody tr th {\n",
       "        vertical-align: top;\n",
       "    }\n",
       "\n",
       "    .dataframe thead th {\n",
       "        text-align: right;\n",
       "    }\n",
       "</style>\n",
       "<table border=\"1\" class=\"dataframe\">\n",
       "  <thead>\n",
       "    <tr style=\"text-align: right;\">\n",
       "      <th></th>\n",
       "      <th>$R_{g}$ [Angstrom] N = 6 PEG acetone</th>\n",
       "      <th>$R_{g}$ [Angstrom] N = 8 PEG acetone</th>\n",
       "      <th>$R_{g}$ [Angstrom] N = 10 PEG acetone</th>\n",
       "      <th>$R_{g}$ [Angstrom] N = 20 PEG acetone</th>\n",
       "    </tr>\n",
       "  </thead>\n",
       "  <tbody>\n",
       "    <tr>\n",
       "      <th>0</th>\n",
       "      <td>3.752919</td>\n",
       "      <td>4.163319</td>\n",
       "      <td>5.436221</td>\n",
       "      <td>9.055141</td>\n",
       "    </tr>\n",
       "    <tr>\n",
       "      <th>1</th>\n",
       "      <td>4.207143</td>\n",
       "      <td>4.443474</td>\n",
       "      <td>5.859741</td>\n",
       "      <td>6.785387</td>\n",
       "    </tr>\n",
       "    <tr>\n",
       "      <th>2</th>\n",
       "      <td>3.664059</td>\n",
       "      <td>4.841516</td>\n",
       "      <td>4.832483</td>\n",
       "      <td>6.936176</td>\n",
       "    </tr>\n",
       "    <tr>\n",
       "      <th>3</th>\n",
       "      <td>3.655608</td>\n",
       "      <td>4.699104</td>\n",
       "      <td>5.656157</td>\n",
       "      <td>7.024157</td>\n",
       "    </tr>\n",
       "    <tr>\n",
       "      <th>4</th>\n",
       "      <td>3.804556</td>\n",
       "      <td>4.544883</td>\n",
       "      <td>4.953166</td>\n",
       "      <td>7.807679</td>\n",
       "    </tr>\n",
       "  </tbody>\n",
       "</table>\n",
       "</div>"
      ],
      "text/plain": [
       "   $R_{g}$ [Angstrom] N = 6 PEG acetone  $R_{g}$ [Angstrom] N = 8 PEG acetone  \\\n",
       "0                              3.752919                              4.163319   \n",
       "1                              4.207143                              4.443474   \n",
       "2                              3.664059                              4.841516   \n",
       "3                              3.655608                              4.699104   \n",
       "4                              3.804556                              4.544883   \n",
       "\n",
       "   $R_{g}$ [Angstrom] N = 10 PEG acetone  \\\n",
       "0                               5.436221   \n",
       "1                               5.859741   \n",
       "2                               4.832483   \n",
       "3                               5.656157   \n",
       "4                               4.953166   \n",
       "\n",
       "   $R_{g}$ [Angstrom] N = 20 PEG acetone  \n",
       "0                               9.055141  \n",
       "1                               6.785387  \n",
       "2                               6.936176  \n",
       "3                               7.024157  \n",
       "4                               7.807679  "
      ]
     },
     "execution_count": 247,
     "metadata": {},
     "output_type": "execute_result"
    }
   ],
   "source": [
    "rgpeg_olig_ace[r\"$R_{g}$ [Angstrom] N = 20 PEG acetone\"] = n20_blkspeg_ace[\"Avg Radius of gyration\"]\n",
    "rgpeg_olig_ace"
   ]
  },
  {
   "cell_type": "code",
   "execution_count": 248,
   "metadata": {},
   "outputs": [
    {
     "data": {
      "text/html": [
       "<div>\n",
       "<style scoped>\n",
       "    .dataframe tbody tr th:only-of-type {\n",
       "        vertical-align: middle;\n",
       "    }\n",
       "\n",
       "    .dataframe tbody tr th {\n",
       "        vertical-align: top;\n",
       "    }\n",
       "\n",
       "    .dataframe thead th {\n",
       "        text-align: right;\n",
       "    }\n",
       "</style>\n",
       "<table border=\"1\" class=\"dataframe\">\n",
       "  <thead>\n",
       "    <tr style=\"text-align: right;\">\n",
       "      <th></th>\n",
       "      <th>$L_{p}$ [Angstrom] N = 6 PEG acetone</th>\n",
       "      <th>$L_{p}$ [Angstrom] N = 8 PEG acetone</th>\n",
       "      <th>$L_{p}$ [Angstrom] N = 10 PEG acetone</th>\n",
       "      <th>$L_{p}$ [Angstrom] N = 20 PEG acetone</th>\n",
       "    </tr>\n",
       "  </thead>\n",
       "  <tbody>\n",
       "    <tr>\n",
       "      <th>0</th>\n",
       "      <td>10.427323</td>\n",
       "      <td>10.539571</td>\n",
       "      <td>16.112348</td>\n",
       "      <td>20.053625</td>\n",
       "    </tr>\n",
       "    <tr>\n",
       "      <th>1</th>\n",
       "      <td>13.775705</td>\n",
       "      <td>12.344046</td>\n",
       "      <td>18.476523</td>\n",
       "      <td>15.716023</td>\n",
       "    </tr>\n",
       "    <tr>\n",
       "      <th>2</th>\n",
       "      <td>10.189399</td>\n",
       "      <td>15.047094</td>\n",
       "      <td>12.435127</td>\n",
       "      <td>16.305160</td>\n",
       "    </tr>\n",
       "    <tr>\n",
       "      <th>3</th>\n",
       "      <td>9.105450</td>\n",
       "      <td>13.732459</td>\n",
       "      <td>17.557304</td>\n",
       "      <td>16.818963</td>\n",
       "    </tr>\n",
       "    <tr>\n",
       "      <th>4</th>\n",
       "      <td>9.852551</td>\n",
       "      <td>12.611576</td>\n",
       "      <td>13.325469</td>\n",
       "      <td>17.283738</td>\n",
       "    </tr>\n",
       "  </tbody>\n",
       "</table>\n",
       "</div>"
      ],
      "text/plain": [
       "   $L_{p}$ [Angstrom] N = 6 PEG acetone   \\\n",
       "0                              10.427323   \n",
       "1                              13.775705   \n",
       "2                              10.189399   \n",
       "3                               9.105450   \n",
       "4                               9.852551   \n",
       "\n",
       "   $L_{p}$ [Angstrom] N = 8 PEG acetone   \\\n",
       "0                              10.539571   \n",
       "1                              12.344046   \n",
       "2                              15.047094   \n",
       "3                              13.732459   \n",
       "4                              12.611576   \n",
       "\n",
       "   $L_{p}$ [Angstrom] N = 10 PEG acetone   \\\n",
       "0                               16.112348   \n",
       "1                               18.476523   \n",
       "2                               12.435127   \n",
       "3                               17.557304   \n",
       "4                               13.325469   \n",
       "\n",
       "   $L_{p}$ [Angstrom] N = 20 PEG acetone   \n",
       "0                               20.053625  \n",
       "1                               15.716023  \n",
       "2                               16.305160  \n",
       "3                               16.818963  \n",
       "4                               17.283738  "
      ]
     },
     "execution_count": 248,
     "metadata": {},
     "output_type": "execute_result"
    }
   ],
   "source": [
    "pers_pegt_ace[r\"$L_{p}$ [Angstrom] N = 20 PEG acetone \"] = n20_blkspeg_ace[\"Avg persistence length\"]\n",
    "pers_pegt_ace"
   ]
  },
  {
   "cell_type": "code",
   "execution_count": null,
   "metadata": {},
   "outputs": [],
   "source": []
  },
  {
   "cell_type": "code",
   "execution_count": null,
   "metadata": {},
   "outputs": [],
   "source": []
  },
  {
   "cell_type": "markdown",
   "metadata": {},
   "source": [
    "### N = 30 PEG/acetone only"
   ]
  },
  {
   "cell_type": "code",
   "execution_count": 253,
   "metadata": {},
   "outputs": [],
   "source": [
    "# For the right Rg calculation using MD Analysis, use trajactory without pbc \n",
    "n30_peg_ace = mda.Universe(\"n30peg_prod_ace/n30pegonly_ace.pdb\", \"n30peg_prod_ace/noace_n30peg.xtc\")"
   ]
  },
  {
   "cell_type": "code",
   "execution_count": 254,
   "metadata": {},
   "outputs": [
    {
     "data": {
      "text/plain": [
       "<XTCReader n30peg_prod_ace/noace_n30peg.xtc with 18001 frames of 213 atoms>"
      ]
     },
     "execution_count": 254,
     "metadata": {},
     "output_type": "execute_result"
    }
   ],
   "source": [
    "n30_peg_ace.trajectory"
   ]
  },
  {
   "cell_type": "code",
   "execution_count": 255,
   "metadata": {},
   "outputs": [
    {
     "data": {
      "text/plain": [
       "18001"
      ]
     },
     "execution_count": 255,
     "metadata": {},
     "output_type": "execute_result"
    }
   ],
   "source": [
    "len(n30_peg_ace.trajectory)"
   ]
  },
  {
   "cell_type": "code",
   "execution_count": 256,
   "metadata": {},
   "outputs": [],
   "source": [
    "#Select the polymer heavy atoms \n",
    "peg_n30ace = n30_peg_ace.select_atoms(\"resname sPEG PEG tPEG and not type H\")"
   ]
  },
  {
   "cell_type": "code",
   "execution_count": 257,
   "metadata": {},
   "outputs": [
    {
     "data": {
      "text/plain": [
       "array([[ 1.00000000e+00,  9.30685617e-01,  8.42835729e-01,\n",
       "         7.90500888e-01,  7.71444443e-01,  7.60619556e-01,\n",
       "         7.43242396e-01,  7.37386828e-01,  7.35742317e-01,\n",
       "         7.30128840e-01,  7.39805723e-01,  7.09935423e-01,\n",
       "         6.88828580e-01,  6.74077595e-01,  6.65456139e-01,\n",
       "         6.54366991e-01,  6.24119131e-01,  6.04591632e-01,\n",
       "         5.91284520e-01,  5.67021505e-01,  5.23246133e-01,\n",
       "         4.74407792e-01,  4.31672986e-01,  4.02245649e-01,\n",
       "         3.61589995e-01,  2.50650578e-01,  1.55705502e-01,\n",
       "        -5.93313645e-02, -9.85935978e-02],\n",
       "       [ 0.00000000e+00,  1.00000000e+00,  2.00000000e+00,\n",
       "         3.00000000e+00,  4.00000000e+00,  5.00000000e+00,\n",
       "         6.00000000e+00,  7.00000000e+00,  8.00000000e+00,\n",
       "         9.00000000e+00,  1.00000000e+01,  1.10000000e+01,\n",
       "         1.20000000e+01,  1.30000000e+01,  1.40000000e+01,\n",
       "         1.50000000e+01,  1.60000000e+01,  1.70000000e+01,\n",
       "         1.80000000e+01,  1.90000000e+01,  2.00000000e+01,\n",
       "         2.10000000e+01,  2.20000000e+01,  2.30000000e+01,\n",
       "         2.40000000e+01,  2.50000000e+01,  2.60000000e+01,\n",
       "         2.70000000e+01,  2.80000000e+01],\n",
       "       [ 0.00000000e+00,  2.14580565e+01,  3.25592117e+01,\n",
       "         3.77676551e+01,  3.95162236e+01,  4.04811529e+01,\n",
       "         4.19916446e+01,  4.24907134e+01,  4.26300218e+01,\n",
       "         4.31028038e+01,  4.22851312e+01,  4.47703386e+01,\n",
       "         4.64625478e+01,  4.76174389e+01,  4.82826713e+01,\n",
       "         4.91283307e+01,  5.13824368e+01,  5.28005382e+01,\n",
       "         5.37517853e+01,  5.54572137e+01,  5.84497514e+01,\n",
       "         6.16792016e+01,  6.44262210e+01,  6.62813599e+01,\n",
       "         6.88021248e+01,  7.54839866e+01,  8.10422847e+01,\n",
       "         9.34014344e+01,  9.56581893e+01]])"
      ]
     },
     "execution_count": 257,
     "metadata": {},
     "output_type": "execute_result"
    }
   ],
   "source": [
    "crv_n30peg_ace = pers_length(peg_n30ace,30)\n",
    "crv_n30peg_ace"
   ]
  },
  {
   "cell_type": "code",
   "execution_count": 258,
   "metadata": {},
   "outputs": [],
   "source": [
    "com_bond_n30ace = np.zeros(shape=(1,18000))\n",
    "count = 0\n",
    "for ts in n30_peg_ace.trajectory[0:18000]:\n",
    "    n30_mon1_ace = n30_peg_ace.select_atoms(\"resid 1\")\n",
    "    n30_mon2_ace = n30_peg_ace.select_atoms(\"resid 2\")\n",
    "    oo_len = mda.analysis.distances.distance_array(n30_mon1_ace.center_of_mass(), n30_mon2_ace.center_of_mass(), \n",
    "                                                   box=n30_peg_ace.trajectory.ts.dimensions)\n",
    "    com_bond_n30ace[0, count] = oo_len\n",
    "    count += 1\n",
    "    "
   ]
  },
  {
   "cell_type": "code",
   "execution_count": 259,
   "metadata": {},
   "outputs": [
    {
     "data": {
      "text/plain": [
       "array([[3.27241698, 3.09227833, 3.04944713, ..., 3.23381209, 3.28609871,\n",
       "        3.19639866]])"
      ]
     },
     "execution_count": 259,
     "metadata": {},
     "output_type": "execute_result"
    }
   ],
   "source": [
    "com_bond_n30ace"
   ]
  },
  {
   "cell_type": "code",
   "execution_count": 260,
   "metadata": {},
   "outputs": [
    {
     "data": {
      "text/plain": [
       "3.2442991909861867"
      ]
     },
     "execution_count": 260,
     "metadata": {},
     "output_type": "execute_result"
    }
   ],
   "source": [
    "lb_avg_pn6 = np.mean(com_bond)\n",
    "lb_avg_pn6"
   ]
  },
  {
   "cell_type": "code",
   "execution_count": 261,
   "metadata": {},
   "outputs": [
    {
     "data": {
      "text/plain": [
       "0.17413480862198993"
      ]
     },
     "execution_count": 261,
     "metadata": {},
     "output_type": "execute_result"
    }
   ],
   "source": [
    "np.std(com_bond)"
   ]
  },
  {
   "cell_type": "code",
   "execution_count": 262,
   "metadata": {},
   "outputs": [
    {
     "data": {
      "text/plain": [
       "3.196659738893472"
      ]
     },
     "execution_count": 262,
     "metadata": {},
     "output_type": "execute_result"
    }
   ],
   "source": [
    "np.mean(com_bond_n30ace)"
   ]
  },
  {
   "cell_type": "code",
   "execution_count": 263,
   "metadata": {},
   "outputs": [
    {
     "data": {
      "text/plain": [
       "0.1743092957295341"
      ]
     },
     "execution_count": 263,
     "metadata": {},
     "output_type": "execute_result"
    }
   ],
   "source": [
    "np.std(com_bond_n30ace)"
   ]
  },
  {
   "cell_type": "markdown",
   "metadata": {},
   "source": [
    "### Radius of Gyration vs. time N = 30 PEG/acetone"
   ]
  },
  {
   "cell_type": "code",
   "execution_count": 264,
   "metadata": {},
   "outputs": [],
   "source": [
    "n30peg_rgens_ace, cor_n30peg_ace, N30peg_cos_ace, rgace_n30peg = get_rg_pers_poly(peg_n30ace, n30_peg_ace, 0, 18000)"
   ]
  },
  {
   "cell_type": "code",
   "execution_count": 265,
   "metadata": {},
   "outputs": [
    {
     "data": {
      "text/plain": [
       "(18000,)"
      ]
     },
     "execution_count": 265,
     "metadata": {},
     "output_type": "execute_result"
    }
   ],
   "source": [
    "n30peg_rgens_ace[0].shape"
   ]
  },
  {
   "cell_type": "code",
   "execution_count": 266,
   "metadata": {},
   "outputs": [
    {
     "data": {
      "text/plain": [
       "array([ 0.,  1.,  2.,  3.,  4.,  5.,  6.,  7.,  8.,  9., 10., 11., 12.,\n",
       "       13., 14., 15., 16., 17., 18., 19., 20., 21., 22., 23., 24., 25.,\n",
       "       26., 27., 28.])"
      ]
     },
     "execution_count": 266,
     "metadata": {},
     "output_type": "execute_result"
    }
   ],
   "source": [
    "cor_n30peg_ace[3]"
   ]
  },
  {
   "cell_type": "code",
   "execution_count": 267,
   "metadata": {},
   "outputs": [
    {
     "data": {
      "text/plain": [
       "array([[ 1.        ,  1.        ,  1.        , ...,  1.        ,\n",
       "         1.        ,  1.        ],\n",
       "       [ 0.93068562,  0.92448068,  0.92568567, ...,  0.90499577,\n",
       "         0.9112921 ,  0.90367464],\n",
       "       [ 0.84283573,  0.82430784,  0.84306771, ...,  0.75796496,\n",
       "         0.78311579,  0.75058675],\n",
       "       ...,\n",
       "       [ 0.1557055 ,  0.43849543,  0.76599683, ..., -0.26220549,\n",
       "        -0.37080564, -0.42396382],\n",
       "       [-0.05933136,  0.42856672,  0.72545717, ..., -0.29019497,\n",
       "        -0.35353409, -0.50383283],\n",
       "       [-0.0985936 ,  0.23558459,  0.83045011, ..., -0.43097676,\n",
       "        -0.33249469, -0.45521288]])"
      ]
     },
     "execution_count": 267,
     "metadata": {},
     "output_type": "execute_result"
    }
   ],
   "source": [
    "N30peg_cos_ace"
   ]
  },
  {
   "cell_type": "code",
   "execution_count": 268,
   "metadata": {},
   "outputs": [
    {
     "data": {
      "text/plain": [
       "9.115670944572981"
      ]
     },
     "execution_count": 268,
     "metadata": {},
     "output_type": "execute_result"
    }
   ],
   "source": [
    "rgace_n30peg"
   ]
  },
  {
   "cell_type": "code",
   "execution_count": 269,
   "metadata": {},
   "outputs": [
    {
     "data": {
      "text/plain": [
       "1.9620922162618808"
      ]
     },
     "execution_count": 269,
     "metadata": {},
     "output_type": "execute_result"
    }
   ],
   "source": [
    "np.std(n30peg_rgens_ace)"
   ]
  },
  {
   "cell_type": "code",
   "execution_count": 270,
   "metadata": {},
   "outputs": [
    {
     "data": {
      "text/plain": [
       "(0.2, 3)"
      ]
     },
     "execution_count": 270,
     "metadata": {},
     "output_type": "execute_result"
    },
    {
     "data": {
      "image/png": "[encoded data removed]",
      "text/plain": [
       "<Figure size 504x504 with 1 Axes>"
      ]
     },
     "metadata": {
      "needs_background": "light"
     },
     "output_type": "display_data"
    }
   ],
   "source": [
    "plt.figure(figsize=(7,7))\n",
    "plt.title(r'PEG Radius of Gyration', fontsize=18, y=1.01)\n",
    "plt.xlabel(r'Time [ns]', fontsize=15)\n",
    "plt.ylabel(r'$R_{g}$ [nm]', fontsize=15)\n",
    "plt.plot(trj_len/100, n6peg_rgens_ace[0]/10,linewidth=2, color='#CCBE9F')\n",
    "plt.plot(trj_len/100, n8peg_rgens_ace[0]/10,linewidth=2, color='#601A4A')\n",
    "plt.plot(trj_len/100, n10peg_rgens_ace[0]/10,linewidth=2, color='#2B6322')\n",
    "plt.plot(trj_len/100, n20peg_rgens_ace[0]/10,linewidth=2, color='#562A8B')\n",
    "plt.plot(trj_len/100, n30peg_rgens_ace[0]/10,linewidth=2, color='#1D77CF')\n",
    "plt.tick_params(labelsize=14)\n",
    "plt.legend(['N = 6 in acetone','N = 8 in acetone','N = 10 in acetone','N = 20 in acetone', 'N = 30 in acetone'], frameon=False, fontsize=14)\n",
    "#plt.text(127, 0.96,r'N = 6 in water', fontsize=18, color='#1F2E69', family='Arial')\n",
    "plt.xlim(0,180)\n",
    "plt.ylim(0.2,3)"
   ]
  },
  {
   "cell_type": "markdown",
   "metadata": {},
   "source": [
    "#### Correlation values at each arc length for the whole 180 ns trajectory, N = 30 PEG/acetone"
   ]
  },
  {
   "cell_type": "code",
   "execution_count": 271,
   "metadata": {},
   "outputs": [
    {
     "data": {
      "text/plain": [
       "array([ 0.        ,  3.24429919,  6.48859838,  9.73289757, 12.97719676,\n",
       "       16.22149595, 19.46579515, 22.71009434, 25.95439353, 29.19869272,\n",
       "       32.44299191, 35.6872911 , 38.93159029, 42.17588948, 45.42018867,\n",
       "       48.66448786, 51.90878706, 55.15308625, 58.39738544, 61.64168463,\n",
       "       64.88598382, 68.13028301, 71.3745822 , 74.61888139, 77.86318058,\n",
       "       81.10747977, 84.35177897, 87.59607816, 90.84037735])"
      ]
     },
     "execution_count": 271,
     "metadata": {},
     "output_type": "execute_result"
    }
   ],
   "source": [
    "# x values\n",
    "blen_n30ace = cor_n30peg_ace[3]*lb_avg_pn6\n",
    "#nt_tt[0] = 0\n",
    "blen_n30ace"
   ]
  },
  {
   "cell_type": "code",
   "execution_count": 272,
   "metadata": {},
   "outputs": [
    {
     "data": {
      "text/plain": [
       "array([1.43329176e-18, 1.44213008e-02, 4.72287480e-02, 1.01319188e-01,\n",
       "       1.64400160e-01, 2.31655662e-01, 3.07702400e-01, 3.91609944e-01,\n",
       "       4.73510166e-01, 5.45039783e-01, 6.09891896e-01, 6.59578024e-01,\n",
       "       7.05759692e-01, 7.29617125e-01, 7.52146666e-01, 7.81336738e-01,\n",
       "       8.17880823e-01, 8.78788955e-01, 9.59098653e-01, 1.04874360e+00,\n",
       "       1.15147979e+00, 1.26134891e+00, 1.32481577e+00, 1.34285062e+00,\n",
       "       1.32962718e+00, 1.32034043e+00, 1.36100089e+00, 1.48165080e+00,\n",
       "       1.86608066e+00])"
      ]
     },
     "execution_count": 272,
     "metadata": {},
     "output_type": "execute_result"
    }
   ],
   "source": [
    "mk_n30p_ace = cor_n30peg_ace[1]/cor_n30peg_ace[0]\n",
    "mk_n30p_ace"
   ]
  },
  {
   "cell_type": "code",
   "execution_count": 273,
   "metadata": {},
   "outputs": [
    {
     "data": {
      "text/plain": [
       "<matplotlib.legend.Legend at 0x1a2256f358>"
      ]
     },
     "execution_count": 273,
     "metadata": {},
     "output_type": "execute_result"
    },
    {
     "data": {
      "image/png": "[encoded data removed]",
      "text/plain": [
       "<Figure size 504x504 with 1 Axes>"
      ]
     },
     "metadata": {
      "needs_background": "light"
     },
     "output_type": "display_data"
    }
   ],
   "source": [
    "plt.figure(figsize=(7,7))\n",
    "plt.errorbar(blen_ace, np.log(cor_n6peg_ace[0]), yerr=mk_n6p_ace, color='#CCBE9F', linestyle=\"None\",marker='o',\n",
    "     capsize=5, capthick=1, ecolor='black')\n",
    "plt.errorbar(blen_n8ace, np.log(cor_n8peg_ace[0]), yerr=mk_n8p_ace, color='#601A4A', linestyle=\"None\",marker='o',\n",
    "     capsize=5, capthick=1, ecolor='black')\n",
    "plt.errorbar(blen_n10ace, np.log(cor_n10peg_ace[0]), yerr=mk_n10p_ace, color='#2B6322', linestyle=\"None\",marker='o',\n",
    "     capsize=5, capthick=1, ecolor='black')\n",
    "plt.errorbar(blen_n20ace, np.log(cor_n20peg_ace[0]), yerr=mk_n20p_ace, color='#562A8B', linestyle=\"None\",marker='o',\n",
    "     capsize=5, capthick=1, ecolor='black')\n",
    "plt.errorbar(blen_n30ace, np.log(cor_n30peg_ace[0]), yerr=mk_n30p_ace, color='#1D77CF', linestyle=\"None\",marker='o',\n",
    "     capsize=5, capthick=1, ecolor='black')\n",
    "plt.legend(['N = 6 in acetone','N = 8 in acetone', 'N = 10 in acetone','N = 20 in acetone'\n",
    "            ,'N = 30 in acetone' ], frameon=False, fontsize=14)"
   ]
  },
  {
   "cell_type": "code",
   "execution_count": 274,
   "metadata": {},
   "outputs": [
    {
     "name": "stdout",
     "output_type": "stream",
     "text": [
      "3000\n",
      "6000\n",
      "Lp [Angstroms]: 18.516290571768543\n",
      "Error in Lp from fit [Angstroms], 95% CL : 0.14010879545768967\n",
      "R2 score: 0.9803947418592506\n",
      "6000\n",
      "9000\n",
      "Lp [Angstroms]: 18.09640589346033\n",
      "Error in Lp from fit [Angstroms], 95% CL : 0.14673545397541246\n",
      "R2 score: 0.9777402407215944\n",
      "9000\n",
      "12000\n",
      "Lp [Angstroms]: 18.01524169468525\n",
      "Error in Lp from fit [Angstroms], 95% CL : 0.12929932628267335\n",
      "R2 score: 0.9822105273237395\n",
      "12000\n",
      "15000\n",
      "Lp [Angstroms]: 19.773872953083035\n",
      "Error in Lp from fit [Angstroms], 95% CL : 0.12329717844737369\n",
      "R2 score: 0.9862955966785688\n",
      "15000\n",
      "18000\n",
      "Lp [Angstroms]: 19.010267292789774\n",
      "Error in Lp from fit [Angstroms], 95% CL : 0.13120624344817186\n",
      "R2 score: 0.9834552880904369\n"
     ]
    }
   ],
   "source": [
    "# All the points give the best fits for N = 6 peg in water\n",
    "n30_blkspeg_ace , n30peg_fitslpace = bavg_pers_cnt(5, peg_n30ace, n30_peg_ace, lb_avg_pn6, 5, 3000 , 18000)"
   ]
  },
  {
   "cell_type": "code",
   "execution_count": 275,
   "metadata": {},
   "outputs": [
    {
     "data": {
      "text/plain": [
       "{'Avg Radius of gyration': array([8.18290631, 8.30183974, 9.95921564, 9.58525696, 9.01848994]),\n",
       " 'Avg persistence length': array([18.51629057, 18.09640589, 18.01524169, 19.77387295, 19.01026729])}"
      ]
     },
     "execution_count": 275,
     "metadata": {},
     "output_type": "execute_result"
    }
   ],
   "source": [
    "n30_blkspeg_ace"
   ]
  },
  {
   "cell_type": "code",
   "execution_count": 276,
   "metadata": {},
   "outputs": [
    {
     "data": {
      "text/plain": [
       "array([[ 1.85162906e+01,  1.80964059e+01,  1.80152417e+01,\n",
       "         1.97738730e+01,  1.90102673e+01],\n",
       "       [ 1.40108795e-01,  1.46735454e-01,  1.29299326e-01,\n",
       "         1.23297178e-01,  1.31206243e-01],\n",
       "       [-5.40064975e-02, -5.52595916e-02, -5.55085531e-02,\n",
       "        -5.05717824e-02, -5.26031531e-02],\n",
       "       [ 1.41511011e-03,  1.70128154e-03,  1.34495433e-03,\n",
       "         8.42586902e-04,  1.11694425e-03]])"
      ]
     },
     "execution_count": 276,
     "metadata": {},
     "output_type": "execute_result"
    }
   ],
   "source": [
    "n30peg_fitslpace"
   ]
  },
  {
   "cell_type": "code",
   "execution_count": 277,
   "metadata": {},
   "outputs": [
    {
     "data": {
      "text/plain": [
       "array([-0.0540065 , -0.05525959, -0.05550855, -0.05057178, -0.05260315])"
      ]
     },
     "execution_count": 277,
     "metadata": {},
     "output_type": "execute_result"
    }
   ],
   "source": [
    "n30peg_fitslpace[2]"
   ]
  },
  {
   "cell_type": "code",
   "execution_count": 278,
   "metadata": {},
   "outputs": [
    {
     "data": {
      "text/plain": [
       "0.0012841754266125986"
      ]
     },
     "execution_count": 278,
     "metadata": {},
     "output_type": "execute_result"
    }
   ],
   "source": [
    "np.mean(n30peg_fitslpace[3])"
   ]
  },
  {
   "cell_type": "code",
   "execution_count": 279,
   "metadata": {},
   "outputs": [
    {
     "data": {
      "text/plain": [
       "array([ 0.        ,  3.24429919,  6.48859838,  9.73289757, 12.97719676,\n",
       "       16.22149595, 19.46579515, 22.71009434, 25.95439353, 29.19869272,\n",
       "       32.44299191, 35.6872911 , 38.93159029, 42.17588948, 45.42018867,\n",
       "       48.66448786, 51.90878706, 55.15308625, 58.39738544, 61.64168463,\n",
       "       64.88598382, 68.13028301, 71.3745822 , 74.61888139, 77.86318058,\n",
       "       81.10747977, 84.35177897, 87.59607816, 90.84037735])"
      ]
     },
     "execution_count": 279,
     "metadata": {},
     "output_type": "execute_result"
    }
   ],
   "source": [
    "blen_n30ace"
   ]
  },
  {
   "cell_type": "code",
   "execution_count": 280,
   "metadata": {},
   "outputs": [],
   "source": [
    "gg_n30peg_ace = line_fit(np.mean(n30peg_fitslpace[2]),blen_n20ace)"
   ]
  },
  {
   "cell_type": "code",
   "execution_count": 281,
   "metadata": {},
   "outputs": [],
   "source": [
    "gg_n20peg_n30ace = line_fit(np.mean(n20peg_fitslpace[2]),blen_n20ace)"
   ]
  },
  {
   "cell_type": "code",
   "execution_count": 282,
   "metadata": {},
   "outputs": [],
   "source": [
    "gg_n10peg_n30ace = line_fit(np.mean(n10peg_fitslpace[2]),blen_n20ace)"
   ]
  },
  {
   "cell_type": "code",
   "execution_count": 283,
   "metadata": {},
   "outputs": [],
   "source": [
    "gg_n8peg_n30ace = line_fit(np.mean(n8peg_fitslpace[2]),blen_n20ace)"
   ]
  },
  {
   "cell_type": "code",
   "execution_count": 284,
   "metadata": {},
   "outputs": [],
   "source": [
    "gg_n6peg_n30ace = line_fit(np.mean(n6peg_fitslpace[2]),blen_n20ace)"
   ]
  },
  {
   "cell_type": "code",
   "execution_count": 285,
   "metadata": {},
   "outputs": [
    {
     "data": {
      "text/plain": [
       "array([-0.        , -0.17386172, -0.34772344, -0.52158516, -0.69544688,\n",
       "       -0.8693086 , -1.04317032, -1.21703204, -1.39089376, -1.56475548,\n",
       "       -1.7386172 , -1.91247892, -2.08634064, -2.26020235, -2.43406407,\n",
       "       -2.60792579, -2.78178751, -2.95564923, -3.12951095])"
      ]
     },
     "execution_count": 285,
     "metadata": {},
     "output_type": "execute_result"
    }
   ],
   "source": [
    "gg_n30peg_ace"
   ]
  },
  {
   "cell_type": "code",
   "execution_count": null,
   "metadata": {},
   "outputs": [],
   "source": []
  },
  {
   "cell_type": "markdown",
   "metadata": {},
   "source": [
    "### Block averaged Radius of gyration and persistence length, N = 30 PEG/acetone"
   ]
  },
  {
   "cell_type": "code",
   "execution_count": 286,
   "metadata": {},
   "outputs": [
    {
     "data": {
      "text/plain": [
       "18.682415681157387"
      ]
     },
     "execution_count": 286,
     "metadata": {},
     "output_type": "execute_result"
    }
   ],
   "source": [
    "np.mean(n30_blkspeg_ace[\"Avg persistence length\"])"
   ]
  },
  {
   "cell_type": "code",
   "execution_count": 287,
   "metadata": {},
   "outputs": [
    {
     "data": {
      "text/plain": [
       "0.6503678662358189"
      ]
     },
     "execution_count": 287,
     "metadata": {},
     "output_type": "execute_result"
    }
   ],
   "source": [
    "np.std(n30_blkspeg_ace[\"Avg persistence length\"])"
   ]
  },
  {
   "cell_type": "code",
   "execution_count": 288,
   "metadata": {},
   "outputs": [
    {
     "data": {
      "text/plain": [
       "9.009541715167106"
      ]
     },
     "execution_count": 288,
     "metadata": {},
     "output_type": "execute_result"
    }
   ],
   "source": [
    "np.mean(n30_blkspeg_ace[\"Avg Radius of gyration\"])"
   ]
  },
  {
   "cell_type": "code",
   "execution_count": 289,
   "metadata": {},
   "outputs": [
    {
     "data": {
      "text/plain": [
       "0.6953526956528919"
      ]
     },
     "execution_count": 289,
     "metadata": {},
     "output_type": "execute_result"
    }
   ],
   "source": [
    "np.std(n30_blkspeg_ace[\"Avg Radius of gyration\"])"
   ]
  },
  {
   "cell_type": "code",
   "execution_count": 298,
   "metadata": {},
   "outputs": [
    {
     "data": {
      "image/png": "[encoded data removed]",
      "text/plain": [
       "<Figure size 504x504 with 1 Axes>"
      ]
     },
     "metadata": {
      "needs_background": "light"
     },
     "output_type": "display_data"
    }
   ],
   "source": [
    "plt.figure(figsize=(7,7))\n",
    "plt.errorbar(blen_ace, np.log(cor_n6peg_ace[0]), yerr=mk_n6p_ace, color='#CCBE9F', linestyle=\"None\",marker='o',\n",
    "     capsize=5, capthick=1, ecolor='black')\n",
    "plt.errorbar(blen_n8ace, np.log(cor_n8peg_ace[0]), yerr=mk_n8p_ace, color='#601A4A', linestyle=\"None\",marker='o',\n",
    "     capsize=5, capthick=1, ecolor='black')\n",
    "plt.errorbar(blen_n10ace, np.log(cor_n10peg_ace[0]), yerr=mk_n10p_ace, color='#2B6322', linestyle=\"None\",marker='o',\n",
    "     capsize=5, capthick=1, ecolor='black')\n",
    "plt.errorbar(blen_n20ace, np.log(cor_n20peg_ace[0]), yerr=mk_n20p_ace, color='#562A8B', linestyle=\"None\",marker='o',\n",
    "     capsize=5, capthick=1, ecolor='black')\n",
    "plt.errorbar(blen_n30ace, np.log(cor_n30peg_ace[0]), yerr=mk_n30p_ace, color='#1D77CF', linestyle=\"None\",marker='o',\n",
    "     capsize=5, capthick=1, ecolor='black')\n",
    "plt.plot(blen_n30ace[:15], gg_n6peg_n30ace[:15], color='#CCBE9F')\n",
    "plt.plot(blen_n30ace[:15], gg_n8peg_n30ace[:15], color='#601A4A')\n",
    "plt.plot(blen_n30ace[:15], gg_n10peg_n30ace[:15], color='#2B6322')\n",
    "plt.plot(blen_n30ace[:15], gg_n20peg_n30ace[:15], color='#562A8B')\n",
    "plt.plot(blen_n30ace[:15], gg_n30peg_ace[:15], color='#1D77CF')\n",
    "plt.title(r'Ensemble Averaged ln(Cosine $\\theta$) in Acetone', fontsize=15, y=1.01)\n",
    "plt.xlabel(r'Bond Length', fontsize=15)\n",
    "plt.ylabel(r'ln$\\left< Cos(\\theta)\\right >$', fontsize=15)\n",
    "plt.ylim(-7,1)\n",
    "plt.xlim(0,90)\n",
    "font = font_manager.FontProperties(family='Arial', style='normal', size='14')\n",
    "plt.text(0.5, -6.94,r'$N_{PEG}$ = 6: $L_{p}$ = 10.7 $\\AA$ ± 1.62 $\\AA$', fontsize=15, color='#CCBE9F')\n",
    "plt.text(0.5,-6.58,r'$N_{PEG}$ = 8: $L_{p}$ = 12.9 $\\AA$ ± 1.50 $\\AA$', fontsize=15, color='#601A4A')\n",
    "plt.text(0.5,-6.23,r'$N_{PEG}$ = 10: $L_{p}$ = 15.6 $\\AA$ ± 2.35 $\\AA$', fontsize=15, color='#2B6322')\n",
    "plt.text(0.5,-5.88,r'$N_{PEG}$ = 20: $L_{p}$ = 17.2 $\\AA$ ± 1.50 $\\AA$', fontsize=15, color='#562A8B')\n",
    "plt.text(0.5,-5.50,r'$N_{PEG}$ = 30: $L_{p}$ = 18.7 $\\AA$ ± 0.65 $\\AA$', fontsize=15, color='#1D77CF')\n",
    "plt.tick_params(labelsize=14)\n",
    "#plt.text(5,-0.15,r'R$^{2}$ = 0.98', fontsize=15, color='blue')"
   ]
  },
  {
   "cell_type": "code",
   "execution_count": 290,
   "metadata": {},
   "outputs": [
    {
     "data": {
      "text/html": [
       "<div>\n",
       "<style scoped>\n",
       "    .dataframe tbody tr th:only-of-type {\n",
       "        vertical-align: middle;\n",
       "    }\n",
       "\n",
       "    .dataframe tbody tr th {\n",
       "        vertical-align: top;\n",
       "    }\n",
       "\n",
       "    .dataframe thead th {\n",
       "        text-align: right;\n",
       "    }\n",
       "</style>\n",
       "<table border=\"1\" class=\"dataframe\">\n",
       "  <thead>\n",
       "    <tr style=\"text-align: right;\">\n",
       "      <th></th>\n",
       "      <th>$R_{g}$ [Angstrom] N = 6 PEG acetone</th>\n",
       "      <th>$R_{g}$ [Angstrom] N = 8 PEG acetone</th>\n",
       "      <th>$R_{g}$ [Angstrom] N = 10 PEG acetone</th>\n",
       "      <th>$R_{g}$ [Angstrom] N = 20 PEG acetone</th>\n",
       "    </tr>\n",
       "  </thead>\n",
       "  <tbody>\n",
       "    <tr>\n",
       "      <th>0</th>\n",
       "      <td>3.752919</td>\n",
       "      <td>4.163319</td>\n",
       "      <td>5.436221</td>\n",
       "      <td>9.055141</td>\n",
       "    </tr>\n",
       "    <tr>\n",
       "      <th>1</th>\n",
       "      <td>4.207143</td>\n",
       "      <td>4.443474</td>\n",
       "      <td>5.859741</td>\n",
       "      <td>6.785387</td>\n",
       "    </tr>\n",
       "    <tr>\n",
       "      <th>2</th>\n",
       "      <td>3.664059</td>\n",
       "      <td>4.841516</td>\n",
       "      <td>4.832483</td>\n",
       "      <td>6.936176</td>\n",
       "    </tr>\n",
       "    <tr>\n",
       "      <th>3</th>\n",
       "      <td>3.655608</td>\n",
       "      <td>4.699104</td>\n",
       "      <td>5.656157</td>\n",
       "      <td>7.024157</td>\n",
       "    </tr>\n",
       "    <tr>\n",
       "      <th>4</th>\n",
       "      <td>3.804556</td>\n",
       "      <td>4.544883</td>\n",
       "      <td>4.953166</td>\n",
       "      <td>7.807679</td>\n",
       "    </tr>\n",
       "  </tbody>\n",
       "</table>\n",
       "</div>"
      ],
      "text/plain": [
       "   $R_{g}$ [Angstrom] N = 6 PEG acetone  $R_{g}$ [Angstrom] N = 8 PEG acetone  \\\n",
       "0                              3.752919                              4.163319   \n",
       "1                              4.207143                              4.443474   \n",
       "2                              3.664059                              4.841516   \n",
       "3                              3.655608                              4.699104   \n",
       "4                              3.804556                              4.544883   \n",
       "\n",
       "   $R_{g}$ [Angstrom] N = 10 PEG acetone  \\\n",
       "0                               5.436221   \n",
       "1                               5.859741   \n",
       "2                               4.832483   \n",
       "3                               5.656157   \n",
       "4                               4.953166   \n",
       "\n",
       "   $R_{g}$ [Angstrom] N = 20 PEG acetone  \n",
       "0                               9.055141  \n",
       "1                               6.785387  \n",
       "2                               6.936176  \n",
       "3                               7.024157  \n",
       "4                               7.807679  "
      ]
     },
     "execution_count": 290,
     "metadata": {},
     "output_type": "execute_result"
    }
   ],
   "source": [
    "rgpeg_olig_ace"
   ]
  },
  {
   "cell_type": "code",
   "execution_count": 291,
   "metadata": {},
   "outputs": [
    {
     "data": {
      "text/html": [
       "<div>\n",
       "<style scoped>\n",
       "    .dataframe tbody tr th:only-of-type {\n",
       "        vertical-align: middle;\n",
       "    }\n",
       "\n",
       "    .dataframe tbody tr th {\n",
       "        vertical-align: top;\n",
       "    }\n",
       "\n",
       "    .dataframe thead th {\n",
       "        text-align: right;\n",
       "    }\n",
       "</style>\n",
       "<table border=\"1\" class=\"dataframe\">\n",
       "  <thead>\n",
       "    <tr style=\"text-align: right;\">\n",
       "      <th></th>\n",
       "      <th>$R_{g}$ [Angstrom] N = 6 PEG acetone</th>\n",
       "      <th>$R_{g}$ [Angstrom] N = 8 PEG acetone</th>\n",
       "      <th>$R_{g}$ [Angstrom] N = 10 PEG acetone</th>\n",
       "      <th>$R_{g}$ [Angstrom] N = 20 PEG acetone</th>\n",
       "      <th>$R_{g}$ [Angstrom] N = 30 PEG acetone</th>\n",
       "    </tr>\n",
       "  </thead>\n",
       "  <tbody>\n",
       "    <tr>\n",
       "      <th>0</th>\n",
       "      <td>3.752919</td>\n",
       "      <td>4.163319</td>\n",
       "      <td>5.436221</td>\n",
       "      <td>9.055141</td>\n",
       "      <td>8.182906</td>\n",
       "    </tr>\n",
       "    <tr>\n",
       "      <th>1</th>\n",
       "      <td>4.207143</td>\n",
       "      <td>4.443474</td>\n",
       "      <td>5.859741</td>\n",
       "      <td>6.785387</td>\n",
       "      <td>8.301840</td>\n",
       "    </tr>\n",
       "    <tr>\n",
       "      <th>2</th>\n",
       "      <td>3.664059</td>\n",
       "      <td>4.841516</td>\n",
       "      <td>4.832483</td>\n",
       "      <td>6.936176</td>\n",
       "      <td>9.959216</td>\n",
       "    </tr>\n",
       "    <tr>\n",
       "      <th>3</th>\n",
       "      <td>3.655608</td>\n",
       "      <td>4.699104</td>\n",
       "      <td>5.656157</td>\n",
       "      <td>7.024157</td>\n",
       "      <td>9.585257</td>\n",
       "    </tr>\n",
       "    <tr>\n",
       "      <th>4</th>\n",
       "      <td>3.804556</td>\n",
       "      <td>4.544883</td>\n",
       "      <td>4.953166</td>\n",
       "      <td>7.807679</td>\n",
       "      <td>9.018490</td>\n",
       "    </tr>\n",
       "  </tbody>\n",
       "</table>\n",
       "</div>"
      ],
      "text/plain": [
       "   $R_{g}$ [Angstrom] N = 6 PEG acetone  $R_{g}$ [Angstrom] N = 8 PEG acetone  \\\n",
       "0                              3.752919                              4.163319   \n",
       "1                              4.207143                              4.443474   \n",
       "2                              3.664059                              4.841516   \n",
       "3                              3.655608                              4.699104   \n",
       "4                              3.804556                              4.544883   \n",
       "\n",
       "   $R_{g}$ [Angstrom] N = 10 PEG acetone  \\\n",
       "0                               5.436221   \n",
       "1                               5.859741   \n",
       "2                               4.832483   \n",
       "3                               5.656157   \n",
       "4                               4.953166   \n",
       "\n",
       "   $R_{g}$ [Angstrom] N = 20 PEG acetone  \\\n",
       "0                               9.055141   \n",
       "1                               6.785387   \n",
       "2                               6.936176   \n",
       "3                               7.024157   \n",
       "4                               7.807679   \n",
       "\n",
       "   $R_{g}$ [Angstrom] N = 30 PEG acetone  \n",
       "0                               8.182906  \n",
       "1                               8.301840  \n",
       "2                               9.959216  \n",
       "3                               9.585257  \n",
       "4                               9.018490  "
      ]
     },
     "execution_count": 291,
     "metadata": {},
     "output_type": "execute_result"
    }
   ],
   "source": [
    "rgpeg_olig_ace[r\"$R_{g}$ [Angstrom] N = 30 PEG acetone\"] = n30_blkspeg_ace[\"Avg Radius of gyration\"]\n",
    "rgpeg_olig_ace"
   ]
  },
  {
   "cell_type": "code",
   "execution_count": 292,
   "metadata": {},
   "outputs": [
    {
     "data": {
      "text/html": [
       "<div>\n",
       "<style scoped>\n",
       "    .dataframe tbody tr th:only-of-type {\n",
       "        vertical-align: middle;\n",
       "    }\n",
       "\n",
       "    .dataframe tbody tr th {\n",
       "        vertical-align: top;\n",
       "    }\n",
       "\n",
       "    .dataframe thead th {\n",
       "        text-align: right;\n",
       "    }\n",
       "</style>\n",
       "<table border=\"1\" class=\"dataframe\">\n",
       "  <thead>\n",
       "    <tr style=\"text-align: right;\">\n",
       "      <th></th>\n",
       "      <th>$L_{p}$ [Angstrom] N = 6 PEG acetone</th>\n",
       "      <th>$L_{p}$ [Angstrom] N = 8 PEG acetone</th>\n",
       "      <th>$L_{p}$ [Angstrom] N = 10 PEG acetone</th>\n",
       "      <th>$L_{p}$ [Angstrom] N = 20 PEG acetone</th>\n",
       "      <th>$L_{p}$ [Angstrom] N = 30 PEG acetone</th>\n",
       "    </tr>\n",
       "  </thead>\n",
       "  <tbody>\n",
       "    <tr>\n",
       "      <th>0</th>\n",
       "      <td>10.427323</td>\n",
       "      <td>10.539571</td>\n",
       "      <td>16.112348</td>\n",
       "      <td>20.053625</td>\n",
       "      <td>18.516291</td>\n",
       "    </tr>\n",
       "    <tr>\n",
       "      <th>1</th>\n",
       "      <td>13.775705</td>\n",
       "      <td>12.344046</td>\n",
       "      <td>18.476523</td>\n",
       "      <td>15.716023</td>\n",
       "      <td>18.096406</td>\n",
       "    </tr>\n",
       "    <tr>\n",
       "      <th>2</th>\n",
       "      <td>10.189399</td>\n",
       "      <td>15.047094</td>\n",
       "      <td>12.435127</td>\n",
       "      <td>16.305160</td>\n",
       "      <td>18.015242</td>\n",
       "    </tr>\n",
       "    <tr>\n",
       "      <th>3</th>\n",
       "      <td>9.105450</td>\n",
       "      <td>13.732459</td>\n",
       "      <td>17.557304</td>\n",
       "      <td>16.818963</td>\n",
       "      <td>19.773873</td>\n",
       "    </tr>\n",
       "    <tr>\n",
       "      <th>4</th>\n",
       "      <td>9.852551</td>\n",
       "      <td>12.611576</td>\n",
       "      <td>13.325469</td>\n",
       "      <td>17.283738</td>\n",
       "      <td>19.010267</td>\n",
       "    </tr>\n",
       "  </tbody>\n",
       "</table>\n",
       "</div>"
      ],
      "text/plain": [
       "   $L_{p}$ [Angstrom] N = 6 PEG acetone   \\\n",
       "0                              10.427323   \n",
       "1                              13.775705   \n",
       "2                              10.189399   \n",
       "3                               9.105450   \n",
       "4                               9.852551   \n",
       "\n",
       "   $L_{p}$ [Angstrom] N = 8 PEG acetone   \\\n",
       "0                              10.539571   \n",
       "1                              12.344046   \n",
       "2                              15.047094   \n",
       "3                              13.732459   \n",
       "4                              12.611576   \n",
       "\n",
       "   $L_{p}$ [Angstrom] N = 10 PEG acetone   \\\n",
       "0                               16.112348   \n",
       "1                               18.476523   \n",
       "2                               12.435127   \n",
       "3                               17.557304   \n",
       "4                               13.325469   \n",
       "\n",
       "   $L_{p}$ [Angstrom] N = 20 PEG acetone   \\\n",
       "0                               20.053625   \n",
       "1                               15.716023   \n",
       "2                               16.305160   \n",
       "3                               16.818963   \n",
       "4                               17.283738   \n",
       "\n",
       "   $L_{p}$ [Angstrom] N = 30 PEG acetone   \n",
       "0                               18.516291  \n",
       "1                               18.096406  \n",
       "2                               18.015242  \n",
       "3                               19.773873  \n",
       "4                               19.010267  "
      ]
     },
     "execution_count": 292,
     "metadata": {},
     "output_type": "execute_result"
    }
   ],
   "source": [
    "pers_pegt_ace[r\"$L_{p}$ [Angstrom] N = 30 PEG acetone \"] = n30_blkspeg_ace[\"Avg persistence length\"]\n",
    "pers_pegt_ace"
   ]
  },
  {
   "cell_type": "code",
   "execution_count": 319,
   "metadata": {},
   "outputs": [
    {
     "data": {
      "text/html": [
       "<div>\n",
       "<style scoped>\n",
       "    .dataframe tbody tr th:only-of-type {\n",
       "        vertical-align: middle;\n",
       "    }\n",
       "\n",
       "    .dataframe tbody tr th {\n",
       "        vertical-align: top;\n",
       "    }\n",
       "\n",
       "    .dataframe thead th {\n",
       "        text-align: right;\n",
       "    }\n",
       "</style>\n",
       "<table border=\"1\" class=\"dataframe\">\n",
       "  <thead>\n",
       "    <tr style=\"text-align: right;\">\n",
       "      <th></th>\n",
       "      <th>$R_{g}$ [Angstrom] N = 6 PEG acetone</th>\n",
       "      <th>$R_{g}$ [Angstrom] N = 8 PEG acetone</th>\n",
       "      <th>$R_{g}$ [Angstrom] N = 10 PEG acetone</th>\n",
       "      <th>$R_{g}$ [Angstrom] N = 20 PEG acetone</th>\n",
       "      <th>$R_{g}$ [Angstrom] N = 30 PEG acetone</th>\n",
       "    </tr>\n",
       "  </thead>\n",
       "  <tbody>\n",
       "    <tr>\n",
       "      <th>0</th>\n",
       "      <td>3.752919</td>\n",
       "      <td>4.163319</td>\n",
       "      <td>5.436221</td>\n",
       "      <td>9.055141</td>\n",
       "      <td>8.182906</td>\n",
       "    </tr>\n",
       "    <tr>\n",
       "      <th>1</th>\n",
       "      <td>4.207143</td>\n",
       "      <td>4.443474</td>\n",
       "      <td>5.859741</td>\n",
       "      <td>6.785387</td>\n",
       "      <td>8.301840</td>\n",
       "    </tr>\n",
       "    <tr>\n",
       "      <th>2</th>\n",
       "      <td>3.664059</td>\n",
       "      <td>4.841516</td>\n",
       "      <td>4.832483</td>\n",
       "      <td>6.936176</td>\n",
       "      <td>9.959216</td>\n",
       "    </tr>\n",
       "    <tr>\n",
       "      <th>3</th>\n",
       "      <td>3.655608</td>\n",
       "      <td>4.699104</td>\n",
       "      <td>5.656157</td>\n",
       "      <td>7.024157</td>\n",
       "      <td>9.585257</td>\n",
       "    </tr>\n",
       "    <tr>\n",
       "      <th>4</th>\n",
       "      <td>3.804556</td>\n",
       "      <td>4.544883</td>\n",
       "      <td>4.953166</td>\n",
       "      <td>7.807679</td>\n",
       "      <td>9.018490</td>\n",
       "    </tr>\n",
       "  </tbody>\n",
       "</table>\n",
       "</div>"
      ],
      "text/plain": [
       "   $R_{g}$ [Angstrom] N = 6 PEG acetone  $R_{g}$ [Angstrom] N = 8 PEG acetone  \\\n",
       "0                              3.752919                              4.163319   \n",
       "1                              4.207143                              4.443474   \n",
       "2                              3.664059                              4.841516   \n",
       "3                              3.655608                              4.699104   \n",
       "4                              3.804556                              4.544883   \n",
       "\n",
       "   $R_{g}$ [Angstrom] N = 10 PEG acetone  \\\n",
       "0                               5.436221   \n",
       "1                               5.859741   \n",
       "2                               4.832483   \n",
       "3                               5.656157   \n",
       "4                               4.953166   \n",
       "\n",
       "   $R_{g}$ [Angstrom] N = 20 PEG acetone  \\\n",
       "0                               9.055141   \n",
       "1                               6.785387   \n",
       "2                               6.936176   \n",
       "3                               7.024157   \n",
       "4                               7.807679   \n",
       "\n",
       "   $R_{g}$ [Angstrom] N = 30 PEG acetone  \n",
       "0                               8.182906  \n",
       "1                               8.301840  \n",
       "2                               9.959216  \n",
       "3                               9.585257  \n",
       "4                               9.018490  "
      ]
     },
     "execution_count": 319,
     "metadata": {},
     "output_type": "execute_result"
    }
   ],
   "source": [
    "rgpeg_olig_ace"
   ]
  },
  {
   "cell_type": "code",
   "execution_count": 320,
   "metadata": {},
   "outputs": [],
   "source": [
    "rgpeg_olig_ace.to_pickle(\"PEG_acetone_Rg.pkl\")"
   ]
  },
  {
   "cell_type": "code",
   "execution_count": null,
   "metadata": {},
   "outputs": [],
   "source": [
    "pers_pegt_ace"
   ]
  },
  {
   "cell_type": "code",
   "execution_count": 321,
   "metadata": {},
   "outputs": [],
   "source": [
    "pers_pegt_ace.to_pickle(\"PEG_acetone_Lp.pkl\")"
   ]
  },
  {
   "cell_type": "markdown",
   "metadata": {},
   "source": [
    "### Fluory Exponent, PEG/acetone systems "
   ]
  },
  {
   "cell_type": "code",
   "execution_count": 299,
   "metadata": {},
   "outputs": [],
   "source": [
    "n_peg = np.array([6,8,10,20,30])\n",
    "rg_npeg_ace = np.array([np.mean(n6_blkspeg_ace[\"Avg Radius of gyration\"])\n",
    "                    ,np.mean(n8_blkspeg_ace[\"Avg Radius of gyration\"]),np.mean(n10_blkspeg_ace[\"Avg Radius of gyration\"])\n",
    "                    ,np.mean(n20_blkspeg_ace[\"Avg Radius of gyration\"]),np.mean(n30_blkspeg_ace[\"Avg Radius of gyration\"])])"
   ]
  },
  {
   "cell_type": "code",
   "execution_count": 300,
   "metadata": {},
   "outputs": [
    {
     "data": {
      "text/plain": [
       "array([3.8168571 , 4.53845919, 5.34755351, 7.52170781, 9.00954172])"
      ]
     },
     "execution_count": 300,
     "metadata": {},
     "output_type": "execute_result"
    }
   ],
   "source": [
    "rg_npeg_ace"
   ]
  },
  {
   "cell_type": "code",
   "execution_count": 301,
   "metadata": {},
   "outputs": [
    {
     "data": {
      "text/plain": [
       "array([0.02239654, 0.02237553, 0.03242563, 0.04657558, 0.03352248])"
      ]
     },
     "execution_count": 301,
     "metadata": {},
     "output_type": "execute_result"
    }
   ],
   "source": [
    "rgace_npeg_std = np.array([np.std(np.log10(n6_blkspeg_ace[\"Avg Radius of gyration\"]))\n",
    "                    ,np.std(np.log10(n8_blkspeg_ace[\"Avg Radius of gyration\"]))\n",
    "                        ,np.std(np.log10(n10_blkspeg_ace[\"Avg Radius of gyration\"]))\n",
    "                    ,np.std(np.log10(n20_blkspeg_ace[\"Avg Radius of gyration\"]))\n",
    "                        ,np.std(np.log10(n30_blkspeg_ace[\"Avg Radius of gyration\"]))])\n",
    "rgace_npeg_std"
   ]
  },
  {
   "cell_type": "code",
   "execution_count": 302,
   "metadata": {},
   "outputs": [
    {
     "data": {
      "text/plain": [
       "array([ 6,  8, 10, 20, 30])"
      ]
     },
     "execution_count": 302,
     "metadata": {},
     "output_type": "execute_result"
    }
   ],
   "source": [
    "n_peg"
   ]
  },
  {
   "cell_type": "code",
   "execution_count": 303,
   "metadata": {},
   "outputs": [
    {
     "data": {
      "text/plain": [
       "array([0.5817059 , 0.65690843, 0.72815514, 0.87631646, 0.9547027 ])"
      ]
     },
     "execution_count": 303,
     "metadata": {},
     "output_type": "execute_result"
    }
   ],
   "source": [
    "np.log10(rg_npeg_ace)"
   ]
  },
  {
   "cell_type": "code",
   "execution_count": 304,
   "metadata": {},
   "outputs": [
    {
     "data": {
      "text/plain": [
       "array([0.77815125, 0.90308999, 1.        , 1.30103   , 1.47712125])"
      ]
     },
     "execution_count": 304,
     "metadata": {},
     "output_type": "execute_result"
    }
   ],
   "source": [
    "np.log10(n_peg)"
   ]
  },
  {
   "cell_type": "code",
   "execution_count": 305,
   "metadata": {},
   "outputs": [
    {
     "name": "stdout",
     "output_type": "stream",
     "text": [
      "Model slope:     0.5308599374077543\n",
      "Model intercept: 0.17992317592296458\n"
     ]
    }
   ],
   "source": [
    "# From fitting all points, I get best fit \n",
    "from sklearn.linear_model import LinearRegression\n",
    "model_vace = LinearRegression(fit_intercept=True)\n",
    "model_vace.fit(np.log10(n_peg).reshape(-1,1), np.log10(rg_npeg_ace))\n",
    "# Slope here is in nanometers\n",
    "print(\"Model slope:    \", model_vace.coef_[0])\n",
    "print(\"Model intercept:\", model_vace.intercept_)"
   ]
  },
  {
   "cell_type": "code",
   "execution_count": 306,
   "metadata": {},
   "outputs": [
    {
     "data": {
      "text/plain": [
       "array([0.5930125 , 0.65933747, 0.71078311, 0.87058788, 0.96406767])"
      ]
     },
     "execution_count": 306,
     "metadata": {},
     "output_type": "execute_result"
    }
   ],
   "source": [
    "gg_ace = model_vace.predict(np.log10(n_peg.reshape(-1,1)))\n",
    "gg_ace"
   ]
  },
  {
   "cell_type": "code",
   "execution_count": 307,
   "metadata": {},
   "outputs": [
    {
     "name": "stdout",
     "output_type": "stream",
     "text": [
      "Mean Std Error: 0.00011120920208168044\n",
      "R2 score: 0.9941387668396506\n"
     ]
    }
   ],
   "source": [
    "print(\"Mean Std Error:\", sklearn.metrics.mean_squared_error(np.log10(rg_npeg_ace), gg_ace))\n",
    "print(\"R2 score:\", sklearn.metrics.r2_score(np.log10(rg_npeg_ace), gg_ace))"
   ]
  },
  {
   "cell_type": "code",
   "execution_count": 308,
   "metadata": {},
   "outputs": [
    {
     "data": {
      "text/plain": [
       "array([-0.0113066 , -0.00242904,  0.01737203,  0.00572858, -0.00936497])"
      ]
     },
     "execution_count": 308,
     "metadata": {},
     "output_type": "execute_result"
    }
   ],
   "source": [
    "# Residuals between the true y data and model y data \n",
    "resid_vace = np.log10(rg_npeg_ace) - gg_ace\n",
    "resid_vace"
   ]
  },
  {
   "cell_type": "code",
   "execution_count": 309,
   "metadata": {},
   "outputs": [
    {
     "data": {
      "text/plain": [
       "0.334663876760361"
      ]
     },
     "execution_count": 309,
     "metadata": {},
     "output_type": "execute_result"
    }
   ],
   "source": [
    "# How to calculate Sum((Xi - avg(X))^2): X values are the bond length values \n",
    "nt_ttace = np.log10(n_peg)\n",
    "nt_ttace -= np.mean(nt_ttace)\n",
    "nhui_ace = nt_ttace**2\n",
    "np.sum(nhui_ace)"
   ]
  },
  {
   "cell_type": "code",
   "execution_count": 310,
   "metadata": {},
   "outputs": [
    {
     "data": {
      "text/plain": [
       "2.7764451051977987"
      ]
     },
     "execution_count": 310,
     "metadata": {},
     "output_type": "execute_result"
    }
   ],
   "source": [
    "# t-value with 95 % confidence intervals \n",
    "scipy.stats.t.ppf(0.975, 4)"
   ]
  },
  {
   "cell_type": "code",
   "execution_count": 311,
   "metadata": {},
   "outputs": [
    {
     "data": {
      "text/plain": [
       "0.050612178929919954"
      ]
     },
     "execution_count": 311,
     "metadata": {},
     "output_type": "execute_result"
    }
   ],
   "source": [
    "# How to calculate 95% confidence interval for the slope \n",
    "flc_vace = scipy.stats.t.ppf(0.975, 4)*np.sqrt((np.sum(resid_vace**2)/len(resid_vace))/(np.sum(nhui_ace)))\n",
    "flc_vace"
   ]
  },
  {
   "cell_type": "code",
   "execution_count": 318,
   "metadata": {},
   "outputs": [
    {
     "data": {
      "text/plain": [
       "Text(1.1, 0.75, '$v_{acetone}$ = 0.53 ± 0.06')"
      ]
     },
     "execution_count": 318,
     "metadata": {},
     "output_type": "execute_result"
    },
    {
     "data": {
      "image/png": "[encoded data removed]",
      "text/plain": [
       "<Figure size 504x504 with 1 Axes>"
      ]
     },
     "metadata": {
      "needs_background": "light"
     },
     "output_type": "display_data"
    }
   ],
   "source": [
    "plt.figure(figsize=(7,7))\n",
    "plt.errorbar(np.log10(n_peg), np.log10(rg_npeg_ace), yerr=rgace_npeg_std, color='#A58262', linestyle=\"None\",marker='o',\n",
    "     capsize=5, capthick=1, ecolor='black')\n",
    "plt.plot(np.log10(n_peg), gg_ace, color='#A58262')\n",
    "plt.title(r'Fluory Exponent', fontsize=15)\n",
    "plt.xlabel(r'Log($N_{PEG}$)', fontsize=15)\n",
    "plt.ylabel(r'Log($R_{g}$)', fontsize=15)\n",
    "plt.tick_params(labelsize=14)\n",
    "plt.text(1.1, 0.75, r'$v_{acetone}$ = 0.53 ± 0.06', fontsize=15, color='#A58262')"
   ]
  },
  {
   "cell_type": "code",
   "execution_count": null,
   "metadata": {},
   "outputs": [],
   "source": []
  }
 ],
 "metadata": {
  "kernelspec": {
   "display_name": "Python (ppc_env)",
   "language": "python",
   "name": "ppc_env"
  },
  "language_info": {
   "codemirror_mode": {
    "name": "ipython",
    "version": 3
   },
   "file_extension": ".py",
   "mimetype": "text/x-python",
   "name": "python",
   "nbconvert_exporter": "python",
   "pygments_lexer": "ipython3",
   "version": "3.6.9"
  }
 },
 "nbformat": 4,
 "nbformat_minor": 4
}
