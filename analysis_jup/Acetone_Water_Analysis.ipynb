{
 "cells": [
  {
   "cell_type": "markdown",
   "metadata": {},
   "source": [
    "### This notebook contains analysis of acetone/water simulations"
   ]
  },
  {
   "cell_type": "markdown",
   "metadata": {},
   "source": [
    "Order of calculated properties:\n",
    "\n",
    "    **Density**\n",
    "    **Self-Diffusion**\n",
    "    **Binary Diffusion Coefficients**\n",
    "    **Heat Capacity**\n",
    "    **Viscosity**\n",
    "   "
   ]
  },
  {
   "cell_type": "markdown",
   "metadata": {},
   "source": [
    "### Average density and Plots"
   ]
  },
  {
   "cell_type": "code",
   "execution_count": 1,
   "metadata": {
    "collapsed": true
   },
   "outputs": [],
   "source": [
    "###setup\n",
    "%matplotlib inline\n",
    "import numpy as np\n",
    "import matplotlib.pylab as plt\n",
    "import matplotlib.pylab as plp\n",
    "import pandas as pd\n",
    "from itertools import cycle\n",
    "import scipy\n",
    "#import pymc\n",
    "import random\n",
    "import sklearn\n",
    "from sklearn.gaussian_process import GaussianProcess\n",
    "from sklearn.preprocessing import StandardScaler, RobustScaler\n",
    "from pylab import *\n",
    "from scipy import *\n",
    "from scipy import optimize\n",
    "from scipy.optimize import curve_fit"
   ]
  },
  {
   "cell_type": "code",
   "execution_count": 2,
   "metadata": {
    "collapsed": false
   },
   "outputs": [
    {
     "ename": "ImportError",
     "evalue": "No module named MDAnalysis",
     "output_type": "error",
     "traceback": [
      "\u001b[0;31m---------------------------------------------------------------------------\u001b[0m",
      "\u001b[0;31mImportError\u001b[0m                               Traceback (most recent call last)",
      "\u001b[0;32m<ipython-input-2-cb3abee8d546>\u001b[0m in \u001b[0;36m<module>\u001b[0;34m()\u001b[0m\n\u001b[0;32m----> 1\u001b[0;31m \u001b[0;32mimport\u001b[0m \u001b[0mMDAnalysis\u001b[0m \u001b[0;32mas\u001b[0m \u001b[0mmdanl\u001b[0m\u001b[0;34m\u001b[0m\u001b[0m\n\u001b[0m\u001b[1;32m      2\u001b[0m \u001b[0;32mimport\u001b[0m \u001b[0mmdtraj\u001b[0m \u001b[0;32mas\u001b[0m \u001b[0mmdtj\u001b[0m\u001b[0;34m\u001b[0m\u001b[0m\n\u001b[1;32m      3\u001b[0m \u001b[0;32mimport\u001b[0m \u001b[0mdiffusion_analysis_MD_simulations\u001b[0m \u001b[0;32mas\u001b[0m \u001b[0mdiff_a\u001b[0m\u001b[0;34m\u001b[0m\u001b[0m\n",
      "\u001b[0;31mImportError\u001b[0m: No module named MDAnalysis"
     ]
    }
   ],
   "source": [
    "import MDAnalysis as mdanl\n",
    "import mdtraj as mdtj\n",
    "import diffusion_analysis_MD_simulations as diff_a"
   ]
  },
  {
   "cell_type": "markdown",
   "metadata": {
    "collapsed": true
   },
   "source": [
    "##### System 1: Water only"
   ]
  },
  {
   "cell_type": "markdown",
   "metadata": {},
   "source": [
    "Load Trajectories\n",
    "\n",
    "- Make sure molecules have been made whole that have broken across periodic boundary \n",
    "- have the solvent molecules remapped so that they are closest to the solute \n",
    "- have a fixed frame of reference(have a reference structure for protein anaylsis) "
   ]
  },
  {
   "cell_type": "code",
   "execution_count": 3,
   "metadata": {
    "collapsed": false
   },
   "outputs": [
    {
     "name": "stdout",
     "output_type": "stream",
     "text": [
      "<Universe with 648 atoms>\n"
     ]
    }
   ],
   "source": [
    "# Input water system (N = 216 molecules)\n",
    "u_0xaw = mdanl.Universe('0_xa_prod_run/confout.gro', '0_xa_prod_run/0_xa_nopbc.xtc')\n",
    "print(u_0xaw)"
   ]
  },
  {
   "cell_type": "code",
   "execution_count": 4,
   "metadata": {
    "collapsed": false
   },
   "outputs": [
    {
     "name": "stdout",
     "output_type": "stream",
     "text": [
      "<AtomGroup [<Atom 1: OW of type O of resname SOL, resid 1 and segid SYSTEM>, <Atom 2: HW1 of type H of resname SOL, resid 1 and segid SYSTEM>, <Atom 3: HW2 of type H of resname SOL, resid 1 and segid SYSTEM>, ..., <Atom 646: OW of type O of resname SOL, resid 216 and segid SYSTEM>, <Atom 647: HW1 of type H of resname SOL, resid 216 and segid SYSTEM>, <Atom 648: HW2 of type H of resname SOL, resid 216 and segid SYSTEM>]>\n"
     ]
    }
   ],
   "source": [
    "print(u_0xaw.atoms)"
   ]
  },
  {
   "cell_type": "code",
   "execution_count": 5,
   "metadata": {
    "collapsed": false
   },
   "outputs": [
    {
     "name": "stdout",
     "output_type": "stream",
     "text": [
      "<ResidueGroup [<Residue SOL, 1>, <Residue SOL, 2>, <Residue SOL, 3>, ..., <Residue SOL, 214>, <Residue SOL, 215>, <Residue SOL, 216>]>\n"
     ]
    }
   ],
   "source": [
    "print(u_0xaw.residues)"
   ]
  },
  {
   "cell_type": "code",
   "execution_count": 6,
   "metadata": {
    "collapsed": false
   },
   "outputs": [
    {
     "name": "stderr",
     "output_type": "stream",
     "text": [
      "Histogramming    216 atoms in frame   201/201  [100.0%]\n"
     ]
    }
   ],
   "source": [
    "from MDAnalysis.analysis.density import density_from_Universe\n",
    "d_w = density_from_Universe(u_0xaw, delta=1.0, atomselection=\"name OW\")\n",
    "d_w.convert_density('TIP3P')"
   ]
  },
  {
   "cell_type": "code",
   "execution_count": 7,
   "metadata": {
    "collapsed": true
   },
   "outputs": [],
   "source": [
    "#dens_water.make_density()"
   ]
  },
  {
   "cell_type": "code",
   "execution_count": 34,
   "metadata": {
    "collapsed": false
   },
   "outputs": [
    {
     "data": {
      "text/plain": [
       "<Density density with (23, 23, 23) bins>"
      ]
     },
     "execution_count": 34,
     "metadata": {},
     "output_type": "execute_result"
    }
   ],
   "source": [
    "d_w."
   ]
  },
  {
   "cell_type": "code",
   "execution_count": 8,
   "metadata": {
    "collapsed": false
   },
   "outputs": [
    {
     "data": {
      "text/plain": [
       "MDAnalysis.analysis.density.Density"
      ]
     },
     "execution_count": 8,
     "metadata": {},
     "output_type": "execute_result"
    }
   ],
   "source": [
    "type(dens_water)"
   ]
  },
  {
   "cell_type": "code",
   "execution_count": 18,
   "metadata": {
    "collapsed": true
   },
   "outputs": [],
   "source": [
    "fdw = dens_water.interpolated(23,23,23)"
   ]
  },
  {
   "cell_type": "code",
   "execution_count": 33,
   "metadata": {
    "collapsed": false
   },
   "outputs": [
    {
     "data": {
      "text/plain": [
       "array([-1.70999932, -1.72499943, -1.60499907], dtype=float32)"
      ]
     },
     "execution_count": 33,
     "metadata": {},
     "output_type": "execute_result"
    }
   ],
   "source": [
    "dens_water.origin"
   ]
  },
  {
   "cell_type": "code",
   "execution_count": null,
   "metadata": {
    "collapsed": true
   },
   "outputs": [],
   "source": []
  }
 ],
 "metadata": {
  "anaconda-cloud": {},
  "kernelspec": {
   "display_name": "Python 2",
   "language": "python",
   "name": "python2"
  },
  "language_info": {
   "codemirror_mode": {
    "name": "ipython",
    "version": 2
   },
   "file_extension": ".py",
   "mimetype": "text/x-python",
   "name": "python",
   "nbconvert_exporter": "python",
   "pygments_lexer": "ipython2",
   "version": "2.7.13"
  }
 },
 "nbformat": 4,
 "nbformat_minor": 1
}
