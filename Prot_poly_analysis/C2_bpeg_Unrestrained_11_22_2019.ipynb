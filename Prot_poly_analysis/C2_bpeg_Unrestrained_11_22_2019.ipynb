{
 "cells": [
  {
   "cell_type": "code",
   "execution_count": 1,
   "metadata": {},
   "outputs": [],
   "source": [
    "#import the necessary modules \n",
    "%matplotlib inline \n",
    "import numpy as np \n",
    "import matplotlib.pyplot as plt \n",
    "import pandas as pd \n",
    "#import scipy\n",
    "import sklearn\n",
    "import itertools as it\n",
    "from itertools import cycle \n",
    "import os.path as op\n",
    "import timeit \n",
    "import json\n",
    "from matplotlib import animation\n",
    "import matplotlib.font_manager as font_manager\n",
    "from collections import namedtuple\n",
    "#from functools import partial\n",
    "#from pathlib import Path"
   ]
  },
  {
   "cell_type": "code",
   "execution_count": 2,
   "metadata": {},
   "outputs": [],
   "source": [
    "# Set plotting style\n",
    "plt.style.use('seaborn-white')\n",
    "\n",
    "from ipywidgets import interact, interactive, fixed, interact_manual\n",
    "import ipywidgets as widgets\n",
    "#import matplotlib.pyplot as plt"
   ]
  },
  {
   "cell_type": "code",
   "execution_count": 3,
   "metadata": {},
   "outputs": [],
   "source": [
    "%matplotlib widget"
   ]
  },
  {
   "cell_type": "code",
   "execution_count": 4,
   "metadata": {},
   "outputs": [
    {
     "data": {
      "text/plain": [
       "4"
      ]
     },
     "execution_count": 4,
     "metadata": {},
     "output_type": "execute_result"
    }
   ],
   "source": [
    "import multiprocessing as m_proc\n",
    "m_proc.cpu_count()"
   ]
  },
  {
   "cell_type": "markdown",
   "metadata": {},
   "source": [
    "### Now use MD Analysis to calculate no. of frames a center PEG residues and terminal PEG residue is with 4 Angstroms of BSA (0.9 nm restrained system)"
   ]
  },
  {
   "cell_type": "markdown",
   "metadata": {},
   "source": [
    "Import MDAnalysis"
   ]
  },
  {
   "cell_type": "code",
   "execution_count": 5,
   "metadata": {},
   "outputs": [],
   "source": [
    "from prot_polymer_analysis import get_protresd_list, aa_frmcount, grptwocnt_aa, gtwo_trjcnt \n",
    "from prot_polymer_analysis import frac_cont, bavg_frac_cnt, prot_poly_cntmovie, AA_list_org"
   ]
  },
  {
   "cell_type": "code",
   "execution_count": 6,
   "metadata": {},
   "outputs": [],
   "source": [
    "# Import MDAnalysis\n",
    "import MDAnalysis as mda\n",
    "import MDAnalysis.analysis.distances as maa_dist"
   ]
  },
  {
   "cell_type": "markdown",
   "metadata": {},
   "source": [
    "### First table will be total fractional contacts and oligomer occupancy values for each Rg value "
   ]
  },
  {
   "cell_type": "markdown",
   "metadata": {},
   "source": [
    "#### Distance-based analysis \n",
    "\n",
    "Find residues that have at least one atom within a cutoff $d = 4.0$ Angstrom near water molecules in BSA/water simulation\n",
    "\n",
    "Calculate the number of surface bsa residues from a 1 ns BSA/water simulation"
   ]
  },
  {
   "cell_type": "code",
   "execution_count": 7,
   "metadata": {},
   "outputs": [],
   "source": [
    "#Units of Angstroms \n",
    "dmax = 4.0 "
   ]
  },
  {
   "cell_type": "code",
   "execution_count": 8,
   "metadata": {},
   "outputs": [],
   "source": [
    "def middle_of_band(band_start, band_stop, plot_min=0, plot_max=60):\n",
    "    half_way = (band_stop - band_start) / 2\n",
    "    mid_band = band_start + half_way\n",
    "    plot_fraction = (mid_band - plot_min) / (plot_max - plot_min)\n",
    "\n",
    "    return plot_fraction"
   ]
  },
  {
   "cell_type": "markdown",
   "metadata": {},
   "source": [
    "# 0.9 nm PEG unrestrained Rg 100 ns trajectory C2"
   ]
  },
  {
   "cell_type": "markdown",
   "metadata": {},
   "source": [
    "Load the rg = 1.2 nm (3 PEG N = 20 oligomer/BSA system) "
   ]
  },
  {
   "cell_type": "code",
   "execution_count": 10,
   "metadata": {},
   "outputs": [],
   "source": [
    "# Set up the MD Simulation, Make sure you do gmx trjconv -s topol.tpr -f confout.gro  -o new_conf.pdb \n",
    "# -dump 0 -n bsaplga_nk.ndx to generate \n",
    "# a new pdb file that contains unique chain identifiers \n",
    "uC2_n20PEG_NR = mda.Universe(\"bsapeg_n20waterT2/C2_pegNoRes/0.9nmpeg_prodC2/bpeg_0.9nmNR.pdb\"\n",
    "                             , \"bsapeg_n20waterT2/C2_pegNoRes/0.9nmpeg_prodC2/C2NR_0.9nmbpeg.xtc\")"
   ]
  },
  {
   "cell_type": "code",
   "execution_count": 11,
   "metadata": {},
   "outputs": [
    {
     "data": {
      "text/plain": [
       "<Universe with 9665 atoms>"
      ]
     },
     "execution_count": 11,
     "metadata": {},
     "output_type": "execute_result"
    }
   ],
   "source": [
    "uC2_n20PEG_NR"
   ]
  },
  {
   "cell_type": "markdown",
   "metadata": {},
   "source": [
    "Check that we are on the first frame"
   ]
  },
  {
   "cell_type": "code",
   "execution_count": 12,
   "metadata": {},
   "outputs": [
    {
     "data": {
      "text/plain": [
       "0"
      ]
     },
     "execution_count": 12,
     "metadata": {},
     "output_type": "execute_result"
    }
   ],
   "source": [
    "uC2_n20PEG_NR.trajectory.frame"
   ]
  },
  {
   "cell_type": "code",
   "execution_count": 13,
   "metadata": {},
   "outputs": [
    {
     "data": {
      "text/plain": [
       "10001"
      ]
     },
     "execution_count": 13,
     "metadata": {},
     "output_type": "execute_result"
    }
   ],
   "source": [
    "pn20C2_lenNR = len(uC2_n20PEG_NR.trajectory)\n",
    "pn20C2_lenNR"
   ]
  },
  {
   "cell_type": "code",
   "execution_count": 14,
   "metadata": {},
   "outputs": [],
   "source": [
    "# Select one polymer chain, heavy atoms only \n",
    "#all_pn20 = u_pn20.select_atoms(\"(resname sPLG PLG tPLG and segid B) and not type H\")\n",
    "\n",
    "#Select all the PLGA residues, heavy atoms only\n",
    "allC2_n20PEG_NR = uC2_n20PEG_NR.select_atoms(\"resname sPEG PEG tPEG and not type H\")\n",
    "#list(all_n20PEG_NR)"
   ]
  },
  {
   "cell_type": "code",
   "execution_count": 15,
   "metadata": {},
   "outputs": [
    {
     "data": {
      "text/plain": [
       "<AtomGroup with 4653 atoms>"
      ]
     },
     "execution_count": 15,
     "metadata": {},
     "output_type": "execute_result"
    }
   ],
   "source": [
    "# Select BSA residues, heavy atoms only \n",
    "protC2_09nmNR = uC2_n20PEG_NR.select_atoms(\"protein and not type H\")\n",
    "protC2_09nmNR"
   ]
  },
  {
   "cell_type": "markdown",
   "metadata": {},
   "source": [
    "Calculate AA frame counts for PLGA residues, 1.2 nm RG restraint, 100ns trajectory "
   ]
  },
  {
   "cell_type": "code",
   "execution_count": 16,
   "metadata": {},
   "outputs": [
    {
     "data": {
      "text/plain": [
       "301.1240669442341"
      ]
     },
     "execution_count": 16,
     "metadata": {},
     "output_type": "execute_result"
    }
   ],
   "source": [
    "#dmax = 4.0, protein group(4653 atoms), plga atom group (543 atoms), took 381.6 s (6 min 36s on 4 cores)\n",
    "start = 0\n",
    "end = pn20C2_lenNR - 1\n",
    "s_time = timeit.default_timer()\n",
    "h2diC2_09nmNR = aa_frmcount(protC2_09nmNR, allC2_n20PEG_NR, dmax, uC2_n20PEG_NR, start, end)\n",
    "timeit.default_timer() - s_time"
   ]
  },
  {
   "cell_type": "code",
   "execution_count": 17,
   "metadata": {},
   "outputs": [
    {
     "data": {
      "text/plain": [
       "212"
      ]
     },
     "execution_count": 17,
     "metadata": {},
     "output_type": "execute_result"
    }
   ],
   "source": [
    "len(h2diC2_09nmNR.keys())"
   ]
  },
  {
   "cell_type": "code",
   "execution_count": 19,
   "metadata": {},
   "outputs": [
    {
     "data": {
      "text/html": [
       "<div>\n",
       "<style scoped>\n",
       "    .dataframe tbody tr th:only-of-type {\n",
       "        vertical-align: middle;\n",
       "    }\n",
       "\n",
       "    .dataframe tbody tr th {\n",
       "        vertical-align: top;\n",
       "    }\n",
       "\n",
       "    .dataframe thead th {\n",
       "        text-align: right;\n",
       "    }\n",
       "</style>\n",
       "<table border=\"1\" class=\"dataframe\">\n",
       "  <thead>\n",
       "    <tr style=\"text-align: right;\">\n",
       "      <th></th>\n",
       "      <th>BSA_des_res</th>\n",
       "      <th>mda_occ_0.9nmNRC2</th>\n",
       "    </tr>\n",
       "  </thead>\n",
       "  <tbody>\n",
       "    <tr>\n",
       "      <th>0</th>\n",
       "      <td>&lt;Residue ASP, 1&gt;</td>\n",
       "      <td>0.01</td>\n",
       "    </tr>\n",
       "    <tr>\n",
       "      <th>1</th>\n",
       "      <td>&lt;Residue THR, 2&gt;</td>\n",
       "      <td>0.06</td>\n",
       "    </tr>\n",
       "    <tr>\n",
       "      <th>2</th>\n",
       "      <td>&lt;Residue HIS, 3&gt;</td>\n",
       "      <td>0.04</td>\n",
       "    </tr>\n",
       "    <tr>\n",
       "      <th>3</th>\n",
       "      <td>&lt;Residue LYS, 4&gt;</td>\n",
       "      <td>0.01</td>\n",
       "    </tr>\n",
       "    <tr>\n",
       "      <th>4</th>\n",
       "      <td>&lt;Residue SER, 5&gt;</td>\n",
       "      <td>0.00</td>\n",
       "    </tr>\n",
       "    <tr>\n",
       "      <th>...</th>\n",
       "      <td>...</td>\n",
       "      <td>...</td>\n",
       "    </tr>\n",
       "    <tr>\n",
       "      <th>578</th>\n",
       "      <td>&lt;Residue GLN, 579&gt;</td>\n",
       "      <td>0.03</td>\n",
       "    </tr>\n",
       "    <tr>\n",
       "      <th>579</th>\n",
       "      <td>&lt;Residue THR, 580&gt;</td>\n",
       "      <td>0.30</td>\n",
       "    </tr>\n",
       "    <tr>\n",
       "      <th>580</th>\n",
       "      <td>&lt;Residue ALA, 581&gt;</td>\n",
       "      <td>0.08</td>\n",
       "    </tr>\n",
       "    <tr>\n",
       "      <th>581</th>\n",
       "      <td>&lt;Residue LEU, 582&gt;</td>\n",
       "      <td>0.00</td>\n",
       "    </tr>\n",
       "    <tr>\n",
       "      <th>582</th>\n",
       "      <td>&lt;Residue ALA, 583&gt;</td>\n",
       "      <td>0.00</td>\n",
       "    </tr>\n",
       "  </tbody>\n",
       "</table>\n",
       "<p>583 rows × 2 columns</p>\n",
       "</div>"
      ],
      "text/plain": [
       "            BSA_des_res  mda_occ_0.9nmNRC2\n",
       "0      <Residue ASP, 1>               0.01\n",
       "1      <Residue THR, 2>               0.06\n",
       "2      <Residue HIS, 3>               0.04\n",
       "3      <Residue LYS, 4>               0.01\n",
       "4      <Residue SER, 5>               0.00\n",
       "..                  ...                ...\n",
       "578  <Residue GLN, 579>               0.03\n",
       "579  <Residue THR, 580>               0.30\n",
       "580  <Residue ALA, 581>               0.08\n",
       "581  <Residue LEU, 582>               0.00\n",
       "582  <Residue ALA, 583>               0.00\n",
       "\n",
       "[583 rows x 2 columns]"
      ]
     },
     "execution_count": 19,
     "metadata": {},
     "output_type": "execute_result"
    }
   ],
   "source": [
    "pr_res_PEG = list(protC2_09nmNR.residues)\n",
    "ss_res_PEG = [str(row) for row in pr_res_PEG]\n",
    "rkgC2_NR = {key:h2diC2_09nmNR[key][1] for key, value in h2diC2_09nmNR.items()}\n",
    "plgC2_09nmNR_occ = pd.DataFrame(data=ss_res_PEG, columns=[\"BSA_des_res\"])\n",
    "plgC2_09nmNR_occ['mda_occ_0.9nmNRC2'] = plgC2_09nmNR_occ['BSA_des_res'].map(rkgC2_NR)\n",
    "plgC2_09nmNR_occ['mda_occ_0.9nmNRC2'] = plgC2_09nmNR_occ['mda_occ_0.9nmNRC2'].replace('nan', np.nan).fillna(0)\n",
    "plgC2_09nmNR_occ['mda_occ_0.9nmNRC2'] = plgC2_09nmNR_occ['mda_occ_0.9nmNRC2'].round(2)\n",
    "plgC2_09nmNR_occ"
   ]
  },
  {
   "cell_type": "code",
   "execution_count": 20,
   "metadata": {},
   "outputs": [
    {
     "data": {
      "text/plain": [
       "0      0.01\n",
       "1      0.06\n",
       "2      0.04\n",
       "3      0.01\n",
       "5      0.01\n",
       "       ... \n",
       "575    0.77\n",
       "576    0.64\n",
       "578    0.03\n",
       "579    0.30\n",
       "580    0.08\n",
       "Name: mda_occ_0.9nmNRC2, Length: 149, dtype: float64"
      ]
     },
     "execution_count": 20,
     "metadata": {},
     "output_type": "execute_result"
    }
   ],
   "source": [
    "plgC2_09nmNR_occ['mda_occ_0.9nmNRC2'][plgC2_09nmNR_occ['mda_occ_0.9nmNRC2'] != 0]"
   ]
  },
  {
   "cell_type": "code",
   "execution_count": 22,
   "metadata": {},
   "outputs": [],
   "source": [
    "bsaC2_NR = np.array(list(protC2_09nmNR.resids)) # shape is 4652\n",
    "mC2_occ_09NR = np.array(list(plgC2_09nmNR_occ['mda_occ_0.9nmNRC2'])) # shape is 583\n",
    "mC2_occ = np.zeros(shape=(4653))\n",
    "at_ind = np.where(bsaC2_NR[:-1] != bsaC2_NR[1:])[0]\n",
    "at_in_nw = np.sort(np.append([0,4653],at_ind))\n",
    "nw_v = 0\n",
    "for i in range(583):\n",
    "    b = at_in_nw[i+1] +1\n",
    "    mC2_occ[nw_v:b] = mC2_occ_09NR[i]\n",
    "    nw_v = at_in_nw[i+1] + 1 "
   ]
  },
  {
   "cell_type": "code",
   "execution_count": 23,
   "metadata": {},
   "outputs": [
    {
     "data": {
      "text/plain": [
       "(array([   0,    1,    2, ..., 4636, 4637, 4638]),)"
      ]
     },
     "execution_count": 23,
     "metadata": {},
     "output_type": "execute_result"
    }
   ],
   "source": [
    "np.nonzero(mC2_occ)"
   ]
  },
  {
   "cell_type": "markdown",
   "metadata": {},
   "source": [
    "### Visualize Occupanct on protein "
   ]
  },
  {
   "cell_type": "code",
   "execution_count": 24,
   "metadata": {},
   "outputs": [
    {
     "data": {
      "text/plain": [
       "array([0.01, 0.01, 0.01, ..., 0.  , 0.  , 0.  ])"
      ]
     },
     "execution_count": 24,
     "metadata": {},
     "output_type": "execute_result"
    }
   ],
   "source": [
    "protC2_09nmNR.occupancies = mC2_occ\n",
    "protC2_09nmNR.occupancies"
   ]
  },
  {
   "cell_type": "code",
   "execution_count": 25,
   "metadata": {},
   "outputs": [],
   "source": [
    "with mda.Writer(\"prot09nm_NoResC2.pdb\") as pdb:\n",
    "    pdb.write(protC2_09nmNR)"
   ]
  },
  {
   "cell_type": "code",
   "execution_count": 26,
   "metadata": {},
   "outputs": [],
   "source": [
    "# Frame count and occupancy for each residue\n",
    "#h2di"
   ]
  },
  {
   "cell_type": "markdown",
   "metadata": {},
   "source": [
    "### Residue Importance: 0.9 nm unrestrained C2"
   ]
  },
  {
   "cell_type": "code",
   "execution_count": 27,
   "metadata": {},
   "outputs": [],
   "source": [
    "# Need to fix function, the residue number are not counting the other 2 PLGA oligomers cuz of same resid number\n",
    "trjmapC2_09nmPEGNR = prot_poly_cntmovie(protC2_09nmNR, allC2_n20PEG_NR, dmax, uC2_n20PEG_NR, 0, 10000)\n",
    "#trj_ppmap_12nm_chC = prot_poly_cntmovie(prot, all_pn20_C, dmax, u_pn20, 0, 10000)"
   ]
  },
  {
   "cell_type": "code",
   "execution_count": 28,
   "metadata": {},
   "outputs": [],
   "source": [
    "np.save('0.9nmPEG_NoResC2.npy', trjmapC2_09nmPEGNR)    # .npy extension is added if not given"
   ]
  },
  {
   "cell_type": "code",
   "execution_count": null,
   "metadata": {},
   "outputs": [],
   "source": [
    "trjmapC2_09nmPEGNR = np.load('0.9nmPEG_NoRes.npy', allow_pickle=True)"
   ]
  },
  {
   "cell_type": "code",
   "execution_count": 29,
   "metadata": {},
   "outputs": [
    {
     "data": {
      "text/plain": [
       "(583, 60)"
      ]
     },
     "execution_count": 29,
     "metadata": {},
     "output_type": "execute_result"
    }
   ],
   "source": [
    "trjmapC2_09nmPEGNR[0].shape"
   ]
  },
  {
   "cell_type": "code",
   "execution_count": 30,
   "metadata": {},
   "outputs": [
    {
     "data": {
      "text/plain": [
       "0.0"
      ]
     },
     "execution_count": 30,
     "metadata": {},
     "output_type": "execute_result"
    }
   ],
   "source": [
    "np.sum(trjmapC2_09nmPEGNR[1000][0])"
   ]
  },
  {
   "cell_type": "code",
   "execution_count": 31,
   "metadata": {},
   "outputs": [
    {
     "data": {
      "text/plain": [
       "(10000,)"
      ]
     },
     "execution_count": 31,
     "metadata": {},
     "output_type": "execute_result"
    }
   ],
   "source": [
    "kj = np.zeros(shape=(10000, 583))\n",
    "kj[:,582].shape"
   ]
  },
  {
   "cell_type": "code",
   "execution_count": 32,
   "metadata": {},
   "outputs": [],
   "source": [
    "ppC2_09nmNR_ct = np.zeros(shape=(10000, 583))\n",
    "for i in range(10000):\n",
    "    for j in range(583):\n",
    "        ppC2_09nmNR_ct[i][j] = np.sum(trjmapC2_09nmPEGNR[i][j])"
   ]
  },
  {
   "cell_type": "code",
   "execution_count": 33,
   "metadata": {},
   "outputs": [],
   "source": [
    "ppC2_09nmtotNR = np.zeros(shape=(583))\n",
    "for i in range(583):\n",
    "    ppC2_09nmtotNR[i] = np.sum(ppC2_09nmNR_ct[:,i])\n",
    "#pp_12nmtot"
   ]
  },
  {
   "cell_type": "code",
   "execution_count": 34,
   "metadata": {},
   "outputs": [
    {
     "data": {
      "text/plain": [
       "531641.0"
      ]
     },
     "execution_count": 34,
     "metadata": {},
     "output_type": "execute_result"
    }
   ],
   "source": [
    "np.sum(ppC2_09nmtotNR)"
   ]
  },
  {
   "cell_type": "code",
   "execution_count": 39,
   "metadata": {},
   "outputs": [
    {
     "data": {
      "application/vnd.jupyter.widget-view+json": {
       "model_id": "",
       "version_major": 2,
       "version_minor": 0
      },
      "text/plain": [
       "Canvas(toolbar=Toolbar(toolitems=[('Home', 'Reset original view', 'home', 'home'), ('Back', 'Back to previous …"
      ]
     },
     "metadata": {},
     "output_type": "display_data"
    },
    {
     "data": {
      "text/plain": [
       "Text(0.5, 0, 'BSA Residue ID')"
      ]
     },
     "execution_count": 39,
     "metadata": {},
     "output_type": "execute_result"
    }
   ],
   "source": [
    "y_pos = np.arange(583) + 1\n",
    "wid = np.zeros(shape=583)\n",
    "wid += 1.5\n",
    "#wid\n",
    "fig = plt.figure(figsize=(12,12))\n",
    "fig.canvas.layout.width = '800px'\n",
    "fig.canvas.layout.height = '700px'\n",
    "plt.bar(y_pos, ppC2_09nmtotNR/np.sum(ppC2_09nmtotNR), align='center', color='#1D77CF',width=wid, alpha=0.4, label='0.9 nm PEG')\n",
    "plt.title(\"BSA in water with PEG Unrestrained, 100 ns\", fontsize=18)\n",
    "plt.xticks(fontsize=14)\n",
    "plt.yticks(fontsize=14)\n",
    "plt.xlim([0,600])\n",
    "plt.ylim([0,0.2])\n",
    "plt.legend(fontsize=14)\n",
    "plt.ylabel(r'Normalized Total No. of PEG contacts C2', fontsize=15)\n",
    "plt.xlabel(r'BSA Residue ID', fontsize=15)"
   ]
  },
  {
   "cell_type": "markdown",
   "metadata": {},
   "source": [
    "### Total number of residues that are within 4 angstroms of a PEG oligomer residue within a 100 ns trajectory block C2"
   ]
  },
  {
   "cell_type": "code",
   "execution_count": 36,
   "metadata": {},
   "outputs": [],
   "source": [
    "a_a = [\"GLY\",\"ALA\",\"VAL\",\"LEU\",\"ILE\",\"MET\",\"PHE\",\"TRP\",\"PRO\",\"SER\",\"THR\",\"CYS\",\"TYR\",\"ASN\",\"GLN\",\"ASP\"\n",
    "               ,\"GLU\",\"LYS\",\"ARG\",\"HIS\"]"
   ]
  },
  {
   "cell_type": "code",
   "execution_count": 37,
   "metadata": {},
   "outputs": [],
   "source": [
    "# This code chunk gets the BSA residues and their corresponding number in a pandas dataframe \n",
    "red_bsa = []\n",
    "bh = np.arange(0,584)\n",
    "for i in range(583):\n",
    "    b_str = str(list(protC2_09nmNR.residues[i:i+1]))\n",
    "    if str(bh[i+1]) in b_str: \n",
    "        red_bsa.append(str(b_str[10:13])+\" \"+str(bh[i+1]))"
   ]
  },
  {
   "cell_type": "code",
   "execution_count": 40,
   "metadata": {},
   "outputs": [
    {
     "data": {
      "text/html": [
       "<div>\n",
       "<style scoped>\n",
       "    .dataframe tbody tr th:only-of-type {\n",
       "        vertical-align: middle;\n",
       "    }\n",
       "\n",
       "    .dataframe tbody tr th {\n",
       "        vertical-align: top;\n",
       "    }\n",
       "\n",
       "    .dataframe thead th {\n",
       "        text-align: right;\n",
       "    }\n",
       "</style>\n",
       "<table border=\"1\" class=\"dataframe\">\n",
       "  <thead>\n",
       "    <tr style=\"text-align: right;\">\n",
       "      <th></th>\n",
       "      <th>BSA_des_res</th>\n",
       "      <th>mda_plga_frm_0.9nmNRC2</th>\n",
       "    </tr>\n",
       "  </thead>\n",
       "  <tbody>\n",
       "    <tr>\n",
       "      <th>578</th>\n",
       "      <td>GLN 579</td>\n",
       "      <td>263.0</td>\n",
       "    </tr>\n",
       "    <tr>\n",
       "      <th>579</th>\n",
       "      <td>THR 580</td>\n",
       "      <td>2969.0</td>\n",
       "    </tr>\n",
       "    <tr>\n",
       "      <th>580</th>\n",
       "      <td>ALA 581</td>\n",
       "      <td>822.0</td>\n",
       "    </tr>\n",
       "    <tr>\n",
       "      <th>581</th>\n",
       "      <td>LEU 582</td>\n",
       "      <td>17.0</td>\n",
       "    </tr>\n",
       "    <tr>\n",
       "      <th>582</th>\n",
       "      <td>ALA 583</td>\n",
       "      <td>24.0</td>\n",
       "    </tr>\n",
       "  </tbody>\n",
       "</table>\n",
       "</div>"
      ],
      "text/plain": [
       "    BSA_des_res  mda_plga_frm_0.9nmNRC2\n",
       "578     GLN 579                   263.0\n",
       "579     THR 580                  2969.0\n",
       "580     ALA 581                   822.0\n",
       "581     LEU 582                    17.0\n",
       "582     ALA 583                    24.0"
      ]
     },
     "execution_count": 40,
     "metadata": {},
     "output_type": "execute_result"
    }
   ],
   "source": [
    "prC2_res = list(protC2_09nmNR.residues)\n",
    "ssC2_res = [str(row) for row in prC2_res]\n",
    "rkg = {key:h2diC2_09nmNR[key][0] for key, value in h2diC2_09nmNR.items()}\n",
    "plgC2_09nmaaNR = pd.DataFrame(data=ssC2_res, columns=[\"BSA_des_res\"])\n",
    "plgC2_09nmaaNR['mda_plga_frm_0.9nmNRC2'] = plgC2_09nmaaNR['BSA_des_res'].map(rkg)\n",
    "plgC2_09nmaaNR['BSA_des_res'] = red_bsa\n",
    "plgC2_09nmaaNR['mda_plga_frm_0.9nmNRC2'] = plgC2_09nmaaNR['mda_plga_frm_0.9nmNRC2'].replace('nan', np.nan).fillna(0)\n",
    "plgC2_09nmaaNR.tail()"
   ]
  },
  {
   "cell_type": "code",
   "execution_count": 42,
   "metadata": {},
   "outputs": [],
   "source": [
    "# Read in data from the oputput of wrapper.sh, where the frame count is given for each BSA residue that was within \n",
    "# 4 angstroms of PLGA trimer \n",
    "wat_data = pd.read_csv('occ_BSA1ns.txt', sep=\" \", header=None, usecols=None ,index_col=None)\n",
    "wat_data.columns = [\"BSA_res_no\",\"No. of frames (VMD)\"]\n",
    "wat_data = wat_data.drop(\"BSA_res_no\", axis=1)\n",
    "\n",
    "#pr_res = list(prot_09nm.residues)\n",
    "#ss_res = [str(row) for row in pr_res]\n",
    "\n",
    "wat_data['BSA_des_res'] = ssC2_res\n",
    "wat_data = wat_data[['BSA_des_res',\"No. of frames (VMD)\"]]\n",
    "#wat_data.head()\n",
    "\n",
    "# load MDAnalysis values from MDA_BSA1ns.txt file(129003 atoms SOL group was used to calc. frame counts for txt.\n",
    "# file)\n",
    "h2ob_dict = json.load(open(\"MDA_BSA1ns.txt\"))\n",
    "wat_data['Mda_frames'] = wat_data['BSA_des_res'].map(h2ob_dict)\n",
    "\n",
    "\n",
    "# From MD Analysis\n",
    "#Get the count of bsa residues that have 1001 or 1002 frames ( I ran a 1 ns NPT simulation of 1 BSA in water )\n",
    "\n",
    "#aa_count = pd.DataFrame(data=a_a)\n",
    "c_list = []\n",
    "\n",
    "for i in range(len(a_a)):\n",
    "    count = 0\n",
    "    for index, row in wat_data.iterrows():\n",
    "        if a_a[i] in row[\"BSA_des_res\"]:\n",
    "            if row['Mda_frames'] == 1001: \n",
    "                count += 1\n",
    "                #c_list.append(str(str(a_a[i])+\"  \"+str(row['No. of frames']))) \n",
    "            elif row['Mda_frames'] == 1000:\n",
    "                count += 1\n",
    "                #c_list.append(str(str(a_a[i])+\"  \"+str(row['No. of frames'])))\n",
    "    c_list.append(str(str(a_a[i])+\"  \"+str(count)))\n",
    "    \n",
    "#c_list\n",
    "\n",
    "# From VMD\n",
    "#Get the count of bsa residues that have 1001 or 1002 frames ( I ran a 1 ns NPT simulation of 1 BSA in water )\n",
    "\n",
    "#aa_count = pd.DataFrame(data=a_a)\n",
    "vmd_list = []\n",
    "\n",
    "for i in range(len(a_a)):\n",
    "    count = 0\n",
    "    for index, row in wat_data.iterrows():\n",
    "        if a_a[i] in row[\"BSA_des_res\"]:\n",
    "            if row[\"No. of frames (VMD)\"] == 1001: \n",
    "                count += 1\n",
    "                #c_list.append(str(str(a_a[i])+\"  \"+str(row['No. of frames']))) \n",
    "            elif row[\"No. of frames (VMD)\"] == 1002:\n",
    "                count += 1\n",
    "                #c_list.append(str(str(a_a[i])+\"  \"+str(row['No. of frames'])))\n",
    "    vmd_list.append(str(str(a_a[i])+\"  \"+str(count)))\n",
    "\n",
    "# Main difference is that Alanine 583 is counted for all 1001 frames. It seems VMD is unable to calc dist for that res\n",
    "#vmd_list\n",
    "\n",
    "#hydrophobic_res = ['ALA', 'ILE', 'LEU', 'VAL', 'GLY', 'PRO','PHE', 'TRP','MET']\n",
    "#polar_res = ['ASN', 'CYS', 'GLN', 'SER', 'THR','TYR']\n",
    "#neg_res = ['ASP', 'GLU']\n",
    "#pos_res = ['ARG', 'HIS', 'LYS']\n",
    "# aromatic_res = ['PHE', 'TRP', 'TYR', 'HIS']\n",
    "#all_res = [pos_res, neg_res, polar_res, hydrophobic_res]\n",
    "\n",
    "# Put the AA count in a pandas dataframe \n",
    "dg , ji = AA_list_org(c_list)\n",
    "aa_count = pd.DataFrame(data=dg, index=None, columns=['Amino_acids'])\n",
    "new_lf = pd.Series(data=ji, index=None)\n",
    "vmg, vmdj = AA_list_org(vmd_list)\n",
    "n2lf = pd.Series(data=vmdj, index=None)\n",
    "aa_count['No_of_surf_res (MDAnalysis)'] = new_lf\n",
    "aa_count['No_of_surf_res (VMD)'] = n2lf"
   ]
  },
  {
   "cell_type": "code",
   "execution_count": 43,
   "metadata": {},
   "outputs": [
    {
     "data": {
      "text/html": [
       "<div>\n",
       "<style scoped>\n",
       "    .dataframe tbody tr th:only-of-type {\n",
       "        vertical-align: middle;\n",
       "    }\n",
       "\n",
       "    .dataframe tbody tr th {\n",
       "        vertical-align: top;\n",
       "    }\n",
       "\n",
       "    .dataframe thead th {\n",
       "        text-align: right;\n",
       "    }\n",
       "</style>\n",
       "<table border=\"1\" class=\"dataframe\">\n",
       "  <thead>\n",
       "    <tr style=\"text-align: right;\">\n",
       "      <th></th>\n",
       "      <th>Amino_acids</th>\n",
       "      <th>No_of_surf_res (MDAnalysis)</th>\n",
       "      <th>No_of_surf_res (VMD)</th>\n",
       "      <th>pegC2_0.9nmNR_100ns</th>\n",
       "    </tr>\n",
       "  </thead>\n",
       "  <tbody>\n",
       "    <tr>\n",
       "      <th>0</th>\n",
       "      <td>LYS</td>\n",
       "      <td>59</td>\n",
       "      <td>59</td>\n",
       "      <td>23</td>\n",
       "    </tr>\n",
       "    <tr>\n",
       "      <th>1</th>\n",
       "      <td>ARG</td>\n",
       "      <td>23</td>\n",
       "      <td>23</td>\n",
       "      <td>12</td>\n",
       "    </tr>\n",
       "    <tr>\n",
       "      <th>2</th>\n",
       "      <td>HIS</td>\n",
       "      <td>16</td>\n",
       "      <td>16</td>\n",
       "      <td>7</td>\n",
       "    </tr>\n",
       "    <tr>\n",
       "      <th>3</th>\n",
       "      <td>ASP</td>\n",
       "      <td>40</td>\n",
       "      <td>40</td>\n",
       "      <td>18</td>\n",
       "    </tr>\n",
       "    <tr>\n",
       "      <th>4</th>\n",
       "      <td>GLU</td>\n",
       "      <td>59</td>\n",
       "      <td>59</td>\n",
       "      <td>28</td>\n",
       "    </tr>\n",
       "    <tr>\n",
       "      <th>5</th>\n",
       "      <td>SER</td>\n",
       "      <td>23</td>\n",
       "      <td>23</td>\n",
       "      <td>10</td>\n",
       "    </tr>\n",
       "    <tr>\n",
       "      <th>6</th>\n",
       "      <td>THR</td>\n",
       "      <td>29</td>\n",
       "      <td>29</td>\n",
       "      <td>17</td>\n",
       "    </tr>\n",
       "    <tr>\n",
       "      <th>7</th>\n",
       "      <td>CYS</td>\n",
       "      <td>24</td>\n",
       "      <td>24</td>\n",
       "      <td>12</td>\n",
       "    </tr>\n",
       "    <tr>\n",
       "      <th>8</th>\n",
       "      <td>TYR</td>\n",
       "      <td>19</td>\n",
       "      <td>19</td>\n",
       "      <td>7</td>\n",
       "    </tr>\n",
       "    <tr>\n",
       "      <th>9</th>\n",
       "      <td>ASN</td>\n",
       "      <td>14</td>\n",
       "      <td>14</td>\n",
       "      <td>5</td>\n",
       "    </tr>\n",
       "    <tr>\n",
       "      <th>10</th>\n",
       "      <td>GLN</td>\n",
       "      <td>19</td>\n",
       "      <td>19</td>\n",
       "      <td>7</td>\n",
       "    </tr>\n",
       "    <tr>\n",
       "      <th>11</th>\n",
       "      <td>GLY</td>\n",
       "      <td>11</td>\n",
       "      <td>11</td>\n",
       "      <td>2</td>\n",
       "    </tr>\n",
       "    <tr>\n",
       "      <th>12</th>\n",
       "      <td>ALA</td>\n",
       "      <td>39</td>\n",
       "      <td>38</td>\n",
       "      <td>17</td>\n",
       "    </tr>\n",
       "    <tr>\n",
       "      <th>13</th>\n",
       "      <td>VAL</td>\n",
       "      <td>19</td>\n",
       "      <td>19</td>\n",
       "      <td>8</td>\n",
       "    </tr>\n",
       "    <tr>\n",
       "      <th>14</th>\n",
       "      <td>LEU</td>\n",
       "      <td>34</td>\n",
       "      <td>34</td>\n",
       "      <td>14</td>\n",
       "    </tr>\n",
       "    <tr>\n",
       "      <th>15</th>\n",
       "      <td>ILE</td>\n",
       "      <td>7</td>\n",
       "      <td>7</td>\n",
       "      <td>3</td>\n",
       "    </tr>\n",
       "    <tr>\n",
       "      <th>16</th>\n",
       "      <td>MET</td>\n",
       "      <td>3</td>\n",
       "      <td>3</td>\n",
       "      <td>1</td>\n",
       "    </tr>\n",
       "    <tr>\n",
       "      <th>17</th>\n",
       "      <td>PHE</td>\n",
       "      <td>20</td>\n",
       "      <td>20</td>\n",
       "      <td>9</td>\n",
       "    </tr>\n",
       "    <tr>\n",
       "      <th>18</th>\n",
       "      <td>TRP</td>\n",
       "      <td>2</td>\n",
       "      <td>2</td>\n",
       "      <td>0</td>\n",
       "    </tr>\n",
       "    <tr>\n",
       "      <th>19</th>\n",
       "      <td>PRO</td>\n",
       "      <td>27</td>\n",
       "      <td>27</td>\n",
       "      <td>12</td>\n",
       "    </tr>\n",
       "  </tbody>\n",
       "</table>\n",
       "</div>"
      ],
      "text/plain": [
       "   Amino_acids  No_of_surf_res (MDAnalysis)  No_of_surf_res (VMD)  \\\n",
       "0          LYS                           59                    59   \n",
       "1          ARG                           23                    23   \n",
       "2          HIS                           16                    16   \n",
       "3          ASP                           40                    40   \n",
       "4          GLU                           59                    59   \n",
       "5          SER                           23                    23   \n",
       "6          THR                           29                    29   \n",
       "7          CYS                           24                    24   \n",
       "8          TYR                           19                    19   \n",
       "9          ASN                           14                    14   \n",
       "10         GLN                           19                    19   \n",
       "11         GLY                           11                    11   \n",
       "12         ALA                           39                    38   \n",
       "13         VAL                           19                    19   \n",
       "14         LEU                           34                    34   \n",
       "15         ILE                            7                     7   \n",
       "16         MET                            3                     3   \n",
       "17         PHE                           20                    20   \n",
       "18         TRP                            2                     2   \n",
       "19         PRO                           27                    27   \n",
       "\n",
       "    pegC2_0.9nmNR_100ns  \n",
       "0                    23  \n",
       "1                    12  \n",
       "2                     7  \n",
       "3                    18  \n",
       "4                    28  \n",
       "5                    10  \n",
       "6                    17  \n",
       "7                    12  \n",
       "8                     7  \n",
       "9                     5  \n",
       "10                    7  \n",
       "11                    2  \n",
       "12                   17  \n",
       "13                    8  \n",
       "14                   14  \n",
       "15                    3  \n",
       "16                    1  \n",
       "17                    9  \n",
       "18                    0  \n",
       "19                   12  "
      ]
     },
     "execution_count": 43,
     "metadata": {},
     "output_type": "execute_result"
    }
   ],
   "source": [
    "aplC2_list = []\n",
    "\n",
    "# Some residues don't have any contact with the 3 N = 20 PLGA oligomers within 100 ns,\n",
    "# Put residues that do have contact with BSA in a separate list\n",
    "for index, r_pl in plgC2_09nmaaNR.iterrows():\n",
    "    if r_pl['mda_plga_frm_0.9nmNRC2'] != 0:\n",
    "        aplC2_list.append(r_pl['BSA_des_res'])\n",
    "        \n",
    "# This chunk of code gets an AA count from the above list, in order \n",
    "# to get a total number of residues that contact BSA\n",
    "cpl_lC2 = []\n",
    "\n",
    "for index, r_a in aa_count.iterrows():\n",
    "    count = 0\n",
    "    for i in range(len(aplC2_list)):\n",
    "        if r_a['Amino_acids'] in aplC2_list[i]:\n",
    "            count += 1\n",
    "    cpl_lC2.append(count)      \n",
    "        \n",
    "aa_count['pegC2_0.9nmNR_100ns'] = cpl_lC2\n",
    "aa_count"
   ]
  },
  {
   "cell_type": "code",
   "execution_count": 44,
   "metadata": {},
   "outputs": [
    {
     "data": {
      "text/plain": [
       "212"
      ]
     },
     "execution_count": 44,
     "metadata": {},
     "output_type": "execute_result"
    }
   ],
   "source": [
    "# This gives the total number of residues that are within 4 angstroms of a PLGA oligomer residue\n",
    "# within a 100 ns trajectory block\n",
    "aa_count['pegC2_0.9nmNR_100ns'].sum()"
   ]
  },
  {
   "cell_type": "code",
   "execution_count": 45,
   "metadata": {},
   "outputs": [
    {
     "data": {
      "text/plain": [
       "487"
      ]
     },
     "execution_count": 45,
     "metadata": {},
     "output_type": "execute_result"
    }
   ],
   "source": [
    "# This gives the total number of residues that are within 4 angstroms of a water molecule\n",
    "# within a 1 ns trajectory block\n",
    "aa_count['No_of_surf_res (MDAnalysis)'].sum()"
   ]
  },
  {
   "cell_type": "code",
   "execution_count": 46,
   "metadata": {},
   "outputs": [
    {
     "data": {
      "text/plain": [
       "0.4353182751540041"
      ]
     },
     "execution_count": 46,
     "metadata": {},
     "output_type": "execute_result"
    }
   ],
   "source": [
    "# This gives the total fraction of contacts within the 1.2 nm Rg 100 ns trajectory\n",
    "aa_count['pegC2_0.9nmNR_100ns'].sum()/aa_count['No_of_surf_res (MDAnalysis)'].sum()"
   ]
  },
  {
   "cell_type": "markdown",
   "metadata": {},
   "source": [
    "Calculate mean occupancy and the standard deviation for 1.2 nm trajectory\n",
    "\n",
    "Numpy mean and std function was used to calculate mean occupancy and std dev using occ values from aa_frmcount output"
   ]
  },
  {
   "cell_type": "code",
   "execution_count": 47,
   "metadata": {},
   "outputs": [
    {
     "name": "stdout",
     "output_type": "stream",
     "text": [
      "Mean Occpancy (0.9 nm Rg): 0.11570754716981133 Occ. std. dev.: 0.18748667736221486\n"
     ]
    }
   ],
   "source": [
    "# Mean occupancy and std deviation \n",
    "ll_moC2 = [value[1] for key, value in h2diC2_09nmNR.items()]\n",
    "print(\"Mean Occpancy (0.9 nm Rg): \"+str(np.mean(ll_moC2)), \"Occ. std. dev.: \"+str(np.std(ll_moC2)))"
   ]
  },
  {
   "cell_type": "markdown",
   "metadata": {},
   "source": [
    "### Calc. fractional contacts for each AA group type "
   ]
  },
  {
   "cell_type": "code",
   "execution_count": 48,
   "metadata": {},
   "outputs": [
    {
     "data": {
      "text/plain": [
       "{'Negative': [41591.0, 46, 191680.26086956522, 0.1554447596322544],\n",
       " 'Positive': [53760.0, 42, 271360.0, 0.22006173083472721],\n",
       " 'Polar': [81661.0, 58, 298485.0344827586, 0.24205901133748192],\n",
       " 'Hydrophobic': [68288.0, 66, 219349.33333333334, 0.17788323242473783],\n",
       " 'Aromatic': [27365.0, 23, 252233.91304347824, 0.20455126577079857]}"
      ]
     },
     "execution_count": 48,
     "metadata": {},
     "output_type": "execute_result"
    }
   ],
   "source": [
    "cd_12nm = frac_cont(h2diC2_09nmNR)\n",
    "cd_12nm"
   ]
  },
  {
   "cell_type": "code",
   "execution_count": null,
   "metadata": {},
   "outputs": [],
   "source": [
    "cd = frac_cont(h2diC2_09nmNR)\n",
    "kklh = []\n",
    "for key, value in cd.items():\n",
    "    kklh.append(value[1])\n",
    "# Must substract aromatic residues, since they are already counted\n",
    "sum(kklh) - cd['Aromatic'][1]"
   ]
  },
  {
   "cell_type": "code",
   "execution_count": 49,
   "metadata": {},
   "outputs": [
    {
     "data": {
      "text/plain": [
       "487"
      ]
     },
     "execution_count": 49,
     "metadata": {},
     "output_type": "execute_result"
    }
   ],
   "source": [
    "no_surf = aa_count['No_of_surf_res (MDAnalysis)'].sum()\n",
    "no_surf"
   ]
  },
  {
   "cell_type": "code",
   "execution_count": 50,
   "metadata": {},
   "outputs": [
    {
     "name": "stdout",
     "output_type": "stream",
     "text": [
      "0\n",
      "2000\n",
      "2000\n",
      "4000\n",
      "4000\n",
      "6000\n",
      "6000\n",
      "8000\n",
      "8000\n",
      "10000\n"
     ]
    }
   ],
   "source": [
    "fcntC2_rg09nmNR, prgrpC2_09nmNR, aaC2_matx09nmNR = bavg_frac_cnt(5, protC2_09nmNR, allC2_n20PEG_NR, dmax, \n",
    "                                                                 uC2_n20PEG_NR, no_surf, 0, 10000)"
   ]
  },
  {
   "cell_type": "code",
   "execution_count": 51,
   "metadata": {},
   "outputs": [
    {
     "data": {
      "text/plain": [
       "{'Negative': array([0.16165618, 0.14231441, 0.16875101, 0.17628799, 0.15260511]),\n",
       " 'Positive': array([0.20412171, 0.20534435, 0.20630048, 0.2607429 , 0.26617429]),\n",
       " 'Polar': array([0.24311267, 0.20303977, 0.20890858, 0.31197189, 0.28365405]),\n",
       " 'Hydrophobic': array([0.17878195, 0.19211655, 0.16962098, 0.14703514, 0.16500385]),\n",
       " 'Aromatic': array([0.21232749, 0.25718492, 0.24641894, 0.10396209, 0.1325627 ]),\n",
       " 'total_frac': array([0.27310062, 0.23819302, 0.2238193 , 0.1724846 , 0.22587269])}"
      ]
     },
     "execution_count": 51,
     "metadata": {},
     "output_type": "execute_result"
    }
   ],
   "source": [
    "fcntC2_rg09nmNR"
   ]
  },
  {
   "cell_type": "code",
   "execution_count": 52,
   "metadata": {},
   "outputs": [
    {
     "data": {
      "text/plain": [
       "array([0.16032294, 0.22853675, 0.25013739, 0.17051169, 0.19049123])"
      ]
     },
     "execution_count": 52,
     "metadata": {},
     "output_type": "execute_result"
    }
   ],
   "source": [
    "fc09nmC2_meanNR = np.array([np.mean(fcntC2_rg09nmNR['Negative']), np.mean(fcntC2_rg09nmNR['Positive'])\n",
    "                        ,np.mean(fcntC2_rg09nmNR['Polar']),np.mean(fcntC2_rg09nmNR['Hydrophobic'])\n",
    "                        , np.mean(fcntC2_rg09nmNR['Aromatic'])])\n",
    "fc09nmC2_meanNR"
   ]
  },
  {
   "cell_type": "code",
   "execution_count": 53,
   "metadata": {},
   "outputs": [
    {
     "data": {
      "text/plain": [
       "array([0.0119295 , 0.0285736 , 0.04222373, 0.01494955, 0.06147485])"
      ]
     },
     "execution_count": 53,
     "metadata": {},
     "output_type": "execute_result"
    }
   ],
   "source": [
    "fc09nmC2_stdNR = np.array([np.std(fcntC2_rg09nmNR['Negative']), np.std(fcntC2_rg09nmNR['Positive'])\n",
    "                       ,np.std(fcntC2_rg09nmNR['Polar']),np.std(fcntC2_rg09nmNR['Hydrophobic'])\n",
    "                       , np.std(fcntC2_rg09nmNR['Aromatic'])])\n",
    "fc09nmC2_stdNR"
   ]
  },
  {
   "cell_type": "code",
   "execution_count": 54,
   "metadata": {},
   "outputs": [
    {
     "data": {
      "application/vnd.jupyter.widget-view+json": {
       "model_id": "",
       "version_major": 2,
       "version_minor": 0
      },
      "text/plain": [
       "Canvas(toolbar=Toolbar(toolitems=[('Home', 'Reset original view', 'home', 'home'), ('Back', 'Back to previous …"
      ]
     },
     "metadata": {},
     "output_type": "display_data"
    },
    {
     "data": {
      "text/plain": [
       "Text(0, 0.5, 'Fractional Contacts')"
      ]
     },
     "execution_count": 54,
     "metadata": {},
     "output_type": "execute_result"
    }
   ],
   "source": [
    "x_pos = np.arange(5)\n",
    "aa_types = [\"Negative\", \"Positive\", \"Polar\", \"Hydrophobic\", \"Aromatic\"]\n",
    "fig = plt.figure(figsize=(7,7))\n",
    "fig.canvas.layout.width = '500px'\n",
    "fig.canvas.layout.height = '400px'\n",
    "plt.bar(x_pos, fc09nmC2_meanNR, yerr=fc09nmC2_stdNR, ecolor='black',capsize=5, color='c')\n",
    "plt.title(r'Fractional Contacts 0.9 nm Rg restrained Config 2', fontsize=15)\n",
    "plt.xticks(x_pos, labels=aa_types, fontsize=12)\n",
    "plt.ylabel(r'Fractional Contacts', fontsize=15)"
   ]
  },
  {
   "cell_type": "markdown",
   "metadata": {},
   "source": [
    "### Total fraction of contacts: averages and std dev calc from 5 20ns blocks"
   ]
  },
  {
   "cell_type": "code",
   "execution_count": 55,
   "metadata": {},
   "outputs": [
    {
     "data": {
      "text/plain": [
       "0.22669404517453798"
      ]
     },
     "execution_count": 55,
     "metadata": {},
     "output_type": "execute_result"
    }
   ],
   "source": [
    "# Average of total fraction of contacts\n",
    "np.mean(fcntC2_rg09nmNR['total_frac'])"
   ]
  },
  {
   "cell_type": "code",
   "execution_count": 57,
   "metadata": {},
   "outputs": [
    {
     "data": {
      "text/plain": [
       "0.03235243103282321"
      ]
     },
     "execution_count": 57,
     "metadata": {},
     "output_type": "execute_result"
    }
   ],
   "source": [
    "# Std Deviation of total fraction of contacts\n",
    "np.std(fcntC2_rg09nmNR['total_frac'])"
   ]
  },
  {
   "cell_type": "markdown",
   "metadata": {},
   "source": [
    "### Avg no. PEG residues per BSA AA residue group C2"
   ]
  },
  {
   "cell_type": "code",
   "execution_count": 58,
   "metadata": {},
   "outputs": [
    {
     "data": {
      "text/plain": [
       "{'Negative': array([array([7.77      , 3.88948583]), array([8.4375    , 3.38113794]),\n",
       "        array([8.5275    , 3.32358899]), array([8.8205    , 2.90056542]),\n",
       "        array([9.273     , 3.37897484])], dtype=object),\n",
       " 'Positive': array([array([24.5945   ,  6.6585336]), array([24.8805    ,  5.33406222]),\n",
       "        array([29.673     ,  7.27152467]),\n",
       "        array([33.262     ,  8.07064781]),\n",
       "        array([37.3675    ,  6.31454224])], dtype=object),\n",
       " 'Polar': array([array([18.488     ,  5.69700412]),\n",
       "        array([15.465     ,  5.84780087]), array([20.655    ,  5.8754553]),\n",
       "        array([22.9825    ,  5.11656073]),\n",
       "        array([21.9545    ,  4.82767333])], dtype=object),\n",
       " 'Hydrophobic': array([array([15.1135    ,  4.36596126]),\n",
       "        array([18.3725    ,  5.24297089]),\n",
       "        array([17.479     ,  5.14427439]), array([9.0885    , 3.72742106]),\n",
       "        array([9.389     , 3.32741326])], dtype=object),\n",
       " 'Aromatic': array([array([7.4885    , 2.81529177]), array([8.4925    , 3.41173618]),\n",
       "        array([6.5045    , 2.69090686]), array([1.7975    , 1.69011649]),\n",
       "        array([2.284     , 2.28458837])], dtype=object)}"
      ]
     },
     "execution_count": 58,
     "metadata": {},
     "output_type": "execute_result"
    }
   ],
   "source": [
    "prgrpC2_09nmNR"
   ]
  },
  {
   "cell_type": "code",
   "execution_count": 60,
   "metadata": {},
   "outputs": [],
   "source": [
    "mean_09nmC2 = np.zeros(shape=5)\n",
    "std_09nmC2 = np.zeros(shape=5)\n",
    "count = 0\n",
    "for key, value in prgrpC2_09nmNR.items():\n",
    "    mpl_09nmC2 = []\n",
    "    var_09nmC2 = []\n",
    "    for i in prgrpC2_09nmNR[str(key)].flat:\n",
    "        mpl_09nmC2.append(i[0])\n",
    "        var_09nmC2.append((i[1])**2)\n",
    "    \n",
    "    # calc frac cont averages\n",
    "    mean_09nmC2[count] = np.mean(mpl_09nmC2)\n",
    "    \n",
    "    # calc frac cont std dev: https://stats.stackexchange.com/questions/25848/how-to-sum-a-standard-deviation \n",
    "    std_09nmC2[count] = np.std(mpl_09nmC2)\n",
    "    # std_12nm[count] = np.sqrt(np.sum(var_12nm)/5)\n",
    "    \n",
    "    count += 1\n"
   ]
  },
  {
   "cell_type": "code",
   "execution_count": 61,
   "metadata": {},
   "outputs": [
    {
     "data": {
      "text/plain": [
       "array([ 8.5657, 29.9555, 19.909 , 13.8885,  5.3134])"
      ]
     },
     "execution_count": 61,
     "metadata": {},
     "output_type": "execute_result"
    }
   ],
   "source": [
    "mean_09nmC2"
   ]
  },
  {
   "cell_type": "code",
   "execution_count": 62,
   "metadata": {},
   "outputs": [
    {
     "data": {
      "text/plain": [
       "array([0.49319961, 4.90808391, 2.68161763, 3.94421276, 2.7493735 ])"
      ]
     },
     "execution_count": 62,
     "metadata": {},
     "output_type": "execute_result"
    }
   ],
   "source": [
    "std_09nmC2"
   ]
  },
  {
   "cell_type": "code",
   "execution_count": 64,
   "metadata": {},
   "outputs": [
    {
     "data": {
      "application/vnd.jupyter.widget-view+json": {
       "model_id": "",
       "version_major": 2,
       "version_minor": 0
      },
      "text/plain": [
       "Canvas(toolbar=Toolbar(toolitems=[('Home', 'Reset original view', 'home', 'home'), ('Back', 'Back to previous …"
      ]
     },
     "metadata": {},
     "output_type": "display_data"
    },
    {
     "data": {
      "text/plain": [
       "Text(0, 0.5, 'No. of PEG residues')"
      ]
     },
     "execution_count": 64,
     "metadata": {},
     "output_type": "execute_result"
    }
   ],
   "source": [
    "x_pos = np.arange(5)\n",
    "aa_types = [\"Negative\", \"Positive\", \"Polar\", \"Hydrophobic\", \"Aromatic\"]\n",
    "fig = plt.figure(figsize=(7,7))\n",
    "fig.canvas.layout.width = '500px'\n",
    "fig.canvas.layout.height = '400px'\n",
    "plt.bar(x_pos, mean_09nmC2, yerr=std_09nmC2, ecolor='black',capsize=5)\n",
    "plt.title(r'No. of PEG residues 0.9 nm Rg restrained', fontsize=15)\n",
    "plt.xticks(x_pos, labels=aa_types, fontsize=12)\n",
    "plt.ylabel(r'No. of PEG residues', fontsize=15)"
   ]
  },
  {
   "cell_type": "markdown",
   "metadata": {},
   "source": [
    "### Protein/polymer contact map movie"
   ]
  },
  {
   "cell_type": "code",
   "execution_count": null,
   "metadata": {},
   "outputs": [],
   "source": [
    "fig = plt.figure(figsize=(10,10))\n",
    "\n",
    "# Set the axis and the plot titles pp\n",
    "\n",
    "plt.title(\"BSA/PEG contact map 0.9 nm Unrestrained\", fontsize=22, loc='left')\n",
    "plt.xlabel(\"PLGA Residue No.\", fontsize=22)\n",
    "plt.ylabel(\"BSA Residue No.\", fontsize=20)\n",
    "\n",
    " # Set the axis range \n",
    "plt.ylim(583, 0)\n",
    "plt.xlim(0, 60)\n",
    "\n",
    "# Plot bands for each chain \n",
    "BANDS = (\n",
    "    (0, 20, \"purple\", \"B\"),\n",
    "    (20, 40, \"blue\", \"C\"),\n",
    "    (40, 60, \"green\", \"D\"),\n",
    ")\n",
    "    \n",
    "text_y = 0.98 # Close to the top\n",
    "for start, stop, color, band in BANDS:\n",
    "    plt.axvspan(start, stop,color=color, alpha=0.15)\n",
    "    text_x = middle_of_band(start,stop)\n",
    "    plt.text(\n",
    "        text_x,\n",
    "        text_y,\n",
    "        \"PLGA chain \" + band,\n",
    "        color=color,\n",
    "        fontsize=18,\n",
    "        transform=fig.gca().transAxes,\n",
    "        horizontalalignment='center',\n",
    "        verticalalignment='center',\n",
    "        style='italic',\n",
    "    )\n",
    "    \n",
    "plt.text(0.93, 1, \"Time [ns]:\", fontsize=20, transform=fig.gca().transAxes, horizontalalignment='right', verticalalignment='bottom')\n",
    "\n",
    "# Set tick label size\n",
    "fig.gca().tick_params(axis='both', which='major', labelsize=20)\n",
    "\n",
    "ims = []\n",
    "for i in range(10000):\n",
    "    data = trj_ppmap_12nm[i]\n",
    "    im = plt.imshow(data, aspect='auto', cmap='Greys')\n",
    "    t_sim = plt.text(1, 1, str(i/100), fontsize=20, transform=fig.gca().transAxes, horizontalalignment='right', verticalalignment='bottom')\n",
    "    ims.append([im, t_sim])\n",
    "    \n",
    "ani = animation.ArtistAnimation(fig, ims, blit=True, repeat=False)\n",
    "ani.save('1.2nm_res.mp4',writer='ffmpeg', fps=50, bitrate=100000)\n",
    "#plt.tight_layout()\n",
    "#plt.show()"
   ]
  },
  {
   "cell_type": "markdown",
   "metadata": {},
   "source": [
    "# 1.1 nm PEG unrestrained Rg 100 ns trajectory C2"
   ]
  },
  {
   "cell_type": "markdown",
   "metadata": {},
   "source": [
    "Load the rg = 1.5 nm (3 PLGA N = 20 oligomer/BSA system) "
   ]
  },
  {
   "cell_type": "code",
   "execution_count": 65,
   "metadata": {},
   "outputs": [],
   "source": [
    "# Set up the MD Simulation\n",
    "u11nmNR_n20PEGC2 = mda.Universe(\"bsapeg_n20waterT2/C2_pegNoRes/1.1nmpeg_prodC2/bpeg_1.1nmNR.pdb\"\n",
    "                                , \"bsapeg_n20waterT2/C2_pegNoRes/1.1nmpeg_prodC2/C2NR_1.1nmbpeg.xtc\")"
   ]
  },
  {
   "cell_type": "code",
   "execution_count": 66,
   "metadata": {},
   "outputs": [
    {
     "data": {
      "text/plain": [
       "<Universe with 9665 atoms>"
      ]
     },
     "execution_count": 66,
     "metadata": {},
     "output_type": "execute_result"
    }
   ],
   "source": [
    "u11nmNR_n20PEGC2"
   ]
  },
  {
   "cell_type": "code",
   "execution_count": 67,
   "metadata": {},
   "outputs": [
    {
     "data": {
      "text/plain": [
       "10001"
      ]
     },
     "execution_count": 67,
     "metadata": {},
     "output_type": "execute_result"
    }
   ],
   "source": [
    "pn20C2_11nmNR = len(u11nmNR_n20PEGC2.trajectory)\n",
    "pn20C2_11nmNR"
   ]
  },
  {
   "cell_type": "code",
   "execution_count": 68,
   "metadata": {},
   "outputs": [
    {
     "data": {
      "text/plain": [
       "<AtomGroup with 183 atoms>"
      ]
     },
     "execution_count": 68,
     "metadata": {},
     "output_type": "execute_result"
    }
   ],
   "source": [
    "#Select all the PLGA residues, heavy atoms only \n",
    "n20PEG_11nmNRC2 = u11nmNR_n20PEGC2.select_atoms(\"resname sPEG PEG tPEG and not type H\")\n",
    "n20PEG_11nmNRC2"
   ]
  },
  {
   "cell_type": "code",
   "execution_count": 69,
   "metadata": {},
   "outputs": [
    {
     "data": {
      "text/plain": [
       "<AtomGroup with 4653 atoms>"
      ]
     },
     "execution_count": 69,
     "metadata": {},
     "output_type": "execute_result"
    }
   ],
   "source": [
    "# Select BSA residues, heavy atoms only \n",
    "protNR_11nmPEGC2 = u11nmNR_n20PEGC2.select_atoms(\"protein and not type H\")\n",
    "protNR_11nmPEGC2"
   ]
  },
  {
   "cell_type": "markdown",
   "metadata": {},
   "source": [
    "### Contact Analysis"
   ]
  },
  {
   "cell_type": "code",
   "execution_count": 70,
   "metadata": {},
   "outputs": [
    {
     "data": {
      "text/plain": [
       "313.68020696844906"
      ]
     },
     "execution_count": 70,
     "metadata": {},
     "output_type": "execute_result"
    }
   ],
   "source": [
    "#dmax = 4.0, protein group(4653 atoms), plga atom group (543 atoms), took 381.6 s (6 min 36s on 4 cores)\n",
    "start = 0\n",
    "end = pn20C2_11nmNR - 1\n",
    "s_time = timeit.default_timer()\n",
    "h2diC2_11nmNR = aa_frmcount(protNR_11nmPEGC2, n20PEG_11nmNRC2, dmax, u11nmNR_n20PEGC2, start, end)\n",
    "timeit.default_timer() - s_time\n",
    "#h2di_11nm"
   ]
  },
  {
   "cell_type": "code",
   "execution_count": 71,
   "metadata": {},
   "outputs": [
    {
     "data": {
      "text/plain": [
       "144"
      ]
     },
     "execution_count": 71,
     "metadata": {},
     "output_type": "execute_result"
    }
   ],
   "source": [
    "len(h2diC2_11nmNR.keys())"
   ]
  },
  {
   "cell_type": "code",
   "execution_count": 72,
   "metadata": {},
   "outputs": [
    {
     "data": {
      "text/html": [
       "<div>\n",
       "<style scoped>\n",
       "    .dataframe tbody tr th:only-of-type {\n",
       "        vertical-align: middle;\n",
       "    }\n",
       "\n",
       "    .dataframe tbody tr th {\n",
       "        vertical-align: top;\n",
       "    }\n",
       "\n",
       "    .dataframe thead th {\n",
       "        text-align: right;\n",
       "    }\n",
       "</style>\n",
       "<table border=\"1\" class=\"dataframe\">\n",
       "  <thead>\n",
       "    <tr style=\"text-align: right;\">\n",
       "      <th></th>\n",
       "      <th>BSA_des_res</th>\n",
       "      <th>mda_occ_0.9nmNRC2</th>\n",
       "      <th>mda_occ_1.1nmNRC2</th>\n",
       "    </tr>\n",
       "  </thead>\n",
       "  <tbody>\n",
       "    <tr>\n",
       "      <th>0</th>\n",
       "      <td>&lt;Residue ASP, 1&gt;</td>\n",
       "      <td>0.01</td>\n",
       "      <td>0.0</td>\n",
       "    </tr>\n",
       "    <tr>\n",
       "      <th>1</th>\n",
       "      <td>&lt;Residue THR, 2&gt;</td>\n",
       "      <td>0.06</td>\n",
       "      <td>0.0</td>\n",
       "    </tr>\n",
       "    <tr>\n",
       "      <th>2</th>\n",
       "      <td>&lt;Residue HIS, 3&gt;</td>\n",
       "      <td>0.04</td>\n",
       "      <td>0.0</td>\n",
       "    </tr>\n",
       "    <tr>\n",
       "      <th>3</th>\n",
       "      <td>&lt;Residue LYS, 4&gt;</td>\n",
       "      <td>0.01</td>\n",
       "      <td>0.0</td>\n",
       "    </tr>\n",
       "    <tr>\n",
       "      <th>4</th>\n",
       "      <td>&lt;Residue SER, 5&gt;</td>\n",
       "      <td>0.00</td>\n",
       "      <td>0.0</td>\n",
       "    </tr>\n",
       "    <tr>\n",
       "      <th>...</th>\n",
       "      <td>...</td>\n",
       "      <td>...</td>\n",
       "      <td>...</td>\n",
       "    </tr>\n",
       "    <tr>\n",
       "      <th>578</th>\n",
       "      <td>&lt;Residue GLN, 579&gt;</td>\n",
       "      <td>0.03</td>\n",
       "      <td>0.0</td>\n",
       "    </tr>\n",
       "    <tr>\n",
       "      <th>579</th>\n",
       "      <td>&lt;Residue THR, 580&gt;</td>\n",
       "      <td>0.30</td>\n",
       "      <td>0.0</td>\n",
       "    </tr>\n",
       "    <tr>\n",
       "      <th>580</th>\n",
       "      <td>&lt;Residue ALA, 581&gt;</td>\n",
       "      <td>0.08</td>\n",
       "      <td>0.0</td>\n",
       "    </tr>\n",
       "    <tr>\n",
       "      <th>581</th>\n",
       "      <td>&lt;Residue LEU, 582&gt;</td>\n",
       "      <td>0.00</td>\n",
       "      <td>0.0</td>\n",
       "    </tr>\n",
       "    <tr>\n",
       "      <th>582</th>\n",
       "      <td>&lt;Residue ALA, 583&gt;</td>\n",
       "      <td>0.00</td>\n",
       "      <td>0.0</td>\n",
       "    </tr>\n",
       "  </tbody>\n",
       "</table>\n",
       "<p>583 rows × 3 columns</p>\n",
       "</div>"
      ],
      "text/plain": [
       "            BSA_des_res  mda_occ_0.9nmNRC2  mda_occ_1.1nmNRC2\n",
       "0      <Residue ASP, 1>               0.01                0.0\n",
       "1      <Residue THR, 2>               0.06                0.0\n",
       "2      <Residue HIS, 3>               0.04                0.0\n",
       "3      <Residue LYS, 4>               0.01                0.0\n",
       "4      <Residue SER, 5>               0.00                0.0\n",
       "..                  ...                ...                ...\n",
       "578  <Residue GLN, 579>               0.03                0.0\n",
       "579  <Residue THR, 580>               0.30                0.0\n",
       "580  <Residue ALA, 581>               0.08                0.0\n",
       "581  <Residue LEU, 582>               0.00                0.0\n",
       "582  <Residue ALA, 583>               0.00                0.0\n",
       "\n",
       "[583 rows x 3 columns]"
      ]
     },
     "execution_count": 72,
     "metadata": {},
     "output_type": "execute_result"
    }
   ],
   "source": [
    "pr_res_PEG = list(protNR_11nmPEGC2.residues)\n",
    "ss_res_PEG = [str(row) for row in pr_res_PEG]\n",
    "rkgC2_11NR = {key:h2diC2_11nmNR[key][1] for key, value in h2diC2_11nmNR.items()}\n",
    "plgC2_09nmNR_occ['mda_occ_1.1nmNRC2'] = plgC2_09nmNR_occ['BSA_des_res'].map(rkgC2_11NR)\n",
    "plgC2_09nmNR_occ['mda_occ_1.1nmNRC2'] = plgC2_09nmNR_occ['mda_occ_1.1nmNRC2'].replace('nan', np.nan).fillna(0)\n",
    "plgC2_09nmNR_occ['mda_occ_1.1nmNRC2'] = plgC2_09nmNR_occ['mda_occ_1.1nmNRC2'].round(2)\n",
    "plgC2_09nmNR_occ"
   ]
  },
  {
   "cell_type": "code",
   "execution_count": 75,
   "metadata": {},
   "outputs": [
    {
     "data": {
      "text/html": [
       "<div>\n",
       "<style scoped>\n",
       "    .dataframe tbody tr th:only-of-type {\n",
       "        vertical-align: middle;\n",
       "    }\n",
       "\n",
       "    .dataframe tbody tr th {\n",
       "        vertical-align: top;\n",
       "    }\n",
       "\n",
       "    .dataframe thead th {\n",
       "        text-align: right;\n",
       "    }\n",
       "</style>\n",
       "<table border=\"1\" class=\"dataframe\">\n",
       "  <thead>\n",
       "    <tr style=\"text-align: right;\">\n",
       "      <th></th>\n",
       "      <th>BSA_des_res</th>\n",
       "      <th>mda_plga_frm_1.1nmNRC2</th>\n",
       "    </tr>\n",
       "  </thead>\n",
       "  <tbody>\n",
       "    <tr>\n",
       "      <th>0</th>\n",
       "      <td>ASP 1</td>\n",
       "      <td>0.0</td>\n",
       "    </tr>\n",
       "    <tr>\n",
       "      <th>1</th>\n",
       "      <td>THR 2</td>\n",
       "      <td>0.0</td>\n",
       "    </tr>\n",
       "    <tr>\n",
       "      <th>2</th>\n",
       "      <td>HIS 3</td>\n",
       "      <td>0.0</td>\n",
       "    </tr>\n",
       "    <tr>\n",
       "      <th>3</th>\n",
       "      <td>LYS 4</td>\n",
       "      <td>0.0</td>\n",
       "    </tr>\n",
       "    <tr>\n",
       "      <th>4</th>\n",
       "      <td>SER 5</td>\n",
       "      <td>0.0</td>\n",
       "    </tr>\n",
       "  </tbody>\n",
       "</table>\n",
       "</div>"
      ],
      "text/plain": [
       "  BSA_des_res  mda_plga_frm_1.1nmNRC2\n",
       "0       ASP 1                     0.0\n",
       "1       THR 2                     0.0\n",
       "2       HIS 3                     0.0\n",
       "3       LYS 4                     0.0\n",
       "4       SER 5                     0.0"
      ]
     },
     "execution_count": 75,
     "metadata": {},
     "output_type": "execute_result"
    }
   ],
   "source": [
    "pr_res11nmC2 = list(protNR_11nmPEGC2.residues)\n",
    "ss_res11nmC2 = [str(row) for row in pr_res11nmC2]\n",
    "rkgC2_11nmNR = {key:h2diC2_11nmNR[key][0] for key, value in h2diC2_11nmNR.items()}\n",
    "plgC2_1_1nmaaNR = pd.DataFrame(data=ss_res11nmC2, columns=[\"BSA_des_res\"])\n",
    "plgC2_1_1nmaaNR['mda_plga_frm_1.1nmNRC2'] = plgC2_1_1nmaaNR['BSA_des_res'].map(rkgC2_11nmNR)\n",
    "plgC2_1_1nmaaNR['BSA_des_res'] = red_bsa\n",
    "plgC2_1_1nmaaNR['mda_plga_frm_1.1nmNRC2'] = plgC2_1_1nmaaNR['mda_plga_frm_1.1nmNRC2'].replace('nan', np.nan).fillna(0)\n",
    "plgC2_1_1nmaaNR.head()"
   ]
  },
  {
   "cell_type": "code",
   "execution_count": 78,
   "metadata": {},
   "outputs": [],
   "source": [
    "bsa11C2_NR = np.array(list(protNR_11nmPEGC2.resids)) # shape is 4652\n",
    "mC2_occ_11nmNR = np.array(list(plgC2_09nmNR_occ['mda_occ_1.1nmNRC2'])) # shape is 583\n",
    "mC2_occ_11New = np.zeros(shape=(4653))\n",
    "at_indC2 = np.where(bsa11C2_NR[:-1] != bsa11C2_NR[1:])[0]\n",
    "atC2_in_nw = np.sort(np.append([0,4653],at_indC2))\n",
    "nw_v = 0\n",
    "for i in range(583):\n",
    "    b = atC2_in_nw[i+1] +1\n",
    "    mC2_occ_11New[nw_v:b] = mC2_occ_11nmNR[i]\n",
    "    nw_v = atC2_in_nw[i+1] + 1 "
   ]
  },
  {
   "cell_type": "code",
   "execution_count": 79,
   "metadata": {},
   "outputs": [
    {
     "data": {
      "text/plain": [
       "array([0., 0., 0., 0., 0., 0., 0., 0., 0., 0., 0., 0., 0., 0., 0., 0., 0.,\n",
       "       0., 0., 0., 0., 0., 0., 0., 0., 0., 0., 0., 0., 0., 0., 0., 0.])"
      ]
     },
     "execution_count": 79,
     "metadata": {},
     "output_type": "execute_result"
    }
   ],
   "source": [
    "mC2_occ_11New[0:33]"
   ]
  },
  {
   "cell_type": "code",
   "execution_count": 80,
   "metadata": {},
   "outputs": [
    {
     "data": {
      "text/plain": [
       "array([1., 1., 1., 1., 1., 1., 1., 1., 1., 1.])"
      ]
     },
     "execution_count": 80,
     "metadata": {},
     "output_type": "execute_result"
    }
   ],
   "source": [
    "protNR_11nmPEGC2.occupancies[3089:3099]"
   ]
  },
  {
   "cell_type": "code",
   "execution_count": 81,
   "metadata": {},
   "outputs": [
    {
     "data": {
      "text/plain": [
       "(array([1679, 1680, 1681, 1682, 1683, 1684, 1685, 1686, 1687, 1688, 1689,\n",
       "        1703, 1704, 1705, 1706, 1707, 1708, 1709, 1710, 1711, 1810, 1811,\n",
       "        1812, 1813, 1814, 1815, 1816, 1817, 1818, 1824, 1825, 1826, 1827,\n",
       "        1828, 1829, 1830, 1831, 1832, 1833, 1834, 1835, 1836, 1837, 1838,\n",
       "        1839, 1840, 1841, 1842, 1843, 1844, 1845, 1846, 1847, 1848, 1849,\n",
       "        1850, 1851, 1852, 1853, 1854, 1855, 1856, 1857, 1858, 1859, 1860,\n",
       "        1861, 1862, 1863, 1864, 1865, 1866, 1867, 1868, 1869, 1870, 1871,\n",
       "        1872, 1873, 1874, 1875, 1876, 1877, 1878, 1879, 1880, 1881, 1882,\n",
       "        2377, 2378, 2379, 2380, 2381, 2382, 2383, 2384, 2385, 2386, 2387,\n",
       "        2388, 2389, 2390, 2391, 2392, 2393, 2394, 2395, 2396, 2397, 2398,\n",
       "        2399, 2400, 2401, 2402, 2403, 2404, 2405, 2406, 2407, 2408, 2409,\n",
       "        2410, 2411, 2412, 2413, 2414, 2415, 2416, 2417, 2418, 2419, 2420,\n",
       "        2421, 2422, 2423, 2424, 2425, 2426, 2427, 2428, 2429, 2430, 2431,\n",
       "        2432, 2433, 2434, 2435, 2436, 2437, 2438, 2439, 2440, 2441, 2442,\n",
       "        2443, 2444, 2445, 2446, 2447, 2448, 2449, 2450, 2451, 2452, 2453,\n",
       "        2454, 2455, 2456, 2457, 2458, 2475, 2476, 2477, 2478, 2479, 2480,\n",
       "        2481, 2482, 2483, 2484, 2485, 2486, 2487, 2488, 2489, 2490, 2491,\n",
       "        2492, 2493, 2494, 2495, 2496, 2497, 2498, 2499, 2500, 2501, 2502,\n",
       "        2503, 2504, 2505, 2506, 2507, 2508, 2516, 2517, 2518, 2519, 2520,\n",
       "        2521, 2522, 2523, 2524, 2525, 2526, 2527, 2528, 2529, 2530, 2531,\n",
       "        2532, 2533, 2534, 2535, 2536, 2537, 2538, 2551, 2552, 2553, 2554,\n",
       "        2555, 2556, 2557, 2558, 2559, 2560, 2561, 2562, 2563, 2564, 2565,\n",
       "        2566, 2567, 2568, 2569, 2570, 2571, 2572, 2573, 2574, 2575, 2576,\n",
       "        2577, 2578, 2579, 2580, 2581, 2582, 2583, 2584, 2585, 2586, 2587,\n",
       "        2588, 2589, 2590, 2591, 2592, 2593, 2594, 2595, 2596, 2597, 2598,\n",
       "        2599, 2600, 2601, 2602, 2603, 2604, 2605, 2606, 2619, 2620, 2621,\n",
       "        2622, 2623, 2624, 2656, 2657, 2658, 2659, 2660, 2661, 2662, 2663,\n",
       "        2664, 2665, 2666, 2667, 2668, 2669, 2670, 2671, 2672, 2673, 2674,\n",
       "        2675, 2676, 2677, 2678, 2679, 2680, 2681, 2682, 2683, 2684, 2685,\n",
       "        2686, 2687, 2688, 2689, 2690, 2691, 2692, 2693, 2694, 2695, 2696,\n",
       "        2697, 2698, 2699, 2700, 2701, 2702, 2703, 2704, 2705, 2706, 2707,\n",
       "        2708, 2709, 2710, 2711, 2712, 2713, 2714, 2715, 2716, 2717, 2718,\n",
       "        2719, 2720, 2721, 2731, 2732, 2733, 2734, 2735, 2736, 2737, 2738,\n",
       "        2739, 2740, 2741, 2742, 2768, 2769, 2770, 2771, 2772, 2773, 2774,\n",
       "        2775, 2795, 2796, 2797, 2798, 2799, 2800, 2801, 2802, 2867, 2868,\n",
       "        2869, 2870, 2871, 2872, 2873, 2874, 2875, 2891, 2892, 2893, 2894,\n",
       "        2895, 2896, 2897, 2898, 2899, 2900, 2901, 2902, 2903, 2904, 2905,\n",
       "        2906, 2907, 2908, 2909, 2910, 2911, 2912, 2913, 2914, 2915, 2916,\n",
       "        2917, 2918, 2919, 2920, 2921, 2922, 2923, 2924, 2925, 2926, 2927,\n",
       "        2928, 2929, 2930, 2931, 2932, 2933, 2934, 2935, 2936, 2937, 2938,\n",
       "        2939, 2940, 2941, 2942, 2943, 2944, 2945, 2946, 2947, 2948, 2955,\n",
       "        2956, 2957, 2958, 2959, 2960, 2961, 2962, 2963, 2964, 2965, 2966,\n",
       "        2967, 2968, 2969, 2970, 2971, 2972, 2973, 2974, 2975, 2976, 2977,\n",
       "        2978, 2979, 2987, 2988, 2989, 2990, 2991, 2992, 2993, 2994, 2995,\n",
       "        2996, 2997, 3015, 3016, 3017, 3018, 3019, 3020, 3021, 3022, 3023,\n",
       "        3024, 3025, 3026, 3027, 3028, 3029, 3030, 3031, 3050, 3051, 3052,\n",
       "        3053, 3054, 3055, 3056, 3081, 3082, 3083, 3084, 3085, 3086, 3087,\n",
       "        3088, 3089, 3090, 3091, 3092, 3093, 3094, 3095, 3096, 3097, 3098,\n",
       "        3099, 3100, 3101, 3102, 3103, 3104, 3105, 3114, 3115, 3116, 3117,\n",
       "        3118, 3119, 3120, 3121, 3122, 3123, 3124, 3125, 3126, 3127, 3128,\n",
       "        3129, 3130, 3131, 3146, 3147, 3148, 3149, 3150, 3151, 3152, 3153,\n",
       "        3154, 3155, 3156, 3157, 3158, 3159, 3160, 3161, 3162, 3163, 3164,\n",
       "        3165, 3166, 3167, 3168, 3169, 3170, 3171, 3172, 3173, 3174, 3175,\n",
       "        3176, 3177, 3178, 3179, 3180, 3181, 3182, 3183, 3184, 3185, 3186,\n",
       "        3187, 3188, 3189, 3190, 3191, 3192, 3193, 3194, 3195, 3196, 3197,\n",
       "        3198, 3199, 3200, 3201, 3202, 3203, 3204, 3205, 3206, 3207, 3208,\n",
       "        3209, 3210, 3211, 3212, 3213, 3214, 3215, 3216, 3217, 3218, 3219,\n",
       "        3220, 3221, 3222, 3223, 3224, 3225, 3226, 3227, 3228, 3249, 3250,\n",
       "        3251, 3252, 3253, 3254, 3255, 3256, 3257, 3258, 3259, 3260, 3261,\n",
       "        3262, 3263, 3264, 3265, 3266, 3267, 3268, 3269, 3278, 3279, 3280,\n",
       "        3281, 3282, 3283, 3284, 3285, 3286, 3287, 3288, 3289, 3290, 3291,\n",
       "        3292, 3293, 3294, 3295, 3296, 3297, 3298, 3299, 3300, 3301, 3302,\n",
       "        3303, 3304, 3305, 3306, 3307, 3315, 3316, 3317, 3318, 3319, 3320,\n",
       "        3321, 3322, 3323, 3324, 3325, 3326, 3327, 3328, 3329, 3330, 3331,\n",
       "        3332, 3333, 3334, 3531, 3532, 3533, 3534, 3535, 3536, 3537, 3538,\n",
       "        3539, 3540, 3541, 3542, 3543, 3544, 3545, 3546, 3547, 3548, 3549,\n",
       "        3550, 3551, 3552, 3553, 3554, 3566, 3567, 3568, 3569, 3570, 3571,\n",
       "        3572, 3573, 3574, 3575, 3576, 3577, 3578, 3579, 3580, 3908, 3909,\n",
       "        3910, 3911, 3912, 3913, 3914, 3915, 3916, 3917, 3918, 3919, 3920,\n",
       "        3921, 3922, 3923, 3924, 3925, 3926, 3927, 3928, 3929, 3930, 3931,\n",
       "        3932, 3933, 3934, 3935, 3936, 3937, 3938, 3939, 3940, 3949, 3950,\n",
       "        3951, 3952, 3953, 3954, 3955, 3956, 3957, 3958, 3959, 3960, 3961,\n",
       "        3962, 3963, 3964, 4227, 4228, 4229, 4230, 4231, 4232, 4233, 4234,\n",
       "        4316, 4317, 4318, 4319, 4320, 4321, 4322, 4323, 4324, 4325, 4326,\n",
       "        4327, 4328, 4329, 4330, 4331, 4332, 4333, 4334, 4335, 4336, 4337,\n",
       "        4338, 4339, 4340, 4350, 4351, 4352, 4353, 4354, 4355, 4356, 4357,\n",
       "        4358, 4359, 4360, 4361, 4362, 4363, 4364, 4365, 4366, 4381, 4382,\n",
       "        4383, 4384, 4385, 4386, 4387, 4388, 4389, 4390, 4391, 4392, 4393,\n",
       "        4394, 4395, 4396, 4397]),)"
      ]
     },
     "execution_count": 81,
     "metadata": {},
     "output_type": "execute_result"
    }
   ],
   "source": [
    "np.nonzero(mC2_occ_11New)"
   ]
  },
  {
   "cell_type": "markdown",
   "metadata": {},
   "source": [
    "### Visualize Occupanct on protein "
   ]
  },
  {
   "cell_type": "code",
   "execution_count": 82,
   "metadata": {},
   "outputs": [
    {
     "data": {
      "text/plain": [
       "array([0., 0., 0., 0., 0., 0., 0., 0., 0., 0., 0., 0., 0., 0., 0., 0., 0.,\n",
       "       0., 0., 0., 0., 0., 0., 0., 0., 0., 0., 0., 0., 0., 0., 0., 0.])"
      ]
     },
     "execution_count": 82,
     "metadata": {},
     "output_type": "execute_result"
    }
   ],
   "source": [
    "protNR_11nmPEGC2.occupancies = mC2_occ_11New\n",
    "protNR_11nmPEGC2.occupancies[0:33]"
   ]
  },
  {
   "cell_type": "code",
   "execution_count": 84,
   "metadata": {},
   "outputs": [],
   "source": [
    "with mda.Writer(\"prot11nm_NoResC2.pdb\") as pdb:\n",
    "    pdb.write(protNR_11nmPEGC2)"
   ]
  },
  {
   "cell_type": "markdown",
   "metadata": {},
   "source": [
    "### Residue Importance: 1.1 nm unrestrained "
   ]
  },
  {
   "cell_type": "code",
   "execution_count": 85,
   "metadata": {},
   "outputs": [],
   "source": [
    "# Need to fix function, the residue number are not counting the other 2 PLGA oligomers cuz of same resid number\n",
    "trjmapC2_11nmPEGNR = prot_poly_cntmovie(protNR_11nmPEGC2, n20PEG_11nmNRC2, dmax, u11nmNR_n20PEGC2, 0, 10000)\n",
    "#trj_ppmap_12nm_chC = prot_poly_cntmovie(prot, all_pn20_C, dmax, u_pn20, 0, 10000)"
   ]
  },
  {
   "cell_type": "code",
   "execution_count": null,
   "metadata": {},
   "outputs": [],
   "source": [
    "trjmapC2_11nmPEGNR = np.load('1.1nmNR_PEGres.npy', allow_pickle=True)"
   ]
  },
  {
   "cell_type": "code",
   "execution_count": 86,
   "metadata": {},
   "outputs": [],
   "source": [
    "np.save('1.1nmNR_PEGresC2.npy', trjmapC2_11nmPEGNR)    # .npy extension is added if not given"
   ]
  },
  {
   "cell_type": "code",
   "execution_count": 87,
   "metadata": {},
   "outputs": [
    {
     "data": {
      "text/plain": [
       "(583, 60)"
      ]
     },
     "execution_count": 87,
     "metadata": {},
     "output_type": "execute_result"
    }
   ],
   "source": [
    "trjmapC2_11nmPEGNR[0].shape"
   ]
  },
  {
   "cell_type": "code",
   "execution_count": 88,
   "metadata": {},
   "outputs": [
    {
     "data": {
      "text/plain": [
       "0.0"
      ]
     },
     "execution_count": 88,
     "metadata": {},
     "output_type": "execute_result"
    }
   ],
   "source": [
    "np.sum(trjmapC2_11nmPEGNR[1000][0])"
   ]
  },
  {
   "cell_type": "code",
   "execution_count": 89,
   "metadata": {},
   "outputs": [
    {
     "data": {
      "text/plain": [
       "(10000,)"
      ]
     },
     "execution_count": 89,
     "metadata": {},
     "output_type": "execute_result"
    }
   ],
   "source": [
    "kj = np.zeros(shape=(10000, 583))\n",
    "kj[:,582].shape"
   ]
  },
  {
   "cell_type": "code",
   "execution_count": 90,
   "metadata": {},
   "outputs": [],
   "source": [
    "ppC2_11nmNR_ct = np.zeros(shape=(10000, 583))\n",
    "for i in range(10000):\n",
    "    for j in range(583):\n",
    "        ppC2_11nmNR_ct[i][j] = np.sum(trjmapC2_11nmPEGNR[i][j])"
   ]
  },
  {
   "cell_type": "code",
   "execution_count": 91,
   "metadata": {},
   "outputs": [],
   "source": [
    "ppC2_11nmtotNR = np.zeros(shape=(583))\n",
    "for i in range(583):\n",
    "    ppC2_11nmtotNR[i] = np.sum(ppC2_11nmNR_ct[:,i])\n",
    "#pp_12nmtot"
   ]
  },
  {
   "cell_type": "code",
   "execution_count": 92,
   "metadata": {},
   "outputs": [
    {
     "data": {
      "text/plain": [
       "573298.0"
      ]
     },
     "execution_count": 92,
     "metadata": {},
     "output_type": "execute_result"
    }
   ],
   "source": [
    "np.sum(ppC2_11nmtotNR)"
   ]
  },
  {
   "cell_type": "code",
   "execution_count": 111,
   "metadata": {},
   "outputs": [
    {
     "data": {
      "application/vnd.jupyter.widget-view+json": {
       "model_id": "",
       "version_major": 2,
       "version_minor": 0
      },
      "text/plain": [
       "Canvas(toolbar=Toolbar(toolitems=[('Home', 'Reset original view', 'home', 'home'), ('Back', 'Back to previous …"
      ]
     },
     "metadata": {},
     "output_type": "display_data"
    },
    {
     "data": {
      "text/plain": [
       "Text(0.5, 0, 'BSA Residue ID')"
      ]
     },
     "execution_count": 111,
     "metadata": {},
     "output_type": "execute_result"
    }
   ],
   "source": [
    "y_pos = np.arange(583) + 1\n",
    "wid = np.zeros(shape=583)\n",
    "wid += 1.5\n",
    "#wid\n",
    "fig = plt.figure(figsize=(12,12))\n",
    "fig.canvas.layout.width = '800px'\n",
    "fig.canvas.layout.height = '700px'\n",
    "plt.bar(y_pos, ppC2_11nmtotNR/np.sum(ppC2_11nmtotNR), align='center',width=wid, color='#562A8B', alpha=0.3, label='1.1 nm PEG')\n",
    "#plt.bar(y_pos, pp_09nmtotNR, align='center',width=wid, alpha=0.5, color='#1D77CF',label='0.9 nm PEG')\n",
    "plt.title(\"BSA in water with PEG Unrestrained, 100 ns, Config 2\", fontsize=18)\n",
    "plt.xticks(fontsize=14)\n",
    "plt.yticks(fontsize=14)\n",
    "plt.xlim([0,600])\n",
    "plt.ylim([0,0.2])\n",
    "plt.legend(fontsize=14)\n",
    "plt.ylabel(r'Normalized Total No. of PEG contacts', fontsize=15)\n",
    "plt.xlabel(r'BSA Residue ID', fontsize=15)"
   ]
  },
  {
   "cell_type": "markdown",
   "metadata": {},
   "source": [
    "### Total number of residues that are within 4 angstroms of a PEG oligomer residue within a 100 ns trajectory block"
   ]
  },
  {
   "cell_type": "code",
   "execution_count": 94,
   "metadata": {},
   "outputs": [
    {
     "data": {
      "text/html": [
       "<div>\n",
       "<style scoped>\n",
       "    .dataframe tbody tr th:only-of-type {\n",
       "        vertical-align: middle;\n",
       "    }\n",
       "\n",
       "    .dataframe tbody tr th {\n",
       "        vertical-align: top;\n",
       "    }\n",
       "\n",
       "    .dataframe thead th {\n",
       "        text-align: right;\n",
       "    }\n",
       "</style>\n",
       "<table border=\"1\" class=\"dataframe\">\n",
       "  <thead>\n",
       "    <tr style=\"text-align: right;\">\n",
       "      <th></th>\n",
       "      <th>Amino_acids</th>\n",
       "      <th>No_of_surf_res (MDAnalysis)</th>\n",
       "      <th>No_of_surf_res (VMD)</th>\n",
       "      <th>pegC2_0.9nmNR_100ns</th>\n",
       "      <th>pegC2_1.1nmNR_100ns</th>\n",
       "    </tr>\n",
       "  </thead>\n",
       "  <tbody>\n",
       "    <tr>\n",
       "      <th>0</th>\n",
       "      <td>LYS</td>\n",
       "      <td>59</td>\n",
       "      <td>59</td>\n",
       "      <td>23</td>\n",
       "      <td>16</td>\n",
       "    </tr>\n",
       "    <tr>\n",
       "      <th>1</th>\n",
       "      <td>ARG</td>\n",
       "      <td>23</td>\n",
       "      <td>23</td>\n",
       "      <td>12</td>\n",
       "      <td>6</td>\n",
       "    </tr>\n",
       "    <tr>\n",
       "      <th>2</th>\n",
       "      <td>HIS</td>\n",
       "      <td>16</td>\n",
       "      <td>16</td>\n",
       "      <td>7</td>\n",
       "      <td>2</td>\n",
       "    </tr>\n",
       "    <tr>\n",
       "      <th>3</th>\n",
       "      <td>ASP</td>\n",
       "      <td>40</td>\n",
       "      <td>40</td>\n",
       "      <td>18</td>\n",
       "      <td>9</td>\n",
       "    </tr>\n",
       "    <tr>\n",
       "      <th>4</th>\n",
       "      <td>GLU</td>\n",
       "      <td>59</td>\n",
       "      <td>59</td>\n",
       "      <td>28</td>\n",
       "      <td>21</td>\n",
       "    </tr>\n",
       "    <tr>\n",
       "      <th>5</th>\n",
       "      <td>SER</td>\n",
       "      <td>23</td>\n",
       "      <td>23</td>\n",
       "      <td>10</td>\n",
       "      <td>5</td>\n",
       "    </tr>\n",
       "    <tr>\n",
       "      <th>6</th>\n",
       "      <td>THR</td>\n",
       "      <td>29</td>\n",
       "      <td>29</td>\n",
       "      <td>17</td>\n",
       "      <td>9</td>\n",
       "    </tr>\n",
       "    <tr>\n",
       "      <th>7</th>\n",
       "      <td>CYS</td>\n",
       "      <td>24</td>\n",
       "      <td>24</td>\n",
       "      <td>12</td>\n",
       "      <td>6</td>\n",
       "    </tr>\n",
       "    <tr>\n",
       "      <th>8</th>\n",
       "      <td>TYR</td>\n",
       "      <td>19</td>\n",
       "      <td>19</td>\n",
       "      <td>7</td>\n",
       "      <td>7</td>\n",
       "    </tr>\n",
       "    <tr>\n",
       "      <th>9</th>\n",
       "      <td>ASN</td>\n",
       "      <td>14</td>\n",
       "      <td>14</td>\n",
       "      <td>5</td>\n",
       "      <td>5</td>\n",
       "    </tr>\n",
       "    <tr>\n",
       "      <th>10</th>\n",
       "      <td>GLN</td>\n",
       "      <td>19</td>\n",
       "      <td>19</td>\n",
       "      <td>7</td>\n",
       "      <td>6</td>\n",
       "    </tr>\n",
       "    <tr>\n",
       "      <th>11</th>\n",
       "      <td>GLY</td>\n",
       "      <td>11</td>\n",
       "      <td>11</td>\n",
       "      <td>2</td>\n",
       "      <td>2</td>\n",
       "    </tr>\n",
       "    <tr>\n",
       "      <th>12</th>\n",
       "      <td>ALA</td>\n",
       "      <td>39</td>\n",
       "      <td>38</td>\n",
       "      <td>17</td>\n",
       "      <td>11</td>\n",
       "    </tr>\n",
       "    <tr>\n",
       "      <th>13</th>\n",
       "      <td>VAL</td>\n",
       "      <td>19</td>\n",
       "      <td>19</td>\n",
       "      <td>8</td>\n",
       "      <td>7</td>\n",
       "    </tr>\n",
       "    <tr>\n",
       "      <th>14</th>\n",
       "      <td>LEU</td>\n",
       "      <td>34</td>\n",
       "      <td>34</td>\n",
       "      <td>14</td>\n",
       "      <td>14</td>\n",
       "    </tr>\n",
       "    <tr>\n",
       "      <th>15</th>\n",
       "      <td>ILE</td>\n",
       "      <td>7</td>\n",
       "      <td>7</td>\n",
       "      <td>3</td>\n",
       "      <td>1</td>\n",
       "    </tr>\n",
       "    <tr>\n",
       "      <th>16</th>\n",
       "      <td>MET</td>\n",
       "      <td>3</td>\n",
       "      <td>3</td>\n",
       "      <td>1</td>\n",
       "      <td>2</td>\n",
       "    </tr>\n",
       "    <tr>\n",
       "      <th>17</th>\n",
       "      <td>PHE</td>\n",
       "      <td>20</td>\n",
       "      <td>20</td>\n",
       "      <td>9</td>\n",
       "      <td>7</td>\n",
       "    </tr>\n",
       "    <tr>\n",
       "      <th>18</th>\n",
       "      <td>TRP</td>\n",
       "      <td>2</td>\n",
       "      <td>2</td>\n",
       "      <td>0</td>\n",
       "      <td>0</td>\n",
       "    </tr>\n",
       "    <tr>\n",
       "      <th>19</th>\n",
       "      <td>PRO</td>\n",
       "      <td>27</td>\n",
       "      <td>27</td>\n",
       "      <td>12</td>\n",
       "      <td>8</td>\n",
       "    </tr>\n",
       "  </tbody>\n",
       "</table>\n",
       "</div>"
      ],
      "text/plain": [
       "   Amino_acids  No_of_surf_res (MDAnalysis)  No_of_surf_res (VMD)  \\\n",
       "0          LYS                           59                    59   \n",
       "1          ARG                           23                    23   \n",
       "2          HIS                           16                    16   \n",
       "3          ASP                           40                    40   \n",
       "4          GLU                           59                    59   \n",
       "5          SER                           23                    23   \n",
       "6          THR                           29                    29   \n",
       "7          CYS                           24                    24   \n",
       "8          TYR                           19                    19   \n",
       "9          ASN                           14                    14   \n",
       "10         GLN                           19                    19   \n",
       "11         GLY                           11                    11   \n",
       "12         ALA                           39                    38   \n",
       "13         VAL                           19                    19   \n",
       "14         LEU                           34                    34   \n",
       "15         ILE                            7                     7   \n",
       "16         MET                            3                     3   \n",
       "17         PHE                           20                    20   \n",
       "18         TRP                            2                     2   \n",
       "19         PRO                           27                    27   \n",
       "\n",
       "    pegC2_0.9nmNR_100ns  pegC2_1.1nmNR_100ns  \n",
       "0                    23                   16  \n",
       "1                    12                    6  \n",
       "2                     7                    2  \n",
       "3                    18                    9  \n",
       "4                    28                   21  \n",
       "5                    10                    5  \n",
       "6                    17                    9  \n",
       "7                    12                    6  \n",
       "8                     7                    7  \n",
       "9                     5                    5  \n",
       "10                    7                    6  \n",
       "11                    2                    2  \n",
       "12                   17                   11  \n",
       "13                    8                    7  \n",
       "14                   14                   14  \n",
       "15                    3                    1  \n",
       "16                    1                    2  \n",
       "17                    9                    7  \n",
       "18                    0                    0  \n",
       "19                   12                    8  "
      ]
     },
     "execution_count": 94,
     "metadata": {},
     "output_type": "execute_result"
    }
   ],
   "source": [
    "aplC2_11nmNR = []\n",
    "\n",
    "# Some residues don't have any contact with the 3 N = 20 PLGA oligomers within 100 ns,\n",
    "# Put residues that do have contact with BSA in a separate list\n",
    "for index, r_pl in plgC2_1_1nmaaNR.iterrows():\n",
    "    if r_pl['mda_plga_frm_1.1nmNRC2'] != 0:\n",
    "        aplC2_11nmNR.append(r_pl['BSA_des_res'])\n",
    "        \n",
    "# This chunk of code gets an AA count from the above list, in order \n",
    "# to get a total number of residues that contact BSA\n",
    "cplC2_11nmNR = []\n",
    "\n",
    "for index, r_a in aa_count.iterrows():\n",
    "    count = 0\n",
    "    for i in range(len(aplC2_11nmNR)):\n",
    "        if r_a['Amino_acids'] in aplC2_11nmNR[i]:\n",
    "            count += 1\n",
    "    cplC2_11nmNR.append(count)      \n",
    "        \n",
    "aa_count['pegC2_1.1nmNR_100ns'] = cplC2_11nmNR\n",
    "#aa_count.drop('No_of_surf_res (VMD)', axis=1, inplace=True)\n",
    "aa_count"
   ]
  },
  {
   "cell_type": "code",
   "execution_count": 95,
   "metadata": {},
   "outputs": [
    {
     "data": {
      "text/plain": [
       "144"
      ]
     },
     "execution_count": 95,
     "metadata": {},
     "output_type": "execute_result"
    }
   ],
   "source": [
    "# This gives the total number of residues that are within 4 angstroms of a PLGA oligomer residue\n",
    "# within a 100 ns trajectory block\n",
    "aa_count['pegC2_1.1nmNR_100ns'].sum()"
   ]
  },
  {
   "cell_type": "code",
   "execution_count": 96,
   "metadata": {},
   "outputs": [
    {
     "data": {
      "text/plain": [
       "487"
      ]
     },
     "execution_count": 96,
     "metadata": {},
     "output_type": "execute_result"
    }
   ],
   "source": [
    "# This gives the total number of residues that are within 4 angstroms of a water molecule\n",
    "# within a 1 ns trajectory block\n",
    "aa_count['No_of_surf_res (MDAnalysis)'].sum()"
   ]
  },
  {
   "cell_type": "code",
   "execution_count": 97,
   "metadata": {},
   "outputs": [
    {
     "data": {
      "text/plain": [
       "0.29568788501026694"
      ]
     },
     "execution_count": 97,
     "metadata": {},
     "output_type": "execute_result"
    }
   ],
   "source": [
    "# This gives the total fraction of contacts within the 1.2 nm Rg 100 ns trajectory\n",
    "aa_count['pegC2_1.1nmNR_100ns'].sum()/aa_count['No_of_surf_res (MDAnalysis)'].sum()"
   ]
  },
  {
   "cell_type": "code",
   "execution_count": 98,
   "metadata": {},
   "outputs": [
    {
     "name": "stdout",
     "output_type": "stream",
     "text": [
      "Mean Occpancy (1.1 nm Rg): 0.17118472222222222 Occ. std. dev.: 0.2728237450767448\n"
     ]
    }
   ],
   "source": [
    "# Mean occupancy and std deviation \n",
    "ll_mo11 = [value[1] for key, value in h2diC2_11nmNR.items()]\n",
    "print(\"Mean Occpancy (1.1 nm Rg): \"+str(np.mean(ll_mo11)), \"Occ. std. dev.: \"+str(np.std(ll_mo11)))"
   ]
  },
  {
   "cell_type": "code",
   "execution_count": 99,
   "metadata": {},
   "outputs": [
    {
     "data": {
      "text/plain": [
       "{'Negative': [36320.0, 30, 174336.0, 0.12575696993920146],\n",
       " 'Positive': [60552.0, 24, 363312.0, 0.26207447837825326],\n",
       " 'Polar': [62188.0, 38, 235659.7894736842, 0.16999277866143914],\n",
       " 'Hydrophobic': [87446.0, 52, 242158.15384615384, 0.17468036248258131],\n",
       " 'Aromatic': [41203.0, 16, 370827.0, 0.2674954105385248]}"
      ]
     },
     "execution_count": 99,
     "metadata": {},
     "output_type": "execute_result"
    }
   ],
   "source": [
    "cd_11nmNRC2 = frac_cont(h2diC2_11nmNR)\n",
    "cd_11nmNRC2"
   ]
  },
  {
   "cell_type": "markdown",
   "metadata": {},
   "source": [
    "### Calc. fractional contacts for each AA group type "
   ]
  },
  {
   "cell_type": "code",
   "execution_count": 100,
   "metadata": {},
   "outputs": [
    {
     "name": "stdout",
     "output_type": "stream",
     "text": [
      "0\n",
      "2000\n",
      "2000\n",
      "4000\n",
      "4000\n",
      "6000\n",
      "6000\n",
      "8000\n",
      "8000\n",
      "10000\n"
     ]
    }
   ],
   "source": [
    "fcntC2_rg11nmNR, prgrpC2_11nmNR, aamatxC2_11nmNR = bavg_frac_cnt(5, protNR_11nmPEGC2, n20PEG_11nmNRC2,\n",
    "                                                             dmax ,u11nmNR_n20PEGC2, no_surf, 0, 10000)"
   ]
  },
  {
   "cell_type": "code",
   "execution_count": 101,
   "metadata": {},
   "outputs": [
    {
     "data": {
      "text/plain": [
       "{'Negative': array([0.07970126, 0.12365648, 0.11347921, 0.1291214 , 0.1627071 ]),\n",
       " 'Positive': array([0.22594526, 0.25498242, 0.27193731, 0.24563133, 0.23838792]),\n",
       " 'Polar': array([0.16933767, 0.21620801, 0.18876536, 0.18161038, 0.16079839]),\n",
       " 'Hydrophobic': array([0.19660706, 0.15557993, 0.15928259, 0.15994885, 0.18997493]),\n",
       " 'Aromatic': array([0.32840876, 0.24957316, 0.26653552, 0.28368804, 0.24813166]),\n",
       " 'total_frac': array([0.13141684, 0.20944559, 0.20944559, 0.18685832, 0.16837782])}"
      ]
     },
     "execution_count": 101,
     "metadata": {},
     "output_type": "execute_result"
    }
   ],
   "source": [
    "fcntC2_rg11nmNR"
   ]
  },
  {
   "cell_type": "code",
   "execution_count": 102,
   "metadata": {},
   "outputs": [
    {
     "data": {
      "text/plain": [
       "array([0.12173309, 0.24737685, 0.18334396, 0.17227867, 0.27526743])"
      ]
     },
     "execution_count": 102,
     "metadata": {},
     "output_type": "execute_result"
    }
   ],
   "source": [
    "fc11nmC2_meanNR = np.array([np.mean(fcntC2_rg11nmNR['Negative']), np.mean(fcntC2_rg11nmNR['Positive'])\n",
    "                        ,np.mean(fcntC2_rg11nmNR['Polar']),np.mean(fcntC2_rg11nmNR['Hydrophobic'])\n",
    "                        , np.mean(fcntC2_rg11nmNR['Aromatic'])])\n",
    "fc11nmC2_meanNR"
   ]
  },
  {
   "cell_type": "code",
   "execution_count": 103,
   "metadata": {},
   "outputs": [
    {
     "data": {
      "text/plain": [
       "array([0.0267281 , 0.01551916, 0.01906264, 0.01734819, 0.02955571])"
      ]
     },
     "execution_count": 103,
     "metadata": {},
     "output_type": "execute_result"
    }
   ],
   "source": [
    "fc11nmC2_stdNR = np.array([np.std(fcntC2_rg11nmNR['Negative']), np.std(fcntC2_rg11nmNR['Positive'])\n",
    "                       ,np.std(fcntC2_rg11nmNR['Polar']),np.std(fcntC2_rg11nmNR['Hydrophobic'])\n",
    "                       , np.std(fcntC2_rg11nmNR['Aromatic'])])\n",
    "fc11nmC2_stdNR"
   ]
  },
  {
   "cell_type": "code",
   "execution_count": 110,
   "metadata": {},
   "outputs": [
    {
     "data": {
      "application/vnd.jupyter.widget-view+json": {
       "model_id": "",
       "version_major": 2,
       "version_minor": 0
      },
      "text/plain": [
       "Canvas(toolbar=Toolbar(toolitems=[('Home', 'Reset original view', 'home', 'home'), ('Back', 'Back to previous …"
      ]
     },
     "metadata": {},
     "output_type": "display_data"
    },
    {
     "data": {
      "text/plain": [
       "Text(0, 0.5, 'Fractional Contacts')"
      ]
     },
     "execution_count": 110,
     "metadata": {},
     "output_type": "execute_result"
    }
   ],
   "source": [
    "x_pos = np.arange(5)\n",
    "width = 0.35\n",
    "aa_types = [\"Negative\", \"Positive\", \"Polar\", \"Hydrophobic\", \"Aromatic\"]\n",
    "fig = plt.figure(figsize=(7,7))\n",
    "fig.canvas.layout.width = '500px'\n",
    "fig.canvas.layout.height = '400px'\n",
    "plt.bar(x_pos, fc09nmC2_meanNR, width, yerr=fc09nmC2_stdNR, ecolor='black',capsize=5, color='royalblue')\n",
    "plt.bar(x_pos+width, fc11nmC2_meanNR, width, yerr=fc11nmC2_stdNR, ecolor='black',capsize=5, color='c')\n",
    "plt.title(r'Fractional Contacts Rg restrained, Config 2', fontsize=15)\n",
    "plt.xticks(x_pos+width/2, labels=aa_types, fontsize=12)\n",
    "plt.legend(['Rg = 0.9 nm', 'Rg = 1.1 nm'], frameon=False)\n",
    "plt.ylabel(r'Fractional Contacts', fontsize=15)"
   ]
  },
  {
   "cell_type": "markdown",
   "metadata": {},
   "source": [
    "### Total fraction of contacts: averages and std dev calc from 5 20 ns blocks"
   ]
  },
  {
   "cell_type": "code",
   "execution_count": 105,
   "metadata": {},
   "outputs": [
    {
     "data": {
      "text/plain": [
       "0.18110882956878846"
      ]
     },
     "execution_count": 105,
     "metadata": {},
     "output_type": "execute_result"
    }
   ],
   "source": [
    "np.mean(fcntC2_rg11nmNR['total_frac'])"
   ]
  },
  {
   "cell_type": "code",
   "execution_count": 106,
   "metadata": {},
   "outputs": [
    {
     "data": {
      "text/plain": [
       "0.029224553387527222"
      ]
     },
     "execution_count": 106,
     "metadata": {},
     "output_type": "execute_result"
    }
   ],
   "source": [
    "np.std(fcntC2_rg11nmNR['total_frac'])"
   ]
  },
  {
   "cell_type": "markdown",
   "metadata": {},
   "source": [
    "### Avg no. PEG residues per BSA AA residue group C2"
   ]
  },
  {
   "cell_type": "code",
   "execution_count": 108,
   "metadata": {},
   "outputs": [
    {
     "data": {
      "text/plain": [
       "{'Negative': array([array([3.5775    , 2.20045308]), array([7.332     , 2.87520017]),\n",
       "        array([8.781     , 2.90981769]), array([7.597     , 2.81950191]),\n",
       "        array([10.3195    ,  3.33847566])], dtype=object),\n",
       " 'Positive': array([array([19.2025    ,  5.12449937]),\n",
       "        array([33.637     ,  7.61066561]),\n",
       "        array([35.751     ,  5.98949071]),\n",
       "        array([31.297     ,  3.87385996]),\n",
       "        array([39.616     ,  6.40215151])], dtype=object),\n",
       " 'Polar': array([array([13.3115    ,  4.44617451]),\n",
       "        array([26.3155    ,  5.16303784]),\n",
       "        array([23.748     ,  5.37591815]),\n",
       "        array([17.503     ,  4.46754866]),\n",
       "        array([19.8775    ,  4.86995829])], dtype=object),\n",
       " 'Hydrophobic': array([array([12.778     ,  4.89782768]),\n",
       "        array([20.953     ,  5.73400305]),\n",
       "        array([18.794     ,  4.81752675]),\n",
       "        array([14.0655    ,  4.35180534]),\n",
       "        array([21.99      ,  6.32707673])], dtype=object),\n",
       " 'Aromatic': array([array([10.616     ,  3.28078405]),\n",
       "        array([13.2805    ,  3.77608524]),\n",
       "        array([14.7185    ,  2.86186264]),\n",
       "        array([14.4605    ,  2.94082297]),\n",
       "        array([16.019     ,  4.08921007])], dtype=object)}"
      ]
     },
     "execution_count": 108,
     "metadata": {},
     "output_type": "execute_result"
    }
   ],
   "source": [
    "prgrpC2_11nmNR"
   ]
  },
  {
   "cell_type": "code",
   "execution_count": 112,
   "metadata": {},
   "outputs": [],
   "source": [
    "mean_11nmC2 = np.zeros(shape=5)\n",
    "std_11nmC2 = np.zeros(shape=5)\n",
    "count = 0\n",
    "for key, value in prgrpC2_11nmNR.items():\n",
    "    mpl_11nm = []\n",
    "    var_11nm = []\n",
    "    for i in prgrpC2_11nmNR[str(key)].flat:\n",
    "        mpl_11nm.append(i[0])\n",
    "        var_11nm.append((i[1])**2)\n",
    "    \n",
    "    # calc frac cont averages\n",
    "    mean_11nmC2[count] = np.mean(mpl_11nm)\n",
    "    \n",
    "    # calc frac cont std dev: https://stats.stackexchange.com/questions/25848/how-to-sum-a-standard-deviation \n",
    "    std_11nmC2[count] = np.std(mpl_11nm)\n",
    "    #std_15nm[count] = np.sqrt(np.sum(var_15nm)/5)\n",
    "    \n",
    "    count += 1\n"
   ]
  },
  {
   "cell_type": "code",
   "execution_count": 113,
   "metadata": {},
   "outputs": [
    {
     "data": {
      "text/plain": [
       "array([ 7.5214, 31.9007, 20.1511, 17.7161, 13.8189])"
      ]
     },
     "execution_count": 113,
     "metadata": {},
     "output_type": "execute_result"
    }
   ],
   "source": [
    "mean_11nmC2"
   ]
  },
  {
   "cell_type": "code",
   "execution_count": 114,
   "metadata": {},
   "outputs": [
    {
     "data": {
      "text/plain": [
       "array([2.23659968, 6.91338034, 4.57831706, 3.67742636, 1.82262523])"
      ]
     },
     "execution_count": 114,
     "metadata": {},
     "output_type": "execute_result"
    }
   ],
   "source": [
    "std_11nmC2"
   ]
  },
  {
   "cell_type": "code",
   "execution_count": 115,
   "metadata": {},
   "outputs": [
    {
     "data": {
      "application/vnd.jupyter.widget-view+json": {
       "model_id": "",
       "version_major": 2,
       "version_minor": 0
      },
      "text/plain": [
       "Canvas(toolbar=Toolbar(toolitems=[('Home', 'Reset original view', 'home', 'home'), ('Back', 'Back to previous …"
      ]
     },
     "metadata": {},
     "output_type": "display_data"
    },
    {
     "data": {
      "text/plain": [
       "Text(0, 0.5, 'No. of PLGA residues')"
      ]
     },
     "execution_count": 115,
     "metadata": {},
     "output_type": "execute_result"
    }
   ],
   "source": [
    "x_pos = np.arange(5)\n",
    "width = 0.35\n",
    "aa_types = [\"Negative\", \"Positive\", \"Polar\", \"Hydrophobic\", \"Aromatic\"]\n",
    "fig = plt.figure(figsize=(7,7))\n",
    "fig.canvas.layout.width = '500px'\n",
    "fig.canvas.layout.height = '400px'\n",
    "plt.bar(x_pos, mean_09nmC2, width, yerr=std_09nmC2, ecolor='black',capsize=5, color='royalblue')\n",
    "plt.bar(x_pos+width, mean_11nmC2, width, yerr=std_11nmC2, ecolor='black',capsize=5, color='c')\n",
    "plt.title(r'No. of PEG residues Rg restrained, Config 2', fontsize=15)\n",
    "plt.xticks(x_pos+width/2, labels=aa_types, fontsize=12)\n",
    "plt.legend(['Rg = 0.9 nm', 'Rg = 1.1 nm'], frameon=False)\n",
    "plt.ylabel(r'No. of PLGA residues', fontsize=15)"
   ]
  },
  {
   "cell_type": "markdown",
   "metadata": {},
   "source": [
    "### Protein/polymer contact map movie"
   ]
  },
  {
   "cell_type": "code",
   "execution_count": null,
   "metadata": {},
   "outputs": [],
   "source": [
    "fig = plt.figure(figsize=(10,10))\n",
    "\n",
    "# Set the axis and the plot titles pp\n",
    "\n",
    "plt.title(\"BSA/PLGA contact map 1.5 nm res.\", fontsize=22, loc='left')\n",
    "plt.xlabel(\"PLGA Residue No.\", fontsize=22)\n",
    "plt.ylabel(\"BSA Residue No.\", fontsize=20)\n",
    "\n",
    " # Set the axis range \n",
    "plt.ylim(583, 0)\n",
    "plt.xlim(0, 60)\n",
    "\n",
    "# Plot bands for each chain \n",
    "BANDS = (\n",
    "    (0, 20, \"purple\", \"B\"),\n",
    "    (20, 40, \"blue\", \"C\"),\n",
    "    (40, 60, \"green\", \"D\"),\n",
    ")\n",
    "    \n",
    "text_y = 0.98 # Close to the top\n",
    "for start, stop, color, band in BANDS:\n",
    "    plt.axvspan(start, stop,color=color, alpha=0.15)\n",
    "    text_x = middle_of_band(start,stop)\n",
    "    plt.text(\n",
    "        text_x,\n",
    "        text_y,\n",
    "        \"PLGA chain \" + band,\n",
    "        color=color,\n",
    "        fontsize=18,\n",
    "        transform=fig.gca().transAxes,\n",
    "        horizontalalignment='center',\n",
    "        verticalalignment='center',\n",
    "        style='italic',\n",
    "    )\n",
    "    \n",
    "plt.text(0.94, 1, \"Time [ns]:\", fontsize=20, transform=fig.gca().transAxes, horizontalalignment='right', verticalalignment='bottom')\n",
    "\n",
    "# Set tick label size\n",
    "fig.gca().tick_params(axis='both', which='major', labelsize=20)\n",
    "\n",
    "ims = []\n",
    "for i in range(10000):\n",
    "    data = trj_ppmap_15nm[i]\n",
    "    im = plt.imshow(data, aspect='auto', cmap='Greys')\n",
    "    t_sim = plt.text(1.03, 1, str(i/100), fontsize=20, transform=fig.gca().transAxes, horizontalalignment='right', verticalalignment='bottom')\n",
    "    ims.append([im, t_sim])\n",
    "    \n",
    "ani = animation.ArtistAnimation(fig, ims, blit=True, repeat=False)\n",
    "ani.save('1.5nm_res.mp4', writer='ffmpeg', fps=50, bitrate=100000)\n",
    "#plt.tight_layout()\n",
    "#plt.show()"
   ]
  },
  {
   "cell_type": "markdown",
   "metadata": {},
   "source": [
    "# 1.4 nm unrestrained Rg PEG 100 ns trajectory C2"
   ]
  },
  {
   "cell_type": "markdown",
   "metadata": {},
   "source": [
    "### Contact Analyis"
   ]
  },
  {
   "cell_type": "code",
   "execution_count": 116,
   "metadata": {},
   "outputs": [],
   "source": [
    "# Set up the MD Simulation\n",
    "u14nmNR_n20PEGC2 = mda.Universe(\"bsapeg_n20waterT2/C2_pegNoRes/1.4nmpeg_prodC2/bpeg_1.4nmNR.pdb\"\n",
    "                              , \"bsapeg_n20waterT2/C2_pegNoRes/1.4nmpeg_prodC2/C2NR_1.4nmbpeg.xtc\")"
   ]
  },
  {
   "cell_type": "code",
   "execution_count": 117,
   "metadata": {},
   "outputs": [
    {
     "data": {
      "text/plain": [
       "<Universe with 9665 atoms>"
      ]
     },
     "execution_count": 117,
     "metadata": {},
     "output_type": "execute_result"
    }
   ],
   "source": [
    "u14nmNR_n20PEGC2"
   ]
  },
  {
   "cell_type": "code",
   "execution_count": 118,
   "metadata": {},
   "outputs": [
    {
     "data": {
      "text/plain": [
       "10001"
      ]
     },
     "execution_count": 118,
     "metadata": {},
     "output_type": "execute_result"
    }
   ],
   "source": [
    "pn20C2_len14nmNR = len(u14nmNR_n20PEGC2.trajectory)\n",
    "pn20C2_len14nmNR"
   ]
  },
  {
   "cell_type": "code",
   "execution_count": 119,
   "metadata": {},
   "outputs": [
    {
     "data": {
      "text/plain": [
       "<AtomGroup with 183 atoms>"
      ]
     },
     "execution_count": 119,
     "metadata": {},
     "output_type": "execute_result"
    }
   ],
   "source": [
    "#Select all the PLGA residues, heavy atoms only \n",
    "pn20C2_14nmNR = u14nmNR_n20PEGC2.select_atoms(\"resname sPEG PEG tPEG and not type H\")\n",
    "pn20C2_14nmNR"
   ]
  },
  {
   "cell_type": "code",
   "execution_count": 120,
   "metadata": {},
   "outputs": [
    {
     "data": {
      "text/plain": [
       "<AtomGroup with 4653 atoms>"
      ]
     },
     "execution_count": 120,
     "metadata": {},
     "output_type": "execute_result"
    }
   ],
   "source": [
    "# Select BSA residues, heavy atoms only \n",
    "protC2_14nmNR = u14nmNR_n20PEGC2.select_atoms(\"protein and not type H\")\n",
    "protC2_14nmNR"
   ]
  },
  {
   "cell_type": "code",
   "execution_count": 124,
   "metadata": {},
   "outputs": [
    {
     "data": {
      "text/plain": [
       "216.04537139181048"
      ]
     },
     "execution_count": 124,
     "metadata": {},
     "output_type": "execute_result"
    }
   ],
   "source": [
    "#dmax = 4.0, protein group(4653 atoms), plga atom group (543 atoms), took 381.6 s (6 min 36s on 4 cores)\n",
    "start = 0\n",
    "end = pn20C2_len14nmNR - 1\n",
    "s_time = timeit.default_timer()\n",
    "h2diC2_14nmNR = aa_frmcount(protC2_14nmNR, pn20C2_14nmNR, dmax, u14nmNR_n20PEGC2, start, end)\n",
    "timeit.default_timer() - s_time\n",
    "#h2di_14nm"
   ]
  },
  {
   "cell_type": "code",
   "execution_count": 125,
   "metadata": {},
   "outputs": [
    {
     "data": {
      "text/plain": [
       "192"
      ]
     },
     "execution_count": 125,
     "metadata": {},
     "output_type": "execute_result"
    }
   ],
   "source": [
    "len(h2diC2_14nmNR.keys())"
   ]
  },
  {
   "cell_type": "code",
   "execution_count": 126,
   "metadata": {},
   "outputs": [
    {
     "data": {
      "text/html": [
       "<div>\n",
       "<style scoped>\n",
       "    .dataframe tbody tr th:only-of-type {\n",
       "        vertical-align: middle;\n",
       "    }\n",
       "\n",
       "    .dataframe tbody tr th {\n",
       "        vertical-align: top;\n",
       "    }\n",
       "\n",
       "    .dataframe thead th {\n",
       "        text-align: right;\n",
       "    }\n",
       "</style>\n",
       "<table border=\"1\" class=\"dataframe\">\n",
       "  <thead>\n",
       "    <tr style=\"text-align: right;\">\n",
       "      <th></th>\n",
       "      <th>BSA_des_res</th>\n",
       "      <th>mda_plga_frm_1.4nmNRC2</th>\n",
       "    </tr>\n",
       "  </thead>\n",
       "  <tbody>\n",
       "    <tr>\n",
       "      <th>0</th>\n",
       "      <td>ASP 1</td>\n",
       "      <td>7001.0</td>\n",
       "    </tr>\n",
       "    <tr>\n",
       "      <th>1</th>\n",
       "      <td>THR 2</td>\n",
       "      <td>7038.0</td>\n",
       "    </tr>\n",
       "    <tr>\n",
       "      <th>2</th>\n",
       "      <td>HIS 3</td>\n",
       "      <td>5762.0</td>\n",
       "    </tr>\n",
       "    <tr>\n",
       "      <th>3</th>\n",
       "      <td>LYS 4</td>\n",
       "      <td>6819.0</td>\n",
       "    </tr>\n",
       "    <tr>\n",
       "      <th>4</th>\n",
       "      <td>SER 5</td>\n",
       "      <td>1024.0</td>\n",
       "    </tr>\n",
       "  </tbody>\n",
       "</table>\n",
       "</div>"
      ],
      "text/plain": [
       "  BSA_des_res  mda_plga_frm_1.4nmNRC2\n",
       "0       ASP 1                  7001.0\n",
       "1       THR 2                  7038.0\n",
       "2       HIS 3                  5762.0\n",
       "3       LYS 4                  6819.0\n",
       "4       SER 5                  1024.0"
      ]
     },
     "execution_count": 126,
     "metadata": {},
     "output_type": "execute_result"
    }
   ],
   "source": [
    "prC2_res14nmNR = list(protC2_14nmNR.residues)\n",
    "ssC2_res14nmNR = [str(row) for row in prC2_res14nmNR]\n",
    "rkgC2_14nmNR = {key:h2diC2_14nmNR[key][0] for key, value in h2diC2_14nmNR.items()}\n",
    "plgC2_14nmaaNR = pd.DataFrame(data=ssC2_res14nmNR, columns=[\"BSA_des_res\"])\n",
    "plgC2_14nmaaNR['mda_plga_frm_1.4nmNRC2'] = plgC2_14nmaaNR['BSA_des_res'].map(rkgC2_14nmNR)\n",
    "plgC2_14nmaaNR['BSA_des_res'] = red_bsa\n",
    "plgC2_14nmaaNR['mda_plga_frm_1.4nmNRC2'] = plgC2_14nmaaNR['mda_plga_frm_1.4nmNRC2'].replace('nan', np.nan).fillna(0)\n",
    "plgC2_14nmaaNR.head()"
   ]
  },
  {
   "cell_type": "code",
   "execution_count": 127,
   "metadata": {},
   "outputs": [
    {
     "data": {
      "text/html": [
       "<div>\n",
       "<style scoped>\n",
       "    .dataframe tbody tr th:only-of-type {\n",
       "        vertical-align: middle;\n",
       "    }\n",
       "\n",
       "    .dataframe tbody tr th {\n",
       "        vertical-align: top;\n",
       "    }\n",
       "\n",
       "    .dataframe thead th {\n",
       "        text-align: right;\n",
       "    }\n",
       "</style>\n",
       "<table border=\"1\" class=\"dataframe\">\n",
       "  <thead>\n",
       "    <tr style=\"text-align: right;\">\n",
       "      <th></th>\n",
       "      <th>BSA_des_res</th>\n",
       "      <th>mda_occ_0.9nmNRC2</th>\n",
       "      <th>mda_occ_1.1nmNRC2</th>\n",
       "      <th>mda_occ_1.4nmNRC2</th>\n",
       "    </tr>\n",
       "  </thead>\n",
       "  <tbody>\n",
       "    <tr>\n",
       "      <th>0</th>\n",
       "      <td>&lt;Residue ASP, 1&gt;</td>\n",
       "      <td>0.01</td>\n",
       "      <td>0.0</td>\n",
       "      <td>0.70</td>\n",
       "    </tr>\n",
       "    <tr>\n",
       "      <th>1</th>\n",
       "      <td>&lt;Residue THR, 2&gt;</td>\n",
       "      <td>0.06</td>\n",
       "      <td>0.0</td>\n",
       "      <td>0.70</td>\n",
       "    </tr>\n",
       "    <tr>\n",
       "      <th>2</th>\n",
       "      <td>&lt;Residue HIS, 3&gt;</td>\n",
       "      <td>0.04</td>\n",
       "      <td>0.0</td>\n",
       "      <td>0.58</td>\n",
       "    </tr>\n",
       "    <tr>\n",
       "      <th>3</th>\n",
       "      <td>&lt;Residue LYS, 4&gt;</td>\n",
       "      <td>0.01</td>\n",
       "      <td>0.0</td>\n",
       "      <td>0.68</td>\n",
       "    </tr>\n",
       "    <tr>\n",
       "      <th>4</th>\n",
       "      <td>&lt;Residue SER, 5&gt;</td>\n",
       "      <td>0.00</td>\n",
       "      <td>0.0</td>\n",
       "      <td>0.10</td>\n",
       "    </tr>\n",
       "    <tr>\n",
       "      <th>...</th>\n",
       "      <td>...</td>\n",
       "      <td>...</td>\n",
       "      <td>...</td>\n",
       "      <td>...</td>\n",
       "    </tr>\n",
       "    <tr>\n",
       "      <th>578</th>\n",
       "      <td>&lt;Residue GLN, 579&gt;</td>\n",
       "      <td>0.03</td>\n",
       "      <td>0.0</td>\n",
       "      <td>0.05</td>\n",
       "    </tr>\n",
       "    <tr>\n",
       "      <th>579</th>\n",
       "      <td>&lt;Residue THR, 580&gt;</td>\n",
       "      <td>0.30</td>\n",
       "      <td>0.0</td>\n",
       "      <td>0.47</td>\n",
       "    </tr>\n",
       "    <tr>\n",
       "      <th>580</th>\n",
       "      <td>&lt;Residue ALA, 581&gt;</td>\n",
       "      <td>0.08</td>\n",
       "      <td>0.0</td>\n",
       "      <td>0.32</td>\n",
       "    </tr>\n",
       "    <tr>\n",
       "      <th>581</th>\n",
       "      <td>&lt;Residue LEU, 582&gt;</td>\n",
       "      <td>0.00</td>\n",
       "      <td>0.0</td>\n",
       "      <td>0.09</td>\n",
       "    </tr>\n",
       "    <tr>\n",
       "      <th>582</th>\n",
       "      <td>&lt;Residue ALA, 583&gt;</td>\n",
       "      <td>0.00</td>\n",
       "      <td>0.0</td>\n",
       "      <td>0.18</td>\n",
       "    </tr>\n",
       "  </tbody>\n",
       "</table>\n",
       "<p>583 rows × 4 columns</p>\n",
       "</div>"
      ],
      "text/plain": [
       "            BSA_des_res  mda_occ_0.9nmNRC2  mda_occ_1.1nmNRC2  \\\n",
       "0      <Residue ASP, 1>               0.01                0.0   \n",
       "1      <Residue THR, 2>               0.06                0.0   \n",
       "2      <Residue HIS, 3>               0.04                0.0   \n",
       "3      <Residue LYS, 4>               0.01                0.0   \n",
       "4      <Residue SER, 5>               0.00                0.0   \n",
       "..                  ...                ...                ...   \n",
       "578  <Residue GLN, 579>               0.03                0.0   \n",
       "579  <Residue THR, 580>               0.30                0.0   \n",
       "580  <Residue ALA, 581>               0.08                0.0   \n",
       "581  <Residue LEU, 582>               0.00                0.0   \n",
       "582  <Residue ALA, 583>               0.00                0.0   \n",
       "\n",
       "     mda_occ_1.4nmNRC2  \n",
       "0                 0.70  \n",
       "1                 0.70  \n",
       "2                 0.58  \n",
       "3                 0.68  \n",
       "4                 0.10  \n",
       "..                 ...  \n",
       "578               0.05  \n",
       "579               0.47  \n",
       "580               0.32  \n",
       "581               0.09  \n",
       "582               0.18  \n",
       "\n",
       "[583 rows x 4 columns]"
      ]
     },
     "execution_count": 127,
     "metadata": {},
     "output_type": "execute_result"
    }
   ],
   "source": [
    "# Extract mean occupancy values\n",
    "pr_res_14ur = list(protC2_14nmNR.residues)\n",
    "ss_res_14ur = [str(row) for row in pr_res_14ur]\n",
    "rkgC2_14NR = {key:h2diC2_14nmNR[key][1] for key, value in h2diC2_14nmNR.items()}\n",
    "plgC2_09nmNR_occ['mda_occ_1.4nmNRC2'] = plgC2_09nmNR_occ['BSA_des_res'].map(rkgC2_14NR)\n",
    "plgC2_09nmNR_occ['mda_occ_1.4nmNRC2'] = plgC2_09nmNR_occ['mda_occ_1.4nmNRC2'].replace('nan', np.nan).fillna(0)\n",
    "plgC2_09nmNR_occ['mda_occ_1.4nmNRC2'] = plgC2_09nmNR_occ['mda_occ_1.4nmNRC2'].round(2)\n",
    "plgC2_09nmNR_occ"
   ]
  },
  {
   "cell_type": "code",
   "execution_count": 129,
   "metadata": {},
   "outputs": [],
   "source": [
    "bsa14C2_NR = np.array(list(protC2_14nmNR.resids)) # shape is 4652\n",
    "mC2_occ_14nmNR = np.array(list(plgC2_09nmNR_occ['mda_occ_1.4nmNRC2'])) # shape is 583\n",
    "mC2_occ_14New = np.zeros(shape=(4653))\n",
    "at_ind = np.where(bsaC2_NR[:-1] != bsa14C2_NR[1:])[0]\n",
    "at_in_nw = np.sort(np.append([0,4653],at_ind))\n",
    "nw_v = 0\n",
    "for i in range(583):\n",
    "    b = at_in_nw[i+1] +1\n",
    "    mC2_occ_14New[nw_v:b] = mC2_occ_14nmNR[i]\n",
    "    nw_v = at_in_nw[i+1] + 1 "
   ]
  },
  {
   "cell_type": "code",
   "execution_count": 130,
   "metadata": {},
   "outputs": [
    {
     "data": {
      "text/plain": [
       "(array([   0,    1,    2, ..., 4650, 4651, 4652]),)"
      ]
     },
     "execution_count": 130,
     "metadata": {},
     "output_type": "execute_result"
    }
   ],
   "source": [
    "np.nonzero(mC2_occ_14New)"
   ]
  },
  {
   "cell_type": "markdown",
   "metadata": {},
   "source": [
    "### Visualize Occupanct on protein "
   ]
  },
  {
   "cell_type": "code",
   "execution_count": 131,
   "metadata": {},
   "outputs": [
    {
     "data": {
      "text/plain": [
       "array([0.7 , 0.7 , 0.7 , ..., 0.18, 0.18, 0.18])"
      ]
     },
     "execution_count": 131,
     "metadata": {},
     "output_type": "execute_result"
    }
   ],
   "source": [
    "protC2_14nmNR.occupancies = mC2_occ_14New\n",
    "protC2_14nmNR.occupancies"
   ]
  },
  {
   "cell_type": "code",
   "execution_count": 132,
   "metadata": {},
   "outputs": [],
   "source": [
    "with mda.Writer(\"prot14nm_NoResC2.pdb\") as pdb:\n",
    "    pdb.write(protC2_14nmNR)"
   ]
  },
  {
   "cell_type": "markdown",
   "metadata": {},
   "source": [
    "### Residue Importance: 1.4 nm unrestrained "
   ]
  },
  {
   "cell_type": "code",
   "execution_count": 133,
   "metadata": {},
   "outputs": [],
   "source": [
    "# Need to fix function, the residue number are not counting the other 2 PLGA oligomers cuz of same resid number\n",
    "trjmapC2_14nmPEGNR = prot_poly_cntmovie(protC2_14nmNR, pn20C2_14nmNR, dmax, u14nmNR_n20PEGC2, 0, 10000)\n",
    "#trj_ppmap_12nm_chC = prot_poly_cntmovie(prot, all_pn20_C, dmax, u_pn20, 0, 10000)"
   ]
  },
  {
   "cell_type": "code",
   "execution_count": 134,
   "metadata": {},
   "outputs": [],
   "source": [
    "np.save('1.4nmPEG_NoResC2.npy', trjmapC2_14nmPEGNR)    # .npy extension is added if not given"
   ]
  },
  {
   "cell_type": "code",
   "execution_count": null,
   "metadata": {},
   "outputs": [],
   "source": [
    "trjmapC2_14nmPEGNR = np.load('1.4nm_NoRes.npy', allow_pickle=True)\n",
    "trjmapC2_14nmPEGNR"
   ]
  },
  {
   "cell_type": "code",
   "execution_count": 135,
   "metadata": {},
   "outputs": [
    {
     "data": {
      "text/plain": [
       "(583, 60)"
      ]
     },
     "execution_count": 135,
     "metadata": {},
     "output_type": "execute_result"
    }
   ],
   "source": [
    "trjmapC2_14nmPEGNR[0].shape"
   ]
  },
  {
   "cell_type": "code",
   "execution_count": 136,
   "metadata": {},
   "outputs": [
    {
     "data": {
      "text/plain": [
       "0.0"
      ]
     },
     "execution_count": 136,
     "metadata": {},
     "output_type": "execute_result"
    }
   ],
   "source": [
    "np.sum(trjmapC2_14nmPEGNR[1000][0])"
   ]
  },
  {
   "cell_type": "code",
   "execution_count": 137,
   "metadata": {},
   "outputs": [
    {
     "data": {
      "text/plain": [
       "(10000,)"
      ]
     },
     "execution_count": 137,
     "metadata": {},
     "output_type": "execute_result"
    }
   ],
   "source": [
    "kj = np.zeros(shape=(10000, 583))\n",
    "kj[:,582].shape"
   ]
  },
  {
   "cell_type": "code",
   "execution_count": 138,
   "metadata": {},
   "outputs": [],
   "source": [
    "ppC2_14nmNR_ct = np.zeros(shape=(10000, 583))\n",
    "for i in range(10000):\n",
    "    for j in range(583):\n",
    "        ppC2_14nmNR_ct[i][j] = np.sum(trjmapC2_14nmPEGNR[i][j])"
   ]
  },
  {
   "cell_type": "code",
   "execution_count": 139,
   "metadata": {},
   "outputs": [],
   "source": [
    "ppC2_14nmtotNR = np.zeros(shape=(583))\n",
    "for i in range(583):\n",
    "    ppC2_14nmtotNR[i] = np.sum(ppC2_14nmNR_ct[:,i])\n",
    "#pp_12nmtot"
   ]
  },
  {
   "cell_type": "code",
   "execution_count": 140,
   "metadata": {},
   "outputs": [
    {
     "data": {
      "text/plain": [
       "(array([  0,   1,   2,   3,   4,   5,   7,   8,   9,  10,  11,  12,  14,\n",
       "         44,  47,  48,  50,  51,  52,  53,  54,  55,  56,  57,  58,  59,\n",
       "         61,  62,  63,  64,  66,  67,  93,  94,  95,  96,  98,  99, 102,\n",
       "        103, 105, 110, 111, 112, 113, 114, 115, 146, 184, 201, 202, 203,\n",
       "        204, 205, 206, 207, 210, 225, 226, 227, 228, 230, 231, 234, 235,\n",
       "        238, 239, 241, 242, 244, 245, 247, 250, 253, 254, 257, 258, 260,\n",
       "        261, 263, 264, 265, 268, 269, 284, 310, 312, 315, 316, 318, 319,\n",
       "        320, 321, 322, 323, 324, 325, 327, 352, 396, 407, 408, 411, 414,\n",
       "        415, 418, 419, 460, 463, 464, 465, 466, 470, 476, 477, 488, 490,\n",
       "        491, 492, 493, 494, 495, 496, 497, 498, 499, 501, 502, 503, 504,\n",
       "        505, 506, 507, 508, 509, 510, 511, 512, 514, 516, 518, 519, 520,\n",
       "        522, 523, 529, 533, 534, 535, 536, 537, 538, 539, 540, 541, 543,\n",
       "        544, 545, 547, 548, 550, 551, 552, 553, 554, 555, 556, 557, 558,\n",
       "        559, 560, 561, 563, 564, 565, 566, 567, 568, 569, 571, 572, 573,\n",
       "        574, 575, 576, 577, 578, 579, 580, 581, 582]),)"
      ]
     },
     "execution_count": 140,
     "metadata": {},
     "output_type": "execute_result"
    }
   ],
   "source": [
    "np.nonzero(ppC2_14nmtotNR)"
   ]
  },
  {
   "cell_type": "code",
   "execution_count": 141,
   "metadata": {},
   "outputs": [],
   "source": [
    "a_peg = np.sum(ppC2_14nmtotNR)"
   ]
  },
  {
   "cell_type": "code",
   "execution_count": 142,
   "metadata": {},
   "outputs": [],
   "source": [
    "b_peg = np.sum(ppC2_11nmtotNR)"
   ]
  },
  {
   "cell_type": "code",
   "execution_count": 143,
   "metadata": {},
   "outputs": [],
   "source": [
    "c_peg = np.sum(ppC2_09nmtotNR)"
   ]
  },
  {
   "cell_type": "code",
   "execution_count": null,
   "metadata": {},
   "outputs": [],
   "source": [
    "plt.close('all')"
   ]
  },
  {
   "cell_type": "code",
   "execution_count": 187,
   "metadata": {},
   "outputs": [
    {
     "data": {
      "application/vnd.jupyter.widget-view+json": {
       "model_id": "9bda53e561f3465783dbb90eb3672ce9",
       "version_major": 2,
       "version_minor": 0
      },
      "text/plain": [
       "Canvas(toolbar=Toolbar(toolitems=[('Home', 'Reset original view', 'home', 'home'), ('Back', 'Back to previous …"
      ]
     },
     "metadata": {},
     "output_type": "display_data"
    },
    {
     "data": {
      "text/plain": [
       "Text(0.5, 0, 'BSA Residue ID')"
      ]
     },
     "execution_count": 187,
     "metadata": {},
     "output_type": "execute_result"
    }
   ],
   "source": [
    "y_pos = np.arange(583) + 1\n",
    "wid = np.zeros(shape=583)\n",
    "wid += 1.5\n",
    "#wid\n",
    "fig = plt.figure(figsize=(12,12))\n",
    "fig.canvas.layout.width = '800px'\n",
    "fig.canvas.layout.height = '700px'\n",
    "#plt.bar(y_pos, ppC2_09nmtotNR/c_peg, align='center',width=wid, alpha=0.5, color='#1D77CF',label='0.9 nm PEG')\n",
    "#plt.bar(y_pos+0.25, ppC2_11nmtotNR/b_peg, align='center',width=wid, color='#562A8B', alpha=0.3, label='1.1 nm PEG')\n",
    "plt.bar(y_pos+0.3, ppC2_14nmtotNR/a_peg, align='center',width=wid, color='#4E4C4D', alpha=0.3, label='1.4 nm PEG')\n",
    "#plt.bar(y_pos+0.25, pp_11nmtot/b_peg, align='center',width=wid, color='#562A8B', alpha=0.3, label='1.1 nm PEG')\n",
    "#plt.bar(y_pos, pp_09nmtot/c_peg, align='center',width=wid, alpha=0.5, color='#1D77CF',label='0.9 nm PEG')\n",
    "plt.title(\"BSA in water with PEG Unrestrained, 100 ns, Config. 2\", fontsize=16)\n",
    "plt.xticks(fontsize=16)\n",
    "plt.yticks(fontsize=16)\n",
    "plt.xlim([0,600])\n",
    "plt.ylim([0,0.2])\n",
    "plt.legend(fontsize=16)\n",
    "plt.ylabel(r'Normalized Total No. of PEG contacts', fontsize=16)\n",
    "plt.xlabel(r'BSA Residue ID', fontsize=16)"
   ]
  },
  {
   "cell_type": "markdown",
   "metadata": {},
   "source": [
    "### Total number of residues that are within 4 angstroms of a PEG oligomer residue within a 100 ns trajectory block"
   ]
  },
  {
   "cell_type": "code",
   "execution_count": 145,
   "metadata": {},
   "outputs": [
    {
     "data": {
      "text/html": [
       "<div>\n",
       "<style scoped>\n",
       "    .dataframe tbody tr th:only-of-type {\n",
       "        vertical-align: middle;\n",
       "    }\n",
       "\n",
       "    .dataframe tbody tr th {\n",
       "        vertical-align: top;\n",
       "    }\n",
       "\n",
       "    .dataframe thead th {\n",
       "        text-align: right;\n",
       "    }\n",
       "</style>\n",
       "<table border=\"1\" class=\"dataframe\">\n",
       "  <thead>\n",
       "    <tr style=\"text-align: right;\">\n",
       "      <th></th>\n",
       "      <th>Amino_acids</th>\n",
       "      <th>No_of_surf_res (MDAnalysis)</th>\n",
       "      <th>No_of_surf_res (VMD)</th>\n",
       "      <th>pegC2_0.9nmNR_100ns</th>\n",
       "      <th>pegC2_1.1nmNR_100ns</th>\n",
       "      <th>pegC2_1.4nmNR_100ns</th>\n",
       "    </tr>\n",
       "  </thead>\n",
       "  <tbody>\n",
       "    <tr>\n",
       "      <th>0</th>\n",
       "      <td>LYS</td>\n",
       "      <td>59</td>\n",
       "      <td>59</td>\n",
       "      <td>23</td>\n",
       "      <td>16</td>\n",
       "      <td>29</td>\n",
       "    </tr>\n",
       "    <tr>\n",
       "      <th>1</th>\n",
       "      <td>ARG</td>\n",
       "      <td>23</td>\n",
       "      <td>23</td>\n",
       "      <td>12</td>\n",
       "      <td>6</td>\n",
       "      <td>5</td>\n",
       "    </tr>\n",
       "    <tr>\n",
       "      <th>2</th>\n",
       "      <td>HIS</td>\n",
       "      <td>16</td>\n",
       "      <td>16</td>\n",
       "      <td>7</td>\n",
       "      <td>2</td>\n",
       "      <td>7</td>\n",
       "    </tr>\n",
       "    <tr>\n",
       "      <th>3</th>\n",
       "      <td>ASP</td>\n",
       "      <td>40</td>\n",
       "      <td>40</td>\n",
       "      <td>18</td>\n",
       "      <td>9</td>\n",
       "      <td>20</td>\n",
       "    </tr>\n",
       "    <tr>\n",
       "      <th>4</th>\n",
       "      <td>GLU</td>\n",
       "      <td>59</td>\n",
       "      <td>59</td>\n",
       "      <td>28</td>\n",
       "      <td>21</td>\n",
       "      <td>26</td>\n",
       "    </tr>\n",
       "    <tr>\n",
       "      <th>5</th>\n",
       "      <td>SER</td>\n",
       "      <td>23</td>\n",
       "      <td>23</td>\n",
       "      <td>10</td>\n",
       "      <td>5</td>\n",
       "      <td>6</td>\n",
       "    </tr>\n",
       "    <tr>\n",
       "      <th>6</th>\n",
       "      <td>THR</td>\n",
       "      <td>29</td>\n",
       "      <td>29</td>\n",
       "      <td>17</td>\n",
       "      <td>9</td>\n",
       "      <td>16</td>\n",
       "    </tr>\n",
       "    <tr>\n",
       "      <th>7</th>\n",
       "      <td>CYS</td>\n",
       "      <td>24</td>\n",
       "      <td>24</td>\n",
       "      <td>12</td>\n",
       "      <td>6</td>\n",
       "      <td>8</td>\n",
       "    </tr>\n",
       "    <tr>\n",
       "      <th>8</th>\n",
       "      <td>TYR</td>\n",
       "      <td>19</td>\n",
       "      <td>19</td>\n",
       "      <td>7</td>\n",
       "      <td>7</td>\n",
       "      <td>3</td>\n",
       "    </tr>\n",
       "    <tr>\n",
       "      <th>9</th>\n",
       "      <td>ASN</td>\n",
       "      <td>14</td>\n",
       "      <td>14</td>\n",
       "      <td>5</td>\n",
       "      <td>5</td>\n",
       "      <td>4</td>\n",
       "    </tr>\n",
       "    <tr>\n",
       "      <th>10</th>\n",
       "      <td>GLN</td>\n",
       "      <td>19</td>\n",
       "      <td>19</td>\n",
       "      <td>7</td>\n",
       "      <td>6</td>\n",
       "      <td>7</td>\n",
       "    </tr>\n",
       "    <tr>\n",
       "      <th>11</th>\n",
       "      <td>GLY</td>\n",
       "      <td>11</td>\n",
       "      <td>11</td>\n",
       "      <td>2</td>\n",
       "      <td>2</td>\n",
       "      <td>2</td>\n",
       "    </tr>\n",
       "    <tr>\n",
       "      <th>12</th>\n",
       "      <td>ALA</td>\n",
       "      <td>39</td>\n",
       "      <td>38</td>\n",
       "      <td>17</td>\n",
       "      <td>11</td>\n",
       "      <td>16</td>\n",
       "    </tr>\n",
       "    <tr>\n",
       "      <th>13</th>\n",
       "      <td>VAL</td>\n",
       "      <td>19</td>\n",
       "      <td>19</td>\n",
       "      <td>8</td>\n",
       "      <td>7</td>\n",
       "      <td>12</td>\n",
       "    </tr>\n",
       "    <tr>\n",
       "      <th>14</th>\n",
       "      <td>LEU</td>\n",
       "      <td>34</td>\n",
       "      <td>34</td>\n",
       "      <td>14</td>\n",
       "      <td>14</td>\n",
       "      <td>10</td>\n",
       "    </tr>\n",
       "    <tr>\n",
       "      <th>15</th>\n",
       "      <td>ILE</td>\n",
       "      <td>7</td>\n",
       "      <td>7</td>\n",
       "      <td>3</td>\n",
       "      <td>1</td>\n",
       "      <td>3</td>\n",
       "    </tr>\n",
       "    <tr>\n",
       "      <th>16</th>\n",
       "      <td>MET</td>\n",
       "      <td>3</td>\n",
       "      <td>3</td>\n",
       "      <td>1</td>\n",
       "      <td>2</td>\n",
       "      <td>0</td>\n",
       "    </tr>\n",
       "    <tr>\n",
       "      <th>17</th>\n",
       "      <td>PHE</td>\n",
       "      <td>20</td>\n",
       "      <td>20</td>\n",
       "      <td>9</td>\n",
       "      <td>7</td>\n",
       "      <td>9</td>\n",
       "    </tr>\n",
       "    <tr>\n",
       "      <th>18</th>\n",
       "      <td>TRP</td>\n",
       "      <td>2</td>\n",
       "      <td>2</td>\n",
       "      <td>0</td>\n",
       "      <td>0</td>\n",
       "      <td>0</td>\n",
       "    </tr>\n",
       "    <tr>\n",
       "      <th>19</th>\n",
       "      <td>PRO</td>\n",
       "      <td>27</td>\n",
       "      <td>27</td>\n",
       "      <td>12</td>\n",
       "      <td>8</td>\n",
       "      <td>9</td>\n",
       "    </tr>\n",
       "  </tbody>\n",
       "</table>\n",
       "</div>"
      ],
      "text/plain": [
       "   Amino_acids  No_of_surf_res (MDAnalysis)  No_of_surf_res (VMD)  \\\n",
       "0          LYS                           59                    59   \n",
       "1          ARG                           23                    23   \n",
       "2          HIS                           16                    16   \n",
       "3          ASP                           40                    40   \n",
       "4          GLU                           59                    59   \n",
       "5          SER                           23                    23   \n",
       "6          THR                           29                    29   \n",
       "7          CYS                           24                    24   \n",
       "8          TYR                           19                    19   \n",
       "9          ASN                           14                    14   \n",
       "10         GLN                           19                    19   \n",
       "11         GLY                           11                    11   \n",
       "12         ALA                           39                    38   \n",
       "13         VAL                           19                    19   \n",
       "14         LEU                           34                    34   \n",
       "15         ILE                            7                     7   \n",
       "16         MET                            3                     3   \n",
       "17         PHE                           20                    20   \n",
       "18         TRP                            2                     2   \n",
       "19         PRO                           27                    27   \n",
       "\n",
       "    pegC2_0.9nmNR_100ns  pegC2_1.1nmNR_100ns  pegC2_1.4nmNR_100ns  \n",
       "0                    23                   16                   29  \n",
       "1                    12                    6                    5  \n",
       "2                     7                    2                    7  \n",
       "3                    18                    9                   20  \n",
       "4                    28                   21                   26  \n",
       "5                    10                    5                    6  \n",
       "6                    17                    9                   16  \n",
       "7                    12                    6                    8  \n",
       "8                     7                    7                    3  \n",
       "9                     5                    5                    4  \n",
       "10                    7                    6                    7  \n",
       "11                    2                    2                    2  \n",
       "12                   17                   11                   16  \n",
       "13                    8                    7                   12  \n",
       "14                   14                   14                   10  \n",
       "15                    3                    1                    3  \n",
       "16                    1                    2                    0  \n",
       "17                    9                    7                    9  \n",
       "18                    0                    0                    0  \n",
       "19                   12                    8                    9  "
      ]
     },
     "execution_count": 145,
     "metadata": {},
     "output_type": "execute_result"
    }
   ],
   "source": [
    "apl_14nmNR = []\n",
    "\n",
    "# Some residues don't have any contact with the 3 N = 20 PLGA oligomers within 100 ns,\n",
    "# Put residues that do have contact with BSA in a separate list\n",
    "for index, r_pl in plgC2_14nmaaNR.iterrows():\n",
    "    if r_pl['mda_plga_frm_1.4nmNRC2'] != 0:\n",
    "        apl_14nmNR.append(r_pl['BSA_des_res'])\n",
    "        \n",
    "# This chunk of code gets an AA count from the above list, in order \n",
    "# to get a total number of residues that contact BSA\n",
    "cpl_14nmNR = []\n",
    "\n",
    "for index, r_a in aa_count.iterrows():\n",
    "    count = 0\n",
    "    for i in range(len(apl_14nmNR)):\n",
    "        if r_a['Amino_acids'] in apl_14nmNR[i]:\n",
    "            count += 1\n",
    "    cpl_14nmNR.append(count)      \n",
    "        \n",
    "aa_count['pegC2_1.4nmNR_100ns'] = cpl_14nmNR\n",
    "#aa_count.drop('No_of_surf_res (VMD)', axis=1, inplace=True)\n",
    "aa_count"
   ]
  },
  {
   "cell_type": "code",
   "execution_count": 146,
   "metadata": {},
   "outputs": [
    {
     "data": {
      "text/plain": [
       "192"
      ]
     },
     "execution_count": 146,
     "metadata": {},
     "output_type": "execute_result"
    }
   ],
   "source": [
    "# This gives the total number of residues that are within 4 angstroms of a PLGA oligomer residue\n",
    "# within a 100 ns trajectory block\n",
    "aa_count['pegC2_1.4nmNR_100ns'].sum()"
   ]
  },
  {
   "cell_type": "code",
   "execution_count": 147,
   "metadata": {},
   "outputs": [
    {
     "data": {
      "text/plain": [
       "487"
      ]
     },
     "execution_count": 147,
     "metadata": {},
     "output_type": "execute_result"
    }
   ],
   "source": [
    "# This gives the total number of residues that are within 4 angstroms of a water molecule\n",
    "# within a 1 ns trajectory block\n",
    "aa_count['No_of_surf_res (MDAnalysis)'].sum()"
   ]
  },
  {
   "cell_type": "code",
   "execution_count": 148,
   "metadata": {},
   "outputs": [
    {
     "data": {
      "text/plain": [
       "0.3942505133470226"
      ]
     },
     "execution_count": 148,
     "metadata": {},
     "output_type": "execute_result"
    }
   ],
   "source": [
    "# This gives the total fraction of contacts within the 1.2 nm Rg 100 ns trajectory\n",
    "aa_count['pegC2_1.4nmNR_100ns'].sum()/aa_count['No_of_surf_res (MDAnalysis)'].sum()"
   ]
  },
  {
   "cell_type": "code",
   "execution_count": 149,
   "metadata": {},
   "outputs": [
    {
     "name": "stdout",
     "output_type": "stream",
     "text": [
      "Mean Occpancy (1.4 nm Rg): 0.08028489583333333 Occ. std. dev.: 0.13628252605261182\n"
     ]
    }
   ],
   "source": [
    "# Mean occupancy and std deviation \n",
    "ll_mo14nm = [value[1] for key, value in h2diC2_14nmNR.items()]\n",
    "print(\"Mean Occpancy (1.4 nm Rg): \"+str(np.mean(ll_mo14nm)), \"Occ. std. dev.: \"+str(np.std(ll_mo14nm)))"
   ]
  },
  {
   "cell_type": "code",
   "execution_count": 150,
   "metadata": {},
   "outputs": [
    {
     "data": {
      "text/plain": [
       "{'Negative': [36743.0, 46, 153362.08695652173, 0.19279509687403182],\n",
       " 'Positive': [40621.0, 41, 190225.17073170733, 0.23913654897964448],\n",
       " 'Polar': [42547.0, 44, 185659.63636363638, 0.23339710803800223],\n",
       " 'Hydrophobic': [34236.0, 61, 107759.21311475411, 0.13546664852975243],\n",
       " 'Aromatic': [15681.0, 19, 158460.6315789474, 0.19920459757856906]}"
      ]
     },
     "execution_count": 150,
     "metadata": {},
     "output_type": "execute_result"
    }
   ],
   "source": [
    "cd_14NRnm = frac_cont(h2diC2_14nmNR)\n",
    "cd_14NRnm"
   ]
  },
  {
   "cell_type": "markdown",
   "metadata": {},
   "source": [
    "### Calc. fractional contacts for each AA group type "
   ]
  },
  {
   "cell_type": "code",
   "execution_count": 151,
   "metadata": {},
   "outputs": [
    {
     "name": "stdout",
     "output_type": "stream",
     "text": [
      "0\n",
      "2000\n",
      "2000\n",
      "4000\n",
      "4000\n",
      "6000\n",
      "6000\n",
      "8000\n",
      "8000\n",
      "10000\n"
     ]
    }
   ],
   "source": [
    "fcntC2_rg14nmNR, prgrpC2_14nmNR, aa_matxC2_14nmNR = bavg_frac_cnt(5, protC2_14nmNR, pn20C2_14nmNR, dmax\n",
    "                                                                  , u14nmNR_n20PEGC2, no_surf, 0, 10000)"
   ]
  },
  {
   "cell_type": "code",
   "execution_count": 152,
   "metadata": {},
   "outputs": [
    {
     "data": {
      "text/plain": [
       "{'Negative': array([0.19133871, 0.13890481, 0.15207755, 0.17840408, 0.20347158]),\n",
       " 'Positive': array([0.182228  , 0.20041814, 0.25378444, 0.22448271, 0.23714304]),\n",
       " 'Polar': array([0.30865804, 0.26280296, 0.20509779, 0.28272453, 0.17685606]),\n",
       " 'Hydrophobic': array([0.19519338, 0.16109075, 0.10962789, 0.107809  , 0.15987736]),\n",
       " 'Aromatic': array([0.12258186, 0.23678335, 0.27941233, 0.20657968, 0.22265196]),\n",
       " 'total_frac': array([0.20328542, 0.16632444, 0.11293634, 0.15811088, 0.21149897])}"
      ]
     },
     "execution_count": 152,
     "metadata": {},
     "output_type": "execute_result"
    }
   ],
   "source": [
    "fcntC2_rg14nmNR"
   ]
  },
  {
   "cell_type": "code",
   "execution_count": 153,
   "metadata": {},
   "outputs": [
    {
     "data": {
      "text/plain": [
       "array([0.17283934, 0.21961127, 0.24722788, 0.14671968, 0.21360184])"
      ]
     },
     "execution_count": 153,
     "metadata": {},
     "output_type": "execute_result"
    }
   ],
   "source": [
    "fc14nmC2_meanNR = np.array([np.mean(fcntC2_rg14nmNR['Negative']), np.mean(fcntC2_rg14nmNR['Positive'])\n",
    "                        ,np.mean(fcntC2_rg14nmNR['Polar']),np.mean(fcntC2_rg14nmNR['Hydrophobic'])\n",
    "                        , np.mean(fcntC2_rg14nmNR['Aromatic'])])\n",
    "fc14nmC2_meanNR"
   ]
  },
  {
   "cell_type": "code",
   "execution_count": 154,
   "metadata": {},
   "outputs": [
    {
     "data": {
      "text/plain": [
       "array([0.02405881, 0.02555302, 0.04899673, 0.0335237 , 0.05154465])"
      ]
     },
     "execution_count": 154,
     "metadata": {},
     "output_type": "execute_result"
    }
   ],
   "source": [
    "fc14nmC2_stdNR = np.array([np.std(fcntC2_rg14nmNR['Negative']), np.std(fcntC2_rg14nmNR['Positive'])\n",
    "                       ,np.std(fcntC2_rg14nmNR['Polar']),np.std(fcntC2_rg14nmNR['Hydrophobic'])\n",
    "                       , np.std(fcntC2_rg14nmNR['Aromatic'])])\n",
    "fc14nmC2_stdNR"
   ]
  },
  {
   "cell_type": "code",
   "execution_count": 176,
   "metadata": {},
   "outputs": [],
   "source": [
    "plt.close(\"all\")"
   ]
  },
  {
   "cell_type": "code",
   "execution_count": 177,
   "metadata": {},
   "outputs": [
    {
     "data": {
      "application/vnd.jupyter.widget-view+json": {
       "model_id": "95584e0897d64acf9db4d1e1662864ad",
       "version_major": 2,
       "version_minor": 0
      },
      "text/plain": [
       "Canvas(toolbar=Toolbar(toolitems=[('Home', 'Reset original view', 'home', 'home'), ('Back', 'Back to previous …"
      ]
     },
     "metadata": {},
     "output_type": "display_data"
    },
    {
     "data": {
      "text/plain": [
       "Text(0, 0.5, 'Fractional Contacts')"
      ]
     },
     "execution_count": 177,
     "metadata": {},
     "output_type": "execute_result"
    }
   ],
   "source": [
    "x_pos = np.arange(5)\n",
    "width = 0.28\n",
    "aa_types = [\"Negative\", \"Positive\", \"Polar\", \"Hydrophobic\", \"Aromatic\"]\n",
    "fig = plt.figure(figsize=(7,7))\n",
    "fig.canvas.layout.width = '800px'\n",
    "fig.canvas.layout.height = '700px'\n",
    "plt.bar(x_pos, fc09nmC2_meanNR, width, yerr=fc09nmC2_stdNR, ecolor='black',capsize=5, color='royalblue')\n",
    "plt.bar(x_pos+width, fc11nmC2_meanNR, width, yerr=fc11nmC2_stdNR, ecolor='black',capsize=5, color='c')\n",
    "plt.bar(x_pos+(2*width), fc14nmC2_meanNR, width, yerr=fc14nmC2_stdNR, ecolor='black',capsize=5, color='lightslategray')\n",
    "plt.title(r'Fractional Contacts Rg PEG/BSA Unrestrained, Config. 2', fontsize=16)\n",
    "plt.xticks(x_pos+width, labels=aa_types, fontsize=16)\n",
    "plt.yticks(fontsize=16)\n",
    "plt.ylim(0,0.4)\n",
    "plt.legend(['Rg = 0.9 nm', 'Rg = 1.1 nm', 'Rg = 1.4 nm'], frameon=False, fontsize=16)\n",
    "plt.ylabel(r'Fractional Contacts', fontsize=16)"
   ]
  },
  {
   "cell_type": "code",
   "execution_count": null,
   "metadata": {},
   "outputs": [],
   "source": []
  },
  {
   "cell_type": "code",
   "execution_count": null,
   "metadata": {},
   "outputs": [],
   "source": []
  },
  {
   "cell_type": "markdown",
   "metadata": {},
   "source": [
    "### Total fraction of contacts: averages and std dev calc from 5 20 ns blocks"
   ]
  },
  {
   "cell_type": "code",
   "execution_count": 156,
   "metadata": {},
   "outputs": [
    {
     "data": {
      "text/plain": [
       "0.17043121149897328"
      ]
     },
     "execution_count": 156,
     "metadata": {},
     "output_type": "execute_result"
    }
   ],
   "source": [
    "np.mean(fcntC2_rg14nmNR['total_frac'])"
   ]
  },
  {
   "cell_type": "code",
   "execution_count": 157,
   "metadata": {},
   "outputs": [
    {
     "data": {
      "text/plain": [
       "0.035327824505308525"
      ]
     },
     "execution_count": 157,
     "metadata": {},
     "output_type": "execute_result"
    }
   ],
   "source": [
    "np.std(fcntC2_rg14nmNR['total_frac'])"
   ]
  },
  {
   "cell_type": "code",
   "execution_count": 158,
   "metadata": {},
   "outputs": [
    {
     "data": {
      "text/plain": [
       "{'Negative': array([array([3.823     , 2.61470285]), array([8.297     , 5.30431815]),\n",
       "        array([13.4635    ,  3.17988486]),\n",
       "        array([12.6225    ,  2.82471127]),\n",
       "        array([22.6535    ,  5.31765341])], dtype=object),\n",
       " 'Positive': array([array([6.645     , 4.11132278]), array([11.212     ,  7.96530326]),\n",
       "        array([18.9065    ,  4.50896415]),\n",
       "        array([19.411     ,  5.55239399]),\n",
       "        array([41.097     ,  9.15459398])], dtype=object),\n",
       " 'Polar': array([array([8.2135    , 5.86156274]), array([16.5845    ,  4.98205377]),\n",
       "        array([13.993    ,  4.7894625]), array([12.6065    ,  3.94368581]),\n",
       "        array([19.041     ,  5.85126644])], dtype=object),\n",
       " 'Hydrophobic': array([array([6.5215    , 3.67321899]), array([4.7525    , 2.49684676]),\n",
       "        array([4.485     , 2.58104146]), array([3.5255    , 2.50166939]),\n",
       "        array([12.7115    ,  6.76869764])], dtype=object),\n",
       " 'Aromatic': array([array([0.755     , 1.14977172]), array([3.0495    , 2.62298489]),\n",
       "        array([2.7645    , 1.84554592]), array([1.9535    , 1.62675682]),\n",
       "        array([16.0125    ,  7.43198115])], dtype=object)}"
      ]
     },
     "execution_count": 158,
     "metadata": {},
     "output_type": "execute_result"
    }
   ],
   "source": [
    "prgrpC2_14nmNR"
   ]
  },
  {
   "cell_type": "markdown",
   "metadata": {},
   "source": [
    "### Avg no. PLGA residues per BSA AA residue group "
   ]
  },
  {
   "cell_type": "code",
   "execution_count": 159,
   "metadata": {},
   "outputs": [
    {
     "data": {
      "text/plain": [
       "{'Negative': array([array([3.823     , 2.61470285]), array([8.297     , 5.30431815]),\n",
       "        array([13.4635    ,  3.17988486]),\n",
       "        array([12.6225    ,  2.82471127]),\n",
       "        array([22.6535    ,  5.31765341])], dtype=object),\n",
       " 'Positive': array([array([6.645     , 4.11132278]), array([11.212     ,  7.96530326]),\n",
       "        array([18.9065    ,  4.50896415]),\n",
       "        array([19.411     ,  5.55239399]),\n",
       "        array([41.097     ,  9.15459398])], dtype=object),\n",
       " 'Polar': array([array([8.2135    , 5.86156274]), array([16.5845    ,  4.98205377]),\n",
       "        array([13.993    ,  4.7894625]), array([12.6065    ,  3.94368581]),\n",
       "        array([19.041     ,  5.85126644])], dtype=object),\n",
       " 'Hydrophobic': array([array([6.5215    , 3.67321899]), array([4.7525    , 2.49684676]),\n",
       "        array([4.485     , 2.58104146]), array([3.5255    , 2.50166939]),\n",
       "        array([12.7115    ,  6.76869764])], dtype=object),\n",
       " 'Aromatic': array([array([0.755     , 1.14977172]), array([3.0495    , 2.62298489]),\n",
       "        array([2.7645    , 1.84554592]), array([1.9535    , 1.62675682]),\n",
       "        array([16.0125    ,  7.43198115])], dtype=object)}"
      ]
     },
     "execution_count": 159,
     "metadata": {},
     "output_type": "execute_result"
    }
   ],
   "source": [
    "prgrpC2_14nmNR"
   ]
  },
  {
   "cell_type": "code",
   "execution_count": 163,
   "metadata": {},
   "outputs": [],
   "source": [
    "mean_14nmC2 = np.zeros(shape=5)\n",
    "std_14nmC2 = np.zeros(shape=5)\n",
    "count = 0\n",
    "for key, value in prgrpC2_14nmNR.items():\n",
    "    mpl_14nm = []\n",
    "    var_14nm = []\n",
    "    for i in prgrpC2_14nmNR[str(key)].flat:\n",
    "        mpl_14nm.append(i[0])\n",
    "        var_14nm.append((i[1])**2)\n",
    "    \n",
    "    # calc frac cont averages\n",
    "    mean_14nmC2[count] = np.mean(mpl_14nm)\n",
    "    \n",
    "    # calc frac cont std dev: https://stats.stackexchange.com/questions/25848/how-to-sum-a-standard-deviation \n",
    "    std_14nmC2[count] = np.std(mpl_14nm)\n",
    "    #std_2nm[count] = np.sqrt(np.sum(var_2nm)/5)\n",
    "    \n",
    "    count += 1\n"
   ]
  },
  {
   "cell_type": "code",
   "execution_count": 164,
   "metadata": {},
   "outputs": [
    {
     "data": {
      "text/plain": [
       "array([12.1719, 19.4543, 14.0877,  6.3992,  4.907 ])"
      ]
     },
     "execution_count": 164,
     "metadata": {},
     "output_type": "execute_result"
    }
   ],
   "source": [
    "mean_14nmC2"
   ]
  },
  {
   "cell_type": "code",
   "execution_count": 165,
   "metadata": {},
   "outputs": [
    {
     "data": {
      "text/plain": [
       "array([ 6.26824043, 11.83826084,  3.67364501,  3.30133375,  5.6095456 ])"
      ]
     },
     "execution_count": 165,
     "metadata": {},
     "output_type": "execute_result"
    }
   ],
   "source": [
    "std_14nmC2"
   ]
  },
  {
   "cell_type": "code",
   "execution_count": 182,
   "metadata": {},
   "outputs": [
    {
     "data": {
      "application/vnd.jupyter.widget-view+json": {
       "model_id": "a79ffc6ffacb455d973ad24911751493",
       "version_major": 2,
       "version_minor": 0
      },
      "text/plain": [
       "Canvas(toolbar=Toolbar(toolitems=[('Home', 'Reset original view', 'home', 'home'), ('Back', 'Back to previous …"
      ]
     },
     "metadata": {},
     "output_type": "display_data"
    },
    {
     "data": {
      "text/plain": [
       "Text(0, 0.5, 'No. of PEG residues')"
      ]
     },
     "execution_count": 182,
     "metadata": {},
     "output_type": "execute_result"
    }
   ],
   "source": [
    "x_pos = np.arange(5)\n",
    "width = 0.28\n",
    "aa_types = [\"Negative\", \"Positive\", \"Polar\", \"Hydrophobic\", \"Aromatic\"]\n",
    "fig = plt.figure(figsize=(7,7))\n",
    "fig.canvas.layout.width = '800px'\n",
    "fig.canvas.layout.height = '700px'\n",
    "plt.bar(x_pos, mean_09nmC2, width, yerr=std_09nmC2, ecolor='black',capsize=5, color='royalblue')\n",
    "plt.bar(x_pos+width, mean_11nmC2, width, yerr=std_11nmC2, ecolor='black',capsize=5, color='c')\n",
    "plt.bar(x_pos+(2*width), mean_14nmC2, width, yerr=std_14nmC2, ecolor='black',capsize=5, color='lightslategray')\n",
    "plt.title(r'No. of PEG residues Rg Unrestrained, Config 2', fontsize=16)\n",
    "plt.xticks(x_pos+width, labels=aa_types, fontsize=16)\n",
    "plt.yticks(fontsize=16)\n",
    "plt.ylim(0,45)\n",
    "plt.legend(['Rg = 0.9 nm', 'Rg = 1.1 nm', 'Rg = 1.4 nm'], frameon=False, fontsize=16)\n",
    "plt.ylabel(r'No. of PEG residues', fontsize=16)"
   ]
  },
  {
   "cell_type": "markdown",
   "metadata": {},
   "source": [
    "### Protein/polymer contact map movie"
   ]
  },
  {
   "cell_type": "code",
   "execution_count": null,
   "metadata": {},
   "outputs": [],
   "source": [
    "fig = plt.figure(figsize=(10,10))\n",
    "\n",
    "# Set the axis and the plot titles pp\n",
    "\n",
    "plt.title(\"BSA/PLGA contact map 2 nm restrained\", fontsize=22, loc='left')\n",
    "plt.xlabel(\"PLGA Residue No.\", fontsize=22)\n",
    "plt.ylabel(\"BSA Residue No.\", fontsize=20)\n",
    "\n",
    " # Set the axis range \n",
    "plt.ylim(583, 0)\n",
    "plt.xlim(0, 60)\n",
    "\n",
    "# Plot bands for each chain \n",
    "BANDS = (\n",
    "    (0, 20, \"purple\", \"B\"),\n",
    "    (20, 40, \"blue\", \"C\"),\n",
    "    (40, 60, \"green\", \"D\"),\n",
    ")\n",
    "    \n",
    "text_y = 0.98 # Close to the top\n",
    "for start, stop, color, band in BANDS:\n",
    "    plt.axvspan(start, stop,color=color, alpha=0.15)\n",
    "    text_x = middle_of_band(start,stop)\n",
    "    plt.text(\n",
    "        text_x,\n",
    "        text_y,\n",
    "        \"PLGA chain \" + band,\n",
    "        color=color,\n",
    "        fontsize=18,\n",
    "        transform=fig.gca().transAxes,\n",
    "        horizontalalignment='center',\n",
    "        verticalalignment='center',\n",
    "        style='italic',\n",
    "    )\n",
    "    \n",
    "plt.text(0.94, 1, \"Time [ns]:\", fontsize=20, transform=fig.gca().transAxes, horizontalalignment='right', verticalalignment='bottom')\n",
    "\n",
    "# Set tick label size\n",
    "fig.gca().tick_params(axis='both', which='major', labelsize=20)\n",
    "\n",
    "ims = []\n",
    "for i in range(10000):\n",
    "    data = trj_ppmap_2nm[i]\n",
    "    im = plt.imshow(data, aspect='auto', cmap='Greys')\n",
    "    t_sim = plt.text(1.03, 1, str(i/100), fontsize=20, transform=fig.gca().transAxes, horizontalalignment='right', verticalalignment='bottom')\n",
    "    ims.append([im, t_sim])\n",
    "    \n",
    "ani = animation.ArtistAnimation(fig, ims, blit=True, repeat=False)\n",
    "ani.save('2nm_res.mp4', writer='ffmpeg', fps=50, bitrate=100000)\n",
    "#plt.tight_layout()\n",
    "#plt.show()"
   ]
  }
 ],
 "metadata": {
  "kernelspec": {
   "display_name": "Python (ppc_env)",
   "language": "python",
   "name": "ppc_env"
  },
  "language_info": {
   "codemirror_mode": {
    "name": "ipython",
    "version": 3
   },
   "file_extension": ".py",
   "mimetype": "text/x-python",
   "name": "python",
   "nbconvert_exporter": "python",
   "pygments_lexer": "ipython3",
   "version": "3.6.9"
  }
 },
 "nbformat": 4,
 "nbformat_minor": 4
}
