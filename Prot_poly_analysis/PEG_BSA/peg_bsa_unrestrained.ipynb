{
 "cells": [
  {
   "cell_type": "code",
   "execution_count": 1,
   "metadata": {},
   "outputs": [],
   "source": [
    "#import the necessary modules \n",
    "%matplotlib inline \n",
    "import numpy as np \n",
    "import matplotlib.pyplot as plt \n",
    "import pandas as pd \n",
    "#import scipy\n",
    "import sklearn\n",
    "import itertools as it\n",
    "from itertools import cycle \n",
    "import os.path as op\n",
    "import timeit \n",
    "import json\n",
    "from matplotlib import animation\n",
    "import matplotlib.font_manager as font_manager\n",
    "from collections import namedtuple\n",
    "#from functools import partial\n",
    "#from pathlib import Path"
   ]
  },
  {
   "cell_type": "code",
   "execution_count": 2,
   "metadata": {},
   "outputs": [],
   "source": [
    "# Set plotting style\n",
    "plt.style.use('seaborn-white')\n",
    "\n",
    "from ipywidgets import interact, interactive, fixed, interact_manual\n",
    "import ipywidgets as widgets\n",
    "#import matplotlib.pyplot as plt"
   ]
  },
  {
   "cell_type": "code",
   "execution_count": 3,
   "metadata": {},
   "outputs": [],
   "source": [
    "%matplotlib widget"
   ]
  },
  {
   "cell_type": "code",
   "execution_count": 4,
   "metadata": {},
   "outputs": [
    {
     "data": {
      "text/plain": [
       "4"
      ]
     },
     "execution_count": 4,
     "metadata": {},
     "output_type": "execute_result"
    }
   ],
   "source": [
    "import multiprocessing as m_proc\n",
    "m_proc.cpu_count()"
   ]
  },
  {
   "cell_type": "markdown",
   "metadata": {},
   "source": [
    "### Now use MD Analysis to calculate no. of frames a center PEG residues and terminal PEG residue is with 4 Angstroms of BSA (0.9 nm restrained system)"
   ]
  },
  {
   "cell_type": "markdown",
   "metadata": {},
   "source": [
    "Import MDAnalysis"
   ]
  },
  {
   "cell_type": "code",
   "execution_count": 5,
   "metadata": {},
   "outputs": [],
   "source": [
    "from prot_polymer_analysis import get_protresd_list, aa_frmcount, grptwocnt_aa, gtwo_trjcnt \n",
    "from prot_polymer_analysis import frac_cont, bavg_frac_cnt, prot_poly_cntmovie, AA_list_org"
   ]
  },
  {
   "cell_type": "code",
   "execution_count": 6,
   "metadata": {},
   "outputs": [],
   "source": [
    "# Import MDAnalysis\n",
    "import MDAnalysis as mda\n",
    "import MDAnalysis.analysis.distances as maa_dist"
   ]
  },
  {
   "cell_type": "markdown",
   "metadata": {},
   "source": [
    "### First table will be total fractional contacts and oligomer occupancy values for each Rg value "
   ]
  },
  {
   "cell_type": "markdown",
   "metadata": {},
   "source": [
    "#### Distance-based analysis \n",
    "\n",
    "Find residues that have at least one atom within a cutoff $d = 4.0$ Angstrom near water molecules in BSA/water simulation\n",
    "\n",
    "Calculate the number of surface bsa residues from a 1 ns BSA/water simulation"
   ]
  },
  {
   "cell_type": "code",
   "execution_count": 7,
   "metadata": {},
   "outputs": [],
   "source": [
    "#Units of Angstroms \n",
    "dmax = 4.0 "
   ]
  },
  {
   "cell_type": "code",
   "execution_count": 8,
   "metadata": {},
   "outputs": [],
   "source": [
    "def middle_of_band(band_start, band_stop, plot_min=0, plot_max=60):\n",
    "    half_way = (band_stop - band_start) / 2\n",
    "    mid_band = band_start + half_way\n",
    "    plot_fraction = (mid_band - plot_min) / (plot_max - plot_min)\n",
    "\n",
    "    return plot_fraction"
   ]
  },
  {
   "cell_type": "markdown",
   "metadata": {},
   "source": [
    "# 0.9 nm PEG unrestrained Rg 100 ns trajectory"
   ]
  },
  {
   "cell_type": "markdown",
   "metadata": {},
   "source": [
    "Load the rg = 1.2 nm (3 PLGA N = 20 oligomer/BSA system) "
   ]
  },
  {
   "cell_type": "code",
   "execution_count": 9,
   "metadata": {},
   "outputs": [],
   "source": [
    "# Set up the MD Simulation, Make sure you do gmx trjconv -s topol.tpr -f confout.gro  -o new_conf.pdb \n",
    "# -dump 0 -n bsaplga_nk.ndx to generate \n",
    "# a new pdb file that contains unique chain identifiers \n",
    "u_n20PEG_NR = mda.Universe(\"NoRes_bsapeg/0.9nm_NoRes/0.9nmNoRes_bpeg.pdb\", \"NoRes_bsapeg/0.9nm_NoRes/nowat_0.9nmNoRes.xtc\")"
   ]
  },
  {
   "cell_type": "code",
   "execution_count": 10,
   "metadata": {},
   "outputs": [
    {
     "data": {
      "text/plain": [
       "<Universe with 9665 atoms>"
      ]
     },
     "execution_count": 10,
     "metadata": {},
     "output_type": "execute_result"
    }
   ],
   "source": [
    "u_n20PEG_NR"
   ]
  },
  {
   "cell_type": "markdown",
   "metadata": {},
   "source": [
    "Check that we are on the first frame"
   ]
  },
  {
   "cell_type": "code",
   "execution_count": 11,
   "metadata": {},
   "outputs": [
    {
     "data": {
      "text/plain": [
       "0"
      ]
     },
     "execution_count": 11,
     "metadata": {},
     "output_type": "execute_result"
    }
   ],
   "source": [
    "u_n20PEG_NR.trajectory.frame"
   ]
  },
  {
   "cell_type": "code",
   "execution_count": 12,
   "metadata": {},
   "outputs": [
    {
     "data": {
      "text/plain": [
       "10001"
      ]
     },
     "execution_count": 12,
     "metadata": {},
     "output_type": "execute_result"
    }
   ],
   "source": [
    "pn20_lenNR = len(u_n20PEG_NR.trajectory)\n",
    "pn20_lenNR"
   ]
  },
  {
   "cell_type": "code",
   "execution_count": 15,
   "metadata": {},
   "outputs": [],
   "source": [
    "# Select one polymer chain, heavy atoms only \n",
    "#all_pn20 = u_pn20.select_atoms(\"(resname sPLG PLG tPLG and segid B) and not type H\")\n",
    "\n",
    "#Select all the PLGA residues, heavy atoms only\n",
    "all_n20PEG_NR = u_n20PEG_NR.select_atoms(\"resname sPEG PEG tPEG and not type H\")\n",
    "#list(all_n20PEG_NR)"
   ]
  },
  {
   "cell_type": "code",
   "execution_count": 16,
   "metadata": {},
   "outputs": [
    {
     "data": {
      "text/plain": [
       "<AtomGroup with 4653 atoms>"
      ]
     },
     "execution_count": 16,
     "metadata": {},
     "output_type": "execute_result"
    }
   ],
   "source": [
    "# Select BSA residues, heavy atoms only \n",
    "prot_09nmNR = u_n20PEG_NR.select_atoms(\"protein and not type H\")\n",
    "prot_09nmNR"
   ]
  },
  {
   "cell_type": "markdown",
   "metadata": {},
   "source": [
    "Calculate AA frame counts for PLGA residues, 1.2 nm RG restraint, 100ns trajectory "
   ]
  },
  {
   "cell_type": "code",
   "execution_count": 17,
   "metadata": {},
   "outputs": [
    {
     "data": {
      "text/plain": [
       "278.14253970514983"
      ]
     },
     "execution_count": 17,
     "metadata": {},
     "output_type": "execute_result"
    }
   ],
   "source": [
    "#dmax = 4.0, protein group(4653 atoms), plga atom group (543 atoms), took 381.6 s (6 min 36s on 4 cores)\n",
    "start = 0\n",
    "end = pn20_lenNR - 1\n",
    "s_time = timeit.default_timer()\n",
    "h2di_09nmNR = aa_frmcount(prot_09nmNR, all_n20PEG_NR, dmax, u_n20PEG_NR, start, end)\n",
    "timeit.default_timer() - s_time"
   ]
  },
  {
   "cell_type": "code",
   "execution_count": 18,
   "metadata": {},
   "outputs": [
    {
     "data": {
      "text/plain": [
       "207"
      ]
     },
     "execution_count": 18,
     "metadata": {},
     "output_type": "execute_result"
    }
   ],
   "source": [
    "len(h2di_09nmNR.keys())"
   ]
  },
  {
   "cell_type": "code",
   "execution_count": 21,
   "metadata": {},
   "outputs": [
    {
     "data": {
      "text/html": [
       "<div>\n",
       "<style scoped>\n",
       "    .dataframe tbody tr th:only-of-type {\n",
       "        vertical-align: middle;\n",
       "    }\n",
       "\n",
       "    .dataframe tbody tr th {\n",
       "        vertical-align: top;\n",
       "    }\n",
       "\n",
       "    .dataframe thead th {\n",
       "        text-align: right;\n",
       "    }\n",
       "</style>\n",
       "<table border=\"1\" class=\"dataframe\">\n",
       "  <thead>\n",
       "    <tr style=\"text-align: right;\">\n",
       "      <th></th>\n",
       "      <th>BSA_des_res</th>\n",
       "      <th>mda_occ_0.9nmNR</th>\n",
       "    </tr>\n",
       "  </thead>\n",
       "  <tbody>\n",
       "    <tr>\n",
       "      <td>0</td>\n",
       "      <td>&lt;Residue ASP, 1&gt;</td>\n",
       "      <td>0.01</td>\n",
       "    </tr>\n",
       "    <tr>\n",
       "      <td>1</td>\n",
       "      <td>&lt;Residue THR, 2&gt;</td>\n",
       "      <td>0.02</td>\n",
       "    </tr>\n",
       "    <tr>\n",
       "      <td>2</td>\n",
       "      <td>&lt;Residue HIS, 3&gt;</td>\n",
       "      <td>0.00</td>\n",
       "    </tr>\n",
       "    <tr>\n",
       "      <td>3</td>\n",
       "      <td>&lt;Residue LYS, 4&gt;</td>\n",
       "      <td>0.00</td>\n",
       "    </tr>\n",
       "    <tr>\n",
       "      <td>4</td>\n",
       "      <td>&lt;Residue SER, 5&gt;</td>\n",
       "      <td>0.00</td>\n",
       "    </tr>\n",
       "    <tr>\n",
       "      <td>...</td>\n",
       "      <td>...</td>\n",
       "      <td>...</td>\n",
       "    </tr>\n",
       "    <tr>\n",
       "      <td>578</td>\n",
       "      <td>&lt;Residue GLN, 579&gt;</td>\n",
       "      <td>0.02</td>\n",
       "    </tr>\n",
       "    <tr>\n",
       "      <td>579</td>\n",
       "      <td>&lt;Residue THR, 580&gt;</td>\n",
       "      <td>0.12</td>\n",
       "    </tr>\n",
       "    <tr>\n",
       "      <td>580</td>\n",
       "      <td>&lt;Residue ALA, 581&gt;</td>\n",
       "      <td>0.18</td>\n",
       "    </tr>\n",
       "    <tr>\n",
       "      <td>581</td>\n",
       "      <td>&lt;Residue LEU, 582&gt;</td>\n",
       "      <td>0.07</td>\n",
       "    </tr>\n",
       "    <tr>\n",
       "      <td>582</td>\n",
       "      <td>&lt;Residue ALA, 583&gt;</td>\n",
       "      <td>0.15</td>\n",
       "    </tr>\n",
       "  </tbody>\n",
       "</table>\n",
       "<p>583 rows × 2 columns</p>\n",
       "</div>"
      ],
      "text/plain": [
       "            BSA_des_res  mda_occ_0.9nmNR\n",
       "0      <Residue ASP, 1>             0.01\n",
       "1      <Residue THR, 2>             0.02\n",
       "2      <Residue HIS, 3>             0.00\n",
       "3      <Residue LYS, 4>             0.00\n",
       "4      <Residue SER, 5>             0.00\n",
       "..                  ...              ...\n",
       "578  <Residue GLN, 579>             0.02\n",
       "579  <Residue THR, 580>             0.12\n",
       "580  <Residue ALA, 581>             0.18\n",
       "581  <Residue LEU, 582>             0.07\n",
       "582  <Residue ALA, 583>             0.15\n",
       "\n",
       "[583 rows x 2 columns]"
      ]
     },
     "execution_count": 21,
     "metadata": {},
     "output_type": "execute_result"
    }
   ],
   "source": [
    "pr_res_PEG = list(prot_09nmNR.residues)\n",
    "ss_res_PEG = [str(row) for row in pr_res_PEG]\n",
    "rkg_NR = {key:h2di_09nmNR[key][1] for key, value in h2di_09nmNR.items()}\n",
    "plg_09nmNR_occ = pd.DataFrame(data=ss_res_PEG, columns=[\"BSA_des_res\"])\n",
    "plg_09nmNR_occ['mda_occ_0.9nmNR'] = plg_09nmNR_occ['BSA_des_res'].map(rkg_NR)\n",
    "plg_09nmNR_occ['mda_occ_0.9nmNR'] = plg_09nmNR_occ['mda_occ_0.9nmNR'].replace('nan', np.nan).fillna(0)\n",
    "plg_09nmNR_occ['mda_occ_0.9nmNR'] = plg_09nmNR_occ['mda_occ_0.9nmNR'].round(2)\n",
    "plg_09nmNR_occ"
   ]
  },
  {
   "cell_type": "code",
   "execution_count": 22,
   "metadata": {},
   "outputs": [
    {
     "data": {
      "text/plain": [
       "0      0.01\n",
       "1      0.02\n",
       "11     0.01\n",
       "12     0.01\n",
       "31     0.04\n",
       "       ... \n",
       "578    0.02\n",
       "579    0.12\n",
       "580    0.18\n",
       "581    0.07\n",
       "582    0.15\n",
       "Name: mda_occ_0.9nmNR, Length: 142, dtype: float64"
      ]
     },
     "execution_count": 22,
     "metadata": {},
     "output_type": "execute_result"
    }
   ],
   "source": [
    "plg_09nmNR_occ['mda_occ_0.9nmNR'][plg_09nmNR_occ['mda_occ_0.9nmNR'] != 0]"
   ]
  },
  {
   "cell_type": "code",
   "execution_count": 23,
   "metadata": {},
   "outputs": [],
   "source": [
    "bsa_NR = np.array(list(prot_09nmNR.resids)) # shape is 4652\n",
    "m_occ_09NR = np.array(list(plg_09nmNR_occ['mda_occ_0.9nmNR'])) # shape is 583\n",
    "m_occ = np.zeros(shape=(4653))\n",
    "at_ind = np.where(bsa_NR[:-1] != bsa_NR[1:])[0]\n",
    "at_in_nw = np.sort(np.append([0,4653],at_ind))\n",
    "nw_v = 0\n",
    "for i in range(583):\n",
    "    b = at_in_nw[i+1] +1\n",
    "    m_occ[nw_v:b] = m_occ_09NR[i]\n",
    "    nw_v = at_in_nw[i+1] + 1 "
   ]
  },
  {
   "cell_type": "code",
   "execution_count": 25,
   "metadata": {},
   "outputs": [
    {
     "data": {
      "text/plain": [
       "(array([   0,    1,    2, ..., 4650, 4651, 4652]),)"
      ]
     },
     "execution_count": 25,
     "metadata": {},
     "output_type": "execute_result"
    }
   ],
   "source": [
    "np.nonzero(m_occ)"
   ]
  },
  {
   "cell_type": "markdown",
   "metadata": {},
   "source": [
    "### Visualize Occupanct on protein "
   ]
  },
  {
   "cell_type": "code",
   "execution_count": 26,
   "metadata": {},
   "outputs": [
    {
     "data": {
      "text/plain": [
       "array([0.01, 0.01, 0.01, ..., 0.15, 0.15, 0.15])"
      ]
     },
     "execution_count": 26,
     "metadata": {},
     "output_type": "execute_result"
    }
   ],
   "source": [
    "prot_09nmNR.occupancies = m_occ\n",
    "prot_09nmNR.occupancies"
   ]
  },
  {
   "cell_type": "code",
   "execution_count": 27,
   "metadata": {},
   "outputs": [],
   "source": [
    "with mda.Writer(\"prot09nm_NoRes.pdb\") as pdb:\n",
    "    pdb.write(prot_09nmNR)"
   ]
  },
  {
   "cell_type": "code",
   "execution_count": 28,
   "metadata": {},
   "outputs": [],
   "source": [
    "# Frame count and occupancy for each residue\n",
    "#h2di"
   ]
  },
  {
   "cell_type": "markdown",
   "metadata": {},
   "source": [
    "### Residue Importance: 0.9 nm unrestrained "
   ]
  },
  {
   "cell_type": "code",
   "execution_count": 29,
   "metadata": {},
   "outputs": [],
   "source": [
    "# Need to fix function, the residue number are not counting the other 2 PLGA oligomers cuz of same resid number\n",
    "trjmap_09nmPEGNR = prot_poly_cntmovie(prot_09nmNR, all_n20PEG_NR, dmax, u_n20PEG_NR, 0, 10000)\n",
    "#trj_ppmap_12nm_chC = prot_poly_cntmovie(prot, all_pn20_C, dmax, u_pn20, 0, 10000)"
   ]
  },
  {
   "cell_type": "code",
   "execution_count": 30,
   "metadata": {},
   "outputs": [],
   "source": [
    "np.save('0.9nmPEG_NoRes.npy', trjmap_09nmPEGNR)    # .npy extension is added if not given"
   ]
  },
  {
   "cell_type": "code",
   "execution_count": null,
   "metadata": {},
   "outputs": [],
   "source": [
    "trjmap_09nmPEG = np.load(\"1.2nm_res.npy\", allow_pickle=True)"
   ]
  },
  {
   "cell_type": "code",
   "execution_count": 31,
   "metadata": {},
   "outputs": [
    {
     "data": {
      "text/plain": [
       "(583, 60)"
      ]
     },
     "execution_count": 31,
     "metadata": {},
     "output_type": "execute_result"
    }
   ],
   "source": [
    "trjmap_09nmPEGNR[0].shape"
   ]
  },
  {
   "cell_type": "code",
   "execution_count": 32,
   "metadata": {},
   "outputs": [
    {
     "data": {
      "text/plain": [
       "0.0"
      ]
     },
     "execution_count": 32,
     "metadata": {},
     "output_type": "execute_result"
    }
   ],
   "source": [
    "np.sum(trjmap_09nmPEGNR[1000][0])"
   ]
  },
  {
   "cell_type": "code",
   "execution_count": 33,
   "metadata": {},
   "outputs": [
    {
     "data": {
      "text/plain": [
       "(10000,)"
      ]
     },
     "execution_count": 33,
     "metadata": {},
     "output_type": "execute_result"
    }
   ],
   "source": [
    "kj = np.zeros(shape=(10000, 583))\n",
    "kj[:,582].shape"
   ]
  },
  {
   "cell_type": "code",
   "execution_count": 34,
   "metadata": {},
   "outputs": [],
   "source": [
    "pp_09nmNR_ct = np.zeros(shape=(10000, 583))\n",
    "for i in range(10000):\n",
    "    for j in range(583):\n",
    "        pp_09nmNR_ct[i][j] = np.sum(trjmap_09nmPEGNR[i][j])"
   ]
  },
  {
   "cell_type": "code",
   "execution_count": 35,
   "metadata": {},
   "outputs": [],
   "source": [
    "pp_09nmtotNR = np.zeros(shape=(583))\n",
    "for i in range(583):\n",
    "    pp_09nmtotNR[i] = np.sum(pp_09nmNR_ct[:,i])\n",
    "#pp_12nmtot"
   ]
  },
  {
   "cell_type": "code",
   "execution_count": 36,
   "metadata": {},
   "outputs": [
    {
     "data": {
      "text/plain": [
       "400424.0"
      ]
     },
     "execution_count": 36,
     "metadata": {},
     "output_type": "execute_result"
    }
   ],
   "source": [
    "np.sum(pp_09nmtotNR)"
   ]
  },
  {
   "cell_type": "code",
   "execution_count": 41,
   "metadata": {},
   "outputs": [
    {
     "data": {
      "application/vnd.jupyter.widget-view+json": {
       "model_id": "bac585d3d8cd4fff810d9375afe506ba",
       "version_major": 2,
       "version_minor": 0
      },
      "text/plain": [
       "Canvas(toolbar=Toolbar(toolitems=[('Home', 'Reset original view', 'home', 'home'), ('Back', 'Back to previous …"
      ]
     },
     "metadata": {},
     "output_type": "display_data"
    },
    {
     "data": {
      "text/plain": [
       "Text(0.5, 0, 'BSA Residue ID')"
      ]
     },
     "execution_count": 41,
     "metadata": {},
     "output_type": "execute_result"
    }
   ],
   "source": [
    "y_pos = np.arange(583) + 1\n",
    "wid = np.zeros(shape=583)\n",
    "wid += 2\n",
    "#wid\n",
    "fig = plt.figure(figsize=(12,12))\n",
    "fig.canvas.layout.width = '800px'\n",
    "fig.canvas.layout.height = '700px'\n",
    "plt.bar(y_pos, pp_09nmtotNR, align='center',width=wid, alpha=1, label='0.9 nm PEG')\n",
    "plt.xticks(fontsize=14)\n",
    "plt.yticks(fontsize=14)\n",
    "plt.xlim([0,600])\n",
    "plt.ylim([0,80000])\n",
    "plt.legend(fontsize=14)\n",
    "plt.ylabel(r'Total No. of PEG contacts', fontsize=15)\n",
    "plt.xlabel(r'BSA Residue ID', fontsize=15)"
   ]
  },
  {
   "cell_type": "markdown",
   "metadata": {},
   "source": [
    "### Total number of residues that are within 4 angstroms of a PEG oligomer residue within a 100 ns trajectory block"
   ]
  },
  {
   "cell_type": "code",
   "execution_count": 38,
   "metadata": {},
   "outputs": [],
   "source": [
    "a_a = [\"GLY\",\"ALA\",\"VAL\",\"LEU\",\"ILE\",\"MET\",\"PHE\",\"TRP\",\"PRO\",\"SER\",\"THR\",\"CYS\",\"TYR\",\"ASN\",\"GLN\",\"ASP\"\n",
    "               ,\"GLU\",\"LYS\",\"ARG\",\"HIS\"]"
   ]
  },
  {
   "cell_type": "code",
   "execution_count": 42,
   "metadata": {},
   "outputs": [],
   "source": [
    "# This code chunk gets the BSA residues and their corresponding number in a pandas dataframe \n",
    "red_bsa = []\n",
    "bh = np.arange(0,584)\n",
    "for i in range(583):\n",
    "    b_str = str(list(prot_09nmNR.residues[i:i+1]))\n",
    "    if str(bh[i+1]) in b_str: \n",
    "        red_bsa.append(str(b_str[10:13])+\" \"+str(bh[i+1]))"
   ]
  },
  {
   "cell_type": "code",
   "execution_count": 43,
   "metadata": {},
   "outputs": [
    {
     "data": {
      "text/html": [
       "<div>\n",
       "<style scoped>\n",
       "    .dataframe tbody tr th:only-of-type {\n",
       "        vertical-align: middle;\n",
       "    }\n",
       "\n",
       "    .dataframe tbody tr th {\n",
       "        vertical-align: top;\n",
       "    }\n",
       "\n",
       "    .dataframe thead th {\n",
       "        text-align: right;\n",
       "    }\n",
       "</style>\n",
       "<table border=\"1\" class=\"dataframe\">\n",
       "  <thead>\n",
       "    <tr style=\"text-align: right;\">\n",
       "      <th></th>\n",
       "      <th>BSA_des_res</th>\n",
       "      <th>mda_plga_frm_0.9nmNR</th>\n",
       "    </tr>\n",
       "  </thead>\n",
       "  <tbody>\n",
       "    <tr>\n",
       "      <td>578</td>\n",
       "      <td>GLN 579</td>\n",
       "      <td>220.0</td>\n",
       "    </tr>\n",
       "    <tr>\n",
       "      <td>579</td>\n",
       "      <td>THR 580</td>\n",
       "      <td>1215.0</td>\n",
       "    </tr>\n",
       "    <tr>\n",
       "      <td>580</td>\n",
       "      <td>ALA 581</td>\n",
       "      <td>1836.0</td>\n",
       "    </tr>\n",
       "    <tr>\n",
       "      <td>581</td>\n",
       "      <td>LEU 582</td>\n",
       "      <td>684.0</td>\n",
       "    </tr>\n",
       "    <tr>\n",
       "      <td>582</td>\n",
       "      <td>ALA 583</td>\n",
       "      <td>1522.0</td>\n",
       "    </tr>\n",
       "  </tbody>\n",
       "</table>\n",
       "</div>"
      ],
      "text/plain": [
       "    BSA_des_res  mda_plga_frm_0.9nmNR\n",
       "578     GLN 579                 220.0\n",
       "579     THR 580                1215.0\n",
       "580     ALA 581                1836.0\n",
       "581     LEU 582                 684.0\n",
       "582     ALA 583                1522.0"
      ]
     },
     "execution_count": 43,
     "metadata": {},
     "output_type": "execute_result"
    }
   ],
   "source": [
    "pr_res = list(prot_09nmNR.residues)\n",
    "ss_res = [str(row) for row in pr_res]\n",
    "rkg = {key:h2di_09nmNR[key][0] for key, value in h2di_09nmNR.items()}\n",
    "plg_09nmaaNR = pd.DataFrame(data=ss_res, columns=[\"BSA_des_res\"])\n",
    "plg_09nmaaNR['mda_plga_frm_0.9nmNR'] = plg_09nmaaNR['BSA_des_res'].map(rkg)\n",
    "plg_09nmaaNR['BSA_des_res'] = red_bsa\n",
    "plg_09nmaaNR['mda_plga_frm_0.9nmNR'] = plg_09nmaaNR['mda_plga_frm_0.9nmNR'].replace('nan', np.nan).fillna(0)\n",
    "plg_09nmaaNR.tail()"
   ]
  },
  {
   "cell_type": "code",
   "execution_count": 44,
   "metadata": {},
   "outputs": [],
   "source": [
    "# Read in data from the oputput of wrapper.sh, where the frame count is given for each BSA residue that was within \n",
    "# 4 angstroms of PLGA trimer \n",
    "wat_data = pd.read_csv('occ_BSA1ns.txt', sep=\" \", header=None, usecols=None ,index_col=None)\n",
    "wat_data.columns = [\"BSA_res_no\",\"No. of frames (VMD)\"]\n",
    "wat_data = wat_data.drop(\"BSA_res_no\", axis=1)\n",
    "\n",
    "#pr_res = list(prot_09nm.residues)\n",
    "#ss_res = [str(row) for row in pr_res]\n",
    "\n",
    "wat_data['BSA_des_res'] = ss_res\n",
    "wat_data = wat_data[['BSA_des_res',\"No. of frames (VMD)\"]]\n",
    "#wat_data.head()\n",
    "\n",
    "# load MDAnalysis values from MDA_BSA1ns.txt file(129003 atoms SOL group was used to calc. frame counts for txt.\n",
    "# file)\n",
    "h2ob_dict = json.load(open(\"MDA_BSA1ns.txt\"))\n",
    "wat_data['Mda_frames'] = wat_data['BSA_des_res'].map(h2ob_dict)\n",
    "\n",
    "\n",
    "# From MD Analysis\n",
    "#Get the count of bsa residues that have 1001 or 1002 frames ( I ran a 1 ns NPT simulation of 1 BSA in water )\n",
    "\n",
    "#aa_count = pd.DataFrame(data=a_a)\n",
    "c_list = []\n",
    "\n",
    "for i in range(len(a_a)):\n",
    "    count = 0\n",
    "    for index, row in wat_data.iterrows():\n",
    "        if a_a[i] in row[\"BSA_des_res\"]:\n",
    "            if row['Mda_frames'] == 1001: \n",
    "                count += 1\n",
    "                #c_list.append(str(str(a_a[i])+\"  \"+str(row['No. of frames']))) \n",
    "            elif row['Mda_frames'] == 1000:\n",
    "                count += 1\n",
    "                #c_list.append(str(str(a_a[i])+\"  \"+str(row['No. of frames'])))\n",
    "    c_list.append(str(str(a_a[i])+\"  \"+str(count)))\n",
    "    \n",
    "#c_list\n",
    "\n",
    "# From VMD\n",
    "#Get the count of bsa residues that have 1001 or 1002 frames ( I ran a 1 ns NPT simulation of 1 BSA in water )\n",
    "\n",
    "#aa_count = pd.DataFrame(data=a_a)\n",
    "vmd_list = []\n",
    "\n",
    "for i in range(len(a_a)):\n",
    "    count = 0\n",
    "    for index, row in wat_data.iterrows():\n",
    "        if a_a[i] in row[\"BSA_des_res\"]:\n",
    "            if row[\"No. of frames (VMD)\"] == 1001: \n",
    "                count += 1\n",
    "                #c_list.append(str(str(a_a[i])+\"  \"+str(row['No. of frames']))) \n",
    "            elif row[\"No. of frames (VMD)\"] == 1002:\n",
    "                count += 1\n",
    "                #c_list.append(str(str(a_a[i])+\"  \"+str(row['No. of frames'])))\n",
    "    vmd_list.append(str(str(a_a[i])+\"  \"+str(count)))\n",
    "\n",
    "# Main difference is that Alanine 583 is counted for all 1001 frames. It seems VMD is unable to calc dist for that res\n",
    "#vmd_list\n",
    "\n",
    "#hydrophobic_res = ['ALA', 'ILE', 'LEU', 'VAL', 'GLY', 'PRO','PHE', 'TRP','MET']\n",
    "#polar_res = ['ASN', 'CYS', 'GLN', 'SER', 'THR','TYR']\n",
    "#neg_res = ['ASP', 'GLU']\n",
    "#pos_res = ['ARG', 'HIS', 'LYS']\n",
    "# aromatic_res = ['PHE', 'TRP', 'TYR', 'HIS']\n",
    "#all_res = [pos_res, neg_res, polar_res, hydrophobic_res]\n",
    "\n",
    "# Put the AA count in a pandas dataframe \n",
    "dg , ji = AA_list_org(c_list)\n",
    "aa_count = pd.DataFrame(data=dg, index=None, columns=['Amino_acids'])\n",
    "new_lf = pd.Series(data=ji, index=None)\n",
    "vmg, vmdj = AA_list_org(vmd_list)\n",
    "n2lf = pd.Series(data=vmdj, index=None)\n",
    "aa_count['No_of_surf_res (MDAnalysis)'] = new_lf\n",
    "aa_count['No_of_surf_res (VMD)'] = n2lf"
   ]
  },
  {
   "cell_type": "code",
   "execution_count": 45,
   "metadata": {},
   "outputs": [
    {
     "data": {
      "text/html": [
       "<div>\n",
       "<style scoped>\n",
       "    .dataframe tbody tr th:only-of-type {\n",
       "        vertical-align: middle;\n",
       "    }\n",
       "\n",
       "    .dataframe tbody tr th {\n",
       "        vertical-align: top;\n",
       "    }\n",
       "\n",
       "    .dataframe thead th {\n",
       "        text-align: right;\n",
       "    }\n",
       "</style>\n",
       "<table border=\"1\" class=\"dataframe\">\n",
       "  <thead>\n",
       "    <tr style=\"text-align: right;\">\n",
       "      <th></th>\n",
       "      <th>Amino_acids</th>\n",
       "      <th>No_of_surf_res (MDAnalysis)</th>\n",
       "      <th>No_of_surf_res (VMD)</th>\n",
       "      <th>peg_0.9nmNR_100ns</th>\n",
       "    </tr>\n",
       "  </thead>\n",
       "  <tbody>\n",
       "    <tr>\n",
       "      <td>0</td>\n",
       "      <td>LYS</td>\n",
       "      <td>59</td>\n",
       "      <td>59</td>\n",
       "      <td>34</td>\n",
       "    </tr>\n",
       "    <tr>\n",
       "      <td>1</td>\n",
       "      <td>ARG</td>\n",
       "      <td>23</td>\n",
       "      <td>23</td>\n",
       "      <td>7</td>\n",
       "    </tr>\n",
       "    <tr>\n",
       "      <td>2</td>\n",
       "      <td>HIS</td>\n",
       "      <td>16</td>\n",
       "      <td>16</td>\n",
       "      <td>8</td>\n",
       "    </tr>\n",
       "    <tr>\n",
       "      <td>3</td>\n",
       "      <td>ASP</td>\n",
       "      <td>40</td>\n",
       "      <td>40</td>\n",
       "      <td>22</td>\n",
       "    </tr>\n",
       "    <tr>\n",
       "      <td>4</td>\n",
       "      <td>GLU</td>\n",
       "      <td>59</td>\n",
       "      <td>59</td>\n",
       "      <td>29</td>\n",
       "    </tr>\n",
       "    <tr>\n",
       "      <td>5</td>\n",
       "      <td>SER</td>\n",
       "      <td>23</td>\n",
       "      <td>23</td>\n",
       "      <td>9</td>\n",
       "    </tr>\n",
       "    <tr>\n",
       "      <td>6</td>\n",
       "      <td>THR</td>\n",
       "      <td>29</td>\n",
       "      <td>29</td>\n",
       "      <td>16</td>\n",
       "    </tr>\n",
       "    <tr>\n",
       "      <td>7</td>\n",
       "      <td>CYS</td>\n",
       "      <td>24</td>\n",
       "      <td>24</td>\n",
       "      <td>11</td>\n",
       "    </tr>\n",
       "    <tr>\n",
       "      <td>8</td>\n",
       "      <td>TYR</td>\n",
       "      <td>19</td>\n",
       "      <td>19</td>\n",
       "      <td>5</td>\n",
       "    </tr>\n",
       "    <tr>\n",
       "      <td>9</td>\n",
       "      <td>ASN</td>\n",
       "      <td>14</td>\n",
       "      <td>14</td>\n",
       "      <td>5</td>\n",
       "    </tr>\n",
       "    <tr>\n",
       "      <td>10</td>\n",
       "      <td>GLN</td>\n",
       "      <td>19</td>\n",
       "      <td>19</td>\n",
       "      <td>9</td>\n",
       "    </tr>\n",
       "    <tr>\n",
       "      <td>11</td>\n",
       "      <td>GLY</td>\n",
       "      <td>11</td>\n",
       "      <td>11</td>\n",
       "      <td>3</td>\n",
       "    </tr>\n",
       "    <tr>\n",
       "      <td>12</td>\n",
       "      <td>ALA</td>\n",
       "      <td>39</td>\n",
       "      <td>38</td>\n",
       "      <td>13</td>\n",
       "    </tr>\n",
       "    <tr>\n",
       "      <td>13</td>\n",
       "      <td>VAL</td>\n",
       "      <td>19</td>\n",
       "      <td>19</td>\n",
       "      <td>9</td>\n",
       "    </tr>\n",
       "    <tr>\n",
       "      <td>14</td>\n",
       "      <td>LEU</td>\n",
       "      <td>34</td>\n",
       "      <td>34</td>\n",
       "      <td>12</td>\n",
       "    </tr>\n",
       "    <tr>\n",
       "      <td>15</td>\n",
       "      <td>ILE</td>\n",
       "      <td>7</td>\n",
       "      <td>7</td>\n",
       "      <td>0</td>\n",
       "    </tr>\n",
       "    <tr>\n",
       "      <td>16</td>\n",
       "      <td>MET</td>\n",
       "      <td>3</td>\n",
       "      <td>3</td>\n",
       "      <td>0</td>\n",
       "    </tr>\n",
       "    <tr>\n",
       "      <td>17</td>\n",
       "      <td>PHE</td>\n",
       "      <td>20</td>\n",
       "      <td>20</td>\n",
       "      <td>5</td>\n",
       "    </tr>\n",
       "    <tr>\n",
       "      <td>18</td>\n",
       "      <td>TRP</td>\n",
       "      <td>2</td>\n",
       "      <td>2</td>\n",
       "      <td>0</td>\n",
       "    </tr>\n",
       "    <tr>\n",
       "      <td>19</td>\n",
       "      <td>PRO</td>\n",
       "      <td>27</td>\n",
       "      <td>27</td>\n",
       "      <td>10</td>\n",
       "    </tr>\n",
       "  </tbody>\n",
       "</table>\n",
       "</div>"
      ],
      "text/plain": [
       "   Amino_acids  No_of_surf_res (MDAnalysis)  No_of_surf_res (VMD)  \\\n",
       "0          LYS                           59                    59   \n",
       "1          ARG                           23                    23   \n",
       "2          HIS                           16                    16   \n",
       "3          ASP                           40                    40   \n",
       "4          GLU                           59                    59   \n",
       "5          SER                           23                    23   \n",
       "6          THR                           29                    29   \n",
       "7          CYS                           24                    24   \n",
       "8          TYR                           19                    19   \n",
       "9          ASN                           14                    14   \n",
       "10         GLN                           19                    19   \n",
       "11         GLY                           11                    11   \n",
       "12         ALA                           39                    38   \n",
       "13         VAL                           19                    19   \n",
       "14         LEU                           34                    34   \n",
       "15         ILE                            7                     7   \n",
       "16         MET                            3                     3   \n",
       "17         PHE                           20                    20   \n",
       "18         TRP                            2                     2   \n",
       "19         PRO                           27                    27   \n",
       "\n",
       "    peg_0.9nmNR_100ns  \n",
       "0                  34  \n",
       "1                   7  \n",
       "2                   8  \n",
       "3                  22  \n",
       "4                  29  \n",
       "5                   9  \n",
       "6                  16  \n",
       "7                  11  \n",
       "8                   5  \n",
       "9                   5  \n",
       "10                  9  \n",
       "11                  3  \n",
       "12                 13  \n",
       "13                  9  \n",
       "14                 12  \n",
       "15                  0  \n",
       "16                  0  \n",
       "17                  5  \n",
       "18                  0  \n",
       "19                 10  "
      ]
     },
     "execution_count": 45,
     "metadata": {},
     "output_type": "execute_result"
    }
   ],
   "source": [
    "apl_list = []\n",
    "\n",
    "# Some residues don't have any contact with the 3 N = 20 PLGA oligomers within 100 ns,\n",
    "# Put residues that do have contact with BSA in a separate list\n",
    "for index, r_pl in plg_09nmaaNR.iterrows():\n",
    "    if r_pl['mda_plga_frm_0.9nmNR'] != 0:\n",
    "        apl_list.append(r_pl['BSA_des_res'])\n",
    "        \n",
    "# This chunk of code gets an AA count from the above list, in order \n",
    "# to get a total number of residues that contact BSA\n",
    "cpl_l = []\n",
    "\n",
    "for index, r_a in aa_count.iterrows():\n",
    "    count = 0\n",
    "    for i in range(len(apl_list)):\n",
    "        if r_a['Amino_acids'] in apl_list[i]:\n",
    "            count += 1\n",
    "    cpl_l.append(count)      \n",
    "        \n",
    "aa_count['peg_0.9nmNR_100ns'] = cpl_l\n",
    "aa_count"
   ]
  },
  {
   "cell_type": "code",
   "execution_count": 46,
   "metadata": {},
   "outputs": [
    {
     "data": {
      "text/plain": [
       "207"
      ]
     },
     "execution_count": 46,
     "metadata": {},
     "output_type": "execute_result"
    }
   ],
   "source": [
    "# This gives the total number of residues that are within 4 angstroms of a PLGA oligomer residue\n",
    "# within a 100 ns trajectory block\n",
    "aa_count['peg_0.9nmNR_100ns'].sum()"
   ]
  },
  {
   "cell_type": "code",
   "execution_count": 47,
   "metadata": {},
   "outputs": [
    {
     "data": {
      "text/plain": [
       "487"
      ]
     },
     "execution_count": 47,
     "metadata": {},
     "output_type": "execute_result"
    }
   ],
   "source": [
    "# This gives the total number of residues that are within 4 angstroms of a water molecule\n",
    "# within a 1 ns trajectory block\n",
    "aa_count['No_of_surf_res (MDAnalysis)'].sum()"
   ]
  },
  {
   "cell_type": "code",
   "execution_count": 48,
   "metadata": {},
   "outputs": [
    {
     "data": {
      "text/plain": [
       "0.42505133470225875"
      ]
     },
     "execution_count": 48,
     "metadata": {},
     "output_type": "execute_result"
    }
   ],
   "source": [
    "# This gives the total fraction of contacts within the 1.2 nm Rg 100 ns trajectory\n",
    "aa_count['peg_0.9nmNR_100ns'].sum()/aa_count['No_of_surf_res (MDAnalysis)'].sum()"
   ]
  },
  {
   "cell_type": "markdown",
   "metadata": {},
   "source": [
    "Calculate mean occupancy and the standard deviation for 1.2 nm trajectory\n",
    "\n",
    "Numpy mean and std function was used to calculate mean occupancy and std dev using occ values from aa_frmcount output"
   ]
  },
  {
   "cell_type": "code",
   "execution_count": 49,
   "metadata": {},
   "outputs": [
    {
     "name": "stdout",
     "output_type": "stream",
     "text": [
      "Mean Occpancy (1.2 nm Rg): 0.08166376811594205 Occ. std. dev.: 0.154123690809989\n"
     ]
    }
   ],
   "source": [
    "# Mean occupancy and std deviation \n",
    "ll_mo = [value[1] for key, value in h2di_09nmNR.items()]\n",
    "print(\"Mean Occpancy (1.2 nm Rg): \"+str(np.mean(ll_mo)), \"Occ. std. dev.: \"+str(np.std(ll_mo)))"
   ]
  },
  {
   "cell_type": "markdown",
   "metadata": {},
   "source": [
    "### Calc. fractional contacts for each AA group type "
   ]
  },
  {
   "cell_type": "code",
   "execution_count": 50,
   "metadata": {},
   "outputs": [
    {
     "data": {
      "text/plain": [
       "{'Negative': [42994.0, 51, 174505.0588235294, 0.23026960477380862],\n",
       " 'Positive': [42291.0, 49, 178657.89795918367, 0.2357495182668802],\n",
       " 'Polar': [42006.0, 55, 158095.30909090908, 0.20861598274793475],\n",
       " 'Hydrophobic': [41753.0, 52, 166209.0576923077, 0.21932254733852058],\n",
       " 'Aromatic': [6988.0, 18, 80362.0, 0.10604234687285578]}"
      ]
     },
     "execution_count": 50,
     "metadata": {},
     "output_type": "execute_result"
    }
   ],
   "source": [
    "cd_12nm = frac_cont(h2di_09nmNR)\n",
    "cd_12nm"
   ]
  },
  {
   "cell_type": "code",
   "execution_count": 51,
   "metadata": {},
   "outputs": [
    {
     "data": {
      "text/plain": [
       "207"
      ]
     },
     "execution_count": 51,
     "metadata": {},
     "output_type": "execute_result"
    }
   ],
   "source": [
    "cd = frac_cont(h2di_09nmNR)\n",
    "kklh = []\n",
    "for key, value in cd.items():\n",
    "    kklh.append(value[1])\n",
    "# Must substract aromatic residues, since they are already counted\n",
    "sum(kklh) - cd['Aromatic'][1]"
   ]
  },
  {
   "cell_type": "code",
   "execution_count": null,
   "metadata": {},
   "outputs": [],
   "source": [
    "start = 0\n",
    "end = pn20_len - 1\n",
    "aa_12nm, l_f12nm = gtwo_trjcnt(prot, all_pn20, dmax, u_pn20, start, end)"
   ]
  },
  {
   "cell_type": "code",
   "execution_count": null,
   "metadata": {},
   "outputs": [],
   "source": [
    "aa_12nm"
   ]
  },
  {
   "cell_type": "code",
   "execution_count": null,
   "metadata": {},
   "outputs": [],
   "source": [
    "l_f12nm.shape"
   ]
  },
  {
   "cell_type": "code",
   "execution_count": 52,
   "metadata": {},
   "outputs": [
    {
     "data": {
      "text/plain": [
       "487"
      ]
     },
     "execution_count": 52,
     "metadata": {},
     "output_type": "execute_result"
    }
   ],
   "source": [
    "no_surf = aa_count['No_of_surf_res (MDAnalysis)'].sum()\n",
    "no_surf"
   ]
  },
  {
   "cell_type": "code",
   "execution_count": 53,
   "metadata": {},
   "outputs": [
    {
     "name": "stdout",
     "output_type": "stream",
     "text": [
      "0\n",
      "2000\n",
      "2000\n",
      "4000\n",
      "4000\n",
      "6000\n",
      "6000\n",
      "8000\n",
      "8000\n",
      "10000\n"
     ]
    }
   ],
   "source": [
    "fcnt_rg09nmNR, prgrp_09nmNR, aa_matx09nmNR = bavg_frac_cnt(5, prot_09nmNR, all_n20PEG_NR, dmax, u_n20PEG_NR, no_surf, 0, 10000)"
   ]
  },
  {
   "cell_type": "code",
   "execution_count": 54,
   "metadata": {},
   "outputs": [
    {
     "data": {
      "text/plain": [
       "{'Negative': array([0.20664114, 0.31724495, 0.20979678, 0.227986  , 0.21781872]),\n",
       " 'Positive': array([0.25340817, 0.24748282, 0.25531048, 0.2151241 , 0.25491458]),\n",
       " 'Polar': array([0.22462771, 0.24642146, 0.15208788, 0.18901906, 0.2444011 ]),\n",
       " 'Hydrophobic': array([0.2633488 , 0.12071504, 0.20178445, 0.20977559, 0.20805935]),\n",
       " 'Aromatic': array([0.05197418, 0.06813573, 0.18102042, 0.15809525, 0.07480625]),\n",
       " 'total_frac': array([0.19507187, 0.16837782, 0.2073922 , 0.19507187, 0.16837782])}"
      ]
     },
     "execution_count": 54,
     "metadata": {},
     "output_type": "execute_result"
    }
   ],
   "source": [
    "fcnt_rg09nmNR"
   ]
  },
  {
   "cell_type": "code",
   "execution_count": 56,
   "metadata": {},
   "outputs": [
    {
     "data": {
      "text/plain": [
       "array([0.23589752, 0.24524803, 0.21131144, 0.20073665, 0.10680636])"
      ]
     },
     "execution_count": 56,
     "metadata": {},
     "output_type": "execute_result"
    }
   ],
   "source": [
    "fc09nm_meanNR = np.array([np.mean(fcnt_rg09nmNR['Negative']), np.mean(fcnt_rg09nmNR['Positive'])\n",
    "                        ,np.mean(fcnt_rg09nmNR['Polar']),np.mean(fcnt_rg09nmNR['Hydrophobic'])\n",
    "                        , np.mean(fcnt_rg09nmNR['Aromatic'])])\n",
    "fc09nm_meanNR"
   ]
  },
  {
   "cell_type": "code",
   "execution_count": 57,
   "metadata": {},
   "outputs": [
    {
     "data": {
      "text/plain": [
       "array([0.04133769, 0.01532141, 0.03608142, 0.04573874, 0.05227671])"
      ]
     },
     "execution_count": 57,
     "metadata": {},
     "output_type": "execute_result"
    }
   ],
   "source": [
    "fc09nm_stdNR = np.array([np.std(fcnt_rg09nmNR['Negative']), np.std(fcnt_rg09nmNR['Positive'])\n",
    "                       ,np.std(fcnt_rg09nmNR['Polar']),np.std(fcnt_rg09nmNR['Hydrophobic'])\n",
    "                       , np.std(fcnt_rg09nmNR['Aromatic'])])\n",
    "fc09nm_stdNR"
   ]
  },
  {
   "cell_type": "code",
   "execution_count": 59,
   "metadata": {},
   "outputs": [
    {
     "data": {
      "application/vnd.jupyter.widget-view+json": {
       "model_id": "0f1acb901d01464aac5fffafe4695f95",
       "version_major": 2,
       "version_minor": 0
      },
      "text/plain": [
       "Canvas(toolbar=Toolbar(toolitems=[('Home', 'Reset original view', 'home', 'home'), ('Back', 'Back to previous …"
      ]
     },
     "metadata": {},
     "output_type": "display_data"
    },
    {
     "data": {
      "text/plain": [
       "Text(0, 0.5, 'Fractional Contacts')"
      ]
     },
     "execution_count": 59,
     "metadata": {},
     "output_type": "execute_result"
    }
   ],
   "source": [
    "x_pos = np.arange(5)\n",
    "aa_types = [\"Negative\", \"Positive\", \"Polar\", \"Hydrophobic\", \"Aromatic\"]\n",
    "fig = plt.figure(figsize=(7,7))\n",
    "fig.canvas.layout.width = '500px'\n",
    "fig.canvas.layout.height = '400px'\n",
    "plt.bar(x_pos, fc09nm_meanNR, yerr=fc09nm_stdNR, ecolor='black',capsize=5, color='c')\n",
    "plt.title(r'Fractional Contacts 0.9 nm Rg restrained', fontsize=15)\n",
    "plt.xticks(x_pos, labels=aa_types, fontsize=12)\n",
    "plt.ylabel(r'Fractional Contacts', fontsize=15)"
   ]
  },
  {
   "cell_type": "markdown",
   "metadata": {},
   "source": [
    "### Total fraction of contacts: averages and std dev calc from 5 20ns blocks"
   ]
  },
  {
   "cell_type": "code",
   "execution_count": 60,
   "metadata": {},
   "outputs": [
    {
     "data": {
      "text/plain": [
       "0.1868583162217659"
      ]
     },
     "execution_count": 60,
     "metadata": {},
     "output_type": "execute_result"
    }
   ],
   "source": [
    "# Average of total fraction of contacts\n",
    "np.mean(fcnt_rg09nmNR['total_frac'])"
   ]
  },
  {
   "cell_type": "code",
   "execution_count": 61,
   "metadata": {},
   "outputs": [
    {
     "data": {
      "text/plain": [
       "0.01574561766955303"
      ]
     },
     "execution_count": 61,
     "metadata": {},
     "output_type": "execute_result"
    }
   ],
   "source": [
    "# Std Deviation of total fraction of contacts\n",
    "np.std(fcnt_rg09nmNR['total_frac'])"
   ]
  },
  {
   "cell_type": "markdown",
   "metadata": {},
   "source": [
    "### Avg no. PLGA residues per BSA AA residue group "
   ]
  },
  {
   "cell_type": "code",
   "execution_count": null,
   "metadata": {},
   "outputs": [],
   "source": [
    "prgrp_1_2nm"
   ]
  },
  {
   "cell_type": "code",
   "execution_count": null,
   "metadata": {},
   "outputs": [],
   "source": [
    "mean_12nm = np.zeros(shape=5)\n",
    "std_12nm = np.zeros(shape=5)\n",
    "count = 0\n",
    "for key, value in prgrp_1_2nm.items():\n",
    "    mpl_12nm = []\n",
    "    var_12nm = []\n",
    "    for i in prgrp_1_2nm[str(key)].flat:\n",
    "        mpl_12nm.append(i[0])\n",
    "        var_12nm.append((i[1])**2)\n",
    "    \n",
    "    # calc frac cont averages\n",
    "    mean_12nm[count] = np.mean(mpl_12nm)\n",
    "    \n",
    "    # calc frac cont std dev: https://stats.stackexchange.com/questions/25848/how-to-sum-a-standard-deviation \n",
    "    std_12nm[count] = np.std(mpl_12nm)\n",
    "    # std_12nm[count] = np.sqrt(np.sum(var_12nm)/5)\n",
    "    \n",
    "    count += 1\n"
   ]
  },
  {
   "cell_type": "code",
   "execution_count": null,
   "metadata": {},
   "outputs": [],
   "source": [
    "mean_12nm"
   ]
  },
  {
   "cell_type": "code",
   "execution_count": null,
   "metadata": {},
   "outputs": [],
   "source": [
    "std_12nm "
   ]
  },
  {
   "cell_type": "code",
   "execution_count": null,
   "metadata": {},
   "outputs": [],
   "source": [
    "x_pos = np.arange(5)\n",
    "aa_types = [\"Negative\", \"Positive\", \"Polar\", \"Hydrophobic\", \"Aromatic\"]\n",
    "plt.figure(figsize=(7,7))\n",
    "plt.bar(x_pos, mean_12nm, yerr=std_12nm, ecolor='black',capsize=5)\n",
    "plt.title(r'No. of PLGA residues 1.2 nm Rg restrained', fontsize=15)\n",
    "plt.xticks(x_pos, labels=aa_types, fontsize=12)\n",
    "plt.ylabel(r'No. of PLGA residues', fontsize=15)"
   ]
  },
  {
   "cell_type": "markdown",
   "metadata": {},
   "source": [
    "### Protein/polymer contact map movie"
   ]
  },
  {
   "cell_type": "code",
   "execution_count": null,
   "metadata": {},
   "outputs": [],
   "source": [
    "fig = plt.figure(figsize=(10,10))\n",
    "\n",
    "# Set the axis and the plot titles pp\n",
    "\n",
    "plt.title(\"BSA/PLGA contact map 1.2 nm res\", fontsize=22, loc='left')\n",
    "plt.xlabel(\"PLGA Residue No.\", fontsize=22)\n",
    "plt.ylabel(\"BSA Residue No.\", fontsize=20)\n",
    "\n",
    " # Set the axis range \n",
    "plt.ylim(583, 0)\n",
    "plt.xlim(0, 60)\n",
    "\n",
    "# Plot bands for each chain \n",
    "BANDS = (\n",
    "    (0, 20, \"purple\", \"B\"),\n",
    "    (20, 40, \"blue\", \"C\"),\n",
    "    (40, 60, \"green\", \"D\"),\n",
    ")\n",
    "    \n",
    "text_y = 0.98 # Close to the top\n",
    "for start, stop, color, band in BANDS:\n",
    "    plt.axvspan(start, stop,color=color, alpha=0.15)\n",
    "    text_x = middle_of_band(start,stop)\n",
    "    plt.text(\n",
    "        text_x,\n",
    "        text_y,\n",
    "        \"PLGA chain \" + band,\n",
    "        color=color,\n",
    "        fontsize=18,\n",
    "        transform=fig.gca().transAxes,\n",
    "        horizontalalignment='center',\n",
    "        verticalalignment='center',\n",
    "        style='italic',\n",
    "    )\n",
    "    \n",
    "plt.text(0.93, 1, \"Time [ns]:\", fontsize=20, transform=fig.gca().transAxes, horizontalalignment='right', verticalalignment='bottom')\n",
    "\n",
    "# Set tick label size\n",
    "fig.gca().tick_params(axis='both', which='major', labelsize=20)\n",
    "\n",
    "ims = []\n",
    "for i in range(10000):\n",
    "    data = trj_ppmap_12nm[i]\n",
    "    im = plt.imshow(data, aspect='auto', cmap='Greys')\n",
    "    t_sim = plt.text(1, 1, str(i/100), fontsize=20, transform=fig.gca().transAxes, horizontalalignment='right', verticalalignment='bottom')\n",
    "    ims.append([im, t_sim])\n",
    "    \n",
    "ani = animation.ArtistAnimation(fig, ims, blit=True, repeat=False)\n",
    "ani.save('1.2nm_res.mp4',writer='ffmpeg', fps=50, bitrate=100000)\n",
    "#plt.tight_layout()\n",
    "#plt.show()"
   ]
  },
  {
   "cell_type": "markdown",
   "metadata": {},
   "source": [
    "# 1.1 nm PEG unrestrained Rg 100 ns trajectory"
   ]
  },
  {
   "cell_type": "markdown",
   "metadata": {},
   "source": [
    "Load the rg = 1.5 nm (3 PLGA N = 20 oligomer/BSA system) "
   ]
  },
  {
   "cell_type": "code",
   "execution_count": 62,
   "metadata": {},
   "outputs": [],
   "source": [
    "# Set up the MD Simulation\n",
    "u11nmNR_n20PEG = mda.Universe(\"NoRes_bsapeg/1.1nm_NoRes/1.1nmNoRes_bpeg.pdb\", \"NoRes_bsapeg/1.1nm_NoRes/nowat_1.1nmNoRes.xtc\")"
   ]
  },
  {
   "cell_type": "code",
   "execution_count": 63,
   "metadata": {},
   "outputs": [
    {
     "data": {
      "text/plain": [
       "<Universe with 9665 atoms>"
      ]
     },
     "execution_count": 63,
     "metadata": {},
     "output_type": "execute_result"
    }
   ],
   "source": [
    "u11nmNR_n20PEG"
   ]
  },
  {
   "cell_type": "code",
   "execution_count": 64,
   "metadata": {},
   "outputs": [
    {
     "data": {
      "text/plain": [
       "10001"
      ]
     },
     "execution_count": 64,
     "metadata": {},
     "output_type": "execute_result"
    }
   ],
   "source": [
    "pn20_11nmNR = len(u11nmNR_n20PEG.trajectory)\n",
    "pn20_11nmNR"
   ]
  },
  {
   "cell_type": "code",
   "execution_count": 65,
   "metadata": {},
   "outputs": [
    {
     "data": {
      "text/plain": [
       "<AtomGroup with 183 atoms>"
      ]
     },
     "execution_count": 65,
     "metadata": {},
     "output_type": "execute_result"
    }
   ],
   "source": [
    "#Select all the PLGA residues, heavy atoms only \n",
    "n20PEG_11nmNR = u11nmNR_n20PEG.select_atoms(\"resname sPEG PEG tPEG and not type H\")\n",
    "n20PEG_11nmNR"
   ]
  },
  {
   "cell_type": "code",
   "execution_count": 66,
   "metadata": {},
   "outputs": [
    {
     "data": {
      "text/plain": [
       "<AtomGroup with 4653 atoms>"
      ]
     },
     "execution_count": 66,
     "metadata": {},
     "output_type": "execute_result"
    }
   ],
   "source": [
    "# Select BSA residues, heavy atoms only \n",
    "protNR_11nmPEG = u11nmNR_n20PEG.select_atoms(\"protein and not type H\")\n",
    "protNR_11nmPEG"
   ]
  },
  {
   "cell_type": "markdown",
   "metadata": {},
   "source": [
    "### Contact Analysis"
   ]
  },
  {
   "cell_type": "code",
   "execution_count": 67,
   "metadata": {},
   "outputs": [
    {
     "data": {
      "text/plain": [
       "478.9605230214074"
      ]
     },
     "execution_count": 67,
     "metadata": {},
     "output_type": "execute_result"
    }
   ],
   "source": [
    "#dmax = 4.0, protein group(4653 atoms), plga atom group (543 atoms), took 381.6 s (6 min 36s on 4 cores)\n",
    "start = 0\n",
    "end = pn20_11nmNR - 1\n",
    "s_time = timeit.default_timer()\n",
    "h2di_11nmNR = aa_frmcount(protNR_11nmPEG, n20PEG_11nmNR, dmax, u11nmNR_n20PEG, start, end)\n",
    "timeit.default_timer() - s_time\n",
    "#h2di_11nm"
   ]
  },
  {
   "cell_type": "code",
   "execution_count": 68,
   "metadata": {},
   "outputs": [
    {
     "data": {
      "text/plain": [
       "194"
      ]
     },
     "execution_count": 68,
     "metadata": {},
     "output_type": "execute_result"
    }
   ],
   "source": [
    "len(h2di_11nmNR.keys())"
   ]
  },
  {
   "cell_type": "code",
   "execution_count": 69,
   "metadata": {},
   "outputs": [
    {
     "data": {
      "text/html": [
       "<div>\n",
       "<style scoped>\n",
       "    .dataframe tbody tr th:only-of-type {\n",
       "        vertical-align: middle;\n",
       "    }\n",
       "\n",
       "    .dataframe tbody tr th {\n",
       "        vertical-align: top;\n",
       "    }\n",
       "\n",
       "    .dataframe thead th {\n",
       "        text-align: right;\n",
       "    }\n",
       "</style>\n",
       "<table border=\"1\" class=\"dataframe\">\n",
       "  <thead>\n",
       "    <tr style=\"text-align: right;\">\n",
       "      <th></th>\n",
       "      <th>BSA_des_res</th>\n",
       "      <th>mda_occ_0.9nmNR</th>\n",
       "      <th>mda_occ_1.1nmNR</th>\n",
       "    </tr>\n",
       "  </thead>\n",
       "  <tbody>\n",
       "    <tr>\n",
       "      <td>0</td>\n",
       "      <td>&lt;Residue ASP, 1&gt;</td>\n",
       "      <td>0.01</td>\n",
       "      <td>0.0</td>\n",
       "    </tr>\n",
       "    <tr>\n",
       "      <td>1</td>\n",
       "      <td>&lt;Residue THR, 2&gt;</td>\n",
       "      <td>0.02</td>\n",
       "      <td>0.0</td>\n",
       "    </tr>\n",
       "    <tr>\n",
       "      <td>2</td>\n",
       "      <td>&lt;Residue HIS, 3&gt;</td>\n",
       "      <td>0.00</td>\n",
       "      <td>0.0</td>\n",
       "    </tr>\n",
       "    <tr>\n",
       "      <td>3</td>\n",
       "      <td>&lt;Residue LYS, 4&gt;</td>\n",
       "      <td>0.00</td>\n",
       "      <td>0.0</td>\n",
       "    </tr>\n",
       "    <tr>\n",
       "      <td>4</td>\n",
       "      <td>&lt;Residue SER, 5&gt;</td>\n",
       "      <td>0.00</td>\n",
       "      <td>0.0</td>\n",
       "    </tr>\n",
       "    <tr>\n",
       "      <td>...</td>\n",
       "      <td>...</td>\n",
       "      <td>...</td>\n",
       "      <td>...</td>\n",
       "    </tr>\n",
       "    <tr>\n",
       "      <td>578</td>\n",
       "      <td>&lt;Residue GLN, 579&gt;</td>\n",
       "      <td>0.02</td>\n",
       "      <td>0.0</td>\n",
       "    </tr>\n",
       "    <tr>\n",
       "      <td>579</td>\n",
       "      <td>&lt;Residue THR, 580&gt;</td>\n",
       "      <td>0.12</td>\n",
       "      <td>0.0</td>\n",
       "    </tr>\n",
       "    <tr>\n",
       "      <td>580</td>\n",
       "      <td>&lt;Residue ALA, 581&gt;</td>\n",
       "      <td>0.18</td>\n",
       "      <td>0.0</td>\n",
       "    </tr>\n",
       "    <tr>\n",
       "      <td>581</td>\n",
       "      <td>&lt;Residue LEU, 582&gt;</td>\n",
       "      <td>0.07</td>\n",
       "      <td>0.0</td>\n",
       "    </tr>\n",
       "    <tr>\n",
       "      <td>582</td>\n",
       "      <td>&lt;Residue ALA, 583&gt;</td>\n",
       "      <td>0.15</td>\n",
       "      <td>0.0</td>\n",
       "    </tr>\n",
       "  </tbody>\n",
       "</table>\n",
       "<p>583 rows × 3 columns</p>\n",
       "</div>"
      ],
      "text/plain": [
       "            BSA_des_res  mda_occ_0.9nmNR  mda_occ_1.1nmNR\n",
       "0      <Residue ASP, 1>             0.01              0.0\n",
       "1      <Residue THR, 2>             0.02              0.0\n",
       "2      <Residue HIS, 3>             0.00              0.0\n",
       "3      <Residue LYS, 4>             0.00              0.0\n",
       "4      <Residue SER, 5>             0.00              0.0\n",
       "..                  ...              ...              ...\n",
       "578  <Residue GLN, 579>             0.02              0.0\n",
       "579  <Residue THR, 580>             0.12              0.0\n",
       "580  <Residue ALA, 581>             0.18              0.0\n",
       "581  <Residue LEU, 582>             0.07              0.0\n",
       "582  <Residue ALA, 583>             0.15              0.0\n",
       "\n",
       "[583 rows x 3 columns]"
      ]
     },
     "execution_count": 69,
     "metadata": {},
     "output_type": "execute_result"
    }
   ],
   "source": [
    "pr_res_PEG = list(protNR_11nmPEG.residues)\n",
    "ss_res_PEG = [str(row) for row in pr_res_PEG]\n",
    "rkg_11NR = {key:h2di_11nmNR[key][1] for key, value in h2di_11nmNR.items()}\n",
    "plg_09nmNR_occ['mda_occ_1.1nmNR'] = plg_09nmNR_occ['BSA_des_res'].map(rkg_11NR)\n",
    "plg_09nmNR_occ['mda_occ_1.1nmNR'] = plg_09nmNR_occ['mda_occ_1.1nmNR'].replace('nan', np.nan).fillna(0)\n",
    "plg_09nmNR_occ['mda_occ_1.1nmNR'] = plg_09nmNR_occ['mda_occ_1.1nmNR'].round(2)\n",
    "plg_09nmNR_occ"
   ]
  },
  {
   "cell_type": "code",
   "execution_count": 72,
   "metadata": {},
   "outputs": [
    {
     "data": {
      "text/html": [
       "<div>\n",
       "<style scoped>\n",
       "    .dataframe tbody tr th:only-of-type {\n",
       "        vertical-align: middle;\n",
       "    }\n",
       "\n",
       "    .dataframe tbody tr th {\n",
       "        vertical-align: top;\n",
       "    }\n",
       "\n",
       "    .dataframe thead th {\n",
       "        text-align: right;\n",
       "    }\n",
       "</style>\n",
       "<table border=\"1\" class=\"dataframe\">\n",
       "  <thead>\n",
       "    <tr style=\"text-align: right;\">\n",
       "      <th></th>\n",
       "      <th>BSA_des_res</th>\n",
       "      <th>mda_plga_frm_1.1nmNR</th>\n",
       "    </tr>\n",
       "  </thead>\n",
       "  <tbody>\n",
       "    <tr>\n",
       "      <td>0</td>\n",
       "      <td>ASP 1</td>\n",
       "      <td>0.0</td>\n",
       "    </tr>\n",
       "    <tr>\n",
       "      <td>1</td>\n",
       "      <td>THR 2</td>\n",
       "      <td>0.0</td>\n",
       "    </tr>\n",
       "    <tr>\n",
       "      <td>2</td>\n",
       "      <td>HIS 3</td>\n",
       "      <td>0.0</td>\n",
       "    </tr>\n",
       "    <tr>\n",
       "      <td>3</td>\n",
       "      <td>LYS 4</td>\n",
       "      <td>0.0</td>\n",
       "    </tr>\n",
       "    <tr>\n",
       "      <td>4</td>\n",
       "      <td>SER 5</td>\n",
       "      <td>0.0</td>\n",
       "    </tr>\n",
       "  </tbody>\n",
       "</table>\n",
       "</div>"
      ],
      "text/plain": [
       "  BSA_des_res  mda_plga_frm_1.1nmNR\n",
       "0       ASP 1                   0.0\n",
       "1       THR 2                   0.0\n",
       "2       HIS 3                   0.0\n",
       "3       LYS 4                   0.0\n",
       "4       SER 5                   0.0"
      ]
     },
     "execution_count": 72,
     "metadata": {},
     "output_type": "execute_result"
    }
   ],
   "source": [
    "pr_res11nm = list(protNR_11nmPEG.residues)\n",
    "ss_res11nm = [str(row) for row in pr_res11nm]\n",
    "rkg_11nmNR = {key:h2di_11nmNR[key][0] for key, value in h2di_11nmNR.items()}\n",
    "plg_1_1nmaaNR = pd.DataFrame(data=ss_res11nm, columns=[\"BSA_des_res\"])\n",
    "plg_1_1nmaaNR['mda_plga_frm_1.1nmNR'] = plg_1_1nmaaNR['BSA_des_res'].map(rkg_11nmNR)\n",
    "plg_1_1nmaaNR['BSA_des_res'] = red_bsa\n",
    "plg_1_1nmaaNR['mda_plga_frm_1.1nmNR'] = plg_1_1nmaaNR['mda_plga_frm_1.1nmNR'].replace('nan', np.nan).fillna(0)\n",
    "plg_1_1nmaaNR.head()"
   ]
  },
  {
   "cell_type": "code",
   "execution_count": 73,
   "metadata": {},
   "outputs": [],
   "source": [
    "bsa_NR = np.array(list(protNR_11nmPEG.resids)) # shape is 4652\n",
    "m_occ_11nmNR = np.array(list(plg_09nmNR_occ['mda_occ_1.1nmNR'])) # shape is 583\n",
    "m_occ_11New = np.zeros(shape=(4653))\n",
    "at_ind = np.where(bsa_NR[:-1] != bsa_NR[1:])[0]\n",
    "at_in_nw = np.sort(np.append([0,4653],at_ind))\n",
    "nw_v = 0\n",
    "for i in range(583):\n",
    "    b = at_in_nw[i+1] +1\n",
    "    m_occ_11New[nw_v:b] = m_occ_11nmNR[i]\n",
    "    nw_v = at_in_nw[i+1] + 1 "
   ]
  },
  {
   "cell_type": "code",
   "execution_count": 74,
   "metadata": {},
   "outputs": [
    {
     "data": {
      "text/plain": [
       "array([0., 0., 0., 0., 0., 0., 0., 0., 0., 0., 0., 0., 0., 0., 0., 0., 0.,\n",
       "       0., 0., 0., 0., 0., 0., 0., 0., 0., 0., 0., 0., 0., 0., 0., 0.])"
      ]
     },
     "execution_count": 74,
     "metadata": {},
     "output_type": "execute_result"
    }
   ],
   "source": [
    "m_occ_11New[0:33]"
   ]
  },
  {
   "cell_type": "code",
   "execution_count": null,
   "metadata": {},
   "outputs": [],
   "source": [
    "protNR_11nmPEG.occupancies[3089:3099]"
   ]
  },
  {
   "cell_type": "code",
   "execution_count": 75,
   "metadata": {},
   "outputs": [
    {
     "data": {
      "text/plain": [
       "(array([ 257,  258,  259, ..., 4478, 4479, 4480]),)"
      ]
     },
     "execution_count": 75,
     "metadata": {},
     "output_type": "execute_result"
    }
   ],
   "source": [
    "np.nonzero(m_occ_11New)"
   ]
  },
  {
   "cell_type": "markdown",
   "metadata": {},
   "source": [
    "### Visualize Occupanct on protein "
   ]
  },
  {
   "cell_type": "code",
   "execution_count": 76,
   "metadata": {},
   "outputs": [
    {
     "data": {
      "text/plain": [
       "array([0., 0., 0., 0., 0., 0., 0., 0., 0., 0., 0., 0., 0., 0., 0., 0., 0.,\n",
       "       0., 0., 0., 0., 0., 0., 0., 0., 0., 0., 0., 0., 0., 0., 0., 0.])"
      ]
     },
     "execution_count": 76,
     "metadata": {},
     "output_type": "execute_result"
    }
   ],
   "source": [
    "protNR_11nmPEG.occupancies = m_occ_11New\n",
    "protNR_11nmPEG.occupancies[0:33]"
   ]
  },
  {
   "cell_type": "code",
   "execution_count": 77,
   "metadata": {},
   "outputs": [],
   "source": [
    "with mda.Writer(\"prot11nm_NoRes.pdb\") as pdb:\n",
    "    pdb.write(protNR_11nmPEG)"
   ]
  },
  {
   "cell_type": "markdown",
   "metadata": {},
   "source": [
    "### Residue Importance: 1.1 nm unrestrained "
   ]
  },
  {
   "cell_type": "code",
   "execution_count": 78,
   "metadata": {},
   "outputs": [],
   "source": [
    "# Need to fix function, the residue number are not counting the other 2 PLGA oligomers cuz of same resid number\n",
    "trjmap_11nmPEGNR = prot_poly_cntmovie(protNR_11nmPEG, n20PEG_11nmNR, dmax, u11nmNR_n20PEG, 0, 10000)\n",
    "#trj_ppmap_12nm_chC = prot_poly_cntmovie(prot, all_pn20_C, dmax, u_pn20, 0, 10000)"
   ]
  },
  {
   "cell_type": "code",
   "execution_count": null,
   "metadata": {},
   "outputs": [],
   "source": [
    "trj_ppmap_15nm = np.load(\"1.5nm_res.npy\", allow_pickle=True)"
   ]
  },
  {
   "cell_type": "code",
   "execution_count": 79,
   "metadata": {},
   "outputs": [],
   "source": [
    "np.save('1.1nmNR_PEGres.npy', trjmap_11nmPEGNR)    # .npy extension is added if not given"
   ]
  },
  {
   "cell_type": "code",
   "execution_count": 80,
   "metadata": {},
   "outputs": [
    {
     "data": {
      "text/plain": [
       "(583, 60)"
      ]
     },
     "execution_count": 80,
     "metadata": {},
     "output_type": "execute_result"
    }
   ],
   "source": [
    "trjmap_11nmPEGNR[0].shape"
   ]
  },
  {
   "cell_type": "code",
   "execution_count": 81,
   "metadata": {},
   "outputs": [
    {
     "data": {
      "text/plain": [
       "0.0"
      ]
     },
     "execution_count": 81,
     "metadata": {},
     "output_type": "execute_result"
    }
   ],
   "source": [
    "np.sum(trjmap_11nmPEGNR[1000][0])"
   ]
  },
  {
   "cell_type": "code",
   "execution_count": 82,
   "metadata": {},
   "outputs": [
    {
     "data": {
      "text/plain": [
       "(10000,)"
      ]
     },
     "execution_count": 82,
     "metadata": {},
     "output_type": "execute_result"
    }
   ],
   "source": [
    "kj = np.zeros(shape=(10000, 583))\n",
    "kj[:,582].shape"
   ]
  },
  {
   "cell_type": "code",
   "execution_count": 83,
   "metadata": {},
   "outputs": [],
   "source": [
    "pp_11nmNR_ct = np.zeros(shape=(10000, 583))\n",
    "for i in range(10000):\n",
    "    for j in range(583):\n",
    "        pp_11nmNR_ct[i][j] = np.sum(trjmap_11nmPEGNR[i][j])"
   ]
  },
  {
   "cell_type": "code",
   "execution_count": 84,
   "metadata": {},
   "outputs": [],
   "source": [
    "pp_11nmtotNR = np.zeros(shape=(583))\n",
    "for i in range(583):\n",
    "    pp_11nmtotNR[i] = np.sum(pp_11nmNR_ct[:,i])\n",
    "#pp_12nmtot"
   ]
  },
  {
   "cell_type": "code",
   "execution_count": 85,
   "metadata": {},
   "outputs": [
    {
     "data": {
      "text/plain": [
       "813539.0"
      ]
     },
     "execution_count": 85,
     "metadata": {},
     "output_type": "execute_result"
    }
   ],
   "source": [
    "np.sum(pp_11nmtotNR)"
   ]
  },
  {
   "cell_type": "code",
   "execution_count": 87,
   "metadata": {},
   "outputs": [
    {
     "data": {
      "application/vnd.jupyter.widget-view+json": {
       "model_id": "d2233ec4df4b415a929e2f8bbf5ff8ab",
       "version_major": 2,
       "version_minor": 0
      },
      "text/plain": [
       "Canvas(toolbar=Toolbar(toolitems=[('Home', 'Reset original view', 'home', 'home'), ('Back', 'Back to previous …"
      ]
     },
     "metadata": {},
     "output_type": "display_data"
    },
    {
     "data": {
      "text/plain": [
       "Text(0.5, 0, 'BSA Residue ID')"
      ]
     },
     "execution_count": 87,
     "metadata": {},
     "output_type": "execute_result"
    }
   ],
   "source": [
    "y_pos = np.arange(583) + 1\n",
    "wid = np.zeros(shape=583)\n",
    "wid += 1.5\n",
    "#wid\n",
    "fig = plt.figure(figsize=(12,12))\n",
    "fig.canvas.layout.width = '800px'\n",
    "fig.canvas.layout.height = '700px'\n",
    "plt.bar(y_pos+0.25, pp_11nmtotNR, align='center',width=wid, color='#562A8B', alpha=0.3, label='1.1 nm PEG')\n",
    "plt.bar(y_pos, pp_09nmtotNR, align='center',width=wid, alpha=0.5, color='#1D77CF',label='0.9 nm PEG')\n",
    "plt.xticks(fontsize=14)\n",
    "plt.yticks(fontsize=14)\n",
    "plt.xlim([0,600])\n",
    "plt.ylim([0,80000])\n",
    "plt.legend(fontsize=14)\n",
    "plt.ylabel(r'Total No. of PEG contacts', fontsize=15)\n",
    "plt.xlabel(r'BSA Residue ID', fontsize=15)"
   ]
  },
  {
   "cell_type": "markdown",
   "metadata": {},
   "source": [
    "### Total number of residues that are within 4 angstroms of a PEG oligomer residue within a 100 ns trajectory block"
   ]
  },
  {
   "cell_type": "code",
   "execution_count": 88,
   "metadata": {},
   "outputs": [
    {
     "data": {
      "text/html": [
       "<div>\n",
       "<style scoped>\n",
       "    .dataframe tbody tr th:only-of-type {\n",
       "        vertical-align: middle;\n",
       "    }\n",
       "\n",
       "    .dataframe tbody tr th {\n",
       "        vertical-align: top;\n",
       "    }\n",
       "\n",
       "    .dataframe thead th {\n",
       "        text-align: right;\n",
       "    }\n",
       "</style>\n",
       "<table border=\"1\" class=\"dataframe\">\n",
       "  <thead>\n",
       "    <tr style=\"text-align: right;\">\n",
       "      <th></th>\n",
       "      <th>Amino_acids</th>\n",
       "      <th>No_of_surf_res (MDAnalysis)</th>\n",
       "      <th>No_of_surf_res (VMD)</th>\n",
       "      <th>peg_0.9nmNR_100ns</th>\n",
       "      <th>peg_1.1nmNR_100ns</th>\n",
       "    </tr>\n",
       "  </thead>\n",
       "  <tbody>\n",
       "    <tr>\n",
       "      <td>0</td>\n",
       "      <td>LYS</td>\n",
       "      <td>59</td>\n",
       "      <td>59</td>\n",
       "      <td>34</td>\n",
       "      <td>26</td>\n",
       "    </tr>\n",
       "    <tr>\n",
       "      <td>1</td>\n",
       "      <td>ARG</td>\n",
       "      <td>23</td>\n",
       "      <td>23</td>\n",
       "      <td>7</td>\n",
       "      <td>10</td>\n",
       "    </tr>\n",
       "    <tr>\n",
       "      <td>2</td>\n",
       "      <td>HIS</td>\n",
       "      <td>16</td>\n",
       "      <td>16</td>\n",
       "      <td>8</td>\n",
       "      <td>3</td>\n",
       "    </tr>\n",
       "    <tr>\n",
       "      <td>3</td>\n",
       "      <td>ASP</td>\n",
       "      <td>40</td>\n",
       "      <td>40</td>\n",
       "      <td>22</td>\n",
       "      <td>16</td>\n",
       "    </tr>\n",
       "    <tr>\n",
       "      <td>4</td>\n",
       "      <td>GLU</td>\n",
       "      <td>59</td>\n",
       "      <td>59</td>\n",
       "      <td>29</td>\n",
       "      <td>23</td>\n",
       "    </tr>\n",
       "    <tr>\n",
       "      <td>5</td>\n",
       "      <td>SER</td>\n",
       "      <td>23</td>\n",
       "      <td>23</td>\n",
       "      <td>9</td>\n",
       "      <td>6</td>\n",
       "    </tr>\n",
       "    <tr>\n",
       "      <td>6</td>\n",
       "      <td>THR</td>\n",
       "      <td>29</td>\n",
       "      <td>29</td>\n",
       "      <td>16</td>\n",
       "      <td>16</td>\n",
       "    </tr>\n",
       "    <tr>\n",
       "      <td>7</td>\n",
       "      <td>CYS</td>\n",
       "      <td>24</td>\n",
       "      <td>24</td>\n",
       "      <td>11</td>\n",
       "      <td>8</td>\n",
       "    </tr>\n",
       "    <tr>\n",
       "      <td>8</td>\n",
       "      <td>TYR</td>\n",
       "      <td>19</td>\n",
       "      <td>19</td>\n",
       "      <td>5</td>\n",
       "      <td>6</td>\n",
       "    </tr>\n",
       "    <tr>\n",
       "      <td>9</td>\n",
       "      <td>ASN</td>\n",
       "      <td>14</td>\n",
       "      <td>14</td>\n",
       "      <td>5</td>\n",
       "      <td>4</td>\n",
       "    </tr>\n",
       "    <tr>\n",
       "      <td>10</td>\n",
       "      <td>GLN</td>\n",
       "      <td>19</td>\n",
       "      <td>19</td>\n",
       "      <td>9</td>\n",
       "      <td>10</td>\n",
       "    </tr>\n",
       "    <tr>\n",
       "      <td>11</td>\n",
       "      <td>GLY</td>\n",
       "      <td>11</td>\n",
       "      <td>11</td>\n",
       "      <td>3</td>\n",
       "      <td>4</td>\n",
       "    </tr>\n",
       "    <tr>\n",
       "      <td>12</td>\n",
       "      <td>ALA</td>\n",
       "      <td>39</td>\n",
       "      <td>38</td>\n",
       "      <td>13</td>\n",
       "      <td>8</td>\n",
       "    </tr>\n",
       "    <tr>\n",
       "      <td>13</td>\n",
       "      <td>VAL</td>\n",
       "      <td>19</td>\n",
       "      <td>19</td>\n",
       "      <td>9</td>\n",
       "      <td>9</td>\n",
       "    </tr>\n",
       "    <tr>\n",
       "      <td>14</td>\n",
       "      <td>LEU</td>\n",
       "      <td>34</td>\n",
       "      <td>34</td>\n",
       "      <td>12</td>\n",
       "      <td>17</td>\n",
       "    </tr>\n",
       "    <tr>\n",
       "      <td>15</td>\n",
       "      <td>ILE</td>\n",
       "      <td>7</td>\n",
       "      <td>7</td>\n",
       "      <td>0</td>\n",
       "      <td>4</td>\n",
       "    </tr>\n",
       "    <tr>\n",
       "      <td>16</td>\n",
       "      <td>MET</td>\n",
       "      <td>3</td>\n",
       "      <td>3</td>\n",
       "      <td>0</td>\n",
       "      <td>2</td>\n",
       "    </tr>\n",
       "    <tr>\n",
       "      <td>17</td>\n",
       "      <td>PHE</td>\n",
       "      <td>20</td>\n",
       "      <td>20</td>\n",
       "      <td>5</td>\n",
       "      <td>8</td>\n",
       "    </tr>\n",
       "    <tr>\n",
       "      <td>18</td>\n",
       "      <td>TRP</td>\n",
       "      <td>2</td>\n",
       "      <td>2</td>\n",
       "      <td>0</td>\n",
       "      <td>0</td>\n",
       "    </tr>\n",
       "    <tr>\n",
       "      <td>19</td>\n",
       "      <td>PRO</td>\n",
       "      <td>27</td>\n",
       "      <td>27</td>\n",
       "      <td>10</td>\n",
       "      <td>14</td>\n",
       "    </tr>\n",
       "  </tbody>\n",
       "</table>\n",
       "</div>"
      ],
      "text/plain": [
       "   Amino_acids  No_of_surf_res (MDAnalysis)  No_of_surf_res (VMD)  \\\n",
       "0          LYS                           59                    59   \n",
       "1          ARG                           23                    23   \n",
       "2          HIS                           16                    16   \n",
       "3          ASP                           40                    40   \n",
       "4          GLU                           59                    59   \n",
       "5          SER                           23                    23   \n",
       "6          THR                           29                    29   \n",
       "7          CYS                           24                    24   \n",
       "8          TYR                           19                    19   \n",
       "9          ASN                           14                    14   \n",
       "10         GLN                           19                    19   \n",
       "11         GLY                           11                    11   \n",
       "12         ALA                           39                    38   \n",
       "13         VAL                           19                    19   \n",
       "14         LEU                           34                    34   \n",
       "15         ILE                            7                     7   \n",
       "16         MET                            3                     3   \n",
       "17         PHE                           20                    20   \n",
       "18         TRP                            2                     2   \n",
       "19         PRO                           27                    27   \n",
       "\n",
       "    peg_0.9nmNR_100ns  peg_1.1nmNR_100ns  \n",
       "0                  34                 26  \n",
       "1                   7                 10  \n",
       "2                   8                  3  \n",
       "3                  22                 16  \n",
       "4                  29                 23  \n",
       "5                   9                  6  \n",
       "6                  16                 16  \n",
       "7                  11                  8  \n",
       "8                   5                  6  \n",
       "9                   5                  4  \n",
       "10                  9                 10  \n",
       "11                  3                  4  \n",
       "12                 13                  8  \n",
       "13                  9                  9  \n",
       "14                 12                 17  \n",
       "15                  0                  4  \n",
       "16                  0                  2  \n",
       "17                  5                  8  \n",
       "18                  0                  0  \n",
       "19                 10                 14  "
      ]
     },
     "execution_count": 88,
     "metadata": {},
     "output_type": "execute_result"
    }
   ],
   "source": [
    "apl_15nmNR = []\n",
    "\n",
    "# Some residues don't have any contact with the 3 N = 20 PLGA oligomers within 100 ns,\n",
    "# Put residues that do have contact with BSA in a separate list\n",
    "for index, r_pl in plg_1_1nmaaNR.iterrows():\n",
    "    if r_pl['mda_plga_frm_1.1nmNR'] != 0:\n",
    "        apl_15nmNR.append(r_pl['BSA_des_res'])\n",
    "        \n",
    "# This chunk of code gets an AA count from the above list, in order \n",
    "# to get a total number of residues that contact BSA\n",
    "cpl_15nmNR = []\n",
    "\n",
    "for index, r_a in aa_count.iterrows():\n",
    "    count = 0\n",
    "    for i in range(len(apl_15nmNR)):\n",
    "        if r_a['Amino_acids'] in apl_15nmNR[i]:\n",
    "            count += 1\n",
    "    cpl_15nmNR.append(count)      \n",
    "        \n",
    "aa_count['peg_1.1nmNR_100ns'] = cpl_15nmNR\n",
    "#aa_count.drop('No_of_surf_res (VMD)', axis=1, inplace=True)\n",
    "aa_count"
   ]
  },
  {
   "cell_type": "code",
   "execution_count": 89,
   "metadata": {},
   "outputs": [
    {
     "data": {
      "text/plain": [
       "194"
      ]
     },
     "execution_count": 89,
     "metadata": {},
     "output_type": "execute_result"
    }
   ],
   "source": [
    "# This gives the total number of residues that are within 4 angstroms of a PLGA oligomer residue\n",
    "# within a 100 ns trajectory block\n",
    "aa_count['peg_1.1nmNR_100ns'].sum()"
   ]
  },
  {
   "cell_type": "code",
   "execution_count": 90,
   "metadata": {},
   "outputs": [
    {
     "data": {
      "text/plain": [
       "487"
      ]
     },
     "execution_count": 90,
     "metadata": {},
     "output_type": "execute_result"
    }
   ],
   "source": [
    "# This gives the total number of residues that are within 4 angstroms of a water molecule\n",
    "# within a 1 ns trajectory block\n",
    "aa_count['No_of_surf_res (MDAnalysis)'].sum()"
   ]
  },
  {
   "cell_type": "code",
   "execution_count": 91,
   "metadata": {},
   "outputs": [
    {
     "data": {
      "text/plain": [
       "0.39835728952772076"
      ]
     },
     "execution_count": 91,
     "metadata": {},
     "output_type": "execute_result"
    }
   ],
   "source": [
    "# This gives the total fraction of contacts within the 1.2 nm Rg 100 ns trajectory\n",
    "aa_count['peg_1.1nmNR_100ns'].sum()/aa_count['No_of_surf_res (MDAnalysis)'].sum()"
   ]
  },
  {
   "cell_type": "code",
   "execution_count": 92,
   "metadata": {},
   "outputs": [
    {
     "name": "stdout",
     "output_type": "stream",
     "text": [
      "Mean Occpancy (1.1 nm Rg): 0.2016030927835052 Occ. std. dev.: 0.2688160615344409\n"
     ]
    }
   ],
   "source": [
    "# Mean occupancy and std deviation \n",
    "ll_mo15 = [value[1] for key, value in h2di_11nmNR.items()]\n",
    "print(\"Mean Occpancy (1.1 nm Rg): \"+str(np.mean(ll_mo15)), \"Occ. std. dev.: \"+str(np.std(ll_mo15)))"
   ]
  },
  {
   "cell_type": "code",
   "execution_count": 93,
   "metadata": {},
   "outputs": [
    {
     "data": {
      "text/plain": [
       "{'Negative': [82535.0, 39, 410558.71794871794, 0.20327846612230716],\n",
       " 'Positive': [83988.0, 39, 417786.4615384615, 0.2068571128936855],\n",
       " 'Polar': [85857.0, 50, 333125.16000000003, 0.1649390661825054],\n",
       " 'Hydrophobic': [138730.0, 66, 407782.1212121212, 0.20190369973450367],\n",
       " 'Aromatic': [39471.0, 17, 450433.7647058824, 0.22302165506699823]}"
      ]
     },
     "execution_count": 93,
     "metadata": {},
     "output_type": "execute_result"
    }
   ],
   "source": [
    "cd_11nmNR = frac_cont(h2di_11nmNR)\n",
    "cd_11nmNR"
   ]
  },
  {
   "cell_type": "markdown",
   "metadata": {},
   "source": [
    "### Calc. fractional contacts for each AA group type "
   ]
  },
  {
   "cell_type": "code",
   "execution_count": 94,
   "metadata": {},
   "outputs": [
    {
     "name": "stdout",
     "output_type": "stream",
     "text": [
      "0\n",
      "2000\n",
      "2000\n",
      "4000\n",
      "4000\n",
      "6000\n",
      "6000\n",
      "8000\n",
      "8000\n",
      "10000\n"
     ]
    }
   ],
   "source": [
    "fcnt_rg11nmNR, prgrp_11nmNR, aamatx_11nmNR = bavg_frac_cnt(5, protNR_11nmPEG, n20PEG_11nmNR, dmax ,u11nmNR_n20PEG, no_surf, 0, 10000)"
   ]
  },
  {
   "cell_type": "code",
   "execution_count": 95,
   "metadata": {},
   "outputs": [
    {
     "data": {
      "text/plain": [
       "{'Negative': array([0.20300842, 0.23379024, 0.18786607, 0.19865067, 0.19501947]),\n",
       " 'Positive': array([0.20365344, 0.17572495, 0.20500498, 0.23368864, 0.25536564]),\n",
       " 'Polar': array([0.20050905, 0.14371756, 0.15930811, 0.16313209, 0.18437636]),\n",
       " 'Hydrophobic': array([0.19747625, 0.23069797, 0.21778499, 0.20142137, 0.17663019]),\n",
       " 'Aromatic': array([0.19535285, 0.21606927, 0.23003586, 0.20310723, 0.18860834]),\n",
       " 'total_frac': array([0.26488706, 0.26283368, 0.24229979, 0.26078029, 0.2238193 ])}"
      ]
     },
     "execution_count": 95,
     "metadata": {},
     "output_type": "execute_result"
    }
   ],
   "source": [
    "fcnt_rg11nmNR"
   ]
  },
  {
   "cell_type": "code",
   "execution_count": 96,
   "metadata": {},
   "outputs": [
    {
     "data": {
      "text/plain": [
       "array([0.20366697, 0.21468753, 0.17020863, 0.20480215, 0.20663471])"
      ]
     },
     "execution_count": 96,
     "metadata": {},
     "output_type": "execute_result"
    }
   ],
   "source": [
    "fc11nm_meanNR = np.array([np.mean(fcnt_rg11nmNR['Negative']), np.mean(fcnt_rg11nmNR['Positive'])\n",
    "                        ,np.mean(fcnt_rg11nmNR['Polar']),np.mean(fcnt_rg11nmNR['Hydrophobic'])\n",
    "                        , np.mean(fcnt_rg11nmNR['Aromatic'])])\n",
    "fc11nm_meanNR"
   ]
  },
  {
   "cell_type": "code",
   "execution_count": 97,
   "metadata": {},
   "outputs": [
    {
     "data": {
      "text/plain": [
       "array([0.01585848, 0.0273837 , 0.01994751, 0.01842773, 0.01484115])"
      ]
     },
     "execution_count": 97,
     "metadata": {},
     "output_type": "execute_result"
    }
   ],
   "source": [
    "fc11nm_stdNR = np.array([np.std(fcnt_rg11nmNR['Negative']), np.std(fcnt_rg11nmNR['Positive'])\n",
    "                       ,np.std(fcnt_rg11nmNR['Polar']),np.std(fcnt_rg11nmNR['Hydrophobic'])\n",
    "                       , np.std(fcnt_rg11nmNR['Aromatic'])])\n",
    "fc11nm_stdNR"
   ]
  },
  {
   "cell_type": "code",
   "execution_count": 99,
   "metadata": {},
   "outputs": [
    {
     "data": {
      "application/vnd.jupyter.widget-view+json": {
       "model_id": "413c067889874812a3356f08122ccc04",
       "version_major": 2,
       "version_minor": 0
      },
      "text/plain": [
       "Canvas(toolbar=Toolbar(toolitems=[('Home', 'Reset original view', 'home', 'home'), ('Back', 'Back to previous …"
      ]
     },
     "metadata": {},
     "output_type": "display_data"
    },
    {
     "data": {
      "text/plain": [
       "Text(0, 0.5, 'Fractional Contacts')"
      ]
     },
     "execution_count": 99,
     "metadata": {},
     "output_type": "execute_result"
    }
   ],
   "source": [
    "x_pos = np.arange(5)\n",
    "width = 0.35\n",
    "aa_types = [\"Negative\", \"Positive\", \"Polar\", \"Hydrophobic\", \"Aromatic\"]\n",
    "fig = plt.figure(figsize=(7,7))\n",
    "fig.canvas.layout.width = '800px'\n",
    "fig.canvas.layout.height = '700px'\n",
    "plt.bar(x_pos, fc09nm_meanNR, width, yerr=fc09nm_stdNR, ecolor='black',capsize=5, color='royalblue')\n",
    "plt.bar(x_pos+width, fc11nm_meanNR, width, yerr=fc11nm_stdNR, ecolor='black',capsize=5, color='c')\n",
    "plt.title(r'Fractional Contacts Rg restrained', fontsize=15)\n",
    "plt.xticks(x_pos+width/2, labels=aa_types, fontsize=12)\n",
    "plt.legend(['Rg = 0.9 nm', 'Rg = 1.1 nm'], frameon=False)\n",
    "plt.ylabel(r'Fractional Contacts', fontsize=15)"
   ]
  },
  {
   "cell_type": "markdown",
   "metadata": {},
   "source": [
    "### Total fraction of contacts: averages and std dev calc from 5 20 ns blocks"
   ]
  },
  {
   "cell_type": "code",
   "execution_count": 100,
   "metadata": {},
   "outputs": [
    {
     "data": {
      "text/plain": [
       "0.2509240246406571"
      ]
     },
     "execution_count": 100,
     "metadata": {},
     "output_type": "execute_result"
    }
   ],
   "source": [
    "np.mean(fcnt_rg11nmNR['total_frac'])"
   ]
  },
  {
   "cell_type": "code",
   "execution_count": 101,
   "metadata": {},
   "outputs": [
    {
     "data": {
      "text/plain": [
       "0.015767025725217633"
      ]
     },
     "execution_count": 101,
     "metadata": {},
     "output_type": "execute_result"
    }
   ],
   "source": [
    "np.std(fcnt_rg11nmNR['total_frac'])"
   ]
  },
  {
   "cell_type": "code",
   "execution_count": null,
   "metadata": {},
   "outputs": [],
   "source": [
    "prgrp_11nmNR"
   ]
  },
  {
   "cell_type": "code",
   "execution_count": null,
   "metadata": {},
   "outputs": [],
   "source": [
    "# matrix containing the avg number of PLGA residues for each block for each amino acid \n",
    "np.where(aamatx_15nmNR[0, 0] != 0)"
   ]
  },
  {
   "cell_type": "markdown",
   "metadata": {},
   "source": [
    "### Avg no. PLGA residues per BSA AA residue group "
   ]
  },
  {
   "cell_type": "code",
   "execution_count": null,
   "metadata": {},
   "outputs": [],
   "source": [
    "prgrp_1_5nm"
   ]
  },
  {
   "cell_type": "code",
   "execution_count": null,
   "metadata": {},
   "outputs": [],
   "source": [
    "mean_15nm = np.zeros(shape=5)\n",
    "std_15nm = np.zeros(shape=5)\n",
    "count = 0\n",
    "for key, value in prgrp_1_5nm.items():\n",
    "    mpl_15nm = []\n",
    "    var_15nm = []\n",
    "    for i in prgrp_1_5nm[str(key)].flat:\n",
    "        mpl_15nm.append(i[0])\n",
    "        var_15nm.append((i[1])**2)\n",
    "    \n",
    "    # calc frac cont averages\n",
    "    mean_15nm[count] = np.mean(mpl_15nm)\n",
    "    \n",
    "    # calc frac cont std dev: https://stats.stackexchange.com/questions/25848/how-to-sum-a-standard-deviation \n",
    "    std_15nm[count] = np.std(mpl_15nm)\n",
    "    #std_15nm[count] = np.sqrt(np.sum(var_15nm)/5)\n",
    "    \n",
    "    count += 1\n"
   ]
  },
  {
   "cell_type": "code",
   "execution_count": null,
   "metadata": {},
   "outputs": [],
   "source": [
    "mean_15nm"
   ]
  },
  {
   "cell_type": "code",
   "execution_count": null,
   "metadata": {},
   "outputs": [],
   "source": [
    "std_15nm"
   ]
  },
  {
   "cell_type": "code",
   "execution_count": null,
   "metadata": {},
   "outputs": [],
   "source": [
    "x_pos = np.arange(5)\n",
    "width = 0.35\n",
    "aa_types = [\"Negative\", \"Positive\", \"Polar\", \"Hydrophobic\", \"Aromatic\"]\n",
    "plt.figure(figsize=(7,7))\n",
    "plt.bar(x_pos, mean_12nm, width, yerr=std_12nm, ecolor='black',capsize=5, color='royalblue')\n",
    "plt.bar(x_pos+width, mean_15nm, width, yerr=std_15nm, ecolor='black',capsize=5, color='c')\n",
    "plt.title(r'No. of PLGA residues Rg restrained', fontsize=15)\n",
    "plt.xticks(x_pos+width/2, labels=aa_types, fontsize=12)\n",
    "plt.legend(['Rg = 1.2 nm', 'Rg = 1.5 nm'], frameon=False)\n",
    "plt.ylabel(r'No. of PLGA residues', fontsize=15)"
   ]
  },
  {
   "cell_type": "markdown",
   "metadata": {},
   "source": [
    "### Protein/polymer contact map movie"
   ]
  },
  {
   "cell_type": "code",
   "execution_count": null,
   "metadata": {},
   "outputs": [],
   "source": [
    "fig = plt.figure(figsize=(10,10))\n",
    "\n",
    "# Set the axis and the plot titles pp\n",
    "\n",
    "plt.title(\"BSA/PLGA contact map 1.5 nm res.\", fontsize=22, loc='left')\n",
    "plt.xlabel(\"PLGA Residue No.\", fontsize=22)\n",
    "plt.ylabel(\"BSA Residue No.\", fontsize=20)\n",
    "\n",
    " # Set the axis range \n",
    "plt.ylim(583, 0)\n",
    "plt.xlim(0, 60)\n",
    "\n",
    "# Plot bands for each chain \n",
    "BANDS = (\n",
    "    (0, 20, \"purple\", \"B\"),\n",
    "    (20, 40, \"blue\", \"C\"),\n",
    "    (40, 60, \"green\", \"D\"),\n",
    ")\n",
    "    \n",
    "text_y = 0.98 # Close to the top\n",
    "for start, stop, color, band in BANDS:\n",
    "    plt.axvspan(start, stop,color=color, alpha=0.15)\n",
    "    text_x = middle_of_band(start,stop)\n",
    "    plt.text(\n",
    "        text_x,\n",
    "        text_y,\n",
    "        \"PLGA chain \" + band,\n",
    "        color=color,\n",
    "        fontsize=18,\n",
    "        transform=fig.gca().transAxes,\n",
    "        horizontalalignment='center',\n",
    "        verticalalignment='center',\n",
    "        style='italic',\n",
    "    )\n",
    "    \n",
    "plt.text(0.94, 1, \"Time [ns]:\", fontsize=20, transform=fig.gca().transAxes, horizontalalignment='right', verticalalignment='bottom')\n",
    "\n",
    "# Set tick label size\n",
    "fig.gca().tick_params(axis='both', which='major', labelsize=20)\n",
    "\n",
    "ims = []\n",
    "for i in range(10000):\n",
    "    data = trj_ppmap_15nm[i]\n",
    "    im = plt.imshow(data, aspect='auto', cmap='Greys')\n",
    "    t_sim = plt.text(1.03, 1, str(i/100), fontsize=20, transform=fig.gca().transAxes, horizontalalignment='right', verticalalignment='bottom')\n",
    "    ims.append([im, t_sim])\n",
    "    \n",
    "ani = animation.ArtistAnimation(fig, ims, blit=True, repeat=False)\n",
    "ani.save('1.5nm_res.mp4', writer='ffmpeg', fps=50, bitrate=100000)\n",
    "#plt.tight_layout()\n",
    "#plt.show()"
   ]
  },
  {
   "cell_type": "markdown",
   "metadata": {},
   "source": [
    "# 1.4 nm unrestrained Rg PEG 100 ns trajectory"
   ]
  },
  {
   "cell_type": "markdown",
   "metadata": {},
   "source": [
    "### Contact Analyis"
   ]
  },
  {
   "cell_type": "code",
   "execution_count": 102,
   "metadata": {},
   "outputs": [],
   "source": [
    "# Set up the MD Simulation\n",
    "u14nmNR_n20PEG = mda.Universe(\"NoRes_bsapeg/1.4nm_NoRes/1.4nmNoRes_bpeg.pdb\", \"NoRes_bsapeg/1.4nm_NoRes/nowat_1.4nmNoRes.xtc\")"
   ]
  },
  {
   "cell_type": "code",
   "execution_count": 103,
   "metadata": {},
   "outputs": [
    {
     "data": {
      "text/plain": [
       "<Universe with 9665 atoms>"
      ]
     },
     "execution_count": 103,
     "metadata": {},
     "output_type": "execute_result"
    }
   ],
   "source": [
    "u14nmNR_n20PEG"
   ]
  },
  {
   "cell_type": "code",
   "execution_count": 104,
   "metadata": {},
   "outputs": [
    {
     "data": {
      "text/plain": [
       "10001"
      ]
     },
     "execution_count": 104,
     "metadata": {},
     "output_type": "execute_result"
    }
   ],
   "source": [
    "pn20_len14nmNR = len(u14nmNR_n20PEG.trajectory)\n",
    "pn20_len14nmNR"
   ]
  },
  {
   "cell_type": "code",
   "execution_count": 105,
   "metadata": {},
   "outputs": [
    {
     "data": {
      "text/plain": [
       "<AtomGroup with 183 atoms>"
      ]
     },
     "execution_count": 105,
     "metadata": {},
     "output_type": "execute_result"
    }
   ],
   "source": [
    "#Select all the PLGA residues, heavy atoms only \n",
    "pn20_14nmNR = u14nmNR_n20PEG.select_atoms(\"resname sPEG PEG tPEG and not type H\")\n",
    "pn20_14nmNR"
   ]
  },
  {
   "cell_type": "code",
   "execution_count": 106,
   "metadata": {},
   "outputs": [
    {
     "data": {
      "text/plain": [
       "<AtomGroup with 4653 atoms>"
      ]
     },
     "execution_count": 106,
     "metadata": {},
     "output_type": "execute_result"
    }
   ],
   "source": [
    "# Select BSA residues, heavy atoms only \n",
    "prot_14nmNR = u14nmNR_n20PEG.select_atoms(\"protein and not type H\")\n",
    "prot_14nmNR"
   ]
  },
  {
   "cell_type": "code",
   "execution_count": 107,
   "metadata": {},
   "outputs": [
    {
     "data": {
      "text/plain": [
       "383.2374846050516"
      ]
     },
     "execution_count": 107,
     "metadata": {},
     "output_type": "execute_result"
    }
   ],
   "source": [
    "#dmax = 4.0, protein group(4653 atoms), plga atom group (543 atoms), took 381.6 s (6 min 36s on 4 cores)\n",
    "start = 0\n",
    "end = pn20_len14nmNR - 1\n",
    "s_time = timeit.default_timer()\n",
    "h2di_14nmNR = aa_frmcount(prot_14nmNR, pn20_14nmNR, dmax, u14nmNR_n20PEG, start, end)\n",
    "timeit.default_timer() - s_time\n",
    "#h2di_14nm"
   ]
  },
  {
   "cell_type": "code",
   "execution_count": 109,
   "metadata": {},
   "outputs": [
    {
     "data": {
      "text/plain": [
       "150"
      ]
     },
     "execution_count": 109,
     "metadata": {},
     "output_type": "execute_result"
    }
   ],
   "source": [
    "len(h2di_14nmNR.keys())"
   ]
  },
  {
   "cell_type": "code",
   "execution_count": 111,
   "metadata": {},
   "outputs": [
    {
     "data": {
      "text/html": [
       "<div>\n",
       "<style scoped>\n",
       "    .dataframe tbody tr th:only-of-type {\n",
       "        vertical-align: middle;\n",
       "    }\n",
       "\n",
       "    .dataframe tbody tr th {\n",
       "        vertical-align: top;\n",
       "    }\n",
       "\n",
       "    .dataframe thead th {\n",
       "        text-align: right;\n",
       "    }\n",
       "</style>\n",
       "<table border=\"1\" class=\"dataframe\">\n",
       "  <thead>\n",
       "    <tr style=\"text-align: right;\">\n",
       "      <th></th>\n",
       "      <th>BSA_des_res</th>\n",
       "      <th>mda_plga_frm_1.4nmNR</th>\n",
       "    </tr>\n",
       "  </thead>\n",
       "  <tbody>\n",
       "    <tr>\n",
       "      <td>0</td>\n",
       "      <td>ASP 1</td>\n",
       "      <td>62.0</td>\n",
       "    </tr>\n",
       "    <tr>\n",
       "      <td>1</td>\n",
       "      <td>THR 2</td>\n",
       "      <td>1857.0</td>\n",
       "    </tr>\n",
       "    <tr>\n",
       "      <td>2</td>\n",
       "      <td>HIS 3</td>\n",
       "      <td>6243.0</td>\n",
       "    </tr>\n",
       "    <tr>\n",
       "      <td>3</td>\n",
       "      <td>LYS 4</td>\n",
       "      <td>370.0</td>\n",
       "    </tr>\n",
       "    <tr>\n",
       "      <td>4</td>\n",
       "      <td>SER 5</td>\n",
       "      <td>1421.0</td>\n",
       "    </tr>\n",
       "  </tbody>\n",
       "</table>\n",
       "</div>"
      ],
      "text/plain": [
       "  BSA_des_res  mda_plga_frm_1.4nmNR\n",
       "0       ASP 1                  62.0\n",
       "1       THR 2                1857.0\n",
       "2       HIS 3                6243.0\n",
       "3       LYS 4                 370.0\n",
       "4       SER 5                1421.0"
      ]
     },
     "execution_count": 111,
     "metadata": {},
     "output_type": "execute_result"
    }
   ],
   "source": [
    "pr_res14nmNR = list(prot_14nmNR.residues)\n",
    "ss_res14nmNR = [str(row) for row in pr_res14nmNR]\n",
    "rkg_14nmNR = {key:h2di_14nmNR[key][0] for key, value in h2di_14nmNR.items()}\n",
    "plg_14nmaaNR = pd.DataFrame(data=ss_res14nmNR, columns=[\"BSA_des_res\"])\n",
    "plg_14nmaaNR['mda_plga_frm_1.4nmNR'] = plg_14nmaaNR['BSA_des_res'].map(rkg_14nmNR)\n",
    "plg_14nmaaNR['BSA_des_res'] = red_bsa\n",
    "plg_14nmaaNR['mda_plga_frm_1.4nmNR'] = plg_14nmaaNR['mda_plga_frm_1.4nmNR'].replace('nan', np.nan).fillna(0)\n",
    "plg_14nmaaNR.head()"
   ]
  },
  {
   "cell_type": "code",
   "execution_count": 113,
   "metadata": {},
   "outputs": [
    {
     "data": {
      "text/html": [
       "<div>\n",
       "<style scoped>\n",
       "    .dataframe tbody tr th:only-of-type {\n",
       "        vertical-align: middle;\n",
       "    }\n",
       "\n",
       "    .dataframe tbody tr th {\n",
       "        vertical-align: top;\n",
       "    }\n",
       "\n",
       "    .dataframe thead th {\n",
       "        text-align: right;\n",
       "    }\n",
       "</style>\n",
       "<table border=\"1\" class=\"dataframe\">\n",
       "  <thead>\n",
       "    <tr style=\"text-align: right;\">\n",
       "      <th></th>\n",
       "      <th>BSA_des_res</th>\n",
       "      <th>mda_occ_0.9nmNR</th>\n",
       "      <th>mda_occ_1.1nmNR</th>\n",
       "      <th>mda_occ_1.4nmNR</th>\n",
       "    </tr>\n",
       "  </thead>\n",
       "  <tbody>\n",
       "    <tr>\n",
       "      <td>0</td>\n",
       "      <td>&lt;Residue ASP, 1&gt;</td>\n",
       "      <td>0.01</td>\n",
       "      <td>0.0</td>\n",
       "      <td>0.01</td>\n",
       "    </tr>\n",
       "    <tr>\n",
       "      <td>1</td>\n",
       "      <td>&lt;Residue THR, 2&gt;</td>\n",
       "      <td>0.02</td>\n",
       "      <td>0.0</td>\n",
       "      <td>0.19</td>\n",
       "    </tr>\n",
       "    <tr>\n",
       "      <td>2</td>\n",
       "      <td>&lt;Residue HIS, 3&gt;</td>\n",
       "      <td>0.00</td>\n",
       "      <td>0.0</td>\n",
       "      <td>0.62</td>\n",
       "    </tr>\n",
       "    <tr>\n",
       "      <td>3</td>\n",
       "      <td>&lt;Residue LYS, 4&gt;</td>\n",
       "      <td>0.00</td>\n",
       "      <td>0.0</td>\n",
       "      <td>0.04</td>\n",
       "    </tr>\n",
       "    <tr>\n",
       "      <td>4</td>\n",
       "      <td>&lt;Residue SER, 5&gt;</td>\n",
       "      <td>0.00</td>\n",
       "      <td>0.0</td>\n",
       "      <td>0.14</td>\n",
       "    </tr>\n",
       "    <tr>\n",
       "      <td>...</td>\n",
       "      <td>...</td>\n",
       "      <td>...</td>\n",
       "      <td>...</td>\n",
       "      <td>...</td>\n",
       "    </tr>\n",
       "    <tr>\n",
       "      <td>578</td>\n",
       "      <td>&lt;Residue GLN, 579&gt;</td>\n",
       "      <td>0.02</td>\n",
       "      <td>0.0</td>\n",
       "      <td>0.00</td>\n",
       "    </tr>\n",
       "    <tr>\n",
       "      <td>579</td>\n",
       "      <td>&lt;Residue THR, 580&gt;</td>\n",
       "      <td>0.12</td>\n",
       "      <td>0.0</td>\n",
       "      <td>0.03</td>\n",
       "    </tr>\n",
       "    <tr>\n",
       "      <td>580</td>\n",
       "      <td>&lt;Residue ALA, 581&gt;</td>\n",
       "      <td>0.18</td>\n",
       "      <td>0.0</td>\n",
       "      <td>0.00</td>\n",
       "    </tr>\n",
       "    <tr>\n",
       "      <td>581</td>\n",
       "      <td>&lt;Residue LEU, 582&gt;</td>\n",
       "      <td>0.07</td>\n",
       "      <td>0.0</td>\n",
       "      <td>0.00</td>\n",
       "    </tr>\n",
       "    <tr>\n",
       "      <td>582</td>\n",
       "      <td>&lt;Residue ALA, 583&gt;</td>\n",
       "      <td>0.15</td>\n",
       "      <td>0.0</td>\n",
       "      <td>0.00</td>\n",
       "    </tr>\n",
       "  </tbody>\n",
       "</table>\n",
       "<p>583 rows × 4 columns</p>\n",
       "</div>"
      ],
      "text/plain": [
       "            BSA_des_res  mda_occ_0.9nmNR  mda_occ_1.1nmNR  mda_occ_1.4nmNR\n",
       "0      <Residue ASP, 1>             0.01              0.0             0.01\n",
       "1      <Residue THR, 2>             0.02              0.0             0.19\n",
       "2      <Residue HIS, 3>             0.00              0.0             0.62\n",
       "3      <Residue LYS, 4>             0.00              0.0             0.04\n",
       "4      <Residue SER, 5>             0.00              0.0             0.14\n",
       "..                  ...              ...              ...              ...\n",
       "578  <Residue GLN, 579>             0.02              0.0             0.00\n",
       "579  <Residue THR, 580>             0.12              0.0             0.03\n",
       "580  <Residue ALA, 581>             0.18              0.0             0.00\n",
       "581  <Residue LEU, 582>             0.07              0.0             0.00\n",
       "582  <Residue ALA, 583>             0.15              0.0             0.00\n",
       "\n",
       "[583 rows x 4 columns]"
      ]
     },
     "execution_count": 113,
     "metadata": {},
     "output_type": "execute_result"
    }
   ],
   "source": [
    "# Extract mean occupancy values\n",
    "pr_res_14ur = list(prot_14nmNR.residues)\n",
    "ss_res_14ur = [str(row) for row in pr_res_14ur]\n",
    "rkg_14NR = {key:h2di_14nmNR[key][1] for key, value in h2di_14nmNR.items()}\n",
    "plg_09nmNR_occ['mda_occ_1.4nmNR'] = plg_09nmNR_occ['BSA_des_res'].map(rkg_14NR)\n",
    "plg_09nmNR_occ['mda_occ_1.4nmNR'] = plg_09nmNR_occ['mda_occ_1.4nmNR'].replace('nan', np.nan).fillna(0)\n",
    "plg_09nmNR_occ['mda_occ_1.4nmNR'] = plg_09nmNR_occ['mda_occ_1.4nmNR'].round(2)\n",
    "plg_09nmNR_occ"
   ]
  },
  {
   "cell_type": "code",
   "execution_count": 115,
   "metadata": {},
   "outputs": [],
   "source": [
    "bsa_NR = np.array(list(prot_14nmNR.resids)) # shape is 4652\n",
    "m_occ_14nmNR = np.array(list(plg_09nmNR_occ['mda_occ_1.4nmNR'])) # shape is 583\n",
    "m_occ_14New = np.zeros(shape=(4653))\n",
    "at_ind = np.where(bsa_NR[:-1] != bsa_NR[1:])[0]\n",
    "at_in_nw = np.sort(np.append([0,4653],at_ind))\n",
    "nw_v = 0\n",
    "for i in range(583):\n",
    "    b = at_in_nw[i+1] +1\n",
    "    m_occ_14New[nw_v:b] = m_occ_14nmNR[i]\n",
    "    nw_v = at_in_nw[i+1] + 1 "
   ]
  },
  {
   "cell_type": "code",
   "execution_count": 116,
   "metadata": {},
   "outputs": [
    {
     "data": {
      "text/plain": [
       "(array([   0,    1,    2,    3,    4,    5,    6,    7,    8,    9,   10,\n",
       "          11,   12,   13,   14,   15,   16,   17,   18,   19,   20,   21,\n",
       "          22,   23,   24,   25,   26,   27,   28,   29,   30,   31,   32,\n",
       "          33,   34,   35,   36,   37,   38,   39,   57,   58,   59,   60,\n",
       "          61,   62,   63,   64,   65,   66,   67,   68,   69,   70,   71,\n",
       "          83,   84,   85,   86,   87,   88,   89,   90,   91,   92,   93,\n",
       "          94,   95,   96,   97,   98,   99,  100,  101,  102,  103,  104,\n",
       "         105,  106,  107,  108,  109,  110,  111,  112,  113,  114,  115,\n",
       "         116,  117,  118,  119,  120,  121,  122,  123,  124,  125,  126,\n",
       "         127,  128,  129,  130,  131,  132,  133,  134,  135,  136,  137,\n",
       "         138,  139,  140,  141,  142,  143,  144,  145,  146,  147,  148,\n",
       "         149,  150,  266,  267,  268,  269,  270,  271,  272,  273,  274,\n",
       "         275,  276,  277,  278,  279,  280,  281,  282,  283,  284,  285,\n",
       "         286,  287,  414,  415,  416,  417,  418,  419,  420,  421,  422,\n",
       "         430,  431,  432,  433,  434,  435,  436,  437,  438,  439,  440,\n",
       "         441,  442,  443,  444,  445,  446,  447,  448,  449,  450,  451,\n",
       "         452,  453,  454,  455,  456,  457,  458,  459,  460,  461,  462,\n",
       "         463,  464,  645,  646,  647,  648,  649,  650,  651,  652,  653,\n",
       "         654,  655,  656,  657,  658,  659,  660,  877,  878,  879,  880,\n",
       "         881,  882,  883,  884,  885,  886,  887,  888,  889,  890,  891,\n",
       "         892,  893,  894,  895,  896,  897,  898,  899,  909,  910,  911,\n",
       "         912,  913,  914,  915,  916,  994,  995,  996,  997,  998,  999,\n",
       "        1000, 1001, 1002, 1003, 1004, 1019, 1020, 1021, 1022, 1023, 1024,\n",
       "        1025, 1026, 1027, 1028, 1029, 1030, 1031, 1032, 1033, 1034, 1035,\n",
       "        1036, 1037, 1038, 1039, 1040, 1041, 1042, 1043, 1044, 1065, 1066,\n",
       "        1067, 1068, 1069, 1070, 1071, 1072, 1073, 1074, 1075, 1076, 1077,\n",
       "        1078, 1083, 1084, 1085, 1086, 1087, 1088, 1089, 1090, 1091, 1112,\n",
       "        1113, 1114, 1115, 1116, 1117, 1118, 1119, 1120, 1121, 1122, 1123,\n",
       "        1124, 1125, 1126, 1127, 1128, 1129, 1130, 1131, 1132, 1146, 1147,\n",
       "        1148, 1149, 1150, 1151, 1152, 1153, 1154, 1155, 1156, 1157, 1158,\n",
       "        1159, 1160, 1161, 1162, 1163, 1164, 1165, 1166, 1167, 1286, 1287,\n",
       "        1288, 1289, 1290, 1291, 1292, 1293, 1315, 1316, 1317, 1318, 1319,\n",
       "        1320, 1321, 1322, 1323, 1324, 1325, 1326, 1345, 1346, 1347, 1348,\n",
       "        1349, 1350, 1351, 1352, 1353, 2237, 2238, 2239, 2240, 2241, 2242,\n",
       "        2243, 2244, 2245, 2246, 2247, 2248, 2249, 2250, 2251, 2252, 2253,\n",
       "        2254, 2255, 2256, 2257, 2258, 2259, 2260, 2261, 2262, 2263, 2264,\n",
       "        2265, 2266, 2267, 2268, 2269, 2270, 2271, 2272, 2273, 2274, 2275,\n",
       "        2276, 2817, 2818, 2819, 2820, 2821, 2822, 2823, 2824, 2825, 2847,\n",
       "        2848, 2849, 2850, 2851, 2852, 2853, 2854, 2855, 2856, 2857, 2858,\n",
       "        2876, 2877, 2878, 2879, 2880, 2881, 2882, 2883, 2884, 2885, 2886,\n",
       "        2887, 2888, 2889, 2890, 2891, 2892, 2893, 2894, 2895, 2896, 2897,\n",
       "        2898, 2899, 2900, 2901, 2902, 2903, 2904, 2905, 2906, 2907, 2908,\n",
       "        2909, 2910, 2911, 2912, 2913, 2914, 2915, 2916, 2917, 2918, 2919,\n",
       "        2920, 2921, 2922, 2923, 2924, 2925, 2926, 2927, 2928, 2929, 2930,\n",
       "        2931, 2932, 2933, 2944, 2945, 2946, 2947, 2948, 2949, 2950, 2951,\n",
       "        2952, 2953, 2954, 2967, 2968, 2969, 2970, 2971, 2972, 2973, 2974,\n",
       "        2975, 2976, 2977, 2978, 2979, 2980, 2981, 2982, 2983, 2984, 2985,\n",
       "        2986, 2998, 2999, 3000, 3001, 3002, 3003, 3004, 3005, 3006, 3007,\n",
       "        3008, 3009, 3010, 3011, 3012, 3013, 3014, 3032, 3033, 3034, 3035,\n",
       "        3036, 3037, 3038, 3039, 3040, 3041, 3042, 3043, 3044, 3045, 3046,\n",
       "        3047, 3048, 3049, 3065, 3066, 3067, 3068, 3069, 3070, 3071, 3072,\n",
       "        3073, 3854, 3855, 3856, 3857, 3858, 3859, 3860, 3861, 4000, 4001,\n",
       "        4002, 4003, 4004, 4005, 4006, 4007, 4008, 4009, 4010, 4011, 4012,\n",
       "        4013, 4014, 4015, 4016, 4017, 4018, 4019, 4020, 4021, 4022, 4023,\n",
       "        4024, 4025, 4026, 4027, 4028, 4029, 4030, 4031, 4032, 4033, 4034,\n",
       "        4035, 4036, 4037, 4038, 4039, 4040, 4041, 4042, 4043, 4044, 4045,\n",
       "        4046, 4047, 4048, 4049, 4061, 4062, 4063, 4064, 4065, 4066, 4067,\n",
       "        4068, 4069, 4070, 4071, 4072, 4073, 4074, 4075, 4076, 4077, 4078,\n",
       "        4079, 4080, 4081, 4082, 4083, 4084, 4085, 4086, 4087, 4088, 4089,\n",
       "        4090, 4091, 4092, 4093, 4094, 4095, 4096, 4097, 4098, 4099, 4100,\n",
       "        4101, 4188, 4189, 4190, 4191, 4192, 4193, 4194, 4195, 4196, 4511,\n",
       "        4512, 4513, 4514, 4515, 4516, 4517, 4518, 4519, 4520, 4521, 4522,\n",
       "        4523, 4524, 4531, 4532, 4533, 4534, 4535, 4536, 4537, 4538, 4539,\n",
       "        4540, 4541, 4542, 4543, 4544, 4545, 4546, 4547, 4548, 4549, 4550,\n",
       "        4551, 4552, 4553, 4554, 4555, 4556, 4557, 4558, 4559, 4560, 4561,\n",
       "        4562, 4567, 4568, 4569, 4570, 4571, 4572, 4573, 4574, 4575, 4576,\n",
       "        4577, 4578, 4579, 4580, 4581, 4582, 4583, 4584, 4585, 4586, 4587,\n",
       "        4588, 4589, 4590, 4598, 4599, 4600, 4601, 4602, 4603, 4604, 4605,\n",
       "        4606, 4607, 4608, 4609, 4610, 4627, 4628, 4629, 4630, 4631, 4632,\n",
       "        4633]),)"
      ]
     },
     "execution_count": 116,
     "metadata": {},
     "output_type": "execute_result"
    }
   ],
   "source": [
    "np.nonzero(m_occ_14New)"
   ]
  },
  {
   "cell_type": "markdown",
   "metadata": {},
   "source": [
    "### Visualize Occupanct on protein "
   ]
  },
  {
   "cell_type": "code",
   "execution_count": 117,
   "metadata": {},
   "outputs": [
    {
     "data": {
      "text/plain": [
       "array([0.01, 0.01, 0.01, ..., 0.  , 0.  , 0.  ])"
      ]
     },
     "execution_count": 117,
     "metadata": {},
     "output_type": "execute_result"
    }
   ],
   "source": [
    "prot_14nmNR.occupancies = m_occ_14New\n",
    "prot_14nmNR.occupancies"
   ]
  },
  {
   "cell_type": "code",
   "execution_count": 118,
   "metadata": {},
   "outputs": [],
   "source": [
    "with mda.Writer(\"prot14nm_NoRes.pdb\") as pdb:\n",
    "    pdb.write(prot_14nmNR)"
   ]
  },
  {
   "cell_type": "markdown",
   "metadata": {},
   "source": [
    "### Residue Importance: 1.4 nm unrestrained "
   ]
  },
  {
   "cell_type": "code",
   "execution_count": 119,
   "metadata": {},
   "outputs": [],
   "source": [
    "# Need to fix function, the residue number are not counting the other 2 PLGA oligomers cuz of same resid number\n",
    "trjmap_14nmPEGNR = prot_poly_cntmovie(prot_14nmNR, pn20_14nmNR, dmax, u14nmNR_n20PEG, 0, 10000)\n",
    "#trj_ppmap_12nm_chC = prot_poly_cntmovie(prot, all_pn20_C, dmax, u_pn20, 0, 10000)"
   ]
  },
  {
   "cell_type": "code",
   "execution_count": 120,
   "metadata": {},
   "outputs": [],
   "source": [
    "np.save('1.4nm_NoRes.npy', trjmap_14nmPEGNR)    # .npy extension is added if not given"
   ]
  },
  {
   "cell_type": "code",
   "execution_count": null,
   "metadata": {},
   "outputs": [],
   "source": [
    "trj_ppmap_2nm = np.load('2nm_res.npy', allow_pickle=True)\n",
    "trj_ppmap_2nm"
   ]
  },
  {
   "cell_type": "code",
   "execution_count": 121,
   "metadata": {},
   "outputs": [
    {
     "data": {
      "text/plain": [
       "(583, 60)"
      ]
     },
     "execution_count": 121,
     "metadata": {},
     "output_type": "execute_result"
    }
   ],
   "source": [
    "trjmap_14nmPEGNR[0].shape"
   ]
  },
  {
   "cell_type": "code",
   "execution_count": 122,
   "metadata": {},
   "outputs": [
    {
     "data": {
      "text/plain": [
       "0.0"
      ]
     },
     "execution_count": 122,
     "metadata": {},
     "output_type": "execute_result"
    }
   ],
   "source": [
    "np.sum(trjmap_14nmPEGNR[1000][0])"
   ]
  },
  {
   "cell_type": "code",
   "execution_count": 123,
   "metadata": {},
   "outputs": [
    {
     "data": {
      "text/plain": [
       "(10000,)"
      ]
     },
     "execution_count": 123,
     "metadata": {},
     "output_type": "execute_result"
    }
   ],
   "source": [
    "kj = np.zeros(shape=(10000, 583))\n",
    "kj[:,582].shape"
   ]
  },
  {
   "cell_type": "code",
   "execution_count": 124,
   "metadata": {},
   "outputs": [],
   "source": [
    "pp_14nmNR_ct = np.zeros(shape=(10000, 583))\n",
    "for i in range(10000):\n",
    "    for j in range(583):\n",
    "        pp_14nmNR_ct[i][j] = np.sum(trjmap_14nmPEGNR[i][j])"
   ]
  },
  {
   "cell_type": "code",
   "execution_count": 125,
   "metadata": {},
   "outputs": [],
   "source": [
    "pp_14nmtotNR = np.zeros(shape=(583))\n",
    "for i in range(583):\n",
    "    pp_14nmtotNR[i] = np.sum(pp_14nmNR_ct[:,i])\n",
    "#pp_12nmtot"
   ]
  },
  {
   "cell_type": "code",
   "execution_count": 127,
   "metadata": {},
   "outputs": [
    {
     "data": {
      "text/plain": [
       "(array([  0,   1,   2,   3,   4,   7,   8,  10,  11,  12,  13,  14,  15,\n",
       "         16,  17,  19,  32,  33,  34,  35,  36,  37,  47,  50,  51,  52,\n",
       "         53,  54,  55,  56,  77,  78,  81,  82, 109, 110, 111, 112, 113,\n",
       "        114, 115, 116, 125, 128, 129, 130, 133, 135, 138, 139, 142, 143,\n",
       "        156, 157, 158, 160, 161, 164, 257, 260, 277, 278, 279, 280, 281,\n",
       "        282, 283, 284, 318, 346, 349, 350, 353, 354, 357, 358, 359, 360,\n",
       "        361, 362, 363, 364, 366, 367, 368, 369, 370, 371, 373, 374, 375,\n",
       "        376, 377, 378, 380, 381, 387, 417, 418, 419, 440, 466, 477, 478,\n",
       "        481, 483, 484, 487, 488, 496, 497, 498, 499, 500, 501, 502, 503,\n",
       "        504, 506, 507, 508, 509, 510, 511, 513, 522, 525, 529, 532, 548,\n",
       "        555, 558, 559, 560, 561, 562, 563, 564, 566, 567, 568, 569, 571,\n",
       "        572, 573, 575, 576, 578, 579, 580]),)"
      ]
     },
     "execution_count": 127,
     "metadata": {},
     "output_type": "execute_result"
    }
   ],
   "source": [
    "np.nonzero(pp_14nmtotNR)"
   ]
  },
  {
   "cell_type": "code",
   "execution_count": 128,
   "metadata": {},
   "outputs": [],
   "source": [
    "a_peg = np.sum(pp_14nmtotNR)"
   ]
  },
  {
   "cell_type": "code",
   "execution_count": 129,
   "metadata": {},
   "outputs": [],
   "source": [
    "b_peg = np.sum(pp_11nmtotNR)"
   ]
  },
  {
   "cell_type": "code",
   "execution_count": 130,
   "metadata": {},
   "outputs": [],
   "source": [
    "c_peg = np.sum(pp_09nmtotNR)"
   ]
  },
  {
   "cell_type": "code",
   "execution_count": null,
   "metadata": {},
   "outputs": [],
   "source": [
    "plt.close('all')"
   ]
  },
  {
   "cell_type": "code",
   "execution_count": 131,
   "metadata": {},
   "outputs": [
    {
     "data": {
      "application/vnd.jupyter.widget-view+json": {
       "model_id": "7632310bfbca4270bd903cec8c00ee5d",
       "version_major": 2,
       "version_minor": 0
      },
      "text/plain": [
       "Canvas(toolbar=Toolbar(toolitems=[('Home', 'Reset original view', 'home', 'home'), ('Back', 'Back to previous …"
      ]
     },
     "metadata": {},
     "output_type": "display_data"
    },
    {
     "data": {
      "text/plain": [
       "Text(0.5, 0, 'BSA Residue ID')"
      ]
     },
     "execution_count": 131,
     "metadata": {},
     "output_type": "execute_result"
    }
   ],
   "source": [
    "y_pos = np.arange(583) + 1\n",
    "wid = np.zeros(shape=583)\n",
    "wid += 1.5\n",
    "#wid\n",
    "fig = plt.figure(figsize=(12,12))\n",
    "fig.canvas.layout.width = '800px'\n",
    "fig.canvas.layout.height = '700px'\n",
    "plt.bar(y_pos, pp_09nmtotNR/c_peg, align='center',width=wid, alpha=0.5, color='#1D77CF',label='0.9 nm PEG')\n",
    "plt.bar(y_pos+0.25, pp_11nmtotNR/b_peg, align='center',width=wid, color='#562A8B', alpha=0.3, label='1.1 nm PEG')\n",
    "plt.bar(y_pos+0.3, pp_14nmtotNR/a_peg, align='center',width=wid, color='#4E4C4D', alpha=0.3, label='1.4 nm PEG')\n",
    "#plt.bar(y_pos+0.25, pp_11nmtot/b_peg, align='center',width=wid, color='#562A8B', alpha=0.3, label='1.1 nm PEG')\n",
    "#plt.bar(y_pos, pp_09nmtot/c_peg, align='center',width=wid, alpha=0.5, color='#1D77CF',label='0.9 nm PEG')\n",
    "plt.title(\"BSA in water with PEG Unrestrained, 100 ns\", fontsize=18)\n",
    "plt.xticks(fontsize=14)\n",
    "plt.yticks(fontsize=14)\n",
    "plt.xlim([0,600])\n",
    "plt.ylim([0,0.2])\n",
    "plt.legend(fontsize=14)\n",
    "plt.ylabel(r'Normalized Total No. of PEG contacts', fontsize=15)\n",
    "plt.xlabel(r'BSA Residue ID', fontsize=15)"
   ]
  },
  {
   "cell_type": "markdown",
   "metadata": {},
   "source": [
    "### Total number of residues that are within 4 angstroms of a PEG oligomer residue within a 100 ns trajectory block"
   ]
  },
  {
   "cell_type": "code",
   "execution_count": 135,
   "metadata": {},
   "outputs": [
    {
     "data": {
      "text/html": [
       "<div>\n",
       "<style scoped>\n",
       "    .dataframe tbody tr th:only-of-type {\n",
       "        vertical-align: middle;\n",
       "    }\n",
       "\n",
       "    .dataframe tbody tr th {\n",
       "        vertical-align: top;\n",
       "    }\n",
       "\n",
       "    .dataframe thead th {\n",
       "        text-align: right;\n",
       "    }\n",
       "</style>\n",
       "<table border=\"1\" class=\"dataframe\">\n",
       "  <thead>\n",
       "    <tr style=\"text-align: right;\">\n",
       "      <th></th>\n",
       "      <th>Amino_acids</th>\n",
       "      <th>No_of_surf_res (MDAnalysis)</th>\n",
       "      <th>No_of_surf_res (VMD)</th>\n",
       "      <th>peg_0.9nmNR_100ns</th>\n",
       "      <th>peg_1.1nmNR_100ns</th>\n",
       "      <th>peg_1.4nmNR_100ns</th>\n",
       "    </tr>\n",
       "  </thead>\n",
       "  <tbody>\n",
       "    <tr>\n",
       "      <td>0</td>\n",
       "      <td>LYS</td>\n",
       "      <td>59</td>\n",
       "      <td>59</td>\n",
       "      <td>34</td>\n",
       "      <td>26</td>\n",
       "      <td>24</td>\n",
       "    </tr>\n",
       "    <tr>\n",
       "      <td>1</td>\n",
       "      <td>ARG</td>\n",
       "      <td>23</td>\n",
       "      <td>23</td>\n",
       "      <td>7</td>\n",
       "      <td>10</td>\n",
       "      <td>4</td>\n",
       "    </tr>\n",
       "    <tr>\n",
       "      <td>2</td>\n",
       "      <td>HIS</td>\n",
       "      <td>16</td>\n",
       "      <td>16</td>\n",
       "      <td>8</td>\n",
       "      <td>3</td>\n",
       "      <td>5</td>\n",
       "    </tr>\n",
       "    <tr>\n",
       "      <td>3</td>\n",
       "      <td>ASP</td>\n",
       "      <td>40</td>\n",
       "      <td>40</td>\n",
       "      <td>22</td>\n",
       "      <td>16</td>\n",
       "      <td>16</td>\n",
       "    </tr>\n",
       "    <tr>\n",
       "      <td>4</td>\n",
       "      <td>GLU</td>\n",
       "      <td>59</td>\n",
       "      <td>59</td>\n",
       "      <td>29</td>\n",
       "      <td>23</td>\n",
       "      <td>18</td>\n",
       "    </tr>\n",
       "    <tr>\n",
       "      <td>5</td>\n",
       "      <td>SER</td>\n",
       "      <td>23</td>\n",
       "      <td>23</td>\n",
       "      <td>9</td>\n",
       "      <td>6</td>\n",
       "      <td>7</td>\n",
       "    </tr>\n",
       "    <tr>\n",
       "      <td>6</td>\n",
       "      <td>THR</td>\n",
       "      <td>29</td>\n",
       "      <td>29</td>\n",
       "      <td>16</td>\n",
       "      <td>16</td>\n",
       "      <td>10</td>\n",
       "    </tr>\n",
       "    <tr>\n",
       "      <td>7</td>\n",
       "      <td>CYS</td>\n",
       "      <td>24</td>\n",
       "      <td>24</td>\n",
       "      <td>11</td>\n",
       "      <td>8</td>\n",
       "      <td>6</td>\n",
       "    </tr>\n",
       "    <tr>\n",
       "      <td>8</td>\n",
       "      <td>TYR</td>\n",
       "      <td>19</td>\n",
       "      <td>19</td>\n",
       "      <td>5</td>\n",
       "      <td>6</td>\n",
       "      <td>2</td>\n",
       "    </tr>\n",
       "    <tr>\n",
       "      <td>9</td>\n",
       "      <td>ASN</td>\n",
       "      <td>14</td>\n",
       "      <td>14</td>\n",
       "      <td>5</td>\n",
       "      <td>4</td>\n",
       "      <td>4</td>\n",
       "    </tr>\n",
       "    <tr>\n",
       "      <td>10</td>\n",
       "      <td>GLN</td>\n",
       "      <td>19</td>\n",
       "      <td>19</td>\n",
       "      <td>9</td>\n",
       "      <td>10</td>\n",
       "      <td>4</td>\n",
       "    </tr>\n",
       "    <tr>\n",
       "      <td>11</td>\n",
       "      <td>GLY</td>\n",
       "      <td>11</td>\n",
       "      <td>11</td>\n",
       "      <td>3</td>\n",
       "      <td>4</td>\n",
       "      <td>2</td>\n",
       "    </tr>\n",
       "    <tr>\n",
       "      <td>12</td>\n",
       "      <td>ALA</td>\n",
       "      <td>39</td>\n",
       "      <td>38</td>\n",
       "      <td>13</td>\n",
       "      <td>8</td>\n",
       "      <td>15</td>\n",
       "    </tr>\n",
       "    <tr>\n",
       "      <td>13</td>\n",
       "      <td>VAL</td>\n",
       "      <td>19</td>\n",
       "      <td>19</td>\n",
       "      <td>9</td>\n",
       "      <td>9</td>\n",
       "      <td>5</td>\n",
       "    </tr>\n",
       "    <tr>\n",
       "      <td>14</td>\n",
       "      <td>LEU</td>\n",
       "      <td>34</td>\n",
       "      <td>34</td>\n",
       "      <td>12</td>\n",
       "      <td>17</td>\n",
       "      <td>9</td>\n",
       "    </tr>\n",
       "    <tr>\n",
       "      <td>15</td>\n",
       "      <td>ILE</td>\n",
       "      <td>7</td>\n",
       "      <td>7</td>\n",
       "      <td>0</td>\n",
       "      <td>4</td>\n",
       "      <td>1</td>\n",
       "    </tr>\n",
       "    <tr>\n",
       "      <td>16</td>\n",
       "      <td>MET</td>\n",
       "      <td>3</td>\n",
       "      <td>3</td>\n",
       "      <td>0</td>\n",
       "      <td>2</td>\n",
       "      <td>0</td>\n",
       "    </tr>\n",
       "    <tr>\n",
       "      <td>17</td>\n",
       "      <td>PHE</td>\n",
       "      <td>20</td>\n",
       "      <td>20</td>\n",
       "      <td>5</td>\n",
       "      <td>8</td>\n",
       "      <td>6</td>\n",
       "    </tr>\n",
       "    <tr>\n",
       "      <td>18</td>\n",
       "      <td>TRP</td>\n",
       "      <td>2</td>\n",
       "      <td>2</td>\n",
       "      <td>0</td>\n",
       "      <td>0</td>\n",
       "      <td>1</td>\n",
       "    </tr>\n",
       "    <tr>\n",
       "      <td>19</td>\n",
       "      <td>PRO</td>\n",
       "      <td>27</td>\n",
       "      <td>27</td>\n",
       "      <td>10</td>\n",
       "      <td>14</td>\n",
       "      <td>11</td>\n",
       "    </tr>\n",
       "  </tbody>\n",
       "</table>\n",
       "</div>"
      ],
      "text/plain": [
       "   Amino_acids  No_of_surf_res (MDAnalysis)  No_of_surf_res (VMD)  \\\n",
       "0          LYS                           59                    59   \n",
       "1          ARG                           23                    23   \n",
       "2          HIS                           16                    16   \n",
       "3          ASP                           40                    40   \n",
       "4          GLU                           59                    59   \n",
       "5          SER                           23                    23   \n",
       "6          THR                           29                    29   \n",
       "7          CYS                           24                    24   \n",
       "8          TYR                           19                    19   \n",
       "9          ASN                           14                    14   \n",
       "10         GLN                           19                    19   \n",
       "11         GLY                           11                    11   \n",
       "12         ALA                           39                    38   \n",
       "13         VAL                           19                    19   \n",
       "14         LEU                           34                    34   \n",
       "15         ILE                            7                     7   \n",
       "16         MET                            3                     3   \n",
       "17         PHE                           20                    20   \n",
       "18         TRP                            2                     2   \n",
       "19         PRO                           27                    27   \n",
       "\n",
       "    peg_0.9nmNR_100ns  peg_1.1nmNR_100ns  peg_1.4nmNR_100ns  \n",
       "0                  34                 26                 24  \n",
       "1                   7                 10                  4  \n",
       "2                   8                  3                  5  \n",
       "3                  22                 16                 16  \n",
       "4                  29                 23                 18  \n",
       "5                   9                  6                  7  \n",
       "6                  16                 16                 10  \n",
       "7                  11                  8                  6  \n",
       "8                   5                  6                  2  \n",
       "9                   5                  4                  4  \n",
       "10                  9                 10                  4  \n",
       "11                  3                  4                  2  \n",
       "12                 13                  8                 15  \n",
       "13                  9                  9                  5  \n",
       "14                 12                 17                  9  \n",
       "15                  0                  4                  1  \n",
       "16                  0                  2                  0  \n",
       "17                  5                  8                  6  \n",
       "18                  0                  0                  1  \n",
       "19                 10                 14                 11  "
      ]
     },
     "execution_count": 135,
     "metadata": {},
     "output_type": "execute_result"
    }
   ],
   "source": [
    "apl_14nmNR = []\n",
    "\n",
    "# Some residues don't have any contact with the 3 N = 20 PLGA oligomers within 100 ns,\n",
    "# Put residues that do have contact with BSA in a separate list\n",
    "for index, r_pl in plg_14nmaaNR.iterrows():\n",
    "    if r_pl['mda_plga_frm_1.4nmNR'] != 0:\n",
    "        apl_14nmNR.append(r_pl['BSA_des_res'])\n",
    "        \n",
    "# This chunk of code gets an AA count from the above list, in order \n",
    "# to get a total number of residues that contact BSA\n",
    "cpl_14nmNR = []\n",
    "\n",
    "for index, r_a in aa_count.iterrows():\n",
    "    count = 0\n",
    "    for i in range(len(apl_14nmNR)):\n",
    "        if r_a['Amino_acids'] in apl_14nmNR[i]:\n",
    "            count += 1\n",
    "    cpl_14nmNR.append(count)      \n",
    "        \n",
    "aa_count['peg_1.4nmNR_100ns'] = cpl_14nmNR\n",
    "#aa_count.drop('No_of_surf_res (VMD)', axis=1, inplace=True)\n",
    "aa_count"
   ]
  },
  {
   "cell_type": "code",
   "execution_count": 136,
   "metadata": {},
   "outputs": [
    {
     "data": {
      "text/plain": [
       "150"
      ]
     },
     "execution_count": 136,
     "metadata": {},
     "output_type": "execute_result"
    }
   ],
   "source": [
    "# This gives the total number of residues that are within 4 angstroms of a PLGA oligomer residue\n",
    "# within a 100 ns trajectory block\n",
    "aa_count['peg_1.4nmNR_100ns'].sum()"
   ]
  },
  {
   "cell_type": "code",
   "execution_count": 137,
   "metadata": {},
   "outputs": [
    {
     "data": {
      "text/plain": [
       "487"
      ]
     },
     "execution_count": 137,
     "metadata": {},
     "output_type": "execute_result"
    }
   ],
   "source": [
    "# This gives the total number of residues that are within 4 angstroms of a water molecule\n",
    "# within a 1 ns trajectory block\n",
    "aa_count['No_of_surf_res (MDAnalysis)'].sum()"
   ]
  },
  {
   "cell_type": "code",
   "execution_count": 138,
   "metadata": {},
   "outputs": [
    {
     "data": {
      "text/plain": [
       "0.3080082135523614"
      ]
     },
     "execution_count": 138,
     "metadata": {},
     "output_type": "execute_result"
    }
   ],
   "source": [
    "# This gives the total fraction of contacts within the 1.2 nm Rg 100 ns trajectory\n",
    "aa_count['peg_1.4nmNR_100ns'].sum()/aa_count['No_of_surf_res (MDAnalysis)'].sum()"
   ]
  },
  {
   "cell_type": "code",
   "execution_count": 139,
   "metadata": {},
   "outputs": [
    {
     "name": "stdout",
     "output_type": "stream",
     "text": [
      "Mean Occpancy (1.4 nm Rg): 0.18995399999999998 Occ. std. dev.: 0.29892610026114036\n"
     ]
    }
   ],
   "source": [
    "# Mean occupancy and std deviation \n",
    "ll_mo2nm = [value[1] for key, value in h2di_14nmNR.items()]\n",
    "print(\"Mean Occpancy (1.4 nm Rg): \"+str(np.mean(ll_mo2nm)), \"Occ. std. dev.: \"+str(np.std(ll_mo2nm)))"
   ]
  },
  {
   "cell_type": "code",
   "execution_count": 140,
   "metadata": {},
   "outputs": [
    {
     "data": {
      "text/plain": [
       "{'Negative': [69719.0, 34, 307583.8235294118, 0.17914206531715288],\n",
       " 'Positive': [74080.0, 33, 336727.2727272727, 0.19611570723324373],\n",
       " 'Polar': [54180.0, 33, 246272.72727272726, 0.14343343706664613],\n",
       " 'Hydrophobic': [86952.0, 50, 260856.0, 0.1519269838516159],\n",
       " 'Aromatic': [52784.0, 14, 565542.8571428572, 0.32938180653134136]}"
      ]
     },
     "execution_count": 140,
     "metadata": {},
     "output_type": "execute_result"
    }
   ],
   "source": [
    "cd_14NRnm = frac_cont(h2di_14nmNR)\n",
    "cd_14NRnm"
   ]
  },
  {
   "cell_type": "markdown",
   "metadata": {},
   "source": [
    "### Calc. fractional contacts for each AA group type "
   ]
  },
  {
   "cell_type": "code",
   "execution_count": 141,
   "metadata": {},
   "outputs": [
    {
     "name": "stdout",
     "output_type": "stream",
     "text": [
      "0\n",
      "2000\n",
      "2000\n",
      "4000\n",
      "4000\n",
      "6000\n",
      "6000\n",
      "8000\n",
      "8000\n",
      "10000\n"
     ]
    }
   ],
   "source": [
    "fcnt_rg14nmNR, prgrp_14nmNR, aa_matx_14nmNR = bavg_frac_cnt(5, prot_14nmNR, pn20_14nmNR, dmax, u14nmNR_n20PEG, no_surf, 0, 10000)"
   ]
  },
  {
   "cell_type": "code",
   "execution_count": 142,
   "metadata": {},
   "outputs": [
    {
     "data": {
      "text/plain": [
       "{'Negative': array([0.18015215, 0.15704099, 0.19241926, 0.21183447, 0.18585745]),\n",
       " 'Positive': array([0.21360916, 0.21785725, 0.21380011, 0.2331797 , 0.20803554]),\n",
       " 'Polar': array([0.14801791, 0.143621  , 0.14477657, 0.16754355, 0.21175707]),\n",
       " 'Hydrophobic': array([0.16214583, 0.17617274, 0.147999  , 0.15857685, 0.12245538]),\n",
       " 'Aromatic': array([0.29607495, 0.30530802, 0.30100506, 0.22886543, 0.27189455]),\n",
       " 'total_frac': array([0.23819302, 0.18685832, 0.16632444, 0.1026694 , 0.12731006])}"
      ]
     },
     "execution_count": 142,
     "metadata": {},
     "output_type": "execute_result"
    }
   ],
   "source": [
    "fcnt_rg14nmNR"
   ]
  },
  {
   "cell_type": "code",
   "execution_count": 143,
   "metadata": {},
   "outputs": [
    {
     "data": {
      "text/plain": [
       "array([0.18546086, 0.21729635, 0.16314322, 0.15346996, 0.2806296 ])"
      ]
     },
     "execution_count": 143,
     "metadata": {},
     "output_type": "execute_result"
    }
   ],
   "source": [
    "fc14nm_meanNR = np.array([np.mean(fcnt_rg14nmNR['Negative']), np.mean(fcnt_rg14nmNR['Positive'])\n",
    "                        ,np.mean(fcnt_rg14nmNR['Polar']),np.mean(fcnt_rg14nmNR['Hydrophobic'])\n",
    "                        , np.mean(fcnt_rg14nmNR['Aromatic'])])\n",
    "fc14nm_meanNR"
   ]
  },
  {
   "cell_type": "code",
   "execution_count": 144,
   "metadata": {},
   "outputs": [
    {
     "data": {
      "text/plain": [
       "array([0.01777648, 0.00853437, 0.02580657, 0.01793657, 0.02834986])"
      ]
     },
     "execution_count": 144,
     "metadata": {},
     "output_type": "execute_result"
    }
   ],
   "source": [
    "fc14nm_stdNR = np.array([np.std(fcnt_rg14nmNR['Negative']), np.std(fcnt_rg14nmNR['Positive'])\n",
    "                       ,np.std(fcnt_rg14nmNR['Polar']),np.std(fcnt_rg14nmNR['Hydrophobic'])\n",
    "                       , np.std(fcnt_rg14nmNR['Aromatic'])])\n",
    "fc14nm_stdNR"
   ]
  },
  {
   "cell_type": "code",
   "execution_count": 145,
   "metadata": {},
   "outputs": [
    {
     "data": {
      "application/vnd.jupyter.widget-view+json": {
       "model_id": "7e6425f52cf94e3ba0a7ad022c0ba8b8",
       "version_major": 2,
       "version_minor": 0
      },
      "text/plain": [
       "Canvas(toolbar=Toolbar(toolitems=[('Home', 'Reset original view', 'home', 'home'), ('Back', 'Back to previous …"
      ]
     },
     "metadata": {},
     "output_type": "display_data"
    },
    {
     "data": {
      "text/plain": [
       "Text(0, 0.5, 'Fractional Contacts')"
      ]
     },
     "execution_count": 145,
     "metadata": {},
     "output_type": "execute_result"
    }
   ],
   "source": [
    "x_pos = np.arange(5)\n",
    "width = 0.28\n",
    "aa_types = [\"Negative\", \"Positive\", \"Polar\", \"Hydrophobic\", \"Aromatic\"]\n",
    "fig = plt.figure(figsize=(7,7))\n",
    "fig.canvas.layout.width = '800px'\n",
    "fig.canvas.layout.height = '700px'\n",
    "plt.bar(x_pos, fc09nm_meanNR, width, yerr=fc09nm_stdNR, ecolor='black',capsize=5, color='royalblue')\n",
    "plt.bar(x_pos+width, fc11nm_meanNR, width, yerr=fc11nm_stdNR, ecolor='black',capsize=5, color='c')\n",
    "plt.bar(x_pos+(2*width), fc14nm_meanNR, width, yerr=fc14nm_stdNR, ecolor='black',capsize=5, color='lightslategray')\n",
    "plt.title(r'Fractional Contacts Rg Unrestrained', fontsize=15)\n",
    "plt.xticks(x_pos+width, labels=aa_types, fontsize=12)\n",
    "plt.ylim(0,0.4)\n",
    "plt.legend(['Rg = 0.9 nm', 'Rg = 1.1 nm', 'Rg = 1.4 nm'], frameon=False)\n",
    "plt.ylabel(r'Fractional Contacts', fontsize=15)"
   ]
  },
  {
   "cell_type": "code",
   "execution_count": null,
   "metadata": {},
   "outputs": [],
   "source": []
  },
  {
   "cell_type": "code",
   "execution_count": null,
   "metadata": {},
   "outputs": [],
   "source": []
  },
  {
   "cell_type": "markdown",
   "metadata": {},
   "source": [
    "### Total fraction of contacts: averages and std dev calc from 5 20 ns blocks"
   ]
  },
  {
   "cell_type": "code",
   "execution_count": 146,
   "metadata": {},
   "outputs": [
    {
     "data": {
      "text/plain": [
       "0.16427104722792607"
      ]
     },
     "execution_count": 146,
     "metadata": {},
     "output_type": "execute_result"
    }
   ],
   "source": [
    "np.mean(fcnt_rg14nmNR['total_frac'])"
   ]
  },
  {
   "cell_type": "code",
   "execution_count": 147,
   "metadata": {},
   "outputs": [
    {
     "data": {
      "text/plain": [
       "0.047201135156286184"
      ]
     },
     "execution_count": 147,
     "metadata": {},
     "output_type": "execute_result"
    }
   ],
   "source": [
    "np.std(fcnt_rg14nmNR['total_frac'])"
   ]
  },
  {
   "cell_type": "code",
   "execution_count": null,
   "metadata": {},
   "outputs": [],
   "source": [
    "prgrp_14nmNR"
   ]
  },
  {
   "cell_type": "code",
   "execution_count": null,
   "metadata": {},
   "outputs": [],
   "source": [
    "# matrix containing the avg number of PLGA residues for each block for each amino acid \n",
    "np.where(aa_matx_2nm[0] != 0)"
   ]
  },
  {
   "cell_type": "markdown",
   "metadata": {},
   "source": [
    "### Avg no. PLGA residues per BSA AA residue group "
   ]
  },
  {
   "cell_type": "code",
   "execution_count": null,
   "metadata": {},
   "outputs": [],
   "source": [
    "prgrp_2nm"
   ]
  },
  {
   "cell_type": "code",
   "execution_count": null,
   "metadata": {},
   "outputs": [],
   "source": [
    "mean_2nm = np.zeros(shape=5)\n",
    "std_2nm = np.zeros(shape=5)\n",
    "count = 0\n",
    "for key, value in prgrp_2nm.items():\n",
    "    mpl_2nm = []\n",
    "    var_2nm = []\n",
    "    for i in prgrp_2nm[str(key)].flat:\n",
    "        mpl_2nm.append(i[0])\n",
    "        var_2nm.append((i[1])**2)\n",
    "    \n",
    "    # calc frac cont averages\n",
    "    mean_2nm[count] = np.mean(mpl_2nm)\n",
    "    \n",
    "    # calc frac cont std dev: https://stats.stackexchange.com/questions/25848/how-to-sum-a-standard-deviation \n",
    "    std_2nm[count] = np.std(mpl_2nm)\n",
    "    #std_2nm[count] = np.sqrt(np.sum(var_2nm)/5)\n",
    "    \n",
    "    count += 1\n"
   ]
  },
  {
   "cell_type": "code",
   "execution_count": null,
   "metadata": {},
   "outputs": [],
   "source": [
    "mean_2nm"
   ]
  },
  {
   "cell_type": "code",
   "execution_count": null,
   "metadata": {},
   "outputs": [],
   "source": [
    "std_2nm"
   ]
  },
  {
   "cell_type": "code",
   "execution_count": null,
   "metadata": {},
   "outputs": [],
   "source": [
    "mean_15nm"
   ]
  },
  {
   "cell_type": "code",
   "execution_count": null,
   "metadata": {},
   "outputs": [],
   "source": [
    "std_15nm"
   ]
  },
  {
   "cell_type": "code",
   "execution_count": null,
   "metadata": {},
   "outputs": [],
   "source": [
    "x_pos = np.arange(5)\n",
    "width = 0.28\n",
    "aa_types = [\"Negative\", \"Positive\", \"Polar\", \"Hydrophobic\", \"Aromatic\"]\n",
    "plt.figure(figsize=(7,7))\n",
    "plt.bar(x_pos, mean_12nm, width, yerr=std_12nm, ecolor='black',capsize=5, color='royalblue')\n",
    "plt.bar(x_pos+width, mean_15nm, width, yerr=std_15nm, ecolor='black',capsize=5, color='c')\n",
    "plt.bar(x_pos+(2*width), mean_2nm, width, yerr=std_2nm, ecolor='black',capsize=5, color='lightslategray')\n",
    "plt.title(r'No. of PLGA residues Rg restrained', fontsize=15)\n",
    "plt.xticks(x_pos+width, labels=aa_types, fontsize=12)\n",
    "plt.legend(['Rg = 1.2 nm', 'Rg = 1.5 nm', 'Rg = 2 nm'], frameon=False)\n",
    "plt.ylabel(r'No. of PLGA residues', fontsize=15)"
   ]
  },
  {
   "cell_type": "markdown",
   "metadata": {},
   "source": [
    "### Protein/polymer contact map movie"
   ]
  },
  {
   "cell_type": "code",
   "execution_count": null,
   "metadata": {},
   "outputs": [],
   "source": [
    "np.where(trj_load2nm_res[9920] == 0 )"
   ]
  },
  {
   "cell_type": "code",
   "execution_count": null,
   "metadata": {},
   "outputs": [],
   "source": [
    "trj_load2nm_res[9920]"
   ]
  },
  {
   "cell_type": "code",
   "execution_count": null,
   "metadata": {},
   "outputs": [],
   "source": [
    "trj_load2nm_res.shape"
   ]
  },
  {
   "cell_type": "code",
   "execution_count": null,
   "metadata": {},
   "outputs": [],
   "source": [
    "fig = plt.figure(figsize=(10,10))\n",
    "\n",
    "# Set the axis and the plot titles pp\n",
    "\n",
    "plt.title(\"BSA/PLGA contact map 2 nm restrained\", fontsize=22, loc='left')\n",
    "plt.xlabel(\"PLGA Residue No.\", fontsize=22)\n",
    "plt.ylabel(\"BSA Residue No.\", fontsize=20)\n",
    "\n",
    " # Set the axis range \n",
    "plt.ylim(583, 0)\n",
    "plt.xlim(0, 60)\n",
    "\n",
    "# Plot bands for each chain \n",
    "BANDS = (\n",
    "    (0, 20, \"purple\", \"B\"),\n",
    "    (20, 40, \"blue\", \"C\"),\n",
    "    (40, 60, \"green\", \"D\"),\n",
    ")\n",
    "    \n",
    "text_y = 0.98 # Close to the top\n",
    "for start, stop, color, band in BANDS:\n",
    "    plt.axvspan(start, stop,color=color, alpha=0.15)\n",
    "    text_x = middle_of_band(start,stop)\n",
    "    plt.text(\n",
    "        text_x,\n",
    "        text_y,\n",
    "        \"PLGA chain \" + band,\n",
    "        color=color,\n",
    "        fontsize=18,\n",
    "        transform=fig.gca().transAxes,\n",
    "        horizontalalignment='center',\n",
    "        verticalalignment='center',\n",
    "        style='italic',\n",
    "    )\n",
    "    \n",
    "plt.text(0.94, 1, \"Time [ns]:\", fontsize=20, transform=fig.gca().transAxes, horizontalalignment='right', verticalalignment='bottom')\n",
    "\n",
    "# Set tick label size\n",
    "fig.gca().tick_params(axis='both', which='major', labelsize=20)\n",
    "\n",
    "ims = []\n",
    "for i in range(10000):\n",
    "    data = trj_ppmap_2nm[i]\n",
    "    im = plt.imshow(data, aspect='auto', cmap='Greys')\n",
    "    t_sim = plt.text(1.03, 1, str(i/100), fontsize=20, transform=fig.gca().transAxes, horizontalalignment='right', verticalalignment='bottom')\n",
    "    ims.append([im, t_sim])\n",
    "    \n",
    "ani = animation.ArtistAnimation(fig, ims, blit=True, repeat=False)\n",
    "ani.save('2nm_res.mp4', writer='ffmpeg', fps=50, bitrate=100000)\n",
    "#plt.tight_layout()\n",
    "#plt.show()"
   ]
  }
 ],
 "metadata": {
  "kernelspec": {
   "display_name": "Python (ppc_env)",
   "language": "python",
   "name": "ppc_env"
  },
  "language_info": {
   "codemirror_mode": {
    "name": "ipython",
    "version": 3
   },
   "file_extension": ".py",
   "mimetype": "text/x-python",
   "name": "python",
   "nbconvert_exporter": "python",
   "pygments_lexer": "ipython3",
   "version": "3.6.9"
  }
 },
 "nbformat": 4,
 "nbformat_minor": 4
}
