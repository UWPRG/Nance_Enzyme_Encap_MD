{
 "cells": [
  {
   "cell_type": "code",
   "execution_count": 1,
   "metadata": {},
   "outputs": [],
   "source": [
    "#import the necessary modules \n",
    "%matplotlib inline \n",
    "import numpy as np \n",
    "import matplotlib.pylab as plt \n",
    "import pandas as pd \n",
    "import scipy\n",
    "import sklearn\n",
    "import itertools as it\n",
    "from itertools import cycle \n",
    "import os.path as op\n",
    "import timeit \n",
    "import json\n",
    "from matplotlib import animation\n",
    "import matplotlib.font_manager as font_manager\n",
    "\n",
    "# These imports are for creating the percent occupancy heat map \n",
    "import plotly\n",
    "import plotly.plotly as py\n",
    "import plotly.graph_objs as go"
   ]
  },
  {
   "cell_type": "code",
   "execution_count": 2,
   "metadata": {},
   "outputs": [
    {
     "data": {
      "text/plain": [
       "4"
      ]
     },
     "execution_count": 2,
     "metadata": {},
     "output_type": "execute_result"
    }
   ],
   "source": [
    "import multiprocessing as m_proc\n",
    "m_proc.cpu_count()"
   ]
  },
  {
   "cell_type": "markdown",
   "metadata": {},
   "source": [
    "Import MDAnalysis"
   ]
  },
  {
   "cell_type": "code",
   "execution_count": 3,
   "metadata": {},
   "outputs": [],
   "source": [
    "# Import MDAnalysis\n",
    "import MDAnalysis as mda\n",
    "import MDAnalysis.analysis.distances as maa_dist"
   ]
  },
  {
   "cell_type": "code",
   "execution_count": 4,
   "metadata": {},
   "outputs": [],
   "source": [
    "#Units of Angstroms \n",
    "dmax = 4.0 "
   ]
  },
  {
   "cell_type": "code",
   "execution_count": 5,
   "metadata": {},
   "outputs": [],
   "source": [
    "## Define a function that does this, Courtesy of MDAnalysis tutorial \n",
    "def get_protresd_list(prot_atoms, g2_atoms, dmax, universe):\n",
    "    \"\"\"Find all protein residues for which atoms that are within dmax\"\"\"\n",
    "    ro = len(prot_atoms)\n",
    "    cl = len(g2_atoms)\n",
    "    dij_tri = np.zeros(shape=(ro,cl))\n",
    "    dij_tri = maa_dist.distance_array(prot_atoms.positions, g2_atoms.positions, box=universe.trajectory.ts.dimensions)\n",
    "    exp_prot_atoms = np.any(dij_tri <= dmax, axis=1)\n",
    "    mk = np.array(prot_atoms[exp_prot_atoms].residues)\n",
    "    return mk\n",
    "\n",
    "\n",
    "# Define a function that outputs a dictionary of AA protein number and frame counts, where \n",
    "# the inputs will be number of frames, universe, prot and group 2 atom group, and dmax \n",
    "# Write function that takes a no of total frames, protein atom positions and group 2 atoms positions \n",
    "# and gives a dictionary of protein AA as keys and frame count as values \n",
    "\n",
    "def aa_frmcount(prot_atoms, g2_atoms, dmax, universe, start, end):\n",
    "    \"\"\"This function will output a dictionary of AA protein number and its corresponding frame count and occupancy\"\"\"\n",
    "    \n",
    "    aa_dict = {}\n",
    "    laa = np.zeros(shape=len(prot_atoms.residues))\n",
    "    br = np.zeros(shape=(len(prot_atoms.residues),2), dtype=object)\n",
    "    pr_rest = np.array(prot_atoms.residues)\n",
    "    \n",
    "    for ts in universe.trajectory[start:end]: \n",
    "        count = 0\n",
    "        bsres = get_protresd_list(prot_atoms, g2_atoms, dmax, universe)\n",
    "        \n",
    "        if bsres.size == 0: \n",
    "            pass\n",
    "        elif bsres.size != 0: \n",
    "            count += 1\n",
    "            for i in bsres.flat:\n",
    "                res_ind = np.where(pr_rest == i)[0]\n",
    "                laa[res_ind[0]] = laa[res_ind[0]] + count \n",
    "                \n",
    "    fin_res = np.where(laa != 0)[0]\n",
    "    \n",
    "    # Calculate occupancy for each residue \n",
    "    for i in fin_res.flat:\n",
    "        br[i][1] = [laa[i], laa[i]/(end - start)]\n",
    "        \n",
    "    return br "
   ]
  },
  {
   "cell_type": "code",
   "execution_count": 6,
   "metadata": {},
   "outputs": [],
   "source": [
    "def AA_list_org(lorg_list):\n",
    "    \n",
    "    \"\"\"List elements need have 'GLY  XX' as string format, where XX reps the number of GLY residues. Output is a\n",
    "    sorted list of 'AA XX' according to the below order.  \"\"\"\n",
    "    \n",
    "    hydrophobic_res = ['ALA', 'ILE', 'LEU', 'VAL', 'GLY', 'PRO','PHE', 'TRP','MET']\n",
    "    polar_res = ['ASN', 'CYS', 'GLN', 'SER', 'THR','TYR']\n",
    "    neg_res = ['ASP', 'GLU']\n",
    "    pos_res = ['ARG', 'HIS', 'LYS']\n",
    "    \n",
    "    all_res = [pos_res, neg_res, polar_res, hydrophobic_res]\n",
    "    #Change order of residues before making the bar graph\n",
    "    # (1) Positively charged\n",
    "    # (2) Negatively charged\n",
    "    # (3) Polar residues \n",
    "    # (4) Hydrophobic residues \n",
    "    \n",
    "    # This chunk of code sorts the counts of each AA that have 1001 or 1002 frame count based \n",
    "    # on the AA order in all_res\n",
    "    arr_list = []\n",
    "\n",
    "    for row in all_res:\n",
    "        for i in range(len(lorg_list)):\n",
    "            for j in range(len(row)):\n",
    "                if row[j] == lorg_list[i][0:3]:\n",
    "                    arr_list.append(lorg_list[i])\n",
    "                    \n",
    "    #This chunk of code splits the list arr_list to makes the AA: count of 1001 or 1002 frames data plottable \n",
    "    f_list = []\n",
    "    fn_list = []\n",
    "    for i in range(len(arr_list)):\n",
    "        f_list.append(arr_list[i][0:3])\n",
    "        fn_list.append(int(arr_list[i][5:]))\n",
    "        \n",
    "    return f_list, fn_list"
   ]
  },
  {
   "cell_type": "markdown",
   "metadata": {},
   "source": [
    "## Tetramer Catalase in pure water 1 ns simulation: Calc. of surface residues"
   ]
  },
  {
   "cell_type": "markdown",
   "metadata": {},
   "source": [
    "#### Distance-based analysis \n",
    "\n",
    "Find residues that have at least one atom within a cutoff $d = 4.0$ Angstrom near water molecules in Catalase/water simulation\n",
    "\n",
    "Calculate the number of surface catalase residues from a 1 ns Catalase/water simulation"
   ]
  },
  {
   "cell_type": "code",
   "execution_count": 7,
   "metadata": {},
   "outputs": [],
   "source": [
    "# Load universe of the BSA/water simulation\n",
    "cat_wat = mda.Universe(\"tout_loacl/traj.pdb\", \"traj_comp.xtc\")"
   ]
  },
  {
   "cell_type": "code",
   "execution_count": 8,
   "metadata": {},
   "outputs": [
    {
     "data": {
      "text/plain": [
       "<Universe with 243538 atoms>"
      ]
     },
     "execution_count": 8,
     "metadata": {},
     "output_type": "execute_result"
    }
   ],
   "source": [
    "# Check Universe \n",
    "cat_wat"
   ]
  },
  {
   "cell_type": "code",
   "execution_count": 9,
   "metadata": {},
   "outputs": [],
   "source": [
    "# Check Trajectory Length \n",
    "cattrj = len(cat_wat.trajectory)"
   ]
  },
  {
   "cell_type": "code",
   "execution_count": 10,
   "metadata": {},
   "outputs": [
    {
     "data": {
      "text/plain": [
       "101"
      ]
     },
     "execution_count": 10,
     "metadata": {},
     "output_type": "execute_result"
    }
   ],
   "source": [
    "cattrj"
   ]
  },
  {
   "cell_type": "code",
   "execution_count": 11,
   "metadata": {},
   "outputs": [],
   "source": [
    "# Load protein atoms, heavy atoms only \n",
    "wcat_prot = cat_wat.select_atoms(\"protein and not type H\")"
   ]
  },
  {
   "cell_type": "code",
   "execution_count": 12,
   "metadata": {},
   "outputs": [
    {
     "data": {
      "text/plain": [
       "(16072, 3)"
      ]
     },
     "execution_count": 12,
     "metadata": {},
     "output_type": "execute_result"
    }
   ],
   "source": [
    "wcat_prot.positions.shape"
   ]
  },
  {
   "cell_type": "code",
   "execution_count": 13,
   "metadata": {},
   "outputs": [
    {
     "data": {
      "text/plain": [
       "499"
      ]
     },
     "execution_count": 13,
     "metadata": {},
     "output_type": "execute_result"
    }
   ],
   "source": [
    "len(cat_wat.select_atoms(\"protein and segid D\").residues)"
   ]
  },
  {
   "cell_type": "code",
   "execution_count": 14,
   "metadata": {},
   "outputs": [
    {
     "data": {
      "text/plain": [
       "<AtomGroup with 212070 atoms>"
      ]
     },
     "execution_count": 14,
     "metadata": {},
     "output_type": "execute_result"
    }
   ],
   "source": [
    "cat_wat.select_atoms(\"resname SOL\")"
   ]
  },
  {
   "cell_type": "code",
   "execution_count": 15,
   "metadata": {},
   "outputs": [
    {
     "data": {
      "text/plain": [
       "Text(0.5, 1.05, 'Catalase Atomic Contact Map: PDB code 1TGU')"
      ]
     },
     "execution_count": 15,
     "metadata": {},
     "output_type": "execute_result"
    },
    {
     "data": {
      "image/png": "[encoded data removed]",
      "text/plain": [
       "<Figure size 720x720 with 2 Axes>"
      ]
     },
     "metadata": {
      "needs_background": "light"
     },
     "output_type": "display_data"
    }
   ],
   "source": [
    "#Length units in MD Analysis is Angstroms, Using 8.5 A cutoff to better visualize atomic contacts\n",
    "bs = maa_dist.contact_matrix(wcat_prot.positions,cutoff=7.5,box=cat_wat.dimensions)\n",
    "fig, ax = plt.subplots(figsize=(10,10))\n",
    "l_s = ax.matshow(bs.astype(int), aspect=\"auto\")\n",
    "fig.colorbar(l_s, ax=ax)\n",
    "ax.set_title('Catalase Atomic Contact Map: PDB code 1TGU')"
   ]
  },
  {
   "cell_type": "code",
   "execution_count": 16,
   "metadata": {},
   "outputs": [
    {
     "data": {
      "text/html": [
       "<div>\n",
       "<style scoped>\n",
       "    .dataframe tbody tr th:only-of-type {\n",
       "        vertical-align: middle;\n",
       "    }\n",
       "\n",
       "    .dataframe tbody tr th {\n",
       "        vertical-align: top;\n",
       "    }\n",
       "\n",
       "    .dataframe thead th {\n",
       "        text-align: right;\n",
       "    }\n",
       "</style>\n",
       "<table border=\"1\" class=\"dataframe\">\n",
       "  <thead>\n",
       "    <tr style=\"text-align: right;\">\n",
       "      <th></th>\n",
       "      <th>Catalase_des_res</th>\n",
       "    </tr>\n",
       "  </thead>\n",
       "  <tbody>\n",
       "    <tr>\n",
       "      <th>0</th>\n",
       "      <td>&lt;Residue ASN, 3&gt;</td>\n",
       "    </tr>\n",
       "    <tr>\n",
       "      <th>1</th>\n",
       "      <td>&lt;Residue ARG, 4&gt;</td>\n",
       "    </tr>\n",
       "    <tr>\n",
       "      <th>2</th>\n",
       "      <td>&lt;Residue ASP, 5&gt;</td>\n",
       "    </tr>\n",
       "    <tr>\n",
       "      <th>3</th>\n",
       "      <td>&lt;Residue PRO, 6&gt;</td>\n",
       "    </tr>\n",
       "    <tr>\n",
       "      <th>4</th>\n",
       "      <td>&lt;Residue ALA, 7&gt;</td>\n",
       "    </tr>\n",
       "  </tbody>\n",
       "</table>\n",
       "</div>"
      ],
      "text/plain": [
       "   Catalase_des_res\n",
       "0  <Residue ASN, 3>\n",
       "1  <Residue ARG, 4>\n",
       "2  <Residue ASP, 5>\n",
       "3  <Residue PRO, 6>\n",
       "4  <Residue ALA, 7>"
      ]
     },
     "execution_count": 16,
     "metadata": {},
     "output_type": "execute_result"
    }
   ],
   "source": [
    "pr_res = list(wcat_prot.residues)\n",
    "ss_res = [str(row) for row in pr_res]\n",
    "cat_resdat = pd.DataFrame(data=ss_res, columns=['Catalase_des_res'])\n",
    "cat_resdat.head()"
   ]
  },
  {
   "cell_type": "code",
   "execution_count": 17,
   "metadata": {
    "scrolled": true
   },
   "outputs": [],
   "source": [
    "cat_res1ns = json.load(open(\"MDA_Catalase_1ns.txt\"))\n",
    "#cat_res1ns"
   ]
  },
  {
   "cell_type": "code",
   "execution_count": 18,
   "metadata": {},
   "outputs": [],
   "source": [
    "# One catalase residue (Residue #182) does not contact water within 4 Angstroms within 1 ns\n",
    "# This code isolates frame counts and puts them in a pandas dataframe \n",
    "results = []\n",
    "final_res = [] \n",
    "for item in cat_res1ns:\n",
    "    results.append(item[1])\n",
    "\n",
    "for i in results:\n",
    "    if i == 0:\n",
    "        final_res.append(i)\n",
    "    elif i != 0:\n",
    "        final_res.append(i[0])\n",
    "#len(final_res)"
   ]
  },
  {
   "cell_type": "code",
   "execution_count": 19,
   "metadata": {},
   "outputs": [
    {
     "data": {
      "text/html": [
       "<div>\n",
       "<style scoped>\n",
       "    .dataframe tbody tr th:only-of-type {\n",
       "        vertical-align: middle;\n",
       "    }\n",
       "\n",
       "    .dataframe tbody tr th {\n",
       "        vertical-align: top;\n",
       "    }\n",
       "\n",
       "    .dataframe thead th {\n",
       "        text-align: right;\n",
       "    }\n",
       "</style>\n",
       "<table border=\"1\" class=\"dataframe\">\n",
       "  <thead>\n",
       "    <tr style=\"text-align: right;\">\n",
       "      <th></th>\n",
       "      <th>Catalase_des_res</th>\n",
       "      <th>res_counts_1ns</th>\n",
       "    </tr>\n",
       "  </thead>\n",
       "  <tbody>\n",
       "    <tr>\n",
       "      <th>0</th>\n",
       "      <td>&lt;Residue ASN, 3&gt;</td>\n",
       "      <td>101.0</td>\n",
       "    </tr>\n",
       "    <tr>\n",
       "      <th>1</th>\n",
       "      <td>&lt;Residue ARG, 4&gt;</td>\n",
       "      <td>101.0</td>\n",
       "    </tr>\n",
       "    <tr>\n",
       "      <th>2</th>\n",
       "      <td>&lt;Residue ASP, 5&gt;</td>\n",
       "      <td>101.0</td>\n",
       "    </tr>\n",
       "    <tr>\n",
       "      <th>3</th>\n",
       "      <td>&lt;Residue PRO, 6&gt;</td>\n",
       "      <td>101.0</td>\n",
       "    </tr>\n",
       "    <tr>\n",
       "      <th>4</th>\n",
       "      <td>&lt;Residue ALA, 7&gt;</td>\n",
       "      <td>101.0</td>\n",
       "    </tr>\n",
       "  </tbody>\n",
       "</table>\n",
       "</div>"
      ],
      "text/plain": [
       "   Catalase_des_res  res_counts_1ns\n",
       "0  <Residue ASN, 3>           101.0\n",
       "1  <Residue ARG, 4>           101.0\n",
       "2  <Residue ASP, 5>           101.0\n",
       "3  <Residue PRO, 6>           101.0\n",
       "4  <Residue ALA, 7>           101.0"
      ]
     },
     "execution_count": 19,
     "metadata": {},
     "output_type": "execute_result"
    }
   ],
   "source": [
    "cat_resdat['res_counts_1ns'] = final_res\n",
    "cat_resdat.head()"
   ]
  },
  {
   "cell_type": "code",
   "execution_count": 20,
   "metadata": {},
   "outputs": [],
   "source": [
    "# residue indexing for catalase \n",
    "len(range(3,501))\n",
    "\n",
    "# VMD calc using protein within A A of water \n",
    "chainA_vmd = pd.read_csv(\"tout_loacl/occ_chainA.txt\", sep=\" \", header=None, usecols=None ,index_col=None)\n",
    "chainB_vmd = pd.read_csv(\"tout_loacl/occ_chainB.txt\", sep=\" \", header=None, usecols=None ,index_col=None)\n",
    "chainC_vmd = pd.read_csv(\"tout_loacl/occ_chainC.txt\", sep=\" \", header=None, usecols=None ,index_col=None)\n",
    "chainD_vmd = pd.read_csv(\"tout_loacl/occ_chainD.txt\", sep=\" \", header=None, usecols=None ,index_col=None)\n",
    "\n",
    "chA_res = list(chainA_vmd[1])\n",
    "chB_res = list(chainB_vmd[1])\n",
    "chC_res = list(chainC_vmd[1])\n",
    "chD_res = list(chainD_vmd[1])\n",
    "\n",
    "cat_vmd = chA_res + chB_res + chC_res + chD_res\n",
    "cat_resdat['vmd_count_1ns'] = cat_vmd"
   ]
  },
  {
   "cell_type": "code",
   "execution_count": 21,
   "metadata": {},
   "outputs": [
    {
     "data": {
      "text/html": [
       "<div>\n",
       "<style scoped>\n",
       "    .dataframe tbody tr th:only-of-type {\n",
       "        vertical-align: middle;\n",
       "    }\n",
       "\n",
       "    .dataframe tbody tr th {\n",
       "        vertical-align: top;\n",
       "    }\n",
       "\n",
       "    .dataframe thead th {\n",
       "        text-align: right;\n",
       "    }\n",
       "</style>\n",
       "<table border=\"1\" class=\"dataframe\">\n",
       "  <thead>\n",
       "    <tr style=\"text-align: right;\">\n",
       "      <th></th>\n",
       "      <th>Catalase_des_res</th>\n",
       "      <th>res_counts_1ns</th>\n",
       "      <th>vmd_count_1ns</th>\n",
       "    </tr>\n",
       "  </thead>\n",
       "  <tbody>\n",
       "    <tr>\n",
       "      <th>0</th>\n",
       "      <td>&lt;Residue ASN, 3&gt;</td>\n",
       "      <td>101.0</td>\n",
       "      <td>0</td>\n",
       "    </tr>\n",
       "    <tr>\n",
       "      <th>1</th>\n",
       "      <td>&lt;Residue ARG, 4&gt;</td>\n",
       "      <td>101.0</td>\n",
       "      <td>0</td>\n",
       "    </tr>\n",
       "    <tr>\n",
       "      <th>2</th>\n",
       "      <td>&lt;Residue ASP, 5&gt;</td>\n",
       "      <td>101.0</td>\n",
       "      <td>102</td>\n",
       "    </tr>\n",
       "    <tr>\n",
       "      <th>3</th>\n",
       "      <td>&lt;Residue PRO, 6&gt;</td>\n",
       "      <td>101.0</td>\n",
       "      <td>102</td>\n",
       "    </tr>\n",
       "    <tr>\n",
       "      <th>4</th>\n",
       "      <td>&lt;Residue ALA, 7&gt;</td>\n",
       "      <td>101.0</td>\n",
       "      <td>102</td>\n",
       "    </tr>\n",
       "  </tbody>\n",
       "</table>\n",
       "</div>"
      ],
      "text/plain": [
       "   Catalase_des_res  res_counts_1ns  vmd_count_1ns\n",
       "0  <Residue ASN, 3>           101.0              0\n",
       "1  <Residue ARG, 4>           101.0              0\n",
       "2  <Residue ASP, 5>           101.0            102\n",
       "3  <Residue PRO, 6>           101.0            102\n",
       "4  <Residue ALA, 7>           101.0            102"
      ]
     },
     "execution_count": 21,
     "metadata": {},
     "output_type": "execute_result"
    }
   ],
   "source": [
    "cat_resdat.head()"
   ]
  },
  {
   "cell_type": "code",
   "execution_count": 22,
   "metadata": {},
   "outputs": [],
   "source": [
    "# Sasa calc using VMD \n",
    "sasa_cha = pd.read_csv(\"sasa_pchA.txt\", sep=\" \", header=None, names=['res_label','res_no','sasa_label','sasa_chA'])\n",
    "sasa_chb = pd.read_csv(\"sasa_pchB.txt\", sep=\" \", header=None)\n",
    "sasa_chc = pd.read_csv(\"sasa_pchC.txt\", sep=\" \", header=None)\n",
    "sasa_chd = pd.read_csv(\"sasa_pchD.txt\", sep=\" \", header=None)\n",
    "#sasa_cha"
   ]
  },
  {
   "cell_type": "code",
   "execution_count": 23,
   "metadata": {},
   "outputs": [
    {
     "data": {
      "text/html": [
       "<div>\n",
       "<style scoped>\n",
       "    .dataframe tbody tr th:only-of-type {\n",
       "        vertical-align: middle;\n",
       "    }\n",
       "\n",
       "    .dataframe tbody tr th {\n",
       "        vertical-align: top;\n",
       "    }\n",
       "\n",
       "    .dataframe thead th {\n",
       "        text-align: right;\n",
       "    }\n",
       "</style>\n",
       "<table border=\"1\" class=\"dataframe\">\n",
       "  <thead>\n",
       "    <tr style=\"text-align: right;\">\n",
       "      <th></th>\n",
       "      <th>res_label</th>\n",
       "      <th>res_no</th>\n",
       "      <th>sasa_label</th>\n",
       "      <th>sasa_chA</th>\n",
       "      <th>sasa_chB</th>\n",
       "      <th>sasa_chC</th>\n",
       "      <th>sasa_chD</th>\n",
       "    </tr>\n",
       "  </thead>\n",
       "  <tbody>\n",
       "    <tr>\n",
       "      <th>0</th>\n",
       "      <td>residue:</td>\n",
       "      <td>10,</td>\n",
       "      <td>sasa:</td>\n",
       "      <td>96.610344</td>\n",
       "      <td>98.045898</td>\n",
       "      <td>103.471283</td>\n",
       "      <td>86.202293</td>\n",
       "    </tr>\n",
       "    <tr>\n",
       "      <th>1</th>\n",
       "      <td>residue:</td>\n",
       "      <td>100,</td>\n",
       "      <td>sasa:</td>\n",
       "      <td>84.855194</td>\n",
       "      <td>74.129868</td>\n",
       "      <td>81.029602</td>\n",
       "      <td>96.959503</td>\n",
       "    </tr>\n",
       "    <tr>\n",
       "      <th>2</th>\n",
       "      <td>residue:</td>\n",
       "      <td>101,</td>\n",
       "      <td>sasa:</td>\n",
       "      <td>82.435638</td>\n",
       "      <td>111.213448</td>\n",
       "      <td>119.146339</td>\n",
       "      <td>106.811005</td>\n",
       "    </tr>\n",
       "    <tr>\n",
       "      <th>3</th>\n",
       "      <td>residue:</td>\n",
       "      <td>102,</td>\n",
       "      <td>sasa:</td>\n",
       "      <td>93.312248</td>\n",
       "      <td>89.455994</td>\n",
       "      <td>96.232155</td>\n",
       "      <td>101.974808</td>\n",
       "    </tr>\n",
       "    <tr>\n",
       "      <th>4</th>\n",
       "      <td>residue:</td>\n",
       "      <td>103,</td>\n",
       "      <td>sasa:</td>\n",
       "      <td>33.944782</td>\n",
       "      <td>47.592072</td>\n",
       "      <td>34.958199</td>\n",
       "      <td>37.598480</td>\n",
       "    </tr>\n",
       "  </tbody>\n",
       "</table>\n",
       "</div>"
      ],
      "text/plain": [
       "  res_label res_no sasa_label   sasa_chA    sasa_chB    sasa_chC    sasa_chD\n",
       "0  residue:    10,      sasa:  96.610344   98.045898  103.471283   86.202293\n",
       "1  residue:   100,      sasa:  84.855194   74.129868   81.029602   96.959503\n",
       "2  residue:   101,      sasa:  82.435638  111.213448  119.146339  106.811005\n",
       "3  residue:   102,      sasa:  93.312248   89.455994   96.232155  101.974808\n",
       "4  residue:   103,      sasa:  33.944782   47.592072   34.958199   37.598480"
      ]
     },
     "execution_count": 23,
     "metadata": {},
     "output_type": "execute_result"
    }
   ],
   "source": [
    "sasa_cha['sasa_chB'] = sasa_chb[3]\n",
    "sasa_cha['sasa_chC'] = sasa_chc[3]\n",
    "sasa_cha['sasa_chD'] = sasa_chd[3]\n",
    "sasa_cha.head()"
   ]
  },
  {
   "cell_type": "code",
   "execution_count": 24,
   "metadata": {},
   "outputs": [
    {
     "data": {
      "text/html": [
       "<div>\n",
       "<style scoped>\n",
       "    .dataframe tbody tr th:only-of-type {\n",
       "        vertical-align: middle;\n",
       "    }\n",
       "\n",
       "    .dataframe tbody tr th {\n",
       "        vertical-align: top;\n",
       "    }\n",
       "\n",
       "    .dataframe thead th {\n",
       "        text-align: right;\n",
       "    }\n",
       "</style>\n",
       "<table border=\"1\" class=\"dataframe\">\n",
       "  <thead>\n",
       "    <tr style=\"text-align: right;\">\n",
       "      <th></th>\n",
       "      <th>res_label</th>\n",
       "      <th>res_no</th>\n",
       "      <th>sasa_label</th>\n",
       "      <th>sasa_chA</th>\n",
       "      <th>sasa_chB</th>\n",
       "      <th>sasa_chC</th>\n",
       "      <th>sasa_chD</th>\n",
       "    </tr>\n",
       "  </thead>\n",
       "  <tbody>\n",
       "    <tr>\n",
       "      <th>0</th>\n",
       "      <td>residue:</td>\n",
       "      <td>10</td>\n",
       "      <td>sasa:</td>\n",
       "      <td>96.610344</td>\n",
       "      <td>98.045898</td>\n",
       "      <td>103.471283</td>\n",
       "      <td>86.202293</td>\n",
       "    </tr>\n",
       "    <tr>\n",
       "      <th>1</th>\n",
       "      <td>residue:</td>\n",
       "      <td>100</td>\n",
       "      <td>sasa:</td>\n",
       "      <td>84.855194</td>\n",
       "      <td>74.129868</td>\n",
       "      <td>81.029602</td>\n",
       "      <td>96.959503</td>\n",
       "    </tr>\n",
       "    <tr>\n",
       "      <th>2</th>\n",
       "      <td>residue:</td>\n",
       "      <td>101</td>\n",
       "      <td>sasa:</td>\n",
       "      <td>82.435638</td>\n",
       "      <td>111.213448</td>\n",
       "      <td>119.146339</td>\n",
       "      <td>106.811005</td>\n",
       "    </tr>\n",
       "    <tr>\n",
       "      <th>3</th>\n",
       "      <td>residue:</td>\n",
       "      <td>102</td>\n",
       "      <td>sasa:</td>\n",
       "      <td>93.312248</td>\n",
       "      <td>89.455994</td>\n",
       "      <td>96.232155</td>\n",
       "      <td>101.974808</td>\n",
       "    </tr>\n",
       "    <tr>\n",
       "      <th>4</th>\n",
       "      <td>residue:</td>\n",
       "      <td>103</td>\n",
       "      <td>sasa:</td>\n",
       "      <td>33.944782</td>\n",
       "      <td>47.592072</td>\n",
       "      <td>34.958199</td>\n",
       "      <td>37.598480</td>\n",
       "    </tr>\n",
       "  </tbody>\n",
       "</table>\n",
       "</div>"
      ],
      "text/plain": [
       "  res_label  res_no sasa_label   sasa_chA    sasa_chB    sasa_chC    sasa_chD\n",
       "0  residue:      10      sasa:  96.610344   98.045898  103.471283   86.202293\n",
       "1  residue:     100      sasa:  84.855194   74.129868   81.029602   96.959503\n",
       "2  residue:     101      sasa:  82.435638  111.213448  119.146339  106.811005\n",
       "3  residue:     102      sasa:  93.312248   89.455994   96.232155  101.974808\n",
       "4  residue:     103      sasa:  33.944782   47.592072   34.958199   37.598480"
      ]
     },
     "execution_count": 24,
     "metadata": {},
     "output_type": "execute_result"
    }
   ],
   "source": [
    "num_lis = []\n",
    "for index, row in sasa_cha.iterrows():\n",
    "    if str(',') in row['res_no']:\n",
    "        gh = int(row['res_no'][:-1])\n",
    "        num_lis.append(gh)\n",
    "sasa_cha['res_no'] = num_lis\n",
    "sasa_cha.head()"
   ]
  },
  {
   "cell_type": "code",
   "execution_count": 25,
   "metadata": {},
   "outputs": [
    {
     "data": {
      "text/html": [
       "<div>\n",
       "<style scoped>\n",
       "    .dataframe tbody tr th:only-of-type {\n",
       "        vertical-align: middle;\n",
       "    }\n",
       "\n",
       "    .dataframe tbody tr th {\n",
       "        vertical-align: top;\n",
       "    }\n",
       "\n",
       "    .dataframe thead th {\n",
       "        text-align: right;\n",
       "    }\n",
       "</style>\n",
       "<table border=\"1\" class=\"dataframe\">\n",
       "  <thead>\n",
       "    <tr style=\"text-align: right;\">\n",
       "      <th></th>\n",
       "      <th>res_label</th>\n",
       "      <th>res_no</th>\n",
       "      <th>sasa_label</th>\n",
       "      <th>sasa_chA</th>\n",
       "      <th>sasa_chB</th>\n",
       "      <th>sasa_chC</th>\n",
       "      <th>sasa_chD</th>\n",
       "    </tr>\n",
       "  </thead>\n",
       "  <tbody>\n",
       "    <tr>\n",
       "      <th>0</th>\n",
       "      <td>residue:</td>\n",
       "      <td>3</td>\n",
       "      <td>sasa:</td>\n",
       "      <td>173.243301</td>\n",
       "      <td>182.243988</td>\n",
       "      <td>174.538239</td>\n",
       "      <td>177.693893</td>\n",
       "    </tr>\n",
       "    <tr>\n",
       "      <th>1</th>\n",
       "      <td>residue:</td>\n",
       "      <td>4</td>\n",
       "      <td>sasa:</td>\n",
       "      <td>150.692017</td>\n",
       "      <td>133.533661</td>\n",
       "      <td>149.504303</td>\n",
       "      <td>145.796326</td>\n",
       "    </tr>\n",
       "    <tr>\n",
       "      <th>2</th>\n",
       "      <td>residue:</td>\n",
       "      <td>5</td>\n",
       "      <td>sasa:</td>\n",
       "      <td>48.981670</td>\n",
       "      <td>31.080713</td>\n",
       "      <td>51.481171</td>\n",
       "      <td>48.665924</td>\n",
       "    </tr>\n",
       "    <tr>\n",
       "      <th>3</th>\n",
       "      <td>residue:</td>\n",
       "      <td>6</td>\n",
       "      <td>sasa:</td>\n",
       "      <td>40.678082</td>\n",
       "      <td>38.809196</td>\n",
       "      <td>31.427261</td>\n",
       "      <td>40.209156</td>\n",
       "    </tr>\n",
       "    <tr>\n",
       "      <th>4</th>\n",
       "      <td>residue:</td>\n",
       "      <td>7</td>\n",
       "      <td>sasa:</td>\n",
       "      <td>31.938034</td>\n",
       "      <td>22.977932</td>\n",
       "      <td>31.155411</td>\n",
       "      <td>25.732910</td>\n",
       "    </tr>\n",
       "  </tbody>\n",
       "</table>\n",
       "</div>"
      ],
      "text/plain": [
       "  res_label  res_no sasa_label    sasa_chA    sasa_chB    sasa_chC    sasa_chD\n",
       "0  residue:       3      sasa:  173.243301  182.243988  174.538239  177.693893\n",
       "1  residue:       4      sasa:  150.692017  133.533661  149.504303  145.796326\n",
       "2  residue:       5      sasa:   48.981670   31.080713   51.481171   48.665924\n",
       "3  residue:       6      sasa:   40.678082   38.809196   31.427261   40.209156\n",
       "4  residue:       7      sasa:   31.938034   22.977932   31.155411   25.732910"
      ]
     },
     "execution_count": 25,
     "metadata": {},
     "output_type": "execute_result"
    }
   ],
   "source": [
    "org_index = sasa_cha.index\n",
    "sasa_tot = sasa_cha.sort_values('res_no')\n",
    "sasa_tot.index = org_index\n",
    "sasa_tot.head()"
   ]
  },
  {
   "cell_type": "code",
   "execution_count": 26,
   "metadata": {},
   "outputs": [
    {
     "data": {
      "text/html": [
       "<div>\n",
       "<style scoped>\n",
       "    .dataframe tbody tr th:only-of-type {\n",
       "        vertical-align: middle;\n",
       "    }\n",
       "\n",
       "    .dataframe tbody tr th {\n",
       "        vertical-align: top;\n",
       "    }\n",
       "\n",
       "    .dataframe thead th {\n",
       "        text-align: right;\n",
       "    }\n",
       "</style>\n",
       "<table border=\"1\" class=\"dataframe\">\n",
       "  <thead>\n",
       "    <tr style=\"text-align: right;\">\n",
       "      <th></th>\n",
       "      <th>res_no</th>\n",
       "      <th>sasa_label</th>\n",
       "      <th>sasa_chA</th>\n",
       "      <th>sasa_chB</th>\n",
       "      <th>sasa_chC</th>\n",
       "      <th>sasa_chD</th>\n",
       "    </tr>\n",
       "  </thead>\n",
       "  <tbody>\n",
       "    <tr>\n",
       "      <th>0</th>\n",
       "      <td>&lt;Residue ASN, 3&gt;</td>\n",
       "      <td>sasa:</td>\n",
       "      <td>173.243301</td>\n",
       "      <td>182.243988</td>\n",
       "      <td>174.538239</td>\n",
       "      <td>177.693893</td>\n",
       "    </tr>\n",
       "    <tr>\n",
       "      <th>1</th>\n",
       "      <td>&lt;Residue ARG, 4&gt;</td>\n",
       "      <td>sasa:</td>\n",
       "      <td>150.692017</td>\n",
       "      <td>133.533661</td>\n",
       "      <td>149.504303</td>\n",
       "      <td>145.796326</td>\n",
       "    </tr>\n",
       "    <tr>\n",
       "      <th>2</th>\n",
       "      <td>&lt;Residue ASP, 5&gt;</td>\n",
       "      <td>sasa:</td>\n",
       "      <td>48.981670</td>\n",
       "      <td>31.080713</td>\n",
       "      <td>51.481171</td>\n",
       "      <td>48.665924</td>\n",
       "    </tr>\n",
       "    <tr>\n",
       "      <th>3</th>\n",
       "      <td>&lt;Residue PRO, 6&gt;</td>\n",
       "      <td>sasa:</td>\n",
       "      <td>40.678082</td>\n",
       "      <td>38.809196</td>\n",
       "      <td>31.427261</td>\n",
       "      <td>40.209156</td>\n",
       "    </tr>\n",
       "    <tr>\n",
       "      <th>4</th>\n",
       "      <td>&lt;Residue ALA, 7&gt;</td>\n",
       "      <td>sasa:</td>\n",
       "      <td>31.938034</td>\n",
       "      <td>22.977932</td>\n",
       "      <td>31.155411</td>\n",
       "      <td>25.732910</td>\n",
       "    </tr>\n",
       "  </tbody>\n",
       "</table>\n",
       "</div>"
      ],
      "text/plain": [
       "             res_no sasa_label    sasa_chA    sasa_chB    sasa_chC    sasa_chD\n",
       "0  <Residue ASN, 3>      sasa:  173.243301  182.243988  174.538239  177.693893\n",
       "1  <Residue ARG, 4>      sasa:  150.692017  133.533661  149.504303  145.796326\n",
       "2  <Residue ASP, 5>      sasa:   48.981670   31.080713   51.481171   48.665924\n",
       "3  <Residue PRO, 6>      sasa:   40.678082   38.809196   31.427261   40.209156\n",
       "4  <Residue ALA, 7>      sasa:   31.938034   22.977932   31.155411   25.732910"
      ]
     },
     "execution_count": 26,
     "metadata": {},
     "output_type": "execute_result"
    }
   ],
   "source": [
    "sasa_tot['res_no'] = cat_resdat['Catalase_des_res']\n",
    "sasa_tot.drop('res_label', axis=1, inplace=True)\n",
    "sasa_tot.head()"
   ]
  },
  {
   "cell_type": "code",
   "execution_count": 27,
   "metadata": {},
   "outputs": [],
   "source": [
    "a_a = [\"GLY\",\"ALA\",\"VAL\",\"LEU\",\"ILE\",\"MET\",\"PHE\",\"TRP\",\"PRO\",\"SER\",\"THR\",\"CYS\",\"TYR\",\"ASN\",\"GLN\",\"ASP\"\n",
    "               ,\"GLU\",\"LYS\",\"ARG\",\"HIS\"]"
   ]
  },
  {
   "cell_type": "code",
   "execution_count": 28,
   "metadata": {},
   "outputs": [],
   "source": [
    "#From VMD, SASA calculation on each residue, surface exposed is area greater than 1 angstrom squared\n",
    "ss_list = []\n",
    "jl = ['A', 'B', 'C','D']\n",
    "\n",
    "for i in range(len(a_a)):\n",
    "    count = 0\n",
    "    #print(a_a[i])\n",
    "    for index, row in sasa_tot.iterrows():\n",
    "        if a_a[i] in row[\"res_no\"]:\n",
    "            #print(row['res_no'])\n",
    "            for j in range(len(jl)):\n",
    "                if row['sasa_ch'+str(jl[j])] > 1.0: \n",
    "                    count += 1\n",
    "                    #print(row['res_no'], row['sasa_ch'+str(jl[j])])\n",
    "                    #print(sasa_tot.iloc[index])\n",
    "                    \n",
    "    ss_list.append(str(str(a_a[i])+\"  \"+str(count)))\n",
    "#ss_list"
   ]
  },
  {
   "cell_type": "code",
   "execution_count": 29,
   "metadata": {},
   "outputs": [
    {
     "data": {
      "text/plain": [
       "res_no        <Residue ASN, 3>\n",
       "sasa_label               sasa:\n",
       "sasa_chA               173.243\n",
       "sasa_chB               182.244\n",
       "sasa_chC               174.538\n",
       "sasa_chD               177.694\n",
       "Name: 0, dtype: object"
      ]
     },
     "execution_count": 29,
     "metadata": {},
     "output_type": "execute_result"
    }
   ],
   "source": [
    "sasa_tot.iloc[0]"
   ]
  },
  {
   "cell_type": "code",
   "execution_count": 30,
   "metadata": {},
   "outputs": [
    {
     "name": "stdout",
     "output_type": "stream",
     "text": [
      "130\n"
     ]
    }
   ],
   "source": [
    "# Number of residues that do not contact water within 4 Angstroms (130 residues), Calc'd from MD Analysis\n",
    "count = 0\n",
    "for index, row in cat_resdat.iterrows():\n",
    "    if row['res_counts_1ns'] != 101.0 and row['res_counts_1ns'] != 100.0:\n",
    "        #print(row['res_counts_1ns'])\n",
    "        count += 1\n",
    "print(count)        "
   ]
  },
  {
   "cell_type": "code",
   "execution_count": 31,
   "metadata": {},
   "outputs": [
    {
     "name": "stdout",
     "output_type": "stream",
     "text": [
      "146\n"
     ]
    }
   ],
   "source": [
    "# Number of residues that do not contact water within 4 Angstroms (130 residues), Calc'd from VMD\n",
    "count = 0\n",
    "for index, row in cat_resdat.iterrows():\n",
    "    if row['vmd_count_1ns'] != 102.0 and row['vmd_count_1ns'] != 101.0:\n",
    "        #print(row['vmd_count_1ns'])\n",
    "        count += 1\n",
    "print(count) "
   ]
  },
  {
   "cell_type": "code",
   "execution_count": 32,
   "metadata": {},
   "outputs": [],
   "source": [
    "a_a = [\"GLY\",\"ALA\",\"VAL\",\"LEU\",\"ILE\",\"MET\",\"PHE\",\"TRP\",\"PRO\",\"SER\",\"THR\",\"CYS\",\"TYR\",\"ASN\",\"GLN\",\"ASP\"\n",
    "               ,\"GLU\",\"LYS\",\"ARG\",\"HIS\"]"
   ]
  },
  {
   "cell_type": "code",
   "execution_count": 33,
   "metadata": {},
   "outputs": [],
   "source": [
    "# From MD Analysis\n",
    "#Get the count of bsa residues that have 1001 or 1002 frames ( I ran a 1 ns NPT simulation of 1 BSA in water )\n",
    "\n",
    "#aa_count = pd.DataFrame(data=a_a)\n",
    "c_list = []\n",
    "\n",
    "for i in range(len(a_a)):\n",
    "    count = 0\n",
    "    for index, row in cat_resdat.iterrows():\n",
    "        if a_a[i] in row[\"Catalase_des_res\"]:\n",
    "            if row['res_counts_1ns'] == 100.0: \n",
    "                #print(row['res_counts_1ns'])\n",
    "                count += 1\n",
    "                #c_list.append(str(str(a_a[i])+\"  \"+str(row['No. of frames']))) \n",
    "            elif row['res_counts_1ns'] == 101.0:\n",
    "                #print(row['res_counts_1ns'])\n",
    "                count += 1\n",
    "                #c_list.append(str(str(a_a[i])+\"  \"+str(row['No. of frames'])))\n",
    "    c_list.append(str(str(a_a[i])+\"  \"+str(count)))\n",
    "    \n",
    "#c_list"
   ]
  },
  {
   "cell_type": "code",
   "execution_count": 34,
   "metadata": {},
   "outputs": [],
   "source": [
    "# From VMD\n",
    "#Get the count of bsa residues that have 101 or 102 frames ( I ran a 1 ns NPT simulation of 1 catalase in water )\n",
    "\n",
    "#aa_count = pd.DataFrame(data=a_a)\n",
    "vmd_list = []\n",
    "\n",
    "for i in range(len(a_a)):\n",
    "    count = 0\n",
    "    for index, row in cat_resdat.iterrows():\n",
    "        if a_a[i] in row[\"Catalase_des_res\"]:\n",
    "            if row[\"vmd_count_1ns\"] == 101.0: \n",
    "                count += 1\n",
    "                #c_list.append(str(str(a_a[i])+\"  \"+str(row['No. of frames']))) \n",
    "            elif row[\"vmd_count_1ns\"] == 102.0:\n",
    "                count += 1\n",
    "                #c_list.append(str(str(a_a[i])+\"  \"+str(row['No. of frames'])))\n",
    "    vmd_list.append(str(str(a_a[i])+\"  \"+str(count)))"
   ]
  },
  {
   "cell_type": "code",
   "execution_count": 35,
   "metadata": {},
   "outputs": [
    {
     "data": {
      "text/plain": [
       "['GLY  125',\n",
       " 'ALA  132',\n",
       " 'VAL  124',\n",
       " 'LEU  123',\n",
       " 'ILE  70',\n",
       " 'MET  40',\n",
       " 'PHE  111',\n",
       " 'TRP  20',\n",
       " 'PRO  141',\n",
       " 'SER  89',\n",
       " 'THR  79',\n",
       " 'CYS  16',\n",
       " 'TYR  80',\n",
       " 'ASN  108',\n",
       " 'GLN  80',\n",
       " 'ASP  144',\n",
       " 'GLU  95',\n",
       " 'LYS  89',\n",
       " 'ARG  107',\n",
       " 'HIS  77']"
      ]
     },
     "execution_count": 35,
     "metadata": {},
     "output_type": "execute_result"
    }
   ],
   "source": [
    "vmd_list"
   ]
  },
  {
   "cell_type": "code",
   "execution_count": 36,
   "metadata": {},
   "outputs": [
    {
     "data": {
      "text/plain": [
       "['GLY  123',\n",
       " 'ALA  122',\n",
       " 'VAL  119',\n",
       " 'LEU  120',\n",
       " 'ILE  54',\n",
       " 'MET  38',\n",
       " 'PHE  110',\n",
       " 'TRP  20',\n",
       " 'PRO  143',\n",
       " 'SER  96',\n",
       " 'THR  86',\n",
       " 'CYS  12',\n",
       " 'TYR  73',\n",
       " 'ASN  116',\n",
       " 'GLN  81',\n",
       " 'ASP  149',\n",
       " 'GLU  96',\n",
       " 'LYS  100',\n",
       " 'ARG  124',\n",
       " 'HIS  84']"
      ]
     },
     "execution_count": 36,
     "metadata": {},
     "output_type": "execute_result"
    }
   ],
   "source": [
    "c_list"
   ]
  },
  {
   "cell_type": "code",
   "execution_count": 37,
   "metadata": {},
   "outputs": [
    {
     "data": {
      "text/plain": [
       "['GLY  122',\n",
       " 'ALA  122',\n",
       " 'VAL  127',\n",
       " 'LEU  129',\n",
       " 'ILE  59',\n",
       " 'MET  36',\n",
       " 'PHE  115',\n",
       " 'TRP  22',\n",
       " 'PRO  145',\n",
       " 'SER  99',\n",
       " 'THR  83',\n",
       " 'CYS  11',\n",
       " 'TYR  73',\n",
       " 'ASN  115',\n",
       " 'GLN  84',\n",
       " 'ASP  151',\n",
       " 'GLU  96',\n",
       " 'LYS  100',\n",
       " 'ARG  124',\n",
       " 'HIS  84']"
      ]
     },
     "execution_count": 37,
     "metadata": {},
     "output_type": "execute_result"
    }
   ],
   "source": [
    "ss_list"
   ]
  },
  {
   "cell_type": "code",
   "execution_count": 38,
   "metadata": {},
   "outputs": [
    {
     "data": {
      "text/html": [
       "<div>\n",
       "<style scoped>\n",
       "    .dataframe tbody tr th:only-of-type {\n",
       "        vertical-align: middle;\n",
       "    }\n",
       "\n",
       "    .dataframe tbody tr th {\n",
       "        vertical-align: top;\n",
       "    }\n",
       "\n",
       "    .dataframe thead th {\n",
       "        text-align: right;\n",
       "    }\n",
       "</style>\n",
       "<table border=\"1\" class=\"dataframe\">\n",
       "  <thead>\n",
       "    <tr style=\"text-align: right;\">\n",
       "      <th></th>\n",
       "      <th>Amino_acids</th>\n",
       "      <th>No_of_surf_res (MDAnalysis)</th>\n",
       "      <th>No_of_surf_res (VMD_prot_wat)</th>\n",
       "      <th>No_of_surf_res (VMD_sasa)</th>\n",
       "    </tr>\n",
       "  </thead>\n",
       "  <tbody>\n",
       "    <tr>\n",
       "      <th>0</th>\n",
       "      <td>LYS</td>\n",
       "      <td>100</td>\n",
       "      <td>89</td>\n",
       "      <td>100</td>\n",
       "    </tr>\n",
       "    <tr>\n",
       "      <th>1</th>\n",
       "      <td>ARG</td>\n",
       "      <td>124</td>\n",
       "      <td>107</td>\n",
       "      <td>124</td>\n",
       "    </tr>\n",
       "    <tr>\n",
       "      <th>2</th>\n",
       "      <td>HIS</td>\n",
       "      <td>84</td>\n",
       "      <td>77</td>\n",
       "      <td>84</td>\n",
       "    </tr>\n",
       "    <tr>\n",
       "      <th>3</th>\n",
       "      <td>ASP</td>\n",
       "      <td>149</td>\n",
       "      <td>144</td>\n",
       "      <td>151</td>\n",
       "    </tr>\n",
       "    <tr>\n",
       "      <th>4</th>\n",
       "      <td>GLU</td>\n",
       "      <td>96</td>\n",
       "      <td>95</td>\n",
       "      <td>96</td>\n",
       "    </tr>\n",
       "    <tr>\n",
       "      <th>5</th>\n",
       "      <td>SER</td>\n",
       "      <td>96</td>\n",
       "      <td>89</td>\n",
       "      <td>99</td>\n",
       "    </tr>\n",
       "    <tr>\n",
       "      <th>6</th>\n",
       "      <td>THR</td>\n",
       "      <td>86</td>\n",
       "      <td>79</td>\n",
       "      <td>83</td>\n",
       "    </tr>\n",
       "    <tr>\n",
       "      <th>7</th>\n",
       "      <td>CYS</td>\n",
       "      <td>12</td>\n",
       "      <td>16</td>\n",
       "      <td>11</td>\n",
       "    </tr>\n",
       "    <tr>\n",
       "      <th>8</th>\n",
       "      <td>TYR</td>\n",
       "      <td>73</td>\n",
       "      <td>80</td>\n",
       "      <td>73</td>\n",
       "    </tr>\n",
       "    <tr>\n",
       "      <th>9</th>\n",
       "      <td>ASN</td>\n",
       "      <td>116</td>\n",
       "      <td>108</td>\n",
       "      <td>115</td>\n",
       "    </tr>\n",
       "    <tr>\n",
       "      <th>10</th>\n",
       "      <td>GLN</td>\n",
       "      <td>81</td>\n",
       "      <td>80</td>\n",
       "      <td>84</td>\n",
       "    </tr>\n",
       "    <tr>\n",
       "      <th>11</th>\n",
       "      <td>GLY</td>\n",
       "      <td>123</td>\n",
       "      <td>125</td>\n",
       "      <td>122</td>\n",
       "    </tr>\n",
       "    <tr>\n",
       "      <th>12</th>\n",
       "      <td>ALA</td>\n",
       "      <td>122</td>\n",
       "      <td>132</td>\n",
       "      <td>122</td>\n",
       "    </tr>\n",
       "    <tr>\n",
       "      <th>13</th>\n",
       "      <td>VAL</td>\n",
       "      <td>119</td>\n",
       "      <td>124</td>\n",
       "      <td>127</td>\n",
       "    </tr>\n",
       "    <tr>\n",
       "      <th>14</th>\n",
       "      <td>LEU</td>\n",
       "      <td>120</td>\n",
       "      <td>123</td>\n",
       "      <td>129</td>\n",
       "    </tr>\n",
       "    <tr>\n",
       "      <th>15</th>\n",
       "      <td>ILE</td>\n",
       "      <td>54</td>\n",
       "      <td>70</td>\n",
       "      <td>59</td>\n",
       "    </tr>\n",
       "    <tr>\n",
       "      <th>16</th>\n",
       "      <td>MET</td>\n",
       "      <td>38</td>\n",
       "      <td>40</td>\n",
       "      <td>36</td>\n",
       "    </tr>\n",
       "    <tr>\n",
       "      <th>17</th>\n",
       "      <td>PHE</td>\n",
       "      <td>110</td>\n",
       "      <td>111</td>\n",
       "      <td>115</td>\n",
       "    </tr>\n",
       "    <tr>\n",
       "      <th>18</th>\n",
       "      <td>TRP</td>\n",
       "      <td>20</td>\n",
       "      <td>20</td>\n",
       "      <td>22</td>\n",
       "    </tr>\n",
       "    <tr>\n",
       "      <th>19</th>\n",
       "      <td>PRO</td>\n",
       "      <td>143</td>\n",
       "      <td>141</td>\n",
       "      <td>145</td>\n",
       "    </tr>\n",
       "  </tbody>\n",
       "</table>\n",
       "</div>"
      ],
      "text/plain": [
       "   Amino_acids  No_of_surf_res (MDAnalysis)  No_of_surf_res (VMD_prot_wat)  \\\n",
       "0          LYS                          100                             89   \n",
       "1          ARG                          124                            107   \n",
       "2          HIS                           84                             77   \n",
       "3          ASP                          149                            144   \n",
       "4          GLU                           96                             95   \n",
       "5          SER                           96                             89   \n",
       "6          THR                           86                             79   \n",
       "7          CYS                           12                             16   \n",
       "8          TYR                           73                             80   \n",
       "9          ASN                          116                            108   \n",
       "10         GLN                           81                             80   \n",
       "11         GLY                          123                            125   \n",
       "12         ALA                          122                            132   \n",
       "13         VAL                          119                            124   \n",
       "14         LEU                          120                            123   \n",
       "15         ILE                           54                             70   \n",
       "16         MET                           38                             40   \n",
       "17         PHE                          110                            111   \n",
       "18         TRP                           20                             20   \n",
       "19         PRO                          143                            141   \n",
       "\n",
       "    No_of_surf_res (VMD_sasa)  \n",
       "0                         100  \n",
       "1                         124  \n",
       "2                          84  \n",
       "3                         151  \n",
       "4                          96  \n",
       "5                          99  \n",
       "6                          83  \n",
       "7                          11  \n",
       "8                          73  \n",
       "9                         115  \n",
       "10                         84  \n",
       "11                        122  \n",
       "12                        122  \n",
       "13                        127  \n",
       "14                        129  \n",
       "15                         59  \n",
       "16                         36  \n",
       "17                        115  \n",
       "18                         22  \n",
       "19                        145  "
      ]
     },
     "execution_count": 38,
     "metadata": {},
     "output_type": "execute_result"
    }
   ],
   "source": [
    "#hydrophobic_res = ['ALA', 'ILE', 'LEU', 'VAL', 'GLY', 'PRO','PHE', 'TRP','MET']\n",
    "#polar_res = ['ASN', 'CYS', 'GLN', 'SER', 'THR','TYR']\n",
    "#neg_res = ['ASP', 'GLU']\n",
    "#pos_res = ['ARG', 'HIS', 'LYS']\n",
    "# aromatic_res = ['PHE', 'TRP', 'TYR', 'HIS']\n",
    "#all_res = [pos_res, neg_res, polar_res, hydrophobic_res]\n",
    "\n",
    "# Put the AA count in a pandas dataframe \n",
    "dg , ji = AA_list_org(c_list)\n",
    "aa_count = pd.DataFrame(data=dg, index=None, columns=['Amino_acids'])\n",
    "new_lf = pd.Series(data=ji, index=None)\n",
    "vmg, vmdj = AA_list_org(vmd_list)\n",
    "n2lf = pd.Series(data=vmdj, index=None)\n",
    "sk, sl = AA_list_org(ss_list)\n",
    "sa_tt = pd.Series(data=sl, index=None)\n",
    "aa_count['No_of_surf_res (MDAnalysis)'] = new_lf\n",
    "aa_count['No_of_surf_res (VMD_prot_wat)'] = n2lf\n",
    "aa_count['No_of_surf_res (VMD_sasa)'] = sa_tt\n",
    "aa_count"
   ]
  },
  {
   "cell_type": "code",
   "execution_count": 39,
   "metadata": {},
   "outputs": [
    {
     "data": {
      "text/plain": [
       "<matplotlib.legend.Legend at 0xd2464a898>"
      ]
     },
     "execution_count": 39,
     "metadata": {},
     "output_type": "execute_result"
    },
    {
     "data": {
      "image/png": "[encoded data removed]",
      "text/plain": [
       "<Figure size 1440x720 with 1 Axes>"
      ]
     },
     "metadata": {
      "needs_background": "light"
     },
     "output_type": "display_data"
    }
   ],
   "source": [
    "import matplotlib.patches as mpatches\n",
    "\n",
    "circ1= mpatches.Patch(facecolor='None',edgecolor='black', hatch=r'\\\\',label='VMD')\n",
    "circ2= mpatches.Patch(facecolor='None',edgecolor='black', hatch=r'////',label='VMD_sasa')\n",
    "circ3= mpatches.Patch(facecolor='None', edgecolor='black',label='MD Analysis')\n",
    "circ4= mpatches.Patch(facecolor='blue',label='Positively Charged')\n",
    "circ5= mpatches.Patch(facecolor='red',label='Negatively Charged')\n",
    "circ6= mpatches.Patch(facecolor='magenta',label='Polar')\n",
    "circ7= mpatches.Patch(facecolor='cyan',label='Hydrophobic')\n",
    "\n",
    "#plotting \n",
    "#Change order of residues before making the bar graph\n",
    "# (!) Positively charged\n",
    "# (2) Negatively charged\n",
    "# (3) Polar residues \n",
    "# (4) Hydrophobic residues \n",
    "x = np.arange(20)\n",
    "width = 0.25\n",
    "#leg_1 = ['MD Analysis', 'VMD Calculation']\n",
    "leg = ['Positively Charged', 'Negatively Charged', 'Polar', 'Hydrophobic']\n",
    "plt.figure(figsize=(20,10))\n",
    "plt.bar(x[0:3], aa_count['No_of_surf_res (MDAnalysis)'][0:3], width, color='blue', edgecolor='black')\n",
    "plt.bar(x[0:3]+(width), aa_count['No_of_surf_res (VMD_prot_wat)'][0:3], width, color='blue', hatch='\\\\', edgecolor='black')\n",
    "plt.bar(x[0:3]-(width), aa_count['No_of_surf_res (VMD_sasa)'][0:3], width, color='blue', hatch=r'////', edgecolor='black')\n",
    "\n",
    "plt.bar(x[3:5], aa_count['No_of_surf_res (MDAnalysis)'][3:5], width, color='red', edgecolor='black')\n",
    "plt.bar(x[3:5]+(width), aa_count['No_of_surf_res (VMD_prot_wat)'][3:5], width, color='red', hatch='\\\\', edgecolor='black')\n",
    "plt.bar(x[3:5]-(width), aa_count['No_of_surf_res (VMD_sasa)'][3:5], width, color='red', hatch=r'////', edgecolor='black')\n",
    "\n",
    "plt.bar(x[5:11], aa_count['No_of_surf_res (MDAnalysis)'][5:11], width, color='magenta', edgecolor='black')\n",
    "plt.bar(x[5:11]+(width), aa_count['No_of_surf_res (VMD_prot_wat)'][5:11], width, color='magenta', hatch='\\\\'\n",
    "        , edgecolor='black')\n",
    "plt.bar(x[5:11]-(width), aa_count['No_of_surf_res (VMD_sasa)'][5:11], width, color='magenta', hatch=r'////', edgecolor='black')\n",
    "\n",
    "plt.bar(x[11:20], aa_count['No_of_surf_res (MDAnalysis)'][11:20], width, color='cyan', edgecolor='black')\n",
    "plt.bar(x[11:20]+(width), aa_count['No_of_surf_res (VMD_prot_wat)'][11:20], width, color='cyan'\n",
    "        , hatch='//', edgecolor='black')\n",
    "plt.bar(x[11:20]-(width), aa_count['No_of_surf_res (VMD_sasa)'][11:20], width, hatch=r'////',color='cyan', edgecolor='black')\n",
    "plt.xticks(x,aa_count['Amino_acids'], fontsize=12)\n",
    "legend1 = plt.legend(handles = [circ4, circ5, circ6, circ7], loc=0,fontsize=12, frameon=False)\n",
    "plt.legend(handles = [circ1, circ2, circ3],loc=9,fontsize=12, frameon=False)\n",
    "plt.gca().add_artist(legend1)\n",
    "\n",
    "# need to check residue indexing in my code"
   ]
  },
  {
   "cell_type": "markdown",
   "metadata": {},
   "source": [
    "### Calculated from MD Analysis, protein within 4 Angstroms of water"
   ]
  },
  {
   "cell_type": "code",
   "execution_count": 40,
   "metadata": {},
   "outputs": [
    {
     "data": {
      "text/plain": [
       "308"
      ]
     },
     "execution_count": 40,
     "metadata": {},
     "output_type": "execute_result"
    }
   ],
   "source": [
    "# Number of positively charged residues (MD analysis)\n",
    "aa_count['No_of_surf_res (MDAnalysis)'][0:3].sum()"
   ]
  },
  {
   "cell_type": "code",
   "execution_count": 41,
   "metadata": {},
   "outputs": [
    {
     "data": {
      "text/plain": [
       "245"
      ]
     },
     "execution_count": 41,
     "metadata": {},
     "output_type": "execute_result"
    }
   ],
   "source": [
    "# Number of negatively charged residues (MD Analysis)\n",
    "aa_count['No_of_surf_res (MDAnalysis)'][3:5].sum()"
   ]
  },
  {
   "cell_type": "code",
   "execution_count": 42,
   "metadata": {},
   "outputs": [
    {
     "data": {
      "text/plain": [
       "464"
      ]
     },
     "execution_count": 42,
     "metadata": {},
     "output_type": "execute_result"
    }
   ],
   "source": [
    "# Number of polar residues (MD Analysis)\n",
    "aa_count['No_of_surf_res (MDAnalysis)'][5:11].sum()"
   ]
  },
  {
   "cell_type": "code",
   "execution_count": 43,
   "metadata": {},
   "outputs": [
    {
     "data": {
      "text/plain": [
       "849"
      ]
     },
     "execution_count": 43,
     "metadata": {},
     "output_type": "execute_result"
    }
   ],
   "source": [
    "# Number of hydrophobic residues (MD Analysis)\n",
    "aa_count['No_of_surf_res (MDAnalysis)'][11:20].sum()"
   ]
  },
  {
   "cell_type": "code",
   "execution_count": 44,
   "metadata": {},
   "outputs": [
    {
     "data": {
      "text/plain": [
       "287"
      ]
     },
     "execution_count": 44,
     "metadata": {},
     "output_type": "execute_result"
    }
   ],
   "source": [
    "# aromatic_res = ['PHE', 'TRP', 'TYR', 'HIS']\n",
    "hf = aa_count['No_of_surf_res (MDAnalysis)'][8].sum() \n",
    "hf_1 = aa_count['No_of_surf_res (MDAnalysis)'][17:19].sum() \n",
    "hf_2 = aa_count['No_of_surf_res (MDAnalysis)'][2].sum()\n",
    "hf +hf_1 +hf_2"
   ]
  },
  {
   "cell_type": "code",
   "execution_count": 45,
   "metadata": {},
   "outputs": [
    {
     "data": {
      "text/plain": [
       "130"
      ]
     },
     "execution_count": 45,
     "metadata": {},
     "output_type": "execute_result"
    }
   ],
   "source": [
    "aa_count['No_of_surf_res (MDAnalysis)'][17:19].sum()"
   ]
  },
  {
   "cell_type": "markdown",
   "metadata": {},
   "source": [
    "### Calculated from VMD, protein within 4 Angstroms of water"
   ]
  },
  {
   "cell_type": "code",
   "execution_count": 46,
   "metadata": {},
   "outputs": [
    {
     "data": {
      "text/plain": [
       "273"
      ]
     },
     "execution_count": 46,
     "metadata": {},
     "output_type": "execute_result"
    }
   ],
   "source": [
    "# Number of positively charged residues (VMD Protein water)\n",
    "aa_count['No_of_surf_res (VMD_prot_wat)'][0:3].sum()"
   ]
  },
  {
   "cell_type": "code",
   "execution_count": 47,
   "metadata": {},
   "outputs": [
    {
     "data": {
      "text/plain": [
       "239"
      ]
     },
     "execution_count": 47,
     "metadata": {},
     "output_type": "execute_result"
    }
   ],
   "source": [
    "# Number of negatively charged residues (VMD)\n",
    "aa_count['No_of_surf_res (VMD_prot_wat)'][3:5].sum()"
   ]
  },
  {
   "cell_type": "code",
   "execution_count": 48,
   "metadata": {},
   "outputs": [
    {
     "data": {
      "text/plain": [
       "452"
      ]
     },
     "execution_count": 48,
     "metadata": {},
     "output_type": "execute_result"
    }
   ],
   "source": [
    "# Number of polar residues (VMD)\n",
    "aa_count['No_of_surf_res (VMD_prot_wat)'][5:11].sum()"
   ]
  },
  {
   "cell_type": "code",
   "execution_count": 49,
   "metadata": {},
   "outputs": [
    {
     "data": {
      "text/plain": [
       "886"
      ]
     },
     "execution_count": 49,
     "metadata": {},
     "output_type": "execute_result"
    }
   ],
   "source": [
    "# Number of hydrophobic residues (VMD)\n",
    "aa_count['No_of_surf_res (VMD_prot_wat)'][11:20].sum()"
   ]
  },
  {
   "cell_type": "code",
   "execution_count": 50,
   "metadata": {},
   "outputs": [
    {
     "data": {
      "text/plain": [
       "288"
      ]
     },
     "execution_count": 50,
     "metadata": {},
     "output_type": "execute_result"
    }
   ],
   "source": [
    "# aromatic_res = ['PHE', 'TRP', 'TYR', 'HIS']\n",
    "hf_v = aa_count['No_of_surf_res (VMD_prot_wat)'][8].sum() \n",
    "hf_vmd = aa_count['No_of_surf_res (VMD_prot_wat)'][17:19].sum() \n",
    "hf_2v = aa_count['No_of_surf_res (VMD_prot_wat)'][2].sum()\n",
    "hf_v +hf_vmd +hf_2v"
   ]
  },
  {
   "cell_type": "markdown",
   "metadata": {},
   "source": [
    "### Calculated from VMD, Solvent accessible surface area greater than 1 angstrom squared"
   ]
  },
  {
   "cell_type": "code",
   "execution_count": 51,
   "metadata": {},
   "outputs": [
    {
     "data": {
      "text/plain": [
       "308"
      ]
     },
     "execution_count": 51,
     "metadata": {},
     "output_type": "execute_result"
    }
   ],
   "source": [
    "# Number of positively charged residues (MD analysis)\n",
    "aa_count['No_of_surf_res (VMD_sasa)'][0:3].sum()"
   ]
  },
  {
   "cell_type": "code",
   "execution_count": 52,
   "metadata": {},
   "outputs": [
    {
     "data": {
      "text/plain": [
       "247"
      ]
     },
     "execution_count": 52,
     "metadata": {},
     "output_type": "execute_result"
    }
   ],
   "source": [
    "# Number of negatively charged residues (MD Analysis)\n",
    "aa_count['No_of_surf_res (VMD_sasa)'][3:5].sum()"
   ]
  },
  {
   "cell_type": "code",
   "execution_count": 53,
   "metadata": {},
   "outputs": [
    {
     "data": {
      "text/plain": [
       "465"
      ]
     },
     "execution_count": 53,
     "metadata": {},
     "output_type": "execute_result"
    }
   ],
   "source": [
    "# Number of polar residues (MD Analysis)\n",
    "aa_count['No_of_surf_res (VMD_sasa)'][5:11].sum()"
   ]
  },
  {
   "cell_type": "code",
   "execution_count": 54,
   "metadata": {},
   "outputs": [
    {
     "data": {
      "text/plain": [
       "877"
      ]
     },
     "execution_count": 54,
     "metadata": {},
     "output_type": "execute_result"
    }
   ],
   "source": [
    "# Number of hydrophobic residues (MD Analysis)\n",
    "aa_count['No_of_surf_res (VMD_sasa)'][11:20].sum()"
   ]
  },
  {
   "cell_type": "code",
   "execution_count": 55,
   "metadata": {},
   "outputs": [
    {
     "data": {
      "text/plain": [
       "294"
      ]
     },
     "execution_count": 55,
     "metadata": {},
     "output_type": "execute_result"
    }
   ],
   "source": [
    "# aromatic_res = ['PHE', 'TRP', 'TYR', 'HIS']\n",
    "ssf = aa_count['No_of_surf_res (VMD_sasa)'][8].sum() \n",
    "ssf_1 = aa_count['No_of_surf_res (VMD_sasa)'][17:19].sum() \n",
    "ssf_2 = aa_count['No_of_surf_res (VMD_sasa)'][2].sum()\n",
    "ssf + ssf_1 + ssf_2"
   ]
  },
  {
   "cell_type": "markdown",
   "metadata": {},
   "source": [
    "## BSA residue calculation using VMD SASA calculation "
   ]
  },
  {
   "cell_type": "code",
   "execution_count": 61,
   "metadata": {},
   "outputs": [
    {
     "data": {
      "text/html": [
       "<div>\n",
       "<style scoped>\n",
       "    .dataframe tbody tr th:only-of-type {\n",
       "        vertical-align: middle;\n",
       "    }\n",
       "\n",
       "    .dataframe tbody tr th {\n",
       "        vertical-align: top;\n",
       "    }\n",
       "\n",
       "    .dataframe thead th {\n",
       "        text-align: right;\n",
       "    }\n",
       "</style>\n",
       "<table border=\"1\" class=\"dataframe\">\n",
       "  <thead>\n",
       "    <tr style=\"text-align: right;\">\n",
       "      <th></th>\n",
       "      <th>res_label</th>\n",
       "      <th>res_no</th>\n",
       "      <th>sasa_label</th>\n",
       "      <th>sasa_BSA</th>\n",
       "    </tr>\n",
       "  </thead>\n",
       "  <tbody>\n",
       "    <tr>\n",
       "      <th>0</th>\n",
       "      <td>residue:</td>\n",
       "      <td>1</td>\n",
       "      <td>sasa:</td>\n",
       "      <td>204.799179</td>\n",
       "    </tr>\n",
       "    <tr>\n",
       "      <th>1</th>\n",
       "      <td>residue:</td>\n",
       "      <td>10</td>\n",
       "      <td>sasa:</td>\n",
       "      <td>31.908531</td>\n",
       "    </tr>\n",
       "    <tr>\n",
       "      <th>2</th>\n",
       "      <td>residue:</td>\n",
       "      <td>100</td>\n",
       "      <td>sasa:</td>\n",
       "      <td>94.086922</td>\n",
       "    </tr>\n",
       "    <tr>\n",
       "      <th>3</th>\n",
       "      <td>residue:</td>\n",
       "      <td>101</td>\n",
       "      <td>sasa:</td>\n",
       "      <td>20.748587</td>\n",
       "    </tr>\n",
       "    <tr>\n",
       "      <th>4</th>\n",
       "      <td>residue:</td>\n",
       "      <td>102</td>\n",
       "      <td>sasa:</td>\n",
       "      <td>5.593543</td>\n",
       "    </tr>\n",
       "  </tbody>\n",
       "</table>\n",
       "</div>"
      ],
      "text/plain": [
       "  res_label  res_no sasa_label    sasa_BSA\n",
       "0  residue:       1      sasa:  204.799179\n",
       "1  residue:      10      sasa:   31.908531\n",
       "2  residue:     100      sasa:   94.086922\n",
       "3  residue:     101      sasa:   20.748587\n",
       "4  residue:     102      sasa:    5.593543"
      ]
     },
     "execution_count": 61,
     "metadata": {},
     "output_type": "execute_result"
    }
   ],
   "source": [
    "# Sasa calc using VMD \n",
    "sasa_bsa = pd.read_csv(\"prot_BSA.txt\", sep=\" \", header=None, names=['res_label','res_no','sasa_label','sasa_BSA'])\n",
    "sasa_bsa.head()"
   ]
  },
  {
   "cell_type": "code",
   "execution_count": 62,
   "metadata": {},
   "outputs": [
    {
     "data": {
      "text/html": [
       "<div>\n",
       "<style scoped>\n",
       "    .dataframe tbody tr th:only-of-type {\n",
       "        vertical-align: middle;\n",
       "    }\n",
       "\n",
       "    .dataframe tbody tr th {\n",
       "        vertical-align: top;\n",
       "    }\n",
       "\n",
       "    .dataframe thead th {\n",
       "        text-align: right;\n",
       "    }\n",
       "</style>\n",
       "<table border=\"1\" class=\"dataframe\">\n",
       "  <thead>\n",
       "    <tr style=\"text-align: right;\">\n",
       "      <th></th>\n",
       "      <th>res_label</th>\n",
       "      <th>res_no</th>\n",
       "      <th>sasa_label</th>\n",
       "      <th>sasa_BSA</th>\n",
       "    </tr>\n",
       "  </thead>\n",
       "  <tbody>\n",
       "    <tr>\n",
       "      <th>0</th>\n",
       "      <td>residue:</td>\n",
       "      <td>1</td>\n",
       "      <td>sasa:</td>\n",
       "      <td>204.799179</td>\n",
       "    </tr>\n",
       "    <tr>\n",
       "      <th>1</th>\n",
       "      <td>residue:</td>\n",
       "      <td>2</td>\n",
       "      <td>sasa:</td>\n",
       "      <td>116.849411</td>\n",
       "    </tr>\n",
       "    <tr>\n",
       "      <th>2</th>\n",
       "      <td>residue:</td>\n",
       "      <td>3</td>\n",
       "      <td>sasa:</td>\n",
       "      <td>187.543549</td>\n",
       "    </tr>\n",
       "    <tr>\n",
       "      <th>3</th>\n",
       "      <td>residue:</td>\n",
       "      <td>4</td>\n",
       "      <td>sasa:</td>\n",
       "      <td>123.190140</td>\n",
       "    </tr>\n",
       "    <tr>\n",
       "      <th>4</th>\n",
       "      <td>residue:</td>\n",
       "      <td>5</td>\n",
       "      <td>sasa:</td>\n",
       "      <td>7.816031</td>\n",
       "    </tr>\n",
       "  </tbody>\n",
       "</table>\n",
       "</div>"
      ],
      "text/plain": [
       "  res_label  res_no sasa_label    sasa_BSA\n",
       "0  residue:       1      sasa:  204.799179\n",
       "1  residue:       2      sasa:  116.849411\n",
       "2  residue:       3      sasa:  187.543549\n",
       "3  residue:       4      sasa:  123.190140\n",
       "4  residue:       5      sasa:    7.816031"
      ]
     },
     "execution_count": 62,
     "metadata": {},
     "output_type": "execute_result"
    }
   ],
   "source": [
    "org_ind = sasa_bsa.index\n",
    "ss_tot = sasa_bsa.sort_values('res_no')\n",
    "ss_tot.index = org_ind\n",
    "ss_tot.head()"
   ]
  },
  {
   "cell_type": "code",
   "execution_count": 64,
   "metadata": {},
   "outputs": [],
   "source": [
    "a_a = [\"GLY\",\"ALA\",\"VAL\",\"LEU\",\"ILE\",\"MET\",\"PHE\",\"TRP\",\"PRO\",\"SER\",\"THR\",\"CYS\",\"TYR\",\"ASN\",\"GLN\",\"ASP\"\n",
    "               ,\"GLU\",\"LYS\",\"ARG\",\"HIS\"]"
   ]
  },
  {
   "cell_type": "code",
   "execution_count": 66,
   "metadata": {},
   "outputs": [
    {
     "data": {
      "text/plain": [
       "0    <Residue ASP, 1>\n",
       "1    <Residue THR, 2>\n",
       "2    <Residue HIS, 3>\n",
       "3    <Residue LYS, 4>\n",
       "4    <Residue SER, 5>\n",
       "dtype: object"
      ]
     },
     "execution_count": 66,
     "metadata": {},
     "output_type": "execute_result"
    }
   ],
   "source": [
    "# Load universe of the BSA/water simulation\n",
    "bsa_only = mda.Universe(\"BSA.pdb\")\n",
    "\n",
    "# Load protein atoms, heavy atoms only \n",
    "bsa_prot = bsa_only.select_atoms(\"protein and not type H\")\n",
    "\n",
    "pr_res = list(bsa_prot.residues)\n",
    "ss_res = [str(row) for row in pr_res]\n",
    "bsa_resdat = pd.Series(data=ss_res)\n",
    "bsa_resdat.head()"
   ]
  },
  {
   "cell_type": "code",
   "execution_count": 67,
   "metadata": {},
   "outputs": [
    {
     "data": {
      "text/html": [
       "<div>\n",
       "<style scoped>\n",
       "    .dataframe tbody tr th:only-of-type {\n",
       "        vertical-align: middle;\n",
       "    }\n",
       "\n",
       "    .dataframe tbody tr th {\n",
       "        vertical-align: top;\n",
       "    }\n",
       "\n",
       "    .dataframe thead th {\n",
       "        text-align: right;\n",
       "    }\n",
       "</style>\n",
       "<table border=\"1\" class=\"dataframe\">\n",
       "  <thead>\n",
       "    <tr style=\"text-align: right;\">\n",
       "      <th></th>\n",
       "      <th>res_no</th>\n",
       "      <th>sasa_label</th>\n",
       "      <th>sasa_BSA</th>\n",
       "    </tr>\n",
       "  </thead>\n",
       "  <tbody>\n",
       "    <tr>\n",
       "      <th>0</th>\n",
       "      <td>&lt;Residue ASP, 1&gt;</td>\n",
       "      <td>sasa:</td>\n",
       "      <td>204.799179</td>\n",
       "    </tr>\n",
       "    <tr>\n",
       "      <th>1</th>\n",
       "      <td>&lt;Residue THR, 2&gt;</td>\n",
       "      <td>sasa:</td>\n",
       "      <td>31.908531</td>\n",
       "    </tr>\n",
       "    <tr>\n",
       "      <th>2</th>\n",
       "      <td>&lt;Residue HIS, 3&gt;</td>\n",
       "      <td>sasa:</td>\n",
       "      <td>94.086922</td>\n",
       "    </tr>\n",
       "    <tr>\n",
       "      <th>3</th>\n",
       "      <td>&lt;Residue LYS, 4&gt;</td>\n",
       "      <td>sasa:</td>\n",
       "      <td>20.748587</td>\n",
       "    </tr>\n",
       "    <tr>\n",
       "      <th>4</th>\n",
       "      <td>&lt;Residue SER, 5&gt;</td>\n",
       "      <td>sasa:</td>\n",
       "      <td>5.593543</td>\n",
       "    </tr>\n",
       "  </tbody>\n",
       "</table>\n",
       "</div>"
      ],
      "text/plain": [
       "             res_no sasa_label    sasa_BSA\n",
       "0  <Residue ASP, 1>      sasa:  204.799179\n",
       "1  <Residue THR, 2>      sasa:   31.908531\n",
       "2  <Residue HIS, 3>      sasa:   94.086922\n",
       "3  <Residue LYS, 4>      sasa:   20.748587\n",
       "4  <Residue SER, 5>      sasa:    5.593543"
      ]
     },
     "execution_count": 67,
     "metadata": {},
     "output_type": "execute_result"
    }
   ],
   "source": [
    "sasa_bsa['res_no'] = bsa_resdat\n",
    "sasa_bsa.drop('res_label', axis=1, inplace=True)\n",
    "sasa_bsa.head()"
   ]
  },
  {
   "cell_type": "code",
   "execution_count": 68,
   "metadata": {},
   "outputs": [
    {
     "data": {
      "text/plain": [
       "['GLY  15',\n",
       " 'ALA  45',\n",
       " 'VAL  35',\n",
       " 'LEU  57',\n",
       " 'ILE  12',\n",
       " 'MET  4',\n",
       " 'PHE  26',\n",
       " 'TRP  1',\n",
       " 'PRO  25',\n",
       " 'SER  21',\n",
       " 'THR  34',\n",
       " 'CYS  33',\n",
       " 'TYR  16',\n",
       " 'ASN  13',\n",
       " 'GLN  19',\n",
       " 'ASP  37',\n",
       " 'GLU  55',\n",
       " 'LYS  56',\n",
       " 'ARG  22',\n",
       " 'HIS  16']"
      ]
     },
     "execution_count": 68,
     "metadata": {},
     "output_type": "execute_result"
    }
   ],
   "source": [
    "#From VMD, SASA calculation on each residue, surface exposed is area greater than 1 angstrom squared\n",
    "ssbsa_list = []\n",
    "\n",
    "for i in range(len(a_a)):\n",
    "    count = 0\n",
    "    for index, row in sasa_bsa.iterrows():\n",
    "        if a_a[i] in row[\"res_no\"]:\n",
    "            if row['sasa_BSA'] > 1.0: \n",
    "                count += 1                    \n",
    "    ssbsa_list.append(str(str(a_a[i])+\"  \"+str(count)))\n",
    "ssbsa_list"
   ]
  },
  {
   "cell_type": "code",
   "execution_count": 69,
   "metadata": {},
   "outputs": [
    {
     "data": {
      "text/html": [
       "<div>\n",
       "<style scoped>\n",
       "    .dataframe tbody tr th:only-of-type {\n",
       "        vertical-align: middle;\n",
       "    }\n",
       "\n",
       "    .dataframe tbody tr th {\n",
       "        vertical-align: top;\n",
       "    }\n",
       "\n",
       "    .dataframe thead th {\n",
       "        text-align: right;\n",
       "    }\n",
       "</style>\n",
       "<table border=\"1\" class=\"dataframe\">\n",
       "  <thead>\n",
       "    <tr style=\"text-align: right;\">\n",
       "      <th></th>\n",
       "      <th>Amino_acids</th>\n",
       "      <th>No_of_surf_res (MDAnalysis)</th>\n",
       "      <th>No_of_surf_res (VMD_prot_wat)</th>\n",
       "      <th>No_of_surf_res (VMD_sasa)</th>\n",
       "      <th>No_of_surf_res (BSA_VMD_sasa)</th>\n",
       "    </tr>\n",
       "  </thead>\n",
       "  <tbody>\n",
       "    <tr>\n",
       "      <th>0</th>\n",
       "      <td>LYS</td>\n",
       "      <td>100</td>\n",
       "      <td>89</td>\n",
       "      <td>100</td>\n",
       "      <td>56</td>\n",
       "    </tr>\n",
       "    <tr>\n",
       "      <th>1</th>\n",
       "      <td>ARG</td>\n",
       "      <td>124</td>\n",
       "      <td>107</td>\n",
       "      <td>124</td>\n",
       "      <td>22</td>\n",
       "    </tr>\n",
       "    <tr>\n",
       "      <th>2</th>\n",
       "      <td>HIS</td>\n",
       "      <td>84</td>\n",
       "      <td>77</td>\n",
       "      <td>84</td>\n",
       "      <td>16</td>\n",
       "    </tr>\n",
       "    <tr>\n",
       "      <th>3</th>\n",
       "      <td>ASP</td>\n",
       "      <td>149</td>\n",
       "      <td>144</td>\n",
       "      <td>151</td>\n",
       "      <td>37</td>\n",
       "    </tr>\n",
       "    <tr>\n",
       "      <th>4</th>\n",
       "      <td>GLU</td>\n",
       "      <td>96</td>\n",
       "      <td>95</td>\n",
       "      <td>96</td>\n",
       "      <td>55</td>\n",
       "    </tr>\n",
       "    <tr>\n",
       "      <th>5</th>\n",
       "      <td>SER</td>\n",
       "      <td>96</td>\n",
       "      <td>89</td>\n",
       "      <td>99</td>\n",
       "      <td>21</td>\n",
       "    </tr>\n",
       "    <tr>\n",
       "      <th>6</th>\n",
       "      <td>THR</td>\n",
       "      <td>86</td>\n",
       "      <td>79</td>\n",
       "      <td>83</td>\n",
       "      <td>34</td>\n",
       "    </tr>\n",
       "    <tr>\n",
       "      <th>7</th>\n",
       "      <td>CYS</td>\n",
       "      <td>12</td>\n",
       "      <td>16</td>\n",
       "      <td>11</td>\n",
       "      <td>33</td>\n",
       "    </tr>\n",
       "    <tr>\n",
       "      <th>8</th>\n",
       "      <td>TYR</td>\n",
       "      <td>73</td>\n",
       "      <td>80</td>\n",
       "      <td>73</td>\n",
       "      <td>16</td>\n",
       "    </tr>\n",
       "    <tr>\n",
       "      <th>9</th>\n",
       "      <td>ASN</td>\n",
       "      <td>116</td>\n",
       "      <td>108</td>\n",
       "      <td>115</td>\n",
       "      <td>13</td>\n",
       "    </tr>\n",
       "    <tr>\n",
       "      <th>10</th>\n",
       "      <td>GLN</td>\n",
       "      <td>81</td>\n",
       "      <td>80</td>\n",
       "      <td>84</td>\n",
       "      <td>19</td>\n",
       "    </tr>\n",
       "    <tr>\n",
       "      <th>11</th>\n",
       "      <td>GLY</td>\n",
       "      <td>123</td>\n",
       "      <td>125</td>\n",
       "      <td>122</td>\n",
       "      <td>15</td>\n",
       "    </tr>\n",
       "    <tr>\n",
       "      <th>12</th>\n",
       "      <td>ALA</td>\n",
       "      <td>122</td>\n",
       "      <td>132</td>\n",
       "      <td>122</td>\n",
       "      <td>45</td>\n",
       "    </tr>\n",
       "    <tr>\n",
       "      <th>13</th>\n",
       "      <td>VAL</td>\n",
       "      <td>119</td>\n",
       "      <td>124</td>\n",
       "      <td>127</td>\n",
       "      <td>35</td>\n",
       "    </tr>\n",
       "    <tr>\n",
       "      <th>14</th>\n",
       "      <td>LEU</td>\n",
       "      <td>120</td>\n",
       "      <td>123</td>\n",
       "      <td>129</td>\n",
       "      <td>57</td>\n",
       "    </tr>\n",
       "    <tr>\n",
       "      <th>15</th>\n",
       "      <td>ILE</td>\n",
       "      <td>54</td>\n",
       "      <td>70</td>\n",
       "      <td>59</td>\n",
       "      <td>12</td>\n",
       "    </tr>\n",
       "    <tr>\n",
       "      <th>16</th>\n",
       "      <td>MET</td>\n",
       "      <td>38</td>\n",
       "      <td>40</td>\n",
       "      <td>36</td>\n",
       "      <td>4</td>\n",
       "    </tr>\n",
       "    <tr>\n",
       "      <th>17</th>\n",
       "      <td>PHE</td>\n",
       "      <td>110</td>\n",
       "      <td>111</td>\n",
       "      <td>115</td>\n",
       "      <td>26</td>\n",
       "    </tr>\n",
       "    <tr>\n",
       "      <th>18</th>\n",
       "      <td>TRP</td>\n",
       "      <td>20</td>\n",
       "      <td>20</td>\n",
       "      <td>22</td>\n",
       "      <td>1</td>\n",
       "    </tr>\n",
       "    <tr>\n",
       "      <th>19</th>\n",
       "      <td>PRO</td>\n",
       "      <td>143</td>\n",
       "      <td>141</td>\n",
       "      <td>145</td>\n",
       "      <td>25</td>\n",
       "    </tr>\n",
       "  </tbody>\n",
       "</table>\n",
       "</div>"
      ],
      "text/plain": [
       "   Amino_acids  No_of_surf_res (MDAnalysis)  No_of_surf_res (VMD_prot_wat)  \\\n",
       "0          LYS                          100                             89   \n",
       "1          ARG                          124                            107   \n",
       "2          HIS                           84                             77   \n",
       "3          ASP                          149                            144   \n",
       "4          GLU                           96                             95   \n",
       "5          SER                           96                             89   \n",
       "6          THR                           86                             79   \n",
       "7          CYS                           12                             16   \n",
       "8          TYR                           73                             80   \n",
       "9          ASN                          116                            108   \n",
       "10         GLN                           81                             80   \n",
       "11         GLY                          123                            125   \n",
       "12         ALA                          122                            132   \n",
       "13         VAL                          119                            124   \n",
       "14         LEU                          120                            123   \n",
       "15         ILE                           54                             70   \n",
       "16         MET                           38                             40   \n",
       "17         PHE                          110                            111   \n",
       "18         TRP                           20                             20   \n",
       "19         PRO                          143                            141   \n",
       "\n",
       "    No_of_surf_res (VMD_sasa)  No_of_surf_res (BSA_VMD_sasa)  \n",
       "0                         100                             56  \n",
       "1                         124                             22  \n",
       "2                          84                             16  \n",
       "3                         151                             37  \n",
       "4                          96                             55  \n",
       "5                          99                             21  \n",
       "6                          83                             34  \n",
       "7                          11                             33  \n",
       "8                          73                             16  \n",
       "9                         115                             13  \n",
       "10                         84                             19  \n",
       "11                        122                             15  \n",
       "12                        122                             45  \n",
       "13                        127                             35  \n",
       "14                        129                             57  \n",
       "15                         59                             12  \n",
       "16                         36                              4  \n",
       "17                        115                             26  \n",
       "18                         22                              1  \n",
       "19                        145                             25  "
      ]
     },
     "execution_count": 69,
     "metadata": {},
     "output_type": "execute_result"
    }
   ],
   "source": [
    "sk_b, sl_b = AA_list_org(ssbsa_list)\n",
    "sbsa_tt = pd.Series(data=sl_b, index=None)\n",
    "aa_count['No_of_surf_res (BSA_VMD_sasa)'] = sbsa_tt\n",
    "aa_count"
   ]
  },
  {
   "cell_type": "code",
   "execution_count": 78,
   "metadata": {},
   "outputs": [
    {
     "data": {
      "text/plain": [
       "94"
      ]
     },
     "execution_count": 78,
     "metadata": {},
     "output_type": "execute_result"
    }
   ],
   "source": [
    "# Number of positively charged residues (MD analysis)\n",
    "aa_count['No_of_surf_res (BSA_VMD_sasa)'][0:3].sum()"
   ]
  },
  {
   "cell_type": "code",
   "execution_count": 79,
   "metadata": {},
   "outputs": [
    {
     "data": {
      "text/plain": [
       "92"
      ]
     },
     "execution_count": 79,
     "metadata": {},
     "output_type": "execute_result"
    }
   ],
   "source": [
    "# Number of negatively charged residues (MD Analysis)\n",
    "aa_count['No_of_surf_res (BSA_VMD_sasa)'][3:5].sum()"
   ]
  },
  {
   "cell_type": "code",
   "execution_count": 80,
   "metadata": {},
   "outputs": [
    {
     "data": {
      "text/plain": [
       "136"
      ]
     },
     "execution_count": 80,
     "metadata": {},
     "output_type": "execute_result"
    }
   ],
   "source": [
    "# Number of polar residues (MD Analysis)\n",
    "aa_count['No_of_surf_res (BSA_VMD_sasa)'][5:11].sum()"
   ]
  },
  {
   "cell_type": "code",
   "execution_count": 81,
   "metadata": {},
   "outputs": [
    {
     "data": {
      "text/plain": [
       "220"
      ]
     },
     "execution_count": 81,
     "metadata": {},
     "output_type": "execute_result"
    }
   ],
   "source": [
    "# Number of hydrophobic residues (MD Analysis)\n",
    "aa_count['No_of_surf_res (BSA_VMD_sasa)'][11:20].sum()"
   ]
  },
  {
   "cell_type": "code",
   "execution_count": 82,
   "metadata": {},
   "outputs": [
    {
     "data": {
      "text/plain": [
       "59"
      ]
     },
     "execution_count": 82,
     "metadata": {},
     "output_type": "execute_result"
    }
   ],
   "source": [
    "# aromatic_res = ['PHE', 'TRP', 'TYR', 'HIS']\n",
    "hf_bs = aa_count['No_of_surf_res (BSA_VMD_sasa)'][8].sum() \n",
    "hf_b = aa_count['No_of_surf_res (BSA_VMD_sasa)'][17:19].sum() \n",
    "hf_2vb = aa_count['No_of_surf_res (BSA_VMD_sasa)'][2].sum()\n",
    "hf_bs +hf_b +hf_2vb"
   ]
  },
  {
   "cell_type": "code",
   "execution_count": null,
   "metadata": {},
   "outputs": [],
   "source": []
  },
  {
   "cell_type": "code",
   "execution_count": null,
   "metadata": {},
   "outputs": [],
   "source": []
  },
  {
   "cell_type": "code",
   "execution_count": null,
   "metadata": {},
   "outputs": [],
   "source": []
  },
  {
   "cell_type": "code",
   "execution_count": null,
   "metadata": {},
   "outputs": [],
   "source": []
  },
  {
   "cell_type": "code",
   "execution_count": null,
   "metadata": {},
   "outputs": [],
   "source": []
  },
  {
   "cell_type": "code",
   "execution_count": null,
   "metadata": {},
   "outputs": [],
   "source": []
  }
 ],
 "metadata": {
  "anaconda-cloud": {},
  "kernelspec": {
   "display_name": "Python (ppc_env)",
   "language": "python",
   "name": "ppc_env"
  },
  "language_info": {
   "codemirror_mode": {
    "name": "ipython",
    "version": 3
   },
   "file_extension": ".py",
   "mimetype": "text/x-python",
   "name": "python",
   "nbconvert_exporter": "python",
   "pygments_lexer": "ipython3",
   "version": "3.6.8"
  }
 },
 "nbformat": 4,
 "nbformat_minor": 1
}
