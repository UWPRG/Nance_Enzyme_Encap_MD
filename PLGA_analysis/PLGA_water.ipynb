{
 "cells": [
  {
   "cell_type": "code",
   "execution_count": 1,
   "metadata": {},
   "outputs": [],
   "source": [
    "#import the necessary modules \n",
    "%matplotlib inline \n",
    "import numpy as np \n",
    "import matplotlib.pyplot as plt \n",
    "import pandas as pd \n",
    "import scipy\n",
    "import sklearn\n",
    "import itertools \n",
    "from itertools import cycle \n",
    "import os.path as op\n",
    "import timeit \n",
    "import json\n",
    "import math\n"
   ]
  },
  {
   "cell_type": "code",
   "execution_count": 2,
   "metadata": {},
   "outputs": [
    {
     "data": {
      "text/plain": [
       "4"
      ]
     },
     "execution_count": 2,
     "metadata": {},
     "output_type": "execute_result"
    }
   ],
   "source": [
    "import multiprocessing as m_proc\n",
    "m_proc.cpu_count()"
   ]
  },
  {
   "cell_type": "code",
   "execution_count": 3,
   "metadata": {},
   "outputs": [],
   "source": [
    "# Import MDAnalysis\n",
    "import MDAnalysis as mda\n",
    "import statsmodels as stats\n",
    "from MDAnalysis.analysis import polymer, distances, rdf\n",
    "import matplotlib.font_manager as font_manager"
   ]
  },
  {
   "cell_type": "code",
   "execution_count": 4,
   "metadata": {},
   "outputs": [],
   "source": [
    "from polymer_MD_analysis import pers_length, get_rg_pers_poly, bavg_pers_cnt"
   ]
  },
  {
   "cell_type": "markdown",
   "metadata": {},
   "source": [
    "## PLGA/water system analysis"
   ]
  },
  {
   "cell_type": "markdown",
   "metadata": {},
   "source": [
    "### N = 6"
   ]
  },
  {
   "cell_type": "code",
   "execution_count": 5,
   "metadata": {},
   "outputs": [],
   "source": [
    "# For the right Rg calculation using MD Analysis, use trajactory without pbc \n",
    "n6_plga_wat = mda.Universe(\"n6plga_wat/n6plgaonly_wat.pdb\", \"n6plga_wat/nowat_n6plga.xtc\")"
   ]
  },
  {
   "cell_type": "code",
   "execution_count": 6,
   "metadata": {},
   "outputs": [
    {
     "data": {
      "text/plain": [
       "<XTCReader n6plga_wat/nowat_n6plga.xtc with 18001 frames of 93 atoms>"
      ]
     },
     "execution_count": 6,
     "metadata": {},
     "output_type": "execute_result"
    }
   ],
   "source": [
    "n6_plga_wat.trajectory"
   ]
  },
  {
   "cell_type": "code",
   "execution_count": 7,
   "metadata": {},
   "outputs": [
    {
     "data": {
      "text/plain": [
       "18001"
      ]
     },
     "execution_count": 7,
     "metadata": {},
     "output_type": "execute_result"
    }
   ],
   "source": [
    "len(n6_plga_wat.trajectory)"
   ]
  },
  {
   "cell_type": "code",
   "execution_count": 8,
   "metadata": {},
   "outputs": [],
   "source": [
    "#Select the polymer heavy atoms \n",
    "plga_n6wat = n6_plga_wat.select_atoms(\"resname sPLG PLG tPLG and not type H\")"
   ]
  },
  {
   "cell_type": "code",
   "execution_count": 9,
   "metadata": {},
   "outputs": [
    {
     "data": {
      "text/plain": [
       "array([[ 1.        ,  0.81380094,  0.78610581,  0.86602933,  0.83173169],\n",
       "       [ 0.        ,  1.        ,  2.        ,  3.        ,  4.        ],\n",
       "       [ 0.        , 35.5310264 , 38.17693149, 29.99955027, 33.72296244]])"
      ]
     },
     "execution_count": 9,
     "metadata": {},
     "output_type": "execute_result"
    }
   ],
   "source": [
    "crv_n6plga_wat = pers_length(plga_n6wat,6)\n",
    "crv_n6plga_wat"
   ]
  },
  {
   "cell_type": "code",
   "execution_count": 10,
   "metadata": {},
   "outputs": [],
   "source": [
    "com_bond = np.zeros(shape=(1,18000))\n",
    "count = 0\n",
    "for ts in n6_plga_wat.trajectory[0:18000]:\n",
    "    n6_mon1_wat = n6_plga_wat.select_atoms(\"resid 1\")\n",
    "    n6_mon2_wat = n6_plga_wat.select_atoms(\"resid 2\")\n",
    "    oo_len = mda.analysis.distances.distance_array(n6_mon1_wat.center_of_mass(), n6_mon2_wat.center_of_mass(), \n",
    "                                                   box=n6_plga_wat.trajectory.ts.dimensions)\n",
    "    com_bond[0, count] = oo_len\n",
    "    count += 1\n",
    "    "
   ]
  },
  {
   "cell_type": "code",
   "execution_count": 11,
   "metadata": {},
   "outputs": [
    {
     "data": {
      "text/plain": [
       "array([[5.80601904, 6.02340271, 6.5301031 , ..., 6.12709611, 6.28884022,\n",
       "        5.85774912]])"
      ]
     },
     "execution_count": 11,
     "metadata": {},
     "output_type": "execute_result"
    }
   ],
   "source": [
    "com_bond"
   ]
  },
  {
   "cell_type": "code",
   "execution_count": 12,
   "metadata": {},
   "outputs": [
    {
     "data": {
      "text/plain": [
       "5.5065835054684165"
      ]
     },
     "execution_count": 12,
     "metadata": {},
     "output_type": "execute_result"
    }
   ],
   "source": [
    "lb_avg_pn6 = np.mean(com_bond)\n",
    "lb_avg_pn6"
   ]
  },
  {
   "cell_type": "code",
   "execution_count": 13,
   "metadata": {},
   "outputs": [
    {
     "data": {
      "text/plain": [
       "0.7774540112069643"
      ]
     },
     "execution_count": 13,
     "metadata": {},
     "output_type": "execute_result"
    }
   ],
   "source": [
    "np.std(com_bond)"
   ]
  },
  {
   "cell_type": "markdown",
   "metadata": {},
   "source": [
    "### Radius of Gyration vs. time N = 6 PLGA/water system"
   ]
  },
  {
   "cell_type": "code",
   "execution_count": 14,
   "metadata": {},
   "outputs": [],
   "source": [
    "n6plga_rgens_wat, cor_n6plga_wat, N6plga_cos_wat, rgwat_n6plga = get_rg_pers_poly(plga_n6wat, n6_plga_wat, 0, 18000)"
   ]
  },
  {
   "cell_type": "code",
   "execution_count": 15,
   "metadata": {},
   "outputs": [
    {
     "data": {
      "text/plain": [
       "(18000,)"
      ]
     },
     "execution_count": 15,
     "metadata": {},
     "output_type": "execute_result"
    }
   ],
   "source": [
    "n6plga_rgens_wat[0].shape"
   ]
  },
  {
   "cell_type": "code",
   "execution_count": 16,
   "metadata": {},
   "outputs": [
    {
     "data": {
      "text/plain": [
       "array([0., 1., 2., 3., 4.])"
      ]
     },
     "execution_count": 16,
     "metadata": {},
     "output_type": "execute_result"
    }
   ],
   "source": [
    "cor_n6plga_wat[3]"
   ]
  },
  {
   "cell_type": "code",
   "execution_count": 17,
   "metadata": {},
   "outputs": [
    {
     "data": {
      "text/plain": [
       "array([[1.        , 1.        , 1.        , ..., 1.        , 1.        ,\n",
       "        1.        ],\n",
       "       [0.81380094, 0.80870654, 0.76042782, ..., 0.82227592, 0.82976065,\n",
       "        0.80583765],\n",
       "       [0.78610581, 0.67142637, 0.65432947, ..., 0.52620476, 0.55980369,\n",
       "        0.5880537 ],\n",
       "       [0.86602933, 0.86847793, 0.87258933, ..., 0.20943534, 0.27835277,\n",
       "        0.54979335],\n",
       "       [0.83173169, 0.72703233, 0.76817873, ..., 0.59997228, 0.55022774,\n",
       "        0.79610866]])"
      ]
     },
     "execution_count": 17,
     "metadata": {},
     "output_type": "execute_result"
    }
   ],
   "source": [
    "N6plga_cos_wat"
   ]
  },
  {
   "cell_type": "code",
   "execution_count": 18,
   "metadata": {},
   "outputs": [
    {
     "data": {
      "text/plain": [
       "5.958681907495482"
      ]
     },
     "execution_count": 18,
     "metadata": {},
     "output_type": "execute_result"
    }
   ],
   "source": [
    "rgwat_n6plga"
   ]
  },
  {
   "cell_type": "code",
   "execution_count": 19,
   "metadata": {},
   "outputs": [
    {
     "data": {
      "text/plain": [
       "1.006970709643474"
      ]
     },
     "execution_count": 19,
     "metadata": {},
     "output_type": "execute_result"
    }
   ],
   "source": [
    "np.std(n6plga_rgens_wat)"
   ]
  },
  {
   "cell_type": "code",
   "execution_count": 20,
   "metadata": {},
   "outputs": [
    {
     "data": {
      "text/plain": [
       "array([    0,     1,     2, ..., 17997, 17998, 17999])"
      ]
     },
     "execution_count": 20,
     "metadata": {},
     "output_type": "execute_result"
    }
   ],
   "source": [
    "trj_len = np.arange(18000)\n",
    "\n",
    "#trj_len += 1\n",
    "trj_len\n"
   ]
  },
  {
   "cell_type": "code",
   "execution_count": 21,
   "metadata": {},
   "outputs": [
    {
     "data": {
      "text/plain": [
       "(0.2, 2)"
      ]
     },
     "execution_count": 21,
     "metadata": {},
     "output_type": "execute_result"
    },
    {
     "data": {
      "image/png": "[encoded data removed]",
      "text/plain": [
       "<Figure size 504x504 with 1 Axes>"
      ]
     },
     "metadata": {
      "needs_background": "light"
     },
     "output_type": "display_data"
    }
   ],
   "source": [
    "plt.figure(figsize=(7,7))\n",
    "plt.title(r'PLGA Radius of Gyration', fontsize=18, y=1.01)\n",
    "plt.xlabel(r'Time [ns]', fontsize=15)\n",
    "plt.ylabel(r'$R_{g}$ [nm]', fontsize=15)\n",
    "plt.plot(trj_len/100, n6plga_rgens_wat[0]/10,linewidth=2, color='#CCBE9F')\n",
    "plt.tick_params(labelsize=14)\n",
    "plt.legend(['N = 6 in water'], frameon=False, fontsize=14)\n",
    "#plt.text(127, 0.96,r'N = 6 in water', fontsize=18, color='#1F2E69', family='Arial')\n",
    "plt.xlim(0,180)\n",
    "plt.ylim(0.2,2)"
   ]
  },
  {
   "cell_type": "markdown",
   "metadata": {},
   "source": [
    "#### Correlation values at each arc length for the whole 180 ns trajectory, N = 6 PLGA/water system"
   ]
  },
  {
   "cell_type": "code",
   "execution_count": 22,
   "metadata": {},
   "outputs": [
    {
     "data": {
      "text/plain": [
       "array([ 0.        ,  5.50658351, 11.01316701, 16.51975052, 22.02633402])"
      ]
     },
     "execution_count": 22,
     "metadata": {},
     "output_type": "execute_result"
    }
   ],
   "source": [
    "# x values\n",
    "blen_wat = cor_n6plga_wat[3]*lb_avg_pn6\n",
    "#nt_tt[0] = 0\n",
    "blen_wat"
   ]
  },
  {
   "cell_type": "code",
   "execution_count": 23,
   "metadata": {},
   "outputs": [
    {
     "data": {
      "text/plain": [
       "array([6.37452382e-17, 8.65327043e-02, 3.87858057e-01, 8.76832893e-01,\n",
       "       1.74070577e+00])"
      ]
     },
     "execution_count": 23,
     "metadata": {},
     "output_type": "execute_result"
    }
   ],
   "source": [
    "mk_n6p_wat = cor_n6plga_wat[1]/cor_n6plga_wat[0]\n",
    "mk_n6p_wat"
   ]
  },
  {
   "cell_type": "code",
   "execution_count": 24,
   "metadata": {},
   "outputs": [
    {
     "data": {
      "text/plain": [
       "<ErrorbarContainer object of 3 artists>"
      ]
     },
     "execution_count": 24,
     "metadata": {},
     "output_type": "execute_result"
    },
    {
     "data": {
      "image/png": "[encoded data removed]",
      "text/plain": [
       "<Figure size 504x504 with 1 Axes>"
      ]
     },
     "metadata": {
      "needs_background": "light"
     },
     "output_type": "display_data"
    }
   ],
   "source": [
    "plt.figure(figsize=(7,7))\n",
    "plt.errorbar(blen_wat, np.log(cor_n6plga_wat[0]), yerr=mk_n6p_wat, color='b', linestyle=\"None\",marker='o',\n",
    "     capsize=5, capthick=1, ecolor='black')"
   ]
  },
  {
   "cell_type": "code",
   "execution_count": 25,
   "metadata": {},
   "outputs": [
    {
     "name": "stdout",
     "output_type": "stream",
     "text": [
      "3000\n",
      "6000\n",
      "Lp [Angstroms]: 13.649490367520398\n",
      "Error in Lp from fit [Angstroms], 95% CL : 2.8122943936544975\n",
      "R2 score: 0.9567096793613151\n",
      "6000\n",
      "9000\n",
      "Lp [Angstroms]: 16.886737663152484\n",
      "Error in Lp from fit [Angstroms], 95% CL : 2.3772272835489017\n",
      "R2 score: 0.9785070583999382\n",
      "9000\n",
      "12000\n",
      "Lp [Angstroms]: 18.640081115374368\n",
      "Error in Lp from fit [Angstroms], 95% CL : 2.6771065551568043\n",
      "R2 score: 0.9776869864464767\n",
      "12000\n",
      "15000\n",
      "Lp [Angstroms]: 16.14097415789967\n",
      "Error in Lp from fit [Angstroms], 95% CL : 2.5579259984696785\n",
      "R2 score: 0.9732015874918136\n",
      "15000\n",
      "18000\n",
      "Lp [Angstroms]: 14.735745279787597\n",
      "Error in Lp from fit [Angstroms], 95% CL : 3.071563655109499\n",
      "R2 score: 0.955796726463846\n"
     ]
    }
   ],
   "source": [
    "# All the points give the best fits for N = 6 peg in water\n",
    "n6_blksplga_wat , n6plga_lpwat = bavg_pers_cnt(5, plga_n6wat, n6_plga_wat, lb_avg_pn6, 3, 3000 , 18000)"
   ]
  },
  {
   "cell_type": "code",
   "execution_count": 26,
   "metadata": {},
   "outputs": [
    {
     "data": {
      "text/plain": [
       "{'Avg Radius of gyration': array([5.70670027, 6.05636599, 6.52068659, 5.94843621, 5.77708912]),\n",
       " 'Avg persistence length': array([13.64949037, 16.88673766, 18.64008112, 16.14097416, 14.73574528])}"
      ]
     },
     "execution_count": 26,
     "metadata": {},
     "output_type": "execute_result"
    }
   ],
   "source": [
    "n6_blksplga_wat"
   ]
  },
  {
   "cell_type": "code",
   "execution_count": 27,
   "metadata": {},
   "outputs": [
    {
     "data": {
      "text/plain": [
       "array([[ 1.36494904e+01,  1.68867377e+01,  1.86400811e+01,\n",
       "         1.61409742e+01,  1.47357453e+01],\n",
       "       [ 2.81229439e+00,  2.37722728e+00,  2.67710656e+00,\n",
       "         2.55792600e+00,  3.07156366e+00],\n",
       "       [-7.32628086e-02, -5.92180692e-02, -5.36478352e-02,\n",
       "        -6.19541293e-02, -6.78621937e-02],\n",
       "       [ 5.59807799e-03,  1.70742452e-03,  1.45855648e-03,\n",
       "         2.36831852e-03,  4.91602117e-03]])"
      ]
     },
     "execution_count": 27,
     "metadata": {},
     "output_type": "execute_result"
    }
   ],
   "source": [
    "n6plga_lpwat"
   ]
  },
  {
   "cell_type": "code",
   "execution_count": 28,
   "metadata": {},
   "outputs": [
    {
     "data": {
      "text/plain": [
       "array([-0.07326281, -0.05921807, -0.05364784, -0.06195413, -0.06786219])"
      ]
     },
     "execution_count": 28,
     "metadata": {},
     "output_type": "execute_result"
    }
   ],
   "source": [
    "n6plga_lpwat[2]"
   ]
  },
  {
   "cell_type": "code",
   "execution_count": 29,
   "metadata": {},
   "outputs": [
    {
     "data": {
      "text/plain": [
       "0.003209679734466512"
      ]
     },
     "execution_count": 29,
     "metadata": {},
     "output_type": "execute_result"
    }
   ],
   "source": [
    "np.mean(n6plga_lpwat[3])"
   ]
  },
  {
   "cell_type": "code",
   "execution_count": 30,
   "metadata": {},
   "outputs": [],
   "source": [
    "def line_fit(slope, x):\n",
    "    return slope*x "
   ]
  },
  {
   "cell_type": "code",
   "execution_count": 32,
   "metadata": {},
   "outputs": [
    {
     "data": {
      "text/plain": [
       "array([ 0.        ,  5.50658351, 11.01316701, 16.51975052, 22.02633402])"
      ]
     },
     "execution_count": 32,
     "metadata": {},
     "output_type": "execute_result"
    }
   ],
   "source": [
    "blen_wat"
   ]
  },
  {
   "cell_type": "code",
   "execution_count": 33,
   "metadata": {},
   "outputs": [],
   "source": [
    "gg_n6plga_wat = line_fit(np.mean(n6plga_lpwat[2]),blen_wat)"
   ]
  },
  {
   "cell_type": "code",
   "execution_count": 34,
   "metadata": {},
   "outputs": [
    {
     "data": {
      "text/plain": [
       "array([-0.        , -0.34795554, -0.69591109, -1.04386663, -1.39182218])"
      ]
     },
     "execution_count": 34,
     "metadata": {},
     "output_type": "execute_result"
    }
   ],
   "source": [
    "gg_n6plga_wat"
   ]
  },
  {
   "cell_type": "markdown",
   "metadata": {},
   "source": [
    "### Block averaged Radius of gyration and persistence length, N = 6 PLGA/water system"
   ]
  },
  {
   "cell_type": "code",
   "execution_count": 35,
   "metadata": {},
   "outputs": [
    {
     "data": {
      "text/plain": [
       "16.010605716746902"
      ]
     },
     "execution_count": 35,
     "metadata": {},
     "output_type": "execute_result"
    }
   ],
   "source": [
    "np.mean(n6_blksplga_wat[\"Avg persistence length\"])"
   ]
  },
  {
   "cell_type": "code",
   "execution_count": 36,
   "metadata": {},
   "outputs": [
    {
     "data": {
      "text/plain": [
       "1.7262027004975502"
      ]
     },
     "execution_count": 36,
     "metadata": {},
     "output_type": "execute_result"
    }
   ],
   "source": [
    "np.std(n6_blksplga_wat[\"Avg persistence length\"])"
   ]
  },
  {
   "cell_type": "code",
   "execution_count": 37,
   "metadata": {},
   "outputs": [
    {
     "data": {
      "text/plain": [
       "6.0018556350457155"
      ]
     },
     "execution_count": 37,
     "metadata": {},
     "output_type": "execute_result"
    }
   ],
   "source": [
    "np.mean(n6_blksplga_wat[\"Avg Radius of gyration\"])"
   ]
  },
  {
   "cell_type": "code",
   "execution_count": 38,
   "metadata": {},
   "outputs": [
    {
     "data": {
      "text/plain": [
       "0.2872793934594806"
      ]
     },
     "execution_count": 38,
     "metadata": {},
     "output_type": "execute_result"
    }
   ],
   "source": [
    "np.std(n6_blksplga_wat[\"Avg Radius of gyration\"])"
   ]
  },
  {
   "cell_type": "code",
   "execution_count": 44,
   "metadata": {},
   "outputs": [
    {
     "data": {
      "text/plain": [
       "Text(0.5, -1.82, '$N_{PLGA}$ = 6: $L_{p}$ = 32.9 $\\\\AA$ ± 5.81 $\\\\AA$')"
      ]
     },
     "execution_count": 44,
     "metadata": {},
     "output_type": "execute_result"
    },
    {
     "data": {
      "image/png": "[encoded data removed]",
      "text/plain": [
       "<Figure size 504x504 with 1 Axes>"
      ]
     },
     "metadata": {
      "needs_background": "light"
     },
     "output_type": "display_data"
    }
   ],
   "source": [
    "plt.figure(figsize=(7,7))\n",
    "plt.errorbar(blen_wat, np.log(cor_n6plga_wat[0]), yerr=mk_n6p_wat, color='b', linestyle=\"None\",marker='o',\n",
    "     capsize=5, capthick=1, ecolor='black')\n",
    "plt.plot(blen_wat, gg_n6plga_wat, color='b')\n",
    "plt.title(r'Ensemble Averaged ln(Cosine $\\theta$) in water', fontsize=15, y=1.01)\n",
    "plt.xlabel(r'Bond Length', fontsize=15)\n",
    "plt.ylabel(r'ln$\\left< Cos(\\theta)\\right >$', fontsize=15)\n",
    "#plt.ylim(-1.9,0)\n",
    "font = font_manager.FontProperties(family='Arial', style='normal', size='14')\n",
    "plt.tick_params(labelsize=14)\n",
    "plt.text(0.5, -1.82,r'$N_{PLGA}$ = 6: $L_{p}$ = 16.0 $\\AA$ ± 1.73 $\\AA$', fontsize=15, color='b')\n",
    "#plt.text(5,-0.15,r'R$^{2}$ = 0.98', fontsize=15, color='blue')"
   ]
  },
  {
   "cell_type": "code",
   "execution_count": 45,
   "metadata": {},
   "outputs": [
    {
     "data": {
      "text/html": [
       "<div>\n",
       "<style scoped>\n",
       "    .dataframe tbody tr th:only-of-type {\n",
       "        vertical-align: middle;\n",
       "    }\n",
       "\n",
       "    .dataframe tbody tr th {\n",
       "        vertical-align: top;\n",
       "    }\n",
       "\n",
       "    .dataframe thead th {\n",
       "        text-align: right;\n",
       "    }\n",
       "</style>\n",
       "<table border=\"1\" class=\"dataframe\">\n",
       "  <thead>\n",
       "    <tr style=\"text-align: right;\">\n",
       "      <th></th>\n",
       "      <th>$R_{g}$ [Angstrom] N = 6 PLGA in water</th>\n",
       "    </tr>\n",
       "  </thead>\n",
       "  <tbody>\n",
       "    <tr>\n",
       "      <td>0</td>\n",
       "      <td>5.706700</td>\n",
       "    </tr>\n",
       "    <tr>\n",
       "      <td>1</td>\n",
       "      <td>6.056366</td>\n",
       "    </tr>\n",
       "    <tr>\n",
       "      <td>2</td>\n",
       "      <td>6.520687</td>\n",
       "    </tr>\n",
       "    <tr>\n",
       "      <td>3</td>\n",
       "      <td>5.948436</td>\n",
       "    </tr>\n",
       "    <tr>\n",
       "      <td>4</td>\n",
       "      <td>5.777089</td>\n",
       "    </tr>\n",
       "  </tbody>\n",
       "</table>\n",
       "</div>"
      ],
      "text/plain": [
       "   $R_{g}$ [Angstrom] N = 6 PLGA in water\n",
       "0                                5.706700\n",
       "1                                6.056366\n",
       "2                                6.520687\n",
       "3                                5.948436\n",
       "4                                5.777089"
      ]
     },
     "execution_count": 45,
     "metadata": {},
     "output_type": "execute_result"
    }
   ],
   "source": [
    "rgplga_olig_wat =  pd.DataFrame(data=n6_blksplga_wat[\"Avg Radius of gyration\"]\n",
    "                                  , columns=['$R_{g}$ [Angstrom] N = 6 PLGA in water'])\n",
    "rgplga_olig_wat"
   ]
  },
  {
   "cell_type": "code",
   "execution_count": 46,
   "metadata": {},
   "outputs": [
    {
     "data": {
      "text/html": [
       "<div>\n",
       "<style scoped>\n",
       "    .dataframe tbody tr th:only-of-type {\n",
       "        vertical-align: middle;\n",
       "    }\n",
       "\n",
       "    .dataframe tbody tr th {\n",
       "        vertical-align: top;\n",
       "    }\n",
       "\n",
       "    .dataframe thead th {\n",
       "        text-align: right;\n",
       "    }\n",
       "</style>\n",
       "<table border=\"1\" class=\"dataframe\">\n",
       "  <thead>\n",
       "    <tr style=\"text-align: right;\">\n",
       "      <th></th>\n",
       "      <th>$L_{p}$ [Angstrom] N = 6 PLGA in water</th>\n",
       "    </tr>\n",
       "  </thead>\n",
       "  <tbody>\n",
       "    <tr>\n",
       "      <td>0</td>\n",
       "      <td>13.649490</td>\n",
       "    </tr>\n",
       "    <tr>\n",
       "      <td>1</td>\n",
       "      <td>16.886738</td>\n",
       "    </tr>\n",
       "    <tr>\n",
       "      <td>2</td>\n",
       "      <td>18.640081</td>\n",
       "    </tr>\n",
       "    <tr>\n",
       "      <td>3</td>\n",
       "      <td>16.140974</td>\n",
       "    </tr>\n",
       "    <tr>\n",
       "      <td>4</td>\n",
       "      <td>14.735745</td>\n",
       "    </tr>\n",
       "  </tbody>\n",
       "</table>\n",
       "</div>"
      ],
      "text/plain": [
       "   $L_{p}$ [Angstrom] N = 6 PLGA in water\n",
       "0                               13.649490\n",
       "1                               16.886738\n",
       "2                               18.640081\n",
       "3                               16.140974\n",
       "4                               14.735745"
      ]
     },
     "execution_count": 46,
     "metadata": {},
     "output_type": "execute_result"
    }
   ],
   "source": [
    "pers_plgat_wat = pd.DataFrame(data=n6_blksplga_wat[\"Avg persistence length\"]\n",
    "                                , columns=[r\"$L_{p}$ [Angstrom] N = 6 PLGA in water\"])\n",
    "pers_plgat_wat"
   ]
  },
  {
   "cell_type": "code",
   "execution_count": null,
   "metadata": {},
   "outputs": [],
   "source": []
  },
  {
   "cell_type": "code",
   "execution_count": null,
   "metadata": {},
   "outputs": [],
   "source": []
  },
  {
   "cell_type": "markdown",
   "metadata": {},
   "source": [
    "### N = 8 PLGA/water system"
   ]
  },
  {
   "cell_type": "code",
   "execution_count": 47,
   "metadata": {},
   "outputs": [],
   "source": [
    "# For the right Rg calculation using MD Analysis, use trajactory without pbc \n",
    "n8_plga_wat = mda.Universe(\"n8plga_wat/n8plgaonly_wat.pdb\", \"n8plga_wat/nowat_n8plga.xtc\")"
   ]
  },
  {
   "cell_type": "code",
   "execution_count": 48,
   "metadata": {},
   "outputs": [
    {
     "data": {
      "text/plain": [
       "<XTCReader n8plga_wat/nowat_n8plga.xtc with 18001 frames of 123 atoms>"
      ]
     },
     "execution_count": 48,
     "metadata": {},
     "output_type": "execute_result"
    }
   ],
   "source": [
    "n8_plga_wat.trajectory"
   ]
  },
  {
   "cell_type": "code",
   "execution_count": 49,
   "metadata": {},
   "outputs": [
    {
     "data": {
      "text/plain": [
       "18001"
      ]
     },
     "execution_count": 49,
     "metadata": {},
     "output_type": "execute_result"
    }
   ],
   "source": [
    "len(n8_plga_wat.trajectory)"
   ]
  },
  {
   "cell_type": "code",
   "execution_count": 50,
   "metadata": {},
   "outputs": [],
   "source": [
    "#Select the polymer heavy atoms \n",
    "plga_n8wat = n8_plga_wat.select_atoms(\"resname sPLG PLG tPLG and not type H\")"
   ]
  },
  {
   "cell_type": "code",
   "execution_count": 51,
   "metadata": {},
   "outputs": [
    {
     "data": {
      "text/plain": [
       "array([[ 1.        ,  0.92897105,  0.89341132,  0.84907712,  0.81432404,\n",
       "         0.80025647,  0.882993  ],\n",
       "       [ 0.        ,  1.        ,  2.        ,  3.        ,  4.        ,\n",
       "         5.        ,  6.        ],\n",
       "       [ 0.        , 21.7250151 , 26.69490795, 31.88856629, 35.47942095,\n",
       "        36.84539989, 27.99445773]])"
      ]
     },
     "execution_count": 51,
     "metadata": {},
     "output_type": "execute_result"
    }
   ],
   "source": [
    "crv_n8plga_wat = pers_length(plga_n8wat,8)\n",
    "crv_n8plga_wat"
   ]
  },
  {
   "cell_type": "code",
   "execution_count": 52,
   "metadata": {},
   "outputs": [],
   "source": [
    "com_bond_n8wat = np.zeros(shape=(1,18000))\n",
    "count = 0\n",
    "for ts in n8_plga_wat.trajectory[0:18000]:\n",
    "    n8_mon1_wat = n8_plga_wat.select_atoms(\"resid 1\")\n",
    "    n8_mon2_wat = n8_plga_wat.select_atoms(\"resid 2\")\n",
    "    oo_len = mda.analysis.distances.distance_array(n8_mon1_wat.center_of_mass(), n8_mon2_wat.center_of_mass(), \n",
    "                                                   box=n8_plga_wat.trajectory.ts.dimensions)\n",
    "    com_bond_n8wat[0, count] = oo_len\n",
    "    count += 1\n",
    "    "
   ]
  },
  {
   "cell_type": "code",
   "execution_count": 53,
   "metadata": {},
   "outputs": [
    {
     "data": {
      "text/plain": [
       "array([[5.80601904, 6.02340271, 6.5301031 , ..., 6.12709611, 6.28884022,\n",
       "        5.85774912]])"
      ]
     },
     "execution_count": 53,
     "metadata": {},
     "output_type": "execute_result"
    }
   ],
   "source": [
    "com_bond"
   ]
  },
  {
   "cell_type": "code",
   "execution_count": 54,
   "metadata": {},
   "outputs": [
    {
     "data": {
      "text/plain": [
       "0.7774540112069643"
      ]
     },
     "execution_count": 54,
     "metadata": {},
     "output_type": "execute_result"
    }
   ],
   "source": [
    "np.std(com_bond)"
   ]
  },
  {
   "cell_type": "code",
   "execution_count": 55,
   "metadata": {},
   "outputs": [
    {
     "data": {
      "text/plain": [
       "5.5065835054684165"
      ]
     },
     "execution_count": 55,
     "metadata": {},
     "output_type": "execute_result"
    }
   ],
   "source": [
    "lb_avg_pn6 = np.mean(com_bond)\n",
    "lb_avg_pn6"
   ]
  },
  {
   "cell_type": "code",
   "execution_count": 56,
   "metadata": {},
   "outputs": [
    {
     "data": {
      "text/plain": [
       "5.495630698650939"
      ]
     },
     "execution_count": 56,
     "metadata": {},
     "output_type": "execute_result"
    }
   ],
   "source": [
    "np.mean(com_bond_n8wat)"
   ]
  },
  {
   "cell_type": "code",
   "execution_count": 57,
   "metadata": {},
   "outputs": [
    {
     "data": {
      "text/plain": [
       "0.776440727755075"
      ]
     },
     "execution_count": 57,
     "metadata": {},
     "output_type": "execute_result"
    }
   ],
   "source": [
    "np.std(com_bond_n8wat)"
   ]
  },
  {
   "cell_type": "markdown",
   "metadata": {},
   "source": [
    "### Radius of Gyration vs. time N = 8 PLGA/water system"
   ]
  },
  {
   "cell_type": "code",
   "execution_count": 58,
   "metadata": {},
   "outputs": [],
   "source": [
    "n8plga_rgens_wat, cor_n8plga_wat, N8plga_cos_wat, rgwat_n8plga = get_rg_pers_poly(plga_n8wat, n8_plga_wat, 0, 18000)"
   ]
  },
  {
   "cell_type": "code",
   "execution_count": 59,
   "metadata": {},
   "outputs": [
    {
     "data": {
      "text/plain": [
       "(18000,)"
      ]
     },
     "execution_count": 59,
     "metadata": {},
     "output_type": "execute_result"
    }
   ],
   "source": [
    "n8plga_rgens_wat[0].shape"
   ]
  },
  {
   "cell_type": "code",
   "execution_count": 60,
   "metadata": {},
   "outputs": [
    {
     "data": {
      "text/plain": [
       "array([0., 1., 2., 3., 4., 5., 6.])"
      ]
     },
     "execution_count": 60,
     "metadata": {},
     "output_type": "execute_result"
    }
   ],
   "source": [
    "cor_n8plga_wat[3]"
   ]
  },
  {
   "cell_type": "code",
   "execution_count": 61,
   "metadata": {},
   "outputs": [
    {
     "data": {
      "text/plain": [
       "array([[1.        , 1.        , 1.        , ..., 1.        , 1.        ,\n",
       "        1.        ],\n",
       "       [0.92897105, 0.8949869 , 0.8805186 , ..., 0.73419893, 0.74386491,\n",
       "        0.75085447],\n",
       "       [0.89341132, 0.85821632, 0.76338383, ..., 0.41965625, 0.42832976,\n",
       "        0.36910811],\n",
       "       ...,\n",
       "       [0.81432404, 0.77355169, 0.73638817, ..., 0.1182017 , 0.18943496,\n",
       "        0.0397003 ],\n",
       "       [0.80025647, 0.78422355, 0.73346108, ..., 0.41748781, 0.46071055,\n",
       "        0.29320364],\n",
       "       [0.882993  , 0.93504792, 0.95732404, ..., 0.5413031 , 0.40841995,\n",
       "        0.4792026 ]])"
      ]
     },
     "execution_count": 61,
     "metadata": {},
     "output_type": "execute_result"
    }
   ],
   "source": [
    "N8plga_cos_wat"
   ]
  },
  {
   "cell_type": "code",
   "execution_count": 62,
   "metadata": {},
   "outputs": [
    {
     "data": {
      "text/plain": [
       "6.723531449586735"
      ]
     },
     "execution_count": 62,
     "metadata": {},
     "output_type": "execute_result"
    }
   ],
   "source": [
    "rgwat_n8plga"
   ]
  },
  {
   "cell_type": "code",
   "execution_count": 63,
   "metadata": {},
   "outputs": [
    {
     "data": {
      "text/plain": [
       "1.2067862077994864"
      ]
     },
     "execution_count": 63,
     "metadata": {},
     "output_type": "execute_result"
    }
   ],
   "source": [
    "np.std(n8plga_rgens_wat)"
   ]
  },
  {
   "cell_type": "code",
   "execution_count": 64,
   "metadata": {},
   "outputs": [
    {
     "data": {
      "text/plain": [
       "(0.2, 2)"
      ]
     },
     "execution_count": 64,
     "metadata": {},
     "output_type": "execute_result"
    },
    {
     "data": {
      "image/png": "[encoded data removed]",
      "text/plain": [
       "<Figure size 504x504 with 1 Axes>"
      ]
     },
     "metadata": {
      "needs_background": "light"
     },
     "output_type": "display_data"
    }
   ],
   "source": [
    "plt.figure(figsize=(7,7))\n",
    "plt.title(r'PLGA Radius of Gyration', fontsize=18, y=1.01)\n",
    "plt.xlabel(r'Time [ns]', fontsize=15)\n",
    "plt.ylabel(r'$R_{g}$ [nm]', fontsize=15)\n",
    "plt.plot(trj_len/100, n6plga_rgens_wat[0]/10,linewidth=2, color='#CCBE9F')\n",
    "plt.plot(trj_len/100, n8plga_rgens_wat[0]/10,linewidth=2, color='#601A4A')\n",
    "plt.tick_params(labelsize=14)\n",
    "plt.legend(['N = 6 in water','N = 8 in water'], frameon=False, fontsize=14)\n",
    "#plt.text(127, 0.96,r'N = 6 in water', fontsize=18, color='#1F2E69', family='Arial')\n",
    "plt.xlim(0,180)\n",
    "plt.ylim(0.2,2)"
   ]
  },
  {
   "cell_type": "markdown",
   "metadata": {},
   "source": [
    "#### Correlation values at each arc length for the whole 180 ns trajectory, N = 8 PLGA/water system"
   ]
  },
  {
   "cell_type": "code",
   "execution_count": 65,
   "metadata": {},
   "outputs": [
    {
     "data": {
      "text/plain": [
       "array([ 0.        ,  5.50658351, 11.01316701, 16.51975052, 22.02633402,\n",
       "       27.53291753, 33.03950103])"
      ]
     },
     "execution_count": 65,
     "metadata": {},
     "output_type": "execute_result"
    }
   ],
   "source": [
    "# x values\n",
    "blen_n8wat = cor_n8plga_wat[3]*lb_avg_pn6\n",
    "#nt_tt[0] = 0\n",
    "blen_n8wat"
   ]
  },
  {
   "cell_type": "code",
   "execution_count": 66,
   "metadata": {},
   "outputs": [
    {
     "data": {
      "text/plain": [
       "array([4.26308936e-17, 7.23710587e-02, 2.60087613e-01, 5.11194399e-01,\n",
       "       8.78064452e-01, 1.17219971e+00, 1.54810492e+00])"
      ]
     },
     "execution_count": 66,
     "metadata": {},
     "output_type": "execute_result"
    }
   ],
   "source": [
    "mk_n8p_wat = cor_n8plga_wat[1]/cor_n8plga_wat[0]\n",
    "mk_n8p_wat"
   ]
  },
  {
   "cell_type": "code",
   "execution_count": 67,
   "metadata": {},
   "outputs": [
    {
     "data": {
      "text/plain": [
       "<ErrorbarContainer object of 3 artists>"
      ]
     },
     "execution_count": 67,
     "metadata": {},
     "output_type": "execute_result"
    },
    {
     "data": {
      "image/png": "[encoded data removed]",
      "text/plain": [
       "<Figure size 504x504 with 1 Axes>"
      ]
     },
     "metadata": {
      "needs_background": "light"
     },
     "output_type": "display_data"
    }
   ],
   "source": [
    "plt.figure(figsize=(7,7))\n",
    "plt.errorbar(blen_wat, np.log(cor_n6plga_wat[0]), yerr=mk_n6p_wat, color='#CCBE9F', linestyle=\"None\",marker='o',\n",
    "     capsize=5, capthick=1, ecolor='black')\n",
    "plt.errorbar(blen_n8wat, np.log(cor_n8plga_wat[0]), yerr=mk_n8p_wat, color='#601A4A', linestyle=\"None\",marker='o',\n",
    "     capsize=5, capthick=1, ecolor='black')"
   ]
  },
  {
   "cell_type": "code",
   "execution_count": 68,
   "metadata": {},
   "outputs": [
    {
     "name": "stdout",
     "output_type": "stream",
     "text": [
      "3000\n",
      "6000\n",
      "Lp [Angstroms]: 15.403483794100232\n",
      "Error in Lp from fit [Angstroms], 95% CL : 0.8941300969747815\n",
      "R2 score: 0.9893876092645152\n",
      "6000\n",
      "9000\n",
      "Lp [Angstroms]: 17.735536086116202\n",
      "Error in Lp from fit [Angstroms], 95% CL : 2.30091783153265\n",
      "R2 score: 0.9412179950213494\n",
      "9000\n",
      "12000\n",
      "Lp [Angstroms]: 15.654572484908671\n",
      "Error in Lp from fit [Angstroms], 95% CL : 1.654360339100474\n",
      "R2 score: 0.9677849663638235\n",
      "12000\n",
      "15000\n",
      "Lp [Angstroms]: 21.15625319373912\n",
      "Error in Lp from fit [Angstroms], 95% CL : 0.7858761871374539\n",
      "R2 score: 0.9951566635103407\n",
      "15000\n",
      "18000\n",
      "Lp [Angstroms]: 16.104727837915163\n",
      "Error in Lp from fit [Angstroms], 95% CL : 1.2049589753678762\n",
      "R2 score: 0.9830109581291678\n"
     ]
    }
   ],
   "source": [
    "# All the points give the best fits for N = 6 peg in water\n",
    "n8_blksplga_wat , n8plga_lpwat = bavg_pers_cnt(5, plga_n8wat, n8_plga_wat, lb_avg_pn6, 4, 3000 , 18000)"
   ]
  },
  {
   "cell_type": "code",
   "execution_count": 69,
   "metadata": {},
   "outputs": [
    {
     "data": {
      "text/plain": [
       "{'Avg Radius of gyration': array([6.50134084, 6.63553471, 6.59460847, 7.20983468, 6.68017275]),\n",
       " 'Avg persistence length': array([15.40348379, 17.73553609, 15.65457248, 21.15625319, 16.10472784])}"
      ]
     },
     "execution_count": 69,
     "metadata": {},
     "output_type": "execute_result"
    }
   ],
   "source": [
    "n8_blksplga_wat"
   ]
  },
  {
   "cell_type": "code",
   "execution_count": 70,
   "metadata": {},
   "outputs": [
    {
     "data": {
      "text/plain": [
       "array([[ 1.54034838e+01,  1.77355361e+01,  1.56545725e+01,\n",
       "         2.11562532e+01,  1.61047278e+01],\n",
       "       [ 8.94130097e-01,  2.30091783e+00,  1.65436034e+00,\n",
       "         7.85876187e-01,  1.20495898e+00],\n",
       "       [-6.49203786e-02, -5.63839737e-02, -6.38790999e-02,\n",
       "        -4.72673488e-02, -6.20935672e-02],\n",
       "       [ 1.86014136e-03,  7.00882611e-03,  5.96919435e-03,\n",
       "         4.03806757e-04,  2.82716600e-03]])"
      ]
     },
     "execution_count": 70,
     "metadata": {},
     "output_type": "execute_result"
    }
   ],
   "source": [
    "n8plga_lpwat"
   ]
  },
  {
   "cell_type": "code",
   "execution_count": 71,
   "metadata": {},
   "outputs": [
    {
     "data": {
      "text/plain": [
       "array([-0.06492038, -0.05638397, -0.0638791 , -0.04726735, -0.06209357])"
      ]
     },
     "execution_count": 71,
     "metadata": {},
     "output_type": "execute_result"
    }
   ],
   "source": [
    "n8plga_lpwat[2]"
   ]
  },
  {
   "cell_type": "code",
   "execution_count": 72,
   "metadata": {},
   "outputs": [
    {
     "data": {
      "text/plain": [
       "0.0036138269151425872"
      ]
     },
     "execution_count": 72,
     "metadata": {},
     "output_type": "execute_result"
    }
   ],
   "source": [
    "np.mean(n8plga_lpwat[3])"
   ]
  },
  {
   "cell_type": "code",
   "execution_count": 73,
   "metadata": {},
   "outputs": [
    {
     "data": {
      "text/plain": [
       "array([ 0.        ,  5.50658351, 11.01316701, 16.51975052, 22.02633402,\n",
       "       27.53291753, 33.03950103])"
      ]
     },
     "execution_count": 73,
     "metadata": {},
     "output_type": "execute_result"
    }
   ],
   "source": [
    "blen_n8wat"
   ]
  },
  {
   "cell_type": "code",
   "execution_count": 74,
   "metadata": {},
   "outputs": [],
   "source": [
    "gg_n8plga_wat = line_fit(np.mean(n8plga_lpwat[2]),blen_n8wat)"
   ]
  },
  {
   "cell_type": "code",
   "execution_count": 75,
   "metadata": {},
   "outputs": [],
   "source": [
    "gg_n6plga_n8wat = line_fit(np.mean(n6plga_lpwat[2]),blen_n8wat)"
   ]
  },
  {
   "cell_type": "code",
   "execution_count": 76,
   "metadata": {},
   "outputs": [
    {
     "data": {
      "text/plain": [
       "array([-0.        , -0.32438663, -0.64877326, -0.9731599 , -1.29754653,\n",
       "       -1.62193316, -1.94631979])"
      ]
     },
     "execution_count": 76,
     "metadata": {},
     "output_type": "execute_result"
    }
   ],
   "source": [
    "gg_n8plga_wat"
   ]
  },
  {
   "cell_type": "markdown",
   "metadata": {},
   "source": [
    "### Block averaged Radius of gyration and persistence length, N = 8 PLGA/water system"
   ]
  },
  {
   "cell_type": "code",
   "execution_count": 77,
   "metadata": {},
   "outputs": [
    {
     "data": {
      "text/plain": [
       "17.210914679355877"
      ]
     },
     "execution_count": 77,
     "metadata": {},
     "output_type": "execute_result"
    }
   ],
   "source": [
    "np.mean(n8_blksplga_wat[\"Avg persistence length\"])"
   ]
  },
  {
   "cell_type": "code",
   "execution_count": 78,
   "metadata": {},
   "outputs": [
    {
     "data": {
      "text/plain": [
       "2.1332407446360233"
      ]
     },
     "execution_count": 78,
     "metadata": {},
     "output_type": "execute_result"
    }
   ],
   "source": [
    "np.std(n8_blksplga_wat[\"Avg persistence length\"])"
   ]
  },
  {
   "cell_type": "code",
   "execution_count": 79,
   "metadata": {},
   "outputs": [
    {
     "data": {
      "text/plain": [
       "6.724298288597474"
      ]
     },
     "execution_count": 79,
     "metadata": {},
     "output_type": "execute_result"
    }
   ],
   "source": [
    "np.mean(n8_blksplga_wat[\"Avg Radius of gyration\"])"
   ]
  },
  {
   "cell_type": "code",
   "execution_count": 80,
   "metadata": {},
   "outputs": [
    {
     "data": {
      "text/plain": [
       "0.2498403878746405"
      ]
     },
     "execution_count": 80,
     "metadata": {},
     "output_type": "execute_result"
    }
   ],
   "source": [
    "np.std(n8_blksplga_wat[\"Avg Radius of gyration\"])"
   ]
  },
  {
   "cell_type": "code",
   "execution_count": 81,
   "metadata": {},
   "outputs": [
    {
     "data": {
      "text/plain": [
       "Text(0.5, -6.54, '$N_{PLGA}$ = 8: $L_{p}$ = 30.0 $\\\\AA$ ± 4.44 $\\\\AA$')"
      ]
     },
     "execution_count": 81,
     "metadata": {},
     "output_type": "execute_result"
    },
    {
     "data": {
      "image/png": "[encoded data removed]",
      "text/plain": [
       "<Figure size 504x504 with 1 Axes>"
      ]
     },
     "metadata": {
      "needs_background": "light"
     },
     "output_type": "display_data"
    }
   ],
   "source": [
    "plt.figure(figsize=(7,7))\n",
    "plt.errorbar(blen_wat, np.log(cor_n6plga_wat[0]), yerr=mk_n6p_wat, color='#CCBE9F', linestyle=\"None\",marker='o',\n",
    "     capsize=5, capthick=1, ecolor='black')\n",
    "plt.errorbar(blen_n8wat, np.log(cor_n8plga_wat[0]), yerr=mk_n8p_wat, color='#601A4A', linestyle=\"None\",marker='o',\n",
    "     capsize=5, capthick=1, ecolor='black')\n",
    "plt.plot(blen_n8wat, gg_n6plga_n8wat, color='#CCBE9F')\n",
    "plt.plot(blen_n8wat, gg_n8plga_wat, color='#601A4A')\n",
    "plt.title(r'Ensemble Averaged ln(Cosine $\\theta$) in water', fontsize=15, y=1.01)\n",
    "plt.xlabel(r'Bond Length', fontsize=15)\n",
    "plt.ylabel(r'ln$\\left< Cos(\\theta)\\right >$', fontsize=15)\n",
    "plt.ylim(-7,1)\n",
    "plt.xlim(0,165)\n",
    "font = font_manager.FontProperties(family='Arial', style='normal', size='14')\n",
    "#plt.legend([r'$N_{PEG}$ = 6: $L_{p}$ = 10.7 $\\AA$ ± 1.62 $\\AA$'], loc=3, frameon=0, fontsize=14, prop=font)\n",
    "plt.tick_params(labelsize=14)\n",
    "plt.text(0.5, -6.92,r'$N_{PLGA}$ = 6: $L_{p}$ = 16.0 $\\AA$ ± 1.73 $\\AA$', fontsize=15, color='#CCBE9F')\n",
    "plt.text(0.5, -6.54,r'$N_{PLGA}$ = 8: $L_{p}$ = 17.2 $\\AA$ ± 2.13 $\\AA$', fontsize=15, color='#601A4A')"
   ]
  },
  {
   "cell_type": "code",
   "execution_count": 82,
   "metadata": {},
   "outputs": [
    {
     "data": {
      "text/html": [
       "<div>\n",
       "<style scoped>\n",
       "    .dataframe tbody tr th:only-of-type {\n",
       "        vertical-align: middle;\n",
       "    }\n",
       "\n",
       "    .dataframe tbody tr th {\n",
       "        vertical-align: top;\n",
       "    }\n",
       "\n",
       "    .dataframe thead th {\n",
       "        text-align: right;\n",
       "    }\n",
       "</style>\n",
       "<table border=\"1\" class=\"dataframe\">\n",
       "  <thead>\n",
       "    <tr style=\"text-align: right;\">\n",
       "      <th></th>\n",
       "      <th>$R_{g}$ [Angstrom] N = 6 PLGA in water</th>\n",
       "      <th>$R_{g}$ [Angstrom] N = 8 PLGA in water</th>\n",
       "    </tr>\n",
       "  </thead>\n",
       "  <tbody>\n",
       "    <tr>\n",
       "      <td>0</td>\n",
       "      <td>5.706700</td>\n",
       "      <td>6.501341</td>\n",
       "    </tr>\n",
       "    <tr>\n",
       "      <td>1</td>\n",
       "      <td>6.056366</td>\n",
       "      <td>6.635535</td>\n",
       "    </tr>\n",
       "    <tr>\n",
       "      <td>2</td>\n",
       "      <td>6.520687</td>\n",
       "      <td>6.594608</td>\n",
       "    </tr>\n",
       "    <tr>\n",
       "      <td>3</td>\n",
       "      <td>5.948436</td>\n",
       "      <td>7.209835</td>\n",
       "    </tr>\n",
       "    <tr>\n",
       "      <td>4</td>\n",
       "      <td>5.777089</td>\n",
       "      <td>6.680173</td>\n",
       "    </tr>\n",
       "  </tbody>\n",
       "</table>\n",
       "</div>"
      ],
      "text/plain": [
       "   $R_{g}$ [Angstrom] N = 6 PLGA in water  \\\n",
       "0                                5.706700   \n",
       "1                                6.056366   \n",
       "2                                6.520687   \n",
       "3                                5.948436   \n",
       "4                                5.777089   \n",
       "\n",
       "   $R_{g}$ [Angstrom] N = 8 PLGA in water  \n",
       "0                                6.501341  \n",
       "1                                6.635535  \n",
       "2                                6.594608  \n",
       "3                                7.209835  \n",
       "4                                6.680173  "
      ]
     },
     "execution_count": 82,
     "metadata": {},
     "output_type": "execute_result"
    }
   ],
   "source": [
    "rgplga_olig_wat[r\"$R_{g}$ [Angstrom] N = 8 PLGA in water\"] = n8_blksplga_wat[\"Avg Radius of gyration\"]\n",
    "rgplga_olig_wat"
   ]
  },
  {
   "cell_type": "code",
   "execution_count": 83,
   "metadata": {},
   "outputs": [
    {
     "data": {
      "text/html": [
       "<div>\n",
       "<style scoped>\n",
       "    .dataframe tbody tr th:only-of-type {\n",
       "        vertical-align: middle;\n",
       "    }\n",
       "\n",
       "    .dataframe tbody tr th {\n",
       "        vertical-align: top;\n",
       "    }\n",
       "\n",
       "    .dataframe thead th {\n",
       "        text-align: right;\n",
       "    }\n",
       "</style>\n",
       "<table border=\"1\" class=\"dataframe\">\n",
       "  <thead>\n",
       "    <tr style=\"text-align: right;\">\n",
       "      <th></th>\n",
       "      <th>$L_{p}$ [Angstrom] N = 6 PLGA in water</th>\n",
       "      <th>$L_{p}$ [Angstrom] N = 8 PLGA in water</th>\n",
       "    </tr>\n",
       "  </thead>\n",
       "  <tbody>\n",
       "    <tr>\n",
       "      <td>0</td>\n",
       "      <td>13.649490</td>\n",
       "      <td>15.403484</td>\n",
       "    </tr>\n",
       "    <tr>\n",
       "      <td>1</td>\n",
       "      <td>16.886738</td>\n",
       "      <td>17.735536</td>\n",
       "    </tr>\n",
       "    <tr>\n",
       "      <td>2</td>\n",
       "      <td>18.640081</td>\n",
       "      <td>15.654572</td>\n",
       "    </tr>\n",
       "    <tr>\n",
       "      <td>3</td>\n",
       "      <td>16.140974</td>\n",
       "      <td>21.156253</td>\n",
       "    </tr>\n",
       "    <tr>\n",
       "      <td>4</td>\n",
       "      <td>14.735745</td>\n",
       "      <td>16.104728</td>\n",
       "    </tr>\n",
       "  </tbody>\n",
       "</table>\n",
       "</div>"
      ],
      "text/plain": [
       "   $L_{p}$ [Angstrom] N = 6 PLGA in water  \\\n",
       "0                               13.649490   \n",
       "1                               16.886738   \n",
       "2                               18.640081   \n",
       "3                               16.140974   \n",
       "4                               14.735745   \n",
       "\n",
       "   $L_{p}$ [Angstrom] N = 8 PLGA in water  \n",
       "0                               15.403484  \n",
       "1                               17.735536  \n",
       "2                               15.654572  \n",
       "3                               21.156253  \n",
       "4                               16.104728  "
      ]
     },
     "execution_count": 83,
     "metadata": {},
     "output_type": "execute_result"
    }
   ],
   "source": [
    "pers_plgat_wat[r\"$L_{p}$ [Angstrom] N = 8 PLGA in water\"] = n8_blksplga_wat[\"Avg persistence length\"]\n",
    "pers_plgat_wat"
   ]
  },
  {
   "cell_type": "markdown",
   "metadata": {},
   "source": [
    "### N = 10 PLGA/water system"
   ]
  },
  {
   "cell_type": "code",
   "execution_count": 84,
   "metadata": {},
   "outputs": [],
   "source": [
    "# For the right Rg calculation using MD Analysis, use trajactory without pbc \n",
    "n10_plga_wat = mda.Universe(\"n10plga_wat/n10plgaonly_wat.pdb\", \"n10plga_wat/nowat_n10plga.xtc\")"
   ]
  },
  {
   "cell_type": "code",
   "execution_count": 85,
   "metadata": {},
   "outputs": [
    {
     "data": {
      "text/plain": [
       "<XTCReader n10plga_wat/nowat_n10plga.xtc with 18001 frames of 153 atoms>"
      ]
     },
     "execution_count": 85,
     "metadata": {},
     "output_type": "execute_result"
    }
   ],
   "source": [
    "n10_plga_wat.trajectory"
   ]
  },
  {
   "cell_type": "code",
   "execution_count": 86,
   "metadata": {},
   "outputs": [
    {
     "data": {
      "text/plain": [
       "18001"
      ]
     },
     "execution_count": 86,
     "metadata": {},
     "output_type": "execute_result"
    }
   ],
   "source": [
    "len(n10_plga_wat.trajectory)"
   ]
  },
  {
   "cell_type": "code",
   "execution_count": 87,
   "metadata": {},
   "outputs": [],
   "source": [
    "#Select the polymer heavy atoms \n",
    "plga_n10wat = n10_plga_wat.select_atoms(\"resname sPLG PLG tPLG and not type H\")"
   ]
  },
  {
   "cell_type": "code",
   "execution_count": 89,
   "metadata": {},
   "outputs": [
    {
     "data": {
      "text/plain": [
       "array([[ 1.        ,  0.91663881,  0.89235701,  0.8031246 ,  0.78184933,\n",
       "         0.68818055,  0.71655788,  0.59444382,  0.76258547],\n",
       "       [ 0.        ,  1.        ,  2.        ,  3.        ,  4.        ,\n",
       "         5.        ,  6.        ,  7.        ,  8.        ],\n",
       "       [ 0.        , 23.56045739, 26.82906162, 36.57047618, 38.56978872,\n",
       "        46.51374401, 44.22898062, 53.52700631, 40.3073398 ]])"
      ]
     },
     "execution_count": 89,
     "metadata": {},
     "output_type": "execute_result"
    }
   ],
   "source": [
    "crv_n10plga_wat = pers_length(plga_n10wat,10)\n",
    "crv_n10plga_wat"
   ]
  },
  {
   "cell_type": "code",
   "execution_count": 90,
   "metadata": {},
   "outputs": [],
   "source": [
    "com_bond_n10wat = np.zeros(shape=(1,18000))\n",
    "count = 0\n",
    "for ts in n10_plga_wat.trajectory[0:18000]:\n",
    "    n10_mon1_wat = n10_plga_wat.select_atoms(\"resid 1\")\n",
    "    n10_mon2_wat = n10_plga_wat.select_atoms(\"resid 2\")\n",
    "    oo_len = mda.analysis.distances.distance_array(n10_mon1_wat.center_of_mass(), n10_mon2_wat.center_of_mass(), \n",
    "                                                   box=n10_plga_wat.trajectory.ts.dimensions)\n",
    "    com_bond_n10wat[0, count] = oo_len\n",
    "    count += 1\n",
    "    "
   ]
  },
  {
   "cell_type": "code",
   "execution_count": 91,
   "metadata": {},
   "outputs": [
    {
     "data": {
      "text/plain": [
       "array([[5.80601904, 6.02340271, 6.5301031 , ..., 6.12709611, 6.28884022,\n",
       "        5.85774912]])"
      ]
     },
     "execution_count": 91,
     "metadata": {},
     "output_type": "execute_result"
    }
   ],
   "source": [
    "com_bond"
   ]
  },
  {
   "cell_type": "code",
   "execution_count": 92,
   "metadata": {},
   "outputs": [
    {
     "data": {
      "text/plain": [
       "0.7774540112069643"
      ]
     },
     "execution_count": 92,
     "metadata": {},
     "output_type": "execute_result"
    }
   ],
   "source": [
    "np.std(com_bond)"
   ]
  },
  {
   "cell_type": "code",
   "execution_count": 93,
   "metadata": {},
   "outputs": [
    {
     "data": {
      "text/plain": [
       "5.5065835054684165"
      ]
     },
     "execution_count": 93,
     "metadata": {},
     "output_type": "execute_result"
    }
   ],
   "source": [
    "lb_avg_pn6 = np.mean(com_bond)\n",
    "lb_avg_pn6"
   ]
  },
  {
   "cell_type": "code",
   "execution_count": 94,
   "metadata": {},
   "outputs": [
    {
     "data": {
      "text/plain": [
       "5.506905761020598"
      ]
     },
     "execution_count": 94,
     "metadata": {},
     "output_type": "execute_result"
    }
   ],
   "source": [
    "np.mean(com_bond_n10wat)"
   ]
  },
  {
   "cell_type": "code",
   "execution_count": 95,
   "metadata": {},
   "outputs": [
    {
     "data": {
      "text/plain": [
       "0.7711728242271845"
      ]
     },
     "execution_count": 95,
     "metadata": {},
     "output_type": "execute_result"
    }
   ],
   "source": [
    "np.std(com_bond_n10wat)"
   ]
  },
  {
   "cell_type": "markdown",
   "metadata": {},
   "source": [
    "### Radius of Gyration vs. time N = 10 PLGA/water system"
   ]
  },
  {
   "cell_type": "code",
   "execution_count": 96,
   "metadata": {},
   "outputs": [],
   "source": [
    "n10plga_rgens_wat, cor_n10plga_wat, N10plga_cos_wat, rgwat_n10plga = get_rg_pers_poly(plga_n10wat, n10_plga_wat, 0, 18000)"
   ]
  },
  {
   "cell_type": "code",
   "execution_count": 97,
   "metadata": {},
   "outputs": [
    {
     "data": {
      "text/plain": [
       "(18000,)"
      ]
     },
     "execution_count": 97,
     "metadata": {},
     "output_type": "execute_result"
    }
   ],
   "source": [
    "n10plga_rgens_wat[0].shape"
   ]
  },
  {
   "cell_type": "code",
   "execution_count": 98,
   "metadata": {},
   "outputs": [
    {
     "data": {
      "text/plain": [
       "array([0., 1., 2., 3., 4., 5., 6., 7., 8.])"
      ]
     },
     "execution_count": 98,
     "metadata": {},
     "output_type": "execute_result"
    }
   ],
   "source": [
    "cor_n10plga_wat[3]"
   ]
  },
  {
   "cell_type": "code",
   "execution_count": 99,
   "metadata": {},
   "outputs": [
    {
     "data": {
      "text/plain": [
       "array([[1.        , 1.        , 1.        , ..., 1.        , 1.        ,\n",
       "        1.        ],\n",
       "       [0.91663881, 0.91254966, 0.91839272, ..., 0.77507228, 0.76394928,\n",
       "        0.78856532],\n",
       "       [0.89235701, 0.87912939, 0.8843317 , ..., 0.45955748, 0.42871827,\n",
       "        0.42727296],\n",
       "       ...,\n",
       "       [0.71655788, 0.70695389, 0.66599989, ..., 0.14665757, 0.18428449,\n",
       "        0.20266414],\n",
       "       [0.59444382, 0.70751327, 0.66948763, ..., 0.26794852, 0.34681775,\n",
       "        0.22490735],\n",
       "       [0.76258547, 0.79689978, 0.59233943, ..., 0.34853517, 0.35211337,\n",
       "        0.20433422]])"
      ]
     },
     "execution_count": 99,
     "metadata": {},
     "output_type": "execute_result"
    }
   ],
   "source": [
    "N10plga_cos_wat"
   ]
  },
  {
   "cell_type": "code",
   "execution_count": 100,
   "metadata": {},
   "outputs": [
    {
     "data": {
      "text/plain": [
       "7.210249972265769"
      ]
     },
     "execution_count": 100,
     "metadata": {},
     "output_type": "execute_result"
    }
   ],
   "source": [
    "rgwat_n10plga"
   ]
  },
  {
   "cell_type": "code",
   "execution_count": 101,
   "metadata": {},
   "outputs": [
    {
     "data": {
      "text/plain": [
       "1.2870187253609593"
      ]
     },
     "execution_count": 101,
     "metadata": {},
     "output_type": "execute_result"
    }
   ],
   "source": [
    "np.std(n10plga_rgens_wat)"
   ]
  },
  {
   "cell_type": "code",
   "execution_count": 102,
   "metadata": {},
   "outputs": [
    {
     "data": {
      "text/plain": [
       "(0.2, 2)"
      ]
     },
     "execution_count": 102,
     "metadata": {},
     "output_type": "execute_result"
    },
    {
     "data": {
      "image/png": "[encoded data removed]",
      "text/plain": [
       "<Figure size 504x504 with 1 Axes>"
      ]
     },
     "metadata": {
      "needs_background": "light"
     },
     "output_type": "display_data"
    }
   ],
   "source": [
    "plt.figure(figsize=(7,7))\n",
    "plt.title(r'PLGA Radius of Gyration', fontsize=18, y=1.01)\n",
    "plt.xlabel(r'Time [ns]', fontsize=15)\n",
    "plt.ylabel(r'$R_{g}$ [nm]', fontsize=15)\n",
    "plt.plot(trj_len/100, n6plga_rgens_wat[0]/10,linewidth=2, color='#CCBE9F')\n",
    "plt.plot(trj_len/100, n8plga_rgens_wat[0]/10,linewidth=2, color='#601A4A')\n",
    "plt.plot(trj_len/100, n10plga_rgens_wat[0]/10,linewidth=2, color='#2B6322')\n",
    "plt.tick_params(labelsize=14)\n",
    "plt.legend(['N = 6 in water','N = 8 in water','N = 10 in water'], frameon=False, fontsize=14)\n",
    "#plt.text(127, 0.96,r'N = 6 in water', fontsize=18, color='#1F2E69', family='Arial')\n",
    "plt.xlim(0,180)\n",
    "plt.ylim(0.2,2)"
   ]
  },
  {
   "cell_type": "markdown",
   "metadata": {},
   "source": [
    "#### Correlation values at each arc length for the whole 180 ns trajectory, N = 10 PLGA/water system"
   ]
  },
  {
   "cell_type": "code",
   "execution_count": 103,
   "metadata": {},
   "outputs": [
    {
     "data": {
      "text/plain": [
       "array([ 0.        ,  5.50658351, 11.01316701, 16.51975052, 22.02633402,\n",
       "       27.53291753, 33.03950103, 38.54608454, 44.05266804])"
      ]
     },
     "execution_count": 103,
     "metadata": {},
     "output_type": "execute_result"
    }
   ],
   "source": [
    "# x values\n",
    "blen_n10wat = cor_n10plga_wat[3]*lb_avg_pn6\n",
    "#nt_tt[0] = 0\n",
    "blen_n10wat"
   ]
  },
  {
   "cell_type": "code",
   "execution_count": 104,
   "metadata": {},
   "outputs": [
    {
     "data": {
      "text/plain": [
       "array([4.31894356e-17, 5.36401282e-02, 1.97536713e-01, 4.30177202e-01,\n",
       "       6.86355390e-01, 8.03566007e-01, 8.38808800e-01, 1.11596914e+00,\n",
       "       1.85930580e+00])"
      ]
     },
     "execution_count": 104,
     "metadata": {},
     "output_type": "execute_result"
    }
   ],
   "source": [
    "mk_n10p_wat = cor_n10plga_wat[1]/cor_n10plga_wat[0]\n",
    "mk_n10p_wat"
   ]
  },
  {
   "cell_type": "code",
   "execution_count": 105,
   "metadata": {},
   "outputs": [
    {
     "data": {
      "text/plain": [
       "<ErrorbarContainer object of 3 artists>"
      ]
     },
     "execution_count": 105,
     "metadata": {},
     "output_type": "execute_result"
    },
    {
     "data": {
      "image/png": "[encoded data removed]",
      "text/plain": [
       "<Figure size 504x504 with 1 Axes>"
      ]
     },
     "metadata": {
      "needs_background": "light"
     },
     "output_type": "display_data"
    }
   ],
   "source": [
    "plt.figure(figsize=(7,7))\n",
    "plt.errorbar(blen_wat, np.log(cor_n6plga_wat[0]), yerr=mk_n6p_wat, color='#CCBE9F', linestyle=\"None\",marker='o',\n",
    "     capsize=5, capthick=1, ecolor='black')\n",
    "plt.errorbar(blen_n8wat, np.log(cor_n8plga_wat[0]), yerr=mk_n8p_wat, color='#601A4A', linestyle=\"None\",marker='o',\n",
    "     capsize=5, capthick=1, ecolor='black')\n",
    "plt.errorbar(blen_n10wat, np.log(cor_n10plga_wat[0]), yerr=mk_n10p_wat, color='#2B6322', linestyle=\"None\",marker='o',\n",
    "     capsize=5, capthick=1, ecolor='black')"
   ]
  },
  {
   "cell_type": "code",
   "execution_count": 106,
   "metadata": {},
   "outputs": [
    {
     "name": "stdout",
     "output_type": "stream",
     "text": [
      "3000\n",
      "6000\n",
      "Lp [Angstroms]: 17.64298254677753\n",
      "Error in Lp from fit [Angstroms], 95% CL : 0.5479422994590052\n",
      "R2 score: 0.9917490643994316\n",
      "6000\n",
      "9000\n",
      "Lp [Angstroms]: 15.698494153069646\n",
      "Error in Lp from fit [Angstroms], 95% CL : 0.6620013478365502\n",
      "R2 score: 0.9853382856798059\n",
      "9000\n",
      "12000\n",
      "Lp [Angstroms]: 15.497432704911102\n",
      "Error in Lp from fit [Angstroms], 95% CL : 0.7582837608074394\n",
      "R2 score: 0.980873652531152\n",
      "12000\n",
      "15000\n",
      "Lp [Angstroms]: 15.551996180974609\n",
      "Error in Lp from fit [Angstroms], 95% CL : 0.6867111061930787\n",
      "R2 score: 0.9840864798222688\n",
      "15000\n",
      "18000\n",
      "Lp [Angstroms]: 14.545328110222847\n",
      "Error in Lp from fit [Angstroms], 95% CL : 0.6861946677270259\n",
      "R2 score: 0.9821269308051832\n"
     ]
    }
   ],
   "source": [
    "# All the points give the best fits for N = 6 peg in water\n",
    "n10_blksplga_wat , n10plga_lpwat = bavg_pers_cnt(5, plga_n10wat, n10_plga_wat, lb_avg_pn6, 4, 3000 , 18000)"
   ]
  },
  {
   "cell_type": "code",
   "execution_count": 107,
   "metadata": {},
   "outputs": [
    {
     "data": {
      "text/plain": [
       "{'Avg Radius of gyration': array([7.5398303 , 6.77246089, 7.19704625, 7.50297295, 6.72991089]),\n",
       " 'Avg persistence length': array([17.64298255, 15.69849415, 15.4974327 , 15.55199618, 14.54532811])}"
      ]
     },
     "execution_count": 107,
     "metadata": {},
     "output_type": "execute_result"
    }
   ],
   "source": [
    "n10_blksplga_wat"
   ]
  },
  {
   "cell_type": "code",
   "execution_count": 108,
   "metadata": {},
   "outputs": [
    {
     "data": {
      "text/plain": [
       "array([[ 1.76429825e+01,  1.56984942e+01,  1.54974327e+01,\n",
       "         1.55519962e+01,  1.45453281e+01],\n",
       "       [ 5.47942299e-01,  6.62001348e-01,  7.58283761e-01,\n",
       "         6.86711106e-01,  6.86194668e-01],\n",
       "       [-5.66797591e-02, -6.37003773e-02, -6.45268167e-02,\n",
       "        -6.43004273e-02, -6.87505976e-02],\n",
       "       [ 1.07849190e-03,  2.51142964e-03,  3.46944274e-03,\n",
       "         2.80568448e-03,  3.66130441e-03]])"
      ]
     },
     "execution_count": 108,
     "metadata": {},
     "output_type": "execute_result"
    }
   ],
   "source": [
    "n10plga_lpwat"
   ]
  },
  {
   "cell_type": "code",
   "execution_count": 109,
   "metadata": {},
   "outputs": [
    {
     "data": {
      "text/plain": [
       "array([-0.05667976, -0.06370038, -0.06452682, -0.06430043, -0.0687506 ])"
      ]
     },
     "execution_count": 109,
     "metadata": {},
     "output_type": "execute_result"
    }
   ],
   "source": [
    "n10plga_lpwat[2]"
   ]
  },
  {
   "cell_type": "code",
   "execution_count": 110,
   "metadata": {},
   "outputs": [
    {
     "data": {
      "text/plain": [
       "0.002705270636273134"
      ]
     },
     "execution_count": 110,
     "metadata": {},
     "output_type": "execute_result"
    }
   ],
   "source": [
    "np.mean(n10plga_lpwat[3])"
   ]
  },
  {
   "cell_type": "code",
   "execution_count": 111,
   "metadata": {},
   "outputs": [
    {
     "data": {
      "text/plain": [
       "array([ 0.        ,  5.50658351, 11.01316701, 16.51975052, 22.02633402,\n",
       "       27.53291753, 33.03950103, 38.54608454, 44.05266804])"
      ]
     },
     "execution_count": 111,
     "metadata": {},
     "output_type": "execute_result"
    }
   ],
   "source": [
    "blen_n10wat"
   ]
  },
  {
   "cell_type": "code",
   "execution_count": 112,
   "metadata": {},
   "outputs": [],
   "source": [
    "gg_n10plga_wat = line_fit(np.mean(n10plga_lpwat[2]),blen_n10wat)"
   ]
  },
  {
   "cell_type": "code",
   "execution_count": 113,
   "metadata": {},
   "outputs": [],
   "source": [
    "gg_n6plga_n10wat = line_fit(np.mean(n6plga_lpwat[2]),blen_n10wat)"
   ]
  },
  {
   "cell_type": "code",
   "execution_count": 114,
   "metadata": {},
   "outputs": [],
   "source": [
    "gg_n8plga_n10wat = line_fit(np.mean(n8plga_lpwat[2]),blen_n10wat)"
   ]
  },
  {
   "cell_type": "code",
   "execution_count": 115,
   "metadata": {},
   "outputs": [
    {
     "data": {
      "text/plain": [
       "array([-0.        , -0.35017243, -0.70034486, -1.05051729, -1.40068973,\n",
       "       -1.75086216, -2.10103459, -2.45120702, -2.80137945])"
      ]
     },
     "execution_count": 115,
     "metadata": {},
     "output_type": "execute_result"
    }
   ],
   "source": [
    "gg_n10plga_wat"
   ]
  },
  {
   "cell_type": "markdown",
   "metadata": {},
   "source": [
    "### Block averaged Radius of gyration and persistence length, N = 10 PLGA/acetone system"
   ]
  },
  {
   "cell_type": "code",
   "execution_count": 116,
   "metadata": {},
   "outputs": [
    {
     "data": {
      "text/plain": [
       "15.787246739191147"
      ]
     },
     "execution_count": 116,
     "metadata": {},
     "output_type": "execute_result"
    }
   ],
   "source": [
    "np.mean(n10_blksplga_wat[\"Avg persistence length\"])"
   ]
  },
  {
   "cell_type": "code",
   "execution_count": 117,
   "metadata": {},
   "outputs": [
    {
     "data": {
      "text/plain": [
       "1.0132452111593635"
      ]
     },
     "execution_count": 117,
     "metadata": {},
     "output_type": "execute_result"
    }
   ],
   "source": [
    "np.std(n10_blksplga_wat[\"Avg persistence length\"])"
   ]
  },
  {
   "cell_type": "code",
   "execution_count": 118,
   "metadata": {},
   "outputs": [
    {
     "data": {
      "text/plain": [
       "7.148444254010888"
      ]
     },
     "execution_count": 118,
     "metadata": {},
     "output_type": "execute_result"
    }
   ],
   "source": [
    "np.mean(n10_blksplga_wat[\"Avg Radius of gyration\"])"
   ]
  },
  {
   "cell_type": "code",
   "execution_count": 119,
   "metadata": {},
   "outputs": [
    {
     "data": {
      "text/plain": [
       "0.34576566092143884"
      ]
     },
     "execution_count": 119,
     "metadata": {},
     "output_type": "execute_result"
    }
   ],
   "source": [
    "np.std(n10_blksplga_wat[\"Avg Radius of gyration\"])"
   ]
  },
  {
   "cell_type": "code",
   "execution_count": 120,
   "metadata": {},
   "outputs": [
    {
     "data": {
      "text/plain": [
       "Text(0.5, -6.14, '$N_{PLGA}$ = 10: $L_{p}$ = 24.9 $\\\\AA$ ± 4.93 $\\\\AA$')"
      ]
     },
     "execution_count": 120,
     "metadata": {},
     "output_type": "execute_result"
    },
    {
     "data": {
      "image/png": "[encoded data removed]",
      "text/plain": [
       "<Figure size 504x504 with 1 Axes>"
      ]
     },
     "metadata": {
      "needs_background": "light"
     },
     "output_type": "display_data"
    }
   ],
   "source": [
    "plt.figure(figsize=(7,7))\n",
    "plt.errorbar(blen_wat, np.log(cor_n6plga_wat[0]), yerr=mk_n6p_wat, color='#CCBE9F', linestyle=\"None\",marker='o',\n",
    "     capsize=5, capthick=1, ecolor='black')\n",
    "plt.errorbar(blen_n8wat, np.log(cor_n8plga_wat[0]), yerr=mk_n8p_wat, color='#601A4A', linestyle=\"None\",marker='o',\n",
    "     capsize=5, capthick=1, ecolor='black')\n",
    "plt.errorbar(blen_n10wat, np.log(cor_n10plga_wat[0]), yerr=mk_n10p_wat, color='#2B6322', linestyle=\"None\",marker='o',\n",
    "     capsize=5, capthick=1, ecolor='black')\n",
    "plt.plot(blen_n10wat, gg_n6plga_n10wat, color='#CCBE9F')\n",
    "plt.plot(blen_n10wat, gg_n8plga_n10wat, color='#601A4A')\n",
    "plt.plot(blen_n10wat, gg_n10plga_wat, color='#2B6322')\n",
    "plt.title(r'Ensemble Averaged ln(Cosine $\\theta$) in acetone', fontsize=15, y=1.01)\n",
    "plt.xlabel(r'Bond Length', fontsize=15)\n",
    "plt.ylabel(r'ln$\\left< Cos(\\theta)\\right >$', fontsize=15)\n",
    "plt.ylim(-7,1)\n",
    "plt.xlim(0,165)\n",
    "font = font_manager.FontProperties(family='Arial', style='normal', size='14')\n",
    "#plt.legend([r'$N_{PEG}$ = 6: $L_{p}$ = 10.7 $\\AA$ ± 1.62 $\\AA$'], loc=3, frameon=0, fontsize=14, prop=font)\n",
    "plt.tick_params(labelsize=14)\n",
    "plt.text(0.5, -6.92,r'$N_{PLGA}$ = 6: $L_{p}$ = 16.0 $\\AA$ ± 1.73 $\\AA$', fontsize=15, color='#CCBE9F')\n",
    "plt.text(0.5, -6.54,r'$N_{PLGA}$ = 8: $L_{p}$ = 17.2 $\\AA$ ± 2.13 $\\AA$', fontsize=15, color='#601A4A')\n",
    "plt.text(0.5, -6.14,r'$N_{PLGA}$ = 10: $L_{p}$ = 15.8 $\\AA$ ± 1.01 $\\AA$', fontsize=15, color='#2B6322')"
   ]
  },
  {
   "cell_type": "code",
   "execution_count": 121,
   "metadata": {},
   "outputs": [
    {
     "data": {
      "text/html": [
       "<div>\n",
       "<style scoped>\n",
       "    .dataframe tbody tr th:only-of-type {\n",
       "        vertical-align: middle;\n",
       "    }\n",
       "\n",
       "    .dataframe tbody tr th {\n",
       "        vertical-align: top;\n",
       "    }\n",
       "\n",
       "    .dataframe thead th {\n",
       "        text-align: right;\n",
       "    }\n",
       "</style>\n",
       "<table border=\"1\" class=\"dataframe\">\n",
       "  <thead>\n",
       "    <tr style=\"text-align: right;\">\n",
       "      <th></th>\n",
       "      <th>$R_{g}$ [Angstrom] N = 6 PLGA in water</th>\n",
       "      <th>$R_{g}$ [Angstrom] N = 8 PLGA in water</th>\n",
       "      <th>$R_{g}$ [Angstrom] N = 10 PLGA in water</th>\n",
       "    </tr>\n",
       "  </thead>\n",
       "  <tbody>\n",
       "    <tr>\n",
       "      <td>0</td>\n",
       "      <td>5.706700</td>\n",
       "      <td>6.501341</td>\n",
       "      <td>7.539830</td>\n",
       "    </tr>\n",
       "    <tr>\n",
       "      <td>1</td>\n",
       "      <td>6.056366</td>\n",
       "      <td>6.635535</td>\n",
       "      <td>6.772461</td>\n",
       "    </tr>\n",
       "    <tr>\n",
       "      <td>2</td>\n",
       "      <td>6.520687</td>\n",
       "      <td>6.594608</td>\n",
       "      <td>7.197046</td>\n",
       "    </tr>\n",
       "    <tr>\n",
       "      <td>3</td>\n",
       "      <td>5.948436</td>\n",
       "      <td>7.209835</td>\n",
       "      <td>7.502973</td>\n",
       "    </tr>\n",
       "    <tr>\n",
       "      <td>4</td>\n",
       "      <td>5.777089</td>\n",
       "      <td>6.680173</td>\n",
       "      <td>6.729911</td>\n",
       "    </tr>\n",
       "  </tbody>\n",
       "</table>\n",
       "</div>"
      ],
      "text/plain": [
       "   $R_{g}$ [Angstrom] N = 6 PLGA in water  \\\n",
       "0                                5.706700   \n",
       "1                                6.056366   \n",
       "2                                6.520687   \n",
       "3                                5.948436   \n",
       "4                                5.777089   \n",
       "\n",
       "   $R_{g}$ [Angstrom] N = 8 PLGA in water  \\\n",
       "0                                6.501341   \n",
       "1                                6.635535   \n",
       "2                                6.594608   \n",
       "3                                7.209835   \n",
       "4                                6.680173   \n",
       "\n",
       "   $R_{g}$ [Angstrom] N = 10 PLGA in water  \n",
       "0                                 7.539830  \n",
       "1                                 6.772461  \n",
       "2                                 7.197046  \n",
       "3                                 7.502973  \n",
       "4                                 6.729911  "
      ]
     },
     "execution_count": 121,
     "metadata": {},
     "output_type": "execute_result"
    }
   ],
   "source": [
    "rgplga_olig_wat[r\"$R_{g}$ [Angstrom] N = 10 PLGA in water\"] = n10_blksplga_wat[\"Avg Radius of gyration\"]\n",
    "rgplga_olig_wat"
   ]
  },
  {
   "cell_type": "code",
   "execution_count": 122,
   "metadata": {},
   "outputs": [
    {
     "data": {
      "text/html": [
       "<div>\n",
       "<style scoped>\n",
       "    .dataframe tbody tr th:only-of-type {\n",
       "        vertical-align: middle;\n",
       "    }\n",
       "\n",
       "    .dataframe tbody tr th {\n",
       "        vertical-align: top;\n",
       "    }\n",
       "\n",
       "    .dataframe thead th {\n",
       "        text-align: right;\n",
       "    }\n",
       "</style>\n",
       "<table border=\"1\" class=\"dataframe\">\n",
       "  <thead>\n",
       "    <tr style=\"text-align: right;\">\n",
       "      <th></th>\n",
       "      <th>$L_{p}$ [Angstrom] N = 6 PLGA in water</th>\n",
       "      <th>$L_{p}$ [Angstrom] N = 8 PLGA in water</th>\n",
       "      <th>$L_{p}$ [Angstrom] N = 10 PLGA in water</th>\n",
       "    </tr>\n",
       "  </thead>\n",
       "  <tbody>\n",
       "    <tr>\n",
       "      <td>0</td>\n",
       "      <td>13.649490</td>\n",
       "      <td>15.403484</td>\n",
       "      <td>17.642983</td>\n",
       "    </tr>\n",
       "    <tr>\n",
       "      <td>1</td>\n",
       "      <td>16.886738</td>\n",
       "      <td>17.735536</td>\n",
       "      <td>15.698494</td>\n",
       "    </tr>\n",
       "    <tr>\n",
       "      <td>2</td>\n",
       "      <td>18.640081</td>\n",
       "      <td>15.654572</td>\n",
       "      <td>15.497433</td>\n",
       "    </tr>\n",
       "    <tr>\n",
       "      <td>3</td>\n",
       "      <td>16.140974</td>\n",
       "      <td>21.156253</td>\n",
       "      <td>15.551996</td>\n",
       "    </tr>\n",
       "    <tr>\n",
       "      <td>4</td>\n",
       "      <td>14.735745</td>\n",
       "      <td>16.104728</td>\n",
       "      <td>14.545328</td>\n",
       "    </tr>\n",
       "  </tbody>\n",
       "</table>\n",
       "</div>"
      ],
      "text/plain": [
       "   $L_{p}$ [Angstrom] N = 6 PLGA in water  \\\n",
       "0                               13.649490   \n",
       "1                               16.886738   \n",
       "2                               18.640081   \n",
       "3                               16.140974   \n",
       "4                               14.735745   \n",
       "\n",
       "   $L_{p}$ [Angstrom] N = 8 PLGA in water  \\\n",
       "0                               15.403484   \n",
       "1                               17.735536   \n",
       "2                               15.654572   \n",
       "3                               21.156253   \n",
       "4                               16.104728   \n",
       "\n",
       "   $L_{p}$ [Angstrom] N = 10 PLGA in water  \n",
       "0                                17.642983  \n",
       "1                                15.698494  \n",
       "2                                15.497433  \n",
       "3                                15.551996  \n",
       "4                                14.545328  "
      ]
     },
     "execution_count": 122,
     "metadata": {},
     "output_type": "execute_result"
    }
   ],
   "source": [
    "pers_plgat_wat[r\"$L_{p}$ [Angstrom] N = 10 PLGA in water\"] = n10_blksplga_wat[\"Avg persistence length\"]\n",
    "pers_plgat_wat"
   ]
  },
  {
   "cell_type": "code",
   "execution_count": null,
   "metadata": {},
   "outputs": [],
   "source": []
  },
  {
   "cell_type": "markdown",
   "metadata": {},
   "source": [
    "### N = 20 PLGA/water system"
   ]
  },
  {
   "cell_type": "code",
   "execution_count": 123,
   "metadata": {},
   "outputs": [],
   "source": [
    "# For the right Rg calculation using MD Analysis, use trajactory without pbc \n",
    "n20_plga_wat = mda.Universe(\"n20plga_wat/n20plgaonly_wat.pdb\", \"n20plga_wat/nowat_n20plga.xtc\")"
   ]
  },
  {
   "cell_type": "code",
   "execution_count": 124,
   "metadata": {},
   "outputs": [
    {
     "data": {
      "text/plain": [
       "<XTCReader n20plga_wat/nowat_n20plga.xtc with 18001 frames of 303 atoms>"
      ]
     },
     "execution_count": 124,
     "metadata": {},
     "output_type": "execute_result"
    }
   ],
   "source": [
    "n20_plga_wat.trajectory"
   ]
  },
  {
   "cell_type": "code",
   "execution_count": 125,
   "metadata": {},
   "outputs": [
    {
     "data": {
      "text/plain": [
       "18001"
      ]
     },
     "execution_count": 125,
     "metadata": {},
     "output_type": "execute_result"
    }
   ],
   "source": [
    "len(n20_plga_wat.trajectory)"
   ]
  },
  {
   "cell_type": "code",
   "execution_count": 126,
   "metadata": {},
   "outputs": [],
   "source": [
    "#Select the polymer heavy atoms \n",
    "plga_n20wat = n20_plga_wat.select_atoms(\"resname sPLG PLG tPLG and not type H\")"
   ]
  },
  {
   "cell_type": "code",
   "execution_count": 127,
   "metadata": {},
   "outputs": [
    {
     "data": {
      "text/plain": [
       "array([[ 1.        ,  0.87005252,  0.72074325,  0.60887698,  0.64350292,\n",
       "         0.63446776,  0.62566776,  0.62085279,  0.67041811,  0.67915241,\n",
       "         0.67665074,  0.64054263,  0.58130744,  0.57425542,  0.7737669 ,\n",
       "         0.76586963,  0.79697033,  0.77883524,  0.95989991],\n",
       "       [ 0.        ,  1.        ,  2.        ,  3.        ,  4.        ,\n",
       "         5.        ,  6.        ,  7.        ,  8.        ,  9.        ,\n",
       "        10.        , 11.        , 12.        , 13.        , 14.        ,\n",
       "        15.        , 16.        , 17.        , 18.        ],\n",
       "       [ 0.        , 29.53525644, 43.88412097, 52.49165479, 49.94647817,\n",
       "        50.61947932, 51.26878368, 51.62156384, 47.9006568 , 47.22255541,\n",
       "        47.41752873, 50.16770597, 54.45744667, 54.95249478, 39.30663153,\n",
       "        40.01558012, 37.1582435 , 38.84594529, 16.28067276]])"
      ]
     },
     "execution_count": 127,
     "metadata": {},
     "output_type": "execute_result"
    }
   ],
   "source": [
    "crv_n20plga_wat = pers_length(plga_n20wat,20)\n",
    "crv_n20plga_wat"
   ]
  },
  {
   "cell_type": "code",
   "execution_count": 128,
   "metadata": {},
   "outputs": [],
   "source": [
    "com_bond_n20wat = np.zeros(shape=(1,18000))\n",
    "count = 0\n",
    "for ts in n20_plga_wat.trajectory[0:18000]:\n",
    "    n20_mon1_wat = n20_plga_wat.select_atoms(\"resid 1\")\n",
    "    n20_mon2_wat = n20_plga_wat.select_atoms(\"resid 2\")\n",
    "    oo_len = mda.analysis.distances.distance_array(n20_mon1_wat.center_of_mass(), n20_mon2_wat.center_of_mass(), \n",
    "                                                   box=n20_plga_wat.trajectory.ts.dimensions)\n",
    "    com_bond_n20wat[0, count] = oo_len\n",
    "    count += 1\n",
    "    "
   ]
  },
  {
   "cell_type": "code",
   "execution_count": 129,
   "metadata": {},
   "outputs": [
    {
     "data": {
      "text/plain": [
       "array([[5.80601904, 6.02340271, 6.5301031 , ..., 6.12709611, 6.28884022,\n",
       "        5.85774912]])"
      ]
     },
     "execution_count": 129,
     "metadata": {},
     "output_type": "execute_result"
    }
   ],
   "source": [
    "com_bond"
   ]
  },
  {
   "cell_type": "code",
   "execution_count": 130,
   "metadata": {},
   "outputs": [
    {
     "data": {
      "text/plain": [
       "0.7774540112069643"
      ]
     },
     "execution_count": 130,
     "metadata": {},
     "output_type": "execute_result"
    }
   ],
   "source": [
    "np.std(com_bond)"
   ]
  },
  {
   "cell_type": "code",
   "execution_count": 131,
   "metadata": {},
   "outputs": [
    {
     "data": {
      "text/plain": [
       "5.5065835054684165"
      ]
     },
     "execution_count": 131,
     "metadata": {},
     "output_type": "execute_result"
    }
   ],
   "source": [
    "lb_avg_pn6 = np.mean(com_bond)\n",
    "lb_avg_pn6"
   ]
  },
  {
   "cell_type": "code",
   "execution_count": 132,
   "metadata": {},
   "outputs": [
    {
     "data": {
      "text/plain": [
       "5.60153773652553"
      ]
     },
     "execution_count": 132,
     "metadata": {},
     "output_type": "execute_result"
    }
   ],
   "source": [
    "np.mean(com_bond_n20wat)"
   ]
  },
  {
   "cell_type": "code",
   "execution_count": 133,
   "metadata": {},
   "outputs": [
    {
     "data": {
      "text/plain": [
       "0.8009918646863536"
      ]
     },
     "execution_count": 133,
     "metadata": {},
     "output_type": "execute_result"
    }
   ],
   "source": [
    "np.std(com_bond_n20wat)"
   ]
  },
  {
   "cell_type": "markdown",
   "metadata": {},
   "source": [
    "### Radius of Gyration vs. time N = 20 PLGA/water system"
   ]
  },
  {
   "cell_type": "code",
   "execution_count": 134,
   "metadata": {},
   "outputs": [],
   "source": [
    "n20plga_rgens_wat, cor_n20plga_wat, N20plga_cos_wat, rgwat_n20plga = get_rg_pers_poly(plga_n20wat, n20_plga_wat, 0, 18000)"
   ]
  },
  {
   "cell_type": "code",
   "execution_count": 135,
   "metadata": {},
   "outputs": [
    {
     "data": {
      "text/plain": [
       "(18000,)"
      ]
     },
     "execution_count": 135,
     "metadata": {},
     "output_type": "execute_result"
    }
   ],
   "source": [
    "n20plga_rgens_wat[0].shape"
   ]
  },
  {
   "cell_type": "code",
   "execution_count": 136,
   "metadata": {},
   "outputs": [
    {
     "data": {
      "text/plain": [
       "array([ 0.,  1.,  2.,  3.,  4.,  5.,  6.,  7.,  8.,  9., 10., 11., 12.,\n",
       "       13., 14., 15., 16., 17., 18.])"
      ]
     },
     "execution_count": 136,
     "metadata": {},
     "output_type": "execute_result"
    }
   ],
   "source": [
    "cor_n20plga_wat[3]"
   ]
  },
  {
   "cell_type": "code",
   "execution_count": 137,
   "metadata": {},
   "outputs": [
    {
     "data": {
      "text/plain": [
       "array([[ 1.        ,  1.        ,  1.        , ...,  1.        ,\n",
       "         1.        ,  1.        ],\n",
       "       [ 0.87005252,  0.88300143,  0.87232296, ...,  0.7954533 ,\n",
       "         0.78594466,  0.78982515],\n",
       "       [ 0.72074325,  0.71531569,  0.74786165, ...,  0.54583492,\n",
       "         0.53242061,  0.53786984],\n",
       "       ...,\n",
       "       [ 0.79697033,  0.85594646,  0.92193563, ...,  0.2522648 ,\n",
       "         0.3012559 ,  0.20333426],\n",
       "       [ 0.77883524,  0.83315382,  0.89409717, ..., -0.07580966,\n",
       "        -0.0398831 , -0.10245427],\n",
       "       [ 0.95989991,  0.99013513,  0.98304843, ...,  0.22056317,\n",
       "         0.02957364,  0.3400266 ]])"
      ]
     },
     "execution_count": 137,
     "metadata": {},
     "output_type": "execute_result"
    }
   ],
   "source": [
    "N20plga_cos_wat"
   ]
  },
  {
   "cell_type": "code",
   "execution_count": 138,
   "metadata": {},
   "outputs": [
    {
     "data": {
      "text/plain": [
       "8.405981816700848"
      ]
     },
     "execution_count": 138,
     "metadata": {},
     "output_type": "execute_result"
    }
   ],
   "source": [
    "rgwat_n20plga"
   ]
  },
  {
   "cell_type": "code",
   "execution_count": 139,
   "metadata": {},
   "outputs": [
    {
     "data": {
      "text/plain": [
       "1.080600782361091"
      ]
     },
     "execution_count": 139,
     "metadata": {},
     "output_type": "execute_result"
    }
   ],
   "source": [
    "np.std(n20plga_rgens_wat)"
   ]
  },
  {
   "cell_type": "code",
   "execution_count": 141,
   "metadata": {},
   "outputs": [
    {
     "data": {
      "text/plain": [
       "(0.2, 2)"
      ]
     },
     "execution_count": 141,
     "metadata": {},
     "output_type": "execute_result"
    },
    {
     "data": {
      "image/png": "[encoded data removed]",
      "text/plain": [
       "<Figure size 504x504 with 1 Axes>"
      ]
     },
     "metadata": {
      "needs_background": "light"
     },
     "output_type": "display_data"
    }
   ],
   "source": [
    "plt.figure(figsize=(7,7))\n",
    "plt.title(r'PLGA Radius of Gyration', fontsize=18, y=1.01)\n",
    "plt.xlabel(r'Time [ns]', fontsize=15)\n",
    "plt.ylabel(r'$R_{g}$ [nm]', fontsize=15)\n",
    "plt.plot(trj_len/100, n6plga_rgens_wat[0]/10,linewidth=2, color='#CCBE9F')\n",
    "plt.plot(trj_len/100, n8plga_rgens_wat[0]/10,linewidth=2, color='#601A4A')\n",
    "plt.plot(trj_len/100, n10plga_rgens_wat[0]/10,linewidth=2, color='#2B6322')\n",
    "plt.plot(trj_len/100, n20plga_rgens_wat[0]/10,linewidth=2, color='#562A8B')\n",
    "plt.tick_params(labelsize=14)\n",
    "plt.legend(['N = 6 in water','N = 8 in water','N = 10 in water','N = 20 in water'], frameon=False, fontsize=14)\n",
    "#plt.text(127, 0.96,r'N = 6 in water', fontsize=18, color='#1F2E69', family='Arial')\n",
    "plt.xlim(0,180)\n",
    "plt.ylim(0.2,2)"
   ]
  },
  {
   "cell_type": "markdown",
   "metadata": {},
   "source": [
    "#### Correlation values at each arc length for the whole 180 ns trajectory, N = 20 PLGA/water system"
   ]
  },
  {
   "cell_type": "code",
   "execution_count": 142,
   "metadata": {},
   "outputs": [
    {
     "data": {
      "text/plain": [
       "array([ 0.        ,  5.50658351, 11.01316701, 16.51975052, 22.02633402,\n",
       "       27.53291753, 33.03950103, 38.54608454, 44.05266804, 49.55925155,\n",
       "       55.06583505, 60.57241856, 66.07900207, 71.58558557, 77.09216908,\n",
       "       82.59875258, 88.10533609, 93.61191959, 99.1185031 ])"
      ]
     },
     "execution_count": 142,
     "metadata": {},
     "output_type": "execute_result"
    }
   ],
   "source": [
    "# x values\n",
    "blen_n20wat = cor_n20plga_wat[3]*lb_avg_pn6\n",
    "#nt_tt[0] = 0\n",
    "blen_n20wat"
   ]
  },
  {
   "cell_type": "code",
   "execution_count": 143,
   "metadata": {},
   "outputs": [
    {
     "data": {
      "text/plain": [
       "array([2.36384533e-17, 2.83386555e-02, 1.10697378e-01, 1.92117791e-01,\n",
       "       3.44916403e-01, 4.24016792e-01, 4.98371787e-01, 5.02657474e-01,\n",
       "       6.33812668e-01, 9.40395549e-01, 9.56920980e-01, 1.06779288e+00,\n",
       "       1.07289285e+00, 1.08644277e+00, 1.64185037e+00, 1.40782530e+00,\n",
       "       1.43213191e+00, 1.35012789e+00, 1.34746469e+00])"
      ]
     },
     "execution_count": 143,
     "metadata": {},
     "output_type": "execute_result"
    }
   ],
   "source": [
    "mk_n20p_wat = cor_n20plga_wat[1]/cor_n20plga_wat[0]\n",
    "mk_n20p_wat"
   ]
  },
  {
   "cell_type": "code",
   "execution_count": 144,
   "metadata": {},
   "outputs": [
    {
     "data": {
      "text/plain": [
       "<ErrorbarContainer object of 3 artists>"
      ]
     },
     "execution_count": 144,
     "metadata": {},
     "output_type": "execute_result"
    },
    {
     "data": {
      "image/png": "[encoded data removed]",
      "text/plain": [
       "<Figure size 504x504 with 1 Axes>"
      ]
     },
     "metadata": {
      "needs_background": "light"
     },
     "output_type": "display_data"
    }
   ],
   "source": [
    "plt.figure(figsize=(7,7))\n",
    "plt.errorbar(blen_wat, np.log(cor_n6plga_wat[0]), yerr=mk_n6p_wat, color='#CCBE9F', linestyle=\"None\",marker='o',\n",
    "     capsize=5, capthick=1, ecolor='black')\n",
    "plt.errorbar(blen_n8wat, np.log(cor_n8plga_wat[0]), yerr=mk_n8p_wat, color='#601A4A', linestyle=\"None\",marker='o',\n",
    "     capsize=5, capthick=1, ecolor='black')\n",
    "plt.errorbar(blen_n10wat, np.log(cor_n10plga_wat[0]), yerr=mk_n10p_wat, color='#2B6322', linestyle=\"None\",marker='o',\n",
    "     capsize=5, capthick=1, ecolor='black')\n",
    "plt.errorbar(blen_n20wat, np.log(cor_n20plga_wat[0]), yerr=mk_n20p_wat, color='#562A8B', linestyle=\"None\",marker='o',\n",
    "     capsize=5, capthick=1, ecolor='black')"
   ]
  },
  {
   "cell_type": "code",
   "execution_count": 145,
   "metadata": {},
   "outputs": [
    {
     "name": "stdout",
     "output_type": "stream",
     "text": [
      "3000\n",
      "6000\n",
      "Lp [Angstroms]: 18.373911377419272\n",
      "Error in Lp from fit [Angstroms], 95% CL : 0.1914152754292214\n",
      "R2 score: 0.9874038509639695\n",
      "6000\n",
      "9000\n",
      "Lp [Angstroms]: 17.418390643535023\n",
      "Error in Lp from fit [Angstroms], 95% CL : 0.20822718122876016\n",
      "R2 score: 0.9836730678625764\n",
      "9000\n",
      "12000\n",
      "Lp [Angstroms]: 17.471946084855052\n",
      "Error in Lp from fit [Angstroms], 95% CL : 0.1734641677477271\n",
      "R2 score: 0.9884613963163308\n",
      "12000\n",
      "15000\n",
      "Negative cosine theta values present, doing exponential fit...\n",
      "Lp [Angstroms], Exp. fit: 19.563722865223493\n",
      "Error in Lp from fit [Angstroms]: 0.006201747444604848\n",
      "15000\n",
      "18000\n",
      "Lp [Angstroms]: 15.038379283952064\n",
      "Error in Lp from fit [Angstroms], 95% CL : 0.20005222769592695\n",
      "R2 score: 0.9793802722868917\n"
     ]
    }
   ],
   "source": [
    "# All the points give the best fits for N = 6 peg in water\n",
    "n20_blksplga_wat, n20plga_lpwat = bavg_pers_cnt(5, plga_n20wat, n20_plga_wat, lb_avg_pn6, 4, 3000 , 18000)"
   ]
  },
  {
   "cell_type": "code",
   "execution_count": 146,
   "metadata": {},
   "outputs": [
    {
     "data": {
      "text/plain": [
       "{'Avg Radius of gyration': array([8.46041127, 8.19817489, 8.55640943, 8.26642961, 8.43102691]),\n",
       " 'Avg persistence length': array([18.37391138, 17.41839064, 17.47194608, 19.56372287, 15.03837928])}"
      ]
     },
     "execution_count": 146,
     "metadata": {},
     "output_type": "execute_result"
    }
   ],
   "source": [
    "n20_blksplga_wat"
   ]
  },
  {
   "cell_type": "code",
   "execution_count": 147,
   "metadata": {},
   "outputs": [
    {
     "data": {
      "text/plain": [
       "array([[ 1.83739114e+01,  1.74183906e+01,  1.74719461e+01,\n",
       "         1.95637229e+01,  1.50383793e+01],\n",
       "       [ 1.91415275e-01,  2.08227181e-01,  1.73464168e-01,\n",
       "         6.20174744e-03,  2.00052228e-01],\n",
       "       [-5.44249931e-02, -5.74105852e-02, -5.72346088e-02,\n",
       "        -5.11150156e-02, -6.64965274e-02],\n",
       "       [ 1.57725426e-03,  2.31098821e-03,  1.58419787e-03,\n",
       "         0.00000000e+00,  3.83917264e-03]])"
      ]
     },
     "execution_count": 147,
     "metadata": {},
     "output_type": "execute_result"
    }
   ],
   "source": [
    "n20plga_lpwat"
   ]
  },
  {
   "cell_type": "code",
   "execution_count": 148,
   "metadata": {},
   "outputs": [
    {
     "data": {
      "text/plain": [
       "array([-0.05442499, -0.05741059, -0.05723461, -0.05111502, -0.06649653])"
      ]
     },
     "execution_count": 148,
     "metadata": {},
     "output_type": "execute_result"
    }
   ],
   "source": [
    "n20plga_lpwat[2]"
   ]
  },
  {
   "cell_type": "code",
   "execution_count": 149,
   "metadata": {},
   "outputs": [
    {
     "data": {
      "text/plain": [
       "0.0018623225947096392"
      ]
     },
     "execution_count": 149,
     "metadata": {},
     "output_type": "execute_result"
    }
   ],
   "source": [
    "np.mean(n20plga_lpwat[3])"
   ]
  },
  {
   "cell_type": "code",
   "execution_count": 150,
   "metadata": {},
   "outputs": [
    {
     "data": {
      "text/plain": [
       "array([ 0.        ,  5.50658351, 11.01316701, 16.51975052, 22.02633402,\n",
       "       27.53291753, 33.03950103, 38.54608454, 44.05266804, 49.55925155,\n",
       "       55.06583505, 60.57241856, 66.07900207, 71.58558557, 77.09216908,\n",
       "       82.59875258, 88.10533609, 93.61191959, 99.1185031 ])"
      ]
     },
     "execution_count": 150,
     "metadata": {},
     "output_type": "execute_result"
    }
   ],
   "source": [
    "blen_n20wat"
   ]
  },
  {
   "cell_type": "code",
   "execution_count": 151,
   "metadata": {},
   "outputs": [],
   "source": [
    "gg_n20plga_wat = line_fit(np.mean(n20plga_lpwat[2]),blen_n20wat)"
   ]
  },
  {
   "cell_type": "code",
   "execution_count": 152,
   "metadata": {},
   "outputs": [],
   "source": [
    "gg_n6plga_n20wat = line_fit(np.mean(n6plga_lpwat[2]),blen_n20wat)"
   ]
  },
  {
   "cell_type": "code",
   "execution_count": 153,
   "metadata": {},
   "outputs": [],
   "source": [
    "gg_n8plga_n20wat = line_fit(np.mean(n8plga_lpwat[2]),blen_n20wat)"
   ]
  },
  {
   "cell_type": "code",
   "execution_count": 154,
   "metadata": {},
   "outputs": [],
   "source": [
    "gg_n10plga_n20wat = line_fit(np.mean(n10plga_lpwat[2]),blen_n20wat)"
   ]
  },
  {
   "cell_type": "code",
   "execution_count": 155,
   "metadata": {},
   "outputs": [
    {
     "data": {
      "text/plain": [
       "array([-0.        , -0.31572738, -0.63145475, -0.94718213, -1.26290951,\n",
       "       -1.57863689, -1.89436426, -2.21009164, -2.52581902, -2.8415464 ,\n",
       "       -3.15727377, -3.47300115, -3.78872853, -4.10445591, -4.42018328,\n",
       "       -4.73591066, -5.05163804, -5.36736541, -5.68309279])"
      ]
     },
     "execution_count": 155,
     "metadata": {},
     "output_type": "execute_result"
    }
   ],
   "source": [
    "gg_n20plga_wat"
   ]
  },
  {
   "cell_type": "markdown",
   "metadata": {},
   "source": [
    "### Block averaged Radius of gyration and persistence length, N = 20 PLGA/water system"
   ]
  },
  {
   "cell_type": "code",
   "execution_count": 156,
   "metadata": {},
   "outputs": [
    {
     "data": {
      "text/plain": [
       "17.57327005099698"
      ]
     },
     "execution_count": 156,
     "metadata": {},
     "output_type": "execute_result"
    }
   ],
   "source": [
    "np.mean(n20_blksplga_wat[\"Avg persistence length\"])"
   ]
  },
  {
   "cell_type": "code",
   "execution_count": 157,
   "metadata": {},
   "outputs": [
    {
     "data": {
      "text/plain": [
       "1.4874712983488152"
      ]
     },
     "execution_count": 157,
     "metadata": {},
     "output_type": "execute_result"
    }
   ],
   "source": [
    "np.std(n20_blksplga_wat[\"Avg persistence length\"])"
   ]
  },
  {
   "cell_type": "code",
   "execution_count": 158,
   "metadata": {},
   "outputs": [
    {
     "data": {
      "text/plain": [
       "8.382490422505887"
      ]
     },
     "execution_count": 158,
     "metadata": {},
     "output_type": "execute_result"
    }
   ],
   "source": [
    "np.mean(n20_blksplga_wat[\"Avg Radius of gyration\"])"
   ]
  },
  {
   "cell_type": "code",
   "execution_count": 159,
   "metadata": {},
   "outputs": [
    {
     "data": {
      "text/plain": [
       "0.13123840602412118"
      ]
     },
     "execution_count": 159,
     "metadata": {},
     "output_type": "execute_result"
    }
   ],
   "source": [
    "np.std(n20_blksplga_wat[\"Avg Radius of gyration\"])"
   ]
  },
  {
   "cell_type": "code",
   "execution_count": 160,
   "metadata": {},
   "outputs": [
    {
     "data": {
      "text/plain": [
       "Text(0.5, -5.7, '$N_{PLGA}$ = 20: $L_{p}$ = 27.5 $\\\\AA$ ± 3.38 $\\\\AA$')"
      ]
     },
     "execution_count": 160,
     "metadata": {},
     "output_type": "execute_result"
    },
    {
     "data": {
      "image/png": "[encoded data removed]",
      "text/plain": [
       "<Figure size 504x504 with 1 Axes>"
      ]
     },
     "metadata": {
      "needs_background": "light"
     },
     "output_type": "display_data"
    }
   ],
   "source": [
    "plt.figure(figsize=(7,7))\n",
    "plt.errorbar(blen_wat, np.log(cor_n6plga_wat[0]), yerr=mk_n6p_wat, color='#CCBE9F', linestyle=\"None\",marker='o',\n",
    "     capsize=5, capthick=1, ecolor='black')\n",
    "plt.errorbar(blen_n8wat, np.log(cor_n8plga_wat[0]), yerr=mk_n8p_wat, color='#601A4A', linestyle=\"None\",marker='o',\n",
    "     capsize=5, capthick=1, ecolor='black')\n",
    "plt.errorbar(blen_n10wat, np.log(cor_n10plga_wat[0]), yerr=mk_n10p_wat, color='#2B6322', linestyle=\"None\",marker='o',\n",
    "     capsize=5, capthick=1, ecolor='black')\n",
    "plt.errorbar(blen_n20wat, np.log(cor_n20plga_wat[0]), yerr=mk_n20p_wat, color='#562A8B', linestyle=\"None\",marker='o',\n",
    "     capsize=5, capthick=1, ecolor='black')\n",
    "plt.plot(blen_n20wat[:15], gg_n6plga_n20wat[:15], color='#CCBE9F')\n",
    "plt.plot(blen_n20wat[:15], gg_n8plga_n20wat[:15], color='#601A4A')\n",
    "plt.plot(blen_n20wat[:15], gg_n10plga_n20wat[:15], color='#2B6322')\n",
    "plt.plot(blen_n20wat[:15], gg_n20plga_wat[:15], color='#562A8B')\n",
    "plt.title(r'Ensemble Averaged ln(Cosine $\\theta$) in water', fontsize=15, y=1.01)\n",
    "plt.xlabel(r'Bond Length', fontsize=15)\n",
    "plt.ylabel(r'ln$\\left< Cos(\\theta)\\right >$', fontsize=15)\n",
    "plt.ylim(-7,1)\n",
    "plt.xlim(0,165)\n",
    "font = font_manager.FontProperties(family='Arial', style='normal', size='14')\n",
    "#plt.legend([r'$N_{PEG}$ = 6: $L_{p}$ = 10.7 $\\AA$ ± 1.62 $\\AA$'], loc=3, frameon=0, fontsize=14, prop=font)\n",
    "plt.tick_params(labelsize=14)\n",
    "plt.text(0.5, -6.92,r'$N_{PLGA}$ = 6: $L_{p}$ = 16.0 $\\AA$ ± 1.73 $\\AA$', fontsize=15, color='#CCBE9F')\n",
    "plt.text(0.5, -6.54,r'$N_{PLGA}$ = 8: $L_{p}$ = 17.2 $\\AA$ ± 2.13 $\\AA$', fontsize=15, color='#601A4A')\n",
    "plt.text(0.5, -6.14,r'$N_{PLGA}$ = 10: $L_{p}$ = 15.8 $\\AA$ ± 1.01  $\\AA$', fontsize=15, color='#2B6322')\n",
    "plt.text(0.5, -5.70,r'$N_{PLGA}$ = 20: $L_{p}$ = 17.6 $\\AA$ ± 1.49 $\\AA$', fontsize=15, color='#562A8B')"
   ]
  },
  {
   "cell_type": "code",
   "execution_count": 161,
   "metadata": {},
   "outputs": [
    {
     "data": {
      "text/html": [
       "<div>\n",
       "<style scoped>\n",
       "    .dataframe tbody tr th:only-of-type {\n",
       "        vertical-align: middle;\n",
       "    }\n",
       "\n",
       "    .dataframe tbody tr th {\n",
       "        vertical-align: top;\n",
       "    }\n",
       "\n",
       "    .dataframe thead th {\n",
       "        text-align: right;\n",
       "    }\n",
       "</style>\n",
       "<table border=\"1\" class=\"dataframe\">\n",
       "  <thead>\n",
       "    <tr style=\"text-align: right;\">\n",
       "      <th></th>\n",
       "      <th>$R_{g}$ [Angstrom] N = 6 PLGA in water</th>\n",
       "      <th>$R_{g}$ [Angstrom] N = 8 PLGA in water</th>\n",
       "      <th>$R_{g}$ [Angstrom] N = 10 PLGA in water</th>\n",
       "      <th>$R_{g}$ [Angstrom] N = 20 PLGA in water</th>\n",
       "    </tr>\n",
       "  </thead>\n",
       "  <tbody>\n",
       "    <tr>\n",
       "      <td>0</td>\n",
       "      <td>5.706700</td>\n",
       "      <td>6.501341</td>\n",
       "      <td>7.539830</td>\n",
       "      <td>8.460411</td>\n",
       "    </tr>\n",
       "    <tr>\n",
       "      <td>1</td>\n",
       "      <td>6.056366</td>\n",
       "      <td>6.635535</td>\n",
       "      <td>6.772461</td>\n",
       "      <td>8.198175</td>\n",
       "    </tr>\n",
       "    <tr>\n",
       "      <td>2</td>\n",
       "      <td>6.520687</td>\n",
       "      <td>6.594608</td>\n",
       "      <td>7.197046</td>\n",
       "      <td>8.556409</td>\n",
       "    </tr>\n",
       "    <tr>\n",
       "      <td>3</td>\n",
       "      <td>5.948436</td>\n",
       "      <td>7.209835</td>\n",
       "      <td>7.502973</td>\n",
       "      <td>8.266430</td>\n",
       "    </tr>\n",
       "    <tr>\n",
       "      <td>4</td>\n",
       "      <td>5.777089</td>\n",
       "      <td>6.680173</td>\n",
       "      <td>6.729911</td>\n",
       "      <td>8.431027</td>\n",
       "    </tr>\n",
       "  </tbody>\n",
       "</table>\n",
       "</div>"
      ],
      "text/plain": [
       "   $R_{g}$ [Angstrom] N = 6 PLGA in water  \\\n",
       "0                                5.706700   \n",
       "1                                6.056366   \n",
       "2                                6.520687   \n",
       "3                                5.948436   \n",
       "4                                5.777089   \n",
       "\n",
       "   $R_{g}$ [Angstrom] N = 8 PLGA in water  \\\n",
       "0                                6.501341   \n",
       "1                                6.635535   \n",
       "2                                6.594608   \n",
       "3                                7.209835   \n",
       "4                                6.680173   \n",
       "\n",
       "   $R_{g}$ [Angstrom] N = 10 PLGA in water  \\\n",
       "0                                 7.539830   \n",
       "1                                 6.772461   \n",
       "2                                 7.197046   \n",
       "3                                 7.502973   \n",
       "4                                 6.729911   \n",
       "\n",
       "   $R_{g}$ [Angstrom] N = 20 PLGA in water  \n",
       "0                                 8.460411  \n",
       "1                                 8.198175  \n",
       "2                                 8.556409  \n",
       "3                                 8.266430  \n",
       "4                                 8.431027  "
      ]
     },
     "execution_count": 161,
     "metadata": {},
     "output_type": "execute_result"
    }
   ],
   "source": [
    "rgplga_olig_wat[r\"$R_{g}$ [Angstrom] N = 20 PLGA in water\"] = n20_blksplga_wat[\"Avg Radius of gyration\"]\n",
    "rgplga_olig_wat"
   ]
  },
  {
   "cell_type": "code",
   "execution_count": 162,
   "metadata": {},
   "outputs": [
    {
     "data": {
      "text/html": [
       "<div>\n",
       "<style scoped>\n",
       "    .dataframe tbody tr th:only-of-type {\n",
       "        vertical-align: middle;\n",
       "    }\n",
       "\n",
       "    .dataframe tbody tr th {\n",
       "        vertical-align: top;\n",
       "    }\n",
       "\n",
       "    .dataframe thead th {\n",
       "        text-align: right;\n",
       "    }\n",
       "</style>\n",
       "<table border=\"1\" class=\"dataframe\">\n",
       "  <thead>\n",
       "    <tr style=\"text-align: right;\">\n",
       "      <th></th>\n",
       "      <th>$L_{p}$ [Angstrom] N = 6 PLGA in water</th>\n",
       "      <th>$L_{p}$ [Angstrom] N = 8 PLGA in water</th>\n",
       "      <th>$L_{p}$ [Angstrom] N = 10 PLGA in water</th>\n",
       "      <th>$L_{p}$ [Angstrom] N = 20 PLGA in water</th>\n",
       "    </tr>\n",
       "  </thead>\n",
       "  <tbody>\n",
       "    <tr>\n",
       "      <td>0</td>\n",
       "      <td>13.649490</td>\n",
       "      <td>15.403484</td>\n",
       "      <td>17.642983</td>\n",
       "      <td>18.373911</td>\n",
       "    </tr>\n",
       "    <tr>\n",
       "      <td>1</td>\n",
       "      <td>16.886738</td>\n",
       "      <td>17.735536</td>\n",
       "      <td>15.698494</td>\n",
       "      <td>17.418391</td>\n",
       "    </tr>\n",
       "    <tr>\n",
       "      <td>2</td>\n",
       "      <td>18.640081</td>\n",
       "      <td>15.654572</td>\n",
       "      <td>15.497433</td>\n",
       "      <td>17.471946</td>\n",
       "    </tr>\n",
       "    <tr>\n",
       "      <td>3</td>\n",
       "      <td>16.140974</td>\n",
       "      <td>21.156253</td>\n",
       "      <td>15.551996</td>\n",
       "      <td>19.563723</td>\n",
       "    </tr>\n",
       "    <tr>\n",
       "      <td>4</td>\n",
       "      <td>14.735745</td>\n",
       "      <td>16.104728</td>\n",
       "      <td>14.545328</td>\n",
       "      <td>15.038379</td>\n",
       "    </tr>\n",
       "  </tbody>\n",
       "</table>\n",
       "</div>"
      ],
      "text/plain": [
       "   $L_{p}$ [Angstrom] N = 6 PLGA in water  \\\n",
       "0                               13.649490   \n",
       "1                               16.886738   \n",
       "2                               18.640081   \n",
       "3                               16.140974   \n",
       "4                               14.735745   \n",
       "\n",
       "   $L_{p}$ [Angstrom] N = 8 PLGA in water  \\\n",
       "0                               15.403484   \n",
       "1                               17.735536   \n",
       "2                               15.654572   \n",
       "3                               21.156253   \n",
       "4                               16.104728   \n",
       "\n",
       "   $L_{p}$ [Angstrom] N = 10 PLGA in water  \\\n",
       "0                                17.642983   \n",
       "1                                15.698494   \n",
       "2                                15.497433   \n",
       "3                                15.551996   \n",
       "4                                14.545328   \n",
       "\n",
       "   $L_{p}$ [Angstrom] N = 20 PLGA in water  \n",
       "0                                18.373911  \n",
       "1                                17.418391  \n",
       "2                                17.471946  \n",
       "3                                19.563723  \n",
       "4                                15.038379  "
      ]
     },
     "execution_count": 162,
     "metadata": {},
     "output_type": "execute_result"
    }
   ],
   "source": [
    "pers_plgat_wat[r\"$L_{p}$ [Angstrom] N = 20 PLGA in water\"] = n20_blksplga_wat[\"Avg persistence length\"]\n",
    "pers_plgat_wat"
   ]
  },
  {
   "cell_type": "code",
   "execution_count": null,
   "metadata": {},
   "outputs": [],
   "source": []
  },
  {
   "cell_type": "markdown",
   "metadata": {},
   "source": [
    "### N = 30 PLGA/water system"
   ]
  },
  {
   "cell_type": "code",
   "execution_count": 163,
   "metadata": {},
   "outputs": [],
   "source": [
    "# For the right Rg calculation using MD Analysis, use trajactory without pbc \n",
    "n30_plga_wat = mda.Universe(\"n30plga_wat/n30plgaonly_wat.pdb\", \"n30plga_wat/nowat_n30plga.xtc\")"
   ]
  },
  {
   "cell_type": "code",
   "execution_count": 164,
   "metadata": {},
   "outputs": [
    {
     "data": {
      "text/plain": [
       "<XTCReader n30plga_wat/nowat_n30plga.xtc with 18001 frames of 453 atoms>"
      ]
     },
     "execution_count": 164,
     "metadata": {},
     "output_type": "execute_result"
    }
   ],
   "source": [
    "n30_plga_wat.trajectory"
   ]
  },
  {
   "cell_type": "code",
   "execution_count": 165,
   "metadata": {},
   "outputs": [
    {
     "data": {
      "text/plain": [
       "18001"
      ]
     },
     "execution_count": 165,
     "metadata": {},
     "output_type": "execute_result"
    }
   ],
   "source": [
    "len(n30_plga_wat.trajectory)"
   ]
  },
  {
   "cell_type": "code",
   "execution_count": 166,
   "metadata": {},
   "outputs": [],
   "source": [
    "#Select the polymer heavy atoms \n",
    "plga_n30wat = n30_plga_wat.select_atoms(\"resname sPLG PLG tPLG and not type H\")"
   ]
  },
  {
   "cell_type": "code",
   "execution_count": 167,
   "metadata": {},
   "outputs": [
    {
     "data": {
      "text/plain": [
       "array([[ 1.        ,  0.85010996,  0.66674573,  0.57899683,  0.54734174,\n",
       "         0.50677746,  0.48080461,  0.47962254,  0.48613992,  0.51788917,\n",
       "         0.5690293 ,  0.62288902,  0.59141678,  0.55028663,  0.51791388,\n",
       "         0.49701265,  0.51408595,  0.58600773,  0.57752465,  0.59661288,\n",
       "         0.66684519,  0.70624882,  0.69632373,  0.75384358,  0.79050683,\n",
       "         0.74839966,  0.74878001,  0.88909904,  0.84463297],\n",
       "       [ 0.        ,  1.        ,  2.        ,  3.        ,  4.        ,\n",
       "         5.        ,  6.        ,  7.        ,  8.        ,  9.        ,\n",
       "        10.        , 11.        , 12.        , 13.        , 14.        ,\n",
       "        15.        , 16.        , 17.        , 18.        , 19.        ,\n",
       "        20.        , 21.        , 22.        , 23.        , 24.        ,\n",
       "        25.        , 26.        , 27.        , 28.        ],\n",
       "       [ 0.        , 31.77636863, 48.18360699, 54.61998438, 56.81516405,\n",
       "        59.55058461, 61.26203458, 61.33924736, 60.91281598, 58.80923262,\n",
       "        55.31743663, 51.47258585, 53.74238811, 56.61332106, 58.80757747,\n",
       "        60.19744549, 59.06362154, 54.12578661, 54.72337257, 53.37230403,\n",
       "        48.17596038, 45.06947682, 45.86720483, 41.07557326, 37.76709892,\n",
       "        41.54805888, 41.5151915 , 27.2397498 , 32.36736674]])"
      ]
     },
     "execution_count": 167,
     "metadata": {},
     "output_type": "execute_result"
    }
   ],
   "source": [
    "crv_n30plga_wat = pers_length(plga_n30wat,30)\n",
    "crv_n30plga_wat"
   ]
  },
  {
   "cell_type": "code",
   "execution_count": 168,
   "metadata": {},
   "outputs": [],
   "source": [
    "com_bond_n30wat = np.zeros(shape=(1,18000))\n",
    "count = 0\n",
    "for ts in n30_plga_wat.trajectory[0:18000]:\n",
    "    n30_mon1_wat = n30_plga_wat.select_atoms(\"resid 1\")\n",
    "    n30_mon2_wat = n30_plga_wat.select_atoms(\"resid 2\")\n",
    "    oo_len = mda.analysis.distances.distance_array(n30_mon1_wat.center_of_mass(), n30_mon2_wat.center_of_mass(), \n",
    "                                                   box=n30_plga_wat.trajectory.ts.dimensions)\n",
    "    com_bond_n30wat[0, count] = oo_len\n",
    "    count += 1\n",
    "    "
   ]
  },
  {
   "cell_type": "code",
   "execution_count": 169,
   "metadata": {},
   "outputs": [
    {
     "data": {
      "text/plain": [
       "array([[5.80601904, 6.02340271, 6.5301031 , ..., 6.12709611, 6.28884022,\n",
       "        5.85774912]])"
      ]
     },
     "execution_count": 169,
     "metadata": {},
     "output_type": "execute_result"
    }
   ],
   "source": [
    "com_bond"
   ]
  },
  {
   "cell_type": "code",
   "execution_count": 170,
   "metadata": {},
   "outputs": [
    {
     "data": {
      "text/plain": [
       "0.7774540112069643"
      ]
     },
     "execution_count": 170,
     "metadata": {},
     "output_type": "execute_result"
    }
   ],
   "source": [
    "np.std(com_bond)"
   ]
  },
  {
   "cell_type": "code",
   "execution_count": 171,
   "metadata": {},
   "outputs": [
    {
     "data": {
      "text/plain": [
       "5.5065835054684165"
      ]
     },
     "execution_count": 171,
     "metadata": {},
     "output_type": "execute_result"
    }
   ],
   "source": [
    "lb_avg_pn6 = np.mean(com_bond)\n",
    "lb_avg_pn6"
   ]
  },
  {
   "cell_type": "code",
   "execution_count": 172,
   "metadata": {},
   "outputs": [
    {
     "data": {
      "text/plain": [
       "5.495542380793217"
      ]
     },
     "execution_count": 172,
     "metadata": {},
     "output_type": "execute_result"
    }
   ],
   "source": [
    "np.mean(com_bond_n30wat)"
   ]
  },
  {
   "cell_type": "code",
   "execution_count": 173,
   "metadata": {},
   "outputs": [
    {
     "data": {
      "text/plain": [
       "0.7323073133226505"
      ]
     },
     "execution_count": 173,
     "metadata": {},
     "output_type": "execute_result"
    }
   ],
   "source": [
    "np.std(com_bond_n30wat)"
   ]
  },
  {
   "cell_type": "markdown",
   "metadata": {},
   "source": [
    "### Radius of Gyration vs. time N = 30 PLGA/water system"
   ]
  },
  {
   "cell_type": "code",
   "execution_count": 174,
   "metadata": {},
   "outputs": [],
   "source": [
    "n30plga_rgens_wat, cor_n30plga_wat, N30plga_cos_wat, rgwat_n30plga = get_rg_pers_poly(plga_n30wat, n30_plga_wat, 0, 18000)"
   ]
  },
  {
   "cell_type": "code",
   "execution_count": 175,
   "metadata": {},
   "outputs": [
    {
     "data": {
      "text/plain": [
       "(18000,)"
      ]
     },
     "execution_count": 175,
     "metadata": {},
     "output_type": "execute_result"
    }
   ],
   "source": [
    "n30plga_rgens_wat[0].shape"
   ]
  },
  {
   "cell_type": "code",
   "execution_count": 176,
   "metadata": {},
   "outputs": [
    {
     "data": {
      "text/plain": [
       "array([ 0.,  1.,  2.,  3.,  4.,  5.,  6.,  7.,  8.,  9., 10., 11., 12.,\n",
       "       13., 14., 15., 16., 17., 18., 19., 20., 21., 22., 23., 24., 25.,\n",
       "       26., 27., 28.])"
      ]
     },
     "execution_count": 176,
     "metadata": {},
     "output_type": "execute_result"
    }
   ],
   "source": [
    "cor_n30plga_wat[3]"
   ]
  },
  {
   "cell_type": "code",
   "execution_count": 177,
   "metadata": {},
   "outputs": [
    {
     "data": {
      "text/plain": [
       "array([[1.        , 1.        , 1.        , ..., 1.        , 1.        ,\n",
       "        1.        ],\n",
       "       [0.85010996, 0.85969436, 0.85996605, ..., 0.80379122, 0.810483  ,\n",
       "        0.80193757],\n",
       "       [0.66674573, 0.6516001 , 0.66113223, ..., 0.59889613, 0.59036957,\n",
       "        0.58848232],\n",
       "       ...,\n",
       "       [0.74878001, 0.80666873, 0.86581837, ..., 0.30206117, 0.31193247,\n",
       "        0.22353417],\n",
       "       [0.88909904, 0.84656561, 0.89669947, ..., 0.09242544, 0.05106178,\n",
       "        0.03503806],\n",
       "       [0.84463297, 0.77566971, 0.77089816, ..., 0.57194597, 0.45604966,\n",
       "        0.6225449 ]])"
      ]
     },
     "execution_count": 177,
     "metadata": {},
     "output_type": "execute_result"
    }
   ],
   "source": [
    "N30plga_cos_wat"
   ]
  },
  {
   "cell_type": "code",
   "execution_count": 178,
   "metadata": {},
   "outputs": [
    {
     "data": {
      "text/plain": [
       "9.824863210345177"
      ]
     },
     "execution_count": 178,
     "metadata": {},
     "output_type": "execute_result"
    }
   ],
   "source": [
    "rgwat_n30plga"
   ]
  },
  {
   "cell_type": "code",
   "execution_count": 179,
   "metadata": {},
   "outputs": [
    {
     "data": {
      "text/plain": [
       "1.2324880399659064"
      ]
     },
     "execution_count": 179,
     "metadata": {},
     "output_type": "execute_result"
    }
   ],
   "source": [
    "np.std(n30plga_rgens_wat)"
   ]
  },
  {
   "cell_type": "code",
   "execution_count": 202,
   "metadata": {},
   "outputs": [
    {
     "data": {
      "text/plain": [
       "(0.2, 3)"
      ]
     },
     "execution_count": 202,
     "metadata": {},
     "output_type": "execute_result"
    },
    {
     "data": {
      "image/png": "[encoded data removed]",
      "text/plain": [
       "<Figure size 504x504 with 1 Axes>"
      ]
     },
     "metadata": {
      "needs_background": "light"
     },
     "output_type": "display_data"
    }
   ],
   "source": [
    "plt.figure(figsize=(7,7))\n",
    "plt.title(r'PLGA Radius of Gyration', fontsize=18, y=1.01)\n",
    "plt.xlabel(r'Time [ns]', fontsize=15)\n",
    "plt.ylabel(r'$R_{g}$ [nm]', fontsize=15)\n",
    "plt.plot(trj_len/100, n6plga_rgens_wat[0]/10,linewidth=2, color='#CCBE9F')\n",
    "plt.plot(trj_len/100, n8plga_rgens_wat[0]/10,linewidth=2, color='#601A4A')\n",
    "plt.plot(trj_len/100, n10plga_rgens_wat[0]/10,linewidth=2, color='#2B6322')\n",
    "plt.plot(trj_len/100, n20plga_rgens_wat[0]/10,linewidth=2, color='#562A8B')\n",
    "plt.plot(trj_len/100, n30plga_rgens_wat[0]/10,linewidth=2, color='#1D77CF')\n",
    "plt.tick_params(labelsize=14)\n",
    "plt.legend(['N = 6 in water','N = 8 in water','N = 10 in water','N = 20 in water','N = 30 in water'], frameon=False, fontsize=14)\n",
    "#plt.text(127, 0.96,r'N = 6 in water', fontsize=18, color='#1F2E69', family='Arial')\n",
    "plt.xlim(0,180)\n",
    "plt.ylim(0.2,3)"
   ]
  },
  {
   "cell_type": "code",
   "execution_count": 182,
   "metadata": {},
   "outputs": [],
   "source": [
    "np.save('n6plga_watRg.npy', n6plga_rgens_wat[0])\n",
    "np.save('n8plga_watRg.npy', n8plga_rgens_wat[0])\n",
    "np.save('n10plga_watRg.npy', n10plga_rgens_wat[0])\n",
    "np.save('n20plga_watRg.npy', n20plga_rgens_wat[0])\n",
    "np.save('n30plga_watRg.npy', n30plga_rgens_wat[0])"
   ]
  },
  {
   "cell_type": "markdown",
   "metadata": {},
   "source": [
    "#### Correlation values at each arc length for the whole 180 ns trajectory, N = 30 PLGA/water system"
   ]
  },
  {
   "cell_type": "code",
   "execution_count": 183,
   "metadata": {},
   "outputs": [
    {
     "data": {
      "text/plain": [
       "array([  0.        ,   5.50658351,  11.01316701,  16.51975052,\n",
       "        22.02633402,  27.53291753,  33.03950103,  38.54608454,\n",
       "        44.05266804,  49.55925155,  55.06583505,  60.57241856,\n",
       "        66.07900207,  71.58558557,  77.09216908,  82.59875258,\n",
       "        88.10533609,  93.61191959,  99.1185031 , 104.6250866 ,\n",
       "       110.13167011, 115.63825361, 121.14483712, 126.65142063,\n",
       "       132.15800413, 137.66458764, 143.17117114, 148.67775465,\n",
       "       154.18433815])"
      ]
     },
     "execution_count": 183,
     "metadata": {},
     "output_type": "execute_result"
    }
   ],
   "source": [
    "# x values\n",
    "blen_n30wat = cor_n30plga_wat[3]*lb_avg_pn6\n",
    "#nt_tt[0] = 0\n",
    "blen_n30wat"
   ]
  },
  {
   "cell_type": "code",
   "execution_count": 184,
   "metadata": {},
   "outputs": [
    {
     "data": {
      "text/plain": [
       "array([3.41191684e-18, 2.79661909e-02, 7.66378382e-02, 1.21673450e-01,\n",
       "       1.74711340e-01, 2.70403865e-01, 3.68395280e-01, 4.82783523e-01,\n",
       "       4.68870281e-01, 4.66986712e-01, 4.67799759e-01, 4.34224968e-01,\n",
       "       4.36203213e-01, 4.94979224e-01, 6.26172862e-01, 7.48550388e-01,\n",
       "       6.51027675e-01, 6.22571707e-01, 6.99353946e-01, 7.00198243e-01,\n",
       "       5.44796565e-01, 6.52075695e-01, 6.83723819e-01, 5.69022185e-01,\n",
       "       5.78956105e-01, 6.96385285e-01, 7.65889708e-01, 8.89941665e-01,\n",
       "       1.56027574e+00])"
      ]
     },
     "execution_count": 184,
     "metadata": {},
     "output_type": "execute_result"
    }
   ],
   "source": [
    "mk_n30p_wat = cor_n30plga_wat[1]/cor_n30plga_wat[0]\n",
    "mk_n30p_wat"
   ]
  },
  {
   "cell_type": "code",
   "execution_count": 185,
   "metadata": {},
   "outputs": [
    {
     "data": {
      "text/plain": [
       "<ErrorbarContainer object of 3 artists>"
      ]
     },
     "execution_count": 185,
     "metadata": {},
     "output_type": "execute_result"
    },
    {
     "data": {
      "image/png": "[encoded data removed]",
      "text/plain": [
       "<Figure size 504x504 with 1 Axes>"
      ]
     },
     "metadata": {
      "needs_background": "light"
     },
     "output_type": "display_data"
    }
   ],
   "source": [
    "plt.figure(figsize=(7,7))\n",
    "plt.errorbar(blen_wat, np.log(cor_n6plga_wat[0]), yerr=mk_n6p_wat, color='#CCBE9F', linestyle=\"None\",marker='o',\n",
    "     capsize=5, capthick=1, ecolor='black')\n",
    "plt.errorbar(blen_n8wat, np.log(cor_n8plga_wat[0]), yerr=mk_n8p_wat, color='#601A4A', linestyle=\"None\",marker='o',\n",
    "     capsize=5, capthick=1, ecolor='black')\n",
    "plt.errorbar(blen_n10wat, np.log(cor_n10plga_wat[0]), yerr=mk_n10p_wat, color='#2B6322', linestyle=\"None\",marker='o',\n",
    "     capsize=5, capthick=1, ecolor='black')\n",
    "plt.errorbar(blen_n20wat, np.log(cor_n20plga_wat[0]), yerr=mk_n20p_wat, color='#562A8B', linestyle=\"None\",marker='o',\n",
    "     capsize=5, capthick=1, ecolor='black')\n",
    "plt.errorbar(blen_n30wat, np.log(cor_n30plga_wat[0]), yerr=mk_n30p_wat, color='#1D77CF', linestyle=\"None\",marker='o',\n",
    "     capsize=5, capthick=1, ecolor='black')"
   ]
  },
  {
   "cell_type": "code",
   "execution_count": 186,
   "metadata": {},
   "outputs": [
    {
     "name": "stdout",
     "output_type": "stream",
     "text": [
      "3000\n",
      "6000\n",
      "Lp [Angstroms]: 17.727447108590145\n",
      "Error in Lp from fit [Angstroms], 95% CL : 0.09684021419715756\n",
      "R2 score: 0.9862007704415356\n",
      "6000\n",
      "9000\n",
      "Lp [Angstroms]: 17.665581164139887\n",
      "Error in Lp from fit [Angstroms], 95% CL : 0.070451862450756\n",
      "R2 score: 0.9923230279726712\n",
      "9000\n",
      "12000\n",
      "Lp [Angstroms]: 17.713669938839136\n",
      "Error in Lp from fit [Angstroms], 95% CL : 0.07996028692111741\n",
      "R2 score: 0.9901934975885918\n",
      "12000\n",
      "15000\n",
      "Lp [Angstroms]: 19.394280286943523\n",
      "Error in Lp from fit [Angstroms], 95% CL : 0.10726937192338191\n",
      "R2 score: 0.9858896648293274\n",
      "15000\n",
      "18000\n",
      "Lp [Angstroms]: 21.4686822839457\n",
      "Error in Lp from fit [Angstroms], 95% CL : 0.09294545498149397\n",
      "R2 score: 0.9910737379740906\n"
     ]
    }
   ],
   "source": [
    "# All the points give the best fits for N = 6 peg in water\n",
    "n30_blksplga_wat , n30plga_lpwat = bavg_pers_cnt(5, plga_n30wat, n30_plga_wat, lb_avg_pn6, 4, 3000 , 18000)"
   ]
  },
  {
   "cell_type": "code",
   "execution_count": 187,
   "metadata": {},
   "outputs": [
    {
     "data": {
      "text/plain": [
       "{'Avg Radius of gyration': array([ 9.50918181, 10.605858  ,  9.87507114,  9.60458378,  9.43521037]),\n",
       " 'Avg persistence length': array([17.72744711, 17.66558116, 17.71366994, 19.39428029, 21.46868228])}"
      ]
     },
     "execution_count": 187,
     "metadata": {},
     "output_type": "execute_result"
    }
   ],
   "source": [
    "n30_blksplga_wat"
   ]
  },
  {
   "cell_type": "code",
   "execution_count": 188,
   "metadata": {},
   "outputs": [
    {
     "data": {
      "text/plain": [
       "array([[ 1.77274471e+01,  1.76655812e+01,  1.77136699e+01,\n",
       "         1.93942803e+01,  2.14686823e+01],\n",
       "       [ 9.68402142e-02,  7.04518625e-02,  7.99602869e-02,\n",
       "         1.07269372e-01,  9.29454550e-02],\n",
       "       [-5.64097015e-02, -5.66072517e-02, -5.64535753e-02,\n",
       "        -5.15615937e-02, -4.65794773e-02],\n",
       "       [ 1.86532953e-03,  1.00115683e-03,  1.27568477e-03,\n",
       "         1.59766485e-03,  7.98847048e-04]])"
      ]
     },
     "execution_count": 188,
     "metadata": {},
     "output_type": "execute_result"
    }
   ],
   "source": [
    "n30plga_lpwat"
   ]
  },
  {
   "cell_type": "code",
   "execution_count": 189,
   "metadata": {},
   "outputs": [
    {
     "data": {
      "text/plain": [
       "array([-0.0564097 , -0.05660725, -0.05645358, -0.05156159, -0.04657948])"
      ]
     },
     "execution_count": 189,
     "metadata": {},
     "output_type": "execute_result"
    }
   ],
   "source": [
    "n30plga_lpwat[2]"
   ]
  },
  {
   "cell_type": "code",
   "execution_count": 190,
   "metadata": {},
   "outputs": [
    {
     "data": {
      "text/plain": [
       "0.0013077366036780046"
      ]
     },
     "execution_count": 190,
     "metadata": {},
     "output_type": "execute_result"
    }
   ],
   "source": [
    "np.mean(n30plga_lpwat[3])"
   ]
  },
  {
   "cell_type": "code",
   "execution_count": 191,
   "metadata": {},
   "outputs": [
    {
     "data": {
      "text/plain": [
       "array([  0.        ,   5.50658351,  11.01316701,  16.51975052,\n",
       "        22.02633402,  27.53291753,  33.03950103,  38.54608454,\n",
       "        44.05266804,  49.55925155,  55.06583505,  60.57241856,\n",
       "        66.07900207,  71.58558557,  77.09216908,  82.59875258,\n",
       "        88.10533609,  93.61191959,  99.1185031 , 104.6250866 ,\n",
       "       110.13167011, 115.63825361, 121.14483712, 126.65142063,\n",
       "       132.15800413, 137.66458764, 143.17117114, 148.67775465,\n",
       "       154.18433815])"
      ]
     },
     "execution_count": 191,
     "metadata": {},
     "output_type": "execute_result"
    }
   ],
   "source": [
    "blen_n30wat"
   ]
  },
  {
   "cell_type": "code",
   "execution_count": 192,
   "metadata": {},
   "outputs": [],
   "source": [
    "gg_n30plga_wat = line_fit(np.mean(n30plga_lpwat[2]),blen_n30wat)"
   ]
  },
  {
   "cell_type": "code",
   "execution_count": 193,
   "metadata": {},
   "outputs": [],
   "source": [
    "gg_n6plga_n30wat = line_fit(np.mean(n6plga_lpwat[2]),blen_n30wat)"
   ]
  },
  {
   "cell_type": "code",
   "execution_count": 194,
   "metadata": {},
   "outputs": [],
   "source": [
    "gg_n8plga_n30wat = line_fit(np.mean(n8plga_lpwat[2]),blen_n30wat)"
   ]
  },
  {
   "cell_type": "code",
   "execution_count": 195,
   "metadata": {},
   "outputs": [],
   "source": [
    "gg_n10plga_n30wat = line_fit(np.mean(n10plga_lpwat[2]),blen_n30wat)"
   ]
  },
  {
   "cell_type": "code",
   "execution_count": 196,
   "metadata": {},
   "outputs": [],
   "source": [
    "gg_n20plga_n30wat = line_fit(np.mean(n20plga_lpwat[2]),blen_n30wat)"
   ]
  },
  {
   "cell_type": "code",
   "execution_count": 197,
   "metadata": {},
   "outputs": [
    {
     "data": {
      "text/plain": [
       "array([-0.        , -0.29472512, -0.58945025, -0.88417537, -1.1789005 ,\n",
       "       -1.47362562, -1.76835074, -2.06307587, -2.35780099, -2.65252612,\n",
       "       -2.94725124, -3.24197636, -3.53670149, -3.83142661, -4.12615174,\n",
       "       -4.42087686, -4.71560198, -5.01032711, -5.30505223, -5.59977736,\n",
       "       -5.89450248, -6.1892276 , -6.48395273, -6.77867785, -7.07340298,\n",
       "       -7.3681281 , -7.66285322, -7.95757835, -8.25230347])"
      ]
     },
     "execution_count": 197,
     "metadata": {},
     "output_type": "execute_result"
    }
   ],
   "source": [
    "gg_n30plga_wat"
   ]
  },
  {
   "cell_type": "markdown",
   "metadata": {},
   "source": [
    "### Block averaged Radius of gyration and persistence length, N = 30 PLGA/water system"
   ]
  },
  {
   "cell_type": "code",
   "execution_count": 198,
   "metadata": {},
   "outputs": [
    {
     "data": {
      "text/plain": [
       "18.793932156491678"
      ]
     },
     "execution_count": 198,
     "metadata": {},
     "output_type": "execute_result"
    }
   ],
   "source": [
    "np.mean(n30_blksplga_wat[\"Avg persistence length\"])"
   ]
  },
  {
   "cell_type": "code",
   "execution_count": 199,
   "metadata": {},
   "outputs": [
    {
     "data": {
      "text/plain": [
       "1.489445460584491"
      ]
     },
     "execution_count": 199,
     "metadata": {},
     "output_type": "execute_result"
    }
   ],
   "source": [
    "np.std(n30_blksplga_wat[\"Avg persistence length\"])"
   ]
  },
  {
   "cell_type": "code",
   "execution_count": 200,
   "metadata": {},
   "outputs": [
    {
     "data": {
      "text/plain": [
       "9.805981018155155"
      ]
     },
     "execution_count": 200,
     "metadata": {},
     "output_type": "execute_result"
    }
   ],
   "source": [
    "np.mean(n30_blksplga_wat[\"Avg Radius of gyration\"])"
   ]
  },
  {
   "cell_type": "code",
   "execution_count": 201,
   "metadata": {},
   "outputs": [
    {
     "data": {
      "text/plain": [
       "0.4267781895964733"
      ]
     },
     "execution_count": 201,
     "metadata": {},
     "output_type": "execute_result"
    }
   ],
   "source": [
    "np.std(n30_blksplga_wat[\"Avg Radius of gyration\"])"
   ]
  },
  {
   "cell_type": "code",
   "execution_count": 205,
   "metadata": {},
   "outputs": [
    {
     "data": {
      "text/plain": [
       "Text(0.5, -5.3, '$N_{PLGA}$ = 30: $L_{p}$ = 18.8 $\\\\AA$ ± 1.49 $\\\\AA$')"
      ]
     },
     "execution_count": 205,
     "metadata": {},
     "output_type": "execute_result"
    },
    {
     "data": {
      "image/png": "[encoded data removed]",
      "text/plain": [
       "<Figure size 504x504 with 1 Axes>"
      ]
     },
     "metadata": {
      "needs_background": "light"
     },
     "output_type": "display_data"
    }
   ],
   "source": [
    "plt.figure(figsize=(7,7))\n",
    "plt.errorbar(blen_wat, np.log(cor_n6plga_wat[0]), yerr=mk_n6p_wat, color='#CCBE9F', linestyle=\"None\",marker='o',\n",
    "     capsize=5, capthick=1, ecolor='black')\n",
    "plt.errorbar(blen_n8wat, np.log(cor_n8plga_wat[0]), yerr=mk_n8p_wat, color='#601A4A', linestyle=\"None\",marker='o',\n",
    "     capsize=5, capthick=1, ecolor='black')\n",
    "plt.errorbar(blen_n10wat, np.log(cor_n10plga_wat[0]), yerr=mk_n10p_wat, color='#2B6322', linestyle=\"None\",marker='o',\n",
    "     capsize=5, capthick=1, ecolor='black')\n",
    "plt.errorbar(blen_n20wat, np.log(cor_n20plga_wat[0]), yerr=mk_n20p_wat, color='#562A8B', linestyle=\"None\",marker='o',\n",
    "     capsize=5, capthick=1, ecolor='black')\n",
    "plt.errorbar(blen_n30wat, np.log(cor_n30plga_wat[0]), yerr=mk_n30p_wat, color='#1D77CF', linestyle=\"None\",marker='o',\n",
    "     capsize=5, capthick=1, ecolor='black')\n",
    "plt.plot(blen_n30wat[:15], gg_n6plga_n30wat[:15], color='#CCBE9F')\n",
    "plt.plot(blen_n30wat[:15], gg_n8plga_n30wat[:15], color='#601A4A')\n",
    "plt.plot(blen_n30wat[:15], gg_n10plga_n30wat[:15], color='#2B6322')\n",
    "plt.plot(blen_n30wat[:15], gg_n20plga_n30wat[:15], color='#562A8B')\n",
    "plt.plot(blen_n30wat[:15], gg_n30plga_wat[:15], color='#1D77CF')\n",
    "plt.title(r'Ensemble Averaged ln(Cosine $\\theta$) in water', fontsize=15, y=1.01)\n",
    "plt.xlabel(r'Bond Length', fontsize=15)\n",
    "plt.ylabel(r'ln$\\left< Cos(\\theta)\\right >$', fontsize=15)\n",
    "plt.ylim(-7,1)\n",
    "plt.xlim(0,165)\n",
    "font = font_manager.FontProperties(family='Arial', style='normal', size='14')\n",
    "#plt.legend([r'$N_{PEG}$ = 6: $L_{p}$ = 10.7 $\\AA$ ± 1.62 $\\AA$'], loc=3, frameon=0, fontsize=14, prop=font)\n",
    "plt.tick_params(labelsize=14)\n",
    "plt.text(0.5, -6.92,r'$N_{PLGA}$ = 6: $L_{p}$ = 16.0 $\\AA$ ± 1.73 $\\AA$', fontsize=15, color='#CCBE9F')\n",
    "plt.text(0.5, -6.54,r'$N_{PLGA}$ = 8: $L_{p}$ = 17.2 $\\AA$ ± 2.13 $\\AA$', fontsize=15, color='#601A4A')\n",
    "plt.text(0.5, -6.14,r'$N_{PLGA}$ = 10: $L_{p}$ = 15.8 $\\AA$ ± 1.01  $\\AA$', fontsize=15, color='#2B6322')\n",
    "plt.text(0.5, -5.70,r'$N_{PLGA}$ = 20: $L_{p}$ = 17.6 $\\AA$ ± 1.49 $\\AA$', fontsize=15, color='#562A8B')\n",
    "plt.text(0.5, -5.30,r'$N_{PLGA}$ = 30: $L_{p}$ = 18.8 $\\AA$ ± 1.49 $\\AA$', fontsize=15, color='#1D77CF')"
   ]
  },
  {
   "cell_type": "code",
   "execution_count": 206,
   "metadata": {},
   "outputs": [
    {
     "data": {
      "text/html": [
       "<div>\n",
       "<style scoped>\n",
       "    .dataframe tbody tr th:only-of-type {\n",
       "        vertical-align: middle;\n",
       "    }\n",
       "\n",
       "    .dataframe tbody tr th {\n",
       "        vertical-align: top;\n",
       "    }\n",
       "\n",
       "    .dataframe thead th {\n",
       "        text-align: right;\n",
       "    }\n",
       "</style>\n",
       "<table border=\"1\" class=\"dataframe\">\n",
       "  <thead>\n",
       "    <tr style=\"text-align: right;\">\n",
       "      <th></th>\n",
       "      <th>$R_{g}$ [Angstrom] N = 6 PLGA in water</th>\n",
       "      <th>$R_{g}$ [Angstrom] N = 8 PLGA in water</th>\n",
       "      <th>$R_{g}$ [Angstrom] N = 10 PLGA in water</th>\n",
       "      <th>$R_{g}$ [Angstrom] N = 20 PLGA in water</th>\n",
       "      <th>$R_{g}$ [Angstrom] N = 30 PLGA in water</th>\n",
       "    </tr>\n",
       "  </thead>\n",
       "  <tbody>\n",
       "    <tr>\n",
       "      <td>0</td>\n",
       "      <td>5.706700</td>\n",
       "      <td>6.501341</td>\n",
       "      <td>7.539830</td>\n",
       "      <td>8.460411</td>\n",
       "      <td>9.509182</td>\n",
       "    </tr>\n",
       "    <tr>\n",
       "      <td>1</td>\n",
       "      <td>6.056366</td>\n",
       "      <td>6.635535</td>\n",
       "      <td>6.772461</td>\n",
       "      <td>8.198175</td>\n",
       "      <td>10.605858</td>\n",
       "    </tr>\n",
       "    <tr>\n",
       "      <td>2</td>\n",
       "      <td>6.520687</td>\n",
       "      <td>6.594608</td>\n",
       "      <td>7.197046</td>\n",
       "      <td>8.556409</td>\n",
       "      <td>9.875071</td>\n",
       "    </tr>\n",
       "    <tr>\n",
       "      <td>3</td>\n",
       "      <td>5.948436</td>\n",
       "      <td>7.209835</td>\n",
       "      <td>7.502973</td>\n",
       "      <td>8.266430</td>\n",
       "      <td>9.604584</td>\n",
       "    </tr>\n",
       "    <tr>\n",
       "      <td>4</td>\n",
       "      <td>5.777089</td>\n",
       "      <td>6.680173</td>\n",
       "      <td>6.729911</td>\n",
       "      <td>8.431027</td>\n",
       "      <td>9.435210</td>\n",
       "    </tr>\n",
       "  </tbody>\n",
       "</table>\n",
       "</div>"
      ],
      "text/plain": [
       "   $R_{g}$ [Angstrom] N = 6 PLGA in water  \\\n",
       "0                                5.706700   \n",
       "1                                6.056366   \n",
       "2                                6.520687   \n",
       "3                                5.948436   \n",
       "4                                5.777089   \n",
       "\n",
       "   $R_{g}$ [Angstrom] N = 8 PLGA in water  \\\n",
       "0                                6.501341   \n",
       "1                                6.635535   \n",
       "2                                6.594608   \n",
       "3                                7.209835   \n",
       "4                                6.680173   \n",
       "\n",
       "   $R_{g}$ [Angstrom] N = 10 PLGA in water  \\\n",
       "0                                 7.539830   \n",
       "1                                 6.772461   \n",
       "2                                 7.197046   \n",
       "3                                 7.502973   \n",
       "4                                 6.729911   \n",
       "\n",
       "   $R_{g}$ [Angstrom] N = 20 PLGA in water  \\\n",
       "0                                 8.460411   \n",
       "1                                 8.198175   \n",
       "2                                 8.556409   \n",
       "3                                 8.266430   \n",
       "4                                 8.431027   \n",
       "\n",
       "   $R_{g}$ [Angstrom] N = 30 PLGA in water  \n",
       "0                                 9.509182  \n",
       "1                                10.605858  \n",
       "2                                 9.875071  \n",
       "3                                 9.604584  \n",
       "4                                 9.435210  "
      ]
     },
     "execution_count": 206,
     "metadata": {},
     "output_type": "execute_result"
    }
   ],
   "source": [
    "rgplga_olig_wat[r\"$R_{g}$ [Angstrom] N = 30 PLGA in water\"] = n30_blksplga_wat[\"Avg Radius of gyration\"]\n",
    "rgplga_olig_wat"
   ]
  },
  {
   "cell_type": "code",
   "execution_count": 207,
   "metadata": {},
   "outputs": [
    {
     "data": {
      "text/html": [
       "<div>\n",
       "<style scoped>\n",
       "    .dataframe tbody tr th:only-of-type {\n",
       "        vertical-align: middle;\n",
       "    }\n",
       "\n",
       "    .dataframe tbody tr th {\n",
       "        vertical-align: top;\n",
       "    }\n",
       "\n",
       "    .dataframe thead th {\n",
       "        text-align: right;\n",
       "    }\n",
       "</style>\n",
       "<table border=\"1\" class=\"dataframe\">\n",
       "  <thead>\n",
       "    <tr style=\"text-align: right;\">\n",
       "      <th></th>\n",
       "      <th>$L_{p}$ [Angstrom] N = 6 PLGA in water</th>\n",
       "      <th>$L_{p}$ [Angstrom] N = 8 PLGA in water</th>\n",
       "      <th>$L_{p}$ [Angstrom] N = 10 PLGA in water</th>\n",
       "      <th>$L_{p}$ [Angstrom] N = 20 PLGA in water</th>\n",
       "      <th>$L_{p}$ [Angstrom] N = 30 PLGA in water</th>\n",
       "    </tr>\n",
       "  </thead>\n",
       "  <tbody>\n",
       "    <tr>\n",
       "      <td>0</td>\n",
       "      <td>13.649490</td>\n",
       "      <td>15.403484</td>\n",
       "      <td>17.642983</td>\n",
       "      <td>18.373911</td>\n",
       "      <td>17.727447</td>\n",
       "    </tr>\n",
       "    <tr>\n",
       "      <td>1</td>\n",
       "      <td>16.886738</td>\n",
       "      <td>17.735536</td>\n",
       "      <td>15.698494</td>\n",
       "      <td>17.418391</td>\n",
       "      <td>17.665581</td>\n",
       "    </tr>\n",
       "    <tr>\n",
       "      <td>2</td>\n",
       "      <td>18.640081</td>\n",
       "      <td>15.654572</td>\n",
       "      <td>15.497433</td>\n",
       "      <td>17.471946</td>\n",
       "      <td>17.713670</td>\n",
       "    </tr>\n",
       "    <tr>\n",
       "      <td>3</td>\n",
       "      <td>16.140974</td>\n",
       "      <td>21.156253</td>\n",
       "      <td>15.551996</td>\n",
       "      <td>19.563723</td>\n",
       "      <td>19.394280</td>\n",
       "    </tr>\n",
       "    <tr>\n",
       "      <td>4</td>\n",
       "      <td>14.735745</td>\n",
       "      <td>16.104728</td>\n",
       "      <td>14.545328</td>\n",
       "      <td>15.038379</td>\n",
       "      <td>21.468682</td>\n",
       "    </tr>\n",
       "  </tbody>\n",
       "</table>\n",
       "</div>"
      ],
      "text/plain": [
       "   $L_{p}$ [Angstrom] N = 6 PLGA in water  \\\n",
       "0                               13.649490   \n",
       "1                               16.886738   \n",
       "2                               18.640081   \n",
       "3                               16.140974   \n",
       "4                               14.735745   \n",
       "\n",
       "   $L_{p}$ [Angstrom] N = 8 PLGA in water  \\\n",
       "0                               15.403484   \n",
       "1                               17.735536   \n",
       "2                               15.654572   \n",
       "3                               21.156253   \n",
       "4                               16.104728   \n",
       "\n",
       "   $L_{p}$ [Angstrom] N = 10 PLGA in water  \\\n",
       "0                                17.642983   \n",
       "1                                15.698494   \n",
       "2                                15.497433   \n",
       "3                                15.551996   \n",
       "4                                14.545328   \n",
       "\n",
       "   $L_{p}$ [Angstrom] N = 20 PLGA in water  \\\n",
       "0                                18.373911   \n",
       "1                                17.418391   \n",
       "2                                17.471946   \n",
       "3                                19.563723   \n",
       "4                                15.038379   \n",
       "\n",
       "   $L_{p}$ [Angstrom] N = 30 PLGA in water  \n",
       "0                                17.727447  \n",
       "1                                17.665581  \n",
       "2                                17.713670  \n",
       "3                                19.394280  \n",
       "4                                21.468682  "
      ]
     },
     "execution_count": 207,
     "metadata": {},
     "output_type": "execute_result"
    }
   ],
   "source": [
    "pers_plgat_wat[r\"$L_{p}$ [Angstrom] N = 30 PLGA in water\"] = n30_blksplga_wat[\"Avg persistence length\"]\n",
    "pers_plgat_wat"
   ]
  },
  {
   "cell_type": "code",
   "execution_count": 208,
   "metadata": {},
   "outputs": [],
   "source": [
    "rgplga_olig_wat.to_pickle(\"PLGA_water_Rg.pkl\")"
   ]
  },
  {
   "cell_type": "code",
   "execution_count": 209,
   "metadata": {},
   "outputs": [],
   "source": [
    "pers_plgat_wat.to_pickle(\"PLGA_water_Lp.pkl\")"
   ]
  },
  {
   "cell_type": "markdown",
   "metadata": {},
   "source": [
    "### Fluory Exponent, PLGA/water system"
   ]
  },
  {
   "cell_type": "code",
   "execution_count": 210,
   "metadata": {},
   "outputs": [],
   "source": [
    "n_plga = np.array([6,8,10,20,30])\n",
    "rg_nplga_wat = np.array([np.mean(n6_blksplga_wat[\"Avg Radius of gyration\"])\n",
    "                    ,np.mean(n8_blksplga_wat[\"Avg Radius of gyration\"]),np.mean(n10_blksplga_wat[\"Avg Radius of gyration\"])\n",
    "                    ,np.mean(n20_blksplga_wat[\"Avg Radius of gyration\"]),np.mean(n30_blksplga_wat[\"Avg Radius of gyration\"])])"
   ]
  },
  {
   "cell_type": "code",
   "execution_count": 211,
   "metadata": {},
   "outputs": [
    {
     "data": {
      "text/plain": [
       "array([6.00185564, 6.72429829, 7.14844425, 8.38249042, 9.80598102])"
      ]
     },
     "execution_count": 211,
     "metadata": {},
     "output_type": "execute_result"
    }
   ],
   "source": [
    "rg_nplga_wat"
   ]
  },
  {
   "cell_type": "code",
   "execution_count": 212,
   "metadata": {},
   "outputs": [
    {
     "data": {
      "text/plain": [
       "array([0.02039749, 0.01577225, 0.02108252, 0.0068097 , 0.0184815 ])"
      ]
     },
     "execution_count": 212,
     "metadata": {},
     "output_type": "execute_result"
    }
   ],
   "source": [
    "rgwat_nplga_std = np.array([np.std(np.log10(n6_blksplga_wat[\"Avg Radius of gyration\"]))\n",
    "                    ,np.std(np.log10(n8_blksplga_wat[\"Avg Radius of gyration\"]))\n",
    "                        ,np.std(np.log10(n10_blksplga_wat[\"Avg Radius of gyration\"]))\n",
    "                    ,np.std(np.log10(n20_blksplga_wat[\"Avg Radius of gyration\"]))\n",
    "                        ,np.std(np.log10(n30_blksplga_wat[\"Avg Radius of gyration\"]))])\n",
    "rgwat_nplga_std"
   ]
  },
  {
   "cell_type": "code",
   "execution_count": 213,
   "metadata": {},
   "outputs": [
    {
     "data": {
      "text/plain": [
       "array([ 6,  8, 10, 20, 30])"
      ]
     },
     "execution_count": 213,
     "metadata": {},
     "output_type": "execute_result"
    }
   ],
   "source": [
    "n_plga"
   ]
  },
  {
   "cell_type": "code",
   "execution_count": 214,
   "metadata": {},
   "outputs": [
    {
     "data": {
      "text/plain": [
       "array([0.77828554, 0.82764697, 0.85421153, 0.92337307, 0.99149105])"
      ]
     },
     "execution_count": 214,
     "metadata": {},
     "output_type": "execute_result"
    }
   ],
   "source": [
    "np.log10(rg_nplga_wat)"
   ]
  },
  {
   "cell_type": "code",
   "execution_count": 215,
   "metadata": {},
   "outputs": [
    {
     "data": {
      "text/plain": [
       "array([0.77815125, 0.90308999, 1.        , 1.30103   , 1.47712125])"
      ]
     },
     "execution_count": 215,
     "metadata": {},
     "output_type": "execute_result"
    }
   ],
   "source": [
    "np.log10(n_plga)"
   ]
  },
  {
   "cell_type": "code",
   "execution_count": 216,
   "metadata": {},
   "outputs": [
    {
     "name": "stdout",
     "output_type": "stream",
     "text": [
      "Model slope:     0.2874116960461631\n",
      "Model intercept: 0.5611829819922737\n"
     ]
    }
   ],
   "source": [
    "# From fitting all points, I get best fit \n",
    "from sklearn.linear_model import LinearRegression\n",
    "model_vpwat = LinearRegression(fit_intercept=True)\n",
    "model_vpwat.fit(np.log10(n_plga).reshape(-1,1), np.log10(rg_nplga_wat))\n",
    "# Slope here is in nanometers\n",
    "print(\"Model slope:    \", model_vpwat.coef_[0])\n",
    "print(\"Model intercept:\", model_vpwat.intercept_)"
   ]
  },
  {
   "cell_type": "code",
   "execution_count": 217,
   "metadata": {},
   "outputs": [
    {
     "data": {
      "text/plain": [
       "array([0.78483275, 0.82074161, 0.84859468, 0.93511422, 0.98572491])"
      ]
     },
     "execution_count": 217,
     "metadata": {},
     "output_type": "execute_result"
    }
   ],
   "source": [
    "gg_wat = model_vpwat.predict(np.log10(n_plga.reshape(-1,1)))\n",
    "gg_wat"
   ]
  },
  {
   "cell_type": "code",
   "execution_count": 218,
   "metadata": {},
   "outputs": [
    {
     "name": "stdout",
     "output_type": "stream",
     "text": [
      "Mean Std Error: 5.864042586507378e-05\n",
      "R2 score: 0.9895053596917488\n"
     ]
    }
   ],
   "source": [
    "print(\"Mean Std Error:\", sklearn.metrics.mean_squared_error(np.log10(rg_nplga_wat), gg_wat))\n",
    "print(\"R2 score:\", sklearn.metrics.r2_score(np.log10(rg_nplga_wat), gg_wat))"
   ]
  },
  {
   "cell_type": "code",
   "execution_count": 219,
   "metadata": {},
   "outputs": [
    {
     "data": {
      "text/plain": [
       "array([-0.00654721,  0.00690536,  0.00561686, -0.01174115,  0.00576614])"
      ]
     },
     "execution_count": 219,
     "metadata": {},
     "output_type": "execute_result"
    }
   ],
   "source": [
    "# Residuals between the true y data and model y data \n",
    "resid_vwat = np.log10(rg_nplga_wat) - gg_wat\n",
    "resid_vwat"
   ]
  },
  {
   "cell_type": "code",
   "execution_count": 220,
   "metadata": {},
   "outputs": [
    {
     "data": {
      "text/plain": [
       "0.334663876760361"
      ]
     },
     "execution_count": 220,
     "metadata": {},
     "output_type": "execute_result"
    }
   ],
   "source": [
    "# How to calculate Sum((Xi - avg(X))^2): X values are the bond length values \n",
    "nt_ttwat = np.log10(n_plga)\n",
    "nt_ttwat -= np.mean(nt_ttwat)\n",
    "nhui_wat = nt_ttwat**2\n",
    "np.sum(nhui_wat)"
   ]
  },
  {
   "cell_type": "code",
   "execution_count": 221,
   "metadata": {},
   "outputs": [
    {
     "data": {
      "text/plain": [
       "2.7764451051977987"
      ]
     },
     "execution_count": 221,
     "metadata": {},
     "output_type": "execute_result"
    }
   ],
   "source": [
    "# t-value with 95 % confidence intervals \n",
    "scipy.stats.t.ppf(0.975, 4)"
   ]
  },
  {
   "cell_type": "code",
   "execution_count": 222,
   "metadata": {},
   "outputs": [
    {
     "data": {
      "text/plain": [
       "0.036752190603554"
      ]
     },
     "execution_count": 222,
     "metadata": {},
     "output_type": "execute_result"
    }
   ],
   "source": [
    "# How to calculate 95% confidence interval for the slope \n",
    "flc_vwat = scipy.stats.t.ppf(0.975, 4)*np.sqrt((np.sum(resid_vwat**2)/len(resid_vwat))/(np.sum(nhui_wat)))\n",
    "flc_vwat"
   ]
  },
  {
   "cell_type": "code",
   "execution_count": 223,
   "metadata": {},
   "outputs": [
    {
     "data": {
      "text/plain": [
       "Text(1.1, 0.95, '$v_{acetone}$ = 0.29 ± 0.04')"
      ]
     },
     "execution_count": 223,
     "metadata": {},
     "output_type": "execute_result"
    },
    {
     "data": {
      "image/png": "[encoded data removed]",
      "text/plain": [
       "<Figure size 504x504 with 1 Axes>"
      ]
     },
     "metadata": {
      "needs_background": "light"
     },
     "output_type": "display_data"
    }
   ],
   "source": [
    "plt.figure(figsize=(7,7))\n",
    "plt.errorbar(np.log10(n_plga), np.log10(rg_nplga_wat), yerr=rgwat_nplga_std, color='#A58262', linestyle=\"None\",marker='o',\n",
    "     capsize=5, capthick=1, ecolor='black')\n",
    "plt.plot(np.log10(n_plga), gg_wat, color='#A58262')\n",
    "plt.title(r'Fluory Exponent', fontsize=15)\n",
    "plt.xlabel(r'Log($N_{PLGA}$)', fontsize=15)\n",
    "plt.ylabel(r'Log($R_{g}$)', fontsize=15)\n",
    "plt.tick_params(labelsize=14)\n",
    "plt.text(1.1, 0.95, r'$v_{acetone}$ = 0.29 ± 0.04', fontsize=15, color='#A58262')"
   ]
  },
  {
   "cell_type": "code",
   "execution_count": null,
   "metadata": {},
   "outputs": [],
   "source": []
  },
  {
   "cell_type": "code",
   "execution_count": null,
   "metadata": {},
   "outputs": [],
   "source": []
  },
  {
   "cell_type": "code",
   "execution_count": null,
   "metadata": {},
   "outputs": [],
   "source": []
  }
 ],
 "metadata": {
  "kernelspec": {
   "display_name": "Python (ppc_env)",
   "language": "python",
   "name": "ppc_env"
  },
  "language_info": {
   "codemirror_mode": {
    "name": "ipython",
    "version": 3
   },
   "file_extension": ".py",
   "mimetype": "text/x-python",
   "name": "python",
   "nbconvert_exporter": "python",
   "pygments_lexer": "ipython3",
   "version": "3.6.9"
  }
 },
 "nbformat": 4,
 "nbformat_minor": 4
}
