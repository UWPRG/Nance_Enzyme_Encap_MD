{
 "cells": [
  {
   "cell_type": "code",
   "execution_count": 1,
   "metadata": {},
   "outputs": [],
   "source": [
    "#import the necessary modules \n",
    "%matplotlib inline \n",
    "import numpy as np \n",
    "import matplotlib.pyplot as plt \n",
    "import pandas as pd \n",
    "import scipy\n",
    "import sklearn\n",
    "import itertools \n",
    "from itertools import cycle \n",
    "import os.path as op\n",
    "import timeit \n",
    "import json\n",
    "import math\n"
   ]
  },
  {
   "cell_type": "code",
   "execution_count": 2,
   "metadata": {},
   "outputs": [
    {
     "data": {
      "text/plain": [
       "4"
      ]
     },
     "execution_count": 2,
     "metadata": {},
     "output_type": "execute_result"
    }
   ],
   "source": [
    "import multiprocessing as m_proc\n",
    "m_proc.cpu_count()"
   ]
  },
  {
   "cell_type": "code",
   "execution_count": 3,
   "metadata": {},
   "outputs": [],
   "source": [
    "# Import MDAnalysis\n",
    "import MDAnalysis as mda\n",
    "import statsmodels as stats\n",
    "from MDAnalysis.analysis import polymer, distances, rdf\n",
    "import matplotlib.font_manager as font_manager"
   ]
  },
  {
   "cell_type": "code",
   "execution_count": 4,
   "metadata": {},
   "outputs": [],
   "source": [
    "from polymer_MD_analysis import pers_length, get_rg_pers_poly, bavg_pers_cnt"
   ]
  },
  {
   "cell_type": "markdown",
   "metadata": {},
   "source": [
    "## PLGA/DMSO system analysis"
   ]
  },
  {
   "cell_type": "markdown",
   "metadata": {},
   "source": [
    "### N = 6"
   ]
  },
  {
   "cell_type": "code",
   "execution_count": 5,
   "metadata": {},
   "outputs": [],
   "source": [
    "# For the right Rg calculation using MD Analysis, use trajactory without pbc \n",
    "n6_plga_dmso = mda.Universe(\"n6plga_dmso/n6plgaonly_dmso.pdb\", \"n6plga_dmso/nodmso_n6plga.xtc\")"
   ]
  },
  {
   "cell_type": "code",
   "execution_count": 6,
   "metadata": {},
   "outputs": [
    {
     "data": {
      "text/plain": [
       "<XTCReader n6plga_dmso/nodmso_n6plga.xtc with 18001 frames of 93 atoms>"
      ]
     },
     "execution_count": 6,
     "metadata": {},
     "output_type": "execute_result"
    }
   ],
   "source": [
    "n6_plga_dmso.trajectory"
   ]
  },
  {
   "cell_type": "code",
   "execution_count": 7,
   "metadata": {},
   "outputs": [
    {
     "data": {
      "text/plain": [
       "18001"
      ]
     },
     "execution_count": 7,
     "metadata": {},
     "output_type": "execute_result"
    }
   ],
   "source": [
    "len(n6_plga_dmso.trajectory)"
   ]
  },
  {
   "cell_type": "code",
   "execution_count": 8,
   "metadata": {},
   "outputs": [],
   "source": [
    "#Select the polymer heavy atoms \n",
    "plga_n6dmso = n6_plga_dmso.select_atoms(\"resname sPLG PLG tPLG and not type H\")"
   ]
  },
  {
   "cell_type": "code",
   "execution_count": 9,
   "metadata": {},
   "outputs": [
    {
     "data": {
      "text/plain": [
       "array([[ 1.        ,  0.80543454,  0.76197218,  0.83473776,  0.7752539 ],\n",
       "       [ 0.        ,  1.        ,  2.        ,  3.        ,  4.        ],\n",
       "       [ 0.        , 36.34775799, 40.3616291 , 33.41145779, 39.17194194]])"
      ]
     },
     "execution_count": 9,
     "metadata": {},
     "output_type": "execute_result"
    }
   ],
   "source": [
    "crv_n6plga_dmso = pers_length(plga_n6dmso,6)\n",
    "crv_n6plga_dmso"
   ]
  },
  {
   "cell_type": "code",
   "execution_count": 10,
   "metadata": {},
   "outputs": [],
   "source": [
    "com_bond = np.zeros(shape=(1,18000))\n",
    "count = 0\n",
    "for ts in n6_plga_dmso.trajectory[0:18000]:\n",
    "    n6_mon1_dmso = n6_plga_dmso.select_atoms(\"resid 1\")\n",
    "    n6_mon2_dmso = n6_plga_dmso.select_atoms(\"resid 2\")\n",
    "    oo_len = mda.analysis.distances.distance_array(n6_mon1_dmso.center_of_mass(), n6_mon2_dmso.center_of_mass(), \n",
    "                                                   box=n6_plga_dmso.trajectory.ts.dimensions)\n",
    "    com_bond[0, count] = oo_len\n",
    "    count += 1\n",
    "    "
   ]
  },
  {
   "cell_type": "code",
   "execution_count": 11,
   "metadata": {},
   "outputs": [
    {
     "data": {
      "text/plain": [
       "array([[5.76474232, 6.12020808, 6.33092829, ..., 6.67174316, 6.9020669 ,\n",
       "        6.7657957 ]])"
      ]
     },
     "execution_count": 11,
     "metadata": {},
     "output_type": "execute_result"
    }
   ],
   "source": [
    "com_bond"
   ]
  },
  {
   "cell_type": "code",
   "execution_count": 12,
   "metadata": {},
   "outputs": [
    {
     "data": {
      "text/plain": [
       "5.736817192432176"
      ]
     },
     "execution_count": 12,
     "metadata": {},
     "output_type": "execute_result"
    }
   ],
   "source": [
    "lb_avg_pn6 = np.mean(com_bond)\n",
    "lb_avg_pn6"
   ]
  },
  {
   "cell_type": "code",
   "execution_count": 13,
   "metadata": {},
   "outputs": [
    {
     "data": {
      "text/plain": [
       "0.6924626120263444"
      ]
     },
     "execution_count": 13,
     "metadata": {},
     "output_type": "execute_result"
    }
   ],
   "source": [
    "np.std(com_bond)"
   ]
  },
  {
   "cell_type": "markdown",
   "metadata": {},
   "source": [
    "### Radius of Gyration vs. time N = 6 PLGA/DMSO system"
   ]
  },
  {
   "cell_type": "code",
   "execution_count": 14,
   "metadata": {},
   "outputs": [],
   "source": [
    "n6plga_rgens_dmso, cor_n6plga_dmso, N6plga_cos_dmso, rgace_n6plga = get_rg_pers_poly(plga_n6dmso, n6_plga_dmso, 0, 18000)"
   ]
  },
  {
   "cell_type": "code",
   "execution_count": 15,
   "metadata": {},
   "outputs": [
    {
     "data": {
      "text/plain": [
       "(18000,)"
      ]
     },
     "execution_count": 15,
     "metadata": {},
     "output_type": "execute_result"
    }
   ],
   "source": [
    "n6plga_rgens_dmso[0].shape"
   ]
  },
  {
   "cell_type": "code",
   "execution_count": 16,
   "metadata": {},
   "outputs": [
    {
     "data": {
      "text/plain": [
       "array([0., 1., 2., 3., 4.])"
      ]
     },
     "execution_count": 16,
     "metadata": {},
     "output_type": "execute_result"
    }
   ],
   "source": [
    "cor_n6plga_dmso[3]"
   ]
  },
  {
   "cell_type": "code",
   "execution_count": 17,
   "metadata": {},
   "outputs": [
    {
     "data": {
      "text/plain": [
       "array([[1.        , 1.        , 1.        , ..., 1.        , 1.        ,\n",
       "        1.        ],\n",
       "       [0.80543454, 0.79985918, 0.77751437, ..., 0.89666603, 0.88899318,\n",
       "        0.9033569 ],\n",
       "       [0.76197218, 0.75817455, 0.73101401, ..., 0.85472669, 0.81967793,\n",
       "        0.87101018],\n",
       "       [0.83473776, 0.82845572, 0.82326989, ..., 0.87836184, 0.85948937,\n",
       "        0.8864767 ],\n",
       "       [0.7752539 , 0.74466126, 0.7529875 , ..., 0.77419466, 0.75972394,\n",
       "        0.86682854]])"
      ]
     },
     "execution_count": 17,
     "metadata": {},
     "output_type": "execute_result"
    }
   ],
   "source": [
    "N6plga_cos_dmso"
   ]
  },
  {
   "cell_type": "code",
   "execution_count": 18,
   "metadata": {},
   "outputs": [
    {
     "data": {
      "text/plain": [
       "7.69155809534084"
      ]
     },
     "execution_count": 18,
     "metadata": {},
     "output_type": "execute_result"
    }
   ],
   "source": [
    "rgace_n6plga"
   ]
  },
  {
   "cell_type": "code",
   "execution_count": 19,
   "metadata": {},
   "outputs": [
    {
     "data": {
      "text/plain": [
       "1.1023076127884581"
      ]
     },
     "execution_count": 19,
     "metadata": {},
     "output_type": "execute_result"
    }
   ],
   "source": [
    "np.std(n6plga_rgens_dmso)"
   ]
  },
  {
   "cell_type": "code",
   "execution_count": 20,
   "metadata": {},
   "outputs": [
    {
     "data": {
      "text/plain": [
       "array([    0,     1,     2, ..., 17997, 17998, 17999])"
      ]
     },
     "execution_count": 20,
     "metadata": {},
     "output_type": "execute_result"
    }
   ],
   "source": [
    "trj_len = np.arange(18000)\n",
    "\n",
    "#trj_len += 1\n",
    "trj_len\n"
   ]
  },
  {
   "cell_type": "code",
   "execution_count": 21,
   "metadata": {},
   "outputs": [
    {
     "data": {
      "text/plain": [
       "(0.2, 2)"
      ]
     },
     "execution_count": 21,
     "metadata": {},
     "output_type": "execute_result"
    },
    {
     "data": {
      "image/png": "[encoded data removed]",
      "text/plain": [
       "<Figure size 504x504 with 1 Axes>"
      ]
     },
     "metadata": {
      "needs_background": "light"
     },
     "output_type": "display_data"
    }
   ],
   "source": [
    "plt.figure(figsize=(7,7))\n",
    "plt.title(r'PLGA Radius of Gyration', fontsize=18, y=1.01)\n",
    "plt.xlabel(r'Time [ns]', fontsize=15)\n",
    "plt.ylabel(r'$R_{g}$ [nm]', fontsize=15)\n",
    "plt.plot(trj_len/100, n6plga_rgens_dmso[0]/10,linewidth=2, color='#CCBE9F')\n",
    "plt.tick_params(labelsize=14)\n",
    "plt.legend(['N = 6 in DMSO'], frameon=False, fontsize=14)\n",
    "#plt.text(127, 0.96,r'N = 6 in water', fontsize=18, color='#1F2E69', family='Arial')\n",
    "plt.xlim(0,180)\n",
    "plt.ylim(0.2,2)"
   ]
  },
  {
   "cell_type": "markdown",
   "metadata": {},
   "source": [
    "#### Correlation values at each arc length for the whole 180 ns trajectory, N = 6 PLGA/DMSO"
   ]
  },
  {
   "cell_type": "code",
   "execution_count": 22,
   "metadata": {},
   "outputs": [
    {
     "data": {
      "text/plain": [
       "array([ 0.        ,  5.73681719, 11.47363438, 17.21045158, 22.94726877])"
      ]
     },
     "execution_count": 22,
     "metadata": {},
     "output_type": "execute_result"
    }
   ],
   "source": [
    "# x values\n",
    "blen_dmso = cor_n6plga_dmso[3]*lb_avg_pn6\n",
    "#nt_tt[0] = 0\n",
    "blen_dmso"
   ]
  },
  {
   "cell_type": "code",
   "execution_count": 23,
   "metadata": {},
   "outputs": [
    {
     "data": {
      "text/plain": [
       "array([6.28146008e-17, 6.56965420e-02, 2.04714065e-01, 3.73513938e-01,\n",
       "       6.52076924e-01])"
      ]
     },
     "execution_count": 23,
     "metadata": {},
     "output_type": "execute_result"
    }
   ],
   "source": [
    "mk_n6p_dmso = cor_n6plga_dmso[1]/cor_n6plga_dmso[0]\n",
    "mk_n6p_dmso"
   ]
  },
  {
   "cell_type": "code",
   "execution_count": 24,
   "metadata": {},
   "outputs": [
    {
     "data": {
      "text/plain": [
       "<ErrorbarContainer object of 3 artists>"
      ]
     },
     "execution_count": 24,
     "metadata": {},
     "output_type": "execute_result"
    },
    {
     "data": {
      "image/png": "[encoded data removed]",
      "text/plain": [
       "<Figure size 504x504 with 1 Axes>"
      ]
     },
     "metadata": {
      "needs_background": "light"
     },
     "output_type": "display_data"
    }
   ],
   "source": [
    "plt.figure(figsize=(7,7))\n",
    "plt.errorbar(blen_dmso, np.log(cor_n6plga_dmso[0]), yerr=mk_n6p_dmso, color='b', linestyle=\"None\",marker='o',\n",
    "     capsize=5, capthick=1, ecolor='black')"
   ]
  },
  {
   "cell_type": "code",
   "execution_count": 25,
   "metadata": {},
   "outputs": [
    {
     "name": "stdout",
     "output_type": "stream",
     "text": [
      "3000\n",
      "6000\n",
      "Lp [Angstroms]: 41.431109034536995\n",
      "Error in Lp from fit [Angstroms], 95% CL : 1.5551263229689032\n",
      "R2 score: 0.998333932968661\n",
      "6000\n",
      "9000\n",
      "Lp [Angstroms]: 27.965706313474392\n",
      "Error in Lp from fit [Angstroms], 95% CL : 1.818878178022168\n",
      "R2 score: 0.9951042921637483\n",
      "9000\n",
      "12000\n",
      "Lp [Angstroms]: 36.28842715203329\n",
      "Error in Lp from fit [Angstroms], 95% CL : 3.195997168074304\n",
      "R2 score: 0.9911911582950202\n",
      "12000\n",
      "15000\n",
      "Lp [Angstroms]: 33.34827245802486\n",
      "Error in Lp from fit [Angstroms], 95% CL : 3.077011830678994\n",
      "R2 score: 0.9903656864411504\n",
      "15000\n",
      "18000\n",
      "Lp [Angstroms]: 48.15232079572889\n",
      "Error in Lp from fit [Angstroms], 95% CL : 2.9412127205537555\n",
      "R2 score: 0.9952846466104291\n"
     ]
    }
   ],
   "source": [
    "# All the points give the best fits for N = 6 peg in water\n",
    "n6_blksplga_dmso , n6plga_lpdmso = bavg_pers_cnt(5, plga_n6dmso, n6_plga_dmso, lb_avg_pn6, 3, 3000 , 18000)"
   ]
  },
  {
   "cell_type": "code",
   "execution_count": 26,
   "metadata": {},
   "outputs": [
    {
     "data": {
      "text/plain": [
       "{'Avg Radius of gyration': array([7.98939671, 6.97028936, 7.74972584, 7.56602891, 8.04548209]),\n",
       " 'Avg persistence length': array([41.43110903, 27.96570631, 36.28842715, 33.34827246, 48.1523208 ])}"
      ]
     },
     "execution_count": 26,
     "metadata": {},
     "output_type": "execute_result"
    }
   ],
   "source": [
    "n6_blksplga_dmso"
   ]
  },
  {
   "cell_type": "code",
   "execution_count": 27,
   "metadata": {},
   "outputs": [
    {
     "data": {
      "text/plain": [
       "array([[ 4.14311090e+01,  2.79657063e+01,  3.62884272e+01,\n",
       "         3.33482725e+01,  4.81523208e+01],\n",
       "       [ 1.55512632e+00,  1.81887818e+00,  3.19599717e+00,\n",
       "         3.07701183e+00,  2.94121272e+00],\n",
       "       [-2.41364526e-02, -3.57580813e-02, -2.75569948e-02,\n",
       "        -2.99865608e-02, -2.07674310e-02],\n",
       "       [ 2.18869780e-05,  1.44233036e-04,  1.57072763e-04,\n",
       "         2.04138847e-04,  4.29086318e-05]])"
      ]
     },
     "execution_count": 27,
     "metadata": {},
     "output_type": "execute_result"
    }
   ],
   "source": [
    "n6plga_lpdmso"
   ]
  },
  {
   "cell_type": "code",
   "execution_count": 28,
   "metadata": {},
   "outputs": [
    {
     "data": {
      "text/plain": [
       "array([-0.02413645, -0.03575808, -0.02755699, -0.02998656, -0.02076743])"
      ]
     },
     "execution_count": 28,
     "metadata": {},
     "output_type": "execute_result"
    }
   ],
   "source": [
    "n6plga_lpdmso[2]"
   ]
  },
  {
   "cell_type": "code",
   "execution_count": 29,
   "metadata": {},
   "outputs": [
    {
     "data": {
      "text/plain": [
       "0.00011404805118309829"
      ]
     },
     "execution_count": 29,
     "metadata": {},
     "output_type": "execute_result"
    }
   ],
   "source": [
    "np.mean(n6plga_lpdmso[3])"
   ]
  },
  {
   "cell_type": "code",
   "execution_count": 30,
   "metadata": {},
   "outputs": [],
   "source": [
    "def line_fit(slope, x):\n",
    "    return slope*x "
   ]
  },
  {
   "cell_type": "code",
   "execution_count": 31,
   "metadata": {},
   "outputs": [
    {
     "data": {
      "text/plain": [
       "array([ 0.        ,  5.73681719, 11.47363438, 17.21045158, 22.94726877])"
      ]
     },
     "execution_count": 31,
     "metadata": {},
     "output_type": "execute_result"
    }
   ],
   "source": [
    "blen_dmso"
   ]
  },
  {
   "cell_type": "code",
   "execution_count": 32,
   "metadata": {},
   "outputs": [],
   "source": [
    "gg_n6plga_dmso = line_fit(np.mean(n6plga_lpdmso[2]),blen_dmso)"
   ]
  },
  {
   "cell_type": "code",
   "execution_count": 33,
   "metadata": {},
   "outputs": [
    {
     "data": {
      "text/plain": [
       "array([-0.        , -0.15857196, -0.31714392, -0.47571588, -0.63428785])"
      ]
     },
     "execution_count": 33,
     "metadata": {},
     "output_type": "execute_result"
    }
   ],
   "source": [
    "gg_n6plga_dmso"
   ]
  },
  {
   "cell_type": "markdown",
   "metadata": {},
   "source": [
    "### Block averaged Radius of gyration and persistence length, N = 6 PLGA/DMSO"
   ]
  },
  {
   "cell_type": "code",
   "execution_count": 34,
   "metadata": {},
   "outputs": [
    {
     "data": {
      "text/plain": [
       "37.437167150759684"
      ]
     },
     "execution_count": 34,
     "metadata": {},
     "output_type": "execute_result"
    }
   ],
   "source": [
    "np.mean(n6_blksplga_dmso[\"Avg persistence length\"])"
   ]
  },
  {
   "cell_type": "code",
   "execution_count": 35,
   "metadata": {},
   "outputs": [
    {
     "data": {
      "text/plain": [
       "6.906711564724062"
      ]
     },
     "execution_count": 35,
     "metadata": {},
     "output_type": "execute_result"
    }
   ],
   "source": [
    "np.std(n6_blksplga_dmso[\"Avg persistence length\"])"
   ]
  },
  {
   "cell_type": "code",
   "execution_count": 36,
   "metadata": {},
   "outputs": [
    {
     "data": {
      "text/plain": [
       "7.664184582428758"
      ]
     },
     "execution_count": 36,
     "metadata": {},
     "output_type": "execute_result"
    }
   ],
   "source": [
    "np.mean(n6_blksplga_dmso[\"Avg Radius of gyration\"])"
   ]
  },
  {
   "cell_type": "code",
   "execution_count": 37,
   "metadata": {},
   "outputs": [
    {
     "data": {
      "text/plain": [
       "0.3871932719988535"
      ]
     },
     "execution_count": 37,
     "metadata": {},
     "output_type": "execute_result"
    }
   ],
   "source": [
    "np.std(n6_blksplga_dmso[\"Avg Radius of gyration\"])"
   ]
  },
  {
   "cell_type": "code",
   "execution_count": 38,
   "metadata": {},
   "outputs": [
    {
     "data": {
      "image/png": "[encoded data removed]",
      "text/plain": [
       "<Figure size 504x504 with 1 Axes>"
      ]
     },
     "metadata": {
      "needs_background": "light"
     },
     "output_type": "display_data"
    }
   ],
   "source": [
    "plt.figure(figsize=(7,7))\n",
    "plt.errorbar(blen_dmso, np.log(cor_n6plga_dmso[0]), yerr=mk_n6p_dmso, color='b', linestyle=\"None\",marker='o',\n",
    "     capsize=5, capthick=1, ecolor='black')\n",
    "plt.plot(blen_dmso, gg_n6plga_dmso, color='b')\n",
    "plt.title(r'Ensemble Averaged ln(Cosine $\\theta$) in DMSO', fontsize=15, y=1.01)\n",
    "plt.xlabel(r'Bond Length', fontsize=15)\n",
    "plt.ylabel(r'ln$\\left< Cos(\\theta)\\right >$', fontsize=15)\n",
    "#plt.ylim(-1.9,0)\n",
    "font = font_manager.FontProperties(family='Arial', style='normal', size='14')\n",
    "plt.legend([r'$N_{PLGA}$ = 6: $L_{p}$ = 37.4 $\\AA$ ± 6.91 $\\AA$'], loc=3, frameon=0, fontsize=14, prop=font)\n",
    "plt.tick_params(labelsize=14)\n",
    "#plt.text(5,-0.15,r'R$^{2}$ = 0.98', fontsize=15, color='blue')"
   ]
  },
  {
   "cell_type": "code",
   "execution_count": 39,
   "metadata": {},
   "outputs": [
    {
     "data": {
      "text/html": [
       "<div>\n",
       "<style scoped>\n",
       "    .dataframe tbody tr th:only-of-type {\n",
       "        vertical-align: middle;\n",
       "    }\n",
       "\n",
       "    .dataframe tbody tr th {\n",
       "        vertical-align: top;\n",
       "    }\n",
       "\n",
       "    .dataframe thead th {\n",
       "        text-align: right;\n",
       "    }\n",
       "</style>\n",
       "<table border=\"1\" class=\"dataframe\">\n",
       "  <thead>\n",
       "    <tr style=\"text-align: right;\">\n",
       "      <th></th>\n",
       "      <th>$R_{g}$ [Angstrom] N = 6 PLGA DMSO</th>\n",
       "    </tr>\n",
       "  </thead>\n",
       "  <tbody>\n",
       "    <tr>\n",
       "      <td>0</td>\n",
       "      <td>7.989397</td>\n",
       "    </tr>\n",
       "    <tr>\n",
       "      <td>1</td>\n",
       "      <td>6.970289</td>\n",
       "    </tr>\n",
       "    <tr>\n",
       "      <td>2</td>\n",
       "      <td>7.749726</td>\n",
       "    </tr>\n",
       "    <tr>\n",
       "      <td>3</td>\n",
       "      <td>7.566029</td>\n",
       "    </tr>\n",
       "    <tr>\n",
       "      <td>4</td>\n",
       "      <td>8.045482</td>\n",
       "    </tr>\n",
       "  </tbody>\n",
       "</table>\n",
       "</div>"
      ],
      "text/plain": [
       "   $R_{g}$ [Angstrom] N = 6 PLGA DMSO\n",
       "0                            7.989397\n",
       "1                            6.970289\n",
       "2                            7.749726\n",
       "3                            7.566029\n",
       "4                            8.045482"
      ]
     },
     "execution_count": 39,
     "metadata": {},
     "output_type": "execute_result"
    }
   ],
   "source": [
    "rgplga_olig_dmso =  pd.DataFrame(data=n6_blksplga_dmso[\"Avg Radius of gyration\"], columns=['$R_{g}$ [Angstrom] N = 6 PLGA DMSO'])\n",
    "rgplga_olig_dmso"
   ]
  },
  {
   "cell_type": "code",
   "execution_count": 40,
   "metadata": {},
   "outputs": [
    {
     "data": {
      "text/html": [
       "<div>\n",
       "<style scoped>\n",
       "    .dataframe tbody tr th:only-of-type {\n",
       "        vertical-align: middle;\n",
       "    }\n",
       "\n",
       "    .dataframe tbody tr th {\n",
       "        vertical-align: top;\n",
       "    }\n",
       "\n",
       "    .dataframe thead th {\n",
       "        text-align: right;\n",
       "    }\n",
       "</style>\n",
       "<table border=\"1\" class=\"dataframe\">\n",
       "  <thead>\n",
       "    <tr style=\"text-align: right;\">\n",
       "      <th></th>\n",
       "      <th>$L_{p}$ [Angstrom] N = 6 PLGA DMSO</th>\n",
       "    </tr>\n",
       "  </thead>\n",
       "  <tbody>\n",
       "    <tr>\n",
       "      <td>0</td>\n",
       "      <td>41.431109</td>\n",
       "    </tr>\n",
       "    <tr>\n",
       "      <td>1</td>\n",
       "      <td>27.965706</td>\n",
       "    </tr>\n",
       "    <tr>\n",
       "      <td>2</td>\n",
       "      <td>36.288427</td>\n",
       "    </tr>\n",
       "    <tr>\n",
       "      <td>3</td>\n",
       "      <td>33.348272</td>\n",
       "    </tr>\n",
       "    <tr>\n",
       "      <td>4</td>\n",
       "      <td>48.152321</td>\n",
       "    </tr>\n",
       "  </tbody>\n",
       "</table>\n",
       "</div>"
      ],
      "text/plain": [
       "   $L_{p}$ [Angstrom] N = 6 PLGA DMSO \n",
       "0                            41.431109\n",
       "1                            27.965706\n",
       "2                            36.288427\n",
       "3                            33.348272\n",
       "4                            48.152321"
      ]
     },
     "execution_count": 40,
     "metadata": {},
     "output_type": "execute_result"
    }
   ],
   "source": [
    "pers_plgat_dmso = pd.DataFrame(data=n6_blksplga_dmso[\"Avg persistence length\"], columns=[r\"$L_{p}$ [Angstrom] N = 6 PLGA DMSO \"])\n",
    "pers_plgat_dmso"
   ]
  },
  {
   "cell_type": "code",
   "execution_count": null,
   "metadata": {},
   "outputs": [],
   "source": []
  },
  {
   "cell_type": "code",
   "execution_count": null,
   "metadata": {},
   "outputs": [],
   "source": []
  },
  {
   "cell_type": "markdown",
   "metadata": {},
   "source": [
    "### N = 8 PLGA/DMSO only"
   ]
  },
  {
   "cell_type": "code",
   "execution_count": 41,
   "metadata": {},
   "outputs": [],
   "source": [
    "# For the right Rg calculation using MD Analysis, use trajactory without pbc \n",
    "n8_plga_dmso = mda.Universe(\"n8plga_dmso/n8plgaonly_dmso.pdb\", \"n8plga_dmso/nodmso_n8plga.xtc\")"
   ]
  },
  {
   "cell_type": "code",
   "execution_count": 42,
   "metadata": {},
   "outputs": [
    {
     "data": {
      "text/plain": [
       "<XTCReader n8plga_dmso/nodmso_n8plga.xtc with 18001 frames of 123 atoms>"
      ]
     },
     "execution_count": 42,
     "metadata": {},
     "output_type": "execute_result"
    }
   ],
   "source": [
    "n8_plga_dmso.trajectory"
   ]
  },
  {
   "cell_type": "code",
   "execution_count": 43,
   "metadata": {},
   "outputs": [
    {
     "data": {
      "text/plain": [
       "18001"
      ]
     },
     "execution_count": 43,
     "metadata": {},
     "output_type": "execute_result"
    }
   ],
   "source": [
    "len(n8_plga_dmso.trajectory)"
   ]
  },
  {
   "cell_type": "code",
   "execution_count": 44,
   "metadata": {},
   "outputs": [],
   "source": [
    "#Select the polymer heavy atoms \n",
    "plga_n8dmso = n8_plga_dmso.select_atoms(\"resname sPLG PLG tPLG and not type H\")"
   ]
  },
  {
   "cell_type": "code",
   "execution_count": 45,
   "metadata": {},
   "outputs": [
    {
     "data": {
      "text/plain": [
       "array([[ 1.        ,  0.92202687,  0.8855667 ,  0.84712413,  0.81374987,\n",
       "         0.79992193,  0.88121899],\n",
       "       [ 0.        ,  1.        ,  2.        ,  3.        ,  4.        ,\n",
       "         5.        ,  6.        ],\n",
       "       [ 0.        , 22.77578122, 27.67865973, 32.0997624 , 35.53606078,\n",
       "        36.87735181, 28.21023944]])"
      ]
     },
     "execution_count": 45,
     "metadata": {},
     "output_type": "execute_result"
    }
   ],
   "source": [
    "crv_n8plga_dmso = pers_length(plga_n8dmso,8)\n",
    "crv_n8plga_dmso"
   ]
  },
  {
   "cell_type": "code",
   "execution_count": 46,
   "metadata": {},
   "outputs": [],
   "source": [
    "com_bond_n8dmso = np.zeros(shape=(1,18000))\n",
    "count = 0\n",
    "for ts in n8_plga_dmso.trajectory[0:18000]:\n",
    "    n8_mon1_dmso = n8_plga_dmso.select_atoms(\"resid 1\")\n",
    "    n8_mon2_dmso = n8_plga_dmso.select_atoms(\"resid 2\")\n",
    "    oo_len = mda.analysis.distances.distance_array(n8_mon1_dmso.center_of_mass(), n8_mon2_dmso.center_of_mass(), \n",
    "                                                   box=n8_plga_dmso.trajectory.ts.dimensions)\n",
    "    com_bond_n8dmso[0, count] = oo_len\n",
    "    count += 1\n",
    "    "
   ]
  },
  {
   "cell_type": "code",
   "execution_count": 47,
   "metadata": {},
   "outputs": [
    {
     "data": {
      "text/plain": [
       "array([[5.76474232, 6.12020808, 6.33092829, ..., 6.67174316, 6.9020669 ,\n",
       "        6.7657957 ]])"
      ]
     },
     "execution_count": 47,
     "metadata": {},
     "output_type": "execute_result"
    }
   ],
   "source": [
    "com_bond"
   ]
  },
  {
   "cell_type": "code",
   "execution_count": 48,
   "metadata": {},
   "outputs": [
    {
     "data": {
      "text/plain": [
       "0.6924626120263444"
      ]
     },
     "execution_count": 48,
     "metadata": {},
     "output_type": "execute_result"
    }
   ],
   "source": [
    "np.std(com_bond)"
   ]
  },
  {
   "cell_type": "code",
   "execution_count": 49,
   "metadata": {},
   "outputs": [
    {
     "data": {
      "text/plain": [
       "5.736817192432176"
      ]
     },
     "execution_count": 49,
     "metadata": {},
     "output_type": "execute_result"
    }
   ],
   "source": [
    "lb_avg_pn6 = np.mean(com_bond)\n",
    "lb_avg_pn6"
   ]
  },
  {
   "cell_type": "code",
   "execution_count": 50,
   "metadata": {},
   "outputs": [
    {
     "data": {
      "text/plain": [
       "5.808857380493631"
      ]
     },
     "execution_count": 50,
     "metadata": {},
     "output_type": "execute_result"
    }
   ],
   "source": [
    "np.mean(com_bond_n8dmso)"
   ]
  },
  {
   "cell_type": "code",
   "execution_count": 51,
   "metadata": {},
   "outputs": [
    {
     "data": {
      "text/plain": [
       "0.6853297603652814"
      ]
     },
     "execution_count": 51,
     "metadata": {},
     "output_type": "execute_result"
    }
   ],
   "source": [
    "np.std(com_bond_n8dmso)"
   ]
  },
  {
   "cell_type": "markdown",
   "metadata": {},
   "source": [
    "### Radius of Gyration vs. time N = 8 PLGA/DMSO system"
   ]
  },
  {
   "cell_type": "code",
   "execution_count": 52,
   "metadata": {},
   "outputs": [],
   "source": [
    "n8plga_rgens_dmso, cor_n8plga_dmso, N8plga_cos_dmso, rgace_n8plga = get_rg_pers_poly(plga_n8dmso, n8_plga_dmso, 0, 18000)"
   ]
  },
  {
   "cell_type": "code",
   "execution_count": 53,
   "metadata": {},
   "outputs": [
    {
     "data": {
      "text/plain": [
       "(18000,)"
      ]
     },
     "execution_count": 53,
     "metadata": {},
     "output_type": "execute_result"
    }
   ],
   "source": [
    "n8plga_rgens_dmso[0].shape"
   ]
  },
  {
   "cell_type": "code",
   "execution_count": 54,
   "metadata": {},
   "outputs": [
    {
     "data": {
      "text/plain": [
       "array([0., 1., 2., 3., 4., 5., 6.])"
      ]
     },
     "execution_count": 54,
     "metadata": {},
     "output_type": "execute_result"
    }
   ],
   "source": [
    "cor_n8plga_dmso[3]"
   ]
  },
  {
   "cell_type": "code",
   "execution_count": 55,
   "metadata": {},
   "outputs": [
    {
     "data": {
      "text/plain": [
       "array([[ 1.        ,  1.        ,  1.        , ...,  1.        ,\n",
       "         1.        ,  1.        ],\n",
       "       [ 0.92202687,  0.91718924,  0.89498727, ...,  0.78724553,\n",
       "         0.76976871,  0.82054554],\n",
       "       [ 0.8855667 ,  0.87692283,  0.8567479 , ...,  0.52893115,\n",
       "         0.5151239 ,  0.56213736],\n",
       "       ...,\n",
       "       [ 0.81374987,  0.8551739 ,  0.83804701, ...,  0.34808329,\n",
       "         0.47264132,  0.38214751],\n",
       "       [ 0.79992193,  0.87689938,  0.84350289, ..., -0.15807919,\n",
       "        -0.08824616, -0.12180612],\n",
       "       [ 0.88121899,  0.92621639,  0.86602435, ..., -0.52082638,\n",
       "        -0.51802202, -0.45502845]])"
      ]
     },
     "execution_count": 55,
     "metadata": {},
     "output_type": "execute_result"
    }
   ],
   "source": [
    "N8plga_cos_dmso"
   ]
  },
  {
   "cell_type": "code",
   "execution_count": 56,
   "metadata": {},
   "outputs": [
    {
     "data": {
      "text/plain": [
       "8.916496948834338"
      ]
     },
     "execution_count": 56,
     "metadata": {},
     "output_type": "execute_result"
    }
   ],
   "source": [
    "rgace_n8plga"
   ]
  },
  {
   "cell_type": "code",
   "execution_count": 57,
   "metadata": {},
   "outputs": [
    {
     "data": {
      "text/plain": [
       "1.5910936332951087"
      ]
     },
     "execution_count": 57,
     "metadata": {},
     "output_type": "execute_result"
    }
   ],
   "source": [
    "np.std(n8plga_rgens_dmso)"
   ]
  },
  {
   "cell_type": "code",
   "execution_count": 58,
   "metadata": {},
   "outputs": [
    {
     "data": {
      "text/plain": [
       "(0.2, 2)"
      ]
     },
     "execution_count": 58,
     "metadata": {},
     "output_type": "execute_result"
    },
    {
     "data": {
      "image/png": "[encoded data removed]",
      "text/plain": [
       "<Figure size 504x504 with 1 Axes>"
      ]
     },
     "metadata": {
      "needs_background": "light"
     },
     "output_type": "display_data"
    }
   ],
   "source": [
    "plt.figure(figsize=(7,7))\n",
    "plt.title(r'PEG Radius of Gyration', fontsize=18, y=1.01)\n",
    "plt.xlabel(r'Time [ns]', fontsize=15)\n",
    "plt.ylabel(r'$R_{g}$ [nm]', fontsize=15)\n",
    "plt.plot(trj_len/100, n6plga_rgens_dmso[0]/10,linewidth=2, color='#CCBE9F')\n",
    "plt.plot(trj_len/100, n8plga_rgens_dmso[0]/10,linewidth=2, color='#601A4A')\n",
    "plt.tick_params(labelsize=14)\n",
    "plt.legend(['N = 6 in DMSO','N = 8 in DMSO'], frameon=False, fontsize=14)\n",
    "#plt.text(127, 0.96,r'N = 6 in water', fontsize=18, color='#1F2E69', family='Arial')\n",
    "plt.xlim(0,180)\n",
    "plt.ylim(0.2,2)"
   ]
  },
  {
   "cell_type": "markdown",
   "metadata": {},
   "source": [
    "#### Correlation values at each arc length for the whole 180 ns trajectory, N = 8 PLGA/DMSO"
   ]
  },
  {
   "cell_type": "code",
   "execution_count": 59,
   "metadata": {},
   "outputs": [
    {
     "data": {
      "text/plain": [
       "array([ 0.        ,  5.73681719, 11.47363438, 17.21045158, 22.94726877,\n",
       "       28.68408596, 34.42090315])"
      ]
     },
     "execution_count": 59,
     "metadata": {},
     "output_type": "execute_result"
    }
   ],
   "source": [
    "# x values\n",
    "blen_n8dmso = cor_n8plga_dmso[3]*lb_avg_pn6\n",
    "#nt_tt[0] = 0\n",
    "blen_n8dmso"
   ]
  },
  {
   "cell_type": "code",
   "execution_count": 60,
   "metadata": {},
   "outputs": [
    {
     "data": {
      "text/plain": [
       "array([4.10348870e-17, 6.12018903e-02, 1.93562617e-01, 3.37928823e-01,\n",
       "       4.45238066e-01, 6.75470527e-01, 1.22368705e+00])"
      ]
     },
     "execution_count": 60,
     "metadata": {},
     "output_type": "execute_result"
    }
   ],
   "source": [
    "mk_n8p_dmso = cor_n8plga_dmso[1]/cor_n8plga_dmso[0]\n",
    "mk_n8p_dmso"
   ]
  },
  {
   "cell_type": "code",
   "execution_count": 61,
   "metadata": {},
   "outputs": [
    {
     "data": {
      "text/plain": [
       "<ErrorbarContainer object of 3 artists>"
      ]
     },
     "execution_count": 61,
     "metadata": {},
     "output_type": "execute_result"
    },
    {
     "data": {
      "image/png": "[encoded data removed]",
      "text/plain": [
       "<Figure size 504x504 with 1 Axes>"
      ]
     },
     "metadata": {
      "needs_background": "light"
     },
     "output_type": "display_data"
    }
   ],
   "source": [
    "plt.figure(figsize=(7,7))\n",
    "plt.errorbar(blen_dmso, np.log(cor_n6plga_dmso[0]), yerr=mk_n6p_dmso, color='#CCBE9F', linestyle=\"None\",marker='o',\n",
    "     capsize=5, capthick=1, ecolor='black')\n",
    "plt.errorbar(blen_n8dmso, np.log(cor_n8plga_dmso[0]), yerr=mk_n8p_dmso, color='#601A4A', linestyle=\"None\",marker='o',\n",
    "     capsize=5, capthick=1, ecolor='black')"
   ]
  },
  {
   "cell_type": "code",
   "execution_count": 62,
   "metadata": {},
   "outputs": [
    {
     "name": "stdout",
     "output_type": "stream",
     "text": [
      "3000\n",
      "6000\n",
      "Lp [Angstroms]: 31.995460121299896\n",
      "Error in Lp from fit [Angstroms], 95% CL : 0.7152091434070462\n",
      "R2 score: 0.998309548983287\n",
      "6000\n",
      "9000\n",
      "Lp [Angstroms]: 39.314314683233206\n",
      "Error in Lp from fit [Angstroms], 95% CL : 1.1571235123858041\n",
      "R2 score: 0.9971415114534102\n",
      "9000\n",
      "12000\n",
      "Lp [Angstroms]: 29.332022357957623\n",
      "Error in Lp from fit [Angstroms], 95% CL : 2.9881212654986378\n",
      "R2 score: 0.963822711742932\n",
      "12000\n",
      "15000\n",
      "Lp [Angstroms]: 31.320345409422707\n",
      "Error in Lp from fit [Angstroms], 95% CL : 1.2687628927558166\n",
      "R2 score: 0.9944794201812682\n",
      "15000\n",
      "18000\n",
      "Lp [Angstroms]: 21.915797703230478\n",
      "Error in Lp from fit [Angstroms], 95% CL : 1.8934774608079379\n",
      "R2 score: 0.9778119714247109\n"
     ]
    }
   ],
   "source": [
    "# All the points give the best fits for N = 6 peg in water\n",
    "n8_blksplga_dmso , n8plga_lpdmso = bavg_pers_cnt(5, plga_n8dmso, n8_plga_dmso, lb_avg_pn6, 4, 3000 , 18000)"
   ]
  },
  {
   "cell_type": "code",
   "execution_count": 63,
   "metadata": {},
   "outputs": [
    {
     "data": {
      "text/plain": [
       "{'Avg Radius of gyration': array([8.97019451, 9.8191663 , 8.29336145, 8.91247409, 7.76694334]),\n",
       " 'Avg persistence length': array([31.99546012, 39.31431468, 29.33202236, 31.32034541, 21.9157977 ])}"
      ]
     },
     "execution_count": 63,
     "metadata": {},
     "output_type": "execute_result"
    }
   ],
   "source": [
    "n8_blksplga_dmso"
   ]
  },
  {
   "cell_type": "code",
   "execution_count": 64,
   "metadata": {},
   "outputs": [
    {
     "data": {
      "text/plain": [
       "array([[ 3.19954601e+01,  3.93143147e+01,  2.93320224e+01,\n",
       "         3.13203454e+01,  2.19157977e+01],\n",
       "       [ 7.15209143e-01,  1.15712351e+00,  2.98812127e+00,\n",
       "         1.26876289e+00,  1.89347746e+00],\n",
       "       [-3.12544341e-02, -2.54360278e-02, -3.40924328e-02,\n",
       "        -3.19281281e-02, -4.56291856e-02],\n",
       "       [ 6.93921886e-05,  7.96809509e-05,  1.71485071e-03,\n",
       "         2.37822355e-04,  2.20947482e-03]])"
      ]
     },
     "execution_count": 64,
     "metadata": {},
     "output_type": "execute_result"
    }
   ],
   "source": [
    "n8plga_lpdmso"
   ]
  },
  {
   "cell_type": "code",
   "execution_count": 65,
   "metadata": {},
   "outputs": [
    {
     "data": {
      "text/plain": [
       "array([-0.03125443, -0.02543603, -0.03409243, -0.03192813, -0.04562919])"
      ]
     },
     "execution_count": 65,
     "metadata": {},
     "output_type": "execute_result"
    }
   ],
   "source": [
    "n8plga_lpdmso[2]"
   ]
  },
  {
   "cell_type": "code",
   "execution_count": 66,
   "metadata": {},
   "outputs": [
    {
     "data": {
      "text/plain": [
       "0.0008622442049330905"
      ]
     },
     "execution_count": 66,
     "metadata": {},
     "output_type": "execute_result"
    }
   ],
   "source": [
    "np.mean(n8plga_lpdmso[3])"
   ]
  },
  {
   "cell_type": "code",
   "execution_count": 67,
   "metadata": {},
   "outputs": [
    {
     "data": {
      "text/plain": [
       "array([ 0.        ,  5.73681719, 11.47363438, 17.21045158, 22.94726877,\n",
       "       28.68408596, 34.42090315])"
      ]
     },
     "execution_count": 67,
     "metadata": {},
     "output_type": "execute_result"
    }
   ],
   "source": [
    "blen_n8dmso"
   ]
  },
  {
   "cell_type": "code",
   "execution_count": 68,
   "metadata": {},
   "outputs": [],
   "source": [
    "gg_n8plga_dmso = line_fit(np.mean(n8plga_lpdmso[2]),blen_n8dmso)"
   ]
  },
  {
   "cell_type": "code",
   "execution_count": 69,
   "metadata": {},
   "outputs": [],
   "source": [
    "gg_n6plga_n8dmso = line_fit(np.mean(n6plga_lpdmso[2]),blen_n8dmso)"
   ]
  },
  {
   "cell_type": "code",
   "execution_count": 70,
   "metadata": {},
   "outputs": [
    {
     "data": {
      "text/plain": [
       "array([-0.       , -0.1931474, -0.3862948, -0.5794422, -0.7725896,\n",
       "       -0.965737 , -1.1588844])"
      ]
     },
     "execution_count": 70,
     "metadata": {},
     "output_type": "execute_result"
    }
   ],
   "source": [
    "gg_n8plga_dmso"
   ]
  },
  {
   "cell_type": "markdown",
   "metadata": {},
   "source": [
    "### Block averaged Radius of gyration and persistence length, N = 8 PLGA/DMSO"
   ]
  },
  {
   "cell_type": "code",
   "execution_count": 71,
   "metadata": {},
   "outputs": [
    {
     "data": {
      "text/plain": [
       "30.775588055028784"
      ]
     },
     "execution_count": 71,
     "metadata": {},
     "output_type": "execute_result"
    }
   ],
   "source": [
    "np.mean(n8_blksplga_dmso[\"Avg persistence length\"])"
   ]
  },
  {
   "cell_type": "code",
   "execution_count": 72,
   "metadata": {},
   "outputs": [
    {
     "data": {
      "text/plain": [
       "5.572691770841466"
      ]
     },
     "execution_count": 72,
     "metadata": {},
     "output_type": "execute_result"
    }
   ],
   "source": [
    "np.std(n8_blksplga_dmso[\"Avg persistence length\"])"
   ]
  },
  {
   "cell_type": "code",
   "execution_count": 73,
   "metadata": {},
   "outputs": [
    {
     "data": {
      "text/plain": [
       "8.75242793711924"
      ]
     },
     "execution_count": 73,
     "metadata": {},
     "output_type": "execute_result"
    }
   ],
   "source": [
    "np.mean(n8_blksplga_dmso[\"Avg Radius of gyration\"])"
   ]
  },
  {
   "cell_type": "code",
   "execution_count": 74,
   "metadata": {},
   "outputs": [
    {
     "data": {
      "text/plain": [
       "0.6917932804889285"
      ]
     },
     "execution_count": 74,
     "metadata": {},
     "output_type": "execute_result"
    }
   ],
   "source": [
    "np.std(n8_blksplga_dmso[\"Avg Radius of gyration\"])"
   ]
  },
  {
   "cell_type": "code",
   "execution_count": 75,
   "metadata": {},
   "outputs": [
    {
     "data": {
      "text/plain": [
       "Text(0.5, -6.54, '$N_{PLGA}$ = 8: $L_{p}$ = 30.8 $\\\\AA$ ± 5.57 $\\\\AA$')"
      ]
     },
     "execution_count": 75,
     "metadata": {},
     "output_type": "execute_result"
    },
    {
     "data": {
      "image/png": "[encoded data removed]",
      "text/plain": [
       "<Figure size 504x504 with 1 Axes>"
      ]
     },
     "metadata": {
      "needs_background": "light"
     },
     "output_type": "display_data"
    }
   ],
   "source": [
    "plt.figure(figsize=(7,7))\n",
    "plt.errorbar(blen_dmso, np.log(cor_n6plga_dmso[0]), yerr=mk_n6p_dmso, color='#CCBE9F', linestyle=\"None\",marker='o',\n",
    "     capsize=5, capthick=1, ecolor='black')\n",
    "plt.errorbar(blen_n8dmso, np.log(cor_n8plga_dmso[0]), yerr=mk_n8p_dmso, color='#601A4A', linestyle=\"None\",marker='o',\n",
    "     capsize=5, capthick=1, ecolor='black')\n",
    "plt.plot(blen_n8dmso, gg_n6plga_n8dmso, color='#CCBE9F')\n",
    "plt.plot(blen_n8dmso, gg_n8plga_dmso, color='#601A4A')\n",
    "plt.title(r'Ensemble Averaged ln(Cosine $\\theta$) in DMSO', fontsize=15, y=1.01)\n",
    "plt.xlabel(r'Bond Length', fontsize=15)\n",
    "plt.ylabel(r'ln$\\left< Cos(\\theta)\\right >$', fontsize=15)\n",
    "plt.ylim(-7,1)\n",
    "plt.xlim(0,90)\n",
    "font = font_manager.FontProperties(family='Arial', style='normal', size='14')\n",
    "#plt.legend([r'$N_{PEG}$ = 6: $L_{p}$ = 10.7 $\\AA$ ± 1.62 $\\AA$'], loc=3, frameon=0, fontsize=14, prop=font)\n",
    "plt.tick_params(labelsize=14)\n",
    "plt.text(0.5, -6.92,r'$N_{PLGA}$ = 6: $L_{p}$ = 37.4 $\\AA$ ± 6.91 $\\AA$', fontsize=15, color='#CCBE9F')\n",
    "plt.text(0.5, -6.54,r'$N_{PLGA}$ = 8: $L_{p}$ = 30.8 $\\AA$ ± 5.57 $\\AA$', fontsize=15, color='#601A4A')"
   ]
  },
  {
   "cell_type": "code",
   "execution_count": 76,
   "metadata": {},
   "outputs": [
    {
     "data": {
      "text/html": [
       "<div>\n",
       "<style scoped>\n",
       "    .dataframe tbody tr th:only-of-type {\n",
       "        vertical-align: middle;\n",
       "    }\n",
       "\n",
       "    .dataframe tbody tr th {\n",
       "        vertical-align: top;\n",
       "    }\n",
       "\n",
       "    .dataframe thead th {\n",
       "        text-align: right;\n",
       "    }\n",
       "</style>\n",
       "<table border=\"1\" class=\"dataframe\">\n",
       "  <thead>\n",
       "    <tr style=\"text-align: right;\">\n",
       "      <th></th>\n",
       "      <th>$R_{g}$ [Angstrom] N = 6 PLGA DMSO</th>\n",
       "      <th>$R_{g}$ [Angstrom] N = 8 PLGA DMSO</th>\n",
       "    </tr>\n",
       "  </thead>\n",
       "  <tbody>\n",
       "    <tr>\n",
       "      <td>0</td>\n",
       "      <td>7.989397</td>\n",
       "      <td>8.970195</td>\n",
       "    </tr>\n",
       "    <tr>\n",
       "      <td>1</td>\n",
       "      <td>6.970289</td>\n",
       "      <td>9.819166</td>\n",
       "    </tr>\n",
       "    <tr>\n",
       "      <td>2</td>\n",
       "      <td>7.749726</td>\n",
       "      <td>8.293361</td>\n",
       "    </tr>\n",
       "    <tr>\n",
       "      <td>3</td>\n",
       "      <td>7.566029</td>\n",
       "      <td>8.912474</td>\n",
       "    </tr>\n",
       "    <tr>\n",
       "      <td>4</td>\n",
       "      <td>8.045482</td>\n",
       "      <td>7.766943</td>\n",
       "    </tr>\n",
       "  </tbody>\n",
       "</table>\n",
       "</div>"
      ],
      "text/plain": [
       "   $R_{g}$ [Angstrom] N = 6 PLGA DMSO  $R_{g}$ [Angstrom] N = 8 PLGA DMSO\n",
       "0                            7.989397                            8.970195\n",
       "1                            6.970289                            9.819166\n",
       "2                            7.749726                            8.293361\n",
       "3                            7.566029                            8.912474\n",
       "4                            8.045482                            7.766943"
      ]
     },
     "execution_count": 76,
     "metadata": {},
     "output_type": "execute_result"
    }
   ],
   "source": [
    "rgplga_olig_dmso[r\"$R_{g}$ [Angstrom] N = 8 PLGA DMSO\"] = n8_blksplga_dmso[\"Avg Radius of gyration\"]\n",
    "rgplga_olig_dmso"
   ]
  },
  {
   "cell_type": "code",
   "execution_count": 77,
   "metadata": {},
   "outputs": [
    {
     "data": {
      "text/html": [
       "<div>\n",
       "<style scoped>\n",
       "    .dataframe tbody tr th:only-of-type {\n",
       "        vertical-align: middle;\n",
       "    }\n",
       "\n",
       "    .dataframe tbody tr th {\n",
       "        vertical-align: top;\n",
       "    }\n",
       "\n",
       "    .dataframe thead th {\n",
       "        text-align: right;\n",
       "    }\n",
       "</style>\n",
       "<table border=\"1\" class=\"dataframe\">\n",
       "  <thead>\n",
       "    <tr style=\"text-align: right;\">\n",
       "      <th></th>\n",
       "      <th>$L_{p}$ [Angstrom] N = 6 PLGA DMSO</th>\n",
       "      <th>$L_{p}$ [Angstrom] N = 8 PLGA DMSO</th>\n",
       "    </tr>\n",
       "  </thead>\n",
       "  <tbody>\n",
       "    <tr>\n",
       "      <td>0</td>\n",
       "      <td>41.431109</td>\n",
       "      <td>31.995460</td>\n",
       "    </tr>\n",
       "    <tr>\n",
       "      <td>1</td>\n",
       "      <td>27.965706</td>\n",
       "      <td>39.314315</td>\n",
       "    </tr>\n",
       "    <tr>\n",
       "      <td>2</td>\n",
       "      <td>36.288427</td>\n",
       "      <td>29.332022</td>\n",
       "    </tr>\n",
       "    <tr>\n",
       "      <td>3</td>\n",
       "      <td>33.348272</td>\n",
       "      <td>31.320345</td>\n",
       "    </tr>\n",
       "    <tr>\n",
       "      <td>4</td>\n",
       "      <td>48.152321</td>\n",
       "      <td>21.915798</td>\n",
       "    </tr>\n",
       "  </tbody>\n",
       "</table>\n",
       "</div>"
      ],
      "text/plain": [
       "   $L_{p}$ [Angstrom] N = 6 PLGA DMSO   $L_{p}$ [Angstrom] N = 8 PLGA DMSO \n",
       "0                            41.431109                            31.995460\n",
       "1                            27.965706                            39.314315\n",
       "2                            36.288427                            29.332022\n",
       "3                            33.348272                            31.320345\n",
       "4                            48.152321                            21.915798"
      ]
     },
     "execution_count": 77,
     "metadata": {},
     "output_type": "execute_result"
    }
   ],
   "source": [
    "pers_plgat_dmso[r\"$L_{p}$ [Angstrom] N = 8 PLGA DMSO \"] = n8_blksplga_dmso[\"Avg persistence length\"]\n",
    "pers_plgat_dmso"
   ]
  },
  {
   "cell_type": "code",
   "execution_count": null,
   "metadata": {},
   "outputs": [],
   "source": []
  },
  {
   "cell_type": "markdown",
   "metadata": {},
   "source": [
    "### N = 10 PLGA/DMSO"
   ]
  },
  {
   "cell_type": "code",
   "execution_count": 78,
   "metadata": {},
   "outputs": [],
   "source": [
    "# For the right Rg calculation using MD Analysis, use trajactory without pbc \n",
    "n10_plga_dmso = mda.Universe(\"n10plga_dmso/n10plgaonly_dmso.pdb\", \"n10plga_dmso/nodmso_n10plga.xtc\")"
   ]
  },
  {
   "cell_type": "code",
   "execution_count": 79,
   "metadata": {},
   "outputs": [
    {
     "data": {
      "text/plain": [
       "<XTCReader n10plga_dmso/nodmso_n10plga.xtc with 18001 frames of 153 atoms>"
      ]
     },
     "execution_count": 79,
     "metadata": {},
     "output_type": "execute_result"
    }
   ],
   "source": [
    "n10_plga_dmso.trajectory"
   ]
  },
  {
   "cell_type": "code",
   "execution_count": 80,
   "metadata": {},
   "outputs": [
    {
     "data": {
      "text/plain": [
       "18001"
      ]
     },
     "execution_count": 80,
     "metadata": {},
     "output_type": "execute_result"
    }
   ],
   "source": [
    "len(n10_plga_dmso.trajectory)"
   ]
  },
  {
   "cell_type": "code",
   "execution_count": 81,
   "metadata": {},
   "outputs": [],
   "source": [
    "#Select the polymer heavy atoms \n",
    "plga_n10dmso = n10_plga_dmso.select_atoms(\"resname sPLG PLG tPLG and not type H\")"
   ]
  },
  {
   "cell_type": "code",
   "execution_count": 82,
   "metadata": {},
   "outputs": [
    {
     "data": {
      "text/plain": [
       "array([[ 1.        ,  0.92263761,  0.89208551,  0.82140625,  0.79290299,\n",
       "         0.70065832,  0.73053748,  0.60743444,  0.74727778],\n",
       "       [ 0.        ,  1.        ,  2.        ,  3.        ,  4.        ,\n",
       "         5.        ,  6.        ,  7.        ,  8.        ],\n",
       "       [ 0.        , 22.68521966, 26.86350741, 34.77418667, 37.54236548,\n",
       "        45.5201554 , 43.06852809, 52.59577357, 41.64488218]])"
      ]
     },
     "execution_count": 82,
     "metadata": {},
     "output_type": "execute_result"
    }
   ],
   "source": [
    "crv_n10plga_dmso = pers_length(plga_n10dmso,10)\n",
    "crv_n10plga_dmso"
   ]
  },
  {
   "cell_type": "code",
   "execution_count": 83,
   "metadata": {},
   "outputs": [],
   "source": [
    "com_bond_n10dmso = np.zeros(shape=(1,18000))\n",
    "count = 0\n",
    "for ts in n10_plga_dmso.trajectory[0:18000]:\n",
    "    n10_mon1_dmso = n10_plga_dmso.select_atoms(\"resid 1\")\n",
    "    n10_mon2_dmso = n10_plga_dmso.select_atoms(\"resid 2\")\n",
    "    oo_len = mda.analysis.distances.distance_array(n10_mon1_dmso.center_of_mass(), n10_mon2_dmso.center_of_mass(), \n",
    "                                                   box=n10_plga_dmso.trajectory.ts.dimensions)\n",
    "    com_bond_n10dmso[0, count] = oo_len\n",
    "    count += 1\n",
    "    "
   ]
  },
  {
   "cell_type": "code",
   "execution_count": 84,
   "metadata": {},
   "outputs": [
    {
     "data": {
      "text/plain": [
       "array([[5.76474232, 6.12020808, 6.33092829, ..., 6.67174316, 6.9020669 ,\n",
       "        6.7657957 ]])"
      ]
     },
     "execution_count": 84,
     "metadata": {},
     "output_type": "execute_result"
    }
   ],
   "source": [
    "com_bond"
   ]
  },
  {
   "cell_type": "code",
   "execution_count": 85,
   "metadata": {},
   "outputs": [
    {
     "data": {
      "text/plain": [
       "0.6924626120263444"
      ]
     },
     "execution_count": 85,
     "metadata": {},
     "output_type": "execute_result"
    }
   ],
   "source": [
    "np.std(com_bond)"
   ]
  },
  {
   "cell_type": "code",
   "execution_count": 86,
   "metadata": {},
   "outputs": [
    {
     "data": {
      "text/plain": [
       "5.736817192432176"
      ]
     },
     "execution_count": 86,
     "metadata": {},
     "output_type": "execute_result"
    }
   ],
   "source": [
    "lb_avg_pn6 = np.mean(com_bond)\n",
    "lb_avg_pn6"
   ]
  },
  {
   "cell_type": "code",
   "execution_count": 87,
   "metadata": {},
   "outputs": [
    {
     "data": {
      "text/plain": [
       "5.783500713600267"
      ]
     },
     "execution_count": 87,
     "metadata": {},
     "output_type": "execute_result"
    }
   ],
   "source": [
    "np.mean(com_bond_n10dmso)"
   ]
  },
  {
   "cell_type": "code",
   "execution_count": 88,
   "metadata": {},
   "outputs": [
    {
     "data": {
      "text/plain": [
       "0.6706714558713213"
      ]
     },
     "execution_count": 88,
     "metadata": {},
     "output_type": "execute_result"
    }
   ],
   "source": [
    "np.std(com_bond_n10dmso)"
   ]
  },
  {
   "cell_type": "markdown",
   "metadata": {},
   "source": [
    "### Radius of Gyration vs. time N = 10 PLGA/DMSO system"
   ]
  },
  {
   "cell_type": "code",
   "execution_count": 89,
   "metadata": {},
   "outputs": [],
   "source": [
    "n10plga_rgens_dmso, cor_n10plga_dmso, N10plga_cos_dmso, rgace_n10plga = get_rg_pers_poly(plga_n10dmso, n10_plga_dmso, 0, 18000)"
   ]
  },
  {
   "cell_type": "code",
   "execution_count": 90,
   "metadata": {},
   "outputs": [
    {
     "data": {
      "text/plain": [
       "(18000,)"
      ]
     },
     "execution_count": 90,
     "metadata": {},
     "output_type": "execute_result"
    }
   ],
   "source": [
    "n10plga_rgens_dmso[0].shape"
   ]
  },
  {
   "cell_type": "code",
   "execution_count": 91,
   "metadata": {},
   "outputs": [
    {
     "data": {
      "text/plain": [
       "array([0., 1., 2., 3., 4., 5., 6., 7., 8.])"
      ]
     },
     "execution_count": 91,
     "metadata": {},
     "output_type": "execute_result"
    }
   ],
   "source": [
    "cor_n10plga_dmso[3]"
   ]
  },
  {
   "cell_type": "code",
   "execution_count": 92,
   "metadata": {},
   "outputs": [
    {
     "data": {
      "text/plain": [
       "array([[1.        , 1.        , 1.        , ..., 1.        , 1.        ,\n",
       "        1.        ],\n",
       "       [0.92263761, 0.88057349, 0.90636949, ..., 0.83514819, 0.81765557,\n",
       "        0.84211449],\n",
       "       [0.89208551, 0.84868506, 0.86128795, ..., 0.60708374, 0.58901238,\n",
       "        0.59514558],\n",
       "       ...,\n",
       "       [0.73053748, 0.61649558, 0.64240054, ..., 0.18427866, 0.3039698 ,\n",
       "        0.32018046],\n",
       "       [0.60743444, 0.34332263, 0.42525548, ..., 0.37468305, 0.47566245,\n",
       "        0.5034484 ],\n",
       "       [0.74727778, 0.69058214, 0.63957695, ..., 0.9382682 , 0.97482453,\n",
       "        0.95013284]])"
      ]
     },
     "execution_count": 92,
     "metadata": {},
     "output_type": "execute_result"
    }
   ],
   "source": [
    "N10plga_cos_dmso"
   ]
  },
  {
   "cell_type": "code",
   "execution_count": 93,
   "metadata": {},
   "outputs": [
    {
     "data": {
      "text/plain": [
       "9.71814576184855"
      ]
     },
     "execution_count": 93,
     "metadata": {},
     "output_type": "execute_result"
    }
   ],
   "source": [
    "rgace_n10plga"
   ]
  },
  {
   "cell_type": "code",
   "execution_count": 94,
   "metadata": {},
   "outputs": [
    {
     "data": {
      "text/plain": [
       "1.980740703932362"
      ]
     },
     "execution_count": 94,
     "metadata": {},
     "output_type": "execute_result"
    }
   ],
   "source": [
    "np.std(n10plga_rgens_dmso)"
   ]
  },
  {
   "cell_type": "code",
   "execution_count": 95,
   "metadata": {},
   "outputs": [
    {
     "data": {
      "text/plain": [
       "(0.2, 2)"
      ]
     },
     "execution_count": 95,
     "metadata": {},
     "output_type": "execute_result"
    },
    {
     "data": {
      "image/png": "[encoded data removed]",
      "text/plain": [
       "<Figure size 504x504 with 1 Axes>"
      ]
     },
     "metadata": {
      "needs_background": "light"
     },
     "output_type": "display_data"
    }
   ],
   "source": [
    "plt.figure(figsize=(7,7))\n",
    "plt.title(r'PLGA Radius of Gyration', fontsize=18, y=1.01)\n",
    "plt.xlabel(r'Time [ns]', fontsize=15)\n",
    "plt.ylabel(r'$R_{g}$ [nm]', fontsize=15)\n",
    "plt.plot(trj_len/100, n6plga_rgens_dmso[0]/10,linewidth=2, color='#CCBE9F')\n",
    "plt.plot(trj_len/100, n8plga_rgens_dmso[0]/10,linewidth=2, color='#601A4A')\n",
    "plt.plot(trj_len/100, n10plga_rgens_dmso[0]/10,linewidth=2, color='#2B6322')\n",
    "plt.tick_params(labelsize=14)\n",
    "plt.legend(['N = 6 in DMSO','N = 8 in DMSO','N = 10 in DMSO'], frameon=False, fontsize=14)\n",
    "#plt.text(127, 0.96,r'N = 6 in water', fontsize=18, color='#1F2E69', family='Arial')\n",
    "plt.xlim(0,180)\n",
    "plt.ylim(0.2,2)"
   ]
  },
  {
   "cell_type": "markdown",
   "metadata": {},
   "source": [
    "#### Correlation values at each arc length for the whole 180 ns trajectory, N = 10 PLGA/DMSO"
   ]
  },
  {
   "cell_type": "code",
   "execution_count": 96,
   "metadata": {},
   "outputs": [
    {
     "data": {
      "text/plain": [
       "array([ 0.        ,  5.73681719, 11.47363438, 17.21045158, 22.94726877,\n",
       "       28.68408596, 34.42090315, 40.15772035, 45.89453754])"
      ]
     },
     "execution_count": 96,
     "metadata": {},
     "output_type": "execute_result"
    }
   ],
   "source": [
    "# x values\n",
    "blen_n10dmso = cor_n10plga_dmso[3]*lb_avg_pn6\n",
    "#nt_tt[0] = 0\n",
    "blen_n10dmso"
   ]
  },
  {
   "cell_type": "code",
   "execution_count": 97,
   "metadata": {},
   "outputs": [
    {
     "data": {
      "text/plain": [
       "array([4.10765849e-17, 5.00090482e-02, 1.49722568e-01, 2.72971717e-01,\n",
       "       4.76525850e-01, 7.06352001e-01, 9.81440424e-01, 1.19842606e+00,\n",
       "       1.30557540e+00])"
      ]
     },
     "execution_count": 97,
     "metadata": {},
     "output_type": "execute_result"
    }
   ],
   "source": [
    "mk_n10p_dmso = cor_n10plga_dmso[1]/cor_n10plga_dmso[0]\n",
    "mk_n10p_dmso"
   ]
  },
  {
   "cell_type": "code",
   "execution_count": 98,
   "metadata": {},
   "outputs": [
    {
     "data": {
      "text/plain": [
       "<ErrorbarContainer object of 3 artists>"
      ]
     },
     "execution_count": 98,
     "metadata": {},
     "output_type": "execute_result"
    },
    {
     "data": {
      "image/png": "[encoded data removed]",
      "text/plain": [
       "<Figure size 504x504 with 1 Axes>"
      ]
     },
     "metadata": {
      "needs_background": "light"
     },
     "output_type": "display_data"
    }
   ],
   "source": [
    "plt.figure(figsize=(7,7))\n",
    "plt.errorbar(blen_dmso, np.log(cor_n6plga_dmso[0]), yerr=mk_n6p_dmso, color='#CCBE9F', linestyle=\"None\",marker='o',\n",
    "     capsize=5, capthick=1, ecolor='black')\n",
    "plt.errorbar(blen_n8dmso, np.log(cor_n8plga_dmso[0]), yerr=mk_n8p_dmso, color='#601A4A', linestyle=\"None\",marker='o',\n",
    "     capsize=5, capthick=1, ecolor='black')\n",
    "plt.errorbar(blen_n10dmso, np.log(cor_n10plga_dmso[0]), yerr=mk_n10p_dmso, color='#2B6322', linestyle=\"None\",marker='o',\n",
    "     capsize=5, capthick=1, ecolor='black')"
   ]
  },
  {
   "cell_type": "code",
   "execution_count": 99,
   "metadata": {},
   "outputs": [
    {
     "name": "stdout",
     "output_type": "stream",
     "text": [
      "3000\n",
      "6000\n",
      "Lp [Angstroms]: 25.066872668682073\n",
      "Error in Lp from fit [Angstroms], 95% CL : 1.2736312957891436\n",
      "R2 score: 0.9859469418199795\n",
      "6000\n",
      "9000\n",
      "Lp [Angstroms]: 26.036077079979467\n",
      "Error in Lp from fit [Angstroms], 95% CL : 1.1208646284972443\n",
      "R2 score: 0.9896440671704613\n",
      "9000\n",
      "12000\n",
      "Lp [Angstroms]: 23.352690885577935\n",
      "Error in Lp from fit [Angstroms], 95% CL : 0.7714669738705072\n",
      "R2 score: 0.9936388412148563\n",
      "12000\n",
      "15000\n",
      "Lp [Angstroms]: 36.54148744597157\n",
      "Error in Lp from fit [Angstroms], 95% CL : 1.8863180898085412\n",
      "R2 score: 0.9827800277931686\n",
      "15000\n",
      "18000\n",
      "Lp [Angstroms]: 29.15736253556648\n",
      "Error in Lp from fit [Angstroms], 95% CL : 0.7379322832071493\n",
      "R2 score: 0.9962294898016291\n"
     ]
    }
   ],
   "source": [
    "# All the points give the best fits for N = 10 plga in DMSO\n",
    "n10_blksplga_dmso , n10plga_lpdmso = bavg_pers_cnt(5, plga_n10dmso, n10_plga_dmso, lb_avg_pn6, 5, 3000 , 18000)"
   ]
  },
  {
   "cell_type": "code",
   "execution_count": 100,
   "metadata": {},
   "outputs": [
    {
     "data": {
      "text/plain": [
       "{'Avg Radius of gyration': array([ 9.07877775,  9.65222904,  8.06938967, 10.53514759,  9.70161125]),\n",
       " 'Avg persistence length': array([25.06687267, 26.03607708, 23.35269089, 36.54148745, 29.15736254])}"
      ]
     },
     "execution_count": 100,
     "metadata": {},
     "output_type": "execute_result"
    }
   ],
   "source": [
    "n10_blksplga_dmso"
   ]
  },
  {
   "cell_type": "code",
   "execution_count": 101,
   "metadata": {},
   "outputs": [
    {
     "data": {
      "text/plain": [
       "array([[ 2.50668727e+01,  2.60360771e+01,  2.33526909e+01,\n",
       "         3.65414874e+01,  2.91573625e+01],\n",
       "       [ 1.27363130e+00,  1.12086463e+00,  7.71466974e-01,\n",
       "         1.88631809e+00,  7.37932283e-01],\n",
       "       [-3.98932892e-02, -3.84082440e-02, -4.28216176e-02,\n",
       "        -2.73661547e-02, -3.42966549e-02],\n",
       "       [ 1.68392171e-03,  1.12057056e-03,  8.20204273e-04,\n",
       "         8.17937360e-04,  3.08798475e-04]])"
      ]
     },
     "execution_count": 101,
     "metadata": {},
     "output_type": "execute_result"
    }
   ],
   "source": [
    "n10plga_lpdmso"
   ]
  },
  {
   "cell_type": "code",
   "execution_count": 102,
   "metadata": {},
   "outputs": [
    {
     "data": {
      "text/plain": [
       "array([-0.03989329, -0.03840824, -0.04282162, -0.02736615, -0.03429665])"
      ]
     },
     "execution_count": 102,
     "metadata": {},
     "output_type": "execute_result"
    }
   ],
   "source": [
    "n10plga_lpdmso[2]"
   ]
  },
  {
   "cell_type": "code",
   "execution_count": 103,
   "metadata": {},
   "outputs": [
    {
     "data": {
      "text/plain": [
       "0.000950286475341779"
      ]
     },
     "execution_count": 103,
     "metadata": {},
     "output_type": "execute_result"
    }
   ],
   "source": [
    "np.mean(n10plga_lpdmso[3])"
   ]
  },
  {
   "cell_type": "code",
   "execution_count": 104,
   "metadata": {},
   "outputs": [
    {
     "data": {
      "text/plain": [
       "array([ 0.        ,  5.73681719, 11.47363438, 17.21045158, 22.94726877,\n",
       "       28.68408596, 34.42090315, 40.15772035, 45.89453754])"
      ]
     },
     "execution_count": 104,
     "metadata": {},
     "output_type": "execute_result"
    }
   ],
   "source": [
    "blen_n10dmso"
   ]
  },
  {
   "cell_type": "code",
   "execution_count": 105,
   "metadata": {},
   "outputs": [],
   "source": [
    "gg_n10plga_dmso = line_fit(np.mean(n10plga_lpdmso[2]),blen_n10dmso)"
   ]
  },
  {
   "cell_type": "code",
   "execution_count": 106,
   "metadata": {},
   "outputs": [],
   "source": [
    "gg_n6plga_n10dmso = line_fit(np.mean(n6plga_lpdmso[2]),blen_n10dmso)"
   ]
  },
  {
   "cell_type": "code",
   "execution_count": 107,
   "metadata": {},
   "outputs": [],
   "source": [
    "gg_n8plga_n10dmso = line_fit(np.mean(n8plga_lpdmso[2]),blen_n10dmso)"
   ]
  },
  {
   "cell_type": "code",
   "execution_count": 108,
   "metadata": {},
   "outputs": [
    {
     "data": {
      "text/plain": [
       "array([-0.        , -0.20972193, -0.41944386, -0.62916578, -0.83888771,\n",
       "       -1.04860964, -1.25833157, -1.4680535 , -1.67777542])"
      ]
     },
     "execution_count": 108,
     "metadata": {},
     "output_type": "execute_result"
    }
   ],
   "source": [
    "gg_n10plga_dmso"
   ]
  },
  {
   "cell_type": "markdown",
   "metadata": {},
   "source": [
    "### Block averaged Radius of gyration and persistence length, N = 10 PLGA/DMSO"
   ]
  },
  {
   "cell_type": "code",
   "execution_count": 109,
   "metadata": {},
   "outputs": [
    {
     "data": {
      "text/plain": [
       "28.030898123155502"
      ]
     },
     "execution_count": 109,
     "metadata": {},
     "output_type": "execute_result"
    }
   ],
   "source": [
    "np.mean(n10_blksplga_dmso[\"Avg persistence length\"])"
   ]
  },
  {
   "cell_type": "code",
   "execution_count": 110,
   "metadata": {},
   "outputs": [
    {
     "data": {
      "text/plain": [
       "4.6550925563483"
      ]
     },
     "execution_count": 110,
     "metadata": {},
     "output_type": "execute_result"
    }
   ],
   "source": [
    "np.std(n10_blksplga_dmso[\"Avg persistence length\"])"
   ]
  },
  {
   "cell_type": "code",
   "execution_count": 111,
   "metadata": {},
   "outputs": [
    {
     "data": {
      "text/plain": [
       "9.407431060734757"
      ]
     },
     "execution_count": 111,
     "metadata": {},
     "output_type": "execute_result"
    }
   ],
   "source": [
    "np.mean(n10_blksplga_dmso[\"Avg Radius of gyration\"])"
   ]
  },
  {
   "cell_type": "code",
   "execution_count": 112,
   "metadata": {},
   "outputs": [
    {
     "data": {
      "text/plain": [
       "0.8144421867614653"
      ]
     },
     "execution_count": 112,
     "metadata": {},
     "output_type": "execute_result"
    }
   ],
   "source": [
    "np.std(n10_blksplga_dmso[\"Avg Radius of gyration\"])"
   ]
  },
  {
   "cell_type": "code",
   "execution_count": 113,
   "metadata": {},
   "outputs": [
    {
     "data": {
      "text/plain": [
       "Text(0.5, -6.2, '$N_{PLGA}$ = 10: $L_{p}$ = 28.0 $\\\\AA$ ± 4.66 $\\\\AA$')"
      ]
     },
     "execution_count": 113,
     "metadata": {},
     "output_type": "execute_result"
    },
    {
     "data": {
      "image/png": "[encoded data removed]",
      "text/plain": [
       "<Figure size 504x504 with 1 Axes>"
      ]
     },
     "metadata": {
      "needs_background": "light"
     },
     "output_type": "display_data"
    }
   ],
   "source": [
    "plt.figure(figsize=(7,7))\n",
    "plt.errorbar(blen_dmso, np.log(cor_n6plga_dmso[0]), yerr=mk_n6p_dmso, color='#CCBE9F', linestyle=\"None\",marker='o',\n",
    "     capsize=5, capthick=1, ecolor='black')\n",
    "plt.errorbar(blen_n8dmso, np.log(cor_n8plga_dmso[0]), yerr=mk_n8p_dmso, color='#601A4A', linestyle=\"None\",marker='o',\n",
    "     capsize=5, capthick=1, ecolor='black')\n",
    "plt.errorbar(blen_n10dmso, np.log(cor_n10plga_dmso[0]), yerr=mk_n10p_dmso, color='#2B6322', linestyle=\"None\",marker='o',\n",
    "     capsize=5, capthick=1, ecolor='black')\n",
    "plt.plot(blen_n10dmso, gg_n6plga_n10dmso, color='#CCBE9F')\n",
    "plt.plot(blen_n10dmso, gg_n8plga_n10dmso, color='#601A4A')\n",
    "plt.plot(blen_n10dmso, gg_n10plga_dmso, color='#2B6322')\n",
    "plt.title(r'Ensemble Averaged ln(Cosine $\\theta$) in DMSO', fontsize=15, y=1.01)\n",
    "plt.xlabel(r'Bond Length', fontsize=15)\n",
    "plt.ylabel(r'ln$\\left< Cos(\\theta)\\right >$', fontsize=15)\n",
    "plt.ylim(-7,1)\n",
    "plt.xlim(0,90)\n",
    "font = font_manager.FontProperties(family='Arial', style='normal', size='14')\n",
    "#plt.legend([r'$N_{PEG}$ = 6: $L_{p}$ = 10.7 $\\AA$ ± 1.62 $\\AA$'], loc=3, frameon=0, fontsize=14, prop=font)\n",
    "plt.tick_params(labelsize=14)\n",
    "plt.text(0.5, -6.92,r'$N_{PLGA}$ = 6: $L_{p}$ = 37.4 $\\AA$ ± 6.91 $\\AA$', fontsize=15, color='#CCBE9F')\n",
    "plt.text(0.5, -6.54,r'$N_{PLGA}$ = 8: $L_{p}$ = 30.8 $\\AA$ ± 5.57 $\\AA$', fontsize=15, color='#601A4A')\n",
    "plt.text(0.5, -6.20,r'$N_{PLGA}$ = 10: $L_{p}$ = 28.0 $\\AA$ ± 4.66 $\\AA$', fontsize=15, color='#2B6322')"
   ]
  },
  {
   "cell_type": "code",
   "execution_count": 114,
   "metadata": {},
   "outputs": [
    {
     "data": {
      "text/html": [
       "<div>\n",
       "<style scoped>\n",
       "    .dataframe tbody tr th:only-of-type {\n",
       "        vertical-align: middle;\n",
       "    }\n",
       "\n",
       "    .dataframe tbody tr th {\n",
       "        vertical-align: top;\n",
       "    }\n",
       "\n",
       "    .dataframe thead th {\n",
       "        text-align: right;\n",
       "    }\n",
       "</style>\n",
       "<table border=\"1\" class=\"dataframe\">\n",
       "  <thead>\n",
       "    <tr style=\"text-align: right;\">\n",
       "      <th></th>\n",
       "      <th>$R_{g}$ [Angstrom] N = 6 PLGA DMSO</th>\n",
       "      <th>$R_{g}$ [Angstrom] N = 8 PLGA DMSO</th>\n",
       "      <th>$R_{g}$ [Angstrom] N = 10 PLGA DMSO</th>\n",
       "    </tr>\n",
       "  </thead>\n",
       "  <tbody>\n",
       "    <tr>\n",
       "      <td>0</td>\n",
       "      <td>7.989397</td>\n",
       "      <td>8.970195</td>\n",
       "      <td>9.078778</td>\n",
       "    </tr>\n",
       "    <tr>\n",
       "      <td>1</td>\n",
       "      <td>6.970289</td>\n",
       "      <td>9.819166</td>\n",
       "      <td>9.652229</td>\n",
       "    </tr>\n",
       "    <tr>\n",
       "      <td>2</td>\n",
       "      <td>7.749726</td>\n",
       "      <td>8.293361</td>\n",
       "      <td>8.069390</td>\n",
       "    </tr>\n",
       "    <tr>\n",
       "      <td>3</td>\n",
       "      <td>7.566029</td>\n",
       "      <td>8.912474</td>\n",
       "      <td>10.535148</td>\n",
       "    </tr>\n",
       "    <tr>\n",
       "      <td>4</td>\n",
       "      <td>8.045482</td>\n",
       "      <td>7.766943</td>\n",
       "      <td>9.701611</td>\n",
       "    </tr>\n",
       "  </tbody>\n",
       "</table>\n",
       "</div>"
      ],
      "text/plain": [
       "   $R_{g}$ [Angstrom] N = 6 PLGA DMSO  $R_{g}$ [Angstrom] N = 8 PLGA DMSO  \\\n",
       "0                            7.989397                            8.970195   \n",
       "1                            6.970289                            9.819166   \n",
       "2                            7.749726                            8.293361   \n",
       "3                            7.566029                            8.912474   \n",
       "4                            8.045482                            7.766943   \n",
       "\n",
       "   $R_{g}$ [Angstrom] N = 10 PLGA DMSO  \n",
       "0                             9.078778  \n",
       "1                             9.652229  \n",
       "2                             8.069390  \n",
       "3                            10.535148  \n",
       "4                             9.701611  "
      ]
     },
     "execution_count": 114,
     "metadata": {},
     "output_type": "execute_result"
    }
   ],
   "source": [
    "rgplga_olig_dmso[r\"$R_{g}$ [Angstrom] N = 10 PLGA DMSO\"] = n10_blksplga_dmso[\"Avg Radius of gyration\"]\n",
    "rgplga_olig_dmso"
   ]
  },
  {
   "cell_type": "code",
   "execution_count": 115,
   "metadata": {},
   "outputs": [
    {
     "data": {
      "text/html": [
       "<div>\n",
       "<style scoped>\n",
       "    .dataframe tbody tr th:only-of-type {\n",
       "        vertical-align: middle;\n",
       "    }\n",
       "\n",
       "    .dataframe tbody tr th {\n",
       "        vertical-align: top;\n",
       "    }\n",
       "\n",
       "    .dataframe thead th {\n",
       "        text-align: right;\n",
       "    }\n",
       "</style>\n",
       "<table border=\"1\" class=\"dataframe\">\n",
       "  <thead>\n",
       "    <tr style=\"text-align: right;\">\n",
       "      <th></th>\n",
       "      <th>$L_{p}$ [Angstrom] N = 6 PLGA DMSO</th>\n",
       "      <th>$L_{p}$ [Angstrom] N = 8 PLGA DMSO</th>\n",
       "      <th>$L_{p}$ [Angstrom] N = 10 PLGA DMSO</th>\n",
       "    </tr>\n",
       "  </thead>\n",
       "  <tbody>\n",
       "    <tr>\n",
       "      <td>0</td>\n",
       "      <td>41.431109</td>\n",
       "      <td>31.995460</td>\n",
       "      <td>25.066873</td>\n",
       "    </tr>\n",
       "    <tr>\n",
       "      <td>1</td>\n",
       "      <td>27.965706</td>\n",
       "      <td>39.314315</td>\n",
       "      <td>26.036077</td>\n",
       "    </tr>\n",
       "    <tr>\n",
       "      <td>2</td>\n",
       "      <td>36.288427</td>\n",
       "      <td>29.332022</td>\n",
       "      <td>23.352691</td>\n",
       "    </tr>\n",
       "    <tr>\n",
       "      <td>3</td>\n",
       "      <td>33.348272</td>\n",
       "      <td>31.320345</td>\n",
       "      <td>36.541487</td>\n",
       "    </tr>\n",
       "    <tr>\n",
       "      <td>4</td>\n",
       "      <td>48.152321</td>\n",
       "      <td>21.915798</td>\n",
       "      <td>29.157363</td>\n",
       "    </tr>\n",
       "  </tbody>\n",
       "</table>\n",
       "</div>"
      ],
      "text/plain": [
       "   $L_{p}$ [Angstrom] N = 6 PLGA DMSO   $L_{p}$ [Angstrom] N = 8 PLGA DMSO   \\\n",
       "0                            41.431109                            31.995460   \n",
       "1                            27.965706                            39.314315   \n",
       "2                            36.288427                            29.332022   \n",
       "3                            33.348272                            31.320345   \n",
       "4                            48.152321                            21.915798   \n",
       "\n",
       "   $L_{p}$ [Angstrom] N = 10 PLGA DMSO   \n",
       "0                             25.066873  \n",
       "1                             26.036077  \n",
       "2                             23.352691  \n",
       "3                             36.541487  \n",
       "4                             29.157363  "
      ]
     },
     "execution_count": 115,
     "metadata": {},
     "output_type": "execute_result"
    }
   ],
   "source": [
    "pers_plgat_dmso[r\"$L_{p}$ [Angstrom] N = 10 PLGA DMSO \"] = n10_blksplga_dmso[\"Avg persistence length\"]\n",
    "pers_plgat_dmso"
   ]
  },
  {
   "cell_type": "code",
   "execution_count": null,
   "metadata": {},
   "outputs": [],
   "source": []
  },
  {
   "cell_type": "markdown",
   "metadata": {},
   "source": [
    "### N = 20 PLGA/DMSO "
   ]
  },
  {
   "cell_type": "code",
   "execution_count": 116,
   "metadata": {},
   "outputs": [],
   "source": [
    "# For the right Rg calculation using MD Analysis, use trajactory without pbc \n",
    "n20_plga_dmso = mda.Universe(\"n20plga_dmso/n20plgaonly_dmso.pdb\", \"n20plga_dmso/nodmso_n20plga.xtc\")"
   ]
  },
  {
   "cell_type": "code",
   "execution_count": 117,
   "metadata": {},
   "outputs": [
    {
     "data": {
      "text/plain": [
       "<XTCReader n20plga_dmso/nodmso_n20plga.xtc with 18001 frames of 303 atoms>"
      ]
     },
     "execution_count": 117,
     "metadata": {},
     "output_type": "execute_result"
    }
   ],
   "source": [
    "n20_plga_dmso.trajectory"
   ]
  },
  {
   "cell_type": "code",
   "execution_count": 118,
   "metadata": {},
   "outputs": [
    {
     "data": {
      "text/plain": [
       "18001"
      ]
     },
     "execution_count": 118,
     "metadata": {},
     "output_type": "execute_result"
    }
   ],
   "source": [
    "len(n20_plga_dmso.trajectory)"
   ]
  },
  {
   "cell_type": "code",
   "execution_count": 119,
   "metadata": {},
   "outputs": [],
   "source": [
    "#Select the polymer heavy atoms \n",
    "plga_n20dmso = n20_plga_dmso.select_atoms(\"resname sPLG PLG tPLG and not type H\")"
   ]
  },
  {
   "cell_type": "code",
   "execution_count": 120,
   "metadata": {},
   "outputs": [
    {
     "data": {
      "text/plain": [
       "array([[ 1.        ,  0.86770245,  0.72229278,  0.61838845,  0.65236631,\n",
       "         0.64115201,  0.62543117,  0.62280684,  0.67347515,  0.68335685,\n",
       "         0.67182339,  0.63949525,  0.59033611,  0.59416293,  0.77956233,\n",
       "         0.75193447,  0.78391009,  0.78255636,  0.91481414],\n",
       "       [ 0.        ,  1.        ,  2.        ,  3.        ,  4.        ,\n",
       "         5.        ,  6.        ,  7.        ,  8.        ,  9.        ,\n",
       "        10.        , 11.        , 12.        , 13.        , 14.        ,\n",
       "        15.        , 16.        , 17.        , 18.        ],\n",
       "       [ 0.        , 29.80726243, 43.75589763, 51.80145427, 49.27975028,\n",
       "        50.12222462, 51.28615908, 51.478604  , 47.66415165, 46.89348069,\n",
       "        47.79204861, 50.24580851, 53.81913694, 53.54701794, 38.7794794 ,\n",
       "        41.24177327, 38.38001298, 38.50476706, 23.8206539 ]])"
      ]
     },
     "execution_count": 120,
     "metadata": {},
     "output_type": "execute_result"
    }
   ],
   "source": [
    "crv_n20plga_dmso = pers_length(plga_n20dmso,20)\n",
    "crv_n20plga_dmso"
   ]
  },
  {
   "cell_type": "code",
   "execution_count": 121,
   "metadata": {},
   "outputs": [],
   "source": [
    "com_bond_n20dmso = np.zeros(shape=(1,18000))\n",
    "count = 0\n",
    "for ts in n20_plga_dmso.trajectory[0:18000]:\n",
    "    n20_mon1_dmso = n20_plga_dmso.select_atoms(\"resid 1\")\n",
    "    n20_mon2_dmso = n20_plga_dmso.select_atoms(\"resid 2\")\n",
    "    oo_len = mda.analysis.distances.distance_array(n20_mon1_dmso.center_of_mass(), n20_mon2_dmso.center_of_mass(), \n",
    "                                                   box=n20_plga_dmso.trajectory.ts.dimensions)\n",
    "    com_bond_n20dmso[0, count] = oo_len\n",
    "    count += 1\n",
    "    "
   ]
  },
  {
   "cell_type": "code",
   "execution_count": 122,
   "metadata": {},
   "outputs": [
    {
     "data": {
      "text/plain": [
       "array([[5.76474232, 6.12020808, 6.33092829, ..., 6.67174316, 6.9020669 ,\n",
       "        6.7657957 ]])"
      ]
     },
     "execution_count": 122,
     "metadata": {},
     "output_type": "execute_result"
    }
   ],
   "source": [
    "com_bond"
   ]
  },
  {
   "cell_type": "code",
   "execution_count": 123,
   "metadata": {},
   "outputs": [
    {
     "data": {
      "text/plain": [
       "0.6924626120263444"
      ]
     },
     "execution_count": 123,
     "metadata": {},
     "output_type": "execute_result"
    }
   ],
   "source": [
    "np.std(com_bond)"
   ]
  },
  {
   "cell_type": "code",
   "execution_count": 124,
   "metadata": {},
   "outputs": [
    {
     "data": {
      "text/plain": [
       "5.736817192432176"
      ]
     },
     "execution_count": 124,
     "metadata": {},
     "output_type": "execute_result"
    }
   ],
   "source": [
    "lb_avg_pn6 = np.mean(com_bond)\n",
    "lb_avg_pn6"
   ]
  },
  {
   "cell_type": "code",
   "execution_count": 125,
   "metadata": {},
   "outputs": [
    {
     "data": {
      "text/plain": [
       "5.798637250623501"
      ]
     },
     "execution_count": 125,
     "metadata": {},
     "output_type": "execute_result"
    }
   ],
   "source": [
    "np.mean(com_bond_n20dmso)"
   ]
  },
  {
   "cell_type": "code",
   "execution_count": 126,
   "metadata": {},
   "outputs": [
    {
     "data": {
      "text/plain": [
       "0.6414248737163876"
      ]
     },
     "execution_count": 126,
     "metadata": {},
     "output_type": "execute_result"
    }
   ],
   "source": [
    "np.std(com_bond_n20dmso)"
   ]
  },
  {
   "cell_type": "markdown",
   "metadata": {},
   "source": [
    "### Radius of Gyration vs. time N = 20 PLGA/DMSO system"
   ]
  },
  {
   "cell_type": "code",
   "execution_count": 127,
   "metadata": {},
   "outputs": [],
   "source": [
    "n20plga_rgens_dmso, cor_n20plga_dmso, N20plga_cos_dmso, rgace_n20plga = get_rg_pers_poly(plga_n20dmso, n20_plga_dmso, 0, 18000)"
   ]
  },
  {
   "cell_type": "code",
   "execution_count": 128,
   "metadata": {},
   "outputs": [
    {
     "data": {
      "text/plain": [
       "(18000,)"
      ]
     },
     "execution_count": 128,
     "metadata": {},
     "output_type": "execute_result"
    }
   ],
   "source": [
    "n20plga_rgens_dmso[0].shape"
   ]
  },
  {
   "cell_type": "code",
   "execution_count": 129,
   "metadata": {},
   "outputs": [
    {
     "data": {
      "text/plain": [
       "array([ 0.,  1.,  2.,  3.,  4.,  5.,  6.,  7.,  8.,  9., 10., 11., 12.,\n",
       "       13., 14., 15., 16., 17., 18.])"
      ]
     },
     "execution_count": 129,
     "metadata": {},
     "output_type": "execute_result"
    }
   ],
   "source": [
    "cor_n20plga_dmso[3]"
   ]
  },
  {
   "cell_type": "code",
   "execution_count": 130,
   "metadata": {},
   "outputs": [
    {
     "data": {
      "text/plain": [
       "array([[ 1.        ,  1.        ,  1.        , ...,  1.        ,\n",
       "         1.        ,  1.        ],\n",
       "       [ 0.86770245,  0.86449899,  0.85709947, ...,  0.84036642,\n",
       "         0.84227529,  0.84279553],\n",
       "       [ 0.72229278,  0.70696127,  0.71634069, ...,  0.61182681,\n",
       "         0.63350522,  0.62036385],\n",
       "       ...,\n",
       "       [ 0.78391009,  0.79413257,  0.80087434, ...,  0.00847492,\n",
       "         0.01312229,  0.04758092],\n",
       "       [ 0.78255636,  0.72597007,  0.73816272, ..., -0.53366104,\n",
       "        -0.51622724, -0.52262538],\n",
       "       [ 0.91481414,  0.85826143,  0.91921285, ..., -0.64525229,\n",
       "        -0.77323491, -0.77526118]])"
      ]
     },
     "execution_count": 130,
     "metadata": {},
     "output_type": "execute_result"
    }
   ],
   "source": [
    "N20plga_cos_dmso"
   ]
  },
  {
   "cell_type": "code",
   "execution_count": 131,
   "metadata": {},
   "outputs": [
    {
     "data": {
      "text/plain": [
       "15.854178017379402"
      ]
     },
     "execution_count": 131,
     "metadata": {},
     "output_type": "execute_result"
    }
   ],
   "source": [
    "rgace_n20plga"
   ]
  },
  {
   "cell_type": "code",
   "execution_count": 132,
   "metadata": {},
   "outputs": [
    {
     "data": {
      "text/plain": [
       "2.94565956674708"
      ]
     },
     "execution_count": 132,
     "metadata": {},
     "output_type": "execute_result"
    }
   ],
   "source": [
    "np.std(n20plga_rgens_dmso)"
   ]
  },
  {
   "cell_type": "code",
   "execution_count": 133,
   "metadata": {},
   "outputs": [
    {
     "data": {
      "text/plain": [
       "(0.2, 3)"
      ]
     },
     "execution_count": 133,
     "metadata": {},
     "output_type": "execute_result"
    },
    {
     "data": {
      "image/png": "[encoded data removed]",
      "text/plain": [
       "<Figure size 504x504 with 1 Axes>"
      ]
     },
     "metadata": {
      "needs_background": "light"
     },
     "output_type": "display_data"
    }
   ],
   "source": [
    "plt.figure(figsize=(7,7))\n",
    "plt.title(r'PLGA Radius of Gyration', fontsize=18, y=1.01)\n",
    "plt.xlabel(r'Time [ns]', fontsize=15)\n",
    "plt.ylabel(r'$R_{g}$ [nm]', fontsize=15)\n",
    "plt.plot(trj_len/100, n6plga_rgens_dmso[0]/10,linewidth=2, color='#CCBE9F')\n",
    "plt.plot(trj_len/100, n8plga_rgens_dmso[0]/10,linewidth=2, color='#601A4A')\n",
    "plt.plot(trj_len/100, n10plga_rgens_dmso[0]/10,linewidth=2, color='#2B6322')\n",
    "plt.plot(trj_len/100, n20plga_rgens_dmso[0]/10,linewidth=2, color='#562A8B')\n",
    "plt.tick_params(labelsize=14)\n",
    "plt.legend(['N = 6 in DMSO','N = 8 in DMSO','N = 10 in DMSO','N = 20 in DMSO'], frameon=False, fontsize=14)\n",
    "#plt.text(127, 0.96,r'N = 6 in water', fontsize=18, color='#1F2E69', family='Arial')\n",
    "plt.xlim(0,180)\n",
    "plt.ylim(0.2,3)"
   ]
  },
  {
   "cell_type": "markdown",
   "metadata": {},
   "source": [
    "#### Correlation values at each arc length for the whole 180 ns trajectory, N = 20 PLGA/DMSO"
   ]
  },
  {
   "cell_type": "code",
   "execution_count": 154,
   "metadata": {},
   "outputs": [
    {
     "data": {
      "text/plain": [
       "array([  0.        ,   5.73681719,  11.47363438,  17.21045158,\n",
       "        22.94726877,  28.68408596,  34.42090315,  40.15772035,\n",
       "        45.89453754,  51.63135473,  57.36817192,  63.10498912,\n",
       "        68.84180631,  74.5786235 ,  80.31544069,  86.05225789,\n",
       "        91.78907508,  97.52589227, 103.26270946])"
      ]
     },
     "execution_count": 154,
     "metadata": {},
     "output_type": "execute_result"
    }
   ],
   "source": [
    "# x values\n",
    "blen_n20dmso = cor_n20plga_dmso[3]*lb_avg_pn6\n",
    "#nt_tt[0] = 0\n",
    "blen_n20dmso"
   ]
  },
  {
   "cell_type": "code",
   "execution_count": 135,
   "metadata": {},
   "outputs": [
    {
     "data": {
      "text/plain": [
       "array([2.18312497e-17, 3.18375430e-02, 1.00200610e-01, 1.47566150e-01,\n",
       "       1.83920576e-01, 2.27258617e-01, 2.89831842e-01, 3.43972354e-01,\n",
       "       4.16106875e-01, 5.05866008e-01, 6.36072872e-01, 7.89208240e-01,\n",
       "       9.53261189e-01, 1.10023789e+00, 1.18839279e+00, 1.44165611e+00,\n",
       "       1.79984413e+00, 2.05759934e+00, 2.66160750e+00])"
      ]
     },
     "execution_count": 135,
     "metadata": {},
     "output_type": "execute_result"
    }
   ],
   "source": [
    "# Error propagation into semi-log data\n",
    "mk_n20p_dmso = cor_n20plga_dmso[1]/cor_n20plga_dmso[0]\n",
    "mk_n20p_dmso"
   ]
  },
  {
   "cell_type": "code",
   "execution_count": 136,
   "metadata": {},
   "outputs": [
    {
     "data": {
      "text/plain": [
       "<ErrorbarContainer object of 3 artists>"
      ]
     },
     "execution_count": 136,
     "metadata": {},
     "output_type": "execute_result"
    },
    {
     "data": {
      "image/png": "[encoded data removed]",
      "text/plain": [
       "<Figure size 504x504 with 1 Axes>"
      ]
     },
     "metadata": {
      "needs_background": "light"
     },
     "output_type": "display_data"
    }
   ],
   "source": [
    "plt.figure(figsize=(7,7))\n",
    "plt.errorbar(blen_dmso, np.log(cor_n6plga_dmso[0]), yerr=mk_n6p_dmso, color='#CCBE9F', linestyle=\"None\",marker='o',\n",
    "     capsize=5, capthick=1, ecolor='black')\n",
    "plt.errorbar(blen_n8dmso, np.log(cor_n8plga_dmso[0]), yerr=mk_n8p_dmso, color='#601A4A', linestyle=\"None\",marker='o',\n",
    "     capsize=5, capthick=1, ecolor='black')\n",
    "plt.errorbar(blen_n10dmso, np.log(cor_n10plga_dmso[0]), yerr=mk_n10p_dmso, color='#2B6322', linestyle=\"None\",marker='o',\n",
    "     capsize=5, capthick=1, ecolor='black')\n",
    "plt.errorbar(blen_n20dmso, np.log(cor_n20plga_dmso[0]), yerr=mk_n20p_dmso, color='#562A8B', linestyle=\"None\",marker='o',\n",
    "     capsize=5, capthick=1, ecolor='black')"
   ]
  },
  {
   "cell_type": "code",
   "execution_count": 137,
   "metadata": {},
   "outputs": [
    {
     "name": "stdout",
     "output_type": "stream",
     "text": [
      "3000\n",
      "6000\n",
      "Lp [Angstroms]: 41.63649456305293\n",
      "Error in Lp from fit [Angstroms], 95% CL : 0.3853302256433154\n",
      "R2 score: 0.9914123823405977\n",
      "6000\n",
      "9000\n",
      "Lp [Angstroms]: 37.14008623166832\n",
      "Error in Lp from fit [Angstroms], 95% CL : 0.3356283943603894\n",
      "R2 score: 0.9917745357117339\n",
      "9000\n",
      "12000\n"
     ]
    },
    {
     "name": "stderr",
     "output_type": "stream",
     "text": [
      "/Users/cnyambura/Simulations_2019/ikt_sims/BSA_poly_sys/PLGA_new_sims/plga_dmso/polymer_MD_analysis.py:312: RuntimeWarning: invalid value encountered in log\n",
      "  npoly_lc = np.log(cor_tp[0])\n"
     ]
    },
    {
     "name": "stdout",
     "output_type": "stream",
     "text": [
      "Lp [Angstroms]: 34.15165803778778\n",
      "Error in Lp from fit [Angstroms], 95% CL : 0.26333884768089166\n",
      "R2 score: 0.9940865437047403\n",
      "12000\n",
      "15000\n",
      "Lp [Angstroms]: 28.798964700933634\n",
      "Error in Lp from fit [Angstroms], 95% CL : 0.4248959678933263\n",
      "R2 score: 0.9783915391311583\n",
      "15000\n",
      "18000\n",
      "Lp [Angstroms]: 32.15930959458232\n",
      "Error in Lp from fit [Angstroms], 95% CL : 0.23152852663179613\n",
      "R2 score: 0.9952811318455993\n"
     ]
    }
   ],
   "source": [
    "# All the points give the best fits for N = 10 plga in DMSO\n",
    "n20_blksplga_dmso , n20plga_lpdmso = bavg_pers_cnt(5, plga_n20dmso, n20_plga_dmso, lb_avg_pn6, 5, 3000 , 18000)"
   ]
  },
  {
   "cell_type": "code",
   "execution_count": 138,
   "metadata": {},
   "outputs": [
    {
     "data": {
      "text/plain": [
       "{'Avg Radius of gyration': array([17.85449078, 14.9122174 , 12.89581585, 14.86621853, 15.96303733]),\n",
       " 'Avg persistence length': array([41.63649456, 37.14008623, 34.15165804, 28.7989647 , 32.15930959])}"
      ]
     },
     "execution_count": 138,
     "metadata": {},
     "output_type": "execute_result"
    }
   ],
   "source": [
    "n20_blksplga_dmso"
   ]
  },
  {
   "cell_type": "code",
   "execution_count": 139,
   "metadata": {},
   "outputs": [
    {
     "data": {
      "text/plain": [
       "array([[ 4.16364946e+01,  3.71400862e+01,  3.41516580e+01,\n",
       "         2.87989647e+01,  3.21593096e+01],\n",
       "       [ 3.85330226e-01,  3.35628394e-01,  2.63338848e-01,\n",
       "         4.24895968e-01,  2.31528527e-01],\n",
       "       [-2.40173917e-02, -2.69250856e-02, -2.92811552e-02,\n",
       "        -3.47234705e-02, -3.10951949e-02],\n",
       "       [ 3.16602290e-04,  3.79393854e-04,  3.26683516e-04,\n",
       "         1.68190805e-03,  3.21163869e-04]])"
      ]
     },
     "execution_count": 139,
     "metadata": {},
     "output_type": "execute_result"
    }
   ],
   "source": [
    "n20plga_lpdmso"
   ]
  },
  {
   "cell_type": "code",
   "execution_count": 140,
   "metadata": {},
   "outputs": [
    {
     "data": {
      "text/plain": [
       "array([-0.02401739, -0.02692509, -0.02928116, -0.03472347, -0.03109519])"
      ]
     },
     "execution_count": 140,
     "metadata": {},
     "output_type": "execute_result"
    }
   ],
   "source": [
    "n20plga_lpdmso[2]"
   ]
  },
  {
   "cell_type": "code",
   "execution_count": 141,
   "metadata": {},
   "outputs": [
    {
     "data": {
      "text/plain": [
       "0.0006051503160101856"
      ]
     },
     "execution_count": 141,
     "metadata": {},
     "output_type": "execute_result"
    }
   ],
   "source": [
    "np.mean(n20plga_lpdmso[3])"
   ]
  },
  {
   "cell_type": "code",
   "execution_count": 142,
   "metadata": {},
   "outputs": [
    {
     "data": {
      "text/plain": [
       "array([  0.        ,   5.73681719,  11.47363438,  17.21045158,\n",
       "        22.94726877,  28.68408596,  34.42090315,  40.15772035,\n",
       "        45.89453754,  51.63135473,  57.36817192,  63.10498912,\n",
       "        68.84180631,  74.5786235 ,  80.31544069,  86.05225789,\n",
       "        91.78907508,  97.52589227, 103.26270946])"
      ]
     },
     "execution_count": 142,
     "metadata": {},
     "output_type": "execute_result"
    }
   ],
   "source": [
    "blen_n20dmso"
   ]
  },
  {
   "cell_type": "code",
   "execution_count": 143,
   "metadata": {},
   "outputs": [],
   "source": [
    "gg_n20plga_dmso = line_fit(np.mean(n20plga_lpdmso[2]),blen_n20dmso)"
   ]
  },
  {
   "cell_type": "code",
   "execution_count": 144,
   "metadata": {},
   "outputs": [],
   "source": [
    "gg_n6plga_n20dmso = line_fit(np.mean(n6plga_lpdmso[2]),blen_n20dmso)"
   ]
  },
  {
   "cell_type": "code",
   "execution_count": 145,
   "metadata": {},
   "outputs": [],
   "source": [
    "gg_n8plga_n20dmso = line_fit(np.mean(n8plga_lpdmso[2]),blen_n20dmso)"
   ]
  },
  {
   "cell_type": "code",
   "execution_count": 146,
   "metadata": {},
   "outputs": [],
   "source": [
    "gg_n10plga_n20dmso = line_fit(np.mean(n10plga_lpdmso[2]),blen_n20dmso)"
   ]
  },
  {
   "cell_type": "code",
   "execution_count": 147,
   "metadata": {},
   "outputs": [
    {
     "data": {
      "text/plain": [
       "array([-0.        , -0.16756359, -0.33512719, -0.50269078, -0.67025437,\n",
       "       -0.83781797, -1.00538156, -1.17294515, -1.34050874, -1.50807234,\n",
       "       -1.67563593, -1.84319952, -2.01076312, -2.17832671, -2.3458903 ,\n",
       "       -2.5134539 , -2.68101749, -2.84858108, -3.01614468])"
      ]
     },
     "execution_count": 147,
     "metadata": {},
     "output_type": "execute_result"
    }
   ],
   "source": [
    "gg_n20plga_dmso"
   ]
  },
  {
   "cell_type": "markdown",
   "metadata": {},
   "source": [
    "### Block averaged Radius of gyration and persistence length, N = 20 PLGA/DMSO"
   ]
  },
  {
   "cell_type": "code",
   "execution_count": 148,
   "metadata": {},
   "outputs": [
    {
     "data": {
      "text/plain": [
       "34.777302625604996"
      ]
     },
     "execution_count": 148,
     "metadata": {},
     "output_type": "execute_result"
    }
   ],
   "source": [
    "np.mean(n20_blksplga_dmso[\"Avg persistence length\"])"
   ]
  },
  {
   "cell_type": "code",
   "execution_count": 149,
   "metadata": {},
   "outputs": [
    {
     "data": {
      "text/plain": [
       "4.373033350116244"
      ]
     },
     "execution_count": 149,
     "metadata": {},
     "output_type": "execute_result"
    }
   ],
   "source": [
    "np.std(n20_blksplga_dmso[\"Avg persistence length\"])"
   ]
  },
  {
   "cell_type": "code",
   "execution_count": 150,
   "metadata": {},
   "outputs": [
    {
     "data": {
      "text/plain": [
       "15.29835597972181"
      ]
     },
     "execution_count": 150,
     "metadata": {},
     "output_type": "execute_result"
    }
   ],
   "source": [
    "np.mean(n20_blksplga_dmso[\"Avg Radius of gyration\"])"
   ]
  },
  {
   "cell_type": "code",
   "execution_count": 151,
   "metadata": {},
   "outputs": [
    {
     "data": {
      "text/plain": [
       "1.6176322978432816"
      ]
     },
     "execution_count": 151,
     "metadata": {},
     "output_type": "execute_result"
    }
   ],
   "source": [
    "np.std(n20_blksplga_dmso[\"Avg Radius of gyration\"])"
   ]
  },
  {
   "cell_type": "code",
   "execution_count": 170,
   "metadata": {},
   "outputs": [
    {
     "data": {
      "text/plain": [
       "Text(0.5, -5.75, '$N_{PLGA}$ = 20: $L_{p}$ = 34.8 $\\\\AA$ ± 4.37 $\\\\AA$')"
      ]
     },
     "execution_count": 170,
     "metadata": {},
     "output_type": "execute_result"
    },
    {
     "data": {
      "image/png": "[encoded data removed]",
      "text/plain": [
       "<Figure size 504x504 with 1 Axes>"
      ]
     },
     "metadata": {
      "needs_background": "light"
     },
     "output_type": "display_data"
    }
   ],
   "source": [
    "plt.figure(figsize=(7,7))\n",
    "plt.errorbar(blen_dmso, np.log(cor_n6plga_dmso[0]), yerr=mk_n6p_dmso, color='#CCBE9F', linestyle=\"None\",marker='o',\n",
    "     capsize=5, capthick=1, ecolor='black')\n",
    "plt.errorbar(blen_n8dmso, np.log(cor_n8plga_dmso[0]), yerr=mk_n8p_dmso, color='#601A4A', linestyle=\"None\",marker='o',\n",
    "     capsize=5, capthick=1, ecolor='black')\n",
    "plt.errorbar(blen_n10dmso, np.log(cor_n10plga_dmso[0]), yerr=mk_n10p_dmso, color='#2B6322', linestyle=\"None\",marker='o',\n",
    "     capsize=5, capthick=1, ecolor='black')\n",
    "plt.errorbar(blen_n20dmso, np.log(cor_n20plga_dmso[0]), yerr=mk_n20p_dmso, color='#562A8B', linestyle=\"None\",marker='o',\n",
    "     capsize=5, capthick=1, ecolor='black')\n",
    "plt.plot(blen_n20dmso[:15], gg_n6plga_n20dmso[:15], color='#CCBE9F')\n",
    "plt.plot(blen_n20dmso[:15], gg_n8plga_n20dmso[:15], color='#601A4A')\n",
    "plt.plot(blen_n20dmso[:15], gg_n10plga_n20dmso[:15], color='#2B6322')\n",
    "plt.plot(blen_n20dmso[:15], gg_n20plga_dmso[:15], color='#562A8B')\n",
    "plt.title(r'Ensemble Averaged ln(Cosine $\\theta$) in DMSO', fontsize=15, y=1.01)\n",
    "plt.xlabel(r'Bond Length', fontsize=15)\n",
    "plt.ylabel(r'ln$\\left< Cos(\\theta)\\right >$', fontsize=15)\n",
    "plt.ylim(-7,2)\n",
    "plt.xlim(0,105)\n",
    "font = font_manager.FontProperties(family='Arial', style='normal', size='14')\n",
    "#plt.legend([r'$N_{PEG}$ = 6: $L_{p}$ = 10.7 $\\AA$ ± 1.62 $\\AA$'], loc=3, frameon=0, fontsize=14, prop=font)\n",
    "#plt.tick_params(labelsize=14)\n",
    "plt.text(0.5, -6.92,r'$N_{PLGA}$ = 6: $L_{p}$ = 37.4 $\\AA$ ± 6.91 $\\AA$', fontsize=15, color='#CCBE9F')\n",
    "plt.text(0.5, -6.54,r'$N_{PLGA}$ = 8: $L_{p}$ = 30.8 $\\AA$ ± 5.57 $\\AA$', fontsize=15, color='#601A4A')\n",
    "plt.text(0.5, -6.14,r'$N_{PLGA}$ = 10: $L_{p}$ = 28.0 $\\AA$ ± 4.66 $\\AA$', fontsize=15, color='#2B6322')\n",
    "plt.text(0.5, -5.75,r'$N_{PLGA}$ = 20: $L_{p}$ = 34.8 $\\AA$ ± 4.37 $\\AA$', fontsize=15, color='#562A8B')"
   ]
  },
  {
   "cell_type": "code",
   "execution_count": 171,
   "metadata": {},
   "outputs": [
    {
     "data": {
      "text/html": [
       "<div>\n",
       "<style scoped>\n",
       "    .dataframe tbody tr th:only-of-type {\n",
       "        vertical-align: middle;\n",
       "    }\n",
       "\n",
       "    .dataframe tbody tr th {\n",
       "        vertical-align: top;\n",
       "    }\n",
       "\n",
       "    .dataframe thead th {\n",
       "        text-align: right;\n",
       "    }\n",
       "</style>\n",
       "<table border=\"1\" class=\"dataframe\">\n",
       "  <thead>\n",
       "    <tr style=\"text-align: right;\">\n",
       "      <th></th>\n",
       "      <th>$R_{g}$ [Angstrom] N = 6 PLGA DMSO</th>\n",
       "      <th>$R_{g}$ [Angstrom] N = 8 PLGA DMSO</th>\n",
       "      <th>$R_{g}$ [Angstrom] N = 10 PLGA DMSO</th>\n",
       "      <th>$R_{g}$ [Angstrom] N = 20 PLGA DMSO</th>\n",
       "    </tr>\n",
       "  </thead>\n",
       "  <tbody>\n",
       "    <tr>\n",
       "      <td>0</td>\n",
       "      <td>7.989397</td>\n",
       "      <td>8.970195</td>\n",
       "      <td>9.078778</td>\n",
       "      <td>17.854491</td>\n",
       "    </tr>\n",
       "    <tr>\n",
       "      <td>1</td>\n",
       "      <td>6.970289</td>\n",
       "      <td>9.819166</td>\n",
       "      <td>9.652229</td>\n",
       "      <td>14.912217</td>\n",
       "    </tr>\n",
       "    <tr>\n",
       "      <td>2</td>\n",
       "      <td>7.749726</td>\n",
       "      <td>8.293361</td>\n",
       "      <td>8.069390</td>\n",
       "      <td>12.895816</td>\n",
       "    </tr>\n",
       "    <tr>\n",
       "      <td>3</td>\n",
       "      <td>7.566029</td>\n",
       "      <td>8.912474</td>\n",
       "      <td>10.535148</td>\n",
       "      <td>14.866219</td>\n",
       "    </tr>\n",
       "    <tr>\n",
       "      <td>4</td>\n",
       "      <td>8.045482</td>\n",
       "      <td>7.766943</td>\n",
       "      <td>9.701611</td>\n",
       "      <td>15.963037</td>\n",
       "    </tr>\n",
       "  </tbody>\n",
       "</table>\n",
       "</div>"
      ],
      "text/plain": [
       "   $R_{g}$ [Angstrom] N = 6 PLGA DMSO  $R_{g}$ [Angstrom] N = 8 PLGA DMSO  \\\n",
       "0                            7.989397                            8.970195   \n",
       "1                            6.970289                            9.819166   \n",
       "2                            7.749726                            8.293361   \n",
       "3                            7.566029                            8.912474   \n",
       "4                            8.045482                            7.766943   \n",
       "\n",
       "   $R_{g}$ [Angstrom] N = 10 PLGA DMSO  $R_{g}$ [Angstrom] N = 20 PLGA DMSO  \n",
       "0                             9.078778                            17.854491  \n",
       "1                             9.652229                            14.912217  \n",
       "2                             8.069390                            12.895816  \n",
       "3                            10.535148                            14.866219  \n",
       "4                             9.701611                            15.963037  "
      ]
     },
     "execution_count": 171,
     "metadata": {},
     "output_type": "execute_result"
    }
   ],
   "source": [
    "rgplga_olig_dmso[r\"$R_{g}$ [Angstrom] N = 20 PLGA DMSO\"] = n20_blksplga_dmso[\"Avg Radius of gyration\"]\n",
    "rgplga_olig_dmso"
   ]
  },
  {
   "cell_type": "code",
   "execution_count": 172,
   "metadata": {},
   "outputs": [
    {
     "data": {
      "text/html": [
       "<div>\n",
       "<style scoped>\n",
       "    .dataframe tbody tr th:only-of-type {\n",
       "        vertical-align: middle;\n",
       "    }\n",
       "\n",
       "    .dataframe tbody tr th {\n",
       "        vertical-align: top;\n",
       "    }\n",
       "\n",
       "    .dataframe thead th {\n",
       "        text-align: right;\n",
       "    }\n",
       "</style>\n",
       "<table border=\"1\" class=\"dataframe\">\n",
       "  <thead>\n",
       "    <tr style=\"text-align: right;\">\n",
       "      <th></th>\n",
       "      <th>$L_{p}$ [Angstrom] N = 6 PLGA DMSO</th>\n",
       "      <th>$L_{p}$ [Angstrom] N = 8 PLGA DMSO</th>\n",
       "      <th>$L_{p}$ [Angstrom] N = 10 PLGA DMSO</th>\n",
       "      <th>$L_{p}$ [Angstrom] N = 20 PLGA DMSO</th>\n",
       "    </tr>\n",
       "  </thead>\n",
       "  <tbody>\n",
       "    <tr>\n",
       "      <td>0</td>\n",
       "      <td>41.431109</td>\n",
       "      <td>31.995460</td>\n",
       "      <td>25.066873</td>\n",
       "      <td>41.636495</td>\n",
       "    </tr>\n",
       "    <tr>\n",
       "      <td>1</td>\n",
       "      <td>27.965706</td>\n",
       "      <td>39.314315</td>\n",
       "      <td>26.036077</td>\n",
       "      <td>37.140086</td>\n",
       "    </tr>\n",
       "    <tr>\n",
       "      <td>2</td>\n",
       "      <td>36.288427</td>\n",
       "      <td>29.332022</td>\n",
       "      <td>23.352691</td>\n",
       "      <td>34.151658</td>\n",
       "    </tr>\n",
       "    <tr>\n",
       "      <td>3</td>\n",
       "      <td>33.348272</td>\n",
       "      <td>31.320345</td>\n",
       "      <td>36.541487</td>\n",
       "      <td>28.798965</td>\n",
       "    </tr>\n",
       "    <tr>\n",
       "      <td>4</td>\n",
       "      <td>48.152321</td>\n",
       "      <td>21.915798</td>\n",
       "      <td>29.157363</td>\n",
       "      <td>32.159310</td>\n",
       "    </tr>\n",
       "  </tbody>\n",
       "</table>\n",
       "</div>"
      ],
      "text/plain": [
       "   $L_{p}$ [Angstrom] N = 6 PLGA DMSO   $L_{p}$ [Angstrom] N = 8 PLGA DMSO   \\\n",
       "0                            41.431109                            31.995460   \n",
       "1                            27.965706                            39.314315   \n",
       "2                            36.288427                            29.332022   \n",
       "3                            33.348272                            31.320345   \n",
       "4                            48.152321                            21.915798   \n",
       "\n",
       "   $L_{p}$ [Angstrom] N = 10 PLGA DMSO   $L_{p}$ [Angstrom] N = 20 PLGA DMSO   \n",
       "0                             25.066873                             41.636495  \n",
       "1                             26.036077                             37.140086  \n",
       "2                             23.352691                             34.151658  \n",
       "3                             36.541487                             28.798965  \n",
       "4                             29.157363                             32.159310  "
      ]
     },
     "execution_count": 172,
     "metadata": {},
     "output_type": "execute_result"
    }
   ],
   "source": [
    "pers_plgat_dmso[r\"$L_{p}$ [Angstrom] N = 20 PLGA DMSO \"] = n20_blksplga_dmso[\"Avg persistence length\"]\n",
    "pers_plgat_dmso"
   ]
  },
  {
   "cell_type": "code",
   "execution_count": null,
   "metadata": {},
   "outputs": [],
   "source": []
  },
  {
   "cell_type": "markdown",
   "metadata": {},
   "source": [
    "### N = 30 PLGA/DMSO "
   ]
  },
  {
   "cell_type": "code",
   "execution_count": 173,
   "metadata": {},
   "outputs": [],
   "source": [
    "# For the right Rg calculation using MD Analysis, use trajactory without pbc \n",
    "n30_plga_dmso = mda.Universe(\"n30plga_dmso/n30plgaonly_dmso.pdb\", \"n30plga_dmso/nodmso_n30plga.xtc\")"
   ]
  },
  {
   "cell_type": "code",
   "execution_count": 174,
   "metadata": {},
   "outputs": [
    {
     "data": {
      "text/plain": [
       "<XTCReader n30plga_dmso/nodmso_n30plga.xtc with 18001 frames of 453 atoms>"
      ]
     },
     "execution_count": 174,
     "metadata": {},
     "output_type": "execute_result"
    }
   ],
   "source": [
    "n30_plga_dmso.trajectory"
   ]
  },
  {
   "cell_type": "code",
   "execution_count": 175,
   "metadata": {},
   "outputs": [
    {
     "data": {
      "text/plain": [
       "18001"
      ]
     },
     "execution_count": 175,
     "metadata": {},
     "output_type": "execute_result"
    }
   ],
   "source": [
    "len(n30_plga_dmso.trajectory)"
   ]
  },
  {
   "cell_type": "code",
   "execution_count": 176,
   "metadata": {},
   "outputs": [],
   "source": [
    "#Select the polymer heavy atoms \n",
    "plga_n30dmso = n30_plga_dmso.select_atoms(\"resname sPLG PLG tPLG and not type H\")"
   ]
  },
  {
   "cell_type": "code",
   "execution_count": 177,
   "metadata": {},
   "outputs": [
    {
     "data": {
      "text/plain": [
       "array([[ 1.        ,  0.84981132,  0.6688501 ,  0.5789477 ,  0.54042076,\n",
       "         0.49758897,  0.47146998,  0.47126926,  0.48410544,  0.52155074,\n",
       "         0.572501  ,  0.6249179 ,  0.59472549,  0.55742371,  0.52101317,\n",
       "         0.49715315,  0.5128475 ,  0.58198501,  0.57923088,  0.59860029,\n",
       "         0.67085745,  0.70511638,  0.69768439,  0.74886742,  0.77430345,\n",
       "         0.73686064,  0.73789242,  0.89362823,  0.8118841 ],\n",
       "       [ 0.        ,  1.        ,  2.        ,  3.        ,  4.        ,\n",
       "         5.        ,  6.        ,  7.        ,  8.        ,  9.        ,\n",
       "        10.        , 11.        , 12.        , 13.        , 14.        ,\n",
       "        15.        , 16.        , 17.        , 18.        , 19.        ,\n",
       "        20.        , 21.        , 22.        , 23.        , 24.        ,\n",
       "        25.        , 26.        , 27.        , 28.        ],\n",
       "       [ 0.        , 31.80884667, 48.02162304, 54.62343651, 57.28771334,\n",
       "        60.15938475, 61.87024139, 61.88328148, 61.04612007, 58.56367033,\n",
       "        55.07518698, 51.32383854, 53.50693483, 56.12218349, 58.59976229,\n",
       "        60.18816831, 59.14631278, 54.40972092, 54.60353525, 53.23028327,\n",
       "        47.86672219, 45.16105281, 45.75848362, 41.50763494, 39.25807684,\n",
       "        42.5353273 , 42.44781   , 26.66723033, 35.71957622]])"
      ]
     },
     "execution_count": 177,
     "metadata": {},
     "output_type": "execute_result"
    }
   ],
   "source": [
    "crv_n30plga_dmso = pers_length(plga_n30dmso,30)\n",
    "crv_n30plga_dmso"
   ]
  },
  {
   "cell_type": "code",
   "execution_count": 178,
   "metadata": {},
   "outputs": [],
   "source": [
    "com_bond_n30dmso = np.zeros(shape=(1,18000))\n",
    "count = 0\n",
    "for ts in n30_plga_dmso.trajectory[0:18000]:\n",
    "    n30_mon1_dmso = n30_plga_dmso.select_atoms(\"resid 1\")\n",
    "    n30_mon2_dmso = n30_plga_dmso.select_atoms(\"resid 2\")\n",
    "    oo_len = mda.analysis.distances.distance_array(n30_mon1_dmso.center_of_mass(), n30_mon2_dmso.center_of_mass(), \n",
    "                                                   box=n30_plga_dmso.trajectory.ts.dimensions)\n",
    "    com_bond_n30dmso[0, count] = oo_len\n",
    "    count += 1\n",
    "    "
   ]
  },
  {
   "cell_type": "code",
   "execution_count": 179,
   "metadata": {},
   "outputs": [
    {
     "data": {
      "text/plain": [
       "array([[5.76474232, 6.12020808, 6.33092829, ..., 6.67174316, 6.9020669 ,\n",
       "        6.7657957 ]])"
      ]
     },
     "execution_count": 179,
     "metadata": {},
     "output_type": "execute_result"
    }
   ],
   "source": [
    "com_bond"
   ]
  },
  {
   "cell_type": "code",
   "execution_count": 180,
   "metadata": {},
   "outputs": [
    {
     "data": {
      "text/plain": [
       "0.6924626120263444"
      ]
     },
     "execution_count": 180,
     "metadata": {},
     "output_type": "execute_result"
    }
   ],
   "source": [
    "np.std(com_bond)"
   ]
  },
  {
   "cell_type": "code",
   "execution_count": 181,
   "metadata": {},
   "outputs": [
    {
     "data": {
      "text/plain": [
       "5.736817192432176"
      ]
     },
     "execution_count": 181,
     "metadata": {},
     "output_type": "execute_result"
    }
   ],
   "source": [
    "lb_avg_pn6 = np.mean(com_bond)\n",
    "lb_avg_pn6"
   ]
  },
  {
   "cell_type": "code",
   "execution_count": 182,
   "metadata": {},
   "outputs": [
    {
     "data": {
      "text/plain": [
       "5.716248941878295"
      ]
     },
     "execution_count": 182,
     "metadata": {},
     "output_type": "execute_result"
    }
   ],
   "source": [
    "np.mean(com_bond_n30dmso)"
   ]
  },
  {
   "cell_type": "code",
   "execution_count": 183,
   "metadata": {},
   "outputs": [
    {
     "data": {
      "text/plain": [
       "0.7265283347026412"
      ]
     },
     "execution_count": 183,
     "metadata": {},
     "output_type": "execute_result"
    }
   ],
   "source": [
    "np.std(com_bond_n30dmso)"
   ]
  },
  {
   "cell_type": "markdown",
   "metadata": {},
   "source": [
    "### Radius of Gyration vs. time N = 30 PLGA/DMSO system"
   ]
  },
  {
   "cell_type": "code",
   "execution_count": 184,
   "metadata": {},
   "outputs": [],
   "source": [
    "n30plga_rgens_dmso, cor_n30plga_dmso, N30plga_cos_dmso, rgace_n30plga = get_rg_pers_poly(plga_n30dmso, n30_plga_dmso, 0, 18000)"
   ]
  },
  {
   "cell_type": "code",
   "execution_count": 185,
   "metadata": {},
   "outputs": [
    {
     "data": {
      "text/plain": [
       "(18000,)"
      ]
     },
     "execution_count": 185,
     "metadata": {},
     "output_type": "execute_result"
    }
   ],
   "source": [
    "n30plga_rgens_dmso[0].shape"
   ]
  },
  {
   "cell_type": "code",
   "execution_count": 186,
   "metadata": {},
   "outputs": [
    {
     "data": {
      "text/plain": [
       "array([ 0.,  1.,  2.,  3.,  4.,  5.,  6.,  7.,  8.,  9., 10., 11., 12.,\n",
       "       13., 14., 15., 16., 17., 18., 19., 20., 21., 22., 23., 24., 25.,\n",
       "       26., 27., 28.])"
      ]
     },
     "execution_count": 186,
     "metadata": {},
     "output_type": "execute_result"
    }
   ],
   "source": [
    "cor_n30plga_dmso[3]"
   ]
  },
  {
   "cell_type": "code",
   "execution_count": 187,
   "metadata": {},
   "outputs": [
    {
     "data": {
      "text/plain": [
       "array([[1.        , 1.        , 1.        , ..., 1.        , 1.        ,\n",
       "        1.        ],\n",
       "       [0.84981132, 0.84188727, 0.84677897, ..., 0.84637581, 0.85032134,\n",
       "        0.85030163],\n",
       "       [0.6688501 , 0.66457949, 0.66992648, ..., 0.65660089, 0.6634286 ,\n",
       "        0.66154485],\n",
       "       ...,\n",
       "       [0.73789242, 0.76499085, 0.7781883 , ..., 0.64095834, 0.59187983,\n",
       "        0.58837435],\n",
       "       [0.89362823, 0.92850502, 0.91383974, ..., 0.53602078, 0.50549504,\n",
       "        0.5145474 ],\n",
       "       [0.8118841 , 0.86196073, 0.82912356, ..., 0.45604657, 0.33869294,\n",
       "        0.30043579]])"
      ]
     },
     "execution_count": 187,
     "metadata": {},
     "output_type": "execute_result"
    }
   ],
   "source": [
    "N30plga_cos_dmso"
   ]
  },
  {
   "cell_type": "code",
   "execution_count": 188,
   "metadata": {},
   "outputs": [
    {
     "data": {
      "text/plain": [
       "20.062008472498107"
      ]
     },
     "execution_count": 188,
     "metadata": {},
     "output_type": "execute_result"
    }
   ],
   "source": [
    "rgace_n30plga"
   ]
  },
  {
   "cell_type": "code",
   "execution_count": 189,
   "metadata": {},
   "outputs": [
    {
     "data": {
      "text/plain": [
       "3.6924204925051347"
      ]
     },
     "execution_count": 189,
     "metadata": {},
     "output_type": "execute_result"
    }
   ],
   "source": [
    "np.std(n30plga_rgens_dmso)"
   ]
  },
  {
   "cell_type": "code",
   "execution_count": 237,
   "metadata": {},
   "outputs": [],
   "source": [
    "np.save('n6plga_dmsoRg.npy', n6plga_rgens_dmso[0])\n",
    "np.save('n8plga_dmsoRg.npy', n8plga_rgens_dmso[0])\n",
    "np.save('n10plga_dmsoRg.npy', n10plga_rgens_dmso[0])\n",
    "np.save('n20plga_dmsoRg.npy', n20plga_rgens_dmso[0])\n",
    "np.save('n30plga_dmsoRg.npy', n30plga_rgens_dmso[0])"
   ]
  },
  {
   "cell_type": "code",
   "execution_count": 214,
   "metadata": {},
   "outputs": [
    {
     "data": {
      "text/plain": [
       "(0.2, 4)"
      ]
     },
     "execution_count": 214,
     "metadata": {},
     "output_type": "execute_result"
    },
    {
     "data": {
      "image/png": "[encoded data removed]",
      "text/plain": [
       "<Figure size 504x504 with 1 Axes>"
      ]
     },
     "metadata": {
      "needs_background": "light"
     },
     "output_type": "display_data"
    }
   ],
   "source": [
    "plt.figure(figsize=(7,7))\n",
    "plt.title(r'PLGA Radius of Gyration', fontsize=18, y=1.01)\n",
    "plt.xlabel(r'Time [ns]', fontsize=15)\n",
    "plt.ylabel(r'$R_{g}$ [nm]', fontsize=15)\n",
    "plt.plot(trj_len/100, n6plga_rgens_dmso[0]/10,linewidth=2, color='#CCBE9F')\n",
    "plt.plot(trj_len/100, n8plga_rgens_dmso[0]/10,linewidth=2, color='#601A4A')\n",
    "plt.plot(trj_len/100, n10plga_rgens_dmso[0]/10,linewidth=2, color='#2B6322')\n",
    "plt.plot(trj_len/100, n20plga_rgens_dmso[0]/10,linewidth=2, color='#562A8B')\n",
    "plt.plot(trj_len/100, n30plga_rgens_dmso[0]/10,linewidth=2, color='#1D77CF')\n",
    "plt.tick_params(labelsize=14)\n",
    "plt.legend(['N = 6 in DMSO','N = 8 in DMSO','N = 10 in DMSO','N = 20 in DMSO','N = 30 in DMSO'], frameon=False, fontsize=14)\n",
    "#plt.text(127, 0.96,r'N = 6 in water', fontsize=18, color='#1F2E69', family='Arial')\n",
    "plt.xlim(0,180)\n",
    "plt.ylim(0.2,4)"
   ]
  },
  {
   "cell_type": "markdown",
   "metadata": {},
   "source": [
    "#### Correlation values at each arc length for the whole 180 ns trajectory, N = 30 PLGA/DMSO"
   ]
  },
  {
   "cell_type": "code",
   "execution_count": 191,
   "metadata": {},
   "outputs": [
    {
     "data": {
      "text/plain": [
       "array([  0.        ,   5.73681719,  11.47363438,  17.21045158,\n",
       "        22.94726877,  28.68408596,  34.42090315,  40.15772035,\n",
       "        45.89453754,  51.63135473,  57.36817192,  63.10498912,\n",
       "        68.84180631,  74.5786235 ,  80.31544069,  86.05225789,\n",
       "        91.78907508,  97.52589227, 103.26270946, 108.99952666,\n",
       "       114.73634385, 120.47316104, 126.20997823, 131.94679543,\n",
       "       137.68361262, 143.42042981, 149.157247  , 154.8940642 ,\n",
       "       160.63088139])"
      ]
     },
     "execution_count": 191,
     "metadata": {},
     "output_type": "execute_result"
    }
   ],
   "source": [
    "# x values\n",
    "blen_n30dmso = cor_n30plga_dmso[3]*lb_avg_pn6\n",
    "#nt_tt[0] = 0\n",
    "blen_n30dmso"
   ]
  },
  {
   "cell_type": "code",
   "execution_count": 192,
   "metadata": {},
   "outputs": [
    {
     "data": {
      "text/plain": [
       "array([3.41191684e-18, 2.27645377e-02, 6.70378505e-02, 1.13204091e-01,\n",
       "       1.48250028e-01, 1.88160331e-01, 2.13994367e-01, 2.41856873e-01,\n",
       "       2.85761885e-01, 3.44906619e-01, 3.90597186e-01, 4.68082673e-01,\n",
       "       5.16151046e-01, 5.63860587e-01, 5.68101757e-01, 5.81583528e-01,\n",
       "       6.11694295e-01, 6.88878566e-01, 7.20605075e-01, 7.00308786e-01,\n",
       "       7.18474328e-01, 7.92397655e-01, 8.94074370e-01, 1.03841250e+00,\n",
       "       1.19312195e+00, 1.30106875e+00, 1.47752111e+00, 1.64966065e+00,\n",
       "       2.31461119e+00])"
      ]
     },
     "execution_count": 192,
     "metadata": {},
     "output_type": "execute_result"
    }
   ],
   "source": [
    "# Error propagation into semi-log data\n",
    "mk_n30p_dmso = cor_n30plga_dmso[1]/cor_n30plga_dmso[0]\n",
    "mk_n30p_dmso"
   ]
  },
  {
   "cell_type": "code",
   "execution_count": 193,
   "metadata": {},
   "outputs": [
    {
     "data": {
      "text/plain": [
       "<ErrorbarContainer object of 3 artists>"
      ]
     },
     "execution_count": 193,
     "metadata": {},
     "output_type": "execute_result"
    },
    {
     "data": {
      "image/png": "[encoded data removed]",
      "text/plain": [
       "<Figure size 504x504 with 1 Axes>"
      ]
     },
     "metadata": {
      "needs_background": "light"
     },
     "output_type": "display_data"
    }
   ],
   "source": [
    "plt.figure(figsize=(7,7))\n",
    "plt.errorbar(blen_dmso, np.log(cor_n6plga_dmso[0]), yerr=mk_n6p_dmso, color='#CCBE9F', linestyle=\"None\",marker='o',\n",
    "     capsize=5, capthick=1, ecolor='black')\n",
    "plt.errorbar(blen_n8dmso, np.log(cor_n8plga_dmso[0]), yerr=mk_n8p_dmso, color='#601A4A', linestyle=\"None\",marker='o',\n",
    "     capsize=5, capthick=1, ecolor='black')\n",
    "plt.errorbar(blen_n10dmso, np.log(cor_n10plga_dmso[0]), yerr=mk_n10p_dmso, color='#2B6322', linestyle=\"None\",marker='o',\n",
    "     capsize=5, capthick=1, ecolor='black')\n",
    "plt.errorbar(blen_n20dmso, np.log(cor_n20plga_dmso[0]), yerr=mk_n20p_dmso, color='#562A8B', linestyle=\"None\",marker='o',\n",
    "     capsize=5, capthick=1, ecolor='black')\n",
    "plt.errorbar(blen_n30dmso, np.log(cor_n30plga_dmso[0]), yerr=mk_n30p_dmso, color='#1D77CF', linestyle=\"None\",marker='o',\n",
    "     capsize=5, capthick=1, ecolor='black')"
   ]
  },
  {
   "cell_type": "code",
   "execution_count": 194,
   "metadata": {},
   "outputs": [
    {
     "name": "stdout",
     "output_type": "stream",
     "text": [
      "3000\n",
      "6000\n",
      "Lp [Angstroms]: 29.7596158822288\n",
      "Error in Lp from fit [Angstroms], 95% CL : 0.09570859516672632\n",
      "R2 score: 0.9959553407278264\n",
      "6000\n",
      "9000\n"
     ]
    },
    {
     "name": "stderr",
     "output_type": "stream",
     "text": [
      "/Users/cnyambura/Simulations_2019/ikt_sims/BSA_poly_sys/PLGA_new_sims/plga_dmso/polymer_MD_analysis.py:312: RuntimeWarning: invalid value encountered in log\n",
      "  npoly_lc = np.log(cor_tp[0])\n"
     ]
    },
    {
     "name": "stdout",
     "output_type": "stream",
     "text": [
      "Lp [Angstroms]: 34.38635331204867\n",
      "Error in Lp from fit [Angstroms], 95% CL : 0.09498084472806505\n",
      "R2 score: 0.9970128538760575\n",
      "9000\n",
      "12000\n",
      "Lp [Angstroms]: 39.6099915594847\n",
      "Error in Lp from fit [Angstroms], 95% CL : 0.2301746974296389\n",
      "R2 score: 0.9856279291065875\n",
      "12000\n",
      "15000\n",
      "Lp [Angstroms]: 40.19497519960764\n",
      "Error in Lp from fit [Angstroms], 95% CL : 0.14285676879286868\n",
      "R2 score: 0.9947669207297755\n",
      "15000\n",
      "18000\n",
      "Lp [Angstroms]: 34.05873852516946\n",
      "Error in Lp from fit [Angstroms], 95% CL : 0.08309257313736572\n",
      "R2 score: 0.9976668325993079\n"
     ]
    }
   ],
   "source": [
    "# All the points give the best fits for N = 10 plga in DMSO\n",
    "n30_blksplga_dmso , n30plga_lpdmso = bavg_pers_cnt(5, plga_n30dmso, n30_plga_dmso, lb_avg_pn6, 5, 3000 , 18000)"
   ]
  },
  {
   "cell_type": "code",
   "execution_count": 195,
   "metadata": {},
   "outputs": [
    {
     "data": {
      "text/plain": [
       "{'Avg Radius of gyration': array([20.41207189, 20.47842015, 21.62141855, 22.74753821, 15.27873774]),\n",
       " 'Avg persistence length': array([29.75961588, 34.38635331, 39.60999156, 40.1949752 , 34.05873853])}"
      ]
     },
     "execution_count": 195,
     "metadata": {},
     "output_type": "execute_result"
    }
   ],
   "source": [
    "n30_blksplga_dmso"
   ]
  },
  {
   "cell_type": "code",
   "execution_count": 196,
   "metadata": {},
   "outputs": [
    {
     "data": {
      "text/plain": [
       "array([[ 2.97596159e+01,  3.43863533e+01,  3.96099916e+01,\n",
       "         4.01949752e+01,  3.40587385e+01],\n",
       "       [ 9.57085952e-02,  9.49808447e-02,  2.30174697e-01,\n",
       "         1.42856769e-01,  8.30925731e-02],\n",
       "       [-3.36025843e-02, -2.90813042e-02, -2.52461553e-02,\n",
       "        -2.48787316e-02, -2.93610405e-02],\n",
       "       [ 3.09434126e-04,  1.70963414e-04,  5.70258508e-04,\n",
       "         2.07152508e-04,  1.35952060e-04]])"
      ]
     },
     "execution_count": 196,
     "metadata": {},
     "output_type": "execute_result"
    }
   ],
   "source": [
    "n30plga_lpdmso"
   ]
  },
  {
   "cell_type": "code",
   "execution_count": 197,
   "metadata": {},
   "outputs": [
    {
     "data": {
      "text/plain": [
       "array([-0.03360258, -0.0290813 , -0.02524616, -0.02487873, -0.02936104])"
      ]
     },
     "execution_count": 197,
     "metadata": {},
     "output_type": "execute_result"
    }
   ],
   "source": [
    "n30plga_lpdmso[2]"
   ]
  },
  {
   "cell_type": "code",
   "execution_count": 198,
   "metadata": {},
   "outputs": [
    {
     "data": {
      "text/plain": [
       "0.0002787521233491621"
      ]
     },
     "execution_count": 198,
     "metadata": {},
     "output_type": "execute_result"
    }
   ],
   "source": [
    "np.mean(n30plga_lpdmso[3])"
   ]
  },
  {
   "cell_type": "code",
   "execution_count": 199,
   "metadata": {},
   "outputs": [
    {
     "data": {
      "text/plain": [
       "array([  0.        ,   5.73681719,  11.47363438,  17.21045158,\n",
       "        22.94726877,  28.68408596,  34.42090315,  40.15772035,\n",
       "        45.89453754,  51.63135473,  57.36817192,  63.10498912,\n",
       "        68.84180631,  74.5786235 ,  80.31544069,  86.05225789,\n",
       "        91.78907508,  97.52589227, 103.26270946, 108.99952666,\n",
       "       114.73634385, 120.47316104, 126.20997823, 131.94679543,\n",
       "       137.68361262, 143.42042981, 149.157247  , 154.8940642 ,\n",
       "       160.63088139])"
      ]
     },
     "execution_count": 199,
     "metadata": {},
     "output_type": "execute_result"
    }
   ],
   "source": [
    "blen_n30dmso"
   ]
  },
  {
   "cell_type": "code",
   "execution_count": 200,
   "metadata": {},
   "outputs": [],
   "source": [
    "gg_n30plga_dmso = line_fit(np.mean(n30plga_lpdmso[2]),blen_n30dmso)"
   ]
  },
  {
   "cell_type": "code",
   "execution_count": 201,
   "metadata": {},
   "outputs": [],
   "source": [
    "gg_n6plga_n30dmso = line_fit(np.mean(n6plga_lpdmso[2]),blen_n30dmso)"
   ]
  },
  {
   "cell_type": "code",
   "execution_count": 202,
   "metadata": {},
   "outputs": [],
   "source": [
    "gg_n8plga_n30dmso = line_fit(np.mean(n8plga_lpdmso[2]),blen_n30dmso)"
   ]
  },
  {
   "cell_type": "code",
   "execution_count": 203,
   "metadata": {},
   "outputs": [],
   "source": [
    "gg_n10plga_n30dmso = line_fit(np.mean(n10plga_lpdmso[2]),blen_n30dmso)"
   ]
  },
  {
   "cell_type": "code",
   "execution_count": 204,
   "metadata": {},
   "outputs": [],
   "source": [
    "gg_n20plga_n30dmso = line_fit(np.mean(n20plga_lpdmso[2]),blen_n30dmso)"
   ]
  },
  {
   "cell_type": "code",
   "execution_count": 205,
   "metadata": {},
   "outputs": [
    {
     "data": {
      "text/plain": [
       "array([-0.        , -0.16312045, -0.3262409 , -0.48936135, -0.65248179,\n",
       "       -0.81560224, -0.97872269, -1.14184314, -1.30496359, -1.46808404,\n",
       "       -1.63120449, -1.79432494, -1.95744538, -2.12056583, -2.28368628,\n",
       "       -2.44680673, -2.60992718, -2.77304763, -2.93616808, -3.09928853,\n",
       "       -3.26240897, -3.42552942, -3.58864987, -3.75177032, -3.91489077,\n",
       "       -4.07801122, -4.24113167, -4.40425212, -4.56737256])"
      ]
     },
     "execution_count": 205,
     "metadata": {},
     "output_type": "execute_result"
    }
   ],
   "source": [
    "gg_n30plga_dmso"
   ]
  },
  {
   "cell_type": "markdown",
   "metadata": {},
   "source": [
    "### Block averaged Radius of gyration and persistence length, N = 30 PLGA/DMSO"
   ]
  },
  {
   "cell_type": "code",
   "execution_count": 206,
   "metadata": {},
   "outputs": [
    {
     "data": {
      "text/plain": [
       "35.601934895707856"
      ]
     },
     "execution_count": 206,
     "metadata": {},
     "output_type": "execute_result"
    }
   ],
   "source": [
    "np.mean(n30_blksplga_dmso[\"Avg persistence length\"])"
   ]
  },
  {
   "cell_type": "code",
   "execution_count": 207,
   "metadata": {},
   "outputs": [
    {
     "data": {
      "text/plain": [
       "3.876914302202897"
      ]
     },
     "execution_count": 207,
     "metadata": {},
     "output_type": "execute_result"
    }
   ],
   "source": [
    "np.std(n30_blksplga_dmso[\"Avg persistence length\"])"
   ]
  },
  {
   "cell_type": "code",
   "execution_count": 208,
   "metadata": {},
   "outputs": [
    {
     "data": {
      "text/plain": [
       "20.107637308347186"
      ]
     },
     "execution_count": 208,
     "metadata": {},
     "output_type": "execute_result"
    }
   ],
   "source": [
    "np.mean(n30_blksplga_dmso[\"Avg Radius of gyration\"])"
   ]
  },
  {
   "cell_type": "code",
   "execution_count": 209,
   "metadata": {},
   "outputs": [
    {
     "data": {
      "text/plain": [
       "2.5616026941260883"
      ]
     },
     "execution_count": 209,
     "metadata": {},
     "output_type": "execute_result"
    }
   ],
   "source": [
    "np.std(n30_blksplga_dmso[\"Avg Radius of gyration\"])"
   ]
  },
  {
   "cell_type": "code",
   "execution_count": 236,
   "metadata": {},
   "outputs": [
    {
     "data": {
      "text/plain": [
       "Text(0.5, -5.3, '$N_{PLGA}$ = 30: $L_{p}$ = 35.6 $\\\\AA$ ± 3.88 $\\\\AA$')"
      ]
     },
     "execution_count": 236,
     "metadata": {},
     "output_type": "execute_result"
    },
    {
     "data": {
      "image/png": "[encoded data removed]",
      "text/plain": [
       "<Figure size 504x504 with 1 Axes>"
      ]
     },
     "metadata": {
      "needs_background": "light"
     },
     "output_type": "display_data"
    }
   ],
   "source": [
    "plt.figure(figsize=(7,7))\n",
    "plt.errorbar(blen_dmso, np.log(cor_n6plga_dmso[0]), yerr=mk_n6p_dmso, color='#CCBE9F', linestyle=\"None\",marker='o',\n",
    "     capsize=5, capthick=1, ecolor='black')\n",
    "plt.errorbar(blen_n8dmso, np.log(cor_n8plga_dmso[0]), yerr=mk_n8p_dmso, color='#601A4A', linestyle=\"None\",marker='o',\n",
    "     capsize=5, capthick=1, ecolor='black')\n",
    "plt.errorbar(blen_n10dmso, np.log(cor_n10plga_dmso[0]), yerr=mk_n10p_dmso, color='#2B6322', linestyle=\"None\",marker='o',\n",
    "     capsize=5, capthick=1, ecolor='black')\n",
    "plt.errorbar(blen_n20dmso, np.log(cor_n20plga_dmso[0]), yerr=mk_n20p_dmso, color='#562A8B', linestyle=\"None\",marker='o',\n",
    "     capsize=5, capthick=1, ecolor='black')\n",
    "plt.errorbar(blen_n30dmso, np.log(cor_n30plga_dmso[0]), yerr=mk_n30p_dmso, color='#1D77CF', linestyle=\"None\",marker='o',\n",
    "     capsize=5, capthick=1, ecolor='black')\n",
    "plt.plot(blen_n30dmso[:15], gg_n6plga_n30dmso[:15], color='#CCBE9F')\n",
    "plt.plot(blen_n30dmso[:15], gg_n8plga_n30dmso[:15], color='#601A4A')\n",
    "plt.plot(blen_n30dmso[:15], gg_n10plga_n30dmso[:15], color='#2B6322')\n",
    "plt.plot(blen_n30dmso[:15], gg_n20plga_n30dmso[:15], color='#562A8B')\n",
    "plt.plot(blen_n30dmso[:15], gg_n30plga_dmso[:15], color='#1D77CF')\n",
    "plt.title(r'Ensemble Averaged ln(Cosine $\\theta$) PLGA in DMSO', fontsize=15, y=1.01)\n",
    "plt.xlabel(r'Bond Length', fontsize=15)\n",
    "plt.ylabel(r'ln$\\left< Cos(\\theta)\\right >$', fontsize=15)\n",
    "plt.ylim(-7,2)\n",
    "plt.xlim(0,165)\n",
    "font = font_manager.FontProperties(family='Arial', style='normal', size='14')\n",
    "plt.tick_params(labelsize=14)\n",
    "plt.text(0.5, -6.92,r'$N_{PLGA}$ = 6: $L_{p}$ = 37.4 $\\AA$ ± 6.91 $\\AA$', fontsize=15, color='#CCBE9F')\n",
    "plt.text(0.5, -6.54,r'$N_{PLGA}$ = 8: $L_{p}$ = 30.8 $\\AA$ ± 5.57 $\\AA$', fontsize=15, color='#601A4A')\n",
    "plt.text(0.5, -6.14,r'$N_{PLGA}$ = 10: $L_{p}$ = 28.0 $\\AA$ ± 4.66 $\\AA$', fontsize=15, color='#2B6322')\n",
    "plt.text(0.5, -5.70,r'$N_{PLGA}$ = 20: $L_{p}$ = 34.8 $\\AA$ ± 4.37 $\\AA$', fontsize=15, color='#562A8B')\n",
    "plt.text(0.5, -5.30,r'$N_{PLGA}$ = 30: $L_{p}$ = 35.6 $\\AA$ ± 3.88 $\\AA$', fontsize=15, color='#1D77CF')"
   ]
  },
  {
   "cell_type": "code",
   "execution_count": 211,
   "metadata": {},
   "outputs": [
    {
     "data": {
      "text/html": [
       "<div>\n",
       "<style scoped>\n",
       "    .dataframe tbody tr th:only-of-type {\n",
       "        vertical-align: middle;\n",
       "    }\n",
       "\n",
       "    .dataframe tbody tr th {\n",
       "        vertical-align: top;\n",
       "    }\n",
       "\n",
       "    .dataframe thead th {\n",
       "        text-align: right;\n",
       "    }\n",
       "</style>\n",
       "<table border=\"1\" class=\"dataframe\">\n",
       "  <thead>\n",
       "    <tr style=\"text-align: right;\">\n",
       "      <th></th>\n",
       "      <th>$R_{g}$ [Angstrom] N = 6 PLGA DMSO</th>\n",
       "      <th>$R_{g}$ [Angstrom] N = 8 PLGA DMSO</th>\n",
       "      <th>$R_{g}$ [Angstrom] N = 10 PLGA DMSO</th>\n",
       "      <th>$R_{g}$ [Angstrom] N = 20 PLGA DMSO</th>\n",
       "      <th>$R_{g}$ [Angstrom] N = 30 PLGA DMSO</th>\n",
       "    </tr>\n",
       "  </thead>\n",
       "  <tbody>\n",
       "    <tr>\n",
       "      <td>0</td>\n",
       "      <td>7.989397</td>\n",
       "      <td>8.970195</td>\n",
       "      <td>9.078778</td>\n",
       "      <td>17.854491</td>\n",
       "      <td>20.412072</td>\n",
       "    </tr>\n",
       "    <tr>\n",
       "      <td>1</td>\n",
       "      <td>6.970289</td>\n",
       "      <td>9.819166</td>\n",
       "      <td>9.652229</td>\n",
       "      <td>14.912217</td>\n",
       "      <td>20.478420</td>\n",
       "    </tr>\n",
       "    <tr>\n",
       "      <td>2</td>\n",
       "      <td>7.749726</td>\n",
       "      <td>8.293361</td>\n",
       "      <td>8.069390</td>\n",
       "      <td>12.895816</td>\n",
       "      <td>21.621419</td>\n",
       "    </tr>\n",
       "    <tr>\n",
       "      <td>3</td>\n",
       "      <td>7.566029</td>\n",
       "      <td>8.912474</td>\n",
       "      <td>10.535148</td>\n",
       "      <td>14.866219</td>\n",
       "      <td>22.747538</td>\n",
       "    </tr>\n",
       "    <tr>\n",
       "      <td>4</td>\n",
       "      <td>8.045482</td>\n",
       "      <td>7.766943</td>\n",
       "      <td>9.701611</td>\n",
       "      <td>15.963037</td>\n",
       "      <td>15.278738</td>\n",
       "    </tr>\n",
       "  </tbody>\n",
       "</table>\n",
       "</div>"
      ],
      "text/plain": [
       "   $R_{g}$ [Angstrom] N = 6 PLGA DMSO  $R_{g}$ [Angstrom] N = 8 PLGA DMSO  \\\n",
       "0                            7.989397                            8.970195   \n",
       "1                            6.970289                            9.819166   \n",
       "2                            7.749726                            8.293361   \n",
       "3                            7.566029                            8.912474   \n",
       "4                            8.045482                            7.766943   \n",
       "\n",
       "   $R_{g}$ [Angstrom] N = 10 PLGA DMSO  $R_{g}$ [Angstrom] N = 20 PLGA DMSO  \\\n",
       "0                             9.078778                            17.854491   \n",
       "1                             9.652229                            14.912217   \n",
       "2                             8.069390                            12.895816   \n",
       "3                            10.535148                            14.866219   \n",
       "4                             9.701611                            15.963037   \n",
       "\n",
       "   $R_{g}$ [Angstrom] N = 30 PLGA DMSO  \n",
       "0                            20.412072  \n",
       "1                            20.478420  \n",
       "2                            21.621419  \n",
       "3                            22.747538  \n",
       "4                            15.278738  "
      ]
     },
     "execution_count": 211,
     "metadata": {},
     "output_type": "execute_result"
    }
   ],
   "source": [
    "rgplga_olig_dmso[r\"$R_{g}$ [Angstrom] N = 30 PLGA DMSO\"] = n30_blksplga_dmso[\"Avg Radius of gyration\"]\n",
    "rgplga_olig_dmso"
   ]
  },
  {
   "cell_type": "code",
   "execution_count": 212,
   "metadata": {},
   "outputs": [
    {
     "data": {
      "text/html": [
       "<div>\n",
       "<style scoped>\n",
       "    .dataframe tbody tr th:only-of-type {\n",
       "        vertical-align: middle;\n",
       "    }\n",
       "\n",
       "    .dataframe tbody tr th {\n",
       "        vertical-align: top;\n",
       "    }\n",
       "\n",
       "    .dataframe thead th {\n",
       "        text-align: right;\n",
       "    }\n",
       "</style>\n",
       "<table border=\"1\" class=\"dataframe\">\n",
       "  <thead>\n",
       "    <tr style=\"text-align: right;\">\n",
       "      <th></th>\n",
       "      <th>$L_{p}$ [Angstrom] N = 6 PLGA DMSO</th>\n",
       "      <th>$L_{p}$ [Angstrom] N = 8 PLGA DMSO</th>\n",
       "      <th>$L_{p}$ [Angstrom] N = 10 PLGA DMSO</th>\n",
       "      <th>$L_{p}$ [Angstrom] N = 20 PLGA DMSO</th>\n",
       "      <th>$L_{p}$ [Angstrom] N = 30 PLGA DMSO</th>\n",
       "    </tr>\n",
       "  </thead>\n",
       "  <tbody>\n",
       "    <tr>\n",
       "      <td>0</td>\n",
       "      <td>41.431109</td>\n",
       "      <td>31.995460</td>\n",
       "      <td>25.066873</td>\n",
       "      <td>41.636495</td>\n",
       "      <td>29.759616</td>\n",
       "    </tr>\n",
       "    <tr>\n",
       "      <td>1</td>\n",
       "      <td>27.965706</td>\n",
       "      <td>39.314315</td>\n",
       "      <td>26.036077</td>\n",
       "      <td>37.140086</td>\n",
       "      <td>34.386353</td>\n",
       "    </tr>\n",
       "    <tr>\n",
       "      <td>2</td>\n",
       "      <td>36.288427</td>\n",
       "      <td>29.332022</td>\n",
       "      <td>23.352691</td>\n",
       "      <td>34.151658</td>\n",
       "      <td>39.609992</td>\n",
       "    </tr>\n",
       "    <tr>\n",
       "      <td>3</td>\n",
       "      <td>33.348272</td>\n",
       "      <td>31.320345</td>\n",
       "      <td>36.541487</td>\n",
       "      <td>28.798965</td>\n",
       "      <td>40.194975</td>\n",
       "    </tr>\n",
       "    <tr>\n",
       "      <td>4</td>\n",
       "      <td>48.152321</td>\n",
       "      <td>21.915798</td>\n",
       "      <td>29.157363</td>\n",
       "      <td>32.159310</td>\n",
       "      <td>34.058739</td>\n",
       "    </tr>\n",
       "  </tbody>\n",
       "</table>\n",
       "</div>"
      ],
      "text/plain": [
       "   $L_{p}$ [Angstrom] N = 6 PLGA DMSO   $L_{p}$ [Angstrom] N = 8 PLGA DMSO   \\\n",
       "0                            41.431109                            31.995460   \n",
       "1                            27.965706                            39.314315   \n",
       "2                            36.288427                            29.332022   \n",
       "3                            33.348272                            31.320345   \n",
       "4                            48.152321                            21.915798   \n",
       "\n",
       "   $L_{p}$ [Angstrom] N = 10 PLGA DMSO   $L_{p}$ [Angstrom] N = 20 PLGA DMSO   \\\n",
       "0                             25.066873                             41.636495   \n",
       "1                             26.036077                             37.140086   \n",
       "2                             23.352691                             34.151658   \n",
       "3                             36.541487                             28.798965   \n",
       "4                             29.157363                             32.159310   \n",
       "\n",
       "   $L_{p}$ [Angstrom] N = 30 PLGA DMSO   \n",
       "0                             29.759616  \n",
       "1                             34.386353  \n",
       "2                             39.609992  \n",
       "3                             40.194975  \n",
       "4                             34.058739  "
      ]
     },
     "execution_count": 212,
     "metadata": {},
     "output_type": "execute_result"
    }
   ],
   "source": [
    "pers_plgat_dmso[r\"$L_{p}$ [Angstrom] N = 30 PLGA DMSO \"] = n30_blksplga_dmso[\"Avg persistence length\"]\n",
    "pers_plgat_dmso"
   ]
  },
  {
   "cell_type": "code",
   "execution_count": 216,
   "metadata": {},
   "outputs": [],
   "source": [
    "rgplga_olig_dmso.to_pickle(\"PLGA_DMSO_Rg.pkl\")"
   ]
  },
  {
   "cell_type": "code",
   "execution_count": 217,
   "metadata": {},
   "outputs": [],
   "source": [
    "pers_plgat_dmso.to_pickle(\"PLGA_DMSO_Lp.pkl\")"
   ]
  },
  {
   "cell_type": "markdown",
   "metadata": {},
   "source": [
    "### Fluory Exponent, PLGA/DMSO systems "
   ]
  },
  {
   "cell_type": "code",
   "execution_count": 218,
   "metadata": {},
   "outputs": [],
   "source": [
    "n_plga = np.array([6,8,10,20,30])\n",
    "rg_nplga_dmso = np.array([np.mean(n6_blksplga_dmso[\"Avg Radius of gyration\"])\n",
    "                    ,np.mean(n8_blksplga_dmso[\"Avg Radius of gyration\"]),np.mean(n10_blksplga_dmso[\"Avg Radius of gyration\"])\n",
    "                    ,np.mean(n20_blksplga_dmso[\"Avg Radius of gyration\"]),np.mean(n30_blksplga_dmso[\"Avg Radius of gyration\"])])"
   ]
  },
  {
   "cell_type": "code",
   "execution_count": 219,
   "metadata": {},
   "outputs": [
    {
     "data": {
      "text/plain": [
       "array([ 7.66418458,  8.75242794,  9.40743106, 15.29835598, 20.10763731])"
      ]
     },
     "execution_count": 219,
     "metadata": {},
     "output_type": "execute_result"
    }
   ],
   "source": [
    "rg_nplga_dmso"
   ]
  },
  {
   "cell_type": "code",
   "execution_count": 220,
   "metadata": {},
   "outputs": [
    {
     "data": {
      "text/plain": [
       "array([0.02245878, 0.03435137, 0.03843184, 0.046038  , 0.06019604])"
      ]
     },
     "execution_count": 220,
     "metadata": {},
     "output_type": "execute_result"
    }
   ],
   "source": [
    "rgdmso_nplga_std = np.array([np.std(np.log10(n6_blksplga_dmso[\"Avg Radius of gyration\"]))\n",
    "                    ,np.std(np.log10(n8_blksplga_dmso[\"Avg Radius of gyration\"]))\n",
    "                        ,np.std(np.log10(n10_blksplga_dmso[\"Avg Radius of gyration\"]))\n",
    "                    ,np.std(np.log10(n20_blksplga_dmso[\"Avg Radius of gyration\"]))\n",
    "                        ,np.std(np.log10(n30_blksplga_dmso[\"Avg Radius of gyration\"]))])\n",
    "rgdmso_nplga_std"
   ]
  },
  {
   "cell_type": "code",
   "execution_count": 221,
   "metadata": {},
   "outputs": [
    {
     "data": {
      "text/plain": [
       "array([ 6,  8, 10, 20, 30])"
      ]
     },
     "execution_count": 221,
     "metadata": {},
     "output_type": "execute_result"
    }
   ],
   "source": [
    "n_plga"
   ]
  },
  {
   "cell_type": "code",
   "execution_count": 222,
   "metadata": {},
   "outputs": [
    {
     "data": {
      "text/plain": [
       "array([0.88446596, 0.94212854, 0.97347104, 1.18464476, 1.30336104])"
      ]
     },
     "execution_count": 222,
     "metadata": {},
     "output_type": "execute_result"
    }
   ],
   "source": [
    "np.log10(rg_nplga_dmso)"
   ]
  },
  {
   "cell_type": "code",
   "execution_count": 223,
   "metadata": {},
   "outputs": [
    {
     "data": {
      "text/plain": [
       "array([0.77815125, 0.90308999, 1.        , 1.30103   , 1.47712125])"
      ]
     },
     "execution_count": 223,
     "metadata": {},
     "output_type": "execute_result"
    }
   ],
   "source": [
    "np.log10(n_plga)"
   ]
  },
  {
   "cell_type": "code",
   "execution_count": 224,
   "metadata": {},
   "outputs": [
    {
     "name": "stdout",
     "output_type": "stream",
     "text": [
      "Model slope:     0.6128401415750979\n",
      "Model intercept: 0.3884672968106906\n"
     ]
    }
   ],
   "source": [
    "# From fitting all points, I get best fit \n",
    "from sklearn.linear_model import LinearRegression\n",
    "model_vpdmso = LinearRegression(fit_intercept=True)\n",
    "model_vpdmso.fit(np.log10(n_plga).reshape(-1,1), np.log10(rg_nplga_dmso))\n",
    "# Slope here is in nanometers\n",
    "print(\"Model slope:    \", model_vpdmso.coef_[0])\n",
    "print(\"Model intercept:\", model_vpdmso.intercept_)"
   ]
  },
  {
   "cell_type": "code",
   "execution_count": 225,
   "metadata": {},
   "outputs": [
    {
     "data": {
      "text/plain": [
       "array([0.86534962, 0.94191709, 1.00130744, 1.1857907 , 1.2937065 ])"
      ]
     },
     "execution_count": 225,
     "metadata": {},
     "output_type": "execute_result"
    }
   ],
   "source": [
    "gg_dmso = model_vpdmso.predict(np.log10(n_plga.reshape(-1,1)))\n",
    "gg_dmso"
   ]
  },
  {
   "cell_type": "code",
   "execution_count": 226,
   "metadata": {},
   "outputs": [
    {
     "name": "stdout",
     "output_type": "stream",
     "text": [
      "Mean Std Error: 0.00024697346465761685\n",
      "R2 score: 0.990270935443047\n"
     ]
    }
   ],
   "source": [
    "print(\"Mean Std Error:\", sklearn.metrics.mean_squared_error(np.log10(rg_nplga_dmso), gg_dmso))\n",
    "print(\"R2 score:\", sklearn.metrics.r2_score(np.log10(rg_nplga_dmso), gg_dmso))"
   ]
  },
  {
   "cell_type": "code",
   "execution_count": 227,
   "metadata": {},
   "outputs": [
    {
     "data": {
      "text/plain": [
       "array([ 0.01911634,  0.00021145, -0.02783639, -0.00114594,  0.00965455])"
      ]
     },
     "execution_count": 227,
     "metadata": {},
     "output_type": "execute_result"
    }
   ],
   "source": [
    "# Residuals between the true y data and model y data \n",
    "resid_vdmso = np.log10(rg_nplga_dmso) - gg_dmso\n",
    "resid_vdmso"
   ]
  },
  {
   "cell_type": "code",
   "execution_count": 229,
   "metadata": {},
   "outputs": [
    {
     "data": {
      "text/plain": [
       "0.334663876760361"
      ]
     },
     "execution_count": 229,
     "metadata": {},
     "output_type": "execute_result"
    }
   ],
   "source": [
    "# How to calculate Sum((Xi - avg(X))^2): X values are the bond length values \n",
    "nt_ttdmso = np.log10(n_plga)\n",
    "nt_ttdmso -= np.mean(nt_ttdmso)\n",
    "nhui_dmso = nt_ttdmso**2\n",
    "np.sum(nhui_dmso)"
   ]
  },
  {
   "cell_type": "code",
   "execution_count": 230,
   "metadata": {},
   "outputs": [
    {
     "data": {
      "text/plain": [
       "2.7764451051977987"
      ]
     },
     "execution_count": 230,
     "metadata": {},
     "output_type": "execute_result"
    }
   ],
   "source": [
    "# t-value with 95 % confidence intervals \n",
    "scipy.stats.t.ppf(0.975, 4)"
   ]
  },
  {
   "cell_type": "code",
   "execution_count": 231,
   "metadata": {},
   "outputs": [
    {
     "data": {
      "text/plain": [
       "0.07542404492184158"
      ]
     },
     "execution_count": 231,
     "metadata": {},
     "output_type": "execute_result"
    }
   ],
   "source": [
    "# How to calculate 95% confidence interval for the slope \n",
    "flc_vdmso = scipy.stats.t.ppf(0.975, 4)*np.sqrt((np.sum(resid_vdmso**2)/len(resid_vdmso))/(np.sum(nhui_dmso)))\n",
    "flc_vdmso"
   ]
  },
  {
   "cell_type": "code",
   "execution_count": 233,
   "metadata": {},
   "outputs": [
    {
     "data": {
      "text/plain": [
       "Text(1.1, 1, '$v_{DMSO}$ = 0.61 ± 0.08')"
      ]
     },
     "execution_count": 233,
     "metadata": {},
     "output_type": "execute_result"
    },
    {
     "data": {
      "image/png": "[encoded data removed]",
      "text/plain": [
       "<Figure size 504x504 with 1 Axes>"
      ]
     },
     "metadata": {
      "needs_background": "light"
     },
     "output_type": "display_data"
    }
   ],
   "source": [
    "plt.figure(figsize=(7,7))\n",
    "plt.errorbar(np.log10(n_plga), np.log10(rg_nplga_dmso), yerr=rgdmso_nplga_std, color='#A58262', linestyle=\"None\",marker='o',\n",
    "     capsize=5, capthick=1, ecolor='black')\n",
    "plt.plot(np.log10(n_plga), gg_dmso, color='#A58262')\n",
    "plt.title(r'Fluory Exponent', fontsize=15)\n",
    "plt.xlabel(r'Log($N_{PLGA}$)', fontsize=15)\n",
    "plt.ylabel(r'Log($R_{g}$)', fontsize=15)\n",
    "plt.tick_params(labelsize=14)\n",
    "plt.text(1.1, 1, r'$v_{DMSO}$ = 0.61 ± 0.08', fontsize=15, color='#A58262')"
   ]
  },
  {
   "cell_type": "code",
   "execution_count": null,
   "metadata": {},
   "outputs": [],
   "source": []
  }
 ],
 "metadata": {
  "kernelspec": {
   "display_name": "Python (ppc_env)",
   "language": "python",
   "name": "ppc_env"
  },
  "language_info": {
   "codemirror_mode": {
    "name": "ipython",
    "version": 3
   },
   "file_extension": ".py",
   "mimetype": "text/x-python",
   "name": "python",
   "nbconvert_exporter": "python",
   "pygments_lexer": "ipython3",
   "version": "3.6.9"
  }
 },
 "nbformat": 4,
 "nbformat_minor": 4
}
