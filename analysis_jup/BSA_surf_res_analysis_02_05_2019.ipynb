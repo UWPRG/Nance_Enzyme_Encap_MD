{
 "cells": [
  {
   "cell_type": "markdown",
   "metadata": {},
   "source": [
    "**This notebook is to parse out pdb file and bin residues on the surface of the protein**"
   ]
  },
  {
   "cell_type": "code",
   "execution_count": 1,
   "metadata": {
    "collapsed": true
   },
   "outputs": [],
   "source": [
    "#import the necessary modules \n",
    "%matplotlib inline \n",
    "import numpy as np \n",
    "import matplotlib.pylab as plt \n",
    "import pandas as pd \n",
    "import scipy\n",
    "import sklearn\n",
    "import itertools \n",
    "from itertools import cycle \n",
    "import os.path as op\n",
    "import timeit \n",
    "\n",
    "\n",
    "# These imports are for creating the percent occupancy heat map \n",
    "import plotly\n",
    "import plotly.plotly as py\n",
    "import plotly.graph_objs as go"
   ]
  },
  {
   "cell_type": "markdown",
   "metadata": {},
   "source": [
    "### create occupancy file using mdtraj and other tools from the .gro and .xtc file... Output txt file after splitting trajectory"
   ]
  },
  {
   "cell_type": "markdown",
   "metadata": {},
   "source": [
    "### Figure out how to setup ipyparallel for using multiple nodes "
   ]
  },
  {
   "cell_type": "code",
   "execution_count": null,
   "metadata": {
    "collapsed": true
   },
   "outputs": [],
   "source": [
    "import ipyparallel as ipp\n",
    "\n",
    "## connect to the client\n",
    "ipyclient = ipp.Client(profile=\"MPI32\")\n",
    "\n",
    "## print how many engines are connected\n",
    "print(len(ipyclient), 'cores')\n"
   ]
  },
  {
   "cell_type": "markdown",
   "metadata": {},
   "source": [
    "### Below makes a plot with number of surface residues "
   ]
  },
  {
   "cell_type": "code",
   "execution_count": 2,
   "metadata": {
    "collapsed": false
   },
   "outputs": [
    {
     "data": {
      "text/html": [
       "<div>\n",
       "<style scoped>\n",
       "    .dataframe tbody tr th:only-of-type {\n",
       "        vertical-align: middle;\n",
       "    }\n",
       "\n",
       "    .dataframe tbody tr th {\n",
       "        vertical-align: top;\n",
       "    }\n",
       "\n",
       "    .dataframe thead th {\n",
       "        text-align: right;\n",
       "    }\n",
       "</style>\n",
       "<table border=\"1\" class=\"dataframe\">\n",
       "  <thead>\n",
       "    <tr style=\"text-align: right;\">\n",
       "      <th></th>\n",
       "      <th>BSA_res_no</th>\n",
       "      <th>No. of frames</th>\n",
       "    </tr>\n",
       "  </thead>\n",
       "  <tbody>\n",
       "    <tr>\n",
       "      <th>0</th>\n",
       "      <td>1</td>\n",
       "      <td>1002</td>\n",
       "    </tr>\n",
       "    <tr>\n",
       "      <th>1</th>\n",
       "      <td>2</td>\n",
       "      <td>1002</td>\n",
       "    </tr>\n",
       "    <tr>\n",
       "      <th>2</th>\n",
       "      <td>3</td>\n",
       "      <td>1002</td>\n",
       "    </tr>\n",
       "    <tr>\n",
       "      <th>3</th>\n",
       "      <td>4</td>\n",
       "      <td>1002</td>\n",
       "    </tr>\n",
       "    <tr>\n",
       "      <th>4</th>\n",
       "      <td>5</td>\n",
       "      <td>1002</td>\n",
       "    </tr>\n",
       "  </tbody>\n",
       "</table>\n",
       "</div>"
      ],
      "text/plain": [
       "   BSA_res_no  No. of frames\n",
       "0           1           1002\n",
       "1           2           1002\n",
       "2           3           1002\n",
       "3           4           1002\n",
       "4           5           1002"
      ]
     },
     "execution_count": 2,
     "metadata": {},
     "output_type": "execute_result"
    }
   ],
   "source": [
    "# Read in data from the oputput of wrapper.sh, where the frame count is given for each BSA residue that was within \n",
    "# 4 angstroms of PLGA trimer \n",
    "wat_data = pd.read_csv('occ_BSA1ns.txt', sep=\" \", header=None, usecols=None ,index_col=None)\n",
    "wat_data.columns = [\"BSA_res_no\",\"No. of frames\"]\n",
    "wat_data.head()"
   ]
  },
  {
   "cell_type": "code",
   "execution_count": 3,
   "metadata": {
    "collapsed": true
   },
   "outputs": [],
   "source": [
    "a_a = [\"GLY\",\"ALA\",\"VAL\",\"LEU\",\"ILE\",\"MET\",\"PHE\",\"TRP\",\"PRO\",\"SER\",\"THR\",\"CYS\",\"TYR\",\"ASN\",\"GLN\",\"ASP\"\n",
    "               ,\"GLU\",\"LYS\",\"ARG\",\"HIS\"]"
   ]
  },
  {
   "cell_type": "code",
   "execution_count": 4,
   "metadata": {
    "collapsed": false
   },
   "outputs": [
    {
     "data": {
      "text/plain": [
       "16"
      ]
     },
     "execution_count": 4,
     "metadata": {},
     "output_type": "execute_result"
    }
   ],
   "source": [
    "import multiprocessing as m_proc\n",
    "m_proc.cpu_count()"
   ]
  },
  {
   "cell_type": "code",
   "execution_count": 5,
   "metadata": {
    "collapsed": true
   },
   "outputs": [],
   "source": [
    "# Isolate each residue of bsa from pdb file(not in list method, 2nd draft, 70.72s run time) \n",
    "\n",
    "#start_time = timeit.default_timer()\n",
    "\n",
    "red_bsa = []\n",
    "for j in range(len(wat_data[\"BSA_res_no\"])):\n",
    "    for i in range(len(a_a)):\n",
    "        st_r = str(\" \"+a_a[i]+\"     \"+str(j+1)+\" \")\n",
    "        st_r1 = str(\" \"+a_a[i]+\"    \"+str(j+1)+\" \")\n",
    "        st_r2 = str(\" \"+a_a[i]+\"   \"+str(j+1)+\" \")\n",
    "        for line in open(\"../BSA.pdb\",'r'):\n",
    "            if st_r in line:\n",
    "                # Since the list is empty, this if statement makes sure the first 10 residues are added properly \n",
    "                if len(red_bsa) == 0:\n",
    "                    if st_r not in red_bsa:\n",
    "                        l = line.splitlines()\n",
    "                        red_bsa.append(l[0][16:27])\n",
    "                elif len(red_bsa) != 0:\n",
    "                    hj = len(red_bsa) - 1\n",
    "                    if st_r not in red_bsa[hj]:\n",
    "                        lb = line.splitlines()\n",
    "                        red_bsa.append(lb[0][16:27])\n",
    "            elif st_r1 in line:\n",
    "                lj = len(red_bsa) - 1\n",
    "                if st_r1 not in red_bsa[lj]:\n",
    "                    b = line.splitlines()\n",
    "                    red_bsa.append(b[0][16:27])     \n",
    "            elif st_r2 in line:\n",
    "                kj = len(red_bsa) - 1\n",
    "                if st_r2 not in red_bsa[kj]:\n",
    "                    r2 = line.splitlines()\n",
    "                    red_bsa.append(r2[0][16:27]) \n",
    "                    \n",
    "#timeit.default_timer() - start_time\n",
    "#rb = [row[1:4] for row in red_bsa]"
   ]
  },
  {
   "cell_type": "code",
   "execution_count": null,
   "metadata": {
    "collapsed": true
   },
   "outputs": [],
   "source": [
    "# Isolate each residue of bsa from pdb file(memory intensive code, first draft, 73.52s to run through pdb file)\n",
    "\n",
    "#s_time = timeit.default_timer()\n",
    "\n",
    "red_bsa_mem = []\n",
    "for j in range(len(wat_data[\"BSA_res_no\"])):\n",
    "    for i in range(len(a_a)):\n",
    "        st_r = str(\" \"+a_a[i]+\"     \"+str(j+1)+\" \")\n",
    "        st_r1 = str(\" \"+a_a[i]+\"    \"+str(j+1)+\" \")\n",
    "        st_r2 = str(\" \"+a_a[i]+\"   \"+str(j+1)+\" \")\n",
    "        for line in open(\"../BSA.pdb\",'r'):\n",
    "            if st_r in line: \n",
    "                l = line.split()\n",
    "                if len(l) == 10:\n",
    "                    red_bsa_mem.append(l[3:5])\n",
    "            elif st_r1 in line:\n",
    "                b = line.split()\n",
    "                if len(b) == 10:\n",
    "                    red_bsa_mem.append(b[3:5])\n",
    "            elif st_r2 in line:\n",
    "                r2 = line.split()\n",
    "                if len(r2) == 10:\n",
    "                    red_bsa_mem.append(r2[3:5])\n",
    "        res_l = len(red_bsa_mem)\n",
    "        del red_bsa_mem[j+1:j+res_l]\n",
    "        \n",
    "#timeit.default_timer() - s_time\n",
    "\n",
    "#rb = [row[0] for row in red_bsa]"
   ]
  },
  {
   "cell_type": "code",
   "execution_count": 6,
   "metadata": {
    "collapsed": false
   },
   "outputs": [],
   "source": [
    "# This cell shows the frame count of each BSA residue \n",
    "rb = [row[1:4] for row in red_bsa] \n",
    "pand_rb = pd.Series(rb, index=None)\n",
    "wat_data['BSA_res_des_order'] = pand_rb\n",
    "wat_data = wat_data[[\"BSA_res_no\",'BSA_res_des_order',\"No. of frames\"]]\n",
    "#wat_data"
   ]
  },
  {
   "cell_type": "markdown",
   "metadata": {},
   "source": [
    "### Now onto to the counting of surface residues from occ.txt"
   ]
  },
  {
   "cell_type": "code",
   "execution_count": 7,
   "metadata": {
    "collapsed": true
   },
   "outputs": [],
   "source": [
    "#Get the count of bsa residues that have 1001 or 1002 frames ( I ran a 1 ns NPT simulation of 1 BSA in water )\n",
    "\n",
    "#aa_count = pd.DataFrame(data=a_a)\n",
    "c_list = []\n",
    "\n",
    "for i in range(len(a_a)):\n",
    "    count = 0\n",
    "    for index, row in wat_data.iterrows():\n",
    "        if row['BSA_res_des_order'] == a_a[i]:\n",
    "            if row['No. of frames'] == 1001: \n",
    "                count += 1\n",
    "                #c_list.append(str(str(a_a[i])+\"  \"+str(row['No. of frames']))) \n",
    "            elif row['No. of frames'] == 1002:\n",
    "                count += 1\n",
    "                #c_list.append(str(str(a_a[i])+\"  \"+str(row['No. of frames'])))\n",
    "    c_list.append(str(str(a_a[i])+\"  \"+str(count)))"
   ]
  },
  {
   "cell_type": "code",
   "execution_count": 8,
   "metadata": {
    "collapsed": false
   },
   "outputs": [],
   "source": [
    "#aromatic_res = ['PHE', 'TRP', 'TYR', 'HIS']\n",
    "hydrophobic_res = ['ALA', 'ILE', 'LEU', 'VAL', 'GLY', 'PRO','PHE', 'TRP','MET']\n",
    "polar_res = ['ASN', 'CYS', 'GLN', 'SER', 'THR','TYR']\n",
    "neg_res = ['ASP', 'GLU']\n",
    "pos_res = ['ARG', 'HIS', 'LYS']\n",
    "\n",
    "all_res = [pos_res, neg_res, polar_res, hydrophobic_res]\n",
    "#Change order of residues before making the bar graph\n",
    "# (!) Positively charged\n",
    "# (2) Negatively charged\n",
    "# (3) Polar residues \n",
    "# (4) Hydrophobic residues \n",
    "\n",
    "\n",
    "# This chunk of code sorts the counts of each AA that have 1001 or 1002 frame count based on the AA order in all_res\n",
    "arr_list = []\n",
    "\n",
    "for row in all_res:\n",
    "    for i in range(len(c_list)):\n",
    "        for j in range(len(row)):\n",
    "            if row[j] == c_list[i][0:3]:\n",
    "                arr_list.append(c_list[i])\n",
    "\n",
    "#all_res\n",
    "#arr_list\n",
    "\n",
    "#This chunk of code splits the list arr_list to makes the AA: count of 1001 or 1002 frames data plottable \n",
    "f_list = []\n",
    "fn_list = []\n",
    "for i in range(len(arr_list)):\n",
    "    f_list.append(arr_list[i][0:3])\n",
    "    fn_list.append(int(arr_list[i][5:7]))\n",
    "\n",
    "# Put the AA count in a pandas dataframe \n",
    "aa_count = pd.DataFrame(data=f_list, index=None, columns=['Amino_acids'])\n",
    "new_lf = pd.Series(data=fn_list, index=None)\n",
    "aa_count['No. of surf. res.'] = new_lf\n",
    "#aa_count.tail()\n"
   ]
  },
  {
   "cell_type": "code",
   "execution_count": 9,
   "metadata": {
    "collapsed": false
   },
   "outputs": [
    {
     "data": {
      "text/plain": [
       "<matplotlib.legend.Legend at 0x2b30548f3f98>"
      ]
     },
     "execution_count": 9,
     "metadata": {},
     "output_type": "execute_result"
    },
    {
     "data": {
      "image/png": "[encoded data removed]",
      "text/plain": [
       "<Figure size 720x576 with 1 Axes>"
      ]
     },
     "metadata": {
      "needs_background": "light"
     },
     "output_type": "display_data"
    }
   ],
   "source": [
    "#plotting \n",
    "#Change order of residues before making the bar graph\n",
    "# (!) Positively charged\n",
    "# (2) Negatively charged\n",
    "# (3) Polar residues \n",
    "# (4) Hydrophobic residues \n",
    "x = np.arange(20)\n",
    "leg = ['Positively Charged', 'Negatively Charged', 'Polar', 'Hydrophobic']\n",
    "plt.figure(figsize=(10,8))\n",
    "plt.bar(x[0:3], aa_count['No. of surf. res.'][0:3], color='blue')\n",
    "plt.bar(x[3:5], aa_count['No. of surf. res.'][3:5], color='red')\n",
    "plt.bar(x[5:11], aa_count['No. of surf. res.'][5:11], color='magenta')\n",
    "plt.bar(x[11:20], aa_count['No. of surf. res.'][11:20], color='cyan')\n",
    "plt.xticks(x,aa_count['Amino_acids'])\n",
    "plt.legend(leg)"
   ]
  },
  {
   "cell_type": "code",
   "execution_count": 10,
   "metadata": {
    "collapsed": false
   },
   "outputs": [
    {
     "data": {
      "text/html": [
       "<div>\n",
       "<style scoped>\n",
       "    .dataframe tbody tr th:only-of-type {\n",
       "        vertical-align: middle;\n",
       "    }\n",
       "\n",
       "    .dataframe tbody tr th {\n",
       "        vertical-align: top;\n",
       "    }\n",
       "\n",
       "    .dataframe thead th {\n",
       "        text-align: right;\n",
       "    }\n",
       "</style>\n",
       "<table border=\"1\" class=\"dataframe\">\n",
       "  <thead>\n",
       "    <tr style=\"text-align: right;\">\n",
       "      <th></th>\n",
       "      <th>Amino_acids</th>\n",
       "      <th>No. of surf. res.</th>\n",
       "    </tr>\n",
       "  </thead>\n",
       "  <tbody>\n",
       "    <tr>\n",
       "      <th>0</th>\n",
       "      <td>LYS</td>\n",
       "      <td>59</td>\n",
       "    </tr>\n",
       "    <tr>\n",
       "      <th>1</th>\n",
       "      <td>ARG</td>\n",
       "      <td>23</td>\n",
       "    </tr>\n",
       "    <tr>\n",
       "      <th>2</th>\n",
       "      <td>HIS</td>\n",
       "      <td>16</td>\n",
       "    </tr>\n",
       "    <tr>\n",
       "      <th>3</th>\n",
       "      <td>ASP</td>\n",
       "      <td>40</td>\n",
       "    </tr>\n",
       "    <tr>\n",
       "      <th>4</th>\n",
       "      <td>GLU</td>\n",
       "      <td>59</td>\n",
       "    </tr>\n",
       "    <tr>\n",
       "      <th>5</th>\n",
       "      <td>SER</td>\n",
       "      <td>23</td>\n",
       "    </tr>\n",
       "    <tr>\n",
       "      <th>6</th>\n",
       "      <td>THR</td>\n",
       "      <td>29</td>\n",
       "    </tr>\n",
       "    <tr>\n",
       "      <th>7</th>\n",
       "      <td>CYS</td>\n",
       "      <td>24</td>\n",
       "    </tr>\n",
       "    <tr>\n",
       "      <th>8</th>\n",
       "      <td>TYR</td>\n",
       "      <td>19</td>\n",
       "    </tr>\n",
       "    <tr>\n",
       "      <th>9</th>\n",
       "      <td>ASN</td>\n",
       "      <td>14</td>\n",
       "    </tr>\n",
       "    <tr>\n",
       "      <th>10</th>\n",
       "      <td>GLN</td>\n",
       "      <td>19</td>\n",
       "    </tr>\n",
       "    <tr>\n",
       "      <th>11</th>\n",
       "      <td>GLY</td>\n",
       "      <td>11</td>\n",
       "    </tr>\n",
       "    <tr>\n",
       "      <th>12</th>\n",
       "      <td>ALA</td>\n",
       "      <td>38</td>\n",
       "    </tr>\n",
       "    <tr>\n",
       "      <th>13</th>\n",
       "      <td>VAL</td>\n",
       "      <td>19</td>\n",
       "    </tr>\n",
       "    <tr>\n",
       "      <th>14</th>\n",
       "      <td>LEU</td>\n",
       "      <td>34</td>\n",
       "    </tr>\n",
       "    <tr>\n",
       "      <th>15</th>\n",
       "      <td>ILE</td>\n",
       "      <td>7</td>\n",
       "    </tr>\n",
       "    <tr>\n",
       "      <th>16</th>\n",
       "      <td>MET</td>\n",
       "      <td>3</td>\n",
       "    </tr>\n",
       "    <tr>\n",
       "      <th>17</th>\n",
       "      <td>PHE</td>\n",
       "      <td>20</td>\n",
       "    </tr>\n",
       "    <tr>\n",
       "      <th>18</th>\n",
       "      <td>TRP</td>\n",
       "      <td>2</td>\n",
       "    </tr>\n",
       "    <tr>\n",
       "      <th>19</th>\n",
       "      <td>PRO</td>\n",
       "      <td>27</td>\n",
       "    </tr>\n",
       "  </tbody>\n",
       "</table>\n",
       "</div>"
      ],
      "text/plain": [
       "   Amino_acids  No. of surf. res.\n",
       "0          LYS                 59\n",
       "1          ARG                 23\n",
       "2          HIS                 16\n",
       "3          ASP                 40\n",
       "4          GLU                 59\n",
       "5          SER                 23\n",
       "6          THR                 29\n",
       "7          CYS                 24\n",
       "8          TYR                 19\n",
       "9          ASN                 14\n",
       "10         GLN                 19\n",
       "11         GLY                 11\n",
       "12         ALA                 38\n",
       "13         VAL                 19\n",
       "14         LEU                 34\n",
       "15         ILE                  7\n",
       "16         MET                  3\n",
       "17         PHE                 20\n",
       "18         TRP                  2\n",
       "19         PRO                 27"
      ]
     },
     "execution_count": 10,
     "metadata": {},
     "output_type": "execute_result"
    }
   ],
   "source": [
    "aa_count"
   ]
  },
  {
   "cell_type": "code",
   "execution_count": 11,
   "metadata": {
    "collapsed": false
   },
   "outputs": [
    {
     "data": {
      "text/plain": [
       "486"
      ]
     },
     "execution_count": 11,
     "metadata": {},
     "output_type": "execute_result"
    }
   ],
   "source": [
    "aa_count['No. of surf. res.'].sum()"
   ]
  },
  {
   "cell_type": "markdown",
   "metadata": {},
   "source": [
    "### Now to calculate the fraction of contacts for each type amino acid group"
   ]
  },
  {
   "cell_type": "code",
   "execution_count": 12,
   "metadata": {
    "collapsed": false
   },
   "outputs": [
    {
     "data": {
      "text/html": [
       "<div>\n",
       "<style scoped>\n",
       "    .dataframe tbody tr th:only-of-type {\n",
       "        vertical-align: middle;\n",
       "    }\n",
       "\n",
       "    .dataframe tbody tr th {\n",
       "        vertical-align: top;\n",
       "    }\n",
       "\n",
       "    .dataframe thead th {\n",
       "        text-align: right;\n",
       "    }\n",
       "</style>\n",
       "<table border=\"1\" class=\"dataframe\">\n",
       "  <thead>\n",
       "    <tr style=\"text-align: right;\">\n",
       "      <th></th>\n",
       "      <th>BSA_res_no</th>\n",
       "      <th>BSA_res_des_order</th>\n",
       "      <th>No_of_frames(PLGA trimer)</th>\n",
       "    </tr>\n",
       "  </thead>\n",
       "  <tbody>\n",
       "    <tr>\n",
       "      <th>0</th>\n",
       "      <td>1</td>\n",
       "      <td>ASP</td>\n",
       "      <td>704</td>\n",
       "    </tr>\n",
       "    <tr>\n",
       "      <th>1</th>\n",
       "      <td>2</td>\n",
       "      <td>THR</td>\n",
       "      <td>2154</td>\n",
       "    </tr>\n",
       "    <tr>\n",
       "      <th>2</th>\n",
       "      <td>3</td>\n",
       "      <td>HIS</td>\n",
       "      <td>2502</td>\n",
       "    </tr>\n",
       "    <tr>\n",
       "      <th>3</th>\n",
       "      <td>4</td>\n",
       "      <td>LYS</td>\n",
       "      <td>2502</td>\n",
       "    </tr>\n",
       "    <tr>\n",
       "      <th>4</th>\n",
       "      <td>5</td>\n",
       "      <td>SER</td>\n",
       "      <td>2500</td>\n",
       "    </tr>\n",
       "  </tbody>\n",
       "</table>\n",
       "</div>"
      ],
      "text/plain": [
       "   BSA_res_no BSA_res_des_order  No_of_frames(PLGA trimer)\n",
       "0           1               ASP                        704\n",
       "1           2               THR                       2154\n",
       "2           3               HIS                       2502\n",
       "3           4               LYS                       2502\n",
       "4           5               SER                       2500"
      ]
     },
     "execution_count": 12,
     "metadata": {},
     "output_type": "execute_result"
    }
   ],
   "source": [
    "# Read in data from the oputput of wrapper.sh, where the frame count is given for each BSA residue that was within \n",
    "# 4 angstroms of PLGA trimer \n",
    "pl_25ns_data = pd.read_csv('occ_25ns_p1.txt', sep=\" \", header=None, usecols=None ,index_col=None)\n",
    "pl_25ns_data.columns = ['BSA_res_no','No_of_frames(PLGA trimer)']\n",
    "#pand_rb = pd.Series(rb, index=None)\n",
    "pl_25ns_data['BSA_res_des_order'] = pand_rb\n",
    "pl_25ns_data = pl_25ns_data[[\"BSA_res_no\",\"BSA_res_des_order\",\"No_of_frames(PLGA trimer)\"]]\n",
    "pl_25ns_data.head()\n",
    "\n",
    "## Use this occupancy file to organize surface amino acids similar to above code "
   ]
  },
  {
   "cell_type": "code",
   "execution_count": 13,
   "metadata": {
    "collapsed": false
   },
   "outputs": [
    {
     "data": {
      "text/html": [
       "<div>\n",
       "<style scoped>\n",
       "    .dataframe tbody tr th:only-of-type {\n",
       "        vertical-align: middle;\n",
       "    }\n",
       "\n",
       "    .dataframe tbody tr th {\n",
       "        vertical-align: top;\n",
       "    }\n",
       "\n",
       "    .dataframe thead th {\n",
       "        text-align: right;\n",
       "    }\n",
       "</style>\n",
       "<table border=\"1\" class=\"dataframe\">\n",
       "  <thead>\n",
       "    <tr style=\"text-align: right;\">\n",
       "      <th></th>\n",
       "      <th>Amino_acids</th>\n",
       "      <th>No. of surf. res.</th>\n",
       "      <th>PLGA_trimer_25ns_SR</th>\n",
       "    </tr>\n",
       "  </thead>\n",
       "  <tbody>\n",
       "    <tr>\n",
       "      <th>0</th>\n",
       "      <td>LYS</td>\n",
       "      <td>59</td>\n",
       "      <td>53</td>\n",
       "    </tr>\n",
       "    <tr>\n",
       "      <th>1</th>\n",
       "      <td>ARG</td>\n",
       "      <td>23</td>\n",
       "      <td>16</td>\n",
       "    </tr>\n",
       "    <tr>\n",
       "      <th>2</th>\n",
       "      <td>HIS</td>\n",
       "      <td>16</td>\n",
       "      <td>16</td>\n",
       "    </tr>\n",
       "    <tr>\n",
       "      <th>3</th>\n",
       "      <td>ASP</td>\n",
       "      <td>40</td>\n",
       "      <td>31</td>\n",
       "    </tr>\n",
       "    <tr>\n",
       "      <th>4</th>\n",
       "      <td>GLU</td>\n",
       "      <td>59</td>\n",
       "      <td>50</td>\n",
       "    </tr>\n",
       "    <tr>\n",
       "      <th>5</th>\n",
       "      <td>SER</td>\n",
       "      <td>23</td>\n",
       "      <td>15</td>\n",
       "    </tr>\n",
       "    <tr>\n",
       "      <th>6</th>\n",
       "      <td>THR</td>\n",
       "      <td>29</td>\n",
       "      <td>29</td>\n",
       "    </tr>\n",
       "    <tr>\n",
       "      <th>7</th>\n",
       "      <td>CYS</td>\n",
       "      <td>24</td>\n",
       "      <td>20</td>\n",
       "    </tr>\n",
       "    <tr>\n",
       "      <th>8</th>\n",
       "      <td>TYR</td>\n",
       "      <td>19</td>\n",
       "      <td>14</td>\n",
       "    </tr>\n",
       "    <tr>\n",
       "      <th>9</th>\n",
       "      <td>ASN</td>\n",
       "      <td>14</td>\n",
       "      <td>10</td>\n",
       "    </tr>\n",
       "    <tr>\n",
       "      <th>10</th>\n",
       "      <td>GLN</td>\n",
       "      <td>19</td>\n",
       "      <td>10</td>\n",
       "    </tr>\n",
       "    <tr>\n",
       "      <th>11</th>\n",
       "      <td>GLY</td>\n",
       "      <td>11</td>\n",
       "      <td>10</td>\n",
       "    </tr>\n",
       "    <tr>\n",
       "      <th>12</th>\n",
       "      <td>ALA</td>\n",
       "      <td>38</td>\n",
       "      <td>26</td>\n",
       "    </tr>\n",
       "    <tr>\n",
       "      <th>13</th>\n",
       "      <td>VAL</td>\n",
       "      <td>19</td>\n",
       "      <td>22</td>\n",
       "    </tr>\n",
       "    <tr>\n",
       "      <th>14</th>\n",
       "      <td>LEU</td>\n",
       "      <td>34</td>\n",
       "      <td>30</td>\n",
       "    </tr>\n",
       "    <tr>\n",
       "      <th>15</th>\n",
       "      <td>ILE</td>\n",
       "      <td>7</td>\n",
       "      <td>6</td>\n",
       "    </tr>\n",
       "    <tr>\n",
       "      <th>16</th>\n",
       "      <td>MET</td>\n",
       "      <td>3</td>\n",
       "      <td>2</td>\n",
       "    </tr>\n",
       "    <tr>\n",
       "      <th>17</th>\n",
       "      <td>PHE</td>\n",
       "      <td>20</td>\n",
       "      <td>18</td>\n",
       "    </tr>\n",
       "    <tr>\n",
       "      <th>18</th>\n",
       "      <td>TRP</td>\n",
       "      <td>2</td>\n",
       "      <td>1</td>\n",
       "    </tr>\n",
       "    <tr>\n",
       "      <th>19</th>\n",
       "      <td>PRO</td>\n",
       "      <td>27</td>\n",
       "      <td>19</td>\n",
       "    </tr>\n",
       "  </tbody>\n",
       "</table>\n",
       "</div>"
      ],
      "text/plain": [
       "   Amino_acids  No. of surf. res.  PLGA_trimer_25ns_SR\n",
       "0          LYS                 59                   53\n",
       "1          ARG                 23                   16\n",
       "2          HIS                 16                   16\n",
       "3          ASP                 40                   31\n",
       "4          GLU                 59                   50\n",
       "5          SER                 23                   15\n",
       "6          THR                 29                   29\n",
       "7          CYS                 24                   20\n",
       "8          TYR                 19                   14\n",
       "9          ASN                 14                   10\n",
       "10         GLN                 19                   10\n",
       "11         GLY                 11                   10\n",
       "12         ALA                 38                   26\n",
       "13         VAL                 19                   22\n",
       "14         LEU                 34                   30\n",
       "15         ILE                  7                    6\n",
       "16         MET                  3                    2\n",
       "17         PHE                 20                   18\n",
       "18         TRP                  2                    1\n",
       "19         PRO                 27                   19"
      ]
     },
     "execution_count": 13,
     "metadata": {},
     "output_type": "execute_result"
    }
   ],
   "source": [
    "apl_list = []\n",
    "\n",
    "# Some residues don't have any contact with PLGA trimers within 25 ns, put residues that do have contact with BSA in a separate list\n",
    "for index, r_pl in pl_25ns_data.iterrows():\n",
    "    if r_pl['No_of_frames(PLGA trimer)'] != 0:\n",
    "        apl_list.append(r_pl['BSA_res_des_order'])\n",
    "\n",
    "        \n",
    "# This chunk of code gets an AA count from the above list, in order to get a total number of residues that contact BSA\n",
    "cpl_l = []\n",
    "\n",
    "for index, r_a in aa_count.iterrows():\n",
    "    count = 0\n",
    "    for i in range(len(apl_list)):\n",
    "        if apl_list[i] == r_a['Amino_acids']:\n",
    "            count += 1\n",
    "    cpl_l.append(count)      \n",
    "        \n",
    "aa_count['PLGA_trimer_25ns_SR'] = cpl_l\n",
    "aa_count"
   ]
  },
  {
   "cell_type": "code",
   "execution_count": 14,
   "metadata": {
    "collapsed": false
   },
   "outputs": [
    {
     "data": {
      "text/plain": [
       "398"
      ]
     },
     "execution_count": 14,
     "metadata": {},
     "output_type": "execute_result"
    }
   ],
   "source": [
    "# This gives the total number of residues that are within 4 angstroms of PLGA trimers within a 25 ns block. \n",
    "# All other residues were not within 4 A over the course of the 25 ns trajectory block \n",
    "aa_count['PLGA_trimer_25ns_SR'].sum()"
   ]
  },
  {
   "cell_type": "code",
   "execution_count": 15,
   "metadata": {
    "collapsed": false
   },
   "outputs": [
    {
     "data": {
      "text/plain": [
       "486"
      ]
     },
     "execution_count": 15,
     "metadata": {},
     "output_type": "execute_result"
    }
   ],
   "source": [
    "# This gives the total number of residues that are within 4 angstroms of a water molecule within a 1 ns trajectory block\n",
    "aa_count['No. of surf. res.'].sum()"
   ]
  },
  {
   "cell_type": "code",
   "execution_count": 16,
   "metadata": {
    "collapsed": false
   },
   "outputs": [
    {
     "data": {
      "text/html": [
       "<div>\n",
       "<style scoped>\n",
       "    .dataframe tbody tr th:only-of-type {\n",
       "        vertical-align: middle;\n",
       "    }\n",
       "\n",
       "    .dataframe tbody tr th {\n",
       "        vertical-align: top;\n",
       "    }\n",
       "\n",
       "    .dataframe thead th {\n",
       "        text-align: right;\n",
       "    }\n",
       "</style>\n",
       "<table border=\"1\" class=\"dataframe\">\n",
       "  <thead>\n",
       "    <tr style=\"text-align: right;\">\n",
       "      <th></th>\n",
       "      <th>aa_group_type</th>\n",
       "      <th>frame_count</th>\n",
       "      <th>type_of_contact</th>\n",
       "    </tr>\n",
       "  </thead>\n",
       "  <tbody>\n",
       "    <tr>\n",
       "      <th>0</th>\n",
       "      <td>Aromatic</td>\n",
       "      <td>62307</td>\n",
       "      <td>49</td>\n",
       "    </tr>\n",
       "    <tr>\n",
       "      <th>1</th>\n",
       "      <td>Hydrophobic</td>\n",
       "      <td>143865</td>\n",
       "      <td>134</td>\n",
       "    </tr>\n",
       "    <tr>\n",
       "      <th>2</th>\n",
       "      <td>Negative</td>\n",
       "      <td>73533</td>\n",
       "      <td>81</td>\n",
       "    </tr>\n",
       "    <tr>\n",
       "      <th>3</th>\n",
       "      <td>Polar</td>\n",
       "      <td>93455</td>\n",
       "      <td>98</td>\n",
       "    </tr>\n",
       "    <tr>\n",
       "      <th>4</th>\n",
       "      <td>Positive</td>\n",
       "      <td>80889</td>\n",
       "      <td>85</td>\n",
       "    </tr>\n",
       "  </tbody>\n",
       "</table>\n",
       "</div>"
      ],
      "text/plain": [
       "  aa_group_type  frame_count  type_of_contact\n",
       "0      Aromatic        62307               49\n",
       "1   Hydrophobic       143865              134\n",
       "2      Negative        73533               81\n",
       "3         Polar        93455               98\n",
       "4      Positive        80889               85"
      ]
     },
     "execution_count": 16,
     "metadata": {},
     "output_type": "execute_result"
    }
   ],
   "source": [
    "# Grouping of residues in Smith et al  \n",
    "aromatic_res = ['PHE', 'TRP', 'TYR', 'HIS']\n",
    "hydrophobic_res = ['ALA', 'ILE', 'LEU', 'VAL', 'GLY', 'PRO','PHE', 'TRP','MET']\n",
    "polar_res = ['ASN', 'CYS', 'GLN', 'SER', 'THR','TYR']\n",
    "neg_res = ['ASP', 'GLU']\n",
    "pos_res = ['ARG', 'HIS', 'LYS']\n",
    "\n",
    "frac_res = [aromatic_res, hydrophobic_res, neg_res, polar_res, pos_res]\n",
    "\n",
    "# For each amino acid type in frac_res, this code chunk saves the frame count in a list and sums them together to \n",
    "# to get a total frame count within the 25 ns trajectory for each AA group in frac_res\n",
    "co_grpaa = []\n",
    "\n",
    "for row in frac_res:\n",
    "    fr_list = []\n",
    "    for j in range(len(row)):\n",
    "        for index, r_pl in pl_25ns_data.iterrows():\n",
    "            if row[j] == r_pl[\"BSA_res_des_order\"]:\n",
    "                fr_list.append(r_pl[\"No_of_frames(PLGA trimer)\"])\n",
    "    co_grpaa.append(sum(fr_list))\n",
    "\n",
    "    \n",
    "# For each AA type in frac_res, this code chunk saves the count for each AA within 4 Angstroms of a PLGA trimer \n",
    "# in a list based on the order in frac_res, then sums the counts to get a total number of AA for each AA type \n",
    "# that was within 4 Angstroms of a PLGA trimer \n",
    "tp_cnt = []\n",
    "    \n",
    "for row in frac_res:\n",
    "    nw_l = []\n",
    "    for j in range(len(row)):\n",
    "        for index, r_aa in aa_count.iterrows(): \n",
    "            if row[j] == r_aa[\"Amino_acids\"]:\n",
    "                nw_l.append(r_aa['PLGA_trimer_25ns_SR'])\n",
    "    tp_cnt.append(sum(nw_l))\n",
    "    \n",
    "\n",
    "# This data has not been normalized by each amino acid type \n",
    "res_aa = {'aa_group_type': [\"Aromatic\", \"Hydrophobic\", \"Negative\", \"Polar\", \"Positive\"]}\n",
    "p25ns_NOT = pd.DataFrame(data=res_aa)\n",
    "p25ns_NOT['frame_count'] = co_grpaa \n",
    "p25ns_NOT['type_of_contact'] = tp_cnt\n",
    "p25ns_NOT"
   ]
  },
  {
   "cell_type": "code",
   "execution_count": 17,
   "metadata": {
    "collapsed": false
   },
   "outputs": [
    {
     "data": {
      "text/html": [
       "<div>\n",
       "<style scoped>\n",
       "    .dataframe tbody tr th:only-of-type {\n",
       "        vertical-align: middle;\n",
       "    }\n",
       "\n",
       "    .dataframe tbody tr th {\n",
       "        vertical-align: top;\n",
       "    }\n",
       "\n",
       "    .dataframe thead th {\n",
       "        text-align: right;\n",
       "    }\n",
       "</style>\n",
       "<table border=\"1\" class=\"dataframe\">\n",
       "  <thead>\n",
       "    <tr style=\"text-align: right;\">\n",
       "      <th></th>\n",
       "      <th>aa_group_type</th>\n",
       "      <th>frame_count</th>\n",
       "      <th>type_of_contact</th>\n",
       "      <th>contacts_NORM</th>\n",
       "    </tr>\n",
       "  </thead>\n",
       "  <tbody>\n",
       "    <tr>\n",
       "      <th>0</th>\n",
       "      <td>Aromatic</td>\n",
       "      <td>62307</td>\n",
       "      <td>49</td>\n",
       "      <td>568392</td>\n",
       "    </tr>\n",
       "    <tr>\n",
       "      <th>1</th>\n",
       "      <td>Hydrophobic</td>\n",
       "      <td>143865</td>\n",
       "      <td>134</td>\n",
       "      <td>479907</td>\n",
       "    </tr>\n",
       "    <tr>\n",
       "      <th>2</th>\n",
       "      <td>Negative</td>\n",
       "      <td>73533</td>\n",
       "      <td>81</td>\n",
       "      <td>405793</td>\n",
       "    </tr>\n",
       "    <tr>\n",
       "      <th>3</th>\n",
       "      <td>Polar</td>\n",
       "      <td>93455</td>\n",
       "      <td>98</td>\n",
       "      <td>426269</td>\n",
       "    </tr>\n",
       "    <tr>\n",
       "      <th>4</th>\n",
       "      <td>Positive</td>\n",
       "      <td>80889</td>\n",
       "      <td>85</td>\n",
       "      <td>425380</td>\n",
       "    </tr>\n",
       "    <tr>\n",
       "      <th>5</th>\n",
       "      <td>Sum</td>\n",
       "      <td>454049</td>\n",
       "      <td>447</td>\n",
       "      <td>2305741</td>\n",
       "    </tr>\n",
       "  </tbody>\n",
       "</table>\n",
       "</div>"
      ],
      "text/plain": [
       "  aa_group_type  frame_count  type_of_contact  contacts_NORM\n",
       "0      Aromatic        62307               49         568392\n",
       "1   Hydrophobic       143865              134         479907\n",
       "2      Negative        73533               81         405793\n",
       "3         Polar        93455               98         426269\n",
       "4      Positive        80889               85         425380\n",
       "5           Sum       454049              447        2305741"
      ]
     },
     "execution_count": 17,
     "metadata": {},
     "output_type": "execute_result"
    }
   ],
   "source": [
    "# Now to calculate the normalized data \n",
    "\n",
    "# Total number of surface residues contacted by water in a only BSA/water simulation \n",
    "#b_sum = aa_count['No. of surf. res.'].sum()\n",
    "\n",
    "\n",
    "# In Smith et al., the contacts data has been normalized by the protein\n",
    "# surface fraction of each amino acid residue type contacted by each \n",
    "# polymer surrogate over the portion of the simulation trajectories \n",
    "\n",
    "# Get the total count of AA that are within 4 A of a PLGA trimer \n",
    "b_sum = p25ns_NOT['type_of_contact'].sum()\n",
    "\n",
    "\n",
    "# The code chunk normalized the frame count of each AA group type by the protein surface fraction \n",
    "# of each amino acid type contacted by a polymer surrogate. It is possible that some amino acids \n",
    "# are in contact with more than 1 oligomer. This fractional contact does not account for that. \n",
    "norm_list = []\n",
    "\n",
    "for index, row in p25ns_NOT.iterrows():\n",
    "    norm_list.append(int(row[\"frame_count\"]/(row[\"type_of_contact\"]/b_sum)))\n",
    "    \n",
    "p25ns_NOT[\"contacts_NORM\"] = norm_list \n",
    "p25ns_NOT.loc[5] = [\"Sum\", p25ns_NOT['frame_count'].sum(), p25ns_NOT['type_of_contact'].sum(), p25ns_NOT['contacts_NORM'].sum()]\n",
    "p25ns_NOT"
   ]
  },
  {
   "cell_type": "code",
   "execution_count": 18,
   "metadata": {
    "collapsed": false
   },
   "outputs": [
    {
     "data": {
      "text/html": [
       "<div>\n",
       "<style scoped>\n",
       "    .dataframe tbody tr th:only-of-type {\n",
       "        vertical-align: middle;\n",
       "    }\n",
       "\n",
       "    .dataframe tbody tr th {\n",
       "        vertical-align: top;\n",
       "    }\n",
       "\n",
       "    .dataframe thead th {\n",
       "        text-align: right;\n",
       "    }\n",
       "</style>\n",
       "<table border=\"1\" class=\"dataframe\">\n",
       "  <thead>\n",
       "    <tr style=\"text-align: right;\">\n",
       "      <th></th>\n",
       "      <th>aa_group_type</th>\n",
       "      <th>frame_count</th>\n",
       "      <th>type_of_contact</th>\n",
       "      <th>contacts_NORM</th>\n",
       "      <th>frac_cont_norm</th>\n",
       "    </tr>\n",
       "  </thead>\n",
       "  <tbody>\n",
       "    <tr>\n",
       "      <th>0</th>\n",
       "      <td>Aromatic</td>\n",
       "      <td>62307</td>\n",
       "      <td>49</td>\n",
       "      <td>568392</td>\n",
       "      <td>0.246512</td>\n",
       "    </tr>\n",
       "    <tr>\n",
       "      <th>1</th>\n",
       "      <td>Hydrophobic</td>\n",
       "      <td>143865</td>\n",
       "      <td>134</td>\n",
       "      <td>479907</td>\n",
       "      <td>0.208136</td>\n",
       "    </tr>\n",
       "    <tr>\n",
       "      <th>2</th>\n",
       "      <td>Negative</td>\n",
       "      <td>73533</td>\n",
       "      <td>81</td>\n",
       "      <td>405793</td>\n",
       "      <td>0.175992</td>\n",
       "    </tr>\n",
       "    <tr>\n",
       "      <th>3</th>\n",
       "      <td>Polar</td>\n",
       "      <td>93455</td>\n",
       "      <td>98</td>\n",
       "      <td>426269</td>\n",
       "      <td>0.184873</td>\n",
       "    </tr>\n",
       "    <tr>\n",
       "      <th>4</th>\n",
       "      <td>Positive</td>\n",
       "      <td>80889</td>\n",
       "      <td>85</td>\n",
       "      <td>425380</td>\n",
       "      <td>0.184487</td>\n",
       "    </tr>\n",
       "    <tr>\n",
       "      <th>5</th>\n",
       "      <td>Sum</td>\n",
       "      <td>454049</td>\n",
       "      <td>447</td>\n",
       "      <td>2305741</td>\n",
       "      <td>1.000000</td>\n",
       "    </tr>\n",
       "  </tbody>\n",
       "</table>\n",
       "</div>"
      ],
      "text/plain": [
       "  aa_group_type  frame_count  type_of_contact  contacts_NORM  frac_cont_norm\n",
       "0      Aromatic        62307               49         568392        0.246512\n",
       "1   Hydrophobic       143865              134         479907        0.208136\n",
       "2      Negative        73533               81         405793        0.175992\n",
       "3         Polar        93455               98         426269        0.184873\n",
       "4      Positive        80889               85         425380        0.184487\n",
       "5           Sum       454049              447        2305741        1.000000"
      ]
     },
     "execution_count": 18,
     "metadata": {},
     "output_type": "execute_result"
    }
   ],
   "source": [
    "# This conde chunk calculates the fractional contact based on the normalized frame count \n",
    "cont_l = []\n",
    "f_sum = p25ns_NOT['contacts_NORM'].loc[5]\n",
    "\n",
    "for index, row in p25ns_NOT.iterrows():\n",
    "    cont_l.append(row['contacts_NORM']/f_sum)\n",
    "    \n",
    "p25ns_NOT['frac_cont_norm'] = cont_l\n",
    "p25ns_NOT"
   ]
  },
  {
   "cell_type": "code",
   "execution_count": 19,
   "metadata": {
    "collapsed": false
   },
   "outputs": [
    {
     "data": {
      "text/plain": [
       "([<matplotlib.axis.XTick at 0x2b3056ef01d0>,\n",
       "  <matplotlib.axis.XTick at 0x2b3056dadba8>,\n",
       "  <matplotlib.axis.XTick at 0x2b3056dad710>,\n",
       "  <matplotlib.axis.XTick at 0x2b3056f0cf28>,\n",
       "  <matplotlib.axis.XTick at 0x2b3056f18438>],\n",
       " <a list of 5 Text xticklabel objects>)"
      ]
     },
     "execution_count": 19,
     "metadata": {},
     "output_type": "execute_result"
    },
    {
     "data": {
      "image/png": "[encoded data removed]",
      "text/plain": [
       "<Figure size 720x720 with 1 Axes>"
      ]
     },
     "metadata": {
      "needs_background": "light"
     },
     "output_type": "display_data"
    }
   ],
   "source": [
    "# This code plots the fractional contacts in a bar plot \n",
    "x = np.arange(5)\n",
    "plt.figure(figsize=(10,10))\n",
    "plt.bar(x, p25ns_NOT['frac_cont_norm'].loc[0:4])\n",
    "plt.xticks(x,p25ns_NOT['aa_group_type'].loc[0:4])"
   ]
  },
  {
   "cell_type": "markdown",
   "metadata": {},
   "source": [
    "### Now use MD Analysis to calculate no. of frames a PLGA residue was with 4 Angstroms of BSA"
   ]
  },
  {
   "cell_type": "code",
   "execution_count": 20,
   "metadata": {
    "collapsed": false
   },
   "outputs": [],
   "source": [
    "# Import MDAnalysis\n",
    "import MDAnalysis as mda\n",
    "import MDAnalysis.analysis.distances as maa_dist\n",
    "\n",
    "# Set up the MD simulation in a universe\n",
    "u_plga = mda.Universe(\"../confout.gro\",\"../plga_25ns_p1.xtc\")\n",
    "\n",
    "# Select protein\n",
    "bsa_res = u_plga.select_atoms(\"protein\")\n",
    "\n",
    "# Select PLG oligomers \n",
    "plga_tri = u_plga.select_atoms(\"resname PLG\")\n"
   ]
  },
  {
   "cell_type": "code",
   "execution_count": 74,
   "metadata": {
    "collapsed": false
   },
   "outputs": [
    {
     "data": {
      "text/plain": [
       "(9220, 9220)"
      ]
     },
     "execution_count": 74,
     "metadata": {},
     "output_type": "execute_result"
    }
   ],
   "source": [
    "np.shape(bs.astype(int))"
   ]
  },
  {
   "cell_type": "code",
   "execution_count": 185,
   "metadata": {
    "collapsed": false
   },
   "outputs": [
    {
     "data": {
      "text/plain": [
       "Text(0.5, 1.05, 'BSA Atomic Contact Map: PDB code 4F5S')"
      ]
     },
     "execution_count": 185,
     "metadata": {},
     "output_type": "execute_result"
    },
    {
     "data": {
      "image/png": "[encoded data removed]",
      "text/plain": [
       "<Figure size 720x720 with 2 Axes>"
      ]
     },
     "metadata": {
      "needs_background": "light"
     },
     "output_type": "display_data"
    }
   ],
   "source": [
    "p = u_plga.select_atoms(\"protein\").positions\n",
    "g = u_plga.select_atoms(\"resname PLG\").positions\n",
    "\n",
    "#Length units in MD Analysis is Angstroms, Using 8.5 A cutoff to better visualize atomic contacts\n",
    "bs = maa_dist.contact_matrix(p,cutoff=8.5,box=u_plga.dimensions)\n",
    "fig, ax = plt.subplots(figsize=(10,10))\n",
    "l_s = ax.matshow(bs.astype(int), aspect=\"auto\")\n",
    "fig.colorbar(l_s, ax=ax)\n",
    "ax.set_title('BSA Atomic Contact Map: PDB code 4F5S')"
   ]
  },
  {
   "cell_type": "code",
   "execution_count": null,
   "metadata": {
    "collapsed": false
   },
   "outputs": [],
   "source": [
    "# This code calculates how many atoms are in each residue of BSA and stores it in a dictionary \n",
    "\n",
    "# When saving new keys and their associated values in a dictionary, make sure the key is not the \n",
    "# same as a key that has already been saved. The value that has been saved with the key will be erased and the newest\n",
    "# value will be placed in the dictionary if trying to add new value with the same key into the dict\n",
    "\n",
    "rb_atom = {}\n",
    "for i in range(len(red_bsa)):\n",
    "    count = 0     \n",
    "    st_r = red_bsa[i]\n",
    "    for line in open(\"../BSA.pdb\",'r'):\n",
    "        if st_r in line:\n",
    "            count += 1\n",
    "    rb_atom[st_r] = count\n",
    "\n",
    "#rb_atom"
   ]
  },
  {
   "cell_type": "code",
   "execution_count": 119,
   "metadata": {
    "collapsed": false
   },
   "outputs": [],
   "source": [
    "pairs, dist_pb = mda.lib.distances.capped_distance(p,g,max_cutoff=4.0, box=u_plga.dimensions, return_distances='False')"
   ]
  },
  {
   "cell_type": "code",
   "execution_count": 139,
   "metadata": {
    "collapsed": false
   },
   "outputs": [],
   "source": [
    "dist_pb[dist_pb <= np.float64(4)] = 1\n",
    "dist_pb[dist_pb >= np.float64(4)] = 0"
   ]
  },
  {
   "cell_type": "code",
   "execution_count": 136,
   "metadata": {
    "collapsed": false
   },
   "outputs": [
    {
     "data": {
      "text/plain": [
       "False"
      ]
     },
     "execution_count": 136,
     "metadata": {},
     "output_type": "execute_result"
    }
   ],
   "source": [
    "dist_pb[0] >= np.float64(4)"
   ]
  },
  {
   "cell_type": "code",
   "execution_count": 61,
   "metadata": {
    "collapsed": false
   },
   "outputs": [
    {
     "data": {
      "text/plain": [
       "array([20.34530418, 43.05607168, 57.13646646])"
      ]
     },
     "execution_count": 61,
     "metadata": {},
     "output_type": "execute_result"
    }
   ],
   "source": [
    "b = rb_atom[red_bsa[0]]\n",
    "u_plga.atoms[0:b].center_of_mass()"
   ]
  },
  {
   "cell_type": "code",
   "execution_count": 189,
   "metadata": {
    "collapsed": false
   },
   "outputs": [],
   "source": [
    "# NEED TO DEBUG!!! and add trajectory for loop \n",
    "\n",
    "#for ts in u_plga.trajectory:\n",
    "\n",
    "# Current atomic coordinates of BSA protein \n",
    "br = u_plga.select_atoms(\"protein\").positions\n",
    "    \n",
    "# Current atomic coordinates of PLG residues \n",
    "#a_plga = u_plga.select_atoms(\"resname PLG\")\n",
    "    \n",
    "# number of atoms in each PLG residue minus 1\n",
    "n = 48 \n",
    "    \n",
    "# Number of trimers in simulation  \n",
    "n_oligs = 31\n",
    "    \n",
    "#initialize numpy matrix to calculate COM PLGA coordinates \n",
    "com_plg = np.zeros(shape=(31,3))\n",
    "    \n",
    "#Initilaize numpy matrix to calculate of each BSA residue COM\n",
    "com_bres = np.zeros(shape=(583,3))\n",
    "    \n",
    "#number of atoms in BSA protein plus 1\n",
    "n_bsa_at = len(br)\n",
    "    \n",
    "# There are 31 PLGA trimers in the simulation \n",
    "for i in range(n_oligs):\n",
    "        \n",
    "    # Calculate the center of mass of each separate PLGA trimer\n",
    "    com_plg[i] = u_plga.atoms[n_bsa_at:n_bsa_at+n].center_of_mass()\n",
    "        \n",
    "    # change the index to the next separate PLGA trimer \n",
    "    n_bsa_at = n_bsa_at + n \n",
    "        \n",
    "s_at = 0    \n",
    "\n",
    "# There are 583 residues in BSA    \n",
    "for i in range(len(red_bsa)):\n",
    "        \n",
    "    # From dictionary, save the no. of atoms for each residue in a variable\n",
    "    at_no = rb_atom[red_bsa[i]]\n",
    "        \n",
    "    # Calculate the center of mass of each BSa residue \n",
    "    com_bres[i] = u_plga.atoms[s_at:s_at+at_no].center_of_mass()\n",
    "        \n",
    "    # Change the index to the next BSA residue \n",
    "    s_at = s_at + at_no\n",
    "    \n",
    "#Calculation of distance matrix for contact pairs under the 4 A cutoff \n",
    "prs, dmat = mda.lib.distances.capped_distance(com_plg,com_bres,max_cutoff=4.0, box=u_plga.dimensions)\n",
    "\n",
    "# Calculation of the distance matrix between COM of plga trimers and COM of each BSA residue \n",
    "dd_rc = mda.lib.distances.distance_array(com_plg, com_bres, box=u_plga.dimensions)\n",
    "\n",
    "# Filter out distances under 4 A \n",
    "#dd_rc[dd_rc <= np.float64(4)] = 1\n",
    "#dd_rc[dd_rc >= np.float64(4)] = 0 \n",
    "\n",
    "# For the distances, find the BSA residue number and change counter \n",
    "count = 0 \n",
    "alist = {}\n",
    "\n",
    "for i in range(len(red_bsa)):\n",
    "    for row in prs:\n",
    "        if row[1] == np.int64(red_bsa[i][9:10]):\n",
    "            count += 1\n",
    "        if bool(alist) == False:\n",
    "            alist[rb[i]] = count        \n",
    "        elif bool(alist) != False: \n",
    "            nw = alist[rb[i]] + count \n",
    "            alist[rb[i]] = nw \n",
    "        \n",
    "# save list of BSA residue and frame count \n",
    "#fr_mda = [alist[rb[i]] for i in range(len(rb))]"
   ]
  },
  {
   "cell_type": "code",
   "execution_count": 190,
   "metadata": {
    "collapsed": false
   },
   "outputs": [
    {
     "data": {
      "text/plain": [
       "(31, 583)"
      ]
     },
     "execution_count": 190,
     "metadata": {},
     "output_type": "execute_result"
    }
   ],
   "source": [
    "np.shape(dd_rc)"
   ]
  },
  {
   "cell_type": "code",
   "execution_count": 191,
   "metadata": {
    "collapsed": false
   },
   "outputs": [
    {
     "data": {
      "text/plain": [
       "Text(0.5, 1.05, 'BSA plga trimer COM contact map')"
      ]
     },
     "execution_count": 191,
     "metadata": {},
     "output_type": "execute_result"
    },
    {
     "data": {
      "image/png": "[encoded data removed]",
      "text/plain": [
       "<Figure size 720x720 with 2 Axes>"
      ]
     },
     "metadata": {
      "needs_background": "light"
     },
     "output_type": "display_data"
    }
   ],
   "source": [
    "fig, ax = plt.subplots(figsize=(10,10))\n",
    "com_ls = ax.matshow(dd_rc, aspect=\"auto\")\n",
    "fig.colorbar(com_ls, ax=ax)\n",
    "ax.set_title('BSA plga trimer COM contact map')"
   ]
  },
  {
   "cell_type": "markdown",
   "metadata": {},
   "source": [
    "#### Calculate the autocorrelation of a variable in time "
   ]
  }
 ],
 "metadata": {
  "anaconda-cloud": {},
  "kernelspec": {
   "display_name": "Python 3 (p_cenv)",
   "language": "python",
   "name": "p_cenv"
  },
  "language_info": {
   "codemirror_mode": {
    "name": "ipython",
    "version": 3
   },
   "file_extension": ".py",
   "mimetype": "text/x-python",
   "name": "python",
   "nbconvert_exporter": "python",
   "pygments_lexer": "ipython3",
   "version": "3.6.7"
  }
 },
 "nbformat": 4,
 "nbformat_minor": 2
}
