{
 "cells": [
  {
   "cell_type": "code",
   "execution_count": 1,
   "metadata": {},
   "outputs": [],
   "source": [
    "#import the necessary modules \n",
    "%matplotlib inline \n",
    "import numpy as np \n",
    "import matplotlib.pylab as plt \n",
    "import pandas as pd \n",
    "import scipy\n",
    "import sklearn\n",
    "import itertools \n",
    "from itertools import cycle \n",
    "import os.path as op\n",
    "import timeit \n",
    "import json\n",
    "import math\n",
    "\n",
    "# These imports are for creating the percent occupancy heat map \n",
    "import plotly\n",
    "import plotly.plotly as py\n",
    "import plotly.graph_objs as go"
   ]
  },
  {
   "cell_type": "code",
   "execution_count": 2,
   "metadata": {},
   "outputs": [
    {
     "data": {
      "text/plain": [
       "4"
      ]
     },
     "execution_count": 2,
     "metadata": {},
     "output_type": "execute_result"
    }
   ],
   "source": [
    "import multiprocessing as m_proc\n",
    "m_proc.cpu_count()"
   ]
  },
  {
   "cell_type": "code",
   "execution_count": 3,
   "metadata": {},
   "outputs": [],
   "source": [
    "# Import MDAnalysis\n",
    "import MDAnalysis as mda\n",
    "import statsmodels as stats\n",
    "from MDAnalysis.analysis import polymer, distances, rdf\n",
    "import matplotlib.font_manager as font_manager"
   ]
  },
  {
   "cell_type": "markdown",
   "metadata": {},
   "source": [
    "### Calculate radius of gyration and persistence length of PLGA/water simulations"
   ]
  },
  {
   "cell_type": "code",
   "execution_count": null,
   "metadata": {},
   "outputs": [],
   "source": [
    "def seg_org(poly_atoms, n_monomers):\n",
    "    \n",
    "    pmecl = []\n",
    "    count = 0\n",
    "    for i in range(n_monomers):\n",
    "        fgrp = []\n",
    "        count += 1\n",
    "        n_atm = len(poly_atoms.select_atoms(\"resid \"+str(count)))\n",
    "        \n",
    "        if count == 1:\n",
    "            #print(poly_atoms.select_atoms(\"resid \"+str(count)+\" and name O13\"))\n",
    "            pmecl.append(poly_atoms.select_atoms(\"resid \"+str(count)+\" and (name O13 O9)\"))\n",
    "            #print(pmecl)\n",
    "        elif count == 2:\n",
    "            #print(poly_atoms.select_atoms(\"name O5 and resid \"+str(count)))\n",
    "            pmecl.append(poly_atoms.select_atoms(\"(resid \"+str(count)+\" and name O5) or (resid \"+str(count-1)+\" and name O9)\"))\n",
    "        \n",
    "        if count != 2 and count != 1:\n",
    "            if count == n_monomers:\n",
    "                pmecl.append(poly_atoms.select_atoms(\"(resid \"+str(count)+\" and name O1) or (resid \"+str(count-1)+\" and name O5)\"))\n",
    "            elif count != n_monomers:\n",
    "            #print(count)\n",
    "                pmecl.append(poly_atoms.select_atoms(\"(resid \"+str(count)+\" and name O5) or (resid \"+str(count-1)+\" and name O5)\"))\n",
    "\n",
    "    return pmecl"
   ]
  },
  {
   "cell_type": "code",
   "execution_count": 4,
   "metadata": {},
   "outputs": [],
   "source": [
    "# write function to average across frames to give ensembled averaged correlation values at each nl value\n",
    "# write function to average across frames to give ensembled averaged correlation values at each nl value\n",
    "\n",
    "def pers_length(polymer_atoms, n_monomers):\n",
    "    \n",
    "    vec_poly = np.zeros(shape=(3,n_monomers-1), dtype=float)\n",
    "    \n",
    "    len_vec = np.arange(n_monomers-1)\n",
    "    \n",
    "    len_vec += 1\n",
    "\n",
    "    vec_poly[1,:] = len_vec\n",
    "\n",
    "    count = 0 \n",
    "    \n",
    "    sv_ply = np.zeros(shape=(n_monomers-1), dtype=object)\n",
    "    \n",
    "    for i in range(n_monomers):\n",
    "        \n",
    "        count += 1\n",
    "        \n",
    "        ds_cor = np.zeros(shape=(n_monomers-count))\n",
    "        \n",
    "        for j in range(n_monomers - count):\n",
    "        \n",
    "            jh = np.arange(n_monomers - count)\n",
    "            \n",
    "            jh += count+1\n",
    "\n",
    "            n6_mon1 = polymer_atoms.select_atoms(\"resid \"+str(count))\n",
    "\n",
    "            n6_mon2 = polymer_atoms.select_atoms(\"resid \"+str(jh[j]))\n",
    "\n",
    "            if j == 0: \n",
    "                    \n",
    "                v1 = n6_mon1.center_of_mass() - n6_mon2.center_of_mass()\n",
    "                    \n",
    "                v1_norm = v1/(np.linalg.norm(v1))\n",
    "            \n",
    "                ds_cor[j] = v1_norm.dot(v1_norm)\n",
    "\n",
    "            elif j != 0:\n",
    "                    \n",
    "                v2 = n6_mon1.center_of_mass() - n6_mon2.center_of_mass()\n",
    "                    \n",
    "                v2_norm = v2/(np.linalg.norm(v2))\n",
    "                \n",
    "                ds_cor[j] = np.dot(v1_norm, v2_norm)\n",
    "\n",
    "            sv_ply[i] = ds_cor\n",
    "    \n",
    "    cor_avg = []\n",
    " \n",
    "    for j in range(n_monomers-1):\n",
    "        lss = []\n",
    "        for i in sv_ply.flat:\n",
    "            try:\n",
    "                lss.append(i[j])\n",
    "            except IndexError:\n",
    "                pass\n",
    "        cor_avg.append(np.mean(lss))\n",
    "    \n",
    "    nm = np.array(cor_avg)\n",
    "\n",
    "    ang_vg = []\n",
    "    for i in nm.flat:\n",
    "        if i >= float(0.99):\n",
    "            ang_vg.append(0)\n",
    "        elif i <= float(0.99):\n",
    "            ang_vg.append(math.degrees(math.acos(i)))\n",
    "\n",
    "    vec_poly[0,:] = nm \n",
    "    vec_poly[2,:] = np.array(ang_vg)\n",
    "    \n",
    "    return vec_poly"
   ]
  },
  {
   "cell_type": "code",
   "execution_count": 5,
   "metadata": {},
   "outputs": [],
   "source": [
    "def get_rg_pers_poly(polymer_atoms, universe, start, end, ln_bnd):\n",
    "    \"\"\"This function will calculate the average radius of gyration and persistence length of a polymer within a \n",
    "    trajectory block.\"\"\"\n",
    "    \n",
    "    n_monomers = len(np.unique(polymer_atoms.resids))\n",
    "    \n",
    "    rg_ens = np.zeros(shape=(1,end-start))\n",
    "    \n",
    "    corr_v = np.zeros(shape=(n_monomers-1,end-start))\n",
    "    \n",
    "    #ln_corr = np.zeros(shape=(n_monomers-1, end-start))\n",
    "    \n",
    "    angle_v = np.zeros(shape=(n_monomers-1,end-start))\n",
    "    \n",
    "    v_poly = np.zeros(shape=(4,n_monomers-1))\n",
    "    \n",
    "    count_rg = 0\n",
    "    \n",
    "    universe.trajectory[start]\n",
    "    \n",
    "    for ts in universe.trajectory[start:end]:\n",
    "        \n",
    "        p_mat = pers_length(polymer_atoms, n_monomers)\n",
    "        \n",
    "        #print(p_mat[0])\n",
    "     \n",
    "        corr_v[:,count_rg] = p_mat[0]\n",
    "        \n",
    "        #ln_corr[:,count_rg] = np.log(p_mat[0,:])\n",
    "        \n",
    "        angle_v[:,count_rg] = p_mat[2]\n",
    "        \n",
    "        rg_ens[0,count_rg] = polymer_atoms.radius_of_gyration()\n",
    "        \n",
    "        count_rg += 1 \n",
    "        \n",
    "        universe.trajectory[end]\n",
    "    #Added the calculation of the std dev for the correlation values \n",
    "    v_poly[3,:] = p_mat[1]\n",
    "    \n",
    "    for i in range(n_monomers-1):\n",
    "        \n",
    "        v_poly[0,i] = np.mean(corr_v[i,:])\n",
    "        \n",
    "        #Added the calculation of the std dev for the correlation values\n",
    "        v_poly[1,i] = np.std(corr_v[i,:])\n",
    "        \n",
    "        #v_poly[2,i] = np.mean(ln_corr[i,:])\n",
    "        \n",
    "        #v_poly[3,i] = np.std(ln_corr[i,:])\n",
    "        \n",
    "        v_poly[2,i] = np.mean(angle_v[i,:])\n",
    "     \n",
    "    avg_rg = np.mean(rg_ens)\n",
    "    \n",
    "    #def expfunc(x, a):\n",
    "    #    return np.exp(-x*ln_bnd/2*a)\n",
    "    # Starting with x = 0 for fits\n",
    "    #tr_n6 = np.arange(n_monomers-1)\n",
    "    \n",
    "    #tr_n6 += 1\n",
    "\n",
    "    #pers_lp = scipy.optimize.curve_fit(expfunc, tr_n6, v_poly[0,:])[0][0]\n",
    "    \n",
    "    return  rg_ens, v_poly, corr_v, avg_rg "
   ]
  },
  {
   "cell_type": "code",
   "execution_count": 6,
   "metadata": {},
   "outputs": [],
   "source": [
    "# I want a list of total fraction of contacts where length is determined by no. of blocks and a dictionary \n",
    "# of contact groups as keys and list of fractional contacts as values(length of list will be no. of blocks)\n",
    "def bavg_pers_cnt(no_of_blks, polymer_atoms, universe, len_bnd, begin, final):\n",
    " \n",
    "    n_size = (final - begin)/no_of_blks\n",
    "    \n",
    "    ot_dab = {}\n",
    "    universe.trajectory[begin]\n",
    "    \n",
    "    sf_lbl = [\"Avg Radius of gyration\", \"Avg persistence length\"]\n",
    "\n",
    "    blk_nparr = np.zeros(shape=(len(sf_lbl),no_of_blks))\n",
    "    \n",
    "    count = 0 \n",
    "    \n",
    "    for i in range(no_of_blks):\n",
    "        \n",
    "        start = universe.trajectory.frame\n",
    "        print(start)\n",
    "    \n",
    "        end = int(start + n_size)\n",
    "        print(end)\n",
    "       \n",
    "        pp_rgens, cor_pp, per_pp, rg_avgpp = get_rg_pers_poly(polymer_atoms, universe, start, end, len_bnd)\n",
    "        \n",
    "        blk_nparr[0,count] = rg_avgpp\n",
    "        \n",
    "        blk_nparr[1,count] = per_pp        \n",
    "        \n",
    "        universe.trajectory[end]\n",
    "        \n",
    "        count += 1\n",
    "    # Save fractional contacts for each AA group type, each element in the value array corresponds to a block \n",
    "    # calculated value\n",
    "    for i in range(len(sf_lbl)):\n",
    "        ot_dab[sf_lbl[i]] = blk_nparr[i,:]\n",
    "    \n",
    "    return ot_dab\n",
    "        "
   ]
  },
  {
   "cell_type": "markdown",
   "metadata": {},
   "source": [
    "### Water only systems"
   ]
  },
  {
   "cell_type": "markdown",
   "metadata": {},
   "source": [
    "## N = 6 water"
   ]
  },
  {
   "cell_type": "code",
   "execution_count": 7,
   "metadata": {},
   "outputs": [],
   "source": [
    "# For the right Rg calculation using MD Analysis, use trajactory without pbc \n",
    "n6_plga_wat = mda.Universe(\"n6_plga_50ns/0_xa_soln/confout.gro\", \"n6_plga_50ns/0_xa_soln/nopbc_n6wat.xtc\")"
   ]
  },
  {
   "cell_type": "code",
   "execution_count": 8,
   "metadata": {},
   "outputs": [
    {
     "data": {
      "text/plain": [
       "5001"
      ]
     },
     "execution_count": 8,
     "metadata": {},
     "output_type": "execute_result"
    }
   ],
   "source": [
    "len(n6_plga_wat.trajectory)"
   ]
  },
  {
   "cell_type": "code",
   "execution_count": 9,
   "metadata": {},
   "outputs": [],
   "source": [
    "#Select the polymer heavy atoms \n",
    "poly_n6 = n6_plga_wat.select_atoms(\"resname sPLG PLG tPLG and not type H\")"
   ]
  },
  {
   "cell_type": "code",
   "execution_count": 10,
   "metadata": {},
   "outputs": [],
   "source": [
    "com_bond = np.zeros(shape=(1,5000))\n",
    "count = 0\n",
    "for ts in n6_plga_wat.trajectory[0:5000]:\n",
    "    n6_mon1 = n6_plga_wat.select_atoms(\"resid 1\")\n",
    "    n6_mon2 = n6_plga_wat.select_atoms(\"resid 2\")\n",
    "    oo_len = mda.analysis.distances.distance_array(n6_mon1.center_of_mass(), n6_mon2.center_of_mass(), \n",
    "                                                   box=n6_plga_wat.trajectory.ts.dimensions)\n",
    "    com_bond[0, count] = oo_len\n",
    "    count += 1\n",
    "    "
   ]
  },
  {
   "cell_type": "code",
   "execution_count": 11,
   "metadata": {},
   "outputs": [
    {
     "data": {
      "text/plain": [
       "array([[5.41774043, 4.78879205, 5.54438067, ..., 6.56805096, 6.42530086,\n",
       "        6.30959793]])"
      ]
     },
     "execution_count": 11,
     "metadata": {},
     "output_type": "execute_result"
    }
   ],
   "source": [
    "com_bond"
   ]
  },
  {
   "cell_type": "code",
   "execution_count": 12,
   "metadata": {},
   "outputs": [
    {
     "data": {
      "text/plain": [
       "5.691897446005937"
      ]
     },
     "execution_count": 12,
     "metadata": {},
     "output_type": "execute_result"
    }
   ],
   "source": [
    "lb_avg = np.mean(com_bond)\n",
    "lb_avg"
   ]
  },
  {
   "cell_type": "code",
   "execution_count": 13,
   "metadata": {},
   "outputs": [
    {
     "data": {
      "text/plain": [
       "0.7661117243666821"
      ]
     },
     "execution_count": 13,
     "metadata": {},
     "output_type": "execute_result"
    }
   ],
   "source": [
    "np.std(com_bond)"
   ]
  },
  {
   "cell_type": "code",
   "execution_count": null,
   "metadata": {},
   "outputs": [],
   "source": [
    "plt.scatter(np.arange(5000),com_bond)\n",
    "#plt.scatter(np.arange(5000),lbond,c=\"y\")"
   ]
  },
  {
   "cell_type": "code",
   "execution_count": null,
   "metadata": {},
   "outputs": [],
   "source": [
    "lb_avg"
   ]
  },
  {
   "cell_type": "code",
   "execution_count": null,
   "metadata": {},
   "outputs": [],
   "source": [
    "n6_blks = bavg_pers_cnt(5, poly_n6, n6_plga_wat, lb_avg, 0 , 5000)"
   ]
  },
  {
   "cell_type": "code",
   "execution_count": null,
   "metadata": {},
   "outputs": [],
   "source": [
    "# Fully extended length of 6 monomer PLGA is 3.838 nm \n",
    "n6_blks[\"Avg persistence length\"]"
   ]
  },
  {
   "cell_type": "code",
   "execution_count": null,
   "metadata": {},
   "outputs": [],
   "source": [
    "n6_blks[\"Avg Radius of gyration\"]"
   ]
  },
  {
   "cell_type": "code",
   "execution_count": null,
   "metadata": {},
   "outputs": [],
   "source": [
    "np.mean(n6_blks[\"Avg persistence length\"])"
   ]
  },
  {
   "cell_type": "code",
   "execution_count": null,
   "metadata": {},
   "outputs": [],
   "source": [
    "np.std(n6_blks[\"Avg persistence length\"])"
   ]
  },
  {
   "cell_type": "code",
   "execution_count": 14,
   "metadata": {},
   "outputs": [],
   "source": [
    "n6_rgens, cor_n6, N6ens_cos, rg_avgn6 = get_rg_pers_poly(poly_n6, n6_plga_wat, 0, 5000, lb_avg)"
   ]
  },
  {
   "cell_type": "code",
   "execution_count": 15,
   "metadata": {},
   "outputs": [
    {
     "data": {
      "text/plain": [
       "array([[1.00000000e+00, 7.52881933e-01, 4.91285939e-01, 3.78040143e-01,\n",
       "        3.22664698e-01],\n",
       "       [6.36032808e-17, 6.58991481e-02, 1.59630817e-01, 2.84548598e-01,\n",
       "        4.94750872e-01],\n",
       "       [0.00000000e+00, 4.08035110e+01, 5.99560820e+01, 6.64582391e+01,\n",
       "        6.84962410e+01],\n",
       "       [1.00000000e+00, 2.00000000e+00, 3.00000000e+00, 4.00000000e+00,\n",
       "        5.00000000e+00]])"
      ]
     },
     "execution_count": 15,
     "metadata": {},
     "output_type": "execute_result"
    }
   ],
   "source": [
    "cor_n6"
   ]
  },
  {
   "cell_type": "code",
   "execution_count": 16,
   "metadata": {},
   "outputs": [
    {
     "data": {
      "text/plain": [
       "array([1.        , 0.75288193, 0.49128594, 0.37804014, 0.3226647 ])"
      ]
     },
     "execution_count": 16,
     "metadata": {},
     "output_type": "execute_result"
    }
   ],
   "source": [
    "cor_n6[0]"
   ]
  },
  {
   "cell_type": "code",
   "execution_count": 17,
   "metadata": {},
   "outputs": [
    {
     "data": {
      "text/plain": [
       "array([6.36032808e-17, 6.58991481e-02, 1.59630817e-01, 2.84548598e-01,\n",
       "       4.94750872e-01])"
      ]
     },
     "execution_count": 17,
     "metadata": {},
     "output_type": "execute_result"
    }
   ],
   "source": [
    "cor_n6[1]"
   ]
  },
  {
   "cell_type": "code",
   "execution_count": null,
   "metadata": {},
   "outputs": [],
   "source": [
    "N6ens_cos"
   ]
  },
  {
   "cell_type": "code",
   "execution_count": null,
   "metadata": {},
   "outputs": [],
   "source": [
    "N6ens_cos[0]"
   ]
  },
  {
   "cell_type": "code",
   "execution_count": null,
   "metadata": {},
   "outputs": [],
   "source": [
    "## Bootstrapping attempt\n",
    "n_iter = 3\n",
    "n_size = int(len(N6ens_cos[1])*0.5)"
   ]
  },
  {
   "cell_type": "code",
   "execution_count": null,
   "metadata": {},
   "outputs": [],
   "source": [
    "stats_n6 = []\n",
    "for i in range(n_iter):\n",
    "    \n",
    "    #prep train and tests values \n",
    "    train_n6 = sklearn.utils.resample(N6ens_cos[2], n_samples=n_size)\n",
    "    test_n6 = np.array([x for x in N6ens_cos[2] if x.tolist() not in train.tolist()])"
   ]
  },
  {
   "cell_type": "code",
   "execution_count": null,
   "metadata": {},
   "outputs": [],
   "source": [
    "lb_avg = np.mean(com_bond)\n",
    "#lb_avg /= 10\n",
    "lb_avg"
   ]
  },
  {
   "cell_type": "code",
   "execution_count": 18,
   "metadata": {},
   "outputs": [
    {
     "data": {
      "text/plain": [
       "array([ 0.        ,  5.69189745, 11.38379489, 17.07569234, 22.76758978])"
      ]
     },
     "execution_count": 18,
     "metadata": {},
     "output_type": "execute_result"
    }
   ],
   "source": [
    "# x values\n",
    "blen = np.arange(5, dtype=float)\n",
    "blen *= lb_avg\n",
    "#nt_tt[0] = 0\n",
    "blen"
   ]
  },
  {
   "cell_type": "code",
   "execution_count": 19,
   "metadata": {},
   "outputs": [
    {
     "data": {
      "text/plain": [
       "8.999680068737014"
      ]
     },
     "execution_count": 19,
     "metadata": {},
     "output_type": "execute_result"
    }
   ],
   "source": [
    "# Sample standard deviation of Bond Length x values \n",
    "np.sqrt((np.sum(blen**2) - ((np.sum(blen)**2)/5))/4)"
   ]
  },
  {
   "cell_type": "code",
   "execution_count": 20,
   "metadata": {},
   "outputs": [
    {
     "data": {
      "text/plain": [
       "8.049558563778378"
      ]
     },
     "execution_count": 20,
     "metadata": {},
     "output_type": "execute_result"
    }
   ],
   "source": [
    "# population standard deviation of Bond Length x values \n",
    "np.std(blen)"
   ]
  },
  {
   "cell_type": "code",
   "execution_count": 21,
   "metadata": {},
   "outputs": [
    {
     "data": {
      "text/plain": [
       "80.99424133962228"
      ]
     },
     "execution_count": 21,
     "metadata": {},
     "output_type": "execute_result"
    }
   ],
   "source": [
    "# Sample variance of Bond Length x values \n",
    "n6svar = (np.sum(blen**2) - ((np.sum(blen)**2)/5))/4\n",
    "n6svar"
   ]
  },
  {
   "cell_type": "code",
   "execution_count": 22,
   "metadata": {},
   "outputs": [
    {
     "data": {
      "text/plain": [
       "64.79539307169782"
      ]
     },
     "execution_count": 22,
     "metadata": {},
     "output_type": "execute_result"
    }
   ],
   "source": [
    "# numpy calculation of population variance \n",
    "np.var(blen)"
   ]
  },
  {
   "cell_type": "code",
   "execution_count": 23,
   "metadata": {},
   "outputs": [
    {
     "data": {
      "text/plain": [
       "array([ 0.        , -0.28384686, -0.71072896, -0.97275489, -1.13114158])"
      ]
     },
     "execution_count": 23,
     "metadata": {},
     "output_type": "execute_result"
    }
   ],
   "source": [
    "# y values\n",
    "n6lc = np.log(cor_n6[0])\n",
    "n6lc"
   ]
  },
  {
   "cell_type": "code",
   "execution_count": 199,
   "metadata": {},
   "outputs": [
    {
     "data": {
      "text/plain": [
       "array([6.36032808e-17, 8.75291930e-02, 3.24924457e-01, 7.52694135e-01,\n",
       "       1.53332818e+00])"
      ]
     },
     "execution_count": 199,
     "metadata": {},
     "output_type": "execute_result"
    }
   ],
   "source": [
    "mk = cor_n6[1]/cor_n6[0]\n",
    "mk"
   ]
  },
  {
   "cell_type": "code",
   "execution_count": 29,
   "metadata": {},
   "outputs": [
    {
     "data": {
      "text/plain": [
       "<ErrorbarContainer object of 3 artists>"
      ]
     },
     "execution_count": 29,
     "metadata": {},
     "output_type": "execute_result"
    },
    {
     "data": {
      "image/png": "[encoded data removed]",
      "text/plain": [
       "<Figure size 504x504 with 1 Axes>"
      ]
     },
     "metadata": {
      "needs_background": "light"
     },
     "output_type": "display_data"
    }
   ],
   "source": [
    "plt.figure(figsize=(7,7))\n",
    "plt.errorbar(blen, np.log(cor_n6[0]), yerr=mk, color='b', linestyle=\"None\",marker='o',\n",
    "     capsize=5, capthick=1, ecolor='black')"
   ]
  },
  {
   "cell_type": "code",
   "execution_count": 30,
   "metadata": {},
   "outputs": [
    {
     "name": "stdout",
     "output_type": "stream",
     "text": [
      "Model slope:     [-0.05357403]\n",
      "Model intercept: 0.0\n"
     ]
    }
   ],
   "source": [
    "# From fitting all points, I get best fit \n",
    "from sklearn.linear_model import LinearRegression\n",
    "model_n6 = LinearRegression(fit_intercept=False)\n",
    "model_n6.fit(blen.reshape(-1,1), n6lc)\n",
    "# Slope here is in nanometers\n",
    "print(\"Model slope:    \", model_n6.coef_)\n",
    "print(\"Model intercept:\", model_n6.intercept_)"
   ]
  },
  {
   "cell_type": "code",
   "execution_count": 31,
   "metadata": {},
   "outputs": [
    {
     "data": {
      "text/plain": [
       "array([ 0.        , -0.30493786, -0.60987572, -0.91481358, -1.21975144])"
      ]
     },
     "execution_count": 31,
     "metadata": {},
     "output_type": "execute_result"
    }
   ],
   "source": [
    "gg = model_n6.predict(blen.reshape(-1,1))\n",
    "gg"
   ]
  },
  {
   "cell_type": "code",
   "execution_count": 32,
   "metadata": {},
   "outputs": [
    {
     "name": "stdout",
     "output_type": "stream",
     "text": [
      "Mean Std Error: 0.004365021733667115\n",
      "R2 score: 0.9755140507889415\n"
     ]
    }
   ],
   "source": [
    "print(\"Mean Std Error:\", sklearn.metrics.mean_squared_error(n6lc, gg))\n",
    "print(\"R2 score:\", sklearn.metrics.r2_score(n6lc, gg))"
   ]
  },
  {
   "cell_type": "code",
   "execution_count": 33,
   "metadata": {},
   "outputs": [
    {
     "data": {
      "text/plain": [
       "array([ 0.        ,  0.021091  , -0.10085324, -0.05794131,  0.08860985])"
      ]
     },
     "execution_count": 33,
     "metadata": {},
     "output_type": "execute_result"
    }
   ],
   "source": [
    "# Residuals between the true y data and model y data \n",
    "resid_n6 = n6lc - gg\n",
    "resid_n6"
   ]
  },
  {
   "cell_type": "code",
   "execution_count": 34,
   "metadata": {},
   "outputs": [
    {
     "data": {
      "text/plain": [
       "0.004365021733667115"
      ]
     },
     "execution_count": 34,
     "metadata": {},
     "output_type": "execute_result"
    }
   ],
   "source": [
    "# How to calculate mean squared error\n",
    "np.sum(resid_n6**2)/len(resid_n6)"
   ]
  },
  {
   "cell_type": "code",
   "execution_count": 35,
   "metadata": {},
   "outputs": [
    {
     "data": {
      "text/plain": [
       "0.06606831111559547"
      ]
     },
     "execution_count": 35,
     "metadata": {},
     "output_type": "execute_result"
    }
   ],
   "source": [
    "# Standard error: Square root of the mean squared error \n",
    "np.sqrt(np.sum(resid_n6**2)/len(resid_n6))"
   ]
  },
  {
   "cell_type": "code",
   "execution_count": 36,
   "metadata": {},
   "outputs": [
    {
     "data": {
      "text/plain": [
       "0.004268614085390064"
      ]
     },
     "execution_count": 36,
     "metadata": {},
     "output_type": "execute_result"
    }
   ],
   "source": [
    "# population variance of the residuals \n",
    "var_n6p = np.var(resid_n6)\n",
    "var_n6p"
   ]
  },
  {
   "cell_type": "code",
   "execution_count": 37,
   "metadata": {},
   "outputs": [
    {
     "data": {
      "text/plain": [
       "0.00533576760673758"
      ]
     },
     "execution_count": 37,
     "metadata": {},
     "output_type": "execute_result"
    }
   ],
   "source": [
    "# Sample variance: https://www.statisticshowto.datasciencecentral.com/\n",
    "# probability-and-statistics/descriptive-statistics/sample-variance/\n",
    "\n",
    "# sample variance of the residuals \n",
    "ntres = resid_n6\n",
    "ntres -= np.mean(resid_n6)\n",
    "nhres = ntres**2\n",
    "np.sum(nhres)/4"
   ]
  },
  {
   "cell_type": "code",
   "execution_count": 38,
   "metadata": {},
   "outputs": [
    {
     "data": {
      "text/plain": [
       "323.9769653584891"
      ]
     },
     "execution_count": 38,
     "metadata": {},
     "output_type": "execute_result"
    }
   ],
   "source": [
    "# How to calculate Sum((Xi - avg(X))^2): X values are the bond length values \n",
    "nt_tt = np.arange(5, dtype=float)\n",
    "nt_tt *= lb_avg\n",
    "nt_tt -= np.mean(nt_tt)\n",
    "nhui = nt_tt**2\n",
    "np.sum(nhui)"
   ]
  },
  {
   "cell_type": "code",
   "execution_count": null,
   "metadata": {},
   "outputs": [],
   "source": [
    "# How to calculate Sum((Xi - avg(X))^2), alternate version, Bond Length X values \n",
    "nt_tt = np.arange(5, dtype=float)\n",
    "nt_tt *= lb_avg\n",
    "np.sum(nt_tt**2) - ((np.sum(nt_tt)**2)/5)"
   ]
  },
  {
   "cell_type": "code",
   "execution_count": null,
   "metadata": {},
   "outputs": [],
   "source": [
    "# t-value with 95 % confidence intervals \n",
    "scipy.stats.t.ppf(0.975, 4)"
   ]
  },
  {
   "cell_type": "code",
   "execution_count": 39,
   "metadata": {},
   "outputs": [
    {
     "data": {
      "text/plain": [
       "0.010078025924297108"
      ]
     },
     "execution_count": 39,
     "metadata": {},
     "output_type": "execute_result"
    }
   ],
   "source": [
    "# How to calculate 95% confidence interval for the slope \n",
    "flc_n6 = scipy.stats.t.ppf(0.975, 4)*np.sqrt((np.sum(resid_n6**2)/len(resid_n6))/(np.sum(nhui)))\n",
    "flc_n6"
   ]
  },
  {
   "cell_type": "code",
   "execution_count": 40,
   "metadata": {},
   "outputs": [
    {
     "data": {
      "text/plain": [
       "array([18.6657618])"
      ]
     },
     "execution_count": 40,
     "metadata": {},
     "output_type": "execute_result"
    }
   ],
   "source": [
    "pers_n6 =-1/model_n6.coef_\n",
    "pers_n6"
   ]
  },
  {
   "cell_type": "code",
   "execution_count": 41,
   "metadata": {},
   "outputs": [
    {
     "data": {
      "text/plain": [
       "array([3.5112917])"
      ]
     },
     "execution_count": 41,
     "metadata": {},
     "output_type": "execute_result"
    }
   ],
   "source": [
    "# Pers length error: error propagation from uncertainty in slope \n",
    "flc_n6/((model_n6.coef_)**2)"
   ]
  },
  {
   "cell_type": "code",
   "execution_count": 42,
   "metadata": {},
   "outputs": [
    {
     "data": {
      "text/plain": [
       "array([ 0.        ,  5.69189745, 11.38379489, 17.07569234, 22.76758978])"
      ]
     },
     "execution_count": 42,
     "metadata": {},
     "output_type": "execute_result"
    }
   ],
   "source": [
    "blen"
   ]
  },
  {
   "cell_type": "code",
   "execution_count": 43,
   "metadata": {},
   "outputs": [
    {
     "data": {
      "text/plain": [
       "Text(5, -0.15, 'R$^{2}$ = 0.98')"
      ]
     },
     "execution_count": 43,
     "metadata": {},
     "output_type": "execute_result"
    },
    {
     "data": {
      "image/png": "[encoded data removed]",
      "text/plain": [
       "<Figure size 504x504 with 1 Axes>"
      ]
     },
     "metadata": {
      "needs_background": "light"
     },
     "output_type": "display_data"
    }
   ],
   "source": [
    "plt.figure(figsize=(7,7))\n",
    "plt.errorbar(blen, np.log(cor_n6[0]), yerr=mk, color='b', linestyle=\"None\",marker='o',\n",
    "     capsize=5, capthick=1, ecolor='black')\n",
    "plt.plot(blen, gg, color='b')\n",
    "plt.title(r'Ensemble Averaged ln(Cosine $\\theta$)', fontsize=15, y=1.01)\n",
    "plt.xlabel(r'Bond Length', fontsize=15)\n",
    "plt.ylabel(r'ln$\\left< Cos(\\theta)\\right >$', fontsize=15)\n",
    "#plt.ylim(-1.9,0)\n",
    "font = font_manager.FontProperties(family='Arial', style='normal', size='14')\n",
    "plt.legend([r'$N_{PLGA}$ = 6: $L_{p}$ = 18.7 $\\AA$ ± 3.5 $\\AA$'], loc=3, frameon=0, fontsize=14, prop=font)\n",
    "plt.tick_params(labelsize=14)\n",
    "plt.text(5,-0.15,r'R$^{2}$ = 0.98', fontsize=15, color='blue')"
   ]
  },
  {
   "cell_type": "code",
   "execution_count": null,
   "metadata": {},
   "outputs": [],
   "source": [
    "lb_avg"
   ]
  },
  {
   "cell_type": "code",
   "execution_count": null,
   "metadata": {},
   "outputs": [],
   "source": [
    "exfun(nt, pers_n6)"
   ]
  },
  {
   "cell_type": "code",
   "execution_count": null,
   "metadata": {},
   "outputs": [],
   "source": [
    "def exfun(x, a):\n",
    "    return np.exp(-x*lb_avg/a)\n",
    "nt = np.arange(5)\n",
    "#nt += 1\n",
    "plt.scatter(nt, cor_n6[0])\n",
    "# a-axis is the number of bond lengths away \n",
    "plt.plot(nt,exfun(nt, pers_n6))\n",
    "plt.ylim(0,1.2)"
   ]
  },
  {
   "cell_type": "markdown",
   "metadata": {},
   "source": [
    "## N = 8 water"
   ]
  },
  {
   "cell_type": "code",
   "execution_count": 44,
   "metadata": {},
   "outputs": [],
   "source": [
    "n8_plga_wat = mda.Universe(\"n8_plga_50ns/0_xa_soln/confout.gro\", \"n8_plga_50ns/0_xa_soln/nopbc_traj.xtc\")"
   ]
  },
  {
   "cell_type": "code",
   "execution_count": 45,
   "metadata": {},
   "outputs": [
    {
     "data": {
      "text/plain": [
       "<Universe with 12609 atoms>"
      ]
     },
     "execution_count": 45,
     "metadata": {},
     "output_type": "execute_result"
    }
   ],
   "source": [
    "n8_plga_wat"
   ]
  },
  {
   "cell_type": "code",
   "execution_count": 46,
   "metadata": {},
   "outputs": [],
   "source": [
    "#Select the polymer heavy atoms \n",
    "poly_n8 = n8_plga_wat.select_atoms(\"resname sPLG PLG tPLG and not type H\")"
   ]
  },
  {
   "cell_type": "code",
   "execution_count": 47,
   "metadata": {},
   "outputs": [
    {
     "data": {
      "text/plain": [
       "5001"
      ]
     },
     "execution_count": 47,
     "metadata": {},
     "output_type": "execute_result"
    }
   ],
   "source": [
    "len(n8_plga_wat.trajectory)"
   ]
  },
  {
   "cell_type": "code",
   "execution_count": 48,
   "metadata": {},
   "outputs": [
    {
     "data": {
      "text/plain": [
       "5.419908626450464"
      ]
     },
     "execution_count": 48,
     "metadata": {},
     "output_type": "execute_result"
    }
   ],
   "source": [
    "com_bond_n8 = np.zeros(shape=(1,5000))\n",
    "count = 0\n",
    "for ts in n8_plga_wat.trajectory[0:5000]:\n",
    "    n8_mon1 = n8_plga_wat.select_atoms(\"resid 1\")\n",
    "    n8_mon2 = n8_plga_wat.select_atoms(\"resid 2\")\n",
    "    oo_len = mda.analysis.distances.distance_array(n8_mon1.center_of_mass(), n8_mon2.center_of_mass(), \n",
    "                                                   box=n8_plga_wat.trajectory.ts.dimensions)\n",
    "    com_bond_n8[0, count] = oo_len\n",
    "    count += 1\n",
    "lb_avg_n8 = np.mean(com_bond_n8)\n",
    "lb_avg_n8"
   ]
  },
  {
   "cell_type": "code",
   "execution_count": null,
   "metadata": {},
   "outputs": [],
   "source": [
    "plt.scatter(np.arange(5000),com_bond_n8)\n",
    "plt.scatter(np.arange(5000),com_bond)"
   ]
  },
  {
   "cell_type": "code",
   "execution_count": 49,
   "metadata": {},
   "outputs": [
    {
     "data": {
      "text/plain": [
       "5.419908626450464"
      ]
     },
     "execution_count": 49,
     "metadata": {},
     "output_type": "execute_result"
    }
   ],
   "source": [
    "lb_avg_n8"
   ]
  },
  {
   "cell_type": "code",
   "execution_count": 50,
   "metadata": {},
   "outputs": [
    {
     "data": {
      "text/plain": [
       "5.691897446005937"
      ]
     },
     "execution_count": 50,
     "metadata": {},
     "output_type": "execute_result"
    }
   ],
   "source": [
    "lb_avg"
   ]
  },
  {
   "cell_type": "code",
   "execution_count": null,
   "metadata": {},
   "outputs": [],
   "source": [
    "n8_blks = bavg_pers_cnt(5, poly_n8, n8_plga_wat, lb_avg, 0 , 5000)"
   ]
  },
  {
   "cell_type": "code",
   "execution_count": null,
   "metadata": {},
   "outputs": [],
   "source": [
    "n8_blks[\"Avg persistence length\"]"
   ]
  },
  {
   "cell_type": "code",
   "execution_count": null,
   "metadata": {},
   "outputs": [],
   "source": [
    "n8_blks[\"Avg Radius of gyration\"]"
   ]
  },
  {
   "cell_type": "code",
   "execution_count": 51,
   "metadata": {},
   "outputs": [],
   "source": [
    "n8_rgens, cor_n8_mat, N8ens_cos, rg_avgn8 = get_rg_pers_poly(poly_n8, n8_plga_wat, 0, 5000, lb_avg)"
   ]
  },
  {
   "cell_type": "code",
   "execution_count": 52,
   "metadata": {},
   "outputs": [
    {
     "data": {
      "text/plain": [
       "array([[1.00000000e+00, 7.83997871e-01, 5.26026861e-01, 3.72849503e-01,\n",
       "        2.77911770e-01, 2.30961802e-01, 2.70035833e-01],\n",
       "       [4.12429549e-17, 4.87656382e-02, 1.14853285e-01, 1.94616388e-01,\n",
       "        2.93427907e-01, 4.09681649e-01, 5.30065773e-01],\n",
       "       [0.00000000e+00, 3.81441306e+01, 5.79099027e+01, 6.75021816e+01,\n",
       "        7.28586935e+01, 7.52401371e+01, 7.19311438e+01],\n",
       "       [1.00000000e+00, 2.00000000e+00, 3.00000000e+00, 4.00000000e+00,\n",
       "        5.00000000e+00, 6.00000000e+00, 7.00000000e+00]])"
      ]
     },
     "execution_count": 52,
     "metadata": {},
     "output_type": "execute_result"
    }
   ],
   "source": [
    "cor_n8_mat"
   ]
  },
  {
   "cell_type": "code",
   "execution_count": 53,
   "metadata": {},
   "outputs": [
    {
     "data": {
      "text/plain": [
       "array([1.        , 0.78399787, 0.52602686, 0.3728495 , 0.27791177,\n",
       "       0.2309618 , 0.27003583])"
      ]
     },
     "execution_count": 53,
     "metadata": {},
     "output_type": "execute_result"
    }
   ],
   "source": [
    "cor_n8_mat[0]"
   ]
  },
  {
   "cell_type": "code",
   "execution_count": 54,
   "metadata": {},
   "outputs": [
    {
     "data": {
      "text/plain": [
       "array([4.12429549e-17, 4.87656382e-02, 1.14853285e-01, 1.94616388e-01,\n",
       "       2.93427907e-01, 4.09681649e-01, 5.30065773e-01])"
      ]
     },
     "execution_count": 54,
     "metadata": {},
     "output_type": "execute_result"
    }
   ],
   "source": [
    "cor_n8_mat[1]"
   ]
  },
  {
   "cell_type": "code",
   "execution_count": 55,
   "metadata": {},
   "outputs": [
    {
     "data": {
      "text/plain": [
       "array([4.12429549e-17, 6.22012380e-02, 2.18341102e-01, 5.21970357e-01,\n",
       "       1.05583116e+00, 1.77380695e+00, 1.96294605e+00])"
      ]
     },
     "execution_count": 55,
     "metadata": {},
     "output_type": "execute_result"
    }
   ],
   "source": [
    "# error prop into natural log values \n",
    "mk_n8 = cor_n8_mat[1]/cor_n8_mat[0]\n",
    "#mk_n8 /= 2\n",
    "mk_n8"
   ]
  },
  {
   "cell_type": "code",
   "execution_count": 56,
   "metadata": {},
   "outputs": [
    {
     "data": {
      "text/plain": [
       "array([4.12429549e-17, 6.22012380e-02, 2.18341102e-01, 5.21970357e-01,\n",
       "       1.05583116e+00, 1.77380695e+00, 1.96294605e+00])"
      ]
     },
     "execution_count": 56,
     "metadata": {},
     "output_type": "execute_result"
    }
   ],
   "source": [
    "cor_n8_mat[1]/cor_n8_mat[0]"
   ]
  },
  {
   "cell_type": "code",
   "execution_count": 57,
   "metadata": {},
   "outputs": [
    {
     "data": {
      "text/plain": [
       "5.691897446005937"
      ]
     },
     "execution_count": 57,
     "metadata": {},
     "output_type": "execute_result"
    }
   ],
   "source": [
    "# For some reason, fit does not work if lb_avg is in angstroms\n",
    "lb_avg = np.mean(com_bond)\n",
    "#lb_avg /= 10\n",
    "lb_avg"
   ]
  },
  {
   "cell_type": "code",
   "execution_count": 58,
   "metadata": {},
   "outputs": [
    {
     "data": {
      "text/plain": [
       "array([ 0.        ,  5.69189745, 11.38379489, 17.07569234, 22.76758978,\n",
       "       28.45948723, 34.15138468])"
      ]
     },
     "execution_count": 58,
     "metadata": {},
     "output_type": "execute_result"
    }
   ],
   "source": [
    "# x values\n",
    "nt_ttn8 = np.arange(7, dtype=float)\n",
    "nt_ttn8 *= lb_avg\n",
    "#nt_ttn8[0] = 0\n",
    "nt_ttn8"
   ]
  },
  {
   "cell_type": "code",
   "execution_count": 59,
   "metadata": {},
   "outputs": [
    {
     "data": {
      "text/plain": [
       "12.29590380983148"
      ]
     },
     "execution_count": 59,
     "metadata": {},
     "output_type": "execute_result"
    }
   ],
   "source": [
    "# Sample standard deviation of Bond Length x values \n",
    "np.sqrt((np.sum(nt_ttn8**2) - ((np.sum(nt_ttn8)**2)/7))/6)"
   ]
  },
  {
   "cell_type": "code",
   "execution_count": 60,
   "metadata": {},
   "outputs": [
    {
     "data": {
      "text/plain": [
       "151.18925050062828"
      ]
     },
     "execution_count": 60,
     "metadata": {},
     "output_type": "execute_result"
    }
   ],
   "source": [
    "# Sample variance of Bond Length x values \n",
    "n8svar = (np.sum(nt_ttn8**2) - ((np.sum(nt_ttn8)**2)/7))/6\n",
    "n8svar"
   ]
  },
  {
   "cell_type": "code",
   "execution_count": 61,
   "metadata": {},
   "outputs": [
    {
     "data": {
      "text/plain": [
       "array([ 0.        , -0.24334897, -0.642403  , -0.98658042, -1.28045159,\n",
       "       -1.46550294, -1.30920061])"
      ]
     },
     "execution_count": 61,
     "metadata": {},
     "output_type": "execute_result"
    }
   ],
   "source": [
    "# y values\n",
    "n8lc = np.log(cor_n8_mat[0])\n",
    "n8lc"
   ]
  },
  {
   "cell_type": "code",
   "execution_count": null,
   "metadata": {},
   "outputs": [],
   "source": [
    "plt.figure(figsize=(7,7))\n",
    "plt.errorbar(blen, np.log(cor_n6[0]), yerr=mk, color='b', linestyle=\"None\",marker='o',\n",
    "     capsize=5, capthick=1, ecolor='black')"
   ]
  },
  {
   "cell_type": "code",
   "execution_count": 62,
   "metadata": {},
   "outputs": [
    {
     "name": "stdout",
     "output_type": "stream",
     "text": [
      "Model slope:     [-0.05627709]\n",
      "Model intercept: 0.0\n"
     ]
    }
   ],
   "source": [
    "from sklearn.linear_model import LinearRegression\n",
    "model_n8 = LinearRegression(fit_intercept=False)\n",
    "model_n8.fit(nt_ttn8[:5].reshape(-1,1), n8lc[:5])\n",
    "# Slope here is in nanometers\n",
    "print(\"Model slope:    \", model_n8.coef_)\n",
    "print(\"Model intercept:\", model_n8.intercept_)"
   ]
  },
  {
   "cell_type": "code",
   "execution_count": 63,
   "metadata": {},
   "outputs": [
    {
     "data": {
      "text/plain": [
       "array([ 0.        , -0.32032342, -0.64064684, -0.96097026, -1.28129368,\n",
       "       -1.6016171 , -1.92194052])"
      ]
     },
     "execution_count": 63,
     "metadata": {},
     "output_type": "execute_result"
    }
   ],
   "source": [
    "gg_n8 = model_n8.predict(nt_ttn8.reshape(-1,1))\n",
    "gg_n8"
   ]
  },
  {
   "cell_type": "code",
   "execution_count": 64,
   "metadata": {},
   "outputs": [
    {
     "name": "stdout",
     "output_type": "stream",
     "text": [
      "Mean Std Error: 0.0013169477183577825\n",
      "R2 score: 0.9939963442215671\n"
     ]
    }
   ],
   "source": [
    "print(\"Mean Std Error:\", sklearn.metrics.mean_squared_error(n8lc[:5], gg_n8[:5]))\n",
    "print(\"R2 score:\", sklearn.metrics.r2_score(n8lc[:5], gg_n8[:5]))"
   ]
  },
  {
   "cell_type": "code",
   "execution_count": 65,
   "metadata": {},
   "outputs": [
    {
     "data": {
      "text/plain": [
       "array([ 0.        ,  0.07697444, -0.00175616, -0.02561016,  0.00084209])"
      ]
     },
     "execution_count": 65,
     "metadata": {},
     "output_type": "execute_result"
    }
   ],
   "source": [
    "# Residuals between the true y data and model y data \n",
    "resid_n8 = n8lc[:5] - gg_n8[:5]\n",
    "resid_n8"
   ]
  },
  {
   "cell_type": "code",
   "execution_count": 66,
   "metadata": {},
   "outputs": [
    {
     "data": {
      "text/plain": [
       "0.0013169477183577825"
      ]
     },
     "execution_count": 66,
     "metadata": {},
     "output_type": "execute_result"
    }
   ],
   "source": [
    "# How to calculate mean squared error\n",
    "np.sum(resid_n8**2)/len(resid_n8)"
   ]
  },
  {
   "cell_type": "code",
   "execution_count": 67,
   "metadata": {},
   "outputs": [
    {
     "data": {
      "text/plain": [
       "0.03628977429466574"
      ]
     },
     "execution_count": 67,
     "metadata": {},
     "output_type": "execute_result"
    }
   ],
   "source": [
    "# Standard error: Square root of the mean squared error \n",
    "np.sqrt(np.sum(resid_n8**2)/len(resid_n8))"
   ]
  },
  {
   "cell_type": "code",
   "execution_count": 68,
   "metadata": {},
   "outputs": [
    {
     "data": {
      "text/plain": [
       "0.001518923448882437"
      ]
     },
     "execution_count": 68,
     "metadata": {},
     "output_type": "execute_result"
    }
   ],
   "source": [
    "# sample variance of the residuals \n",
    "ntres_n8 = resid_n8\n",
    "ntres_n8 -= np.mean(resid_n8)\n",
    "nhres_n8 = ntres_n8**2\n",
    "np.sum(nhres_n8)/4"
   ]
  },
  {
   "cell_type": "code",
   "execution_count": 69,
   "metadata": {},
   "outputs": [
    {
     "data": {
      "text/plain": [
       "323.9769653584891"
      ]
     },
     "execution_count": 69,
     "metadata": {},
     "output_type": "execute_result"
    }
   ],
   "source": [
    "# How to calculate Sum((Xi - avg(X))^2): X values are the bond length values \n",
    "nt_n8 = np.arange(5, dtype=float)\n",
    "nt_n8 *= lb_avg\n",
    "nt_n8 -= np.mean(nt_n8)\n",
    "nhui = nt_n8**2\n",
    "np.sum(nhui)"
   ]
  },
  {
   "cell_type": "code",
   "execution_count": 70,
   "metadata": {},
   "outputs": [
    {
     "data": {
      "text/plain": [
       "0.004738863444949515"
      ]
     },
     "execution_count": 70,
     "metadata": {},
     "output_type": "execute_result"
    }
   ],
   "source": [
    "# How to calculate 95% confidence interval for the slope \n",
    "flc_n8 = scipy.stats.t.ppf(0.975, 6)*np.sqrt((np.sum(resid_n8**2)/len(resid_n8))/(np.sum(nhui)))\n",
    "flc_n8"
   ]
  },
  {
   "cell_type": "code",
   "execution_count": 71,
   "metadata": {},
   "outputs": [
    {
     "data": {
      "text/plain": [
       "array([17.76922042])"
      ]
     },
     "execution_count": 71,
     "metadata": {},
     "output_type": "execute_result"
    }
   ],
   "source": [
    "pers_n8 =-1/model_n8.coef_\n",
    "pers_n8"
   ]
  },
  {
   "cell_type": "code",
   "execution_count": 72,
   "metadata": {},
   "outputs": [
    {
     "data": {
      "text/plain": [
       "array([1.49627336])"
      ]
     },
     "execution_count": 72,
     "metadata": {},
     "output_type": "execute_result"
    }
   ],
   "source": [
    "# Pers length error: error propagation from uncertainty in slope \n",
    "flc_n8/((model_n8.coef_)**2)"
   ]
  },
  {
   "cell_type": "code",
   "execution_count": null,
   "metadata": {},
   "outputs": [],
   "source": [
    "nt_ttn8"
   ]
  },
  {
   "cell_type": "code",
   "execution_count": null,
   "metadata": {},
   "outputs": [],
   "source": [
    "# ln(cos theta) error: error propagation from uncertainty in cos theta values \n",
    "mk_n8 = cor_n8_mat[1]/cor_n8_mat[0]\n",
    "mk_n8"
   ]
  },
  {
   "cell_type": "code",
   "execution_count": 73,
   "metadata": {},
   "outputs": [
    {
     "data": {
      "text/plain": [
       "Text(5, -0.15, 'R$^{2}$ = 0.99')"
      ]
     },
     "execution_count": 73,
     "metadata": {},
     "output_type": "execute_result"
    },
    {
     "data": {
      "image/png": "[encoded data removed]",
      "text/plain": [
       "<Figure size 504x504 with 1 Axes>"
      ]
     },
     "metadata": {
      "needs_background": "light"
     },
     "output_type": "display_data"
    }
   ],
   "source": [
    "plt.figure(figsize=(7,7))\n",
    "plt.errorbar(nt_ttn8, np.log(cor_n8_mat[0]), yerr=mk_n8, color='b', linestyle=\"None\",marker='o',\n",
    "     capsize=5, capthick=1, ecolor='black')\n",
    "plt.plot(nt_ttn8, gg_n8, color='b')\n",
    "plt.title(r'Ensemble Averaged ln(Cosine $\\theta$)', fontsize=15, y=1.01)\n",
    "plt.xlabel(r'Bond Length', fontsize=15)\n",
    "plt.ylabel(r'ln$\\left< Cos(\\theta)\\right >$', fontsize=15)\n",
    "#plt.ylim(-1.9,0)\n",
    "font = font_manager.FontProperties(family='Arial', style='normal', size='14')\n",
    "plt.legend([r'$N_{PLGA}$ = 8: $L_{p}$ = 17.8 $\\AA$ ± 1.5 $\\AA$'], loc=3, frameon=0, fontsize=14, prop=font)\n",
    "plt.tick_params(labelsize=14)\n",
    "plt.text(5,-0.15,r'R$^{2}$ = 0.99', fontsize=15, color='blue')"
   ]
  },
  {
   "cell_type": "code",
   "execution_count": null,
   "metadata": {},
   "outputs": [],
   "source": [
    "def exfun(x, a):\n",
    "    return np.exp(-x*lb_avg_n8/a)\n",
    "\n",
    "nt = np.arange(7)\n",
    "plt.scatter(nt, cor_n8_mat[0,:])\n",
    "plt.plot(nt,exfun(nt, pers_n8))"
   ]
  },
  {
   "cell_type": "markdown",
   "metadata": {},
   "source": [
    "## N = 10 water"
   ]
  },
  {
   "cell_type": "code",
   "execution_count": 74,
   "metadata": {},
   "outputs": [],
   "source": [
    "n10_plga_wat = mda.Universe(\"n10_plga_50ns/0_xa_soln/N10_sys.gro\", \"n10_plga_50ns/0_xa_soln/nopbc_10wat.xtc\")"
   ]
  },
  {
   "cell_type": "code",
   "execution_count": 75,
   "metadata": {},
   "outputs": [
    {
     "data": {
      "text/plain": [
       "<Universe with 153 atoms>"
      ]
     },
     "execution_count": 75,
     "metadata": {},
     "output_type": "execute_result"
    }
   ],
   "source": [
    "n10_plga_wat"
   ]
  },
  {
   "cell_type": "code",
   "execution_count": 76,
   "metadata": {},
   "outputs": [
    {
     "data": {
      "text/plain": [
       "5001"
      ]
     },
     "execution_count": 76,
     "metadata": {},
     "output_type": "execute_result"
    }
   ],
   "source": [
    "len(n10_plga_wat.trajectory)"
   ]
  },
  {
   "cell_type": "code",
   "execution_count": 77,
   "metadata": {},
   "outputs": [],
   "source": [
    "poly_n10 = n10_plga_wat.select_atoms(\"resname sPLG PLG tPLG and not type H\")"
   ]
  },
  {
   "cell_type": "code",
   "execution_count": 78,
   "metadata": {},
   "outputs": [],
   "source": [
    "com_bond_n10 = np.zeros(shape=(1,5000))\n",
    "count = 0\n",
    "for ts in n10_plga_wat.trajectory[0:5000]:\n",
    "    n10_mon1 = n10_plga_wat.select_atoms(\"resid 1\")\n",
    "    n10_mon2 = n10_plga_wat.select_atoms(\"resid 2\")\n",
    "    oo_len = mda.analysis.distances.distance_array(n10_mon1.center_of_mass(), n10_mon2.center_of_mass(), \n",
    "                                                   box=n10_plga_wat.trajectory.ts.dimensions)\n",
    "    com_bond_n10[0, count] = oo_len\n",
    "    count += 1\n",
    "lb_avg_n10 = np.mean(com_bond_n10)"
   ]
  },
  {
   "cell_type": "code",
   "execution_count": 79,
   "metadata": {},
   "outputs": [
    {
     "data": {
      "text/plain": [
       "5.591477567959724"
      ]
     },
     "execution_count": 79,
     "metadata": {},
     "output_type": "execute_result"
    }
   ],
   "source": [
    "lb_avg_n10"
   ]
  },
  {
   "cell_type": "code",
   "execution_count": null,
   "metadata": {},
   "outputs": [],
   "source": [
    "plt.scatter(np.arange(5000),com_bond)\n",
    "plt.scatter(np.arange(5000),com_bond_n8)\n",
    "plt.scatter(np.arange(5000),com_bond_n10)"
   ]
  },
  {
   "cell_type": "code",
   "execution_count": 80,
   "metadata": {},
   "outputs": [
    {
     "data": {
      "text/plain": [
       "5.691897446005937"
      ]
     },
     "execution_count": 80,
     "metadata": {},
     "output_type": "execute_result"
    }
   ],
   "source": [
    "lb_avg"
   ]
  },
  {
   "cell_type": "code",
   "execution_count": null,
   "metadata": {},
   "outputs": [],
   "source": [
    "n10_blks = bavg_pers_cnt(5, poly_n10, n10_plga_wat, lb_avg_n10, 0 , 5000)"
   ]
  },
  {
   "cell_type": "code",
   "execution_count": null,
   "metadata": {},
   "outputs": [],
   "source": [
    "# Extended Length of 10 monomer length plga: 6.436 nm \n",
    "n10_blks[\"Avg persistence length\"]"
   ]
  },
  {
   "cell_type": "code",
   "execution_count": null,
   "metadata": {},
   "outputs": [],
   "source": [
    "n10_blks[\"Avg Radius of gyration\"]"
   ]
  },
  {
   "cell_type": "code",
   "execution_count": null,
   "metadata": {},
   "outputs": [],
   "source": [
    "np.mean(n10_blks[\"Avg Radius of gyration\"])"
   ]
  },
  {
   "cell_type": "code",
   "execution_count": null,
   "metadata": {},
   "outputs": [],
   "source": [
    "np.std(n10_blks[\"Avg Radius of gyration\"])"
   ]
  },
  {
   "cell_type": "code",
   "execution_count": null,
   "metadata": {},
   "outputs": [],
   "source": [
    "np.mean(n10_blks[\"Avg persistence length\"])"
   ]
  },
  {
   "cell_type": "code",
   "execution_count": null,
   "metadata": {},
   "outputs": [],
   "source": [
    "np.std(n10_blks[\"Avg persistence length\"])"
   ]
  },
  {
   "cell_type": "code",
   "execution_count": 81,
   "metadata": {},
   "outputs": [],
   "source": [
    "n10_rgens, cor_n10_mat, N10ens_cos, rg_avgn10 = get_rg_pers_poly(poly_n10, n10_plga_wat, 0, 5000, lb_avg)"
   ]
  },
  {
   "cell_type": "code",
   "execution_count": 82,
   "metadata": {},
   "outputs": [
    {
     "data": {
      "text/plain": [
       "array([[1.00000000e+00, 7.79108575e-01, 5.07420096e-01, 3.42634439e-01,\n",
       "        1.84134505e-01, 1.88489795e-01, 2.29565788e-01, 2.14205164e-01,\n",
       "        2.45898194e-01],\n",
       "       [4.29413829e-17, 3.77019867e-02, 9.48600308e-02, 1.46611385e-01,\n",
       "        2.26419190e-01, 2.77070511e-01, 3.45257582e-01, 4.26962129e-01,\n",
       "        5.25881515e-01],\n",
       "       [0.00000000e+00, 3.86867496e+01, 5.92863723e+01, 6.96717699e+01,\n",
       "        7.90602489e+01, 7.87134963e+01, 7.58420123e+01, 7.64257913e+01,\n",
       "        7.35091173e+01],\n",
       "       [1.00000000e+00, 2.00000000e+00, 3.00000000e+00, 4.00000000e+00,\n",
       "        5.00000000e+00, 6.00000000e+00, 7.00000000e+00, 8.00000000e+00,\n",
       "        9.00000000e+00]])"
      ]
     },
     "execution_count": 82,
     "metadata": {},
     "output_type": "execute_result"
    }
   ],
   "source": [
    "cor_n10_mat"
   ]
  },
  {
   "cell_type": "code",
   "execution_count": 83,
   "metadata": {},
   "outputs": [
    {
     "data": {
      "text/plain": [
       "array([1.        , 0.77910858, 0.5074201 , 0.34263444, 0.18413451,\n",
       "       0.18848979, 0.22956579, 0.21420516, 0.24589819])"
      ]
     },
     "execution_count": 83,
     "metadata": {},
     "output_type": "execute_result"
    }
   ],
   "source": [
    "cor_n10_mat[0]"
   ]
  },
  {
   "cell_type": "code",
   "execution_count": 84,
   "metadata": {},
   "outputs": [
    {
     "data": {
      "text/plain": [
       "array([4.29413829e-17, 3.77019867e-02, 9.48600308e-02, 1.46611385e-01,\n",
       "       2.26419190e-01, 2.77070511e-01, 3.45257582e-01, 4.26962129e-01,\n",
       "       5.25881515e-01])"
      ]
     },
     "execution_count": 84,
     "metadata": {},
     "output_type": "execute_result"
    }
   ],
   "source": [
    "cor_n10_mat[1]"
   ]
  },
  {
   "cell_type": "code",
   "execution_count": 85,
   "metadata": {},
   "outputs": [
    {
     "data": {
      "text/plain": [
       "array([4.29413829e-17, 4.83911844e-02, 1.86945751e-01, 4.27894480e-01,\n",
       "       1.22964020e+00, 1.46994967e+00, 1.50395922e+00, 1.99323920e+00,\n",
       "       2.13861479e+00])"
      ]
     },
     "execution_count": 85,
     "metadata": {},
     "output_type": "execute_result"
    }
   ],
   "source": [
    "mk_n10 = cor_n10_mat[1]/cor_n10_mat[0]\n",
    "#mk_n10 /= 2\n",
    "mk_n10"
   ]
  },
  {
   "cell_type": "code",
   "execution_count": 86,
   "metadata": {},
   "outputs": [
    {
     "data": {
      "text/plain": [
       "array([4.29413829e-17, 4.83911844e-02, 1.86945751e-01, 4.27894480e-01,\n",
       "       1.22964020e+00, 1.46994967e+00, 1.50395922e+00, 1.99323920e+00,\n",
       "       2.13861479e+00])"
      ]
     },
     "execution_count": 86,
     "metadata": {},
     "output_type": "execute_result"
    }
   ],
   "source": [
    "cor_n10_mat[1]/cor_n10_mat[0]"
   ]
  },
  {
   "cell_type": "code",
   "execution_count": 87,
   "metadata": {},
   "outputs": [
    {
     "data": {
      "text/plain": [
       "5.691897446005937"
      ]
     },
     "execution_count": 87,
     "metadata": {},
     "output_type": "execute_result"
    }
   ],
   "source": [
    "lb_avg = np.mean(com_bond)\n",
    "#lb_avg /= 10\n",
    "lb_avg"
   ]
  },
  {
   "cell_type": "code",
   "execution_count": 88,
   "metadata": {},
   "outputs": [
    {
     "data": {
      "text/plain": [
       "array([ 0.        ,  5.69189745, 11.38379489, 17.07569234, 22.76758978,\n",
       "       28.45948723, 34.15138468, 39.84328212, 45.53517957])"
      ]
     },
     "execution_count": 88,
     "metadata": {},
     "output_type": "execute_result"
    }
   ],
   "source": [
    "# x values\n",
    "nt_ttn10 = np.arange(9, dtype=float)\n",
    "nt_ttn10 *= lb_avg\n",
    "#nt_ttn10[0] = 0\n",
    "nt_ttn10"
   ]
  },
  {
   "cell_type": "code",
   "execution_count": 89,
   "metadata": {},
   "outputs": [
    {
     "data": {
      "text/plain": [
       "15.587903130917473"
      ]
     },
     "execution_count": 89,
     "metadata": {},
     "output_type": "execute_result"
    }
   ],
   "source": [
    "# Sample standard deviation of Bond Length x values \n",
    "np.sqrt((np.sum(nt_ttn10**2) - ((np.sum(nt_ttn10)**2)/9))/8)"
   ]
  },
  {
   "cell_type": "code",
   "execution_count": 90,
   "metadata": {},
   "outputs": [
    {
     "data": {
      "text/plain": [
       "242.98272401886675"
      ]
     },
     "execution_count": 90,
     "metadata": {},
     "output_type": "execute_result"
    }
   ],
   "source": [
    "# Sample variance of Bond Length x values \n",
    "n10svar = (np.sum(nt_ttn10**2) - ((np.sum(nt_ttn10)**2)/9))/8\n",
    "n10svar"
   ]
  },
  {
   "cell_type": "code",
   "execution_count": 91,
   "metadata": {},
   "outputs": [
    {
     "data": {
      "text/plain": [
       "array([ 0.        , -0.24960487, -0.67841603, -1.07109118, -1.69208878,\n",
       "       -1.66871141, -1.47156563, -1.54082101, -1.40283767])"
      ]
     },
     "execution_count": 91,
     "metadata": {},
     "output_type": "execute_result"
    }
   ],
   "source": [
    "# y values\n",
    "n10lc = np.log(cor_n10_mat[0])\n",
    "n10lc"
   ]
  },
  {
   "cell_type": "code",
   "execution_count": 104,
   "metadata": {},
   "outputs": [
    {
     "data": {
      "text/plain": [
       "<ErrorbarContainer object of 3 artists>"
      ]
     },
     "execution_count": 104,
     "metadata": {},
     "output_type": "execute_result"
    },
    {
     "data": {
      "image/png": "[encoded data removed]",
      "text/plain": [
       "<Figure size 504x504 with 1 Axes>"
      ]
     },
     "metadata": {
      "needs_background": "light"
     },
     "output_type": "display_data"
    }
   ],
   "source": [
    "plt.figure(figsize=(7,7))\n",
    "plt.errorbar(nt_ttn10, np.log(cor_n10_mat[0]), yerr=mk_n10, color='b', linestyle=\"None\",marker='o',\n",
    "     capsize=5, capthick=1, ecolor='black')"
   ]
  },
  {
   "cell_type": "code",
   "execution_count": 105,
   "metadata": {},
   "outputs": [
    {
     "data": {
      "text/plain": [
       "array([ 0.        ,  5.69189745, 11.38379489, 17.07569234, 22.76758978])"
      ]
     },
     "execution_count": 105,
     "metadata": {},
     "output_type": "execute_result"
    }
   ],
   "source": [
    "nt_ttn10[:5]"
   ]
  },
  {
   "cell_type": "code",
   "execution_count": 112,
   "metadata": {},
   "outputs": [
    {
     "name": "stdout",
     "output_type": "stream",
     "text": [
      "Model slope:     [-0.06786293]\n",
      "Model intercept: 0.0\n"
     ]
    }
   ],
   "source": [
    "from sklearn.linear_model import LinearRegression\n",
    "model_n10 = LinearRegression(fit_intercept=False)\n",
    "model_n10.fit(nt_ttn10[:5].reshape(-1,1), n10lc[:5])\n",
    "# Slope here is in nanometers\n",
    "print(\"Model slope:    \", model_n10.coef_)\n",
    "print(\"Model intercept:\", model_n10.intercept_)"
   ]
  },
  {
   "cell_type": "code",
   "execution_count": 113,
   "metadata": {},
   "outputs": [
    {
     "data": {
      "text/plain": [
       "array([ 0.        , -0.38626885, -0.77253771, -1.15880656, -1.54507541,\n",
       "       -1.93134426, -2.31761312, -2.70388197, -3.09015082])"
      ]
     },
     "execution_count": 113,
     "metadata": {},
     "output_type": "execute_result"
    }
   ],
   "source": [
    "gg_n10 = model_n10.predict(nt_ttn10.reshape(-1,1))\n",
    "gg_n10"
   ]
  },
  {
   "cell_type": "code",
   "execution_count": 114,
   "metadata": {},
   "outputs": [
    {
     "name": "stdout",
     "output_type": "stream",
     "text": [
      "Mean Std Error: 0.011368571031485463\n",
      "R2 score: 0.9685596530931551\n"
     ]
    }
   ],
   "source": [
    "print(\"Mean Std Error:\", sklearn.metrics.mean_squared_error(n10lc[:5], model_n10.predict(nt_ttn10[:5].reshape(-1,1))))\n",
    "print(\"R2 score:\", sklearn.metrics.r2_score(n10lc[:5], model_n10.predict(nt_ttn10[:5].reshape(-1,1))))"
   ]
  },
  {
   "cell_type": "code",
   "execution_count": 115,
   "metadata": {},
   "outputs": [
    {
     "data": {
      "text/plain": [
       "array([ 0.        ,  0.13666399,  0.09412168,  0.08771538, -0.14701337])"
      ]
     },
     "execution_count": 115,
     "metadata": {},
     "output_type": "execute_result"
    }
   ],
   "source": [
    "# Residuals between the true y data and model y data \n",
    "resid_n10 = n10lc[:5] - gg_n10[:5]\n",
    "resid_n10"
   ]
  },
  {
   "cell_type": "code",
   "execution_count": 116,
   "metadata": {},
   "outputs": [
    {
     "data": {
      "text/plain": [
       "0.011368571031485463"
      ]
     },
     "execution_count": 116,
     "metadata": {},
     "output_type": "execute_result"
    }
   ],
   "source": [
    "# How to calculate mean squared error\n",
    "np.sum(resid_n10**2)/len(resid_n10)"
   ]
  },
  {
   "cell_type": "code",
   "execution_count": 117,
   "metadata": {},
   "outputs": [
    {
     "data": {
      "text/plain": [
       "0.10662350130944614"
      ]
     },
     "execution_count": 117,
     "metadata": {},
     "output_type": "execute_result"
    }
   ],
   "source": [
    "# Standard error: Square root of the mean squared error \n",
    "np.sqrt(np.sum(resid_n10**2)/len(resid_n10))"
   ]
  },
  {
   "cell_type": "code",
   "execution_count": 118,
   "metadata": {},
   "outputs": [
    {
     "data": {
      "text/plain": [
       "0.012740312660761702"
      ]
     },
     "execution_count": 118,
     "metadata": {},
     "output_type": "execute_result"
    }
   ],
   "source": [
    "# sample variance of the residuals \n",
    "ntres_n10 = resid_n10\n",
    "ntres_n10 -= np.mean(resid_n10)\n",
    "nhres_n10 = ntres_n10**2\n",
    "np.sum(nhres_n10)/4"
   ]
  },
  {
   "cell_type": "code",
   "execution_count": 119,
   "metadata": {},
   "outputs": [
    {
     "data": {
      "text/plain": [
       "323.9769653584891"
      ]
     },
     "execution_count": 119,
     "metadata": {},
     "output_type": "execute_result"
    }
   ],
   "source": [
    "# How to calculate Sum((Xi - avg(X))^2): X values are the bond length values \n",
    "nt_n10 = np.arange(5, dtype=float)\n",
    "nt_n10 *= lb_avg\n",
    "nt_n10 -= np.mean(nt_n10)\n",
    "nhui = nt_n10**2\n",
    "np.sum(nhui)"
   ]
  },
  {
   "cell_type": "code",
   "execution_count": 120,
   "metadata": {},
   "outputs": [
    {
     "data": {
      "text/plain": [
       "0.015572812735910331"
      ]
     },
     "execution_count": 120,
     "metadata": {},
     "output_type": "execute_result"
    }
   ],
   "source": [
    "# How to calculate 95% confidence interval for the slope \n",
    "flc_n10 = scipy.stats.t.ppf(0.975, 4)*np.sqrt((np.sum(resid_n10**2)/len(resid_n10))/(np.sum(nhui)))\n",
    "flc_n10"
   ]
  },
  {
   "cell_type": "code",
   "execution_count": 121,
   "metadata": {},
   "outputs": [
    {
     "data": {
      "text/plain": [
       "array([14.73558483])"
      ]
     },
     "execution_count": 121,
     "metadata": {},
     "output_type": "execute_result"
    }
   ],
   "source": [
    "pers_n10 =-1/model_n10.coef_\n",
    "pers_n10"
   ]
  },
  {
   "cell_type": "code",
   "execution_count": 122,
   "metadata": {},
   "outputs": [
    {
     "data": {
      "text/plain": [
       "array([3.38144101])"
      ]
     },
     "execution_count": 122,
     "metadata": {},
     "output_type": "execute_result"
    }
   ],
   "source": [
    "# Pers length error: error propagation from uncertainty in slope \n",
    "flc_n10/((model_n10.coef_)**2)"
   ]
  },
  {
   "cell_type": "code",
   "execution_count": null,
   "metadata": {},
   "outputs": [],
   "source": [
    "mk_n10"
   ]
  },
  {
   "cell_type": "code",
   "execution_count": null,
   "metadata": {},
   "outputs": [],
   "source": [
    "nt_ttn10"
   ]
  },
  {
   "cell_type": "code",
   "execution_count": null,
   "metadata": {},
   "outputs": [],
   "source": [
    "np.log(cor_n10_mat[0])"
   ]
  },
  {
   "cell_type": "code",
   "execution_count": null,
   "metadata": {},
   "outputs": [],
   "source": []
  },
  {
   "cell_type": "code",
   "execution_count": 123,
   "metadata": {},
   "outputs": [
    {
     "data": {
      "text/plain": [
       "Text(5, -0.15, 'R$^{2}$ = 0.97')"
      ]
     },
     "execution_count": 123,
     "metadata": {},
     "output_type": "execute_result"
    },
    {
     "data": {
      "image/png": "[encoded data removed]",
      "text/plain": [
       "<Figure size 504x504 with 1 Axes>"
      ]
     },
     "metadata": {
      "needs_background": "light"
     },
     "output_type": "display_data"
    }
   ],
   "source": [
    "plt.figure(figsize=(7,7))\n",
    "plt.errorbar(nt_ttn10, np.log(cor_n10_mat[0]), yerr=mk_n10, color='b', linestyle=\"None\",marker='o', capsize=5, capthick=1, ecolor='black')\n",
    "plt.plot(nt_ttn10, gg_n10, color='b')\n",
    "plt.title(r'Ensemble Averaged ln(Cosine $\\theta$)', fontsize=15, y=1.01)\n",
    "plt.xlabel(r'Bond Length', fontsize=15)\n",
    "plt.ylabel(r'ln$\\left< Cos(\\theta)\\right >$', fontsize=15)\n",
    "#plt.ylim(-1.9,0)\n",
    "font = font_manager.FontProperties(family='Arial', style='normal', size='14')\n",
    "plt.legend([r'$N_{PLGA}$ = 10: $L_{p}$ = 14.7 $\\AA$ ± 3.4 $\\AA$'], loc=3, frameon=0, fontsize=14, prop=font)\n",
    "plt.tick_params(labelsize=14)\n",
    "plt.text(5,-0.15,r'R$^{2}$ = 0.97', fontsize=15, color='blue')"
   ]
  },
  {
   "cell_type": "code",
   "execution_count": null,
   "metadata": {},
   "outputs": [],
   "source": [
    "def exfun(x, a):\n",
    "    return np.exp(-x*lb_avg/a)\n",
    "\n",
    "nt = np.arange(9)\n",
    "plt.scatter(nt, cor_n10_mat[0,:])\n",
    "plt.plot(nt,exfun(nt, pers_n10))"
   ]
  },
  {
   "cell_type": "markdown",
   "metadata": {},
   "source": [
    "## N = 20 water "
   ]
  },
  {
   "cell_type": "code",
   "execution_count": 124,
   "metadata": {},
   "outputs": [],
   "source": [
    "n20_plga_wat = mda.Universe(\"n20_plga_150ns/0_xa_soln/nowat_n20.gro\", \"n20_plga_150ns/0_xa_soln/N20_nopbcpp.xtc\")"
   ]
  },
  {
   "cell_type": "code",
   "execution_count": 125,
   "metadata": {},
   "outputs": [
    {
     "data": {
      "text/plain": [
       "<Universe with 303 atoms>"
      ]
     },
     "execution_count": 125,
     "metadata": {},
     "output_type": "execute_result"
    }
   ],
   "source": [
    "n20_plga_wat"
   ]
  },
  {
   "cell_type": "code",
   "execution_count": 126,
   "metadata": {},
   "outputs": [
    {
     "data": {
      "text/plain": [
       "15001"
      ]
     },
     "execution_count": 126,
     "metadata": {},
     "output_type": "execute_result"
    }
   ],
   "source": [
    "len(n20_plga_wat.trajectory)"
   ]
  },
  {
   "cell_type": "code",
   "execution_count": 127,
   "metadata": {},
   "outputs": [],
   "source": [
    "poly_n20 = n20_plga_wat.select_atoms(\"resname sPLG PLG tPLG and not type H\")"
   ]
  },
  {
   "cell_type": "code",
   "execution_count": 128,
   "metadata": {},
   "outputs": [],
   "source": [
    "com_bond_n20 = np.zeros(shape=(1,15000))\n",
    "count = 0\n",
    "for ts in n20_plga_wat.trajectory[0:15000]:\n",
    "    n20_mon1 = n20_plga_wat.select_atoms(\"resid 1\")\n",
    "    n20_mon2 = n20_plga_wat.select_atoms(\"resid 2\")\n",
    "    oo_len = mda.analysis.distances.distance_array(n20_mon1.center_of_mass(), n20_mon2.center_of_mass(), \n",
    "                                                   box=n20_plga_wat.trajectory.ts.dimensions)\n",
    "    com_bond_n20[0, count] = oo_len\n",
    "    count += 1\n",
    "lb_avg_n20 = np.mean(com_bond_n20)"
   ]
  },
  {
   "cell_type": "code",
   "execution_count": 129,
   "metadata": {},
   "outputs": [
    {
     "data": {
      "text/plain": [
       "5.5775064834288015"
      ]
     },
     "execution_count": 129,
     "metadata": {},
     "output_type": "execute_result"
    }
   ],
   "source": [
    "lb_avg_n20"
   ]
  },
  {
   "cell_type": "code",
   "execution_count": null,
   "metadata": {},
   "outputs": [],
   "source": [
    "plt.scatter(np.arange(5000),com_bond)\n",
    "plt.scatter(np.arange(5000),com_bond_n8)\n",
    "plt.scatter(np.arange(5000),com_bond_n10)\n",
    "plt.scatter(np.arange(15000),com_bond_n20)"
   ]
  },
  {
   "cell_type": "code",
   "execution_count": null,
   "metadata": {},
   "outputs": [],
   "source": [
    "n20_blks = bavg_pers_cnt(5, poly_n20, n20_plga_wat, lb_avg, 0 , 15000)"
   ]
  },
  {
   "cell_type": "code",
   "execution_count": null,
   "metadata": {},
   "outputs": [],
   "source": [
    "n20_blks[\"Avg persistence length\"]"
   ]
  },
  {
   "cell_type": "code",
   "execution_count": null,
   "metadata": {},
   "outputs": [],
   "source": [
    "n20_blks[\"Avg Radius of gyration\"]"
   ]
  },
  {
   "cell_type": "code",
   "execution_count": null,
   "metadata": {},
   "outputs": [],
   "source": [
    "np.mean(n20_blks[\"Avg Radius of gyration\"])"
   ]
  },
  {
   "cell_type": "code",
   "execution_count": null,
   "metadata": {},
   "outputs": [],
   "source": [
    "np.std(n20_blks[\"Avg Radius of gyration\"])"
   ]
  },
  {
   "cell_type": "code",
   "execution_count": null,
   "metadata": {},
   "outputs": [],
   "source": [
    "np.mean(n20_blks[\"Avg persistence length\"])"
   ]
  },
  {
   "cell_type": "code",
   "execution_count": null,
   "metadata": {},
   "outputs": [],
   "source": [
    "np.std(n20_blks[\"Avg persistence length\"])"
   ]
  },
  {
   "cell_type": "code",
   "execution_count": 130,
   "metadata": {},
   "outputs": [],
   "source": [
    "n20_rgens, cor_n20_mat, N20ens_cos, rg_avgn20 = get_rg_pers_poly(poly_n20, n20_plga_wat, 0, 15000, lb_avg)"
   ]
  },
  {
   "cell_type": "code",
   "execution_count": 131,
   "metadata": {},
   "outputs": [
    {
     "data": {
      "text/plain": [
       "array([[1.00000000e+00, 8.04234473e-01, 5.55391937e-01, 4.10549867e-01,\n",
       "        3.15349585e-01, 2.34350833e-01, 1.60106712e-01, 1.21574663e-01,\n",
       "        1.29210061e-01, 1.53886197e-01, 1.86597215e-01, 2.14165630e-01,\n",
       "        2.32049855e-01, 2.19609727e-01, 1.86049216e-01, 2.09226533e-01,\n",
       "        2.86726315e-01, 2.96691967e-01, 2.73548450e-01],\n",
       "       [2.45256282e-17, 2.44869261e-02, 5.38063524e-02, 7.03930952e-02,\n",
       "        9.32741342e-02, 1.18628193e-01, 1.46359310e-01, 1.54003399e-01,\n",
       "        1.41764306e-01, 1.41268670e-01, 1.64193349e-01, 2.05276514e-01,\n",
       "        2.48272367e-01, 2.54296232e-01, 2.48675004e-01, 2.44574587e-01,\n",
       "        3.52504655e-01, 4.08957456e-01, 5.20483096e-01],\n",
       "       [0.00000000e+00, 3.63975452e+01, 5.61819429e+01, 6.56815419e+01,\n",
       "        7.15160171e+01, 7.63261191e+01, 8.06564730e+01, 8.29040162e+01,\n",
       "        8.24781541e+01, 8.10441779e+01, 7.90870717e+01, 7.73407705e+01,\n",
       "        7.61293962e+01, 7.68242046e+01, 7.88574750e+01, 7.75528042e+01,\n",
       "        7.22706194e+01, 7.11478208e+01, 7.15646500e+01],\n",
       "       [1.00000000e+00, 2.00000000e+00, 3.00000000e+00, 4.00000000e+00,\n",
       "        5.00000000e+00, 6.00000000e+00, 7.00000000e+00, 8.00000000e+00,\n",
       "        9.00000000e+00, 1.00000000e+01, 1.10000000e+01, 1.20000000e+01,\n",
       "        1.30000000e+01, 1.40000000e+01, 1.50000000e+01, 1.60000000e+01,\n",
       "        1.70000000e+01, 1.80000000e+01, 1.90000000e+01]])"
      ]
     },
     "execution_count": 131,
     "metadata": {},
     "output_type": "execute_result"
    }
   ],
   "source": [
    "cor_n20_mat"
   ]
  },
  {
   "cell_type": "code",
   "execution_count": 132,
   "metadata": {},
   "outputs": [
    {
     "data": {
      "text/plain": [
       "array([1.        , 0.80423447, 0.55539194, 0.41054987, 0.31534959,\n",
       "       0.23435083, 0.16010671, 0.12157466, 0.12921006, 0.1538862 ,\n",
       "       0.18659722, 0.21416563, 0.23204986, 0.21960973, 0.18604922,\n",
       "       0.20922653, 0.28672631, 0.29669197, 0.27354845])"
      ]
     },
     "execution_count": 132,
     "metadata": {},
     "output_type": "execute_result"
    }
   ],
   "source": [
    "cor_n20_mat[0]"
   ]
  },
  {
   "cell_type": "code",
   "execution_count": 133,
   "metadata": {},
   "outputs": [
    {
     "data": {
      "text/plain": [
       "array([2.45256282e-17, 2.44869261e-02, 5.38063524e-02, 7.03930952e-02,\n",
       "       9.32741342e-02, 1.18628193e-01, 1.46359310e-01, 1.54003399e-01,\n",
       "       1.41764306e-01, 1.41268670e-01, 1.64193349e-01, 2.05276514e-01,\n",
       "       2.48272367e-01, 2.54296232e-01, 2.48675004e-01, 2.44574587e-01,\n",
       "       3.52504655e-01, 4.08957456e-01, 5.20483096e-01])"
      ]
     },
     "execution_count": 133,
     "metadata": {},
     "output_type": "execute_result"
    }
   ],
   "source": [
    "cor_n20_mat[1]"
   ]
  },
  {
   "cell_type": "code",
   "execution_count": 144,
   "metadata": {},
   "outputs": [
    {
     "data": {
      "text/plain": [
       "5.691897446005937"
      ]
     },
     "execution_count": 144,
     "metadata": {},
     "output_type": "execute_result"
    }
   ],
   "source": [
    "lb_avg = np.mean(com_bond)\n",
    "#lb_avg /= 10\n",
    "lb_avg"
   ]
  },
  {
   "cell_type": "code",
   "execution_count": 145,
   "metadata": {},
   "outputs": [
    {
     "data": {
      "text/plain": [
       "array([  0.        ,   5.69189745,  11.38379489,  17.07569234,\n",
       "        22.76758978,  28.45948723,  34.15138468,  39.84328212,\n",
       "        45.53517957,  51.22707701,  56.91897446,  62.61087191,\n",
       "        68.30276935,  73.9946668 ,  79.68656424,  85.37846169,\n",
       "        91.07035914,  96.76225658, 102.45415403])"
      ]
     },
     "execution_count": 145,
     "metadata": {},
     "output_type": "execute_result"
    }
   ],
   "source": [
    "# x values\n",
    "nt_ttn20 = np.arange(19, dtype=float)\n",
    "nt_ttn20 *= lb_avg\n",
    "#nt_ttn20[0] = 0\n",
    "nt_ttn20"
   ]
  },
  {
   "cell_type": "code",
   "execution_count": 146,
   "metadata": {},
   "outputs": [
    {
     "data": {
      "text/plain": [
       "32.030096112383866"
      ]
     },
     "execution_count": 146,
     "metadata": {},
     "output_type": "execute_result"
    }
   ],
   "source": [
    "# Sample standard deviation of Bond Length x values \n",
    "np.sqrt((np.sum(nt_ttn20**2) - ((np.sum(nt_ttn20)**2)/19))/18)"
   ]
  },
  {
   "cell_type": "code",
   "execution_count": 147,
   "metadata": {},
   "outputs": [
    {
     "data": {
      "text/plain": [
       "1025.927056968548"
      ]
     },
     "execution_count": 147,
     "metadata": {},
     "output_type": "execute_result"
    }
   ],
   "source": [
    "# Sample variance of Bond Length x values \n",
    "n20svar = (np.sum(nt_ttn20**2) - ((np.sum(nt_ttn20)**2)/19))/18\n",
    "n20svar"
   ]
  },
  {
   "cell_type": "code",
   "execution_count": 148,
   "metadata": {},
   "outputs": [
    {
     "data": {
      "text/plain": [
       "array([ 0.        , -0.21786442, -0.58808122, -0.89025788, -1.15407346,\n",
       "       -1.450936  , -1.83191474, -2.10722669, -2.04631582, -1.87154193,\n",
       "       -1.67880291, -1.54100559, -1.46080304, -1.51590328, -1.68174404,\n",
       "       -1.56433772, -1.24922713, -1.21506083, -1.29627653])"
      ]
     },
     "execution_count": 148,
     "metadata": {},
     "output_type": "execute_result"
    }
   ],
   "source": [
    "# y values\n",
    "n20lc = np.log(cor_n20_mat[0])\n",
    "n20lc"
   ]
  },
  {
   "cell_type": "code",
   "execution_count": 149,
   "metadata": {},
   "outputs": [
    {
     "data": {
      "text/plain": [
       "array([2.45256282e-17, 3.04474963e-02, 9.68799667e-02, 1.71460524e-01,\n",
       "       2.95780107e-01, 5.06199150e-01, 9.14136008e-01, 1.26673926e+00,\n",
       "       1.09716151e+00, 9.18007417e-01, 8.79934615e-01, 9.58494201e-01,\n",
       "       1.06990960e+00, 1.15794612e+00, 1.33660872e+00, 1.16894633e+00,\n",
       "       1.22941159e+00, 1.37839073e+00, 1.90270900e+00])"
      ]
     },
     "execution_count": 149,
     "metadata": {},
     "output_type": "execute_result"
    }
   ],
   "source": [
    "mk_n20 = cor_n20_mat[1]/cor_n20_mat[0]\n",
    "mk_n20"
   ]
  },
  {
   "cell_type": "code",
   "execution_count": 150,
   "metadata": {},
   "outputs": [
    {
     "data": {
      "text/plain": [
       "<ErrorbarContainer object of 3 artists>"
      ]
     },
     "execution_count": 150,
     "metadata": {},
     "output_type": "execute_result"
    },
    {
     "data": {
      "image/png": "[encoded data removed]",
      "text/plain": [
       "<Figure size 504x504 with 1 Axes>"
      ]
     },
     "metadata": {
      "needs_background": "light"
     },
     "output_type": "display_data"
    }
   ],
   "source": [
    "plt.figure(figsize=(7,7))\n",
    "plt.errorbar(nt_ttn20, np.log(cor_n20_mat[0]), yerr=mk_n20, color='b', linestyle=\"None\",marker='o',\n",
    "     capsize=5, capthick=1, ecolor='black')"
   ]
  },
  {
   "cell_type": "code",
   "execution_count": 151,
   "metadata": {},
   "outputs": [
    {
     "data": {
      "text/plain": [
       "array([ 0.        ,  5.69189745, 11.38379489, 17.07569234, 22.76758978,\n",
       "       28.45948723, 34.15138468, 39.84328212])"
      ]
     },
     "execution_count": 151,
     "metadata": {},
     "output_type": "execute_result"
    }
   ],
   "source": [
    "nt_ttn20[:8]"
   ]
  },
  {
   "cell_type": "code",
   "execution_count": 152,
   "metadata": {},
   "outputs": [
    {
     "name": "stdout",
     "output_type": "stream",
     "text": [
      "Model slope:     [-0.05230223]\n",
      "Model intercept: 0.0\n"
     ]
    }
   ],
   "source": [
    "from sklearn.linear_model import LinearRegression\n",
    "model_n20 = LinearRegression(fit_intercept=False)\n",
    "model_n20.fit(nt_ttn20[:8].reshape(-1,1), n20lc[:8])\n",
    "# Slope here is in nanometers\n",
    "print(\"Model slope:    \", model_n20.coef_)\n",
    "print(\"Model intercept:\", model_n20.intercept_)"
   ]
  },
  {
   "cell_type": "code",
   "execution_count": 153,
   "metadata": {},
   "outputs": [
    {
     "data": {
      "text/plain": [
       "array([ 0.        , -0.29769893, -0.59539785, -0.89309678, -1.1907957 ,\n",
       "       -1.48849463, -1.78619356, -2.08389248, -2.38159141, -2.67929033,\n",
       "       -2.97698926, -3.27468818, -3.57238711, -3.87008604, -4.16778496,\n",
       "       -4.46548389, -4.76318281, -5.06088174, -5.35858067])"
      ]
     },
     "execution_count": 153,
     "metadata": {},
     "output_type": "execute_result"
    }
   ],
   "source": [
    "gg_n20 = model_n20.predict(nt_ttn20.reshape(-1,1))\n",
    "gg_n20"
   ]
  },
  {
   "cell_type": "code",
   "execution_count": 154,
   "metadata": {},
   "outputs": [
    {
     "name": "stdout",
     "output_type": "stream",
     "text": [
      "Mean Std Error: 0.0014786533470702735\n",
      "R2 score: 0.9969910523841001\n"
     ]
    }
   ],
   "source": [
    "print(\"Mean Std Error:\", sklearn.metrics.mean_squared_error(n20lc[:8], model_n20.predict(nt_ttn20[:8].reshape(-1,1))))\n",
    "print(\"R2 score:\", sklearn.metrics.r2_score(n20lc[:8], model_n20.predict(nt_ttn20[:8].reshape(-1,1))))"
   ]
  },
  {
   "cell_type": "code",
   "execution_count": 155,
   "metadata": {},
   "outputs": [
    {
     "data": {
      "text/plain": [
       "array([ 0.        ,  0.07983451,  0.00731663,  0.0028389 ,  0.03672224,\n",
       "        0.03755863, -0.04572118, -0.02333421])"
      ]
     },
     "execution_count": 155,
     "metadata": {},
     "output_type": "execute_result"
    }
   ],
   "source": [
    "# Residuals between the true y data and model y data \n",
    "resid_n20 = n20lc[:8] - gg_n20[:8]\n",
    "resid_n20"
   ]
  },
  {
   "cell_type": "code",
   "execution_count": 156,
   "metadata": {},
   "outputs": [
    {
     "data": {
      "text/plain": [
       "0.0014786533470702735"
      ]
     },
     "execution_count": 156,
     "metadata": {},
     "output_type": "execute_result"
    }
   ],
   "source": [
    "# How to calculate mean squared error\n",
    "np.sum(resid_n20**2)/len(resid_n20)"
   ]
  },
  {
   "cell_type": "code",
   "execution_count": 157,
   "metadata": {},
   "outputs": [
    {
     "data": {
      "text/plain": [
       "0.03845326185215337"
      ]
     },
     "execution_count": 157,
     "metadata": {},
     "output_type": "execute_result"
    }
   ],
   "source": [
    "# Standard error: Square root of the mean squared error \n",
    "np.sqrt(np.sum(resid_n20**2)/len(resid_n20))"
   ]
  },
  {
   "cell_type": "code",
   "execution_count": 158,
   "metadata": {},
   "outputs": [
    {
     "data": {
      "text/plain": [
       "0.001527996791952926"
      ]
     },
     "execution_count": 158,
     "metadata": {},
     "output_type": "execute_result"
    }
   ],
   "source": [
    "# sample variance of the residuals \n",
    "ntres_n20 = resid_n20\n",
    "ntres_n20 -= np.mean(resid_n20)\n",
    "nhres_n20 = ntres_n20**2\n",
    "np.sum(nhres_n20)/7"
   ]
  },
  {
   "cell_type": "code",
   "execution_count": 159,
   "metadata": {},
   "outputs": [
    {
     "data": {
      "text/plain": [
       "1360.703254505654"
      ]
     },
     "execution_count": 159,
     "metadata": {},
     "output_type": "execute_result"
    }
   ],
   "source": [
    "# How to calculate Sum((Xi - avg(X))^2): X values are the bond length values \n",
    "nt_n20 = np.arange(8, dtype=float)\n",
    "nt_n20 *= lb_avg\n",
    "nt_n20 -= np.mean(nt_n20)\n",
    "nhui = nt_n20**2\n",
    "np.sum(nhui)"
   ]
  },
  {
   "cell_type": "code",
   "execution_count": 160,
   "metadata": {},
   "outputs": [
    {
     "data": {
      "text/plain": [
       "0.002752153337496418"
      ]
     },
     "execution_count": 160,
     "metadata": {},
     "output_type": "execute_result"
    }
   ],
   "source": [
    "# How to calculate 95% confidence interval for the slope \n",
    "flc_n20 = scipy.stats.t.ppf(0.975, 4)*np.sqrt((np.sum(resid_n20**2)/len(resid_n20))/(np.sum(nhui)))\n",
    "flc_n20"
   ]
  },
  {
   "cell_type": "code",
   "execution_count": 161,
   "metadata": {},
   "outputs": [
    {
     "data": {
      "text/plain": [
       "array([19.11964388])"
      ]
     },
     "execution_count": 161,
     "metadata": {},
     "output_type": "execute_result"
    }
   ],
   "source": [
    "pers_n20 =-1/model_n20.coef_\n",
    "pers_n20"
   ]
  },
  {
   "cell_type": "code",
   "execution_count": 162,
   "metadata": {},
   "outputs": [
    {
     "data": {
      "text/plain": [
       "array([1.00607933])"
      ]
     },
     "execution_count": 162,
     "metadata": {},
     "output_type": "execute_result"
    }
   ],
   "source": [
    "# Pers length error: error propagation from uncertainty in slope \n",
    "flc_n20/((model_n20.coef_)**2)"
   ]
  },
  {
   "cell_type": "code",
   "execution_count": 163,
   "metadata": {},
   "outputs": [],
   "source": [
    "mk_n20 = cor_n20_mat[1]/cor_n20_mat[0]"
   ]
  },
  {
   "cell_type": "code",
   "execution_count": 164,
   "metadata": {},
   "outputs": [
    {
     "data": {
      "text/plain": [
       "Text(5, -0.15, 'R$^{2}$ = 0.99')"
      ]
     },
     "execution_count": 164,
     "metadata": {},
     "output_type": "execute_result"
    },
    {
     "data": {
      "image/png": "[encoded data removed]",
      "text/plain": [
       "<Figure size 504x504 with 1 Axes>"
      ]
     },
     "metadata": {
      "needs_background": "light"
     },
     "output_type": "display_data"
    }
   ],
   "source": [
    "plt.figure(figsize=(7,7))\n",
    "plt.errorbar(nt_ttn20, np.log(cor_n20_mat[0]), yerr=mk_n20, color='b', linestyle=\"None\",marker='o',capsize=5, capthick=1, ecolor='black')\n",
    "plt.plot(nt_ttn20, gg_n20, color='b')\n",
    "plt.title(r'Ensemble Averaged ln(Cosine $\\theta$)', fontsize=15, y=1.01)\n",
    "plt.xlabel(r'Bond Length', fontsize=15)\n",
    "plt.ylabel(r'ln$\\left< Cos(\\theta)\\right >$', fontsize=15)\n",
    "#plt.ylim(-1.9,0)\n",
    "font = font_manager.FontProperties(family='Arial', style='normal', size='14')\n",
    "plt.legend([r'$N_{PLGA}$ = 20: $L_{p}$ = 19.1 $\\AA$ ± 1.0 $\\AA$'], loc=3, frameon=0, fontsize=14, prop=font)\n",
    "plt.tick_params(labelsize=14)\n",
    "plt.text(5,-0.15,r'R$^{2}$ = 0.99', fontsize=15, color='blue')"
   ]
  },
  {
   "cell_type": "code",
   "execution_count": null,
   "metadata": {},
   "outputs": [],
   "source": [
    "def exfun(x, a):\n",
    "    return np.exp(-x*lb_avg/a)\n",
    "\n",
    "nt = np.arange(19)\n",
    "plt.scatter(nt, cor_n20_mat[0,:])\n",
    "plt.plot(nt,exfun(nt, pers_n10))"
   ]
  },
  {
   "cell_type": "code",
   "execution_count": null,
   "metadata": {},
   "outputs": [],
   "source": []
  },
  {
   "cell_type": "markdown",
   "metadata": {},
   "source": [
    "## N= 30 water"
   ]
  },
  {
   "cell_type": "code",
   "execution_count": 134,
   "metadata": {},
   "outputs": [],
   "source": [
    "n30_plga_wat = mda.Universe(\"n30_plga_150ns/0_xa_soln/0xa_n30sys.gro\", \"n30_plga_150ns/0_xa_soln/N30_nopbcpp_0xa.xtc\")"
   ]
  },
  {
   "cell_type": "code",
   "execution_count": 135,
   "metadata": {},
   "outputs": [
    {
     "data": {
      "text/plain": [
       "<Universe with 453 atoms>"
      ]
     },
     "execution_count": 135,
     "metadata": {},
     "output_type": "execute_result"
    }
   ],
   "source": [
    "n30_plga_wat"
   ]
  },
  {
   "cell_type": "code",
   "execution_count": 136,
   "metadata": {},
   "outputs": [
    {
     "data": {
      "text/plain": [
       "15001"
      ]
     },
     "execution_count": 136,
     "metadata": {},
     "output_type": "execute_result"
    }
   ],
   "source": [
    "len(n30_plga_wat.trajectory)"
   ]
  },
  {
   "cell_type": "code",
   "execution_count": 137,
   "metadata": {},
   "outputs": [],
   "source": [
    "poly_n30 = n30_plga_wat.select_atoms(\"resname sPLG PLG tPLG and not type H\")"
   ]
  },
  {
   "cell_type": "code",
   "execution_count": 138,
   "metadata": {},
   "outputs": [],
   "source": [
    "com_bond_n30 = np.zeros(shape=(1,15000))\n",
    "count = 0\n",
    "for ts in n30_plga_wat.trajectory[0:15000]:\n",
    "    n30_mon1 = n30_plga_wat.select_atoms(\"resid 1\")\n",
    "    n30_mon2 = n30_plga_wat.select_atoms(\"resid 2\")\n",
    "    oo_len = mda.analysis.distances.distance_array(n30_mon1.center_of_mass(), n30_mon2.center_of_mass(), \n",
    "                                                   box=n30_plga_wat.trajectory.ts.dimensions)\n",
    "    com_bond_n30[0, count] = oo_len\n",
    "    count += 1\n",
    "lb_avg_n30 = np.mean(com_bond_n30)"
   ]
  },
  {
   "cell_type": "code",
   "execution_count": 139,
   "metadata": {},
   "outputs": [
    {
     "data": {
      "text/plain": [
       "5.60743077731889"
      ]
     },
     "execution_count": 139,
     "metadata": {},
     "output_type": "execute_result"
    }
   ],
   "source": [
    "lb_avg_n30"
   ]
  },
  {
   "cell_type": "code",
   "execution_count": 140,
   "metadata": {},
   "outputs": [
    {
     "data": {
      "text/plain": [
       "5.691897446005937"
      ]
     },
     "execution_count": 140,
     "metadata": {},
     "output_type": "execute_result"
    }
   ],
   "source": [
    "lb_avg"
   ]
  },
  {
   "cell_type": "code",
   "execution_count": null,
   "metadata": {},
   "outputs": [],
   "source": [
    "n30_blks = bavg_pers_cnt(5, poly_n30, n30_plga_wat, lb_avg, 0 , 15000)"
   ]
  },
  {
   "cell_type": "code",
   "execution_count": null,
   "metadata": {},
   "outputs": [],
   "source": [
    "n30_blks[\"Avg persistence length\"]"
   ]
  },
  {
   "cell_type": "code",
   "execution_count": null,
   "metadata": {},
   "outputs": [],
   "source": [
    "n30_blks[\"Avg Radius of gyration\"]"
   ]
  },
  {
   "cell_type": "code",
   "execution_count": null,
   "metadata": {},
   "outputs": [],
   "source": [
    "np.mean(n30_blks[\"Avg persistence length\"])"
   ]
  },
  {
   "cell_type": "code",
   "execution_count": null,
   "metadata": {},
   "outputs": [],
   "source": [
    "np.std(n30_blks[\"Avg persistence length\"])"
   ]
  },
  {
   "cell_type": "code",
   "execution_count": 141,
   "metadata": {},
   "outputs": [],
   "source": [
    "n30_rgens, cor_n30_mat, N30ens_cos, rg_avgn30 = get_rg_pers_poly(poly_n30, n30_plga_wat, 0, 15000, lb_avg)"
   ]
  },
  {
   "cell_type": "code",
   "execution_count": 142,
   "metadata": {},
   "outputs": [
    {
     "data": {
      "text/plain": [
       "array([[1.00000000e+00, 8.01626939e-01, 5.59763947e-01, 4.07940544e-01,\n",
       "        2.88477954e-01, 2.06676644e-01, 1.97395011e-01, 2.09132854e-01,\n",
       "        2.29247162e-01, 2.47037369e-01, 2.49057984e-01, 2.39151258e-01,\n",
       "        2.24639612e-01, 1.91803437e-01, 1.55606314e-01, 1.17348345e-01,\n",
       "        1.12893213e-01, 9.84067596e-02, 8.31411003e-02, 1.08596298e-01,\n",
       "        1.75853043e-01, 2.51029805e-01, 2.75093507e-01, 2.78997503e-01,\n",
       "        2.66341322e-01, 2.34591619e-01, 3.10879373e-01, 3.35070997e-01,\n",
       "        3.44840391e-01],\n",
       "       [3.73756764e-18, 2.43184433e-02, 4.61254110e-02, 5.22912909e-02,\n",
       "        6.80569240e-02, 8.57331931e-02, 1.10237568e-01, 1.28808851e-01,\n",
       "        1.26989345e-01, 9.38945667e-02, 8.42699253e-02, 1.15990201e-01,\n",
       "        1.44349079e-01, 1.20882251e-01, 9.29037054e-02, 1.03798269e-01,\n",
       "        1.20455451e-01, 1.38170232e-01, 1.36174814e-01, 1.41443088e-01,\n",
       "        1.70993316e-01, 1.77569105e-01, 2.20845983e-01, 2.18563295e-01,\n",
       "        1.98549866e-01, 2.22688080e-01, 2.72633265e-01, 3.58200093e-01,\n",
       "        4.99905245e-01],\n",
       "       [0.00000000e+00, 3.66508961e+01, 5.58993001e+01, 6.58826080e+01,\n",
       "        7.31876637e+01, 7.80189239e+01, 7.85463415e+01, 7.78288806e+01,\n",
       "        7.66366999e+01, 7.56325246e+01, 7.55190462e+01, 7.60500673e+01,\n",
       "        7.68518749e+01, 7.88477095e+01, 8.10073063e+01, 8.32248438e+01,\n",
       "        8.34690882e+01, 8.42930854e+01, 8.51716445e+01, 8.36981857e+01,\n",
       "        7.96983276e+01, 7.51861776e+01, 7.35955717e+01, 7.33650854e+01,\n",
       "        7.41638569e+01, 7.60453092e+01, 7.11396614e+01, 6.91621098e+01,\n",
       "        6.68321365e+01],\n",
       "       [1.00000000e+00, 2.00000000e+00, 3.00000000e+00, 4.00000000e+00,\n",
       "        5.00000000e+00, 6.00000000e+00, 7.00000000e+00, 8.00000000e+00,\n",
       "        9.00000000e+00, 1.00000000e+01, 1.10000000e+01, 1.20000000e+01,\n",
       "        1.30000000e+01, 1.40000000e+01, 1.50000000e+01, 1.60000000e+01,\n",
       "        1.70000000e+01, 1.80000000e+01, 1.90000000e+01, 2.00000000e+01,\n",
       "        2.10000000e+01, 2.20000000e+01, 2.30000000e+01, 2.40000000e+01,\n",
       "        2.50000000e+01, 2.60000000e+01, 2.70000000e+01, 2.80000000e+01,\n",
       "        2.90000000e+01]])"
      ]
     },
     "execution_count": 142,
     "metadata": {},
     "output_type": "execute_result"
    }
   ],
   "source": [
    "cor_n30_mat"
   ]
  },
  {
   "cell_type": "code",
   "execution_count": 143,
   "metadata": {},
   "outputs": [
    {
     "data": {
      "text/plain": [
       "array([1.        , 0.80162694, 0.55976395, 0.40794054, 0.28847795,\n",
       "       0.20667664, 0.19739501, 0.20913285, 0.22924716, 0.24703737,\n",
       "       0.24905798, 0.23915126, 0.22463961, 0.19180344, 0.15560631,\n",
       "       0.11734835, 0.11289321, 0.09840676, 0.0831411 , 0.1085963 ,\n",
       "       0.17585304, 0.2510298 , 0.27509351, 0.2789975 , 0.26634132,\n",
       "       0.23459162, 0.31087937, 0.335071  , 0.34484039])"
      ]
     },
     "execution_count": 143,
     "metadata": {},
     "output_type": "execute_result"
    }
   ],
   "source": [
    "cor_n30_mat[0]"
   ]
  },
  {
   "cell_type": "code",
   "execution_count": 165,
   "metadata": {},
   "outputs": [],
   "source": [
    "# error propagation into natural log values \n",
    "mk_n30 = cor_n30_mat[1]/cor_n30_mat[0]"
   ]
  },
  {
   "cell_type": "code",
   "execution_count": 166,
   "metadata": {},
   "outputs": [
    {
     "data": {
      "text/plain": [
       "5.691897446005937"
      ]
     },
     "execution_count": 166,
     "metadata": {},
     "output_type": "execute_result"
    }
   ],
   "source": [
    "# For some reason, fit does not work if lb_avg is in angstroms\n",
    "lb_avg = np.mean(com_bond)\n",
    "#lb_avg /= 10\n",
    "lb_avg"
   ]
  },
  {
   "cell_type": "code",
   "execution_count": 167,
   "metadata": {},
   "outputs": [
    {
     "data": {
      "text/plain": [
       "array([  0.        ,   5.69189745,  11.38379489,  17.07569234,\n",
       "        22.76758978,  28.45948723,  34.15138468,  39.84328212,\n",
       "        45.53517957,  51.22707701,  56.91897446,  62.61087191,\n",
       "        68.30276935,  73.9946668 ,  79.68656424,  85.37846169,\n",
       "        91.07035914,  96.76225658, 102.45415403, 108.14605147,\n",
       "       113.83794892, 119.52984637, 125.22174381, 130.91364126,\n",
       "       136.6055387 , 142.29743615, 147.9893336 , 153.68123104,\n",
       "       159.37312849])"
      ]
     },
     "execution_count": 167,
     "metadata": {},
     "output_type": "execute_result"
    }
   ],
   "source": [
    "# x values\n",
    "nt_ttn30 = np.arange(29, dtype=float)\n",
    "nt_ttn30 *= lb_avg\n",
    "#nt_ttn10[0] = 0\n",
    "nt_ttn30"
   ]
  },
  {
   "cell_type": "code",
   "execution_count": null,
   "metadata": {},
   "outputs": [],
   "source": [
    "nt_ttn30[:20]"
   ]
  },
  {
   "cell_type": "code",
   "execution_count": 168,
   "metadata": {},
   "outputs": [
    {
     "data": {
      "text/plain": [
       "48.46476038163243"
      ]
     },
     "execution_count": 168,
     "metadata": {},
     "output_type": "execute_result"
    }
   ],
   "source": [
    "# Sample standard deviation of Bond Length x values \n",
    "np.sqrt((np.sum(nt_ttn30**2) - ((np.sum(nt_ttn30)**2)/29))/28)"
   ]
  },
  {
   "cell_type": "code",
   "execution_count": 169,
   "metadata": {},
   "outputs": [
    {
     "data": {
      "text/plain": [
       "2348.832998849048"
      ]
     },
     "execution_count": 169,
     "metadata": {},
     "output_type": "execute_result"
    }
   ],
   "source": [
    "# Sample variance of Bond Length x values \n",
    "n30svar = (np.sum(nt_ttn30**2) - ((np.sum(nt_ttn30)**2)/29))/28\n",
    "n30svar"
   ]
  },
  {
   "cell_type": "code",
   "execution_count": 170,
   "metadata": {},
   "outputs": [
    {
     "data": {
      "text/plain": [
       "array([ 0.        , -0.22111194, -0.58024011, -0.89663384, -1.24313661,\n",
       "       -1.57659981, -1.62254843, -1.56478556, -1.47295455, -1.39821566,\n",
       "       -1.39006954, -1.43065905, -1.49325789, -1.6512842 , -1.86042609,\n",
       "       -2.14260846, -2.18131293, -2.31864578, -2.48721611, -2.22011796,\n",
       "       -1.73810662, -1.3821836 , -1.29064421, -1.27655245, -1.32297663,\n",
       "       -1.44990907, -1.16835031, -1.09341284, -1.0646736 ])"
      ]
     },
     "execution_count": 170,
     "metadata": {},
     "output_type": "execute_result"
    }
   ],
   "source": [
    "# y values\n",
    "n30lc = np.log(cor_n30_mat[0])\n",
    "n30lc"
   ]
  },
  {
   "cell_type": "code",
   "execution_count": 171,
   "metadata": {},
   "outputs": [
    {
     "data": {
      "text/plain": [
       "array([3.73756764e-18, 3.03363599e-02, 8.24015394e-02, 1.28183608e-01,\n",
       "       2.35917244e-01, 4.14818005e-01, 5.58461775e-01, 6.15918772e-01,\n",
       "       5.53940750e-01, 3.80082443e-01, 3.38354643e-01, 4.85007699e-01,\n",
       "       6.42580700e-01, 6.30240275e-01, 5.97043290e-01, 8.84531169e-01,\n",
       "       1.06698576e+00, 1.40407257e+00, 1.63787602e+00, 1.30246694e+00,\n",
       "       9.72364844e-01, 7.07362637e-01, 8.02803327e-01, 7.83387995e-01,\n",
       "       7.45471503e-01, 9.49258465e-01, 8.76974443e-01, 1.06902745e+00,\n",
       "       1.44967138e+00])"
      ]
     },
     "execution_count": 171,
     "metadata": {},
     "output_type": "execute_result"
    }
   ],
   "source": [
    "mk_n30"
   ]
  },
  {
   "cell_type": "code",
   "execution_count": 172,
   "metadata": {},
   "outputs": [
    {
     "data": {
      "text/plain": [
       "<ErrorbarContainer object of 3 artists>"
      ]
     },
     "execution_count": 172,
     "metadata": {},
     "output_type": "execute_result"
    },
    {
     "data": {
      "image/png": "[encoded data removed]",
      "text/plain": [
       "<Figure size 504x504 with 1 Axes>"
      ]
     },
     "metadata": {
      "needs_background": "light"
     },
     "output_type": "display_data"
    }
   ],
   "source": [
    "plt.figure(figsize=(7,7))\n",
    "plt.errorbar(nt_ttn30, np.log(cor_n30_mat[0]), yerr=mk_n30, color='b', linestyle=\"None\",marker='o',\n",
    "     capsize=5, capthick=1, ecolor='black')"
   ]
  },
  {
   "cell_type": "code",
   "execution_count": null,
   "metadata": {},
   "outputs": [],
   "source": [
    "n30lc[:6]"
   ]
  },
  {
   "cell_type": "code",
   "execution_count": 174,
   "metadata": {},
   "outputs": [
    {
     "data": {
      "text/plain": [
       "array([ 0.        ,  5.69189745, 11.38379489, 17.07569234, 22.76758978,\n",
       "       28.45948723])"
      ]
     },
     "execution_count": 174,
     "metadata": {},
     "output_type": "execute_result"
    }
   ],
   "source": [
    "nt_ttn30[:6]"
   ]
  },
  {
   "cell_type": "code",
   "execution_count": 175,
   "metadata": {},
   "outputs": [
    {
     "name": "stdout",
     "output_type": "stream",
     "text": [
      "Model slope:     [-0.05407061]\n",
      "Model intercept: 0.0\n"
     ]
    }
   ],
   "source": [
    "from sklearn.linear_model import LinearRegression\n",
    "model_n30 = LinearRegression(fit_intercept=False)\n",
    "model_n30.fit(nt_ttn30[:6].reshape(-1,1), n30lc[:6])\n",
    "# Slope here is in angstroms\n",
    "print(\"Model slope:    \", model_n30.coef_)\n",
    "print(\"Model intercept:\", model_n30.intercept_)"
   ]
  },
  {
   "cell_type": "code",
   "execution_count": 176,
   "metadata": {},
   "outputs": [
    {
     "data": {
      "text/plain": [
       "array([ 0.        , -0.30776435, -0.6155287 , -0.92329305, -1.2310574 ,\n",
       "       -1.53882174, -1.84658609, -2.15435044, -2.46211479, -2.76987914,\n",
       "       -3.07764349, -3.38540784, -3.69317219, -4.00093654, -4.30870088,\n",
       "       -4.61646523, -4.92422958, -5.23199393, -5.53975828, -5.84752263,\n",
       "       -6.15528698, -6.46305133, -6.77081567, -7.07858002, -7.38634437,\n",
       "       -7.69410872, -8.00187307, -8.30963742, -8.61740177])"
      ]
     },
     "execution_count": 176,
     "metadata": {},
     "output_type": "execute_result"
    }
   ],
   "source": [
    "gg_n30 = model_n30.predict(nt_ttn30.reshape(-1,1))\n",
    "gg_n30"
   ]
  },
  {
   "cell_type": "code",
   "execution_count": 177,
   "metadata": {},
   "outputs": [
    {
     "name": "stdout",
     "output_type": "stream",
     "text": [
      "Mean Std Error: 0.0018396212067543895\n",
      "R2 score: 0.9939317841425377\n"
     ]
    }
   ],
   "source": [
    "print(\"Mean Std Error:\", sklearn.metrics.mean_squared_error(n30lc[:6], model_n30.predict(nt_ttn30[:6].reshape(-1,1))))\n",
    "print(\"R2 score:\", sklearn.metrics.r2_score(n30lc[:6], model_n30.predict(nt_ttn30[:6].reshape(-1,1))))"
   ]
  },
  {
   "cell_type": "code",
   "execution_count": 178,
   "metadata": {},
   "outputs": [
    {
     "data": {
      "text/plain": [
       "array([ 0.        ,  0.08665241,  0.03528859,  0.02665921, -0.01207922,\n",
       "       -0.03777807])"
      ]
     },
     "execution_count": 178,
     "metadata": {},
     "output_type": "execute_result"
    }
   ],
   "source": [
    "# Residuals between the true y data and model y data \n",
    "resid_n30 = n30lc[:6] - gg_n30[:6]\n",
    "resid_n30"
   ]
  },
  {
   "cell_type": "code",
   "execution_count": 179,
   "metadata": {},
   "outputs": [
    {
     "data": {
      "text/plain": [
       "0.0018396212067543895"
      ]
     },
     "execution_count": 179,
     "metadata": {},
     "output_type": "execute_result"
    }
   ],
   "source": [
    "# How to calculate mean squared error\n",
    "np.sum(resid_n30**2)/len(resid_n30)"
   ]
  },
  {
   "cell_type": "code",
   "execution_count": 180,
   "metadata": {},
   "outputs": [
    {
     "data": {
      "text/plain": [
       "0.042890805620253734"
      ]
     },
     "execution_count": 180,
     "metadata": {},
     "output_type": "execute_result"
    }
   ],
   "source": [
    "# Standard error: Square root of the mean squared error \n",
    "np.sqrt(np.sum(resid_n30**2)/len(resid_n30))"
   ]
  },
  {
   "cell_type": "code",
   "execution_count": 181,
   "metadata": {},
   "outputs": [
    {
     "data": {
      "text/plain": [
       "0.0018825399842197308"
      ]
     },
     "execution_count": 181,
     "metadata": {},
     "output_type": "execute_result"
    }
   ],
   "source": [
    "# sample variance of the residuals \n",
    "ntres_n30 = resid_n30\n",
    "ntres_n30 -= np.mean(resid_n30)\n",
    "nhres_n30 = ntres_n30**2\n",
    "# divide by n-1 samples\n",
    "np.sum(nhres_n30)/5"
   ]
  },
  {
   "cell_type": "code",
   "execution_count": 182,
   "metadata": {},
   "outputs": [
    {
     "data": {
      "text/plain": [
       "566.9596893773559"
      ]
     },
     "execution_count": 182,
     "metadata": {},
     "output_type": "execute_result"
    }
   ],
   "source": [
    "# How to calculate Sum((Xi - avg(X))^2): X values are the bond length values \n",
    "nt_n30 = np.arange(6, dtype=float)\n",
    "nt_n30 *= lb_avg\n",
    "nt_n30 -= np.mean(nt_n30)\n",
    "nhui = nt_n30**2\n",
    "np.sum(nhui)"
   ]
  },
  {
   "cell_type": "code",
   "execution_count": 183,
   "metadata": {},
   "outputs": [
    {
     "data": {
      "text/plain": [
       "0.004618431236690752"
      ]
     },
     "execution_count": 183,
     "metadata": {},
     "output_type": "execute_result"
    }
   ],
   "source": [
    "# How to calculate 95% confidence interval for the slope \n",
    "flc_n30 = scipy.stats.t.ppf(0.975, 4)*np.sqrt((np.sum(resid_n30**2)/len(resid_n30))/(np.sum(nhui)))\n",
    "flc_n30"
   ]
  },
  {
   "cell_type": "code",
   "execution_count": 184,
   "metadata": {},
   "outputs": [
    {
     "data": {
      "text/plain": [
       "array([18.49433655])"
      ]
     },
     "execution_count": 184,
     "metadata": {},
     "output_type": "execute_result"
    }
   ],
   "source": [
    "pers_n30 =-1/model_n30.coef_\n",
    "pers_n30"
   ]
  },
  {
   "cell_type": "code",
   "execution_count": 185,
   "metadata": {},
   "outputs": [
    {
     "data": {
      "text/plain": [
       "array([1.57969046])"
      ]
     },
     "execution_count": 185,
     "metadata": {},
     "output_type": "execute_result"
    }
   ],
   "source": [
    "# Pers length error: error propagation from uncertainty in slope \n",
    "flc_n30/((model_n30.coef_)**2)"
   ]
  },
  {
   "cell_type": "code",
   "execution_count": 198,
   "metadata": {},
   "outputs": [],
   "source": [
    "mk_n30 = cor_n30_mat[1]/cor_n30_mat[0]"
   ]
  },
  {
   "cell_type": "code",
   "execution_count": 203,
   "metadata": {},
   "outputs": [],
   "source": [
    "def slope_plen(x,m):\n",
    "    return m*x\n"
   ]
  },
  {
   "cell_type": "code",
   "execution_count": 204,
   "metadata": {},
   "outputs": [
    {
     "data": {
      "text/plain": [
       "array([ 0.        ,  5.69189745, 11.38379489, 17.07569234, 22.76758978,\n",
       "       28.45948723, 34.15138468, 39.84328212, 45.53517957, 51.22707701,\n",
       "       56.91897446, 62.61087191])"
      ]
     },
     "execution_count": 204,
     "metadata": {},
     "output_type": "execute_result"
    }
   ],
   "source": [
    "ttsam = np.arange(12, dtype=float)\n",
    "ttsam *= lb_avg\n",
    "#nt_ttn10[0] = 0\n",
    "ttsam"
   ]
  },
  {
   "cell_type": "code",
   "execution_count": null,
   "metadata": {},
   "outputs": [],
   "source": [
    "model_n10.coef_[0]"
   ]
  },
  {
   "cell_type": "code",
   "execution_count": null,
   "metadata": {},
   "outputs": [],
   "source": [
    "slope_plen(ttsam, model_n10.coef_[0])"
   ]
  },
  {
   "cell_type": "code",
   "execution_count": 195,
   "metadata": {},
   "outputs": [
    {
     "data": {
      "text/plain": [
       "array([ 0.        ,  5.69189745, 11.38379489, 17.07569234, 22.76758978])"
      ]
     },
     "execution_count": 195,
     "metadata": {},
     "output_type": "execute_result"
    }
   ],
   "source": [
    "blen"
   ]
  },
  {
   "cell_type": "code",
   "execution_count": 196,
   "metadata": {},
   "outputs": [
    {
     "data": {
      "text/plain": [
       "array([ 0.        , -0.28384686, -0.71072896, -0.97275489, -1.13114158])"
      ]
     },
     "execution_count": 196,
     "metadata": {},
     "output_type": "execute_result"
    }
   ],
   "source": [
    "np.log(cor_n6[0])"
   ]
  },
  {
   "cell_type": "code",
   "execution_count": 197,
   "metadata": {},
   "outputs": [
    {
     "data": {
      "text/plain": [
       "array([3.73756764e-18, 3.03363599e-02, 8.24015394e-02, 1.28183608e-01,\n",
       "       2.35917244e-01, 4.14818005e-01, 5.58461775e-01, 6.15918772e-01,\n",
       "       5.53940750e-01, 3.80082443e-01, 3.38354643e-01, 4.85007699e-01,\n",
       "       6.42580700e-01, 6.30240275e-01, 5.97043290e-01, 8.84531169e-01,\n",
       "       1.06698576e+00, 1.40407257e+00, 1.63787602e+00, 1.30246694e+00,\n",
       "       9.72364844e-01, 7.07362637e-01, 8.02803327e-01, 7.83387995e-01,\n",
       "       7.45471503e-01, 9.49258465e-01, 8.76974443e-01, 1.06902745e+00,\n",
       "       1.44967138e+00])"
      ]
     },
     "execution_count": 197,
     "metadata": {},
     "output_type": "execute_result"
    }
   ],
   "source": [
    "mk"
   ]
  },
  {
   "cell_type": "code",
   "execution_count": null,
   "metadata": {},
   "outputs": [],
   "source": []
  },
  {
   "cell_type": "code",
   "execution_count": 218,
   "metadata": {},
   "outputs": [
    {
     "data": {
      "text/plain": [
       "Text(1, -4.7, '$N_{PLGA}$ = 6: $L_{p}$ = 18.7 $\\\\AA$ ± 3.5 $\\\\AA$, R$^{2}$ = 0.98')"
      ]
     },
     "execution_count": 218,
     "metadata": {},
     "output_type": "execute_result"
    },
    {
     "data": {
      "image/png": "[encoded data removed]",
      "text/plain": [
       "<Figure size 504x504 with 1 Axes>"
      ]
     },
     "metadata": {
      "needs_background": "light"
     },
     "output_type": "display_data"
    }
   ],
   "source": [
    "plt.figure(figsize=(7,7))\n",
    "plt.errorbar(nt_ttn30, np.log(cor_n30_mat[0]), yerr=mk_n30, color='b', linestyle=\"None\",marker='h',\n",
    "     capsize=5, capthick=1, ecolor='black')\n",
    "plt.plot(ttsam, slope_plen(ttsam, model_n30.coef_[0]), color='b')\n",
    "plt.errorbar(nt_ttn20, np.log(cor_n20_mat[0]), yerr=mk_n20, color='g', linestyle=\"None\"\n",
    "             ,marker='*',capsize=5, capthick=1, ecolor='black')\n",
    "plt.plot(ttsam, slope_plen(ttsam, model_n20.coef_[0]), color='g')\n",
    "plt.errorbar(nt_ttn10, np.log(cor_n10_mat[0]), yerr=mk_n10, color='r', linestyle=\"None\"\n",
    "             ,marker='v', capsize=5, capthick=1, ecolor='black')\n",
    "plt.plot(ttsam, slope_plen(ttsam, model_n10.coef_[0]), color='r')\n",
    "plt.errorbar(nt_ttn8, np.log(cor_n8_mat[0]), yerr=mk_n8, color='k', linestyle=\"None\",marker='s'\n",
    "             ,capsize=5, capthick=1, ecolor='black')\n",
    "plt.plot(ttsam, slope_plen(ttsam, model_n8.coef_[0]), color='k')\n",
    "plt.errorbar(blen, np.log(cor_n6[0]), yerr=mk, color='c', linestyle=\"None\",marker='x'\n",
    "             ,capsize=5, capthick=1, ecolor='black')\n",
    "plt.plot(ttsam, slope_plen(ttsam, model_n6.coef_[0]), color='m')\n",
    "plt.title(r'Ensemble Averaged ln(Cosine $\\theta$)', fontsize=15, y=1.01)\n",
    "plt.xlabel(r'Bond Length', fontsize=15)\n",
    "plt.ylabel(r'ln$\\left< Cos(\\theta)\\right >$', fontsize=15)\n",
    "plt.ylim(-6, 1)\n",
    "plt.xlim(0,60)\n",
    "font = font_manager.FontProperties(family='Arial', style='normal', size='14')\n",
    "#plt.legend([r'$N_{PLGA}$ = 30: $L_{p}$ = 18.5 $\\AA$ ± 0.15 $\\AA$,  R$^{2}$ = 0.99', \n",
    "#r'$N_{PLGA}$ = 20: $L_{p}$ = 19.1 $\\AA$ ± 0.27 $\\AA$,  R$^{2}$ = 0.99'], \n",
    "#           loc=3, frameon=0, fontsize=14, prop=font)\n",
    "#plt.legend([r'$N_{PLGA}$ = 20: $L_{p}$ = 19.1 $\\AA$ ± 0.27 $\\AA$,  R$^{2}$ = 0.99'], \n",
    "#loc=3, frameon=0, fontsize=14, prop=font)\n",
    "plt.tick_params(labelsize=14)\n",
    "plt.text(1, -5.9,r'$N_{PLGA}$ = 30: $L_{p}$ = 18.5 $\\AA$ ± 1.6 $\\AA$, R$^{2}$ = 0.99', fontsize=14, color='blue')\n",
    "plt.text(1,-5.6,r'$N_{PLGA}$ = 20: $L_{p}$ = 19.1 $\\AA$ ± 1.0 $\\AA$, R$^{2}$ = 0.99', fontsize=14, color='green')\n",
    "plt.text(1,-5.3,r'$N_{PLGA}$ = 10: $L_{p}$ = 14.7 $\\AA$ ± 3.4 $\\AA$, R$^{2}$ = 0.97', fontsize=14, color='red')\n",
    "plt.text(1,-5.0,r'$N_{PLGA}$ = 8: $L_{p}$ = 17.8 $\\AA$ ± 1.5, R$^{2}$ = 0.99', fontsize=14, color='black')\n",
    "plt.text(1,-4.7,r'$N_{PLGA}$ = 6: $L_{p}$ = 18.7 $\\AA$ ± 3.5 $\\AA$, R$^{2}$ = 0.98', fontsize=14, color='magenta')\n",
    "#plt.text(2.5,0,r'R$^{2}$ = 0.96', fontsize=15, color='red')"
   ]
  },
  {
   "cell_type": "code",
   "execution_count": null,
   "metadata": {},
   "outputs": [],
   "source": [
    "cor_n8_mat[0]"
   ]
  },
  {
   "cell_type": "code",
   "execution_count": null,
   "metadata": {},
   "outputs": [],
   "source": [
    "nt_ttn8"
   ]
  },
  {
   "cell_type": "code",
   "execution_count": null,
   "metadata": {},
   "outputs": [],
   "source": [
    "def exfun(x, a):\n",
    "    return np.exp(-x*lb_avg/a)\n",
    "\n",
    "nt = np.arange(29)\n",
    "plt.scatter(nt, cor_n30_mat[0,:])\n",
    "plt.plot(nt,exfun(nt, pers_n30))"
   ]
  },
  {
   "cell_type": "markdown",
   "metadata": {},
   "source": [
    "### Acetone systems only"
   ]
  },
  {
   "cell_type": "markdown",
   "metadata": {},
   "source": [
    "## N = 6 acetone"
   ]
  },
  {
   "cell_type": "code",
   "execution_count": 219,
   "metadata": {},
   "outputs": [],
   "source": [
    "n6_plga_ace = mda.Universe(\"n6_plga_50ns/1_xa_soln/confout.gro\", \"n6_plga_50ns/1_xa_soln/nopbc_n6ace.xtc\")"
   ]
  },
  {
   "cell_type": "code",
   "execution_count": 220,
   "metadata": {},
   "outputs": [
    {
     "data": {
      "text/plain": [
       "<Universe with 15093 atoms>"
      ]
     },
     "execution_count": 220,
     "metadata": {},
     "output_type": "execute_result"
    }
   ],
   "source": [
    "n6_plga_ace"
   ]
  },
  {
   "cell_type": "code",
   "execution_count": 221,
   "metadata": {},
   "outputs": [
    {
     "data": {
      "text/plain": [
       "5001"
      ]
     },
     "execution_count": 221,
     "metadata": {},
     "output_type": "execute_result"
    }
   ],
   "source": [
    "len(n6_plga_ace.trajectory)"
   ]
  },
  {
   "cell_type": "code",
   "execution_count": 222,
   "metadata": {},
   "outputs": [],
   "source": [
    "poly_n6_ace = n6_plga_ace.select_atoms(\"resname sPLG PLG tPLG and not type H\")"
   ]
  },
  {
   "cell_type": "code",
   "execution_count": 223,
   "metadata": {},
   "outputs": [],
   "source": [
    "com_bond_n6ace = np.zeros(shape=(1,5000))\n",
    "count = 0\n",
    "for ts in n6_plga_ace.trajectory[0:5000]:\n",
    "    n6_mon1 = n6_plga_ace.select_atoms(\"resid 1\")\n",
    "    n6_mon2 = n6_plga_ace.select_atoms(\"resid 2\")\n",
    "    oo_len = mda.analysis.distances.distance_array(n6_mon1.center_of_mass(), n6_mon2.center_of_mass(), \n",
    "                                                   box=n6_plga_ace.trajectory.ts.dimensions)\n",
    "    com_bond_n6ace[0, count] = oo_len\n",
    "    count += 1\n",
    "lb_avg_n6ace = np.mean(com_bond_n6ace)"
   ]
  },
  {
   "cell_type": "code",
   "execution_count": 224,
   "metadata": {},
   "outputs": [
    {
     "data": {
      "text/plain": [
       "5.986551142328634"
      ]
     },
     "execution_count": 224,
     "metadata": {},
     "output_type": "execute_result"
    }
   ],
   "source": [
    "lb_avg_n6ace"
   ]
  },
  {
   "cell_type": "code",
   "execution_count": null,
   "metadata": {},
   "outputs": [],
   "source": [
    "plt.scatter(np.arange(5000),com_bond_n6ace)\n"
   ]
  },
  {
   "cell_type": "code",
   "execution_count": null,
   "metadata": {},
   "outputs": [],
   "source": [
    "n6_blks_ace = bavg_pers_cnt(5, poly_n6_ace, n6_plga_ace, lb_avg_n6ace, 0 , 5000)"
   ]
  },
  {
   "cell_type": "code",
   "execution_count": null,
   "metadata": {},
   "outputs": [],
   "source": [
    "n6_blks_ace[\"Avg persistence length\"]"
   ]
  },
  {
   "cell_type": "code",
   "execution_count": null,
   "metadata": {},
   "outputs": [],
   "source": [
    "n6_blks_ace[\"Avg Radius of gyration\"]"
   ]
  },
  {
   "cell_type": "code",
   "execution_count": null,
   "metadata": {},
   "outputs": [],
   "source": [
    "np.mean(n6_blks_ace[\"Avg persistence length\"])"
   ]
  },
  {
   "cell_type": "code",
   "execution_count": null,
   "metadata": {},
   "outputs": [],
   "source": [
    "np.std(n6_blks_ace[\"Avg persistence length\"])"
   ]
  },
  {
   "cell_type": "code",
   "execution_count": null,
   "metadata": {},
   "outputs": [],
   "source": [
    "np.mean(n6_blks_ace[\"Avg Radius of gyration\"])"
   ]
  },
  {
   "cell_type": "code",
   "execution_count": null,
   "metadata": {},
   "outputs": [],
   "source": [
    "np.std(n6_blks_ace[\"Avg Radius of gyration\"])"
   ]
  },
  {
   "cell_type": "code",
   "execution_count": 225,
   "metadata": {},
   "outputs": [],
   "source": [
    "n6_rgensace, cor_n6ace_mat, N30ens_cos, rg_avgn6ace = get_rg_pers_poly(poly_n6_ace, n6_plga_ace, 0, 5000, \n",
    "                                                                       lb_avg_n6ace)"
   ]
  },
  {
   "cell_type": "code",
   "execution_count": 226,
   "metadata": {},
   "outputs": [
    {
     "data": {
      "text/plain": [
       "array([[1.00000000e+00, 8.88038846e-01, 7.66680371e-01, 6.63795607e-01,\n",
       "        5.42956412e-01],\n",
       "       [5.99109098e-17, 5.29430335e-02, 1.39636357e-01, 2.37859458e-01,\n",
       "        4.20602666e-01],\n",
       "       [0.00000000e+00, 2.65847839e+01, 3.82313714e+01, 4.56592788e+01,\n",
       "        5.23508193e+01],\n",
       "       [1.00000000e+00, 2.00000000e+00, 3.00000000e+00, 4.00000000e+00,\n",
       "        5.00000000e+00]])"
      ]
     },
     "execution_count": 226,
     "metadata": {},
     "output_type": "execute_result"
    }
   ],
   "source": [
    "cor_n6ace_mat"
   ]
  },
  {
   "cell_type": "code",
   "execution_count": 227,
   "metadata": {},
   "outputs": [
    {
     "data": {
      "text/plain": [
       "array([1.        , 0.88803885, 0.76668037, 0.66379561, 0.54295641])"
      ]
     },
     "execution_count": 227,
     "metadata": {},
     "output_type": "execute_result"
    }
   ],
   "source": [
    "cor_n6ace_mat[0]"
   ]
  },
  {
   "cell_type": "code",
   "execution_count": 228,
   "metadata": {},
   "outputs": [
    {
     "data": {
      "text/plain": [
       "array([ 0.        ,  5.98655114, 11.97310228, 17.95965343, 23.94620457])"
      ]
     },
     "execution_count": 228,
     "metadata": {},
     "output_type": "execute_result"
    }
   ],
   "source": [
    "# x values\n",
    "ace_ttn6 = np.arange(5, dtype=float)\n",
    "ace_ttn6 *= lb_avg_n6ace\n",
    "#nt_ttn20[0] = 0\n",
    "ace_ttn6"
   ]
  },
  {
   "cell_type": "code",
   "execution_count": 229,
   "metadata": {},
   "outputs": [
    {
     "data": {
      "text/plain": [
       "9.465568469420667"
      ]
     },
     "execution_count": 229,
     "metadata": {},
     "output_type": "execute_result"
    }
   ],
   "source": [
    "# Sample standard deviation of Bond Length x values \n",
    "np.sqrt((np.sum(ace_ttn6**2) - ((np.sum(ace_ttn6)**2)/5))/4)"
   ]
  },
  {
   "cell_type": "code",
   "execution_count": 230,
   "metadata": {},
   "outputs": [
    {
     "data": {
      "text/plain": [
       "89.59698644929071"
      ]
     },
     "execution_count": 230,
     "metadata": {},
     "output_type": "execute_result"
    }
   ],
   "source": [
    "# Sample variance of Bond Length x values \n",
    "n6sace_var = (np.sum(ace_ttn6**2) - ((np.sum(ace_ttn6)**2)/5))/4\n",
    "n6sace_var"
   ]
  },
  {
   "cell_type": "code",
   "execution_count": 231,
   "metadata": {},
   "outputs": [
    {
     "data": {
      "text/plain": [
       "array([ 0.        , -0.11873979, -0.26568529, -0.409781  , -0.61072623])"
      ]
     },
     "execution_count": 231,
     "metadata": {},
     "output_type": "execute_result"
    }
   ],
   "source": [
    "# y values\n",
    "n6lc_ace = np.log(cor_n6ace_mat[0])\n",
    "n6lc_ace"
   ]
  },
  {
   "cell_type": "code",
   "execution_count": 232,
   "metadata": {},
   "outputs": [],
   "source": [
    "mk_n6ace = cor_n6ace_mat[1]/cor_n6ace_mat[0]"
   ]
  },
  {
   "cell_type": "code",
   "execution_count": 233,
   "metadata": {},
   "outputs": [
    {
     "data": {
      "text/plain": [
       "<ErrorbarContainer object of 3 artists>"
      ]
     },
     "execution_count": 233,
     "metadata": {},
     "output_type": "execute_result"
    },
    {
     "data": {
      "image/png": "[encoded data removed]",
      "text/plain": [
       "<Figure size 504x504 with 1 Axes>"
      ]
     },
     "metadata": {
      "needs_background": "light"
     },
     "output_type": "display_data"
    }
   ],
   "source": [
    "plt.figure(figsize=(7,7))\n",
    "plt.errorbar(ace_ttn6, np.log(cor_n6ace_mat[0]), yerr=mk_n6ace, color='b', linestyle=\"None\",marker='o',\n",
    "     capsize=5, capthick=1, ecolor='black')"
   ]
  },
  {
   "cell_type": "code",
   "execution_count": 234,
   "metadata": {},
   "outputs": [
    {
     "name": "stdout",
     "output_type": "stream",
     "text": [
      "Model slope:     [-0.02406705]\n",
      "Model intercept: 0.0\n"
     ]
    }
   ],
   "source": [
    "from sklearn.linear_model import LinearRegression\n",
    "model_n6ace = LinearRegression(fit_intercept=False)\n",
    "model_n6ace.fit(ace_ttn6.reshape(-1,1), n6lc_ace)\n",
    "# Slope here is in angstroms\n",
    "print(\"Model slope:    \", model_n6ace.coef_)\n",
    "print(\"Model intercept:\", model_n6ace.intercept_)"
   ]
  },
  {
   "cell_type": "code",
   "execution_count": 235,
   "metadata": {},
   "outputs": [
    {
     "data": {
      "text/plain": [
       "array([ 0.        , -0.14407861, -0.28815722, -0.43223583, -0.57631444])"
      ]
     },
     "execution_count": 235,
     "metadata": {},
     "output_type": "execute_result"
    }
   ],
   "source": [
    "gg_n6ace = model_n6ace.predict(ace_ttn6.reshape(-1,1))\n",
    "gg_n6ace"
   ]
  },
  {
   "cell_type": "code",
   "execution_count": 236,
   "metadata": {},
   "outputs": [
    {
     "name": "stdout",
     "output_type": "stream",
     "text": [
      "Mean Std Error: 0.0005670868965599438\n",
      "R2 score: 0.9877162375147319\n"
     ]
    }
   ],
   "source": [
    "print(\"Mean Std Error:\", sklearn.metrics.mean_squared_error(n6lc_ace, model_n6ace.predict(ace_ttn6.reshape(-1,1))))\n",
    "print(\"R2 score:\", sklearn.metrics.r2_score(n6lc_ace, model_n6ace.predict(ace_ttn6.reshape(-1,1))))"
   ]
  },
  {
   "cell_type": "code",
   "execution_count": 237,
   "metadata": {},
   "outputs": [
    {
     "data": {
      "text/plain": [
       "array([ 0.        ,  0.02533882,  0.02247193,  0.02245483, -0.03441179])"
      ]
     },
     "execution_count": 237,
     "metadata": {},
     "output_type": "execute_result"
    }
   ],
   "source": [
    "# Residuals between the true y data and model y data \n",
    "resid_n6ace = n6lc_ace - gg_n6ace\n",
    "resid_n6ace"
   ]
  },
  {
   "cell_type": "code",
   "execution_count": 238,
   "metadata": {},
   "outputs": [
    {
     "data": {
      "text/plain": [
       "0.0005670868965599438"
      ]
     },
     "execution_count": 238,
     "metadata": {},
     "output_type": "execute_result"
    }
   ],
   "source": [
    "# How to calculate mean squared error\n",
    "np.sum(resid_n6ace**2)/len(resid_n6ace)"
   ]
  },
  {
   "cell_type": "code",
   "execution_count": 239,
   "metadata": {},
   "outputs": [
    {
     "data": {
      "text/plain": [
       "0.023813586385925657"
      ]
     },
     "execution_count": 239,
     "metadata": {},
     "output_type": "execute_result"
    }
   ],
   "source": [
    "# Standard error: Square root of the mean squared error \n",
    "np.sqrt(np.sum(resid_n6ace**2)/len(resid_n6ace))"
   ]
  },
  {
   "cell_type": "code",
   "execution_count": 240,
   "metadata": {},
   "outputs": [
    {
     "data": {
      "text/plain": [
       "0.0006445839181727181"
      ]
     },
     "execution_count": 240,
     "metadata": {},
     "output_type": "execute_result"
    }
   ],
   "source": [
    "# sample variance of the residuals \n",
    "ntr_n6ace = resid_n6ace\n",
    "ntr_n6ace -= np.mean(resid_n6ace)\n",
    "nhr_n6ace = ntr_n6ace**2\n",
    "np.sum(nhr_n6ace)/4"
   ]
  },
  {
   "cell_type": "code",
   "execution_count": 241,
   "metadata": {},
   "outputs": [
    {
     "data": {
      "text/plain": [
       "358.38794579716273"
      ]
     },
     "execution_count": 241,
     "metadata": {},
     "output_type": "execute_result"
    }
   ],
   "source": [
    "# How to calculate Sum((Xi - avg(X))^2): X values are the bond length values \n",
    "nt_n6ace = np.arange(5, dtype=float)\n",
    "nt_n6ace *= lb_avg_n6ace\n",
    "nt_n6ace -= np.mean(nt_n6ace)\n",
    "nhui = nt_n6ace**2\n",
    "np.sum(nhui)"
   ]
  },
  {
   "cell_type": "code",
   "execution_count": 242,
   "metadata": {},
   "outputs": [
    {
     "data": {
      "text/plain": [
       "0.003330405543164769"
      ]
     },
     "execution_count": 242,
     "metadata": {},
     "output_type": "execute_result"
    }
   ],
   "source": [
    "# How to calculate 95% confidence interval for the slope \n",
    "flc_n6ace = scipy.stats.t.ppf(0.975, 4)*np.sqrt((np.sum(resid_n6ace**2)/len(resid_n6ace))/(np.sum(nhui)))\n",
    "flc_n6ace"
   ]
  },
  {
   "cell_type": "code",
   "execution_count": 243,
   "metadata": {},
   "outputs": [
    {
     "data": {
      "text/plain": [
       "array([41.55058921])"
      ]
     },
     "execution_count": 243,
     "metadata": {},
     "output_type": "execute_result"
    }
   ],
   "source": [
    "pers_n6ace =-1/model_n6ace.coef_\n",
    "pers_n6ace"
   ]
  },
  {
   "cell_type": "code",
   "execution_count": 244,
   "metadata": {},
   "outputs": [
    {
     "data": {
      "text/plain": [
       "array([5.74978352])"
      ]
     },
     "execution_count": 244,
     "metadata": {},
     "output_type": "execute_result"
    }
   ],
   "source": [
    "# Pers length error: error propagation from uncertainty in slope \n",
    "flc_n6ace/((model_n6ace.coef_)**2)"
   ]
  },
  {
   "cell_type": "code",
   "execution_count": 245,
   "metadata": {},
   "outputs": [
    {
     "data": {
      "text/plain": [
       "array([ 0.        ,  5.98655114, 11.97310228, 17.95965343, 23.94620457])"
      ]
     },
     "execution_count": 245,
     "metadata": {},
     "output_type": "execute_result"
    }
   ],
   "source": [
    "def slope_plen(x,m):\n",
    "    return m*x\n",
    "\n",
    "ttsam = np.arange(5, dtype=float)\n",
    "ttsam *= lb_avg_n6ace\n",
    "#nt_ttn10[0] = 0\n",
    "ttsam"
   ]
  },
  {
   "cell_type": "code",
   "execution_count": 246,
   "metadata": {},
   "outputs": [
    {
     "data": {
      "text/plain": [
       "Text(5, 0, 'R$^{2}$ = 0.99')"
      ]
     },
     "execution_count": 246,
     "metadata": {},
     "output_type": "execute_result"
    },
    {
     "data": {
      "image/png": "[encoded data removed]",
      "text/plain": [
       "<Figure size 504x504 with 1 Axes>"
      ]
     },
     "metadata": {
      "needs_background": "light"
     },
     "output_type": "display_data"
    }
   ],
   "source": [
    "plt.figure(figsize=(7,7))\n",
    "plt.errorbar(ace_ttn6, np.log(cor_n6ace_mat[0]), yerr=mk_n6ace, color='b', linestyle=\"None\",marker='o',capsize=5, capthick=1, ecolor='black')\n",
    "plt.plot(ttsam, slope_plen(ttsam, model_n6ace.coef_[0]), color='b')\n",
    "plt.title(r'Ensemble Averaged ln(Cosine $\\theta$) in pure acetone', fontsize=15, y=1.01)\n",
    "plt.xlabel(r'Bond Length', fontsize=15)\n",
    "plt.ylabel(r'ln$\\left< Cos(\\theta)\\right >$', fontsize=15)\n",
    "#plt.ylim(-1.9,0)\n",
    "font = font_manager.FontProperties(family='Arial', style='normal', size='14')\n",
    "plt.legend([r'$N_{PLGA}$ = 6: $L_{p}$ = 41.6 $\\AA$ ± 5.7 $\\AA$'], loc=3, frameon=0, fontsize=14, prop=font)\n",
    "plt.tick_params(labelsize=14)\n",
    "plt.text(5,0,r'R$^{2}$ = 0.99', fontsize=15, color='blue')"
   ]
  },
  {
   "cell_type": "code",
   "execution_count": null,
   "metadata": {},
   "outputs": [],
   "source": [
    "def exfun(x, a):\n",
    "    return np.exp(-x*lb_avg_n6ace/a)\n",
    "\n",
    "nt = np.arange(5)\n",
    "plt.scatter(nt, cor_n6ace_mat[0,:])\n",
    "plt.plot(nt,exfun(nt, pers_n6ace))"
   ]
  },
  {
   "cell_type": "markdown",
   "metadata": {},
   "source": [
    "## N = 8 acetone"
   ]
  },
  {
   "cell_type": "code",
   "execution_count": 247,
   "metadata": {},
   "outputs": [],
   "source": [
    "n8_plga_ace = mda.Universe(\"n8_plga_50ns/1_xa_soln/confout.gro\", \"n8_plga_50ns/1_xa_soln/nopbc_n8ace.xtc\")"
   ]
  },
  {
   "cell_type": "code",
   "execution_count": 248,
   "metadata": {},
   "outputs": [
    {
     "data": {
      "text/plain": [
       "<Universe with 15123 atoms>"
      ]
     },
     "execution_count": 248,
     "metadata": {},
     "output_type": "execute_result"
    }
   ],
   "source": [
    "n8_plga_ace"
   ]
  },
  {
   "cell_type": "code",
   "execution_count": 249,
   "metadata": {},
   "outputs": [
    {
     "data": {
      "text/plain": [
       "5001"
      ]
     },
     "execution_count": 249,
     "metadata": {},
     "output_type": "execute_result"
    }
   ],
   "source": [
    "len(n8_plga_ace.trajectory)"
   ]
  },
  {
   "cell_type": "code",
   "execution_count": 250,
   "metadata": {},
   "outputs": [],
   "source": [
    "poly_n8_ace = n8_plga_ace.select_atoms(\"resname sPLG PLG tPLG and not type H\")"
   ]
  },
  {
   "cell_type": "code",
   "execution_count": 251,
   "metadata": {},
   "outputs": [],
   "source": [
    "com_bond_n8ace = np.zeros(shape=(1,5000))\n",
    "count = 0\n",
    "for ts in n8_plga_ace.trajectory[0:5000]:\n",
    "    n8_mon1 = n8_plga_ace.select_atoms(\"resid 1\")\n",
    "    n8_mon2 = n8_plga_ace.select_atoms(\"resid 2\")\n",
    "    oo_len = mda.analysis.distances.distance_array(n8_mon1.center_of_mass(), n8_mon2.center_of_mass(), \n",
    "                                                   box=n8_plga_ace.trajectory.ts.dimensions)\n",
    "    com_bond_n8ace[0, count] = oo_len\n",
    "    count += 1\n",
    "lb_avg_n8ace = np.mean(com_bond_n8ace)"
   ]
  },
  {
   "cell_type": "code",
   "execution_count": 252,
   "metadata": {},
   "outputs": [
    {
     "data": {
      "text/plain": [
       "6.136198777572896"
      ]
     },
     "execution_count": 252,
     "metadata": {},
     "output_type": "execute_result"
    }
   ],
   "source": [
    "lb_avg_n8ace"
   ]
  },
  {
   "cell_type": "code",
   "execution_count": null,
   "metadata": {},
   "outputs": [],
   "source": [
    "plt.scatter(np.arange(5000),com_bond_n6ace)\n",
    "plt.scatter(np.arange(5000),com_bond_n8ace)"
   ]
  },
  {
   "cell_type": "code",
   "execution_count": null,
   "metadata": {},
   "outputs": [],
   "source": [
    "n8_blks_ace = bavg_pers_cnt(5, poly_n8_ace, n8_plga_ace, lb_avg_n6ace, 0 , 5000)"
   ]
  },
  {
   "cell_type": "code",
   "execution_count": null,
   "metadata": {},
   "outputs": [],
   "source": [
    "n8_blks_ace[\"Avg persistence length\"]"
   ]
  },
  {
   "cell_type": "code",
   "execution_count": null,
   "metadata": {},
   "outputs": [],
   "source": [
    "n8_blks_ace[\"Avg Radius of gyration\"]"
   ]
  },
  {
   "cell_type": "code",
   "execution_count": null,
   "metadata": {},
   "outputs": [],
   "source": [
    "np.mean(n8_blks_ace[\"Avg persistence length\"])"
   ]
  },
  {
   "cell_type": "code",
   "execution_count": null,
   "metadata": {},
   "outputs": [],
   "source": [
    "np.std(n8_blks_ace[\"Avg persistence length\"])"
   ]
  },
  {
   "cell_type": "code",
   "execution_count": null,
   "metadata": {},
   "outputs": [],
   "source": [
    "np.mean(n8_blks_ace[\"Avg Radius of gyration\"])"
   ]
  },
  {
   "cell_type": "code",
   "execution_count": null,
   "metadata": {},
   "outputs": [],
   "source": [
    "np.std(n8_blks_ace[\"Avg Radius of gyration\"])"
   ]
  },
  {
   "cell_type": "code",
   "execution_count": 253,
   "metadata": {},
   "outputs": [],
   "source": [
    "n8_rgens_ace, cor_n8ace_mat, N8aceens_cos, rg_avgn8ace = get_rg_pers_poly(poly_n8_ace, n8_plga_ace, 0, 5000, \n",
    "                                                                        lb_avg_n6ace)"
   ]
  },
  {
   "cell_type": "code",
   "execution_count": 254,
   "metadata": {},
   "outputs": [
    {
     "data": {
      "text/plain": [
       "array([[1.00000000e+00, 8.98773600e-01, 7.87905962e-01, 6.78127276e-01,\n",
       "        5.54768195e-01, 4.51066218e-01, 3.81645046e-01],\n",
       "       [3.94090079e-17, 4.20953677e-02, 1.07763247e-01, 2.09057403e-01,\n",
       "        3.31944881e-01, 4.83925116e-01, 5.91025295e-01],\n",
       "       [0.00000000e+00, 2.54425992e+01, 3.67670941e+01, 4.50727437e+01,\n",
       "        5.33046990e+01, 5.94938387e+01, 6.34987022e+01],\n",
       "       [1.00000000e+00, 2.00000000e+00, 3.00000000e+00, 4.00000000e+00,\n",
       "        5.00000000e+00, 6.00000000e+00, 7.00000000e+00]])"
      ]
     },
     "execution_count": 254,
     "metadata": {},
     "output_type": "execute_result"
    }
   ],
   "source": [
    "cor_n8ace_mat"
   ]
  },
  {
   "cell_type": "code",
   "execution_count": 255,
   "metadata": {},
   "outputs": [
    {
     "data": {
      "text/plain": [
       "array([1.        , 0.8987736 , 0.78790596, 0.67812728, 0.55476819,\n",
       "       0.45106622, 0.38164505])"
      ]
     },
     "execution_count": 255,
     "metadata": {},
     "output_type": "execute_result"
    }
   ],
   "source": [
    "cor_n8ace_mat[0]"
   ]
  },
  {
   "cell_type": "code",
   "execution_count": 256,
   "metadata": {},
   "outputs": [
    {
     "data": {
      "text/plain": [
       "array([ 0.        ,  5.98655114, 11.97310228, 17.95965343, 23.94620457,\n",
       "       29.93275571, 35.91930685])"
      ]
     },
     "execution_count": 256,
     "metadata": {},
     "output_type": "execute_result"
    }
   ],
   "source": [
    "# x values\n",
    "ace_ttn8 = np.arange(7, dtype=float)\n",
    "ace_ttn8 *= lb_avg_n6ace\n",
    "#nt_ttn20[0] = 0\n",
    "ace_ttn8"
   ]
  },
  {
   "cell_type": "code",
   "execution_count": 257,
   "metadata": {},
   "outputs": [
    {
     "data": {
      "text/plain": [
       "12.932428543729753"
      ]
     },
     "execution_count": 257,
     "metadata": {},
     "output_type": "execute_result"
    }
   ],
   "source": [
    "# Sample standard deviation of Bond Length x values \n",
    "np.sqrt((np.sum(ace_ttn8**2) - ((np.sum(ace_ttn8)**2)/7))/6)"
   ]
  },
  {
   "cell_type": "code",
   "execution_count": 258,
   "metadata": {},
   "outputs": [
    {
     "data": {
      "text/plain": [
       "167.24770803867605"
      ]
     },
     "execution_count": 258,
     "metadata": {},
     "output_type": "execute_result"
    }
   ],
   "source": [
    "# Sample variance of Bond Length x values \n",
    "n8sace_var = (np.sum(ace_ttn8**2) - ((np.sum(ace_ttn8)**2)/7))/6\n",
    "n8sace_var"
   ]
  },
  {
   "cell_type": "code",
   "execution_count": 259,
   "metadata": {},
   "outputs": [
    {
     "data": {
      "text/plain": [
       "array([ 0.        , -0.10672411, -0.23837653, -0.38842029, -0.58920492,\n",
       "       -0.79614113, -0.9632643 ])"
      ]
     },
     "execution_count": 259,
     "metadata": {},
     "output_type": "execute_result"
    }
   ],
   "source": [
    "# y values\n",
    "n8lc_ace = np.log(cor_n8ace_mat[0])\n",
    "n8lc_ace"
   ]
  },
  {
   "cell_type": "code",
   "execution_count": 260,
   "metadata": {},
   "outputs": [],
   "source": [
    "mk_n8ace = cor_n8ace_mat[1]/cor_n8ace_mat[0]"
   ]
  },
  {
   "cell_type": "code",
   "execution_count": 261,
   "metadata": {},
   "outputs": [
    {
     "data": {
      "text/plain": [
       "<ErrorbarContainer object of 3 artists>"
      ]
     },
     "execution_count": 261,
     "metadata": {},
     "output_type": "execute_result"
    },
    {
     "data": {
      "image/png": "[encoded data removed]",
      "text/plain": [
       "<Figure size 504x504 with 1 Axes>"
      ]
     },
     "metadata": {
      "needs_background": "light"
     },
     "output_type": "display_data"
    }
   ],
   "source": [
    "plt.figure(figsize=(7,7))\n",
    "plt.errorbar(ace_ttn8, np.log(cor_n8ace_mat[0]), yerr=mk_n8ace, color='b', linestyle=\"None\",marker='o',\n",
    "     capsize=5, capthick=1, ecolor='black')"
   ]
  },
  {
   "cell_type": "code",
   "execution_count": null,
   "metadata": {},
   "outputs": [],
   "source": [
    "ace_ttn8[1:]"
   ]
  },
  {
   "cell_type": "code",
   "execution_count": 262,
   "metadata": {},
   "outputs": [
    {
     "name": "stdout",
     "output_type": "stream",
     "text": [
      "Model slope:     [-0.02545238]\n",
      "Model intercept: 0.0\n"
     ]
    }
   ],
   "source": [
    "from sklearn.linear_model import LinearRegression\n",
    "model_n8ace = LinearRegression(fit_intercept=False)\n",
    "model_n8ace.fit(ace_ttn8.reshape(-1,1), n8lc_ace)\n",
    "# Slope here is in angstroms\n",
    "print(\"Model slope:    \", model_n8ace.coef_)\n",
    "print(\"Model intercept:\", model_n8ace.intercept_)"
   ]
  },
  {
   "cell_type": "code",
   "execution_count": 263,
   "metadata": {},
   "outputs": [
    {
     "data": {
      "text/plain": [
       "array([ 0.        , -0.15237197, -0.30474394, -0.45711591, -0.60948787,\n",
       "       -0.76185984, -0.91423181])"
      ]
     },
     "execution_count": 263,
     "metadata": {},
     "output_type": "execute_result"
    }
   ],
   "source": [
    "gg_n8ace = model_n8ace.predict(ace_ttn8.reshape(-1,1))\n",
    "gg_n8ace"
   ]
  },
  {
   "cell_type": "code",
   "execution_count": 264,
   "metadata": {},
   "outputs": [
    {
     "name": "stdout",
     "output_type": "stream",
     "text": [
      "Mean Std Error: 0.0021711767050737038\n",
      "R2 score: 0.9802847868668434\n"
     ]
    }
   ],
   "source": [
    "print(\"Mean Std Error:\", sklearn.metrics.mean_squared_error(n8lc_ace, model_n8ace.predict(ace_ttn8.reshape(-1,1))))\n",
    "print(\"R2 score:\", sklearn.metrics.r2_score(n8lc_ace, model_n8ace.predict(ace_ttn8.reshape(-1,1))))"
   ]
  },
  {
   "cell_type": "code",
   "execution_count": 265,
   "metadata": {},
   "outputs": [
    {
     "data": {
      "text/plain": [
       "array([ 0.        ,  0.04564786,  0.0663674 ,  0.06869562,  0.02028296,\n",
       "       -0.03428128, -0.04903249])"
      ]
     },
     "execution_count": 265,
     "metadata": {},
     "output_type": "execute_result"
    }
   ],
   "source": [
    "# Residuals between the true y data and model y data \n",
    "resid_n8ace = n8lc_ace - gg_n8ace\n",
    "resid_n8ace"
   ]
  },
  {
   "cell_type": "code",
   "execution_count": 266,
   "metadata": {},
   "outputs": [
    {
     "data": {
      "text/plain": [
       "0.0021711767050737038"
      ]
     },
     "execution_count": 266,
     "metadata": {},
     "output_type": "execute_result"
    }
   ],
   "source": [
    "# How to calculate mean squared error\n",
    "np.sum(resid_n8ace**2)/len(resid_n8ace)"
   ]
  },
  {
   "cell_type": "code",
   "execution_count": 267,
   "metadata": {},
   "outputs": [
    {
     "data": {
      "text/plain": [
       "0.04659588721200299"
      ]
     },
     "execution_count": 267,
     "metadata": {},
     "output_type": "execute_result"
    }
   ],
   "source": [
    "# Standard error: Square root of the mean squared error \n",
    "np.sqrt(np.sum(resid_n8ace**2)/len(resid_n8ace))"
   ]
  },
  {
   "cell_type": "code",
   "execution_count": 268,
   "metadata": {},
   "outputs": [
    {
     "data": {
      "text/plain": [
       "0.002203310972465827"
      ]
     },
     "execution_count": 268,
     "metadata": {},
     "output_type": "execute_result"
    }
   ],
   "source": [
    "# sample variance of the residuals \n",
    "ntr_n8ace = resid_n8ace\n",
    "ntr_n8ace -= np.mean(resid_n8ace)\n",
    "nhr_n8ace = ntr_n8ace**2\n",
    "np.sum(nhr_n8ace)/6"
   ]
  },
  {
   "cell_type": "code",
   "execution_count": 269,
   "metadata": {},
   "outputs": [
    {
     "data": {
      "text/plain": [
       "1003.4862482320556"
      ]
     },
     "execution_count": 269,
     "metadata": {},
     "output_type": "execute_result"
    }
   ],
   "source": [
    "# How to calculate Sum((Xi - avg(X))^2): X values are the bond length values \n",
    "nt_n8ace = np.arange(7, dtype=float)\n",
    "nt_n8ace *= lb_avg_n6ace\n",
    "nt_n8ace -= np.mean(nt_n8ace)\n",
    "nhui = nt_n8ace**2\n",
    "np.sum(nhui)"
   ]
  },
  {
   "cell_type": "code",
   "execution_count": 270,
   "metadata": {},
   "outputs": [
    {
     "data": {
      "text/plain": [
       "0.003808885192518993"
      ]
     },
     "execution_count": 270,
     "metadata": {},
     "output_type": "execute_result"
    }
   ],
   "source": [
    "# How to calculate 95% confidence interval for the slope \n",
    "flc_n8ace = scipy.stats.t.ppf(0.975, 4)*np.sqrt((np.sum(resid_n8ace**2)/len(resid_n8ace))/(np.sum(nhui)))\n",
    "flc_n8ace"
   ]
  },
  {
   "cell_type": "code",
   "execution_count": 271,
   "metadata": {},
   "outputs": [
    {
     "data": {
      "text/plain": [
       "array([39.28905816])"
      ]
     },
     "execution_count": 271,
     "metadata": {},
     "output_type": "execute_result"
    }
   ],
   "source": [
    "pers_n8ace =-1/model_n8ace.coef_\n",
    "pers_n8ace"
   ]
  },
  {
   "cell_type": "code",
   "execution_count": 272,
   "metadata": {},
   "outputs": [
    {
     "data": {
      "text/plain": [
       "array([5.8795098])"
      ]
     },
     "execution_count": 272,
     "metadata": {},
     "output_type": "execute_result"
    }
   ],
   "source": [
    "# Pers length error: error propagation from uncertainty in slope \n",
    "flc_n8ace/((model_n8ace.coef_)**2)"
   ]
  },
  {
   "cell_type": "code",
   "execution_count": 273,
   "metadata": {},
   "outputs": [
    {
     "data": {
      "text/plain": [
       "array([ 0.        ,  5.98655114, 11.97310228, 17.95965343, 23.94620457,\n",
       "       29.93275571, 35.91930685])"
      ]
     },
     "execution_count": 273,
     "metadata": {},
     "output_type": "execute_result"
    }
   ],
   "source": [
    "def slope_plen(x,m):\n",
    "    return m*x\n",
    "\n",
    "ttsam = np.arange(7, dtype=float)\n",
    "ttsam *= lb_avg_n6ace\n",
    "#nt_ttn10[0] = 0\n",
    "ttsam"
   ]
  },
  {
   "cell_type": "code",
   "execution_count": 274,
   "metadata": {},
   "outputs": [
    {
     "data": {
      "text/plain": [
       "Text(5, 0, 'R$^{2}$ = 0.98')"
      ]
     },
     "execution_count": 274,
     "metadata": {},
     "output_type": "execute_result"
    },
    {
     "data": {
      "image/png": "[encoded data removed]",
      "text/plain": [
       "<Figure size 504x504 with 1 Axes>"
      ]
     },
     "metadata": {
      "needs_background": "light"
     },
     "output_type": "display_data"
    }
   ],
   "source": [
    "plt.figure(figsize=(7,7))\n",
    "plt.errorbar(ace_ttn8, np.log(cor_n8ace_mat[0]), yerr=mk_n8ace, color='b', linestyle=\"None\",marker='o',capsize=5, capthick=1, ecolor='black')\n",
    "plt.plot(ttsam, slope_plen(ttsam, model_n8ace.coef_[0]), color='b')\n",
    "plt.title(r'Ensemble Averaged ln(Cosine $\\theta$) in pure acetone', fontsize=15, y=1.01)\n",
    "plt.xlabel(r'Bond Length', fontsize=15)\n",
    "plt.ylabel(r'ln$\\left< Cos(\\theta)\\right >$', fontsize=15)\n",
    "#plt.ylim(-1.9,0)\n",
    "font = font_manager.FontProperties(family='Arial', style='normal', size='14')\n",
    "plt.legend([r'$N_{PLGA}$ = 8: $L_{p}$ = 39.3 $\\AA$ ± 5.9 $\\AA$'], loc=3, frameon=0, fontsize=14, prop=font)\n",
    "plt.tick_params(labelsize=14)\n",
    "plt.text(5,0,r'R$^{2}$ = 0.98', fontsize=15, color='blue')"
   ]
  },
  {
   "cell_type": "code",
   "execution_count": null,
   "metadata": {},
   "outputs": [],
   "source": [
    "def exfun(x, a):\n",
    "    return np.exp(-x*lb_avg_n6ace/a)\n",
    "\n",
    "nt = np.arange(7)\n",
    "plt.scatter(nt, cor_n8ace_mat[0,:])\n",
    "plt.plot(nt,exfun(nt, pers_n8ace))"
   ]
  },
  {
   "cell_type": "code",
   "execution_count": null,
   "metadata": {},
   "outputs": [],
   "source": []
  },
  {
   "cell_type": "markdown",
   "metadata": {},
   "source": [
    "## N = 10 acetone"
   ]
  },
  {
   "cell_type": "code",
   "execution_count": 275,
   "metadata": {},
   "outputs": [],
   "source": [
    "n10_plga_ace = mda.Universe(\"n10_plga_50ns/1_xa_soln/confout.gro\", \"n10_plga_50ns/1_xa_soln/nopbc_n10ace.xtc\")"
   ]
  },
  {
   "cell_type": "code",
   "execution_count": 276,
   "metadata": {},
   "outputs": [
    {
     "data": {
      "text/plain": [
       "<Universe with 25153 atoms>"
      ]
     },
     "execution_count": 276,
     "metadata": {},
     "output_type": "execute_result"
    }
   ],
   "source": [
    "n10_plga_ace"
   ]
  },
  {
   "cell_type": "code",
   "execution_count": 277,
   "metadata": {},
   "outputs": [
    {
     "data": {
      "text/plain": [
       "5001"
      ]
     },
     "execution_count": 277,
     "metadata": {},
     "output_type": "execute_result"
    }
   ],
   "source": [
    "len(n10_plga_ace.trajectory)"
   ]
  },
  {
   "cell_type": "code",
   "execution_count": 278,
   "metadata": {},
   "outputs": [],
   "source": [
    "poly_n10_ace = n10_plga_ace.select_atoms(\"resname sPLG PLG tPLG and not type H\")"
   ]
  },
  {
   "cell_type": "code",
   "execution_count": 279,
   "metadata": {},
   "outputs": [],
   "source": [
    "com_bond_n10ace = np.zeros(shape=(1,5000))\n",
    "count = 0\n",
    "for ts in n10_plga_ace.trajectory[0:5000]:\n",
    "    n10_mon1 = n10_plga_ace.select_atoms(\"resid 1\")\n",
    "    n10_mon2 = n10_plga_ace.select_atoms(\"resid 2\")\n",
    "    oo_len = mda.analysis.distances.distance_array(n10_mon1.center_of_mass(), n10_mon2.center_of_mass(), \n",
    "                                                   box=n10_plga_ace.trajectory.ts.dimensions)\n",
    "    com_bond_n10ace[0, count] = oo_len\n",
    "    count += 1\n",
    "lb_avg_n10ace = np.mean(com_bond_n10ace)"
   ]
  },
  {
   "cell_type": "code",
   "execution_count": 280,
   "metadata": {},
   "outputs": [
    {
     "data": {
      "text/plain": [
       "5.9959741164262175"
      ]
     },
     "execution_count": 280,
     "metadata": {},
     "output_type": "execute_result"
    }
   ],
   "source": [
    "lb_avg_n10ace"
   ]
  },
  {
   "cell_type": "code",
   "execution_count": null,
   "metadata": {},
   "outputs": [],
   "source": [
    "plt.scatter(np.arange(5000),com_bond_n6ace)\n",
    "plt.scatter(np.arange(5000),com_bond_n8ace)\n",
    "plt.scatter(np.arange(5000),com_bond_n10ace)"
   ]
  },
  {
   "cell_type": "code",
   "execution_count": null,
   "metadata": {},
   "outputs": [],
   "source": [
    "n10_blks_ace = bavg_pers_cnt(5, poly_n10_ace, n10_plga_ace, lb_avg_n10ace, 0 , 5000)"
   ]
  },
  {
   "cell_type": "code",
   "execution_count": null,
   "metadata": {},
   "outputs": [],
   "source": [
    "n10_blks_ace[\"Avg persistence length\"]"
   ]
  },
  {
   "cell_type": "code",
   "execution_count": null,
   "metadata": {},
   "outputs": [],
   "source": [
    "n10_blks_ace[\"Avg Radius of gyration\"]"
   ]
  },
  {
   "cell_type": "code",
   "execution_count": null,
   "metadata": {},
   "outputs": [],
   "source": [
    "np.mean(n10_blks_ace[\"Avg persistence length\"])"
   ]
  },
  {
   "cell_type": "code",
   "execution_count": null,
   "metadata": {},
   "outputs": [],
   "source": [
    "np.std(n10_blks_ace[\"Avg persistence length\"])"
   ]
  },
  {
   "cell_type": "code",
   "execution_count": null,
   "metadata": {},
   "outputs": [],
   "source": [
    "np.mean(n10_blks_ace[\"Avg Radius of gyration\"])"
   ]
  },
  {
   "cell_type": "code",
   "execution_count": null,
   "metadata": {},
   "outputs": [],
   "source": [
    "np.std(n10_blks_ace[\"Avg Radius of gyration\"])"
   ]
  },
  {
   "cell_type": "code",
   "execution_count": 281,
   "metadata": {},
   "outputs": [],
   "source": [
    "n10_rgens_ace, cor_n10ace_mat, N10aceens_cos, rg_avgn10ace = get_rg_pers_poly(poly_n10_ace, n10_plga_ace, 0, 5000, \n",
    "                                                                        lb_avg_n6ace)"
   ]
  },
  {
   "cell_type": "code",
   "execution_count": 282,
   "metadata": {},
   "outputs": [
    {
     "data": {
      "text/plain": [
       "array([[1.00000000e+00, 8.87423200e-01, 7.58542532e-01, 6.51133256e-01,\n",
       "        5.44373891e-01, 4.52844031e-01, 4.20489702e-01, 3.68561063e-01,\n",
       "        3.05002711e-01],\n",
       "       [4.35116786e-17, 3.72896349e-02, 9.05809996e-02, 1.40393990e-01,\n",
       "        2.06063135e-01, 2.60090607e-01, 3.15658989e-01, 3.89937394e-01,\n",
       "        5.04578358e-01],\n",
       "       [0.00000000e+00, 2.70779481e+01, 3.99899855e+01, 4.84788315e+01,\n",
       "        5.58602289e+01, 6.17415841e+01, 6.34287892e+01, 6.61911990e+01,\n",
       "        6.96044751e+01],\n",
       "       [1.00000000e+00, 2.00000000e+00, 3.00000000e+00, 4.00000000e+00,\n",
       "        5.00000000e+00, 6.00000000e+00, 7.00000000e+00, 8.00000000e+00,\n",
       "        9.00000000e+00]])"
      ]
     },
     "execution_count": 282,
     "metadata": {},
     "output_type": "execute_result"
    }
   ],
   "source": [
    "cor_n10ace_mat"
   ]
  },
  {
   "cell_type": "code",
   "execution_count": 283,
   "metadata": {},
   "outputs": [
    {
     "data": {
      "text/plain": [
       "array([1.        , 0.8874232 , 0.75854253, 0.65113326, 0.54437389,\n",
       "       0.45284403, 0.4204897 , 0.36856106, 0.30500271])"
      ]
     },
     "execution_count": 283,
     "metadata": {},
     "output_type": "execute_result"
    }
   ],
   "source": [
    "cor_n10ace_mat[0]"
   ]
  },
  {
   "cell_type": "code",
   "execution_count": 284,
   "metadata": {},
   "outputs": [
    {
     "data": {
      "text/plain": [
       "array([ 0.        ,  5.98655114, 11.97310228, 17.95965343, 23.94620457,\n",
       "       29.93275571, 35.91930685, 41.905858  , 47.89240914])"
      ]
     },
     "execution_count": 284,
     "metadata": {},
     "output_type": "execute_result"
    }
   ],
   "source": [
    "# x values\n",
    "ace_ttn10 = np.arange(9, dtype=float)\n",
    "ace_ttn10 *= lb_avg_n6ace\n",
    "#nt_ttn20[0] = 0\n",
    "ace_ttn10"
   ]
  },
  {
   "cell_type": "code",
   "execution_count": 285,
   "metadata": {},
   "outputs": [
    {
     "data": {
      "text/plain": [
       "16.39484551155856"
      ]
     },
     "execution_count": 285,
     "metadata": {},
     "output_type": "execute_result"
    }
   ],
   "source": [
    "# Sample standard deviation of Bond Length x values \n",
    "np.sqrt((np.sum(ace_ttn10**2) - ((np.sum(ace_ttn10)**2)/9))/8)"
   ]
  },
  {
   "cell_type": "code",
   "execution_count": 286,
   "metadata": {},
   "outputs": [
    {
     "data": {
      "text/plain": [
       "268.7909593478719"
      ]
     },
     "execution_count": 286,
     "metadata": {},
     "output_type": "execute_result"
    }
   ],
   "source": [
    "# Sample variance of Bond Length x values \n",
    "n10sace_var = (np.sum(ace_ttn10**2) - ((np.sum(ace_ttn10)**2)/9))/8\n",
    "n10sace_var"
   ]
  },
  {
   "cell_type": "code",
   "execution_count": 287,
   "metadata": {},
   "outputs": [
    {
     "data": {
      "text/plain": [
       "array([ 0.        , -0.1194333 , -0.27635641, -0.42904096, -0.60811897,\n",
       "       -0.79220752, -0.86633529, -0.99814887, -1.18743461])"
      ]
     },
     "execution_count": 287,
     "metadata": {},
     "output_type": "execute_result"
    }
   ],
   "source": [
    "# y values\n",
    "n10lc_ace = np.log(cor_n10ace_mat[0])\n",
    "n10lc_ace"
   ]
  },
  {
   "cell_type": "code",
   "execution_count": 288,
   "metadata": {},
   "outputs": [],
   "source": [
    "mk_n10ace = cor_n10ace_mat[1]/cor_n10ace_mat[0]"
   ]
  },
  {
   "cell_type": "code",
   "execution_count": 289,
   "metadata": {},
   "outputs": [
    {
     "data": {
      "text/plain": [
       "<ErrorbarContainer object of 3 artists>"
      ]
     },
     "execution_count": 289,
     "metadata": {},
     "output_type": "execute_result"
    },
    {
     "data": {
      "image/png": "[encoded data removed]",
      "text/plain": [
       "<Figure size 504x504 with 1 Axes>"
      ]
     },
     "metadata": {
      "needs_background": "light"
     },
     "output_type": "display_data"
    }
   ],
   "source": [
    "plt.figure(figsize=(7,7))\n",
    "plt.errorbar(ace_ttn10, np.log(cor_n10ace_mat[0]), yerr=mk_n10ace, color='b', linestyle=\"None\",marker='o',\n",
    "     capsize=5, capthick=1, ecolor='black')"
   ]
  },
  {
   "cell_type": "code",
   "execution_count": 290,
   "metadata": {},
   "outputs": [
    {
     "name": "stdout",
     "output_type": "stream",
     "text": [
      "Model slope:     [-0.02459542]\n",
      "Model intercept: 0.0\n"
     ]
    }
   ],
   "source": [
    "from sklearn.linear_model import LinearRegression\n",
    "model_n10ace = LinearRegression(fit_intercept=False)\n",
    "model_n10ace.fit(ace_ttn10.reshape(-1,1), n10lc_ace)\n",
    "# Slope here is in angstroms\n",
    "print(\"Model slope:    \", model_n10ace.coef_)\n",
    "print(\"Model intercept:\", model_n10ace.intercept_)"
   ]
  },
  {
   "cell_type": "code",
   "execution_count": 291,
   "metadata": {},
   "outputs": [
    {
     "data": {
      "text/plain": [
       "array([ 0.        , -0.14724173, -0.29448346, -0.44172519, -0.58896693,\n",
       "       -0.73620866, -0.88345039, -1.03069212, -1.17793385])"
      ]
     },
     "execution_count": 291,
     "metadata": {},
     "output_type": "execute_result"
    }
   ],
   "source": [
    "gg_n10ace = model_n10ace.predict(ace_ttn10.reshape(-1,1))\n",
    "gg_n10ace"
   ]
  },
  {
   "cell_type": "code",
   "execution_count": 292,
   "metadata": {},
   "outputs": [
    {
     "name": "stdout",
     "output_type": "stream",
     "text": [
      "Mean Std Error: 0.0006897461779300974\n",
      "R2 score: 0.9953492721815346\n"
     ]
    }
   ],
   "source": [
    "print(\"Mean Std Error:\", sklearn.metrics.mean_squared_error(n10lc_ace, model_n10ace.predict(ace_ttn10.reshape(-1,1))))\n",
    "print(\"R2 score:\", sklearn.metrics.r2_score(n10lc_ace, model_n10ace.predict(ace_ttn10.reshape(-1,1))))"
   ]
  },
  {
   "cell_type": "code",
   "execution_count": 293,
   "metadata": {},
   "outputs": [
    {
     "data": {
      "text/plain": [
       "array([ 0.        ,  0.02780843,  0.01812705,  0.01268423, -0.01915204,\n",
       "       -0.05599886,  0.0171151 ,  0.03254325, -0.00950076])"
      ]
     },
     "execution_count": 293,
     "metadata": {},
     "output_type": "execute_result"
    }
   ],
   "source": [
    "# Residuals between the true y data and model y data \n",
    "resid_n10ace = n10lc_ace - gg_n10ace\n",
    "resid_n10ace"
   ]
  },
  {
   "cell_type": "code",
   "execution_count": 294,
   "metadata": {},
   "outputs": [
    {
     "data": {
      "text/plain": [
       "0.0006897461779300974"
      ]
     },
     "execution_count": 294,
     "metadata": {},
     "output_type": "execute_result"
    }
   ],
   "source": [
    "# How to calculate mean squared error\n",
    "np.sum(resid_n10ace**2)/len(resid_n10ace)"
   ]
  },
  {
   "cell_type": "code",
   "execution_count": 295,
   "metadata": {},
   "outputs": [
    {
     "data": {
      "text/plain": [
       "0.026263019208196483"
      ]
     },
     "execution_count": 295,
     "metadata": {},
     "output_type": "execute_result"
    }
   ],
   "source": [
    "# Standard error: Square root of the mean squared error \n",
    "np.sqrt(np.sum(resid_n10ace**2)/len(resid_n10ace))"
   ]
  },
  {
   "cell_type": "code",
   "execution_count": 296,
   "metadata": {},
   "outputs": [
    {
     "data": {
      "text/plain": [
       "0.0007682115763573245"
      ]
     },
     "execution_count": 296,
     "metadata": {},
     "output_type": "execute_result"
    }
   ],
   "source": [
    "# sample variance of the residuals \n",
    "ntr_n10ace = resid_n10ace\n",
    "ntr_n10ace -= np.mean(resid_n10ace)\n",
    "nhr_n10ace = ntr_n10ace**2\n",
    "np.sum(nhr_n10ace)/8"
   ]
  },
  {
   "cell_type": "code",
   "execution_count": 297,
   "metadata": {},
   "outputs": [
    {
     "data": {
      "text/plain": [
       "2150.3276747829764"
      ]
     },
     "execution_count": 297,
     "metadata": {},
     "output_type": "execute_result"
    }
   ],
   "source": [
    "# How to calculate Sum((Xi - avg(X))^2): X values are the bond length values \n",
    "nt_n10ace = np.arange(9, dtype=float)\n",
    "nt_n10ace *= lb_avg_n6ace\n",
    "nt_n10ace -= np.mean(nt_n10ace)\n",
    "nhui = nt_n10ace**2\n",
    "np.sum(nhui)"
   ]
  },
  {
   "cell_type": "code",
   "execution_count": 298,
   "metadata": {},
   "outputs": [
    {
     "data": {
      "text/plain": [
       "0.0015645913737879107"
      ]
     },
     "execution_count": 298,
     "metadata": {},
     "output_type": "execute_result"
    }
   ],
   "source": [
    "# How to calculate 95% confidence interval for the slope \n",
    "flc_n10ace = scipy.stats.t.ppf(0.975, 4)*np.sqrt((np.sum(resid_n10ace**2)/len(resid_n10ace))/(np.sum(nhui)))\n",
    "flc_n10ace"
   ]
  },
  {
   "cell_type": "code",
   "execution_count": 299,
   "metadata": {},
   "outputs": [
    {
     "data": {
      "text/plain": [
       "array([40.65797843])"
      ]
     },
     "execution_count": 299,
     "metadata": {},
     "output_type": "execute_result"
    }
   ],
   "source": [
    "pers_n10ace =-1/model_n10ace.coef_\n",
    "pers_n10ace"
   ]
  },
  {
   "cell_type": "code",
   "execution_count": 300,
   "metadata": {},
   "outputs": [
    {
     "data": {
      "text/plain": [
       "array([2.58638095])"
      ]
     },
     "execution_count": 300,
     "metadata": {},
     "output_type": "execute_result"
    }
   ],
   "source": [
    "# Pers length error: error propagation from uncertainty in slope \n",
    "flc_n10ace/((model_n10ace.coef_)**2)"
   ]
  },
  {
   "cell_type": "code",
   "execution_count": 301,
   "metadata": {},
   "outputs": [
    {
     "data": {
      "text/plain": [
       "array([ 0.        ,  5.98655114, 11.97310228, 17.95965343, 23.94620457,\n",
       "       29.93275571, 35.91930685, 41.905858  , 47.89240914])"
      ]
     },
     "execution_count": 301,
     "metadata": {},
     "output_type": "execute_result"
    }
   ],
   "source": [
    "def slope_plen(x,m):\n",
    "    return m*x\n",
    "\n",
    "ttsam = np.arange(9, dtype=float)\n",
    "ttsam *= lb_avg_n6ace\n",
    "#nt_ttn10[0] = 0\n",
    "ttsam"
   ]
  },
  {
   "cell_type": "code",
   "execution_count": 302,
   "metadata": {},
   "outputs": [
    {
     "data": {
      "text/plain": [
       "Text(5, 0, 'R$^{2}$ = 0.995')"
      ]
     },
     "execution_count": 302,
     "metadata": {},
     "output_type": "execute_result"
    },
    {
     "data": {
      "image/png": "[encoded data removed]",
      "text/plain": [
       "<Figure size 504x504 with 1 Axes>"
      ]
     },
     "metadata": {
      "needs_background": "light"
     },
     "output_type": "display_data"
    }
   ],
   "source": [
    "plt.figure(figsize=(7,7))\n",
    "plt.errorbar(ace_ttn10, np.log(cor_n10ace_mat[0]), yerr=mk_n10ace, color='b',\n",
    "             linestyle=\"None\",marker='o',capsize=5, capthick=1, ecolor='black')\n",
    "plt.plot(ttsam, slope_plen(ttsam, model_n10ace.coef_[0]), color='b')\n",
    "plt.title(r'Ensemble Averaged ln(Cosine $\\theta$) in pure acetone', fontsize=15, y=1.01)\n",
    "plt.xlabel(r'Bond Length', fontsize=15)\n",
    "plt.ylabel(r'ln$\\left< Cos(\\theta)\\right >$', fontsize=15)\n",
    "#plt.ylim(-1.9,0)\n",
    "font = font_manager.FontProperties(family='Arial', style='normal', size='14')\n",
    "plt.legend([r'$N_{PLGA}$ = 10: $L_{p}$ = 40.7 $\\AA$ ± 2.6 $\\AA$'], loc=3, frameon=0, fontsize=14, prop=font)\n",
    "plt.tick_params(labelsize=14)\n",
    "plt.text(5,0,r'R$^{2}$ = 0.995', fontsize=15, color='blue')"
   ]
  },
  {
   "cell_type": "code",
   "execution_count": null,
   "metadata": {},
   "outputs": [],
   "source": [
    "def exfun(x, a):\n",
    "    return np.exp(-x*lb_avg_n6ace/a)\n",
    "\n",
    "nt = np.arange(9)\n",
    "plt.scatter(nt, cor_n10ace_mat[0,:])\n",
    "plt.plot(nt,exfun(nt, pers_n10ace))"
   ]
  },
  {
   "cell_type": "markdown",
   "metadata": {},
   "source": [
    "## N = 20 acetone"
   ]
  },
  {
   "cell_type": "code",
   "execution_count": 303,
   "metadata": {},
   "outputs": [],
   "source": [
    "n20_plga_ace = mda.Universe(\"n20_plga_150ns/1_xa_soln/1xa_n20sys.gro\", \"n20_plga_150ns/1_xa_soln/N20_nopbcpp_0xa.xtc\")"
   ]
  },
  {
   "cell_type": "code",
   "execution_count": 304,
   "metadata": {},
   "outputs": [
    {
     "data": {
      "text/plain": [
       "<Universe with 303 atoms>"
      ]
     },
     "execution_count": 304,
     "metadata": {},
     "output_type": "execute_result"
    }
   ],
   "source": [
    "n20_plga_ace"
   ]
  },
  {
   "cell_type": "code",
   "execution_count": 305,
   "metadata": {},
   "outputs": [
    {
     "data": {
      "text/plain": [
       "15001"
      ]
     },
     "execution_count": 305,
     "metadata": {},
     "output_type": "execute_result"
    }
   ],
   "source": [
    "len(n20_plga_ace.trajectory)"
   ]
  },
  {
   "cell_type": "code",
   "execution_count": 306,
   "metadata": {},
   "outputs": [],
   "source": [
    "poly_n20_ace = n20_plga_ace.select_atoms(\"resname sPLG PLG tPLG and not type H\")"
   ]
  },
  {
   "cell_type": "code",
   "execution_count": 307,
   "metadata": {},
   "outputs": [],
   "source": [
    "com_bond_n20ace = np.zeros(shape=(1,5000))\n",
    "count = 0\n",
    "for ts in n20_plga_ace.trajectory[0:5000]:\n",
    "    n20_mon1 = n20_plga_ace.select_atoms(\"resid 1\")\n",
    "    n20_mon2 = n20_plga_ace.select_atoms(\"resid 2\")\n",
    "    oo_len = mda.analysis.distances.distance_array(n20_mon1.center_of_mass(), n20_mon2.center_of_mass(), \n",
    "                                                   box=n20_plga_ace.trajectory.ts.dimensions)\n",
    "    com_bond_n20ace[0, count] = oo_len\n",
    "    count += 1\n",
    "lb_avg_n20ace = np.mean(com_bond_n20ace)"
   ]
  },
  {
   "cell_type": "code",
   "execution_count": 308,
   "metadata": {},
   "outputs": [
    {
     "data": {
      "text/plain": [
       "5.932062741435674"
      ]
     },
     "execution_count": 308,
     "metadata": {},
     "output_type": "execute_result"
    }
   ],
   "source": [
    "lb_avg_n20ace"
   ]
  },
  {
   "cell_type": "code",
   "execution_count": null,
   "metadata": {},
   "outputs": [],
   "source": [
    "plt.scatter(np.arange(5000),com_bond_n6ace)\n",
    "plt.scatter(np.arange(5000),com_bond_n8ace)\n",
    "plt.scatter(np.arange(5000),com_bond_n10ace)\n",
    "plt.scatter(np.arange(5000),com_bond_n20ace)"
   ]
  },
  {
   "cell_type": "code",
   "execution_count": null,
   "metadata": {},
   "outputs": [],
   "source": [
    "n20_blks_ace = bavg_pers_cnt(5, poly_n20_ace, n20_plga_ace, lb_avg_n6ace, 0 , 15000)"
   ]
  },
  {
   "cell_type": "code",
   "execution_count": null,
   "metadata": {},
   "outputs": [],
   "source": [
    "n20_blks_ace[\"Avg persistence length\"]"
   ]
  },
  {
   "cell_type": "code",
   "execution_count": null,
   "metadata": {},
   "outputs": [],
   "source": [
    "n20_blks_ace[\"Avg Radius of gyration\"]"
   ]
  },
  {
   "cell_type": "code",
   "execution_count": null,
   "metadata": {},
   "outputs": [],
   "source": [
    "np.mean(n20_blks_ace[\"Avg persistence length\"])"
   ]
  },
  {
   "cell_type": "code",
   "execution_count": null,
   "metadata": {},
   "outputs": [],
   "source": [
    "np.std(n20_blks_ace[\"Avg persistence length\"])"
   ]
  },
  {
   "cell_type": "code",
   "execution_count": null,
   "metadata": {},
   "outputs": [],
   "source": [
    "np.mean(n20_blks_ace[\"Avg Radius of gyration\"])"
   ]
  },
  {
   "cell_type": "code",
   "execution_count": null,
   "metadata": {},
   "outputs": [],
   "source": [
    "np.std(n20_blks_ace[\"Avg Radius of gyration\"])"
   ]
  },
  {
   "cell_type": "code",
   "execution_count": 309,
   "metadata": {},
   "outputs": [],
   "source": [
    "n20_rgens_ace, cor_n20ace_mat, N20aceens_cos, rg_avgn20ace = get_rg_pers_poly(poly_n20_ace, n20_plga_ace, 0, 15000, \n",
    "                                                                        lb_avg_n6ace)"
   ]
  },
  {
   "cell_type": "code",
   "execution_count": 310,
   "metadata": {},
   "outputs": [
    {
     "data": {
      "text/plain": [
       "array([[1.00000000e+00, 8.93548713e-01, 7.66430404e-01, 6.57713003e-01,\n",
       "        5.78363698e-01, 5.14835945e-01, 4.70472149e-01, 4.37114942e-01,\n",
       "        4.13403297e-01, 3.88713887e-01, 3.71001974e-01, 3.53750173e-01,\n",
       "        3.40811052e-01, 3.34340808e-01, 3.34014596e-01, 3.29686014e-01,\n",
       "        3.15979708e-01, 2.84130624e-01, 2.79729000e-01],\n",
       "       [2.35688259e-17, 2.60524980e-02, 6.60260008e-02, 9.45405337e-02,\n",
       "        1.14402666e-01, 1.37225742e-01, 1.62299618e-01, 1.89020583e-01,\n",
       "        2.11861264e-01, 2.29821323e-01, 2.54277855e-01, 2.88098505e-01,\n",
       "        3.11961653e-01, 3.22486822e-01, 3.32966062e-01, 3.57790682e-01,\n",
       "        4.18548636e-01, 4.84485938e-01, 5.54653822e-01],\n",
       "       [0.00000000e+00, 2.64803380e+01, 3.95871554e+01, 4.84468715e+01,\n",
       "        5.42249732e+01, 5.85279359e+01, 6.13718169e+01, 6.34172521e+01,\n",
       "        6.48274731e+01, 6.63411829e+01, 6.73615667e+01, 6.82685267e+01,\n",
       "        6.89568895e+01, 6.92663608e+01, 6.91179611e+01, 6.92025785e+01,\n",
       "        6.96710424e+01, 7.12539506e+01, 7.06717810e+01],\n",
       "       [1.00000000e+00, 2.00000000e+00, 3.00000000e+00, 4.00000000e+00,\n",
       "        5.00000000e+00, 6.00000000e+00, 7.00000000e+00, 8.00000000e+00,\n",
       "        9.00000000e+00, 1.00000000e+01, 1.10000000e+01, 1.20000000e+01,\n",
       "        1.30000000e+01, 1.40000000e+01, 1.50000000e+01, 1.60000000e+01,\n",
       "        1.70000000e+01, 1.80000000e+01, 1.90000000e+01]])"
      ]
     },
     "execution_count": 310,
     "metadata": {},
     "output_type": "execute_result"
    }
   ],
   "source": [
    "cor_n20ace_mat"
   ]
  },
  {
   "cell_type": "code",
   "execution_count": 311,
   "metadata": {},
   "outputs": [
    {
     "data": {
      "text/plain": [
       "array([1.        , 0.89354871, 0.7664304 , 0.657713  , 0.5783637 ,\n",
       "       0.51483595, 0.47047215, 0.43711494, 0.4134033 , 0.38871389,\n",
       "       0.37100197, 0.35375017, 0.34081105, 0.33434081, 0.3340146 ,\n",
       "       0.32968601, 0.31597971, 0.28413062, 0.279729  ])"
      ]
     },
     "execution_count": 311,
     "metadata": {},
     "output_type": "execute_result"
    }
   ],
   "source": [
    "cor_n20ace_mat[0]"
   ]
  },
  {
   "cell_type": "code",
   "execution_count": 312,
   "metadata": {},
   "outputs": [
    {
     "data": {
      "text/plain": [
       "array([  0.        ,   5.98655114,  11.97310228,  17.95965343,\n",
       "        23.94620457,  29.93275571,  35.91930685,  41.905858  ,\n",
       "        47.89240914,  53.87896028,  59.86551142,  65.85206257,\n",
       "        71.83861371,  77.82516485,  83.81171599,  89.79826713,\n",
       "        95.78481828, 101.77136942, 107.75792056])"
      ]
     },
     "execution_count": 312,
     "metadata": {},
     "output_type": "execute_result"
    }
   ],
   "source": [
    "# x values\n",
    "ace_ttn20 = np.arange(19, dtype=float)\n",
    "ace_ttn20 *= lb_avg_n6ace\n",
    "#nt_ttn20[0] = 0\n",
    "ace_ttn20"
   ]
  },
  {
   "cell_type": "code",
   "execution_count": 313,
   "metadata": {},
   "outputs": [
    {
     "data": {
      "text/plain": [
       "33.688205082654896"
      ]
     },
     "execution_count": 313,
     "metadata": {},
     "output_type": "execute_result"
    }
   ],
   "source": [
    "# Sample standard deviation of Bond Length x values \n",
    "np.sqrt((np.sum(ace_ttn20**2) - ((np.sum(ace_ttn20)**2)/19))/18)"
   ]
  },
  {
   "cell_type": "code",
   "execution_count": 314,
   "metadata": {},
   "outputs": [
    {
     "data": {
      "text/plain": [
       "1134.8951616910153"
      ]
     },
     "execution_count": 314,
     "metadata": {},
     "output_type": "execute_result"
    }
   ],
   "source": [
    "# Sample variance of Bond Length x values \n",
    "n20sace_var = (np.sum(ace_ttn20**2) - ((np.sum(ace_ttn20)**2)/19))/18\n",
    "n20sace_var"
   ]
  },
  {
   "cell_type": "code",
   "execution_count": 315,
   "metadata": {},
   "outputs": [
    {
     "data": {
      "text/plain": [
       "array([ 0.        , -0.11255443, -0.26601138, -0.41898661, -0.54755237,\n",
       "       -0.66390698, -0.75401852, -0.82755909, -0.88333166, -0.94491172,\n",
       "       -0.9915479 , -1.03916434, -1.07642706, -1.09559442, -1.09657059,\n",
       "       -1.10961455, -1.15207728, -1.2583212 , -1.273934  ])"
      ]
     },
     "execution_count": 315,
     "metadata": {},
     "output_type": "execute_result"
    }
   ],
   "source": [
    "# y values\n",
    "n20lc_ace = np.log(cor_n20ace_mat[0])\n",
    "n20lc_ace"
   ]
  },
  {
   "cell_type": "code",
   "execution_count": 316,
   "metadata": {},
   "outputs": [],
   "source": [
    "mk_n20ace = cor_n20ace_mat[1]/cor_n20ace_mat[0]"
   ]
  },
  {
   "cell_type": "code",
   "execution_count": 317,
   "metadata": {},
   "outputs": [
    {
     "data": {
      "text/plain": [
       "<ErrorbarContainer object of 3 artists>"
      ]
     },
     "execution_count": 317,
     "metadata": {},
     "output_type": "execute_result"
    },
    {
     "data": {
      "image/png": "[encoded data removed]",
      "text/plain": [
       "<Figure size 504x504 with 1 Axes>"
      ]
     },
     "metadata": {
      "needs_background": "light"
     },
     "output_type": "display_data"
    }
   ],
   "source": [
    "plt.figure(figsize=(7,7))\n",
    "plt.errorbar(ace_ttn20, np.log(cor_n20ace_mat[0]), yerr=mk_n20ace, color='b', linestyle=\"None\",marker='o',\n",
    "     capsize=5, capthick=1, ecolor='black')"
   ]
  },
  {
   "cell_type": "code",
   "execution_count": 318,
   "metadata": {},
   "outputs": [
    {
     "data": {
      "text/plain": [
       "array([ 0.        ,  5.98655114, 11.97310228, 17.95965343, 23.94620457,\n",
       "       29.93275571, 35.91930685])"
      ]
     },
     "execution_count": 318,
     "metadata": {},
     "output_type": "execute_result"
    }
   ],
   "source": [
    "ace_ttn20[:7]"
   ]
  },
  {
   "cell_type": "code",
   "execution_count": 319,
   "metadata": {},
   "outputs": [
    {
     "name": "stdout",
     "output_type": "stream",
     "text": [
      "Model slope:     [-0.0219088]\n",
      "Model intercept: 0.0\n"
     ]
    }
   ],
   "source": [
    "from sklearn.linear_model import LinearRegression\n",
    "model_n20ace = LinearRegression(fit_intercept=False)\n",
    "model_n20ace.fit(ace_ttn20[:7].reshape(-1,1), n20lc_ace[:7])\n",
    "# Slope here is in angstroms\n",
    "print(\"Model slope:    \", model_n20ace.coef_)\n",
    "print(\"Model intercept:\", model_n20ace.intercept_)"
   ]
  },
  {
   "cell_type": "code",
   "execution_count": 320,
   "metadata": {},
   "outputs": [
    {
     "data": {
      "text/plain": [
       "array([ 0.        , -0.13115816, -0.26231632, -0.39347448, -0.52463264,\n",
       "       -0.6557908 , -0.78694896, -0.91810712, -1.04926528, -1.18042343,\n",
       "       -1.31158159, -1.44273975, -1.57389791, -1.70505607, -1.83621423,\n",
       "       -1.96737239, -2.09853055, -2.22968871, -2.36084687])"
      ]
     },
     "execution_count": 320,
     "metadata": {},
     "output_type": "execute_result"
    }
   ],
   "source": [
    "gg_n20ace = model_n20ace.predict(ace_ttn20.reshape(-1,1))\n",
    "gg_n20ace"
   ]
  },
  {
   "cell_type": "code",
   "execution_count": 321,
   "metadata": {},
   "outputs": [
    {
     "name": "stdout",
     "output_type": "stream",
     "text": [
      "Mean Std Error: 0.0003837459779299569\n",
      "R2 score: 0.9943742967646797\n"
     ]
    }
   ],
   "source": [
    "print(\"Mean Std Error:\", sklearn.metrics.mean_squared_error(n20lc_ace[:7], \n",
    "                                                            model_n20ace.predict(ace_ttn20[:7].reshape(-1,1))))\n",
    "print(\"R2 score:\", sklearn.metrics.r2_score(n20lc_ace[:7],\n",
    "                                            model_n20ace.predict(ace_ttn20[:7].reshape(-1,1))))"
   ]
  },
  {
   "cell_type": "code",
   "execution_count": 322,
   "metadata": {},
   "outputs": [
    {
     "data": {
      "text/plain": [
       "array([ 0.        ,  0.01860373, -0.00369506, -0.02551213, -0.02291974,\n",
       "       -0.00811619,  0.03293044])"
      ]
     },
     "execution_count": 322,
     "metadata": {},
     "output_type": "execute_result"
    }
   ],
   "source": [
    "# Residuals between the true y data and model y data \n",
    "resid_n20ace = n20lc_ace[:7] - gg_n20ace[:7]\n",
    "resid_n20ace"
   ]
  },
  {
   "cell_type": "code",
   "execution_count": 323,
   "metadata": {},
   "outputs": [
    {
     "data": {
      "text/plain": [
       "0.0003837459779299569"
      ]
     },
     "execution_count": 323,
     "metadata": {},
     "output_type": "execute_result"
    }
   ],
   "source": [
    "# How to calculate mean squared error\n",
    "np.sum(resid_n20ace**2)/len(resid_n20ace)"
   ]
  },
  {
   "cell_type": "code",
   "execution_count": 324,
   "metadata": {},
   "outputs": [
    {
     "data": {
      "text/plain": [
       "0.01958943536526658"
      ]
     },
     "execution_count": 324,
     "metadata": {},
     "output_type": "execute_result"
    }
   ],
   "source": [
    "# Standard error: Square root of the mean squared error \n",
    "np.sqrt(np.sum(resid_n20ace**2)/len(resid_n20ace))"
   ]
  },
  {
   "cell_type": "code",
   "execution_count": 325,
   "metadata": {},
   "outputs": [
    {
     "data": {
      "text/plain": [
       "0.00038219810829775286"
      ]
     },
     "execution_count": 325,
     "metadata": {},
     "output_type": "execute_result"
    }
   ],
   "source": [
    "# sample variance of the residuals \n",
    "ntr_n20ace = resid_n20ace\n",
    "ntr_n20ace -= np.mean(resid_n20ace)\n",
    "nhr_n20ace = ntr_n20ace**2\n",
    "np.sum(nhr_n20ace)/7"
   ]
  },
  {
   "cell_type": "code",
   "execution_count": 326,
   "metadata": {},
   "outputs": [
    {
     "data": {
      "text/plain": [
       "1003.4862482320556"
      ]
     },
     "execution_count": 326,
     "metadata": {},
     "output_type": "execute_result"
    }
   ],
   "source": [
    "# How to calculate Sum((Xi - avg(X))^2): X values are the bond length values, I only used 7 points to fit data \n",
    "nt_n20ace = np.arange(7, dtype=float)\n",
    "nt_n20ace *= lb_avg_n6ace\n",
    "nt_n20ace -= np.mean(nt_n20ace)\n",
    "nhui = nt_n20ace**2\n",
    "np.sum(nhui)"
   ]
  },
  {
   "cell_type": "code",
   "execution_count": 327,
   "metadata": {},
   "outputs": [
    {
     "data": {
      "text/plain": [
       "0.0017134744980350038"
      ]
     },
     "execution_count": 327,
     "metadata": {},
     "output_type": "execute_result"
    }
   ],
   "source": [
    "# How to calculate 95% confidence interval for the slope \n",
    "flc_n20ace = scipy.stats.t.ppf(0.975, 4)*np.sqrt((np.sum(resid_n20ace**2)/len(resid_n20ace))/(np.sum(nhui)))\n",
    "flc_n20ace"
   ]
  },
  {
   "cell_type": "code",
   "execution_count": 328,
   "metadata": {},
   "outputs": [
    {
     "data": {
      "text/plain": [
       "array([45.64375688])"
      ]
     },
     "execution_count": 328,
     "metadata": {},
     "output_type": "execute_result"
    }
   ],
   "source": [
    "pers_n20ace =-1/model_n20ace.coef_\n",
    "pers_n20ace"
   ]
  },
  {
   "cell_type": "code",
   "execution_count": 329,
   "metadata": {},
   "outputs": [
    {
     "data": {
      "text/plain": [
       "array([3.56977145])"
      ]
     },
     "execution_count": 329,
     "metadata": {},
     "output_type": "execute_result"
    }
   ],
   "source": [
    "# Pers length error: error propagation from uncertainty in slope \n",
    "flc_n20ace/((model_n20ace.coef_)**2)"
   ]
  },
  {
   "cell_type": "code",
   "execution_count": 330,
   "metadata": {},
   "outputs": [
    {
     "data": {
      "text/plain": [
       "array([  0.        ,   5.98655114,  11.97310228,  17.95965343,\n",
       "        23.94620457,  29.93275571,  35.91930685,  41.905858  ,\n",
       "        47.89240914,  53.87896028,  59.86551142,  65.85206257,\n",
       "        71.83861371,  77.82516485,  83.81171599,  89.79826713,\n",
       "        95.78481828, 101.77136942, 107.75792056])"
      ]
     },
     "execution_count": 330,
     "metadata": {},
     "output_type": "execute_result"
    }
   ],
   "source": [
    "def slope_plen(x,m):\n",
    "    return m*x\n",
    "\n",
    "ttsam = np.arange(19, dtype=float)\n",
    "ttsam *= lb_avg_n6ace\n",
    "#nt_ttn10[0] = 0\n",
    "ttsam"
   ]
  },
  {
   "cell_type": "code",
   "execution_count": 331,
   "metadata": {},
   "outputs": [
    {
     "data": {
      "text/plain": [
       "Text(5, 0, 'R$^{2}$ = 0.994')"
      ]
     },
     "execution_count": 331,
     "metadata": {},
     "output_type": "execute_result"
    },
    {
     "data": {
      "image/png": "[encoded data removed]",
      "text/plain": [
       "<Figure size 504x504 with 1 Axes>"
      ]
     },
     "metadata": {
      "needs_background": "light"
     },
     "output_type": "display_data"
    }
   ],
   "source": [
    "plt.figure(figsize=(7,7))\n",
    "plt.errorbar(ace_ttn20, np.log(cor_n20ace_mat[0]), yerr=mk_n20ace, color='b',\n",
    "             linestyle=\"None\",marker='o',capsize=5, capthick=1, ecolor='black')\n",
    "plt.plot(ttsam, slope_plen(ttsam, model_n20ace.coef_[0]), color='b')\n",
    "plt.title(r'Ensemble Averaged ln(Cosine $\\theta$) in pure acetone', fontsize=15, y=1.01)\n",
    "plt.xlabel(r'Bond Length', fontsize=15)\n",
    "plt.ylabel(r'ln$\\left< Cos(\\theta)\\right >$', fontsize=15)\n",
    "#plt.ylim(-1.9,0)\n",
    "font = font_manager.FontProperties(family='Arial', style='normal', size='14')\n",
    "plt.legend([r'$N_{PLGA}$ = 20: $L_{p}$ = 45.6 $\\AA$ ± 3.6 $\\AA$'], loc=3, frameon=0, fontsize=14, prop=font)\n",
    "plt.tick_params(labelsize=14)\n",
    "plt.text(5,0,r'R$^{2}$ = 0.994', fontsize=15, color='blue')"
   ]
  },
  {
   "cell_type": "code",
   "execution_count": null,
   "metadata": {},
   "outputs": [],
   "source": [
    "def exfun(x, a):\n",
    "    return np.exp(-x*lb_avg_n6ace/a)\n",
    "\n",
    "nt = np.arange(19)\n",
    "plt.scatter(nt, cor_n20ace_mat[0,:])\n",
    "plt.plot(nt,exfun(nt, pers_n20ace))"
   ]
  },
  {
   "cell_type": "markdown",
   "metadata": {},
   "source": [
    "## N = 30 acetone"
   ]
  },
  {
   "cell_type": "code",
   "execution_count": 332,
   "metadata": {},
   "outputs": [],
   "source": [
    "n30_plga_ace = mda.Universe(\"n30_plga_150ns/1_xa_soln/1xa_n30sys.gro\", \"n30_plga_150ns/1_xa_soln/N30_nopbcpp_1xa.xtc\")"
   ]
  },
  {
   "cell_type": "code",
   "execution_count": 333,
   "metadata": {},
   "outputs": [
    {
     "data": {
      "text/plain": [
       "<Universe with 453 atoms>"
      ]
     },
     "execution_count": 333,
     "metadata": {},
     "output_type": "execute_result"
    }
   ],
   "source": [
    "n30_plga_ace"
   ]
  },
  {
   "cell_type": "code",
   "execution_count": 334,
   "metadata": {},
   "outputs": [
    {
     "data": {
      "text/plain": [
       "15001"
      ]
     },
     "execution_count": 334,
     "metadata": {},
     "output_type": "execute_result"
    }
   ],
   "source": [
    "len(n30_plga_ace.trajectory)"
   ]
  },
  {
   "cell_type": "code",
   "execution_count": 335,
   "metadata": {},
   "outputs": [],
   "source": [
    "poly_n30_ace = n30_plga_ace.select_atoms(\"resname sPLG PLG tPLG and not type H\")"
   ]
  },
  {
   "cell_type": "code",
   "execution_count": 336,
   "metadata": {},
   "outputs": [],
   "source": [
    "com_bond_n30ace = np.zeros(shape=(1,5000))\n",
    "count = 0\n",
    "for ts in n30_plga_ace.trajectory[0:5000]:\n",
    "    n30_mon1 = n30_plga_ace.select_atoms(\"resid 1\")\n",
    "    n30_mon2 = n30_plga_ace.select_atoms(\"resid 2\")\n",
    "    oo_len = mda.analysis.distances.distance_array(n30_mon1.center_of_mass(), n30_mon2.center_of_mass(), \n",
    "                                                   box=n30_plga_ace.trajectory.ts.dimensions)\n",
    "    com_bond_n30ace[0, count] = oo_len\n",
    "    count += 1\n",
    "lb_avg_n30ace = np.mean(com_bond_n30ace)"
   ]
  },
  {
   "cell_type": "code",
   "execution_count": 337,
   "metadata": {},
   "outputs": [
    {
     "data": {
      "text/plain": [
       "6.011313163610001"
      ]
     },
     "execution_count": 337,
     "metadata": {},
     "output_type": "execute_result"
    }
   ],
   "source": [
    "lb_avg_n30ace"
   ]
  },
  {
   "cell_type": "code",
   "execution_count": null,
   "metadata": {},
   "outputs": [],
   "source": [
    "plt.scatter(np.arange(5000),com_bond_n6ace)\n",
    "plt.scatter(np.arange(5000),com_bond_n8ace)\n",
    "plt.scatter(np.arange(5000),com_bond_n10ace)\n",
    "plt.scatter(np.arange(5000),com_bond_n20ace)\n",
    "plt.scatter(np.arange(5000),com_bond_n30ace)"
   ]
  },
  {
   "cell_type": "code",
   "execution_count": null,
   "metadata": {},
   "outputs": [],
   "source": [
    "n30_blks_ace = bavg_pers_cnt(5, poly_n30_ace, n30_plga_ace, lb_avg_n6ace, 0 , 15000)"
   ]
  },
  {
   "cell_type": "code",
   "execution_count": null,
   "metadata": {},
   "outputs": [],
   "source": [
    "n30_blks_ace[\"Avg persistence length\"]"
   ]
  },
  {
   "cell_type": "code",
   "execution_count": null,
   "metadata": {},
   "outputs": [],
   "source": [
    "n30_blks_ace[\"Avg Radius of gyration\"]"
   ]
  },
  {
   "cell_type": "code",
   "execution_count": null,
   "metadata": {},
   "outputs": [],
   "source": [
    "np.mean(n30_blks_ace[\"Avg persistence length\"])"
   ]
  },
  {
   "cell_type": "code",
   "execution_count": null,
   "metadata": {},
   "outputs": [],
   "source": [
    "np.std(n30_blks_ace[\"Avg persistence length\"])"
   ]
  },
  {
   "cell_type": "code",
   "execution_count": null,
   "metadata": {},
   "outputs": [],
   "source": [
    "np.mean(n30_blks_ace[\"Avg Radius of gyration\"])"
   ]
  },
  {
   "cell_type": "code",
   "execution_count": null,
   "metadata": {},
   "outputs": [],
   "source": [
    "np.std(n30_blks_ace[\"Avg Radius of gyration\"])"
   ]
  },
  {
   "cell_type": "code",
   "execution_count": 338,
   "metadata": {},
   "outputs": [],
   "source": [
    "n30_rgens_ace, cor_n30ace_mat, N30aceens_cos, rg_avgn30ace = get_rg_pers_poly(poly_n30_ace, n30_plga_ace, 0, 15000, \n",
    "                                                                        lb_avg_n6ace)"
   ]
  },
  {
   "cell_type": "code",
   "execution_count": 339,
   "metadata": {},
   "outputs": [
    {
     "data": {
      "text/plain": [
       "array([[1.00000000e+00, 8.71294010e-01, 7.06134976e-01, 5.99381586e-01,\n",
       "        5.35586775e-01, 4.73549814e-01, 4.17991967e-01, 3.80873979e-01,\n",
       "        3.44249905e-01, 3.09969570e-01, 2.85057193e-01, 2.73219755e-01,\n",
       "        2.66372457e-01, 2.49442172e-01, 2.34858882e-01, 2.20610138e-01,\n",
       "        2.14438998e-01, 2.05682755e-01, 1.98806945e-01, 2.00681999e-01,\n",
       "        2.26712522e-01, 2.42520121e-01, 2.39386469e-01, 2.35735962e-01,\n",
       "        2.43340634e-01, 2.48875166e-01, 2.50217081e-01, 2.54867572e-01,\n",
       "        2.51094145e-01],\n",
       "       [2.71947991e-18, 2.67446250e-02, 6.67421245e-02, 7.85449267e-02,\n",
       "        8.65089197e-02, 9.56257687e-02, 1.06346496e-01, 1.23825901e-01,\n",
       "        1.29451685e-01, 1.33242677e-01, 1.43575210e-01, 1.62935701e-01,\n",
       "        1.83308308e-01, 2.07934303e-01, 2.29477630e-01, 2.46889997e-01,\n",
       "        2.60740099e-01, 2.77089357e-01, 2.96000748e-01, 3.05038316e-01,\n",
       "        3.04161746e-01, 3.11958901e-01, 3.20116525e-01, 3.30260473e-01,\n",
       "        3.55755605e-01, 3.84048645e-01, 4.19796330e-01, 4.77161702e-01,\n",
       "        5.48383410e-01],\n",
       "       [0.00000000e+00, 2.92371746e+01, 4.48166713e+01, 5.29641267e+01,\n",
       "        5.74227399e+01, 6.15473647e+01, 6.51081961e+01, 6.73975503e+01,\n",
       "        6.96633894e+01, 7.17640890e+01, 7.32574130e+01, 7.39267042e+01,\n",
       "        7.42891792e+01, 7.52486108e+01, 7.60456468e+01, 7.68267799e+01,\n",
       "        7.71266509e+01, 7.75929367e+01, 7.79424218e+01, 7.78102752e+01,\n",
       "        7.62501171e+01, 7.52045624e+01, 7.53667801e+01, 7.55808975e+01,\n",
       "        7.49703761e+01, 7.43810763e+01, 7.41311598e+01, 7.34590409e+01,\n",
       "        7.28463879e+01],\n",
       "       [1.00000000e+00, 2.00000000e+00, 3.00000000e+00, 4.00000000e+00,\n",
       "        5.00000000e+00, 6.00000000e+00, 7.00000000e+00, 8.00000000e+00,\n",
       "        9.00000000e+00, 1.00000000e+01, 1.10000000e+01, 1.20000000e+01,\n",
       "        1.30000000e+01, 1.40000000e+01, 1.50000000e+01, 1.60000000e+01,\n",
       "        1.70000000e+01, 1.80000000e+01, 1.90000000e+01, 2.00000000e+01,\n",
       "        2.10000000e+01, 2.20000000e+01, 2.30000000e+01, 2.40000000e+01,\n",
       "        2.50000000e+01, 2.60000000e+01, 2.70000000e+01, 2.80000000e+01,\n",
       "        2.90000000e+01]])"
      ]
     },
     "execution_count": 339,
     "metadata": {},
     "output_type": "execute_result"
    }
   ],
   "source": [
    "cor_n30ace_mat"
   ]
  },
  {
   "cell_type": "code",
   "execution_count": 340,
   "metadata": {},
   "outputs": [
    {
     "data": {
      "text/plain": [
       "array([1.        , 0.87129401, 0.70613498, 0.59938159, 0.53558677,\n",
       "       0.47354981, 0.41799197, 0.38087398, 0.3442499 , 0.30996957,\n",
       "       0.28505719, 0.27321975, 0.26637246, 0.24944217, 0.23485888,\n",
       "       0.22061014, 0.214439  , 0.20568275, 0.19880694, 0.200682  ,\n",
       "       0.22671252, 0.24252012, 0.23938647, 0.23573596, 0.24334063,\n",
       "       0.24887517, 0.25021708, 0.25486757, 0.25109415])"
      ]
     },
     "execution_count": 340,
     "metadata": {},
     "output_type": "execute_result"
    }
   ],
   "source": [
    "cor_n30ace_mat[0]"
   ]
  },
  {
   "cell_type": "code",
   "execution_count": 341,
   "metadata": {},
   "outputs": [
    {
     "data": {
      "text/plain": [
       "array([  0.        ,   5.98655114,  11.97310228,  17.95965343,\n",
       "        23.94620457,  29.93275571,  35.91930685,  41.905858  ,\n",
       "        47.89240914,  53.87896028,  59.86551142,  65.85206257,\n",
       "        71.83861371,  77.82516485,  83.81171599,  89.79826713,\n",
       "        95.78481828, 101.77136942, 107.75792056, 113.7444717 ,\n",
       "       119.73102285, 125.71757399, 131.70412513, 137.69067627,\n",
       "       143.67722742, 149.66377856, 155.6503297 , 161.63688084,\n",
       "       167.62343199])"
      ]
     },
     "execution_count": 341,
     "metadata": {},
     "output_type": "execute_result"
    }
   ],
   "source": [
    "# x values\n",
    "ace_ttn30 = np.arange(29, dtype=float)\n",
    "ace_ttn30 *= lb_avg_n6ace\n",
    "#nt_ttn20[0] = 0\n",
    "ace_ttn30"
   ]
  },
  {
   "cell_type": "code",
   "execution_count": 342,
   "metadata": {},
   "outputs": [
    {
     "data": {
      "text/plain": [
       "50.97364620104615"
      ]
     },
     "execution_count": 342,
     "metadata": {},
     "output_type": "execute_result"
    }
   ],
   "source": [
    "# Sample standard deviation of Bond Length x values \n",
    "np.sqrt((np.sum(ace_ttn30**2) - ((np.sum(ace_ttn30)**2)/29))/28)"
   ]
  },
  {
   "cell_type": "code",
   "execution_count": 343,
   "metadata": {},
   "outputs": [
    {
     "data": {
      "text/plain": [
       "2598.312607029427"
      ]
     },
     "execution_count": 343,
     "metadata": {},
     "output_type": "execute_result"
    }
   ],
   "source": [
    "# Sample variance of Bond Length x values \n",
    "n30sace_var = (np.sum(ace_ttn30**2) - ((np.sum(ace_ttn30)**2)/29))/28\n",
    "n30sace_var"
   ]
  },
  {
   "cell_type": "code",
   "execution_count": 344,
   "metadata": {},
   "outputs": [
    {
     "data": {
      "text/plain": [
       "array([ 0.        , -0.1377758 , -0.34794888, -0.51185685, -0.62439236,\n",
       "       -0.74749817, -0.87229306, -0.96528672, -1.06638742, -1.17128115,\n",
       "       -1.25506544, -1.29747885, -1.32285973, -1.38852817, -1.44877045,\n",
       "       -1.51135822, -1.53972997, -1.58142032, -1.61542105, -1.60603372,\n",
       "       -1.48407249, -1.4166706 , -1.42967601, -1.4450429 , -1.41329303,\n",
       "       -1.39080385, -1.38542641, -1.36701119, -1.38192733])"
      ]
     },
     "execution_count": 344,
     "metadata": {},
     "output_type": "execute_result"
    }
   ],
   "source": [
    "# y values\n",
    "n30lc_ace = np.log(cor_n30ace_mat[0])\n",
    "n30lc_ace"
   ]
  },
  {
   "cell_type": "code",
   "execution_count": 345,
   "metadata": {},
   "outputs": [],
   "source": [
    "mk_n30ace = cor_n30ace_mat[1]/cor_n30ace_mat[0]"
   ]
  },
  {
   "cell_type": "code",
   "execution_count": 346,
   "metadata": {},
   "outputs": [
    {
     "data": {
      "text/plain": [
       "<ErrorbarContainer object of 3 artists>"
      ]
     },
     "execution_count": 346,
     "metadata": {},
     "output_type": "execute_result"
    },
    {
     "data": {
      "image/png": "[encoded data removed]",
      "text/plain": [
       "<Figure size 504x504 with 1 Axes>"
      ]
     },
     "metadata": {
      "needs_background": "light"
     },
     "output_type": "display_data"
    }
   ],
   "source": [
    "plt.figure(figsize=(7,7))\n",
    "plt.errorbar(ace_ttn30, np.log(cor_n30ace_mat[0]), yerr=mk_n30ace, color='b', linestyle=\"None\",marker='o',\n",
    "     capsize=5, capthick=1, ecolor='black')"
   ]
  },
  {
   "cell_type": "code",
   "execution_count": 347,
   "metadata": {},
   "outputs": [
    {
     "data": {
      "text/plain": [
       "array([ 0.        ,  5.98655114, 11.97310228, 17.95965343, 23.94620457,\n",
       "       29.93275571, 35.91930685, 41.905858  ])"
      ]
     },
     "execution_count": 347,
     "metadata": {},
     "output_type": "execute_result"
    }
   ],
   "source": [
    "ace_ttn30[:8]"
   ]
  },
  {
   "cell_type": "code",
   "execution_count": 348,
   "metadata": {},
   "outputs": [
    {
     "name": "stdout",
     "output_type": "stream",
     "text": [
      "Model slope:     [-0.02540137]\n",
      "Model intercept: 0.0\n"
     ]
    }
   ],
   "source": [
    "from sklearn.linear_model import LinearRegression\n",
    "model_n30ace = LinearRegression(fit_intercept=False)\n",
    "model_n30ace.fit(ace_ttn30[:7].reshape(-1,1), n30lc_ace[:7])\n",
    "# Slope here is in angstroms\n",
    "print(\"Model slope:    \", model_n30ace.coef_)\n",
    "print(\"Model intercept:\", model_n30ace.intercept_)"
   ]
  },
  {
   "cell_type": "code",
   "execution_count": 349,
   "metadata": {},
   "outputs": [
    {
     "data": {
      "text/plain": [
       "array([ 0.        , -0.15206662, -0.30413325, -0.45619987, -0.60826649,\n",
       "       -0.76033312, -0.91239974, -1.06446636, -1.21653299, -1.36859961,\n",
       "       -1.52066624, -1.67273286, -1.82479948, -1.97686611, -2.12893273,\n",
       "       -2.28099935, -2.43306598, -2.5851326 , -2.73719922, -2.88926585,\n",
       "       -3.04133247, -3.19339909, -3.34546572, -3.49753234, -3.64959897,\n",
       "       -3.80166559, -3.95373221, -4.10579884, -4.25786546])"
      ]
     },
     "execution_count": 349,
     "metadata": {},
     "output_type": "execute_result"
    }
   ],
   "source": [
    "gg_n30ace = model_n30ace.predict(ace_ttn30.reshape(-1,1))\n",
    "gg_n30ace"
   ]
  },
  {
   "cell_type": "code",
   "execution_count": 350,
   "metadata": {},
   "outputs": [
    {
     "name": "stdout",
     "output_type": "stream",
     "text": [
      "Mean Std Error: 0.0010364372453502374\n",
      "R2 score: 0.9881117385436515\n"
     ]
    }
   ],
   "source": [
    "print(\"Mean Std Error:\", sklearn.metrics.mean_squared_error(n30lc_ace[:7],\n",
    "                                                            model_n30ace.predict(ace_ttn30[:7].reshape(-1,1))))\n",
    "print(\"R2 score:\", sklearn.metrics.r2_score(n30lc_ace[:7], \n",
    "                                            model_n30ace.predict(ace_ttn30[:7].reshape(-1,1))))"
   ]
  },
  {
   "cell_type": "code",
   "execution_count": 351,
   "metadata": {},
   "outputs": [
    {
     "data": {
      "text/plain": [
       "array([ 0.        ,  0.01429082, -0.04381563, -0.05565697, -0.01612586,\n",
       "        0.01283495,  0.04010668])"
      ]
     },
     "execution_count": 351,
     "metadata": {},
     "output_type": "execute_result"
    }
   ],
   "source": [
    "# Residuals between the true y data and model y data \n",
    "resid_n30ace = n30lc_ace[:7] - gg_n30ace[:7]\n",
    "resid_n30ace"
   ]
  },
  {
   "cell_type": "code",
   "execution_count": 352,
   "metadata": {},
   "outputs": [
    {
     "data": {
      "text/plain": [
       "0.0010364372453502374"
      ]
     },
     "execution_count": 352,
     "metadata": {},
     "output_type": "execute_result"
    }
   ],
   "source": [
    "# How to calculate mean squared error\n",
    "np.sum(resid_n30ace**2)/len(resid_n30ace)"
   ]
  },
  {
   "cell_type": "code",
   "execution_count": 353,
   "metadata": {},
   "outputs": [
    {
     "data": {
      "text/plain": [
       "0.03219374543836485"
      ]
     },
     "execution_count": 353,
     "metadata": {},
     "output_type": "execute_result"
    }
   ],
   "source": [
    "# Standard error: Square root of the mean squared error \n",
    "np.sqrt(np.sum(resid_n30ace**2)/len(resid_n30ace))"
   ]
  },
  {
   "cell_type": "code",
   "execution_count": 354,
   "metadata": {},
   "outputs": [
    {
     "data": {
      "text/plain": [
       "0.0011534798359988483"
      ]
     },
     "execution_count": 354,
     "metadata": {},
     "output_type": "execute_result"
    }
   ],
   "source": [
    "# sample variance of the residuals \n",
    "ntr_n30ace = resid_n30ace\n",
    "ntr_n30ace -= np.mean(resid_n30ace)\n",
    "nhr_n30ace = ntr_n30ace**2\n",
    "# divide by n-1 samples used to fit \n",
    "np.sum(nhr_n30ace)/6"
   ]
  },
  {
   "cell_type": "code",
   "execution_count": 355,
   "metadata": {},
   "outputs": [
    {
     "data": {
      "text/plain": [
       "1003.4862482320556"
      ]
     },
     "execution_count": 355,
     "metadata": {},
     "output_type": "execute_result"
    }
   ],
   "source": [
    "# How to calculate Sum((Xi - avg(X))^2): X values are the bond length values \n",
    "nt_n30ace = np.arange(7, dtype=float)\n",
    "nt_n30ace *= lb_avg_n6ace\n",
    "nt_n30ace -= np.mean(nt_n30ace)\n",
    "nhui = nt_n30ace**2\n",
    "np.sum(nhui)"
   ]
  },
  {
   "cell_type": "code",
   "execution_count": 356,
   "metadata": {},
   "outputs": [
    {
     "data": {
      "text/plain": [
       "0.0027559097243471534"
      ]
     },
     "execution_count": 356,
     "metadata": {},
     "output_type": "execute_result"
    }
   ],
   "source": [
    "# How to calculate 95% confidence interval for the slope \n",
    "flc_n30ace = scipy.stats.t.ppf(0.975, 4)*np.sqrt((np.sum(resid_n30ace**2)/len(resid_n30ace))/(np.sum(nhui)))\n",
    "flc_n30ace"
   ]
  },
  {
   "cell_type": "code",
   "execution_count": 357,
   "metadata": {},
   "outputs": [
    {
     "data": {
      "text/plain": [
       "array([39.3679494])"
      ]
     },
     "execution_count": 357,
     "metadata": {},
     "output_type": "execute_result"
    }
   ],
   "source": [
    "pers_n30ace =-1/model_n30ace.coef_\n",
    "pers_n30ace"
   ]
  },
  {
   "cell_type": "code",
   "execution_count": 358,
   "metadata": {},
   "outputs": [
    {
     "data": {
      "text/plain": [
       "array([4.27120656])"
      ]
     },
     "execution_count": 358,
     "metadata": {},
     "output_type": "execute_result"
    }
   ],
   "source": [
    "# Pers length error: error propagation from uncertainty in slope \n",
    "flc_n30ace/((model_n30ace.coef_)**2)"
   ]
  },
  {
   "cell_type": "code",
   "execution_count": 359,
   "metadata": {},
   "outputs": [
    {
     "data": {
      "text/plain": [
       "array([  0.        ,   5.98655114,  11.97310228,  17.95965343,\n",
       "        23.94620457,  29.93275571,  35.91930685,  41.905858  ,\n",
       "        47.89240914,  53.87896028,  59.86551142,  65.85206257,\n",
       "        71.83861371,  77.82516485,  83.81171599,  89.79826713,\n",
       "        95.78481828, 101.77136942, 107.75792056])"
      ]
     },
     "execution_count": 359,
     "metadata": {},
     "output_type": "execute_result"
    }
   ],
   "source": [
    "def slope_plen(x,m):\n",
    "    return m*x\n",
    "\n",
    "ttsam = np.arange(19, dtype=float)\n",
    "ttsam *= lb_avg_n6ace\n",
    "#nt_ttn10[0] = 0\n",
    "ttsam"
   ]
  },
  {
   "cell_type": "code",
   "execution_count": 360,
   "metadata": {},
   "outputs": [
    {
     "data": {
      "text/plain": [
       "Text(5, 0, 'R$^{2}$ = 0.99')"
      ]
     },
     "execution_count": 360,
     "metadata": {},
     "output_type": "execute_result"
    },
    {
     "data": {
      "image/png": "[encoded data removed]",
      "text/plain": [
       "<Figure size 504x504 with 1 Axes>"
      ]
     },
     "metadata": {
      "needs_background": "light"
     },
     "output_type": "display_data"
    }
   ],
   "source": [
    "plt.figure(figsize=(7,7))\n",
    "plt.errorbar(ace_ttn30, np.log(cor_n30ace_mat[0]), yerr=mk_n30ace, color='b',\n",
    "             linestyle=\"None\",marker='o',capsize=5, capthick=1, ecolor='black')\n",
    "plt.plot(ttsam, slope_plen(ttsam, model_n30ace.coef_[0]), color='b')\n",
    "plt.title(r'Ensemble Averaged ln(Cosine $\\theta$) in pure acetone', fontsize=15, y=1.01)\n",
    "plt.xlabel(r'Bond Length', fontsize=15)\n",
    "plt.ylabel(r'ln$\\left< Cos(\\theta)\\right >$', fontsize=15)\n",
    "#plt.ylim(-1.9,0)\n",
    "font = font_manager.FontProperties(family='Arial', style='normal', size='14')\n",
    "plt.legend([r'$N_{PLGA}$ = 30: $L_{p}$ = 39.4 $\\AA$ ± 4.3 $\\AA$'], loc=3, frameon=0, fontsize=14, prop=font)\n",
    "plt.tick_params(labelsize=14)\n",
    "plt.text(5,0,r'R$^{2}$ = 0.99', fontsize=15, color='blue')"
   ]
  },
  {
   "cell_type": "code",
   "execution_count": 361,
   "metadata": {},
   "outputs": [
    {
     "data": {
      "text/plain": [
       "Text(1, -3.85, '$N_{PLGA}$ = 6: $L_{p}$ = 41.6 $\\\\AA$ ± 5.7 $\\\\AA$, R$^{2}$ = 0.99')"
      ]
     },
     "execution_count": 361,
     "metadata": {},
     "output_type": "execute_result"
    },
    {
     "data": {
      "image/png": "[encoded data removed]",
      "text/plain": [
       "<Figure size 504x504 with 1 Axes>"
      ]
     },
     "metadata": {
      "needs_background": "light"
     },
     "output_type": "display_data"
    }
   ],
   "source": [
    "plt.figure(figsize=(7,7))\n",
    "plt.errorbar(ace_ttn30, np.log(cor_n30ace_mat[0]), yerr=mk_n30ace, color='b', linestyle=\"None\",marker='h',\n",
    "     capsize=5, capthick=1, ecolor='black')\n",
    "plt.plot(ttsam, slope_plen(ttsam, model_n30ace.coef_[0]), color='b')\n",
    "plt.errorbar(ace_ttn20, np.log(cor_n20ace_mat[0]), yerr=mk_n20ace, color='g', linestyle=\"None\"\n",
    "             ,marker='*',capsize=5, capthick=1, ecolor='black')\n",
    "plt.plot(ttsam, slope_plen(ttsam, model_n20ace.coef_[0]), color='g')\n",
    "plt.errorbar(ace_ttn10, np.log(cor_n10ace_mat[0]), yerr=mk_n10ace, color='r', linestyle=\"None\"\n",
    "             ,marker='v', capsize=5, capthick=1, ecolor='black')\n",
    "plt.plot(ttsam, slope_plen(ttsam, model_n10ace.coef_[0]), color='r')\n",
    "plt.errorbar(ace_ttn8, np.log(cor_n8ace_mat[0]), yerr=mk_n8ace, color='k', linestyle=\"None\",marker='s',\n",
    "     capsize=5, capthick=1, ecolor='black')\n",
    "plt.plot(ttsam, slope_plen(ttsam, model_n8ace.coef_[0]), color='k')\n",
    "plt.errorbar(ace_ttn6, np.log(cor_n6ace_mat[0]), yerr=mk_n6ace, color='c', linestyle=\"None\",marker='x',\n",
    "     capsize=5, capthick=1, ecolor='black')\n",
    "plt.plot(ttsam, slope_plen(ttsam, model_n6ace.coef_[0]), color='m')\n",
    "plt.title(r'Ensemble Averaged ln(Cosine $\\theta$): Pure acetone', fontsize=15, y=1.01)\n",
    "plt.xlabel(r'Bond Length', fontsize=15)\n",
    "plt.ylabel(r'ln$\\left< Cos(\\theta)\\right >$', fontsize=15)\n",
    "plt.ylim(-5, 1)\n",
    "plt.xlim(0,70)\n",
    "font = font_manager.FontProperties(family='Arial', style='normal', size='14')\n",
    "#plt.legend([r'$N_{PLGA}$ = 30: $L_{p}$ = 18.5 $\\AA$ ± 0.15 $\\AA$,  R$^{2}$ = 0.99', r'$N_{PLGA}$ = 20: $L_{p}$ = 19.1 $\\AA$ ± 0.27 $\\AA$,  R$^{2}$ = 0.99'], \n",
    "#           loc=3, frameon=0, fontsize=14, prop=font)\n",
    "#plt.legend([r'$N_{PLGA}$ = 20: $L_{p}$ = 19.1 $\\AA$ ± 0.27 $\\AA$,  R$^{2}$ = 0.99'], loc=3, frameon=0, fontsize=14, prop=font)\n",
    "plt.tick_params(labelsize=14)\n",
    "plt.text(1, -4.9,r'$N_{PLGA}$ = 30: $L_{p}$ = 39.4 $\\AA$ ± 4.3 $\\AA$, R$^{2}$ = 0.99', fontsize=14, color='blue')\n",
    "plt.text(1,-4.65,r'$N_{PLGA}$ = 20: $L_{p}$ = 45.6 $\\AA$ ± 3.6 $\\AA$, R$^{2}$ = 0.99', fontsize=14, color='green')\n",
    "plt.text(1,-4.38,r'$N_{PLGA}$ = 10: $L_{p}$ = 40.7 $\\AA$ ± 2.6 $\\AA$, R$^{2}$ = 0.99', fontsize=14, color='red')\n",
    "plt.text(1,-4.12,r'$N_{PLGA}$ = 8: $L_{p}$ = 39.3 $\\AA$ ± 5.9 $\\AA$, R$^{2}$ = 0.98', fontsize=14, color='black')\n",
    "plt.text(1,-3.85,r'$N_{PLGA}$ = 6: $L_{p}$ = 41.6 $\\AA$ ± 5.7 $\\AA$, R$^{2}$ = 0.99', fontsize=14, color='magenta')\n",
    "#plt.text(2.5,0,r'R$^{2}$ = 0.96', fontsize=15, color='red')"
   ]
  },
  {
   "cell_type": "code",
   "execution_count": null,
   "metadata": {},
   "outputs": [],
   "source": [
    "def exfun(x, a):\n",
    "    return np.exp(-x*lb_avg_n6ace/a)\n",
    "\n",
    "nt = np.arange(29)\n",
    "plt.scatter(nt, cor_n30ace_mat[0,:])\n",
    "plt.plot(nt,exfun(nt, pers_n30ace))"
   ]
  },
  {
   "cell_type": "code",
   "execution_count": null,
   "metadata": {},
   "outputs": [],
   "source": []
  }
 ],
 "metadata": {
  "kernelspec": {
   "display_name": "Python (ppc_env)",
   "language": "python",
   "name": "ppc_env"
  },
  "language_info": {
   "codemirror_mode": {
    "name": "ipython",
    "version": 3
   },
   "file_extension": ".py",
   "mimetype": "text/x-python",
   "name": "python",
   "nbconvert_exporter": "python",
   "pygments_lexer": "ipython3",
   "version": "3.6.8"
  }
 },
 "nbformat": 4,
 "nbformat_minor": 2
}
