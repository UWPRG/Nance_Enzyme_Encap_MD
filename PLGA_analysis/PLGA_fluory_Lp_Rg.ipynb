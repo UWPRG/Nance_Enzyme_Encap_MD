{
 "cells": [
  {
   "cell_type": "code",
   "execution_count": 1,
   "metadata": {},
   "outputs": [],
   "source": [
    "#import the necessary modules \n",
    "%matplotlib inline \n",
    "import numpy as np \n",
    "import matplotlib.pyplot as plt \n",
    "import pandas as pd \n",
    "import scipy\n",
    "import sklearn\n",
    "import itertools \n",
    "from itertools import cycle \n",
    "import os.path as op\n",
    "import timeit \n",
    "import json\n",
    "import math\n"
   ]
  },
  {
   "cell_type": "code",
   "execution_count": 2,
   "metadata": {},
   "outputs": [
    {
     "data": {
      "text/plain": [
       "4"
      ]
     },
     "execution_count": 2,
     "metadata": {},
     "output_type": "execute_result"
    }
   ],
   "source": [
    "import multiprocessing as m_proc\n",
    "m_proc.cpu_count()"
   ]
  },
  {
   "cell_type": "code",
   "execution_count": 3,
   "metadata": {},
   "outputs": [],
   "source": [
    "# Import MDAnalysis\n",
    "import MDAnalysis as mda\n",
    "import statsmodels as stats\n",
    "from MDAnalysis.analysis import polymer, distances, rdf\n",
    "import matplotlib.font_manager as font_manager"
   ]
  },
  {
   "cell_type": "code",
   "execution_count": 5,
   "metadata": {},
   "outputs": [],
   "source": [
    "#from polymer_MD_analysis import pers_length, get_rg_pers_poly, bavg_pers_cnt"
   ]
  },
  {
   "cell_type": "markdown",
   "metadata": {},
   "source": [
    "## PLGA/acetone only systems"
   ]
  },
  {
   "cell_type": "code",
   "execution_count": 6,
   "metadata": {},
   "outputs": [],
   "source": [
    "n_plga = np.array([6,8,10,20,30])"
   ]
  },
  {
   "cell_type": "code",
   "execution_count": 7,
   "metadata": {},
   "outputs": [
    {
     "data": {
      "text/html": [
       "<div>\n",
       "<style scoped>\n",
       "    .dataframe tbody tr th:only-of-type {\n",
       "        vertical-align: middle;\n",
       "    }\n",
       "\n",
       "    .dataframe tbody tr th {\n",
       "        vertical-align: top;\n",
       "    }\n",
       "\n",
       "    .dataframe thead th {\n",
       "        text-align: right;\n",
       "    }\n",
       "</style>\n",
       "<table border=\"1\" class=\"dataframe\">\n",
       "  <thead>\n",
       "    <tr style=\"text-align: right;\">\n",
       "      <th></th>\n",
       "      <th>$R_{g}$ [Angstrom] N = 6 PLGA in acetone</th>\n",
       "      <th>$R_{g}$ [Angstrom] N = 8 PLGA in acetone</th>\n",
       "      <th>$R_{g}$ [Angstrom] N = 10 PLGA in acetone</th>\n",
       "      <th>$R_{g}$ [Angstrom] N = 20 PLGA in acetone</th>\n",
       "      <th>$R_{g}$ [Angstrom] N = 30 PLGA in acetone</th>\n",
       "    </tr>\n",
       "  </thead>\n",
       "  <tbody>\n",
       "    <tr>\n",
       "      <td>0</td>\n",
       "      <td>7.576646</td>\n",
       "      <td>8.907113</td>\n",
       "      <td>9.104742</td>\n",
       "      <td>10.830813</td>\n",
       "      <td>18.948556</td>\n",
       "    </tr>\n",
       "    <tr>\n",
       "      <td>1</td>\n",
       "      <td>6.753936</td>\n",
       "      <td>8.576257</td>\n",
       "      <td>8.127979</td>\n",
       "      <td>12.961543</td>\n",
       "      <td>18.527358</td>\n",
       "    </tr>\n",
       "    <tr>\n",
       "      <td>2</td>\n",
       "      <td>7.838579</td>\n",
       "      <td>8.804313</td>\n",
       "      <td>10.582548</td>\n",
       "      <td>11.097781</td>\n",
       "      <td>13.956519</td>\n",
       "    </tr>\n",
       "    <tr>\n",
       "      <td>3</td>\n",
       "      <td>7.832589</td>\n",
       "      <td>9.653885</td>\n",
       "      <td>9.360085</td>\n",
       "      <td>10.533921</td>\n",
       "      <td>20.300616</td>\n",
       "    </tr>\n",
       "    <tr>\n",
       "      <td>4</td>\n",
       "      <td>7.651865</td>\n",
       "      <td>8.757768</td>\n",
       "      <td>10.127167</td>\n",
       "      <td>15.744390</td>\n",
       "      <td>15.926142</td>\n",
       "    </tr>\n",
       "  </tbody>\n",
       "</table>\n",
       "</div>"
      ],
      "text/plain": [
       "   $R_{g}$ [Angstrom] N = 6 PLGA in acetone  \\\n",
       "0                                  7.576646   \n",
       "1                                  6.753936   \n",
       "2                                  7.838579   \n",
       "3                                  7.832589   \n",
       "4                                  7.651865   \n",
       "\n",
       "   $R_{g}$ [Angstrom] N = 8 PLGA in acetone  \\\n",
       "0                                  8.907113   \n",
       "1                                  8.576257   \n",
       "2                                  8.804313   \n",
       "3                                  9.653885   \n",
       "4                                  8.757768   \n",
       "\n",
       "   $R_{g}$ [Angstrom] N = 10 PLGA in acetone  \\\n",
       "0                                   9.104742   \n",
       "1                                   8.127979   \n",
       "2                                  10.582548   \n",
       "3                                   9.360085   \n",
       "4                                  10.127167   \n",
       "\n",
       "   $R_{g}$ [Angstrom] N = 20 PLGA in acetone  \\\n",
       "0                                  10.830813   \n",
       "1                                  12.961543   \n",
       "2                                  11.097781   \n",
       "3                                  10.533921   \n",
       "4                                  15.744390   \n",
       "\n",
       "   $R_{g}$ [Angstrom] N = 30 PLGA in acetone  \n",
       "0                                  18.948556  \n",
       "1                                  18.527358  \n",
       "2                                  13.956519  \n",
       "3                                  20.300616  \n",
       "4                                  15.926142  "
      ]
     },
     "execution_count": 7,
     "metadata": {},
     "output_type": "execute_result"
    }
   ],
   "source": [
    "# Load dataframe from pickled pandas object\n",
    "rgace_nplga = pd.read_pickle(\"plga_ace/PLGA_ace_Rg.pkl\")\n",
    "rgace_nplga"
   ]
  },
  {
   "cell_type": "code",
   "execution_count": 8,
   "metadata": {},
   "outputs": [
    {
     "data": {
      "text/html": [
       "<div>\n",
       "<style scoped>\n",
       "    .dataframe tbody tr th:only-of-type {\n",
       "        vertical-align: middle;\n",
       "    }\n",
       "\n",
       "    .dataframe tbody tr th {\n",
       "        vertical-align: top;\n",
       "    }\n",
       "\n",
       "    .dataframe thead th {\n",
       "        text-align: right;\n",
       "    }\n",
       "</style>\n",
       "<table border=\"1\" class=\"dataframe\">\n",
       "  <thead>\n",
       "    <tr style=\"text-align: right;\">\n",
       "      <th></th>\n",
       "      <th>$L_{p}$ [Angstrom] N = 6 PLGA in acetone</th>\n",
       "      <th>$L_{p}$ [Angstrom] N = 8 PLGA in acetone</th>\n",
       "      <th>$L_{p}$ [Angstrom] N = 10 PLGA in acetone</th>\n",
       "      <th>$L_{p}$ [Angstrom] N = 20 PLGA in acetone</th>\n",
       "      <th>$L_{p}$ [Angstrom] N = 30 PLGA in acetone</th>\n",
       "    </tr>\n",
       "  </thead>\n",
       "  <tbody>\n",
       "    <tr>\n",
       "      <td>0</td>\n",
       "      <td>36.375316</td>\n",
       "      <td>29.631153</td>\n",
       "      <td>22.968325</td>\n",
       "      <td>27.840359</td>\n",
       "      <td>32.842412</td>\n",
       "    </tr>\n",
       "    <tr>\n",
       "      <td>1</td>\n",
       "      <td>21.461862</td>\n",
       "      <td>27.133883</td>\n",
       "      <td>19.803589</td>\n",
       "      <td>23.288585</td>\n",
       "      <td>31.764539</td>\n",
       "    </tr>\n",
       "    <tr>\n",
       "      <td>2</td>\n",
       "      <td>36.294907</td>\n",
       "      <td>29.235818</td>\n",
       "      <td>30.972716</td>\n",
       "      <td>28.614785</td>\n",
       "      <td>26.666439</td>\n",
       "    </tr>\n",
       "    <tr>\n",
       "      <td>3</td>\n",
       "      <td>36.473693</td>\n",
       "      <td>38.305865</td>\n",
       "      <td>20.112041</td>\n",
       "      <td>24.783605</td>\n",
       "      <td>30.388589</td>\n",
       "    </tr>\n",
       "    <tr>\n",
       "      <td>4</td>\n",
       "      <td>34.108783</td>\n",
       "      <td>25.473421</td>\n",
       "      <td>30.537220</td>\n",
       "      <td>33.021845</td>\n",
       "      <td>32.989316</td>\n",
       "    </tr>\n",
       "  </tbody>\n",
       "</table>\n",
       "</div>"
      ],
      "text/plain": [
       "   $L_{p}$ [Angstrom] N = 6 PLGA in acetone  \\\n",
       "0                                 36.375316   \n",
       "1                                 21.461862   \n",
       "2                                 36.294907   \n",
       "3                                 36.473693   \n",
       "4                                 34.108783   \n",
       "\n",
       "   $L_{p}$ [Angstrom] N = 8 PLGA in acetone  \\\n",
       "0                                 29.631153   \n",
       "1                                 27.133883   \n",
       "2                                 29.235818   \n",
       "3                                 38.305865   \n",
       "4                                 25.473421   \n",
       "\n",
       "   $L_{p}$ [Angstrom] N = 10 PLGA in acetone  \\\n",
       "0                                  22.968325   \n",
       "1                                  19.803589   \n",
       "2                                  30.972716   \n",
       "3                                  20.112041   \n",
       "4                                  30.537220   \n",
       "\n",
       "   $L_{p}$ [Angstrom] N = 20 PLGA in acetone  \\\n",
       "0                                  27.840359   \n",
       "1                                  23.288585   \n",
       "2                                  28.614785   \n",
       "3                                  24.783605   \n",
       "4                                  33.021845   \n",
       "\n",
       "   $L_{p}$ [Angstrom] N = 30 PLGA in acetone  \n",
       "0                                  32.842412  \n",
       "1                                  31.764539  \n",
       "2                                  26.666439  \n",
       "3                                  30.388589  \n",
       "4                                  32.989316  "
      ]
     },
     "execution_count": 8,
     "metadata": {},
     "output_type": "execute_result"
    }
   ],
   "source": [
    "lpace_plga = pd.read_pickle(\"plga_ace/PLGA_ace_Lp.pkl\")\n",
    "lpace_plga"
   ]
  },
  {
   "cell_type": "code",
   "execution_count": 11,
   "metadata": {},
   "outputs": [
    {
     "data": {
      "text/plain": [
       "0    36.375316\n",
       "1    21.461862\n",
       "2    36.294907\n",
       "3    36.473693\n",
       "4    34.108783\n",
       "Name: $L_{p}$ [Angstrom] N = 6 PLGA in acetone, dtype: float64"
      ]
     },
     "execution_count": 11,
     "metadata": {},
     "output_type": "execute_result"
    }
   ],
   "source": [
    "lpace_plga[r\"$L_{p}$ [Angstrom] N = 6 PLGA in acetone\"]"
   ]
  },
  {
   "cell_type": "code",
   "execution_count": 13,
   "metadata": {},
   "outputs": [
    {
     "data": {
      "text/plain": [
       "array([32.94291207, 29.95602799, 24.87877836, 27.5098358 , 30.930259  ])"
      ]
     },
     "execution_count": 13,
     "metadata": {},
     "output_type": "execute_result"
    }
   ],
   "source": [
    "lpace_avgplga = np.array([np.mean(lpace_plga[r\"$L_{p}$ [Angstrom] N = 6 PLGA in acetone\"])\n",
    "                      ,np.mean(lpace_plga[r\"$L_{p}$ [Angstrom] N = 8 PLGA in acetone\"])\n",
    "                     ,np.mean(lpace_plga[r\"$L_{p}$ [Angstrom] N = 10 PLGA in acetone\"])\n",
    "                     ,np.mean(lpace_plga[r\"$L_{p}$ [Angstrom] N = 20 PLGA in acetone\"])\n",
    "                     ,np.mean(lpace_plga[r\"$L_{p}$ [Angstrom] N = 30 PLGA in acetone\"])])\n",
    "lpace_avgplga"
   ]
  },
  {
   "cell_type": "code",
   "execution_count": 14,
   "metadata": {},
   "outputs": [
    {
     "data": {
      "text/plain": [
       "29.24356264404967"
      ]
     },
     "execution_count": 14,
     "metadata": {},
     "output_type": "execute_result"
    }
   ],
   "source": [
    "np.mean(lpace_avgplga)"
   ]
  },
  {
   "cell_type": "code",
   "execution_count": 15,
   "metadata": {},
   "outputs": [
    {
     "data": {
      "text/plain": [
       "2.7962434909226475"
      ]
     },
     "execution_count": 15,
     "metadata": {},
     "output_type": "execute_result"
    }
   ],
   "source": [
    "np.std(lpace_avgplga)"
   ]
  },
  {
   "cell_type": "code",
   "execution_count": 17,
   "metadata": {},
   "outputs": [
    {
     "data": {
      "text/plain": [
       "0    18.948556\n",
       "1    18.527358\n",
       "2    13.956519\n",
       "3    20.300616\n",
       "4    15.926142\n",
       "Name: $R_{g}$ [Angstrom] N = 30 PLGA in acetone, dtype: float64"
      ]
     },
     "execution_count": 17,
     "metadata": {},
     "output_type": "execute_result"
    }
   ],
   "source": [
    "rgace_nplga[r\"$R_{g}$ [Angstrom] N = 30 PLGA in acetone\"]"
   ]
  },
  {
   "cell_type": "code",
   "execution_count": 18,
   "metadata": {},
   "outputs": [
    {
     "data": {
      "text/plain": [
       "array([ 7.530723  ,  8.93986737,  9.46050424, 12.23368969, 17.53183812])"
      ]
     },
     "execution_count": 18,
     "metadata": {},
     "output_type": "execute_result"
    }
   ],
   "source": [
    "rgace_npavgplga = np.array([np.mean(rgace_nplga[r\"$R_{g}$ [Angstrom] N = 6 PLGA in acetone\"])\n",
    "                      ,np.mean(rgace_nplga[r\"$R_{g}$ [Angstrom] N = 8 PLGA in acetone\"])\n",
    "                     ,np.mean(rgace_nplga[r\"$R_{g}$ [Angstrom] N = 10 PLGA in acetone\"])\n",
    "                     ,np.mean(rgace_nplga[r\"$R_{g}$ [Angstrom] N = 20 PLGA in acetone\"])\n",
    "                     ,np.mean(rgace_nplga[r\"$R_{g}$ [Angstrom] N = 30 PLGA in acetone\"])])\n",
    "rgace_npavgplga"
   ]
  },
  {
   "cell_type": "code",
   "execution_count": 19,
   "metadata": {},
   "outputs": [
    {
     "data": {
      "text/plain": [
       "array([0.02401001, 0.01768961, 0.0396824 , 0.06529144, 0.05872998])"
      ]
     },
     "execution_count": 19,
     "metadata": {},
     "output_type": "execute_result"
    }
   ],
   "source": [
    "rgace_stdplga = np.array([np.std(np.log10(rgace_nplga[r\"$R_{g}$ [Angstrom] N = 6 PLGA in acetone\"]))\n",
    "                      ,np.std(np.log10(rgace_nplga[r\"$R_{g}$ [Angstrom] N = 8 PLGA in acetone\"]))\n",
    "                     ,np.std(np.log10(rgace_nplga[r\"$R_{g}$ [Angstrom] N = 10 PLGA in acetone\"]))\n",
    "                     ,np.std(np.log10(rgace_nplga[r\"$R_{g}$ [Angstrom] N = 20 PLGA in acetone\"]))\n",
    "                     ,np.std(np.log10(rgace_nplga[r\"$R_{g}$ [Angstrom] N = 30 PLGA in acetone\"]))])\n",
    "rgace_stdplga"
   ]
  },
  {
   "cell_type": "code",
   "execution_count": 20,
   "metadata": {},
   "outputs": [
    {
     "data": {
      "text/plain": [
       "array([0.77815125, 0.90308999, 1.        , 1.30103   , 1.47712125])"
      ]
     },
     "execution_count": 20,
     "metadata": {},
     "output_type": "execute_result"
    }
   ],
   "source": [
    "np.log10(n_plga)"
   ]
  },
  {
   "cell_type": "code",
   "execution_count": 22,
   "metadata": {},
   "outputs": [
    {
     "name": "stdout",
     "output_type": "stream",
     "text": [
      "Model slope:     0.48492332024858237\n",
      "Model intercept: 0.4976160428390297\n"
     ]
    }
   ],
   "source": [
    "# From fitting all points, I get best fit \n",
    "from sklearn.linear_model import LinearRegression\n",
    "model_vace = LinearRegression(fit_intercept=True)\n",
    "model_vace.fit(np.log10(n_plga).reshape(-1,1), np.log10(rgace_npavgplga))\n",
    "# Slope here is in nanometers\n",
    "print(\"Model slope:    \", model_vace.coef_[0])\n",
    "print(\"Model intercept:\", model_vace.intercept_)"
   ]
  },
  {
   "cell_type": "code",
   "execution_count": 23,
   "metadata": {},
   "outputs": [
    {
     "data": {
      "text/plain": [
       "array([0.87495973, 0.93554544, 0.98253936, 1.12851583, 1.21390659])"
      ]
     },
     "execution_count": 23,
     "metadata": {},
     "output_type": "execute_result"
    }
   ],
   "source": [
    "gg_pace = model_vace.predict(np.log10(n_plga.reshape(-1,1)))\n",
    "gg_pace"
   ]
  },
  {
   "cell_type": "code",
   "execution_count": 24,
   "metadata": {},
   "outputs": [
    {
     "name": "stdout",
     "output_type": "stream",
     "text": [
      "Mean Std Error: 0.0005738894120429104\n",
      "R2 score: 0.9648204922808041\n"
     ]
    }
   ],
   "source": [
    "print(\"Mean Std Error:\", sklearn.metrics.mean_squared_error(np.log10(rgace_npavgplga), gg_pace))\n",
    "print(\"R2 score:\", sklearn.metrics.r2_score(np.log10(rgace_npavgplga), gg_pace))"
   ]
  },
  {
   "cell_type": "code",
   "execution_count": 25,
   "metadata": {},
   "outputs": [
    {
     "data": {
      "text/plain": [
       "array([ 0.00187694,  0.01578564, -0.00662508, -0.04095837,  0.02992087])"
      ]
     },
     "execution_count": 25,
     "metadata": {},
     "output_type": "execute_result"
    }
   ],
   "source": [
    "# Residuals between the true y data and model y data \n",
    "resid_vace = np.log10(rgace_npavgplga) - gg_pace\n",
    "resid_vace"
   ]
  },
  {
   "cell_type": "code",
   "execution_count": 26,
   "metadata": {},
   "outputs": [
    {
     "data": {
      "text/plain": [
       "0.334663876760361"
      ]
     },
     "execution_count": 26,
     "metadata": {},
     "output_type": "execute_result"
    }
   ],
   "source": [
    "# How to calculate Sum((Xi - avg(X))^2): X values are the bond length values \n",
    "nt_ttace = np.log10(n_plga)\n",
    "nt_ttace -= np.mean(nt_ttace)\n",
    "nhui_ace = nt_ttace**2\n",
    "np.sum(nhui_ace)"
   ]
  },
  {
   "cell_type": "code",
   "execution_count": 27,
   "metadata": {},
   "outputs": [
    {
     "data": {
      "text/plain": [
       "2.7764451051977987"
      ]
     },
     "execution_count": 27,
     "metadata": {},
     "output_type": "execute_result"
    }
   ],
   "source": [
    "# t-value with 95 % confidence intervals \n",
    "scipy.stats.t.ppf(0.975, 4)"
   ]
  },
  {
   "cell_type": "code",
   "execution_count": 28,
   "metadata": {},
   "outputs": [
    {
     "data": {
      "text/plain": [
       "0.11497377168997712"
      ]
     },
     "execution_count": 28,
     "metadata": {},
     "output_type": "execute_result"
    }
   ],
   "source": [
    "# How to calculate 95% confidence interval for the slope \n",
    "flc_vace = scipy.stats.t.ppf(0.975, 4)*np.sqrt((np.sum(resid_vace**2)/len(resid_vace))/(np.sum(nhui_ace)))\n",
    "flc_vace"
   ]
  },
  {
   "cell_type": "markdown",
   "metadata": {},
   "source": [
    "## PLGA/DMSO only systems"
   ]
  },
  {
   "cell_type": "code",
   "execution_count": 29,
   "metadata": {},
   "outputs": [
    {
     "data": {
      "text/html": [
       "<div>\n",
       "<style scoped>\n",
       "    .dataframe tbody tr th:only-of-type {\n",
       "        vertical-align: middle;\n",
       "    }\n",
       "\n",
       "    .dataframe tbody tr th {\n",
       "        vertical-align: top;\n",
       "    }\n",
       "\n",
       "    .dataframe thead th {\n",
       "        text-align: right;\n",
       "    }\n",
       "</style>\n",
       "<table border=\"1\" class=\"dataframe\">\n",
       "  <thead>\n",
       "    <tr style=\"text-align: right;\">\n",
       "      <th></th>\n",
       "      <th>$R_{g}$ [Angstrom] N = 6 PLGA DMSO</th>\n",
       "      <th>$R_{g}$ [Angstrom] N = 8 PLGA DMSO</th>\n",
       "      <th>$R_{g}$ [Angstrom] N = 10 PLGA DMSO</th>\n",
       "      <th>$R_{g}$ [Angstrom] N = 20 PLGA DMSO</th>\n",
       "      <th>$R_{g}$ [Angstrom] N = 30 PLGA DMSO</th>\n",
       "    </tr>\n",
       "  </thead>\n",
       "  <tbody>\n",
       "    <tr>\n",
       "      <td>0</td>\n",
       "      <td>7.989397</td>\n",
       "      <td>8.970195</td>\n",
       "      <td>9.078778</td>\n",
       "      <td>17.854491</td>\n",
       "      <td>20.412072</td>\n",
       "    </tr>\n",
       "    <tr>\n",
       "      <td>1</td>\n",
       "      <td>6.970289</td>\n",
       "      <td>9.819166</td>\n",
       "      <td>9.652229</td>\n",
       "      <td>14.912217</td>\n",
       "      <td>20.478420</td>\n",
       "    </tr>\n",
       "    <tr>\n",
       "      <td>2</td>\n",
       "      <td>7.749726</td>\n",
       "      <td>8.293361</td>\n",
       "      <td>8.069390</td>\n",
       "      <td>12.895816</td>\n",
       "      <td>21.621419</td>\n",
       "    </tr>\n",
       "    <tr>\n",
       "      <td>3</td>\n",
       "      <td>7.566029</td>\n",
       "      <td>8.912474</td>\n",
       "      <td>10.535148</td>\n",
       "      <td>14.866219</td>\n",
       "      <td>22.747538</td>\n",
       "    </tr>\n",
       "    <tr>\n",
       "      <td>4</td>\n",
       "      <td>8.045482</td>\n",
       "      <td>7.766943</td>\n",
       "      <td>9.701611</td>\n",
       "      <td>15.963037</td>\n",
       "      <td>15.278738</td>\n",
       "    </tr>\n",
       "  </tbody>\n",
       "</table>\n",
       "</div>"
      ],
      "text/plain": [
       "   $R_{g}$ [Angstrom] N = 6 PLGA DMSO  $R_{g}$ [Angstrom] N = 8 PLGA DMSO  \\\n",
       "0                            7.989397                            8.970195   \n",
       "1                            6.970289                            9.819166   \n",
       "2                            7.749726                            8.293361   \n",
       "3                            7.566029                            8.912474   \n",
       "4                            8.045482                            7.766943   \n",
       "\n",
       "   $R_{g}$ [Angstrom] N = 10 PLGA DMSO  $R_{g}$ [Angstrom] N = 20 PLGA DMSO  \\\n",
       "0                             9.078778                            17.854491   \n",
       "1                             9.652229                            14.912217   \n",
       "2                             8.069390                            12.895816   \n",
       "3                            10.535148                            14.866219   \n",
       "4                             9.701611                            15.963037   \n",
       "\n",
       "   $R_{g}$ [Angstrom] N = 30 PLGA DMSO  \n",
       "0                            20.412072  \n",
       "1                            20.478420  \n",
       "2                            21.621419  \n",
       "3                            22.747538  \n",
       "4                            15.278738  "
      ]
     },
     "execution_count": 29,
     "metadata": {},
     "output_type": "execute_result"
    }
   ],
   "source": [
    "# Load dataframe from pickled pandas object\n",
    "rgdmso_nplga = pd.read_pickle(\"plga_dmso/PLGA_DMSO_Rg.pkl\")\n",
    "rgdmso_nplga"
   ]
  },
  {
   "cell_type": "code",
   "execution_count": 30,
   "metadata": {},
   "outputs": [
    {
     "data": {
      "text/html": [
       "<div>\n",
       "<style scoped>\n",
       "    .dataframe tbody tr th:only-of-type {\n",
       "        vertical-align: middle;\n",
       "    }\n",
       "\n",
       "    .dataframe tbody tr th {\n",
       "        vertical-align: top;\n",
       "    }\n",
       "\n",
       "    .dataframe thead th {\n",
       "        text-align: right;\n",
       "    }\n",
       "</style>\n",
       "<table border=\"1\" class=\"dataframe\">\n",
       "  <thead>\n",
       "    <tr style=\"text-align: right;\">\n",
       "      <th></th>\n",
       "      <th>$L_{p}$ [Angstrom] N = 6 PLGA DMSO</th>\n",
       "      <th>$L_{p}$ [Angstrom] N = 8 PLGA DMSO</th>\n",
       "      <th>$L_{p}$ [Angstrom] N = 10 PLGA DMSO</th>\n",
       "      <th>$L_{p}$ [Angstrom] N = 20 PLGA DMSO</th>\n",
       "      <th>$L_{p}$ [Angstrom] N = 30 PLGA DMSO</th>\n",
       "    </tr>\n",
       "  </thead>\n",
       "  <tbody>\n",
       "    <tr>\n",
       "      <td>0</td>\n",
       "      <td>41.431109</td>\n",
       "      <td>31.995460</td>\n",
       "      <td>25.066873</td>\n",
       "      <td>41.636495</td>\n",
       "      <td>29.759616</td>\n",
       "    </tr>\n",
       "    <tr>\n",
       "      <td>1</td>\n",
       "      <td>27.965706</td>\n",
       "      <td>39.314315</td>\n",
       "      <td>26.036077</td>\n",
       "      <td>37.140086</td>\n",
       "      <td>34.386353</td>\n",
       "    </tr>\n",
       "    <tr>\n",
       "      <td>2</td>\n",
       "      <td>36.288427</td>\n",
       "      <td>29.332022</td>\n",
       "      <td>23.352691</td>\n",
       "      <td>34.151658</td>\n",
       "      <td>39.609992</td>\n",
       "    </tr>\n",
       "    <tr>\n",
       "      <td>3</td>\n",
       "      <td>33.348272</td>\n",
       "      <td>31.320345</td>\n",
       "      <td>36.541487</td>\n",
       "      <td>28.798965</td>\n",
       "      <td>40.194975</td>\n",
       "    </tr>\n",
       "    <tr>\n",
       "      <td>4</td>\n",
       "      <td>48.152321</td>\n",
       "      <td>21.915798</td>\n",
       "      <td>29.157363</td>\n",
       "      <td>32.159310</td>\n",
       "      <td>34.058739</td>\n",
       "    </tr>\n",
       "  </tbody>\n",
       "</table>\n",
       "</div>"
      ],
      "text/plain": [
       "   $L_{p}$ [Angstrom] N = 6 PLGA DMSO   $L_{p}$ [Angstrom] N = 8 PLGA DMSO   \\\n",
       "0                            41.431109                            31.995460   \n",
       "1                            27.965706                            39.314315   \n",
       "2                            36.288427                            29.332022   \n",
       "3                            33.348272                            31.320345   \n",
       "4                            48.152321                            21.915798   \n",
       "\n",
       "   $L_{p}$ [Angstrom] N = 10 PLGA DMSO   $L_{p}$ [Angstrom] N = 20 PLGA DMSO   \\\n",
       "0                             25.066873                             41.636495   \n",
       "1                             26.036077                             37.140086   \n",
       "2                             23.352691                             34.151658   \n",
       "3                             36.541487                             28.798965   \n",
       "4                             29.157363                             32.159310   \n",
       "\n",
       "   $L_{p}$ [Angstrom] N = 30 PLGA DMSO   \n",
       "0                             29.759616  \n",
       "1                             34.386353  \n",
       "2                             39.609992  \n",
       "3                             40.194975  \n",
       "4                             34.058739  "
      ]
     },
     "execution_count": 30,
     "metadata": {},
     "output_type": "execute_result"
    }
   ],
   "source": [
    "lpdmso_plga = pd.read_pickle(\"plga_dmso/PLGA_DMSO_Lp.pkl\")\n",
    "lpdmso_plga"
   ]
  },
  {
   "cell_type": "code",
   "execution_count": 32,
   "metadata": {},
   "outputs": [
    {
     "data": {
      "text/plain": [
       "0    41.431109\n",
       "1    27.965706\n",
       "2    36.288427\n",
       "3    33.348272\n",
       "4    48.152321\n",
       "Name: $L_{p}$ [Angstrom] N = 6 PLGA DMSO , dtype: float64"
      ]
     },
     "execution_count": 32,
     "metadata": {},
     "output_type": "execute_result"
    }
   ],
   "source": [
    "lpdmso_plga[r\"$L_{p}$ [Angstrom] N = 6 PLGA DMSO \"]"
   ]
  },
  {
   "cell_type": "code",
   "execution_count": 33,
   "metadata": {},
   "outputs": [
    {
     "data": {
      "text/plain": [
       "array([37.43716715, 30.77558806, 28.03089812, 34.77730263, 35.6019349 ])"
      ]
     },
     "execution_count": 33,
     "metadata": {},
     "output_type": "execute_result"
    }
   ],
   "source": [
    "lpdmso_avgplga = np.array([np.mean(lpdmso_plga[r\"$L_{p}$ [Angstrom] N = 6 PLGA DMSO \"])\n",
    "                      ,np.mean(lpdmso_plga[r\"$L_{p}$ [Angstrom] N = 8 PLGA DMSO \"])\n",
    "                     ,np.mean(lpdmso_plga[r\"$L_{p}$ [Angstrom] N = 10 PLGA DMSO \"])\n",
    "                     ,np.mean(lpdmso_plga[r\"$L_{p}$ [Angstrom] N = 20 PLGA DMSO \"])\n",
    "                     ,np.mean(lpdmso_plga[r\"$L_{p}$ [Angstrom] N = 30 PLGA DMSO \"])])\n",
    "lpdmso_avgplga"
   ]
  },
  {
   "cell_type": "code",
   "execution_count": 34,
   "metadata": {},
   "outputs": [
    {
     "data": {
      "text/plain": [
       "33.32457817005136"
      ]
     },
     "execution_count": 34,
     "metadata": {},
     "output_type": "execute_result"
    }
   ],
   "source": [
    "np.mean(lpdmso_avgplga)"
   ]
  },
  {
   "cell_type": "code",
   "execution_count": 35,
   "metadata": {},
   "outputs": [
    {
     "data": {
      "text/plain": [
       "3.4272598141747626"
      ]
     },
     "execution_count": 35,
     "metadata": {},
     "output_type": "execute_result"
    }
   ],
   "source": [
    "np.std(lpdmso_avgplga)"
   ]
  },
  {
   "cell_type": "code",
   "execution_count": 37,
   "metadata": {},
   "outputs": [
    {
     "data": {
      "text/plain": [
       "0    20.412072\n",
       "1    20.478420\n",
       "2    21.621419\n",
       "3    22.747538\n",
       "4    15.278738\n",
       "Name: $R_{g}$ [Angstrom] N = 30 PLGA DMSO, dtype: float64"
      ]
     },
     "execution_count": 37,
     "metadata": {},
     "output_type": "execute_result"
    }
   ],
   "source": [
    "rgdmso_nplga[r\"$R_{g}$ [Angstrom] N = 30 PLGA DMSO\"]"
   ]
  },
  {
   "cell_type": "code",
   "execution_count": 38,
   "metadata": {},
   "outputs": [
    {
     "data": {
      "text/plain": [
       "array([ 7.66418458,  8.75242794,  9.40743106, 15.29835598, 20.10763731])"
      ]
     },
     "execution_count": 38,
     "metadata": {},
     "output_type": "execute_result"
    }
   ],
   "source": [
    "rgdmso_npavgplga = np.array([np.mean(rgdmso_nplga[r\"$R_{g}$ [Angstrom] N = 6 PLGA DMSO\"])\n",
    "                      ,np.mean(rgdmso_nplga[r\"$R_{g}$ [Angstrom] N = 8 PLGA DMSO\"])\n",
    "                     ,np.mean(rgdmso_nplga[r\"$R_{g}$ [Angstrom] N = 10 PLGA DMSO\"])\n",
    "                     ,np.mean(rgdmso_nplga[r\"$R_{g}$ [Angstrom] N = 20 PLGA DMSO\"])\n",
    "                     ,np.mean(rgdmso_nplga[r\"$R_{g}$ [Angstrom] N = 30 PLGA DMSO\"])])\n",
    "rgdmso_npavgplga"
   ]
  },
  {
   "cell_type": "code",
   "execution_count": 39,
   "metadata": {},
   "outputs": [
    {
     "data": {
      "text/plain": [
       "array([0.02245878, 0.03435137, 0.03843184, 0.046038  , 0.06019604])"
      ]
     },
     "execution_count": 39,
     "metadata": {},
     "output_type": "execute_result"
    }
   ],
   "source": [
    "rgdmso_stdplga = np.array([np.std(np.log10(rgdmso_nplga[r\"$R_{g}$ [Angstrom] N = 6 PLGA DMSO\"]))\n",
    "                      ,np.std(np.log10(rgdmso_nplga[r\"$R_{g}$ [Angstrom] N = 8 PLGA DMSO\"]))\n",
    "                     ,np.std(np.log10(rgdmso_nplga[r\"$R_{g}$ [Angstrom] N = 10 PLGA DMSO\"]))\n",
    "                     ,np.std(np.log10(rgdmso_nplga[r\"$R_{g}$ [Angstrom] N = 20 PLGA DMSO\"]))\n",
    "                     ,np.std(np.log10(rgdmso_nplga[r\"$R_{g}$ [Angstrom] N = 30 PLGA DMSO\"]))])\n",
    "rgdmso_stdplga"
   ]
  },
  {
   "cell_type": "code",
   "execution_count": 40,
   "metadata": {},
   "outputs": [
    {
     "data": {
      "text/plain": [
       "array([0.77815125, 0.90308999, 1.        , 1.30103   , 1.47712125])"
      ]
     },
     "execution_count": 40,
     "metadata": {},
     "output_type": "execute_result"
    }
   ],
   "source": [
    "np.log10(n_plga)"
   ]
  },
  {
   "cell_type": "code",
   "execution_count": 41,
   "metadata": {},
   "outputs": [
    {
     "name": "stdout",
     "output_type": "stream",
     "text": [
      "Model slope:     0.6128401415750979\n",
      "Model intercept: 0.3884672968106906\n"
     ]
    }
   ],
   "source": [
    "# From fitting all points, I get best fit \n",
    "from sklearn.linear_model import LinearRegression\n",
    "model_vdmso = LinearRegression(fit_intercept=True)\n",
    "model_vdmso.fit(np.log10(n_plga).reshape(-1,1), np.log10(rgdmso_npavgplga))\n",
    "# Slope here is in nanometers\n",
    "print(\"Model slope:    \", model_vdmso.coef_[0])\n",
    "print(\"Model intercept:\", model_vdmso.intercept_)"
   ]
  },
  {
   "cell_type": "code",
   "execution_count": 42,
   "metadata": {},
   "outputs": [
    {
     "data": {
      "text/plain": [
       "array([0.86534962, 0.94191709, 1.00130744, 1.1857907 , 1.2937065 ])"
      ]
     },
     "execution_count": 42,
     "metadata": {},
     "output_type": "execute_result"
    }
   ],
   "source": [
    "gg_pdmso = model_vdmso.predict(np.log10(n_plga.reshape(-1,1)))\n",
    "gg_pdmso"
   ]
  },
  {
   "cell_type": "code",
   "execution_count": 43,
   "metadata": {},
   "outputs": [
    {
     "name": "stdout",
     "output_type": "stream",
     "text": [
      "Mean Std Error: 0.00024697346465761685\n",
      "R2 score: 0.990270935443047\n"
     ]
    }
   ],
   "source": [
    "print(\"Mean Std Error:\", sklearn.metrics.mean_squared_error(np.log10(rgdmso_npavgplga), gg_pdmso))\n",
    "print(\"R2 score:\", sklearn.metrics.r2_score(np.log10(rgdmso_npavgplga), gg_pdmso))"
   ]
  },
  {
   "cell_type": "code",
   "execution_count": 44,
   "metadata": {},
   "outputs": [
    {
     "data": {
      "text/plain": [
       "array([ 0.01911634,  0.00021145, -0.02783639, -0.00114594,  0.00965455])"
      ]
     },
     "execution_count": 44,
     "metadata": {},
     "output_type": "execute_result"
    }
   ],
   "source": [
    "# Residuals between the true y data and model y data \n",
    "resid_vdmso= np.log10(rgdmso_npavgplga) - gg_pdmso\n",
    "resid_vdmso"
   ]
  },
  {
   "cell_type": "code",
   "execution_count": 45,
   "metadata": {},
   "outputs": [
    {
     "data": {
      "text/plain": [
       "0.334663876760361"
      ]
     },
     "execution_count": 45,
     "metadata": {},
     "output_type": "execute_result"
    }
   ],
   "source": [
    "# How to calculate Sum((Xi - avg(X))^2): X values are the bond length values \n",
    "nt_ttdmso = np.log10(n_plga)\n",
    "nt_ttdmso -= np.mean(nt_ttdmso)\n",
    "nhui_dmso = nt_ttdmso**2\n",
    "np.sum(nhui_dmso)"
   ]
  },
  {
   "cell_type": "code",
   "execution_count": 46,
   "metadata": {},
   "outputs": [
    {
     "data": {
      "text/plain": [
       "2.7764451051977987"
      ]
     },
     "execution_count": 46,
     "metadata": {},
     "output_type": "execute_result"
    }
   ],
   "source": [
    "# t-value with 95 % confidence intervals \n",
    "scipy.stats.t.ppf(0.975, 4)"
   ]
  },
  {
   "cell_type": "code",
   "execution_count": 47,
   "metadata": {},
   "outputs": [
    {
     "data": {
      "text/plain": [
       "0.07542404492184158"
      ]
     },
     "execution_count": 47,
     "metadata": {},
     "output_type": "execute_result"
    }
   ],
   "source": [
    "# How to calculate 95% confidence interval for the slope \n",
    "flc_vdmso = scipy.stats.t.ppf(0.975, 4)*np.sqrt((np.sum(resid_vdmso**2)/len(resid_vdmso))/(np.sum(nhui_dmso)))\n",
    "flc_vdmso"
   ]
  },
  {
   "cell_type": "markdown",
   "metadata": {},
   "source": [
    "## PLGA/0.69 a/w mixture only systems"
   ]
  },
  {
   "cell_type": "code",
   "execution_count": 48,
   "metadata": {},
   "outputs": [
    {
     "data": {
      "text/html": [
       "<div>\n",
       "<style scoped>\n",
       "    .dataframe tbody tr th:only-of-type {\n",
       "        vertical-align: middle;\n",
       "    }\n",
       "\n",
       "    .dataframe tbody tr th {\n",
       "        vertical-align: top;\n",
       "    }\n",
       "\n",
       "    .dataframe thead th {\n",
       "        text-align: right;\n",
       "    }\n",
       "</style>\n",
       "<table border=\"1\" class=\"dataframe\">\n",
       "  <thead>\n",
       "    <tr style=\"text-align: right;\">\n",
       "      <th></th>\n",
       "      <th>$R_{g}$ [Angstrom] N = 6 PLGA in 0.69 a/w mix</th>\n",
       "      <th>$R_{g}$ [Angstrom] N = 8 PLGA in 0.69 a/w mix</th>\n",
       "      <th>$R_{g}$ [Angstrom] N = 10 PLGA in 0.69 a/w mix</th>\n",
       "      <th>$R_{g}$ [Angstrom] N = 20 PLGA in 0.69 a/w mix</th>\n",
       "      <th>$R_{g}$ [Angstrom] N = 30 PLGA in 0.69 a/w mix</th>\n",
       "    </tr>\n",
       "  </thead>\n",
       "  <tbody>\n",
       "    <tr>\n",
       "      <td>0</td>\n",
       "      <td>7.414166</td>\n",
       "      <td>7.815941</td>\n",
       "      <td>8.517919</td>\n",
       "      <td>10.748443</td>\n",
       "      <td>12.004004</td>\n",
       "    </tr>\n",
       "    <tr>\n",
       "      <td>1</td>\n",
       "      <td>7.660967</td>\n",
       "      <td>8.576357</td>\n",
       "      <td>8.260516</td>\n",
       "      <td>13.252983</td>\n",
       "      <td>10.247977</td>\n",
       "    </tr>\n",
       "    <tr>\n",
       "      <td>2</td>\n",
       "      <td>7.277628</td>\n",
       "      <td>9.197118</td>\n",
       "      <td>10.288552</td>\n",
       "      <td>14.037639</td>\n",
       "      <td>12.827422</td>\n",
       "    </tr>\n",
       "    <tr>\n",
       "      <td>3</td>\n",
       "      <td>7.017058</td>\n",
       "      <td>9.769339</td>\n",
       "      <td>9.598804</td>\n",
       "      <td>12.722609</td>\n",
       "      <td>11.315000</td>\n",
       "    </tr>\n",
       "    <tr>\n",
       "      <td>4</td>\n",
       "      <td>8.123287</td>\n",
       "      <td>8.662676</td>\n",
       "      <td>9.886560</td>\n",
       "      <td>13.682629</td>\n",
       "      <td>11.534671</td>\n",
       "    </tr>\n",
       "  </tbody>\n",
       "</table>\n",
       "</div>"
      ],
      "text/plain": [
       "   $R_{g}$ [Angstrom] N = 6 PLGA in 0.69 a/w mix  \\\n",
       "0                                       7.414166   \n",
       "1                                       7.660967   \n",
       "2                                       7.277628   \n",
       "3                                       7.017058   \n",
       "4                                       8.123287   \n",
       "\n",
       "   $R_{g}$ [Angstrom] N = 8 PLGA in 0.69 a/w mix  \\\n",
       "0                                       7.815941   \n",
       "1                                       8.576357   \n",
       "2                                       9.197118   \n",
       "3                                       9.769339   \n",
       "4                                       8.662676   \n",
       "\n",
       "   $R_{g}$ [Angstrom] N = 10 PLGA in 0.69 a/w mix  \\\n",
       "0                                        8.517919   \n",
       "1                                        8.260516   \n",
       "2                                       10.288552   \n",
       "3                                        9.598804   \n",
       "4                                        9.886560   \n",
       "\n",
       "   $R_{g}$ [Angstrom] N = 20 PLGA in 0.69 a/w mix  \\\n",
       "0                                       10.748443   \n",
       "1                                       13.252983   \n",
       "2                                       14.037639   \n",
       "3                                       12.722609   \n",
       "4                                       13.682629   \n",
       "\n",
       "   $R_{g}$ [Angstrom] N = 30 PLGA in 0.69 a/w mix  \n",
       "0                                       12.004004  \n",
       "1                                       10.247977  \n",
       "2                                       12.827422  \n",
       "3                                       11.315000  \n",
       "4                                       11.534671  "
      ]
     },
     "execution_count": 48,
     "metadata": {},
     "output_type": "execute_result"
    }
   ],
   "source": [
    "# Load dataframe from pickled pandas object\n",
    "rgawmix_nplga = pd.read_pickle(\"plga_awmix/PLGA_awmix_Rg.pkl\")\n",
    "rgawmix_nplga"
   ]
  },
  {
   "cell_type": "code",
   "execution_count": 49,
   "metadata": {},
   "outputs": [
    {
     "data": {
      "text/html": [
       "<div>\n",
       "<style scoped>\n",
       "    .dataframe tbody tr th:only-of-type {\n",
       "        vertical-align: middle;\n",
       "    }\n",
       "\n",
       "    .dataframe tbody tr th {\n",
       "        vertical-align: top;\n",
       "    }\n",
       "\n",
       "    .dataframe thead th {\n",
       "        text-align: right;\n",
       "    }\n",
       "</style>\n",
       "<table border=\"1\" class=\"dataframe\">\n",
       "  <thead>\n",
       "    <tr style=\"text-align: right;\">\n",
       "      <th></th>\n",
       "      <th>$L_{p}$ [Angstrom] N = 6 PLGA in 0.69 a/w mix</th>\n",
       "      <th>$L_{p}$ [Angstrom] N = 8 PLGA in 0.69 a/w mix</th>\n",
       "      <th>$L_{p}$ [Angstrom] N = 10 PLGA in 0.69 a/w mix</th>\n",
       "      <th>$L_{p}$ [Angstrom] N = 20 PLGA in 0.69 a/w mix</th>\n",
       "      <th>$L_{p}$ [Angstrom] N = 30 PLGA in 0.69 a/w mix</th>\n",
       "    </tr>\n",
       "  </thead>\n",
       "  <tbody>\n",
       "    <tr>\n",
       "      <td>0</td>\n",
       "      <td>31.843280</td>\n",
       "      <td>18.143705</td>\n",
       "      <td>18.415307</td>\n",
       "      <td>28.177639</td>\n",
       "      <td>30.501732</td>\n",
       "    </tr>\n",
       "    <tr>\n",
       "      <td>1</td>\n",
       "      <td>32.793833</td>\n",
       "      <td>26.608497</td>\n",
       "      <td>16.321849</td>\n",
       "      <td>31.988147</td>\n",
       "      <td>21.837076</td>\n",
       "    </tr>\n",
       "    <tr>\n",
       "      <td>2</td>\n",
       "      <td>28.551544</td>\n",
       "      <td>33.523854</td>\n",
       "      <td>29.365548</td>\n",
       "      <td>35.004533</td>\n",
       "      <td>24.571197</td>\n",
       "    </tr>\n",
       "    <tr>\n",
       "      <td>3</td>\n",
       "      <td>25.689959</td>\n",
       "      <td>36.492615</td>\n",
       "      <td>23.457535</td>\n",
       "      <td>26.999779</td>\n",
       "      <td>22.013286</td>\n",
       "    </tr>\n",
       "    <tr>\n",
       "      <td>4</td>\n",
       "      <td>46.557976</td>\n",
       "      <td>29.377310</td>\n",
       "      <td>32.176044</td>\n",
       "      <td>26.221393</td>\n",
       "      <td>24.364050</td>\n",
       "    </tr>\n",
       "  </tbody>\n",
       "</table>\n",
       "</div>"
      ],
      "text/plain": [
       "   $L_{p}$ [Angstrom] N = 6 PLGA in 0.69 a/w mix   \\\n",
       "0                                       31.843280   \n",
       "1                                       32.793833   \n",
       "2                                       28.551544   \n",
       "3                                       25.689959   \n",
       "4                                       46.557976   \n",
       "\n",
       "   $L_{p}$ [Angstrom] N = 8 PLGA in 0.69 a/w mix  \\\n",
       "0                                      18.143705   \n",
       "1                                      26.608497   \n",
       "2                                      33.523854   \n",
       "3                                      36.492615   \n",
       "4                                      29.377310   \n",
       "\n",
       "   $L_{p}$ [Angstrom] N = 10 PLGA in 0.69 a/w mix  \\\n",
       "0                                       18.415307   \n",
       "1                                       16.321849   \n",
       "2                                       29.365548   \n",
       "3                                       23.457535   \n",
       "4                                       32.176044   \n",
       "\n",
       "   $L_{p}$ [Angstrom] N = 20 PLGA in 0.69 a/w mix  \\\n",
       "0                                       28.177639   \n",
       "1                                       31.988147   \n",
       "2                                       35.004533   \n",
       "3                                       26.999779   \n",
       "4                                       26.221393   \n",
       "\n",
       "   $L_{p}$ [Angstrom] N = 30 PLGA in 0.69 a/w mix  \n",
       "0                                       30.501732  \n",
       "1                                       21.837076  \n",
       "2                                       24.571197  \n",
       "3                                       22.013286  \n",
       "4                                       24.364050  "
      ]
     },
     "execution_count": 49,
     "metadata": {},
     "output_type": "execute_result"
    }
   ],
   "source": [
    "lpawmix_plga = pd.read_pickle(\"plga_awmix/PLGA_awmix_Lp.pkl\")\n",
    "lpawmix_plga"
   ]
  },
  {
   "cell_type": "code",
   "execution_count": 51,
   "metadata": {},
   "outputs": [
    {
     "data": {
      "text/plain": [
       "0    31.843280\n",
       "1    32.793833\n",
       "2    28.551544\n",
       "3    25.689959\n",
       "4    46.557976\n",
       "Name: $L_{p}$ [Angstrom] N = 6 PLGA in 0.69 a/w mix , dtype: float64"
      ]
     },
     "execution_count": 51,
     "metadata": {},
     "output_type": "execute_result"
    }
   ],
   "source": [
    "lpawmix_plga[r\"$L_{p}$ [Angstrom] N = 6 PLGA in 0.69 a/w mix \"]"
   ]
  },
  {
   "cell_type": "code",
   "execution_count": 56,
   "metadata": {},
   "outputs": [
    {
     "data": {
      "text/plain": [
       "array([33.0873184 , 28.82919611, 23.94725661, 29.67829828, 24.65746824])"
      ]
     },
     "execution_count": 56,
     "metadata": {},
     "output_type": "execute_result"
    }
   ],
   "source": [
    "lpawmix_avgplga = np.array([np.mean(lpawmix_plga[r\"$L_{p}$ [Angstrom] N = 6 PLGA in 0.69 a/w mix \"])\n",
    "                      ,np.mean(lpawmix_plga[r\"$L_{p}$ [Angstrom] N = 8 PLGA in 0.69 a/w mix\"])\n",
    "                     ,np.mean(lpawmix_plga[r\"$L_{p}$ [Angstrom] N = 10 PLGA in 0.69 a/w mix\"])\n",
    "                     ,np.mean(lpawmix_plga[r\"$L_{p}$ [Angstrom] N = 20 PLGA in 0.69 a/w mix\"])\n",
    "                     ,np.mean(lpawmix_plga[r\"$L_{p}$ [Angstrom] N = 30 PLGA in 0.69 a/w mix\"])])\n",
    "lpawmix_avgplga"
   ]
  },
  {
   "cell_type": "code",
   "execution_count": 57,
   "metadata": {},
   "outputs": [
    {
     "data": {
      "text/plain": [
       "28.039907528312494"
      ]
     },
     "execution_count": 57,
     "metadata": {},
     "output_type": "execute_result"
    }
   ],
   "source": [
    "np.mean(lpawmix_avgplga)"
   ]
  },
  {
   "cell_type": "code",
   "execution_count": 58,
   "metadata": {},
   "outputs": [
    {
     "data": {
      "text/plain": [
       "3.375628664964749"
      ]
     },
     "execution_count": 58,
     "metadata": {},
     "output_type": "execute_result"
    }
   ],
   "source": [
    "np.std(lpawmix_avgplga)"
   ]
  },
  {
   "cell_type": "code",
   "execution_count": 59,
   "metadata": {},
   "outputs": [
    {
     "data": {
      "text/plain": [
       "0    12.004004\n",
       "1    10.247977\n",
       "2    12.827422\n",
       "3    11.315000\n",
       "4    11.534671\n",
       "Name: $R_{g}$ [Angstrom] N = 30 PLGA in 0.69 a/w mix, dtype: float64"
      ]
     },
     "execution_count": 59,
     "metadata": {},
     "output_type": "execute_result"
    }
   ],
   "source": [
    "rgawmix_nplga[r\"$R_{g}$ [Angstrom] N = 30 PLGA in 0.69 a/w mix\"]"
   ]
  },
  {
   "cell_type": "code",
   "execution_count": 60,
   "metadata": {},
   "outputs": [
    {
     "data": {
      "text/plain": [
       "array([ 7.49862124,  8.80428612,  9.31047036, 12.88886031, 11.58581464])"
      ]
     },
     "execution_count": 60,
     "metadata": {},
     "output_type": "execute_result"
    }
   ],
   "source": [
    "rgawmix_npavgplga = np.array([np.mean(rgawmix_nplga[r\"$R_{g}$ [Angstrom] N = 6 PLGA in 0.69 a/w mix\"])\n",
    "                      ,np.mean(rgawmix_nplga[r\"$R_{g}$ [Angstrom] N = 8 PLGA in 0.69 a/w mix\"])\n",
    "                     ,np.mean(rgawmix_nplga[r\"$R_{g}$ [Angstrom] N = 10 PLGA in 0.69 a/w mix\"])\n",
    "                     ,np.mean(rgawmix_nplga[r\"$R_{g}$ [Angstrom] N = 20 PLGA in 0.69 a/w mix\"])\n",
    "                     ,np.mean(rgawmix_nplga[r\"$R_{g}$ [Angstrom] N = 30 PLGA in 0.69 a/w mix\"])])\n",
    "rgawmix_npavgplga"
   ]
  },
  {
   "cell_type": "code",
   "execution_count": 61,
   "metadata": {},
   "outputs": [
    {
     "data": {
      "text/plain": [
       "array([0.02152494, 0.0323918 , 0.03719691, 0.04105965, 0.03204338])"
      ]
     },
     "execution_count": 61,
     "metadata": {},
     "output_type": "execute_result"
    }
   ],
   "source": [
    "rgawmix_stdplga = np.array([np.std(np.log10(rgawmix_nplga[r\"$R_{g}$ [Angstrom] N = 6 PLGA in 0.69 a/w mix\"]))\n",
    "                      ,np.std(np.log10(rgawmix_nplga[r\"$R_{g}$ [Angstrom] N = 8 PLGA in 0.69 a/w mix\"]))\n",
    "                     ,np.std(np.log10(rgawmix_nplga[r\"$R_{g}$ [Angstrom] N = 10 PLGA in 0.69 a/w mix\"]))\n",
    "                     ,np.std(np.log10(rgawmix_nplga[r\"$R_{g}$ [Angstrom] N = 20 PLGA in 0.69 a/w mix\"]))\n",
    "                     ,np.std(np.log10(rgawmix_nplga[r\"$R_{g}$ [Angstrom] N = 30 PLGA in 0.69 a/w mix\"]))])\n",
    "rgawmix_stdplga"
   ]
  },
  {
   "cell_type": "code",
   "execution_count": 62,
   "metadata": {},
   "outputs": [
    {
     "data": {
      "text/plain": [
       "array([0.77815125, 0.90308999, 1.        , 1.30103   , 1.47712125])"
      ]
     },
     "execution_count": 62,
     "metadata": {},
     "output_type": "execute_result"
    }
   ],
   "source": [
    "np.log10(n_plga)"
   ]
  },
  {
   "cell_type": "code",
   "execution_count": 63,
   "metadata": {},
   "outputs": [
    {
     "name": "stdout",
     "output_type": "stream",
     "text": [
      "Model slope:     0.299382378722663\n",
      "Model intercept: 0.6656684741465118\n"
     ]
    }
   ],
   "source": [
    "# From fitting all points, I get best fit \n",
    "from sklearn.linear_model import LinearRegression\n",
    "model_vawmix = LinearRegression(fit_intercept=True)\n",
    "model_vawmix.fit(np.log10(n_plga).reshape(-1,1), np.log10(rgawmix_npavgplga))\n",
    "# Slope here is in nanometers\n",
    "print(\"Model slope:    \", model_vawmix.coef_[0])\n",
    "print(\"Model intercept:\", model_vawmix.intercept_)"
   ]
  },
  {
   "cell_type": "code",
   "execution_count": 64,
   "metadata": {},
   "outputs": [
    {
     "data": {
      "text/plain": [
       "array([0.89863325, 0.9360377 , 0.96505085, 1.05517393, 1.10789255])"
      ]
     },
     "execution_count": 64,
     "metadata": {},
     "output_type": "execute_result"
    }
   ],
   "source": [
    "gg_pawmix = model_vawmix.predict(np.log10(n_plga.reshape(-1,1)))\n",
    "gg_pawmix"
   ]
  },
  {
   "cell_type": "code",
   "execution_count": 65,
   "metadata": {},
   "outputs": [
    {
     "name": "stdout",
     "output_type": "stream",
     "text": [
      "Mean Std Error: 0.0011224377137726586\n",
      "R2 score: 0.8423898833906188\n"
     ]
    }
   ],
   "source": [
    "print(\"Mean Std Error:\", sklearn.metrics.mean_squared_error(np.log10(rgawmix_npavgplga), gg_pawmix))\n",
    "print(\"R2 score:\", sklearn.metrics.r2_score(np.log10(rgawmix_npavgplga), gg_pawmix))"
   ]
  },
  {
   "cell_type": "code",
   "execution_count": 66,
   "metadata": {},
   "outputs": [
    {
     "data": {
      "text/plain": [
       "array([-0.02365183,  0.00865645,  0.00392077,  0.05504059, -0.04396597])"
      ]
     },
     "execution_count": 66,
     "metadata": {},
     "output_type": "execute_result"
    }
   ],
   "source": [
    "# Residuals between the true y data and model y data \n",
    "resid_vawmix= np.log10(rgawmix_npavgplga) - gg_pawmix\n",
    "resid_vawmix"
   ]
  },
  {
   "cell_type": "code",
   "execution_count": 67,
   "metadata": {},
   "outputs": [
    {
     "data": {
      "text/plain": [
       "0.334663876760361"
      ]
     },
     "execution_count": 67,
     "metadata": {},
     "output_type": "execute_result"
    }
   ],
   "source": [
    "# How to calculate Sum((Xi - avg(X))^2): X values are the bond length values \n",
    "nt_ttawmix = np.log10(n_plga)\n",
    "nt_ttawmix -= np.mean(nt_ttawmix)\n",
    "nhui_awmix = nt_ttawmix**2\n",
    "np.sum(nhui_awmix)"
   ]
  },
  {
   "cell_type": "code",
   "execution_count": 68,
   "metadata": {},
   "outputs": [
    {
     "data": {
      "text/plain": [
       "2.7764451051977987"
      ]
     },
     "execution_count": 68,
     "metadata": {},
     "output_type": "execute_result"
    }
   ],
   "source": [
    "# t-value with 95 % confidence intervals \n",
    "scipy.stats.t.ppf(0.975, 4)"
   ]
  },
  {
   "cell_type": "code",
   "execution_count": 69,
   "metadata": {},
   "outputs": [
    {
     "data": {
      "text/plain": [
       "0.16079250368765927"
      ]
     },
     "execution_count": 69,
     "metadata": {},
     "output_type": "execute_result"
    }
   ],
   "source": [
    "# How to calculate 95% confidence interval for the slope \n",
    "flc_vawmix = scipy.stats.t.ppf(0.975, 4)*np.sqrt((np.sum(resid_vawmix**2)/len(resid_vawmix))/(np.sum(nhui_awmix)))\n",
    "flc_vawmix"
   ]
  },
  {
   "cell_type": "markdown",
   "metadata": {},
   "source": [
    "## PLGA/water only systems"
   ]
  },
  {
   "cell_type": "code",
   "execution_count": 74,
   "metadata": {},
   "outputs": [
    {
     "data": {
      "text/html": [
       "<div>\n",
       "<style scoped>\n",
       "    .dataframe tbody tr th:only-of-type {\n",
       "        vertical-align: middle;\n",
       "    }\n",
       "\n",
       "    .dataframe tbody tr th {\n",
       "        vertical-align: top;\n",
       "    }\n",
       "\n",
       "    .dataframe thead th {\n",
       "        text-align: right;\n",
       "    }\n",
       "</style>\n",
       "<table border=\"1\" class=\"dataframe\">\n",
       "  <thead>\n",
       "    <tr style=\"text-align: right;\">\n",
       "      <th></th>\n",
       "      <th>$R_{g}$ [Angstrom] N = 6 PLGA in water</th>\n",
       "      <th>$R_{g}$ [Angstrom] N = 8 PLGA in water</th>\n",
       "      <th>$R_{g}$ [Angstrom] N = 10 PLGA in water</th>\n",
       "      <th>$R_{g}$ [Angstrom] N = 20 PLGA in water</th>\n",
       "      <th>$R_{g}$ [Angstrom] N = 30 PLGA in water</th>\n",
       "    </tr>\n",
       "  </thead>\n",
       "  <tbody>\n",
       "    <tr>\n",
       "      <td>0</td>\n",
       "      <td>5.706700</td>\n",
       "      <td>6.501341</td>\n",
       "      <td>7.539830</td>\n",
       "      <td>8.460411</td>\n",
       "      <td>9.509182</td>\n",
       "    </tr>\n",
       "    <tr>\n",
       "      <td>1</td>\n",
       "      <td>6.056366</td>\n",
       "      <td>6.635535</td>\n",
       "      <td>6.772461</td>\n",
       "      <td>8.198175</td>\n",
       "      <td>10.605858</td>\n",
       "    </tr>\n",
       "    <tr>\n",
       "      <td>2</td>\n",
       "      <td>6.520687</td>\n",
       "      <td>6.594608</td>\n",
       "      <td>7.197046</td>\n",
       "      <td>8.556409</td>\n",
       "      <td>9.875071</td>\n",
       "    </tr>\n",
       "    <tr>\n",
       "      <td>3</td>\n",
       "      <td>5.948436</td>\n",
       "      <td>7.209835</td>\n",
       "      <td>7.502973</td>\n",
       "      <td>8.266430</td>\n",
       "      <td>9.604584</td>\n",
       "    </tr>\n",
       "    <tr>\n",
       "      <td>4</td>\n",
       "      <td>5.777089</td>\n",
       "      <td>6.680173</td>\n",
       "      <td>6.729911</td>\n",
       "      <td>8.431027</td>\n",
       "      <td>9.435210</td>\n",
       "    </tr>\n",
       "  </tbody>\n",
       "</table>\n",
       "</div>"
      ],
      "text/plain": [
       "   $R_{g}$ [Angstrom] N = 6 PLGA in water  \\\n",
       "0                                5.706700   \n",
       "1                                6.056366   \n",
       "2                                6.520687   \n",
       "3                                5.948436   \n",
       "4                                5.777089   \n",
       "\n",
       "   $R_{g}$ [Angstrom] N = 8 PLGA in water  \\\n",
       "0                                6.501341   \n",
       "1                                6.635535   \n",
       "2                                6.594608   \n",
       "3                                7.209835   \n",
       "4                                6.680173   \n",
       "\n",
       "   $R_{g}$ [Angstrom] N = 10 PLGA in water  \\\n",
       "0                                 7.539830   \n",
       "1                                 6.772461   \n",
       "2                                 7.197046   \n",
       "3                                 7.502973   \n",
       "4                                 6.729911   \n",
       "\n",
       "   $R_{g}$ [Angstrom] N = 20 PLGA in water  \\\n",
       "0                                 8.460411   \n",
       "1                                 8.198175   \n",
       "2                                 8.556409   \n",
       "3                                 8.266430   \n",
       "4                                 8.431027   \n",
       "\n",
       "   $R_{g}$ [Angstrom] N = 30 PLGA in water  \n",
       "0                                 9.509182  \n",
       "1                                10.605858  \n",
       "2                                 9.875071  \n",
       "3                                 9.604584  \n",
       "4                                 9.435210  "
      ]
     },
     "execution_count": 74,
     "metadata": {},
     "output_type": "execute_result"
    }
   ],
   "source": [
    "# Load dataframe from pickled pandas object\n",
    "rgwat_nplga = pd.read_pickle(\"plga_wat/PLGA_water_Rg.pkl\")\n",
    "rgwat_nplga"
   ]
  },
  {
   "cell_type": "code",
   "execution_count": 75,
   "metadata": {},
   "outputs": [
    {
     "data": {
      "text/html": [
       "<div>\n",
       "<style scoped>\n",
       "    .dataframe tbody tr th:only-of-type {\n",
       "        vertical-align: middle;\n",
       "    }\n",
       "\n",
       "    .dataframe tbody tr th {\n",
       "        vertical-align: top;\n",
       "    }\n",
       "\n",
       "    .dataframe thead th {\n",
       "        text-align: right;\n",
       "    }\n",
       "</style>\n",
       "<table border=\"1\" class=\"dataframe\">\n",
       "  <thead>\n",
       "    <tr style=\"text-align: right;\">\n",
       "      <th></th>\n",
       "      <th>$L_{p}$ [Angstrom] N = 6 PLGA in water</th>\n",
       "      <th>$L_{p}$ [Angstrom] N = 8 PLGA in water</th>\n",
       "      <th>$L_{p}$ [Angstrom] N = 10 PLGA in water</th>\n",
       "      <th>$L_{p}$ [Angstrom] N = 20 PLGA in water</th>\n",
       "      <th>$L_{p}$ [Angstrom] N = 30 PLGA in water</th>\n",
       "    </tr>\n",
       "  </thead>\n",
       "  <tbody>\n",
       "    <tr>\n",
       "      <td>0</td>\n",
       "      <td>13.649490</td>\n",
       "      <td>15.403484</td>\n",
       "      <td>17.642983</td>\n",
       "      <td>18.373911</td>\n",
       "      <td>17.727447</td>\n",
       "    </tr>\n",
       "    <tr>\n",
       "      <td>1</td>\n",
       "      <td>16.886738</td>\n",
       "      <td>17.735536</td>\n",
       "      <td>15.698494</td>\n",
       "      <td>17.418391</td>\n",
       "      <td>17.665581</td>\n",
       "    </tr>\n",
       "    <tr>\n",
       "      <td>2</td>\n",
       "      <td>18.640081</td>\n",
       "      <td>15.654572</td>\n",
       "      <td>15.497433</td>\n",
       "      <td>17.471946</td>\n",
       "      <td>17.713670</td>\n",
       "    </tr>\n",
       "    <tr>\n",
       "      <td>3</td>\n",
       "      <td>16.140974</td>\n",
       "      <td>21.156253</td>\n",
       "      <td>15.551996</td>\n",
       "      <td>19.563723</td>\n",
       "      <td>19.394280</td>\n",
       "    </tr>\n",
       "    <tr>\n",
       "      <td>4</td>\n",
       "      <td>14.735745</td>\n",
       "      <td>16.104728</td>\n",
       "      <td>14.545328</td>\n",
       "      <td>15.038379</td>\n",
       "      <td>21.468682</td>\n",
       "    </tr>\n",
       "  </tbody>\n",
       "</table>\n",
       "</div>"
      ],
      "text/plain": [
       "   $L_{p}$ [Angstrom] N = 6 PLGA in water  \\\n",
       "0                               13.649490   \n",
       "1                               16.886738   \n",
       "2                               18.640081   \n",
       "3                               16.140974   \n",
       "4                               14.735745   \n",
       "\n",
       "   $L_{p}$ [Angstrom] N = 8 PLGA in water  \\\n",
       "0                               15.403484   \n",
       "1                               17.735536   \n",
       "2                               15.654572   \n",
       "3                               21.156253   \n",
       "4                               16.104728   \n",
       "\n",
       "   $L_{p}$ [Angstrom] N = 10 PLGA in water  \\\n",
       "0                                17.642983   \n",
       "1                                15.698494   \n",
       "2                                15.497433   \n",
       "3                                15.551996   \n",
       "4                                14.545328   \n",
       "\n",
       "   $L_{p}$ [Angstrom] N = 20 PLGA in water  \\\n",
       "0                                18.373911   \n",
       "1                                17.418391   \n",
       "2                                17.471946   \n",
       "3                                19.563723   \n",
       "4                                15.038379   \n",
       "\n",
       "   $L_{p}$ [Angstrom] N = 30 PLGA in water  \n",
       "0                                17.727447  \n",
       "1                                17.665581  \n",
       "2                                17.713670  \n",
       "3                                19.394280  \n",
       "4                                21.468682  "
      ]
     },
     "execution_count": 75,
     "metadata": {},
     "output_type": "execute_result"
    }
   ],
   "source": [
    "lpwat_plga = pd.read_pickle(\"plga_wat/PLGA_water_Lp.pkl\")\n",
    "lpwat_plga"
   ]
  },
  {
   "cell_type": "code",
   "execution_count": 77,
   "metadata": {},
   "outputs": [
    {
     "data": {
      "text/plain": [
       "0    13.649490\n",
       "1    16.886738\n",
       "2    18.640081\n",
       "3    16.140974\n",
       "4    14.735745\n",
       "Name: $L_{p}$ [Angstrom] N = 6 PLGA in water, dtype: float64"
      ]
     },
     "execution_count": 77,
     "metadata": {},
     "output_type": "execute_result"
    }
   ],
   "source": [
    "lpwat_plga[r\"$L_{p}$ [Angstrom] N = 6 PLGA in water\"]"
   ]
  },
  {
   "cell_type": "code",
   "execution_count": 78,
   "metadata": {},
   "outputs": [
    {
     "data": {
      "text/plain": [
       "array([16.01060572, 17.21091468, 15.78724674, 17.57327005, 18.79393216])"
      ]
     },
     "execution_count": 78,
     "metadata": {},
     "output_type": "execute_result"
    }
   ],
   "source": [
    "lpwat_avgplga = np.array([np.mean(lpwat_plga[r\"$L_{p}$ [Angstrom] N = 6 PLGA in water\"])\n",
    "                      ,np.mean(lpwat_plga[r\"$L_{p}$ [Angstrom] N = 8 PLGA in water\"])\n",
    "                     ,np.mean(lpwat_plga[r\"$L_{p}$ [Angstrom] N = 10 PLGA in water\"])\n",
    "                     ,np.mean(lpwat_plga[r\"$L_{p}$ [Angstrom] N = 20 PLGA in water\"])\n",
    "                     ,np.mean(lpwat_plga[r\"$L_{p}$ [Angstrom] N = 30 PLGA in water\"])])\n",
    "lpwat_avgplga"
   ]
  },
  {
   "cell_type": "code",
   "execution_count": 79,
   "metadata": {},
   "outputs": [
    {
     "data": {
      "text/plain": [
       "17.075193868556518"
      ]
     },
     "execution_count": 79,
     "metadata": {},
     "output_type": "execute_result"
    }
   ],
   "source": [
    "np.mean(lpwat_avgplga)"
   ]
  },
  {
   "cell_type": "code",
   "execution_count": 80,
   "metadata": {},
   "outputs": [
    {
     "data": {
      "text/plain": [
       "1.096605404457474"
      ]
     },
     "execution_count": 80,
     "metadata": {},
     "output_type": "execute_result"
    }
   ],
   "source": [
    "np.std(lpwat_avgplga)"
   ]
  },
  {
   "cell_type": "code",
   "execution_count": 81,
   "metadata": {},
   "outputs": [
    {
     "data": {
      "text/plain": [
       "0     9.509182\n",
       "1    10.605858\n",
       "2     9.875071\n",
       "3     9.604584\n",
       "4     9.435210\n",
       "Name: $R_{g}$ [Angstrom] N = 30 PLGA in water, dtype: float64"
      ]
     },
     "execution_count": 81,
     "metadata": {},
     "output_type": "execute_result"
    }
   ],
   "source": [
    "rgwat_nplga[r\"$R_{g}$ [Angstrom] N = 30 PLGA in water\"]"
   ]
  },
  {
   "cell_type": "code",
   "execution_count": 82,
   "metadata": {},
   "outputs": [
    {
     "data": {
      "text/plain": [
       "array([6.00185564, 6.72429829, 7.14844425, 8.38249042, 9.80598102])"
      ]
     },
     "execution_count": 82,
     "metadata": {},
     "output_type": "execute_result"
    }
   ],
   "source": [
    "rgwat_npavgplga = np.array([np.mean(rgwat_nplga[r\"$R_{g}$ [Angstrom] N = 6 PLGA in water\"])\n",
    "                      ,np.mean(rgwat_nplga[r\"$R_{g}$ [Angstrom] N = 8 PLGA in water\"])\n",
    "                     ,np.mean(rgwat_nplga[r\"$R_{g}$ [Angstrom] N = 10 PLGA in water\"])\n",
    "                     ,np.mean(rgwat_nplga[r\"$R_{g}$ [Angstrom] N = 20 PLGA in water\"])\n",
    "                     ,np.mean(rgwat_nplga[r\"$R_{g}$ [Angstrom] N = 30 PLGA in water\"])])\n",
    "rgwat_npavgplga"
   ]
  },
  {
   "cell_type": "code",
   "execution_count": 83,
   "metadata": {},
   "outputs": [
    {
     "data": {
      "text/plain": [
       "array([0.02039749, 0.01577225, 0.02108252, 0.0068097 , 0.0184815 ])"
      ]
     },
     "execution_count": 83,
     "metadata": {},
     "output_type": "execute_result"
    }
   ],
   "source": [
    "rgwat_stdplga = np.array([np.std(np.log10(rgwat_nplga[r\"$R_{g}$ [Angstrom] N = 6 PLGA in water\"]))\n",
    "                      ,np.std(np.log10(rgwat_nplga[r\"$R_{g}$ [Angstrom] N = 8 PLGA in water\"]))\n",
    "                     ,np.std(np.log10(rgwat_nplga[r\"$R_{g}$ [Angstrom] N = 10 PLGA in water\"]))\n",
    "                     ,np.std(np.log10(rgwat_nplga[r\"$R_{g}$ [Angstrom] N = 20 PLGA in water\"]))\n",
    "                     ,np.std(np.log10(rgwat_nplga[r\"$R_{g}$ [Angstrom] N = 30 PLGA in water\"]))])\n",
    "rgwat_stdplga"
   ]
  },
  {
   "cell_type": "code",
   "execution_count": 84,
   "metadata": {},
   "outputs": [
    {
     "data": {
      "text/plain": [
       "array([0.77815125, 0.90308999, 1.        , 1.30103   , 1.47712125])"
      ]
     },
     "execution_count": 84,
     "metadata": {},
     "output_type": "execute_result"
    }
   ],
   "source": [
    "np.log10(n_plga)"
   ]
  },
  {
   "cell_type": "code",
   "execution_count": 85,
   "metadata": {},
   "outputs": [
    {
     "name": "stdout",
     "output_type": "stream",
     "text": [
      "Model slope:     0.2874116960461631\n",
      "Model intercept: 0.5611829819922737\n"
     ]
    }
   ],
   "source": [
    "# From fitting all points, I get best fit \n",
    "from sklearn.linear_model import LinearRegression\n",
    "model_vwat = LinearRegression(fit_intercept=True)\n",
    "model_vwat.fit(np.log10(n_plga).reshape(-1,1), np.log10(rgwat_npavgplga))\n",
    "# Slope here is in nanometers\n",
    "print(\"Model slope:    \", model_vwat.coef_[0])\n",
    "print(\"Model intercept:\", model_vwat.intercept_)"
   ]
  },
  {
   "cell_type": "code",
   "execution_count": 86,
   "metadata": {},
   "outputs": [
    {
     "data": {
      "text/plain": [
       "array([0.78483275, 0.82074161, 0.84859468, 0.93511422, 0.98572491])"
      ]
     },
     "execution_count": 86,
     "metadata": {},
     "output_type": "execute_result"
    }
   ],
   "source": [
    "gg_pwat = model_vwat.predict(np.log10(n_plga.reshape(-1,1)))\n",
    "gg_pwat"
   ]
  },
  {
   "cell_type": "code",
   "execution_count": 87,
   "metadata": {},
   "outputs": [
    {
     "name": "stdout",
     "output_type": "stream",
     "text": [
      "Mean Std Error: 5.864042586507378e-05\n",
      "R2 score: 0.9895053596917488\n"
     ]
    }
   ],
   "source": [
    "print(\"Mean Std Error:\", sklearn.metrics.mean_squared_error(np.log10(rgwat_npavgplga), gg_pwat))\n",
    "print(\"R2 score:\", sklearn.metrics.r2_score(np.log10(rgwat_npavgplga), gg_pwat))"
   ]
  },
  {
   "cell_type": "code",
   "execution_count": 89,
   "metadata": {},
   "outputs": [
    {
     "data": {
      "text/plain": [
       "array([-0.00654721,  0.00690536,  0.00561686, -0.01174115,  0.00576614])"
      ]
     },
     "execution_count": 89,
     "metadata": {},
     "output_type": "execute_result"
    }
   ],
   "source": [
    "# Residuals between the true y data and model y data \n",
    "resid_vwat= np.log10(rgwat_npavgplga) - gg_pwat\n",
    "resid_vwat"
   ]
  },
  {
   "cell_type": "code",
   "execution_count": 90,
   "metadata": {},
   "outputs": [
    {
     "data": {
      "text/plain": [
       "0.334663876760361"
      ]
     },
     "execution_count": 90,
     "metadata": {},
     "output_type": "execute_result"
    }
   ],
   "source": [
    "# How to calculate Sum((Xi - avg(X))^2): X values are the bond length values \n",
    "nt_ttwat = np.log10(n_plga)\n",
    "nt_ttwat -= np.mean(nt_ttwat)\n",
    "nhui_wat = nt_ttwat**2\n",
    "np.sum(nhui_wat)"
   ]
  },
  {
   "cell_type": "code",
   "execution_count": 91,
   "metadata": {},
   "outputs": [
    {
     "data": {
      "text/plain": [
       "2.7764451051977987"
      ]
     },
     "execution_count": 91,
     "metadata": {},
     "output_type": "execute_result"
    }
   ],
   "source": [
    "# t-value with 95 % confidence intervals \n",
    "scipy.stats.t.ppf(0.975, 4)"
   ]
  },
  {
   "cell_type": "code",
   "execution_count": 92,
   "metadata": {},
   "outputs": [
    {
     "data": {
      "text/plain": [
       "0.036752190603554"
      ]
     },
     "execution_count": 92,
     "metadata": {},
     "output_type": "execute_result"
    }
   ],
   "source": [
    "# How to calculate 95% confidence interval for the slope \n",
    "flc_vwat = scipy.stats.t.ppf(0.975, 4)*np.sqrt((np.sum(resid_vwat**2)/len(resid_vwat))/(np.sum(nhui_wat)))\n",
    "flc_vwat"
   ]
  },
  {
   "cell_type": "code",
   "execution_count": null,
   "metadata": {},
   "outputs": [],
   "source": []
  },
  {
   "cell_type": "code",
   "execution_count": 97,
   "metadata": {},
   "outputs": [
    {
     "data": {
      "text/plain": [
       "Text(0.9, 1.2, '$v_{water}$ = 0.29 ± 0.04')"
      ]
     },
     "execution_count": 97,
     "metadata": {},
     "output_type": "execute_result"
    },
    {
     "data": {
      "image/png": "[encoded data removed]",
      "text/plain": [
       "<Figure size 504x504 with 1 Axes>"
      ]
     },
     "metadata": {
      "needs_background": "light"
     },
     "output_type": "display_data"
    }
   ],
   "source": [
    "plt.figure(figsize=(7,7))\n",
    "plt.errorbar(np.log10(n_plga), np.log10(rgace_npavgplga), yerr=rgace_stdplga, color='#0371EC', linestyle=\"None\",marker='o',\n",
    "     capsize=5, capthick=1, ecolor='black')\n",
    "plt.errorbar(np.log10(n_plga), np.log10(rgdmso_npavgplga), yerr=rgdmso_stdplga, color='#418D2B', linestyle=\"None\",marker='o',\n",
    "     capsize=5, capthick=1, ecolor='black')\n",
    "plt.errorbar(np.log10(n_plga), np.log10(rgawmix_npavgplga), yerr=rgawmix_stdplga, color='#562A8B', linestyle=\"None\",marker='o',\n",
    "     capsize=5, capthick=1, ecolor='black')\n",
    "plt.errorbar(np.log10(n_plga), np.log10(rgwat_npavgplga), yerr=rgwat_stdplga, color='#6E563A', linestyle=\"None\",marker='o',\n",
    "     capsize=5, capthick=1, ecolor='black')\n",
    "\n",
    "plt.plot(np.log10(n_plga), gg_pace, color='#0371EC')\n",
    "plt.plot(np.log10(n_plga), gg_pdmso, color='#418D2B')\n",
    "plt.plot(np.log10(n_plga), gg_pawmix, color='#562A8B')\n",
    "plt.plot(np.log10(n_plga), gg_pwat, color='#6E563A')\n",
    "\n",
    "plt.title(r'Fluory Exponent', fontsize=15)\n",
    "plt.xlabel(r'Log($N_{PLGA}$)', fontsize=15)\n",
    "plt.ylabel(r'Log($R_{g}$)', fontsize=15)\n",
    "plt.tick_params(labelsize=14)\n",
    "plt.text(0.9, 1.29, r'$v_{acetone}$ = 0.48 ± 0.11', fontsize=15, color='#0371EC')\n",
    "plt.text(0.9, 1.26, r'$v_{DMSO}$ = 0.61 ± 0.08', fontsize=15, color='#418D2B')\n",
    "plt.text(0.9, 1.23, r'$v_{acet-water}$ = 0.30 ± 0.16', fontsize=15, color='#562A8B')\n",
    "plt.text(0.9, 1.20, r'$v_{water}$ = 0.29 ± 0.04', fontsize=15, color='#6E563A')\n"
   ]
  },
  {
   "cell_type": "markdown",
   "metadata": {},
   "source": [
    "### Rg vs time in different sol per monomer length"
   ]
  },
  {
   "cell_type": "markdown",
   "metadata": {},
   "source": [
    "### N = 6"
   ]
  },
  {
   "cell_type": "code",
   "execution_count": 106,
   "metadata": {},
   "outputs": [],
   "source": [
    "rgplga_awmixn6 = np.load('plga_awmix/n6plga_awmixRg.npy')\n",
    "rgplga_acen6 = np.load('plga_ace/n6plga_aceRg.npy')\n",
    "rgplga_dmson6 = np.load('plga_dmso/n6plga_dmsoRg.npy')\n",
    "rgplga_watn6 = np.load('plga_wat/n6plga_watRg.npy')"
   ]
  },
  {
   "cell_type": "code",
   "execution_count": 107,
   "metadata": {},
   "outputs": [
    {
     "data": {
      "text/plain": [
       "array([    0,     1,     2, ..., 17997, 17998, 17999])"
      ]
     },
     "execution_count": 107,
     "metadata": {},
     "output_type": "execute_result"
    }
   ],
   "source": [
    "trj_len = np.arange(18000)\n",
    "trj_len"
   ]
  },
  {
   "cell_type": "code",
   "execution_count": 120,
   "metadata": {},
   "outputs": [
    {
     "data": {
      "text/plain": [
       "(0.4, 2)"
      ]
     },
     "execution_count": 120,
     "metadata": {},
     "output_type": "execute_result"
    },
    {
     "data": {
      "image/png": "[encoded data removed]",
      "text/plain": [
       "<Figure size 504x504 with 1 Axes>"
      ]
     },
     "metadata": {
      "needs_background": "light"
     },
     "output_type": "display_data"
    }
   ],
   "source": [
    "plt.figure(figsize=(7,7))\n",
    "plt.title(r'PLGA Radius of Gyration', fontsize=18, y=1.01)\n",
    "plt.xlabel(r'Time [ns]', fontsize=15)\n",
    "plt.ylabel(r'$R_{g}$ [nm]', fontsize=15)\n",
    "plt.plot(trj_len/100, rgplga_watn6/10,linewidth=2, color='#6E563A')\n",
    "plt.plot(trj_len/100, rgplga_awmixn6/10,linewidth=2, color='#562A8B')\n",
    "plt.plot(trj_len/100, rgplga_acen6/10,linewidth=2, color='#0371EC')\n",
    "plt.plot(trj_len/100, rgplga_dmson6/10,linewidth=2, color='#418D2B')\n",
    "plt.tick_params(labelsize=14)\n",
    "plt.legend(['N = 6 in water','N = 6 in 0.69 a/w mix','N = 6 in acetone','N = 6 in DMSO'], frameon=False, fontsize=14)\n",
    "#plt.text(127, 0.96,r'N = 6 in water', fontsize=18, color='#1F2E69', family='Arial')\n",
    "plt.xlim(0,180)\n",
    "plt.ylim(0.4,2)"
   ]
  },
  {
   "cell_type": "markdown",
   "metadata": {},
   "source": [
    "## N = 8"
   ]
  },
  {
   "cell_type": "code",
   "execution_count": 109,
   "metadata": {},
   "outputs": [],
   "source": [
    "rgplga_awmixn8 = np.load('plga_awmix/n8plga_awmixRg.npy')\n",
    "rgplga_acen8 = np.load('plga_ace/n8plga_aceRg.npy')\n",
    "rgplga_dmson8 = np.load('plga_dmso/n8plga_dmsoRg.npy')\n",
    "rgplga_watn8 = np.load('plga_wat/n8plga_watRg.npy')"
   ]
  },
  {
   "cell_type": "code",
   "execution_count": 118,
   "metadata": {},
   "outputs": [
    {
     "data": {
      "text/plain": [
       "(0.5, 2)"
      ]
     },
     "execution_count": 118,
     "metadata": {},
     "output_type": "execute_result"
    },
    {
     "data": {
      "image/png": "[encoded data removed]",
      "text/plain": [
       "<Figure size 504x504 with 1 Axes>"
      ]
     },
     "metadata": {
      "needs_background": "light"
     },
     "output_type": "display_data"
    }
   ],
   "source": [
    "plt.figure(figsize=(7,7))\n",
    "plt.title(r'PLGA Radius of Gyration', fontsize=18, y=1.01)\n",
    "plt.xlabel(r'Time [ns]', fontsize=15)\n",
    "plt.ylabel(r'$R_{g}$ [nm]', fontsize=15)\n",
    "plt.plot(trj_len/100, rgplga_watn8/10,linewidth=2, color='#6E563A')\n",
    "plt.plot(trj_len/100, rgplga_awmixn8/10,linewidth=2, color='#562A8B')\n",
    "plt.plot(trj_len/100, rgplga_acen8/10,linewidth=2, color='#0371EC')\n",
    "plt.plot(trj_len/100, rgplga_dmson8/10,linewidth=2, color='#418D2B')\n",
    "plt.tick_params(labelsize=14)\n",
    "plt.legend(['N = 8 in water','N = 8 in 0.69 a/w mix','N = 8 in acetone','N = 8 in DMSO'], frameon=False, fontsize=14)\n",
    "#plt.text(127, 0.96,r'N = 6 in water', fontsize=18, color='#1F2E69', family='Arial')\n",
    "plt.xlim(0,180)\n",
    "plt.ylim(0.5,2)"
   ]
  },
  {
   "cell_type": "markdown",
   "metadata": {},
   "source": [
    "## N = 10"
   ]
  },
  {
   "cell_type": "code",
   "execution_count": 113,
   "metadata": {},
   "outputs": [],
   "source": [
    "rgplga_awmixn10 = np.load('plga_awmix/n10plga_awmixRg.npy')\n",
    "rgplga_acen10 = np.load('plga_ace/n10plga_aceRg.npy')\n",
    "rgplga_dmson10 = np.load('plga_dmso/n10plga_dmsoRg.npy')\n",
    "rgplga_watn10 = np.load('plga_wat/n10plga_watRg.npy')"
   ]
  },
  {
   "cell_type": "code",
   "execution_count": 117,
   "metadata": {},
   "outputs": [
    {
     "data": {
      "text/plain": [
       "(0.5, 2.5)"
      ]
     },
     "execution_count": 117,
     "metadata": {},
     "output_type": "execute_result"
    },
    {
     "data": {
      "image/png": "[encoded data removed]",
      "text/plain": [
       "<Figure size 504x504 with 1 Axes>"
      ]
     },
     "metadata": {
      "needs_background": "light"
     },
     "output_type": "display_data"
    }
   ],
   "source": [
    "plt.figure(figsize=(7,7))\n",
    "plt.title(r'PLGA Radius of Gyration', fontsize=18, y=1.01)\n",
    "plt.xlabel(r'Time [ns]', fontsize=15)\n",
    "plt.ylabel(r'$R_{g}$ [nm]', fontsize=15)\n",
    "plt.plot(trj_len/100, rgplga_watn10/10,linewidth=2, color='#6E563A')\n",
    "plt.plot(trj_len/100, rgplga_awmixn10/10,linewidth=2, color='#562A8B')\n",
    "plt.plot(trj_len/100, rgplga_acen10/10,linewidth=2, color='#0371EC')\n",
    "plt.plot(trj_len/100, rgplga_dmson10/10,linewidth=2, color='#418D2B')\n",
    "plt.tick_params(labelsize=14)\n",
    "plt.legend(['N = 10 in water','N = 10 in 0.69 a/w mix','N = 10 in acetone','N = 10 in DMSO'], frameon=False, fontsize=14)\n",
    "#plt.text(127, 0.96,r'N = 6 in water', fontsize=18, color='#1F2E69', family='Arial')\n",
    "plt.xlim(0,180)\n",
    "plt.ylim(0.5,2.5)"
   ]
  },
  {
   "cell_type": "markdown",
   "metadata": {},
   "source": [
    "## N = 20 "
   ]
  },
  {
   "cell_type": "code",
   "execution_count": 122,
   "metadata": {},
   "outputs": [],
   "source": [
    "rgplga_awmixn20 = np.load('plga_awmix/n20plga_awmixRg.npy')\n",
    "rgplga_acen20 = np.load('plga_ace/n20plga_aceRg.npy')\n",
    "rgplga_dmson20 = np.load('plga_dmso/n20plga_dmsoRg.npy')\n",
    "rgplga_watn20 = np.load('plga_wat/n20plga_watRg.npy')"
   ]
  },
  {
   "cell_type": "code",
   "execution_count": 124,
   "metadata": {},
   "outputs": [
    {
     "data": {
      "text/plain": [
       "(0.5, 3.5)"
      ]
     },
     "execution_count": 124,
     "metadata": {},
     "output_type": "execute_result"
    },
    {
     "data": {
      "image/png": "[encoded data removed]",
      "text/plain": [
       "<Figure size 504x504 with 1 Axes>"
      ]
     },
     "metadata": {
      "needs_background": "light"
     },
     "output_type": "display_data"
    }
   ],
   "source": [
    "plt.figure(figsize=(7,7))\n",
    "plt.title(r'PLGA Radius of Gyration', fontsize=18, y=1.01)\n",
    "plt.xlabel(r'Time [ns]', fontsize=15)\n",
    "plt.ylabel(r'$R_{g}$ [nm]', fontsize=15)\n",
    "plt.plot(trj_len/100, rgplga_watn20/10,linewidth=2, color='#6E563A')\n",
    "plt.plot(trj_len/100, rgplga_awmixn20/10,linewidth=2, color='#562A8B')\n",
    "plt.plot(trj_len/100, rgplga_acen20/10,linewidth=2, color='#0371EC')\n",
    "plt.plot(trj_len/100, rgplga_dmson20/10,linewidth=2, color='#418D2B')\n",
    "plt.tick_params(labelsize=14)\n",
    "plt.legend(['N = 20 in water','N = 20 in 0.69 a/w mix','N = 20 in acetone','N = 20 in DMSO'], frameon=False, fontsize=14)\n",
    "#plt.text(127, 0.96,r'N = 6 in water', fontsize=18, color='#1F2E69', family='Arial')\n",
    "plt.xlim(0,180)\n",
    "plt.ylim(0.5,3.5)"
   ]
  },
  {
   "cell_type": "markdown",
   "metadata": {},
   "source": [
    "## N = 30"
   ]
  },
  {
   "cell_type": "code",
   "execution_count": 125,
   "metadata": {},
   "outputs": [],
   "source": [
    "rgplga_awmixn30 = np.load('plga_awmix/n30plga_awmixRg.npy')\n",
    "rgplga_acen30 = np.load('plga_ace/n30plga_aceRg.npy')\n",
    "rgplga_dmson30 = np.load('plga_dmso/n30plga_dmsoRg.npy')\n",
    "rgplga_watn30 = np.load('plga_wat/n30plga_watRg.npy')"
   ]
  },
  {
   "cell_type": "code",
   "execution_count": 126,
   "metadata": {},
   "outputs": [
    {
     "data": {
      "text/plain": [
       "(0.5, 4)"
      ]
     },
     "execution_count": 126,
     "metadata": {},
     "output_type": "execute_result"
    },
    {
     "data": {
      "image/png": "[encoded data removed]",
      "text/plain": [
       "<Figure size 504x504 with 1 Axes>"
      ]
     },
     "metadata": {
      "needs_background": "light"
     },
     "output_type": "display_data"
    }
   ],
   "source": [
    "plt.figure(figsize=(7,7))\n",
    "plt.title(r'PLGA Radius of Gyration', fontsize=18, y=1.01)\n",
    "plt.xlabel(r'Time [ns]', fontsize=15)\n",
    "plt.ylabel(r'$R_{g}$ [nm]', fontsize=15)\n",
    "plt.plot(trj_len/100, rgplga_watn30/10,linewidth=2, color='#6E563A')\n",
    "plt.plot(trj_len/100, rgplga_awmixn30/10,linewidth=2, color='#562A8B')\n",
    "plt.plot(trj_len/100, rgplga_acen30/10,linewidth=2, color='#0371EC')\n",
    "plt.plot(trj_len/100, rgplga_dmson30/10,linewidth=2, color='#418D2B')\n",
    "plt.tick_params(labelsize=14)\n",
    "plt.legend(['N = 30 in water','N = 30 in 0.69 a/w mix','N = 30 in acetone','N = 30 in DMSO'], frameon=False, fontsize=14)\n",
    "#plt.text(127, 0.96,r'N = 6 in water', fontsize=18, color='#1F2E69', family='Arial')\n",
    "plt.xlim(0,180)\n",
    "plt.ylim(0.5,4)"
   ]
  },
  {
   "cell_type": "code",
   "execution_count": null,
   "metadata": {},
   "outputs": [],
   "source": []
  }
 ],
 "metadata": {
  "kernelspec": {
   "display_name": "Python (ppc_env)",
   "language": "python",
   "name": "ppc_env"
  },
  "language_info": {
   "codemirror_mode": {
    "name": "ipython",
    "version": 3
   },
   "file_extension": ".py",
   "mimetype": "text/x-python",
   "name": "python",
   "nbconvert_exporter": "python",
   "pygments_lexer": "ipython3",
   "version": "3.6.9"
  }
 },
 "nbformat": 4,
 "nbformat_minor": 4
}
