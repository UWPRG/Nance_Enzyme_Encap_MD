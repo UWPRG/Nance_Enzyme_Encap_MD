{
 "cells": [
  {
   "cell_type": "code",
   "execution_count": 1,
   "metadata": {},
   "outputs": [],
   "source": [
    "#import the necessary modules \n",
    "%matplotlib inline \n",
    "import numpy as np \n",
    "import matplotlib.pyplot as plt \n",
    "import pandas as pd \n",
    "import scipy\n",
    "import sklearn\n",
    "import itertools \n",
    "from itertools import cycle \n",
    "import os.path as op\n",
    "import timeit \n",
    "import json\n",
    "import math\n"
   ]
  },
  {
   "cell_type": "code",
   "execution_count": 2,
   "metadata": {},
   "outputs": [
    {
     "data": {
      "text/plain": [
       "4"
      ]
     },
     "execution_count": 2,
     "metadata": {},
     "output_type": "execute_result"
    }
   ],
   "source": [
    "import multiprocessing as m_proc\n",
    "m_proc.cpu_count()"
   ]
  },
  {
   "cell_type": "code",
   "execution_count": 3,
   "metadata": {},
   "outputs": [],
   "source": [
    "# Import MDAnalysis\n",
    "import MDAnalysis as mda\n",
    "import statsmodels as stats\n",
    "from MDAnalysis.analysis import polymer, distances, rdf\n",
    "import matplotlib.font_manager as font_manager"
   ]
  },
  {
   "cell_type": "code",
   "execution_count": 4,
   "metadata": {},
   "outputs": [],
   "source": [
    "from polymer_MD_analysis import pers_length, get_rg_pers_poly, bavg_pers_cnt"
   ]
  },
  {
   "cell_type": "markdown",
   "metadata": {},
   "source": [
    "## PLGA/acetone system analysis"
   ]
  },
  {
   "cell_type": "markdown",
   "metadata": {},
   "source": [
    "### N = 6"
   ]
  },
  {
   "cell_type": "code",
   "execution_count": 5,
   "metadata": {},
   "outputs": [],
   "source": [
    "# For the right Rg calculation using MD Analysis, use trajactory without pbc \n",
    "n6_plga_ace = mda.Universe(\"n6plga_ace/n6plgaonly_ace.pdb\", \"n6plga_ace/noace_n6plga.xtc\")"
   ]
  },
  {
   "cell_type": "code",
   "execution_count": 6,
   "metadata": {},
   "outputs": [
    {
     "data": {
      "text/plain": [
       "<XTCReader n6plga_ace/noace_n6plga.xtc with 18001 frames of 93 atoms>"
      ]
     },
     "execution_count": 6,
     "metadata": {},
     "output_type": "execute_result"
    }
   ],
   "source": [
    "n6_plga_ace.trajectory"
   ]
  },
  {
   "cell_type": "code",
   "execution_count": 7,
   "metadata": {},
   "outputs": [
    {
     "data": {
      "text/plain": [
       "18001"
      ]
     },
     "execution_count": 7,
     "metadata": {},
     "output_type": "execute_result"
    }
   ],
   "source": [
    "len(n6_plga_ace.trajectory)"
   ]
  },
  {
   "cell_type": "code",
   "execution_count": 8,
   "metadata": {},
   "outputs": [],
   "source": [
    "#Select the polymer heavy atoms \n",
    "plga_n6ace = n6_plga_ace.select_atoms(\"resname sPLG PLG tPLG and not type H\")"
   ]
  },
  {
   "cell_type": "code",
   "execution_count": 9,
   "metadata": {},
   "outputs": [
    {
     "data": {
      "text/plain": [
       "array([[ 1.        ,  0.80418824,  0.78406901,  0.88975649,  0.84552509],\n",
       "       [ 0.        ,  1.        ,  2.        ,  3.        ,  4.        ],\n",
       "       [ 0.        , 36.4680684 , 38.36534492, 27.15733702, 32.27176096]])"
      ]
     },
     "execution_count": 9,
     "metadata": {},
     "output_type": "execute_result"
    }
   ],
   "source": [
    "crv_n6plga_ace = pers_length(plga_n6ace,6)\n",
    "crv_n6plga_ace"
   ]
  },
  {
   "cell_type": "code",
   "execution_count": 10,
   "metadata": {},
   "outputs": [],
   "source": [
    "com_bond = np.zeros(shape=(1,18000))\n",
    "count = 0\n",
    "for ts in n6_plga_ace.trajectory[0:18000]:\n",
    "    n6_mon1_ace = n6_plga_ace.select_atoms(\"resid 1\")\n",
    "    n6_mon2_ace = n6_plga_ace.select_atoms(\"resid 2\")\n",
    "    oo_len = mda.analysis.distances.distance_array(n6_mon1_ace.center_of_mass(), n6_mon2_ace.center_of_mass(), \n",
    "                                                   box=n6_plga_ace.trajectory.ts.dimensions)\n",
    "    com_bond[0, count] = oo_len\n",
    "    count += 1\n",
    "    "
   ]
  },
  {
   "cell_type": "code",
   "execution_count": 11,
   "metadata": {},
   "outputs": [
    {
     "data": {
      "text/plain": [
       "array([[6.09997491, 6.23139581, 6.17588698, ..., 6.11147967, 6.35360308,\n",
       "        5.97739273]])"
      ]
     },
     "execution_count": 11,
     "metadata": {},
     "output_type": "execute_result"
    }
   ],
   "source": [
    "com_bond"
   ]
  },
  {
   "cell_type": "code",
   "execution_count": 12,
   "metadata": {},
   "outputs": [
    {
     "data": {
      "text/plain": [
       "5.776390474751167"
      ]
     },
     "execution_count": 12,
     "metadata": {},
     "output_type": "execute_result"
    }
   ],
   "source": [
    "lb_avg_pn6 = np.mean(com_bond)\n",
    "lb_avg_pn6"
   ]
  },
  {
   "cell_type": "code",
   "execution_count": 13,
   "metadata": {},
   "outputs": [
    {
     "data": {
      "text/plain": [
       "0.754655677316976"
      ]
     },
     "execution_count": 13,
     "metadata": {},
     "output_type": "execute_result"
    }
   ],
   "source": [
    "np.std(com_bond)"
   ]
  },
  {
   "cell_type": "markdown",
   "metadata": {},
   "source": [
    "### Radius of Gyration vs. time N = 6 PLGA/acetone system"
   ]
  },
  {
   "cell_type": "code",
   "execution_count": 14,
   "metadata": {},
   "outputs": [],
   "source": [
    "n6plga_rgens_ace, cor_n6plga_ace, N6plga_cos_ace, rgace_n6plga = get_rg_pers_poly(plga_n6ace, n6_plga_ace, 0, 18000)"
   ]
  },
  {
   "cell_type": "code",
   "execution_count": 15,
   "metadata": {},
   "outputs": [
    {
     "data": {
      "text/plain": [
       "(18000,)"
      ]
     },
     "execution_count": 15,
     "metadata": {},
     "output_type": "execute_result"
    }
   ],
   "source": [
    "n6plga_rgens_ace[0].shape"
   ]
  },
  {
   "cell_type": "code",
   "execution_count": 16,
   "metadata": {},
   "outputs": [
    {
     "data": {
      "text/plain": [
       "array([0., 1., 2., 3., 4.])"
      ]
     },
     "execution_count": 16,
     "metadata": {},
     "output_type": "execute_result"
    }
   ],
   "source": [
    "cor_n6plga_ace[3]"
   ]
  },
  {
   "cell_type": "code",
   "execution_count": 17,
   "metadata": {},
   "outputs": [
    {
     "data": {
      "text/plain": [
       "array([[1.        , 1.        , 1.        , ..., 1.        , 1.        ,\n",
       "        1.        ],\n",
       "       [0.80418824, 0.76674876, 0.77881425, ..., 0.71354447, 0.72123038,\n",
       "        0.71194262],\n",
       "       [0.78406901, 0.68253334, 0.6990683 , ..., 0.40634536, 0.40426327,\n",
       "        0.46990348],\n",
       "       [0.88975649, 0.80336439, 0.7596556 , ..., 0.12319902, 0.26602247,\n",
       "        0.23823692],\n",
       "       [0.84552509, 0.6760903 , 0.65165184, ..., 0.08778806, 0.21868856,\n",
       "        0.13939959]])"
      ]
     },
     "execution_count": 17,
     "metadata": {},
     "output_type": "execute_result"
    }
   ],
   "source": [
    "N6plga_cos_ace"
   ]
  },
  {
   "cell_type": "code",
   "execution_count": 18,
   "metadata": {},
   "outputs": [
    {
     "data": {
      "text/plain": [
       "7.521699001337743"
      ]
     },
     "execution_count": 18,
     "metadata": {},
     "output_type": "execute_result"
    }
   ],
   "source": [
    "rgace_n6plga"
   ]
  },
  {
   "cell_type": "code",
   "execution_count": 19,
   "metadata": {},
   "outputs": [
    {
     "data": {
      "text/plain": [
       "1.311830503727833"
      ]
     },
     "execution_count": 19,
     "metadata": {},
     "output_type": "execute_result"
    }
   ],
   "source": [
    "np.std(n6plga_rgens_ace)"
   ]
  },
  {
   "cell_type": "code",
   "execution_count": 20,
   "metadata": {},
   "outputs": [
    {
     "data": {
      "text/plain": [
       "array([    0,     1,     2, ..., 17997, 17998, 17999])"
      ]
     },
     "execution_count": 20,
     "metadata": {},
     "output_type": "execute_result"
    }
   ],
   "source": [
    "trj_len = np.arange(18000)\n",
    "\n",
    "#trj_len += 1\n",
    "trj_len\n"
   ]
  },
  {
   "cell_type": "code",
   "execution_count": 21,
   "metadata": {},
   "outputs": [
    {
     "data": {
      "text/plain": [
       "(0.2, 2)"
      ]
     },
     "execution_count": 21,
     "metadata": {},
     "output_type": "execute_result"
    },
    {
     "data": {
      "image/png": "[encoded data removed]",
      "text/plain": [
       "<Figure size 504x504 with 1 Axes>"
      ]
     },
     "metadata": {
      "needs_background": "light"
     },
     "output_type": "display_data"
    }
   ],
   "source": [
    "plt.figure(figsize=(7,7))\n",
    "plt.title(r'PLGA Radius of Gyration', fontsize=18, y=1.01)\n",
    "plt.xlabel(r'Time [ns]', fontsize=15)\n",
    "plt.ylabel(r'$R_{g}$ [nm]', fontsize=15)\n",
    "plt.plot(trj_len/100, n6plga_rgens_ace[0]/10,linewidth=2, color='#CCBE9F')\n",
    "plt.tick_params(labelsize=14)\n",
    "plt.legend(['N = 6 in acetone'], frameon=False, fontsize=14)\n",
    "#plt.text(127, 0.96,r'N = 6 in water', fontsize=18, color='#1F2E69', family='Arial')\n",
    "plt.xlim(0,180)\n",
    "plt.ylim(0.2,2)"
   ]
  },
  {
   "cell_type": "markdown",
   "metadata": {},
   "source": [
    "#### Correlation values at each arc length for the whole 180 ns trajectory, N = 6 PLGA/acetone system"
   ]
  },
  {
   "cell_type": "code",
   "execution_count": 22,
   "metadata": {},
   "outputs": [
    {
     "data": {
      "text/plain": [
       "array([ 0.        ,  5.77639047, 11.55278095, 17.32917142, 23.1055619 ])"
      ]
     },
     "execution_count": 22,
     "metadata": {},
     "output_type": "execute_result"
    }
   ],
   "source": [
    "# x values\n",
    "blen_ace = cor_n6plga_ace[3]*lb_avg_pn6\n",
    "#nt_tt[0] = 0\n",
    "blen_ace"
   ]
  },
  {
   "cell_type": "code",
   "execution_count": 23,
   "metadata": {},
   "outputs": [
    {
     "data": {
      "text/plain": [
       "array([6.40453183e-17, 7.27798271e-02, 2.69756620e-01, 6.84521356e-01,\n",
       "       1.36239423e+00])"
      ]
     },
     "execution_count": 23,
     "metadata": {},
     "output_type": "execute_result"
    }
   ],
   "source": [
    "mk_n6p_ace = cor_n6plga_ace[1]/cor_n6plga_ace[0]\n",
    "mk_n6p_ace"
   ]
  },
  {
   "cell_type": "code",
   "execution_count": 24,
   "metadata": {},
   "outputs": [
    {
     "data": {
      "text/plain": [
       "<ErrorbarContainer object of 3 artists>"
      ]
     },
     "execution_count": 24,
     "metadata": {},
     "output_type": "execute_result"
    },
    {
     "data": {
      "image/png": "[encoded data removed]",
      "text/plain": [
       "<Figure size 504x504 with 1 Axes>"
      ]
     },
     "metadata": {
      "needs_background": "light"
     },
     "output_type": "display_data"
    }
   ],
   "source": [
    "plt.figure(figsize=(7,7))\n",
    "plt.errorbar(blen_ace, np.log(cor_n6plga_ace[0]), yerr=mk_n6p_ace, color='b', linestyle=\"None\",marker='o',\n",
    "     capsize=5, capthick=1, ecolor='black')"
   ]
  },
  {
   "cell_type": "code",
   "execution_count": 25,
   "metadata": {},
   "outputs": [
    {
     "name": "stdout",
     "output_type": "stream",
     "text": [
      "3000\n",
      "6000\n",
      "Lp [Angstroms]: 36.375315685330406\n",
      "Error in Lp from fit [Angstroms], 95% CL : 2.6334653567349466\n",
      "R2 score: 0.9939700546471583\n",
      "6000\n",
      "9000\n",
      "Lp [Angstroms]: 21.46186188740285\n",
      "Error in Lp from fit [Angstroms], 95% CL : 4.605192554986109\n",
      "R2 score: 0.9534388150244848\n",
      "9000\n",
      "12000\n",
      "Lp [Angstroms]: 36.29490748747227\n",
      "Error in Lp from fit [Angstroms], 95% CL : 4.237767605066813\n",
      "R2 score: 0.9848944667067299\n",
      "12000\n",
      "15000\n",
      "Lp [Angstroms]: 36.47369269837199\n",
      "Error in Lp from fit [Angstroms], 95% CL : 4.2550579766834336\n",
      "R2 score: 0.9849185844817137\n",
      "15000\n",
      "18000\n",
      "Lp [Angstroms]: 34.10878259252371\n",
      "Error in Lp from fit [Angstroms], 95% CL : 4.268448186597013\n",
      "R2 score: 0.9827754581661247\n"
     ]
    }
   ],
   "source": [
    "# All the points give the best fits for N = 6 peg in water\n",
    "n6_blksplga_ace , n6plga_lpace = bavg_pers_cnt(5, plga_n6ace, n6_plga_ace, lb_avg_pn6, 3, 3000 , 18000)"
   ]
  },
  {
   "cell_type": "code",
   "execution_count": 26,
   "metadata": {},
   "outputs": [
    {
     "data": {
      "text/plain": [
       "{'Avg Radius of gyration': array([7.57664606, 6.753936  , 7.83857943, 7.83258879, 7.65186473]),\n",
       " 'Avg persistence length': array([36.37531569, 21.46186189, 36.29490749, 36.4736927 , 34.10878259])}"
      ]
     },
     "execution_count": 26,
     "metadata": {},
     "output_type": "execute_result"
    }
   ],
   "source": [
    "n6_blksplga_ace"
   ]
  },
  {
   "cell_type": "code",
   "execution_count": 27,
   "metadata": {},
   "outputs": [
    {
     "data": {
      "text/plain": [
       "array([[ 3.63753157e+01,  2.14618619e+01,  3.62949075e+01,\n",
       "         3.64736927e+01,  3.41087826e+01],\n",
       "       [ 2.63346536e+00,  4.60519255e+00,  4.23776761e+00,\n",
       "         4.25505798e+00,  4.26844819e+00],\n",
       "       [-2.74911703e-02, -4.65942799e-02, -2.75520746e-02,\n",
       "        -2.74170210e-02, -2.93179622e-02],\n",
       "       [ 1.07092705e-04,  2.70245057e-03,  2.79784244e-04,\n",
       "         2.76581915e-04,  3.63920824e-04]])"
      ]
     },
     "execution_count": 27,
     "metadata": {},
     "output_type": "execute_result"
    }
   ],
   "source": [
    "n6plga_lpace"
   ]
  },
  {
   "cell_type": "code",
   "execution_count": 28,
   "metadata": {},
   "outputs": [
    {
     "data": {
      "text/plain": [
       "array([-0.02749117, -0.04659428, -0.02755207, -0.02741702, -0.02931796])"
      ]
     },
     "execution_count": 28,
     "metadata": {},
     "output_type": "execute_result"
    }
   ],
   "source": [
    "n6plga_lpace[2]"
   ]
  },
  {
   "cell_type": "code",
   "execution_count": 29,
   "metadata": {},
   "outputs": [
    {
     "data": {
      "text/plain": [
       "0.0007459660523214326"
      ]
     },
     "execution_count": 29,
     "metadata": {},
     "output_type": "execute_result"
    }
   ],
   "source": [
    "np.mean(n6plga_lpace[3])"
   ]
  },
  {
   "cell_type": "code",
   "execution_count": 30,
   "metadata": {},
   "outputs": [],
   "source": [
    "def line_fit(slope, x):\n",
    "    return slope*x "
   ]
  },
  {
   "cell_type": "code",
   "execution_count": 31,
   "metadata": {},
   "outputs": [
    {
     "data": {
      "text/plain": [
       "array([ 0.        ,  5.77639047, 11.55278095, 17.32917142, 23.1055619 ])"
      ]
     },
     "execution_count": 31,
     "metadata": {},
     "output_type": "execute_result"
    }
   ],
   "source": [
    "blen_ace"
   ]
  },
  {
   "cell_type": "code",
   "execution_count": 32,
   "metadata": {},
   "outputs": [],
   "source": [
    "gg_n6plga_ace = line_fit(np.mean(n6plga_lpace[2]),blen_ace)"
   ]
  },
  {
   "cell_type": "code",
   "execution_count": 33,
   "metadata": {},
   "outputs": [
    {
     "data": {
      "text/plain": [
       "array([-0.        , -0.18296429, -0.36592858, -0.54889287, -0.73185716])"
      ]
     },
     "execution_count": 33,
     "metadata": {},
     "output_type": "execute_result"
    }
   ],
   "source": [
    "gg_n6plga_ace"
   ]
  },
  {
   "cell_type": "markdown",
   "metadata": {},
   "source": [
    "### Block averaged Radius of gyration and persistence length, N = 6 PLGA/acetone system"
   ]
  },
  {
   "cell_type": "code",
   "execution_count": 34,
   "metadata": {},
   "outputs": [
    {
     "data": {
      "text/plain": [
       "32.942912070220245"
      ]
     },
     "execution_count": 34,
     "metadata": {},
     "output_type": "execute_result"
    }
   ],
   "source": [
    "np.mean(n6_blksplga_ace[\"Avg persistence length\"])"
   ]
  },
  {
   "cell_type": "code",
   "execution_count": 35,
   "metadata": {},
   "outputs": [
    {
     "data": {
      "text/plain": [
       "5.807881663284455"
      ]
     },
     "execution_count": 35,
     "metadata": {},
     "output_type": "execute_result"
    }
   ],
   "source": [
    "np.std(n6_blksplga_ace[\"Avg persistence length\"])"
   ]
  },
  {
   "cell_type": "code",
   "execution_count": 36,
   "metadata": {},
   "outputs": [
    {
     "data": {
      "text/plain": [
       "7.530723002356703"
      ]
     },
     "execution_count": 36,
     "metadata": {},
     "output_type": "execute_result"
    }
   ],
   "source": [
    "np.mean(n6_blksplga_ace[\"Avg Radius of gyration\"])"
   ]
  },
  {
   "cell_type": "code",
   "execution_count": 37,
   "metadata": {},
   "outputs": [
    {
     "data": {
      "text/plain": [
       "0.40151732970650544"
      ]
     },
     "execution_count": 37,
     "metadata": {},
     "output_type": "execute_result"
    }
   ],
   "source": [
    "np.std(n6_blksplga_ace[\"Avg Radius of gyration\"])"
   ]
  },
  {
   "cell_type": "code",
   "execution_count": 38,
   "metadata": {},
   "outputs": [
    {
     "data": {
      "text/plain": [
       "Text(0.5, -1.82, '$N_{PLGA}$ = 6: $L_{p}$ = 33.1 $\\\\AA$ ± 7.19 $\\\\AA$')"
      ]
     },
     "execution_count": 38,
     "metadata": {},
     "output_type": "execute_result"
    },
    {
     "data": {
      "image/png": "[encoded data removed]",
      "text/plain": [
       "<Figure size 504x504 with 1 Axes>"
      ]
     },
     "metadata": {
      "needs_background": "light"
     },
     "output_type": "display_data"
    }
   ],
   "source": [
    "plt.figure(figsize=(7,7))\n",
    "plt.errorbar(blen_ace, np.log(cor_n6plga_ace[0]), yerr=mk_n6p_ace, color='b', linestyle=\"None\",marker='o',\n",
    "     capsize=5, capthick=1, ecolor='black')\n",
    "plt.plot(blen_ace, gg_n6plga_ace, color='b')\n",
    "plt.title(r'Ensemble Averaged ln(Cosine $\\theta$) in acetone', fontsize=15, y=1.01)\n",
    "plt.xlabel(r'Bond Length', fontsize=15)\n",
    "plt.ylabel(r'ln$\\left< Cos(\\theta)\\right >$', fontsize=15)\n",
    "#plt.ylim(-1.9,0)\n",
    "font = font_manager.FontProperties(family='Arial', style='normal', size='14')\n",
    "plt.tick_params(labelsize=14)\n",
    "plt.text(0.5, -1.82,r'$N_{PLGA}$ = 6: $L_{p}$ = 32.9 $\\AA$ ± 5.81 $\\AA$', fontsize=15, color='b')\n",
    "#plt.text(5,-0.15,r'R$^{2}$ = 0.98', fontsize=15, color='blue')"
   ]
  },
  {
   "cell_type": "code",
   "execution_count": 39,
   "metadata": {},
   "outputs": [
    {
     "data": {
      "text/html": [
       "<div>\n",
       "<style scoped>\n",
       "    .dataframe tbody tr th:only-of-type {\n",
       "        vertical-align: middle;\n",
       "    }\n",
       "\n",
       "    .dataframe tbody tr th {\n",
       "        vertical-align: top;\n",
       "    }\n",
       "\n",
       "    .dataframe thead th {\n",
       "        text-align: right;\n",
       "    }\n",
       "</style>\n",
       "<table border=\"1\" class=\"dataframe\">\n",
       "  <thead>\n",
       "    <tr style=\"text-align: right;\">\n",
       "      <th></th>\n",
       "      <th>$R_{g}$ [Angstrom] N = 6 PLGA in acetone</th>\n",
       "    </tr>\n",
       "  </thead>\n",
       "  <tbody>\n",
       "    <tr>\n",
       "      <td>0</td>\n",
       "      <td>7.576646</td>\n",
       "    </tr>\n",
       "    <tr>\n",
       "      <td>1</td>\n",
       "      <td>6.753936</td>\n",
       "    </tr>\n",
       "    <tr>\n",
       "      <td>2</td>\n",
       "      <td>7.838579</td>\n",
       "    </tr>\n",
       "    <tr>\n",
       "      <td>3</td>\n",
       "      <td>7.832589</td>\n",
       "    </tr>\n",
       "    <tr>\n",
       "      <td>4</td>\n",
       "      <td>7.651865</td>\n",
       "    </tr>\n",
       "  </tbody>\n",
       "</table>\n",
       "</div>"
      ],
      "text/plain": [
       "   $R_{g}$ [Angstrom] N = 6 PLGA in acetone\n",
       "0                                  7.576646\n",
       "1                                  6.753936\n",
       "2                                  7.838579\n",
       "3                                  7.832589\n",
       "4                                  7.651865"
      ]
     },
     "execution_count": 39,
     "metadata": {},
     "output_type": "execute_result"
    }
   ],
   "source": [
    "rgplga_olig_ace =  pd.DataFrame(data=n6_blksplga_ace[\"Avg Radius of gyration\"]\n",
    "                                  , columns=['$R_{g}$ [Angstrom] N = 6 PLGA in acetone'])\n",
    "rgplga_olig_ace"
   ]
  },
  {
   "cell_type": "code",
   "execution_count": 40,
   "metadata": {},
   "outputs": [
    {
     "data": {
      "text/html": [
       "<div>\n",
       "<style scoped>\n",
       "    .dataframe tbody tr th:only-of-type {\n",
       "        vertical-align: middle;\n",
       "    }\n",
       "\n",
       "    .dataframe tbody tr th {\n",
       "        vertical-align: top;\n",
       "    }\n",
       "\n",
       "    .dataframe thead th {\n",
       "        text-align: right;\n",
       "    }\n",
       "</style>\n",
       "<table border=\"1\" class=\"dataframe\">\n",
       "  <thead>\n",
       "    <tr style=\"text-align: right;\">\n",
       "      <th></th>\n",
       "      <th>$L_{p}$ [Angstrom] N = 6 PLGA in acetone</th>\n",
       "    </tr>\n",
       "  </thead>\n",
       "  <tbody>\n",
       "    <tr>\n",
       "      <td>0</td>\n",
       "      <td>36.375316</td>\n",
       "    </tr>\n",
       "    <tr>\n",
       "      <td>1</td>\n",
       "      <td>21.461862</td>\n",
       "    </tr>\n",
       "    <tr>\n",
       "      <td>2</td>\n",
       "      <td>36.294907</td>\n",
       "    </tr>\n",
       "    <tr>\n",
       "      <td>3</td>\n",
       "      <td>36.473693</td>\n",
       "    </tr>\n",
       "    <tr>\n",
       "      <td>4</td>\n",
       "      <td>34.108783</td>\n",
       "    </tr>\n",
       "  </tbody>\n",
       "</table>\n",
       "</div>"
      ],
      "text/plain": [
       "   $L_{p}$ [Angstrom] N = 6 PLGA in acetone\n",
       "0                                 36.375316\n",
       "1                                 21.461862\n",
       "2                                 36.294907\n",
       "3                                 36.473693\n",
       "4                                 34.108783"
      ]
     },
     "execution_count": 40,
     "metadata": {},
     "output_type": "execute_result"
    }
   ],
   "source": [
    "pers_plgat_ace = pd.DataFrame(data=n6_blksplga_ace[\"Avg persistence length\"]\n",
    "                                , columns=[r\"$L_{p}$ [Angstrom] N = 6 PLGA in acetone\"])\n",
    "pers_plgat_ace"
   ]
  },
  {
   "cell_type": "code",
   "execution_count": null,
   "metadata": {},
   "outputs": [],
   "source": []
  },
  {
   "cell_type": "code",
   "execution_count": null,
   "metadata": {},
   "outputs": [],
   "source": []
  },
  {
   "cell_type": "markdown",
   "metadata": {},
   "source": [
    "### N = 8 PLGA/acetone system"
   ]
  },
  {
   "cell_type": "code",
   "execution_count": 41,
   "metadata": {},
   "outputs": [],
   "source": [
    "# For the right Rg calculation using MD Analysis, use trajactory without pbc \n",
    "n8_plga_ace = mda.Universe(\"n8plga_ace/n8plgaonly_ace.pdb\", \"n8plga_ace/noace_n8plga.xtc\")"
   ]
  },
  {
   "cell_type": "code",
   "execution_count": 42,
   "metadata": {},
   "outputs": [
    {
     "data": {
      "text/plain": [
       "<XTCReader n8plga_ace/noace_n8plga.xtc with 18001 frames of 123 atoms>"
      ]
     },
     "execution_count": 42,
     "metadata": {},
     "output_type": "execute_result"
    }
   ],
   "source": [
    "n8_plga_ace.trajectory"
   ]
  },
  {
   "cell_type": "code",
   "execution_count": 43,
   "metadata": {},
   "outputs": [
    {
     "data": {
      "text/plain": [
       "18001"
      ]
     },
     "execution_count": 43,
     "metadata": {},
     "output_type": "execute_result"
    }
   ],
   "source": [
    "len(n8_plga_ace.trajectory)"
   ]
  },
  {
   "cell_type": "code",
   "execution_count": 44,
   "metadata": {},
   "outputs": [],
   "source": [
    "#Select the polymer heavy atoms \n",
    "plga_n8ace = n8_plga_ace.select_atoms(\"resname sPLG PLG tPLG and not type H\")"
   ]
  },
  {
   "cell_type": "code",
   "execution_count": 45,
   "metadata": {},
   "outputs": [
    {
     "data": {
      "text/plain": [
       "array([[ 1.        ,  0.91533462,  0.86862647,  0.82201238,  0.79335317,\n",
       "         0.77483914,  0.85529544],\n",
       "       [ 0.        ,  1.        ,  2.        ,  3.        ,  4.        ,\n",
       "         5.        ,  6.        ],\n",
       "       [ 0.        , 23.74670735, 29.70058323, 34.71324869, 37.50001586,\n",
       "        39.2095495 , 31.20761096]])"
      ]
     },
     "execution_count": 45,
     "metadata": {},
     "output_type": "execute_result"
    }
   ],
   "source": [
    "crv_n8plga_ace = pers_length(plga_n8ace,8)\n",
    "crv_n8plga_ace"
   ]
  },
  {
   "cell_type": "code",
   "execution_count": 46,
   "metadata": {},
   "outputs": [],
   "source": [
    "com_bond_n8ace = np.zeros(shape=(1,18000))\n",
    "count = 0\n",
    "for ts in n8_plga_ace.trajectory[0:18000]:\n",
    "    n8_mon1_ace = n8_plga_ace.select_atoms(\"resid 1\")\n",
    "    n8_mon2_ace = n8_plga_ace.select_atoms(\"resid 2\")\n",
    "    oo_len = mda.analysis.distances.distance_array(n8_mon1_ace.center_of_mass(), n8_mon2_ace.center_of_mass(), \n",
    "                                                   box=n8_plga_ace.trajectory.ts.dimensions)\n",
    "    com_bond_n8ace[0, count] = oo_len\n",
    "    count += 1\n",
    "    "
   ]
  },
  {
   "cell_type": "code",
   "execution_count": 47,
   "metadata": {},
   "outputs": [
    {
     "data": {
      "text/plain": [
       "array([[6.09997491, 6.23139581, 6.17588698, ..., 6.11147967, 6.35360308,\n",
       "        5.97739273]])"
      ]
     },
     "execution_count": 47,
     "metadata": {},
     "output_type": "execute_result"
    }
   ],
   "source": [
    "com_bond"
   ]
  },
  {
   "cell_type": "code",
   "execution_count": 48,
   "metadata": {},
   "outputs": [
    {
     "data": {
      "text/plain": [
       "0.754655677316976"
      ]
     },
     "execution_count": 48,
     "metadata": {},
     "output_type": "execute_result"
    }
   ],
   "source": [
    "np.std(com_bond)"
   ]
  },
  {
   "cell_type": "code",
   "execution_count": 49,
   "metadata": {},
   "outputs": [
    {
     "data": {
      "text/plain": [
       "5.776390474751167"
      ]
     },
     "execution_count": 49,
     "metadata": {},
     "output_type": "execute_result"
    }
   ],
   "source": [
    "lb_avg_pn6 = np.mean(com_bond)\n",
    "lb_avg_pn6"
   ]
  },
  {
   "cell_type": "code",
   "execution_count": 50,
   "metadata": {},
   "outputs": [
    {
     "data": {
      "text/plain": [
       "5.8013055204093025"
      ]
     },
     "execution_count": 50,
     "metadata": {},
     "output_type": "execute_result"
    }
   ],
   "source": [
    "np.mean(com_bond_n8ace)"
   ]
  },
  {
   "cell_type": "code",
   "execution_count": 51,
   "metadata": {},
   "outputs": [
    {
     "data": {
      "text/plain": [
       "0.7411103926303159"
      ]
     },
     "execution_count": 51,
     "metadata": {},
     "output_type": "execute_result"
    }
   ],
   "source": [
    "np.std(com_bond_n8ace)"
   ]
  },
  {
   "cell_type": "markdown",
   "metadata": {},
   "source": [
    "### Radius of Gyration vs. time N = 8 PLGA/acetone system"
   ]
  },
  {
   "cell_type": "code",
   "execution_count": 52,
   "metadata": {},
   "outputs": [],
   "source": [
    "n8plga_rgens_ace, cor_n8plga_ace, N8plga_cos_ace, rgace_n8plga = get_rg_pers_poly(plga_n8ace, n8_plga_ace, 0, 18000)"
   ]
  },
  {
   "cell_type": "code",
   "execution_count": 53,
   "metadata": {},
   "outputs": [
    {
     "data": {
      "text/plain": [
       "(18000,)"
      ]
     },
     "execution_count": 53,
     "metadata": {},
     "output_type": "execute_result"
    }
   ],
   "source": [
    "n8plga_rgens_ace[0].shape"
   ]
  },
  {
   "cell_type": "code",
   "execution_count": 54,
   "metadata": {},
   "outputs": [
    {
     "data": {
      "text/plain": [
       "array([0., 1., 2., 3., 4., 5., 6.])"
      ]
     },
     "execution_count": 54,
     "metadata": {},
     "output_type": "execute_result"
    }
   ],
   "source": [
    "cor_n8plga_ace[3]"
   ]
  },
  {
   "cell_type": "code",
   "execution_count": 55,
   "metadata": {},
   "outputs": [
    {
     "data": {
      "text/plain": [
       "array([[ 1.        ,  1.        ,  1.        , ...,  1.        ,\n",
       "         1.        ,  1.        ],\n",
       "       [ 0.91533462,  0.89514253,  0.93794269, ...,  0.84788652,\n",
       "         0.837037  ,  0.84205115],\n",
       "       [ 0.86862647,  0.9043932 ,  0.91026489, ...,  0.48417805,\n",
       "         0.40528479,  0.44004286],\n",
       "       ...,\n",
       "       [ 0.79335317,  0.90740038,  0.95857886, ..., -0.05480755,\n",
       "         0.01914008,  0.05736382],\n",
       "       [ 0.77483914,  0.86456351,  0.95982635, ..., -0.01413199,\n",
       "        -0.01920024,  0.03051864],\n",
       "       [ 0.85529544,  0.90391547,  0.9393509 , ...,  0.6995028 ,\n",
       "         0.56458189,  0.4548699 ]])"
      ]
     },
     "execution_count": 55,
     "metadata": {},
     "output_type": "execute_result"
    }
   ],
   "source": [
    "N8plga_cos_ace"
   ]
  },
  {
   "cell_type": "code",
   "execution_count": 57,
   "metadata": {},
   "outputs": [
    {
     "data": {
      "text/plain": [
       "8.86797417625803"
      ]
     },
     "execution_count": 57,
     "metadata": {},
     "output_type": "execute_result"
    }
   ],
   "source": [
    "rgace_n8plga"
   ]
  },
  {
   "cell_type": "code",
   "execution_count": 58,
   "metadata": {},
   "outputs": [
    {
     "data": {
      "text/plain": [
       "1.8582385650355728"
      ]
     },
     "execution_count": 58,
     "metadata": {},
     "output_type": "execute_result"
    }
   ],
   "source": [
    "np.std(n8plga_rgens_ace)"
   ]
  },
  {
   "cell_type": "code",
   "execution_count": 59,
   "metadata": {},
   "outputs": [
    {
     "data": {
      "text/plain": [
       "(0.2, 2)"
      ]
     },
     "execution_count": 59,
     "metadata": {},
     "output_type": "execute_result"
    },
    {
     "data": {
      "image/png": "[encoded data removed]",
      "text/plain": [
       "<Figure size 504x504 with 1 Axes>"
      ]
     },
     "metadata": {
      "needs_background": "light"
     },
     "output_type": "display_data"
    }
   ],
   "source": [
    "plt.figure(figsize=(7,7))\n",
    "plt.title(r'PLGA Radius of Gyration', fontsize=18, y=1.01)\n",
    "plt.xlabel(r'Time [ns]', fontsize=15)\n",
    "plt.ylabel(r'$R_{g}$ [nm]', fontsize=15)\n",
    "plt.plot(trj_len/100, n6plga_rgens_ace[0]/10,linewidth=2, color='#CCBE9F')\n",
    "plt.plot(trj_len/100, n8plga_rgens_ace[0]/10,linewidth=2, color='#601A4A')\n",
    "plt.tick_params(labelsize=14)\n",
    "plt.legend(['N = 6 in acetone','N = 8 in acetone'], frameon=False, fontsize=14)\n",
    "#plt.text(127, 0.96,r'N = 6 in water', fontsize=18, color='#1F2E69', family='Arial')\n",
    "plt.xlim(0,180)\n",
    "plt.ylim(0.2,2)"
   ]
  },
  {
   "cell_type": "markdown",
   "metadata": {},
   "source": [
    "#### Correlation values at each arc length for the whole 180 ns trajectory, N = 8 PLGA/acetone system"
   ]
  },
  {
   "cell_type": "code",
   "execution_count": 60,
   "metadata": {},
   "outputs": [
    {
     "data": {
      "text/plain": [
       "array([ 0.        ,  5.77639047, 11.55278095, 17.32917142, 23.1055619 ,\n",
       "       28.88195237, 34.65834285])"
      ]
     },
     "execution_count": 60,
     "metadata": {},
     "output_type": "execute_result"
    }
   ],
   "source": [
    "# x values\n",
    "blen_n8ace = cor_n8plga_ace[3]*lb_avg_pn6\n",
    "#nt_tt[0] = 0\n",
    "blen_n8ace"
   ]
  },
  {
   "cell_type": "code",
   "execution_count": 61,
   "metadata": {},
   "outputs": [
    {
     "data": {
      "text/plain": [
       "array([4.03957800e-17, 5.89120721e-02, 2.05254789e-01, 4.40238751e-01,\n",
       "       7.24410665e-01, 1.16163505e+00, 1.65452212e+00])"
      ]
     },
     "execution_count": 61,
     "metadata": {},
     "output_type": "execute_result"
    }
   ],
   "source": [
    "mk_n8p_ace = cor_n8plga_ace[1]/cor_n8plga_ace[0]\n",
    "mk_n8p_ace"
   ]
  },
  {
   "cell_type": "code",
   "execution_count": 62,
   "metadata": {},
   "outputs": [
    {
     "data": {
      "text/plain": [
       "<ErrorbarContainer object of 3 artists>"
      ]
     },
     "execution_count": 62,
     "metadata": {},
     "output_type": "execute_result"
    },
    {
     "data": {
      "image/png": "[encoded data removed]",
      "text/plain": [
       "<Figure size 504x504 with 1 Axes>"
      ]
     },
     "metadata": {
      "needs_background": "light"
     },
     "output_type": "display_data"
    }
   ],
   "source": [
    "plt.figure(figsize=(7,7))\n",
    "plt.errorbar(blen_ace, np.log(cor_n6plga_ace[0]), yerr=mk_n6p_ace, color='#CCBE9F', linestyle=\"None\",marker='o',\n",
    "     capsize=5, capthick=1, ecolor='black')\n",
    "plt.errorbar(blen_n8ace, np.log(cor_n8plga_ace[0]), yerr=mk_n8p_ace, color='#601A4A', linestyle=\"None\",marker='o',\n",
    "     capsize=5, capthick=1, ecolor='black')"
   ]
  },
  {
   "cell_type": "code",
   "execution_count": 63,
   "metadata": {},
   "outputs": [
    {
     "name": "stdout",
     "output_type": "stream",
     "text": [
      "3000\n",
      "6000\n",
      "Lp [Angstroms]: 29.631152523869194\n",
      "Error in Lp from fit [Angstroms], 95% CL : 2.0362300820700194\n",
      "R2 score: 0.9854935702028589\n",
      "6000\n",
      "9000\n",
      "Lp [Angstroms]: 27.133883065538267\n",
      "Error in Lp from fit [Angstroms], 95% CL : 1.8352007701279733\n",
      "R2 score: 0.9859410710656457\n",
      "9000\n",
      "12000\n",
      "Lp [Angstroms]: 29.235818083886432\n",
      "Error in Lp from fit [Angstroms], 95% CL : 1.6210160750121827\n",
      "R2 score: 0.9903400335102923\n",
      "12000\n",
      "15000\n",
      "Lp [Angstroms]: 38.30586483308147\n",
      "Error in Lp from fit [Angstroms], 95% CL : 1.8515989060262972\n",
      "R2 score: 0.992564709991156\n",
      "15000\n",
      "18000\n",
      "Lp [Angstroms]: 25.473421467537825\n",
      "Error in Lp from fit [Angstroms], 95% CL : 2.988631827364019\n",
      "R2 score: 0.9612151196259052\n"
     ]
    }
   ],
   "source": [
    "# All the points give the best fits for N = 6 peg in water\n",
    "n8_blksplga_ace , n8plga_lpace = bavg_pers_cnt(5, plga_n8ace, n8_plga_ace, lb_avg_pn6, 4, 3000 , 18000)"
   ]
  },
  {
   "cell_type": "code",
   "execution_count": 64,
   "metadata": {},
   "outputs": [
    {
     "data": {
      "text/plain": [
       "{'Avg Radius of gyration': array([8.90711297, 8.57625708, 8.80431312, 9.65388541, 8.75776826]),\n",
       " 'Avg persistence length': array([29.63115252, 27.13388307, 29.23581808, 38.30586483, 25.47342147])}"
      ]
     },
     "execution_count": 64,
     "metadata": {},
     "output_type": "execute_result"
    }
   ],
   "source": [
    "n8_blksplga_ace"
   ]
  },
  {
   "cell_type": "code",
   "execution_count": 65,
   "metadata": {},
   "outputs": [
    {
     "data": {
      "text/plain": [
       "array([[ 2.96311525e+01,  2.71338831e+01,  2.92358181e+01,\n",
       "         3.83058648e+01,  2.54734215e+01],\n",
       "       [ 2.03623008e+00,  1.83520077e+00,  1.62101608e+00,\n",
       "         1.85159891e+00,  2.98863183e+00],\n",
       "       [-3.37482654e-02, -3.68542902e-02, -3.42046184e-02,\n",
       "        -2.61056630e-02, -3.92566033e-02],\n",
       "       [ 7.75226297e-04,  8.95546917e-04,  5.18421034e-04,\n",
       "         2.29510055e-04,  3.05748745e-03]])"
      ]
     },
     "execution_count": 65,
     "metadata": {},
     "output_type": "execute_result"
    }
   ],
   "source": [
    "n8plga_lpace"
   ]
  },
  {
   "cell_type": "code",
   "execution_count": 66,
   "metadata": {},
   "outputs": [
    {
     "data": {
      "text/plain": [
       "array([-0.03374827, -0.03685429, -0.03420462, -0.02610566, -0.0392566 ])"
      ]
     },
     "execution_count": 66,
     "metadata": {},
     "output_type": "execute_result"
    }
   ],
   "source": [
    "n8plga_lpace[2]"
   ]
  },
  {
   "cell_type": "code",
   "execution_count": 67,
   "metadata": {},
   "outputs": [
    {
     "data": {
      "text/plain": [
       "0.0010952383508581662"
      ]
     },
     "execution_count": 67,
     "metadata": {},
     "output_type": "execute_result"
    }
   ],
   "source": [
    "np.mean(n8plga_lpace[3])"
   ]
  },
  {
   "cell_type": "code",
   "execution_count": 68,
   "metadata": {},
   "outputs": [
    {
     "data": {
      "text/plain": [
       "array([ 0.        ,  5.77639047, 11.55278095, 17.32917142, 23.1055619 ,\n",
       "       28.88195237, 34.65834285])"
      ]
     },
     "execution_count": 68,
     "metadata": {},
     "output_type": "execute_result"
    }
   ],
   "source": [
    "blen_n8ace"
   ]
  },
  {
   "cell_type": "code",
   "execution_count": 69,
   "metadata": {},
   "outputs": [],
   "source": [
    "gg_n8plga_ace = line_fit(np.mean(n8plga_lpace[2]),blen_n8ace)"
   ]
  },
  {
   "cell_type": "code",
   "execution_count": 70,
   "metadata": {},
   "outputs": [],
   "source": [
    "gg_n6plga_n8ace = line_fit(np.mean(n6plga_lpace[2]),blen_n8ace)"
   ]
  },
  {
   "cell_type": "code",
   "execution_count": 71,
   "metadata": {},
   "outputs": [
    {
     "data": {
      "text/plain": [
       "array([-0.        , -0.19659303, -0.39318605, -0.58977908, -0.78637211,\n",
       "       -0.98296513, -1.17955816])"
      ]
     },
     "execution_count": 71,
     "metadata": {},
     "output_type": "execute_result"
    }
   ],
   "source": [
    "gg_n8plga_ace"
   ]
  },
  {
   "cell_type": "markdown",
   "metadata": {},
   "source": [
    "### Block averaged Radius of gyration and persistence length, N = 8 PLGA/acetone system"
   ]
  },
  {
   "cell_type": "code",
   "execution_count": 72,
   "metadata": {},
   "outputs": [
    {
     "data": {
      "text/plain": [
       "29.956027994782637"
      ]
     },
     "execution_count": 72,
     "metadata": {},
     "output_type": "execute_result"
    }
   ],
   "source": [
    "np.mean(n8_blksplga_ace[\"Avg persistence length\"])"
   ]
  },
  {
   "cell_type": "code",
   "execution_count": 73,
   "metadata": {},
   "outputs": [
    {
     "data": {
      "text/plain": [
       "4.436266107737995"
      ]
     },
     "execution_count": 73,
     "metadata": {},
     "output_type": "execute_result"
    }
   ],
   "source": [
    "np.std(n8_blksplga_ace[\"Avg persistence length\"])"
   ]
  },
  {
   "cell_type": "code",
   "execution_count": 74,
   "metadata": {},
   "outputs": [
    {
     "data": {
      "text/plain": [
       "8.939867368904865"
      ]
     },
     "execution_count": 74,
     "metadata": {},
     "output_type": "execute_result"
    }
   ],
   "source": [
    "np.mean(n8_blksplga_ace[\"Avg Radius of gyration\"])"
   ]
  },
  {
   "cell_type": "code",
   "execution_count": 75,
   "metadata": {},
   "outputs": [
    {
     "data": {
      "text/plain": [
       "0.3727310276797623"
      ]
     },
     "execution_count": 75,
     "metadata": {},
     "output_type": "execute_result"
    }
   ],
   "source": [
    "np.std(n8_blksplga_ace[\"Avg Radius of gyration\"])"
   ]
  },
  {
   "cell_type": "code",
   "execution_count": 118,
   "metadata": {},
   "outputs": [
    {
     "data": {
      "text/plain": [
       "Text(0.5, -6.54, '$N_{PLGA}$ = 8: $L_{p}$ = 30.0 $\\\\AA$ ± 4.44 $\\\\AA$')"
      ]
     },
     "execution_count": 118,
     "metadata": {},
     "output_type": "execute_result"
    },
    {
     "data": {
      "image/png": "[encoded data removed]",
      "text/plain": [
       "<Figure size 504x504 with 1 Axes>"
      ]
     },
     "metadata": {
      "needs_background": "light"
     },
     "output_type": "display_data"
    }
   ],
   "source": [
    "plt.figure(figsize=(7,7))\n",
    "plt.errorbar(blen_ace, np.log(cor_n6plga_ace[0]), yerr=mk_n6p_ace, color='#CCBE9F', linestyle=\"None\",marker='o',\n",
    "     capsize=5, capthick=1, ecolor='black')\n",
    "plt.errorbar(blen_n8ace, np.log(cor_n8plga_ace[0]), yerr=mk_n8p_ace, color='#601A4A', linestyle=\"None\",marker='o',\n",
    "     capsize=5, capthick=1, ecolor='black')\n",
    "plt.plot(blen_n8ace, gg_n6plga_n8ace, color='#CCBE9F')\n",
    "plt.plot(blen_n8ace, gg_n8plga_ace, color='#601A4A')\n",
    "plt.title(r'Ensemble Averaged ln(Cosine $\\theta$) in acetone', fontsize=15, y=1.01)\n",
    "plt.xlabel(r'Bond Length', fontsize=15)\n",
    "plt.ylabel(r'ln$\\left< Cos(\\theta)\\right >$', fontsize=15)\n",
    "plt.ylim(-7,1)\n",
    "plt.xlim(0,165)\n",
    "font = font_manager.FontProperties(family='Arial', style='normal', size='14')\n",
    "#plt.legend([r'$N_{PEG}$ = 6: $L_{p}$ = 10.7 $\\AA$ ± 1.62 $\\AA$'], loc=3, frameon=0, fontsize=14, prop=font)\n",
    "plt.tick_params(labelsize=14)\n",
    "plt.text(0.5, -6.92,r'$N_{PLGA}$ = 6: $L_{p}$ = 32.9 $\\AA$ ± 5.81 $\\AA$', fontsize=15, color='#CCBE9F')\n",
    "plt.text(0.5, -6.54,r'$N_{PLGA}$ = 8: $L_{p}$ = 30.0 $\\AA$ ± 4.44 $\\AA$', fontsize=15, color='#601A4A')"
   ]
  },
  {
   "cell_type": "code",
   "execution_count": 77,
   "metadata": {},
   "outputs": [
    {
     "data": {
      "text/html": [
       "<div>\n",
       "<style scoped>\n",
       "    .dataframe tbody tr th:only-of-type {\n",
       "        vertical-align: middle;\n",
       "    }\n",
       "\n",
       "    .dataframe tbody tr th {\n",
       "        vertical-align: top;\n",
       "    }\n",
       "\n",
       "    .dataframe thead th {\n",
       "        text-align: right;\n",
       "    }\n",
       "</style>\n",
       "<table border=\"1\" class=\"dataframe\">\n",
       "  <thead>\n",
       "    <tr style=\"text-align: right;\">\n",
       "      <th></th>\n",
       "      <th>$R_{g}$ [Angstrom] N = 6 PLGA in acetone</th>\n",
       "      <th>$R_{g}$ [Angstrom] N = 8 PLGA in acetone</th>\n",
       "    </tr>\n",
       "  </thead>\n",
       "  <tbody>\n",
       "    <tr>\n",
       "      <td>0</td>\n",
       "      <td>7.576646</td>\n",
       "      <td>8.907113</td>\n",
       "    </tr>\n",
       "    <tr>\n",
       "      <td>1</td>\n",
       "      <td>6.753936</td>\n",
       "      <td>8.576257</td>\n",
       "    </tr>\n",
       "    <tr>\n",
       "      <td>2</td>\n",
       "      <td>7.838579</td>\n",
       "      <td>8.804313</td>\n",
       "    </tr>\n",
       "    <tr>\n",
       "      <td>3</td>\n",
       "      <td>7.832589</td>\n",
       "      <td>9.653885</td>\n",
       "    </tr>\n",
       "    <tr>\n",
       "      <td>4</td>\n",
       "      <td>7.651865</td>\n",
       "      <td>8.757768</td>\n",
       "    </tr>\n",
       "  </tbody>\n",
       "</table>\n",
       "</div>"
      ],
      "text/plain": [
       "   $R_{g}$ [Angstrom] N = 6 PLGA in acetone  \\\n",
       "0                                  7.576646   \n",
       "1                                  6.753936   \n",
       "2                                  7.838579   \n",
       "3                                  7.832589   \n",
       "4                                  7.651865   \n",
       "\n",
       "   $R_{g}$ [Angstrom] N = 8 PLGA in acetone  \n",
       "0                                  8.907113  \n",
       "1                                  8.576257  \n",
       "2                                  8.804313  \n",
       "3                                  9.653885  \n",
       "4                                  8.757768  "
      ]
     },
     "execution_count": 77,
     "metadata": {},
     "output_type": "execute_result"
    }
   ],
   "source": [
    "rgplga_olig_ace[r\"$R_{g}$ [Angstrom] N = 8 PLGA in acetone\"] = n8_blksplga_ace[\"Avg Radius of gyration\"]\n",
    "rgplga_olig_ace"
   ]
  },
  {
   "cell_type": "code",
   "execution_count": 78,
   "metadata": {},
   "outputs": [
    {
     "data": {
      "text/html": [
       "<div>\n",
       "<style scoped>\n",
       "    .dataframe tbody tr th:only-of-type {\n",
       "        vertical-align: middle;\n",
       "    }\n",
       "\n",
       "    .dataframe tbody tr th {\n",
       "        vertical-align: top;\n",
       "    }\n",
       "\n",
       "    .dataframe thead th {\n",
       "        text-align: right;\n",
       "    }\n",
       "</style>\n",
       "<table border=\"1\" class=\"dataframe\">\n",
       "  <thead>\n",
       "    <tr style=\"text-align: right;\">\n",
       "      <th></th>\n",
       "      <th>$L_{p}$ [Angstrom] N = 6 PLGA in acetone</th>\n",
       "      <th>$L_{p}$ [Angstrom] N = 8 PLGA in acetone</th>\n",
       "    </tr>\n",
       "  </thead>\n",
       "  <tbody>\n",
       "    <tr>\n",
       "      <td>0</td>\n",
       "      <td>36.375316</td>\n",
       "      <td>29.631153</td>\n",
       "    </tr>\n",
       "    <tr>\n",
       "      <td>1</td>\n",
       "      <td>21.461862</td>\n",
       "      <td>27.133883</td>\n",
       "    </tr>\n",
       "    <tr>\n",
       "      <td>2</td>\n",
       "      <td>36.294907</td>\n",
       "      <td>29.235818</td>\n",
       "    </tr>\n",
       "    <tr>\n",
       "      <td>3</td>\n",
       "      <td>36.473693</td>\n",
       "      <td>38.305865</td>\n",
       "    </tr>\n",
       "    <tr>\n",
       "      <td>4</td>\n",
       "      <td>34.108783</td>\n",
       "      <td>25.473421</td>\n",
       "    </tr>\n",
       "  </tbody>\n",
       "</table>\n",
       "</div>"
      ],
      "text/plain": [
       "   $L_{p}$ [Angstrom] N = 6 PLGA in acetone  \\\n",
       "0                                 36.375316   \n",
       "1                                 21.461862   \n",
       "2                                 36.294907   \n",
       "3                                 36.473693   \n",
       "4                                 34.108783   \n",
       "\n",
       "   $L_{p}$ [Angstrom] N = 8 PLGA in acetone  \n",
       "0                                 29.631153  \n",
       "1                                 27.133883  \n",
       "2                                 29.235818  \n",
       "3                                 38.305865  \n",
       "4                                 25.473421  "
      ]
     },
     "execution_count": 78,
     "metadata": {},
     "output_type": "execute_result"
    }
   ],
   "source": [
    "pers_plgat_ace[r\"$L_{p}$ [Angstrom] N = 8 PLGA in acetone\"] = n8_blksplga_ace[\"Avg persistence length\"]\n",
    "pers_plgat_ace"
   ]
  },
  {
   "cell_type": "markdown",
   "metadata": {},
   "source": [
    "### N = 10 PLGA/acetone system"
   ]
  },
  {
   "cell_type": "code",
   "execution_count": 79,
   "metadata": {},
   "outputs": [],
   "source": [
    "# For the right Rg calculation using MD Analysis, use trajactory without pbc \n",
    "n10_plga_ace = mda.Universe(\"n10plga_ace/n10plgaonly_ace.pdb\", \"n10plga_ace/noace_n10plga.xtc\")"
   ]
  },
  {
   "cell_type": "code",
   "execution_count": 80,
   "metadata": {},
   "outputs": [
    {
     "data": {
      "text/plain": [
       "<XTCReader n10plga_ace/noace_n10plga.xtc with 18001 frames of 153 atoms>"
      ]
     },
     "execution_count": 80,
     "metadata": {},
     "output_type": "execute_result"
    }
   ],
   "source": [
    "n10_plga_ace.trajectory"
   ]
  },
  {
   "cell_type": "code",
   "execution_count": 81,
   "metadata": {},
   "outputs": [
    {
     "data": {
      "text/plain": [
       "18001"
      ]
     },
     "execution_count": 81,
     "metadata": {},
     "output_type": "execute_result"
    }
   ],
   "source": [
    "len(n10_plga_ace.trajectory)"
   ]
  },
  {
   "cell_type": "code",
   "execution_count": 82,
   "metadata": {},
   "outputs": [],
   "source": [
    "#Select the polymer heavy atoms \n",
    "plga_n10ace = n10_plga_ace.select_atoms(\"resname sPLG PLG tPLG and not type H\")"
   ]
  },
  {
   "cell_type": "code",
   "execution_count": 83,
   "metadata": {},
   "outputs": [
    {
     "data": {
      "text/plain": [
       "array([[ 1.        ,  0.91743975,  0.88364145,  0.79619723,  0.77575572,\n",
       "         0.67287339,  0.70815492,  0.59253441,  0.77960547],\n",
       "       [ 0.        ,  1.        ,  2.        ,  3.        ,  4.        ,\n",
       "         5.        ,  6.        ,  7.        ,  8.        ],\n",
       "       [ 0.        , 23.44538506, 27.91520164, 37.2315163 , 39.12640103,\n",
       "        47.71077649, 44.91500758, 53.66293554, 38.77553342]])"
      ]
     },
     "execution_count": 83,
     "metadata": {},
     "output_type": "execute_result"
    }
   ],
   "source": [
    "crv_n10plga_ace = pers_length(plga_n10ace,10)\n",
    "crv_n10plga_ace"
   ]
  },
  {
   "cell_type": "code",
   "execution_count": 84,
   "metadata": {},
   "outputs": [],
   "source": [
    "com_bond_n10ace = np.zeros(shape=(1,18000))\n",
    "count = 0\n",
    "for ts in n10_plga_ace.trajectory[0:18000]:\n",
    "    n10_mon1_ace = n10_plga_ace.select_atoms(\"resid 1\")\n",
    "    n10_mon2_ace = n10_plga_ace.select_atoms(\"resid 2\")\n",
    "    oo_len = mda.analysis.distances.distance_array(n10_mon1_ace.center_of_mass(), n10_mon2_ace.center_of_mass(), \n",
    "                                                   box=n10_plga_ace.trajectory.ts.dimensions)\n",
    "    com_bond_n10ace[0, count] = oo_len\n",
    "    count += 1\n",
    "    "
   ]
  },
  {
   "cell_type": "code",
   "execution_count": 85,
   "metadata": {},
   "outputs": [
    {
     "data": {
      "text/plain": [
       "array([[6.09997491, 6.23139581, 6.17588698, ..., 6.11147967, 6.35360308,\n",
       "        5.97739273]])"
      ]
     },
     "execution_count": 85,
     "metadata": {},
     "output_type": "execute_result"
    }
   ],
   "source": [
    "com_bond"
   ]
  },
  {
   "cell_type": "code",
   "execution_count": 86,
   "metadata": {},
   "outputs": [
    {
     "data": {
      "text/plain": [
       "0.754655677316976"
      ]
     },
     "execution_count": 86,
     "metadata": {},
     "output_type": "execute_result"
    }
   ],
   "source": [
    "np.std(com_bond)"
   ]
  },
  {
   "cell_type": "code",
   "execution_count": 87,
   "metadata": {},
   "outputs": [
    {
     "data": {
      "text/plain": [
       "5.776390474751167"
      ]
     },
     "execution_count": 87,
     "metadata": {},
     "output_type": "execute_result"
    }
   ],
   "source": [
    "lb_avg_pn6 = np.mean(com_bond)\n",
    "lb_avg_pn6"
   ]
  },
  {
   "cell_type": "code",
   "execution_count": 88,
   "metadata": {},
   "outputs": [
    {
     "data": {
      "text/plain": [
       "5.786794440728252"
      ]
     },
     "execution_count": 88,
     "metadata": {},
     "output_type": "execute_result"
    }
   ],
   "source": [
    "np.mean(com_bond_n10ace)"
   ]
  },
  {
   "cell_type": "code",
   "execution_count": 89,
   "metadata": {},
   "outputs": [
    {
     "data": {
      "text/plain": [
       "0.7612660098703158"
      ]
     },
     "execution_count": 89,
     "metadata": {},
     "output_type": "execute_result"
    }
   ],
   "source": [
    "np.std(com_bond_n10ace)"
   ]
  },
  {
   "cell_type": "markdown",
   "metadata": {},
   "source": [
    "### Radius of Gyration vs. time N = 10 PLGA/acetone system"
   ]
  },
  {
   "cell_type": "code",
   "execution_count": 90,
   "metadata": {},
   "outputs": [],
   "source": [
    "n10plga_rgens_ace, cor_n10plga_ace, N10plga_cos_ace, rgace_n10plga = get_rg_pers_poly(plga_n10ace, n10_plga_ace, 0, 18000)"
   ]
  },
  {
   "cell_type": "code",
   "execution_count": 91,
   "metadata": {},
   "outputs": [
    {
     "data": {
      "text/plain": [
       "(18000,)"
      ]
     },
     "execution_count": 91,
     "metadata": {},
     "output_type": "execute_result"
    }
   ],
   "source": [
    "n10plga_rgens_ace[0].shape"
   ]
  },
  {
   "cell_type": "code",
   "execution_count": 92,
   "metadata": {},
   "outputs": [
    {
     "data": {
      "text/plain": [
       "array([0., 1., 2., 3., 4., 5., 6., 7., 8.])"
      ]
     },
     "execution_count": 92,
     "metadata": {},
     "output_type": "execute_result"
    }
   ],
   "source": [
    "cor_n10plga_ace[3]"
   ]
  },
  {
   "cell_type": "code",
   "execution_count": 93,
   "metadata": {},
   "outputs": [
    {
     "data": {
      "text/plain": [
       "array([[ 1.        ,  1.        ,  1.        , ...,  1.        ,\n",
       "         1.        ,  1.        ],\n",
       "       [ 0.91743975,  0.92130526,  0.91679038, ...,  0.85780558,\n",
       "         0.83092857,  0.8599365 ],\n",
       "       [ 0.88364145,  0.88813043,  0.87675162, ...,  0.67233315,\n",
       "         0.66591842,  0.68202012],\n",
       "       ...,\n",
       "       [ 0.70815492,  0.58477578,  0.73748024, ..., -0.40883596,\n",
       "        -0.29379971, -0.43409896],\n",
       "       [ 0.59253441,  0.54314792,  0.61426454, ..., -0.65784699,\n",
       "        -0.56431976, -0.69681353],\n",
       "       [ 0.77960547,  0.76025715,  0.89500522, ..., -0.71280749,\n",
       "        -0.7064277 , -0.65191656]])"
      ]
     },
     "execution_count": 93,
     "metadata": {},
     "output_type": "execute_result"
    }
   ],
   "source": [
    "N10plga_cos_ace"
   ]
  },
  {
   "cell_type": "code",
   "execution_count": 94,
   "metadata": {},
   "outputs": [
    {
     "data": {
      "text/plain": [
       "9.420472217951767"
      ]
     },
     "execution_count": 94,
     "metadata": {},
     "output_type": "execute_result"
    }
   ],
   "source": [
    "rgace_n10plga"
   ]
  },
  {
   "cell_type": "code",
   "execution_count": 95,
   "metadata": {},
   "outputs": [
    {
     "data": {
      "text/plain": [
       "2.3374333398639546"
      ]
     },
     "execution_count": 95,
     "metadata": {},
     "output_type": "execute_result"
    }
   ],
   "source": [
    "np.std(n10plga_rgens_ace)"
   ]
  },
  {
   "cell_type": "code",
   "execution_count": 96,
   "metadata": {},
   "outputs": [
    {
     "data": {
      "text/plain": [
       "(0.2, 2)"
      ]
     },
     "execution_count": 96,
     "metadata": {},
     "output_type": "execute_result"
    },
    {
     "data": {
      "image/png": "[encoded data removed]",
      "text/plain": [
       "<Figure size 504x504 with 1 Axes>"
      ]
     },
     "metadata": {
      "needs_background": "light"
     },
     "output_type": "display_data"
    }
   ],
   "source": [
    "plt.figure(figsize=(7,7))\n",
    "plt.title(r'PLGA Radius of Gyration', fontsize=18, y=1.01)\n",
    "plt.xlabel(r'Time [ns]', fontsize=15)\n",
    "plt.ylabel(r'$R_{g}$ [nm]', fontsize=15)\n",
    "plt.plot(trj_len/100, n6plga_rgens_ace[0]/10,linewidth=2, color='#CCBE9F')\n",
    "plt.plot(trj_len/100, n8plga_rgens_ace[0]/10,linewidth=2, color='#601A4A')\n",
    "plt.plot(trj_len/100, n10plga_rgens_ace[0]/10,linewidth=2, color='#2B6322')\n",
    "plt.tick_params(labelsize=14)\n",
    "plt.legend(['N = 6 in acetone','N = 8 in acetone','N = 10 in acetone'], frameon=False, fontsize=14)\n",
    "#plt.text(127, 0.96,r'N = 6 in water', fontsize=18, color='#1F2E69', family='Arial')\n",
    "plt.xlim(0,180)\n",
    "plt.ylim(0.2,2)"
   ]
  },
  {
   "cell_type": "markdown",
   "metadata": {},
   "source": [
    "#### Correlation values at each arc length for the whole 180 ns trajectory, N = 10 PLGA/acetone system"
   ]
  },
  {
   "cell_type": "code",
   "execution_count": 97,
   "metadata": {},
   "outputs": [
    {
     "data": {
      "text/plain": [
       "array([ 0.        ,  5.77639047, 11.55278095, 17.32917142, 23.1055619 ,\n",
       "       28.88195237, 34.65834285, 40.43473332, 46.2111238 ])"
      ]
     },
     "execution_count": 97,
     "metadata": {},
     "output_type": "execute_result"
    }
   ],
   "source": [
    "# x values\n",
    "blen_n10ace = cor_n10plga_ace[3]*lb_avg_pn6\n",
    "#nt_tt[0] = 0\n",
    "blen_n10ace"
   ]
  },
  {
   "cell_type": "code",
   "execution_count": 98,
   "metadata": {},
   "outputs": [
    {
     "data": {
      "text/plain": [
       "array([4.39750481e-17, 5.56115783e-02, 2.07328014e-01, 4.53523590e-01,\n",
       "       7.15964183e-01, 9.36996338e-01, 1.32196902e+00, 1.94475698e+00,\n",
       "       2.79400125e+00])"
      ]
     },
     "execution_count": 98,
     "metadata": {},
     "output_type": "execute_result"
    }
   ],
   "source": [
    "mk_n10p_ace = cor_n10plga_ace[1]/cor_n10plga_ace[0]\n",
    "mk_n10p_ace"
   ]
  },
  {
   "cell_type": "code",
   "execution_count": 99,
   "metadata": {},
   "outputs": [
    {
     "data": {
      "text/plain": [
       "<ErrorbarContainer object of 3 artists>"
      ]
     },
     "execution_count": 99,
     "metadata": {},
     "output_type": "execute_result"
    },
    {
     "data": {
      "image/png": "[encoded data removed]",
      "text/plain": [
       "<Figure size 504x504 with 1 Axes>"
      ]
     },
     "metadata": {
      "needs_background": "light"
     },
     "output_type": "display_data"
    }
   ],
   "source": [
    "plt.figure(figsize=(7,7))\n",
    "plt.errorbar(blen_ace, np.log(cor_n6plga_ace[0]), yerr=mk_n6p_ace, color='#CCBE9F', linestyle=\"None\",marker='o',\n",
    "     capsize=5, capthick=1, ecolor='black')\n",
    "plt.errorbar(blen_n8ace, np.log(cor_n8plga_ace[0]), yerr=mk_n8p_ace, color='#601A4A', linestyle=\"None\",marker='o',\n",
    "     capsize=5, capthick=1, ecolor='black')\n",
    "plt.errorbar(blen_n10ace, np.log(cor_n10plga_ace[0]), yerr=mk_n10p_ace, color='#2B6322', linestyle=\"None\",marker='o',\n",
    "     capsize=5, capthick=1, ecolor='black')"
   ]
  },
  {
   "cell_type": "code",
   "execution_count": 100,
   "metadata": {},
   "outputs": [
    {
     "name": "stdout",
     "output_type": "stream",
     "text": [
      "3000\n",
      "6000\n",
      "Lp [Angstroms]: 22.968325203778594\n",
      "Error in Lp from fit [Angstroms], 95% CL : 1.3831912360473717\n",
      "R2 score: 0.9719819096460731\n",
      "6000\n",
      "9000\n",
      "Lp [Angstroms]: 19.8035885386157\n",
      "Error in Lp from fit [Angstroms], 95% CL : 1.448694433919234\n",
      "R2 score: 0.96020516268547\n",
      "9000\n",
      "12000\n",
      "Lp [Angstroms]: 30.972716254999316\n",
      "Error in Lp from fit [Angstroms], 95% CL : 1.5715850666164173\n",
      "R2 score: 0.9795148347191069\n",
      "12000\n",
      "15000\n",
      "Lp [Angstroms]: 20.112041429318225\n",
      "Error in Lp from fit [Angstroms], 95% CL : 1.5337989941879846\n",
      "R2 score: 0.9571553194849488\n",
      "15000\n",
      "18000\n",
      "Lp [Angstroms]: 30.53722036081892\n",
      "Error in Lp from fit [Angstroms], 95% CL : 1.2875920526177496\n",
      "R2 score: 0.9855116784289771\n"
     ]
    }
   ],
   "source": [
    "# All the points give the best fits for N = 6 peg in water\n",
    "n10_blksplga_ace , n10plga_lpace = bavg_pers_cnt(5, plga_n10ace, n10_plga_ace, lb_avg_pn6, 4, 3000 , 18000)"
   ]
  },
  {
   "cell_type": "code",
   "execution_count": 101,
   "metadata": {},
   "outputs": [
    {
     "data": {
      "text/plain": [
       "{'Avg Radius of gyration': array([ 9.10474178,  8.12797917, 10.58254798,  9.36008483, 10.12716742]),\n",
       " 'Avg persistence length': array([22.9683252 , 19.80358854, 30.97271625, 20.11204143, 30.53722036])}"
      ]
     },
     "execution_count": 101,
     "metadata": {},
     "output_type": "execute_result"
    }
   ],
   "source": [
    "n10_blksplga_ace"
   ]
  },
  {
   "cell_type": "code",
   "execution_count": 102,
   "metadata": {},
   "outputs": [
    {
     "data": {
      "text/plain": [
       "array([[ 2.29683252e+01,  1.98035885e+01,  3.09727163e+01,\n",
       "         2.01120414e+01,  3.05372204e+01],\n",
       "       [ 1.38319124e+00,  1.44869443e+00,  1.57158507e+00,\n",
       "         1.53379899e+00,  1.28759205e+00],\n",
       "       [-4.35382202e-02, -5.04958987e-02, -3.22864805e-02,\n",
       "        -4.97214568e-02, -3.27469229e-02],\n",
       "       [ 2.63287973e-03,  5.22590949e-03,  1.02788017e-03,\n",
       "         5.50676008e-03,  7.30167403e-04]])"
      ]
     },
     "execution_count": 102,
     "metadata": {},
     "output_type": "execute_result"
    }
   ],
   "source": [
    "n10plga_lpace"
   ]
  },
  {
   "cell_type": "code",
   "execution_count": 103,
   "metadata": {},
   "outputs": [
    {
     "data": {
      "text/plain": [
       "array([-0.04353822, -0.0504959 , -0.03228648, -0.04972146, -0.03274692])"
      ]
     },
     "execution_count": 103,
     "metadata": {},
     "output_type": "execute_result"
    }
   ],
   "source": [
    "n10plga_lpace[2]"
   ]
  },
  {
   "cell_type": "code",
   "execution_count": 104,
   "metadata": {},
   "outputs": [
    {
     "data": {
      "text/plain": [
       "0.0030247193751553234"
      ]
     },
     "execution_count": 104,
     "metadata": {},
     "output_type": "execute_result"
    }
   ],
   "source": [
    "np.mean(n10plga_lpace[3])"
   ]
  },
  {
   "cell_type": "code",
   "execution_count": 105,
   "metadata": {},
   "outputs": [
    {
     "data": {
      "text/plain": [
       "array([ 0.        ,  5.77639047, 11.55278095, 17.32917142, 23.1055619 ,\n",
       "       28.88195237, 34.65834285, 40.43473332, 46.2111238 ])"
      ]
     },
     "execution_count": 105,
     "metadata": {},
     "output_type": "execute_result"
    }
   ],
   "source": [
    "blen_n10ace"
   ]
  },
  {
   "cell_type": "code",
   "execution_count": 106,
   "metadata": {},
   "outputs": [],
   "source": [
    "gg_n10plga_ace = line_fit(np.mean(n10plga_lpace[2]),blen_n10ace)"
   ]
  },
  {
   "cell_type": "code",
   "execution_count": 107,
   "metadata": {},
   "outputs": [],
   "source": [
    "gg_n6plga_n10ace = line_fit(np.mean(n6plga_lpace[2]),blen_n10ace)"
   ]
  },
  {
   "cell_type": "code",
   "execution_count": 108,
   "metadata": {},
   "outputs": [],
   "source": [
    "gg_n8plga_n10ace = line_fit(np.mean(n8plga_lpace[2]),blen_n10ace)"
   ]
  },
  {
   "cell_type": "code",
   "execution_count": 109,
   "metadata": {},
   "outputs": [
    {
     "data": {
      "text/plain": [
       "array([-0.        , -0.24120933, -0.48241867, -0.723628  , -0.96483734,\n",
       "       -1.20604667, -1.447256  , -1.68846534, -1.92967467])"
      ]
     },
     "execution_count": 109,
     "metadata": {},
     "output_type": "execute_result"
    }
   ],
   "source": [
    "gg_n10plga_ace"
   ]
  },
  {
   "cell_type": "markdown",
   "metadata": {},
   "source": [
    "### Block averaged Radius of gyration and persistence length, N = 10 PLGA/acetone system"
   ]
  },
  {
   "cell_type": "code",
   "execution_count": 110,
   "metadata": {},
   "outputs": [
    {
     "data": {
      "text/plain": [
       "24.87877835750615"
      ]
     },
     "execution_count": 110,
     "metadata": {},
     "output_type": "execute_result"
    }
   ],
   "source": [
    "np.mean(n10_blksplga_ace[\"Avg persistence length\"])"
   ]
  },
  {
   "cell_type": "code",
   "execution_count": 111,
   "metadata": {},
   "outputs": [
    {
     "data": {
      "text/plain": [
       "4.925103225238329"
      ]
     },
     "execution_count": 111,
     "metadata": {},
     "output_type": "execute_result"
    }
   ],
   "source": [
    "np.std(n10_blksplga_ace[\"Avg persistence length\"])"
   ]
  },
  {
   "cell_type": "code",
   "execution_count": 112,
   "metadata": {},
   "outputs": [
    {
     "data": {
      "text/plain": [
       "9.460504236648068"
      ]
     },
     "execution_count": 112,
     "metadata": {},
     "output_type": "execute_result"
    }
   ],
   "source": [
    "np.mean(n10_blksplga_ace[\"Avg Radius of gyration\"])"
   ]
  },
  {
   "cell_type": "code",
   "execution_count": 113,
   "metadata": {},
   "outputs": [
    {
     "data": {
      "text/plain": [
       "0.8503759149644537"
      ]
     },
     "execution_count": 113,
     "metadata": {},
     "output_type": "execute_result"
    }
   ],
   "source": [
    "np.std(n10_blksplga_ace[\"Avg Radius of gyration\"])"
   ]
  },
  {
   "cell_type": "code",
   "execution_count": 117,
   "metadata": {},
   "outputs": [
    {
     "data": {
      "text/plain": [
       "Text(0.5, -6.14, '$N_{PLGA}$ = 10: $L_{p}$ = 24.9 $\\\\AA$ ± 4.93 $\\\\AA$')"
      ]
     },
     "execution_count": 117,
     "metadata": {},
     "output_type": "execute_result"
    },
    {
     "data": {
      "image/png": "[encoded data removed]",
      "text/plain": [
       "<Figure size 504x504 with 1 Axes>"
      ]
     },
     "metadata": {
      "needs_background": "light"
     },
     "output_type": "display_data"
    }
   ],
   "source": [
    "plt.figure(figsize=(7,7))\n",
    "plt.errorbar(blen_ace, np.log(cor_n6plga_ace[0]), yerr=mk_n6p_ace, color='#CCBE9F', linestyle=\"None\",marker='o',\n",
    "     capsize=5, capthick=1, ecolor='black')\n",
    "plt.errorbar(blen_n8ace, np.log(cor_n8plga_ace[0]), yerr=mk_n8p_ace, color='#601A4A', linestyle=\"None\",marker='o',\n",
    "     capsize=5, capthick=1, ecolor='black')\n",
    "plt.errorbar(blen_n10ace, np.log(cor_n10plga_ace[0]), yerr=mk_n10p_ace, color='#2B6322', linestyle=\"None\",marker='o',\n",
    "     capsize=5, capthick=1, ecolor='black')\n",
    "plt.plot(blen_n10ace, gg_n6plga_n10ace, color='#CCBE9F')\n",
    "plt.plot(blen_n10ace, gg_n8plga_n10ace, color='#601A4A')\n",
    "plt.plot(blen_n10ace, gg_n10plga_ace, color='#2B6322')\n",
    "plt.title(r'Ensemble Averaged ln(Cosine $\\theta$) in acetone', fontsize=15, y=1.01)\n",
    "plt.xlabel(r'Bond Length', fontsize=15)\n",
    "plt.ylabel(r'ln$\\left< Cos(\\theta)\\right >$', fontsize=15)\n",
    "plt.ylim(-7,1)\n",
    "plt.xlim(0,165)\n",
    "font = font_manager.FontProperties(family='Arial', style='normal', size='14')\n",
    "#plt.legend([r'$N_{PEG}$ = 6: $L_{p}$ = 10.7 $\\AA$ ± 1.62 $\\AA$'], loc=3, frameon=0, fontsize=14, prop=font)\n",
    "plt.tick_params(labelsize=14)\n",
    "plt.text(0.5, -6.92,r'$N_{PLGA}$ = 6: $L_{p}$ = 32.9 $\\AA$ ± 5.81 $\\AA$', fontsize=15, color='#CCBE9F')\n",
    "plt.text(0.5, -6.54,r'$N_{PLGA}$ = 8: $L_{p}$ = 30.0 $\\AA$ ± 4.44 $\\AA$', fontsize=15, color='#601A4A')\n",
    "plt.text(0.5, -6.14,r'$N_{PLGA}$ = 10: $L_{p}$ = 24.9 $\\AA$ ± 4.93 $\\AA$', fontsize=15, color='#2B6322')"
   ]
  },
  {
   "cell_type": "code",
   "execution_count": 115,
   "metadata": {},
   "outputs": [
    {
     "data": {
      "text/html": [
       "<div>\n",
       "<style scoped>\n",
       "    .dataframe tbody tr th:only-of-type {\n",
       "        vertical-align: middle;\n",
       "    }\n",
       "\n",
       "    .dataframe tbody tr th {\n",
       "        vertical-align: top;\n",
       "    }\n",
       "\n",
       "    .dataframe thead th {\n",
       "        text-align: right;\n",
       "    }\n",
       "</style>\n",
       "<table border=\"1\" class=\"dataframe\">\n",
       "  <thead>\n",
       "    <tr style=\"text-align: right;\">\n",
       "      <th></th>\n",
       "      <th>$R_{g}$ [Angstrom] N = 6 PLGA in acetone</th>\n",
       "      <th>$R_{g}$ [Angstrom] N = 8 PLGA in acetone</th>\n",
       "      <th>$R_{g}$ [Angstrom] N = 10 PLGA in acetone</th>\n",
       "    </tr>\n",
       "  </thead>\n",
       "  <tbody>\n",
       "    <tr>\n",
       "      <td>0</td>\n",
       "      <td>7.576646</td>\n",
       "      <td>8.907113</td>\n",
       "      <td>9.104742</td>\n",
       "    </tr>\n",
       "    <tr>\n",
       "      <td>1</td>\n",
       "      <td>6.753936</td>\n",
       "      <td>8.576257</td>\n",
       "      <td>8.127979</td>\n",
       "    </tr>\n",
       "    <tr>\n",
       "      <td>2</td>\n",
       "      <td>7.838579</td>\n",
       "      <td>8.804313</td>\n",
       "      <td>10.582548</td>\n",
       "    </tr>\n",
       "    <tr>\n",
       "      <td>3</td>\n",
       "      <td>7.832589</td>\n",
       "      <td>9.653885</td>\n",
       "      <td>9.360085</td>\n",
       "    </tr>\n",
       "    <tr>\n",
       "      <td>4</td>\n",
       "      <td>7.651865</td>\n",
       "      <td>8.757768</td>\n",
       "      <td>10.127167</td>\n",
       "    </tr>\n",
       "  </tbody>\n",
       "</table>\n",
       "</div>"
      ],
      "text/plain": [
       "   $R_{g}$ [Angstrom] N = 6 PLGA in acetone  \\\n",
       "0                                  7.576646   \n",
       "1                                  6.753936   \n",
       "2                                  7.838579   \n",
       "3                                  7.832589   \n",
       "4                                  7.651865   \n",
       "\n",
       "   $R_{g}$ [Angstrom] N = 8 PLGA in acetone  \\\n",
       "0                                  8.907113   \n",
       "1                                  8.576257   \n",
       "2                                  8.804313   \n",
       "3                                  9.653885   \n",
       "4                                  8.757768   \n",
       "\n",
       "   $R_{g}$ [Angstrom] N = 10 PLGA in acetone  \n",
       "0                                   9.104742  \n",
       "1                                   8.127979  \n",
       "2                                  10.582548  \n",
       "3                                   9.360085  \n",
       "4                                  10.127167  "
      ]
     },
     "execution_count": 115,
     "metadata": {},
     "output_type": "execute_result"
    }
   ],
   "source": [
    "rgplga_olig_ace[r\"$R_{g}$ [Angstrom] N = 10 PLGA in acetone\"] = n10_blksplga_ace[\"Avg Radius of gyration\"]\n",
    "rgplga_olig_ace"
   ]
  },
  {
   "cell_type": "code",
   "execution_count": 116,
   "metadata": {},
   "outputs": [
    {
     "data": {
      "text/html": [
       "<div>\n",
       "<style scoped>\n",
       "    .dataframe tbody tr th:only-of-type {\n",
       "        vertical-align: middle;\n",
       "    }\n",
       "\n",
       "    .dataframe tbody tr th {\n",
       "        vertical-align: top;\n",
       "    }\n",
       "\n",
       "    .dataframe thead th {\n",
       "        text-align: right;\n",
       "    }\n",
       "</style>\n",
       "<table border=\"1\" class=\"dataframe\">\n",
       "  <thead>\n",
       "    <tr style=\"text-align: right;\">\n",
       "      <th></th>\n",
       "      <th>$L_{p}$ [Angstrom] N = 6 PLGA in acetone</th>\n",
       "      <th>$L_{p}$ [Angstrom] N = 8 PLGA in acetone</th>\n",
       "      <th>$L_{p}$ [Angstrom] N = 10 PLGA in acetone</th>\n",
       "    </tr>\n",
       "  </thead>\n",
       "  <tbody>\n",
       "    <tr>\n",
       "      <td>0</td>\n",
       "      <td>36.375316</td>\n",
       "      <td>29.631153</td>\n",
       "      <td>22.968325</td>\n",
       "    </tr>\n",
       "    <tr>\n",
       "      <td>1</td>\n",
       "      <td>21.461862</td>\n",
       "      <td>27.133883</td>\n",
       "      <td>19.803589</td>\n",
       "    </tr>\n",
       "    <tr>\n",
       "      <td>2</td>\n",
       "      <td>36.294907</td>\n",
       "      <td>29.235818</td>\n",
       "      <td>30.972716</td>\n",
       "    </tr>\n",
       "    <tr>\n",
       "      <td>3</td>\n",
       "      <td>36.473693</td>\n",
       "      <td>38.305865</td>\n",
       "      <td>20.112041</td>\n",
       "    </tr>\n",
       "    <tr>\n",
       "      <td>4</td>\n",
       "      <td>34.108783</td>\n",
       "      <td>25.473421</td>\n",
       "      <td>30.537220</td>\n",
       "    </tr>\n",
       "  </tbody>\n",
       "</table>\n",
       "</div>"
      ],
      "text/plain": [
       "   $L_{p}$ [Angstrom] N = 6 PLGA in acetone  \\\n",
       "0                                 36.375316   \n",
       "1                                 21.461862   \n",
       "2                                 36.294907   \n",
       "3                                 36.473693   \n",
       "4                                 34.108783   \n",
       "\n",
       "   $L_{p}$ [Angstrom] N = 8 PLGA in acetone  \\\n",
       "0                                 29.631153   \n",
       "1                                 27.133883   \n",
       "2                                 29.235818   \n",
       "3                                 38.305865   \n",
       "4                                 25.473421   \n",
       "\n",
       "   $L_{p}$ [Angstrom] N = 10 PLGA in acetone  \n",
       "0                                  22.968325  \n",
       "1                                  19.803589  \n",
       "2                                  30.972716  \n",
       "3                                  20.112041  \n",
       "4                                  30.537220  "
      ]
     },
     "execution_count": 116,
     "metadata": {},
     "output_type": "execute_result"
    }
   ],
   "source": [
    "pers_plgat_ace[r\"$L_{p}$ [Angstrom] N = 10 PLGA in acetone\"] = n10_blksplga_ace[\"Avg persistence length\"]\n",
    "pers_plgat_ace"
   ]
  },
  {
   "cell_type": "code",
   "execution_count": null,
   "metadata": {},
   "outputs": [],
   "source": []
  },
  {
   "cell_type": "markdown",
   "metadata": {},
   "source": [
    "### N = 20 PLGA/acetone system"
   ]
  },
  {
   "cell_type": "code",
   "execution_count": 119,
   "metadata": {},
   "outputs": [],
   "source": [
    "# For the right Rg calculation using MD Analysis, use trajactory without pbc \n",
    "n20_plga_ace = mda.Universe(\"n20plga_ace/n20plgaonly_ace.pdb\", \"n20plga_ace/noace_n20plga.xtc\")"
   ]
  },
  {
   "cell_type": "code",
   "execution_count": 120,
   "metadata": {},
   "outputs": [
    {
     "data": {
      "text/plain": [
       "<XTCReader n20plga_ace/noace_n20plga.xtc with 18001 frames of 303 atoms>"
      ]
     },
     "execution_count": 120,
     "metadata": {},
     "output_type": "execute_result"
    }
   ],
   "source": [
    "n20_plga_ace.trajectory"
   ]
  },
  {
   "cell_type": "code",
   "execution_count": 121,
   "metadata": {},
   "outputs": [
    {
     "data": {
      "text/plain": [
       "18001"
      ]
     },
     "execution_count": 121,
     "metadata": {},
     "output_type": "execute_result"
    }
   ],
   "source": [
    "len(n20_plga_ace.trajectory)"
   ]
  },
  {
   "cell_type": "code",
   "execution_count": 122,
   "metadata": {},
   "outputs": [],
   "source": [
    "#Select the polymer heavy atoms \n",
    "plga_n20ace = n20_plga_ace.select_atoms(\"resname sPLG PLG tPLG and not type H\")"
   ]
  },
  {
   "cell_type": "code",
   "execution_count": 123,
   "metadata": {},
   "outputs": [
    {
     "data": {
      "text/plain": [
       "array([[ 1.        ,  0.86699995,  0.72733863,  0.61573443,  0.64627067,\n",
       "         0.64222015,  0.63261444,  0.63328864,  0.68520262,  0.68992712,\n",
       "         0.68670519,  0.64656738,  0.59216615,  0.59448875,  0.77399722,\n",
       "         0.748629  ,  0.7938646 ,  0.76235685,  0.93447467],\n",
       "       [ 0.        ,  1.        ,  2.        ,  3.        ,  4.        ,\n",
       "         5.        ,  6.        ,  7.        ,  8.        ,  9.        ,\n",
       "        10.        , 11.        , 12.        , 13.        , 14.        ,\n",
       "        15.        , 16.        , 17.        , 18.        ],\n",
       "       [ 0.        , 29.88813649, 43.33625618, 51.99469498, 49.73898739,\n",
       "        50.04242993, 50.75672407, 50.70682862, 46.74845547, 46.37566002,\n",
       "        46.63014139, 49.71670605, 53.68912421, 53.52380533, 39.2857946 ,\n",
       "        41.5282435 , 37.45185449, 40.3275842 , 20.85656136]])"
      ]
     },
     "execution_count": 123,
     "metadata": {},
     "output_type": "execute_result"
    }
   ],
   "source": [
    "crv_n20plga_ace = pers_length(plga_n20ace,20)\n",
    "crv_n20plga_ace"
   ]
  },
  {
   "cell_type": "code",
   "execution_count": 124,
   "metadata": {},
   "outputs": [],
   "source": [
    "com_bond_n20ace = np.zeros(shape=(1,18000))\n",
    "count = 0\n",
    "for ts in n20_plga_ace.trajectory[0:18000]:\n",
    "    n20_mon1_ace = n20_plga_ace.select_atoms(\"resid 1\")\n",
    "    n20_mon2_ace = n20_plga_ace.select_atoms(\"resid 2\")\n",
    "    oo_len = mda.analysis.distances.distance_array(n20_mon1_ace.center_of_mass(), n20_mon2_ace.center_of_mass(), \n",
    "                                                   box=n20_plga_ace.trajectory.ts.dimensions)\n",
    "    com_bond_n20ace[0, count] = oo_len\n",
    "    count += 1\n",
    "    "
   ]
  },
  {
   "cell_type": "code",
   "execution_count": 125,
   "metadata": {},
   "outputs": [
    {
     "data": {
      "text/plain": [
       "array([[6.09997491, 6.23139581, 6.17588698, ..., 6.11147967, 6.35360308,\n",
       "        5.97739273]])"
      ]
     },
     "execution_count": 125,
     "metadata": {},
     "output_type": "execute_result"
    }
   ],
   "source": [
    "com_bond"
   ]
  },
  {
   "cell_type": "code",
   "execution_count": 126,
   "metadata": {},
   "outputs": [
    {
     "data": {
      "text/plain": [
       "0.754655677316976"
      ]
     },
     "execution_count": 126,
     "metadata": {},
     "output_type": "execute_result"
    }
   ],
   "source": [
    "np.std(com_bond)"
   ]
  },
  {
   "cell_type": "code",
   "execution_count": 127,
   "metadata": {},
   "outputs": [
    {
     "data": {
      "text/plain": [
       "5.776390474751167"
      ]
     },
     "execution_count": 127,
     "metadata": {},
     "output_type": "execute_result"
    }
   ],
   "source": [
    "lb_avg_pn6 = np.mean(com_bond)\n",
    "lb_avg_pn6"
   ]
  },
  {
   "cell_type": "code",
   "execution_count": 128,
   "metadata": {},
   "outputs": [
    {
     "data": {
      "text/plain": [
       "5.724701823899055"
      ]
     },
     "execution_count": 128,
     "metadata": {},
     "output_type": "execute_result"
    }
   ],
   "source": [
    "np.mean(com_bond_n20ace)"
   ]
  },
  {
   "cell_type": "code",
   "execution_count": 129,
   "metadata": {},
   "outputs": [
    {
     "data": {
      "text/plain": [
       "0.8248810639877253"
      ]
     },
     "execution_count": 129,
     "metadata": {},
     "output_type": "execute_result"
    }
   ],
   "source": [
    "np.std(com_bond_n20ace)"
   ]
  },
  {
   "cell_type": "markdown",
   "metadata": {},
   "source": [
    "### Radius of Gyration vs. time N = 20 PLGA/acetone system"
   ]
  },
  {
   "cell_type": "code",
   "execution_count": 131,
   "metadata": {},
   "outputs": [],
   "source": [
    "n20plga_rgens_ace, cor_n20plga_ace, N20plga_cos_ace, rgace_n20plga = get_rg_pers_poly(plga_n20ace, n20_plga_ace, 0, 18000)"
   ]
  },
  {
   "cell_type": "code",
   "execution_count": 132,
   "metadata": {},
   "outputs": [
    {
     "data": {
      "text/plain": [
       "(18000,)"
      ]
     },
     "execution_count": 132,
     "metadata": {},
     "output_type": "execute_result"
    }
   ],
   "source": [
    "n20plga_rgens_ace[0].shape"
   ]
  },
  {
   "cell_type": "code",
   "execution_count": 133,
   "metadata": {},
   "outputs": [
    {
     "data": {
      "text/plain": [
       "array([ 0.,  1.,  2.,  3.,  4.,  5.,  6.,  7.,  8.,  9., 10., 11., 12.,\n",
       "       13., 14., 15., 16., 17., 18.])"
      ]
     },
     "execution_count": 133,
     "metadata": {},
     "output_type": "execute_result"
    }
   ],
   "source": [
    "cor_n20plga_ace[3]"
   ]
  },
  {
   "cell_type": "code",
   "execution_count": 134,
   "metadata": {},
   "outputs": [
    {
     "data": {
      "text/plain": [
       "array([[1.        , 1.        , 1.        , ..., 1.        , 1.        ,\n",
       "        1.        ],\n",
       "       [0.86699995, 0.88566693, 0.89532973, ..., 0.87915399, 0.86626717,\n",
       "        0.86964999],\n",
       "       [0.72733863, 0.74957531, 0.75460655, ..., 0.7385148 , 0.72126072,\n",
       "        0.74327464],\n",
       "       ...,\n",
       "       [0.7938646 , 0.70333613, 0.75069279, ..., 0.84343316, 0.83158171,\n",
       "        0.84738958],\n",
       "       [0.76235685, 0.62741591, 0.69251645, ..., 0.8317201 , 0.82525083,\n",
       "        0.83739762],\n",
       "       [0.93447467, 0.59928183, 0.85830385, ..., 0.69234705, 0.77133442,\n",
       "        0.78710392]])"
      ]
     },
     "execution_count": 134,
     "metadata": {},
     "output_type": "execute_result"
    }
   ],
   "source": [
    "N20plga_cos_ace"
   ]
  },
  {
   "cell_type": "code",
   "execution_count": 135,
   "metadata": {},
   "outputs": [
    {
     "data": {
      "text/plain": [
       "12.38005722655252"
      ]
     },
     "execution_count": 135,
     "metadata": {},
     "output_type": "execute_result"
    }
   ],
   "source": [
    "rgace_n20plga"
   ]
  },
  {
   "cell_type": "code",
   "execution_count": 136,
   "metadata": {},
   "outputs": [
    {
     "data": {
      "text/plain": [
       "3.3862477955576056"
      ]
     },
     "execution_count": 136,
     "metadata": {},
     "output_type": "execute_result"
    }
   ],
   "source": [
    "np.std(n20plga_rgens_ace)"
   ]
  },
  {
   "cell_type": "code",
   "execution_count": 137,
   "metadata": {},
   "outputs": [
    {
     "data": {
      "text/plain": [
       "(0.2, 2)"
      ]
     },
     "execution_count": 137,
     "metadata": {},
     "output_type": "execute_result"
    },
    {
     "data": {
      "image/png": "[encoded data removed]",
      "text/plain": [
       "<Figure size 504x504 with 1 Axes>"
      ]
     },
     "metadata": {
      "needs_background": "light"
     },
     "output_type": "display_data"
    }
   ],
   "source": [
    "plt.figure(figsize=(7,7))\n",
    "plt.title(r'PLGA Radius of Gyration', fontsize=18, y=1.01)\n",
    "plt.xlabel(r'Time [ns]', fontsize=15)\n",
    "plt.ylabel(r'$R_{g}$ [nm]', fontsize=15)\n",
    "plt.plot(trj_len/100, n6plga_rgens_ace[0]/10,linewidth=2, color='#CCBE9F')\n",
    "plt.plot(trj_len/100, n8plga_rgens_ace[0]/10,linewidth=2, color='#601A4A')\n",
    "plt.plot(trj_len/100, n10plga_rgens_ace[0]/10,linewidth=2, color='#2B6322')\n",
    "plt.plot(trj_len/100, n20plga_rgens_ace[0]/10,linewidth=2, color='#562A8B')\n",
    "plt.tick_params(labelsize=14)\n",
    "plt.legend(['N = 6 in acetone','N = 8 in acetone','N = 10 in acetone','N = 20 in acetone'], frameon=False, fontsize=14)\n",
    "#plt.text(127, 0.96,r'N = 6 in water', fontsize=18, color='#1F2E69', family='Arial')\n",
    "plt.xlim(0,180)\n",
    "plt.ylim(0.2,2)"
   ]
  },
  {
   "cell_type": "markdown",
   "metadata": {},
   "source": [
    "#### Correlation values at each arc length for the whole 180 ns trajectory, N = 20 PLGA/acetone system"
   ]
  },
  {
   "cell_type": "code",
   "execution_count": 138,
   "metadata": {},
   "outputs": [
    {
     "data": {
      "text/plain": [
       "array([  0.        ,   5.77639047,  11.55278095,  17.32917142,\n",
       "        23.1055619 ,  28.88195237,  34.65834285,  40.43473332,\n",
       "        46.2111238 ,  51.98751427,  57.76390475,  63.54029522,\n",
       "        69.3166857 ,  75.09307617,  80.86946665,  86.64585712,\n",
       "        92.4222476 ,  98.19863807, 103.97502855])"
      ]
     },
     "execution_count": 138,
     "metadata": {},
     "output_type": "execute_result"
    }
   ],
   "source": [
    "# x values\n",
    "blen_n20ace = cor_n20plga_ace[3]*lb_avg_pn6\n",
    "#nt_tt[0] = 0\n",
    "blen_n20ace"
   ]
  },
  {
   "cell_type": "code",
   "execution_count": 139,
   "metadata": {},
   "outputs": [
    {
     "data": {
      "text/plain": [
       "array([2.35804447e-17, 3.27305990e-02, 1.00277175e-01, 2.09276455e-01,\n",
       "       3.49772875e-01, 4.40963513e-01, 6.03385102e-01, 7.32402838e-01,\n",
       "       8.78591251e-01, 1.06506189e+00, 1.05365033e+00, 1.13478963e+00,\n",
       "       1.25977484e+00, 1.47325477e+00, 1.47886948e+00, 1.50355922e+00,\n",
       "       1.82917968e+00, 1.85032828e+00, 1.89266085e+00])"
      ]
     },
     "execution_count": 139,
     "metadata": {},
     "output_type": "execute_result"
    }
   ],
   "source": [
    "mk_n20p_ace = cor_n20plga_ace[1]/cor_n20plga_ace[0]\n",
    "mk_n20p_ace"
   ]
  },
  {
   "cell_type": "code",
   "execution_count": 140,
   "metadata": {},
   "outputs": [
    {
     "data": {
      "text/plain": [
       "<ErrorbarContainer object of 3 artists>"
      ]
     },
     "execution_count": 140,
     "metadata": {},
     "output_type": "execute_result"
    },
    {
     "data": {
      "image/png": "[encoded data removed]",
      "text/plain": [
       "<Figure size 504x504 with 1 Axes>"
      ]
     },
     "metadata": {
      "needs_background": "light"
     },
     "output_type": "display_data"
    }
   ],
   "source": [
    "plt.figure(figsize=(7,7))\n",
    "plt.errorbar(blen_ace, np.log(cor_n6plga_ace[0]), yerr=mk_n6p_ace, color='#CCBE9F', linestyle=\"None\",marker='o',\n",
    "     capsize=5, capthick=1, ecolor='black')\n",
    "plt.errorbar(blen_n8ace, np.log(cor_n8plga_ace[0]), yerr=mk_n8p_ace, color='#601A4A', linestyle=\"None\",marker='o',\n",
    "     capsize=5, capthick=1, ecolor='black')\n",
    "plt.errorbar(blen_n10ace, np.log(cor_n10plga_ace[0]), yerr=mk_n10p_ace, color='#2B6322', linestyle=\"None\",marker='o',\n",
    "     capsize=5, capthick=1, ecolor='black')\n",
    "plt.errorbar(blen_n20ace, np.log(cor_n20plga_ace[0]), yerr=mk_n20p_ace, color='#562A8B', linestyle=\"None\",marker='o',\n",
    "     capsize=5, capthick=1, ecolor='black')"
   ]
  },
  {
   "cell_type": "code",
   "execution_count": 141,
   "metadata": {},
   "outputs": [
    {
     "name": "stdout",
     "output_type": "stream",
     "text": [
      "3000\n",
      "6000\n",
      "Lp [Angstroms]: 27.840358926596263\n",
      "Error in Lp from fit [Angstroms], 95% CL : 0.3660811492943903\n",
      "R2 score: 0.980525126465789\n",
      "6000\n",
      "9000\n",
      "Lp [Angstroms]: 23.288585420716423\n",
      "Error in Lp from fit [Angstroms], 95% CL : 0.444527389009016\n",
      "R2 score: 0.9615492899179834\n",
      "9000\n",
      "12000\n",
      "Lp [Angstroms]: 28.61478450153929\n",
      "Error in Lp from fit [Angstroms], 95% CL : 0.45395308060838413\n",
      "R2 score: 0.9724934922564257\n",
      "12000\n",
      "15000\n",
      "Lp [Angstroms]: 24.783604684989466\n",
      "Error in Lp from fit [Angstroms], 95% CL : 0.2590807288667928\n",
      "R2 score: 0.9873298680064763\n",
      "15000\n",
      "18000\n",
      "Negative cosine theta values present, doing exponential fit...\n",
      "Lp [Angstroms], Exp. fit: 33.02184544982495\n",
      "Error in Lp from fit [Angstroms]: 0.0017143498183956015\n"
     ]
    }
   ],
   "source": [
    "# All the points give the best fits for N = 6 peg in water\n",
    "n20_blksplga_ace , n20plga_lpace = bavg_pers_cnt(5, plga_n20ace, n20_plga_ace, lb_avg_pn6, 4, 3000 , 18000)"
   ]
  },
  {
   "cell_type": "code",
   "execution_count": 142,
   "metadata": {},
   "outputs": [
    {
     "data": {
      "text/plain": [
       "{'Avg Radius of gyration': array([10.83081276, 12.96154346, 11.09778109, 10.53392096, 15.74439016]),\n",
       " 'Avg persistence length': array([27.84035893, 23.28858542, 28.6147845 , 24.78360468, 33.02184545])}"
      ]
     },
     "execution_count": 142,
     "metadata": {},
     "output_type": "execute_result"
    }
   ],
   "source": [
    "n20_blksplga_ace"
   ]
  },
  {
   "cell_type": "code",
   "execution_count": 143,
   "metadata": {},
   "outputs": [
    {
     "data": {
      "text/plain": [
       "array([[ 2.78403589e+01,  2.32885854e+01,  2.86147845e+01,\n",
       "         2.47836047e+01,  3.30218454e+01],\n",
       "       [ 3.66081149e-01,  4.44527389e-01,  4.53953081e-01,\n",
       "         2.59080729e-01,  1.71434982e-03],\n",
       "       [-3.59190771e-02, -4.29394908e-02, -3.49469695e-02,\n",
       "        -4.03492556e-02, -3.02829835e-02],\n",
       "       [ 1.20436752e-03,  3.62683862e-03,  1.65944796e-03,\n",
       "         9.60541092e-04,  0.00000000e+00]])"
      ]
     },
     "execution_count": 143,
     "metadata": {},
     "output_type": "execute_result"
    }
   ],
   "source": [
    "n20plga_lpace"
   ]
  },
  {
   "cell_type": "code",
   "execution_count": 144,
   "metadata": {},
   "outputs": [
    {
     "data": {
      "text/plain": [
       "array([-0.03591908, -0.04293949, -0.03494697, -0.04034926, -0.03028298])"
      ]
     },
     "execution_count": 144,
     "metadata": {},
     "output_type": "execute_result"
    }
   ],
   "source": [
    "n20plga_lpace[2]"
   ]
  },
  {
   "cell_type": "code",
   "execution_count": 145,
   "metadata": {},
   "outputs": [
    {
     "data": {
      "text/plain": [
       "0.0014902390383239113"
      ]
     },
     "execution_count": 145,
     "metadata": {},
     "output_type": "execute_result"
    }
   ],
   "source": [
    "np.mean(n20plga_lpace[3])"
   ]
  },
  {
   "cell_type": "code",
   "execution_count": 146,
   "metadata": {},
   "outputs": [
    {
     "data": {
      "text/plain": [
       "array([  0.        ,   5.77639047,  11.55278095,  17.32917142,\n",
       "        23.1055619 ,  28.88195237,  34.65834285,  40.43473332,\n",
       "        46.2111238 ,  51.98751427,  57.76390475,  63.54029522,\n",
       "        69.3166857 ,  75.09307617,  80.86946665,  86.64585712,\n",
       "        92.4222476 ,  98.19863807, 103.97502855])"
      ]
     },
     "execution_count": 146,
     "metadata": {},
     "output_type": "execute_result"
    }
   ],
   "source": [
    "blen_n20ace"
   ]
  },
  {
   "cell_type": "code",
   "execution_count": 147,
   "metadata": {},
   "outputs": [],
   "source": [
    "gg_n20plga_ace = line_fit(np.mean(n20plga_lpace[2]),blen_n20ace)"
   ]
  },
  {
   "cell_type": "code",
   "execution_count": 148,
   "metadata": {},
   "outputs": [],
   "source": [
    "gg_n6plga_n20ace = line_fit(np.mean(n6plga_lpace[2]),blen_n20ace)"
   ]
  },
  {
   "cell_type": "code",
   "execution_count": 149,
   "metadata": {},
   "outputs": [],
   "source": [
    "gg_n8plga_n20ace = line_fit(np.mean(n8plga_lpace[2]),blen_n20ace)"
   ]
  },
  {
   "cell_type": "code",
   "execution_count": 150,
   "metadata": {},
   "outputs": [],
   "source": [
    "gg_n10plga_n20ace = line_fit(np.mean(n10plga_lpace[2]),blen_n20ace)"
   ]
  },
  {
   "cell_type": "code",
   "execution_count": 151,
   "metadata": {},
   "outputs": [
    {
     "data": {
      "text/plain": [
       "array([-0.        , -0.21307692, -0.42615385, -0.63923077, -0.85230769,\n",
       "       -1.06538462, -1.27846154, -1.49153846, -1.70461538, -1.91769231,\n",
       "       -2.13076923, -2.34384615, -2.55692308, -2.77      , -2.98307692,\n",
       "       -3.19615385, -3.40923077, -3.62230769, -3.83538462])"
      ]
     },
     "execution_count": 151,
     "metadata": {},
     "output_type": "execute_result"
    }
   ],
   "source": [
    "gg_n20plga_ace"
   ]
  },
  {
   "cell_type": "markdown",
   "metadata": {},
   "source": [
    "### Block averaged Radius of gyration and persistence length, N = 20 PLGA/acetone system"
   ]
  },
  {
   "cell_type": "code",
   "execution_count": 152,
   "metadata": {},
   "outputs": [
    {
     "data": {
      "text/plain": [
       "27.509835796733277"
      ]
     },
     "execution_count": 152,
     "metadata": {},
     "output_type": "execute_result"
    }
   ],
   "source": [
    "np.mean(n20_blksplga_ace[\"Avg persistence length\"])"
   ]
  },
  {
   "cell_type": "code",
   "execution_count": 153,
   "metadata": {},
   "outputs": [
    {
     "data": {
      "text/plain": [
       "3.3753132715961356"
      ]
     },
     "execution_count": 153,
     "metadata": {},
     "output_type": "execute_result"
    }
   ],
   "source": [
    "np.std(n20_blksplga_ace[\"Avg persistence length\"])"
   ]
  },
  {
   "cell_type": "code",
   "execution_count": 154,
   "metadata": {},
   "outputs": [
    {
     "data": {
      "text/plain": [
       "12.233689685364803"
      ]
     },
     "execution_count": 154,
     "metadata": {},
     "output_type": "execute_result"
    }
   ],
   "source": [
    "np.mean(n20_blksplga_ace[\"Avg Radius of gyration\"])"
   ]
  },
  {
   "cell_type": "code",
   "execution_count": 155,
   "metadata": {},
   "outputs": [
    {
     "data": {
      "text/plain": [
       "1.9494796569915616"
      ]
     },
     "execution_count": 155,
     "metadata": {},
     "output_type": "execute_result"
    }
   ],
   "source": [
    "np.std(n20_blksplga_ace[\"Avg Radius of gyration\"])"
   ]
  },
  {
   "cell_type": "code",
   "execution_count": 156,
   "metadata": {},
   "outputs": [
    {
     "data": {
      "text/plain": [
       "Text(0.5, -5.7, '$N_{PLGA}$ = 20: $L_{p}$ = 29.7 $\\\\AA$ ± 3.32 $\\\\AA$')"
      ]
     },
     "execution_count": 156,
     "metadata": {},
     "output_type": "execute_result"
    },
    {
     "data": {
      "image/png": "[encoded data removed]",
      "text/plain": [
       "<Figure size 504x504 with 1 Axes>"
      ]
     },
     "metadata": {
      "needs_background": "light"
     },
     "output_type": "display_data"
    }
   ],
   "source": [
    "plt.figure(figsize=(7,7))\n",
    "plt.errorbar(blen_ace, np.log(cor_n6plga_ace[0]), yerr=mk_n6p_ace, color='#CCBE9F', linestyle=\"None\",marker='o',\n",
    "     capsize=5, capthick=1, ecolor='black')\n",
    "plt.errorbar(blen_n8ace, np.log(cor_n8plga_ace[0]), yerr=mk_n8p_ace, color='#601A4A', linestyle=\"None\",marker='o',\n",
    "     capsize=5, capthick=1, ecolor='black')\n",
    "plt.errorbar(blen_n10ace, np.log(cor_n10plga_ace[0]), yerr=mk_n10p_ace, color='#2B6322', linestyle=\"None\",marker='o',\n",
    "     capsize=5, capthick=1, ecolor='black')\n",
    "plt.errorbar(blen_n20ace, np.log(cor_n20plga_ace[0]), yerr=mk_n20p_ace, color='#562A8B', linestyle=\"None\",marker='o',\n",
    "     capsize=5, capthick=1, ecolor='black')\n",
    "plt.plot(blen_n20ace[:15], gg_n6plga_n20ace[:15], color='#CCBE9F')\n",
    "plt.plot(blen_n20ace[:15], gg_n8plga_n20ace[:15], color='#601A4A')\n",
    "plt.plot(blen_n20ace[:15], gg_n10plga_n20ace[:15], color='#2B6322')\n",
    "plt.plot(blen_n20ace[:15], gg_n20plga_ace[:15], color='#562A8B')\n",
    "plt.title(r'Ensemble Averaged ln(Cosine $\\theta$) in acetone', fontsize=15, y=1.01)\n",
    "plt.xlabel(r'Bond Length', fontsize=15)\n",
    "plt.ylabel(r'ln$\\left< Cos(\\theta)\\right >$', fontsize=15)\n",
    "plt.ylim(-7,1)\n",
    "plt.xlim(0,165)\n",
    "font = font_manager.FontProperties(family='Arial', style='normal', size='14')\n",
    "#plt.legend([r'$N_{PEG}$ = 6: $L_{p}$ = 10.7 $\\AA$ ± 1.62 $\\AA$'], loc=3, frameon=0, fontsize=14, prop=font)\n",
    "plt.tick_params(labelsize=14)\n",
    "plt.text(0.5, -6.92,r'$N_{PLGA}$ = 6: $L_{p}$ = 32.9 $\\AA$ ± 5.81 $\\AA$', fontsize=15, color='#CCBE9F')\n",
    "plt.text(0.5, -6.54,r'$N_{PLGA}$ = 8: $L_{p}$ = 30.0 $\\AA$ ± 4.44 $\\AA$', fontsize=15, color='#601A4A')\n",
    "plt.text(0.5, -6.14,r'$N_{PLGA}$ = 10: $L_{p}$ = 24.9 $\\AA$ ± 4.93 $\\AA$', fontsize=15, color='#2B6322')\n",
    "plt.text(0.5, -5.70,r'$N_{PLGA}$ = 20: $L_{p}$ = 27.5 $\\AA$ ± 3.38 $\\AA$', fontsize=15, color='#562A8B')"
   ]
  },
  {
   "cell_type": "code",
   "execution_count": 157,
   "metadata": {},
   "outputs": [
    {
     "data": {
      "text/html": [
       "<div>\n",
       "<style scoped>\n",
       "    .dataframe tbody tr th:only-of-type {\n",
       "        vertical-align: middle;\n",
       "    }\n",
       "\n",
       "    .dataframe tbody tr th {\n",
       "        vertical-align: top;\n",
       "    }\n",
       "\n",
       "    .dataframe thead th {\n",
       "        text-align: right;\n",
       "    }\n",
       "</style>\n",
       "<table border=\"1\" class=\"dataframe\">\n",
       "  <thead>\n",
       "    <tr style=\"text-align: right;\">\n",
       "      <th></th>\n",
       "      <th>$R_{g}$ [Angstrom] N = 6 PLGA in acetone</th>\n",
       "      <th>$R_{g}$ [Angstrom] N = 8 PLGA in acetone</th>\n",
       "      <th>$R_{g}$ [Angstrom] N = 10 PLGA in acetone</th>\n",
       "      <th>$R_{g}$ [Angstrom] N = 20 PLGA in acetone</th>\n",
       "    </tr>\n",
       "  </thead>\n",
       "  <tbody>\n",
       "    <tr>\n",
       "      <td>0</td>\n",
       "      <td>7.576646</td>\n",
       "      <td>8.907113</td>\n",
       "      <td>9.104742</td>\n",
       "      <td>10.830813</td>\n",
       "    </tr>\n",
       "    <tr>\n",
       "      <td>1</td>\n",
       "      <td>6.753936</td>\n",
       "      <td>8.576257</td>\n",
       "      <td>8.127979</td>\n",
       "      <td>12.961543</td>\n",
       "    </tr>\n",
       "    <tr>\n",
       "      <td>2</td>\n",
       "      <td>7.838579</td>\n",
       "      <td>8.804313</td>\n",
       "      <td>10.582548</td>\n",
       "      <td>11.097781</td>\n",
       "    </tr>\n",
       "    <tr>\n",
       "      <td>3</td>\n",
       "      <td>7.832589</td>\n",
       "      <td>9.653885</td>\n",
       "      <td>9.360085</td>\n",
       "      <td>10.533921</td>\n",
       "    </tr>\n",
       "    <tr>\n",
       "      <td>4</td>\n",
       "      <td>7.651865</td>\n",
       "      <td>8.757768</td>\n",
       "      <td>10.127167</td>\n",
       "      <td>15.744390</td>\n",
       "    </tr>\n",
       "  </tbody>\n",
       "</table>\n",
       "</div>"
      ],
      "text/plain": [
       "   $R_{g}$ [Angstrom] N = 6 PLGA in acetone  \\\n",
       "0                                  7.576646   \n",
       "1                                  6.753936   \n",
       "2                                  7.838579   \n",
       "3                                  7.832589   \n",
       "4                                  7.651865   \n",
       "\n",
       "   $R_{g}$ [Angstrom] N = 8 PLGA in acetone  \\\n",
       "0                                  8.907113   \n",
       "1                                  8.576257   \n",
       "2                                  8.804313   \n",
       "3                                  9.653885   \n",
       "4                                  8.757768   \n",
       "\n",
       "   $R_{g}$ [Angstrom] N = 10 PLGA in acetone  \\\n",
       "0                                   9.104742   \n",
       "1                                   8.127979   \n",
       "2                                  10.582548   \n",
       "3                                   9.360085   \n",
       "4                                  10.127167   \n",
       "\n",
       "   $R_{g}$ [Angstrom] N = 20 PLGA in acetone  \n",
       "0                                  10.830813  \n",
       "1                                  12.961543  \n",
       "2                                  11.097781  \n",
       "3                                  10.533921  \n",
       "4                                  15.744390  "
      ]
     },
     "execution_count": 157,
     "metadata": {},
     "output_type": "execute_result"
    }
   ],
   "source": [
    "rgplga_olig_ace[r\"$R_{g}$ [Angstrom] N = 20 PLGA in acetone\"] = n20_blksplga_ace[\"Avg Radius of gyration\"]\n",
    "rgplga_olig_ace"
   ]
  },
  {
   "cell_type": "code",
   "execution_count": 158,
   "metadata": {},
   "outputs": [
    {
     "data": {
      "text/html": [
       "<div>\n",
       "<style scoped>\n",
       "    .dataframe tbody tr th:only-of-type {\n",
       "        vertical-align: middle;\n",
       "    }\n",
       "\n",
       "    .dataframe tbody tr th {\n",
       "        vertical-align: top;\n",
       "    }\n",
       "\n",
       "    .dataframe thead th {\n",
       "        text-align: right;\n",
       "    }\n",
       "</style>\n",
       "<table border=\"1\" class=\"dataframe\">\n",
       "  <thead>\n",
       "    <tr style=\"text-align: right;\">\n",
       "      <th></th>\n",
       "      <th>$L_{p}$ [Angstrom] N = 6 PLGA in acetone</th>\n",
       "      <th>$L_{p}$ [Angstrom] N = 8 PLGA in acetone</th>\n",
       "      <th>$L_{p}$ [Angstrom] N = 10 PLGA in acetone</th>\n",
       "      <th>$L_{p}$ [Angstrom] N = 20 PLGA in acetone</th>\n",
       "    </tr>\n",
       "  </thead>\n",
       "  <tbody>\n",
       "    <tr>\n",
       "      <td>0</td>\n",
       "      <td>36.375316</td>\n",
       "      <td>29.631153</td>\n",
       "      <td>22.968325</td>\n",
       "      <td>27.840359</td>\n",
       "    </tr>\n",
       "    <tr>\n",
       "      <td>1</td>\n",
       "      <td>21.461862</td>\n",
       "      <td>27.133883</td>\n",
       "      <td>19.803589</td>\n",
       "      <td>23.288585</td>\n",
       "    </tr>\n",
       "    <tr>\n",
       "      <td>2</td>\n",
       "      <td>36.294907</td>\n",
       "      <td>29.235818</td>\n",
       "      <td>30.972716</td>\n",
       "      <td>28.614785</td>\n",
       "    </tr>\n",
       "    <tr>\n",
       "      <td>3</td>\n",
       "      <td>36.473693</td>\n",
       "      <td>38.305865</td>\n",
       "      <td>20.112041</td>\n",
       "      <td>24.783605</td>\n",
       "    </tr>\n",
       "    <tr>\n",
       "      <td>4</td>\n",
       "      <td>34.108783</td>\n",
       "      <td>25.473421</td>\n",
       "      <td>30.537220</td>\n",
       "      <td>33.021845</td>\n",
       "    </tr>\n",
       "  </tbody>\n",
       "</table>\n",
       "</div>"
      ],
      "text/plain": [
       "   $L_{p}$ [Angstrom] N = 6 PLGA in acetone  \\\n",
       "0                                 36.375316   \n",
       "1                                 21.461862   \n",
       "2                                 36.294907   \n",
       "3                                 36.473693   \n",
       "4                                 34.108783   \n",
       "\n",
       "   $L_{p}$ [Angstrom] N = 8 PLGA in acetone  \\\n",
       "0                                 29.631153   \n",
       "1                                 27.133883   \n",
       "2                                 29.235818   \n",
       "3                                 38.305865   \n",
       "4                                 25.473421   \n",
       "\n",
       "   $L_{p}$ [Angstrom] N = 10 PLGA in acetone  \\\n",
       "0                                  22.968325   \n",
       "1                                  19.803589   \n",
       "2                                  30.972716   \n",
       "3                                  20.112041   \n",
       "4                                  30.537220   \n",
       "\n",
       "   $L_{p}$ [Angstrom] N = 20 PLGA in acetone  \n",
       "0                                  27.840359  \n",
       "1                                  23.288585  \n",
       "2                                  28.614785  \n",
       "3                                  24.783605  \n",
       "4                                  33.021845  "
      ]
     },
     "execution_count": 158,
     "metadata": {},
     "output_type": "execute_result"
    }
   ],
   "source": [
    "pers_plgat_ace[r\"$L_{p}$ [Angstrom] N = 20 PLGA in acetone\"] = n20_blksplga_ace[\"Avg persistence length\"]\n",
    "pers_plgat_ace"
   ]
  },
  {
   "cell_type": "code",
   "execution_count": null,
   "metadata": {},
   "outputs": [],
   "source": []
  },
  {
   "cell_type": "markdown",
   "metadata": {},
   "source": [
    "### N = 30 PLGA/acetone system"
   ]
  },
  {
   "cell_type": "code",
   "execution_count": 159,
   "metadata": {},
   "outputs": [],
   "source": [
    "# For the right Rg calculation using MD Analysis, use trajactory without pbc \n",
    "n30_plga_ace = mda.Universe(\"n30plga_ace/n30plgaonly_ace.pdb\", \"n30plga_ace/noace_n30plga.xtc\")"
   ]
  },
  {
   "cell_type": "code",
   "execution_count": 160,
   "metadata": {},
   "outputs": [
    {
     "data": {
      "text/plain": [
       "<XTCReader n30plga_ace/noace_n30plga.xtc with 18001 frames of 453 atoms>"
      ]
     },
     "execution_count": 160,
     "metadata": {},
     "output_type": "execute_result"
    }
   ],
   "source": [
    "n30_plga_ace.trajectory"
   ]
  },
  {
   "cell_type": "code",
   "execution_count": 161,
   "metadata": {},
   "outputs": [
    {
     "data": {
      "text/plain": [
       "18001"
      ]
     },
     "execution_count": 161,
     "metadata": {},
     "output_type": "execute_result"
    }
   ],
   "source": [
    "len(n30_plga_ace.trajectory)"
   ]
  },
  {
   "cell_type": "code",
   "execution_count": 162,
   "metadata": {},
   "outputs": [],
   "source": [
    "#Select the polymer heavy atoms \n",
    "plga_n30ace = n30_plga_ace.select_atoms(\"resname sPLG PLG tPLG and not type H\")"
   ]
  },
  {
   "cell_type": "code",
   "execution_count": 163,
   "metadata": {},
   "outputs": [
    {
     "data": {
      "text/plain": [
       "array([[ 1.        ,  0.8485284 ,  0.67194548,  0.58296934,  0.54653252,\n",
       "         0.50797352,  0.48222621,  0.48004078,  0.4897901 ,  0.5283579 ,\n",
       "         0.57165585,  0.62935457,  0.60250705,  0.56196381,  0.52453665,\n",
       "         0.50285288,  0.51706227,  0.59056001,  0.58232067,  0.60403445,\n",
       "         0.67431781,  0.71512328,  0.70560871,  0.75322228,  0.78697989,\n",
       "         0.75144846,  0.76376037,  0.89600454,  0.84814228],\n",
       "       [ 0.        ,  1.        ,  2.        ,  3.        ,  4.        ,\n",
       "         5.        ,  6.        ,  7.        ,  8.        ,  9.        ,\n",
       "        10.        , 11.        , 12.        , 13.        , 14.        ,\n",
       "        15.        , 16.        , 17.        , 18.        , 19.        ,\n",
       "        20.        , 21.        , 22.        , 23.        , 24.        ,\n",
       "        25.        , 26.        , 27.        , 28.        ],\n",
       "       [ 0.        , 31.9480306 , 47.78260395, 54.34033778, 56.87054685,\n",
       "        59.47105917, 61.16909972, 61.31193424, 60.67321366, 58.10542853,\n",
       "        55.13422615, 50.99747995, 52.95033629, 55.80828295, 58.36294377,\n",
       "        59.81107505, 58.86460005, 53.80324169, 54.38606788, 52.84060616,\n",
       "        47.59880353, 44.3466969 , 45.12125856, 41.12972166, 38.09583334,\n",
       "        41.28399571, 40.2031649 , 26.36224689, 31.98981575]])"
      ]
     },
     "execution_count": 163,
     "metadata": {},
     "output_type": "execute_result"
    }
   ],
   "source": [
    "crv_n30plga_ace = pers_length(plga_n30ace,30)\n",
    "crv_n30plga_ace"
   ]
  },
  {
   "cell_type": "code",
   "execution_count": 164,
   "metadata": {},
   "outputs": [],
   "source": [
    "com_bond_n30ace = np.zeros(shape=(1,18000))\n",
    "count = 0\n",
    "for ts in n30_plga_ace.trajectory[0:18000]:\n",
    "    n30_mon1_ace = n30_plga_ace.select_atoms(\"resid 1\")\n",
    "    n30_mon2_ace = n30_plga_ace.select_atoms(\"resid 2\")\n",
    "    oo_len = mda.analysis.distances.distance_array(n30_mon1_ace.center_of_mass(), n30_mon2_ace.center_of_mass(), \n",
    "                                                   box=n30_plga_ace.trajectory.ts.dimensions)\n",
    "    com_bond_n30ace[0, count] = oo_len\n",
    "    count += 1\n",
    "    "
   ]
  },
  {
   "cell_type": "code",
   "execution_count": 165,
   "metadata": {},
   "outputs": [
    {
     "data": {
      "text/plain": [
       "array([[6.09997491, 6.23139581, 6.17588698, ..., 6.11147967, 6.35360308,\n",
       "        5.97739273]])"
      ]
     },
     "execution_count": 165,
     "metadata": {},
     "output_type": "execute_result"
    }
   ],
   "source": [
    "com_bond"
   ]
  },
  {
   "cell_type": "code",
   "execution_count": 166,
   "metadata": {},
   "outputs": [
    {
     "data": {
      "text/plain": [
       "0.754655677316976"
      ]
     },
     "execution_count": 166,
     "metadata": {},
     "output_type": "execute_result"
    }
   ],
   "source": [
    "np.std(com_bond)"
   ]
  },
  {
   "cell_type": "code",
   "execution_count": 167,
   "metadata": {},
   "outputs": [
    {
     "data": {
      "text/plain": [
       "5.776390474751167"
      ]
     },
     "execution_count": 167,
     "metadata": {},
     "output_type": "execute_result"
    }
   ],
   "source": [
    "lb_avg_pn6 = np.mean(com_bond)\n",
    "lb_avg_pn6"
   ]
  },
  {
   "cell_type": "code",
   "execution_count": 168,
   "metadata": {},
   "outputs": [
    {
     "data": {
      "text/plain": [
       "5.783623303659128"
      ]
     },
     "execution_count": 168,
     "metadata": {},
     "output_type": "execute_result"
    }
   ],
   "source": [
    "np.mean(com_bond_n30ace)"
   ]
  },
  {
   "cell_type": "code",
   "execution_count": 169,
   "metadata": {},
   "outputs": [
    {
     "data": {
      "text/plain": [
       "0.7738126088488616"
      ]
     },
     "execution_count": 169,
     "metadata": {},
     "output_type": "execute_result"
    }
   ],
   "source": [
    "np.std(com_bond_n30ace)"
   ]
  },
  {
   "cell_type": "markdown",
   "metadata": {},
   "source": [
    "### Radius of Gyration vs. time N = 30 PLGA/acetone system"
   ]
  },
  {
   "cell_type": "code",
   "execution_count": 170,
   "metadata": {},
   "outputs": [],
   "source": [
    "n30plga_rgens_ace, cor_n30plga_ace, N30plga_cos_ace, rgace_n30plga = get_rg_pers_poly(plga_n30ace, n30_plga_ace, 0, 18000)"
   ]
  },
  {
   "cell_type": "code",
   "execution_count": 171,
   "metadata": {},
   "outputs": [
    {
     "data": {
      "text/plain": [
       "(18000,)"
      ]
     },
     "execution_count": 171,
     "metadata": {},
     "output_type": "execute_result"
    }
   ],
   "source": [
    "n30plga_rgens_ace[0].shape"
   ]
  },
  {
   "cell_type": "code",
   "execution_count": 172,
   "metadata": {},
   "outputs": [
    {
     "data": {
      "text/plain": [
       "array([ 0.,  1.,  2.,  3.,  4.,  5.,  6.,  7.,  8.,  9., 10., 11., 12.,\n",
       "       13., 14., 15., 16., 17., 18., 19., 20., 21., 22., 23., 24., 25.,\n",
       "       26., 27., 28.])"
      ]
     },
     "execution_count": 172,
     "metadata": {},
     "output_type": "execute_result"
    }
   ],
   "source": [
    "cor_n30plga_ace[3]"
   ]
  },
  {
   "cell_type": "code",
   "execution_count": 173,
   "metadata": {},
   "outputs": [
    {
     "data": {
      "text/plain": [
       "array([[1.        , 1.        , 1.        , ..., 1.        , 1.        ,\n",
       "        1.        ],\n",
       "       [0.8485284 , 0.85319497, 0.84939881, ..., 0.90714083, 0.90986599,\n",
       "        0.9046796 ],\n",
       "       [0.67194548, 0.65826331, 0.64687099, ..., 0.78421084, 0.78507481,\n",
       "        0.79014933],\n",
       "       ...,\n",
       "       [0.76376037, 0.74989428, 0.78189294, ..., 0.7087784 , 0.73574676,\n",
       "        0.84565032],\n",
       "       [0.89600454, 0.82837849, 0.92957928, ..., 0.8224511 , 0.79301628,\n",
       "        0.83857472],\n",
       "       [0.84814228, 0.70943006, 0.91050102, ..., 0.98892121, 0.93259222,\n",
       "        0.98981361]])"
      ]
     },
     "execution_count": 173,
     "metadata": {},
     "output_type": "execute_result"
    }
   ],
   "source": [
    "N30plga_cos_ace"
   ]
  },
  {
   "cell_type": "code",
   "execution_count": 174,
   "metadata": {},
   "outputs": [
    {
     "data": {
      "text/plain": [
       "18.70284388748126"
      ]
     },
     "execution_count": 174,
     "metadata": {},
     "output_type": "execute_result"
    }
   ],
   "source": [
    "rgace_n30plga"
   ]
  },
  {
   "cell_type": "code",
   "execution_count": 175,
   "metadata": {},
   "outputs": [
    {
     "data": {
      "text/plain": [
       "4.930344521163678"
      ]
     },
     "execution_count": 175,
     "metadata": {},
     "output_type": "execute_result"
    }
   ],
   "source": [
    "np.std(n30plga_rgens_ace)"
   ]
  },
  {
   "cell_type": "code",
   "execution_count": 218,
   "metadata": {},
   "outputs": [
    {
     "data": {
      "text/plain": [
       "(0.2, 4)"
      ]
     },
     "execution_count": 218,
     "metadata": {},
     "output_type": "execute_result"
    },
    {
     "data": {
      "image/png": "[encoded data removed]",
      "text/plain": [
       "<Figure size 504x504 with 1 Axes>"
      ]
     },
     "metadata": {
      "needs_background": "light"
     },
     "output_type": "display_data"
    }
   ],
   "source": [
    "plt.figure(figsize=(7,7))\n",
    "plt.title(r'PLGA Radius of Gyration', fontsize=18, y=1.01)\n",
    "plt.xlabel(r'Time [ns]', fontsize=15)\n",
    "plt.ylabel(r'$R_{g}$ [nm]', fontsize=15)\n",
    "plt.plot(trj_len/100, n6plga_rgens_ace[0]/10,linewidth=2, color='#CCBE9F')\n",
    "plt.plot(trj_len/100, n8plga_rgens_ace[0]/10,linewidth=2, color='#601A4A')\n",
    "plt.plot(trj_len/100, n10plga_rgens_ace[0]/10,linewidth=2, color='#2B6322')\n",
    "plt.plot(trj_len/100, n20plga_rgens_ace[0]/10,linewidth=2, color='#562A8B')\n",
    "plt.plot(trj_len/100, n30plga_rgens_ace[0]/10,linewidth=2, color='#1D77CF')\n",
    "plt.tick_params(labelsize=14)\n",
    "plt.legend(['N = 6 in acetone','N = 8 in acetone','N = 10 in acetone','N = 20 in acetone','N = 30 in acetone'], frameon=False, fontsize=14)\n",
    "#plt.text(127, 0.96,r'N = 6 in water', fontsize=18, color='#1F2E69', family='Arial')\n",
    "plt.xlim(0,180)\n",
    "plt.ylim(0.2,4)"
   ]
  },
  {
   "cell_type": "code",
   "execution_count": 177,
   "metadata": {},
   "outputs": [],
   "source": [
    "np.save('n6plga_aceRg.npy', n6plga_rgens_ace[0])\n",
    "np.save('n8plga_aceRg.npy', n8plga_rgens_ace[0])\n",
    "np.save('n10plga_aceRg.npy', n10plga_rgens_ace[0])\n",
    "np.save('n20plga_aceRg.npy', n20plga_rgens_ace[0])\n",
    "np.save('n30plga_aceRg.npy', n30plga_rgens_ace[0])"
   ]
  },
  {
   "cell_type": "markdown",
   "metadata": {},
   "source": [
    "#### Correlation values at each arc length for the whole 180 ns trajectory, N = 30 PLGA/acetone system"
   ]
  },
  {
   "cell_type": "code",
   "execution_count": 178,
   "metadata": {},
   "outputs": [
    {
     "data": {
      "text/plain": [
       "array([  0.        ,   5.77639047,  11.55278095,  17.32917142,\n",
       "        23.1055619 ,  28.88195237,  34.65834285,  40.43473332,\n",
       "        46.2111238 ,  51.98751427,  57.76390475,  63.54029522,\n",
       "        69.3166857 ,  75.09307617,  80.86946665,  86.64585712,\n",
       "        92.4222476 ,  98.19863807, 103.97502855, 109.75141902,\n",
       "       115.5278095 , 121.30419997, 127.08059044, 132.85698092,\n",
       "       138.63337139, 144.40976187, 150.18615234, 155.96254282,\n",
       "       161.73893329])"
      ]
     },
     "execution_count": 178,
     "metadata": {},
     "output_type": "execute_result"
    }
   ],
   "source": [
    "# x values\n",
    "blen_n30ace = cor_n30plga_ace[3]*lb_avg_pn6\n",
    "#nt_tt[0] = 0\n",
    "blen_n30ace"
   ]
  },
  {
   "cell_type": "code",
   "execution_count": 179,
   "metadata": {},
   "outputs": [
    {
     "data": {
      "text/plain": [
       "array([3.79213356e-18, 2.27137657e-02, 7.37727320e-02, 1.44869665e-01,\n",
       "       2.24785457e-01, 2.84529295e-01, 3.29329882e-01, 3.58602711e-01,\n",
       "       4.06778549e-01, 4.69626680e-01, 5.52341229e-01, 6.10513537e-01,\n",
       "       7.05853986e-01, 7.91158341e-01, 8.39671400e-01, 8.98245996e-01,\n",
       "       1.05434862e+00, 1.23393643e+00, 1.42867175e+00, 1.67769880e+00,\n",
       "       1.91760324e+00, 2.31419282e+00, 3.02804964e+00, 3.38683417e+00,\n",
       "       3.25896199e+00, 2.46703924e+00, 2.11127328e+00, 2.31098657e+00,\n",
       "       3.16018757e+00])"
      ]
     },
     "execution_count": 179,
     "metadata": {},
     "output_type": "execute_result"
    }
   ],
   "source": [
    "mk_n30p_ace = cor_n30plga_ace[1]/cor_n30plga_ace[0]\n",
    "mk_n30p_ace"
   ]
  },
  {
   "cell_type": "code",
   "execution_count": 180,
   "metadata": {},
   "outputs": [
    {
     "data": {
      "text/plain": [
       "<ErrorbarContainer object of 3 artists>"
      ]
     },
     "execution_count": 180,
     "metadata": {},
     "output_type": "execute_result"
    },
    {
     "data": {
      "image/png": "[encoded data removed]",
      "text/plain": [
       "<Figure size 504x504 with 1 Axes>"
      ]
     },
     "metadata": {
      "needs_background": "light"
     },
     "output_type": "display_data"
    }
   ],
   "source": [
    "plt.figure(figsize=(7,7))\n",
    "plt.errorbar(blen_ace, np.log(cor_n6plga_ace[0]), yerr=mk_n6p_ace, color='#CCBE9F', linestyle=\"None\",marker='o',\n",
    "     capsize=5, capthick=1, ecolor='black')\n",
    "plt.errorbar(blen_n8ace, np.log(cor_n8plga_ace[0]), yerr=mk_n8p_ace, color='#601A4A', linestyle=\"None\",marker='o',\n",
    "     capsize=5, capthick=1, ecolor='black')\n",
    "plt.errorbar(blen_n10ace, np.log(cor_n10plga_ace[0]), yerr=mk_n10p_ace, color='#2B6322', linestyle=\"None\",marker='o',\n",
    "     capsize=5, capthick=1, ecolor='black')\n",
    "plt.errorbar(blen_n20ace, np.log(cor_n20plga_ace[0]), yerr=mk_n20p_ace, color='#562A8B', linestyle=\"None\",marker='o',\n",
    "     capsize=5, capthick=1, ecolor='black')\n",
    "plt.errorbar(blen_n30ace, np.log(cor_n30plga_ace[0]), yerr=mk_n30p_ace, color='#1D77CF', linestyle=\"None\",marker='o',\n",
    "     capsize=5, capthick=1, ecolor='black')"
   ]
  },
  {
   "cell_type": "code",
   "execution_count": 181,
   "metadata": {},
   "outputs": [
    {
     "name": "stdout",
     "output_type": "stream",
     "text": [
      "3000\n",
      "6000\n",
      "Lp [Angstroms]: 32.842411667726054\n",
      "Error in Lp from fit [Angstroms], 95% CL : 0.19951795851899104\n",
      "R2 score: 0.9831906937917039\n",
      "6000\n",
      "9000\n",
      "Negative cosine theta values present, doing exponential fit...\n",
      "Lp [Angstroms], Exp. fit: 31.764539212216782\n",
      "Error in Lp from fit [Angstroms]: 0.0024439716205730214\n",
      "9000\n",
      "12000\n",
      "Lp [Angstroms]: 26.666439080877314\n",
      "Error in Lp from fit [Angstroms], 95% CL : 0.19060876212432346\n",
      "R2 score: 0.9772882356880173\n",
      "12000\n",
      "15000\n",
      "Lp [Angstroms]: 30.388588941599313\n",
      "Error in Lp from fit [Angstroms], 95% CL : 0.15734825115676787\n",
      "R2 score: 0.9875466750058476\n",
      "15000\n",
      "18000\n",
      "Negative cosine theta values present, doing exponential fit...\n",
      "Lp [Angstroms], Exp. fit: 32.98931610261073\n",
      "Error in Lp from fit [Angstroms]: 0.002862178677834469\n"
     ]
    }
   ],
   "source": [
    "# All the points give the best fits for N = 6 peg in water\n",
    "n30_blksplga_ace , n30plga_lpace = bavg_pers_cnt(5, plga_n30ace, n30_plga_ace, lb_avg_pn6, 4, 3000 , 18000)"
   ]
  },
  {
   "cell_type": "code",
   "execution_count": 182,
   "metadata": {},
   "outputs": [
    {
     "data": {
      "text/plain": [
       "{'Avg Radius of gyration': array([18.94855601, 18.52735815, 13.95651855, 20.30061609, 15.9261418 ]),\n",
       " 'Avg persistence length': array([32.84241167, 31.76453921, 26.66643908, 30.38858894, 32.9893161 ])}"
      ]
     },
     "execution_count": 182,
     "metadata": {},
     "output_type": "execute_result"
    }
   ],
   "source": [
    "n30_blksplga_ace"
   ]
  },
  {
   "cell_type": "code",
   "execution_count": 183,
   "metadata": {},
   "outputs": [
    {
     "data": {
      "text/plain": [
       "array([[ 3.28424117e+01,  3.17645392e+01,  2.66664391e+01,\n",
       "         3.03885889e+01,  3.29893161e+01],\n",
       "       [ 1.99517959e-01,  2.44397162e-03,  1.90608762e-01,\n",
       "         1.57348251e-01,  2.86217868e-03],\n",
       "       [-3.04484339e-02, -3.14816467e-02, -3.75003200e-02,\n",
       "        -3.29070890e-02, -3.03128442e-02],\n",
       "       [ 7.39607532e-04,  0.00000000e+00,  1.55311324e-03,\n",
       "         6.27565708e-04,  0.00000000e+00]])"
      ]
     },
     "execution_count": 183,
     "metadata": {},
     "output_type": "execute_result"
    }
   ],
   "source": [
    "n30plga_lpace"
   ]
  },
  {
   "cell_type": "code",
   "execution_count": 184,
   "metadata": {},
   "outputs": [
    {
     "data": {
      "text/plain": [
       "array([-0.03044843, -0.03148165, -0.03750032, -0.03290709, -0.03031284])"
      ]
     },
     "execution_count": 184,
     "metadata": {},
     "output_type": "execute_result"
    }
   ],
   "source": [
    "n30plga_lpace[2]"
   ]
  },
  {
   "cell_type": "code",
   "execution_count": 185,
   "metadata": {},
   "outputs": [
    {
     "data": {
      "text/plain": [
       "0.000584057295244037"
      ]
     },
     "execution_count": 185,
     "metadata": {},
     "output_type": "execute_result"
    }
   ],
   "source": [
    "np.mean(n30plga_lpace[3])"
   ]
  },
  {
   "cell_type": "code",
   "execution_count": 186,
   "metadata": {},
   "outputs": [
    {
     "data": {
      "text/plain": [
       "array([  0.        ,   5.77639047,  11.55278095,  17.32917142,\n",
       "        23.1055619 ,  28.88195237,  34.65834285,  40.43473332,\n",
       "        46.2111238 ,  51.98751427,  57.76390475,  63.54029522,\n",
       "        69.3166857 ,  75.09307617,  80.86946665,  86.64585712,\n",
       "        92.4222476 ,  98.19863807, 103.97502855, 109.75141902,\n",
       "       115.5278095 , 121.30419997, 127.08059044, 132.85698092,\n",
       "       138.63337139, 144.40976187, 150.18615234, 155.96254282,\n",
       "       161.73893329])"
      ]
     },
     "execution_count": 186,
     "metadata": {},
     "output_type": "execute_result"
    }
   ],
   "source": [
    "blen_n30ace"
   ]
  },
  {
   "cell_type": "code",
   "execution_count": 187,
   "metadata": {},
   "outputs": [],
   "source": [
    "gg_n30plga_ace = line_fit(np.mean(n30plga_lpace[2]),blen_n30ace)"
   ]
  },
  {
   "cell_type": "code",
   "execution_count": 188,
   "metadata": {},
   "outputs": [],
   "source": [
    "gg_n6plga_n30ace = line_fit(np.mean(n6plga_lpace[2]),blen_n30ace)"
   ]
  },
  {
   "cell_type": "code",
   "execution_count": 189,
   "metadata": {},
   "outputs": [],
   "source": [
    "gg_n8plga_n30ace = line_fit(np.mean(n8plga_lpace[2]),blen_n30ace)"
   ]
  },
  {
   "cell_type": "code",
   "execution_count": 190,
   "metadata": {},
   "outputs": [],
   "source": [
    "gg_n10plga_n30ace = line_fit(np.mean(n10plga_lpace[2]),blen_n30ace)"
   ]
  },
  {
   "cell_type": "code",
   "execution_count": 191,
   "metadata": {},
   "outputs": [],
   "source": [
    "gg_n20plga_n30ace = line_fit(np.mean(n20plga_lpace[2]),blen_n30ace)"
   ]
  },
  {
   "cell_type": "code",
   "execution_count": 192,
   "metadata": {},
   "outputs": [
    {
     "data": {
      "text/plain": [
       "array([-0.        , -0.18790637, -0.37581274, -0.5637191 , -0.75162547,\n",
       "       -0.93953184, -1.12743821, -1.31534457, -1.50325094, -1.69115731,\n",
       "       -1.87906368, -2.06697005, -2.25487641, -2.44278278, -2.63068915,\n",
       "       -2.81859552, -3.00650188, -3.19440825, -3.38231462, -3.57022099,\n",
       "       -3.75812736, -3.94603372, -4.13394009, -4.32184646, -4.50975283,\n",
       "       -4.69765919, -4.88556556, -5.07347193, -5.2613783 ])"
      ]
     },
     "execution_count": 192,
     "metadata": {},
     "output_type": "execute_result"
    }
   ],
   "source": [
    "gg_n30plga_ace"
   ]
  },
  {
   "cell_type": "markdown",
   "metadata": {},
   "source": [
    "### Block averaged Radius of gyration and persistence length, N = 30 PLGA/acetone system"
   ]
  },
  {
   "cell_type": "code",
   "execution_count": 195,
   "metadata": {},
   "outputs": [
    {
     "data": {
      "text/plain": [
       "30.93025900100604"
      ]
     },
     "execution_count": 195,
     "metadata": {},
     "output_type": "execute_result"
    }
   ],
   "source": [
    "np.mean(n30_blksplga_ace[\"Avg persistence length\"])"
   ]
  },
  {
   "cell_type": "code",
   "execution_count": 196,
   "metadata": {},
   "outputs": [
    {
     "data": {
      "text/plain": [
       "2.3266127397517287"
      ]
     },
     "execution_count": 196,
     "metadata": {},
     "output_type": "execute_result"
    }
   ],
   "source": [
    "np.std(n30_blksplga_ace[\"Avg persistence length\"])"
   ]
  },
  {
   "cell_type": "code",
   "execution_count": 197,
   "metadata": {},
   "outputs": [
    {
     "data": {
      "text/plain": [
       "17.53183812121009"
      ]
     },
     "execution_count": 197,
     "metadata": {},
     "output_type": "execute_result"
    }
   ],
   "source": [
    "np.mean(n30_blksplga_ace[\"Avg Radius of gyration\"])"
   ]
  },
  {
   "cell_type": "code",
   "execution_count": 198,
   "metadata": {},
   "outputs": [
    {
     "data": {
      "text/plain": [
       "2.2814667150815806"
      ]
     },
     "execution_count": 198,
     "metadata": {},
     "output_type": "execute_result"
    }
   ],
   "source": [
    "np.std(n30_blksplga_ace[\"Avg Radius of gyration\"])"
   ]
  },
  {
   "cell_type": "code",
   "execution_count": 224,
   "metadata": {},
   "outputs": [
    {
     "data": {
      "text/plain": [
       "Text(0.5, -5.3, '$N_{PLGA}$ = 30: $L_{p}$ = 30.9 $\\\\AA$ ± 2.33 $\\\\AA$')"
      ]
     },
     "execution_count": 224,
     "metadata": {},
     "output_type": "execute_result"
    },
    {
     "data": {
      "image/png": "[encoded data removed]",
      "text/plain": [
       "<Figure size 504x504 with 1 Axes>"
      ]
     },
     "metadata": {
      "needs_background": "light"
     },
     "output_type": "display_data"
    }
   ],
   "source": [
    "plt.figure(figsize=(7,7))\n",
    "plt.errorbar(blen_ace, np.log(cor_n6plga_ace[0]), yerr=mk_n6p_ace, color='#CCBE9F', linestyle=\"None\",marker='o',\n",
    "     capsize=5, capthick=1, ecolor='black')\n",
    "plt.errorbar(blen_n8ace, np.log(cor_n8plga_ace[0]), yerr=mk_n8p_ace, color='#601A4A', linestyle=\"None\",marker='o',\n",
    "     capsize=5, capthick=1, ecolor='black')\n",
    "plt.errorbar(blen_n10ace, np.log(cor_n10plga_ace[0]), yerr=mk_n10p_ace, color='#2B6322', linestyle=\"None\",marker='o',\n",
    "     capsize=5, capthick=1, ecolor='black')\n",
    "plt.errorbar(blen_n20ace, np.log(cor_n20plga_ace[0]), yerr=mk_n20p_ace, color='#562A8B', linestyle=\"None\",marker='o',\n",
    "     capsize=5, capthick=1, ecolor='black')\n",
    "plt.errorbar(blen_n30ace, np.log(cor_n30plga_ace[0]), yerr=mk_n30p_ace, color='#1D77CF', linestyle=\"None\",marker='o',\n",
    "     capsize=5, capthick=1, ecolor='black')\n",
    "plt.plot(blen_n30ace[:15], gg_n6plga_n30ace[:15], color='#CCBE9F')\n",
    "plt.plot(blen_n30ace[:15], gg_n8plga_n30ace[:15], color='#601A4A')\n",
    "plt.plot(blen_n30ace[:15], gg_n10plga_n30ace[:15], color='#2B6322')\n",
    "plt.plot(blen_n30ace[:15], gg_n20plga_n30ace[:15], color='#562A8B')\n",
    "plt.plot(blen_n30ace[:15], gg_n30plga_ace[:15], color='#1D77CF')\n",
    "plt.title(r'Ensemble Averaged ln(Cosine $\\theta$) in acetone', fontsize=15, y=1.01)\n",
    "plt.xlabel(r'Bond Length', fontsize=15)\n",
    "plt.ylabel(r'ln$\\left< Cos(\\theta)\\right >$', fontsize=15)\n",
    "plt.ylim(-7,2)\n",
    "plt.xlim(0,165)\n",
    "font = font_manager.FontProperties(family='Arial', style='normal', size='14')\n",
    "#plt.legend([r'$N_{PEG}$ = 6: $L_{p}$ = 10.7 $\\AA$ ± 1.62 $\\AA$'], loc=3, frameon=0, fontsize=14, prop=font)\n",
    "plt.tick_params(labelsize=14)\n",
    "plt.text(0.5, -6.92,r'$N_{PLGA}$ = 6: $L_{p}$ = 32.9 $\\AA$ ± 5.81 $\\AA$', fontsize=15, color='#CCBE9F')\n",
    "plt.text(0.5, -6.54,r'$N_{PLGA}$ = 8: $L_{p}$ = 30.0 $\\AA$ ± 4.44 $\\AA$', fontsize=15, color='#601A4A')\n",
    "plt.text(0.5, -6.14,r'$N_{PLGA}$ = 10: $L_{p}$ = 24.9 $\\AA$ ± 4.93 $\\AA$', fontsize=15, color='#2B6322')\n",
    "plt.text(0.5, -5.70,r'$N_{PLGA}$ = 20: $L_{p}$ = 27.5 $\\AA$ ± 3.38 $\\AA$', fontsize=15, color='#562A8B')\n",
    "plt.text(0.5, -5.30,r'$N_{PLGA}$ = 30: $L_{p}$ = 30.9 $\\AA$ ± 2.33 $\\AA$', fontsize=15, color='#1D77CF')"
   ]
  },
  {
   "cell_type": "code",
   "execution_count": 200,
   "metadata": {},
   "outputs": [
    {
     "data": {
      "text/html": [
       "<div>\n",
       "<style scoped>\n",
       "    .dataframe tbody tr th:only-of-type {\n",
       "        vertical-align: middle;\n",
       "    }\n",
       "\n",
       "    .dataframe tbody tr th {\n",
       "        vertical-align: top;\n",
       "    }\n",
       "\n",
       "    .dataframe thead th {\n",
       "        text-align: right;\n",
       "    }\n",
       "</style>\n",
       "<table border=\"1\" class=\"dataframe\">\n",
       "  <thead>\n",
       "    <tr style=\"text-align: right;\">\n",
       "      <th></th>\n",
       "      <th>$R_{g}$ [Angstrom] N = 6 PLGA in acetone</th>\n",
       "      <th>$R_{g}$ [Angstrom] N = 8 PLGA in acetone</th>\n",
       "      <th>$R_{g}$ [Angstrom] N = 10 PLGA in acetone</th>\n",
       "      <th>$R_{g}$ [Angstrom] N = 20 PLGA in acetone</th>\n",
       "      <th>$R_{g}$ [Angstrom] N = 30 PLGA in acetone</th>\n",
       "    </tr>\n",
       "  </thead>\n",
       "  <tbody>\n",
       "    <tr>\n",
       "      <td>0</td>\n",
       "      <td>7.576646</td>\n",
       "      <td>8.907113</td>\n",
       "      <td>9.104742</td>\n",
       "      <td>10.830813</td>\n",
       "      <td>18.948556</td>\n",
       "    </tr>\n",
       "    <tr>\n",
       "      <td>1</td>\n",
       "      <td>6.753936</td>\n",
       "      <td>8.576257</td>\n",
       "      <td>8.127979</td>\n",
       "      <td>12.961543</td>\n",
       "      <td>18.527358</td>\n",
       "    </tr>\n",
       "    <tr>\n",
       "      <td>2</td>\n",
       "      <td>7.838579</td>\n",
       "      <td>8.804313</td>\n",
       "      <td>10.582548</td>\n",
       "      <td>11.097781</td>\n",
       "      <td>13.956519</td>\n",
       "    </tr>\n",
       "    <tr>\n",
       "      <td>3</td>\n",
       "      <td>7.832589</td>\n",
       "      <td>9.653885</td>\n",
       "      <td>9.360085</td>\n",
       "      <td>10.533921</td>\n",
       "      <td>20.300616</td>\n",
       "    </tr>\n",
       "    <tr>\n",
       "      <td>4</td>\n",
       "      <td>7.651865</td>\n",
       "      <td>8.757768</td>\n",
       "      <td>10.127167</td>\n",
       "      <td>15.744390</td>\n",
       "      <td>15.926142</td>\n",
       "    </tr>\n",
       "  </tbody>\n",
       "</table>\n",
       "</div>"
      ],
      "text/plain": [
       "   $R_{g}$ [Angstrom] N = 6 PLGA in acetone  \\\n",
       "0                                  7.576646   \n",
       "1                                  6.753936   \n",
       "2                                  7.838579   \n",
       "3                                  7.832589   \n",
       "4                                  7.651865   \n",
       "\n",
       "   $R_{g}$ [Angstrom] N = 8 PLGA in acetone  \\\n",
       "0                                  8.907113   \n",
       "1                                  8.576257   \n",
       "2                                  8.804313   \n",
       "3                                  9.653885   \n",
       "4                                  8.757768   \n",
       "\n",
       "   $R_{g}$ [Angstrom] N = 10 PLGA in acetone  \\\n",
       "0                                   9.104742   \n",
       "1                                   8.127979   \n",
       "2                                  10.582548   \n",
       "3                                   9.360085   \n",
       "4                                  10.127167   \n",
       "\n",
       "   $R_{g}$ [Angstrom] N = 20 PLGA in acetone  \\\n",
       "0                                  10.830813   \n",
       "1                                  12.961543   \n",
       "2                                  11.097781   \n",
       "3                                  10.533921   \n",
       "4                                  15.744390   \n",
       "\n",
       "   $R_{g}$ [Angstrom] N = 30 PLGA in acetone  \n",
       "0                                  18.948556  \n",
       "1                                  18.527358  \n",
       "2                                  13.956519  \n",
       "3                                  20.300616  \n",
       "4                                  15.926142  "
      ]
     },
     "execution_count": 200,
     "metadata": {},
     "output_type": "execute_result"
    }
   ],
   "source": [
    "rgplga_olig_ace[r\"$R_{g}$ [Angstrom] N = 30 PLGA in acetone\"] = n30_blksplga_ace[\"Avg Radius of gyration\"]\n",
    "rgplga_olig_ace"
   ]
  },
  {
   "cell_type": "code",
   "execution_count": 201,
   "metadata": {},
   "outputs": [
    {
     "data": {
      "text/html": [
       "<div>\n",
       "<style scoped>\n",
       "    .dataframe tbody tr th:only-of-type {\n",
       "        vertical-align: middle;\n",
       "    }\n",
       "\n",
       "    .dataframe tbody tr th {\n",
       "        vertical-align: top;\n",
       "    }\n",
       "\n",
       "    .dataframe thead th {\n",
       "        text-align: right;\n",
       "    }\n",
       "</style>\n",
       "<table border=\"1\" class=\"dataframe\">\n",
       "  <thead>\n",
       "    <tr style=\"text-align: right;\">\n",
       "      <th></th>\n",
       "      <th>$L_{p}$ [Angstrom] N = 6 PLGA in acetone</th>\n",
       "      <th>$L_{p}$ [Angstrom] N = 8 PLGA in acetone</th>\n",
       "      <th>$L_{p}$ [Angstrom] N = 10 PLGA in acetone</th>\n",
       "      <th>$L_{p}$ [Angstrom] N = 20 PLGA in acetone</th>\n",
       "      <th>$L_{p}$ [Angstrom] N = 30 PLGA in acetone</th>\n",
       "    </tr>\n",
       "  </thead>\n",
       "  <tbody>\n",
       "    <tr>\n",
       "      <td>0</td>\n",
       "      <td>36.375316</td>\n",
       "      <td>29.631153</td>\n",
       "      <td>22.968325</td>\n",
       "      <td>27.840359</td>\n",
       "      <td>32.842412</td>\n",
       "    </tr>\n",
       "    <tr>\n",
       "      <td>1</td>\n",
       "      <td>21.461862</td>\n",
       "      <td>27.133883</td>\n",
       "      <td>19.803589</td>\n",
       "      <td>23.288585</td>\n",
       "      <td>31.764539</td>\n",
       "    </tr>\n",
       "    <tr>\n",
       "      <td>2</td>\n",
       "      <td>36.294907</td>\n",
       "      <td>29.235818</td>\n",
       "      <td>30.972716</td>\n",
       "      <td>28.614785</td>\n",
       "      <td>26.666439</td>\n",
       "    </tr>\n",
       "    <tr>\n",
       "      <td>3</td>\n",
       "      <td>36.473693</td>\n",
       "      <td>38.305865</td>\n",
       "      <td>20.112041</td>\n",
       "      <td>24.783605</td>\n",
       "      <td>30.388589</td>\n",
       "    </tr>\n",
       "    <tr>\n",
       "      <td>4</td>\n",
       "      <td>34.108783</td>\n",
       "      <td>25.473421</td>\n",
       "      <td>30.537220</td>\n",
       "      <td>33.021845</td>\n",
       "      <td>32.989316</td>\n",
       "    </tr>\n",
       "  </tbody>\n",
       "</table>\n",
       "</div>"
      ],
      "text/plain": [
       "   $L_{p}$ [Angstrom] N = 6 PLGA in acetone  \\\n",
       "0                                 36.375316   \n",
       "1                                 21.461862   \n",
       "2                                 36.294907   \n",
       "3                                 36.473693   \n",
       "4                                 34.108783   \n",
       "\n",
       "   $L_{p}$ [Angstrom] N = 8 PLGA in acetone  \\\n",
       "0                                 29.631153   \n",
       "1                                 27.133883   \n",
       "2                                 29.235818   \n",
       "3                                 38.305865   \n",
       "4                                 25.473421   \n",
       "\n",
       "   $L_{p}$ [Angstrom] N = 10 PLGA in acetone  \\\n",
       "0                                  22.968325   \n",
       "1                                  19.803589   \n",
       "2                                  30.972716   \n",
       "3                                  20.112041   \n",
       "4                                  30.537220   \n",
       "\n",
       "   $L_{p}$ [Angstrom] N = 20 PLGA in acetone  \\\n",
       "0                                  27.840359   \n",
       "1                                  23.288585   \n",
       "2                                  28.614785   \n",
       "3                                  24.783605   \n",
       "4                                  33.021845   \n",
       "\n",
       "   $L_{p}$ [Angstrom] N = 30 PLGA in acetone  \n",
       "0                                  32.842412  \n",
       "1                                  31.764539  \n",
       "2                                  26.666439  \n",
       "3                                  30.388589  \n",
       "4                                  32.989316  "
      ]
     },
     "execution_count": 201,
     "metadata": {},
     "output_type": "execute_result"
    }
   ],
   "source": [
    "pers_plgat_ace[r\"$L_{p}$ [Angstrom] N = 30 PLGA in acetone\"] = n30_blksplga_ace[\"Avg persistence length\"]\n",
    "pers_plgat_ace"
   ]
  },
  {
   "cell_type": "code",
   "execution_count": 222,
   "metadata": {},
   "outputs": [],
   "source": [
    "rgplga_olig_ace.to_pickle(\"PLGA_ace_Rg.pkl\")"
   ]
  },
  {
   "cell_type": "code",
   "execution_count": 223,
   "metadata": {},
   "outputs": [],
   "source": [
    "pers_plgat_ace.to_pickle(\"PLGA_ace_Lp.pkl\")"
   ]
  },
  {
   "cell_type": "markdown",
   "metadata": {},
   "source": [
    "### Fluory Exponent, PLGA/acetone system"
   ]
  },
  {
   "cell_type": "code",
   "execution_count": 202,
   "metadata": {},
   "outputs": [],
   "source": [
    "n_plga = np.array([6,8,10,20,30])\n",
    "rg_nplga_ace = np.array([np.mean(n6_blksplga_ace[\"Avg Radius of gyration\"])\n",
    "                    ,np.mean(n8_blksplga_ace[\"Avg Radius of gyration\"]),np.mean(n10_blksplga_ace[\"Avg Radius of gyration\"])\n",
    "                    ,np.mean(n20_blksplga_ace[\"Avg Radius of gyration\"]),np.mean(n30_blksplga_ace[\"Avg Radius of gyration\"])])"
   ]
  },
  {
   "cell_type": "code",
   "execution_count": 203,
   "metadata": {},
   "outputs": [
    {
     "data": {
      "text/plain": [
       "array([ 7.530723  ,  8.93986737,  9.46050424, 12.23368969, 17.53183812])"
      ]
     },
     "execution_count": 203,
     "metadata": {},
     "output_type": "execute_result"
    }
   ],
   "source": [
    "rg_nplga_ace"
   ]
  },
  {
   "cell_type": "code",
   "execution_count": 204,
   "metadata": {},
   "outputs": [
    {
     "data": {
      "text/plain": [
       "array([0.02401001, 0.01768961, 0.0396824 , 0.06529144, 0.05872998])"
      ]
     },
     "execution_count": 204,
     "metadata": {},
     "output_type": "execute_result"
    }
   ],
   "source": [
    "rgace_nplga_std = np.array([np.std(np.log10(n6_blksplga_ace[\"Avg Radius of gyration\"]))\n",
    "                    ,np.std(np.log10(n8_blksplga_ace[\"Avg Radius of gyration\"]))\n",
    "                        ,np.std(np.log10(n10_blksplga_ace[\"Avg Radius of gyration\"]))\n",
    "                    ,np.std(np.log10(n20_blksplga_ace[\"Avg Radius of gyration\"]))\n",
    "                        ,np.std(np.log10(n30_blksplga_ace[\"Avg Radius of gyration\"]))])\n",
    "rgace_nplga_std"
   ]
  },
  {
   "cell_type": "code",
   "execution_count": 205,
   "metadata": {},
   "outputs": [
    {
     "data": {
      "text/plain": [
       "array([ 6,  8, 10, 20, 30])"
      ]
     },
     "execution_count": 205,
     "metadata": {},
     "output_type": "execute_result"
    }
   ],
   "source": [
    "n_plga"
   ]
  },
  {
   "cell_type": "code",
   "execution_count": 206,
   "metadata": {},
   "outputs": [
    {
     "data": {
      "text/plain": [
       "array([0.87683667, 0.95133108, 0.97591428, 1.08755746, 1.24382745])"
      ]
     },
     "execution_count": 206,
     "metadata": {},
     "output_type": "execute_result"
    }
   ],
   "source": [
    "np.log10(rg_nplga_ace)"
   ]
  },
  {
   "cell_type": "code",
   "execution_count": 207,
   "metadata": {},
   "outputs": [
    {
     "data": {
      "text/plain": [
       "array([0.77815125, 0.90308999, 1.        , 1.30103   , 1.47712125])"
      ]
     },
     "execution_count": 207,
     "metadata": {},
     "output_type": "execute_result"
    }
   ],
   "source": [
    "np.log10(n_plga)"
   ]
  },
  {
   "cell_type": "code",
   "execution_count": 208,
   "metadata": {},
   "outputs": [
    {
     "name": "stdout",
     "output_type": "stream",
     "text": [
      "Model slope:     0.48492332024858237\n",
      "Model intercept: 0.4976160428390297\n"
     ]
    }
   ],
   "source": [
    "# From fitting all points, I get best fit \n",
    "from sklearn.linear_model import LinearRegression\n",
    "model_vpace = LinearRegression(fit_intercept=True)\n",
    "model_vpace.fit(np.log10(n_plga).reshape(-1,1), np.log10(rg_nplga_ace))\n",
    "# Slope here is in nanometers\n",
    "print(\"Model slope:    \", model_vpace.coef_[0])\n",
    "print(\"Model intercept:\", model_vpace.intercept_)"
   ]
  },
  {
   "cell_type": "code",
   "execution_count": 209,
   "metadata": {},
   "outputs": [
    {
     "data": {
      "text/plain": [
       "array([0.87495973, 0.93554544, 0.98253936, 1.12851583, 1.21390659])"
      ]
     },
     "execution_count": 209,
     "metadata": {},
     "output_type": "execute_result"
    }
   ],
   "source": [
    "gg_ace = model_vpace.predict(np.log10(n_plga.reshape(-1,1)))\n",
    "gg_ace"
   ]
  },
  {
   "cell_type": "code",
   "execution_count": 210,
   "metadata": {},
   "outputs": [
    {
     "name": "stdout",
     "output_type": "stream",
     "text": [
      "Mean Std Error: 0.0005738894120429104\n",
      "R2 score: 0.9648204922808041\n"
     ]
    }
   ],
   "source": [
    "print(\"Mean Std Error:\", sklearn.metrics.mean_squared_error(np.log10(rg_nplga_ace), gg_ace))\n",
    "print(\"R2 score:\", sklearn.metrics.r2_score(np.log10(rg_nplga_ace), gg_ace))"
   ]
  },
  {
   "cell_type": "code",
   "execution_count": 211,
   "metadata": {},
   "outputs": [
    {
     "data": {
      "text/plain": [
       "array([ 0.00187694,  0.01578564, -0.00662508, -0.04095837,  0.02992087])"
      ]
     },
     "execution_count": 211,
     "metadata": {},
     "output_type": "execute_result"
    }
   ],
   "source": [
    "# Residuals between the true y data and model y data \n",
    "resid_vace = np.log10(rg_nplga_ace) - gg_ace\n",
    "resid_vace"
   ]
  },
  {
   "cell_type": "code",
   "execution_count": 212,
   "metadata": {},
   "outputs": [
    {
     "data": {
      "text/plain": [
       "0.334663876760361"
      ]
     },
     "execution_count": 212,
     "metadata": {},
     "output_type": "execute_result"
    }
   ],
   "source": [
    "# How to calculate Sum((Xi - avg(X))^2): X values are the bond length values \n",
    "nt_ttace = np.log10(n_plga)\n",
    "nt_ttace -= np.mean(nt_ttace)\n",
    "nhui_ace = nt_ttace**2\n",
    "np.sum(nhui_ace)"
   ]
  },
  {
   "cell_type": "code",
   "execution_count": 213,
   "metadata": {},
   "outputs": [
    {
     "data": {
      "text/plain": [
       "2.7764451051977987"
      ]
     },
     "execution_count": 213,
     "metadata": {},
     "output_type": "execute_result"
    }
   ],
   "source": [
    "# t-value with 95 % confidence intervals \n",
    "scipy.stats.t.ppf(0.975, 4)"
   ]
  },
  {
   "cell_type": "code",
   "execution_count": 214,
   "metadata": {},
   "outputs": [
    {
     "data": {
      "text/plain": [
       "0.11497377168997712"
      ]
     },
     "execution_count": 214,
     "metadata": {},
     "output_type": "execute_result"
    }
   ],
   "source": [
    "# How to calculate 95% confidence interval for the slope \n",
    "flc_vace = scipy.stats.t.ppf(0.975, 4)*np.sqrt((np.sum(resid_vace**2)/len(resid_vace))/(np.sum(nhui_ace)))\n",
    "flc_vace"
   ]
  },
  {
   "cell_type": "code",
   "execution_count": 221,
   "metadata": {},
   "outputs": [
    {
     "data": {
      "text/plain": [
       "Text(1.1, 0.95, '$v_{acetone}$ = 0.48 ± 0.11')"
      ]
     },
     "execution_count": 221,
     "metadata": {},
     "output_type": "execute_result"
    },
    {
     "data": {
      "image/png": "[encoded data removed]",
      "text/plain": [
       "<Figure size 504x504 with 1 Axes>"
      ]
     },
     "metadata": {
      "needs_background": "light"
     },
     "output_type": "display_data"
    }
   ],
   "source": [
    "plt.figure(figsize=(7,7))\n",
    "plt.errorbar(np.log10(n_plga), np.log10(rg_nplga_ace), yerr=rgace_nplga_std, color='#A58262', linestyle=\"None\",marker='o',\n",
    "     capsize=5, capthick=1, ecolor='black')\n",
    "plt.plot(np.log10(n_plga), gg_ace, color='#A58262')\n",
    "plt.title(r'Fluory Exponent', fontsize=15)\n",
    "plt.xlabel(r'Log($N_{PLGA}$)', fontsize=15)\n",
    "plt.ylabel(r'Log($R_{g}$)', fontsize=15)\n",
    "plt.tick_params(labelsize=14)\n",
    "plt.text(1.1, 0.95, r'$v_{acetone}$ = 0.48 ± 0.11', fontsize=15, color='#A58262')"
   ]
  },
  {
   "cell_type": "code",
   "execution_count": null,
   "metadata": {},
   "outputs": [],
   "source": []
  }
 ],
 "metadata": {
  "kernelspec": {
   "display_name": "Python (ppc_env)",
   "language": "python",
   "name": "ppc_env"
  },
  "language_info": {
   "codemirror_mode": {
    "name": "ipython",
    "version": 3
   },
   "file_extension": ".py",
   "mimetype": "text/x-python",
   "name": "python",
   "nbconvert_exporter": "python",
   "pygments_lexer": "ipython3",
   "version": "3.6.9"
  }
 },
 "nbformat": 4,
 "nbformat_minor": 4
}
