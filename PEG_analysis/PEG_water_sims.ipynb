{
 "cells": [
  {
   "cell_type": "code",
   "execution_count": 1,
   "metadata": {},
   "outputs": [],
   "source": [
    "#import the necessary modules \n",
    "%matplotlib inline \n",
    "import numpy as np \n",
    "import matplotlib.pyplot as plt \n",
    "import pandas as pd \n",
    "import scipy\n",
    "import sklearn\n",
    "import itertools \n",
    "from itertools import cycle \n",
    "import os.path as op\n",
    "import timeit \n",
    "import json\n",
    "import math\n"
   ]
  },
  {
   "cell_type": "code",
   "execution_count": 2,
   "metadata": {},
   "outputs": [
    {
     "data": {
      "text/plain": [
       "4"
      ]
     },
     "execution_count": 2,
     "metadata": {},
     "output_type": "execute_result"
    }
   ],
   "source": [
    "import multiprocessing as m_proc\n",
    "m_proc.cpu_count()"
   ]
  },
  {
   "cell_type": "code",
   "execution_count": 3,
   "metadata": {},
   "outputs": [],
   "source": [
    "# Import MDAnalysis\n",
    "import MDAnalysis as mda\n",
    "import statsmodels as stats\n",
    "from MDAnalysis.analysis import polymer, distances, rdf\n",
    "import matplotlib.font_manager as font_manager"
   ]
  },
  {
   "cell_type": "code",
   "execution_count": 4,
   "metadata": {},
   "outputs": [],
   "source": [
    "from polymer_MD_analysis import pers_length, get_rg_pers_poly, bavg_pers_cnt"
   ]
  },
  {
   "cell_type": "markdown",
   "metadata": {},
   "source": [
    "## PEG/water systems analysis"
   ]
  },
  {
   "cell_type": "markdown",
   "metadata": {},
   "source": [
    "### N = 6"
   ]
  },
  {
   "cell_type": "code",
   "execution_count": 5,
   "metadata": {},
   "outputs": [],
   "source": [
    "# For the right Rg calculation using MD Analysis, use trajactory without pbc \n",
    "n6_peg_wat = mda.Universe(\"n6peg_prod/n6pegonly.pdb\", \"n6peg_prod/nowat_n6peg.xtc\")"
   ]
  },
  {
   "cell_type": "code",
   "execution_count": 6,
   "metadata": {},
   "outputs": [
    {
     "data": {
      "text/plain": [
       "<XTCReader n6peg_prod/nowat_n6peg.xtc with 18001 frames of 45 atoms>"
      ]
     },
     "execution_count": 6,
     "metadata": {},
     "output_type": "execute_result"
    }
   ],
   "source": [
    "n6_peg_wat.trajectory"
   ]
  },
  {
   "cell_type": "code",
   "execution_count": 7,
   "metadata": {},
   "outputs": [
    {
     "data": {
      "text/plain": [
       "18001"
      ]
     },
     "execution_count": 7,
     "metadata": {},
     "output_type": "execute_result"
    }
   ],
   "source": [
    "len(n6_peg_wat.trajectory)"
   ]
  },
  {
   "cell_type": "code",
   "execution_count": 8,
   "metadata": {},
   "outputs": [],
   "source": [
    "#Select the polymer heavy atoms \n",
    "peg_n6 = n6_peg_wat.select_atoms(\"resname sPEG PEG tPEG and not type H\")"
   ]
  },
  {
   "cell_type": "code",
   "execution_count": 9,
   "metadata": {},
   "outputs": [
    {
     "data": {
      "text/plain": [
       "array([[ 1.        ,  0.99378211,  0.99457237,  0.98859888,  0.98142095],\n",
       "       [ 0.        ,  1.        ,  2.        ,  3.        ,  4.        ],\n",
       "       [ 0.        ,  0.        ,  0.        ,  8.66014075, 11.06175726]])"
      ]
     },
     "execution_count": 9,
     "metadata": {},
     "output_type": "execute_result"
    }
   ],
   "source": [
    "crv_n6peg = pers_length(peg_n6,6)\n",
    "crv_n6peg"
   ]
  },
  {
   "cell_type": "code",
   "execution_count": 10,
   "metadata": {},
   "outputs": [],
   "source": [
    "com_bond = np.zeros(shape=(1,18000))\n",
    "count = 0\n",
    "for ts in n6_peg_wat.trajectory[0:18000]:\n",
    "    n6_mon1 = n6_peg_wat.select_atoms(\"resid 1\")\n",
    "    n6_mon2 = n6_peg_wat.select_atoms(\"resid 2\")\n",
    "    oo_len = mda.analysis.distances.distance_array(n6_mon1.center_of_mass(), n6_mon2.center_of_mass(), \n",
    "                                                   box=n6_peg_wat.trajectory.ts.dimensions)\n",
    "    com_bond[0, count] = oo_len\n",
    "    count += 1\n",
    "    "
   ]
  },
  {
   "cell_type": "code",
   "execution_count": 11,
   "metadata": {},
   "outputs": [
    {
     "data": {
      "text/plain": [
       "array([[3.62684519, 3.32616194, 3.18436942, ..., 3.19787102, 3.21162118,\n",
       "        3.35360062]])"
      ]
     },
     "execution_count": 11,
     "metadata": {},
     "output_type": "execute_result"
    }
   ],
   "source": [
    "com_bond"
   ]
  },
  {
   "cell_type": "code",
   "execution_count": 12,
   "metadata": {},
   "outputs": [
    {
     "data": {
      "text/plain": [
       "3.2416426844376756"
      ]
     },
     "execution_count": 12,
     "metadata": {},
     "output_type": "execute_result"
    }
   ],
   "source": [
    "lb_avg_pn6 = np.mean(com_bond)\n",
    "lb_avg_pn6"
   ]
  },
  {
   "cell_type": "code",
   "execution_count": 13,
   "metadata": {},
   "outputs": [
    {
     "data": {
      "text/plain": [
       "0.15150696554795434"
      ]
     },
     "execution_count": 13,
     "metadata": {},
     "output_type": "execute_result"
    }
   ],
   "source": [
    "np.std(com_bond)"
   ]
  },
  {
   "cell_type": "markdown",
   "metadata": {},
   "source": [
    "### Radius of Gyration vs. time N = 6 PEG/water"
   ]
  },
  {
   "cell_type": "code",
   "execution_count": 14,
   "metadata": {},
   "outputs": [],
   "source": [
    "n6peg_rgens, cor_n6peg, N6peg_cos, rgavg_n6peg = get_rg_pers_poly(peg_n6, n6_peg_wat, 0, 18000)"
   ]
  },
  {
   "cell_type": "code",
   "execution_count": 15,
   "metadata": {},
   "outputs": [
    {
     "data": {
      "text/plain": [
       "(18000,)"
      ]
     },
     "execution_count": 15,
     "metadata": {},
     "output_type": "execute_result"
    }
   ],
   "source": [
    "n6peg_rgens[0].shape"
   ]
  },
  {
   "cell_type": "code",
   "execution_count": 16,
   "metadata": {},
   "outputs": [
    {
     "data": {
      "text/plain": [
       "array([0., 1., 2., 3., 4.])"
      ]
     },
     "execution_count": 16,
     "metadata": {},
     "output_type": "execute_result"
    }
   ],
   "source": [
    "cor_n6peg[3]"
   ]
  },
  {
   "cell_type": "code",
   "execution_count": 17,
   "metadata": {},
   "outputs": [
    {
     "data": {
      "text/plain": [
       "array([[1.        , 1.        , 1.        , ..., 1.        , 1.        ,\n",
       "        1.        ],\n",
       "       [0.99378211, 0.91799677, 0.89854826, ..., 0.87736113, 0.89235406,\n",
       "        0.90408813],\n",
       "       [0.99457237, 0.84931367, 0.80468613, ..., 0.63670978, 0.65655909,\n",
       "        0.65512385],\n",
       "       [0.98859888, 0.84598067, 0.73230691, ..., 0.41959792, 0.32938704,\n",
       "        0.34754323],\n",
       "       [0.98142095, 0.91715453, 0.87172716, ..., 0.33515925, 0.05285464,\n",
       "        0.13065741]])"
      ]
     },
     "execution_count": 17,
     "metadata": {},
     "output_type": "execute_result"
    }
   ],
   "source": [
    "N6peg_cos"
   ]
  },
  {
   "cell_type": "code",
   "execution_count": 18,
   "metadata": {},
   "outputs": [
    {
     "data": {
      "text/plain": [
       "4.422972260785161"
      ]
     },
     "execution_count": 18,
     "metadata": {},
     "output_type": "execute_result"
    }
   ],
   "source": [
    "rgavg_n6peg"
   ]
  },
  {
   "cell_type": "code",
   "execution_count": 19,
   "metadata": {},
   "outputs": [
    {
     "data": {
      "text/plain": [
       "0.5239522076018993"
      ]
     },
     "execution_count": 19,
     "metadata": {},
     "output_type": "execute_result"
    }
   ],
   "source": [
    "np.std(n6peg_rgens)"
   ]
  },
  {
   "cell_type": "code",
   "execution_count": 20,
   "metadata": {},
   "outputs": [
    {
     "data": {
      "text/plain": [
       "array([    0,     1,     2, ..., 17997, 17998, 17999])"
      ]
     },
     "execution_count": 20,
     "metadata": {},
     "output_type": "execute_result"
    }
   ],
   "source": [
    "trj_len = np.arange(18000)\n",
    "\n",
    "#trj_len += 1\n",
    "trj_len\n"
   ]
  },
  {
   "cell_type": "code",
   "execution_count": 21,
   "metadata": {},
   "outputs": [
    {
     "data": {
      "text/plain": [
       "(0.2, 2)"
      ]
     },
     "execution_count": 21,
     "metadata": {},
     "output_type": "execute_result"
    },
    {
     "data": {
      "image/png": "[encoded data removed]",
      "text/plain": [
       "<Figure size 504x504 with 1 Axes>"
      ]
     },
     "metadata": {
      "needs_background": "light"
     },
     "output_type": "display_data"
    }
   ],
   "source": [
    "plt.figure(figsize=(7,7))\n",
    "plt.title(r'PEG Radius of Gyration', fontsize=18, y=1.01)\n",
    "plt.xlabel(r'Time [ns]', fontsize=15)\n",
    "plt.ylabel(r'$R_{g}$ [nm]', fontsize=15)\n",
    "plt.plot(trj_len/100, n6peg_rgens[0]/10,linewidth=2, color='#1F2E69')\n",
    "plt.tick_params(labelsize=14)\n",
    "plt.legend(['N = 6 in water'], frameon=False, fontsize=14)\n",
    "#plt.text(127, 0.96,r'N = 6 in water', fontsize=18, color='#1F2E69', family='Arial')\n",
    "plt.xlim(0,180)\n",
    "plt.ylim(0.2,2)"
   ]
  },
  {
   "cell_type": "markdown",
   "metadata": {},
   "source": [
    "#### Correlation values at each arc length for the whole 180 ns trajectory, N = 6 PEG/water "
   ]
  },
  {
   "cell_type": "code",
   "execution_count": 22,
   "metadata": {},
   "outputs": [
    {
     "data": {
      "text/plain": [
       "array([0., 1., 2., 3., 4.])"
      ]
     },
     "execution_count": 22,
     "metadata": {},
     "output_type": "execute_result"
    }
   ],
   "source": [
    "np.arange(5, dtype=float)"
   ]
  },
  {
   "cell_type": "code",
   "execution_count": 23,
   "metadata": {},
   "outputs": [
    {
     "data": {
      "text/plain": [
       "array([ 0.        ,  3.24164268,  6.48328537,  9.72492805, 12.96657074])"
      ]
     },
     "execution_count": 23,
     "metadata": {},
     "output_type": "execute_result"
    }
   ],
   "source": [
    "# x values\n",
    "blen = cor_n6peg[3]*lb_avg_pn6\n",
    "#nt_tt[0] = 0\n",
    "blen"
   ]
  },
  {
   "cell_type": "code",
   "execution_count": 24,
   "metadata": {},
   "outputs": [
    {
     "data": {
      "text/plain": [
       "array([5.61855246e-17, 3.37731550e-02, 1.52618066e-01, 4.54247930e-01,\n",
       "       9.81624270e-01])"
      ]
     },
     "execution_count": 24,
     "metadata": {},
     "output_type": "execute_result"
    }
   ],
   "source": [
    "mk_n6p = cor_n6peg[1]/cor_n6peg[0]\n",
    "mk_n6p"
   ]
  },
  {
   "cell_type": "code",
   "execution_count": 25,
   "metadata": {},
   "outputs": [
    {
     "data": {
      "text/plain": [
       "<ErrorbarContainer object of 3 artists>"
      ]
     },
     "execution_count": 25,
     "metadata": {},
     "output_type": "execute_result"
    },
    {
     "data": {
      "image/png": "[encoded data removed]",
      "text/plain": [
       "<Figure size 504x504 with 1 Axes>"
      ]
     },
     "metadata": {
      "needs_background": "light"
     },
     "output_type": "display_data"
    }
   ],
   "source": [
    "plt.figure(figsize=(7,7))\n",
    "plt.errorbar(blen, np.log(cor_n6peg[0]), yerr=mk_n6p, color='b', linestyle=\"None\",marker='o',\n",
    "     capsize=5, capthick=1, ecolor='black')"
   ]
  },
  {
   "cell_type": "code",
   "execution_count": 26,
   "metadata": {},
   "outputs": [
    {
     "name": "stdout",
     "output_type": "stream",
     "text": [
      "3000\n",
      "6000\n",
      "Lp [Angstroms]: 17.677850244635312\n",
      "Error in Lp from fit [Angstroms], 95% CL: 3.1757034291771906\n",
      "R2 score: 0.982057034856551\n",
      "6000\n",
      "9000\n",
      "Lp [Angstroms]: 15.26811735376146\n",
      "Error in Lp from fit [Angstroms], 95% CL: 3.544531838825881\n",
      "R2 score: 0.9713604689468842\n",
      "9000\n",
      "12000\n",
      "Lp [Angstroms]: 13.857661368714624\n",
      "Error in Lp from fit [Angstroms], 95% CL: 3.949122340271953\n",
      "R2 score: 0.9587192292202948\n",
      "12000\n",
      "15000\n",
      "Lp [Angstroms]: 16.27604531409899\n",
      "Error in Lp from fit [Angstroms], 95% CL: 3.2128606518319605\n",
      "R2 score: 0.9786296439814687\n",
      "15000\n",
      "18000\n",
      "Lp [Angstroms]: 15.2397737488182\n",
      "Error in Lp from fit [Angstroms], 95% CL: 3.5151750873159298\n",
      "R2 score: 0.9716949162466617\n"
     ]
    }
   ],
   "source": [
    "# All the points give the best fits for N = 6 peg in water\n",
    "n6_blkspeg , n6peg_fitslp = bavg_pers_cnt(5, peg_n6, n6_peg_wat, lb_avg_pn6, 5, 3000 , 18000)"
   ]
  },
  {
   "cell_type": "code",
   "execution_count": 27,
   "metadata": {},
   "outputs": [
    {
     "data": {
      "text/plain": [
       "{'Avg Radius of gyration': array([4.50435891, 4.3940265 , 4.3597076 , 4.4204671 , 4.39994122]),\n",
       " 'Avg persistence length': array([17.67785024, 15.26811735, 13.85766137, 16.27604531, 15.23977375])}"
      ]
     },
     "execution_count": 27,
     "metadata": {},
     "output_type": "execute_result"
    }
   ],
   "source": [
    "n6_blkspeg"
   ]
  },
  {
   "cell_type": "code",
   "execution_count": 28,
   "metadata": {},
   "outputs": [
    {
     "data": {
      "text/plain": [
       "array([[ 1.76778502e+01,  1.52681174e+01,  1.38576614e+01,\n",
       "         1.62760453e+01,  1.52397737e+01],\n",
       "       [ 3.17570343e+00,  3.54453184e+00,  3.94912234e+00,\n",
       "         3.21286065e+00,  3.51517509e+00],\n",
       "       [-5.65679642e-02, -6.54959598e-02, -7.21622483e-02,\n",
       "        -6.14399862e-02, -6.56177721e-02],\n",
       "       [ 1.40771318e-03,  3.15157690e-03,  5.76492286e-03,\n",
       "         2.00511978e-03,  3.12271211e-03]])"
      ]
     },
     "execution_count": 28,
     "metadata": {},
     "output_type": "execute_result"
    }
   ],
   "source": [
    "n6peg_fitslp"
   ]
  },
  {
   "cell_type": "code",
   "execution_count": 29,
   "metadata": {},
   "outputs": [
    {
     "data": {
      "text/plain": [
       "array([-0.05656796, -0.06549596, -0.07216225, -0.06143999, -0.06561777])"
      ]
     },
     "execution_count": 29,
     "metadata": {},
     "output_type": "execute_result"
    }
   ],
   "source": [
    "n6peg_fitslp[2]"
   ]
  },
  {
   "cell_type": "code",
   "execution_count": 30,
   "metadata": {},
   "outputs": [
    {
     "data": {
      "text/plain": [
       "0.0030904089639489977"
      ]
     },
     "execution_count": 30,
     "metadata": {},
     "output_type": "execute_result"
    }
   ],
   "source": [
    "np.mean(n6peg_fitslp[3])"
   ]
  },
  {
   "cell_type": "code",
   "execution_count": 31,
   "metadata": {},
   "outputs": [],
   "source": [
    "def line_fit(slope, x):\n",
    "    return slope*x "
   ]
  },
  {
   "cell_type": "code",
   "execution_count": 32,
   "metadata": {},
   "outputs": [
    {
     "data": {
      "text/plain": [
       "array([ 0.        ,  3.24164268,  6.48328537,  9.72492805, 12.96657074])"
      ]
     },
     "execution_count": 32,
     "metadata": {},
     "output_type": "execute_result"
    }
   ],
   "source": [
    "blen"
   ]
  },
  {
   "cell_type": "code",
   "execution_count": 33,
   "metadata": {},
   "outputs": [],
   "source": [
    "gg_n6peg = line_fit(np.mean(n6peg_fitslp[2]),blen)"
   ]
  },
  {
   "cell_type": "code",
   "execution_count": 34,
   "metadata": {},
   "outputs": [
    {
     "data": {
      "text/plain": [
       "array([-0.        , -0.20829754, -0.41659508, -0.62489262, -0.83319016])"
      ]
     },
     "execution_count": 34,
     "metadata": {},
     "output_type": "execute_result"
    }
   ],
   "source": [
    "gg_n6peg"
   ]
  },
  {
   "cell_type": "markdown",
   "metadata": {},
   "source": [
    "### Block averaged Radius of gyration and persistence length, N = 6 PEG/water"
   ]
  },
  {
   "cell_type": "code",
   "execution_count": 35,
   "metadata": {},
   "outputs": [
    {
     "data": {
      "text/plain": [
       "15.663889606005716"
      ]
     },
     "execution_count": 35,
     "metadata": {},
     "output_type": "execute_result"
    }
   ],
   "source": [
    "np.mean(n6_blkspeg[\"Avg persistence length\"])"
   ]
  },
  {
   "cell_type": "code",
   "execution_count": 36,
   "metadata": {},
   "outputs": [
    {
     "data": {
      "text/plain": [
       "1.2672602294755873"
      ]
     },
     "execution_count": 36,
     "metadata": {},
     "output_type": "execute_result"
    }
   ],
   "source": [
    "np.std(n6_blkspeg[\"Avg persistence length\"])"
   ]
  },
  {
   "cell_type": "code",
   "execution_count": 37,
   "metadata": {},
   "outputs": [
    {
     "data": {
      "text/plain": [
       "4.41570026699439"
      ]
     },
     "execution_count": 37,
     "metadata": {},
     "output_type": "execute_result"
    }
   ],
   "source": [
    "np.mean(n6_blkspeg[\"Avg Radius of gyration\"])"
   ]
  },
  {
   "cell_type": "code",
   "execution_count": 38,
   "metadata": {},
   "outputs": [
    {
     "data": {
      "text/plain": [
       "0.048448647066057865"
      ]
     },
     "execution_count": 38,
     "metadata": {},
     "output_type": "execute_result"
    }
   ],
   "source": [
    "np.std(n6_blkspeg[\"Avg Radius of gyration\"])"
   ]
  },
  {
   "cell_type": "code",
   "execution_count": 39,
   "metadata": {},
   "outputs": [
    {
     "data": {
      "image/png": "[encoded data removed]",
      "text/plain": [
       "<Figure size 504x504 with 1 Axes>"
      ]
     },
     "metadata": {
      "needs_background": "light"
     },
     "output_type": "display_data"
    }
   ],
   "source": [
    "plt.figure(figsize=(7,7))\n",
    "plt.errorbar(blen, np.log(cor_n6peg[0]), yerr=mk_n6p, color='b', linestyle=\"None\",marker='o',\n",
    "     capsize=5, capthick=1, ecolor='black')\n",
    "plt.plot(blen, gg_n6peg, color='b')\n",
    "plt.title(r'Ensemble Averaged ln(Cosine $\\theta$)', fontsize=15, y=1.01)\n",
    "plt.xlabel(r'Bond Length', fontsize=15)\n",
    "plt.ylabel(r'ln$\\left< Cos(\\theta)\\right >$', fontsize=15)\n",
    "#plt.ylim(-1.9,0)\n",
    "font = font_manager.FontProperties(family='Arial', style='normal', size='14')\n",
    "plt.legend([r'$N_{PEG}$ = 6: $L_{p}$ = 15.7 $\\AA$ ± 1.27 $\\AA$'], loc=3, frameon=0, fontsize=14, prop=font)\n",
    "plt.tick_params(labelsize=14)\n",
    "#plt.text(5,-0.15,r'R$^{2}$ = 0.98', fontsize=15, color='blue')"
   ]
  },
  {
   "cell_type": "code",
   "execution_count": 40,
   "metadata": {},
   "outputs": [
    {
     "data": {
      "text/html": [
       "<div>\n",
       "<style scoped>\n",
       "    .dataframe tbody tr th:only-of-type {\n",
       "        vertical-align: middle;\n",
       "    }\n",
       "\n",
       "    .dataframe tbody tr th {\n",
       "        vertical-align: top;\n",
       "    }\n",
       "\n",
       "    .dataframe thead th {\n",
       "        text-align: right;\n",
       "    }\n",
       "</style>\n",
       "<table border=\"1\" class=\"dataframe\">\n",
       "  <thead>\n",
       "    <tr style=\"text-align: right;\">\n",
       "      <th></th>\n",
       "      <th>$R_{g}$ [Angstrom] N = 6 PEG</th>\n",
       "    </tr>\n",
       "  </thead>\n",
       "  <tbody>\n",
       "    <tr>\n",
       "      <th>0</th>\n",
       "      <td>4.504359</td>\n",
       "    </tr>\n",
       "    <tr>\n",
       "      <th>1</th>\n",
       "      <td>4.394027</td>\n",
       "    </tr>\n",
       "    <tr>\n",
       "      <th>2</th>\n",
       "      <td>4.359708</td>\n",
       "    </tr>\n",
       "    <tr>\n",
       "      <th>3</th>\n",
       "      <td>4.420467</td>\n",
       "    </tr>\n",
       "    <tr>\n",
       "      <th>4</th>\n",
       "      <td>4.399941</td>\n",
       "    </tr>\n",
       "  </tbody>\n",
       "</table>\n",
       "</div>"
      ],
      "text/plain": [
       "   $R_{g}$ [Angstrom] N = 6 PEG \n",
       "0                       4.504359\n",
       "1                       4.394027\n",
       "2                       4.359708\n",
       "3                       4.420467\n",
       "4                       4.399941"
      ]
     },
     "execution_count": 40,
     "metadata": {},
     "output_type": "execute_result"
    }
   ],
   "source": [
    "rgpeg_olig =  pd.DataFrame(data=n6_blkspeg[\"Avg Radius of gyration\"], columns=[r\"$R_{g}$ [Angstrom] N = 6 PEG \"])\n",
    "rgpeg_olig"
   ]
  },
  {
   "cell_type": "code",
   "execution_count": 41,
   "metadata": {},
   "outputs": [
    {
     "data": {
      "text/html": [
       "<div>\n",
       "<style scoped>\n",
       "    .dataframe tbody tr th:only-of-type {\n",
       "        vertical-align: middle;\n",
       "    }\n",
       "\n",
       "    .dataframe tbody tr th {\n",
       "        vertical-align: top;\n",
       "    }\n",
       "\n",
       "    .dataframe thead th {\n",
       "        text-align: right;\n",
       "    }\n",
       "</style>\n",
       "<table border=\"1\" class=\"dataframe\">\n",
       "  <thead>\n",
       "    <tr style=\"text-align: right;\">\n",
       "      <th></th>\n",
       "      <th>$L_{p}$ [Angstrom] N = 6 PEG</th>\n",
       "    </tr>\n",
       "  </thead>\n",
       "  <tbody>\n",
       "    <tr>\n",
       "      <th>0</th>\n",
       "      <td>17.677850</td>\n",
       "    </tr>\n",
       "    <tr>\n",
       "      <th>1</th>\n",
       "      <td>15.268117</td>\n",
       "    </tr>\n",
       "    <tr>\n",
       "      <th>2</th>\n",
       "      <td>13.857661</td>\n",
       "    </tr>\n",
       "    <tr>\n",
       "      <th>3</th>\n",
       "      <td>16.276045</td>\n",
       "    </tr>\n",
       "    <tr>\n",
       "      <th>4</th>\n",
       "      <td>15.239774</td>\n",
       "    </tr>\n",
       "  </tbody>\n",
       "</table>\n",
       "</div>"
      ],
      "text/plain": [
       "   $L_{p}$ [Angstrom] N = 6 PEG \n",
       "0                      17.677850\n",
       "1                      15.268117\n",
       "2                      13.857661\n",
       "3                      16.276045\n",
       "4                      15.239774"
      ]
     },
     "execution_count": 41,
     "metadata": {},
     "output_type": "execute_result"
    }
   ],
   "source": [
    "pers_pegt = pd.DataFrame(data=n6_blkspeg[\"Avg persistence length\"], columns=[r\"$L_{p}$ [Angstrom] N = 6 PEG \"])\n",
    "pers_pegt"
   ]
  },
  {
   "cell_type": "markdown",
   "metadata": {},
   "source": [
    "### N = 8 PEG/water "
   ]
  },
  {
   "cell_type": "code",
   "execution_count": 42,
   "metadata": {},
   "outputs": [],
   "source": [
    "# For the right Rg calculation using MD Analysis, use trajactory without pbc \n",
    "n8_peg_wat = mda.Universe(\"n8peg_prod/n8pegonly.pdb\", \"n8peg_prod/nowat_n8peg.xtc\")"
   ]
  },
  {
   "cell_type": "code",
   "execution_count": 43,
   "metadata": {},
   "outputs": [
    {
     "data": {
      "text/plain": [
       "<XTCReader n8peg_prod/nowat_n8peg.xtc with 18001 frames of 59 atoms>"
      ]
     },
     "execution_count": 43,
     "metadata": {},
     "output_type": "execute_result"
    }
   ],
   "source": [
    "n8_peg_wat.trajectory"
   ]
  },
  {
   "cell_type": "code",
   "execution_count": 44,
   "metadata": {},
   "outputs": [
    {
     "data": {
      "text/plain": [
       "18001"
      ]
     },
     "execution_count": 44,
     "metadata": {},
     "output_type": "execute_result"
    }
   ],
   "source": [
    "len(n8_peg_wat.trajectory)"
   ]
  },
  {
   "cell_type": "code",
   "execution_count": 45,
   "metadata": {},
   "outputs": [
    {
     "data": {
      "text/plain": [
       "[<Atom 2: O1 of type O of resname sPEG, resid 1 and segid SYSTEM and altLoc >,\n",
       " <Atom 3: C1 of type C of resname sPEG, resid 1 and segid SYSTEM and altLoc >,\n",
       " <Atom 6: C2 of type C of resname sPEG, resid 1 and segid SYSTEM and altLoc >,\n",
       " <Atom 9: O2 of type O of resname PEG, resid 2 and segid SYSTEM and altLoc >,\n",
       " <Atom 10: C3 of type C of resname PEG, resid 2 and segid SYSTEM and altLoc >,\n",
       " <Atom 13: C2 of type C of resname PEG, resid 2 and segid SYSTEM and altLoc >,\n",
       " <Atom 16: O2 of type O of resname PEG, resid 3 and segid SYSTEM and altLoc >,\n",
       " <Atom 17: C3 of type C of resname PEG, resid 3 and segid SYSTEM and altLoc >,\n",
       " <Atom 20: C2 of type C of resname PEG, resid 3 and segid SYSTEM and altLoc >,\n",
       " <Atom 23: O2 of type O of resname PEG, resid 4 and segid SYSTEM and altLoc >,\n",
       " <Atom 24: C3 of type C of resname PEG, resid 4 and segid SYSTEM and altLoc >,\n",
       " <Atom 27: C2 of type C of resname PEG, resid 4 and segid SYSTEM and altLoc >,\n",
       " <Atom 30: O2 of type O of resname PEG, resid 5 and segid SYSTEM and altLoc >,\n",
       " <Atom 31: C3 of type C of resname PEG, resid 5 and segid SYSTEM and altLoc >,\n",
       " <Atom 34: C2 of type C of resname PEG, resid 5 and segid SYSTEM and altLoc >,\n",
       " <Atom 37: O2 of type O of resname PEG, resid 6 and segid SYSTEM and altLoc >,\n",
       " <Atom 38: C3 of type C of resname PEG, resid 6 and segid SYSTEM and altLoc >,\n",
       " <Atom 41: C2 of type C of resname PEG, resid 6 and segid SYSTEM and altLoc >,\n",
       " <Atom 44: O2 of type O of resname PEG, resid 7 and segid SYSTEM and altLoc >,\n",
       " <Atom 45: C3 of type C of resname PEG, resid 7 and segid SYSTEM and altLoc >,\n",
       " <Atom 48: C2 of type C of resname PEG, resid 7 and segid SYSTEM and altLoc >,\n",
       " <Atom 51: O3 of type O of resname tPEG, resid 8 and segid SYSTEM and altLoc >,\n",
       " <Atom 52: C5 of type C of resname tPEG, resid 8 and segid SYSTEM and altLoc >,\n",
       " <Atom 55: C6 of type C of resname tPEG, resid 8 and segid SYSTEM and altLoc >,\n",
       " <Atom 58: O4 of type O of resname tPEG, resid 8 and segid SYSTEM and altLoc >]"
      ]
     },
     "execution_count": 45,
     "metadata": {},
     "output_type": "execute_result"
    }
   ],
   "source": [
    "#Select the polymer heavy atoms \n",
    "peg_n8 = n8_peg_wat.select_atoms(\"resname sPEG PEG tPEG and not type H\")\n",
    "list(peg_n8)"
   ]
  },
  {
   "cell_type": "code",
   "execution_count": 46,
   "metadata": {},
   "outputs": [
    {
     "data": {
      "text/plain": [
       "array([[ 1.        ,  0.98873357,  0.98813042,  0.98006562,  0.97684454,\n",
       "         0.96659958,  0.93888196],\n",
       "       [ 0.        ,  1.        ,  2.        ,  3.        ,  4.        ,\n",
       "         5.        ,  6.        ],\n",
       "       [ 0.        ,  8.60873574,  8.83661245, 11.45943237, 12.35395343,\n",
       "        14.85011766, 20.13536353]])"
      ]
     },
     "execution_count": 46,
     "metadata": {},
     "output_type": "execute_result"
    }
   ],
   "source": [
    "crv_n8peg = pers_length(peg_n8,8)\n",
    "crv_n8peg"
   ]
  },
  {
   "cell_type": "code",
   "execution_count": 47,
   "metadata": {},
   "outputs": [],
   "source": [
    "com_bond_n8 = np.zeros(shape=(1,18000))\n",
    "count = 0\n",
    "for ts in n8_peg_wat.trajectory[0:18000]:\n",
    "    n8_mon1 = n8_peg_wat.select_atoms(\"resid 1\")\n",
    "    n8_mon2 = n8_peg_wat.select_atoms(\"resid 2\")\n",
    "    oo_len = mda.analysis.distances.distance_array(n8_mon1.center_of_mass(), n8_mon2.center_of_mass(), \n",
    "                                                   box=n8_peg_wat.trajectory.ts.dimensions)\n",
    "    com_bond_n8[0, count] = oo_len\n",
    "    count += 1\n",
    "    "
   ]
  },
  {
   "cell_type": "code",
   "execution_count": 48,
   "metadata": {},
   "outputs": [
    {
     "data": {
      "text/plain": [
       "array([[3.08011253, 3.12546082, 3.16393746, ..., 3.06889086, 2.9810368 ,\n",
       "        2.87296042]])"
      ]
     },
     "execution_count": 48,
     "metadata": {},
     "output_type": "execute_result"
    }
   ],
   "source": [
    "com_bond_n8"
   ]
  },
  {
   "cell_type": "code",
   "execution_count": 49,
   "metadata": {},
   "outputs": [
    {
     "data": {
      "text/plain": [
       "3.2432765017892087"
      ]
     },
     "execution_count": 49,
     "metadata": {},
     "output_type": "execute_result"
    }
   ],
   "source": [
    "np.mean(com_bond_n8)"
   ]
  },
  {
   "cell_type": "code",
   "execution_count": 50,
   "metadata": {},
   "outputs": [
    {
     "data": {
      "text/plain": [
       "0.1511749370479925"
      ]
     },
     "execution_count": 50,
     "metadata": {},
     "output_type": "execute_result"
    }
   ],
   "source": [
    "np.std(com_bond_n8)"
   ]
  },
  {
   "cell_type": "code",
   "execution_count": 51,
   "metadata": {},
   "outputs": [
    {
     "data": {
      "text/plain": [
       "3.2416426844376756"
      ]
     },
     "execution_count": 51,
     "metadata": {},
     "output_type": "execute_result"
    }
   ],
   "source": [
    "np.mean(com_bond)"
   ]
  },
  {
   "cell_type": "code",
   "execution_count": 52,
   "metadata": {},
   "outputs": [
    {
     "data": {
      "text/plain": [
       "0.15150696554795434"
      ]
     },
     "execution_count": 52,
     "metadata": {},
     "output_type": "execute_result"
    }
   ],
   "source": [
    "np.std(com_bond)"
   ]
  },
  {
   "cell_type": "markdown",
   "metadata": {},
   "source": [
    "### Radius of Gyration vs. time N = 8 PEG/water"
   ]
  },
  {
   "cell_type": "code",
   "execution_count": 53,
   "metadata": {},
   "outputs": [],
   "source": [
    "n8peg_rgens, cor_n8peg, N8peg_cos, rgavg_n8peg = get_rg_pers_poly(peg_n8, n8_peg_wat, 0, 18000)"
   ]
  },
  {
   "cell_type": "code",
   "execution_count": 54,
   "metadata": {},
   "outputs": [
    {
     "data": {
      "text/plain": [
       "(18000,)"
      ]
     },
     "execution_count": 54,
     "metadata": {},
     "output_type": "execute_result"
    }
   ],
   "source": [
    "n8peg_rgens[0].shape"
   ]
  },
  {
   "cell_type": "code",
   "execution_count": 55,
   "metadata": {},
   "outputs": [
    {
     "data": {
      "text/plain": [
       "array([0., 1., 2., 3., 4., 5., 6.])"
      ]
     },
     "execution_count": 55,
     "metadata": {},
     "output_type": "execute_result"
    }
   ],
   "source": [
    "cor_n8peg[3]"
   ]
  },
  {
   "cell_type": "code",
   "execution_count": 56,
   "metadata": {},
   "outputs": [
    {
     "data": {
      "text/plain": [
       "array([[ 1.        ,  1.        ,  1.        , ...,  1.        ,\n",
       "         1.        ,  1.        ],\n",
       "       [ 0.98873357,  0.928283  ,  0.91623511, ...,  0.87247513,\n",
       "         0.89610068,  0.8502428 ],\n",
       "       [ 0.98813042,  0.84852434,  0.82794097, ...,  0.66807168,\n",
       "         0.65201226,  0.62281397],\n",
       "       ...,\n",
       "       [ 0.97684454,  0.67102864,  0.58020462, ...,  0.00313198,\n",
       "        -0.07020712,  0.00219735],\n",
       "       [ 0.96659958,  0.46009583,  0.41145961, ..., -0.12358259,\n",
       "        -0.05417917,  0.02954185],\n",
       "       [ 0.93888196,  0.1245553 ,  0.33337942, ...,  0.28981302,\n",
       "         0.46041239,  0.6558946 ]])"
      ]
     },
     "execution_count": 56,
     "metadata": {},
     "output_type": "execute_result"
    }
   ],
   "source": [
    "N8peg_cos"
   ]
  },
  {
   "cell_type": "code",
   "execution_count": 57,
   "metadata": {},
   "outputs": [
    {
     "data": {
      "text/plain": [
       "5.273065232723292"
      ]
     },
     "execution_count": 57,
     "metadata": {},
     "output_type": "execute_result"
    }
   ],
   "source": [
    "rgavg_n8peg"
   ]
  },
  {
   "cell_type": "code",
   "execution_count": 58,
   "metadata": {},
   "outputs": [
    {
     "data": {
      "text/plain": [
       "0.7445257442963289"
      ]
     },
     "execution_count": 58,
     "metadata": {},
     "output_type": "execute_result"
    }
   ],
   "source": [
    "np.std(n8peg_rgens)"
   ]
  },
  {
   "cell_type": "code",
   "execution_count": 59,
   "metadata": {},
   "outputs": [
    {
     "data": {
      "text/plain": [
       "(0.2, 2)"
      ]
     },
     "execution_count": 59,
     "metadata": {},
     "output_type": "execute_result"
    },
    {
     "data": {
      "image/png": "[encoded data removed]",
      "text/plain": [
       "<Figure size 504x504 with 1 Axes>"
      ]
     },
     "metadata": {
      "needs_background": "light"
     },
     "output_type": "display_data"
    }
   ],
   "source": [
    "plt.figure(figsize=(7,7))\n",
    "plt.title(r'PEG Radius of Gyration', fontsize=18, y=1.01)\n",
    "plt.xlabel(r'Time [ns]', fontsize=15)\n",
    "plt.ylabel(r'$R_{g}$ [nm]', fontsize=15)\n",
    "plt.plot(trj_len/100, n6peg_rgens[0]/10,linewidth=2, color='#1F2E69')\n",
    "plt.plot(trj_len/100, n8peg_rgens[0]/10,linewidth=2, color='#4C80ED')\n",
    "plt.tick_params(labelsize=14)\n",
    "#plt.legend(['N = 6 in water'], frameon=False, fontsize=14)\n",
    "plt.legend(['N = 6 in water','N = 8 in water'], frameon=False, fontsize=14)\n",
    "#plt.text(127, 0.96,r'N = 6 in water', fontsize=18, color='#1F2E69', family='Arial')\n",
    "plt.xlim(0,180)\n",
    "plt.ylim(0.2,2)"
   ]
  },
  {
   "cell_type": "markdown",
   "metadata": {},
   "source": [
    "#### Correlation values at each arc length for the whole 180 ns trajectory, N = 8 PEG/water "
   ]
  },
  {
   "cell_type": "code",
   "execution_count": 60,
   "metadata": {},
   "outputs": [
    {
     "data": {
      "text/plain": [
       "array([0., 1., 2., 3., 4., 5., 6.])"
      ]
     },
     "execution_count": 60,
     "metadata": {},
     "output_type": "execute_result"
    }
   ],
   "source": [
    "np.arange(7, dtype=float)"
   ]
  },
  {
   "cell_type": "code",
   "execution_count": 61,
   "metadata": {},
   "outputs": [
    {
     "data": {
      "text/plain": [
       "array([ 0.        ,  3.24164268,  6.48328537,  9.72492805, 12.96657074,\n",
       "       16.20821342, 19.44985611])"
      ]
     },
     "execution_count": 61,
     "metadata": {},
     "output_type": "execute_result"
    }
   ],
   "source": [
    "# x values\n",
    "blen_n8 = cor_n8peg[3]*lb_avg_pn6\n",
    "#nt_tt[0] = 0\n",
    "blen_n8"
   ]
  },
  {
   "cell_type": "code",
   "execution_count": 62,
   "metadata": {},
   "outputs": [
    {
     "data": {
      "text/plain": [
       "array([3.70444231e-17, 2.65054465e-02, 1.10225506e-01, 2.85640352e-01,\n",
       "       5.42142210e-01, 8.59463794e-01, 1.25659664e+00])"
      ]
     },
     "execution_count": 62,
     "metadata": {},
     "output_type": "execute_result"
    }
   ],
   "source": [
    "mk_n8p = cor_n8peg[1]/cor_n8peg[0]\n",
    "mk_n8p"
   ]
  },
  {
   "cell_type": "code",
   "execution_count": 63,
   "metadata": {},
   "outputs": [
    {
     "data": {
      "text/plain": [
       "<matplotlib.legend.Legend at 0x1a1a95e668>"
      ]
     },
     "execution_count": 63,
     "metadata": {},
     "output_type": "execute_result"
    },
    {
     "data": {
      "image/png": "[encoded data removed]",
      "text/plain": [
       "<Figure size 504x504 with 1 Axes>"
      ]
     },
     "metadata": {
      "needs_background": "light"
     },
     "output_type": "display_data"
    }
   ],
   "source": [
    "plt.figure(figsize=(7,7))\n",
    "plt.errorbar(blen, np.log(cor_n6peg[0]), yerr=mk_n6p, color='#1F2E69', linestyle=\"None\",marker='o',\n",
    "     capsize=5, capthick=1, ecolor='black')\n",
    "plt.errorbar(blen_n8, np.log(cor_n8peg[0]), yerr=mk_n8p, color='#4C80ED', linestyle=\"None\",marker='o',\n",
    "     capsize=5, capthick=1, ecolor='black')\n",
    "plt.legend(['N = 6 in water','N = 8 in water'], frameon=False, fontsize=14)"
   ]
  },
  {
   "cell_type": "code",
   "execution_count": 64,
   "metadata": {},
   "outputs": [
    {
     "name": "stdout",
     "output_type": "stream",
     "text": [
      "3000\n",
      "6000\n",
      "Lp [Angstroms]: 17.986655725360524\n",
      "Error in Lp from fit [Angstroms], 95% CL : 1.7297735579841018\n",
      "R2 score: 0.9819752075968561\n",
      "6000\n",
      "9000\n",
      "Lp [Angstroms]: 18.039634103777733\n",
      "Error in Lp from fit [Angstroms], 95% CL : 1.558925527769904\n",
      "R2 score: 0.9850131683886254\n",
      "9000\n",
      "12000\n",
      "Lp [Angstroms]: 16.696242441118702\n",
      "Error in Lp from fit [Angstroms], 95% CL : 1.866673610046297\n",
      "R2 score: 0.9762922370452997\n",
      "12000\n",
      "15000\n",
      "Lp [Angstroms]: 17.245965413575753\n",
      "Error in Lp from fit [Angstroms], 95% CL : 1.7740395618673184\n",
      "R2 score: 0.9796030090403648\n",
      "15000\n",
      "18000\n",
      "Lp [Angstroms]: 17.57812667608322\n",
      "Error in Lp from fit [Angstroms], 95% CL : 1.6856912181950834\n",
      "R2 score: 0.9820463557404064\n"
     ]
    }
   ],
   "source": [
    "# All the points give the best fits for N = 6 peg in water\n",
    "n8_blkspeg , n8peg_fitslp = bavg_pers_cnt(5, peg_n8, n8_peg_wat, lb_avg_pn6, 5, 3000 , 18000)"
   ]
  },
  {
   "cell_type": "code",
   "execution_count": 65,
   "metadata": {},
   "outputs": [
    {
     "data": {
      "text/plain": [
       "{'Avg Radius of gyration': array([5.31731006, 5.24529783, 5.19384368, 5.2511917 , 5.28416406]),\n",
       " 'Avg persistence length': array([17.98665573, 18.0396341 , 16.69624244, 17.24596541, 17.57812668])}"
      ]
     },
     "execution_count": 65,
     "metadata": {},
     "output_type": "execute_result"
    }
   ],
   "source": [
    "n8_blkspeg"
   ]
  },
  {
   "cell_type": "code",
   "execution_count": 66,
   "metadata": {},
   "outputs": [
    {
     "data": {
      "text/plain": [
       "array([[ 1.79866557e+01,  1.80396341e+01,  1.66962424e+01,\n",
       "         1.72459654e+01,  1.75781267e+01],\n",
       "       [ 1.72977356e+00,  1.55892553e+00,  1.86667361e+00,\n",
       "         1.77403956e+00,  1.68569122e+00],\n",
       "       [-5.55967721e-02, -5.54334968e-02, -5.98937158e-02,\n",
       "        -5.79845765e-02, -5.68888835e-02],\n",
       "       [ 1.36394534e-03,  1.09486352e-03,  2.13935055e-03,\n",
       "         1.69744888e-03,  1.41999180e-03]])"
      ]
     },
     "execution_count": 66,
     "metadata": {},
     "output_type": "execute_result"
    }
   ],
   "source": [
    "n8peg_fitslp"
   ]
  },
  {
   "cell_type": "code",
   "execution_count": 67,
   "metadata": {},
   "outputs": [
    {
     "data": {
      "text/plain": [
       "array([-0.05559677, -0.0554335 , -0.05989372, -0.05798458, -0.05688888])"
      ]
     },
     "execution_count": 67,
     "metadata": {},
     "output_type": "execute_result"
    }
   ],
   "source": [
    "n8peg_fitslp[2]"
   ]
  },
  {
   "cell_type": "code",
   "execution_count": 68,
   "metadata": {},
   "outputs": [
    {
     "data": {
      "text/plain": [
       "0.0015431200174387608"
      ]
     },
     "execution_count": 68,
     "metadata": {},
     "output_type": "execute_result"
    }
   ],
   "source": [
    "np.mean(n8peg_fitslp[3])"
   ]
  },
  {
   "cell_type": "code",
   "execution_count": 69,
   "metadata": {},
   "outputs": [
    {
     "data": {
      "text/plain": [
       "array([ 0.        ,  3.24164268,  6.48328537,  9.72492805, 12.96657074,\n",
       "       16.20821342, 19.44985611])"
      ]
     },
     "execution_count": 69,
     "metadata": {},
     "output_type": "execute_result"
    }
   ],
   "source": [
    "blen_n8"
   ]
  },
  {
   "cell_type": "code",
   "execution_count": 70,
   "metadata": {},
   "outputs": [
    {
     "data": {
      "text/plain": [
       "array([-0.        , -0.20829754, -0.41659508, -0.62489262, -0.83319016,\n",
       "       -1.0414877 , -1.24978524])"
      ]
     },
     "execution_count": 70,
     "metadata": {},
     "output_type": "execute_result"
    }
   ],
   "source": [
    "gg_n6peg_n = line_fit(np.mean(n6peg_fitslp[2]),blen_n8)\n",
    "gg_n6peg_n"
   ]
  },
  {
   "cell_type": "code",
   "execution_count": 71,
   "metadata": {},
   "outputs": [],
   "source": [
    "gg_n8peg = line_fit(np.mean(n8peg_fitslp[2]),blen_n8)"
   ]
  },
  {
   "cell_type": "code",
   "execution_count": 72,
   "metadata": {},
   "outputs": [
    {
     "data": {
      "text/plain": [
       "array([-0.        , -0.18529064, -0.37058128, -0.55587192, -0.74116256,\n",
       "       -0.9264532 , -1.11174384])"
      ]
     },
     "execution_count": 72,
     "metadata": {},
     "output_type": "execute_result"
    }
   ],
   "source": [
    "gg_n8peg"
   ]
  },
  {
   "cell_type": "markdown",
   "metadata": {},
   "source": [
    "### Block averaged Radius of gyration and persistence length, N = 8 PEG/water"
   ]
  },
  {
   "cell_type": "code",
   "execution_count": 73,
   "metadata": {},
   "outputs": [
    {
     "data": {
      "text/plain": [
       "17.509324871983186"
      ]
     },
     "execution_count": 73,
     "metadata": {},
     "output_type": "execute_result"
    }
   ],
   "source": [
    "np.mean(n8_blkspeg[\"Avg persistence length\"])"
   ]
  },
  {
   "cell_type": "code",
   "execution_count": 74,
   "metadata": {},
   "outputs": [
    {
     "data": {
      "text/plain": [
       "0.4988521939157999"
      ]
     },
     "execution_count": 74,
     "metadata": {},
     "output_type": "execute_result"
    }
   ],
   "source": [
    "np.std(n8_blkspeg[\"Avg persistence length\"])"
   ]
  },
  {
   "cell_type": "code",
   "execution_count": 75,
   "metadata": {},
   "outputs": [
    {
     "data": {
      "text/plain": [
       "5.258361468692826"
      ]
     },
     "execution_count": 75,
     "metadata": {},
     "output_type": "execute_result"
    }
   ],
   "source": [
    "np.mean(n8_blkspeg[\"Avg Radius of gyration\"])"
   ]
  },
  {
   "cell_type": "code",
   "execution_count": 76,
   "metadata": {},
   "outputs": [
    {
     "data": {
      "text/plain": [
       "0.04129241905807037"
      ]
     },
     "execution_count": 76,
     "metadata": {},
     "output_type": "execute_result"
    }
   ],
   "source": [
    "np.std(n8_blkspeg[\"Avg Radius of gyration\"])"
   ]
  },
  {
   "cell_type": "code",
   "execution_count": 77,
   "metadata": {},
   "outputs": [
    {
     "data": {
      "image/png": "[encoded data removed]",
      "text/plain": [
       "<Figure size 504x504 with 1 Axes>"
      ]
     },
     "metadata": {
      "needs_background": "light"
     },
     "output_type": "display_data"
    }
   ],
   "source": [
    "plt.figure(figsize=(7,7))\n",
    "plt.errorbar(blen, np.log(cor_n6peg[0]), yerr=mk_n6p, color='#1F2E69', linestyle=\"None\",marker='o',\n",
    "     capsize=5, capthick=1, ecolor='black')\n",
    "plt.errorbar(blen_n8, np.log(cor_n8peg[0]), yerr=mk_n8p, color='#4C80ED', linestyle=\"None\",marker='o',\n",
    "     capsize=5, capthick=1, ecolor='black')\n",
    "plt.plot(blen_n8, gg_n6peg_n, color='#1F2E69')\n",
    "plt.plot(blen_n8, gg_n8peg, color='#4C80ED')\n",
    "plt.title(r'Ensemble Averaged ln(Cosine $\\theta$)', fontsize=15, y=1.01)\n",
    "plt.xlabel(r'Bond Length', fontsize=15)\n",
    "plt.ylabel(r'ln$\\left< Cos(\\theta)\\right >$', fontsize=15)\n",
    "plt.ylim(-6,1)\n",
    "plt.xlim(0,25)\n",
    "font = font_manager.FontProperties(family='Arial', style='normal', size='14')\n",
    "plt.text(0.5, -5.9,r'$N_{PEG}$ = 6: $L_{p}$ = 15.7 $\\AA$ ± 1.27 $\\AA$', fontsize=15, color='#1F2E69')\n",
    "plt.text(0.5,-5.58,r'$N_{PEG}$ = 8: $L_{p}$ = 17.5 $\\AA$ ± 0.50 $\\AA$', fontsize=15, color='#4C80ED')\n",
    "plt.tick_params(labelsize=14)\n",
    "#plt.text(5,-0.15,r'R$^{2}$ = 0.98', fontsize=15, color='blue')"
   ]
  },
  {
   "cell_type": "code",
   "execution_count": 78,
   "metadata": {},
   "outputs": [
    {
     "data": {
      "text/html": [
       "<div>\n",
       "<style scoped>\n",
       "    .dataframe tbody tr th:only-of-type {\n",
       "        vertical-align: middle;\n",
       "    }\n",
       "\n",
       "    .dataframe tbody tr th {\n",
       "        vertical-align: top;\n",
       "    }\n",
       "\n",
       "    .dataframe thead th {\n",
       "        text-align: right;\n",
       "    }\n",
       "</style>\n",
       "<table border=\"1\" class=\"dataframe\">\n",
       "  <thead>\n",
       "    <tr style=\"text-align: right;\">\n",
       "      <th></th>\n",
       "      <th>$R_{g}$ [Angstrom] N = 6 PEG</th>\n",
       "    </tr>\n",
       "  </thead>\n",
       "  <tbody>\n",
       "    <tr>\n",
       "      <th>0</th>\n",
       "      <td>4.504359</td>\n",
       "    </tr>\n",
       "    <tr>\n",
       "      <th>1</th>\n",
       "      <td>4.394027</td>\n",
       "    </tr>\n",
       "    <tr>\n",
       "      <th>2</th>\n",
       "      <td>4.359708</td>\n",
       "    </tr>\n",
       "    <tr>\n",
       "      <th>3</th>\n",
       "      <td>4.420467</td>\n",
       "    </tr>\n",
       "    <tr>\n",
       "      <th>4</th>\n",
       "      <td>4.399941</td>\n",
       "    </tr>\n",
       "  </tbody>\n",
       "</table>\n",
       "</div>"
      ],
      "text/plain": [
       "   $R_{g}$ [Angstrom] N = 6 PEG \n",
       "0                       4.504359\n",
       "1                       4.394027\n",
       "2                       4.359708\n",
       "3                       4.420467\n",
       "4                       4.399941"
      ]
     },
     "execution_count": 78,
     "metadata": {},
     "output_type": "execute_result"
    }
   ],
   "source": [
    "rgpeg_olig"
   ]
  },
  {
   "cell_type": "code",
   "execution_count": 79,
   "metadata": {},
   "outputs": [
    {
     "data": {
      "text/html": [
       "<div>\n",
       "<style scoped>\n",
       "    .dataframe tbody tr th:only-of-type {\n",
       "        vertical-align: middle;\n",
       "    }\n",
       "\n",
       "    .dataframe tbody tr th {\n",
       "        vertical-align: top;\n",
       "    }\n",
       "\n",
       "    .dataframe thead th {\n",
       "        text-align: right;\n",
       "    }\n",
       "</style>\n",
       "<table border=\"1\" class=\"dataframe\">\n",
       "  <thead>\n",
       "    <tr style=\"text-align: right;\">\n",
       "      <th></th>\n",
       "      <th>$R_{g}$ [Angstrom] N = 6 PEG</th>\n",
       "      <th>$R_{g}$ [Angstrom] N = 8 PEG</th>\n",
       "    </tr>\n",
       "  </thead>\n",
       "  <tbody>\n",
       "    <tr>\n",
       "      <th>0</th>\n",
       "      <td>4.504359</td>\n",
       "      <td>5.317310</td>\n",
       "    </tr>\n",
       "    <tr>\n",
       "      <th>1</th>\n",
       "      <td>4.394027</td>\n",
       "      <td>5.245298</td>\n",
       "    </tr>\n",
       "    <tr>\n",
       "      <th>2</th>\n",
       "      <td>4.359708</td>\n",
       "      <td>5.193844</td>\n",
       "    </tr>\n",
       "    <tr>\n",
       "      <th>3</th>\n",
       "      <td>4.420467</td>\n",
       "      <td>5.251192</td>\n",
       "    </tr>\n",
       "    <tr>\n",
       "      <th>4</th>\n",
       "      <td>4.399941</td>\n",
       "      <td>5.284164</td>\n",
       "    </tr>\n",
       "  </tbody>\n",
       "</table>\n",
       "</div>"
      ],
      "text/plain": [
       "   $R_{g}$ [Angstrom] N = 6 PEG   $R_{g}$ [Angstrom] N = 8 PEG \n",
       "0                       4.504359                       5.317310\n",
       "1                       4.394027                       5.245298\n",
       "2                       4.359708                       5.193844\n",
       "3                       4.420467                       5.251192\n",
       "4                       4.399941                       5.284164"
      ]
     },
     "execution_count": 79,
     "metadata": {},
     "output_type": "execute_result"
    }
   ],
   "source": [
    "rgpeg_olig[r\"$R_{g}$ [Angstrom] N = 8 PEG \"] = n8_blkspeg[\"Avg Radius of gyration\"]\n",
    "rgpeg_olig"
   ]
  },
  {
   "cell_type": "code",
   "execution_count": 80,
   "metadata": {},
   "outputs": [
    {
     "data": {
      "text/html": [
       "<div>\n",
       "<style scoped>\n",
       "    .dataframe tbody tr th:only-of-type {\n",
       "        vertical-align: middle;\n",
       "    }\n",
       "\n",
       "    .dataframe tbody tr th {\n",
       "        vertical-align: top;\n",
       "    }\n",
       "\n",
       "    .dataframe thead th {\n",
       "        text-align: right;\n",
       "    }\n",
       "</style>\n",
       "<table border=\"1\" class=\"dataframe\">\n",
       "  <thead>\n",
       "    <tr style=\"text-align: right;\">\n",
       "      <th></th>\n",
       "      <th>$L_{p}$ [Angstrom] N = 6 PEG</th>\n",
       "      <th>$L_{p}$ [Angstrom] N = 8 PEG</th>\n",
       "    </tr>\n",
       "  </thead>\n",
       "  <tbody>\n",
       "    <tr>\n",
       "      <th>0</th>\n",
       "      <td>17.677850</td>\n",
       "      <td>17.986656</td>\n",
       "    </tr>\n",
       "    <tr>\n",
       "      <th>1</th>\n",
       "      <td>15.268117</td>\n",
       "      <td>18.039634</td>\n",
       "    </tr>\n",
       "    <tr>\n",
       "      <th>2</th>\n",
       "      <td>13.857661</td>\n",
       "      <td>16.696242</td>\n",
       "    </tr>\n",
       "    <tr>\n",
       "      <th>3</th>\n",
       "      <td>16.276045</td>\n",
       "      <td>17.245965</td>\n",
       "    </tr>\n",
       "    <tr>\n",
       "      <th>4</th>\n",
       "      <td>15.239774</td>\n",
       "      <td>17.578127</td>\n",
       "    </tr>\n",
       "  </tbody>\n",
       "</table>\n",
       "</div>"
      ],
      "text/plain": [
       "   $L_{p}$ [Angstrom] N = 6 PEG   $L_{p}$ [Angstrom] N = 8 PEG \n",
       "0                      17.677850                      17.986656\n",
       "1                      15.268117                      18.039634\n",
       "2                      13.857661                      16.696242\n",
       "3                      16.276045                      17.245965\n",
       "4                      15.239774                      17.578127"
      ]
     },
     "execution_count": 80,
     "metadata": {},
     "output_type": "execute_result"
    }
   ],
   "source": [
    "pers_pegt[r\"$L_{p}$ [Angstrom] N = 8 PEG \"] = n8_blkspeg[\"Avg persistence length\"]\n",
    "pers_pegt"
   ]
  },
  {
   "cell_type": "code",
   "execution_count": null,
   "metadata": {},
   "outputs": [],
   "source": []
  },
  {
   "cell_type": "markdown",
   "metadata": {},
   "source": [
    "### N = 10 PEG/water"
   ]
  },
  {
   "cell_type": "code",
   "execution_count": 81,
   "metadata": {},
   "outputs": [],
   "source": [
    "# For the right Rg calculation using MD Analysis, use trajactory without pbc \n",
    "n10_peg_wat = mda.Universe(\"n10peg_prod/n10pegonly.pdb\", \"n10peg_prod/nowat_n10peg.xtc\")"
   ]
  },
  {
   "cell_type": "code",
   "execution_count": 82,
   "metadata": {},
   "outputs": [
    {
     "data": {
      "text/plain": [
       "<XTCReader n10peg_prod/nowat_n10peg.xtc with 18001 frames of 73 atoms>"
      ]
     },
     "execution_count": 82,
     "metadata": {},
     "output_type": "execute_result"
    }
   ],
   "source": [
    "n10_peg_wat.trajectory"
   ]
  },
  {
   "cell_type": "code",
   "execution_count": 83,
   "metadata": {},
   "outputs": [
    {
     "data": {
      "text/plain": [
       "18001"
      ]
     },
     "execution_count": 83,
     "metadata": {},
     "output_type": "execute_result"
    }
   ],
   "source": [
    "len(n10_peg_wat.trajectory)"
   ]
  },
  {
   "cell_type": "code",
   "execution_count": 84,
   "metadata": {},
   "outputs": [
    {
     "data": {
      "text/plain": [
       "[<Atom 2: O1 of type O of resname sPEG, resid 1 and segid SYSTEM and altLoc >,\n",
       " <Atom 3: C1 of type C of resname sPEG, resid 1 and segid SYSTEM and altLoc >,\n",
       " <Atom 6: C2 of type C of resname sPEG, resid 1 and segid SYSTEM and altLoc >,\n",
       " <Atom 9: O2 of type O of resname PEG, resid 2 and segid SYSTEM and altLoc >,\n",
       " <Atom 10: C3 of type C of resname PEG, resid 2 and segid SYSTEM and altLoc >,\n",
       " <Atom 13: C2 of type C of resname PEG, resid 2 and segid SYSTEM and altLoc >,\n",
       " <Atom 16: O2 of type O of resname PEG, resid 3 and segid SYSTEM and altLoc >,\n",
       " <Atom 17: C3 of type C of resname PEG, resid 3 and segid SYSTEM and altLoc >,\n",
       " <Atom 20: C2 of type C of resname PEG, resid 3 and segid SYSTEM and altLoc >,\n",
       " <Atom 23: O2 of type O of resname PEG, resid 4 and segid SYSTEM and altLoc >,\n",
       " <Atom 24: C3 of type C of resname PEG, resid 4 and segid SYSTEM and altLoc >,\n",
       " <Atom 27: C2 of type C of resname PEG, resid 4 and segid SYSTEM and altLoc >,\n",
       " <Atom 30: O2 of type O of resname PEG, resid 5 and segid SYSTEM and altLoc >,\n",
       " <Atom 31: C3 of type C of resname PEG, resid 5 and segid SYSTEM and altLoc >,\n",
       " <Atom 34: C2 of type C of resname PEG, resid 5 and segid SYSTEM and altLoc >,\n",
       " <Atom 37: O2 of type O of resname PEG, resid 6 and segid SYSTEM and altLoc >,\n",
       " <Atom 38: C3 of type C of resname PEG, resid 6 and segid SYSTEM and altLoc >,\n",
       " <Atom 41: C2 of type C of resname PEG, resid 6 and segid SYSTEM and altLoc >,\n",
       " <Atom 44: O2 of type O of resname PEG, resid 7 and segid SYSTEM and altLoc >,\n",
       " <Atom 45: C3 of type C of resname PEG, resid 7 and segid SYSTEM and altLoc >,\n",
       " <Atom 48: C2 of type C of resname PEG, resid 7 and segid SYSTEM and altLoc >,\n",
       " <Atom 51: O2 of type O of resname PEG, resid 8 and segid SYSTEM and altLoc >,\n",
       " <Atom 52: C3 of type C of resname PEG, resid 8 and segid SYSTEM and altLoc >,\n",
       " <Atom 55: C2 of type C of resname PEG, resid 8 and segid SYSTEM and altLoc >,\n",
       " <Atom 58: O2 of type O of resname PEG, resid 9 and segid SYSTEM and altLoc >,\n",
       " <Atom 59: C3 of type C of resname PEG, resid 9 and segid SYSTEM and altLoc >,\n",
       " <Atom 62: C2 of type C of resname PEG, resid 9 and segid SYSTEM and altLoc >,\n",
       " <Atom 65: O3 of type O of resname tPEG, resid 10 and segid SYSTEM and altLoc >,\n",
       " <Atom 66: C5 of type C of resname tPEG, resid 10 and segid SYSTEM and altLoc >,\n",
       " <Atom 69: C6 of type C of resname tPEG, resid 10 and segid SYSTEM and altLoc >,\n",
       " <Atom 72: O4 of type O of resname tPEG, resid 10 and segid SYSTEM and altLoc >]"
      ]
     },
     "execution_count": 84,
     "metadata": {},
     "output_type": "execute_result"
    }
   ],
   "source": [
    "#Select the polymer heavy atoms \n",
    "peg_n10 = n10_peg_wat.select_atoms(\"resname sPEG PEG tPEG and not type H\")\n",
    "list(peg_n10)"
   ]
  },
  {
   "cell_type": "code",
   "execution_count": 85,
   "metadata": {},
   "outputs": [
    {
     "data": {
      "text/plain": [
       "array([[ 1.        ,  0.99446339,  0.99388726,  0.9921273 ,  0.99064299,\n",
       "         0.98656317,  0.98354507,  0.97720153,  0.94822403],\n",
       "       [ 0.        ,  1.        ,  2.        ,  3.        ,  4.        ,\n",
       "         5.        ,  6.        ,  7.        ,  8.        ],\n",
       "       [ 0.        ,  0.        ,  0.        ,  0.        ,  0.        ,\n",
       "         9.40315283, 10.40837608, 12.25798515, 18.51798068]])"
      ]
     },
     "execution_count": 85,
     "metadata": {},
     "output_type": "execute_result"
    }
   ],
   "source": [
    "crv_n10peg = pers_length(peg_n10,10)\n",
    "crv_n10peg"
   ]
  },
  {
   "cell_type": "code",
   "execution_count": 86,
   "metadata": {},
   "outputs": [],
   "source": [
    "com_bond_n10 = np.zeros(shape=(1,18000))\n",
    "count = 0\n",
    "for ts in n10_peg_wat.trajectory[0:18000]:\n",
    "    n10_mon1 = n10_peg_wat.select_atoms(\"resid 1\")\n",
    "    n10_mon2 = n10_peg_wat.select_atoms(\"resid 2\")\n",
    "    oo_len = mda.analysis.distances.distance_array(n10_mon1.center_of_mass(), n10_mon2.center_of_mass(), \n",
    "                                                   box=n10_peg_wat.trajectory.ts.dimensions)\n",
    "    com_bond_n10[0, count] = oo_len\n",
    "    count += 1\n",
    "    "
   ]
  },
  {
   "cell_type": "code",
   "execution_count": 87,
   "metadata": {},
   "outputs": [
    {
     "data": {
      "text/plain": [
       "3.2415557268808546"
      ]
     },
     "execution_count": 87,
     "metadata": {},
     "output_type": "execute_result"
    }
   ],
   "source": [
    "np.mean(com_bond_n10)"
   ]
  },
  {
   "cell_type": "code",
   "execution_count": 88,
   "metadata": {},
   "outputs": [
    {
     "data": {
      "text/plain": [
       "0.15329762765990188"
      ]
     },
     "execution_count": 88,
     "metadata": {},
     "output_type": "execute_result"
    }
   ],
   "source": [
    "np.std(com_bond_n10)"
   ]
  },
  {
   "cell_type": "code",
   "execution_count": 89,
   "metadata": {},
   "outputs": [
    {
     "data": {
      "text/plain": [
       "3.2416426844376756"
      ]
     },
     "execution_count": 89,
     "metadata": {},
     "output_type": "execute_result"
    }
   ],
   "source": [
    "np.mean(com_bond)"
   ]
  },
  {
   "cell_type": "code",
   "execution_count": 90,
   "metadata": {},
   "outputs": [
    {
     "data": {
      "text/plain": [
       "3.2416426844376756"
      ]
     },
     "execution_count": 90,
     "metadata": {},
     "output_type": "execute_result"
    }
   ],
   "source": [
    "lb_avg_pn6 = np.mean(com_bond)\n",
    "lb_avg_pn6"
   ]
  },
  {
   "cell_type": "code",
   "execution_count": 91,
   "metadata": {},
   "outputs": [
    {
     "data": {
      "text/plain": [
       "0.15150696554795434"
      ]
     },
     "execution_count": 91,
     "metadata": {},
     "output_type": "execute_result"
    }
   ],
   "source": [
    "np.std(com_bond)"
   ]
  },
  {
   "cell_type": "markdown",
   "metadata": {},
   "source": [
    "### Radius of Gyration vs. time, N = 10 PEG/water"
   ]
  },
  {
   "cell_type": "code",
   "execution_count": 92,
   "metadata": {},
   "outputs": [],
   "source": [
    "n10peg_rgens, cor_n10peg, N10peg_cos, rgavg_n10peg = get_rg_pers_poly(peg_n10, n10_peg_wat, 0, 18000)"
   ]
  },
  {
   "cell_type": "code",
   "execution_count": 93,
   "metadata": {},
   "outputs": [
    {
     "data": {
      "text/plain": [
       "(18000,)"
      ]
     },
     "execution_count": 93,
     "metadata": {},
     "output_type": "execute_result"
    }
   ],
   "source": [
    "n10peg_rgens[0].shape"
   ]
  },
  {
   "cell_type": "code",
   "execution_count": 94,
   "metadata": {},
   "outputs": [
    {
     "data": {
      "text/plain": [
       "array([0., 1., 2., 3., 4., 5., 6., 7., 8.])"
      ]
     },
     "execution_count": 94,
     "metadata": {},
     "output_type": "execute_result"
    }
   ],
   "source": [
    "cor_n10peg[3]"
   ]
  },
  {
   "cell_type": "code",
   "execution_count": 95,
   "metadata": {},
   "outputs": [
    {
     "data": {
      "text/plain": [
       "array([[1.        , 1.        , 1.        , ..., 1.        , 1.        ,\n",
       "        1.        ],\n",
       "       [0.99446339, 0.96037438, 0.91431766, ..., 0.89765875, 0.89694699,\n",
       "        0.89982891],\n",
       "       [0.99388726, 0.91890609, 0.76712704, ..., 0.71710198, 0.73014049,\n",
       "        0.71485041],\n",
       "       ...,\n",
       "       [0.98354507, 0.9494916 , 0.78503517, ..., 0.71304235, 0.6599278 ,\n",
       "        0.7011813 ],\n",
       "       [0.97720153, 0.96184537, 0.62604886, ..., 0.95439409, 0.85209456,\n",
       "        0.70693065],\n",
       "       [0.94822403, 0.98168023, 0.68359315, ..., 0.85767808, 0.69550324,\n",
       "        0.51846997]])"
      ]
     },
     "execution_count": 95,
     "metadata": {},
     "output_type": "execute_result"
    }
   ],
   "source": [
    "N10peg_cos"
   ]
  },
  {
   "cell_type": "code",
   "execution_count": 96,
   "metadata": {},
   "outputs": [
    {
     "data": {
      "text/plain": [
       "6.057525011125419"
      ]
     },
     "execution_count": 96,
     "metadata": {},
     "output_type": "execute_result"
    }
   ],
   "source": [
    "rgavg_n10peg"
   ]
  },
  {
   "cell_type": "code",
   "execution_count": 97,
   "metadata": {},
   "outputs": [
    {
     "data": {
      "text/plain": [
       "0.9440694633423056"
      ]
     },
     "execution_count": 97,
     "metadata": {},
     "output_type": "execute_result"
    }
   ],
   "source": [
    "np.std(n10peg_rgens)"
   ]
  },
  {
   "cell_type": "code",
   "execution_count": 98,
   "metadata": {},
   "outputs": [
    {
     "data": {
      "text/plain": [
       "(0.2, 2)"
      ]
     },
     "execution_count": 98,
     "metadata": {},
     "output_type": "execute_result"
    },
    {
     "data": {
      "image/png": "[encoded data removed]",
      "text/plain": [
       "<Figure size 504x504 with 1 Axes>"
      ]
     },
     "metadata": {
      "needs_background": "light"
     },
     "output_type": "display_data"
    }
   ],
   "source": [
    "plt.figure(figsize=(7,7))\n",
    "plt.title(r'PEG Radius of Gyration', fontsize=18, y=1.01)\n",
    "plt.xlabel(r'Time [ns]', fontsize=15)\n",
    "plt.ylabel(r'$R_{g}$ [nm]', fontsize=15)\n",
    "plt.plot(trj_len/100, n6peg_rgens[0]/10,linewidth=2, color='#1F2E69')\n",
    "plt.plot(trj_len/100, n8peg_rgens[0]/10,linewidth=2, color='#4C80ED')\n",
    "plt.plot(trj_len/100, n10peg_rgens[0]/10,linewidth=2, color='#8C52FC')\n",
    "plt.tick_params(labelsize=14)\n",
    "#plt.legend(['N = 6 in water'], frameon=False, fontsize=14)\n",
    "plt.legend(['N = 6 in water','N = 8 in water', 'N = 10 in water'], frameon=False, fontsize=14)\n",
    "#plt.text(127, 0.96,r'N = 6 in water', fontsize=18, color='#1F2E69', family='Arial')\n",
    "plt.xlim(0,180)\n",
    "plt.ylim(0.2,2)"
   ]
  },
  {
   "cell_type": "markdown",
   "metadata": {},
   "source": [
    "\n",
    "#### Correlation values at each arc length for the whole 180 ns trajectory"
   ]
  },
  {
   "cell_type": "code",
   "execution_count": 99,
   "metadata": {},
   "outputs": [
    {
     "data": {
      "text/plain": [
       "array([ 0.        ,  3.24164268,  6.48328537,  9.72492805, 12.96657074,\n",
       "       16.20821342, 19.44985611, 22.69149879, 25.93314148])"
      ]
     },
     "execution_count": 99,
     "metadata": {},
     "output_type": "execute_result"
    }
   ],
   "source": [
    "# x values\n",
    "blen_n10 = cor_n10peg[3]*lb_avg_pn6\n",
    "#nt_tt[0] = 0\n",
    "blen_n10"
   ]
  },
  {
   "cell_type": "code",
   "execution_count": 100,
   "metadata": {},
   "outputs": [
    {
     "data": {
      "text/plain": [
       "array([3.77765971e-17, 2.26682957e-02, 9.10756153e-02, 2.23904157e-01,\n",
       "       3.92864554e-01, 5.75601858e-01, 8.10612561e-01, 1.08754020e+00,\n",
       "       1.38019283e+00])"
      ]
     },
     "execution_count": 100,
     "metadata": {},
     "output_type": "execute_result"
    }
   ],
   "source": [
    "mk_n10p = cor_n10peg[1]/cor_n10peg[0]\n",
    "mk_n10p"
   ]
  },
  {
   "cell_type": "code",
   "execution_count": 101,
   "metadata": {},
   "outputs": [
    {
     "data": {
      "text/plain": [
       "<matplotlib.legend.Legend at 0x1a1a7d5d68>"
      ]
     },
     "execution_count": 101,
     "metadata": {},
     "output_type": "execute_result"
    },
    {
     "data": {
      "image/png": "[encoded data removed]",
      "text/plain": [
       "<Figure size 504x504 with 1 Axes>"
      ]
     },
     "metadata": {
      "needs_background": "light"
     },
     "output_type": "display_data"
    }
   ],
   "source": [
    "plt.figure(figsize=(7,7))\n",
    "plt.errorbar(blen, np.log(cor_n6peg[0]), yerr=mk_n6p, color='#1F2E69', linestyle=\"None\",marker='o',\n",
    "     capsize=5, capthick=1, ecolor='black')\n",
    "plt.errorbar(blen_n8, np.log(cor_n8peg[0]), yerr=mk_n8p, color='#4C80ED', linestyle=\"None\",marker='o',\n",
    "     capsize=5, capthick=1, ecolor='black')\n",
    "plt.errorbar(blen_n10, np.log(cor_n10peg[0]), yerr=mk_n10p, color='#8C52FC', linestyle=\"None\",marker='o',\n",
    "     capsize=5, capthick=1, ecolor='black')\n",
    "plt.legend(['N = 6 in water','N = 8 in water','N = 10 in water'], frameon=False, fontsize=14)"
   ]
  },
  {
   "cell_type": "code",
   "execution_count": 102,
   "metadata": {},
   "outputs": [
    {
     "name": "stdout",
     "output_type": "stream",
     "text": [
      "3000\n",
      "6000\n",
      "Lp [Angstroms]: 19.59589001014616\n",
      "Error in Lp from fit [Angstroms], 95% CL : 1.0575580324357219\n",
      "R2 score: 0.9887265611998556\n",
      "6000\n",
      "9000\n",
      "Lp [Angstroms]: 19.248204156189633\n",
      "Error in Lp from fit [Angstroms], 95% CL : 1.0016726273747465\n",
      "R2 score: 0.9895904753858324\n",
      "9000\n",
      "12000\n",
      "Lp [Angstroms]: 18.032623158093312\n",
      "Error in Lp from fit [Angstroms], 95% CL : 1.0318476391097842\n",
      "R2 score: 0.9876657474381514\n",
      "12000\n",
      "15000\n",
      "Lp [Angstroms]: 19.440085699328822\n",
      "Error in Lp from fit [Angstroms], 95% CL : 0.961626726328938\n",
      "R2 score: 0.9906073815380914\n",
      "15000\n",
      "18000\n",
      "Lp [Angstroms]: 19.323741300077636\n",
      "Error in Lp from fit [Angstroms], 95% CL : 1.0952574431364774\n",
      "R2 score: 0.9874933150977905\n"
     ]
    }
   ],
   "source": [
    "# All the points give the best fits for N = 10 peg in water, first 6 points \n",
    "n10_blkspeg , n10peg_fitslp = bavg_pers_cnt(5, peg_n10, n10_peg_wat, lb_avg_pn6, 6, 3000 , 18000)"
   ]
  },
  {
   "cell_type": "code",
   "execution_count": 103,
   "metadata": {},
   "outputs": [
    {
     "data": {
      "text/plain": [
       "{'Avg Radius of gyration': array([6.06445264, 6.09004812, 6.02170654, 6.15566346, 6.0432478 ]),\n",
       " 'Avg persistence length': array([19.59589001, 19.24820416, 18.03262316, 19.4400857 , 19.3237413 ])}"
      ]
     },
     "execution_count": 103,
     "metadata": {},
     "output_type": "execute_result"
    }
   ],
   "source": [
    "n10_blkspeg"
   ]
  },
  {
   "cell_type": "code",
   "execution_count": 104,
   "metadata": {},
   "outputs": [
    {
     "data": {
      "text/plain": [
       "array([[ 1.95958900e+01,  1.92482042e+01,  1.80326232e+01,\n",
       "         1.94400857e+01,  1.93237413e+01],\n",
       "       [ 1.05755803e+00,  1.00167263e+00,  1.03184764e+00,\n",
       "         9.61626726e-01,  1.09525744e+00],\n",
       "       [-5.10311090e-02, -5.19528987e-02, -5.54550490e-02,\n",
       "        -5.14401024e-02, -5.17498131e-02],\n",
       "       [ 9.67967777e-04,  9.32831500e-04,  1.28501435e-03,\n",
       "         8.26290589e-04,  1.09794358e-03]])"
      ]
     },
     "execution_count": 104,
     "metadata": {},
     "output_type": "execute_result"
    }
   ],
   "source": [
    "n10peg_fitslp"
   ]
  },
  {
   "cell_type": "code",
   "execution_count": 105,
   "metadata": {},
   "outputs": [
    {
     "data": {
      "text/plain": [
       "array([-0.05103111, -0.0519529 , -0.05545505, -0.0514401 , -0.05174981])"
      ]
     },
     "execution_count": 105,
     "metadata": {},
     "output_type": "execute_result"
    }
   ],
   "source": [
    "n10peg_fitslp[2]"
   ]
  },
  {
   "cell_type": "code",
   "execution_count": 106,
   "metadata": {},
   "outputs": [
    {
     "data": {
      "text/plain": [
       "0.0010220095601478575"
      ]
     },
     "execution_count": 106,
     "metadata": {},
     "output_type": "execute_result"
    }
   ],
   "source": [
    "np.mean(n10peg_fitslp[3])"
   ]
  },
  {
   "cell_type": "code",
   "execution_count": 107,
   "metadata": {},
   "outputs": [
    {
     "data": {
      "text/plain": [
       "array([ 0.        ,  3.24164268,  6.48328537,  9.72492805, 12.96657074,\n",
       "       16.20821342, 19.44985611, 22.69149879, 25.93314148])"
      ]
     },
     "execution_count": 107,
     "metadata": {},
     "output_type": "execute_result"
    }
   ],
   "source": [
    "blen_n10"
   ]
  },
  {
   "cell_type": "code",
   "execution_count": 108,
   "metadata": {},
   "outputs": [
    {
     "data": {
      "text/plain": [
       "array([-0.        , -0.20829754, -0.41659508, -0.62489262, -0.83319016,\n",
       "       -1.0414877 , -1.24978524, -1.45808278, -1.66638032])"
      ]
     },
     "execution_count": 108,
     "metadata": {},
     "output_type": "execute_result"
    }
   ],
   "source": [
    "gg_n6peg_n10 = line_fit(np.mean(n6peg_fitslp[2]),blen_n10)\n",
    "gg_n6peg_n10"
   ]
  },
  {
   "cell_type": "code",
   "execution_count": 109,
   "metadata": {},
   "outputs": [
    {
     "data": {
      "text/plain": [
       "array([-0.        , -0.18529064, -0.37058128, -0.55587192, -0.74116256,\n",
       "       -0.9264532 , -1.11174384, -1.29703447, -1.48232511])"
      ]
     },
     "execution_count": 109,
     "metadata": {},
     "output_type": "execute_result"
    }
   ],
   "source": [
    "gg_n8peg_n10 = line_fit(np.mean(n8peg_fitslp[2]),blen_n10)\n",
    "gg_n8peg_n10"
   ]
  },
  {
   "cell_type": "code",
   "execution_count": 110,
   "metadata": {},
   "outputs": [],
   "source": [
    "gg_n10peg = line_fit(np.mean(n10peg_fitslp[2]),blen_n10)"
   ]
  },
  {
   "cell_type": "markdown",
   "metadata": {},
   "source": [
    "### Block averaged Radius of gyration and persistence length "
   ]
  },
  {
   "cell_type": "code",
   "execution_count": 111,
   "metadata": {},
   "outputs": [
    {
     "data": {
      "text/plain": [
       "19.128108864767114"
      ]
     },
     "execution_count": 111,
     "metadata": {},
     "output_type": "execute_result"
    }
   ],
   "source": [
    "np.mean(n10_blkspeg[\"Avg persistence length\"])"
   ]
  },
  {
   "cell_type": "code",
   "execution_count": 112,
   "metadata": {},
   "outputs": [
    {
     "data": {
      "text/plain": [
       "0.5601665123102703"
      ]
     },
     "execution_count": 112,
     "metadata": {},
     "output_type": "execute_result"
    }
   ],
   "source": [
    "np.std(n10_blkspeg[\"Avg persistence length\"])"
   ]
  },
  {
   "cell_type": "code",
   "execution_count": 113,
   "metadata": {},
   "outputs": [
    {
     "data": {
      "text/plain": [
       "6.075023711479959"
      ]
     },
     "execution_count": 113,
     "metadata": {},
     "output_type": "execute_result"
    }
   ],
   "source": [
    "np.mean(n10_blkspeg[\"Avg Radius of gyration\"])"
   ]
  },
  {
   "cell_type": "code",
   "execution_count": 114,
   "metadata": {},
   "outputs": [
    {
     "data": {
      "text/plain": [
       "0.04624430353488021"
      ]
     },
     "execution_count": 114,
     "metadata": {},
     "output_type": "execute_result"
    }
   ],
   "source": [
    "np.std(n10_blkspeg[\"Avg Radius of gyration\"])"
   ]
  },
  {
   "cell_type": "code",
   "execution_count": 115,
   "metadata": {},
   "outputs": [
    {
     "data": {
      "image/png": "[encoded data removed]",
      "text/plain": [
       "<Figure size 504x504 with 1 Axes>"
      ]
     },
     "metadata": {
      "needs_background": "light"
     },
     "output_type": "display_data"
    }
   ],
   "source": [
    "plt.figure(figsize=(7,7))\n",
    "plt.errorbar(blen, np.log(cor_n6peg[0]), yerr=mk_n6p, color='#1F2E69', linestyle=\"None\",marker='o',\n",
    "     capsize=5, capthick=1, ecolor='black')\n",
    "plt.errorbar(blen_n8, np.log(cor_n8peg[0]), yerr=mk_n8p, color='#4C80ED', linestyle=\"None\",marker='o',\n",
    "     capsize=5, capthick=1, ecolor='black')\n",
    "plt.errorbar(blen_n10, np.log(cor_n10peg[0]), yerr=mk_n10p, color='#8C52FC', linestyle=\"None\",marker='o',\n",
    "     capsize=5, capthick=1, ecolor='black')\n",
    "plt.plot(blen_n10, gg_n6peg_n10, color='#1F2E69')\n",
    "plt.plot(blen_n10, gg_n8peg_n10, color='#4C80ED')\n",
    "plt.plot(blen_n10, gg_n10peg, color='#4C80ED')\n",
    "plt.title(r'Ensemble Averaged ln(Cosine $\\theta$)', fontsize=15, y=1.01)\n",
    "plt.xlabel(r'Bond Length', fontsize=15)\n",
    "plt.ylabel(r'ln$\\left< Cos(\\theta)\\right >$', fontsize=15)\n",
    "plt.ylim(-6,1)\n",
    "plt.xlim(0,30)\n",
    "font = font_manager.FontProperties(family='Arial', style='normal', size='14')\n",
    "plt.text(0.5, -5.9,r'$N_{PEG}$ = 6: $L_{p}$ = 15.7 $\\AA$ ± 1.27 $\\AA$', fontsize=15, color='#1F2E69')\n",
    "plt.text(0.5,-5.58,r'$N_{PEG}$ = 8: $L_{p}$ = 17.5 $\\AA$ ± 0.50 $\\AA$', fontsize=15, color='#4C80ED')\n",
    "plt.text(0.5,-5.23,r'$N_{PEG}$ = 10: $L_{p}$ = 19.1 $\\AA$ ± 0.56 $\\AA$', fontsize=15, color='#8C52FC')\n",
    "plt.tick_params(labelsize=14)\n",
    "#plt.text(5,-0.15,r'R$^{2}$ = 0.98', fontsize=15, color='blue')"
   ]
  },
  {
   "cell_type": "code",
   "execution_count": 116,
   "metadata": {},
   "outputs": [
    {
     "data": {
      "text/html": [
       "<div>\n",
       "<style scoped>\n",
       "    .dataframe tbody tr th:only-of-type {\n",
       "        vertical-align: middle;\n",
       "    }\n",
       "\n",
       "    .dataframe tbody tr th {\n",
       "        vertical-align: top;\n",
       "    }\n",
       "\n",
       "    .dataframe thead th {\n",
       "        text-align: right;\n",
       "    }\n",
       "</style>\n",
       "<table border=\"1\" class=\"dataframe\">\n",
       "  <thead>\n",
       "    <tr style=\"text-align: right;\">\n",
       "      <th></th>\n",
       "      <th>$R_{g}$ [Angstrom] N = 6 PEG</th>\n",
       "      <th>$R_{g}$ [Angstrom] N = 8 PEG</th>\n",
       "    </tr>\n",
       "  </thead>\n",
       "  <tbody>\n",
       "    <tr>\n",
       "      <th>0</th>\n",
       "      <td>4.504359</td>\n",
       "      <td>5.317310</td>\n",
       "    </tr>\n",
       "    <tr>\n",
       "      <th>1</th>\n",
       "      <td>4.394027</td>\n",
       "      <td>5.245298</td>\n",
       "    </tr>\n",
       "    <tr>\n",
       "      <th>2</th>\n",
       "      <td>4.359708</td>\n",
       "      <td>5.193844</td>\n",
       "    </tr>\n",
       "    <tr>\n",
       "      <th>3</th>\n",
       "      <td>4.420467</td>\n",
       "      <td>5.251192</td>\n",
       "    </tr>\n",
       "    <tr>\n",
       "      <th>4</th>\n",
       "      <td>4.399941</td>\n",
       "      <td>5.284164</td>\n",
       "    </tr>\n",
       "  </tbody>\n",
       "</table>\n",
       "</div>"
      ],
      "text/plain": [
       "   $R_{g}$ [Angstrom] N = 6 PEG   $R_{g}$ [Angstrom] N = 8 PEG \n",
       "0                       4.504359                       5.317310\n",
       "1                       4.394027                       5.245298\n",
       "2                       4.359708                       5.193844\n",
       "3                       4.420467                       5.251192\n",
       "4                       4.399941                       5.284164"
      ]
     },
     "execution_count": 116,
     "metadata": {},
     "output_type": "execute_result"
    }
   ],
   "source": [
    "rgpeg_olig"
   ]
  },
  {
   "cell_type": "code",
   "execution_count": 117,
   "metadata": {},
   "outputs": [
    {
     "data": {
      "text/html": [
       "<div>\n",
       "<style scoped>\n",
       "    .dataframe tbody tr th:only-of-type {\n",
       "        vertical-align: middle;\n",
       "    }\n",
       "\n",
       "    .dataframe tbody tr th {\n",
       "        vertical-align: top;\n",
       "    }\n",
       "\n",
       "    .dataframe thead th {\n",
       "        text-align: right;\n",
       "    }\n",
       "</style>\n",
       "<table border=\"1\" class=\"dataframe\">\n",
       "  <thead>\n",
       "    <tr style=\"text-align: right;\">\n",
       "      <th></th>\n",
       "      <th>$R_{g}$ [Angstrom] N = 6 PEG</th>\n",
       "      <th>$R_{g}$ [Angstrom] N = 8 PEG</th>\n",
       "      <th>$R_{g}$ [Angstrom] N = 10 PEG</th>\n",
       "    </tr>\n",
       "  </thead>\n",
       "  <tbody>\n",
       "    <tr>\n",
       "      <th>0</th>\n",
       "      <td>4.504359</td>\n",
       "      <td>5.317310</td>\n",
       "      <td>6.064453</td>\n",
       "    </tr>\n",
       "    <tr>\n",
       "      <th>1</th>\n",
       "      <td>4.394027</td>\n",
       "      <td>5.245298</td>\n",
       "      <td>6.090048</td>\n",
       "    </tr>\n",
       "    <tr>\n",
       "      <th>2</th>\n",
       "      <td>4.359708</td>\n",
       "      <td>5.193844</td>\n",
       "      <td>6.021707</td>\n",
       "    </tr>\n",
       "    <tr>\n",
       "      <th>3</th>\n",
       "      <td>4.420467</td>\n",
       "      <td>5.251192</td>\n",
       "      <td>6.155663</td>\n",
       "    </tr>\n",
       "    <tr>\n",
       "      <th>4</th>\n",
       "      <td>4.399941</td>\n",
       "      <td>5.284164</td>\n",
       "      <td>6.043248</td>\n",
       "    </tr>\n",
       "  </tbody>\n",
       "</table>\n",
       "</div>"
      ],
      "text/plain": [
       "   $R_{g}$ [Angstrom] N = 6 PEG   $R_{g}$ [Angstrom] N = 8 PEG   \\\n",
       "0                       4.504359                       5.317310   \n",
       "1                       4.394027                       5.245298   \n",
       "2                       4.359708                       5.193844   \n",
       "3                       4.420467                       5.251192   \n",
       "4                       4.399941                       5.284164   \n",
       "\n",
       "   $R_{g}$ [Angstrom] N = 10 PEG   \n",
       "0                        6.064453  \n",
       "1                        6.090048  \n",
       "2                        6.021707  \n",
       "3                        6.155663  \n",
       "4                        6.043248  "
      ]
     },
     "execution_count": 117,
     "metadata": {},
     "output_type": "execute_result"
    }
   ],
   "source": [
    "rgpeg_olig[r\"$R_{g}$ [Angstrom] N = 10 PEG \"] = n10_blkspeg[\"Avg Radius of gyration\"]\n",
    "rgpeg_olig"
   ]
  },
  {
   "cell_type": "code",
   "execution_count": 118,
   "metadata": {},
   "outputs": [
    {
     "data": {
      "text/html": [
       "<div>\n",
       "<style scoped>\n",
       "    .dataframe tbody tr th:only-of-type {\n",
       "        vertical-align: middle;\n",
       "    }\n",
       "\n",
       "    .dataframe tbody tr th {\n",
       "        vertical-align: top;\n",
       "    }\n",
       "\n",
       "    .dataframe thead th {\n",
       "        text-align: right;\n",
       "    }\n",
       "</style>\n",
       "<table border=\"1\" class=\"dataframe\">\n",
       "  <thead>\n",
       "    <tr style=\"text-align: right;\">\n",
       "      <th></th>\n",
       "      <th>$L_{p}$ [Angstrom] N = 6 PEG</th>\n",
       "      <th>$L_{p}$ [Angstrom] N = 8 PEG</th>\n",
       "      <th>$L_{p}$ [Angstrom] N = 10 PEG</th>\n",
       "    </tr>\n",
       "  </thead>\n",
       "  <tbody>\n",
       "    <tr>\n",
       "      <th>0</th>\n",
       "      <td>17.677850</td>\n",
       "      <td>17.986656</td>\n",
       "      <td>19.595890</td>\n",
       "    </tr>\n",
       "    <tr>\n",
       "      <th>1</th>\n",
       "      <td>15.268117</td>\n",
       "      <td>18.039634</td>\n",
       "      <td>19.248204</td>\n",
       "    </tr>\n",
       "    <tr>\n",
       "      <th>2</th>\n",
       "      <td>13.857661</td>\n",
       "      <td>16.696242</td>\n",
       "      <td>18.032623</td>\n",
       "    </tr>\n",
       "    <tr>\n",
       "      <th>3</th>\n",
       "      <td>16.276045</td>\n",
       "      <td>17.245965</td>\n",
       "      <td>19.440086</td>\n",
       "    </tr>\n",
       "    <tr>\n",
       "      <th>4</th>\n",
       "      <td>15.239774</td>\n",
       "      <td>17.578127</td>\n",
       "      <td>19.323741</td>\n",
       "    </tr>\n",
       "  </tbody>\n",
       "</table>\n",
       "</div>"
      ],
      "text/plain": [
       "   $L_{p}$ [Angstrom] N = 6 PEG   $L_{p}$ [Angstrom] N = 8 PEG   \\\n",
       "0                      17.677850                      17.986656   \n",
       "1                      15.268117                      18.039634   \n",
       "2                      13.857661                      16.696242   \n",
       "3                      16.276045                      17.245965   \n",
       "4                      15.239774                      17.578127   \n",
       "\n",
       "   $L_{p}$ [Angstrom] N = 10 PEG   \n",
       "0                       19.595890  \n",
       "1                       19.248204  \n",
       "2                       18.032623  \n",
       "3                       19.440086  \n",
       "4                       19.323741  "
      ]
     },
     "execution_count": 118,
     "metadata": {},
     "output_type": "execute_result"
    }
   ],
   "source": [
    "pers_pegt[r\"$L_{p}$ [Angstrom] N = 10 PEG \"] = n10_blkspeg[\"Avg persistence length\"]\n",
    "pers_pegt"
   ]
  },
  {
   "cell_type": "code",
   "execution_count": null,
   "metadata": {},
   "outputs": [],
   "source": []
  },
  {
   "cell_type": "code",
   "execution_count": null,
   "metadata": {},
   "outputs": [],
   "source": []
  },
  {
   "cell_type": "markdown",
   "metadata": {},
   "source": [
    "### N = 20 PEG/water"
   ]
  },
  {
   "cell_type": "code",
   "execution_count": 119,
   "metadata": {},
   "outputs": [],
   "source": [
    "# For the right Rg calculation using MD Analysis, use trajactory without pbc \n",
    "n20_peg_wat = mda.Universe(\"n20peg_prod/n20pegonly.pdb\", \"n20peg_prod/nowat_n20peg.xtc\")"
   ]
  },
  {
   "cell_type": "code",
   "execution_count": 120,
   "metadata": {},
   "outputs": [
    {
     "data": {
      "text/plain": [
       "<XTCReader n20peg_prod/nowat_n20peg.xtc with 18001 frames of 143 atoms>"
      ]
     },
     "execution_count": 120,
     "metadata": {},
     "output_type": "execute_result"
    }
   ],
   "source": [
    "n20_peg_wat.trajectory"
   ]
  },
  {
   "cell_type": "code",
   "execution_count": 121,
   "metadata": {},
   "outputs": [
    {
     "data": {
      "text/plain": [
       "18001"
      ]
     },
     "execution_count": 121,
     "metadata": {},
     "output_type": "execute_result"
    }
   ],
   "source": [
    "len(n20_peg_wat.trajectory)"
   ]
  },
  {
   "cell_type": "code",
   "execution_count": 122,
   "metadata": {},
   "outputs": [
    {
     "data": {
      "text/plain": [
       "[<Atom 2: O1 of type O of resname sPEG, resid 1 and segid SYSTEM and altLoc >,\n",
       " <Atom 3: C1 of type C of resname sPEG, resid 1 and segid SYSTEM and altLoc >,\n",
       " <Atom 6: C2 of type C of resname sPEG, resid 1 and segid SYSTEM and altLoc >,\n",
       " <Atom 9: O2 of type O of resname PEG, resid 2 and segid SYSTEM and altLoc >,\n",
       " <Atom 10: C3 of type C of resname PEG, resid 2 and segid SYSTEM and altLoc >,\n",
       " <Atom 13: C2 of type C of resname PEG, resid 2 and segid SYSTEM and altLoc >,\n",
       " <Atom 16: O2 of type O of resname PEG, resid 3 and segid SYSTEM and altLoc >,\n",
       " <Atom 17: C3 of type C of resname PEG, resid 3 and segid SYSTEM and altLoc >,\n",
       " <Atom 20: C2 of type C of resname PEG, resid 3 and segid SYSTEM and altLoc >,\n",
       " <Atom 23: O2 of type O of resname PEG, resid 4 and segid SYSTEM and altLoc >,\n",
       " <Atom 24: C3 of type C of resname PEG, resid 4 and segid SYSTEM and altLoc >,\n",
       " <Atom 27: C2 of type C of resname PEG, resid 4 and segid SYSTEM and altLoc >,\n",
       " <Atom 30: O2 of type O of resname PEG, resid 5 and segid SYSTEM and altLoc >,\n",
       " <Atom 31: C3 of type C of resname PEG, resid 5 and segid SYSTEM and altLoc >,\n",
       " <Atom 34: C2 of type C of resname PEG, resid 5 and segid SYSTEM and altLoc >,\n",
       " <Atom 37: O2 of type O of resname PEG, resid 6 and segid SYSTEM and altLoc >,\n",
       " <Atom 38: C3 of type C of resname PEG, resid 6 and segid SYSTEM and altLoc >,\n",
       " <Atom 41: C2 of type C of resname PEG, resid 6 and segid SYSTEM and altLoc >,\n",
       " <Atom 44: O2 of type O of resname PEG, resid 7 and segid SYSTEM and altLoc >,\n",
       " <Atom 45: C3 of type C of resname PEG, resid 7 and segid SYSTEM and altLoc >,\n",
       " <Atom 48: C2 of type C of resname PEG, resid 7 and segid SYSTEM and altLoc >,\n",
       " <Atom 51: O2 of type O of resname PEG, resid 8 and segid SYSTEM and altLoc >,\n",
       " <Atom 52: C3 of type C of resname PEG, resid 8 and segid SYSTEM and altLoc >,\n",
       " <Atom 55: C2 of type C of resname PEG, resid 8 and segid SYSTEM and altLoc >,\n",
       " <Atom 58: O2 of type O of resname PEG, resid 9 and segid SYSTEM and altLoc >,\n",
       " <Atom 59: C3 of type C of resname PEG, resid 9 and segid SYSTEM and altLoc >,\n",
       " <Atom 62: C2 of type C of resname PEG, resid 9 and segid SYSTEM and altLoc >,\n",
       " <Atom 65: O2 of type O of resname PEG, resid 10 and segid SYSTEM and altLoc >,\n",
       " <Atom 66: C3 of type C of resname PEG, resid 10 and segid SYSTEM and altLoc >,\n",
       " <Atom 69: C2 of type C of resname PEG, resid 10 and segid SYSTEM and altLoc >,\n",
       " <Atom 72: O2 of type O of resname PEG, resid 11 and segid SYSTEM and altLoc >,\n",
       " <Atom 73: C3 of type C of resname PEG, resid 11 and segid SYSTEM and altLoc >,\n",
       " <Atom 76: C2 of type C of resname PEG, resid 11 and segid SYSTEM and altLoc >,\n",
       " <Atom 79: O2 of type O of resname PEG, resid 12 and segid SYSTEM and altLoc >,\n",
       " <Atom 80: C3 of type C of resname PEG, resid 12 and segid SYSTEM and altLoc >,\n",
       " <Atom 83: C2 of type C of resname PEG, resid 12 and segid SYSTEM and altLoc >,\n",
       " <Atom 86: O2 of type O of resname PEG, resid 13 and segid SYSTEM and altLoc >,\n",
       " <Atom 87: C3 of type C of resname PEG, resid 13 and segid SYSTEM and altLoc >,\n",
       " <Atom 90: C2 of type C of resname PEG, resid 13 and segid SYSTEM and altLoc >,\n",
       " <Atom 93: O2 of type O of resname PEG, resid 14 and segid SYSTEM and altLoc >,\n",
       " <Atom 94: C3 of type C of resname PEG, resid 14 and segid SYSTEM and altLoc >,\n",
       " <Atom 97: C2 of type C of resname PEG, resid 14 and segid SYSTEM and altLoc >,\n",
       " <Atom 100: O2 of type O of resname PEG, resid 15 and segid SYSTEM and altLoc >,\n",
       " <Atom 101: C3 of type C of resname PEG, resid 15 and segid SYSTEM and altLoc >,\n",
       " <Atom 104: C2 of type C of resname PEG, resid 15 and segid SYSTEM and altLoc >,\n",
       " <Atom 107: O2 of type O of resname PEG, resid 16 and segid SYSTEM and altLoc >,\n",
       " <Atom 108: C3 of type C of resname PEG, resid 16 and segid SYSTEM and altLoc >,\n",
       " <Atom 111: C2 of type C of resname PEG, resid 16 and segid SYSTEM and altLoc >,\n",
       " <Atom 114: O2 of type O of resname PEG, resid 17 and segid SYSTEM and altLoc >,\n",
       " <Atom 115: C3 of type C of resname PEG, resid 17 and segid SYSTEM and altLoc >,\n",
       " <Atom 118: C2 of type C of resname PEG, resid 17 and segid SYSTEM and altLoc >,\n",
       " <Atom 121: O2 of type O of resname PEG, resid 18 and segid SYSTEM and altLoc >,\n",
       " <Atom 122: C3 of type C of resname PEG, resid 18 and segid SYSTEM and altLoc >,\n",
       " <Atom 125: C2 of type C of resname PEG, resid 18 and segid SYSTEM and altLoc >,\n",
       " <Atom 128: O2 of type O of resname PEG, resid 19 and segid SYSTEM and altLoc >,\n",
       " <Atom 129: C3 of type C of resname PEG, resid 19 and segid SYSTEM and altLoc >,\n",
       " <Atom 132: C2 of type C of resname PEG, resid 19 and segid SYSTEM and altLoc >,\n",
       " <Atom 135: O3 of type O of resname tPEG, resid 20 and segid SYSTEM and altLoc >,\n",
       " <Atom 136: C5 of type C of resname tPEG, resid 20 and segid SYSTEM and altLoc >,\n",
       " <Atom 139: C6 of type C of resname tPEG, resid 20 and segid SYSTEM and altLoc >,\n",
       " <Atom 142: O4 of type O of resname tPEG, resid 20 and segid SYSTEM and altLoc >]"
      ]
     },
     "execution_count": 122,
     "metadata": {},
     "output_type": "execute_result"
    }
   ],
   "source": [
    "#Select the polymer heavy atoms \n",
    "peg_n20 = n20_peg_wat.select_atoms(\"resname sPEG PEG tPEG and not type H\")\n",
    "list(peg_n20)"
   ]
  },
  {
   "cell_type": "code",
   "execution_count": 123,
   "metadata": {},
   "outputs": [
    {
     "data": {
      "text/plain": [
       "array([[ 1.        ,  0.99290951,  0.99004814,  0.9874047 ,  0.98870929,\n",
       "         0.98726046,  0.98824516,  0.98755782,  0.98737445,  0.98597335,\n",
       "         0.98393783,  0.98299962,  0.98838248,  0.98936751,  0.98979067,\n",
       "         0.9921898 ,  0.9894305 ,  0.99275364,  0.98661592],\n",
       "       [ 0.        ,  1.        ,  2.        ,  3.        ,  4.        ,\n",
       "         5.        ,  6.        ,  7.        ,  8.        ,  9.        ,\n",
       "        10.        , 11.        , 12.        , 13.        , 14.        ,\n",
       "        15.        , 16.        , 17.        , 18.        ],\n",
       "       [ 0.        ,  0.        ,  0.        ,  9.10329927,  8.61802628,\n",
       "         9.15538586,  8.79371314,  9.04768038,  9.11424554,  9.60779034,\n",
       "        10.28307063, 10.57996147,  8.74209853,  8.36258796,  8.19419914,\n",
       "         0.        ,  8.33773588,  0.        ,  9.38463836]])"
      ]
     },
     "execution_count": 123,
     "metadata": {},
     "output_type": "execute_result"
    }
   ],
   "source": [
    "crv_n20peg = pers_length(peg_n20,20)\n",
    "crv_n20peg"
   ]
  },
  {
   "cell_type": "code",
   "execution_count": 124,
   "metadata": {},
   "outputs": [],
   "source": [
    "com_bond_n20 = np.zeros(shape=(1,18000))\n",
    "count = 0\n",
    "for ts in n20_peg_wat.trajectory[0:18000]:\n",
    "    n20_mon1 = n20_peg_wat.select_atoms(\"resid 1\")\n",
    "    n20_mon2 = n20_peg_wat.select_atoms(\"resid 2\")\n",
    "    oo_len = mda.analysis.distances.distance_array(n20_mon1.center_of_mass(), n20_mon2.center_of_mass(), \n",
    "                                                   box=n20_peg_wat.trajectory.ts.dimensions)\n",
    "    com_bond_n20[0, count] = oo_len\n",
    "    count += 1\n",
    "    "
   ]
  },
  {
   "cell_type": "code",
   "execution_count": 125,
   "metadata": {},
   "outputs": [
    {
     "data": {
      "text/plain": [
       "3.2421872911182366"
      ]
     },
     "execution_count": 125,
     "metadata": {},
     "output_type": "execute_result"
    }
   ],
   "source": [
    "np.mean(com_bond_n20)"
   ]
  },
  {
   "cell_type": "code",
   "execution_count": 126,
   "metadata": {},
   "outputs": [
    {
     "data": {
      "text/plain": [
       "0.15352193811305248"
      ]
     },
     "execution_count": 126,
     "metadata": {},
     "output_type": "execute_result"
    }
   ],
   "source": [
    "np.std(com_bond_n20)"
   ]
  },
  {
   "cell_type": "code",
   "execution_count": 127,
   "metadata": {},
   "outputs": [
    {
     "data": {
      "text/plain": [
       "3.2416426844376756"
      ]
     },
     "execution_count": 127,
     "metadata": {},
     "output_type": "execute_result"
    }
   ],
   "source": [
    "np.mean(com_bond)"
   ]
  },
  {
   "cell_type": "code",
   "execution_count": 128,
   "metadata": {},
   "outputs": [
    {
     "data": {
      "text/plain": [
       "3.2416426844376756"
      ]
     },
     "execution_count": 128,
     "metadata": {},
     "output_type": "execute_result"
    }
   ],
   "source": [
    "lb_avg_pn6 = np.mean(com_bond)\n",
    "lb_avg_pn6"
   ]
  },
  {
   "cell_type": "code",
   "execution_count": 129,
   "metadata": {},
   "outputs": [
    {
     "data": {
      "text/plain": [
       "0.15150696554795434"
      ]
     },
     "execution_count": 129,
     "metadata": {},
     "output_type": "execute_result"
    }
   ],
   "source": [
    "np.std(com_bond)"
   ]
  },
  {
   "cell_type": "markdown",
   "metadata": {},
   "source": [
    "### Radius of Gyration vs. time, N = 20 PEG/water"
   ]
  },
  {
   "cell_type": "code",
   "execution_count": 130,
   "metadata": {},
   "outputs": [],
   "source": [
    "n20peg_rgens, cor_n20peg, N20peg_cos, rgavg_n20peg = get_rg_pers_poly(peg_n20, n20_peg_wat, 0, 18000)"
   ]
  },
  {
   "cell_type": "code",
   "execution_count": 131,
   "metadata": {},
   "outputs": [
    {
     "data": {
      "text/plain": [
       "(18000,)"
      ]
     },
     "execution_count": 131,
     "metadata": {},
     "output_type": "execute_result"
    }
   ],
   "source": [
    "n20peg_rgens[0].shape"
   ]
  },
  {
   "cell_type": "code",
   "execution_count": 132,
   "metadata": {},
   "outputs": [
    {
     "data": {
      "text/plain": [
       "array([ 0.,  1.,  2.,  3.,  4.,  5.,  6.,  7.,  8.,  9., 10., 11., 12.,\n",
       "       13., 14., 15., 16., 17., 18.])"
      ]
     },
     "execution_count": 132,
     "metadata": {},
     "output_type": "execute_result"
    }
   ],
   "source": [
    "cor_n20peg[3]"
   ]
  },
  {
   "cell_type": "code",
   "execution_count": 133,
   "metadata": {},
   "outputs": [
    {
     "data": {
      "text/plain": [
       "array([[1.        , 1.        , 1.        , ..., 1.        , 1.        ,\n",
       "        1.        ],\n",
       "       [0.99290951, 0.94377203, 0.92276863, ..., 0.90257825, 0.90043125,\n",
       "        0.90033914],\n",
       "       [0.99004814, 0.90389526, 0.85880107, ..., 0.74003044, 0.75018364,\n",
       "        0.72567762],\n",
       "       ...,\n",
       "       [0.9894305 , 0.81752145, 0.82278582, ..., 0.47420321, 0.6232851 ,\n",
       "        0.43625777],\n",
       "       [0.99275364, 0.75226689, 0.79389596, ..., 0.39196791, 0.59696218,\n",
       "        0.30007933],\n",
       "       [0.98661592, 0.68103567, 0.84983189, ..., 0.19571155, 0.4124117 ,\n",
       "        0.03288928]])"
      ]
     },
     "execution_count": 133,
     "metadata": {},
     "output_type": "execute_result"
    }
   ],
   "source": [
    "N20peg_cos"
   ]
  },
  {
   "cell_type": "code",
   "execution_count": 134,
   "metadata": {},
   "outputs": [
    {
     "data": {
      "text/plain": [
       "8.658346044705919"
      ]
     },
     "execution_count": 134,
     "metadata": {},
     "output_type": "execute_result"
    }
   ],
   "source": [
    "rgavg_n20peg"
   ]
  },
  {
   "cell_type": "code",
   "execution_count": 135,
   "metadata": {},
   "outputs": [
    {
     "data": {
      "text/plain": [
       "1.6813116628258133"
      ]
     },
     "execution_count": 135,
     "metadata": {},
     "output_type": "execute_result"
    }
   ],
   "source": [
    "np.std(n20peg_rgens)"
   ]
  },
  {
   "cell_type": "code",
   "execution_count": 163,
   "metadata": {},
   "outputs": [
    {
     "data": {
      "text/plain": [
       "(0.2, 3)"
      ]
     },
     "execution_count": 163,
     "metadata": {},
     "output_type": "execute_result"
    },
    {
     "data": {
      "image/png": "[encoded data removed]",
      "text/plain": [
       "<Figure size 504x504 with 1 Axes>"
      ]
     },
     "metadata": {
      "needs_background": "light"
     },
     "output_type": "display_data"
    }
   ],
   "source": [
    "plt.figure(figsize=(7,7))\n",
    "plt.title(r'PEG Radius of Gyration', fontsize=18, y=1.01)\n",
    "plt.xlabel(r'Time [ns]', fontsize=15)\n",
    "plt.ylabel(r'$R_{g}$ [nm]', fontsize=15)\n",
    "plt.plot(trj_len/100, n6peg_rgens[0]/10,linewidth=2, color='#1F2E69')\n",
    "plt.plot(trj_len/100, n8peg_rgens[0]/10,linewidth=2, color='#4C80ED')\n",
    "plt.plot(trj_len/100, n10peg_rgens[0]/10,linewidth=2, color='#8C52FC')\n",
    "plt.plot(trj_len/100, n20peg_rgens[0]/10,linewidth=2, color='#8B7F47')\n",
    "plt.tick_params(labelsize=14)\n",
    "#plt.legend(['N = 6 in water'], frameon=False, fontsize=14)\n",
    "plt.legend(['N = 6 in water','N = 8 in water', 'N = 10 in water','N = 20 in water'], frameon=False, fontsize=14)\n",
    "#plt.text(127, 0.96,r'N = 6 in water', fontsize=18, color='#1F2E69', family='Arial')\n",
    "plt.xlim(0,180)\n",
    "plt.ylim(0.2,3)"
   ]
  },
  {
   "cell_type": "markdown",
   "metadata": {},
   "source": [
    "\n",
    "#### Correlation values at each arc length for the whole 180 ns trajectory"
   ]
  },
  {
   "cell_type": "code",
   "execution_count": 137,
   "metadata": {},
   "outputs": [
    {
     "data": {
      "text/plain": [
       "array([ 0.        ,  3.24164268,  6.48328537,  9.72492805, 12.96657074,\n",
       "       16.20821342, 19.44985611, 22.69149879, 25.93314148, 29.17478416,\n",
       "       32.41642684, 35.65806953, 38.89971221, 42.1413549 , 45.38299758,\n",
       "       48.62464027, 51.86628295, 55.10792564, 58.34956832])"
      ]
     },
     "execution_count": 137,
     "metadata": {},
     "output_type": "execute_result"
    }
   ],
   "source": [
    "# x values\n",
    "blen_n20 = cor_n20peg[3]*lb_avg_pn6\n",
    "#nt_tt[0] = 0\n",
    "blen_n20"
   ]
  },
  {
   "cell_type": "code",
   "execution_count": 138,
   "metadata": {},
   "outputs": [
    {
     "data": {
      "text/plain": [
       "array([2.04044911e-17, 1.45322468e-02, 5.57373413e-02, 1.30657543e-01,\n",
       "       2.15010837e-01, 2.90121680e-01, 3.62228059e-01, 4.38115784e-01,\n",
       "       5.34423266e-01, 6.51212387e-01, 7.80420411e-01, 9.17797075e-01,\n",
       "       1.04957739e+00, 1.17926385e+00, 1.31121289e+00, 1.49237731e+00,\n",
       "       1.71314048e+00, 1.98000229e+00, 2.23019205e+00])"
      ]
     },
     "execution_count": 138,
     "metadata": {},
     "output_type": "execute_result"
    }
   ],
   "source": [
    "mk_n20p = cor_n20peg[1]/cor_n20peg[0]\n",
    "mk_n20p"
   ]
  },
  {
   "cell_type": "code",
   "execution_count": 139,
   "metadata": {},
   "outputs": [
    {
     "data": {
      "text/plain": [
       "<matplotlib.legend.Legend at 0x1a1b2af8d0>"
      ]
     },
     "execution_count": 139,
     "metadata": {},
     "output_type": "execute_result"
    },
    {
     "data": {
      "image/png": "[encoded data removed]",
      "text/plain": [
       "<Figure size 504x504 with 1 Axes>"
      ]
     },
     "metadata": {
      "needs_background": "light"
     },
     "output_type": "display_data"
    }
   ],
   "source": [
    "plt.figure(figsize=(7,7))\n",
    "plt.errorbar(blen, np.log(cor_n6peg[0]), yerr=mk_n6p, color='#1F2E69', linestyle=\"None\",marker='o',\n",
    "     capsize=5, capthick=1, ecolor='black')\n",
    "plt.errorbar(blen_n8, np.log(cor_n8peg[0]), yerr=mk_n8p, color='#4C80ED', linestyle=\"None\",marker='o',\n",
    "     capsize=5, capthick=1, ecolor='black')\n",
    "plt.errorbar(blen_n10, np.log(cor_n10peg[0]), yerr=mk_n10p, color='#8C52FC', linestyle=\"None\",marker='o',\n",
    "     capsize=5, capthick=1, ecolor='black')\n",
    "plt.errorbar(blen_n20, np.log(cor_n20peg[0]), yerr=mk_n20p, color='#8B7F47', linestyle=\"None\",marker='o',\n",
    "     capsize=5, capthick=1, ecolor='black')\n",
    "plt.legend(['N = 6 in water','N = 8 in water','N = 10 in water', 'N = 20 in water'], frameon=False, fontsize=14)"
   ]
  },
  {
   "cell_type": "code",
   "execution_count": 140,
   "metadata": {},
   "outputs": [
    {
     "name": "stdout",
     "output_type": "stream",
     "text": [
      "3000\n",
      "6000\n",
      "Lp [Angstroms]: 19.22731201808064\n",
      "Error in Lp from fit [Angstroms], 95% CL : 0.2483237679390541\n",
      "R2 score: 0.9892018501181489\n",
      "6000\n",
      "9000\n",
      "Lp [Angstroms]: 18.833002747870772\n",
      "Error in Lp from fit [Angstroms], 95% CL : 0.24659365705413533\n",
      "R2 score: 0.9890562490060935\n",
      "9000\n",
      "12000\n",
      "Lp [Angstroms]: 19.273258449561677\n",
      "Error in Lp from fit [Angstroms], 95% CL : 0.25147309036896887\n",
      "R2 score: 0.9888886856415472\n",
      "12000\n",
      "15000\n",
      "Lp [Angstroms]: 18.73569048651651\n",
      "Error in Lp from fit [Angstroms], 95% CL : 0.2487014817506103\n",
      "R2 score: 0.9885519361159764\n",
      "15000\n",
      "18000\n",
      "Lp [Angstroms]: 18.550275915021274\n",
      "Error in Lp from fit [Angstroms], 95% CL : 0.2687222431781884\n",
      "R2 score: 0.9863344582433174\n"
     ]
    }
   ],
   "source": [
    "# All the points give the best fits for N = 10 peg in water, first 6 points \n",
    "n20_blkspeg , n20peg_fitslp = bavg_pers_cnt(5, peg_n20, n20_peg_wat, lb_avg_pn6, 6, 3000 , 18000)"
   ]
  },
  {
   "cell_type": "code",
   "execution_count": 141,
   "metadata": {},
   "outputs": [
    {
     "data": {
      "text/plain": [
       "{'Avg Radius of gyration': array([8.63074999, 8.52538141, 8.6375836 , 8.4874659 , 8.83965728]),\n",
       " 'Avg persistence length': array([19.22731202, 18.83300275, 19.27325845, 18.73569049, 18.55027592])}"
      ]
     },
     "execution_count": 141,
     "metadata": {},
     "output_type": "execute_result"
    }
   ],
   "source": [
    "n20_blkspeg"
   ]
  },
  {
   "cell_type": "code",
   "execution_count": 142,
   "metadata": {},
   "outputs": [
    {
     "data": {
      "text/plain": [
       "array([[ 1.92273120e+01,  1.88330027e+01,  1.92732584e+01,\n",
       "         1.87356905e+01,  1.85502759e+01],\n",
       "       [ 2.48323768e-01,  2.46593657e-01,  2.51473090e-01,\n",
       "         2.48701482e-01,  2.68722243e-01],\n",
       "       [-5.20093500e-02, -5.30982772e-02, -5.18853624e-02,\n",
       "        -5.33740670e-02, -5.39075540e-02],\n",
       "       [ 9.84965799e-04,  1.05522335e-03,  1.00050975e-03,\n",
       "         1.09581389e-03,  1.33126528e-03]])"
      ]
     },
     "execution_count": 142,
     "metadata": {},
     "output_type": "execute_result"
    }
   ],
   "source": [
    "n20peg_fitslp"
   ]
  },
  {
   "cell_type": "code",
   "execution_count": 143,
   "metadata": {},
   "outputs": [
    {
     "data": {
      "text/plain": [
       "array([-0.05200935, -0.05309828, -0.05188536, -0.05337407, -0.05390755])"
      ]
     },
     "execution_count": 143,
     "metadata": {},
     "output_type": "execute_result"
    }
   ],
   "source": [
    "n20peg_fitslp[2]"
   ]
  },
  {
   "cell_type": "code",
   "execution_count": 144,
   "metadata": {},
   "outputs": [
    {
     "data": {
      "text/plain": [
       "0.0010935556126879568"
      ]
     },
     "execution_count": 144,
     "metadata": {},
     "output_type": "execute_result"
    }
   ],
   "source": [
    "np.mean(n20peg_fitslp[3])"
   ]
  },
  {
   "cell_type": "code",
   "execution_count": 145,
   "metadata": {},
   "outputs": [
    {
     "data": {
      "text/plain": [
       "array([ 0.        ,  3.24164268,  6.48328537,  9.72492805, 12.96657074,\n",
       "       16.20821342, 19.44985611, 22.69149879, 25.93314148, 29.17478416,\n",
       "       32.41642684, 35.65806953, 38.89971221, 42.1413549 , 45.38299758,\n",
       "       48.62464027, 51.86628295, 55.10792564, 58.34956832])"
      ]
     },
     "execution_count": 145,
     "metadata": {},
     "output_type": "execute_result"
    }
   ],
   "source": [
    "blen_n20"
   ]
  },
  {
   "cell_type": "code",
   "execution_count": 146,
   "metadata": {},
   "outputs": [
    {
     "data": {
      "text/plain": [
       "array([-0.        , -0.20829754, -0.41659508, -0.62489262, -0.83319016,\n",
       "       -1.0414877 , -1.24978524, -1.45808278, -1.66638032, -1.87467787,\n",
       "       -2.08297541, -2.29127295, -2.49957049, -2.70786803, -2.91616557,\n",
       "       -3.12446311, -3.33276065, -3.54105819, -3.74935573])"
      ]
     },
     "execution_count": 146,
     "metadata": {},
     "output_type": "execute_result"
    }
   ],
   "source": [
    "gg_n6peg_n20 = line_fit(np.mean(n6peg_fitslp[2]),blen_n20)\n",
    "gg_n6peg_n20"
   ]
  },
  {
   "cell_type": "code",
   "execution_count": 147,
   "metadata": {},
   "outputs": [
    {
     "data": {
      "text/plain": [
       "array([-0.        , -0.18529064, -0.37058128, -0.55587192, -0.74116256,\n",
       "       -0.9264532 , -1.11174384, -1.29703447, -1.48232511, -1.66761575,\n",
       "       -1.85290639, -2.03819703, -2.22348767, -2.40877831, -2.59406895,\n",
       "       -2.77935959, -2.96465023, -3.14994087, -3.33523151])"
      ]
     },
     "execution_count": 147,
     "metadata": {},
     "output_type": "execute_result"
    }
   ],
   "source": [
    "gg_n8peg_n20 = line_fit(np.mean(n8peg_fitslp[2]),blen_n20)\n",
    "gg_n8peg_n20"
   ]
  },
  {
   "cell_type": "code",
   "execution_count": 148,
   "metadata": {},
   "outputs": [
    {
     "data": {
      "text/plain": [
       "array([-0.        , -0.16962153, -0.33924306, -0.50886459, -0.67848611,\n",
       "       -0.84810764, -1.01772917, -1.1873507 , -1.35697223, -1.52659376,\n",
       "       -1.69621529, -1.86583682, -2.03545834, -2.20507987, -2.3747014 ,\n",
       "       -2.54432293, -2.71394446, -2.88356599, -3.05318752])"
      ]
     },
     "execution_count": 148,
     "metadata": {},
     "output_type": "execute_result"
    }
   ],
   "source": [
    "gg_n10peg_n20 = line_fit(np.mean(n10peg_fitslp[2]),blen_n20)\n",
    "gg_n10peg_n20"
   ]
  },
  {
   "cell_type": "code",
   "execution_count": 149,
   "metadata": {},
   "outputs": [],
   "source": [
    "gg_n20peg = line_fit(np.mean(n20peg_fitslp[2]),blen_n20)"
   ]
  },
  {
   "cell_type": "markdown",
   "metadata": {},
   "source": [
    "### Block averaged Radius of gyration and persistence length, N = 20 PEG/water"
   ]
  },
  {
   "cell_type": "code",
   "execution_count": 150,
   "metadata": {},
   "outputs": [
    {
     "data": {
      "text/plain": [
       "18.923907923410173"
      ]
     },
     "execution_count": 150,
     "metadata": {},
     "output_type": "execute_result"
    }
   ],
   "source": [
    "np.mean(n20_blkspeg[\"Avg persistence length\"])"
   ]
  },
  {
   "cell_type": "code",
   "execution_count": 151,
   "metadata": {},
   "outputs": [
    {
     "data": {
      "text/plain": [
       "0.2819185226154993"
      ]
     },
     "execution_count": 151,
     "metadata": {},
     "output_type": "execute_result"
    }
   ],
   "source": [
    "np.std(n20_blkspeg[\"Avg persistence length\"])"
   ]
  },
  {
   "cell_type": "code",
   "execution_count": 152,
   "metadata": {},
   "outputs": [
    {
     "data": {
      "text/plain": [
       "8.624167636730935"
      ]
     },
     "execution_count": 152,
     "metadata": {},
     "output_type": "execute_result"
    }
   ],
   "source": [
    "np.mean(n20_blkspeg[\"Avg Radius of gyration\"])"
   ]
  },
  {
   "cell_type": "code",
   "execution_count": 153,
   "metadata": {},
   "outputs": [
    {
     "data": {
      "text/plain": [
       "0.12256033985105498"
      ]
     },
     "execution_count": 153,
     "metadata": {},
     "output_type": "execute_result"
    }
   ],
   "source": [
    "np.std(n20_blkspeg[\"Avg Radius of gyration\"])"
   ]
  },
  {
   "cell_type": "code",
   "execution_count": 161,
   "metadata": {},
   "outputs": [
    {
     "data": {
      "text/plain": [
       "array([ 0.        ,  3.24164268,  6.48328537,  9.72492805, 12.96657074,\n",
       "       16.20821342, 19.44985611, 22.69149879, 25.93314148, 29.17478416])"
      ]
     },
     "execution_count": 161,
     "metadata": {},
     "output_type": "execute_result"
    }
   ],
   "source": [
    "blen_n20[:10]"
   ]
  },
  {
   "cell_type": "code",
   "execution_count": 169,
   "metadata": {},
   "outputs": [
    {
     "data": {
      "image/png": "[encoded data removed]",
      "text/plain": [
       "<Figure size 504x504 with 1 Axes>"
      ]
     },
     "metadata": {
      "needs_background": "light"
     },
     "output_type": "display_data"
    }
   ],
   "source": [
    "plt.figure(figsize=(7,7))\n",
    "plt.errorbar(blen, np.log(cor_n6peg[0]), yerr=mk_n6p, color='#1F2E69', linestyle=\"None\",marker='o',\n",
    "     capsize=5, capthick=1, ecolor='black')\n",
    "plt.errorbar(blen_n8, np.log(cor_n8peg[0]), yerr=mk_n8p, color='#4C80ED', linestyle=\"None\",marker='o',\n",
    "     capsize=5, capthick=1, ecolor='black')\n",
    "plt.errorbar(blen_n10, np.log(cor_n10peg[0]), yerr=mk_n10p, color='#8C52FC', linestyle=\"None\",marker='o',\n",
    "     capsize=5, capthick=1, ecolor='black')\n",
    "plt.errorbar(blen_n20, np.log(cor_n20peg[0]), yerr=mk_n20p, color='#8B7F47', linestyle=\"None\",marker='o',\n",
    "     capsize=5, capthick=1, ecolor='black')\n",
    "plt.plot(blen_n20[:15], gg_n6peg_n20[:15], color='#1F2E69')\n",
    "plt.plot(blen_n20[:15], gg_n8peg_n20[:15], color='#4C80ED')\n",
    "plt.plot(blen_n20[:15], gg_n10peg_n20[:15], color='#4C80ED')\n",
    "plt.plot(blen_n20[:15], gg_n20peg[:15], color='#8B7F47')\n",
    "plt.title(r'Ensemble Averaged ln(Cosine $\\theta$)', fontsize=15, y=1.01)\n",
    "plt.xlabel(r'Bond Length', fontsize=15)\n",
    "plt.ylabel(r'ln$\\left< Cos(\\theta)\\right >$', fontsize=15)\n",
    "plt.ylim(-6,1)\n",
    "plt.xlim(0,65)\n",
    "font = font_manager.FontProperties(family='Arial', style='normal', size='14')\n",
    "plt.text(0.5, -5.9,r'$N_{PEG}$ = 6: $L_{p}$ = 15.7 $\\AA$ ± 1.27 $\\AA$', fontsize=15, color='#1F2E69')\n",
    "plt.text(0.5,-5.58,r'$N_{PEG}$ = 8: $L_{p}$ = 17.5 $\\AA$ ± 0.50 $\\AA$', fontsize=15, color='#4C80ED')\n",
    "plt.text(0.5,-5.23,r'$N_{PEG}$ = 10: $L_{p}$ = 19.1 $\\AA$ ± 0.56 $\\AA$', fontsize=15, color='#8C52FC')\n",
    "plt.text(0.5,-4.90,r'$N_{PEG}$ = 20: $L_{p}$ = 18.9 $\\AA$ ± 0.28 $\\AA$', fontsize=15, color='#8B7F47')\n",
    "plt.tick_params(labelsize=14)"
   ]
  },
  {
   "cell_type": "code",
   "execution_count": 170,
   "metadata": {},
   "outputs": [
    {
     "data": {
      "text/html": [
       "<div>\n",
       "<style scoped>\n",
       "    .dataframe tbody tr th:only-of-type {\n",
       "        vertical-align: middle;\n",
       "    }\n",
       "\n",
       "    .dataframe tbody tr th {\n",
       "        vertical-align: top;\n",
       "    }\n",
       "\n",
       "    .dataframe thead th {\n",
       "        text-align: right;\n",
       "    }\n",
       "</style>\n",
       "<table border=\"1\" class=\"dataframe\">\n",
       "  <thead>\n",
       "    <tr style=\"text-align: right;\">\n",
       "      <th></th>\n",
       "      <th>$R_{g}$ [Angstrom] N = 6 PEG</th>\n",
       "      <th>$R_{g}$ [Angstrom] N = 8 PEG</th>\n",
       "      <th>$R_{g}$ [Angstrom] N = 10 PEG</th>\n",
       "    </tr>\n",
       "  </thead>\n",
       "  <tbody>\n",
       "    <tr>\n",
       "      <th>0</th>\n",
       "      <td>4.504359</td>\n",
       "      <td>5.317310</td>\n",
       "      <td>6.064453</td>\n",
       "    </tr>\n",
       "    <tr>\n",
       "      <th>1</th>\n",
       "      <td>4.394027</td>\n",
       "      <td>5.245298</td>\n",
       "      <td>6.090048</td>\n",
       "    </tr>\n",
       "    <tr>\n",
       "      <th>2</th>\n",
       "      <td>4.359708</td>\n",
       "      <td>5.193844</td>\n",
       "      <td>6.021707</td>\n",
       "    </tr>\n",
       "    <tr>\n",
       "      <th>3</th>\n",
       "      <td>4.420467</td>\n",
       "      <td>5.251192</td>\n",
       "      <td>6.155663</td>\n",
       "    </tr>\n",
       "    <tr>\n",
       "      <th>4</th>\n",
       "      <td>4.399941</td>\n",
       "      <td>5.284164</td>\n",
       "      <td>6.043248</td>\n",
       "    </tr>\n",
       "  </tbody>\n",
       "</table>\n",
       "</div>"
      ],
      "text/plain": [
       "   $R_{g}$ [Angstrom] N = 6 PEG   $R_{g}$ [Angstrom] N = 8 PEG   \\\n",
       "0                       4.504359                       5.317310   \n",
       "1                       4.394027                       5.245298   \n",
       "2                       4.359708                       5.193844   \n",
       "3                       4.420467                       5.251192   \n",
       "4                       4.399941                       5.284164   \n",
       "\n",
       "   $R_{g}$ [Angstrom] N = 10 PEG   \n",
       "0                        6.064453  \n",
       "1                        6.090048  \n",
       "2                        6.021707  \n",
       "3                        6.155663  \n",
       "4                        6.043248  "
      ]
     },
     "execution_count": 170,
     "metadata": {},
     "output_type": "execute_result"
    }
   ],
   "source": [
    "rgpeg_olig"
   ]
  },
  {
   "cell_type": "code",
   "execution_count": 171,
   "metadata": {},
   "outputs": [
    {
     "data": {
      "text/html": [
       "<div>\n",
       "<style scoped>\n",
       "    .dataframe tbody tr th:only-of-type {\n",
       "        vertical-align: middle;\n",
       "    }\n",
       "\n",
       "    .dataframe tbody tr th {\n",
       "        vertical-align: top;\n",
       "    }\n",
       "\n",
       "    .dataframe thead th {\n",
       "        text-align: right;\n",
       "    }\n",
       "</style>\n",
       "<table border=\"1\" class=\"dataframe\">\n",
       "  <thead>\n",
       "    <tr style=\"text-align: right;\">\n",
       "      <th></th>\n",
       "      <th>$R_{g}$ [Angstrom] N = 6 PEG</th>\n",
       "      <th>$R_{g}$ [Angstrom] N = 8 PEG</th>\n",
       "      <th>$R_{g}$ [Angstrom] N = 10 PEG</th>\n",
       "      <th>$R_{g}$ [Angstrom] N = 20 PEG</th>\n",
       "    </tr>\n",
       "  </thead>\n",
       "  <tbody>\n",
       "    <tr>\n",
       "      <th>0</th>\n",
       "      <td>4.504359</td>\n",
       "      <td>5.317310</td>\n",
       "      <td>6.064453</td>\n",
       "      <td>8.630750</td>\n",
       "    </tr>\n",
       "    <tr>\n",
       "      <th>1</th>\n",
       "      <td>4.394027</td>\n",
       "      <td>5.245298</td>\n",
       "      <td>6.090048</td>\n",
       "      <td>8.525381</td>\n",
       "    </tr>\n",
       "    <tr>\n",
       "      <th>2</th>\n",
       "      <td>4.359708</td>\n",
       "      <td>5.193844</td>\n",
       "      <td>6.021707</td>\n",
       "      <td>8.637584</td>\n",
       "    </tr>\n",
       "    <tr>\n",
       "      <th>3</th>\n",
       "      <td>4.420467</td>\n",
       "      <td>5.251192</td>\n",
       "      <td>6.155663</td>\n",
       "      <td>8.487466</td>\n",
       "    </tr>\n",
       "    <tr>\n",
       "      <th>4</th>\n",
       "      <td>4.399941</td>\n",
       "      <td>5.284164</td>\n",
       "      <td>6.043248</td>\n",
       "      <td>8.839657</td>\n",
       "    </tr>\n",
       "  </tbody>\n",
       "</table>\n",
       "</div>"
      ],
      "text/plain": [
       "   $R_{g}$ [Angstrom] N = 6 PEG   $R_{g}$ [Angstrom] N = 8 PEG   \\\n",
       "0                       4.504359                       5.317310   \n",
       "1                       4.394027                       5.245298   \n",
       "2                       4.359708                       5.193844   \n",
       "3                       4.420467                       5.251192   \n",
       "4                       4.399941                       5.284164   \n",
       "\n",
       "   $R_{g}$ [Angstrom] N = 10 PEG   $R_{g}$ [Angstrom] N = 20 PEG   \n",
       "0                        6.064453                        8.630750  \n",
       "1                        6.090048                        8.525381  \n",
       "2                        6.021707                        8.637584  \n",
       "3                        6.155663                        8.487466  \n",
       "4                        6.043248                        8.839657  "
      ]
     },
     "execution_count": 171,
     "metadata": {},
     "output_type": "execute_result"
    }
   ],
   "source": [
    "rgpeg_olig[r\"$R_{g}$ [Angstrom] N = 20 PEG \"] = n20_blkspeg[\"Avg Radius of gyration\"]\n",
    "rgpeg_olig"
   ]
  },
  {
   "cell_type": "code",
   "execution_count": 172,
   "metadata": {},
   "outputs": [
    {
     "data": {
      "text/html": [
       "<div>\n",
       "<style scoped>\n",
       "    .dataframe tbody tr th:only-of-type {\n",
       "        vertical-align: middle;\n",
       "    }\n",
       "\n",
       "    .dataframe tbody tr th {\n",
       "        vertical-align: top;\n",
       "    }\n",
       "\n",
       "    .dataframe thead th {\n",
       "        text-align: right;\n",
       "    }\n",
       "</style>\n",
       "<table border=\"1\" class=\"dataframe\">\n",
       "  <thead>\n",
       "    <tr style=\"text-align: right;\">\n",
       "      <th></th>\n",
       "      <th>$L_{p}$ [Angstrom] N = 6 PEG</th>\n",
       "      <th>$L_{p}$ [Angstrom] N = 8 PEG</th>\n",
       "      <th>$L_{p}$ [Angstrom] N = 10 PEG</th>\n",
       "      <th>$L_{p}$ [Angstrom] N = 20 PEG</th>\n",
       "    </tr>\n",
       "  </thead>\n",
       "  <tbody>\n",
       "    <tr>\n",
       "      <th>0</th>\n",
       "      <td>17.677850</td>\n",
       "      <td>17.986656</td>\n",
       "      <td>19.595890</td>\n",
       "      <td>19.227312</td>\n",
       "    </tr>\n",
       "    <tr>\n",
       "      <th>1</th>\n",
       "      <td>15.268117</td>\n",
       "      <td>18.039634</td>\n",
       "      <td>19.248204</td>\n",
       "      <td>18.833003</td>\n",
       "    </tr>\n",
       "    <tr>\n",
       "      <th>2</th>\n",
       "      <td>13.857661</td>\n",
       "      <td>16.696242</td>\n",
       "      <td>18.032623</td>\n",
       "      <td>19.273258</td>\n",
       "    </tr>\n",
       "    <tr>\n",
       "      <th>3</th>\n",
       "      <td>16.276045</td>\n",
       "      <td>17.245965</td>\n",
       "      <td>19.440086</td>\n",
       "      <td>18.735690</td>\n",
       "    </tr>\n",
       "    <tr>\n",
       "      <th>4</th>\n",
       "      <td>15.239774</td>\n",
       "      <td>17.578127</td>\n",
       "      <td>19.323741</td>\n",
       "      <td>18.550276</td>\n",
       "    </tr>\n",
       "  </tbody>\n",
       "</table>\n",
       "</div>"
      ],
      "text/plain": [
       "   $L_{p}$ [Angstrom] N = 6 PEG   $L_{p}$ [Angstrom] N = 8 PEG   \\\n",
       "0                      17.677850                      17.986656   \n",
       "1                      15.268117                      18.039634   \n",
       "2                      13.857661                      16.696242   \n",
       "3                      16.276045                      17.245965   \n",
       "4                      15.239774                      17.578127   \n",
       "\n",
       "   $L_{p}$ [Angstrom] N = 10 PEG   $L_{p}$ [Angstrom] N = 20 PEG   \n",
       "0                       19.595890                       19.227312  \n",
       "1                       19.248204                       18.833003  \n",
       "2                       18.032623                       19.273258  \n",
       "3                       19.440086                       18.735690  \n",
       "4                       19.323741                       18.550276  "
      ]
     },
     "execution_count": 172,
     "metadata": {},
     "output_type": "execute_result"
    }
   ],
   "source": [
    "pers_pegt[r\"$L_{p}$ [Angstrom] N = 20 PEG \"] = n20_blkspeg[\"Avg persistence length\"]\n",
    "pers_pegt"
   ]
  },
  {
   "cell_type": "markdown",
   "metadata": {},
   "source": [
    "## N = 30 PEG/water"
   ]
  },
  {
   "cell_type": "code",
   "execution_count": 173,
   "metadata": {},
   "outputs": [],
   "source": [
    "# For the right Rg calculation using MD Analysis, use trajactory without pbc \n",
    "n30_peg_wat = mda.Universe(\"n30peg_prod/n30pegonly.pdb\", \"n30peg_prod/nowat_n30peg.xtc\")"
   ]
  },
  {
   "cell_type": "code",
   "execution_count": 174,
   "metadata": {},
   "outputs": [
    {
     "data": {
      "text/plain": [
       "<XTCReader n30peg_prod/nowat_n30peg.xtc with 18001 frames of 213 atoms>"
      ]
     },
     "execution_count": 174,
     "metadata": {},
     "output_type": "execute_result"
    }
   ],
   "source": [
    "n30_peg_wat.trajectory"
   ]
  },
  {
   "cell_type": "code",
   "execution_count": 175,
   "metadata": {},
   "outputs": [
    {
     "data": {
      "text/plain": [
       "18001"
      ]
     },
     "execution_count": 175,
     "metadata": {},
     "output_type": "execute_result"
    }
   ],
   "source": [
    "len(n30_peg_wat.trajectory)"
   ]
  },
  {
   "cell_type": "code",
   "execution_count": 176,
   "metadata": {},
   "outputs": [
    {
     "data": {
      "text/plain": [
       "[<Atom 2: O1 of type O of resname sPEG, resid 1 and segid SYSTEM and altLoc >,\n",
       " <Atom 3: C1 of type C of resname sPEG, resid 1 and segid SYSTEM and altLoc >,\n",
       " <Atom 6: C2 of type C of resname sPEG, resid 1 and segid SYSTEM and altLoc >,\n",
       " <Atom 9: O2 of type O of resname PEG, resid 2 and segid SYSTEM and altLoc >,\n",
       " <Atom 10: C3 of type C of resname PEG, resid 2 and segid SYSTEM and altLoc >,\n",
       " <Atom 13: C2 of type C of resname PEG, resid 2 and segid SYSTEM and altLoc >,\n",
       " <Atom 16: O2 of type O of resname PEG, resid 3 and segid SYSTEM and altLoc >,\n",
       " <Atom 17: C3 of type C of resname PEG, resid 3 and segid SYSTEM and altLoc >,\n",
       " <Atom 20: C2 of type C of resname PEG, resid 3 and segid SYSTEM and altLoc >,\n",
       " <Atom 23: O2 of type O of resname PEG, resid 4 and segid SYSTEM and altLoc >,\n",
       " <Atom 24: C3 of type C of resname PEG, resid 4 and segid SYSTEM and altLoc >,\n",
       " <Atom 27: C2 of type C of resname PEG, resid 4 and segid SYSTEM and altLoc >,\n",
       " <Atom 30: O2 of type O of resname PEG, resid 5 and segid SYSTEM and altLoc >,\n",
       " <Atom 31: C3 of type C of resname PEG, resid 5 and segid SYSTEM and altLoc >,\n",
       " <Atom 34: C2 of type C of resname PEG, resid 5 and segid SYSTEM and altLoc >,\n",
       " <Atom 37: O2 of type O of resname PEG, resid 6 and segid SYSTEM and altLoc >,\n",
       " <Atom 38: C3 of type C of resname PEG, resid 6 and segid SYSTEM and altLoc >,\n",
       " <Atom 41: C2 of type C of resname PEG, resid 6 and segid SYSTEM and altLoc >,\n",
       " <Atom 44: O2 of type O of resname PEG, resid 7 and segid SYSTEM and altLoc >,\n",
       " <Atom 45: C3 of type C of resname PEG, resid 7 and segid SYSTEM and altLoc >,\n",
       " <Atom 48: C2 of type C of resname PEG, resid 7 and segid SYSTEM and altLoc >,\n",
       " <Atom 51: O2 of type O of resname PEG, resid 8 and segid SYSTEM and altLoc >,\n",
       " <Atom 52: C3 of type C of resname PEG, resid 8 and segid SYSTEM and altLoc >,\n",
       " <Atom 55: C2 of type C of resname PEG, resid 8 and segid SYSTEM and altLoc >,\n",
       " <Atom 58: O2 of type O of resname PEG, resid 9 and segid SYSTEM and altLoc >,\n",
       " <Atom 59: C3 of type C of resname PEG, resid 9 and segid SYSTEM and altLoc >,\n",
       " <Atom 62: C2 of type C of resname PEG, resid 9 and segid SYSTEM and altLoc >,\n",
       " <Atom 65: O2 of type O of resname PEG, resid 10 and segid SYSTEM and altLoc >,\n",
       " <Atom 66: C3 of type C of resname PEG, resid 10 and segid SYSTEM and altLoc >,\n",
       " <Atom 69: C2 of type C of resname PEG, resid 10 and segid SYSTEM and altLoc >,\n",
       " <Atom 72: O2 of type O of resname PEG, resid 11 and segid SYSTEM and altLoc >,\n",
       " <Atom 73: C3 of type C of resname PEG, resid 11 and segid SYSTEM and altLoc >,\n",
       " <Atom 76: C2 of type C of resname PEG, resid 11 and segid SYSTEM and altLoc >,\n",
       " <Atom 79: O2 of type O of resname PEG, resid 12 and segid SYSTEM and altLoc >,\n",
       " <Atom 80: C3 of type C of resname PEG, resid 12 and segid SYSTEM and altLoc >,\n",
       " <Atom 83: C2 of type C of resname PEG, resid 12 and segid SYSTEM and altLoc >,\n",
       " <Atom 86: O2 of type O of resname PEG, resid 13 and segid SYSTEM and altLoc >,\n",
       " <Atom 87: C3 of type C of resname PEG, resid 13 and segid SYSTEM and altLoc >,\n",
       " <Atom 90: C2 of type C of resname PEG, resid 13 and segid SYSTEM and altLoc >,\n",
       " <Atom 93: O2 of type O of resname PEG, resid 14 and segid SYSTEM and altLoc >,\n",
       " <Atom 94: C3 of type C of resname PEG, resid 14 and segid SYSTEM and altLoc >,\n",
       " <Atom 97: C2 of type C of resname PEG, resid 14 and segid SYSTEM and altLoc >,\n",
       " <Atom 100: O2 of type O of resname PEG, resid 15 and segid SYSTEM and altLoc >,\n",
       " <Atom 101: C3 of type C of resname PEG, resid 15 and segid SYSTEM and altLoc >,\n",
       " <Atom 104: C2 of type C of resname PEG, resid 15 and segid SYSTEM and altLoc >,\n",
       " <Atom 107: O2 of type O of resname PEG, resid 16 and segid SYSTEM and altLoc >,\n",
       " <Atom 108: C3 of type C of resname PEG, resid 16 and segid SYSTEM and altLoc >,\n",
       " <Atom 111: C2 of type C of resname PEG, resid 16 and segid SYSTEM and altLoc >,\n",
       " <Atom 114: O2 of type O of resname PEG, resid 17 and segid SYSTEM and altLoc >,\n",
       " <Atom 115: C3 of type C of resname PEG, resid 17 and segid SYSTEM and altLoc >,\n",
       " <Atom 118: C2 of type C of resname PEG, resid 17 and segid SYSTEM and altLoc >,\n",
       " <Atom 121: O2 of type O of resname PEG, resid 18 and segid SYSTEM and altLoc >,\n",
       " <Atom 122: C3 of type C of resname PEG, resid 18 and segid SYSTEM and altLoc >,\n",
       " <Atom 125: C2 of type C of resname PEG, resid 18 and segid SYSTEM and altLoc >,\n",
       " <Atom 128: O2 of type O of resname PEG, resid 19 and segid SYSTEM and altLoc >,\n",
       " <Atom 129: C3 of type C of resname PEG, resid 19 and segid SYSTEM and altLoc >,\n",
       " <Atom 132: C2 of type C of resname PEG, resid 19 and segid SYSTEM and altLoc >,\n",
       " <Atom 135: O2 of type O of resname PEG, resid 20 and segid SYSTEM and altLoc >,\n",
       " <Atom 136: C3 of type C of resname PEG, resid 20 and segid SYSTEM and altLoc >,\n",
       " <Atom 139: C2 of type C of resname PEG, resid 20 and segid SYSTEM and altLoc >,\n",
       " <Atom 142: O2 of type O of resname PEG, resid 21 and segid SYSTEM and altLoc >,\n",
       " <Atom 143: C3 of type C of resname PEG, resid 21 and segid SYSTEM and altLoc >,\n",
       " <Atom 146: C2 of type C of resname PEG, resid 21 and segid SYSTEM and altLoc >,\n",
       " <Atom 149: O2 of type O of resname PEG, resid 22 and segid SYSTEM and altLoc >,\n",
       " <Atom 150: C3 of type C of resname PEG, resid 22 and segid SYSTEM and altLoc >,\n",
       " <Atom 153: C2 of type C of resname PEG, resid 22 and segid SYSTEM and altLoc >,\n",
       " <Atom 156: O2 of type O of resname PEG, resid 23 and segid SYSTEM and altLoc >,\n",
       " <Atom 157: C3 of type C of resname PEG, resid 23 and segid SYSTEM and altLoc >,\n",
       " <Atom 160: C2 of type C of resname PEG, resid 23 and segid SYSTEM and altLoc >,\n",
       " <Atom 163: O2 of type O of resname PEG, resid 24 and segid SYSTEM and altLoc >,\n",
       " <Atom 164: C3 of type C of resname PEG, resid 24 and segid SYSTEM and altLoc >,\n",
       " <Atom 167: C2 of type C of resname PEG, resid 24 and segid SYSTEM and altLoc >,\n",
       " <Atom 170: O2 of type O of resname PEG, resid 25 and segid SYSTEM and altLoc >,\n",
       " <Atom 171: C3 of type C of resname PEG, resid 25 and segid SYSTEM and altLoc >,\n",
       " <Atom 174: C2 of type C of resname PEG, resid 25 and segid SYSTEM and altLoc >,\n",
       " <Atom 177: O2 of type O of resname PEG, resid 26 and segid SYSTEM and altLoc >,\n",
       " <Atom 178: C3 of type C of resname PEG, resid 26 and segid SYSTEM and altLoc >,\n",
       " <Atom 181: C2 of type C of resname PEG, resid 26 and segid SYSTEM and altLoc >,\n",
       " <Atom 184: O2 of type O of resname PEG, resid 27 and segid SYSTEM and altLoc >,\n",
       " <Atom 185: C3 of type C of resname PEG, resid 27 and segid SYSTEM and altLoc >,\n",
       " <Atom 188: C2 of type C of resname PEG, resid 27 and segid SYSTEM and altLoc >,\n",
       " <Atom 191: O2 of type O of resname PEG, resid 28 and segid SYSTEM and altLoc >,\n",
       " <Atom 192: C3 of type C of resname PEG, resid 28 and segid SYSTEM and altLoc >,\n",
       " <Atom 195: C2 of type C of resname PEG, resid 28 and segid SYSTEM and altLoc >,\n",
       " <Atom 198: O2 of type O of resname PEG, resid 29 and segid SYSTEM and altLoc >,\n",
       " <Atom 199: C3 of type C of resname PEG, resid 29 and segid SYSTEM and altLoc >,\n",
       " <Atom 202: C2 of type C of resname PEG, resid 29 and segid SYSTEM and altLoc >,\n",
       " <Atom 205: O3 of type O of resname tPEG, resid 30 and segid SYSTEM and altLoc >,\n",
       " <Atom 206: C5 of type C of resname tPEG, resid 30 and segid SYSTEM and altLoc >,\n",
       " <Atom 209: C6 of type C of resname tPEG, resid 30 and segid SYSTEM and altLoc >,\n",
       " <Atom 212: O4 of type O of resname tPEG, resid 30 and segid SYSTEM and altLoc >]"
      ]
     },
     "execution_count": 176,
     "metadata": {},
     "output_type": "execute_result"
    }
   ],
   "source": [
    "#Select the polymer heavy atoms \n",
    "peg_n30 = n30_peg_wat.select_atoms(\"resname sPEG PEG tPEG and not type H\")\n",
    "list(peg_n30)"
   ]
  },
  {
   "cell_type": "code",
   "execution_count": 177,
   "metadata": {},
   "outputs": [
    {
     "data": {
      "text/plain": [
       "array([[ 1.00000000e+00,  9.39009164e-01,  8.48655749e-01,\n",
       "         7.92084123e-01,  7.75866707e-01,  7.65207572e-01,\n",
       "         7.45888526e-01,  7.37896192e-01,  7.39473089e-01,\n",
       "         7.29513981e-01,  7.23556931e-01,  6.95508402e-01,\n",
       "         6.79133015e-01,  6.63667598e-01,  6.50691427e-01,\n",
       "         6.29225944e-01,  5.99848841e-01,  5.77676280e-01,\n",
       "         5.69498826e-01,  5.42992844e-01,  5.05310227e-01,\n",
       "         4.52506077e-01,  3.91050297e-01,  3.51297973e-01,\n",
       "         3.03984876e-01,  1.60563512e-01,  4.05708580e-02,\n",
       "        -1.20414333e-01, -2.79538852e-01],\n",
       "       [ 0.00000000e+00,  1.00000000e+00,  2.00000000e+00,\n",
       "         3.00000000e+00,  4.00000000e+00,  5.00000000e+00,\n",
       "         6.00000000e+00,  7.00000000e+00,  8.00000000e+00,\n",
       "         9.00000000e+00,  1.00000000e+01,  1.10000000e+01,\n",
       "         1.20000000e+01,  1.30000000e+01,  1.40000000e+01,\n",
       "         1.50000000e+01,  1.60000000e+01,  1.70000000e+01,\n",
       "         1.80000000e+01,  1.90000000e+01,  2.00000000e+01,\n",
       "         2.10000000e+01,  2.20000000e+01,  2.30000000e+01,\n",
       "         2.40000000e+01,  2.50000000e+01,  2.60000000e+01,\n",
       "         2.70000000e+01,  2.80000000e+01],\n",
       "       [ 0.00000000e+00,  2.01141813e+01,  3.19342392e+01,\n",
       "         3.76192952e+01,  3.91163226e+01,  4.00745379e+01,\n",
       "         4.17645265e+01,  4.24474896e+01,  4.23134499e+01,\n",
       "         4.31543351e+01,  4.36510665e+01,  4.59322559e+01,\n",
       "         4.72240691e+01,  4.84198118e+01,  4.94062472e+01,\n",
       "         5.10069628e+01,  5.31409276e+01,  5.47127300e+01,\n",
       "         5.52847152e+01,  5.71123920e+01,  5.96480519e+01,\n",
       "         6.30954147e+01,  6.69801322e+01,  6.94332745e+01,\n",
       "         7.23028979e+01,  8.07603940e+01,  8.76748229e+01,\n",
       "         9.69160155e+01,  1.06232684e+02]])"
      ]
     },
     "execution_count": 177,
     "metadata": {},
     "output_type": "execute_result"
    }
   ],
   "source": [
    "crv_n30peg = pers_length(peg_n30,30)\n",
    "crv_n30peg"
   ]
  },
  {
   "cell_type": "code",
   "execution_count": 178,
   "metadata": {},
   "outputs": [],
   "source": [
    "com_bond_n30 = np.zeros(shape=(1,18000))\n",
    "count = 0\n",
    "for ts in n30_peg_wat.trajectory[0:18000]:\n",
    "    n30_mon1 = n30_peg_wat.select_atoms(\"resid 1\")\n",
    "    n30_mon2 = n30_peg_wat.select_atoms(\"resid 2\")\n",
    "    oo_len = mda.analysis.distances.distance_array(n30_mon1.center_of_mass(), n30_mon2.center_of_mass(), \n",
    "                                                   box=n30_peg_wat.trajectory.ts.dimensions)\n",
    "    com_bond_n30[0, count] = oo_len\n",
    "    count += 1\n",
    "    "
   ]
  },
  {
   "cell_type": "code",
   "execution_count": 179,
   "metadata": {},
   "outputs": [
    {
     "data": {
      "text/plain": [
       "3.244648195630251"
      ]
     },
     "execution_count": 179,
     "metadata": {},
     "output_type": "execute_result"
    }
   ],
   "source": [
    "np.mean(com_bond_n30)"
   ]
  },
  {
   "cell_type": "code",
   "execution_count": 180,
   "metadata": {},
   "outputs": [
    {
     "data": {
      "text/plain": [
       "0.15149275281908156"
      ]
     },
     "execution_count": 180,
     "metadata": {},
     "output_type": "execute_result"
    }
   ],
   "source": [
    "np.std(com_bond_n30)"
   ]
  },
  {
   "cell_type": "code",
   "execution_count": 181,
   "metadata": {},
   "outputs": [
    {
     "data": {
      "text/plain": [
       "3.2416426844376756"
      ]
     },
     "execution_count": 181,
     "metadata": {},
     "output_type": "execute_result"
    }
   ],
   "source": [
    "np.mean(com_bond)"
   ]
  },
  {
   "cell_type": "code",
   "execution_count": 182,
   "metadata": {},
   "outputs": [
    {
     "data": {
      "text/plain": [
       "3.2416426844376756"
      ]
     },
     "execution_count": 182,
     "metadata": {},
     "output_type": "execute_result"
    }
   ],
   "source": [
    "lb_avg_pn6 = np.mean(com_bond)\n",
    "lb_avg_pn6"
   ]
  },
  {
   "cell_type": "code",
   "execution_count": 183,
   "metadata": {},
   "outputs": [
    {
     "data": {
      "text/plain": [
       "0.15150696554795434"
      ]
     },
     "execution_count": 183,
     "metadata": {},
     "output_type": "execute_result"
    }
   ],
   "source": [
    "np.std(com_bond)"
   ]
  },
  {
   "cell_type": "markdown",
   "metadata": {},
   "source": [
    "### Radius of Gyration vs. time, N = 30 PEG/water"
   ]
  },
  {
   "cell_type": "code",
   "execution_count": 184,
   "metadata": {},
   "outputs": [],
   "source": [
    "n30peg_rgens, cor_n30peg, N30peg_cos, rgavg_n30peg = get_rg_pers_poly(peg_n30, n30_peg_wat, 0, 18000)"
   ]
  },
  {
   "cell_type": "code",
   "execution_count": 185,
   "metadata": {},
   "outputs": [
    {
     "data": {
      "text/plain": [
       "(18000,)"
      ]
     },
     "execution_count": 185,
     "metadata": {},
     "output_type": "execute_result"
    }
   ],
   "source": [
    "n30peg_rgens[0].shape"
   ]
  },
  {
   "cell_type": "code",
   "execution_count": 186,
   "metadata": {},
   "outputs": [
    {
     "data": {
      "text/plain": [
       "array([ 0.,  1.,  2.,  3.,  4.,  5.,  6.,  7.,  8.,  9., 10., 11., 12.,\n",
       "       13., 14., 15., 16., 17., 18., 19., 20., 21., 22., 23., 24., 25.,\n",
       "       26., 27., 28.])"
      ]
     },
     "execution_count": 186,
     "metadata": {},
     "output_type": "execute_result"
    }
   ],
   "source": [
    "cor_n30peg[3]"
   ]
  },
  {
   "cell_type": "code",
   "execution_count": 187,
   "metadata": {},
   "outputs": [
    {
     "data": {
      "text/plain": [
       "array([[ 1.        ,  1.        ,  1.        , ...,  1.        ,\n",
       "         1.        ,  1.        ],\n",
       "       [ 0.93900916,  0.92400503,  0.91738167, ...,  0.90565433,\n",
       "         0.90702412,  0.89669285],\n",
       "       [ 0.84865575,  0.81869595,  0.80233814, ...,  0.73953571,\n",
       "         0.73142661,  0.73270227],\n",
       "       ...,\n",
       "       [ 0.04057086,  0.14900585, -0.10265165, ..., -0.37015297,\n",
       "        -0.29230701,  0.15260113],\n",
       "       [-0.12041433,  0.22200368,  0.06562077, ..., -0.55385935,\n",
       "        -0.16731337,  0.20830454],\n",
       "       [-0.27953885,  0.0885284 ,  0.10026509, ..., -0.37718171,\n",
       "         0.42892853,  0.64823344]])"
      ]
     },
     "execution_count": 187,
     "metadata": {},
     "output_type": "execute_result"
    }
   ],
   "source": [
    "N30peg_cos"
   ]
  },
  {
   "cell_type": "code",
   "execution_count": 188,
   "metadata": {},
   "outputs": [
    {
     "data": {
      "text/plain": [
       "10.380914534059427"
      ]
     },
     "execution_count": 188,
     "metadata": {},
     "output_type": "execute_result"
    }
   ],
   "source": [
    "rgavg_n30peg"
   ]
  },
  {
   "cell_type": "code",
   "execution_count": 189,
   "metadata": {},
   "outputs": [
    {
     "data": {
      "text/plain": [
       "2.067099179869805"
      ]
     },
     "execution_count": 189,
     "metadata": {},
     "output_type": "execute_result"
    }
   ],
   "source": [
    "np.std(n30peg_rgens)"
   ]
  },
  {
   "cell_type": "code",
   "execution_count": 190,
   "metadata": {},
   "outputs": [
    {
     "data": {
      "text/plain": [
       "(0.2, 3)"
      ]
     },
     "execution_count": 190,
     "metadata": {},
     "output_type": "execute_result"
    },
    {
     "data": {
      "image/png": "[encoded data removed]",
      "text/plain": [
       "<Figure size 504x504 with 1 Axes>"
      ]
     },
     "metadata": {
      "needs_background": "light"
     },
     "output_type": "display_data"
    }
   ],
   "source": [
    "plt.figure(figsize=(7,7))\n",
    "plt.title(r'PEG Radius of Gyration', fontsize=18, y=1.01)\n",
    "plt.xlabel(r'Time [ns]', fontsize=15)\n",
    "plt.ylabel(r'$R_{g}$ [nm]', fontsize=15)\n",
    "plt.plot(trj_len/100, n6peg_rgens[0]/10,linewidth=2, color='#1F2E69')\n",
    "plt.plot(trj_len/100, n8peg_rgens[0]/10,linewidth=2, color='#4C80ED')\n",
    "plt.plot(trj_len/100, n10peg_rgens[0]/10,linewidth=2, color='#8C52FC')\n",
    "plt.plot(trj_len/100, n20peg_rgens[0]/10,linewidth=2, color='#8B7F47')\n",
    "plt.plot(trj_len/100, n30peg_rgens[0]/10,linewidth=2, color='#63ACBE')\n",
    "plt.tick_params(labelsize=14)\n",
    "#plt.legend(['N = 6 in water'], frameon=False, fontsize=14)\n",
    "plt.legend(['N = 6 in water','N = 8 in water', 'N = 10 in water','N = 20 in water', 'N = 30 in water'], frameon=False, fontsize=14)\n",
    "#plt.text(127, 0.96,r'N = 6 in water', fontsize=18, color='#1F2E69', family='Arial')\n",
    "plt.xlim(0,180)\n",
    "plt.ylim(0.2,3)"
   ]
  },
  {
   "cell_type": "markdown",
   "metadata": {},
   "source": [
    "\n",
    "#### Correlation values at each arc length for the whole 180 ns trajectory"
   ]
  },
  {
   "cell_type": "code",
   "execution_count": 191,
   "metadata": {},
   "outputs": [
    {
     "data": {
      "text/plain": [
       "array([ 0.        ,  3.24164268,  6.48328537,  9.72492805, 12.96657074,\n",
       "       16.20821342, 19.44985611, 22.69149879, 25.93314148, 29.17478416,\n",
       "       32.41642684, 35.65806953, 38.89971221, 42.1413549 , 45.38299758,\n",
       "       48.62464027, 51.86628295, 55.10792564, 58.34956832, 61.591211  ,\n",
       "       64.83285369, 68.07449637, 71.31613906, 74.55778174, 77.79942443,\n",
       "       81.04106711, 84.2827098 , 87.52435248, 90.76599516])"
      ]
     },
     "execution_count": 191,
     "metadata": {},
     "output_type": "execute_result"
    }
   ],
   "source": [
    "# x values\n",
    "blen_n30 = cor_n30peg[3]*lb_avg_pn6\n",
    "#nt_tt[0] = 0\n",
    "blen_n30"
   ]
  },
  {
   "cell_type": "code",
   "execution_count": 192,
   "metadata": {},
   "outputs": [
    {
     "data": {
      "text/plain": [
       "array([1.65502277e-18, 1.12510297e-02, 4.20227991e-02, 9.54269549e-02,\n",
       "       1.54121112e-01, 2.05329307e-01, 2.55763448e-01, 3.06237477e-01,\n",
       "       3.56357881e-01, 4.09166388e-01, 4.66524178e-01, 5.25922234e-01,\n",
       "       5.94213787e-01, 6.64286958e-01, 7.30875321e-01, 8.06134549e-01,\n",
       "       9.02918502e-01, 1.00643776e+00, 1.11150274e+00, 1.22109693e+00,\n",
       "       1.34064752e+00, 1.44923231e+00, 1.54351984e+00, 1.68132529e+00,\n",
       "       1.84229604e+00, 2.01474267e+00, 2.20415060e+00, 2.46460856e+00,\n",
       "       2.63403552e+00])"
      ]
     },
     "execution_count": 192,
     "metadata": {},
     "output_type": "execute_result"
    }
   ],
   "source": [
    "mk_n30p = cor_n30peg[1]/cor_n30peg[0]\n",
    "mk_n30p"
   ]
  },
  {
   "cell_type": "code",
   "execution_count": 213,
   "metadata": {},
   "outputs": [
    {
     "data": {
      "text/plain": [
       "<matplotlib.legend.Legend at 0x1319f52e48>"
      ]
     },
     "execution_count": 213,
     "metadata": {},
     "output_type": "execute_result"
    },
    {
     "data": {
      "image/png": "[encoded data removed]",
      "text/plain": [
       "<Figure size 504x504 with 1 Axes>"
      ]
     },
     "metadata": {
      "needs_background": "light"
     },
     "output_type": "display_data"
    }
   ],
   "source": [
    "plt.figure(figsize=(7,7))\n",
    "plt.errorbar(blen, np.log(cor_n6peg[0]), yerr=mk_n6p, color='#1F2E69', linestyle=\"None\",marker='o',\n",
    "     capsize=5, capthick=1, ecolor='black')\n",
    "plt.errorbar(blen_n8, np.log(cor_n8peg[0]), yerr=mk_n8p, color='#4C80ED', linestyle=\"None\",marker='o',\n",
    "     capsize=5, capthick=1, ecolor='black')\n",
    "plt.errorbar(blen_n10, np.log(cor_n10peg[0]), yerr=mk_n10p, color='#8C52FC', linestyle=\"None\",marker='o',\n",
    "     capsize=5, capthick=1, ecolor='black')\n",
    "plt.errorbar(blen_n20, np.log(cor_n20peg[0]), yerr=mk_n20p, color='#8B7F47', linestyle=\"None\",marker='o',\n",
    "     capsize=5, capthick=1, ecolor='black')\n",
    "plt.errorbar(blen_n30, np.log(cor_n30peg[0]), yerr=mk_n30p, color='#63ACBE', linestyle=\"None\",marker='o',\n",
    "     capsize=5, capthick=1, ecolor='black')\n",
    "plt.legend(['N = 6 in water','N = 8 in water','N = 10 in water', 'N = 20 in water', 'N = 30 in water'], frameon=False, fontsize=14)"
   ]
  },
  {
   "cell_type": "code",
   "execution_count": 194,
   "metadata": {},
   "outputs": [
    {
     "name": "stdout",
     "output_type": "stream",
     "text": [
      "3000\n",
      "6000\n",
      "Lp [Angstroms]: 19.005526383581838\n",
      "Error in Lp from fit [Angstroms], 95% CL : 0.12270924107554206\n",
      "R2 score: 0.9884861139783614\n",
      "6000\n",
      "9000\n",
      "Lp [Angstroms]: 19.22325123126672\n",
      "Error in Lp from fit [Angstroms], 95% CL : 0.11644146843713041\n",
      "R2 score: 0.9898253639447119\n",
      "9000\n",
      "12000\n",
      "Lp [Angstroms]: 18.264316347765927\n",
      "Error in Lp from fit [Angstroms], 95% CL : 0.12156581659571247\n",
      "R2 score: 0.9880210360988078\n",
      "12000\n",
      "15000\n",
      "Lp [Angstroms]: 19.663013216682373\n",
      "Error in Lp from fit [Angstroms], 95% CL : 0.12857057330511684\n",
      "R2 score: 0.987962601763984\n",
      "15000\n",
      "18000\n",
      "Lp [Angstroms]: 19.16966640856984\n",
      "Error in Lp from fit [Angstroms], 95% CL : 0.11727003570516016\n",
      "R2 score: 0.9896479689541405\n"
     ]
    }
   ],
   "source": [
    "# All the points give the best fits for N = 10 peg in water, first 6 points \n",
    "n30_blkspeg , n30peg_fitslp = bavg_pers_cnt(5, peg_n30, n30_peg_wat, lb_avg_pn6, 6, 3000 , 18000)"
   ]
  },
  {
   "cell_type": "code",
   "execution_count": 195,
   "metadata": {},
   "outputs": [
    {
     "data": {
      "text/plain": [
       "{'Avg Radius of gyration': array([ 9.86357796, 10.70005661,  9.45176166, 10.83132404, 10.44005434]),\n",
       " 'Avg persistence length': array([19.00552638, 19.22325123, 18.26431635, 19.66301322, 19.16966641])}"
      ]
     },
     "execution_count": 195,
     "metadata": {},
     "output_type": "execute_result"
    }
   ],
   "source": [
    "n30_blkspeg"
   ]
  },
  {
   "cell_type": "code",
   "execution_count": 196,
   "metadata": {},
   "outputs": [
    {
     "data": {
      "text/plain": [
       "array([[ 1.90055264e+01,  1.92232512e+01,  1.82643163e+01,\n",
       "         1.96630132e+01,  1.91696664e+01],\n",
       "       [ 1.22709241e-01,  1.16441468e-01,  1.21565817e-01,\n",
       "         1.28570573e-01,  1.17270036e-01],\n",
       "       [-5.26162749e-02, -5.20203366e-02, -5.47515703e-02,\n",
       "        -5.08569052e-02, -5.21657487e-02],\n",
       "       [ 1.07643764e-03,  9.26108614e-04,  1.23869163e-03,\n",
       "         1.03142302e-03,  9.49882392e-04]])"
      ]
     },
     "execution_count": 196,
     "metadata": {},
     "output_type": "execute_result"
    }
   ],
   "source": [
    "n30peg_fitslp"
   ]
  },
  {
   "cell_type": "code",
   "execution_count": 197,
   "metadata": {},
   "outputs": [
    {
     "data": {
      "text/plain": [
       "array([-0.05261627, -0.05202034, -0.05475157, -0.05085691, -0.05216575])"
      ]
     },
     "execution_count": 197,
     "metadata": {},
     "output_type": "execute_result"
    }
   ],
   "source": [
    "n30peg_fitslp[2]"
   ]
  },
  {
   "cell_type": "code",
   "execution_count": 198,
   "metadata": {},
   "outputs": [
    {
     "data": {
      "text/plain": [
       "0.0010445086590903851"
      ]
     },
     "execution_count": 198,
     "metadata": {},
     "output_type": "execute_result"
    }
   ],
   "source": [
    "np.mean(n30peg_fitslp[3])"
   ]
  },
  {
   "cell_type": "code",
   "execution_count": 199,
   "metadata": {},
   "outputs": [
    {
     "data": {
      "text/plain": [
       "array([ 0.        ,  3.24164268,  6.48328537,  9.72492805, 12.96657074,\n",
       "       16.20821342, 19.44985611, 22.69149879, 25.93314148, 29.17478416,\n",
       "       32.41642684, 35.65806953, 38.89971221, 42.1413549 , 45.38299758,\n",
       "       48.62464027, 51.86628295, 55.10792564, 58.34956832, 61.591211  ,\n",
       "       64.83285369, 68.07449637, 71.31613906, 74.55778174, 77.79942443,\n",
       "       81.04106711, 84.2827098 , 87.52435248, 90.76599516])"
      ]
     },
     "execution_count": 199,
     "metadata": {},
     "output_type": "execute_result"
    }
   ],
   "source": [
    "blen_n30"
   ]
  },
  {
   "cell_type": "code",
   "execution_count": 200,
   "metadata": {},
   "outputs": [
    {
     "data": {
      "text/plain": [
       "array([-0.        , -0.20829754, -0.41659508, -0.62489262, -0.83319016,\n",
       "       -1.0414877 , -1.24978524, -1.45808278, -1.66638032, -1.87467787,\n",
       "       -2.08297541, -2.29127295, -2.49957049, -2.70786803, -2.91616557,\n",
       "       -3.12446311, -3.33276065, -3.54105819, -3.74935573, -3.95765327,\n",
       "       -4.16595081, -4.37424835, -4.58254589, -4.79084343, -4.99914097,\n",
       "       -5.20743852, -5.41573606, -5.6240336 , -5.83233114])"
      ]
     },
     "execution_count": 200,
     "metadata": {},
     "output_type": "execute_result"
    }
   ],
   "source": [
    "gg_n6peg_n30 = line_fit(np.mean(n6peg_fitslp[2]),blen_n30)\n",
    "gg_n6peg_n30"
   ]
  },
  {
   "cell_type": "code",
   "execution_count": 201,
   "metadata": {},
   "outputs": [
    {
     "data": {
      "text/plain": [
       "array([-0.        , -0.18529064, -0.37058128, -0.55587192, -0.74116256,\n",
       "       -0.9264532 , -1.11174384, -1.29703447, -1.48232511, -1.66761575,\n",
       "       -1.85290639, -2.03819703, -2.22348767, -2.40877831, -2.59406895,\n",
       "       -2.77935959, -2.96465023, -3.14994087, -3.33523151, -3.52052214,\n",
       "       -3.70581278, -3.89110342, -4.07639406, -4.2616847 , -4.44697534,\n",
       "       -4.63226598, -4.81755662, -5.00284726, -5.1881379 ])"
      ]
     },
     "execution_count": 201,
     "metadata": {},
     "output_type": "execute_result"
    }
   ],
   "source": [
    "gg_n8peg_n30 = line_fit(np.mean(n8peg_fitslp[2]),blen_n30)\n",
    "gg_n8peg_n30"
   ]
  },
  {
   "cell_type": "code",
   "execution_count": 202,
   "metadata": {},
   "outputs": [
    {
     "data": {
      "text/plain": [
       "array([-0.        , -0.16962153, -0.33924306, -0.50886459, -0.67848611,\n",
       "       -0.84810764, -1.01772917, -1.1873507 , -1.35697223, -1.52659376,\n",
       "       -1.69621529, -1.86583682, -2.03545834, -2.20507987, -2.3747014 ,\n",
       "       -2.54432293, -2.71394446, -2.88356599, -3.05318752, -3.22280905,\n",
       "       -3.39243057, -3.5620521 , -3.73167363, -3.90129516, -4.07091669,\n",
       "       -4.24053822, -4.41015975, -4.57978128, -4.7494028 ])"
      ]
     },
     "execution_count": 202,
     "metadata": {},
     "output_type": "execute_result"
    }
   ],
   "source": [
    "gg_n10peg_n30 = line_fit(np.mean(n10peg_fitslp[2]),blen_n30)\n",
    "gg_n10peg_n30"
   ]
  },
  {
   "cell_type": "code",
   "execution_count": 203,
   "metadata": {},
   "outputs": [
    {
     "data": {
      "text/plain": [
       "array([-0.        , -0.17133677, -0.34267354, -0.51401031, -0.68534709,\n",
       "       -0.85668386, -1.02802063, -1.1993574 , -1.37069417, -1.54203094,\n",
       "       -1.71336772, -1.88470449, -2.05604126, -2.22737803, -2.3987148 ,\n",
       "       -2.57005157, -2.74138835, -2.91272512, -3.08406189, -3.25539866,\n",
       "       -3.42673543, -3.5980722 , -3.76940898, -3.94074575, -4.11208252,\n",
       "       -4.28341929, -4.45475606, -4.62609283, -4.79742961])"
      ]
     },
     "execution_count": 203,
     "metadata": {},
     "output_type": "execute_result"
    }
   ],
   "source": [
    "gg_n20peg_n30 = line_fit(np.mean(n20peg_fitslp[2]),blen_n30)\n",
    "gg_n20peg_n30"
   ]
  },
  {
   "cell_type": "code",
   "execution_count": 204,
   "metadata": {},
   "outputs": [],
   "source": [
    "gg_n30peg = line_fit(np.mean(n20peg_fitslp[2]),blen_n30)"
   ]
  },
  {
   "cell_type": "markdown",
   "metadata": {},
   "source": [
    "### Block averaged Radius of gyration and persistence length, N = 30 PEG/water"
   ]
  },
  {
   "cell_type": "code",
   "execution_count": 205,
   "metadata": {},
   "outputs": [
    {
     "data": {
      "text/plain": [
       "19.06515471757334"
      ]
     },
     "execution_count": 205,
     "metadata": {},
     "output_type": "execute_result"
    }
   ],
   "source": [
    "np.mean(n30_blkspeg[\"Avg persistence length\"])"
   ]
  },
  {
   "cell_type": "code",
   "execution_count": 206,
   "metadata": {},
   "outputs": [
    {
     "data": {
      "text/plain": [
       "0.45568621197579595"
      ]
     },
     "execution_count": 206,
     "metadata": {},
     "output_type": "execute_result"
    }
   ],
   "source": [
    "np.std(n30_blkspeg[\"Avg persistence length\"])"
   ]
  },
  {
   "cell_type": "code",
   "execution_count": 207,
   "metadata": {},
   "outputs": [
    {
     "data": {
      "text/plain": [
       "10.257354921534812"
      ]
     },
     "execution_count": 207,
     "metadata": {},
     "output_type": "execute_result"
    }
   ],
   "source": [
    "np.mean(n30_blkspeg[\"Avg Radius of gyration\"])"
   ]
  },
  {
   "cell_type": "code",
   "execution_count": 208,
   "metadata": {},
   "outputs": [
    {
     "data": {
      "text/plain": [
       "0.5220814521973526"
      ]
     },
     "execution_count": 208,
     "metadata": {},
     "output_type": "execute_result"
    }
   ],
   "source": [
    "np.std(n30_blkspeg[\"Avg Radius of gyration\"])"
   ]
  },
  {
   "cell_type": "code",
   "execution_count": 209,
   "metadata": {},
   "outputs": [
    {
     "data": {
      "text/plain": [
       "array([ 0.        ,  3.24164268,  6.48328537,  9.72492805, 12.96657074,\n",
       "       16.20821342, 19.44985611, 22.69149879, 25.93314148, 29.17478416])"
      ]
     },
     "execution_count": 209,
     "metadata": {},
     "output_type": "execute_result"
    }
   ],
   "source": [
    "blen_n30[:10]"
   ]
  },
  {
   "cell_type": "code",
   "execution_count": 269,
   "metadata": {},
   "outputs": [
    {
     "data": {
      "text/html": [
       "<div>\n",
       "<style scoped>\n",
       "    .dataframe tbody tr th:only-of-type {\n",
       "        vertical-align: middle;\n",
       "    }\n",
       "\n",
       "    .dataframe tbody tr th {\n",
       "        vertical-align: top;\n",
       "    }\n",
       "\n",
       "    .dataframe thead th {\n",
       "        text-align: right;\n",
       "    }\n",
       "</style>\n",
       "<table border=\"1\" class=\"dataframe\">\n",
       "  <thead>\n",
       "    <tr style=\"text-align: right;\">\n",
       "      <th></th>\n",
       "      <th>$R_{g}$ [Angstrom] N = 6 PEG</th>\n",
       "      <th>$R_{g}$ [Angstrom] N = 8 PEG</th>\n",
       "      <th>$R_{g}$ [Angstrom] N = 10 PEG</th>\n",
       "      <th>$R_{g}$ [Angstrom] N = 20 PEG</th>\n",
       "      <th>$R_{g}$ [Angstrom] N = 30 PEG</th>\n",
       "    </tr>\n",
       "  </thead>\n",
       "  <tbody>\n",
       "    <tr>\n",
       "      <th>0</th>\n",
       "      <td>4.504359</td>\n",
       "      <td>5.317310</td>\n",
       "      <td>6.064453</td>\n",
       "      <td>8.630750</td>\n",
       "      <td>9.863578</td>\n",
       "    </tr>\n",
       "    <tr>\n",
       "      <th>1</th>\n",
       "      <td>4.394027</td>\n",
       "      <td>5.245298</td>\n",
       "      <td>6.090048</td>\n",
       "      <td>8.525381</td>\n",
       "      <td>10.700057</td>\n",
       "    </tr>\n",
       "    <tr>\n",
       "      <th>2</th>\n",
       "      <td>4.359708</td>\n",
       "      <td>5.193844</td>\n",
       "      <td>6.021707</td>\n",
       "      <td>8.637584</td>\n",
       "      <td>9.451762</td>\n",
       "    </tr>\n",
       "    <tr>\n",
       "      <th>3</th>\n",
       "      <td>4.420467</td>\n",
       "      <td>5.251192</td>\n",
       "      <td>6.155663</td>\n",
       "      <td>8.487466</td>\n",
       "      <td>10.831324</td>\n",
       "    </tr>\n",
       "    <tr>\n",
       "      <th>4</th>\n",
       "      <td>4.399941</td>\n",
       "      <td>5.284164</td>\n",
       "      <td>6.043248</td>\n",
       "      <td>8.839657</td>\n",
       "      <td>10.440054</td>\n",
       "    </tr>\n",
       "  </tbody>\n",
       "</table>\n",
       "</div>"
      ],
      "text/plain": [
       "   $R_{g}$ [Angstrom] N = 6 PEG   $R_{g}$ [Angstrom] N = 8 PEG   \\\n",
       "0                       4.504359                       5.317310   \n",
       "1                       4.394027                       5.245298   \n",
       "2                       4.359708                       5.193844   \n",
       "3                       4.420467                       5.251192   \n",
       "4                       4.399941                       5.284164   \n",
       "\n",
       "   $R_{g}$ [Angstrom] N = 10 PEG   $R_{g}$ [Angstrom] N = 20 PEG   \\\n",
       "0                        6.064453                        8.630750   \n",
       "1                        6.090048                        8.525381   \n",
       "2                        6.021707                        8.637584   \n",
       "3                        6.155663                        8.487466   \n",
       "4                        6.043248                        8.839657   \n",
       "\n",
       "   $R_{g}$ [Angstrom] N = 30 PEG   \n",
       "0                        9.863578  \n",
       "1                       10.700057  \n",
       "2                        9.451762  \n",
       "3                       10.831324  \n",
       "4                       10.440054  "
      ]
     },
     "execution_count": 269,
     "metadata": {},
     "output_type": "execute_result"
    }
   ],
   "source": [
    "rgpeg_olig"
   ]
  },
  {
   "cell_type": "code",
   "execution_count": 268,
   "metadata": {},
   "outputs": [],
   "source": [
    "rgpeg_olig.to_pickle(\"./PEG_water_Rg.pkl\") "
   ]
  },
  {
   "cell_type": "code",
   "execution_count": 211,
   "metadata": {},
   "outputs": [
    {
     "data": {
      "text/html": [
       "<div>\n",
       "<style scoped>\n",
       "    .dataframe tbody tr th:only-of-type {\n",
       "        vertical-align: middle;\n",
       "    }\n",
       "\n",
       "    .dataframe tbody tr th {\n",
       "        vertical-align: top;\n",
       "    }\n",
       "\n",
       "    .dataframe thead th {\n",
       "        text-align: right;\n",
       "    }\n",
       "</style>\n",
       "<table border=\"1\" class=\"dataframe\">\n",
       "  <thead>\n",
       "    <tr style=\"text-align: right;\">\n",
       "      <th></th>\n",
       "      <th>$R_{g}$ [Angstrom] N = 6 PEG</th>\n",
       "      <th>$R_{g}$ [Angstrom] N = 8 PEG</th>\n",
       "      <th>$R_{g}$ [Angstrom] N = 10 PEG</th>\n",
       "      <th>$R_{g}$ [Angstrom] N = 20 PEG</th>\n",
       "      <th>$R_{g}$ [Angstrom] N = 30 PEG</th>\n",
       "    </tr>\n",
       "  </thead>\n",
       "  <tbody>\n",
       "    <tr>\n",
       "      <th>0</th>\n",
       "      <td>4.504359</td>\n",
       "      <td>5.317310</td>\n",
       "      <td>6.064453</td>\n",
       "      <td>8.630750</td>\n",
       "      <td>9.863578</td>\n",
       "    </tr>\n",
       "    <tr>\n",
       "      <th>1</th>\n",
       "      <td>4.394027</td>\n",
       "      <td>5.245298</td>\n",
       "      <td>6.090048</td>\n",
       "      <td>8.525381</td>\n",
       "      <td>10.700057</td>\n",
       "    </tr>\n",
       "    <tr>\n",
       "      <th>2</th>\n",
       "      <td>4.359708</td>\n",
       "      <td>5.193844</td>\n",
       "      <td>6.021707</td>\n",
       "      <td>8.637584</td>\n",
       "      <td>9.451762</td>\n",
       "    </tr>\n",
       "    <tr>\n",
       "      <th>3</th>\n",
       "      <td>4.420467</td>\n",
       "      <td>5.251192</td>\n",
       "      <td>6.155663</td>\n",
       "      <td>8.487466</td>\n",
       "      <td>10.831324</td>\n",
       "    </tr>\n",
       "    <tr>\n",
       "      <th>4</th>\n",
       "      <td>4.399941</td>\n",
       "      <td>5.284164</td>\n",
       "      <td>6.043248</td>\n",
       "      <td>8.839657</td>\n",
       "      <td>10.440054</td>\n",
       "    </tr>\n",
       "  </tbody>\n",
       "</table>\n",
       "</div>"
      ],
      "text/plain": [
       "   $R_{g}$ [Angstrom] N = 6 PEG   $R_{g}$ [Angstrom] N = 8 PEG   \\\n",
       "0                       4.504359                       5.317310   \n",
       "1                       4.394027                       5.245298   \n",
       "2                       4.359708                       5.193844   \n",
       "3                       4.420467                       5.251192   \n",
       "4                       4.399941                       5.284164   \n",
       "\n",
       "   $R_{g}$ [Angstrom] N = 10 PEG   $R_{g}$ [Angstrom] N = 20 PEG   \\\n",
       "0                        6.064453                        8.630750   \n",
       "1                        6.090048                        8.525381   \n",
       "2                        6.021707                        8.637584   \n",
       "3                        6.155663                        8.487466   \n",
       "4                        6.043248                        8.839657   \n",
       "\n",
       "   $R_{g}$ [Angstrom] N = 30 PEG   \n",
       "0                        9.863578  \n",
       "1                       10.700057  \n",
       "2                        9.451762  \n",
       "3                       10.831324  \n",
       "4                       10.440054  "
      ]
     },
     "execution_count": 211,
     "metadata": {},
     "output_type": "execute_result"
    }
   ],
   "source": [
    "rgpeg_olig[r\"$R_{g}$ [Angstrom] N = 30 PEG \"] = n30_blkspeg[\"Avg Radius of gyration\"]\n",
    "rgpeg_olig"
   ]
  },
  {
   "cell_type": "code",
   "execution_count": 212,
   "metadata": {},
   "outputs": [
    {
     "data": {
      "text/html": [
       "<div>\n",
       "<style scoped>\n",
       "    .dataframe tbody tr th:only-of-type {\n",
       "        vertical-align: middle;\n",
       "    }\n",
       "\n",
       "    .dataframe tbody tr th {\n",
       "        vertical-align: top;\n",
       "    }\n",
       "\n",
       "    .dataframe thead th {\n",
       "        text-align: right;\n",
       "    }\n",
       "</style>\n",
       "<table border=\"1\" class=\"dataframe\">\n",
       "  <thead>\n",
       "    <tr style=\"text-align: right;\">\n",
       "      <th></th>\n",
       "      <th>$L_{p}$ [Angstrom] N = 6 PEG</th>\n",
       "      <th>$L_{p}$ [Angstrom] N = 8 PEG</th>\n",
       "      <th>$L_{p}$ [Angstrom] N = 10 PEG</th>\n",
       "      <th>$L_{p}$ [Angstrom] N = 20 PEG</th>\n",
       "      <th>$L_{p}$ [Angstrom] N = 30 PEG</th>\n",
       "    </tr>\n",
       "  </thead>\n",
       "  <tbody>\n",
       "    <tr>\n",
       "      <th>0</th>\n",
       "      <td>17.677850</td>\n",
       "      <td>17.986656</td>\n",
       "      <td>19.595890</td>\n",
       "      <td>19.227312</td>\n",
       "      <td>19.005526</td>\n",
       "    </tr>\n",
       "    <tr>\n",
       "      <th>1</th>\n",
       "      <td>15.268117</td>\n",
       "      <td>18.039634</td>\n",
       "      <td>19.248204</td>\n",
       "      <td>18.833003</td>\n",
       "      <td>19.223251</td>\n",
       "    </tr>\n",
       "    <tr>\n",
       "      <th>2</th>\n",
       "      <td>13.857661</td>\n",
       "      <td>16.696242</td>\n",
       "      <td>18.032623</td>\n",
       "      <td>19.273258</td>\n",
       "      <td>18.264316</td>\n",
       "    </tr>\n",
       "    <tr>\n",
       "      <th>3</th>\n",
       "      <td>16.276045</td>\n",
       "      <td>17.245965</td>\n",
       "      <td>19.440086</td>\n",
       "      <td>18.735690</td>\n",
       "      <td>19.663013</td>\n",
       "    </tr>\n",
       "    <tr>\n",
       "      <th>4</th>\n",
       "      <td>15.239774</td>\n",
       "      <td>17.578127</td>\n",
       "      <td>19.323741</td>\n",
       "      <td>18.550276</td>\n",
       "      <td>19.169666</td>\n",
       "    </tr>\n",
       "  </tbody>\n",
       "</table>\n",
       "</div>"
      ],
      "text/plain": [
       "   $L_{p}$ [Angstrom] N = 6 PEG   $L_{p}$ [Angstrom] N = 8 PEG   \\\n",
       "0                      17.677850                      17.986656   \n",
       "1                      15.268117                      18.039634   \n",
       "2                      13.857661                      16.696242   \n",
       "3                      16.276045                      17.245965   \n",
       "4                      15.239774                      17.578127   \n",
       "\n",
       "   $L_{p}$ [Angstrom] N = 10 PEG   $L_{p}$ [Angstrom] N = 20 PEG   \\\n",
       "0                       19.595890                       19.227312   \n",
       "1                       19.248204                       18.833003   \n",
       "2                       18.032623                       19.273258   \n",
       "3                       19.440086                       18.735690   \n",
       "4                       19.323741                       18.550276   \n",
       "\n",
       "   $L_{p}$ [Angstrom] N = 30 PEG   \n",
       "0                       19.005526  \n",
       "1                       19.223251  \n",
       "2                       18.264316  \n",
       "3                       19.663013  \n",
       "4                       19.169666  "
      ]
     },
     "execution_count": 212,
     "metadata": {},
     "output_type": "execute_result"
    }
   ],
   "source": [
    "pers_pegt[r\"$L_{p}$ [Angstrom] N = 30 PEG \"] = n30_blkspeg[\"Avg persistence length\"]\n",
    "pers_pegt"
   ]
  },
  {
   "cell_type": "code",
   "execution_count": 265,
   "metadata": {},
   "outputs": [
    {
     "data": {
      "text/html": [
       "<div>\n",
       "<style scoped>\n",
       "    .dataframe tbody tr th:only-of-type {\n",
       "        vertical-align: middle;\n",
       "    }\n",
       "\n",
       "    .dataframe tbody tr th {\n",
       "        vertical-align: top;\n",
       "    }\n",
       "\n",
       "    .dataframe thead th {\n",
       "        text-align: right;\n",
       "    }\n",
       "</style>\n",
       "<table border=\"1\" class=\"dataframe\">\n",
       "  <thead>\n",
       "    <tr style=\"text-align: right;\">\n",
       "      <th></th>\n",
       "      <th>$L_{p}$ [Angstrom] N = 6 PEG</th>\n",
       "      <th>$L_{p}$ [Angstrom] N = 8 PEG</th>\n",
       "      <th>$L_{p}$ [Angstrom] N = 10 PEG</th>\n",
       "      <th>$L_{p}$ [Angstrom] N = 20 PEG</th>\n",
       "      <th>$L_{p}$ [Angstrom] N = 30 PEG</th>\n",
       "    </tr>\n",
       "  </thead>\n",
       "  <tbody>\n",
       "    <tr>\n",
       "      <th>0</th>\n",
       "      <td>17.677850</td>\n",
       "      <td>17.986656</td>\n",
       "      <td>19.595890</td>\n",
       "      <td>19.227312</td>\n",
       "      <td>19.005526</td>\n",
       "    </tr>\n",
       "    <tr>\n",
       "      <th>1</th>\n",
       "      <td>15.268117</td>\n",
       "      <td>18.039634</td>\n",
       "      <td>19.248204</td>\n",
       "      <td>18.833003</td>\n",
       "      <td>19.223251</td>\n",
       "    </tr>\n",
       "    <tr>\n",
       "      <th>2</th>\n",
       "      <td>13.857661</td>\n",
       "      <td>16.696242</td>\n",
       "      <td>18.032623</td>\n",
       "      <td>19.273258</td>\n",
       "      <td>18.264316</td>\n",
       "    </tr>\n",
       "    <tr>\n",
       "      <th>3</th>\n",
       "      <td>16.276045</td>\n",
       "      <td>17.245965</td>\n",
       "      <td>19.440086</td>\n",
       "      <td>18.735690</td>\n",
       "      <td>19.663013</td>\n",
       "    </tr>\n",
       "    <tr>\n",
       "      <th>4</th>\n",
       "      <td>15.239774</td>\n",
       "      <td>17.578127</td>\n",
       "      <td>19.323741</td>\n",
       "      <td>18.550276</td>\n",
       "      <td>19.169666</td>\n",
       "    </tr>\n",
       "  </tbody>\n",
       "</table>\n",
       "</div>"
      ],
      "text/plain": [
       "   $L_{p}$ [Angstrom] N = 6 PEG   $L_{p}$ [Angstrom] N = 8 PEG   \\\n",
       "0                      17.677850                      17.986656   \n",
       "1                      15.268117                      18.039634   \n",
       "2                      13.857661                      16.696242   \n",
       "3                      16.276045                      17.245965   \n",
       "4                      15.239774                      17.578127   \n",
       "\n",
       "   $L_{p}$ [Angstrom] N = 10 PEG   $L_{p}$ [Angstrom] N = 20 PEG   \\\n",
       "0                       19.595890                       19.227312   \n",
       "1                       19.248204                       18.833003   \n",
       "2                       18.032623                       19.273258   \n",
       "3                       19.440086                       18.735690   \n",
       "4                       19.323741                       18.550276   \n",
       "\n",
       "   $L_{p}$ [Angstrom] N = 30 PEG   \n",
       "0                       19.005526  \n",
       "1                       19.223251  \n",
       "2                       18.264316  \n",
       "3                       19.663013  \n",
       "4                       19.169666  "
      ]
     },
     "execution_count": 265,
     "metadata": {},
     "output_type": "execute_result"
    }
   ],
   "source": [
    "pers_pegt"
   ]
  },
  {
   "cell_type": "code",
   "execution_count": 270,
   "metadata": {},
   "outputs": [],
   "source": [
    "pers_pegt.to_pickle(\"PEG_water_Lp.pkl\")"
   ]
  },
  {
   "cell_type": "code",
   "execution_count": 215,
   "metadata": {},
   "outputs": [
    {
     "data": {
      "image/png": "[encoded data removed]",
      "text/plain": [
       "<Figure size 504x504 with 1 Axes>"
      ]
     },
     "metadata": {
      "needs_background": "light"
     },
     "output_type": "display_data"
    }
   ],
   "source": [
    "plt.figure(figsize=(7,7))\n",
    "plt.errorbar(blen, np.log(cor_n6peg[0]), yerr=mk_n6p, color='#1F2E69', linestyle=\"None\",marker='o',\n",
    "     capsize=5, capthick=1, ecolor='black')\n",
    "plt.errorbar(blen_n8, np.log(cor_n8peg[0]), yerr=mk_n8p, color='#4C80ED', linestyle=\"None\",marker='o',\n",
    "     capsize=5, capthick=1, ecolor='black')\n",
    "plt.errorbar(blen_n10, np.log(cor_n10peg[0]), yerr=mk_n10p, color='#8C52FC', linestyle=\"None\",marker='o',\n",
    "     capsize=5, capthick=1, ecolor='black')\n",
    "plt.errorbar(blen_n20, np.log(cor_n20peg[0]), yerr=mk_n20p, color='#8B7F47', linestyle=\"None\",marker='o',\n",
    "     capsize=5, capthick=1, ecolor='black')\n",
    "plt.errorbar(blen_n30, np.log(cor_n30peg[0]), yerr=mk_n30p, color='#63ACBE', linestyle=\"None\",marker='o',\n",
    "     capsize=5, capthick=1, ecolor='black')\n",
    "plt.plot(blen_n30[:15], gg_n6peg_n30[:15], color='#1F2E69')\n",
    "plt.plot(blen_n30[:15], gg_n8peg_n30[:15], color='#4C80ED')\n",
    "plt.plot(blen_n30[:15], gg_n10peg_n30[:15], color='#4C80ED')\n",
    "plt.plot(blen_n30[:15], gg_n20peg_n30[:15], color='#8B7F47')\n",
    "plt.plot(blen_n30[:15], gg_n30peg[:15], color='#63ACBE')\n",
    "plt.title(r'Ensemble Averaged ln(Cosine $\\theta$)', fontsize=15, y=1.01)\n",
    "plt.xlabel(r'Bond Length', fontsize=15)\n",
    "plt.ylabel(r'ln$\\left< Cos(\\theta)\\right >$', fontsize=15)\n",
    "plt.ylim(-6,1)\n",
    "plt.xlim(0,90)\n",
    "font = font_manager.FontProperties(family='Arial', style='normal', size='14')\n",
    "plt.text(0.5, -5.9,r'$N_{PEG}$ = 6: $L_{p}$ = 15.7 $\\AA$ ± 1.27 $\\AA$', fontsize=15, color='#1F2E69')\n",
    "plt.text(0.5,-5.58,r'$N_{PEG}$ = 8: $L_{p}$ = 17.5 $\\AA$ ± 0.50 $\\AA$', fontsize=15, color='#4C80ED')\n",
    "plt.text(0.5,-5.23,r'$N_{PEG}$ = 10: $L_{p}$ = 19.1 $\\AA$ ± 0.56 $\\AA$', fontsize=15, color='#8C52FC')\n",
    "plt.text(0.5,-4.90,r'$N_{PEG}$ = 20: $L_{p}$ = 18.9 $\\AA$ ± 0.28 $\\AA$', fontsize=15, color='#8B7F47')\n",
    "plt.text(0.5,-4.50,r'$N_{PEG}$ = 30: $L_{p}$ = 19.1 $\\AA$ ± 0.46 $\\AA$', fontsize=15, color='#63ACBE')\n",
    "plt.tick_params(labelsize=14)"
   ]
  },
  {
   "cell_type": "markdown",
   "metadata": {},
   "source": [
    "### Fluory Exponent, PEG/water systems "
   ]
  },
  {
   "cell_type": "code",
   "execution_count": 217,
   "metadata": {},
   "outputs": [],
   "source": [
    "n_peg = np.array([6,8,10,20,30])\n",
    "rg_npeg = np.array([np.mean(n6_blkspeg[\"Avg Radius of gyration\"])\n",
    "                    ,np.mean(n8_blkspeg[\"Avg Radius of gyration\"]),np.mean(n10_blkspeg[\"Avg Radius of gyration\"])\n",
    "                    ,np.mean(n20_blkspeg[\"Avg Radius of gyration\"]),np.mean(n30_blkspeg[\"Avg Radius of gyration\"])])"
   ]
  },
  {
   "cell_type": "code",
   "execution_count": 247,
   "metadata": {},
   "outputs": [],
   "source": [
    "rg_npeg_std = np.array([np.std(np.log10(n6_blkspeg[\"Avg Radius of gyration\"]))\n",
    "                    ,np.std(np.log10(n8_blkspeg[\"Avg Radius of gyration\"])),np.std(np.log10(n10_blkspeg[\"Avg Radius of gyration\"]))\n",
    "                    ,np.std(np.log10(n20_blkspeg[\"Avg Radius of gyration\"])),np.std(np.log10(n30_blkspeg[\"Avg Radius of gyration\"]))])"
   ]
  },
  {
   "cell_type": "code",
   "execution_count": 245,
   "metadata": {},
   "outputs": [
    {
     "data": {
      "text/plain": [
       "array([4.50435891, 4.3940265 , 4.3597076 , 4.4204671 , 4.39994122])"
      ]
     },
     "execution_count": 245,
     "metadata": {},
     "output_type": "execute_result"
    }
   ],
   "source": [
    "n6_blkspeg[\"Avg Radius of gyration\"]"
   ]
  },
  {
   "cell_type": "code",
   "execution_count": 244,
   "metadata": {},
   "outputs": [
    {
     "data": {
      "text/plain": [
       "array([0.65363299, 0.64286267, 0.63945736, 0.64546816, 0.64344687])"
      ]
     },
     "execution_count": 244,
     "metadata": {},
     "output_type": "execute_result"
    }
   ],
   "source": [
    "np.log10(n6_blkspeg[\"Avg Radius of gyration\"])"
   ]
  },
  {
   "cell_type": "code",
   "execution_count": 248,
   "metadata": {},
   "outputs": [
    {
     "data": {
      "text/plain": [
       "array([0.00474226, 0.00341243, 0.00329737, 0.00614202, 0.02237825])"
      ]
     },
     "execution_count": 248,
     "metadata": {},
     "output_type": "execute_result"
    }
   ],
   "source": [
    "rg_npeg_std"
   ]
  },
  {
   "cell_type": "code",
   "execution_count": 232,
   "metadata": {},
   "outputs": [
    {
     "data": {
      "text/plain": [
       "array([-1.31471835, -1.38412967, -1.33494176, -0.91165004, -0.28226174])"
      ]
     },
     "execution_count": 232,
     "metadata": {},
     "output_type": "execute_result"
    }
   ],
   "source": [
    "np.log10(rg_npeg_std)"
   ]
  },
  {
   "cell_type": "code",
   "execution_count": 221,
   "metadata": {},
   "outputs": [
    {
     "data": {
      "text/plain": [
       "array([0.44157003, 0.52583615, 0.60750237, 0.86241676, 1.02573549])"
      ]
     },
     "execution_count": 221,
     "metadata": {},
     "output_type": "execute_result"
    }
   ],
   "source": [
    "rg_npeg"
   ]
  },
  {
   "cell_type": "code",
   "execution_count": 219,
   "metadata": {},
   "outputs": [
    {
     "data": {
      "text/plain": [
       "array([ 6,  8, 10, 20, 30])"
      ]
     },
     "execution_count": 219,
     "metadata": {},
     "output_type": "execute_result"
    }
   ],
   "source": [
    "n_peg"
   ]
  },
  {
   "cell_type": "code",
   "execution_count": 246,
   "metadata": {},
   "outputs": [
    {
     "data": {
      "text/plain": [
       "array([0.64499959, 0.72085044, 0.78354798, 0.93571719, 1.01103538])"
      ]
     },
     "execution_count": 246,
     "metadata": {},
     "output_type": "execute_result"
    }
   ],
   "source": [
    "np.log10(rg_npeg)"
   ]
  },
  {
   "cell_type": "code",
   "execution_count": 223,
   "metadata": {},
   "outputs": [
    {
     "data": {
      "text/plain": [
       "array([0.77815125, 0.90308999, 1.        , 1.30103   , 1.47712125])"
      ]
     },
     "execution_count": 223,
     "metadata": {},
     "output_type": "execute_result"
    }
   ],
   "source": [
    "np.log10(n_peg)"
   ]
  },
  {
   "cell_type": "code",
   "execution_count": 241,
   "metadata": {},
   "outputs": [
    {
     "name": "stdout",
     "output_type": "stream",
     "text": [
      "Model slope:     0.52221732574801\n",
      "Model intercept: 0.24903224565118154\n"
     ]
    }
   ],
   "source": [
    "# From fitting all points, I get best fit \n",
    "from sklearn.linear_model import LinearRegression\n",
    "model_v = LinearRegression(fit_intercept=True)\n",
    "model_v.fit(np.log10(n_peg).reshape(-1,1), np.log10(rg_npeg))\n",
    "# Slope here is in nanometers\n",
    "print(\"Model slope:    \", model_v.coef_[0])\n",
    "print(\"Model intercept:\", model_v.intercept_)"
   ]
  },
  {
   "cell_type": "code",
   "execution_count": 242,
   "metadata": {},
   "outputs": [
    {
     "data": {
      "text/plain": [
       "array([0.65539631, 0.72064148, 0.77124957, 0.92845265, 1.02041056])"
      ]
     },
     "execution_count": 242,
     "metadata": {},
     "output_type": "execute_result"
    }
   ],
   "source": [
    "gg = model_v.predict(np.log10(n_peg.reshape(-1,1)))\n",
    "gg"
   ]
  },
  {
   "cell_type": "code",
   "execution_count": 243,
   "metadata": {},
   "outputs": [
    {
     "name": "stdout",
     "output_type": "stream",
     "text": [
      "Mean Std Error: 8.001074879623288e-05\n",
      "R2 score: 0.9956357719072358\n"
     ]
    }
   ],
   "source": [
    "print(\"Mean Std Error:\", sklearn.metrics.mean_squared_error(np.log10(rg_npeg), gg))\n",
    "print(\"R2 score:\", sklearn.metrics.r2_score(np.log10(rg_npeg), gg))"
   ]
  },
  {
   "cell_type": "code",
   "execution_count": 252,
   "metadata": {},
   "outputs": [
    {
     "data": {
      "text/plain": [
       "array([-0.01039672,  0.00020895,  0.01229841,  0.00726454, -0.00937517])"
      ]
     },
     "execution_count": 252,
     "metadata": {},
     "output_type": "execute_result"
    }
   ],
   "source": [
    "# Residuals between the true y data and model y data \n",
    "resid_v = np.log10(rg_npeg) - gg\n",
    "resid_v"
   ]
  },
  {
   "cell_type": "code",
   "execution_count": 253,
   "metadata": {},
   "outputs": [
    {
     "data": {
      "text/plain": [
       "0.334663876760361"
      ]
     },
     "execution_count": 253,
     "metadata": {},
     "output_type": "execute_result"
    }
   ],
   "source": [
    "# How to calculate Sum((Xi - avg(X))^2): X values are the bond length values \n",
    "nt_tt = np.log10(n_peg)\n",
    "nt_tt -= np.mean(nt_tt)\n",
    "nhui = nt_tt**2\n",
    "np.sum(nhui)"
   ]
  },
  {
   "cell_type": "code",
   "execution_count": 254,
   "metadata": {},
   "outputs": [
    {
     "data": {
      "text/plain": [
       "2.7764451051977987"
      ]
     },
     "execution_count": 254,
     "metadata": {},
     "output_type": "execute_result"
    }
   ],
   "source": [
    "# t-value with 95 % confidence intervals \n",
    "scipy.stats.t.ppf(0.975, 4)"
   ]
  },
  {
   "cell_type": "code",
   "execution_count": 255,
   "metadata": {},
   "outputs": [
    {
     "data": {
      "text/plain": [
       "0.04292979748885229"
      ]
     },
     "execution_count": 255,
     "metadata": {},
     "output_type": "execute_result"
    }
   ],
   "source": [
    "# How to calculate 95% confidence interval for the slope \n",
    "flc_v = scipy.stats.t.ppf(0.975, 4)*np.sqrt((np.sum(resid_v**2)/len(resid_v))/(np.sum(nhui)))\n",
    "flc_v"
   ]
  },
  {
   "cell_type": "code",
   "execution_count": 264,
   "metadata": {},
   "outputs": [
    {
     "data": {
      "text/plain": [
       "Text(1.1, 0.8, '$v_{water}$ = 0.52 ± 0.04')"
      ]
     },
     "execution_count": 264,
     "metadata": {},
     "output_type": "execute_result"
    },
    {
     "data": {
      "image/png": "[encoded data removed]",
      "text/plain": [
       "<Figure size 504x504 with 1 Axes>"
      ]
     },
     "metadata": {
      "needs_background": "light"
     },
     "output_type": "display_data"
    }
   ],
   "source": [
    "plt.figure(figsize=(7,7))\n",
    "plt.errorbar(np.log10(n_peg), np.log10(rg_npeg), yerr=rg_npeg_std, color='#A95AA1', linestyle=\"None\",marker='o',\n",
    "     capsize=5, capthick=1, ecolor='black')\n",
    "plt.plot(np.log10(n_peg), gg, color='#A95AA1')\n",
    "plt.title(r'Fluory Exponent', fontsize=15)\n",
    "plt.xlabel(r'Log($N_{PEG}$)', fontsize=15)\n",
    "plt.ylabel(r'Log($R_{g}$)', fontsize=15)\n",
    "plt.tick_params(labelsize=14)\n",
    "plt.text(1.1, 0.80, r'$v_{water}$ = 0.52 ± 0.04', fontsize=15, color='#A95AA1')"
   ]
  },
  {
   "cell_type": "code",
   "execution_count": null,
   "metadata": {},
   "outputs": [],
   "source": []
  },
  {
   "cell_type": "code",
   "execution_count": null,
   "metadata": {},
   "outputs": [],
   "source": []
  },
  {
   "cell_type": "code",
   "execution_count": null,
   "metadata": {},
   "outputs": [],
   "source": []
  },
  {
   "cell_type": "code",
   "execution_count": null,
   "metadata": {},
   "outputs": [],
   "source": []
  },
  {
   "cell_type": "code",
   "execution_count": null,
   "metadata": {},
   "outputs": [],
   "source": []
  },
  {
   "cell_type": "code",
   "execution_count": null,
   "metadata": {},
   "outputs": [],
   "source": []
  },
  {
   "cell_type": "code",
   "execution_count": null,
   "metadata": {},
   "outputs": [],
   "source": []
  },
  {
   "cell_type": "code",
   "execution_count": null,
   "metadata": {},
   "outputs": [],
   "source": []
  },
  {
   "cell_type": "code",
   "execution_count": null,
   "metadata": {},
   "outputs": [],
   "source": []
  }
 ],
 "metadata": {
  "kernelspec": {
   "display_name": "Python (ppc_env)",
   "language": "python",
   "name": "ppc_env"
  },
  "language_info": {
   "codemirror_mode": {
    "name": "ipython",
    "version": 3
   },
   "file_extension": ".py",
   "mimetype": "text/x-python",
   "name": "python",
   "nbconvert_exporter": "python",
   "pygments_lexer": "ipython3",
   "version": "3.6.8"
  }
 },
 "nbformat": 4,
 "nbformat_minor": 4
}
