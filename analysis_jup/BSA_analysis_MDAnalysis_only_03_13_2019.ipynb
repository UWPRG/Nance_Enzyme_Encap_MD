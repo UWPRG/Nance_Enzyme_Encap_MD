{
 "cells": [
  {
   "cell_type": "code",
   "execution_count": 1,
   "metadata": {},
   "outputs": [],
   "source": [
    "#import the necessary modules \n",
    "%matplotlib inline \n",
    "import numpy as np \n",
    "import matplotlib.pylab as plt \n",
    "import pandas as pd \n",
    "import scipy\n",
    "import sklearn\n",
    "import itertools \n",
    "from itertools import cycle \n",
    "import os.path as op\n",
    "import timeit \n",
    "import json\n",
    "\n",
    "# These imports are for creating the percent occupancy heat map \n",
    "import plotly\n",
    "import plotly.plotly as py\n",
    "import plotly.graph_objs as go"
   ]
  },
  {
   "cell_type": "code",
   "execution_count": 2,
   "metadata": {},
   "outputs": [
    {
     "data": {
      "text/plain": [
       "4"
      ]
     },
     "execution_count": 2,
     "metadata": {},
     "output_type": "execute_result"
    }
   ],
   "source": [
    "import multiprocessing as m_proc\n",
    "m_proc.cpu_count()"
   ]
  },
  {
   "cell_type": "markdown",
   "metadata": {},
   "source": [
    "### Now use MD Analysis to calculate no. of frames a center PLGA residues and terminal PLGA residue is with 4 Angstroms of BSA (1.2 nm restrained system)"
   ]
  },
  {
   "cell_type": "markdown",
   "metadata": {},
   "source": [
    "Import MDAnalysis"
   ]
  },
  {
   "cell_type": "code",
   "execution_count": 3,
   "metadata": {},
   "outputs": [],
   "source": [
    "# Import MDAnalysis\n",
    "import MDAnalysis as mda\n",
    "import MDAnalysis.analysis.distances as maa_dist"
   ]
  },
  {
   "cell_type": "markdown",
   "metadata": {},
   "source": [
    "### First table will be total fractional contacts and oligomer occupancy values for each Rg value "
   ]
  },
  {
   "cell_type": "markdown",
   "metadata": {},
   "source": [
    "#### Distance-based analysis \n",
    "\n",
    "Find residues that have at least one atom within a cutoff $d = 4.0$ Angstrom near water molecules in BSA/water simulation\n",
    "\n",
    "Calculate the number of surface bsa residues from a 1 ns BSA/water simulation"
   ]
  },
  {
   "cell_type": "code",
   "execution_count": 4,
   "metadata": {},
   "outputs": [],
   "source": [
    "#Units of Angstroms \n",
    "dmax = 4.0 "
   ]
  },
  {
   "cell_type": "code",
   "execution_count": null,
   "metadata": {},
   "outputs": [],
   "source": [
    "exp_bsa_atoms = np.any(dij_tri <= dmax, axis=1)\n",
    "\n",
    "# Boolean arrays must be of the same shape as the initial dimensions of the array being indexed.\n",
    "# In the most straightforward case, the boolean array has the same shape\n",
    "# Unlike in the case of integer index arrays, in the boolean case,\n",
    "# the result is a 1-D array containing all the elements in the indexed array corresponding\n",
    "#       to all the true elements in the boolean array.\n",
    "\n",
    "bres_wit_dmax = prot[exp_bsa_atoms].residues"
   ]
  },
  {
   "cell_type": "code",
   "execution_count": 131,
   "metadata": {},
   "outputs": [],
   "source": [
    "## Define a function that does this, Courtesy of MDAnalysis tutorial \n",
    "def get_protresd_list(prot_atoms, g2_atoms, dmax, universe):\n",
    "    \"\"\"Find all protein residues for which atoms that are within dmax\"\"\"\n",
    "    ro = len(prot_atoms)\n",
    "    cl = len(g2_atoms)\n",
    "    dij_tri = np.zeros(shape=(ro,cl))\n",
    "    dij_tri = maa_dist.distance_array(prot_atoms.positions, g2_atoms.positions, box=universe.trajectory.ts.dimensions)\n",
    "    exp_prot_atoms = np.any(dij_tri <= dmax, axis=1)\n",
    "    mk = np.array(prot_atoms[exp_prot_atoms].residues)\n",
    "    return mk"
   ]
  },
  {
   "cell_type": "code",
   "execution_count": null,
   "metadata": {},
   "outputs": [],
   "source": [
    "# Define a function that outputs a dictionary of AA protein number and frame counts, where \n",
    "# the inputs will be number of frames, universe, prot and group 2 atom group, and dmax \n",
    "# Write function that takes a no of total frames, protein atom positions and group 2 atoms positions \n",
    "# and gives a dictionary of protein AA as keys and frame count as values \n",
    "\n",
    "def aa_frmcount(prot_atoms, g2_atoms, dmax, universe, start, end):\n",
    "    \"\"\"This function will output a dictionary of AA protein number and its corresponding frame count and occupancy\"\"\"\n",
    "    \n",
    "    aa_dict = {}\n",
    "    laa = np.zeros(shape=len(prot_atoms.residues))\n",
    "    br = np.array(prot_atoms.residues)\n",
    "    \n",
    "    for ts in universe.trajectory[start:end]: \n",
    "        count = 0\n",
    "        bsres = get_protresd_list(prot_atoms, g2_atoms, dmax, universe)\n",
    "        \n",
    "        if bsres.size == 0: \n",
    "            pass\n",
    "        elif bsres.size != 0: \n",
    "            count += 1\n",
    "            for i in bsres.flat:\n",
    "                res_ind = np.where(br == i)[0]\n",
    "                laa[res_ind[0]] = laa[res_ind[0]] + count \n",
    "                \n",
    "    fin_res = np.where(laa != 0)[0]\n",
    "    \n",
    "    # Calculate occupancy for each residue \n",
    "    for i in fin_res.flat:\n",
    "        aa_dict[str(list(prot.residues[i:i+1])[0])] = [laa[i], laa[i]/(end - start)]\n",
    "        \n",
    "    return aa_dict "
   ]
  },
  {
   "cell_type": "code",
   "execution_count": 6,
   "metadata": {},
   "outputs": [],
   "source": [
    "def frac_cont(frm_count_dict):\n",
    "    \n",
    "    a_a = [\"GLY\",\"ALA\",\"VAL\",\"LEU\",\"ILE\",\"MET\",\"PHE\",\"TRP\",\"PRO\",\"SER\",\"THR\",\"CYS\",\"TYR\",\"ASN\",\"GLN\",\"ASP\"\n",
    "               ,\"GLU\",\"LYS\",\"ARG\",\"HIS\"]\n",
    "    \n",
    "    # Grouping of residues in Smith et al  \n",
    "    aromatic_res = ['PHE', 'TRP', 'TYR', 'HIS']\n",
    "    hydrophobic_res = ['ALA', 'ILE', 'LEU', 'VAL', 'GLY', 'PRO','PHE', 'TRP','MET']\n",
    "    polar_res = ['ASN', 'CYS', 'GLN', 'SER', 'THR','TYR']\n",
    "    neg_res = ['ASP', 'GLU']\n",
    "    pos_res = ['ARG', 'HIS', 'LYS']\n",
    "\n",
    "    frac_res = [neg_res, pos_res, polar_res, hydrophobic_res, aromatic_res]\n",
    "    sf_lbl = [\"Negative\", \"Positive\", \"Polar\", \"Hydrophobic\", \"Aromatic\"]\n",
    "    \n",
    "    # For each amino acid type in frac_res, this code chunk saves the frame count in a list and sums them together to \n",
    "    # to get a total frame count within the 25 ns trajectory for each AA group in frac_res\n",
    "    co_grpaa = []\n",
    "\n",
    "    for row in frac_res:\n",
    "        fr_list = []\n",
    "        for j in range(len(row)):\n",
    "            for key, value in frm_count_dict.items():\n",
    "                if row[j] in key:\n",
    "                    fr_list.append(value[0])\n",
    "        co_grpaa.append(sum(fr_list))\n",
    "        \n",
    "    # This chunk of code gets an AA count from the above list, in order \n",
    "    # to get a total number of residues that contact BSA\n",
    "    cpl_l = []\n",
    "\n",
    "    for i in range(len(a_a)):\n",
    "        count = 0\n",
    "        for key, value in frm_count_dict.items():\n",
    "            if a_a[i] in key:\n",
    "                count += 1\n",
    "        cpl_l.append(a_a[i]+\" \"+str(count))   \n",
    "    \n",
    "    # For each AA type in frac_res, this code chunk saves the count for each AA within 4 Angstroms of a PLGA trimer \n",
    "    # in a list based on the order in frac_res, then sums the counts to get a total number of AA for each AA type \n",
    "    tp_cnt = []   \n",
    "    \n",
    "    for row in frac_res:\n",
    "        nw_l = []\n",
    "        for i in range(len(row)):\n",
    "            for j in range(len(cpl_l)):\n",
    "                if row[i] in cpl_l[j]:\n",
    "                    nw_l.append(int(cpl_l[j][4:6]))\n",
    "        tp_cnt.append(sum(nw_l))           \n",
    "    \n",
    "    # Get the total count of AA that are within 4 A of PLGA oligomer\n",
    "    bsum = len(frm_count_dict.keys())\n",
    "    \n",
    "    # The code chunk normalized the frame count of each AA group type by the protein surface fraction \n",
    "    # of each amino acid type contacted by a polymer surrogate.\n",
    "    norm_list = []\n",
    "    for i in range(len(co_grpaa)):\n",
    "        norm_list.append(int(co_grpaa[i]/(tp_cnt[i]/bsum)))\n",
    "    \n",
    "    # This conde chunk calculates the fractional contact based on the normalized frame count \n",
    "    cont_l = []\n",
    "    nsum = sum(norm_list)\n",
    "    for i in range(len(norm_list)):\n",
    "        cont_l.append(norm_list[i]/nsum)\n",
    "    \n",
    "    #Save values in a dictionary \n",
    "    nlkts = {}\n",
    "    for i in range(len(sf_lbl)):\n",
    "        nlkts[sf_lbl[i]] = [co_grpaa[i], tp_cnt[i], norm_list[i], cont_l[i]]\n",
    "        \n",
    "    return nlkts"
   ]
  },
  {
   "cell_type": "code",
   "execution_count": 7,
   "metadata": {},
   "outputs": [],
   "source": [
    "def AA_list_org(lorg_list):\n",
    "    \n",
    "    \"\"\"List elements need have 'GLY  XX' as string format, where XX reps the number of GLY residues. Output is a\n",
    "    sorted list of 'AA XX' according to the below order.  \"\"\"\n",
    "    \n",
    "    hydrophobic_res = ['ALA', 'ILE', 'LEU', 'VAL', 'GLY', 'PRO','PHE', 'TRP','MET']\n",
    "    polar_res = ['ASN', 'CYS', 'GLN', 'SER', 'THR','TYR']\n",
    "    neg_res = ['ASP', 'GLU']\n",
    "    pos_res = ['ARG', 'HIS', 'LYS']\n",
    "\n",
    "    all_res = [pos_res, neg_res, polar_res, hydrophobic_res]\n",
    "    #Change order of residues before making the bar graph\n",
    "    # (1) Positively charged\n",
    "    # (2) Negatively charged\n",
    "    # (3) Polar residues \n",
    "    # (4) Hydrophobic residues \n",
    "    \n",
    "    # This chunk of code sorts the counts of each AA that have 1001 or 1002 frame count based \n",
    "    # on the AA order in all_res\n",
    "    arr_list = []\n",
    "\n",
    "    for row in all_res:\n",
    "        for i in range(len(lorg_list)):\n",
    "            for j in range(len(row)):\n",
    "                if row[j] == lorg_list[i][0:3]:\n",
    "                    arr_list.append(lorg_list[i])\n",
    "                    \n",
    "    #This chunk of code splits the list arr_list to makes the AA: count of 1001 or 1002 frames data plottable \n",
    "    f_list = []\n",
    "    fn_list = []\n",
    "    for i in range(len(arr_list)):\n",
    "        f_list.append(arr_list[i][0:3])\n",
    "        fn_list.append(int(arr_list[i][5:7]))\n",
    "        \n",
    "    return f_list, fn_list"
   ]
  },
  {
   "cell_type": "markdown",
   "metadata": {},
   "source": [
    "Now load BSA/water trajectory to compare the frame counts values from VMD "
   ]
  },
  {
   "cell_type": "code",
   "execution_count": 8,
   "metadata": {},
   "outputs": [],
   "source": [
    "# Load universe of the BSA/water simulation\n",
    "bsa_wat = mda.Universe(\"../bsa_analysis/tout_local/confout.gro\", \"../bsa_analysis/tout_local/traj_comp.xtc\")"
   ]
  },
  {
   "cell_type": "code",
   "execution_count": 9,
   "metadata": {},
   "outputs": [
    {
     "data": {
      "text/plain": [
       "<Universe with 138239 atoms>"
      ]
     },
     "execution_count": 9,
     "metadata": {},
     "output_type": "execute_result"
    }
   ],
   "source": [
    "# Check Universe \n",
    "bsa_wat"
   ]
  },
  {
   "cell_type": "code",
   "execution_count": 10,
   "metadata": {
    "scrolled": true
   },
   "outputs": [],
   "source": [
    "# Check Trajectory Length \n",
    "bstrj = len(bsa_wat.trajectory)"
   ]
  },
  {
   "cell_type": "code",
   "execution_count": 11,
   "metadata": {},
   "outputs": [],
   "source": [
    "# Load protein atoms, heavy atoms only \n",
    "wb_prot = bsa_wat.select_atoms(\"protein\")"
   ]
  },
  {
   "cell_type": "code",
   "execution_count": 12,
   "metadata": {},
   "outputs": [
    {
     "data": {
      "text/plain": [
       "<AtomGroup with 9220 atoms>"
      ]
     },
     "execution_count": 12,
     "metadata": {},
     "output_type": "execute_result"
    }
   ],
   "source": [
    "wb_prot"
   ]
  },
  {
   "cell_type": "markdown",
   "metadata": {},
   "source": [
    "Visualize BSA contact map with a 7.5 Angstroms cutoff, Heavy atoms only"
   ]
  },
  {
   "cell_type": "code",
   "execution_count": 181,
   "metadata": {},
   "outputs": [
    {
     "data": {
      "text/plain": [
       "Text(0.5, 1.05, 'BSA Atomic Contact Map: PDB code 4F5S')"
      ]
     },
     "execution_count": 181,
     "metadata": {},
     "output_type": "execute_result"
    },
    {
     "data": {
      "image/png": "[encoded data removed]",
      "text/plain": [
       "<Figure size 720x720 with 2 Axes>"
      ]
     },
     "metadata": {
      "needs_background": "light"
     },
     "output_type": "display_data"
    }
   ],
   "source": [
    "#Length units in MD Analysis is Angstroms, Using 8.5 A cutoff to better visualize atomic contacts\n",
    "bs = maa_dist.contact_matrix(wb_prot.positions,cutoff=7.5,box=bsa_wat.dimensions)\n",
    "fig, ax = plt.subplots(figsize=(10,10))\n",
    "l_s = ax.matshow(bs.astype(int), aspect=\"auto\")\n",
    "fig.colorbar(l_s, ax=ax)\n",
    "ax.set_title('BSA Atomic Contact Map: PDB code 4F5S')"
   ]
  },
  {
   "cell_type": "code",
   "execution_count": 13,
   "metadata": {},
   "outputs": [
    {
     "data": {
      "text/html": [
       "<div>\n",
       "<style scoped>\n",
       "    .dataframe tbody tr th:only-of-type {\n",
       "        vertical-align: middle;\n",
       "    }\n",
       "\n",
       "    .dataframe tbody tr th {\n",
       "        vertical-align: top;\n",
       "    }\n",
       "\n",
       "    .dataframe thead th {\n",
       "        text-align: right;\n",
       "    }\n",
       "</style>\n",
       "<table border=\"1\" class=\"dataframe\">\n",
       "  <thead>\n",
       "    <tr style=\"text-align: right;\">\n",
       "      <th></th>\n",
       "      <th>BSA_des_res</th>\n",
       "      <th>No. of frames (VMD)</th>\n",
       "    </tr>\n",
       "  </thead>\n",
       "  <tbody>\n",
       "    <tr>\n",
       "      <th>0</th>\n",
       "      <td>&lt;Residue ASP, 1&gt;</td>\n",
       "      <td>1002</td>\n",
       "    </tr>\n",
       "    <tr>\n",
       "      <th>1</th>\n",
       "      <td>&lt;Residue THR, 2&gt;</td>\n",
       "      <td>1002</td>\n",
       "    </tr>\n",
       "    <tr>\n",
       "      <th>2</th>\n",
       "      <td>&lt;Residue HIS, 3&gt;</td>\n",
       "      <td>1002</td>\n",
       "    </tr>\n",
       "    <tr>\n",
       "      <th>3</th>\n",
       "      <td>&lt;Residue LYS, 4&gt;</td>\n",
       "      <td>1002</td>\n",
       "    </tr>\n",
       "    <tr>\n",
       "      <th>4</th>\n",
       "      <td>&lt;Residue SER, 5&gt;</td>\n",
       "      <td>1002</td>\n",
       "    </tr>\n",
       "  </tbody>\n",
       "</table>\n",
       "</div>"
      ],
      "text/plain": [
       "        BSA_des_res  No. of frames (VMD)\n",
       "0  <Residue ASP, 1>                 1002\n",
       "1  <Residue THR, 2>                 1002\n",
       "2  <Residue HIS, 3>                 1002\n",
       "3  <Residue LYS, 4>                 1002\n",
       "4  <Residue SER, 5>                 1002"
      ]
     },
     "execution_count": 13,
     "metadata": {},
     "output_type": "execute_result"
    }
   ],
   "source": [
    "# Read in data from the oputput of wrapper.sh, where the frame count is given for each BSA residue that was within \n",
    "# 4 angstroms of PLGA trimer \n",
    "wat_data = pd.read_csv('occ_BSA1ns.txt', sep=\" \", header=None, usecols=None ,index_col=None)\n",
    "wat_data.columns = [\"BSA_res_no\",\"No. of frames (VMD)\"]\n",
    "wat_data = wat_data.drop(\"BSA_res_no\", axis=1)\n",
    "\n",
    "pr_res = list(wb_prot.residues)\n",
    "ss_res = [str(row) for row in pr_res]\n",
    "\n",
    "wat_data['BSA_des_res'] = ss_res\n",
    "wat_data = wat_data[['BSA_des_res',\"No. of frames (VMD)\"]]\n",
    "wat_data.head()"
   ]
  },
  {
   "cell_type": "markdown",
   "metadata": {},
   "source": [
    "For the BSA/water 1 ns simulation, if I reduce the number of SOL atoms to find surface residues, I don't get the same number of AA frame counts when compared to including the entire group of SOL atoms (129,003 atoms)."
   ]
  },
  {
   "cell_type": "code",
   "execution_count": null,
   "metadata": {},
   "outputs": [],
   "source": [
    "# Create dictionary of BSA residues and frame count\n",
    "#hto_atms = bsa_wat.select_atoms(\"resname SOL\")\n",
    "#hto_atms = bsa_wat.select_atoms(\"resname SOL and within 5 protein\") (9508 water atoms)\n",
    "\n",
    "# Time the execution with smaller SOL group (9508 water atoms, 1518.5523862359987 s (~25 minutes on 4 cores))\n",
    "#s_time = timeit.default_timer()\n",
    "#h2di = aa_frmcount(wb_prot, hto_atms, dmax, bsa_wat, bstrj)\n",
    "#timeit.default_timer() - s_time\n",
    "\n",
    "# Use to save dictionary to a text file  \n",
    "#import json\n",
    "#with open('MDA_BSA1ns.txt', 'w') as file:\n",
    "#     file.write(json.dumps(gg_new))\n",
    "\n",
    "# This code calculates how many atoms are in each residue of BSA and stores it in a dictionary \n",
    "\n",
    "# When saving new keys and their associated values in a dictionary, make sure the key is not the \n",
    "# same as a key that has already been saved. The value that has been saved with the key will be erased and the newest\n",
    "# value will be placed in the dictionary if trying to add new value with the same key into the dict\n",
    "\n",
    "#rb_atom = {}\n",
    "#for i in range(len(red_bsa)):     \n",
    "#    st_r = \"resname \"+str(red_bsa[i][0:3])+\" and resid \"+str(red_bsa[i][4:9])\n",
    "#    da = list(prot.select_atoms(st_r))\n",
    "#    rb_atom[st_r] = len(da)\n",
    "\n",
    "#rb_atom"
   ]
  },
  {
   "cell_type": "code",
   "execution_count": 14,
   "metadata": {},
   "outputs": [
    {
     "data": {
      "text/html": [
       "<div>\n",
       "<style scoped>\n",
       "    .dataframe tbody tr th:only-of-type {\n",
       "        vertical-align: middle;\n",
       "    }\n",
       "\n",
       "    .dataframe tbody tr th {\n",
       "        vertical-align: top;\n",
       "    }\n",
       "\n",
       "    .dataframe thead th {\n",
       "        text-align: right;\n",
       "    }\n",
       "</style>\n",
       "<table border=\"1\" class=\"dataframe\">\n",
       "  <thead>\n",
       "    <tr style=\"text-align: right;\">\n",
       "      <th></th>\n",
       "      <th>BSA_des_res</th>\n",
       "      <th>No. of frames (VMD)</th>\n",
       "      <th>Mda_frames</th>\n",
       "    </tr>\n",
       "  </thead>\n",
       "  <tbody>\n",
       "    <tr>\n",
       "      <th>0</th>\n",
       "      <td>&lt;Residue ASP, 1&gt;</td>\n",
       "      <td>1002</td>\n",
       "      <td>1001</td>\n",
       "    </tr>\n",
       "    <tr>\n",
       "      <th>1</th>\n",
       "      <td>&lt;Residue THR, 2&gt;</td>\n",
       "      <td>1002</td>\n",
       "      <td>1001</td>\n",
       "    </tr>\n",
       "    <tr>\n",
       "      <th>2</th>\n",
       "      <td>&lt;Residue HIS, 3&gt;</td>\n",
       "      <td>1002</td>\n",
       "      <td>1001</td>\n",
       "    </tr>\n",
       "    <tr>\n",
       "      <th>3</th>\n",
       "      <td>&lt;Residue LYS, 4&gt;</td>\n",
       "      <td>1002</td>\n",
       "      <td>1001</td>\n",
       "    </tr>\n",
       "    <tr>\n",
       "      <th>4</th>\n",
       "      <td>&lt;Residue SER, 5&gt;</td>\n",
       "      <td>1002</td>\n",
       "      <td>1001</td>\n",
       "    </tr>\n",
       "  </tbody>\n",
       "</table>\n",
       "</div>"
      ],
      "text/plain": [
       "        BSA_des_res  No. of frames (VMD)  Mda_frames\n",
       "0  <Residue ASP, 1>                 1002        1001\n",
       "1  <Residue THR, 2>                 1002        1001\n",
       "2  <Residue HIS, 3>                 1002        1001\n",
       "3  <Residue LYS, 4>                 1002        1001\n",
       "4  <Residue SER, 5>                 1002        1001"
      ]
     },
     "execution_count": 14,
     "metadata": {},
     "output_type": "execute_result"
    }
   ],
   "source": [
    "# load MDAnalysis values from MDA_BSA1ns.txt file(129003 atoms SOL group was used to calc. frame counts for txt. file)\n",
    "h2ob_dict = json.load(open(\"MDA_BSA1ns.txt\"))\n",
    "wat_data['Mda_frames'] = wat_data['BSA_des_res'].map(h2ob_dict)\n",
    "wat_data.head()\n",
    "# Need to ask about whether 900 frames or greater still works for surface residue requirement "
   ]
  },
  {
   "cell_type": "code",
   "execution_count": 15,
   "metadata": {},
   "outputs": [
    {
     "name": "stdout",
     "output_type": "stream",
     "text": [
      "24\n"
     ]
    }
   ],
   "source": [
    "# Check if there are non matching values between the VMD and MDAnalysis values \n",
    "count = 0\n",
    "for index, row in wat_data.iterrows():\n",
    "    if row[\"No. of frames (VMD)\"] == row[\"Mda_frames\"]:\n",
    "        count += 1\n",
    "print(count)\n",
    "        \n",
    "# Only 24 BSA AA residue frame count match those calculated from vmd. Besides from ALA 583, \n",
    "# all other values are off by 1 frame(I'll write code to confirm this)"
   ]
  },
  {
   "cell_type": "code",
   "execution_count": 16,
   "metadata": {},
   "outputs": [],
   "source": [
    "a_a = [\"GLY\",\"ALA\",\"VAL\",\"LEU\",\"ILE\",\"MET\",\"PHE\",\"TRP\",\"PRO\",\"SER\",\"THR\",\"CYS\",\"TYR\",\"ASN\",\"GLN\",\"ASP\"\n",
    "               ,\"GLU\",\"LYS\",\"ARG\",\"HIS\"]"
   ]
  },
  {
   "cell_type": "code",
   "execution_count": 17,
   "metadata": {},
   "outputs": [],
   "source": [
    "# This code chunk gets the BSA residues and their corresponding number in a pandas dataframe \n",
    "red_bsa = []\n",
    "bh = np.arange(0,584)\n",
    "for i in range(583):\n",
    "    b_str = str(list(wb_prot.residues[i:i+1]))\n",
    "    if str(bh[i+1]) in b_str: \n",
    "        red_bsa.append(str(b_str[10:13])+\" \"+str(bh[i+1]))"
   ]
  },
  {
   "cell_type": "code",
   "execution_count": 18,
   "metadata": {},
   "outputs": [
    {
     "data": {
      "text/html": [
       "<div>\n",
       "<style scoped>\n",
       "    .dataframe tbody tr th:only-of-type {\n",
       "        vertical-align: middle;\n",
       "    }\n",
       "\n",
       "    .dataframe tbody tr th {\n",
       "        vertical-align: top;\n",
       "    }\n",
       "\n",
       "    .dataframe thead th {\n",
       "        text-align: right;\n",
       "    }\n",
       "</style>\n",
       "<table border=\"1\" class=\"dataframe\">\n",
       "  <thead>\n",
       "    <tr style=\"text-align: right;\">\n",
       "      <th></th>\n",
       "      <th>BSA_des_res</th>\n",
       "      <th>No. of frames (VMD)</th>\n",
       "      <th>Mda_frames</th>\n",
       "    </tr>\n",
       "  </thead>\n",
       "  <tbody>\n",
       "    <tr>\n",
       "      <th>578</th>\n",
       "      <td>GLN 579</td>\n",
       "      <td>1002</td>\n",
       "      <td>1001</td>\n",
       "    </tr>\n",
       "    <tr>\n",
       "      <th>579</th>\n",
       "      <td>THR 580</td>\n",
       "      <td>1002</td>\n",
       "      <td>1001</td>\n",
       "    </tr>\n",
       "    <tr>\n",
       "      <th>580</th>\n",
       "      <td>ALA 581</td>\n",
       "      <td>1002</td>\n",
       "      <td>1001</td>\n",
       "    </tr>\n",
       "    <tr>\n",
       "      <th>581</th>\n",
       "      <td>LEU 582</td>\n",
       "      <td>1002</td>\n",
       "      <td>1001</td>\n",
       "    </tr>\n",
       "    <tr>\n",
       "      <th>582</th>\n",
       "      <td>ALA 583</td>\n",
       "      <td>0</td>\n",
       "      <td>1001</td>\n",
       "    </tr>\n",
       "  </tbody>\n",
       "</table>\n",
       "</div>"
      ],
      "text/plain": [
       "    BSA_des_res  No. of frames (VMD)  Mda_frames\n",
       "578     GLN 579                 1002        1001\n",
       "579     THR 580                 1002        1001\n",
       "580     ALA 581                 1002        1001\n",
       "581     LEU 582                 1002        1001\n",
       "582     ALA 583                    0        1001"
      ]
     },
     "execution_count": 18,
     "metadata": {},
     "output_type": "execute_result"
    }
   ],
   "source": [
    "wat_data[\"BSA_des_res\"] = red_bsa\n",
    "wat_data.tail()"
   ]
  },
  {
   "cell_type": "code",
   "execution_count": 19,
   "metadata": {},
   "outputs": [],
   "source": [
    "# From MD Analysis\n",
    "#Get the count of bsa residues that have 1001 or 1002 frames ( I ran a 1 ns NPT simulation of 1 BSA in water )\n",
    "\n",
    "#aa_count = pd.DataFrame(data=a_a)\n",
    "c_list = []\n",
    "\n",
    "for i in range(len(a_a)):\n",
    "    count = 0\n",
    "    for index, row in wat_data.iterrows():\n",
    "        if a_a[i] in row[\"BSA_des_res\"]:\n",
    "            if row['Mda_frames'] == 1001: \n",
    "                count += 1\n",
    "                #c_list.append(str(str(a_a[i])+\"  \"+str(row['No. of frames']))) \n",
    "            elif row['Mda_frames'] == 1000:\n",
    "                count += 1\n",
    "                #c_list.append(str(str(a_a[i])+\"  \"+str(row['No. of frames'])))\n",
    "    c_list.append(str(str(a_a[i])+\"  \"+str(count)))\n",
    "    \n",
    "#c_list"
   ]
  },
  {
   "cell_type": "code",
   "execution_count": 20,
   "metadata": {},
   "outputs": [
    {
     "data": {
      "text/plain": [
       "['GLY  11',\n",
       " 'ALA  39',\n",
       " 'VAL  19',\n",
       " 'LEU  34',\n",
       " 'ILE  7',\n",
       " 'MET  3',\n",
       " 'PHE  20',\n",
       " 'TRP  2',\n",
       " 'PRO  27',\n",
       " 'SER  23',\n",
       " 'THR  29',\n",
       " 'CYS  24',\n",
       " 'TYR  19',\n",
       " 'ASN  14',\n",
       " 'GLN  19',\n",
       " 'ASP  40',\n",
       " 'GLU  59',\n",
       " 'LYS  59',\n",
       " 'ARG  23',\n",
       " 'HIS  16']"
      ]
     },
     "execution_count": 20,
     "metadata": {},
     "output_type": "execute_result"
    }
   ],
   "source": [
    "c_list"
   ]
  },
  {
   "cell_type": "code",
   "execution_count": 21,
   "metadata": {},
   "outputs": [],
   "source": [
    "# From VMD\n",
    "#Get the count of bsa residues that have 1001 or 1002 frames ( I ran a 1 ns NPT simulation of 1 BSA in water )\n",
    "\n",
    "#aa_count = pd.DataFrame(data=a_a)\n",
    "vmd_list = []\n",
    "\n",
    "for i in range(len(a_a)):\n",
    "    count = 0\n",
    "    for index, row in wat_data.iterrows():\n",
    "        if a_a[i] in row[\"BSA_des_res\"]:\n",
    "            if row[\"No. of frames (VMD)\"] == 1001: \n",
    "                count += 1\n",
    "                #c_list.append(str(str(a_a[i])+\"  \"+str(row['No. of frames']))) \n",
    "            elif row[\"No. of frames (VMD)\"] == 1002:\n",
    "                count += 1\n",
    "                #c_list.append(str(str(a_a[i])+\"  \"+str(row['No. of frames'])))\n",
    "    vmd_list.append(str(str(a_a[i])+\"  \"+str(count)))\n",
    "\n",
    "# Main difference is that Alanine 583 is counted for all 1001 frames. It seems VMD is unable to calc dist for that res\n",
    "#vmd_list"
   ]
  },
  {
   "cell_type": "code",
   "execution_count": 22,
   "metadata": {},
   "outputs": [
    {
     "data": {
      "text/html": [
       "<div>\n",
       "<style scoped>\n",
       "    .dataframe tbody tr th:only-of-type {\n",
       "        vertical-align: middle;\n",
       "    }\n",
       "\n",
       "    .dataframe tbody tr th {\n",
       "        vertical-align: top;\n",
       "    }\n",
       "\n",
       "    .dataframe thead th {\n",
       "        text-align: right;\n",
       "    }\n",
       "</style>\n",
       "<table border=\"1\" class=\"dataframe\">\n",
       "  <thead>\n",
       "    <tr style=\"text-align: right;\">\n",
       "      <th></th>\n",
       "      <th>Amino_acids</th>\n",
       "      <th>No_of_surf_res (MDAnalysis)</th>\n",
       "      <th>No_of_surf_res (VMD)</th>\n",
       "    </tr>\n",
       "  </thead>\n",
       "  <tbody>\n",
       "    <tr>\n",
       "      <th>0</th>\n",
       "      <td>LYS</td>\n",
       "      <td>59</td>\n",
       "      <td>59</td>\n",
       "    </tr>\n",
       "    <tr>\n",
       "      <th>1</th>\n",
       "      <td>ARG</td>\n",
       "      <td>23</td>\n",
       "      <td>23</td>\n",
       "    </tr>\n",
       "    <tr>\n",
       "      <th>2</th>\n",
       "      <td>HIS</td>\n",
       "      <td>16</td>\n",
       "      <td>16</td>\n",
       "    </tr>\n",
       "    <tr>\n",
       "      <th>3</th>\n",
       "      <td>ASP</td>\n",
       "      <td>40</td>\n",
       "      <td>40</td>\n",
       "    </tr>\n",
       "    <tr>\n",
       "      <th>4</th>\n",
       "      <td>GLU</td>\n",
       "      <td>59</td>\n",
       "      <td>59</td>\n",
       "    </tr>\n",
       "    <tr>\n",
       "      <th>5</th>\n",
       "      <td>SER</td>\n",
       "      <td>23</td>\n",
       "      <td>23</td>\n",
       "    </tr>\n",
       "    <tr>\n",
       "      <th>6</th>\n",
       "      <td>THR</td>\n",
       "      <td>29</td>\n",
       "      <td>29</td>\n",
       "    </tr>\n",
       "    <tr>\n",
       "      <th>7</th>\n",
       "      <td>CYS</td>\n",
       "      <td>24</td>\n",
       "      <td>24</td>\n",
       "    </tr>\n",
       "    <tr>\n",
       "      <th>8</th>\n",
       "      <td>TYR</td>\n",
       "      <td>19</td>\n",
       "      <td>19</td>\n",
       "    </tr>\n",
       "    <tr>\n",
       "      <th>9</th>\n",
       "      <td>ASN</td>\n",
       "      <td>14</td>\n",
       "      <td>14</td>\n",
       "    </tr>\n",
       "    <tr>\n",
       "      <th>10</th>\n",
       "      <td>GLN</td>\n",
       "      <td>19</td>\n",
       "      <td>19</td>\n",
       "    </tr>\n",
       "    <tr>\n",
       "      <th>11</th>\n",
       "      <td>GLY</td>\n",
       "      <td>11</td>\n",
       "      <td>11</td>\n",
       "    </tr>\n",
       "    <tr>\n",
       "      <th>12</th>\n",
       "      <td>ALA</td>\n",
       "      <td>39</td>\n",
       "      <td>38</td>\n",
       "    </tr>\n",
       "    <tr>\n",
       "      <th>13</th>\n",
       "      <td>VAL</td>\n",
       "      <td>19</td>\n",
       "      <td>19</td>\n",
       "    </tr>\n",
       "    <tr>\n",
       "      <th>14</th>\n",
       "      <td>LEU</td>\n",
       "      <td>34</td>\n",
       "      <td>34</td>\n",
       "    </tr>\n",
       "    <tr>\n",
       "      <th>15</th>\n",
       "      <td>ILE</td>\n",
       "      <td>7</td>\n",
       "      <td>7</td>\n",
       "    </tr>\n",
       "    <tr>\n",
       "      <th>16</th>\n",
       "      <td>MET</td>\n",
       "      <td>3</td>\n",
       "      <td>3</td>\n",
       "    </tr>\n",
       "    <tr>\n",
       "      <th>17</th>\n",
       "      <td>PHE</td>\n",
       "      <td>20</td>\n",
       "      <td>20</td>\n",
       "    </tr>\n",
       "    <tr>\n",
       "      <th>18</th>\n",
       "      <td>TRP</td>\n",
       "      <td>2</td>\n",
       "      <td>2</td>\n",
       "    </tr>\n",
       "    <tr>\n",
       "      <th>19</th>\n",
       "      <td>PRO</td>\n",
       "      <td>27</td>\n",
       "      <td>27</td>\n",
       "    </tr>\n",
       "  </tbody>\n",
       "</table>\n",
       "</div>"
      ],
      "text/plain": [
       "   Amino_acids  No_of_surf_res (MDAnalysis)  No_of_surf_res (VMD)\n",
       "0          LYS                           59                    59\n",
       "1          ARG                           23                    23\n",
       "2          HIS                           16                    16\n",
       "3          ASP                           40                    40\n",
       "4          GLU                           59                    59\n",
       "5          SER                           23                    23\n",
       "6          THR                           29                    29\n",
       "7          CYS                           24                    24\n",
       "8          TYR                           19                    19\n",
       "9          ASN                           14                    14\n",
       "10         GLN                           19                    19\n",
       "11         GLY                           11                    11\n",
       "12         ALA                           39                    38\n",
       "13         VAL                           19                    19\n",
       "14         LEU                           34                    34\n",
       "15         ILE                            7                     7\n",
       "16         MET                            3                     3\n",
       "17         PHE                           20                    20\n",
       "18         TRP                            2                     2\n",
       "19         PRO                           27                    27"
      ]
     },
     "execution_count": 22,
     "metadata": {},
     "output_type": "execute_result"
    }
   ],
   "source": [
    "# Put the AA count in a pandas dataframe \n",
    "dg , ji = AA_list_org(c_list)\n",
    "aa_count = pd.DataFrame(data=dg, index=None, columns=['Amino_acids'])\n",
    "new_lf = pd.Series(data=ji, index=None)\n",
    "vmg, vmdj = AA_list_org(vmd_list)\n",
    "n2lf = pd.Series(data=vmdj, index=None)\n",
    "aa_count['No_of_surf_res (MDAnalysis)'] = new_lf\n",
    "aa_count['No_of_surf_res (VMD)'] = n2lf\n",
    "aa_count"
   ]
  },
  {
   "cell_type": "code",
   "execution_count": 23,
   "metadata": {},
   "outputs": [
    {
     "data": {
      "text/plain": [
       "<matplotlib.legend.Legend at 0xd2137fdd8>"
      ]
     },
     "execution_count": 23,
     "metadata": {},
     "output_type": "execute_result"
    },
    {
     "data": {
      "image/png": "[encoded data removed]",
      "text/plain": [
       "<Figure size 720x576 with 1 Axes>"
      ]
     },
     "metadata": {
      "needs_background": "light"
     },
     "output_type": "display_data"
    }
   ],
   "source": [
    "#plotting \n",
    "#Change order of residues before making the bar graph\n",
    "# (!) Positively charged\n",
    "# (2) Negatively charged\n",
    "# (3) Polar residues \n",
    "# (4) Hydrophobic residues \n",
    "x = np.arange(20)\n",
    "leg = ['Positively Charged', 'Negatively Charged', 'Polar', 'Hydrophobic']\n",
    "plt.figure(figsize=(10,8))\n",
    "plt.bar(x[0:3], aa_count['No_of_surf_res (MDAnalysis)'][0:3], color='blue')\n",
    "plt.bar(x[3:5], aa_count['No_of_surf_res (MDAnalysis)'][3:5], color='red')\n",
    "plt.bar(x[5:11], aa_count['No_of_surf_res (MDAnalysis)'][5:11], color='magenta')\n",
    "plt.bar(x[11:20], aa_count['No_of_surf_res (MDAnalysis)'][11:20], color='cyan')\n",
    "plt.xticks(x,aa_count['Amino_acids'])\n",
    "plt.legend(leg)"
   ]
  },
  {
   "cell_type": "markdown",
   "metadata": {},
   "source": [
    "### Now to finally calculate total fraction of contacts for 1.2 nm Rg trajectory "
   ]
  },
  {
   "cell_type": "markdown",
   "metadata": {},
   "source": [
    "Load the rg = 1.2 nm (3 PLGA N = 20 oligomer/BSA system) "
   ]
  },
  {
   "cell_type": "code",
   "execution_count": 24,
   "metadata": {},
   "outputs": [],
   "source": [
    "# Set up the MD Simulation\n",
    "u_pn20 = mda.Universe(\"../1.2nm_bsa_prod/k4000_plumed/sys_conf.gro\", \"../1.2nm_bsa_prod/k4000_plumed/pp_sys.xtc\")"
   ]
  },
  {
   "cell_type": "code",
   "execution_count": 25,
   "metadata": {},
   "outputs": [
    {
     "data": {
      "text/plain": [
       "<Universe with 10148 atoms>"
      ]
     },
     "execution_count": 25,
     "metadata": {},
     "output_type": "execute_result"
    }
   ],
   "source": [
    "u_pn20"
   ]
  },
  {
   "cell_type": "markdown",
   "metadata": {},
   "source": [
    "Check that we are on the first frame"
   ]
  },
  {
   "cell_type": "code",
   "execution_count": 163,
   "metadata": {},
   "outputs": [
    {
     "data": {
      "text/plain": [
       "0"
      ]
     },
     "execution_count": 163,
     "metadata": {},
     "output_type": "execute_result"
    }
   ],
   "source": [
    "u_pn20.trajectory.frame"
   ]
  },
  {
   "cell_type": "code",
   "execution_count": 27,
   "metadata": {},
   "outputs": [
    {
     "data": {
      "text/plain": [
       "10001"
      ]
     },
     "execution_count": 27,
     "metadata": {},
     "output_type": "execute_result"
    }
   ],
   "source": [
    "pn20_len = len(u_pn20.trajectory)\n",
    "pn20_len"
   ]
  },
  {
   "cell_type": "code",
   "execution_count": 28,
   "metadata": {},
   "outputs": [
    {
     "data": {
      "text/plain": [
       "<AtomGroup with 486 atoms>"
      ]
     },
     "execution_count": 28,
     "metadata": {},
     "output_type": "execute_result"
    }
   ],
   "source": [
    "# Select the center PLGA residue atoms, heavy atoms only\n",
    "pn20_cent = u_pn20.select_atoms(\"resname PLG and not type H\")\n",
    "pn20_cent"
   ]
  },
  {
   "cell_type": "code",
   "execution_count": 29,
   "metadata": {},
   "outputs": [
    {
     "data": {
      "text/plain": [
       "<AtomGroup with 57 atoms>"
      ]
     },
     "execution_count": 29,
     "metadata": {},
     "output_type": "execute_result"
    }
   ],
   "source": [
    "# Select the terminal PLGA residues, heavy atoms only \n",
    "pn20_term = u_pn20.select_atoms(\"resname sPLG tPLG and not type H\")\n",
    "pn20_term"
   ]
  },
  {
   "cell_type": "code",
   "execution_count": 30,
   "metadata": {},
   "outputs": [
    {
     "data": {
      "text/plain": [
       "<AtomGroup with 543 atoms>"
      ]
     },
     "execution_count": 30,
     "metadata": {},
     "output_type": "execute_result"
    }
   ],
   "source": [
    "#Select all the PLGA residues, heavy atoms only \n",
    "all_pn20 = u_pn20.select_atoms(\"resname sPLG PLG tPLG and not type H\")\n",
    "all_pn20"
   ]
  },
  {
   "cell_type": "code",
   "execution_count": null,
   "metadata": {},
   "outputs": [],
   "source": [
    "list(u_pn20.select_atoms(\"resname PLG and (resid 2 and not type H)\"))"
   ]
  },
  {
   "cell_type": "code",
   "execution_count": 31,
   "metadata": {},
   "outputs": [
    {
     "data": {
      "text/plain": [
       "<AtomGroup with 4653 atoms>"
      ]
     },
     "execution_count": 31,
     "metadata": {},
     "output_type": "execute_result"
    }
   ],
   "source": [
    "# Select BSA residues, heavy atoms only \n",
    "prot = u_pn20.select_atoms(\"protein and not type H\")\n",
    "prot"
   ]
  },
  {
   "cell_type": "markdown",
   "metadata": {},
   "source": [
    "Calculate AA frame counts for PLGA residues, 1.2 nm RG restraint, 100ns trajectory "
   ]
  },
  {
   "cell_type": "code",
   "execution_count": 164,
   "metadata": {},
   "outputs": [
    {
     "data": {
      "text/plain": [
       "399.9541099170019"
      ]
     },
     "execution_count": 164,
     "metadata": {},
     "output_type": "execute_result"
    }
   ],
   "source": [
    "#dmax = 4.0, protein group(4653 atoms), plga atom group (543 atoms), took 381.6 s (6 min 36s on 4 cores)\n",
    "start = 0\n",
    "end = pn20_len - 1\n",
    "s_time = timeit.default_timer()\n",
    "h2di = aa_frmcount(prot, all_pn20, dmax, u_pn20, start, end)\n",
    "timeit.default_timer() - s_time"
   ]
  },
  {
   "cell_type": "code",
   "execution_count": 165,
   "metadata": {},
   "outputs": [
    {
     "data": {
      "text/plain": [
       "{'<Residue LYS, 41>': [135.0, 0.0135],\n",
       " '<Residue LEU, 42>': [4.0, 0.0004],\n",
       " '<Residue GLU, 45>': [80.0, 0.008],\n",
       " '<Residue ALA, 60>': [13.0, 0.0013],\n",
       " '<Residue ASP, 72>': [10.0, 0.001],\n",
       " '<Residue GLU, 73>': [3.0, 0.0003],\n",
       " '<Residue CYS, 75>': [408.0, 0.0408],\n",
       " '<Residue LYS, 76>': [571.0, 0.0571],\n",
       " '<Residue VAL, 77>': [155.0, 0.0155],\n",
       " '<Residue ALA, 78>': [734.0, 0.0734],\n",
       " '<Residue SER, 79>': [128.0, 0.0128],\n",
       " '<Residue LEU, 80>': [1.0, 0.0001],\n",
       " '<Residue ARG, 81>': [816.0, 0.0816],\n",
       " '<Residue GLU, 82>': [577.0, 0.0577],\n",
       " '<Residue GLY, 85>': [61.0, 0.0061],\n",
       " '<Residue ASP, 86>': [15.0, 0.0015],\n",
       " '<Residue ALA, 88>': [260.0, 0.026],\n",
       " '<Residue ASP, 89>': [307.0, 0.0307],\n",
       " '<Residue CYS, 91>': [301.0, 0.0301],\n",
       " '<Residue GLU, 92>': [627.0, 0.0627],\n",
       " '<Residue LYS, 93>': [154.0, 0.0154],\n",
       " '<Residue GLN, 94>': [153.0, 0.0153],\n",
       " '<Residue GLU, 95>': [5.0, 0.0005],\n",
       " '<Residue GLU, 97>': [101.0, 0.0101],\n",
       " '<Residue GLU, 166>': [119.0, 0.0119],\n",
       " '<Residue CYS, 167>': [2.0, 0.0002],\n",
       " '<Residue GLN, 169>': [34.0, 0.0034],\n",
       " '<Residue CYS, 176>': [8.0, 0.0008],\n",
       " '<Residue LYS, 180>': [71.0, 0.0071],\n",
       " '<Residue THR, 305>': [182.0, 0.0182],\n",
       " '<Residue ALA, 306>': [22.0, 0.0022],\n",
       " '<Residue ALA, 309>': [430.0, 0.043],\n",
       " '<Residue GLU, 310>': [722.0, 0.0722],\n",
       " '<Residue ASP, 311>': [2.0, 0.0002],\n",
       " '<Residue LYS, 312>': [51.0, 0.0051],\n",
       " '<Residue LYS, 362>': [6.0, 0.0006],\n",
       " '<Residue ASP, 363>': [29.0, 0.0029],\n",
       " '<Residue ASP, 364>': [120.0, 0.012],\n",
       " '<Residue HIS, 366>': [187.0, 0.0187],\n",
       " '<Residue ALA, 367>': [310.0, 0.031],\n",
       " '<Residue CYS, 368>': [3.0, 0.0003],\n",
       " '<Residue SER, 370>': [601.0, 0.0601],\n",
       " '<Residue THR, 371>': [448.0, 0.0448],\n",
       " '<Residue PHE, 373>': [8.0, 0.0008],\n",
       " '<Residue ASP, 374>': [635.0, 0.0635],\n",
       " '<Residue LYS, 375>': [49.0, 0.0049],\n",
       " '<Residue LYS, 377>': [527.0, 0.0527],\n",
       " '<Residue HIS, 378>': [1531.0, 0.1531],\n",
       " '<Residue LEU, 379>': [1.0, 0.0001],\n",
       " '<Residue ASP, 381>': [1320.0, 0.132],\n",
       " '<Residue GLU, 382>': [1072.0, 0.1072],\n",
       " '<Residue GLN, 384>': [24.0, 0.0024],\n",
       " '<Residue ASN, 385>': [3139.0, 0.3139],\n",
       " '<Residue LEU, 386>': [275.0, 0.0275],\n",
       " '<Residue LYS, 388>': [3783.0, 0.3783],\n",
       " '<Residue GLN, 389>': [3009.0, 0.3009],\n",
       " '<Residue ASN, 390>': [70.0, 0.007],\n",
       " '<Residue ASP, 392>': [2726.0, 0.2726],\n",
       " '<Residue GLN, 393>': [983.0, 0.0983],\n",
       " '<Residue PHE, 394>': [1603.0, 0.1603],\n",
       " '<Residue GLU, 395>': [5093.0, 0.5093],\n",
       " '<Residue LYS, 396>': [6371.0, 0.6371],\n",
       " '<Residue LEU, 397>': [4910.0, 0.491],\n",
       " '<Residue GLY, 398>': [4931.0, 0.4931],\n",
       " '<Residue GLU, 399>': [2553.0, 0.2553],\n",
       " '<Residue TYR, 400>': [2582.0, 0.2582],\n",
       " '<Residue GLY, 401>': [456.0, 0.0456],\n",
       " '<Residue GLN, 403>': [541.0, 0.0541],\n",
       " '<Residue ASN, 404>': [17.0, 0.0017],\n",
       " '<Residue ALA, 405>': [1.0, 0.0001],\n",
       " '<Residue ARG, 409>': [1218.0, 0.1218],\n",
       " '<Residue ARG, 412>': [3044.0, 0.3044],\n",
       " '<Residue LYS, 413>': [611.0, 0.0611],\n",
       " '<Residue PRO, 415>': [2.0, 0.0002],\n",
       " '<Residue ARG, 427>': [2.0, 0.0002],\n",
       " '<Residue THR, 434>': [532.0, 0.0532],\n",
       " '<Residue CYS, 437>': [3.0, 0.0003],\n",
       " '<Residue THR, 438>': [480.0, 0.048],\n",
       " '<Residue LYS, 439>': [1.0, 0.0001],\n",
       " '<Residue PRO, 440>': [9.0, 0.0009],\n",
       " '<Residue GLU, 441>': [71.0, 0.0071],\n",
       " '<Residue ARG, 444>': [131.0, 0.0131],\n",
       " '<Residue LYS, 471>': [4.0, 0.0004],\n",
       " '<Residue PRO, 485>': [4.0, 0.0004],\n",
       " '<Residue PHE, 487>': [8.0, 0.0008],\n",
       " '<Residue SER, 488>': [355.0, 0.0355],\n",
       " '<Residue ALA, 489>': [337.0, 0.0337],\n",
       " '<Residue LEU, 490>': [525.0, 0.0525],\n",
       " '<Residue THR, 491>': [505.0, 0.0505],\n",
       " '<Residue PRO, 492>': [3143.0, 0.3143],\n",
       " '<Residue ASP, 493>': [697.0, 0.0697],\n",
       " '<Residue GLU, 494>': [667.0, 0.0667],\n",
       " '<Residue TYR, 496>': [1.0, 0.0001],\n",
       " '<Residue ASP, 517>': [418.0, 0.0418],\n",
       " '<Residue THR, 518>': [127.0, 0.0127],\n",
       " '<Residue LYS, 520>': [73.0, 0.0073],\n",
       " '<Residue GLN, 521>': [1711.0, 0.1711],\n",
       " '<Residue LYS, 524>': [518.0, 0.0518],\n",
       " '<Residue GLN, 525>': [1.0, 0.0001],\n",
       " '<Residue PRO, 536>': [2481.0, 0.2481],\n",
       " '<Residue LYS, 537>': [2939.0, 0.2939],\n",
       " '<Residue ALA, 538>': [1991.0, 0.1991],\n",
       " '<Residue THR, 539>': [2397.0, 0.2397],\n",
       " '<Residue GLU, 540>': [1814.0, 0.1814],\n",
       " '<Residue GLU, 541>': [2858.0, 0.2858],\n",
       " '<Residue GLN, 542>': [265.0, 0.0265],\n",
       " '<Residue LYS, 544>': [1831.0, 0.1831],\n",
       " '<Residue THR, 545>': [628.0, 0.0628],\n",
       " '<Residue MET, 547>': [110.0, 0.011],\n",
       " '<Residue GLU, 548>': [2374.0, 0.2374],\n",
       " '<Residue ASN, 549>': [7.0, 0.0007],\n",
       " '<Residue VAL, 551>': [2199.0, 0.2199],\n",
       " '<Residue ALA, 552>': [879.0, 0.0879],\n",
       " '<Residue ASP, 555>': [1633.0, 0.1633],\n",
       " '<Residue LYS, 556>': [573.0, 0.0573],\n",
       " '<Residue CYS, 558>': [9.0, 0.0009],\n",
       " '<Residue ALA, 559>': [546.0, 0.0546],\n",
       " '<Residue THR, 580>': [2.0, 0.0002],\n",
       " '<Residue ALA, 581>': [51.0, 0.0051],\n",
       " '<Residue ALA, 583>': [3.0, 0.0003]}"
      ]
     },
     "execution_count": 165,
     "metadata": {},
     "output_type": "execute_result"
    }
   ],
   "source": [
    "h2di"
   ]
  },
  {
   "cell_type": "code",
   "execution_count": 166,
   "metadata": {},
   "outputs": [
    {
     "data": {
      "text/plain": [
       "120"
      ]
     },
     "execution_count": 166,
     "metadata": {},
     "output_type": "execute_result"
    }
   ],
   "source": [
    "len(h2di.keys())"
   ]
  },
  {
   "cell_type": "code",
   "execution_count": 167,
   "metadata": {},
   "outputs": [
    {
     "data": {
      "text/html": [
       "<div>\n",
       "<style scoped>\n",
       "    .dataframe tbody tr th:only-of-type {\n",
       "        vertical-align: middle;\n",
       "    }\n",
       "\n",
       "    .dataframe tbody tr th {\n",
       "        vertical-align: top;\n",
       "    }\n",
       "\n",
       "    .dataframe thead th {\n",
       "        text-align: right;\n",
       "    }\n",
       "</style>\n",
       "<table border=\"1\" class=\"dataframe\">\n",
       "  <thead>\n",
       "    <tr style=\"text-align: right;\">\n",
       "      <th></th>\n",
       "      <th>BSA_des_res</th>\n",
       "      <th>mda_plga_frm_1.2nm</th>\n",
       "    </tr>\n",
       "  </thead>\n",
       "  <tbody>\n",
       "    <tr>\n",
       "      <th>0</th>\n",
       "      <td>ASP 1</td>\n",
       "      <td>0.0</td>\n",
       "    </tr>\n",
       "    <tr>\n",
       "      <th>1</th>\n",
       "      <td>THR 2</td>\n",
       "      <td>0.0</td>\n",
       "    </tr>\n",
       "    <tr>\n",
       "      <th>2</th>\n",
       "      <td>HIS 3</td>\n",
       "      <td>0.0</td>\n",
       "    </tr>\n",
       "    <tr>\n",
       "      <th>3</th>\n",
       "      <td>LYS 4</td>\n",
       "      <td>0.0</td>\n",
       "    </tr>\n",
       "    <tr>\n",
       "      <th>4</th>\n",
       "      <td>SER 5</td>\n",
       "      <td>0.0</td>\n",
       "    </tr>\n",
       "  </tbody>\n",
       "</table>\n",
       "</div>"
      ],
      "text/plain": [
       "  BSA_des_res  mda_plga_frm_1.2nm\n",
       "0       ASP 1                 0.0\n",
       "1       THR 2                 0.0\n",
       "2       HIS 3                 0.0\n",
       "3       LYS 4                 0.0\n",
       "4       SER 5                 0.0"
      ]
     },
     "execution_count": 167,
     "metadata": {},
     "output_type": "execute_result"
    }
   ],
   "source": [
    "pr_res = list(prot.residues)\n",
    "ss_res = [str(row) for row in pr_res]\n",
    "rkg = {key:h2di[key][0] for key, value in h2di.items()}\n",
    "plg_1_2nmaa = pd.DataFrame(data=ss_res, columns=[\"BSA_des_res\"])\n",
    "plg_1_2nmaa['mda_plga_frm_1.2nm'] = plg_1_2nmaa['BSA_des_res'].map(rkg)\n",
    "plg_1_2nmaa['BSA_des_res'] = red_bsa\n",
    "plg_1_2nmaa['mda_plga_frm_1.2nm'] = plg_1_2nmaa['mda_plga_frm_1.2nm'].replace('nan', np.nan).fillna(0)\n",
    "plg_1_2nmaa.head()"
   ]
  },
  {
   "cell_type": "code",
   "execution_count": 168,
   "metadata": {},
   "outputs": [
    {
     "data": {
      "text/html": [
       "<div>\n",
       "<style scoped>\n",
       "    .dataframe tbody tr th:only-of-type {\n",
       "        vertical-align: middle;\n",
       "    }\n",
       "\n",
       "    .dataframe tbody tr th {\n",
       "        vertical-align: top;\n",
       "    }\n",
       "\n",
       "    .dataframe thead th {\n",
       "        text-align: right;\n",
       "    }\n",
       "</style>\n",
       "<table border=\"1\" class=\"dataframe\">\n",
       "  <thead>\n",
       "    <tr style=\"text-align: right;\">\n",
       "      <th></th>\n",
       "      <th>Amino_acids</th>\n",
       "      <th>No_of_surf_res (MDAnalysis)</th>\n",
       "      <th>No_of_surf_res (VMD)</th>\n",
       "      <th>plga_1.2nm_100ns</th>\n",
       "    </tr>\n",
       "  </thead>\n",
       "  <tbody>\n",
       "    <tr>\n",
       "      <th>0</th>\n",
       "      <td>LYS</td>\n",
       "      <td>59</td>\n",
       "      <td>59</td>\n",
       "      <td>18</td>\n",
       "    </tr>\n",
       "    <tr>\n",
       "      <th>1</th>\n",
       "      <td>ARG</td>\n",
       "      <td>23</td>\n",
       "      <td>23</td>\n",
       "      <td>5</td>\n",
       "    </tr>\n",
       "    <tr>\n",
       "      <th>2</th>\n",
       "      <td>HIS</td>\n",
       "      <td>16</td>\n",
       "      <td>16</td>\n",
       "      <td>2</td>\n",
       "    </tr>\n",
       "    <tr>\n",
       "      <th>3</th>\n",
       "      <td>ASP</td>\n",
       "      <td>40</td>\n",
       "      <td>40</td>\n",
       "      <td>12</td>\n",
       "    </tr>\n",
       "    <tr>\n",
       "      <th>4</th>\n",
       "      <td>GLU</td>\n",
       "      <td>59</td>\n",
       "      <td>59</td>\n",
       "      <td>16</td>\n",
       "    </tr>\n",
       "    <tr>\n",
       "      <th>5</th>\n",
       "      <td>SER</td>\n",
       "      <td>23</td>\n",
       "      <td>23</td>\n",
       "      <td>3</td>\n",
       "    </tr>\n",
       "    <tr>\n",
       "      <th>6</th>\n",
       "      <td>THR</td>\n",
       "      <td>29</td>\n",
       "      <td>29</td>\n",
       "      <td>9</td>\n",
       "    </tr>\n",
       "    <tr>\n",
       "      <th>7</th>\n",
       "      <td>CYS</td>\n",
       "      <td>24</td>\n",
       "      <td>24</td>\n",
       "      <td>7</td>\n",
       "    </tr>\n",
       "    <tr>\n",
       "      <th>8</th>\n",
       "      <td>TYR</td>\n",
       "      <td>19</td>\n",
       "      <td>19</td>\n",
       "      <td>2</td>\n",
       "    </tr>\n",
       "    <tr>\n",
       "      <th>9</th>\n",
       "      <td>ASN</td>\n",
       "      <td>14</td>\n",
       "      <td>14</td>\n",
       "      <td>4</td>\n",
       "    </tr>\n",
       "    <tr>\n",
       "      <th>10</th>\n",
       "      <td>GLN</td>\n",
       "      <td>19</td>\n",
       "      <td>19</td>\n",
       "      <td>9</td>\n",
       "    </tr>\n",
       "    <tr>\n",
       "      <th>11</th>\n",
       "      <td>GLY</td>\n",
       "      <td>11</td>\n",
       "      <td>11</td>\n",
       "      <td>3</td>\n",
       "    </tr>\n",
       "    <tr>\n",
       "      <th>12</th>\n",
       "      <td>ALA</td>\n",
       "      <td>39</td>\n",
       "      <td>38</td>\n",
       "      <td>13</td>\n",
       "    </tr>\n",
       "    <tr>\n",
       "      <th>13</th>\n",
       "      <td>VAL</td>\n",
       "      <td>19</td>\n",
       "      <td>19</td>\n",
       "      <td>2</td>\n",
       "    </tr>\n",
       "    <tr>\n",
       "      <th>14</th>\n",
       "      <td>LEU</td>\n",
       "      <td>34</td>\n",
       "      <td>34</td>\n",
       "      <td>6</td>\n",
       "    </tr>\n",
       "    <tr>\n",
       "      <th>15</th>\n",
       "      <td>ILE</td>\n",
       "      <td>7</td>\n",
       "      <td>7</td>\n",
       "      <td>0</td>\n",
       "    </tr>\n",
       "    <tr>\n",
       "      <th>16</th>\n",
       "      <td>MET</td>\n",
       "      <td>3</td>\n",
       "      <td>3</td>\n",
       "      <td>1</td>\n",
       "    </tr>\n",
       "    <tr>\n",
       "      <th>17</th>\n",
       "      <td>PHE</td>\n",
       "      <td>20</td>\n",
       "      <td>20</td>\n",
       "      <td>3</td>\n",
       "    </tr>\n",
       "    <tr>\n",
       "      <th>18</th>\n",
       "      <td>TRP</td>\n",
       "      <td>2</td>\n",
       "      <td>2</td>\n",
       "      <td>0</td>\n",
       "    </tr>\n",
       "    <tr>\n",
       "      <th>19</th>\n",
       "      <td>PRO</td>\n",
       "      <td>27</td>\n",
       "      <td>27</td>\n",
       "      <td>5</td>\n",
       "    </tr>\n",
       "  </tbody>\n",
       "</table>\n",
       "</div>"
      ],
      "text/plain": [
       "   Amino_acids  No_of_surf_res (MDAnalysis)  No_of_surf_res (VMD)  \\\n",
       "0          LYS                           59                    59   \n",
       "1          ARG                           23                    23   \n",
       "2          HIS                           16                    16   \n",
       "3          ASP                           40                    40   \n",
       "4          GLU                           59                    59   \n",
       "5          SER                           23                    23   \n",
       "6          THR                           29                    29   \n",
       "7          CYS                           24                    24   \n",
       "8          TYR                           19                    19   \n",
       "9          ASN                           14                    14   \n",
       "10         GLN                           19                    19   \n",
       "11         GLY                           11                    11   \n",
       "12         ALA                           39                    38   \n",
       "13         VAL                           19                    19   \n",
       "14         LEU                           34                    34   \n",
       "15         ILE                            7                     7   \n",
       "16         MET                            3                     3   \n",
       "17         PHE                           20                    20   \n",
       "18         TRP                            2                     2   \n",
       "19         PRO                           27                    27   \n",
       "\n",
       "    plga_1.2nm_100ns  \n",
       "0                 18  \n",
       "1                  5  \n",
       "2                  2  \n",
       "3                 12  \n",
       "4                 16  \n",
       "5                  3  \n",
       "6                  9  \n",
       "7                  7  \n",
       "8                  2  \n",
       "9                  4  \n",
       "10                 9  \n",
       "11                 3  \n",
       "12                13  \n",
       "13                 2  \n",
       "14                 6  \n",
       "15                 0  \n",
       "16                 1  \n",
       "17                 3  \n",
       "18                 0  \n",
       "19                 5  "
      ]
     },
     "execution_count": 168,
     "metadata": {},
     "output_type": "execute_result"
    }
   ],
   "source": [
    "apl_list = []\n",
    "\n",
    "# Some residues don't have any contact with the 3 N = 20 PLGA oligomers within 100 ns,\n",
    "# Put residues that do have contact with BSA in a separate list\n",
    "for index, r_pl in plg_1_2nmaa.iterrows():\n",
    "    if r_pl['mda_plga_frm_1.2nm'] != 0:\n",
    "        apl_list.append(r_pl['BSA_des_res'])\n",
    "        \n",
    "# This chunk of code gets an AA count from the above list, in order \n",
    "# to get a total number of residues that contact BSA\n",
    "cpl_l = []\n",
    "\n",
    "for index, r_a in aa_count.iterrows():\n",
    "    count = 0\n",
    "    for i in range(len(apl_list)):\n",
    "        if r_a['Amino_acids'] in apl_list[i]:\n",
    "            count += 1\n",
    "    cpl_l.append(count)      \n",
    "        \n",
    "aa_count['plga_1.2nm_100ns'] = cpl_l\n",
    "aa_count"
   ]
  },
  {
   "cell_type": "code",
   "execution_count": 169,
   "metadata": {},
   "outputs": [
    {
     "data": {
      "text/plain": [
       "120"
      ]
     },
     "execution_count": 169,
     "metadata": {},
     "output_type": "execute_result"
    }
   ],
   "source": [
    "# This gives the total number of residues that are within 4 angstroms of a PLGA oligomer residue\n",
    "# within a 100 ns trajectory block\n",
    "aa_count['plga_1.2nm_100ns'].sum()"
   ]
  },
  {
   "cell_type": "code",
   "execution_count": 170,
   "metadata": {},
   "outputs": [
    {
     "data": {
      "text/plain": [
       "487"
      ]
     },
     "execution_count": 170,
     "metadata": {},
     "output_type": "execute_result"
    }
   ],
   "source": [
    "# This gives the total number of residues that are within 4 angstroms of a water molecule\n",
    "# within a 1 ns trajectory block\n",
    "aa_count['No_of_surf_res (MDAnalysis)'].sum()"
   ]
  },
  {
   "cell_type": "code",
   "execution_count": 171,
   "metadata": {},
   "outputs": [
    {
     "data": {
      "text/plain": [
       "0.2464065708418891"
      ]
     },
     "execution_count": 171,
     "metadata": {},
     "output_type": "execute_result"
    }
   ],
   "source": [
    "# This gives the total fraction of contacts within the 1.2 nm Rg 100 ns trajectory\n",
    "aa_count['plga_1.2nm_100ns'].sum()/aa_count['No_of_surf_res (MDAnalysis)'].sum()"
   ]
  },
  {
   "cell_type": "markdown",
   "metadata": {},
   "source": [
    "Calculate mean occupancy and the standard deviation for 1.2 nm trajectory\n",
    "\n",
    "Numpy mean and std function was used to calculate mean occupancy and std dev using occ values from aa_frmcount output"
   ]
  },
  {
   "cell_type": "code",
   "execution_count": 172,
   "metadata": {},
   "outputs": [
    {
     "name": "stdout",
     "output_type": "stream",
     "text": [
      "Mean Occpancy (1.2 nm Rg): 0.08163666666666666 Occ. std. dev.: 0.12385533626865748\n"
     ]
    }
   ],
   "source": [
    "# Do I average the mean occupancy across trajectory blocks or over one trajectory block (Give Details)\n",
    "ll_mo = [value[1] for key, value in h2di.items()]\n",
    "print(\"Mean Occpancy (1.2 nm Rg): \"+str(np.mean(ll_mo)), \"Occ. std. dev.: \"+str(np.std(ll_mo)))"
   ]
  },
  {
   "cell_type": "markdown",
   "metadata": {},
   "source": [
    "Write a function that calculates the average total fraction of contacts(No of residues contacted by PLGA oilgs/total no of surface residues) and their standard deviations for a given number of trajectory blocks "
   ]
  },
  {
   "cell_type": "code",
   "execution_count": 180,
   "metadata": {},
   "outputs": [
    {
     "data": {
      "text/plain": [
       "120"
      ]
     },
     "execution_count": 180,
     "metadata": {},
     "output_type": "execute_result"
    }
   ],
   "source": [
    "cd = frac_cont(h2di)\n",
    "kklh = []\n",
    "for key, value in cd.items():\n",
    "    kklh.append(value[1])\n",
    "# Must substract aromatic residues, since they are already counted\n",
    "sum(kklh) - cd['Aromatic'][1]"
   ]
  },
  {
   "cell_type": "code",
   "execution_count": null,
   "metadata": {},
   "outputs": [],
   "source": [
    "# I want a list of total fraction of contacts where length is determined by no. of blocks and a dictionary \n",
    "# of contact groups as keys and list of fractional contacts as values(length of list will be no. of blocks)\n",
    "def blkavg_cont(no_of_blks, prot_atoms, g2_atoms, dmax, universe, no_surf):\n",
    "    \n",
    "    if universe.trajectory.frame == 0:\n",
    "        \n",
    "        n = no_of_blks\n",
    "    \n",
    "        frcb = []\n",
    "        tpl = []\n",
    "        ot_dab = {}\n",
    "        end = 0\n",
    "        for i in range(n):\n",
    "            \n",
    "            universe.trajectory[end]\n",
    "            \n",
    "            start = universe.trajectory.frame\n",
    "            print(start)\n",
    "    \n",
    "            end = int(start + (len(universe.trajectory) - 1)/n)\n",
    "            print(end)\n",
    "            \n",
    "            hn_bcks = aa_frmcount(prot_atoms, g2_atoms, dmax, universe, start, end)\n",
    "            \n",
    "            ff_dict = frac_cont(hn_bcks)\n",
    "        \n",
    "            lk = len(hn_bcks.keys())\n",
    "            \n",
    "            frcb.append(lk/no_surf)\n",
    "            \n",
    "            for key, value in ff_dict.items():\n",
    "                ot_dab[key] = value[3]\n",
    "                tpl.append([key, value[3]])\n",
    "       \n",
    "    \n",
    "            \n",
    "    elif universe.trajectory.frame != 0:\n",
    "        \n",
    "        assert universe.trajectory.frame == 0, \"Universe is not at the first frame\"\n",
    "        \n",
    "    return frcb, ot_dab\n",
    "        "
   ]
  },
  {
   "cell_type": "code",
   "execution_count": null,
   "metadata": {},
   "outputs": [],
   "source": [
    "u_pn20.trajectory[0]"
   ]
  },
  {
   "cell_type": "code",
   "execution_count": null,
   "metadata": {},
   "outputs": [],
   "source": [
    "u_pn20.trajectory.frame"
   ]
  },
  {
   "cell_type": "code",
   "execution_count": null,
   "metadata": {},
   "outputs": [],
   "source": [
    "blkavg_cont(5, prot, all_pn20, dmax, u_pn20, aa_count['No_of_surf_res (MDAnalysis)'].sum())"
   ]
  },
  {
   "cell_type": "markdown",
   "metadata": {},
   "source": [
    "Write function that takes frame count and AA protein residue list (or dictionary) and gives \n",
    "\n",
    "1) AA count of residues that are in contact with polymer (1 output file) \n",
    "2) frame count, type of contact, normalized contact, and fractional contacts (1 output file) "
   ]
  },
  {
   "cell_type": "code",
   "execution_count": null,
   "metadata": {},
   "outputs": [],
   "source": []
  },
  {
   "cell_type": "code",
   "execution_count": null,
   "metadata": {},
   "outputs": [],
   "source": []
  }
 ],
 "metadata": {
  "kernelspec": {
   "display_name": "Python (ppc_env)",
   "language": "python",
   "name": "ppc_env"
  },
  "language_info": {
   "codemirror_mode": {
    "name": "ipython",
    "version": 3
   },
   "file_extension": ".py",
   "mimetype": "text/x-python",
   "name": "python",
   "nbconvert_exporter": "python",
   "pygments_lexer": "ipython3",
   "version": "3.6.8"
  }
 },
 "nbformat": 4,
 "nbformat_minor": 2
}
