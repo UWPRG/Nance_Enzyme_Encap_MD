{
 "cells": [
  {
   "cell_type": "code",
   "execution_count": 1,
   "metadata": {},
   "outputs": [],
   "source": [
    "#import the necessary modules \n",
    "%matplotlib inline \n",
    "import numpy as np \n",
    "import matplotlib.pylab as plt \n",
    "import pandas as pd \n",
    "import scipy\n",
    "import sklearn\n",
    "import itertools as it\n",
    "from itertools import cycle \n",
    "import os.path as op\n",
    "import timeit \n",
    "import json\n",
    "from matplotlib import animation\n",
    "import matplotlib.font_manager as font_manager\n",
    "\n",
    "# These imports are for creating the percent occupancy heat map \n",
    "import plotly\n",
    "import plotly.plotly as py\n",
    "import plotly.graph_objs as go"
   ]
  },
  {
   "cell_type": "code",
   "execution_count": 2,
   "metadata": {},
   "outputs": [
    {
     "data": {
      "text/plain": [
       "4"
      ]
     },
     "execution_count": 2,
     "metadata": {},
     "output_type": "execute_result"
    }
   ],
   "source": [
    "import multiprocessing as m_proc\n",
    "m_proc.cpu_count()"
   ]
  },
  {
   "cell_type": "markdown",
   "metadata": {},
   "source": [
    "### Now use MD Analysis to calculate no. of frames a center PLGA residues and terminal PLGA residue is with 4 Angstroms of BSA (1.2 nm restrained system)"
   ]
  },
  {
   "cell_type": "markdown",
   "metadata": {},
   "source": [
    "Import MDAnalysis"
   ]
  },
  {
   "cell_type": "code",
   "execution_count": 3,
   "metadata": {},
   "outputs": [],
   "source": [
    "# Import MDAnalysis\n",
    "import MDAnalysis as mda\n",
    "import MDAnalysis.analysis.distances as maa_dist"
   ]
  },
  {
   "cell_type": "markdown",
   "metadata": {},
   "source": [
    "### First table will be total fractional contacts and oligomer occupancy values for each Rg value "
   ]
  },
  {
   "cell_type": "markdown",
   "metadata": {},
   "source": [
    "#### Distance-based analysis \n",
    "\n",
    "Find residues that have at least one atom within a cutoff $d = 4.0$ Angstrom near water molecules in BSA/water simulation\n",
    "\n",
    "Calculate the number of surface bsa residues from a 1 ns BSA/water simulation"
   ]
  },
  {
   "cell_type": "code",
   "execution_count": 4,
   "metadata": {},
   "outputs": [],
   "source": [
    "#Units of Angstroms \n",
    "dmax = 4.0 "
   ]
  },
  {
   "cell_type": "code",
   "execution_count": null,
   "metadata": {},
   "outputs": [],
   "source": [
    "exp_bsa_atoms = np.any(dij_tri <= dmax, axis=1)\n",
    "\n",
    "# Boolean arrays must be of the same shape as the initial dimensions of the array being indexed.\n",
    "# In the most straightforward case, the boolean array has the same shape\n",
    "# Unlike in the case of integer index arrays, in the boolean case,\n",
    "# the result is a 1-D array containing all the elements in the indexed array corresponding\n",
    "#       to all the true elements in the boolean array.\n",
    "\n",
    "bres_wit_dmax = prot[exp_bsa_atoms].residues"
   ]
  },
  {
   "cell_type": "code",
   "execution_count": 6,
   "metadata": {},
   "outputs": [],
   "source": [
    "## Define a function that does this, Courtesy of MDAnalysis tutorial \n",
    "def get_protresd_list(prot_atoms, g2_atoms, dmax, universe):\n",
    "    \"\"\"Find all protein residues for which atoms that are within dmax\"\"\"\n",
    "    ro = len(prot_atoms)\n",
    "    cl = len(g2_atoms)\n",
    "    dij_tri = np.zeros(shape=(ro,cl))\n",
    "    dij_tri = maa_dist.distance_array(prot_atoms.positions, g2_atoms.positions, box=universe.trajectory.ts.dimensions)\n",
    "    exp_prot_atoms = np.any(dij_tri <= dmax, axis=1)\n",
    "    mk = np.array(prot_atoms[exp_prot_atoms].residues)\n",
    "    return mk"
   ]
  },
  {
   "cell_type": "code",
   "execution_count": 7,
   "metadata": {},
   "outputs": [],
   "source": [
    "# Define a function that outputs a dictionary of AA protein number and frame counts, where \n",
    "# the inputs will be number of frames, universe, prot and group 2 atom group, and dmax \n",
    "# Write function that takes a no of total frames, protein atom positions and group 2 atoms positions \n",
    "# and gives a dictionary of protein AA as keys and frame count as values \n",
    "\n",
    "def aa_frmcount(prot_atoms, g2_atoms, dmax, universe, start, end):\n",
    "    \"\"\"This function will output a dictionary of AA protein number and its corresponding frame count and occupancy\"\"\"\n",
    "    \n",
    "    aa_dict = {}\n",
    "    laa = np.zeros(shape=len(prot_atoms.residues))\n",
    "    br = np.array(prot_atoms.residues)\n",
    "    \n",
    "    for ts in universe.trajectory[start:end]: \n",
    "        count = 0\n",
    "        bsres = get_protresd_list(prot_atoms, g2_atoms, dmax, universe)\n",
    "        \n",
    "        if bsres.size == 0: \n",
    "            pass\n",
    "        elif bsres.size != 0: \n",
    "            count += 1\n",
    "            for i in bsres.flat:\n",
    "                res_ind = np.where(br == i)[0]\n",
    "                laa[res_ind[0]] = laa[res_ind[0]] + count \n",
    "                \n",
    "    fin_res = np.where(laa != 0)[0]\n",
    "    \n",
    "    # Calculate occupancy for each residue \n",
    "    for i in fin_res.flat:\n",
    "        aa_dict[str(list(prot_atoms.residues[i:i+1])[0])] = [laa[i], laa[i]/(end - start)]\n",
    "        \n",
    "    return aa_dict "
   ]
  },
  {
   "cell_type": "code",
   "execution_count": 8,
   "metadata": {},
   "outputs": [],
   "source": [
    "#This function will return number of plga monomers vs BSA AA residue group, no. of PLGA monomers will change \n",
    "# depending on current frame, output will be a dictionary of BSA AA groups as keys and PLGA monomers for each frame \n",
    "# another dictionary with each BSA residue and no. of PLGA monomers\n",
    "def grptwocnt_aa(prot_atoms, g2_atoms, dmax, universe):\n",
    "    \"\"\" This function calculates the number of PLGA monomers within 4 A of a BSA AA residue and \n",
    "    return a numpy array containing the no of PLGA monomers for each BSA AA residue at one single frame \"\"\"\n",
    "    \n",
    "    gg_dict ={}\n",
    "    \n",
    "    plga_mon = maa_dist.distance_array(g2_atoms.positions, prot_atoms.positions, box=universe.trajectory.ts.dimensions)\n",
    "    \n",
    "    plga_mon_resd = np.nonzero(plga_mon < dmax)\n",
    "    \n",
    "    # need to check how to ensure that I'm counting other PLGA oligomer residues(they all have the same resid)\n",
    "    grptwo = np.array(list(g2_atoms[plga_mon_resd[0]].resids))\n",
    "    \n",
    "    p_resds = np.array(list(prot_atoms[plga_mon_resd[1]].resids))\n",
    "    \n",
    "    kl = np.unique(grptwo)\n",
    "    \n",
    "    la = np.zeros(shape=len(prot_atoms.residues))\n",
    "\n",
    "    for i in kl.flat:\n",
    "        count = 0\n",
    "        res_ind = np.nonzero(grptwo == i)[0]\n",
    "        hu = np.unique(p_resds[res_ind])\n",
    "        count += 1\n",
    "        for j in hu.flat:\n",
    "            la[j-1] = la[j-1] + count\n",
    "\n",
    "    fin_res = np.where(la != 0)[0]\n",
    "    \n",
    "    # Calculate number of PLGA residues per AA \n",
    "    for i in fin_res.flat:\n",
    "        gg_dict[str(list(prot_atoms.residues[i:i+1])[0])] = la[i]\n",
    "\n",
    "    # Grouping of residues in Smith et al  \n",
    "    aromatic_res = ['PHE', 'TRP', 'TYR', 'HIS']\n",
    "    hydrophobic_res = ['ALA', 'ILE', 'LEU', 'VAL', 'GLY', 'PRO','PHE', 'TRP','MET']\n",
    "    polar_res = ['ASN', 'CYS', 'GLN', 'SER', 'THR','TYR']\n",
    "    neg_res = ['ASP', 'GLU']\n",
    "    pos_res = ['ARG', 'HIS', 'LYS']\n",
    "\n",
    "    frac_res = [neg_res, pos_res, polar_res, hydrophobic_res, aromatic_res]\n",
    "    \n",
    "    # For each amino acid type in frac_res, this code chunk saves the PLGA residue count in a list and sums them together to \n",
    "    # to get a total frame count within the trajectory for each AA group in frac_res\n",
    "    co_grpaa = []\n",
    "\n",
    "    for row in frac_res:\n",
    "        fr_list = []\n",
    "        for j in range(len(row)):\n",
    "            for key, value in gg_dict.items():\n",
    "                if row[j] in key:\n",
    "                    fr_list.append(value)\n",
    "        co_grpaa.append(sum(fr_list))\n",
    "        \n",
    "    return gg_dict, np.array(co_grpaa), la"
   ]
  },
  {
   "cell_type": "code",
   "execution_count": 9,
   "metadata": {},
   "outputs": [],
   "source": [
    "def gtwo_trjcnt(prot_atoms, g2_atoms, dmax, universe, start, end):\n",
    "    \"\"\"This function calcuates the average number of PLGA mononers per BSA AA group and no for each trajectory block\"\"\"\n",
    "    \n",
    "    sf_lb = [\"Negative\", \"Positive\", \"Polar\", \"Hydrophobic\", \"Aromatic\"]\n",
    "    \n",
    "    aa_dict = {}\n",
    "    \n",
    "    laa = np.zeros(shape=(len(prot_atoms.residues),1,end-start))\n",
    "    \n",
    "    trj_aa = np.zeros(shape=(len(sf_lb),1, end-start))\n",
    "    \n",
    "    l_final = np.zeros(shape=(len(prot_atoms.residues)))\n",
    "    \n",
    "    universe.trajectory[start]\n",
    "    \n",
    "    count = -1\n",
    "    \n",
    "    for ts in universe.trajectory[start:end]: \n",
    "    \n",
    "        g2_dict, fr_pres, hh_matx = grptwocnt_aa(prot_atoms, g2_atoms, dmax, universe)\n",
    "        \n",
    "        count += 1\n",
    "        \n",
    "        laa[:,0,count] = hh_matx\n",
    " \n",
    "        trj_aa[:,0,count] = fr_pres\n",
    "        \n",
    "        universe.trajectory[end]\n",
    "        \n",
    "    al_res = np.where(laa != 0)[0]\n",
    "\n",
    "    for i in al_res.flat:\n",
    "        l_final[i] = np.mean(laa[i,0,:])\n",
    "\n",
    "    for i in range(len(sf_lb)):\n",
    "        aa_dict[sf_lb[i]] = [np.mean(trj_aa[i,0,:]), np.std(trj_aa[i,0,:])]\n",
    "    \n",
    "    return aa_dict, l_final"
   ]
  },
  {
   "cell_type": "code",
   "execution_count": 10,
   "metadata": {},
   "outputs": [],
   "source": [
    "def frac_cont(frm_count_dict):\n",
    "    \n",
    "    a_a = [\"GLY\",\"ALA\",\"VAL\",\"LEU\",\"ILE\",\"MET\",\"PHE\",\"TRP\",\"PRO\",\"SER\",\"THR\",\"CYS\",\"TYR\",\"ASN\",\"GLN\",\"ASP\"\n",
    "               ,\"GLU\",\"LYS\",\"ARG\",\"HIS\"]\n",
    "    \n",
    "    # Grouping of residues in Smith et al  \n",
    "    aromatic_res = ['PHE', 'TRP', 'TYR', 'HIS']\n",
    "    hydrophobic_res = ['ALA', 'ILE', 'LEU', 'VAL', 'GLY', 'PRO','PHE', 'TRP','MET']\n",
    "    polar_res = ['ASN', 'CYS', 'GLN', 'SER', 'THR','TYR']\n",
    "    neg_res = ['ASP', 'GLU']\n",
    "    pos_res = ['ARG', 'HIS', 'LYS']\n",
    "\n",
    "    frac_res = [neg_res, pos_res, polar_res, hydrophobic_res, aromatic_res]\n",
    "    sf_lbl = [\"Negative\", \"Positive\", \"Polar\", \"Hydrophobic\", \"Aromatic\"]\n",
    "    \n",
    "    # For each amino acid type in frac_res, this code chunk saves the frame count in a list and sums them together to \n",
    "    # to get a total frame count within the 25 ns trajectory for each AA group in frac_res\n",
    "    co_grpaa = []\n",
    "\n",
    "    for row in frac_res:\n",
    "        fr_list = []\n",
    "        for j in range(len(row)):\n",
    "            for key, value in frm_count_dict.items():\n",
    "                if row[j] in key:\n",
    "                    fr_list.append(value[0])\n",
    "        co_grpaa.append(sum(fr_list))\n",
    "        \n",
    "    # This chunk of code gets an AA count from the above list, in order \n",
    "    # to get a total number of residues that contact BSA\n",
    "    cpl_l = []\n",
    "\n",
    "    for i in range(len(a_a)):\n",
    "        count = 0\n",
    "        for key, value in frm_count_dict.items():\n",
    "            if a_a[i] in key:\n",
    "                count += 1\n",
    "        cpl_l.append(a_a[i]+\" \"+str(count))   \n",
    "\n",
    "    # For each AA type in frac_res, this code chunk saves the count for each AA within 4 Angstroms of a PLGA trimer \n",
    "    # in a list based on the order in frac_res, then sums the counts to get a total number of AA for each AA type \n",
    "    tp_cnt = []   \n",
    "    \n",
    "    for row in frac_res:\n",
    "        nw_l = []\n",
    "        for i in range(len(row)):\n",
    "            for j in range(len(cpl_l)):\n",
    "                if row[i] in cpl_l[j]:\n",
    "                    nw_l.append(int(cpl_l[j][4:6]))\n",
    "        tp_cnt.append(sum(nw_l))           \n",
    "    \n",
    "    # Get the total count of AA that are within 4 A of PLGA oligomer\n",
    "    bsum = len(frm_count_dict.keys())\n",
    "    \n",
    "    # The code chunk normalized the frame count of each AA group type by the protein surface fraction \n",
    "    # of each amino acid type contacted by a polymer surrogate.\n",
    "    norm_list = []\n",
    "    for i in range(len(co_grpaa)):\n",
    "        lk = tp_cnt[i]/bsum\n",
    "        if lk == 0: \n",
    "            norm_list.append(co_grpaa[i])\n",
    "        elif lk != 0:\n",
    "            norm_list.append(co_grpaa[i]/(tp_cnt[i]/bsum))\n",
    "            \n",
    "    # This conde chunk calculates the fractional contact based on the normalized frame count \n",
    "    cont_l = []\n",
    "    nsum = sum(norm_list)\n",
    "    for i in range(len(norm_list)):\n",
    "        cont_l.append(norm_list[i]/nsum)\n",
    "    \n",
    "    #Save values in a dictionary \n",
    "    nlkts = {}\n",
    "    for i in range(len(sf_lbl)):\n",
    "        nlkts[sf_lbl[i]] = [co_grpaa[i], tp_cnt[i], norm_list[i], cont_l[i]]\n",
    "        \n",
    "    return nlkts"
   ]
  },
  {
   "cell_type": "code",
   "execution_count": 11,
   "metadata": {},
   "outputs": [],
   "source": [
    "# I want a list of total fraction of contacts where length is determined by no. of blocks and a dictionary \n",
    "# of contact groups as keys and list of fractional contacts as values(length of list will be no. of blocks)\n",
    "def bavg_frac_cnt(no_of_blks, prot_atoms, g2_atoms, dmax, universe, no_surf, begin, final):\n",
    " \n",
    "    n_size = (final - begin)/no_of_blks\n",
    "    \n",
    "    frcb = []\n",
    "    \n",
    "    ot_dab = {}\n",
    "    universe.trajectory[begin]\n",
    "    \n",
    "    sf_lbl = [\"Negative\", \"Positive\", \"Polar\", \"Hydrophobic\", \"Aromatic\", \"total_frac\"]\n",
    "\n",
    "    blk_nparr = np.zeros(shape=((len(sf_lbl)-1),1,no_of_blks))\n",
    "    \n",
    "    plga_nparr = np.zeros(shape=((len(sf_lbl)-1),1,no_of_blks), dtype=object)\n",
    "    \n",
    "    aares_npa = np.zeros(shape=(1,no_of_blks), dtype=object)\n",
    "    \n",
    "    for i in range(no_of_blks):\n",
    "        \n",
    "        tpl = []\n",
    " \n",
    "        start = universe.trajectory.frame\n",
    "        print(start)\n",
    "    \n",
    "        end = int(start + n_size)\n",
    "        print(end)\n",
    "            \n",
    "        hn_bcks = aa_frmcount(prot_atoms, g2_atoms, dmax, universe, start, end)\n",
    "        \n",
    "        ff_dict = frac_cont(hn_bcks)\n",
    "        \n",
    "        nk_dict, res_mat = gtwo_trjcnt(prot_atoms, g2_atoms, dmax, universe, start, end)\n",
    "        \n",
    "        lk = len(hn_bcks.keys())\n",
    "        \n",
    "        # total fraction of contacts is calculated here    \n",
    "        frcb.append(lk/no_surf)\n",
    "\n",
    "        for key, value in ff_dict.items():\n",
    "            tpl.append(value[3])\n",
    "            \n",
    "        count = 0\n",
    "        for key, value in nk_dict.items():\n",
    "            plga_nparr[count,0,i] = np.array(value)\n",
    "            count += 1\n",
    "            \n",
    "        blk_nparr[:,0,i] = tpl  \n",
    "        \n",
    "        # (1,5,583) shape, for each block and for each residue, the avg no of PLGA residues is recorded\n",
    "        aares_npa[0,i] = res_mat\n",
    "        \n",
    "        universe.trajectory[end]\n",
    "    # Save fractional contacts for each AA group type, each element in the value array corresponds to a block \n",
    "    # calculated value\n",
    "    for i in range(len(sf_lbl)-1):\n",
    "        ot_dab[sf_lbl[i]] = blk_nparr[i,0,:]\n",
    "        \n",
    "    # Save average no of PLGA monomers and the std deviation for each block for each AA group type into dictionary\n",
    "    plga_dict = {}\n",
    "    for i in range(len(sf_lbl)-1):\n",
    "        plga_dict[sf_lbl[i]] = plga_nparr[i,0,:]\n",
    "    \n",
    "    # total fraction of contacts within the specified blocks    \n",
    "    ot_dab[sf_lbl[5]] = np.array(frcb)   \n",
    "    \n",
    "    return ot_dab, plga_dict, aares_npa"
   ]
  },
  {
   "cell_type": "code",
   "execution_count": 12,
   "metadata": {},
   "outputs": [],
   "source": [
    "def prot_poly_cntmovie(prot_atoms, g2_atoms, dmax, universe, start, end):\n",
    "    \"\"\"This function calculates the contact matrix between protein AA residues and group 2 residues at each timestep \n",
    "    and returns a multi-dim numpy array saves contact map information\"\"\"\n",
    "    \n",
    "    universe.trajectory[start]\n",
    "    \n",
    "    cnt_un = 0 \n",
    "    \n",
    "    pp_mat = np.zeros(shape=(1,end-start), dtype=object)\n",
    "    \n",
    "    for ts in universe.trajectory[start:end]:\n",
    "    \n",
    "        ro = len(prot_atoms)\n",
    "        cl = len(g2_atoms)\n",
    "        dij_tri = np.zeros(shape=(ro,cl))\n",
    "        dij_tri = maa_dist.distance_array(g2_atoms.positions, prot_atoms.positions\n",
    "                                          , box=universe.trajectory.ts.dimensions)\n",
    "    \n",
    "        matfr = np.zeros(shape=(len(prot_atoms.residues),len(g2_atoms.residues)))\n",
    "    \n",
    "        pr_pol = np.nonzero(dij_tri < dmax)\n",
    "        #print(pr_pol)\n",
    "        \n",
    "        grptwo = np.unique(np.array(list(g2_atoms[pr_pol[0]].resids)))\n",
    "    \n",
    "        p_resds = np.unique(np.array(list(prot_atoms[pr_pol[1]].resids)))\n",
    "    \n",
    "        count = 0 \n",
    "        \n",
    "        for i in pr_pol[0].flat:\n",
    "            m_i = prot_atoms[pr_pol[1][count]].resid\n",
    "            m_j = g2_atoms[i].resid\n",
    "            matfr[m_i-1,m_j-1] = 1\n",
    "            count += 1\n",
    "        \n",
    "        pp_mat[0,cnt_un] = matfr\n",
    "        \n",
    "        cnt_un += 1\n",
    "        \n",
    "        universe.trajectory[end]\n",
    "        \n",
    "    return pp_mat"
   ]
  },
  {
   "cell_type": "code",
   "execution_count": 13,
   "metadata": {},
   "outputs": [],
   "source": [
    "def AA_list_org(lorg_list):\n",
    "    \n",
    "    \"\"\"List elements need have 'GLY  XX' as string format, where XX reps the number of GLY residues. Output is a\n",
    "    sorted list of 'AA XX' according to the below order.  \"\"\"\n",
    "    \n",
    "    hydrophobic_res = ['ALA', 'ILE', 'LEU', 'VAL', 'GLY', 'PRO','PHE', 'TRP','MET']\n",
    "    polar_res = ['ASN', 'CYS', 'GLN', 'SER', 'THR','TYR']\n",
    "    neg_res = ['ASP', 'GLU']\n",
    "    pos_res = ['ARG', 'HIS', 'LYS']\n",
    "\n",
    "    all_res = [pos_res, neg_res, polar_res, hydrophobic_res]\n",
    "    #Change order of residues before making the bar graph\n",
    "    # (1) Positively charged\n",
    "    # (2) Negatively charged\n",
    "    # (3) Polar residues \n",
    "    # (4) Hydrophobic residues \n",
    "    \n",
    "    # This chunk of code sorts the counts of each AA that have 1001 or 1002 frame count based \n",
    "    # on the AA order in all_res\n",
    "    arr_list = []\n",
    "\n",
    "    for row in all_res:\n",
    "        for i in range(len(lorg_list)):\n",
    "            for j in range(len(row)):\n",
    "                if row[j] == lorg_list[i][0:3]:\n",
    "                    arr_list.append(lorg_list[i])\n",
    "                    \n",
    "    #This chunk of code splits the list arr_list to makes the AA: count of 1001 or 1002 frames data plottable \n",
    "    f_list = []\n",
    "    fn_list = []\n",
    "    for i in range(len(arr_list)):\n",
    "        f_list.append(arr_list[i][0:3])\n",
    "        fn_list.append(int(arr_list[i][5:]))\n",
    "        \n",
    "    return f_list, fn_list"
   ]
  },
  {
   "cell_type": "markdown",
   "metadata": {},
   "source": [
    "Now load BSA/water trajectory to compare the frame counts values from VMD "
   ]
  },
  {
   "cell_type": "markdown",
   "metadata": {},
   "source": [
    "## BSA in pure water 1 ns simulation: Calc. of surface residues"
   ]
  },
  {
   "cell_type": "code",
   "execution_count": 14,
   "metadata": {},
   "outputs": [],
   "source": [
    "# Load universe of the BSA/water simulation\n",
    "bsa_wat = mda.Universe(\"../bsa_analysis/tout_local/confout.gro\", \"../bsa_analysis/tout_local/traj_comp.xtc\")"
   ]
  },
  {
   "cell_type": "code",
   "execution_count": 15,
   "metadata": {},
   "outputs": [
    {
     "data": {
      "text/plain": [
       "<Universe with 138239 atoms>"
      ]
     },
     "execution_count": 15,
     "metadata": {},
     "output_type": "execute_result"
    }
   ],
   "source": [
    "# Check Universe \n",
    "bsa_wat"
   ]
  },
  {
   "cell_type": "code",
   "execution_count": 16,
   "metadata": {
    "scrolled": true
   },
   "outputs": [],
   "source": [
    "# Check Trajectory Length \n",
    "bstrj = len(bsa_wat.trajectory)"
   ]
  },
  {
   "cell_type": "code",
   "execution_count": 17,
   "metadata": {},
   "outputs": [],
   "source": [
    "# Load protein atoms, heavy atoms only \n",
    "wb_prot = bsa_wat.select_atoms(\"protein\")"
   ]
  },
  {
   "cell_type": "code",
   "execution_count": 18,
   "metadata": {},
   "outputs": [
    {
     "data": {
      "text/plain": [
       "<AtomGroup with 9220 atoms>"
      ]
     },
     "execution_count": 18,
     "metadata": {},
     "output_type": "execute_result"
    }
   ],
   "source": [
    "wb_prot"
   ]
  },
  {
   "cell_type": "markdown",
   "metadata": {},
   "source": [
    "Visualize BSA contact map with a 7.5 Angstroms cutoff, Heavy atoms only"
   ]
  },
  {
   "cell_type": "code",
   "execution_count": 19,
   "metadata": {},
   "outputs": [
    {
     "data": {
      "text/plain": [
       "Text(0.5, 1.05, 'BSA Atomic Contact Map: PDB code 4F5S')"
      ]
     },
     "execution_count": 19,
     "metadata": {},
     "output_type": "execute_result"
    },
    {
     "data": {
      "image/png": "[encoded data removed]",
      "text/plain": [
       "<Figure size 720x720 with 2 Axes>"
      ]
     },
     "metadata": {
      "needs_background": "light"
     },
     "output_type": "display_data"
    }
   ],
   "source": [
    "#Length units in MD Analysis is Angstroms, Using 8.5 A cutoff to better visualize atomic contacts\n",
    "bs = maa_dist.contact_matrix(wb_prot.positions,cutoff=7.5,box=bsa_wat.dimensions)\n",
    "fig, ax = plt.subplots(figsize=(10,10))\n",
    "l_s = ax.matshow(bs.astype(int), aspect=\"auto\")\n",
    "fig.colorbar(l_s, ax=ax)\n",
    "ax.set_title('BSA Atomic Contact Map: PDB code 4F5S')"
   ]
  },
  {
   "cell_type": "code",
   "execution_count": 20,
   "metadata": {},
   "outputs": [
    {
     "data": {
      "text/html": [
       "<div>\n",
       "<style scoped>\n",
       "    .dataframe tbody tr th:only-of-type {\n",
       "        vertical-align: middle;\n",
       "    }\n",
       "\n",
       "    .dataframe tbody tr th {\n",
       "        vertical-align: top;\n",
       "    }\n",
       "\n",
       "    .dataframe thead th {\n",
       "        text-align: right;\n",
       "    }\n",
       "</style>\n",
       "<table border=\"1\" class=\"dataframe\">\n",
       "  <thead>\n",
       "    <tr style=\"text-align: right;\">\n",
       "      <th></th>\n",
       "      <th>BSA_des_res</th>\n",
       "      <th>No. of frames (VMD)</th>\n",
       "    </tr>\n",
       "  </thead>\n",
       "  <tbody>\n",
       "    <tr>\n",
       "      <th>0</th>\n",
       "      <td>&lt;Residue ASP, 1&gt;</td>\n",
       "      <td>1002</td>\n",
       "    </tr>\n",
       "    <tr>\n",
       "      <th>1</th>\n",
       "      <td>&lt;Residue THR, 2&gt;</td>\n",
       "      <td>1002</td>\n",
       "    </tr>\n",
       "    <tr>\n",
       "      <th>2</th>\n",
       "      <td>&lt;Residue HIS, 3&gt;</td>\n",
       "      <td>1002</td>\n",
       "    </tr>\n",
       "    <tr>\n",
       "      <th>3</th>\n",
       "      <td>&lt;Residue LYS, 4&gt;</td>\n",
       "      <td>1002</td>\n",
       "    </tr>\n",
       "    <tr>\n",
       "      <th>4</th>\n",
       "      <td>&lt;Residue SER, 5&gt;</td>\n",
       "      <td>1002</td>\n",
       "    </tr>\n",
       "  </tbody>\n",
       "</table>\n",
       "</div>"
      ],
      "text/plain": [
       "        BSA_des_res  No. of frames (VMD)\n",
       "0  <Residue ASP, 1>                 1002\n",
       "1  <Residue THR, 2>                 1002\n",
       "2  <Residue HIS, 3>                 1002\n",
       "3  <Residue LYS, 4>                 1002\n",
       "4  <Residue SER, 5>                 1002"
      ]
     },
     "execution_count": 20,
     "metadata": {},
     "output_type": "execute_result"
    }
   ],
   "source": [
    "# Read in data from the oputput of wrapper.sh, where the frame count is given for each BSA residue that was within \n",
    "# 4 angstroms of PLGA trimer \n",
    "wat_data = pd.read_csv('occ_BSA1ns.txt', sep=\" \", header=None, usecols=None ,index_col=None)\n",
    "wat_data.columns = [\"BSA_res_no\",\"No. of frames (VMD)\"]\n",
    "wat_data = wat_data.drop(\"BSA_res_no\", axis=1)\n",
    "\n",
    "pr_res = list(wb_prot.residues)\n",
    "ss_res = [str(row) for row in pr_res]\n",
    "\n",
    "wat_data['BSA_des_res'] = ss_res\n",
    "wat_data = wat_data[['BSA_des_res',\"No. of frames (VMD)\"]]\n",
    "wat_data.head()"
   ]
  },
  {
   "cell_type": "markdown",
   "metadata": {},
   "source": [
    "For the BSA/water 1 ns simulation, if I reduce the number of SOL atoms to find surface residues, I don't get the same number of AA frame counts when compared to including the entire group of SOL atoms (129,003 atoms)."
   ]
  },
  {
   "cell_type": "code",
   "execution_count": null,
   "metadata": {},
   "outputs": [],
   "source": [
    "# Create dictionary of BSA residues and frame count\n",
    "hto_atms = bsa_wat.select_atoms(\"resname SOL\")\n",
    "#hto_atms = bsa_wat.select_atoms(\"resname SOL and within 5 protein\") (9508 water atoms)\n",
    "\n",
    "# Time the execution with smaller SOL group (9508 water atoms, 1518.5523862359987 s (~25 minutes on 4 cores))\n",
    "s_time = timeit.default_timer()\n",
    "h2di = aa_frmcount(wb_prot, hto_atms, dmax, bsa_wat, 0, bstrj)\n",
    "timeit.default_timer() - s_time\n",
    "\n",
    "# Use to save dictionary to a text file  \n",
    "#import json\n",
    "#with open('MDA_BSA1ns.txt', 'w') as file:\n",
    "#     file.write(json.dumps(gg_new))\n",
    "\n",
    "# This code calculates how many atoms are in each residue of BSA and stores it in a dictionary \n",
    "\n",
    "# When saving new keys and their associated values in a dictionary, make sure the key is not the \n",
    "# same as a key that has already been saved. The value that has been saved with the key will be erased and the newest\n",
    "# value will be placed in the dictionary if trying to add new value with the same key into the dict\n",
    "\n",
    "#rb_atom = {}\n",
    "#for i in range(len(red_bsa)):     \n",
    "#    st_r = \"resname \"+str(red_bsa[i][0:3])+\" and resid \"+str(red_bsa[i][4:9])\n",
    "#    da = list(prot.select_atoms(st_r))\n",
    "#    rb_atom[st_r] = len(da)\n",
    "\n",
    "#rb_atom"
   ]
  },
  {
   "cell_type": "code",
   "execution_count": null,
   "metadata": {},
   "outputs": [],
   "source": [
    "h2di"
   ]
  },
  {
   "cell_type": "code",
   "execution_count": 22,
   "metadata": {},
   "outputs": [
    {
     "data": {
      "text/html": [
       "<div>\n",
       "<style scoped>\n",
       "    .dataframe tbody tr th:only-of-type {\n",
       "        vertical-align: middle;\n",
       "    }\n",
       "\n",
       "    .dataframe tbody tr th {\n",
       "        vertical-align: top;\n",
       "    }\n",
       "\n",
       "    .dataframe thead th {\n",
       "        text-align: right;\n",
       "    }\n",
       "</style>\n",
       "<table border=\"1\" class=\"dataframe\">\n",
       "  <thead>\n",
       "    <tr style=\"text-align: right;\">\n",
       "      <th></th>\n",
       "      <th>BSA_des_res</th>\n",
       "      <th>No. of frames (VMD)</th>\n",
       "      <th>Mda_frames</th>\n",
       "    </tr>\n",
       "  </thead>\n",
       "  <tbody>\n",
       "    <tr>\n",
       "      <th>0</th>\n",
       "      <td>&lt;Residue ASP, 1&gt;</td>\n",
       "      <td>1002</td>\n",
       "      <td>1001</td>\n",
       "    </tr>\n",
       "    <tr>\n",
       "      <th>1</th>\n",
       "      <td>&lt;Residue THR, 2&gt;</td>\n",
       "      <td>1002</td>\n",
       "      <td>1001</td>\n",
       "    </tr>\n",
       "    <tr>\n",
       "      <th>2</th>\n",
       "      <td>&lt;Residue HIS, 3&gt;</td>\n",
       "      <td>1002</td>\n",
       "      <td>1001</td>\n",
       "    </tr>\n",
       "    <tr>\n",
       "      <th>3</th>\n",
       "      <td>&lt;Residue LYS, 4&gt;</td>\n",
       "      <td>1002</td>\n",
       "      <td>1001</td>\n",
       "    </tr>\n",
       "    <tr>\n",
       "      <th>4</th>\n",
       "      <td>&lt;Residue SER, 5&gt;</td>\n",
       "      <td>1002</td>\n",
       "      <td>1001</td>\n",
       "    </tr>\n",
       "    <tr>\n",
       "      <th>5</th>\n",
       "      <td>&lt;Residue GLU, 6&gt;</td>\n",
       "      <td>1002</td>\n",
       "      <td>1001</td>\n",
       "    </tr>\n",
       "    <tr>\n",
       "      <th>6</th>\n",
       "      <td>&lt;Residue ILE, 7&gt;</td>\n",
       "      <td>1002</td>\n",
       "      <td>1001</td>\n",
       "    </tr>\n",
       "    <tr>\n",
       "      <th>7</th>\n",
       "      <td>&lt;Residue ALA, 8&gt;</td>\n",
       "      <td>1002</td>\n",
       "      <td>1001</td>\n",
       "    </tr>\n",
       "    <tr>\n",
       "      <th>8</th>\n",
       "      <td>&lt;Residue HIS, 9&gt;</td>\n",
       "      <td>1002</td>\n",
       "      <td>1001</td>\n",
       "    </tr>\n",
       "    <tr>\n",
       "      <th>9</th>\n",
       "      <td>&lt;Residue ARG, 10&gt;</td>\n",
       "      <td>1002</td>\n",
       "      <td>1001</td>\n",
       "    </tr>\n",
       "    <tr>\n",
       "      <th>10</th>\n",
       "      <td>&lt;Residue PHE, 11&gt;</td>\n",
       "      <td>1002</td>\n",
       "      <td>1001</td>\n",
       "    </tr>\n",
       "    <tr>\n",
       "      <th>11</th>\n",
       "      <td>&lt;Residue LYS, 12&gt;</td>\n",
       "      <td>1002</td>\n",
       "      <td>1001</td>\n",
       "    </tr>\n",
       "    <tr>\n",
       "      <th>12</th>\n",
       "      <td>&lt;Residue ASP, 13&gt;</td>\n",
       "      <td>1002</td>\n",
       "      <td>1001</td>\n",
       "    </tr>\n",
       "    <tr>\n",
       "      <th>13</th>\n",
       "      <td>&lt;Residue LEU, 14&gt;</td>\n",
       "      <td>1002</td>\n",
       "      <td>1001</td>\n",
       "    </tr>\n",
       "    <tr>\n",
       "      <th>14</th>\n",
       "      <td>&lt;Residue GLY, 15&gt;</td>\n",
       "      <td>1002</td>\n",
       "      <td>1001</td>\n",
       "    </tr>\n",
       "    <tr>\n",
       "      <th>15</th>\n",
       "      <td>&lt;Residue GLU, 16&gt;</td>\n",
       "      <td>1002</td>\n",
       "      <td>1001</td>\n",
       "    </tr>\n",
       "    <tr>\n",
       "      <th>16</th>\n",
       "      <td>&lt;Residue GLU, 17&gt;</td>\n",
       "      <td>1002</td>\n",
       "      <td>1001</td>\n",
       "    </tr>\n",
       "    <tr>\n",
       "      <th>17</th>\n",
       "      <td>&lt;Residue HIS, 18&gt;</td>\n",
       "      <td>1002</td>\n",
       "      <td>1001</td>\n",
       "    </tr>\n",
       "    <tr>\n",
       "      <th>18</th>\n",
       "      <td>&lt;Residue PHE, 19&gt;</td>\n",
       "      <td>385</td>\n",
       "      <td>385</td>\n",
       "    </tr>\n",
       "    <tr>\n",
       "      <th>19</th>\n",
       "      <td>&lt;Residue LYS, 20&gt;</td>\n",
       "      <td>1002</td>\n",
       "      <td>1001</td>\n",
       "    </tr>\n",
       "    <tr>\n",
       "      <th>20</th>\n",
       "      <td>&lt;Residue GLY, 21&gt;</td>\n",
       "      <td>897</td>\n",
       "      <td>896</td>\n",
       "    </tr>\n",
       "    <tr>\n",
       "      <th>21</th>\n",
       "      <td>&lt;Residue LEU, 22&gt;</td>\n",
       "      <td>472</td>\n",
       "      <td>471</td>\n",
       "    </tr>\n",
       "    <tr>\n",
       "      <th>22</th>\n",
       "      <td>&lt;Residue VAL, 23&gt;</td>\n",
       "      <td>58</td>\n",
       "      <td>58</td>\n",
       "    </tr>\n",
       "    <tr>\n",
       "      <th>23</th>\n",
       "      <td>&lt;Residue LEU, 24&gt;</td>\n",
       "      <td>934</td>\n",
       "      <td>933</td>\n",
       "    </tr>\n",
       "    <tr>\n",
       "      <th>24</th>\n",
       "      <td>&lt;Residue ILE, 25&gt;</td>\n",
       "      <td>649</td>\n",
       "      <td>649</td>\n",
       "    </tr>\n",
       "    <tr>\n",
       "      <th>25</th>\n",
       "      <td>&lt;Residue ALA, 26&gt;</td>\n",
       "      <td>1001</td>\n",
       "      <td>1000</td>\n",
       "    </tr>\n",
       "    <tr>\n",
       "      <th>26</th>\n",
       "      <td>&lt;Residue PHE, 27&gt;</td>\n",
       "      <td>549</td>\n",
       "      <td>549</td>\n",
       "    </tr>\n",
       "    <tr>\n",
       "      <th>27</th>\n",
       "      <td>&lt;Residue SER, 28&gt;</td>\n",
       "      <td>966</td>\n",
       "      <td>966</td>\n",
       "    </tr>\n",
       "    <tr>\n",
       "      <th>28</th>\n",
       "      <td>&lt;Residue GLN, 29&gt;</td>\n",
       "      <td>1002</td>\n",
       "      <td>1001</td>\n",
       "    </tr>\n",
       "    <tr>\n",
       "      <th>29</th>\n",
       "      <td>&lt;Residue TYR, 30&gt;</td>\n",
       "      <td>1002</td>\n",
       "      <td>1001</td>\n",
       "    </tr>\n",
       "    <tr>\n",
       "      <th>...</th>\n",
       "      <td>...</td>\n",
       "      <td>...</td>\n",
       "      <td>...</td>\n",
       "    </tr>\n",
       "    <tr>\n",
       "      <th>553</th>\n",
       "      <td>&lt;Residue VAL, 554&gt;</td>\n",
       "      <td>999</td>\n",
       "      <td>998</td>\n",
       "    </tr>\n",
       "    <tr>\n",
       "      <th>554</th>\n",
       "      <td>&lt;Residue ASP, 555&gt;</td>\n",
       "      <td>1002</td>\n",
       "      <td>1001</td>\n",
       "    </tr>\n",
       "    <tr>\n",
       "      <th>555</th>\n",
       "      <td>&lt;Residue LYS, 556&gt;</td>\n",
       "      <td>1002</td>\n",
       "      <td>1001</td>\n",
       "    </tr>\n",
       "    <tr>\n",
       "      <th>556</th>\n",
       "      <td>&lt;Residue CYS, 557&gt;</td>\n",
       "      <td>724</td>\n",
       "      <td>723</td>\n",
       "    </tr>\n",
       "    <tr>\n",
       "      <th>557</th>\n",
       "      <td>&lt;Residue CYS, 558&gt;</td>\n",
       "      <td>1002</td>\n",
       "      <td>1001</td>\n",
       "    </tr>\n",
       "    <tr>\n",
       "      <th>558</th>\n",
       "      <td>&lt;Residue ALA, 559&gt;</td>\n",
       "      <td>1002</td>\n",
       "      <td>1001</td>\n",
       "    </tr>\n",
       "    <tr>\n",
       "      <th>559</th>\n",
       "      <td>&lt;Residue ALA, 560&gt;</td>\n",
       "      <td>1002</td>\n",
       "      <td>1001</td>\n",
       "    </tr>\n",
       "    <tr>\n",
       "      <th>560</th>\n",
       "      <td>&lt;Residue ASP, 561&gt;</td>\n",
       "      <td>1002</td>\n",
       "      <td>1001</td>\n",
       "    </tr>\n",
       "    <tr>\n",
       "      <th>561</th>\n",
       "      <td>&lt;Residue ASP, 562&gt;</td>\n",
       "      <td>1002</td>\n",
       "      <td>1001</td>\n",
       "    </tr>\n",
       "    <tr>\n",
       "      <th>562</th>\n",
       "      <td>&lt;Residue LYS, 563&gt;</td>\n",
       "      <td>1002</td>\n",
       "      <td>1001</td>\n",
       "    </tr>\n",
       "    <tr>\n",
       "      <th>563</th>\n",
       "      <td>&lt;Residue GLU, 564&gt;</td>\n",
       "      <td>1002</td>\n",
       "      <td>1001</td>\n",
       "    </tr>\n",
       "    <tr>\n",
       "      <th>564</th>\n",
       "      <td>&lt;Residue ALA, 565&gt;</td>\n",
       "      <td>1002</td>\n",
       "      <td>1001</td>\n",
       "    </tr>\n",
       "    <tr>\n",
       "      <th>565</th>\n",
       "      <td>&lt;Residue CYS, 566&gt;</td>\n",
       "      <td>1002</td>\n",
       "      <td>1001</td>\n",
       "    </tr>\n",
       "    <tr>\n",
       "      <th>566</th>\n",
       "      <td>&lt;Residue PHE, 567&gt;</td>\n",
       "      <td>1001</td>\n",
       "      <td>1000</td>\n",
       "    </tr>\n",
       "    <tr>\n",
       "      <th>567</th>\n",
       "      <td>&lt;Residue ALA, 568&gt;</td>\n",
       "      <td>1002</td>\n",
       "      <td>1001</td>\n",
       "    </tr>\n",
       "    <tr>\n",
       "      <th>568</th>\n",
       "      <td>&lt;Residue VAL, 569&gt;</td>\n",
       "      <td>1002</td>\n",
       "      <td>1001</td>\n",
       "    </tr>\n",
       "    <tr>\n",
       "      <th>569</th>\n",
       "      <td>&lt;Residue GLU, 570&gt;</td>\n",
       "      <td>1002</td>\n",
       "      <td>1001</td>\n",
       "    </tr>\n",
       "    <tr>\n",
       "      <th>570</th>\n",
       "      <td>&lt;Residue GLY, 571&gt;</td>\n",
       "      <td>982</td>\n",
       "      <td>981</td>\n",
       "    </tr>\n",
       "    <tr>\n",
       "      <th>571</th>\n",
       "      <td>&lt;Residue PRO, 572&gt;</td>\n",
       "      <td>1002</td>\n",
       "      <td>1001</td>\n",
       "    </tr>\n",
       "    <tr>\n",
       "      <th>572</th>\n",
       "      <td>&lt;Residue LYS, 573&gt;</td>\n",
       "      <td>1002</td>\n",
       "      <td>1001</td>\n",
       "    </tr>\n",
       "    <tr>\n",
       "      <th>573</th>\n",
       "      <td>&lt;Residue LEU, 574&gt;</td>\n",
       "      <td>1002</td>\n",
       "      <td>1001</td>\n",
       "    </tr>\n",
       "    <tr>\n",
       "      <th>574</th>\n",
       "      <td>&lt;Residue VAL, 575&gt;</td>\n",
       "      <td>1002</td>\n",
       "      <td>1001</td>\n",
       "    </tr>\n",
       "    <tr>\n",
       "      <th>575</th>\n",
       "      <td>&lt;Residue VAL, 576&gt;</td>\n",
       "      <td>1002</td>\n",
       "      <td>1001</td>\n",
       "    </tr>\n",
       "    <tr>\n",
       "      <th>576</th>\n",
       "      <td>&lt;Residue SER, 577&gt;</td>\n",
       "      <td>1002</td>\n",
       "      <td>1001</td>\n",
       "    </tr>\n",
       "    <tr>\n",
       "      <th>577</th>\n",
       "      <td>&lt;Residue THR, 578&gt;</td>\n",
       "      <td>965</td>\n",
       "      <td>964</td>\n",
       "    </tr>\n",
       "    <tr>\n",
       "      <th>578</th>\n",
       "      <td>&lt;Residue GLN, 579&gt;</td>\n",
       "      <td>1002</td>\n",
       "      <td>1001</td>\n",
       "    </tr>\n",
       "    <tr>\n",
       "      <th>579</th>\n",
       "      <td>&lt;Residue THR, 580&gt;</td>\n",
       "      <td>1002</td>\n",
       "      <td>1001</td>\n",
       "    </tr>\n",
       "    <tr>\n",
       "      <th>580</th>\n",
       "      <td>&lt;Residue ALA, 581&gt;</td>\n",
       "      <td>1002</td>\n",
       "      <td>1001</td>\n",
       "    </tr>\n",
       "    <tr>\n",
       "      <th>581</th>\n",
       "      <td>&lt;Residue LEU, 582&gt;</td>\n",
       "      <td>1002</td>\n",
       "      <td>1001</td>\n",
       "    </tr>\n",
       "    <tr>\n",
       "      <th>582</th>\n",
       "      <td>&lt;Residue ALA, 583&gt;</td>\n",
       "      <td>0</td>\n",
       "      <td>1001</td>\n",
       "    </tr>\n",
       "  </tbody>\n",
       "</table>\n",
       "<p>583 rows × 3 columns</p>\n",
       "</div>"
      ],
      "text/plain": [
       "            BSA_des_res  No. of frames (VMD)  Mda_frames\n",
       "0      <Residue ASP, 1>                 1002        1001\n",
       "1      <Residue THR, 2>                 1002        1001\n",
       "2      <Residue HIS, 3>                 1002        1001\n",
       "3      <Residue LYS, 4>                 1002        1001\n",
       "4      <Residue SER, 5>                 1002        1001\n",
       "5      <Residue GLU, 6>                 1002        1001\n",
       "6      <Residue ILE, 7>                 1002        1001\n",
       "7      <Residue ALA, 8>                 1002        1001\n",
       "8      <Residue HIS, 9>                 1002        1001\n",
       "9     <Residue ARG, 10>                 1002        1001\n",
       "10    <Residue PHE, 11>                 1002        1001\n",
       "11    <Residue LYS, 12>                 1002        1001\n",
       "12    <Residue ASP, 13>                 1002        1001\n",
       "13    <Residue LEU, 14>                 1002        1001\n",
       "14    <Residue GLY, 15>                 1002        1001\n",
       "15    <Residue GLU, 16>                 1002        1001\n",
       "16    <Residue GLU, 17>                 1002        1001\n",
       "17    <Residue HIS, 18>                 1002        1001\n",
       "18    <Residue PHE, 19>                  385         385\n",
       "19    <Residue LYS, 20>                 1002        1001\n",
       "20    <Residue GLY, 21>                  897         896\n",
       "21    <Residue LEU, 22>                  472         471\n",
       "22    <Residue VAL, 23>                   58          58\n",
       "23    <Residue LEU, 24>                  934         933\n",
       "24    <Residue ILE, 25>                  649         649\n",
       "25    <Residue ALA, 26>                 1001        1000\n",
       "26    <Residue PHE, 27>                  549         549\n",
       "27    <Residue SER, 28>                  966         966\n",
       "28    <Residue GLN, 29>                 1002        1001\n",
       "29    <Residue TYR, 30>                 1002        1001\n",
       "..                  ...                  ...         ...\n",
       "553  <Residue VAL, 554>                  999         998\n",
       "554  <Residue ASP, 555>                 1002        1001\n",
       "555  <Residue LYS, 556>                 1002        1001\n",
       "556  <Residue CYS, 557>                  724         723\n",
       "557  <Residue CYS, 558>                 1002        1001\n",
       "558  <Residue ALA, 559>                 1002        1001\n",
       "559  <Residue ALA, 560>                 1002        1001\n",
       "560  <Residue ASP, 561>                 1002        1001\n",
       "561  <Residue ASP, 562>                 1002        1001\n",
       "562  <Residue LYS, 563>                 1002        1001\n",
       "563  <Residue GLU, 564>                 1002        1001\n",
       "564  <Residue ALA, 565>                 1002        1001\n",
       "565  <Residue CYS, 566>                 1002        1001\n",
       "566  <Residue PHE, 567>                 1001        1000\n",
       "567  <Residue ALA, 568>                 1002        1001\n",
       "568  <Residue VAL, 569>                 1002        1001\n",
       "569  <Residue GLU, 570>                 1002        1001\n",
       "570  <Residue GLY, 571>                  982         981\n",
       "571  <Residue PRO, 572>                 1002        1001\n",
       "572  <Residue LYS, 573>                 1002        1001\n",
       "573  <Residue LEU, 574>                 1002        1001\n",
       "574  <Residue VAL, 575>                 1002        1001\n",
       "575  <Residue VAL, 576>                 1002        1001\n",
       "576  <Residue SER, 577>                 1002        1001\n",
       "577  <Residue THR, 578>                  965         964\n",
       "578  <Residue GLN, 579>                 1002        1001\n",
       "579  <Residue THR, 580>                 1002        1001\n",
       "580  <Residue ALA, 581>                 1002        1001\n",
       "581  <Residue LEU, 582>                 1002        1001\n",
       "582  <Residue ALA, 583>                    0        1001\n",
       "\n",
       "[583 rows x 3 columns]"
      ]
     },
     "execution_count": 22,
     "metadata": {},
     "output_type": "execute_result"
    }
   ],
   "source": [
    "# load MDAnalysis values from MDA_BSA1ns.txt file(129003 atoms SOL group was used to calc. frame counts for txt. file)\n",
    "h2ob_dict = json.load(open(\"MDA_BSA1ns.txt\"))\n",
    "wat_data['Mda_frames'] = wat_data['BSA_des_res'].map(h2ob_dict)\n",
    "wat_data\n",
    "# Need to ask about whether 900 frames or greater still works for surface residue requirement "
   ]
  },
  {
   "cell_type": "code",
   "execution_count": null,
   "metadata": {},
   "outputs": [],
   "source": [
    "# Check if there are non matching values between the VMD and MDAnalysis values \n",
    "count = 0\n",
    "for index, row in wat_data.iterrows():\n",
    "    if row[\"No. of frames (VMD)\"] == row[\"Mda_frames\"]:\n",
    "        count += 1\n",
    "print(count)\n",
    "        \n",
    "# Only 24 BSA AA residue frame count match those calculated from vmd. Besides from ALA 583, \n",
    "# all other values are off by 1 frame(I'll write code to confirm this)"
   ]
  },
  {
   "cell_type": "code",
   "execution_count": null,
   "metadata": {},
   "outputs": [],
   "source": [
    "a_a = [\"GLY\",\"ALA\",\"VAL\",\"LEU\",\"ILE\",\"MET\",\"PHE\",\"TRP\",\"PRO\",\"SER\",\"THR\",\"CYS\",\"TYR\",\"ASN\",\"GLN\",\"ASP\"\n",
    "               ,\"GLU\",\"LYS\",\"ARG\",\"HIS\"]"
   ]
  },
  {
   "cell_type": "code",
   "execution_count": null,
   "metadata": {},
   "outputs": [],
   "source": [
    "# This code chunk gets the BSA residues and their corresponding number in a pandas dataframe \n",
    "red_bsa = []\n",
    "bh = np.arange(0,584)\n",
    "for i in range(583):\n",
    "    b_str = str(list(wb_prot.residues[i:i+1]))\n",
    "    if str(bh[i+1]) in b_str: \n",
    "        red_bsa.append(str(b_str[10:13])+\" \"+str(bh[i+1]))"
   ]
  },
  {
   "cell_type": "code",
   "execution_count": null,
   "metadata": {},
   "outputs": [],
   "source": [
    "wat_data[\"BSA_des_res\"] = red_bsa\n",
    "wat_data.tail()"
   ]
  },
  {
   "cell_type": "code",
   "execution_count": null,
   "metadata": {},
   "outputs": [],
   "source": [
    "# From MD Analysis\n",
    "#Get the count of bsa residues that have 1001 or 1002 frames ( I ran a 1 ns NPT simulation of 1 BSA in water )\n",
    "\n",
    "#aa_count = pd.DataFrame(data=a_a)\n",
    "c_list = []\n",
    "\n",
    "for i in range(len(a_a)):\n",
    "    count = 0\n",
    "    for index, row in wat_data.iterrows():\n",
    "        if a_a[i] in row[\"BSA_des_res\"]:\n",
    "            if row['Mda_frames'] == 1001: \n",
    "                count += 1\n",
    "                #c_list.append(str(str(a_a[i])+\"  \"+str(row['No. of frames']))) \n",
    "            elif row['Mda_frames'] == 1000:\n",
    "                count += 1\n",
    "                #c_list.append(str(str(a_a[i])+\"  \"+str(row['No. of frames'])))\n",
    "    c_list.append(str(str(a_a[i])+\"  \"+str(count)))\n",
    "    \n",
    "#c_list"
   ]
  },
  {
   "cell_type": "code",
   "execution_count": null,
   "metadata": {},
   "outputs": [],
   "source": [
    "c_list"
   ]
  },
  {
   "cell_type": "code",
   "execution_count": null,
   "metadata": {},
   "outputs": [],
   "source": [
    "# From VMD\n",
    "#Get the count of bsa residues that have 1001 or 1002 frames ( I ran a 1 ns NPT simulation of 1 BSA in water )\n",
    "\n",
    "#aa_count = pd.DataFrame(data=a_a)\n",
    "vmd_list = []\n",
    "\n",
    "for i in range(len(a_a)):\n",
    "    count = 0\n",
    "    for index, row in wat_data.iterrows():\n",
    "        if a_a[i] in row[\"BSA_des_res\"]:\n",
    "            if row[\"No. of frames (VMD)\"] == 1001: \n",
    "                count += 1\n",
    "                #c_list.append(str(str(a_a[i])+\"  \"+str(row['No. of frames']))) \n",
    "            elif row[\"No. of frames (VMD)\"] == 1002:\n",
    "                count += 1\n",
    "                #c_list.append(str(str(a_a[i])+\"  \"+str(row['No. of frames'])))\n",
    "    vmd_list.append(str(str(a_a[i])+\"  \"+str(count)))\n",
    "\n",
    "# Main difference is that Alanine 583 is counted for all 1001 frames. It seems VMD is unable to calc dist for that res\n",
    "#vmd_list"
   ]
  },
  {
   "cell_type": "code",
   "execution_count": null,
   "metadata": {},
   "outputs": [],
   "source": [
    "dg"
   ]
  },
  {
   "cell_type": "code",
   "execution_count": null,
   "metadata": {},
   "outputs": [],
   "source": [
    "#hydrophobic_res = ['ALA', 'ILE', 'LEU', 'VAL', 'GLY', 'PRO','PHE', 'TRP','MET']\n",
    "#polar_res = ['ASN', 'CYS', 'GLN', 'SER', 'THR','TYR']\n",
    "#neg_res = ['ASP', 'GLU']\n",
    "#pos_res = ['ARG', 'HIS', 'LYS']\n",
    "# aromatic_res = ['PHE', 'TRP', 'TYR', 'HIS']\n",
    "#all_res = [pos_res, neg_res, polar_res, hydrophobic_res]\n",
    "\n",
    "# Put the AA count in a pandas dataframe \n",
    "dg , ji = AA_list_org(c_list)\n",
    "aa_count = pd.DataFrame(data=dg, index=None, columns=['Amino_acids'])\n",
    "new_lf = pd.Series(data=ji, index=None)\n",
    "vmg, vmdj = AA_list_org(vmd_list)\n",
    "n2lf = pd.Series(data=vmdj, index=None)\n",
    "aa_count['No_of_surf_res (MDAnalysis)'] = new_lf\n",
    "aa_count['No_of_surf_res (VMD)'] = n2lf\n",
    "aa_count"
   ]
  },
  {
   "cell_type": "code",
   "execution_count": null,
   "metadata": {},
   "outputs": [],
   "source": [
    "# aromatic residues \n",
    "phe_aa = aa_count['No_of_surf_res (MDAnalysis)'][17]\n",
    "tyr_aa = aa_count['No_of_surf_res (MDAnalysis)'][8]\n",
    "trp_aa = aa_count['No_of_surf_res (MDAnalysis)'][18]\n",
    "his_aa = aa_count['No_of_surf_res (MDAnalysis)'][2]"
   ]
  },
  {
   "cell_type": "code",
   "execution_count": null,
   "metadata": {},
   "outputs": [],
   "source": [
    "phe_aa + tyr_aa + trp_aa + his_aa"
   ]
  },
  {
   "cell_type": "code",
   "execution_count": null,
   "metadata": {},
   "outputs": [],
   "source": [
    "aa_count['No_of_surf_res (MDAnalysis)'][0:3].sum()"
   ]
  },
  {
   "cell_type": "code",
   "execution_count": null,
   "metadata": {},
   "outputs": [],
   "source": [
    "aa_count['No_of_surf_res (MDAnalysis)'][3:5].sum()"
   ]
  },
  {
   "cell_type": "code",
   "execution_count": null,
   "metadata": {},
   "outputs": [],
   "source": [
    "aa_count['No_of_surf_res (MDAnalysis)'][5:11].sum()"
   ]
  },
  {
   "cell_type": "code",
   "execution_count": null,
   "metadata": {},
   "outputs": [],
   "source": [
    "aa_count['No_of_surf_res (MDAnalysis)'][11:20].sum()"
   ]
  },
  {
   "cell_type": "code",
   "execution_count": null,
   "metadata": {},
   "outputs": [],
   "source": [
    "#plotting \n",
    "#Change order of residues before making the bar graph\n",
    "# (!) Positively charged\n",
    "# (2) Negatively charged\n",
    "# (3) Polar residues \n",
    "# (4) Hydrophobic residues \n",
    "x = np.arange(20)\n",
    "leg = ['Positively Charged', 'Negatively Charged', 'Polar', 'Hydrophobic']\n",
    "plt.figure(figsize=(10,8))\n",
    "plt.bar(x[0:3], aa_count['No_of_surf_res (MDAnalysis)'][0:3], color='blue')\n",
    "plt.bar(x[3:5], aa_count['No_of_surf_res (MDAnalysis)'][3:5], color='red')\n",
    "plt.bar(x[5:11], aa_count['No_of_surf_res (MDAnalysis)'][5:11], color='magenta')\n",
    "plt.bar(x[11:20], aa_count['No_of_surf_res (MDAnalysis)'][11:20], color='cyan')\n",
    "plt.xticks(x,aa_count['Amino_acids'])\n",
    "plt.legend(leg)"
   ]
  },
  {
   "cell_type": "markdown",
   "metadata": {},
   "source": [
    "## 1.2 nm PLGA restrained Rg 100 ns trajectory"
   ]
  },
  {
   "cell_type": "markdown",
   "metadata": {},
   "source": [
    "Load the rg = 1.2 nm (3 PLGA N = 20 oligomer/BSA system) "
   ]
  },
  {
   "cell_type": "markdown",
   "metadata": {},
   "source": [
    "### Calc. total fraction of contacts"
   ]
  },
  {
   "cell_type": "code",
   "execution_count": null,
   "metadata": {},
   "outputs": [],
   "source": [
    "# Set up the MD Simulation\n",
    "u_pn20 = mda.Universe(\"../1.2nm_bsa_prod/k4000_plumed/sys_1_2nmres.gro\", \"../1.2nm_bsa_prod/k4000_plumed/pp_1_2nmres.xtc\")"
   ]
  },
  {
   "cell_type": "code",
   "execution_count": null,
   "metadata": {},
   "outputs": [],
   "source": [
    "u_pn20"
   ]
  },
  {
   "cell_type": "markdown",
   "metadata": {},
   "source": [
    "Check that we are on the first frame"
   ]
  },
  {
   "cell_type": "code",
   "execution_count": null,
   "metadata": {},
   "outputs": [],
   "source": [
    "u_pn20.trajectory.frame"
   ]
  },
  {
   "cell_type": "code",
   "execution_count": null,
   "metadata": {},
   "outputs": [],
   "source": [
    "pn20_len = len(u_pn20.trajectory)\n",
    "pn20_len"
   ]
  },
  {
   "cell_type": "code",
   "execution_count": null,
   "metadata": {},
   "outputs": [],
   "source": [
    "# Select the center PLGA residue atoms, heavy atoms only\n",
    "pn20_cent = u_pn20.select_atoms(\"resname PLG and not type H\")\n",
    "pn20_cent"
   ]
  },
  {
   "cell_type": "code",
   "execution_count": null,
   "metadata": {},
   "outputs": [],
   "source": [
    "# Select the terminal PLGA residues, heavy atoms only \n",
    "pn20_term = u_pn20.select_atoms(\"resname sPLG tPLG and not type H\")\n",
    "pn20_term"
   ]
  },
  {
   "cell_type": "code",
   "execution_count": null,
   "metadata": {},
   "outputs": [],
   "source": [
    "#Select all the PLGA residues, heavy atoms only \n",
    "all_pn20 = u_pn20.select_atoms(\"resname sPLG PLG tPLG and not type H\")\n",
    "all_pn20"
   ]
  },
  {
   "cell_type": "code",
   "execution_count": null,
   "metadata": {},
   "outputs": [],
   "source": [
    "list(u_pn20.select_atoms(\"resname PLG and (resid 2 and not type H)\"))"
   ]
  },
  {
   "cell_type": "code",
   "execution_count": null,
   "metadata": {},
   "outputs": [],
   "source": [
    "# Select BSA residues, heavy atoms only \n",
    "prot = u_pn20.select_atoms(\"protein and not type H\")\n",
    "prot"
   ]
  },
  {
   "cell_type": "markdown",
   "metadata": {},
   "source": [
    "Calculate AA frame counts for PLGA residues, 1.2 nm RG restraint, 100ns trajectory "
   ]
  },
  {
   "cell_type": "code",
   "execution_count": null,
   "metadata": {},
   "outputs": [],
   "source": [
    "#dmax = 4.0, protein group(4653 atoms), plga atom group (543 atoms), took 381.6 s (6 min 36s on 4 cores)\n",
    "start = 0\n",
    "end = pn20_len - 1\n",
    "s_time = timeit.default_timer()\n",
    "h2di = aa_frmcount(prot, all_pn20, dmax, u_pn20, start, end)\n",
    "timeit.default_timer() - s_time"
   ]
  },
  {
   "cell_type": "code",
   "execution_count": null,
   "metadata": {},
   "outputs": [],
   "source": [
    "# Frame count and occupancy for each residue\n",
    "h2di"
   ]
  },
  {
   "cell_type": "code",
   "execution_count": null,
   "metadata": {},
   "outputs": [],
   "source": [
    "len(h2di.keys())"
   ]
  },
  {
   "cell_type": "code",
   "execution_count": null,
   "metadata": {},
   "outputs": [],
   "source": [
    "pr_res = list(prot.residues)\n",
    "ss_res = [str(row) for row in pr_res]\n",
    "rkg = {key:h2di[key][0] for key, value in h2di.items()}\n",
    "plg_1_2nmaa = pd.DataFrame(data=ss_res, columns=[\"BSA_des_res\"])\n",
    "plg_1_2nmaa['mda_plga_frm_1.2nm'] = plg_1_2nmaa['BSA_des_res'].map(rkg)\n",
    "plg_1_2nmaa['BSA_des_res'] = red_bsa\n",
    "plg_1_2nmaa['mda_plga_frm_1.2nm'] = plg_1_2nmaa['mda_plga_frm_1.2nm'].replace('nan', np.nan).fillna(0)\n",
    "plg_1_2nmaa.tail()"
   ]
  },
  {
   "cell_type": "code",
   "execution_count": null,
   "metadata": {},
   "outputs": [],
   "source": [
    "apl_list = []\n",
    "\n",
    "# Some residues don't have any contact with the 3 N = 20 PLGA oligomers within 100 ns,\n",
    "# Put residues that do have contact with BSA in a separate list\n",
    "for index, r_pl in plg_1_2nmaa.iterrows():\n",
    "    if r_pl['mda_plga_frm_1.2nm'] != 0:\n",
    "        apl_list.append(r_pl['BSA_des_res'])\n",
    "        \n",
    "# This chunk of code gets an AA count from the above list, in order \n",
    "# to get a total number of residues that contact BSA\n",
    "cpl_l = []\n",
    "\n",
    "for index, r_a in aa_count.iterrows():\n",
    "    count = 0\n",
    "    for i in range(len(apl_list)):\n",
    "        if r_a['Amino_acids'] in apl_list[i]:\n",
    "            count += 1\n",
    "    cpl_l.append(count)      \n",
    "        \n",
    "aa_count['plga_1.2nm_100ns'] = cpl_l\n",
    "aa_count"
   ]
  },
  {
   "cell_type": "code",
   "execution_count": null,
   "metadata": {},
   "outputs": [],
   "source": [
    "# This gives the total number of residues that are within 4 angstroms of a PLGA oligomer residue\n",
    "# within a 100 ns trajectory block\n",
    "aa_count['plga_1.2nm_100ns'].sum()"
   ]
  },
  {
   "cell_type": "code",
   "execution_count": null,
   "metadata": {},
   "outputs": [],
   "source": [
    "# This gives the total number of residues that are within 4 angstroms of a water molecule\n",
    "# within a 1 ns trajectory block\n",
    "aa_count['No_of_surf_res (MDAnalysis)'].sum()"
   ]
  },
  {
   "cell_type": "code",
   "execution_count": null,
   "metadata": {},
   "outputs": [],
   "source": [
    "# This gives the total fraction of contacts within the 1.2 nm Rg 100 ns trajectory\n",
    "aa_count['plga_1.2nm_100ns'].sum()/aa_count['No_of_surf_res (MDAnalysis)'].sum()"
   ]
  },
  {
   "cell_type": "markdown",
   "metadata": {},
   "source": [
    "Calculate mean occupancy and the standard deviation for 1.2 nm trajectory\n",
    "\n",
    "Numpy mean and std function was used to calculate mean occupancy and std dev using occ values from aa_frmcount output"
   ]
  },
  {
   "cell_type": "code",
   "execution_count": null,
   "metadata": {},
   "outputs": [],
   "source": [
    "# Mean occupancy and std deviation \n",
    "ll_mo = [value[1] for key, value in h2di.items()]\n",
    "print(\"Mean Occpancy (1.2 nm Rg): \"+str(np.mean(ll_mo)), \"Occ. std. dev.: \"+str(np.std(ll_mo)))"
   ]
  },
  {
   "cell_type": "markdown",
   "metadata": {},
   "source": [
    "### Calc. fractional contacts for each AA group type "
   ]
  },
  {
   "cell_type": "code",
   "execution_count": null,
   "metadata": {},
   "outputs": [],
   "source": [
    "cd_12nm = frac_cont(h2di)\n",
    "cd_12nm"
   ]
  },
  {
   "cell_type": "code",
   "execution_count": null,
   "metadata": {},
   "outputs": [],
   "source": [
    "cd = frac_cont(h2di)\n",
    "kklh = []\n",
    "for key, value in cd.items():\n",
    "    kklh.append(value[1])\n",
    "# Must substract aromatic residues, since they are already counted\n",
    "sum(kklh) - cd['Aromatic'][1]"
   ]
  },
  {
   "cell_type": "code",
   "execution_count": null,
   "metadata": {},
   "outputs": [],
   "source": [
    "no_surf = aa_count['No_of_surf_res (MDAnalysis)'].sum()"
   ]
  },
  {
   "cell_type": "code",
   "execution_count": null,
   "metadata": {},
   "outputs": [],
   "source": [
    "fcnt_rg1_2nm, prgrp_1_2nm, aa_matx = bavg_frac_cnt(5, prot, all_pn20, dmax, u_pn20, no_surf, 0, 10000)"
   ]
  },
  {
   "cell_type": "code",
   "execution_count": null,
   "metadata": {},
   "outputs": [],
   "source": [
    "fcnt_rg1_2nm"
   ]
  },
  {
   "cell_type": "code",
   "execution_count": null,
   "metadata": {},
   "outputs": [],
   "source": [
    "fc_12nm_mean = np.array([np.mean(fcnt_rg1_2nm['Negative']), np.mean(fcnt_rg1_2nm['Positive'])\n",
    "                        ,np.mean(fcnt_rg1_2nm['Polar']),np.mean(fcnt_rg1_2nm['Hydrophobic'])\n",
    "                        , np.mean(fcnt_rg1_2nm['Aromatic'])])\n",
    "fc_12nm_mean"
   ]
  },
  {
   "cell_type": "code",
   "execution_count": null,
   "metadata": {},
   "outputs": [],
   "source": [
    "fc_12nm_std = np.array([np.std(fcnt_rg1_2nm['Negative']), np.std(fcnt_rg1_2nm['Positive'])\n",
    "                       ,np.std(fcnt_rg1_2nm['Polar']),np.std(fcnt_rg1_2nm['Hydrophobic'])\n",
    "                       , np.std(fcnt_rg1_2nm['Aromatic'])])\n",
    "fc_12nm_std"
   ]
  },
  {
   "cell_type": "code",
   "execution_count": null,
   "metadata": {},
   "outputs": [],
   "source": [
    "x_pos = np.arange(5)\n",
    "aa_types = [\"Negative\", \"Positive\", \"Polar\", \"Hydrophobic\", \"Aromatic\"]\n",
    "plt.figure(figsize=(7,7))\n",
    "plt.bar(x_pos, fc_12nm_mean, yerr=fc_12nm_std, ecolor='black',capsize=5, color='c')\n",
    "plt.title(r'Fractional Contacts 1.2 nm Rg restrained', fontsize=15)\n",
    "plt.xticks(x_pos, labels=aa_types, fontsize=12)\n",
    "plt.ylabel(r'Fractional Contacts', fontsize=15)\n",
    "#plt.ylim(-1.9,0)\n",
    "#font = font_manager.FontProperties(family='Arial', style='normal', size='14')\n",
    "#plt.legend([r'$N_{PLGA}$ = 8: $L_{p}$ = 17.8 $\\AA$ ± 1.5 $\\AA$'], loc=3, frameon=0, fontsize=14, prop=font)\n",
    "#plt.tick_params(labelsize=14)\n",
    "#plt.text(5,-0.15,r'R$^{2}$ = 0.99', fontsize=15, color='blue')"
   ]
  },
  {
   "cell_type": "markdown",
   "metadata": {},
   "source": [
    "### Total fraction of contacts: averages and std dev calc from 5 20ns blocks"
   ]
  },
  {
   "cell_type": "code",
   "execution_count": null,
   "metadata": {},
   "outputs": [],
   "source": [
    "np.mean(fcnt_rg1_2nm['total_frac'])"
   ]
  },
  {
   "cell_type": "code",
   "execution_count": null,
   "metadata": {},
   "outputs": [],
   "source": [
    "np.std(fcnt_rg1_2nm['total_frac'])"
   ]
  },
  {
   "cell_type": "markdown",
   "metadata": {},
   "source": [
    "### Avg no. PLGA residues per BSA AA residue group "
   ]
  },
  {
   "cell_type": "code",
   "execution_count": null,
   "metadata": {},
   "outputs": [],
   "source": [
    "prgrp_1_2nm"
   ]
  },
  {
   "cell_type": "code",
   "execution_count": null,
   "metadata": {},
   "outputs": [],
   "source": [
    "mean_12nm = np.zeros(shape=5)\n",
    "std_12nm = np.zeros(shape=5)\n",
    "count = 0\n",
    "for key, value in prgrp_1_2nm.items():\n",
    "    mpl_12nm = []\n",
    "    var_12nm = []\n",
    "    for i in prgrp_1_2nm[str(key)].flat:\n",
    "        mpl_12nm.append(i[0])\n",
    "        var_12nm.append((i[1])**2)\n",
    "    \n",
    "    # calc frac cont averages\n",
    "    mean_12nm[count] = np.mean(mpl_12nm)\n",
    "    \n",
    "    # calc frac cont std dev: https://stats.stackexchange.com/questions/25848/how-to-sum-a-standard-deviation \n",
    "    std_12nm[count] = np.sqrt(np.sum(var_12nm)/5)\n",
    "    \n",
    "    count += 1\n"
   ]
  },
  {
   "cell_type": "code",
   "execution_count": null,
   "metadata": {},
   "outputs": [],
   "source": [
    "mean_12nm"
   ]
  },
  {
   "cell_type": "code",
   "execution_count": null,
   "metadata": {},
   "outputs": [],
   "source": [
    "std_12nm "
   ]
  },
  {
   "cell_type": "code",
   "execution_count": null,
   "metadata": {},
   "outputs": [],
   "source": [
    "x_pos = np.arange(5)\n",
    "aa_types = [\"Negative\", \"Positive\", \"Polar\", \"Hydrophobic\", \"Aromatic\"]\n",
    "plt.figure(figsize=(7,7))\n",
    "plt.bar(x_pos, mean_12nm, yerr=std_12nm, ecolor='black',capsize=5)\n",
    "plt.title(r'No. of PLGA residues 1.2 nm Rg restrained', fontsize=15)\n",
    "plt.xticks(x_pos, labels=aa_types, fontsize=12)\n",
    "plt.ylabel(r'No. of PLGA residues', fontsize=15)"
   ]
  },
  {
   "cell_type": "markdown",
   "metadata": {},
   "source": [
    "### Protein/polymer contact map movie"
   ]
  },
  {
   "cell_type": "code",
   "execution_count": null,
   "metadata": {},
   "outputs": [],
   "source": [
    "g2_d, fr_p, h_mat = grptwocnt_aa(prot, all_pn20, dmax, u_pn20)"
   ]
  },
  {
   "cell_type": "code",
   "execution_count": null,
   "metadata": {},
   "outputs": [],
   "source": [
    "def gtwo_trjcnt(prot_atoms, g2_atoms, dmax, universe, start, end):\n",
    "    \"\"\"This function calcuates the average number of PLGA mononers per BSA AA group and no for each trajectory block\"\"\"\n",
    "    \n",
    "    sf_lb = [\"Negative\", \"Positive\", \"Polar\", \"Hydrophobic\", \"Aromatic\"]\n",
    "    \n",
    "    aa_dict = {}\n",
    "    \n",
    "    laa = np.zeros(shape=(len(prot_atoms.residues),1,end-start))\n",
    "    \n",
    "    trj_aa = np.zeros(shape=(len(sf_lb),1, end-start))\n",
    "    \n",
    "    l_final = np.zeros(shape=(len(prot_atoms.residues)))\n",
    "    \n",
    "    universe.trajectory[start]\n",
    "    \n",
    "    count = -1\n",
    "    \n",
    "    for ts in universe.trajectory[start:end]: \n",
    "    \n",
    "        g2_dict, fr_pres, hh_matx = grptwocnt_aa(prot_atoms, g2_atoms, dmax, universe)\n",
    "        \n",
    "        count += 1\n",
    "        \n",
    "        laa[:,0,count] = hh_matx\n",
    " \n",
    "        trj_aa[:,0,count] = fr_pres\n",
    "        \n",
    "        universe.trajectory[end]\n",
    "        \n",
    "    al_res = np.where(laa != 0)[0]\n",
    "\n",
    "    for i in al_res.flat:\n",
    "        l_final[i] = np.mean(laa[i,0,:])\n",
    "\n",
    "    for i in range(len(sf_lb)):\n",
    "        aa_dict[sf_lb[i]] = [np.mean(trj_aa[i,0,:]), np.std(trj_aa[i,0,:])]\n",
    "    \n",
    "    return aa_dict, l_final"
   ]
  },
  {
   "cell_type": "code",
   "execution_count": null,
   "metadata": {},
   "outputs": [],
   "source": [
    "# fix PLGA residue counting \n",
    "def grptwocnt_aa(prot_atoms, g2_atoms, dmax, universe):\n",
    "    \"\"\" This function calculates the number of PLGA monomers within 4 A of a BSA AA residue and \n",
    "    return a numpy array containing the no of PLGA monomers for each BSA AA residue at one single frame \"\"\"\n",
    "    \n",
    "    gg_dict ={}\n",
    "    \n",
    "    plga_mon = maa_dist.distance_array(g2_atoms.positions, prot_atoms.positions, box=universe.trajectory.ts.dimensions)\n",
    "    \n",
    "    plga_mon_resd = np.nonzero(plga_mon < dmax)\n",
    "    \n",
    "    # need to check how to ensure that I'm counting other PLGA oligomer residues(they all have the same resid)\n",
    "    grptwo = np.array(list(g2_atoms[plga_mon_resd[0]].resids))\n",
    "    \n",
    "    p_resds = np.array(list(prot_atoms[plga_mon_resd[1]].resids))\n",
    "    \n",
    "    kl = np.unique(grptwo)\n",
    "    \n",
    "    la = np.zeros(shape=len(prot_atoms.residues))\n",
    "\n",
    "    for i in kl.flat:\n",
    "        count = 0\n",
    "        res_ind = np.nonzero(grptwo == i)[0]\n",
    "        hu = np.unique(p_resds[res_ind])\n",
    "        count += 1\n",
    "        for j in hu.flat:\n",
    "            la[j-1] = la[j-1] + count\n",
    "\n",
    "    fin_res = np.where(la != 0)[0]\n",
    "    \n",
    "    # Calculate number of PLGA residues per AA \n",
    "    for i in fin_res.flat:\n",
    "        gg_dict[str(list(prot.residues[i:i+1])[0])] = la[i]\n",
    "\n",
    "    # Grouping of residues in Smith et al  \n",
    "    aromatic_res = ['PHE', 'TRP', 'TYR', 'HIS']\n",
    "    hydrophobic_res = ['ALA', 'ILE', 'LEU', 'VAL', 'GLY', 'PRO','PHE', 'TRP','MET']\n",
    "    polar_res = ['ASN', 'CYS', 'GLN', 'SER', 'THR','TYR']\n",
    "    neg_res = ['ASP', 'GLU']\n",
    "    pos_res = ['ARG', 'HIS', 'LYS']\n",
    "\n",
    "    frac_res = [neg_res, pos_res, polar_res, hydrophobic_res, aromatic_res]\n",
    "    \n",
    "    # For each amino acid type in frac_res, this code chunk saves the PLGA residue count in a list and sums them together to \n",
    "    # to get a total frame count within the trajectory for each AA group in frac_res\n",
    "    co_grpaa = []\n",
    "\n",
    "    for row in frac_res:\n",
    "        fr_list = []\n",
    "        for j in range(len(row)):\n",
    "            for key, value in gg_dict.items():\n",
    "                if row[j] in key:\n",
    "                    fr_list.append(value)\n",
    "        co_grpaa.append(sum(fr_list))\n",
    "        \n",
    "    return gg_dict, np.array(co_grpaa), la"
   ]
  },
  {
   "cell_type": "code",
   "execution_count": null,
   "metadata": {},
   "outputs": [],
   "source": [
    "g2_d, fr_p, h_mat = grptwocnt_aa(prot, all_pn20, dmax, u_pn20)"
   ]
  },
  {
   "cell_type": "code",
   "execution_count": null,
   "metadata": {},
   "outputs": [],
   "source": [
    "u_pn20.trajectory.frame"
   ]
  },
  {
   "cell_type": "code",
   "execution_count": null,
   "metadata": {},
   "outputs": [],
   "source": [
    "list(all_pn20.resids)"
   ]
  },
  {
   "cell_type": "code",
   "execution_count": null,
   "metadata": {},
   "outputs": [],
   "source": [
    "list(all_pn20[0:11].resids)"
   ]
  },
  {
   "cell_type": "code",
   "execution_count": null,
   "metadata": {},
   "outputs": [],
   "source": [
    "np.equal(list(all_pn20.resids),1).view(np.int8)"
   ]
  },
  {
   "cell_type": "code",
   "execution_count": null,
   "metadata": {},
   "outputs": [],
   "source": [
    "absdiff = np.abs(np.diff(np.equal(list(all_pn20.resids),1).view(np.int8)))\n",
    "absdiff"
   ]
  },
  {
   "cell_type": "code",
   "execution_count": null,
   "metadata": {},
   "outputs": [],
   "source": [
    "rep_plga = np.where(absdiff == 1)[0]\n",
    "rep_plga"
   ]
  },
  {
   "cell_type": "code",
   "execution_count": null,
   "metadata": {},
   "outputs": [],
   "source": [
    "rep_plga = np.concatenate(([0], rep_plga))\n",
    "rep_plga"
   ]
  },
  {
   "cell_type": "code",
   "execution_count": null,
   "metadata": {},
   "outputs": [],
   "source": [
    "rp_n20 = rep_plga.reshape(3,2)\n",
    "rp_n20"
   ]
  },
  {
   "cell_type": "code",
   "execution_count": null,
   "metadata": {},
   "outputs": [],
   "source": [
    "rp_n20.shape"
   ]
  },
  {
   "cell_type": "code",
   "execution_count": null,
   "metadata": {},
   "outputs": [],
   "source": [
    "list(all_pn20[rp_n20[0][0]:rp_n20[0][1]])"
   ]
  },
  {
   "cell_type": "code",
   "execution_count": null,
   "metadata": {},
   "outputs": [],
   "source": [
    "all_pn20[rp_n20[0][0]:rp_n20[0][1]].center_of_mass()"
   ]
  },
  {
   "cell_type": "code",
   "execution_count": null,
   "metadata": {},
   "outputs": [],
   "source": [
    "np.equal(list(all_pn20.resids),1).view(np.int8)\n",
    "absdiff = np.abs(np.diff(np.equal(list(all_pn20.resids),1).view(np.int8)))\n",
    "#absdiff\n",
    "\n",
    "rep_plga = np.where(absdiff == 1)[0]+1\n",
    "#rep_plga\n",
    "\n",
    "rep_plga = np.concatenate(([0], rep_plga))\n",
    "#rep_plga\n",
    "\n",
    "rp_n20 = rep_plga.reshape(3,2)\n",
    "#rp_n20\n",
    "\n",
    "list(all_pn20[rp_n20[2][0]:rp_n20[2][1]].resids)"
   ]
  },
  {
   "cell_type": "code",
   "execution_count": null,
   "metadata": {},
   "outputs": [],
   "source": [
    "def com_plga_oligs(g2_atoms, n_mon):\n",
    "    hj_1 = []\n",
    "    hj_2 = []\n",
    "    hj_3 = []\n",
    "    for i in range(n_mon):\n",
    "        if i == 0:\n",
    "            absdif = np.abs(np.diff(np.equal(list(g2_atoms.resids),i+1).view(np.int8)))\n",
    "            rep_pga = np.concatenate(([0], np.where(absdif == 1)[0]))\n",
    "            rep_pga += 1\n",
    "            #print(rep_pga)\n",
    "            rpn20 = rep_pga.reshape(3,2)\n",
    "            hj_1.append(g2_atoms[rpn20[0][0]:rpn20[0][1]].center_of_mass())\n",
    "            hj_2.append(g2_atoms[rpn20[1][0]:rpn20[1][1]].center_of_mass())\n",
    "            hj_3.append(g2_atoms[rpn20[2][0]:rpn20[2][1]].center_of_mass())\n",
    "        elif i != 0 and i != 19:\n",
    "            absdif = np.abs(np.diff(np.equal(list(g2_atoms.resids),i+1).view(np.int8)))\n",
    "            rep_pga = np.where(absdif == 1)[0]+1\n",
    "            #print(rep_pga)\n",
    "            rpn20 = rep_pga.reshape(3,2)\n",
    "            hj_1.append(g2_atoms[rpn20[0][0]:rpn20[0][1]].center_of_mass())\n",
    "            hj_2.append(g2_atoms[rpn20[1][0]:rpn20[1][1]].center_of_mass())\n",
    "            hj_3.append(g2_atoms[rpn20[2][0]:rpn20[2][1]].center_of_mass())\n",
    "        elif i == 19: \n",
    "            absdif = np.abs(np.diff(np.equal(list(g2_atoms.resids),i+1).view(np.int8)))\n",
    "            rep_pga = np.where(absdif == 1)[0]+1\n",
    "            rep_pga = np.concatenate((rep_pga,[len(g2_atoms)]))\n",
    "            #print(rep_pga)\n",
    "            rpn20 = rep_pga.reshape(3,2)\n",
    "            hj_1.append(g2_atoms[rpn20[0][0]:rpn20[0][1]].center_of_mass())\n",
    "            hj_2.append(g2_atoms[rpn20[1][0]:rpn20[1][1]].center_of_mass())\n",
    "            hj_3.append(g2_atoms[rpn20[2][0]:rpn20[2][1]].center_of_mass())\n",
    "    oligs_cb = np.concatenate((np.array(hj_1), np.array(hj_2), np.array(hj_3)))\n",
    "    \n",
    "    return oligs_cb"
   ]
  },
  {
   "cell_type": "code",
   "execution_count": null,
   "metadata": {},
   "outputs": [],
   "source": [
    "pr_12nm = []\n",
    "for i in range(583): \n",
    "    #print(prot.select_atoms(\"resid \"+str(i+1)).resids)\n",
    "    pr_12nm.append(prot.select_atoms(\"resid \"+str(i+1)).center_of_mass())\n",
    "pr12nm_com = np.array(pr_12nm)\n",
    "pr12nm_com"
   ]
  },
  {
   "cell_type": "code",
   "execution_count": null,
   "metadata": {},
   "outputs": [],
   "source": [
    "list(all_pn20[1:10])"
   ]
  },
  {
   "cell_type": "code",
   "execution_count": null,
   "metadata": {},
   "outputs": [],
   "source": [
    "cm_12nmoligs = com_plga_oligs(all_pn20, 20)\n",
    "#cm_12nmoligs"
   ]
  },
  {
   "cell_type": "code",
   "execution_count": null,
   "metadata": {},
   "outputs": [],
   "source": [
    "len(cm_12nmoligs)"
   ]
  },
  {
   "cell_type": "code",
   "execution_count": null,
   "metadata": {},
   "outputs": [],
   "source": [
    "prot.positions"
   ]
  },
  {
   "cell_type": "code",
   "execution_count": null,
   "metadata": {},
   "outputs": [],
   "source": [
    "plga_mon[163, 33]"
   ]
  },
  {
   "cell_type": "code",
   "execution_count": null,
   "metadata": {},
   "outputs": [],
   "source": [
    "u_pn20.trajectory[7500]"
   ]
  },
  {
   "cell_type": "code",
   "execution_count": null,
   "metadata": {},
   "outputs": [],
   "source": [
    "prot.select_atoms(\"resid 409\").center_of_mass()"
   ]
  },
  {
   "cell_type": "code",
   "execution_count": null,
   "metadata": {},
   "outputs": [],
   "source": [
    "pr_12nm = []\n",
    "for i in range(583): \n",
    "    #print(prot.select_atoms(\"resid \"+str(i+1)).resids)\n",
    "    pr_12nm.append(prot.select_atoms(\"resid \"+str(i+1)).center_of_mass())\n",
    "pr12nm_com = np.array(pr_12nm)\n",
    "pr12nm_com"
   ]
  },
  {
   "cell_type": "code",
   "execution_count": null,
   "metadata": {},
   "outputs": [],
   "source": [
    "cm_12nmoligs = com_plga_oligs(all_pn20, 20)"
   ]
  },
  {
   "cell_type": "code",
   "execution_count": null,
   "metadata": {},
   "outputs": [],
   "source": [
    "cm_12nmoligs[18]"
   ]
  },
  {
   "cell_type": "code",
   "execution_count": null,
   "metadata": {},
   "outputs": [],
   "source": [
    "nbb = maa_dist.distance_array(prot.select_atoms(\"resid 409\").center_of_mass(), cm_12nmoligs[18]\n",
    "                              ,box=u_pn20.trajectory.ts.dimensions)\n",
    "#np.nonzero(nbb < dmax)\n",
    "nbb"
   ]
  },
  {
   "cell_type": "code",
   "execution_count": null,
   "metadata": {},
   "outputs": [],
   "source": [
    "grptwo"
   ]
  },
  {
   "cell_type": "code",
   "execution_count": null,
   "metadata": {},
   "outputs": [],
   "source": [
    "# I wanted to examine contacts between heavy atoms in a residue named NDP and residues 1 to 268, \n",
    "#using the first frame to define native contacts and a distance cutoff of 3.0 Ang, COM wont be under 4 A\n",
    "u_pn20.trajectory[0]\n",
    "for ts in u_pn20.trajectory[0:10000]:\n",
    "    pr_12nm = []\n",
    "    for i in range(583): \n",
    "    #print(prot.select_atoms(\"resid \"+str(i+1)).resids)\n",
    "        pr_12nm.append(prot.select_atoms(\"resid \"+str(i+1)).center_of_mass())\n",
    "    pr12nm_com = np.array(pr_12nm)\n",
    "    \n",
    "    cm_12nmoligs = com_plga_oligs(all_pn20, 20)\n",
    "    nbb = maa_dist.distance_array(prot.select_atoms(\"resid 409\").center_of_mass(), cm_12nmoligs[19]\n",
    "                              ,box=u_pn20.trajectory.ts.dimensions)\n",
    "    print(np.nonzero(nbb < dmax))\n",
    "    #pr12nm_com"
   ]
  },
  {
   "cell_type": "code",
   "execution_count": null,
   "metadata": {},
   "outputs": [],
   "source": [
    "# This is going into prot_poly_movie\n",
    "\n",
    "plga_mon = maa_dist.distance_array(pr12nm_com, cm_12nmoligs, box=u_pn20.trajectory.ts.dimensions)\n",
    "\n",
    "# This line gives me the index values of plga_mon that satisfies dmax \n",
    "plga_mon_resd = np.nonzero(plga_mon < dmax)\n",
    "\n",
    "# record the contact as boolean in matrix\n",
    "kl_12nm = np.zeros(shape=plga_mon.shape)\n",
    "for i, j in it.zip_longest(plga_mon_resd[0], plga_mon_resd[1]):\n",
    "    kl_12nm[i,j] = 1\n",
    "\n",
    "#print(grptwo)\n",
    "\n",
    "#p_resds = np.array(list(prot[plga_mon_resd[1]].resids))\n",
    "    \n",
    "#kl = np.unique(grptwo)\n",
    "    \n",
    "#la = np.zeros(shape=len(prot.residues))\n",
    "\n",
    "#for i in kl.flat:\n",
    "#    count = 0\n",
    "#    res_ind = np.nonzero(grptwo == i)[0]\n",
    "#    hu = np.unique(p_resds[res_ind])\n",
    "#    count += 1\n",
    "#    for j in hu.flat:\n",
    "#        la[j-1] = la[j-1] + count\n",
    "\n",
    "#fin_res = np.where(la != 0)[0]\n",
    "    \n",
    "# Calculate number of PLGA residues per AA \n",
    "#for i in fin_res.flat:\n",
    "#    gg_dict[str(list(prot.residues[i:i+1])[0])] = la[i]"
   ]
  },
  {
   "cell_type": "code",
   "execution_count": null,
   "metadata": {},
   "outputs": [],
   "source": [
    "plga_mon_resd"
   ]
  },
  {
   "cell_type": "code",
   "execution_count": null,
   "metadata": {},
   "outputs": [],
   "source": [
    "# initialize array \n",
    "res_n20 = np.zeros(shape=(583, 60))\n",
    "\n",
    "# get elements within res_n20 matrix\n",
    "res_n20[plga_mon_resd[0]]"
   ]
  },
  {
   "cell_type": "code",
   "execution_count": null,
   "metadata": {},
   "outputs": [],
   "source": [
    "plga_mon_resd[0].shape"
   ]
  },
  {
   "cell_type": "code",
   "execution_count": null,
   "metadata": {},
   "outputs": [],
   "source": [
    "plga_mon_resd[1].shape"
   ]
  },
  {
   "cell_type": "code",
   "execution_count": null,
   "metadata": {},
   "outputs": [],
   "source": [
    "plga_mon.shape"
   ]
  },
  {
   "cell_type": "code",
   "execution_count": null,
   "metadata": {},
   "outputs": [],
   "source": [
    "prot[4301]"
   ]
  },
  {
   "cell_type": "code",
   "execution_count": null,
   "metadata": {},
   "outputs": [],
   "source": [
    "plga_mon_resd"
   ]
  },
  {
   "cell_type": "code",
   "execution_count": null,
   "metadata": {},
   "outputs": [],
   "source": [
    "kl_12nm = np.zeros(shape=(543,4653))\n",
    "for i, j in it.zip_longest(plga_mon_resd[0], plga_mon_resd[1]):\n",
    "    kl_12nm[i,j] = 1\n",
    "kl_12nm"
   ]
  },
  {
   "cell_type": "code",
   "execution_count": null,
   "metadata": {},
   "outputs": [],
   "source": [
    "kl_12nm[497,4449]"
   ]
  },
  {
   "cell_type": "code",
   "execution_count": null,
   "metadata": {},
   "outputs": [],
   "source": [
    "fig, ax = plt.subplots(figsize=(10,10))\n",
    "l_s = ax.matshow(kl_12nm, aspect=\"auto\")\n",
    "ax.set_ylim(150,500)\n",
    "ax.set_xlim(4000, 4500)"
   ]
  },
  {
   "cell_type": "code",
   "execution_count": null,
   "metadata": {},
   "outputs": [],
   "source": [
    "plga_mon.shape"
   ]
  },
  {
   "cell_type": "code",
   "execution_count": null,
   "metadata": {},
   "outputs": [],
   "source": [
    "all_pn20.resids"
   ]
  },
  {
   "cell_type": "code",
   "execution_count": null,
   "metadata": {},
   "outputs": [],
   "source": [
    "plga_mon.shape"
   ]
  },
  {
   "cell_type": "code",
   "execution_count": null,
   "metadata": {},
   "outputs": [],
   "source": [
    "res_n20 = np.arange(543)+1\n",
    "#res_n20[0]\n",
    "res_n20[plga_mon_resd[0]]"
   ]
  },
  {
   "cell_type": "code",
   "execution_count": null,
   "metadata": {},
   "outputs": [],
   "source": [
    "nw_12nm = np.array([plga_mon_resd[0], plga_mon_resd[1]])\n",
    "nw_12nm"
   ]
  },
  {
   "cell_type": "code",
   "execution_count": null,
   "metadata": {},
   "outputs": [],
   "source": []
  },
  {
   "cell_type": "code",
   "execution_count": null,
   "metadata": {},
   "outputs": [],
   "source": [
    "plga_mon_resd"
   ]
  },
  {
   "cell_type": "code",
   "execution_count": null,
   "metadata": {},
   "outputs": [],
   "source": []
  },
  {
   "cell_type": "code",
   "execution_count": null,
   "metadata": {},
   "outputs": [],
   "source": []
  },
  {
   "cell_type": "code",
   "execution_count": null,
   "metadata": {},
   "outputs": [],
   "source": [
    "# fix the PLGA residue counting\n",
    "def prot_poly_cntmovie(prot_atoms, g2_atoms, dmax, universe, start, end):\n",
    "    \"\"\"This function calculates the contact matrix between protein AA residues and group 2 residues at each timestep \n",
    "    and returns a multi-dim numpy array saves contact map information\"\"\"\n",
    "    \n",
    "    universe.trajectory[start]\n",
    "    \n",
    "    cnt_un = 0 \n",
    "    \n",
    "    pp_mat = np.zeros(shape=(1,end-start), dtype=object)\n",
    "    \n",
    "    for ts in universe.trajectory[start:end]:\n",
    "    \n",
    "        ro = len(prot_atoms)\n",
    "        cl = len(g2_atoms)\n",
    "        dij_tri = np.zeros(shape=(ro,cl))\n",
    "        dij_tri = maa_dist.distance_array(g2_atoms.positions, prot_atoms.positions\n",
    "                                          , box=universe.trajectory.ts.dimensions)\n",
    "    \n",
    "        matfr = np.zeros(shape=(len(prot_atoms.residues),len(g2_atoms.residues)))\n",
    "    \n",
    "        pr_pol = np.nonzero(dij_tri < dmax)\n",
    "        #print(pr_pol)\n",
    "        \n",
    "        grptwo = np.unique(np.array(list(g2_atoms[pr_pol[0]].resids)))\n",
    "    \n",
    "        p_resds = np.unique(np.array(list(prot_atoms[pr_pol[1]].resids)))\n",
    "    \n",
    "        count = 0 \n",
    "        \n",
    "        for i in pr_pol[0].flat:\n",
    "            m_i = prot_atoms[pr_pol[1][count]].resid\n",
    "            m_j = g2_atoms[i].resid\n",
    "            matfr[m_i-1,m_j-1] = 1\n",
    "            count += 1\n",
    "        \n",
    "        pp_mat[0,cnt_un] = matfr\n",
    "        \n",
    "        cnt_un += 1\n",
    "        \n",
    "        #universe.trajectory[end]\n",
    "        \n",
    "    return pp_mat"
   ]
  },
  {
   "cell_type": "code",
   "execution_count": null,
   "metadata": {},
   "outputs": [],
   "source": [
    "# Need to fix function, the residue number are not counting the other 2 PLGA oligomers cuz of same resid number\n",
    "trj_ppmap_12nm = prot_poly_cntmovie(prot, all_pn20, dmax, u_pn20, 0, 10000)"
   ]
  },
  {
   "cell_type": "code",
   "execution_count": null,
   "metadata": {},
   "outputs": [],
   "source": [
    "trj_ppmap_12nm.shape"
   ]
  },
  {
   "cell_type": "code",
   "execution_count": null,
   "metadata": {},
   "outputs": [],
   "source": [
    "list(all_pn20)"
   ]
  },
  {
   "cell_type": "code",
   "execution_count": null,
   "metadata": {},
   "outputs": [],
   "source": [
    "from collections import namedtuple\n",
    "from datetime import datetime, timedelta\n",
    "from functools import partial\n",
    "from pathlib import Path\n"
   ]
  },
  {
   "cell_type": "code",
   "execution_count": null,
   "metadata": {},
   "outputs": [],
   "source": [
    "# change square size and figure out how to save as a video file \n",
    "%matplotlib notebook\n",
    "%matplotlib notebook\n",
    "fig = plt.figure(figsize=(10,10))\n",
    "ims = []\n",
    "for i in range(10000):\n",
    "    data = trj_ppmap_12nm[0,i]\n",
    "    im = plt.imshow(data, aspect='auto', cmap='Greys')\n",
    "    ims.append([im])\n",
    "      \n",
    "ani = animation.ArtistAnimation(fig, ims, blit=True, repeat=False)\n",
    "ani.save('1.2nmRg_ppmov.mp4', fps=50)\n",
    "plt.tight_layout()\n",
    "plt.show()"
   ]
  },
  {
   "cell_type": "code",
   "execution_count": null,
   "metadata": {},
   "outputs": [],
   "source": [
    "# matrix containing the avg number of PLGA residues for each block for each amino acid \n",
    "np.where(aa_matx[0, 0] != 0)"
   ]
  },
  {
   "cell_type": "markdown",
   "metadata": {},
   "source": [
    "## 1.5 nm PLGA restrained Rg 100 ns trajectory"
   ]
  },
  {
   "cell_type": "markdown",
   "metadata": {},
   "source": [
    "Load the rg = 1.5 nm (3 PLGA N = 20 oligomer/BSA system) "
   ]
  },
  {
   "cell_type": "code",
   "execution_count": null,
   "metadata": {},
   "outputs": [],
   "source": [
    "# Set up the MD Simulation\n",
    "u15nm_pn20 = mda.Universe(\"../1.5nm_bsa_prod/k4000_1.5nm/sys1_5nmppnopbc.gro\"\n",
    "                      , \"../1.5nm_bsa_prod/k4000_1.5nm/1_5nmppnopbc.xtc\")"
   ]
  },
  {
   "cell_type": "code",
   "execution_count": null,
   "metadata": {},
   "outputs": [],
   "source": [
    "u15nm_pn20"
   ]
  },
  {
   "cell_type": "code",
   "execution_count": null,
   "metadata": {},
   "outputs": [],
   "source": [
    "pn20_len15 = len(u15nm_pn20.trajectory)\n",
    "pn20_len15"
   ]
  },
  {
   "cell_type": "code",
   "execution_count": null,
   "metadata": {},
   "outputs": [],
   "source": [
    "#Select all the PLGA residues, heavy atoms only \n",
    "all15_pn20 = u15nm_pn20.select_atoms(\"resname sPLG PLG tPLG and not type H\")\n",
    "all15_pn20"
   ]
  },
  {
   "cell_type": "code",
   "execution_count": null,
   "metadata": {},
   "outputs": [],
   "source": [
    "# Select BSA residues, heavy atoms only \n",
    "prot_15nm = u15nm_pn20.select_atoms(\"protein and not type H\")\n",
    "prot_15nm"
   ]
  },
  {
   "cell_type": "code",
   "execution_count": null,
   "metadata": {},
   "outputs": [],
   "source": [
    "#dmax = 4.0, protein group(4653 atoms), plga atom group (543 atoms), took 381.6 s (6 min 36s on 4 cores)\n",
    "start = 0\n",
    "end = pn20_len15 - 1\n",
    "s_time = timeit.default_timer()\n",
    "h2di_15nm = aa_frmcount(prot_15nm, all15_pn20, dmax, u15nm_pn20, start, end)\n",
    "timeit.default_timer() - s_time\n",
    "h2di_15nm"
   ]
  },
  {
   "cell_type": "code",
   "execution_count": null,
   "metadata": {},
   "outputs": [],
   "source": [
    "len(h2di_15nm.keys())"
   ]
  },
  {
   "cell_type": "code",
   "execution_count": null,
   "metadata": {},
   "outputs": [],
   "source": [
    "pr_res = list(prot_15nm.residues)\n",
    "ss_res = [str(row) for row in pr_res]\n",
    "rkg_15nm = {key:h2di_15nm[key][0] for key, value in h2di_15nm.items()}\n",
    "plg_1_5nmaa = pd.DataFrame(data=ss_res, columns=[\"BSA_des_res\"])\n",
    "plg_1_5nmaa['mda_plga_frm_1.5nm'] = plg_1_5nmaa['BSA_des_res'].map(rkg_15nm)\n",
    "plg_1_5nmaa['BSA_des_res'] = red_bsa\n",
    "plg_1_5nmaa['mda_plga_frm_1.5nm'] = plg_1_5nmaa['mda_plga_frm_1.5nm'].replace('nan', np.nan).fillna(0)\n",
    "plg_1_5nmaa.head()"
   ]
  },
  {
   "cell_type": "code",
   "execution_count": null,
   "metadata": {},
   "outputs": [],
   "source": [
    "apl_15nm = []\n",
    "\n",
    "# Some residues don't have any contact with the 3 N = 20 PLGA oligomers within 100 ns,\n",
    "# Put residues that do have contact with BSA in a separate list\n",
    "for index, r_pl in plg_1_5nmaa.iterrows():\n",
    "    if r_pl['mda_plga_frm_1.5nm'] != 0:\n",
    "        apl_15nm.append(r_pl['BSA_des_res'])\n",
    "        \n",
    "# This chunk of code gets an AA count from the above list, in order \n",
    "# to get a total number of residues that contact BSA\n",
    "cpl_15nm = []\n",
    "\n",
    "for index, r_a in aa_count.iterrows():\n",
    "    count = 0\n",
    "    for i in range(len(apl_15nm)):\n",
    "        if r_a['Amino_acids'] in apl_15nm[i]:\n",
    "            count += 1\n",
    "    cpl_15nm.append(count)      \n",
    "        \n",
    "aa_count['plga_1.5nm_100ns'] = cpl_15nm\n",
    "#aa_count.drop('No_of_surf_res (VMD)', axis=1, inplace=True)\n",
    "aa_count"
   ]
  },
  {
   "cell_type": "code",
   "execution_count": null,
   "metadata": {},
   "outputs": [],
   "source": [
    "# This gives the total number of residues that are within 4 angstroms of a PLGA oligomer residue\n",
    "# within a 100 ns trajectory block\n",
    "aa_count['plga_1.5nm_100ns'].sum()"
   ]
  },
  {
   "cell_type": "code",
   "execution_count": null,
   "metadata": {},
   "outputs": [],
   "source": [
    "# This gives the total number of residues that are within 4 angstroms of a water molecule\n",
    "# within a 1 ns trajectory block\n",
    "aa_count['No_of_surf_res (MDAnalysis)'].sum()"
   ]
  },
  {
   "cell_type": "code",
   "execution_count": null,
   "metadata": {},
   "outputs": [],
   "source": [
    "# This gives the total fraction of contacts within the 1.2 nm Rg 100 ns trajectory\n",
    "aa_count['plga_1.5nm_100ns'].sum()/aa_count['No_of_surf_res (MDAnalysis)'].sum()"
   ]
  },
  {
   "cell_type": "code",
   "execution_count": null,
   "metadata": {},
   "outputs": [],
   "source": [
    "# Mean occupancy and std deviation \n",
    "ll_mo15 = [value[1] for key, value in h2di_15nm.items()]\n",
    "print(\"Mean Occpancy (1.5 nm Rg): \"+str(np.mean(ll_mo15)), \"Occ. std. dev.: \"+str(np.std(ll_mo15)))"
   ]
  },
  {
   "cell_type": "code",
   "execution_count": null,
   "metadata": {},
   "outputs": [],
   "source": [
    "cd_15nm = frac_cont(h2di_15nm)\n",
    "cd_15nm"
   ]
  },
  {
   "cell_type": "markdown",
   "metadata": {},
   "source": [
    "### Calc. fractional contacts for each AA group type "
   ]
  },
  {
   "cell_type": "code",
   "execution_count": null,
   "metadata": {},
   "outputs": [],
   "source": [
    "fcnt_rg1_5nm, prgrp_1_5nm, aa_matx_15nm = bavg_frac_cnt(5, prot_15nm, all15_pn20, dmax, u15nm_pn20, no_surf, 0, 10000)"
   ]
  },
  {
   "cell_type": "code",
   "execution_count": null,
   "metadata": {},
   "outputs": [],
   "source": [
    "fcnt_rg1_5nm"
   ]
  },
  {
   "cell_type": "code",
   "execution_count": null,
   "metadata": {},
   "outputs": [],
   "source": [
    "fc_15nm_mean = np.array([np.mean(fcnt_rg1_5nm['Negative']), np.mean(fcnt_rg1_5nm['Positive'])\n",
    "                        ,np.mean(fcnt_rg1_5nm['Polar']),np.mean(fcnt_rg1_5nm['Hydrophobic'])\n",
    "                        , np.mean(fcnt_rg1_5nm['Aromatic'])])\n",
    "fc_15nm_mean"
   ]
  },
  {
   "cell_type": "code",
   "execution_count": null,
   "metadata": {},
   "outputs": [],
   "source": [
    "fc_15nm_std = np.array([np.std(fcnt_rg1_5nm['Negative']), np.std(fcnt_rg1_5nm['Positive'])\n",
    "                       ,np.std(fcnt_rg1_5nm['Polar']),np.std(fcnt_rg1_5nm['Hydrophobic'])\n",
    "                       , np.std(fcnt_rg1_5nm['Aromatic'])])\n",
    "fc_15nm_std"
   ]
  },
  {
   "cell_type": "code",
   "execution_count": null,
   "metadata": {},
   "outputs": [],
   "source": [
    "x_pos = np.arange(5)\n",
    "width = 0.35\n",
    "aa_types = [\"Negative\", \"Positive\", \"Polar\", \"Hydrophobic\", \"Aromatic\"]\n",
    "plt.figure(figsize=(7,7))\n",
    "plt.bar(x_pos, fc_12nm_mean, width, yerr=fc_12nm_std, ecolor='black',capsize=5, color='royalblue')\n",
    "plt.bar(x_pos+width, fc_15nm_mean, width, yerr=fc_15nm_std, ecolor='black',capsize=5, color='c')\n",
    "plt.title(r'Fractional Contacts Rg restrained', fontsize=15)\n",
    "plt.xticks(x_pos+width/2, labels=aa_types, fontsize=12)\n",
    "plt.legend(['Rg = 1.2 nm', 'Rg = 1.5 nm'], frameon=False)\n",
    "plt.ylabel(r'Fractional Contacts', fontsize=15)"
   ]
  },
  {
   "cell_type": "code",
   "execution_count": null,
   "metadata": {},
   "outputs": [],
   "source": []
  },
  {
   "cell_type": "code",
   "execution_count": null,
   "metadata": {},
   "outputs": [],
   "source": []
  },
  {
   "cell_type": "markdown",
   "metadata": {},
   "source": [
    "### Total fraction of contacts: averages and std dev calc from 5 20 ns blocks"
   ]
  },
  {
   "cell_type": "code",
   "execution_count": null,
   "metadata": {},
   "outputs": [],
   "source": [
    "np.mean(fcnt_rg1_5nm['total_frac'])"
   ]
  },
  {
   "cell_type": "code",
   "execution_count": null,
   "metadata": {},
   "outputs": [],
   "source": [
    "np.std(fcnt_rg1_5nm['total_frac'])"
   ]
  },
  {
   "cell_type": "code",
   "execution_count": null,
   "metadata": {},
   "outputs": [],
   "source": [
    "prgrp_1_5nm"
   ]
  },
  {
   "cell_type": "code",
   "execution_count": null,
   "metadata": {},
   "outputs": [],
   "source": [
    "# matrix containing the avg number of PLGA residues for each block for each amino acid \n",
    "np.where(aa_matx_15nm[0, 0] != 0)"
   ]
  },
  {
   "cell_type": "markdown",
   "metadata": {},
   "source": [
    "### Avg no. PLGA residues per BSA AA residue group "
   ]
  },
  {
   "cell_type": "code",
   "execution_count": null,
   "metadata": {},
   "outputs": [],
   "source": [
    "prgrp_1_5nm"
   ]
  },
  {
   "cell_type": "code",
   "execution_count": null,
   "metadata": {},
   "outputs": [],
   "source": [
    "mean_15nm = np.zeros(shape=5)\n",
    "std_15nm = np.zeros(shape=5)\n",
    "count = 0\n",
    "for key, value in prgrp_1_5nm.items():\n",
    "    mpl_15nm = []\n",
    "    var_15nm = []\n",
    "    for i in prgrp_1_5nm[str(key)].flat:\n",
    "        mpl_15nm.append(i[0])\n",
    "        var_15nm.append((i[1])**2)\n",
    "    \n",
    "    # calc frac cont averages\n",
    "    mean_15nm[count] = np.mean(mpl_15nm)\n",
    "    \n",
    "    # calc frac cont std dev: https://stats.stackexchange.com/questions/25848/how-to-sum-a-standard-deviation \n",
    "    std_15nm[count] = np.sqrt(np.sum(var_15nm)/5)\n",
    "    \n",
    "    count += 1\n"
   ]
  },
  {
   "cell_type": "code",
   "execution_count": null,
   "metadata": {},
   "outputs": [],
   "source": [
    "mean_15nm"
   ]
  },
  {
   "cell_type": "code",
   "execution_count": null,
   "metadata": {},
   "outputs": [],
   "source": [
    "x_pos = np.arange(5)\n",
    "width = 0.35\n",
    "aa_types = [\"Negative\", \"Positive\", \"Polar\", \"Hydrophobic\", \"Aromatic\"]\n",
    "plt.figure(figsize=(7,7))\n",
    "plt.bar(x_pos, mean_12nm, width, yerr=std_12nm, ecolor='black',capsize=5, color='green')\n",
    "plt.bar(x_pos+width, mean_15nm, width, yerr=std_15nm, ecolor='black',capsize=5, color='violet')\n",
    "plt.title(r'No. of PLGA residues Rg restrained', fontsize=15)\n",
    "plt.xticks(x_pos+width/2, labels=aa_types, fontsize=12)\n",
    "plt.legend(['Rg = 1.2 nm', 'Rg = 1.5 nm'], frameon=False)\n",
    "plt.ylabel(r'No. of PLGA residues', fontsize=15)"
   ]
  },
  {
   "cell_type": "code",
   "execution_count": null,
   "metadata": {},
   "outputs": [],
   "source": []
  },
  {
   "cell_type": "code",
   "execution_count": null,
   "metadata": {},
   "outputs": [],
   "source": []
  },
  {
   "cell_type": "code",
   "execution_count": null,
   "metadata": {},
   "outputs": [],
   "source": []
  },
  {
   "cell_type": "code",
   "execution_count": null,
   "metadata": {},
   "outputs": [],
   "source": []
  },
  {
   "cell_type": "markdown",
   "metadata": {},
   "source": [
    "## 2nm restrained Rg PLGA 100 ns trajectory"
   ]
  },
  {
   "cell_type": "markdown",
   "metadata": {},
   "source": [
    "Load the rg = 1.5 nm (3 PLGA N = 20 oligomer/BSA system) "
   ]
  },
  {
   "cell_type": "markdown",
   "metadata": {},
   "source": [
    "### Calc total fraction of contacts "
   ]
  },
  {
   "cell_type": "code",
   "execution_count": null,
   "metadata": {},
   "outputs": [],
   "source": [
    "# Set up the MD Simulation\n",
    "u2nm_pn20 = mda.Universe(\"../2nm_bsa_prod/k4000_2nm/ppsysnopbc.gro\"\n",
    "                      , \"../2nm_bsa_prod/k4000_2nm/nopbc_ppsys.xtc\")"
   ]
  },
  {
   "cell_type": "code",
   "execution_count": null,
   "metadata": {},
   "outputs": [],
   "source": [
    "u2nm_pn20"
   ]
  },
  {
   "cell_type": "code",
   "execution_count": null,
   "metadata": {},
   "outputs": [],
   "source": [
    "pn20_len2nm = len(u2nm_pn20.trajectory)\n",
    "pn20_len2nm"
   ]
  },
  {
   "cell_type": "code",
   "execution_count": null,
   "metadata": {},
   "outputs": [],
   "source": [
    "#Select all the PLGA residues, heavy atoms only \n",
    "all2nm_pn20 = u2nm_pn20.select_atoms(\"resname sPLG PLG tPLG and not type H\")\n",
    "all2nm_pn20"
   ]
  },
  {
   "cell_type": "code",
   "execution_count": null,
   "metadata": {},
   "outputs": [],
   "source": [
    "# Select BSA residues, heavy atoms only \n",
    "prot_2nm = u2nm_pn20.select_atoms(\"protein and not type H\")\n",
    "prot_2nm"
   ]
  },
  {
   "cell_type": "code",
   "execution_count": null,
   "metadata": {},
   "outputs": [],
   "source": [
    "#dmax = 4.0, protein group(4653 atoms), plga atom group (543 atoms), took 381.6 s (6 min 36s on 4 cores)\n",
    "start = 0\n",
    "end = pn20_len2nm - 1\n",
    "s_time = timeit.default_timer()\n",
    "h2di_2nm = aa_frmcount(prot_2nm, all2nm_pn20, dmax, u2nm_pn20, start, end)\n",
    "timeit.default_timer() - s_time\n",
    "h2di_2nm"
   ]
  },
  {
   "cell_type": "code",
   "execution_count": null,
   "metadata": {},
   "outputs": [],
   "source": [
    "len(h2di_2nm.keys())"
   ]
  },
  {
   "cell_type": "code",
   "execution_count": null,
   "metadata": {},
   "outputs": [],
   "source": [
    "pr_res = list(prot_2nm.residues)\n",
    "ss_res = [str(row) for row in pr_res]\n",
    "rkg_2nm = {key:h2di_2nm[key][0] for key, value in h2di_2nm.items()}\n",
    "plg_2nmaa = pd.DataFrame(data=ss_res, columns=[\"BSA_des_res\"])\n",
    "plg_2nmaa['mda_plga_frm_2nm'] = plg_2nmaa['BSA_des_res'].map(rkg_2nm)\n",
    "plg_2nmaa['BSA_des_res'] = red_bsa\n",
    "plg_2nmaa['mda_plga_frm_2nm'] = plg_2nmaa['mda_plga_frm_2nm'].replace('nan', np.nan).fillna(0)\n",
    "plg_2nmaa.head()"
   ]
  },
  {
   "cell_type": "code",
   "execution_count": null,
   "metadata": {},
   "outputs": [],
   "source": [
    "apl_2nm = []\n",
    "\n",
    "# Some residues don't have any contact with the 3 N = 20 PLGA oligomers within 100 ns,\n",
    "# Put residues that do have contact with BSA in a separate list\n",
    "for index, r_pl in plg_2nmaa.iterrows():\n",
    "    if r_pl['mda_plga_frm_2nm'] != 0:\n",
    "        apl_2nm.append(r_pl['BSA_des_res'])\n",
    "        \n",
    "# This chunk of code gets an AA count from the above list, in order \n",
    "# to get a total number of residues that contact BSA\n",
    "cpl_2nm = []\n",
    "\n",
    "for index, r_a in aa_count.iterrows():\n",
    "    count = 0\n",
    "    for i in range(len(apl_2nm)):\n",
    "        if r_a['Amino_acids'] in apl_2nm[i]:\n",
    "            count += 1\n",
    "    cpl_2nm.append(count)      \n",
    "        \n",
    "aa_count['plga_2nm_100ns'] = cpl_2nm\n",
    "#aa_count.drop('No_of_surf_res (VMD)', axis=1, inplace=True)\n",
    "aa_count"
   ]
  },
  {
   "cell_type": "code",
   "execution_count": null,
   "metadata": {},
   "outputs": [],
   "source": [
    "# This gives the total number of residues that are within 4 angstroms of a PLGA oligomer residue\n",
    "# within a 100 ns trajectory block\n",
    "aa_count['plga_2nm_100ns'].sum()"
   ]
  },
  {
   "cell_type": "code",
   "execution_count": null,
   "metadata": {},
   "outputs": [],
   "source": [
    "# This gives the total number of residues that are within 4 angstroms of a water molecule\n",
    "# within a 1 ns trajectory block\n",
    "aa_count['No_of_surf_res (MDAnalysis)'].sum()"
   ]
  },
  {
   "cell_type": "code",
   "execution_count": null,
   "metadata": {},
   "outputs": [],
   "source": [
    "# This gives the total fraction of contacts within the 1.2 nm Rg 100 ns trajectory\n",
    "aa_count['plga_2nm_100ns'].sum()/aa_count['No_of_surf_res (MDAnalysis)'].sum()"
   ]
  },
  {
   "cell_type": "code",
   "execution_count": null,
   "metadata": {},
   "outputs": [],
   "source": [
    "# Mean occupancy and std deviation \n",
    "ll_mo2nm = [value[1] for key, value in h2di_2nm.items()]\n",
    "print(\"Mean Occpancy (2 nm Rg): \"+str(np.mean(ll_mo2nm)), \"Occ. std. dev.: \"+str(np.std(ll_mo2nm)))"
   ]
  },
  {
   "cell_type": "code",
   "execution_count": null,
   "metadata": {},
   "outputs": [],
   "source": [
    "cd_2nm = frac_cont(h2di_2nm)\n",
    "cd_2nm"
   ]
  },
  {
   "cell_type": "markdown",
   "metadata": {},
   "source": [
    "### Calc. fractional contacts for each AA group type "
   ]
  },
  {
   "cell_type": "code",
   "execution_count": null,
   "metadata": {},
   "outputs": [],
   "source": [
    "fcnt_rg2nm, prgrp_2nm, aa_matx_2nm = bavg_frac_cnt(5, prot_2nm, all2nm_pn20, dmax, u2nm_pn20, no_surf, 0, 10000)"
   ]
  },
  {
   "cell_type": "code",
   "execution_count": null,
   "metadata": {},
   "outputs": [],
   "source": [
    "fcnt_rg2nm"
   ]
  },
  {
   "cell_type": "code",
   "execution_count": null,
   "metadata": {},
   "outputs": [],
   "source": [
    "fc_2nm_mean = np.array([np.mean(fcnt_rg2nm['Negative']), np.mean(fcnt_rg2nm['Positive'])\n",
    "                        ,np.mean(fcnt_rg2nm['Polar']),np.mean(fcnt_rg2nm['Hydrophobic'])\n",
    "                        , np.mean(fcnt_rg2nm['Aromatic'])])\n",
    "fc_2nm_mean"
   ]
  },
  {
   "cell_type": "code",
   "execution_count": null,
   "metadata": {},
   "outputs": [],
   "source": [
    "fc_2nm_std = np.array([np.std(fcnt_rg2nm['Negative']), np.std(fcnt_rg2nm['Positive'])\n",
    "                       ,np.std(fcnt_rg2nm['Polar']),np.std(fcnt_rg2nm['Hydrophobic'])\n",
    "                       , np.std(fcnt_rg2nm['Aromatic'])])\n",
    "fc_2nm_std"
   ]
  },
  {
   "cell_type": "code",
   "execution_count": null,
   "metadata": {},
   "outputs": [],
   "source": [
    "x_pos = np.arange(5)\n",
    "width = 0.28\n",
    "aa_types = [\"Negative\", \"Positive\", \"Polar\", \"Hydrophobic\", \"Aromatic\"]\n",
    "plt.figure(figsize=(7,7))\n",
    "plt.bar(x_pos, fc_12nm_mean, width, yerr=fc_12nm_std, ecolor='black',capsize=5, color='royalblue')\n",
    "plt.bar(x_pos+width, fc_15nm_mean, width, yerr=fc_15nm_std, ecolor='black',capsize=5, color='c')\n",
    "plt.bar(x_pos+(2*width), fc_2nm_mean, width, yerr=fc_2nm_std, ecolor='black',capsize=5, color='lightslategray')\n",
    "plt.title(r'Fractional Contacts Rg restrained', fontsize=15)\n",
    "plt.xticks(x_pos+width, labels=aa_types, fontsize=12)\n",
    "plt.ylim(0,0.4)\n",
    "plt.legend(['Rg = 1.2 nm', 'Rg = 1.5 nm', 'Rg = 2 nm'], frameon=False)\n",
    "plt.ylabel(r'Fractional Contacts', fontsize=15)"
   ]
  },
  {
   "cell_type": "code",
   "execution_count": null,
   "metadata": {},
   "outputs": [],
   "source": [
    "x_pos = np.arange(5)\n",
    "aa_types = [\"Negative\", \"Positive\", \"Polar\", \"Hydrophobic\", \"Aromatic\"]\n",
    "plt.figure(figsize=(7,7))\n",
    "plt.bar(x_pos, fc_12nm_mean, yerr=fc_12nm_std, ecolor='black',capsize=5, color='c')\n",
    "plt.title(r'Fractional Contacts 1.2 nm Rg restrained', fontsize=15)\n",
    "plt.xticks(x_pos, labels=aa_types, fontsize=12)\n",
    "plt.ylabel(r'Fractional Contacts', fontsize=15)"
   ]
  },
  {
   "cell_type": "code",
   "execution_count": null,
   "metadata": {},
   "outputs": [],
   "source": []
  },
  {
   "cell_type": "code",
   "execution_count": null,
   "metadata": {},
   "outputs": [],
   "source": []
  },
  {
   "cell_type": "markdown",
   "metadata": {},
   "source": [
    "### Total fraction of contacts: averages and std dev calc from 5 20 ns blocks"
   ]
  },
  {
   "cell_type": "code",
   "execution_count": null,
   "metadata": {},
   "outputs": [],
   "source": [
    "np.mean(fcnt_rg2nm['total_frac'])"
   ]
  },
  {
   "cell_type": "code",
   "execution_count": null,
   "metadata": {},
   "outputs": [],
   "source": [
    "np.std(fcnt_rg2nm['total_frac'])"
   ]
  },
  {
   "cell_type": "code",
   "execution_count": null,
   "metadata": {},
   "outputs": [],
   "source": [
    "prgrp_2nm"
   ]
  },
  {
   "cell_type": "code",
   "execution_count": null,
   "metadata": {},
   "outputs": [],
   "source": [
    "# matrix containing the avg number of PLGA residues for each block for each amino acid \n",
    "np.where(aa_matx_2nm[0, 0] != 0)"
   ]
  },
  {
   "cell_type": "markdown",
   "metadata": {},
   "source": [
    "### Avg no. PLGA residues per BSA AA residue group "
   ]
  },
  {
   "cell_type": "code",
   "execution_count": null,
   "metadata": {},
   "outputs": [],
   "source": [
    "prgrp_2nm"
   ]
  },
  {
   "cell_type": "code",
   "execution_count": null,
   "metadata": {},
   "outputs": [],
   "source": [
    "mean_2nm = np.zeros(shape=5)\n",
    "std_2nm = np.zeros(shape=5)\n",
    "count = 0\n",
    "for key, value in prgrp_2nm.items():\n",
    "    mpl_2nm = []\n",
    "    var_2nm = []\n",
    "    for i in prgrp_2nm[str(key)].flat:\n",
    "        mpl_2nm.append(i[0])\n",
    "        var_2nm.append((i[1])**2)\n",
    "    \n",
    "    # calc frac cont averages\n",
    "    mean_2nm[count] = np.mean(mpl_2nm)\n",
    "    \n",
    "    # calc frac cont std dev: https://stats.stackexchange.com/questions/25848/how-to-sum-a-standard-deviation \n",
    "    std_2nm[count] = np.sqrt(np.sum(var_2nm)/5)\n",
    "    \n",
    "    count += 1\n"
   ]
  },
  {
   "cell_type": "code",
   "execution_count": null,
   "metadata": {},
   "outputs": [],
   "source": [
    "mean_2nm"
   ]
  },
  {
   "cell_type": "code",
   "execution_count": null,
   "metadata": {},
   "outputs": [],
   "source": [
    "std_2nm"
   ]
  },
  {
   "cell_type": "code",
   "execution_count": null,
   "metadata": {},
   "outputs": [],
   "source": [
    "mean_15nm"
   ]
  },
  {
   "cell_type": "code",
   "execution_count": null,
   "metadata": {},
   "outputs": [],
   "source": [
    "std_15nm"
   ]
  },
  {
   "cell_type": "code",
   "execution_count": null,
   "metadata": {},
   "outputs": [],
   "source": [
    "x_pos = np.arange(5)\n",
    "width = 0.28\n",
    "aa_types = [\"Negative\", \"Positive\", \"Polar\", \"Hydrophobic\", \"Aromatic\"]\n",
    "plt.figure(figsize=(7,7))\n",
    "plt.bar(x_pos, mean_12nm, width, yerr=std_12nm, ecolor='black',capsize=5, color='green')\n",
    "plt.bar(x_pos+width, mean_15nm, width, yerr=std_15nm, ecolor='black',capsize=5, color='skyblue')\n",
    "plt.bar(x_pos+(2*width), mean_2nm, width, yerr=std_2nm, ecolor='black',capsize=5, color='rebeccapurple')\n",
    "plt.title(r'No. of PLGA residues Rg restrained', fontsize=15)\n",
    "plt.xticks(x_pos+width, labels=aa_types, fontsize=12)\n",
    "plt.legend(['Rg = 1.2 nm', 'Rg = 1.5 nm', 'Rg = 2 nm'], frameon=False)\n",
    "plt.ylabel(r'No. of PLGA residues', fontsize=15)"
   ]
  },
  {
   "cell_type": "code",
   "execution_count": null,
   "metadata": {},
   "outputs": [],
   "source": []
  },
  {
   "cell_type": "code",
   "execution_count": null,
   "metadata": {},
   "outputs": [],
   "source": []
  },
  {
   "cell_type": "code",
   "execution_count": null,
   "metadata": {},
   "outputs": [],
   "source": []
  },
  {
   "cell_type": "code",
   "execution_count": null,
   "metadata": {},
   "outputs": [],
   "source": []
  },
  {
   "cell_type": "code",
   "execution_count": null,
   "metadata": {},
   "outputs": [],
   "source": []
  },
  {
   "cell_type": "markdown",
   "metadata": {},
   "source": [
    "Write a function that calculates the average total fraction of contacts(No of residues contacted by PLGA oilgs/total no of surface residues) and their standard deviations for a given number of trajectory blocks "
   ]
  },
  {
   "cell_type": "code",
   "execution_count": null,
   "metadata": {},
   "outputs": [],
   "source": [
    "g2_d, fr_p, h_mat = grptwocnt_aa(prot, all_pn20, dmax, u_pn20)"
   ]
  },
  {
   "cell_type": "code",
   "execution_count": null,
   "metadata": {},
   "outputs": [],
   "source": [
    "nk_d, s_mat = gtwo_trjcnt(prot, all_pn20, dmax, u_pn20, 2000, 2200)"
   ]
  },
  {
   "cell_type": "code",
   "execution_count": null,
   "metadata": {},
   "outputs": [],
   "source": [
    "h_bks = aa_frmcount(prot, all_pn20, dmax, u_pn20, 0, 1000)\n",
    "#ff_dict = frac_cont(hn_bcks)"
   ]
  },
  {
   "cell_type": "code",
   "execution_count": null,
   "metadata": {},
   "outputs": [],
   "source": [
    "trj_ppmap = prot_poly_cntmovie(prot, all_pn20, dmax, u_pn20, 2000, 2050)"
   ]
  },
  {
   "cell_type": "code",
   "execution_count": null,
   "metadata": {},
   "outputs": [],
   "source": []
  },
  {
   "cell_type": "code",
   "execution_count": null,
   "metadata": {},
   "outputs": [],
   "source": []
  }
 ],
 "metadata": {
  "kernelspec": {
   "display_name": "Python (ppc_env)",
   "language": "python",
   "name": "ppc_env"
  },
  "language_info": {
   "codemirror_mode": {
    "name": "ipython",
    "version": 3
   },
   "file_extension": ".py",
   "mimetype": "text/x-python",
   "name": "python",
   "nbconvert_exporter": "python",
   "pygments_lexer": "ipython3",
   "version": "3.6.8"
  }
 },
 "nbformat": 4,
 "nbformat_minor": 2
}
