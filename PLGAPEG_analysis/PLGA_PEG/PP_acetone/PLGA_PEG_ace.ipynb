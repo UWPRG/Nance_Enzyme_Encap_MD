{
 "cells": [
  {
   "cell_type": "code",
   "execution_count": 1,
   "metadata": {},
   "outputs": [],
   "source": [
    "%matplotlib inline \n",
    "import numpy as np \n",
    "import matplotlib.pyplot as plt \n",
    "import pandas as pd \n",
    "import scipy\n",
    "import sklearn\n",
    "import itertools \n",
    "from itertools import cycle \n",
    "import os.path as op\n",
    "import timeit \n",
    "import json\n",
    "import math"
   ]
  },
  {
   "cell_type": "code",
   "execution_count": 2,
   "metadata": {},
   "outputs": [
    {
     "data": {
      "text/plain": [
       "4"
      ]
     },
     "execution_count": 2,
     "metadata": {},
     "output_type": "execute_result"
    }
   ],
   "source": [
    "import multiprocessing as m_proc\n",
    "m_proc.cpu_count()"
   ]
  },
  {
   "cell_type": "code",
   "execution_count": 3,
   "metadata": {},
   "outputs": [],
   "source": [
    "# Import MDAnalysis\n",
    "import MDAnalysis as mda\n",
    "import statsmodels as stats\n",
    "from MDAnalysis.analysis import distances\n",
    "#import matplotlib.font_manager as font_manager"
   ]
  },
  {
   "cell_type": "code",
   "execution_count": null,
   "metadata": {},
   "outputs": [],
   "source": [
    "from plgapeg_MD_analysis import (pers_length, get_rg_pers_poly, bavg_pers_cnt, pos_bead_autocorr_RA,\n",
    "                                 rouse_relax, zimm_relax_fit, zimm_relax_func, rh_block_avg, mean_sq_e2e, hydro_rad_poly,\n",
    "                                obs_autocorr_RA)"
   ]
  },
  {
   "cell_type": "code",
   "execution_count": 4,
   "metadata": {},
   "outputs": [],
   "source": [
    "from plgapeg_MD_analysis import (obs_autocorr_RA, get_rg_pers_poly,rh_block_avg, \n",
    "                                 mean_sq_e2e, hydro_rad_poly)"
   ]
  },
  {
   "cell_type": "code",
   "execution_count": null,
   "metadata": {},
   "outputs": [],
   "source": [
    "from polymer_MD_analysis import (pers_length, get_rg_pers_poly, bavg_pers_cnt, pos_bead_autocorr_RA,\n",
    "                                 rouse_relax, zimm_relax_fit, zimm_relax_func, rh_block_avg, mean_sq_e2e, hydro_rad_poly,\n",
    "                                obs_autocorr_RA, getPairStats, pair_regression, simple_regression_conf)"
   ]
  },
  {
   "cell_type": "markdown",
   "metadata": {},
   "source": [
    "## PLGA-PEG/acetone system analysis"
   ]
  },
  {
   "cell_type": "markdown",
   "metadata": {},
   "source": [
    "### N = 6 PLGA-PEG/acetone "
   ]
  },
  {
   "cell_type": "code",
   "execution_count": null,
   "metadata": {},
   "outputs": [],
   "source": [
    "# For the right Rg calculation using MD Analysis, use trajactory without pbc \n",
    "n6_plgapeg_ace = mda.Universe(\"n6plga_peg_ace/n6plgapeg_ACE.pdb\", \"n6plga_peg_ace/NoAce_n6plgapeg.xtc\")"
   ]
  },
  {
   "cell_type": "code",
   "execution_count": null,
   "metadata": {},
   "outputs": [],
   "source": [
    "n6_plgapeg_ace.trajectory"
   ]
  },
  {
   "cell_type": "code",
   "execution_count": null,
   "metadata": {},
   "outputs": [],
   "source": [
    "len(n6_plgapeg_ace.trajectory)"
   ]
  },
  {
   "cell_type": "code",
   "execution_count": null,
   "metadata": {},
   "outputs": [],
   "source": [
    "#Select the polymer heavy atoms \n",
    "plgapeg_n6ace = n6_plgapeg_ace.select_atoms(\"resname sPLG PLG bPLG bPEG PEG sPEG and not type H\")"
   ]
  },
  {
   "cell_type": "code",
   "execution_count": null,
   "metadata": {},
   "outputs": [],
   "source": [
    "np.unique(plgapeg_n6ace.resids)"
   ]
  },
  {
   "cell_type": "code",
   "execution_count": null,
   "metadata": {},
   "outputs": [],
   "source": [
    "# Get cosine theta values at frame 0 \n",
    "crv_n6plgapeg_ace = pers_length(plgapeg_n6ace,6)\n",
    "crv_n6plgapeg_ace"
   ]
  },
  {
   "cell_type": "markdown",
   "metadata": {},
   "source": [
    "### Orientation Order parameter vs. time "
   ]
  },
  {
   "cell_type": "code",
   "execution_count": null,
   "metadata": {},
   "outputs": [],
   "source": [
    "n_mon = 6 \n",
    "start = 0\n",
    "end = 36001"
   ]
  },
  {
   "cell_type": "code",
   "execution_count": null,
   "metadata": {},
   "outputs": [],
   "source": [
    "OOp_n6plgapeg_ace = orientation_order_param(plgapeg_n6ace, n6_plgapeg_ace, n_mon, start, end)"
   ]
  },
  {
   "cell_type": "code",
   "execution_count": null,
   "metadata": {},
   "outputs": [],
   "source": [
    "OOp_n6plgapeg_ace.shape"
   ]
  },
  {
   "cell_type": "code",
   "execution_count": null,
   "metadata": {},
   "outputs": [],
   "source": [
    "trj_len = np.arange(36001)\n",
    "plt.figure(figsize=(7,7))\n",
    "plt.title(r'PLGA-PEG Orientation Order Parameter', fontsize=18, y=1.01)\n",
    "plt.xlabel(r'Time [ns]', fontsize=15)\n",
    "plt.ylabel(r'Z', fontsize=15)\n",
    "plt.plot(trj_len/100, OOp_n6plgapeg_ace,linewidth=2, color='teal')\n",
    "plt.tick_params(labelsize=14)\n",
    "plt.legend(['N = 6 in acetone'], frameon=False, fontsize=14)\n",
    "#plt.text(127, 0.96,r'N = 6 in acetone', fontsize=18, color='#1F2E69', family='Arial')\n",
    "plt.xlim(0,360)\n",
    "plt.ylim(-1,1)"
   ]
  },
  {
   "cell_type": "markdown",
   "metadata": {},
   "source": [
    "#### Mean Orientation Order Parameter for N = 6 PLGA-PEG in acetone"
   ]
  },
  {
   "cell_type": "code",
   "execution_count": null,
   "metadata": {},
   "outputs": [],
   "source": [
    "OOp_n6plgapeg_ace[82]"
   ]
  },
  {
   "cell_type": "code",
   "execution_count": null,
   "metadata": {},
   "outputs": [],
   "source": [
    "OOp_n6plgapeg_ace[239]"
   ]
  },
  {
   "cell_type": "code",
   "execution_count": null,
   "metadata": {},
   "outputs": [],
   "source": [
    "np.mean(OOp_n6plgapeg_ace)"
   ]
  },
  {
   "cell_type": "code",
   "execution_count": null,
   "metadata": {},
   "outputs": [],
   "source": [
    "np.std(OOp_n6plgapeg_ace)"
   ]
  },
  {
   "cell_type": "markdown",
   "metadata": {},
   "source": [
    "### Mean squared end to end distance "
   ]
  },
  {
   "cell_type": "code",
   "execution_count": null,
   "metadata": {},
   "outputs": [],
   "source": [
    "n_mon = 6 \n",
    "start = 0\n",
    "end = 36001"
   ]
  },
  {
   "cell_type": "code",
   "execution_count": null,
   "metadata": {},
   "outputs": [],
   "source": [
    "eVec_n6plgapeg_ace, e2edis_n6plgapeg_ace = mean_sq_e2e(plgapeg_n6ace, n6_plgapeg_ace, n_mon, start, end)"
   ]
  },
  {
   "cell_type": "code",
   "execution_count": null,
   "metadata": {},
   "outputs": [],
   "source": [
    "trj_len = np.arange(36001)\n",
    "plt.figure(figsize=(7,7))\n",
    "plt.title(r'PLGA-PEG End to End distance', fontsize=18, y=1.01)\n",
    "plt.xlabel(r'Time [ns]', fontsize=15)\n",
    "plt.ylabel(r'$R_{ee}$ [nm]', fontsize=15)\n",
    "plt.plot(trj_len/100, e2edis_n6plgapeg_ace[1]/10,linewidth=2, color='teal')\n",
    "plt.tick_params(labelsize=14)\n",
    "plt.legend(['N = 6 in acetone'], frameon=False, fontsize=14)\n",
    "#plt.text(127, 0.96,r'N = 6 in acetone', fontsize=18, color='#1F2E69', family='Arial')\n",
    "plt.xlim(0,360)\n",
    "plt.ylim(0,2)"
   ]
  },
  {
   "cell_type": "markdown",
   "metadata": {},
   "source": [
    "#### Ree Autocorrelation function"
   ]
  },
  {
   "cell_type": "code",
   "execution_count": null,
   "metadata": {},
   "outputs": [],
   "source": [
    "e2edis_n6plgapeg_ace[1]"
   ]
  },
  {
   "cell_type": "code",
   "execution_count": 8,
   "metadata": {},
   "outputs": [],
   "source": [
    "t_corr = 7000\n",
    "window_shift = 9"
   ]
  },
  {
   "cell_type": "code",
   "execution_count": null,
   "metadata": {},
   "outputs": [],
   "source": [
    "ACn6plgapegace_Ree, eqvar_n6plgapegace = obs_autocorr_RA(e2edis_n6plgapeg_ace[1],t_corr, window_shift,start,end)"
   ]
  },
  {
   "cell_type": "code",
   "execution_count": null,
   "metadata": {},
   "outputs": [],
   "source": [
    "ACn6plgapegace_Ree"
   ]
  },
  {
   "cell_type": "code",
   "execution_count": null,
   "metadata": {},
   "outputs": [],
   "source": [
    "eqvar_n6plgapegace"
   ]
  },
  {
   "cell_type": "code",
   "execution_count": null,
   "metadata": {},
   "outputs": [],
   "source": [
    "ACn6plgapegace_sqRee, evsqRee_n6plgapegace = obs_autocorr_RA(e2edis_n6plgapeg_ace[0],t_corr, window_shift,start,end)"
   ]
  },
  {
   "cell_type": "code",
   "execution_count": null,
   "metadata": {},
   "outputs": [],
   "source": [
    "np.sqrt(evsqRee_n6plgapegace)"
   ]
  },
  {
   "cell_type": "code",
   "execution_count": null,
   "metadata": {},
   "outputs": [],
   "source": [
    "plt.figure(figsize=(7,7))\n",
    "plt.title(r'PLGA-PEG Ree autocorrelation', fontsize=18, y=1.01)\n",
    "plt.xlabel(r'Time [ns]', fontsize=15)\n",
    "plt.ylabel(r'$C_{A}(t)$', fontsize=15)\n",
    "plt.plot(ACn6plgapegace_Ree[1]/100, ACn6plgapegace_Ree[0],linewidth=2, color='#1F2E69')\n",
    "plt.tick_params(labelsize=14)\n",
    "plt.legend(['N = 6 Ree'], frameon=False, fontsize=14)\n",
    "#plt.yscale('symlog', linthreshy=0.5)\n",
    "#plt.xscale('symlog')\n",
    "plt.xlim(0,70)\n",
    "plt.ylim(-1,1)"
   ]
  },
  {
   "cell_type": "markdown",
   "metadata": {},
   "source": [
    "### Hydrodynamic Radius vs time"
   ]
  },
  {
   "cell_type": "code",
   "execution_count": 9,
   "metadata": {},
   "outputs": [],
   "source": [
    "n_mon = 6 \n",
    "start = 0\n",
    "end = 36001"
   ]
  },
  {
   "cell_type": "code",
   "execution_count": null,
   "metadata": {},
   "outputs": [],
   "source": [
    "plgapegn6ace_rh = hydro_rad_poly(plgapeg_n6ace, n6_plgapeg_ace, n_mon, start, end)"
   ]
  },
  {
   "cell_type": "code",
   "execution_count": null,
   "metadata": {},
   "outputs": [],
   "source": [
    "trj_len = np.arange(36001)\n",
    "plt.figure(figsize=(7,7))\n",
    "plt.title(r'PLGA-PEG Hydrodynamic Radius', fontsize=18, y=1.01)\n",
    "plt.xlabel(r'Time [ns]', fontsize=15)\n",
    "plt.ylabel(r'$R_{hyd}$ [nm]', fontsize=15)\n",
    "plt.plot(trj_len/100, plgapegn6ace_rh/10,linewidth=2, color='teal')\n",
    "plt.tick_params(labelsize=14)\n",
    "plt.legend(['N = 6 in acetone'], frameon=False, fontsize=14)\n",
    "#plt.text(127, 0.96,r'N = 6 in acetone', fontsize=18, color='#1F2E69', family='Arial')\n",
    "plt.xlim(0,360)\n",
    "plt.ylim(0,2)"
   ]
  },
  {
   "cell_type": "markdown",
   "metadata": {},
   "source": [
    "#### Rh autocorrelation"
   ]
  },
  {
   "cell_type": "code",
   "execution_count": 10,
   "metadata": {},
   "outputs": [
    {
     "name": "stdout",
     "output_type": "stream",
     "text": [
      "No. of Samples: 3223\n"
     ]
    }
   ],
   "source": [
    "ACn6plgapegaceRh, eqvarRh_n6plgapegace = obs_autocorr_RA(plgapegn6ace_rh,t_corr, window_shift,start,end)"
   ]
  },
  {
   "cell_type": "code",
   "execution_count": 11,
   "metadata": {},
   "outputs": [
    {
     "data": {
      "text/plain": [
       "array([[ 1.00000000e+00,  8.96882185e-01,  8.96803923e-01, ...,\n",
       "        -6.88553343e-02, -7.13330004e-02, -2.28556856e-02],\n",
       "       [ 0.00000000e+00,  1.00000000e+00,  2.00000000e+00, ...,\n",
       "         6.99700000e+03,  6.99800000e+03,  6.99900000e+03]])"
      ]
     },
     "execution_count": 11,
     "metadata": {},
     "output_type": "execute_result"
    }
   ],
   "source": [
    "ACn6plgapegaceRh"
   ]
  },
  {
   "cell_type": "code",
   "execution_count": 12,
   "metadata": {},
   "outputs": [
    {
     "data": {
      "text/plain": [
       "2.5639625160636967"
      ]
     },
     "execution_count": 12,
     "metadata": {},
     "output_type": "execute_result"
    }
   ],
   "source": [
    "eqvarRh_n6plgapegace"
   ]
  },
  {
   "cell_type": "code",
   "execution_count": null,
   "metadata": {},
   "outputs": [],
   "source": [
    "plt.figure(figsize=(7,7))\n",
    "plt.title(r'PLGA-PEG Rh autocorrelation', fontsize=18, y=1.01)\n",
    "plt.xlabel(r'Time [ns]', fontsize=15)\n",
    "plt.ylabel(r'$C_{Rh}(t)$', fontsize=15)\n",
    "plt.plot(ACn6plgapegaceRh[1]/100, ACn6plgapegaceRh[0],linewidth=2, color='#1F2E69')\n",
    "#plt.plot(ACn6plgapegace_Ree[1]/100, ACn6plgapegace_Ree[0],linewidth=2, color='r')\n",
    "plt.tick_params(labelsize=14)\n",
    "plt.legend(['N = 6 in acetone'], frameon=False, fontsize=14)\n",
    "#plt.text(127, 0.96,r'N = 6 in acetone', fontsize=18, color='#1F2E69', family='Arial')\n",
    "plt.xlim(0,70)\n",
    "#plt.ylim(-0.2,1)"
   ]
  },
  {
   "cell_type": "markdown",
   "metadata": {},
   "source": [
    "### Relaxation times vs monomer length "
   ]
  },
  {
   "cell_type": "code",
   "execution_count": null,
   "metadata": {},
   "outputs": [],
   "source": [
    "# Key variables \n",
    "# def pos_bead_autocorr_RA(polymer_atoms, universe, n_monomers, t_corr,  start, end):\n",
    "n_mon = 6 \n",
    "start = 0\n",
    "end = 36001\n",
    "t_corr = 1000\n",
    "window_shift = 20"
   ]
  },
  {
   "cell_type": "code",
   "execution_count": null,
   "metadata": {},
   "outputs": [],
   "source": [
    "s_time = timeit.default_timer()\n",
    "tcRA_plgapegn6ace, tcSUM_plgapegn6ace = pos_bead_autocorr_RA(plgapeg_n6ace, n6_plgapeg_ace, n_mon, t_corr, window_shift, start, end)\n",
    "timeit.default_timer() - s_time"
   ]
  },
  {
   "cell_type": "code",
   "execution_count": null,
   "metadata": {},
   "outputs": [],
   "source": [
    "tcRA_plgapegn6ace"
   ]
  },
  {
   "cell_type": "code",
   "execution_count": null,
   "metadata": {},
   "outputs": [],
   "source": [
    "tcSUM_plgapegn6ace.shape"
   ]
  },
  {
   "cell_type": "markdown",
   "metadata": {},
   "source": [
    "### Fitting autocorrelation data "
   ]
  },
  {
   "cell_type": "code",
   "execution_count": null,
   "metadata": {},
   "outputs": [],
   "source": [
    "tcRA_plgapegn6ace = np.load('n6ppace_CtRA.npy', allow_pickle=True)\n",
    "tcRA_plgapegn8ace = np.load('n8ppace_CtRA.npy', allow_pickle=True)\n",
    "tcRA_plgapegn10ace = np.load('n10ppace_CtRA.npy', allow_pickle=True)\n",
    "tcRA_plgapegn16ace = np.load('n16ppace_CtRA.npy', allow_pickle=True)\n",
    "tcRA_plgapegn20ace = np.load('n20ppace_CtRA.npy', allow_pickle=True)\n",
    "tcRA_plgapegn30ace = np.load('n30ppace_CtRA.npy', allow_pickle=True)"
   ]
  },
  {
   "cell_type": "code",
   "execution_count": null,
   "metadata": {},
   "outputs": [],
   "source": [
    "s_n6 =[2 for i in range(tcRA_plgapegn6ace[1].shape[0])]\n",
    "s_n8 =[2 for i in range(tcRA_plgapegn8ace[1].shape[0])]\n",
    "s_n10 =[2 for i in range(tcRA_plgapegn10ace[1].shape[0])]\n",
    "s_n16 =[2 for i in range(tcRA_plgapegn16ace[1].shape[0])]\n",
    "s_n20 =[2 for i in range(tcRA_plgapegn20ace[1].shape[0])]\n",
    "s_n30 =[2 for i in range(tcRA_plgapegn30ace[1].shape[0])]"
   ]
  },
  {
   "cell_type": "code",
   "execution_count": null,
   "metadata": {},
   "outputs": [],
   "source": [
    "len(s_n30)"
   ]
  },
  {
   "cell_type": "code",
   "execution_count": null,
   "metadata": {},
   "outputs": [],
   "source": [
    "plt.figure(figsize=(8,8))\n",
    "plt.rcParams[\"font.family\"] = \"Arial\"\n",
    "plt.scatter(tcRA_plgapegn6ace[1]/100, tcRA_plgapegn6ace[0], color='teal', s=s_n6, label=r'$N_{PLGA-PEG}$ = 6')\n",
    "plt.scatter(tcRA_plgapegn8ace[1]/100, tcRA_plgapegn8ace[0], color='dodgerblue', s=s_n8, label=r'$N_{PLGA-PEG}$ = 8')\n",
    "plt.scatter(tcRA_plgapegn10ace[1]/100, tcRA_plgapegn10ace[0], color='darkmagenta', s=s_n10, label=r'$N_{PLGA-PEG}$ = 10')\n",
    "plt.scatter(tcRA_plgapegn16ace[1]/100, tcRA_plgapegn16ace[0], color='maroon', s=s_n16, label=r'$N_{PLGA-PEG}$ = 16')\n",
    "plt.scatter(tcRA_plgapegn20ace[1]/100, tcRA_plgapegn20ace[0], color='orangered', s=s_n20, label=r'$N_{PLGA-PEG}$ = 20')\n",
    "plt.scatter(tcRA_plgapegn30ace[1]/100, tcRA_plgapegn30ace[0], color='darkolivegreen', s=s_n30, label=r'$N_{PLGA-PEG}$ = 30')\n",
    "plt.title(r'Positional bead autocorrelation PLGA-PEG in acetone', fontsize=18, y=1.03)\n",
    "plt.xlabel(r'Time lag [ns]', fontsize=18)\n",
    "plt.ylabel('C(t)', fontsize=18)\n",
    "plt.legend(fontsize=14, frameon=False)\n",
    "plt.xticks(fontsize=18)\n",
    "plt.yticks(fontsize=18)\n",
    "#plt.yscale('symlog', linthreshy=0.5)\n",
    "plt.xscale('symlog')\n",
    "plt.grid(b=True)\n",
    "plt.xlim(0,300)\n",
    "plt.ylim(-1,1)\n",
    "plt.tick_params(labelsize=18, direction='in', which='both', width=1, length=10)"
   ]
  },
  {
   "cell_type": "code",
   "execution_count": null,
   "metadata": {},
   "outputs": [],
   "source": [
    "xdata_plgapegn6ace = tcRA_plgapegn6ace[1]/100\n",
    "ydata_plgapegn6ace = tcRA_plgapegn6ace[0]"
   ]
  },
  {
   "cell_type": "code",
   "execution_count": null,
   "metadata": {},
   "outputs": [],
   "source": [
    "plt.figure(figsize=(8,8))\n",
    "plt.rcParams[\"font.family\"] = \"Arial\"\n",
    "plt.scatter(xdata_plgapegn6ace, ydata_plgapegn6ace, color='teal', s=s_n6)\n",
    "plt.title(r'Positional bead autocorrelation PLGA-PEG in acetone', fontsize=18)\n",
    "plt.xlabel(r'Time lag [ns]', fontsize=18)\n",
    "plt.ylabel('C(t)', fontsize=18)\n",
    "#plt.legend(fontsize=14, frameon=False)\n",
    "plt.xticks(fontsize=18)\n",
    "plt.yticks(fontsize=18)\n",
    "#plt.yscale('symlog', linthreshy=0.5)\n",
    "plt.xscale('symlog')\n",
    "plt.grid(b=True)\n",
    "plt.xlim(0,300)\n",
    "plt.ylim(-1,1)\n",
    "plt.tick_params(labelsize=18, direction='in', which='both', width=1, length=10)"
   ]
  },
  {
   "cell_type": "code",
   "execution_count": null,
   "metadata": {},
   "outputs": [],
   "source": [
    "rouse_relax(1, 2, 6)"
   ]
  },
  {
   "cell_type": "code",
   "execution_count": null,
   "metadata": {},
   "outputs": [],
   "source": [
    "ts = 1\n",
    "hs = 0.1\n",
    "n_mon = 6\n",
    "n_b = n_mon - 1\n",
    "tr1 = 2\n",
    "zimm_relax_fit(ts,tr1,hs,n_b)"
   ]
  },
  {
   "cell_type": "code",
   "execution_count": null,
   "metadata": {},
   "outputs": [],
   "source": [
    "zimm_relax_func(1, 2, 0.1, 5)"
   ]
  },
  {
   "cell_type": "code",
   "execution_count": null,
   "metadata": {},
   "outputs": [],
   "source": [
    "def res_plgapegn6ace(variabls, xnp, ynp):\n",
    "    #hs_np = variabls['h_star']\n",
    "    hs_np = 0.26\n",
    "    tr1_np = variabls['t_first']\n",
    "    n_bonds = 5\n",
    "    testnp = []\n",
    "    for i in range(len(xnp)):\n",
    "        model_ynp = zimm_relax_fit(xnp[i], tr1_np, hs_np, n_bonds)\n",
    "        #model_ynp = rouse_relax(xnp[i], tr1_np, n_m)\n",
    "        testnp.append(ynp[i] - model_ynp)\n",
    "    \n",
    "    tt_n6 = np.array(testnp)\n",
    "\n",
    "    return tt_n6\n",
    "    \n",
    "#x1 = np.array([0,0])\n",
    "#pfit, pcov, infodict, errmsg, success = leastsq(res_poly, x1, args=(xdata, ydata), full_output=1)"
   ]
  },
  {
   "cell_type": "code",
   "execution_count": null,
   "metadata": {},
   "outputs": [],
   "source": [
    "from lmfit import Minimizer, Parameters, report_fit"
   ]
  },
  {
   "cell_type": "code",
   "execution_count": null,
   "metadata": {},
   "outputs": [],
   "source": [
    "ppfit_n6ace = Parameters()\n",
    "#ppfit_n6ace.add(name='h_star', value=0, min=0, max=0.26, vary=True)\n",
    "ppfit_n6ace.add(name='t_first', value=2)"
   ]
  },
  {
   "cell_type": "code",
   "execution_count": null,
   "metadata": {},
   "outputs": [],
   "source": [
    "mini_ppn6ace = Minimizer(res_plgapegn6ace, ppfit_n6ace, fcn_args=(xdata_plgapegn6ace, ydata_plgapegn6ace))\n",
    "out_ppn6ace = mini_ppn6ace.leastsq()\n",
    "#bfit_n10 = ydata_n10ace + out_n10ace.residual "
   ]
  },
  {
   "cell_type": "code",
   "execution_count": null,
   "metadata": {},
   "outputs": [],
   "source": [
    "report_fit(out_ppn6ace.params)"
   ]
  },
  {
   "cell_type": "code",
   "execution_count": null,
   "metadata": {},
   "outputs": [],
   "source": [
    "out_ppn6ace.params"
   ]
  },
  {
   "cell_type": "code",
   "execution_count": null,
   "metadata": {},
   "outputs": [],
   "source": [
    "# with h varying, tr = 0.36816293 +/- 0.00276373, h* = 0.25999898 +/- 0.04397632\n",
    "tace_n6plgapeg = []\n",
    "n_bonds = 5\n",
    "for i in range(len(xdata_plgapegn6ace)):\n",
    "    tace_n6plgapeg.append(zimm_relax_fit(xdata_plgapegn6ace[i], 0.36841223, 0.26,  n_bonds))\n"
   ]
  },
  {
   "cell_type": "code",
   "execution_count": null,
   "metadata": {},
   "outputs": [],
   "source": [
    "t_c, tz_n6plgapeg, zimm_n6plgapeg, rouse_n6plgapeg = zimm_relax_func(1, 0.36841223, 0.26,  n_bonds)"
   ]
  },
  {
   "cell_type": "code",
   "execution_count": null,
   "metadata": {},
   "outputs": [],
   "source": [
    "x_pos = np.arange(5)\n",
    "width = 0.25\n",
    "aa_types = [r\"$\\tau_{1}$\", r\"$\\tau_{2}$\", r\"$\\tau_{3}$\", r\"$\\tau_{4}$\", r\"$\\tau_{5}$\"]\n",
    "fig = plt.figure(figsize=(7,7))\n",
    "plt.bar(x_pos, tz_n6plgapeg, width, ecolor='black',capsize=5, color='c')\n",
    "plt.xticks(x_pos, labels=aa_types, fontsize=12)\n",
    "plt.ylabel(r'Relaxation times', fontsize=15)"
   ]
  },
  {
   "cell_type": "code",
   "execution_count": null,
   "metadata": {},
   "outputs": [],
   "source": [
    "x_pos = np.arange(5)\n",
    "width = 0.25\n",
    "aa_eigen_ppn6ace = [r\"$a_{1}$\", r\"$a_{2}$\", r\"$a_{3}$\", r\"$a_{4}$\", r\"$a_{5}$\"]\n",
    "fig = plt.figure(figsize=(7,7))\n",
    "plt.title('PLGA PEG in acetone N = 6', fontsize=18)\n",
    "plt.bar(x_pos, rouse_n6plgapeg, width, ecolor='black',capsize=5, color='c', label='Rouse' )\n",
    "plt.bar(x_pos+width, zimm_n6plgapeg, width,ecolor='black',capsize=5, color='m', label='Zimm')\n",
    "plt.xticks(x_pos, labels=aa_eigen_ppn6ace, fontsize=12)\n",
    "plt.legend(fontsize=12 ,frameon=False)\n",
    "plt.ylabel(r'Rouse and Zimm eigenvalues', fontsize=15)"
   ]
  },
  {
   "cell_type": "code",
   "execution_count": null,
   "metadata": {},
   "outputs": [],
   "source": [
    "plt.figure(figsize=(8,8))\n",
    "plt.rcParams[\"font.family\"] = \"Arial\"\n",
    "plt.scatter(xdata_plgapegn6ace, ydata_plgapegn6ace, color='teal', s=s_n6)\n",
    "plt.plot(xdata_plgapegn6ace, tace_n6plgapeg, color='teal')\n",
    "plt.title(r'Positional bead autocorrelation PLGA PEG in acetone', fontsize=18, y=1.03)\n",
    "plt.xlabel(r'Time lag [ns]', fontsize=18)\n",
    "plt.ylabel('C(t)', fontsize=18)\n",
    "#plt.legend(fontsize=14, frameon=False)\n",
    "plt.xticks(fontsize=18)\n",
    "plt.yticks(fontsize=18)\n",
    "#plt.yscale('symlog', linthreshy=0.5)\n",
    "plt.xscale('symlog')\n",
    "plt.grid(b=True)\n",
    "plt.xlim(0,300)\n",
    "plt.ylim(-1,1)\n",
    "plt.tick_params(labelsize=18, direction='in', which='both', width=1, length=10)"
   ]
  },
  {
   "cell_type": "code",
   "execution_count": null,
   "metadata": {},
   "outputs": [],
   "source": [
    "rppace_msen6 = np.array([ydata_plgapegn6ace - np.array(tace_n6plgapeg)])\n",
    "#rpace_msen6"
   ]
  },
  {
   "cell_type": "code",
   "execution_count": null,
   "metadata": {},
   "outputs": [],
   "source": [
    "plt.figure(figsize=(7,7))\n",
    "plt.rcParams[\"font.family\"] = \"Arial\"\n",
    "plt.scatter(xdata_plgapegn6ace, rppace_msen6, color='teal', s=s_n6)\n",
    "plt.title(r'Relaxation time Fitting Residuals PLGA-PEG in acetone', fontsize=18)\n",
    "plt.xlabel(r'Time lag [ns]', fontsize=18)\n",
    "plt.ylabel('Residuals', fontsize=18)\n",
    "plt.xticks(fontsize=14)\n",
    "plt.yticks(fontsize=14)\n",
    "plt.xlim([0,100])\n",
    "plt.ylim([-0.7,1])\n",
    "plt.tick_params(labelsize=15)"
   ]
  },
  {
   "cell_type": "markdown",
   "metadata": {},
   "source": [
    "### Radius of Gyration vs. time N = 6 PLGA-PEG in acetone"
   ]
  },
  {
   "cell_type": "code",
   "execution_count": null,
   "metadata": {},
   "outputs": [],
   "source": [
    "# Key variables \n",
    "n_mon = 6 \n",
    "start = 0\n",
    "end = 36001"
   ]
  },
  {
   "cell_type": "code",
   "execution_count": null,
   "metadata": {},
   "outputs": [],
   "source": [
    "n6plgapeg_rgens_ace, cor_n6plgapeg_ace, N6plgapeg_cos_ace, rgace_n6plgapeg = get_rg_pers_poly(plgapeg_n6ace, n6_plgapeg_ace,\n",
    "                                                                                                  start,end)"
   ]
  },
  {
   "cell_type": "code",
   "execution_count": null,
   "metadata": {},
   "outputs": [],
   "source": [
    "n6plgapeg_rgens_ace[0].shape"
   ]
  },
  {
   "cell_type": "code",
   "execution_count": null,
   "metadata": {},
   "outputs": [],
   "source": [
    "cor_n6plgapeg_ace[3]"
   ]
  },
  {
   "cell_type": "code",
   "execution_count": null,
   "metadata": {},
   "outputs": [],
   "source": [
    "N6plgapeg_cos_ace"
   ]
  },
  {
   "cell_type": "code",
   "execution_count": null,
   "metadata": {},
   "outputs": [],
   "source": [
    "rgace_n6plgapeg"
   ]
  },
  {
   "cell_type": "code",
   "execution_count": null,
   "metadata": {},
   "outputs": [],
   "source": [
    "n6plgapeg_rgens_ace.shape"
   ]
  },
  {
   "cell_type": "code",
   "execution_count": null,
   "metadata": {},
   "outputs": [],
   "source": [
    "trj_len = np.arange(36001)\n",
    "plt.figure(figsize=(7,7))\n",
    "plt.title(r'PLGA-PEG Radius of Gyration', fontsize=18, y=1.01)\n",
    "plt.xlabel(r'Time [ns]', fontsize=15)\n",
    "plt.ylabel(r'$R_{g}$ [nm]', fontsize=15)\n",
    "plt.plot(trj_len/100, n6plgapeg_rgens_ace[0]/10,linewidth=2, color='teal')\n",
    "plt.tick_params(labelsize=14)\n",
    "plt.legend(['N = 6 in acetone'], frameon=False, fontsize=14)\n",
    "#plt.text(127, 0.96,r'N = 6 in acetone', fontsize=18, color='#1F2E69', family='Arial')\n",
    "plt.xlim(0,360)\n",
    "plt.ylim(0.2,2)"
   ]
  },
  {
   "cell_type": "markdown",
   "metadata": {},
   "source": [
    "#### Rg Autocorrelation"
   ]
  },
  {
   "cell_type": "code",
   "execution_count": 70,
   "metadata": {},
   "outputs": [
    {
     "name": "stdout",
     "output_type": "stream",
     "text": [
      "No. of Samples: 3223\n"
     ]
    }
   ],
   "source": [
    "ACn6plgapegace_Rg, eqvarRg_n6plgapegace = obs_autocorr_RA(n6plgapeg_rgens_ace[0],t_corr, window_shift,start,end)"
   ]
  },
  {
   "cell_type": "code",
   "execution_count": 71,
   "metadata": {},
   "outputs": [
    {
     "data": {
      "text/plain": [
       "array([[1.00000000e+00, 9.50670016e-01, 9.48711268e-01, ...,\n",
       "        9.14609385e-02, 9.00264543e-02, 1.06720059e-01],\n",
       "       [0.00000000e+00, 1.00000000e+00, 2.00000000e+00, ...,\n",
       "        6.99700000e+03, 6.99800000e+03, 6.99900000e+03]])"
      ]
     },
     "execution_count": 71,
     "metadata": {},
     "output_type": "execute_result"
    }
   ],
   "source": [
    "ACn6plgapegace_Rg"
   ]
  },
  {
   "cell_type": "code",
   "execution_count": 72,
   "metadata": {},
   "outputs": [
    {
     "data": {
      "text/plain": [
       "0.824179813914828"
      ]
     },
     "execution_count": 72,
     "metadata": {},
     "output_type": "execute_result"
    }
   ],
   "source": [
    "eqvarRg_n6plgapegace"
   ]
  },
  {
   "cell_type": "code",
   "execution_count": null,
   "metadata": {},
   "outputs": [],
   "source": [
    "plt.figure(figsize=(7,7))\n",
    "plt.title(r'PEG in acetone autocorrelation', fontsize=18, y=1.01)\n",
    "plt.xlabel(r'Time [ns]', fontsize=15)\n",
    "plt.ylabel(r'$C_{A}(t)$', fontsize=15)\n",
    "plt.plot(ACn6plgapegace_Rg[1]/100, ACn6plgapegace_Rg[0],linewidth=2, color='#1F2E69')\n",
    "plt.tick_params(labelsize=14)\n",
    "plt.legend(['N = 6 Rg'], frameon=False, fontsize=14)\n",
    "#plt.yscale('symlog', linthreshy=0.5)\n",
    "#plt.xscale('symlog')\n",
    "plt.xlim(0,70)\n",
    "plt.ylim(-1,1)"
   ]
  },
  {
   "cell_type": "markdown",
   "metadata": {},
   "source": [
    "#### Get average COM distance, Arc length values"
   ]
  },
  {
   "cell_type": "code",
   "execution_count": null,
   "metadata": {},
   "outputs": [],
   "source": [
    "cb_n6plga = np.zeros(shape=(36001))\n",
    "cb_n6pplinker = np.zeros(shape=(36001))\n",
    "cb_n6plgapeg = np.zeros(shape=(36001))\n",
    "count = 0\n",
    "for ts in n6_plgapeg_ace.trajectory[0:36001]:\n",
    "    # 1st two PLGA residues\n",
    "    n6m1_plga = n6_plgapeg_ace.select_atoms(\"resid 1\")\n",
    "    n6m2_plga = n6_plgapeg_ace.select_atoms(\"resid 2\")\n",
    "    # PLGA-PEG linker\n",
    "    n6pl_link = n6_plgapeg_ace.select_atoms(\"resid 3\")\n",
    "    n6plgapeg_link = n6_plgapeg_ace.select_atoms(\"resid 4\")\n",
    "    # last two PEG residues \n",
    "    n6l1_peg = n6_plgapeg_ace.select_atoms(\"resid 5\")\n",
    "    n6l2_peg = n6_plgapeg_ace.select_atoms(\"resid 6\")\n",
    "    \n",
    "    cb_n6plga[count] = mda.analysis.distances.distance_array(n6m1_plga.center_of_mass(), n6m2_plga.center_of_mass(), \n",
    "                                                   box=n6_plgapeg_ace.trajectory.ts.dimensions)\n",
    "    \n",
    "    cb_n6pplinker[count] = mda.analysis.distances.distance_array(n6pl_link.center_of_mass(), n6plgapeg_link.center_of_mass(), \n",
    "                                                   box=n6_plgapeg_ace.trajectory.ts.dimensions)\n",
    "    \n",
    "    cb_n6plgapeg[count] = mda.analysis.distances.distance_array(n6l1_peg.center_of_mass(), n6l2_peg.center_of_mass(), \n",
    "                                                   box=n6_plgapeg_ace.trajectory.ts.dimensions)\n",
    "    \n",
    "    count += 1\n",
    "    \n",
    "\n",
    "    "
   ]
  },
  {
   "cell_type": "code",
   "execution_count": null,
   "metadata": {},
   "outputs": [],
   "source": [
    "COM_ppn6ace = np.zeros(shape=(3,2))\n",
    "COM_ppn6ace[0,0] = np.mean(cb_n6plga)\n",
    "COM_ppn6ace[1,0] = np.mean(cb_n6pplinker)\n",
    "COM_ppn6ace[2,0] = np.mean(cb_n6plgapeg)\n",
    "COM_ppn6ace[0,1] = np.std(cb_n6plga)\n",
    "COM_ppn6ace[1,1] = np.std(cb_n6pplinker)\n",
    "COM_ppn6ace[2,1] = np.std(cb_n6plgapeg)\n",
    "COM_ppn6ace"
   ]
  },
  {
   "cell_type": "markdown",
   "metadata": {},
   "source": [
    "#### Correlation values at each arc length from the whole 360 ns trajectory, N = 6 PLGA-PEG/acetone"
   ]
  },
  {
   "cell_type": "code",
   "execution_count": null,
   "metadata": {},
   "outputs": [],
   "source": [
    "# x values\n",
    "blen_ppn6ace = np.zeros(shape=5)\n",
    "for i in range(n_mon-1):\n",
    "    if i < int((n_mon/2)-1):\n",
    "        # PLGA contour length values\n",
    "        if i == 0:\n",
    "            blen_ppn6ace[i] = 0\n",
    "        elif i != 0:\n",
    "            blen_ppn6ace[i] =  np.sum(blen_ppn6ace[i-1]) + COM_ppn6ace[0,0]    \n",
    "    elif i == int((n_mon/2)-1):\n",
    "        #PLGA-PEG linker length\n",
    "        blen_ppn6ace[i] = np.sum(blen_ppn6ace[i-1]) + COM_ppn6ace[1,0]\n",
    "    elif i > int((n_mon/2)-1):\n",
    "    #    # PEG contour length values\n",
    "        blen_ppn6ace[i] = np.sum(blen_ppn6ace[i-1]) + COM_ppn6ace[2,0]\n",
    "        \n",
    "blen_ppn6ace"
   ]
  },
  {
   "cell_type": "code",
   "execution_count": null,
   "metadata": {},
   "outputs": [],
   "source": [
    "# Error prop. into natural log std deviation\n",
    "mk_n6ppace = cor_n6plgapeg_ace[1]/cor_n6plgapeg_ace[0]\n",
    "mk_n6ppace"
   ]
  },
  {
   "cell_type": "code",
   "execution_count": null,
   "metadata": {},
   "outputs": [],
   "source": [
    "plt.figure(figsize=(7,7))\n",
    "plt.errorbar(blen_ppn6ace, np.log(cor_n6plgapeg_ace[0]), yerr=mk_n6ppace, color='teal', linestyle=\"None\",marker='o',\n",
    "     capsize=5, capthick=1, ecolor='black')"
   ]
  },
  {
   "cell_type": "code",
   "execution_count": null,
   "metadata": {},
   "outputs": [],
   "source": [
    "# All the points give the best fits for N = 6 peg in acetone\n",
    "n6_blksplgapeg_ace , n6plgapeg_lpace = bavg_pers_cnt(5, plgapeg_n6ace, n6_plgapeg_ace, blen_ppn6ace, 3, 0 , 36001)"
   ]
  },
  {
   "cell_type": "code",
   "execution_count": null,
   "metadata": {},
   "outputs": [],
   "source": [
    "n6_blksplgapeg_ace"
   ]
  },
  {
   "cell_type": "code",
   "execution_count": null,
   "metadata": {},
   "outputs": [],
   "source": [
    "n6plgapeg_lpace"
   ]
  },
  {
   "cell_type": "code",
   "execution_count": null,
   "metadata": {},
   "outputs": [],
   "source": [
    "n6plgapeg_lpace[2]"
   ]
  },
  {
   "cell_type": "code",
   "execution_count": null,
   "metadata": {},
   "outputs": [],
   "source": [
    "np.mean(n6plgapeg_lpace[3])"
   ]
  },
  {
   "cell_type": "markdown",
   "metadata": {},
   "source": [
    "#### line fitted to cosine theta values using mean slope"
   ]
  },
  {
   "cell_type": "code",
   "execution_count": null,
   "metadata": {},
   "outputs": [],
   "source": [
    "def line_fit(slope, x):\n",
    "    return slope*x "
   ]
  },
  {
   "cell_type": "code",
   "execution_count": null,
   "metadata": {},
   "outputs": [],
   "source": [
    "blen_ppn6ace"
   ]
  },
  {
   "cell_type": "code",
   "execution_count": null,
   "metadata": {},
   "outputs": [],
   "source": [
    "gg_n6plgapeg_ace = line_fit(np.mean(n6plgapeg_lpace[2]),blen_ppn6ace)"
   ]
  },
  {
   "cell_type": "code",
   "execution_count": null,
   "metadata": {},
   "outputs": [],
   "source": [
    "gg_n6plgapeg_ace"
   ]
  },
  {
   "cell_type": "markdown",
   "metadata": {},
   "source": [
    "#### Block averaged Rg, Ree, Rh, mean sq. Ree and mean sq. Rg persistence length, N = 6 PLGA-PEG/acetone"
   ]
  },
  {
   "cell_type": "code",
   "execution_count": null,
   "metadata": {},
   "outputs": [],
   "source": [
    "blppn6ace = []\n",
    "for i in range(n_mon-1):\n",
    "    if i < int((n_mon/2)-1):\n",
    "        # PLGA contour length values\n",
    "        blppn6ace.append(COM_ppn6ace[0,0])    \n",
    "    elif i == int((n_mon/2)-1):\n",
    "        #PLGA-PEG linker length\n",
    "        blppn6ace.append(COM_ppn6ace[1,0]) \n",
    "    elif i > int((n_mon/2)-1):\n",
    "    #    # PEG contour length values\n",
    "        blppn6ace.append(COM_ppn6ace[2,0]) \n",
    "\n",
    "# Contour Length, N = 6 PLGA-PEG in acetone\n",
    "lc_ppn6ace = np.sum(blppn6ace)\n",
    "lc_ppn6ace"
   ]
  },
  {
   "cell_type": "code",
   "execution_count": null,
   "metadata": {},
   "outputs": [],
   "source": [
    "# Ree^2/Rg^2 array at different contour lengths\n",
    "re2e_rgsq_plgapegace = np.zeros(shape=(3,6))\n",
    "re2e_rgsq_plgapegace[1,0] = lc_ppn6ace\n",
    "re2e_rgsq_plgapegace"
   ]
  },
  {
   "cell_type": "code",
   "execution_count": null,
   "metadata": {},
   "outputs": [],
   "source": [
    "a_ppn6ace = np.mean(n6_blksplgapeg_ace['Avg Sq. end to end distance'])"
   ]
  },
  {
   "cell_type": "code",
   "execution_count": null,
   "metadata": {},
   "outputs": [],
   "source": [
    "b_ppn6ace = np.mean(n6_blksplgapeg_ace['Avg Sq. radius of gyration'])"
   ]
  },
  {
   "cell_type": "code",
   "execution_count": null,
   "metadata": {},
   "outputs": [],
   "source": [
    "re2e_rgsq_plgapegace[0,0] = a_ppn6ace/b_ppn6ace\n",
    "re2e_rgsq_plgapegace"
   ]
  },
  {
   "cell_type": "code",
   "execution_count": null,
   "metadata": {},
   "outputs": [],
   "source": [
    "# Rg/Rh array at different contour lengths \n",
    "rhy_rg_plgapegace = np.zeros(shape=(3,6))\n",
    "rhy_rg_plgapegace[1,0] = lc_ppn6ace\n",
    "rhy_rg_plgapegace"
   ]
  },
  {
   "cell_type": "code",
   "execution_count": null,
   "metadata": {},
   "outputs": [],
   "source": [
    "aa_ppn6ace = np.mean(n6_blksplgapeg_ace['Avg Radius of gyration'])"
   ]
  },
  {
   "cell_type": "code",
   "execution_count": null,
   "metadata": {},
   "outputs": [],
   "source": [
    "bb_ppn6ace = np.mean(n6_blksplgapeg_ace['Avg Hydrodynamic radius'])"
   ]
  },
  {
   "cell_type": "code",
   "execution_count": null,
   "metadata": {},
   "outputs": [],
   "source": [
    "rhy_rg_plgapegace[0,0] = aa_ppn6ace/bb_ppn6ace\n",
    "rhy_rg_plgapegace"
   ]
  },
  {
   "cell_type": "code",
   "execution_count": null,
   "metadata": {},
   "outputs": [],
   "source": [
    "# Kuhn length array at different monomer lengths\n",
    "kuhnlpL_plgapegace = np.zeros(shape=(3,6))\n",
    "kuhnlpL_plgapegace[1] = np.array([6,8,10,16,20,30])\n",
    "kuhnlpL_plgapegace"
   ]
  },
  {
   "cell_type": "code",
   "execution_count": null,
   "metadata": {},
   "outputs": [],
   "source": [
    "# pers length/contour length \n",
    "kuhnlpL_plgapegace[0,0] = np.mean(n6_blksplgapeg_ace[\"Avg persistence length\"])/lc_ppn6ace\n",
    "kuhnlpL_plgapegace"
   ]
  },
  {
   "cell_type": "markdown",
   "metadata": {},
   "source": [
    "#### Block averaged Radius of gyration and persistence length, N = 6 PLGA-PEG/acetone"
   ]
  },
  {
   "cell_type": "code",
   "execution_count": null,
   "metadata": {},
   "outputs": [],
   "source": [
    "np.mean(n6_blksplgapeg_ace[\"Avg persistence length\"])"
   ]
  },
  {
   "cell_type": "code",
   "execution_count": null,
   "metadata": {},
   "outputs": [],
   "source": [
    "np.std(n6_blksplgapeg_ace[\"Avg persistence length\"])"
   ]
  },
  {
   "cell_type": "code",
   "execution_count": null,
   "metadata": {},
   "outputs": [],
   "source": [
    "np.mean(n6_blksplgapeg_ace[\"Avg Radius of gyration\"])"
   ]
  },
  {
   "cell_type": "code",
   "execution_count": null,
   "metadata": {},
   "outputs": [],
   "source": [
    "np.std(n6_blksplgapeg_ace[\"Avg Radius of gyration\"])"
   ]
  },
  {
   "cell_type": "code",
   "execution_count": null,
   "metadata": {},
   "outputs": [],
   "source": [
    "plt.figure(figsize=(7,7))\n",
    "plt.errorbar(blen_ppn6ace, np.log(cor_n6plgapeg_ace[0]), yerr=mk_n6ppace, color='teal', linestyle=\"None\",marker='o',\n",
    "     capsize=5, capthick=1, ecolor='black')\n",
    "plt.plot(blen_ppn6ace, gg_n6plgapeg_ace, color='teal')\n",
    "plt.title(r'Ensemble Averaged ln(Cosine $\\theta$) in acetone', fontsize=15, y=1.01)\n",
    "plt.xlabel(r'Bond Length', fontsize=15)\n",
    "plt.ylabel(r'ln$\\left< Cos(\\theta)\\right >$', fontsize=15)\n",
    "#plt.ylim(-1.9,0)\n",
    "font = font_manager.FontProperties(family='Arial', style='normal', size='14')\n",
    "plt.legend([r'$N_{PLGA-PEG}$ = 6: $L_{p}$ = 24.7 $\\AA$ ± 1.34 $\\AA$'], loc=3, frameon=0, fontsize=14, prop=font)\n",
    "plt.tick_params(labelsize=14)\n",
    "#plt.text(0.5, -6.94,r'$N_{PEG}$ = 6: $L_{p}$ = 18.8 $\\AA$ ± 3.61 $\\AA$', fontsize=15, color='#1F2E69')"
   ]
  },
  {
   "cell_type": "code",
   "execution_count": null,
   "metadata": {},
   "outputs": [],
   "source": [
    "rgplgapeg_olig_ace =  pd.DataFrame(data=n6_blksplgapeg_ace[\"Avg Radius of gyration\"], columns=['$R_{g}$ [Angstrom] N = 6 PLGA-PEG acetone'])\n",
    "rgplgapeg_olig_ace"
   ]
  },
  {
   "cell_type": "code",
   "execution_count": null,
   "metadata": {},
   "outputs": [],
   "source": [
    "pers_plgapegt_ace = pd.DataFrame(data=n6_blksplgapeg_ace[\"Avg persistence length\"], columns=[r\"$L_{p}$ [Angstrom] N = 6 PLGA-PEG acetone\"])\n",
    "pers_plgapegt_ace"
   ]
  },
  {
   "cell_type": "code",
   "execution_count": null,
   "metadata": {},
   "outputs": [],
   "source": []
  },
  {
   "cell_type": "code",
   "execution_count": null,
   "metadata": {},
   "outputs": [],
   "source": []
  },
  {
   "cell_type": "code",
   "execution_count": null,
   "metadata": {},
   "outputs": [],
   "source": []
  },
  {
   "cell_type": "markdown",
   "metadata": {},
   "source": [
    "### N = 8 PLGA-PEG/acetone "
   ]
  },
  {
   "cell_type": "code",
   "execution_count": null,
   "metadata": {},
   "outputs": [],
   "source": [
    "# For the right Rg calculation using MD Analysis, use trajactory without pbc \n",
    "n8_plgapeg_ace = mda.Universe(\"n8plga_peg_ace/n8plgapeg_ACE.pdb\", \"n8plga_peg_ace/NoAce_n8plgapeg.xtc\")"
   ]
  },
  {
   "cell_type": "code",
   "execution_count": null,
   "metadata": {},
   "outputs": [],
   "source": [
    "n8_plgapeg_ace.trajectory"
   ]
  },
  {
   "cell_type": "code",
   "execution_count": null,
   "metadata": {},
   "outputs": [],
   "source": [
    "len(n8_plgapeg_ace.trajectory)"
   ]
  },
  {
   "cell_type": "code",
   "execution_count": null,
   "metadata": {},
   "outputs": [],
   "source": [
    "#Select the polymer heavy atoms \n",
    "plgapeg_n8ace = n8_plgapeg_ace.select_atoms(\"resname sPLG PLG bPLG bPEG PEG sPEG and not type H\")"
   ]
  },
  {
   "cell_type": "code",
   "execution_count": null,
   "metadata": {},
   "outputs": [],
   "source": [
    "np.unique(plgapeg_n8ace.resids)"
   ]
  },
  {
   "cell_type": "code",
   "execution_count": null,
   "metadata": {},
   "outputs": [],
   "source": [
    "# Get cosine theta values at frame 0 \n",
    "crv_n8plgapeg_ace = pers_length(plgapeg_n8ace,8)\n",
    "crv_n8plgapeg_ace"
   ]
  },
  {
   "cell_type": "markdown",
   "metadata": {},
   "source": [
    "### Orientation Order parameter vs. time "
   ]
  },
  {
   "cell_type": "code",
   "execution_count": null,
   "metadata": {},
   "outputs": [],
   "source": [
    "n8_mon = 8 \n",
    "start = 0\n",
    "end = 36001"
   ]
  },
  {
   "cell_type": "code",
   "execution_count": null,
   "metadata": {},
   "outputs": [],
   "source": [
    "OOp_n8plgapeg_ace = orientation_order_param(plgapeg_n8ace, n8_plgapeg_ace, n8_mon, start, end)"
   ]
  },
  {
   "cell_type": "code",
   "execution_count": null,
   "metadata": {},
   "outputs": [],
   "source": [
    "OOp_n8plgapeg_ace.shape"
   ]
  },
  {
   "cell_type": "code",
   "execution_count": null,
   "metadata": {},
   "outputs": [],
   "source": [
    "trj_len = np.arange(36001)\n",
    "plt.figure(figsize=(7,7))\n",
    "plt.title(r'PLGA-PEG Orientation Order Parameter', fontsize=18, y=1.01)\n",
    "plt.xlabel(r'Time [ns]', fontsize=15)\n",
    "plt.ylabel(r'Z', fontsize=15)\n",
    "plt.plot(trj_len/100, OOp_n6plgapeg_ace,linewidth=2, color='teal')\n",
    "plt.plot(trj_len/100, OOp_n8plgapeg_ace,linewidth=2, color='dodgerblue')\n",
    "plt.tick_params(labelsize=14)\n",
    "plt.legend(['N = 6 in acetone', 'N = 8 in acetone'], frameon=False, fontsize=14)\n",
    "#plt.text(127, 0.96,r'N = 6 in acetone', fontsize=18, color='#1F2E69', family='Arial')\n",
    "plt.xlim(0,360)\n",
    "plt.ylim(-1,1)"
   ]
  },
  {
   "cell_type": "markdown",
   "metadata": {},
   "source": [
    "#### Mean Orientation Order Parameter for N = 8 PLGA-PEG in acetone"
   ]
  },
  {
   "cell_type": "code",
   "execution_count": null,
   "metadata": {},
   "outputs": [],
   "source": [
    "OOp_n8plgapeg_ace[82]"
   ]
  },
  {
   "cell_type": "code",
   "execution_count": null,
   "metadata": {},
   "outputs": [],
   "source": [
    "OOp_n8plgapeg_ace[239]"
   ]
  },
  {
   "cell_type": "code",
   "execution_count": null,
   "metadata": {},
   "outputs": [],
   "source": [
    "np.mean(OOp_n8plgapeg_ace)"
   ]
  },
  {
   "cell_type": "code",
   "execution_count": null,
   "metadata": {},
   "outputs": [],
   "source": [
    "np.std(OOp_n8plgapeg_ace)"
   ]
  },
  {
   "cell_type": "markdown",
   "metadata": {},
   "source": [
    "### Mean squared end to end distance "
   ]
  },
  {
   "cell_type": "code",
   "execution_count": null,
   "metadata": {},
   "outputs": [],
   "source": [
    "eVec_n8plgapeg_ace, e2edis_n8plgapeg_ace = mean_sq_e2e(plgapeg_n8ace, n8_plgapeg_ace, n8_mon, start, end)"
   ]
  },
  {
   "cell_type": "code",
   "execution_count": null,
   "metadata": {},
   "outputs": [],
   "source": [
    "trj_len = np.arange(36001)\n",
    "plt.figure(figsize=(7,7))\n",
    "plt.title(r'PLGA-PEG End to End distance', fontsize=18, y=1.01)\n",
    "plt.xlabel(r'Time [ns]', fontsize=15)\n",
    "plt.ylabel(r'$R_{ee}$ [nm]', fontsize=15)\n",
    "plt.plot(trj_len/100, e2edis_n6plgapeg_ace[1]/10,linewidth=2, color='teal')\n",
    "plt.plot(trj_len/100, e2edis_n8plgapeg_ace[1]/10,linewidth=2, color='dodgerblue')\n",
    "plt.tick_params(labelsize=14)\n",
    "plt.legend(['N = 6 in acetone', 'N = 8 in acetone'], frameon=False, fontsize=14)\n",
    "#plt.text(127, 0.96,r'N = 6 in acetone', fontsize=18, color='#1F2E69', family='Arial')\n",
    "plt.xlim(0,360)\n",
    "plt.ylim(0,8)"
   ]
  },
  {
   "cell_type": "markdown",
   "metadata": {},
   "source": [
    "#### Ree Autocorrelation function"
   ]
  },
  {
   "cell_type": "code",
   "execution_count": null,
   "metadata": {},
   "outputs": [],
   "source": [
    "e2edis_n8plgapeg_ace[1]"
   ]
  },
  {
   "cell_type": "code",
   "execution_count": null,
   "metadata": {},
   "outputs": [],
   "source": [
    "ACn8plgapegace_Ree, eqvar_n8plgapegace = obs_autocorr_RA(e2edis_n8plgapeg_ace[1],t_corr, window_shift,start,end)"
   ]
  },
  {
   "cell_type": "code",
   "execution_count": null,
   "metadata": {},
   "outputs": [],
   "source": [
    "ACn8plgapegace_Ree"
   ]
  },
  {
   "cell_type": "code",
   "execution_count": null,
   "metadata": {},
   "outputs": [],
   "source": [
    "eqvar_n8plgapegace"
   ]
  },
  {
   "cell_type": "code",
   "execution_count": null,
   "metadata": {},
   "outputs": [],
   "source": [
    "ACn8plgapegace_sqRee, evsqRee_n8plgapegace = obs_autocorr_RA(e2edis_n8plgapeg_ace[0],t_corr, window_shift,start,end)"
   ]
  },
  {
   "cell_type": "code",
   "execution_count": null,
   "metadata": {},
   "outputs": [],
   "source": [
    "np.sqrt(evsqRee_n8plgapegace)"
   ]
  },
  {
   "cell_type": "code",
   "execution_count": null,
   "metadata": {},
   "outputs": [],
   "source": [
    "plt.figure(figsize=(7,7))\n",
    "plt.title(r'PLGA-PEG Ree autocorrelation', fontsize=18, y=1.01)\n",
    "plt.xlabel(r'Time [ns]', fontsize=15)\n",
    "plt.ylabel(r'$C_{A}(t)$', fontsize=15)\n",
    "plt.plot(ACn6plgapegace_Ree[1]/100, ACn6plgapegace_Ree[0],linewidth=2, color='#1F2E69')\n",
    "plt.plot(ACn8plgapegace_Ree[1]/100, ACn8plgapegace_Ree[0],linewidth=2, color='#4C80ED')\n",
    "plt.tick_params(labelsize=14)\n",
    "plt.legend(['N = 6 Ree','N = 8 Ree'], frameon=False, fontsize=14)\n",
    "#plt.yscale('symlog', linthreshy=0.5)\n",
    "#plt.xscale('symlog')\n",
    "plt.xlim(0,70)\n",
    "plt.ylim(-1,1)"
   ]
  },
  {
   "cell_type": "markdown",
   "metadata": {},
   "source": [
    "### Hydrodynamic Radius vs time"
   ]
  },
  {
   "cell_type": "code",
   "execution_count": null,
   "metadata": {},
   "outputs": [],
   "source": [
    "plgapegn8ace_rh = hydro_rad_poly(plgapeg_n8ace, n8_plgapeg_ace, n8_mon, start, end)"
   ]
  },
  {
   "cell_type": "code",
   "execution_count": null,
   "metadata": {},
   "outputs": [],
   "source": [
    "trj_len = np.arange(36001)\n",
    "plt.figure(figsize=(7,7))\n",
    "plt.title(r'PLGA-PEG Hydrodynamic Radius', fontsize=18, y=1.01)\n",
    "plt.xlabel(r'Time [ns]', fontsize=15)\n",
    "plt.ylabel(r'$R_{hyd}$ [nm]', fontsize=15)\n",
    "plt.plot(trj_len/100, plgapegn6ace_rh/10,linewidth=2, color='teal')\n",
    "plt.plot(trj_len/100, plgapegn8ace_rh/10,linewidth=2, color='dodgerblue')\n",
    "plt.tick_params(labelsize=14)\n",
    "plt.legend(['N = 6 in acetone', 'N = 8 in acetone'], frameon=False, fontsize=14)\n",
    "#plt.text(127, 0.96,r'N = 6 in acetone', fontsize=18, color='#1F2E69', family='Arial')\n",
    "plt.xlim(0,360)\n",
    "plt.ylim(0,6)"
   ]
  },
  {
   "cell_type": "markdown",
   "metadata": {},
   "source": [
    "#### Rh autocorrelation"
   ]
  },
  {
   "cell_type": "code",
   "execution_count": 13,
   "metadata": {},
   "outputs": [],
   "source": [
    "t_corr = 7000\n",
    "window_shift = 9"
   ]
  },
  {
   "cell_type": "code",
   "execution_count": 14,
   "metadata": {},
   "outputs": [
    {
     "name": "stdout",
     "output_type": "stream",
     "text": [
      "No. of Samples: 3223\n"
     ]
    }
   ],
   "source": [
    "ACn8plgapegaceRh, eqvarRh_n8plgapegace = obs_autocorr_RA(plgapegn8ace_rh,t_corr, window_shift,start,end)"
   ]
  },
  {
   "cell_type": "code",
   "execution_count": 15,
   "metadata": {},
   "outputs": [
    {
     "data": {
      "text/plain": [
       "array([[1.00000000e+00, 9.53174643e-01, 9.17427615e-01, ...,\n",
       "        1.12647461e+00, 1.17689272e+00, 1.11358910e+00],\n",
       "       [0.00000000e+00, 1.00000000e+00, 2.00000000e+00, ...,\n",
       "        6.99700000e+03, 6.99800000e+03, 6.99900000e+03]])"
      ]
     },
     "execution_count": 15,
     "metadata": {},
     "output_type": "execute_result"
    }
   ],
   "source": [
    "ACn8plgapegaceRh"
   ]
  },
  {
   "cell_type": "code",
   "execution_count": 16,
   "metadata": {},
   "outputs": [
    {
     "data": {
      "text/plain": [
       "3.5094915104910456"
      ]
     },
     "execution_count": 16,
     "metadata": {},
     "output_type": "execute_result"
    }
   ],
   "source": [
    "eqvarRh_n8plgapegace"
   ]
  },
  {
   "cell_type": "code",
   "execution_count": null,
   "metadata": {},
   "outputs": [],
   "source": [
    "plt.figure(figsize=(7,7))\n",
    "plt.title(r'PEG Rh autocorrelation', fontsize=18, y=1.01)\n",
    "plt.xlabel(r'Time [ns]', fontsize=15)\n",
    "plt.ylabel(r'$C_{Rh}(t)$', fontsize=15)\n",
    "plt.plot(ACn6plgapegaceRh[1]/100, ACn6plgapegaceRh[0],linewidth=2, color='#1F2E69')\n",
    "plt.plot(ACn8plgapegaceRh[1]/100, ACn8plgapegaceRh[0],linewidth=2, color='#4C80ED')\n",
    "plt.tick_params(labelsize=14)\n",
    "plt.legend(['N = 6 in acetone','N = 8 in acetone'], frameon=False, fontsize=14)\n",
    "plt.xlim(0,70)\n",
    "#plt.ylim(-0.2,1)"
   ]
  },
  {
   "cell_type": "markdown",
   "metadata": {},
   "source": [
    "### Relaxation times vs monomer length "
   ]
  },
  {
   "cell_type": "code",
   "execution_count": null,
   "metadata": {},
   "outputs": [],
   "source": [
    "# Key variables \n",
    "# def pos_bead_autocorr_RA(polymer_atoms, universe, n_monomers, t_corr,  start, end):\n",
    "n8_mon = 8 \n",
    "start = 0\n",
    "end = 36001\n",
    "t_corr = 1000\n",
    "window_shift = 20"
   ]
  },
  {
   "cell_type": "code",
   "execution_count": null,
   "metadata": {},
   "outputs": [],
   "source": [
    "s_time = timeit.default_timer()\n",
    "tcRA_plgapegn8ace, tcSUM_plgapegn8ace = pos_bead_autocorr_RA(plgapeg_n8ace, n8_plgapeg_ace, n8_mon, t_corr, window_shift, start, end)\n",
    "timeit.default_timer() - s_time"
   ]
  },
  {
   "cell_type": "code",
   "execution_count": null,
   "metadata": {},
   "outputs": [],
   "source": [
    "tcRA_plgapegn8ace"
   ]
  },
  {
   "cell_type": "code",
   "execution_count": null,
   "metadata": {},
   "outputs": [],
   "source": [
    "tcSUM_plgapegn8ace.shape"
   ]
  },
  {
   "cell_type": "markdown",
   "metadata": {},
   "source": [
    "### Fitting autocorrelation data "
   ]
  },
  {
   "cell_type": "code",
   "execution_count": null,
   "metadata": {},
   "outputs": [],
   "source": [
    "xdata_plgapegn8ace = tcRA_plgapegn8ace[1]/100\n",
    "ydata_plgapegn8ace = tcRA_plgapegn8ace[0]"
   ]
  },
  {
   "cell_type": "code",
   "execution_count": null,
   "metadata": {},
   "outputs": [],
   "source": [
    "ydata_plgapegn8ace.shape"
   ]
  },
  {
   "cell_type": "code",
   "execution_count": null,
   "metadata": {},
   "outputs": [],
   "source": [
    "xdata_plgapegn8ace.shape"
   ]
  },
  {
   "cell_type": "code",
   "execution_count": null,
   "metadata": {},
   "outputs": [],
   "source": [
    "plt.figure(figsize=(8,8))\n",
    "plt.rcParams[\"font.family\"] = \"Arial\"\n",
    "plt.scatter(xdata_plgapegn6ace, ydata_plgapegn6ace, color='teal', s=s_n6)\n",
    "plt.scatter(xdata_plgapegn8ace, ydata_plgapegn8ace, color='dodgerblue', s=s_n8)\n",
    "plt.title(r'Positional bead autocorrelation PLGA-PEG in acetone', fontsize=18)\n",
    "plt.xlabel(r'Time lag [ns]', fontsize=18)\n",
    "plt.ylabel('C(t)', fontsize=18)\n",
    "#plt.legend(fontsize=14, frameon=False)\n",
    "plt.xticks(fontsize=18)\n",
    "plt.yticks(fontsize=18)\n",
    "#plt.yscale('symlog', linthreshy=0.5)\n",
    "plt.xscale('symlog')\n",
    "plt.grid(b=True)\n",
    "plt.xlim(0,300)\n",
    "plt.ylim(-1,1)\n",
    "plt.tick_params(labelsize=18, direction='in', which='both', width=1, length=10)"
   ]
  },
  {
   "cell_type": "code",
   "execution_count": null,
   "metadata": {},
   "outputs": [],
   "source": [
    "rouse_relax(1, 2, 6)"
   ]
  },
  {
   "cell_type": "code",
   "execution_count": null,
   "metadata": {},
   "outputs": [],
   "source": [
    "ts = 1\n",
    "hs = 0.1\n",
    "n8_mon = 8\n",
    "n_b = n8_mon - 1\n",
    "tr1 = 2\n",
    "zimm_relax_fit(ts,tr1,hs,n_b)"
   ]
  },
  {
   "cell_type": "code",
   "execution_count": null,
   "metadata": {},
   "outputs": [],
   "source": [
    "zimm_relax_func(ts,tr1,hs,n_b)"
   ]
  },
  {
   "cell_type": "code",
   "execution_count": null,
   "metadata": {},
   "outputs": [],
   "source": [
    "def res_plgapegn8ace(variabls, xnp, ynp):\n",
    "    #hs_np = variabls['h_star']\n",
    "    hs_np = 0.26\n",
    "    tr1_np = variabls['t_first']\n",
    "    n_bonds = 7\n",
    "    testnp = []\n",
    "    for i in range(len(xnp)):\n",
    "        model_ynp = zimm_relax_fit(xnp[i], tr1_np, hs_np, n_bonds)\n",
    "        #model_ynp = rouse_relax(xnp[i], tr1_np, n_m)\n",
    "        testnp.append(ynp[i] - model_ynp)\n",
    "    \n",
    "    tt_n6 = np.array(testnp)\n",
    "\n",
    "    return tt_n6\n",
    "    \n",
    "#x1 = np.array([0,0])\n",
    "#pfit, pcov, infodict, errmsg, success = leastsq(res_poly, x1, args=(xdata, ydata), full_output=1)"
   ]
  },
  {
   "cell_type": "code",
   "execution_count": null,
   "metadata": {},
   "outputs": [],
   "source": [
    "ppfit_n8ace = Parameters()\n",
    "#ppfit_n8ace.add(name='h_star', value=0, min=0, max=0.26, vary=True)\n",
    "ppfit_n8ace.add(name='t_first', value=2)"
   ]
  },
  {
   "cell_type": "code",
   "execution_count": null,
   "metadata": {},
   "outputs": [],
   "source": [
    "mini_ppn8ace = Minimizer(res_plgapegn8ace, ppfit_n8ace, fcn_args=(xdata_plgapegn8ace, ydata_plgapegn8ace))\n",
    "out_ppn8ace = mini_ppn8ace.leastsq()\n",
    "#bfit_n10 = ydata_n10ace + out_n10ace.residual "
   ]
  },
  {
   "cell_type": "code",
   "execution_count": null,
   "metadata": {},
   "outputs": [],
   "source": [
    "report_fit(out_ppn8ace.params)"
   ]
  },
  {
   "cell_type": "code",
   "execution_count": null,
   "metadata": {},
   "outputs": [],
   "source": [
    "out_ppn8ace.params"
   ]
  },
  {
   "cell_type": "code",
   "execution_count": null,
   "metadata": {},
   "outputs": [],
   "source": [
    "# with h varying, tr = 0.64347526 +/- 0.00424774, h* = 0.25999916 +/- 0.02254159\n",
    "tace_n8plgapeg = []\n",
    "n_bonds = 7\n",
    "for i in range(len(xdata_plgapegn8ace)):\n",
    "    tace_n8plgapeg.append(zimm_relax_fit(xdata_plgapegn8ace[i], 0.64345497, 0.26,  n_bonds))\n"
   ]
  },
  {
   "cell_type": "code",
   "execution_count": null,
   "metadata": {},
   "outputs": [],
   "source": [
    "t_c, tz_n8plgapeg, zimm_n8plgapeg, rouse_n8plgapeg = zimm_relax_func(1, 0.64345497, 0.26,  n_bonds)"
   ]
  },
  {
   "cell_type": "code",
   "execution_count": null,
   "metadata": {},
   "outputs": [],
   "source": [
    "x_pos_n6 = np.arange(5)\n",
    "x_pos_n8 = np.arange(7)\n",
    "width = 0.25\n",
    "aa_types_n8 = [r\"$\\tau_{1}$\", r\"$\\tau_{2}$\", r\"$\\tau_{3}$\", r\"$\\tau_{4}$\", r\"$\\tau_{5}$\",r\"$\\tau_{6}$\",r\"$\\tau_{7}$\"]\n",
    "fig = plt.figure(figsize=(7,7))\n",
    "plt.title('PLGA-PEG in acetone', fontsize=18)\n",
    "plt.bar(x_pos_n6+width, tz_n6plgapeg, width, ecolor='black',capsize=5, color='teal', label=\"N = 6\")\n",
    "plt.bar(x_pos_n8, tz_n8plgapeg, width, ecolor='black',capsize=5, color='dodgerblue', label='N = 8')\n",
    "plt.xticks(x_pos_n6+width, labels=aa_types, fontsize=12)\n",
    "plt.xticks(x_pos_n8, labels=aa_types_n8, fontsize=12)\n",
    "plt.legend(fontsize=12 ,frameon=False)\n",
    "plt.ylabel(r'Relaxation times [ns]', fontsize=15)"
   ]
  },
  {
   "cell_type": "code",
   "execution_count": null,
   "metadata": {},
   "outputs": [],
   "source": [
    "aa_eigen_n8 = [r\"$a_{1}$\", r\"$a_{2}$\", r\"$a_{3}$\", r\"$a_{4}$\", r\"$a_{5}$\",r\"$a_{6}$\",r\"$a_{7}$\"]\n",
    "fig = plt.figure(figsize=(7,7))\n",
    "plt.title('PLGA-PEG in acetone N = 8', fontsize=18)\n",
    "plt.bar(x_pos_n8, rouse_n8plgapeg, width,ecolor='black',capsize=5, color='c', label='Rouse')\n",
    "plt.bar(x_pos_n8+width, zimm_n8plgapeg, width,ecolor='black',capsize=5, color='m', label='Zimm')\n",
    "plt.xticks(x_pos_n8+width,labels=aa_eigen_n8, fontsize=12)\n",
    "plt.legend(fontsize=12 ,frameon=False)\n",
    "plt.ylabel(r'Rouse and Zimm eigenvalues', fontsize=15)"
   ]
  },
  {
   "cell_type": "code",
   "execution_count": null,
   "metadata": {},
   "outputs": [],
   "source": [
    "plt.figure(figsize=(8,8))\n",
    "plt.rcParams[\"font.family\"] = \"Arial\"\n",
    "plt.scatter(xdata_plgapegn6ace, ydata_plgapegn6ace, color='teal', s=s_n6)\n",
    "plt.scatter(xdata_plgapegn8ace, ydata_plgapegn8ace, color='dodgerblue', s=s_n8)\n",
    "plt.plot(xdata_plgapegn8ace, tace_n6plgapeg, color='teal')\n",
    "plt.plot(xdata_plgapegn8ace, tace_n8plgapeg, color='dodgerblue')\n",
    "plt.title(r'Positional bead autocorrelation PLGA-PEG in acetone', fontsize=18)\n",
    "plt.xlabel(r'Time lag [ns]', fontsize=18)\n",
    "plt.ylabel('C(t)', fontsize=18)\n",
    "#plt.legend(fontsize=14, frameon=False)\n",
    "plt.xticks(fontsize=18)\n",
    "plt.yticks(fontsize=18)\n",
    "#plt.yscale('symlog', linthreshy=0.5)\n",
    "plt.xscale('symlog')\n",
    "plt.grid(b=True)\n",
    "plt.xlim(0,300)\n",
    "plt.ylim(-1,1)\n",
    "plt.tick_params(labelsize=18, direction='in', which='both', width=1, length=10)"
   ]
  },
  {
   "cell_type": "code",
   "execution_count": null,
   "metadata": {},
   "outputs": [],
   "source": [
    "rppace_msen8 = np.array([ydata_plgapegn8ace - np.array(tace_n8plgapeg)])\n",
    "#rpace_msen6"
   ]
  },
  {
   "cell_type": "code",
   "execution_count": null,
   "metadata": {},
   "outputs": [],
   "source": [
    "plt.figure(figsize=(7,7))\n",
    "plt.rcParams[\"font.family\"] = \"Arial\"\n",
    "plt.scatter(xdata_plgapegn6ace, rppace_msen6, color='teal', s=s_n6)\n",
    "plt.scatter(xdata_plgapegn8ace, rppace_msen8, color='dodgerblue', s=s_n8)\n",
    "plt.title(r'Relaxation time Fitting Residuals PlGA-PEG in acetone', fontsize=18)\n",
    "plt.xlabel(r'Time lag [ns]', fontsize=18)\n",
    "plt.ylabel('Residuals', fontsize=18)\n",
    "plt.xticks(fontsize=14)\n",
    "plt.yticks(fontsize=14)\n",
    "plt.xlim([0,100])\n",
    "plt.ylim([-0.7,1])\n",
    "plt.tick_params(labelsize=15)"
   ]
  },
  {
   "cell_type": "markdown",
   "metadata": {},
   "source": [
    "#### Radius of Gyration vs. time N = 8 PLGA-PEG in acetone"
   ]
  },
  {
   "cell_type": "code",
   "execution_count": null,
   "metadata": {},
   "outputs": [],
   "source": [
    "# Key variables \n",
    "n8_mon = 8 \n",
    "start = 0\n",
    "end = 36001"
   ]
  },
  {
   "cell_type": "code",
   "execution_count": null,
   "metadata": {},
   "outputs": [],
   "source": [
    "n8plgapeg_rgens_ace, cor_n8plgapeg_ace, N8plgapeg_cos_ace, rgace_n8plgapeg = get_rg_pers_poly(plgapeg_n8ace, n8_plgapeg_ace,\n",
    "                                                                                                  start,end)"
   ]
  },
  {
   "cell_type": "code",
   "execution_count": null,
   "metadata": {},
   "outputs": [],
   "source": [
    "n8plgapeg_rgens_ace[0].shape"
   ]
  },
  {
   "cell_type": "code",
   "execution_count": null,
   "metadata": {},
   "outputs": [],
   "source": [
    "cor_n8plgapeg_ace[3]"
   ]
  },
  {
   "cell_type": "code",
   "execution_count": null,
   "metadata": {},
   "outputs": [],
   "source": [
    "N8plgapeg_cos_ace"
   ]
  },
  {
   "cell_type": "code",
   "execution_count": null,
   "metadata": {},
   "outputs": [],
   "source": [
    "rgace_n8plgapeg"
   ]
  },
  {
   "cell_type": "code",
   "execution_count": null,
   "metadata": {},
   "outputs": [],
   "source": [
    "n8plgapeg_rgens_ace.shape"
   ]
  },
  {
   "cell_type": "code",
   "execution_count": null,
   "metadata": {},
   "outputs": [],
   "source": [
    "trj_len = np.arange(36001)\n",
    "plt.figure(figsize=(7,7))\n",
    "plt.title(r'PLGA-PEG Radius of Gyration', fontsize=18, y=1.01)\n",
    "plt.xlabel(r'Time [ns]', fontsize=15)\n",
    "plt.ylabel(r'$R_{g}$ [nm]', fontsize=15)\n",
    "plt.plot(trj_len/100, n6plgapeg_rgens_ace[0]/10,linewidth=2, color='teal')\n",
    "plt.plot(trj_len/100, n8plgapeg_rgens_ace[0]/10,linewidth=2, color='dodgerblue')\n",
    "plt.tick_params(labelsize=14)\n",
    "plt.legend(['N = 6 in acetone', 'N = 8 in acetone'], frameon=False, fontsize=14)\n",
    "#plt.text(127, 0.96,r'N = 6 in acetone', fontsize=18, color='#1F2E69', family='Arial')\n",
    "plt.xlim(0,360)\n",
    "plt.ylim(0.2,2)"
   ]
  },
  {
   "cell_type": "markdown",
   "metadata": {},
   "source": [
    "#### Rg Autocorrelation"
   ]
  },
  {
   "cell_type": "code",
   "execution_count": null,
   "metadata": {},
   "outputs": [],
   "source": [
    "t_corr = 4000\n",
    "window_shift = 15"
   ]
  },
  {
   "cell_type": "code",
   "execution_count": 67,
   "metadata": {},
   "outputs": [
    {
     "name": "stdout",
     "output_type": "stream",
     "text": [
      "No. of Samples: 3223\n"
     ]
    }
   ],
   "source": [
    "ACn8plgapegace_Rg, eqvarRg_n8plgapegace = obs_autocorr_RA(n8plgapeg_rgens_ace[0],t_corr, window_shift,start,end)"
   ]
  },
  {
   "cell_type": "code",
   "execution_count": 68,
   "metadata": {},
   "outputs": [
    {
     "data": {
      "text/plain": [
       "array([[1.00000000e+00, 9.82994395e-01, 9.56775027e-01, ...,\n",
       "        6.16211292e-01, 6.33780873e-01, 6.14909820e-01],\n",
       "       [0.00000000e+00, 1.00000000e+00, 2.00000000e+00, ...,\n",
       "        6.99700000e+03, 6.99800000e+03, 6.99900000e+03]])"
      ]
     },
     "execution_count": 68,
     "metadata": {},
     "output_type": "execute_result"
    }
   ],
   "source": [
    "ACn8plgapegace_Rg"
   ]
  },
  {
   "cell_type": "code",
   "execution_count": 69,
   "metadata": {},
   "outputs": [
    {
     "data": {
      "text/plain": [
       "1.6877726848765988"
      ]
     },
     "execution_count": 69,
     "metadata": {},
     "output_type": "execute_result"
    }
   ],
   "source": [
    "eqvarRg_n8plgapegace"
   ]
  },
  {
   "cell_type": "code",
   "execution_count": null,
   "metadata": {},
   "outputs": [],
   "source": [
    "plt.figure(figsize=(7,7))\n",
    "plt.title(r'PEG in acetone autocorrelation', fontsize=18, y=1.01)\n",
    "plt.xlabel(r'Time [ns]', fontsize=15)\n",
    "plt.ylabel(r'$C_{A}(t)$', fontsize=15)\n",
    "plt.plot(ACn6plgapegace_Rg[1]/100, ACn6plgapegace_Rg[0],linewidth=2, color='#1F2E69')\n",
    "plt.plot(ACn8plgapegace_Rg[1]/100, ACn8plgapegace_Rg[0],linewidth=2, color='#4C80ED')\n",
    "plt.tick_params(labelsize=14)\n",
    "plt.legend(['N = 6 Rg','N = 8 Rg'], frameon=False, fontsize=14)\n",
    "#plt.yscale('symlog', linthreshy=0.5)\n",
    "#plt.xscale('symlog')\n",
    "plt.xlim(0,70)\n",
    "plt.ylim(-1,1)"
   ]
  },
  {
   "cell_type": "markdown",
   "metadata": {},
   "source": [
    "#### Get average COM distance, Contour length calc"
   ]
  },
  {
   "cell_type": "code",
   "execution_count": null,
   "metadata": {},
   "outputs": [],
   "source": [
    "cb_n8plga = np.zeros(shape=(36001))\n",
    "cb_n8pplinker = np.zeros(shape=(36001))\n",
    "cb_n8plgapeg = np.zeros(shape=(36001))\n",
    "count = 0\n",
    "for ts in n8_plgapeg_ace.trajectory[0:36001]:\n",
    "    # 1st two PLGA residues\n",
    "    n8m1_plga = n8_plgapeg_ace.select_atoms(\"resid 1\")\n",
    "    n8m2_plga = n8_plgapeg_ace.select_atoms(\"resid 2\")\n",
    "    # PLGA-PEG linker (n_mon/2 to get to bPLG res no.)\n",
    "    n8pl_link = n8_plgapeg_ace.select_atoms(\"resid 4\")\n",
    "    n8plgapeg_link = n8_plgapeg_ace.select_atoms(\"resid 5\")\n",
    "    # last two PEG residues \n",
    "    n8l1_peg = n8_plgapeg_ace.select_atoms(\"resid 7\")\n",
    "    n8l2_peg = n8_plgapeg_ace.select_atoms(\"resid 8\")\n",
    "    \n",
    "    cb_n8plga[count] = mda.analysis.distances.distance_array(n8m1_plga.center_of_mass(), n8m2_plga.center_of_mass(), \n",
    "                                                   box=n8_plgapeg_ace.trajectory.ts.dimensions)\n",
    "    \n",
    "    cb_n8pplinker[count] = mda.analysis.distances.distance_array(n8pl_link.center_of_mass(), n8plgapeg_link.center_of_mass(), \n",
    "                                                   box=n8_plgapeg_ace.trajectory.ts.dimensions)\n",
    "    \n",
    "    cb_n8plgapeg[count] = mda.analysis.distances.distance_array(n8l1_peg.center_of_mass(), n8l2_peg.center_of_mass(), \n",
    "                                                   box=n8_plgapeg_ace.trajectory.ts.dimensions)\n",
    "    \n",
    "    count += 1\n",
    "    \n",
    "\n",
    "    "
   ]
  },
  {
   "cell_type": "code",
   "execution_count": null,
   "metadata": {},
   "outputs": [],
   "source": [
    "COM_ppn8ace = np.zeros(shape=(3,2))\n",
    "COM_ppn8ace[0,0] = np.mean(cb_n8plga)\n",
    "COM_ppn8ace[1,0] = np.mean(cb_n8pplinker)\n",
    "COM_ppn8ace[2,0] = np.mean(cb_n8plgapeg)\n",
    "COM_ppn8ace[0,1] = np.std(cb_n8plga)\n",
    "COM_ppn8ace[1,1] = np.std(cb_n8pplinker)\n",
    "COM_ppn8ace[2,1] = np.std(cb_n8plgapeg)\n",
    "COM_ppn8ace"
   ]
  },
  {
   "cell_type": "markdown",
   "metadata": {},
   "source": [
    "#### Correlation values at each arc length for the whole 360 ns trajectory, N = 8 PLGA-PEG/acetone"
   ]
  },
  {
   "cell_type": "code",
   "execution_count": null,
   "metadata": {},
   "outputs": [],
   "source": [
    "# x values\n",
    "blen_ppn8ace = np.zeros(shape=7)\n",
    "for i in range(n8_mon-1):\n",
    "    if i < int((n8_mon/2)-1):\n",
    "        # PLGA contour length values\n",
    "        if i == 0:\n",
    "            blen_ppn8ace[i] = 0\n",
    "        elif i != 0:\n",
    "            blen_ppn8ace[i] = np.sum(blen_ppn8ace[i-1]) + COM_ppn8ace[0,0]    \n",
    "    elif i == int((n8_mon/2)-1):\n",
    "        #PLGA-PEG linker length\n",
    "        blen_ppn8ace[i] = np.sum(blen_ppn8ace[i-1]) + COM_ppn8ace[1,0]\n",
    "    elif i > int((n8_mon/2)-1):\n",
    "    #    # PEG contour length values\n",
    "        blen_ppn8ace[i] = np.sum(blen_ppn8ace[i-1]) + COM_ppn8ace[2,0]\n",
    "        \n",
    "blen_ppn8ace"
   ]
  },
  {
   "cell_type": "code",
   "execution_count": null,
   "metadata": {},
   "outputs": [],
   "source": [
    "# Error prop. into natural log std deviation\n",
    "mk_n8ppace = cor_n8plgapeg_ace[1]/cor_n8plgapeg_ace[0]\n",
    "mk_n8ppace"
   ]
  },
  {
   "cell_type": "code",
   "execution_count": null,
   "metadata": {},
   "outputs": [],
   "source": [
    "plt.figure(figsize=(7,7))\n",
    "plt.errorbar(blen_ppn8ace, np.log(cor_n8plgapeg_ace[0]), yerr=mk_n8ppace, color='teal', linestyle=\"None\",marker='o',\n",
    "     capsize=5, capthick=1, ecolor='black')"
   ]
  },
  {
   "cell_type": "code",
   "execution_count": null,
   "metadata": {},
   "outputs": [],
   "source": [
    "# All the points give the best fits for N = 6 peg in acetone\n",
    "n8_blksplgapeg_ace , n8plgapeg_lpace = bavg_pers_cnt(5, plgapeg_n8ace, n8_plgapeg_ace, blen_ppn8ace, 4, 0 , 36001)"
   ]
  },
  {
   "cell_type": "code",
   "execution_count": null,
   "metadata": {},
   "outputs": [],
   "source": [
    "n8_blksplgapeg_ace"
   ]
  },
  {
   "cell_type": "code",
   "execution_count": null,
   "metadata": {},
   "outputs": [],
   "source": [
    "n8plgapeg_lpace"
   ]
  },
  {
   "cell_type": "code",
   "execution_count": null,
   "metadata": {},
   "outputs": [],
   "source": [
    "n8plgapeg_lpace[2]"
   ]
  },
  {
   "cell_type": "code",
   "execution_count": null,
   "metadata": {},
   "outputs": [],
   "source": [
    "np.mean(n8plgapeg_lpace[3])"
   ]
  },
  {
   "cell_type": "markdown",
   "metadata": {},
   "source": [
    "#### line fitted to cosine theta values using mean slope"
   ]
  },
  {
   "cell_type": "code",
   "execution_count": null,
   "metadata": {},
   "outputs": [],
   "source": [
    "blen_ppn8ace"
   ]
  },
  {
   "cell_type": "code",
   "execution_count": null,
   "metadata": {},
   "outputs": [],
   "source": [
    "gg_n8plgapeg_ace = line_fit(np.mean(n8plgapeg_lpace[2]),blen_ppn8ace)"
   ]
  },
  {
   "cell_type": "code",
   "execution_count": null,
   "metadata": {},
   "outputs": [],
   "source": [
    "gg_n6plgapeg_n8ace = line_fit(np.mean(n6plgapeg_lpace[2]),blen_ppn8ace)"
   ]
  },
  {
   "cell_type": "code",
   "execution_count": null,
   "metadata": {},
   "outputs": [],
   "source": [
    "gg_n8plgapeg_ace"
   ]
  },
  {
   "cell_type": "markdown",
   "metadata": {},
   "source": [
    "#### Block averaged Rg, Ree, Rh, mean sq. Ree and mean sq. Rg persistence length, N = 8 PLGA-PEG in acetone"
   ]
  },
  {
   "cell_type": "code",
   "execution_count": null,
   "metadata": {},
   "outputs": [],
   "source": [
    "blppn8ace = []\n",
    "for i in range(n8_mon-1):\n",
    "    if i < int((n8_mon/2)-1):\n",
    "        # PLGA contour length values\n",
    "        blppn8ace.append(COM_ppn8ace[0,0])    \n",
    "    elif i == int((n8_mon/2)-1):\n",
    "        #PLGA-PEG linker length\n",
    "        blppn8ace.append(COM_ppn8ace[1,0]) \n",
    "    elif i > int((n8_mon/2)-1):\n",
    "    #    # PEG contour length values\n",
    "        blppn8ace.append(COM_ppn8ace[2,0]) \n",
    "\n",
    "# Contour Length, N = 6 PLGA-PEG in acetone\n",
    "lc_ppn8ace = np.sum(blppn8ace)\n",
    "lc_ppn8ace"
   ]
  },
  {
   "cell_type": "code",
   "execution_count": null,
   "metadata": {},
   "outputs": [],
   "source": [
    "# Ree^2/Rg^2 array at different contour lengths\n",
    "re2e_rgsq_plgapegace[1,1] = lc_ppn8ace\n",
    "re2e_rgsq_plgapegace"
   ]
  },
  {
   "cell_type": "code",
   "execution_count": null,
   "metadata": {},
   "outputs": [],
   "source": [
    "a_ppn8ace = np.mean(n8_blksplgapeg_ace['Avg Sq. end to end distance'])"
   ]
  },
  {
   "cell_type": "code",
   "execution_count": null,
   "metadata": {},
   "outputs": [],
   "source": [
    "b_ppn8ace = np.mean(n8_blksplgapeg_ace['Avg Sq. radius of gyration'])"
   ]
  },
  {
   "cell_type": "code",
   "execution_count": null,
   "metadata": {},
   "outputs": [],
   "source": [
    "re2e_rgsq_plgapegace[0,1] = a_ppn8ace/b_ppn8ace\n",
    "re2e_rgsq_plgapegace"
   ]
  },
  {
   "cell_type": "code",
   "execution_count": null,
   "metadata": {},
   "outputs": [],
   "source": [
    "# Rg/Rh array at different contour lengths \n",
    "rhy_rg_plgapegace[1,1] = lc_ppn8ace\n",
    "rhy_rg_plgapegace"
   ]
  },
  {
   "cell_type": "code",
   "execution_count": null,
   "metadata": {},
   "outputs": [],
   "source": [
    "aa_ppn8ace = np.mean(n8_blksplgapeg_ace['Avg Radius of gyration'])"
   ]
  },
  {
   "cell_type": "code",
   "execution_count": null,
   "metadata": {},
   "outputs": [],
   "source": [
    "bb_ppn8ace = np.mean(n8_blksplgapeg_ace['Avg Hydrodynamic radius'])"
   ]
  },
  {
   "cell_type": "code",
   "execution_count": null,
   "metadata": {},
   "outputs": [],
   "source": [
    "rhy_rg_plgapegace[0,1] = aa_ppn8ace/bb_ppn8ace\n",
    "rhy_rg_plgapegace"
   ]
  },
  {
   "cell_type": "code",
   "execution_count": null,
   "metadata": {},
   "outputs": [],
   "source": [
    "# pers length/contour length \n",
    "kuhnlpL_plgapegace[0,1] = np.mean(n8_blksplgapeg_ace[\"Avg persistence length\"])/lc_ppn8ace\n",
    "kuhnlpL_plgapegace"
   ]
  },
  {
   "cell_type": "markdown",
   "metadata": {},
   "source": [
    "#### Block averaged Radius of gyration and persistence length, N = 8 PLGA-PEG in acetone"
   ]
  },
  {
   "cell_type": "code",
   "execution_count": null,
   "metadata": {},
   "outputs": [],
   "source": [
    "np.mean(n8_blksplgapeg_ace[\"Avg persistence length\"])"
   ]
  },
  {
   "cell_type": "code",
   "execution_count": null,
   "metadata": {},
   "outputs": [],
   "source": [
    "np.std(n8_blksplgapeg_ace[\"Avg persistence length\"])"
   ]
  },
  {
   "cell_type": "code",
   "execution_count": null,
   "metadata": {},
   "outputs": [],
   "source": [
    "np.mean(n8_blksplgapeg_ace[\"Avg Radius of gyration\"])"
   ]
  },
  {
   "cell_type": "code",
   "execution_count": null,
   "metadata": {},
   "outputs": [],
   "source": [
    "np.std(n8_blksplgapeg_ace[\"Avg Radius of gyration\"])"
   ]
  },
  {
   "cell_type": "code",
   "execution_count": null,
   "metadata": {},
   "outputs": [],
   "source": [
    "plt.figure(figsize=(7,7))\n",
    "plt.errorbar(blen_ppn6ace, np.log(cor_n6plgapeg_ace[0]), yerr=mk_n6ppace, color='teal', linestyle=\"None\",marker='o',\n",
    "             capsize=5, capthick=1, ecolor='black')\n",
    "plt.errorbar(blen_ppn8ace, np.log(cor_n8plgapeg_ace[0]), yerr=mk_n8ppace, color='dodgerblue', linestyle=\"None\",marker='o',\n",
    "     capsize=5, capthick=1, ecolor='black')\n",
    "plt.plot(blen_ppn8ace, gg_n6plgapeg_n8ace, color='teal')\n",
    "plt.plot(blen_ppn8ace, gg_n8plgapeg_ace, color='dodgerblue')\n",
    "plt.title(r'Ensemble Averaged ln(Cosine $\\theta$) PLGA-PEG in acetone', fontsize=15, y=1.01)\n",
    "plt.xlabel(r'Bond Length', fontsize=15)\n",
    "plt.ylabel(r'ln$\\left< Cos(\\theta)\\right >$', fontsize=15)\n",
    "plt.ylim(-6,1)\n",
    "plt.xlim(0,30)\n",
    "#plt.ylim(-1.9,0)\n",
    "font = font_manager.FontProperties(family='Arial', style='normal', size='14')\n",
    "#plt.legend([r'$N_{PEG}$ = 6: $L_{p}$ = 18.8 $\\AA$ ± 3.60 $\\AA$'], loc=3, frameon=0, fontsize=14, prop=font)\n",
    "plt.tick_params(labelsize=14)\n",
    "plt.text(0.5, -5.9,r'$N_{PLGA-PEG}$ = 6: $L_{p}$ = 24.7 $\\AA$ ± 1.34 $\\AA$', fontsize=15, color='teal')\n",
    "plt.text(0.5, -5.58,r'$N_{PLGA-PEG}$ = 8: $L_{p}$ = 27.3.0 $\\AA$ ± 4.09 $\\AA$', fontsize=15, color='dodgerblue')"
   ]
  },
  {
   "cell_type": "code",
   "execution_count": null,
   "metadata": {},
   "outputs": [],
   "source": [
    "rgplgapeg_olig_ace[r\"$R_{g}$ [Angstrom] N = 8 PLGA-PEG acetone\"] = n8_blksplgapeg_ace[\"Avg Radius of gyration\"]\n",
    "rgplgapeg_olig_ace"
   ]
  },
  {
   "cell_type": "code",
   "execution_count": null,
   "metadata": {},
   "outputs": [],
   "source": [
    "pers_plgapegt_ace[r\"$L_{p}$ [Angstrom] N = 8 PLGA-PEG acetone\"] = n8_blksplgapeg_ace[\"Avg persistence length\"]\n",
    "pers_plgapegt_ace"
   ]
  },
  {
   "cell_type": "code",
   "execution_count": null,
   "metadata": {},
   "outputs": [],
   "source": []
  },
  {
   "cell_type": "code",
   "execution_count": null,
   "metadata": {},
   "outputs": [],
   "source": []
  },
  {
   "cell_type": "code",
   "execution_count": null,
   "metadata": {},
   "outputs": [],
   "source": []
  },
  {
   "cell_type": "markdown",
   "metadata": {},
   "source": [
    "### N = 10 PLGA-PEG/acetone "
   ]
  },
  {
   "cell_type": "code",
   "execution_count": null,
   "metadata": {},
   "outputs": [],
   "source": [
    "# For the right Rg calculation using MD Analysis, use trajactory without pbc \n",
    "n10_plgapeg_ace = mda.Universe(\"n10plga_peg_ace/n10plgapeg_ACE.pdb\", \"n10plga_peg_ace/NoAce_n10plgapeg.xtc\")"
   ]
  },
  {
   "cell_type": "code",
   "execution_count": null,
   "metadata": {},
   "outputs": [],
   "source": [
    "n10_plgapeg_ace.trajectory"
   ]
  },
  {
   "cell_type": "code",
   "execution_count": null,
   "metadata": {},
   "outputs": [],
   "source": [
    "len(n10_plgapeg_ace.trajectory)"
   ]
  },
  {
   "cell_type": "code",
   "execution_count": null,
   "metadata": {},
   "outputs": [],
   "source": [
    "#Select the polymer heavy atoms \n",
    "plgapeg_n10ace = n10_plgapeg_ace.select_atoms(\"resname sPLG PLG bPLG bPEG PEG sPEG and not type H\")"
   ]
  },
  {
   "cell_type": "code",
   "execution_count": null,
   "metadata": {},
   "outputs": [],
   "source": [
    "np.unique(plgapeg_n10ace.resids)"
   ]
  },
  {
   "cell_type": "code",
   "execution_count": null,
   "metadata": {},
   "outputs": [],
   "source": [
    "# Get cosine theta values at frame 0 \n",
    "crv_n10plgapeg_ace = pers_length(plgapeg_n10ace,10)\n",
    "crv_n10plgapeg_ace"
   ]
  },
  {
   "cell_type": "markdown",
   "metadata": {},
   "source": [
    "### Orientation Order parameter vs. time "
   ]
  },
  {
   "cell_type": "code",
   "execution_count": 17,
   "metadata": {},
   "outputs": [],
   "source": [
    "n10_mon = 10 \n",
    "start = 0\n",
    "end = 36001"
   ]
  },
  {
   "cell_type": "code",
   "execution_count": null,
   "metadata": {},
   "outputs": [],
   "source": [
    "OOp_n10plgapeg_ace = orientation_order_param(plgapeg_n10ace, n10_plgapeg_ace, n10_mon, start, end)"
   ]
  },
  {
   "cell_type": "code",
   "execution_count": null,
   "metadata": {},
   "outputs": [],
   "source": [
    "OOp_n10plgapeg_ace.shape"
   ]
  },
  {
   "cell_type": "code",
   "execution_count": null,
   "metadata": {},
   "outputs": [],
   "source": [
    "trj_len = np.arange(36001)\n",
    "plt.figure(figsize=(7,7))\n",
    "plt.title(r'PLGA-PEG Orientation Order Parameter', fontsize=18, y=1.01)\n",
    "plt.xlabel(r'Time [ns]', fontsize=15)\n",
    "plt.ylabel(r'Z', fontsize=15)\n",
    "plt.plot(trj_len/100, OOp_n6plgapeg_ace,linewidth=2, color='teal')\n",
    "plt.plot(trj_len/100, OOp_n8plgapeg_ace,linewidth=2, color='dodgerblue')\n",
    "plt.plot(trj_len/100, OOp_n10plgapeg_ace,linewidth=2, color='darkmagenta')\n",
    "plt.tick_params(labelsize=14)\n",
    "plt.legend(['N = 6 in acetone', 'N = 8 in acetone','N = 10 in acetone'], frameon=False, fontsize=14)\n",
    "#plt.text(127, 0.96,r'N = 6 in acetone', fontsize=18, color='#1F2E69', family='Arial')\n",
    "plt.xlim(0,360)\n",
    "plt.ylim(-1,1)"
   ]
  },
  {
   "cell_type": "markdown",
   "metadata": {},
   "source": [
    "#### Mean Orientation Order Parameter for N = 10 PLGA-PEG in acetone"
   ]
  },
  {
   "cell_type": "code",
   "execution_count": null,
   "metadata": {},
   "outputs": [],
   "source": [
    "OOp_n10plgapeg_ace[82]"
   ]
  },
  {
   "cell_type": "code",
   "execution_count": null,
   "metadata": {},
   "outputs": [],
   "source": [
    "OOp_n10plgapeg_ace[239]"
   ]
  },
  {
   "cell_type": "code",
   "execution_count": null,
   "metadata": {},
   "outputs": [],
   "source": [
    "np.mean(OOp_n10plgapeg_ace)"
   ]
  },
  {
   "cell_type": "code",
   "execution_count": null,
   "metadata": {},
   "outputs": [],
   "source": [
    "np.std(OOp_n10plgapeg_ace)"
   ]
  },
  {
   "cell_type": "markdown",
   "metadata": {},
   "source": [
    "### Mean squared end to end distance "
   ]
  },
  {
   "cell_type": "code",
   "execution_count": null,
   "metadata": {},
   "outputs": [],
   "source": [
    "eVec_n10plgapeg_ace, e2edis_n10plgapeg_ace = mean_sq_e2e(plgapeg_n10ace, n10_plgapeg_ace, n10_mon, start, end)"
   ]
  },
  {
   "cell_type": "code",
   "execution_count": null,
   "metadata": {},
   "outputs": [],
   "source": [
    "trj_len = np.arange(36001)\n",
    "plt.figure(figsize=(7,7))\n",
    "plt.title(r'PLGA-PEG End to End distance', fontsize=18, y=1.01)\n",
    "plt.xlabel(r'Time [ns]', fontsize=15)\n",
    "plt.ylabel(r'$R_{ee}$ [nm]', fontsize=15)\n",
    "plt.plot(trj_len/100, e2edis_n6plgapeg_ace[1]/10,linewidth=2, color='teal')\n",
    "plt.plot(trj_len/100, e2edis_n8plgapeg_ace[1]/10,linewidth=2, color='dodgerblue')\n",
    "plt.plot(trj_len/100, e2edis_n10plgapeg_ace[1]/10,linewidth=2, color='darkmagenta')\n",
    "plt.tick_params(labelsize=14)\n",
    "plt.legend(['N = 6 in acetone', 'N = 8 in acetone','N = 10 in acetone'], frameon=False, fontsize=14)\n",
    "#plt.text(127, 0.96,r'N = 6 in acetone', fontsize=18, color='#1F2E69', family='Arial')\n",
    "plt.xlim(0,360)\n",
    "plt.ylim(0,5)"
   ]
  },
  {
   "cell_type": "markdown",
   "metadata": {},
   "source": [
    "#### Ree Autocorrelation function"
   ]
  },
  {
   "cell_type": "code",
   "execution_count": null,
   "metadata": {},
   "outputs": [],
   "source": [
    "e2edis_n10plgapeg_ace[1]"
   ]
  },
  {
   "cell_type": "code",
   "execution_count": null,
   "metadata": {},
   "outputs": [],
   "source": [
    "t_corr = 7000\n",
    "window_shift = 9"
   ]
  },
  {
   "cell_type": "code",
   "execution_count": 18,
   "metadata": {},
   "outputs": [
    {
     "name": "stdout",
     "output_type": "stream",
     "text": [
      "No. of Samples: 3223\n"
     ]
    }
   ],
   "source": [
    "ACn10plgapegace_Ree, eqvar_n10plgapegace = obs_autocorr_RA(e2edis_n10plgapeg_ace[1],t_corr, window_shift,start,end)"
   ]
  },
  {
   "cell_type": "code",
   "execution_count": 19,
   "metadata": {},
   "outputs": [
    {
     "data": {
      "text/plain": [
       "array([[ 1.00000000e+00,  9.84547444e-01,  9.74086576e-01, ...,\n",
       "        -4.54273445e-03,  1.32093862e-03, -9.68905364e-03],\n",
       "       [ 0.00000000e+00,  1.00000000e+00,  2.00000000e+00, ...,\n",
       "         6.99700000e+03,  6.99800000e+03,  6.99900000e+03]])"
      ]
     },
     "execution_count": 19,
     "metadata": {},
     "output_type": "execute_result"
    }
   ],
   "source": [
    "ACn10plgapegace_Ree"
   ]
  },
  {
   "cell_type": "code",
   "execution_count": 20,
   "metadata": {},
   "outputs": [
    {
     "data": {
      "text/plain": [
       "85.40286227433248"
      ]
     },
     "execution_count": 20,
     "metadata": {},
     "output_type": "execute_result"
    }
   ],
   "source": [
    "eqvar_n10plgapegace"
   ]
  },
  {
   "cell_type": "code",
   "execution_count": null,
   "metadata": {},
   "outputs": [],
   "source": [
    "ACn10plgapegace_sqRee, evsqRee_n10plgapegace = obs_autocorr_RA(e2edis_n10plgapeg_ace[0],t_corr, window_shift,start,end)"
   ]
  },
  {
   "cell_type": "code",
   "execution_count": null,
   "metadata": {},
   "outputs": [],
   "source": [
    "np.sqrt(evsqRee_n10plgapegace)"
   ]
  },
  {
   "cell_type": "code",
   "execution_count": null,
   "metadata": {},
   "outputs": [],
   "source": [
    "plt.figure(figsize=(7,7))\n",
    "plt.title(r'PLGA-PEG Ree autocorrelation', fontsize=18, y=1.01)\n",
    "plt.xlabel(r'Time [ns]', fontsize=15)\n",
    "plt.ylabel(r'$C_{A}(t)$', fontsize=15)\n",
    "plt.plot(ACn6plgapegace_Ree[1]/100, ACn6plgapegace_Ree[0],linewidth=2, color='#1F2E69')\n",
    "plt.plot(ACn8plgapegace_Ree[1]/100, ACn8plgapegace_Ree[0],linewidth=2, color='#4C80ED')\n",
    "plt.plot(ACn10plgapegace_Ree[1]/100, ACn10plgapegace_Ree[0],linewidth=2, color='#8C52FC')\n",
    "plt.tick_params(labelsize=14)\n",
    "plt.legend(['N = 6 Ree','N = 8 Ree','N = 10 Ree'], frameon=False, fontsize=14)\n",
    "#plt.yscale('symlog', linthreshy=0.5)\n",
    "#plt.xscale('symlog')\n",
    "plt.xlim(0,70)\n",
    "plt.ylim(-1,1)"
   ]
  },
  {
   "cell_type": "markdown",
   "metadata": {},
   "source": [
    "### Hydrodynamic Radius vs time"
   ]
  },
  {
   "cell_type": "code",
   "execution_count": null,
   "metadata": {},
   "outputs": [],
   "source": [
    "plgapegn10ace_rh = hydro_rad_poly(plgapeg_n10ace, n10_plgapeg_ace, n10_mon, start, end)"
   ]
  },
  {
   "cell_type": "code",
   "execution_count": null,
   "metadata": {},
   "outputs": [],
   "source": [
    "trj_len = np.arange(36001)\n",
    "plt.figure(figsize=(7,7))\n",
    "plt.title(r'PLGA-PEG Hydrodynamic Radius', fontsize=18, y=1.01)\n",
    "plt.xlabel(r'Time [ns]', fontsize=15)\n",
    "plt.ylabel(r'$R_{hyd}$ [nm]', fontsize=15)\n",
    "plt.plot(trj_len/100, plgapegn6ace_rh/10,linewidth=2, color='teal')\n",
    "plt.plot(trj_len/100, plgapegn8ace_rh/10,linewidth=2, color='dodgerblue')\n",
    "plt.plot(trj_len/100, plgapegn10ace_rh/10,linewidth=2, color='darkmagenta')\n",
    "plt.tick_params(labelsize=14)\n",
    "plt.legend(['N = 6 in acetone', 'N = 8 in acetone','N = 10 in acetone'], frameon=False, fontsize=14)\n",
    "#plt.text(127, 0.96,r'N = 6 in acetone', fontsize=18, color='#1F2E69', family='Arial')\n",
    "plt.xlim(0,360)\n",
    "plt.ylim(0,7)"
   ]
  },
  {
   "cell_type": "markdown",
   "metadata": {},
   "source": [
    "#### Rh autocorrelation"
   ]
  },
  {
   "cell_type": "code",
   "execution_count": null,
   "metadata": {},
   "outputs": [],
   "source": [
    "t_corr = 10000\n",
    "window_shift = 9"
   ]
  },
  {
   "cell_type": "code",
   "execution_count": 38,
   "metadata": {},
   "outputs": [
    {
     "name": "stdout",
     "output_type": "stream",
     "text": [
      "No. of Samples: 3223\n"
     ]
    }
   ],
   "source": [
    "ACn10plgapegaceRh, eqvarRh_n10plgapegace = obs_autocorr_RA(plgapegn10ace_rh,t_corr, window_shift,start,end)"
   ]
  },
  {
   "cell_type": "code",
   "execution_count": 39,
   "metadata": {},
   "outputs": [
    {
     "data": {
      "text/plain": [
       "array([[ 1.00000000e+00,  9.40618787e-01,  9.41543441e-01, ...,\n",
       "        -4.33075251e-01, -4.23998494e-01, -4.51816752e-01],\n",
       "       [ 0.00000000e+00,  1.00000000e+00,  2.00000000e+00, ...,\n",
       "         6.99700000e+03,  6.99800000e+03,  6.99900000e+03]])"
      ]
     },
     "execution_count": 39,
     "metadata": {},
     "output_type": "execute_result"
    }
   ],
   "source": [
    "ACn10plgapegaceRh"
   ]
  },
  {
   "cell_type": "code",
   "execution_count": 40,
   "metadata": {},
   "outputs": [
    {
     "data": {
      "text/plain": [
       "4.531451446507731"
      ]
     },
     "execution_count": 40,
     "metadata": {},
     "output_type": "execute_result"
    }
   ],
   "source": [
    "eqvarRh_n10plgapegace"
   ]
  },
  {
   "cell_type": "code",
   "execution_count": null,
   "metadata": {},
   "outputs": [],
   "source": [
    "plt.figure(figsize=(7,7))\n",
    "plt.title(r'PEG Rh autocorrelation', fontsize=18, y=1.01)\n",
    "plt.xlabel(r'Time [ns]', fontsize=15)\n",
    "plt.ylabel(r'$C_{Rh}(t)$', fontsize=15)\n",
    "plt.plot(ACn6plgapegaceRh[1]/100, ACn6plgapegaceRh[0],linewidth=2, color='#1F2E69')\n",
    "plt.plot(ACn8plgapegaceRh[1]/100, ACn8plgapegaceRh[0],linewidth=2, color='#4C80ED')\n",
    "plt.plot(ACn10plgapegaceRh[1]/100, ACn10plgapegaceRh[0],linewidth=2, color='#8C52FC')\n",
    "plt.tick_params(labelsize=14)\n",
    "plt.legend(['N = 6 in acetone','N = 8 in acetone','N = 10 in acetone'], frameon=False, fontsize=14)\n",
    "plt.xlim(0,100)\n",
    "#plt.ylim(-0.2,1)"
   ]
  },
  {
   "cell_type": "markdown",
   "metadata": {},
   "source": [
    "### Relaxation times vs monomer length "
   ]
  },
  {
   "cell_type": "code",
   "execution_count": null,
   "metadata": {},
   "outputs": [],
   "source": [
    "# Key variables \n",
    "# def pos_bead_autocorr_RA(polymer_atoms, universe, n_monomers, t_corr,  start, end):\n",
    "n10_mon = 10 \n",
    "start = 0\n",
    "end = 36001\n",
    "t_corr = 1000\n",
    "window_shift = 20"
   ]
  },
  {
   "cell_type": "code",
   "execution_count": null,
   "metadata": {},
   "outputs": [],
   "source": [
    "s_time = timeit.default_timer()\n",
    "tcRA_plgapegn10ace, tcSUM_plgapegn10ace = pos_bead_autocorr_RA(plgapeg_n10ace, n10_plgapeg_ace, n10_mon, t_corr, window_shift, start, end)\n",
    "timeit.default_timer() - s_time"
   ]
  },
  {
   "cell_type": "code",
   "execution_count": null,
   "metadata": {},
   "outputs": [],
   "source": [
    "tcRA_plgapegn10ace"
   ]
  },
  {
   "cell_type": "code",
   "execution_count": null,
   "metadata": {},
   "outputs": [],
   "source": [
    "tcSUM_plgapegn10ace.shape"
   ]
  },
  {
   "cell_type": "markdown",
   "metadata": {},
   "source": [
    "### Fitting autocorrelation data "
   ]
  },
  {
   "cell_type": "code",
   "execution_count": null,
   "metadata": {},
   "outputs": [],
   "source": [
    "xdata_plgapegn10ace = tcRA_plgapegn10ace[1]/100\n",
    "ydata_plgapegn10ace = tcRA_plgapegn10ace[0]"
   ]
  },
  {
   "cell_type": "code",
   "execution_count": null,
   "metadata": {},
   "outputs": [],
   "source": [
    "ydata_plgapegn10ace.shape"
   ]
  },
  {
   "cell_type": "code",
   "execution_count": null,
   "metadata": {},
   "outputs": [],
   "source": [
    "xdata_plgapegn10ace.shape"
   ]
  },
  {
   "cell_type": "code",
   "execution_count": null,
   "metadata": {},
   "outputs": [],
   "source": [
    "plt.figure(figsize=(8,8))\n",
    "plt.rcParams[\"font.family\"] = \"Arial\"\n",
    "plt.scatter(xdata_plgapegn6ace, ydata_plgapegn6ace, color='teal', s=s_n6)\n",
    "plt.scatter(xdata_plgapegn8ace, ydata_plgapegn8ace, color='dodgerblue', s=s_n8)\n",
    "plt.scatter(xdata_plgapegn10ace, ydata_plgapegn10ace, color='darkmagenta', s=s_n10)\n",
    "plt.title(r'Positional bead autocorrelation PLGA-PEG in acetone', fontsize=18)\n",
    "plt.xlabel(r'Time lag [ns]', fontsize=18)\n",
    "plt.ylabel('C(t)', fontsize=18)\n",
    "#plt.legend(fontsize=14, frameon=False)\n",
    "plt.xticks(fontsize=18)\n",
    "plt.yticks(fontsize=18)\n",
    "#plt.yscale('symlog', linthreshy=0.5)\n",
    "plt.xscale('symlog')\n",
    "plt.grid(b=True)\n",
    "plt.xlim(0,300)\n",
    "plt.ylim(-1,1)\n",
    "plt.tick_params(labelsize=18, direction='in', which='both', width=1, length=10)"
   ]
  },
  {
   "cell_type": "code",
   "execution_count": null,
   "metadata": {},
   "outputs": [],
   "source": [
    "ts = 1\n",
    "hs = 0.1\n",
    "n10_mon = 10\n",
    "n_b = n10_mon - 1\n",
    "tr1 = 2\n",
    "zimm_relax_fit(ts,tr1,hs,n_b)"
   ]
  },
  {
   "cell_type": "code",
   "execution_count": null,
   "metadata": {},
   "outputs": [],
   "source": [
    "rouse_relax(1, 2, 6)"
   ]
  },
  {
   "cell_type": "code",
   "execution_count": null,
   "metadata": {},
   "outputs": [],
   "source": [
    "zimm_relax_func(1, 2, 0.1, 5)"
   ]
  },
  {
   "cell_type": "code",
   "execution_count": null,
   "metadata": {},
   "outputs": [],
   "source": [
    "def res_plgapegn10ace(variabls, xnp, ynp):\n",
    "    #hs_np = variabls['h_star']\n",
    "    hs_np = 0.26\n",
    "    tr1_np = variabls['t_first']\n",
    "    n_bonds = 9\n",
    "    testnp = []\n",
    "    for i in range(len(xnp)):\n",
    "        model_ynp = zimm_relax_fit(xnp[i], tr1_np, hs_np, n_bonds)\n",
    "        #model_ynp = rouse_relax(xnp[i], tr1_np, n_m)\n",
    "        testnp.append(ynp[i] - model_ynp)\n",
    "    \n",
    "    tt_n6 = np.array(testnp)\n",
    "\n",
    "    return tt_n6\n",
    "    \n",
    "#x1 = np.array([0,0])\n",
    "#pfit, pcov, infodict, errmsg, success = leastsq(res_poly, x1, args=(xdata, ydata), full_output=1)"
   ]
  },
  {
   "cell_type": "code",
   "execution_count": null,
   "metadata": {},
   "outputs": [],
   "source": [
    "ppfit_n10ace = Parameters()\n",
    "#ppfit_n10ace.add(name='h_star', value=0, min=0, max=0.26, vary=True)\n",
    "ppfit_n10ace.add(name='t_first', value=2)"
   ]
  },
  {
   "cell_type": "code",
   "execution_count": null,
   "metadata": {},
   "outputs": [],
   "source": [
    "mini_ppn10ace = Minimizer(res_plgapegn10ace, ppfit_n10ace, fcn_args=(xdata_plgapegn10ace, ydata_plgapegn10ace))\n",
    "out_ppn10ace = mini_ppn10ace.leastsq()\n",
    "#bfit_n10 = ydata_n10ace + out_n10ace.residual "
   ]
  },
  {
   "cell_type": "code",
   "execution_count": null,
   "metadata": {},
   "outputs": [],
   "source": [
    "report_fit(out_ppn10ace.params)"
   ]
  },
  {
   "cell_type": "code",
   "execution_count": null,
   "metadata": {},
   "outputs": [],
   "source": [
    "out_ppn10ace.params"
   ]
  },
  {
   "cell_type": "code",
   "execution_count": null,
   "metadata": {},
   "outputs": [],
   "source": [
    "# with h varying, tr = 0.90670383 +/- 0.00581752, h* = 0.26000000 +/- 0.12476579\n",
    "tace_n10plgapeg = []\n",
    "n_bonds = 9\n",
    "for i in range(len(xdata_plgapegn10ace)):\n",
    "    tace_n10plgapeg.append(zimm_relax_fit(xdata_plgapegn10ace[i], 0.90674134, 0.26,  n_bonds))\n"
   ]
  },
  {
   "cell_type": "code",
   "execution_count": null,
   "metadata": {},
   "outputs": [],
   "source": [
    "t_c, tz_n10plgapeg, zimm_n10plgapeg, rouse_n10plgapeg = zimm_relax_func(1,  0.90674134, 0.26,  n_bonds)"
   ]
  },
  {
   "cell_type": "code",
   "execution_count": null,
   "metadata": {},
   "outputs": [],
   "source": [
    "len(tz_n10plgapeg)"
   ]
  },
  {
   "cell_type": "code",
   "execution_count": null,
   "metadata": {},
   "outputs": [],
   "source": [
    "x_pos_n6 = np.arange(5)\n",
    "x_pos_n8 = np.arange(7)\n",
    "x_pos_n10 = np.arange(9)\n",
    "width = 0.25\n",
    "aa_types_n10 = [r\"$\\tau_{1}$\", r\"$\\tau_{2}$\", r\"$\\tau_{3}$\", r\"$\\tau_{4}$\", r\"$\\tau_{5}$\",r\"$\\tau_{6}$\",r\"$\\tau_{7}$\",\n",
    "           r\"$\\tau_{8}$\", r\"$\\tau_{9}$\"]\n",
    "fig = plt.figure(figsize=(7,7))\n",
    "plt.title('PLGA-PEG in acetone', fontsize=18)\n",
    "plt.bar(x_pos_n6+(2*width), tz_n6plgapeg, width, ecolor='black',capsize=5, color='teal', label=\"N = 6\")\n",
    "plt.bar(x_pos_n8+(width), tz_n8plgapeg, width, ecolor='black',capsize=5, color='dodgerblue', label='N = 8')\n",
    "plt.bar(x_pos_n10, tz_n10plgapeg, width, ecolor='black',capsize=5, color='darkmagenta', label='N = 10')\n",
    "plt.xticks(x_pos_n10, labels=aa_types_n10, fontsize=12)\n",
    "plt.legend(fontsize=12 ,frameon=False)\n",
    "plt.ylabel(r'Relaxation times [ns]', fontsize=15)"
   ]
  },
  {
   "cell_type": "code",
   "execution_count": null,
   "metadata": {},
   "outputs": [],
   "source": [
    "aa_eigen_n10 = [r\"$a_{1}$\", r\"$a_{2}$\", r\"$a_{3}$\", r\"$a_{4}$\", r\"$a_{5}$\",r\"$a_{6}$\",r\"$a_{7}$\",r\"$a_{8}$\",\n",
    "           r\"$a_{9}$\"]\n",
    "fig = plt.figure(figsize=(7,7))\n",
    "plt.title('PLGA-PEG in acetone N = 10', fontsize=18)\n",
    "plt.bar(x_pos_n10, rouse_n10plgapeg, width,ecolor='black',capsize=5, color='c', label='Rouse')\n",
    "plt.bar(x_pos_n10+width, zimm_n10plgapeg, width,ecolor='black',capsize=5, color='m', label='Zimm')\n",
    "plt.xticks(x_pos_n10+width,labels=aa_eigen_n10, fontsize=12)\n",
    "plt.legend(fontsize=12 ,frameon=False)\n",
    "plt.ylabel(r'Rouse and Zimm eigenvalues', fontsize=15)"
   ]
  },
  {
   "cell_type": "code",
   "execution_count": null,
   "metadata": {},
   "outputs": [],
   "source": [
    "plt.figure(figsize=(8,8))\n",
    "plt.rcParams[\"font.family\"] = \"Arial\"\n",
    "plt.scatter(xdata_plgapegn6ace, ydata_plgapegn6ace, color='teal', s=s_n6)\n",
    "plt.scatter(xdata_plgapegn8ace, ydata_plgapegn8ace, color='dodgerblue', s=s_n8)\n",
    "plt.scatter(xdata_plgapegn10ace, ydata_plgapegn10ace, color='darkmagenta', s=s_n10)\n",
    "plt.plot(xdata_plgapegn6ace, tace_n6plgapeg, color='teal')\n",
    "plt.plot(xdata_plgapegn8ace, tace_n8plgapeg, color='dodgerblue')\n",
    "plt.plot(xdata_plgapegn10ace, tace_n10plgapeg, color='darkmagenta')\n",
    "plt.title(r'Positional bead autocorrelation PLGA-PEG in acetone', fontsize=18)\n",
    "plt.xlabel(r'Time lag [ns]', fontsize=18)\n",
    "plt.ylabel('C(t)', fontsize=18)\n",
    "#plt.legend(fontsize=14, frameon=False)\n",
    "plt.xticks(fontsize=18)\n",
    "plt.yticks(fontsize=18)\n",
    "#plt.yscale('symlog', linthreshy=0.5)\n",
    "plt.xscale('symlog')\n",
    "plt.grid(b=True)\n",
    "plt.xlim(0,300)\n",
    "plt.ylim(-1,1)\n",
    "plt.tick_params(labelsize=18, direction='in', which='both', width=1, length=10)"
   ]
  },
  {
   "cell_type": "code",
   "execution_count": null,
   "metadata": {},
   "outputs": [],
   "source": [
    "rppace_msen10 = np.array([ydata_plgapegn10ace - np.array(tace_n10plgapeg)])\n",
    "rppace_msen10"
   ]
  },
  {
   "cell_type": "code",
   "execution_count": null,
   "metadata": {},
   "outputs": [],
   "source": [
    "plt.figure(figsize=(8,8))\n",
    "plt.rcParams[\"font.family\"] = \"Arial\"\n",
    "plt.scatter(xdata_plgapegn6ace, rppace_msen6, color='teal', s=s_n6)\n",
    "plt.scatter(xdata_plgapegn8ace, rppace_msen8, color='dodgerblue', s=s_n8)\n",
    "plt.scatter(xdata_plgapegn10ace, rppace_msen10, color='darkmagenta', s=s_n10)\n",
    "plt.title(r'Relaxation time Fitting Residuals PLGA in acetone', fontsize=18)\n",
    "plt.xlabel(r'Time lag [ns]', fontsize=18)\n",
    "plt.ylabel('Residuals', fontsize=18)\n",
    "plt.xticks(fontsize=14)\n",
    "plt.yticks(fontsize=14)\n",
    "plt.xlim([0,100])\n",
    "plt.ylim([-0.7,1])\n",
    "plt.tick_params(labelsize=15)"
   ]
  },
  {
   "cell_type": "markdown",
   "metadata": {},
   "source": [
    "#### Radius of Gyration vs. time N = 10 PLGA-PEG in acetone"
   ]
  },
  {
   "cell_type": "code",
   "execution_count": null,
   "metadata": {},
   "outputs": [],
   "source": [
    "n10plgapeg_rgens_ace, cor_n10plgapeg_ace, N10plgapeg_cos_ace, rgace_n10plgapeg = get_rg_pers_poly(plgapeg_n10ace, n10_plgapeg_ace,\n",
    "                                                                                                  start,end)"
   ]
  },
  {
   "cell_type": "code",
   "execution_count": null,
   "metadata": {},
   "outputs": [],
   "source": [
    "n10plgapeg_rgens_ace[0].shape"
   ]
  },
  {
   "cell_type": "code",
   "execution_count": null,
   "metadata": {},
   "outputs": [],
   "source": [
    "cor_n10plgapeg_ace[3]"
   ]
  },
  {
   "cell_type": "code",
   "execution_count": null,
   "metadata": {},
   "outputs": [],
   "source": [
    "N10plgapeg_cos_ace"
   ]
  },
  {
   "cell_type": "code",
   "execution_count": null,
   "metadata": {},
   "outputs": [],
   "source": [
    "rgace_n10plgapeg"
   ]
  },
  {
   "cell_type": "code",
   "execution_count": null,
   "metadata": {},
   "outputs": [],
   "source": [
    "n10plgapeg_rgens_ace.shape"
   ]
  },
  {
   "cell_type": "code",
   "execution_count": null,
   "metadata": {},
   "outputs": [],
   "source": [
    "trj_len = np.arange(36001)\n",
    "plt.figure(figsize=(7,7))\n",
    "plt.title(r'PLGA-PEG Radius of Gyration', fontsize=18, y=1.01)\n",
    "plt.xlabel(r'Time [ns]', fontsize=15)\n",
    "plt.ylabel(r'$R_{g}$ [nm]', fontsize=15)\n",
    "plt.plot(trj_len/100, n6plgapeg_rgens_ace[0]/10,linewidth=2, color='teal')\n",
    "plt.plot(trj_len/100, n8plgapeg_rgens_ace[0]/10,linewidth=2, color='dodgerblue')\n",
    "plt.plot(trj_len/100, n10plgapeg_rgens_ace[0]/10,linewidth=2, color='darkmagenta')\n",
    "plt.tick_params(labelsize=14)\n",
    "plt.legend(['N = 6 in acetone', 'N = 8 in acetone', 'N = 10 in acetone'], frameon=False, fontsize=14)\n",
    "#plt.text(127, 0.96,r'N = 6 in acetone', fontsize=18, color='#1F2E69', family='Arial')\n",
    "plt.xlim(0,360)\n",
    "plt.ylim(0.2,2)"
   ]
  },
  {
   "cell_type": "markdown",
   "metadata": {},
   "source": [
    "#### Rg Autocorrelation"
   ]
  },
  {
   "cell_type": "code",
   "execution_count": null,
   "metadata": {},
   "outputs": [],
   "source": [
    "t_corr = 10000\n",
    "window_shift = 9"
   ]
  },
  {
   "cell_type": "code",
   "execution_count": 63,
   "metadata": {},
   "outputs": [
    {
     "name": "stdout",
     "output_type": "stream",
     "text": [
      "No. of Samples: 3223\n"
     ]
    }
   ],
   "source": [
    "ACn10plgapegace_Rg, eqvarRg_n10plgapegace = obs_autocorr_RA(n10plgapeg_rgens_ace[0],t_corr, window_shift,start,end)"
   ]
  },
  {
   "cell_type": "code",
   "execution_count": 64,
   "metadata": {},
   "outputs": [
    {
     "data": {
      "text/plain": [
       "array([[ 1.00000000e+00,  9.52534106e-01,  9.42767257e-01, ...,\n",
       "        -1.41050718e-01, -1.23746559e-01, -1.49516571e-01],\n",
       "       [ 0.00000000e+00,  1.00000000e+00,  2.00000000e+00, ...,\n",
       "         6.99700000e+03,  6.99800000e+03,  6.99900000e+03]])"
      ]
     },
     "execution_count": 64,
     "metadata": {},
     "output_type": "execute_result"
    }
   ],
   "source": [
    "ACn10plgapegace_Rg"
   ]
  },
  {
   "cell_type": "code",
   "execution_count": 65,
   "metadata": {},
   "outputs": [
    {
     "data": {
      "text/plain": [
       "2.6023149289972807"
      ]
     },
     "execution_count": 65,
     "metadata": {},
     "output_type": "execute_result"
    }
   ],
   "source": [
    "eqvarRg_n10plgapegace"
   ]
  },
  {
   "cell_type": "code",
   "execution_count": 66,
   "metadata": {},
   "outputs": [
    {
     "ename": "NameError",
     "evalue": "name 'ACn6plgapegace_Rg' is not defined",
     "output_type": "error",
     "traceback": [
      "\u001b[0;31m---------------------------------------------------------------------------\u001b[0m",
      "\u001b[0;31mNameError\u001b[0m                                 Traceback (most recent call last)",
      "\u001b[0;32m/var/folders/yw/_970f9sd7w3dh1rgbbg942780000gn/T/ipykernel_38863/1960148785.py\u001b[0m in \u001b[0;36m<module>\u001b[0;34m\u001b[0m\n\u001b[1;32m      3\u001b[0m \u001b[0mplt\u001b[0m\u001b[0;34m.\u001b[0m\u001b[0mxlabel\u001b[0m\u001b[0;34m(\u001b[0m\u001b[0;34mr'Time [ns]'\u001b[0m\u001b[0;34m,\u001b[0m \u001b[0mfontsize\u001b[0m\u001b[0;34m=\u001b[0m\u001b[0;36m15\u001b[0m\u001b[0;34m)\u001b[0m\u001b[0;34m\u001b[0m\u001b[0;34m\u001b[0m\u001b[0m\n\u001b[1;32m      4\u001b[0m \u001b[0mplt\u001b[0m\u001b[0;34m.\u001b[0m\u001b[0mylabel\u001b[0m\u001b[0;34m(\u001b[0m\u001b[0;34mr'$C_{A}(t)$'\u001b[0m\u001b[0;34m,\u001b[0m \u001b[0mfontsize\u001b[0m\u001b[0;34m=\u001b[0m\u001b[0;36m15\u001b[0m\u001b[0;34m)\u001b[0m\u001b[0;34m\u001b[0m\u001b[0;34m\u001b[0m\u001b[0m\n\u001b[0;32m----> 5\u001b[0;31m \u001b[0mplt\u001b[0m\u001b[0;34m.\u001b[0m\u001b[0mplot\u001b[0m\u001b[0;34m(\u001b[0m\u001b[0mACn6plgapegace_Rg\u001b[0m\u001b[0;34m[\u001b[0m\u001b[0;36m1\u001b[0m\u001b[0;34m]\u001b[0m\u001b[0;34m/\u001b[0m\u001b[0;36m100\u001b[0m\u001b[0;34m,\u001b[0m \u001b[0mACn6plgapegace_Rg\u001b[0m\u001b[0;34m[\u001b[0m\u001b[0;36m0\u001b[0m\u001b[0;34m]\u001b[0m\u001b[0;34m,\u001b[0m\u001b[0mlinewidth\u001b[0m\u001b[0;34m=\u001b[0m\u001b[0;36m2\u001b[0m\u001b[0;34m,\u001b[0m \u001b[0mcolor\u001b[0m\u001b[0;34m=\u001b[0m\u001b[0;34m'#1F2E69'\u001b[0m\u001b[0;34m)\u001b[0m\u001b[0;34m\u001b[0m\u001b[0;34m\u001b[0m\u001b[0m\n\u001b[0m\u001b[1;32m      6\u001b[0m \u001b[0mplt\u001b[0m\u001b[0;34m.\u001b[0m\u001b[0mplot\u001b[0m\u001b[0;34m(\u001b[0m\u001b[0mACn8plgapegace_Rg\u001b[0m\u001b[0;34m[\u001b[0m\u001b[0;36m1\u001b[0m\u001b[0;34m]\u001b[0m\u001b[0;34m/\u001b[0m\u001b[0;36m100\u001b[0m\u001b[0;34m,\u001b[0m \u001b[0mACn8plgapegace_Rg\u001b[0m\u001b[0;34m[\u001b[0m\u001b[0;36m0\u001b[0m\u001b[0;34m]\u001b[0m\u001b[0;34m,\u001b[0m\u001b[0mlinewidth\u001b[0m\u001b[0;34m=\u001b[0m\u001b[0;36m2\u001b[0m\u001b[0;34m,\u001b[0m \u001b[0mcolor\u001b[0m\u001b[0;34m=\u001b[0m\u001b[0;34m'#4C80ED'\u001b[0m\u001b[0;34m)\u001b[0m\u001b[0;34m\u001b[0m\u001b[0;34m\u001b[0m\u001b[0m\n\u001b[1;32m      7\u001b[0m \u001b[0mplt\u001b[0m\u001b[0;34m.\u001b[0m\u001b[0mplot\u001b[0m\u001b[0;34m(\u001b[0m\u001b[0mACn10plgapegace_Rg\u001b[0m\u001b[0;34m[\u001b[0m\u001b[0;36m1\u001b[0m\u001b[0;34m]\u001b[0m\u001b[0;34m/\u001b[0m\u001b[0;36m100\u001b[0m\u001b[0;34m,\u001b[0m \u001b[0mACn10plgapegace_Rg\u001b[0m\u001b[0;34m[\u001b[0m\u001b[0;36m0\u001b[0m\u001b[0;34m]\u001b[0m\u001b[0;34m,\u001b[0m\u001b[0mlinewidth\u001b[0m\u001b[0;34m=\u001b[0m\u001b[0;36m2\u001b[0m\u001b[0;34m,\u001b[0m \u001b[0mcolor\u001b[0m\u001b[0;34m=\u001b[0m\u001b[0;34m'#8C52FC'\u001b[0m\u001b[0;34m)\u001b[0m\u001b[0;34m\u001b[0m\u001b[0;34m\u001b[0m\u001b[0m\n",
      "\u001b[0;31mNameError\u001b[0m: name 'ACn6plgapegace_Rg' is not defined"
     ]
    },
    {
     "data": {
      "image/png": "[encoded data removed]",
      "text/plain": [
       "<Figure size 504x504 with 1 Axes>"
      ]
     },
     "metadata": {
      "needs_background": "light"
     },
     "output_type": "display_data"
    }
   ],
   "source": [
    "plt.figure(figsize=(7,7))\n",
    "plt.title(r'PEG in acetone autocorrelation', fontsize=18, y=1.01)\n",
    "plt.xlabel(r'Time [ns]', fontsize=15)\n",
    "plt.ylabel(r'$C_{A}(t)$', fontsize=15)\n",
    "plt.plot(ACn6plgapegace_Rg[1]/100, ACn6plgapegace_Rg[0],linewidth=2, color='#1F2E69')\n",
    "plt.plot(ACn8plgapegace_Rg[1]/100, ACn8plgapegace_Rg[0],linewidth=2, color='#4C80ED')\n",
    "plt.plot(ACn10plgapegace_Rg[1]/100, ACn10plgapegace_Rg[0],linewidth=2, color='#8C52FC')\n",
    "plt.tick_params(labelsize=14)\n",
    "plt.legend(['N = 6 Rg','N = 8 Rg','N = 10 Rg'], frameon=False, fontsize=14)\n",
    "#plt.yscale('symlog', linthreshy=0.5)\n",
    "#plt.xscale('symlog')\n",
    "plt.xlim(0,100)\n",
    "plt.ylim(-1,1)"
   ]
  },
  {
   "cell_type": "markdown",
   "metadata": {},
   "source": [
    "#### Get average COM distance, arch length values"
   ]
  },
  {
   "cell_type": "code",
   "execution_count": null,
   "metadata": {},
   "outputs": [],
   "source": [
    "cb_n10plga = np.zeros(shape=(36001))\n",
    "cb_n10pplinker = np.zeros(shape=(36001))\n",
    "cb_n10plgapeg = np.zeros(shape=(36001))\n",
    "count = 0\n",
    "for ts in n10_plgapeg_ace.trajectory[0:36001]:\n",
    "    # 1st two PLGA residues\n",
    "    n10m1_plga = n10_plgapeg_ace.select_atoms(\"resid 1\")\n",
    "    n10m2_plga = n10_plgapeg_ace.select_atoms(\"resid 2\")\n",
    "    # PLGA-PEG linker (n_mon/2 to get to bPLG res no.)\n",
    "    n10pl_link = n10_plgapeg_ace.select_atoms(\"resid 5\")\n",
    "    n10plgapeg_link = n10_plgapeg_ace.select_atoms(\"resid 6\")\n",
    "    # last two PEG residues \n",
    "    n10l1_peg = n10_plgapeg_ace.select_atoms(\"resid 9\")\n",
    "    n10l2_peg = n10_plgapeg_ace.select_atoms(\"resid 10\")\n",
    "    \n",
    "    cb_n10plga[count] = mda.analysis.distances.distance_array(n10m1_plga.center_of_mass(), n10m2_plga.center_of_mass(), \n",
    "                                                   box=n10_plgapeg_ace.trajectory.ts.dimensions)\n",
    "    \n",
    "    cb_n10pplinker[count] = mda.analysis.distances.distance_array(n10pl_link.center_of_mass(), n10plgapeg_link.center_of_mass(), \n",
    "                                                   box=n10_plgapeg_ace.trajectory.ts.dimensions)\n",
    "    \n",
    "    cb_n10plgapeg[count] = mda.analysis.distances.distance_array(n10l1_peg.center_of_mass(), n10l2_peg.center_of_mass(), \n",
    "                                                   box=n10_plgapeg_ace.trajectory.ts.dimensions)\n",
    "    \n",
    "    count += 1\n",
    "    \n",
    "\n",
    "    "
   ]
  },
  {
   "cell_type": "code",
   "execution_count": null,
   "metadata": {},
   "outputs": [],
   "source": [
    "COM_ppn10ace = np.zeros(shape=(3,2))\n",
    "COM_ppn10ace[0,0] = np.mean(cb_n10plga)\n",
    "COM_ppn10ace[1,0] = np.mean(cb_n10pplinker)\n",
    "COM_ppn10ace[2,0] = np.mean(cb_n10plgapeg)\n",
    "COM_ppn10ace[0,1] = np.std(cb_n10plga)\n",
    "COM_ppn10ace[1,1] = np.std(cb_n10pplinker)\n",
    "COM_ppn10ace[2,1] = np.std(cb_n10plgapeg)\n",
    "COM_ppn10ace"
   ]
  },
  {
   "cell_type": "markdown",
   "metadata": {},
   "source": [
    "#### Correlation values at each arc length for the whole 360 ns trajectory, N = 10 PLGA-PEG/acetone"
   ]
  },
  {
   "cell_type": "code",
   "execution_count": null,
   "metadata": {},
   "outputs": [],
   "source": [
    "# x values\n",
    "blen_ppn10ace = np.zeros(shape=9)\n",
    "for i in range(n10_mon-1):\n",
    "    if i < int((n10_mon/2)-1):\n",
    "        # PLGA contour length values\n",
    "        if i == 0:\n",
    "            blen_ppn10ace[i] = 0\n",
    "        elif i != 0:\n",
    "            blen_ppn10ace[i] = np.sum(blen_ppn10ace[i-1]) + COM_ppn10ace[0,0]    \n",
    "    elif i == int((n10_mon/2)-1):\n",
    "        #PLGA-PEG linker length\n",
    "        blen_ppn10ace[i] = np.sum(blen_ppn10ace[i-1]) + COM_ppn10ace[1,0]\n",
    "    elif i > int((n10_mon/2)-1):\n",
    "    #    # PEG contour length values\n",
    "        blen_ppn10ace[i] = np.sum(blen_ppn10ace[i-1]) + COM_ppn10ace[2,0]\n",
    "        \n",
    "blen_ppn10ace"
   ]
  },
  {
   "cell_type": "code",
   "execution_count": null,
   "metadata": {},
   "outputs": [],
   "source": [
    "# Error prop. into natural log std deviation\n",
    "mk_n10ppace = cor_n10plgapeg_ace[1]/cor_n10plgapeg_ace[0]\n",
    "mk_n10ppace"
   ]
  },
  {
   "cell_type": "code",
   "execution_count": null,
   "metadata": {},
   "outputs": [],
   "source": [
    "plt.figure(figsize=(7,7))\n",
    "plt.errorbar(blen_ppn10ace, np.log(cor_n10plgapeg_ace[0]), yerr=mk_n10ppace, color='teal', linestyle=\"None\",marker='o',\n",
    "     capsize=5, capthick=1, ecolor='black')"
   ]
  },
  {
   "cell_type": "code",
   "execution_count": null,
   "metadata": {},
   "outputs": [],
   "source": [
    "# All the points give the best fits for N = 6 peg in acetone\n",
    "n10_blksplgapeg_ace , n10plgapeg_lpace = bavg_pers_cnt(5, plgapeg_n10ace, n10_plgapeg_ace, blen_ppn10ace, 5, 0 , 36001)"
   ]
  },
  {
   "cell_type": "code",
   "execution_count": null,
   "metadata": {},
   "outputs": [],
   "source": [
    "n10_blksplgapeg_ace"
   ]
  },
  {
   "cell_type": "code",
   "execution_count": null,
   "metadata": {},
   "outputs": [],
   "source": [
    "n10plgapeg_lpace"
   ]
  },
  {
   "cell_type": "code",
   "execution_count": null,
   "metadata": {},
   "outputs": [],
   "source": [
    "n10plgapeg_lpace[2]"
   ]
  },
  {
   "cell_type": "code",
   "execution_count": null,
   "metadata": {},
   "outputs": [],
   "source": [
    "np.mean(n10plgapeg_lpace[3])"
   ]
  },
  {
   "cell_type": "markdown",
   "metadata": {},
   "source": [
    "#### line fitted to cosine theta values using mean slope"
   ]
  },
  {
   "cell_type": "code",
   "execution_count": null,
   "metadata": {},
   "outputs": [],
   "source": [
    "blen_ppn10ace"
   ]
  },
  {
   "cell_type": "code",
   "execution_count": null,
   "metadata": {},
   "outputs": [],
   "source": [
    "gg_n10plgapeg_ace = line_fit(np.mean(n10plgapeg_lpace[2]),blen_ppn10ace)"
   ]
  },
  {
   "cell_type": "code",
   "execution_count": null,
   "metadata": {},
   "outputs": [],
   "source": [
    "gg_n8plgapeg_n10ace = line_fit(np.mean(n8plgapeg_lpace[2]),blen_ppn10ace)"
   ]
  },
  {
   "cell_type": "code",
   "execution_count": null,
   "metadata": {},
   "outputs": [],
   "source": [
    "gg_n6plgapeg_n10ace = line_fit(np.mean(n6plgapeg_lpace[2]),blen_ppn10ace)"
   ]
  },
  {
   "cell_type": "code",
   "execution_count": null,
   "metadata": {},
   "outputs": [],
   "source": [
    "gg_n10plgapeg_ace"
   ]
  },
  {
   "cell_type": "markdown",
   "metadata": {},
   "source": [
    "#### Block averaged Rg, Ree, Rh, mean sq. Ree and mean sq. Rg persistence length, N = 10 PLGA-PEG in acetone"
   ]
  },
  {
   "cell_type": "code",
   "execution_count": null,
   "metadata": {},
   "outputs": [],
   "source": [
    "blppn10ace = []\n",
    "for i in range(n10_mon-1):\n",
    "    if i < int((n10_mon/2)-1):\n",
    "        # PLGA contour length values\n",
    "        blppn10ace.append(COM_ppn10ace[0,0])    \n",
    "    elif i == int((n10_mon/2)-1):\n",
    "        #PLGA-PEG linker length\n",
    "        blppn10ace.append(COM_ppn10ace[1,0]) \n",
    "    elif i > int((n10_mon/2)-1):\n",
    "    #    # PEG contour length values\n",
    "        blppn10ace.append(COM_ppn10ace[2,0]) \n",
    "\n",
    "# Contour Length, N = 6 PLGA-PEG in acetone\n",
    "lc_ppn10ace = np.sum(blppn10ace)\n",
    "lc_ppn10ace"
   ]
  },
  {
   "cell_type": "code",
   "execution_count": null,
   "metadata": {},
   "outputs": [],
   "source": [
    "# Ree^2/Rg^2 array at different contour lengths\n",
    "re2e_rgsq_plgapegace[1,2] = lc_ppn10ace\n",
    "re2e_rgsq_plgapegace"
   ]
  },
  {
   "cell_type": "code",
   "execution_count": null,
   "metadata": {},
   "outputs": [],
   "source": [
    "a_ppn10ace = np.mean(n10_blksplgapeg_ace['Avg Sq. end to end distance'])"
   ]
  },
  {
   "cell_type": "code",
   "execution_count": null,
   "metadata": {},
   "outputs": [],
   "source": [
    "b_ppn10ace = np.mean(n10_blksplgapeg_ace['Avg Sq. radius of gyration'])"
   ]
  },
  {
   "cell_type": "code",
   "execution_count": null,
   "metadata": {},
   "outputs": [],
   "source": [
    "re2e_rgsq_plgapegace[0,2] = a_ppn10ace/b_ppn10ace\n",
    "re2e_rgsq_plgapegace"
   ]
  },
  {
   "cell_type": "code",
   "execution_count": null,
   "metadata": {},
   "outputs": [],
   "source": [
    "# Rg/Rh array at different contour lengths \n",
    "rhy_rg_plgapegace[1,2] = lc_ppn10ace\n",
    "rhy_rg_plgapegace"
   ]
  },
  {
   "cell_type": "code",
   "execution_count": null,
   "metadata": {},
   "outputs": [],
   "source": [
    "aa_ppn10ace = np.mean(n10_blksplgapeg_ace['Avg Radius of gyration'])"
   ]
  },
  {
   "cell_type": "code",
   "execution_count": null,
   "metadata": {},
   "outputs": [],
   "source": [
    "bb_ppn10ace = np.mean(n10_blksplgapeg_ace['Avg Hydrodynamic radius'])"
   ]
  },
  {
   "cell_type": "code",
   "execution_count": null,
   "metadata": {},
   "outputs": [],
   "source": [
    "rhy_rg_plgapegace[0,2] = aa_ppn10ace/bb_ppn10ace\n",
    "rhy_rg_plgapegace"
   ]
  },
  {
   "cell_type": "code",
   "execution_count": null,
   "metadata": {},
   "outputs": [],
   "source": [
    "# pers length/contour length \n",
    "kuhnlpL_plgapegace[0,2] = np.mean(n10_blksplgapeg_ace[\"Avg persistence length\"])/lc_ppn10ace\n",
    "kuhnlpL_plgapegace"
   ]
  },
  {
   "cell_type": "markdown",
   "metadata": {},
   "source": [
    "#### Block averaged Radius of gyration and persistence length, N = 10 PLGA-PEG in acetone"
   ]
  },
  {
   "cell_type": "code",
   "execution_count": null,
   "metadata": {},
   "outputs": [],
   "source": [
    "np.mean(n10_blksplgapeg_ace[\"Avg persistence length\"])"
   ]
  },
  {
   "cell_type": "code",
   "execution_count": null,
   "metadata": {},
   "outputs": [],
   "source": [
    "np.std(n10_blksplgapeg_ace[\"Avg persistence length\"])"
   ]
  },
  {
   "cell_type": "code",
   "execution_count": null,
   "metadata": {},
   "outputs": [],
   "source": [
    "np.mean(n10_blksplgapeg_ace[\"Avg Radius of gyration\"])"
   ]
  },
  {
   "cell_type": "code",
   "execution_count": null,
   "metadata": {},
   "outputs": [],
   "source": []
  },
  {
   "cell_type": "code",
   "execution_count": null,
   "metadata": {},
   "outputs": [],
   "source": [
    "plt.figure(figsize=(7,7))\n",
    "plt.errorbar(blen_ppn6ace, np.log(cor_n6plgapeg_ace[0]), yerr=mk_n6ppace, color='teal', linestyle=\"None\",marker='o',\n",
    "     capsize=5, capthick=1, ecolor='black')\n",
    "plt.errorbar(blen_ppn8ace, np.log(cor_n8plgapeg_ace[0]), yerr=mk_n8ppace, color='dodgerblue', linestyle=\"None\",marker='o',\n",
    "     capsize=5, capthick=1, ecolor='black')\n",
    "plt.errorbar(blen_ppn10ace, np.log(cor_n10plgapeg_ace[0]), yerr=mk_n10ppace, color='darkmagenta', linestyle=\"None\",marker='o',\n",
    "     capsize=5, capthick=1, ecolor='black')\n",
    "plt.plot(blen_ppn10ace, gg_n6plgapeg_n10ace, color='teal')\n",
    "plt.plot(blen_ppn10ace, gg_n8plgapeg_n10ace, color='dodgerblue')\n",
    "plt.plot(blen_ppn10ace, gg_n10plgapeg_ace, color='darkmagenta')\n",
    "plt.title(r'Ensemble Averaged ln(Cosine $\\theta$) PLGA-PEG in acetone', fontsize=15, y=1.01)\n",
    "plt.xlabel(r'Bond Length', fontsize=15)\n",
    "plt.ylabel(r'ln$\\left< Cos(\\theta)\\right >$', fontsize=15)\n",
    "plt.ylim(-6,1)\n",
    "plt.xlim(0,40)\n",
    "#plt.ylim(-1.9,0)\n",
    "font = font_manager.FontProperties(family='Arial', style='normal', size='14')\n",
    "#plt.legend([r'$N_{PEG}$ = 6: $L_{p}$ = 18.8 $\\AA$ ± 3.60 $\\AA$'], loc=3, frameon=0, fontsize=14, prop=font)\n",
    "plt.tick_params(labelsize=14)\n",
    "plt.text(0.5, -5.9,r'$N_{PLGA-PEG}$ = 6: $L_{p}$ = 24.7 $\\AA$ ± 1.34 $\\AA$', fontsize=15, color='teal')\n",
    "plt.text(0.5, -5.58,r'$N_{PLGA-PEG}$ = 8: $L_{p}$ = 27.3.0 $\\AA$ ± 4.09 $\\AA$', fontsize=15, color='dodgerblue')\n",
    "plt.text(0.5, -5.23,r'$N_{PLGA-PEG}$ = 10: $L_{p}$ = 27.5 $\\AA$ ± 2.92 $\\AA$', fontsize=15, color='darkmagenta')"
   ]
  },
  {
   "cell_type": "code",
   "execution_count": null,
   "metadata": {},
   "outputs": [],
   "source": [
    "rgplgapeg_olig_ace[r\"$R_{g}$ [Angstrom] N = 10 PLGA-PEG acetone\"] = n10_blksplgapeg_ace[\"Avg Radius of gyration\"]\n",
    "rgplgapeg_olig_ace"
   ]
  },
  {
   "cell_type": "code",
   "execution_count": null,
   "metadata": {},
   "outputs": [],
   "source": [
    "pers_plgapegt_ace[r\"$L_{p}$ [Angstrom] N = 10 PLGA-PEG acetone\"] = n10_blksplgapeg_ace[\"Avg persistence length\"]\n",
    "pers_plgapegt_ace"
   ]
  },
  {
   "cell_type": "code",
   "execution_count": null,
   "metadata": {},
   "outputs": [],
   "source": []
  },
  {
   "cell_type": "code",
   "execution_count": null,
   "metadata": {},
   "outputs": [],
   "source": []
  },
  {
   "cell_type": "markdown",
   "metadata": {},
   "source": [
    "### N = 16 PLGA-PEG/acetone "
   ]
  },
  {
   "cell_type": "code",
   "execution_count": null,
   "metadata": {},
   "outputs": [],
   "source": [
    "# For the right Rg calculation using MD Analysis, use trajactory without pbc \n",
    "n16_plgapeg_ace = mda.Universe(\"n16plga_peg_ace/n16plgapeg_ACE.pdb\", \"n16plga_peg_ace/NoAce_n16plgapeg.xtc\")"
   ]
  },
  {
   "cell_type": "code",
   "execution_count": null,
   "metadata": {},
   "outputs": [],
   "source": [
    "n16_plgapeg_ace.trajectory"
   ]
  },
  {
   "cell_type": "code",
   "execution_count": null,
   "metadata": {},
   "outputs": [],
   "source": [
    "len(n16_plgapeg_ace.trajectory)"
   ]
  },
  {
   "cell_type": "code",
   "execution_count": null,
   "metadata": {},
   "outputs": [],
   "source": [
    "#Select the polymer heavy atoms \n",
    "plgapeg_n16ace = n16_plgapeg_ace.select_atoms(\"resname sPLG PLG bPLG bPEG PEG sPEG and not type H\")"
   ]
  },
  {
   "cell_type": "code",
   "execution_count": null,
   "metadata": {},
   "outputs": [],
   "source": [
    "np.unique(plgapeg_n16ace.resids)"
   ]
  },
  {
   "cell_type": "code",
   "execution_count": null,
   "metadata": {},
   "outputs": [],
   "source": [
    "# Get cosine theta values at frame 0 \n",
    "crv_n16plgapeg_ace = pers_length(plgapeg_n16ace,16)\n",
    "crv_n16plgapeg_ace"
   ]
  },
  {
   "cell_type": "markdown",
   "metadata": {},
   "source": [
    "#### Orientation Order parameter vs. time "
   ]
  },
  {
   "cell_type": "code",
   "execution_count": null,
   "metadata": {},
   "outputs": [],
   "source": [
    "n16_mon = 16 \n",
    "start = 0\n",
    "end = 36001"
   ]
  },
  {
   "cell_type": "code",
   "execution_count": null,
   "metadata": {},
   "outputs": [],
   "source": [
    "OOp_n16plgapeg_ace = orientation_order_param(plgapeg_n16ace, n16_plgapeg_ace, n16_mon, start, end)"
   ]
  },
  {
   "cell_type": "code",
   "execution_count": null,
   "metadata": {},
   "outputs": [],
   "source": [
    "OOp_n16plgapeg_ace.shape"
   ]
  },
  {
   "cell_type": "code",
   "execution_count": null,
   "metadata": {},
   "outputs": [],
   "source": [
    "trj_len = np.arange(36001)\n",
    "plt.figure(figsize=(7,7))\n",
    "plt.title(r'PLGA-PEG Orientation Order Parameter', fontsize=18, y=1.01)\n",
    "plt.xlabel(r'Time [ns]', fontsize=15)\n",
    "plt.ylabel(r'Z', fontsize=15)\n",
    "plt.plot(trj_len/100, OOp_n6plgapeg_ace,linewidth=2, color='teal')\n",
    "plt.plot(trj_len/100, OOp_n8plgapeg_ace,linewidth=2, color='dodgerblue')\n",
    "plt.plot(trj_len/100, OOp_n10plgapeg_ace,linewidth=2, color='darkmagenta')\n",
    "plt.plot(trj_len/100, OOp_n16plgapeg_ace,linewidth=2, color='maroon')\n",
    "plt.tick_params(labelsize=14)\n",
    "plt.legend(['N = 6 in acetone', 'N = 8 in acetone','N = 10 in acetone','N = 16 in acetone'], frameon=False, fontsize=14)\n",
    "#plt.text(127, 0.96,r'N = 6 in acetone', fontsize=18, color='#1F2E69', family='Arial')\n",
    "plt.xlim(0,360)\n",
    "plt.ylim(-1,1)"
   ]
  },
  {
   "cell_type": "markdown",
   "metadata": {},
   "source": [
    "#### Mean Orientation Order Parameter for N = 16 PLGA-PEG in acetone"
   ]
  },
  {
   "cell_type": "code",
   "execution_count": null,
   "metadata": {},
   "outputs": [],
   "source": [
    "OOp_n16plgapeg_ace[82]"
   ]
  },
  {
   "cell_type": "code",
   "execution_count": null,
   "metadata": {},
   "outputs": [],
   "source": [
    "OOp_n16plgapeg_ace[239]"
   ]
  },
  {
   "cell_type": "code",
   "execution_count": null,
   "metadata": {},
   "outputs": [],
   "source": [
    "np.mean(OOp_n16plgapeg_ace)"
   ]
  },
  {
   "cell_type": "code",
   "execution_count": null,
   "metadata": {},
   "outputs": [],
   "source": [
    "np.std(OOp_n16plgapeg_ace)"
   ]
  },
  {
   "cell_type": "markdown",
   "metadata": {},
   "source": [
    "#### Mean squared end to end distance "
   ]
  },
  {
   "cell_type": "code",
   "execution_count": null,
   "metadata": {},
   "outputs": [],
   "source": [
    "eVec_n16plgapeg_ace, e2edis_n16plgapeg_ace = mean_sq_e2e(plgapeg_n16ace, n16_plgapeg_ace, n16_mon, start, end)"
   ]
  },
  {
   "cell_type": "code",
   "execution_count": null,
   "metadata": {},
   "outputs": [],
   "source": [
    "trj_len = np.arange(36001)\n",
    "plt.figure(figsize=(7,7))\n",
    "plt.title(r'PLGA-PEG End to End distance', fontsize=18, y=1.01)\n",
    "plt.xlabel(r'Time [ns]', fontsize=15)\n",
    "plt.ylabel(r'$R_{ee}$ [nm]', fontsize=15)\n",
    "plt.plot(trj_len/100, e2edis_n6plgapeg_ace[1]/10,linewidth=2, color='teal')\n",
    "plt.plot(trj_len/100, e2edis_n8plgapeg_ace[1]/10,linewidth=2, color='dodgerblue')\n",
    "plt.plot(trj_len/100, e2edis_n10plgapeg_ace[1]/10,linewidth=2, color='darkmagenta')\n",
    "plt.plot(trj_len/100, e2edis_n16plgapeg_ace[1]/10,linewidth=2, color='maroon')\n",
    "plt.tick_params(labelsize=14)\n",
    "plt.legend(['N = 6 in acetone', 'N = 8 in acetone','N = 10 in acetone','N = 16 in acetone'], frameon=False, fontsize=14)\n",
    "#plt.text(127, 0.96,r'N = 6 in acetone', fontsize=18, color='#1F2E69', family='Arial')\n",
    "plt.xlim(0,360)\n",
    "plt.ylim(0,10)"
   ]
  },
  {
   "cell_type": "markdown",
   "metadata": {},
   "source": [
    "#### Ree Autocorrelation function"
   ]
  },
  {
   "cell_type": "code",
   "execution_count": null,
   "metadata": {},
   "outputs": [],
   "source": [
    "e2edis_n16plgapeg_ace[1]"
   ]
  },
  {
   "cell_type": "code",
   "execution_count": null,
   "metadata": {},
   "outputs": [],
   "source": [
    "t_corr = 7000\n",
    "window_shift = 9"
   ]
  },
  {
   "cell_type": "code",
   "execution_count": null,
   "metadata": {},
   "outputs": [],
   "source": [
    "ACn16plgapegace_Ree, eqvar_n16plgapegace = obs_autocorr_RA(e2edis_n16plgapeg_ace[1],t_corr, window_shift,start,end)"
   ]
  },
  {
   "cell_type": "code",
   "execution_count": null,
   "metadata": {},
   "outputs": [],
   "source": [
    "ACn16plgapegace_Ree"
   ]
  },
  {
   "cell_type": "code",
   "execution_count": null,
   "metadata": {},
   "outputs": [],
   "source": [
    "eqvar_n16plgapegace"
   ]
  },
  {
   "cell_type": "code",
   "execution_count": null,
   "metadata": {},
   "outputs": [],
   "source": [
    "ACn16plgapegace_sqRee, evsqRee_n16plgapegace = obs_autocorr_RA(e2edis_n16plgapeg_ace[0],t_corr, window_shift,start,end)"
   ]
  },
  {
   "cell_type": "code",
   "execution_count": null,
   "metadata": {},
   "outputs": [],
   "source": [
    "np.sqrt(evsqRee_n16plgapegace)"
   ]
  },
  {
   "cell_type": "code",
   "execution_count": null,
   "metadata": {},
   "outputs": [],
   "source": [
    "plt.figure(figsize=(7,7))\n",
    "plt.title(r'PLGA-PEG Ree autocorrelation', fontsize=18, y=1.01)\n",
    "plt.xlabel(r'Time [ns]', fontsize=15)\n",
    "plt.ylabel(r'$C_{A}(t)$', fontsize=15)\n",
    "plt.plot(ACn6plgapegace_Ree[1]/100, ACn6plgapegace_Ree[0],linewidth=2, color='#1F2E69')\n",
    "plt.plot(ACn8plgapegace_Ree[1]/100, ACn8plgapegace_Ree[0],linewidth=2, color='#4C80ED')\n",
    "plt.plot(ACn10plgapegace_Ree[1]/100, ACn10plgapegace_Ree[0],linewidth=2, color='#8C52FC')\n",
    "plt.plot(ACn16plgapegace_Ree[1]/100, ACn16plgapegace_Ree[0],linewidth=2, color='purple')\n",
    "plt.tick_params(labelsize=14)\n",
    "plt.legend(['N = 6 Ree','N = 8 Ree','N = 10 Ree','N = 15 Ree'], frameon=False, fontsize=14)\n",
    "#plt.yscale('symlog', linthreshy=0.5)\n",
    "#plt.xscale('symlog')\n",
    "plt.grid(b=True)\n",
    "plt.xlim(0,70)\n",
    "plt.ylim(-1,1)"
   ]
  },
  {
   "cell_type": "markdown",
   "metadata": {},
   "source": [
    "### Hydrodynamic Radius vs time"
   ]
  },
  {
   "cell_type": "code",
   "execution_count": null,
   "metadata": {},
   "outputs": [],
   "source": [
    "plgapegn16ace_rh = hydro_rad_poly(plgapeg_n16ace, n16_plgapeg_ace, n16_mon, start, end)"
   ]
  },
  {
   "cell_type": "code",
   "execution_count": null,
   "metadata": {},
   "outputs": [],
   "source": [
    "trj_len = np.arange(36001)\n",
    "plt.figure(figsize=(7,7))\n",
    "plt.title(r'PLGA-PEG Hydrodynamic Radius', fontsize=18, y=1.01)\n",
    "plt.xlabel(r'Time [ns]', fontsize=15)\n",
    "plt.ylabel(r'$R_{hyd}$ [nm]', fontsize=15)\n",
    "plt.plot(trj_len/100, plgapegn6ace_rh/10,linewidth=2, color='teal')\n",
    "plt.plot(trj_len/100, plgapegn8ace_rh/10,linewidth=2, color='dodgerblue')\n",
    "plt.plot(trj_len/100, plgapegn10ace_rh/10,linewidth=2, color='darkmagenta')\n",
    "plt.plot(trj_len/100, plgapegn16ace_rh/10,linewidth=2, color='maroon')\n",
    "plt.tick_params(labelsize=14)\n",
    "plt.legend(['N = 6 in acetone', 'N = 8 in acetone','N = 10 in acetone','N = 16 in acetone'], frameon=False, fontsize=14)\n",
    "#plt.text(127, 0.96,r'N = 6 in acetone', fontsize=18, color='#1F2E69', family='Arial')\n",
    "plt.xlim(0,360)\n",
    "plt.ylim(0,7)"
   ]
  },
  {
   "cell_type": "markdown",
   "metadata": {},
   "source": [
    "#### Rh autocorrelation"
   ]
  },
  {
   "cell_type": "code",
   "execution_count": 21,
   "metadata": {},
   "outputs": [],
   "source": [
    "t_corr = 7000\n",
    "window_shift = 9"
   ]
  },
  {
   "cell_type": "code",
   "execution_count": 22,
   "metadata": {},
   "outputs": [
    {
     "name": "stdout",
     "output_type": "stream",
     "text": [
      "No. of Samples: 3223\n"
     ]
    }
   ],
   "source": [
    "ACn16plgapegaceRh, eqvarRh_n16plgapegace = obs_autocorr_RA(plgapegn16ace_rh,t_corr, window_shift,start,end)"
   ]
  },
  {
   "cell_type": "code",
   "execution_count": 23,
   "metadata": {},
   "outputs": [
    {
     "data": {
      "text/plain": [
       "array([[ 1.00000000e+00,  9.36638501e-01,  9.04796946e-01, ...,\n",
       "        -1.59549666e+00, -1.56891666e+00, -1.54714403e+00],\n",
       "       [ 0.00000000e+00,  1.00000000e+00,  2.00000000e+00, ...,\n",
       "         6.99700000e+03,  6.99800000e+03,  6.99900000e+03]])"
      ]
     },
     "execution_count": 23,
     "metadata": {},
     "output_type": "execute_result"
    }
   ],
   "source": [
    "ACn16plgapegaceRh"
   ]
  },
  {
   "cell_type": "code",
   "execution_count": 24,
   "metadata": {},
   "outputs": [
    {
     "data": {
      "text/plain": [
       "6.086121637319934"
      ]
     },
     "execution_count": 24,
     "metadata": {},
     "output_type": "execute_result"
    }
   ],
   "source": [
    "eqvarRh_n16plgapegace"
   ]
  },
  {
   "cell_type": "code",
   "execution_count": null,
   "metadata": {},
   "outputs": [],
   "source": [
    "plt.figure(figsize=(7,7))\n",
    "plt.title(r'PLGA-PEG Rh autocorrelation', fontsize=18, y=1.01)\n",
    "plt.xlabel(r'Time [ns]', fontsize=15)\n",
    "plt.ylabel(r'$C_{Rh}(t)$', fontsize=15)\n",
    "plt.plot(ACn6plgapegaceRh[1]/100, ACn6plgapegaceRh[0],linewidth=2, color='#1F2E69')\n",
    "plt.plot(ACn8plgapegaceRh[1]/100, ACn8plgapegaceRh[0],linewidth=2, color='#4C80ED')\n",
    "plt.plot(ACn10plgapegaceRh[1]/100, ACn10plgapegaceRh[0],linewidth=2, color='#8C52FC')\n",
    "plt.plot(ACn16plgapegaceRh[1]/100, ACn16plgapegaceRh[0],linewidth=2, color='purple')\n",
    "plt.tick_params(labelsize=14)\n",
    "plt.legend(['N = 6 in acetone','N = 8 in acetone','N = 10 in acetone','N = 16 in acetone'], frameon=False, fontsize=14)\n",
    "plt.xlim(0,70)\n",
    "#plt.ylim(-0.2,1)"
   ]
  },
  {
   "cell_type": "markdown",
   "metadata": {},
   "source": [
    "### Relaxation times vs monomer length "
   ]
  },
  {
   "cell_type": "code",
   "execution_count": null,
   "metadata": {},
   "outputs": [],
   "source": [
    "# Key variables \n",
    "# def pos_bead_autocorr_RA(polymer_atoms, universe, n_monomers, t_corr,  start, end):\n",
    "n16_mon = 16 \n",
    "start = 0\n",
    "end = 36001\n",
    "t_corr = 2000\n",
    "window_shift = 20"
   ]
  },
  {
   "cell_type": "code",
   "execution_count": null,
   "metadata": {},
   "outputs": [],
   "source": [
    "s_time = timeit.default_timer()\n",
    "tcRA_plgapegn16ace, tcSUM_plgapegn16ace = pos_bead_autocorr_RA(plgapeg_n16ace, n16_plgapeg_ace, n16_mon, t_corr, window_shift, start, end)\n",
    "timeit.default_timer() - s_time"
   ]
  },
  {
   "cell_type": "code",
   "execution_count": null,
   "metadata": {},
   "outputs": [],
   "source": [
    "tcRA_plgapegn16ace"
   ]
  },
  {
   "cell_type": "code",
   "execution_count": null,
   "metadata": {},
   "outputs": [],
   "source": [
    "tcSUM_plgapegn16ace.shape"
   ]
  },
  {
   "cell_type": "markdown",
   "metadata": {},
   "source": [
    "### Fitting autocorrelation data "
   ]
  },
  {
   "cell_type": "code",
   "execution_count": null,
   "metadata": {},
   "outputs": [],
   "source": [
    "xdata_plgapegn16ace = tcRA_plgapegn16ace[1]/100\n",
    "ydata_plgapegn16ace = tcRA_plgapegn16ace[0]"
   ]
  },
  {
   "cell_type": "code",
   "execution_count": null,
   "metadata": {},
   "outputs": [],
   "source": [
    "ydata_plgapegn16ace.shape"
   ]
  },
  {
   "cell_type": "code",
   "execution_count": null,
   "metadata": {},
   "outputs": [],
   "source": [
    "xdata_plgapegn16ace.shape"
   ]
  },
  {
   "cell_type": "code",
   "execution_count": null,
   "metadata": {},
   "outputs": [],
   "source": [
    "plt.figure(figsize=(8,8))\n",
    "plt.rcParams[\"font.family\"] = \"Arial\"\n",
    "plt.scatter(xdata_plgapegn6ace, ydata_plgapegn6ace, color='teal', s=s_n6)\n",
    "plt.scatter(xdata_plgapegn8ace, ydata_plgapegn8ace, color='dodgerblue', s=s_n8)\n",
    "plt.scatter(xdata_plgapegn10ace, ydata_plgapegn10ace, color='darkmagenta', s=s_n10)\n",
    "plt.scatter(xdata_plgapegn16ace, ydata_plgapegn16ace, color='maroon', s=s_n16)\n",
    "plt.title(r'Positional bead autocorrelation PLGA-PEG in acetone', fontsize=18)\n",
    "plt.xlabel(r'Time lag [ns]', fontsize=18)\n",
    "plt.ylabel('C(t)', fontsize=18)\n",
    "#plt.legend(fontsize=14, frameon=False)\n",
    "plt.xticks(fontsize=18)\n",
    "plt.yticks(fontsize=18)\n",
    "#plt.yscale('symlog', linthreshy=0.5)\n",
    "plt.xscale('symlog')\n",
    "plt.grid(b=True)\n",
    "plt.xlim(0,300)\n",
    "plt.ylim(-1,1)\n",
    "plt.tick_params(labelsize=18, direction='in', which='both', width=1, length=10)"
   ]
  },
  {
   "cell_type": "code",
   "execution_count": null,
   "metadata": {},
   "outputs": [],
   "source": [
    "ts = 1\n",
    "hs = 0.1\n",
    "n16_mon = 16\n",
    "n_b = n16_mon - 1\n",
    "tr1 = 2\n",
    "zimm_relax_fit(ts,tr1,hs,n_b)"
   ]
  },
  {
   "cell_type": "code",
   "execution_count": null,
   "metadata": {},
   "outputs": [],
   "source": [
    "rouse_relax(1, 2, 6)"
   ]
  },
  {
   "cell_type": "code",
   "execution_count": null,
   "metadata": {},
   "outputs": [],
   "source": [
    "zimm_relax_func(1, 2, 0.1, 5)"
   ]
  },
  {
   "cell_type": "code",
   "execution_count": null,
   "metadata": {},
   "outputs": [],
   "source": [
    "def res_plgapegn16ace(variabls, xnp, ynp):\n",
    "    #hs_np = variabls['h_star']\n",
    "    hs_np = 0.26\n",
    "    tr1_np = variabls['t_first']\n",
    "    n_bonds = 15\n",
    "    testnp = []\n",
    "    for i in range(len(xnp)):\n",
    "        model_ynp = zimm_relax_fit(xnp[i], tr1_np, hs_np, n_bonds)\n",
    "        #model_ynp = rouse_relax(xnp[i], tr1_np, n_m)\n",
    "        testnp.append(ynp[i] - model_ynp)\n",
    "    \n",
    "    tt_n6 = np.array(testnp)\n",
    "\n",
    "    return tt_n6\n",
    "    \n",
    "#x1 = np.array([0,0])\n",
    "#pfit, pcov, infodict, errmsg, success = leastsq(res_poly, x1, args=(xdata, ydata), full_output=1)"
   ]
  },
  {
   "cell_type": "code",
   "execution_count": null,
   "metadata": {},
   "outputs": [],
   "source": [
    "ppfit_n16ace = Parameters()\n",
    "#ppfit_n16ace.add(name='h_star', value=0, min=0, max=0.26, vary=True)\n",
    "ppfit_n16ace.add(name='t_first', value=2)"
   ]
  },
  {
   "cell_type": "code",
   "execution_count": null,
   "metadata": {},
   "outputs": [],
   "source": [
    "mini_ppn16ace = Minimizer(res_plgapegn16ace, ppfit_n16ace, fcn_args=(xdata_plgapegn16ace, ydata_plgapegn16ace))\n",
    "out_ppn16ace = mini_ppn16ace.leastsq()\n",
    "#bfit_n16 = ydata_n16ace + out_n16ace.residual "
   ]
  },
  {
   "cell_type": "code",
   "execution_count": null,
   "metadata": {},
   "outputs": [],
   "source": [
    "report_fit(out_ppn16ace.params)"
   ]
  },
  {
   "cell_type": "code",
   "execution_count": null,
   "metadata": {},
   "outputs": [],
   "source": [
    "out_ppn16ace.params"
   ]
  },
  {
   "cell_type": "code",
   "execution_count": null,
   "metadata": {},
   "outputs": [],
   "source": [
    "# with h varying, tr = 1.66556755 +/- 0.01060212, h* = 0.25999946 +/- 0.03480890\n",
    "tace_n16plgapeg = []\n",
    "n_bonds = 15\n",
    "for i in range(len(xdata_plgapegn16ace)):\n",
    "    tace_n16plgapeg.append(zimm_relax_fit(xdata_plgapegn16ace[i], 1.66921473, 0.26,  n_bonds))\n"
   ]
  },
  {
   "cell_type": "code",
   "execution_count": null,
   "metadata": {},
   "outputs": [],
   "source": [
    "t_c, tz_n16plgapeg, zimm_n16plgapeg, rouse_n16plgapeg = zimm_relax_func(1, 1.66921473, 0.26,  n_bonds)"
   ]
  },
  {
   "cell_type": "code",
   "execution_count": null,
   "metadata": {},
   "outputs": [],
   "source": [
    "len(tz_n16plgapeg)"
   ]
  },
  {
   "cell_type": "code",
   "execution_count": null,
   "metadata": {},
   "outputs": [],
   "source": [
    "x_pos_n8 = np.arange(7)\n",
    "x_pos_n10 = np.arange(9)\n",
    "x_pos_n16 = np.arange(15)\n",
    "width = 0.25\n",
    "aa_types_n16 = [r\"$\\tau_{1}$\", r\"$\\tau_{2}$\", r\"$\\tau_{3}$\", r\"$\\tau_{4}$\", r\"$\\tau_{5}$\",r\"$\\tau_{6}$\",r\"$\\tau_{7}$\",\n",
    "           r\"$\\tau_{8}$\", r\"$\\tau_{9}$\",r\"$\\tau_{10}$\",r\"$\\tau_{11}$\",r\"$\\tau_{12}$\",r\"$\\tau_{13}$\",r\"$\\tau_{14}$\",r\"$\\tau_{15}$\"]\n",
    "fig = plt.figure(figsize=(7,7))\n",
    "plt.title('PLGA-PEG in acetone', fontsize=18)\n",
    "plt.bar(x_pos_n8+(2*width), tz_n8plgapeg, width, ecolor='black',capsize=5, color='dodgerblue', label='N = 8')\n",
    "plt.bar(x_pos_n10+(width), tz_n10plgapeg, width, ecolor='black',capsize=5, color='darkmagenta', label='N = 10')\n",
    "plt.bar(x_pos_n16, tz_n16plgapeg, width, ecolor='black',capsize=5, color='maroon', label='N = 16')\n",
    "plt.xticks(x_pos_n16, labels=aa_types_n16, fontsize=12)\n",
    "plt.legend(fontsize=12 ,frameon=False)\n",
    "plt.ylabel(r'Relaxation times [ns]', fontsize=15)"
   ]
  },
  {
   "cell_type": "code",
   "execution_count": null,
   "metadata": {},
   "outputs": [],
   "source": [
    "aa_eigen_n16 = [r\"$a_{1}$\", r\"$a_{2}$\", r\"$a_{3}$\", r\"$a_{4}$\", r\"$a_{5}$\",r\"$a_{6}$\",r\"$a_{7}$\",r\"$a_{8}$\",\n",
    "           r\"$a_{9}$\",r\"$a_{10}$\",r\"$a_{11}$\",r\"$a_{12}$\",r\"$a_{13}$\",r\"$a_{14}$\",r\"$a_{15}$\"]\n",
    "fig = plt.figure(figsize=(7,7))\n",
    "plt.title('PLGA-PEG in acetone N = 16', fontsize=18)\n",
    "plt.bar(x_pos_n16, rouse_n16plgapeg, width,ecolor='black',capsize=5, color='c', label='Rouse')\n",
    "plt.bar(x_pos_n16+width, zimm_n16plgapeg, width,ecolor='black',capsize=5, color='m', label='Zimm')\n",
    "plt.xticks(x_pos_n16+width,labels=aa_eigen_n16, fontsize=12)\n",
    "plt.legend(fontsize=12 ,frameon=False)\n",
    "plt.ylabel(r'Rouse and Zimm eigenvalues', fontsize=15)"
   ]
  },
  {
   "cell_type": "code",
   "execution_count": null,
   "metadata": {},
   "outputs": [],
   "source": [
    "plt.figure(figsize=(8,8))\n",
    "plt.rcParams[\"font.family\"] = \"Arial\"\n",
    "plt.scatter(xdata_plgapegn6ace, ydata_plgapegn6ace, color='teal', s=s_n6)\n",
    "plt.scatter(xdata_plgapegn8ace, ydata_plgapegn8ace, color='dodgerblue', s=s_n8)\n",
    "plt.scatter(xdata_plgapegn10ace, ydata_plgapegn10ace, color='darkmagenta', s=s_n10)\n",
    "plt.scatter(xdata_plgapegn16ace, ydata_plgapegn16ace, color='maroon', s=s_n16)\n",
    "plt.plot(xdata_plgapegn6ace, tace_n6plgapeg, color='teal')\n",
    "plt.plot(xdata_plgapegn8ace, tace_n8plgapeg, color='dodgerblue')\n",
    "plt.plot(xdata_plgapegn10ace, tace_n10plgapeg, color='darkmagenta')\n",
    "plt.plot(xdata_plgapegn16ace, tace_n16plgapeg, color='maroon')\n",
    "plt.title(r'Positional bead autocorrelation PLGA-PEG in acetone', fontsize=18, y=1.03)\n",
    "plt.xlabel(r'Time lag [ns]', fontsize=18)\n",
    "plt.ylabel('C(t)', fontsize=18)\n",
    "#plt.legend(fontsize=14, frameon=False)\n",
    "plt.xticks(fontsize=18)\n",
    "plt.yticks(fontsize=18)\n",
    "#plt.yscale('symlog', linthreshy=0.5)\n",
    "plt.xscale('symlog')\n",
    "plt.grid(b=True)\n",
    "plt.xlim(0,300)\n",
    "plt.ylim(-1,1)\n",
    "plt.tick_params(labelsize=18, direction='in', which='both', width=1, length=10)"
   ]
  },
  {
   "cell_type": "code",
   "execution_count": null,
   "metadata": {},
   "outputs": [],
   "source": [
    "rppace_msen16 = np.array([ydata_plgapegn16ace - np.array(tace_n16plgapeg)])\n",
    "rppace_msen16"
   ]
  },
  {
   "cell_type": "code",
   "execution_count": null,
   "metadata": {},
   "outputs": [],
   "source": [
    "plt.figure(figsize=(7,7))\n",
    "plt.rcParams[\"font.family\"] = \"Arial\"\n",
    "plt.scatter(xdata_plgapegn6ace, rppace_msen6, color='teal', s=s_n6)\n",
    "plt.scatter(xdata_plgapegn8ace, rppace_msen8, color='dodgerblue', s=s_n8)\n",
    "plt.scatter(xdata_plgapegn10ace, rppace_msen10, color='darkmagenta', s=s_n10)\n",
    "plt.scatter(xdata_plgapegn16ace, rppace_msen16, color='maroon', s=s_n16)\n",
    "plt.title(r'Relaxation time Fitting Residuals PLGA in acetone', fontsize=18, y=1.01)\n",
    "plt.xlabel(r'Time lag [ns]', fontsize=18)\n",
    "plt.ylabel('Residuals', fontsize=18)\n",
    "plt.xticks(fontsize=14)\n",
    "plt.yticks(fontsize=14)\n",
    "plt.xlim([0,100])\n",
    "plt.ylim([-0.7,1])\n",
    "plt.tick_params(labelsize=15)"
   ]
  },
  {
   "cell_type": "markdown",
   "metadata": {},
   "source": [
    "#### Radius of Gyration vs. time N = 16 PLGA-PEG in acetone"
   ]
  },
  {
   "cell_type": "code",
   "execution_count": null,
   "metadata": {},
   "outputs": [],
   "source": [
    "# Key variables \n",
    "n16_mon = 16 \n",
    "start = 0\n",
    "end = 36001"
   ]
  },
  {
   "cell_type": "code",
   "execution_count": null,
   "metadata": {},
   "outputs": [],
   "source": [
    "n16plgapeg_rgens_ace, cor_n16plgapeg_ace, n16plgapeg_cos_ace, rgace_n16plgapeg = get_rg_pers_poly(plgapeg_n16ace, n16_plgapeg_ace,\n",
    "                                                                                                  start,end)"
   ]
  },
  {
   "cell_type": "code",
   "execution_count": null,
   "metadata": {},
   "outputs": [],
   "source": [
    "n16plgapeg_rgens_ace[0].shape"
   ]
  },
  {
   "cell_type": "code",
   "execution_count": null,
   "metadata": {},
   "outputs": [],
   "source": [
    "cor_n16plgapeg_ace[3]"
   ]
  },
  {
   "cell_type": "code",
   "execution_count": null,
   "metadata": {},
   "outputs": [],
   "source": [
    "n16plgapeg_cos_ace"
   ]
  },
  {
   "cell_type": "code",
   "execution_count": null,
   "metadata": {},
   "outputs": [],
   "source": [
    "rgace_n16plgapeg"
   ]
  },
  {
   "cell_type": "code",
   "execution_count": null,
   "metadata": {},
   "outputs": [],
   "source": [
    "n16plgapeg_rgens_ace.shape"
   ]
  },
  {
   "cell_type": "code",
   "execution_count": null,
   "metadata": {},
   "outputs": [],
   "source": [
    "trj_len = np.arange(36001)\n",
    "plt.figure(figsize=(7,7))\n",
    "plt.title(r'PLGA-PEG Radius of Gyration', fontsize=18, y=1.01)\n",
    "plt.xlabel(r'Time [ns]', fontsize=15)\n",
    "plt.ylabel(r'$R_{g}$ [nm]', fontsize=15)\n",
    "plt.plot(trj_len/100, n6plgapeg_rgens_ace[0]/10,linewidth=2, color='teal')\n",
    "plt.plot(trj_len/100, n8plgapeg_rgens_ace[0]/10,linewidth=2, color='dodgerblue')\n",
    "plt.plot(trj_len/100, n10plgapeg_rgens_ace[0]/10,linewidth=2, color='darkmagenta')\n",
    "plt.plot(trj_len/100, n16plgapeg_rgens_ace[0]/10,linewidth=2, color='maroon')\n",
    "plt.tick_params(labelsize=14)\n",
    "plt.legend(['N = 6 in acetone', 'N = 8 in acetone','N = 10 in acetone','N = 16 in acetone'], frameon=False, fontsize=14)\n",
    "#plt.text(127, 0.96,r'N = 6 in acetone', fontsize=18, color='#1F2E69', family='Arial')\n",
    "plt.xlim(0,360)\n",
    "plt.ylim(0.2,7)"
   ]
  },
  {
   "cell_type": "markdown",
   "metadata": {},
   "source": [
    "#### Rg Autocorrelation"
   ]
  },
  {
   "cell_type": "code",
   "execution_count": 60,
   "metadata": {},
   "outputs": [
    {
     "name": "stdout",
     "output_type": "stream",
     "text": [
      "No. of Samples: 3223\n"
     ]
    }
   ],
   "source": [
    "ACn16plgapegace_Rg, eqvarRg_n16plgapegace = obs_autocorr_RA(n16plgapeg_rgens_ace[0],t_corr, window_shift,start,end)"
   ]
  },
  {
   "cell_type": "code",
   "execution_count": 61,
   "metadata": {},
   "outputs": [
    {
     "data": {
      "text/plain": [
       "array([[ 1.00000000e+00,  9.64772474e-01,  9.54648858e-01, ...,\n",
       "        -8.84905820e-01, -8.83449321e-01, -8.76535047e-01],\n",
       "       [ 0.00000000e+00,  1.00000000e+00,  2.00000000e+00, ...,\n",
       "         6.99700000e+03,  6.99800000e+03,  6.99900000e+03]])"
      ]
     },
     "execution_count": 61,
     "metadata": {},
     "output_type": "execute_result"
    }
   ],
   "source": [
    "ACn16plgapegace_Rg"
   ]
  },
  {
   "cell_type": "code",
   "execution_count": 62,
   "metadata": {},
   "outputs": [
    {
     "data": {
      "text/plain": [
       "4.574351885501528"
      ]
     },
     "execution_count": 62,
     "metadata": {},
     "output_type": "execute_result"
    }
   ],
   "source": [
    "eqvarRg_n16plgapegace"
   ]
  },
  {
   "cell_type": "code",
   "execution_count": null,
   "metadata": {},
   "outputs": [],
   "source": [
    "plt.figure(figsize=(7,7))\n",
    "plt.title(r'PLGA-PEG in acetone autocorrelation', fontsize=18, y=1.01)\n",
    "plt.xlabel(r'Time [ns]', fontsize=15)\n",
    "plt.ylabel(r'$C_{A}(t)$', fontsize=15)\n",
    "plt.plot(ACn6plgapegace_Rg[1]/100, ACn6plgapegace_Rg[0],linewidth=2, color='#1F2E69')\n",
    "plt.plot(ACn8plgapegace_Rg[1]/100, ACn8plgapegace_Rg[0],linewidth=2, color='#4C80ED')\n",
    "plt.plot(ACn10plgapegace_Rg[1]/100, ACn10plgapegace_Rg[0],linewidth=2, color='#8C52FC')\n",
    "plt.plot(ACn16plgapegace_Rg[1]/100, ACn16plgapegace_Rg[0],linewidth=2, color='purple')\n",
    "plt.tick_params(labelsize=14)\n",
    "plt.legend(['N = 6 Rg','N = 8 Rg','N = 10 Rg','N = 15 Rg'], frameon=False, fontsize=14)\n",
    "#plt.yscale('symlog', linthreshy=0.5)\n",
    "#plt.xscale('symlog')\n",
    "plt.xlim(0,70)\n",
    "plt.ylim(-1,1)"
   ]
  },
  {
   "cell_type": "markdown",
   "metadata": {},
   "source": [
    "#### Get average COM distance, arch length values"
   ]
  },
  {
   "cell_type": "code",
   "execution_count": null,
   "metadata": {},
   "outputs": [],
   "source": [
    "cb_n16plga = np.zeros(shape=(36001))\n",
    "cb_n16pplinker = np.zeros(shape=(36001))\n",
    "cb_n16peg = np.zeros(shape=(36001))\n",
    "count = 0\n",
    "for ts in n16_plgapeg_ace.trajectory[0:36001]:\n",
    "    # 1st two PLGA residues\n",
    "    n16m1_plga = n16_plgapeg_ace.select_atoms(\"resid 1\")\n",
    "    n16m2_plga = n16_plgapeg_ace.select_atoms(\"resid 2\")\n",
    "    # PLGA-PEG linker (n_mon/2 to get to bPLG res no.)\n",
    "    n16pl_link = n16_plgapeg_ace.select_atoms(\"resid 8\")\n",
    "    n16peg_link = n16_plgapeg_ace.select_atoms(\"resid 9\")\n",
    "    # last two PEG residues \n",
    "    n16l1_peg = n16_plgapeg_ace.select_atoms(\"resid 15\")\n",
    "    n16l2_peg = n16_plgapeg_ace.select_atoms(\"resid 16\")\n",
    "    \n",
    "    cb_n16plga[count] = mda.analysis.distances.distance_array(n16m1_plga.center_of_mass(), n16m2_plga.center_of_mass(), \n",
    "                                                   box=n16_plgapeg_ace.trajectory.ts.dimensions)\n",
    "    \n",
    "    cb_n16pplinker[count] = mda.analysis.distances.distance_array(n16pl_link.center_of_mass(), n16peg_link.center_of_mass(), \n",
    "                                                   box=n16_plgapeg_ace.trajectory.ts.dimensions)\n",
    "    \n",
    "    cb_n16peg[count] = mda.analysis.distances.distance_array(n16l1_peg.center_of_mass(), n16l2_peg.center_of_mass(), \n",
    "                                                   box=n16_plgapeg_ace.trajectory.ts.dimensions)\n",
    "    \n",
    "    count += 1\n",
    "    \n",
    "\n",
    "    "
   ]
  },
  {
   "cell_type": "code",
   "execution_count": null,
   "metadata": {},
   "outputs": [],
   "source": [
    "COM_ppn16ace = np.zeros(shape=(3,2))\n",
    "COM_ppn16ace[0,0] = np.mean(cb_n16plga)\n",
    "COM_ppn16ace[1,0] = np.mean(cb_n16pplinker)\n",
    "COM_ppn16ace[2,0] = np.mean(cb_n16peg)\n",
    "COM_ppn16ace[0,1] = np.std(cb_n16plga)\n",
    "COM_ppn16ace[1,1] = np.std(cb_n16pplinker)\n",
    "COM_ppn16ace[2,1] = np.std(cb_n16peg)\n",
    "COM_ppn16ace"
   ]
  },
  {
   "cell_type": "markdown",
   "metadata": {},
   "source": [
    "#### Correlation values at each arc length for the whole 360 ns trajectory, N = 16 PLGA-PEG/acetone"
   ]
  },
  {
   "cell_type": "code",
   "execution_count": null,
   "metadata": {},
   "outputs": [],
   "source": [
    "# x values\n",
    "blen_ppn16ace = np.zeros(shape=15)\n",
    "for i in range(n16_mon-1):\n",
    "    if i < int((n16_mon/2)-1):\n",
    "        # PLGA contour length values\n",
    "        if i == 0:\n",
    "            blen_ppn16ace[i] = 0\n",
    "        elif i != 0:\n",
    "            blen_ppn16ace[i] = np.sum(blen_ppn16ace[i-1]) + COM_ppn16ace[0,0]    \n",
    "    elif i == int((n16_mon/2)-1):\n",
    "        #PLGA-PEG linker length\n",
    "        blen_ppn16ace[i] = np.sum(blen_ppn16ace[i-1]) + COM_ppn16ace[1,0]\n",
    "    elif i > int((n16_mon/2)-1):\n",
    "    #    # PEG contour length values\n",
    "        blen_ppn16ace[i] = np.sum(blen_ppn16ace[i-1]) + COM_ppn16ace[2,0]\n",
    "        \n",
    "blen_ppn16ace"
   ]
  },
  {
   "cell_type": "code",
   "execution_count": null,
   "metadata": {},
   "outputs": [],
   "source": [
    "# Error prop. into natural log std deviation\n",
    "mk_n16ppace = cor_n16plgapeg_ace[1]/cor_n16plgapeg_ace[0]\n",
    "mk_n16ppace"
   ]
  },
  {
   "cell_type": "code",
   "execution_count": null,
   "metadata": {},
   "outputs": [],
   "source": [
    "plt.figure(figsize=(7,7))\n",
    "plt.errorbar(blen_ppn16ace, np.log(cor_n16plgapeg_ace[0]), yerr=mk_n16ppace, color='teal', linestyle=\"None\",marker='o',\n",
    "     capsize=5, capthick=1, ecolor='black')"
   ]
  },
  {
   "cell_type": "code",
   "execution_count": null,
   "metadata": {},
   "outputs": [],
   "source": [
    "# All the points give the best fits for N = 6 peg in acetone\n",
    "n16_blksplgapeg_ace , n16plgapeg_lpace = bavg_pers_cnt(5, plgapeg_n16ace, n16_plgapeg_ace, blen_ppn16ace, 5, 0 , 36001)"
   ]
  },
  {
   "cell_type": "code",
   "execution_count": null,
   "metadata": {},
   "outputs": [],
   "source": [
    "n16_blksplgapeg_ace"
   ]
  },
  {
   "cell_type": "code",
   "execution_count": null,
   "metadata": {},
   "outputs": [],
   "source": [
    "n16plgapeg_lpace"
   ]
  },
  {
   "cell_type": "code",
   "execution_count": null,
   "metadata": {},
   "outputs": [],
   "source": [
    "n16plgapeg_lpace[2]"
   ]
  },
  {
   "cell_type": "code",
   "execution_count": null,
   "metadata": {},
   "outputs": [],
   "source": [
    "np.mean(n16plgapeg_lpace[3])"
   ]
  },
  {
   "cell_type": "markdown",
   "metadata": {},
   "source": [
    "#### line fitted to cosine theta values using mean slope"
   ]
  },
  {
   "cell_type": "code",
   "execution_count": null,
   "metadata": {},
   "outputs": [],
   "source": [
    "blen_ppn16ace"
   ]
  },
  {
   "cell_type": "code",
   "execution_count": null,
   "metadata": {},
   "outputs": [],
   "source": [
    "gg_n16plgapeg_ace = line_fit(np.mean(n16plgapeg_lpace[2]),blen_ppn16ace)"
   ]
  },
  {
   "cell_type": "code",
   "execution_count": null,
   "metadata": {},
   "outputs": [],
   "source": [
    "gg_n10plgapeg_n16ace = line_fit(np.mean(n10plgapeg_lpace[2]),blen_ppn16ace)"
   ]
  },
  {
   "cell_type": "code",
   "execution_count": null,
   "metadata": {},
   "outputs": [],
   "source": [
    "gg_n8plgapeg_n16ace = line_fit(np.mean(n8plgapeg_lpace[2]),blen_ppn16ace)"
   ]
  },
  {
   "cell_type": "code",
   "execution_count": null,
   "metadata": {},
   "outputs": [],
   "source": [
    "gg_n6plgapeg_n16ace = line_fit(np.mean(n6plgapeg_lpace[2]),blen_ppn16ace)"
   ]
  },
  {
   "cell_type": "code",
   "execution_count": null,
   "metadata": {},
   "outputs": [],
   "source": [
    "gg_n16plgapeg_ace"
   ]
  },
  {
   "cell_type": "markdown",
   "metadata": {},
   "source": [
    "#### Block averaged Rg, Ree, Rh, mean sq. Ree and mean sq. Rg persistence length, N = 16 PLGA-PEG in acetone"
   ]
  },
  {
   "cell_type": "code",
   "execution_count": null,
   "metadata": {},
   "outputs": [],
   "source": [
    "blppn16ace = []\n",
    "for i in range(n16_mon-1):\n",
    "    if i < int((n16_mon/2)-1):\n",
    "        # PLGA contour length values\n",
    "        blppn16ace.append(COM_ppn16ace[0,0])    \n",
    "    elif i == int((n16_mon/2)-1):\n",
    "        #PLGA-PEG linker length\n",
    "        blppn16ace.append(COM_ppn16ace[1,0]) \n",
    "    elif i > int((n16_mon/2)-1):\n",
    "    #    # PEG contour length values\n",
    "        blppn16ace.append(COM_ppn16ace[2,0]) \n",
    "\n",
    "# Contour Length, N = 6 PLGA-PEG in acetone\n",
    "lc_ppn16ace = np.sum(blppn16ace)\n",
    "lc_ppn16ace"
   ]
  },
  {
   "cell_type": "code",
   "execution_count": null,
   "metadata": {},
   "outputs": [],
   "source": [
    "# Ree^2/Rg^2 array at different contour lengths\n",
    "re2e_rgsq_plgapegace[1,3] = lc_ppn16ace\n",
    "re2e_rgsq_plgapegace"
   ]
  },
  {
   "cell_type": "code",
   "execution_count": null,
   "metadata": {},
   "outputs": [],
   "source": [
    "a_ppn16ace = np.mean(n16_blksplgapeg_ace['Avg Sq. end to end distance'])"
   ]
  },
  {
   "cell_type": "code",
   "execution_count": null,
   "metadata": {},
   "outputs": [],
   "source": [
    "b_ppn16ace = np.mean(n16_blksplgapeg_ace['Avg Sq. radius of gyration'])"
   ]
  },
  {
   "cell_type": "code",
   "execution_count": null,
   "metadata": {},
   "outputs": [],
   "source": [
    "re2e_rgsq_plgapegace[0,3] = a_ppn16ace/b_ppn16ace\n",
    "re2e_rgsq_plgapegace"
   ]
  },
  {
   "cell_type": "code",
   "execution_count": null,
   "metadata": {},
   "outputs": [],
   "source": [
    "# Rg/Rh array at different contour lengths \n",
    "rhy_rg_plgapegace[1,3] = lc_ppn16ace\n",
    "rhy_rg_plgapegace"
   ]
  },
  {
   "cell_type": "code",
   "execution_count": null,
   "metadata": {},
   "outputs": [],
   "source": [
    "aa_ppn16ace = np.mean(n16_blksplgapeg_ace['Avg Radius of gyration'])"
   ]
  },
  {
   "cell_type": "code",
   "execution_count": null,
   "metadata": {},
   "outputs": [],
   "source": [
    "bb_ppn16ace = np.mean(n16_blksplgapeg_ace['Avg Hydrodynamic radius'])"
   ]
  },
  {
   "cell_type": "code",
   "execution_count": null,
   "metadata": {},
   "outputs": [],
   "source": [
    "rhy_rg_plgapegace[0,3] = aa_ppn16ace/bb_ppn16ace\n",
    "rhy_rg_plgapegace"
   ]
  },
  {
   "cell_type": "code",
   "execution_count": null,
   "metadata": {},
   "outputs": [],
   "source": [
    "# pers length/contour length \n",
    "kuhnlpL_plgapegace[0,3] = np.mean(n16_blksplgapeg_ace[\"Avg persistence length\"])/lc_ppn16ace\n",
    "kuhnlpL_plgapegace"
   ]
  },
  {
   "cell_type": "markdown",
   "metadata": {},
   "source": [
    "#### Block averaged Radius of gyration and persistence length, N = 16 PLGA-PEG in acetone"
   ]
  },
  {
   "cell_type": "code",
   "execution_count": null,
   "metadata": {},
   "outputs": [],
   "source": [
    "np.mean(n16_blksplgapeg_ace[\"Avg persistence length\"])"
   ]
  },
  {
   "cell_type": "code",
   "execution_count": null,
   "metadata": {},
   "outputs": [],
   "source": [
    "np.std(n16_blksplgapeg_ace[\"Avg persistence length\"])"
   ]
  },
  {
   "cell_type": "code",
   "execution_count": null,
   "metadata": {},
   "outputs": [],
   "source": [
    "np.mean(n16_blksplgapeg_ace[\"Avg Radius of gyration\"])"
   ]
  },
  {
   "cell_type": "code",
   "execution_count": null,
   "metadata": {},
   "outputs": [],
   "source": [
    "np.std(n16_blksplgapeg_ace[\"Avg Radius of gyration\"])"
   ]
  },
  {
   "cell_type": "code",
   "execution_count": null,
   "metadata": {},
   "outputs": [],
   "source": [
    "plt.figure(figsize=(7,7))\n",
    "plt.errorbar(blen_ppn6ace, np.log(cor_n6plgapeg_ace[0]), yerr=mk_n6ppace, color='teal', linestyle=\"None\",marker='o',\n",
    "     capsize=5, capthick=1, ecolor='black')\n",
    "plt.errorbar(blen_ppn8ace, np.log(cor_n8plgapeg_ace[0]), yerr=mk_n8ppace, color='dodgerblue', linestyle=\"None\",marker='o',\n",
    "     capsize=5, capthick=1, ecolor='black')\n",
    "plt.errorbar(blen_ppn10ace, np.log(cor_n10plgapeg_ace[0]), yerr=mk_n10ppace, color='darkmagenta', linestyle=\"None\",marker='o',\n",
    "     capsize=5, capthick=1, ecolor='black')\n",
    "plt.errorbar(blen_ppn16ace, np.log(cor_n16plgapeg_ace[0]), yerr=mk_n16ppace, color='maroon', linestyle=\"None\",marker='o',\n",
    "     capsize=5, capthick=1, ecolor='black')\n",
    "plt.plot(blen_ppn16ace, gg_n6plgapeg_n16ace, color='teal')\n",
    "plt.plot(blen_ppn16ace, gg_n8plgapeg_n16ace, color='dodgerblue')\n",
    "plt.plot(blen_ppn16ace, gg_n10plgapeg_n16ace, color='darkmagenta')\n",
    "plt.plot(blen_ppn16ace, gg_n16plgapeg_ace, color='maroon')\n",
    "plt.title(r'Ensemble Averaged ln(Cosine $\\theta$) PLGA-PEG in acetone', fontsize=15, y=1.01)\n",
    "plt.xlabel(r'Bond Length', fontsize=15)\n",
    "plt.ylabel(r'ln$\\left< Cos(\\theta)\\right >$', fontsize=15)\n",
    "plt.ylim(-6,1)\n",
    "plt.xlim(0,70)\n",
    "#plt.ylim(-1.9,0)\n",
    "font = font_manager.FontProperties(family='Arial', style='normal', size='14')\n",
    "#plt.legend([r'$N_{PEG}$ = 6: $L_{p}$ = 18.8 $\\AA$ ± 3.60 $\\AA$'], loc=3, frameon=0, fontsize=14, prop=font)\n",
    "plt.tick_params(labelsize=14)\n",
    "plt.text(0.5, -5.9,r'$N_{PLGA-PEG}$ = 6: $L_{p}$ = 24.7 $\\AA$ ± 1.34 $\\AA$', fontsize=15, color='teal')\n",
    "plt.text(0.5, -5.58,r'$N_{PLGA-PEG}$ = 8: $L_{p}$ = 27.3.0 $\\AA$ ± 4.09 $\\AA$', fontsize=15, color='dodgerblue')\n",
    "plt.text(0.5, -5.23,r'$N_{PLGA-PEG}$ = 10: $L_{p}$ = 27.5 $\\AA$ ± 2.92 $\\AA$', fontsize=15, color='darkmagenta')\n",
    "plt.text(0.5, -4.90,r'$N_{PLGA-PEG}$ = 16: $L_{p}$ = 31.3 $\\AA$ ± 2.30 $\\AA$', fontsize=15, color='maroon')"
   ]
  },
  {
   "cell_type": "code",
   "execution_count": null,
   "metadata": {},
   "outputs": [],
   "source": [
    "rgplgapeg_olig_ace[r\"$R_{g}$ [Angstrom] N = 16 PLGA-PEG acetone\"] = n16_blksplgapeg_ace[\"Avg Radius of gyration\"]\n",
    "rgplgapeg_olig_ace"
   ]
  },
  {
   "cell_type": "code",
   "execution_count": null,
   "metadata": {},
   "outputs": [],
   "source": [
    "pers_plgapegt_ace[r\"$L_{p}$ [Angstrom] N = 16 PLGA-PEG acetone\"] = n16_blksplgapeg_ace[\"Avg persistence length\"]\n",
    "pers_plgapegt_ace"
   ]
  },
  {
   "cell_type": "code",
   "execution_count": null,
   "metadata": {},
   "outputs": [],
   "source": []
  },
  {
   "cell_type": "code",
   "execution_count": null,
   "metadata": {},
   "outputs": [],
   "source": []
  },
  {
   "cell_type": "code",
   "execution_count": null,
   "metadata": {},
   "outputs": [],
   "source": []
  },
  {
   "cell_type": "code",
   "execution_count": null,
   "metadata": {},
   "outputs": [],
   "source": []
  },
  {
   "cell_type": "markdown",
   "metadata": {},
   "source": [
    "### N = 20 PLGA-PEG/acetone "
   ]
  },
  {
   "cell_type": "code",
   "execution_count": null,
   "metadata": {},
   "outputs": [],
   "source": [
    "# For the right Rg calculation using MD Analysis, use trajactory without pbc \n",
    "n20_plgapeg_ace = mda.Universe(\"n20plga_peg_ace/n20plgapeg_ACE.pdb\", \"n20plga_peg_ace/NoAce_n20plgapeg.xtc\")"
   ]
  },
  {
   "cell_type": "code",
   "execution_count": null,
   "metadata": {},
   "outputs": [],
   "source": [
    "n20_plgapeg_ace.trajectory"
   ]
  },
  {
   "cell_type": "code",
   "execution_count": null,
   "metadata": {},
   "outputs": [],
   "source": [
    "len(n20_plgapeg_ace.trajectory)"
   ]
  },
  {
   "cell_type": "code",
   "execution_count": null,
   "metadata": {},
   "outputs": [],
   "source": [
    "#Select the polymer heavy atoms \n",
    "plgapeg_n20ace = n20_plgapeg_ace.select_atoms(\"resname sPLG PLG bPLG bPEG PEG sPEG and not type H\")"
   ]
  },
  {
   "cell_type": "code",
   "execution_count": null,
   "metadata": {},
   "outputs": [],
   "source": [
    "np.unique(plgapeg_n20ace.resids)"
   ]
  },
  {
   "cell_type": "code",
   "execution_count": null,
   "metadata": {},
   "outputs": [],
   "source": [
    "# Get cosine theta values at frame 0 \n",
    "crv_n20plgapeg_ace = pers_length(plgapeg_n20ace,20)\n",
    "crv_n20plgapeg_ace"
   ]
  },
  {
   "cell_type": "markdown",
   "metadata": {},
   "source": [
    "#### Orientation Order parameter vs. time "
   ]
  },
  {
   "cell_type": "code",
   "execution_count": 25,
   "metadata": {},
   "outputs": [],
   "source": [
    "n20_mon = 20\n",
    "start = 0\n",
    "end = 36001"
   ]
  },
  {
   "cell_type": "code",
   "execution_count": null,
   "metadata": {},
   "outputs": [],
   "source": [
    "OOp_n20plgapeg_ace = orientation_order_param(plgapeg_n20ace, n20_plgapeg_ace, n20_mon, start, end)"
   ]
  },
  {
   "cell_type": "code",
   "execution_count": null,
   "metadata": {},
   "outputs": [],
   "source": [
    "OOp_n20plgapeg_ace.shape"
   ]
  },
  {
   "cell_type": "code",
   "execution_count": null,
   "metadata": {},
   "outputs": [],
   "source": [
    "trj_len = np.arange(36001)\n",
    "plt.figure(figsize=(7,7))\n",
    "plt.title(r'PLGA-PEG Orientation Order Parameter', fontsize=18, y=1.01)\n",
    "plt.xlabel(r'Time [ns]', fontsize=15)\n",
    "plt.ylabel(r'Z', fontsize=15)\n",
    "plt.plot(trj_len/100, OOp_n6plgapeg_ace,linewidth=2, color='teal')\n",
    "plt.plot(trj_len/100, OOp_n8plgapeg_ace,linewidth=2, color='dodgerblue')\n",
    "plt.plot(trj_len/100, OOp_n10plgapeg_ace,linewidth=2, color='darkmagenta')\n",
    "plt.plot(trj_len/100, OOp_n16plgapeg_ace,linewidth=2, color='maroon')\n",
    "plt.plot(trj_len/100, OOp_n20plgapeg_ace,linewidth=2, color='orangered')\n",
    "plt.tick_params(labelsize=14)\n",
    "plt.legend(['N = 6 in acetone', 'N = 8 in acetone','N = 10 in acetone','N = 16 in acetone','N = 20 in acetone'], frameon=False, fontsize=14)\n",
    "#plt.text(127, 0.96,r'N = 6 in acetone', fontsize=18, color='#1F2E69', family='Arial')\n",
    "plt.xlim(0,360)\n",
    "plt.ylim(-1,1)"
   ]
  },
  {
   "cell_type": "markdown",
   "metadata": {},
   "source": [
    "#### Mean Orientation Order Parameter for N = 20 PLGA-PEG in acetone"
   ]
  },
  {
   "cell_type": "code",
   "execution_count": null,
   "metadata": {},
   "outputs": [],
   "source": [
    "OOp_n20plgapeg_ace[82]"
   ]
  },
  {
   "cell_type": "code",
   "execution_count": null,
   "metadata": {},
   "outputs": [],
   "source": [
    "OOp_n20plgapeg_ace[239]"
   ]
  },
  {
   "cell_type": "code",
   "execution_count": null,
   "metadata": {},
   "outputs": [],
   "source": [
    "np.mean(OOp_n20plgapeg_ace)"
   ]
  },
  {
   "cell_type": "code",
   "execution_count": null,
   "metadata": {},
   "outputs": [],
   "source": [
    "np.std(OOp_n20plgapeg_ace)"
   ]
  },
  {
   "cell_type": "markdown",
   "metadata": {},
   "source": [
    "#### Mean squared end to end distance "
   ]
  },
  {
   "cell_type": "code",
   "execution_count": null,
   "metadata": {},
   "outputs": [],
   "source": [
    "eVec_n20plgapeg_ace, e2edis_n20plgapeg_ace = mean_sq_e2e(plgapeg_n20ace, n20_plgapeg_ace, n20_mon, start, end)"
   ]
  },
  {
   "cell_type": "code",
   "execution_count": null,
   "metadata": {},
   "outputs": [],
   "source": [
    "trj_len = np.arange(36001)\n",
    "plt.figure(figsize=(7,7))\n",
    "plt.title(r'PLGA-PEG End to End distance', fontsize=18, y=1.01)\n",
    "plt.xlabel(r'Time [ns]', fontsize=15)\n",
    "plt.ylabel(r'$R_{ee}$ [nm]', fontsize=15)\n",
    "plt.plot(trj_len/100, e2edis_n6plgapeg_ace[1]/10,linewidth=2, color='teal')\n",
    "plt.plot(trj_len/100, e2edis_n8plgapeg_ace[1]/10,linewidth=2, color='dodgerblue')\n",
    "plt.plot(trj_len/100, e2edis_n10plgapeg_ace[1]/10,linewidth=2, color='darkmagenta')\n",
    "plt.plot(trj_len/100, e2edis_n16plgapeg_ace[1]/10,linewidth=2, color='maroon')\n",
    "plt.plot(trj_len/100, e2edis_n20plgapeg_ace[1]/10,linewidth=2, color='orangered')\n",
    "plt.tick_params(labelsize=14)\n",
    "plt.legend(['N = 6 in acetone', 'N = 8 in acetone','N = 10 in acetone','N = 16 in acetone','N = 20 in acetone'], frameon=False, fontsize=14)\n",
    "#plt.text(127, 0.96,r'N = 6 in acetone', fontsize=18, color='#1F2E69', family='Arial')\n",
    "plt.xlim(0,360)\n",
    "plt.ylim(0,10)"
   ]
  },
  {
   "cell_type": "markdown",
   "metadata": {},
   "source": [
    "#### Ree Autocorrelation function"
   ]
  },
  {
   "cell_type": "code",
   "execution_count": null,
   "metadata": {},
   "outputs": [],
   "source": [
    "e2edis_n20plgapeg_ace[1]"
   ]
  },
  {
   "cell_type": "code",
   "execution_count": null,
   "metadata": {},
   "outputs": [],
   "source": [
    "t_corr = 4000\n",
    "window_shift = 6"
   ]
  },
  {
   "cell_type": "code",
   "execution_count": null,
   "metadata": {},
   "outputs": [],
   "source": [
    "ACn20plgapegace_Ree, eqvar_n120pegace = obs_autocorr_RA(e2edis_n20plgapeg_ace[1],t_corr, window_shift,start,end)"
   ]
  },
  {
   "cell_type": "code",
   "execution_count": null,
   "metadata": {},
   "outputs": [],
   "source": [
    "ACn20plgapegace_Ree"
   ]
  },
  {
   "cell_type": "code",
   "execution_count": null,
   "metadata": {},
   "outputs": [],
   "source": [
    "eqvar_n16plgapegace"
   ]
  },
  {
   "cell_type": "code",
   "execution_count": null,
   "metadata": {},
   "outputs": [],
   "source": [
    "ACn20plgapegace_sqRee, evsqRee_n20plgapegace = obs_autocorr_RA(e2edis_n20plgapeg_ace[0],t_corr, window_shift,start,end)"
   ]
  },
  {
   "cell_type": "code",
   "execution_count": null,
   "metadata": {},
   "outputs": [],
   "source": [
    "np.sqrt(evsqRee_n20plgapegace)"
   ]
  },
  {
   "cell_type": "code",
   "execution_count": null,
   "metadata": {},
   "outputs": [],
   "source": [
    "plt.figure(figsize=(7,7))\n",
    "plt.title(r'PEG Ree autocorrelation', fontsize=18, y=1.01)\n",
    "plt.xlabel(r'Time [ns]', fontsize=15)\n",
    "plt.ylabel(r'$C_{A}(t)$', fontsize=15)\n",
    "plt.plot(ACn6plgapegace_Ree[1]/100, ACn6plgapegace_Ree[0],linewidth=2, color='#1F2E69')\n",
    "plt.plot(ACn8plgapegace_Ree[1]/100, ACn8plgapegace_Ree[0],linewidth=2, color='#4C80ED')\n",
    "plt.plot(ACn10plgapegace_Ree[1]/100, ACn10plgapegace_Ree[0],linewidth=2, color='#8C52FC')\n",
    "plt.plot(ACn16plgapegace_Ree[1]/100, ACn16plgapegace_Ree[0],linewidth=2, color='purple')\n",
    "plt.plot(ACn20plgapegace_Ree[1]/100, ACn20plgapegace_Ree[0],linewidth=2, color='#8B7F47')\n",
    "plt.tick_params(labelsize=14)\n",
    "plt.legend(['N = 6 Ree','N = 8 Ree','N = 10 Ree','N = 15 Ree','N = 20 Ree'], frameon=False, fontsize=14)\n",
    "#plt.yscale('symlog', linthreshy=0.5)\n",
    "#plt.xscale('symlog')\n",
    "plt.xlim(0,70)\n",
    "plt.ylim(-1,1)"
   ]
  },
  {
   "cell_type": "markdown",
   "metadata": {},
   "source": [
    "### Hydrodynamic Radius vs time"
   ]
  },
  {
   "cell_type": "code",
   "execution_count": null,
   "metadata": {},
   "outputs": [],
   "source": [
    "plgapegn20ace_rh = hydro_rad_poly(plgapeg_n20ace, n20_plgapeg_ace, n20_mon, start, end)"
   ]
  },
  {
   "cell_type": "code",
   "execution_count": null,
   "metadata": {},
   "outputs": [],
   "source": [
    "trj_len = np.arange(36001)\n",
    "plt.figure(figsize=(7,7))\n",
    "plt.title(r'PLGA-PEG Hydrodynamic Radius', fontsize=18, y=1.01)\n",
    "plt.xlabel(r'Time [ns]', fontsize=15)\n",
    "plt.ylabel(r'$R_{hyd}$ [nm]', fontsize=15)\n",
    "plt.plot(trj_len/100, plgapegn6ace_rh/10,linewidth=2, color='teal')\n",
    "plt.plot(trj_len/100, plgapegn8ace_rh/10,linewidth=2, color='dodgerblue')\n",
    "plt.plot(trj_len/100, plgapegn10ace_rh/10,linewidth=2, color='darkmagenta')\n",
    "plt.plot(trj_len/100, plgapegn16ace_rh/10,linewidth=2, color='maroon')\n",
    "plt.plot(trj_len/100, plgapegn20ace_rh/10,linewidth=2, color='orangered')\n",
    "plt.tick_params(labelsize=14)\n",
    "plt.legend(['N = 6 in acetone', 'N = 8 in acetone','N = 10 in acetone','N = 16 in acetone','N = 20 in acetone'], frameon=False, fontsize=14)\n",
    "#plt.text(127, 0.96,r'N = 6 in acetone', fontsize=18, color='#1F2E69', family='Arial')\n",
    "plt.xlim(0,360)\n",
    "plt.ylim(0,6)"
   ]
  },
  {
   "cell_type": "markdown",
   "metadata": {},
   "source": [
    "#### Rh autocorrelation"
   ]
  },
  {
   "cell_type": "code",
   "execution_count": 26,
   "metadata": {},
   "outputs": [
    {
     "name": "stdout",
     "output_type": "stream",
     "text": [
      "No. of Samples: 3223\n"
     ]
    }
   ],
   "source": [
    "ACn20plgapegaceRh, eqvarRh_n20plgapegace = obs_autocorr_RA(plgapegn20ace_rh,t_corr, window_shift,start,end)"
   ]
  },
  {
   "cell_type": "code",
   "execution_count": 27,
   "metadata": {},
   "outputs": [
    {
     "data": {
      "text/plain": [
       "array([[ 1.00000000e+00,  9.99395590e-01,  9.82525164e-01, ...,\n",
       "        -8.26673788e-01, -8.12687512e-01, -8.01019600e-01],\n",
       "       [ 0.00000000e+00,  1.00000000e+00,  2.00000000e+00, ...,\n",
       "         6.99700000e+03,  6.99800000e+03,  6.99900000e+03]])"
      ]
     },
     "execution_count": 27,
     "metadata": {},
     "output_type": "execute_result"
    }
   ],
   "source": [
    "ACn20plgapegaceRh"
   ]
  },
  {
   "cell_type": "code",
   "execution_count": 28,
   "metadata": {},
   "outputs": [
    {
     "data": {
      "text/plain": [
       "9.179366770777108"
      ]
     },
     "execution_count": 28,
     "metadata": {},
     "output_type": "execute_result"
    }
   ],
   "source": [
    "eqvarRh_n20plgapegace"
   ]
  },
  {
   "cell_type": "code",
   "execution_count": null,
   "metadata": {},
   "outputs": [],
   "source": [
    "plt.figure(figsize=(7,7))\n",
    "plt.title(r'PEG Rh autocorrelation', fontsize=18, y=1.01)\n",
    "plt.xlabel(r'Time [ns]', fontsize=15)\n",
    "plt.ylabel(r'$C_{Rh}(t)$', fontsize=15)\n",
    "plt.plot(ACn6plgapegaceRh[1]/100, ACn6plgapegaceRh[0],linewidth=2, color='#1F2E69')\n",
    "plt.plot(ACn8plgapegaceRh[1]/100, ACn8plgapegaceRh[0],linewidth=2, color='#4C80ED')\n",
    "plt.plot(ACn10plgapegaceRh[1]/100, ACn10plgapegaceRh[0],linewidth=2, color='#8C52FC')\n",
    "plt.plot(ACn16plgapegaceRh[1]/100, ACn16plgapegaceRh[0],linewidth=2, color='purple')\n",
    "plt.plot(ACn20plgapegaceRh[1]/100, ACn20plgapegaceRh[0],linewidth=2, color='#8B7F47')\n",
    "plt.tick_params(labelsize=14)\n",
    "plt.legend(['N = 6 in acetone','N = 8 in acetone','N = 10 in acetone','N = 15 in acetone','N = 20 in acetone'], frameon=False, fontsize=14)\n",
    "plt.xlim(0,70)\n",
    "#plt.ylim(-2,1.5)"
   ]
  },
  {
   "cell_type": "markdown",
   "metadata": {},
   "source": [
    "### Relaxation times vs monomer length "
   ]
  },
  {
   "cell_type": "code",
   "execution_count": null,
   "metadata": {},
   "outputs": [],
   "source": [
    "# Key variables \n",
    "# def pos_bead_autocorr_RA(polymer_atoms, universe, n_monomers, t_corr,  start, end):\n",
    "n20_mon = 20 \n",
    "start = 0\n",
    "end = 36001\n",
    "t_corr = 2000\n",
    "window_shift = 20"
   ]
  },
  {
   "cell_type": "code",
   "execution_count": null,
   "metadata": {},
   "outputs": [],
   "source": [
    "s_time = timeit.default_timer()\n",
    "tcRA_plgapegn20ace, tcSUM_plgapegn20ace = pos_bead_autocorr_RA(plgapeg_n20ace, n20_plgapeg_ace, n20_mon, t_corr, window_shift, start, end)\n",
    "timeit.default_timer() - s_time"
   ]
  },
  {
   "cell_type": "code",
   "execution_count": null,
   "metadata": {},
   "outputs": [],
   "source": [
    "tcRA_plgapegn20ace"
   ]
  },
  {
   "cell_type": "code",
   "execution_count": null,
   "metadata": {},
   "outputs": [],
   "source": [
    "tcSUM_plgapegn20ace.shape"
   ]
  },
  {
   "cell_type": "markdown",
   "metadata": {},
   "source": [
    "### Fitting autocorrelation data "
   ]
  },
  {
   "cell_type": "code",
   "execution_count": null,
   "metadata": {},
   "outputs": [],
   "source": [
    "xdata_plgapegn20ace = tcRA_plgapegn20ace[1]/100\n",
    "ydata_plgapegn20ace = tcRA_plgapegn20ace[0]"
   ]
  },
  {
   "cell_type": "code",
   "execution_count": null,
   "metadata": {},
   "outputs": [],
   "source": [
    "ydata_plgapegn20ace.shape"
   ]
  },
  {
   "cell_type": "code",
   "execution_count": null,
   "metadata": {},
   "outputs": [],
   "source": [
    "xdata_plgapegn20ace.shape"
   ]
  },
  {
   "cell_type": "code",
   "execution_count": null,
   "metadata": {},
   "outputs": [],
   "source": [
    "plt.figure(figsize=(8,8))\n",
    "plt.rcParams[\"font.family\"] = \"Arial\"\n",
    "plt.scatter(xdata_plgapegn6ace, ydata_plgapegn6ace, color='teal', s=s_n6)\n",
    "plt.scatter(xdata_plgapegn8ace, ydata_plgapegn8ace, color='dodgerblue', s=s_n8)\n",
    "plt.scatter(xdata_plgapegn10ace, ydata_plgapegn10ace, color='darkmagenta', s=s_n10)\n",
    "plt.scatter(xdata_plgapegn16ace, ydata_plgapegn16ace, color='maroon', s=s_n16)\n",
    "plt.scatter(xdata_plgapegn20ace, ydata_plgapegn20ace, color='orangered', s=s_n20)\n",
    "plt.title(r'Positional bead autocorrelation PLGA-PEG in acetone', fontsize=18)\n",
    "plt.xlabel(r'Time lag [ns]', fontsize=18)\n",
    "plt.ylabel('C(t)', fontsize=18)\n",
    "#plt.legend(fontsize=14, frameon=False)\n",
    "plt.xticks(fontsize=18)\n",
    "plt.yticks(fontsize=18)\n",
    "#plt.yscale('symlog', linthreshy=0.5)\n",
    "plt.xscale('symlog')\n",
    "plt.grid(b=True)\n",
    "plt.xlim(0,300)\n",
    "plt.ylim(-1,1)\n",
    "plt.tick_params(labelsize=18, direction='in', which='both', width=1, length=10)"
   ]
  },
  {
   "cell_type": "code",
   "execution_count": null,
   "metadata": {},
   "outputs": [],
   "source": [
    "ts = 1\n",
    "hs = 0.1\n",
    "n20_mon = 20\n",
    "n_b = n20_mon - 1\n",
    "tr1 = 2\n",
    "zimm_relax_fit(ts,tr1,hs,n_b)"
   ]
  },
  {
   "cell_type": "code",
   "execution_count": null,
   "metadata": {},
   "outputs": [],
   "source": [
    "zimm_relax_func(ts,tr1,hs,n_b)"
   ]
  },
  {
   "cell_type": "code",
   "execution_count": null,
   "metadata": {},
   "outputs": [],
   "source": [
    "def res_plgapegn20ace(variabls, xnp, ynp):\n",
    "    #hs_np = variabls['h_star']\n",
    "    hs_np = 0.26\n",
    "    tr1_np = variabls['t_first']\n",
    "    n_bonds = 19\n",
    "    testnp = []\n",
    "    for i in range(len(xnp)):\n",
    "        model_ynp = zimm_relax_fit(xnp[i], tr1_np, hs_np, n_bonds)\n",
    "        #model_ynp = rouse_relax(xnp[i], tr1_np, n_m)\n",
    "        testnp.append(ynp[i] - model_ynp)\n",
    "    \n",
    "    tt_n6 = np.array(testnp)\n",
    "\n",
    "    return tt_n6\n",
    "    \n",
    "#x1 = np.array([0,0])\n",
    "#pfit, pcov, infodict, errmsg, success = leastsq(res_poly, x1, args=(xdata, ydata), full_output=1)"
   ]
  },
  {
   "cell_type": "code",
   "execution_count": null,
   "metadata": {},
   "outputs": [],
   "source": [
    "ppfit_n20ace = Parameters()\n",
    "#ppfit_n20ace.add(name='h_star', value=0, min=0, max=0.26, vary=True)\n",
    "ppfit_n20ace.add(name='t_first', value=2)"
   ]
  },
  {
   "cell_type": "code",
   "execution_count": null,
   "metadata": {},
   "outputs": [],
   "source": [
    "mini_ppn20ace = Minimizer(res_plgapegn20ace, ppfit_n20ace, fcn_args=(xdata_plgapegn20ace, ydata_plgapegn20ace))\n",
    "out_ppn20ace = mini_ppn20ace.leastsq()\n",
    "#bfit_n10 = ydata_n10ace + out_n10ace.residual "
   ]
  },
  {
   "cell_type": "code",
   "execution_count": null,
   "metadata": {},
   "outputs": [],
   "source": [
    "report_fit(out_ppn20ace.params)"
   ]
  },
  {
   "cell_type": "code",
   "execution_count": null,
   "metadata": {},
   "outputs": [],
   "source": [
    "out_ppn20ace.params"
   ]
  },
  {
   "cell_type": "code",
   "execution_count": null,
   "metadata": {},
   "outputs": [],
   "source": [
    "# with h varying, tr = 3.00467272 +/- 0.01912909, h* = 0.25999999 +/- 0.44213390\n",
    "tace_n20plgapeg = []\n",
    "n_bonds = 19\n",
    "for i in range(len(xdata_plgapegn20ace)):\n",
    "    tace_n20plgapeg.append(zimm_relax_fit(xdata_plgapegn20ace[i], 3.00483233, 0.26,  n_bonds))\n"
   ]
  },
  {
   "cell_type": "code",
   "execution_count": null,
   "metadata": {},
   "outputs": [],
   "source": [
    "t_c, tz_n20plgapeg, zimm_n20plgapeg, rouse_n20plgapeg = zimm_relax_func(1, 3.00483233, 0.26,  n_bonds)"
   ]
  },
  {
   "cell_type": "code",
   "execution_count": null,
   "metadata": {},
   "outputs": [],
   "source": [
    "x_pos_n10 = np.arange(9)\n",
    "x_pos_n16 = np.arange(15)\n",
    "x_pos_n20 = np.arange(19)\n",
    "width = 0.25\n",
    "aa_types_n20 = [r\"$\\tau_{1}$\", r\"$\\tau_{2}$\", r\"$\\tau_{3}$\", r\"$\\tau_{4}$\", r\"$\\tau_{5}$\",r\"$\\tau_{6}$\",r\"$\\tau_{7}$\",\n",
    "           r\"$\\tau_{8}$\", r\"$\\tau_{9}$\",r\"$\\tau_{10}$\", r\"$\\tau_{11}$\", r\"$\\tau_{12}$\", r\"$\\tau_{13}$\", r\"$\\tau_{14}$\",\n",
    "            r\"$\\tau_{15}$\",r\"$\\tau_{16}$\",r\"$\\tau_{17}$\", r\"$\\tau_{18}$\", r\"$\\tau_{19}$\"]\n",
    "fig = plt.figure(figsize=(7,7))\n",
    "plt.title('PLGA-PEG in acetone', fontsize=18)\n",
    "plt.bar(x_pos_n10+(2*width), tz_n10plgapeg, width, ecolor='black',capsize=5, color='darkmagenta', label='N = 10', align='center')\n",
    "plt.bar(x_pos_n16+width, tz_n16plgapeg, width, ecolor='black',capsize=5, color='maroon', label='N = 16')\n",
    "plt.bar(x_pos_n20, tz_n20plgapeg, width, ecolor='black',capsize=5, color='orangered', label='N = 20', align='center')\n",
    "plt.xticks(x_pos_n20, labels=aa_types_n20, fontsize=12)\n",
    "plt.legend(fontsize=12 ,frameon=False)\n",
    "plt.ylabel(r'Relaxation times [ns]', fontsize=15)"
   ]
  },
  {
   "cell_type": "code",
   "execution_count": null,
   "metadata": {},
   "outputs": [],
   "source": [
    "aa_eigen_n20 = [r\"$a_{1}$\", r\"$a_{2}$\", r\"$a_{3}$\", r\"$a_{4}$\", r\"$a_{5}$\",r\"$a_{6}$\",r\"$a_{7}$\",r\"$a_{8}$\",\n",
    "           r\"$a_{9}$\",r\"$a_{10}$\", r\"$a_{11}$\", r\"$a_{12}$\", r\"$a_{13}$\", r\"$a_{14}$\",r\"$a_{15}$\",r\"$a_{16}$\",r\"$a_{17}$\",\n",
    "           r\"$a_{18}$\",r\"$a_{19}$\"]\n",
    "fig = plt.figure(figsize=(7,7))\n",
    "plt.title('PLGA-PEG in acetone N = 20', fontsize=18)\n",
    "plt.bar(x_pos_n20, rouse_n20plgapeg, width,ecolor='black',capsize=5, color='c', label='Rouse')\n",
    "plt.bar(x_pos_n20+width, zimm_n20plgapeg, width,ecolor='black',capsize=5, color='m', label='Zimm')\n",
    "plt.xticks(x_pos_n20+width,labels=aa_eigen_n20, fontsize=12)\n",
    "plt.legend(fontsize=12 ,frameon=False)\n",
    "plt.ylabel(r'Rouse and Zimm eigenvalues', fontsize=15)"
   ]
  },
  {
   "cell_type": "code",
   "execution_count": null,
   "metadata": {},
   "outputs": [],
   "source": [
    "plt.figure(figsize=(8,8))\n",
    "plt.rcParams[\"font.family\"] = \"Arial\"\n",
    "plt.scatter(xdata_plgapegn6ace, ydata_plgapegn6ace, color='teal', s=s_n6)\n",
    "plt.scatter(xdata_plgapegn8ace, ydata_plgapegn8ace, color='dodgerblue', s=s_n8)\n",
    "plt.scatter(xdata_plgapegn10ace, ydata_plgapegn10ace, color='darkmagenta', s=s_n10)\n",
    "plt.scatter(xdata_plgapegn16ace, ydata_plgapegn16ace, color='maroon', s=s_n16)\n",
    "plt.scatter(xdata_plgapegn20ace, ydata_plgapegn20ace, color='orangered', s=s_n20)\n",
    "plt.plot(xdata_plgapegn6ace, tace_n6plgapeg, color='teal')\n",
    "plt.plot(xdata_plgapegn8ace, tace_n8plgapeg, color='dodgerblue')\n",
    "plt.plot(xdata_plgapegn10ace, tace_n10plgapeg, color='darkmagenta')\n",
    "plt.plot(xdata_plgapegn16ace, tace_n16plgapeg, color='maroon')\n",
    "plt.plot(xdata_plgapegn20ace, tace_n20plgapeg, color='orangered')\n",
    "plt.title(r'Positional bead autocorrelation PLGA-PEG in acetone', fontsize=18, y=1.03)\n",
    "plt.xlabel(r'Time lag [ns]', fontsize=18)\n",
    "plt.ylabel('C(t)', fontsize=18)\n",
    "#plt.legend(fontsize=14, frameon=False)\n",
    "plt.xticks(fontsize=18)\n",
    "plt.yticks(fontsize=18)\n",
    "#plt.yscale('symlog', linthreshy=0.5)\n",
    "plt.xscale('symlog')\n",
    "plt.grid(b=True)\n",
    "plt.xlim(0,300)\n",
    "plt.ylim(-1,1)\n",
    "plt.tick_params(labelsize=18, direction='in', which='both', width=1, length=10)"
   ]
  },
  {
   "cell_type": "code",
   "execution_count": null,
   "metadata": {},
   "outputs": [],
   "source": [
    "rppace_msen20 = np.array([ydata_plgapegn20ace - np.array(tace_n20plgapeg)])\n",
    "rppace_msen20"
   ]
  },
  {
   "cell_type": "code",
   "execution_count": null,
   "metadata": {},
   "outputs": [],
   "source": [
    "plt.figure(figsize=(7,7))\n",
    "plt.rcParams[\"font.family\"] = \"Arial\"\n",
    "plt.scatter(xdata_plgapegn6ace, rppace_msen6, color='teal', s=s_n6)\n",
    "plt.scatter(xdata_plgapegn8ace, rppace_msen8, color='dodgerblue', s=s_n8)\n",
    "plt.scatter(xdata_plgapegn10ace, rppace_msen10, color='darkmagenta', s=s_n10)\n",
    "plt.scatter(xdata_plgapegn16ace, rppace_msen16, color='orangered', s=s_n16)\n",
    "plt.scatter(xdata_plgapegn20ace, rppace_msen20, color='maroon', s=s_n20)\n",
    "plt.title(r'Relaxation time Fitting Residuals PLGA in acetone', fontsize=18)\n",
    "plt.xlabel(r'Time lag [ns]', fontsize=18)\n",
    "plt.ylabel('Residuals', fontsize=18)\n",
    "plt.xticks(fontsize=14)\n",
    "plt.yticks(fontsize=14)\n",
    "plt.xlim([0,100])\n",
    "plt.ylim([-0.7,1])\n",
    "plt.tick_params(labelsize=15)"
   ]
  },
  {
   "cell_type": "markdown",
   "metadata": {},
   "source": [
    "#### Radius of Gyration vs. time N = 20 PLGA-PEG in acetone"
   ]
  },
  {
   "cell_type": "code",
   "execution_count": null,
   "metadata": {},
   "outputs": [],
   "source": [
    "# Key variables \n",
    "n20_mon = 20\n",
    "start = 0\n",
    "end = 36001"
   ]
  },
  {
   "cell_type": "code",
   "execution_count": null,
   "metadata": {},
   "outputs": [],
   "source": [
    "n20plgapeg_rgens_ace, cor_n20plgapeg_ace, n20plgapeg_cos_ace, rgace_n20plgapeg = get_rg_pers_poly(plgapeg_n20ace, n20_plgapeg_ace,\n",
    "                                                                                                  start,end)"
   ]
  },
  {
   "cell_type": "code",
   "execution_count": null,
   "metadata": {},
   "outputs": [],
   "source": [
    "n20plgapeg_rgens_ace[0].shape"
   ]
  },
  {
   "cell_type": "code",
   "execution_count": null,
   "metadata": {},
   "outputs": [],
   "source": [
    "cor_n20plgapeg_ace[3]"
   ]
  },
  {
   "cell_type": "code",
   "execution_count": null,
   "metadata": {},
   "outputs": [],
   "source": [
    "n20plgapeg_cos_ace"
   ]
  },
  {
   "cell_type": "code",
   "execution_count": null,
   "metadata": {},
   "outputs": [],
   "source": [
    "rgace_n20plgapeg"
   ]
  },
  {
   "cell_type": "code",
   "execution_count": null,
   "metadata": {},
   "outputs": [],
   "source": [
    "n20plgapeg_rgens_ace.shape"
   ]
  },
  {
   "cell_type": "code",
   "execution_count": null,
   "metadata": {},
   "outputs": [],
   "source": [
    "trj_len = np.arange(36001)\n",
    "plt.figure(figsize=(7,7))\n",
    "plt.title(r'PLGA-PEG Radius of Gyration', fontsize=18, y=1.01)\n",
    "plt.xlabel(r'Time [ns]', fontsize=15)\n",
    "plt.ylabel(r'$R_{g}$ [nm]', fontsize=15)\n",
    "plt.plot(trj_len/100, n6plgapeg_rgens_ace[0]/10,linewidth=2, color='teal')\n",
    "plt.plot(trj_len/100, n8plgapeg_rgens_ace[0]/10,linewidth=2, color='dodgerblue')\n",
    "plt.plot(trj_len/100, n10plgapeg_rgens_ace[0]/10,linewidth=2, color='darkmagenta')\n",
    "plt.plot(trj_len/100, n16plgapeg_rgens_ace[0]/10,linewidth=2, color='maroon')\n",
    "plt.plot(trj_len/100, n20plgapeg_rgens_ace[0]/10,linewidth=2, color='orangered')\n",
    "plt.tick_params(labelsize=14)\n",
    "plt.legend(['N = 6 in acetone', 'N = 8 in acetone','N = 10 in acetone','N = 16 in acetone','N = 20 in acetone'], frameon=False, fontsize=14)\n",
    "#plt.text(127, 0.96,r'N = 6 in acetone', fontsize=18, color='#1F2E69', family='Arial')\n",
    "plt.xlim(0,360)\n",
    "plt.ylim(0.2,2)"
   ]
  },
  {
   "cell_type": "markdown",
   "metadata": {},
   "source": [
    "#### Rg Autocorrelation"
   ]
  },
  {
   "cell_type": "code",
   "execution_count": 57,
   "metadata": {},
   "outputs": [
    {
     "name": "stdout",
     "output_type": "stream",
     "text": [
      "No. of Samples: 3223\n"
     ]
    }
   ],
   "source": [
    "ACn20plgapegace_Rg, eqvarRg_n20plgapegace = obs_autocorr_RA(n20plgapeg_rgens_ace[0],t_corr, window_shift,start,end)"
   ]
  },
  {
   "cell_type": "code",
   "execution_count": 58,
   "metadata": {},
   "outputs": [
    {
     "data": {
      "text/plain": [
       "array([[ 1.00000000e+00,  9.97387300e-01,  9.95246709e-01, ...,\n",
       "        -7.68521719e-01, -7.65072150e-01, -7.67939462e-01],\n",
       "       [ 0.00000000e+00,  1.00000000e+00,  2.00000000e+00, ...,\n",
       "         6.99700000e+03,  6.99800000e+03,  6.99900000e+03]])"
      ]
     },
     "execution_count": 58,
     "metadata": {},
     "output_type": "execute_result"
    }
   ],
   "source": [
    "ACn20plgapegace_Rg"
   ]
  },
  {
   "cell_type": "code",
   "execution_count": 59,
   "metadata": {},
   "outputs": [
    {
     "data": {
      "text/plain": [
       "8.340895179654964"
      ]
     },
     "execution_count": 59,
     "metadata": {},
     "output_type": "execute_result"
    }
   ],
   "source": [
    "eqvarRg_n20plgapegace"
   ]
  },
  {
   "cell_type": "code",
   "execution_count": null,
   "metadata": {},
   "outputs": [],
   "source": [
    "plt.figure(figsize=(7,7))\n",
    "plt.title(r'PEG in acetone autocorrelation', fontsize=18, y=1.01)\n",
    "plt.xlabel(r'Time [ns]', fontsize=15)\n",
    "plt.ylabel(r'$C_{A}(t)$', fontsize=15)\n",
    "plt.plot(ACn6plgapegace_Rg[1]/100, ACn6plgapegace_Rg[0],linewidth=2, color='#1F2E69')\n",
    "plt.plot(ACn8plgapegace_Rg[1]/100, ACn8plgapegace_Rg[0],linewidth=2, color='#4C80ED')\n",
    "plt.plot(ACn10plgapegace_Rg[1]/100, ACn10plgapegace_Rg[0],linewidth=2, color='#8C52FC')\n",
    "plt.plot(ACn16plgapegace_Rg[1]/100, ACn16plgapegace_Rg[0],linewidth=2, color='purple')\n",
    "plt.plot(ACn20plgapegace_Rg[1]/100, ACn20plgapegace_Rg[0],linewidth=2, color='#8B7F47')\n",
    "plt.tick_params(labelsize=14)\n",
    "plt.legend(['N = 6 Rg','N = 8 Rg','N = 10 Rg','N = 15 Rg','N = 20 Rg'], frameon=False, fontsize=14)\n",
    "#plt.yscale('symlog', linthreshy=0.5)\n",
    "#plt.xscale('symlog')\n",
    "plt.xlim(0,70)\n",
    "plt.ylim(-1,1)"
   ]
  },
  {
   "cell_type": "markdown",
   "metadata": {},
   "source": [
    "#### Get average COM distance, arch length values"
   ]
  },
  {
   "cell_type": "code",
   "execution_count": null,
   "metadata": {},
   "outputs": [],
   "source": [
    "cb_n20plga = np.zeros(shape=(36001))\n",
    "cb_n20pplinker = np.zeros(shape=(36001))\n",
    "cb_n20plgapeg = np.zeros(shape=(36001))\n",
    "count = 0\n",
    "for ts in n20_plgapeg_ace.trajectory[0:36001]:\n",
    "    # 1st two PLGA residues\n",
    "    n20m1_plga = n20_plgapeg_ace.select_atoms(\"resid 1\")\n",
    "    n20m2_plga = n20_plgapeg_ace.select_atoms(\"resid 2\")\n",
    "    # PLGA-PEG linker (n_mon/2 to get to bPLG res no.)\n",
    "    n20pl_link = n20_plgapeg_ace.select_atoms(\"resid 10\")\n",
    "    n20plgapeg_link = n20_plgapeg_ace.select_atoms(\"resid 11\")\n",
    "    # last two PEG residues \n",
    "    n20l1_peg = n20_plgapeg_ace.select_atoms(\"resid 19\")\n",
    "    n20l2_peg = n20_plgapeg_ace.select_atoms(\"resid 20\")\n",
    "    \n",
    "    cb_n20plga[count] = mda.analysis.distances.distance_array(n20m1_plga.center_of_mass(), n20m2_plga.center_of_mass(), \n",
    "                                                   box=n20_plgapeg_ace.trajectory.ts.dimensions)\n",
    "    \n",
    "    cb_n20pplinker[count] = mda.analysis.distances.distance_array(n20pl_link.center_of_mass(), n20plgapeg_link.center_of_mass(), \n",
    "                                                   box=n20_plgapeg_ace.trajectory.ts.dimensions)\n",
    "    \n",
    "    cb_n20plgapeg[count] = mda.analysis.distances.distance_array(n20l1_peg.center_of_mass(), n20l2_peg.center_of_mass(), \n",
    "                                                   box=n20_plgapeg_ace.trajectory.ts.dimensions)\n",
    "    \n",
    "    count += 1\n",
    "    \n",
    "\n",
    "    "
   ]
  },
  {
   "cell_type": "code",
   "execution_count": null,
   "metadata": {},
   "outputs": [],
   "source": [
    "COM_ppn20ace = np.zeros(shape=(3,2))\n",
    "COM_ppn20ace[0,0] = np.mean(cb_n20plga)\n",
    "COM_ppn20ace[1,0] = np.mean(cb_n20pplinker)\n",
    "COM_ppn20ace[2,0] = np.mean(cb_n20plgapeg)\n",
    "COM_ppn20ace[0,1] = np.std(cb_n20plga)\n",
    "COM_ppn20ace[1,1] = np.std(cb_n20pplinker)\n",
    "COM_ppn20ace[2,1] = np.std(cb_n20plgapeg)\n",
    "COM_ppn20ace"
   ]
  },
  {
   "cell_type": "markdown",
   "metadata": {},
   "source": [
    "#### Correlation values at each arc length for the whole 360 ns trajectory, N = 20 PLGA-PEG/acetone"
   ]
  },
  {
   "cell_type": "code",
   "execution_count": null,
   "metadata": {},
   "outputs": [],
   "source": [
    "# x values\n",
    "blen_ppn20ace = np.zeros(shape=19)\n",
    "for i in range(n20_mon-1):\n",
    "    if i < int((n20_mon/2)-1):\n",
    "        # PLGA contour length values\n",
    "        if i == 0:\n",
    "            blen_ppn20ace[i] = 0\n",
    "        elif i != 0:\n",
    "            blen_ppn20ace[i] = np.sum(blen_ppn20ace[i-1]) + COM_ppn20ace[0,0]    \n",
    "    elif i == int((n20_mon/2)-1):\n",
    "        #PLGA-PEG linker length\n",
    "        blen_ppn20ace[i] = np.sum(blen_ppn20ace[i-1]) + COM_ppn20ace[1,0]\n",
    "    elif i > int((n20_mon/2)-1):\n",
    "    #    # PEG contour length values\n",
    "        blen_ppn20ace[i] = np.sum(blen_ppn20ace[i-1]) + COM_ppn20ace[2,0]\n",
    "        \n",
    "blen_ppn20ace"
   ]
  },
  {
   "cell_type": "code",
   "execution_count": null,
   "metadata": {},
   "outputs": [],
   "source": [
    "# Error prop. into natural log std deviation\n",
    "mk_n20ppace = cor_n20plgapeg_ace[1]/cor_n20plgapeg_ace[0]\n",
    "mk_n20ppace"
   ]
  },
  {
   "cell_type": "code",
   "execution_count": null,
   "metadata": {},
   "outputs": [],
   "source": [
    "cor_n20plgapeg_ace[0]"
   ]
  },
  {
   "cell_type": "code",
   "execution_count": null,
   "metadata": {},
   "outputs": [],
   "source": [
    "cor_n20plgapeg_ace[1]"
   ]
  },
  {
   "cell_type": "code",
   "execution_count": null,
   "metadata": {},
   "outputs": [],
   "source": [
    "a = np.arange(29)\n",
    "p1 = np.ma.masked_where(a == 25, np.log(cor_n30plgapeg_ace[0]))\n",
    "costh_n30ace = np.ma.masked_where(a == 26, p1)\n",
    "e1 = np.ma.masked_where(a == 25, mk_n30ppace)\n",
    "errln_n30ace  = np.ma.masked_where(a == 26, e1)"
   ]
  },
  {
   "cell_type": "code",
   "execution_count": null,
   "metadata": {},
   "outputs": [],
   "source": [
    "plt.figure(figsize=(7,7))\n",
    "plt.errorbar(blen_ppn20ace, cor_n20plgapeg_ace[0], yerr=cor_n20plgapeg_ace[1], color='teal', linestyle=\"None\",marker='o',\n",
    "     capsize=5, capthick=1, ecolor='black')"
   ]
  },
  {
   "cell_type": "code",
   "execution_count": null,
   "metadata": {},
   "outputs": [],
   "source": [
    "# All the points give the best fits for N = 6 peg in acetone\n",
    "n20_blksplgapeg_ace , n20plgapeg_lpace = bavg_pers_cnt(5, plgapeg_n20ace, n20_plgapeg_ace, blen_ppn20ace, 5, 0 , 36001)"
   ]
  },
  {
   "cell_type": "code",
   "execution_count": null,
   "metadata": {},
   "outputs": [],
   "source": [
    "n20_blksplgapeg_ace"
   ]
  },
  {
   "cell_type": "code",
   "execution_count": null,
   "metadata": {},
   "outputs": [],
   "source": [
    "n20plgapeg_lpace"
   ]
  },
  {
   "cell_type": "code",
   "execution_count": null,
   "metadata": {},
   "outputs": [],
   "source": [
    "n20plgapeg_lpace[2]"
   ]
  },
  {
   "cell_type": "code",
   "execution_count": null,
   "metadata": {},
   "outputs": [],
   "source": [
    "np.mean(n20plgapeg_lpace[3])"
   ]
  },
  {
   "cell_type": "markdown",
   "metadata": {},
   "source": [
    "#### line fitted to cosine theta values using mean slope"
   ]
  },
  {
   "cell_type": "code",
   "execution_count": null,
   "metadata": {},
   "outputs": [],
   "source": [
    "blen_ppn20ace"
   ]
  },
  {
   "cell_type": "code",
   "execution_count": null,
   "metadata": {},
   "outputs": [],
   "source": [
    "gg_n20plgapeg_ace = line_fit(np.mean(n20plgapeg_lpace[2]),blen_ppn20ace)"
   ]
  },
  {
   "cell_type": "code",
   "execution_count": null,
   "metadata": {},
   "outputs": [],
   "source": [
    "gg_n16plgapeg_n20ace = line_fit(np.mean(n16plgapeg_lpace[2]),blen_ppn20ace)"
   ]
  },
  {
   "cell_type": "code",
   "execution_count": null,
   "metadata": {},
   "outputs": [],
   "source": [
    "gg_n10plgapeg_n20ace = line_fit(np.mean(n10plgapeg_lpace[2]),blen_ppn20ace)"
   ]
  },
  {
   "cell_type": "code",
   "execution_count": null,
   "metadata": {},
   "outputs": [],
   "source": [
    "gg_n8plgapeg_n20ace = line_fit(np.mean(n8plgapeg_lpace[2]),blen_ppn20ace)"
   ]
  },
  {
   "cell_type": "code",
   "execution_count": null,
   "metadata": {},
   "outputs": [],
   "source": [
    "gg_n6plgapeg_n20ace = line_fit(np.mean(n6plgapeg_lpace[2]),blen_ppn20ace)"
   ]
  },
  {
   "cell_type": "code",
   "execution_count": null,
   "metadata": {},
   "outputs": [],
   "source": [
    "gg_n20plgapeg_ace"
   ]
  },
  {
   "cell_type": "markdown",
   "metadata": {},
   "source": [
    "#### Block averaged Rg, Ree, Rh, mean sq. Ree and mean sq. Rg persistence length, N = 20 PLGA-PEG in acetone"
   ]
  },
  {
   "cell_type": "code",
   "execution_count": null,
   "metadata": {},
   "outputs": [],
   "source": [
    "blppn20ace = []\n",
    "for i in range(n20_mon-1):\n",
    "    if i < int((n20_mon/2)-1):\n",
    "        # PLGA contour length values\n",
    "        blppn20ace.append(COM_ppn20ace[0,0])    \n",
    "    elif i == int((n20_mon/2)-1):\n",
    "        #PLGA-PEG linker length\n",
    "        blppn20ace.append(COM_ppn20ace[1,0]) \n",
    "    elif i > int((n20_mon/2)-1):\n",
    "    #    # PEG contour length values\n",
    "        blppn20ace.append(COM_ppn20ace[2,0]) \n",
    "\n",
    "# Contour Length, N = 6 PLGA-PEG in acetone\n",
    "lc_ppn20ace = np.sum(blppn20ace)\n",
    "lc_ppn20ace"
   ]
  },
  {
   "cell_type": "code",
   "execution_count": null,
   "metadata": {},
   "outputs": [],
   "source": [
    "# Ree^2/Rg^2 array at different contour lengths\n",
    "re2e_rgsq_plgapegace[1,4] = lc_ppn20ace\n",
    "re2e_rgsq_plgapegace"
   ]
  },
  {
   "cell_type": "code",
   "execution_count": null,
   "metadata": {},
   "outputs": [],
   "source": [
    "a_ppn20ace = np.mean(n20_blksplgapeg_ace['Avg Sq. end to end distance'])"
   ]
  },
  {
   "cell_type": "code",
   "execution_count": null,
   "metadata": {},
   "outputs": [],
   "source": [
    "b_ppn20ace = np.mean(n20_blksplgapeg_ace['Avg Sq. radius of gyration'])"
   ]
  },
  {
   "cell_type": "code",
   "execution_count": null,
   "metadata": {},
   "outputs": [],
   "source": [
    "re2e_rgsq_plgapegace[0,4] = a_ppn20ace/b_ppn20ace\n",
    "re2e_rgsq_plgapegace"
   ]
  },
  {
   "cell_type": "code",
   "execution_count": null,
   "metadata": {},
   "outputs": [],
   "source": [
    "# Rg/Rh array at different contour lengths \n",
    "rhy_rg_plgapegace[1,4] = lc_ppn20ace\n",
    "rhy_rg_plgapegace"
   ]
  },
  {
   "cell_type": "code",
   "execution_count": null,
   "metadata": {},
   "outputs": [],
   "source": [
    "aa_ppn20ace = np.mean(n20_blksplgapeg_ace['Avg Radius of gyration'])"
   ]
  },
  {
   "cell_type": "code",
   "execution_count": null,
   "metadata": {},
   "outputs": [],
   "source": [
    "bb_ppn20ace = np.mean(n20_blksplgapeg_ace['Avg Hydrodynamic radius'])"
   ]
  },
  {
   "cell_type": "code",
   "execution_count": null,
   "metadata": {},
   "outputs": [],
   "source": [
    "rhy_rg_plgapegace[0,4] = aa_ppn20ace/bb_ppn20ace\n",
    "rhy_rg_plgapegace"
   ]
  },
  {
   "cell_type": "code",
   "execution_count": null,
   "metadata": {},
   "outputs": [],
   "source": [
    "# pers length/contour length \n",
    "kuhnlpL_plgapegace[0,4] = np.mean(n20_blksplgapeg_ace[\"Avg persistence length\"])/lc_ppn20ace\n",
    "kuhnlpL_plgapegace"
   ]
  },
  {
   "cell_type": "markdown",
   "metadata": {},
   "source": [
    "#### Block averaged Radius of gyration and persistence length, N = 20 PLGA-PEG in acetone"
   ]
  },
  {
   "cell_type": "code",
   "execution_count": null,
   "metadata": {},
   "outputs": [],
   "source": [
    "np.mean(n20_blksplgapeg_ace[\"Avg persistence length\"])"
   ]
  },
  {
   "cell_type": "code",
   "execution_count": null,
   "metadata": {},
   "outputs": [],
   "source": [
    "np.std(n20_blksplgapeg_ace[\"Avg persistence length\"])"
   ]
  },
  {
   "cell_type": "code",
   "execution_count": null,
   "metadata": {},
   "outputs": [],
   "source": [
    "np.mean(n20_blksplgapeg_ace[\"Avg Radius of gyration\"])"
   ]
  },
  {
   "cell_type": "code",
   "execution_count": null,
   "metadata": {},
   "outputs": [],
   "source": [
    "np.std(n20_blksplgapeg_ace[\"Avg Radius of gyration\"])"
   ]
  },
  {
   "cell_type": "code",
   "execution_count": null,
   "metadata": {},
   "outputs": [],
   "source": [
    "cor_n20plgapeg_ace[0][:17]"
   ]
  },
  {
   "cell_type": "code",
   "execution_count": null,
   "metadata": {},
   "outputs": [],
   "source": [
    "plt.figure(figsize=(7,7))\n",
    "plt.errorbar(blen_ppn6ace, np.log(cor_n6plgapeg_ace[0]), yerr=mk_n6ppace, color='teal', linestyle=\"None\",marker='o',\n",
    "     capsize=5, capthick=1, ecolor='black')\n",
    "plt.errorbar(blen_ppn8ace, np.log(cor_n8plgapeg_ace[0]), yerr=mk_n8ppace, color='dodgerblue', linestyle=\"None\",marker='o',\n",
    "     capsize=5, capthick=1, ecolor='black')\n",
    "plt.errorbar(blen_ppn10ace, np.log(cor_n10plgapeg_ace[0]), yerr=mk_n10ppace, color='darkmagenta', linestyle=\"None\",marker='o',\n",
    "     capsize=5, capthick=1, ecolor='black')\n",
    "plt.errorbar(blen_ppn16ace, np.log(cor_n16plgapeg_ace[0]), yerr=mk_n16ppace, color='maroon', linestyle=\"None\",marker='o',\n",
    "     capsize=5, capthick=1, ecolor='black')\n",
    "plt.errorbar(blen_ppn20ace[:17], np.log(cor_n20plgapeg_ace[0][:17]), yerr=mk_n20ppace[:17], color='orangered', linestyle=\"None\",marker='o',\n",
    "     capsize=5, capthick=1, ecolor='black')\n",
    "plt.plot(blen_ppn20ace, gg_n6plgapeg_n20ace, color='teal')\n",
    "plt.plot(blen_ppn20ace, gg_n8plgapeg_n20ace, color='dodgerblue')\n",
    "plt.plot(blen_ppn20ace, gg_n10plgapeg_n20ace, color='darkmagenta')\n",
    "plt.plot(blen_ppn20ace, gg_n16plgapeg_n20ace, color='maroon')\n",
    "plt.plot(blen_ppn20ace[:17], gg_n20plgapeg_ace[:17], color='orangered')\n",
    "plt.title(r'Ensemble Averaged ln(Cosine $\\theta$) PLGA-PEG in acetone', fontsize=15, y=1.01)\n",
    "plt.xlabel(r'Bond Length', fontsize=15)\n",
    "plt.ylabel(r'ln$\\left< Cos(\\theta)\\right >$', fontsize=15)\n",
    "plt.ylim(-7,1.5)\n",
    "plt.xlim(0,90)\n",
    "#plt.ylim(-1.9,0)\n",
    "font = font_manager.FontProperties(family='Arial', style='normal', size='14')\n",
    "#plt.legend([r'$N_{PEG}$ = 6: $L_{p}$ = 18.8 $\\AA$ ± 3.60 $\\AA$'], loc=3, frameon=0, fontsize=14, prop=font)\n",
    "plt.tick_params(labelsize=14)\n",
    "plt.text(0.5, -5.9,r'$N_{PLGA-PEG}$ = 6: $L_{p}$ = 24.7 $\\AA$ ± 1.34 $\\AA$', fontsize=15, color='teal')\n",
    "plt.text(0.5, -5.58,r'$N_{PLGA-PEG}$ = 8: $L_{p}$ = 27.3.0 $\\AA$ ± 4.09 $\\AA$', fontsize=15, color='dodgerblue')\n",
    "plt.text(0.5, -5.23,r'$N_{PLGA-PEG}$ = 10: $L_{p}$ = 27.5 $\\AA$ ± 2.92 $\\AA$', fontsize=15, color='darkmagenta')\n",
    "plt.text(0.5, -4.90,r'$N_{PLGA-PEG}$ = 16: $L_{p}$ = 31.3 $\\AA$ ± 2.30 $\\AA$', fontsize=15, color='maroon')\n",
    "plt.text(0.5, -5.50,r'$N_{PLGA-PEG}$ = 20: $L_{p}$ = 31.6 $\\AA$ ± 3.45 $\\AA$', fontsize=15, color='orangered')"
   ]
  },
  {
   "cell_type": "code",
   "execution_count": null,
   "metadata": {},
   "outputs": [],
   "source": [
    "rgplgapeg_olig_ace[r\"$R_{g}$ [Angstrom] N = 20 PLGA-PEG acetone\"] = n20_blksplgapeg_ace[\"Avg Radius of gyration\"]\n",
    "rgplgapeg_olig_ace"
   ]
  },
  {
   "cell_type": "code",
   "execution_count": null,
   "metadata": {},
   "outputs": [],
   "source": [
    "pers_plgapegt_ace[r\"$L_{p}$ [Angstrom] N = 20 PLGA-PEG acetone\"] = n20_blksplgapeg_ace[\"Avg persistence length\"]\n",
    "pers_plgapegt_ace"
   ]
  },
  {
   "cell_type": "code",
   "execution_count": null,
   "metadata": {},
   "outputs": [],
   "source": []
  },
  {
   "cell_type": "code",
   "execution_count": null,
   "metadata": {},
   "outputs": [],
   "source": []
  },
  {
   "cell_type": "code",
   "execution_count": null,
   "metadata": {},
   "outputs": [],
   "source": []
  },
  {
   "cell_type": "markdown",
   "metadata": {},
   "source": [
    "### N = 30 PLGA-PEG/acetone "
   ]
  },
  {
   "cell_type": "code",
   "execution_count": null,
   "metadata": {},
   "outputs": [],
   "source": [
    "# For the right Rg calculation using MD Analysis, use trajactory without pbc \n",
    "n30_plgapeg_ace = mda.Universe(\"n30plga_peg_ace/n30plgapeg_ACE.pdb\", \"n30plga_peg_ace/NoAce_n30plgapeg.xtc\")"
   ]
  },
  {
   "cell_type": "code",
   "execution_count": null,
   "metadata": {},
   "outputs": [],
   "source": [
    "n30_plgapeg_ace.trajectory"
   ]
  },
  {
   "cell_type": "code",
   "execution_count": null,
   "metadata": {},
   "outputs": [],
   "source": [
    "len(n30_plgapeg_ace.trajectory)"
   ]
  },
  {
   "cell_type": "code",
   "execution_count": null,
   "metadata": {},
   "outputs": [],
   "source": [
    "#Select the polymer heavy atoms \n",
    "plgapeg_n30ace = n30_plgapeg_ace.select_atoms(\"resname sPLG PLG bPLG bPEG PEG sPEG and not type H\")"
   ]
  },
  {
   "cell_type": "code",
   "execution_count": null,
   "metadata": {},
   "outputs": [],
   "source": [
    "np.unique(plgapeg_n30ace.resids)"
   ]
  },
  {
   "cell_type": "code",
   "execution_count": null,
   "metadata": {},
   "outputs": [],
   "source": [
    "# Get cosine theta values at frame 0 \n",
    "crv_n30plgapeg_ace = pers_length(plgapeg_n30ace,30)\n",
    "crv_n30plgapeg_ace"
   ]
  },
  {
   "cell_type": "markdown",
   "metadata": {},
   "source": [
    "#### Orientation Order parameter vs. time "
   ]
  },
  {
   "cell_type": "code",
   "execution_count": 29,
   "metadata": {},
   "outputs": [],
   "source": [
    "n30_mon = 30\n",
    "start = 0\n",
    "end = 36001"
   ]
  },
  {
   "cell_type": "code",
   "execution_count": null,
   "metadata": {},
   "outputs": [],
   "source": [
    "OOp_n30plgapeg_ace = orientation_order_param(plgapeg_n30ace, n30_plgapeg_ace, n30_mon, start, end)"
   ]
  },
  {
   "cell_type": "code",
   "execution_count": null,
   "metadata": {},
   "outputs": [],
   "source": [
    "OOp_n30plgapeg_ace.shape"
   ]
  },
  {
   "cell_type": "code",
   "execution_count": null,
   "metadata": {},
   "outputs": [],
   "source": [
    "trj_len = np.arange(36001)\n",
    "plt.figure(figsize=(7,7))\n",
    "plt.title(r'PLGA-PEG Orientation Order Parameter', fontsize=18, y=1.01)\n",
    "plt.xlabel(r'Time [ns]', fontsize=15)\n",
    "plt.ylabel(r'Z', fontsize=15)\n",
    "plt.plot(trj_len/100, OOp_n6plgapeg_ace,linewidth=2, color='teal')\n",
    "plt.plot(trj_len/100, OOp_n8plgapeg_ace,linewidth=2, color='dodgerblue')\n",
    "plt.plot(trj_len/100, OOp_n10plgapeg_ace,linewidth=2, color='darkmagenta')\n",
    "plt.plot(trj_len/100, OOp_n16plgapeg_ace,linewidth=2, color='maroon')\n",
    "plt.plot(trj_len/100, OOp_n20plgapeg_ace,linewidth=2, color='orangered')\n",
    "plt.plot(trj_len/100, OOp_n30plgapeg_ace,linewidth=2, color='darkolivegreen')\n",
    "plt.tick_params(labelsize=14)\n",
    "plt.legend(['N = 6 in acetone', 'N = 8 in acetone','N = 10 in acetone','N = 16 in acetone','N = 20 in acetone','N = 30 in acetone'],\n",
    "           frameon=False, fontsize=14, loc='upper left')\n",
    "#plt.text(127, 0.96,r'N = 6 in acetone', fontsize=18, color='#1F2E69', family='Arial')\n",
    "plt.xlim(0,360)\n",
    "plt.ylim(-2,2)"
   ]
  },
  {
   "cell_type": "markdown",
   "metadata": {},
   "source": [
    "#### Mean Orientation Order Parameter for N = 30 PLGA-PEG in acetone"
   ]
  },
  {
   "cell_type": "code",
   "execution_count": null,
   "metadata": {},
   "outputs": [],
   "source": [
    "OOp_n30plgapeg_ace[82]"
   ]
  },
  {
   "cell_type": "code",
   "execution_count": null,
   "metadata": {},
   "outputs": [],
   "source": [
    "OOp_n30plgapeg_ace[239]"
   ]
  },
  {
   "cell_type": "code",
   "execution_count": null,
   "metadata": {},
   "outputs": [],
   "source": [
    "np.mean(OOp_n30plgapeg_ace)"
   ]
  },
  {
   "cell_type": "code",
   "execution_count": null,
   "metadata": {},
   "outputs": [],
   "source": [
    "np.std(OOp_n30plgapeg_ace)"
   ]
  },
  {
   "cell_type": "markdown",
   "metadata": {},
   "source": [
    "#### Mean squared end to end distance "
   ]
  },
  {
   "cell_type": "code",
   "execution_count": null,
   "metadata": {},
   "outputs": [],
   "source": [
    "eVec_n30plgapeg_ace, e2edis_n30plgapeg_ace = mean_sq_e2e(plgapeg_n30ace, n30_plgapeg_ace, n30_mon, start, end)"
   ]
  },
  {
   "cell_type": "code",
   "execution_count": 6,
   "metadata": {},
   "outputs": [
    {
     "data": {
      "text/plain": [
       "(0.0, 12.0)"
      ]
     },
     "execution_count": 6,
     "metadata": {},
     "output_type": "execute_result"
    },
    {
     "data": {
      "image/png": "[encoded data removed]",
      "text/plain": [
       "<Figure size 504x504 with 1 Axes>"
      ]
     },
     "metadata": {
      "needs_background": "light"
     },
     "output_type": "display_data"
    }
   ],
   "source": [
    "trj_len = np.arange(36001)\n",
    "plt.figure(figsize=(7,7))\n",
    "plt.title(r'PLGA-PEG End to End distance', fontsize=18, y=1.01)\n",
    "plt.xlabel(r'Time [ns]', fontsize=15)\n",
    "plt.ylabel(r'$R_{ee}$ [nm]', fontsize=15)\n",
    "#plt.plot(trj_len/100, e2edis_n6plgapeg_ace[1]/10,linewidth=2, color='teal')\n",
    "#plt.plot(trj_len/100, e2edis_n8plgapeg_ace[1]/10,linewidth=2, color='dodgerblue')\n",
    "#plt.plot(trj_len/100, e2edis_n10plgapeg_ace[1]/10,linewidth=2, color='darkmagenta')\n",
    "plt.plot(trj_len/100, e2edis_n16plgapeg_ace[1]/10,linewidth=2, color='maroon')\n",
    "plt.plot(trj_len/100, e2edis_n20plgapeg_ace[1]/10,linewidth=2, color='orangered')\n",
    "plt.plot(trj_len/100, e2edis_n30plgapeg_ace[1]/10,linewidth=2, color='darkolivegreen')\n",
    "plt.tick_params(labelsize=14)\n",
    "#plt.legend(['N = 6 in acetone', 'N = 8 in acetone','N = 10 in acetone'],frameon=False, fontsize=14, loc='upper left')\n",
    "plt.legend(['N = 16 in acetone','N = 20 in acetone','N = 30 in acetone'],frameon=False, fontsize=14, loc='upper left')\n",
    "#plt.legend(['N = 6 in acetone', 'N = 8 in acetone','N = 10 in acetone',\n",
    "#            'N = 16 in acetone','N = 20 in acetone','N = 30 in acetone'],\n",
    "#           frameon=False, fontsize=14, loc='upper left')\n",
    "#plt.text(127, 0.96,r'N = 6 in acetone', fontsize=18, color='#1F2E69', family='Arial')\n",
    "plt.xlim(0,360)\n",
    "plt.ylim(0,12)"
   ]
  },
  {
   "cell_type": "code",
   "execution_count": null,
   "metadata": {},
   "outputs": [],
   "source": [
    "np.save('n6plgapeg_aceLEE.npy', e2edis_n6plgapeg_ace)\n",
    "np.save('n8plgapeg_aceLEE.npy', e2edis_n8plgapeg_ace)\n",
    "np.save('n10plgapeg_aceLEE.npy', e2edis_n10plgapeg_ace)\n",
    "np.save('n16plgapeg_aceLEE.npy', e2edis_n16plgapeg_ace)\n",
    "np.save('n20plgapeg_aceLEE.npy', e2edis_n20plgapeg_ace)\n",
    "np.save('n30plgapeg_aceLEE.npy', e2edis_n30plgapeg_ace)"
   ]
  },
  {
   "cell_type": "code",
   "execution_count": 5,
   "metadata": {},
   "outputs": [],
   "source": [
    "e2edis_n6plgapeg_ace = np.load('npdata_plgapeg_ace/n6plgapeg_aceLEE.npy', allow_pickle=True)\n",
    "e2edis_n8plgapeg_ace = np.load('npdata_plgapeg_ace/n8plgapeg_aceLEE.npy', allow_pickle=True)\n",
    "e2edis_n10plgapeg_ace = np.load('npdata_plgapeg_ace/n10plgapeg_aceLEE.npy', allow_pickle=True)\n",
    "e2edis_n16plgapeg_ace = np.load('npdata_plgapeg_ace/n16plgapeg_aceLEE.npy', allow_pickle=True)\n",
    "e2edis_n20plgapeg_ace = np.load('npdata_plgapeg_ace/n20plgapeg_aceLEE.npy', allow_pickle=True)\n",
    "e2edis_n30plgapeg_ace = np.load('npdata_plgapeg_ace/n30plgapeg_aceLEE.npy', allow_pickle=True)"
   ]
  },
  {
   "cell_type": "markdown",
   "metadata": {},
   "source": [
    "#### Ree Autocorrelation function"
   ]
  },
  {
   "cell_type": "code",
   "execution_count": null,
   "metadata": {},
   "outputs": [],
   "source": [
    "e2edis_n30plgapeg_ace[1]"
   ]
  },
  {
   "cell_type": "code",
   "execution_count": null,
   "metadata": {},
   "outputs": [],
   "source": [
    "t_corr = 3000\n",
    "window_shift = 5"
   ]
  },
  {
   "cell_type": "code",
   "execution_count": 30,
   "metadata": {},
   "outputs": [
    {
     "name": "stdout",
     "output_type": "stream",
     "text": [
      "No. of Samples: 3223\n"
     ]
    }
   ],
   "source": [
    "ACn30plgapegace_Ree, eqvar_n30plgapegace = obs_autocorr_RA(e2edis_n30plgapeg_ace[1],t_corr, window_shift,start,end)"
   ]
  },
  {
   "cell_type": "code",
   "execution_count": 31,
   "metadata": {},
   "outputs": [
    {
     "data": {
      "text/plain": [
       "array([[ 1.00000000e+00,  9.99672023e-01,  9.96323897e-01, ...,\n",
       "        -8.69066455e-02, -8.63242155e-02, -8.29600348e-02],\n",
       "       [ 0.00000000e+00,  1.00000000e+00,  2.00000000e+00, ...,\n",
       "         6.99700000e+03,  6.99800000e+03,  6.99900000e+03]])"
      ]
     },
     "execution_count": 31,
     "metadata": {},
     "output_type": "execute_result"
    }
   ],
   "source": [
    "ACn30plgapegace_Ree"
   ]
  },
  {
   "cell_type": "code",
   "execution_count": 32,
   "metadata": {},
   "outputs": [
    {
     "data": {
      "text/plain": [
       "235.1621720945546"
      ]
     },
     "execution_count": 32,
     "metadata": {},
     "output_type": "execute_result"
    }
   ],
   "source": [
    "eqvar_n30plgapegace"
   ]
  },
  {
   "cell_type": "code",
   "execution_count": null,
   "metadata": {},
   "outputs": [],
   "source": [
    "ACn30plgapegace_sqRee, evsqRee_n30plgapegace = obs_autocorr_RA(e2edis_n30plgapeg_ace[0],t_corr, window_shift,start,end)"
   ]
  },
  {
   "cell_type": "code",
   "execution_count": null,
   "metadata": {},
   "outputs": [],
   "source": [
    "np.sqrt(evsqRee_n30plgapegace)"
   ]
  },
  {
   "cell_type": "code",
   "execution_count": 33,
   "metadata": {},
   "outputs": [
    {
     "ename": "NameError",
     "evalue": "name 'ACn6plgapegace_Ree' is not defined",
     "output_type": "error",
     "traceback": [
      "\u001b[0;31m---------------------------------------------------------------------------\u001b[0m",
      "\u001b[0;31mNameError\u001b[0m                                 Traceback (most recent call last)",
      "\u001b[0;32m/var/folders/yw/_970f9sd7w3dh1rgbbg942780000gn/T/ipykernel_38863/293360217.py\u001b[0m in \u001b[0;36m<module>\u001b[0;34m\u001b[0m\n\u001b[1;32m      3\u001b[0m \u001b[0mplt\u001b[0m\u001b[0;34m.\u001b[0m\u001b[0mxlabel\u001b[0m\u001b[0;34m(\u001b[0m\u001b[0;34mr'Time [ns]'\u001b[0m\u001b[0;34m,\u001b[0m \u001b[0mfontsize\u001b[0m\u001b[0;34m=\u001b[0m\u001b[0;36m15\u001b[0m\u001b[0;34m)\u001b[0m\u001b[0;34m\u001b[0m\u001b[0;34m\u001b[0m\u001b[0m\n\u001b[1;32m      4\u001b[0m \u001b[0mplt\u001b[0m\u001b[0;34m.\u001b[0m\u001b[0mylabel\u001b[0m\u001b[0;34m(\u001b[0m\u001b[0;34mr'$C_{A}(t)$'\u001b[0m\u001b[0;34m,\u001b[0m \u001b[0mfontsize\u001b[0m\u001b[0;34m=\u001b[0m\u001b[0;36m15\u001b[0m\u001b[0;34m)\u001b[0m\u001b[0;34m\u001b[0m\u001b[0;34m\u001b[0m\u001b[0m\n\u001b[0;32m----> 5\u001b[0;31m \u001b[0mplt\u001b[0m\u001b[0;34m.\u001b[0m\u001b[0mplot\u001b[0m\u001b[0;34m(\u001b[0m\u001b[0mACn6plgapegace_Ree\u001b[0m\u001b[0;34m[\u001b[0m\u001b[0;36m1\u001b[0m\u001b[0;34m]\u001b[0m\u001b[0;34m/\u001b[0m\u001b[0;36m100\u001b[0m\u001b[0;34m,\u001b[0m \u001b[0mACn6plgapegace_Ree\u001b[0m\u001b[0;34m[\u001b[0m\u001b[0;36m0\u001b[0m\u001b[0;34m]\u001b[0m\u001b[0;34m,\u001b[0m\u001b[0mlinewidth\u001b[0m\u001b[0;34m=\u001b[0m\u001b[0;36m2\u001b[0m\u001b[0;34m,\u001b[0m \u001b[0mcolor\u001b[0m\u001b[0;34m=\u001b[0m\u001b[0;34m'teal'\u001b[0m\u001b[0;34m)\u001b[0m\u001b[0;34m\u001b[0m\u001b[0;34m\u001b[0m\u001b[0m\n\u001b[0m\u001b[1;32m      6\u001b[0m \u001b[0mplt\u001b[0m\u001b[0;34m.\u001b[0m\u001b[0mplot\u001b[0m\u001b[0;34m(\u001b[0m\u001b[0mACn8plgapegace_Ree\u001b[0m\u001b[0;34m[\u001b[0m\u001b[0;36m1\u001b[0m\u001b[0;34m]\u001b[0m\u001b[0;34m/\u001b[0m\u001b[0;36m100\u001b[0m\u001b[0;34m,\u001b[0m \u001b[0mACn8plgapegace_Ree\u001b[0m\u001b[0;34m[\u001b[0m\u001b[0;36m0\u001b[0m\u001b[0;34m]\u001b[0m\u001b[0;34m,\u001b[0m\u001b[0mlinewidth\u001b[0m\u001b[0;34m=\u001b[0m\u001b[0;36m2\u001b[0m\u001b[0;34m,\u001b[0m \u001b[0mcolor\u001b[0m\u001b[0;34m=\u001b[0m\u001b[0;34m'dodgerblue'\u001b[0m\u001b[0;34m)\u001b[0m\u001b[0;34m\u001b[0m\u001b[0;34m\u001b[0m\u001b[0m\n\u001b[1;32m      7\u001b[0m \u001b[0mplt\u001b[0m\u001b[0;34m.\u001b[0m\u001b[0mplot\u001b[0m\u001b[0;34m(\u001b[0m\u001b[0mACn10plgapegace_Ree\u001b[0m\u001b[0;34m[\u001b[0m\u001b[0;36m1\u001b[0m\u001b[0;34m]\u001b[0m\u001b[0;34m/\u001b[0m\u001b[0;36m100\u001b[0m\u001b[0;34m,\u001b[0m \u001b[0mACn10plgapegace_Ree\u001b[0m\u001b[0;34m[\u001b[0m\u001b[0;36m0\u001b[0m\u001b[0;34m]\u001b[0m\u001b[0;34m,\u001b[0m\u001b[0mlinewidth\u001b[0m\u001b[0;34m=\u001b[0m\u001b[0;36m2\u001b[0m\u001b[0;34m,\u001b[0m \u001b[0mcolor\u001b[0m\u001b[0;34m=\u001b[0m\u001b[0;34m'darkmagenta'\u001b[0m\u001b[0;34m)\u001b[0m\u001b[0;34m\u001b[0m\u001b[0;34m\u001b[0m\u001b[0m\n",
      "\u001b[0;31mNameError\u001b[0m: name 'ACn6plgapegace_Ree' is not defined"
     ]
    },
    {
     "data": {
      "image/png": "[encoded data removed]",
      "text/plain": [
       "<Figure size 504x504 with 1 Axes>"
      ]
     },
     "metadata": {
      "needs_background": "light"
     },
     "output_type": "display_data"
    }
   ],
   "source": [
    "plt.figure(figsize=(7,7))\n",
    "plt.title(r'PLGA-PEG in acetone autocorrelation', fontsize=18, y=1.01)\n",
    "plt.xlabel(r'Time [ns]', fontsize=15)\n",
    "plt.ylabel(r'$C_{A}(t)$', fontsize=15)\n",
    "plt.plot(ACn6plgapegace_Ree[1]/100, ACn6plgapegace_Ree[0],linewidth=2, color='teal')\n",
    "plt.plot(ACn8plgapegace_Ree[1]/100, ACn8plgapegace_Ree[0],linewidth=2, color='dodgerblue')\n",
    "plt.plot(ACn10plgapegace_Ree[1]/100, ACn10plgapegace_Ree[0],linewidth=2, color='darkmagenta')\n",
    "plt.plot(ACn16plgapegace_Ree[1]/100, ACn16plgapegace_Ree[0],linewidth=2, color='maroon')\n",
    "plt.plot(ACn20plgapegace_Ree[1]/100, ACn20plgapegace_Ree[0],linewidth=2, color='orangered')\n",
    "plt.plot(ACn30plgapegace_Ree[1]/100, ACn30plgapegace_Ree[0],linewidth=2, color='darkolivegreen')\n",
    "plt.tick_params(labelsize=14)\n",
    "plt.legend(['N = 6 Ree','N = 8 Ree','N = 10 Ree','N = 16 Ree','N = 20 Ree','N = 30 Ree'], frameon=False, fontsize=14)\n",
    "#plt.legend(['N = 6 Lee','N = 8 Lee','N = 10 Lee','N = 15 Lee'], frameon=False, fontsize=14)\n",
    "#plt.legend(['N = 20 Lee','N = 30 Lee'], frameon=False, fontsize=14)\n",
    "#plt.yscale('symlog', linthreshy=0.5)\n",
    "#plt.xscale('symlog')\n",
    "plt.xlim(0,70)\n",
    "plt.ylim(-1,1)"
   ]
  },
  {
   "cell_type": "markdown",
   "metadata": {},
   "source": [
    "### Hydrodynamic Radius vs time"
   ]
  },
  {
   "cell_type": "code",
   "execution_count": null,
   "metadata": {},
   "outputs": [],
   "source": [
    "plgapegn30ace_rh = hydro_rad_poly(plgapeg_n30ace, n30_plgapeg_ace, n30_mon, start, end)"
   ]
  },
  {
   "cell_type": "code",
   "execution_count": null,
   "metadata": {},
   "outputs": [],
   "source": [
    "trj_len = np.arange(36001)\n",
    "plt.figure(figsize=(7,7))\n",
    "plt.title(r'PLGA-PEG Hydrodynamic Radius', fontsize=18, y=1.01)\n",
    "plt.xlabel(r'Time [ns]', fontsize=15)\n",
    "plt.ylabel(r'$R_{hyd}$ [nm]', fontsize=15)\n",
    "#plt.plot(trj_len/100, plgapegn6ace_rh/10,linewidth=2, color='teal')\n",
    "#plt.plot(trj_len/100, plgapegn8ace_rh/10,linewidth=2, color='dodgerblue')\n",
    "#plt.plot(trj_len/100, plgapegn10ace_rh/10,linewidth=2, color='darkmagenta')\n",
    "plt.plot(trj_len/100, plgapegn16ace_rh/10,linewidth=2, color='maroon')\n",
    "plt.plot(trj_len/100, plgapegn20ace_rh/10,linewidth=2, color='orangered')\n",
    "plt.plot(trj_len/100, plgapegn30ace_rh/10,linewidth=2, color='darkolivegreen')\n",
    "plt.tick_params(labelsize=14)\n",
    "#plt.legend(['N = 6 in acetone', 'N = 8 in acetone','N = 10 in acetone'],frameon=False, fontsize=14, loc='upper left')\n",
    "plt.legend(['N = 16 in acetone','N = 20 in acetone','N = 30 in acetone'],frameon=False, fontsize=14, loc='upper left')\n",
    "#plt.legend(['N = 6 in acetone', 'N = 8 in acetone','N = 10 in acetone','N = 16 in acetone','N = 20 in acetone','N = 30 in acetone'],\n",
    "#           frameon=False, fontsize=14, loc='upper left')\n",
    "#plt.text(127, 0.96,r'N = 6 in acetone', fontsize=18, color='#1F2E69', family='Arial')\n",
    "plt.xlim(0,360)\n",
    "plt.ylim(1,6)"
   ]
  },
  {
   "cell_type": "code",
   "execution_count": null,
   "metadata": {},
   "outputs": [],
   "source": [
    "np.save('n6plgapeg_aceRHYD.npy', plgapegn6ace_rh)\n",
    "np.save('n8plgapeg_aceRHYD.npy', plgapegn8ace_rh)\n",
    "np.save('n10plgapeg_aceRHYD.npy', plgapegn10ace_rh)\n",
    "np.save('n16plgapeg_aceRHYD.npy', plgapegn16ace_rh)\n",
    "np.save('n20plgapeg_aceRHYD.npy', plgapegn20ace_rh)\n",
    "np.save('n30plgapeg_aceRHYD.npy', plgapegn30ace_rh)"
   ]
  },
  {
   "cell_type": "code",
   "execution_count": 7,
   "metadata": {},
   "outputs": [],
   "source": [
    "plgapegn6ace_rh = np.load('npdata_plgapeg_ace/n6plgapeg_aceRHYD.npy', allow_pickle=True)\n",
    "plgapegn8ace_rh = np.load('npdata_plgapeg_ace/n8plgapeg_aceRHYD.npy', allow_pickle=True)\n",
    "plgapegn10ace_rh = np.load('npdata_plgapeg_ace/n10plgapeg_aceRHYD.npy', allow_pickle=True)\n",
    "plgapegn16ace_rh = np.load('npdata_plgapeg_ace/n16plgapeg_aceRHYD.npy', allow_pickle=True)\n",
    "plgapegn20ace_rh = np.load('npdata_plgapeg_ace/n20plgapeg_aceRHYD.npy', allow_pickle=True)\n",
    "plgapegn30ace_rh = np.load('npdata_plgapeg_ace/n30plgapeg_aceRHYD.npy', allow_pickle=True)"
   ]
  },
  {
   "cell_type": "markdown",
   "metadata": {},
   "source": [
    "#### Rh autocorrelation"
   ]
  },
  {
   "cell_type": "code",
   "execution_count": 34,
   "metadata": {},
   "outputs": [
    {
     "name": "stdout",
     "output_type": "stream",
     "text": [
      "No. of Samples: 3223\n"
     ]
    }
   ],
   "source": [
    "ACn30plgapegaceRh, eqvarRh_n30plgapegace = obs_autocorr_RA(plgapegn30ace_rh,t_corr, window_shift,start,end)"
   ]
  },
  {
   "cell_type": "code",
   "execution_count": 35,
   "metadata": {},
   "outputs": [
    {
     "data": {
      "text/plain": [
       "array([[ 1.00000000e+00,  1.01779760e+00,  9.96250018e-01, ...,\n",
       "        -2.82072319e-01, -2.97415464e-01, -2.89057564e-01],\n",
       "       [ 0.00000000e+00,  1.00000000e+00,  2.00000000e+00, ...,\n",
       "         6.99700000e+03,  6.99800000e+03,  6.99900000e+03]])"
      ]
     },
     "execution_count": 35,
     "metadata": {},
     "output_type": "execute_result"
    }
   ],
   "source": [
    "ACn30plgapegaceRh"
   ]
  },
  {
   "cell_type": "code",
   "execution_count": 36,
   "metadata": {},
   "outputs": [
    {
     "data": {
      "text/plain": [
       "9.072266903152922"
      ]
     },
     "execution_count": 36,
     "metadata": {},
     "output_type": "execute_result"
    }
   ],
   "source": [
    "eqvarRh_n30plgapegace"
   ]
  },
  {
   "cell_type": "code",
   "execution_count": 48,
   "metadata": {},
   "outputs": [
    {
     "data": {
      "text/plain": [
       "(7000,)"
      ]
     },
     "execution_count": 48,
     "metadata": {},
     "output_type": "execute_result"
    }
   ],
   "source": [
    "ACn30plgapegaceRh[1].shape"
   ]
  },
  {
   "cell_type": "code",
   "execution_count": 51,
   "metadata": {},
   "outputs": [
    {
     "data": {
      "image/png": "[encoded data removed]",
      "text/plain": [
       "<Figure size 504x504 with 1 Axes>"
      ]
     },
     "metadata": {
      "needs_background": "light"
     },
     "output_type": "display_data"
    }
   ],
   "source": [
    "plt.figure(figsize=(7,7))\n",
    "plt.title(r'PLGA-PEG in acetone autocorrelation', fontsize=18, y=1.01)\n",
    "plt.xlabel(r'Time [ns]', fontsize=15)\n",
    "plt.ylabel(r'$C_{A}(t)$', fontsize=15)\n",
    "plt.plot(ACn6plgapegaceRh[1]/100, ACn6plgapegaceRh[0],linewidth=2, color='teal')\n",
    "plt.plot(ACn8plgapegaceRh[1]/100, ACn8plgapegaceRh[0],linewidth=2, color='dodgerblue')\n",
    "plt.plot(ACn10plgapegaceRh[1]/100, ACn10plgapegaceRh[0],linewidth=2, color='darkmagenta')\n",
    "plt.plot(ACn16plgapegaceRh[1]/100, ACn16plgapegaceRh[0],linewidth=2, color='maroon')\n",
    "plt.plot(ACn20plgapegaceRh[1]/100, ACn20plgapegaceRh[0],linewidth=2, color='orangered')\n",
    "plt.plot(ACn30plgapegaceRh[1]/100, ACn30plgapegaceRh[0],linewidth=2, color='darkolivegreen')\n",
    "plt.tick_params(labelsize=14)\n",
    "plt.legend([r'N = 6 $R_{hyd}$','N = 8 $R_{hyd}$','N = 10 $R_{hyd}$','N = 16 $R_{hyd}$','N = 20 $R_{hyd}$','N = 30 $R_{hyd}$']\n",
    " ,frameon=False, fontsize=14)\n",
    "#plt.legend([r'N = 6 $R_{hyd}$','N = 8 $R_{hyd}$','N = 10 $R_{hyd}$','N = 15 $R_{hyd}$'], frameon=False, fontsize=14)\n",
    "#plt.legend([r'N = 20 $R_{hyd}$',r'N = 30 $R_{hyd}$'], frameon=False, fontsize=14)\n",
    "plt.xlim(0,70)\n",
    "plt.ylim(-2,2.6)\n",
    "plt.savefig('test.jpg',bbox_inches='tight', dpi=400)"
   ]
  },
  {
   "cell_type": "markdown",
   "metadata": {},
   "source": [
    "### Relaxation times vs monomer length "
   ]
  },
  {
   "cell_type": "code",
   "execution_count": null,
   "metadata": {},
   "outputs": [],
   "source": [
    "# Key variables \n",
    "# def pos_bead_autocorr_RA(polymer_atoms, universe, n_monomers, t_corr,  start, end):\n",
    "n30_mon = 30 \n",
    "start = 0\n",
    "end = 36001\n",
    "t_corr = 2000\n",
    "window_shift = 20"
   ]
  },
  {
   "cell_type": "code",
   "execution_count": null,
   "metadata": {},
   "outputs": [],
   "source": [
    "s_time = timeit.default_timer()\n",
    "tcRA_plgapegn30ace, tcSUM_plgapegn30ace = pos_bead_autocorr_RA(plgapeg_n30ace, n30_plgapeg_ace, n30_mon, t_corr, window_shift, start, end)\n",
    "timeit.default_timer() - s_time"
   ]
  },
  {
   "cell_type": "code",
   "execution_count": null,
   "metadata": {},
   "outputs": [],
   "source": [
    "tcRA_plgapegn30ace"
   ]
  },
  {
   "cell_type": "code",
   "execution_count": null,
   "metadata": {},
   "outputs": [],
   "source": [
    "tcSUM_plgapegn30ace.shape"
   ]
  },
  {
   "cell_type": "markdown",
   "metadata": {},
   "source": [
    "### Fitting autocorrelation data "
   ]
  },
  {
   "cell_type": "code",
   "execution_count": null,
   "metadata": {},
   "outputs": [],
   "source": [
    "xdata_plgapegn30ace = tcRA_plgapegn30ace[1]/100\n",
    "ydata_plgapegn30ace = tcRA_plgapegn30ace[0]"
   ]
  },
  {
   "cell_type": "code",
   "execution_count": null,
   "metadata": {},
   "outputs": [],
   "source": [
    "ydata_plgapegn30ace.shape"
   ]
  },
  {
   "cell_type": "code",
   "execution_count": null,
   "metadata": {},
   "outputs": [],
   "source": [
    "xdata_plgapegn30ace.shape"
   ]
  },
  {
   "cell_type": "code",
   "execution_count": null,
   "metadata": {},
   "outputs": [],
   "source": [
    "plt.figure(figsize=(8,8))\n",
    "plt.rcParams[\"font.family\"] = \"Arial\"\n",
    "plt.scatter(xdata_plgapegn6ace, ydata_plgapegn6ace, color='teal', s=s_n6)\n",
    "plt.scatter(xdata_plgapegn8ace, ydata_plgapegn8ace, color='dodgerblue', s=s_n8)\n",
    "plt.scatter(xdata_plgapegn10ace, ydata_plgapegn10ace, color='darkmagenta', s=s_n10)\n",
    "plt.scatter(xdata_plgapegn16ace, ydata_plgapegn16ace, color='maroon', s=s_n16)\n",
    "plt.scatter(xdata_plgapegn20ace, ydata_plgapegn20ace, color='orangered', s=s_n20)\n",
    "plt.scatter(xdata_plgapegn30ace, ydata_plgapegn30ace, color='darkolivegreen', s=s_n30)\n",
    "plt.title(r'Positional bead autocorrelation PLGA-PEG in acetone', fontsize=18)\n",
    "plt.xlabel(r'Time lag [ns]', fontsize=18)\n",
    "plt.ylabel('C(t)', fontsize=18)\n",
    "#plt.legend(fontsize=14, frameon=False)\n",
    "plt.xticks(fontsize=18)\n",
    "plt.yticks(fontsize=18)\n",
    "#plt.yscale('symlog', linthreshy=0.5)\n",
    "plt.xscale('symlog')\n",
    "plt.grid(b=True)\n",
    "plt.xlim(0,300)\n",
    "plt.ylim(-1,1)\n",
    "plt.tick_params(labelsize=18, direction='in', which='both', width=1, length=10)"
   ]
  },
  {
   "cell_type": "code",
   "execution_count": null,
   "metadata": {},
   "outputs": [],
   "source": [
    "np.save('n6plgapeg_aceCt_RA.npy', tcRA_plgapegn6ace)\n",
    "np.save('n8plgapeg_aceCt_RA.npy', tcRA_plgapegn8ace)\n",
    "np.save('n10plgapeg_aceCt_RA.npy', tcRA_plgapegn10ace)\n",
    "np.save('n10plgapeg_aceCt_RA.npy', tcRA_plgapegn16ace)\n",
    "np.save('n20plgapeg_aceCt_RA.npy', tcRA_plgapegn20ace)\n",
    "np.save('n30plgapeg_aceCt_RA.npy', tcRA_plgapegn30ace)"
   ]
  },
  {
   "cell_type": "code",
   "execution_count": null,
   "metadata": {},
   "outputs": [],
   "source": [
    "ts = 1\n",
    "hs = 0.1\n",
    "n30_mon = 30\n",
    "n_b = n30_mon - 1\n",
    "tr1 = 2\n",
    "zimm_relax_fit(ts,tr1,hs,n_b)"
   ]
  },
  {
   "cell_type": "code",
   "execution_count": null,
   "metadata": {},
   "outputs": [],
   "source": [
    "#zimm_relax_func(ts,tr1,hs,n_b)"
   ]
  },
  {
   "cell_type": "code",
   "execution_count": null,
   "metadata": {},
   "outputs": [],
   "source": [
    "def res_plgapegn30ace(variabls, xnp, ynp):\n",
    "    #hs_np = variabls['h_star']\n",
    "    hs_np = 0.26\n",
    "    tr1_np = variabls['t_first']\n",
    "    n_bonds = 29\n",
    "    testnp = []\n",
    "    for i in range(len(xnp)):\n",
    "        model_ynp = zimm_relax_fit(xnp[i], tr1_np, hs_np, n_bonds)\n",
    "        #model_ynp = rouse_relax(xnp[i], tr1_np, n_m)\n",
    "        testnp.append(ynp[i] - model_ynp)\n",
    "    \n",
    "    tt_n6 = np.array(testnp)\n",
    "\n",
    "    return tt_n6\n",
    "    \n",
    "#x1 = np.array([0,0])\n",
    "#pfit, pcov, infodict, errmsg, success = leastsq(res_poly, x1, args=(xdata, ydata), full_output=1)"
   ]
  },
  {
   "cell_type": "code",
   "execution_count": null,
   "metadata": {},
   "outputs": [],
   "source": [
    "ppfit_n30ace = Parameters()\n",
    "#ppfit_n30ace.add(name='h_star', value=0, min=0, max=0.26, vary=True)\n",
    "ppfit_n30ace.add(name='t_first', value=2)"
   ]
  },
  {
   "cell_type": "code",
   "execution_count": null,
   "metadata": {},
   "outputs": [],
   "source": [
    "mini_ppn30ace = Minimizer(res_plgapegn30ace, ppfit_n30ace, fcn_args=(xdata_plgapegn30ace, ydata_plgapegn30ace))\n",
    "out_ppn30ace = mini_ppn30ace.leastsq()\n",
    "#bfit_n10 = ydata_n10ace + out_n10ace.residual "
   ]
  },
  {
   "cell_type": "code",
   "execution_count": null,
   "metadata": {},
   "outputs": [],
   "source": [
    "report_fit(out_ppn30ace.params)"
   ]
  },
  {
   "cell_type": "code",
   "execution_count": null,
   "metadata": {},
   "outputs": [],
   "source": [
    "out_ppn30ace.params"
   ]
  },
  {
   "cell_type": "code",
   "execution_count": null,
   "metadata": {},
   "outputs": [],
   "source": [
    "# with h varying, tr = 2.74572400 +/- 0.02094383, h* = 0.25999272 +/- 0.03122420\n",
    "tace_n30plgapeg = []\n",
    "n_bonds = 29\n",
    "for i in range(len(xdata_plgapegn30ace)):\n",
    "    tace_n30plgapeg.append(zimm_relax_fit(xdata_plgapegn30ace[i], 2.74882713, 0.26,  n_bonds))\n"
   ]
  },
  {
   "cell_type": "code",
   "execution_count": null,
   "metadata": {},
   "outputs": [],
   "source": [
    "t_c, tz_n30plgapeg, zimm_n30plgapeg, rouse_n30plgapeg = zimm_relax_func(1, 2.74882713, 0.26,  n_bonds)"
   ]
  },
  {
   "cell_type": "code",
   "execution_count": null,
   "metadata": {},
   "outputs": [],
   "source": [
    "x_pos_n16 = np.arange(15)\n",
    "x_pos_n20 = np.arange(19)\n",
    "x_pos_n30 = np.arange(29)\n",
    "#x_pos_n30 = np.arange(29)\n",
    "width = 0.25\n",
    "aa_types_n30 = [r\"$\\tau_{1}$\", r\"$\\tau_{2}$\", r\"$\\tau_{3}$\", r\"$\\tau_{4}$\", r\"$\\tau_{5}$\",r\"$\\tau_{6}$\",r\"$\\tau_{7}$\",\n",
    "           r\"$\\tau_{8}$\", r\"$\\tau_{9}$\",r\"$\\tau_{10}$\", r\"$\\tau_{11}$\", r\"$\\tau_{12}$\", r\"$\\tau_{13}$\", r\"$\\tau_{14}$\",\n",
    "            r\"$\\tau_{15}$\",r\"$\\tau_{16}$\",r\"$\\tau_{17}$\", r\"$\\tau_{18}$\", r\"$\\tau_{19}$\",r\"$\\tau_{20}$\", r\"$\\tau_{21}$\", r\"$\\tau_{12}$\", r\"$\\tau_{13}$\", r\"$\\tau_{14}$\",\n",
    "            r\"$\\tau_{25}$\",r\"$\\tau_{26}$\",r\"$\\tau_{27}$\", r\"$\\tau_{28}$\", r\"$\\tau_{29}$\"]\n",
    "fig = plt.figure(figsize=(10,10))\n",
    "plt.title('PLGA-PEG in acetone', fontsize=18)\n",
    "plt.bar(x_pos_n16+(2*width), tz_n16plgapeg, width, ecolor='black',capsize=5, color='maroon', label='N = 16', align='center')\n",
    "plt.bar(x_pos_n20+(width), tz_n20plgapeg, width, ecolor='black',capsize=5, color='orangered', label='N = 20', align='center')\n",
    "plt.bar(x_pos_n30, tz_n30plgapeg, width, ecolor='black',capsize=5, color='darkolivegreen', label='N = 30', align='center')\n",
    "plt.xticks(x_pos_n30, labels=aa_types_n30, fontsize=12)\n",
    "plt.legend(fontsize=12 ,frameon=False)\n",
    "plt.autoscale(enable=True, axis='both')\n",
    "plt.ylabel(r'Relaxation times [ns]', fontsize=15)"
   ]
  },
  {
   "cell_type": "code",
   "execution_count": null,
   "metadata": {},
   "outputs": [],
   "source": [
    "x_pos = np.arange(29)\n",
    "aa_eigen_n30 = [r\"$a_{1}$\", r\"$a_{2}$\", r\"$a_{3}$\", r\"$a_{4}$\", r\"$a_{5}$\",r\"$a_{6}$\",r\"$a_{7}$\",r\"$a_{8}$\",\n",
    "           r\"$a_{9}$\",r\"$a_{10}$\", r\"$a_{11}$\", r\"$a_{12}$\", r\"$a_{13}$\", r\"$a_{14}$\",r\"$a_{15}$\",r\"$a_{16}$\",r\"$a_{17}$\",\n",
    "           r\"$a_{18}$\",r\"$a_{19}$\",r\"$a_{20}$\", r\"$a_{21}$\", r\"$a_{22}$\", r\"$a_{23}$\", r\"$a_{24}$\",r\"$a_{25}$\",r\"$a_{26}$\",\n",
    "            r\"$a_{27}$\",r\"$a_{28}$\",r\"$a_{29}$\"]\n",
    "fig = plt.figure(figsize=(10,10))\n",
    "plt.title('PLGA-PEG in acetone N = 30', fontsize=18)\n",
    "plt.bar(x_pos_n30, rouse_n30plgapeg, width,ecolor='black',capsize=5, color='c', label='Rouse')\n",
    "plt.bar(x_pos_n30+width, zimm_n30plgapeg, width,ecolor='black',capsize=5, color='m', label='Zimm')\n",
    "plt.xticks(x_pos_n30+width,labels=aa_eigen_n30, fontsize=12)\n",
    "plt.autoscale(enable=True, axis='both')\n",
    "plt.legend(fontsize=12 ,frameon=False)\n",
    "plt.ylabel(r'Rouse and Zimm eigenvalues', fontsize=15)"
   ]
  },
  {
   "cell_type": "code",
   "execution_count": null,
   "metadata": {},
   "outputs": [],
   "source": [
    "plt.figure(figsize=(7,7))\n",
    "plt.rcParams[\"font.family\"] = \"Arial\"\n",
    "plt.scatter(xdata_plgapegn6ace, ydata_plgapegn6ace, color='teal', s=s_n6)\n",
    "plt.scatter(xdata_plgapegn8ace, ydata_plgapegn8ace, color='dodgerblue', s=s_n8)\n",
    "plt.scatter(xdata_plgapegn10ace, ydata_plgapegn10ace, color='darkmagenta', s=s_n10)\n",
    "plt.scatter(xdata_plgapegn16ace, ydata_plgapegn16ace, color='maroon', s=s_n16)\n",
    "plt.scatter(xdata_plgapegn20ace, ydata_plgapegn20ace, color='orangered', s=s_n20)\n",
    "plt.scatter(xdata_plgapegn30ace, ydata_plgapegn30ace, color='darkolivegreen', s=s_n30)\n",
    "plt.plot(xdata_plgapegn6ace, tace_n6plgapeg, color='teal')\n",
    "plt.plot(xdata_plgapegn8ace, tace_n8plgapeg, color='dodgerblue')\n",
    "plt.plot(xdata_plgapegn10ace, tace_n10plgapeg, color='darkmagenta')\n",
    "plt.plot(xdata_plgapegn16ace, tace_n16plgapeg, color='maroon')\n",
    "plt.plot(xdata_plgapegn20ace, tace_n20plgapeg, color='orangered')\n",
    "plt.plot(xdata_plgapegn30ace, tace_n30plgapeg, color='darkolivegreen')\n",
    "plt.title(r'Positional bead autocorrelation PLGA-PEG in acetone', fontsize=18,y=1.03)\n",
    "plt.xlabel(r'Time lag [ns]', fontsize=18)\n",
    "plt.ylabel('C(t)', fontsize=18)\n",
    "#plt.legend(fontsize=14, frameon=False)\n",
    "plt.xticks(fontsize=18)\n",
    "plt.yticks(fontsize=18)\n",
    "#plt.yscale('symlog', linthreshy=0.5)\n",
    "plt.xscale('symlog')\n",
    "plt.grid(b=True)\n",
    "plt.xlim(0,300)\n",
    "plt.ylim(-1,1)\n",
    "plt.tick_params(labelsize=18, direction='in', which='both', width=1, length=10)"
   ]
  },
  {
   "cell_type": "code",
   "execution_count": null,
   "metadata": {},
   "outputs": [],
   "source": [
    "rppace_msen30 = np.array([ydata_plgapegn30ace - np.array(tace_n30plgapeg)])\n",
    "#rpace_msen6"
   ]
  },
  {
   "cell_type": "code",
   "execution_count": null,
   "metadata": {},
   "outputs": [],
   "source": [
    "plt.figure(figsize=(7,7))\n",
    "plt.rcParams[\"font.family\"] = \"Arial\"\n",
    "plt.scatter(xdata_plgapegn6ace, rppace_msen6, color='teal', s=s_n6)\n",
    "plt.scatter(xdata_plgapegn8ace, rppace_msen8, color='dodgerblue', s=s_n8)\n",
    "plt.scatter(xdata_plgapegn10ace, rppace_msen10, color='darkmagenta', s=s_n10)\n",
    "plt.scatter(xdata_plgapegn16ace, rppace_msen16, color='maroon', s=s_n16)\n",
    "plt.scatter(xdata_plgapegn20ace, rppace_msen20, color='orangered', s=s_n20)\n",
    "plt.scatter(xdata_plgapegn30ace, rppace_msen30, color='darkolivegreen', s=s_n30)\n",
    "plt.title(r'Relaxation time Fitting Residuals PLGA-PEG in acetone', fontsize=18, y=1.03)\n",
    "plt.xlabel(r'Time lag [ns]', fontsize=18)\n",
    "plt.ylabel('Residuals', fontsize=18)\n",
    "plt.xticks(fontsize=14)\n",
    "plt.yticks(fontsize=14)\n",
    "plt.xlim([0,250])\n",
    "plt.ylim([-0.7,1])\n",
    "plt.tick_params(labelsize=15)"
   ]
  },
  {
   "cell_type": "markdown",
   "metadata": {},
   "source": [
    "#### Relaxation Times Alpha Exponent"
   ]
  },
  {
   "cell_type": "code",
   "execution_count": null,
   "metadata": {},
   "outputs": [],
   "source": [
    "out_ppn6ace.params"
   ]
  },
  {
   "cell_type": "code",
   "execution_count": null,
   "metadata": {},
   "outputs": [],
   "source": [
    "out_ppn8ace.params"
   ]
  },
  {
   "cell_type": "code",
   "execution_count": null,
   "metadata": {},
   "outputs": [],
   "source": [
    "out_ppn10ace.params"
   ]
  },
  {
   "cell_type": "code",
   "execution_count": null,
   "metadata": {},
   "outputs": [],
   "source": [
    "out_ppn16ace.params"
   ]
  },
  {
   "cell_type": "code",
   "execution_count": null,
   "metadata": {},
   "outputs": [],
   "source": [
    "out_ppn20ace.params"
   ]
  },
  {
   "cell_type": "code",
   "execution_count": null,
   "metadata": {},
   "outputs": [],
   "source": [
    "out_ppn30ace.params"
   ]
  },
  {
   "cell_type": "code",
   "execution_count": null,
   "metadata": {},
   "outputs": [],
   "source": [
    "zimm_t1_plgapegace = np.zeros(shape=(5,6))\n",
    "#zimm_t1_plgapegace = np.zeros(shape=(5,5))\n",
    "zimm_t1_plgapegace[3] = np.array([6,8,10,16,20,30])\n",
    "#zimm_t1_plgapegace[3] = np.array([6,8,10,16,20])\n",
    "zimm_t1_plgapegace[0] = np.array([0.36841223, 0.64345497, 0.90674134, 1.66921473, 3.00483233, 2.74882713])\n",
    "#zimm_t1_plgapegace[0] = np.array([0.36841223, 0.64345497, 0.90674134, 1.66921473, 3.00483233])\n",
    "zimm_t1_plgapegace[1] = np.array([0.00189147, 0.00321603, 0.00456818, 0.00852786, 0.01536807, 0.01536807])\n",
    "#zimm_t1_plgapegace[1] = np.array([0.00189147, 0.00321603, 0.00456818, 0.00852786, 0.01536807])\n",
    "zimm_t1_plgapegace"
   ]
  },
  {
   "cell_type": "code",
   "execution_count": null,
   "metadata": {},
   "outputs": [],
   "source": [
    "np.log10(zimm_t1_plgapegace[0])"
   ]
  },
  {
   "cell_type": "code",
   "execution_count": null,
   "metadata": {},
   "outputs": [],
   "source": [
    "np.log10(zimm_t1_plgapegace[3])"
   ]
  },
  {
   "cell_type": "code",
   "execution_count": null,
   "metadata": {},
   "outputs": [],
   "source": [
    "zimm_t1_plgapegace[1]"
   ]
  },
  {
   "cell_type": "code",
   "execution_count": null,
   "metadata": {},
   "outputs": [],
   "source": [
    "#Error Propagation: https://terpconnect.umd.edu/~toh/models/ErrorPropagation.pdf\n",
    "t1plgapegace_logerr = np.zeros(shape=(6))\n",
    "for i in range(6):\n",
    "    t1plgapegace_logerr[i] = 0.434*((zimm_t1_plgapegace[1][i])/(zimm_t1_plgapegace[0][i]))\n",
    "    \n",
    "t1plgapegace_logerr"
   ]
  },
  {
   "cell_type": "code",
   "execution_count": null,
   "metadata": {},
   "outputs": [],
   "source": [
    "zimm_t1_plgapegace[2] = t1plgapegace_logerr"
   ]
  },
  {
   "cell_type": "code",
   "execution_count": null,
   "metadata": {},
   "outputs": [],
   "source": [
    "plt.figure(figsize=(7,7))\n",
    "plt.errorbar(np.log10(zimm_t1_plgapegace[3]), np.log10(zimm_t1_plgapegace[0]), yerr=zimm_t1_plgapegace[2], color='#0371EC', linestyle=\"None\",marker='o',\n",
    "     capsize=5, capthick=1, ecolor='black')\n",
    "#plt.plot(np.log10(n_plgapeg), gg_ace, color='#A58262')"
   ]
  },
  {
   "cell_type": "code",
   "execution_count": null,
   "metadata": {},
   "outputs": [],
   "source": [
    "# From fitting all points, I get best fit \n",
    "from sklearn.linear_model import LinearRegression\n",
    "model_alplgapegace = LinearRegression(fit_intercept=True)\n",
    "model_alplgapegace.fit(np.log10(zimm_t1_plgapegace[3]).reshape(-1,1), np.log10(zimm_t1_plgapegace[0]))\n",
    "# Slope here is in nanometers\n",
    "print(\"Model slope:    \", model_alplgapegace.coef_[0])\n",
    "print(\"Model intercept:\", model_alplgapegace.intercept_)"
   ]
  },
  {
   "cell_type": "code",
   "execution_count": null,
   "metadata": {},
   "outputs": [],
   "source": [
    "# https://towardsdatascience.com/how-to-perform-linear-regression-with-confidence-5ed8fc0bb9fe\n",
    "pair_regression(np.log10(zimm_t1_plgapegace[3]),np.log10(zimm_t1_plgapegace[0]))"
   ]
  },
  {
   "cell_type": "code",
   "execution_count": null,
   "metadata": {},
   "outputs": [],
   "source": [
    "ggal_plgapegace = model_alplgapegace.predict(np.log10(zimm_t1_plgapegace[3]).reshape(-1,1))\n",
    "ggal_plgapegace"
   ]
  },
  {
   "cell_type": "code",
   "execution_count": null,
   "metadata": {},
   "outputs": [],
   "source": [
    "np.log10(zimm_t1_plgapegace[0])"
   ]
  },
  {
   "cell_type": "code",
   "execution_count": null,
   "metadata": {},
   "outputs": [],
   "source": [
    "# Residuals between the true y data and model y data \n",
    "resid_alpace = np.log10(zimm_t1_plgapegace[0]) - ggal_plgapegace\n",
    "resid_alpace"
   ]
  },
  {
   "cell_type": "code",
   "execution_count": null,
   "metadata": {},
   "outputs": [],
   "source": [
    "# How to calculate mean squared error, N - 2 is dof \n",
    "mse_alpace = np.sum(resid_alpace**2)/(len(resid_alpace) - 2)\n",
    "mse_alpace"
   ]
  },
  {
   "cell_type": "code",
   "execution_count": null,
   "metadata": {},
   "outputs": [],
   "source": [
    "# Normalized root mean squared error\n",
    "np.sqrt(mse_alpace)/(np.max(np.log10(zimm_t1_plgapegace[0])) - np.min(np.log10(zimm_t1_plgapegace[0])))"
   ]
  },
  {
   "cell_type": "code",
   "execution_count": null,
   "metadata": {},
   "outputs": [],
   "source": [
    "print(\"R2 score:\", sklearn.metrics.r2_score(np.log10(zimm_t1_plgapegace[0]), ggal_plgapegace))"
   ]
  },
  {
   "cell_type": "code",
   "execution_count": null,
   "metadata": {},
   "outputs": [],
   "source": [
    "# https://towardsdatascience.com/how-to-perform-linear-regression-with-confidence-5ed8fc0bb9fe\n",
    "getPairStats(np.log10(zimm_t1_plgapegace[3]),np.log10(zimm_t1_plgapegace[0]))"
   ]
  },
  {
   "cell_type": "code",
   "execution_count": null,
   "metadata": {},
   "outputs": [],
   "source": [
    "# How to calculate Sum((Xi - avg(X))^2): X values are the bond length values \n",
    "nt_ttplgapegace = np.log10(zimm_t1_plgapegace[3]) - np.mean(np.log10(zimm_t1_plgapegace[3]))\n",
    "nhui_plgapegace = nt_ttplgapegace**2\n",
    "np.sum(nhui_plgapegace)"
   ]
  },
  {
   "cell_type": "code",
   "execution_count": null,
   "metadata": {},
   "outputs": [],
   "source": [
    "# How to calculate Sxy\n",
    "ata_tr = np.sum((np.log10(zimm_t1_plgapegace[0]) - np.mean(np.log10(zimm_t1_plgapegace[0])))*(nt_ttplgapegace))\n",
    "ata_tr"
   ]
  },
  {
   "cell_type": "code",
   "execution_count": null,
   "metadata": {},
   "outputs": [],
   "source": [
    "# Test statistic, t0\n",
    "slp_esttr = ata_tr/np.sum(nhui_plgapegace)\n",
    "slp_esttr/np.sqrt(mse_alpace/(np.sum(nhui_plgapegace)))"
   ]
  },
  {
   "cell_type": "code",
   "execution_count": null,
   "metadata": {},
   "outputs": [],
   "source": [
    "# t-value with 95 % confidence intervals (alpha/2, n-2)\n",
    "# Value of test statistic is greater than threshold, reject H0\n",
    "n = len(resid_alpace) \n",
    "alpha = 0.05\n",
    "scipy.stats.t.ppf(1-alpha/2, n - 2)"
   ]
  },
  {
   "cell_type": "code",
   "execution_count": null,
   "metadata": {},
   "outputs": [],
   "source": [
    "# How to calculate 95% confidence interval for the slope \n",
    "flc_trpace = scipy.stats.t.ppf(1-alpha/2, n - 2)*np.sqrt(mse_alpace/np.sum(nhui_plgapegace))\n",
    "flc_trpace"
   ]
  },
  {
   "cell_type": "code",
   "execution_count": null,
   "metadata": {},
   "outputs": [],
   "source": [
    "# standard error of the slope\n",
    "np.sqrt(mse_alpace/np.sum(nhui_plgapegace))"
   ]
  },
  {
   "cell_type": "code",
   "execution_count": null,
   "metadata": {},
   "outputs": [],
   "source": [
    "# https://towardsdatascience.com/how-to-perform-linear-regression-with-confidence-5ed8fc0bb9fe\n",
    "simple_regression_conf(np.log10(zimm_t1_plgapegace[3]),np.log10(zimm_t1_plgapegace[0]), alpha=0.05)"
   ]
  },
  {
   "cell_type": "code",
   "execution_count": null,
   "metadata": {},
   "outputs": [],
   "source": [
    "zimm_t1_plgapegace[4] = ggal_plgapegace\n",
    "zimm_t1_plgapegace"
   ]
  },
  {
   "cell_type": "code",
   "execution_count": null,
   "metadata": {},
   "outputs": [],
   "source": [
    "np.save('PLGAPEGacetone6pts_relax_times.npy', zimm_t1_plgapegace)"
   ]
  },
  {
   "cell_type": "code",
   "execution_count": null,
   "metadata": {},
   "outputs": [],
   "source": [
    "np.save('PLGAPEGacetone_5pts_relax_times.npy', zimm_t1_plgapegace)"
   ]
  },
  {
   "cell_type": "code",
   "execution_count": null,
   "metadata": {},
   "outputs": [],
   "source": [
    "plt.figure(figsize=(7,7))\n",
    "plt.errorbar(np.log10(zimm_t1_plgapegace[3]), np.log10(zimm_t1_plgapegace[0]), yerr=zimm_t1_plgapegace[2], color='#0371EC', linestyle=\"None\",marker='o',\n",
    "     capsize=5, capthick=1, ecolor='black')\n",
    "plt.plot(np.log10(zimm_t1_plgapegace[3]), zimm_t1_plgapegace[4], color='#0371EC')\n",
    "plt.title(r'Relaxation Times Scaling Exponent, PLGA-PEG in Acetone', fontsize=15)\n",
    "plt.xlabel(r'Log($N_{PLGA-PEG}$)', fontsize=15)\n",
    "plt.ylabel(r'Log($\\tau_{1}$)', fontsize=15)\n",
    "plt.tick_params(labelsize=14)\n",
    "plt.text(0.9, 0.4, r'$\\alpha_{Acetone}$ = 1.34 ± 0.36', fontsize=15, color='#0371EC')\n",
    "plt.text(0.9, 0.35, r'$R^{2}$ = 0.934, NRMSE = 0.114', fontsize=15, color='#0371EC')\n"
   ]
  },
  {
   "cell_type": "markdown",
   "metadata": {},
   "source": [
    "#### Radius of Gyration vs. time N = 30 PLGA-PEG in acetone"
   ]
  },
  {
   "cell_type": "code",
   "execution_count": null,
   "metadata": {},
   "outputs": [],
   "source": [
    "# Key variables \n",
    "n30_mon = 30\n",
    "start = 0\n",
    "end =36001"
   ]
  },
  {
   "cell_type": "code",
   "execution_count": null,
   "metadata": {},
   "outputs": [],
   "source": [
    "n30plgapeg_rgens_ace, cor_n30plgapeg_ace, n30plgapeg_cos_ace, rgace_n30plgapeg = get_rg_pers_poly(plgapeg_n30ace, n30_plgapeg_ace,\n",
    "                                                                                                  start,end)"
   ]
  },
  {
   "cell_type": "code",
   "execution_count": null,
   "metadata": {},
   "outputs": [],
   "source": [
    "n30plgapeg_rgens_ace.shape"
   ]
  },
  {
   "cell_type": "code",
   "execution_count": null,
   "metadata": {},
   "outputs": [],
   "source": [
    "rgace_n30plgapeg"
   ]
  },
  {
   "cell_type": "code",
   "execution_count": null,
   "metadata": {},
   "outputs": [],
   "source": [
    "n30plgapeg_rgens_ace.shape"
   ]
  },
  {
   "cell_type": "code",
   "execution_count": 53,
   "metadata": {},
   "outputs": [
    {
     "data": {
      "text/plain": [
       "(0.2, 4.0)"
      ]
     },
     "execution_count": 53,
     "metadata": {},
     "output_type": "execute_result"
    },
    {
     "data": {
      "image/png": "[encoded data removed]",
      "text/plain": [
       "<Figure size 504x504 with 1 Axes>"
      ]
     },
     "metadata": {
      "needs_background": "light"
     },
     "output_type": "display_data"
    }
   ],
   "source": [
    "trj_len = np.arange(36001)\n",
    "plt.figure(figsize=(7,7))\n",
    "plt.title(r'PLGA-PEG Radius of Gyration', fontsize=18, y=1.01)\n",
    "plt.xlabel(r'Time [ns]', fontsize=15)\n",
    "plt.ylabel(r'$R_{g}$ [nm]', fontsize=15)\n",
    "#plt.plot(trj_len/100, n6plgapeg_rgens_ace[0]/10,linewidth=2, color='teal')\n",
    "#plt.plot(trj_len/100, n8plgapeg_rgens_ace[0]/10,linewidth=2, color='dodgerblue')\n",
    "#plt.plot(trj_len/100, n10plgapeg_rgens_ace[0]/10,linewidth=2, color='darkmagenta')\n",
    "plt.plot(trj_len/100, n16plgapeg_rgens_ace[0]/10,linewidth=2, color='maroon')\n",
    "plt.plot(trj_len/100, n20plgapeg_rgens_ace[0]/10,linewidth=2, color='orangered')\n",
    "plt.plot(trj_len/100, n30plgapeg_rgens_ace[0]/10,linewidth=2, color='darkolivegreen')\n",
    "plt.tick_params(labelsize=14)\n",
    "#plt.legend(['N = 6 in acetone', 'N = 8 in acetone','N = 10 in acetone'],frameon=False, fontsize=14, loc='upper left')\n",
    "plt.legend(['N = 16 in acetone','N = 20 in acetone','N = 30 in acetone'],frameon=False, fontsize=14, loc='upper left')\n",
    "#plt.legend(['N = 6 in acetone', 'N = 8 in acetone','N = 10 in acetone','N = 16 in acetone','N = 20 in acetone','N = 30 in acetone'],\n",
    "#           frameon=False, fontsize=14, loc='upper left')\n",
    "#plt.text(127, 0.96,r'N = 6 in acetone', fontsize=18, color='#1F2E69', family='Arial')\n",
    "plt.xlim(0,360)\n",
    "plt.ylim(0.2,4)"
   ]
  },
  {
   "cell_type": "code",
   "execution_count": null,
   "metadata": {},
   "outputs": [],
   "source": [
    "np.save('n6plgapeg_aceRg.npy', n6plgapeg_rgens_ace)\n",
    "np.save('n8plgapeg_aceRg.npy', n8plgapeg_rgens_ace)\n",
    "np.save('n10plgapeg_aceRg.npy', n10plgapeg_rgens_ace)\n",
    "np.save('n16plgapeg_aceRg.npy', n16plgapeg_rgens_ace)\n",
    "np.save('n20plgapeg_aceRg.npy', n20plgapeg_rgens_ace)\n",
    "np.save('n30plgapeg_aceRg.npy', n30plgapeg_rgens_ace)"
   ]
  },
  {
   "cell_type": "code",
   "execution_count": 52,
   "metadata": {},
   "outputs": [],
   "source": [
    "n6plgapeg_rgens_ace = np.load('npdata_plgapeg_ace/n6plgapeg_aceRg.npy', allow_pickle=True)\n",
    "n8plgapeg_rgens_ace = np.load('npdata_plgapeg_ace/n8plgapeg_aceRg.npy', allow_pickle=True)\n",
    "n10plgapeg_rgens_ace = np.load('npdata_plgapeg_ace/n10plgapeg_aceRg.npy', allow_pickle=True)\n",
    "n16plgapeg_rgens_ace = np.load('npdata_plgapeg_ace/n16plgapeg_aceRg.npy', allow_pickle=True)\n",
    "n20plgapeg_rgens_ace = np.load('npdata_plgapeg_ace/n20plgapeg_aceRg.npy', allow_pickle=True)\n",
    "n30plgapeg_rgens_ace = np.load('npdata_plgapeg_ace/n30plgapeg_aceRg.npy', allow_pickle=True)"
   ]
  },
  {
   "cell_type": "code",
   "execution_count": null,
   "metadata": {},
   "outputs": [],
   "source": [
    "n30plgapeg_rgens_ace = np.load('n30plgapeg_aceRg.npy', allow_pickle=True)\n",
    "plgapegn30ace_rh = np.load('n30plgapeg_aceRHYD.npy', allow_pickle=True)"
   ]
  },
  {
   "cell_type": "code",
   "execution_count": null,
   "metadata": {},
   "outputs": [],
   "source": [
    "rg_rh_n30plgapegace = n30plgapeg_rgens_ace[0]/plgapegn30ace_rh"
   ]
  },
  {
   "cell_type": "code",
   "execution_count": null,
   "metadata": {},
   "outputs": [],
   "source": [
    "trj_len = np.arange(rg_rh_n30plgapegace.shape[0])\n",
    "trj_len.shape"
   ]
  },
  {
   "cell_type": "code",
   "execution_count": null,
   "metadata": {},
   "outputs": [],
   "source": [
    "plt.figure(figsize=(7,7))\n",
    "plt.plot(trj_len/100, rg_rh_n30plgapegace)\n",
    "plt.xlim(0,360)"
   ]
  },
  {
   "cell_type": "code",
   "execution_count": null,
   "metadata": {},
   "outputs": [],
   "source": [
    "rhy_rg_plgapegace = np.load('PLGAPEGacetone_RgRh_Lc.npy', allow_pickle=True)\n",
    "rhy_rg_plgapegace[0]"
   ]
  },
  {
   "cell_type": "code",
   "execution_count": null,
   "metadata": {},
   "outputs": [],
   "source": [
    "rhy_rg_plgapegace[0][5]"
   ]
  },
  {
   "cell_type": "code",
   "execution_count": null,
   "metadata": {},
   "outputs": [],
   "source": [
    "rg_rh_n30plgapegace[1334]"
   ]
  },
  {
   "cell_type": "code",
   "execution_count": null,
   "metadata": {},
   "outputs": [],
   "source": [
    "np.where(rg_rh_n30plgapegace < rhy_rg_plgapegace[0][5])"
   ]
  },
  {
   "cell_type": "markdown",
   "metadata": {},
   "source": [
    "#### Rg Autocorrelation"
   ]
  },
  {
   "cell_type": "code",
   "execution_count": 54,
   "metadata": {},
   "outputs": [
    {
     "name": "stdout",
     "output_type": "stream",
     "text": [
      "No. of Samples: 3223\n"
     ]
    }
   ],
   "source": [
    "ACn30plgapegace_Rg, eqvarRg_n30plgapegace = obs_autocorr_RA(n30plgapeg_rgens_ace[0],t_corr, window_shift,start,end)"
   ]
  },
  {
   "cell_type": "code",
   "execution_count": 55,
   "metadata": {},
   "outputs": [
    {
     "data": {
      "text/plain": [
       "array([[ 1.00000000e+00,  1.00147398e+00,  9.97898943e-01, ...,\n",
       "        -4.31164674e-01, -4.34798539e-01, -4.24697118e-01],\n",
       "       [ 0.00000000e+00,  1.00000000e+00,  2.00000000e+00, ...,\n",
       "         6.99700000e+03,  6.99800000e+03,  6.99900000e+03]])"
      ]
     },
     "execution_count": 55,
     "metadata": {},
     "output_type": "execute_result"
    }
   ],
   "source": [
    "ACn30plgapegace_Rg"
   ]
  },
  {
   "cell_type": "code",
   "execution_count": 56,
   "metadata": {},
   "outputs": [
    {
     "data": {
      "text/plain": [
       "8.189685227815062"
      ]
     },
     "execution_count": 56,
     "metadata": {},
     "output_type": "execute_result"
    }
   ],
   "source": [
    "eqvarRg_n30plgapegace"
   ]
  },
  {
   "cell_type": "code",
   "execution_count": 75,
   "metadata": {},
   "outputs": [
    {
     "data": {
      "image/png": "[encoded data removed]",
      "text/plain": [
       "<Figure size 504x504 with 1 Axes>"
      ]
     },
     "metadata": {
      "needs_background": "light"
     },
     "output_type": "display_data"
    }
   ],
   "source": [
    "plt.figure(figsize=(7,7))\n",
    "plt.title(r'PLGA-PEG in acetone autocorrelation', fontsize=18, y=1.01)\n",
    "plt.xlabel(r'Time [ns]', fontsize=15)\n",
    "plt.ylabel(r'$C_{A}(t)$', fontsize=15)\n",
    "plt.plot(ACn6plgapegace_Rg[1]/100, ACn6plgapegace_Rg[0],linewidth=2, color='teal')\n",
    "plt.plot(ACn8plgapegace_Rg[1]/100, ACn8plgapegace_Rg[0],linewidth=2, color='dodgerblue')\n",
    "plt.plot(ACn10plgapegace_Rg[1]/100, ACn10plgapegace_Rg[0],linewidth=2, color='darkmagenta')\n",
    "plt.plot(ACn16plgapegace_Rg[1]/100, ACn16plgapegace_Rg[0],linewidth=2, color='maroon')\n",
    "plt.plot(ACn20plgapegace_Rg[1]/100, ACn20plgapegace_Rg[0],linewidth=2, color='orangered')\n",
    "plt.plot(ACn30plgapegace_Rg[1]/100, ACn30plgapegace_Rg[0],linewidth=2, color='darkolivegreen')\n",
    "plt.tick_params(labelsize=14)\n",
    "plt.legend(['N = 6 Rg','N = 8 Rg','N = 10 Rg','N = 16 Rg','N = 20 Rg','N = 30 Rg'], frameon=False, fontsize=14)\n",
    "#plt.legend(['N = 6 Rg','N = 8 Rg','N = 10 Rg','N = 15 Rg'], frameon=False, fontsize=14)\n",
    "#plt.legend(['N = 20 Rg','N = 30 Rg'], frameon=False, fontsize=14)\n",
    "#plt.yscale('symlog', linthreshy=0.5)\n",
    "#plt.xscale('symlog')\n",
    "plt.xlim(0,70)\n",
    "plt.ylim(-1,1.2)\n",
    "plt.savefig('CA_rgpp_ace.jpg',bbox_inches='tight', dpi=400)"
   ]
  },
  {
   "cell_type": "markdown",
   "metadata": {},
   "source": [
    "#### Get average COM distance, arch length values"
   ]
  },
  {
   "cell_type": "code",
   "execution_count": null,
   "metadata": {},
   "outputs": [],
   "source": [
    "cb_n30plga = np.zeros(shape=(36001))\n",
    "cb_n30pplinker = np.zeros(shape=(36001))\n",
    "cb_n30plgapeg = np.zeros(shape=(36001))\n",
    "count = 0\n",
    "for ts in n30_plgapeg_ace.trajectory[0:36001]:\n",
    "    # 1st two PLGA residues\n",
    "    n30m1_plga = n30_plgapeg_ace.select_atoms(\"resid 1\")\n",
    "    n30m2_plga = n30_plgapeg_ace.select_atoms(\"resid 2\")\n",
    "    # PLGA-PEG linker (n_mon/2 to get to bPLG res no.)\n",
    "    n30pl_link = n30_plgapeg_ace.select_atoms(\"resid 15\")\n",
    "    n30plgapeg_link = n30_plgapeg_ace.select_atoms(\"resid 16\")\n",
    "    # last two PEG residues \n",
    "    n30l1_peg = n30_plgapeg_ace.select_atoms(\"resid 29\")\n",
    "    n30l2_peg = n30_plgapeg_ace.select_atoms(\"resid 30\")\n",
    "    \n",
    "    cb_n30plga[count] = mda.analysis.distances.distance_array(n30m1_plga.center_of_mass(), n30m2_plga.center_of_mass(), \n",
    "                                                   box=n30_plgapeg_ace.trajectory.ts.dimensions)\n",
    "    \n",
    "    cb_n30pplinker[count] = mda.analysis.distances.distance_array(n30pl_link.center_of_mass(), n30plgapeg_link.center_of_mass(), \n",
    "                                                   box=n30_plgapeg_ace.trajectory.ts.dimensions)\n",
    "    \n",
    "    cb_n30plgapeg[count] = mda.analysis.distances.distance_array(n30l1_peg.center_of_mass(), n30l2_peg.center_of_mass(), \n",
    "                                                   box=n30_plgapeg_ace.trajectory.ts.dimensions)\n",
    "    \n",
    "    count += 1\n",
    "    \n",
    "\n",
    "    "
   ]
  },
  {
   "cell_type": "code",
   "execution_count": null,
   "metadata": {},
   "outputs": [],
   "source": [
    "COM_ppn30ace = np.zeros(shape=(3,2))\n",
    "COM_ppn30ace[0,0] = np.mean(cb_n30plga)\n",
    "COM_ppn30ace[1,0] = np.mean(cb_n30pplinker)\n",
    "COM_ppn30ace[2,0] = np.mean(cb_n30plgapeg)\n",
    "COM_ppn30ace[0,1] = np.std(cb_n30plga)\n",
    "COM_ppn30ace[1,1] = np.std(cb_n30pplinker)\n",
    "COM_ppn30ace[2,1] = np.std(cb_n30plgapeg)\n",
    "COM_ppn30ace"
   ]
  },
  {
   "cell_type": "markdown",
   "metadata": {},
   "source": [
    "#### Correlation values at each arc length for the whole 360 ns trajectory, N = 30 PLGA-PEG/acetone"
   ]
  },
  {
   "cell_type": "code",
   "execution_count": null,
   "metadata": {},
   "outputs": [],
   "source": [
    "# x values\n",
    "blen_ppn30ace = np.zeros(shape=29)\n",
    "for i in range(n30_mon-1):\n",
    "    if i < int((n30_mon/2)-1):\n",
    "        # PLGA contour length values\n",
    "        if i == 0:\n",
    "            blen_ppn30ace[i] = 0\n",
    "        elif i != 0:\n",
    "            blen_ppn30ace[i] = np.sum(blen_ppn30ace[i-1]) + COM_ppn30ace[0,0]    \n",
    "    elif i == int((n30_mon/2)-1):\n",
    "        #PLGA-PEG linker length\n",
    "        blen_ppn30ace[i] = np.sum(blen_ppn30ace[i-1]) + COM_ppn30ace[1,0]\n",
    "    elif i > int((n30_mon/2)-1):\n",
    "    #    # PEG contour length values\n",
    "        blen_ppn30ace[i] = np.sum(blen_ppn30ace[i-1]) + COM_ppn30ace[2,0]\n",
    "        \n",
    "blen_ppn30ace"
   ]
  },
  {
   "cell_type": "code",
   "execution_count": null,
   "metadata": {},
   "outputs": [],
   "source": [
    "plt.figure(figsize=(7,7))\n",
    "plt.errorbar(blen_ppn30ace, cor_n30plgapeg_ace[0], yerr=cor_n30plgapeg_ace[1], color='teal', linestyle=\"None\",marker='o',\n",
    "     capsize=5, capthick=1, ecolor='black')"
   ]
  },
  {
   "cell_type": "code",
   "execution_count": null,
   "metadata": {},
   "outputs": [],
   "source": [
    "# Error prop. into natural log std deviation\n",
    "mk_n30ppace = cor_n30plgapeg_ace[1]/cor_n30plgapeg_ace[0]\n",
    "mk_n30ppace"
   ]
  },
  {
   "cell_type": "code",
   "execution_count": null,
   "metadata": {},
   "outputs": [],
   "source": [
    "cor_n30plgapeg_ace[0]"
   ]
  },
  {
   "cell_type": "code",
   "execution_count": null,
   "metadata": {},
   "outputs": [],
   "source": [
    "cor_n30plgapeg_ace[1].shape"
   ]
  },
  {
   "cell_type": "code",
   "execution_count": null,
   "metadata": {},
   "outputs": [],
   "source": [
    "a = np.arange(29)\n",
    "p1 = np.ma.masked_where(a == 25, np.log(cor_n30plgapeg_ace[0]))\n",
    "costh_n30ace = np.ma.masked_where(a == 26, p1)\n",
    "e1 = np.ma.masked_where(a == 25, mk_n30ppace)\n",
    "errln_n30ace  = np.ma.masked_where(a == 26, e1)"
   ]
  },
  {
   "cell_type": "code",
   "execution_count": null,
   "metadata": {},
   "outputs": [],
   "source": [
    "mk_n30ppace[25] = 0\n",
    "mk_n30ppace[26] = 0\n",
    "mk_n30ppace"
   ]
  },
  {
   "cell_type": "code",
   "execution_count": null,
   "metadata": {},
   "outputs": [],
   "source": [
    "plt.figure(figsize=(7,7))\n",
    "plt.errorbar(blen_ppn30ace, costh_n30ace, yerr=errln_n30ace, color='teal', linestyle=\"None\",marker='o',\n",
    "     capsize=5, capthick=1, ecolor='black')"
   ]
  },
  {
   "cell_type": "code",
   "execution_count": null,
   "metadata": {},
   "outputs": [],
   "source": [
    "plt.figure(figsize=(7,7))\n",
    "plt.errorbar(blen_ppn30ace, np.log(cor_n30plgapeg_ace[0]), yerr=mk_n30ppace, color='teal', linestyle=\"None\",marker='o',\n",
    "     capsize=5, capthick=1, ecolor='black')"
   ]
  },
  {
   "cell_type": "code",
   "execution_count": null,
   "metadata": {},
   "outputs": [],
   "source": [
    "# All the points give the best fits for N = 6 peg in acetone\n",
    "n30_blksplgapeg_ace , n30plgapeg_lpace = bavg_pers_cnt(5, plgapeg_n30ace, n30_plgapeg_ace, blen_ppn30ace, 5, 0 , 36001)"
   ]
  },
  {
   "cell_type": "code",
   "execution_count": null,
   "metadata": {},
   "outputs": [],
   "source": [
    "n30_blksplgapeg_ace"
   ]
  },
  {
   "cell_type": "code",
   "execution_count": null,
   "metadata": {},
   "outputs": [],
   "source": [
    "n30plgapeg_lpace"
   ]
  },
  {
   "cell_type": "code",
   "execution_count": null,
   "metadata": {},
   "outputs": [],
   "source": [
    "n30plgapeg_lpace[2]"
   ]
  },
  {
   "cell_type": "code",
   "execution_count": null,
   "metadata": {},
   "outputs": [],
   "source": [
    "np.mean(n30plgapeg_lpace[3])"
   ]
  },
  {
   "cell_type": "markdown",
   "metadata": {},
   "source": [
    "#### line fitted to cosine theta values using mean slope"
   ]
  },
  {
   "cell_type": "code",
   "execution_count": null,
   "metadata": {},
   "outputs": [],
   "source": [
    "blen_ppn30ace"
   ]
  },
  {
   "cell_type": "code",
   "execution_count": null,
   "metadata": {},
   "outputs": [],
   "source": [
    "gg_n30plgapeg_ace = line_fit(np.mean(n30plgapeg_lpace[2]),blen_ppn30ace)"
   ]
  },
  {
   "cell_type": "code",
   "execution_count": null,
   "metadata": {},
   "outputs": [],
   "source": [
    "gg_n20plgapeg_n30ace = line_fit(np.mean(n20plgapeg_lpace[2]),blen_ppn30ace)"
   ]
  },
  {
   "cell_type": "code",
   "execution_count": null,
   "metadata": {},
   "outputs": [],
   "source": [
    "gg_n16plgapeg_n30ace = line_fit(np.mean(n16plgapeg_lpace[2]),blen_ppn30ace)"
   ]
  },
  {
   "cell_type": "code",
   "execution_count": null,
   "metadata": {},
   "outputs": [],
   "source": [
    "gg_n10plgapeg_n30ace = line_fit(np.mean(n10plgapeg_lpace[2]),blen_ppn30ace)"
   ]
  },
  {
   "cell_type": "code",
   "execution_count": null,
   "metadata": {},
   "outputs": [],
   "source": [
    "gg_n8plgapeg_n30ace = line_fit(np.mean(n8plgapeg_lpace[2]),blen_ppn30ace)"
   ]
  },
  {
   "cell_type": "code",
   "execution_count": null,
   "metadata": {},
   "outputs": [],
   "source": [
    "gg_n6plgapeg_n30ace = line_fit(np.mean(n6plgapeg_lpace[2]),blen_ppn30ace)"
   ]
  },
  {
   "cell_type": "code",
   "execution_count": null,
   "metadata": {},
   "outputs": [],
   "source": [
    "gg_n30plgapeg_ace"
   ]
  },
  {
   "cell_type": "markdown",
   "metadata": {},
   "source": [
    "#### Block averaged Rg, Ree, Rh, mean sq. Ree and mean sq. Rg persistence length, N = 30 PLGA-PEG in acetone"
   ]
  },
  {
   "cell_type": "code",
   "execution_count": null,
   "metadata": {},
   "outputs": [],
   "source": [
    "blppn30ace = []\n",
    "for i in range(n30_mon-1):\n",
    "    if i < int((n30_mon/2)-1):\n",
    "        # PLGA contour length values\n",
    "        blppn30ace.append(COM_ppn30ace[0,0])    \n",
    "    elif i == int((n30_mon/2)-1):\n",
    "        #PLGA-PEG linker length\n",
    "        blppn30ace.append(COM_ppn30ace[1,0]) \n",
    "    elif i > int((n30_mon/2)-1):\n",
    "    #    # PEG contour length values\n",
    "        blppn30ace.append(COM_ppn30ace[2,0]) \n",
    "\n",
    "# Contour Length, N = 6 PLGA-PEG in acetone\n",
    "lc_ppn30ace = np.sum(blppn30ace)\n",
    "lc_ppn30ace"
   ]
  },
  {
   "cell_type": "markdown",
   "metadata": {},
   "source": [
    "#### Mean sq. e2e/Mean sq. Rg vs contour length PLGA-PEG in acetone"
   ]
  },
  {
   "cell_type": "code",
   "execution_count": null,
   "metadata": {},
   "outputs": [],
   "source": [
    "# Ree^2/Rg^2 array at different contour lengths\n",
    "re2e_rgsq_plgapegace[1,5] = lc_ppn30ace\n",
    "re2e_rgsq_plgapegace"
   ]
  },
  {
   "cell_type": "code",
   "execution_count": null,
   "metadata": {},
   "outputs": [],
   "source": [
    "a_ppn30ace = np.mean(n30_blksplgapeg_ace['Avg Sq. end to end distance'])"
   ]
  },
  {
   "cell_type": "code",
   "execution_count": null,
   "metadata": {},
   "outputs": [],
   "source": [
    "b_ppn30ace = np.mean(n30_blksplgapeg_ace['Avg Sq. radius of gyration'])"
   ]
  },
  {
   "cell_type": "code",
   "execution_count": null,
   "metadata": {},
   "outputs": [],
   "source": [
    "re2e_rgsq_plgapegace[0,5] = a_ppn30ace/b_ppn30ace\n",
    "re2e_rgsq_plgapegace"
   ]
  },
  {
   "cell_type": "markdown",
   "metadata": {},
   "source": [
    "#### Error propagation: Mean sq. e2e/Mean sq. Rg"
   ]
  },
  {
   "cell_type": "code",
   "execution_count": null,
   "metadata": {},
   "outputs": [],
   "source": [
    "e2esq_plgapegace = np.array([a_ppn6ace,a_ppn8ace, a_ppn10ace, a_ppn16ace,a_ppn20ace, a_ppn30ace])\n",
    "e2esq_plgapegace"
   ]
  },
  {
   "cell_type": "code",
   "execution_count": null,
   "metadata": {},
   "outputs": [],
   "source": [
    "rgsq_plgapegace = np.array([b_ppn6ace,b_ppn8ace, b_ppn10ace, b_ppn16ace, b_ppn20ace, b_ppn30ace])\n",
    "rgsq_plgapegace"
   ]
  },
  {
   "cell_type": "code",
   "execution_count": null,
   "metadata": {},
   "outputs": [],
   "source": [
    "# Error Propagation: https://terpconnect.umd.edu/~toh/models/ErrorPropagation.pdf\n",
    "stde2e_pdsys = np.array([np.std(n6_blksplgapeg_ace['Avg Sq. end to end distance']),\n",
    "                         np.std(n8_blksplgapeg_ace['Avg Sq. end to end distance']),\n",
    "                        np.std(n10_blksplgapeg_ace['Avg Sq. end to end distance']),\n",
    "                         np.std(n16_blksplgapeg_ace['Avg Sq. end to end distance']),\n",
    "                        np.std(n20_blksplgapeg_ace['Avg Sq. end to end distance']),\n",
    "                        np.std(n30_blksplgapeg_ace['Avg Sq. end to end distance'])])\n",
    "stde2e_pdsys"
   ]
  },
  {
   "cell_type": "code",
   "execution_count": null,
   "metadata": {},
   "outputs": [],
   "source": [
    "stdrgsq_pdsys = np.array([np.std(n6_blksplgapeg_ace['Avg Sq. radius of gyration']),\n",
    "                         np.std(n8_blksplgapeg_ace['Avg Sq. radius of gyration']),\n",
    "                         np.std(n10_blksplgapeg_ace['Avg Sq. radius of gyration']),\n",
    "                          np.std(n16_blksplgapeg_ace['Avg Sq. radius of gyration']),\n",
    "                         np.std(n20_blksplgapeg_ace['Avg Sq. radius of gyration']),\n",
    "                         np.std(n30_blksplgapeg_ace['Avg Sq. radius of gyration'])])\n",
    "stdrgsq_pdsys"
   ]
  },
  {
   "cell_type": "code",
   "execution_count": null,
   "metadata": {},
   "outputs": [],
   "source": [
    "re2e_rgsq_plgapegace[0]"
   ]
  },
  {
   "cell_type": "code",
   "execution_count": null,
   "metadata": {},
   "outputs": [],
   "source": [
    "x_pdsys = np.zeros(shape=6)\n",
    "for i in range(6):\n",
    "    ad_s = np.sqrt((((stde2e_pdsys[i]/e2esq_plgapegace[i])**2) + ((stdrgsq_pdsys[i]/rgsq_plgapegace[i])**2)))\n",
    "    x_pdsys[i] = re2e_rgsq_plgapegace[0][i]*ad_s\n",
    "    \n",
    "x_pdsys"
   ]
  },
  {
   "cell_type": "code",
   "execution_count": null,
   "metadata": {},
   "outputs": [],
   "source": [
    "re2e_rgsq_plgapegace"
   ]
  },
  {
   "cell_type": "code",
   "execution_count": null,
   "metadata": {},
   "outputs": [],
   "source": [
    "re2e_rgsq_plgapegace[2] = x_pdsys\n",
    "re2e_rgsq_plgapegace"
   ]
  },
  {
   "cell_type": "code",
   "execution_count": null,
   "metadata": {},
   "outputs": [],
   "source": [
    "re2e_rgsq_plgapegace.shape"
   ]
  },
  {
   "cell_type": "code",
   "execution_count": null,
   "metadata": {},
   "outputs": [],
   "source": [
    "np.save('PLGA-PEGace_msRee_msRg.npy', re2e_rgsq_plgapegace)"
   ]
  },
  {
   "cell_type": "code",
   "execution_count": null,
   "metadata": {},
   "outputs": [],
   "source": [
    "plt.figure(figsize=(7,7))\n",
    "plt.errorbar(re2e_rgsq_plgapegace[1]/10, re2e_rgsq_plgapegace[0], yerr=re2e_rgsq_plgapegace[2], color='#0371EC', linestyle=\"-\",marker='v',\n",
    "     capsize=5, capthick=1, ecolor='#0371EC')\n",
    "plt.title('Mean sq. Ree/Mean sq. Rg, PLGA-PEG in acetone', fontsize=15, y=1.01)\n",
    "plt.xlabel(r'Contour Length, $L_{c}$ [nm]', fontsize=15)\n",
    "plt.ylabel(r'$\\left<R_{ee}^{2}\\right>/\\left<R_{g}^{2}\\right>$', fontsize=15)\n",
    "plt.xticks(fontsize=15)\n",
    "plt.yticks(fontsize=15)\n",
    "plt.xlim(1,15)\n",
    "plt.ylim(0,10)"
   ]
  },
  {
   "cell_type": "markdown",
   "metadata": {},
   "source": [
    "#### Rg/Rh vs contour length PLGA-PEG in acetone"
   ]
  },
  {
   "cell_type": "code",
   "execution_count": null,
   "metadata": {},
   "outputs": [],
   "source": [
    "# Rg/Rh array at different contour lengths \n",
    "rhy_rg_plgapegace[1,5] = lc_ppn30ace\n",
    "rhy_rg_plgapegace"
   ]
  },
  {
   "cell_type": "code",
   "execution_count": null,
   "metadata": {},
   "outputs": [],
   "source": [
    "aa_ppn30ace = np.mean(n30_blksplgapeg_ace['Avg Radius of gyration'])"
   ]
  },
  {
   "cell_type": "code",
   "execution_count": null,
   "metadata": {},
   "outputs": [],
   "source": [
    "bb_ppn30ace = np.mean(n30_blksplgapeg_ace['Avg Hydrodynamic radius'])"
   ]
  },
  {
   "cell_type": "code",
   "execution_count": null,
   "metadata": {},
   "outputs": [],
   "source": [
    "rhy_rg_plgapegace[0,5] = aa_ppn30ace/bb_ppn30ace\n",
    "rhy_rg_plgapegace"
   ]
  },
  {
   "cell_type": "code",
   "execution_count": null,
   "metadata": {},
   "outputs": [],
   "source": [
    "rhy_rg_plgapegace"
   ]
  },
  {
   "cell_type": "markdown",
   "metadata": {},
   "source": [
    "#### Error Propagation: Rg/Rh vs contour length"
   ]
  },
  {
   "cell_type": "code",
   "execution_count": null,
   "metadata": {},
   "outputs": [],
   "source": [
    "rgsys_plgapegace = np.array([aa_ppn6ace,aa_ppn8ace, aa_ppn10ace, aa_ppn16ace,aa_ppn20ace, aa_ppn30ace])\n",
    "rgsys_plgapegace"
   ]
  },
  {
   "cell_type": "code",
   "execution_count": null,
   "metadata": {},
   "outputs": [],
   "source": [
    "rhydsys_plgapegace = np.array([bb_ppn6ace,bb_ppn8ace, bb_ppn10ace, bb_ppn16ace, bb_ppn20ace, bb_ppn30ace])\n",
    "rhydsys_plgapegace"
   ]
  },
  {
   "cell_type": "code",
   "execution_count": null,
   "metadata": {},
   "outputs": [],
   "source": [
    "# Error Propagation: https://terpconnect.umd.edu/~toh/models/ErrorPropagation.pdf\n",
    "stdrg_pdsys = np.array([np.std(n6_blksplgapeg_ace['Avg Radius of gyration']),\n",
    "                         np.std(n8_blksplgapeg_ace['Avg Radius of gyration']),\n",
    "                        np.std(n10_blksplgapeg_ace['Avg Radius of gyration']),\n",
    "                        np.std(n16_blksplgapeg_ace['Avg Radius of gyration']),\n",
    "                        np.std(n20_blksplgapeg_ace['Avg Radius of gyration']),\n",
    "                        np.std(n30_blksplgapeg_ace['Avg Radius of gyration'])])\n",
    "stdrg_pdsys"
   ]
  },
  {
   "cell_type": "code",
   "execution_count": null,
   "metadata": {},
   "outputs": [],
   "source": [
    "std_rhydsq_pdsys = np.array([np.std(n6_blksplgapeg_ace['Avg Hydrodynamic radius']),\n",
    "                         np.std(n8_blksplgapeg_ace['Avg Hydrodynamic radius']),\n",
    "                         np.std(n10_blksplgapeg_ace['Avg Hydrodynamic radius']),\n",
    "                          np.std(n16_blksplgapeg_ace['Avg Hydrodynamic radius']),    \n",
    "                         np.std(n20_blksplgapeg_ace['Avg Hydrodynamic radius']),\n",
    "                         np.std(n30_blksplgapeg_ace['Avg Hydrodynamic radius'])])\n",
    "std_rhydsq_pdsys"
   ]
  },
  {
   "cell_type": "code",
   "execution_count": null,
   "metadata": {},
   "outputs": [],
   "source": [
    "xrgrh_pdsys = np.zeros(shape=6)\n",
    "for i in range(6):\n",
    "    adn1_s = np.sqrt((((stdrg_pdsys[i]/rgsys_plgapegace[i])**2) + ((std_rhydsq_pdsys[i]/rhydsys_plgapegace[i])**2)))\n",
    "    xrgrh_pdsys[i] = rhy_rg_plgapegace[0][i]*adn1_s\n",
    "    \n",
    "xrgrh_pdsys"
   ]
  },
  {
   "cell_type": "code",
   "execution_count": null,
   "metadata": {},
   "outputs": [],
   "source": [
    "rhy_rg_plgapegace"
   ]
  },
  {
   "cell_type": "code",
   "execution_count": null,
   "metadata": {},
   "outputs": [],
   "source": [
    "rhy_rg_plgapegace[2] = xrgrh_pdsys\n",
    "rhy_rg_plgapegace"
   ]
  },
  {
   "cell_type": "code",
   "execution_count": null,
   "metadata": {},
   "outputs": [],
   "source": [
    "np.save('PLGAPEGacetone_RgRh_Lc.npy', rhy_rg_plgapegace)"
   ]
  },
  {
   "cell_type": "code",
   "execution_count": null,
   "metadata": {},
   "outputs": [],
   "source": [
    "plt.figure(figsize=(7,7))\n",
    "plt.errorbar(rhy_rg_plgapegace[1]/10, rhy_rg_plgapegace[0], yerr=rhy_rg_plgapegace[2], color='#0371EC', linestyle=\"-\",\n",
    "             marker='^', capsize=5, capthick=1, ecolor='#0371EC')\n",
    "plt.title(r'Rg/Rh PLGA-PEG in acetone', fontsize=15, y=1.01)\n",
    "plt.xlabel(r'Contour Length, $L_{c}$ [nm]', fontsize=15)\n",
    "plt.ylabel(r'$\\left<R_{g}\\right>/\\left<R_{hyd}\\right>$', fontsize=15)\n",
    "plt.xlim(1,15)\n",
    "plt.xticks(fontsize=15)\n",
    "plt.yticks(fontsize=15)\n",
    "plt.ylim(0.3,0.7)"
   ]
  },
  {
   "cell_type": "markdown",
   "metadata": {},
   "source": [
    "### kuhn lenght vs monomer length"
   ]
  },
  {
   "cell_type": "code",
   "execution_count": null,
   "metadata": {},
   "outputs": [],
   "source": [
    "REElclk_plgapegace = np.load('PLGAPEGacetone_REElclk.npy', allow_pickle=True)"
   ]
  },
  {
   "cell_type": "code",
   "execution_count": null,
   "metadata": {},
   "outputs": [],
   "source": [
    "REElclk_plgapegace = np.zeros(shape=(4,6))\n",
    "REElclk_plgapegace[0] = e2esq_plgapegace\n",
    "REElclk_plgapegace[1] = rhy_rg_plgapegace[1]\n",
    "REElclk_plgapegace[2] = stde2e_pace"
   ]
  },
  {
   "cell_type": "code",
   "execution_count": null,
   "metadata": {},
   "outputs": [],
   "source": [
    "plt.figure(figsize=(7,7))\n",
    "plt.errorbar(REElclk_plgapegace[1], REElclk_plgapegace[0], color='#0371EC', yerr=REElclk_plgapegace[2], linestyle=\"None\",marker='o',\n",
    "     capsize=5, capthick=1, ecolor='#0371EC')"
   ]
  },
  {
   "cell_type": "code",
   "execution_count": null,
   "metadata": {},
   "outputs": [],
   "source": [
    "# Linear fitting procedure: https://www2.isye.gatech.edu/~yxie77/isye2028/lecture12.pdf\n",
    "ne2e = REElclk_plgapegace[1]\n",
    "from sklearn.linear_model import LinearRegression\n",
    "model_e2eppace = LinearRegression(fit_intercept=True)\n",
    "model_e2eppace.fit(ne2e.reshape(-1,1), REElclk_plgapegace[0])\n",
    "# Slope here is in angstroms\n",
    "print(\"Model slope:    \", model_e2eppace.coef_[0])\n",
    "print(\"Model intercept:\", model_e2eppace.intercept_)"
   ]
  },
  {
   "cell_type": "code",
   "execution_count": null,
   "metadata": {},
   "outputs": [],
   "source": [
    "# https://towardsdatascience.com/how-to-perform-linear-regression-with-confidence-5ed8fc0bb9fe\n",
    "pair_regression(REElclk_plgapegace[1],REElclk_plgapegace[0])"
   ]
  },
  {
   "cell_type": "code",
   "execution_count": null,
   "metadata": {},
   "outputs": [],
   "source": [
    "gge2e_ppace = model_e2eppace.predict(ne2e.reshape(-1,1))\n",
    "gge2e_ppace"
   ]
  },
  {
   "cell_type": "code",
   "execution_count": null,
   "metadata": {},
   "outputs": [],
   "source": [
    "REElclk_plgapegace[0]"
   ]
  },
  {
   "cell_type": "code",
   "execution_count": null,
   "metadata": {},
   "outputs": [],
   "source": [
    "# Residuals between the true y data and model y data \n",
    "resid_e2eppace = REElclk_plgapegace[0] - gge2e_ppace\n",
    "resid_e2eppace"
   ]
  },
  {
   "cell_type": "code",
   "execution_count": null,
   "metadata": {},
   "outputs": [],
   "source": [
    "# How to calculate mean squared error, N - 2 is dof \n",
    "mse_e2eppace = np.sum(resid_e2eppace**2)/(len(resid_e2eppace) - 2)\n",
    "mse_e2eppace"
   ]
  },
  {
   "cell_type": "code",
   "execution_count": null,
   "metadata": {},
   "outputs": [],
   "source": [
    "# Normalized root mean squared error\n",
    "np.sqrt(mse_e2eppace)/(np.max(REElclk_plgapegace[0]) - np.min(REElclk_plgapegace[0]))"
   ]
  },
  {
   "cell_type": "code",
   "execution_count": null,
   "metadata": {},
   "outputs": [],
   "source": [
    "print(\"R2 score:\", sklearn.metrics.r2_score(REElclk_plgapegace[0].reshape(-1,1), gge2e_ppace))"
   ]
  },
  {
   "cell_type": "code",
   "execution_count": null,
   "metadata": {},
   "outputs": [],
   "source": [
    "# https://towardsdatascience.com/how-to-perform-linear-regression-with-confidence-5ed8fc0bb9fe\n",
    "getPairStats(REElclk_plgapegace[1],REElclk_plgapegace[0])"
   ]
  },
  {
   "cell_type": "code",
   "execution_count": null,
   "metadata": {},
   "outputs": [],
   "source": [
    "# How to calculate Sxx\n",
    "nt_tte2epd = ne2e - np.mean(ne2e)\n",
    "nhui_e2epd = nt_tte2epd**2\n",
    "np.sum(nhui_e2epd)"
   ]
  },
  {
   "cell_type": "code",
   "execution_count": null,
   "metadata": {},
   "outputs": [],
   "source": [
    "# How to calculate Sxy\n",
    "ata = np.sum((REElclk_plgapegace[0] - np.mean(REElclk_plgapegace[0]))*(ne2e - np.mean(ne2e)))\n",
    "ata"
   ]
  },
  {
   "cell_type": "code",
   "execution_count": null,
   "metadata": {},
   "outputs": [],
   "source": [
    "# Test statistic, t0\n",
    "(ata/np.sum(nhui_e2epd))/np.sqrt(mse_e2eppace/(np.sum(nhui_e2epd)))"
   ]
  },
  {
   "cell_type": "code",
   "execution_count": null,
   "metadata": {},
   "outputs": [],
   "source": [
    "# t-value with 95 % confidence intervals (alpha, n-2)\n",
    "# Value of test statistic is greater than threshold, reject H0\n",
    "n = len(resid_e2eppace) \n",
    "alpha = 0.05\n",
    "scipy.stats.t.ppf(1-alpha/2, n - 2)\n",
    "#scipy.stats.t.ppf(0.95, len(resid_e2epgace) - 1)"
   ]
  },
  {
   "cell_type": "code",
   "execution_count": null,
   "metadata": {},
   "outputs": [],
   "source": [
    "# How to calculate 95% confidence interval for the slope \n",
    "flc_e2epd = scipy.stats.t.ppf(1-alpha/2, n - 2)*np.sqrt(mse_e2eppace/(np.sum(nhui_e2epd)))\n",
    "flc_e2epd"
   ]
  },
  {
   "cell_type": "code",
   "execution_count": null,
   "metadata": {},
   "outputs": [],
   "source": [
    "# standard error of the slope\n",
    "np.sqrt(mse_e2eppace/np.sum(nhui_e2epd))"
   ]
  },
  {
   "cell_type": "code",
   "execution_count": null,
   "metadata": {},
   "outputs": [],
   "source": [
    "# https://towardsdatascience.com/how-to-perform-linear-regression-with-confidence-5ed8fc0bb9fe\n",
    "simple_regression_conf(REElclk_plgapegace[1],REElclk_plgapegace[0], alpha=0.05)"
   ]
  },
  {
   "cell_type": "code",
   "execution_count": null,
   "metadata": {},
   "outputs": [],
   "source": [
    "REElclk_plgapegace[3] = gge2e_ppace\n",
    "REElclk_plgapegace"
   ]
  },
  {
   "cell_type": "code",
   "execution_count": null,
   "metadata": {},
   "outputs": [],
   "source": [
    "np.save('PLGAPEGacetone_REElclk.npy', REElclk_plgapegace)"
   ]
  },
  {
   "cell_type": "code",
   "execution_count": null,
   "metadata": {},
   "outputs": [],
   "source": [
    "plt.figure(figsize=(7,7))\n",
    "plt.errorbar(REElclk_plgapegace[1], REElclk_plgapegace[0], color='#0371EC', yerr=REElclk_plgapegace[2], linestyle=\"None\",marker='v',\n",
    "     capsize=5, capthick=1, ecolor='#0371EC')\n",
    "plt.plot(REElclk_plgapegace[1], REElclk_plgapegace[3], color='#0371EC')\n",
    "plt.title(r'Kuhn Length, PLGA-PEG in acetone', fontsize=15)\n",
    "plt.ylabel(r'$\\left<R_{ee}^{2}\\right>$', fontsize=15)\n",
    "plt.xlabel(r'Contour Length, $L_{c}$ [$\\AA$]', fontsize=15)\n",
    "plt.tick_params(labelsize=14)\n",
    "plt.text(30, 1000, r'$l^{acetone}_{k}$ = 3.90 $\\AA$ ± 0.65 $\\AA$', fontsize=15, color='#0371EC')\n",
    "plt.text(30, 910, r'$R^{2}$ = 0.898, NRMSE = 0.14', fontsize=15, color='#0371EC')\n",
    "plt.xlim(10,150)\n",
    "plt.ylim(0,1200)"
   ]
  },
  {
   "cell_type": "markdown",
   "metadata": {},
   "source": [
    "#### Lp alternate method"
   ]
  },
  {
   "cell_type": "code",
   "execution_count": null,
   "metadata": {},
   "outputs": [],
   "source": [
    "REElclk_plgapegace"
   ]
  },
  {
   "cell_type": "code",
   "execution_count": null,
   "metadata": {},
   "outputs": [],
   "source": [
    "plt.figure(figsize=(7,7))\n",
    "plt.errorbar(REElclk_plgapegace[1], REElclk_plgapegace[0], color='#0371EC', yerr=REElclk_plgapegace[2], linestyle=\"None\",marker='v',\n",
    "     capsize=5, capthick=1, ecolor='#0371EC')\n",
    "#plt.plot(REElclk_plgapegace[1]/10, REElclk_plgapegace[3], color='#0371EC')\n",
    "plt.title(r'Kuhn Length, PLGA-PEG in acetone', fontsize=15)\n",
    "plt.ylabel(r'$\\left<R_{ee}^{2}\\right>$', fontsize=15)\n",
    "plt.xlabel(r'Contour Length, $L_{c}$ [A]', fontsize=15)\n",
    "plt.tick_params(labelsize=14)\n",
    "plt.xlim(10,150)\n",
    "plt.ylim(0,1200)"
   ]
  },
  {
   "cell_type": "code",
   "execution_count": null,
   "metadata": {},
   "outputs": [],
   "source": [
    "REElclk_plgapegace[2]"
   ]
  },
  {
   "cell_type": "code",
   "execution_count": null,
   "metadata": {},
   "outputs": [],
   "source": [
    "REElclk_plgapegace[1]"
   ]
  },
  {
   "cell_type": "code",
   "execution_count": null,
   "metadata": {},
   "outputs": [],
   "source": [
    "REElclk_plgapegace[0]"
   ]
  },
  {
   "cell_type": "code",
   "execution_count": null,
   "metadata": {},
   "outputs": [],
   "source": [
    "def sqree_lpfitting(lc, lp):\n",
    "    \n",
    "    fir_p = 2*lp*lc\n",
    "    \n",
    "    sec_p = 1 - ((lp/lc)*(1 - np.exp(-lc/lp)))\n",
    "    \n",
    "    return fir_p*sec_p\n",
    "    "
   ]
  },
  {
   "cell_type": "code",
   "execution_count": null,
   "metadata": {},
   "outputs": [],
   "source": [
    "sqree_lpfitting(16.2, 3.8)"
   ]
  },
  {
   "cell_type": "code",
   "execution_count": null,
   "metadata": {},
   "outputs": [],
   "source": [
    "def perslen_fitplgapegace(varbs, xlc, yree):\n",
    "    fir_varb = varbs['lp']\n",
    "    test_yree = []\n",
    "    \n",
    "    for i in range(len(xlc)):\n",
    "        model_yree = sqree_lpfitting(xlc[i],fir_varb)\n",
    "        test_yree.append(yree[i]- model_yree)\n",
    "        \n",
    "    return np.array(test_yree)"
   ]
  },
  {
   "cell_type": "code",
   "execution_count": null,
   "metadata": {},
   "outputs": [],
   "source": [
    "from lmfit import Minimizer, Parameters, report_fit"
   ]
  },
  {
   "cell_type": "code",
   "execution_count": null,
   "metadata": {},
   "outputs": [],
   "source": [
    "plgapegace_perfit = Parameters()\n",
    "plgapegace_perfit.add(name='lp', value=0)"
   ]
  },
  {
   "cell_type": "code",
   "execution_count": null,
   "metadata": {},
   "outputs": [],
   "source": [
    "perlc_plgapegace = Minimizer(perslen_fitplgapegace, plgapegace_perfit, fcn_args=(REElclk_plgapegace[1], REElclk_plgapegace[0]))\n",
    "olplc_plgapegace = perlc_plgapegace.leastsq()\n",
    "#bfit_n10 = ydata_n10ace + out_n10ace.residual "
   ]
  },
  {
   "cell_type": "code",
   "execution_count": null,
   "metadata": {},
   "outputs": [],
   "source": [
    "report_fit(olplc_plgapegace.params)"
   ]
  },
  {
   "cell_type": "code",
   "execution_count": null,
   "metadata": {},
   "outputs": [],
   "source": [
    "olplc_plgapegace.params"
   ]
  },
  {
   "cell_type": "code",
   "execution_count": null,
   "metadata": {},
   "outputs": [],
   "source": [
    "plgapegacelcree = []\n",
    "xlc = REElclk_plgapegace[1]\n",
    "for i in range(len(REElclk_plgapegace[1])):\n",
    "    plgapegacelcree.append(sqree_lpfitting(xlc[i], 2.49681926))\n",
    "    \n",
    "md_nlppace = np.array(plgapegacelcree)"
   ]
  },
  {
   "cell_type": "code",
   "execution_count": null,
   "metadata": {},
   "outputs": [],
   "source": [
    "md_nlppace"
   ]
  },
  {
   "cell_type": "code",
   "execution_count": null,
   "metadata": {},
   "outputs": [],
   "source": [
    "plt.figure(figsize=(7,7))\n",
    "plt.errorbar(REElclk_plgapegace[1], REElclk_plgapegace[0], color='#0371EC', yerr=REElclk_plgapegace[2], linestyle=\"None\",marker='v',\n",
    "    capsize=5, capthick=1, ecolor='#0371EC')\n",
    "plt.plot(REElclk_plgapegace[1], md_nlppace, color='r', ls='--')\n",
    "plt.title(r'$L_{p}$ alt calc, PLGA-PEG in acetone', fontsize=15)\n",
    "plt.ylabel(r'$\\left<R_{ee}^{2}\\right>$', fontsize=15)\n",
    "plt.xlabel(r'Contour Length, $L_{c}$ [$\\AA$]', fontsize=15)\n",
    "plt.legend([r'Model: $L_{p}$ = 2.50 $\\AA$ ± 0.22 $\\AA$','Sim'], frameon=False, fontsize=14)\n",
    "plt.tick_params(labelsize=14)\n",
    "plt.xlim(10,150)\n",
    "plt.ylim(0,1200)"
   ]
  },
  {
   "cell_type": "markdown",
   "metadata": {},
   "source": [
    "#### Error Propagation: Lp/Lc ratio"
   ]
  },
  {
   "cell_type": "code",
   "execution_count": null,
   "metadata": {},
   "outputs": [],
   "source": [
    "# pers length/contour length \n",
    "kuhnlpL_plgapegace[0,5] = np.mean(n30_blksplgapeg_ace[\"Avg persistence length\"])/lc_ppn30ace\n",
    "kuhnlpL_plgapegace"
   ]
  },
  {
   "cell_type": "code",
   "execution_count": null,
   "metadata": {},
   "outputs": [],
   "source": [
    "kuhnlpL_plgapegace"
   ]
  },
  {
   "cell_type": "code",
   "execution_count": null,
   "metadata": {},
   "outputs": [],
   "source": [
    "lpsys_plgapegace = np.array([np.mean(n6_blksplgapeg_ace[\"Avg persistence length\"]),\n",
    "                         np.mean(n8_blksplgapeg_ace[\"Avg persistence length\"]),\n",
    "                        np.mean(n10_blksplgapeg_ace[\"Avg persistence length\"]),\n",
    "                        np.mean(n16_blksplgapeg_ace[\"Avg persistence length\"]),  \n",
    "                        np.mean(n20_blksplgapeg_ace[\"Avg persistence length\"]),\n",
    "                        np.mean(n30_blksplgapeg_ace[\"Avg persistence length\"])])\n",
    "lpsys_plgapegace"
   ]
  },
  {
   "cell_type": "code",
   "execution_count": null,
   "metadata": {},
   "outputs": [],
   "source": [
    "# Error Propagation: https://terpconnect.umd.edu/~toh/models/ErrorPropagation.pdf\n",
    "stdlp_pdsys = np.array([np.std(n6_blksplgapeg_ace[\"Avg persistence length\"]),\n",
    "                         np.std(n8_blksplgapeg_ace[\"Avg persistence length\"]),\n",
    "                        np.std(n10_blksplgapeg_ace[\"Avg persistence length\"]),\n",
    "                        np.std(n16_blksplgapeg_ace[\"Avg persistence length\"]),\n",
    "                        np.std(n20_blksplgapeg_ace[\"Avg persistence length\"]),\n",
    "                        np.std(n30_blksplgapeg_ace[\"Avg persistence length\"])])\n",
    "stdlp_pdsys"
   ]
  },
  {
   "cell_type": "code",
   "execution_count": null,
   "metadata": {},
   "outputs": [],
   "source": [
    "xlp_pdsys = np.zeros(shape=6)\n",
    "for i in range(6):\n",
    "    adn2_s = np.sqrt((((stdlp_pdsys[i]/lpsys_plgapegace[i])**2)))\n",
    "    xlp_pdsys[i] = kuhnlpL_plgapegace[0][i]*adn2_s\n",
    "    \n",
    "xlp_pdsys"
   ]
  },
  {
   "cell_type": "code",
   "execution_count": null,
   "metadata": {},
   "outputs": [],
   "source": [
    "kuhnlpL_plgapegace[2] = xlp_pdsys\n",
    "kuhnlpL_plgapegace"
   ]
  },
  {
   "cell_type": "code",
   "execution_count": null,
   "metadata": {},
   "outputs": [],
   "source": [
    "np.save('PLGAPEGacetone_lk_LpL.npy', kuhnlpL_plgapegace)"
   ]
  },
  {
   "cell_type": "code",
   "execution_count": null,
   "metadata": {},
   "outputs": [],
   "source": [
    "plt.figure(figsize=(7,7))\n",
    "plt.xlabel(r'$N_{PEG}$', fontsize=15)\n",
    "plt.ylabel(r'$\\left<L_{p}\\right>/L_{c}$', fontsize=15)\n",
    "plt.title('Level of rigidity, PLGA-PEG in acetone', fontsize=15)\n",
    "plt.errorbar(kuhnlpL_plgapegace[1], kuhnlpL_plgapegace[0], yerr=kuhnlpL_plgapegace[2], marker='^',capsize=5, capthick=1)\n",
    "plt.tick_params(axis='both',labelsize=15, width=1)\n",
    "plt.ylim(0,1.5)\n",
    "plt.xlim(5,35)"
   ]
  },
  {
   "cell_type": "markdown",
   "metadata": {},
   "source": [
    "### Block averaged Radius of gyration and persistence length, N = 30 PLGA-PEG in acetone"
   ]
  },
  {
   "cell_type": "code",
   "execution_count": null,
   "metadata": {},
   "outputs": [],
   "source": [
    "np.mean(n30_blksplgapeg_ace[\"Avg persistence length\"])"
   ]
  },
  {
   "cell_type": "code",
   "execution_count": null,
   "metadata": {},
   "outputs": [],
   "source": [
    "np.std(n30_blksplgapeg_ace[\"Avg persistence length\"])"
   ]
  },
  {
   "cell_type": "code",
   "execution_count": null,
   "metadata": {},
   "outputs": [],
   "source": [
    "np.mean(n30_blksplgapeg_ace[\"Avg Radius of gyration\"])"
   ]
  },
  {
   "cell_type": "code",
   "execution_count": null,
   "metadata": {},
   "outputs": [],
   "source": [
    "np.std(n30_blksplgapeg_ace[\"Avg Radius of gyration\"])"
   ]
  },
  {
   "cell_type": "code",
   "execution_count": null,
   "metadata": {},
   "outputs": [],
   "source": [
    "plt.figure(figsize=(7,7))\n",
    "plt.errorbar(blen_ppn6ace, cor_n6plgapeg_ace[0], yerr=cor_n6plgapeg_ace[1], color='teal', linestyle=\"None\",marker='o',\n",
    "     capsize=5, capthick=1, ecolor='black')\n",
    "plt.errorbar(blen_ppn8ace, cor_n8plgapeg_ace[0], yerr=cor_n8plgapeg_ace[1], color='dodgerblue', linestyle=\"None\",marker='o',\n",
    "     capsize=5, capthick=1, ecolor='black')\n",
    "plt.errorbar(blen_ppn10ace, cor_n10plgapeg_ace[0], yerr=cor_n10plgapeg_ace[1], color='darkmagenta', linestyle=\"None\",marker='o',\n",
    "     capsize=5, capthick=1, ecolor='black')\n",
    "plt.errorbar(blen_ppn16ace, cor_n16plgapeg_ace[0], yerr=cor_n16plgapeg_ace[1], color='maroon', linestyle=\"None\",marker='o',\n",
    "     capsize=5, capthick=1, ecolor='black')\n",
    "plt.errorbar(blen_ppn20ace, cor_n20plgapeg_ace[0], yerr=cor_n20plgapeg_ace[1], color='orangered', linestyle=\"None\",marker='o',\n",
    "     capsize=5, capthick=1, ecolor='black')\n",
    "plt.errorbar(blen_ppn30ace, cor_n30plgapeg_ace[0], yerr=cor_n30plgapeg_ace[1], color='darkolivegreen', linestyle=\"None\",marker='o',\n",
    "     capsize=5, capthick=1, ecolor='black')\n",
    "plt.xlabel(r'Bond Length', fontsize=15)\n",
    "plt.ylabel(r'$\\left< Cos(\\theta)\\right >$', fontsize=15)\n",
    "plt.ylim(-0.5,1)\n",
    "plt.xlim(0,130)\n",
    "#plt.ylim(-1.9,0)\n",
    "font = font_manager.FontProperties(family='Arial', style='normal', size='14')\n",
    "#plt.legend([r'$N_{PEG}$ = 6: $L_{p}$ = 18.8 $\\AA$ ± 3.60 $\\AA$'], loc=3, frameon=0, fontsize=14, prop=font)\n",
    "plt.tick_params(labelsize=14)\n",
    "#plt.text(0.5, -6.9,r'$N_{PLGA-PEG}$ = 6: $L_{p}$ = 24.7 $\\AA$ ± 1.34 $\\AA$', fontsize=15, color='teal')\n",
    "#plt.text(0.5, -6.58,r'$N_{PLGA-PEG}$ = 8: $L_{p}$ = 27.3.0 $\\AA$ ± 4.09 $\\AA$', fontsize=15, color='dodgerblue')\n",
    "#plt.text(0.5, -6.23,r'$N_{PLGA-PEG}$ = 10: $L_{p}$ = 27.5 $\\AA$ ± 2.92 $\\AA$', fontsize=15, color='darkmagenta')\n",
    "#plt.text(0.5, -5.90,r'$N_{PLGA-PEG}$ = 16: $L_{p}$ = 31.3 $\\AA$ ± 2.30 $\\AA$', fontsize=15, color='maroon')\n",
    "#plt.text(0.5, -5.50,r'$N_{PLGA-PEG}$ = 20: $L_{p}$ = 31.6 $\\AA$ ± 3.45 $\\AA$', fontsize=15, color='orangered')\n",
    "#plt.text(0.5, -5.10,r'$N_{PLGA-PEG}$ = 30: $L_{p}$ = 28.9 $\\AA$ ± 2.25 $\\AA$', fontsize=15, color='darkolivegreen')"
   ]
  },
  {
   "cell_type": "code",
   "execution_count": null,
   "metadata": {},
   "outputs": [],
   "source": [
    "plt.figure(figsize=(7,7))\n",
    "plt.errorbar(blen_ppn6ace, np.log(cor_n6plgapeg_ace[0]), yerr=mk_n6ppace, color='teal', linestyle=\"None\",marker='o',\n",
    "     capsize=5, capthick=1, ecolor='black')\n",
    "plt.errorbar(blen_ppn8ace, np.log(cor_n8plgapeg_ace[0]), yerr=mk_n8ppace, color='dodgerblue', linestyle=\"None\",marker='o',\n",
    "     capsize=5, capthick=1, ecolor='black')\n",
    "plt.errorbar(blen_ppn10ace, np.log(cor_n10plgapeg_ace[0]), yerr=mk_n10ppace, color='darkmagenta', linestyle=\"None\",marker='o',\n",
    "     capsize=5, capthick=1, ecolor='black')\n",
    "plt.errorbar(blen_ppn16ace, np.log(cor_n16plgapeg_ace[0]), yerr=mk_n16ppace, color='maroon', linestyle=\"None\",marker='o',\n",
    "     capsize=5, capthick=1, ecolor='black')\n",
    "plt.errorbar(blen_ppn20ace[:16], np.log(cor_n20plgapeg_ace[0][:16]), yerr=mk_n20ppace[:16], color='orangered', linestyle=\"None\",marker='o',\n",
    "     capsize=5, capthick=1, ecolor='black')\n",
    "plt.errorbar(blen_ppn30ace, np.log(cor_n30plgapeg_ace[0]), yerr=mk_n30ppace, color='darkolivegreen', linestyle=\"None\",marker='o',\n",
    "     capsize=5, capthick=1, ecolor='black')\n",
    "plt.plot(blen_ppn30ace, gg_n6plgapeg_n30ace, color='teal')\n",
    "plt.plot(blen_ppn30ace, gg_n8plgapeg_n30ace, color='dodgerblue')\n",
    "plt.plot(blen_ppn30ace, gg_n10plgapeg_n30ace, color='darkmagenta')\n",
    "plt.plot(blen_ppn30ace, gg_n16plgapeg_n30ace, color='maroon')\n",
    "plt.plot(blen_ppn30ace, gg_n20plgapeg_n30ace, color='orangered')\n",
    "plt.plot(blen_ppn30ace, gg_n30plgapeg_ace, color='darkolivegreen')\n",
    "plt.title(r'Ensemble Averaged ln(Cosine $\\theta$) PLGA-PEG in acetone', fontsize=15, y=1.01)\n",
    "plt.xlabel(r'Bond Length', fontsize=15)\n",
    "plt.ylabel(r'ln$\\left< Cos(\\theta)\\right >$', fontsize=15)\n",
    "plt.ylim(-7,1.5)\n",
    "plt.xlim(0,130)\n",
    "#plt.ylim(-1.9,0)\n",
    "font = font_manager.FontProperties(family='Arial', style='normal', size='14')\n",
    "#plt.legend([r'$N_{PEG}$ = 6: $L_{p}$ = 18.8 $\\AA$ ± 3.60 $\\AA$'], loc=3, frameon=0, fontsize=14, prop=font)\n",
    "plt.tick_params(labelsize=14)\n",
    "plt.text(0.5, -6.9,r'$N_{PLGA-PEG}$ = 6: $L_{p}$ = 24.7 $\\AA$ ± 1.34 $\\AA$', fontsize=15, color='teal')\n",
    "plt.text(0.5, -6.58,r'$N_{PLGA-PEG}$ = 8: $L_{p}$ = 27.3.0 $\\AA$ ± 4.09 $\\AA$', fontsize=15, color='dodgerblue')\n",
    "plt.text(0.5, -6.23,r'$N_{PLGA-PEG}$ = 10: $L_{p}$ = 27.5 $\\AA$ ± 2.92 $\\AA$', fontsize=15, color='darkmagenta')\n",
    "plt.text(0.5, -5.90,r'$N_{PLGA-PEG}$ = 16: $L_{p}$ = 31.3 $\\AA$ ± 2.30 $\\AA$', fontsize=15, color='maroon')\n",
    "plt.text(0.5, -5.50,r'$N_{PLGA-PEG}$ = 20: $L_{p}$ = 31.6 $\\AA$ ± 3.45 $\\AA$', fontsize=15, color='orangered')\n",
    "plt.text(0.5, -5.10,r'$N_{PLGA-PEG}$ = 30: $L_{p}$ = 28.9 $\\AA$ ± 2.25 $\\AA$', fontsize=15, color='darkolivegreen')"
   ]
  },
  {
   "cell_type": "code",
   "execution_count": null,
   "metadata": {},
   "outputs": [],
   "source": [
    "rgplgapeg_olig_ace[r\"$R_{g}$ [Angstrom] N = 30 PEG ace \"] = n30_blksplgapeg_ace[\"Avg Radius of gyration\"]\n",
    "rgplgapeg_olig_ace"
   ]
  },
  {
   "cell_type": "code",
   "execution_count": null,
   "metadata": {},
   "outputs": [],
   "source": [
    "pers_plgapegt_ace[r\"$L_{p}$ [Angstrom] N = 30 PEG ace \"] = n30_blksplgapeg_ace[\"Avg persistence length\"]\n",
    "pers_plgapegt_ace"
   ]
  },
  {
   "cell_type": "code",
   "execution_count": null,
   "metadata": {},
   "outputs": [],
   "source": [
    "rgplgapeg_olig_ace.to_pickle(\"PLGAPEG_ace_Rg.pkl\")"
   ]
  },
  {
   "cell_type": "code",
   "execution_count": null,
   "metadata": {},
   "outputs": [],
   "source": [
    "pers_plgapegt_ace.to_pickle(\"PLGAPEG_ace_Lp.pkl\")"
   ]
  },
  {
   "cell_type": "markdown",
   "metadata": {},
   "source": [
    "### Fluory Exponent, PLGA-PEG in acetone systems "
   ]
  },
  {
   "cell_type": "code",
   "execution_count": null,
   "metadata": {},
   "outputs": [],
   "source": [
    "n_plgapeg = np.array([6,8,10,16,20,30])\n",
    "rg_nplgapeg_ace = np.array([np.mean(n6_blksplgapeg_ace[\"Avg Radius of gyration\"])\n",
    "                    ,np.mean(n8_blksplgapeg_ace[\"Avg Radius of gyration\"]),np.mean(n10_blksplgapeg_ace[\"Avg Radius of gyration\"])\n",
    "                    ,np.mean(n16_blksplgapeg_ace[\"Avg Radius of gyration\"]),\n",
    "                    np.mean(n20_blksplgapeg_ace[\"Avg Radius of gyration\"]),np.mean(n30_blksplgapeg_ace[\"Avg Radius of gyration\"])])"
   ]
  },
  {
   "cell_type": "code",
   "execution_count": null,
   "metadata": {},
   "outputs": [],
   "source": [
    "rg_nplgapeg_ace"
   ]
  },
  {
   "cell_type": "code",
   "execution_count": null,
   "metadata": {},
   "outputs": [],
   "source": [
    "rgace_nplgapeg_std = np.array([np.std(np.log10(n6_blksplgapeg_ace[\"Avg Radius of gyration\"]))\n",
    "                    ,np.std(np.log10(n8_blksplgapeg_ace[\"Avg Radius of gyration\"]))\n",
    "                        ,np.std(np.log10(n10_blksplgapeg_ace[\"Avg Radius of gyration\"]))\n",
    "                       ,np.std(np.log10(n16_blksplgapeg_ace[\"Avg Radius of gyration\"]))     \n",
    "                    ,np.std(np.log10(n20_blksplgapeg_ace[\"Avg Radius of gyration\"]))\n",
    "                        ,np.std(np.log10(n30_blksplgapeg_ace[\"Avg Radius of gyration\"]))])\n",
    "rgace_nplgapeg_std"
   ]
  },
  {
   "cell_type": "code",
   "execution_count": null,
   "metadata": {},
   "outputs": [],
   "source": [
    "n_plgapeg"
   ]
  },
  {
   "cell_type": "code",
   "execution_count": null,
   "metadata": {},
   "outputs": [],
   "source": [
    "np.log10(rg_nplgapeg_ace)"
   ]
  },
  {
   "cell_type": "code",
   "execution_count": null,
   "metadata": {},
   "outputs": [],
   "source": [
    "np.log10(n_plgapeg)"
   ]
  },
  {
   "cell_type": "code",
   "execution_count": null,
   "metadata": {},
   "outputs": [],
   "source": [
    "# From fitting all points, I get best fit \n",
    "from sklearn.linear_model import LinearRegression\n",
    "model_vace = LinearRegression(fit_intercept=True)\n",
    "model_vace.fit(np.log10(n_plgapeg).reshape(-1,1), np.log10(rg_nplgapeg_ace))\n",
    "# Slope here is in nanometers\n",
    "print(\"Model slope:    \", model_vace.coef_[0])\n",
    "print(\"Model intercept:\", model_vace.intercept_)"
   ]
  },
  {
   "cell_type": "code",
   "execution_count": null,
   "metadata": {},
   "outputs": [],
   "source": [
    "gg_ace = model_vace.predict(np.log10(n_plgapeg).reshape(-1,1))\n",
    "gg_ace"
   ]
  },
  {
   "cell_type": "code",
   "execution_count": null,
   "metadata": {},
   "outputs": [],
   "source": [
    "print(\"Mean Std Error:\", sklearn.metrics.mean_squared_error(np.log10(rg_nplgapeg_ace), gg_ace))\n",
    "print(\"R2 score:\", sklearn.metrics.r2_score(np.log10(rg_nplgapeg_ace), gg_ace))"
   ]
  },
  {
   "cell_type": "code",
   "execution_count": null,
   "metadata": {},
   "outputs": [],
   "source": [
    "# Residuals between the true y data and model y data \n",
    "resid_vace = np.log10(rg_nplgapeg_ace) - gg_ace\n",
    "resid_vace"
   ]
  },
  {
   "cell_type": "code",
   "execution_count": null,
   "metadata": {},
   "outputs": [],
   "source": [
    "# How to calculate Sum((Xi - avg(X))^2): X values are the bond length values \n",
    "nt_ttace = np.log10(n_plgapeg)\n",
    "nt_ttace -= np.mean(nt_ttace)\n",
    "nhui_ace = nt_ttace**2\n",
    "np.sum(nhui_ace)"
   ]
  },
  {
   "cell_type": "code",
   "execution_count": null,
   "metadata": {},
   "outputs": [],
   "source": [
    "# t-value with 95 % confidence intervals \n",
    "scipy.stats.t.ppf(0.95, 4)"
   ]
  },
  {
   "cell_type": "code",
   "execution_count": null,
   "metadata": {},
   "outputs": [],
   "source": [
    "# How to calculate 95% confidence interval for the slope \n",
    "flc_vace = scipy.stats.t.ppf(0.95, 4)*np.sqrt((np.sum(resid_vace**2)/(len(resid_vace)-1))/(np.sum(nhui_ace)))\n",
    "flc_vace"
   ]
  },
  {
   "cell_type": "code",
   "execution_count": null,
   "metadata": {},
   "outputs": [],
   "source": [
    "plt.figure(figsize=(7,7))\n",
    "plt.errorbar(np.log10(n_plgapeg), np.log10(rg_nplgapeg_ace), yerr=rgace_nplgapeg_std, color='#A58262', linestyle=\"None\",marker='o',\n",
    "     capsize=5, capthick=1, ecolor='black')\n",
    "plt.plot(np.log10(n_plgapeg), gg_ace, color='#A58262')\n",
    "plt.title(r'Fluory Exponent', fontsize=15)\n",
    "plt.xlabel(r'Log($N_{PLGA-PEG}$)', fontsize=15)\n",
    "plt.ylabel(r'Log($R_{g}$)', fontsize=15)\n",
    "plt.tick_params(labelsize=14)\n",
    "plt.text(1.1, 0.75, r'$v_{acetone}$ = 0.52 ± 0.08', fontsize=15, color='#A58262')"
   ]
  },
  {
   "cell_type": "code",
   "execution_count": null,
   "metadata": {},
   "outputs": [],
   "source": []
  }
 ],
 "metadata": {
  "kernelspec": {
   "display_name": "homeV2_env",
   "language": "python",
   "name": "homev2_env"
  },
  "language_info": {
   "codemirror_mode": {
    "name": "ipython",
    "version": 3
   },
   "file_extension": ".py",
   "mimetype": "text/x-python",
   "name": "python",
   "nbconvert_exporter": "python",
   "pygments_lexer": "ipython3",
   "version": "3.9.7"
  }
 },
 "nbformat": 4,
 "nbformat_minor": 4
}
