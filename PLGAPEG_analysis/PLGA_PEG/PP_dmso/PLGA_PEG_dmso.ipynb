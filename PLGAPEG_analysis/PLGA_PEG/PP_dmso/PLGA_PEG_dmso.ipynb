{
 "cells": [
  {
   "cell_type": "code",
   "execution_count": null,
   "metadata": {},
   "outputs": [],
   "source": [
    "#import the necessary modules \n",
    "%matplotlib inline \n",
    "import numpy as np \n",
    "import matplotlib.pyplot as plt \n",
    "import pandas as pd \n",
    "import scipy\n",
    "import sklearn\n",
    "import itertools \n",
    "from itertools import cycle \n",
    "import os.path as op\n",
    "import timeit \n",
    "import json\n",
    "import math"
   ]
  },
  {
   "cell_type": "code",
   "execution_count": null,
   "metadata": {},
   "outputs": [],
   "source": [
    "import multiprocessing as m_proc\n",
    "m_proc.cpu_count()"
   ]
  },
  {
   "cell_type": "code",
   "execution_count": null,
   "metadata": {},
   "outputs": [],
   "source": [
    "# Import MDAnalysis\n",
    "import MDAnalysis as mda\n",
    "import statsmodels as stats"
   ]
  },
  {
   "cell_type": "code",
   "execution_count": null,
   "metadata": {},
   "outputs": [],
   "source": [
    "from plgapeg_MD_analysis import (pers_length, get_rg_pers_poly, bavg_pers_cnt, pos_bead_autocorr_RA,\n",
    "                                 rouse_relax, zimm_relax_fit, zimm_relax_func, rh_block_avg, mean_sq_e2e, hydro_rad_poly,\n",
    "                                obs_autocorr_RA)"
   ]
  },
  {
   "cell_type": "code",
   "execution_count": null,
   "metadata": {},
   "outputs": [],
   "source": [
    "from polymer_MD_analysis import (pers_length, get_rg_pers_poly, bavg_pers_cnt, pos_bead_autocorr_RA,\n",
    "                                 rouse_relax, zimm_relax_fit, zimm_relax_func, rh_block_avg, mean_sq_e2e, hydro_rad_poly,\n",
    "                                obs_autocorr_RA, getPairStats, pair_regression, simple_regression_conf)"
   ]
  },
  {
   "cell_type": "markdown",
   "metadata": {},
   "source": [
    "## PLGA-PEG/DMSO system analysis"
   ]
  },
  {
   "cell_type": "markdown",
   "metadata": {},
   "source": [
    "### N = 6 PLGA-PEG/DMSO "
   ]
  },
  {
   "cell_type": "code",
   "execution_count": null,
   "metadata": {},
   "outputs": [],
   "source": [
    "# For the right Rg calculation using MD Analysis, use trajactory without pbc \n",
    "n6_plgapeg_dmso = mda.Universe(\"n6plga_peg_dmso/n6plgapeg_DMSO.pdb\", \"n6plga_peg_dmso/NoDMSO_n6plgapeg.xtc\")"
   ]
  },
  {
   "cell_type": "code",
   "execution_count": null,
   "metadata": {},
   "outputs": [],
   "source": [
    "n6_plgapeg_dmso.trajectory"
   ]
  },
  {
   "cell_type": "code",
   "execution_count": null,
   "metadata": {},
   "outputs": [],
   "source": [
    "len(n6_plgapeg_dmso.trajectory)"
   ]
  },
  {
   "cell_type": "code",
   "execution_count": null,
   "metadata": {},
   "outputs": [],
   "source": [
    "#Select the polymer heavy atoms \n",
    "plgapeg_n6dmso = n6_plgapeg_dmso.select_atoms(\"resname sPLG PLG bPLG bPEG PEG sPEG and not type H\")"
   ]
  },
  {
   "cell_type": "code",
   "execution_count": null,
   "metadata": {},
   "outputs": [],
   "source": [
    "np.unique(plgapeg_n6dmso.resids)"
   ]
  },
  {
   "cell_type": "code",
   "execution_count": null,
   "metadata": {},
   "outputs": [],
   "source": [
    "# Get cosine theta values at frame 0 \n",
    "crv_n6plgapeg_dmso = pers_length(plgapeg_n6dmso,6)\n",
    "crv_n6plgapeg_dmso"
   ]
  },
  {
   "cell_type": "markdown",
   "metadata": {},
   "source": [
    "### Orientation Order parameter vs. time "
   ]
  },
  {
   "cell_type": "code",
   "execution_count": null,
   "metadata": {},
   "outputs": [],
   "source": [
    "n_mon = 6 \n",
    "start = 0\n",
    "end = 36001"
   ]
  },
  {
   "cell_type": "code",
   "execution_count": null,
   "metadata": {},
   "outputs": [],
   "source": [
    "OOp_n6plgapeg_dmso = orientation_order_param(plgapeg_n6dmso, n6_plgapeg_dmso, n_mon, start, end)"
   ]
  },
  {
   "cell_type": "code",
   "execution_count": null,
   "metadata": {},
   "outputs": [],
   "source": [
    "OOp_n6plgapeg_dmso.shape"
   ]
  },
  {
   "cell_type": "code",
   "execution_count": null,
   "metadata": {},
   "outputs": [],
   "source": [
    "trj_len = np.arange(36001)\n",
    "plt.figure(figsize=(7,7))\n",
    "plt.title(r'PLGA-PEG Orientation Order Parameter', fontsize=18, y=1.01)\n",
    "plt.xlabel(r'Time [ns]', fontsize=15)\n",
    "plt.ylabel(r'Z', fontsize=15)\n",
    "plt.plot(trj_len/100, OOp_n6plgapeg_dmso,linewidth=2, color='teal')\n",
    "plt.tick_params(labelsize=14)\n",
    "plt.legend(['N = 6 in DMSO'], frameon=False, fontsize=14)\n",
    "#plt.text(127, 0.96,r'N = 6 in DMSO', fontsize=18, color='#1F2E69', family='Arial')\n",
    "plt.xlim(0,360)\n",
    "plt.ylim(-1,1)"
   ]
  },
  {
   "cell_type": "markdown",
   "metadata": {},
   "source": [
    "#### Mean Orientation Order Parameter for N = 6 PLGA-PEG in DMSO"
   ]
  },
  {
   "cell_type": "code",
   "execution_count": null,
   "metadata": {},
   "outputs": [],
   "source": [
    "OOp_n6plgapeg_dmso[82]"
   ]
  },
  {
   "cell_type": "code",
   "execution_count": null,
   "metadata": {},
   "outputs": [],
   "source": [
    "OOp_n6plgapeg_dmso[239]"
   ]
  },
  {
   "cell_type": "code",
   "execution_count": null,
   "metadata": {},
   "outputs": [],
   "source": [
    "np.mean(OOp_n6plgapeg_dmso)"
   ]
  },
  {
   "cell_type": "code",
   "execution_count": null,
   "metadata": {},
   "outputs": [],
   "source": [
    "np.std(OOp_n6plgapeg_dmso)"
   ]
  },
  {
   "cell_type": "markdown",
   "metadata": {},
   "source": [
    "### Mean squared end to end distance "
   ]
  },
  {
   "cell_type": "code",
   "execution_count": null,
   "metadata": {},
   "outputs": [],
   "source": [
    "n_mon = 6 \n",
    "start = 0\n",
    "end = 36001"
   ]
  },
  {
   "cell_type": "code",
   "execution_count": null,
   "metadata": {},
   "outputs": [],
   "source": [
    "eVec_n6plgapeg_dmso, e2edis_n6plgapeg_dmso = mean_sq_e2e(plgapeg_n6dmso, n6_plgapeg_dmso, n_mon, start, end)"
   ]
  },
  {
   "cell_type": "code",
   "execution_count": null,
   "metadata": {},
   "outputs": [],
   "source": [
    "trj_len = np.arange(36001)\n",
    "plt.figure(figsize=(7,7))\n",
    "plt.title(r'PLGA-PEG End to End distance', fontsize=18, y=1.01)\n",
    "plt.xlabel(r'Time [ns]', fontsize=15)\n",
    "plt.ylabel(r'$R_{ee}$ [nm]', fontsize=15)\n",
    "plt.plot(trj_len/100, e2edis_n6plgapeg_dmso[1]/10,linewidth=2, color='teal')\n",
    "plt.tick_params(labelsize=14)\n",
    "plt.legend(['N = 6 in DMSO'], frameon=False, fontsize=14)\n",
    "#plt.text(127, 0.96,r'N = 6 in DMSO', fontsize=18, color='#1F2E69', family='Arial')\n",
    "plt.xlim(0,360)\n",
    "plt.ylim(0,2)"
   ]
  },
  {
   "cell_type": "markdown",
   "metadata": {},
   "source": [
    "#### Ree Autocorrelation function"
   ]
  },
  {
   "cell_type": "code",
   "execution_count": null,
   "metadata": {},
   "outputs": [],
   "source": [
    "e2edis_n6plgapeg_dmso[1]"
   ]
  },
  {
   "cell_type": "code",
   "execution_count": null,
   "metadata": {},
   "outputs": [],
   "source": [
    "t_corr = 5000\n",
    "window_shift = 15"
   ]
  },
  {
   "cell_type": "code",
   "execution_count": null,
   "metadata": {},
   "outputs": [],
   "source": [
    "ACn6plgapegdmso_Ree, eqvar_n6plgapegdmso = obs_autocorr_RA(e2edis_n6plgapeg_dmso[1],t_corr, window_shift,start,end)"
   ]
  },
  {
   "cell_type": "code",
   "execution_count": null,
   "metadata": {},
   "outputs": [],
   "source": [
    "ACn6plgapegdmso_Ree"
   ]
  },
  {
   "cell_type": "code",
   "execution_count": null,
   "metadata": {},
   "outputs": [],
   "source": [
    "eqvar_n6plgapegdmso"
   ]
  },
  {
   "cell_type": "code",
   "execution_count": null,
   "metadata": {},
   "outputs": [],
   "source": [
    "ACn6plgapegdmso_sqRee, evsqRee_n6plgapegdmso = obs_autocorr_RA(e2edis_n6plgapeg_dmso[0],t_corr, window_shift,start,end)"
   ]
  },
  {
   "cell_type": "code",
   "execution_count": null,
   "metadata": {},
   "outputs": [],
   "source": [
    "np.sqrt(evsqRee_n6plgapegdmso)"
   ]
  },
  {
   "cell_type": "code",
   "execution_count": null,
   "metadata": {},
   "outputs": [],
   "source": [
    "plt.figure(figsize=(7,7))\n",
    "plt.title(r'PLGA-PEG Ree autocorrelation', fontsize=18, y=1.01)\n",
    "plt.xlabel(r'Time [ns]', fontsize=15)\n",
    "plt.ylabel(r'$C_{A}(t)$', fontsize=15)\n",
    "plt.plot(ACn6plgapegdmso_Ree[1]/100, ACn6plgapegdmso_Ree[0],linewidth=2, color='teal')\n",
    "plt.tick_params(labelsize=14)\n",
    "plt.legend(['N = 6 Ree'], frameon=False, fontsize=14)\n",
    "#plt.yscale('symlog', linthreshy=0.5)\n",
    "#plt.xscale('symlog')\n",
    "plt.xlim(0,70)\n",
    "plt.ylim(-1,1)"
   ]
  },
  {
   "cell_type": "markdown",
   "metadata": {},
   "source": [
    "### Hydrodynamic Radius vs time"
   ]
  },
  {
   "cell_type": "code",
   "execution_count": null,
   "metadata": {},
   "outputs": [],
   "source": [
    "n_mon = 6 \n",
    "start = 0\n",
    "end = 36001"
   ]
  },
  {
   "cell_type": "code",
   "execution_count": null,
   "metadata": {},
   "outputs": [],
   "source": [
    "plgapegn6dmso_rh = hydro_rad_poly(plgapeg_n6dmso, n6_plgapeg_dmso, n_mon, start, end)"
   ]
  },
  {
   "cell_type": "code",
   "execution_count": null,
   "metadata": {},
   "outputs": [],
   "source": [
    "trj_len = np.arange(36001)\n",
    "plt.figure(figsize=(7,7))\n",
    "plt.title(r'PLGA-PEG Hydrodynamic Radius', fontsize=18, y=1.01)\n",
    "plt.xlabel(r'Time [ns]', fontsize=15)\n",
    "plt.ylabel(r'$R_{hyd}$ [nm]', fontsize=15)\n",
    "plt.plot(trj_len/100, plgapegn6dmso_rh/10,linewidth=2, color='teal')\n",
    "plt.tick_params(labelsize=14)\n",
    "plt.legend(['N = 6 in DMSO'], frameon=False, fontsize=14)\n",
    "#plt.text(127, 0.96,r'N = 6 in DMSO', fontsize=18, color='#1F2E69', family='Arial')\n",
    "plt.xlim(0,360)\n",
    "plt.ylim(0,2)"
   ]
  },
  {
   "cell_type": "markdown",
   "metadata": {},
   "source": [
    "#### Rh autocorrelation"
   ]
  },
  {
   "cell_type": "code",
   "execution_count": null,
   "metadata": {},
   "outputs": [],
   "source": [
    "t_corr = 5000\n",
    "window_shift = 9"
   ]
  },
  {
   "cell_type": "code",
   "execution_count": null,
   "metadata": {},
   "outputs": [],
   "source": [
    "ACn6plgapegdmsoRh, eqvarRh_n6plgapegdmso = obs_autocorr_RA(plgapegn6dmso_rh,t_corr, window_shift,start,end)"
   ]
  },
  {
   "cell_type": "code",
   "execution_count": null,
   "metadata": {},
   "outputs": [],
   "source": [
    "ACn6plgapegdmsoRh"
   ]
  },
  {
   "cell_type": "code",
   "execution_count": null,
   "metadata": {},
   "outputs": [],
   "source": [
    "eqvarRh_n6plgapegdmso"
   ]
  },
  {
   "cell_type": "code",
   "execution_count": null,
   "metadata": {},
   "outputs": [],
   "source": [
    "plt.figure(figsize=(7,7))\n",
    "plt.title(r'PLGA-PEG Rh autocorrelation', fontsize=18, y=1.01)\n",
    "plt.xlabel(r'Time [ns]', fontsize=15)\n",
    "plt.ylabel(r'$C_{Rh}(t)$', fontsize=15)\n",
    "plt.plot(ACn6plgapegdmsoRh[1]/100, ACn6plgapegdmsoRh[0],linewidth=2, color='teal')\n",
    "#plt.plot(A2n6plgapegdmso_Ree[1]/100, ACn6plgapegdmso_Ree[0],linewidth=2, color='r')\n",
    "plt.tick_params(labelsize=14)\n",
    "plt.legend(['N = 6 in DMSO'], frameon=False, fontsize=14)\n",
    "#plt.text(127, 0.96,r'N = 6 in DMSO', fontsize=18, color='#1F2E69', family='Arial')\n",
    "plt.xlim(0,70)\n",
    "#plt.ylim(-0.2,1)"
   ]
  },
  {
   "cell_type": "markdown",
   "metadata": {},
   "source": [
    "### Relaxation times vs monomer length "
   ]
  },
  {
   "cell_type": "code",
   "execution_count": null,
   "metadata": {},
   "outputs": [],
   "source": [
    "# Key variables \n",
    "# def pos_bead_autocorr_RA(polymer_atoms, universe, n_monomers, t_corr,  start, end):\n",
    "n_mon = 6 \n",
    "start = 0\n",
    "end = 36001\n",
    "t_corr = 1000\n",
    "window_shift = 20"
   ]
  },
  {
   "cell_type": "code",
   "execution_count": null,
   "metadata": {},
   "outputs": [],
   "source": [
    "s_time = timeit.default_timer()\n",
    "tcRA_plgapegn6dmso, tcSUM_plgapegn6dmso = pos_bead_autocorr_RA(plgapeg_n6dmso, n6_plgapeg_dmso, n_mon, t_corr, window_shift\n",
    "                                                                , start, end)\n",
    "timeit.default_timer() - s_time"
   ]
  },
  {
   "cell_type": "code",
   "execution_count": null,
   "metadata": {},
   "outputs": [],
   "source": [
    "tcRA_plgapegn6dmso"
   ]
  },
  {
   "cell_type": "code",
   "execution_count": null,
   "metadata": {},
   "outputs": [],
   "source": [
    "tcSUM_plgapegn6dmso.shape"
   ]
  },
  {
   "cell_type": "markdown",
   "metadata": {},
   "source": [
    "### Fitting autocorrelation data "
   ]
  },
  {
   "cell_type": "code",
   "execution_count": null,
   "metadata": {},
   "outputs": [],
   "source": [
    "tcRA_plgapegn6dmso = np.load('n6ppdmso_CtRA.npy', allow_pickle=True)\n",
    "tcRA_plgapegn8dmso = np.load('n8ppdmso_CtRA.npy', allow_pickle=True)\n",
    "tcRA_plgapegn10dmso = np.load('n10ppdmso_CtRA.npy', allow_pickle=True)\n",
    "tcRA_plgapegn16dmso = np.load('n16ppdmso_CtRA.npy', allow_pickle=True)\n",
    "tcRA_plgapegn20dmso = np.load('n20ppdmso_CtRA.npy', allow_pickle=True)\n",
    "tcRA_plgapegn20dmsoT2 = np.load('n20ppdmsoT2_CtRA.npy', allow_pickle=True)\n",
    "tcRA_plgapegn30dmso = np.load('n30ppdmso_CtRA.npy', allow_pickle=True)\n",
    "tcRA_plgapegn30dmsoT2 = np.load('n30ppdmsoT2_CtRA.npy', allow_pickle=True)"
   ]
  },
  {
   "cell_type": "code",
   "execution_count": null,
   "metadata": {},
   "outputs": [],
   "source": [
    "s_n6 =[2 for i in range(tcRA_plgapegn6dmso[1].shape[0])]\n",
    "s_n8 =[2 for i in range(tcRA_plgapegn8dmso[1].shape[0])]\n",
    "s_n10 =[2 for i in range(tcRA_plgapegn10dmso[1].shape[0])]\n",
    "s_n16 =[2 for i in range(tcRA_plgapegn16dmso[1].shape[0])]\n",
    "s_n20 =[2 for i in range(tcRA_plgapegn20dmso[1].shape[0])]\n",
    "sT2_n20 =[2 for i in range(tcRA_plgapegn20dmsoT2[1].shape[0])]\n",
    "s_n30 =[2 for i in range(tcRA_plgapegn30dmso[1].shape[0])]\n",
    "sT2_n30 =[2 for i in range(tcRA_plgapegn30dmsoT2[1].shape[0])]"
   ]
  },
  {
   "cell_type": "code",
   "execution_count": null,
   "metadata": {},
   "outputs": [],
   "source": [
    "len(s_n30)"
   ]
  },
  {
   "cell_type": "code",
   "execution_count": null,
   "metadata": {},
   "outputs": [],
   "source": [
    "tcRA_plgapegn20dmso[0].shape"
   ]
  },
  {
   "cell_type": "code",
   "execution_count": null,
   "metadata": {},
   "outputs": [],
   "source": [
    "tcRA_plgapegn20dmsoT2[0].shape"
   ]
  },
  {
   "cell_type": "code",
   "execution_count": null,
   "metadata": {},
   "outputs": [],
   "source": [
    "np.intersect1d(tcRA_plgapegn20dmso[0], tcRA_plgapegn20dmsoT2[0])"
   ]
  },
  {
   "cell_type": "code",
   "execution_count": null,
   "metadata": {},
   "outputs": [],
   "source": [
    "plt.figure(figsize=(8,8))\n",
    "plt.rcParams[\"font.family\"] = \"Arial\"\n",
    "plt.scatter(tcRA_plgapegn6dmso[1]/100, tcRA_plgapegn6dmso[0], color='teal', s=s_n6, label=r'$N_{PLGA-PEG}$ = 6')\n",
    "plt.scatter(tcRA_plgapegn8dmso[1]/100, tcRA_plgapegn8dmso[0], color='dodgerblue', s=s_n8, label=r'$N_{PLGA-PEG}$ = 8')\n",
    "plt.scatter(tcRA_plgapegn10dmso[1]/100, tcRA_plgapegn10dmso[0], color='darkmagenta', s=s_n10, label=r'$N_{PLGA-PEG}$ = 10')\n",
    "plt.scatter(tcRA_plgapegn16dmso[1]/100, tcRA_plgapegn16dmso[0], color='maroon', s=s_n16, label=r'$N_{PLGA-PEG}$ = 16')\n",
    "plt.scatter(tcRA_plgapegn20dmso[1]/100, tcRA_plgapegn20dmso[0], color='orangered', s=s_n20, label=r'$N_{PLGA-PEG}$ = 20')\n",
    "#plt.scatter(tcRA_plgapegn20dmsoT2[1]/100, tcRA_plgapegn20dmsoT2[0], color='b', s=sT2_n20, label=r'$N_{PLGA-PEG}$ = 20')\n",
    "plt.scatter(tcRA_plgapegn30dmso[1]/100, tcRA_plgapegn30dmso[0], color='darkolivegreen', s=s_n30, label=r'$N_{PLGA-PEG}$ = 30')\n",
    "#plt.scatter(tcRA_plgapegn30dmsoT2[1]/100, tcRA_plgapegn30dmsoT2[0], color='green', s=sT2_n30, label=r'$N_{PLGA-PEG}$ = 30')\n",
    "plt.title(r'Positional bead autocorrelation PLGA-PEG in DMSO', fontsize=18, y=1.03)\n",
    "plt.xlabel(r'Time lag [ns]', fontsize=18)\n",
    "plt.ylabel('C(t)', fontsize=18)\n",
    "plt.legend(fontsize=14, frameon=False)\n",
    "plt.xticks(fontsize=18)\n",
    "plt.yticks(fontsize=18)\n",
    "#plt.yscale('symlog', linthreshy=0.5)\n",
    "plt.xscale('symlog')\n",
    "plt.grid(b=True)\n",
    "plt.xlim(0,360)\n",
    "plt.ylim(-1,1)\n",
    "plt.tick_params(labelsize=18, direction='in', which='both', width=1, length=10)"
   ]
  },
  {
   "cell_type": "code",
   "execution_count": null,
   "metadata": {},
   "outputs": [],
   "source": [
    "xdata_plgapegn6dmso = tcRA_plgapegn6dmso[1]/100\n",
    "ydata_plgapegn6dmso = tcRA_plgapegn6dmso[0]"
   ]
  },
  {
   "cell_type": "code",
   "execution_count": null,
   "metadata": {},
   "outputs": [],
   "source": [
    "plt.figure(figsize=(8,8))\n",
    "plt.rcParams[\"font.family\"] = \"Arial\"\n",
    "plt.scatter(xdata_plgapegn6dmso, ydata_plgapegn6dmso, color='teal', s=s_n6)\n",
    "plt.title(r'Positional bead autocorrelation PLGA-PEG in DMSO', fontsize=18)\n",
    "plt.xlabel(r'Time lag [ns]', fontsize=18)\n",
    "plt.ylabel('C(t)', fontsize=18)\n",
    "#plt.legend(fontsize=14, frameon=False)\n",
    "plt.xticks(fontsize=18)\n",
    "plt.yticks(fontsize=18)\n",
    "#plt.yscale('symlog', linthreshy=0.5)\n",
    "plt.xscale('symlog')\n",
    "plt.grid(b=True)\n",
    "plt.xlim(0,300)\n",
    "plt.ylim(-1,1)\n",
    "plt.tick_params(labelsize=18, direction='in', which='both', width=1, length=10)"
   ]
  },
  {
   "cell_type": "code",
   "execution_count": null,
   "metadata": {},
   "outputs": [],
   "source": [
    "rouse_relax(1, 2, 6)"
   ]
  },
  {
   "cell_type": "code",
   "execution_count": null,
   "metadata": {},
   "outputs": [],
   "source": [
    "ts = 1\n",
    "hs = 0.1\n",
    "n_mon = 6\n",
    "n_b = n_mon - 1\n",
    "tr1 = 2\n",
    "zimm_relax_fit(ts,tr1,hs,n_b)"
   ]
  },
  {
   "cell_type": "code",
   "execution_count": null,
   "metadata": {},
   "outputs": [],
   "source": [
    "zimm_relax_func(1, 2, 0.1, 5)"
   ]
  },
  {
   "cell_type": "code",
   "execution_count": null,
   "metadata": {},
   "outputs": [],
   "source": [
    "def res_plgapegn6dmso(variabls, xnp, ynp):\n",
    "    #hs_np = variabls['h_star']\n",
    "    hs_np = 0.26\n",
    "    tr1_np = variabls['t_first']\n",
    "    n_bonds = 5\n",
    "    testnp = []\n",
    "    for i in range(len(xnp)):\n",
    "        model_ynp = zimm_relax_fit(xnp[i], tr1_np, hs_np, n_bonds)\n",
    "        #model_ynp = rouse_relax(xnp[i], tr1_np, n_m)\n",
    "        testnp.append(ynp[i] - model_ynp)\n",
    "    \n",
    "    tt_n6 = np.array(testnp)\n",
    "\n",
    "    return tt_n6\n",
    "    \n",
    "#x1 = np.array([0,0])\n",
    "#pfit, pcov, infodict, errmsg, success = leastsq(res_poly, x1, args=(xdata, ydata), full_output=1)"
   ]
  },
  {
   "cell_type": "code",
   "execution_count": null,
   "metadata": {},
   "outputs": [],
   "source": [
    "from lmfit import Minimizer, Parameters, report_fit"
   ]
  },
  {
   "cell_type": "code",
   "execution_count": null,
   "metadata": {},
   "outputs": [],
   "source": [
    "ppfit_n6dmso = Parameters()\n",
    "#ppfit_n6dmso.add(name='h_star', value=0, min=0, max=0.26, vary=True)\n",
    "ppfit_n6dmso.add(name='t_first', value=2)"
   ]
  },
  {
   "cell_type": "code",
   "execution_count": null,
   "metadata": {},
   "outputs": [],
   "source": [
    "mini_ppn6dmso = Minimizer(res_plgapegn6dmso, ppfit_n6dmso, fcn_args=(xdata_plgapegn6dmso, ydata_plgapegn6dmso))\n",
    "out_ppn6dmso = mini_ppn6dmso.leastsq()\n",
    "#bfit_n10 = ydata_n10dmso + out_n10dmso.residual "
   ]
  },
  {
   "cell_type": "code",
   "execution_count": null,
   "metadata": {},
   "outputs": [],
   "source": [
    "report_fit(out_ppn6dmso.params)"
   ]
  },
  {
   "cell_type": "code",
   "execution_count": null,
   "metadata": {},
   "outputs": [],
   "source": [
    "out_ppn6dmso.params"
   ]
  },
  {
   "cell_type": "code",
   "execution_count": null,
   "metadata": {},
   "outputs": [],
   "source": [
    "# with h varying, tr = 1.74876099 +/- 0.01504971, h* = 0.13846790 +/- 0.02079379\n",
    "tdmso_n6plgapeg = []\n",
    "n_bonds = 5\n",
    "for i in range(len(xdata_plgapegn6dmso)):\n",
    "    tdmso_n6plgapeg.append(zimm_relax_fit(xdata_plgapegn6dmso[i], 1.69732007, 0.26,  n_bonds))\n"
   ]
  },
  {
   "cell_type": "code",
   "execution_count": null,
   "metadata": {},
   "outputs": [],
   "source": [
    "t_c, tz_n6plgapeg, zimm_n6plgapeg, rouse_n6plgapeg = zimm_relax_func(1, 1.69732007, 0.26,  n_bonds)"
   ]
  },
  {
   "cell_type": "code",
   "execution_count": null,
   "metadata": {},
   "outputs": [],
   "source": [
    "x_pos = np.arange(5)\n",
    "width = 0.25\n",
    "aa_types = [r\"$\\tau_{1}$\", r\"$\\tau_{2}$\", r\"$\\tau_{3}$\", r\"$\\tau_{4}$\", r\"$\\tau_{5}$\"]\n",
    "fig = plt.figure(figsize=(7,7))\n",
    "plt.bar(x_pos, tz_n6plgapeg, width, ecolor='black',capsize=5, color='c')\n",
    "plt.xticks(x_pos, labels=aa_types, fontsize=12)\n",
    "plt.ylabel(r'Relaxation times', fontsize=15)"
   ]
  },
  {
   "cell_type": "code",
   "execution_count": null,
   "metadata": {},
   "outputs": [],
   "source": [
    "x_pos = np.arange(5)\n",
    "width = 0.25\n",
    "aa_eigen_ppn6dmso = [r\"$a_{1}$\", r\"$a_{2}$\", r\"$a_{3}$\", r\"$a_{4}$\", r\"$a_{5}$\"]\n",
    "fig = plt.figure(figsize=(7,7))\n",
    "plt.title('PLGA PEG in DMSO N = 6', fontsize=18)\n",
    "plt.bar(x_pos, rouse_n6plgapeg, width, ecolor='black',capsize=5, color='c', label='Rouse' )\n",
    "plt.bar(x_pos+width, zimm_n6plgapeg, width,ecolor='black',capsize=5, color='m', label='Zimm')\n",
    "plt.xticks(x_pos, labels=aa_eigen_ppn6dmso, fontsize=12)\n",
    "plt.legend(fontsize=12 ,frameon=False)\n",
    "plt.ylabel(r'Rouse and Zimm eigenvalues', fontsize=15)"
   ]
  },
  {
   "cell_type": "code",
   "execution_count": null,
   "metadata": {},
   "outputs": [],
   "source": [
    "plt.figure(figsize=(8,8))\n",
    "plt.rcParams[\"font.family\"] = \"Arial\"\n",
    "plt.scatter(xdata_plgapegn6dmso, ydata_plgapegn6dmso, color='teal', s=s_n6)\n",
    "plt.plot(xdata_plgapegn6dmso, tdmso_n6plgapeg, color='teal')\n",
    "plt.title(r'Positional bead autocorrelation PLGA PEG in DMSO', fontsize=18)\n",
    "plt.xlabel(r'Time lag [ns]', fontsize=18)\n",
    "plt.ylabel('C(t)', fontsize=18)\n",
    "#plt.legend(fontsize=14, frameon=False)\n",
    "plt.xticks(fontsize=18)\n",
    "plt.yticks(fontsize=18)\n",
    "#plt.yscale('symlog', linthreshy=0.5)\n",
    "plt.xscale('symlog')\n",
    "plt.grid(b=True)\n",
    "plt.xlim(0,300)\n",
    "plt.ylim(-1,1)\n",
    "plt.tick_params(labelsize=18, direction='in', which='both', width=1, length=10)"
   ]
  },
  {
   "cell_type": "code",
   "execution_count": null,
   "metadata": {},
   "outputs": [],
   "source": [
    "rppdmso_msen6 = np.array([ydata_plgapegn6dmso - np.array(tdmso_n6plgapeg)])\n",
    "#rpdmso_msen6"
   ]
  },
  {
   "cell_type": "code",
   "execution_count": null,
   "metadata": {},
   "outputs": [],
   "source": [
    "plt.figure(figsize=(7,7))\n",
    "plt.rcParams[\"font.family\"] = \"Arial\"\n",
    "plt.scatter(xdata_plgapegn6dmso, rppdmso_msen6, color='teal', s=s_n6)\n",
    "plt.title(r'Relaxation time Fitting Residuals PLGA-PEG in DMSO', fontsize=18)\n",
    "plt.xlabel(r'Time lag [ns]', fontsize=18)\n",
    "plt.ylabel('Residuals', fontsize=18)\n",
    "plt.xticks(fontsize=14)\n",
    "plt.yticks(fontsize=14)\n",
    "plt.xlim([0,100])\n",
    "plt.ylim([-0.7,1])\n",
    "plt.tick_params(labelsize=15)"
   ]
  },
  {
   "cell_type": "markdown",
   "metadata": {},
   "source": [
    "### Radius of Gyration vs. time N = 6 PLGA-PEG in DMSO"
   ]
  },
  {
   "cell_type": "code",
   "execution_count": null,
   "metadata": {},
   "outputs": [],
   "source": [
    "# Key variables \n",
    "n_mon = 6 \n",
    "start = 0\n",
    "end = 36001"
   ]
  },
  {
   "cell_type": "code",
   "execution_count": null,
   "metadata": {},
   "outputs": [],
   "source": [
    "n6plgapeg_rgens_dmso, cor_n6plgapeg_dmso, N6plgapeg_cos_dmso, rgdmso_n6plgapeg = get_rg_pers_poly(plgapeg_n6dmso, n6_plgapeg_dmso,\n",
    "                                                                                                  start,end)"
   ]
  },
  {
   "cell_type": "code",
   "execution_count": null,
   "metadata": {},
   "outputs": [],
   "source": [
    "n6plgapeg_rgens_dmso[0].shape"
   ]
  },
  {
   "cell_type": "code",
   "execution_count": null,
   "metadata": {},
   "outputs": [],
   "source": [
    "cor_n6plgapeg_dmso[3]"
   ]
  },
  {
   "cell_type": "code",
   "execution_count": null,
   "metadata": {},
   "outputs": [],
   "source": [
    "N6plgapeg_cos_dmso"
   ]
  },
  {
   "cell_type": "code",
   "execution_count": null,
   "metadata": {},
   "outputs": [],
   "source": [
    "rgdmso_n6plgapeg"
   ]
  },
  {
   "cell_type": "code",
   "execution_count": null,
   "metadata": {},
   "outputs": [],
   "source": [
    "n6plgapeg_rgens_dmso.shape"
   ]
  },
  {
   "cell_type": "code",
   "execution_count": null,
   "metadata": {},
   "outputs": [],
   "source": [
    "trj_len = np.arange(36001)\n",
    "plt.figure(figsize=(7,7))\n",
    "plt.title(r'PLGA-PEG Radius of Gyration', fontsize=18, y=1.01)\n",
    "plt.xlabel(r'Time [ns]', fontsize=15)\n",
    "plt.ylabel(r'$R_{g}$ [nm]', fontsize=15)\n",
    "plt.plot(trj_len/100, n6plgapeg_rgens_dmso[0]/10,linewidth=2, color='teal')\n",
    "plt.tick_params(labelsize=14)\n",
    "plt.legend(['N = 6 in DMSO'], frameon=False, fontsize=14)\n",
    "#plt.text(127, 0.96,r'N = 6 in DMSO', fontsize=18, color='#1F2E69', family='Arial')\n",
    "plt.xlim(0,360)\n",
    "plt.ylim(0.2,2)"
   ]
  },
  {
   "cell_type": "markdown",
   "metadata": {},
   "source": [
    "#### Rg Autocorrelation"
   ]
  },
  {
   "cell_type": "code",
   "execution_count": null,
   "metadata": {},
   "outputs": [],
   "source": [
    "t_corr = 5000\n",
    "window_shift = 15"
   ]
  },
  {
   "cell_type": "code",
   "execution_count": null,
   "metadata": {},
   "outputs": [],
   "source": [
    "ACn6plgapegdmso_Rg, eqvarRg_n6plgapegdmso = obs_autocorr_RA(n6plgapeg_rgens_dmso[0],t_corr, window_shift,start,end)"
   ]
  },
  {
   "cell_type": "code",
   "execution_count": null,
   "metadata": {},
   "outputs": [],
   "source": [
    "ACn6plgapegdmso_Rg"
   ]
  },
  {
   "cell_type": "code",
   "execution_count": null,
   "metadata": {},
   "outputs": [],
   "source": [
    "eqvarRg_n6plgapegdmso"
   ]
  },
  {
   "cell_type": "code",
   "execution_count": null,
   "metadata": {},
   "outputs": [],
   "source": [
    "plt.figure(figsize=(7,7))\n",
    "plt.title(r'PEG in DMSO autocorrelation', fontsize=18, y=1.01)\n",
    "plt.xlabel(r'Time [ns]', fontsize=15)\n",
    "plt.ylabel(r'$C_{A}(t)$', fontsize=15)\n",
    "plt.plot(ACn6plgapegdmso_Rg[1]/100, ACn6plgapegdmso_Rg[0],linewidth=2, color='teal')\n",
    "plt.tick_params(labelsize=14)\n",
    "plt.legend(['N = 6 Rg'], frameon=False, fontsize=14)\n",
    "#plt.yscale('symlog', linthreshy=0.5)\n",
    "#plt.xscale('symlog')\n",
    "plt.xlim(0,70)\n",
    "plt.ylim(-1,1)"
   ]
  },
  {
   "cell_type": "markdown",
   "metadata": {},
   "source": [
    "#### Get average COM distance, Arc length values"
   ]
  },
  {
   "cell_type": "code",
   "execution_count": null,
   "metadata": {},
   "outputs": [],
   "source": [
    "cb_n6plga = np.zeros(shape=(36001))\n",
    "cb_n6pplinker = np.zeros(shape=(36001))\n",
    "cb_n6peg = np.zeros(shape=(36001))\n",
    "count = 0\n",
    "for ts in n6_plgapeg_dmso.trajectory[0:36001]:\n",
    "    # 1st two PLGA residues\n",
    "    n6m1_plga = n6_plgapeg_dmso.select_atoms(\"resid 1\")\n",
    "    n6m2_plga = n6_plgapeg_dmso.select_atoms(\"resid 2\")\n",
    "    # PLGA-PEG linker\n",
    "    n6pl_link = n6_plgapeg_dmso.select_atoms(\"resid 3\")\n",
    "    n6peg_link = n6_plgapeg_dmso.select_atoms(\"resid 4\")\n",
    "    # last two PEG residues \n",
    "    n6l1_plgapeg = n6_plgapeg_dmso.select_atoms(\"resid 5\")\n",
    "    n6l2_plgapeg = n6_plgapeg_dmso.select_atoms(\"resid 6\")\n",
    "    \n",
    "    cb_n6plga[count] = mda.analysis.distances.distance_array(n6m1_plga.center_of_mass(), n6m2_plga.center_of_mass(), \n",
    "                                                   box=n6_plgapeg_dmso.trajectory.ts.dimensions)\n",
    "    \n",
    "    cb_n6pplinker[count] = mda.analysis.distances.distance_array(n6pl_link.center_of_mass(), n6peg_link.center_of_mass(), \n",
    "                                                   box=n6_plgapeg_dmso.trajectory.ts.dimensions)\n",
    "    \n",
    "    cb_n6peg[count] = mda.analysis.distances.distance_array(n6l1_plgapeg.center_of_mass(), n6l2_plgapeg.center_of_mass(), \n",
    "                                                   box=n6_plgapeg_dmso.trajectory.ts.dimensions)\n",
    "    \n",
    "    count += 1\n",
    "    \n",
    "\n",
    "    "
   ]
  },
  {
   "cell_type": "code",
   "execution_count": null,
   "metadata": {},
   "outputs": [],
   "source": [
    "COM_ppn6dmso = np.zeros(shape=(3,2))\n",
    "COM_ppn6dmso[0,0] = np.mean(cb_n6plga)\n",
    "COM_ppn6dmso[1,0] = np.mean(cb_n6pplinker)\n",
    "COM_ppn6dmso[2,0] = np.mean(cb_n6peg)\n",
    "COM_ppn6dmso[0,1] = np.std(cb_n6plga)\n",
    "COM_ppn6dmso[1,1] = np.std(cb_n6pplinker)\n",
    "COM_ppn6dmso[2,1] = np.std(cb_n6peg)\n",
    "COM_ppn6dmso"
   ]
  },
  {
   "cell_type": "markdown",
   "metadata": {},
   "source": [
    "#### Correlation values at each arc length from the whole 360 ns trajectory, N = 6 PLGA-PEG/DMSO"
   ]
  },
  {
   "cell_type": "code",
   "execution_count": null,
   "metadata": {},
   "outputs": [],
   "source": [
    "# x values\n",
    "blen_ppn6dmso = np.zeros(shape=5)\n",
    "for i in range(n_mon-1):\n",
    "    if i < int((n_mon/2)-1):\n",
    "        # PLGA contour length values\n",
    "        if i == 0:\n",
    "            blen_ppn6dmso[i] = 0\n",
    "        elif i != 0:\n",
    "            blen_ppn6dmso[i] =  np.sum(blen_ppn6dmso[i-1]) + COM_ppn6dmso[0,0]    \n",
    "    elif i == int((n_mon/2)-1):\n",
    "        #PLGA-PEG linker length\n",
    "        blen_ppn6dmso[i] = np.sum(blen_ppn6dmso[i-1]) + COM_ppn6dmso[1,0]\n",
    "    elif i > int((n_mon/2)-1):\n",
    "    #    # PEG contour length values\n",
    "        blen_ppn6dmso[i] = np.sum(blen_ppn6dmso[i-1]) + COM_ppn6dmso[2,0]\n",
    "        \n",
    "blen_ppn6dmso"
   ]
  },
  {
   "cell_type": "code",
   "execution_count": null,
   "metadata": {},
   "outputs": [],
   "source": [
    "# Error prop. into natural log std deviation\n",
    "mk_n6ppdmso = cor_n6plgapeg_dmso[1]/cor_n6plgapeg_dmso[0]\n",
    "mk_n6ppdmso"
   ]
  },
  {
   "cell_type": "code",
   "execution_count": null,
   "metadata": {},
   "outputs": [],
   "source": [
    "plt.figure(figsize=(7,7))\n",
    "plt.errorbar(blen_ppn6dmso, np.log(cor_n6plgapeg_dmso[0]), yerr=mk_n6ppdmso, color='teal', linestyle=\"None\",marker='o',\n",
    "     capsize=5, capthick=1, ecolor='black')"
   ]
  },
  {
   "cell_type": "code",
   "execution_count": null,
   "metadata": {},
   "outputs": [],
   "source": [
    "# All the points give the best fits for N = 6 peg in DMSO\n",
    "n6_blksplgapeg_dmso , n6plgapeg_lpdmso = bavg_pers_cnt(5, plgapeg_n6dmso, n6_plgapeg_dmso, blen_ppn6dmso, 3, 0 , 36001)"
   ]
  },
  {
   "cell_type": "code",
   "execution_count": null,
   "metadata": {},
   "outputs": [],
   "source": [
    "n6_blksplgapeg_dmso"
   ]
  },
  {
   "cell_type": "code",
   "execution_count": null,
   "metadata": {},
   "outputs": [],
   "source": [
    "n6plgapeg_lpdmso"
   ]
  },
  {
   "cell_type": "code",
   "execution_count": null,
   "metadata": {},
   "outputs": [],
   "source": [
    "n6plgapeg_lpdmso[2]"
   ]
  },
  {
   "cell_type": "code",
   "execution_count": null,
   "metadata": {},
   "outputs": [],
   "source": [
    "np.mean(n6plgapeg_lpdmso[3])"
   ]
  },
  {
   "cell_type": "markdown",
   "metadata": {},
   "source": [
    "#### line fitted to cosine theta values using mean slope"
   ]
  },
  {
   "cell_type": "code",
   "execution_count": null,
   "metadata": {},
   "outputs": [],
   "source": [
    "def line_fit(slope, x):\n",
    "    return slope*x "
   ]
  },
  {
   "cell_type": "code",
   "execution_count": null,
   "metadata": {},
   "outputs": [],
   "source": [
    "blen_ppn6dmso"
   ]
  },
  {
   "cell_type": "code",
   "execution_count": null,
   "metadata": {},
   "outputs": [],
   "source": [
    "gg_n6plgapeg_dmso = line_fit(np.mean(n6plgapeg_lpdmso[2]),blen_ppn6dmso)"
   ]
  },
  {
   "cell_type": "code",
   "execution_count": null,
   "metadata": {},
   "outputs": [],
   "source": [
    "gg_n6plgapeg_dmso"
   ]
  },
  {
   "cell_type": "markdown",
   "metadata": {},
   "source": [
    "#### Block averaged Rg, Ree, Rh, mean sq. Ree and mean sq. Rg persistence length, N = 6 PLGA-PEG/DMSO"
   ]
  },
  {
   "cell_type": "code",
   "execution_count": null,
   "metadata": {},
   "outputs": [],
   "source": [
    "blppn6dmso = []\n",
    "for i in range(n_mon-1):\n",
    "    if i < int((n_mon/2)-1):\n",
    "        # PLGA contour length values\n",
    "        blppn6dmso.append(COM_ppn6dmso[0,0])    \n",
    "    elif i == int((n_mon/2)-1):\n",
    "        #PLGA-PEG linker length\n",
    "        blppn6dmso.append(COM_ppn6dmso[1,0]) \n",
    "    elif i > int((n_mon/2)-1):\n",
    "    #    # PEG contour length values\n",
    "        blppn6dmso.append(COM_ppn6dmso[2,0]) \n",
    "\n",
    "# Contour Length, N = 6 PLGA-PEG in DMSO\n",
    "lc_ppn6dmso = np.sum(blppn6dmso)\n",
    "lc_ppn6dmso"
   ]
  },
  {
   "cell_type": "code",
   "execution_count": null,
   "metadata": {},
   "outputs": [],
   "source": [
    "# Ree^2/Rg^2 array at different contour lengths\n",
    "re2e_rgsq_plgapegdmso = np.zeros(shape=(3,6))\n",
    "re2e_rgsq_plgapegdmso[1,0] = lc_ppn6dmso\n",
    "re2e_rgsq_plgapegdmso"
   ]
  },
  {
   "cell_type": "code",
   "execution_count": null,
   "metadata": {},
   "outputs": [],
   "source": [
    "a_ppn6dmso = np.mean(n6_blksplgapeg_dmso['Avg Sq. end to end distance'])"
   ]
  },
  {
   "cell_type": "code",
   "execution_count": null,
   "metadata": {},
   "outputs": [],
   "source": [
    "b_ppn6dmso = np.mean(n6_blksplgapeg_dmso['Avg Sq. radius of gyration'])"
   ]
  },
  {
   "cell_type": "code",
   "execution_count": null,
   "metadata": {},
   "outputs": [],
   "source": [
    "re2e_rgsq_plgapegdmso[0,0] = a_ppn6dmso/b_ppn6dmso\n",
    "re2e_rgsq_plgapegdmso"
   ]
  },
  {
   "cell_type": "code",
   "execution_count": null,
   "metadata": {},
   "outputs": [],
   "source": [
    "# Rg/Rh array at different contour lengths \n",
    "rhy_rg_plgapegdmso = np.zeros(shape=(3,6))\n",
    "rhy_rg_plgapegdmso[1,0] = lc_ppn6dmso\n",
    "rhy_rg_plgapegdmso"
   ]
  },
  {
   "cell_type": "code",
   "execution_count": null,
   "metadata": {},
   "outputs": [],
   "source": [
    "aa_ppn6dmso = np.mean(n6_blksplgapeg_dmso['Avg Radius of gyration'])"
   ]
  },
  {
   "cell_type": "code",
   "execution_count": null,
   "metadata": {},
   "outputs": [],
   "source": [
    "bb_ppn6dmso = np.mean(n6_blksplgapeg_dmso['Avg Hydrodynamic radius'])"
   ]
  },
  {
   "cell_type": "code",
   "execution_count": null,
   "metadata": {},
   "outputs": [],
   "source": [
    "rhy_rg_plgapegdmso[0,0] = aa_ppn6dmso/bb_ppn6dmso\n",
    "rhy_rg_plgapegdmso"
   ]
  },
  {
   "cell_type": "code",
   "execution_count": null,
   "metadata": {},
   "outputs": [],
   "source": [
    "# Kuhn length array at different monomer lengths\n",
    "kuhnlpL_plgapegdmso = np.zeros(shape=(3,6))\n",
    "kuhnlpL_plgapegdmso[1] = np.array([6,8,10,16,20,30])\n",
    "kuhnlpL_plgapegdmso"
   ]
  },
  {
   "cell_type": "code",
   "execution_count": null,
   "metadata": {},
   "outputs": [],
   "source": [
    "# pers length/contour length \n",
    "kuhnlpL_plgapegdmso[0,0] = np.mean(n6_blksplgapeg_dmso[\"Avg persistence length\"])/lc_ppn6dmso\n",
    "kuhnlpL_plgapegdmso"
   ]
  },
  {
   "cell_type": "markdown",
   "metadata": {},
   "source": [
    "#### Block averaged Radius of gyration and persistence length, N = 6 PLGA-PEG/DMSO"
   ]
  },
  {
   "cell_type": "code",
   "execution_count": null,
   "metadata": {},
   "outputs": [],
   "source": [
    "np.mean(n6_blksplgapeg_dmso[\"Avg persistence length\"])"
   ]
  },
  {
   "cell_type": "code",
   "execution_count": null,
   "metadata": {},
   "outputs": [],
   "source": [
    "np.std(n6_blksplgapeg_dmso[\"Avg persistence length\"])"
   ]
  },
  {
   "cell_type": "code",
   "execution_count": null,
   "metadata": {},
   "outputs": [],
   "source": [
    "np.mean(n6_blksplgapeg_dmso[\"Avg Radius of gyration\"])"
   ]
  },
  {
   "cell_type": "code",
   "execution_count": null,
   "metadata": {},
   "outputs": [],
   "source": [
    "np.std(n6_blksplgapeg_dmso[\"Avg Radius of gyration\"])"
   ]
  },
  {
   "cell_type": "code",
   "execution_count": null,
   "metadata": {},
   "outputs": [],
   "source": [
    "plt.figure(figsize=(7,7))\n",
    "plt.errorbar(blen_ppn6dmso, np.log(cor_n6plgapeg_dmso[0]), yerr=mk_n6ppdmso, color='teal', linestyle=\"None\",marker='o',\n",
    "     capsize=5, capthick=1, ecolor='black')\n",
    "plt.plot(blen_ppn6dmso, gg_n6plgapeg_dmso, color='teal')\n",
    "plt.title(r'Ensemble Averaged ln(Cosine $\\theta$) in DMSO', fontsize=15, y=1.01)\n",
    "plt.xlabel(r'Bond Length', fontsize=15)\n",
    "plt.ylabel(r'ln$\\left< Cos(\\theta)\\right >$', fontsize=15)\n",
    "#plt.ylim(-1.9,0)\n",
    "font = font_manager.FontProperties(family='Arial', style='normal', size='14')\n",
    "plt.legend([r'$N_{PLGA-PEG}$ = 6: $L_{p}$ = 36.2 $\\AA$ ± 3.33 $\\AA$'], loc=3, frameon=0, fontsize=14, prop=font)\n",
    "plt.tick_params(labelsize=14)\n",
    "#plt.text(0.5, -6.94,r'$N_{PEG}$ = 6: $L_{p}$ = 18.8 $\\AA$ ± 3.61 $\\AA$', fontsize=15, color='#1F2E69')"
   ]
  },
  {
   "cell_type": "code",
   "execution_count": null,
   "metadata": {},
   "outputs": [],
   "source": [
    "rgplgapeg_olig_dmso =  pd.DataFrame(data=n6_blksplgapeg_dmso[\"Avg Radius of gyration\"]\n",
    "                                    , columns=['$R_{g}$ [Angstrom] N = 6 PLGA-PEG DMSO'])\n",
    "rgplgapeg_olig_dmso"
   ]
  },
  {
   "cell_type": "code",
   "execution_count": null,
   "metadata": {},
   "outputs": [],
   "source": [
    "pers_plgapegt_dmso = pd.DataFrame(data=n6_blksplgapeg_dmso[\"Avg persistence length\"]\n",
    "                                  , columns=[r\"$L_{p}$ [Angstrom] N = 6 PLGA-PEG DMSO\"])\n",
    "pers_plgapegt_dmso"
   ]
  },
  {
   "cell_type": "code",
   "execution_count": null,
   "metadata": {},
   "outputs": [],
   "source": []
  },
  {
   "cell_type": "code",
   "execution_count": null,
   "metadata": {},
   "outputs": [],
   "source": []
  },
  {
   "cell_type": "code",
   "execution_count": null,
   "metadata": {},
   "outputs": [],
   "source": []
  },
  {
   "cell_type": "markdown",
   "metadata": {},
   "source": [
    "### N = 8 PLGA-PEG/DMSO "
   ]
  },
  {
   "cell_type": "code",
   "execution_count": null,
   "metadata": {},
   "outputs": [],
   "source": [
    "# For the right Rg calculation using MD Analysis, use trajactory without pbc \n",
    "n8_plgapeg_dmso = mda.Universe(\"n8plga_peg_dmso/n8plgapeg_DMSO.pdb\", \"n8plga_peg_dmso/NoDMSO_n8plgapeg.xtc\")"
   ]
  },
  {
   "cell_type": "code",
   "execution_count": null,
   "metadata": {},
   "outputs": [],
   "source": [
    "n8_plgapeg_dmso.trajectory"
   ]
  },
  {
   "cell_type": "code",
   "execution_count": null,
   "metadata": {},
   "outputs": [],
   "source": [
    "len(n8_plgapeg_dmso.trajectory)"
   ]
  },
  {
   "cell_type": "code",
   "execution_count": null,
   "metadata": {},
   "outputs": [],
   "source": [
    "#Select the polymer heavy atoms \n",
    "plgapeg_n8dmso = n8_plgapeg_dmso.select_atoms(\"resname sPLG PLG bPLG bPEG PEG sPEG and not type H\")"
   ]
  },
  {
   "cell_type": "code",
   "execution_count": null,
   "metadata": {},
   "outputs": [],
   "source": [
    "np.unique(plgapeg_n8dmso.resids)"
   ]
  },
  {
   "cell_type": "code",
   "execution_count": null,
   "metadata": {},
   "outputs": [],
   "source": [
    "# Get cosine theta values at frame 0 \n",
    "crv_n8plgapeg_dmso = pers_length(plgapeg_n8dmso,8)\n",
    "crv_n8plgapeg_dmso"
   ]
  },
  {
   "cell_type": "markdown",
   "metadata": {},
   "source": [
    "### Orientation Order parameter vs. time "
   ]
  },
  {
   "cell_type": "code",
   "execution_count": null,
   "metadata": {},
   "outputs": [],
   "source": [
    "n8_mon = 8 \n",
    "start = 0\n",
    "end = 36001"
   ]
  },
  {
   "cell_type": "code",
   "execution_count": null,
   "metadata": {},
   "outputs": [],
   "source": [
    "OOp_n8plgapeg_dmso = orientation_order_param(plgapeg_n8dmso, n8_plgapeg_dmso, n8_mon, start, end)"
   ]
  },
  {
   "cell_type": "code",
   "execution_count": null,
   "metadata": {},
   "outputs": [],
   "source": [
    "OOp_n8plgapeg_dmso.shape"
   ]
  },
  {
   "cell_type": "code",
   "execution_count": null,
   "metadata": {},
   "outputs": [],
   "source": [
    "trj_len = np.arange(36001)\n",
    "plt.figure(figsize=(7,7))\n",
    "plt.title(r'PLGA-PEG Orientation Order Parameter', fontsize=18, y=1.01)\n",
    "plt.xlabel(r'Time [ns]', fontsize=15)\n",
    "plt.ylabel(r'Z', fontsize=15)\n",
    "plt.plot(trj_len/100, OOp_n6plgapeg_dmso,linewidth=2, color='teal')\n",
    "plt.plot(trj_len/100, OOp_n8plgapeg_dmso,linewidth=2, color='dodgerblue')\n",
    "plt.tick_params(labelsize=14)\n",
    "plt.legend(['N = 6 in DMSO', 'N = 8 in DMSO'], frameon=False, fontsize=14)\n",
    "#plt.text(127, 0.96,r'N = 6 in DMSO', fontsize=18, color='#1F2E69', family='Arial')\n",
    "plt.xlim(0,360)\n",
    "plt.ylim(-1,1)"
   ]
  },
  {
   "cell_type": "markdown",
   "metadata": {},
   "source": [
    "#### Mean Orientation Order Parameter for N = 8 PLGA-PEG in DMSO"
   ]
  },
  {
   "cell_type": "code",
   "execution_count": null,
   "metadata": {},
   "outputs": [],
   "source": [
    "OOp_n8plgapeg_dmso[82]"
   ]
  },
  {
   "cell_type": "code",
   "execution_count": null,
   "metadata": {},
   "outputs": [],
   "source": [
    "OOp_n8plgapeg_dmso[239]"
   ]
  },
  {
   "cell_type": "code",
   "execution_count": null,
   "metadata": {},
   "outputs": [],
   "source": [
    "np.mean(OOp_n8plgapeg_dmso)"
   ]
  },
  {
   "cell_type": "code",
   "execution_count": null,
   "metadata": {},
   "outputs": [],
   "source": [
    "np.std(OOp_n8plgapeg_dmso)"
   ]
  },
  {
   "cell_type": "markdown",
   "metadata": {},
   "source": [
    "### Mean squared end to end distance "
   ]
  },
  {
   "cell_type": "code",
   "execution_count": null,
   "metadata": {},
   "outputs": [],
   "source": [
    "eVec_n8plgapeg_dmso, e2edis_n8plgapeg_dmso = mean_sq_e2e(plgapeg_n8dmso, n8_plgapeg_dmso, n8_mon, start, end)"
   ]
  },
  {
   "cell_type": "code",
   "execution_count": null,
   "metadata": {},
   "outputs": [],
   "source": [
    "trj_len = np.arange(36001)\n",
    "plt.figure(figsize=(7,7))\n",
    "plt.title(r'PLGA-PEG End to End distance', fontsize=18, y=1.01)\n",
    "plt.xlabel(r'Time [ns]', fontsize=15)\n",
    "plt.ylabel(r'$R_{ee}$ [nm]', fontsize=15)\n",
    "plt.plot(trj_len/100, e2edis_n6plgapeg_dmso[1]/10,linewidth=2, color='teal')\n",
    "plt.plot(trj_len/100, e2edis_n8plgapeg_dmso[1]/10,linewidth=2, color='dodgerblue')\n",
    "plt.tick_params(labelsize=14)\n",
    "plt.legend(['N = 6 in DMSO', 'N = 8 in DMSO'], frameon=False, fontsize=14)\n",
    "#plt.text(127, 0.96,r'N = 6 in DMSO', fontsize=18, color='#1F2E69', family='Arial')\n",
    "plt.xlim(0,360)\n",
    "plt.ylim(0,2)"
   ]
  },
  {
   "cell_type": "markdown",
   "metadata": {},
   "source": [
    "#### Ree Autocorrelation function"
   ]
  },
  {
   "cell_type": "code",
   "execution_count": null,
   "metadata": {},
   "outputs": [],
   "source": [
    "e2edis_n8plgapeg_dmso[1]"
   ]
  },
  {
   "cell_type": "code",
   "execution_count": null,
   "metadata": {},
   "outputs": [],
   "source": [
    "ACn8plgapegdmso_Ree, eqvar_n8plgapegdmso = obs_autocorr_RA(e2edis_n8plgapeg_dmso[1],t_corr, window_shift,start,end)"
   ]
  },
  {
   "cell_type": "code",
   "execution_count": null,
   "metadata": {},
   "outputs": [],
   "source": [
    "ACn8plgapegdmso_Ree"
   ]
  },
  {
   "cell_type": "code",
   "execution_count": null,
   "metadata": {},
   "outputs": [],
   "source": [
    "eqvar_n8plgapegdmso"
   ]
  },
  {
   "cell_type": "code",
   "execution_count": null,
   "metadata": {},
   "outputs": [],
   "source": [
    "ACn8plgapegdmso_sqRee, evsqRee_n8plgapegdmso = obs_autocorr_RA(e2edis_n8plgapeg_dmso[0],t_corr, window_shift,start,end)"
   ]
  },
  {
   "cell_type": "code",
   "execution_count": null,
   "metadata": {},
   "outputs": [],
   "source": [
    "np.sqrt(evsqRee_n8plgapegdmso)"
   ]
  },
  {
   "cell_type": "code",
   "execution_count": null,
   "metadata": {},
   "outputs": [],
   "source": [
    "plt.figure(figsize=(7,7))\n",
    "plt.title(r'PLGA-PEG Ree autocorrelation', fontsize=18, y=1.01)\n",
    "plt.xlabel(r'Time [ns]', fontsize=15)\n",
    "plt.ylabel(r'$C_{A}(t)$', fontsize=15)\n",
    "plt.plot(ACn6plgapegdmso_Ree[1]/100, ACn6plgapegdmso_Ree[0],linewidth=2, color='teal')\n",
    "plt.plot(ACn8plgapegdmso_Ree[1]/100, ACn8plgapegdmso_Ree[0],linewidth=2, color='dodgerblue')\n",
    "plt.tick_params(labelsize=14)\n",
    "plt.legend(['N = 6 Ree','N = 8 Ree'], frameon=False, fontsize=14)\n",
    "#plt.yscale('symlog', linthreshy=0.5)\n",
    "#plt.xscale('symlog')\n",
    "plt.xlim(0,50)\n",
    "plt.ylim(-1,1)"
   ]
  },
  {
   "cell_type": "markdown",
   "metadata": {},
   "source": [
    "### Hydrodynamic Radius vs time"
   ]
  },
  {
   "cell_type": "code",
   "execution_count": null,
   "metadata": {},
   "outputs": [],
   "source": [
    "plgapegn8dmso_rh = hydro_rad_poly(plgapeg_n8dmso, n8_plgapeg_dmso, n8_mon, start, end)"
   ]
  },
  {
   "cell_type": "code",
   "execution_count": null,
   "metadata": {},
   "outputs": [],
   "source": [
    "trj_len = np.arange(36001)\n",
    "plt.figure(figsize=(7,7))\n",
    "plt.title(r'PLGA-PEG Hydrodynamic Radius', fontsize=18, y=1.01)\n",
    "plt.xlabel(r'Time [ns]', fontsize=15)\n",
    "plt.ylabel(r'$R_{hyd}$ [nm]', fontsize=15)\n",
    "plt.plot(trj_len/100, plgapegn6dmso_rh/10,linewidth=2, color='teal')\n",
    "plt.plot(trj_len/100, plgapegn8dmso_rh/10,linewidth=2, color='dodgerblue')\n",
    "plt.tick_params(labelsize=14)\n",
    "plt.legend(['N = 6 in DMSO', 'N = 8 in DMSO'], frameon=False, fontsize=14)\n",
    "#plt.text(127, 0.96,r'N = 6 in DMSO', fontsize=18, color='#1F2E69', family='Arial')\n",
    "plt.xlim(0,360)\n",
    "plt.ylim(0,2)"
   ]
  },
  {
   "cell_type": "markdown",
   "metadata": {},
   "source": [
    "#### Rh autocorrelation"
   ]
  },
  {
   "cell_type": "code",
   "execution_count": null,
   "metadata": {},
   "outputs": [],
   "source": [
    "t_corr = 4000\n",
    "window_shift = 15"
   ]
  },
  {
   "cell_type": "code",
   "execution_count": null,
   "metadata": {},
   "outputs": [],
   "source": [
    "ACn8plgapegdmsoRh, eqvarRh_n8plgapegdmso = obs_autocorr_RA(plgapegn8dmso_rh,t_corr, window_shift,start,end)"
   ]
  },
  {
   "cell_type": "code",
   "execution_count": null,
   "metadata": {},
   "outputs": [],
   "source": [
    "ACn8plgapegdmsoRh"
   ]
  },
  {
   "cell_type": "code",
   "execution_count": null,
   "metadata": {},
   "outputs": [],
   "source": [
    "eqvarRh_n8plgapegdmso"
   ]
  },
  {
   "cell_type": "code",
   "execution_count": null,
   "metadata": {},
   "outputs": [],
   "source": [
    "plt.figure(figsize=(7,7))\n",
    "plt.title(r'PLGA-PEG Rh autocorrelation', fontsize=18, y=1.01)\n",
    "plt.xlabel(r'Time [ns]', fontsize=15)\n",
    "plt.ylabel(r'$C_{Rh}(t)$', fontsize=15)\n",
    "plt.plot(ACn6plgapegdmsoRh[1]/100, ACn6plgapegdmsoRh[0],linewidth=2, color='teal')\n",
    "plt.plot(ACn8plgapegdmsoRh[1]/100, ACn8plgapegdmsoRh[0],linewidth=2, color='dodgerblue')\n",
    "plt.tick_params(labelsize=14)\n",
    "plt.legend(['N = 6 in DMSO','N = 8 in DMSO'], frameon=False, fontsize=14)\n",
    "plt.xlim(0,50)\n",
    "#plt.ylim(-0.2,1)"
   ]
  },
  {
   "cell_type": "markdown",
   "metadata": {},
   "source": [
    "### Relaxation times vs monomer length "
   ]
  },
  {
   "cell_type": "code",
   "execution_count": null,
   "metadata": {},
   "outputs": [],
   "source": [
    "# Key variables \n",
    "# def pos_bead_autocorr_RA(polymer_atoms, universe, n_monomers, t_corr,  start, end):\n",
    "n8_mon = 8 \n",
    "start = 0\n",
    "end = 36001\n",
    "t_corr = 1000\n",
    "window_shift = 20"
   ]
  },
  {
   "cell_type": "code",
   "execution_count": null,
   "metadata": {},
   "outputs": [],
   "source": [
    "s_time = timeit.default_timer()\n",
    "tcRA_plgapegn8dmso, tcSUM_plgapegn8dmso = pos_bead_autocorr_RA(plgapeg_n8dmso, n8_plgapeg_dmso, n8_mon, t_corr, window_shift, start\n",
    "                                                               , end)\n",
    "timeit.default_timer() - s_time"
   ]
  },
  {
   "cell_type": "code",
   "execution_count": null,
   "metadata": {},
   "outputs": [],
   "source": [
    "tcRA_plgapegn8dmso"
   ]
  },
  {
   "cell_type": "code",
   "execution_count": null,
   "metadata": {},
   "outputs": [],
   "source": [
    "tcSUM_plgapegn8dmso.shape"
   ]
  },
  {
   "cell_type": "markdown",
   "metadata": {},
   "source": [
    "### Fitting autocorrelation data "
   ]
  },
  {
   "cell_type": "code",
   "execution_count": null,
   "metadata": {},
   "outputs": [],
   "source": [
    "xdata_plgapegn8dmso = tcRA_plgapegn8dmso[1]/100\n",
    "ydata_plgapegn8dmso = tcRA_plgapegn8dmso[0]"
   ]
  },
  {
   "cell_type": "code",
   "execution_count": null,
   "metadata": {},
   "outputs": [],
   "source": [
    "ydata_plgapegn8dmso.shape"
   ]
  },
  {
   "cell_type": "code",
   "execution_count": null,
   "metadata": {},
   "outputs": [],
   "source": [
    "xdata_plgapegn8dmso.shape"
   ]
  },
  {
   "cell_type": "code",
   "execution_count": null,
   "metadata": {},
   "outputs": [],
   "source": [
    "plt.figure(figsize=(8,8))\n",
    "plt.rcParams[\"font.family\"] = \"Arial\"\n",
    "plt.scatter(xdata_plgapegn6dmso, ydata_plgapegn6dmso, color='teal', s=s_n6)\n",
    "plt.scatter(xdata_plgapegn8dmso, ydata_plgapegn8dmso, color='dodgerblue', s=s_n8)\n",
    "plt.title(r'Positional bead autocorrelation PLGA-PEG in DMSO', fontsize=18)\n",
    "plt.xlabel(r'Time lag [ns]', fontsize=18)\n",
    "plt.ylabel('C(t)', fontsize=18)\n",
    "#plt.legend(fontsize=14, frameon=False)\n",
    "plt.xticks(fontsize=18)\n",
    "plt.yticks(fontsize=18)\n",
    "#plt.yscale('symlog', linthreshy=0.5)\n",
    "plt.xscale('symlog')\n",
    "plt.grid(b=True)\n",
    "plt.xlim(0,300)\n",
    "plt.ylim(-1,1)\n",
    "plt.tick_params(labelsize=18, direction='in', which='both', width=1, length=10)"
   ]
  },
  {
   "cell_type": "code",
   "execution_count": null,
   "metadata": {},
   "outputs": [],
   "source": [
    "rouse_relax(1, 2, 6)"
   ]
  },
  {
   "cell_type": "code",
   "execution_count": null,
   "metadata": {},
   "outputs": [],
   "source": [
    "ts = 1\n",
    "hs = 0.1\n",
    "n8_mon = 8\n",
    "n_b = n8_mon - 1\n",
    "tr1 = 2\n",
    "zimm_relax_fit(ts,tr1,hs,n_b)"
   ]
  },
  {
   "cell_type": "code",
   "execution_count": null,
   "metadata": {},
   "outputs": [],
   "source": [
    "zimm_relax_func(ts,tr1,hs,n_b)"
   ]
  },
  {
   "cell_type": "code",
   "execution_count": null,
   "metadata": {},
   "outputs": [],
   "source": [
    "def res_plgapegn8dmso(variabls, xnp, ynp):\n",
    "    #hs_np = variabls['h_star']\n",
    "    hs_np = 0.26\n",
    "    tr1_np = variabls['t_first']\n",
    "    n_bonds = 7\n",
    "    testnp = []\n",
    "    for i in range(len(xnp)):\n",
    "        model_ynp = zimm_relax_fit(xnp[i], tr1_np, hs_np, n_bonds)\n",
    "        #model_ynp = rouse_relax(xnp[i], tr1_np, n_m)\n",
    "        testnp.append(ynp[i] - model_ynp)\n",
    "    \n",
    "    tt_n6 = np.array(testnp)\n",
    "\n",
    "    return tt_n6\n",
    "    \n",
    "#x1 = np.array([0,0])\n",
    "#pfit, pcov, infodict, errmsg, success = leastsq(res_poly, x1, args=(xdata, ydata), full_output=1)"
   ]
  },
  {
   "cell_type": "code",
   "execution_count": null,
   "metadata": {},
   "outputs": [],
   "source": [
    "ppfit_n8dmso = Parameters()\n",
    "#ppfit_n8dmso.add(name='h_star', value=0, min=0, max=0.26, vary=True)\n",
    "ppfit_n8dmso.add(name='t_first', value=2)"
   ]
  },
  {
   "cell_type": "code",
   "execution_count": null,
   "metadata": {},
   "outputs": [],
   "source": [
    "mini_ppn8dmso = Minimizer(res_plgapegn8dmso, ppfit_n8dmso, fcn_args=(xdata_plgapegn8dmso, ydata_plgapegn8dmso))\n",
    "out_ppn8dmso = mini_ppn8dmso.leastsq()\n",
    "#bfit_n10 = ydata_n10dmso + out_n10dmso.residual "
   ]
  },
  {
   "cell_type": "code",
   "execution_count": null,
   "metadata": {},
   "outputs": [],
   "source": [
    "report_fit(out_ppn8dmso.params)"
   ]
  },
  {
   "cell_type": "code",
   "execution_count": null,
   "metadata": {},
   "outputs": [],
   "source": [
    "out_ppn8dmso.params"
   ]
  },
  {
   "cell_type": "code",
   "execution_count": null,
   "metadata": {},
   "outputs": [],
   "source": [
    "# with h varying, tr = 2.59052650 +/- 0.01938150, h* = 0.25999998 +/- 0.00998461\n",
    "tdmso_n8plgapeg = []\n",
    "n_bonds = 7\n",
    "for i in range(len(xdata_plgapegn8dmso)):\n",
    "    tdmso_n8plgapeg.append(zimm_relax_fit(xdata_plgapegn8dmso[i], 2.59078779, 0.26,  n_bonds))\n"
   ]
  },
  {
   "cell_type": "code",
   "execution_count": null,
   "metadata": {},
   "outputs": [],
   "source": [
    "t_c, tz_n8plgapeg, zimm_n8plgapeg, rouse_n8plgapeg = zimm_relax_func(1, 2.59078779, 0.26,  n_bonds)"
   ]
  },
  {
   "cell_type": "code",
   "execution_count": null,
   "metadata": {},
   "outputs": [],
   "source": [
    "x_pos_n6 = np.arange(5)\n",
    "x_pos_n8 = np.arange(7)\n",
    "width = 0.25\n",
    "aa_types_n8 = [r\"$\\tau_{1}$\", r\"$\\tau_{2}$\", r\"$\\tau_{3}$\", r\"$\\tau_{4}$\", r\"$\\tau_{5}$\",r\"$\\tau_{6}$\",r\"$\\tau_{7}$\"]\n",
    "fig = plt.figure(figsize=(7,7))\n",
    "plt.title('PLGA-PEG in DMSO', fontsize=18)\n",
    "plt.bar(x_pos_n6+width, tz_n6plgapeg, width, ecolor='black',capsize=5, color='teal', label=\"N = 6\")\n",
    "plt.bar(x_pos_n8, tz_n8plgapeg, width, ecolor='black',capsize=5, color='dodgerblue', label='N = 8')\n",
    "plt.xticks(x_pos_n6+width, labels=aa_types, fontsize=12)\n",
    "plt.xticks(x_pos_n8, labels=aa_types_n8, fontsize=12)\n",
    "plt.legend(fontsize=12 ,frameon=False)\n",
    "plt.ylabel(r'Relaxation times [ns]', fontsize=15)"
   ]
  },
  {
   "cell_type": "code",
   "execution_count": null,
   "metadata": {},
   "outputs": [],
   "source": [
    "aa_eigen_n8 = [r\"$a_{1}$\", r\"$a_{2}$\", r\"$a_{3}$\", r\"$a_{4}$\", r\"$a_{5}$\",r\"$a_{6}$\",r\"$a_{7}$\"]\n",
    "fig = plt.figure(figsize=(7,7))\n",
    "plt.title('PLGA-PEG in DMSO N = 8', fontsize=18)\n",
    "plt.bar(x_pos_n8, rouse_n8plgapeg, width,ecolor='black',capsize=5, color='c', label='Rouse')\n",
    "plt.bar(x_pos_n8+width, zimm_n8plgapeg, width,ecolor='black',capsize=5, color='m', label='Zimm')\n",
    "plt.xticks(x_pos_n8+width,labels=aa_eigen_n8, fontsize=12)\n",
    "plt.legend(fontsize=12 ,frameon=False)\n",
    "plt.ylabel(r'Rouse and Zimm eigenvalues', fontsize=15)"
   ]
  },
  {
   "cell_type": "code",
   "execution_count": null,
   "metadata": {},
   "outputs": [],
   "source": [
    "plt.figure(figsize=(8,8))\n",
    "plt.rcParams[\"font.family\"] = \"Arial\"\n",
    "plt.scatter(xdata_plgapegn6dmso, ydata_plgapegn6dmso, color='teal', s=s_n6)\n",
    "plt.scatter(xdata_plgapegn8dmso, ydata_plgapegn8dmso, color='dodgerblue', s=s_n8)\n",
    "plt.plot(xdata_plgapegn6dmso, tdmso_n6plgapeg, color='teal')\n",
    "plt.plot(xdata_plgapegn8dmso, tdmso_n8plgapeg, color='dodgerblue')\n",
    "plt.title(r'Positional bead autocorrelation PLGA-PEG in DMSO', fontsize=18)\n",
    "plt.xlabel(r'Time lag [ns]', fontsize=18)\n",
    "plt.ylabel('C(t)', fontsize=18)\n",
    "#plt.legend(fontsize=14, frameon=False)\n",
    "plt.xticks(fontsize=18)\n",
    "plt.yticks(fontsize=18)\n",
    "#plt.yscale('symlog', linthreshy=0.5)\n",
    "plt.xscale('symlog')\n",
    "plt.grid(b=True)\n",
    "plt.xlim(0,100)\n",
    "plt.ylim(-1,1)\n",
    "plt.tick_params(labelsize=18, direction='in', which='both', width=1, length=10)"
   ]
  },
  {
   "cell_type": "code",
   "execution_count": null,
   "metadata": {},
   "outputs": [],
   "source": [
    "rppdmso_msen8 = np.array([ydata_plgapegn8dmso - np.array(tdmso_n8plgapeg)])\n",
    "#rpdmso_msen6"
   ]
  },
  {
   "cell_type": "code",
   "execution_count": null,
   "metadata": {},
   "outputs": [],
   "source": [
    "plt.figure(figsize=(7,7))\n",
    "plt.rcParams[\"font.family\"] = \"Arial\"\n",
    "plt.scatter(xdata_plgapegn6dmso, rppdmso_msen6, color='teal', s=s_n6)\n",
    "plt.scatter(xdata_plgapegn8dmso, rppdmso_msen8, color='dodgerblue', s=s_n8)\n",
    "plt.title(r'Relaxation time Fitting Residuals PlGA-PEG in DMSO', fontsize=18)\n",
    "plt.xlabel(r'Time lag [ns]', fontsize=18)\n",
    "plt.ylabel('Residuals', fontsize=18)\n",
    "plt.xticks(fontsize=14)\n",
    "plt.yticks(fontsize=14)\n",
    "plt.xlim([0,100])\n",
    "plt.ylim([-0.7,1])\n",
    "plt.tick_params(labelsize=15)"
   ]
  },
  {
   "cell_type": "markdown",
   "metadata": {},
   "source": [
    "#### Radius of Gyration vs. time N = 8 PLGA-PEG in DMSO"
   ]
  },
  {
   "cell_type": "code",
   "execution_count": null,
   "metadata": {},
   "outputs": [],
   "source": [
    "# Key variables \n",
    "n8_mon = 8 \n",
    "start = 0\n",
    "end = 36001"
   ]
  },
  {
   "cell_type": "code",
   "execution_count": null,
   "metadata": {},
   "outputs": [],
   "source": [
    "n8plgapeg_rgens_dmso, cor_n8plgapeg_dmso, N8plgapeg_cos_dmso, rgdmso_n8plgapeg = get_rg_pers_poly(plgapeg_n8dmso, n8_plgapeg_dmso,\n",
    "                                                                                                  start,end)"
   ]
  },
  {
   "cell_type": "code",
   "execution_count": null,
   "metadata": {},
   "outputs": [],
   "source": [
    "n8plgapeg_rgens_dmso[0].shape"
   ]
  },
  {
   "cell_type": "code",
   "execution_count": null,
   "metadata": {},
   "outputs": [],
   "source": [
    "cor_n8plgapeg_dmso[3]"
   ]
  },
  {
   "cell_type": "code",
   "execution_count": null,
   "metadata": {},
   "outputs": [],
   "source": [
    "N8plgapeg_cos_dmso"
   ]
  },
  {
   "cell_type": "code",
   "execution_count": null,
   "metadata": {},
   "outputs": [],
   "source": [
    "rgdmso_n8plgapeg"
   ]
  },
  {
   "cell_type": "code",
   "execution_count": null,
   "metadata": {},
   "outputs": [],
   "source": [
    "n8plgapeg_rgens_dmso.shape"
   ]
  },
  {
   "cell_type": "code",
   "execution_count": null,
   "metadata": {},
   "outputs": [],
   "source": [
    "trj_len = np.arange(36001)\n",
    "plt.figure(figsize=(7,7))\n",
    "plt.title(r'PLGA-PEG Radius of Gyration', fontsize=18, y=1.01)\n",
    "plt.xlabel(r'Time [ns]', fontsize=15)\n",
    "plt.ylabel(r'$R_{g}$ [nm]', fontsize=15)\n",
    "plt.plot(trj_len/100, n6plgapeg_rgens_dmso[0]/10,linewidth=2, color='teal')\n",
    "plt.plot(trj_len/100, n8plgapeg_rgens_dmso[0]/10,linewidth=2, color='dodgerblue')\n",
    "plt.tick_params(labelsize=14)\n",
    "plt.legend(['N = 6 in DMSO', 'N = 8 in DMSO'], frameon=False, fontsize=14)\n",
    "#plt.text(127, 0.96,r'N = 6 in DMSO', fontsize=18, color='#1F2E69', family='Arial')\n",
    "plt.xlim(0,360)\n",
    "plt.ylim(0.2,2)"
   ]
  },
  {
   "cell_type": "markdown",
   "metadata": {},
   "source": [
    "#### Rg Autocorrelation"
   ]
  },
  {
   "cell_type": "code",
   "execution_count": null,
   "metadata": {},
   "outputs": [],
   "source": [
    "t_corr = 4000\n",
    "window_shift = 15"
   ]
  },
  {
   "cell_type": "code",
   "execution_count": null,
   "metadata": {},
   "outputs": [],
   "source": [
    "ACn8plgapegdmso_Rg, eqvarRg_n8plgapegdmso = obs_autocorr_RA(n8plgapeg_rgens_dmso[0],t_corr, window_shift,start,end)"
   ]
  },
  {
   "cell_type": "code",
   "execution_count": null,
   "metadata": {},
   "outputs": [],
   "source": [
    "ACn8plgapegdmso_Rg"
   ]
  },
  {
   "cell_type": "code",
   "execution_count": null,
   "metadata": {},
   "outputs": [],
   "source": [
    "eqvarRg_n8plgapegdmso"
   ]
  },
  {
   "cell_type": "code",
   "execution_count": null,
   "metadata": {},
   "outputs": [],
   "source": [
    "plt.figure(figsize=(7,7))\n",
    "plt.title(r'PLGA-PEG in DMSO autocorrelation', fontsize=18, y=1.01)\n",
    "plt.xlabel(r'Time [ns]', fontsize=15)\n",
    "plt.ylabel(r'$C_{A}(t)$', fontsize=15)\n",
    "plt.plot(ACn6plgapegdmso_Rg[1]/100, ACn6plgapegdmso_Rg[0],linewidth=2, color='teal')\n",
    "plt.plot(ACn8plgapegdmso_Rg[1]/100, ACn8plgapegdmso_Rg[0],linewidth=2, color='dodgerblue')\n",
    "plt.tick_params(labelsize=14)\n",
    "plt.legend(['N = 6 Rg','N = 8 Rg'], frameon=False, fontsize=14)\n",
    "#plt.yscale('symlog', linthreshy=0.5)\n",
    "#plt.xscale('symlog')\n",
    "plt.xlim(0,50)\n",
    "plt.ylim(-1,1)"
   ]
  },
  {
   "cell_type": "markdown",
   "metadata": {},
   "source": [
    "#### Get average COM distance, Contour length calc"
   ]
  },
  {
   "cell_type": "code",
   "execution_count": null,
   "metadata": {},
   "outputs": [],
   "source": [
    "cb_n8plga = np.zeros(shape=(36001))\n",
    "cb_n8pplinker = np.zeros(shape=(36001))\n",
    "cb_n8peg = np.zeros(shape=(36001))\n",
    "count = 0\n",
    "for ts in n8_plgapeg_dmso.trajectory[0:36001]:\n",
    "    # 1st two PLGA residues\n",
    "    n8m1_plga = n8_plgapeg_dmso.select_atoms(\"resid 1\")\n",
    "    n8m2_plga = n8_plgapeg_dmso.select_atoms(\"resid 2\")\n",
    "    # PLGA-PEG linker (n_mon/2 to get to bPLG res no.)\n",
    "    n8pl_link = n8_plgapeg_dmso.select_atoms(\"resid 4\")\n",
    "    n8peg_link = n8_plgapeg_dmso.select_atoms(\"resid 5\")\n",
    "    # last two PEG residues \n",
    "    n8l1_plgapeg = n8_plgapeg_dmso.select_atoms(\"resid 7\")\n",
    "    n8l2_plgapeg = n8_plgapeg_dmso.select_atoms(\"resid 8\")\n",
    "    \n",
    "    cb_n8plga[count] = mda.analysis.distances.distance_array(n8m1_plga.center_of_mass(), n8m2_plga.center_of_mass(), \n",
    "                                                   box=n8_plgapeg_dmso.trajectory.ts.dimensions)\n",
    "    \n",
    "    cb_n8pplinker[count] = mda.analysis.distances.distance_array(n8pl_link.center_of_mass(), n8peg_link.center_of_mass(), \n",
    "                                                   box=n8_plgapeg_dmso.trajectory.ts.dimensions)\n",
    "    \n",
    "    cb_n8peg[count] = mda.analysis.distances.distance_array(n8l1_plgapeg.center_of_mass(), n8l2_plgapeg.center_of_mass(), \n",
    "                                                   box=n8_plgapeg_dmso.trajectory.ts.dimensions)\n",
    "    \n",
    "    count += 1\n",
    "    \n",
    "\n",
    "    "
   ]
  },
  {
   "cell_type": "code",
   "execution_count": null,
   "metadata": {},
   "outputs": [],
   "source": [
    "COM_ppn8dmso = np.zeros(shape=(3,2))\n",
    "COM_ppn8dmso[0,0] = np.mean(cb_n8plga)\n",
    "COM_ppn8dmso[1,0] = np.mean(cb_n8pplinker)\n",
    "COM_ppn8dmso[2,0] = np.mean(cb_n8peg)\n",
    "COM_ppn8dmso[0,1] = np.std(cb_n8plga)\n",
    "COM_ppn8dmso[1,1] = np.std(cb_n8pplinker)\n",
    "COM_ppn8dmso[2,1] = np.std(cb_n8peg)\n",
    "COM_ppn8dmso"
   ]
  },
  {
   "cell_type": "markdown",
   "metadata": {},
   "source": [
    "#### Correlation values at each arc length for the whole 360 ns trajectory, N = 8 PLGA-PEG/DMSO"
   ]
  },
  {
   "cell_type": "code",
   "execution_count": null,
   "metadata": {},
   "outputs": [],
   "source": [
    "# x values\n",
    "blen_ppn8dmso = np.zeros(shape=7)\n",
    "for i in range(n8_mon-1):\n",
    "    if i < int((n8_mon/2)-1):\n",
    "        # PLGA contour length values\n",
    "        if i == 0:\n",
    "            blen_ppn8dmso[i] = 0\n",
    "        elif i != 0:\n",
    "            blen_ppn8dmso[i] = np.sum(blen_ppn8dmso[i-1]) + COM_ppn8dmso[0,0]    \n",
    "    elif i == int((n8_mon/2)-1):\n",
    "        #PLGA-PEG linker length\n",
    "        blen_ppn8dmso[i] = np.sum(blen_ppn8dmso[i-1]) + COM_ppn8dmso[1,0]\n",
    "    elif i > int((n8_mon/2)-1):\n",
    "    #    # PEG contour length values\n",
    "        blen_ppn8dmso[i] = np.sum(blen_ppn8dmso[i-1]) + COM_ppn8dmso[2,0]\n",
    "        \n",
    "blen_ppn8dmso"
   ]
  },
  {
   "cell_type": "code",
   "execution_count": null,
   "metadata": {},
   "outputs": [],
   "source": [
    "# Error prop. into natural log std deviation\n",
    "mk_n8ppdmso = cor_n8plgapeg_dmso[1]/cor_n8plgapeg_dmso[0]\n",
    "mk_n8ppdmso"
   ]
  },
  {
   "cell_type": "code",
   "execution_count": null,
   "metadata": {},
   "outputs": [],
   "source": [
    "plt.figure(figsize=(7,7))\n",
    "plt.errorbar(blen_ppn8dmso, np.log(cor_n8plgapeg_dmso[0]), yerr=mk_n8ppdmso, color='teal', linestyle=\"None\",marker='o',\n",
    "     capsize=5, capthick=1, ecolor='black')"
   ]
  },
  {
   "cell_type": "code",
   "execution_count": null,
   "metadata": {},
   "outputs": [],
   "source": [
    "# All the points give the best fits for N = 6 peg in DMSO\n",
    "n8_blksplgapeg_dmso , n8plgapeg_lpdmso = bavg_pers_cnt(5, plgapeg_n8dmso, n8_plgapeg_dmso, blen_ppn8dmso, 4, 0 , 36001)"
   ]
  },
  {
   "cell_type": "code",
   "execution_count": null,
   "metadata": {},
   "outputs": [],
   "source": [
    "n8_blksplgapeg_dmso"
   ]
  },
  {
   "cell_type": "code",
   "execution_count": null,
   "metadata": {},
   "outputs": [],
   "source": [
    "n8plgapeg_lpdmso"
   ]
  },
  {
   "cell_type": "code",
   "execution_count": null,
   "metadata": {},
   "outputs": [],
   "source": [
    "n8plgapeg_lpdmso[2]"
   ]
  },
  {
   "cell_type": "code",
   "execution_count": null,
   "metadata": {},
   "outputs": [],
   "source": [
    "np.mean(n8plgapeg_lpdmso[3])"
   ]
  },
  {
   "cell_type": "markdown",
   "metadata": {},
   "source": [
    "#### line fitted to cosine theta values using mean slope"
   ]
  },
  {
   "cell_type": "code",
   "execution_count": null,
   "metadata": {},
   "outputs": [],
   "source": [
    "blen_ppn8dmso"
   ]
  },
  {
   "cell_type": "code",
   "execution_count": null,
   "metadata": {},
   "outputs": [],
   "source": [
    "gg_n8plgapeg_dmso = line_fit(np.mean(n8plgapeg_lpdmso[2]),blen_ppn8dmso)"
   ]
  },
  {
   "cell_type": "code",
   "execution_count": null,
   "metadata": {},
   "outputs": [],
   "source": [
    "gg_n6plgapeg_n8dmso = line_fit(np.mean(n6plgapeg_lpdmso[2]),blen_ppn8dmso)"
   ]
  },
  {
   "cell_type": "code",
   "execution_count": null,
   "metadata": {},
   "outputs": [],
   "source": [
    "gg_n8plgapeg_dmso"
   ]
  },
  {
   "cell_type": "markdown",
   "metadata": {},
   "source": [
    "#### Block averaged Rg, Ree, Rh, mean sq. Ree and mean sq. Rg persistence length, N = 8 PLGA-PEG in DMSO"
   ]
  },
  {
   "cell_type": "code",
   "execution_count": null,
   "metadata": {},
   "outputs": [],
   "source": [
    "blppn8dmso = []\n",
    "for i in range(n8_mon-1):\n",
    "    if i < int((n8_mon/2)-1):\n",
    "        # PLGA contour length values\n",
    "        blppn8dmso.append(COM_ppn8dmso[0,0])    \n",
    "    elif i == int((n8_mon/2)-1):\n",
    "        #PLGA-PEG linker length\n",
    "        blppn8dmso.append(COM_ppn8dmso[1,0]) \n",
    "    elif i > int((n8_mon/2)-1):\n",
    "    #    # PEG contour length values\n",
    "        blppn8dmso.append(COM_ppn8dmso[2,0]) \n",
    "\n",
    "# Contour Length, N = 6 PLGA-PEG in DMSO\n",
    "lc_ppn8dmso = np.sum(blppn8dmso)\n",
    "lc_ppn8dmso"
   ]
  },
  {
   "cell_type": "code",
   "execution_count": null,
   "metadata": {},
   "outputs": [],
   "source": [
    "# Ree^2/Rg^2 array at different contour lengths\n",
    "re2e_rgsq_plgapegdmso[1,1] = lc_ppn8dmso\n",
    "re2e_rgsq_plgapegdmso"
   ]
  },
  {
   "cell_type": "code",
   "execution_count": null,
   "metadata": {},
   "outputs": [],
   "source": [
    "a_ppn8dmso = np.mean(n8_blksplgapeg_dmso['Avg Sq. end to end distance'])"
   ]
  },
  {
   "cell_type": "code",
   "execution_count": null,
   "metadata": {},
   "outputs": [],
   "source": [
    "b_ppn8dmso = np.mean(n8_blksplgapeg_dmso['Avg Sq. radius of gyration'])"
   ]
  },
  {
   "cell_type": "code",
   "execution_count": null,
   "metadata": {},
   "outputs": [],
   "source": [
    "re2e_rgsq_plgapegdmso[0,1] = a_ppn8dmso/b_ppn8dmso\n",
    "re2e_rgsq_plgapegdmso"
   ]
  },
  {
   "cell_type": "code",
   "execution_count": null,
   "metadata": {},
   "outputs": [],
   "source": [
    "# Rg/Rh array at different contour lengths \n",
    "rhy_rg_plgapegdmso[1,1] = lc_ppn8dmso\n",
    "rhy_rg_plgapegdmso"
   ]
  },
  {
   "cell_type": "code",
   "execution_count": null,
   "metadata": {},
   "outputs": [],
   "source": [
    "aa_ppn8dmso = np.mean(n8_blksplgapeg_dmso['Avg Radius of gyration'])"
   ]
  },
  {
   "cell_type": "code",
   "execution_count": null,
   "metadata": {},
   "outputs": [],
   "source": [
    "bb_ppn8dmso = np.mean(n8_blksplgapeg_dmso['Avg Hydrodynamic radius'])"
   ]
  },
  {
   "cell_type": "code",
   "execution_count": null,
   "metadata": {},
   "outputs": [],
   "source": [
    "rhy_rg_plgapegdmso[0,1] = aa_ppn8dmso/bb_ppn8dmso\n",
    "rhy_rg_plgapegdmso"
   ]
  },
  {
   "cell_type": "code",
   "execution_count": null,
   "metadata": {},
   "outputs": [],
   "source": [
    "# pers length/contour length \n",
    "kuhnlpL_plgapegdmso[0,1] = np.mean(n8_blksplgapeg_dmso[\"Avg persistence length\"])/lc_ppn8dmso\n",
    "kuhnlpL_plgapegdmso"
   ]
  },
  {
   "cell_type": "markdown",
   "metadata": {},
   "source": [
    "#### Block averaged Radius of gyration and persistence length, N = 8 PLGA-PEG in DMSO"
   ]
  },
  {
   "cell_type": "code",
   "execution_count": null,
   "metadata": {},
   "outputs": [],
   "source": [
    "np.mean(n8_blksplgapeg_dmso[\"Avg persistence length\"])"
   ]
  },
  {
   "cell_type": "code",
   "execution_count": null,
   "metadata": {},
   "outputs": [],
   "source": [
    "np.std(n8_blksplgapeg_dmso[\"Avg persistence length\"])"
   ]
  },
  {
   "cell_type": "code",
   "execution_count": null,
   "metadata": {},
   "outputs": [],
   "source": [
    "np.mean(n8_blksplgapeg_dmso[\"Avg Radius of gyration\"])"
   ]
  },
  {
   "cell_type": "code",
   "execution_count": null,
   "metadata": {},
   "outputs": [],
   "source": [
    "np.std(n8_blksplgapeg_dmso[\"Avg Radius of gyration\"])"
   ]
  },
  {
   "cell_type": "code",
   "execution_count": null,
   "metadata": {},
   "outputs": [],
   "source": [
    "plt.figure(figsize=(7,7))\n",
    "plt.errorbar(blen_ppn6dmso, np.log(cor_n6plgapeg_dmso[0]), yerr=mk_n6ppdmso, color='teal', linestyle=\"None\",marker='o',\n",
    "             capsize=5, capthick=1, ecolor='black')\n",
    "plt.errorbar(blen_ppn8dmso, np.log(cor_n8plgapeg_dmso[0]), yerr=mk_n8ppdmso, color='dodgerblue', linestyle=\"None\",marker='o',\n",
    "     capsize=5, capthick=1, ecolor='black')\n",
    "plt.plot(blen_ppn8dmso, gg_n6plgapeg_n8dmso, color='teal')\n",
    "plt.plot(blen_ppn8dmso, gg_n8plgapeg_dmso, color='dodgerblue')\n",
    "plt.title(r'Ensemble Averaged ln(Cosine $\\theta$) PLGA-PEG in DMSO', fontsize=15, y=1.01)\n",
    "plt.xlabel(r'Bond Length', fontsize=15)\n",
    "plt.ylabel(r'ln$\\left< Cos(\\theta)\\right >$', fontsize=15)\n",
    "plt.ylim(-6,1)\n",
    "plt.xlim(0,30)\n",
    "#plt.ylim(-1.9,0)\n",
    "font = font_manager.FontProperties(family='Arial', style='normal', size='14')\n",
    "#plt.legend([r'$N_{PEG}$ = 6: $L_{p}$ = 18.8 $\\AA$ ± 3.60 $\\AA$'], loc=3, frameon=0, fontsize=14, prop=font)\n",
    "plt.tick_params(labelsize=14)\n",
    "plt.text(0.5, -5.9,r'$N_{PLGA-PEG}$ = 6: $L_{p}$ = 36.2 $\\AA$ ± 3.33 $\\AA$', fontsize=15, color='teal')\n",
    "plt.text(0.5, -5.58,r'$N_{PLGA-PEG}$ = 8: $L_{p}$ = 33.7 $\\AA$ ± 2.04 $\\AA$', fontsize=15, color='dodgerblue')"
   ]
  },
  {
   "cell_type": "code",
   "execution_count": null,
   "metadata": {},
   "outputs": [],
   "source": [
    "rgplgapeg_olig_dmso[r\"$R_{g}$ [Angstrom] N = 8 PLGA-PEG DMSO\"] = n8_blksplgapeg_dmso[\"Avg Radius of gyration\"]\n",
    "rgplgapeg_olig_dmso"
   ]
  },
  {
   "cell_type": "code",
   "execution_count": null,
   "metadata": {},
   "outputs": [],
   "source": [
    "pers_plgapegt_dmso[r\"$L_{p}$ [Angstrom] N = 8 PLGA-PEG DMSO\"] = n8_blksplgapeg_dmso[\"Avg persistence length\"]\n",
    "pers_plgapegt_dmso"
   ]
  },
  {
   "cell_type": "code",
   "execution_count": null,
   "metadata": {},
   "outputs": [],
   "source": []
  },
  {
   "cell_type": "code",
   "execution_count": null,
   "metadata": {},
   "outputs": [],
   "source": []
  },
  {
   "cell_type": "code",
   "execution_count": null,
   "metadata": {},
   "outputs": [],
   "source": []
  },
  {
   "cell_type": "markdown",
   "metadata": {},
   "source": [
    "### N = 10 PLGA-PEG/DMSO "
   ]
  },
  {
   "cell_type": "code",
   "execution_count": null,
   "metadata": {},
   "outputs": [],
   "source": [
    "# For the right Rg calculation using MD Analysis, use trajactory without pbc \n",
    "n10_plgapeg_dmso = mda.Universe(\"n10plga_peg_dmso/n10plgapeg_DMSO.pdb\", \"n10plga_peg_dmso/NoDMSO_n10plgapeg.xtc\")"
   ]
  },
  {
   "cell_type": "code",
   "execution_count": null,
   "metadata": {},
   "outputs": [],
   "source": [
    "n10_plgapeg_dmso.trajectory"
   ]
  },
  {
   "cell_type": "code",
   "execution_count": null,
   "metadata": {},
   "outputs": [],
   "source": [
    "len(n10_plgapeg_dmso.trajectory)"
   ]
  },
  {
   "cell_type": "code",
   "execution_count": null,
   "metadata": {},
   "outputs": [],
   "source": [
    "#Select the polymer heavy atoms \n",
    "plgapeg_n10dmso = n10_plgapeg_dmso.select_atoms(\"resname sPLG PLG bPLG bPEG PEG sPEG and not type H\")"
   ]
  },
  {
   "cell_type": "code",
   "execution_count": null,
   "metadata": {},
   "outputs": [],
   "source": [
    "np.unique(plgapeg_n10dmso.resids)"
   ]
  },
  {
   "cell_type": "code",
   "execution_count": null,
   "metadata": {},
   "outputs": [],
   "source": [
    "# Get cosine theta values at frame 0 \n",
    "crv_n10plgapeg_dmso = pers_length(plgapeg_n10dmso,10)\n",
    "crv_n10plgapeg_dmso"
   ]
  },
  {
   "cell_type": "markdown",
   "metadata": {},
   "source": [
    "### Orientation Order parameter vs. time "
   ]
  },
  {
   "cell_type": "code",
   "execution_count": null,
   "metadata": {},
   "outputs": [],
   "source": [
    "n10_mon = 10 \n",
    "start = 0\n",
    "end = 36001"
   ]
  },
  {
   "cell_type": "code",
   "execution_count": null,
   "metadata": {},
   "outputs": [],
   "source": [
    "OOp_n10plgapeg_dmso = orientation_order_param(plgapeg_n10dmso, n10_plgapeg_dmso, n10_mon, start, end)"
   ]
  },
  {
   "cell_type": "code",
   "execution_count": null,
   "metadata": {},
   "outputs": [],
   "source": [
    "OOp_n10plgapeg_dmso.shape"
   ]
  },
  {
   "cell_type": "code",
   "execution_count": null,
   "metadata": {},
   "outputs": [],
   "source": [
    "trj_len = np.arange(36001)\n",
    "plt.figure(figsize=(7,7))\n",
    "plt.title(r'PLGA-PEG Orientation Order Parameter', fontsize=18, y=1.01)\n",
    "plt.xlabel(r'Time [ns]', fontsize=15)\n",
    "plt.ylabel(r'Z', fontsize=15)\n",
    "plt.plot(trj_len/100, OOp_n6plgapeg_dmso,linewidth=2, color='teal')\n",
    "plt.plot(trj_len/100, OOp_n8plgapeg_dmso,linewidth=2, color='dodgerblue')\n",
    "plt.plot(trj_len/100, OOp_n10plgapeg_dmso,linewidth=2, color='darkmagenta')\n",
    "plt.tick_params(labelsize=14)\n",
    "plt.legend(['N = 6 in DMSO', 'N = 8 in DMSO','N = 10 in DMSO'], frameon=False, fontsize=14)\n",
    "#plt.text(127, 0.96,r'N = 6 in DMSO', fontsize=18, color='#1F2E69', family='Arial')\n",
    "plt.xlim(0,360)\n",
    "plt.ylim(-1,1)"
   ]
  },
  {
   "cell_type": "markdown",
   "metadata": {},
   "source": [
    "#### Mean Orientation Order Parameter for N = 10 PLGA-PEG in DMSO"
   ]
  },
  {
   "cell_type": "code",
   "execution_count": null,
   "metadata": {},
   "outputs": [],
   "source": [
    "OOp_n10plgapeg_dmso[82]"
   ]
  },
  {
   "cell_type": "code",
   "execution_count": null,
   "metadata": {},
   "outputs": [],
   "source": [
    "OOp_n10plgapeg_dmso[239]"
   ]
  },
  {
   "cell_type": "code",
   "execution_count": null,
   "metadata": {},
   "outputs": [],
   "source": [
    "np.mean(OOp_n10plgapeg_dmso)"
   ]
  },
  {
   "cell_type": "code",
   "execution_count": null,
   "metadata": {},
   "outputs": [],
   "source": [
    "np.std(OOp_n10plgapeg_dmso)"
   ]
  },
  {
   "cell_type": "markdown",
   "metadata": {},
   "source": [
    "### Mean squared end to end distance "
   ]
  },
  {
   "cell_type": "code",
   "execution_count": null,
   "metadata": {},
   "outputs": [],
   "source": [
    "eVec_n10plgapeg_dmso, e2edis_n10plgapeg_dmso = mean_sq_e2e(plgapeg_n10dmso, n10_plgapeg_dmso, n10_mon, start, end)"
   ]
  },
  {
   "cell_type": "code",
   "execution_count": null,
   "metadata": {},
   "outputs": [],
   "source": [
    "trj_len = np.arange(36001)\n",
    "plt.figure(figsize=(7,7))\n",
    "plt.title(r'PLGA-PEG End to End distance', fontsize=18, y=1.01)\n",
    "plt.xlabel(r'Time [ns]', fontsize=15)\n",
    "plt.ylabel(r'$R_{ee}$ [nm]', fontsize=15)\n",
    "plt.plot(trj_len/100, e2edis_n6plgapeg_dmso[1]/10,linewidth=2, color='teal')\n",
    "plt.plot(trj_len/100, e2edis_n8plgapeg_dmso[1]/10,linewidth=2, color='dodgerblue')\n",
    "plt.plot(trj_len/100, e2edis_n10plgapeg_dmso[1]/10,linewidth=2, color='darkmagenta')\n",
    "plt.tick_params(labelsize=14)\n",
    "plt.legend(['N = 6 in DMSO', 'N = 8 in DMSO','N = 10 in DMSO'], frameon=False, fontsize=14)\n",
    "#plt.text(127, 0.96,r'N = 6 in DMSO', fontsize=18, color='#1F2E69', family='Arial')\n",
    "plt.xlim(0,360)\n",
    "plt.ylim(0,5)"
   ]
  },
  {
   "cell_type": "markdown",
   "metadata": {},
   "source": [
    "#### Ree Autocorrelation function"
   ]
  },
  {
   "cell_type": "code",
   "execution_count": null,
   "metadata": {},
   "outputs": [],
   "source": [
    "e2edis_n10plgapeg_dmso[1]"
   ]
  },
  {
   "cell_type": "code",
   "execution_count": null,
   "metadata": {},
   "outputs": [],
   "source": [
    "t_corr = 7000\n",
    "window_shift = 9"
   ]
  },
  {
   "cell_type": "code",
   "execution_count": null,
   "metadata": {},
   "outputs": [],
   "source": [
    "ACn10plgapegdmso_Ree, eqvar_n10plgapegdmso = obs_autocorr_RA(e2edis_n10plgapeg_dmso[1],t_corr, window_shift,start,end)"
   ]
  },
  {
   "cell_type": "code",
   "execution_count": null,
   "metadata": {},
   "outputs": [],
   "source": [
    "ACn10plgapegdmso_Ree"
   ]
  },
  {
   "cell_type": "code",
   "execution_count": null,
   "metadata": {},
   "outputs": [],
   "source": [
    "eqvar_n10plgapegdmso"
   ]
  },
  {
   "cell_type": "code",
   "execution_count": null,
   "metadata": {},
   "outputs": [],
   "source": [
    "ACn10plgapegdmso_sqRee, evsqRee_n10plgapegdmso = obs_autocorr_RA(e2edis_n10plgapeg_dmso[0],t_corr, window_shift,start,end)"
   ]
  },
  {
   "cell_type": "code",
   "execution_count": null,
   "metadata": {},
   "outputs": [],
   "source": [
    "np.sqrt(evsqRee_n10plgapegdmso)"
   ]
  },
  {
   "cell_type": "code",
   "execution_count": null,
   "metadata": {},
   "outputs": [],
   "source": [
    "plt.figure(figsize=(7,7))\n",
    "plt.title(r'PLGA-PEG Ree autocorrelation', fontsize=18, y=1.01)\n",
    "plt.xlabel(r'Time [ns]', fontsize=15)\n",
    "plt.ylabel(r'$C_{A}(t)$', fontsize=15)\n",
    "plt.plot(ACn6plgapegdmso_Ree[1]/100, ACn6plgapegdmso_Ree[0],linewidth=2, color='#1F2E69')\n",
    "plt.plot(ACn8plgapegdmso_Ree[1]/100, ACn8plgapegdmso_Ree[0],linewidth=2, color='#4C80ED')\n",
    "plt.plot(ACn10plgapegdmso_Ree[1]/100, ACn10plgapegdmso_Ree[0],linewidth=2, color='#8C52FC')\n",
    "plt.tick_params(labelsize=14)\n",
    "plt.legend(['N = 6 Ree','N = 8 Ree','N = 10 Ree'], frameon=False, fontsize=14)\n",
    "#plt.yscale('symlog', linthreshy=0.5)\n",
    "#plt.xscale('symlog')\n",
    "plt.xlim(0,50)\n",
    "plt.ylim(-1,1)"
   ]
  },
  {
   "cell_type": "markdown",
   "metadata": {},
   "source": [
    "### Hydrodynamic Radius vs time"
   ]
  },
  {
   "cell_type": "code",
   "execution_count": null,
   "metadata": {},
   "outputs": [],
   "source": [
    "plgapegn10dmso_rh = hydro_rad_poly(plgapeg_n10dmso, n10_plgapeg_dmso, n10_mon, start, end)"
   ]
  },
  {
   "cell_type": "code",
   "execution_count": null,
   "metadata": {},
   "outputs": [],
   "source": [
    "trj_len = np.arange(36001)\n",
    "plt.figure(figsize=(7,7))\n",
    "plt.title(r'PLGA-PEG Hydrodynamic Radius', fontsize=18, y=1.01)\n",
    "plt.xlabel(r'Time [ns]', fontsize=15)\n",
    "plt.ylabel(r'$R_{hyd}$ [nm]', fontsize=15)\n",
    "plt.plot(trj_len/100, plgapegn6dmso_rh/10,linewidth=2, color='teal')\n",
    "plt.plot(trj_len/100, plgapegn8dmso_rh/10,linewidth=2, color='dodgerblue')\n",
    "plt.plot(trj_len/100, plgapegn10dmso_rh/10,linewidth=2, color='darkmagenta')\n",
    "plt.tick_params(labelsize=14)\n",
    "plt.legend(['N = 6 in DMSO', 'N = 8 in DMSO','N = 10 in DMSO'], frameon=False, fontsize=14)\n",
    "#plt.text(127, 0.96,r'N = 6 in DMSO', fontsize=18, color='#1F2E69', family='Arial')\n",
    "plt.xlim(0,360)\n",
    "plt.ylim(0,2)"
   ]
  },
  {
   "cell_type": "markdown",
   "metadata": {},
   "source": [
    "#### Rh autocorrelation"
   ]
  },
  {
   "cell_type": "code",
   "execution_count": null,
   "metadata": {},
   "outputs": [],
   "source": [
    "t_corr = 10000\n",
    "window_shift = 9"
   ]
  },
  {
   "cell_type": "code",
   "execution_count": null,
   "metadata": {},
   "outputs": [],
   "source": [
    "ACn10plgapegdmsoRh, eqvarRh_n10plgapegdmso = obs_autocorr_RA(plgapegn10dmso_rh,t_corr, window_shift,start,end)"
   ]
  },
  {
   "cell_type": "code",
   "execution_count": null,
   "metadata": {},
   "outputs": [],
   "source": [
    "ACn10plgapegdmsoRh"
   ]
  },
  {
   "cell_type": "code",
   "execution_count": null,
   "metadata": {},
   "outputs": [],
   "source": [
    "eqvarRh_n10plgapegdmso"
   ]
  },
  {
   "cell_type": "code",
   "execution_count": null,
   "metadata": {},
   "outputs": [],
   "source": [
    "plt.figure(figsize=(7,7))\n",
    "plt.title(r'PEG Rh autocorrelation', fontsize=18, y=1.01)\n",
    "plt.xlabel(r'Time [ns]', fontsize=15)\n",
    "plt.ylabel(r'$C_{Rh}(t)$', fontsize=15)\n",
    "plt.plot(ACn6plgapegdmsoRh[1]/100, ACn6plgapegdmsoRh[0],linewidth=2, color='#1F2E69')\n",
    "plt.plot(ACn8plgapegdmsoRh[1]/100, ACn8plgapegdmsoRh[0],linewidth=2, color='#4C80ED')\n",
    "plt.plot(ACn10plgapegdmsoRh[1]/100, ACn10plgapegdmsoRh[0],linewidth=2, color='#8C52FC')\n",
    "plt.tick_params(labelsize=14)\n",
    "plt.legend(['N = 6 in DMSO','N = 8 in DMSO','N = 10 in DMSO'], frameon=False, fontsize=14)\n",
    "plt.xlim(0,50)\n",
    "#plt.ylim(-0.2,1)"
   ]
  },
  {
   "cell_type": "markdown",
   "metadata": {},
   "source": [
    "### Relaxation times vs monomer length "
   ]
  },
  {
   "cell_type": "code",
   "execution_count": null,
   "metadata": {},
   "outputs": [],
   "source": [
    "# Key variables \n",
    "# def pos_bead_autocorr_RA(polymer_atoms, universe, n_monomers, t_corr,  start, end):\n",
    "n10_mon = 10 \n",
    "start = 0\n",
    "end = 36001\n",
    "t_corr = 1000\n",
    "window_shift = 20"
   ]
  },
  {
   "cell_type": "code",
   "execution_count": null,
   "metadata": {},
   "outputs": [],
   "source": [
    "s_time = timeit.default_timer()\n",
    "tcRA_plgapegn10dmso, tcSUM_plgapegn10dmso = pos_bead_autocorr_RA(plgapeg_n10dmso, n10_plgapeg_dmso, n10_mon, t_corr, window_shift\n",
    "                                                                 , start, end)\n",
    "timeit.default_timer() - s_time"
   ]
  },
  {
   "cell_type": "code",
   "execution_count": null,
   "metadata": {},
   "outputs": [],
   "source": [
    "tcRA_plgapegn10dmso"
   ]
  },
  {
   "cell_type": "code",
   "execution_count": null,
   "metadata": {},
   "outputs": [],
   "source": [
    "tcSUM_plgapegn10dmso.shape"
   ]
  },
  {
   "cell_type": "markdown",
   "metadata": {},
   "source": [
    "### Fitting autocorrelation data "
   ]
  },
  {
   "cell_type": "code",
   "execution_count": null,
   "metadata": {},
   "outputs": [],
   "source": [
    "xdata_plgapegn10dmso = tcRA_plgapegn10dmso[1]/100\n",
    "ydata_plgapegn10dmso = tcRA_plgapegn10dmso[0]"
   ]
  },
  {
   "cell_type": "code",
   "execution_count": null,
   "metadata": {},
   "outputs": [],
   "source": [
    "ydata_plgapegn10dmso.shape"
   ]
  },
  {
   "cell_type": "code",
   "execution_count": null,
   "metadata": {},
   "outputs": [],
   "source": [
    "xdata_plgapegn10dmso.shape"
   ]
  },
  {
   "cell_type": "code",
   "execution_count": null,
   "metadata": {},
   "outputs": [],
   "source": [
    "plt.figure(figsize=(8,8))\n",
    "plt.rcParams[\"font.family\"] = \"Arial\"\n",
    "plt.scatter(xdata_plgapegn6dmso, ydata_plgapegn6dmso, color='teal', s=s_n6)\n",
    "plt.scatter(xdata_plgapegn8dmso, ydata_plgapegn8dmso, color='dodgerblue', s=s_n8)\n",
    "plt.scatter(xdata_plgapegn10dmso, ydata_plgapegn10dmso, color='darkmagenta', s=s_n10)\n",
    "plt.title(r'Positional bead autocorrelation PLGA-PEG in DMSO', fontsize=18)\n",
    "plt.xlabel(r'Time lag [ns]', fontsize=18)\n",
    "plt.ylabel('C(t)', fontsize=18)\n",
    "#plt.legend(fontsize=14, frameon=False)\n",
    "plt.xticks(fontsize=18)\n",
    "plt.yticks(fontsize=18)\n",
    "#plt.yscale('symlog', linthreshy=0.5)\n",
    "plt.xscale('symlog')\n",
    "plt.grid(b=True)\n",
    "plt.xlim(0,300)\n",
    "plt.ylim(-1,1)\n",
    "plt.tick_params(labelsize=18, direction='in', which='both', width=1, length=10)"
   ]
  },
  {
   "cell_type": "code",
   "execution_count": null,
   "metadata": {},
   "outputs": [],
   "source": [
    "ts = 1\n",
    "hs = 0.1\n",
    "n10_mon = 10\n",
    "n_b = n10_mon - 1\n",
    "tr1 = 2\n",
    "zimm_relax_fit(ts,tr1,hs,n_b)"
   ]
  },
  {
   "cell_type": "code",
   "execution_count": null,
   "metadata": {},
   "outputs": [],
   "source": [
    "rouse_relax(1, 2, 6)"
   ]
  },
  {
   "cell_type": "code",
   "execution_count": null,
   "metadata": {},
   "outputs": [],
   "source": [
    "zimm_relax_func(1, 2, 0.1, 5)"
   ]
  },
  {
   "cell_type": "code",
   "execution_count": null,
   "metadata": {},
   "outputs": [],
   "source": [
    "def res_plgapegn10dmso(variabls, xnp, ynp):\n",
    "    #hs_np = variabls['h_star']\n",
    "    hs_np = 0.26\n",
    "    tr1_np = variabls['t_first']\n",
    "    n_bonds = 9\n",
    "    testnp = []\n",
    "    for i in range(len(xnp)):\n",
    "        model_ynp = zimm_relax_fit(xnp[i], tr1_np, hs_np, n_bonds)\n",
    "        #model_ynp = rouse_relax(xnp[i], tr1_np, n_m)\n",
    "        testnp.append(ynp[i] - model_ynp)\n",
    "    \n",
    "    tt_n6 = np.array(testnp)\n",
    "\n",
    "    return tt_n6\n",
    "    \n",
    "#x1 = np.array([0,0])\n",
    "#pfit, pcov, infodict, errmsg, success = leastsq(res_poly, x1, args=(xdata, ydata), full_output=1)"
   ]
  },
  {
   "cell_type": "code",
   "execution_count": null,
   "metadata": {},
   "outputs": [],
   "source": [
    "ppfit_n10dmso = Parameters()\n",
    "#ppfit_n10dmso.add(name='h_star', value=0, min=0, max=0.26, vary=True)\n",
    "ppfit_n10dmso.add(name='t_first', value=2)"
   ]
  },
  {
   "cell_type": "code",
   "execution_count": null,
   "metadata": {},
   "outputs": [],
   "source": [
    "mini_ppn10dmso = Minimizer(res_plgapegn10dmso, ppfit_n10dmso, fcn_args=(xdata_plgapegn10dmso, ydata_plgapegn10dmso))\n",
    "out_ppn10dmso = mini_ppn10dmso.leastsq()\n",
    "#bfit_n10 = ydata_n10dmso + out_n10dmso.residual "
   ]
  },
  {
   "cell_type": "code",
   "execution_count": null,
   "metadata": {},
   "outputs": [],
   "source": [
    "report_fit(out_ppn10dmso.params)"
   ]
  },
  {
   "cell_type": "code",
   "execution_count": null,
   "metadata": {},
   "outputs": [],
   "source": [
    "out_ppn10dmso.params"
   ]
  },
  {
   "cell_type": "code",
   "execution_count": null,
   "metadata": {},
   "outputs": [],
   "source": [
    "# with h varying, tr = 5.05535808 +/- 0.03753700, h* = 0.00761718 +/- 0.01288101\n",
    "tdmso_n10plgapeg = []\n",
    "n_bonds = 9\n",
    "for i in range(len(xdata_plgapegn10dmso)):\n",
    "    tdmso_n10plgapeg.append(zimm_relax_fit(xdata_plgapegn10dmso[i], 4.76278747, 0.26,  n_bonds))\n"
   ]
  },
  {
   "cell_type": "code",
   "execution_count": null,
   "metadata": {},
   "outputs": [],
   "source": [
    "t_c, tz_n10plgapeg, zimm_n10plgapeg, rouse_n10plgapeg = zimm_relax_func(1, 4.76278747, 0.26,  n_bonds)"
   ]
  },
  {
   "cell_type": "code",
   "execution_count": null,
   "metadata": {},
   "outputs": [],
   "source": [
    "len(tz_n10plgapeg)"
   ]
  },
  {
   "cell_type": "code",
   "execution_count": null,
   "metadata": {},
   "outputs": [],
   "source": [
    "x_pos_n6 = np.arange(5)\n",
    "x_pos_n8 = np.arange(7)\n",
    "x_pos_n10 = np.arange(9)\n",
    "width = 0.25\n",
    "aa_types_n10 = [r\"$\\tau_{1}$\", r\"$\\tau_{2}$\", r\"$\\tau_{3}$\", r\"$\\tau_{4}$\", r\"$\\tau_{5}$\",r\"$\\tau_{6}$\",r\"$\\tau_{7}$\",\n",
    "           r\"$\\tau_{8}$\", r\"$\\tau_{9}$\"]\n",
    "fig = plt.figure(figsize=(7,7))\n",
    "plt.title('PLGA-PEG in DMSO', fontsize=18)\n",
    "plt.bar(x_pos_n6+(2*width), tz_n6plgapeg, width, ecolor='black',capsize=5, color='teal', label=\"N = 6\")\n",
    "plt.bar(x_pos_n8+(width), tz_n8plgapeg, width, ecolor='black',capsize=5, color='dodgerblue', label='N = 8')\n",
    "plt.bar(x_pos_n10, tz_n10plgapeg, width, ecolor='black',capsize=5, color='darkmagenta', label='N = 10')\n",
    "plt.xticks(x_pos_n10, labels=aa_types_n10, fontsize=12)\n",
    "plt.legend(fontsize=12 ,frameon=False)\n",
    "plt.ylabel(r'Relaxation times [ns]', fontsize=15)"
   ]
  },
  {
   "cell_type": "code",
   "execution_count": null,
   "metadata": {},
   "outputs": [],
   "source": [
    "aa_eigen_n10 = [r\"$a_{1}$\", r\"$a_{2}$\", r\"$a_{3}$\", r\"$a_{4}$\", r\"$a_{5}$\",r\"$a_{6}$\",r\"$a_{7}$\",r\"$a_{8}$\",\n",
    "           r\"$a_{9}$\"]\n",
    "fig = plt.figure(figsize=(7,7))\n",
    "plt.title('PLGA-PEG in DMSO N = 10', fontsize=18)\n",
    "plt.bar(x_pos_n10, rouse_n10plgapeg, width,ecolor='black',capsize=5, color='c', label='Rouse')\n",
    "plt.bar(x_pos_n10+width, zimm_n10plgapeg, width,ecolor='black',capsize=5, color='m', label='Zimm')\n",
    "plt.xticks(x_pos_n10+width,labels=aa_eigen_n10, fontsize=12)\n",
    "plt.legend(fontsize=12 ,frameon=False)\n",
    "plt.ylabel(r'Rouse and Zimm eigenvalues', fontsize=15)"
   ]
  },
  {
   "cell_type": "code",
   "execution_count": null,
   "metadata": {},
   "outputs": [],
   "source": [
    "plt.figure(figsize=(8,8))\n",
    "plt.rcParams[\"font.family\"] = \"Arial\"\n",
    "plt.scatter(xdata_plgapegn6dmso, ydata_plgapegn6dmso, color='teal', s=s_n6)\n",
    "plt.scatter(xdata_plgapegn8dmso, ydata_plgapegn8dmso, color='dodgerblue', s=s_n8)\n",
    "plt.scatter(xdata_plgapegn10dmso, ydata_plgapegn10dmso, color='darkmagenta', s=s_n10)\n",
    "plt.plot(xdata_plgapegn6dmso, tdmso_n6plgapeg, color='teal')\n",
    "plt.plot(xdata_plgapegn8dmso, tdmso_n8plgapeg, color='dodgerblue')\n",
    "plt.plot(xdata_plgapegn10dmso, tdmso_n10plgapeg, color='darkmagenta')\n",
    "plt.title(r'Positional bead autocorrelation PLGA-PEG in DMSO', fontsize=18)\n",
    "plt.xlabel(r'Time lag [ns]', fontsize=18)\n",
    "plt.ylabel('C(t)', fontsize=18)\n",
    "#plt.legend(fontsize=14, frameon=False)\n",
    "plt.xticks(fontsize=18)\n",
    "plt.yticks(fontsize=18)\n",
    "#plt.yscale('symlog', linthreshy=0.5)\n",
    "plt.xscale('symlog')\n",
    "plt.grid(b=True)\n",
    "plt.xlim(0,300)\n",
    "plt.ylim(-1,1)\n",
    "plt.tick_params(labelsize=18, direction='in', which='both', width=1, length=10)"
   ]
  },
  {
   "cell_type": "code",
   "execution_count": null,
   "metadata": {},
   "outputs": [],
   "source": [
    "rppdmso_msen10 = np.array([ydata_plgapegn10dmso - np.array(tdmso_n10plgapeg)])\n",
    "rppdmso_msen10"
   ]
  },
  {
   "cell_type": "code",
   "execution_count": null,
   "metadata": {},
   "outputs": [],
   "source": [
    "plt.figure(figsize=(8,8))\n",
    "plt.rcParams[\"font.family\"] = \"Arial\"\n",
    "plt.scatter(xdata_plgapegn6dmso, rppdmso_msen6, color='teal', s=s_n6)\n",
    "plt.scatter(xdata_plgapegn8dmso, rppdmso_msen8, color='dodgerblue', s=s_n8)\n",
    "plt.scatter(xdata_plgapegn10dmso, rppdmso_msen10, color='darkmagenta', s=s_n10)\n",
    "plt.title(r'Relaxation time Fitting Residuals PLGA in DMSO', fontsize=18)\n",
    "plt.xlabel(r'Time lag [ns]', fontsize=18)\n",
    "plt.ylabel('Residuals', fontsize=18)\n",
    "plt.xticks(fontsize=14)\n",
    "plt.yticks(fontsize=14)\n",
    "plt.xlim([0,100])\n",
    "plt.ylim([-0.7,1])\n",
    "plt.tick_params(labelsize=15)"
   ]
  },
  {
   "cell_type": "markdown",
   "metadata": {},
   "source": [
    "#### Radius of Gyration vs. time N = 10 PLGA-PEG in DMSO"
   ]
  },
  {
   "cell_type": "code",
   "execution_count": null,
   "metadata": {},
   "outputs": [],
   "source": [
    "n10plgapeg_rgens_dmso, cor_n10plgapeg_dmso, N10plgapeg_cos_dmso, rgdmso_n10plgapeg = get_rg_pers_poly(plgapeg_n10dmso\n",
    "                                                                                                    , n10_plgapeg_dmso,start,end)"
   ]
  },
  {
   "cell_type": "code",
   "execution_count": null,
   "metadata": {},
   "outputs": [],
   "source": [
    "n10plgapeg_rgens_dmso[0].shape"
   ]
  },
  {
   "cell_type": "code",
   "execution_count": null,
   "metadata": {},
   "outputs": [],
   "source": [
    "cor_n10plgapeg_dmso[3]"
   ]
  },
  {
   "cell_type": "code",
   "execution_count": null,
   "metadata": {},
   "outputs": [],
   "source": [
    "N10plgapeg_cos_dmso"
   ]
  },
  {
   "cell_type": "code",
   "execution_count": null,
   "metadata": {},
   "outputs": [],
   "source": [
    "rgdmso_n10plgapeg"
   ]
  },
  {
   "cell_type": "code",
   "execution_count": null,
   "metadata": {},
   "outputs": [],
   "source": [
    "n10plgapeg_rgens_dmso.shape"
   ]
  },
  {
   "cell_type": "code",
   "execution_count": null,
   "metadata": {},
   "outputs": [],
   "source": [
    "trj_len = np.arange(36001)\n",
    "plt.figure(figsize=(7,7))\n",
    "plt.title(r'PLGA-PEG Radius of Gyration', fontsize=18, y=1.01)\n",
    "plt.xlabel(r'Time [ns]', fontsize=15)\n",
    "plt.ylabel(r'$R_{g}$ [nm]', fontsize=15)\n",
    "plt.plot(trj_len/100, n6plgapeg_rgens_dmso[0]/10,linewidth=2, color='teal')\n",
    "plt.plot(trj_len/100, n8plgapeg_rgens_dmso[0]/10,linewidth=2, color='dodgerblue')\n",
    "plt.plot(trj_len/100, n10plgapeg_rgens_dmso[0]/10,linewidth=2, color='darkmagenta')\n",
    "plt.tick_params(labelsize=14)\n",
    "plt.legend(['N = 6 in DMSO', 'N = 8 in DMSO', 'N = 10 in DMSO'], frameon=False, fontsize=14)\n",
    "#plt.text(127, 0.96,r'N = 6 in DMSO', fontsize=18, color='#1F2E69', family='Arial')\n",
    "plt.xlim(0,360)\n",
    "plt.ylim(0.2,2)"
   ]
  },
  {
   "cell_type": "markdown",
   "metadata": {},
   "source": [
    "#### Rg Autocorrelation"
   ]
  },
  {
   "cell_type": "code",
   "execution_count": null,
   "metadata": {},
   "outputs": [],
   "source": [
    "t_corr = 10000\n",
    "window_shift = 9"
   ]
  },
  {
   "cell_type": "code",
   "execution_count": null,
   "metadata": {},
   "outputs": [],
   "source": [
    "ACn10plgapegdmso_Rg, eqvarRg_n10plgapegdmso = obs_autocorr_RA(n10plgapeg_rgens_dmso[0],t_corr, window_shift,start,end)"
   ]
  },
  {
   "cell_type": "code",
   "execution_count": null,
   "metadata": {},
   "outputs": [],
   "source": [
    "ACn10plgapegdmso_Rg"
   ]
  },
  {
   "cell_type": "code",
   "execution_count": null,
   "metadata": {},
   "outputs": [],
   "source": [
    "eqvarRg_n10plgapegdmso"
   ]
  },
  {
   "cell_type": "code",
   "execution_count": null,
   "metadata": {},
   "outputs": [],
   "source": [
    "plt.figure(figsize=(7,7))\n",
    "plt.title(r'PEG in DMSO autocorrelation', fontsize=18, y=1.01)\n",
    "plt.xlabel(r'Time [ns]', fontsize=15)\n",
    "plt.ylabel(r'$C_{A}(t)$', fontsize=15)\n",
    "plt.plot(ACn6plgapegdmso_Rg[1]/100, ACn6plgapegdmso_Rg[0],linewidth=2, color='#1F2E69')\n",
    "plt.plot(ACn8plgapegdmso_Rg[1]/100, ACn8plgapegdmso_Rg[0],linewidth=2, color='#4C80ED')\n",
    "plt.plot(ACn10plgapegdmso_Rg[1]/100, ACn10plgapegdmso_Rg[0],linewidth=2, color='#8C52FC')\n",
    "plt.tick_params(labelsize=14)\n",
    "plt.legend(['N = 6 Rg','N = 8 Rg','N = 10 Rg'], frameon=False, fontsize=14)\n",
    "#plt.yscale('symlog', linthreshy=0.5)\n",
    "#plt.xscale('symlog')\n",
    "plt.xlim(0,50)\n",
    "plt.ylim(-1,1)"
   ]
  },
  {
   "cell_type": "markdown",
   "metadata": {},
   "source": [
    "#### Get average COM distance, arch length values"
   ]
  },
  {
   "cell_type": "code",
   "execution_count": null,
   "metadata": {},
   "outputs": [],
   "source": [
    "cb_n10plga = np.zeros(shape=(36001))\n",
    "cb_n10pplinker = np.zeros(shape=(36001))\n",
    "cb_n10peg = np.zeros(shape=(36001))\n",
    "count = 0\n",
    "for ts in n10_plgapeg_dmso.trajectory[0:36001]:\n",
    "    # 1st two PLGA residues\n",
    "    n10m1_plga = n10_plgapeg_dmso.select_atoms(\"resid 1\")\n",
    "    n10m2_plga = n10_plgapeg_dmso.select_atoms(\"resid 2\")\n",
    "    # PLGA-PEG linker (n_mon/2 to get to bPLG res no.)\n",
    "    n10pl_link = n10_plgapeg_dmso.select_atoms(\"resid 5\")\n",
    "    n10peg_link = n10_plgapeg_dmso.select_atoms(\"resid 6\")\n",
    "    # last two PEG residues \n",
    "    n10l1_plgapeg = n10_plgapeg_dmso.select_atoms(\"resid 9\")\n",
    "    n10l2_plgapeg = n10_plgapeg_dmso.select_atoms(\"resid 10\")\n",
    "    \n",
    "    cb_n10plga[count] = mda.analysis.distances.distance_array(n10m1_plga.center_of_mass(), n10m2_plga.center_of_mass(), \n",
    "                                                   box=n10_plgapeg_dmso.trajectory.ts.dimensions)\n",
    "    \n",
    "    cb_n10pplinker[count] = mda.analysis.distances.distance_array(n10pl_link.center_of_mass(), n10peg_link.center_of_mass(), \n",
    "                                                   box=n10_plgapeg_dmso.trajectory.ts.dimensions)\n",
    "    \n",
    "    cb_n10peg[count] = mda.analysis.distances.distance_array(n10l1_plgapeg.center_of_mass(), n10l2_plgapeg.center_of_mass(), \n",
    "                                                   box=n10_plgapeg_dmso.trajectory.ts.dimensions)\n",
    "    \n",
    "    count += 1\n",
    "    \n",
    "\n",
    "    "
   ]
  },
  {
   "cell_type": "code",
   "execution_count": null,
   "metadata": {},
   "outputs": [],
   "source": [
    "COM_ppn10dmso = np.zeros(shape=(3,2))\n",
    "COM_ppn10dmso[0,0] = np.mean(cb_n10plga)\n",
    "COM_ppn10dmso[1,0] = np.mean(cb_n10pplinker)\n",
    "COM_ppn10dmso[2,0] = np.mean(cb_n10peg)\n",
    "COM_ppn10dmso[0,1] = np.std(cb_n10plga)\n",
    "COM_ppn10dmso[1,1] = np.std(cb_n10pplinker)\n",
    "COM_ppn10dmso[2,1] = np.std(cb_n10peg)\n",
    "COM_ppn10dmso"
   ]
  },
  {
   "cell_type": "markdown",
   "metadata": {},
   "source": [
    "#### Correlation values at each arc length for the whole 360 ns trajectory, N = 10 PLGA-PEG/DMSO"
   ]
  },
  {
   "cell_type": "code",
   "execution_count": null,
   "metadata": {},
   "outputs": [],
   "source": [
    "# x values\n",
    "blen_ppn10dmso = np.zeros(shape=9)\n",
    "for i in range(n10_mon-1):\n",
    "    if i < int((n10_mon/2)-1):\n",
    "        # PLGA contour length values\n",
    "        if i == 0:\n",
    "            blen_ppn10dmso[i] = 0\n",
    "        elif i != 0:\n",
    "            blen_ppn10dmso[i] = np.sum(blen_ppn10dmso[i-1]) + COM_ppn10dmso[0,0]    \n",
    "    elif i == int((n10_mon/2)-1):\n",
    "        #PLGA-PEG linker length\n",
    "        blen_ppn10dmso[i] = np.sum(blen_ppn10dmso[i-1]) + COM_ppn10dmso[1,0]\n",
    "    elif i > int((n10_mon/2)-1):\n",
    "    #    # PEG contour length values\n",
    "        blen_ppn10dmso[i] = np.sum(blen_ppn10dmso[i-1]) + COM_ppn10dmso[2,0]\n",
    "        \n",
    "blen_ppn10dmso"
   ]
  },
  {
   "cell_type": "code",
   "execution_count": null,
   "metadata": {},
   "outputs": [],
   "source": [
    "# Error prop. into natural log std deviation\n",
    "mk_n10ppdmso = cor_n10plgapeg_dmso[1]/cor_n10plgapeg_dmso[0]\n",
    "mk_n10ppdmso"
   ]
  },
  {
   "cell_type": "code",
   "execution_count": null,
   "metadata": {},
   "outputs": [],
   "source": [
    "plt.figure(figsize=(7,7))\n",
    "plt.errorbar(blen_ppn10dmso, np.log(cor_n10plgapeg_dmso[0]), yerr=mk_n10ppdmso, color='teal', linestyle=\"None\",marker='o',\n",
    "     capsize=5, capthick=1, ecolor='black')"
   ]
  },
  {
   "cell_type": "code",
   "execution_count": null,
   "metadata": {},
   "outputs": [],
   "source": [
    "# All the points give the best fits for N = 6 peg in DMSO\n",
    "n10_blksplgapeg_dmso , n10plgapeg_lpdmso = bavg_pers_cnt(5, plgapeg_n10dmso, n10_plgapeg_dmso, blen_ppn10dmso, 5, 0 , 36001)"
   ]
  },
  {
   "cell_type": "code",
   "execution_count": null,
   "metadata": {},
   "outputs": [],
   "source": [
    "n10_blksplgapeg_dmso"
   ]
  },
  {
   "cell_type": "code",
   "execution_count": null,
   "metadata": {},
   "outputs": [],
   "source": [
    "n10plgapeg_lpdmso"
   ]
  },
  {
   "cell_type": "code",
   "execution_count": null,
   "metadata": {},
   "outputs": [],
   "source": [
    "n10plgapeg_lpdmso[2]"
   ]
  },
  {
   "cell_type": "code",
   "execution_count": null,
   "metadata": {},
   "outputs": [],
   "source": [
    "np.mean(n10plgapeg_lpdmso[3])"
   ]
  },
  {
   "cell_type": "markdown",
   "metadata": {},
   "source": [
    "#### line fitted to cosine theta values using mean slope"
   ]
  },
  {
   "cell_type": "code",
   "execution_count": null,
   "metadata": {},
   "outputs": [],
   "source": [
    "blen_ppn10dmso"
   ]
  },
  {
   "cell_type": "code",
   "execution_count": null,
   "metadata": {},
   "outputs": [],
   "source": [
    "gg_n10plgapeg_dmso = line_fit(np.mean(n10plgapeg_lpdmso[2]),blen_ppn10dmso)"
   ]
  },
  {
   "cell_type": "code",
   "execution_count": null,
   "metadata": {},
   "outputs": [],
   "source": [
    "gg_n8plgapeg_n10dmso = line_fit(np.mean(n8plgapeg_lpdmso[2]),blen_ppn10dmso)"
   ]
  },
  {
   "cell_type": "code",
   "execution_count": null,
   "metadata": {},
   "outputs": [],
   "source": [
    "gg_n6plgapeg_n10dmso = line_fit(np.mean(n6plgapeg_lpdmso[2]),blen_ppn10dmso)"
   ]
  },
  {
   "cell_type": "code",
   "execution_count": null,
   "metadata": {},
   "outputs": [],
   "source": [
    "gg_n10plgapeg_dmso"
   ]
  },
  {
   "cell_type": "markdown",
   "metadata": {},
   "source": [
    "#### Block averaged Rg, Ree, Rh, mean sq. Ree and mean sq. Rg persistence length, N = 10 PLGA-PEG in DMSO"
   ]
  },
  {
   "cell_type": "code",
   "execution_count": null,
   "metadata": {},
   "outputs": [],
   "source": [
    "blppn10dmso = []\n",
    "for i in range(n10_mon-1):\n",
    "    if i < int((n10_mon/2)-1):\n",
    "        # PLGA contour length values\n",
    "        blppn10dmso.append(COM_ppn10dmso[0,0])    \n",
    "    elif i == int((n10_mon/2)-1):\n",
    "        #PLGA-PEG linker length\n",
    "        blppn10dmso.append(COM_ppn10dmso[1,0]) \n",
    "    elif i > int((n10_mon/2)-1):\n",
    "    #    # PEG contour length values\n",
    "        blppn10dmso.append(COM_ppn10dmso[2,0]) \n",
    "\n",
    "# Contour Length, N = 6 PLGA-PEG in DMSO\n",
    "lc_ppn10dmso = np.sum(blppn10dmso)\n",
    "lc_ppn10dmso"
   ]
  },
  {
   "cell_type": "code",
   "execution_count": null,
   "metadata": {},
   "outputs": [],
   "source": [
    "# Ree^2/Rg^2 array at different contour lengths\n",
    "re2e_rgsq_plgapegdmso[1,2] = lc_ppn10dmso\n",
    "re2e_rgsq_plgapegdmso"
   ]
  },
  {
   "cell_type": "code",
   "execution_count": null,
   "metadata": {},
   "outputs": [],
   "source": [
    "a_ppn10dmso = np.mean(n10_blksplgapeg_dmso['Avg Sq. end to end distance'])"
   ]
  },
  {
   "cell_type": "code",
   "execution_count": null,
   "metadata": {},
   "outputs": [],
   "source": [
    "b_ppn10dmso = np.mean(n10_blksplgapeg_dmso['Avg Sq. radius of gyration'])"
   ]
  },
  {
   "cell_type": "code",
   "execution_count": null,
   "metadata": {},
   "outputs": [],
   "source": [
    "re2e_rgsq_plgapegdmso[0,2] = a_ppn10dmso/b_ppn10dmso\n",
    "re2e_rgsq_plgapegdmso"
   ]
  },
  {
   "cell_type": "code",
   "execution_count": null,
   "metadata": {},
   "outputs": [],
   "source": [
    "# Rg/Rh array at different contour lengths \n",
    "rhy_rg_plgapegdmso[1,2] = lc_ppn10dmso\n",
    "rhy_rg_plgapegdmso"
   ]
  },
  {
   "cell_type": "code",
   "execution_count": null,
   "metadata": {},
   "outputs": [],
   "source": [
    "aa_ppn10dmso = np.mean(n10_blksplgapeg_dmso['Avg Radius of gyration'])"
   ]
  },
  {
   "cell_type": "code",
   "execution_count": null,
   "metadata": {},
   "outputs": [],
   "source": [
    "bb_ppn10dmso = np.mean(n10_blksplgapeg_dmso['Avg Hydrodynamic radius'])"
   ]
  },
  {
   "cell_type": "code",
   "execution_count": null,
   "metadata": {},
   "outputs": [],
   "source": [
    "rhy_rg_plgapegdmso[0,2] = aa_ppn10dmso/bb_ppn10dmso\n",
    "rhy_rg_plgapegdmso"
   ]
  },
  {
   "cell_type": "code",
   "execution_count": null,
   "metadata": {},
   "outputs": [],
   "source": [
    "# pers length/contour length \n",
    "kuhnlpL_plgapegdmso[0,2] = np.mean(n10_blksplgapeg_dmso[\"Avg persistence length\"])/lc_ppn10dmso\n",
    "kuhnlpL_plgapegdmso"
   ]
  },
  {
   "cell_type": "markdown",
   "metadata": {},
   "source": [
    "#### Block averaged Radius of gyration and persistence length, N = 10 PLGA-PEG in DMSO"
   ]
  },
  {
   "cell_type": "code",
   "execution_count": null,
   "metadata": {},
   "outputs": [],
   "source": [
    "np.mean(n10_blksplgapeg_dmso[\"Avg persistence length\"])"
   ]
  },
  {
   "cell_type": "code",
   "execution_count": null,
   "metadata": {},
   "outputs": [],
   "source": [
    "np.std(n10_blksplgapeg_dmso[\"Avg persistence length\"])"
   ]
  },
  {
   "cell_type": "code",
   "execution_count": null,
   "metadata": {},
   "outputs": [],
   "source": [
    "np.mean(n10_blksplgapeg_dmso[\"Avg Radius of gyration\"])"
   ]
  },
  {
   "cell_type": "code",
   "execution_count": null,
   "metadata": {},
   "outputs": [],
   "source": [
    "np.std(n10_blksplgapeg_dmso[\"Avg Radius of gyration\"])"
   ]
  },
  {
   "cell_type": "code",
   "execution_count": null,
   "metadata": {},
   "outputs": [],
   "source": [
    "plt.figure(figsize=(7,7))\n",
    "plt.errorbar(blen_ppn6dmso, np.log(cor_n6plgapeg_dmso[0]), yerr=mk_n6ppdmso, color='teal', linestyle=\"None\",marker='o',\n",
    "     capsize=5, capthick=1, ecolor='black')\n",
    "plt.errorbar(blen_ppn8dmso, np.log(cor_n8plgapeg_dmso[0]), yerr=mk_n8ppdmso, color='dodgerblue', linestyle=\"None\",marker='o',\n",
    "     capsize=5, capthick=1, ecolor='black')\n",
    "plt.errorbar(blen_ppn10dmso, np.log(cor_n10plgapeg_dmso[0]), yerr=mk_n10ppdmso, color='darkmagenta', linestyle=\"None\",marker='o',\n",
    "     capsize=5, capthick=1, ecolor='black')\n",
    "plt.plot(blen_ppn10dmso, gg_n6plgapeg_n10dmso, color='teal')\n",
    "plt.plot(blen_ppn10dmso, gg_n8plgapeg_n10dmso, color='dodgerblue')\n",
    "plt.plot(blen_ppn10dmso, gg_n10plgapeg_dmso, color='darkmagenta')\n",
    "plt.title(r'Ensemble Averaged ln(Cosine $\\theta$) PLGA-PEG in DMSO', fontsize=15, y=1.01)\n",
    "plt.xlabel(r'Bond Length', fontsize=15)\n",
    "plt.ylabel(r'ln$\\left< Cos(\\theta)\\right >$', fontsize=15)\n",
    "plt.ylim(-6,1)\n",
    "plt.xlim(0,40)\n",
    "#plt.ylim(-1.9,0)\n",
    "font = font_manager.FontProperties(family='Arial', style='normal', size='14')\n",
    "#plt.legend([r'$N_{PEG}$ = 6: $L_{p}$ = 18.8 $\\AA$ ± 3.60 $\\AA$'], loc=3, frameon=0, fontsize=14, prop=font)\n",
    "plt.tick_params(labelsize=14)\n",
    "plt.text(0.5, -5.9,r'$N_{PLGA-PEG}$ = 6: $L_{p}$ = 36.2 $\\AA$ ± 3.33 $\\AA$', fontsize=15, color='teal')\n",
    "plt.text(0.5, -5.58,r'$N_{PLGA-PEG}$ = 8: $L_{p}$ = 33.7 $\\AA$ ± 2.04 $\\AA$', fontsize=15, color='dodgerblue')\n",
    "plt.text(0.5, -5.23,r'$N_{PLGA-PEG}$ = 10: $L_{p}$ = 35.3 $\\AA$ ± 0.95 $\\AA$', fontsize=15, color='darkmagenta')"
   ]
  },
  {
   "cell_type": "code",
   "execution_count": null,
   "metadata": {},
   "outputs": [],
   "source": [
    "rgplgapeg_olig_dmso[r\"$R_{g}$ [Angstrom] N = 10 PLGA-PEG DMSO\"] = n10_blksplgapeg_dmso[\"Avg Radius of gyration\"]\n",
    "rgplgapeg_olig_dmso"
   ]
  },
  {
   "cell_type": "code",
   "execution_count": null,
   "metadata": {},
   "outputs": [],
   "source": [
    "pers_plgapegt_dmso[r\"$L_{p}$ [Angstrom] N = 10 PLGA-PEG DMSO\"] = n10_blksplgapeg_dmso[\"Avg persistence length\"]\n",
    "pers_plgapegt_dmso"
   ]
  },
  {
   "cell_type": "code",
   "execution_count": null,
   "metadata": {},
   "outputs": [],
   "source": []
  },
  {
   "cell_type": "code",
   "execution_count": null,
   "metadata": {},
   "outputs": [],
   "source": []
  },
  {
   "cell_type": "markdown",
   "metadata": {},
   "source": [
    "### N = 16 PLGA-PEG/DMSO "
   ]
  },
  {
   "cell_type": "code",
   "execution_count": null,
   "metadata": {},
   "outputs": [],
   "source": [
    "# For the right Rg calculation using MD Analysis, use trajactory without pbc \n",
    "n16_plgapeg_dmso = mda.Universe(\"n16plga_peg_dmso/n16plgapeg_DMSO.pdb\", \"n16plga_peg_dmso/NoDMSO_n16plgapeg.xtc\")"
   ]
  },
  {
   "cell_type": "code",
   "execution_count": null,
   "metadata": {},
   "outputs": [],
   "source": [
    "n16_plgapeg_dmso.trajectory"
   ]
  },
  {
   "cell_type": "code",
   "execution_count": null,
   "metadata": {},
   "outputs": [],
   "source": [
    "len(n16_plgapeg_dmso.trajectory)"
   ]
  },
  {
   "cell_type": "code",
   "execution_count": null,
   "metadata": {},
   "outputs": [],
   "source": [
    "#Select the polymer heavy atoms \n",
    "plgapeg_n16dmso = n16_plgapeg_dmso.select_atoms(\"resname sPLG PLG bPLG bPEG PEG sPEG and not type H\")"
   ]
  },
  {
   "cell_type": "code",
   "execution_count": null,
   "metadata": {},
   "outputs": [],
   "source": [
    "np.unique(plgapeg_n16dmso.resids)"
   ]
  },
  {
   "cell_type": "code",
   "execution_count": null,
   "metadata": {},
   "outputs": [],
   "source": [
    "# Get cosine theta values at frame 0 \n",
    "crv_n16plgapeg_dmso = pers_length(plgapeg_n16dmso,16)\n",
    "crv_n16plgapeg_dmso"
   ]
  },
  {
   "cell_type": "markdown",
   "metadata": {},
   "source": [
    "#### Orientation Order parameter vs. time "
   ]
  },
  {
   "cell_type": "code",
   "execution_count": null,
   "metadata": {},
   "outputs": [],
   "source": [
    "n16_mon = 16 \n",
    "start = 0\n",
    "end = 36001"
   ]
  },
  {
   "cell_type": "code",
   "execution_count": null,
   "metadata": {},
   "outputs": [],
   "source": [
    "OOp_n16plgapeg_dmso = orientation_order_param(plgapeg_n16dmso, n16_plgapeg_dmso, n16_mon, start, end)"
   ]
  },
  {
   "cell_type": "code",
   "execution_count": null,
   "metadata": {},
   "outputs": [],
   "source": [
    "OOp_n16plgapeg_dmso.shape"
   ]
  },
  {
   "cell_type": "code",
   "execution_count": null,
   "metadata": {},
   "outputs": [],
   "source": [
    "trj_len = np.arange(36001)\n",
    "plt.figure(figsize=(7,7))\n",
    "plt.title(r'PLGA-PEG Orientation Order Parameter', fontsize=18, y=1.01)\n",
    "plt.xlabel(r'Time [ns]', fontsize=15)\n",
    "plt.ylabel(r'Z', fontsize=15)\n",
    "plt.plot(trj_len/100, OOp_n6plgapeg_dmso,linewidth=2, color='teal')\n",
    "plt.plot(trj_len/100, OOp_n8plgapeg_dmso,linewidth=2, color='dodgerblue')\n",
    "plt.plot(trj_len/100, OOp_n10plgapeg_dmso,linewidth=2, color='darkmagenta')\n",
    "plt.plot(trj_len/100, OOp_n16plgapeg_dmso,linewidth=2, color='maroon')\n",
    "plt.tick_params(labelsize=14)\n",
    "plt.legend(['N = 6 in DMSO', 'N = 8 in DMSO','N = 10 in DMSO','N = 16 in DMSO'], frameon=False, fontsize=14)\n",
    "#plt.text(127, 0.96,r'N = 6 in DMSO', fontsize=18, color='#1F2E69', family='Arial')\n",
    "plt.xlim(0,360)\n",
    "plt.ylim(-1,1)"
   ]
  },
  {
   "cell_type": "markdown",
   "metadata": {},
   "source": [
    "#### Mean Orientation Order Parameter for N = 16 PLGA-PEG in DMSO"
   ]
  },
  {
   "cell_type": "code",
   "execution_count": null,
   "metadata": {},
   "outputs": [],
   "source": [
    "OOp_n16plgapeg_dmso[82]"
   ]
  },
  {
   "cell_type": "code",
   "execution_count": null,
   "metadata": {},
   "outputs": [],
   "source": [
    "OOp_n16plgapeg_dmso[239]"
   ]
  },
  {
   "cell_type": "code",
   "execution_count": null,
   "metadata": {},
   "outputs": [],
   "source": [
    "np.mean(OOp_n16plgapeg_dmso)"
   ]
  },
  {
   "cell_type": "code",
   "execution_count": null,
   "metadata": {},
   "outputs": [],
   "source": [
    "np.std(OOp_n16plgapeg_dmso)"
   ]
  },
  {
   "cell_type": "markdown",
   "metadata": {},
   "source": [
    "#### Mean squared end to end distance "
   ]
  },
  {
   "cell_type": "code",
   "execution_count": null,
   "metadata": {},
   "outputs": [],
   "source": [
    "eVec_n16plgapeg_dmso, e2edis_n16plgapeg_dmso = mean_sq_e2e(plgapeg_n16dmso, n16_plgapeg_dmso, n16_mon, start, end)"
   ]
  },
  {
   "cell_type": "code",
   "execution_count": null,
   "metadata": {},
   "outputs": [],
   "source": [
    "trj_len = np.arange(36001)\n",
    "plt.figure(figsize=(7,7))\n",
    "plt.title(r'PLGA-PEG End to End distance', fontsize=18, y=1.01)\n",
    "plt.xlabel(r'Time [ns]', fontsize=15)\n",
    "plt.ylabel(r'$R_{ee}$ [nm]', fontsize=15)\n",
    "plt.plot(trj_len/100, e2edis_n6plgapeg_dmso[1]/10,linewidth=2, color='teal')\n",
    "plt.plot(trj_len/100, e2edis_n8plgapeg_dmso[1]/10,linewidth=2, color='dodgerblue')\n",
    "plt.plot(trj_len/100, e2edis_n10plgapeg_dmso[1]/10,linewidth=2, color='darkmagenta')\n",
    "plt.plot(trj_len/100, e2edis_n16plgapeg_dmso[1]/10,linewidth=2, color='maroon')\n",
    "plt.tick_params(labelsize=14)\n",
    "plt.legend(['N = 6 in DMSO', 'N = 8 in DMSO','N = 10 in DMSO','N = 16 in DMSO'], frameon=False, fontsize=14)\n",
    "#plt.text(127, 0.96,r'N = 6 in DMSO', fontsize=18, color='#1F2E69', family='Arial')\n",
    "plt.xlim(0,360)\n",
    "plt.ylim(0,7)"
   ]
  },
  {
   "cell_type": "markdown",
   "metadata": {},
   "source": [
    "#### Ree Autocorrelation function"
   ]
  },
  {
   "cell_type": "code",
   "execution_count": null,
   "metadata": {},
   "outputs": [],
   "source": [
    "e2edis_n16plgapeg_dmso[1]"
   ]
  },
  {
   "cell_type": "code",
   "execution_count": null,
   "metadata": {},
   "outputs": [],
   "source": [
    "t_corr = 7000\n",
    "window_shift = 9"
   ]
  },
  {
   "cell_type": "code",
   "execution_count": null,
   "metadata": {},
   "outputs": [],
   "source": [
    "ACn16plgapegdmso_Ree, eqvar_n16plgapegdmso = obs_autocorr_RA(e2edis_n16plgapeg_dmso[1],t_corr, window_shift,start,end)"
   ]
  },
  {
   "cell_type": "code",
   "execution_count": null,
   "metadata": {},
   "outputs": [],
   "source": [
    "ACn16plgapegdmso_Ree"
   ]
  },
  {
   "cell_type": "code",
   "execution_count": null,
   "metadata": {},
   "outputs": [],
   "source": [
    "eqvar_n16plgapegdmso"
   ]
  },
  {
   "cell_type": "code",
   "execution_count": null,
   "metadata": {},
   "outputs": [],
   "source": [
    "ACn16plgapegdmso_sqRee, evsqRee_n16plgapegdmso = obs_autocorr_RA(e2edis_n16plgapeg_dmso[0],t_corr, window_shift,start,end)"
   ]
  },
  {
   "cell_type": "code",
   "execution_count": null,
   "metadata": {},
   "outputs": [],
   "source": [
    "np.sqrt(evsqRee_n16plgapegdmso)"
   ]
  },
  {
   "cell_type": "code",
   "execution_count": null,
   "metadata": {},
   "outputs": [],
   "source": [
    "plt.figure(figsize=(7,7))\n",
    "plt.title(r'PLGA-PEG Ree autocorrelation', fontsize=18, y=1.01)\n",
    "plt.xlabel(r'Time [ns]', fontsize=15)\n",
    "plt.ylabel(r'$C_{A}(t)$', fontsize=15)\n",
    "plt.plot(ACn6plgapegdmso_Ree[1]/100, ACn6plgapegdmso_Ree[0],linewidth=2, color='#1F2E69')\n",
    "plt.plot(ACn8plgapegdmso_Ree[1]/100, ACn8plgapegdmso_Ree[0],linewidth=2, color='#4C80ED')\n",
    "plt.plot(ACn10plgapegdmso_Ree[1]/100, ACn10plgapegdmso_Ree[0],linewidth=2, color='#8C52FC')\n",
    "plt.plot(ACn16plgapegdmso_Ree[1]/100, ACn16plgapegdmso_Ree[0],linewidth=2, color='purple')\n",
    "plt.tick_params(labelsize=14)\n",
    "plt.legend(['N = 6 Ree','N = 8 Ree','N = 10 Ree','N = 16 Ree'], frameon=False, fontsize=14)\n",
    "#plt.yscale('symlog', linthreshy=0.5)\n",
    "#plt.xscale('symlog')\n",
    "#plt.grid(b=True)\n",
    "plt.xlim(0,50)\n",
    "plt.ylim(-1,1)"
   ]
  },
  {
   "cell_type": "markdown",
   "metadata": {},
   "source": [
    "### Hydrodynamic Radius vs time"
   ]
  },
  {
   "cell_type": "code",
   "execution_count": null,
   "metadata": {},
   "outputs": [],
   "source": [
    "plgapegn16dmso_rh = hydro_rad_poly(plgapeg_n16dmso, n16_plgapeg_dmso, n16_mon, start, end)"
   ]
  },
  {
   "cell_type": "code",
   "execution_count": null,
   "metadata": {},
   "outputs": [],
   "source": [
    "trj_len = np.arange(36001)\n",
    "plt.figure(figsize=(7,7))\n",
    "plt.title(r'PLGA-PEG Hydrodynamic Radius', fontsize=18, y=1.01)\n",
    "plt.xlabel(r'Time [ns]', fontsize=15)\n",
    "plt.ylabel(r'$R_{hyd}$ [nm]', fontsize=15)\n",
    "plt.plot(trj_len/100, plgapegn6dmso_rh/10,linewidth=2, color='teal')\n",
    "plt.plot(trj_len/100, plgapegn8dmso_rh/10,linewidth=2, color='dodgerblue')\n",
    "plt.plot(trj_len/100, plgapegn10dmso_rh/10,linewidth=2, color='darkmagenta')\n",
    "plt.plot(trj_len/100, plgapegn16dmso_rh/10,linewidth=2, color='maroon')\n",
    "plt.tick_params(labelsize=14)\n",
    "plt.legend(['N = 6 in DMSO', 'N = 8 in DMSO','N = 10 in DMSO','N = 16 in DMSO'], frameon=False, fontsize=14)\n",
    "#plt.text(127, 0.96,r'N = 6 in DMSO', fontsize=18, color='#1F2E69', family='Arial')\n",
    "plt.xlim(0,360)\n",
    "plt.ylim(0,2)"
   ]
  },
  {
   "cell_type": "markdown",
   "metadata": {},
   "source": [
    "#### Rh autocorrelation"
   ]
  },
  {
   "cell_type": "code",
   "execution_count": null,
   "metadata": {},
   "outputs": [],
   "source": [
    "t_corr = 7000\n",
    "window_shift = 9"
   ]
  },
  {
   "cell_type": "code",
   "execution_count": null,
   "metadata": {},
   "outputs": [],
   "source": [
    "ACn16plgapegdmsoRh, eqvarRh_n16plgapegdmso = obs_autocorr_RA(plgapegn16dmso_rh,t_corr, window_shift,start,end)"
   ]
  },
  {
   "cell_type": "code",
   "execution_count": null,
   "metadata": {},
   "outputs": [],
   "source": [
    "ACn16plgapegdmsoRh"
   ]
  },
  {
   "cell_type": "code",
   "execution_count": null,
   "metadata": {},
   "outputs": [],
   "source": [
    "eqvarRh_n16plgapegdmso"
   ]
  },
  {
   "cell_type": "code",
   "execution_count": null,
   "metadata": {},
   "outputs": [],
   "source": [
    "plt.figure(figsize=(7,7))\n",
    "plt.title(r'PLGA-PEG Rh autocorrelation', fontsize=18, y=1.01)\n",
    "plt.xlabel(r'Time [ns]', fontsize=15)\n",
    "plt.ylabel(r'$C_{Rh}(t)$', fontsize=15)\n",
    "plt.plot(ACn6plgapegdmsoRh[1]/100, ACn6plgapegdmsoRh[0],linewidth=2, color='#1F2E69')\n",
    "plt.plot(ACn8plgapegdmsoRh[1]/100, ACn8plgapegdmsoRh[0],linewidth=2, color='#4C80ED')\n",
    "plt.plot(ACn10plgapegdmsoRh[1]/100, ACn10plgapegdmsoRh[0],linewidth=2, color='#8C52FC')\n",
    "plt.plot(ACn16plgapegdmsoRh[1]/100, ACn16plgapegdmsoRh[0],linewidth=2, color='purple')\n",
    "plt.tick_params(labelsize=14)\n",
    "plt.legend(['N = 6 in DMSO','N = 8 in DMSO','N = 10 in DMSO','N = 16 in DMSO'], frameon=False, fontsize=14)\n",
    "plt.xlim(0,50)\n",
    "#plt.ylim(-0.2,1)"
   ]
  },
  {
   "cell_type": "markdown",
   "metadata": {},
   "source": [
    "### Relaxation times vs monomer length "
   ]
  },
  {
   "cell_type": "code",
   "execution_count": null,
   "metadata": {},
   "outputs": [],
   "source": [
    "# Key variables \n",
    "# def pos_bead_autocorr_RA(polymer_atoms, universe, n_monomers, t_corr,  start, end):\n",
    "n16_mon = 16 \n",
    "start = 0\n",
    "end = 36001\n",
    "t_corr = 2000\n",
    "window_shift = 20"
   ]
  },
  {
   "cell_type": "code",
   "execution_count": null,
   "metadata": {},
   "outputs": [],
   "source": [
    "s_time = timeit.default_timer()\n",
    "tcRA_plgapegn16dmso, tcSUM_plgapegn16dmso = pos_bead_autocorr_RA(plgapeg_n16dmso, n16_plgapeg_dmso, n16_mon, t_corr, window_shift\n",
    "                                                                 , start, end)\n",
    "timeit.default_timer() - s_time"
   ]
  },
  {
   "cell_type": "code",
   "execution_count": null,
   "metadata": {},
   "outputs": [],
   "source": [
    "tcRA_plgapegn16dmso"
   ]
  },
  {
   "cell_type": "code",
   "execution_count": null,
   "metadata": {},
   "outputs": [],
   "source": [
    "tcSUM_plgapegn16dmso.shape"
   ]
  },
  {
   "cell_type": "markdown",
   "metadata": {},
   "source": [
    "### Fitting autocorrelation data "
   ]
  },
  {
   "cell_type": "code",
   "execution_count": null,
   "metadata": {},
   "outputs": [],
   "source": [
    "xdata_plgapegn16dmso = tcRA_plgapegn16dmso[1]/100\n",
    "ydata_plgapegn16dmso = tcRA_plgapegn16dmso[0]"
   ]
  },
  {
   "cell_type": "code",
   "execution_count": null,
   "metadata": {},
   "outputs": [],
   "source": [
    "ydata_plgapegn16dmso.shape"
   ]
  },
  {
   "cell_type": "code",
   "execution_count": null,
   "metadata": {},
   "outputs": [],
   "source": [
    "xdata_plgapegn16dmso.shape"
   ]
  },
  {
   "cell_type": "code",
   "execution_count": null,
   "metadata": {},
   "outputs": [],
   "source": [
    "plt.figure(figsize=(8,8))\n",
    "plt.rcParams[\"font.family\"] = \"Arial\"\n",
    "plt.scatter(xdata_plgapegn6dmso, ydata_plgapegn6dmso, color='teal', s=s_n6)\n",
    "plt.scatter(xdata_plgapegn8dmso, ydata_plgapegn8dmso, color='dodgerblue', s=s_n8)\n",
    "plt.scatter(xdata_plgapegn10dmso, ydata_plgapegn10dmso, color='darkmagenta', s=s_n10)\n",
    "plt.scatter(xdata_plgapegn16dmso, ydata_plgapegn16dmso, color='maroon', s=s_n16)\n",
    "plt.title(r'Positional bead autocorrelation PLGA-PEG in DMSO', fontsize=18)\n",
    "plt.xlabel(r'Time lag [ns]', fontsize=18)\n",
    "plt.ylabel('C(t)', fontsize=18)\n",
    "#plt.legend(fontsize=14, frameon=False)\n",
    "plt.xticks(fontsize=18)\n",
    "plt.yticks(fontsize=18)\n",
    "#plt.yscale('symlog', linthreshy=0.5)\n",
    "plt.xscale('symlog')\n",
    "plt.grid(b=True)\n",
    "plt.xlim(0,300)\n",
    "plt.ylim(-1,1)\n",
    "plt.tick_params(labelsize=18, direction='in', which='both', width=1, length=10)"
   ]
  },
  {
   "cell_type": "code",
   "execution_count": null,
   "metadata": {},
   "outputs": [],
   "source": [
    "ts = 1\n",
    "hs = 0.1\n",
    "n16_mon = 16\n",
    "n_b = n16_mon - 1\n",
    "tr1 = 2\n",
    "zimm_relax_fit(ts,tr1,hs,n_b)"
   ]
  },
  {
   "cell_type": "code",
   "execution_count": null,
   "metadata": {},
   "outputs": [],
   "source": [
    "rouse_relax(1, 2, 6)"
   ]
  },
  {
   "cell_type": "code",
   "execution_count": null,
   "metadata": {},
   "outputs": [],
   "source": [
    "zimm_relax_func(1, 2, 0.1, 5)"
   ]
  },
  {
   "cell_type": "code",
   "execution_count": null,
   "metadata": {},
   "outputs": [],
   "source": [
    "def res_plgapegn16dmso(variabls, xnp, ynp):\n",
    "    #hs_np = variabls['h_star']\n",
    "    hs_np = 0.26\n",
    "    tr1_np = variabls['t_first']\n",
    "    n_bonds = 15\n",
    "    testnp = []\n",
    "    for i in range(len(xnp)):\n",
    "        model_ynp = zimm_relax_fit(xnp[i], tr1_np, hs_np, n_bonds)\n",
    "        #model_ynp = rouse_relax(xnp[i], tr1_np, n_m)\n",
    "        testnp.append(ynp[i] - model_ynp)\n",
    "    \n",
    "    tt_n6 = np.array(testnp)\n",
    "\n",
    "    return tt_n6\n",
    "    \n",
    "#x1 = np.array([0,0])\n",
    "#pfit, pcov, infodict, errmsg, success = leastsq(res_poly, x1, args=(xdata, ydata), full_output=1)"
   ]
  },
  {
   "cell_type": "code",
   "execution_count": null,
   "metadata": {},
   "outputs": [],
   "source": [
    "ppfit_n16dmso = Parameters()\n",
    "#ppfit_n16dmso.add(name='h_star', value=0, min=0, max=0.26, vary=True)\n",
    "ppfit_n16dmso.add(name='t_first', value=2)"
   ]
  },
  {
   "cell_type": "code",
   "execution_count": null,
   "metadata": {},
   "outputs": [],
   "source": [
    "mini_ppn16dmso = Minimizer(res_plgapegn16dmso, ppfit_n16dmso, fcn_args=(xdata_plgapegn16dmso, ydata_plgapegn16dmso))\n",
    "out_ppn16dmso = mini_ppn16dmso.leastsq()\n",
    "#bfit_n16 = ydata_n16dmso + out_n16dmso.residual "
   ]
  },
  {
   "cell_type": "code",
   "execution_count": null,
   "metadata": {},
   "outputs": [],
   "source": [
    "report_fit(out_ppn16dmso.params)"
   ]
  },
  {
   "cell_type": "code",
   "execution_count": null,
   "metadata": {},
   "outputs": [],
   "source": [
    "out_ppn16dmso.params"
   ]
  },
  {
   "cell_type": "code",
   "execution_count": null,
   "metadata": {},
   "outputs": [],
   "source": [
    "# with h varying, tr = 7.83893332 +/- 0.03945703, h* = 0.25999623 +/- 0.01294047\n",
    "tdmso_n16plgapeg = []\n",
    "n_bonds = 15\n",
    "for i in range(len(xdata_plgapegn16dmso)):\n",
    "    tdmso_n16plgapeg.append(zimm_relax_fit(xdata_plgapegn16dmso[i], 7.84547549, 0.26,  n_bonds))\n"
   ]
  },
  {
   "cell_type": "code",
   "execution_count": null,
   "metadata": {},
   "outputs": [],
   "source": [
    "t_c, tz_n16plgapeg, zimm_n16plgapeg, rouse_n16plgapeg = zimm_relax_func(1, 7.84547549, 0.26,  n_bonds)"
   ]
  },
  {
   "cell_type": "code",
   "execution_count": null,
   "metadata": {},
   "outputs": [],
   "source": [
    "len(tz_n16plgapeg)"
   ]
  },
  {
   "cell_type": "code",
   "execution_count": null,
   "metadata": {},
   "outputs": [],
   "source": [
    "x_pos_n8 = np.arange(7)\n",
    "x_pos_n10 = np.arange(9)\n",
    "x_pos_n16 = np.arange(15)\n",
    "width = 0.25\n",
    "aa_types_n16 = [r\"$\\tau_{1}$\", r\"$\\tau_{2}$\", r\"$\\tau_{3}$\", r\"$\\tau_{4}$\", r\"$\\tau_{5}$\",r\"$\\tau_{6}$\",r\"$\\tau_{7}$\",\n",
    "           r\"$\\tau_{8}$\", r\"$\\tau_{9}$\",r\"$\\tau_{10}$\",r\"$\\tau_{11}$\",r\"$\\tau_{12}$\",r\"$\\tau_{13}$\",r\"$\\tau_{14}$\",r\"$\\tau_{15}$\"]\n",
    "fig = plt.figure(figsize=(7,7))\n",
    "plt.title('PLGA-PEG in DMSO', fontsize=18)\n",
    "plt.bar(x_pos_n8+(2*width), tz_n8plgapeg, width, ecolor='black',capsize=5, color='dodgerblue', label='N = 8')\n",
    "plt.bar(x_pos_n10+(width), tz_n10plgapeg, width, ecolor='black',capsize=5, color='darkmagenta', label='N = 10')\n",
    "plt.bar(x_pos_n16, tz_n16plgapeg, width, ecolor='black',capsize=5, color='maroon', label='N = 16')\n",
    "plt.xticks(x_pos_n16, labels=aa_types_n16, fontsize=12)\n",
    "plt.legend(fontsize=12 ,frameon=False)\n",
    "plt.ylabel(r'Relaxation times [ns]', fontsize=15)"
   ]
  },
  {
   "cell_type": "code",
   "execution_count": null,
   "metadata": {},
   "outputs": [],
   "source": [
    "aa_eigen_n16 = [r\"$a_{1}$\", r\"$a_{2}$\", r\"$a_{3}$\", r\"$a_{4}$\", r\"$a_{5}$\",r\"$a_{6}$\",r\"$a_{7}$\",r\"$a_{8}$\",\n",
    "           r\"$a_{9}$\",r\"$a_{10}$\",r\"$a_{11}$\",r\"$a_{12}$\",r\"$a_{13}$\",r\"$a_{14}$\",r\"$a_{15}$\"]\n",
    "fig = plt.figure(figsize=(7,7))\n",
    "plt.title('PLGA-PEG in DMSO N = 16', fontsize=18)\n",
    "plt.bar(x_pos_n16, rouse_n16plgapeg, width,ecolor='black',capsize=5, color='c', label='Rouse')\n",
    "plt.bar(x_pos_n16+width, zimm_n16plgapeg, width,ecolor='black',capsize=5, color='m', label='Zimm')\n",
    "plt.xticks(x_pos_n16+width,labels=aa_eigen_n16, fontsize=12)\n",
    "plt.legend(fontsize=12 ,frameon=False)\n",
    "plt.ylabel(r'Rouse and Zimm eigenvalues', fontsize=15)"
   ]
  },
  {
   "cell_type": "code",
   "execution_count": null,
   "metadata": {},
   "outputs": [],
   "source": [
    "plt.figure(figsize=(8,8))\n",
    "plt.rcParams[\"font.family\"] = \"Arial\"\n",
    "plt.scatter(xdata_plgapegn6dmso, ydata_plgapegn6dmso, color='teal', s=s_n6)\n",
    "plt.scatter(xdata_plgapegn8dmso, ydata_plgapegn8dmso, color='dodgerblue', s=s_n8)\n",
    "plt.scatter(xdata_plgapegn10dmso, ydata_plgapegn10dmso, color='darkmagenta', s=s_n10)\n",
    "plt.scatter(xdata_plgapegn16dmso, ydata_plgapegn16dmso, color='maroon', s=s_n16)\n",
    "plt.plot(xdata_plgapegn6dmso, tdmso_n6plgapeg, color='teal')\n",
    "plt.plot(xdata_plgapegn8dmso, tdmso_n8plgapeg, color='dodgerblue')\n",
    "plt.plot(xdata_plgapegn10dmso, tdmso_n10plgapeg, color='darkmagenta')\n",
    "plt.plot(xdata_plgapegn16dmso, tdmso_n16plgapeg, color='maroon')\n",
    "plt.title(r'Positional bead autocorrelation PLGA-PEG in DMSO', fontsize=18, y=1.03)\n",
    "plt.xlabel(r'Time lag [ns]', fontsize=18)\n",
    "plt.ylabel('C(t)', fontsize=18)\n",
    "#plt.legend(fontsize=14, frameon=False)\n",
    "plt.xticks(fontsize=18)\n",
    "plt.yticks(fontsize=18)\n",
    "#plt.yscale('symlog', linthreshy=0.5)\n",
    "plt.xscale('symlog')\n",
    "plt.grid(b=True)\n",
    "plt.xlim(0,300)\n",
    "plt.ylim(-1,1)\n",
    "plt.tick_params(labelsize=18, direction='in', which='both', width=1, length=10)"
   ]
  },
  {
   "cell_type": "code",
   "execution_count": null,
   "metadata": {},
   "outputs": [],
   "source": [
    "rppdmso_msen16 = np.array([ydata_plgapegn16dmso - np.array(tdmso_n16plgapeg)])\n",
    "#rppdmso_msen16"
   ]
  },
  {
   "cell_type": "code",
   "execution_count": null,
   "metadata": {},
   "outputs": [],
   "source": [
    "plt.figure(figsize=(8,8))\n",
    "plt.rcParams[\"font.family\"] = \"Arial\"\n",
    "plt.scatter(xdata_plgapegn6dmso, rppdmso_msen6, color='teal', s=s_n6)\n",
    "plt.scatter(xdata_plgapegn8dmso, rppdmso_msen8, color='dodgerblue', s=s_n8)\n",
    "plt.scatter(xdata_plgapegn10dmso, rppdmso_msen10, color='darkmagenta', s=s_n10)\n",
    "plt.scatter(xdata_plgapegn16dmso, rppdmso_msen16, color='maroon', s=s_n16)\n",
    "plt.title(r'Relaxation time Fitting Residuals PLGA in DMSO', fontsize=18, y=1.01)\n",
    "plt.xlabel(r'Time lag [ns]', fontsize=18)\n",
    "plt.ylabel('Residuals', fontsize=18)\n",
    "plt.xticks(fontsize=14)\n",
    "plt.yticks(fontsize=14)\n",
    "plt.xlim([0,150])\n",
    "plt.ylim([-0.7,1])\n",
    "plt.tick_params(labelsize=15)"
   ]
  },
  {
   "cell_type": "markdown",
   "metadata": {},
   "source": [
    "#### Radius of Gyration vs. time N = 16 PLGA-PEG in DMSO"
   ]
  },
  {
   "cell_type": "code",
   "execution_count": null,
   "metadata": {},
   "outputs": [],
   "source": [
    "# Key variables \n",
    "n16_mon = 16 \n",
    "start = 0\n",
    "end = 36001"
   ]
  },
  {
   "cell_type": "code",
   "execution_count": null,
   "metadata": {},
   "outputs": [],
   "source": [
    "n16plgapeg_rgens_dmso, cor_n16plgapeg_dmso, n16plgapeg_cos_dmso, rgdmso_n16plgapeg = get_rg_pers_poly(plgapeg_n16dmso\n",
    "                                                                                                      , n16_plgapeg_dmso,start,end)"
   ]
  },
  {
   "cell_type": "code",
   "execution_count": null,
   "metadata": {},
   "outputs": [],
   "source": [
    "n16plgapeg_rgens_dmso[0].shape"
   ]
  },
  {
   "cell_type": "code",
   "execution_count": null,
   "metadata": {},
   "outputs": [],
   "source": [
    "cor_n16plgapeg_dmso[3]"
   ]
  },
  {
   "cell_type": "code",
   "execution_count": null,
   "metadata": {},
   "outputs": [],
   "source": [
    "n16plgapeg_cos_dmso"
   ]
  },
  {
   "cell_type": "code",
   "execution_count": null,
   "metadata": {},
   "outputs": [],
   "source": [
    "rgdmso_n16plgapeg"
   ]
  },
  {
   "cell_type": "code",
   "execution_count": null,
   "metadata": {},
   "outputs": [],
   "source": [
    "n16plgapeg_rgens_dmso.shape"
   ]
  },
  {
   "cell_type": "code",
   "execution_count": null,
   "metadata": {},
   "outputs": [],
   "source": [
    "trj_len = np.arange(36001)\n",
    "plt.figure(figsize=(7,7))\n",
    "plt.title(r'PLGA-PEG Radius of Gyration', fontsize=18, y=1.01)\n",
    "plt.xlabel(r'Time [ns]', fontsize=15)\n",
    "plt.ylabel(r'$R_{g}$ [nm]', fontsize=15)\n",
    "plt.plot(trj_len/100, n6plgapeg_rgens_dmso[0]/10,linewidth=2, color='teal')\n",
    "plt.plot(trj_len/100, n8plgapeg_rgens_dmso[0]/10,linewidth=2, color='dodgerblue')\n",
    "plt.plot(trj_len/100, n10plgapeg_rgens_dmso[0]/10,linewidth=2, color='darkmagenta')\n",
    "plt.plot(trj_len/100, n16plgapeg_rgens_dmso[0]/10,linewidth=2, color='maroon')\n",
    "plt.tick_params(labelsize=14)\n",
    "plt.legend(['N = 6 in DMSO', 'N = 8 in DMSO','N = 10 in DMSO','N = 16 in DMSO'], frameon=False, fontsize=14)\n",
    "#plt.text(127, 0.96,r'N = 6 in DMSO', fontsize=18, color='#1F2E69', family='Arial')\n",
    "plt.xlim(0,360)\n",
    "plt.ylim(0.2,7)"
   ]
  },
  {
   "cell_type": "markdown",
   "metadata": {},
   "source": [
    "#### Rg Autocorrelation"
   ]
  },
  {
   "cell_type": "code",
   "execution_count": null,
   "metadata": {},
   "outputs": [],
   "source": [
    "ACn16plgapegdmso_Rg, eqvarRg_n16plgapegdmso = obs_autocorr_RA(n16plgapeg_rgens_dmso[0],t_corr, window_shift,start,end)"
   ]
  },
  {
   "cell_type": "code",
   "execution_count": null,
   "metadata": {},
   "outputs": [],
   "source": [
    "ACn16plgapegdmso_Rg"
   ]
  },
  {
   "cell_type": "code",
   "execution_count": null,
   "metadata": {},
   "outputs": [],
   "source": [
    "eqvarRg_n16plgapegdmso"
   ]
  },
  {
   "cell_type": "code",
   "execution_count": null,
   "metadata": {},
   "outputs": [],
   "source": [
    "plt.figure(figsize=(7,7))\n",
    "plt.title(r'PLGA-PEG in DMSO autocorrelation', fontsize=18, y=1.01)\n",
    "plt.xlabel(r'Time [ns]', fontsize=15)\n",
    "plt.ylabel(r'$C_{A}(t)$', fontsize=15)\n",
    "plt.plot(ACn6plgapegdmso_Rg[1]/100, ACn6plgapegdmso_Rg[0],linewidth=2, color='#1F2E69')\n",
    "plt.plot(ACn8plgapegdmso_Rg[1]/100, ACn8plgapegdmso_Rg[0],linewidth=2, color='#4C80ED')\n",
    "plt.plot(ACn10plgapegdmso_Rg[1]/100, ACn10plgapegdmso_Rg[0],linewidth=2, color='#8C52FC')\n",
    "plt.plot(ACn16plgapegdmso_Rg[1]/100, ACn16plgapegdmso_Rg[0],linewidth=2, color='purple')\n",
    "plt.tick_params(labelsize=14)\n",
    "plt.legend(['N = 6 Rg','N = 8 Rg','N = 10 Rg','N = 16 Rg'], frameon=False, fontsize=14)\n",
    "#plt.yscale('symlog', linthreshy=0.5)\n",
    "#plt.xscale('symlog')\n",
    "plt.xlim(0,50)\n",
    "plt.ylim(-2,1)"
   ]
  },
  {
   "cell_type": "markdown",
   "metadata": {},
   "source": [
    "#### Get average COM distance, arch length values"
   ]
  },
  {
   "cell_type": "code",
   "execution_count": null,
   "metadata": {},
   "outputs": [],
   "source": [
    "cb_n16plga = np.zeros(shape=(36001))\n",
    "cb_n16pplinker = np.zeros(shape=(36001))\n",
    "cb_n16peg = np.zeros(shape=(36001))\n",
    "count = 0\n",
    "for ts in n16_plgapeg_dmso.trajectory[0:36001]:\n",
    "    # 1st two PLGA residues\n",
    "    n16m1_plga = n16_plgapeg_dmso.select_atoms(\"resid 1\")\n",
    "    n16m2_plga = n16_plgapeg_dmso.select_atoms(\"resid 2\")\n",
    "    # PLGA-PEG linker (n_mon/2 to get to bPLG res no.)\n",
    "    n16pl_link = n16_plgapeg_dmso.select_atoms(\"resid 8\")\n",
    "    n16peg_link = n16_plgapeg_dmso.select_atoms(\"resid 9\")\n",
    "    # last two PEG residues \n",
    "    n16l1_plgapeg = n16_plgapeg_dmso.select_atoms(\"resid 15\")\n",
    "    n16l2_plgapeg = n16_plgapeg_dmso.select_atoms(\"resid 16\")\n",
    "    \n",
    "    cb_n16plga[count] = mda.analysis.distances.distance_array(n16m1_plga.center_of_mass(), n16m2_plga.center_of_mass(), \n",
    "                                                   box=n16_plgapeg_dmso.trajectory.ts.dimensions)\n",
    "    \n",
    "    cb_n16pplinker[count] = mda.analysis.distances.distance_array(n16pl_link.center_of_mass(), n16peg_link.center_of_mass(), \n",
    "                                                   box=n16_plgapeg_dmso.trajectory.ts.dimensions)\n",
    "    \n",
    "    cb_n16peg[count] = mda.analysis.distances.distance_array(n16l1_plgapeg.center_of_mass(), n16l2_plgapeg.center_of_mass(), \n",
    "                                                   box=n16_plgapeg_dmso.trajectory.ts.dimensions)\n",
    "    \n",
    "    count += 1\n",
    "    \n",
    "\n",
    "    "
   ]
  },
  {
   "cell_type": "code",
   "execution_count": null,
   "metadata": {},
   "outputs": [],
   "source": [
    "COM_ppn16dmso = np.zeros(shape=(3,2))\n",
    "COM_ppn16dmso[0,0] = np.mean(cb_n16plga)\n",
    "COM_ppn16dmso[1,0] = np.mean(cb_n16pplinker)\n",
    "COM_ppn16dmso[2,0] = np.mean(cb_n16peg)\n",
    "COM_ppn16dmso[0,1] = np.std(cb_n16plga)\n",
    "COM_ppn16dmso[1,1] = np.std(cb_n16pplinker)\n",
    "COM_ppn16dmso[2,1] = np.std(cb_n16peg)\n",
    "COM_ppn16dmso"
   ]
  },
  {
   "cell_type": "markdown",
   "metadata": {},
   "source": [
    "#### Correlation values at each arc length for the whole 360 ns trajectory, N = 16 PLGA-PEG/DMSO"
   ]
  },
  {
   "cell_type": "code",
   "execution_count": null,
   "metadata": {},
   "outputs": [],
   "source": [
    "# x values\n",
    "blen_ppn16dmso = np.zeros(shape=15)\n",
    "for i in range(n16_mon-1):\n",
    "    if i < int((n16_mon/2)-1):\n",
    "        # PLGA contour length values\n",
    "        if i == 0:\n",
    "            blen_ppn16dmso[i] = 0\n",
    "        elif i != 0:\n",
    "            blen_ppn16dmso[i] = np.sum(blen_ppn16dmso[i-1]) + COM_ppn16dmso[0,0]    \n",
    "    elif i == int((n16_mon/2)-1):\n",
    "        #PLGA-PEG linker length\n",
    "        blen_ppn16dmso[i] = np.sum(blen_ppn16dmso[i-1]) + COM_ppn16dmso[1,0]\n",
    "    elif i > int((n16_mon/2)-1):\n",
    "    #    # PEG contour length values\n",
    "        blen_ppn16dmso[i] = np.sum(blen_ppn16dmso[i-1]) + COM_ppn16dmso[2,0]\n",
    "        \n",
    "blen_ppn16dmso"
   ]
  },
  {
   "cell_type": "code",
   "execution_count": null,
   "metadata": {},
   "outputs": [],
   "source": [
    "# Error prop. into natural log std deviation\n",
    "mk_n16ppdmso = cor_n16plgapeg_dmso[1]/cor_n16plgapeg_dmso[0]\n",
    "mk_n16ppdmso"
   ]
  },
  {
   "cell_type": "code",
   "execution_count": null,
   "metadata": {},
   "outputs": [],
   "source": [
    "plt.figure(figsize=(7,7))\n",
    "plt.errorbar(blen_ppn16dmso, np.log(cor_n16plgapeg_dmso[0]), yerr=mk_n16ppdmso, color='teal', linestyle=\"None\",marker='o',\n",
    "     capsize=5, capthick=1, ecolor='black')"
   ]
  },
  {
   "cell_type": "code",
   "execution_count": null,
   "metadata": {},
   "outputs": [],
   "source": [
    "# All the points give the best fits for N = 6 peg in DMSO\n",
    "n16_blksplgapeg_dmso , n16plgapeg_lpdmso = bavg_pers_cnt(5, plgapeg_n16dmso, n16_plgapeg_dmso, blen_ppn16dmso, 5, 0 , 36001)"
   ]
  },
  {
   "cell_type": "code",
   "execution_count": null,
   "metadata": {},
   "outputs": [],
   "source": [
    "n16_blksplgapeg_dmso"
   ]
  },
  {
   "cell_type": "code",
   "execution_count": null,
   "metadata": {},
   "outputs": [],
   "source": [
    "n16plgapeg_lpdmso"
   ]
  },
  {
   "cell_type": "code",
   "execution_count": null,
   "metadata": {},
   "outputs": [],
   "source": [
    "n16plgapeg_lpdmso[2]"
   ]
  },
  {
   "cell_type": "code",
   "execution_count": null,
   "metadata": {},
   "outputs": [],
   "source": [
    "np.mean(n16plgapeg_lpdmso[3])"
   ]
  },
  {
   "cell_type": "markdown",
   "metadata": {},
   "source": [
    "#### line fitted to cosine theta values using mean slope"
   ]
  },
  {
   "cell_type": "code",
   "execution_count": null,
   "metadata": {},
   "outputs": [],
   "source": [
    "blen_ppn16dmso"
   ]
  },
  {
   "cell_type": "code",
   "execution_count": null,
   "metadata": {},
   "outputs": [],
   "source": [
    "gg_n16plgapeg_dmso = line_fit(np.mean(n16plgapeg_lpdmso[2]),blen_ppn16dmso)"
   ]
  },
  {
   "cell_type": "code",
   "execution_count": null,
   "metadata": {},
   "outputs": [],
   "source": [
    "gg_n10plgapeg_n16dmso = line_fit(np.mean(n10plgapeg_lpdmso[2]),blen_ppn16dmso)"
   ]
  },
  {
   "cell_type": "code",
   "execution_count": null,
   "metadata": {},
   "outputs": [],
   "source": [
    "gg_n8plgapeg_n16dmso = line_fit(np.mean(n8plgapeg_lpdmso[2]),blen_ppn16dmso)"
   ]
  },
  {
   "cell_type": "code",
   "execution_count": null,
   "metadata": {},
   "outputs": [],
   "source": [
    "gg_n6plgapeg_n16dmso = line_fit(np.mean(n6plgapeg_lpdmso[2]),blen_ppn16dmso)"
   ]
  },
  {
   "cell_type": "code",
   "execution_count": null,
   "metadata": {},
   "outputs": [],
   "source": [
    "gg_n16plgapeg_dmso"
   ]
  },
  {
   "cell_type": "markdown",
   "metadata": {},
   "source": [
    "#### Block averaged Rg, Ree, Rh, mean sq. Ree and mean sq. Rg persistence length, N = 16 PLGA-PEG in DMSO"
   ]
  },
  {
   "cell_type": "code",
   "execution_count": null,
   "metadata": {},
   "outputs": [],
   "source": [
    "blppn16dmso = []\n",
    "for i in range(n16_mon-1):\n",
    "    if i < int((n16_mon/2)-1):\n",
    "        # PLGA contour length values\n",
    "        blppn16dmso.append(COM_ppn16dmso[0,0])    \n",
    "    elif i == int((n16_mon/2)-1):\n",
    "        #PLGA-PEG linker length\n",
    "        blppn16dmso.append(COM_ppn16dmso[1,0]) \n",
    "    elif i > int((n16_mon/2)-1):\n",
    "    #    # PEG contour length values\n",
    "        blppn16dmso.append(COM_ppn16dmso[2,0]) \n",
    "\n",
    "# Contour Length, N = 6 PLGA-PEG in DMSO\n",
    "lc_ppn16dmso = np.sum(blppn16dmso)\n",
    "lc_ppn16dmso"
   ]
  },
  {
   "cell_type": "code",
   "execution_count": null,
   "metadata": {},
   "outputs": [],
   "source": [
    "# Ree^2/Rg^2 array at different contour lengths\n",
    "re2e_rgsq_plgapegdmso[1,3] = lc_ppn16dmso\n",
    "re2e_rgsq_plgapegdmso"
   ]
  },
  {
   "cell_type": "code",
   "execution_count": null,
   "metadata": {},
   "outputs": [],
   "source": [
    "a_ppn16dmso = np.mean(n16_blksplgapeg_dmso['Avg Sq. end to end distance'])"
   ]
  },
  {
   "cell_type": "code",
   "execution_count": null,
   "metadata": {},
   "outputs": [],
   "source": [
    "b_ppn16dmso = np.mean(n16_blksplgapeg_dmso['Avg Sq. radius of gyration'])"
   ]
  },
  {
   "cell_type": "code",
   "execution_count": null,
   "metadata": {},
   "outputs": [],
   "source": [
    "re2e_rgsq_plgapegdmso[0,3] = a_ppn16dmso/b_ppn16dmso\n",
    "re2e_rgsq_plgapegdmso"
   ]
  },
  {
   "cell_type": "code",
   "execution_count": null,
   "metadata": {},
   "outputs": [],
   "source": [
    "# Rg/Rh array at different contour lengths \n",
    "rhy_rg_plgapegdmso[1,3] = lc_ppn16dmso\n",
    "rhy_rg_plgapegdmso"
   ]
  },
  {
   "cell_type": "code",
   "execution_count": null,
   "metadata": {},
   "outputs": [],
   "source": [
    "aa_ppn16dmso = np.mean(n16_blksplgapeg_dmso['Avg Radius of gyration'])"
   ]
  },
  {
   "cell_type": "code",
   "execution_count": null,
   "metadata": {},
   "outputs": [],
   "source": [
    "bb_ppn16dmso = np.mean(n16_blksplgapeg_dmso['Avg Hydrodynamic radius'])"
   ]
  },
  {
   "cell_type": "code",
   "execution_count": null,
   "metadata": {},
   "outputs": [],
   "source": [
    "rhy_rg_plgapegdmso[0,3] = aa_ppn16dmso/bb_ppn16dmso\n",
    "rhy_rg_plgapegdmso"
   ]
  },
  {
   "cell_type": "code",
   "execution_count": null,
   "metadata": {},
   "outputs": [],
   "source": [
    "# pers length/contour length \n",
    "kuhnlpL_plgapegdmso[0,3] = np.mean(n16_blksplgapeg_dmso[\"Avg persistence length\"])/lc_ppn16dmso\n",
    "kuhnlpL_plgapegdmso"
   ]
  },
  {
   "cell_type": "markdown",
   "metadata": {},
   "source": [
    "#### Block averaged Radius of gyration and persistence length, N = 16 PLGA-PEG in DMSO"
   ]
  },
  {
   "cell_type": "code",
   "execution_count": null,
   "metadata": {},
   "outputs": [],
   "source": [
    "np.mean(n16_blksplgapeg_dmso[\"Avg persistence length\"])"
   ]
  },
  {
   "cell_type": "code",
   "execution_count": null,
   "metadata": {},
   "outputs": [],
   "source": [
    "np.std(n16_blksplgapeg_dmso[\"Avg persistence length\"])"
   ]
  },
  {
   "cell_type": "code",
   "execution_count": null,
   "metadata": {},
   "outputs": [],
   "source": [
    "np.mean(n16_blksplgapeg_dmso[\"Avg Radius of gyration\"])"
   ]
  },
  {
   "cell_type": "code",
   "execution_count": null,
   "metadata": {},
   "outputs": [],
   "source": [
    "np.std(n16_blksplgapeg_dmso[\"Avg Radius of gyration\"])"
   ]
  },
  {
   "cell_type": "code",
   "execution_count": null,
   "metadata": {},
   "outputs": [],
   "source": [
    "plt.figure(figsize=(7,7))\n",
    "plt.errorbar(blen_ppn6dmso, np.log(cor_n6plgapeg_dmso[0]), yerr=mk_n6ppdmso, color='teal', linestyle=\"None\",marker='o',\n",
    "     capsize=5, capthick=1, ecolor='black')\n",
    "plt.errorbar(blen_ppn8dmso, np.log(cor_n8plgapeg_dmso[0]), yerr=mk_n8ppdmso, color='dodgerblue', linestyle=\"None\",marker='o',\n",
    "     capsize=5, capthick=1, ecolor='black')\n",
    "plt.errorbar(blen_ppn10dmso, np.log(cor_n10plgapeg_dmso[0]), yerr=mk_n10ppdmso, color='darkmagenta', linestyle=\"None\",marker='o',\n",
    "     capsize=5, capthick=1, ecolor='black')\n",
    "plt.errorbar(blen_ppn16dmso, np.log(cor_n16plgapeg_dmso[0]), yerr=mk_n16ppdmso, color='maroon', linestyle=\"None\",marker='o',\n",
    "     capsize=5, capthick=1, ecolor='black')\n",
    "plt.plot(blen_ppn16dmso, gg_n6plgapeg_n16dmso, color='teal')\n",
    "plt.plot(blen_ppn16dmso, gg_n8plgapeg_n16dmso, color='dodgerblue')\n",
    "plt.plot(blen_ppn16dmso, gg_n10plgapeg_n16dmso, color='darkmagenta')\n",
    "plt.plot(blen_ppn16dmso, gg_n16plgapeg_dmso, color='maroon')\n",
    "plt.title(r'Ensemble Averaged ln(Cosine $\\theta$) PLGA-PEG in DMSO', fontsize=15, y=1.01)\n",
    "plt.xlabel(r'Bond Length', fontsize=15)\n",
    "plt.ylabel(r'ln$\\left< Cos(\\theta)\\right >$', fontsize=15)\n",
    "plt.ylim(-6,1)\n",
    "plt.xlim(0,70)\n",
    "#plt.ylim(-1.9,0)\n",
    "font = font_manager.FontProperties(family='Arial', style='normal', size='14')\n",
    "#plt.legend([r'$N_{PEG}$ = 6: $L_{p}$ = 18.8 $\\AA$ ± 3.60 $\\AA$'], loc=3, frameon=0, fontsize=14, prop=font)\n",
    "plt.tick_params(labelsize=14)\n",
    "plt.text(0.5, -5.9,r'$N_{PLGA-PEG}$ = 6: $L_{p}$ = 36.2 $\\AA$ ± 3.33 $\\AA$', fontsize=15, color='teal')\n",
    "plt.text(0.5, -5.58,r'$N_{PLGA-PEG}$ = 8: $L_{p}$ = 33.7 $\\AA$ ± 2.04 $\\AA$', fontsize=15, color='dodgerblue')\n",
    "plt.text(0.5, -5.23,r'$N_{PLGA-PEG}$ = 10: $L_{p}$ = 35.3 $\\AA$ ± 0.95 $\\AA$', fontsize=15, color='darkmagenta')\n",
    "plt.text(0.5, -4.90,r'$N_{PLGA-PEG}$ = 16: $L_{p}$ = 35.3 $\\AA$ ± 3.17 $\\AA$', fontsize=15, color='maroon')"
   ]
  },
  {
   "cell_type": "code",
   "execution_count": null,
   "metadata": {},
   "outputs": [],
   "source": [
    "rgplgapeg_olig_dmso[r\"$R_{g}$ [Angstrom] N = 16 PLGA-PEG DMSO\"] = n16_blksplgapeg_dmso[\"Avg Radius of gyration\"]\n",
    "rgplgapeg_olig_dmso"
   ]
  },
  {
   "cell_type": "code",
   "execution_count": null,
   "metadata": {},
   "outputs": [],
   "source": [
    "pers_plgapegt_dmso[r\"$L_{p}$ [Angstrom] N = 16 PLGA-PEG DMSO\"] = n16_blksplgapeg_dmso[\"Avg persistence length\"]\n",
    "pers_plgapegt_dmso"
   ]
  },
  {
   "cell_type": "code",
   "execution_count": null,
   "metadata": {},
   "outputs": [],
   "source": []
  },
  {
   "cell_type": "code",
   "execution_count": null,
   "metadata": {},
   "outputs": [],
   "source": []
  },
  {
   "cell_type": "code",
   "execution_count": null,
   "metadata": {},
   "outputs": [],
   "source": []
  },
  {
   "cell_type": "code",
   "execution_count": null,
   "metadata": {},
   "outputs": [],
   "source": []
  },
  {
   "cell_type": "markdown",
   "metadata": {},
   "source": [
    "### N = 20 PLGA-PEG/DMSO "
   ]
  },
  {
   "cell_type": "code",
   "execution_count": null,
   "metadata": {},
   "outputs": [],
   "source": [
    "# For the right Rg calculation using MD Analysis, use trajactory without pbc \n",
    "n20_plgapeg_dmso = mda.Universe(\"n20plga_plgapeg_dmso/n20plgapeg_DMSO.pdb\", \"n20plga_plgapeg_dmso/NoDMSO_n20plgapeg.xtc\")"
   ]
  },
  {
   "cell_type": "code",
   "execution_count": null,
   "metadata": {},
   "outputs": [],
   "source": [
    "n20_plgapeg_dmso.trajectory"
   ]
  },
  {
   "cell_type": "code",
   "execution_count": null,
   "metadata": {},
   "outputs": [],
   "source": [
    "len(n20_plgapeg_dmso.trajectory)"
   ]
  },
  {
   "cell_type": "code",
   "execution_count": null,
   "metadata": {},
   "outputs": [],
   "source": [
    "#Select the polymer heavy atoms \n",
    "plgapeg_n20dmso = n20_plgapeg_dmso.select_atoms(\"resname sPLG PLG bPLG bPEG PEG sPEG and not type H\")"
   ]
  },
  {
   "cell_type": "code",
   "execution_count": null,
   "metadata": {},
   "outputs": [],
   "source": [
    "np.unique(plgapeg_n20dmso.resids)"
   ]
  },
  {
   "cell_type": "code",
   "execution_count": null,
   "metadata": {},
   "outputs": [],
   "source": [
    "# Get cosine theta values at frame 0 \n",
    "crv_n20plgapeg_dmso = pers_length(plgapeg_n20dmso,20)\n",
    "crv_n20plgapeg_dmso"
   ]
  },
  {
   "cell_type": "markdown",
   "metadata": {},
   "source": [
    "#### Orientation Order parameter vs. time "
   ]
  },
  {
   "cell_type": "code",
   "execution_count": null,
   "metadata": {},
   "outputs": [],
   "source": [
    "n20_mon = 20\n",
    "start = 0\n",
    "end = 36001"
   ]
  },
  {
   "cell_type": "code",
   "execution_count": null,
   "metadata": {},
   "outputs": [],
   "source": [
    "OOp_n20plgapeg_dmso = orientation_order_param(plgapeg_n20dmso, n20_plgapeg_dmso, n20_mon, start, end)"
   ]
  },
  {
   "cell_type": "code",
   "execution_count": null,
   "metadata": {},
   "outputs": [],
   "source": [
    "OOp_n20plgapeg_dmso.shape"
   ]
  },
  {
   "cell_type": "code",
   "execution_count": null,
   "metadata": {},
   "outputs": [],
   "source": [
    "trj_len = np.arange(36001)\n",
    "plt.figure(figsize=(7,7))\n",
    "plt.title(r'PLGA-PEG Orientation Order Parameter', fontsize=18, y=1.01)\n",
    "plt.xlabel(r'Time [ns]', fontsize=15)\n",
    "plt.ylabel(r'Z', fontsize=15)\n",
    "plt.plot(trj_len/100, OOp_n6plgapeg_dmso,linewidth=2, color='teal')\n",
    "plt.plot(trj_len/100, OOp_n8plgapeg_dmso,linewidth=2, color='dodgerblue')\n",
    "plt.plot(trj_len/100, OOp_n10plgapeg_dmso,linewidth=2, color='darkmagenta')\n",
    "plt.plot(trj_len/100, OOp_n16plgapeg_dmso,linewidth=2, color='maroon')\n",
    "plt.plot(trj_len/100, OOp_n20plgapeg_dmso,linewidth=2, color='orangered')\n",
    "plt.tick_params(labelsize=14)\n",
    "plt.legend(['N = 6 in DMSO', 'N = 8 in DMSO','N = 10 in DMSO','N = 16 in DMSO','N = 20 in DMSO'], frameon=False, fontsize=14)\n",
    "#plt.text(127, 0.96,r'N = 6 in DMSO', fontsize=18, color='#1F2E69', family='Arial')\n",
    "plt.xlim(0,360)\n",
    "plt.ylim(-1,1)"
   ]
  },
  {
   "cell_type": "markdown",
   "metadata": {},
   "source": [
    "#### Mean Orientation Order Parameter for N = 20 PLGA-PEG in DMSO"
   ]
  },
  {
   "cell_type": "code",
   "execution_count": null,
   "metadata": {},
   "outputs": [],
   "source": [
    "OOp_n20plgapeg_dmso[82]"
   ]
  },
  {
   "cell_type": "code",
   "execution_count": null,
   "metadata": {},
   "outputs": [],
   "source": [
    "OOp_n20plgapeg_dmso[239]"
   ]
  },
  {
   "cell_type": "code",
   "execution_count": null,
   "metadata": {},
   "outputs": [],
   "source": [
    "np.mean(OOp_n20plgapeg_dmso)"
   ]
  },
  {
   "cell_type": "code",
   "execution_count": null,
   "metadata": {},
   "outputs": [],
   "source": [
    "np.std(OOp_n20plgapeg_dmso)"
   ]
  },
  {
   "cell_type": "markdown",
   "metadata": {},
   "source": [
    "#### Mean squared end to end distance "
   ]
  },
  {
   "cell_type": "code",
   "execution_count": null,
   "metadata": {},
   "outputs": [],
   "source": [
    "eVec_n20plgapeg_dmso, e2edis_n20plgapeg_dmso = mean_sq_e2e(plgapeg_n20dmso, n20_plgapeg_dmso, n20_mon, start, end)"
   ]
  },
  {
   "cell_type": "code",
   "execution_count": null,
   "metadata": {},
   "outputs": [],
   "source": [
    "trj_len = np.arange(36001)\n",
    "plt.figure(figsize=(7,7))\n",
    "plt.title(r'PLGA-PEG End to End distance', fontsize=18, y=1.01)\n",
    "plt.xlabel(r'Time [ns]', fontsize=15)\n",
    "plt.ylabel(r'$R_{ee}$ [nm]', fontsize=15)\n",
    "plt.plot(trj_len/100, e2edis_n6plgapeg_dmso[1]/10,linewidth=2, color='teal')\n",
    "plt.plot(trj_len/100, e2edis_n8plgapeg_dmso[1]/10,linewidth=2, color='dodgerblue')\n",
    "plt.plot(trj_len/100, e2edis_n10plgapeg_dmso[1]/10,linewidth=2, color='darkmagenta')\n",
    "plt.plot(trj_len/100, e2edis_n16plgapeg_dmso[1]/10,linewidth=2, color='maroon')\n",
    "plt.plot(trj_len/100, e2edis_n20plgapeg_dmso[1]/10,linewidth=2, color='orangered')\n",
    "plt.tick_params(labelsize=14)\n",
    "plt.legend(['N = 6 in DMSO', 'N = 8 in DMSO','N = 10 in DMSO','N = 16 in DMSO','N = 20 in DMSO'], frameon=False, fontsize=14)\n",
    "#plt.text(127, 0.96,r'N = 6 in DMSO', fontsize=18, color='#1F2E69', family='Arial')\n",
    "plt.xlim(0,360)\n",
    "plt.ylim(0,4)"
   ]
  },
  {
   "cell_type": "markdown",
   "metadata": {},
   "source": [
    "#### Ree Autocorrelation function"
   ]
  },
  {
   "cell_type": "code",
   "execution_count": null,
   "metadata": {},
   "outputs": [],
   "source": [
    "e2edis_n20plgapeg_dmso[1]"
   ]
  },
  {
   "cell_type": "code",
   "execution_count": null,
   "metadata": {},
   "outputs": [],
   "source": [
    "t_corr = 4000\n",
    "window_shift = 6"
   ]
  },
  {
   "cell_type": "code",
   "execution_count": null,
   "metadata": {},
   "outputs": [],
   "source": [
    "ACn20plgapegdmso_Ree, eqvar_n120pegdmso = obs_autocorr_RA(e2edis_n20plgapeg_dmso[1],t_corr, window_shift,start,end)"
   ]
  },
  {
   "cell_type": "code",
   "execution_count": null,
   "metadata": {},
   "outputs": [],
   "source": [
    "ACn20plgapegdmso_Ree"
   ]
  },
  {
   "cell_type": "code",
   "execution_count": null,
   "metadata": {},
   "outputs": [],
   "source": [
    "eqvar_n16plgapegdmso"
   ]
  },
  {
   "cell_type": "code",
   "execution_count": null,
   "metadata": {},
   "outputs": [],
   "source": [
    "ACn20plgapegdmso_sqRee, evsqRee_n20plgapegdmso = obs_autocorr_RA(e2edis_n20plgapeg_dmso[0],t_corr, window_shift,start,end)"
   ]
  },
  {
   "cell_type": "code",
   "execution_count": null,
   "metadata": {},
   "outputs": [],
   "source": [
    "np.sqrt(evsqRee_n20plgapegdmso)"
   ]
  },
  {
   "cell_type": "code",
   "execution_count": null,
   "metadata": {},
   "outputs": [],
   "source": [
    "plt.figure(figsize=(7,7))\n",
    "plt.title(r'PEG Ree autocorrelation', fontsize=18, y=1.01)\n",
    "plt.xlabel(r'Time [ns]', fontsize=15)\n",
    "plt.ylabel(r'$C_{A}(t)$', fontsize=15)\n",
    "plt.plot(ACn6plgapegdmso_Ree[1]/100, ACn6plgapegdmso_Ree[0],linewidth=2, color='#1F2E69')\n",
    "plt.plot(ACn8plgapegdmso_Ree[1]/100, ACn8plgapegdmso_Ree[0],linewidth=2, color='#4C80ED')\n",
    "plt.plot(ACn10plgapegdmso_Ree[1]/100, ACn10plgapegdmso_Ree[0],linewidth=2, color='#8C52FC')\n",
    "plt.plot(ACn16plgapegdmso_Ree[1]/100, ACn16plgapegdmso_Ree[0],linewidth=2, color='purple')\n",
    "plt.plot(ACn20plgapegdmso_Ree[1]/100, ACn20plgapegdmso_Ree[0],linewidth=2, color='#8B7F47')\n",
    "plt.tick_params(labelsize=14)\n",
    "plt.legend(['N = 6 Ree','N = 8 Ree','N = 10 Ree','N = 15 Ree','N = 20 Ree'], frameon=False, fontsize=14)\n",
    "#plt.yscale('symlog', linthreshy=0.5)\n",
    "#plt.xscale('symlog')\n",
    "plt.xlim(0,50)\n",
    "plt.ylim(-1,1)"
   ]
  },
  {
   "cell_type": "markdown",
   "metadata": {},
   "source": [
    "### Hydrodynamic Radius vs time"
   ]
  },
  {
   "cell_type": "code",
   "execution_count": null,
   "metadata": {},
   "outputs": [],
   "source": [
    "plgapegn20dmso_rh = hydro_rad_poly(plgapeg_n20dmso, n20_plgapeg_dmso, n20_mon, start, end)"
   ]
  },
  {
   "cell_type": "code",
   "execution_count": null,
   "metadata": {},
   "outputs": [],
   "source": [
    "trj_len = np.arange(36001)\n",
    "plt.figure(figsize=(7,7))\n",
    "plt.title(r'PLGA-PEG Hydrodynamic Radius', fontsize=18, y=1.01)\n",
    "plt.xlabel(r'Time [ns]', fontsize=15)\n",
    "plt.ylabel(r'$R_{hyd}$ [nm]', fontsize=15)\n",
    "plt.plot(trj_len/100, plgapegn6dmso_rh/10,linewidth=2, color='teal')\n",
    "plt.plot(trj_len/100, plgapegn8dmso_rh/10,linewidth=2, color='dodgerblue')\n",
    "plt.plot(trj_len/100, plgapegn10dmso_rh/10,linewidth=2, color='darkmagenta')\n",
    "plt.plot(trj_len/100, plgapegn16dmso_rh/10,linewidth=2, color='maroon')\n",
    "plt.plot(trj_len/100, plgapegn20dmso_rh/10,linewidth=2, color='orangered')\n",
    "plt.tick_params(labelsize=14)\n",
    "plt.legend(['N = 6 in DMSO', 'N = 8 in DMSO','N = 10 in DMSO','N = 16 in DMSO','N = 20 in DMSO'], frameon=False, fontsize=14)\n",
    "#plt.text(127, 0.96,r'N = 6 in DMSO', fontsize=18, color='#1F2E69', family='Arial')\n",
    "plt.xlim(0,360)\n",
    "plt.ylim(0,6)"
   ]
  },
  {
   "cell_type": "markdown",
   "metadata": {},
   "source": [
    "#### Rh autocorrelation"
   ]
  },
  {
   "cell_type": "code",
   "execution_count": null,
   "metadata": {},
   "outputs": [],
   "source": [
    "ACn20plgapegdmsoRh, eqvarRh_n20plgapegdmso = obs_autocorr_RA(plgapegn20dmso_rh,t_corr, window_shift,start,end)"
   ]
  },
  {
   "cell_type": "code",
   "execution_count": null,
   "metadata": {},
   "outputs": [],
   "source": [
    "ACn20plgapegdmsoRh"
   ]
  },
  {
   "cell_type": "code",
   "execution_count": null,
   "metadata": {},
   "outputs": [],
   "source": [
    "eqvarRh_n20plgapegdmso"
   ]
  },
  {
   "cell_type": "code",
   "execution_count": null,
   "metadata": {},
   "outputs": [],
   "source": [
    "plt.figure(figsize=(7,7))\n",
    "plt.title(r'PLGA-PEG Rh autocorrelation', fontsize=18, y=1.01)\n",
    "plt.xlabel(r'Time [ns]', fontsize=15)\n",
    "plt.ylabel(r'$C_{Rh}(t)$', fontsize=15)\n",
    "plt.plot(ACn6plgapegdmsoRh[1]/100, ACn6plgapegdmsoRh[0],linewidth=2, color='#1F2E69')\n",
    "plt.plot(ACn8plgapegdmsoRh[1]/100, ACn8plgapegdmsoRh[0],linewidth=2, color='#4C80ED')\n",
    "plt.plot(ACn10plgapegdmsoRh[1]/100, ACn10plgapegdmsoRh[0],linewidth=2, color='#8C52FC')\n",
    "plt.plot(ACn16plgapegdmsoRh[1]/100, ACn16plgapegdmsoRh[0],linewidth=2, color='purple')\n",
    "plt.plot(ACn20plgapegdmsoRh[1]/100, ACn20plgapegdmsoRh[0],linewidth=2, color='#8B7F47')\n",
    "plt.tick_params(labelsize=14)\n",
    "plt.legend(['N = 6 in DMSO','N = 8 in DMSO','N = 10 in DMSO','N = 15 in DMSO','N = 20 in DMSO'], frameon=False, fontsize=14)\n",
    "plt.xlim(0,50)\n",
    "#plt.ylim(-2,1.5)"
   ]
  },
  {
   "cell_type": "markdown",
   "metadata": {},
   "source": [
    "### Relaxation times vs monomer length "
   ]
  },
  {
   "cell_type": "code",
   "execution_count": null,
   "metadata": {},
   "outputs": [],
   "source": [
    "# Key variables \n",
    "# def pos_bead_autocorr_RA(polymer_atoms, universe, n_monomers, t_corr,  start, end):\n",
    "n20_mon = 20 \n",
    "start = 0\n",
    "end = 36001\n",
    "t_corr = 2000\n",
    "window_shift = 20"
   ]
  },
  {
   "cell_type": "code",
   "execution_count": null,
   "metadata": {},
   "outputs": [],
   "source": [
    "s_time = timeit.default_timer()\n",
    "tcRA_plgapegn20dmso, tcSUM_plgapegn20dmso = pos_bead_autocorr_RA(plgapeg_n20dmso, n20_plgapeg_dmso, n20_mon, t_corr, window_shift\n",
    "                                                                 , start, end)\n",
    "timeit.default_timer() - s_time"
   ]
  },
  {
   "cell_type": "code",
   "execution_count": null,
   "metadata": {},
   "outputs": [],
   "source": [
    "tcRA_plgapegn20dmso"
   ]
  },
  {
   "cell_type": "code",
   "execution_count": null,
   "metadata": {},
   "outputs": [],
   "source": [
    "tcSUM_plgapegn20dmso.shape"
   ]
  },
  {
   "cell_type": "markdown",
   "metadata": {},
   "source": [
    "### Fitting autocorrelation data "
   ]
  },
  {
   "cell_type": "code",
   "execution_count": null,
   "metadata": {},
   "outputs": [],
   "source": [
    "xdata_plgapegn20dmso = tcRA_plgapegn20dmso[1]/100\n",
    "ydata_plgapegn20dmso = tcRA_plgapegn20dmso[0]"
   ]
  },
  {
   "cell_type": "code",
   "execution_count": null,
   "metadata": {},
   "outputs": [],
   "source": [
    "ydata_plgapegn20dmso.shape"
   ]
  },
  {
   "cell_type": "code",
   "execution_count": null,
   "metadata": {},
   "outputs": [],
   "source": [
    "xdata_plgapegn20dmso.shape"
   ]
  },
  {
   "cell_type": "code",
   "execution_count": null,
   "metadata": {},
   "outputs": [],
   "source": [
    "plt.figure(figsize=(8,8))\n",
    "plt.rcParams[\"font.family\"] = \"Arial\"\n",
    "plt.scatter(xdata_plgapegn6dmso, ydata_plgapegn6dmso, color='teal', s=s_n6)\n",
    "plt.scatter(xdata_plgapegn8dmso, ydata_plgapegn8dmso, color='dodgerblue', s=s_n8)\n",
    "plt.scatter(xdata_plgapegn10dmso, ydata_plgapegn10dmso, color='darkmagenta', s=s_n10)\n",
    "plt.scatter(xdata_plgapegn16dmso, ydata_plgapegn16dmso, color='maroon', s=s_n16)\n",
    "plt.scatter(xdata_plgapegn20dmso, ydata_plgapegn20dmso, color='orangered', s=s_n20)\n",
    "plt.title(r'Positional bead autocorrelation PLGA-PEG in DMSO', fontsize=18, y=1.03)\n",
    "plt.xlabel(r'Time lag [ns]', fontsize=18)\n",
    "plt.ylabel('C(t)', fontsize=18)\n",
    "#plt.legend(fontsize=14, frameon=False)\n",
    "plt.xticks(fontsize=18)\n",
    "plt.yticks(fontsize=18)\n",
    "#plt.yscale('symlog', linthreshy=0.5)\n",
    "plt.xscale('symlog')\n",
    "plt.grid(b=True)\n",
    "plt.xlim(0,300)\n",
    "plt.ylim(-1,1)\n",
    "plt.tick_params(labelsize=18, direction='in', which='both', width=1, length=10)"
   ]
  },
  {
   "cell_type": "code",
   "execution_count": null,
   "metadata": {},
   "outputs": [],
   "source": [
    "ts = 1\n",
    "hs = 0.1\n",
    "n20_mon = 20\n",
    "n_b = n20_mon - 1\n",
    "tr1 = 2\n",
    "zimm_relax_fit(ts,tr1,hs,n_b)"
   ]
  },
  {
   "cell_type": "code",
   "execution_count": null,
   "metadata": {},
   "outputs": [],
   "source": [
    "zimm_relax_func(ts,tr1,hs,n_b)"
   ]
  },
  {
   "cell_type": "code",
   "execution_count": null,
   "metadata": {},
   "outputs": [],
   "source": [
    "def res_plgapegn20dmso(variabls, xnp, ynp):\n",
    "    #hs_np = variabls['h_star']\n",
    "    hs_np = 0.26\n",
    "    tr1_np = variabls['t_first']\n",
    "    n_bonds = 19\n",
    "    testnp = []\n",
    "    for i in range(len(xnp)):\n",
    "        model_ynp = zimm_relax_fit(xnp[i], tr1_np, hs_np, n_bonds)\n",
    "        #model_ynp = rouse_relax(xnp[i], tr1_np, n_m)\n",
    "        testnp.append(ynp[i] - model_ynp)\n",
    "    \n",
    "    tt_n6 = np.array(testnp)\n",
    "\n",
    "    return tt_n6\n",
    "    \n",
    "#x1 = np.array([0,0])\n",
    "#pfit, pcov, infodict, errmsg, success = leastsq(res_poly, x1, args=(xdata, ydata), full_output=1)"
   ]
  },
  {
   "cell_type": "code",
   "execution_count": null,
   "metadata": {},
   "outputs": [],
   "source": [
    "ppfit_n20dmso = Parameters()\n",
    "#ppfit_n20dmso.add(name='h_star', value=0, min=0, max=0.26, vary=True)\n",
    "ppfit_n20dmso.add(name='t_first', value=2)"
   ]
  },
  {
   "cell_type": "code",
   "execution_count": null,
   "metadata": {},
   "outputs": [],
   "source": [
    "mini_ppn20dmso = Minimizer(res_plgapegn20dmso, ppfit_n20dmso, fcn_args=(xdata_plgapegn20dmso, ydata_plgapegn20dmso))\n",
    "out_ppn20dmso = mini_ppn20dmso.leastsq()\n",
    "#bfit_n10 = ydata_n10dmso + out_n10dmso.residual "
   ]
  },
  {
   "cell_type": "code",
   "execution_count": null,
   "metadata": {},
   "outputs": [],
   "source": [
    "report_fit(out_ppn20dmso.params)"
   ]
  },
  {
   "cell_type": "code",
   "execution_count": null,
   "metadata": {},
   "outputs": [],
   "source": [
    "out_ppn20dmso.params"
   ]
  },
  {
   "cell_type": "code",
   "execution_count": null,
   "metadata": {},
   "outputs": [],
   "source": [
    "# with h varying, tr = 9.95886003 +/- 0.09664351, h* = 0.25999717 +/- 0.04971985\n",
    "tdmso_n20plgapeg = []\n",
    "n_bonds = 19\n",
    "for i in range(len(xdata_plgapegn20dmso)):\n",
    "    tdmso_n20plgapeg.append(zimm_relax_fit(xdata_plgapegn20dmso[i], 9.98045843, 0.26,  n_bonds))\n"
   ]
  },
  {
   "cell_type": "code",
   "execution_count": null,
   "metadata": {},
   "outputs": [],
   "source": [
    "t_c, tz_n20plgapeg, zimm_n20plgapeg, rouse_n20plgapeg = zimm_relax_func(1, 9.98045843, 0.26,  n_bonds)"
   ]
  },
  {
   "cell_type": "code",
   "execution_count": null,
   "metadata": {},
   "outputs": [],
   "source": [
    "x_pos_n10 = np.arange(9)\n",
    "x_pos_n16 = np.arange(15)\n",
    "x_pos_n20 = np.arange(19)\n",
    "width = 0.25\n",
    "aa_types_n20 = [r\"$\\tau_{1}$\", r\"$\\tau_{2}$\", r\"$\\tau_{3}$\", r\"$\\tau_{4}$\", r\"$\\tau_{5}$\",r\"$\\tau_{6}$\",r\"$\\tau_{7}$\",\n",
    "           r\"$\\tau_{8}$\", r\"$\\tau_{9}$\",r\"$\\tau_{10}$\", r\"$\\tau_{11}$\", r\"$\\tau_{12}$\", r\"$\\tau_{13}$\", r\"$\\tau_{14}$\",\n",
    "            r\"$\\tau_{15}$\",r\"$\\tau_{16}$\",r\"$\\tau_{17}$\", r\"$\\tau_{18}$\", r\"$\\tau_{19}$\"]\n",
    "fig = plt.figure(figsize=(7,7))\n",
    "plt.title('PLGA-PEG in DMSO', fontsize=18, y=1.03)\n",
    "plt.bar(x_pos_n10+(2*width), tz_n10plgapeg, width, ecolor='black',capsize=5, color='darkmagenta', label='N = 10', align='center')\n",
    "plt.bar(x_pos_n16+width, tz_n16plgapeg, width, ecolor='black',capsize=5, color='maroon', label='N = 16')\n",
    "plt.bar(x_pos_n20, tz_n20plgapeg, width, ecolor='black',capsize=5, color='orangered', label='N = 20', align='center')\n",
    "plt.xticks(x_pos_n20, labels=aa_types_n20, fontsize=12)\n",
    "plt.legend(fontsize=12 ,frameon=False)\n",
    "plt.ylabel(r'Relaxation times [ns]', fontsize=15)"
   ]
  },
  {
   "cell_type": "code",
   "execution_count": null,
   "metadata": {},
   "outputs": [],
   "source": [
    "aa_eigen_n20 = [r\"$a_{1}$\", r\"$a_{2}$\", r\"$a_{3}$\", r\"$a_{4}$\", r\"$a_{5}$\",r\"$a_{6}$\",r\"$a_{7}$\",r\"$a_{8}$\",\n",
    "           r\"$a_{9}$\",r\"$a_{10}$\", r\"$a_{11}$\", r\"$a_{12}$\", r\"$a_{13}$\", r\"$a_{14}$\",r\"$a_{15}$\",r\"$a_{16}$\",r\"$a_{17}$\",\n",
    "           r\"$a_{18}$\",r\"$a_{19}$\"]\n",
    "fig = plt.figure(figsize=(7,7))\n",
    "plt.title('PLGA-PEG in DMSO N = 20', fontsize=18)\n",
    "plt.bar(x_pos_n20, rouse_n20plgapeg, width,ecolor='black',capsize=5, color='c', label='Rouse')\n",
    "plt.bar(x_pos_n20+width, zimm_n20plgapeg, width,ecolor='black',capsize=5, color='m', label='Zimm')\n",
    "plt.xticks(x_pos_n20+width,labels=aa_eigen_n20, fontsize=12)\n",
    "plt.legend(fontsize=12 ,frameon=False)\n",
    "plt.ylabel(r'Rouse and Zimm eigenvalues', fontsize=15)"
   ]
  },
  {
   "cell_type": "code",
   "execution_count": null,
   "metadata": {},
   "outputs": [],
   "source": [
    "plt.figure(figsize=(8,8))\n",
    "plt.rcParams[\"font.family\"] = \"Arial\"\n",
    "plt.scatter(xdata_plgapegn6dmso, ydata_plgapegn6dmso, color='teal', s=s_n6)\n",
    "plt.scatter(xdata_plgapegn8dmso, ydata_plgapegn8dmso, color='dodgerblue', s=s_n8)\n",
    "plt.scatter(xdata_plgapegn10dmso, ydata_plgapegn10dmso, color='darkmagenta', s=s_n10)\n",
    "plt.scatter(xdata_plgapegn16dmso, ydata_plgapegn16dmso, color='maroon', s=s_n16)\n",
    "plt.scatter(xdata_plgapegn20dmso, ydata_plgapegn20dmso, color='orangered', s=s_n20)\n",
    "plt.plot(xdata_plgapegn6dmso, tdmso_n6plgapeg, color='teal')\n",
    "plt.plot(xdata_plgapegn8dmso, tdmso_n8plgapeg, color='dodgerblue')\n",
    "plt.plot(xdata_plgapegn10dmso, tdmso_n10plgapeg, color='darkmagenta')\n",
    "plt.plot(xdata_plgapegn16dmso, tdmso_n16plgapeg, color='maroon')\n",
    "plt.plot(xdata_plgapegn20dmso, tdmso_n20plgapeg, color='orangered')\n",
    "plt.title(r'Positional bead autocorrelation PLGA-PEG in DMSO', fontsize=18, y=1.03)\n",
    "plt.xlabel(r'Time lag [ns]', fontsize=18)\n",
    "plt.ylabel('C(t)', fontsize=18)\n",
    "#plt.legend(fontsize=14, frameon=False)\n",
    "plt.xticks(fontsize=18)\n",
    "plt.yticks(fontsize=18)\n",
    "#plt.yscale('symlog', linthreshy=0.5)\n",
    "plt.xscale('symlog')\n",
    "plt.grid(b=True)\n",
    "plt.xlim(0,300)\n",
    "plt.ylim(-1,1)\n",
    "plt.tick_params(labelsize=18, direction='in', which='both', width=1, length=10)"
   ]
  },
  {
   "cell_type": "code",
   "execution_count": null,
   "metadata": {},
   "outputs": [],
   "source": [
    "rppdmso_msen20 = np.array([ydata_plgapegn20dmso - np.array(tdmso_n20plgapeg)])\n",
    "rppdmso_msen20"
   ]
  },
  {
   "cell_type": "code",
   "execution_count": null,
   "metadata": {},
   "outputs": [],
   "source": [
    "plt.figure(figsize=(8,8))\n",
    "plt.rcParams[\"font.family\"] = \"Arial\"\n",
    "plt.scatter(xdata_plgapegn6dmso, rppdmso_msen6, color='teal', s=s_n6)\n",
    "plt.scatter(xdata_plgapegn8dmso, rppdmso_msen8, color='dodgerblue', s=s_n8)\n",
    "plt.scatter(xdata_plgapegn10dmso, rppdmso_msen10, color='darkmagenta', s=s_n10)\n",
    "plt.scatter(xdata_plgapegn16dmso, rppdmso_msen16, color='maroon', s=s_n16)\n",
    "plt.scatter(xdata_plgapegn20dmso, rppdmso_msen20, color='orangered', s=s_n20)\n",
    "plt.title(r'Relaxation time Fitting Residuals PLGA in DMSO', fontsize=18, y=1.01)\n",
    "plt.xlabel(r'Time lag [ns]', fontsize=18)\n",
    "plt.ylabel('Residuals', fontsize=18)\n",
    "plt.xticks(fontsize=14)\n",
    "plt.yticks(fontsize=14)\n",
    "plt.xlim([0,250])\n",
    "plt.ylim([-0.7,1])\n",
    "plt.tick_params(labelsize=15)"
   ]
  },
  {
   "cell_type": "markdown",
   "metadata": {},
   "source": [
    "#### Radius of Gyration vs. time N = 20 PLGA-PEG in DMSO"
   ]
  },
  {
   "cell_type": "code",
   "execution_count": null,
   "metadata": {},
   "outputs": [],
   "source": [
    "# Key variables \n",
    "n20_mon = 20\n",
    "start = 0\n",
    "end = 36001"
   ]
  },
  {
   "cell_type": "code",
   "execution_count": null,
   "metadata": {},
   "outputs": [],
   "source": [
    "n20plgapeg_rgens_dmso, cor_n20plgapeg_dmso, n20plgapeg_cos_dmso, rgdmso_n20plgapeg = get_rg_pers_poly(plgapeg_n20dmso\n",
    "                                                                                                      ,n20_plgapeg_dmso,start,end)"
   ]
  },
  {
   "cell_type": "code",
   "execution_count": null,
   "metadata": {},
   "outputs": [],
   "source": [
    "n20plgapeg_rgens_dmso[0].shape"
   ]
  },
  {
   "cell_type": "code",
   "execution_count": null,
   "metadata": {},
   "outputs": [],
   "source": [
    "cor_n20plgapeg_dmso[3]"
   ]
  },
  {
   "cell_type": "code",
   "execution_count": null,
   "metadata": {},
   "outputs": [],
   "source": [
    "n20plgapeg_cos_dmso"
   ]
  },
  {
   "cell_type": "code",
   "execution_count": null,
   "metadata": {},
   "outputs": [],
   "source": [
    "rgdmso_n20plgapeg"
   ]
  },
  {
   "cell_type": "code",
   "execution_count": null,
   "metadata": {},
   "outputs": [],
   "source": [
    "n20plgapeg_rgens_dmso.shape"
   ]
  },
  {
   "cell_type": "code",
   "execution_count": null,
   "metadata": {},
   "outputs": [],
   "source": [
    "trj_len = np.arange(36001)\n",
    "plt.figure(figsize=(7,7))\n",
    "plt.title(r'PLGA-PEG Radius of Gyration', fontsize=18, y=1.01)\n",
    "plt.xlabel(r'Time [ns]', fontsize=15)\n",
    "plt.ylabel(r'$R_{g}$ [nm]', fontsize=15)\n",
    "plt.plot(trj_len/100, n6plgapeg_rgens_dmso[0]/10,linewidth=2, color='teal')\n",
    "plt.plot(trj_len/100, n8plgapeg_rgens_dmso[0]/10,linewidth=2, color='dodgerblue')\n",
    "plt.plot(trj_len/100, n10plgapeg_rgens_dmso[0]/10,linewidth=2, color='darkmagenta')\n",
    "plt.plot(trj_len/100, n16plgapeg_rgens_dmso[0]/10,linewidth=2, color='maroon')\n",
    "plt.plot(trj_len/100, n20plgapeg_rgens_dmso[0]/10,linewidth=2, color='orangered')\n",
    "plt.tick_params(labelsize=14)\n",
    "plt.legend(['N = 6 in DMSO', 'N = 8 in DMSO','N = 10 in DMSO','N = 16 in DMSO','N = 20 in DMSO'], frameon=False, fontsize=14)\n",
    "#plt.text(127, 0.96,r'N = 6 in DMSO', fontsize=18, color='#1F2E69', family='Arial')\n",
    "plt.xlim(0,360)\n",
    "plt.ylim(0.2,2)"
   ]
  },
  {
   "cell_type": "markdown",
   "metadata": {},
   "source": [
    "#### Rg Autocorrelation"
   ]
  },
  {
   "cell_type": "code",
   "execution_count": null,
   "metadata": {},
   "outputs": [],
   "source": [
    "ACn20plgapegdmso_Rg, eqvarRg_n20plgapegdmso = obs_autocorr_RA(n20plgapeg_rgens_dmso[0],t_corr, window_shift,start,end)"
   ]
  },
  {
   "cell_type": "code",
   "execution_count": null,
   "metadata": {},
   "outputs": [],
   "source": [
    "ACn20plgapegdmso_Rg"
   ]
  },
  {
   "cell_type": "code",
   "execution_count": null,
   "metadata": {},
   "outputs": [],
   "source": [
    "eqvarRg_n20plgapegdmso"
   ]
  },
  {
   "cell_type": "code",
   "execution_count": null,
   "metadata": {},
   "outputs": [],
   "source": [
    "plt.figure(figsize=(7,7))\n",
    "plt.title(r'PEG in DMSO autocorrelation', fontsize=18, y=1.01)\n",
    "plt.xlabel(r'Time [ns]', fontsize=15)\n",
    "plt.ylabel(r'$C_{A}(t)$', fontsize=15)\n",
    "plt.plot(ACn6plgapegdmso_Rg[1]/100, ACn6plgapegdmso_Rg[0],linewidth=2, color='#1F2E69')\n",
    "plt.plot(ACn8plgapegdmso_Rg[1]/100, ACn8plgapegdmso_Rg[0],linewidth=2, color='#4C80ED')\n",
    "plt.plot(ACn10plgapegdmso_Rg[1]/100, ACn10plgapegdmso_Rg[0],linewidth=2, color='#8C52FC')\n",
    "plt.plot(ACn16plgapegdmso_Rg[1]/100, ACn16plgapegdmso_Rg[0],linewidth=2, color='purple')\n",
    "plt.plot(ACn20plgapegdmso_Rg[1]/100, ACn20plgapegdmso_Rg[0],linewidth=2, color='#8B7F47')\n",
    "plt.tick_params(labelsize=14)\n",
    "plt.legend(['N = 6 Rg','N = 8 Rg','N = 10 Rg','N = 15 Rg','N = 20 Rg'], frameon=False, fontsize=14)\n",
    "#plt.yscale('symlog', linthreshy=0.5)\n",
    "#plt.xscale('symlog')\n",
    "plt.xlim(0,50)\n",
    "plt.ylim(-2,1)"
   ]
  },
  {
   "cell_type": "markdown",
   "metadata": {},
   "source": [
    "#### Get average COM distance, arch length values"
   ]
  },
  {
   "cell_type": "code",
   "execution_count": null,
   "metadata": {},
   "outputs": [],
   "source": [
    "cb_n20plga = np.zeros(shape=(36001))\n",
    "cb_n20pplinker = np.zeros(shape=(36001))\n",
    "cb_n20peg = np.zeros(shape=(36001))\n",
    "count = 0\n",
    "for ts in n20_plgapeg_dmso.trajectory[0:36001]:\n",
    "    # 1st two PLGA residues\n",
    "    n20m1_plga = n20_plgapeg_dmso.select_atoms(\"resid 1\")\n",
    "    n20m2_plga = n20_plgapeg_dmso.select_atoms(\"resid 2\")\n",
    "    # PLGA-PEG linker (n_mon/2 to get to bPLG res no.)\n",
    "    n20pl_link = n20_plgapeg_dmso.select_atoms(\"resid 10\")\n",
    "    n20peg_link = n20_plgapeg_dmso.select_atoms(\"resid 11\")\n",
    "    # last two PEG residues \n",
    "    n20l1_plgapeg = n20_plgapeg_dmso.select_atoms(\"resid 19\")\n",
    "    n20l2_plgapeg = n20_plgapeg_dmso.select_atoms(\"resid 20\")\n",
    "    \n",
    "    cb_n20plga[count] = mda.analysis.distances.distance_array(n20m1_plga.center_of_mass(), n20m2_plga.center_of_mass(), \n",
    "                                                   box=n20_plgapeg_dmso.trajectory.ts.dimensions)\n",
    "    \n",
    "    cb_n20pplinker[count] = mda.analysis.distances.distance_array(n20pl_link.center_of_mass(), n20peg_link.center_of_mass(), \n",
    "                                                   box=n20_plgapeg_dmso.trajectory.ts.dimensions)\n",
    "    \n",
    "    cb_n20peg[count] = mda.analysis.distances.distance_array(n20l1_plgapeg.center_of_mass(), n20l2_plgapeg.center_of_mass(), \n",
    "                                                   box=n20_plgapeg_dmso.trajectory.ts.dimensions)\n",
    "    \n",
    "    count += 1\n",
    "    \n",
    "\n",
    "    "
   ]
  },
  {
   "cell_type": "code",
   "execution_count": null,
   "metadata": {},
   "outputs": [],
   "source": [
    "COM_ppn20dmso = np.zeros(shape=(3,2))\n",
    "COM_ppn20dmso[0,0] = np.mean(cb_n20plga)\n",
    "COM_ppn20dmso[1,0] = np.mean(cb_n20pplinker)\n",
    "COM_ppn20dmso[2,0] = np.mean(cb_n20peg)\n",
    "COM_ppn20dmso[0,1] = np.std(cb_n20plga)\n",
    "COM_ppn20dmso[1,1] = np.std(cb_n20pplinker)\n",
    "COM_ppn20dmso[2,1] = np.std(cb_n20peg)\n",
    "COM_ppn20dmso"
   ]
  },
  {
   "cell_type": "markdown",
   "metadata": {},
   "source": [
    "#### Correlation values at each arc length for the whole 360 ns trajectory, N = 20 PLGA-PEG/DMSO"
   ]
  },
  {
   "cell_type": "code",
   "execution_count": null,
   "metadata": {},
   "outputs": [],
   "source": [
    "# x values\n",
    "blen_ppn20dmso = np.zeros(shape=19)\n",
    "for i in range(n20_mon-1):\n",
    "    if i < int((n20_mon/2)-1):\n",
    "        # PLGA contour length values\n",
    "        if i == 0:\n",
    "            blen_ppn20dmso[i] = 0\n",
    "        elif i != 0:\n",
    "            blen_ppn20dmso[i] = np.sum(blen_ppn20dmso[i-1]) + COM_ppn20dmso[0,0]    \n",
    "    elif i == int((n20_mon/2)-1):\n",
    "        #PLGA-PEG linker length\n",
    "        blen_ppn20dmso[i] = np.sum(blen_ppn20dmso[i-1]) + COM_ppn20dmso[1,0]\n",
    "    elif i > int((n20_mon/2)-1):\n",
    "    #    # PEG contour length values\n",
    "        blen_ppn20dmso[i] = np.sum(blen_ppn20dmso[i-1]) + COM_ppn20dmso[2,0]\n",
    "        \n",
    "blen_ppn20dmso"
   ]
  },
  {
   "cell_type": "code",
   "execution_count": null,
   "metadata": {},
   "outputs": [],
   "source": [
    "# Error prop. into natural log std deviation\n",
    "mk_n20ppdmso = cor_n20plgapeg_dmso[1]/cor_n20plgapeg_dmso[0]\n",
    "mk_n20ppdmso"
   ]
  },
  {
   "cell_type": "code",
   "execution_count": null,
   "metadata": {},
   "outputs": [],
   "source": [
    "cor_n20plgapeg_dmso[0]"
   ]
  },
  {
   "cell_type": "code",
   "execution_count": null,
   "metadata": {},
   "outputs": [],
   "source": [
    "cor_n20plgapeg_dmso[1]"
   ]
  },
  {
   "cell_type": "code",
   "execution_count": null,
   "metadata": {},
   "outputs": [],
   "source": [
    "a = np.arange(29)\n",
    "p1 = np.ma.masked_where(a == 25, np.log(cor_n30plgapeg_dmso[0]))\n",
    "costh_n30dmso = np.ma.masked_where(a == 26, p1)\n",
    "e1 = np.ma.masked_where(a == 25, mk_n30ppdmso)\n",
    "errln_n30dmso  = np.ma.masked_where(a == 26, e1)"
   ]
  },
  {
   "cell_type": "code",
   "execution_count": null,
   "metadata": {},
   "outputs": [],
   "source": [
    "plt.figure(figsize=(7,7))\n",
    "plt.errorbar(blen_ppn20dmso, cor_n20plgapeg_dmso[0], yerr=cor_n20plgapeg_dmso[1], color='teal', linestyle=\"None\",marker='o',\n",
    "     capsize=5, capthick=1, ecolor='black')"
   ]
  },
  {
   "cell_type": "code",
   "execution_count": null,
   "metadata": {},
   "outputs": [],
   "source": [
    "# All the points give the best fits for N = 6 peg in DMSO\n",
    "n20_blksplgapeg_dmso , n20plgapeg_lpdmso = bavg_pers_cnt(5, plgapeg_n20dmso, n20_plgapeg_dmso, blen_ppn20dmso, 5, 0 , 36001)"
   ]
  },
  {
   "cell_type": "code",
   "execution_count": null,
   "metadata": {},
   "outputs": [],
   "source": [
    "n20_blksplgapeg_dmso"
   ]
  },
  {
   "cell_type": "code",
   "execution_count": null,
   "metadata": {},
   "outputs": [],
   "source": [
    "n20plgapeg_lpdmso"
   ]
  },
  {
   "cell_type": "code",
   "execution_count": null,
   "metadata": {},
   "outputs": [],
   "source": [
    "n20plgapeg_lpdmso[2]"
   ]
  },
  {
   "cell_type": "code",
   "execution_count": null,
   "metadata": {},
   "outputs": [],
   "source": [
    "np.mean(n20plgapeg_lpdmso[3])"
   ]
  },
  {
   "cell_type": "markdown",
   "metadata": {},
   "source": [
    "#### line fitted to cosine theta values using mean slope"
   ]
  },
  {
   "cell_type": "code",
   "execution_count": null,
   "metadata": {},
   "outputs": [],
   "source": [
    "blen_ppn20dmso"
   ]
  },
  {
   "cell_type": "code",
   "execution_count": null,
   "metadata": {},
   "outputs": [],
   "source": [
    "gg_n20plgapeg_dmso = line_fit(np.mean(n20plgapeg_lpdmso[2]),blen_ppn20dmso)"
   ]
  },
  {
   "cell_type": "code",
   "execution_count": null,
   "metadata": {},
   "outputs": [],
   "source": [
    "gg_n16plgapeg_n20dmso = line_fit(np.mean(n16plgapeg_lpdmso[2]),blen_ppn20dmso)"
   ]
  },
  {
   "cell_type": "code",
   "execution_count": null,
   "metadata": {},
   "outputs": [],
   "source": [
    "gg_n10plgapeg_n20dmso = line_fit(np.mean(n10plgapeg_lpdmso[2]),blen_ppn20dmso)"
   ]
  },
  {
   "cell_type": "code",
   "execution_count": null,
   "metadata": {},
   "outputs": [],
   "source": [
    "gg_n8plgapeg_n20dmso = line_fit(np.mean(n8plgapeg_lpdmso[2]),blen_ppn20dmso)"
   ]
  },
  {
   "cell_type": "code",
   "execution_count": null,
   "metadata": {},
   "outputs": [],
   "source": [
    "gg_n6plgapeg_n20dmso = line_fit(np.mean(n6plgapeg_lpdmso[2]),blen_ppn20dmso)"
   ]
  },
  {
   "cell_type": "code",
   "execution_count": null,
   "metadata": {},
   "outputs": [],
   "source": [
    "gg_n20plgapeg_dmso"
   ]
  },
  {
   "cell_type": "markdown",
   "metadata": {},
   "source": [
    "#### Block averaged Rg, Ree, Rh, mean sq. Ree and mean sq. Rg persistence length, N = 20 PLGA-PEG in DMSO"
   ]
  },
  {
   "cell_type": "code",
   "execution_count": null,
   "metadata": {},
   "outputs": [],
   "source": [
    "blppn20dmso = []\n",
    "for i in range(n20_mon-1):\n",
    "    if i < int((n20_mon/2)-1):\n",
    "        # PLGA contour length values\n",
    "        blppn20dmso.append(COM_ppn20dmso[0,0])    \n",
    "    elif i == int((n20_mon/2)-1):\n",
    "        #PLGA-PEG linker length\n",
    "        blppn20dmso.append(COM_ppn20dmso[1,0]) \n",
    "    elif i > int((n20_mon/2)-1):\n",
    "    #    # PEG contour length values\n",
    "        blppn20dmso.append(COM_ppn20dmso[2,0]) \n",
    "\n",
    "# Contour Length, N = 6 PLGA-PEG in DMSO\n",
    "lc_ppn20dmso = np.sum(blppn20dmso)\n",
    "lc_ppn20dmso"
   ]
  },
  {
   "cell_type": "code",
   "execution_count": null,
   "metadata": {},
   "outputs": [],
   "source": [
    "# Ree^2/Rg^2 array at different contour lengths\n",
    "re2e_rgsq_plgapegdmso[1,4] = lc_ppn20dmso\n",
    "re2e_rgsq_plgapegdmso"
   ]
  },
  {
   "cell_type": "code",
   "execution_count": null,
   "metadata": {},
   "outputs": [],
   "source": [
    "a_ppn20dmso = np.mean(n20_blksplgapeg_dmso['Avg Sq. end to end distance'])"
   ]
  },
  {
   "cell_type": "code",
   "execution_count": null,
   "metadata": {},
   "outputs": [],
   "source": [
    "b_ppn20dmso = np.mean(n20_blksplgapeg_dmso['Avg Sq. radius of gyration'])"
   ]
  },
  {
   "cell_type": "code",
   "execution_count": null,
   "metadata": {},
   "outputs": [],
   "source": [
    "re2e_rgsq_plgapegdmso[0,4] = a_ppn20dmso/b_ppn20dmso\n",
    "re2e_rgsq_plgapegdmso"
   ]
  },
  {
   "cell_type": "code",
   "execution_count": null,
   "metadata": {},
   "outputs": [],
   "source": [
    "# Rg/Rh array at different contour lengths \n",
    "rhy_rg_plgapegdmso[1,4] = lc_ppn20dmso\n",
    "rhy_rg_plgapegdmso"
   ]
  },
  {
   "cell_type": "code",
   "execution_count": null,
   "metadata": {},
   "outputs": [],
   "source": [
    "aa_ppn20dmso = np.mean(n20_blksplgapeg_dmso['Avg Radius of gyration'])"
   ]
  },
  {
   "cell_type": "code",
   "execution_count": null,
   "metadata": {},
   "outputs": [],
   "source": [
    "bb_ppn20dmso = np.mean(n20_blksplgapeg_dmso['Avg Hydrodynamic radius'])"
   ]
  },
  {
   "cell_type": "code",
   "execution_count": null,
   "metadata": {},
   "outputs": [],
   "source": [
    "rhy_rg_plgapegdmso[0,4] = aa_ppn20dmso/bb_ppn20dmso\n",
    "rhy_rg_plgapegdmso"
   ]
  },
  {
   "cell_type": "code",
   "execution_count": null,
   "metadata": {},
   "outputs": [],
   "source": [
    "# pers length/contour length \n",
    "kuhnlpL_plgapegdmso[0,4] = np.mean(n20_blksplgapeg_dmso[\"Avg persistence length\"])/lc_ppn20dmso\n",
    "kuhnlpL_plgapegdmso"
   ]
  },
  {
   "cell_type": "markdown",
   "metadata": {},
   "source": [
    "#### Block averaged Radius of gyration and persistence length, N = 20 PLGA-PEG in DMSO"
   ]
  },
  {
   "cell_type": "code",
   "execution_count": null,
   "metadata": {},
   "outputs": [],
   "source": [
    "np.mean(n20_blksplgapeg_dmso[\"Avg persistence length\"])"
   ]
  },
  {
   "cell_type": "code",
   "execution_count": null,
   "metadata": {},
   "outputs": [],
   "source": [
    "np.std(n20_blksplgapeg_dmso[\"Avg persistence length\"])"
   ]
  },
  {
   "cell_type": "code",
   "execution_count": null,
   "metadata": {},
   "outputs": [],
   "source": [
    "np.mean(n20_blksplgapeg_dmso[\"Avg Radius of gyration\"])"
   ]
  },
  {
   "cell_type": "code",
   "execution_count": null,
   "metadata": {},
   "outputs": [],
   "source": [
    "np.std(n20_blksplgapeg_dmso[\"Avg Radius of gyration\"])"
   ]
  },
  {
   "cell_type": "code",
   "execution_count": null,
   "metadata": {},
   "outputs": [],
   "source": [
    "cor_n20plgapeg_dmso[0][:17]"
   ]
  },
  {
   "cell_type": "code",
   "execution_count": null,
   "metadata": {},
   "outputs": [],
   "source": [
    "plt.figure(figsize=(7,7))\n",
    "plt.errorbar(blen_ppn6dmso, np.log(cor_n6plgapeg_dmso[0]), yerr=mk_n6ppdmso, color='teal', linestyle=\"None\",marker='o',\n",
    "     capsize=5, capthick=1, ecolor='black')\n",
    "plt.errorbar(blen_ppn8dmso, np.log(cor_n8plgapeg_dmso[0]), yerr=mk_n8ppdmso, color='dodgerblue', linestyle=\"None\",marker='o',\n",
    "     capsize=5, capthick=1, ecolor='black')\n",
    "plt.errorbar(blen_ppn10dmso, np.log(cor_n10plgapeg_dmso[0]), yerr=mk_n10ppdmso, color='darkmagenta', linestyle=\"None\",marker='o',\n",
    "     capsize=5, capthick=1, ecolor='black')\n",
    "plt.errorbar(blen_ppn16dmso, np.log(cor_n16plgapeg_dmso[0]), yerr=mk_n16ppdmso, color='maroon', linestyle=\"None\",marker='o',\n",
    "     capsize=5, capthick=1, ecolor='black')\n",
    "plt.errorbar(blen_ppn20dmso[:17], np.log(cor_n20plgapeg_dmso[0][:17]), yerr=mk_n20ppdmso[:17], color='orangered', linestyle=\"None\"\n",
    "        ,marker='o',capsize=5, capthick=1, ecolor='black')\n",
    "plt.plot(blen_ppn20dmso, gg_n6plgapeg_n20dmso, color='teal')\n",
    "plt.plot(blen_ppn20dmso, gg_n8plgapeg_n20dmso, color='dodgerblue')\n",
    "plt.plot(blen_ppn20dmso, gg_n10plgapeg_n20dmso, color='darkmagenta')\n",
    "plt.plot(blen_ppn20dmso, gg_n16plgapeg_n20dmso, color='maroon')\n",
    "plt.plot(blen_ppn20dmso[:17], gg_n20plgapeg_dmso[:17], color='orangered')\n",
    "plt.title(r'Ensemble Averaged ln(Cosine $\\theta$) PLGA-PEG in DMSO', fontsize=15, y=1.01)\n",
    "plt.xlabel(r'Bond Length', fontsize=15)\n",
    "plt.ylabel(r'ln$\\left< Cos(\\theta)\\right >$', fontsize=15)\n",
    "plt.ylim(-7,1.5)\n",
    "plt.xlim(0,90)\n",
    "#plt.ylim(-1.9,0)\n",
    "font = font_manager.FontProperties(family='Arial', style='normal', size='14')\n",
    "#plt.legend([r'$N_{PEG}$ = 6: $L_{p}$ = 18.8 $\\AA$ ± 3.60 $\\AA$'], loc=3, frameon=0, fontsize=14, prop=font)\n",
    "plt.tick_params(labelsize=14)\n",
    "plt.text(0.5, -5.9,r'$N_{PLGA-PEG}$ = 6: $L_{p}$ = 36.2 $\\AA$ ± 3.33 $\\AA$', fontsize=15, color='teal')\n",
    "plt.text(0.5, -5.57,r'$N_{PLGA-PEG}$ = 8: $L_{p}$ = 33.7 $\\AA$ ± 2.04 $\\AA$', fontsize=15, color='dodgerblue')\n",
    "plt.text(0.5, -5.23,r'$N_{PLGA-PEG}$ = 10: $L_{p}$ = 35.3 $\\AA$ ± 0.95 $\\AA$', fontsize=15, color='darkmagenta')\n",
    "plt.text(0.5, -4.90,r'$N_{PLGA-PEG}$ = 16: $L_{p}$ = 35.3 $\\AA$ ± 3.17 $\\AA$', fontsize=15, color='maroon')\n",
    "plt.text(0.5, -4.50,r'$N_{PLGA-PEG}$ = 20: $L_{p}$ = 36.6 $\\AA$ ± 3.45 $\\AA$', fontsize=15, color='orangered')"
   ]
  },
  {
   "cell_type": "code",
   "execution_count": null,
   "metadata": {},
   "outputs": [],
   "source": [
    "rgplgapeg_olig_dmso[r\"$R_{g}$ [Angstrom] N = 20 PLGA-PEG DMSO\"] = n20_blksplgapeg_dmso[\"Avg Radius of gyration\"]\n",
    "rgplgapeg_olig_dmso"
   ]
  },
  {
   "cell_type": "code",
   "execution_count": null,
   "metadata": {},
   "outputs": [],
   "source": [
    "pers_plgapegt_dmso[r\"$L_{p}$ [Angstrom] N = 20 PLGA-PEG DMSO\"] = n20_blksplgapeg_dmso[\"Avg persistence length\"]\n",
    "pers_plgapegt_dmso"
   ]
  },
  {
   "cell_type": "code",
   "execution_count": null,
   "metadata": {},
   "outputs": [],
   "source": []
  },
  {
   "cell_type": "code",
   "execution_count": null,
   "metadata": {},
   "outputs": [],
   "source": []
  },
  {
   "cell_type": "code",
   "execution_count": null,
   "metadata": {},
   "outputs": [],
   "source": []
  },
  {
   "cell_type": "markdown",
   "metadata": {},
   "source": [
    "### N = 30 PLGA-PEG/DMSO "
   ]
  },
  {
   "cell_type": "code",
   "execution_count": null,
   "metadata": {},
   "outputs": [],
   "source": [
    "# For the right Rg calculation using MD Analysis, use trajactory without pbc \n",
    "n30_plgapeg_dmso = mda.Universe(\"n30plga_plgapeg_dmso/n30plgapeg_DMSO.pdb\", \"n30plga_plgapeg_dmso/NoDMSO_n30plgapeg.xtc\")"
   ]
  },
  {
   "cell_type": "code",
   "execution_count": null,
   "metadata": {},
   "outputs": [],
   "source": [
    "n30_plgapeg_dmso.trajectory"
   ]
  },
  {
   "cell_type": "code",
   "execution_count": null,
   "metadata": {},
   "outputs": [],
   "source": [
    "len(n30_plgapeg_dmso.trajectory)"
   ]
  },
  {
   "cell_type": "code",
   "execution_count": null,
   "metadata": {},
   "outputs": [],
   "source": [
    "#Select the polymer heavy atoms \n",
    "plgapeg_n30dmso = n30_plgapeg_dmso.select_atoms(\"resname sPLG PLG bPLG bPEG PEG sPEG and not type H\")"
   ]
  },
  {
   "cell_type": "code",
   "execution_count": null,
   "metadata": {},
   "outputs": [],
   "source": [
    "np.unique(plgapeg_n30dmso.resids)"
   ]
  },
  {
   "cell_type": "code",
   "execution_count": null,
   "metadata": {},
   "outputs": [],
   "source": [
    "# Get cosine theta values at frame 0 \n",
    "crv_n30plgapeg_dmso = pers_length(plgapeg_n30dmso,30)\n",
    "crv_n30plgapeg_dmso"
   ]
  },
  {
   "cell_type": "markdown",
   "metadata": {},
   "source": [
    "#### Orientation Order parameter vs. time "
   ]
  },
  {
   "cell_type": "code",
   "execution_count": null,
   "metadata": {},
   "outputs": [],
   "source": [
    "n30_mon = 30\n",
    "start = 0\n",
    "end = 36001"
   ]
  },
  {
   "cell_type": "code",
   "execution_count": null,
   "metadata": {},
   "outputs": [],
   "source": [
    "OOp_n30plgapeg_dmso = orientation_order_param(plgapeg_n30dmso, n30_plgapeg_dmso, n30_mon, start, end)"
   ]
  },
  {
   "cell_type": "code",
   "execution_count": null,
   "metadata": {},
   "outputs": [],
   "source": [
    "OOp_n30plgapeg_dmso.shape"
   ]
  },
  {
   "cell_type": "code",
   "execution_count": null,
   "metadata": {},
   "outputs": [],
   "source": [
    "trj_len = np.arange(36001)\n",
    "plt.figure(figsize=(7,7))\n",
    "plt.title(r'PLGA-PEG Orientation Order Parameter', fontsize=18, y=1.01)\n",
    "plt.xlabel(r'Time [ns]', fontsize=15)\n",
    "plt.ylabel(r'Z', fontsize=15)\n",
    "plt.plot(trj_len/100, OOp_n6plgapeg_dmso,linewidth=2, color='teal')\n",
    "plt.plot(trj_len/100, OOp_n8plgapeg_dmso,linewidth=2, color='dodgerblue')\n",
    "plt.plot(trj_len/100, OOp_n10plgapeg_dmso,linewidth=2, color='darkmagenta')\n",
    "plt.plot(trj_len/100, OOp_n16plgapeg_dmso,linewidth=2, color='maroon')\n",
    "plt.plot(trj_len/100, OOp_n20plgapeg_dmso,linewidth=2, color='orangered')\n",
    "plt.plot(trj_len/100, OOp_n30plgapeg_dmso,linewidth=2, color='darkolivegreen')\n",
    "plt.tick_params(labelsize=14)\n",
    "plt.legend(['N = 6 in DMSO', 'N = 8 in DMSO','N = 10 in DMSO','N = 16 in DMSO','N = 20 in DMSO','N = 30 in DMSO'],\n",
    "           frameon=False, fontsize=14, loc='upper left')\n",
    "#plt.text(127, 0.96,r'N = 6 in DMSO', fontsize=18, color='#1F2E69', family='Arial')\n",
    "plt.xlim(0,360)\n",
    "plt.ylim(-2,2)"
   ]
  },
  {
   "cell_type": "markdown",
   "metadata": {},
   "source": [
    "#### Mean Orientation Order Parameter for N = 30 PLGA-PEG in DMSO"
   ]
  },
  {
   "cell_type": "code",
   "execution_count": null,
   "metadata": {},
   "outputs": [],
   "source": [
    "OOp_n30plgapeg_dmso[82]"
   ]
  },
  {
   "cell_type": "code",
   "execution_count": null,
   "metadata": {},
   "outputs": [],
   "source": [
    "OOp_n30plgapeg_dmso[239]"
   ]
  },
  {
   "cell_type": "code",
   "execution_count": null,
   "metadata": {},
   "outputs": [],
   "source": [
    "np.mean(OOp_n30plgapeg_dmso)"
   ]
  },
  {
   "cell_type": "code",
   "execution_count": null,
   "metadata": {},
   "outputs": [],
   "source": [
    "np.std(OOp_n30plgapeg_dmso)"
   ]
  },
  {
   "cell_type": "markdown",
   "metadata": {},
   "source": [
    "#### Mean squared end to end distance "
   ]
  },
  {
   "cell_type": "code",
   "execution_count": null,
   "metadata": {},
   "outputs": [],
   "source": [
    "eVec_n30plgapeg_dmso, e2edis_n30plgapeg_dmso = mean_sq_e2e(plgapeg_n30dmso, n30_plgapeg_dmso, n30_mon, start, end)"
   ]
  },
  {
   "cell_type": "code",
   "execution_count": null,
   "metadata": {},
   "outputs": [],
   "source": [
    "np.save('Reetime_N6ppdmso.npy', e2edis_n6plgapeg_dmso)\n",
    "np.save('Reetime_N8ppdmso.npy', e2edis_n8plgapeg_dmso)\n",
    "np.save('Reetime_N10ppdmso.npy', e2edis_n10plgapeg_dmso)\n",
    "np.save('Reetime_N16ppdmso.npy', e2edis_n16plgapeg_dmso)\n",
    "#np.save('Reetime_N20ppdmso.npy', e2edis_n20plgapeg_dmso)\n",
    "#np.save('Reetime_N30ppdmso.npy', e2edis_n30plgapeg_dmso)"
   ]
  },
  {
   "cell_type": "code",
   "execution_count": null,
   "metadata": {},
   "outputs": [],
   "source": [
    "e2edis_n6plgapeg_dmso = np.load('poly_strut_data/Reetime_N6ppdmso.npy', allow_pickle=True)\n",
    "e2edis_n8plgapeg_dmso = np.load('poly_strut_data/Reetime_N8ppdmso.npy', allow_pickle=True)\n",
    "e2edis_n10plgapeg_dmso = np.load('poly_strut_data/Reetime_N10ppdmso.npy', allow_pickle=True)\n",
    "e2edis_n16plgapeg_dmso = np.load('poly_strut_data/Reetime_N16ppdmso.npy', allow_pickle=True)\n",
    "e2edis_n20plgapeg_dmso = np.load('poly_strut_data/Reetime_N20ppdmso.npy', allow_pickle=True)\n",
    "e2edis_n30plgapeg_dmso = np.load('poly_strut_data/Reetime_N30ppdmso.npy', allow_pickle=True)"
   ]
  },
  {
   "cell_type": "code",
   "execution_count": null,
   "metadata": {},
   "outputs": [],
   "source": [
    "trj_len = np.arange(36001)\n",
    "plt.figure(figsize=(7,7))\n",
    "plt.title(r'PLGA-PEG End to End distance', fontsize=18, y=1.01)\n",
    "plt.xlabel(r'Time [ns]', fontsize=15)\n",
    "plt.ylabel(r'$R_{ee}$ [nm]', fontsize=15)\n",
    "#plt.plot(trj_len/100, e2edis_n6plgapeg_dmso[1]/10,linewidth=2, color='teal')\n",
    "#plt.plot(trj_len/100, e2edis_n8plgapeg_dmso[1]/10,linewidth=2, color='dodgerblue')\n",
    "#plt.plot(trj_len/100, e2edis_n10plgapeg_dmso[1]/10,linewidth=2, color='darkmagenta')\n",
    "plt.plot(trj_len/100, e2edis_n16plgapeg_dmso[1]/10,linewidth=2, color='maroon')\n",
    "plt.plot(trj_len/100, e2edis_n20plgapeg_dmso[1]/10,linewidth=2, color='orangered')\n",
    "plt.plot(trj_len/100, e2edis_n30plgapeg_dmso[1]/10,linewidth=2, color='darkolivegreen')\n",
    "plt.tick_params(labelsize=14)\n",
    "#plt.legend(['N = 6 in DMSO', 'N = 8 in DMSO','N = 10 in DMSO'],frameon=False, fontsize=14, loc='upper left')\n",
    "plt.legend(['N = 16 in DMSO', 'N = 20 in DMSO','N = 30 in DMSO'],frameon=False, fontsize=14, loc='upper left')\n",
    "#plt.legend(['N = 6 in DMSO', 'N = 8 in DMSO','N = 10 in DMSO','N = 16 in DMSO','N = 20 in DMSO','N = 30 in DMSO'],\n",
    "#           frameon=False, fontsize=14, loc='upper left')\n",
    "#plt.text(127, 0.96,r'N = 6 in DMSO', fontsize=18, color='#1F2E69', family='Arial')\n",
    "plt.xlim(0,360)\n",
    "plt.ylim(0,12)"
   ]
  },
  {
   "cell_type": "markdown",
   "metadata": {},
   "source": [
    "#### Ree Autocorrelation function"
   ]
  },
  {
   "cell_type": "code",
   "execution_count": null,
   "metadata": {},
   "outputs": [],
   "source": [
    "e2edis_n30plgapeg_dmso[1]"
   ]
  },
  {
   "cell_type": "code",
   "execution_count": null,
   "metadata": {},
   "outputs": [],
   "source": [
    "t_corr = 3000\n",
    "window_shift = 5"
   ]
  },
  {
   "cell_type": "code",
   "execution_count": null,
   "metadata": {},
   "outputs": [],
   "source": [
    "ACn30plgapegdmso_Ree, eqvar_n30plgapegdmso = obs_autocorr_RA(e2edis_n30plgapeg_dmso[1],t_corr, window_shift,start,end)"
   ]
  },
  {
   "cell_type": "code",
   "execution_count": null,
   "metadata": {},
   "outputs": [],
   "source": [
    "ACn30plgapegdmso_Ree"
   ]
  },
  {
   "cell_type": "code",
   "execution_count": null,
   "metadata": {},
   "outputs": [],
   "source": [
    "eqvar_n30plgapegdmso"
   ]
  },
  {
   "cell_type": "code",
   "execution_count": null,
   "metadata": {},
   "outputs": [],
   "source": [
    "ACn30plgapegdmso_sqRee, evsqRee_n30plgapegdmso = obs_autocorr_RA(e2edis_n30plgapeg_dmso[0],t_corr, window_shift,start,end)"
   ]
  },
  {
   "cell_type": "code",
   "execution_count": null,
   "metadata": {},
   "outputs": [],
   "source": [
    "np.sqrt(evsqRee_n30plgapegdmso)"
   ]
  },
  {
   "cell_type": "code",
   "execution_count": null,
   "metadata": {},
   "outputs": [],
   "source": [
    "plt.figure(figsize=(7,7))\n",
    "plt.title(r'PLGA-PEG in DMSO autocorrelation', fontsize=18, y=1.01)\n",
    "plt.xlabel(r'Time [ns]', fontsize=15)\n",
    "plt.ylabel(r'$C_{A}(t)$', fontsize=15)\n",
    "plt.plot(ACn6plgapegdmso_Ree[1]/100, ACn6plgapegdmso_Ree[0],linewidth=2, color='teal')\n",
    "plt.plot(ACn8plgapegdmso_Ree[1]/100, ACn8plgapegdmso_Ree[0],linewidth=2, color='dodgerblue')\n",
    "plt.plot(ACn10plgapegdmso_Ree[1]/100, ACn10plgapegdmso_Ree[0],linewidth=2, color='darkmagenta')\n",
    "plt.plot(ACn16plgapegdmso_Ree[1]/100, ACn16plgapegdmso_Ree[0],linewidth=2, color='maroon')\n",
    "plt.plot(ACn20plgapegdmso_Ree[1]/100, ACn20plgapegdmso_Ree[0],linewidth=2, color='orangered')\n",
    "plt.plot(ACn30plgapegdmso_Ree[1]/100, ACn30plgapegdmso_Ree[0],linewidth=2, color='darkolivegreen')\n",
    "plt.tick_params(labelsize=14)\n",
    "plt.legend(['N = 6 Ree','N = 8 Ree','N = 10 Ree','N = 16 Ree','N = 20 Ree','N = 30 Ree'], frameon=False, fontsize=14)\n",
    "#plt.legend(['N = 6 Lee','N = 8 Lee','N = 10 Lee','N = 15 Lee'], frameon=False, fontsize=14)\n",
    "#plt.legend(['N = 20 Lee','N = 30 Lee'], frameon=False, fontsize=14)\n",
    "#plt.yscale('symlog', linthreshy=0.5)\n",
    "#plt.xscale('symlog')\n",
    "plt.xlim(0,50)\n",
    "plt.ylim(-1,1)"
   ]
  },
  {
   "cell_type": "markdown",
   "metadata": {},
   "source": [
    "### Hydrodynamic Radius vs time"
   ]
  },
  {
   "cell_type": "code",
   "execution_count": null,
   "metadata": {},
   "outputs": [],
   "source": [
    "plgapegn30dmso_rh = hydro_rad_poly(plgapeg_n30dmso, n30_plgapeg_dmso, n30_mon, start, end)"
   ]
  },
  {
   "cell_type": "code",
   "execution_count": null,
   "metadata": {},
   "outputs": [],
   "source": [
    "plgapegn6dmso_rh = np.load('poly_strut_data/Rhydtime_N6ppdmso.npy', allow_pickle=True)\n",
    "plgapegn8dmso_rh = np.load('poly_strut_data/Rhydtime_N8ppdmso.npy', allow_pickle=True)\n",
    "plgapegn10dmso_rh = np.load('poly_strut_data/Rhydtime_N10ppdmso.npy', allow_pickle=True)\n",
    "plgapegn16dmso_rh = np.load('poly_strut_data/Rhydtime_N16ppdmso.npy', allow_pickle=True)\n",
    "plgapegn20dmso_rh = np.load('poly_strut_data/Rhydtime_N20ppdmso.npy', allow_pickle=True)\n",
    "plgapegn30dmso_rh = np.load('poly_strut_data/Rhydtime_N30ppdmso.npy', allow_pickle=True)"
   ]
  },
  {
   "cell_type": "code",
   "execution_count": null,
   "metadata": {},
   "outputs": [],
   "source": [
    "trj_len = np.arange(36001)\n",
    "plt.figure(figsize=(7,7))\n",
    "plt.title(r'PLGA-PEG Hydrodynamic Radius', fontsize=18, y=1.01)\n",
    "plt.xlabel(r'Time [ns]', fontsize=15)\n",
    "plt.ylabel(r'$R_{hyd}$ [nm]', fontsize=15)\n",
    "#plt.plot(trj_len/100, plgapegn6dmso_rh/10,linewidth=2, color='teal')\n",
    "#plt.plot(trj_len/100, plgapegn8dmso_rh/10,linewidth=2, color='dodgerblue')\n",
    "#plt.plot(trj_len/100, plgapegn10dmso_rh/10,linewidth=2, color='darkmagenta')\n",
    "plt.plot(trj_len/100, plgapegn16dmso_rh/10,linewidth=2, color='maroon')\n",
    "plt.plot(trj_len/100, plgapegn20dmso_rh/10,linewidth=2, color='orangered')\n",
    "plt.plot(trj_len/100, plgapegn30dmso_rh/10,linewidth=2, color='darkolivegreen')\n",
    "plt.tick_params(labelsize=14)\n",
    "#plt.legend(['N = 6 in DMSO', 'N = 8 in DMSO','N = 10 in DMSO'],frameon=False, fontsize=14, loc='upper left')\n",
    "plt.legend(['N = 16 in DMSO', 'N = 20 in DMSO','N = 30 in DMSO'],frameon=False, fontsize=14, loc='upper left')\n",
    "#plt.legend(['N = 6 in DMSO', 'N = 8 in DMSO','N = 10 in DMSO','N = 16 in DMSO','N = 20 in DMSO','N = 30 in DMSO'],\n",
    "#           frameon=False, fontsize=14, loc='upper left')\n",
    "#plt.text(127, 0.96,r'N = 6 in DMSO', fontsize=18, color='#1F2E69', family='Arial')\n",
    "plt.xlim(0,360)\n",
    "plt.ylim(1,6)"
   ]
  },
  {
   "cell_type": "code",
   "execution_count": null,
   "metadata": {},
   "outputs": [],
   "source": [
    "np.save('Rhydtime_N6ppdmso.npy', plgapegn6dmso_rh)\n",
    "np.save('Rhydtime_N8ppdmso.npy', plgapegn8dmso_rh)\n",
    "np.save('Rhydtime_N10ppdmso.npy', plgapegn10dmso_rh)\n",
    "np.save('Rhydtime_N16ppdmso.npy', plgapegn16dmso_rh)\n",
    "np.save('Rhydtime_N20ppdmso.npy', plgapegn20dmso_rh)\n",
    "np.save('Rhydtime_N30ppdmso.npy', plgapegn30dmso_rh)"
   ]
  },
  {
   "cell_type": "markdown",
   "metadata": {},
   "source": [
    "#### Rh autocorrelation"
   ]
  },
  {
   "cell_type": "code",
   "execution_count": null,
   "metadata": {},
   "outputs": [],
   "source": [
    "ACn30plgapegdmsoRh, eqvarRh_n30plgapegdmso = obs_autocorr_RA(plgapegn30dmso_rh,t_corr, window_shift,start,end)"
   ]
  },
  {
   "cell_type": "code",
   "execution_count": null,
   "metadata": {},
   "outputs": [],
   "source": [
    "ACn30plgapegdmsoRh"
   ]
  },
  {
   "cell_type": "code",
   "execution_count": null,
   "metadata": {},
   "outputs": [],
   "source": [
    "eqvarRh_n30plgapegdmso"
   ]
  },
  {
   "cell_type": "code",
   "execution_count": null,
   "metadata": {},
   "outputs": [],
   "source": [
    "plt.figure(figsize=(7,7))\n",
    "plt.title(r'PLGA-PEG in DMSO autocorrelation', fontsize=18, y=1.01)\n",
    "plt.xlabel(r'Time [ns]', fontsize=15)\n",
    "plt.ylabel(r'$C_{A}(t)$', fontsize=15)\n",
    "plt.plot(ACn6plgapegdmsoRh[1]/100, ACn6plgapegdmsoRh[0],linewidth=2, color='teal')\n",
    "plt.plot(ACn8plgapegdmsoRh[1]/100, ACn8plgapegdmsoRh[0],linewidth=2, color='dodgerblue')\n",
    "plt.plot(ACn10plgapegdmsoRh[1]/100, ACn10plgapegdmsoRh[0],linewidth=2, color='darkmagenta')\n",
    "plt.plot(ACn16plgapegdmsoRh[1]/100, ACn16plgapegdmsoRh[0],linewidth=2, color='maroon')\n",
    "plt.plot(ACn20plgapegdmsoRh[1]/100, ACn20plgapegdmsoRh[0],linewidth=2, color='orangered')\n",
    "plt.plot(ACn30plgapegdmsoRh[1]/100, ACn30plgapegdmsoRh[0],linewidth=2, color='darkolivegreen')\n",
    "plt.tick_params(labelsize=14)\n",
    "plt.legend([r'N = 6 $R_{hyd}$','N = 8 $R_{hyd}$','N = 10 $R_{hyd}$','N = 16 $R_{hyd}$','N = 20 $R_{hyd}$','N = 30 $R_{hyd}$']\n",
    " ,frameon=False, fontsize=14)\n",
    "#plt.legend([r'N = 6 $R_{hyd}$','N = 8 $R_{hyd}$','N = 10 $R_{hyd}$','N = 15 $R_{hyd}$'], frameon=False, fontsize=14)\n",
    "#plt.legend([r'N = 20 $R_{hyd}$',r'N = 30 $R_{hyd}$'], frameon=False, fontsize=14)\n",
    "plt.xlim(0,50)\n",
    "plt.ylim(-2,1)"
   ]
  },
  {
   "cell_type": "markdown",
   "metadata": {},
   "source": [
    "### Relaxation times vs monomer length "
   ]
  },
  {
   "cell_type": "code",
   "execution_count": null,
   "metadata": {},
   "outputs": [],
   "source": [
    "# Key variables \n",
    "# def pos_bead_autocorr_RA(polymer_atoms, universe, n_monomers, t_corr,  start, end):\n",
    "n30_mon = 30 \n",
    "start = 0\n",
    "end = 36001\n",
    "t_corr = 2000\n",
    "window_shift = 20"
   ]
  },
  {
   "cell_type": "code",
   "execution_count": null,
   "metadata": {},
   "outputs": [],
   "source": [
    "s_time = timeit.default_timer()\n",
    "tcRA_plgapegn30dmso, tcSUM_plgapegn30dmso = pos_bead_autocorr_RA(plgapeg_n30dmso, n30_plgapeg_dmso, n30_mon, t_corr, window_shift\n",
    "                                                                 , start, end)\n",
    "timeit.default_timer() - s_time"
   ]
  },
  {
   "cell_type": "code",
   "execution_count": null,
   "metadata": {},
   "outputs": [],
   "source": [
    "tcRA_plgapegn30dmso"
   ]
  },
  {
   "cell_type": "code",
   "execution_count": null,
   "metadata": {},
   "outputs": [],
   "source": [
    "tcSUM_plgapegn30dmso.shape"
   ]
  },
  {
   "cell_type": "markdown",
   "metadata": {},
   "source": [
    "### Fitting autocorrelation data "
   ]
  },
  {
   "cell_type": "code",
   "execution_count": null,
   "metadata": {},
   "outputs": [],
   "source": [
    "xdata_plgapegn30dmso = tcRA_plgapegn30dmso[1]/100\n",
    "ydata_plgapegn30dmso = tcRA_plgapegn30dmso[0]"
   ]
  },
  {
   "cell_type": "code",
   "execution_count": null,
   "metadata": {},
   "outputs": [],
   "source": [
    "ydata_plgapegn30dmso.shape"
   ]
  },
  {
   "cell_type": "code",
   "execution_count": null,
   "metadata": {},
   "outputs": [],
   "source": [
    "xdata_plgapegn30dmso.shape"
   ]
  },
  {
   "cell_type": "code",
   "execution_count": null,
   "metadata": {},
   "outputs": [],
   "source": [
    "plt.figure(figsize=(8,8))\n",
    "plt.rcParams[\"font.family\"] = \"Arial\"\n",
    "plt.scatter(xdata_plgapegn6dmso, ydata_plgapegn6dmso, color='teal', s=s_n6, label=r'$N_{PLGA-PEG}$ = 6')\n",
    "plt.scatter(xdata_plgapegn8dmso, ydata_plgapegn8dmso, color='dodgerblue', s=s_n8, label=r'$N_{PLGA-PEG}$ = 8')\n",
    "plt.scatter(xdata_plgapegn10dmso, ydata_plgapegn10dmso, color='darkmagenta', s=s_n10, label=r'$N_{PLGA-PEG}$ = 10')\n",
    "plt.scatter(xdata_plgapegn16dmso, ydata_plgapegn16dmso, color='maroon', s=s_n16, label=r'$N_{PLGA-PEG}$ = 16')\n",
    "plt.scatter(xdata_plgapegn20dmso, ydata_plgapegn20dmso, color='orangered', s=s_n20, label=r'$N_{PLGA-PEG}$ = 20')\n",
    "plt.scatter(xdata_plgapegn30dmso, ydata_plgapegn30dmso, color='darkolivegreen', s=s_n30, label=r'$N_{PLGA-PEG}$ = 30')\n",
    "plt.title(r'Positional bead autocorrelation PLGA-PEG in DMSO', fontsize=18, y=1.03)\n",
    "plt.xlabel(r'Time lag [ns]', fontsize=18)\n",
    "plt.ylabel('C(t)', fontsize=18)\n",
    "plt.legend(fontsize=14, frameon=False,loc='upper right')\n",
    "plt.xticks(fontsize=18)\n",
    "plt.yticks(fontsize=18)\n",
    "#plt.yscale('symlog', linthreshy=0.5)\n",
    "plt.xscale('symlog')\n",
    "plt.grid(b=True)\n",
    "plt.xlim(0,300)\n",
    "plt.ylim(-1,1)\n",
    "plt.tick_params(labelsize=18, direction='in', which='both', width=1, length=10)"
   ]
  },
  {
   "cell_type": "code",
   "execution_count": null,
   "metadata": {},
   "outputs": [],
   "source": [
    "np.save('n6plgapeg_dmsoCt_RA.npy', tcRA_plgapegn6dmso)\n",
    "np.save('n8plgapeg_dmsoCt_RA.npy', tcRA_plgapegn8dmso)\n",
    "np.save('n10plgapeg_dmsoCt_RA.npy', tcRA_plgapegn10dmso)\n",
    "np.save('n10plgapeg_dmsoCt_RA.npy', tcRA_plgapegn16dmso)\n",
    "np.save('n20plgapeg_dmsoCt_RA.npy', tcRA_plgapegn20dmso)\n",
    "np.save('n30plgapeg_dmsoCt_RA.npy', tcRA_plgapegn30dmso)"
   ]
  },
  {
   "cell_type": "code",
   "execution_count": null,
   "metadata": {},
   "outputs": [],
   "source": [
    "ts = 1\n",
    "hs = 0.1\n",
    "n30_mon = 30\n",
    "n_b = n30_mon - 1\n",
    "tr1 = 2\n",
    "zimm_relax_fit(ts,tr1,hs,n_b)"
   ]
  },
  {
   "cell_type": "code",
   "execution_count": null,
   "metadata": {},
   "outputs": [],
   "source": [
    "#zimm_relax_func(ts,tr1,hs,n_b)"
   ]
  },
  {
   "cell_type": "code",
   "execution_count": null,
   "metadata": {},
   "outputs": [],
   "source": [
    "def res_plgapegn30dmso(variabls, xnp, ynp):\n",
    "    #hs_np = variabls['h_star']\n",
    "    hs_np = 0.26\n",
    "    tr1_np = variabls['t_first']\n",
    "    n_bonds = 29\n",
    "    testnp = []\n",
    "    for i in range(len(xnp)):\n",
    "        model_ynp = zimm_relax_fit(xnp[i], tr1_np, hs_np, n_bonds)\n",
    "        #model_ynp = rouse_relax(xnp[i], tr1_np, n_m)\n",
    "        testnp.append(ynp[i] - model_ynp)\n",
    "    \n",
    "    tt_n6 = np.array(testnp)\n",
    "\n",
    "    return tt_n6\n",
    "    \n",
    "#x1 = np.array([0,0])\n",
    "#pfit, pcov, infodict, errmsg, success = leastsq(res_poly, x1, args=(xdata, ydata), full_output=1)"
   ]
  },
  {
   "cell_type": "code",
   "execution_count": null,
   "metadata": {},
   "outputs": [],
   "source": [
    "ppfit_n30dmso = Parameters()\n",
    "#ppfit_n30dmso.add(name='h_star', value=0, min=0, max=0.26, vary=True)\n",
    "ppfit_n30dmso.add(name='t_first', value=2)"
   ]
  },
  {
   "cell_type": "code",
   "execution_count": null,
   "metadata": {},
   "outputs": [],
   "source": [
    "mini_ppn30dmso = Minimizer(res_plgapegn30dmso, ppfit_n30dmso, fcn_args=(xdata_plgapegn30dmso, ydata_plgapegn30dmso))\n",
    "out_ppn30dmso = mini_ppn30dmso.leastsq()\n",
    "#bfit_n10 = ydata_n10dmso + out_n10dmso.residual "
   ]
  },
  {
   "cell_type": "code",
   "execution_count": null,
   "metadata": {},
   "outputs": [],
   "source": [
    "report_fit(out_ppn30dmso.params)"
   ]
  },
  {
   "cell_type": "code",
   "execution_count": null,
   "metadata": {},
   "outputs": [],
   "source": [
    "out_ppn30dmso.params"
   ]
  },
  {
   "cell_type": "code",
   "execution_count": null,
   "metadata": {},
   "outputs": [],
   "source": [
    "# with h varying, tr = 39.6126855 +/- 0.40000367, h* = 1.4685e-05 +/- 0.00475622\n",
    "tdmso_n30plgapeg = []\n",
    "n_bonds = 29\n",
    "for i in range(len(xdata_plgapegn30dmso)):\n",
    "    tdmso_n30plgapeg.append(zimm_relax_fit(xdata_plgapegn30dmso[i], 33.8204049, 0.26,  n_bonds))\n"
   ]
  },
  {
   "cell_type": "code",
   "execution_count": null,
   "metadata": {},
   "outputs": [],
   "source": [
    "t_c, tz_n30plgapeg, zimm_n30plgapeg, rouse_n30plgapeg = zimm_relax_func(1, 33.8204049, 0.26,  n_bonds)"
   ]
  },
  {
   "cell_type": "code",
   "execution_count": null,
   "metadata": {},
   "outputs": [],
   "source": [
    "x_pos_n16 = np.arange(15)\n",
    "x_pos_n20 = np.arange(19)\n",
    "x_pos_n30 = np.arange(29)\n",
    "#x_pos_n30 = np.arange(29)\n",
    "width = 0.25\n",
    "aa_types_n30 = [r\"$\\tau_{1}$\", r\"$\\tau_{2}$\", r\"$\\tau_{3}$\", r\"$\\tau_{4}$\", r\"$\\tau_{5}$\",r\"$\\tau_{6}$\",r\"$\\tau_{7}$\",\n",
    "           r\"$\\tau_{8}$\", r\"$\\tau_{9}$\",r\"$\\tau_{10}$\", r\"$\\tau_{11}$\", r\"$\\tau_{12}$\", r\"$\\tau_{13}$\", r\"$\\tau_{14}$\",\n",
    "            r\"$\\tau_{15}$\",r\"$\\tau_{16}$\",r\"$\\tau_{17}$\", r\"$\\tau_{18}$\", r\"$\\tau_{19}$\",r\"$\\tau_{20}$\", r\"$\\tau_{21}$\", r\"$\\tau_{12}$\", r\"$\\tau_{13}$\", r\"$\\tau_{14}$\",\n",
    "            r\"$\\tau_{25}$\",r\"$\\tau_{26}$\",r\"$\\tau_{27}$\", r\"$\\tau_{28}$\", r\"$\\tau_{29}$\"]\n",
    "fig = plt.figure(figsize=(10,10))\n",
    "plt.title('PLGA-PEG in DMSO', fontsize=18)\n",
    "plt.bar(x_pos_n16+(2*width), tz_n16plgapeg, width, ecolor='black',capsize=5, color='maroon', label='N = 16', align='center')\n",
    "plt.bar(x_pos_n20+(width), tz_n20plgapeg, width, ecolor='black',capsize=5, color='orangered', label='N = 20', align='center')\n",
    "plt.bar(x_pos_n30, tz_n30plgapeg, width, ecolor='black',capsize=5, color='darkolivegreen', label='N = 30', align='center')\n",
    "plt.xticks(x_pos_n30, labels=aa_types_n30, fontsize=12)\n",
    "plt.legend(fontsize=12 ,frameon=False)\n",
    "plt.autoscale(enable=True, axis='both')\n",
    "plt.ylabel(r'Relaxation times [ns]', fontsize=15)"
   ]
  },
  {
   "cell_type": "code",
   "execution_count": null,
   "metadata": {},
   "outputs": [],
   "source": [
    "x_pos = np.arange(29)\n",
    "aa_eigen_n30 = [r\"$a_{1}$\", r\"$a_{2}$\", r\"$a_{3}$\", r\"$a_{4}$\", r\"$a_{5}$\",r\"$a_{6}$\",r\"$a_{7}$\",r\"$a_{8}$\",\n",
    "           r\"$a_{9}$\",r\"$a_{10}$\", r\"$a_{11}$\", r\"$a_{12}$\", r\"$a_{13}$\", r\"$a_{14}$\",r\"$a_{15}$\",r\"$a_{16}$\",r\"$a_{17}$\",\n",
    "           r\"$a_{18}$\",r\"$a_{19}$\",r\"$a_{20}$\", r\"$a_{21}$\", r\"$a_{22}$\", r\"$a_{23}$\", r\"$a_{24}$\",r\"$a_{25}$\",r\"$a_{26}$\",\n",
    "            r\"$a_{27}$\",r\"$a_{28}$\",r\"$a_{29}$\"]\n",
    "fig = plt.figure(figsize=(10,10))\n",
    "plt.title('PLGA-PEG in DMSO N = 30', fontsize=18)\n",
    "plt.bar(x_pos_n30, rouse_n30plgapeg, width,ecolor='black',capsize=5, color='c', label='Rouse')\n",
    "plt.bar(x_pos_n30+width, zimm_n30plgapeg, width,ecolor='black',capsize=5, color='m', label='Zimm')\n",
    "plt.xticks(x_pos_n30+width,labels=aa_eigen_n30, fontsize=12)\n",
    "plt.autoscale(enable=True, axis='both')\n",
    "plt.legend(fontsize=12 ,frameon=False)\n",
    "plt.ylabel(r'Rouse and Zimm eigenvalues', fontsize=15)"
   ]
  },
  {
   "cell_type": "code",
   "execution_count": null,
   "metadata": {},
   "outputs": [],
   "source": [
    "plt.figure(figsize=(8,8))\n",
    "plt.rcParams[\"font.family\"] = \"Arial\"\n",
    "plt.scatter(xdata_plgapegn6dmso, ydata_plgapegn6dmso, color='teal', s=s_n6, label=r'$N_{PLGA-PEG}$ = 6')\n",
    "plt.scatter(xdata_plgapegn8dmso, ydata_plgapegn8dmso, color='dodgerblue', s=s_n8, label=r'$N_{PLGA-PEG}$ = 8')\n",
    "plt.scatter(xdata_plgapegn10dmso, ydata_plgapegn10dmso, color='darkmagenta', s=s_n10, label=r'$N_{PLGA-PEG}$ = 10')\n",
    "plt.scatter(xdata_plgapegn16dmso, ydata_plgapegn16dmso, color='maroon', s=s_n16, label=r'$N_{PLGA-PEG}$ = 16')\n",
    "plt.scatter(xdata_plgapegn20dmso, ydata_plgapegn20dmso, color='orangered', s=s_n20, label=r'$N_{PLGA-PEG}$ = 20')\n",
    "plt.scatter(xdata_plgapegn30dmso, ydata_plgapegn30dmso, color='darkolivegreen', s=s_n30, label=r'$N_{PLGA-PEG}$ = 30')\n",
    "plt.plot(xdata_plgapegn6dmso, tdmso_n6plgapeg, color='teal')\n",
    "plt.plot(xdata_plgapegn8dmso, tdmso_n8plgapeg, color='dodgerblue')\n",
    "plt.plot(xdata_plgapegn10dmso, tdmso_n10plgapeg, color='darkmagenta')\n",
    "plt.plot(xdata_plgapegn16dmso, tdmso_n16plgapeg, color='maroon')\n",
    "plt.plot(xdata_plgapegn20dmso, tdmso_n20plgapeg, color='orangered')\n",
    "plt.plot(xdata_plgapegn30dmso, tdmso_n30plgapeg, color='darkolivegreen')\n",
    "plt.title(r'Positional bead autocorrelation PLGA-PEG in DMSO', fontsize=18, y=1.03)\n",
    "plt.xlabel(r'Time lag [ns]', fontsize=18)\n",
    "plt.ylabel('C(t)', fontsize=18)\n",
    "#plt.legend(fontsize=14, frameon=False)\n",
    "plt.xticks(fontsize=18)\n",
    "plt.yticks(fontsize=18)\n",
    "#plt.yscale('symlog', linthreshy=0.5)\n",
    "plt.xscale('symlog')\n",
    "plt.grid(b=True)\n",
    "plt.xlim(0,300)\n",
    "plt.ylim(-1,1)\n",
    "plt.tick_params(labelsize=18, direction='in', which='both', width=1, length=10)"
   ]
  },
  {
   "cell_type": "code",
   "execution_count": null,
   "metadata": {},
   "outputs": [],
   "source": [
    "rppdmso_msen30 = np.array([ydata_plgapegn30dmso- np.array(tdmso_n30plgapeg)])\n",
    "#rpdmso_msen6"
   ]
  },
  {
   "cell_type": "code",
   "execution_count": null,
   "metadata": {},
   "outputs": [],
   "source": [
    "plt.figure(figsize=(7,7))\n",
    "plt.rcParams[\"font.family\"] = \"Arial\"\n",
    "plt.scatter(xdata_plgapegn6dmso, rppdmso_msen6, color='teal', s=s_n6)\n",
    "plt.scatter(xdata_plgapegn8dmso, rppdmso_msen8, color='dodgerblue', s=s_n8)\n",
    "plt.scatter(xdata_plgapegn10dmso, rppdmso_msen10, color='darkmagenta', s=s_n10)\n",
    "plt.scatter(xdata_plgapegn16dmso, rppdmso_msen16, color='maroon', s=s_n16)\n",
    "plt.scatter(xdata_plgapegn20dmso, rppdmso_msen20, color='orangered', s=s_n20)\n",
    "plt.scatter(xdata_plgapegn30dmso, rppdmso_msen30, color='darkolivegreen', s=s_n30)\n",
    "plt.title(r'Relaxation time Fitting Residuals PEG in DMSO', fontsize=18, y=1.01)\n",
    "plt.xlabel(r'Time lag [ns]', fontsize=18)\n",
    "plt.ylabel('Residuals', fontsize=18)\n",
    "plt.xticks(fontsize=14)\n",
    "plt.yticks(fontsize=14)\n",
    "plt.xlim([0,260])\n",
    "plt.ylim([-0.7,1])\n",
    "plt.tick_params(labelsize=15)"
   ]
  },
  {
   "cell_type": "markdown",
   "metadata": {},
   "source": [
    "#### Relaxation Times Alpha Exponent"
   ]
  },
  {
   "cell_type": "code",
   "execution_count": null,
   "metadata": {},
   "outputs": [],
   "source": [
    "out_ppn6dmso.params"
   ]
  },
  {
   "cell_type": "code",
   "execution_count": null,
   "metadata": {},
   "outputs": [],
   "source": [
    "out_ppn8dmso.params"
   ]
  },
  {
   "cell_type": "code",
   "execution_count": null,
   "metadata": {},
   "outputs": [],
   "source": [
    "out_ppn10dmso.params"
   ]
  },
  {
   "cell_type": "code",
   "execution_count": null,
   "metadata": {},
   "outputs": [],
   "source": [
    "out_ppn16dmso.params"
   ]
  },
  {
   "cell_type": "code",
   "execution_count": null,
   "metadata": {},
   "outputs": [],
   "source": [
    "out_ppn20dmso.params"
   ]
  },
  {
   "cell_type": "code",
   "execution_count": null,
   "metadata": {},
   "outputs": [],
   "source": [
    "out_ppn30dmso.params"
   ]
  },
  {
   "cell_type": "code",
   "execution_count": null,
   "metadata": {},
   "outputs": [],
   "source": [
    "zimm_t1_plgapegdmso = np.zeros(shape=(5,6))\n",
    "zimm_t1_plgapegdmso[3] = np.array([6,8,10,16,20,30])\n",
    "zimm_t1_plgapegdmso[0] = np.array([1.69732007, 2.59078779, 4.76278747, 7.84547549, 9.98045843, 33.8204049])\n",
    "zimm_t1_plgapegdmso[1] = np.array([0.01076820, 0.01467422, 0.03009827, 0.03171532, 0.07771197, 0.30859742])\n",
    "zimm_t1_plgapegdmso"
   ]
  },
  {
   "cell_type": "code",
   "execution_count": null,
   "metadata": {},
   "outputs": [],
   "source": [
    "np.log10(zimm_t1_plgapegdmso[0])"
   ]
  },
  {
   "cell_type": "code",
   "execution_count": null,
   "metadata": {},
   "outputs": [],
   "source": [
    "np.log10(zimm_t1_plgapegdmso[3])"
   ]
  },
  {
   "cell_type": "code",
   "execution_count": null,
   "metadata": {},
   "outputs": [],
   "source": [
    "zimm_t1_plgapegdmso[1]"
   ]
  },
  {
   "cell_type": "code",
   "execution_count": null,
   "metadata": {},
   "outputs": [],
   "source": [
    "#Error Propagation: https://terpconnect.umd.edu/~toh/models/ErrorPropagation.pdf\n",
    "t1plgapegdmso_logerr = np.zeros(shape=(6))\n",
    "for i in range(6):\n",
    "    t1plgapegdmso_logerr[i] = 0.434*((zimm_t1_plgapegdmso[1][i])/(zimm_t1_plgapegdmso[0][i]))\n",
    "    \n",
    "t1plgapegdmso_logerr"
   ]
  },
  {
   "cell_type": "code",
   "execution_count": null,
   "metadata": {},
   "outputs": [],
   "source": [
    "zimm_t1_plgapegdmso[2] = t1plgapegdmso_logerr"
   ]
  },
  {
   "cell_type": "code",
   "execution_count": null,
   "metadata": {},
   "outputs": [],
   "source": [
    "plt.figure(figsize=(7,7))\n",
    "plt.errorbar(np.log10(zimm_t1_plgapegdmso[3]), np.log10(zimm_t1_plgapegdmso[0]), yerr=zimm_t1_plgapegdmso[2], color='#0371EC', linestyle=\"None\",marker='o',\n",
    "     capsize=5, capthick=1, ecolor='black')\n",
    "#plt.plot(np.log10(n_plgapeg), gg_dmso, color='#A58262')"
   ]
  },
  {
   "cell_type": "code",
   "execution_count": null,
   "metadata": {},
   "outputs": [],
   "source": [
    "# From fitting all points, I get best fit \n",
    "from sklearn.linear_model import LinearRegression\n",
    "model_alplgapegdmso = LinearRegression(fit_intercept=True)\n",
    "model_alplgapegdmso.fit(np.log10(zimm_t1_plgapegdmso[3]).reshape(-1,1), np.log10(zimm_t1_plgapegdmso[0]))\n",
    "# Slope here is in nanometers\n",
    "print(\"Model slope:    \", model_alplgapegdmso.coef_[0])\n",
    "print(\"Model intercept:\", model_alplgapegdmso.intercept_)"
   ]
  },
  {
   "cell_type": "code",
   "execution_count": null,
   "metadata": {},
   "outputs": [],
   "source": [
    "# https://towardsdatascience.com/how-to-perform-linear-regression-with-confidence-5ed8fc0bb9fe\n",
    "pair_regression(np.log10(zimm_t1_plgapegdmso[3]),np.log10(zimm_t1_plgapegdmso[0]))"
   ]
  },
  {
   "cell_type": "code",
   "execution_count": null,
   "metadata": {},
   "outputs": [],
   "source": [
    "ggal_plgapegdmso = model_alplgapegdmso.predict(np.log10(zimm_t1_plgapegdmso[3]).reshape(-1,1))\n",
    "ggal_plgapegdmso"
   ]
  },
  {
   "cell_type": "code",
   "execution_count": null,
   "metadata": {},
   "outputs": [],
   "source": [
    "np.log10(zimm_t1_plgapegdmso[0])"
   ]
  },
  {
   "cell_type": "code",
   "execution_count": null,
   "metadata": {},
   "outputs": [],
   "source": [
    "# Residuals between the true y data and model y data \n",
    "resid_alpdmso = np.log10(zimm_t1_plgapegdmso[0]) - ggal_plgapegdmso\n",
    "resid_alpdmso"
   ]
  },
  {
   "cell_type": "code",
   "execution_count": null,
   "metadata": {},
   "outputs": [],
   "source": [
    "# How to calculate mean squared error, N - 2 is dof \n",
    "mse_alpdmso = np.sum(resid_alpdmso**2)/(len(resid_alpdmso) - 2)\n",
    "mse_alpdmso"
   ]
  },
  {
   "cell_type": "code",
   "execution_count": null,
   "metadata": {},
   "outputs": [],
   "source": [
    "# Normalized root mean squared error\n",
    "np.sqrt(mse_alpdmso)/(np.max(np.log10(zimm_t1_plgapegdmso[0])) - np.min(np.log10(zimm_t1_plgapegdmso[0])))"
   ]
  },
  {
   "cell_type": "code",
   "execution_count": null,
   "metadata": {},
   "outputs": [],
   "source": [
    "print(\"R2 score:\", sklearn.metrics.r2_score(np.log10(zimm_t1_plgapegdmso[0]), ggal_plgapegdmso))"
   ]
  },
  {
   "cell_type": "code",
   "execution_count": null,
   "metadata": {},
   "outputs": [],
   "source": [
    "# https://towardsdatascience.com/how-to-perform-linear-regression-with-confidence-5ed8fc0bb9fe\n",
    "getPairStats(np.log10(zimm_t1_plgapegdmso[3]),np.log10(zimm_t1_plgapegdmso[0]))"
   ]
  },
  {
   "cell_type": "code",
   "execution_count": null,
   "metadata": {},
   "outputs": [],
   "source": [
    "# How to calculate Sum((Xi - avg(X))^2): X values are the bond length values \n",
    "nt_ttplgapegdmso = np.log10(zimm_t1_plgapegdmso[3]) - np.mean(np.log10(zimm_t1_plgapegdmso[3]))\n",
    "nhui_plgapegdmso = nt_ttplgapegdmso**2\n",
    "np.sum(nhui_plgapegdmso)"
   ]
  },
  {
   "cell_type": "code",
   "execution_count": null,
   "metadata": {},
   "outputs": [],
   "source": [
    "# How to calculate Sxy\n",
    "ata_tr = np.sum((np.log10(zimm_t1_plgapegdmso[0]) - np.mean(np.log10(zimm_t1_plgapegdmso[0])))*(nt_ttplgapegdmso))\n",
    "ata_tr"
   ]
  },
  {
   "cell_type": "code",
   "execution_count": null,
   "metadata": {},
   "outputs": [],
   "source": [
    "# Test statistic, t0\n",
    "slp_esttr = ata_tr/np.sum(nhui_plgapegdmso)\n",
    "slp_esttr/np.sqrt(mse_alpdmso/(np.sum(nhui_plgapegdmso)))"
   ]
  },
  {
   "cell_type": "code",
   "execution_count": null,
   "metadata": {},
   "outputs": [],
   "source": [
    "# t-value with 95 % confidence intervals (alpha/2, n-2)\n",
    "# Value of test statistic is greater than threshold, reject H0\n",
    "n = len(resid_alpdmso) \n",
    "alpha = 0.05\n",
    "scipy.stats.t.ppf(1-alpha/2, n - 2)"
   ]
  },
  {
   "cell_type": "code",
   "execution_count": null,
   "metadata": {},
   "outputs": [],
   "source": [
    "# How to calculate 95% confidence interval for the slope \n",
    "flc_trpdmso = scipy.stats.t.ppf(1-alpha/2, n - 2)*np.sqrt(mse_alpdmso/np.sum(nhui_plgapegdmso))\n",
    "flc_trpdmso"
   ]
  },
  {
   "cell_type": "code",
   "execution_count": null,
   "metadata": {},
   "outputs": [],
   "source": [
    "# standard error of the slope\n",
    "np.sqrt(mse_alpdmso/np.sum(nhui_plgapegdmso))"
   ]
  },
  {
   "cell_type": "code",
   "execution_count": null,
   "metadata": {},
   "outputs": [],
   "source": [
    "# https://towardsdatascience.com/how-to-perform-linear-regression-with-confidence-5ed8fc0bb9fe\n",
    "simple_regression_conf(np.log10(zimm_t1_plgapegdmso[3]),np.log10(zimm_t1_plgapegdmso[0]), alpha=0.05)"
   ]
  },
  {
   "cell_type": "code",
   "execution_count": null,
   "metadata": {},
   "outputs": [],
   "source": [
    "zimm_t1_plgapegdmso[4] = ggal_plgapegdmso\n",
    "zimm_t1_plgapegdmso"
   ]
  },
  {
   "cell_type": "code",
   "execution_count": null,
   "metadata": {},
   "outputs": [],
   "source": [
    "np.save('PLGAPEGdmso_relax_times.npy', zimm_t1_plgapegdmso)"
   ]
  },
  {
   "cell_type": "code",
   "execution_count": null,
   "metadata": {},
   "outputs": [],
   "source": [
    "plt.figure(figsize=(7,7))\n",
    "plt.errorbar(np.log10(zimm_t1_plgapegdmso[3]), np.log10(zimm_t1_plgapegdmso[0]), yerr=zimm_t1_plgapegdmso[2], color='#0371EC', linestyle=\"None\",marker='o',\n",
    "     capsize=5, capthick=1, ecolor='black')\n",
    "plt.plot(np.log10(zimm_t1_plgapegdmso[3]), zimm_t1_plgapegdmso[4], color='#0371EC')\n",
    "plt.title(r'Relaxation Times Scaling Exponent, PLGA-PEG in DMSO', fontsize=15)\n",
    "plt.xlabel(r'Log($N_{PLGA-PEG}$)', fontsize=15)\n",
    "plt.ylabel(r'Log($\\tau_{1}$)', fontsize=15)\n",
    "plt.tick_params(labelsize=14)\n",
    "plt.text(0.9, 1.4, r'$\\alpha_{DMSO}$ = 1.73 ± 0.25', fontsize=15, color='#0371EC')\n",
    "plt.text(0.9, 1.32, r'$R^{2}$ = 0.976, NRMSE = 0.073', fontsize=15, color='#0371EC')"
   ]
  },
  {
   "cell_type": "markdown",
   "metadata": {},
   "source": [
    "#### Radius of Gyration vs. time N = 30 PLGA-PEG in DMSO"
   ]
  },
  {
   "cell_type": "code",
   "execution_count": null,
   "metadata": {},
   "outputs": [],
   "source": [
    "# Key variables \n",
    "n30_mon = 30\n",
    "start = 0\n",
    "end =36001"
   ]
  },
  {
   "cell_type": "code",
   "execution_count": null,
   "metadata": {},
   "outputs": [],
   "source": [
    "n30plgapeg_rgens_dmso, cor_n30plgapeg_dmso, n30plgapeg_cos_dmso, rgdmso_n30plgapeg = get_rg_pers_poly(plgapeg_n30dmso, n30_plgapeg_dmso,\n",
    "                                                                                                  start,end)"
   ]
  },
  {
   "cell_type": "code",
   "execution_count": null,
   "metadata": {},
   "outputs": [],
   "source": [
    "n30plgapeg_rgens_dmso[0].shape"
   ]
  },
  {
   "cell_type": "code",
   "execution_count": null,
   "metadata": {},
   "outputs": [],
   "source": [
    "rgdmso_n30plgapeg"
   ]
  },
  {
   "cell_type": "code",
   "execution_count": null,
   "metadata": {},
   "outputs": [],
   "source": [
    "n30plgapeg_rgens_dmso.shape"
   ]
  },
  {
   "cell_type": "code",
   "execution_count": null,
   "metadata": {},
   "outputs": [],
   "source": [
    "n6plgapeg_rgens_dmso = np.load('poly_strut_data/Rgtime_N6ppdmso.npy', allow_pickle=True)\n",
    "n8plgapeg_rgens_dmso = np.load('poly_strut_data/Rgtime_N8ppdmso.npy', allow_pickle=True)\n",
    "n10plgapeg_rgens_dmso = np.load('poly_strut_data/Rgtime_N10ppdmso.npy', allow_pickle=True)\n",
    "n16plgapeg_rgens_dmso = np.load('poly_strut_data/Rgtime_N16ppdmso.npy', allow_pickle=True)\n",
    "n20plgapeg_rgens_dmso = np.load('poly_strut_data/Rgtime_N20ppdmso.npy', allow_pickle=True)\n",
    "n30plgapeg_rgens_dmso = np.load('poly_strut_data/Rgtime_N30ppdmso.npy', allow_pickle=True)"
   ]
  },
  {
   "cell_type": "code",
   "execution_count": null,
   "metadata": {},
   "outputs": [],
   "source": [
    "trj_len = np.arange(36001)\n",
    "plt.figure(figsize=(7,7))\n",
    "plt.title(r'PLGA-PEG Radius of Gyration', fontsize=18, y=1.01)\n",
    "plt.xlabel(r'Time [ns]', fontsize=15)\n",
    "plt.ylabel(r'$R_{g}$ [nm]', fontsize=15)\n",
    "#plt.plot(trj_len/100, n6plgapeg_rgens_dmso[0]/10,linewidth=2, color='teal')\n",
    "#plt.plot(trj_len/100, n8plgapeg_rgens_dmso[0]/10,linewidth=2, color='dodgerblue')\n",
    "#plt.plot(trj_len/100, n10plgapeg_rgens_dmso[0]/10,linewidth=2, color='darkmagenta')\n",
    "plt.plot(trj_len/100, n16plgapeg_rgens_dmso[0]/10,linewidth=2, color='maroon')\n",
    "plt.plot(trj_len/100, n20plgapeg_rgens_dmso[0]/10,linewidth=2, color='orangered')\n",
    "plt.plot(trj_len/100, n30plgapeg_rgens_dmso[0]/10,linewidth=2, color='darkolivegreen')\n",
    "plt.tick_params(labelsize=14)\n",
    "#plt.legend(['N = 6 in DMSO', 'N = 8 in DMSO','N = 10 in DMSO'],frameon=False, fontsize=14, loc='upper left')\n",
    "plt.legend(['N = 16 in DMSO', 'N = 20 in DMSO','N = 30 in DMSO'],frameon=False, fontsize=14, loc='upper left')\n",
    "#plt.legend(['N = 6 in DMSO', 'N = 8 in DMSO','N = 10 in DMSO','N = 16 in DMSO','N = 20 in DMSO','N = 30 in DMSO'],\n",
    "#           frameon=False, fontsize=14, loc='upper left')\n",
    "#plt.text(127, 0.96,r'N = 6 in DMSO', fontsize=18, color='#1F2E69', family='Arial')\n",
    "plt.xlim(0,360)\n",
    "plt.ylim(0.2,4)"
   ]
  },
  {
   "cell_type": "code",
   "execution_count": null,
   "metadata": {},
   "outputs": [],
   "source": [
    "np.save('Rgtime_N6ppdmso.npy', n6plgapeg_rgens_dmso)\n",
    "np.save('Rgtime_N8ppdmso.npy', n8plgapeg_rgens_dmso)\n",
    "np.save('Rgtime_N10ppdmso.npy', n10plgapeg_rgens_dmso)\n",
    "np.save('Rgtime_N16ppdmso.npy', n16plgapeg_rgens_dmso)\n",
    "np.save('Rgtime_N20ppdmso.npy', n20plgapeg_rgens_dmso)\n",
    "np.save('Rgtime_N30ppdmso.npy', n30plgapeg_rgens_dmso)"
   ]
  },
  {
   "cell_type": "code",
   "execution_count": null,
   "metadata": {},
   "outputs": [],
   "source": [
    "n30plgapeg_rgens_dmso = np.load('poly_strut_data/Rgtime_N30ppdmso.npy', allow_pickle=True)\n",
    "plgapegn30dmso_rh = np.load('poly_strut_data/Rhydtime_N30ppdmso.npy', allow_pickle=True)"
   ]
  },
  {
   "cell_type": "code",
   "execution_count": null,
   "metadata": {},
   "outputs": [],
   "source": [
    "rg_rh_n30plgapegdmso = n30plgapeg_rgens_dmso[0]/plgapegn30dmso_rh"
   ]
  },
  {
   "cell_type": "code",
   "execution_count": null,
   "metadata": {},
   "outputs": [],
   "source": [
    "trj_len = np.arange(rg_rh_n30plgapegdmso.shape[0])\n",
    "trj_len.shape"
   ]
  },
  {
   "cell_type": "code",
   "execution_count": null,
   "metadata": {},
   "outputs": [],
   "source": [
    "plt.figure(figsize=(7,7))\n",
    "plt.plot(trj_len/100, rg_rh_n30plgapegdmso)\n",
    "plt.xlim(0,360)"
   ]
  },
  {
   "cell_type": "code",
   "execution_count": null,
   "metadata": {},
   "outputs": [],
   "source": [
    "rhy_rg_plgapegdmso = np.load('PLGAPEGDMSO_RgRh_Lc.npy', allow_pickle=True)\n",
    "rhy_rg_plgapegdmso[0]"
   ]
  },
  {
   "cell_type": "code",
   "execution_count": null,
   "metadata": {},
   "outputs": [],
   "source": [
    "rhy_rg_plgapegdmso[0][5]"
   ]
  },
  {
   "cell_type": "code",
   "execution_count": null,
   "metadata": {},
   "outputs": [],
   "source": [
    "rg_rh_n30plgapegdmso[6402]"
   ]
  },
  {
   "cell_type": "code",
   "execution_count": null,
   "metadata": {},
   "outputs": [],
   "source": [
    "np.where(rg_rh_n30plgapegdmso < rhy_rg_plgapegdmso[0][5])"
   ]
  },
  {
   "cell_type": "markdown",
   "metadata": {},
   "source": [
    "#### Rg Autocorrelation"
   ]
  },
  {
   "cell_type": "code",
   "execution_count": null,
   "metadata": {},
   "outputs": [],
   "source": [
    "ACn30plgapegdmso_Rg, eqvarRg_n30plgapegdmso = obs_autocorr_RA(n30plgapeg_rgens_dmso[0],t_corr, window_shift,start,end)"
   ]
  },
  {
   "cell_type": "code",
   "execution_count": null,
   "metadata": {},
   "outputs": [],
   "source": [
    "ACn30plgapegdmso_Rg"
   ]
  },
  {
   "cell_type": "code",
   "execution_count": null,
   "metadata": {},
   "outputs": [],
   "source": [
    "eqvarRg_n30plgapegdmso"
   ]
  },
  {
   "cell_type": "code",
   "execution_count": null,
   "metadata": {},
   "outputs": [],
   "source": [
    "plt.figure(figsize=(7,7))\n",
    "plt.title(r'PLGA-PEG in DMSO autocorrelation', fontsize=18, y=1.01)\n",
    "plt.xlabel(r'Time [ns]', fontsize=15)\n",
    "plt.ylabel(r'$C_{A}(t)$', fontsize=15)\n",
    "plt.plot(ACn6plgapegdmso_Rg[1]/100, ACn6plgapegdmso_Rg[0],linewidth=2, color='teal')\n",
    "plt.plot(ACn8plgapegdmso_Rg[1]/100, ACn8plgapegdmso_Rg[0],linewidth=2, color='dodgerblue')\n",
    "plt.plot(ACn10plgapegdmso_Rg[1]/100, ACn10plgapegdmso_Rg[0],linewidth=2, color='darkmagenta')\n",
    "plt.plot(ACn16plgapegdmso_Rg[1]/100, ACn16plgapegdmso_Rg[0],linewidth=2, color='maroon')\n",
    "plt.plot(ACn20plgapegdmso_Rg[1]/100, ACn20plgapegdmso_Rg[0],linewidth=2, color='orangered')\n",
    "plt.plot(ACn30plgapegdmso_Rg[1]/100, ACn30plgapegdmso_Rg[0],linewidth=2, color='darkolivegreen')\n",
    "plt.tick_params(labelsize=14)\n",
    "plt.legend(['N = 6 Rg','N = 8 Rg','N = 10 Rg','N = 16 Rg','N = 20 Rg','N = 30 Rg'], frameon=False, fontsize=14)\n",
    "#plt.legend(['N = 6 Rg','N = 8 Rg','N = 10 Rg','N = 15 Rg'], frameon=False, fontsize=14)\n",
    "#plt.legend(['N = 20 Rg','N = 30 Rg'], frameon=False, fontsize=14)\n",
    "#plt.yscale('symlog', linthreshy=0.5)\n",
    "#plt.xscale('symlog')\n",
    "plt.xlim(0,50)\n",
    "plt.ylim(-2,1)"
   ]
  },
  {
   "cell_type": "markdown",
   "metadata": {},
   "source": [
    "#### Get average COM distance, arch length values"
   ]
  },
  {
   "cell_type": "code",
   "execution_count": null,
   "metadata": {},
   "outputs": [],
   "source": [
    "cb_n30plga = np.zeros(shape=(36001))\n",
    "cb_n30pplinker = np.zeros(shape=(36001))\n",
    "cb_n30peg = np.zeros(shape=(36001))\n",
    "count = 0\n",
    "for ts in n30_plgapeg_dmso.trajectory[0:36001]:\n",
    "    # 1st two PLGA residues\n",
    "    n30m1_plga = n30_plgapeg_dmso.select_atoms(\"resid 1\")\n",
    "    n30m2_plga = n30_plgapeg_dmso.select_atoms(\"resid 2\")\n",
    "    # PLGA-PEG linker (n_mon/2 to get to bPLG res no.)\n",
    "    n30pl_link = n30_plgapeg_dmso.select_atoms(\"resid 15\")\n",
    "    n30peg_link = n30_plgapeg_dmso.select_atoms(\"resid 16\")\n",
    "    # last two PEG residues \n",
    "    n30l1_plgapeg = n30_plgapeg_dmso.select_atoms(\"resid 29\")\n",
    "    n30l2_plgapeg = n30_plgapeg_dmso.select_atoms(\"resid 30\")\n",
    "    \n",
    "    cb_n30plga[count] = mda.analysis.distances.distance_array(n30m1_plga.center_of_mass(), n30m2_plga.center_of_mass(), \n",
    "                                                   box=n30_plgapeg_dmso.trajectory.ts.dimensions)\n",
    "    \n",
    "    cb_n30pplinker[count] = mda.analysis.distances.distance_array(n30pl_link.center_of_mass(), n30peg_link.center_of_mass(), \n",
    "                                                   box=n30_plgapeg_dmso.trajectory.ts.dimensions)\n",
    "    \n",
    "    cb_n30peg[count] = mda.analysis.distances.distance_array(n30l1_plgapeg.center_of_mass(), n30l2_plgapeg.center_of_mass(), \n",
    "                                                   box=n30_plgapeg_dmso.trajectory.ts.dimensions)\n",
    "    \n",
    "    count += 1\n",
    "    \n",
    "\n",
    "    "
   ]
  },
  {
   "cell_type": "code",
   "execution_count": null,
   "metadata": {},
   "outputs": [],
   "source": [
    "COM_ppn30dmso = np.zeros(shape=(3,2))\n",
    "COM_ppn30dmso[0,0] = np.mean(cb_n30plga)\n",
    "COM_ppn30dmso[1,0] = np.mean(cb_n30pplinker)\n",
    "COM_ppn30dmso[2,0] = np.mean(cb_n30peg)\n",
    "COM_ppn30dmso[0,1] = np.std(cb_n30plga)\n",
    "COM_ppn30dmso[1,1] = np.std(cb_n30pplinker)\n",
    "COM_ppn30dmso[2,1] = np.std(cb_n30peg)\n",
    "COM_ppn30dmso"
   ]
  },
  {
   "cell_type": "markdown",
   "metadata": {},
   "source": [
    "#### Correlation values at each arc length for the whole 360 ns trajectory, N = 30 PLGA-PEG/DMSO"
   ]
  },
  {
   "cell_type": "code",
   "execution_count": null,
   "metadata": {},
   "outputs": [],
   "source": [
    "# x values\n",
    "blen_ppn30dmso = np.zeros(shape=29)\n",
    "for i in range(n30_mon-1):\n",
    "    if i < int((n30_mon/2)-1):\n",
    "        # PLGA contour length values\n",
    "        if i == 0:\n",
    "            blen_ppn30dmso[i] = 0\n",
    "        elif i != 0:\n",
    "            blen_ppn30dmso[i] = np.sum(blen_ppn30dmso[i-1]) + COM_ppn30dmso[0,0]    \n",
    "    elif i == int((n30_mon/2)-1):\n",
    "        #PLGA-PEG linker length\n",
    "        blen_ppn30dmso[i] = np.sum(blen_ppn30dmso[i-1]) + COM_ppn30dmso[1,0]\n",
    "    elif i > int((n30_mon/2)-1):\n",
    "    #    # PEG contour length values\n",
    "        blen_ppn30dmso[i] = np.sum(blen_ppn30dmso[i-1]) + COM_ppn30dmso[2,0]\n",
    "        \n",
    "blen_ppn30dmso"
   ]
  },
  {
   "cell_type": "code",
   "execution_count": null,
   "metadata": {},
   "outputs": [],
   "source": [
    "plt.figure(figsize=(7,7))\n",
    "plt.errorbar(blen_ppn30dmso, cor_n30plgapeg_dmso[0], yerr=cor_n30plgapeg_dmso[1], color='teal', linestyle=\"None\",marker='o',\n",
    "     capsize=5, capthick=1, ecolor='black')"
   ]
  },
  {
   "cell_type": "code",
   "execution_count": null,
   "metadata": {},
   "outputs": [],
   "source": [
    "# Error prop. into natural log std deviation\n",
    "mk_n30ppdmso = cor_n30plgapeg_dmso[1]/cor_n30plgapeg_dmso[0]\n",
    "mk_n30ppdmso"
   ]
  },
  {
   "cell_type": "code",
   "execution_count": null,
   "metadata": {},
   "outputs": [],
   "source": [
    "cor_n30plgapeg_dmso[0]"
   ]
  },
  {
   "cell_type": "code",
   "execution_count": null,
   "metadata": {},
   "outputs": [],
   "source": [
    "cor_n30plgapeg_dmso[1].shape"
   ]
  },
  {
   "cell_type": "code",
   "execution_count": null,
   "metadata": {},
   "outputs": [],
   "source": [
    "a = np.arange(29)\n",
    "p1 = np.ma.masked_where(a == 25, np.log(cor_n30plgapeg_dmso[0]))\n",
    "costh_n30dmso = np.ma.masked_where(a == 26, p1)\n",
    "e1 = np.ma.masked_where(a == 25, mk_n30ppdmso)\n",
    "errln_n30dmso  = np.ma.masked_where(a == 26, e1)"
   ]
  },
  {
   "cell_type": "code",
   "execution_count": null,
   "metadata": {},
   "outputs": [],
   "source": [
    "mk_n30ppdmso[25] = 0\n",
    "mk_n30ppdmso[26] = 0\n",
    "mk_n30ppdmso"
   ]
  },
  {
   "cell_type": "code",
   "execution_count": null,
   "metadata": {},
   "outputs": [],
   "source": [
    "mk_n30ppdmso = cor_n30plgapeg_dmso[1]/cor_n30plgapeg_dmso[0]\n",
    "plt.figure(figsize=(7,7))\n",
    "plt.errorbar(blen_ppn30dmso, costh_n30dmso, yerr=errln_n30dmso, color='teal', linestyle=\"None\",marker='o',\n",
    "     capsize=5, capthick=1, ecolor='black')"
   ]
  },
  {
   "cell_type": "code",
   "execution_count": null,
   "metadata": {},
   "outputs": [],
   "source": [
    "plt.figure(figsize=(7,7))\n",
    "plt.errorbar(blen_ppn30dmso, np.log(cor_n30plgapeg_dmso[0]), yerr=mk_n30ppdmso, color='teal', linestyle=\"None\",marker='o',\n",
    "     capsize=5, capthick=1, ecolor='black')"
   ]
  },
  {
   "cell_type": "code",
   "execution_count": null,
   "metadata": {},
   "outputs": [],
   "source": [
    "# All the points give the best fits for N = 6 peg in DMSO\n",
    "n30_blksplgapeg_dmso , n30plgapeg_lpdmso = bavg_pers_cnt(5, plgapeg_n30dmso, n30_plgapeg_dmso, blen_ppn30dmso, 5, 0 , 36001)"
   ]
  },
  {
   "cell_type": "code",
   "execution_count": null,
   "metadata": {},
   "outputs": [],
   "source": [
    "n30_blksplgapeg_dmso"
   ]
  },
  {
   "cell_type": "code",
   "execution_count": null,
   "metadata": {},
   "outputs": [],
   "source": [
    "np.save(\"N6blksppdmso.npy\", n6_blksplgapeg_dmso)\n",
    "np.save(\"N8blksppdmso.npy\", n8_blksplgapeg_dmso)\n",
    "np.save(\"N10blksppdmso.npy\", n10_blksplgapeg_dmso)\n",
    "np.save(\"N16blksppdmso.npy\", n16_blksplgapeg_dmso)\n",
    "np.save(\"N20blksppdmso.npy\", n20_blksplgapeg_dmso)\n",
    "np.save(\"N30blksppdmso.npy\", n30_blksplgapeg_dmso)"
   ]
  },
  {
   "cell_type": "code",
   "execution_count": null,
   "metadata": {},
   "outputs": [],
   "source": [
    "n30plgapeg_lpdmso"
   ]
  },
  {
   "cell_type": "code",
   "execution_count": null,
   "metadata": {},
   "outputs": [],
   "source": [
    "n30plgapeg_lpdmso[2]"
   ]
  },
  {
   "cell_type": "code",
   "execution_count": null,
   "metadata": {},
   "outputs": [],
   "source": [
    "np.mean(n30plgapeg_lpdmso[3])"
   ]
  },
  {
   "cell_type": "markdown",
   "metadata": {},
   "source": [
    "#### line fitted to cosine theta values using mean slope"
   ]
  },
  {
   "cell_type": "code",
   "execution_count": null,
   "metadata": {},
   "outputs": [],
   "source": [
    "blen_ppn30dmso"
   ]
  },
  {
   "cell_type": "code",
   "execution_count": null,
   "metadata": {},
   "outputs": [],
   "source": [
    "gg_n30plgapeg_dmso = line_fit(np.mean(n30plgapeg_lpdmso[2]),blen_ppn30dmso)"
   ]
  },
  {
   "cell_type": "code",
   "execution_count": null,
   "metadata": {},
   "outputs": [],
   "source": [
    "gg_n20plgapeg_n30dmso = line_fit(np.mean(n20plgapeg_lpdmso[2]),blen_ppn30dmso)"
   ]
  },
  {
   "cell_type": "code",
   "execution_count": null,
   "metadata": {},
   "outputs": [],
   "source": [
    "gg_n16plgapeg_n30dmso = line_fit(np.mean(n16plgapeg_lpdmso[2]),blen_ppn30dmso)"
   ]
  },
  {
   "cell_type": "code",
   "execution_count": null,
   "metadata": {},
   "outputs": [],
   "source": [
    "gg_n10plgapeg_n30dmso = line_fit(np.mean(n10plgapeg_lpdmso[2]),blen_ppn30dmso)"
   ]
  },
  {
   "cell_type": "code",
   "execution_count": null,
   "metadata": {},
   "outputs": [],
   "source": [
    "gg_n8plgapeg_n30dmso = line_fit(np.mean(n8plgapeg_lpdmso[2]),blen_ppn30dmso)"
   ]
  },
  {
   "cell_type": "code",
   "execution_count": null,
   "metadata": {},
   "outputs": [],
   "source": [
    "gg_n6plgapeg_n30dmso = line_fit(np.mean(n6plgapeg_lpdmso[2]),blen_ppn30dmso)"
   ]
  },
  {
   "cell_type": "code",
   "execution_count": null,
   "metadata": {},
   "outputs": [],
   "source": [
    "gg_n30plgapeg_dmso"
   ]
  },
  {
   "cell_type": "markdown",
   "metadata": {},
   "source": [
    "#### Block averaged Rg, Ree, Rh, mean sq. Ree and mean sq. Rg persistence length, N = 30 PLGA-PEG in DMSO"
   ]
  },
  {
   "cell_type": "code",
   "execution_count": null,
   "metadata": {},
   "outputs": [],
   "source": [
    "blppn30dmso = []\n",
    "for i in range(n30_mon-1):\n",
    "    if i < int((n30_mon/2)-1):\n",
    "        # PLGA contour length values\n",
    "        blppn30dmso.append(COM_ppn30dmso[0,0])    \n",
    "    elif i == int((n30_mon/2)-1):\n",
    "        #PLGA-PEG linker length\n",
    "        blppn30dmso.append(COM_ppn30dmso[1,0]) \n",
    "    elif i > int((n30_mon/2)-1):\n",
    "    #    # PEG contour length values\n",
    "        blppn30dmso.append(COM_ppn30dmso[2,0]) \n",
    "\n",
    "# Contour Length, N = 6 PLGA-PEG in DMSO\n",
    "lc_ppn30dmso = np.sum(blppn30dmso)\n",
    "lc_ppn30dmso"
   ]
  },
  {
   "cell_type": "markdown",
   "metadata": {},
   "source": [
    "#### Mean sq. e2e/Mean sq. Rg vs contour length PLGA-PEG in DMSO"
   ]
  },
  {
   "cell_type": "code",
   "execution_count": null,
   "metadata": {},
   "outputs": [],
   "source": [
    "# Ree^2/Rg^2 array at different contour lengths\n",
    "re2e_rgsq_plgapegdmso[1,5] = lc_ppn30dmso\n",
    "re2e_rgsq_plgapegdmso"
   ]
  },
  {
   "cell_type": "code",
   "execution_count": null,
   "metadata": {},
   "outputs": [],
   "source": [
    "a_ppn30dmso = np.mean(n30_blksplgapeg_dmso['Avg Sq. end to end distance'])"
   ]
  },
  {
   "cell_type": "code",
   "execution_count": null,
   "metadata": {},
   "outputs": [],
   "source": [
    "b_ppn30dmso = np.mean(n30_blksplgapeg_dmso['Avg Sq. radius of gyration'])"
   ]
  },
  {
   "cell_type": "code",
   "execution_count": null,
   "metadata": {},
   "outputs": [],
   "source": [
    "re2e_rgsq_plgapegdmso[0,5] = a_ppn30dmso/b_ppn30dmso\n",
    "re2e_rgsq_plgapegdmso"
   ]
  },
  {
   "cell_type": "markdown",
   "metadata": {},
   "source": [
    "#### Error propagation: Mean sq. e2e/Mean sq. Rg"
   ]
  },
  {
   "cell_type": "code",
   "execution_count": null,
   "metadata": {},
   "outputs": [],
   "source": [
    "e2esq_plgapegdmso = np.array([a_ppn6dmso,a_ppn8dmso, a_ppn10dmso, a_ppn16dmso,a_ppn20dmso, a_ppn30dmso])\n",
    "e2esq_plgapegdmso"
   ]
  },
  {
   "cell_type": "code",
   "execution_count": null,
   "metadata": {},
   "outputs": [],
   "source": [
    "rgsq_plgapegdmso = np.array([b_ppn6dmso,b_ppn8dmso, b_ppn10dmso, b_ppn16dmso, b_ppn20dmso, b_ppn30dmso])\n",
    "rgsq_plgapegdmso"
   ]
  },
  {
   "cell_type": "code",
   "execution_count": null,
   "metadata": {},
   "outputs": [],
   "source": [
    "# Error Propagation: https://terpconnect.umd.edu/~toh/models/ErrorPropagation.pdf\n",
    "stde2e_pdmso = np.array([np.std(n6_blksplgapeg_dmso['Avg Sq. end to end distance']),\n",
    "                         np.std(n8_blksplgapeg_dmso['Avg Sq. end to end distance']),\n",
    "                        np.std(n10_blksplgapeg_dmso['Avg Sq. end to end distance']),\n",
    "                         np.std(n16_blksplgapeg_dmso['Avg Sq. end to end distance']),\n",
    "                        np.std(n20_blksplgapeg_dmso['Avg Sq. end to end distance']),\n",
    "                        np.std(n30_blksplgapeg_dmso['Avg Sq. end to end distance'])])\n",
    "stde2e_pdmso"
   ]
  },
  {
   "cell_type": "code",
   "execution_count": null,
   "metadata": {},
   "outputs": [],
   "source": [
    "stdrgsq_pdmso = np.array([np.std(n6_blksplgapeg_dmso['Avg Sq. radius of gyration']),\n",
    "                         np.std(n8_blksplgapeg_dmso['Avg Sq. radius of gyration']),\n",
    "                         np.std(n10_blksplgapeg_dmso['Avg Sq. radius of gyration']),\n",
    "                          np.std(n16_blksplgapeg_dmso['Avg Sq. radius of gyration']),\n",
    "                         np.std(n20_blksplgapeg_dmso['Avg Sq. radius of gyration']),\n",
    "                         np.std(n30_blksplgapeg_dmso['Avg Sq. radius of gyration'])])\n",
    "stdrgsq_pdmso"
   ]
  },
  {
   "cell_type": "code",
   "execution_count": null,
   "metadata": {},
   "outputs": [],
   "source": [
    "re2e_rgsq_plgapegdmso[0]"
   ]
  },
  {
   "cell_type": "code",
   "execution_count": null,
   "metadata": {},
   "outputs": [],
   "source": [
    "x_pdmso = np.zeros(shape=6)\n",
    "for i in range(6):\n",
    "    ad_s = np.sqrt((((stde2e_pdmso[i]/e2esq_plgapegdmso[i])**2) + ((stdrgsq_pdmso[i]/rgsq_plgapegdmso[i])**2)))\n",
    "    x_pdmso[i] = re2e_rgsq_plgapegdmso[0][i]*ad_s\n",
    "    \n",
    "x_pdmso"
   ]
  },
  {
   "cell_type": "code",
   "execution_count": null,
   "metadata": {},
   "outputs": [],
   "source": [
    "re2e_rgsq_plgapegdmso"
   ]
  },
  {
   "cell_type": "code",
   "execution_count": null,
   "metadata": {},
   "outputs": [],
   "source": [
    "re2e_rgsq_plgapegdmso[2] = x_pdmso\n",
    "re2e_rgsq_plgapegdmso"
   ]
  },
  {
   "cell_type": "code",
   "execution_count": null,
   "metadata": {},
   "outputs": [],
   "source": [
    "re2e_rgsq_plgapegdmso.shape"
   ]
  },
  {
   "cell_type": "code",
   "execution_count": null,
   "metadata": {},
   "outputs": [],
   "source": [
    "np.save('PLGA-PEGdmso_msRee_msRg.npy', re2e_rgsq_plgapegdmso)"
   ]
  },
  {
   "cell_type": "code",
   "execution_count": null,
   "metadata": {},
   "outputs": [],
   "source": [
    "plt.figure(figsize=(7,7))\n",
    "plt.errorbar(re2e_rgsq_plgapegdmso[1]/10, re2e_rgsq_plgapegdmso[0], yerr=re2e_rgsq_plgapegdmso[2], color='#0371EC', linestyle=\"-\",marker='v',\n",
    "     capsize=5, capthick=1, ecolor='#0371EC')\n",
    "plt.title('Mean sq. Ree/Mean sq. Rg, PLGA-PEG in DMSO', fontsize=15, y=1.01)\n",
    "plt.xlabel(r'Contour Length, $L_{c}$ [nm]', fontsize=15)\n",
    "plt.ylabel(r'$\\left<R_{ee}^{2}\\right>/\\left<R_{g}^{2}\\right>$', fontsize=15)\n",
    "plt.xticks(fontsize=15)\n",
    "plt.yticks(fontsize=15)\n",
    "plt.xlim(1,15)\n",
    "plt.ylim(0,10)"
   ]
  },
  {
   "cell_type": "markdown",
   "metadata": {},
   "source": [
    "#### Rg/Rh vs contour length PLGA-PEG in DMSO"
   ]
  },
  {
   "cell_type": "code",
   "execution_count": null,
   "metadata": {},
   "outputs": [],
   "source": [
    "# Rg/Rh array at different contour lengths \n",
    "rhy_rg_plgapegdmso[1,5] = lc_ppn30dmso\n",
    "rhy_rg_plgapegdmso"
   ]
  },
  {
   "cell_type": "code",
   "execution_count": null,
   "metadata": {},
   "outputs": [],
   "source": [
    "aa_ppn30dmso = np.mean(n30_blksplgapeg_dmso['Avg Radius of gyration'])"
   ]
  },
  {
   "cell_type": "code",
   "execution_count": null,
   "metadata": {},
   "outputs": [],
   "source": [
    "bb_ppn30dmso = np.mean(n30_blksplgapeg_dmso['Avg Hydrodynamic radius'])"
   ]
  },
  {
   "cell_type": "code",
   "execution_count": null,
   "metadata": {},
   "outputs": [],
   "source": [
    "rhy_rg_plgapegdmso[0,5] = aa_ppn30dmso/bb_ppn30dmso\n",
    "rhy_rg_plgapegdmso"
   ]
  },
  {
   "cell_type": "code",
   "execution_count": null,
   "metadata": {},
   "outputs": [],
   "source": [
    "rhy_rg_plgapegdmso"
   ]
  },
  {
   "cell_type": "markdown",
   "metadata": {},
   "source": [
    "#### Error Propagation: Rg/Rh vs contour length"
   ]
  },
  {
   "cell_type": "code",
   "execution_count": null,
   "metadata": {},
   "outputs": [],
   "source": [
    "rgsys_plgapegdmso = np.array([aa_ppn6dmso,aa_ppn8dmso, aa_ppn10dmso, aa_ppn16dmso,aa_ppn20dmso, aa_ppn30dmso])\n",
    "rgsys_plgapegdmso"
   ]
  },
  {
   "cell_type": "code",
   "execution_count": null,
   "metadata": {},
   "outputs": [],
   "source": [
    "rhydsys_plgapegdmso = np.array([bb_ppn6dmso,bb_ppn8dmso, bb_ppn10dmso, bb_ppn16dmso, bb_ppn20dmso, bb_ppn30dmso])\n",
    "rhydsys_plgapegdmso"
   ]
  },
  {
   "cell_type": "code",
   "execution_count": null,
   "metadata": {},
   "outputs": [],
   "source": [
    "# Error Propagation: https://terpconnect.umd.edu/~toh/models/ErrorPropagation.pdf\n",
    "stdrg_pdmso = np.array([np.std(n6_blksplgapeg_dmso['Avg Radius of gyration']),\n",
    "                         np.std(n8_blksplgapeg_dmso['Avg Radius of gyration']),\n",
    "                        np.std(n10_blksplgapeg_dmso['Avg Radius of gyration']),\n",
    "                        np.std(n16_blksplgapeg_dmso['Avg Radius of gyration']),\n",
    "                        np.std(n20_blksplgapeg_dmso['Avg Radius of gyration']),\n",
    "                        np.std(n30_blksplgapeg_dmso['Avg Radius of gyration'])])\n",
    "stdrg_pdmso"
   ]
  },
  {
   "cell_type": "code",
   "execution_count": null,
   "metadata": {},
   "outputs": [],
   "source": [
    "std_rhydsq_pdmso = np.array([np.std(n6_blksplgapeg_dmso['Avg Hydrodynamic radius']),\n",
    "                         np.std(n8_blksplgapeg_dmso['Avg Hydrodynamic radius']),\n",
    "                         np.std(n10_blksplgapeg_dmso['Avg Hydrodynamic radius']),\n",
    "                          np.std(n16_blksplgapeg_dmso['Avg Hydrodynamic radius']),    \n",
    "                         np.std(n20_blksplgapeg_dmso['Avg Hydrodynamic radius']),\n",
    "                         np.std(n30_blksplgapeg_dmso['Avg Hydrodynamic radius'])])\n",
    "std_rhydsq_pdmso"
   ]
  },
  {
   "cell_type": "code",
   "execution_count": null,
   "metadata": {},
   "outputs": [],
   "source": [
    "xrgrh_pdmso = np.zeros(shape=6)\n",
    "for i in range(6):\n",
    "    adn1_s = np.sqrt((((stdrg_pdmso[i]/rgsys_plgapegdmso[i])**2) + ((std_rhydsq_pdmso[i]/rhydsys_plgapegdmso[i])**2)))\n",
    "    xrgrh_pdmso[i] = rhy_rg_plgapegdmso[0][i]*adn1_s\n",
    "    \n",
    "xrgrh_pdmso"
   ]
  },
  {
   "cell_type": "code",
   "execution_count": null,
   "metadata": {},
   "outputs": [],
   "source": [
    "rhy_rg_plgapegdmso"
   ]
  },
  {
   "cell_type": "code",
   "execution_count": null,
   "metadata": {},
   "outputs": [],
   "source": [
    "rhy_rg_plgapegdmso[2] = xrgrh_pdmso\n",
    "rhy_rg_plgapegdmso"
   ]
  },
  {
   "cell_type": "code",
   "execution_count": null,
   "metadata": {},
   "outputs": [],
   "source": [
    "np.save('PLGAPEGDMSO_RgRh_Lc.npy', rhy_rg_plgapegdmso)"
   ]
  },
  {
   "cell_type": "code",
   "execution_count": null,
   "metadata": {},
   "outputs": [],
   "source": [
    "plt.figure(figsize=(7,7))\n",
    "plt.errorbar(rhy_rg_plgapegdmso[1]/10, rhy_rg_plgapegdmso[0], yerr=rhy_rg_plgapegdmso[2], color='#0371EC', linestyle=\"-\",\n",
    "             marker='^', capsize=5, capthick=1, ecolor='#0371EC')\n",
    "plt.title(r'Rg/Rh PLGA-PEG in DMSO', fontsize=15, y=1.01)\n",
    "plt.xlabel(r'Contour Length, $L_{c}$ [nm]', fontsize=15)\n",
    "plt.ylabel(r'$\\left<R_{g}\\right>/\\left<R_{hyd}\\right>$', fontsize=15)\n",
    "plt.xlim(1,15)\n",
    "plt.xticks(fontsize=15)\n",
    "plt.yticks(fontsize=15)\n",
    "plt.ylim(0.3,0.7)"
   ]
  },
  {
   "cell_type": "markdown",
   "metadata": {},
   "source": [
    "### kuhn lenght vs monomer length"
   ]
  },
  {
   "cell_type": "code",
   "execution_count": null,
   "metadata": {},
   "outputs": [],
   "source": [
    "REElclk_plgapegdmso = np.load('PLGAPEGDMSO_REElclk.npy', allow_pickle=True)"
   ]
  },
  {
   "cell_type": "code",
   "execution_count": null,
   "metadata": {},
   "outputs": [],
   "source": [
    "REElclk_plgapegdmso = np.zeros(shape=(4,6))\n",
    "REElclk_plgapegdmso[0] = e2esq_plgapegdmso\n",
    "REElclk_plgapegdmso[1] = rhy_rg_plgapegdmso[1]\n",
    "REElclk_plgapegdmso[2] = stde2e_pdmso"
   ]
  },
  {
   "cell_type": "code",
   "execution_count": null,
   "metadata": {},
   "outputs": [],
   "source": [
    "plt.figure(figsize=(7,7))\n",
    "plt.errorbar(REElclk_plgapegdmso[1], REElclk_plgapegdmso[0], color='#0371EC', yerr=REElclk_plgapegdmso[2], linestyle=\"None\",marker='o',\n",
    "     capsize=5, capthick=1, ecolor='#0371EC')"
   ]
  },
  {
   "cell_type": "code",
   "execution_count": null,
   "metadata": {},
   "outputs": [],
   "source": [
    "# Linear fitting procedure: https://www2.isye.gatech.edu/~yxie77/isye2028/lecture12.pdf\n",
    "ne2e = REElclk_plgapegdmso[1]\n",
    "from sklearn.linear_model import LinearRegression\n",
    "model_e2eppdmso = LinearRegression(fit_intercept=True)\n",
    "model_e2eppdmso.fit(ne2e.reshape(-1,1), REElclk_plgapegdmso[0])\n",
    "# Slope here is in angstroms\n",
    "print(\"Model slope:    \", model_e2eppdmso.coef_[0])\n",
    "print(\"Model intercept:\", model_e2eppdmso.intercept_)"
   ]
  },
  {
   "cell_type": "code",
   "execution_count": null,
   "metadata": {},
   "outputs": [],
   "source": [
    "# https://towardsdatascience.com/how-to-perform-linear-regression-with-confidence-5ed8fc0bb9fe\n",
    "pair_regression(REElclk_plgapegdmso[1],REElclk_plgapegdmso[0])"
   ]
  },
  {
   "cell_type": "code",
   "execution_count": null,
   "metadata": {},
   "outputs": [],
   "source": [
    "gge2e_ppdmso = model_e2eppdmso.predict(ne2e.reshape(-1,1))\n",
    "gge2e_ppdmso"
   ]
  },
  {
   "cell_type": "code",
   "execution_count": null,
   "metadata": {},
   "outputs": [],
   "source": [
    "REElclk_plgapegdmso[0]"
   ]
  },
  {
   "cell_type": "code",
   "execution_count": null,
   "metadata": {},
   "outputs": [],
   "source": [
    "# Residuals between the true y data and model y data \n",
    "resid_e2eppdmso = REElclk_plgapegdmso[0] - gge2e_ppdmso\n",
    "resid_e2eppdmso"
   ]
  },
  {
   "cell_type": "code",
   "execution_count": null,
   "metadata": {},
   "outputs": [],
   "source": [
    "# How to calculate mean squared error, N - 2 is dof \n",
    "mse_e2eppdmso = np.sum(resid_e2eppdmso**2)/(len(resid_e2eppdmso) - 2)\n",
    "mse_e2eppdmso"
   ]
  },
  {
   "cell_type": "code",
   "execution_count": null,
   "metadata": {},
   "outputs": [],
   "source": [
    "# Normalized root mean squared error\n",
    "np.sqrt(mse_e2eppdmso)/(np.max(REElclk_plgapegdmso[0]) - np.min(REElclk_plgapegdmso[0]))"
   ]
  },
  {
   "cell_type": "code",
   "execution_count": null,
   "metadata": {},
   "outputs": [],
   "source": [
    "print(\"R2 score:\", sklearn.metrics.r2_score(REElclk_plgapegdmso[0].reshape(-1,1), gge2e_ppdmso))"
   ]
  },
  {
   "cell_type": "code",
   "execution_count": null,
   "metadata": {},
   "outputs": [],
   "source": [
    "# https://towardsdatascience.com/how-to-perform-linear-regression-with-confidence-5ed8fc0bb9fe\n",
    "getPairStats(REElclk_plgapegdmso[1],REElclk_plgapegdmso[0])"
   ]
  },
  {
   "cell_type": "code",
   "execution_count": null,
   "metadata": {},
   "outputs": [],
   "source": [
    "# How to calculate Sxx\n",
    "nt_tte2epd = ne2e - np.mean(ne2e)\n",
    "nhui_e2epd = nt_tte2epd**2\n",
    "np.sum(nhui_e2epd)"
   ]
  },
  {
   "cell_type": "code",
   "execution_count": null,
   "metadata": {},
   "outputs": [],
   "source": [
    "# How to calculate Sxy\n",
    "ata = np.sum((REElclk_plgapegdmso[0] - np.mean(REElclk_plgapegdmso[0]))*(ne2e - np.mean(ne2e)))\n",
    "ata"
   ]
  },
  {
   "cell_type": "code",
   "execution_count": null,
   "metadata": {},
   "outputs": [],
   "source": [
    "# Test statistic, t0\n",
    "(ata/np.sum(nhui_e2epd))/np.sqrt(mse_e2eppdmso/(np.sum(nhui_e2epd)))"
   ]
  },
  {
   "cell_type": "code",
   "execution_count": null,
   "metadata": {},
   "outputs": [],
   "source": [
    "# t-value with 95 % confidence intervals (alpha, n-2)\n",
    "# Value of test statistic is greater than threshold, reject H0\n",
    "n = len(resid_e2eppdmso) \n",
    "alpha = 0.05\n",
    "scipy.stats.t.ppf(1-alpha/2, n - 2)\n",
    "#scipy.stats.t.ppf(0.95, len(resid_e2epgdmso) - 1)"
   ]
  },
  {
   "cell_type": "code",
   "execution_count": null,
   "metadata": {},
   "outputs": [],
   "source": [
    "# How to calculate 95% confidence interval for the slope \n",
    "flc_e2epd = scipy.stats.t.ppf(1-alpha/2, n - 2)*np.sqrt(mse_e2eppdmso/(np.sum(nhui_e2epd)))\n",
    "flc_e2epd"
   ]
  },
  {
   "cell_type": "code",
   "execution_count": null,
   "metadata": {},
   "outputs": [],
   "source": [
    "# standard error of the slope\n",
    "np.sqrt(mse_e2eppdmso/np.sum(nhui_e2epd))"
   ]
  },
  {
   "cell_type": "code",
   "execution_count": null,
   "metadata": {},
   "outputs": [],
   "source": [
    "# https://towardsdatascience.com/how-to-perform-linear-regression-with-confidence-5ed8fc0bb9fe\n",
    "simple_regression_conf(REElclk_plgapegdmso[1],REElclk_plgapegdmso[0], alpha=0.05)"
   ]
  },
  {
   "cell_type": "code",
   "execution_count": null,
   "metadata": {},
   "outputs": [],
   "source": [
    "REElclk_plgapegdmso[3] = gge2e_ppdmso\n",
    "REElclk_plgapegdmso"
   ]
  },
  {
   "cell_type": "code",
   "execution_count": null,
   "metadata": {},
   "outputs": [],
   "source": [
    "np.save('PLGAPEGDMSO_REElclk.npy', REElclk_plgapegdmso)"
   ]
  },
  {
   "cell_type": "code",
   "execution_count": null,
   "metadata": {},
   "outputs": [],
   "source": [
    "plt.figure(figsize=(7,7))\n",
    "plt.errorbar(REElclk_plgapegdmso[1], REElclk_plgapegdmso[0], color='#0371EC', yerr=REElclk_plgapegdmso[2], linestyle=\"None\",marker='v',\n",
    "     capsize=5, capthick=1, ecolor='#0371EC')\n",
    "plt.plot(REElclk_plgapegdmso[1], REElclk_plgapegdmso[3], color='#0371EC')\n",
    "plt.title(r'Kuhn Length, PLGA-PEG in DMSO', fontsize=15)\n",
    "plt.ylabel(r'$\\left<R_{ee}^{2}\\right>$', fontsize=15)\n",
    "plt.xlabel(r'Contour Length, $L_{c}$ [$\\AA$]', fontsize=15)\n",
    "plt.tick_params(labelsize=14)\n",
    "plt.text(30, 2000, r'$l^{DMSO}_{k}$ = 12.6 $\\AA$ ± 0.56 $\\AA$', fontsize=15, color='#0371EC')\n",
    "plt.text(30, 1860, r'$R^{2}$ = 0.992, NRMSE = 0.037', fontsize=15, color='#0371EC')\n",
    "plt.xlim(10,150)\n",
    "plt.ylim(0,2500)"
   ]
  },
  {
   "cell_type": "markdown",
   "metadata": {},
   "source": [
    "#### Lp alternate method"
   ]
  },
  {
   "cell_type": "code",
   "execution_count": null,
   "metadata": {},
   "outputs": [],
   "source": [
    "REElclk_plgapegdmso"
   ]
  },
  {
   "cell_type": "code",
   "execution_count": null,
   "metadata": {},
   "outputs": [],
   "source": [
    "plt.figure(figsize=(7,7))\n",
    "plt.errorbar(REElclk_plgapegdmso[1], REElclk_plgapegdmso[0], color='#0371EC', yerr=REElclk_plgapegdmso[2], linestyle=\"None\",marker='v',\n",
    "     capsize=5, capthick=1, ecolor='#0371EC')\n",
    "#plt.plot(REElclk_plgapegdmso[1]/10, REElclk_plgapegdmso[3], color='#0371EC')\n",
    "plt.title(r'Kuhn Length, PLGA-PEG in DMSO', fontsize=15)\n",
    "plt.ylabel(r'$\\left<R_{ee}^{2}\\right>$', fontsize=15)\n",
    "plt.xlabel(r'Contour Length, $L_{c}$ [A]', fontsize=15)\n",
    "plt.tick_params(labelsize=14)\n",
    "plt.xlim(10,150)\n",
    "plt.ylim(0,3000)"
   ]
  },
  {
   "cell_type": "code",
   "execution_count": null,
   "metadata": {},
   "outputs": [],
   "source": [
    "REElclk_plgapegdmso[2]"
   ]
  },
  {
   "cell_type": "code",
   "execution_count": null,
   "metadata": {},
   "outputs": [],
   "source": [
    "REElclk_plgapegdmso[1]"
   ]
  },
  {
   "cell_type": "code",
   "execution_count": null,
   "metadata": {},
   "outputs": [],
   "source": [
    "REElclk_plgapegdmso[0]"
   ]
  },
  {
   "cell_type": "code",
   "execution_count": null,
   "metadata": {},
   "outputs": [],
   "source": [
    "def sqree_lpfitting(lc, lp):\n",
    "    \n",
    "    fir_p = 2*lp*lc\n",
    "    \n",
    "    sec_p = 1 - ((lp/lc)*(1 - np.exp(-lc/lp)))\n",
    "    \n",
    "    return fir_p*sec_p\n",
    "    "
   ]
  },
  {
   "cell_type": "code",
   "execution_count": null,
   "metadata": {},
   "outputs": [],
   "source": [
    "sqree_lpfitting(16.2, 3.8)"
   ]
  },
  {
   "cell_type": "code",
   "execution_count": null,
   "metadata": {},
   "outputs": [],
   "source": [
    "def perslen_fitplgapegdmso(varbs, xlc, yree):\n",
    "    fir_varb = varbs['lp']\n",
    "    test_yree = []\n",
    "    \n",
    "    for i in range(len(xlc)):\n",
    "        model_yree = sqree_lpfitting(xlc[i],fir_varb)\n",
    "        test_yree.append(yree[i]- model_yree)\n",
    "        \n",
    "    return np.array(test_yree)"
   ]
  },
  {
   "cell_type": "code",
   "execution_count": null,
   "metadata": {},
   "outputs": [],
   "source": [
    "from lmfit import Minimizer, Parameters, report_fit"
   ]
  },
  {
   "cell_type": "code",
   "execution_count": null,
   "metadata": {},
   "outputs": [],
   "source": [
    "plgapegdmso_perfit = Parameters()\n",
    "plgapegdmso_perfit.add(name='lp', value=0)"
   ]
  },
  {
   "cell_type": "code",
   "execution_count": null,
   "metadata": {},
   "outputs": [],
   "source": [
    "perlc_plgapegdmso = Minimizer(perslen_fitplgapegdmso, plgapegdmso_perfit, fcn_args=(REElclk_plgapegdmso[1], REElclk_plgapegdmso[0]))\n",
    "olplc_plgapegdmso = perlc_plgapegdmso.leastsq()\n",
    "#bfit_n10 = ydata_n10dmso + out_n10dmso.residual "
   ]
  },
  {
   "cell_type": "code",
   "execution_count": null,
   "metadata": {},
   "outputs": [],
   "source": [
    "report_fit(olplc_plgapegdmso.params)"
   ]
  },
  {
   "cell_type": "code",
   "execution_count": null,
   "metadata": {},
   "outputs": [],
   "source": [
    "olplc_plgapegdmso.params"
   ]
  },
  {
   "cell_type": "code",
   "execution_count": null,
   "metadata": {},
   "outputs": [],
   "source": [
    "plgapegdmsolcree = []\n",
    "xlc = REElclk_plgapegdmso[1]\n",
    "for i in range(len(REElclk_plgapegdmso[1])):\n",
    "    plgapegdmsolcree.append(sqree_lpfitting(xlc[i], 6.11642961))\n",
    "    \n",
    "md_nlppdmso = np.array(plgapegdmsolcree)"
   ]
  },
  {
   "cell_type": "code",
   "execution_count": null,
   "metadata": {},
   "outputs": [],
   "source": [
    "md_nlppdmso"
   ]
  },
  {
   "cell_type": "code",
   "execution_count": null,
   "metadata": {},
   "outputs": [],
   "source": [
    "plt.figure(figsize=(7,7))\n",
    "plt.errorbar(REElclk_plgapegdmso[1], REElclk_plgapegdmso[0], color='#0371EC', yerr=REElclk_plgapegdmso[2], linestyle=\"None\",marker='v',\n",
    "    capsize=5, capthick=1, ecolor='#0371EC')\n",
    "plt.plot(REElclk_plgapegdmso[1], md_nlppdmso, color='r', ls='--')\n",
    "plt.title(r'$L_{p}$ alt calc, PLGA-PEG in DMSO', fontsize=15)\n",
    "plt.ylabel(r'$\\left<R_{ee}^{2}\\right>$', fontsize=15)\n",
    "plt.xlabel(r'Contour Length, $L_{c}$ [$\\AA$]', fontsize=15)\n",
    "plt.legend([r'Model: $L_{p}$ = 6.12 $\\AA$ ± 0.16 $\\AA$','Sim'], frameon=False, fontsize=14)\n",
    "plt.tick_params(labelsize=14)\n",
    "plt.xlim(10,150)\n",
    "plt.ylim(0,3000)"
   ]
  },
  {
   "cell_type": "markdown",
   "metadata": {},
   "source": [
    "#### Error Propagation: Lp/Lc ratio"
   ]
  },
  {
   "cell_type": "code",
   "execution_count": null,
   "metadata": {},
   "outputs": [],
   "source": [
    "# pers length/contour length \n",
    "kuhnlpL_plgapegdmso[0,5] = np.mean(n30_blksplgapeg_dmso[\"Avg persistence length\"])/lc_ppn30dmso\n",
    "kuhnlpL_plgapegdmso"
   ]
  },
  {
   "cell_type": "code",
   "execution_count": null,
   "metadata": {},
   "outputs": [],
   "source": [
    "kuhnlpL_plgapegdmso"
   ]
  },
  {
   "cell_type": "code",
   "execution_count": null,
   "metadata": {},
   "outputs": [],
   "source": [
    "lpsys_plgapegdmso = np.array([np.mean(n6_blksplgapeg_dmso[\"Avg persistence length\"]),\n",
    "                         np.mean(n8_blksplgapeg_dmso[\"Avg persistence length\"]),\n",
    "                        np.mean(n10_blksplgapeg_dmso[\"Avg persistence length\"]),\n",
    "                        np.mean(n16_blksplgapeg_dmso[\"Avg persistence length\"]),  \n",
    "                        np.mean(n20_blksplgapeg_dmso[\"Avg persistence length\"]),\n",
    "                        np.mean(n30_blksplgapeg_dmso[\"Avg persistence length\"])])\n",
    "lpsys_plgapegdmso"
   ]
  },
  {
   "cell_type": "code",
   "execution_count": null,
   "metadata": {},
   "outputs": [],
   "source": [
    "# Error Propagation: https://terpconnect.umd.edu/~toh/models/ErrorPropagation.pdf\n",
    "stdlp_pdmso = np.array([np.std(n6_blksplgapeg_dmso[\"Avg persistence length\"]),\n",
    "                         np.std(n8_blksplgapeg_dmso[\"Avg persistence length\"]),\n",
    "                        np.std(n10_blksplgapeg_dmso[\"Avg persistence length\"]),\n",
    "                        np.std(n16_blksplgapeg_dmso[\"Avg persistence length\"]),\n",
    "                        np.std(n20_blksplgapeg_dmso[\"Avg persistence length\"]),\n",
    "                        np.std(n30_blksplgapeg_dmso[\"Avg persistence length\"])])\n",
    "stdlp_pdmso"
   ]
  },
  {
   "cell_type": "code",
   "execution_count": null,
   "metadata": {},
   "outputs": [],
   "source": [
    "xlp_pdmso = np.zeros(shape=6)\n",
    "for i in range(6):\n",
    "    adn2_s = np.sqrt((((stdlp_pdmso[i]/lpsys_plgapegdmso[i])**2)))\n",
    "    xlp_pdmso[i] = kuhnlpL_plgapegdmso[0][i]*adn2_s\n",
    "    \n",
    "xlp_pdmso"
   ]
  },
  {
   "cell_type": "code",
   "execution_count": null,
   "metadata": {},
   "outputs": [],
   "source": [
    "kuhnlpL_plgapegdmso[2] = xlp_pdmso\n",
    "kuhnlpL_plgapegdmso"
   ]
  },
  {
   "cell_type": "code",
   "execution_count": null,
   "metadata": {},
   "outputs": [],
   "source": [
    "np.save('PLGAPEGDMSO_lk_LpL.npy', kuhnlpL_plgapegdmso)"
   ]
  },
  {
   "cell_type": "code",
   "execution_count": null,
   "metadata": {},
   "outputs": [],
   "source": [
    "plt.figure(figsize=(7,7))\n",
    "plt.xlabel(r'$N_{PLGA-PEG}$', fontsize=15)\n",
    "plt.ylabel(r'$\\left<L_{p}\\right>/L_{c}$', fontsize=15)\n",
    "plt.title('Level of rigidity, PLGA-PEG in DMSO', fontsize=15)\n",
    "plt.errorbar(kuhnlpL_plgapegdmso[1], kuhnlpL_plgapegdmso[0], yerr=kuhnlpL_plgapegdmso[2], marker='^',capsize=5, capthick=1)\n",
    "plt.tick_params(axis='both',labelsize=15, width=1)\n",
    "plt.ylim(0,2)\n",
    "plt.xlim(5,35)"
   ]
  },
  {
   "cell_type": "markdown",
   "metadata": {},
   "source": [
    "### Block averaged Radius of gyration and persistence length, N = 30 PLGA-PEG in DMSO"
   ]
  },
  {
   "cell_type": "code",
   "execution_count": null,
   "metadata": {},
   "outputs": [],
   "source": [
    "np.mean(n30_blksplgapeg_dmso[\"Avg persistence length\"])"
   ]
  },
  {
   "cell_type": "code",
   "execution_count": null,
   "metadata": {},
   "outputs": [],
   "source": [
    "np.std(n30_blksplgapeg_dmso[\"Avg persistence length\"])"
   ]
  },
  {
   "cell_type": "code",
   "execution_count": null,
   "metadata": {},
   "outputs": [],
   "source": [
    "np.mean(n30_blksplgapeg_dmso[\"Avg Radius of gyration\"])"
   ]
  },
  {
   "cell_type": "code",
   "execution_count": null,
   "metadata": {},
   "outputs": [],
   "source": [
    "np.std(n30_blksplgapeg_dmso[\"Avg Radius of gyration\"])"
   ]
  },
  {
   "cell_type": "code",
   "execution_count": null,
   "metadata": {},
   "outputs": [],
   "source": [
    "plt.figure(figsize=(7,7))\n",
    "plt.errorbar(blen_ppn6dmso, cor_n6plgapeg_dmso[0], yerr=cor_n6plgapeg_dmso[1], color='teal', linestyle=\"None\",marker='o',\n",
    "     capsize=5, capthick=1, ecolor='black')\n",
    "plt.errorbar(blen_ppn8dmso, cor_n8plgapeg_dmso[0], yerr=cor_n8plgapeg_dmso[1], color='dodgerblue', linestyle=\"None\",marker='o',\n",
    "     capsize=5, capthick=1, ecolor='black')\n",
    "plt.errorbar(blen_ppn10dmso, cor_n10plgapeg_dmso[0], yerr=cor_n10plgapeg_dmso[1], color='darkmagenta', linestyle=\"None\",marker='o',\n",
    "     capsize=5, capthick=1, ecolor='black')\n",
    "plt.errorbar(blen_ppn16dmso, cor_n16plgapeg_dmso[0], yerr=cor_n16plgapeg_dmso[1], color='maroon', linestyle=\"None\",marker='o',\n",
    "     capsize=5, capthick=1, ecolor='black')\n",
    "plt.errorbar(blen_ppn20dmso, cor_n20plgapeg_dmso[0], yerr=cor_n20plgapeg_dmso[1], color='orangered', linestyle=\"None\",marker='o',\n",
    "     capsize=5, capthick=1, ecolor='black')\n",
    "plt.errorbar(blen_ppn30dmso, cor_n30plgapeg_dmso[0], yerr=cor_n30plgapeg_dmso[1], color='darkolivegreen', linestyle=\"None\",marker='o',\n",
    "     capsize=5, capthick=1, ecolor='black')\n",
    "plt.xlabel(r'Bond Length', fontsize=15)\n",
    "plt.ylabel(r'$\\left< Cos(\\theta)\\right >$', fontsize=15)\n",
    "plt.ylim(-0.5,1)\n",
    "plt.xlim(0,130)\n",
    "#plt.ylim(-1.9,0)\n",
    "font = font_manager.FontProperties(family='Arial', style='normal', size='14')\n",
    "#plt.legend([r'$N_{PEG}$ = 6: $L_{p}$ = 18.8 $\\AA$ ± 3.60 $\\AA$'], loc=3, frameon=0, fontsize=14, prop=font)\n",
    "plt.tick_params(labelsize=14)\n",
    "#plt.text(0.5, -6.9,r'$N_{PLGA-PEG}$ = 6: $L_{p}$ = 24.7 $\\AA$ ± 1.34 $\\AA$', fontsize=15, color='teal')\n",
    "#plt.text(0.5, -6.58,r'$N_{PLGA-PEG}$ = 8: $L_{p}$ = 27.3.0 $\\AA$ ± 4.09 $\\AA$', fontsize=15, color='dodgerblue')\n",
    "#plt.text(0.5, -6.23,r'$N_{PLGA-PEG}$ = 10: $L_{p}$ = 27.5 $\\AA$ ± 2.92 $\\AA$', fontsize=15, color='darkmagenta')\n",
    "#plt.text(0.5, -5.90,r'$N_{PLGA-PEG}$ = 16: $L_{p}$ = 31.3 $\\AA$ ± 2.30 $\\AA$', fontsize=15, color='maroon')\n",
    "#plt.text(0.5, -5.50,r'$N_{PLGA-PEG}$ = 20: $L_{p}$ = 31.6 $\\AA$ ± 3.45 $\\AA$', fontsize=15, color='orangered')\n",
    "#plt.text(0.5, -5.10,r'$N_{PLGA-PEG}$ = 30: $L_{p}$ = 28.9 $\\AA$ ± 2.25 $\\AA$', fontsize=15, color='darkolivegreen')"
   ]
  },
  {
   "cell_type": "code",
   "execution_count": null,
   "metadata": {},
   "outputs": [],
   "source": [
    "plt.figure(figsize=(7,7))\n",
    "plt.errorbar(blen_ppn6dmso, np.log(cor_n6plgapeg_dmso[0]), yerr=mk_n6ppdmso, color='teal', linestyle=\"None\",marker='o',\n",
    "     capsize=5, capthick=1, ecolor='black')\n",
    "plt.errorbar(blen_ppn8dmso, np.log(cor_n8plgapeg_dmso[0]), yerr=mk_n8ppdmso, color='dodgerblue', linestyle=\"None\",marker='o',\n",
    "     capsize=5, capthick=1, ecolor='black')\n",
    "plt.errorbar(blen_ppn10dmso, np.log(cor_n10plgapeg_dmso[0]), yerr=mk_n10ppdmso, color='darkmagenta', linestyle=\"None\",marker='o',\n",
    "     capsize=5, capthick=1, ecolor='black')\n",
    "plt.errorbar(blen_ppn16dmso, np.log(cor_n16plgapeg_dmso[0]), yerr=mk_n16ppdmso, color='maroon', linestyle=\"None\",marker='o',\n",
    "     capsize=5, capthick=1, ecolor='black')\n",
    "plt.errorbar(blen_ppn20dmso[:16], np.log(cor_n20plgapeg_dmso[0][:16]), yerr=mk_n20ppdmso[:16], color='orangered', linestyle=\"None\",marker='o',\n",
    "     capsize=5, capthick=1, ecolor='black')\n",
    "plt.errorbar(blen_ppn30dmso, np.log(cor_n30plgapeg_dmso[0]), yerr=mk_n30ppdmso, color='darkolivegreen', linestyle=\"None\",marker='o',\n",
    "     capsize=5, capthick=1, ecolor='black')\n",
    "plt.plot(blen_ppn30dmso, gg_n6plgapeg_n30dmso, color='teal')\n",
    "plt.plot(blen_ppn30dmso, gg_n8plgapeg_n30dmso, color='dodgerblue')\n",
    "plt.plot(blen_ppn30dmso, gg_n10plgapeg_n30dmso, color='darkmagenta')\n",
    "plt.plot(blen_ppn30dmso, gg_n16plgapeg_n30dmso, color='maroon')\n",
    "plt.plot(blen_ppn30dmso, gg_n20plgapeg_n30dmso, color='orangered')\n",
    "plt.plot(blen_ppn30dmso, gg_n30plgapeg_dmso, color='darkolivegreen')\n",
    "plt.title(r'Ensemble Averaged ln(Cosine $\\theta$) PLGA-PEG in DMSO', fontsize=15, y=1.01)\n",
    "plt.xlabel(r'Bond Length', fontsize=15)\n",
    "plt.ylabel(r'ln$\\left< Cos(\\theta)\\right >$', fontsize=15)\n",
    "plt.ylim(-7,1.5)\n",
    "plt.xlim(0,130)\n",
    "#plt.ylim(-1.9,0)\n",
    "font = font_manager.FontProperties(family='Arial', style='normal', size='14')\n",
    "#plt.legend([r'$N_{PEG}$ = 6: $L_{p}$ = 18.8 $\\AA$ ± 3.60 $\\AA$'], loc=3, frameon=0, fontsize=14, prop=font)\n",
    "plt.tick_params(labelsize=14)\n",
    "plt.text(0.5, -6.9,r'$N_{PLGA-PEG}$ = 6: $L_{p}$ = 36.2 $\\AA$ ± 3.33 $\\AA$', fontsize=15, color='teal')\n",
    "plt.text(0.5, -6.58,r'$N_{PLGA-PEG}$ = 8: $L_{p}$ = 33.7 $\\AA$ ± 2.04 $\\AA$', fontsize=15, color='dodgerblue')\n",
    "plt.text(0.5, -6.23,r'$N_{PLGA-PEG}$ = 10: $L_{p}$ = 35.3 $\\AA$ ± 0.95 $\\AA$', fontsize=15, color='darkmagenta')\n",
    "plt.text(0.5, -5.90,r'$N_{PLGA-PEG}$ = 16: $L_{p}$ = 35.3 $\\AA$ ± 3.17 $\\AA$', fontsize=15, color='maroon')\n",
    "plt.text(0.5, -5.50,r'$N_{PLGA-PEG}$ = 20: $L_{p}$ = 36.6 $\\AA$ ± 3.45 $\\AA$', fontsize=15, color='orangered')\n",
    "plt.text(0.5, -5.10,r'$N_{PLGA-PEG}$ = 30: $L_{p}$ = 37.5 $\\AA$ ± 1.78 $\\AA$', fontsize=15, color='darkolivegreen')"
   ]
  },
  {
   "cell_type": "code",
   "execution_count": null,
   "metadata": {},
   "outputs": [],
   "source": [
    "rgplgapeg_olig_dmso[r\"$R_{g}$ [Angstrom] N = 30 PEG DMSO \"] = n30_blksplgapeg_dmso[\"Avg Radius of gyration\"]\n",
    "rgplgapeg_olig_dmso"
   ]
  },
  {
   "cell_type": "code",
   "execution_count": null,
   "metadata": {},
   "outputs": [],
   "source": [
    "pers_plgapegt_dmso[r\"$L_{p}$ [Angstrom] N = 30 PEG DMSO \"] = n30_blksplgapeg_dmso[\"Avg persistence length\"]\n",
    "pers_plgapegt_dmso"
   ]
  },
  {
   "cell_type": "code",
   "execution_count": null,
   "metadata": {},
   "outputs": [],
   "source": [
    "rgplgapeg_olig_dmso.to_pickle(\"PLGAPEG_dmso_Rg.pkl\")"
   ]
  },
  {
   "cell_type": "code",
   "execution_count": null,
   "metadata": {},
   "outputs": [],
   "source": [
    "pers_plgapegt_dmso.to_pickle(\"PLGAPEG_dmso_Lp.pkl\")"
   ]
  },
  {
   "cell_type": "markdown",
   "metadata": {},
   "source": [
    "### Fluory Exponent, PLGA-PEG in DMSO systems "
   ]
  },
  {
   "cell_type": "code",
   "execution_count": null,
   "metadata": {},
   "outputs": [],
   "source": [
    "n_plgapeg = np.array([6,8,10,16,20,30])\n",
    "rg_nplgapeg_dmso = np.array([np.mean(n6_blksplgapeg_dmso[\"Avg Radius of gyration\"])\n",
    "                    ,np.mean(n8_blksplgapeg_dmso[\"Avg Radius of gyration\"]),np.mean(n10_blksplgapeg_dmso[\"Avg Radius of gyration\"])\n",
    "                    ,np.mean(n16_blksplgapeg_dmso[\"Avg Radius of gyration\"]),\n",
    "                    np.mean(n20_blksplgapeg_dmso[\"Avg Radius of gyration\"]),np.mean(n30_blksplgapeg_dmso[\"Avg Radius of gyration\"])])"
   ]
  },
  {
   "cell_type": "code",
   "execution_count": null,
   "metadata": {},
   "outputs": [],
   "source": [
    "rg_nplgapeg_dmso"
   ]
  },
  {
   "cell_type": "code",
   "execution_count": null,
   "metadata": {},
   "outputs": [],
   "source": [
    "rgdmso_nplgapeg_std = np.array([np.std(np.log10(n6_blksplgapeg_dmso[\"Avg Radius of gyration\"]))\n",
    "                    ,np.std(np.log10(n8_blksplgapeg_dmso[\"Avg Radius of gyration\"]))\n",
    "                        ,np.std(np.log10(n10_blksplgapeg_dmso[\"Avg Radius of gyration\"]))\n",
    "                       ,np.std(np.log10(n16_blksplgapeg_dmso[\"Avg Radius of gyration\"]))     \n",
    "                    ,np.std(np.log10(n20_blksplgapeg_dmso[\"Avg Radius of gyration\"]))\n",
    "                        ,np.std(np.log10(n30_blksplgapeg_dmso[\"Avg Radius of gyration\"]))])\n",
    "rgdmso_nplgapeg_std"
   ]
  },
  {
   "cell_type": "code",
   "execution_count": null,
   "metadata": {},
   "outputs": [],
   "source": [
    "n_plgapeg"
   ]
  },
  {
   "cell_type": "code",
   "execution_count": null,
   "metadata": {},
   "outputs": [],
   "source": [
    "np.log10(rg_nplgapeg_dmso)"
   ]
  },
  {
   "cell_type": "code",
   "execution_count": null,
   "metadata": {},
   "outputs": [],
   "source": [
    "np.log10(n_plgapeg)"
   ]
  },
  {
   "cell_type": "code",
   "execution_count": null,
   "metadata": {},
   "outputs": [],
   "source": [
    "# From fitting all points, I get best fit \n",
    "from sklearn.linear_model import LinearRegression\n",
    "model_vdmso = LinearRegression(fit_intercept=True)\n",
    "model_vdmso.fit(np.log10(n_plgapeg).reshape(-1,1), np.log10(rg_nplgapeg_dmso))\n",
    "# Slope here is in nanometers\n",
    "print(\"Model slope:    \", model_vdmso.coef_[0])\n",
    "print(\"Model intercept:\", model_vdmso.intercept_)"
   ]
  },
  {
   "cell_type": "code",
   "execution_count": null,
   "metadata": {},
   "outputs": [],
   "source": [
    "gg_dmso = model_vdmso.predict(np.log10(n_plgapeg).reshape(-1,1))\n",
    "gg_dmso"
   ]
  },
  {
   "cell_type": "code",
   "execution_count": null,
   "metadata": {},
   "outputs": [],
   "source": [
    "print(\"Mean Std Error:\", sklearn.metrics.mean_squared_error(np.log10(rg_nplgapeg_dmso), gg_dmso))\n",
    "print(\"R2 score:\", sklearn.metrics.r2_score(np.log10(rg_nplgapeg_dmso), gg_dmso))"
   ]
  },
  {
   "cell_type": "code",
   "execution_count": null,
   "metadata": {},
   "outputs": [],
   "source": [
    "# Residuals between the true y data and model y data \n",
    "resid_vdmso = np.log10(rg_nplgapeg_dmso) - gg_dmso\n",
    "resid_vdmso"
   ]
  },
  {
   "cell_type": "code",
   "execution_count": null,
   "metadata": {},
   "outputs": [],
   "source": [
    "# How to calculate Sum((Xi - avg(X))^2): X values are the bond length values \n",
    "nt_ttdmso = np.log10(n_plgapeg)\n",
    "nt_ttdmso -= np.mean(nt_ttdmso)\n",
    "nhui_dmso = nt_ttdmso**2\n",
    "np.sum(nhui_dmso)"
   ]
  },
  {
   "cell_type": "code",
   "execution_count": null,
   "metadata": {},
   "outputs": [],
   "source": [
    "# t-value with 95 % confidence intervals \n",
    "scipy.stats.t.ppf(0.95, 4)"
   ]
  },
  {
   "cell_type": "code",
   "execution_count": null,
   "metadata": {},
   "outputs": [],
   "source": [
    "# How to calculate 95% confidence interval for the slope \n",
    "flc_vdmso = scipy.stats.t.ppf(0.95, 4)*np.sqrt((np.sum(resid_vdmso**2)/(len(resid_vdmso)-1))/(np.sum(nhui_dmso)))\n",
    "flc_vdmso"
   ]
  },
  {
   "cell_type": "code",
   "execution_count": null,
   "metadata": {},
   "outputs": [],
   "source": [
    "plt.figure(figsize=(7,7))\n",
    "plt.errorbar(np.log10(n_plgapeg), np.log10(rg_nplgapeg_dmso), yerr=rgdmso_nplgapeg_std, color='#A58262', linestyle=\"None\",marker='o',\n",
    "     capsize=5, capthick=1, ecolor='black')\n",
    "plt.plot(np.log10(n_plgapeg), gg_dmso, color='#A58262')\n",
    "plt.title(r'Fluory Exponent', fontsize=15)\n",
    "plt.xlabel(r'Log($N_{PLGA-PEG}$)', fontsize=15)\n",
    "plt.ylabel(r'Log($R_{g}$)', fontsize=15)\n",
    "plt.tick_params(labelsize=14)\n",
    "plt.text(1.1, 0.75, r'$v_{DMSO}$ = 0.61 ± 0.01', fontsize=15, color='#A58262')"
   ]
  },
  {
   "cell_type": "code",
   "execution_count": null,
   "metadata": {},
   "outputs": [],
   "source": []
  }
 ],
 "metadata": {
  "kernelspec": {
   "display_name": "homeV2_env",
   "language": "python",
   "name": "homev2_env"
  },
  "language_info": {
   "codemirror_mode": {
    "name": "ipython",
    "version": 3
   },
   "file_extension": ".py",
   "mimetype": "text/x-python",
   "name": "python",
   "nbconvert_exporter": "python",
   "pygments_lexer": "ipython3",
   "version": "3.9.7"
  }
 },
 "nbformat": 4,
 "nbformat_minor": 4
}
