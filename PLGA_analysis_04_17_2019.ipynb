{
 "cells": [
  {
   "cell_type": "code",
   "execution_count": 1,
   "metadata": {},
   "outputs": [],
   "source": [
    "#import the necessary modules \n",
    "%matplotlib inline \n",
    "import numpy as np \n",
    "import matplotlib.pylab as plt \n",
    "import pandas as pd \n",
    "import scipy\n",
    "import sklearn\n",
    "import itertools \n",
    "from itertools import cycle \n",
    "import os.path as op\n",
    "import timeit \n",
    "import json\n",
    "import math\n",
    "\n",
    "# These imports are for creating the percent occupancy heat map \n",
    "import plotly\n",
    "import plotly.plotly as py\n",
    "import plotly.graph_objs as go"
   ]
  },
  {
   "cell_type": "code",
   "execution_count": 2,
   "metadata": {},
   "outputs": [
    {
     "data": {
      "text/plain": [
       "4"
      ]
     },
     "execution_count": 2,
     "metadata": {},
     "output_type": "execute_result"
    }
   ],
   "source": [
    "import multiprocessing as m_proc\n",
    "m_proc.cpu_count()"
   ]
  },
  {
   "cell_type": "code",
   "execution_count": 3,
   "metadata": {},
   "outputs": [],
   "source": [
    "# Import MDAnalysis\n",
    "import MDAnalysis as mda\n",
    "import statsmodels as stats\n",
    "from MDAnalysis.analysis import polymer, distances, rdf"
   ]
  },
  {
   "cell_type": "markdown",
   "metadata": {},
   "source": [
    "### Calculate radius of gyration and persistence length of PLGA/water simulations"
   ]
  },
  {
   "cell_type": "code",
   "execution_count": 4,
   "metadata": {},
   "outputs": [],
   "source": [
    "def seg_org(poly_atoms, n_monomers):\n",
    "    \n",
    "    pmecl = []\n",
    "    count = 0\n",
    "    for i in range(n_monomers):\n",
    "        fgrp = []\n",
    "        count += 1\n",
    "        n_atm = len(poly_atoms.select_atoms(\"resid \"+str(count)))\n",
    "        \n",
    "        if count == 1:\n",
    "            #print(poly_atoms.select_atoms(\"resid \"+str(count)+\" and name O13\"))\n",
    "            pmecl.append(poly_atoms.select_atoms(\"resid \"+str(count)+\" and (name O13 O9)\"))\n",
    "            #print(pmecl)\n",
    "        elif count == 2:\n",
    "            #print(poly_atoms.select_atoms(\"name O5 and resid \"+str(count)))\n",
    "            pmecl.append(poly_atoms.select_atoms(\"(resid \"+str(count)+\" and name O5) or (resid \"+str(count-1)+\" and name O9)\"))\n",
    "        \n",
    "        if count != 2 and count != 1:\n",
    "            if count == n_monomers:\n",
    "                pmecl.append(poly_atoms.select_atoms(\"(resid \"+str(count)+\" and name O1) or (resid \"+str(count-1)+\" and name O5)\"))\n",
    "            elif count != n_monomers:\n",
    "            #print(count)\n",
    "                pmecl.append(poly_atoms.select_atoms(\"(resid \"+str(count)+\" and name O5) or (resid \"+str(count-1)+\" and name O5)\"))\n",
    "\n",
    "    return pmecl"
   ]
  },
  {
   "cell_type": "code",
   "execution_count": 5,
   "metadata": {},
   "outputs": [],
   "source": [
    "# write function to average across frames to give ensembled averaged correlation values at each nl value\n",
    "# write function to average across frames to give ensembled averaged correlation values at each nl value\n",
    "\n",
    "def pers_length(polymer_atoms, n_monomers):\n",
    "    \n",
    "    vec_poly = np.zeros(shape=(3,n_monomers-1), dtype=float)\n",
    "    \n",
    "    len_vec = np.arange(n_monomers-1)\n",
    "    \n",
    "    len_vec += 1\n",
    "\n",
    "    vec_poly[1,:] = len_vec\n",
    "\n",
    "    count = 0 \n",
    "    \n",
    "    sv_ply = np.zeros(shape=(n_monomers-1), dtype=object)\n",
    "    \n",
    "    for i in range(n_monomers):\n",
    "        \n",
    "        count += 1\n",
    "        \n",
    "        ds_cor = np.zeros(shape=(n_monomers-count))\n",
    "        \n",
    "        for j in range(n_monomers - count):\n",
    "        \n",
    "            jh = np.arange(n_monomers - count)\n",
    "            \n",
    "            jh += count+1\n",
    "\n",
    "            n6_mon1 = polymer_atoms.select_atoms(\"resid \"+str(count))\n",
    "\n",
    "            n6_mon2 = polymer_atoms.select_atoms(\"resid \"+str(jh[j]))\n",
    "\n",
    "            if j == 0: \n",
    "                    \n",
    "                v1 = n6_mon1.center_of_mass() - n6_mon2.center_of_mass()\n",
    "                    \n",
    "                v1_norm = v1/(np.linalg.norm(v1))\n",
    "            \n",
    "                ds_cor[j] = v1_norm.dot(v1_norm)\n",
    "\n",
    "            elif j != 0:\n",
    "                    \n",
    "                v2 = n6_mon1.center_of_mass() - n6_mon2.center_of_mass()\n",
    "                    \n",
    "                v2_norm = v2/(np.linalg.norm(v2))\n",
    "                \n",
    "                ds_cor[j] = np.dot(v1_norm, v2_norm)\n",
    "\n",
    "            sv_ply[i] = ds_cor\n",
    "    \n",
    "    cor_avg = []\n",
    " \n",
    "    for j in range(n_monomers-1):\n",
    "        lss = []\n",
    "        for i in sv_ply.flat:\n",
    "            try:\n",
    "                lss.append(i[j])\n",
    "            except IndexError:\n",
    "                pass\n",
    "        cor_avg.append(np.mean(lss))\n",
    "    \n",
    "    nm = np.array(cor_avg)\n",
    "\n",
    "    ang_vg = []\n",
    "    for i in nm.flat:\n",
    "        if i >= float(0.99):\n",
    "            ang_vg.append(0)\n",
    "        elif i <= float(0.99):\n",
    "            ang_vg.append(math.degrees(math.acos(i)))\n",
    "\n",
    "    vec_poly[0,:] = nm \n",
    "    vec_poly[2,:] = np.array(ang_vg)\n",
    "    \n",
    "    return vec_poly"
   ]
  },
  {
   "cell_type": "code",
   "execution_count": 6,
   "metadata": {},
   "outputs": [],
   "source": [
    "def get_rg_pers_poly(polymer_atoms, universe, start, end, ln_bnd):\n",
    "    \"\"\"This function will calculate the average radius of gyration and persistence length of a polymer within a \n",
    "    trajectory block.\"\"\"\n",
    "    \n",
    "    n_monomers = len(np.unique(polymer_atoms.resids))\n",
    "    \n",
    "    rg_ens = np.zeros(shape=(1,end-start))\n",
    "    \n",
    "    corr_v = np.zeros(shape=(n_monomers-1,end-start))\n",
    "    \n",
    "    #ln_corr = np.zeros(shape=(n_monomers-1, end-start))\n",
    "    \n",
    "    angle_v = np.zeros(shape=(n_monomers-1,end-start))\n",
    "    \n",
    "    v_poly = np.zeros(shape=(4,n_monomers-1))\n",
    "    \n",
    "    count_rg = 0\n",
    "    \n",
    "    universe.trajectory[start]\n",
    "    \n",
    "    for ts in universe.trajectory[start:end]:\n",
    "        \n",
    "        p_mat = pers_length(polymer_atoms, n_monomers)\n",
    "        \n",
    "        #print(p_mat[0])\n",
    "     \n",
    "        corr_v[:,count_rg] = p_mat[0]\n",
    "        \n",
    "        #ln_corr[:,count_rg] = np.log(p_mat[0,:])\n",
    "        \n",
    "        angle_v[:,count_rg] = p_mat[2]\n",
    "        \n",
    "        rg_ens[0,count_rg] = polymer_atoms.radius_of_gyration()\n",
    "        \n",
    "        count_rg += 1 \n",
    "        \n",
    "        universe.trajectory[end]\n",
    "    #Added the calculation of the std dev for the correlation values \n",
    "    v_poly[3,:] = p_mat[1]\n",
    "    \n",
    "    for i in range(n_monomers-1):\n",
    "        \n",
    "        v_poly[0,i] = np.mean(corr_v[i,:])\n",
    "        \n",
    "        #Added the calculation of the std dev for the correlation values\n",
    "        v_poly[1,i] = np.std(corr_v[i,:])\n",
    "        \n",
    "        #v_poly[2,i] = np.mean(ln_corr[i,:])\n",
    "        \n",
    "        #v_poly[3,i] = np.std(ln_corr[i,:])\n",
    "        \n",
    "        v_poly[2,i] = np.mean(angle_v[i,:])\n",
    "     \n",
    "    avg_rg = np.mean(rg_ens)\n",
    "    \n",
    "    #def expfunc(x, a):\n",
    "    #    return np.exp(-x*ln_bnd/2*a)\n",
    "    # Starting with x = 0 for fits\n",
    "    #tr_n6 = np.arange(n_monomers-1)\n",
    "    \n",
    "    #tr_n6 += 1\n",
    "\n",
    "    #pers_lp = scipy.optimize.curve_fit(expfunc, tr_n6, v_poly[0,:])[0][0]\n",
    "    \n",
    "    return  rg_ens, v_poly, avg_rg "
   ]
  },
  {
   "cell_type": "code",
   "execution_count": 7,
   "metadata": {},
   "outputs": [],
   "source": [
    "# I want a list of total fraction of contacts where length is determined by no. of blocks and a dictionary \n",
    "# of contact groups as keys and list of fractional contacts as values(length of list will be no. of blocks)\n",
    "def bavg_pers_cnt(no_of_blks, polymer_atoms, universe, len_bnd, begin, final):\n",
    " \n",
    "    n_size = (final - begin)/no_of_blks\n",
    "    \n",
    "    ot_dab = {}\n",
    "    universe.trajectory[begin]\n",
    "    \n",
    "    sf_lbl = [\"Avg Radius of gyration\", \"Avg persistence length\"]\n",
    "\n",
    "    blk_nparr = np.zeros(shape=(len(sf_lbl),no_of_blks))\n",
    "    \n",
    "    count = 0 \n",
    "    \n",
    "    for i in range(no_of_blks):\n",
    "        \n",
    "        start = universe.trajectory.frame\n",
    "        print(start)\n",
    "    \n",
    "        end = int(start + n_size)\n",
    "        print(end)\n",
    "       \n",
    "        pp_rgens, cor_pp, per_pp, rg_avgpp = get_rg_pers_poly(polymer_atoms, universe, start, end, len_bnd)\n",
    "        \n",
    "        blk_nparr[0,count] = rg_avgpp\n",
    "        \n",
    "        blk_nparr[1,count] = per_pp        \n",
    "        \n",
    "        universe.trajectory[end]\n",
    "        \n",
    "        count += 1\n",
    "    # Save fractional contacts for each AA group type, each element in the value array corresponds to a block \n",
    "    # calculated value\n",
    "    for i in range(len(sf_lbl)):\n",
    "        ot_dab[sf_lbl[i]] = blk_nparr[i,:]\n",
    "    \n",
    "    return ot_dab\n",
    "        "
   ]
  },
  {
   "cell_type": "markdown",
   "metadata": {},
   "source": [
    "### Water only systems"
   ]
  },
  {
   "cell_type": "markdown",
   "metadata": {},
   "source": [
    "## N = 6 water"
   ]
  },
  {
   "cell_type": "code",
   "execution_count": 8,
   "metadata": {},
   "outputs": [],
   "source": [
    "# For the right Rg calculation using MD Analysis, use trajactory without pbc \n",
    "n6_plga_wat = mda.Universe(\"n6_plga_50ns/0_xa_soln/confout.gro\", \"n6_plga_50ns/0_xa_soln/nopbc_n6wat.xtc\")"
   ]
  },
  {
   "cell_type": "code",
   "execution_count": 9,
   "metadata": {},
   "outputs": [
    {
     "data": {
      "text/plain": [
       "5001"
      ]
     },
     "execution_count": 9,
     "metadata": {},
     "output_type": "execute_result"
    }
   ],
   "source": [
    "len(n6_plga_wat.trajectory)"
   ]
  },
  {
   "cell_type": "code",
   "execution_count": 10,
   "metadata": {},
   "outputs": [],
   "source": [
    "#Select the polymer heavy atoms \n",
    "poly_n6 = n6_plga_wat.select_atoms(\"resname sPLG PLG tPLG and not type H\")"
   ]
  },
  {
   "cell_type": "code",
   "execution_count": 11,
   "metadata": {},
   "outputs": [],
   "source": [
    "com_bond = np.zeros(shape=(1,5000))\n",
    "count = 0\n",
    "for ts in n6_plga_wat.trajectory[0:5000]:\n",
    "    n6_mon1 = n6_plga_wat.select_atoms(\"resid 1\")\n",
    "    n6_mon2 = n6_plga_wat.select_atoms(\"resid 2\")\n",
    "    oo_len = mda.analysis.distances.distance_array(n6_mon1.center_of_mass(), n6_mon2.center_of_mass(), \n",
    "                                                   box=n6_plga_wat.trajectory.ts.dimensions)\n",
    "    com_bond[0, count] = oo_len\n",
    "    count += 1\n",
    "    "
   ]
  },
  {
   "cell_type": "code",
   "execution_count": 12,
   "metadata": {},
   "outputs": [
    {
     "data": {
      "text/plain": [
       "array([[5.41774043, 4.78879205, 5.54438067, ..., 6.56805096, 6.42530086,\n",
       "        6.30959793]])"
      ]
     },
     "execution_count": 12,
     "metadata": {},
     "output_type": "execute_result"
    }
   ],
   "source": [
    "com_bond"
   ]
  },
  {
   "cell_type": "code",
   "execution_count": 13,
   "metadata": {},
   "outputs": [
    {
     "data": {
      "text/plain": [
       "5.691897446005937"
      ]
     },
     "execution_count": 13,
     "metadata": {},
     "output_type": "execute_result"
    }
   ],
   "source": [
    "lb_avg = np.mean(com_bond)\n",
    "lb_avg"
   ]
  },
  {
   "cell_type": "code",
   "execution_count": 14,
   "metadata": {},
   "outputs": [
    {
     "data": {
      "text/plain": [
       "0.7661117243666821"
      ]
     },
     "execution_count": 14,
     "metadata": {},
     "output_type": "execute_result"
    }
   ],
   "source": [
    "np.std(com_bond)"
   ]
  },
  {
   "cell_type": "code",
   "execution_count": null,
   "metadata": {},
   "outputs": [],
   "source": [
    "plt.scatter(np.arange(5000),com_bond)\n",
    "#plt.scatter(np.arange(5000),lbond,c=\"y\")"
   ]
  },
  {
   "cell_type": "code",
   "execution_count": null,
   "metadata": {},
   "outputs": [],
   "source": [
    "lb_avg"
   ]
  },
  {
   "cell_type": "code",
   "execution_count": null,
   "metadata": {},
   "outputs": [],
   "source": [
    "n6_blks = bavg_pers_cnt(5, poly_n6, n6_plga_wat, lb_avg, 0 , 5000)"
   ]
  },
  {
   "cell_type": "code",
   "execution_count": null,
   "metadata": {},
   "outputs": [],
   "source": [
    "# Fully extended length of 6 monomer PLGA is 3.838 nm \n",
    "n6_blks[\"Avg persistence length\"]"
   ]
  },
  {
   "cell_type": "code",
   "execution_count": null,
   "metadata": {},
   "outputs": [],
   "source": [
    "n6_blks[\"Avg Radius of gyration\"]"
   ]
  },
  {
   "cell_type": "code",
   "execution_count": null,
   "metadata": {},
   "outputs": [],
   "source": [
    "np.mean(n6_blks[\"Avg persistence length\"])"
   ]
  },
  {
   "cell_type": "code",
   "execution_count": null,
   "metadata": {},
   "outputs": [],
   "source": [
    "np.std(n6_blks[\"Avg persistence length\"])"
   ]
  },
  {
   "cell_type": "code",
   "execution_count": 15,
   "metadata": {},
   "outputs": [],
   "source": [
    "n6_rgens, cor_n6, rg_avgn6 = get_rg_pers_poly(poly_n6, n6_plga_wat, 0, 5000, lb_avg)"
   ]
  },
  {
   "cell_type": "code",
   "execution_count": 16,
   "metadata": {},
   "outputs": [
    {
     "data": {
      "text/plain": [
       "array([[1.00000000e+00, 7.52881933e-01, 4.91285939e-01, 3.78040143e-01,\n",
       "        3.22664698e-01],\n",
       "       [6.36032808e-17, 6.58991481e-02, 1.59630817e-01, 2.84548598e-01,\n",
       "        4.94750872e-01],\n",
       "       [0.00000000e+00, 4.08035110e+01, 5.99560820e+01, 6.64582391e+01,\n",
       "        6.84962410e+01],\n",
       "       [1.00000000e+00, 2.00000000e+00, 3.00000000e+00, 4.00000000e+00,\n",
       "        5.00000000e+00]])"
      ]
     },
     "execution_count": 16,
     "metadata": {},
     "output_type": "execute_result"
    }
   ],
   "source": [
    "cor_n6"
   ]
  },
  {
   "cell_type": "code",
   "execution_count": 17,
   "metadata": {},
   "outputs": [
    {
     "data": {
      "text/plain": [
       "array([1.        , 0.75288193, 0.49128594, 0.37804014, 0.3226647 ])"
      ]
     },
     "execution_count": 17,
     "metadata": {},
     "output_type": "execute_result"
    }
   ],
   "source": [
    "cor_n6[0]"
   ]
  },
  {
   "cell_type": "code",
   "execution_count": 18,
   "metadata": {},
   "outputs": [
    {
     "data": {
      "text/plain": [
       "array([6.36032808e-17, 6.58991481e-02, 1.59630817e-01, 2.84548598e-01,\n",
       "       4.94750872e-01])"
      ]
     },
     "execution_count": 18,
     "metadata": {},
     "output_type": "execute_result"
    }
   ],
   "source": [
    "cor_n6[1]"
   ]
  },
  {
   "cell_type": "code",
   "execution_count": 19,
   "metadata": {},
   "outputs": [
    {
     "data": {
      "text/plain": [
       "array([3.18016404e-17, 4.37645965e-02, 1.62462228e-01, 3.76347067e-01,\n",
       "       7.66664088e-01])"
      ]
     },
     "execution_count": 19,
     "metadata": {},
     "output_type": "execute_result"
    }
   ],
   "source": [
    "mk = cor_n6[1]/cor_n6[0]\n",
    "mk /= 2\n",
    "mk"
   ]
  },
  {
   "cell_type": "code",
   "execution_count": null,
   "metadata": {},
   "outputs": [],
   "source": [
    "nt = np.arange(5)\n",
    "plt.errorbar(nt, np.log(cor_n6[0]), yerr=mk, color='b', linestyle=\"None\",marker='o',\n",
    "     capsize=5, capthick=1, ecolor='black')\n",
    "plt.title(r'Ensemble Averaged ln(Cosine $\\theta$)', fontsize=15)\n",
    "plt.xlabel('Segment Length', fontsize=15)\n",
    "plt.ylabel(r'ln$\\left< Cos(\\theta)\\right >$', fontsize=15)"
   ]
  },
  {
   "cell_type": "code",
   "execution_count": null,
   "metadata": {},
   "outputs": [],
   "source": [
    "n6_corstd = cor_n6[1]/2\n",
    "plt.figure(figsize=(5,5))\n",
    "plt.errorbar(nt, cor_n6[0], yerr=n6_corstd, color='b', ls='--', marker='o', capsize=5, capthick=1, ecolor='black')\n",
    "plt.title(r'Ensemble Averaged Cosine $\\theta$', fontsize=15)\n",
    "plt.xlabel('Segment Length', fontsize=15)\n",
    "plt.ylabel(r'$\\left< Cos(\\theta)\\right >$', fontsize=15)"
   ]
  },
  {
   "cell_type": "code",
   "execution_count": 20,
   "metadata": {},
   "outputs": [
    {
     "data": {
      "text/plain": [
       "5.691897446005937"
      ]
     },
     "execution_count": 20,
     "metadata": {},
     "output_type": "execute_result"
    }
   ],
   "source": [
    "# For some reason, fit does not work if lb_avg is in angstroms\n",
    "lb_avg = np.mean(com_bond)\n",
    "#lb_avg /= 10\n",
    "lb_avg"
   ]
  },
  {
   "cell_type": "code",
   "execution_count": 21,
   "metadata": {},
   "outputs": [
    {
     "data": {
      "text/plain": [
       "array([  0.        ,  -2.84594872,  -5.69189745,  -8.53784617,\n",
       "       -11.38379489])"
      ]
     },
     "execution_count": 21,
     "metadata": {},
     "output_type": "execute_result"
    }
   ],
   "source": [
    "# x values\n",
    "nt_tt = np.arange(5, dtype=float)\n",
    "nt_tt *= lb_avg/-2\n",
    "nt_tt[0] = 0\n",
    "nt_tt"
   ]
  },
  {
   "cell_type": "code",
   "execution_count": 22,
   "metadata": {},
   "outputs": [
    {
     "data": {
      "text/plain": [
       "array([ 0.        , -0.28384686, -0.71072896, -0.97275489, -1.13114158])"
      ]
     },
     "execution_count": 22,
     "metadata": {},
     "output_type": "execute_result"
    }
   ],
   "source": [
    "# y values\n",
    "n6lc = np.log(cor_n6[0])\n",
    "n6lc"
   ]
  },
  {
   "cell_type": "code",
   "execution_count": null,
   "metadata": {},
   "outputs": [],
   "source": [
    "np.polyfit(n6lc, nt_tt, 0, cov=True)"
   ]
  },
  {
   "cell_type": "code",
   "execution_count": 23,
   "metadata": {},
   "outputs": [
    {
     "name": "stdout",
     "output_type": "stream",
     "text": [
      "Model slope:     [0.10714805]\n",
      "Model intercept: 0.0\n"
     ]
    }
   ],
   "source": [
    "from sklearn.linear_model import LinearRegression\n",
    "model_n6 = LinearRegression(fit_intercept=False)\n",
    "model_n6.fit(nt_tt.reshape(-1,1), n6lc)\n",
    "# Slope here is in nanometers\n",
    "print(\"Model slope:    \", model_n6.coef_)\n",
    "print(\"Model intercept:\", model_n6.intercept_)"
   ]
  },
  {
   "cell_type": "code",
   "execution_count": 24,
   "metadata": {},
   "outputs": [
    {
     "data": {
      "text/plain": [
       "array([ 0.        , -0.30493786, -0.60987572, -0.91481358, -1.21975144])"
      ]
     },
     "execution_count": 24,
     "metadata": {},
     "output_type": "execute_result"
    }
   ],
   "source": [
    "gg = model_n6.predict(nt_tt.reshape(-1,1))\n",
    "gg"
   ]
  },
  {
   "cell_type": "code",
   "execution_count": 25,
   "metadata": {},
   "outputs": [
    {
     "data": {
      "text/plain": [
       "array([3.18016404e-17, 4.37645965e-02, 1.62462228e-01, 3.76347067e-01,\n",
       "       7.66664088e-01])"
      ]
     },
     "execution_count": 25,
     "metadata": {},
     "output_type": "execute_result"
    }
   ],
   "source": [
    "mk"
   ]
  },
  {
   "cell_type": "code",
   "execution_count": 33,
   "metadata": {},
   "outputs": [
    {
     "data": {
      "text/plain": [
       "<matplotlib.legend.Legend at 0x131b7f0a20>"
      ]
     },
     "execution_count": 33,
     "metadata": {},
     "output_type": "execute_result"
    },
    {
     "data": {
      "image/png": "[encoded data removed]",
      "text/plain": [
       "<Figure size 504x504 with 1 Axes>"
      ]
     },
     "metadata": {
      "needs_background": "light"
     },
     "output_type": "display_data"
    }
   ],
   "source": [
    "plt.figure(figsize=(7,7))\n",
    "plt.errorbar(nt_tt, np.log(cor_n6[0]), yerr=mk, color='b', linestyle=\"None\",marker='o',\n",
    "     capsize=5, capthick=1, ecolor='black')\n",
    "plt.plot(nt_tt, gg, color='b')\n",
    "plt.title(r'Ensemble Averaged ln(Cosine $\\theta$)', fontsize=15)\n",
    "plt.xlabel(r'x = $\\frac{-s}{2}$', fontsize=15)\n",
    "plt.ylabel(r'ln$\\left< Cos(\\theta)\\right >$', fontsize=15)\n",
    "plt.legend([r'N = 6 : p = 9.33 Å ± 0.067'])"
   ]
  },
  {
   "cell_type": "code",
   "execution_count": 29,
   "metadata": {},
   "outputs": [
    {
     "name": "stdout",
     "output_type": "stream",
     "text": [
      "Mean Std Error: 0.004365021733667115\n",
      "R2 score: 0.9755140507889415\n"
     ]
    }
   ],
   "source": [
    "print(\"Mean Std Error:\", sklearn.metrics.mean_squared_error(np.log(cor_n6[0]), gg))\n",
    "print(\"R2 score:\", sklearn.metrics.r2_score(np.log(cor_n6[0]), gg))"
   ]
  },
  {
   "cell_type": "code",
   "execution_count": 30,
   "metadata": {},
   "outputs": [
    {
     "data": {
      "text/plain": [
       "0.06606831111559547"
      ]
     },
     "execution_count": 30,
     "metadata": {},
     "output_type": "execute_result"
    }
   ],
   "source": [
    "## Standard Error in the slope \n",
    "np.sqrt(sklearn.metrics.mean_squared_error(np.log(cor_n6[0]), gg))"
   ]
  },
  {
   "cell_type": "code",
   "execution_count": 32,
   "metadata": {},
   "outputs": [
    {
     "data": {
      "text/plain": [
       "array([9.3328809])"
      ]
     },
     "execution_count": 32,
     "metadata": {},
     "output_type": "execute_result"
    }
   ],
   "source": [
    "pers_n6 = 1/model_n6.coef_\n",
    "pers_n6"
   ]
  },
  {
   "cell_type": "code",
   "execution_count": null,
   "metadata": {},
   "outputs": [],
   "source": [
    "lb_avg"
   ]
  },
  {
   "cell_type": "code",
   "execution_count": null,
   "metadata": {},
   "outputs": [],
   "source": [
    "exfun(nt, pers_n6)"
   ]
  },
  {
   "cell_type": "code",
   "execution_count": null,
   "metadata": {},
   "outputs": [],
   "source": [
    "def exfun(x, a):\n",
    "    return np.exp(-x*lb_avg/(2*a))\n",
    "nt = np.arange(5)\n",
    "#nt += 1\n",
    "plt.scatter(nt, cor_n6[0])\n",
    "# a-axis is the number of bond lengths away \n",
    "plt.plot(nt,exfun(nt, pers_n6))\n",
    "plt.ylim(0,1.2)"
   ]
  },
  {
   "cell_type": "markdown",
   "metadata": {},
   "source": [
    "## N = 8 water"
   ]
  },
  {
   "cell_type": "code",
   "execution_count": 34,
   "metadata": {},
   "outputs": [],
   "source": [
    "n8_plga_wat = mda.Universe(\"n8_plga_50ns/0_xa_soln/confout.gro\", \"n8_plga_50ns/0_xa_soln/nopbc_traj.xtc\")"
   ]
  },
  {
   "cell_type": "code",
   "execution_count": 35,
   "metadata": {},
   "outputs": [
    {
     "data": {
      "text/plain": [
       "<Universe with 12609 atoms>"
      ]
     },
     "execution_count": 35,
     "metadata": {},
     "output_type": "execute_result"
    }
   ],
   "source": [
    "n8_plga_wat"
   ]
  },
  {
   "cell_type": "code",
   "execution_count": 36,
   "metadata": {},
   "outputs": [],
   "source": [
    "#Select the polymer heavy atoms \n",
    "poly_n8 = n8_plga_wat.select_atoms(\"resname sPLG PLG tPLG and not type H\")"
   ]
  },
  {
   "cell_type": "code",
   "execution_count": 37,
   "metadata": {},
   "outputs": [
    {
     "data": {
      "text/plain": [
       "5001"
      ]
     },
     "execution_count": 37,
     "metadata": {},
     "output_type": "execute_result"
    }
   ],
   "source": [
    "len(n8_plga_wat.trajectory)"
   ]
  },
  {
   "cell_type": "code",
   "execution_count": 39,
   "metadata": {},
   "outputs": [
    {
     "data": {
      "text/plain": [
       "5.419908626450464"
      ]
     },
     "execution_count": 39,
     "metadata": {},
     "output_type": "execute_result"
    }
   ],
   "source": [
    "com_bond_n8 = np.zeros(shape=(1,5000))\n",
    "count = 0\n",
    "for ts in n8_plga_wat.trajectory[0:5000]:\n",
    "    n8_mon1 = n8_plga_wat.select_atoms(\"resid 1\")\n",
    "    n8_mon2 = n8_plga_wat.select_atoms(\"resid 2\")\n",
    "    oo_len = mda.analysis.distances.distance_array(n8_mon1.center_of_mass(), n8_mon2.center_of_mass(), \n",
    "                                                   box=n8_plga_wat.trajectory.ts.dimensions)\n",
    "    com_bond_n8[0, count] = oo_len\n",
    "    count += 1\n",
    "lb_avg_n8 = np.mean(com_bond_n8)\n",
    "lb_avg_n8"
   ]
  },
  {
   "cell_type": "code",
   "execution_count": null,
   "metadata": {},
   "outputs": [],
   "source": [
    "plt.scatter(np.arange(5000),com_bond_n8)\n",
    "plt.scatter(np.arange(5000),com_bond)"
   ]
  },
  {
   "cell_type": "code",
   "execution_count": null,
   "metadata": {},
   "outputs": [],
   "source": [
    "lb_avg_n8"
   ]
  },
  {
   "cell_type": "code",
   "execution_count": null,
   "metadata": {},
   "outputs": [],
   "source": [
    "lb_avg"
   ]
  },
  {
   "cell_type": "code",
   "execution_count": null,
   "metadata": {},
   "outputs": [],
   "source": [
    "n8_blks = bavg_pers_cnt(5, poly_n8, n8_plga_wat, lb_avg, 0 , 5000)"
   ]
  },
  {
   "cell_type": "code",
   "execution_count": null,
   "metadata": {},
   "outputs": [],
   "source": [
    "n8_blks[\"Avg persistence length\"]"
   ]
  },
  {
   "cell_type": "code",
   "execution_count": null,
   "metadata": {},
   "outputs": [],
   "source": [
    "n8_blks[\"Avg Radius of gyration\"]"
   ]
  },
  {
   "cell_type": "code",
   "execution_count": 40,
   "metadata": {},
   "outputs": [],
   "source": [
    "n8_rgens, cor_n8_mat, rg_avgn8 = get_rg_pers_poly(poly_n8, n8_plga_wat, 0, 5000, lb_avg)"
   ]
  },
  {
   "cell_type": "code",
   "execution_count": 41,
   "metadata": {},
   "outputs": [
    {
     "data": {
      "text/plain": [
       "array([[1.00000000e+00, 7.83997871e-01, 5.26026861e-01, 3.72849503e-01,\n",
       "        2.77911770e-01, 2.30961802e-01, 2.70035833e-01],\n",
       "       [4.12429549e-17, 4.87656382e-02, 1.14853285e-01, 1.94616388e-01,\n",
       "        2.93427907e-01, 4.09681649e-01, 5.30065773e-01],\n",
       "       [0.00000000e+00, 3.81441306e+01, 5.79099027e+01, 6.75021816e+01,\n",
       "        7.28586935e+01, 7.52401371e+01, 7.19311438e+01],\n",
       "       [1.00000000e+00, 2.00000000e+00, 3.00000000e+00, 4.00000000e+00,\n",
       "        5.00000000e+00, 6.00000000e+00, 7.00000000e+00]])"
      ]
     },
     "execution_count": 41,
     "metadata": {},
     "output_type": "execute_result"
    }
   ],
   "source": [
    "cor_n8_mat"
   ]
  },
  {
   "cell_type": "code",
   "execution_count": 42,
   "metadata": {},
   "outputs": [
    {
     "data": {
      "text/plain": [
       "array([1.        , 0.78399787, 0.52602686, 0.3728495 , 0.27791177,\n",
       "       0.2309618 , 0.27003583])"
      ]
     },
     "execution_count": 42,
     "metadata": {},
     "output_type": "execute_result"
    }
   ],
   "source": [
    "cor_n8_mat[0]"
   ]
  },
  {
   "cell_type": "code",
   "execution_count": 43,
   "metadata": {},
   "outputs": [
    {
     "data": {
      "text/plain": [
       "array([4.12429549e-17, 4.87656382e-02, 1.14853285e-01, 1.94616388e-01,\n",
       "       2.93427907e-01, 4.09681649e-01, 5.30065773e-01])"
      ]
     },
     "execution_count": 43,
     "metadata": {},
     "output_type": "execute_result"
    }
   ],
   "source": [
    "cor_n8_mat[1]"
   ]
  },
  {
   "cell_type": "code",
   "execution_count": 44,
   "metadata": {},
   "outputs": [
    {
     "data": {
      "text/plain": [
       "array([3.18016404e-17, 4.37645965e-02, 1.62462228e-01, 3.76347067e-01,\n",
       "       7.66664088e-01])"
      ]
     },
     "execution_count": 44,
     "metadata": {},
     "output_type": "execute_result"
    }
   ],
   "source": [
    "mk_n8 = cor_n8_mat[1]/cor_n8_mat[0]\n",
    "mk_n8 /= 2\n",
    "mk"
   ]
  },
  {
   "cell_type": "code",
   "execution_count": 75,
   "metadata": {},
   "outputs": [
    {
     "data": {
      "text/plain": [
       "array([4.12429549e-17, 6.22012380e-02, 2.18341102e-01, 5.21970357e-01,\n",
       "       1.05583116e+00, 1.77380695e+00, 1.96294605e+00])"
      ]
     },
     "execution_count": 75,
     "metadata": {},
     "output_type": "execute_result"
    }
   ],
   "source": [
    "cor_n8_mat[1]/cor_n8_mat[0]"
   ]
  },
  {
   "cell_type": "code",
   "execution_count": 76,
   "metadata": {},
   "outputs": [
    {
     "data": {
      "text/plain": [
       "5.691897446005937"
      ]
     },
     "execution_count": 76,
     "metadata": {},
     "output_type": "execute_result"
    }
   ],
   "source": [
    "# For some reason, fit does not work if lb_avg is in angstroms\n",
    "lb_avg = np.mean(com_bond)\n",
    "#lb_avg /= 10\n",
    "lb_avg"
   ]
  },
  {
   "cell_type": "code",
   "execution_count": 77,
   "metadata": {},
   "outputs": [
    {
     "data": {
      "text/plain": [
       "array([  0.        ,  -2.84594872,  -5.69189745,  -8.53784617,\n",
       "       -11.38379489, -14.22974362, -17.07569234])"
      ]
     },
     "execution_count": 77,
     "metadata": {},
     "output_type": "execute_result"
    }
   ],
   "source": [
    "# x values\n",
    "nt_ttn8 = np.arange(7, dtype=float)\n",
    "nt_ttn8 *= lb_avg/-2\n",
    "nt_ttn8[0] = 0\n",
    "nt_ttn8"
   ]
  },
  {
   "cell_type": "code",
   "execution_count": 78,
   "metadata": {},
   "outputs": [
    {
     "data": {
      "text/plain": [
       "array([ 0.        , -0.24334897, -0.642403  , -0.98658042, -1.28045159,\n",
       "       -1.46550294, -1.30920061])"
      ]
     },
     "execution_count": 78,
     "metadata": {},
     "output_type": "execute_result"
    }
   ],
   "source": [
    "# y values\n",
    "n8lc = np.log(cor_n8_mat[0])\n",
    "n8lc[:8]"
   ]
  },
  {
   "cell_type": "code",
   "execution_count": 79,
   "metadata": {},
   "outputs": [
    {
     "name": "stdout",
     "output_type": "stream",
     "text": [
      "Model slope:     [0.10820624]\n",
      "Model intercept: 0.0\n"
     ]
    }
   ],
   "source": [
    "from sklearn.linear_model import LinearRegression\n",
    "model_n8 = LinearRegression(fit_intercept=False)\n",
    "model_n8.fit(nt_ttn8[:6].reshape(-1,1), n8lc[:6])\n",
    "# Slope here is in nanometers\n",
    "print(\"Model slope:    \", model_n8.coef_)\n",
    "print(\"Model intercept:\", model_n8.intercept_)"
   ]
  },
  {
   "cell_type": "code",
   "execution_count": 80,
   "metadata": {},
   "outputs": [
    {
     "data": {
      "text/plain": [
       "array([ 0.        , -0.30794941, -0.61589881, -0.92384822, -1.23179762,\n",
       "       -1.53974703, -1.84769643])"
      ]
     },
     "execution_count": 80,
     "metadata": {},
     "output_type": "execute_result"
    }
   ],
   "source": [
    "gg_n8 = model_n8.predict(nt_ttn8.reshape(-1,1))\n",
    "gg_n8"
   ]
  },
  {
   "cell_type": "code",
   "execution_count": 81,
   "metadata": {},
   "outputs": [
    {
     "data": {
      "text/plain": [
       "array([9.24161136])"
      ]
     },
     "execution_count": 81,
     "metadata": {},
     "output_type": "execute_result"
    }
   ],
   "source": [
    "pers_n8 = 1/model_n8.coef_\n",
    "pers_n8"
   ]
  },
  {
   "cell_type": "code",
   "execution_count": 82,
   "metadata": {},
   "outputs": [
    {
     "data": {
      "text/plain": [
       "<matplotlib.legend.Legend at 0x1a1d3c6550>"
      ]
     },
     "execution_count": 82,
     "metadata": {},
     "output_type": "execute_result"
    },
    {
     "data": {
      "image/png": "[encoded data removed]",
      "text/plain": [
       "<Figure size 504x504 with 1 Axes>"
      ]
     },
     "metadata": {
      "needs_background": "light"
     },
     "output_type": "display_data"
    }
   ],
   "source": [
    "plt.figure(figsize=(7,7))\n",
    "plt.errorbar(nt_ttn8, np.log(cor_n8_mat[0]), yerr=mk_n8, color='b', linestyle=\"None\",marker='o',\n",
    "     capsize=5, capthick=1, ecolor='black')\n",
    "plt.plot(nt_ttn8, gg_n8, color='b')\n",
    "plt.title(r'Ensemble Averaged ln(Cosine $\\theta$)', fontsize=15)\n",
    "plt.xlabel(r'x = $\\frac{-s}{2}$', fontsize=15)\n",
    "plt.ylabel(r'ln$\\left< Cos(\\theta)\\right >$', fontsize=15)\n",
    "plt.legend([r'N = 8 : p = 9.24 Å ± 0.21'])"
   ]
  },
  {
   "cell_type": "code",
   "execution_count": 83,
   "metadata": {},
   "outputs": [
    {
     "name": "stdout",
     "output_type": "stream",
     "text": [
      "Mean Std Error: 0.04380973658093546\n",
      "R2 score: 0.8408738442157477\n"
     ]
    }
   ],
   "source": [
    "print(\"Mean Std Error:\", sklearn.metrics.mean_squared_error(np.log(cor_n8_mat[0]), gg_n8))\n",
    "print(\"R2 score:\", sklearn.metrics.r2_score(np.log(cor_n8_mat[0]), gg_n8))"
   ]
  },
  {
   "cell_type": "code",
   "execution_count": 84,
   "metadata": {},
   "outputs": [
    {
     "data": {
      "text/plain": [
       "0.2093077556636052"
      ]
     },
     "execution_count": 84,
     "metadata": {},
     "output_type": "execute_result"
    }
   ],
   "source": [
    "## Standard Error in the slope \n",
    "np.sqrt(sklearn.metrics.mean_squared_error(np.log(cor_n8_mat[0]), gg_n8))"
   ]
  },
  {
   "cell_type": "code",
   "execution_count": null,
   "metadata": {},
   "outputs": [],
   "source": []
  },
  {
   "cell_type": "code",
   "execution_count": null,
   "metadata": {},
   "outputs": [],
   "source": [
    "def exfun(x, a):\n",
    "    return np.exp(-x*lb_avg_n8/a)\n",
    "\n",
    "nt = np.arange(7)\n",
    "plt.scatter(nt, cor_n8_mat[0,:])\n",
    "plt.plot(nt,exfun(nt, pers_n8))"
   ]
  },
  {
   "cell_type": "code",
   "execution_count": null,
   "metadata": {},
   "outputs": [],
   "source": [
    "np.mean(n8_blks[\"Avg persistence length\"])"
   ]
  },
  {
   "cell_type": "code",
   "execution_count": null,
   "metadata": {},
   "outputs": [],
   "source": [
    "np.std(n8_blks[\"Avg persistence length\"])"
   ]
  },
  {
   "cell_type": "markdown",
   "metadata": {},
   "source": [
    "## N = 10 water"
   ]
  },
  {
   "cell_type": "code",
   "execution_count": 85,
   "metadata": {},
   "outputs": [],
   "source": [
    "n10_plga_wat = mda.Universe(\"n10_plga_50ns/0_xa_soln/N10_sys.gro\", \"n10_plga_50ns/0_xa_soln/nopbc_10wat.xtc\")"
   ]
  },
  {
   "cell_type": "code",
   "execution_count": 86,
   "metadata": {},
   "outputs": [
    {
     "data": {
      "text/plain": [
       "<Universe with 153 atoms>"
      ]
     },
     "execution_count": 86,
     "metadata": {},
     "output_type": "execute_result"
    }
   ],
   "source": [
    "n10_plga_wat"
   ]
  },
  {
   "cell_type": "code",
   "execution_count": 87,
   "metadata": {},
   "outputs": [
    {
     "data": {
      "text/plain": [
       "5001"
      ]
     },
     "execution_count": 87,
     "metadata": {},
     "output_type": "execute_result"
    }
   ],
   "source": [
    "len(n10_plga_wat.trajectory)"
   ]
  },
  {
   "cell_type": "code",
   "execution_count": 88,
   "metadata": {},
   "outputs": [],
   "source": [
    "poly_n10 = n10_plga_wat.select_atoms(\"resname sPLG PLG tPLG and not type H\")"
   ]
  },
  {
   "cell_type": "code",
   "execution_count": 89,
   "metadata": {},
   "outputs": [],
   "source": [
    "com_bond_n10 = np.zeros(shape=(1,5000))\n",
    "count = 0\n",
    "for ts in n10_plga_wat.trajectory[0:5000]:\n",
    "    n10_mon1 = n10_plga_wat.select_atoms(\"resid 1\")\n",
    "    n10_mon2 = n10_plga_wat.select_atoms(\"resid 2\")\n",
    "    oo_len = mda.analysis.distances.distance_array(n10_mon1.center_of_mass(), n10_mon2.center_of_mass(), \n",
    "                                                   box=n10_plga_wat.trajectory.ts.dimensions)\n",
    "    com_bond_n10[0, count] = oo_len\n",
    "    count += 1\n",
    "lb_avg_n10 = np.mean(com_bond_n10)"
   ]
  },
  {
   "cell_type": "code",
   "execution_count": 90,
   "metadata": {},
   "outputs": [
    {
     "data": {
      "text/plain": [
       "5.591477567959724"
      ]
     },
     "execution_count": 90,
     "metadata": {},
     "output_type": "execute_result"
    }
   ],
   "source": [
    "lb_avg_n10"
   ]
  },
  {
   "cell_type": "code",
   "execution_count": null,
   "metadata": {},
   "outputs": [],
   "source": [
    "plt.scatter(np.arange(5000),com_bond)\n",
    "plt.scatter(np.arange(5000),com_bond_n8)\n",
    "plt.scatter(np.arange(5000),com_bond_n10)"
   ]
  },
  {
   "cell_type": "code",
   "execution_count": 91,
   "metadata": {},
   "outputs": [
    {
     "data": {
      "text/plain": [
       "5.691897446005937"
      ]
     },
     "execution_count": 91,
     "metadata": {},
     "output_type": "execute_result"
    }
   ],
   "source": [
    "lb_avg"
   ]
  },
  {
   "cell_type": "code",
   "execution_count": null,
   "metadata": {},
   "outputs": [],
   "source": [
    "n10_blks = bavg_pers_cnt(5, poly_n10, n10_plga_wat, lb_avg_n10, 0 , 5000)"
   ]
  },
  {
   "cell_type": "code",
   "execution_count": null,
   "metadata": {},
   "outputs": [],
   "source": [
    "# Extended Length of 10 monomer length plga: 6.436 nm \n",
    "n10_blks[\"Avg persistence length\"]"
   ]
  },
  {
   "cell_type": "code",
   "execution_count": null,
   "metadata": {},
   "outputs": [],
   "source": [
    "n10_blks[\"Avg Radius of gyration\"]"
   ]
  },
  {
   "cell_type": "code",
   "execution_count": null,
   "metadata": {},
   "outputs": [],
   "source": [
    "np.mean(n10_blks[\"Avg Radius of gyration\"])"
   ]
  },
  {
   "cell_type": "code",
   "execution_count": null,
   "metadata": {},
   "outputs": [],
   "source": [
    "np.std(n10_blks[\"Avg Radius of gyration\"])"
   ]
  },
  {
   "cell_type": "code",
   "execution_count": null,
   "metadata": {},
   "outputs": [],
   "source": [
    "np.mean(n10_blks[\"Avg persistence length\"])"
   ]
  },
  {
   "cell_type": "code",
   "execution_count": null,
   "metadata": {},
   "outputs": [],
   "source": [
    "np.std(n10_blks[\"Avg persistence length\"])"
   ]
  },
  {
   "cell_type": "code",
   "execution_count": 92,
   "metadata": {},
   "outputs": [],
   "source": [
    "n10_rgens, cor_n10_mat, rg_avgn10 = get_rg_pers_poly(poly_n10, n10_plga_wat, 0, 1000, lb_avg)"
   ]
  },
  {
   "cell_type": "code",
   "execution_count": 93,
   "metadata": {},
   "outputs": [
    {
     "data": {
      "text/plain": [
       "array([[1.00000000e+00, 7.69454567e-01, 5.32674496e-01, 3.71662188e-01,\n",
       "        2.70039235e-01, 4.36857515e-01, 5.39196029e-01, 5.83874181e-01,\n",
       "        4.32196788e-01],\n",
       "       [4.60441493e-17, 3.76884003e-02, 9.32204833e-02, 1.62098542e-01,\n",
       "        2.00560268e-01, 1.43741082e-01, 1.86052247e-01, 2.16977445e-01,\n",
       "        3.55085311e-01],\n",
       "       [0.00000000e+00, 3.95696655e+01, 5.75748243e+01, 6.77733684e+01,\n",
       "        7.39199473e+01, 6.37077776e+01, 5.64830692e+01, 5.25633629e+01,\n",
       "        6.13977092e+01],\n",
       "       [1.00000000e+00, 2.00000000e+00, 3.00000000e+00, 4.00000000e+00,\n",
       "        5.00000000e+00, 6.00000000e+00, 7.00000000e+00, 8.00000000e+00,\n",
       "        9.00000000e+00]])"
      ]
     },
     "execution_count": 93,
     "metadata": {},
     "output_type": "execute_result"
    }
   ],
   "source": [
    "cor_n10_mat"
   ]
  },
  {
   "cell_type": "code",
   "execution_count": 94,
   "metadata": {},
   "outputs": [
    {
     "data": {
      "text/plain": [
       "array([1.        , 0.76945457, 0.5326745 , 0.37166219, 0.27003924,\n",
       "       0.43685752, 0.53919603, 0.58387418, 0.43219679])"
      ]
     },
     "execution_count": 94,
     "metadata": {},
     "output_type": "execute_result"
    }
   ],
   "source": [
    "cor_n10_mat[0]"
   ]
  },
  {
   "cell_type": "code",
   "execution_count": 95,
   "metadata": {},
   "outputs": [
    {
     "data": {
      "text/plain": [
       "array([4.60441493e-17, 3.76884003e-02, 9.32204833e-02, 1.62098542e-01,\n",
       "       2.00560268e-01, 1.43741082e-01, 1.86052247e-01, 2.16977445e-01,\n",
       "       3.55085311e-01])"
      ]
     },
     "execution_count": 95,
     "metadata": {},
     "output_type": "execute_result"
    }
   ],
   "source": [
    "cor_n10_mat[1]"
   ]
  },
  {
   "cell_type": "code",
   "execution_count": 104,
   "metadata": {},
   "outputs": [
    {
     "data": {
      "text/plain": [
       "array([2.30220746e-17, 2.44903350e-02, 8.75022965e-02, 2.18072416e-01,\n",
       "       3.71353940e-01, 1.64517122e-01, 1.72527464e-01, 1.85808392e-01,\n",
       "       4.10791242e-01])"
      ]
     },
     "execution_count": 104,
     "metadata": {},
     "output_type": "execute_result"
    }
   ],
   "source": [
    "mk_n10 = cor_n10_mat[1]/cor_n10_mat[0]\n",
    "mk_n10 /= 2\n",
    "mk_n10"
   ]
  },
  {
   "cell_type": "code",
   "execution_count": 97,
   "metadata": {},
   "outputs": [
    {
     "data": {
      "text/plain": [
       "array([4.60441493e-17, 4.89806701e-02, 1.75004593e-01, 4.36144831e-01,\n",
       "       7.42707879e-01, 3.29034244e-01, 3.45054928e-01, 3.71616784e-01,\n",
       "       8.21582485e-01])"
      ]
     },
     "execution_count": 97,
     "metadata": {},
     "output_type": "execute_result"
    }
   ],
   "source": [
    "cor_n10_mat[1]/cor_n10_mat[0]"
   ]
  },
  {
   "cell_type": "code",
   "execution_count": 98,
   "metadata": {},
   "outputs": [
    {
     "data": {
      "text/plain": [
       "5.691897446005937"
      ]
     },
     "execution_count": 98,
     "metadata": {},
     "output_type": "execute_result"
    }
   ],
   "source": [
    "# For some reason, fit does not work if lb_avg is in angstroms\n",
    "lb_avg = np.mean(com_bond)\n",
    "#lb_avg /= 10\n",
    "lb_avg"
   ]
  },
  {
   "cell_type": "code",
   "execution_count": 99,
   "metadata": {},
   "outputs": [
    {
     "data": {
      "text/plain": [
       "array([  0.        ,  -2.84594872,  -5.69189745,  -8.53784617,\n",
       "       -11.38379489, -14.22974362, -17.07569234, -19.92164106,\n",
       "       -22.76758978])"
      ]
     },
     "execution_count": 99,
     "metadata": {},
     "output_type": "execute_result"
    }
   ],
   "source": [
    "# x values\n",
    "nt_ttn10 = np.arange(9, dtype=float)\n",
    "nt_ttn10 *= lb_avg/-2\n",
    "nt_ttn10[0] = 0\n",
    "nt_ttn10"
   ]
  },
  {
   "cell_type": "code",
   "execution_count": 109,
   "metadata": {},
   "outputs": [
    {
     "data": {
      "text/plain": [
       "array([ 0.        , -0.26207337, -0.62984474, -0.98976993, -1.30918801])"
      ]
     },
     "execution_count": 109,
     "metadata": {},
     "output_type": "execute_result"
    }
   ],
   "source": [
    "# y values\n",
    "n10lc = np.log(cor_n10_mat[0])\n",
    "n10lc[:5]"
   ]
  },
  {
   "cell_type": "code",
   "execution_count": 110,
   "metadata": {},
   "outputs": [
    {
     "name": "stdout",
     "output_type": "stream",
     "text": [
      "Model slope:     [0.11393769]\n",
      "Model intercept: 0.0\n"
     ]
    }
   ],
   "source": [
    "from sklearn.linear_model import LinearRegression\n",
    "model_n10 = LinearRegression(fit_intercept=False)\n",
    "model_n10.fit(nt_ttn10[:5].reshape(-1,1), n10lc[:5])\n",
    "# Slope here is in nanometers\n",
    "print(\"Model slope:    \", model_n10.coef_)\n",
    "print(\"Model intercept:\", model_n10.intercept_)"
   ]
  },
  {
   "cell_type": "code",
   "execution_count": 120,
   "metadata": {},
   "outputs": [
    {
     "data": {
      "text/plain": [
       "array([ 0.        , -0.32426082, -0.64852165, -0.97278247, -1.29704329,\n",
       "       -1.62130412, -1.94556494, -2.26982577, -2.59408659])"
      ]
     },
     "execution_count": 120,
     "metadata": {},
     "output_type": "execute_result"
    }
   ],
   "source": [
    "gg_n10 = model_n10.predict(nt_ttn10.reshape(-1,1))\n",
    "gg_n10"
   ]
  },
  {
   "cell_type": "code",
   "execution_count": 121,
   "metadata": {},
   "outputs": [
    {
     "data": {
      "text/plain": [
       "array([8.77672699])"
      ]
     },
     "execution_count": 121,
     "metadata": {},
     "output_type": "execute_result"
    }
   ],
   "source": [
    "pers_n10 = 1/model_n10.coef_\n",
    "pers_n10"
   ]
  },
  {
   "cell_type": "code",
   "execution_count": 122,
   "metadata": {},
   "outputs": [
    {
     "data": {
      "text/plain": [
       "<matplotlib.legend.Legend at 0x1a1d21d7f0>"
      ]
     },
     "execution_count": 122,
     "metadata": {},
     "output_type": "execute_result"
    },
    {
     "data": {
      "image/png": "[encoded data removed]",
      "text/plain": [
       "<Figure size 504x504 with 1 Axes>"
      ]
     },
     "metadata": {
      "needs_background": "light"
     },
     "output_type": "display_data"
    }
   ],
   "source": [
    "plt.figure(figsize=(7,7))\n",
    "plt.errorbar(nt_ttn10, np.log(cor_n10_mat[0]), yerr=mk_n10, color='b', linestyle=\"None\",marker='o',\n",
    "     capsize=5, capthick=1, ecolor='black')\n",
    "plt.plot(nt_ttn10, gg_n10, color='b')\n",
    "plt.title(r'Ensemble Averaged ln(Cosine $\\theta$)', fontsize=15)\n",
    "plt.xlabel(r'x = $\\frac{-s}{2}$', fontsize=15)\n",
    "plt.ylabel(r'ln$\\left< Cos(\\theta)\\right >$', fontsize=15)\n",
    "plt.legend([r'N = 10 : p = 8.78 Å ± 0.031'])"
   ]
  },
  {
   "cell_type": "code",
   "execution_count": 116,
   "metadata": {},
   "outputs": [
    {
     "name": "stdout",
     "output_type": "stream",
     "text": [
      "Mean Std Error: 0.0009304348523263648\n",
      "R2 score: 0.99585613915127\n"
     ]
    }
   ],
   "source": [
    "print(\"Mean Std Error:\", sklearn.metrics.mean_squared_error(n10lc[:5], model_n10.predict(nt_ttn10[:5].reshape(-1,1))))\n",
    "print(\"R2 score:\", sklearn.metrics.r2_score(n10lc[:5], model_n10.predict(nt_ttn10[:5].reshape(-1,1))))"
   ]
  },
  {
   "cell_type": "code",
   "execution_count": 117,
   "metadata": {},
   "outputs": [
    {
     "data": {
      "text/plain": [
       "0.030503030215478014"
      ]
     },
     "execution_count": 117,
     "metadata": {},
     "output_type": "execute_result"
    }
   ],
   "source": [
    "## Standard Error in the slope \n",
    "np.sqrt(sklearn.metrics.mean_squared_error(n10lc[:5], model_n10.predict(nt_ttn10[:5].reshape(-1,1))))"
   ]
  },
  {
   "cell_type": "code",
   "execution_count": null,
   "metadata": {},
   "outputs": [],
   "source": []
  },
  {
   "cell_type": "code",
   "execution_count": null,
   "metadata": {},
   "outputs": [],
   "source": [
    "def exfun(x, a):\n",
    "    return np.exp(-x*lb_avg/a)\n",
    "\n",
    "nt = np.arange(9)\n",
    "plt.scatter(nt, cor_n10_mat[0,:])\n",
    "plt.plot(nt,exfun(nt, pers_n10))"
   ]
  },
  {
   "cell_type": "markdown",
   "metadata": {},
   "source": [
    "## N = 20 water "
   ]
  },
  {
   "cell_type": "code",
   "execution_count": 123,
   "metadata": {},
   "outputs": [],
   "source": [
    "n20_plga_wat = mda.Universe(\"n20_plga_150ns/0_xa_soln/nowat_n20.gro\", \"n20_plga_150ns/0_xa_soln/N20_nopbcpp.xtc\")"
   ]
  },
  {
   "cell_type": "code",
   "execution_count": 124,
   "metadata": {},
   "outputs": [
    {
     "data": {
      "text/plain": [
       "<Universe with 303 atoms>"
      ]
     },
     "execution_count": 124,
     "metadata": {},
     "output_type": "execute_result"
    }
   ],
   "source": [
    "n20_plga_wat"
   ]
  },
  {
   "cell_type": "code",
   "execution_count": 125,
   "metadata": {},
   "outputs": [
    {
     "data": {
      "text/plain": [
       "15001"
      ]
     },
     "execution_count": 125,
     "metadata": {},
     "output_type": "execute_result"
    }
   ],
   "source": [
    "len(n20_plga_wat.trajectory)"
   ]
  },
  {
   "cell_type": "code",
   "execution_count": 126,
   "metadata": {},
   "outputs": [],
   "source": [
    "poly_n20 = n20_plga_wat.select_atoms(\"resname sPLG PLG tPLG and not type H\")"
   ]
  },
  {
   "cell_type": "code",
   "execution_count": 127,
   "metadata": {},
   "outputs": [],
   "source": [
    "com_bond_n20 = np.zeros(shape=(1,15000))\n",
    "count = 0\n",
    "for ts in n20_plga_wat.trajectory[0:15000]:\n",
    "    n20_mon1 = n20_plga_wat.select_atoms(\"resid 1\")\n",
    "    n20_mon2 = n20_plga_wat.select_atoms(\"resid 2\")\n",
    "    oo_len = mda.analysis.distances.distance_array(n20_mon1.center_of_mass(), n20_mon2.center_of_mass(), \n",
    "                                                   box=n20_plga_wat.trajectory.ts.dimensions)\n",
    "    com_bond_n20[0, count] = oo_len\n",
    "    count += 1\n",
    "lb_avg_n20 = np.mean(com_bond_n20)"
   ]
  },
  {
   "cell_type": "code",
   "execution_count": 128,
   "metadata": {},
   "outputs": [
    {
     "data": {
      "text/plain": [
       "5.5775064834288015"
      ]
     },
     "execution_count": 128,
     "metadata": {},
     "output_type": "execute_result"
    }
   ],
   "source": [
    "lb_avg_n20"
   ]
  },
  {
   "cell_type": "code",
   "execution_count": null,
   "metadata": {},
   "outputs": [],
   "source": [
    "plt.scatter(np.arange(5000),com_bond)\n",
    "plt.scatter(np.arange(5000),com_bond_n8)\n",
    "plt.scatter(np.arange(5000),com_bond_n10)\n",
    "plt.scatter(np.arange(15000),com_bond_n20)"
   ]
  },
  {
   "cell_type": "code",
   "execution_count": null,
   "metadata": {},
   "outputs": [],
   "source": [
    "n20_blks = bavg_pers_cnt(5, poly_n20, n20_plga_wat, lb_avg, 0 , 15000)"
   ]
  },
  {
   "cell_type": "code",
   "execution_count": null,
   "metadata": {},
   "outputs": [],
   "source": [
    "n20_blks[\"Avg persistence length\"]"
   ]
  },
  {
   "cell_type": "code",
   "execution_count": null,
   "metadata": {},
   "outputs": [],
   "source": [
    "n20_blks[\"Avg Radius of gyration\"]"
   ]
  },
  {
   "cell_type": "code",
   "execution_count": null,
   "metadata": {},
   "outputs": [],
   "source": [
    "np.mean(n20_blks[\"Avg Radius of gyration\"])"
   ]
  },
  {
   "cell_type": "code",
   "execution_count": null,
   "metadata": {},
   "outputs": [],
   "source": [
    "np.std(n20_blks[\"Avg Radius of gyration\"])"
   ]
  },
  {
   "cell_type": "code",
   "execution_count": null,
   "metadata": {},
   "outputs": [],
   "source": [
    "np.mean(n20_blks[\"Avg persistence length\"])"
   ]
  },
  {
   "cell_type": "code",
   "execution_count": null,
   "metadata": {},
   "outputs": [],
   "source": [
    "np.std(n20_blks[\"Avg persistence length\"])"
   ]
  },
  {
   "cell_type": "code",
   "execution_count": null,
   "metadata": {},
   "outputs": [],
   "source": [
    "n20_rgens, cor_n20_mat, pers_n20, rg_avgn20 = get_rg_pers_poly(poly_n20, n20_plga_wat, 0, 15000, lb_avg)"
   ]
  },
  {
   "cell_type": "code",
   "execution_count": null,
   "metadata": {},
   "outputs": [],
   "source": [
    "cor_n20_mat"
   ]
  },
  {
   "cell_type": "code",
   "execution_count": null,
   "metadata": {},
   "outputs": [],
   "source": [
    "cor_n20_mat[0]"
   ]
  },
  {
   "cell_type": "code",
   "execution_count": null,
   "metadata": {},
   "outputs": [],
   "source": [
    "cor_n20_mat[1]"
   ]
  },
  {
   "cell_type": "code",
   "execution_count": null,
   "metadata": {},
   "outputs": [],
   "source": [
    "mk_n10 = cor_n10_mat[1]/cor_n10_mat[0]\n",
    "mk_n10 /= 2\n",
    "mk_n10"
   ]
  },
  {
   "cell_type": "code",
   "execution_count": null,
   "metadata": {},
   "outputs": [],
   "source": []
  },
  {
   "cell_type": "code",
   "execution_count": null,
   "metadata": {},
   "outputs": [],
   "source": []
  },
  {
   "cell_type": "code",
   "execution_count": null,
   "metadata": {},
   "outputs": [],
   "source": []
  },
  {
   "cell_type": "code",
   "execution_count": null,
   "metadata": {},
   "outputs": [],
   "source": []
  },
  {
   "cell_type": "code",
   "execution_count": null,
   "metadata": {},
   "outputs": [],
   "source": []
  },
  {
   "cell_type": "code",
   "execution_count": null,
   "metadata": {},
   "outputs": [],
   "source": []
  },
  {
   "cell_type": "code",
   "execution_count": null,
   "metadata": {},
   "outputs": [],
   "source": [
    "def exfun(x, a):\n",
    "    return np.exp(-x*lb_avg/a)\n",
    "\n",
    "nt = np.arange(19)\n",
    "plt.scatter(nt, cor_n20_mat[0,:])\n",
    "plt.plot(nt,exfun(nt, pers_n10))"
   ]
  },
  {
   "cell_type": "code",
   "execution_count": null,
   "metadata": {},
   "outputs": [],
   "source": []
  },
  {
   "cell_type": "markdown",
   "metadata": {},
   "source": [
    "## N= 30 water"
   ]
  },
  {
   "cell_type": "code",
   "execution_count": null,
   "metadata": {},
   "outputs": [],
   "source": [
    "n30_plga_wat = mda.Universe(\"n30_plga_150ns/0_xa_soln/0xa_n30sys.gro\", \"n30_plga_150ns/0_xa_soln/N30_nopbcpp_0xa.xtc\")"
   ]
  },
  {
   "cell_type": "code",
   "execution_count": null,
   "metadata": {},
   "outputs": [],
   "source": [
    "n30_plga_wat"
   ]
  },
  {
   "cell_type": "code",
   "execution_count": null,
   "metadata": {},
   "outputs": [],
   "source": [
    "len(n30_plga_wat.trajectory)"
   ]
  },
  {
   "cell_type": "code",
   "execution_count": null,
   "metadata": {},
   "outputs": [],
   "source": [
    "poly_n30 = n30_plga_wat.select_atoms(\"resname sPLG PLG tPLG and not type H\")"
   ]
  },
  {
   "cell_type": "code",
   "execution_count": null,
   "metadata": {},
   "outputs": [],
   "source": [
    "com_bond_n30 = np.zeros(shape=(1,15000))\n",
    "count = 0\n",
    "for ts in n30_plga_wat.trajectory[0:15000]:\n",
    "    n30_mon1 = n30_plga_wat.select_atoms(\"resid 1\")\n",
    "    n30_mon2 = n30_plga_wat.select_atoms(\"resid 2\")\n",
    "    oo_len = mda.analysis.distances.distance_array(n30_mon1.center_of_mass(), n30_mon2.center_of_mass(), \n",
    "                                                   box=n30_plga_wat.trajectory.ts.dimensions)\n",
    "    com_bond_n30[0, count] = oo_len\n",
    "    count += 1\n",
    "lb_avg_n30 = np.mean(com_bond_n30)"
   ]
  },
  {
   "cell_type": "code",
   "execution_count": null,
   "metadata": {},
   "outputs": [],
   "source": [
    "lb_avg_n30"
   ]
  },
  {
   "cell_type": "code",
   "execution_count": null,
   "metadata": {},
   "outputs": [],
   "source": [
    "n30_blks = bavg_pers_cnt(5, poly_n30, n30_plga_wat, lb_avg, 0 , 15000)"
   ]
  },
  {
   "cell_type": "code",
   "execution_count": null,
   "metadata": {},
   "outputs": [],
   "source": [
    "n30_blks[\"Avg persistence length\"]"
   ]
  },
  {
   "cell_type": "code",
   "execution_count": null,
   "metadata": {},
   "outputs": [],
   "source": [
    "n30_blks[\"Avg Radius of gyration\"]"
   ]
  },
  {
   "cell_type": "code",
   "execution_count": null,
   "metadata": {},
   "outputs": [],
   "source": [
    "np.mean(n30_blks[\"Avg persistence length\"])"
   ]
  },
  {
   "cell_type": "code",
   "execution_count": null,
   "metadata": {},
   "outputs": [],
   "source": [
    "np.std(n30_blks[\"Avg persistence length\"])"
   ]
  },
  {
   "cell_type": "code",
   "execution_count": null,
   "metadata": {},
   "outputs": [],
   "source": [
    "n30_rgens, cor_n30_mat, pers_n30, rg_avgn30 = get_rg_pers_poly(poly_n30, n30_plga_wat, 0, 15000, lb_avg)"
   ]
  },
  {
   "cell_type": "code",
   "execution_count": null,
   "metadata": {},
   "outputs": [],
   "source": [
    "cor_n30_mat"
   ]
  },
  {
   "cell_type": "code",
   "execution_count": null,
   "metadata": {},
   "outputs": [],
   "source": [
    "cor_n30_mat[0]"
   ]
  },
  {
   "cell_type": "code",
   "execution_count": null,
   "metadata": {},
   "outputs": [],
   "source": [
    "pers_n30"
   ]
  },
  {
   "cell_type": "code",
   "execution_count": null,
   "metadata": {},
   "outputs": [],
   "source": [
    "def exfun(x, a):\n",
    "    return np.exp(-x*lb_avg/a)\n",
    "\n",
    "nt = np.arange(29)\n",
    "plt.scatter(nt, cor_n30_mat[0,:])\n",
    "plt.plot(nt,exfun(nt, pers_n30))"
   ]
  },
  {
   "cell_type": "markdown",
   "metadata": {},
   "source": [
    "### Acetone systems only"
   ]
  },
  {
   "cell_type": "markdown",
   "metadata": {},
   "source": [
    "## N = 6 acetone"
   ]
  },
  {
   "cell_type": "code",
   "execution_count": null,
   "metadata": {},
   "outputs": [],
   "source": [
    "n6_plga_ace = mda.Universe(\"n6_plga_50ns/1_xa_soln/confout.gro\", \"n6_plga_50ns/1_xa_soln/nopbc_n6ace.xtc\")"
   ]
  },
  {
   "cell_type": "code",
   "execution_count": null,
   "metadata": {},
   "outputs": [],
   "source": [
    "n6_plga_ace"
   ]
  },
  {
   "cell_type": "code",
   "execution_count": null,
   "metadata": {},
   "outputs": [],
   "source": [
    "len(n6_plga_ace.trajectory)"
   ]
  },
  {
   "cell_type": "code",
   "execution_count": null,
   "metadata": {},
   "outputs": [],
   "source": [
    "poly_n6_ace = n6_plga_ace.select_atoms(\"resname sPLG PLG tPLG and not type H\")"
   ]
  },
  {
   "cell_type": "code",
   "execution_count": null,
   "metadata": {},
   "outputs": [],
   "source": [
    "com_bond_n6ace = np.zeros(shape=(1,5000))\n",
    "count = 0\n",
    "for ts in n6_plga_ace.trajectory[0:5000]:\n",
    "    n6_mon1 = n6_plga_ace.select_atoms(\"resid 1\")\n",
    "    n6_mon2 = n6_plga_ace.select_atoms(\"resid 2\")\n",
    "    oo_len = mda.analysis.distances.distance_array(n6_mon1.center_of_mass(), n6_mon2.center_of_mass(), \n",
    "                                                   box=n6_plga_ace.trajectory.ts.dimensions)\n",
    "    com_bond_n6ace[0, count] = oo_len\n",
    "    count += 1\n",
    "lb_avg_n6ace = np.mean(com_bond_n6ace)"
   ]
  },
  {
   "cell_type": "code",
   "execution_count": null,
   "metadata": {},
   "outputs": [],
   "source": [
    "lb_avg_n6ace"
   ]
  },
  {
   "cell_type": "code",
   "execution_count": null,
   "metadata": {},
   "outputs": [],
   "source": [
    "plt.scatter(np.arange(5000),com_bond_n6ace)\n"
   ]
  },
  {
   "cell_type": "code",
   "execution_count": null,
   "metadata": {},
   "outputs": [],
   "source": [
    "n6_blks_ace = bavg_pers_cnt(5, poly_n6_ace, n6_plga_ace, lb_avg_n6ace, 0 , 5000)"
   ]
  },
  {
   "cell_type": "code",
   "execution_count": null,
   "metadata": {},
   "outputs": [],
   "source": [
    "n6_blks_ace[\"Avg persistence length\"]"
   ]
  },
  {
   "cell_type": "code",
   "execution_count": null,
   "metadata": {},
   "outputs": [],
   "source": [
    "n6_blks_ace[\"Avg Radius of gyration\"]"
   ]
  },
  {
   "cell_type": "code",
   "execution_count": null,
   "metadata": {},
   "outputs": [],
   "source": [
    "np.mean(n6_blks_ace[\"Avg persistence length\"])"
   ]
  },
  {
   "cell_type": "code",
   "execution_count": null,
   "metadata": {},
   "outputs": [],
   "source": [
    "np.std(n6_blks_ace[\"Avg persistence length\"])"
   ]
  },
  {
   "cell_type": "code",
   "execution_count": null,
   "metadata": {},
   "outputs": [],
   "source": [
    "np.mean(n6_blks_ace[\"Avg Radius of gyration\"])"
   ]
  },
  {
   "cell_type": "code",
   "execution_count": null,
   "metadata": {},
   "outputs": [],
   "source": [
    "np.std(n6_blks_ace[\"Avg Radius of gyration\"])"
   ]
  },
  {
   "cell_type": "code",
   "execution_count": null,
   "metadata": {},
   "outputs": [],
   "source": [
    "n6_rgens_ace, cor_n6ace_mat, pers_n6ace, rg_avgnace = get_rg_pers_poly(poly_n6_ace, n6_plga_ace, 0, 5000, lb_avg_n6ace)"
   ]
  },
  {
   "cell_type": "code",
   "execution_count": null,
   "metadata": {},
   "outputs": [],
   "source": [
    "cor_n6ace_mat"
   ]
  },
  {
   "cell_type": "code",
   "execution_count": null,
   "metadata": {},
   "outputs": [],
   "source": [
    "cor_n6ace_mat[0]"
   ]
  },
  {
   "cell_type": "code",
   "execution_count": null,
   "metadata": {},
   "outputs": [],
   "source": [
    "pers_n6ace"
   ]
  },
  {
   "cell_type": "code",
   "execution_count": null,
   "metadata": {},
   "outputs": [],
   "source": [
    "def exfun(x, a):\n",
    "    return np.exp(-x*lb_avg_n6ace/a)\n",
    "\n",
    "nt = np.arange(5)\n",
    "plt.scatter(nt, cor_n6ace_mat[0,:])\n",
    "plt.plot(nt,exfun(nt, pers_n6ace))"
   ]
  },
  {
   "cell_type": "markdown",
   "metadata": {},
   "source": [
    "## N = 8 acetone"
   ]
  },
  {
   "cell_type": "code",
   "execution_count": null,
   "metadata": {},
   "outputs": [],
   "source": [
    "n8_plga_ace = mda.Universe(\"n8_plga_50ns/1_xa_soln/confout.gro\", \"n8_plga_50ns/1_xa_soln/nopbc_n8ace.xtc\")"
   ]
  },
  {
   "cell_type": "code",
   "execution_count": null,
   "metadata": {},
   "outputs": [],
   "source": [
    "n8_plga_ace"
   ]
  },
  {
   "cell_type": "code",
   "execution_count": null,
   "metadata": {},
   "outputs": [],
   "source": [
    "len(n8_plga_ace.trajectory)"
   ]
  },
  {
   "cell_type": "code",
   "execution_count": null,
   "metadata": {},
   "outputs": [],
   "source": [
    "poly_n8_ace = n8_plga_ace.select_atoms(\"resname sPLG PLG tPLG and not type H\")"
   ]
  },
  {
   "cell_type": "code",
   "execution_count": null,
   "metadata": {},
   "outputs": [],
   "source": [
    "com_bond_n8ace = np.zeros(shape=(1,5000))\n",
    "count = 0\n",
    "for ts in n8_plga_ace.trajectory[0:5000]:\n",
    "    n8_mon1 = n8_plga_ace.select_atoms(\"resid 1\")\n",
    "    n8_mon2 = n8_plga_ace.select_atoms(\"resid 2\")\n",
    "    oo_len = mda.analysis.distances.distance_array(n8_mon1.center_of_mass(), n8_mon2.center_of_mass(), \n",
    "                                                   box=n8_plga_ace.trajectory.ts.dimensions)\n",
    "    com_bond_n8ace[0, count] = oo_len\n",
    "    count += 1\n",
    "lb_avg_n8ace = np.mean(com_bond_n8ace)"
   ]
  },
  {
   "cell_type": "code",
   "execution_count": null,
   "metadata": {},
   "outputs": [],
   "source": [
    "lb_avg_n8ace"
   ]
  },
  {
   "cell_type": "code",
   "execution_count": null,
   "metadata": {},
   "outputs": [],
   "source": [
    "plt.scatter(np.arange(5000),com_bond_n6ace)\n",
    "plt.scatter(np.arange(5000),com_bond_n8ace)"
   ]
  },
  {
   "cell_type": "code",
   "execution_count": null,
   "metadata": {},
   "outputs": [],
   "source": [
    "n8_blks_ace = bavg_pers_cnt(5, poly_n8_ace, n8_plga_ace, lb_avg_n6ace, 0 , 5000)"
   ]
  },
  {
   "cell_type": "code",
   "execution_count": null,
   "metadata": {},
   "outputs": [],
   "source": [
    "n8_blks_ace[\"Avg persistence length\"]"
   ]
  },
  {
   "cell_type": "code",
   "execution_count": null,
   "metadata": {},
   "outputs": [],
   "source": [
    "n8_blks_ace[\"Avg Radius of gyration\"]"
   ]
  },
  {
   "cell_type": "code",
   "execution_count": null,
   "metadata": {},
   "outputs": [],
   "source": [
    "np.mean(n8_blks_ace[\"Avg persistence length\"])"
   ]
  },
  {
   "cell_type": "code",
   "execution_count": null,
   "metadata": {},
   "outputs": [],
   "source": [
    "np.std(n8_blks_ace[\"Avg persistence length\"])"
   ]
  },
  {
   "cell_type": "code",
   "execution_count": null,
   "metadata": {},
   "outputs": [],
   "source": [
    "np.mean(n8_blks_ace[\"Avg Radius of gyration\"])"
   ]
  },
  {
   "cell_type": "code",
   "execution_count": null,
   "metadata": {},
   "outputs": [],
   "source": [
    "np.std(n8_blks_ace[\"Avg Radius of gyration\"])"
   ]
  },
  {
   "cell_type": "code",
   "execution_count": null,
   "metadata": {},
   "outputs": [],
   "source": [
    "n8_rgens_ace, cor_n8ace_mat, pers_n8ace, rg_avgn8ace = get_rg_pers_poly(poly_n8_ace, n8_plga_ace, 0, 5000, \n",
    "                                                                        lb_avg_n6ace)"
   ]
  },
  {
   "cell_type": "code",
   "execution_count": null,
   "metadata": {},
   "outputs": [],
   "source": [
    "cor_n8ace_mat"
   ]
  },
  {
   "cell_type": "code",
   "execution_count": null,
   "metadata": {},
   "outputs": [],
   "source": [
    "cor_n8ace_mat[0]"
   ]
  },
  {
   "cell_type": "code",
   "execution_count": null,
   "metadata": {},
   "outputs": [],
   "source": [
    "pers_n8ace"
   ]
  },
  {
   "cell_type": "code",
   "execution_count": null,
   "metadata": {},
   "outputs": [],
   "source": [
    "def exfun(x, a):\n",
    "    return np.exp(-x*lb_avg_n6ace/a)\n",
    "\n",
    "nt = np.arange(7)\n",
    "plt.scatter(nt, cor_n8ace_mat[0,:])\n",
    "plt.plot(nt,exfun(nt, pers_n8ace))"
   ]
  },
  {
   "cell_type": "markdown",
   "metadata": {},
   "source": [
    "## N = 10 acetone"
   ]
  },
  {
   "cell_type": "code",
   "execution_count": null,
   "metadata": {},
   "outputs": [],
   "source": [
    "n10_plga_ace = mda.Universe(\"n10_plga_50ns/1_xa_soln/confout.gro\", \"n10_plga_50ns/1_xa_soln/nopbc_n10ace.xtc\")"
   ]
  },
  {
   "cell_type": "code",
   "execution_count": null,
   "metadata": {},
   "outputs": [],
   "source": [
    "n10_plga_ace"
   ]
  },
  {
   "cell_type": "code",
   "execution_count": null,
   "metadata": {},
   "outputs": [],
   "source": [
    "len(n10_plga_ace.trajectory)"
   ]
  },
  {
   "cell_type": "code",
   "execution_count": null,
   "metadata": {},
   "outputs": [],
   "source": [
    "poly_n10_ace = n10_plga_ace.select_atoms(\"resname sPLG PLG tPLG and not type H\")"
   ]
  },
  {
   "cell_type": "code",
   "execution_count": null,
   "metadata": {},
   "outputs": [],
   "source": [
    "com_bond_n10ace = np.zeros(shape=(1,5000))\n",
    "count = 0\n",
    "for ts in n10_plga_ace.trajectory[0:5000]:\n",
    "    n10_mon1 = n10_plga_ace.select_atoms(\"resid 1\")\n",
    "    n10_mon2 = n10_plga_ace.select_atoms(\"resid 2\")\n",
    "    oo_len = mda.analysis.distances.distance_array(n10_mon1.center_of_mass(), n10_mon2.center_of_mass(), \n",
    "                                                   box=n10_plga_ace.trajectory.ts.dimensions)\n",
    "    com_bond_n10ace[0, count] = oo_len\n",
    "    count += 1\n",
    "lb_avg_n10ace = np.mean(com_bond_n10ace)"
   ]
  },
  {
   "cell_type": "code",
   "execution_count": null,
   "metadata": {},
   "outputs": [],
   "source": [
    "lb_avg_n10ace"
   ]
  },
  {
   "cell_type": "code",
   "execution_count": null,
   "metadata": {},
   "outputs": [],
   "source": [
    "plt.scatter(np.arange(5000),com_bond_n6ace)\n",
    "plt.scatter(np.arange(5000),com_bond_n8ace)\n",
    "plt.scatter(np.arange(5000),com_bond_n10ace)"
   ]
  },
  {
   "cell_type": "code",
   "execution_count": null,
   "metadata": {},
   "outputs": [],
   "source": [
    "n10_blks_ace = bavg_pers_cnt(5, poly_n10_ace, n10_plga_ace, lb_avg_n10ace, 0 , 5000)"
   ]
  },
  {
   "cell_type": "code",
   "execution_count": null,
   "metadata": {},
   "outputs": [],
   "source": [
    "n10_blks_ace[\"Avg persistence length\"]"
   ]
  },
  {
   "cell_type": "code",
   "execution_count": null,
   "metadata": {},
   "outputs": [],
   "source": [
    "n10_blks_ace[\"Avg Radius of gyration\"]"
   ]
  },
  {
   "cell_type": "code",
   "execution_count": null,
   "metadata": {},
   "outputs": [],
   "source": [
    "np.mean(n10_blks_ace[\"Avg persistence length\"])"
   ]
  },
  {
   "cell_type": "code",
   "execution_count": null,
   "metadata": {},
   "outputs": [],
   "source": [
    "np.std(n10_blks_ace[\"Avg persistence length\"])"
   ]
  },
  {
   "cell_type": "code",
   "execution_count": null,
   "metadata": {},
   "outputs": [],
   "source": [
    "np.mean(n10_blks_ace[\"Avg Radius of gyration\"])"
   ]
  },
  {
   "cell_type": "code",
   "execution_count": null,
   "metadata": {},
   "outputs": [],
   "source": [
    "np.std(n10_blks_ace[\"Avg Radius of gyration\"])"
   ]
  },
  {
   "cell_type": "code",
   "execution_count": null,
   "metadata": {},
   "outputs": [],
   "source": [
    "n10_rgens_ace, cor_n10ace_mat, pers_n10ace, rg_avgn10ace = get_rg_pers_poly(poly_n10_ace, n10_plga_ace, 0, 5000, \n",
    "                                                                        lb_avg_n6ace)"
   ]
  },
  {
   "cell_type": "code",
   "execution_count": null,
   "metadata": {},
   "outputs": [],
   "source": [
    "cor_n10ace_mat"
   ]
  },
  {
   "cell_type": "code",
   "execution_count": null,
   "metadata": {},
   "outputs": [],
   "source": [
    "cor_n10ace_mat[0]"
   ]
  },
  {
   "cell_type": "code",
   "execution_count": null,
   "metadata": {},
   "outputs": [],
   "source": [
    "pers_n10ace"
   ]
  },
  {
   "cell_type": "code",
   "execution_count": null,
   "metadata": {},
   "outputs": [],
   "source": [
    "def exfun(x, a):\n",
    "    return np.exp(-x*lb_avg_n6ace/a)\n",
    "\n",
    "nt = np.arange(9)\n",
    "plt.scatter(nt, cor_n10ace_mat[0,:])\n",
    "plt.plot(nt,exfun(nt, pers_n10ace))"
   ]
  },
  {
   "cell_type": "markdown",
   "metadata": {},
   "source": [
    "## N = 20 acetone"
   ]
  },
  {
   "cell_type": "code",
   "execution_count": null,
   "metadata": {},
   "outputs": [],
   "source": [
    "n20_plga_ace = mda.Universe(\"n20_plga_150ns/1_xa_soln/1xa_n20sys.gro\", \"n20_plga_150ns/1_xa_soln/N20_nopbcpp_0xa.xtc\")"
   ]
  },
  {
   "cell_type": "code",
   "execution_count": null,
   "metadata": {},
   "outputs": [],
   "source": [
    "n20_plga_ace"
   ]
  },
  {
   "cell_type": "code",
   "execution_count": null,
   "metadata": {},
   "outputs": [],
   "source": [
    "len(n20_plga_ace.trajectory)"
   ]
  },
  {
   "cell_type": "code",
   "execution_count": null,
   "metadata": {},
   "outputs": [],
   "source": [
    "poly_n20_ace = n20_plga_ace.select_atoms(\"resname sPLG PLG tPLG and not type H\")"
   ]
  },
  {
   "cell_type": "code",
   "execution_count": null,
   "metadata": {},
   "outputs": [],
   "source": [
    "com_bond_n20ace = np.zeros(shape=(1,5000))\n",
    "count = 0\n",
    "for ts in n20_plga_ace.trajectory[0:5000]:\n",
    "    n20_mon1 = n20_plga_ace.select_atoms(\"resid 1\")\n",
    "    n20_mon2 = n20_plga_ace.select_atoms(\"resid 2\")\n",
    "    oo_len = mda.analysis.distances.distance_array(n20_mon1.center_of_mass(), n20_mon2.center_of_mass(), \n",
    "                                                   box=n20_plga_ace.trajectory.ts.dimensions)\n",
    "    com_bond_n20ace[0, count] = oo_len\n",
    "    count += 1\n",
    "lb_avg_n20ace = np.mean(com_bond_n20ace)"
   ]
  },
  {
   "cell_type": "code",
   "execution_count": null,
   "metadata": {},
   "outputs": [],
   "source": [
    "lb_avg_n20ace"
   ]
  },
  {
   "cell_type": "code",
   "execution_count": null,
   "metadata": {},
   "outputs": [],
   "source": [
    "plt.scatter(np.arange(5000),com_bond_n6ace)\n",
    "plt.scatter(np.arange(5000),com_bond_n8ace)\n",
    "plt.scatter(np.arange(5000),com_bond_n10ace)\n",
    "plt.scatter(np.arange(5000),com_bond_n20ace)"
   ]
  },
  {
   "cell_type": "code",
   "execution_count": null,
   "metadata": {},
   "outputs": [],
   "source": [
    "n20_blks_ace = bavg_pers_cnt(5, poly_n20_ace, n20_plga_ace, lb_avg_n6ace, 0 , 15000)"
   ]
  },
  {
   "cell_type": "code",
   "execution_count": null,
   "metadata": {},
   "outputs": [],
   "source": [
    "n20_blks_ace[\"Avg persistence length\"]"
   ]
  },
  {
   "cell_type": "code",
   "execution_count": null,
   "metadata": {},
   "outputs": [],
   "source": [
    "n20_blks_ace[\"Avg Radius of gyration\"]"
   ]
  },
  {
   "cell_type": "code",
   "execution_count": null,
   "metadata": {},
   "outputs": [],
   "source": [
    "np.mean(n20_blks_ace[\"Avg persistence length\"])"
   ]
  },
  {
   "cell_type": "code",
   "execution_count": null,
   "metadata": {},
   "outputs": [],
   "source": [
    "np.std(n20_blks_ace[\"Avg persistence length\"])"
   ]
  },
  {
   "cell_type": "code",
   "execution_count": null,
   "metadata": {},
   "outputs": [],
   "source": [
    "np.mean(n20_blks_ace[\"Avg Radius of gyration\"])"
   ]
  },
  {
   "cell_type": "code",
   "execution_count": null,
   "metadata": {},
   "outputs": [],
   "source": [
    "np.std(n20_blks_ace[\"Avg Radius of gyration\"])"
   ]
  },
  {
   "cell_type": "code",
   "execution_count": null,
   "metadata": {},
   "outputs": [],
   "source": [
    "n20_rgens_ace, cor_n20ace_mat, pers_n20ace, rg_avgn20ace = get_rg_pers_poly(poly_n20_ace, n20_plga_ace, 0, 15000, \n",
    "                                                                        lb_avg_n6ace)"
   ]
  },
  {
   "cell_type": "code",
   "execution_count": null,
   "metadata": {},
   "outputs": [],
   "source": [
    "cor_n20ace_mat"
   ]
  },
  {
   "cell_type": "code",
   "execution_count": null,
   "metadata": {},
   "outputs": [],
   "source": [
    "cor_n20ace_mat[0]"
   ]
  },
  {
   "cell_type": "code",
   "execution_count": null,
   "metadata": {},
   "outputs": [],
   "source": [
    "pers_n20ace"
   ]
  },
  {
   "cell_type": "code",
   "execution_count": null,
   "metadata": {},
   "outputs": [],
   "source": [
    "def exfun(x, a):\n",
    "    return np.exp(-x*lb_avg_n6ace/a)\n",
    "\n",
    "nt = np.arange(19)\n",
    "plt.scatter(nt, cor_n20ace_mat[0,:])\n",
    "plt.plot(nt,exfun(nt, pers_n20ace))"
   ]
  },
  {
   "cell_type": "markdown",
   "metadata": {},
   "source": [
    "## N = 30 acetone"
   ]
  },
  {
   "cell_type": "code",
   "execution_count": null,
   "metadata": {},
   "outputs": [],
   "source": [
    "n30_plga_ace = mda.Universe(\"n30_plga_150ns/1_xa_soln/1xa_n30sys.gro\", \"n30_plga_150ns/1_xa_soln/N30_nopbcpp_1xa.xtc\")"
   ]
  },
  {
   "cell_type": "code",
   "execution_count": null,
   "metadata": {},
   "outputs": [],
   "source": [
    "n30_plga_ace"
   ]
  },
  {
   "cell_type": "code",
   "execution_count": null,
   "metadata": {},
   "outputs": [],
   "source": [
    "len(n30_plga_ace.trajectory)"
   ]
  },
  {
   "cell_type": "code",
   "execution_count": null,
   "metadata": {},
   "outputs": [],
   "source": [
    "poly_n30_ace = n30_plga_ace.select_atoms(\"resname sPLG PLG tPLG and not type H\")"
   ]
  },
  {
   "cell_type": "code",
   "execution_count": null,
   "metadata": {},
   "outputs": [],
   "source": [
    "com_bond_n30ace = np.zeros(shape=(1,5000))\n",
    "count = 0\n",
    "for ts in n30_plga_ace.trajectory[0:5000]:\n",
    "    n30_mon1 = n30_plga_ace.select_atoms(\"resid 1\")\n",
    "    n30_mon2 = n30_plga_ace.select_atoms(\"resid 2\")\n",
    "    oo_len = mda.analysis.distances.distance_array(n30_mon1.center_of_mass(), n30_mon2.center_of_mass(), \n",
    "                                                   box=n30_plga_ace.trajectory.ts.dimensions)\n",
    "    com_bond_n30ace[0, count] = oo_len\n",
    "    count += 1\n",
    "lb_avg_n30ace = np.mean(com_bond_n30ace)"
   ]
  },
  {
   "cell_type": "code",
   "execution_count": null,
   "metadata": {},
   "outputs": [],
   "source": [
    "lb_avg_n30ace"
   ]
  },
  {
   "cell_type": "code",
   "execution_count": null,
   "metadata": {},
   "outputs": [],
   "source": [
    "plt.scatter(np.arange(5000),com_bond_n6ace)\n",
    "plt.scatter(np.arange(5000),com_bond_n8ace)\n",
    "plt.scatter(np.arange(5000),com_bond_n10ace)\n",
    "plt.scatter(np.arange(5000),com_bond_n20ace)\n",
    "plt.scatter(np.arange(5000),com_bond_n30ace)"
   ]
  },
  {
   "cell_type": "code",
   "execution_count": null,
   "metadata": {},
   "outputs": [],
   "source": [
    "n30_blks_ace = bavg_pers_cnt(5, poly_n30_ace, n30_plga_ace, lb_avg_n6ace, 0 , 15000)"
   ]
  },
  {
   "cell_type": "code",
   "execution_count": null,
   "metadata": {},
   "outputs": [],
   "source": [
    "n30_blks_ace[\"Avg persistence length\"]"
   ]
  },
  {
   "cell_type": "code",
   "execution_count": null,
   "metadata": {},
   "outputs": [],
   "source": [
    "n30_blks_ace[\"Avg Radius of gyration\"]"
   ]
  },
  {
   "cell_type": "code",
   "execution_count": null,
   "metadata": {},
   "outputs": [],
   "source": [
    "np.mean(n30_blks_ace[\"Avg persistence length\"])"
   ]
  },
  {
   "cell_type": "code",
   "execution_count": null,
   "metadata": {},
   "outputs": [],
   "source": [
    "np.std(n30_blks_ace[\"Avg persistence length\"])"
   ]
  },
  {
   "cell_type": "code",
   "execution_count": null,
   "metadata": {},
   "outputs": [],
   "source": [
    "np.mean(n30_blks_ace[\"Avg Radius of gyration\"])"
   ]
  },
  {
   "cell_type": "code",
   "execution_count": null,
   "metadata": {},
   "outputs": [],
   "source": [
    "np.std(n30_blks_ace[\"Avg Radius of gyration\"])"
   ]
  },
  {
   "cell_type": "code",
   "execution_count": null,
   "metadata": {},
   "outputs": [],
   "source": [
    "n30_rgens_ace, cor_n30ace_mat, pers_n30ace, rg_avgn30ace = get_rg_pers_poly(poly_n30_ace, n30_plga_ace, 0, 15000, \n",
    "                                                                        lb_avg_n6ace)"
   ]
  },
  {
   "cell_type": "code",
   "execution_count": null,
   "metadata": {},
   "outputs": [],
   "source": [
    "cor_n30ace_mat"
   ]
  },
  {
   "cell_type": "code",
   "execution_count": null,
   "metadata": {},
   "outputs": [],
   "source": [
    "cor_n30ace_mat[0]"
   ]
  },
  {
   "cell_type": "code",
   "execution_count": null,
   "metadata": {},
   "outputs": [],
   "source": [
    "pers_n30ace"
   ]
  },
  {
   "cell_type": "code",
   "execution_count": null,
   "metadata": {},
   "outputs": [],
   "source": []
  },
  {
   "cell_type": "code",
   "execution_count": null,
   "metadata": {},
   "outputs": [],
   "source": [
    "def exfun(x, a):\n",
    "    return np.exp(-x*lb_avg_n6ace/a)\n",
    "\n",
    "nt = np.arange(29)\n",
    "plt.scatter(nt, cor_n30ace_mat[0,:])\n",
    "plt.plot(nt,exfun(nt, pers_n30ace))"
   ]
  },
  {
   "cell_type": "code",
   "execution_count": null,
   "metadata": {},
   "outputs": [],
   "source": []
  }
 ],
 "metadata": {
  "kernelspec": {
   "display_name": "Python (ppc_env)",
   "language": "python",
   "name": "ppc_env"
  },
  "language_info": {
   "codemirror_mode": {
    "name": "ipython",
    "version": 3
   },
   "file_extension": ".py",
   "mimetype": "text/x-python",
   "name": "python",
   "nbconvert_exporter": "python",
   "pygments_lexer": "ipython3",
   "version": "3.6.8"
  }
 },
 "nbformat": 4,
 "nbformat_minor": 2
}
